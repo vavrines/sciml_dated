{
 "cells": [
  {
   "cell_type": "code",
   "execution_count": 2,
   "metadata": {},
   "outputs": [],
   "source": [
    "using DiffEqFlux, OrdinaryDiffEq, Flux, NNlib, MLDataUtils, MLDatasets, Printf\n",
    "using Flux: logitcrossentropy\n",
    "using Flux.Data: DataLoader"
   ]
  },
  {
   "cell_type": "code",
   "execution_count": 5,
   "metadata": {},
   "outputs": [
    {
     "data": {
      "text/plain": [
       "loadmnist (generic function with 3 methods)"
      ]
     },
     "execution_count": 5,
     "metadata": {},
     "output_type": "execute_result"
    }
   ],
   "source": [
    "function loadmnist(batchsize = bs, train_split = 0.9)\n",
    "    # use MLDataUtils LabelEnc for natural onehot conversion\n",
    "    onehot(labels_raw) = convertlabel(LabelEnc.OneOfK, labels_raw, LabelEnc.NativeLabels(collect(0:9)))\n",
    "    # load MNIST\n",
    "    imgs, labels_raw = MNIST.traindata();\n",
    "    # process images into (H,W,C,BS) batches\n",
    "    x_data = Float32.(reshape(imgs, size(imgs,1), size(imgs,2), 1, size(imgs,3)))\n",
    "    y_data = onehot(labels_raw)\n",
    "    (x_train, y_train), (x_test, y_test) = stratifiedobs((x_data, y_data), p = train_split)\n",
    "    return (\n",
    "        # use Flux's DataLoader to automatically minibatch and shuffle the data\n",
    "        DataLoader(cpu.(collect.((x_train, y_train))); batchsize = batchsize, shuffle = true),\n",
    "        # don't shuffle the test data\n",
    "        DataLoader(cpu.(collect.((x_test, y_test))); batchsize = batchsize, shuffle = false)\n",
    "    )\n",
    "end"
   ]
  },
  {
   "cell_type": "code",
   "execution_count": 6,
   "metadata": {},
   "outputs": [
    {
     "data": {
      "text/plain": [
       "(DataLoader{Tuple{Array{Float32,4},Array{Int64,2}}}((Float32[0.0 0.0 … 0.0 0.0; 0.0 0.0 … 0.0 0.0; … ; 0.0 0.0 … 0.0 0.0; 0.0 0.0 … 0.0 0.0]\n",
       "\n",
       "Float32[0.0 0.0 … 0.0 0.0; 0.0 0.0 … 0.0 0.0; … ; 0.0 0.0 … 0.0 0.0; 0.0 0.0 … 0.0 0.0]\n",
       "\n",
       "Float32[0.0 0.0 … 0.0 0.0; 0.0 0.0 … 0.0 0.0; … ; 0.0 0.0 … 0.0 0.0; 0.0 0.0 … 0.0 0.0]\n",
       "\n",
       "...\n",
       "\n",
       "Float32[0.0 0.0 … 0.0 0.0; 0.0 0.0 … 0.0 0.0; … ; 0.0 0.0 … 0.0 0.0; 0.0 0.0 … 0.0 0.0]\n",
       "\n",
       "Float32[0.0 0.0 … 0.0 0.0; 0.0 0.0 … 0.0 0.0; … ; 0.0 0.0 … 0.0 0.0; 0.0 0.0 … 0.0 0.0]\n",
       "\n",
       "Float32[0.0 0.0 … 0.0 0.0; 0.0 0.0 … 0.0 0.0; … ; 0.0 0.0 … 0.0 0.0; 0.0 0.0 … 0.0 0.0], [0 0 … 0 0; 0 0 … 0 0; … ; 0 0 … 0 0; 0 0 … 0 0]), 128, 54000, true, 54000, [1, 2, 3, 4, 5, 6, 7, 8, 9, 10  …  53991, 53992, 53993, 53994, 53995, 53996, 53997, 53998, 53999, 54000], true), DataLoader{Tuple{Array{Float32,4},Array{Int64,2}}}((Float32[0.0 0.0 … 0.0 0.0; 0.0 0.0 … 0.0 0.0; … ; 0.0 0.0 … 0.0 0.0; 0.0 0.0 … 0.0 0.0]\n",
       "\n",
       "Float32[0.0 0.0 … 0.0 0.0; 0.0 0.0 … 0.0 0.0; … ; 0.0 0.0 … 0.0 0.0; 0.0 0.0 … 0.0 0.0]\n",
       "\n",
       "Float32[0.0 0.0 … 0.0 0.0; 0.0 0.0 … 0.0 0.0; … ; 0.0 0.0 … 0.0 0.0; 0.0 0.0 … 0.0 0.0]\n",
       "\n",
       "...\n",
       "\n",
       "Float32[0.0 0.0 … 0.0 0.0; 0.0 0.0 … 0.0 0.0; … ; 0.0 0.0 … 0.0 0.0; 0.0 0.0 … 0.0 0.0]\n",
       "\n",
       "Float32[0.0 0.0 … 0.0 0.0; 0.0 0.0 … 0.0 0.0; … ; 0.0 0.0 … 0.0 0.0; 0.0 0.0 … 0.0 0.0]\n",
       "\n",
       "Float32[0.0 0.0 … 0.0 0.0; 0.0 0.0 … 0.0 0.0; … ; 0.0 0.0 … 0.0 0.0; 0.0 0.0 … 0.0 0.0], [1 0 … 0 0; 0 0 … 0 0; … ; 0 0 … 0 0; 0 0 … 0 0]), 128, 6000, true, 6000, [1, 2, 3, 4, 5, 6, 7, 8, 9, 10  …  5991, 5992, 5993, 5994, 5995, 5996, 5997, 5998, 5999, 6000], false))"
      ]
     },
     "execution_count": 6,
     "metadata": {},
     "output_type": "execute_result"
    }
   ],
   "source": [
    "const bs = 128\n",
    "const train_split = 0.9\n",
    "train_dataloader, test_dataloader = loadmnist(bs, train_split);"
   ]
  },
  {
   "cell_type": "code",
   "execution_count": 52,
   "metadata": {},
   "outputs": [
    {
     "name": "stdout",
     "output_type": "stream",
     "text": [
      "train_dataloader.data[1] |> size = (28, 28, 1, 54000)\n",
      "train_dataloader.data[2] |> size = (10, 54000)\n"
     ]
    },
    {
     "data": {
      "text/plain": [
       "(10, 54000)"
      ]
     },
     "execution_count": 52,
     "metadata": {},
     "output_type": "execute_result"
    }
   ],
   "source": [
    "@show train_dataloader.data[1] |> size\n",
    "@show train_dataloader.data[2] |> size"
   ]
  },
  {
   "cell_type": "code",
   "execution_count": 58,
   "metadata": {},
   "outputs": [
    {
     "data": {
      "text/plain": [
       "Chain(Chain(flatten, Dense(784, 20, tanh)), NeuralODE{Chain{Tuple{Dense{typeof(tanh),Array{Float32,2},Array{Float32,1}},Dense{typeof(tanh),Array{Float32,2},Array{Float32,1}},Dense{typeof(tanh),Array{Float32,2},Array{Float32,1}}}},Array{Float32,1},Flux.var\"#34#36\"{Chain{Tuple{Dense{typeof(tanh),Array{Float32,2},Array{Float32,1}},Dense{typeof(tanh),Array{Float32,2},Array{Float32,1}},Dense{typeof(tanh),Array{Float32,2},Array{Float32,1}}}}},Tuple{Float32,Float32},Tuple{Tsit5},Base.Iterators.Pairs{Symbol,Real,NTuple{4,Symbol},NamedTuple{(:save_everystep, :reltol, :abstol, :save_start),Tuple{Bool,Float64,Float64,Bool}}}}(Chain(Dense(20, 10, tanh), Dense(10, 10, tanh), Dense(10, 20, tanh)), Float32[-0.18468359, 0.4422882, -0.18116233, 0.015536827, 0.3745248, 0.37027827, 0.29794687, 0.08216352, 0.12096443, 0.29873174  …  0.0, 0.0, 0.0, 0.0, 0.0, 0.0, 0.0, 0.0, 0.0, 0.0], Flux.var\"#34#36\"{Chain{Tuple{Dense{typeof(tanh),Array{Float32,2},Array{Float32,1}},Dense{typeof(tanh),Array{Float32,2},Array{Float32,1}},Dense{typeof(tanh),Array{Float32,2},Array{Float32,1}}}}}(Chain(Dense(20, 10, tanh), Dense(10, 10, tanh), Dense(10, 20, tanh))), (0.0f0, 2.0f0), (Tsit5(),), Base.Iterators.Pairs{Symbol,Real,NTuple{4,Symbol},NamedTuple{(:save_everystep, :reltol, :abstol, :save_start),Tuple{Bool,Float64,Float64,Bool}}}(:save_everystep => false,:reltol => 0.001,:abstol => 0.001,:save_start => false)), DiffEqArray_to_Array, Chain(Dense(20, 10)))"
      ]
     },
     "execution_count": 58,
     "metadata": {},
     "output_type": "execute_result"
    }
   ],
   "source": [
    "down = Chain(flatten, Dense(784, 20, tanh))\n",
    "\n",
    "nn = Chain(Dense(20, 10, tanh), Dense(10, 10, tanh), Dense(10, 20, tanh))\n",
    "# NeuralODE(model, tspan, args...;p = nothing, kwargs...)\n",
    "nn_ode = NeuralODE(nn, (0.f0, 2.f0), Tsit5(), save_everystep = false, reltol = 1e-3, abstol = 1e-3, save_start = false) # only save the final result\n",
    "\n",
    "fc = Chain(Dense(20, 10)) # final fully-connected layer\n",
    "\n",
    "function DiffEqArray_to_Array(x)\n",
    "    xarr = cpu(x)\n",
    "    return reshape(xarr, size(xarr)[1:2])\n",
    "end\n",
    "\n",
    "model = Chain(down, nn_ode, DiffEqArray_to_Array, fc)"
   ]
  },
  {
   "cell_type": "code",
   "execution_count": 59,
   "metadata": {},
   "outputs": [
    {
     "data": {
      "text/plain": [
       "10×1 Array{Float32,2}:\n",
       " -1.1912977\n",
       "  0.07104479\n",
       "  0.84480995\n",
       " -1.2965094\n",
       "  0.7101893\n",
       "  0.12247431\n",
       "  1.0377375\n",
       "  0.1360069\n",
       " -0.13325228\n",
       "  1.0457156"
      ]
     },
     "execution_count": 59,
     "metadata": {},
     "output_type": "execute_result"
    }
   ],
   "source": [
    "# we can compute the forward pass through the NN topology\n",
    "x_m = model(img)"
   ]
  },
  {
   "cell_type": "code",
   "execution_count": 60,
   "metadata": {},
   "outputs": [
    {
     "data": {
      "text/plain": [
       "classify (generic function with 1 method)"
      ]
     },
     "execution_count": 60,
     "metadata": {},
     "output_type": "execute_result"
    }
   ],
   "source": [
    "classify(x) = argmax.(eachcol(x))"
   ]
  },
  {
   "cell_type": "code",
   "execution_count": 61,
   "metadata": {},
   "outputs": [
    {
     "data": {
      "text/plain": [
       "1-element Array{Int64,1}:\n",
       " 3"
      ]
     },
     "execution_count": 61,
     "metadata": {},
     "output_type": "execute_result"
    }
   ],
   "source": [
    "classify([1, 2, 3])"
   ]
  },
  {
   "cell_type": "code",
   "execution_count": 62,
   "metadata": {},
   "outputs": [
    {
     "data": {
      "text/plain": [
       "loss (generic function with 1 method)"
      ]
     },
     "execution_count": 62,
     "metadata": {},
     "output_type": "execute_result"
    }
   ],
   "source": [
    "function accuracy(model, data; n_batches = 100)\n",
    "    total_correct = 0\n",
    "    total = 0\n",
    "    for (i, (x, y)) in enumerate(collect(data))\n",
    "        # Only evaluate accuracy for n_batches\n",
    "        i > n_batches && break\n",
    "        target_class = classify(cpu(y))\n",
    "        predicted_class = classify(cpu(model(x)))\n",
    "        total_correct += sum(target_class .== predicted_class)\n",
    "        total += length(target_class)\n",
    "    end\n",
    "    return total_correct / total\n",
    "end\n",
    "\n",
    "# there's no time series in loss function\n",
    "# so the tspan in NeuralODE can be given arbitrary value\n",
    "loss(x, y) = logitcrossentropy(model(x), y)"
   ]
  },
  {
   "cell_type": "code",
   "execution_count": 63,
   "metadata": {},
   "outputs": [
    {
     "name": "stdout",
     "output_type": "stream",
     "text": [
      "accuracy(model, train_dataloader) = 0.071484375\n",
      "loss(img, lab) = 2.574335f0\n"
     ]
    },
    {
     "data": {
      "text/plain": [
       "2.574335f0"
      ]
     },
     "execution_count": 63,
     "metadata": {},
     "output_type": "execute_result"
    }
   ],
   "source": [
    "@show accuracy(model, train_dataloader)\n",
    "@show loss(img, lab)"
   ]
  },
  {
   "cell_type": "code",
   "execution_count": 64,
   "metadata": {},
   "outputs": [
    {
     "data": {
      "text/plain": [
       "0"
      ]
     },
     "execution_count": 64,
     "metadata": {},
     "output_type": "execute_result"
    }
   ],
   "source": [
    "opt = ADAM(0.05)\n",
    "iter = 0"
   ]
  },
  {
   "cell_type": "code",
   "execution_count": 65,
   "metadata": {},
   "outputs": [
    {
     "data": {
      "text/plain": [
       "cb (generic function with 1 method)"
      ]
     },
     "execution_count": 65,
     "metadata": {},
     "output_type": "execute_result"
    }
   ],
   "source": [
    "cb() = begin\n",
    "    global iter += 1\n",
    "    # monitor the training process\n",
    "    if iter % 10 == 1\n",
    "        train_accuracy = accuracy(model, train_dataloader) * 100\n",
    "        test_accuracy = accuracy(model, test_dataloader;\n",
    "                                 n_batches = length(test_dataloader)) * 100\n",
    "        @printf(\"Iter: %3d || Train Accuracy: %2.3f || Test Accuracy: %2.3f\\n\",\n",
    "                iter, train_accuracy, test_accuracy)\n",
    "    end\n",
    "end"
   ]
  },
  {
   "cell_type": "code",
   "execution_count": 68,
   "metadata": {},
   "outputs": [
    {
     "name": "stdout",
     "output_type": "stream",
     "text": [
      "Iter:  41 || Train Accuracy: 81.086 || Test Accuracy: 80.117\n",
      "Iter:  51 || Train Accuracy: 81.047 || Test Accuracy: 80.567\n",
      "Iter:  61 || Train Accuracy: 81.242 || Test Accuracy: 81.050\n",
      "Iter:  71 || Train Accuracy: 84.430 || Test Accuracy: 83.667\n"
     ]
    },
    {
     "ename": "LoadError",
     "evalue": "InterruptException:",
     "output_type": "error",
     "traceback": [
      "InterruptException:",
      "",
      "Stacktrace:",
      " [1] Array at ./boot.jl:408 [inlined]",
      " [2] Array at ./boot.jl:416 [inlined]",
      " [3] similar at ./array.jl:380 [inlined]",
      " [4] * at /buildworker/worker/package_linux64/build/usr/share/julia/stdlib/v1.5/LinearAlgebra/src/matmul.jl:160 [inlined]",
      " [5] (::Dense{typeof(tanh),Array{Float32,2},Array{Float32,1}})(::Array{Float32,2}) at /home/vavrines/.julia/packages/Flux/05b38/src/layers/basic.jl:123",
      " [6] Dense at /home/vavrines/.julia/packages/Flux/05b38/src/layers/basic.jl:134 [inlined]",
      " [7] applychain at /home/vavrines/.julia/packages/Flux/05b38/src/layers/basic.jl:36 [inlined] (repeats 2 times)",
      " [8] (::Chain{Tuple{Dense{typeof(tanh),Array{Float32,2},Array{Float32,1}},Dense{typeof(tanh),Array{Float32,2},Array{Float32,1}},Dense{typeof(tanh),Array{Float32,2},Array{Float32,1}}}})(::Array{Float32,2}) at /home/vavrines/.julia/packages/Flux/05b38/src/layers/basic.jl:38",
      " [9] (::DiffEqFlux.var\"#dudt_#129\"{NeuralODE{Chain{Tuple{Dense{typeof(tanh),Array{Float32,2},Array{Float32,1}},Dense{typeof(tanh),Array{Float32,2},Array{Float32,1}},Dense{typeof(tanh),Array{Float32,2},Array{Float32,1}}}},Array{Float32,1},Flux.var\"#34#36\"{Chain{Tuple{Dense{typeof(tanh),Array{Float32,2},Array{Float32,1}},Dense{typeof(tanh),Array{Float32,2},Array{Float32,1}},Dense{typeof(tanh),Array{Float32,2},Array{Float32,1}}}}},Tuple{Float32,Float32},Tuple{Tsit5},Base.Iterators.Pairs{Symbol,Real,NTuple{4,Symbol},NamedTuple{(:save_everystep, :reltol, :abstol, :save_start),Tuple{Bool,Float64,Float64,Bool}}}}})(::Array{Float32,2}, ::Array{Float32,1}, ::Float32) at /home/vavrines/.julia/packages/DiffEqFlux/1xTu3/src/neural_de.jl:65",
      " [10] ODEFunction at /home/vavrines/.julia/packages/DiffEqBase/V7P18/src/diffeqfunction.jl:248 [inlined]",
      " [11] perform_step!(::OrdinaryDiffEq.ODEIntegrator{Tsit5,false,Array{Float32,2},Nothing,Float32,Array{Float32,1},Float32,Float32,Float32,Array{Array{Float32,2},1},ODESolution{Float32,3,Array{Array{Float32,2},1},Nothing,Nothing,Array{Float32,1},Array{Array{Array{Float32,2},1},1},ODEProblem{Array{Float32,2},Tuple{Float32,Float32},false,Array{Float32,1},ODEFunction{false,DiffEqFlux.var\"#dudt_#129\"{NeuralODE{Chain{Tuple{Dense{typeof(tanh),Array{Float32,2},Array{Float32,1}},Dense{typeof(tanh),Array{Float32,2},Array{Float32,1}},Dense{typeof(tanh),Array{Float32,2},Array{Float32,1}}}},Array{Float32,1},Flux.var\"#34#36\"{Chain{Tuple{Dense{typeof(tanh),Array{Float32,2},Array{Float32,1}},Dense{typeof(tanh),Array{Float32,2},Array{Float32,1}},Dense{typeof(tanh),Array{Float32,2},Array{Float32,1}}}}},Tuple{Float32,Float32},Tuple{Tsit5},Base.Iterators.Pairs{Symbol,Real,NTuple{4,Symbol},NamedTuple{(:save_everystep, :reltol, :abstol, :save_start),Tuple{Bool,Float64,Float64,Bool}}}}},LinearAlgebra.UniformScaling{Bool},Nothing,typeof(DiffEqFlux.basic_tgrad),Nothing,Nothing,Nothing,Nothing,Nothing,Nothing,Nothing,Nothing,Nothing,Nothing},Base.Iterators.Pairs{Union{},Union{},Tuple{},NamedTuple{(),Tuple{}}},DiffEqBase.StandardODEProblem},Tsit5,OrdinaryDiffEq.InterpolationData{ODEFunction{false,DiffEqFlux.var\"#dudt_#129\"{NeuralODE{Chain{Tuple{Dense{typeof(tanh),Array{Float32,2},Array{Float32,1}},Dense{typeof(tanh),Array{Float32,2},Array{Float32,1}},Dense{typeof(tanh),Array{Float32,2},Array{Float32,1}}}},Array{Float32,1},Flux.var\"#34#36\"{Chain{Tuple{Dense{typeof(tanh),Array{Float32,2},Array{Float32,1}},Dense{typeof(tanh),Array{Float32,2},Array{Float32,1}},Dense{typeof(tanh),Array{Float32,2},Array{Float32,1}}}}},Tuple{Float32,Float32},Tuple{Tsit5},Base.Iterators.Pairs{Symbol,Real,NTuple{4,Symbol},NamedTuple{(:save_everystep, :reltol, :abstol, :save_start),Tuple{Bool,Float64,Float64,Bool}}}}},LinearAlgebra.UniformScaling{Bool},Nothing,typeof(DiffEqFlux.basic_tgrad),Nothing,Nothing,Nothing,Nothing,Nothing,Nothing,Nothing,Nothing,Nothing,Nothing},Array{Array{Float32,2},1},Array{Float32,1},Array{Array{Array{Float32,2},1},1},OrdinaryDiffEq.Tsit5ConstantCache{Float32,Float32}},DiffEqBase.DEStats},ODEFunction{false,DiffEqFlux.var\"#dudt_#129\"{NeuralODE{Chain{Tuple{Dense{typeof(tanh),Array{Float32,2},Array{Float32,1}},Dense{typeof(tanh),Array{Float32,2},Array{Float32,1}},Dense{typeof(tanh),Array{Float32,2},Array{Float32,1}}}},Array{Float32,1},Flux.var\"#34#36\"{Chain{Tuple{Dense{typeof(tanh),Array{Float32,2},Array{Float32,1}},Dense{typeof(tanh),Array{Float32,2},Array{Float32,1}},Dense{typeof(tanh),Array{Float32,2},Array{Float32,1}}}}},Tuple{Float32,Float32},Tuple{Tsit5},Base.Iterators.Pairs{Symbol,Real,NTuple{4,Symbol},NamedTuple{(:save_everystep, :reltol, :abstol, :save_start),Tuple{Bool,Float64,Float64,Bool}}}}},LinearAlgebra.UniformScaling{Bool},Nothing,typeof(DiffEqFlux.basic_tgrad),Nothing,Nothing,Nothing,Nothing,Nothing,Nothing,Nothing,Nothing,Nothing,Nothing},OrdinaryDiffEq.Tsit5ConstantCache{Float32,Float32},OrdinaryDiffEq.DEOptions{Float64,Float64,Float32,Float32,typeof(DiffEqBase.ODE_DEFAULT_NORM),typeof(LinearAlgebra.opnorm),CallbackSet{Tuple{},Tuple{}},typeof(DiffEqBase.ODE_DEFAULT_ISOUTOFDOMAIN),typeof(DiffEqBase.ODE_DEFAULT_PROG_MESSAGE),typeof(DiffEqBase.ODE_DEFAULT_UNSTABLE_CHECK),DataStructures.BinaryHeap{Float32,DataStructures.LessThan},DataStructures.BinaryHeap{Float32,DataStructures.LessThan},Nothing,Nothing,Int64,Tuple{},Tuple{},Tuple{}},Array{Float32,2},Float32,Nothing,OrdinaryDiffEq.DefaultInit}, ::OrdinaryDiffEq.Tsit5ConstantCache{Float32,Float32}, ::Bool) at /home/vavrines/.julia/packages/OrdinaryDiffEq/VPJBD/src/perform_step/low_order_rk_perform_step.jl:582",
      " [12] perform_step! at /home/vavrines/.julia/packages/OrdinaryDiffEq/VPJBD/src/perform_step/low_order_rk_perform_step.jl:578 [inlined]",
      " [13] solve!(::OrdinaryDiffEq.ODEIntegrator{Tsit5,false,Array{Float32,2},Nothing,Float32,Array{Float32,1},Float32,Float32,Float32,Array{Array{Float32,2},1},ODESolution{Float32,3,Array{Array{Float32,2},1},Nothing,Nothing,Array{Float32,1},Array{Array{Array{Float32,2},1},1},ODEProblem{Array{Float32,2},Tuple{Float32,Float32},false,Array{Float32,1},ODEFunction{false,DiffEqFlux.var\"#dudt_#129\"{NeuralODE{Chain{Tuple{Dense{typeof(tanh),Array{Float32,2},Array{Float32,1}},Dense{typeof(tanh),Array{Float32,2},Array{Float32,1}},Dense{typeof(tanh),Array{Float32,2},Array{Float32,1}}}},Array{Float32,1},Flux.var\"#34#36\"{Chain{Tuple{Dense{typeof(tanh),Array{Float32,2},Array{Float32,1}},Dense{typeof(tanh),Array{Float32,2},Array{Float32,1}},Dense{typeof(tanh),Array{Float32,2},Array{Float32,1}}}}},Tuple{Float32,Float32},Tuple{Tsit5},Base.Iterators.Pairs{Symbol,Real,NTuple{4,Symbol},NamedTuple{(:save_everystep, :reltol, :abstol, :save_start),Tuple{Bool,Float64,Float64,Bool}}}}},LinearAlgebra.UniformScaling{Bool},Nothing,typeof(DiffEqFlux.basic_tgrad),Nothing,Nothing,Nothing,Nothing,Nothing,Nothing,Nothing,Nothing,Nothing,Nothing},Base.Iterators.Pairs{Union{},Union{},Tuple{},NamedTuple{(),Tuple{}}},DiffEqBase.StandardODEProblem},Tsit5,OrdinaryDiffEq.InterpolationData{ODEFunction{false,DiffEqFlux.var\"#dudt_#129\"{NeuralODE{Chain{Tuple{Dense{typeof(tanh),Array{Float32,2},Array{Float32,1}},Dense{typeof(tanh),Array{Float32,2},Array{Float32,1}},Dense{typeof(tanh),Array{Float32,2},Array{Float32,1}}}},Array{Float32,1},Flux.var\"#34#36\"{Chain{Tuple{Dense{typeof(tanh),Array{Float32,2},Array{Float32,1}},Dense{typeof(tanh),Array{Float32,2},Array{Float32,1}},Dense{typeof(tanh),Array{Float32,2},Array{Float32,1}}}}},Tuple{Float32,Float32},Tuple{Tsit5},Base.Iterators.Pairs{Symbol,Real,NTuple{4,Symbol},NamedTuple{(:save_everystep, :reltol, :abstol, :save_start),Tuple{Bool,Float64,Float64,Bool}}}}},LinearAlgebra.UniformScaling{Bool},Nothing,typeof(DiffEqFlux.basic_tgrad),Nothing,Nothing,Nothing,Nothing,Nothing,Nothing,Nothing,Nothing,Nothing,Nothing},Array{Array{Float32,2},1},Array{Float32,1},Array{Array{Array{Float32,2},1},1},OrdinaryDiffEq.Tsit5ConstantCache{Float32,Float32}},DiffEqBase.DEStats},ODEFunction{false,DiffEqFlux.var\"#dudt_#129\"{NeuralODE{Chain{Tuple{Dense{typeof(tanh),Array{Float32,2},Array{Float32,1}},Dense{typeof(tanh),Array{Float32,2},Array{Float32,1}},Dense{typeof(tanh),Array{Float32,2},Array{Float32,1}}}},Array{Float32,1},Flux.var\"#34#36\"{Chain{Tuple{Dense{typeof(tanh),Array{Float32,2},Array{Float32,1}},Dense{typeof(tanh),Array{Float32,2},Array{Float32,1}},Dense{typeof(tanh),Array{Float32,2},Array{Float32,1}}}}},Tuple{Float32,Float32},Tuple{Tsit5},Base.Iterators.Pairs{Symbol,Real,NTuple{4,Symbol},NamedTuple{(:save_everystep, :reltol, :abstol, :save_start),Tuple{Bool,Float64,Float64,Bool}}}}},LinearAlgebra.UniformScaling{Bool},Nothing,typeof(DiffEqFlux.basic_tgrad),Nothing,Nothing,Nothing,Nothing,Nothing,Nothing,Nothing,Nothing,Nothing,Nothing},OrdinaryDiffEq.Tsit5ConstantCache{Float32,Float32},OrdinaryDiffEq.DEOptions{Float64,Float64,Float32,Float32,typeof(DiffEqBase.ODE_DEFAULT_NORM),typeof(LinearAlgebra.opnorm),CallbackSet{Tuple{},Tuple{}},typeof(DiffEqBase.ODE_DEFAULT_ISOUTOFDOMAIN),typeof(DiffEqBase.ODE_DEFAULT_PROG_MESSAGE),typeof(DiffEqBase.ODE_DEFAULT_UNSTABLE_CHECK),DataStructures.BinaryHeap{Float32,DataStructures.LessThan},DataStructures.BinaryHeap{Float32,DataStructures.LessThan},Nothing,Nothing,Int64,Tuple{},Tuple{},Tuple{}},Array{Float32,2},Float32,Nothing,OrdinaryDiffEq.DefaultInit}) at /home/vavrines/.julia/packages/OrdinaryDiffEq/VPJBD/src/solve.jl:428",
      " [14] #__solve#391 at /home/vavrines/.julia/packages/OrdinaryDiffEq/VPJBD/src/solve.jl:5 [inlined]",
      " [15] solve_call(::ODEProblem{Array{Float32,2},Tuple{Float32,Float32},false,Array{Float32,1},ODEFunction{false,DiffEqFlux.var\"#dudt_#129\"{NeuralODE{Chain{Tuple{Dense{typeof(tanh),Array{Float32,2},Array{Float32,1}},Dense{typeof(tanh),Array{Float32,2},Array{Float32,1}},Dense{typeof(tanh),Array{Float32,2},Array{Float32,1}}}},Array{Float32,1},Flux.var\"#34#36\"{Chain{Tuple{Dense{typeof(tanh),Array{Float32,2},Array{Float32,1}},Dense{typeof(tanh),Array{Float32,2},Array{Float32,1}},Dense{typeof(tanh),Array{Float32,2},Array{Float32,1}}}}},Tuple{Float32,Float32},Tuple{Tsit5},Base.Iterators.Pairs{Symbol,Real,NTuple{4,Symbol},NamedTuple{(:save_everystep, :reltol, :abstol, :save_start),Tuple{Bool,Float64,Float64,Bool}}}}},LinearAlgebra.UniformScaling{Bool},Nothing,typeof(DiffEqFlux.basic_tgrad),Nothing,Nothing,Nothing,Nothing,Nothing,Nothing,Nothing,Nothing,Nothing,Nothing},Base.Iterators.Pairs{Union{},Union{},Tuple{},NamedTuple{(),Tuple{}}},DiffEqBase.StandardODEProblem}, ::Tsit5; merge_callbacks::Bool, kwargs::Base.Iterators.Pairs{Symbol,Any,NTuple{7,Symbol},NamedTuple{(:save_noise, :save_start, :save_end, :sense, :save_everystep, :reltol, :abstol),Tuple{Bool,Bool,Bool,DiffEqSensitivity.InterpolatingAdjoint{0,true,Val{:central},DiffEqSensitivity.ZygoteVJP,Bool},Bool,Float64,Float64}}}) at /home/vavrines/.julia/packages/DiffEqBase/V7P18/src/solve.jl:92",
      " [16] #solve_up#461 at /home/vavrines/.julia/packages/DiffEqBase/V7P18/src/solve.jl:114 [inlined]",
      " [17] #solve#460 at /home/vavrines/.julia/packages/DiffEqBase/V7P18/src/solve.jl:102 [inlined]",
      " [18] _concrete_solve_adjoint(::ODEProblem{Array{Float32,2},Tuple{Float32,Float32},false,Array{Float32,1},ODEFunction{false,DiffEqFlux.var\"#dudt_#129\"{NeuralODE{Chain{Tuple{Dense{typeof(tanh),Array{Float32,2},Array{Float32,1}},Dense{typeof(tanh),Array{Float32,2},Array{Float32,1}},Dense{typeof(tanh),Array{Float32,2},Array{Float32,1}}}},Array{Float32,1},Flux.var\"#34#36\"{Chain{Tuple{Dense{typeof(tanh),Array{Float32,2},Array{Float32,1}},Dense{typeof(tanh),Array{Float32,2},Array{Float32,1}},Dense{typeof(tanh),Array{Float32,2},Array{Float32,1}}}}},Tuple{Float32,Float32},Tuple{Tsit5},Base.Iterators.Pairs{Symbol,Real,NTuple{4,Symbol},NamedTuple{(:save_everystep, :reltol, :abstol, :save_start),Tuple{Bool,Float64,Float64,Bool}}}}},LinearAlgebra.UniformScaling{Bool},Nothing,typeof(DiffEqFlux.basic_tgrad),Nothing,Nothing,Nothing,Nothing,Nothing,Nothing,Nothing,Nothing,Nothing,Nothing},Base.Iterators.Pairs{Union{},Union{},Tuple{},NamedTuple{(),Tuple{}}},DiffEqBase.StandardODEProblem}, ::Tsit5, ::DiffEqSensitivity.InterpolatingAdjoint{0,true,Val{:central},Bool,Bool}, ::Array{Float32,2}, ::Array{Float32,1}; save_start::Bool, save_end::Bool, saveat::Array{Float32,1}, save_idxs::Nothing, kwargs::Base.Iterators.Pairs{Symbol,Any,NTuple{4,Symbol},NamedTuple{(:sense, :save_everystep, :reltol, :abstol),Tuple{DiffEqSensitivity.InterpolatingAdjoint{0,true,Val{:central},DiffEqSensitivity.ZygoteVJP,Bool},Bool,Float64,Float64}}}) at /home/vavrines/.julia/packages/DiffEqSensitivity/GNNnG/src/local_sensitivity/concrete_solve.jl:57",
      " [19] #_concrete_solve_adjoint#123 at /home/vavrines/.julia/packages/DiffEqSensitivity/GNNnG/src/local_sensitivity/concrete_solve.jl:25 [inlined]",
      " [20] #_solve_adjoint#481 at /home/vavrines/.julia/packages/DiffEqBase/V7P18/src/solve.jl:305 [inlined]",
      " [21] #adjoint#472 at /home/vavrines/.julia/packages/DiffEqBase/V7P18/src/solve.jl:269 [inlined]",
      " [22] _pullback at /home/vavrines/.julia/packages/ZygoteRules/6nssF/src/adjoint.jl:53 [inlined]",
      " [23] adjoint at /home/vavrines/.julia/packages/Zygote/chgvX/src/lib/lib.jl:172 [inlined]",
      " [24] _pullback at /home/vavrines/.julia/packages/ZygoteRules/6nssF/src/adjoint.jl:47 [inlined]",
      " [25] #solve#460 at /home/vavrines/.julia/packages/DiffEqBase/V7P18/src/solve.jl:102 [inlined]",
      " [26] _pullback(::Zygote.Context, ::DiffEqBase.var\"##solve#460\", ::Nothing, ::Nothing, ::Nothing, ::Base.Iterators.Pairs{Symbol,Any,NTuple{5,Symbol},NamedTuple{(:sense, :save_everystep, :reltol, :abstol, :save_start),Tuple{DiffEqSensitivity.InterpolatingAdjoint{0,true,Val{:central},DiffEqSensitivity.ZygoteVJP,Bool},Bool,Float64,Float64,Bool}}}, ::typeof(solve), ::ODEProblem{Array{Float32,2},Tuple{Float32,Float32},false,Array{Float32,1},ODEFunction{false,DiffEqFlux.var\"#dudt_#129\"{NeuralODE{Chain{Tuple{Dense{typeof(tanh),Array{Float32,2},Array{Float32,1}},Dense{typeof(tanh),Array{Float32,2},Array{Float32,1}},Dense{typeof(tanh),Array{Float32,2},Array{Float32,1}}}},Array{Float32,1},Flux.var\"#34#36\"{Chain{Tuple{Dense{typeof(tanh),Array{Float32,2},Array{Float32,1}},Dense{typeof(tanh),Array{Float32,2},Array{Float32,1}},Dense{typeof(tanh),Array{Float32,2},Array{Float32,1}}}}},Tuple{Float32,Float32},Tuple{Tsit5},Base.Iterators.Pairs{Symbol,Real,NTuple{4,Symbol},NamedTuple{(:save_everystep, :reltol, :abstol, :save_start),Tuple{Bool,Float64,Float64,Bool}}}}},LinearAlgebra.UniformScaling{Bool},Nothing,typeof(DiffEqFlux.basic_tgrad),Nothing,Nothing,Nothing,Nothing,Nothing,Nothing,Nothing,Nothing,Nothing,Nothing},Base.Iterators.Pairs{Union{},Union{},Tuple{},NamedTuple{(),Tuple{}}},DiffEqBase.StandardODEProblem}, ::Tsit5) at /home/vavrines/.julia/packages/Zygote/chgvX/src/compiler/interface2.jl:0",
      " [27] adjoint at /home/vavrines/.julia/packages/Zygote/chgvX/src/lib/lib.jl:172 [inlined]",
      " [28] _pullback at /home/vavrines/.julia/packages/ZygoteRules/6nssF/src/adjoint.jl:47 [inlined]",
      " [29] _pullback(::Zygote.Context, ::DiffEqBase.var\"#solve##kw\", ::NamedTuple{(:sense, :save_everystep, :reltol, :abstol, :save_start),Tuple{DiffEqSensitivity.InterpolatingAdjoint{0,true,Val{:central},DiffEqSensitivity.ZygoteVJP,Bool},Bool,Float64,Float64,Bool}}, ::typeof(solve), ::ODEProblem{Array{Float32,2},Tuple{Float32,Float32},false,Array{Float32,1},ODEFunction{false,DiffEqFlux.var\"#dudt_#129\"{NeuralODE{Chain{Tuple{Dense{typeof(tanh),Array{Float32,2},Array{Float32,1}},Dense{typeof(tanh),Array{Float32,2},Array{Float32,1}},Dense{typeof(tanh),Array{Float32,2},Array{Float32,1}}}},Array{Float32,1},Flux.var\"#34#36\"{Chain{Tuple{Dense{typeof(tanh),Array{Float32,2},Array{Float32,1}},Dense{typeof(tanh),Array{Float32,2},Array{Float32,1}},Dense{typeof(tanh),Array{Float32,2},Array{Float32,1}}}}},Tuple{Float32,Float32},Tuple{Tsit5},Base.Iterators.Pairs{Symbol,Real,NTuple{4,Symbol},NamedTuple{(:save_everystep, :reltol, :abstol, :save_start),Tuple{Bool,Float64,Float64,Bool}}}}},LinearAlgebra.UniformScaling{Bool},Nothing,typeof(DiffEqFlux.basic_tgrad),Nothing,Nothing,Nothing,Nothing,Nothing,Nothing,Nothing,Nothing,Nothing,Nothing},Base.Iterators.Pairs{Union{},Union{},Tuple{},NamedTuple{(),Tuple{}}},DiffEqBase.StandardODEProblem}, ::Tsit5) at /home/vavrines/.julia/packages/Zygote/chgvX/src/compiler/interface2.jl:0",
      " [30] adjoint at /home/vavrines/.julia/packages/Zygote/chgvX/src/lib/lib.jl:172 [inlined]",
      " [31] adjoint(::Zygote.Context, ::typeof(Core._apply_iterate), ::typeof(iterate), ::Function, ::Tuple{NamedTuple{(:sense, :save_everystep, :reltol, :abstol, :save_start),Tuple{DiffEqSensitivity.InterpolatingAdjoint{0,true,Val{:central},DiffEqSensitivity.ZygoteVJP,Bool},Bool,Float64,Float64,Bool}},typeof(solve),ODEProblem{Array{Float32,2},Tuple{Float32,Float32},false,Array{Float32,1},ODEFunction{false,DiffEqFlux.var\"#dudt_#129\"{NeuralODE{Chain{Tuple{Dense{typeof(tanh),Array{Float32,2},Array{Float32,1}},Dense{typeof(tanh),Array{Float32,2},Array{Float32,1}},Dense{typeof(tanh),Array{Float32,2},Array{Float32,1}}}},Array{Float32,1},Flux.var\"#34#36\"{Chain{Tuple{Dense{typeof(tanh),Array{Float32,2},Array{Float32,1}},Dense{typeof(tanh),Array{Float32,2},Array{Float32,1}},Dense{typeof(tanh),Array{Float32,2},Array{Float32,1}}}}},Tuple{Float32,Float32},Tuple{Tsit5},Base.Iterators.Pairs{Symbol,Real,NTuple{4,Symbol},NamedTuple{(:save_everystep, :reltol, :abstol, :save_start),Tuple{Bool,Float64,Float64,Bool}}}}},LinearAlgebra.UniformScaling{Bool},Nothing,typeof(DiffEqFlux.basic_tgrad),Nothing,Nothing,Nothing,Nothing,Nothing,Nothing,Nothing,Nothing,Nothing,Nothing},Base.Iterators.Pairs{Union{},Union{},Tuple{},NamedTuple{(),Tuple{}}},DiffEqBase.StandardODEProblem}}, ::Tuple{Tsit5}) at ./none:0",
      " [32] _pullback at /home/vavrines/.julia/packages/ZygoteRules/6nssF/src/adjoint.jl:47 [inlined]",
      " [33] NeuralODE at /home/vavrines/.julia/packages/DiffEqFlux/1xTu3/src/neural_de.jl:69 [inlined]",
      " [34] _pullback(::Zygote.Context, ::NeuralODE{Chain{Tuple{Dense{typeof(tanh),Array{Float32,2},Array{Float32,1}},Dense{typeof(tanh),Array{Float32,2},Array{Float32,1}},Dense{typeof(tanh),Array{Float32,2},Array{Float32,1}}}},Array{Float32,1},Flux.var\"#34#36\"{Chain{Tuple{Dense{typeof(tanh),Array{Float32,2},Array{Float32,1}},Dense{typeof(tanh),Array{Float32,2},Array{Float32,1}},Dense{typeof(tanh),Array{Float32,2},Array{Float32,1}}}}},Tuple{Float32,Float32},Tuple{Tsit5},Base.Iterators.Pairs{Symbol,Real,NTuple{4,Symbol},NamedTuple{(:save_everystep, :reltol, :abstol, :save_start),Tuple{Bool,Float64,Float64,Bool}}}}, ::Array{Float32,2}, ::Array{Float32,1}) at /home/vavrines/.julia/packages/Zygote/chgvX/src/compiler/interface2.jl:0",
      " [35] NeuralODE at /home/vavrines/.julia/packages/DiffEqFlux/1xTu3/src/neural_de.jl:65 [inlined]",
      " [36] _pullback(::Zygote.Context, ::NeuralODE{Chain{Tuple{Dense{typeof(tanh),Array{Float32,2},Array{Float32,1}},Dense{typeof(tanh),Array{Float32,2},Array{Float32,1}},Dense{typeof(tanh),Array{Float32,2},Array{Float32,1}}}},Array{Float32,1},Flux.var\"#34#36\"{Chain{Tuple{Dense{typeof(tanh),Array{Float32,2},Array{Float32,1}},Dense{typeof(tanh),Array{Float32,2},Array{Float32,1}},Dense{typeof(tanh),Array{Float32,2},Array{Float32,1}}}}},Tuple{Float32,Float32},Tuple{Tsit5},Base.Iterators.Pairs{Symbol,Real,NTuple{4,Symbol},NamedTuple{(:save_everystep, :reltol, :abstol, :save_start),Tuple{Bool,Float64,Float64,Bool}}}}, ::Array{Float32,2}) at /home/vavrines/.julia/packages/Zygote/chgvX/src/compiler/interface2.jl:0",
      " [37] applychain at /home/vavrines/.julia/packages/Flux/05b38/src/layers/basic.jl:36 [inlined]",
      " ... (the last 2 lines are repeated 1 more time)",
      " [40] _pullback(::Zygote.Context, ::typeof(Flux.applychain), ::Tuple{Chain{Tuple{typeof(flatten),Dense{typeof(tanh),Array{Float32,2},Array{Float32,1}}}},NeuralODE{Chain{Tuple{Dense{typeof(tanh),Array{Float32,2},Array{Float32,1}},Dense{typeof(tanh),Array{Float32,2},Array{Float32,1}},Dense{typeof(tanh),Array{Float32,2},Array{Float32,1}}}},Array{Float32,1},Flux.var\"#34#36\"{Chain{Tuple{Dense{typeof(tanh),Array{Float32,2},Array{Float32,1}},Dense{typeof(tanh),Array{Float32,2},Array{Float32,1}},Dense{typeof(tanh),Array{Float32,2},Array{Float32,1}}}}},Tuple{Float32,Float32},Tuple{Tsit5},Base.Iterators.Pairs{Symbol,Real,NTuple{4,Symbol},NamedTuple{(:save_everystep, :reltol, :abstol, :save_start),Tuple{Bool,Float64,Float64,Bool}}}},typeof(DiffEqArray_to_Array),Chain{Tuple{Dense{typeof(identity),Array{Float32,2},Array{Float32,1}}}}}, ::Array{Float32,4}) at /home/vavrines/.julia/packages/Zygote/chgvX/src/compiler/interface2.jl:0",
      " [41] Chain at /home/vavrines/.julia/packages/Flux/05b38/src/layers/basic.jl:38 [inlined]",
      " [42] _pullback(::Zygote.Context, ::Chain{Tuple{Chain{Tuple{typeof(flatten),Dense{typeof(tanh),Array{Float32,2},Array{Float32,1}}}},NeuralODE{Chain{Tuple{Dense{typeof(tanh),Array{Float32,2},Array{Float32,1}},Dense{typeof(tanh),Array{Float32,2},Array{Float32,1}},Dense{typeof(tanh),Array{Float32,2},Array{Float32,1}}}},Array{Float32,1},Flux.var\"#34#36\"{Chain{Tuple{Dense{typeof(tanh),Array{Float32,2},Array{Float32,1}},Dense{typeof(tanh),Array{Float32,2},Array{Float32,1}},Dense{typeof(tanh),Array{Float32,2},Array{Float32,1}}}}},Tuple{Float32,Float32},Tuple{Tsit5},Base.Iterators.Pairs{Symbol,Real,NTuple{4,Symbol},NamedTuple{(:save_everystep, :reltol, :abstol, :save_start),Tuple{Bool,Float64,Float64,Bool}}}},typeof(DiffEqArray_to_Array),Chain{Tuple{Dense{typeof(identity),Array{Float32,2},Array{Float32,1}}}}}}, ::Array{Float32,4}) at /home/vavrines/.julia/packages/Zygote/chgvX/src/compiler/interface2.jl:0",
      " [43] loss at ./In[62]:15 [inlined]",
      " [44] _pullback(::Zygote.Context, ::typeof(loss), ::Array{Float32,4}, ::Array{Int64,2}) at /home/vavrines/.julia/packages/Zygote/chgvX/src/compiler/interface2.jl:0",
      " [45] adjoint at /home/vavrines/.julia/packages/Zygote/chgvX/src/lib/lib.jl:172 [inlined]",
      " [46] _pullback at /home/vavrines/.julia/packages/ZygoteRules/6nssF/src/adjoint.jl:47 [inlined]",
      " [47] #15 at /home/vavrines/.julia/packages/Flux/05b38/src/optimise/train.jl:83 [inlined]",
      " [48] _pullback(::Zygote.Context, ::Flux.Optimise.var\"#15#21\"{typeof(loss),Tuple{Array{Float32,4},Array{Int64,2}}}) at /home/vavrines/.julia/packages/Zygote/chgvX/src/compiler/interface2.jl:0",
      " [49] pullback(::Function, ::Zygote.Params) at /home/vavrines/.julia/packages/Zygote/chgvX/src/compiler/interface.jl:172",
      " [50] gradient(::Function, ::Zygote.Params) at /home/vavrines/.julia/packages/Zygote/chgvX/src/compiler/interface.jl:53",
      " [51] macro expansion at /home/vavrines/.julia/packages/Flux/05b38/src/optimise/train.jl:82 [inlined]",
      " [52] macro expansion at /home/vavrines/.julia/packages/Juno/n6wyj/src/progress.jl:134 [inlined]",
      " [53] train!(::Function, ::Zygote.Params, ::DataLoader{Tuple{Array{Float32,4},Array{Int64,2}}}, ::ADAM; cb::typeof(cb)) at /home/vavrines/.julia/packages/Flux/05b38/src/optimise/train.jl:80",
      " [54] top-level scope at In[68]:3"
     ]
    }
   ],
   "source": [
    "# Train the NN-ODE and monitor the loss and weights.\n",
    "#Flux.train!(loss, params(down, nn_ode.p, fc), train_dataloader, opt, cb = cb)\n",
    "Flux.train!(loss, params(model), train_dataloader, opt, cb = cb)"
   ]
  },
  {
   "cell_type": "code",
   "execution_count": null,
   "metadata": {},
   "outputs": [],
   "source": []
  }
 ],
 "metadata": {
  "kernelspec": {
   "display_name": "Julia 1.5.2",
   "language": "julia",
   "name": "julia-1.5"
  },
  "language_info": {
   "file_extension": ".jl",
   "mimetype": "application/julia",
   "name": "julia",
   "version": "1.5.2"
  }
 },
 "nbformat": 4,
 "nbformat_minor": 4
}
