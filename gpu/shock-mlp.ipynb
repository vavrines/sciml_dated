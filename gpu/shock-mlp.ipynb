{
 "cells": [
  {
   "cell_type": "code",
   "execution_count": 1,
   "metadata": {},
   "outputs": [
    {
     "name": "stderr",
     "output_type": "stream",
     "text": [
      "┌ Warning: `haskey(::TargetIterator, name::String)` is deprecated, use `Target(; name = name) !== nothing` instead.\n",
      "│   caller = llvm_compat(::VersionNumber) at compatibility.jl:176\n",
      "└ @ CUDAnative /home/kit/scc/yy3406/.julia/packages/CUDAnative/ierw8/src/compatibility.jl:176\n"
     ]
    }
   ],
   "source": [
    "using Revise, OrdinaryDiffEq, Flux, DiffEqFlux, Optim\n",
    "using Plots, FileIO, JLD2, OffsetArrays, ProgressMeter, Kinetic"
   ]
  },
  {
   "cell_type": "code",
   "execution_count": 2,
   "metadata": {},
   "outputs": [
    {
     "name": "stdout",
     "output_type": "stream",
     "text": [
      "case = shock\n",
      "space = 1d2f1v\n",
      "nSpecies = 1\n",
      "interpOrder = 1\n",
      "limiter = vanleer\n",
      "cfl = 0.7\n",
      "maxTime = 250.0\n",
      "x0 = -35.0\n",
      "x1 = 35.0\n",
      "nx = 50\n",
      "pMeshType = uniform\n",
      "nxg = 1\n",
      "umin = -10.0\n",
      "umax = 10.0\n",
      "nu = 36\n",
      "nug = 0\n",
      "vmin = -10.0\n",
      "vmax = 10.0\n",
      "nv = 24\n",
      "nvg = 0\n",
      "wmin = -10.0\n",
      "wmax = 10.0\n",
      "nw = 24\n",
      "nwg = 0\n",
      "vMeshType = rectangle\n",
      "knudsen = 1.0\n",
      "mach = 2.0\n",
      "prandtl = 1.0\n",
      "inK = 2\n",
      "omega = 0.5\n",
      "alphaRef = 1.0\n",
      "omegaRef = 0.5\n",
      "nm = 5\n",
      "tLen = 3\n",
      "nh = 12\n",
      "\n"
     ]
    }
   ],
   "source": [
    "D = read_dict(\"../code/shock/ude_shock.txt\")\n",
    "for key in keys(D)\n",
    "    s = Symbol(key)\n",
    "    @eval $s = $(D[key])\n",
    "end"
   ]
  },
  {
   "cell_type": "code",
   "execution_count": 3,
   "metadata": {},
   "outputs": [
    {
     "data": {
      "text/plain": [
       "0.0f0:0.043301642f0:0.086603284f0"
      ]
     },
     "execution_count": 3,
     "metadata": {},
     "output_type": "execute_result"
    }
   ],
   "source": [
    "γ = heat_capacity_ratio(inK, 1)\n",
    "set = Setup(case, space, nSpecies, interpOrder, limiter, cfl, maxTime)\n",
    "pSpace = PSpace1D(x0, x1, nx, pMeshType, nxg)\n",
    "μᵣ = ref_vhs_vis(knudsen, alphaRef, omegaRef)\n",
    "gas = GasProperty(knudsen, mach, prandtl, inK, γ, omega, alphaRef, omegaRef, μᵣ)\n",
    "vSpace = VSpace1D(umin, umax, nu, vMeshType)\n",
    "vSpace2D = VSpace2D(vmin, vmax, nv, wmin, wmax, nw, vMeshType)\n",
    "vSpace3D = VSpace3D(umin, umax, nu, vmin, vmax, nv, wmin, wmax, nw, vMeshType)\n",
    "wL, primL, hL, bL, bcL, wR, primR, hR, bR, bcR = ib_rh(mach, γ, vSpace.u, inK)\n",
    "ib = IB2F(wL, primL, hL, bL, bcL, wR, primR, hR, bR, bcR)\n",
    "ks = SolverSet(set, pSpace, vSpace, gas, ib, pwd())\n",
    "\n",
    "kn_bzm = hs_boltz_kn(ks.gas.μᵣ, 1.0)\n",
    "sos = sound_speed(ks.ib.primR, γ)\n",
    "tmax = (ks.vSpace.u1 + sos) / ks.pSpace.dx[1]\n",
    "dt = Float32(ks.set.cfl / tmax)\n",
    "tspan = (0.f0, dt)\n",
    "tran = range(tspan[1], tspan[2], length = tLen)"
   ]
  },
  {
   "cell_type": "code",
   "execution_count": 47,
   "metadata": {},
   "outputs": [],
   "source": [
    "ctr = OffsetArray{ControlVolume1D2F}(undef, eachindex(ks.pSpace.x))\n",
    "face = Array{Interface1D2F}(undef, ks.pSpace.nx + 1)\n",
    "for i in eachindex(ctr)\n",
    "    if i <= ks.pSpace.nx ÷ 2\n",
    "        ctr[i] = ControlVolume1D2F(\n",
    "            ks.pSpace.x[i],\n",
    "            ks.pSpace.dx[i],\n",
    "            Float32.(ks.ib.wL),\n",
    "            Float32.(ks.ib.primL),\n",
    "            Float32.(ks.ib.hL),\n",
    "            Float32.(ks.ib.bL),\n",
    "        )\n",
    "    else\n",
    "        ctr[i] = ControlVolume1D2F(\n",
    "            ks.pSpace.x[i],\n",
    "            ks.pSpace.dx[i],\n",
    "            Float32.(ks.ib.wR),\n",
    "            Float32.(ks.ib.primR),\n",
    "            Float32.(ks.ib.hR),\n",
    "            Float32.(ks.ib.bR),\n",
    "        )\n",
    "    end\n",
    "end\n",
    "for i = 1:ks.pSpace.nx+1\n",
    "    face[i] = Interface1D2F(ks.ib.wL, ks.ib.hL)\n",
    "end"
   ]
  },
  {
   "cell_type": "code",
   "execution_count": 5,
   "metadata": {},
   "outputs": [
    {
     "name": "stderr",
     "output_type": "stream",
     "text": [
      "\u001b[32mProgress: 100%|█████████████████████████████████████████| Time: 0:00:05\u001b[39m\n"
     ]
    }
   ],
   "source": [
    "residual = Array{Float32}(undef, 3)\n",
    "@showprogress for iter = 1:2000\n",
    "    Kinetic.evolve!(ks, ctr, face, dt)\n",
    "    Kinetic.update!(ks, ctr, face, dt, residual)\n",
    "end"
   ]
  },
  {
   "cell_type": "code",
   "execution_count": 9,
   "metadata": {},
   "outputs": [
    {
     "data": {
      "text/plain": [
       "72×50×3 Array{Float32,3}:\n",
       "[:, :, 1] =\n",
       " 0.0          7.55173f-26  8.57252f-26  …  6.58008f-24  6.59115f-24\n",
       " 0.0          1.4871f-23   1.7003f-23      1.57325f-21  1.57571f-21\n",
       " 0.0          2.13133f-21  2.45658f-21     2.79487f-19  2.79892f-19\n",
       " 2.26f-43     2.21482f-19  2.57612f-19     3.68913f-17  3.69404f-17\n",
       " 9.57341f-39  1.66088f-17  1.95188f-17     3.61813f-15  3.62252f-15\n",
       " 2.22411f-34  8.93273f-16  1.0623f-15   …  2.63658f-13  2.63947f-13\n",
       " 2.78717f-30  3.41804f-14  4.12103f-14     1.42756f-11  1.42896f-11\n",
       " 1.88403f-26  9.20509f-13  1.12786f-12     5.74311f-10  5.74808f-10\n",
       " 6.86955f-23  1.71906f-11  2.14705f-11     1.71671f-8   1.718f-8\n",
       " 1.3511f-19   2.17995f-10  2.78651f-10     3.81279f-7   3.81522f-7\n",
       " 1.43338f-16  1.82024f-9   2.39424f-9   …  6.29197f-6   6.29527f-6\n",
       " 8.20262f-14  9.54875f-9   1.3023f-8       7.71483f-5   7.71804f-5\n",
       " 2.53199f-11  2.92025f-8   4.17486f-8      0.000702851  0.000703067\n",
       " ⋮                                      ⋱               \n",
       " 0.0232867    0.0232867    0.0232867    …  0.0413236    0.0413395\n",
       " 0.00235254   0.00235254   0.00235254      0.00791722   0.00792182\n",
       " 0.000128199  0.000128199  0.000128199     0.00112702   0.00112793\n",
       " 3.76832f-6   3.76832f-6   3.76832f-6      0.000119199  0.000119327\n",
       " 5.97487f-8   5.97487f-8   5.97487f-8      9.36701f-6   9.37971f-6\n",
       " 5.11006f-10  5.11006f-10  5.11006f-10  …  5.46905f-7   5.47822f-7\n",
       " 2.35744f-12  2.35744f-12  2.35744f-12     2.3725f-8    2.37732f-8\n",
       " 5.8664f-15   5.8664f-15   5.8664f-15      7.64686f-10  7.66536f-10\n",
       " 7.87445f-18  7.87445f-18  7.87445f-18     1.83122f-11  1.83643f-11\n",
       " 5.70146f-21  5.70146f-21  5.70146f-21     3.2582f-13   3.26901f-13\n",
       " 2.22673f-24  2.22673f-24  2.22673f-24  …  4.30714f-15  4.32369f-15\n",
       " 4.69103f-28  4.69103f-28  4.69103f-28     4.23032f-17  4.24904f-17\n",
       "\n",
       "[:, :, 2] =\n",
       " -1.34826f-10  -3.09759f-10  -1.56559f-10  …  -1.03181f-9   -3.97671f-10\n",
       " -1.38927f-10  -3.05615f-10  -2.74876f-10     -1.58073f-10  -6.23129f-10\n",
       "  4.9965f-11    1.18359f-11   4.10143f-11     -5.43241f-10  -9.42707f-11\n",
       " -5.54325f-11  -4.61746f-11  -6.44736f-11     -1.79677f-9   -1.76526f-9\n",
       " -8.58836f-11   6.75732f-11  -6.30825f-11     -1.49696f-9    7.02443f-10\n",
       " -3.64469f-10  -2.21832f-10  -2.67466f-10  …  -1.07781f-9   -1.15172f-9\n",
       " -1.21361f-10  -5.85379f-10  -2.14838f-10     -1.03905f-8    2.88573f-9\n",
       "  1.66968f-10   3.51232f-10   2.47565f-10      6.87789f-9    4.3561f-10\n",
       " -6.68501f-9    3.06256f-10  -2.8692f-9        2.53917f-8    1.7828f-8\n",
       "  2.8871f-9     7.41952f-9    3.56705f-9       3.84588f-7    3.87907f-7\n",
       " -1.1463f-8    -8.49536f-9   -5.05587f-9   …   6.30089f-6    6.29762f-6\n",
       "  5.37896f-9    8.64361f-9    7.95798f-9       7.71462f-5    7.71876f-5\n",
       "  1.24321f-8    3.95519f-8    5.24096f-8       0.000702824   0.000703084\n",
       "  ⋮                                        ⋱                \n",
       "  0.023287      0.023287      0.023287     …   0.0413238     0.0413397\n",
       "  0.00235805    0.0023579     0.00235777       0.00791738    0.00792179\n",
       "  0.000127778   0.000127795   0.00012763       0.00112674    0.00112797\n",
       "  4.47366f-6    4.53682f-6    4.28571f-6       0.000119423   0.000119415\n",
       " -6.14279f-6   -6.11276f-6   -6.06458f-6       9.5029f-6     9.45704f-6\n",
       " -3.52412f-7   -3.83171f-7   -4.27308f-7   …   4.90656f-7    5.68582f-7\n",
       "  1.19108f-7    1.36658f-7    1.43324f-7      -2.35809f-10   3.60769f-8\n",
       " -4.88653f-7   -5.20081f-7   -4.60545f-7       4.16145f-8   -5.71487f-8\n",
       "  3.36588f-7    3.62029f-7    3.45846f-7      -6.17095f-8    2.39546f-8\n",
       " -1.8197f-7    -1.23739f-7   -1.54311f-7      -1.42212f-8    3.1109f-9\n",
       "  3.35861f-8    2.63479f-8    2.14199f-8   …  -1.95334f-8   -9.22152f-9\n",
       " -1.33002f-8    4.80154f-10  -2.26319f-9      -1.24155f-8   -6.43541f-9\n",
       "\n",
       "[:, :, 3] =\n",
       "  6.96097f-10   8.21208f-10  -5.82236f-10  …   1.71346f-9    1.03734f-9\n",
       "  2.82376f-10   3.86556f-10   2.54388f-10     -1.27831f-9   -6.36822f-10\n",
       " -3.08826f-10  -7.32949f-11  -2.83821f-10      7.61154f-10   1.42588f-10\n",
       "  1.14256f-10  -2.68535f-11  -6.86028f-11     -4.72596f-10   2.6402f-10\n",
       " -3.98374f-11  -3.74285f-10   5.72812f-11      2.88841f-9    1.98541f-10\n",
       "  1.92742f-10  -4.8011f-11   -5.93375f-10  …  -8.74345f-10   2.8756f-9\n",
       " -4.99924f-10   1.54125f-9   -2.00844f-10      1.78948f-8   -9.36148f-9\n",
       " -4.3782f-10    1.24856f-9   -8.95595f-10     -5.71758f-9    5.77007f-9\n",
       "  5.17885f-9   -8.80785f-9   -2.43274f-9      -9.88097f-9    1.12369f-8\n",
       "  1.58047f-8    8.90032f-9    1.64305f-8       3.65567f-7    3.72134f-7\n",
       " -1.23891f-8   -1.49311f-8   -1.92658f-8   …   6.28017f-6    6.29902f-6\n",
       " -8.08046f-9    8.08211f-9    1.87474f-8       7.71327f-5    7.71526f-5\n",
       "  3.47536f-8    5.30115f-8    6.34856f-8       0.000702829   0.000703034\n",
       "  ⋮                                        ⋱                \n",
       "  0.0232885     0.0232885     0.0232884    …   0.0413235     0.041339\n",
       "  0.00236357    0.00236378    0.00236408       0.00791743    0.00792187\n",
       "  0.000127728   0.000127614   0.000128046      0.00112776    0.00112832\n",
       "  4.61897f-6    4.31099f-6    4.8272f-6        0.000118862   0.000119253\n",
       " -1.24455f-5   -1.26182f-5   -1.27461f-5       9.21182f-6    9.30667f-6\n",
       " -7.84017f-7   -7.39114f-7   -6.20573f-7   …   7.72638f-7    4.88078f-7\n",
       "  3.24298f-7    2.41556f-7    2.34497f-7       1.48109f-7    4.92591f-8\n",
       " -9.3393f-7    -8.86846f-7   -1.00564f-6      -7.71585f-8    1.88631f-7\n",
       "  7.62994f-7    6.82241f-7    7.49182f-7       1.09733f-7   -1.28168f-7\n",
       " -1.30127f-7   -3.12905f-7   -2.01396f-7       1.89179f-8   -4.89741f-8\n",
       "  3.17975f-8    7.74354f-8    7.28764f-8   …   2.98998f-8    1.20167f-8\n",
       "  1.42344f-8   -1.52349f-8   -6.02392f-9       9.69928f-9    2.67622f-9"
      ]
     },
     "execution_count": 9,
     "metadata": {},
     "output_type": "execute_result"
    }
   ],
   "source": [
    "#--- Boltzmann dataset ---#\n",
    "f_full = Array{Float32}(undef, nu, nv, nw, nx)\n",
    "for i = 1:nx\n",
    "    f_full[:, :, :, i] .= full_distribution(\n",
    "        ctr[i].h,\n",
    "        ctr[i].b,\n",
    "        vSpace.u,\n",
    "        vSpace.weights,\n",
    "        vSpace3D.v,\n",
    "        vSpace3D.w,\n",
    "        ctr[i].prim,\n",
    "        ks.gas.γ,\n",
    "    )\n",
    "end\n",
    "\n",
    "phi, psi, phipsi = kernel_mode(\n",
    "    nm,\n",
    "    vSpace3D.u1,\n",
    "    vSpace3D.v1,\n",
    "    vSpace3D.w1,\n",
    "    vSpace3D.du[1, 1, 1],\n",
    "    vSpace3D.dv[1, 1, 1],\n",
    "    vSpace3D.dw[1, 1, 1],\n",
    "    vSpace3D.nu,\n",
    "    vSpace3D.nv,\n",
    "    vSpace3D.nw,\n",
    "    alphaRef,\n",
    ")\n",
    "\n",
    "function boltzmann(f, p, t)\n",
    "    Kn, M, phi, psi, phipsi = p\n",
    "    return boltzmann_fft(f, Kn, M, phi, psi, phipsi)\n",
    "end\n",
    "\n",
    "function boltzmann!(df, f, p, t)\n",
    "    Kn, M, phi, psi, phipsi = p\n",
    "    df .= boltzmann_fft(f, Kn, M, phi, psi, phipsi)\n",
    "end\n",
    "\n",
    "data_boltz = zeros(Float32, nu, nv, nw, nx, tLen)\n",
    "for i = 1:nx\n",
    "    prob = ODEProblem(\n",
    "        boltzmann!,\n",
    "        f_full[:, :, :, i],\n",
    "        tspan,\n",
    "        [kn_bzm, nm, phi, psi, phipsi],\n",
    "    )\n",
    "\n",
    "    data_boltz[:, :, :, i, :] = solve(prob, Tsit5(), saveat = tran) |> Array\n",
    "end\n",
    "\n",
    "h_boltz = zeros(Float32, nu, nx, tLen)\n",
    "b_boltz = zeros(Float32, nu, nx, tLen)\n",
    "for j = 1:tLen, i = 1:nx\n",
    "    h_boltz[:, i, j], b_boltz[:, i, j] = reduce_distribution(\n",
    "        data_boltz[:, :, :, i, j],\n",
    "        vSpace3D.v,\n",
    "        vSpace3D.w,\n",
    "        vSpace2D.weights,\n",
    "    )\n",
    "end\n",
    "Y = vcat(h_boltz, b_boltz);"
   ]
  },
  {
   "cell_type": "code",
   "execution_count": 6,
   "metadata": {},
   "outputs": [],
   "source": [
    "#--- BGK dataset ---#\n",
    "function bgk!(df, f, p, t)\n",
    "    H, B, tau = p\n",
    "    df[1:end÷2, :] .= (H .- f[1:end÷2, :]) ./ tau\n",
    "    df[end÷2+1:end, :] .= (B .- f[end÷2+1:end, :]) ./ tau\n",
    "end\n",
    "\n",
    "X = Array{Float32}(undef, nu * 2, nx)\n",
    "for i = 1:nx\n",
    "    X[1:nu, i] .= ctr[i].h\n",
    "    X[nu+1:end, i] .= ctr[i].b\n",
    "end\n",
    "\n",
    "H = Array{Float32}(undef, nu, nx)\n",
    "B = Array{Float32}(undef, nu, nx)\n",
    "τ = Array{Float32}(undef, 1, nx)\n",
    "for i = 1:nx\n",
    "    H[:, i] .= maxwellian(ks.vSpace.u, ctr[i].prim)\n",
    "    B[:, i] .= H[:, i] .* ks.gas.K ./ (2.0 .* ctr[i].prim[end])\n",
    "    τ[1, i] = vhs_collision_time(ctr[i].prim, ks.gas.μᵣ, ks.gas.ω)\n",
    "end\n",
    "P = [H, B, τ]\n",
    "\n",
    "prob = ODEProblem(bgk!, X, tspan, P)\n",
    "Y1 = solve(prob, Midpoint(), saveat = tran) |> Array;"
   ]
  },
  {
   "cell_type": "code",
   "execution_count": 32,
   "metadata": {},
   "outputs": [
    {
     "data": {
      "text/plain": [
       "#17 (generic function with 1 method)"
      ]
     },
     "execution_count": 32,
     "metadata": {},
     "output_type": "execute_result"
    }
   ],
   "source": [
    "#--- universal differential equation ---#\n",
    "model_univ = FastChain(\n",
    "    #(x, p) -> x .^ 2, # initial guess\n",
    "    (x, p) -> zeros(eltype(x), axes(x)),\n",
    "    FastDense(vSpace.nu * 2, vSpace.nu * 2 * nh, tanh),\n",
    "    #FastDense(vSpace.nu * 2 * nh, vSpace.nu * 2 * nh, tanh),\n",
    "    FastDense(vSpace.nu * 2 * nh, vSpace.nu * 2),\n",
    ")\n",
    "\n",
    "p_model = initial_params(model_univ)\n",
    "\n",
    "function dfdt(f, p, t)\n",
    "    h = f[1:nu, :]\n",
    "    b = f[nu+1:end, :]\n",
    "\n",
    "    dh = (H .- h) ./ τ .+ model_univ(f, p)[1:nu, :]\n",
    "    db = (B .- b) ./ τ .+ model_univ(f, p)[nu+1:end, :]\n",
    "\n",
    "    df = vcat(dh, db)\n",
    "end\n",
    "\n",
    "function dfdt!(df, f, p, t)\n",
    "    h = f[1:nu, :]\n",
    "    b = f[nu+1:end, :]\n",
    "\n",
    "    dh = (H .- h) ./ τ .+ model_univ(f, p)[1:nu, :]\n",
    "    db = (B .- b) ./ τ .+ model_univ(f, p)[nu+1:end, :]\n",
    "\n",
    "    df[1:nu, :] .= dh\n",
    "    df[nu+1:end, :] .= db\n",
    "end\n",
    "\n",
    "prob_ube = ODEProblem(dfdt, X, tspan, p_model)\n",
    "\n",
    "function loss(p)\n",
    "    sol_ube = concrete_solve(prob_ube, Midpoint(), X, p, saveat = tran)\n",
    "    loss = sum(abs2, Array(sol_ube) .- Y1)\n",
    "    return loss\n",
    "end\n",
    "\n",
    "cb = function (p, l)\n",
    "    display(l)\n",
    "    return false\n",
    "end"
   ]
  },
  {
   "cell_type": "code",
   "execution_count": 33,
   "metadata": {
    "scrolled": true
   },
   "outputs": [
    {
     "data": {
      "text/plain": [
       "4.043678f-13"
      ]
     },
     "metadata": {},
     "output_type": "display_data"
    },
    {
     "name": "stderr",
     "output_type": "stream",
     "text": [
      "\u001b[32mloss: 3.42e-05:   4%|█▋                                       |  ETA: 0:00:30\u001b[39m"
     ]
    },
    {
     "data": {
      "text/plain": [
       "1.048086f-5"
      ]
     },
     "metadata": {},
     "output_type": "display_data"
    },
    {
     "name": "stderr",
     "output_type": "stream",
     "text": [
      "\u001b[32mloss: 4.63e-06:   8%|███▏                                     |  ETA: 0:00:30\u001b[39m"
     ]
    },
    {
     "data": {
      "text/plain": [
       "7.3464794f-6"
      ]
     },
     "metadata": {},
     "output_type": "display_data"
    },
    {
     "name": "stderr",
     "output_type": "stream",
     "text": [
      "\u001b[32mloss: 2.06e-06:  12%|████▊                                    |  ETA: 0:00:28\u001b[39m"
     ]
    },
    {
     "data": {
      "text/plain": [
       "5.9369034f-7"
      ]
     },
     "metadata": {},
     "output_type": "display_data"
    },
    {
     "name": "stderr",
     "output_type": "stream",
     "text": [
      "\u001b[32mloss: 1.77e-06:  16%|██████▌                                  |  ETA: 0:00:26\u001b[39m"
     ]
    },
    {
     "data": {
      "text/plain": [
       "6.214142f-7"
      ]
     },
     "metadata": {},
     "output_type": "display_data"
    },
    {
     "name": "stderr",
     "output_type": "stream",
     "text": [
      "\u001b[32mloss: 1.2e-06:  20%|████████▍                                |  ETA: 0:00:24\u001b[39mm"
     ]
    },
    {
     "data": {
      "text/plain": [
       "8.6438945f-7"
      ]
     },
     "metadata": {},
     "output_type": "display_data"
    },
    {
     "name": "stderr",
     "output_type": "stream",
     "text": [
      "\u001b[32mloss: 4.41e-07:  26%|██████████▌                              |  ETA: 0:00:21\u001b[39m"
     ]
    },
    {
     "data": {
      "text/plain": [
       "3.4096507f-7"
      ]
     },
     "metadata": {},
     "output_type": "display_data"
    },
    {
     "name": "stderr",
     "output_type": "stream",
     "text": [
      "\u001b[32mloss: 1.71e-07:  30%|████████████▌                            |  ETA: 0:00:19\u001b[39m"
     ]
    },
    {
     "data": {
      "text/plain": [
       "1.2004706f-7"
      ]
     },
     "metadata": {},
     "output_type": "display_data"
    },
    {
     "name": "stderr",
     "output_type": "stream",
     "text": [
      "\u001b[32mloss: 6.04e-08:  36%|██████████████▌                          |  ETA: 0:00:17\u001b[39m"
     ]
    },
    {
     "data": {
      "text/plain": [
       "3.7223124f-8"
      ]
     },
     "metadata": {},
     "output_type": "display_data"
    },
    {
     "name": "stderr",
     "output_type": "stream",
     "text": [
      "\u001b[32mloss: 5.06e-09:  42%|█████████████████▎                       |  ETA: 0:00:15\u001b[39m"
     ]
    },
    {
     "data": {
      "text/plain": [
       "7.022365f-9"
      ]
     },
     "metadata": {},
     "output_type": "display_data"
    },
    {
     "name": "stderr",
     "output_type": "stream",
     "text": [
      "\u001b[32mloss: 4.54e-09:  48%|███████████████████▉                     |  ETA: 0:00:13\u001b[39m"
     ]
    },
    {
     "data": {
      "text/plain": [
       "4.6523887f-9"
      ]
     },
     "metadata": {},
     "output_type": "display_data"
    },
    {
     "name": "stderr",
     "output_type": "stream",
     "text": [
      "\u001b[32mloss: 5.16e-10:  55%|██████████████████████▌                  |  ETA: 0:00:11\u001b[39m"
     ]
    },
    {
     "data": {
      "text/plain": [
       "2.787994f-10"
      ]
     },
     "metadata": {},
     "output_type": "display_data"
    },
    {
     "name": "stderr",
     "output_type": "stream",
     "text": [
      "\u001b[32mloss: 2.67e-10:  62%|█████████████████████████▍               |  ETA: 0:00:09\u001b[39m"
     ]
    },
    {
     "data": {
      "text/plain": [
       "1.4003892f-10"
      ]
     },
     "metadata": {},
     "output_type": "display_data"
    },
    {
     "name": "stderr",
     "output_type": "stream",
     "text": [
      "\u001b[32mloss: 4.26e-08:  69%|████████████████████████████▎            |  ETA: 0:00:07\u001b[39m"
     ]
    },
    {
     "data": {
      "text/plain": [
       "9.390446f-8"
      ]
     },
     "metadata": {},
     "output_type": "display_data"
    },
    {
     "name": "stderr",
     "output_type": "stream",
     "text": [
      "\u001b[32mloss: 3.7e-07:  74%|██████████████████████████████▏          |  ETA: 0:00:06\u001b[39mm"
     ]
    },
    {
     "data": {
      "text/plain": [
       "1.7465408f-7"
      ]
     },
     "metadata": {},
     "output_type": "display_data"
    },
    {
     "name": "stderr",
     "output_type": "stream",
     "text": [
      "\u001b[32mloss: 7.43e-08:  78%|████████████████████████████████▏        |  ETA: 0:00:05\u001b[39m"
     ]
    },
    {
     "data": {
      "text/plain": [
       "8.748818f-8"
      ]
     },
     "metadata": {},
     "output_type": "display_data"
    },
    {
     "name": "stderr",
     "output_type": "stream",
     "text": [
      "\u001b[32mloss: 3.63e-08:  84%|██████████████████████████████████▎      |  ETA: 0:00:04\u001b[39m"
     ]
    },
    {
     "data": {
      "text/plain": [
       "5.3040367f-8"
      ]
     },
     "metadata": {},
     "output_type": "display_data"
    },
    {
     "name": "stderr",
     "output_type": "stream",
     "text": [
      "\u001b[32mloss: 1.11e-07:  88%|████████████████████████████████████▎    |  ETA: 0:00:03\u001b[39m"
     ]
    },
    {
     "data": {
      "text/plain": [
       "1.4572198f-7"
      ]
     },
     "metadata": {},
     "output_type": "display_data"
    },
    {
     "name": "stderr",
     "output_type": "stream",
     "text": [
      "\u001b[32mloss: 4.47e-08:  94%|██████████████████████████████████████▍  |  ETA: 0:00:01\u001b[39m"
     ]
    },
    {
     "data": {
      "text/plain": [
       "2.0668688f-8"
      ]
     },
     "metadata": {},
     "output_type": "display_data"
    },
    {
     "name": "stderr",
     "output_type": "stream",
     "text": [
      "\u001b[32mloss: 1.48e-07:  99%|████████████████████████████████████████▋|  ETA: 0:00:00\u001b[39m"
     ]
    },
    {
     "data": {
      "text/plain": [
       "1.4391685f-7"
      ]
     },
     "metadata": {},
     "output_type": "display_data"
    },
    {
     "name": "stderr",
     "output_type": "stream",
     "text": [
      "\u001b[32mloss: 1.52e-07: 100%|█████████████████████████████████████████| Time: 0:00:22\u001b[39m\n"
     ]
    },
    {
     "data": {
      "text/plain": [
       " * Status: success\n",
       "\n",
       " * Candidate solution\n",
       "    Minimizer: [1.70e-03, -3.21e-03, -1.19e-02,  ...]\n",
       "    Minimum:   1.521412e-07\n",
       "\n",
       " * Found with\n",
       "    Algorithm:     ADAM\n",
       "    Initial Point: [1.70e-03, -3.21e-03, -1.19e-02,  ...]\n",
       "\n",
       " * Convergence measures\n",
       "    |x - x'|               = NaN ≰ 0.0e+00\n",
       "    |x - x'|/|x'|          = NaN ≰ 0.0e+00\n",
       "    |f(x) - f(x')|         = NaN ≰ 0.0e+00\n",
       "    |f(x) - f(x')|/|f(x')| = NaN ≰ 0.0e+00\n",
       "    |g(x)|                 = NaN ≰ 0.0e+00\n",
       "\n",
       " * Work counters\n",
       "    Seconds run:   27  (vs limit Inf)\n",
       "    Iterations:    200\n",
       "    f(x) calls:    200\n",
       "    ∇f(x) calls:   200\n"
      ]
     },
     "execution_count": 33,
     "metadata": {},
     "output_type": "execute_result"
    }
   ],
   "source": [
    "res = DiffEqFlux.sciml_train(loss, p_model, ADAM(), cb=Flux.throttle(cb, 1), maxiters=200)"
   ]
  },
  {
   "cell_type": "code",
   "execution_count": 34,
   "metadata": {
    "scrolled": true
   },
   "outputs": [
    {
     "data": {
      "text/plain": [
       "2.127031f-7"
      ]
     },
     "metadata": {},
     "output_type": "display_data"
    },
    {
     "name": "stderr",
     "output_type": "stream",
     "text": [
      "\u001b[32mloss: 2.74e-05:   4%|█▋                                       |  ETA: 0:00:34\u001b[39m"
     ]
    },
    {
     "data": {
      "text/plain": [
       "1.35101245f-5"
      ]
     },
     "metadata": {},
     "output_type": "display_data"
    },
    {
     "name": "stderr",
     "output_type": "stream",
     "text": [
      "\u001b[32mloss: 1.43e-05:   8%|███▏                                     |  ETA: 0:00:33\u001b[39m"
     ]
    },
    {
     "data": {
      "text/plain": [
       "2.3779796f-6"
      ]
     },
     "metadata": {},
     "output_type": "display_data"
    },
    {
     "name": "stderr",
     "output_type": "stream",
     "text": [
      "\u001b[32mloss: 1.83e-05:  12%|████▊                                    |  ETA: 0:00:30\u001b[39m"
     ]
    },
    {
     "data": {
      "text/plain": [
       "9.772529f-6"
      ]
     },
     "metadata": {},
     "output_type": "display_data"
    },
    {
     "name": "stderr",
     "output_type": "stream",
     "text": [
      "\u001b[32mloss: 9.89e-06:  16%|██████▌                                  |  ETA: 0:00:27\u001b[39m"
     ]
    },
    {
     "data": {
      "text/plain": [
       "8.408909f-6"
      ]
     },
     "metadata": {},
     "output_type": "display_data"
    },
    {
     "name": "stderr",
     "output_type": "stream",
     "text": [
      "\u001b[32mloss: 1.93e-06:  20%|████████▍                                |  ETA: 0:00:25\u001b[39m"
     ]
    },
    {
     "data": {
      "text/plain": [
       "2.513932f-6"
      ]
     },
     "metadata": {},
     "output_type": "display_data"
    },
    {
     "name": "stderr",
     "output_type": "stream",
     "text": [
      "\u001b[32mloss: 8.93e-08:  25%|██████████▎                              |  ETA: 0:00:23\u001b[39m"
     ]
    },
    {
     "data": {
      "text/plain": [
       "9.7757194f-8"
      ]
     },
     "metadata": {},
     "output_type": "display_data"
    },
    {
     "name": "stderr",
     "output_type": "stream",
     "text": [
      "\u001b[32mloss: 1.84e-07:  30%|████████████▎                            |  ETA: 0:00:20\u001b[39m"
     ]
    },
    {
     "data": {
      "text/plain": [
       "7.874616f-8"
      ]
     },
     "metadata": {},
     "output_type": "display_data"
    },
    {
     "name": "stderr",
     "output_type": "stream",
     "text": [
      "\u001b[32mloss: 9.4e-08:  36%|██████████████▌                          |  ETA: 0:00:18\u001b[39mm"
     ]
    },
    {
     "data": {
      "text/plain": [
       "4.506293f-8"
      ]
     },
     "metadata": {},
     "output_type": "display_data"
    },
    {
     "name": "stderr",
     "output_type": "stream",
     "text": [
      "\u001b[32mloss: 6.7e-09:  42%|█████████████████▎                       |  ETA: 0:00:15\u001b[39mm"
     ]
    },
    {
     "data": {
      "text/plain": [
       "1.9926514f-9"
      ]
     },
     "metadata": {},
     "output_type": "display_data"
    },
    {
     "name": "stderr",
     "output_type": "stream",
     "text": [
      "\u001b[32mloss: 4.01e-09:  49%|████████████████████▏                    |  ETA: 0:00:13\u001b[39m"
     ]
    },
    {
     "data": {
      "text/plain": [
       "6.3496057f-9"
      ]
     },
     "metadata": {},
     "output_type": "display_data"
    },
    {
     "name": "stderr",
     "output_type": "stream",
     "text": [
      "\u001b[32mloss: 2.78e-09:  56%|██████████████████████▊                  |  ETA: 0:00:11\u001b[39m"
     ]
    },
    {
     "data": {
      "text/plain": [
       "2.5488018f-9"
      ]
     },
     "metadata": {},
     "output_type": "display_data"
    },
    {
     "name": "stderr",
     "output_type": "stream",
     "text": [
      "\u001b[32mloss: 2.25e-10:  62%|█████████████████████████▋               |  ETA: 0:00:09\u001b[39m"
     ]
    },
    {
     "data": {
      "text/plain": [
       "3.5366956f-11"
      ]
     },
     "metadata": {},
     "output_type": "display_data"
    },
    {
     "name": "stderr",
     "output_type": "stream",
     "text": [
      "\u001b[32mloss: 8.4e-11:  70%|████████████████████████████▌            |  ETA: 0:00:07\u001b[39mm"
     ]
    },
    {
     "data": {
      "text/plain": [
       "1.3117972f-10"
      ]
     },
     "metadata": {},
     "output_type": "display_data"
    },
    {
     "name": "stderr",
     "output_type": "stream",
     "text": [
      "\u001b[32mloss: 2.58e-11:  76%|███████████████████████████████▍         |  ETA: 0:00:05\u001b[39m"
     ]
    },
    {
     "data": {
      "text/plain": [
       "5.3951557f-12"
      ]
     },
     "metadata": {},
     "output_type": "display_data"
    },
    {
     "name": "stderr",
     "output_type": "stream",
     "text": [
      "\u001b[32mloss: 4.88e-12:  84%|██████████████████████████████████▎      |  ETA: 0:00:04\u001b[39m"
     ]
    },
    {
     "data": {
      "text/plain": [
       "8.2891844f-12"
      ]
     },
     "metadata": {},
     "output_type": "display_data"
    },
    {
     "name": "stderr",
     "output_type": "stream",
     "text": [
      "\u001b[32mloss: 2.24e-12:  90%|█████████████████████████████████████▏   |  ETA: 0:00:02\u001b[39m"
     ]
    },
    {
     "data": {
      "text/plain": [
       "8.566154f-13"
      ]
     },
     "metadata": {},
     "output_type": "display_data"
    },
    {
     "name": "stderr",
     "output_type": "stream",
     "text": [
      "\u001b[32mloss: 1.15e-12:  98%|████████████████████████████████████████ |  ETA: 0:00:01\u001b[39m"
     ]
    },
    {
     "data": {
      "text/plain": [
       "1.4185647f-12"
      ]
     },
     "metadata": {},
     "output_type": "display_data"
    },
    {
     "name": "stderr",
     "output_type": "stream",
     "text": [
      "\u001b[32mloss: 9.32e-13: 100%|█████████████████████████████████████████| Time: 0:00:20\u001b[39m\n"
     ]
    },
    {
     "data": {
      "text/plain": [
       " * Status: success\n",
       "\n",
       " * Candidate solution\n",
       "    Minimizer: [1.70e-03, -3.21e-03, -1.19e-02,  ...]\n",
       "    Minimum:   9.319635e-13\n",
       "\n",
       " * Found with\n",
       "    Algorithm:     ADAM\n",
       "    Initial Point: [1.70e-03, -3.21e-03, -1.19e-02,  ...]\n",
       "\n",
       " * Convergence measures\n",
       "    |x - x'|               = NaN ≰ 0.0e+00\n",
       "    |x - x'|/|x'|          = NaN ≰ 0.0e+00\n",
       "    |f(x) - f(x')|         = NaN ≰ 0.0e+00\n",
       "    |f(x) - f(x')|/|f(x')| = NaN ≰ 0.0e+00\n",
       "    |g(x)|                 = NaN ≰ 0.0e+00\n",
       "\n",
       " * Work counters\n",
       "    Seconds run:   21  (vs limit Inf)\n",
       "    Iterations:    200\n",
       "    f(x) calls:    200\n",
       "    ∇f(x) calls:   200\n"
      ]
     },
     "execution_count": 34,
     "metadata": {},
     "output_type": "execute_result"
    }
   ],
   "source": [
    "res = DiffEqFlux.sciml_train(loss, res.minimizer, ADAM(), cb=Flux.throttle(cb, 1), maxiters=200)"
   ]
  },
  {
   "cell_type": "code",
   "execution_count": 23,
   "metadata": {},
   "outputs": [
    {
     "data": {
      "text/plain": [
       "retcode: Success\n",
       "Interpolation: 1st order linear\n",
       "t: 3-element Array{Float32,1}:\n",
       " 0.0\n",
       " 0.043301642\n",
       " 0.086603284\n",
       "u: 3-element Array{Array{Float32,2},1}:\n",
       " [0.0 7.5517525f-26 … 6.5800825f-24 6.5911486f-24; 0.0 1.4871077f-23 … 1.5732505f-21 1.5757127f-21; … ; 2.2266546f-24 2.2266546f-24 … 4.3071287f-15 4.3236894f-15; 4.690858f-28 4.690858f-28 … 4.2303055f-17 4.2490362f-17]\n",
       " [1.6241286f-6 1.6241286f-6 … 1.5538573f-6 1.5538664f-6; 1.3709374f-6 1.3709374f-6 … 1.3116221f-6 1.3116288f-6; … ; 9.85493f-7 9.85493f-7 … 9.4285343f-7 9.4285946f-7; -2.1887504f-6 -2.1887504f-6 … -2.09405f-6 -2.0940622f-6]\n",
       " [3.1860006f-6 3.1860006f-6 … 2.919916f-6 2.9199473f-6; 2.6893229f-6 2.6893229f-6 … 2.4647175f-6 2.4647468f-6; … ; 1.93321f-6 1.93321f-6 … 1.7717567f-6 1.7717744f-6; -4.2936003f-6 -4.2936003f-6 … -3.9350125f-6 -3.9350552f-6]"
      ]
     },
     "execution_count": 23,
     "metadata": {},
     "output_type": "execute_result"
    }
   ],
   "source": [
    "sol_ude = solve(prob_ube, Tsit5(), u0=X, p=res.minimizer, saveat=tran)"
   ]
  },
  {
   "cell_type": "code",
   "execution_count": 24,
   "metadata": {},
   "outputs": [
    {
     "data": {
      "image/svg+xml": [
       "<?xml version=\"1.0\" encoding=\"utf-8\"?>\n",
       "<svg xmlns=\"http://www.w3.org/2000/svg\" xmlns:xlink=\"http://www.w3.org/1999/xlink\" width=\"600\" height=\"400\" viewBox=\"0 0 2400 1600\">\n",
       "<defs>\n",
       "  <clipPath id=\"clip350\">\n",
       "    <rect x=\"0\" y=\"0\" width=\"2400\" height=\"1600\"/>\n",
       "  </clipPath>\n",
       "</defs>\n",
       "<path clip-path=\"url(#clip350)\" d=\"\n",
       "M0 1600 L2400 1600 L2400 0 L0 0  Z\n",
       "  \" fill=\"#ffffff\" fill-rule=\"evenodd\" fill-opacity=\"1\"/>\n",
       "<defs>\n",
       "  <clipPath id=\"clip351\">\n",
       "    <rect x=\"480\" y=\"0\" width=\"1681\" height=\"1600\"/>\n",
       "  </clipPath>\n",
       "</defs>\n",
       "<path clip-path=\"url(#clip350)\" d=\"\n",
       "M148.334 1486.45 L2352.76 1486.45 L2352.76 47.2441 L148.334 47.2441  Z\n",
       "  \" fill=\"#ffffff\" fill-rule=\"evenodd\" fill-opacity=\"1\"/>\n",
       "<defs>\n",
       "  <clipPath id=\"clip352\">\n",
       "    <rect x=\"148\" y=\"47\" width=\"2205\" height=\"1440\"/>\n",
       "  </clipPath>\n",
       "</defs>\n",
       "<polyline clip-path=\"url(#clip352)\" style=\"stroke:#000000; stroke-width:2; stroke-opacity:0.1; fill:none\" points=\"\n",
       "  181.014,1486.45 181.014,47.2441 \n",
       "  \"/>\n",
       "<polyline clip-path=\"url(#clip352)\" style=\"stroke:#000000; stroke-width:2; stroke-opacity:0.1; fill:none\" points=\"\n",
       "  715.78,1486.45 715.78,47.2441 \n",
       "  \"/>\n",
       "<polyline clip-path=\"url(#clip352)\" style=\"stroke:#000000; stroke-width:2; stroke-opacity:0.1; fill:none\" points=\"\n",
       "  1250.55,1486.45 1250.55,47.2441 \n",
       "  \"/>\n",
       "<polyline clip-path=\"url(#clip352)\" style=\"stroke:#000000; stroke-width:2; stroke-opacity:0.1; fill:none\" points=\"\n",
       "  1785.31,1486.45 1785.31,47.2441 \n",
       "  \"/>\n",
       "<polyline clip-path=\"url(#clip352)\" style=\"stroke:#000000; stroke-width:2; stroke-opacity:0.1; fill:none\" points=\"\n",
       "  2320.08,1486.45 2320.08,47.2441 \n",
       "  \"/>\n",
       "<polyline clip-path=\"url(#clip352)\" style=\"stroke:#000000; stroke-width:2; stroke-opacity:0.1; fill:none\" points=\"\n",
       "  148.334,1445.68 2352.76,1445.68 \n",
       "  \"/>\n",
       "<polyline clip-path=\"url(#clip352)\" style=\"stroke:#000000; stroke-width:2; stroke-opacity:0.1; fill:none\" points=\"\n",
       "  148.334,1233.5 2352.76,1233.5 \n",
       "  \"/>\n",
       "<polyline clip-path=\"url(#clip352)\" style=\"stroke:#000000; stroke-width:2; stroke-opacity:0.1; fill:none\" points=\"\n",
       "  148.334,1021.32 2352.76,1021.32 \n",
       "  \"/>\n",
       "<polyline clip-path=\"url(#clip352)\" style=\"stroke:#000000; stroke-width:2; stroke-opacity:0.1; fill:none\" points=\"\n",
       "  148.334,809.143 2352.76,809.143 \n",
       "  \"/>\n",
       "<polyline clip-path=\"url(#clip352)\" style=\"stroke:#000000; stroke-width:2; stroke-opacity:0.1; fill:none\" points=\"\n",
       "  148.334,596.963 2352.76,596.963 \n",
       "  \"/>\n",
       "<polyline clip-path=\"url(#clip352)\" style=\"stroke:#000000; stroke-width:2; stroke-opacity:0.1; fill:none\" points=\"\n",
       "  148.334,384.784 2352.76,384.784 \n",
       "  \"/>\n",
       "<polyline clip-path=\"url(#clip352)\" style=\"stroke:#000000; stroke-width:2; stroke-opacity:0.1; fill:none\" points=\"\n",
       "  148.334,172.604 2352.76,172.604 \n",
       "  \"/>\n",
       "<polyline clip-path=\"url(#clip350)\" style=\"stroke:#000000; stroke-width:4; stroke-opacity:1; fill:none\" points=\"\n",
       "  148.334,1486.45 2352.76,1486.45 \n",
       "  \"/>\n",
       "<polyline clip-path=\"url(#clip350)\" style=\"stroke:#000000; stroke-width:4; stroke-opacity:1; fill:none\" points=\"\n",
       "  148.334,1486.45 148.334,47.2441 \n",
       "  \"/>\n",
       "<polyline clip-path=\"url(#clip350)\" style=\"stroke:#000000; stroke-width:4; stroke-opacity:1; fill:none\" points=\"\n",
       "  181.014,1486.45 181.014,1469.18 \n",
       "  \"/>\n",
       "<polyline clip-path=\"url(#clip350)\" style=\"stroke:#000000; stroke-width:4; stroke-opacity:1; fill:none\" points=\"\n",
       "  715.78,1486.45 715.78,1469.18 \n",
       "  \"/>\n",
       "<polyline clip-path=\"url(#clip350)\" style=\"stroke:#000000; stroke-width:4; stroke-opacity:1; fill:none\" points=\"\n",
       "  1250.55,1486.45 1250.55,1469.18 \n",
       "  \"/>\n",
       "<polyline clip-path=\"url(#clip350)\" style=\"stroke:#000000; stroke-width:4; stroke-opacity:1; fill:none\" points=\"\n",
       "  1785.31,1486.45 1785.31,1469.18 \n",
       "  \"/>\n",
       "<polyline clip-path=\"url(#clip350)\" style=\"stroke:#000000; stroke-width:4; stroke-opacity:1; fill:none\" points=\"\n",
       "  2320.08,1486.45 2320.08,1469.18 \n",
       "  \"/>\n",
       "<polyline clip-path=\"url(#clip350)\" style=\"stroke:#000000; stroke-width:4; stroke-opacity:1; fill:none\" points=\"\n",
       "  148.334,1445.68 174.787,1445.68 \n",
       "  \"/>\n",
       "<polyline clip-path=\"url(#clip350)\" style=\"stroke:#000000; stroke-width:4; stroke-opacity:1; fill:none\" points=\"\n",
       "  148.334,1233.5 174.787,1233.5 \n",
       "  \"/>\n",
       "<polyline clip-path=\"url(#clip350)\" style=\"stroke:#000000; stroke-width:4; stroke-opacity:1; fill:none\" points=\"\n",
       "  148.334,1021.32 174.787,1021.32 \n",
       "  \"/>\n",
       "<polyline clip-path=\"url(#clip350)\" style=\"stroke:#000000; stroke-width:4; stroke-opacity:1; fill:none\" points=\"\n",
       "  148.334,809.143 174.787,809.143 \n",
       "  \"/>\n",
       "<polyline clip-path=\"url(#clip350)\" style=\"stroke:#000000; stroke-width:4; stroke-opacity:1; fill:none\" points=\"\n",
       "  148.334,596.963 174.787,596.963 \n",
       "  \"/>\n",
       "<polyline clip-path=\"url(#clip350)\" style=\"stroke:#000000; stroke-width:4; stroke-opacity:1; fill:none\" points=\"\n",
       "  148.334,384.784 174.787,384.784 \n",
       "  \"/>\n",
       "<polyline clip-path=\"url(#clip350)\" style=\"stroke:#000000; stroke-width:4; stroke-opacity:1; fill:none\" points=\"\n",
       "  148.334,172.604 174.787,172.604 \n",
       "  \"/>\n",
       "<path clip-path=\"url(#clip350)\" d=\"M 0 0 M148.376 1525.04 L160.853 1525.04 L160.853 1528.83 L148.376 1528.83 L148.376 1525.04 Z\" fill=\"#000000\" fill-rule=\"evenodd\" fill-opacity=\"1\" /><path clip-path=\"url(#clip350)\" d=\"M 0 0 M166.732 1535.98 L174.371 1535.98 L174.371 1509.62 L166.061 1511.29 L166.061 1507.03 L174.325 1505.36 L179.001 1505.36 L179.001 1535.98 L186.639 1535.98 L186.639 1539.92 L166.732 1539.92 L166.732 1535.98 Z\" fill=\"#000000\" fill-rule=\"evenodd\" fill-opacity=\"1\" /><path clip-path=\"url(#clip350)\" d=\"M 0 0 M201.709 1508.44 Q198.098 1508.44 196.269 1512 Q194.463 1515.55 194.463 1522.67 Q194.463 1529.78 196.269 1533.35 Q198.098 1536.89 201.709 1536.89 Q205.343 1536.89 207.149 1533.35 Q208.977 1529.78 208.977 1522.67 Q208.977 1515.55 207.149 1512 Q205.343 1508.44 201.709 1508.44 M201.709 1504.73 Q207.519 1504.73 210.575 1509.34 Q213.653 1513.92 213.653 1522.67 Q213.653 1531.4 210.575 1536.01 Q207.519 1540.59 201.709 1540.59 Q195.899 1540.59 192.82 1536.01 Q189.764 1531.4 189.764 1522.67 Q189.764 1513.92 192.82 1509.34 Q195.899 1504.73 201.709 1504.73 Z\" fill=\"#000000\" fill-rule=\"evenodd\" fill-opacity=\"1\" /><path clip-path=\"url(#clip350)\" d=\"M 0 0 M696.532 1525.04 L709.009 1525.04 L709.009 1528.83 L696.532 1528.83 L696.532 1525.04 Z\" fill=\"#000000\" fill-rule=\"evenodd\" fill-opacity=\"1\" /><path clip-path=\"url(#clip350)\" d=\"M 0 0 M714.125 1505.36 L732.481 1505.36 L732.481 1509.3 L718.407 1509.3 L718.407 1517.77 Q719.426 1517.42 720.444 1517.26 Q721.463 1517.07 722.481 1517.07 Q728.268 1517.07 731.648 1520.24 Q735.027 1523.42 735.027 1528.83 Q735.027 1534.41 731.555 1537.51 Q728.083 1540.59 721.764 1540.59 Q719.588 1540.59 717.319 1540.22 Q715.074 1539.85 712.666 1539.11 L712.666 1534.41 Q714.75 1535.54 716.972 1536.1 Q719.194 1536.66 721.671 1536.66 Q725.676 1536.66 728.014 1534.55 Q730.352 1532.44 730.352 1528.83 Q730.352 1525.22 728.014 1523.11 Q725.676 1521.01 721.671 1521.01 Q719.796 1521.01 717.921 1521.42 Q716.069 1521.84 714.125 1522.72 L714.125 1505.36 Z\" fill=\"#000000\" fill-rule=\"evenodd\" fill-opacity=\"1\" /><path clip-path=\"url(#clip350)\" d=\"M 0 0 M1250.55 1508.44 Q1246.93 1508.44 1245.11 1512 Q1243.3 1515.55 1243.3 1522.67 Q1243.3 1529.78 1245.11 1533.35 Q1246.93 1536.89 1250.55 1536.89 Q1254.18 1536.89 1255.98 1533.35 Q1257.81 1529.78 1257.81 1522.67 Q1257.81 1515.55 1255.98 1512 Q1254.18 1508.44 1250.55 1508.44 M1250.55 1504.73 Q1256.36 1504.73 1259.41 1509.34 Q1262.49 1513.92 1262.49 1522.67 Q1262.49 1531.4 1259.41 1536.01 Q1256.36 1540.59 1250.55 1540.59 Q1244.73 1540.59 1241.66 1536.01 Q1238.6 1531.4 1238.6 1522.67 Q1238.6 1513.92 1241.66 1509.34 Q1244.73 1504.73 1250.55 1504.73 Z\" fill=\"#000000\" fill-rule=\"evenodd\" fill-opacity=\"1\" /><path clip-path=\"url(#clip350)\" d=\"M 0 0 M1775.59 1505.36 L1793.94 1505.36 L1793.94 1509.3 L1779.87 1509.3 L1779.87 1517.77 Q1780.89 1517.42 1781.91 1517.26 Q1782.93 1517.07 1783.94 1517.07 Q1789.73 1517.07 1793.11 1520.24 Q1796.49 1523.42 1796.49 1528.83 Q1796.49 1534.41 1793.02 1537.51 Q1789.55 1540.59 1783.23 1540.59 Q1781.05 1540.59 1778.78 1540.22 Q1776.54 1539.85 1774.13 1539.11 L1774.13 1534.41 Q1776.21 1535.54 1778.44 1536.1 Q1780.66 1536.66 1783.13 1536.66 Q1787.14 1536.66 1789.48 1534.55 Q1791.82 1532.44 1791.82 1528.83 Q1791.82 1525.22 1789.48 1523.11 Q1787.14 1521.01 1783.13 1521.01 Q1781.26 1521.01 1779.38 1521.42 Q1777.53 1521.84 1775.59 1522.72 L1775.59 1505.36 Z\" fill=\"#000000\" fill-rule=\"evenodd\" fill-opacity=\"1\" /><path clip-path=\"url(#clip350)\" d=\"M 0 0 M2296.95 1535.98 L2304.59 1535.98 L2304.59 1509.62 L2296.28 1511.29 L2296.28 1507.03 L2304.54 1505.36 L2309.22 1505.36 L2309.22 1535.98 L2316.86 1535.98 L2316.86 1539.92 L2296.95 1539.92 L2296.95 1535.98 Z\" fill=\"#000000\" fill-rule=\"evenodd\" fill-opacity=\"1\" /><path clip-path=\"url(#clip350)\" d=\"M 0 0 M2331.93 1508.44 Q2328.32 1508.44 2326.49 1512 Q2324.68 1515.55 2324.68 1522.67 Q2324.68 1529.78 2326.49 1533.35 Q2328.32 1536.89 2331.93 1536.89 Q2335.56 1536.89 2337.37 1533.35 Q2339.2 1529.78 2339.2 1522.67 Q2339.2 1515.55 2337.37 1512 Q2335.56 1508.44 2331.93 1508.44 M2331.93 1504.73 Q2337.74 1504.73 2340.79 1509.34 Q2343.87 1513.92 2343.87 1522.67 Q2343.87 1531.4 2340.79 1536.01 Q2337.74 1540.59 2331.93 1540.59 Q2326.12 1540.59 2323.04 1536.01 Q2319.98 1531.4 2319.98 1522.67 Q2319.98 1513.92 2323.04 1509.34 Q2326.12 1504.73 2331.93 1504.73 Z\" fill=\"#000000\" fill-rule=\"evenodd\" fill-opacity=\"1\" /><path clip-path=\"url(#clip350)\" d=\"M 0 0 M75.4226 1431.48 Q71.8115 1431.48 69.9828 1435.05 Q68.1773 1438.59 68.1773 1445.72 Q68.1773 1452.82 69.9828 1456.39 Q71.8115 1459.93 75.4226 1459.93 Q79.0569 1459.93 80.8624 1456.39 Q82.6911 1452.82 82.6911 1445.72 Q82.6911 1438.59 80.8624 1435.05 Q79.0569 1431.48 75.4226 1431.48 M75.4226 1427.78 Q81.2328 1427.78 84.2883 1432.38 Q87.367 1436.97 87.367 1445.72 Q87.367 1454.44 84.2883 1459.05 Q81.2328 1463.63 75.4226 1463.63 Q69.6125 1463.63 66.5338 1459.05 Q63.4782 1454.44 63.4782 1445.72 Q63.4782 1436.97 66.5338 1432.38 Q69.6125 1427.78 75.4226 1427.78 Z\" fill=\"#000000\" fill-rule=\"evenodd\" fill-opacity=\"1\" /><path clip-path=\"url(#clip350)\" d=\"M 0 0 M92.4364 1457.08 L97.3206 1457.08 L97.3206 1462.96 L92.4364 1462.96 L92.4364 1457.08 Z\" fill=\"#000000\" fill-rule=\"evenodd\" fill-opacity=\"1\" /><path clip-path=\"url(#clip350)\" d=\"M 0 0 M112.39 1431.48 Q108.779 1431.48 106.95 1435.05 Q105.145 1438.59 105.145 1445.72 Q105.145 1452.82 106.95 1456.39 Q108.779 1459.93 112.39 1459.93 Q116.024 1459.93 117.83 1456.39 Q119.658 1452.82 119.658 1445.72 Q119.658 1438.59 117.83 1435.05 Q116.024 1431.48 112.39 1431.48 M112.39 1427.78 Q118.2 1427.78 121.256 1432.38 Q124.334 1436.97 124.334 1445.72 Q124.334 1454.44 121.256 1459.05 Q118.2 1463.63 112.39 1463.63 Q106.58 1463.63 103.501 1459.05 Q100.446 1454.44 100.446 1445.72 Q100.446 1436.97 103.501 1432.38 Q106.58 1427.78 112.39 1427.78 Z\" fill=\"#000000\" fill-rule=\"evenodd\" fill-opacity=\"1\" /><path clip-path=\"url(#clip350)\" d=\"M 0 0 M76.6495 1219.3 Q73.0384 1219.3 71.2097 1222.87 Q69.4041 1226.41 69.4041 1233.54 Q69.4041 1240.64 71.2097 1244.21 Q73.0384 1247.75 76.6495 1247.75 Q80.2837 1247.75 82.0892 1244.21 Q83.9179 1240.64 83.9179 1233.54 Q83.9179 1226.41 82.0892 1222.87 Q80.2837 1219.3 76.6495 1219.3 M76.6495 1215.6 Q82.4596 1215.6 85.5152 1220.2 Q88.5938 1224.79 88.5938 1233.54 Q88.5938 1242.26 85.5152 1246.87 Q82.4596 1251.45 76.6495 1251.45 Q70.8393 1251.45 67.7606 1246.87 Q64.7051 1242.26 64.7051 1233.54 Q64.7051 1224.79 67.7606 1220.2 Q70.8393 1215.6 76.6495 1215.6 Z\" fill=\"#000000\" fill-rule=\"evenodd\" fill-opacity=\"1\" /><path clip-path=\"url(#clip350)\" d=\"M 0 0 M93.6633 1244.9 L98.5475 1244.9 L98.5475 1250.78 L93.6633 1250.78 L93.6633 1244.9 Z\" fill=\"#000000\" fill-rule=\"evenodd\" fill-opacity=\"1\" /><path clip-path=\"url(#clip350)\" d=\"M 0 0 M104.427 1246.85 L112.066 1246.85 L112.066 1220.48 L103.756 1222.15 L103.756 1217.89 L112.02 1216.22 L116.696 1216.22 L116.696 1246.85 L124.334 1246.85 L124.334 1250.78 L104.427 1250.78 L104.427 1246.85 Z\" fill=\"#000000\" fill-rule=\"evenodd\" fill-opacity=\"1\" /><path clip-path=\"url(#clip350)\" d=\"M 0 0 M77.0198 1007.12 Q73.4087 1007.12 71.58 1010.69 Q69.7745 1014.23 69.7745 1021.36 Q69.7745 1028.46 71.58 1032.03 Q73.4087 1035.57 77.0198 1035.57 Q80.6541 1035.57 82.4596 1032.03 Q84.2883 1028.46 84.2883 1021.36 Q84.2883 1014.23 82.4596 1010.69 Q80.6541 1007.12 77.0198 1007.12 M77.0198 1003.42 Q82.83 1003.42 85.8855 1008.02 Q88.9642 1012.61 88.9642 1021.36 Q88.9642 1030.08 85.8855 1034.69 Q82.83 1039.27 77.0198 1039.27 Q71.2097 1039.27 68.131 1034.69 Q65.0754 1030.08 65.0754 1021.36 Q65.0754 1012.61 68.131 1008.02 Q71.2097 1003.42 77.0198 1003.42 Z\" fill=\"#000000\" fill-rule=\"evenodd\" fill-opacity=\"1\" /><path clip-path=\"url(#clip350)\" d=\"M 0 0 M94.0336 1032.72 L98.9179 1032.72 L98.9179 1038.6 L94.0336 1038.6 L94.0336 1032.72 Z\" fill=\"#000000\" fill-rule=\"evenodd\" fill-opacity=\"1\" /><path clip-path=\"url(#clip350)\" d=\"M 0 0 M108.015 1034.67 L124.334 1034.67 L124.334 1038.6 L102.39 1038.6 L102.39 1034.67 Q105.052 1031.91 109.635 1027.28 Q114.242 1022.63 115.422 1021.29 Q117.668 1018.76 118.547 1017.03 Q119.45 1015.27 119.45 1013.58 Q119.45 1010.83 117.506 1009.09 Q115.584 1007.35 112.483 1007.35 Q110.284 1007.35 107.83 1008.12 Q105.399 1008.88 102.622 1010.43 L102.622 1005.71 Q105.446 1004.58 107.899 1004 Q110.353 1003.42 112.39 1003.42 Q117.76 1003.42 120.955 1006.1 Q124.149 1008.79 124.149 1013.28 Q124.149 1015.41 123.339 1017.33 Q122.552 1019.23 120.446 1021.82 Q119.867 1022.49 116.765 1025.71 Q113.663 1028.9 108.015 1034.67 Z\" fill=\"#000000\" fill-rule=\"evenodd\" fill-opacity=\"1\" /><path clip-path=\"url(#clip350)\" d=\"M 0 0 M76.0708 794.942 Q72.4597 794.942 70.631 798.507 Q68.8254 802.048 68.8254 809.178 Q68.8254 816.284 70.631 819.849 Q72.4597 823.391 76.0708 823.391 Q79.705 823.391 81.5105 819.849 Q83.3392 816.284 83.3392 809.178 Q83.3392 802.048 81.5105 798.507 Q79.705 794.942 76.0708 794.942 M76.0708 791.238 Q81.8809 791.238 84.9365 795.844 Q88.0151 800.428 88.0151 809.178 Q88.0151 817.905 84.9365 822.511 Q81.8809 827.094 76.0708 827.094 Q70.2606 827.094 67.1819 822.511 Q64.1264 817.905 64.1264 809.178 Q64.1264 800.428 67.1819 795.844 Q70.2606 791.238 76.0708 791.238 Z\" fill=\"#000000\" fill-rule=\"evenodd\" fill-opacity=\"1\" /><path clip-path=\"url(#clip350)\" d=\"M 0 0 M93.0846 820.543 L97.9688 820.543 L97.9688 826.423 L93.0846 826.423 L93.0846 820.543 Z\" fill=\"#000000\" fill-rule=\"evenodd\" fill-opacity=\"1\" /><path clip-path=\"url(#clip350)\" d=\"M 0 0 M117.205 807.789 Q120.561 808.506 122.436 810.775 Q124.334 813.043 124.334 816.377 Q124.334 821.492 120.816 824.293 Q117.297 827.094 110.816 827.094 Q108.64 827.094 106.325 826.655 Q104.034 826.238 101.58 825.381 L101.58 820.868 Q103.524 822.002 105.839 822.58 Q108.154 823.159 110.677 823.159 Q115.075 823.159 117.367 821.423 Q119.682 819.687 119.682 816.377 Q119.682 813.321 117.529 811.608 Q115.399 809.872 111.58 809.872 L107.552 809.872 L107.552 806.03 L111.765 806.03 Q115.214 806.03 117.043 804.664 Q118.871 803.275 118.871 800.682 Q118.871 798.02 116.973 796.608 Q115.098 795.173 111.58 795.173 Q109.659 795.173 107.459 795.59 Q105.26 796.007 102.622 796.886 L102.622 792.72 Q105.284 791.979 107.598 791.608 Q109.936 791.238 111.996 791.238 Q117.321 791.238 120.422 793.669 Q123.524 796.076 123.524 800.196 Q123.524 803.067 121.881 805.057 Q120.237 807.025 117.205 807.789 Z\" fill=\"#000000\" fill-rule=\"evenodd\" fill-opacity=\"1\" /><path clip-path=\"url(#clip350)\" d=\"M 0 0 M74.9365 582.762 Q71.3254 582.762 69.4967 586.327 Q67.6912 589.869 67.6912 596.998 Q67.6912 604.105 69.4967 607.669 Q71.3254 611.211 74.9365 611.211 Q78.5707 611.211 80.3763 607.669 Q82.205 604.105 82.205 596.998 Q82.205 589.869 80.3763 586.327 Q78.5707 582.762 74.9365 582.762 M74.9365 579.058 Q80.7467 579.058 83.8022 583.665 Q86.8809 588.248 86.8809 596.998 Q86.8809 605.725 83.8022 610.331 Q80.7467 614.915 74.9365 614.915 Q69.1264 614.915 66.0477 610.331 Q62.9921 605.725 62.9921 596.998 Q62.9921 588.248 66.0477 583.665 Q69.1264 579.058 74.9365 579.058 Z\" fill=\"#000000\" fill-rule=\"evenodd\" fill-opacity=\"1\" /><path clip-path=\"url(#clip350)\" d=\"M 0 0 M91.9503 608.364 L96.8345 608.364 L96.8345 614.243 L91.9503 614.243 L91.9503 608.364 Z\" fill=\"#000000\" fill-rule=\"evenodd\" fill-opacity=\"1\" /><path clip-path=\"url(#clip350)\" d=\"M 0 0 M114.751 583.757 L102.946 602.206 L114.751 602.206 L114.751 583.757 M113.524 579.683 L119.404 579.683 L119.404 602.206 L124.334 602.206 L124.334 606.095 L119.404 606.095 L119.404 614.243 L114.751 614.243 L114.751 606.095 L99.1493 606.095 L99.1493 601.581 L113.524 579.683 Z\" fill=\"#000000\" fill-rule=\"evenodd\" fill-opacity=\"1\" /><path clip-path=\"url(#clip350)\" d=\"M 0 0 M76.418 370.582 Q72.8069 370.582 70.9782 374.147 Q69.1726 377.689 69.1726 384.818 Q69.1726 391.925 70.9782 395.49 Q72.8069 399.031 76.418 399.031 Q80.0522 399.031 81.8578 395.49 Q83.6865 391.925 83.6865 384.818 Q83.6865 377.689 81.8578 374.147 Q80.0522 370.582 76.418 370.582 M76.418 366.879 Q82.2281 366.879 85.2837 371.485 Q88.3624 376.069 88.3624 384.818 Q88.3624 393.545 85.2837 398.152 Q82.2281 402.735 76.418 402.735 Q70.6078 402.735 67.5291 398.152 Q64.4736 393.545 64.4736 384.818 Q64.4736 376.069 67.5291 371.485 Q70.6078 366.879 76.418 366.879 Z\" fill=\"#000000\" fill-rule=\"evenodd\" fill-opacity=\"1\" /><path clip-path=\"url(#clip350)\" d=\"M 0 0 M93.4318 396.184 L98.316 396.184 L98.316 402.064 L93.4318 402.064 L93.4318 396.184 Z\" fill=\"#000000\" fill-rule=\"evenodd\" fill-opacity=\"1\" /><path clip-path=\"url(#clip350)\" d=\"M 0 0 M103.432 367.504 L121.788 367.504 L121.788 371.439 L107.714 371.439 L107.714 379.911 Q108.733 379.564 109.751 379.402 Q110.77 379.217 111.788 379.217 Q117.575 379.217 120.955 382.388 Q124.334 385.559 124.334 390.976 Q124.334 396.555 120.862 399.656 Q117.39 402.735 111.071 402.735 Q108.895 402.735 106.626 402.365 Q104.381 401.994 101.973 401.254 L101.973 396.555 Q104.057 397.689 106.279 398.244 Q108.501 398.8 110.978 398.8 Q114.983 398.8 117.321 396.693 Q119.658 394.587 119.658 390.976 Q119.658 387.365 117.321 385.258 Q114.983 383.152 110.978 383.152 Q109.103 383.152 107.228 383.568 Q105.376 383.985 103.432 384.865 L103.432 367.504 Z\" fill=\"#000000\" fill-rule=\"evenodd\" fill-opacity=\"1\" /><path clip-path=\"url(#clip350)\" d=\"M 0 0 M75.2606 158.403 Q71.6495 158.403 69.8208 161.968 Q68.0152 165.509 68.0152 172.639 Q68.0152 179.745 69.8208 183.31 Q71.6495 186.852 75.2606 186.852 Q78.8948 186.852 80.7004 183.31 Q82.5291 179.745 82.5291 172.639 Q82.5291 165.509 80.7004 161.968 Q78.8948 158.403 75.2606 158.403 M75.2606 154.699 Q81.0707 154.699 84.1263 159.306 Q87.205 163.889 87.205 172.639 Q87.205 181.366 84.1263 185.972 Q81.0707 190.555 75.2606 190.555 Q69.4504 190.555 66.3717 185.972 Q63.3162 181.366 63.3162 172.639 Q63.3162 163.889 66.3717 159.306 Q69.4504 154.699 75.2606 154.699 Z\" fill=\"#000000\" fill-rule=\"evenodd\" fill-opacity=\"1\" /><path clip-path=\"url(#clip350)\" d=\"M 0 0 M92.2744 184.005 L97.1586 184.005 L97.1586 189.884 L92.2744 189.884 L92.2744 184.005 Z\" fill=\"#000000\" fill-rule=\"evenodd\" fill-opacity=\"1\" /><path clip-path=\"url(#clip350)\" d=\"M 0 0 M112.807 170.741 Q109.659 170.741 107.807 172.893 Q105.978 175.046 105.978 178.796 Q105.978 182.523 107.807 184.699 Q109.659 186.852 112.807 186.852 Q115.955 186.852 117.783 184.699 Q119.635 182.523 119.635 178.796 Q119.635 175.046 117.783 172.893 Q115.955 170.741 112.807 170.741 M122.089 156.088 L122.089 160.347 Q120.33 159.514 118.524 159.074 Q116.742 158.634 114.983 158.634 Q110.353 158.634 107.899 161.759 Q105.469 164.884 105.122 171.204 Q106.487 169.19 108.547 168.125 Q110.608 167.037 113.084 167.037 Q118.293 167.037 121.302 170.208 Q124.334 173.356 124.334 178.796 Q124.334 184.12 121.186 187.338 Q118.038 190.555 112.807 190.555 Q106.811 190.555 103.64 185.972 Q100.469 181.366 100.469 172.639 Q100.469 164.444 104.358 159.583 Q108.247 154.699 114.797 154.699 Q116.557 154.699 118.339 155.046 Q120.145 155.394 122.089 156.088 Z\" fill=\"#000000\" fill-rule=\"evenodd\" fill-opacity=\"1\" /><polyline clip-path=\"url(#clip352)\" style=\"stroke:#009af9; stroke-width:4; stroke-opacity:1; fill:none\" points=\"\n",
       "  210.724,1445.68 270.142,1445.68 329.56,1445.68 388.979,1445.68 448.397,1445.68 507.816,1445.68 567.234,1445.68 626.652,1445.68 686.071,1445.68 745.489,1445.68 \n",
       "  804.907,1445.68 864.326,1445.65 923.744,1445.36 983.162,1443.38 1042.58,1433.09 1102,1392.44 1161.42,1271 1220.84,1002.86 1280.25,589.749 1339.67,204.856 \n",
       "  1399.09,98.7113 1458.51,371.384 1517.93,847.443 1577.35,1226.9 1636.76,1395.1 1696.18,1438.3 1755.6,1444.98 1815.02,1445.64 1874.44,1445.68 1933.86,1445.68 \n",
       "  1993.27,1445.68 2052.69,1445.68 2112.11,1445.68 2171.53,1445.68 2230.95,1445.68 2290.37,1445.68 \n",
       "  \"/>\n",
       "<polyline clip-path=\"url(#clip352)\" style=\"stroke:#e26f46; stroke-width:4; stroke-opacity:1; fill:none\" points=\"\n",
       "  210.724,1445.68 270.142,1445.68 329.56,1445.68 388.979,1445.69 448.397,1445.69 507.816,1445.68 567.234,1445.69 626.652,1445.68 686.071,1445.68 745.489,1445.68 \n",
       "  804.907,1445.68 864.326,1445.66 923.744,1445.38 983.162,1443.52 1042.58,1433.69 1102,1394.2 1161.42,1274.12 1220.84,1004.97 1280.25,586.685 1339.67,196.499 \n",
       "  1399.09,93.1247 1458.51,373.792 1517.93,852.249 1577.35,1228.9 1636.76,1395.26 1696.18,1438.21 1755.6,1444.95 1815.02,1445.64 1874.44,1445.68 1933.86,1445.69 \n",
       "  1993.27,1445.68 2052.69,1445.68 2112.11,1445.68 2171.53,1445.68 2230.95,1445.68 2290.37,1445.7 \n",
       "  \"/>\n",
       "<polyline clip-path=\"url(#clip352)\" style=\"stroke:#3da44d; stroke-width:4; stroke-opacity:1; fill:none\" points=\"\n",
       "  210.724,1445.68 270.142,1445.68 329.56,1445.68 388.979,1445.69 448.397,1445.69 507.816,1445.68 567.234,1445.69 626.652,1445.67 686.071,1445.68 745.489,1445.67 \n",
       "  804.907,1445.68 864.326,1445.68 923.744,1445.4 983.162,1443.64 1042.58,1434.24 1102,1395.83 1161.42,1276.99 1220.84,1006.91 1280.25,583.862 1339.67,188.797 \n",
       "  1399.09,87.9763 1458.51,376.012 1517.93,856.677 1577.35,1230.75 1636.76,1395.4 1696.18,1438.13 1755.6,1444.92 1815.02,1445.63 1874.44,1445.68 1933.86,1445.7 \n",
       "  1993.27,1445.68 2052.69,1445.67 2112.11,1445.67 2171.53,1445.68 2230.95,1445.69 2290.37,1445.72 \n",
       "  \"/>\n",
       "<path clip-path=\"url(#clip350)\" d=\"\n",
       "M1989.16 372.684 L2280.76 372.684 L2280.76 130.764 L1989.16 130.764  Z\n",
       "  \" fill=\"#ffffff\" fill-rule=\"evenodd\" fill-opacity=\"1\"/>\n",
       "<polyline clip-path=\"url(#clip350)\" style=\"stroke:#000000; stroke-width:4; stroke-opacity:1; fill:none\" points=\"\n",
       "  1989.16,372.684 2280.76,372.684 2280.76,130.764 1989.16,130.764 1989.16,372.684 \n",
       "  \"/>\n",
       "<polyline clip-path=\"url(#clip350)\" style=\"stroke:#009af9; stroke-width:4; stroke-opacity:1; fill:none\" points=\"\n",
       "  2013.16,191.244 2157.16,191.244 \n",
       "  \"/>\n",
       "<path clip-path=\"url(#clip350)\" d=\"M 0 0 M2195 210.931 Q2193.2 215.561 2191.48 216.973 Q2189.77 218.385 2186.9 218.385 L2183.5 218.385 L2183.5 214.82 L2186 214.82 Q2187.76 214.82 2188.73 213.987 Q2189.7 213.154 2190.88 210.052 L2191.65 208.107 L2181.16 182.598 L2185.67 182.598 L2193.77 202.876 L2201.88 182.598 L2206.39 182.598 L2195 210.931 Z\" fill=\"#000000\" fill-rule=\"evenodd\" fill-opacity=\"1\" /><path clip-path=\"url(#clip350)\" d=\"M 0 0 M2212.27 204.589 L2219.91 204.589 L2219.91 178.223 L2211.6 179.89 L2211.6 175.631 L2219.86 173.964 L2224.54 173.964 L2224.54 204.589 L2232.18 204.589 L2232.18 208.524 L2212.27 208.524 L2212.27 204.589 Z\" fill=\"#000000\" fill-rule=\"evenodd\" fill-opacity=\"1\" /><polyline clip-path=\"url(#clip350)\" style=\"stroke:#e26f46; stroke-width:4; stroke-opacity:1; fill:none\" points=\"\n",
       "  2013.16,251.724 2157.16,251.724 \n",
       "  \"/>\n",
       "<path clip-path=\"url(#clip350)\" d=\"M 0 0 M2195 271.411 Q2193.2 276.041 2191.48 277.453 Q2189.77 278.865 2186.9 278.865 L2183.5 278.865 L2183.5 275.3 L2186 275.3 Q2187.76 275.3 2188.73 274.467 Q2189.7 273.634 2190.88 270.532 L2191.65 268.587 L2181.16 243.078 L2185.67 243.078 L2193.77 263.356 L2201.88 243.078 L2206.39 243.078 L2195 271.411 Z\" fill=\"#000000\" fill-rule=\"evenodd\" fill-opacity=\"1\" /><path clip-path=\"url(#clip350)\" d=\"M 0 0 M2215.49 265.069 L2231.81 265.069 L2231.81 269.004 L2209.86 269.004 L2209.86 265.069 Q2212.52 262.314 2217.11 257.685 Q2221.71 253.032 2222.89 251.689 Q2225.14 249.166 2226.02 247.43 Q2226.92 245.671 2226.92 243.981 Q2226.92 241.226 2224.98 239.49 Q2223.06 237.754 2219.96 237.754 Q2217.76 237.754 2215.3 238.518 Q2212.87 239.282 2210.09 240.833 L2210.09 236.111 Q2212.92 234.976 2215.37 234.398 Q2217.83 233.819 2219.86 233.819 Q2225.23 233.819 2228.43 236.504 Q2231.62 239.189 2231.62 243.68 Q2231.62 245.81 2230.81 247.731 Q2230.02 249.629 2227.92 252.222 Q2227.34 252.893 2224.24 256.111 Q2221.14 259.305 2215.49 265.069 Z\" fill=\"#000000\" fill-rule=\"evenodd\" fill-opacity=\"1\" /><polyline clip-path=\"url(#clip350)\" style=\"stroke:#3da44d; stroke-width:4; stroke-opacity:1; fill:none\" points=\"\n",
       "  2013.16,312.204 2157.16,312.204 \n",
       "  \"/>\n",
       "<path clip-path=\"url(#clip350)\" d=\"M 0 0 M2195 331.891 Q2193.2 336.521 2191.48 337.933 Q2189.77 339.345 2186.9 339.345 L2183.5 339.345 L2183.5 335.78 L2186 335.78 Q2187.76 335.78 2188.73 334.947 Q2189.7 334.114 2190.88 331.012 L2191.65 329.067 L2181.16 303.558 L2185.67 303.558 L2193.77 323.836 L2201.88 303.558 L2206.39 303.558 L2195 331.891 Z\" fill=\"#000000\" fill-rule=\"evenodd\" fill-opacity=\"1\" /><path clip-path=\"url(#clip350)\" d=\"M 0 0 M2225.63 310.85 Q2228.98 311.568 2230.86 313.836 Q2232.76 316.105 2232.76 319.438 Q2232.76 324.554 2229.24 327.354 Q2225.72 330.155 2219.24 330.155 Q2217.06 330.155 2214.75 329.716 Q2212.46 329.299 2210 328.442 L2210 323.929 Q2211.95 325.063 2214.26 325.642 Q2216.58 326.22 2219.1 326.22 Q2223.5 326.22 2225.79 324.484 Q2228.1 322.748 2228.1 319.438 Q2228.1 316.382 2225.95 314.669 Q2223.82 312.933 2220 312.933 L2215.97 312.933 L2215.97 309.091 L2220.19 309.091 Q2223.64 309.091 2225.46 307.725 Q2227.29 306.336 2227.29 303.743 Q2227.29 301.081 2225.39 299.669 Q2223.52 298.234 2220 298.234 Q2218.08 298.234 2215.88 298.651 Q2213.68 299.068 2211.04 299.947 L2211.04 295.781 Q2213.71 295.04 2216.02 294.669 Q2218.36 294.299 2220.42 294.299 Q2225.74 294.299 2228.84 296.73 Q2231.95 299.137 2231.95 303.257 Q2231.95 306.128 2230.3 308.118 Q2228.66 310.086 2225.63 310.85 Z\" fill=\"#000000\" fill-rule=\"evenodd\" fill-opacity=\"1\" /></svg>\n"
      ]
     },
     "execution_count": 24,
     "metadata": {},
     "output_type": "execute_result"
    }
   ],
   "source": [
    "plot(vSpace.u, sol_ude.u[1][1:nu, 25])\n",
    "plot!(vSpace.u, sol_ude.u[2][1:nu, 25])\n",
    "plot!(vSpace.u, sol_ude.u[3][1:nu, 25])"
   ]
  },
  {
   "cell_type": "code",
   "execution_count": 35,
   "metadata": {},
   "outputs": [
    {
     "data": {
      "text/plain": [
       "\u001b[36mODEProblem\u001b[0m with uType \u001b[36mArray{Float32,1}\u001b[0m and tType \u001b[36mFloat32\u001b[0m. In-place: \u001b[36mtrue\u001b[0m\n",
       "timespan: (0.0f0, 0.086603284f0)\n",
       "u0: Float32[0.0, 0.0, 0.0, 2.23f-43, 9.573438f-39, 2.224118f-34, 2.7871778f-30, 1.884033f-26, 6.869566f-23, 1.3510988f-19  …  0.00012819431, 3.7681857f-6, 5.9746554f-8, 5.1098764f-10, 2.3573545f-12, 5.8661936f-15, 7.874172f-18, 5.701254f-21, 2.2266546f-24, 4.690858f-28]"
      ]
     },
     "execution_count": 35,
     "metadata": {},
     "output_type": "execute_result"
    }
   ],
   "source": [
    "function nbe_rhs!(df, f, p, t)\n",
    "    H = p[1:nu]\n",
    "    B = p[nu+1:2*nu]\n",
    "    τ = p[2*nu+1]\n",
    "    p_nn = p[2*nu+2:end]\n",
    "\n",
    "    h = f[1:nu]\n",
    "    b = f[nu+1:end]\n",
    "\n",
    "    dh = (H .- h) ./ τ .+ model_univ(f, p_nn)[1:nu]\n",
    "    db = (B .- b) ./ τ .+ model_univ(f, p_nn)[nu+1:end]\n",
    "\n",
    "    df[1:nu] .= dh\n",
    "    df[nu+1:end] .= db\n",
    "end\n",
    "\n",
    "ube = ODEProblem(\n",
    "    nbe_rhs!,\n",
    "    [ctr[1].h; ctr[1].b],\n",
    "    tspan,\n",
    "    [H[:, 1]; B[:, 1]; τ[1, 1]; res.minimizer],\n",
    ")"
   ]
  },
  {
   "cell_type": "code",
   "execution_count": 36,
   "metadata": {},
   "outputs": [
    {
     "data": {
      "text/plain": [
       "step_nbe! (generic function with 1 method)"
      ]
     },
     "execution_count": 36,
     "metadata": {},
     "output_type": "execute_result"
    }
   ],
   "source": [
    "ube = ODEProblem(\n",
    "    nbe_rhs!,\n",
    "    [ctr[1].h; ctr[1].b],\n",
    "    tspan,\n",
    "    [H[:, 1]; B[:, 1]; τ[1, 1]; res.minimizer],\n",
    ")\n",
    "\n",
    "function step_nbe!(\n",
    "    fwL,\n",
    "    fhL,\n",
    "    fbL,\n",
    "    w,\n",
    "    prim,\n",
    "    h,\n",
    "    b,\n",
    "    fwR,\n",
    "    fhR,\n",
    "    fbR,\n",
    "    K,\n",
    "    γ,\n",
    "    μ,\n",
    "    ω,\n",
    "    u,\n",
    "    weights,\n",
    "    p,\n",
    "    dx,\n",
    "    tran,\n",
    "    RES,\n",
    "    AVG,\n",
    ")\n",
    "\n",
    "    #--- record W^{n} ---#\n",
    "    w_old = deepcopy(w)\n",
    "    H = maxwellian(u, prim)\n",
    "    B = H .* K ./ (2.0 .* prim[end])\n",
    "    τ = vhs_collision_time(prim, μ, ω)\n",
    "\n",
    "    #--- update W^{n+1} ---#\n",
    "    @. w += (fwL - fwR) / dx\n",
    "    prim .= conserve_prim(w, γ)\n",
    "\n",
    "    #--- record residuals ---#\n",
    "    @. RES += (w - w_old)^2\n",
    "    @. AVG += abs(w)\n",
    "\n",
    "    #--- update f^{n+1} ---#\n",
    "    sol = concrete_solve(ube, Midpoint(), [h; b], [H; B; τ; p], saveat = tran)\n",
    "    hstar = sol.u[end][1:length(h)]\n",
    "    bstar = sol.u[end][length(h)+1:end]\n",
    "    for i in eachindex(h)\n",
    "        h[i] = hstar[i] + (fhL[i] - fhR[i]) / dx\n",
    "        b[i] = bstar[i] + (fbL[i] - fbR[i]) / dx\n",
    "    end\n",
    "\n",
    "end"
   ]
  },
  {
   "cell_type": "code",
   "execution_count": 68,
   "metadata": {},
   "outputs": [
    {
     "data": {
      "text/plain": [
       "step_be! (generic function with 1 method)"
      ]
     },
     "execution_count": 68,
     "metadata": {},
     "output_type": "execute_result"
    }
   ],
   "source": [
    "prob = ODEProblem(boltzmann!, zeros(nu, nv, nw), tspan, [kn_bzm, nm, phi, psi, phipsi])\n",
    "\n",
    "function step_be!(\n",
    "    fwL,\n",
    "    fhL,\n",
    "    fbL,\n",
    "    w,\n",
    "    prim,\n",
    "    h,\n",
    "    b,\n",
    "    fwR,\n",
    "    fhR,\n",
    "    fbR,\n",
    "    K,\n",
    "    γ,\n",
    "    μ,\n",
    "    ω,\n",
    "    u,\n",
    "    weights,\n",
    "    dx,\n",
    "    tran,\n",
    ")\n",
    "\n",
    "    #--- record W^{n} ---#\n",
    "    w_old = deepcopy(w)\n",
    "    H = maxwellian(u, prim)\n",
    "    B = H .* K ./ (2.0 .* prim[end])\n",
    "    τ = vhs_collision_time(prim, μ, ω)\n",
    "\n",
    "    f_star =\n",
    "        full_distribution(h, b, u, weights, vSpace3D.v, vSpace3D.w, prim, γ)\n",
    "    df = boltzmann(f_star, [kn_bzm, nm, phi, psi, phipsi], tspan)\n",
    "    \n",
    "    df = similar(f_star)\n",
    "    boltzmann!(df, f_star, [kn_bzm, nm, phi, psi, phipsi], tspan)\n",
    "    \n",
    "    #df = (maxwellian(vSpace3D.u, vSpace3D.v, vSpace3D.w, [prim[1],prim[2],0.,0.,prim[3]]) .- f_star) ./ τ\n",
    "    \n",
    "    f_star .+= df .* dt\n",
    "\n",
    "    #prob = ODEProblem(boltzmann!, f_full, tspan, [kn_bzm, nm, phi, psi, phipsi])\n",
    "    #f_star = Array(solve(prob, Midpoint(), u0=f_full, saveat = tran))[:, :, :, end]\n",
    "\n",
    "    hstar, bstar =\n",
    "        reduce_distribution(f_star, vSpace3D.v, vSpace3D.w, vSpace2D.weights)\n",
    "\n",
    "    for i in eachindex(h)\n",
    "        h[i] = hstar[i] + (fhL[i] - fhR[i]) / dx\n",
    "        b[i] = bstar[i] + (fbL[i] - fbR[i]) / dx\n",
    "        #h[i] = h[i] + (fhL[i] - fhR[i]) / dx\n",
    "        #b[i] = b[i] + (fbL[i] - fbR[i]) / dx\n",
    "    end\n",
    "\n",
    "    #--- update W^{n+1} ---#\n",
    "    @. w += (fwL - fwR) / dx\n",
    "    prim .= conserve_prim(w, γ)\n",
    "\n",
    "end"
   ]
  },
  {
   "cell_type": "code",
   "execution_count": 19,
   "metadata": {},
   "outputs": [
    {
     "ename": "UndefVarError",
     "evalue": "UndefVarError: res not defined",
     "output_type": "error",
     "traceback": [
      "UndefVarError: res not defined",
      "",
      "Stacktrace:",
      " [1] macro expansion at ./In[19]:9 [inlined]",
      " [2] macro expansion at /home/kit/scc/yy3406/.julia/packages/ProgressMeter/N86Uo/src/ProgressMeter.jl:732 [inlined]",
      " [3] top-level scope at ./In[19]:3"
     ]
    }
   ],
   "source": [
    "sumRes = zeros(Float32, axes(ib.wL))\n",
    "sumAvg = zeros(Float32, axes(ib.wL))\n",
    "\n",
    "# loop of neural Boltzmann equation\n",
    "@showprogress for iter = 1:50\n",
    "    Kinetic.evolve!(ks, ctr, face, dt)\n",
    "\n",
    "    for i = 2:49\n",
    "        step_nbe!(\n",
    "            face[i].fw,\n",
    "            face[i].fh,\n",
    "            face[i].fb,\n",
    "            ctr[i].w,\n",
    "            ctr[i].prim,\n",
    "            ctr[i].h,\n",
    "            ctr[i].b,\n",
    "            face[i+1].fw,\n",
    "            face[i+1].fh,\n",
    "            face[i+1].fb,\n",
    "            ks.gas.K,\n",
    "            ks.gas.γ,\n",
    "            ks.gas.μᵣ,\n",
    "            ks.gas.ω,\n",
    "            ks.vSpace.u,\n",
    "            ks.vSpace.weights,\n",
    "            res.minimizer,\n",
    "            ctr[i].dx,\n",
    "            tran,\n",
    "            sumRes,\n",
    "            sumAvg,\n",
    "        )\n",
    "    end\n",
    "end"
   ]
  },
  {
   "cell_type": "code",
   "execution_count": 69,
   "metadata": {},
   "outputs": [
    {
     "name": "stderr",
     "output_type": "stream",
     "text": [
      "\u001b[32mProgress: 100%|█████████████████████████████████████████| Time: 0:01:53\u001b[39m\n"
     ]
    }
   ],
   "source": [
    "sumRes = zeros(Float32, axes(ib.wL))\n",
    "sumAvg = zeros(Float32, axes(ib.wL))\n",
    "\n",
    "# loop of neural Boltzmann equation\n",
    "@showprogress for iter = 1:50\n",
    "    Kinetic.evolve!(ks, ctr, face, dt)\n",
    "\n",
    "    for i = 2:49\n",
    "        step_be!(\n",
    "            face[i].fw,\n",
    "            face[i].fh,\n",
    "            face[i].fb,\n",
    "            ctr[i].w,\n",
    "            ctr[i].prim,\n",
    "            ctr[i].h,\n",
    "            ctr[i].b,\n",
    "            face[i+1].fw,\n",
    "            face[i+1].fh,\n",
    "            face[i+1].fb,\n",
    "            ks.gas.K,\n",
    "            ks.gas.γ,\n",
    "            ks.gas.μᵣ,\n",
    "            ks.gas.ω,\n",
    "            ks.vSpace.u,\n",
    "            ks.vSpace.weights,\n",
    "            ctr[i].dx,\n",
    "            tran,\n",
    "        )\n",
    "    end\n",
    "end"
   ]
  },
  {
   "cell_type": "code",
   "execution_count": 70,
   "metadata": {
    "scrolled": false
   },
   "outputs": [
    {
     "data": {
      "image/svg+xml": [
       "<?xml version=\"1.0\" encoding=\"utf-8\"?>\n",
       "<svg xmlns=\"http://www.w3.org/2000/svg\" xmlns:xlink=\"http://www.w3.org/1999/xlink\" width=\"600\" height=\"400\" viewBox=\"0 0 2400 1600\">\n",
       "<defs>\n",
       "  <clipPath id=\"clip290\">\n",
       "    <rect x=\"0\" y=\"0\" width=\"2400\" height=\"1600\"/>\n",
       "  </clipPath>\n",
       "</defs>\n",
       "<path clip-path=\"url(#clip290)\" d=\"\n",
       "M0 1600 L2400 1600 L2400 0 L0 0  Z\n",
       "  \" fill=\"#ffffff\" fill-rule=\"evenodd\" fill-opacity=\"1\"/>\n",
       "<defs>\n",
       "  <clipPath id=\"clip291\">\n",
       "    <rect x=\"480\" y=\"0\" width=\"1681\" height=\"1600\"/>\n",
       "  </clipPath>\n",
       "</defs>\n",
       "<path clip-path=\"url(#clip290)\" d=\"\n",
       "M147.663 1423.18 L2352.76 1423.18 L2352.76 47.2441 L147.663 47.2441  Z\n",
       "  \" fill=\"#ffffff\" fill-rule=\"evenodd\" fill-opacity=\"1\"/>\n",
       "<defs>\n",
       "  <clipPath id=\"clip292\">\n",
       "    <rect x=\"147\" y=\"47\" width=\"2206\" height=\"1377\"/>\n",
       "  </clipPath>\n",
       "</defs>\n",
       "<polyline clip-path=\"url(#clip292)\" style=\"stroke:#000000; stroke-width:2; stroke-opacity:0.1; fill:none\" points=\"\n",
       "  340.468,1423.18 340.468,47.2441 \n",
       "  \"/>\n",
       "<polyline clip-path=\"url(#clip292)\" style=\"stroke:#000000; stroke-width:2; stroke-opacity:0.1; fill:none\" points=\"\n",
       "  643.715,1423.18 643.715,47.2441 \n",
       "  \"/>\n",
       "<polyline clip-path=\"url(#clip292)\" style=\"stroke:#000000; stroke-width:2; stroke-opacity:0.1; fill:none\" points=\"\n",
       "  946.962,1423.18 946.962,47.2441 \n",
       "  \"/>\n",
       "<polyline clip-path=\"url(#clip292)\" style=\"stroke:#000000; stroke-width:2; stroke-opacity:0.1; fill:none\" points=\"\n",
       "  1250.21,1423.18 1250.21,47.2441 \n",
       "  \"/>\n",
       "<polyline clip-path=\"url(#clip292)\" style=\"stroke:#000000; stroke-width:2; stroke-opacity:0.1; fill:none\" points=\"\n",
       "  1553.46,1423.18 1553.46,47.2441 \n",
       "  \"/>\n",
       "<polyline clip-path=\"url(#clip292)\" style=\"stroke:#000000; stroke-width:2; stroke-opacity:0.1; fill:none\" points=\"\n",
       "  1856.7,1423.18 1856.7,47.2441 \n",
       "  \"/>\n",
       "<polyline clip-path=\"url(#clip292)\" style=\"stroke:#000000; stroke-width:2; stroke-opacity:0.1; fill:none\" points=\"\n",
       "  2159.95,1423.18 2159.95,47.2441 \n",
       "  \"/>\n",
       "<polyline clip-path=\"url(#clip292)\" style=\"stroke:#000000; stroke-width:2; stroke-opacity:0.1; fill:none\" points=\"\n",
       "  147.663,1298.06 2352.76,1298.06 \n",
       "  \"/>\n",
       "<polyline clip-path=\"url(#clip292)\" style=\"stroke:#000000; stroke-width:2; stroke-opacity:0.1; fill:none\" points=\"\n",
       "  147.663,1042.67 2352.76,1042.67 \n",
       "  \"/>\n",
       "<polyline clip-path=\"url(#clip292)\" style=\"stroke:#000000; stroke-width:2; stroke-opacity:0.1; fill:none\" points=\"\n",
       "  147.663,787.279 2352.76,787.279 \n",
       "  \"/>\n",
       "<polyline clip-path=\"url(#clip292)\" style=\"stroke:#000000; stroke-width:2; stroke-opacity:0.1; fill:none\" points=\"\n",
       "  147.663,531.89 2352.76,531.89 \n",
       "  \"/>\n",
       "<polyline clip-path=\"url(#clip292)\" style=\"stroke:#000000; stroke-width:2; stroke-opacity:0.1; fill:none\" points=\"\n",
       "  147.663,276.502 2352.76,276.502 \n",
       "  \"/>\n",
       "<polyline clip-path=\"url(#clip290)\" style=\"stroke:#000000; stroke-width:4; stroke-opacity:1; fill:none\" points=\"\n",
       "  147.663,1423.18 2352.76,1423.18 \n",
       "  \"/>\n",
       "<polyline clip-path=\"url(#clip290)\" style=\"stroke:#000000; stroke-width:4; stroke-opacity:1; fill:none\" points=\"\n",
       "  147.663,1423.18 147.663,47.2441 \n",
       "  \"/>\n",
       "<polyline clip-path=\"url(#clip290)\" style=\"stroke:#000000; stroke-width:4; stroke-opacity:1; fill:none\" points=\"\n",
       "  340.468,1423.18 340.468,1406.67 \n",
       "  \"/>\n",
       "<polyline clip-path=\"url(#clip290)\" style=\"stroke:#000000; stroke-width:4; stroke-opacity:1; fill:none\" points=\"\n",
       "  643.715,1423.18 643.715,1406.67 \n",
       "  \"/>\n",
       "<polyline clip-path=\"url(#clip290)\" style=\"stroke:#000000; stroke-width:4; stroke-opacity:1; fill:none\" points=\"\n",
       "  946.962,1423.18 946.962,1406.67 \n",
       "  \"/>\n",
       "<polyline clip-path=\"url(#clip290)\" style=\"stroke:#000000; stroke-width:4; stroke-opacity:1; fill:none\" points=\"\n",
       "  1250.21,1423.18 1250.21,1406.67 \n",
       "  \"/>\n",
       "<polyline clip-path=\"url(#clip290)\" style=\"stroke:#000000; stroke-width:4; stroke-opacity:1; fill:none\" points=\"\n",
       "  1553.46,1423.18 1553.46,1406.67 \n",
       "  \"/>\n",
       "<polyline clip-path=\"url(#clip290)\" style=\"stroke:#000000; stroke-width:4; stroke-opacity:1; fill:none\" points=\"\n",
       "  1856.7,1423.18 1856.7,1406.67 \n",
       "  \"/>\n",
       "<polyline clip-path=\"url(#clip290)\" style=\"stroke:#000000; stroke-width:4; stroke-opacity:1; fill:none\" points=\"\n",
       "  2159.95,1423.18 2159.95,1406.67 \n",
       "  \"/>\n",
       "<polyline clip-path=\"url(#clip290)\" style=\"stroke:#000000; stroke-width:4; stroke-opacity:1; fill:none\" points=\"\n",
       "  147.663,1298.06 174.124,1298.06 \n",
       "  \"/>\n",
       "<polyline clip-path=\"url(#clip290)\" style=\"stroke:#000000; stroke-width:4; stroke-opacity:1; fill:none\" points=\"\n",
       "  147.663,1042.67 174.124,1042.67 \n",
       "  \"/>\n",
       "<polyline clip-path=\"url(#clip290)\" style=\"stroke:#000000; stroke-width:4; stroke-opacity:1; fill:none\" points=\"\n",
       "  147.663,787.279 174.124,787.279 \n",
       "  \"/>\n",
       "<polyline clip-path=\"url(#clip290)\" style=\"stroke:#000000; stroke-width:4; stroke-opacity:1; fill:none\" points=\"\n",
       "  147.663,531.89 174.124,531.89 \n",
       "  \"/>\n",
       "<polyline clip-path=\"url(#clip290)\" style=\"stroke:#000000; stroke-width:4; stroke-opacity:1; fill:none\" points=\"\n",
       "  147.663,276.502 174.124,276.502 \n",
       "  \"/>\n",
       "<path clip-path=\"url(#clip290)\" d=\"M 0 0 M307.54 1461.77 L320.016 1461.77 L320.016 1465.56 L307.54 1465.56 L307.54 1461.77 Z\" fill=\"#000000\" fill-rule=\"evenodd\" fill-opacity=\"1\" /><path clip-path=\"url(#clip290)\" d=\"M 0 0 M339.252 1458.02 Q342.609 1458.74 344.484 1461 Q346.382 1463.27 346.382 1466.61 Q346.382 1471.72 342.864 1474.52 Q339.345 1477.32 332.864 1477.32 Q330.688 1477.32 328.373 1476.88 Q326.081 1476.47 323.628 1475.61 L323.628 1471.1 Q325.572 1472.23 327.887 1472.81 Q330.202 1473.39 332.725 1473.39 Q337.123 1473.39 339.414 1471.65 Q341.729 1469.92 341.729 1466.61 Q341.729 1463.55 339.577 1461.84 Q337.447 1460.1 333.627 1460.1 L329.6 1460.1 L329.6 1456.26 L333.813 1456.26 Q337.262 1456.26 339.09 1454.89 Q340.919 1453.5 340.919 1450.91 Q340.919 1448.25 339.021 1446.84 Q337.146 1445.4 333.627 1445.4 Q331.706 1445.4 329.507 1445.82 Q327.308 1446.24 324.669 1447.11 L324.669 1442.95 Q327.331 1442.21 329.646 1441.84 Q331.984 1441.47 334.044 1441.47 Q339.368 1441.47 342.47 1443.9 Q345.572 1446.3 345.572 1450.43 Q345.572 1453.3 343.928 1455.29 Q342.285 1457.25 339.252 1458.02 Z\" fill=\"#000000\" fill-rule=\"evenodd\" fill-opacity=\"1\" /><path clip-path=\"url(#clip290)\" d=\"M 0 0 M361.451 1445.17 Q357.84 1445.17 356.012 1448.74 Q354.206 1452.28 354.206 1459.41 Q354.206 1466.51 356.012 1470.08 Q357.84 1473.62 361.451 1473.62 Q365.086 1473.62 366.891 1470.08 Q368.72 1466.51 368.72 1459.41 Q368.72 1452.28 366.891 1448.74 Q365.086 1445.17 361.451 1445.17 M361.451 1441.47 Q367.262 1441.47 370.317 1446.07 Q373.396 1450.66 373.396 1459.41 Q373.396 1468.13 370.317 1472.74 Q367.262 1477.32 361.451 1477.32 Q355.641 1477.32 352.563 1472.74 Q349.507 1468.13 349.507 1459.41 Q349.507 1450.66 352.563 1446.07 Q355.641 1441.47 361.451 1441.47 Z\" fill=\"#000000\" fill-rule=\"evenodd\" fill-opacity=\"1\" /><path clip-path=\"url(#clip290)\" d=\"M 0 0 M611.261 1461.77 L623.738 1461.77 L623.738 1465.56 L611.261 1465.56 L611.261 1461.77 Z\" fill=\"#000000\" fill-rule=\"evenodd\" fill-opacity=\"1\" /><path clip-path=\"url(#clip290)\" d=\"M 0 0 M632.835 1472.72 L649.155 1472.72 L649.155 1476.65 L627.21 1476.65 L627.21 1472.72 Q629.872 1469.96 634.456 1465.33 Q639.062 1460.68 640.243 1459.34 Q642.488 1456.81 643.368 1455.08 Q644.271 1453.32 644.271 1451.63 Q644.271 1448.87 642.326 1447.14 Q640.405 1445.4 637.303 1445.4 Q635.104 1445.4 632.65 1446.17 Q630.22 1446.93 627.442 1448.48 L627.442 1443.76 Q630.266 1442.62 632.72 1442.05 Q635.173 1441.47 637.21 1441.47 Q642.581 1441.47 645.775 1444.15 Q648.97 1446.84 648.97 1451.33 Q648.97 1453.46 648.159 1455.38 Q647.372 1457.28 645.266 1459.87 Q644.687 1460.54 641.585 1463.76 Q638.484 1466.95 632.835 1472.72 Z\" fill=\"#000000\" fill-rule=\"evenodd\" fill-opacity=\"1\" /><path clip-path=\"url(#clip290)\" d=\"M 0 0 M664.224 1445.17 Q660.613 1445.17 658.784 1448.74 Q656.979 1452.28 656.979 1459.41 Q656.979 1466.51 658.784 1470.08 Q660.613 1473.62 664.224 1473.62 Q667.858 1473.62 669.664 1470.08 Q671.493 1466.51 671.493 1459.41 Q671.493 1452.28 669.664 1448.74 Q667.858 1445.17 664.224 1445.17 M664.224 1441.47 Q670.034 1441.47 673.09 1446.07 Q676.169 1450.66 676.169 1459.41 Q676.169 1468.13 673.09 1472.74 Q670.034 1477.32 664.224 1477.32 Q658.414 1477.32 655.335 1472.74 Q652.28 1468.13 652.28 1459.41 Q652.28 1450.66 655.335 1446.07 Q658.414 1441.47 664.224 1441.47 Z\" fill=\"#000000\" fill-rule=\"evenodd\" fill-opacity=\"1\" /><path clip-path=\"url(#clip290)\" d=\"M 0 0 M914.324 1461.77 L926.8 1461.77 L926.8 1465.56 L914.324 1465.56 L914.324 1461.77 Z\" fill=\"#000000\" fill-rule=\"evenodd\" fill-opacity=\"1\" /><path clip-path=\"url(#clip290)\" d=\"M 0 0 M932.68 1472.72 L940.319 1472.72 L940.319 1446.35 L932.009 1448.02 L932.009 1443.76 L940.272 1442.09 L944.948 1442.09 L944.948 1472.72 L952.587 1472.72 L952.587 1476.65 L932.68 1476.65 L932.68 1472.72 Z\" fill=\"#000000\" fill-rule=\"evenodd\" fill-opacity=\"1\" /><path clip-path=\"url(#clip290)\" d=\"M 0 0 M967.657 1445.17 Q964.045 1445.17 962.217 1448.74 Q960.411 1452.28 960.411 1459.41 Q960.411 1466.51 962.217 1470.08 Q964.045 1473.62 967.657 1473.62 Q971.291 1473.62 973.096 1470.08 Q974.925 1466.51 974.925 1459.41 Q974.925 1452.28 973.096 1448.74 Q971.291 1445.17 967.657 1445.17 M967.657 1441.47 Q973.467 1441.47 976.522 1446.07 Q979.601 1450.66 979.601 1459.41 Q979.601 1468.13 976.522 1472.74 Q973.467 1477.32 967.657 1477.32 Q961.846 1477.32 958.768 1472.74 Q955.712 1468.13 955.712 1459.41 Q955.712 1450.66 958.768 1446.07 Q961.846 1441.47 967.657 1441.47 Z\" fill=\"#000000\" fill-rule=\"evenodd\" fill-opacity=\"1\" /><path clip-path=\"url(#clip290)\" d=\"M 0 0 M1250.21 1445.17 Q1246.6 1445.17 1244.77 1448.74 Q1242.96 1452.28 1242.96 1459.41 Q1242.96 1466.51 1244.77 1470.08 Q1246.6 1473.62 1250.21 1473.62 Q1253.84 1473.62 1255.65 1470.08 Q1257.48 1466.51 1257.48 1459.41 Q1257.48 1452.28 1255.65 1448.74 Q1253.84 1445.17 1250.21 1445.17 M1250.21 1441.47 Q1256.02 1441.47 1259.08 1446.07 Q1262.15 1450.66 1262.15 1459.41 Q1262.15 1468.13 1259.08 1472.74 Q1256.02 1477.32 1250.21 1477.32 Q1244.4 1477.32 1241.32 1472.74 Q1238.27 1468.13 1238.27 1459.41 Q1238.27 1450.66 1241.32 1446.07 Q1244.4 1441.47 1250.21 1441.47 Z\" fill=\"#000000\" fill-rule=\"evenodd\" fill-opacity=\"1\" /><path clip-path=\"url(#clip290)\" d=\"M 0 0 M1530.33 1472.72 L1537.97 1472.72 L1537.97 1446.35 L1529.66 1448.02 L1529.66 1443.76 L1537.92 1442.09 L1542.6 1442.09 L1542.6 1472.72 L1550.24 1472.72 L1550.24 1476.65 L1530.33 1476.65 L1530.33 1472.72 Z\" fill=\"#000000\" fill-rule=\"evenodd\" fill-opacity=\"1\" /><path clip-path=\"url(#clip290)\" d=\"M 0 0 M1565.31 1445.17 Q1561.7 1445.17 1559.87 1448.74 Q1558.06 1452.28 1558.06 1459.41 Q1558.06 1466.51 1559.87 1470.08 Q1561.7 1473.62 1565.31 1473.62 Q1568.94 1473.62 1570.75 1470.08 Q1572.58 1466.51 1572.58 1459.41 Q1572.58 1452.28 1570.75 1448.74 Q1568.94 1445.17 1565.31 1445.17 M1565.31 1441.47 Q1571.12 1441.47 1574.17 1446.07 Q1577.25 1450.66 1577.25 1459.41 Q1577.25 1468.13 1574.17 1472.74 Q1571.12 1477.32 1565.31 1477.32 Q1559.5 1477.32 1556.42 1472.74 Q1553.36 1468.13 1553.36 1459.41 Q1553.36 1450.66 1556.42 1446.07 Q1559.5 1441.47 1565.31 1441.47 Z\" fill=\"#000000\" fill-rule=\"evenodd\" fill-opacity=\"1\" /><path clip-path=\"url(#clip290)\" d=\"M 0 0 M1837.85 1472.72 L1854.17 1472.72 L1854.17 1476.65 L1832.22 1476.65 L1832.22 1472.72 Q1834.89 1469.96 1839.47 1465.33 Q1844.08 1460.68 1845.26 1459.34 Q1847.5 1456.81 1848.38 1455.08 Q1849.29 1453.32 1849.29 1451.63 Q1849.29 1448.87 1847.34 1447.14 Q1845.42 1445.4 1842.32 1445.4 Q1840.12 1445.4 1837.66 1446.17 Q1835.23 1446.93 1832.46 1448.48 L1832.46 1443.76 Q1835.28 1442.62 1837.73 1442.05 Q1840.19 1441.47 1842.22 1441.47 Q1847.6 1441.47 1850.79 1444.15 Q1853.98 1446.84 1853.98 1451.33 Q1853.98 1453.46 1853.17 1455.38 Q1852.39 1457.28 1850.28 1459.87 Q1849.7 1460.54 1846.6 1463.76 Q1843.5 1466.95 1837.85 1472.72 Z\" fill=\"#000000\" fill-rule=\"evenodd\" fill-opacity=\"1\" /><path clip-path=\"url(#clip290)\" d=\"M 0 0 M1869.24 1445.17 Q1865.63 1445.17 1863.8 1448.74 Q1861.99 1452.28 1861.99 1459.41 Q1861.99 1466.51 1863.8 1470.08 Q1865.63 1473.62 1869.24 1473.62 Q1872.87 1473.62 1874.68 1470.08 Q1876.51 1466.51 1876.51 1459.41 Q1876.51 1452.28 1874.68 1448.74 Q1872.87 1445.17 1869.24 1445.17 M1869.24 1441.47 Q1875.05 1441.47 1878.1 1446.07 Q1881.18 1450.66 1881.18 1459.41 Q1881.18 1468.13 1878.1 1472.74 Q1875.05 1477.32 1869.24 1477.32 Q1863.43 1477.32 1860.35 1472.74 Q1857.29 1468.13 1857.29 1459.41 Q1857.29 1450.66 1860.35 1446.07 Q1863.43 1441.47 1869.24 1441.47 Z\" fill=\"#000000\" fill-rule=\"evenodd\" fill-opacity=\"1\" /><path clip-path=\"url(#clip290)\" d=\"M 0 0 M2150.69 1458.02 Q2154.05 1458.74 2155.92 1461 Q2157.82 1463.27 2157.82 1466.61 Q2157.82 1471.72 2154.3 1474.52 Q2150.78 1477.32 2144.3 1477.32 Q2142.13 1477.32 2139.81 1476.88 Q2137.52 1476.47 2135.07 1475.61 L2135.07 1471.1 Q2137.01 1472.23 2139.33 1472.81 Q2141.64 1473.39 2144.16 1473.39 Q2148.56 1473.39 2150.85 1471.65 Q2153.17 1469.92 2153.17 1466.61 Q2153.17 1463.55 2151.02 1461.84 Q2148.89 1460.1 2145.07 1460.1 L2141.04 1460.1 L2141.04 1456.26 L2145.25 1456.26 Q2148.7 1456.26 2150.53 1454.89 Q2152.36 1453.5 2152.36 1450.91 Q2152.36 1448.25 2150.46 1446.84 Q2148.59 1445.4 2145.07 1445.4 Q2143.15 1445.4 2140.95 1445.82 Q2138.75 1446.24 2136.11 1447.11 L2136.11 1442.95 Q2138.77 1442.21 2141.09 1441.84 Q2143.42 1441.47 2145.48 1441.47 Q2150.81 1441.47 2153.91 1443.9 Q2157.01 1446.3 2157.01 1450.43 Q2157.01 1453.3 2155.37 1455.29 Q2153.72 1457.25 2150.69 1458.02 Z\" fill=\"#000000\" fill-rule=\"evenodd\" fill-opacity=\"1\" /><path clip-path=\"url(#clip290)\" d=\"M 0 0 M2172.89 1445.17 Q2169.28 1445.17 2167.45 1448.74 Q2165.65 1452.28 2165.65 1459.41 Q2165.65 1466.51 2167.45 1470.08 Q2169.28 1473.62 2172.89 1473.62 Q2176.53 1473.62 2178.33 1470.08 Q2180.16 1466.51 2180.16 1459.41 Q2180.16 1452.28 2178.33 1448.74 Q2176.53 1445.17 2172.89 1445.17 M2172.89 1441.47 Q2178.7 1441.47 2181.76 1446.07 Q2184.84 1450.66 2184.84 1459.41 Q2184.84 1468.13 2181.76 1472.74 Q2178.7 1477.32 2172.89 1477.32 Q2167.08 1477.32 2164 1472.74 Q2160.95 1468.13 2160.95 1459.41 Q2160.95 1450.66 2164 1446.07 Q2167.08 1441.47 2172.89 1441.47 Z\" fill=\"#000000\" fill-rule=\"evenodd\" fill-opacity=\"1\" /><path clip-path=\"url(#clip290)\" d=\"M 0 0 M74.9365 1283.85 Q71.3254 1283.85 69.4967 1287.42 Q67.6912 1290.96 67.6912 1298.09 Q67.6912 1305.2 69.4967 1308.76 Q71.3254 1312.3 74.9365 1312.3 Q78.5707 1312.3 80.3763 1308.76 Q82.205 1305.2 82.205 1298.09 Q82.205 1290.96 80.3763 1287.42 Q78.5707 1283.85 74.9365 1283.85 M74.9365 1280.15 Q80.7467 1280.15 83.8022 1284.76 Q86.8809 1289.34 86.8809 1298.09 Q86.8809 1306.82 83.8022 1311.42 Q80.7467 1316.01 74.9365 1316.01 Q69.1264 1316.01 66.0477 1311.42 Q62.9921 1306.82 62.9921 1298.09 Q62.9921 1289.34 66.0477 1284.76 Q69.1264 1280.15 74.9365 1280.15 Z\" fill=\"#000000\" fill-rule=\"evenodd\" fill-opacity=\"1\" /><path clip-path=\"url(#clip290)\" d=\"M 0 0 M91.9503 1309.46 L96.8345 1309.46 L96.8345 1315.34 L91.9503 1315.34 L91.9503 1309.46 Z\" fill=\"#000000\" fill-rule=\"evenodd\" fill-opacity=\"1\" /><path clip-path=\"url(#clip290)\" d=\"M 0 0 M102.043 1314.62 L102.043 1310.36 Q103.802 1311.19 105.608 1311.63 Q107.413 1312.07 109.149 1312.07 Q113.779 1312.07 116.209 1308.97 Q118.663 1305.84 119.01 1299.5 Q117.668 1301.49 115.608 1302.56 Q113.547 1303.62 111.047 1303.62 Q105.862 1303.62 102.83 1300.5 Q99.8206 1297.35 99.8206 1291.91 Q99.8206 1286.59 102.969 1283.37 Q106.117 1280.15 111.348 1280.15 Q117.344 1280.15 120.492 1284.76 Q123.663 1289.34 123.663 1298.09 Q123.663 1306.26 119.774 1311.15 Q115.909 1316.01 109.358 1316.01 Q107.598 1316.01 105.793 1315.66 Q103.987 1315.31 102.043 1314.62 M111.348 1299.96 Q114.496 1299.96 116.325 1297.81 Q118.177 1295.66 118.177 1291.91 Q118.177 1288.18 116.325 1286.03 Q114.496 1283.85 111.348 1283.85 Q108.2 1283.85 106.348 1286.03 Q104.52 1288.18 104.52 1291.91 Q104.52 1295.66 106.348 1297.81 Q108.2 1299.96 111.348 1299.96 Z\" fill=\"#000000\" fill-rule=\"evenodd\" fill-opacity=\"1\" /><path clip-path=\"url(#clip290)\" d=\"M 0 0 M68.3856 1056.01 L76.0245 1056.01 L76.0245 1029.65 L67.7143 1031.31 L67.7143 1027.05 L75.9782 1025.39 L80.6541 1025.39 L80.6541 1056.01 L88.2929 1056.01 L88.2929 1059.95 L68.3856 1059.95 L68.3856 1056.01 Z\" fill=\"#000000\" fill-rule=\"evenodd\" fill-opacity=\"1\" /><path clip-path=\"url(#clip290)\" d=\"M 0 0 M93.3623 1054.07 L98.2466 1054.07 L98.2466 1059.95 L93.3623 1059.95 L93.3623 1054.07 Z\" fill=\"#000000\" fill-rule=\"evenodd\" fill-opacity=\"1\" /><path clip-path=\"url(#clip290)\" d=\"M 0 0 M107.344 1056.01 L123.663 1056.01 L123.663 1059.95 L101.719 1059.95 L101.719 1056.01 Q104.381 1053.26 108.964 1048.63 Q113.571 1043.97 114.751 1042.63 Q116.996 1040.11 117.876 1038.37 Q118.779 1036.61 118.779 1034.92 Q118.779 1032.17 116.834 1030.43 Q114.913 1028.7 111.811 1028.7 Q109.612 1028.7 107.159 1029.46 Q104.728 1030.22 101.95 1031.78 L101.95 1027.05 Q104.774 1025.92 107.228 1025.34 Q109.682 1024.76 111.719 1024.76 Q117.089 1024.76 120.283 1027.45 Q123.478 1030.13 123.478 1034.62 Q123.478 1036.75 122.668 1038.67 Q121.881 1040.57 119.774 1043.16 Q119.196 1043.84 116.094 1047.05 Q112.992 1050.25 107.344 1056.01 Z\" fill=\"#000000\" fill-rule=\"evenodd\" fill-opacity=\"1\" /><path clip-path=\"url(#clip290)\" d=\"M 0 0 M67.7838 800.623 L75.4226 800.623 L75.4226 774.258 L67.1125 775.925 L67.1125 771.665 L75.3763 769.999 L80.0522 769.999 L80.0522 800.623 L87.6911 800.623 L87.6911 804.559 L67.7838 804.559 L67.7838 800.623 Z\" fill=\"#000000\" fill-rule=\"evenodd\" fill-opacity=\"1\" /><path clip-path=\"url(#clip290)\" d=\"M 0 0 M92.7605 798.679 L97.6447 798.679 L97.6447 804.559 L92.7605 804.559 L92.7605 798.679 Z\" fill=\"#000000\" fill-rule=\"evenodd\" fill-opacity=\"1\" /><path clip-path=\"url(#clip290)\" d=\"M 0 0 M102.76 769.999 L121.117 769.999 L121.117 773.934 L107.043 773.934 L107.043 782.406 Q108.061 782.059 109.08 781.897 Q110.098 781.712 111.117 781.712 Q116.904 781.712 120.283 784.883 Q123.663 788.054 123.663 793.471 Q123.663 799.049 120.191 802.151 Q116.719 805.23 110.399 805.23 Q108.223 805.23 105.955 804.86 Q103.71 804.489 101.302 803.748 L101.302 799.049 Q103.385 800.184 105.608 800.739 Q107.83 801.295 110.307 801.295 Q114.311 801.295 116.649 799.188 Q118.987 797.082 118.987 793.471 Q118.987 789.86 116.649 787.753 Q114.311 785.647 110.307 785.647 Q108.432 785.647 106.557 786.063 Q104.705 786.48 102.76 787.36 L102.76 769.999 Z\" fill=\"#000000\" fill-rule=\"evenodd\" fill-opacity=\"1\" /><path clip-path=\"url(#clip290)\" d=\"M 0 0 M66.881 545.235 L74.5198 545.235 L74.5198 518.87 L66.2097 520.536 L66.2097 516.277 L74.4735 514.61 L79.1494 514.61 L79.1494 545.235 L86.7883 545.235 L86.7883 549.17 L66.881 549.17 L66.881 545.235 Z\" fill=\"#000000\" fill-rule=\"evenodd\" fill-opacity=\"1\" /><path clip-path=\"url(#clip290)\" d=\"M 0 0 M91.8577 543.291 L96.7419 543.291 L96.7419 549.17 L91.8577 549.17 L91.8577 543.291 Z\" fill=\"#000000\" fill-rule=\"evenodd\" fill-opacity=\"1\" /><path clip-path=\"url(#clip290)\" d=\"M 0 0 M111.811 532.758 Q108.478 532.758 106.557 534.541 Q104.659 536.323 104.659 539.448 Q104.659 542.573 106.557 544.356 Q108.478 546.138 111.811 546.138 Q115.145 546.138 117.066 544.356 Q118.987 542.55 118.987 539.448 Q118.987 536.323 117.066 534.541 Q115.168 532.758 111.811 532.758 M107.135 530.768 Q104.126 530.027 102.436 527.967 Q100.77 525.907 100.77 522.944 Q100.77 518.8 103.71 516.393 Q106.672 513.985 111.811 513.985 Q116.973 513.985 119.913 516.393 Q122.853 518.8 122.853 522.944 Q122.853 525.907 121.163 527.967 Q119.496 530.027 116.51 530.768 Q119.89 531.555 121.765 533.846 Q123.663 536.138 123.663 539.448 Q123.663 544.471 120.584 547.157 Q117.529 549.842 111.811 549.842 Q106.094 549.842 103.015 547.157 Q99.9595 544.471 99.9595 539.448 Q99.9595 536.138 101.858 533.846 Q103.756 531.555 107.135 530.768 M105.422 523.383 Q105.422 526.069 107.089 527.573 Q108.779 529.078 111.811 529.078 Q114.821 529.078 116.51 527.573 Q118.223 526.069 118.223 523.383 Q118.223 520.698 116.51 519.194 Q114.821 517.689 111.811 517.689 Q108.779 517.689 107.089 519.194 Q105.422 520.698 105.422 523.383 Z\" fill=\"#000000\" fill-rule=\"evenodd\" fill-opacity=\"1\" /><path clip-path=\"url(#clip290)\" d=\"M 0 0 M71.6032 289.847 L87.9225 289.847 L87.9225 293.782 L65.9782 293.782 L65.9782 289.847 Q68.6402 287.092 73.2236 282.463 Q77.83 277.81 79.0106 276.467 Q81.2559 273.944 82.1355 272.208 Q83.0383 270.449 83.0383 268.759 Q83.0383 266.005 81.0939 264.268 Q79.1726 262.532 76.0708 262.532 Q73.8717 262.532 71.418 263.296 Q68.9875 264.06 66.2097 265.611 L66.2097 260.889 Q69.0338 259.755 71.4875 259.176 Q73.9411 258.597 75.9782 258.597 Q81.3485 258.597 84.5429 261.282 Q87.7374 263.968 87.7374 268.458 Q87.7374 270.588 86.9272 272.509 Q86.1402 274.407 84.0337 277 Q83.455 277.671 80.3531 280.889 Q77.2513 284.083 71.6032 289.847 Z\" fill=\"#000000\" fill-rule=\"evenodd\" fill-opacity=\"1\" /><path clip-path=\"url(#clip290)\" d=\"M 0 0 M92.992 287.903 L97.8762 287.903 L97.8762 293.782 L92.992 293.782 L92.992 287.903 Z\" fill=\"#000000\" fill-rule=\"evenodd\" fill-opacity=\"1\" /><path clip-path=\"url(#clip290)\" d=\"M 0 0 M103.756 289.847 L111.395 289.847 L111.395 263.481 L103.085 265.148 L103.085 260.889 L111.348 259.222 L116.024 259.222 L116.024 289.847 L123.663 289.847 L123.663 293.782 L103.756 293.782 L103.756 289.847 Z\" fill=\"#000000\" fill-rule=\"evenodd\" fill-opacity=\"1\" /><path clip-path=\"url(#clip290)\" d=\"M 0 0 M1232.04 1508.52 L1238.94 1508.52 L1250.75 1526.19 L1262.62 1508.52 L1269.53 1508.52 L1254.25 1531.34 L1270.55 1556.04 L1263.64 1556.04 L1250.27 1535.83 L1236.81 1556.04 L1229.87 1556.04 L1246.84 1530.68 L1232.04 1508.52 Z\" fill=\"#000000\" fill-rule=\"evenodd\" fill-opacity=\"1\" /><polyline clip-path=\"url(#clip292)\" style=\"stroke:#009af9; stroke-width:8; stroke-opacity:1; fill:none\" points=\"\n",
       "  210.071,1212.93 252.526,1212.81 294.981,1212.83 337.435,1212.85 379.89,1212.86 422.344,1212.86 464.799,1212.86 507.254,1212.85 549.708,1212.82 592.163,1212.77 \n",
       "  634.618,1212.69 677.072,1212.54 719.527,1212.28 761.981,1211.82 804.436,1210.98 846.891,1209.5 889.345,1206.84 931.8,1202.15 974.254,1193.94 1016.71,1179.75 \n",
       "  1059.16,1155.48 1101.62,1114.21 1144.07,1044.49 1186.53,929.891 1228.98,763.899 1271.44,574.735 1313.89,402.722 1356.35,269.259 1398.8,177.948 1441.26,123.154 \n",
       "  1483.71,95.6893 1526.16,86.1857 1568.62,86.8719 1611.07,92.1944 1653.53,98.6921 1695.98,104.555 1738.44,109.074 1780.89,112.183 1823.35,114.118 1865.8,115.208 \n",
       "  1908.26,115.769 1950.71,116.058 1993.17,116.274 2035.62,116.558 2078.07,117.005 2120.53,117.663 2162.98,118.52 2205.44,119.461 2247.89,120.294 2290.35,118.405 \n",
       "  \n",
       "  \"/>\n",
       "<polyline clip-path=\"url(#clip292)\" style=\"stroke:#e26f46; stroke-width:8; stroke-opacity:1; fill:none\" points=\"\n",
       "  210.071,509.976 252.526,509.984 294.981,509.981 337.435,509.986 379.89,509.999 422.344,510.024 464.799,510.065 507.254,510.132 549.708,510.237 592.163,510.415 \n",
       "  634.618,510.712 677.072,511.22 719.527,512.103 761.981,513.643 804.436,516.335 846.891,521.021 889.345,529.092 931.8,542.751 974.254,565.301 1016.71,601.362 \n",
       "  1059.16,656.794 1101.62,737.869 1144.07,848.395 1186.53,982.823 1228.98,1115.42 1271.44,1213.16 1313.89,1270.02 1356.35,1299.77 1398.8,1315.84 1441.26,1326.32 \n",
       "  1483.71,1335.15 1526.16,1343.75 1568.62,1352.2 1611.07,1360.06 1653.53,1366.83 1695.98,1372.22 1738.44,1376.2 1780.89,1378.93 1823.35,1380.67 1865.8,1381.7 \n",
       "  1908.26,1382.26 1950.71,1382.52 1993.17,1382.61 2035.62,1382.61 2078.07,1382.59 2120.53,1382.57 2162.98,1382.61 2205.44,1382.76 2247.89,1383.07 2290.35,1384.24 \n",
       "  \n",
       "  \"/>\n",
       "<polyline clip-path=\"url(#clip292)\" style=\"stroke:#3da44d; stroke-width:8; stroke-opacity:1; fill:none\" points=\"\n",
       "  210.071,1212.93 252.526,1211.74 294.981,1212.13 337.435,1212.39 379.89,1212.55 422.344,1212.6 464.799,1212.57 507.254,1212.44 549.708,1212.19 592.163,1211.76 \n",
       "  634.618,1211.04 677.072,1209.83 719.527,1207.75 761.981,1204.21 804.436,1198.19 846.891,1188.04 889.345,1171.26 931.8,1144.22 974.254,1102.3 1016.71,1040.61 \n",
       "  1059.16,956.23 1101.62,852.119 1144.07,742.254 1186.53,651.647 1228.98,595.921 1271.44,553.177 1313.89,496.342 1356.35,428.324 1398.8,365.971 1441.26,320.327 \n",
       "  1483.71,293.129 1526.16,280.634 1568.62,277.618 1611.07,279.658 1653.53,283.742 1695.98,288.124 1738.44,291.975 1780.89,295.003 1823.35,297.227 1865.8,298.789 \n",
       "  1908.26,299.836 1950.71,300.483 1993.17,300.8 2035.62,300.807 2078.07,300.485 2120.53,299.796 2162.98,298.738 2205.44,297.358 2247.89,295.885 2290.35,295.124 \n",
       "  \n",
       "  \"/>\n",
       "<path clip-path=\"url(#clip290)\" d=\"\n",
       "M1764.11 372.684 L2280.76 372.684 L2280.76 130.764 L1764.11 130.764  Z\n",
       "  \" fill=\"#ffffff\" fill-rule=\"evenodd\" fill-opacity=\"1\"/>\n",
       "<polyline clip-path=\"url(#clip290)\" style=\"stroke:#000000; stroke-width:4; stroke-opacity:1; fill:none\" points=\"\n",
       "  1764.11,372.684 2280.76,372.684 2280.76,130.764 1764.11,130.764 1764.11,372.684 \n",
       "  \"/>\n",
       "<polyline clip-path=\"url(#clip290)\" style=\"stroke:#009af9; stroke-width:4; stroke-opacity:1; fill:none\" points=\"\n",
       "  1788.11,191.244 1932.11,191.244 \n",
       "  \"/>\n",
       "<path clip-path=\"url(#clip290)\" d=\"M 0 0 M1960.79 177.807 L1960.79 204.682 L1966.44 204.682 Q1973.59 204.682 1976.9 201.441 Q1980.23 198.2 1980.23 191.209 Q1980.23 184.265 1976.9 181.047 Q1973.59 177.807 1966.44 177.807 L1960.79 177.807 M1956.11 173.964 L1965.72 173.964 Q1975.77 173.964 1980.47 178.154 Q1985.16 182.321 1985.16 191.209 Q1985.16 200.145 1980.44 204.334 Q1975.72 208.524 1965.72 208.524 L1956.11 208.524 L1956.11 173.964 Z\" fill=\"#000000\" fill-rule=\"evenodd\" fill-opacity=\"1\" /><path clip-path=\"url(#clip290)\" d=\"M 0 0 M2011.81 194.496 L2011.81 196.58 L1992.22 196.58 Q1992.5 200.978 1994.86 203.293 Q1997.25 205.584 2001.48 205.584 Q2003.94 205.584 2006.23 204.982 Q2008.54 204.381 2010.81 203.177 L2010.81 207.205 Q2008.52 208.177 2006.11 208.686 Q2003.71 209.195 2001.23 209.195 Q1995.03 209.195 1991.39 205.584 Q1987.78 201.973 1987.78 195.816 Q1987.78 189.45 1991.21 185.723 Q1994.66 181.973 2000.49 181.973 Q2005.72 181.973 2008.75 185.353 Q2011.81 188.709 2011.81 194.496 M2007.55 193.246 Q2007.5 189.751 2005.58 187.668 Q2003.68 185.584 2000.53 185.584 Q1996.97 185.584 1994.82 187.598 Q1992.69 189.612 1992.36 193.27 L2007.55 193.246 Z\" fill=\"#000000\" fill-rule=\"evenodd\" fill-opacity=\"1\" /><path clip-path=\"url(#clip290)\" d=\"M 0 0 M2037.83 192.876 L2037.83 208.524 L2033.57 208.524 L2033.57 193.015 Q2033.57 189.334 2032.13 187.506 Q2030.7 185.677 2027.83 185.677 Q2024.38 185.677 2022.39 187.876 Q2020.4 190.075 2020.4 193.871 L2020.4 208.524 L2016.11 208.524 L2016.11 182.598 L2020.4 182.598 L2020.4 186.626 Q2021.92 184.288 2023.98 183.131 Q2026.07 181.973 2028.78 181.973 Q2033.24 181.973 2035.53 184.751 Q2037.83 187.506 2037.83 192.876 Z\" fill=\"#000000\" fill-rule=\"evenodd\" fill-opacity=\"1\" /><path clip-path=\"url(#clip290)\" d=\"M 0 0 M2058.82 183.362 L2058.82 187.39 Q2057.02 186.464 2055.07 186.001 Q2053.13 185.538 2051.04 185.538 Q2047.87 185.538 2046.28 186.51 Q2044.7 187.483 2044.7 189.427 Q2044.7 190.908 2045.84 191.765 Q2046.97 192.598 2050.4 193.362 L2051.85 193.686 Q2056.39 194.658 2058.29 196.441 Q2060.21 198.2 2060.21 201.371 Q2060.21 204.982 2057.34 207.089 Q2054.49 209.195 2049.49 209.195 Q2047.41 209.195 2045.14 208.779 Q2042.9 208.385 2040.4 207.575 L2040.4 203.177 Q2042.76 204.404 2045.05 205.029 Q2047.34 205.631 2049.59 205.631 Q2052.59 205.631 2054.22 204.612 Q2055.84 203.57 2055.84 201.695 Q2055.84 199.959 2054.66 199.033 Q2053.5 198.107 2049.54 197.251 L2048.06 196.904 Q2044.1 196.07 2042.34 194.358 Q2040.58 192.621 2040.58 189.612 Q2040.58 185.955 2043.17 183.964 Q2045.77 181.973 2050.53 181.973 Q2052.9 181.973 2054.98 182.321 Q2057.06 182.668 2058.82 183.362 Z\" fill=\"#000000\" fill-rule=\"evenodd\" fill-opacity=\"1\" /><path clip-path=\"url(#clip290)\" d=\"M 0 0 M2064.68 182.598 L2068.94 182.598 L2068.94 208.524 L2064.68 208.524 L2064.68 182.598 M2064.68 172.506 L2068.94 172.506 L2068.94 177.899 L2064.68 177.899 L2064.68 172.506 Z\" fill=\"#000000\" fill-rule=\"evenodd\" fill-opacity=\"1\" /><path clip-path=\"url(#clip290)\" d=\"M 0 0 M2077.62 175.237 L2077.62 182.598 L2086.39 182.598 L2086.39 185.908 L2077.62 185.908 L2077.62 199.982 Q2077.62 203.154 2078.47 204.057 Q2079.35 204.959 2082.02 204.959 L2086.39 204.959 L2086.39 208.524 L2082.02 208.524 Q2077.09 208.524 2075.21 206.695 Q2073.34 204.844 2073.34 199.982 L2073.34 185.908 L2070.21 185.908 L2070.21 182.598 L2073.34 182.598 L2073.34 175.237 L2077.62 175.237 Z\" fill=\"#000000\" fill-rule=\"evenodd\" fill-opacity=\"1\" /><path clip-path=\"url(#clip290)\" d=\"M 0 0 M2101.65 210.931 Q2099.84 215.561 2098.13 216.973 Q2096.41 218.385 2093.54 218.385 L2090.14 218.385 L2090.14 214.82 L2092.64 214.82 Q2094.4 214.82 2095.37 213.987 Q2096.34 213.154 2097.53 210.052 L2098.29 208.107 L2087.8 182.598 L2092.32 182.598 L2100.42 202.876 L2108.52 182.598 L2113.03 182.598 L2101.65 210.931 Z\" fill=\"#000000\" fill-rule=\"evenodd\" fill-opacity=\"1\" /><polyline clip-path=\"url(#clip290)\" style=\"stroke:#e26f46; stroke-width:4; stroke-opacity:1; fill:none\" points=\"\n",
       "  1788.11,251.724 1932.11,251.724 \n",
       "  \"/>\n",
       "<path clip-path=\"url(#clip290)\" d=\"M 0 0 M1969.31 269.004 L1956.11 234.444 L1961 234.444 L1971.95 263.541 L1982.92 234.444 L1987.78 234.444 L1974.61 269.004 L1969.31 269.004 Z\" fill=\"#000000\" fill-rule=\"evenodd\" fill-opacity=\"1\" /><path clip-path=\"url(#clip290)\" d=\"M 0 0 M2010.74 254.976 L2010.74 257.06 L1991.16 257.06 Q1991.44 261.458 1993.8 263.773 Q1996.18 266.064 2000.42 266.064 Q2002.87 266.064 2005.16 265.462 Q2007.48 264.861 2009.75 263.657 L2009.75 267.685 Q2007.46 268.657 2005.05 269.166 Q2002.64 269.675 2000.16 269.675 Q1993.96 269.675 1990.33 266.064 Q1986.72 262.453 1986.72 256.296 Q1986.72 249.93 1990.14 246.203 Q1993.59 242.453 1999.42 242.453 Q2004.66 242.453 2007.69 245.833 Q2010.74 249.189 2010.74 254.976 M2006.48 253.726 Q2006.44 250.231 2004.52 248.148 Q2002.62 246.064 1999.47 246.064 Q1995.91 246.064 1993.75 248.078 Q1991.62 250.092 1991.3 253.75 L2006.48 253.726 Z\" fill=\"#000000\" fill-rule=\"evenodd\" fill-opacity=\"1\" /><path clip-path=\"url(#clip290)\" d=\"M 0 0 M2015.21 232.986 L2019.47 232.986 L2019.47 269.004 L2015.21 269.004 L2015.21 232.986 Z\" fill=\"#000000\" fill-rule=\"evenodd\" fill-opacity=\"1\" /><path clip-path=\"url(#clip290)\" d=\"M 0 0 M2033.98 246.064 Q2030.56 246.064 2028.57 248.75 Q2026.58 251.412 2026.58 256.064 Q2026.58 260.717 2028.54 263.402 Q2030.53 266.064 2033.98 266.064 Q2037.39 266.064 2039.38 263.379 Q2041.37 260.694 2041.37 256.064 Q2041.37 251.458 2039.38 248.773 Q2037.39 246.064 2033.98 246.064 M2033.98 242.453 Q2039.54 242.453 2042.71 246.064 Q2045.88 249.675 2045.88 256.064 Q2045.88 262.43 2042.71 266.064 Q2039.54 269.675 2033.98 269.675 Q2028.41 269.675 2025.23 266.064 Q2022.09 262.43 2022.09 256.064 Q2022.09 249.675 2025.23 246.064 Q2028.41 242.453 2033.98 242.453 Z\" fill=\"#000000\" fill-rule=\"evenodd\" fill-opacity=\"1\" /><path clip-path=\"url(#clip290)\" d=\"M 0 0 M2069.01 244.074 L2069.01 248.055 Q2067.2 247.06 2065.37 246.574 Q2063.57 246.064 2061.72 246.064 Q2057.57 246.064 2055.28 248.703 Q2052.99 251.319 2052.99 256.064 Q2052.99 260.81 2055.28 263.449 Q2057.57 266.064 2061.72 266.064 Q2063.57 266.064 2065.37 265.578 Q2067.2 265.069 2069.01 264.074 L2069.01 268.009 Q2067.22 268.842 2065.3 269.259 Q2063.4 269.675 2061.25 269.675 Q2055.4 269.675 2051.95 265.995 Q2048.5 262.314 2048.5 256.064 Q2048.5 249.722 2051.97 246.088 Q2055.47 242.453 2061.53 242.453 Q2063.5 242.453 2065.37 242.87 Q2067.25 243.263 2069.01 244.074 Z\" fill=\"#000000\" fill-rule=\"evenodd\" fill-opacity=\"1\" /><path clip-path=\"url(#clip290)\" d=\"M 0 0 M2073.47 243.078 L2077.73 243.078 L2077.73 269.004 L2073.47 269.004 L2073.47 243.078 M2073.47 232.986 L2077.73 232.986 L2077.73 238.379 L2073.47 238.379 L2073.47 232.986 Z\" fill=\"#000000\" fill-rule=\"evenodd\" fill-opacity=\"1\" /><path clip-path=\"url(#clip290)\" d=\"M 0 0 M2086.41 235.717 L2086.41 243.078 L2095.19 243.078 L2095.19 246.388 L2086.41 246.388 L2086.41 260.462 Q2086.41 263.634 2087.27 264.537 Q2088.15 265.439 2090.81 265.439 L2095.19 265.439 L2095.19 269.004 L2090.81 269.004 Q2085.88 269.004 2084.01 267.175 Q2082.13 265.324 2082.13 260.462 L2082.13 246.388 L2079.01 246.388 L2079.01 243.078 L2082.13 243.078 L2082.13 235.717 L2086.41 235.717 Z\" fill=\"#000000\" fill-rule=\"evenodd\" fill-opacity=\"1\" /><path clip-path=\"url(#clip290)\" d=\"M 0 0 M2110.44 271.411 Q2108.64 276.041 2106.92 277.453 Q2105.21 278.865 2102.34 278.865 L2098.94 278.865 L2098.94 275.3 L2101.44 275.3 Q2103.2 275.3 2104.17 274.467 Q2105.14 273.634 2106.32 270.532 L2107.09 268.587 L2096.6 243.078 L2101.11 243.078 L2109.21 263.356 L2117.32 243.078 L2121.83 243.078 L2110.44 271.411 Z\" fill=\"#000000\" fill-rule=\"evenodd\" fill-opacity=\"1\" /><polyline clip-path=\"url(#clip290)\" style=\"stroke:#3da44d; stroke-width:4; stroke-opacity:1; fill:none\" points=\"\n",
       "  1788.11,312.204 1932.11,312.204 \n",
       "  \"/>\n",
       "<path clip-path=\"url(#clip290)\" d=\"M 0 0 M1956.11 294.924 L1985.35 294.924 L1985.35 298.859 L1973.08 298.859 L1973.08 329.484 L1968.38 329.484 L1968.38 298.859 L1956.11 298.859 L1956.11 294.924 Z\" fill=\"#000000\" fill-rule=\"evenodd\" fill-opacity=\"1\" /><path clip-path=\"url(#clip290)\" d=\"M 0 0 M2003.94 315.456 L2003.94 317.54 L1984.35 317.54 Q1984.63 321.938 1986.99 324.253 Q1989.38 326.544 1993.61 326.544 Q1996.07 326.544 1998.36 325.942 Q2000.67 325.341 2002.94 324.137 L2002.94 328.165 Q2000.65 329.137 1998.24 329.646 Q1995.84 330.155 1993.36 330.155 Q1987.16 330.155 1983.52 326.544 Q1979.91 322.933 1979.91 316.776 Q1979.91 310.41 1983.34 306.683 Q1986.79 302.933 1992.62 302.933 Q1997.85 302.933 2000.88 306.313 Q2003.94 309.669 2003.94 315.456 M1999.68 314.206 Q1999.63 310.711 1997.71 308.628 Q1995.81 306.544 1992.66 306.544 Q1989.1 306.544 1986.95 308.558 Q1984.82 310.572 1984.49 314.23 L1999.68 314.206 Z\" fill=\"#000000\" fill-rule=\"evenodd\" fill-opacity=\"1\" /><path clip-path=\"url(#clip290)\" d=\"M 0 0 M2028.59 308.535 Q2030.19 305.665 2032.41 304.299 Q2034.63 302.933 2037.64 302.933 Q2041.69 302.933 2043.89 305.781 Q2046.09 308.605 2046.09 313.836 L2046.09 329.484 L2041.81 329.484 L2041.81 313.975 Q2041.81 310.248 2040.49 308.443 Q2039.17 306.637 2036.46 306.637 Q2033.15 306.637 2031.23 308.836 Q2029.31 311.035 2029.31 314.831 L2029.31 329.484 L2025.03 329.484 L2025.03 313.975 Q2025.03 310.225 2023.71 308.443 Q2022.39 306.637 2019.63 306.637 Q2016.37 306.637 2014.45 308.859 Q2012.53 311.058 2012.53 314.831 L2012.53 329.484 L2008.24 329.484 L2008.24 303.558 L2012.53 303.558 L2012.53 307.586 Q2013.98 305.202 2016.02 304.068 Q2018.06 302.933 2020.86 302.933 Q2023.68 302.933 2025.65 304.368 Q2027.64 305.804 2028.59 308.535 Z\" fill=\"#000000\" fill-rule=\"evenodd\" fill-opacity=\"1\" /><path clip-path=\"url(#clip290)\" d=\"M 0 0 M2054.68 325.595 L2054.68 339.345 L2050.4 339.345 L2050.4 303.558 L2054.68 303.558 L2054.68 307.493 Q2056.02 305.179 2058.06 304.068 Q2060.12 302.933 2062.97 302.933 Q2067.69 302.933 2070.63 306.683 Q2073.59 310.433 2073.59 316.544 Q2073.59 322.655 2070.63 326.405 Q2067.69 330.155 2062.97 330.155 Q2060.12 330.155 2058.06 329.044 Q2056.02 327.91 2054.68 325.595 M2069.17 316.544 Q2069.17 311.845 2067.22 309.183 Q2065.3 306.498 2061.92 306.498 Q2058.54 306.498 2056.6 309.183 Q2054.68 311.845 2054.68 316.544 Q2054.68 321.243 2056.6 323.929 Q2058.54 326.591 2061.92 326.591 Q2065.3 326.591 2067.22 323.929 Q2069.17 321.243 2069.17 316.544 Z\" fill=\"#000000\" fill-rule=\"evenodd\" fill-opacity=\"1\" /><path clip-path=\"url(#clip290)\" d=\"M 0 0 M2100.23 315.456 L2100.23 317.54 L2080.65 317.54 Q2080.93 321.938 2083.29 324.253 Q2085.67 326.544 2089.91 326.544 Q2092.36 326.544 2094.65 325.942 Q2096.97 325.341 2099.24 324.137 L2099.24 328.165 Q2096.95 329.137 2094.54 329.646 Q2092.13 330.155 2089.65 330.155 Q2083.45 330.155 2079.82 326.544 Q2076.21 322.933 2076.21 316.776 Q2076.21 310.41 2079.63 306.683 Q2083.08 302.933 2088.91 302.933 Q2094.15 302.933 2097.18 306.313 Q2100.23 309.669 2100.23 315.456 M2095.97 314.206 Q2095.93 310.711 2094.01 308.628 Q2092.11 306.544 2088.96 306.544 Q2085.4 306.544 2083.24 308.558 Q2081.11 310.572 2080.79 314.23 L2095.97 314.206 Z\" fill=\"#000000\" fill-rule=\"evenodd\" fill-opacity=\"1\" /><path clip-path=\"url(#clip290)\" d=\"M 0 0 M2119.72 307.54 Q2119.01 307.123 2118.15 306.938 Q2117.32 306.73 2116.3 306.73 Q2112.69 306.73 2110.74 309.091 Q2108.82 311.429 2108.82 315.827 L2108.82 329.484 L2104.54 329.484 L2104.54 303.558 L2108.82 303.558 L2108.82 307.586 Q2110.16 305.225 2112.32 304.091 Q2114.47 302.933 2117.55 302.933 Q2117.99 302.933 2118.52 303.003 Q2119.05 303.049 2119.7 303.165 L2119.72 307.54 Z\" fill=\"#000000\" fill-rule=\"evenodd\" fill-opacity=\"1\" /><path clip-path=\"url(#clip290)\" d=\"M 0 0 M2135.97 316.452 Q2130.81 316.452 2128.82 317.632 Q2126.83 318.813 2126.83 321.66 Q2126.83 323.929 2128.31 325.271 Q2129.82 326.591 2132.39 326.591 Q2135.93 326.591 2138.06 324.091 Q2140.21 321.567 2140.21 317.401 L2140.21 316.452 L2135.97 316.452 M2144.47 314.693 L2144.47 329.484 L2140.21 329.484 L2140.21 325.549 Q2138.75 327.91 2136.58 329.044 Q2134.4 330.155 2131.25 330.155 Q2127.27 330.155 2124.91 327.933 Q2122.57 325.688 2122.57 321.938 Q2122.57 317.563 2125.49 315.341 Q2128.43 313.118 2134.24 313.118 L2140.21 313.118 L2140.21 312.702 Q2140.21 309.762 2138.27 308.165 Q2136.34 306.544 2132.85 306.544 Q2130.63 306.544 2128.52 307.077 Q2126.41 307.609 2124.47 308.674 L2124.47 304.739 Q2126.81 303.836 2129.01 303.396 Q2131.21 302.933 2133.29 302.933 Q2138.91 302.933 2141.69 305.85 Q2144.47 308.767 2144.47 314.693 Z\" fill=\"#000000\" fill-rule=\"evenodd\" fill-opacity=\"1\" /><path clip-path=\"url(#clip290)\" d=\"M 0 0 M2153.15 296.197 L2153.15 303.558 L2161.92 303.558 L2161.92 306.868 L2153.15 306.868 L2153.15 320.942 Q2153.15 324.114 2154.01 325.017 Q2154.89 325.919 2157.55 325.919 L2161.92 325.919 L2161.92 329.484 L2157.55 329.484 Q2152.62 329.484 2150.74 327.655 Q2148.87 325.804 2148.87 320.942 L2148.87 306.868 L2145.74 306.868 L2145.74 303.558 L2148.87 303.558 L2148.87 296.197 L2153.15 296.197 Z\" fill=\"#000000\" fill-rule=\"evenodd\" fill-opacity=\"1\" /><path clip-path=\"url(#clip290)\" d=\"M 0 0 M2165.95 319.253 L2165.95 303.558 L2170.21 303.558 L2170.21 319.091 Q2170.21 322.771 2171.65 324.623 Q2173.08 326.452 2175.95 326.452 Q2179.4 326.452 2181.39 324.253 Q2183.4 322.054 2183.4 318.257 L2183.4 303.558 L2187.66 303.558 L2187.66 329.484 L2183.4 329.484 L2183.4 325.503 Q2181.85 327.864 2179.79 329.021 Q2177.76 330.155 2175.05 330.155 Q2170.58 330.155 2168.27 327.378 Q2165.95 324.6 2165.95 319.253 M2176.67 302.933 L2176.67 302.933 Z\" fill=\"#000000\" fill-rule=\"evenodd\" fill-opacity=\"1\" /><path clip-path=\"url(#clip290)\" d=\"M 0 0 M2207.15 307.54 Q2206.44 307.123 2205.58 306.938 Q2204.75 306.73 2203.73 306.73 Q2200.12 306.73 2198.17 309.091 Q2196.25 311.429 2196.25 315.827 L2196.25 329.484 L2191.97 329.484 L2191.97 303.558 L2196.25 303.558 L2196.25 307.586 Q2197.59 305.225 2199.75 304.091 Q2201.9 302.933 2204.98 302.933 Q2205.42 302.933 2205.95 303.003 Q2206.48 303.049 2207.13 303.165 L2207.15 307.54 Z\" fill=\"#000000\" fill-rule=\"evenodd\" fill-opacity=\"1\" /><path clip-path=\"url(#clip290)\" d=\"M 0 0 M2232.76 315.456 L2232.76 317.54 L2213.17 317.54 Q2213.45 321.938 2215.81 324.253 Q2218.2 326.544 2222.43 326.544 Q2224.89 326.544 2227.18 325.942 Q2229.49 325.341 2231.76 324.137 L2231.76 328.165 Q2229.47 329.137 2227.06 329.646 Q2224.65 330.155 2222.18 330.155 Q2215.97 330.155 2212.34 326.544 Q2208.73 322.933 2208.73 316.776 Q2208.73 310.41 2212.15 306.683 Q2215.6 302.933 2221.44 302.933 Q2226.67 302.933 2229.7 306.313 Q2232.76 309.669 2232.76 315.456 M2228.5 314.206 Q2228.45 310.711 2226.53 308.628 Q2224.63 306.544 2221.48 306.544 Q2217.92 306.544 2215.77 308.558 Q2213.64 310.572 2213.31 314.23 L2228.5 314.206 Z\" fill=\"#000000\" fill-rule=\"evenodd\" fill-opacity=\"1\" /></svg>\n"
      ]
     },
     "metadata": {},
     "output_type": "display_data"
    }
   ],
   "source": [
    "plot_line(ks, ctr)"
   ]
  },
  {
   "cell_type": "code",
   "execution_count": null,
   "metadata": {},
   "outputs": [],
   "source": []
  },
  {
   "cell_type": "code",
   "execution_count": null,
   "metadata": {},
   "outputs": [],
   "source": []
  },
  {
   "cell_type": "code",
   "execution_count": 53,
   "metadata": {},
   "outputs": [
    {
     "data": {
      "text/plain": [
       "([6.811362596739424e-8, -1.8547017247771156e-8, -1.1723245914614689e-7, -1.3760867537216347e-8, 1.8665269751878066e-7, 1.9505919243842368e-7, -2.344312347643365e-8, -2.0020930177675467e-7, -1.5268004464420394e-7, 5.988692763825828e-9  …  8.525365589504857e-8, 5.988692763825834e-9, -1.5268004464420396e-7, -2.0020930177675473e-7, -2.3443123476433623e-8, 1.9505919243842373e-7, 1.8665269751878056e-7, -1.3760867537216354e-8, -1.1723245914614692e-7, -1.8547017247771165e-8], [6.252435909354491e-6, -4.43555371488416e-6, -1.550660345891359e-5, -1.1980603147017353e-6, 2.5231012192034782e-5, 2.7340415169063403e-5, -6.903944571981204e-7, -2.5215953888183995e-5, -2.094194331107915e-5, -6.077744485323947e-7  …  9.691353798066074e-6, -2.6217188032424564e-6, -2.1903545181783084e-5, -2.3095853987483663e-5, 3.1141113396491577e-6, 2.8977758651021603e-5, 2.3203733718003486e-5, -4.22810689172339e-6, -1.6566091201609155e-5, -3.907288572301411e-6])"
      ]
     },
     "execution_count": 53,
     "metadata": {},
     "output_type": "execute_result"
    }
   ],
   "source": [
    "test = full_distribution(ctr[1].h, ctr[1].b, vSpace.u, vSpace.weights, vSpace3D.v, vSpace3D.w, ctr[1].prim, ks.gas.γ)\n",
    "df = boltzmann(test, [kn_bzm, nm, phi, psi, phipsi], tspan)\n",
    "\n",
    "ht, bt =\n",
    "        reduce_distribution(test, vSpace3D.v, vSpace3D.w, vSpace2D.weights)\n",
    "dht, dbt =\n",
    "        reduce_distribution(df, vSpace3D.v, vSpace3D.w, vSpace2D.weights)"
   ]
  },
  {
   "cell_type": "code",
   "execution_count": 54,
   "metadata": {},
   "outputs": [
    {
     "data": {
      "image/svg+xml": [
       "<?xml version=\"1.0\" encoding=\"utf-8\"?>\n",
       "<svg xmlns=\"http://www.w3.org/2000/svg\" xmlns:xlink=\"http://www.w3.org/1999/xlink\" width=\"600\" height=\"400\" viewBox=\"0 0 2400 1600\">\n",
       "<defs>\n",
       "  <clipPath id=\"clip090\">\n",
       "    <rect x=\"0\" y=\"0\" width=\"2400\" height=\"1600\"/>\n",
       "  </clipPath>\n",
       "</defs>\n",
       "<path clip-path=\"url(#clip090)\" d=\"\n",
       "M0 1600 L2400 1600 L2400 0 L0 0  Z\n",
       "  \" fill=\"#ffffff\" fill-rule=\"evenodd\" fill-opacity=\"1\"/>\n",
       "<defs>\n",
       "  <clipPath id=\"clip091\">\n",
       "    <rect x=\"480\" y=\"0\" width=\"1681\" height=\"1600\"/>\n",
       "  </clipPath>\n",
       "</defs>\n",
       "<path clip-path=\"url(#clip090)\" d=\"\n",
       "M249.931 1486.45 L2352.76 1486.45 L2352.76 47.2441 L249.931 47.2441  Z\n",
       "  \" fill=\"#ffffff\" fill-rule=\"evenodd\" fill-opacity=\"1\"/>\n",
       "<defs>\n",
       "  <clipPath id=\"clip092\">\n",
       "    <rect x=\"249\" y=\"47\" width=\"2104\" height=\"1440\"/>\n",
       "  </clipPath>\n",
       "</defs>\n",
       "<polyline clip-path=\"url(#clip092)\" style=\"stroke:#000000; stroke-width:2; stroke-opacity:0.1; fill:none\" points=\"\n",
       "  281.105,1486.45 281.105,47.2441 \n",
       "  \"/>\n",
       "<polyline clip-path=\"url(#clip092)\" style=\"stroke:#000000; stroke-width:2; stroke-opacity:0.1; fill:none\" points=\"\n",
       "  791.224,1486.45 791.224,47.2441 \n",
       "  \"/>\n",
       "<polyline clip-path=\"url(#clip092)\" style=\"stroke:#000000; stroke-width:2; stroke-opacity:0.1; fill:none\" points=\"\n",
       "  1301.34,1486.45 1301.34,47.2441 \n",
       "  \"/>\n",
       "<polyline clip-path=\"url(#clip092)\" style=\"stroke:#000000; stroke-width:2; stroke-opacity:0.1; fill:none\" points=\"\n",
       "  1811.46,1486.45 1811.46,47.2441 \n",
       "  \"/>\n",
       "<polyline clip-path=\"url(#clip092)\" style=\"stroke:#000000; stroke-width:2; stroke-opacity:0.1; fill:none\" points=\"\n",
       "  2321.58,1486.45 2321.58,47.2441 \n",
       "  \"/>\n",
       "<polyline clip-path=\"url(#clip092)\" style=\"stroke:#000000; stroke-width:2; stroke-opacity:0.1; fill:none\" points=\"\n",
       "  249.931,1445 2352.76,1445 \n",
       "  \"/>\n",
       "<polyline clip-path=\"url(#clip092)\" style=\"stroke:#000000; stroke-width:2; stroke-opacity:0.1; fill:none\" points=\"\n",
       "  249.931,1101.5 2352.76,1101.5 \n",
       "  \"/>\n",
       "<polyline clip-path=\"url(#clip092)\" style=\"stroke:#000000; stroke-width:2; stroke-opacity:0.1; fill:none\" points=\"\n",
       "  249.931,758.001 2352.76,758.001 \n",
       "  \"/>\n",
       "<polyline clip-path=\"url(#clip092)\" style=\"stroke:#000000; stroke-width:2; stroke-opacity:0.1; fill:none\" points=\"\n",
       "  249.931,414.503 2352.76,414.503 \n",
       "  \"/>\n",
       "<polyline clip-path=\"url(#clip092)\" style=\"stroke:#000000; stroke-width:2; stroke-opacity:0.1; fill:none\" points=\"\n",
       "  249.931,71.0047 2352.76,71.0047 \n",
       "  \"/>\n",
       "<polyline clip-path=\"url(#clip090)\" style=\"stroke:#000000; stroke-width:4; stroke-opacity:1; fill:none\" points=\"\n",
       "  249.931,1486.45 2352.76,1486.45 \n",
       "  \"/>\n",
       "<polyline clip-path=\"url(#clip090)\" style=\"stroke:#000000; stroke-width:4; stroke-opacity:1; fill:none\" points=\"\n",
       "  249.931,1486.45 249.931,47.2441 \n",
       "  \"/>\n",
       "<polyline clip-path=\"url(#clip090)\" style=\"stroke:#000000; stroke-width:4; stroke-opacity:1; fill:none\" points=\"\n",
       "  281.105,1486.45 281.105,1469.18 \n",
       "  \"/>\n",
       "<polyline clip-path=\"url(#clip090)\" style=\"stroke:#000000; stroke-width:4; stroke-opacity:1; fill:none\" points=\"\n",
       "  791.224,1486.45 791.224,1469.18 \n",
       "  \"/>\n",
       "<polyline clip-path=\"url(#clip090)\" style=\"stroke:#000000; stroke-width:4; stroke-opacity:1; fill:none\" points=\"\n",
       "  1301.34,1486.45 1301.34,1469.18 \n",
       "  \"/>\n",
       "<polyline clip-path=\"url(#clip090)\" style=\"stroke:#000000; stroke-width:4; stroke-opacity:1; fill:none\" points=\"\n",
       "  1811.46,1486.45 1811.46,1469.18 \n",
       "  \"/>\n",
       "<polyline clip-path=\"url(#clip090)\" style=\"stroke:#000000; stroke-width:4; stroke-opacity:1; fill:none\" points=\"\n",
       "  2321.58,1486.45 2321.58,1469.18 \n",
       "  \"/>\n",
       "<polyline clip-path=\"url(#clip090)\" style=\"stroke:#000000; stroke-width:4; stroke-opacity:1; fill:none\" points=\"\n",
       "  249.931,1445 275.165,1445 \n",
       "  \"/>\n",
       "<polyline clip-path=\"url(#clip090)\" style=\"stroke:#000000; stroke-width:4; stroke-opacity:1; fill:none\" points=\"\n",
       "  249.931,1101.5 275.165,1101.5 \n",
       "  \"/>\n",
       "<polyline clip-path=\"url(#clip090)\" style=\"stroke:#000000; stroke-width:4; stroke-opacity:1; fill:none\" points=\"\n",
       "  249.931,758.001 275.165,758.001 \n",
       "  \"/>\n",
       "<polyline clip-path=\"url(#clip090)\" style=\"stroke:#000000; stroke-width:4; stroke-opacity:1; fill:none\" points=\"\n",
       "  249.931,414.503 275.165,414.503 \n",
       "  \"/>\n",
       "<polyline clip-path=\"url(#clip090)\" style=\"stroke:#000000; stroke-width:4; stroke-opacity:1; fill:none\" points=\"\n",
       "  249.931,71.0047 275.165,71.0047 \n",
       "  \"/>\n",
       "<path clip-path=\"url(#clip090)\" d=\"M 0 0 M248.466 1525.04 L260.943 1525.04 L260.943 1528.83 L248.466 1528.83 L248.466 1525.04 Z\" fill=\"#000000\" fill-rule=\"evenodd\" fill-opacity=\"1\" /><path clip-path=\"url(#clip090)\" d=\"M 0 0 M266.823 1535.98 L274.462 1535.98 L274.462 1509.62 L266.151 1511.29 L266.151 1507.03 L274.415 1505.36 L279.091 1505.36 L279.091 1535.98 L286.73 1535.98 L286.73 1539.92 L266.823 1539.92 L266.823 1535.98 Z\" fill=\"#000000\" fill-rule=\"evenodd\" fill-opacity=\"1\" /><path clip-path=\"url(#clip090)\" d=\"M 0 0 M301.799 1508.44 Q298.188 1508.44 296.36 1512 Q294.554 1515.55 294.554 1522.67 Q294.554 1529.78 296.36 1533.35 Q298.188 1536.89 301.799 1536.89 Q305.434 1536.89 307.239 1533.35 Q309.068 1529.78 309.068 1522.67 Q309.068 1515.55 307.239 1512 Q305.434 1508.44 301.799 1508.44 M301.799 1504.73 Q307.61 1504.73 310.665 1509.34 Q313.744 1513.92 313.744 1522.67 Q313.744 1531.4 310.665 1536.01 Q307.61 1540.59 301.799 1540.59 Q295.989 1540.59 292.911 1536.01 Q289.855 1531.4 289.855 1522.67 Q289.855 1513.92 292.911 1509.34 Q295.989 1504.73 301.799 1504.73 Z\" fill=\"#000000\" fill-rule=\"evenodd\" fill-opacity=\"1\" /><path clip-path=\"url(#clip090)\" d=\"M 0 0 M771.977 1525.04 L784.453 1525.04 L784.453 1528.83 L771.977 1528.83 L771.977 1525.04 Z\" fill=\"#000000\" fill-rule=\"evenodd\" fill-opacity=\"1\" /><path clip-path=\"url(#clip090)\" d=\"M 0 0 M789.569 1505.36 L807.926 1505.36 L807.926 1509.3 L793.852 1509.3 L793.852 1517.77 Q794.87 1517.42 795.889 1517.26 Q796.907 1517.07 797.926 1517.07 Q803.713 1517.07 807.092 1520.24 Q810.472 1523.42 810.472 1528.83 Q810.472 1534.41 807 1537.51 Q803.527 1540.59 797.208 1540.59 Q795.032 1540.59 792.764 1540.22 Q790.518 1539.85 788.111 1539.11 L788.111 1534.41 Q790.194 1535.54 792.416 1536.1 Q794.639 1536.66 797.115 1536.66 Q801.12 1536.66 803.458 1534.55 Q805.796 1532.44 805.796 1528.83 Q805.796 1525.22 803.458 1523.11 Q801.12 1521.01 797.115 1521.01 Q795.24 1521.01 793.365 1521.42 Q791.514 1521.84 789.569 1522.72 L789.569 1505.36 Z\" fill=\"#000000\" fill-rule=\"evenodd\" fill-opacity=\"1\" /><path clip-path=\"url(#clip090)\" d=\"M 0 0 M1301.34 1508.44 Q1297.73 1508.44 1295.9 1512 Q1294.1 1515.55 1294.1 1522.67 Q1294.1 1529.78 1295.9 1533.35 Q1297.73 1536.89 1301.34 1536.89 Q1304.98 1536.89 1306.78 1533.35 Q1308.61 1529.78 1308.61 1522.67 Q1308.61 1515.55 1306.78 1512 Q1304.98 1508.44 1301.34 1508.44 M1301.34 1504.73 Q1307.15 1504.73 1310.21 1509.34 Q1313.29 1513.92 1313.29 1522.67 Q1313.29 1531.4 1310.21 1536.01 Q1307.15 1540.59 1301.34 1540.59 Q1295.53 1540.59 1292.45 1536.01 Q1289.4 1531.4 1289.4 1522.67 Q1289.4 1513.92 1292.45 1509.34 Q1295.53 1504.73 1301.34 1504.73 Z\" fill=\"#000000\" fill-rule=\"evenodd\" fill-opacity=\"1\" /><path clip-path=\"url(#clip090)\" d=\"M 0 0 M1801.74 1505.36 L1820.1 1505.36 L1820.1 1509.3 L1806.02 1509.3 L1806.02 1517.77 Q1807.04 1517.42 1808.06 1517.26 Q1809.08 1517.07 1810.1 1517.07 Q1815.88 1517.07 1819.26 1520.24 Q1822.64 1523.42 1822.64 1528.83 Q1822.64 1534.41 1819.17 1537.51 Q1815.7 1540.59 1809.38 1540.59 Q1807.2 1540.59 1804.93 1540.22 Q1802.69 1539.85 1800.28 1539.11 L1800.28 1534.41 Q1802.37 1535.54 1804.59 1536.1 Q1806.81 1536.66 1809.29 1536.66 Q1813.29 1536.66 1815.63 1534.55 Q1817.97 1532.44 1817.97 1528.83 Q1817.97 1525.22 1815.63 1523.11 Q1813.29 1521.01 1809.29 1521.01 Q1807.41 1521.01 1805.54 1521.42 Q1803.68 1521.84 1801.74 1522.72 L1801.74 1505.36 Z\" fill=\"#000000\" fill-rule=\"evenodd\" fill-opacity=\"1\" /><path clip-path=\"url(#clip090)\" d=\"M 0 0 M2298.46 1535.98 L2306.1 1535.98 L2306.1 1509.62 L2297.79 1511.29 L2297.79 1507.03 L2306.05 1505.36 L2310.73 1505.36 L2310.73 1535.98 L2318.36 1535.98 L2318.36 1539.92 L2298.46 1539.92 L2298.46 1535.98 Z\" fill=\"#000000\" fill-rule=\"evenodd\" fill-opacity=\"1\" /><path clip-path=\"url(#clip090)\" d=\"M 0 0 M2333.43 1508.44 Q2329.82 1508.44 2327.99 1512 Q2326.19 1515.55 2326.19 1522.67 Q2326.19 1529.78 2327.99 1533.35 Q2329.82 1536.89 2333.43 1536.89 Q2337.07 1536.89 2338.87 1533.35 Q2340.7 1529.78 2340.7 1522.67 Q2340.7 1515.55 2338.87 1512 Q2337.07 1508.44 2333.43 1508.44 M2333.43 1504.73 Q2339.24 1504.73 2342.3 1509.34 Q2345.38 1513.92 2345.38 1522.67 Q2345.38 1531.4 2342.3 1536.01 Q2339.24 1540.59 2333.43 1540.59 Q2327.62 1540.59 2324.54 1536.01 Q2321.49 1531.4 2321.49 1522.67 Q2321.49 1513.92 2324.54 1509.34 Q2327.62 1504.73 2333.43 1504.73 Z\" fill=\"#000000\" fill-rule=\"evenodd\" fill-opacity=\"1\" /><path clip-path=\"url(#clip090)\" d=\"M 0 0 M59.4563 1453.84 L71.9331 1453.84 L71.9331 1457.64 L59.4563 1457.64 L59.4563 1453.84 Z\" fill=\"#000000\" fill-rule=\"evenodd\" fill-opacity=\"1\" /><path clip-path=\"url(#clip090)\" d=\"M 0 0 M94.757 1464.79 L111.076 1464.79 L111.076 1468.72 L89.132 1468.72 L89.132 1464.79 Q91.7941 1462.03 96.3774 1457.4 Q100.984 1452.75 102.164 1451.41 Q104.41 1448.89 105.289 1447.15 Q106.192 1445.39 106.192 1443.7 Q106.192 1440.95 104.248 1439.21 Q102.326 1437.47 99.2246 1437.47 Q97.0255 1437.47 94.5718 1438.24 Q92.1413 1439 89.3635 1440.55 L89.3635 1435.83 Q92.1876 1434.7 94.6413 1434.12 Q97.095 1433.54 99.132 1433.54 Q104.502 1433.54 107.697 1436.22 Q110.891 1438.91 110.891 1443.4 Q110.891 1445.53 110.081 1447.45 Q109.294 1449.35 107.187 1451.94 Q106.609 1452.61 103.507 1455.83 Q100.405 1459.03 94.757 1464.79 Z\" fill=\"#000000\" fill-rule=\"evenodd\" fill-opacity=\"1\" /><path clip-path=\"url(#clip090)\" d=\"M 0 0 M144.317 1443.26 L133.738 1453.89 L144.317 1464.47 L141.562 1467.27 L130.937 1456.64 L120.312 1467.27 L117.581 1464.47 L128.136 1453.89 L117.581 1443.26 L120.312 1440.46 L130.937 1451.09 L141.562 1440.46 L144.317 1443.26 Z\" fill=\"#000000\" fill-rule=\"evenodd\" fill-opacity=\"1\" /><path clip-path=\"url(#clip090)\" d=\"M 0 0 M150.197 1464.79 L157.835 1464.79 L157.835 1438.42 L149.525 1440.09 L149.525 1435.83 L157.789 1434.16 L162.465 1434.16 L162.465 1464.79 L170.104 1464.79 L170.104 1468.72 L150.197 1468.72 L150.197 1464.79 Z\" fill=\"#000000\" fill-rule=\"evenodd\" fill-opacity=\"1\" /><path clip-path=\"url(#clip090)\" d=\"M 0 0 M185.173 1437.24 Q181.562 1437.24 179.733 1440.81 Q177.928 1444.35 177.928 1451.48 Q177.928 1458.59 179.733 1462.15 Q181.562 1465.69 185.173 1465.69 Q188.807 1465.69 190.613 1462.15 Q192.442 1458.59 192.442 1451.48 Q192.442 1444.35 190.613 1440.81 Q188.807 1437.24 185.173 1437.24 M185.173 1433.54 Q190.983 1433.54 194.039 1438.15 Q197.118 1442.73 197.118 1451.48 Q197.118 1460.21 194.039 1464.81 Q190.983 1469.4 185.173 1469.4 Q179.363 1469.4 176.284 1464.81 Q173.229 1460.21 173.229 1451.48 Q173.229 1442.73 176.284 1438.15 Q179.363 1433.54 185.173 1433.54 Z\" fill=\"#000000\" fill-rule=\"evenodd\" fill-opacity=\"1\" /><path clip-path=\"url(#clip090)\" d=\"M 0 0 M197.118 1421.1 L212.295 1421.1 L212.295 1422.88 L197.118 1422.88 L197.118 1421.1 Z\" fill=\"#000000\" fill-rule=\"evenodd\" fill-opacity=\"1\" /><path clip-path=\"url(#clip090)\" d=\"M 0 0 M214.327 1413.05 L225.931 1413.05 L225.931 1413.95 L219.386 1428.75 L216.828 1428.75 L222.997 1414.83 L214.327 1414.83 L214.327 1413.05 Z\" fill=\"#000000\" fill-rule=\"evenodd\" fill-opacity=\"1\" /><path clip-path=\"url(#clip090)\" d=\"M 0 0 M60.822 1110.34 L73.2988 1110.34 L73.2988 1114.14 L60.822 1114.14 L60.822 1110.34 Z\" fill=\"#000000\" fill-rule=\"evenodd\" fill-opacity=\"1\" /><path clip-path=\"url(#clip090)\" d=\"M 0 0 M91.1691 1121.29 L98.8079 1121.29 L98.8079 1094.93 L90.4978 1096.59 L90.4978 1092.33 L98.7616 1090.67 L103.438 1090.67 L103.438 1121.29 L111.076 1121.29 L111.076 1125.23 L91.1691 1125.23 L91.1691 1121.29 Z\" fill=\"#000000\" fill-rule=\"evenodd\" fill-opacity=\"1\" /><path clip-path=\"url(#clip090)\" d=\"M 0 0 M144.317 1099.76 L133.738 1110.39 L144.317 1120.97 L141.562 1123.77 L130.937 1113.14 L120.312 1123.77 L117.581 1120.97 L128.136 1110.39 L117.581 1099.76 L120.312 1096.96 L130.937 1107.59 L141.562 1096.96 L144.317 1099.76 Z\" fill=\"#000000\" fill-rule=\"evenodd\" fill-opacity=\"1\" /><path clip-path=\"url(#clip090)\" d=\"M 0 0 M150.197 1121.29 L157.835 1121.29 L157.835 1094.93 L149.525 1096.59 L149.525 1092.33 L157.789 1090.67 L162.465 1090.67 L162.465 1121.29 L170.104 1121.29 L170.104 1125.23 L150.197 1125.23 L150.197 1121.29 Z\" fill=\"#000000\" fill-rule=\"evenodd\" fill-opacity=\"1\" /><path clip-path=\"url(#clip090)\" d=\"M 0 0 M185.173 1093.75 Q181.562 1093.75 179.733 1097.31 Q177.928 1100.85 177.928 1107.98 Q177.928 1115.09 179.733 1118.65 Q181.562 1122.19 185.173 1122.19 Q188.807 1122.19 190.613 1118.65 Q192.442 1115.09 192.442 1107.98 Q192.442 1100.85 190.613 1097.31 Q188.807 1093.75 185.173 1093.75 M185.173 1090.04 Q190.983 1090.04 194.039 1094.65 Q197.118 1099.23 197.118 1107.98 Q197.118 1116.71 194.039 1121.31 Q190.983 1125.9 185.173 1125.9 Q179.363 1125.9 176.284 1121.31 Q173.229 1116.71 173.229 1107.98 Q173.229 1099.23 176.284 1094.65 Q179.363 1090.04 185.173 1090.04 Z\" fill=\"#000000\" fill-rule=\"evenodd\" fill-opacity=\"1\" /><path clip-path=\"url(#clip090)\" d=\"M 0 0 M197.118 1077.6 L212.295 1077.6 L212.295 1079.38 L197.118 1079.38 L197.118 1077.6 Z\" fill=\"#000000\" fill-rule=\"evenodd\" fill-opacity=\"1\" /><path clip-path=\"url(#clip090)\" d=\"M 0 0 M214.327 1069.55 L225.931 1069.55 L225.931 1070.45 L219.386 1085.25 L216.828 1085.25 L222.997 1071.33 L214.327 1071.33 L214.327 1069.55 Z\" fill=\"#000000\" fill-rule=\"evenodd\" fill-opacity=\"1\" /><path clip-path=\"url(#clip090)\" d=\"M 0 0 M213.987 743.799 Q210.376 743.799 208.547 747.364 Q206.741 750.906 206.741 758.035 Q206.741 765.142 208.547 768.707 Q210.376 772.248 213.987 772.248 Q217.621 772.248 219.426 768.707 Q221.255 765.142 221.255 758.035 Q221.255 750.906 219.426 747.364 Q217.621 743.799 213.987 743.799 M213.987 740.096 Q219.797 740.096 222.852 744.702 Q225.931 749.285 225.931 758.035 Q225.931 766.762 222.852 771.369 Q219.797 775.952 213.987 775.952 Q208.177 775.952 205.098 771.369 Q202.042 766.762 202.042 758.035 Q202.042 749.285 205.098 744.702 Q208.177 740.096 213.987 740.096 Z\" fill=\"#000000\" fill-rule=\"evenodd\" fill-opacity=\"1\" /><path clip-path=\"url(#clip090)\" d=\"M 0 0 M91.1691 434.295 L98.8079 434.295 L98.8079 407.93 L90.4978 409.596 L90.4978 405.337 L98.7616 403.67 L103.438 403.67 L103.438 434.295 L111.076 434.295 L111.076 438.23 L91.1691 438.23 L91.1691 434.295 Z\" fill=\"#000000\" fill-rule=\"evenodd\" fill-opacity=\"1\" /><path clip-path=\"url(#clip090)\" d=\"M 0 0 M144.317 412.767 L133.738 423.392 L144.317 433.971 L141.562 436.772 L130.937 426.147 L120.312 436.772 L117.581 433.971 L128.136 423.392 L117.581 412.767 L120.312 409.967 L130.937 420.592 L141.562 409.967 L144.317 412.767 Z\" fill=\"#000000\" fill-rule=\"evenodd\" fill-opacity=\"1\" /><path clip-path=\"url(#clip090)\" d=\"M 0 0 M150.197 434.295 L157.835 434.295 L157.835 407.93 L149.525 409.596 L149.525 405.337 L157.789 403.67 L162.465 403.67 L162.465 434.295 L170.104 434.295 L170.104 438.23 L150.197 438.23 L150.197 434.295 Z\" fill=\"#000000\" fill-rule=\"evenodd\" fill-opacity=\"1\" /><path clip-path=\"url(#clip090)\" d=\"M 0 0 M185.173 406.749 Q181.562 406.749 179.733 410.314 Q177.928 413.855 177.928 420.985 Q177.928 428.091 179.733 431.656 Q181.562 435.198 185.173 435.198 Q188.807 435.198 190.613 431.656 Q192.442 428.091 192.442 420.985 Q192.442 413.855 190.613 410.314 Q188.807 406.749 185.173 406.749 M185.173 403.045 Q190.983 403.045 194.039 407.652 Q197.118 412.235 197.118 420.985 Q197.118 429.712 194.039 434.318 Q190.983 438.902 185.173 438.902 Q179.363 438.902 176.284 434.318 Q173.229 429.712 173.229 420.985 Q173.229 412.235 176.284 407.652 Q179.363 403.045 185.173 403.045 Z\" fill=\"#000000\" fill-rule=\"evenodd\" fill-opacity=\"1\" /><path clip-path=\"url(#clip090)\" d=\"M 0 0 M197.118 390.602 L212.295 390.602 L212.295 392.388 L197.118 392.388 L197.118 390.602 Z\" fill=\"#000000\" fill-rule=\"evenodd\" fill-opacity=\"1\" /><path clip-path=\"url(#clip090)\" d=\"M 0 0 M214.327 382.552 L225.931 382.552 L225.931 383.455 L219.386 398.256 L216.828 398.256 L222.997 384.339 L214.327 384.339 L214.327 382.552 Z\" fill=\"#000000\" fill-rule=\"evenodd\" fill-opacity=\"1\" /><path clip-path=\"url(#clip090)\" d=\"M 0 0 M94.757 90.7971 L111.076 90.7971 L111.076 94.7323 L89.132 94.7323 L89.132 90.7971 Q91.7941 88.0425 96.3774 83.4129 Q100.984 78.7602 102.164 77.4176 Q104.41 74.8944 105.289 73.1583 Q106.192 71.3991 106.192 69.7093 Q106.192 66.9547 104.248 65.2186 Q102.326 63.4825 99.2246 63.4825 Q97.0255 63.4825 94.5718 64.2464 Q92.1413 65.0102 89.3635 66.5612 L89.3635 61.839 Q92.1876 60.7047 94.6413 60.126 Q97.095 59.5473 99.132 59.5473 Q104.502 59.5473 107.697 62.2325 Q110.891 64.9176 110.891 69.4084 Q110.891 71.538 110.081 73.4593 Q109.294 75.3574 107.187 77.95 Q106.609 78.6213 103.507 81.8389 Q100.405 85.0333 94.757 90.7971 Z\" fill=\"#000000\" fill-rule=\"evenodd\" fill-opacity=\"1\" /><path clip-path=\"url(#clip090)\" d=\"M 0 0 M144.317 69.2695 L133.738 79.8944 L144.317 90.4731 L141.562 93.274 L130.937 82.649 L120.312 93.274 L117.581 90.4731 L128.136 79.8944 L117.581 69.2695 L120.312 66.4686 L130.937 77.0935 L141.562 66.4686 L144.317 69.2695 Z\" fill=\"#000000\" fill-rule=\"evenodd\" fill-opacity=\"1\" /><path clip-path=\"url(#clip090)\" d=\"M 0 0 M150.197 90.7971 L157.835 90.7971 L157.835 64.4315 L149.525 66.0982 L149.525 61.839 L157.789 60.1723 L162.465 60.1723 L162.465 90.7971 L170.104 90.7971 L170.104 94.7323 L150.197 94.7323 L150.197 90.7971 Z\" fill=\"#000000\" fill-rule=\"evenodd\" fill-opacity=\"1\" /><path clip-path=\"url(#clip090)\" d=\"M 0 0 M185.173 63.251 Q181.562 63.251 179.733 66.8158 Q177.928 70.3574 177.928 77.487 Q177.928 84.5935 179.733 88.1583 Q181.562 91.6999 185.173 91.6999 Q188.807 91.6999 190.613 88.1583 Q192.442 84.5935 192.442 77.487 Q192.442 70.3574 190.613 66.8158 Q188.807 63.251 185.173 63.251 M185.173 59.5473 Q190.983 59.5473 194.039 64.1538 Q197.118 68.7371 197.118 77.487 Q197.118 86.2138 194.039 90.8203 Q190.983 95.4036 185.173 95.4036 Q179.363 95.4036 176.284 90.8203 Q173.229 86.2138 173.229 77.487 Q173.229 68.7371 176.284 64.1538 Q179.363 59.5473 185.173 59.5473 Z\" fill=\"#000000\" fill-rule=\"evenodd\" fill-opacity=\"1\" /><path clip-path=\"url(#clip090)\" d=\"M 0 0 M197.118 47.1035 L212.295 47.1035 L212.295 48.8903 L197.118 48.8903 L197.118 47.1035 Z\" fill=\"#000000\" fill-rule=\"evenodd\" fill-opacity=\"1\" /><path clip-path=\"url(#clip090)\" d=\"M 0 0 M214.327 39.0538 L225.931 39.0538 L225.931 39.9566 L219.386 54.7583 L216.828 54.7583 L222.997 40.8406 L214.327 40.8406 L214.327 39.0538 Z\" fill=\"#000000\" fill-rule=\"evenodd\" fill-opacity=\"1\" /><polyline clip-path=\"url(#clip092)\" style=\"stroke:#009af9; stroke-width:4; stroke-opacity:1; fill:none\" points=\"\n",
       "  309.445,524.032 366.125,821.709 422.805,1160.69 479.485,805.269 536.165,116.852 592.845,87.9763 649.524,838.527 706.204,1445.72 762.884,1282.45 819.564,737.43 \n",
       "  876.244,465.156 932.924,569.616 989.604,750.341 1046.28,812.798 1102.96,788.501 1159.64,759.855 1216.32,752.693 1273,755.812 1329.68,757.9 1386.36,755.812 \n",
       "  1443.04,752.693 1499.72,759.855 1556.4,788.501 1613.08,812.798 1669.76,750.341 1726.44,569.616 1783.12,465.156 1839.8,737.43 1896.48,1282.45 1953.16,1445.72 \n",
       "  2009.84,838.527 2066.52,87.9763 2123.2,116.852 2179.88,805.269 2236.56,1160.69 2293.24,821.709 \n",
       "  \"/>\n",
       "<path clip-path=\"url(#clip090)\" d=\"\n",
       "M1989.74 251.724 L2280.76 251.724 L2280.76 130.764 L1989.74 130.764  Z\n",
       "  \" fill=\"#ffffff\" fill-rule=\"evenodd\" fill-opacity=\"1\"/>\n",
       "<polyline clip-path=\"url(#clip090)\" style=\"stroke:#000000; stroke-width:4; stroke-opacity:1; fill:none\" points=\"\n",
       "  1989.74,251.724 2280.76,251.724 2280.76,130.764 1989.74,130.764 1989.74,251.724 \n",
       "  \"/>\n",
       "<polyline clip-path=\"url(#clip090)\" style=\"stroke:#009af9; stroke-width:4; stroke-opacity:1; fill:none\" points=\"\n",
       "  2013.74,191.244 2157.74,191.244 \n",
       "  \"/>\n",
       "<path clip-path=\"url(#clip090)\" d=\"M 0 0 M2195.58 210.931 Q2193.77 215.561 2192.06 216.973 Q2190.35 218.385 2187.48 218.385 L2184.08 218.385 L2184.08 214.82 L2186.58 214.82 Q2188.33 214.82 2189.31 213.987 Q2190.28 213.154 2191.46 210.052 L2192.22 208.107 L2181.74 182.598 L2186.25 182.598 L2194.35 202.876 L2202.46 182.598 L2206.97 182.598 L2195.58 210.931 Z\" fill=\"#000000\" fill-rule=\"evenodd\" fill-opacity=\"1\" /><path clip-path=\"url(#clip090)\" d=\"M 0 0 M2212.85 204.589 L2220.49 204.589 L2220.49 178.223 L2212.18 179.89 L2212.18 175.631 L2220.44 173.964 L2225.12 173.964 L2225.12 204.589 L2232.76 204.589 L2232.76 208.524 L2212.85 208.524 L2212.85 204.589 Z\" fill=\"#000000\" fill-rule=\"evenodd\" fill-opacity=\"1\" /></svg>\n"
      ]
     },
     "execution_count": 54,
     "metadata": {},
     "output_type": "execute_result"
    }
   ],
   "source": [
    "plot(vSpace.u, dht)"
   ]
  },
  {
   "cell_type": "code",
   "execution_count": null,
   "metadata": {},
   "outputs": [],
   "source": []
  }
 ],
 "metadata": {
  "kernelspec": {
   "display_name": "Julia 1.4.1",
   "language": "julia",
   "name": "julia-1.4"
  },
  "language_info": {
   "file_extension": ".jl",
   "mimetype": "application/julia",
   "name": "julia",
   "version": "1.4.1"
  }
 },
 "nbformat": 4,
 "nbformat_minor": 4
}
