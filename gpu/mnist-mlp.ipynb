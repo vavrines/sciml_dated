{
 "cells": [
  {
   "cell_type": "code",
   "execution_count": 1,
   "metadata": {},
   "outputs": [
    {
     "name": "stderr",
     "output_type": "stream",
     "text": [
      "┌ Info: Precompiling Flux [587475ba-b771-5e3f-ad9e-33799f191a9c]\n",
      "└ @ Base loading.jl:1260\n",
      "┌ Warning: `haskey(::TargetIterator, name::String)` is deprecated, use `Target(; name = name) !== nothing` instead.\n",
      "│   caller = llvm_compat(::VersionNumber) at compatibility.jl:176\n",
      "└ @ CUDAnative /home/kit/scc/yy3406/.julia/packages/CUDAnative/ierw8/src/compatibility.jl:176\n",
      "┌ Info: Precompiling Parameters [d96e819e-fc66-5662-9728-84c9c7592b0a]\n",
      "└ @ Base loading.jl:1260\n",
      "┌ Info: Precompiling MLDatasets [eb30cadb-4394-5ae3-aed4-317e484a6458]\n",
      "└ @ Base loading.jl:1260\n"
     ]
    }
   ],
   "source": [
    "using Flux, Statistics\n",
    "using Flux.Data: DataLoader\n",
    "using Flux: onehotbatch, onecold, logitcrossentropy, throttle, @epochs\n",
    "using Base.Iterators: repeated\n",
    "using Parameters: @with_kw\n",
    "using CUDAapi\n",
    "using MLDatasets"
   ]
  },
  {
   "cell_type": "code",
   "execution_count": 2,
   "metadata": {},
   "outputs": [
    {
     "name": "stderr",
     "output_type": "stream",
     "text": [
      "┌ Info: CUDA is on\n",
      "└ @ Main In[2]:2\n"
     ]
    }
   ],
   "source": [
    "if has_cuda()\t\t# Check if CUDA is available\n",
    "    @info \"CUDA is on\"\n",
    "    import CUDA\t\t# If CUDA is available, import CuArrays\n",
    "    CUDA.allowscalar(false)\n",
    "end"
   ]
  },
  {
   "cell_type": "code",
   "execution_count": 3,
   "metadata": {},
   "outputs": [
    {
     "data": {
      "text/plain": [
       "Args"
      ]
     },
     "execution_count": 3,
     "metadata": {},
     "output_type": "execute_result"
    }
   ],
   "source": [
    "@with_kw mutable struct Args\n",
    "    η::Float64 = 3e-4       # learning rate\n",
    "    batchsize::Int = 1024   # batch size\n",
    "    epochs::Int = 10        # number of epochs\n",
    "    device::Function = gpu  # set as gpu, if gpu available\n",
    "end"
   ]
  },
  {
   "cell_type": "code",
   "execution_count": 4,
   "metadata": {},
   "outputs": [
    {
     "data": {
      "text/plain": [
       "getdata (generic function with 1 method)"
      ]
     },
     "execution_count": 4,
     "metadata": {},
     "output_type": "execute_result"
    }
   ],
   "source": [
    "function getdata(args)\n",
    "    # Loading Dataset\t\n",
    "    xtrain, ytrain = MLDatasets.MNIST.traindata(Float32)\n",
    "    xtest, ytest = MLDatasets.MNIST.testdata(Float32)\n",
    "\t\n",
    "    # Reshape Data for flatten the each image into linear array\n",
    "    xtrain = Flux.flatten(xtrain)\n",
    "    xtest = Flux.flatten(xtest)\n",
    "\n",
    "    # One-hot-encode the labels\n",
    "    ytrain, ytest = onehotbatch(ytrain, 0:9), onehotbatch(ytest, 0:9)\n",
    "\n",
    "    # Batching\n",
    "    train_data = DataLoader(xtrain, ytrain, batchsize=args.batchsize, shuffle=true)\n",
    "    test_data = DataLoader(xtest, ytest, batchsize=args.batchsize)\n",
    "\n",
    "    return train_data, test_data\n",
    "end"
   ]
  },
  {
   "cell_type": "code",
   "execution_count": 5,
   "metadata": {},
   "outputs": [
    {
     "data": {
      "text/plain": [
       "accuracy (generic function with 1 method)"
      ]
     },
     "execution_count": 5,
     "metadata": {},
     "output_type": "execute_result"
    }
   ],
   "source": [
    "function build_model(; imgsize=(28,28,1), nclasses=10)\n",
    "    return Chain(\n",
    " \t    Dense(prod(imgsize), 32, relu),\n",
    "            Dense(32, nclasses))\n",
    "end\n",
    "\n",
    "function loss_all(dataloader, model)\n",
    "    l = 0f0\n",
    "    for (x,y) in dataloader\n",
    "        l += logitcrossentropy(model(x), y)\n",
    "    end\n",
    "    l/length(dataloader)\n",
    "end\n",
    "\n",
    "function accuracy(data_loader, model)\n",
    "    acc = 0\n",
    "    for (x,y) in data_loader\n",
    "        acc += sum(onecold(cpu(model(x))) .== onecold(cpu(y)))*1 / size(x,2)\n",
    "    end\n",
    "    acc/length(data_loader)\n",
    "end"
   ]
  },
  {
   "cell_type": "code",
   "execution_count": 6,
   "metadata": {},
   "outputs": [
    {
     "data": {
      "text/plain": [
       "Args\n",
       "  η: Float64 0.0003\n",
       "  batchsize: Int64 1024\n",
       "  epochs: Int64 10\n",
       "  device: gpu (function of type typeof(gpu))\n"
      ]
     },
     "execution_count": 6,
     "metadata": {},
     "output_type": "execute_result"
    }
   ],
   "source": [
    "# train\n",
    "args = Args()"
   ]
  },
  {
   "cell_type": "code",
   "execution_count": 7,
   "metadata": {},
   "outputs": [
    {
     "name": "stdout",
     "output_type": "stream",
     "text": [
      "This program has requested access to the data dependency MNIST.\n",
      "which is not currently installed. It can be installed automatically, and you will not see this message again.\n",
      "\n",
      "Dataset: THE MNIST DATABASE of handwritten digits\n",
      "Authors: Yann LeCun, Corinna Cortes, Christopher J.C. Burges\n",
      "Website: http://yann.lecun.com/exdb/mnist/\n",
      "\n",
      "[LeCun et al., 1998a]\n",
      "    Y. LeCun, L. Bottou, Y. Bengio, and P. Haffner.\n",
      "    \"Gradient-based learning applied to document recognition.\"\n",
      "    Proceedings of the IEEE, 86(11):2278-2324, November 1998\n",
      "\n",
      "The files are available for download at the offical\n",
      "website linked above. Note that using the data\n",
      "responsibly and respecting copyright remains your\n",
      "responsibility. The authors of MNIST aren't really\n",
      "explicit about any terms of use, so please read the\n",
      "website to make sure you want to download the\n",
      "dataset.\n",
      "\n",
      "\n",
      "\n",
      "Do you want to download the dataset from [\"http://yann.lecun.com/exdb/mnist/train-images-idx3-ubyte.gz\", \"http://yann.lecun.com/exdb/mnist/train-labels-idx1-ubyte.gz\", \"http://yann.lecun.com/exdb/mnist/t10k-images-idx3-ubyte.gz\", \"http://yann.lecun.com/exdb/mnist/t10k-labels-idx1-ubyte.gz\"] to \"/home/kit/scc/yy3406/.julia/datadeps/MNIST\"?\n",
      "[y/n]\n",
      "stdin> y\n"
     ]
    },
    {
     "data": {
      "text/plain": [
       "(DataLoader((Float32[0.0 0.0 … 0.0 0.0; 0.0 0.0 … 0.0 0.0; … ; 0.0 0.0 … 0.0 0.0; 0.0 0.0 … 0.0 0.0], Bool[0 1 … 0 0; 0 0 … 0 0; … ; 0 0 … 0 1; 0 0 … 0 0]), 1024, 60000, true, 60000, [1, 2, 3, 4, 5, 6, 7, 8, 9, 10  …  59991, 59992, 59993, 59994, 59995, 59996, 59997, 59998, 59999, 60000], true), DataLoader((Float32[0.0 0.0 … 0.0 0.0; 0.0 0.0 … 0.0 0.0; … ; 0.0 0.0 … 0.0 0.0; 0.0 0.0 … 0.0 0.0], Bool[0 0 … 0 0; 0 0 … 0 0; … ; 0 0 … 0 0; 0 0 … 0 0]), 1024, 10000, true, 10000, [1, 2, 3, 4, 5, 6, 7, 8, 9, 10  …  9991, 9992, 9993, 9994, 9995, 9996, 9997, 9998, 9999, 10000], false))"
      ]
     },
     "execution_count": 7,
     "metadata": {},
     "output_type": "execute_result"
    }
   ],
   "source": [
    "train_data, test_data = getdata(args)"
   ]
  },
  {
   "cell_type": "code",
   "execution_count": 8,
   "metadata": {},
   "outputs": [
    {
     "data": {
      "text/plain": [
       "Chain(Dense(784, 32, relu), Dense(32, 10))"
      ]
     },
     "execution_count": 8,
     "metadata": {},
     "output_type": "execute_result"
    }
   ],
   "source": [
    "m = build_model()"
   ]
  },
  {
   "cell_type": "code",
   "execution_count": 9,
   "metadata": {},
   "outputs": [
    {
     "data": {
      "text/plain": [
       "Chain(Dense(784, 32, relu), Dense(32, 10))"
      ]
     },
     "execution_count": 9,
     "metadata": {},
     "output_type": "execute_result"
    }
   ],
   "source": [
    "# gpu\n",
    "train_data = args.device.(train_data)\n",
    "test_data = args.device.(train_data)\n",
    "m = args.device(m)"
   ]
  },
  {
   "cell_type": "code",
   "execution_count": 10,
   "metadata": {},
   "outputs": [
    {
     "data": {
      "text/plain": [
       "loss (generic function with 1 method)"
      ]
     },
     "execution_count": 10,
     "metadata": {},
     "output_type": "execute_result"
    }
   ],
   "source": [
    "loss(x,y) = logitcrossentropy(m(x), y)"
   ]
  },
  {
   "cell_type": "code",
   "execution_count": 11,
   "metadata": {},
   "outputs": [
    {
     "data": {
      "text/plain": [
       "ADAM(0.0003, (0.9, 0.999), IdDict{Any,Any}())"
      ]
     },
     "execution_count": 11,
     "metadata": {},
     "output_type": "execute_result"
    }
   ],
   "source": [
    "evalcb = () -> @show(loss_all(train_data, m))\n",
    "opt = ADAM(args.η)"
   ]
  },
  {
   "cell_type": "code",
   "execution_count": 15,
   "metadata": {},
   "outputs": [
    {
     "name": "stdout",
     "output_type": "stream",
     "text": [
      "loss_all(train_data, m) = 0.32577655f0\n",
      "loss_all(train_data, m) = "
     ]
    },
    {
     "name": "stderr",
     "output_type": "stream",
     "text": [
      "┌ Info: Epoch 1\n",
      "└ @ Main /home/kit/scc/yy3406/.julia/packages/Flux/Fj3bt/src/optimise/train.jl:121\n"
     ]
    },
    {
     "name": "stdout",
     "output_type": "stream",
     "text": [
      "0.3254825f0\n",
      "loss_all(train_data, m) = 0.32524538f0\n",
      "loss_all(train_data, m) = 0.32504395f0\n",
      "loss_all(train_data, m) = 0.32484505f0\n",
      "loss_all(train_data, m) = 0.32463807f0\n",
      "loss_all(train_data, m) = 0.32442987f0\n",
      "loss_all(train_data, m) = 0.32423598f0\n",
      "loss_all(train_data, m) = 0.32404175f0\n",
      "loss_all(train_data, m) = 0.32383552f0\n",
      "loss_all(train_data, m) = 0.3236351f0\n",
      "loss_all(train_data, m) = 0.32341754f0\n",
      "loss_all(train_data, m) = 0.3231955f0\n",
      "loss_all(train_data, m) = 0.32297894f0\n",
      "loss_all(train_data, m) = 0.32276115f0\n",
      "loss_all(train_data, m) = 0.32256675f0\n",
      "loss_all(train_data, m) = 0.32238612f0\n",
      "loss_all(train_data, m) = 0.32217458f0\n",
      "loss_all(train_data, m) = 0.32193252f0\n",
      "loss_all(train_data, m) = 0.3216949f0\n",
      "loss_all(train_data, m) = 0.32144767f0\n",
      "loss_all(train_data, m) = 0.32121608f0\n",
      "loss_all(train_data, m) = 0.3209867f0\n",
      "loss_all(train_data, m) = 0.3207865f0\n",
      "loss_all(train_data, m) = 0.3205859f0\n",
      "loss_all(train_data, m) = 0.3204338f0\n",
      "loss_all(train_data, m) = 0.3202806f0\n",
      "loss_all(train_data, m) = 0.32009986f0\n",
      "loss_all(train_data, m) = 0.31992108f0\n",
      "loss_all(train_data, m) = 0.31971407f0\n",
      "loss_all(train_data, m) = 0.31944954f0\n",
      "loss_all(train_data, m) = 0.3191937f0\n",
      "loss_all(train_data, m) = 0.31895095f0\n",
      "loss_all(train_data, m) = 0.3187162f0\n",
      "loss_all(train_data, m) = 0.31847355f0\n",
      "loss_all(train_data, m) = 0.31824368f0\n",
      "loss_all(train_data, m) = 0.3180382f0\n",
      "loss_all(train_data, m) = 0.317851f0\n",
      "loss_all(train_data, m) = 0.3176617f0\n",
      "loss_all(train_data, m) = 0.31747356f0\n",
      "loss_all(train_data, m) = 0.31732264f0\n",
      "loss_all(train_data, m) = 0.31715345f0\n",
      "loss_all(train_data, m) = 0.31697488f0\n",
      "loss_all(train_data, m) = 0.3168132f0\n",
      "loss_all(train_data, m) = 0.31663445f0\n",
      "loss_all(train_data, m) = 0.31640267f0\n",
      "loss_all(train_data, m) = 0.31618538f0\n",
      "loss_all(train_data, m) = 0.3159652f0\n",
      "loss_all(train_data, m) = 0.31571352f0\n",
      "loss_all(train_data, m) = 0.31547406f0\n",
      "loss_all(train_data, m) = 0.31527787f0\n",
      "loss_all(train_data, m) = 0.31511888f0\n",
      "loss_all(train_data, m) = 0.3149831f0\n",
      "loss_all(train_data, m) = 0.314854f0\n",
      "loss_all(train_data, m) = 0.31469566f0\n",
      "loss_all(train_data, m) = 0.31451964f0\n",
      "loss_all(train_data, m) = 0.31431422f0\n",
      "loss_all(train_data, m) = 0.3141308f0\n",
      "loss_all(train_data, m) = 0.31386656f0\n",
      "loss_all(train_data, m) = 0.31359628f0\n",
      "loss_all(train_data, m) = 0.3133279f0\n"
     ]
    },
    {
     "name": "stderr",
     "output_type": "stream",
     "text": [
      "┌ Info: Epoch 2\n",
      "└ @ Main /home/kit/scc/yy3406/.julia/packages/Flux/Fj3bt/src/optimise/train.jl:121\n"
     ]
    },
    {
     "name": "stdout",
     "output_type": "stream",
     "text": [
      "loss_all(train_data, m) = 0.3131164f0\n",
      "loss_all(train_data, m) = 0.31294242f0\n",
      "loss_all(train_data, m) = 0.3127759f0\n",
      "loss_all(train_data, m) = 0.31260094f0\n",
      "loss_all(train_data, m) = 0.3124247f0\n",
      "loss_all(train_data, m) = 0.31226325f0\n",
      "loss_all(train_data, m) = 0.3121023f0\n",
      "loss_all(train_data, m) = 0.31192937f0\n",
      "loss_all(train_data, m) = 0.3117596f0\n",
      "loss_all(train_data, m) = 0.31157193f0\n",
      "loss_all(train_data, m) = 0.31137815f0\n",
      "loss_all(train_data, m) = 0.31118965f0\n",
      "loss_all(train_data, m) = 0.3110006f0\n",
      "loss_all(train_data, m) = 0.3108375f0\n",
      "loss_all(train_data, m) = 0.31068873f0\n",
      "loss_all(train_data, m) = 0.31051084f0\n",
      "loss_all(train_data, m) = 0.31030416f0\n",
      "loss_all(train_data, m) = 0.31009975f0\n",
      "loss_all(train_data, m) = 0.30988458f0\n",
      "loss_all(train_data, m) = 0.30968168f0\n",
      "loss_all(train_data, m) = 0.309481f0\n",
      "loss_all(train_data, m) = 0.30930966f0\n",
      "loss_all(train_data, m) = 0.30913758f0\n",
      "loss_all(train_data, m) = 0.30901405f0\n",
      "loss_all(train_data, m) = 0.30888945f0\n",
      "loss_all(train_data, m) = 0.30873892f0\n",
      "loss_all(train_data, m) = 0.3085911f0\n",
      "loss_all(train_data, m) = 0.30841467f0\n",
      "loss_all(train_data, m) = 0.30818236f0\n",
      "loss_all(train_data, m) = 0.3079574f0\n",
      "loss_all(train_data, m) = 0.30774114f0\n",
      "loss_all(train_data, m) = 0.30753466f0\n",
      "loss_all(train_data, m) = 0.30731896f0\n",
      "loss_all(train_data, m) = 0.30711433f0\n",
      "loss_all(train_data, m) = 0.30693832f0\n",
      "loss_all(train_data, m) = 0.30678138f0\n",
      "loss_all(train_data, m) = 0.3066241f0\n",
      "loss_all(train_data, m) = 0.30646676f0\n",
      "loss_all(train_data, m) = 0.30634645f0\n",
      "loss_all(train_data, m) = 0.30620775f0\n",
      "loss_all(train_data, m) = 0.3060605f0\n",
      "loss_all(train_data, m) = 0.3059305f0\n",
      "loss_all(train_data, m) = 0.30578253f0\n",
      "loss_all(train_data, m) = 0.30557618f0\n",
      "loss_all(train_data, m) = 0.30538085f0\n",
      "loss_all(train_data, m) = 0.30518073f0\n",
      "loss_all(train_data, m) = 0.30495098f0\n",
      "loss_all(train_data, m) = 0.30473757f0\n",
      "loss_all(train_data, m) = 0.30456725f0\n",
      "loss_all(train_data, m) = 0.30443698f0\n",
      "loss_all(train_data, m) = 0.30433074f0\n",
      "loss_all(train_data, m) = 0.30423075f0\n",
      "loss_all(train_data, m) = 0.30410123f0\n",
      "loss_all(train_data, m) = 0.3039536f0\n",
      "loss_all(train_data, m) = 0.30377585f0\n",
      "loss_all(train_data, m) = 0.30361998f0\n",
      "loss_all(train_data, m) = 0.3033825f0\n"
     ]
    },
    {
     "name": "stderr",
     "output_type": "stream",
     "text": [
      "┌ Info: Epoch 3\n",
      "└ @ Main /home/kit/scc/yy3406/.julia/packages/Flux/Fj3bt/src/optimise/train.jl:121\n"
     ]
    },
    {
     "name": "stdout",
     "output_type": "stream",
     "text": [
      "loss_all(train_data, m) = 0.30313393f0\n",
      "loss_all(train_data, m) = 0.30288002f0\n",
      "loss_all(train_data, m) = 0.3026853f0\n",
      "loss_all(train_data, m) = 0.3025308f0\n",
      "loss_all(train_data, m) = 0.30238757f0\n",
      "loss_all(train_data, m) = 0.30223632f0\n",
      "loss_all(train_data, m) = 0.3020852f0\n",
      "loss_all(train_data, m) = 0.30194923f0\n",
      "loss_all(train_data, m) = 0.3018139f0\n",
      "loss_all(train_data, m) = 0.30166647f0\n",
      "loss_all(train_data, m) = 0.30151942f0\n",
      "loss_all(train_data, m) = 0.30135244f0\n",
      "loss_all(train_data, m) = 0.30117783f0\n",
      "loss_all(train_data, m) = 0.30100793f0\n",
      "loss_all(train_data, m) = 0.300838f0\n",
      "loss_all(train_data, m) = 0.30069512f0\n",
      "loss_all(train_data, m) = 0.3005693f0\n",
      "loss_all(train_data, m) = 0.30041784f0\n",
      "loss_all(train_data, m) = 0.300241f0\n",
      "loss_all(train_data, m) = 0.30006266f0\n",
      "loss_all(train_data, m) = 0.2998715f0\n",
      "loss_all(train_data, m) = 0.29969f0\n",
      "loss_all(train_data, m) = 0.29950926f0\n",
      "loss_all(train_data, m) = 0.29935655f0\n",
      "loss_all(train_data, m) = 0.29920182f0\n",
      "loss_all(train_data, m) = 0.2990957f0\n",
      "loss_all(train_data, m) = 0.2989917f0\n",
      "loss_all(train_data, m) = 0.29886433f0\n",
      "loss_all(train_data, m) = 0.2987436f0\n",
      "loss_all(train_data, m) = 0.2985922f0\n",
      "loss_all(train_data, m) = 0.29838452f0\n",
      "loss_all(train_data, m) = 0.29818353f0\n",
      "loss_all(train_data, m) = 0.297989f0\n",
      "loss_all(train_data, m) = 0.29780513f0\n",
      "loss_all(train_data, m) = 0.29760924f0\n",
      "loss_all(train_data, m) = 0.29742163f0\n",
      "loss_all(train_data, m) = 0.29726478f0\n",
      "loss_all(train_data, m) = 0.29712826f0\n",
      "loss_all(train_data, m) = 0.2969918f0\n",
      "loss_all(train_data, m) = 0.29685354f0\n",
      "loss_all(train_data, m) = 0.29675403f0\n",
      "loss_all(train_data, m) = 0.2966394f0\n",
      "loss_all(train_data, m) = 0.29651752f0\n",
      "loss_all(train_data, m) = 0.29641396f0\n",
      "loss_all(train_data, m) = 0.29629293f0\n",
      "loss_all(train_data, m) = 0.29610848f0\n",
      "loss_all(train_data, m) = 0.2959301f0\n",
      "loss_all(train_data, m) = 0.2957439f0\n",
      "loss_all(train_data, m) = 0.29552826f0\n",
      "loss_all(train_data, m) = 0.2953293f0\n",
      "loss_all(train_data, m) = 0.29517356f0\n",
      "loss_all(train_data, m) = 0.29505953f0\n",
      "loss_all(train_data, m) = 0.29497182f0\n",
      "loss_all(train_data, m) = 0.29489222f0\n",
      "loss_all(train_data, m) = 0.29478517f0\n",
      "loss_all(train_data, m) = 0.29466105f0\n",
      "loss_all(train_data, m) = 0.29450542f0\n",
      "loss_all(train_data, m) = 0.29437014f0\n",
      "loss_all(train_data, m) = 0.29415435f0\n",
      "loss_all(train_data, m) = 0.29392552f0\n",
      "loss_all(train_data, m) = 0.29368553f0\n",
      "loss_all(train_data, m) = 0.29350403f0\n",
      "loss_all(train_data, m) = 0.29336402f0\n"
     ]
    },
    {
     "name": "stderr",
     "output_type": "stream",
     "text": [
      "┌ Info: Epoch 4\n",
      "└ @ Main /home/kit/scc/yy3406/.julia/packages/Flux/Fj3bt/src/optimise/train.jl:121\n"
     ]
    },
    {
     "name": "stdout",
     "output_type": "stream",
     "text": [
      "loss_all(train_data, m) = 0.2932384f0\n",
      "loss_all(train_data, m) = 0.29310298f0\n",
      "loss_all(train_data, m) = 0.29296806f0\n",
      "loss_all(train_data, m) = 0.29284838f0\n",
      "loss_all(train_data, m) = 0.29273024f0\n",
      "loss_all(train_data, m) = 0.2925997f0\n",
      "loss_all(train_data, m) = 0.29247057f0\n",
      "loss_all(train_data, m) = 0.29232216f0\n",
      "loss_all(train_data, m) = 0.2921647f0\n",
      "loss_all(train_data, m) = 0.29201463f0\n",
      "loss_all(train_data, m) = 0.29186514f0\n",
      "loss_all(train_data, m) = 0.29174203f0\n",
      "loss_all(train_data, m) = 0.2916343f0\n",
      "loss_all(train_data, m) = 0.2915009f0\n",
      "loss_all(train_data, m) = 0.2913437f0\n",
      "loss_all(train_data, m) = 0.2911835f0\n",
      "loss_all(train_data, m) = 0.2910086f0\n",
      "loss_all(train_data, m) = 0.2908404f0\n",
      "loss_all(train_data, m) = 0.2906738f0\n",
      "loss_all(train_data, m) = 0.2905353f0\n",
      "loss_all(train_data, m) = 0.29039526f0\n",
      "loss_all(train_data, m) = 0.2903013f0\n",
      "loss_all(train_data, m) = 0.2902096f0\n",
      "loss_all(train_data, m) = 0.29009688f0\n",
      "loss_all(train_data, m) = 0.28998992f0\n",
      "loss_all(train_data, m) = 0.28985658f0\n",
      "loss_all(train_data, m) = 0.28967094f0\n",
      "loss_all(train_data, m) = 0.28949136f0\n",
      "loss_all(train_data, m) = 0.28931692f0\n",
      "loss_all(train_data, m) = 0.28915256f0\n",
      "loss_all(train_data, m) = 0.28897566f0\n",
      "loss_all(train_data, m) = 0.28880516f0\n",
      "loss_all(train_data, m) = 0.28866613f0\n",
      "loss_all(train_data, m) = 0.28854746f0\n",
      "loss_all(train_data, m) = 0.2884284f0\n",
      "loss_all(train_data, m) = 0.2883066f0\n",
      "loss_all(train_data, m) = 0.28822377f0\n",
      "loss_all(train_data, m) = 0.2881261f0\n",
      "loss_all(train_data, m) = 0.28802097f0\n",
      "loss_all(train_data, m) = 0.28793445f0\n",
      "loss_all(train_data, m) = 0.2878321f0\n",
      "loss_all(train_data, m) = 0.2876623f0\n",
      "loss_all(train_data, m) = 0.28749773f0\n",
      "loss_all(train_data, m) = 0.28732407f0\n",
      "loss_all(train_data, m) = 0.28712285f0\n",
      "loss_all(train_data, m) = 0.28693956f0\n",
      "loss_all(train_data, m) = 0.28680146f0\n",
      "loss_all(train_data, m) = 0.286706f0\n",
      "loss_all(train_data, m) = 0.28663474f0\n",
      "loss_all(train_data, m) = 0.28657088f0\n",
      "loss_all(train_data, m) = 0.28647962f0\n",
      "loss_all(train_data, m) = 0.28637284f0\n",
      "loss_all(train_data, m) = 0.2862343f0\n",
      "loss_all(train_data, m) = 0.28611502f0\n",
      "loss_all(train_data, m) = 0.2859202f0\n",
      "loss_all(train_data, m) = 0.28570947f0\n",
      "loss_all(train_data, m) = 0.2854839f0\n",
      "loss_all(train_data, m) = 0.28531572f0\n",
      "loss_all(train_data, m) = 0.2851909f0\n"
     ]
    },
    {
     "name": "stderr",
     "output_type": "stream",
     "text": [
      "┌ Info: Epoch 5\n",
      "└ @ Main /home/kit/scc/yy3406/.julia/packages/Flux/Fj3bt/src/optimise/train.jl:121\n"
     ]
    },
    {
     "name": "stdout",
     "output_type": "stream",
     "text": [
      "loss_all(train_data, m) = 0.28508064f0\n",
      "loss_all(train_data, m) = 0.2849606f0\n",
      "loss_all(train_data, m) = 0.28484133f0\n",
      "loss_all(train_data, m) = 0.2847375f0\n",
      "loss_all(train_data, m) = 0.28463548f0\n",
      "loss_all(train_data, m) = 0.2845205f0\n",
      "loss_all(train_data, m) = 0.2844059f0\n",
      "loss_all(train_data, m) = 0.28427127f0\n",
      "loss_all(train_data, m) = 0.2841263f0\n",
      "loss_all(train_data, m) = 0.28398806f0\n",
      "loss_all(train_data, m) = 0.2838508f0\n",
      "loss_all(train_data, m) = 0.28374076f0\n",
      "loss_all(train_data, m) = 0.2836469f0\n",
      "loss_all(train_data, m) = 0.2835287f0\n",
      "loss_all(train_data, m) = 0.28338793f0\n",
      "loss_all(train_data, m) = 0.2832429f0\n",
      "loss_all(train_data, m) = 0.28308165f0\n",
      "loss_all(train_data, m) = 0.2829235f0\n",
      "loss_all(train_data, m) = 0.28276864f0\n",
      "loss_all(train_data, m) = 0.28264338f0\n",
      "loss_all(train_data, m) = 0.28251764f0\n",
      "loss_all(train_data, m) = 0.28243598f0\n",
      "loss_all(train_data, m) = 0.28235632f0\n",
      "loss_all(train_data, m) = 0.28225544f0\n",
      "loss_all(train_data, m) = 0.2821596f0\n",
      "loss_all(train_data, m) = 0.2820396f0\n",
      "loss_all(train_data, m) = 0.28187034f0\n",
      "loss_all(train_data, m) = 0.2817071f0\n",
      "loss_all(train_data, m) = 0.28154743f0\n",
      "loss_all(train_data, m) = 0.28139862f0\n",
      "loss_all(train_data, m) = 0.28123736f0\n",
      "loss_all(train_data, m) = 0.28108174f0\n",
      "loss_all(train_data, m) = 0.2809577f0\n",
      "loss_all(train_data, m) = 0.28085396f0\n",
      "loss_all(train_data, m) = 0.28074962f0\n",
      "loss_all(train_data, m) = 0.2806422f0\n",
      "loss_all(train_data, m) = 0.28057247f0\n",
      "loss_all(train_data, m) = 0.28048903f0\n",
      "loss_all(train_data, m) = 0.28039926f0\n",
      "loss_all(train_data, m) = 0.28032878f0\n",
      "loss_all(train_data, m) = 0.2802403f0\n",
      "loss_all(train_data, m) = 0.28007972f0\n",
      "loss_all(train_data, m) = 0.2799225f0\n",
      "loss_all(train_data, m) = 0.2797541f0\n",
      "loss_all(train_data, m) = 0.27955997f0\n",
      "loss_all(train_data, m) = 0.27938652f0\n",
      "loss_all(train_data, m) = 0.27926084f0\n",
      "loss_all(train_data, m) = 0.27918154f0\n",
      "loss_all(train_data, m) = 0.27912575f0\n",
      "loss_all(train_data, m) = 0.27907613f0\n",
      "loss_all(train_data, m) = 0.27899933f0\n",
      "loss_all(train_data, m) = 0.27890655f0\n",
      "loss_all(train_data, m) = 0.27877936f0\n",
      "loss_all(train_data, m) = 0.27866986f0\n",
      "loss_all(train_data, m) = 0.27848664f0\n",
      "loss_all(train_data, m) = 0.27828524f0\n",
      "loss_all(train_data, m) = 0.27806753f0\n",
      "loss_all(train_data, m) = 0.27790865f0\n",
      "loss_all(train_data, m) = 0.27779508f0\n"
     ]
    },
    {
     "name": "stderr",
     "output_type": "stream",
     "text": [
      "┌ Info: Epoch 6\n",
      "└ @ Main /home/kit/scc/yy3406/.julia/packages/Flux/Fj3bt/src/optimise/train.jl:121\n"
     ]
    },
    {
     "name": "stdout",
     "output_type": "stream",
     "text": [
      "loss_all(train_data, m) = 0.2776975f0\n",
      "loss_all(train_data, m) = 0.2775894f0\n",
      "loss_all(train_data, m) = 0.27748194f0\n",
      "loss_all(train_data, m) = 0.27738988f0\n",
      "loss_all(train_data, m) = 0.2772996f0\n",
      "loss_all(train_data, m) = 0.27719527f0\n",
      "loss_all(train_data, m) = 0.2770902f0\n",
      "loss_all(train_data, m) = 0.27696466f0\n",
      "loss_all(train_data, m) = 0.27682814f0\n",
      "loss_all(train_data, m) = 0.27669784f0\n",
      "loss_all(train_data, m) = 0.27657083f0\n",
      "loss_all(train_data, m) = 0.2764711f0\n",
      "loss_all(train_data, m) = 0.27638665f0\n",
      "loss_all(train_data, m) = 0.27627912f0\n",
      "loss_all(train_data, m) = 0.27615112f0\n",
      "loss_all(train_data, m) = 0.27601856f0\n",
      "loss_all(train_data, m) = 0.2758687f0\n",
      "loss_all(train_data, m) = 0.27572173f0\n",
      "loss_all(train_data, m) = 0.27557585f0\n",
      "loss_all(train_data, m) = 0.2754574f0\n",
      "loss_all(train_data, m) = 0.27533743f0\n",
      "loss_all(train_data, m) = 0.2752597f0\n",
      "loss_all(train_data, m) = 0.27518433f0\n",
      "loss_all(train_data, m) = 0.27508935f0\n",
      "loss_all(train_data, m) = 0.2750028f0\n",
      "loss_all(train_data, m) = 0.27489546f0\n",
      "loss_all(train_data, m) = 0.2747419f0\n",
      "loss_all(train_data, m) = 0.274595f0\n",
      "loss_all(train_data, m) = 0.27445093f0\n",
      "loss_all(train_data, m) = 0.27431855f0\n",
      "loss_all(train_data, m) = 0.27417117f0\n",
      "loss_all(train_data, m) = 0.2740269f0\n",
      "loss_all(train_data, m) = 0.2739135f0\n",
      "loss_all(train_data, m) = 0.27382126f0\n",
      "loss_all(train_data, m) = 0.27372774f0\n",
      "loss_all(train_data, m) = 0.27362883f0\n",
      "loss_all(train_data, m) = 0.2735691f0\n",
      "loss_all(train_data, m) = 0.27349573f0\n",
      "loss_all(train_data, m) = 0.27341717f0\n",
      "loss_all(train_data, m) = 0.2733594f0\n",
      "loss_all(train_data, m) = 0.27328476f0\n",
      "loss_all(train_data, m) = 0.27313617f0\n",
      "loss_all(train_data, m) = 0.27298942f0\n",
      "loss_all(train_data, m) = 0.27283162f0\n",
      "loss_all(train_data, m) = 0.27264795f0\n",
      "loss_all(train_data, m) = 0.27248523f0\n",
      "loss_all(train_data, m) = 0.27236795f0\n",
      "loss_all(train_data, m) = 0.27229652f0\n",
      "loss_all(train_data, m) = 0.27224895f0\n",
      "loss_all(train_data, m) = 0.2722076f0\n",
      "loss_all(train_data, m) = 0.27214003f0\n",
      "loss_all(train_data, m) = 0.2720589f0\n",
      "loss_all(train_data, m) = 0.27194515f0\n",
      "loss_all(train_data, m) = 0.27184936f0\n",
      "loss_all(train_data, m) = 0.27168116f0\n",
      "loss_all(train_data, m) = 0.27149126f0\n",
      "loss_all(train_data, m) = 0.2712833f0\n"
     ]
    },
    {
     "name": "stderr",
     "output_type": "stream",
     "text": [
      "┌ Info: Epoch 7\n",
      "└ @ Main /home/kit/scc/yy3406/.julia/packages/Flux/Fj3bt/src/optimise/train.jl:121\n"
     ]
    },
    {
     "name": "stdout",
     "output_type": "stream",
     "text": [
      "loss_all(train_data, m) = 0.27113208f0\n",
      "loss_all(train_data, m) = 0.27102616f0\n",
      "loss_all(train_data, m) = 0.27093738f0\n",
      "loss_all(train_data, m) = 0.2708382f0\n",
      "loss_all(train_data, m) = 0.27074063f0\n",
      "loss_all(train_data, m) = 0.27065825f0\n",
      "loss_all(train_data, m) = 0.2705779f0\n",
      "loss_all(train_data, m) = 0.27048233f0\n",
      "loss_all(train_data, m) = 0.27038577f0\n",
      "loss_all(train_data, m) = 0.2702684f0\n",
      "loss_all(train_data, m) = 0.27014044f0\n",
      "loss_all(train_data, m) = 0.27001923f0\n",
      "loss_all(train_data, m) = 0.26990172f0\n",
      "loss_all(train_data, m) = 0.26981208f0\n",
      "loss_all(train_data, m) = 0.26973796f0\n",
      "loss_all(train_data, m) = 0.26964125f0\n",
      "loss_all(train_data, m) = 0.2695244f0\n",
      "loss_all(train_data, m) = 0.2694034f0\n",
      "loss_all(train_data, m) = 0.2692631f0\n",
      "loss_all(train_data, m) = 0.2691233f0\n",
      "loss_all(train_data, m) = 0.26898304f0\n",
      "loss_all(train_data, m) = 0.26886857f0\n",
      "loss_all(train_data, m) = 0.26875237f0\n",
      "loss_all(train_data, m) = 0.26867896f0\n",
      "loss_all(train_data, m) = 0.2686078f0\n",
      "loss_all(train_data, m) = 0.26851913f0\n",
      "loss_all(train_data, m) = 0.26843968f0\n",
      "loss_all(train_data, m) = 0.26834103f0\n",
      "loss_all(train_data, m) = 0.26819828f0\n",
      "loss_all(train_data, m) = 0.26806402f0\n",
      "loss_all(train_data, m) = 0.2679331f0\n",
      "loss_all(train_data, m) = 0.2678128f0\n",
      "loss_all(train_data, m) = 0.2676766f0\n",
      "loss_all(train_data, m) = 0.26754212f0\n",
      "loss_all(train_data, m) = 0.26743987f0\n",
      "loss_all(train_data, m) = 0.26735845f0\n",
      "loss_all(train_data, m) = 0.26727518f0\n",
      "loss_all(train_data, m) = 0.2671865f0\n",
      "loss_all(train_data, m) = 0.26713586f0\n",
      "loss_all(train_data, m) = 0.2670725f0\n",
      "loss_all(train_data, m) = 0.26700372f0\n",
      "loss_all(train_data, m) = 0.26695544f0\n",
      "loss_all(train_data, m) = 0.26689008f0\n",
      "loss_all(train_data, m) = 0.26674753f0\n",
      "loss_all(train_data, m) = 0.26660508f0\n",
      "loss_all(train_data, m) = 0.26644984f0\n",
      "loss_all(train_data, m) = 0.26627013f0\n",
      "loss_all(train_data, m) = 0.26611403f0\n",
      "loss_all(train_data, m) = 0.266006f0\n",
      "loss_all(train_data, m) = 0.26594642f0\n",
      "loss_all(train_data, m) = 0.26590997f0\n",
      "loss_all(train_data, m) = 0.2658799f0\n",
      "loss_all(train_data, m) = 0.26582292f0\n",
      "loss_all(train_data, m) = 0.265753f0\n",
      "loss_all(train_data, m) = 0.26564837f0\n",
      "loss_all(train_data, m) = 0.2655603f0\n",
      "loss_all(train_data, m) = 0.265401f0\n",
      "loss_all(train_data, m) = 0.26521754f0\n",
      "loss_all(train_data, m) = 0.26501238f0\n",
      "loss_all(train_data, m) = 0.26486263f0\n",
      "loss_all(train_data, m) = 0.2647602f0\n"
     ]
    },
    {
     "name": "stderr",
     "output_type": "stream",
     "text": [
      "┌ Info: Epoch 8\n",
      "└ @ Main /home/kit/scc/yy3406/.julia/packages/Flux/Fj3bt/src/optimise/train.jl:121\n"
     ]
    },
    {
     "name": "stdout",
     "output_type": "stream",
     "text": [
      "loss_all(train_data, m) = 0.26467714f0\n",
      "loss_all(train_data, m) = 0.2645845f0\n",
      "loss_all(train_data, m) = 0.26449385f0\n",
      "loss_all(train_data, m) = 0.26441872f0\n",
      "loss_all(train_data, m) = 0.26434657f0\n",
      "loss_all(train_data, m) = 0.26425812f0\n",
      "loss_all(train_data, m) = 0.26416716f0\n",
      "loss_all(train_data, m) = 0.2640564f0\n",
      "loss_all(train_data, m) = 0.26393604f0\n",
      "loss_all(train_data, m) = 0.26382244f0\n",
      "loss_all(train_data, m) = 0.26371452f0\n",
      "loss_all(train_data, m) = 0.26363558f0\n",
      "loss_all(train_data, m) = 0.26356968f0\n",
      "loss_all(train_data, m) = 0.2634819f0\n",
      "loss_all(train_data, m) = 0.2633744f0\n",
      "loss_all(train_data, m) = 0.26326185f0\n",
      "loss_all(train_data, m) = 0.26312894f0\n",
      "loss_all(train_data, m) = 0.26299366f0\n",
      "loss_all(train_data, m) = 0.26285863f0\n",
      "loss_all(train_data, m) = 0.26275012f0\n",
      "loss_all(train_data, m) = 0.2626394f0\n",
      "loss_all(train_data, m) = 0.26257092f0\n",
      "loss_all(train_data, m) = 0.2625065f0\n",
      "loss_all(train_data, m) = 0.26242608f0\n",
      "loss_all(train_data, m) = 0.2623549f0\n",
      "loss_all(train_data, m) = 0.26226503f0\n",
      "loss_all(train_data, m) = 0.26213077f0\n",
      "loss_all(train_data, m) = 0.2620035f0\n",
      "loss_all(train_data, m) = 0.26188058f0\n",
      "loss_all(train_data, m) = 0.26176834f0\n",
      "loss_all(train_data, m) = 0.2616397f0\n",
      "loss_all(train_data, m) = 0.2615107f0\n",
      "loss_all(train_data, m) = 0.26141316f0\n",
      "loss_all(train_data, m) = 0.26133788f0\n",
      "loss_all(train_data, m) = 0.26126078f0\n",
      "loss_all(train_data, m) = 0.26117814f0\n",
      "loss_all(train_data, m) = 0.2611341f0\n",
      "loss_all(train_data, m) = 0.2610785f0\n",
      "loss_all(train_data, m) = 0.26101837f0\n",
      "loss_all(train_data, m) = 0.26097912f0\n",
      "loss_all(train_data, m) = 0.26092324f0\n",
      "loss_all(train_data, m) = 0.2607881f0\n",
      "loss_all(train_data, m) = 0.26065147f0\n",
      "loss_all(train_data, m) = 0.2604991f0\n",
      "loss_all(train_data, m) = 0.26032138f0\n",
      "loss_all(train_data, m) = 0.26016784f0\n",
      "loss_all(train_data, m) = 0.26006347f0\n",
      "loss_all(train_data, m) = 0.26000726f0\n",
      "loss_all(train_data, m) = 0.2599744f0\n",
      "loss_all(train_data, m) = 0.2599491f0\n",
      "loss_all(train_data, m) = 0.25989893f0\n",
      "loss_all(train_data, m) = 0.25983757f0\n",
      "loss_all(train_data, m) = 0.2597405f0\n",
      "loss_all(train_data, m) = 0.2596579f0\n",
      "loss_all(train_data, m) = 0.25950626f0\n",
      "loss_all(train_data, m) = 0.25932974f0\n",
      "loss_all(train_data, m) = "
     ]
    },
    {
     "name": "stderr",
     "output_type": "stream",
     "text": [
      "┌ Info: Epoch 9\n",
      "└ @ Main /home/kit/scc/yy3406/.julia/packages/Flux/Fj3bt/src/optimise/train.jl:121\n"
     ]
    },
    {
     "name": "stdout",
     "output_type": "stream",
     "text": [
      "0.25913054f0\n",
      "loss_all(train_data, m) = 0.25898522f0\n",
      "loss_all(train_data, m) = 0.2588872f0\n",
      "loss_all(train_data, m) = 0.2588094f0\n",
      "loss_all(train_data, m) = 0.25872284f0\n",
      "loss_all(train_data, m) = 0.2586389f0\n",
      "loss_all(train_data, m) = 0.2585711f0\n",
      "loss_all(train_data, m) = 0.2585074f0\n",
      "loss_all(train_data, m) = 0.2584269f0\n",
      "loss_all(train_data, m) = 0.25834343f0\n",
      "loss_all(train_data, m) = 0.25824094f0\n",
      "loss_all(train_data, m) = 0.25812757f0\n",
      "loss_all(train_data, m) = 0.25801992f0\n",
      "loss_all(train_data, m) = 0.25791842f0\n",
      "loss_all(train_data, m) = 0.25784728f0\n",
      "loss_all(train_data, m) = 0.25778827f0\n",
      "loss_all(train_data, m) = 0.2577075f0\n",
      "loss_all(train_data, m) = 0.25760725f0\n",
      "loss_all(train_data, m) = 0.25750124f0\n",
      "loss_all(train_data, m) = 0.25737533f0\n",
      "loss_all(train_data, m) = 0.25724575f0\n",
      "loss_all(train_data, m) = 0.25711584f0\n",
      "loss_all(train_data, m) = 0.2570121f0\n",
      "loss_all(train_data, m) = 0.25690636f0\n",
      "loss_all(train_data, m) = 0.25684226f0\n",
      "loss_all(train_data, m) = 0.25678033f0\n",
      "loss_all(train_data, m) = 0.25670275f0\n",
      "loss_all(train_data, m) = 0.25663462f0\n",
      "loss_all(train_data, m) = 0.25655025f0\n",
      "loss_all(train_data, m) = 0.25642347f0\n",
      "loss_all(train_data, m) = 0.25630414f0\n",
      "loss_all(train_data, m) = 0.25618792f0\n",
      "loss_all(train_data, m) = 0.25608313f0\n",
      "loss_all(train_data, m) = 0.2559613f0\n",
      "loss_all(train_data, m) = 0.25583833f0\n",
      "loss_all(train_data, m) = 0.2557468f0\n",
      "loss_all(train_data, m) = 0.2556786f0\n",
      "loss_all(train_data, m) = 0.2556102f0\n",
      "loss_all(train_data, m) = 0.25553674f0\n",
      "loss_all(train_data, m) = 0.25550053f0\n",
      "loss_all(train_data, m) = 0.2554529f0\n",
      "loss_all(train_data, m) = 0.25539878f0\n",
      "loss_all(train_data, m) = 0.25536445f0\n",
      "loss_all(train_data, m) = 0.25531337f0\n",
      "loss_all(train_data, m) = 0.25518158f0\n",
      "loss_all(train_data, m) = 0.25504693f0\n",
      "loss_all(train_data, m) = 0.2548955f0\n",
      "loss_all(train_data, m) = 0.25472236f0\n",
      "loss_all(train_data, m) = 0.25457737f0\n",
      "loss_all(train_data, m) = 0.25448334f0\n",
      "loss_all(train_data, m) = 0.25443804f0\n",
      "loss_all(train_data, m) = 0.25441355f0\n",
      "loss_all(train_data, m) = 0.25439483f0\n",
      "loss_all(train_data, m) = 0.2543511f0\n",
      "loss_all(train_data, m) = 0.25429416f0\n",
      "loss_all(train_data, m) = 0.25420165f0\n",
      "loss_all(train_data, m) = 0.25412548f0\n",
      "loss_all(train_data, m) = 0.25398245f0\n"
     ]
    },
    {
     "name": "stderr",
     "output_type": "stream",
     "text": [
      "┌ Info: Epoch 10\n",
      "└ @ Main /home/kit/scc/yy3406/.julia/packages/Flux/Fj3bt/src/optimise/train.jl:121\n"
     ]
    },
    {
     "name": "stdout",
     "output_type": "stream",
     "text": [
      "loss_all(train_data, m) = 0.25381568f0\n",
      "loss_all(train_data, m) = 0.2536263f0\n",
      "loss_all(train_data, m) = 0.25348666f0\n",
      "loss_all(train_data, m) = 0.2533941f0\n",
      "loss_all(train_data, m) = 0.2533196f0\n",
      "loss_all(train_data, m) = 0.25323653f0\n",
      "loss_all(train_data, m) = 0.25315607f0\n",
      "loss_all(train_data, m) = 0.25309274f0\n",
      "loss_all(train_data, m) = 0.25303492f0\n",
      "loss_all(train_data, m) = 0.25295958f0\n",
      "loss_all(train_data, m) = 0.25288126f0\n",
      "loss_all(train_data, m) = 0.25278643f0\n",
      "loss_all(train_data, m) = 0.25268146f0\n",
      "loss_all(train_data, m) = 0.25258273f0\n",
      "loss_all(train_data, m) = 0.2524908f0\n",
      "loss_all(train_data, m) = 0.25242963f0\n",
      "loss_all(train_data, m) = 0.25237763f0\n",
      "loss_all(train_data, m) = 0.2523032f0\n",
      "loss_all(train_data, m) = 0.2522109f0\n",
      "loss_all(train_data, m) = 0.25211185f0\n",
      "loss_all(train_data, m) = 0.25199163f0\n",
      "loss_all(train_data, m) = 0.25186566f0\n",
      "loss_all(train_data, m) = 0.2517384f0\n",
      "loss_all(train_data, m) = 0.2516378f0\n",
      "loss_all(train_data, m) = 0.25153473f0\n",
      "loss_all(train_data, m) = 0.25147206f0\n",
      "loss_all(train_data, m) = 0.25141007f0\n",
      "loss_all(train_data, m) = 0.2513351f0\n",
      "loss_all(train_data, m) = 0.25127035f0\n",
      "loss_all(train_data, m) = 0.25119126f0\n",
      "loss_all(train_data, m) = 0.25107363f0\n",
      "loss_all(train_data, m) = 0.25096413f0\n",
      "loss_all(train_data, m) = 0.25085813f0\n",
      "loss_all(train_data, m) = 0.2507629f0\n",
      "loss_all(train_data, m) = 0.2506508f0\n",
      "loss_all(train_data, m) = 0.250537f0\n",
      "loss_all(train_data, m) = 0.2504548f0\n",
      "loss_all(train_data, m) = 0.25039497f0\n",
      "loss_all(train_data, m) = 0.25033325f0\n",
      "loss_all(train_data, m) = 0.2502663f0\n",
      "loss_all(train_data, m) = 0.25023493f0\n",
      "loss_all(train_data, m) = 0.25019166f0\n",
      "loss_all(train_data, m) = 0.2501418f0\n",
      "loss_all(train_data, m) = 0.25011247f0\n",
      "loss_all(train_data, m) = 0.25006664f0\n",
      "loss_all(train_data, m) = 0.24993946f0\n",
      "loss_all(train_data, m) = 0.249807f0\n",
      "loss_all(train_data, m) = 0.24965627f0\n",
      "loss_all(train_data, m) = 0.24948817f0\n",
      "loss_all(train_data, m) = 0.24935009f0\n",
      "loss_all(train_data, m) = 0.24926248f0\n",
      "loss_all(train_data, m) = 0.24922359f0\n",
      "loss_all(train_data, m) = 0.24920408f0\n",
      "loss_all(train_data, m) = 0.2491896f0\n",
      "loss_all(train_data, m) = 0.2491523f0\n",
      "loss_all(train_data, m) = 0.24910206f0\n",
      "loss_all(train_data, m) = 0.24901694f0\n",
      "loss_all(train_data, m) = 0.24894957f0\n",
      "loss_all(train_data, m) = 0.24881583f0\n"
     ]
    }
   ],
   "source": [
    "@epochs args.epochs Flux.train!(loss, params(m), train_data, opt, cb = evalcb)"
   ]
  },
  {
   "cell_type": "code",
   "execution_count": 13,
   "metadata": {},
   "outputs": [
    {
     "name": "stdout",
     "output_type": "stream",
     "text": [
      "accuracy(train_data, m) = 0.9108078724353257\n",
      "accuracy(test_data, m) = 0.9108078724353257\n"
     ]
    },
    {
     "data": {
      "text/plain": [
       "0.9108078724353257"
      ]
     },
     "execution_count": 13,
     "metadata": {},
     "output_type": "execute_result"
    }
   ],
   "source": [
    "@show accuracy(train_data, m)\n",
    "@show accuracy(test_data, m)"
   ]
  },
  {
   "cell_type": "code",
   "execution_count": 14,
   "metadata": {},
   "outputs": [
    {
     "data": {
      "text/plain": [
       "Chain(Dense(784, 32, relu), Dense(32, 10))"
      ]
     },
     "execution_count": 14,
     "metadata": {},
     "output_type": "execute_result"
    }
   ],
   "source": [
    "m"
   ]
  },
  {
   "cell_type": "code",
   "execution_count": null,
   "metadata": {},
   "outputs": [],
   "source": []
  }
 ],
 "metadata": {
  "kernelspec": {
   "display_name": "Julia 1.4.1",
   "language": "julia",
   "name": "julia-1.4"
  },
  "language_info": {
   "file_extension": ".jl",
   "mimetype": "application/julia",
   "name": "julia",
   "version": "1.4.1"
  }
 },
 "nbformat": 4,
 "nbformat_minor": 4
}
