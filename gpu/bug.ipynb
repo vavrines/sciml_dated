{
 "cells": [
  {
   "cell_type": "code",
   "execution_count": 1,
   "metadata": {
    "scrolled": true
   },
   "outputs": [
    {
     "name": "stderr",
     "output_type": "stream",
     "text": [
      "┌ Warning: `haskey(::TargetIterator, name::String)` is deprecated, use `Target(; name = name) !== nothing` instead.\n",
      "│   caller = llvm_compat(::VersionNumber) at compatibility.jl:176\n",
      "└ @ CUDAnative /home/kit/scc/yy3406/.julia/packages/CUDAnative/ierw8/src/compatibility.jl:176\n"
     ]
    }
   ],
   "source": [
    "using Revise, DifferentialEquations, Flux, DiffEqFlux, Optim"
   ]
  },
  {
   "cell_type": "code",
   "execution_count": 17,
   "metadata": {},
   "outputs": [
    {
     "data": {
      "text/plain": [
       "3×4×2 Array{Float64,3}:\n",
       "[:, :, 1] =\n",
       " -0.672737    1.72413    1.70386     0.535842\n",
       "  0.0906468  -2.43602   -0.0585021   0.0236931\n",
       "  0.579035   -0.263387  -1.00021    -0.0161453\n",
       "\n",
       "[:, :, 2] =\n",
       "  0.908671   1.26915  -1.52607   -0.000967261\n",
       " -0.221389   2.14204   0.265148   0.782582\n",
       " -0.937307  -1.23725  -1.04968   -2.11574"
      ]
     },
     "execution_count": 17,
     "metadata": {},
     "output_type": "execute_result"
    }
   ],
   "source": [
    "tspan = (0., 1.)\n",
    "tstop = [0., 1.]\n",
    "\n",
    "X = randn(3, 4)\n",
    "Y = randn(3, 4, 2)"
   ]
  },
  {
   "cell_type": "code",
   "execution_count": 27,
   "metadata": {},
   "outputs": [
    {
     "data": {
      "text/plain": [
       "75.98169434587331"
      ]
     },
     "metadata": {},
     "output_type": "display_data"
    },
    {
     "name": "stderr",
     "output_type": "stream",
     "text": [
      "\u001b[32mloss: 76:  34%|██████████████                           |  ETA: 0:00:02\u001b[39m"
     ]
    },
    {
     "data": {
      "text/plain": [
       "75.98169434587331"
      ]
     },
     "metadata": {},
     "output_type": "display_data"
    },
    {
     "name": "stderr",
     "output_type": "stream",
     "text": [
      "\u001b[32mloss: 76:  72%|█████████████████████████████▍           |  ETA: 0:00:01\u001b[39m"
     ]
    },
    {
     "data": {
      "text/plain": [
       "75.98169434587331"
      ]
     },
     "metadata": {},
     "output_type": "display_data"
    },
    {
     "name": "stderr",
     "output_type": "stream",
     "text": [
      "\u001b[32mloss: 76: 100%|█████████████████████████████████████████| Time: 0:00:02\u001b[39m\n"
     ]
    },
    {
     "data": {
      "text/plain": [
       " * Status: success\n",
       "\n",
       " * Candidate solution\n",
       "    Minimizer: [-7.43e-01, 7.04e-01, 7.78e-01,  ...]\n",
       "    Minimum:   7.598169e+01\n",
       "\n",
       " * Found with\n",
       "    Algorithm:     ADAM\n",
       "    Initial Point: [-7.43e-01, 7.04e-01, 7.78e-01,  ...]\n",
       "\n",
       " * Convergence measures\n",
       "    |x - x'|               = NaN ≰ 0.0e+00\n",
       "    |x - x'|/|x'|          = NaN ≰ 0.0e+00\n",
       "    |f(x) - f(x')|         = NaN ≰ 0.0e+00\n",
       "    |f(x) - f(x')|/|f(x')| = NaN ≰ 0.0e+00\n",
       "    |g(x)|                 = NaN ≰ 0.0e+00\n",
       "\n",
       " * Work counters\n",
       "    Seconds run:   6  (vs limit Inf)\n",
       "    Iterations:    200\n",
       "    f(x) calls:    200\n",
       "    ∇f(x) calls:   200\n"
      ]
     },
     "execution_count": 27,
     "metadata": {},
     "output_type": "execute_result"
    }
   ],
   "source": [
    "ann = FastChain(\n",
    "    (x, p) -> x.^2,\n",
    "    FastDense(3, 6, tanh),\n",
    "    FastDense(6, 3),\n",
    ")\n",
    "p_model = initial_params(ann)\n",
    "\n",
    "dfdt(f, p, t) = ann(f, p)\n",
    "prob_ube = ODEProblem(dfdt, X, tspan, p_model)\n",
    "\n",
    "function loss(p)\n",
    "    sol_ube = solve(prob_ube, Midpoint(), u0 = X, p = p_model, saveat=tstop)\n",
    "    loss = sum(abs2, Array(sol_ube) .- Y)\n",
    "    return loss\n",
    "end\n",
    "\n",
    "cb = function (p, l)\n",
    "    display(l)\n",
    "    return false\n",
    "end\n",
    "\n",
    "res = DiffEqFlux.sciml_train(loss, p_model, ADAM(), cb = Flux.throttle(cb, 1), maxiters = 200)"
   ]
  },
  {
   "cell_type": "code",
   "execution_count": 28,
   "metadata": {},
   "outputs": [
    {
     "ename": "DimensionMismatch",
     "evalue": "DimensionMismatch(\"arrays could not be broadcast to a common size; got a dimension with lengths 3 and 12\")",
     "output_type": "error",
     "traceback": [
      "DimensionMismatch(\"arrays could not be broadcast to a common size; got a dimension with lengths 3 and 12\")",
      "",
      "Stacktrace:",
      " [1] _bcs1 at ./broadcast.jl:490 [inlined]",
      " [2] _bcs at ./broadcast.jl:484 [inlined]",
      " [3] broadcast_shape at ./broadcast.jl:478 [inlined]",
      " [4] combine_axes at /home/kit/scc/yy3406/.julia/packages/DiffEqBase/JNliX/src/diffeqfastbc.jl:23 [inlined]",
      " [5] instantiate at ./broadcast.jl:256 [inlined]",
      " [6] materialize at ./broadcast.jl:820 [inlined]",
      " [7] _vecjacobian!(::SubArray{Float32,1,Array{Float32,1},Tuple{UnitRange{Int64}},true}, ::Array{Float64,2}, ::SubArray{Float32,1,Array{Float32,1},Tuple{UnitRange{Int64}},true}, ::Array{Float32,1}, ::Float64, ::DiffEqSensitivity.ODEInterpolatingAdjointSensitivityFunction{DiffEqSensitivity.AdjointDiffCache{Nothing,Nothing,Nothing,Nothing,Nothing,Nothing,Nothing,Nothing,ReverseDiff.GradientTape{DiffEqSensitivity.var\"#77#86\"{ODEFunction{true,typeof(dfdt!),LinearAlgebra.UniformScaling{Bool},Nothing,Nothing,Nothing,Nothing,Nothing,Nothing,Nothing,Nothing,Nothing,Nothing,Nothing,Nothing}},Tuple{ReverseDiff.TrackedArray{Float64,Float64,2,Array{Float64,2},Array{Float64,2}},ReverseDiff.TrackedArray{Float32,Float64,1,Array{Float32,1},Array{Float64,1}},ReverseDiff.TrackedArray{Float64,Float64,1,Array{Float64,1},Array{Float64,1}}},Array{ReverseDiff.TrackedReal{Float32,Float64,ReverseDiff.TrackedArray{Float32,Float64,1,Array{Float32,1},Array{Float64,1}}},1}},Nothing,Nothing,Array{Float64,2},Nothing,Base.OneTo{Int64},UnitRange{Int64},LinearAlgebra.UniformScaling{Bool}},DiffEqSensitivity.InterpolatingAdjoint{0,true,Val{:central},Bool},Array{Float64,2},ODESolution{Float64,3,Array{Array{Float64,2},1},Nothing,Nothing,Array{Float64,1},Array{Array{Array{Float64,2},1},1},ODEProblem{Array{Float64,2},Tuple{Float64,Float64},true,Array{Float32,1},ODEFunction{true,typeof(dfdt!),LinearAlgebra.UniformScaling{Bool},Nothing,Nothing,Nothing,Nothing,Nothing,Nothing,Nothing,Nothing,Nothing,Nothing,Nothing,Nothing},Base.Iterators.Pairs{Union{},Union{},Tuple{},NamedTuple{(),Tuple{}}},DiffEqBase.StandardODEProblem},Midpoint,OrdinaryDiffEq.InterpolationData{ODEFunction{true,typeof(dfdt!),LinearAlgebra.UniformScaling{Bool},Nothing,Nothing,Nothing,Nothing,Nothing,Nothing,Nothing,Nothing,Nothing,Nothing,Nothing,Nothing},Array{Array{Float64,2},1},Array{Float64,1},Array{Array{Array{Float64,2},1},1},OrdinaryDiffEq.MidpointCache{Array{Float64,2},Array{Float64,2},Array{Float64,2}}},DiffEqBase.DEStats},Nothing,ODEFunction{true,typeof(dfdt!),LinearAlgebra.UniformScaling{Bool},Nothing,Nothing,Nothing,Nothing,Nothing,Nothing,Nothing,Nothing,Nothing,Nothing,Nothing,Nothing}}, ::DiffEqSensitivity.ReverseDiffVJP{false}, ::SubArray{Float32,1,Array{Float32,1},Tuple{UnitRange{Int64}},true}, ::Nothing) at /home/kit/scc/yy3406/.julia/packages/DiffEqSensitivity/XQ1vJ/src/local_sensitivity/derivative_wrappers.jl:228",
      " [8] _vecjacobian! at /home/kit/scc/yy3406/.julia/packages/DiffEqSensitivity/XQ1vJ/src/local_sensitivity/derivative_wrappers.jl:185 [inlined]",
      " [9] #vecjacobian!#20 at /home/kit/scc/yy3406/.julia/packages/DiffEqSensitivity/XQ1vJ/src/local_sensitivity/derivative_wrappers.jl:147 [inlined]",
      " [10] (::DiffEqSensitivity.ODEInterpolatingAdjointSensitivityFunction{DiffEqSensitivity.AdjointDiffCache{Nothing,Nothing,Nothing,Nothing,Nothing,Nothing,Nothing,Nothing,ReverseDiff.GradientTape{DiffEqSensitivity.var\"#77#86\"{ODEFunction{true,typeof(dfdt!),LinearAlgebra.UniformScaling{Bool},Nothing,Nothing,Nothing,Nothing,Nothing,Nothing,Nothing,Nothing,Nothing,Nothing,Nothing,Nothing}},Tuple{ReverseDiff.TrackedArray{Float64,Float64,2,Array{Float64,2},Array{Float64,2}},ReverseDiff.TrackedArray{Float32,Float64,1,Array{Float32,1},Array{Float64,1}},ReverseDiff.TrackedArray{Float64,Float64,1,Array{Float64,1},Array{Float64,1}}},Array{ReverseDiff.TrackedReal{Float32,Float64,ReverseDiff.TrackedArray{Float32,Float64,1,Array{Float32,1},Array{Float64,1}}},1}},Nothing,Nothing,Array{Float64,2},Nothing,Base.OneTo{Int64},UnitRange{Int64},LinearAlgebra.UniformScaling{Bool}},DiffEqSensitivity.InterpolatingAdjoint{0,true,Val{:central},Bool},Array{Float64,2},ODESolution{Float64,3,Array{Array{Float64,2},1},Nothing,Nothing,Array{Float64,1},Array{Array{Array{Float64,2},1},1},ODEProblem{Array{Float64,2},Tuple{Float64,Float64},true,Array{Float32,1},ODEFunction{true,typeof(dfdt!),LinearAlgebra.UniformScaling{Bool},Nothing,Nothing,Nothing,Nothing,Nothing,Nothing,Nothing,Nothing,Nothing,Nothing,Nothing,Nothing},Base.Iterators.Pairs{Union{},Union{},Tuple{},NamedTuple{(),Tuple{}}},DiffEqBase.StandardODEProblem},Midpoint,OrdinaryDiffEq.InterpolationData{ODEFunction{true,typeof(dfdt!),LinearAlgebra.UniformScaling{Bool},Nothing,Nothing,Nothing,Nothing,Nothing,Nothing,Nothing,Nothing,Nothing,Nothing,Nothing,Nothing},Array{Array{Float64,2},1},Array{Float64,1},Array{Array{Array{Float64,2},1},1},OrdinaryDiffEq.MidpointCache{Array{Float64,2},Array{Float64,2},Array{Float64,2}}},DiffEqBase.DEStats},Nothing,ODEFunction{true,typeof(dfdt!),LinearAlgebra.UniformScaling{Bool},Nothing,Nothing,Nothing,Nothing,Nothing,Nothing,Nothing,Nothing,Nothing,Nothing,Nothing,Nothing}})(::Array{Float32,1}, ::Array{Float32,1}, ::Array{Float32,1}, ::Float64) at /home/kit/scc/yy3406/.julia/packages/DiffEqSensitivity/XQ1vJ/src/local_sensitivity/interpolating_adjoint.jl:87",
      " [11] ODEFunction at /home/kit/scc/yy3406/.julia/packages/DiffEqBase/JNliX/src/diffeqfunction.jl:248 [inlined]",
      " [12] initialize!(::OrdinaryDiffEq.ODEIntegrator{Midpoint,true,Array{Float32,1},Nothing,Float64,Array{Float32,1},Float64,Float64,Float64,Array{Array{Float32,1},1},ODESolution{Float32,2,Array{Array{Float32,1},1},Nothing,Nothing,Array{Float64,1},Array{Array{Array{Float32,1},1},1},ODEProblem{Array{Float32,1},Tuple{Float64,Float64},true,Array{Float32,1},ODEFunction{true,DiffEqSensitivity.ODEInterpolatingAdjointSensitivityFunction{DiffEqSensitivity.AdjointDiffCache{Nothing,Nothing,Nothing,Nothing,Nothing,Nothing,Nothing,Nothing,ReverseDiff.GradientTape{DiffEqSensitivity.var\"#77#86\"{ODEFunction{true,typeof(dfdt!),LinearAlgebra.UniformScaling{Bool},Nothing,Nothing,Nothing,Nothing,Nothing,Nothing,Nothing,Nothing,Nothing,Nothing,Nothing,Nothing}},Tuple{ReverseDiff.TrackedArray{Float64,Float64,2,Array{Float64,2},Array{Float64,2}},ReverseDiff.TrackedArray{Float32,Float64,1,Array{Float32,1},Array{Float64,1}},ReverseDiff.TrackedArray{Float64,Float64,1,Array{Float64,1},Array{Float64,1}}},Array{ReverseDiff.TrackedReal{Float32,Float64,ReverseDiff.TrackedArray{Float32,Float64,1,Array{Float32,1},Array{Float64,1}}},1}},Nothing,Nothing,Array{Float64,2},Nothing,Base.OneTo{Int64},UnitRange{Int64},LinearAlgebra.UniformScaling{Bool}},DiffEqSensitivity.InterpolatingAdjoint{0,true,Val{:central},Bool},Array{Float64,2},ODESolution{Float64,3,Array{Array{Float64,2},1},Nothing,Nothing,Array{Float64,1},Array{Array{Array{Float64,2},1},1},ODEProblem{Array{Float64,2},Tuple{Float64,Float64},true,Array{Float32,1},ODEFunction{true,typeof(dfdt!),LinearAlgebra.UniformScaling{Bool},Nothing,Nothing,Nothing,Nothing,Nothing,Nothing,Nothing,Nothing,Nothing,Nothing,Nothing,Nothing},Base.Iterators.Pairs{Union{},Union{},Tuple{},NamedTuple{(),Tuple{}}},DiffEqBase.StandardODEProblem},Midpoint,OrdinaryDiffEq.InterpolationData{ODEFunction{true,typeof(dfdt!),LinearAlgebra.UniformScaling{Bool},Nothing,Nothing,Nothing,Nothing,Nothing,Nothing,Nothing,Nothing,Nothing,Nothing,Nothing,Nothing},Array{Array{Float64,2},1},Array{Float64,1},Array{Array{Array{Float64,2},1},1},OrdinaryDiffEq.MidpointCache{Array{Float64,2},Array{Float64,2},Array{Float64,2}}},DiffEqBase.DEStats},Nothing,ODEFunction{true,typeof(dfdt!),LinearAlgebra.UniformScaling{Bool},Nothing,Nothing,Nothing,Nothing,Nothing,Nothing,Nothing,Nothing,Nothing,Nothing,Nothing,Nothing}},LinearAlgebra.UniformScaling{Bool},Nothing,Nothing,Nothing,Nothing,Nothing,Nothing,Nothing,Nothing,Nothing,Nothing,Nothing,Nothing},Base.Iterators.Pairs{Symbol,CallbackSet{Tuple{},Tuple{DiscreteCallback{DiffEqCallbacks.var\"#33#36\"{Base.RefValue{Union{Nothing, Float64}}},DiffEqCallbacks.var\"#34#37\"{DiffEqSensitivity.var\"#94#96\"{Base.RefValue{Int64},Array{Float64,1}},DiffEqSensitivity.var\"#95#97\"{DiffEqSensitivity.var\"#df#132\"{Array{Float64,3},Array{Float64,2},Colon},DiffEqSensitivity.InterpolatingAdjoint{0,true,Val{:central},Bool},Base.OneTo{Int64},UnitRange{Int64},LinearAlgebra.UniformScaling{Bool},Bool,Nothing,Nothing,Array{Float64,2},Nothing,Bool,Array{Float32,1},Array{Float64,1},Array{Float64,2},Base.RefValue{Int64},Int64,LinearAlgebra.UniformScaling{Bool}},Base.RefValue{Union{Nothing, Float64}}},DiffEqCallbacks.var\"#35#38\"{typeof(DiffEqBase.INITIALIZE_DEFAULT),Bool,DiffEqSensitivity.var\"#94#96\"{Base.RefValue{Int64},Array{Float64,1}},Base.RefValue{Union{Nothing, Float64}},DiffEqCallbacks.var\"#34#37\"{DiffEqSensitivity.var\"#94#96\"{Base.RefValue{Int64},Array{Float64,1}},DiffEqSensitivity.var\"#95#97\"{DiffEqSensitivity.var\"#df#132\"{Array{Float64,3},Array{Float64,2},Colon},DiffEqSensitivity.InterpolatingAdjoint{0,true,Val{:central},Bool},Base.OneTo{Int64},UnitRange{Int64},LinearAlgebra.UniformScaling{Bool},Bool,Nothing,Nothing,Array{Float64,2},Nothing,Bool,Array{Float32,1},Array{Float64,1},Array{Float64,2},Base.RefValue{Int64},Int64,LinearAlgebra.UniformScaling{Bool}},Base.RefValue{Union{Nothing, Float64}}}}}}},Tuple{Symbol},NamedTuple{(:callback,),Tuple{CallbackSet{Tuple{},Tuple{DiscreteCallback{DiffEqCallbacks.var\"#33#36\"{Base.RefValue{Union{Nothing, Float64}}},DiffEqCallbacks.var\"#34#37\"{DiffEqSensitivity.var\"#94#96\"{Base.RefValue{Int64},Array{Float64,1}},DiffEqSensitivity.var\"#95#97\"{DiffEqSensitivity.var\"#df#132\"{Array{Float64,3},Array{Float64,2},Colon},DiffEqSensitivity.InterpolatingAdjoint{0,true,Val{:central},Bool},Base.OneTo{Int64},UnitRange{Int64},LinearAlgebra.UniformScaling{Bool},Bool,Nothing,Nothing,Array{Float64,2},Nothing,Bool,Array{Float32,1},Array{Float64,1},Array{Float64,2},Base.RefValue{Int64},Int64,LinearAlgebra.UniformScaling{Bool}},Base.RefValue{Union{Nothing, Float64}}},DiffEqCallbacks.var\"#35#38\"{typeof(DiffEqBase.INITIALIZE_DEFAULT),Bool,DiffEqSensitivity.var\"#94#96\"{Base.RefValue{Int64},Array{Float64,1}},Base.RefValue{Union{Nothing, Float64}},DiffEqCallbacks.var\"#34#37\"{DiffEqSensitivity.var\"#94#96\"{Base.RefValue{Int64},Array{Float64,1}},DiffEqSensitivity.var\"#95#97\"{DiffEqSensitivity.var\"#df#132\"{Array{Float64,3},Array{Float64,2},Colon},DiffEqSensitivity.InterpolatingAdjoint{0,true,Val{:central},Bool},Base.OneTo{Int64},UnitRange{Int64},LinearAlgebra.UniformScaling{Bool},Bool,Nothing,Nothing,Array{Float64,2},Nothing,Bool,Array{Float32,1},Array{Float64,1},Array{Float64,2},Base.RefValue{Int64},Int64,LinearAlgebra.UniformScaling{Bool}},Base.RefValue{Union{Nothing, Float64}}}}}}}}}},DiffEqBase.StandardODEProblem},Midpoint,OrdinaryDiffEq.InterpolationData{ODEFunction{true,DiffEqSensitivity.ODEInterpolatingAdjointSensitivityFunction{DiffEqSensitivity.AdjointDiffCache{Nothing,Nothing,Nothing,Nothing,Nothing,Nothing,Nothing,Nothing,ReverseDiff.GradientTape{DiffEqSensitivity.var\"#77#86\"{ODEFunction{true,typeof(dfdt!),LinearAlgebra.UniformScaling{Bool},Nothing,Nothing,Nothing,Nothing,Nothing,Nothing,Nothing,Nothing,Nothing,Nothing,Nothing,Nothing}},Tuple{ReverseDiff.TrackedArray{Float64,Float64,2,Array{Float64,2},Array{Float64,2}},ReverseDiff.TrackedArray{Float32,Float64,1,Array{Float32,1},Array{Float64,1}},ReverseDiff.TrackedArray{Float64,Float64,1,Array{Float64,1},Array{Float64,1}}},Array{ReverseDiff.TrackedReal{Float32,Float64,ReverseDiff.TrackedArray{Float32,Float64,1,Array{Float32,1},Array{Float64,1}}},1}},Nothing,Nothing,Array{Float64,2},Nothing,Base.OneTo{Int64},UnitRange{Int64},LinearAlgebra.UniformScaling{Bool}},DiffEqSensitivity.InterpolatingAdjoint{0,true,Val{:central},Bool},Array{Float64,2},ODESolution{Float64,3,Array{Array{Float64,2},1},Nothing,Nothing,Array{Float64,1},Array{Array{Array{Float64,2},1},1},ODEProblem{Array{Float64,2},Tuple{Float64,Float64},true,Array{Float32,1},ODEFunction{true,typeof(dfdt!),LinearAlgebra.UniformScaling{Bool},Nothing,Nothing,Nothing,Nothing,Nothing,Nothing,Nothing,Nothing,Nothing,Nothing,Nothing,Nothing},Base.Iterators.Pairs{Union{},Union{},Tuple{},NamedTuple{(),Tuple{}}},DiffEqBase.StandardODEProblem},Midpoint,OrdinaryDiffEq.InterpolationData{ODEFunction{true,typeof(dfdt!),LinearAlgebra.UniformScaling{Bool},Nothing,Nothing,Nothing,Nothing,Nothing,Nothing,Nothing,Nothing,Nothing,Nothing,Nothing,Nothing},Array{Array{Float64,2},1},Array{Float64,1},Array{Array{Array{Float64,2},1},1},OrdinaryDiffEq.MidpointCache{Array{Float64,2},Array{Float64,2},Array{Float64,2}}},DiffEqBase.DEStats},Nothing,ODEFunction{true,typeof(dfdt!),LinearAlgebra.UniformScaling{Bool},Nothing,Nothing,Nothing,Nothing,Nothing,Nothing,Nothing,Nothing,Nothing,Nothing,Nothing,Nothing}},LinearAlgebra.UniformScaling{Bool},Nothing,Nothing,Nothing,Nothing,Nothing,Nothing,Nothing,Nothing,Nothing,Nothing,Nothing,Nothing},Array{Array{Float32,1},1},Array{Float64,1},Array{Array{Array{Float32,1},1},1},OrdinaryDiffEq.MidpointCache{Array{Float32,1},Array{Float32,1},Array{Float32,1}}},DiffEqBase.DEStats},ODEFunction{true,DiffEqSensitivity.ODEInterpolatingAdjointSensitivityFunction{DiffEqSensitivity.AdjointDiffCache{Nothing,Nothing,Nothing,Nothing,Nothing,Nothing,Nothing,Nothing,ReverseDiff.GradientTape{DiffEqSensitivity.var\"#77#86\"{ODEFunction{true,typeof(dfdt!),LinearAlgebra.UniformScaling{Bool},Nothing,Nothing,Nothing,Nothing,Nothing,Nothing,Nothing,Nothing,Nothing,Nothing,Nothing,Nothing}},Tuple{ReverseDiff.TrackedArray{Float64,Float64,2,Array{Float64,2},Array{Float64,2}},ReverseDiff.TrackedArray{Float32,Float64,1,Array{Float32,1},Array{Float64,1}},ReverseDiff.TrackedArray{Float64,Float64,1,Array{Float64,1},Array{Float64,1}}},Array{ReverseDiff.TrackedReal{Float32,Float64,ReverseDiff.TrackedArray{Float32,Float64,1,Array{Float32,1},Array{Float64,1}}},1}},Nothing,Nothing,Array{Float64,2},Nothing,Base.OneTo{Int64},UnitRange{Int64},LinearAlgebra.UniformScaling{Bool}},DiffEqSensitivity.InterpolatingAdjoint{0,true,Val{:central},Bool},Array{Float64,2},ODESolution{Float64,3,Array{Array{Float64,2},1},Nothing,Nothing,Array{Float64,1},Array{Array{Array{Float64,2},1},1},ODEProblem{Array{Float64,2},Tuple{Float64,Float64},true,Array{Float32,1},ODEFunction{true,typeof(dfdt!),LinearAlgebra.UniformScaling{Bool},Nothing,Nothing,Nothing,Nothing,Nothing,Nothing,Nothing,Nothing,Nothing,Nothing,Nothing,Nothing},Base.Iterators.Pairs{Union{},Union{},Tuple{},NamedTuple{(),Tuple{}}},DiffEqBase.StandardODEProblem},Midpoint,OrdinaryDiffEq.InterpolationData{ODEFunction{true,typeof(dfdt!),LinearAlgebra.UniformScaling{Bool},Nothing,Nothing,Nothing,Nothing,Nothing,Nothing,Nothing,Nothing,Nothing,Nothing,Nothing,Nothing},Array{Array{Float64,2},1},Array{Float64,1},Array{Array{Array{Float64,2},1},1},OrdinaryDiffEq.MidpointCache{Array{Float64,2},Array{Float64,2},Array{Float64,2}}},DiffEqBase.DEStats},Nothing,ODEFunction{true,typeof(dfdt!),LinearAlgebra.UniformScaling{Bool},Nothing,Nothing,Nothing,Nothing,Nothing,Nothing,Nothing,Nothing,Nothing,Nothing,Nothing,Nothing}},LinearAlgebra.UniformScaling{Bool},Nothing,Nothing,Nothing,Nothing,Nothing,Nothing,Nothing,Nothing,Nothing,Nothing,Nothing,Nothing},OrdinaryDiffEq.MidpointCache{Array{Float32,1},Array{Float32,1},Array{Float32,1}},OrdinaryDiffEq.DEOptions{Float64,Float64,Float64,Float64,typeof(DiffEqBase.ODE_DEFAULT_NORM),typeof(LinearAlgebra.opnorm),CallbackSet{Tuple{},Tuple{DiscreteCallback{DiffEqCallbacks.var\"#33#36\"{Base.RefValue{Union{Nothing, Float64}}},DiffEqCallbacks.var\"#34#37\"{DiffEqSensitivity.var\"#94#96\"{Base.RefValue{Int64},Array{Float64,1}},DiffEqSensitivity.var\"#95#97\"{DiffEqSensitivity.var\"#df#132\"{Array{Float64,3},Array{Float64,2},Colon},DiffEqSensitivity.InterpolatingAdjoint{0,true,Val{:central},Bool},Base.OneTo{Int64},UnitRange{Int64},LinearAlgebra.UniformScaling{Bool},Bool,Nothing,Nothing,Array{Float64,2},Nothing,Bool,Array{Float32,1},Array{Float64,1},Array{Float64,2},Base.RefValue{Int64},Int64,LinearAlgebra.UniformScaling{Bool}},Base.RefValue{Union{Nothing, Float64}}},DiffEqCallbacks.var\"#35#38\"{typeof(DiffEqBase.INITIALIZE_DEFAULT),Bool,DiffEqSensitivity.var\"#94#96\"{Base.RefValue{Int64},Array{Float64,1}},Base.RefValue{Union{Nothing, Float64}},DiffEqCallbacks.var\"#34#37\"{DiffEqSensitivity.var\"#94#96\"{Base.RefValue{Int64},Array{Float64,1}},DiffEqSensitivity.var\"#95#97\"{DiffEqSensitivity.var\"#df#132\"{Array{Float64,3},Array{Float64,2},Colon},DiffEqSensitivity.InterpolatingAdjoint{0,true,Val{:central},Bool},Base.OneTo{Int64},UnitRange{Int64},LinearAlgebra.UniformScaling{Bool},Bool,Nothing,Nothing,Array{Float64,2},Nothing,Bool,Array{Float32,1},Array{Float64,1},Array{Float64,2},Base.RefValue{Int64},Int64,LinearAlgebra.UniformScaling{Bool}},Base.RefValue{Union{Nothing, Float64}}}}}}},typeof(DiffEqBase.ODE_DEFAULT_ISOUTOFDOMAIN),typeof(DiffEqBase.ODE_DEFAULT_PROG_MESSAGE),typeof(DiffEqBase.ODE_DEFAULT_UNSTABLE_CHECK),DataStructures.BinaryHeap{Float64,DataStructures.LessThan},DataStructures.BinaryHeap{Float64,DataStructures.LessThan},Nothing,Nothing,Int64,Array{Float64,1},Array{Float64,1},Tuple{}},Array{Float32,1},Float32,Nothing,OrdinaryDiffEq.DefaultInit}, ::OrdinaryDiffEq.MidpointCache{Array{Float32,1},Array{Float32,1},Array{Float32,1}}) at /home/kit/scc/yy3406/.julia/packages/OrdinaryDiffEq/NsugH/src/perform_step/fixed_timestep_perform_step.jl:228",
      " [13] __init(::ODEProblem{Array{Float32,1},Tuple{Float64,Float64},true,Array{Float32,1},ODEFunction{true,DiffEqSensitivity.ODEInterpolatingAdjointSensitivityFunction{DiffEqSensitivity.AdjointDiffCache{Nothing,Nothing,Nothing,Nothing,Nothing,Nothing,Nothing,Nothing,ReverseDiff.GradientTape{DiffEqSensitivity.var\"#77#86\"{ODEFunction{true,typeof(dfdt!),LinearAlgebra.UniformScaling{Bool},Nothing,Nothing,Nothing,Nothing,Nothing,Nothing,Nothing,Nothing,Nothing,Nothing,Nothing,Nothing}},Tuple{ReverseDiff.TrackedArray{Float64,Float64,2,Array{Float64,2},Array{Float64,2}},ReverseDiff.TrackedArray{Float32,Float64,1,Array{Float32,1},Array{Float64,1}},ReverseDiff.TrackedArray{Float64,Float64,1,Array{Float64,1},Array{Float64,1}}},Array{ReverseDiff.TrackedReal{Float32,Float64,ReverseDiff.TrackedArray{Float32,Float64,1,Array{Float32,1},Array{Float64,1}}},1}},Nothing,Nothing,Array{Float64,2},Nothing,Base.OneTo{Int64},UnitRange{Int64},LinearAlgebra.UniformScaling{Bool}},DiffEqSensitivity.InterpolatingAdjoint{0,true,Val{:central},Bool},Array{Float64,2},ODESolution{Float64,3,Array{Array{Float64,2},1},Nothing,Nothing,Array{Float64,1},Array{Array{Array{Float64,2},1},1},ODEProblem{Array{Float64,2},Tuple{Float64,Float64},true,Array{Float32,1},ODEFunction{true,typeof(dfdt!),LinearAlgebra.UniformScaling{Bool},Nothing,Nothing,Nothing,Nothing,Nothing,Nothing,Nothing,Nothing,Nothing,Nothing,Nothing,Nothing},Base.Iterators.Pairs{Union{},Union{},Tuple{},NamedTuple{(),Tuple{}}},DiffEqBase.StandardODEProblem},Midpoint,OrdinaryDiffEq.InterpolationData{ODEFunction{true,typeof(dfdt!),LinearAlgebra.UniformScaling{Bool},Nothing,Nothing,Nothing,Nothing,Nothing,Nothing,Nothing,Nothing,Nothing,Nothing,Nothing,Nothing},Array{Array{Float64,2},1},Array{Float64,1},Array{Array{Array{Float64,2},1},1},OrdinaryDiffEq.MidpointCache{Array{Float64,2},Array{Float64,2},Array{Float64,2}}},DiffEqBase.DEStats},Nothing,ODEFunction{true,typeof(dfdt!),LinearAlgebra.UniformScaling{Bool},Nothing,Nothing,Nothing,Nothing,Nothing,Nothing,Nothing,Nothing,Nothing,Nothing,Nothing,Nothing}},LinearAlgebra.UniformScaling{Bool},Nothing,Nothing,Nothing,Nothing,Nothing,Nothing,Nothing,Nothing,Nothing,Nothing,Nothing,Nothing},Base.Iterators.Pairs{Symbol,CallbackSet{Tuple{},Tuple{DiscreteCallback{DiffEqCallbacks.var\"#33#36\"{Base.RefValue{Union{Nothing, Float64}}},DiffEqCallbacks.var\"#34#37\"{DiffEqSensitivity.var\"#94#96\"{Base.RefValue{Int64},Array{Float64,1}},DiffEqSensitivity.var\"#95#97\"{DiffEqSensitivity.var\"#df#132\"{Array{Float64,3},Array{Float64,2},Colon},DiffEqSensitivity.InterpolatingAdjoint{0,true,Val{:central},Bool},Base.OneTo{Int64},UnitRange{Int64},LinearAlgebra.UniformScaling{Bool},Bool,Nothing,Nothing,Array{Float64,2},Nothing,Bool,Array{Float32,1},Array{Float64,1},Array{Float64,2},Base.RefValue{Int64},Int64,LinearAlgebra.UniformScaling{Bool}},Base.RefValue{Union{Nothing, Float64}}},DiffEqCallbacks.var\"#35#38\"{typeof(DiffEqBase.INITIALIZE_DEFAULT),Bool,DiffEqSensitivity.var\"#94#96\"{Base.RefValue{Int64},Array{Float64,1}},Base.RefValue{Union{Nothing, Float64}},DiffEqCallbacks.var\"#34#37\"{DiffEqSensitivity.var\"#94#96\"{Base.RefValue{Int64},Array{Float64,1}},DiffEqSensitivity.var\"#95#97\"{DiffEqSensitivity.var\"#df#132\"{Array{Float64,3},Array{Float64,2},Colon},DiffEqSensitivity.InterpolatingAdjoint{0,true,Val{:central},Bool},Base.OneTo{Int64},UnitRange{Int64},LinearAlgebra.UniformScaling{Bool},Bool,Nothing,Nothing,Array{Float64,2},Nothing,Bool,Array{Float32,1},Array{Float64,1},Array{Float64,2},Base.RefValue{Int64},Int64,LinearAlgebra.UniformScaling{Bool}},Base.RefValue{Union{Nothing, Float64}}}}}}},Tuple{Symbol},NamedTuple{(:callback,),Tuple{CallbackSet{Tuple{},Tuple{DiscreteCallback{DiffEqCallbacks.var\"#33#36\"{Base.RefValue{Union{Nothing, Float64}}},DiffEqCallbacks.var\"#34#37\"{DiffEqSensitivity.var\"#94#96\"{Base.RefValue{Int64},Array{Float64,1}},DiffEqSensitivity.var\"#95#97\"{DiffEqSensitivity.var\"#df#132\"{Array{Float64,3},Array{Float64,2},Colon},DiffEqSensitivity.InterpolatingAdjoint{0,true,Val{:central},Bool},Base.OneTo{Int64},UnitRange{Int64},LinearAlgebra.UniformScaling{Bool},Bool,Nothing,Nothing,Array{Float64,2},Nothing,Bool,Array{Float32,1},Array{Float64,1},Array{Float64,2},Base.RefValue{Int64},Int64,LinearAlgebra.UniformScaling{Bool}},Base.RefValue{Union{Nothing, Float64}}},DiffEqCallbacks.var\"#35#38\"{typeof(DiffEqBase.INITIALIZE_DEFAULT),Bool,DiffEqSensitivity.var\"#94#96\"{Base.RefValue{Int64},Array{Float64,1}},Base.RefValue{Union{Nothing, Float64}},DiffEqCallbacks.var\"#34#37\"{DiffEqSensitivity.var\"#94#96\"{Base.RefValue{Int64},Array{Float64,1}},DiffEqSensitivity.var\"#95#97\"{DiffEqSensitivity.var\"#df#132\"{Array{Float64,3},Array{Float64,2},Colon},DiffEqSensitivity.InterpolatingAdjoint{0,true,Val{:central},Bool},Base.OneTo{Int64},UnitRange{Int64},LinearAlgebra.UniformScaling{Bool},Bool,Nothing,Nothing,Array{Float64,2},Nothing,Bool,Array{Float32,1},Array{Float64,1},Array{Float64,2},Base.RefValue{Int64},Int64,LinearAlgebra.UniformScaling{Bool}},Base.RefValue{Union{Nothing, Float64}}}}}}}}}},DiffEqBase.StandardODEProblem}, ::Midpoint, ::Tuple{}, ::Tuple{}, ::Tuple{}, ::Type{Val{true}}; saveat::Array{Float64,1}, tstops::Array{Float64,1}, d_discontinuities::Tuple{}, save_idxs::Nothing, save_everystep::Bool, save_on::Bool, save_start::Bool, save_end::Bool, callback::CallbackSet{Tuple{},Tuple{DiscreteCallback{DiffEqCallbacks.var\"#33#36\"{Base.RefValue{Union{Nothing, Float64}}},DiffEqCallbacks.var\"#34#37\"{DiffEqSensitivity.var\"#94#96\"{Base.RefValue{Int64},Array{Float64,1}},DiffEqSensitivity.var\"#95#97\"{DiffEqSensitivity.var\"#df#132\"{Array{Float64,3},Array{Float64,2},Colon},DiffEqSensitivity.InterpolatingAdjoint{0,true,Val{:central},Bool},Base.OneTo{Int64},UnitRange{Int64},LinearAlgebra.UniformScaling{Bool},Bool,Nothing,Nothing,Array{Float64,2},Nothing,Bool,Array{Float32,1},Array{Float64,1},Array{Float64,2},Base.RefValue{Int64},Int64,LinearAlgebra.UniformScaling{Bool}},Base.RefValue{Union{Nothing, Float64}}},DiffEqCallbacks.var\"#35#38\"{typeof(DiffEqBase.INITIALIZE_DEFAULT),Bool,DiffEqSensitivity.var\"#94#96\"{Base.RefValue{Int64},Array{Float64,1}},Base.RefValue{Union{Nothing, Float64}},DiffEqCallbacks.var\"#34#37\"{DiffEqSensitivity.var\"#94#96\"{Base.RefValue{Int64},Array{Float64,1}},DiffEqSensitivity.var\"#95#97\"{DiffEqSensitivity.var\"#df#132\"{Array{Float64,3},Array{Float64,2},Colon},DiffEqSensitivity.InterpolatingAdjoint{0,true,Val{:central},Bool},Base.OneTo{Int64},UnitRange{Int64},LinearAlgebra.UniformScaling{Bool},Bool,Nothing,Nothing,Array{Float64,2},Nothing,Bool,Array{Float32,1},Array{Float64,1},Array{Float64,2},Base.RefValue{Int64},Int64,LinearAlgebra.UniformScaling{Bool}},Base.RefValue{Union{Nothing, Float64}}}}}}}, dense::Bool, calck::Bool, dt::Float64, dtmin::Nothing, dtmax::Float64, force_dtmin::Bool, adaptive::Bool, gamma::Rational{Int64}, abstol::Float64, reltol::Float64, qmin::Rational{Int64}, qmax::Int64, qsteady_min::Int64, qsteady_max::Int64, qoldinit::Rational{Int64}, fullnormalize::Bool, failfactor::Int64, beta1::Nothing, beta2::Nothing, maxiters::Int64, internalnorm::typeof(DiffEqBase.ODE_DEFAULT_NORM), internalopnorm::typeof(LinearAlgebra.opnorm), isoutofdomain::typeof(DiffEqBase.ODE_DEFAULT_ISOUTOFDOMAIN), unstable_check::typeof(DiffEqBase.ODE_DEFAULT_UNSTABLE_CHECK), verbose::Bool, timeseries_errors::Bool, dense_errors::Bool, advance_to_tstop::Bool, stop_at_next_tstop::Bool, initialize_save::Bool, progress::Bool, progress_steps::Int64, progress_name::String, progress_message::typeof(DiffEqBase.ODE_DEFAULT_PROG_MESSAGE), userdata::Nothing, allow_extrapolation::Bool, initialize_integrator::Bool, alias_u0::Bool, alias_du0::Bool, initializealg::OrdinaryDiffEq.DefaultInit, kwargs::Base.Iterators.Pairs{Union{},Union{},Tuple{},NamedTuple{(),Tuple{}}}) at /home/kit/scc/yy3406/.julia/packages/OrdinaryDiffEq/NsugH/src/solve.jl:403",
      " [14] #__solve#360 at /home/kit/scc/yy3406/.julia/packages/OrdinaryDiffEq/NsugH/src/solve.jl:4 [inlined]",
      " [15] solve_call(::ODEProblem{Array{Float32,1},Tuple{Float64,Float64},true,Array{Float32,1},ODEFunction{true,DiffEqSensitivity.ODEInterpolatingAdjointSensitivityFunction{DiffEqSensitivity.AdjointDiffCache{Nothing,Nothing,Nothing,Nothing,Nothing,Nothing,Nothing,Nothing,ReverseDiff.GradientTape{DiffEqSensitivity.var\"#77#86\"{ODEFunction{true,typeof(dfdt!),LinearAlgebra.UniformScaling{Bool},Nothing,Nothing,Nothing,Nothing,Nothing,Nothing,Nothing,Nothing,Nothing,Nothing,Nothing,Nothing}},Tuple{ReverseDiff.TrackedArray{Float64,Float64,2,Array{Float64,2},Array{Float64,2}},ReverseDiff.TrackedArray{Float32,Float64,1,Array{Float32,1},Array{Float64,1}},ReverseDiff.TrackedArray{Float64,Float64,1,Array{Float64,1},Array{Float64,1}}},Array{ReverseDiff.TrackedReal{Float32,Float64,ReverseDiff.TrackedArray{Float32,Float64,1,Array{Float32,1},Array{Float64,1}}},1}},Nothing,Nothing,Array{Float64,2},Nothing,Base.OneTo{Int64},UnitRange{Int64},LinearAlgebra.UniformScaling{Bool}},DiffEqSensitivity.InterpolatingAdjoint{0,true,Val{:central},Bool},Array{Float64,2},ODESolution{Float64,3,Array{Array{Float64,2},1},Nothing,Nothing,Array{Float64,1},Array{Array{Array{Float64,2},1},1},ODEProblem{Array{Float64,2},Tuple{Float64,Float64},true,Array{Float32,1},ODEFunction{true,typeof(dfdt!),LinearAlgebra.UniformScaling{Bool},Nothing,Nothing,Nothing,Nothing,Nothing,Nothing,Nothing,Nothing,Nothing,Nothing,Nothing,Nothing},Base.Iterators.Pairs{Union{},Union{},Tuple{},NamedTuple{(),Tuple{}}},DiffEqBase.StandardODEProblem},Midpoint,OrdinaryDiffEq.InterpolationData{ODEFunction{true,typeof(dfdt!),LinearAlgebra.UniformScaling{Bool},Nothing,Nothing,Nothing,Nothing,Nothing,Nothing,Nothing,Nothing,Nothing,Nothing,Nothing,Nothing},Array{Array{Float64,2},1},Array{Float64,1},Array{Array{Array{Float64,2},1},1},OrdinaryDiffEq.MidpointCache{Array{Float64,2},Array{Float64,2},Array{Float64,2}}},DiffEqBase.DEStats},Nothing,ODEFunction{true,typeof(dfdt!),LinearAlgebra.UniformScaling{Bool},Nothing,Nothing,Nothing,Nothing,Nothing,Nothing,Nothing,Nothing,Nothing,Nothing,Nothing,Nothing}},LinearAlgebra.UniformScaling{Bool},Nothing,Nothing,Nothing,Nothing,Nothing,Nothing,Nothing,Nothing,Nothing,Nothing,Nothing,Nothing},Base.Iterators.Pairs{Symbol,CallbackSet{Tuple{},Tuple{DiscreteCallback{DiffEqCallbacks.var\"#33#36\"{Base.RefValue{Union{Nothing, Float64}}},DiffEqCallbacks.var\"#34#37\"{DiffEqSensitivity.var\"#94#96\"{Base.RefValue{Int64},Array{Float64,1}},DiffEqSensitivity.var\"#95#97\"{DiffEqSensitivity.var\"#df#132\"{Array{Float64,3},Array{Float64,2},Colon},DiffEqSensitivity.InterpolatingAdjoint{0,true,Val{:central},Bool},Base.OneTo{Int64},UnitRange{Int64},LinearAlgebra.UniformScaling{Bool},Bool,Nothing,Nothing,Array{Float64,2},Nothing,Bool,Array{Float32,1},Array{Float64,1},Array{Float64,2},Base.RefValue{Int64},Int64,LinearAlgebra.UniformScaling{Bool}},Base.RefValue{Union{Nothing, Float64}}},DiffEqCallbacks.var\"#35#38\"{typeof(DiffEqBase.INITIALIZE_DEFAULT),Bool,DiffEqSensitivity.var\"#94#96\"{Base.RefValue{Int64},Array{Float64,1}},Base.RefValue{Union{Nothing, Float64}},DiffEqCallbacks.var\"#34#37\"{DiffEqSensitivity.var\"#94#96\"{Base.RefValue{Int64},Array{Float64,1}},DiffEqSensitivity.var\"#95#97\"{DiffEqSensitivity.var\"#df#132\"{Array{Float64,3},Array{Float64,2},Colon},DiffEqSensitivity.InterpolatingAdjoint{0,true,Val{:central},Bool},Base.OneTo{Int64},UnitRange{Int64},LinearAlgebra.UniformScaling{Bool},Bool,Nothing,Nothing,Array{Float64,2},Nothing,Bool,Array{Float32,1},Array{Float64,1},Array{Float64,2},Base.RefValue{Int64},Int64,LinearAlgebra.UniformScaling{Bool}},Base.RefValue{Union{Nothing, Float64}}}}}}},Tuple{Symbol},NamedTuple{(:callback,),Tuple{CallbackSet{Tuple{},Tuple{DiscreteCallback{DiffEqCallbacks.var\"#33#36\"{Base.RefValue{Union{Nothing, Float64}}},DiffEqCallbacks.var\"#34#37\"{DiffEqSensitivity.var\"#94#96\"{Base.RefValue{Int64},Array{Float64,1}},DiffEqSensitivity.var\"#95#97\"{DiffEqSensitivity.var\"#df#132\"{Array{Float64,3},Array{Float64,2},Colon},DiffEqSensitivity.InterpolatingAdjoint{0,true,Val{:central},Bool},Base.OneTo{Int64},UnitRange{Int64},LinearAlgebra.UniformScaling{Bool},Bool,Nothing,Nothing,Array{Float64,2},Nothing,Bool,Array{Float32,1},Array{Float64,1},Array{Float64,2},Base.RefValue{Int64},Int64,LinearAlgebra.UniformScaling{Bool}},Base.RefValue{Union{Nothing, Float64}}},DiffEqCallbacks.var\"#35#38\"{typeof(DiffEqBase.INITIALIZE_DEFAULT),Bool,DiffEqSensitivity.var\"#94#96\"{Base.RefValue{Int64},Array{Float64,1}},Base.RefValue{Union{Nothing, Float64}},DiffEqCallbacks.var\"#34#37\"{DiffEqSensitivity.var\"#94#96\"{Base.RefValue{Int64},Array{Float64,1}},DiffEqSensitivity.var\"#95#97\"{DiffEqSensitivity.var\"#df#132\"{Array{Float64,3},Array{Float64,2},Colon},DiffEqSensitivity.InterpolatingAdjoint{0,true,Val{:central},Bool},Base.OneTo{Int64},UnitRange{Int64},LinearAlgebra.UniformScaling{Bool},Bool,Nothing,Nothing,Array{Float64,2},Nothing,Bool,Array{Float32,1},Array{Float64,1},Array{Float64,2},Base.RefValue{Int64},Int64,LinearAlgebra.UniformScaling{Bool}},Base.RefValue{Union{Nothing, Float64}}}}}}}}}},DiffEqBase.StandardODEProblem}, ::Midpoint; merge_callbacks::Bool, kwargs::Base.Iterators.Pairs{Symbol,Any,NTuple{6,Symbol},NamedTuple{(:save_everystep, :save_start, :saveat, :tstops, :abstol, :reltol),Tuple{Bool,Bool,Array{Float64,1},Array{Float64,1},Float64,Float64}}}) at /home/kit/scc/yy3406/.julia/packages/DiffEqBase/JNliX/src/solve.jl:92",
      " [16] #solve_up#459 at /home/kit/scc/yy3406/.julia/packages/DiffEqBase/JNliX/src/solve.jl:114 [inlined]",
      " [17] #solve#458 at /home/kit/scc/yy3406/.julia/packages/DiffEqBase/JNliX/src/solve.jl:102 [inlined]",
      " [18] _adjoint_sensitivities(::ODESolution{Float64,3,Array{Array{Float64,2},1},Nothing,Nothing,Array{Float64,1},Array{Array{Array{Float64,2},1},1},ODEProblem{Array{Float64,2},Tuple{Float64,Float64},true,Array{Float32,1},ODEFunction{true,typeof(dfdt!),LinearAlgebra.UniformScaling{Bool},Nothing,Nothing,Nothing,Nothing,Nothing,Nothing,Nothing,Nothing,Nothing,Nothing,Nothing,Nothing},Base.Iterators.Pairs{Union{},Union{},Tuple{},NamedTuple{(),Tuple{}}},DiffEqBase.StandardODEProblem},Midpoint,OrdinaryDiffEq.InterpolationData{ODEFunction{true,typeof(dfdt!),LinearAlgebra.UniformScaling{Bool},Nothing,Nothing,Nothing,Nothing,Nothing,Nothing,Nothing,Nothing,Nothing,Nothing,Nothing,Nothing},Array{Array{Float64,2},1},Array{Float64,1},Array{Array{Array{Float64,2},1},1},OrdinaryDiffEq.MidpointCache{Array{Float64,2},Array{Float64,2},Array{Float64,2}}},DiffEqBase.DEStats}, ::DiffEqSensitivity.InterpolatingAdjoint{0,true,Val{:central},Bool}, ::Midpoint, ::DiffEqSensitivity.var\"#df#132\"{Array{Float64,3},Array{Float64,2},Colon}, ::Array{Float64,1}, ::Nothing; abstol::Float64, reltol::Float64, checkpoints::Array{Float64,1}, kwargs::Base.Iterators.Pairs{Union{},Union{},Tuple{},NamedTuple{(),Tuple{}}}) at /home/kit/scc/yy3406/.julia/packages/DiffEqSensitivity/XQ1vJ/src/local_sensitivity/sensitivity_interface.jl:21",
      " [19] _adjoint_sensitivities(::ODESolution{Float64,3,Array{Array{Float64,2},1},Nothing,Nothing,Array{Float64,1},Array{Array{Array{Float64,2},1},1},ODEProblem{Array{Float64,2},Tuple{Float64,Float64},true,Array{Float32,1},ODEFunction{true,typeof(dfdt!),LinearAlgebra.UniformScaling{Bool},Nothing,Nothing,Nothing,Nothing,Nothing,Nothing,Nothing,Nothing,Nothing,Nothing,Nothing,Nothing},Base.Iterators.Pairs{Union{},Union{},Tuple{},NamedTuple{(),Tuple{}}},DiffEqBase.StandardODEProblem},Midpoint,OrdinaryDiffEq.InterpolationData{ODEFunction{true,typeof(dfdt!),LinearAlgebra.UniformScaling{Bool},Nothing,Nothing,Nothing,Nothing,Nothing,Nothing,Nothing,Nothing,Nothing,Nothing,Nothing,Nothing},Array{Array{Float64,2},1},Array{Float64,1},Array{Array{Array{Float64,2},1},1},OrdinaryDiffEq.MidpointCache{Array{Float64,2},Array{Float64,2},Array{Float64,2}}},DiffEqBase.DEStats}, ::DiffEqSensitivity.InterpolatingAdjoint{0,true,Val{:central},Bool}, ::Midpoint, ::Function, ::Array{Float64,1}, ::Nothing) at /home/kit/scc/yy3406/.julia/packages/DiffEqSensitivity/XQ1vJ/src/local_sensitivity/sensitivity_interface.jl:13 (repeats 2 times)",
      " [20] adjoint_sensitivities(::ODESolution{Float64,3,Array{Array{Float64,2},1},Nothing,Nothing,Array{Float64,1},Array{Array{Array{Float64,2},1},1},ODEProblem{Array{Float64,2},Tuple{Float64,Float64},true,Array{Float32,1},ODEFunction{true,typeof(dfdt!),LinearAlgebra.UniformScaling{Bool},Nothing,Nothing,Nothing,Nothing,Nothing,Nothing,Nothing,Nothing,Nothing,Nothing,Nothing,Nothing},Base.Iterators.Pairs{Union{},Union{},Tuple{},NamedTuple{(),Tuple{}}},DiffEqBase.StandardODEProblem},Midpoint,OrdinaryDiffEq.InterpolationData{ODEFunction{true,typeof(dfdt!),LinearAlgebra.UniformScaling{Bool},Nothing,Nothing,Nothing,Nothing,Nothing,Nothing,Nothing,Nothing,Nothing,Nothing,Nothing,Nothing},Array{Array{Float64,2},1},Array{Float64,1},Array{Array{Array{Float64,2},1},1},OrdinaryDiffEq.MidpointCache{Array{Float64,2},Array{Float64,2},Array{Float64,2}}},DiffEqBase.DEStats}, ::Midpoint, ::Vararg{Any,N} where N; sensealg::DiffEqSensitivity.InterpolatingAdjoint{0,true,Val{:central},Bool}, kwargs::Base.Iterators.Pairs{Union{},Union{},Tuple{},NamedTuple{(),Tuple{}}}) at /home/kit/scc/yy3406/.julia/packages/DiffEqSensitivity/XQ1vJ/src/local_sensitivity/sensitivity_interface.jl:6",
      " [21] (::DiffEqSensitivity.var\"#adjoint_sensitivity_backpass#131\"{Midpoint,DiffEqSensitivity.InterpolatingAdjoint{0,true,Val{:central},Bool},Array{Float64,2},Array{Float32,1},Tuple{},Colon})(::Array{Float64,3}) at /home/kit/scc/yy3406/.julia/packages/DiffEqSensitivity/XQ1vJ/src/local_sensitivity/concrete_solve.jl:113",
      " [22] #517#back at /home/kit/scc/yy3406/.julia/packages/ZygoteRules/6nssF/src/adjoint.jl:55 [inlined]",
      " [23] #175 at /home/kit/scc/yy3406/.julia/packages/Zygote/1GXzF/src/lib/lib.jl:182 [inlined]",
      " [24] (::Zygote.var\"#347#back#177\"{Zygote.var\"#175#176\"{DiffEqBase.var\"#517#back#472\"{DiffEqSensitivity.var\"#adjoint_sensitivity_backpass#131\"{Midpoint,DiffEqSensitivity.InterpolatingAdjoint{0,true,Val{:central},Bool},Array{Float64,2},Array{Float32,1},Tuple{},Colon}},Tuple{NTuple{6,Nothing},Tuple{Nothing}}}})(::Array{Float64,3}) at /home/kit/scc/yy3406/.julia/packages/ZygoteRules/6nssF/src/adjoint.jl:49",
      " [25] #solve#458 at /home/kit/scc/yy3406/.julia/packages/DiffEqBase/JNliX/src/solve.jl:102 [inlined]",
      " [26] (::typeof(∂(#solve#458)))(::Array{Float64,3}) at /home/kit/scc/yy3406/.julia/packages/Zygote/1GXzF/src/compiler/interface2.jl:0",
      " [27] (::Zygote.var\"#175#176\"{typeof(∂(#solve#458)),Tuple{NTuple{6,Nothing},Tuple{Nothing}}})(::Array{Float64,3}) at /home/kit/scc/yy3406/.julia/packages/Zygote/1GXzF/src/lib/lib.jl:182",
      " [28] (::Zygote.var\"#347#back#177\"{Zygote.var\"#175#176\"{typeof(∂(#solve#458)),Tuple{NTuple{6,Nothing},Tuple{Nothing}}}})(::Array{Float64,3}) at /home/kit/scc/yy3406/.julia/packages/ZygoteRules/6nssF/src/adjoint.jl:49",
      " [29] (::typeof(∂(solve##kw)))(::Array{Float64,3}) at /home/kit/scc/yy3406/.julia/packages/Zygote/1GXzF/src/compiler/interface2.jl:0",
      " [30] loss at ./In[28]:8 [inlined]",
      " [31] (::typeof(∂(loss)))(::Float64) at /home/kit/scc/yy3406/.julia/packages/Zygote/1GXzF/src/compiler/interface2.jl:0",
      " [32] #175 at /home/kit/scc/yy3406/.julia/packages/Zygote/1GXzF/src/lib/lib.jl:182 [inlined]",
      " [33] (::Zygote.var\"#347#back#177\"{Zygote.var\"#175#176\"{typeof(∂(loss)),Tuple{Tuple{Nothing},Tuple{}}}})(::Float64) at /home/kit/scc/yy3406/.julia/packages/ZygoteRules/6nssF/src/adjoint.jl:49",
      " [34] #33 at /home/kit/scc/yy3406/.julia/packages/DiffEqFlux/FZMwP/src/train.jl:99 [inlined]",
      " [35] (::typeof(∂(λ)))(::Float64) at /home/kit/scc/yy3406/.julia/packages/Zygote/1GXzF/src/compiler/interface2.jl:0",
      " [36] (::Zygote.var\"#50#51\"{Zygote.Params,Zygote.Context,typeof(∂(λ))})(::Float64) at /home/kit/scc/yy3406/.julia/packages/Zygote/1GXzF/src/compiler/interface.jl:177",
      " [37] gradient(::Function, ::Zygote.Params) at /home/kit/scc/yy3406/.julia/packages/Zygote/1GXzF/src/compiler/interface.jl:54",
      " [38] macro expansion at /home/kit/scc/yy3406/.julia/packages/DiffEqFlux/FZMwP/src/train.jl:98 [inlined]",
      " [39] macro expansion at /home/kit/scc/yy3406/.julia/packages/ProgressLogging/BBN0b/src/ProgressLogging.jl:328 [inlined]",
      " [40] (::DiffEqFlux.var\"#32#37\"{Flux.var\"#throttled#20\"{Flux.var\"#throttled#16#21\"{Bool,Bool,var\"#51#52\",Int64}},Int64,Bool,Bool,typeof(loss),Array{Float32,1},Zygote.Params})() at /home/kit/scc/yy3406/.julia/packages/DiffEqFlux/FZMwP/src/train.jl:43",
      " [41] with_logstate(::DiffEqFlux.var\"#32#37\"{Flux.var\"#throttled#20\"{Flux.var\"#throttled#16#21\"{Bool,Bool,var\"#51#52\",Int64}},Int64,Bool,Bool,typeof(loss),Array{Float32,1},Zygote.Params}, ::Base.CoreLogging.LogState) at ./logging.jl:398",
      " [42] with_logger at ./logging.jl:505 [inlined]",
      " [43] maybe_with_logger(::DiffEqFlux.var\"#32#37\"{Flux.var\"#throttled#20\"{Flux.var\"#throttled#16#21\"{Bool,Bool,var\"#51#52\",Int64}},Int64,Bool,Bool,typeof(loss),Array{Float32,1},Zygote.Params}, ::LoggingExtras.TeeLogger{Tuple{LoggingExtras.EarlyFilteredLogger{ConsoleProgressMonitor.ProgressLogger,DiffEqBase.var\"#10#12\"},LoggingExtras.EarlyFilteredLogger{Base.CoreLogging.SimpleLogger,DiffEqBase.var\"#11#13\"}}}) at /home/kit/scc/yy3406/.julia/packages/DiffEqBase/JNliX/src/utils.jl:259",
      " [44] sciml_train(::Function, ::Array{Float32,1}, ::ADAM, ::Base.Iterators.Cycle{Tuple{DiffEqFlux.NullData}}; cb::Function, maxiters::Int64, progress::Bool, save_best::Bool) at /home/kit/scc/yy3406/.julia/packages/DiffEqFlux/FZMwP/src/train.jl:42",
      " [45] top-level scope at In[28]:17"
     ]
    }
   ],
   "source": [
    "function dfdt!(df, f, p, t)\n",
    "    df .= ann(f, p)\n",
    "end\n",
    "\n",
    "prob_ube = ODEProblem(dfdt!, X, tspan, p_model)\n",
    "\n",
    "function loss(p)\n",
    "    sol_ube = solve(prob_ube, Midpoint(), u0 = X, p = p_model, saveat=tstop)\n",
    "    loss = sum(abs2, Array(sol_ube) .- Y)\n",
    "    return loss\n",
    "end\n",
    "\n",
    "cb = function (p, l)\n",
    "    display(l)\n",
    "    return false\n",
    "end\n",
    "\n",
    "res = DiffEqFlux.sciml_train(loss, p_model, ADAM(), cb = Flux.throttle(cb, 1), maxiters = 200)"
   ]
  },
  {
   "cell_type": "code",
   "execution_count": null,
   "metadata": {},
   "outputs": [],
   "source": []
  }
 ],
 "metadata": {
  "kernelspec": {
   "display_name": "Julia 1.4.1",
   "language": "julia",
   "name": "julia-1.4"
  },
  "language_info": {
   "file_extension": ".jl",
   "mimetype": "application/julia",
   "name": "julia",
   "version": "1.4.1"
  }
 },
 "nbformat": 4,
 "nbformat_minor": 4
}
