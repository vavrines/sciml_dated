{
 "cells": [
  {
   "cell_type": "markdown",
   "metadata": {},
   "source": [
    "**Deterministic shock solution of Boltzmann equation with 3D velocity formulation**"
   ]
  },
  {
   "cell_type": "code",
   "execution_count": 1,
   "metadata": {},
   "outputs": [
    {
     "name": "stderr",
     "output_type": "stream",
     "text": [
      "┌ Info: Precompiling Kinetic [82403725-3cee-4f7c-b214-1ce71af4a797]\n",
      "└ @ Base loading.jl:1260\n",
      "┌ Info: Precompiling OrdinaryDiffEq [1dea7af3-3e70-54e6-95c3-0bf5283fa5ed]\n",
      "└ @ Base loading.jl:1260\n"
     ]
    }
   ],
   "source": [
    "using Revise, Kinetic, Plots, OffsetArrays, ProgressMeter, OrdinaryDiffEq"
   ]
  },
  {
   "cell_type": "code",
   "execution_count": 2,
   "metadata": {},
   "outputs": [],
   "source": [
    "case = \"shock\"\n",
    "space = \"1d1f3v\"\n",
    "nSpecies = 1\n",
    "interpOrder = 1\n",
    "limiter = \"vanleer\"\n",
    "cfl = 0.7\n",
    "maxTime = 250.0\n",
    "x0 = -35.0\n",
    "x1 = 35.0\n",
    "nx = 50\n",
    "pMeshType = \"uniform\"\n",
    "nxg = 1\n",
    "umin = -10.0\n",
    "umax = 10.0\n",
    "nu = 36\n",
    "nug = 0\n",
    "vmin = -10.0\n",
    "vmax = 10.0\n",
    "nv = 24\n",
    "nvg = 0\n",
    "wmin = -10.0\n",
    "wmax = 10.0\n",
    "nw = 24\n",
    "nwg = 0\n",
    "vMeshType = \"rectangle\"\n",
    "knudsen = 1.0\n",
    "mach = 2.0\n",
    "prandtl = 1.0\n",
    "inK = 0\n",
    "omega = 0.5\n",
    "alphaRef = 1.0\n",
    "omegaRef = 0.5\n",
    "nm = 5\n",
    "tLen = 3\n",
    "nh = 12;"
   ]
  },
  {
   "cell_type": "code",
   "execution_count": 3,
   "metadata": {},
   "outputs": [
    {
     "data": {
      "text/plain": [
       "0.0f0:0.0399324f0:0.0798648f0"
      ]
     },
     "execution_count": 3,
     "metadata": {},
     "output_type": "execute_result"
    }
   ],
   "source": [
    "γ = heat_capacity_ratio(inK, 1)\n",
    "set = Setup(case, space, nSpecies, interpOrder, limiter, cfl, maxTime)\n",
    "pSpace = PSpace1D(x0, x1, nx, pMeshType, nxg)\n",
    "μᵣ = ref_vhs_vis(knudsen, alphaRef, omegaRef)\n",
    "gas = GasProperty(knudsen, mach, prandtl, inK, γ, omega, alphaRef, omegaRef, μᵣ)\n",
    "vSpace = VSpace1D(umin, umax, nu, vMeshType)\n",
    "vSpace2D = VSpace2D(vmin, vmax, nv, wmin, wmax, nw, vMeshType)\n",
    "vSpace3D = VSpace3D(umin, umax, nu, vmin, vmax, nv, wmin, wmax, nw, vMeshType)\n",
    "wL, primL, hL, bL, bcL, wR, primR, hR, bR, bcR = ib_rh(mach, γ, vSpace.u, inK)\n",
    "ib = IB2F(wL, primL, hL, bL, bcL, wR, primR, hR, bR, bcR)\n",
    "ks = SolverSet(set, pSpace, vSpace, gas, ib, pwd())\n",
    "\n",
    "kn_bzm = hs_boltz_kn(ks.gas.μᵣ, 1.0)\n",
    "sos = sound_speed(ks.ib.primR, γ)\n",
    "tmax = (ks.vSpace.u1 + sos) / ks.pSpace.dx[1]\n",
    "dt = Float32(ks.set.cfl / tmax)\n",
    "tspan = (0.f0, dt)\n",
    "tran = range(tspan[1], tspan[2], length = tLen)"
   ]
  },
  {
   "cell_type": "code",
   "execution_count": 4,
   "metadata": {},
   "outputs": [],
   "source": [
    "γ = heat_capacity_ratio(inK, 3)\n",
    "set = Setup(case, space, nSpecies, interpOrder, limiter, cfl, maxTime)\n",
    "pSpace = PSpace1D(x0, x1, nx, pMeshType, nxg)\n",
    "μᵣ = ref_vhs_vis(knudsen, alphaRef, omegaRef)\n",
    "gas = GasProperty(knudsen, mach, prandtl, inK, γ, omega, alphaRef, omegaRef, μᵣ)\n",
    "vSpace = VSpace1D(umin, umax, nu, vMeshType)\n",
    "vSpace2D = VSpace2D(vmin, vmax, nv, wmin, wmax, nw, vMeshType)\n",
    "vSpace3D = VSpace3D(umin, umax, nu, vmin, vmax, nv, wmin, wmax, nw, vMeshType);"
   ]
  },
  {
   "cell_type": "code",
   "execution_count": 5,
   "metadata": {},
   "outputs": [],
   "source": [
    "primL = [1.0, mach * sqrt(γ / 2.0), 0., 0., 1.0]\n",
    "\n",
    "MaR = sqrt((mach^2 * (γ - 1.0) + 2.0) / (2.0 * γ * mach^2 - (γ - 1.0)))\n",
    "ratioT = (1.0 + (γ - 1.0) / 2.0 * mach^2) * (2.0 * γ / (γ - 1.0) * mach^2 - 1.0) /\n",
    "         (mach^2 * (2.0 * γ / (γ - 1.0) + (γ - 1.0) / 2.0))\n",
    "primR = [\n",
    "    primL[1] * (γ + 1.0) * mach^2 / ((γ - 1.0) * mach^2 + 2.0),\n",
    "    MaR * sqrt(γ / 2.0) * sqrt(ratioT),\n",
    "    0.,\n",
    "    0.,\n",
    "    primL[end] / ratioT,\n",
    "]\n",
    "\n",
    "wL = prim_conserve(primL, γ)\n",
    "wR = prim_conserve(primR, γ)\n",
    "\n",
    "fL = maxwellian(vSpace3D.u, vSpace3D.v, vSpace3D.w, primL)\n",
    "fR = maxwellian(vSpace3D.u, vSpace3D.v, vSpace3D.w, primR)\n",
    "\n",
    "bcL = deepcopy(primL)\n",
    "bcR = deepcopy(primR);"
   ]
  },
  {
   "cell_type": "code",
   "execution_count": 6,
   "metadata": {},
   "outputs": [],
   "source": [
    "ib = IB1F(wL, primL, fL, bcL, wR, primR, fR, bcR)\n",
    "ks = SolverSet(set, pSpace, vSpace3D, gas, ib, pwd());"
   ]
  },
  {
   "cell_type": "code",
   "execution_count": 7,
   "metadata": {},
   "outputs": [
    {
     "data": {
      "text/plain": [
       "0.0f0:0.043301642f0:0.086603284f0"
      ]
     },
     "execution_count": 7,
     "metadata": {},
     "output_type": "execute_result"
    }
   ],
   "source": [
    "kn_bzm = hs_boltz_kn(ks.gas.μᵣ, 1.0)\n",
    "sos = sound_speed(ks.ib.primR, γ)\n",
    "tmax = (ks.vSpace.u1 + sos) / ks.pSpace.dx[1]\n",
    "dt = Float32(ks.set.cfl / tmax)\n",
    "tspan = (0.f0, dt)\n",
    "tran = range(tspan[1], tspan[2], length = tLen)"
   ]
  },
  {
   "cell_type": "code",
   "execution_count": 8,
   "metadata": {},
   "outputs": [
    {
     "data": {
      "text/plain": [
       "boltzmann (generic function with 1 method)"
      ]
     },
     "execution_count": 8,
     "metadata": {},
     "output_type": "execute_result"
    }
   ],
   "source": [
    "phi, psi, phipsi = kernel_mode(\n",
    "    nm,\n",
    "    vSpace3D.u1,\n",
    "    vSpace3D.v1,\n",
    "    vSpace3D.w1,\n",
    "    vSpace3D.du[1, 1, 1],\n",
    "    vSpace3D.dv[1, 1, 1],\n",
    "    vSpace3D.dw[1, 1, 1],\n",
    "    vSpace3D.nu,\n",
    "    vSpace3D.nv,\n",
    "    vSpace3D.nw,\n",
    "    alphaRef,\n",
    ")\n",
    "\n",
    "function boltzmann(f, p, t)\n",
    "    Kn, M, phi, psi, phipsi = p\n",
    "    boltzmann_fft(f[1:end,1:end,1:end], Kn, M, phi, psi, phipsi)\n",
    "end"
   ]
  },
  {
   "cell_type": "code",
   "execution_count": 9,
   "metadata": {},
   "outputs": [],
   "source": [
    "ctr = OffsetArray{ControlVolume1D1F}(undef, eachindex(ks.pSpace.x))\n",
    "face = Array{Interface1D1F}(undef, ks.pSpace.nx + 1)\n",
    "for i in eachindex(ctr)\n",
    "    if i <= ks.pSpace.nx ÷ 2\n",
    "        ctr[i] = ControlVolume1D1F(\n",
    "            ks.pSpace.x[i],\n",
    "            ks.pSpace.dx[i],\n",
    "            Float32.(ks.ib.wL),\n",
    "            Float32.(ks.ib.primL),\n",
    "            Float32.(ks.ib.fL),\n",
    "        )\n",
    "    else\n",
    "        ctr[i] = ControlVolume1D1F(\n",
    "            ks.pSpace.x[i],\n",
    "            ks.pSpace.dx[i],\n",
    "            Float32.(ks.ib.wR),\n",
    "            Float32.(ks.ib.primR),\n",
    "            Float32.(ks.ib.fR),\n",
    "        )\n",
    "    end\n",
    "end\n",
    "for i = 1:ks.pSpace.nx+1\n",
    "    face[i] = Interface1D1F(ks.ib.wL, ks.ib.fL)\n",
    "end"
   ]
  },
  {
   "cell_type": "code",
   "execution_count": 10,
   "metadata": {},
   "outputs": [
    {
     "data": {
      "text/plain": [
       "step! (generic function with 1 method)"
      ]
     },
     "execution_count": 10,
     "metadata": {},
     "output_type": "execute_result"
    }
   ],
   "source": [
    "function step!(\n",
    "    fwL::Array{<:AbstractFloat,1},\n",
    "    ffL::AbstractArray{<:AbstractFloat,3},\n",
    "    w::Array{<:AbstractFloat,1},\n",
    "    prim::Array{<:AbstractFloat,1},\n",
    "    f::AbstractArray{<:AbstractFloat,3},\n",
    "    fwR::Array{<:AbstractFloat,1},\n",
    "    ffR::AbstractArray{<:AbstractFloat,3},\n",
    "    γ::Real,\n",
    "    uVelo::AbstractArray{<:AbstractFloat,3},\n",
    "    vVelo::AbstractArray{<:AbstractFloat,3},\n",
    "    wVelo::AbstractArray{<:AbstractFloat,3},\n",
    "    μᵣ::Real,\n",
    "    ω::Real,\n",
    "    dx::Real,\n",
    "    dt::Real,\n",
    "    RES::Array{<:AbstractFloat,1},\n",
    "    AVG::Array{<:AbstractFloat,1},\n",
    ")\n",
    "\n",
    "    #--- store W^n and calculate H^n,\\tau^n ---#\n",
    "    w_old = deepcopy(w)\n",
    "\n",
    "    #--- update W^{n+1} ---#\n",
    "    @. w += (fwL - fwR) / dx\n",
    "    prim .= conserve_prim(w, γ)\n",
    "\n",
    "    #--- record residuals ---#\n",
    "    @. RES += (w - w_old)^2\n",
    "    @. AVG += abs(w)\n",
    "\n",
    "    # Boltzmann\n",
    "    df = boltzmann(f, [kn_bzm, nm, phi, psi, phipsi], tspan)\n",
    "    @. f += df * dt\n",
    "    \n",
    "    #prob = ODEProblem(boltzmann!, f[1:end,1:end,1:end], tspan, [kn_bzm, nm, phi, psi, phipsi])\n",
    "    #prob = ODEProblem(boltzmann!, f, tspan, [kn_bzm, nm, phi, psi, phipsi])\n",
    "    #f .= Array(solve(prob, Midpoint(), saveat=tran))[:,:,:,end]\n",
    "    \n",
    "    # BGK\n",
    "    #M = maxwellian(uVelo, vVelo, wVelo, prim)\n",
    "    #τ = vhs_collision_time(prim, μᵣ, ω)\n",
    "\n",
    "    for k in axes(wVelo, 3), j in axes(vVelo, 2), i in axes(uVelo, 1)\n",
    "        f[i, j, k] += (ffL[i, j, k] - ffR[i, j, k]) / dx\n",
    "    end\n",
    "\n",
    "end"
   ]
  },
  {
   "cell_type": "code",
   "execution_count": 11,
   "metadata": {},
   "outputs": [
    {
     "data": {
      "text/plain": [
       "update! (generic function with 1 method)"
      ]
     },
     "execution_count": 11,
     "metadata": {},
     "output_type": "execute_result"
    }
   ],
   "source": [
    "function update!(\n",
    "    KS::SolverSet,\n",
    "    ctr::AbstractArray{<:AbstractControlVolume1D,1},\n",
    "    face::Array{<:AbstractInterface1D,1},\n",
    "    dt::Real,\n",
    "    residual::Array{<:AbstractFloat,1},\n",
    ")\n",
    "\n",
    "    sumRes = zeros(axes(KS.ib.wL))\n",
    "    sumAvg = zeros(axes(KS.ib.wL))\n",
    "\n",
    "    for i = 2:KS.pSpace.nx-1\n",
    "        @inbounds step!(\n",
    "            face[i].fw,\n",
    "            face[i].ff,\n",
    "            ctr[i].w,\n",
    "            ctr[i].prim,\n",
    "            ctr[i].f,\n",
    "            face[i+1].fw,\n",
    "            face[i+1].ff,\n",
    "            KS.gas.γ,\n",
    "            KS.vSpace.u,\n",
    "            KS.vSpace.v,\n",
    "            KS.vSpace.w,\n",
    "            KS.gas.μᵣ,\n",
    "            KS.gas.ω,\n",
    "            ctr[i].dx,\n",
    "            dt,\n",
    "            sumRes,\n",
    "            sumAvg,\n",
    "        )\n",
    "    end\n",
    "\n",
    "    for i in eachindex(residual)\n",
    "        residual[i] = sqrt(sumRes[i] * KS.pSpace.nx) / (sumAvg[i] + 1.e-7)\n",
    "    end\n",
    "\n",
    "end"
   ]
  },
  {
   "cell_type": "code",
   "execution_count": 18,
   "metadata": {},
   "outputs": [
    {
     "name": "stderr",
     "output_type": "stream",
     "text": [
      "\u001b[32mProgress: 100%|█████████████████████████████████████████| Time: 0:01:39\u001b[39m\n"
     ]
    }
   ],
   "source": [
    "residual = Array{Float32}(undef, 5)\n",
    "\n",
    "@showprogress for iter = 1:100\n",
    "    Kinetic.evolve!(ks, ctr, face, dt)\n",
    "    update!(ks, ctr, face, dt, residual)\n",
    "end"
   ]
  },
  {
   "cell_type": "code",
   "execution_count": 19,
   "metadata": {},
   "outputs": [
    {
     "data": {
      "image/svg+xml": [
       "<?xml version=\"1.0\" encoding=\"utf-8\"?>\n",
       "<svg xmlns=\"http://www.w3.org/2000/svg\" xmlns:xlink=\"http://www.w3.org/1999/xlink\" width=\"600\" height=\"400\" viewBox=\"0 0 2400 1600\">\n",
       "<defs>\n",
       "  <clipPath id=\"clip130\">\n",
       "    <rect x=\"0\" y=\"0\" width=\"2400\" height=\"1600\"/>\n",
       "  </clipPath>\n",
       "</defs>\n",
       "<path clip-path=\"url(#clip130)\" d=\"\n",
       "M0 1600 L2400 1600 L2400 0 L0 0  Z\n",
       "  \" fill=\"#ffffff\" fill-rule=\"evenodd\" fill-opacity=\"1\"/>\n",
       "<defs>\n",
       "  <clipPath id=\"clip131\">\n",
       "    <rect x=\"480\" y=\"0\" width=\"1681\" height=\"1600\"/>\n",
       "  </clipPath>\n",
       "</defs>\n",
       "<path clip-path=\"url(#clip130)\" d=\"\n",
       "M147.663 1423.18 L2352.76 1423.18 L2352.76 47.2441 L147.663 47.2441  Z\n",
       "  \" fill=\"#ffffff\" fill-rule=\"evenodd\" fill-opacity=\"1\"/>\n",
       "<defs>\n",
       "  <clipPath id=\"clip132\">\n",
       "    <rect x=\"147\" y=\"47\" width=\"2206\" height=\"1377\"/>\n",
       "  </clipPath>\n",
       "</defs>\n",
       "<polyline clip-path=\"url(#clip132)\" style=\"stroke:#000000; stroke-width:2; stroke-opacity:0.1; fill:none\" points=\"\n",
       "  340.468,1423.18 340.468,47.2441 \n",
       "  \"/>\n",
       "<polyline clip-path=\"url(#clip132)\" style=\"stroke:#000000; stroke-width:2; stroke-opacity:0.1; fill:none\" points=\"\n",
       "  643.715,1423.18 643.715,47.2441 \n",
       "  \"/>\n",
       "<polyline clip-path=\"url(#clip132)\" style=\"stroke:#000000; stroke-width:2; stroke-opacity:0.1; fill:none\" points=\"\n",
       "  946.962,1423.18 946.962,47.2441 \n",
       "  \"/>\n",
       "<polyline clip-path=\"url(#clip132)\" style=\"stroke:#000000; stroke-width:2; stroke-opacity:0.1; fill:none\" points=\"\n",
       "  1250.21,1423.18 1250.21,47.2441 \n",
       "  \"/>\n",
       "<polyline clip-path=\"url(#clip132)\" style=\"stroke:#000000; stroke-width:2; stroke-opacity:0.1; fill:none\" points=\"\n",
       "  1553.46,1423.18 1553.46,47.2441 \n",
       "  \"/>\n",
       "<polyline clip-path=\"url(#clip132)\" style=\"stroke:#000000; stroke-width:2; stroke-opacity:0.1; fill:none\" points=\"\n",
       "  1856.7,1423.18 1856.7,47.2441 \n",
       "  \"/>\n",
       "<polyline clip-path=\"url(#clip132)\" style=\"stroke:#000000; stroke-width:2; stroke-opacity:0.1; fill:none\" points=\"\n",
       "  2159.95,1423.18 2159.95,47.2441 \n",
       "  \"/>\n",
       "<polyline clip-path=\"url(#clip132)\" style=\"stroke:#000000; stroke-width:2; stroke-opacity:0.1; fill:none\" points=\"\n",
       "  147.663,1294.37 2352.76,1294.37 \n",
       "  \"/>\n",
       "<polyline clip-path=\"url(#clip132)\" style=\"stroke:#000000; stroke-width:2; stroke-opacity:0.1; fill:none\" points=\"\n",
       "  147.663,1032.81 2352.76,1032.81 \n",
       "  \"/>\n",
       "<polyline clip-path=\"url(#clip132)\" style=\"stroke:#000000; stroke-width:2; stroke-opacity:0.1; fill:none\" points=\"\n",
       "  147.663,771.241 2352.76,771.241 \n",
       "  \"/>\n",
       "<polyline clip-path=\"url(#clip132)\" style=\"stroke:#000000; stroke-width:2; stroke-opacity:0.1; fill:none\" points=\"\n",
       "  147.663,509.674 2352.76,509.674 \n",
       "  \"/>\n",
       "<polyline clip-path=\"url(#clip132)\" style=\"stroke:#000000; stroke-width:2; stroke-opacity:0.1; fill:none\" points=\"\n",
       "  147.663,248.108 2352.76,248.108 \n",
       "  \"/>\n",
       "<polyline clip-path=\"url(#clip130)\" style=\"stroke:#000000; stroke-width:4; stroke-opacity:1; fill:none\" points=\"\n",
       "  147.663,1423.18 2352.76,1423.18 \n",
       "  \"/>\n",
       "<polyline clip-path=\"url(#clip130)\" style=\"stroke:#000000; stroke-width:4; stroke-opacity:1; fill:none\" points=\"\n",
       "  147.663,1423.18 147.663,47.2441 \n",
       "  \"/>\n",
       "<polyline clip-path=\"url(#clip130)\" style=\"stroke:#000000; stroke-width:4; stroke-opacity:1; fill:none\" points=\"\n",
       "  340.468,1423.18 340.468,1406.67 \n",
       "  \"/>\n",
       "<polyline clip-path=\"url(#clip130)\" style=\"stroke:#000000; stroke-width:4; stroke-opacity:1; fill:none\" points=\"\n",
       "  643.715,1423.18 643.715,1406.67 \n",
       "  \"/>\n",
       "<polyline clip-path=\"url(#clip130)\" style=\"stroke:#000000; stroke-width:4; stroke-opacity:1; fill:none\" points=\"\n",
       "  946.962,1423.18 946.962,1406.67 \n",
       "  \"/>\n",
       "<polyline clip-path=\"url(#clip130)\" style=\"stroke:#000000; stroke-width:4; stroke-opacity:1; fill:none\" points=\"\n",
       "  1250.21,1423.18 1250.21,1406.67 \n",
       "  \"/>\n",
       "<polyline clip-path=\"url(#clip130)\" style=\"stroke:#000000; stroke-width:4; stroke-opacity:1; fill:none\" points=\"\n",
       "  1553.46,1423.18 1553.46,1406.67 \n",
       "  \"/>\n",
       "<polyline clip-path=\"url(#clip130)\" style=\"stroke:#000000; stroke-width:4; stroke-opacity:1; fill:none\" points=\"\n",
       "  1856.7,1423.18 1856.7,1406.67 \n",
       "  \"/>\n",
       "<polyline clip-path=\"url(#clip130)\" style=\"stroke:#000000; stroke-width:4; stroke-opacity:1; fill:none\" points=\"\n",
       "  2159.95,1423.18 2159.95,1406.67 \n",
       "  \"/>\n",
       "<polyline clip-path=\"url(#clip130)\" style=\"stroke:#000000; stroke-width:4; stroke-opacity:1; fill:none\" points=\"\n",
       "  147.663,1294.37 174.124,1294.37 \n",
       "  \"/>\n",
       "<polyline clip-path=\"url(#clip130)\" style=\"stroke:#000000; stroke-width:4; stroke-opacity:1; fill:none\" points=\"\n",
       "  147.663,1032.81 174.124,1032.81 \n",
       "  \"/>\n",
       "<polyline clip-path=\"url(#clip130)\" style=\"stroke:#000000; stroke-width:4; stroke-opacity:1; fill:none\" points=\"\n",
       "  147.663,771.241 174.124,771.241 \n",
       "  \"/>\n",
       "<polyline clip-path=\"url(#clip130)\" style=\"stroke:#000000; stroke-width:4; stroke-opacity:1; fill:none\" points=\"\n",
       "  147.663,509.674 174.124,509.674 \n",
       "  \"/>\n",
       "<polyline clip-path=\"url(#clip130)\" style=\"stroke:#000000; stroke-width:4; stroke-opacity:1; fill:none\" points=\"\n",
       "  147.663,248.108 174.124,248.108 \n",
       "  \"/>\n",
       "<path clip-path=\"url(#clip130)\" d=\"M 0 0 M307.54 1461.77 L320.016 1461.77 L320.016 1465.56 L307.54 1465.56 L307.54 1461.77 Z\" fill=\"#000000\" fill-rule=\"evenodd\" fill-opacity=\"1\" /><path clip-path=\"url(#clip130)\" d=\"M 0 0 M339.252 1458.02 Q342.609 1458.74 344.484 1461 Q346.382 1463.27 346.382 1466.61 Q346.382 1471.72 342.864 1474.52 Q339.345 1477.32 332.864 1477.32 Q330.688 1477.32 328.373 1476.88 Q326.081 1476.47 323.628 1475.61 L323.628 1471.1 Q325.572 1472.23 327.887 1472.81 Q330.202 1473.39 332.725 1473.39 Q337.123 1473.39 339.414 1471.65 Q341.729 1469.92 341.729 1466.61 Q341.729 1463.55 339.577 1461.84 Q337.447 1460.1 333.627 1460.1 L329.6 1460.1 L329.6 1456.26 L333.813 1456.26 Q337.262 1456.26 339.09 1454.89 Q340.919 1453.5 340.919 1450.91 Q340.919 1448.25 339.021 1446.84 Q337.146 1445.4 333.627 1445.4 Q331.706 1445.4 329.507 1445.82 Q327.308 1446.24 324.669 1447.11 L324.669 1442.95 Q327.331 1442.21 329.646 1441.84 Q331.984 1441.47 334.044 1441.47 Q339.368 1441.47 342.47 1443.9 Q345.572 1446.3 345.572 1450.43 Q345.572 1453.3 343.928 1455.29 Q342.285 1457.25 339.252 1458.02 Z\" fill=\"#000000\" fill-rule=\"evenodd\" fill-opacity=\"1\" /><path clip-path=\"url(#clip130)\" d=\"M 0 0 M361.451 1445.17 Q357.84 1445.17 356.012 1448.74 Q354.206 1452.28 354.206 1459.41 Q354.206 1466.51 356.012 1470.08 Q357.84 1473.62 361.451 1473.62 Q365.086 1473.62 366.891 1470.08 Q368.72 1466.51 368.72 1459.41 Q368.72 1452.28 366.891 1448.74 Q365.086 1445.17 361.451 1445.17 M361.451 1441.47 Q367.262 1441.47 370.317 1446.07 Q373.396 1450.66 373.396 1459.41 Q373.396 1468.13 370.317 1472.74 Q367.262 1477.32 361.451 1477.32 Q355.641 1477.32 352.563 1472.74 Q349.507 1468.13 349.507 1459.41 Q349.507 1450.66 352.563 1446.07 Q355.641 1441.47 361.451 1441.47 Z\" fill=\"#000000\" fill-rule=\"evenodd\" fill-opacity=\"1\" /><path clip-path=\"url(#clip130)\" d=\"M 0 0 M611.261 1461.77 L623.738 1461.77 L623.738 1465.56 L611.261 1465.56 L611.261 1461.77 Z\" fill=\"#000000\" fill-rule=\"evenodd\" fill-opacity=\"1\" /><path clip-path=\"url(#clip130)\" d=\"M 0 0 M632.835 1472.72 L649.155 1472.72 L649.155 1476.65 L627.21 1476.65 L627.21 1472.72 Q629.872 1469.96 634.456 1465.33 Q639.062 1460.68 640.243 1459.34 Q642.488 1456.81 643.368 1455.08 Q644.271 1453.32 644.271 1451.63 Q644.271 1448.87 642.326 1447.14 Q640.405 1445.4 637.303 1445.4 Q635.104 1445.4 632.65 1446.17 Q630.22 1446.93 627.442 1448.48 L627.442 1443.76 Q630.266 1442.62 632.72 1442.05 Q635.173 1441.47 637.21 1441.47 Q642.581 1441.47 645.775 1444.15 Q648.97 1446.84 648.97 1451.33 Q648.97 1453.46 648.159 1455.38 Q647.372 1457.28 645.266 1459.87 Q644.687 1460.54 641.585 1463.76 Q638.484 1466.95 632.835 1472.72 Z\" fill=\"#000000\" fill-rule=\"evenodd\" fill-opacity=\"1\" /><path clip-path=\"url(#clip130)\" d=\"M 0 0 M664.224 1445.17 Q660.613 1445.17 658.784 1448.74 Q656.979 1452.28 656.979 1459.41 Q656.979 1466.51 658.784 1470.08 Q660.613 1473.62 664.224 1473.62 Q667.858 1473.62 669.664 1470.08 Q671.493 1466.51 671.493 1459.41 Q671.493 1452.28 669.664 1448.74 Q667.858 1445.17 664.224 1445.17 M664.224 1441.47 Q670.034 1441.47 673.09 1446.07 Q676.169 1450.66 676.169 1459.41 Q676.169 1468.13 673.09 1472.74 Q670.034 1477.32 664.224 1477.32 Q658.414 1477.32 655.335 1472.74 Q652.28 1468.13 652.28 1459.41 Q652.28 1450.66 655.335 1446.07 Q658.414 1441.47 664.224 1441.47 Z\" fill=\"#000000\" fill-rule=\"evenodd\" fill-opacity=\"1\" /><path clip-path=\"url(#clip130)\" d=\"M 0 0 M914.324 1461.77 L926.8 1461.77 L926.8 1465.56 L914.324 1465.56 L914.324 1461.77 Z\" fill=\"#000000\" fill-rule=\"evenodd\" fill-opacity=\"1\" /><path clip-path=\"url(#clip130)\" d=\"M 0 0 M932.68 1472.72 L940.319 1472.72 L940.319 1446.35 L932.009 1448.02 L932.009 1443.76 L940.272 1442.09 L944.948 1442.09 L944.948 1472.72 L952.587 1472.72 L952.587 1476.65 L932.68 1476.65 L932.68 1472.72 Z\" fill=\"#000000\" fill-rule=\"evenodd\" fill-opacity=\"1\" /><path clip-path=\"url(#clip130)\" d=\"M 0 0 M967.657 1445.17 Q964.045 1445.17 962.217 1448.74 Q960.411 1452.28 960.411 1459.41 Q960.411 1466.51 962.217 1470.08 Q964.045 1473.62 967.657 1473.62 Q971.291 1473.62 973.096 1470.08 Q974.925 1466.51 974.925 1459.41 Q974.925 1452.28 973.096 1448.74 Q971.291 1445.17 967.657 1445.17 M967.657 1441.47 Q973.467 1441.47 976.522 1446.07 Q979.601 1450.66 979.601 1459.41 Q979.601 1468.13 976.522 1472.74 Q973.467 1477.32 967.657 1477.32 Q961.846 1477.32 958.768 1472.74 Q955.712 1468.13 955.712 1459.41 Q955.712 1450.66 958.768 1446.07 Q961.846 1441.47 967.657 1441.47 Z\" fill=\"#000000\" fill-rule=\"evenodd\" fill-opacity=\"1\" /><path clip-path=\"url(#clip130)\" d=\"M 0 0 M1250.21 1445.17 Q1246.6 1445.17 1244.77 1448.74 Q1242.96 1452.28 1242.96 1459.41 Q1242.96 1466.51 1244.77 1470.08 Q1246.6 1473.62 1250.21 1473.62 Q1253.84 1473.62 1255.65 1470.08 Q1257.48 1466.51 1257.48 1459.41 Q1257.48 1452.28 1255.65 1448.74 Q1253.84 1445.17 1250.21 1445.17 M1250.21 1441.47 Q1256.02 1441.47 1259.08 1446.07 Q1262.15 1450.66 1262.15 1459.41 Q1262.15 1468.13 1259.08 1472.74 Q1256.02 1477.32 1250.21 1477.32 Q1244.4 1477.32 1241.32 1472.74 Q1238.27 1468.13 1238.27 1459.41 Q1238.27 1450.66 1241.32 1446.07 Q1244.4 1441.47 1250.21 1441.47 Z\" fill=\"#000000\" fill-rule=\"evenodd\" fill-opacity=\"1\" /><path clip-path=\"url(#clip130)\" d=\"M 0 0 M1530.33 1472.72 L1537.97 1472.72 L1537.97 1446.35 L1529.66 1448.02 L1529.66 1443.76 L1537.92 1442.09 L1542.6 1442.09 L1542.6 1472.72 L1550.24 1472.72 L1550.24 1476.65 L1530.33 1476.65 L1530.33 1472.72 Z\" fill=\"#000000\" fill-rule=\"evenodd\" fill-opacity=\"1\" /><path clip-path=\"url(#clip130)\" d=\"M 0 0 M1565.31 1445.17 Q1561.7 1445.17 1559.87 1448.74 Q1558.06 1452.28 1558.06 1459.41 Q1558.06 1466.51 1559.87 1470.08 Q1561.7 1473.62 1565.31 1473.62 Q1568.94 1473.62 1570.75 1470.08 Q1572.58 1466.51 1572.58 1459.41 Q1572.58 1452.28 1570.75 1448.74 Q1568.94 1445.17 1565.31 1445.17 M1565.31 1441.47 Q1571.12 1441.47 1574.17 1446.07 Q1577.25 1450.66 1577.25 1459.41 Q1577.25 1468.13 1574.17 1472.74 Q1571.12 1477.32 1565.31 1477.32 Q1559.5 1477.32 1556.42 1472.74 Q1553.36 1468.13 1553.36 1459.41 Q1553.36 1450.66 1556.42 1446.07 Q1559.5 1441.47 1565.31 1441.47 Z\" fill=\"#000000\" fill-rule=\"evenodd\" fill-opacity=\"1\" /><path clip-path=\"url(#clip130)\" d=\"M 0 0 M1837.85 1472.72 L1854.17 1472.72 L1854.17 1476.65 L1832.22 1476.65 L1832.22 1472.72 Q1834.89 1469.96 1839.47 1465.33 Q1844.08 1460.68 1845.26 1459.34 Q1847.5 1456.81 1848.38 1455.08 Q1849.29 1453.32 1849.29 1451.63 Q1849.29 1448.87 1847.34 1447.14 Q1845.42 1445.4 1842.32 1445.4 Q1840.12 1445.4 1837.66 1446.17 Q1835.23 1446.93 1832.46 1448.48 L1832.46 1443.76 Q1835.28 1442.62 1837.73 1442.05 Q1840.19 1441.47 1842.22 1441.47 Q1847.6 1441.47 1850.79 1444.15 Q1853.98 1446.84 1853.98 1451.33 Q1853.98 1453.46 1853.17 1455.38 Q1852.39 1457.28 1850.28 1459.87 Q1849.7 1460.54 1846.6 1463.76 Q1843.5 1466.95 1837.85 1472.72 Z\" fill=\"#000000\" fill-rule=\"evenodd\" fill-opacity=\"1\" /><path clip-path=\"url(#clip130)\" d=\"M 0 0 M1869.24 1445.17 Q1865.63 1445.17 1863.8 1448.74 Q1861.99 1452.28 1861.99 1459.41 Q1861.99 1466.51 1863.8 1470.08 Q1865.63 1473.62 1869.24 1473.62 Q1872.87 1473.62 1874.68 1470.08 Q1876.51 1466.51 1876.51 1459.41 Q1876.51 1452.28 1874.68 1448.74 Q1872.87 1445.17 1869.24 1445.17 M1869.24 1441.47 Q1875.05 1441.47 1878.1 1446.07 Q1881.18 1450.66 1881.18 1459.41 Q1881.18 1468.13 1878.1 1472.74 Q1875.05 1477.32 1869.24 1477.32 Q1863.43 1477.32 1860.35 1472.74 Q1857.29 1468.13 1857.29 1459.41 Q1857.29 1450.66 1860.35 1446.07 Q1863.43 1441.47 1869.24 1441.47 Z\" fill=\"#000000\" fill-rule=\"evenodd\" fill-opacity=\"1\" /><path clip-path=\"url(#clip130)\" d=\"M 0 0 M2150.69 1458.02 Q2154.05 1458.74 2155.92 1461 Q2157.82 1463.27 2157.82 1466.61 Q2157.82 1471.72 2154.3 1474.52 Q2150.78 1477.32 2144.3 1477.32 Q2142.13 1477.32 2139.81 1476.88 Q2137.52 1476.47 2135.07 1475.61 L2135.07 1471.1 Q2137.01 1472.23 2139.33 1472.81 Q2141.64 1473.39 2144.16 1473.39 Q2148.56 1473.39 2150.85 1471.65 Q2153.17 1469.92 2153.17 1466.61 Q2153.17 1463.55 2151.02 1461.84 Q2148.89 1460.1 2145.07 1460.1 L2141.04 1460.1 L2141.04 1456.26 L2145.25 1456.26 Q2148.7 1456.26 2150.53 1454.89 Q2152.36 1453.5 2152.36 1450.91 Q2152.36 1448.25 2150.46 1446.84 Q2148.59 1445.4 2145.07 1445.4 Q2143.15 1445.4 2140.95 1445.82 Q2138.75 1446.24 2136.11 1447.11 L2136.11 1442.95 Q2138.77 1442.21 2141.09 1441.84 Q2143.42 1441.47 2145.48 1441.47 Q2150.81 1441.47 2153.91 1443.9 Q2157.01 1446.3 2157.01 1450.43 Q2157.01 1453.3 2155.37 1455.29 Q2153.72 1457.25 2150.69 1458.02 Z\" fill=\"#000000\" fill-rule=\"evenodd\" fill-opacity=\"1\" /><path clip-path=\"url(#clip130)\" d=\"M 0 0 M2172.89 1445.17 Q2169.28 1445.17 2167.45 1448.74 Q2165.65 1452.28 2165.65 1459.41 Q2165.65 1466.51 2167.45 1470.08 Q2169.28 1473.62 2172.89 1473.62 Q2176.53 1473.62 2178.33 1470.08 Q2180.16 1466.51 2180.16 1459.41 Q2180.16 1452.28 2178.33 1448.74 Q2176.53 1445.17 2172.89 1445.17 M2172.89 1441.47 Q2178.7 1441.47 2181.76 1446.07 Q2184.84 1450.66 2184.84 1459.41 Q2184.84 1468.13 2181.76 1472.74 Q2178.7 1477.32 2172.89 1477.32 Q2167.08 1477.32 2164 1472.74 Q2160.95 1468.13 2160.95 1459.41 Q2160.95 1450.66 2164 1446.07 Q2167.08 1441.47 2172.89 1441.47 Z\" fill=\"#000000\" fill-rule=\"evenodd\" fill-opacity=\"1\" /><path clip-path=\"url(#clip130)\" d=\"M 0 0 M74.9365 1280.17 Q71.3254 1280.17 69.4967 1283.74 Q67.6912 1287.28 67.6912 1294.41 Q67.6912 1301.51 69.4967 1305.08 Q71.3254 1308.62 74.9365 1308.62 Q78.5707 1308.62 80.3763 1305.08 Q82.205 1301.51 82.205 1294.41 Q82.205 1287.28 80.3763 1283.74 Q78.5707 1280.17 74.9365 1280.17 M74.9365 1276.47 Q80.7467 1276.47 83.8022 1281.08 Q86.8809 1285.66 86.8809 1294.41 Q86.8809 1303.14 83.8022 1307.74 Q80.7467 1312.33 74.9365 1312.33 Q69.1264 1312.33 66.0477 1307.74 Q62.9921 1303.14 62.9921 1294.41 Q62.9921 1285.66 66.0477 1281.08 Q69.1264 1276.47 74.9365 1276.47 Z\" fill=\"#000000\" fill-rule=\"evenodd\" fill-opacity=\"1\" /><path clip-path=\"url(#clip130)\" d=\"M 0 0 M91.9503 1305.77 L96.8345 1305.77 L96.8345 1311.65 L91.9503 1311.65 L91.9503 1305.77 Z\" fill=\"#000000\" fill-rule=\"evenodd\" fill-opacity=\"1\" /><path clip-path=\"url(#clip130)\" d=\"M 0 0 M102.043 1310.94 L102.043 1306.68 Q103.802 1307.51 105.608 1307.95 Q107.413 1308.39 109.149 1308.39 Q113.779 1308.39 116.209 1305.29 Q118.663 1302.16 119.01 1295.82 Q117.668 1297.81 115.608 1298.88 Q113.547 1299.94 111.047 1299.94 Q105.862 1299.94 102.83 1296.82 Q99.8206 1293.67 99.8206 1288.23 Q99.8206 1282.9 102.969 1279.69 Q106.117 1276.47 111.348 1276.47 Q117.344 1276.47 120.492 1281.08 Q123.663 1285.66 123.663 1294.41 Q123.663 1302.58 119.774 1307.46 Q115.909 1312.33 109.358 1312.33 Q107.598 1312.33 105.793 1311.98 Q103.987 1311.63 102.043 1310.94 M111.348 1296.28 Q114.496 1296.28 116.325 1294.13 Q118.177 1291.98 118.177 1288.23 Q118.177 1284.5 116.325 1282.35 Q114.496 1280.17 111.348 1280.17 Q108.2 1280.17 106.348 1282.35 Q104.52 1284.5 104.52 1288.23 Q104.52 1291.98 106.348 1294.13 Q108.2 1296.28 111.348 1296.28 Z\" fill=\"#000000\" fill-rule=\"evenodd\" fill-opacity=\"1\" /><path clip-path=\"url(#clip130)\" d=\"M 0 0 M68.3856 1046.15 L76.0245 1046.15 L76.0245 1019.79 L67.7143 1021.45 L67.7143 1017.19 L75.9782 1015.53 L80.6541 1015.53 L80.6541 1046.15 L88.2929 1046.15 L88.2929 1050.09 L68.3856 1050.09 L68.3856 1046.15 Z\" fill=\"#000000\" fill-rule=\"evenodd\" fill-opacity=\"1\" /><path clip-path=\"url(#clip130)\" d=\"M 0 0 M93.3623 1044.21 L98.2466 1044.21 L98.2466 1050.09 L93.3623 1050.09 L93.3623 1044.21 Z\" fill=\"#000000\" fill-rule=\"evenodd\" fill-opacity=\"1\" /><path clip-path=\"url(#clip130)\" d=\"M 0 0 M107.344 1046.15 L123.663 1046.15 L123.663 1050.09 L101.719 1050.09 L101.719 1046.15 Q104.381 1043.4 108.964 1038.77 Q113.571 1034.12 114.751 1032.77 Q116.996 1030.25 117.876 1028.51 Q118.779 1026.75 118.779 1025.06 Q118.779 1022.31 116.834 1020.57 Q114.913 1018.84 111.811 1018.84 Q109.612 1018.84 107.159 1019.6 Q104.728 1020.37 101.95 1021.92 L101.95 1017.19 Q104.774 1016.06 107.228 1015.48 Q109.682 1014.9 111.719 1014.9 Q117.089 1014.9 120.283 1017.59 Q123.478 1020.27 123.478 1024.76 Q123.478 1026.89 122.668 1028.81 Q121.881 1030.71 119.774 1033.3 Q119.196 1033.98 116.094 1037.19 Q112.992 1040.39 107.344 1046.15 Z\" fill=\"#000000\" fill-rule=\"evenodd\" fill-opacity=\"1\" /><path clip-path=\"url(#clip130)\" d=\"M 0 0 M67.7838 784.586 L75.4226 784.586 L75.4226 758.22 L67.1125 759.887 L67.1125 755.627 L75.3763 753.961 L80.0522 753.961 L80.0522 784.586 L87.6911 784.586 L87.6911 788.521 L67.7838 788.521 L67.7838 784.586 Z\" fill=\"#000000\" fill-rule=\"evenodd\" fill-opacity=\"1\" /><path clip-path=\"url(#clip130)\" d=\"M 0 0 M92.7605 782.641 L97.6447 782.641 L97.6447 788.521 L92.7605 788.521 L92.7605 782.641 Z\" fill=\"#000000\" fill-rule=\"evenodd\" fill-opacity=\"1\" /><path clip-path=\"url(#clip130)\" d=\"M 0 0 M102.76 753.961 L121.117 753.961 L121.117 757.896 L107.043 757.896 L107.043 766.368 Q108.061 766.021 109.08 765.859 Q110.098 765.674 111.117 765.674 Q116.904 765.674 120.283 768.845 Q123.663 772.016 123.663 777.433 Q123.663 783.012 120.191 786.113 Q116.719 789.192 110.399 789.192 Q108.223 789.192 105.955 788.822 Q103.71 788.451 101.302 787.711 L101.302 783.012 Q103.385 784.146 105.608 784.701 Q107.83 785.257 110.307 785.257 Q114.311 785.257 116.649 783.15 Q118.987 781.044 118.987 777.433 Q118.987 773.822 116.649 771.715 Q114.311 769.609 110.307 769.609 Q108.432 769.609 106.557 770.026 Q104.705 770.442 102.76 771.322 L102.76 753.961 Z\" fill=\"#000000\" fill-rule=\"evenodd\" fill-opacity=\"1\" /><path clip-path=\"url(#clip130)\" d=\"M 0 0 M66.881 523.019 L74.5198 523.019 L74.5198 496.654 L66.2097 498.32 L66.2097 494.061 L74.4735 492.394 L79.1494 492.394 L79.1494 523.019 L86.7883 523.019 L86.7883 526.954 L66.881 526.954 L66.881 523.019 Z\" fill=\"#000000\" fill-rule=\"evenodd\" fill-opacity=\"1\" /><path clip-path=\"url(#clip130)\" d=\"M 0 0 M91.8577 521.075 L96.7419 521.075 L96.7419 526.954 L91.8577 526.954 L91.8577 521.075 Z\" fill=\"#000000\" fill-rule=\"evenodd\" fill-opacity=\"1\" /><path clip-path=\"url(#clip130)\" d=\"M 0 0 M111.811 510.542 Q108.478 510.542 106.557 512.325 Q104.659 514.107 104.659 517.232 Q104.659 520.357 106.557 522.14 Q108.478 523.922 111.811 523.922 Q115.145 523.922 117.066 522.14 Q118.987 520.334 118.987 517.232 Q118.987 514.107 117.066 512.325 Q115.168 510.542 111.811 510.542 M107.135 508.552 Q104.126 507.811 102.436 505.751 Q100.77 503.691 100.77 500.728 Q100.77 496.584 103.71 494.177 Q106.672 491.769 111.811 491.769 Q116.973 491.769 119.913 494.177 Q122.853 496.584 122.853 500.728 Q122.853 503.691 121.163 505.751 Q119.496 507.811 116.51 508.552 Q119.89 509.339 121.765 511.63 Q123.663 513.922 123.663 517.232 Q123.663 522.255 120.584 524.94 Q117.529 527.626 111.811 527.626 Q106.094 527.626 103.015 524.94 Q99.9595 522.255 99.9595 517.232 Q99.9595 513.922 101.858 511.63 Q103.756 509.339 107.135 508.552 M105.422 501.167 Q105.422 503.853 107.089 505.357 Q108.779 506.862 111.811 506.862 Q114.821 506.862 116.51 505.357 Q118.223 503.853 118.223 501.167 Q118.223 498.482 116.51 496.978 Q114.821 495.473 111.811 495.473 Q108.779 495.473 107.089 496.978 Q105.422 498.482 105.422 501.167 Z\" fill=\"#000000\" fill-rule=\"evenodd\" fill-opacity=\"1\" /><path clip-path=\"url(#clip130)\" d=\"M 0 0 M71.6032 261.453 L87.9225 261.453 L87.9225 265.388 L65.9782 265.388 L65.9782 261.453 Q68.6402 258.698 73.2236 254.068 Q77.83 249.416 79.0106 248.073 Q81.2559 245.55 82.1355 243.814 Q83.0383 242.055 83.0383 240.365 Q83.0383 237.61 81.0939 235.874 Q79.1726 234.138 76.0708 234.138 Q73.8717 234.138 71.418 234.902 Q68.9875 235.666 66.2097 237.217 L66.2097 232.495 Q69.0338 231.36 71.4875 230.782 Q73.9411 230.203 75.9782 230.203 Q81.3485 230.203 84.5429 232.888 Q87.7374 235.573 87.7374 240.064 Q87.7374 242.194 86.9272 244.115 Q86.1402 246.013 84.0337 248.606 Q83.455 249.277 80.3531 252.494 Q77.2513 255.689 71.6032 261.453 Z\" fill=\"#000000\" fill-rule=\"evenodd\" fill-opacity=\"1\" /><path clip-path=\"url(#clip130)\" d=\"M 0 0 M92.992 259.508 L97.8762 259.508 L97.8762 265.388 L92.992 265.388 L92.992 259.508 Z\" fill=\"#000000\" fill-rule=\"evenodd\" fill-opacity=\"1\" /><path clip-path=\"url(#clip130)\" d=\"M 0 0 M103.756 261.453 L111.395 261.453 L111.395 235.087 L103.085 236.754 L103.085 232.495 L111.348 230.828 L116.024 230.828 L116.024 261.453 L123.663 261.453 L123.663 265.388 L103.756 265.388 L103.756 261.453 Z\" fill=\"#000000\" fill-rule=\"evenodd\" fill-opacity=\"1\" /><path clip-path=\"url(#clip130)\" d=\"M 0 0 M1232.04 1508.52 L1238.94 1508.52 L1250.75 1526.19 L1262.62 1508.52 L1269.53 1508.52 L1254.25 1531.34 L1270.55 1556.04 L1263.64 1556.04 L1250.27 1535.83 L1236.81 1556.04 L1229.87 1556.04 L1246.84 1530.68 L1232.04 1508.52 Z\" fill=\"#000000\" fill-rule=\"evenodd\" fill-opacity=\"1\" /><polyline clip-path=\"url(#clip132)\" style=\"stroke:#009af9; stroke-width:8; stroke-opacity:1; fill:none\" points=\"\n",
       "  210.071,1207.18 252.526,1207.2 294.981,1207.21 337.435,1207.22 379.89,1207.23 422.344,1207.24 464.799,1207.25 507.254,1207.26 549.708,1207.27 592.163,1207.28 \n",
       "  634.618,1207.29 677.072,1207.29 719.527,1207.28 761.981,1207.25 804.436,1207.16 846.891,1206.94 889.345,1206.4 931.8,1205.07 974.254,1201.85 1016.71,1194.06 \n",
       "  1059.16,1175.42 1101.62,1132.64 1144.07,1043.47 1186.53,888.846 1228.98,683.655 1271.44,480.335 1313.89,323.638 1356.35,223.061 1398.8,165.994 1441.26,136.324 \n",
       "  1483.71,122.002 1526.16,115.577 1568.62,112.798 1611.07,111.367 1653.53,110.093 1695.98,108.432 1738.44,106.219 1780.89,103.517 1823.35,100.516 1865.8,97.4468 \n",
       "  1908.26,94.5354 1950.71,91.9644 1993.17,89.8555 2035.62,88.2571 2078.07,87.1623 2120.53,86.5216 2162.98,86.2593 2205.44,86.3089 2247.89,86.6952 2290.35,86.1857 \n",
       "  \n",
       "  \"/>\n",
       "<polyline clip-path=\"url(#clip132)\" style=\"stroke:#e26f46; stroke-width:8; stroke-opacity:1; fill:none\" points=\"\n",
       "  210.071,487.23 252.526,487.199 294.981,487.179 337.435,487.163 379.89,487.148 422.344,487.128 464.799,487.106 507.254,487.09 549.708,487.068 592.163,487.048 \n",
       "  634.618,487.034 677.072,487.026 719.527,487.032 761.981,487.08 804.436,487.217 846.891,487.576 889.345,488.459 931.8,490.622 974.254,495.868 1016.71,508.452 \n",
       "  1059.16,537.743 1101.62,601.063 1144.07,718.097 1186.53,884.492 1228.98,1056.29 1271.44,1190.29 1313.89,1276.75 1356.35,1326.65 1398.8,1353.72 1441.26,1367.91 \n",
       "  1483.71,1375.24 1526.16,1379.05 1568.62,1381.08 1611.07,1382.22 1653.53,1382.93 1695.98,1383.4 1738.44,1383.74 1780.89,1383.97 1823.35,1384.12 1865.8,1384.21 \n",
       "  1908.26,1384.24 1950.71,1384.23 1993.17,1384.21 2035.62,1384.18 2078.07,1384.16 2120.53,1384.14 2162.98,1384.12 2205.44,1384.1 2247.89,1384.02 2290.35,1382.64 \n",
       "  \n",
       "  \"/>\n",
       "<polyline clip-path=\"url(#clip132)\" style=\"stroke:#3da44d; stroke-width:8; stroke-opacity:1; fill:none\" points=\"\n",
       "  210.071,1207.18 252.526,1205.37 294.981,1205.34 337.435,1205.35 379.89,1205.37 422.344,1205.42 464.799,1205.46 507.254,1205.51 549.708,1205.56 592.163,1205.61 \n",
       "  634.618,1205.66 677.072,1205.7 719.527,1205.72 761.981,1205.68 804.436,1205.51 846.891,1205 889.345,1203.69 931.8,1200.45 974.254,1192.55 1016.71,1173.67 \n",
       "  1059.16,1130.43 1101.62,1040.32 1144.07,885.846 1186.53,691.916 1228.98,520.553 1271.44,404.305 1313.89,335.526 1356.35,296.969 1398.8,275.516 1441.26,263.272 \n",
       "  1483.71,255.991 1526.16,251.525 1568.62,248.874 1611.07,247.616 1653.53,247.542 1695.98,248.515 1738.44,250.354 1780.89,252.838 1823.35,255.718 1865.8,258.721 \n",
       "  1908.26,261.604 1950.71,264.182 1993.17,266.344 2035.62,268.037 2078.07,269.239 2120.53,270.02 2162.98,270.433 2205.44,270.536 2247.89,270.298 2290.35,267.18 \n",
       "  \n",
       "  \"/>\n",
       "<path clip-path=\"url(#clip130)\" d=\"\n",
       "M1764.11 372.684 L2280.76 372.684 L2280.76 130.764 L1764.11 130.764  Z\n",
       "  \" fill=\"#ffffff\" fill-rule=\"evenodd\" fill-opacity=\"1\"/>\n",
       "<polyline clip-path=\"url(#clip130)\" style=\"stroke:#000000; stroke-width:4; stroke-opacity:1; fill:none\" points=\"\n",
       "  1764.11,372.684 2280.76,372.684 2280.76,130.764 1764.11,130.764 1764.11,372.684 \n",
       "  \"/>\n",
       "<polyline clip-path=\"url(#clip130)\" style=\"stroke:#009af9; stroke-width:4; stroke-opacity:1; fill:none\" points=\"\n",
       "  1788.11,191.244 1932.11,191.244 \n",
       "  \"/>\n",
       "<path clip-path=\"url(#clip130)\" d=\"M 0 0 M1960.79 177.807 L1960.79 204.682 L1966.44 204.682 Q1973.59 204.682 1976.9 201.441 Q1980.23 198.2 1980.23 191.209 Q1980.23 184.265 1976.9 181.047 Q1973.59 177.807 1966.44 177.807 L1960.79 177.807 M1956.11 173.964 L1965.72 173.964 Q1975.77 173.964 1980.47 178.154 Q1985.16 182.321 1985.16 191.209 Q1985.16 200.145 1980.44 204.334 Q1975.72 208.524 1965.72 208.524 L1956.11 208.524 L1956.11 173.964 Z\" fill=\"#000000\" fill-rule=\"evenodd\" fill-opacity=\"1\" /><path clip-path=\"url(#clip130)\" d=\"M 0 0 M2011.81 194.496 L2011.81 196.58 L1992.22 196.58 Q1992.5 200.978 1994.86 203.293 Q1997.25 205.584 2001.48 205.584 Q2003.94 205.584 2006.23 204.982 Q2008.54 204.381 2010.81 203.177 L2010.81 207.205 Q2008.52 208.177 2006.11 208.686 Q2003.71 209.195 2001.23 209.195 Q1995.03 209.195 1991.39 205.584 Q1987.78 201.973 1987.78 195.816 Q1987.78 189.45 1991.21 185.723 Q1994.66 181.973 2000.49 181.973 Q2005.72 181.973 2008.75 185.353 Q2011.81 188.709 2011.81 194.496 M2007.55 193.246 Q2007.5 189.751 2005.58 187.668 Q2003.68 185.584 2000.53 185.584 Q1996.97 185.584 1994.82 187.598 Q1992.69 189.612 1992.36 193.27 L2007.55 193.246 Z\" fill=\"#000000\" fill-rule=\"evenodd\" fill-opacity=\"1\" /><path clip-path=\"url(#clip130)\" d=\"M 0 0 M2037.83 192.876 L2037.83 208.524 L2033.57 208.524 L2033.57 193.015 Q2033.57 189.334 2032.13 187.506 Q2030.7 185.677 2027.83 185.677 Q2024.38 185.677 2022.39 187.876 Q2020.4 190.075 2020.4 193.871 L2020.4 208.524 L2016.11 208.524 L2016.11 182.598 L2020.4 182.598 L2020.4 186.626 Q2021.92 184.288 2023.98 183.131 Q2026.07 181.973 2028.78 181.973 Q2033.24 181.973 2035.53 184.751 Q2037.83 187.506 2037.83 192.876 Z\" fill=\"#000000\" fill-rule=\"evenodd\" fill-opacity=\"1\" /><path clip-path=\"url(#clip130)\" d=\"M 0 0 M2058.82 183.362 L2058.82 187.39 Q2057.02 186.464 2055.07 186.001 Q2053.13 185.538 2051.04 185.538 Q2047.87 185.538 2046.28 186.51 Q2044.7 187.483 2044.7 189.427 Q2044.7 190.908 2045.84 191.765 Q2046.97 192.598 2050.4 193.362 L2051.85 193.686 Q2056.39 194.658 2058.29 196.441 Q2060.21 198.2 2060.21 201.371 Q2060.21 204.982 2057.34 207.089 Q2054.49 209.195 2049.49 209.195 Q2047.41 209.195 2045.14 208.779 Q2042.9 208.385 2040.4 207.575 L2040.4 203.177 Q2042.76 204.404 2045.05 205.029 Q2047.34 205.631 2049.59 205.631 Q2052.59 205.631 2054.22 204.612 Q2055.84 203.57 2055.84 201.695 Q2055.84 199.959 2054.66 199.033 Q2053.5 198.107 2049.54 197.251 L2048.06 196.904 Q2044.1 196.07 2042.34 194.358 Q2040.58 192.621 2040.58 189.612 Q2040.58 185.955 2043.17 183.964 Q2045.77 181.973 2050.53 181.973 Q2052.9 181.973 2054.98 182.321 Q2057.06 182.668 2058.82 183.362 Z\" fill=\"#000000\" fill-rule=\"evenodd\" fill-opacity=\"1\" /><path clip-path=\"url(#clip130)\" d=\"M 0 0 M2064.68 182.598 L2068.94 182.598 L2068.94 208.524 L2064.68 208.524 L2064.68 182.598 M2064.68 172.506 L2068.94 172.506 L2068.94 177.899 L2064.68 177.899 L2064.68 172.506 Z\" fill=\"#000000\" fill-rule=\"evenodd\" fill-opacity=\"1\" /><path clip-path=\"url(#clip130)\" d=\"M 0 0 M2077.62 175.237 L2077.62 182.598 L2086.39 182.598 L2086.39 185.908 L2077.62 185.908 L2077.62 199.982 Q2077.62 203.154 2078.47 204.057 Q2079.35 204.959 2082.02 204.959 L2086.39 204.959 L2086.39 208.524 L2082.02 208.524 Q2077.09 208.524 2075.21 206.695 Q2073.34 204.844 2073.34 199.982 L2073.34 185.908 L2070.21 185.908 L2070.21 182.598 L2073.34 182.598 L2073.34 175.237 L2077.62 175.237 Z\" fill=\"#000000\" fill-rule=\"evenodd\" fill-opacity=\"1\" /><path clip-path=\"url(#clip130)\" d=\"M 0 0 M2101.65 210.931 Q2099.84 215.561 2098.13 216.973 Q2096.41 218.385 2093.54 218.385 L2090.14 218.385 L2090.14 214.82 L2092.64 214.82 Q2094.4 214.82 2095.37 213.987 Q2096.34 213.154 2097.53 210.052 L2098.29 208.107 L2087.8 182.598 L2092.32 182.598 L2100.42 202.876 L2108.52 182.598 L2113.03 182.598 L2101.65 210.931 Z\" fill=\"#000000\" fill-rule=\"evenodd\" fill-opacity=\"1\" /><polyline clip-path=\"url(#clip130)\" style=\"stroke:#e26f46; stroke-width:4; stroke-opacity:1; fill:none\" points=\"\n",
       "  1788.11,251.724 1932.11,251.724 \n",
       "  \"/>\n",
       "<path clip-path=\"url(#clip130)\" d=\"M 0 0 M1969.31 269.004 L1956.11 234.444 L1961 234.444 L1971.95 263.541 L1982.92 234.444 L1987.78 234.444 L1974.61 269.004 L1969.31 269.004 Z\" fill=\"#000000\" fill-rule=\"evenodd\" fill-opacity=\"1\" /><path clip-path=\"url(#clip130)\" d=\"M 0 0 M2010.74 254.976 L2010.74 257.06 L1991.16 257.06 Q1991.44 261.458 1993.8 263.773 Q1996.18 266.064 2000.42 266.064 Q2002.87 266.064 2005.16 265.462 Q2007.48 264.861 2009.75 263.657 L2009.75 267.685 Q2007.46 268.657 2005.05 269.166 Q2002.64 269.675 2000.16 269.675 Q1993.96 269.675 1990.33 266.064 Q1986.72 262.453 1986.72 256.296 Q1986.72 249.93 1990.14 246.203 Q1993.59 242.453 1999.42 242.453 Q2004.66 242.453 2007.69 245.833 Q2010.74 249.189 2010.74 254.976 M2006.48 253.726 Q2006.44 250.231 2004.52 248.148 Q2002.62 246.064 1999.47 246.064 Q1995.91 246.064 1993.75 248.078 Q1991.62 250.092 1991.3 253.75 L2006.48 253.726 Z\" fill=\"#000000\" fill-rule=\"evenodd\" fill-opacity=\"1\" /><path clip-path=\"url(#clip130)\" d=\"M 0 0 M2015.21 232.986 L2019.47 232.986 L2019.47 269.004 L2015.21 269.004 L2015.21 232.986 Z\" fill=\"#000000\" fill-rule=\"evenodd\" fill-opacity=\"1\" /><path clip-path=\"url(#clip130)\" d=\"M 0 0 M2033.98 246.064 Q2030.56 246.064 2028.57 248.75 Q2026.58 251.412 2026.58 256.064 Q2026.58 260.717 2028.54 263.402 Q2030.53 266.064 2033.98 266.064 Q2037.39 266.064 2039.38 263.379 Q2041.37 260.694 2041.37 256.064 Q2041.37 251.458 2039.38 248.773 Q2037.39 246.064 2033.98 246.064 M2033.98 242.453 Q2039.54 242.453 2042.71 246.064 Q2045.88 249.675 2045.88 256.064 Q2045.88 262.43 2042.71 266.064 Q2039.54 269.675 2033.98 269.675 Q2028.41 269.675 2025.23 266.064 Q2022.09 262.43 2022.09 256.064 Q2022.09 249.675 2025.23 246.064 Q2028.41 242.453 2033.98 242.453 Z\" fill=\"#000000\" fill-rule=\"evenodd\" fill-opacity=\"1\" /><path clip-path=\"url(#clip130)\" d=\"M 0 0 M2069.01 244.074 L2069.01 248.055 Q2067.2 247.06 2065.37 246.574 Q2063.57 246.064 2061.72 246.064 Q2057.57 246.064 2055.28 248.703 Q2052.99 251.319 2052.99 256.064 Q2052.99 260.81 2055.28 263.449 Q2057.57 266.064 2061.72 266.064 Q2063.57 266.064 2065.37 265.578 Q2067.2 265.069 2069.01 264.074 L2069.01 268.009 Q2067.22 268.842 2065.3 269.259 Q2063.4 269.675 2061.25 269.675 Q2055.4 269.675 2051.95 265.995 Q2048.5 262.314 2048.5 256.064 Q2048.5 249.722 2051.97 246.088 Q2055.47 242.453 2061.53 242.453 Q2063.5 242.453 2065.37 242.87 Q2067.25 243.263 2069.01 244.074 Z\" fill=\"#000000\" fill-rule=\"evenodd\" fill-opacity=\"1\" /><path clip-path=\"url(#clip130)\" d=\"M 0 0 M2073.47 243.078 L2077.73 243.078 L2077.73 269.004 L2073.47 269.004 L2073.47 243.078 M2073.47 232.986 L2077.73 232.986 L2077.73 238.379 L2073.47 238.379 L2073.47 232.986 Z\" fill=\"#000000\" fill-rule=\"evenodd\" fill-opacity=\"1\" /><path clip-path=\"url(#clip130)\" d=\"M 0 0 M2086.41 235.717 L2086.41 243.078 L2095.19 243.078 L2095.19 246.388 L2086.41 246.388 L2086.41 260.462 Q2086.41 263.634 2087.27 264.537 Q2088.15 265.439 2090.81 265.439 L2095.19 265.439 L2095.19 269.004 L2090.81 269.004 Q2085.88 269.004 2084.01 267.175 Q2082.13 265.324 2082.13 260.462 L2082.13 246.388 L2079.01 246.388 L2079.01 243.078 L2082.13 243.078 L2082.13 235.717 L2086.41 235.717 Z\" fill=\"#000000\" fill-rule=\"evenodd\" fill-opacity=\"1\" /><path clip-path=\"url(#clip130)\" d=\"M 0 0 M2110.44 271.411 Q2108.64 276.041 2106.92 277.453 Q2105.21 278.865 2102.34 278.865 L2098.94 278.865 L2098.94 275.3 L2101.44 275.3 Q2103.2 275.3 2104.17 274.467 Q2105.14 273.634 2106.32 270.532 L2107.09 268.587 L2096.6 243.078 L2101.11 243.078 L2109.21 263.356 L2117.32 243.078 L2121.83 243.078 L2110.44 271.411 Z\" fill=\"#000000\" fill-rule=\"evenodd\" fill-opacity=\"1\" /><polyline clip-path=\"url(#clip130)\" style=\"stroke:#3da44d; stroke-width:4; stroke-opacity:1; fill:none\" points=\"\n",
       "  1788.11,312.204 1932.11,312.204 \n",
       "  \"/>\n",
       "<path clip-path=\"url(#clip130)\" d=\"M 0 0 M1956.11 294.924 L1985.35 294.924 L1985.35 298.859 L1973.08 298.859 L1973.08 329.484 L1968.38 329.484 L1968.38 298.859 L1956.11 298.859 L1956.11 294.924 Z\" fill=\"#000000\" fill-rule=\"evenodd\" fill-opacity=\"1\" /><path clip-path=\"url(#clip130)\" d=\"M 0 0 M2003.94 315.456 L2003.94 317.54 L1984.35 317.54 Q1984.63 321.938 1986.99 324.253 Q1989.38 326.544 1993.61 326.544 Q1996.07 326.544 1998.36 325.942 Q2000.67 325.341 2002.94 324.137 L2002.94 328.165 Q2000.65 329.137 1998.24 329.646 Q1995.84 330.155 1993.36 330.155 Q1987.16 330.155 1983.52 326.544 Q1979.91 322.933 1979.91 316.776 Q1979.91 310.41 1983.34 306.683 Q1986.79 302.933 1992.62 302.933 Q1997.85 302.933 2000.88 306.313 Q2003.94 309.669 2003.94 315.456 M1999.68 314.206 Q1999.63 310.711 1997.71 308.628 Q1995.81 306.544 1992.66 306.544 Q1989.1 306.544 1986.95 308.558 Q1984.82 310.572 1984.49 314.23 L1999.68 314.206 Z\" fill=\"#000000\" fill-rule=\"evenodd\" fill-opacity=\"1\" /><path clip-path=\"url(#clip130)\" d=\"M 0 0 M2028.59 308.535 Q2030.19 305.665 2032.41 304.299 Q2034.63 302.933 2037.64 302.933 Q2041.69 302.933 2043.89 305.781 Q2046.09 308.605 2046.09 313.836 L2046.09 329.484 L2041.81 329.484 L2041.81 313.975 Q2041.81 310.248 2040.49 308.443 Q2039.17 306.637 2036.46 306.637 Q2033.15 306.637 2031.23 308.836 Q2029.31 311.035 2029.31 314.831 L2029.31 329.484 L2025.03 329.484 L2025.03 313.975 Q2025.03 310.225 2023.71 308.443 Q2022.39 306.637 2019.63 306.637 Q2016.37 306.637 2014.45 308.859 Q2012.53 311.058 2012.53 314.831 L2012.53 329.484 L2008.24 329.484 L2008.24 303.558 L2012.53 303.558 L2012.53 307.586 Q2013.98 305.202 2016.02 304.068 Q2018.06 302.933 2020.86 302.933 Q2023.68 302.933 2025.65 304.368 Q2027.64 305.804 2028.59 308.535 Z\" fill=\"#000000\" fill-rule=\"evenodd\" fill-opacity=\"1\" /><path clip-path=\"url(#clip130)\" d=\"M 0 0 M2054.68 325.595 L2054.68 339.345 L2050.4 339.345 L2050.4 303.558 L2054.68 303.558 L2054.68 307.493 Q2056.02 305.179 2058.06 304.068 Q2060.12 302.933 2062.97 302.933 Q2067.69 302.933 2070.63 306.683 Q2073.59 310.433 2073.59 316.544 Q2073.59 322.655 2070.63 326.405 Q2067.69 330.155 2062.97 330.155 Q2060.12 330.155 2058.06 329.044 Q2056.02 327.91 2054.68 325.595 M2069.17 316.544 Q2069.17 311.845 2067.22 309.183 Q2065.3 306.498 2061.92 306.498 Q2058.54 306.498 2056.6 309.183 Q2054.68 311.845 2054.68 316.544 Q2054.68 321.243 2056.6 323.929 Q2058.54 326.591 2061.92 326.591 Q2065.3 326.591 2067.22 323.929 Q2069.17 321.243 2069.17 316.544 Z\" fill=\"#000000\" fill-rule=\"evenodd\" fill-opacity=\"1\" /><path clip-path=\"url(#clip130)\" d=\"M 0 0 M2100.23 315.456 L2100.23 317.54 L2080.65 317.54 Q2080.93 321.938 2083.29 324.253 Q2085.67 326.544 2089.91 326.544 Q2092.36 326.544 2094.65 325.942 Q2096.97 325.341 2099.24 324.137 L2099.24 328.165 Q2096.95 329.137 2094.54 329.646 Q2092.13 330.155 2089.65 330.155 Q2083.45 330.155 2079.82 326.544 Q2076.21 322.933 2076.21 316.776 Q2076.21 310.41 2079.63 306.683 Q2083.08 302.933 2088.91 302.933 Q2094.15 302.933 2097.18 306.313 Q2100.23 309.669 2100.23 315.456 M2095.97 314.206 Q2095.93 310.711 2094.01 308.628 Q2092.11 306.544 2088.96 306.544 Q2085.4 306.544 2083.24 308.558 Q2081.11 310.572 2080.79 314.23 L2095.97 314.206 Z\" fill=\"#000000\" fill-rule=\"evenodd\" fill-opacity=\"1\" /><path clip-path=\"url(#clip130)\" d=\"M 0 0 M2119.72 307.54 Q2119.01 307.123 2118.15 306.938 Q2117.32 306.73 2116.3 306.73 Q2112.69 306.73 2110.74 309.091 Q2108.82 311.429 2108.82 315.827 L2108.82 329.484 L2104.54 329.484 L2104.54 303.558 L2108.82 303.558 L2108.82 307.586 Q2110.16 305.225 2112.32 304.091 Q2114.47 302.933 2117.55 302.933 Q2117.99 302.933 2118.52 303.003 Q2119.05 303.049 2119.7 303.165 L2119.72 307.54 Z\" fill=\"#000000\" fill-rule=\"evenodd\" fill-opacity=\"1\" /><path clip-path=\"url(#clip130)\" d=\"M 0 0 M2135.97 316.452 Q2130.81 316.452 2128.82 317.632 Q2126.83 318.813 2126.83 321.66 Q2126.83 323.929 2128.31 325.271 Q2129.82 326.591 2132.39 326.591 Q2135.93 326.591 2138.06 324.091 Q2140.21 321.567 2140.21 317.401 L2140.21 316.452 L2135.97 316.452 M2144.47 314.693 L2144.47 329.484 L2140.21 329.484 L2140.21 325.549 Q2138.75 327.91 2136.58 329.044 Q2134.4 330.155 2131.25 330.155 Q2127.27 330.155 2124.91 327.933 Q2122.57 325.688 2122.57 321.938 Q2122.57 317.563 2125.49 315.341 Q2128.43 313.118 2134.24 313.118 L2140.21 313.118 L2140.21 312.702 Q2140.21 309.762 2138.27 308.165 Q2136.34 306.544 2132.85 306.544 Q2130.63 306.544 2128.52 307.077 Q2126.41 307.609 2124.47 308.674 L2124.47 304.739 Q2126.81 303.836 2129.01 303.396 Q2131.21 302.933 2133.29 302.933 Q2138.91 302.933 2141.69 305.85 Q2144.47 308.767 2144.47 314.693 Z\" fill=\"#000000\" fill-rule=\"evenodd\" fill-opacity=\"1\" /><path clip-path=\"url(#clip130)\" d=\"M 0 0 M2153.15 296.197 L2153.15 303.558 L2161.92 303.558 L2161.92 306.868 L2153.15 306.868 L2153.15 320.942 Q2153.15 324.114 2154.01 325.017 Q2154.89 325.919 2157.55 325.919 L2161.92 325.919 L2161.92 329.484 L2157.55 329.484 Q2152.62 329.484 2150.74 327.655 Q2148.87 325.804 2148.87 320.942 L2148.87 306.868 L2145.74 306.868 L2145.74 303.558 L2148.87 303.558 L2148.87 296.197 L2153.15 296.197 Z\" fill=\"#000000\" fill-rule=\"evenodd\" fill-opacity=\"1\" /><path clip-path=\"url(#clip130)\" d=\"M 0 0 M2165.95 319.253 L2165.95 303.558 L2170.21 303.558 L2170.21 319.091 Q2170.21 322.771 2171.65 324.623 Q2173.08 326.452 2175.95 326.452 Q2179.4 326.452 2181.39 324.253 Q2183.4 322.054 2183.4 318.257 L2183.4 303.558 L2187.66 303.558 L2187.66 329.484 L2183.4 329.484 L2183.4 325.503 Q2181.85 327.864 2179.79 329.021 Q2177.76 330.155 2175.05 330.155 Q2170.58 330.155 2168.27 327.378 Q2165.95 324.6 2165.95 319.253 M2176.67 302.933 L2176.67 302.933 Z\" fill=\"#000000\" fill-rule=\"evenodd\" fill-opacity=\"1\" /><path clip-path=\"url(#clip130)\" d=\"M 0 0 M2207.15 307.54 Q2206.44 307.123 2205.58 306.938 Q2204.75 306.73 2203.73 306.73 Q2200.12 306.73 2198.17 309.091 Q2196.25 311.429 2196.25 315.827 L2196.25 329.484 L2191.97 329.484 L2191.97 303.558 L2196.25 303.558 L2196.25 307.586 Q2197.59 305.225 2199.75 304.091 Q2201.9 302.933 2204.98 302.933 Q2205.42 302.933 2205.95 303.003 Q2206.48 303.049 2207.13 303.165 L2207.15 307.54 Z\" fill=\"#000000\" fill-rule=\"evenodd\" fill-opacity=\"1\" /><path clip-path=\"url(#clip130)\" d=\"M 0 0 M2232.76 315.456 L2232.76 317.54 L2213.17 317.54 Q2213.45 321.938 2215.81 324.253 Q2218.2 326.544 2222.43 326.544 Q2224.89 326.544 2227.18 325.942 Q2229.49 325.341 2231.76 324.137 L2231.76 328.165 Q2229.47 329.137 2227.06 329.646 Q2224.65 330.155 2222.18 330.155 Q2215.97 330.155 2212.34 326.544 Q2208.73 322.933 2208.73 316.776 Q2208.73 310.41 2212.15 306.683 Q2215.6 302.933 2221.44 302.933 Q2226.67 302.933 2229.7 306.313 Q2232.76 309.669 2232.76 315.456 M2228.5 314.206 Q2228.45 310.711 2226.53 308.628 Q2224.63 306.544 2221.48 306.544 Q2217.92 306.544 2215.77 308.558 Q2213.64 310.572 2213.31 314.23 L2228.5 314.206 Z\" fill=\"#000000\" fill-rule=\"evenodd\" fill-opacity=\"1\" /></svg>\n"
      ]
     },
     "metadata": {},
     "output_type": "display_data"
    }
   ],
   "source": [
    "plot_line(ks, ctr)"
   ]
  },
  {
   "cell_type": "code",
   "execution_count": null,
   "metadata": {},
   "outputs": [],
   "source": []
  },
  {
   "cell_type": "code",
   "execution_count": null,
   "metadata": {},
   "outputs": [],
   "source": []
  }
 ],
 "metadata": {
  "kernelspec": {
   "display_name": "Julia 1.4.2",
   "language": "julia",
   "name": "julia-1.4"
  },
  "language_info": {
   "file_extension": ".jl",
   "mimetype": "application/julia",
   "name": "julia",
   "version": "1.4.2"
  }
 },
 "nbformat": 4,
 "nbformat_minor": 4
}
