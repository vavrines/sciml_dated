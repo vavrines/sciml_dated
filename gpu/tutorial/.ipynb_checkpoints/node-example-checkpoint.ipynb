{
 "cells": [
  {
   "cell_type": "code",
   "execution_count": 1,
   "metadata": {},
   "outputs": [],
   "source": [
    "using DiffEqFlux, OrdinaryDiffEq, Flux, Optim, Plots, CUDA, DiffEqSensitivity\n",
    "CUDA.allowscalar(false) # make sure no slow operations are occuring"
   ]
  },
  {
   "cell_type": "code",
   "execution_count": 2,
   "metadata": {},
   "outputs": [
    {
     "data": {
      "text/plain": [
       "retcode: Success\n",
       "Interpolation: 1st order linear\n",
       "t: 30-element Vector{Float32}:\n",
       " 0.0\n",
       " 0.05172414\n",
       " 0.10344828\n",
       " 0.15517241\n",
       " 0.20689656\n",
       " 0.25862068\n",
       " 0.31034482\n",
       " 0.36206895\n",
       " 0.41379312\n",
       " 0.46551725\n",
       " 0.51724136\n",
       " 0.5689655\n",
       " 0.62068963\n",
       " ⋮\n",
       " 0.9310345\n",
       " 0.98275864\n",
       " 1.0344827\n",
       " 1.0862069\n",
       " 1.137931\n",
       " 1.1896552\n",
       " 1.2413793\n",
       " 1.2931035\n",
       " 1.3448275\n",
       " 1.3965517\n",
       " 1.4482758\n",
       " 1.5\n",
       "u: 30-element Vector{Vector{Float32}}:\n",
       " [2.0, 0.0]\n",
       " [1.9465026, 0.79883134]\n",
       " [1.7417794, 1.4647331]\n",
       " [1.238371, 1.8087713]\n",
       " [0.57712454, 1.8646537]\n",
       " [-0.079902135, 1.8360975]\n",
       " [-0.7010993, 1.7947615]\n",
       " [-1.2428592, 1.6619918]\n",
       " [-1.5910541, 1.3320199]\n",
       " [-1.7101332, 0.8458124]\n",
       " [-1.7087523, 0.32341707]\n",
       " [-1.6840444, -0.18172225]\n",
       " [-1.6495285, -0.6622285]\n",
       " ⋮\n",
       " [0.21682107, -1.5469344]\n",
       " [0.59058064, -1.5198175]\n",
       " [0.93187714, -1.4543028]\n",
       " [1.2036229, -1.3096944]\n",
       " [1.3721306, -1.074058]\n",
       " [1.4424044, -0.77783185]\n",
       " [1.4524033, -0.46053776]\n",
       " [1.4403231, -0.14680962]\n",
       " [1.4251611, 0.15737642]\n",
       " [1.4068798, 0.4513673]\n",
       " [1.3702322, 0.72869205]\n",
       " [1.2921486, 0.9720951]"
      ]
     },
     "execution_count": 2,
     "metadata": {},
     "output_type": "execute_result"
    }
   ],
   "source": [
    "# Generate Dataset\n",
    "u0 = Float32[2.0; 0.0]\n",
    "datasize = 30\n",
    "tspan = (0.0f0, 1.5f0)\n",
    "tsteps = range(tspan[1], tspan[2], length = datasize)\n",
    "function trueODEfunc(du, u, p, t)\n",
    "    true_A = [-0.1 2.0; -2.0 -0.1]\n",
    "    du .= ((u.^3)'true_A)'\n",
    "end\n",
    "prob_trueode = ODEProblem(trueODEfunc, u0, tspan)\n",
    "# Make the data into a GPU-based array if the user has a GPU\n",
    "ode_data = solve(prob_trueode, Tsit5(), saveat = tsteps)"
   ]
  },
  {
   "cell_type": "code",
   "execution_count": 3,
   "metadata": {},
   "outputs": [
    {
     "data": {
      "text/plain": [
       "2×30 CuArray{Float32, 2}:\n",
       " 2.0  1.9465    1.74178  1.23837  0.577125  …  1.40688   1.37023   1.29215\n",
       " 0.0  0.798831  1.46473  1.80877  1.86465      0.451367  0.728692  0.972095"
      ]
     },
     "execution_count": 3,
     "metadata": {},
     "output_type": "execute_result"
    }
   ],
   "source": [
    "ode_data = gpu(ode_data)"
   ]
  },
  {
   "cell_type": "code",
   "execution_count": 4,
   "metadata": {},
   "outputs": [
    {
     "data": {
      "text/plain": [
       "(::NeuralODE{FastChain{Tuple{var\"#1#2\", FastDense{typeof(tanh), DiffEqFlux.var\"#initial_params#73\"{Vector{Float32}}}, FastDense{typeof(identity), DiffEqFlux.var\"#initial_params#73\"{Vector{Float32}}}}}, Vector{Float32}, Nothing, Tuple{Float32, Float32}, Tuple{Tsit5}, Base.Iterators.Pairs{Symbol, StepRangeLen{Float32, Float64, Float64}, Tuple{Symbol}, NamedTuple{(:saveat,), Tuple{StepRangeLen{Float32, Float64, Float64}}}}}) (generic function with 4 methods)"
      ]
     },
     "execution_count": 4,
     "metadata": {},
     "output_type": "execute_result"
    }
   ],
   "source": [
    "dudt2 = FastChain((x, p) -> x.^3,\n",
    "                  FastDense(2, 50, tanh),\n",
    "                  FastDense(50, 2))\n",
    "u0 = Float32[2.0; 0.0] |> gpu\n",
    "p = initial_params(dudt2) |> gpu\n",
    "prob_neuralode = NeuralODE(dudt2, tspan, Tsit5(), saveat = tsteps)"
   ]
  },
  {
   "cell_type": "code",
   "execution_count": 5,
   "metadata": {},
   "outputs": [
    {
     "data": {
      "text/plain": [
       "2-element CuArray{Float32, 1}:\n",
       " 2.0\n",
       " 0.0"
      ]
     },
     "execution_count": 5,
     "metadata": {},
     "output_type": "execute_result"
    }
   ],
   "source": [
    "u0"
   ]
  },
  {
   "cell_type": "code",
   "execution_count": 6,
   "metadata": {},
   "outputs": [
    {
     "data": {
      "text/plain": [
       "loss_neuralode (generic function with 1 method)"
      ]
     },
     "execution_count": 6,
     "metadata": {},
     "output_type": "execute_result"
    }
   ],
   "source": [
    "function predict_neuralode(p)\n",
    "    gpu(prob_neuralode(u0,p))\n",
    "end\n",
    "\n",
    "function loss_neuralode(p)\n",
    "    pred = predict_neuralode(p)\n",
    "    loss = sum(abs2, ode_data .- pred)\n",
    "    return loss, pred\n",
    "end"
   ]
  },
  {
   "cell_type": "code",
   "execution_count": 7,
   "metadata": {},
   "outputs": [
    {
     "data": {
      "text/plain": [
       "#3 (generic function with 1 method)"
      ]
     },
     "execution_count": 7,
     "metadata": {},
     "output_type": "execute_result"
    }
   ],
   "source": [
    "list_plots = []\n",
    "iter = 0\n",
    "callback = function (p, l, pred; doplot = false)\n",
    "    global list_plots, iter\n",
    "    if iter == 0\n",
    "        list_plots = []\n",
    "    end\n",
    "    iter += 1\n",
    "    display(l)\n",
    "    # plot current prediction against data\n",
    "    plt = scatter(tsteps, Array(ode_data[1,:]), label = \"data\")\n",
    "    scatter!(plt, tsteps, Array(pred[1,:]), label = \"prediction\")\n",
    "    push!(list_plots, plt)\n",
    "    if doplot\n",
    "        display(plot(plt))\n",
    "    end\n",
    "    return false\n",
    "end"
   ]
  },
  {
   "cell_type": "code",
   "execution_count": 8,
   "metadata": {
    "scrolled": true
   },
   "outputs": [
    {
     "data": {
      "text/plain": [
       "162.26103f0"
      ]
     },
     "metadata": {},
     "output_type": "display_data"
    },
    {
     "data": {
      "text/plain": [
       "118.42401f0"
      ]
     },
     "metadata": {},
     "output_type": "display_data"
    },
    {
     "data": {
      "text/plain": [
       "106.960815f0"
      ]
     },
     "metadata": {},
     "output_type": "display_data"
    },
    {
     "data": {
      "text/plain": [
       "107.09823f0"
      ]
     },
     "metadata": {},
     "output_type": "display_data"
    },
    {
     "data": {
      "text/plain": [
       "103.006714f0"
      ]
     },
     "metadata": {},
     "output_type": "display_data"
    },
    {
     "data": {
      "text/plain": [
       "97.2831f0"
      ]
     },
     "metadata": {},
     "output_type": "display_data"
    },
    {
     "data": {
      "text/plain": [
       "93.96434f0"
      ]
     },
     "metadata": {},
     "output_type": "display_data"
    },
    {
     "data": {
      "text/plain": [
       "93.284515f0"
      ]
     },
     "metadata": {},
     "output_type": "display_data"
    },
    {
     "data": {
      "text/plain": [
       "93.47625f0"
      ]
     },
     "metadata": {},
     "output_type": "display_data"
    },
    {
     "data": {
      "text/plain": [
       "92.67541f0"
      ]
     },
     "metadata": {},
     "output_type": "display_data"
    },
    {
     "data": {
      "text/plain": [
       "90.3396f0"
      ]
     },
     "metadata": {},
     "output_type": "display_data"
    },
    {
     "data": {
      "text/plain": [
       "87.11512f0"
      ]
     },
     "metadata": {},
     "output_type": "display_data"
    },
    {
     "data": {
      "text/plain": [
       "83.968704f0"
      ]
     },
     "metadata": {},
     "output_type": "display_data"
    },
    {
     "data": {
      "text/plain": [
       "81.14526f0"
      ]
     },
     "metadata": {},
     "output_type": "display_data"
    },
    {
     "data": {
      "text/plain": [
       "77.90735f0"
      ]
     },
     "metadata": {},
     "output_type": "display_data"
    },
    {
     "data": {
      "text/plain": [
       "72.648964f0"
      ]
     },
     "metadata": {},
     "output_type": "display_data"
    },
    {
     "data": {
      "text/plain": [
       "66.023735f0"
      ]
     },
     "metadata": {},
     "output_type": "display_data"
    },
    {
     "data": {
      "text/plain": [
       "60.945732f0"
      ]
     },
     "metadata": {},
     "output_type": "display_data"
    },
    {
     "data": {
      "text/plain": [
       "53.148617f0"
      ]
     },
     "metadata": {},
     "output_type": "display_data"
    },
    {
     "data": {
      "text/plain": [
       "44.48401f0"
      ]
     },
     "metadata": {},
     "output_type": "display_data"
    },
    {
     "data": {
      "text/plain": [
       "37.194187f0"
      ]
     },
     "metadata": {},
     "output_type": "display_data"
    },
    {
     "data": {
      "text/plain": [
       "35.135975f0"
      ]
     },
     "metadata": {},
     "output_type": "display_data"
    },
    {
     "data": {
      "text/plain": [
       "40.088623f0"
      ]
     },
     "metadata": {},
     "output_type": "display_data"
    },
    {
     "data": {
      "text/plain": [
       "39.911762f0"
      ]
     },
     "metadata": {},
     "output_type": "display_data"
    },
    {
     "data": {
      "text/plain": [
       "31.790882f0"
      ]
     },
     "metadata": {},
     "output_type": "display_data"
    },
    {
     "data": {
      "text/plain": [
       "31.322481f0"
      ]
     },
     "metadata": {},
     "output_type": "display_data"
    },
    {
     "data": {
      "text/plain": [
       "38.641907f0"
      ]
     },
     "metadata": {},
     "output_type": "display_data"
    },
    {
     "data": {
      "text/plain": [
       "30.769428f0"
      ]
     },
     "metadata": {},
     "output_type": "display_data"
    },
    {
     "data": {
      "text/plain": [
       "29.425293f0"
      ]
     },
     "metadata": {},
     "output_type": "display_data"
    },
    {
     "data": {
      "text/plain": [
       "33.391163f0"
      ]
     },
     "metadata": {},
     "output_type": "display_data"
    },
    {
     "data": {
      "text/plain": [
       "31.750225f0"
      ]
     },
     "metadata": {},
     "output_type": "display_data"
    },
    {
     "data": {
      "text/plain": [
       "27.008385f0"
      ]
     },
     "metadata": {},
     "output_type": "display_data"
    },
    {
     "data": {
      "text/plain": [
       "26.207989f0"
      ]
     },
     "metadata": {},
     "output_type": "display_data"
    },
    {
     "data": {
      "text/plain": [
       "26.96088f0"
      ]
     },
     "metadata": {},
     "output_type": "display_data"
    },
    {
     "data": {
      "text/plain": [
       "24.017221f0"
      ]
     },
     "metadata": {},
     "output_type": "display_data"
    },
    {
     "data": {
      "text/plain": [
       "19.098078f0"
      ]
     },
     "metadata": {},
     "output_type": "display_data"
    },
    {
     "data": {
      "text/plain": [
       "18.805906f0"
      ]
     },
     "metadata": {},
     "output_type": "display_data"
    },
    {
     "data": {
      "text/plain": [
       "17.380493f0"
      ]
     },
     "metadata": {},
     "output_type": "display_data"
    },
    {
     "data": {
      "text/plain": [
       "18.340868f0"
      ]
     },
     "metadata": {},
     "output_type": "display_data"
    },
    {
     "data": {
      "text/plain": [
       "14.781646f0"
      ]
     },
     "metadata": {},
     "output_type": "display_data"
    },
    {
     "data": {
      "text/plain": [
       "14.062256f0"
      ]
     },
     "metadata": {},
     "output_type": "display_data"
    },
    {
     "data": {
      "text/plain": [
       "11.90117f0"
      ]
     },
     "metadata": {},
     "output_type": "display_data"
    },
    {
     "data": {
      "text/plain": [
       "11.847554f0"
      ]
     },
     "metadata": {},
     "output_type": "display_data"
    },
    {
     "data": {
      "text/plain": [
       "11.064049f0"
      ]
     },
     "metadata": {},
     "output_type": "display_data"
    },
    {
     "data": {
      "text/plain": [
       "10.264995f0"
      ]
     },
     "metadata": {},
     "output_type": "display_data"
    },
    {
     "data": {
      "text/plain": [
       "9.924103f0"
      ]
     },
     "metadata": {},
     "output_type": "display_data"
    },
    {
     "data": {
      "text/plain": [
       "8.284734f0"
      ]
     },
     "metadata": {},
     "output_type": "display_data"
    },
    {
     "data": {
      "text/plain": [
       "7.4894576f0"
      ]
     },
     "metadata": {},
     "output_type": "display_data"
    },
    {
     "data": {
      "text/plain": [
       "7.870298f0"
      ]
     },
     "metadata": {},
     "output_type": "display_data"
    },
    {
     "data": {
      "text/plain": [
       "7.2817945f0"
      ]
     },
     "metadata": {},
     "output_type": "display_data"
    },
    {
     "data": {
      "text/plain": [
       "7.035194f0"
      ]
     },
     "metadata": {},
     "output_type": "display_data"
    },
    {
     "data": {
      "text/plain": [
       "5.8782516f0"
      ]
     },
     "metadata": {},
     "output_type": "display_data"
    },
    {
     "data": {
      "text/plain": [
       "5.8762403f0"
      ]
     },
     "metadata": {},
     "output_type": "display_data"
    },
    {
     "data": {
      "text/plain": [
       "5.7980194f0"
      ]
     },
     "metadata": {},
     "output_type": "display_data"
    },
    {
     "data": {
      "text/plain": [
       "5.302146f0"
      ]
     },
     "metadata": {},
     "output_type": "display_data"
    },
    {
     "data": {
      "text/plain": [
       "4.9677258f0"
      ]
     },
     "metadata": {},
     "output_type": "display_data"
    },
    {
     "data": {
      "text/plain": [
       "4.730611f0"
      ]
     },
     "metadata": {},
     "output_type": "display_data"
    },
    {
     "data": {
      "text/plain": [
       "4.3034363f0"
      ]
     },
     "metadata": {},
     "output_type": "display_data"
    },
    {
     "data": {
      "text/plain": [
       "4.748973f0"
      ]
     },
     "metadata": {},
     "output_type": "display_data"
    },
    {
     "data": {
      "text/plain": [
       "4.072009f0"
      ]
     },
     "metadata": {},
     "output_type": "display_data"
    },
    {
     "data": {
      "text/plain": [
       "4.304949f0"
      ]
     },
     "metadata": {},
     "output_type": "display_data"
    },
    {
     "data": {
      "text/plain": [
       "3.8367186f0"
      ]
     },
     "metadata": {},
     "output_type": "display_data"
    },
    {
     "data": {
      "text/plain": [
       "3.9042058f0"
      ]
     },
     "metadata": {},
     "output_type": "display_data"
    },
    {
     "data": {
      "text/plain": [
       "3.771199f0"
      ]
     },
     "metadata": {},
     "output_type": "display_data"
    },
    {
     "data": {
      "text/plain": [
       "3.607142f0"
      ]
     },
     "metadata": {},
     "output_type": "display_data"
    },
    {
     "data": {
      "text/plain": [
       "3.639429f0"
      ]
     },
     "metadata": {},
     "output_type": "display_data"
    },
    {
     "data": {
      "text/plain": [
       "3.414742f0"
      ]
     },
     "metadata": {},
     "output_type": "display_data"
    },
    {
     "data": {
      "text/plain": [
       "3.2966356f0"
      ]
     },
     "metadata": {},
     "output_type": "display_data"
    },
    {
     "data": {
      "text/plain": [
       "3.2250082f0"
      ]
     },
     "metadata": {},
     "output_type": "display_data"
    },
    {
     "data": {
      "text/plain": [
       "3.0231116f0"
      ]
     },
     "metadata": {},
     "output_type": "display_data"
    },
    {
     "data": {
      "text/plain": [
       "3.077272f0"
      ]
     },
     "metadata": {},
     "output_type": "display_data"
    },
    {
     "data": {
      "text/plain": [
       "2.882516f0"
      ]
     },
     "metadata": {},
     "output_type": "display_data"
    },
    {
     "data": {
      "text/plain": [
       "2.8728986f0"
      ]
     },
     "metadata": {},
     "output_type": "display_data"
    },
    {
     "data": {
      "text/plain": [
       "2.753303f0"
      ]
     },
     "metadata": {},
     "output_type": "display_data"
    },
    {
     "data": {
      "text/plain": [
       "2.6544795f0"
      ]
     },
     "metadata": {},
     "output_type": "display_data"
    },
    {
     "data": {
      "text/plain": [
       "2.640681f0"
      ]
     },
     "metadata": {},
     "output_type": "display_data"
    },
    {
     "data": {
      "text/plain": [
       "2.531787f0"
      ]
     },
     "metadata": {},
     "output_type": "display_data"
    },
    {
     "data": {
      "text/plain": [
       "2.5496044f0"
      ]
     },
     "metadata": {},
     "output_type": "display_data"
    },
    {
     "data": {
      "text/plain": [
       "2.4620764f0"
      ]
     },
     "metadata": {},
     "output_type": "display_data"
    },
    {
     "data": {
      "text/plain": [
       "2.378684f0"
      ]
     },
     "metadata": {},
     "output_type": "display_data"
    },
    {
     "data": {
      "text/plain": [
       "2.3562412f0"
      ]
     },
     "metadata": {},
     "output_type": "display_data"
    },
    {
     "data": {
      "text/plain": [
       "2.3090372f0"
      ]
     },
     "metadata": {},
     "output_type": "display_data"
    },
    {
     "data": {
      "text/plain": [
       "2.3322954f0"
      ]
     },
     "metadata": {},
     "output_type": "display_data"
    },
    {
     "data": {
      "text/plain": [
       "2.2268577f0"
      ]
     },
     "metadata": {},
     "output_type": "display_data"
    },
    {
     "data": {
      "text/plain": [
       "2.2249017f0"
      ]
     },
     "metadata": {},
     "output_type": "display_data"
    },
    {
     "data": {
      "text/plain": [
       "2.1495328f0"
      ]
     },
     "metadata": {},
     "output_type": "display_data"
    },
    {
     "data": {
      "text/plain": [
       "2.1261125f0"
      ]
     },
     "metadata": {},
     "output_type": "display_data"
    },
    {
     "data": {
      "text/plain": [
       "2.0940747f0"
      ]
     },
     "metadata": {},
     "output_type": "display_data"
    },
    {
     "data": {
      "text/plain": [
       "2.0369563f0"
      ]
     },
     "metadata": {},
     "output_type": "display_data"
    },
    {
     "data": {
      "text/plain": [
       "2.0046458f0"
      ]
     },
     "metadata": {},
     "output_type": "display_data"
    },
    {
     "data": {
      "text/plain": [
       "1.9654319f0"
      ]
     },
     "metadata": {},
     "output_type": "display_data"
    },
    {
     "data": {
      "text/plain": [
       "1.9339077f0"
      ]
     },
     "metadata": {},
     "output_type": "display_data"
    },
    {
     "data": {
      "text/plain": [
       "1.8846629f0"
      ]
     },
     "metadata": {},
     "output_type": "display_data"
    },
    {
     "data": {
      "text/plain": [
       "1.8443638f0"
      ]
     },
     "metadata": {},
     "output_type": "display_data"
    },
    {
     "data": {
      "text/plain": [
       "1.8084722f0"
      ]
     },
     "metadata": {},
     "output_type": "display_data"
    },
    {
     "data": {
      "text/plain": [
       "1.780865f0"
      ]
     },
     "metadata": {},
     "output_type": "display_data"
    },
    {
     "data": {
      "text/plain": [
       "1.7341677f0"
      ]
     },
     "metadata": {},
     "output_type": "display_data"
    },
    {
     "data": {
      "text/plain": [
       "1.6987951f0"
      ]
     },
     "metadata": {},
     "output_type": "display_data"
    },
    {
     "data": {
      "text/plain": [
       "1.6733696f0"
      ]
     },
     "metadata": {},
     "output_type": "display_data"
    },
    {
     "data": {
      "text/plain": [
       "1.6568012f0"
      ]
     },
     "metadata": {},
     "output_type": "display_data"
    },
    {
     "data": {
      "text/plain": [
       "1.6210186f0"
      ]
     },
     "metadata": {},
     "output_type": "display_data"
    },
    {
     "data": {
      "text/plain": [
       "1.5981712f0"
      ]
     },
     "metadata": {},
     "output_type": "display_data"
    },
    {
     "data": {
      "text/plain": [
       "1.5708964f0"
      ]
     },
     "metadata": {},
     "output_type": "display_data"
    },
    {
     "data": {
      "text/plain": [
       "1.5459113f0"
      ]
     },
     "metadata": {},
     "output_type": "display_data"
    },
    {
     "data": {
      "text/plain": [
       "1.5202668f0"
      ]
     },
     "metadata": {},
     "output_type": "display_data"
    },
    {
     "data": {
      "text/plain": [
       "1.4961437f0"
      ]
     },
     "metadata": {},
     "output_type": "display_data"
    },
    {
     "data": {
      "text/plain": [
       "1.476703f0"
      ]
     },
     "metadata": {},
     "output_type": "display_data"
    },
    {
     "data": {
      "text/plain": [
       "1.4558772f0"
      ]
     },
     "metadata": {},
     "output_type": "display_data"
    },
    {
     "data": {
      "text/plain": [
       "1.4377669f0"
      ]
     },
     "metadata": {},
     "output_type": "display_data"
    },
    {
     "data": {
      "text/plain": [
       "1.4098865f0"
      ]
     },
     "metadata": {},
     "output_type": "display_data"
    },
    {
     "data": {
      "text/plain": [
       "1.3785334f0"
      ]
     },
     "metadata": {},
     "output_type": "display_data"
    },
    {
     "data": {
      "text/plain": [
       "1.3670745f0"
      ]
     },
     "metadata": {},
     "output_type": "display_data"
    },
    {
     "data": {
      "text/plain": [
       "1.3445892f0"
      ]
     },
     "metadata": {},
     "output_type": "display_data"
    },
    {
     "data": {
      "text/plain": [
       "1.3253231f0"
      ]
     },
     "metadata": {},
     "output_type": "display_data"
    },
    {
     "data": {
      "text/plain": [
       "1.3119197f0"
      ]
     },
     "metadata": {},
     "output_type": "display_data"
    },
    {
     "data": {
      "text/plain": [
       "1.2967678f0"
      ]
     },
     "metadata": {},
     "output_type": "display_data"
    },
    {
     "data": {
      "text/plain": [
       "1.2758458f0"
      ]
     },
     "metadata": {},
     "output_type": "display_data"
    },
    {
     "data": {
      "text/plain": [
       "1.2656231f0"
      ]
     },
     "metadata": {},
     "output_type": "display_data"
    },
    {
     "data": {
      "text/plain": [
       "1.2435224f0"
      ]
     },
     "metadata": {},
     "output_type": "display_data"
    },
    {
     "data": {
      "text/plain": [
       "1.2210443f0"
      ]
     },
     "metadata": {},
     "output_type": "display_data"
    },
    {
     "data": {
      "text/plain": [
       "1.2131114f0"
      ]
     },
     "metadata": {},
     "output_type": "display_data"
    },
    {
     "data": {
      "text/plain": [
       "1.1907166f0"
      ]
     },
     "metadata": {},
     "output_type": "display_data"
    },
    {
     "data": {
      "text/plain": [
       "1.1835443f0"
      ]
     },
     "metadata": {},
     "output_type": "display_data"
    },
    {
     "data": {
      "text/plain": [
       "1.1585118f0"
      ]
     },
     "metadata": {},
     "output_type": "display_data"
    },
    {
     "data": {
      "text/plain": [
       "1.1544125f0"
      ]
     },
     "metadata": {},
     "output_type": "display_data"
    },
    {
     "data": {
      "text/plain": [
       "1.1277463f0"
      ]
     },
     "metadata": {},
     "output_type": "display_data"
    },
    {
     "data": {
      "text/plain": [
       "1.1211689f0"
      ]
     },
     "metadata": {},
     "output_type": "display_data"
    },
    {
     "data": {
      "text/plain": [
       "1.0996656f0"
      ]
     },
     "metadata": {},
     "output_type": "display_data"
    },
    {
     "data": {
      "text/plain": [
       "1.0845557f0"
      ]
     },
     "metadata": {},
     "output_type": "display_data"
    },
    {
     "data": {
      "text/plain": [
       "1.0751626f0"
      ]
     },
     "metadata": {},
     "output_type": "display_data"
    },
    {
     "data": {
      "text/plain": [
       "1.0661693f0"
      ]
     },
     "metadata": {},
     "output_type": "display_data"
    },
    {
     "data": {
      "text/plain": [
       "1.0475761f0"
      ]
     },
     "metadata": {},
     "output_type": "display_data"
    },
    {
     "data": {
      "text/plain": [
       "1.0336981f0"
      ]
     },
     "metadata": {},
     "output_type": "display_data"
    },
    {
     "data": {
      "text/plain": [
       "1.0161034f0"
      ]
     },
     "metadata": {},
     "output_type": "display_data"
    },
    {
     "data": {
      "text/plain": [
       "1.0059572f0"
      ]
     },
     "metadata": {},
     "output_type": "display_data"
    },
    {
     "data": {
      "text/plain": [
       "0.9972779f0"
      ]
     },
     "metadata": {},
     "output_type": "display_data"
    },
    {
     "data": {
      "text/plain": [
       "0.97601444f0"
      ]
     },
     "metadata": {},
     "output_type": "display_data"
    },
    {
     "data": {
      "text/plain": [
       "0.9773879f0"
      ]
     },
     "metadata": {},
     "output_type": "display_data"
    },
    {
     "data": {
      "text/plain": [
       "0.9511964f0"
      ]
     },
     "metadata": {},
     "output_type": "display_data"
    },
    {
     "data": {
      "text/plain": [
       "0.9386789f0"
      ]
     },
     "metadata": {},
     "output_type": "display_data"
    },
    {
     "data": {
      "text/plain": [
       "0.9359412f0"
      ]
     },
     "metadata": {},
     "output_type": "display_data"
    },
    {
     "data": {
      "text/plain": [
       "0.9212358f0"
      ]
     },
     "metadata": {},
     "output_type": "display_data"
    },
    {
     "data": {
      "text/plain": [
       "0.9046917f0"
      ]
     },
     "metadata": {},
     "output_type": "display_data"
    },
    {
     "data": {
      "text/plain": [
       "0.8930542f0"
      ]
     },
     "metadata": {},
     "output_type": "display_data"
    },
    {
     "data": {
      "text/plain": [
       "0.890073f0"
      ]
     },
     "metadata": {},
     "output_type": "display_data"
    },
    {
     "data": {
      "text/plain": [
       "0.8785915f0"
      ]
     },
     "metadata": {},
     "output_type": "display_data"
    },
    {
     "data": {
      "text/plain": [
       "0.86776364f0"
      ]
     },
     "metadata": {},
     "output_type": "display_data"
    },
    {
     "data": {
      "text/plain": [
       "0.8561261f0"
      ]
     },
     "metadata": {},
     "output_type": "display_data"
    },
    {
     "data": {
      "text/plain": [
       "0.83778304f0"
      ]
     },
     "metadata": {},
     "output_type": "display_data"
    },
    {
     "data": {
      "text/plain": [
       "0.83267665f0"
      ]
     },
     "metadata": {},
     "output_type": "display_data"
    },
    {
     "data": {
      "text/plain": [
       "0.81758857f0"
      ]
     },
     "metadata": {},
     "output_type": "display_data"
    },
    {
     "data": {
      "text/plain": [
       "0.8095882f0"
      ]
     },
     "metadata": {},
     "output_type": "display_data"
    },
    {
     "data": {
      "text/plain": [
       "0.80468976f0"
      ]
     },
     "metadata": {},
     "output_type": "display_data"
    },
    {
     "data": {
      "text/plain": [
       "0.7914592f0"
      ]
     },
     "metadata": {},
     "output_type": "display_data"
    },
    {
     "data": {
      "text/plain": [
       "0.78598773f0"
      ]
     },
     "metadata": {},
     "output_type": "display_data"
    },
    {
     "data": {
      "text/plain": [
       "0.77052677f0"
      ]
     },
     "metadata": {},
     "output_type": "display_data"
    },
    {
     "data": {
      "text/plain": [
       "0.7629523f0"
      ]
     },
     "metadata": {},
     "output_type": "display_data"
    },
    {
     "data": {
      "text/plain": [
       "0.7462723f0"
      ]
     },
     "metadata": {},
     "output_type": "display_data"
    },
    {
     "data": {
      "text/plain": [
       "0.7379056f0"
      ]
     },
     "metadata": {},
     "output_type": "display_data"
    },
    {
     "data": {
      "text/plain": [
       "0.73001176f0"
      ]
     },
     "metadata": {},
     "output_type": "display_data"
    },
    {
     "data": {
      "text/plain": [
       "0.7177372f0"
      ]
     },
     "metadata": {},
     "output_type": "display_data"
    },
    {
     "data": {
      "text/plain": [
       "0.7127308f0"
      ]
     },
     "metadata": {},
     "output_type": "display_data"
    },
    {
     "data": {
      "text/plain": [
       "0.7057028f0"
      ]
     },
     "metadata": {},
     "output_type": "display_data"
    },
    {
     "data": {
      "text/plain": [
       "0.69272137f0"
      ]
     },
     "metadata": {},
     "output_type": "display_data"
    },
    {
     "data": {
      "text/plain": [
       "0.68841696f0"
      ]
     },
     "metadata": {},
     "output_type": "display_data"
    },
    {
     "data": {
      "text/plain": [
       "0.6680435f0"
      ]
     },
     "metadata": {},
     "output_type": "display_data"
    },
    {
     "data": {
      "text/plain": [
       "0.66135716f0"
      ]
     },
     "metadata": {},
     "output_type": "display_data"
    },
    {
     "data": {
      "text/plain": [
       "0.65537834f0"
      ]
     },
     "metadata": {},
     "output_type": "display_data"
    },
    {
     "data": {
      "text/plain": [
       "0.64311147f0"
      ]
     },
     "metadata": {},
     "output_type": "display_data"
    },
    {
     "data": {
      "text/plain": [
       "0.6436229f0"
      ]
     },
     "metadata": {},
     "output_type": "display_data"
    },
    {
     "data": {
      "text/plain": [
       "0.6325605f0"
      ]
     },
     "metadata": {},
     "output_type": "display_data"
    },
    {
     "data": {
      "text/plain": [
       "0.62540454f0"
      ]
     },
     "metadata": {},
     "output_type": "display_data"
    },
    {
     "data": {
      "text/plain": [
       "0.61048687f0"
      ]
     },
     "metadata": {},
     "output_type": "display_data"
    },
    {
     "data": {
      "text/plain": [
       "0.6090506f0"
      ]
     },
     "metadata": {},
     "output_type": "display_data"
    },
    {
     "data": {
      "text/plain": [
       "0.5963061f0"
      ]
     },
     "metadata": {},
     "output_type": "display_data"
    },
    {
     "data": {
      "text/plain": [
       "0.5970262f0"
      ]
     },
     "metadata": {},
     "output_type": "display_data"
    },
    {
     "data": {
      "text/plain": [
       "0.58154684f0"
      ]
     },
     "metadata": {},
     "output_type": "display_data"
    },
    {
     "data": {
      "text/plain": [
       "0.5796155f0"
      ]
     },
     "metadata": {},
     "output_type": "display_data"
    },
    {
     "data": {
      "text/plain": [
       "0.56265706f0"
      ]
     },
     "metadata": {},
     "output_type": "display_data"
    },
    {
     "data": {
      "text/plain": [
       "0.55930656f0"
      ]
     },
     "metadata": {},
     "output_type": "display_data"
    },
    {
     "data": {
      "text/plain": [
       "0.5498539f0"
      ]
     },
     "metadata": {},
     "output_type": "display_data"
    },
    {
     "data": {
      "text/plain": [
       "0.5447122f0"
      ]
     },
     "metadata": {},
     "output_type": "display_data"
    },
    {
     "data": {
      "text/plain": [
       "0.53268695f0"
      ]
     },
     "metadata": {},
     "output_type": "display_data"
    },
    {
     "data": {
      "text/plain": [
       "0.5252395f0"
      ]
     },
     "metadata": {},
     "output_type": "display_data"
    },
    {
     "data": {
      "text/plain": [
       "0.5198145f0"
      ]
     },
     "metadata": {},
     "output_type": "display_data"
    },
    {
     "data": {
      "text/plain": [
       "0.51167536f0"
      ]
     },
     "metadata": {},
     "output_type": "display_data"
    },
    {
     "data": {
      "text/plain": [
       "0.5049668f0"
      ]
     },
     "metadata": {},
     "output_type": "display_data"
    },
    {
     "data": {
      "text/plain": [
       "0.49937898f0"
      ]
     },
     "metadata": {},
     "output_type": "display_data"
    },
    {
     "data": {
      "text/plain": [
       "0.49076414f0"
      ]
     },
     "metadata": {},
     "output_type": "display_data"
    },
    {
     "data": {
      "text/plain": [
       "0.4864616f0"
      ]
     },
     "metadata": {},
     "output_type": "display_data"
    },
    {
     "data": {
      "text/plain": [
       "0.47757912f0"
      ]
     },
     "metadata": {},
     "output_type": "display_data"
    },
    {
     "data": {
      "text/plain": [
       "0.47077233f0"
      ]
     },
     "metadata": {},
     "output_type": "display_data"
    },
    {
     "data": {
      "text/plain": [
       "0.4623177f0"
      ]
     },
     "metadata": {},
     "output_type": "display_data"
    },
    {
     "data": {
      "text/plain": [
       "0.46132728f0"
      ]
     },
     "metadata": {},
     "output_type": "display_data"
    },
    {
     "data": {
      "text/plain": [
       "0.4546324f0"
      ]
     },
     "metadata": {},
     "output_type": "display_data"
    },
    {
     "data": {
      "text/plain": [
       "0.44798076f0"
      ]
     },
     "metadata": {},
     "output_type": "display_data"
    },
    {
     "data": {
      "text/plain": [
       "0.43976927f0"
      ]
     },
     "metadata": {},
     "output_type": "display_data"
    },
    {
     "data": {
      "text/plain": [
       "0.43332487f0"
      ]
     },
     "metadata": {},
     "output_type": "display_data"
    },
    {
     "data": {
      "text/plain": [
       "0.42965227f0"
      ]
     },
     "metadata": {},
     "output_type": "display_data"
    },
    {
     "data": {
      "text/plain": [
       "0.41970864f0"
      ]
     },
     "metadata": {},
     "output_type": "display_data"
    },
    {
     "data": {
      "text/plain": [
       "0.41925126f0"
      ]
     },
     "metadata": {},
     "output_type": "display_data"
    },
    {
     "data": {
      "text/plain": [
       "0.40762663f0"
      ]
     },
     "metadata": {},
     "output_type": "display_data"
    },
    {
     "data": {
      "text/plain": [
       "0.40564942f0"
      ]
     },
     "metadata": {},
     "output_type": "display_data"
    },
    {
     "data": {
      "text/plain": [
       "0.3987744f0"
      ]
     },
     "metadata": {},
     "output_type": "display_data"
    },
    {
     "data": {
      "text/plain": [
       "0.3938646f0"
      ]
     },
     "metadata": {},
     "output_type": "display_data"
    },
    {
     "data": {
      "text/plain": [
       "0.3845507f0"
      ]
     },
     "metadata": {},
     "output_type": "display_data"
    },
    {
     "data": {
      "text/plain": [
       "0.38572133f0"
      ]
     },
     "metadata": {},
     "output_type": "display_data"
    },
    {
     "data": {
      "text/plain": [
       "0.37979585f0"
      ]
     },
     "metadata": {},
     "output_type": "display_data"
    },
    {
     "data": {
      "text/plain": [
       "0.37306136f0"
      ]
     },
     "metadata": {},
     "output_type": "display_data"
    },
    {
     "data": {
      "text/plain": [
       "0.36611944f0"
      ]
     },
     "metadata": {},
     "output_type": "display_data"
    },
    {
     "data": {
      "text/plain": [
       "0.35840032f0"
      ]
     },
     "metadata": {},
     "output_type": "display_data"
    },
    {
     "data": {
      "text/plain": [
       "0.35298684f0"
      ]
     },
     "metadata": {},
     "output_type": "display_data"
    },
    {
     "data": {
      "text/plain": [
       "0.34921655f0"
      ]
     },
     "metadata": {},
     "output_type": "display_data"
    },
    {
     "data": {
      "text/plain": [
       "0.34290808f0"
      ]
     },
     "metadata": {},
     "output_type": "display_data"
    },
    {
     "data": {
      "text/plain": [
       "0.3489133f0"
      ]
     },
     "metadata": {},
     "output_type": "display_data"
    },
    {
     "data": {
      "text/plain": [
       "0.3363462f0"
      ]
     },
     "metadata": {},
     "output_type": "display_data"
    },
    {
     "data": {
      "text/plain": [
       "0.3333363f0"
      ]
     },
     "metadata": {},
     "output_type": "display_data"
    },
    {
     "data": {
      "text/plain": [
       "0.32180107f0"
      ]
     },
     "metadata": {},
     "output_type": "display_data"
    },
    {
     "data": {
      "text/plain": [
       "0.3231054f0"
      ]
     },
     "metadata": {},
     "output_type": "display_data"
    },
    {
     "data": {
      "text/plain": [
       "0.317905f0"
      ]
     },
     "metadata": {},
     "output_type": "display_data"
    },
    {
     "data": {
      "text/plain": [
       "0.314857f0"
      ]
     },
     "metadata": {},
     "output_type": "display_data"
    },
    {
     "data": {
      "text/plain": [
       "0.30345607f0"
      ]
     },
     "metadata": {},
     "output_type": "display_data"
    },
    {
     "data": {
      "text/plain": [
       "0.31169242f0"
      ]
     },
     "metadata": {},
     "output_type": "display_data"
    },
    {
     "data": {
      "text/plain": [
       "0.3002925f0"
      ]
     },
     "metadata": {},
     "output_type": "display_data"
    },
    {
     "data": {
      "text/plain": [
       "0.29360455f0"
      ]
     },
     "metadata": {},
     "output_type": "display_data"
    },
    {
     "data": {
      "text/plain": [
       "0.28781304f0"
      ]
     },
     "metadata": {},
     "output_type": "display_data"
    },
    {
     "data": {
      "text/plain": [
       "0.2867925f0"
      ]
     },
     "metadata": {},
     "output_type": "display_data"
    },
    {
     "data": {
      "text/plain": [
       "0.2768842f0"
      ]
     },
     "metadata": {},
     "output_type": "display_data"
    },
    {
     "data": {
      "text/plain": [
       "0.28294924f0"
      ]
     },
     "metadata": {},
     "output_type": "display_data"
    },
    {
     "data": {
      "text/plain": [
       "0.2736268f0"
      ]
     },
     "metadata": {},
     "output_type": "display_data"
    },
    {
     "data": {
      "text/plain": [
       "0.26533303f0"
      ]
     },
     "metadata": {},
     "output_type": "display_data"
    },
    {
     "data": {
      "text/plain": [
       "0.2680319f0"
      ]
     },
     "metadata": {},
     "output_type": "display_data"
    },
    {
     "data": {
      "text/plain": [
       "0.2617796f0"
      ]
     },
     "metadata": {},
     "output_type": "display_data"
    },
    {
     "data": {
      "text/plain": [
       "0.25811675f0"
      ]
     },
     "metadata": {},
     "output_type": "display_data"
    },
    {
     "data": {
      "text/plain": [
       "0.25219116f0"
      ]
     },
     "metadata": {},
     "output_type": "display_data"
    },
    {
     "data": {
      "text/plain": [
       "0.25197944f0"
      ]
     },
     "metadata": {},
     "output_type": "display_data"
    },
    {
     "data": {
      "text/plain": [
       "0.24316299f0"
      ]
     },
     "metadata": {},
     "output_type": "display_data"
    },
    {
     "data": {
      "text/plain": [
       "0.2411935f0"
      ]
     },
     "metadata": {},
     "output_type": "display_data"
    },
    {
     "data": {
      "text/plain": [
       "0.24125679f0"
      ]
     },
     "metadata": {},
     "output_type": "display_data"
    },
    {
     "data": {
      "text/plain": [
       "0.23218371f0"
      ]
     },
     "metadata": {},
     "output_type": "display_data"
    },
    {
     "data": {
      "text/plain": [
       "0.22821328f0"
      ]
     },
     "metadata": {},
     "output_type": "display_data"
    },
    {
     "data": {
      "text/plain": [
       "0.22542918f0"
      ]
     },
     "metadata": {},
     "output_type": "display_data"
    },
    {
     "data": {
      "text/plain": [
       "0.22293866f0"
      ]
     },
     "metadata": {},
     "output_type": "display_data"
    },
    {
     "data": {
      "text/plain": [
       "0.21625715f0"
      ]
     },
     "metadata": {},
     "output_type": "display_data"
    },
    {
     "data": {
      "text/plain": [
       "0.21430612f0"
      ]
     },
     "metadata": {},
     "output_type": "display_data"
    },
    {
     "data": {
      "text/plain": [
       "0.2126328f0"
      ]
     },
     "metadata": {},
     "output_type": "display_data"
    },
    {
     "data": {
      "text/plain": [
       "0.20819339f0"
      ]
     },
     "metadata": {},
     "output_type": "display_data"
    },
    {
     "data": {
      "text/plain": [
       "0.2039721f0"
      ]
     },
     "metadata": {},
     "output_type": "display_data"
    },
    {
     "data": {
      "text/plain": [
       "0.19913565f0"
      ]
     },
     "metadata": {},
     "output_type": "display_data"
    },
    {
     "data": {
      "text/plain": [
       "0.19893259f0"
      ]
     },
     "metadata": {},
     "output_type": "display_data"
    },
    {
     "data": {
      "text/plain": [
       "0.19362995f0"
      ]
     },
     "metadata": {},
     "output_type": "display_data"
    },
    {
     "data": {
      "text/plain": [
       "0.19101793f0"
      ]
     },
     "metadata": {},
     "output_type": "display_data"
    },
    {
     "data": {
      "text/plain": [
       "0.18816687f0"
      ]
     },
     "metadata": {},
     "output_type": "display_data"
    },
    {
     "data": {
      "text/plain": [
       "0.18691291f0"
      ]
     },
     "metadata": {},
     "output_type": "display_data"
    },
    {
     "data": {
      "text/plain": [
       "0.1829221f0"
      ]
     },
     "metadata": {},
     "output_type": "display_data"
    },
    {
     "data": {
      "text/plain": [
       "0.17973112f0"
      ]
     },
     "metadata": {},
     "output_type": "display_data"
    },
    {
     "data": {
      "text/plain": [
       "0.17637515f0"
      ]
     },
     "metadata": {},
     "output_type": "display_data"
    },
    {
     "data": {
      "text/plain": [
       "0.17156443f0"
      ]
     },
     "metadata": {},
     "output_type": "display_data"
    },
    {
     "data": {
      "text/plain": [
       "0.17161363f0"
      ]
     },
     "metadata": {},
     "output_type": "display_data"
    },
    {
     "data": {
      "text/plain": [
       "0.16589175f0"
      ]
     },
     "metadata": {},
     "output_type": "display_data"
    },
    {
     "data": {
      "text/plain": [
       "0.1643169f0"
      ]
     },
     "metadata": {},
     "output_type": "display_data"
    },
    {
     "data": {
      "text/plain": [
       "0.16184428f0"
      ]
     },
     "metadata": {},
     "output_type": "display_data"
    },
    {
     "data": {
      "text/plain": [
       "0.15886208f0"
      ]
     },
     "metadata": {},
     "output_type": "display_data"
    },
    {
     "data": {
      "text/plain": [
       "0.15963489f0"
      ]
     },
     "metadata": {},
     "output_type": "display_data"
    },
    {
     "data": {
      "text/plain": [
       "0.16038488f0"
      ]
     },
     "metadata": {},
     "output_type": "display_data"
    },
    {
     "data": {
      "text/plain": [
       "0.16843572f0"
      ]
     },
     "metadata": {},
     "output_type": "display_data"
    },
    {
     "data": {
      "text/plain": [
       "0.18633443f0"
      ]
     },
     "metadata": {},
     "output_type": "display_data"
    },
    {
     "data": {
      "text/plain": [
       "0.2441071f0"
      ]
     },
     "metadata": {},
     "output_type": "display_data"
    },
    {
     "data": {
      "text/plain": [
       "0.3461657f0"
      ]
     },
     "metadata": {},
     "output_type": "display_data"
    },
    {
     "data": {
      "text/plain": [
       "0.6281994f0"
      ]
     },
     "metadata": {},
     "output_type": "display_data"
    },
    {
     "data": {
      "text/plain": [
       "0.7107554f0"
      ]
     },
     "metadata": {},
     "output_type": "display_data"
    },
    {
     "data": {
      "text/plain": [
       "0.85854393f0"
      ]
     },
     "metadata": {},
     "output_type": "display_data"
    },
    {
     "data": {
      "text/plain": [
       "0.30247784f0"
      ]
     },
     "metadata": {},
     "output_type": "display_data"
    },
    {
     "data": {
      "text/plain": [
       "0.16585186f0"
      ]
     },
     "metadata": {},
     "output_type": "display_data"
    },
    {
     "data": {
      "text/plain": [
       "0.45810053f0"
      ]
     },
     "metadata": {},
     "output_type": "display_data"
    },
    {
     "data": {
      "text/plain": [
       "0.36806664f0"
      ]
     },
     "metadata": {},
     "output_type": "display_data"
    },
    {
     "data": {
      "text/plain": [
       "0.16746677f0"
      ]
     },
     "metadata": {},
     "output_type": "display_data"
    },
    {
     "data": {
      "text/plain": [
       "0.21543911f0"
      ]
     },
     "metadata": {},
     "output_type": "display_data"
    },
    {
     "data": {
      "text/plain": [
       "0.3097741f0"
      ]
     },
     "metadata": {},
     "output_type": "display_data"
    },
    {
     "data": {
      "text/plain": [
       "0.20409238f0"
      ]
     },
     "metadata": {},
     "output_type": "display_data"
    },
    {
     "data": {
      "text/plain": [
       "0.15793659f0"
      ]
     },
     "metadata": {},
     "output_type": "display_data"
    },
    {
     "data": {
      "text/plain": [
       "0.2652349f0"
      ]
     },
     "metadata": {},
     "output_type": "display_data"
    },
    {
     "data": {
      "text/plain": [
       "0.19598997f0"
      ]
     },
     "metadata": {},
     "output_type": "display_data"
    },
    {
     "data": {
      "text/plain": [
       "0.1484412f0"
      ]
     },
     "metadata": {},
     "output_type": "display_data"
    },
    {
     "data": {
      "text/plain": [
       "0.2556698f0"
      ]
     },
     "metadata": {},
     "output_type": "display_data"
    },
    {
     "data": {
      "text/plain": [
       "0.2055819f0"
      ]
     },
     "metadata": {},
     "output_type": "display_data"
    },
    {
     "data": {
      "text/plain": [
       "0.14312007f0"
      ]
     },
     "metadata": {},
     "output_type": "display_data"
    },
    {
     "data": {
      "text/plain": [
       "0.24015623f0"
      ]
     },
     "metadata": {},
     "output_type": "display_data"
    },
    {
     "data": {
      "text/plain": [
       "0.1951446f0"
      ]
     },
     "metadata": {},
     "output_type": "display_data"
    },
    {
     "data": {
      "text/plain": [
       "0.13818136f0"
      ]
     },
     "metadata": {},
     "output_type": "display_data"
    },
    {
     "data": {
      "text/plain": [
       "0.22520363f0"
      ]
     },
     "metadata": {},
     "output_type": "display_data"
    },
    {
     "data": {
      "text/plain": [
       "0.17408773f0"
      ]
     },
     "metadata": {},
     "output_type": "display_data"
    },
    {
     "data": {
      "text/plain": [
       "0.13857055f0"
      ]
     },
     "metadata": {},
     "output_type": "display_data"
    },
    {
     "data": {
      "text/plain": [
       "0.23459183f0"
      ]
     },
     "metadata": {},
     "output_type": "display_data"
    },
    {
     "data": {
      "text/plain": [
       "0.17968199f0"
      ]
     },
     "metadata": {},
     "output_type": "display_data"
    },
    {
     "data": {
      "text/plain": [
       "0.13834763f0"
      ]
     },
     "metadata": {},
     "output_type": "display_data"
    },
    {
     "data": {
      "text/plain": [
       "0.2163994f0"
      ]
     },
     "metadata": {},
     "output_type": "display_data"
    },
    {
     "data": {
      "text/plain": [
       "0.15727672f0"
      ]
     },
     "metadata": {},
     "output_type": "display_data"
    },
    {
     "data": {
      "text/plain": [
       "0.14006351f0"
      ]
     },
     "metadata": {},
     "output_type": "display_data"
    },
    {
     "data": {
      "text/plain": [
       "0.19524011f0"
      ]
     },
     "metadata": {},
     "output_type": "display_data"
    },
    {
     "data": {
      "text/plain": [
       "0.13818136f0"
      ]
     },
     "metadata": {},
     "output_type": "display_data"
    },
    {
     "data": {
      "text/plain": [
       " * Status: success\n",
       "\n",
       " * Candidate solution\n",
       "    Final objective value:     1.381814e-01 \n",
       "\n",
       " * Found with\n",
       "    Algorithm:     ADAM(0.05, (0.9, 0.999), IdDict{Any, Any}(Float32[0.14659366, 0.25853303, -0.29725587, -0.10597209, -0.2355974, 0.19456497, -0.33462682, -0.23697889, 0.42210272, 0.23987094, 0.13803782, 0.33976364, -0.30668935, -0.33476254, 0.023658657, 0.34861496, -0.47903022, 0.07594125, 0.1707807, -0.23047149, 0.29548272, 0.32493785, -0.17711549, 0.23687007, -1.088435, -0.34152472, 0.6896677, 0.11982589, 1.1125275, 0.4574749, 0.20999514, 0.076732494, -0.29780015, -0.140546, 0.18298493, 0.5272891, 1.0970446, -0.2398774, 0.5024113, 0.2168483, -0.29754, -0.5052273, -0.09109844, -0.081514075, 0.29282954, 0.2225831, -0.35720718, -0.09854835, 0.2449634, -0.0946318, 0.74550927, -0.0066251596, -0.13544792, -0.46628496, -0.3615814, -0.20459232, -0.17988956, 0.13072173, 0.5282453, -0.041298244, 1.3119943, 0.022543801, 1.3191139, 0.06748197, 0.23848872, -0.43799564, -0.56584364, -0.38920924, -0.08523037, 0.4414984, 0.4818433, 0.009803129, 0.026854102, 0.10011721, 0.4855603, 0.053603645, -0.5897973, 1.450847, -0.9068754, -0.29931197, -0.16159031, -0.047793664, 0.047527228, -0.63609457, -0.5445086, 0.98792666, -1.1752621, -0.29616264, 0.8980987, 0.034821782, -0.5020717, 0.11654604, -1.240411, -1.3028421, 0.23364666, -0.17559318, 0.29343107, -0.9397634, -0.3885243, 0.080205634, -0.4214722, -0.17640838, 0.21596155, -0.049696777, 0.74654955, -0.061169684, -0.2855947, -1.0833234, 0.039160017, -0.14962323, -0.5570926, 0.61475134, 0.29808682, -0.8949075, -0.0026839022, 0.093640596, -0.53500336, 0.6138532, 0.07022669, -0.20707147, 0.046515066, -0.05824126, -0.0042648483, -0.06541597, 0.30443123, -0.8570959, 0.07511125, -0.46767828, 0.07702763, -0.14545432, -0.15416144, 0.47747084, -0.7185739, 0.23025754, 0.46012062, 0.69992375, 0.34450778, 0.51675606, 0.57298696, -0.18913603, 0.016318921, 0.15731217, 0.24270688, 0.23703077, -0.7042445, 0.22737592, 0.14006686, 0.22502005, 0.12537198, -0.70527065, -0.08419988, 0.3707555, 0.034403555, 0.86458135, 0.4725168, -0.44405082, 0.13597286, -0.2894537, 0.5122388, -0.7280329, 0.13140412, 0.5401074, 0.4259202, -0.010156027, 0.5967799, -0.4562021, -0.24266651, -0.20560357, 0.12045014, 0.6185462, -0.21871004, 0.5303715, -0.6531919, 0.047220223, -0.11567226, 0.09290283, 0.56770706, -0.19662099, -0.10362718, 0.03185458, 0.54863924, 0.46288055, 0.2811566, 0.17794357, 0.30551085, 0.29880282, 0.10902917, 0.5858335, -0.5179338, -0.43296438, -0.10901138, -0.09917251, -0.06010865, 0.7613382, -0.018354487, -0.5190941, -0.38454202, 0.35409826, -0.42669386, 0.15996511, 0.5753488, -0.15734874, 0.5738473, 0.20722903, -0.18343832, 0.5005749, 0.71853256, 0.0030794763, 0.22698043, 0.07834391, 0.16846298, 0.6219949, 0.06109942, 0.56419176, 0.54882526, -0.22611095, 0.103935584, -0.26351318, 0.5328562, 0.27370572, -0.29611608, -0.40449554, 0.66553205, -0.171243, 0.23666708, -0.3197061, -0.39768744, -0.34177774, 0.05547064, 0.851916, 0.43402743, -0.030684685, -0.15138753, -0.54862005, 0.08298654, -0.34960562, 0.12239507, -0.34207845, -0.5993167, 0.80857897, 0.27904245, 0.8621974, -0.2748682, -0.1696424, 0.09956482, -0.29488233, 0.43003073, 0.49967876, 0.33270803, -0.68947697, -0.37356925, -0.08066719] => (Float32[0.023993671, 0.087941356, 0.008193596, -0.01750723, -0.007937887, 0.06716555, 0.032262567, -0.004648079, -0.02691003, 0.06998534, 0.02274239, -0.024374625, 0.014399167, 0.0031333335, -0.010598125, 0.044958115, 0.015012328, 0.054023236, 0.082121305, -0.07563247, -0.02351627, 0.05959401, -0.061799437, -0.010163181, 0.008215742, 0.0071687023, -0.0065958435, 0.02547284, -0.009089105, 0.0012597311, 0.073555544, 0.09711949, 0.0017085228, -0.01974338, 0.07169948, -0.012255321, -0.009761832, -0.0027346383, -0.02217926, 0.082074165, 0.05708377, -0.02457666, -0.0255863, -0.022957675, 0.009672203, 0.1523362, -0.017915394, -0.020751558, 0.07957857, -0.06676026, 0.0087122945, 0.060151257, -0.085296996, -0.016100265, -0.047036886, 0.014144949, -0.05481193, -0.06622274, 0.005372679, 0.02666483, 0.008793763, 0.10762268, 0.0024194175, -0.07455599, 0.013903693, 0.0006656875, -0.005581606, -0.007995715, 0.028475676, 0.0015285183, 0.0035615, 0.07104521, -0.043578528, 0.08982173, -0.0047297236, -0.07720474, -0.0017794349, 0.006420376, -0.0053861174, -0.005143488, 0.02046244, 0.022316061, -0.09216454, -0.010180219, -0.0052485396, -0.000525102, -0.0058168694, -0.024769526, 0.0044610486, 0.04648445, -0.027274042, -0.011300517, -0.0041897516, -0.004697791, 0.060553502, 0.0114173675, 0.0069037196, -0.0063243434, -0.00014588554, -0.07078655, 0.017957367, 0.014637445, -0.007986603, -0.0046763914, -0.03796319, 0.0038428584, 0.0034928306, 0.002413856, -0.0037472895, 0.009444483, 0.026473807, -0.0065195486, 0.0055547915, 0.00289393, 0.0012005343, -0.0032966607, -5.9912516f-5, -0.016348751, -0.0063141934, 0.008055866, -0.0032897706, 0.008475899, 0.0034076616, 0.00063808187, 0.0056522805, 0.0028615792, -0.005434359, 0.022537954, -0.0027294876, -0.0016914586, 0.007169918, -0.026318846, 0.0051001413, -0.01079829, -0.017201455, 0.0013669693, -0.002403797, -0.01431926, -0.00025537526, 0.015130643, 0.0037093144, -0.004891733, -0.011858243, -0.011589831, 0.034107637, -0.005495268, -0.000947322, -0.010508555, -0.0022251273, 0.019060139, -0.0576758, 0.02893994, 0.02740133, 0.02572996, -0.0025522076, -0.035982564, 0.049638607, -0.035160094, 0.03246729, -0.0100933155, 0.059007354, 0.0036333739, -0.0067392555, -0.05071244, -0.03985697, 0.013281641, -0.010978457, 0.06686184, 0.03260928, 0.022993851, -0.07397507, 0.02876451, 0.035818327, 0.03174241, -0.08806735, 0.01058812, -0.04789024, -0.015636578, -0.048052322, 0.01797417, 0.066572174, 0.016504757, 0.0063901497, -0.06991267, 0.047215212, -0.019912995, 0.039500386, 0.012282513, -0.06456388, -0.002474463, -0.021611657, 0.058180228, 0.027817661, 0.03561645, -0.022935683, -0.018684268, 0.0009309549, 0.031142358, -0.05521746, -0.04098095, -0.04690554, -0.018697668, 0.05935948, 0.037625328, -0.07880202, 0.03188056, 0.05384728, 0.04503894, 0.06694378, 0.023080885, 0.051476073, 0.007780976, 0.019296711, -0.010357851, -0.043026462, -0.016746268, 0.05489609, -0.03379951, 0.05768529, -0.006150858, -0.015928524, 0.07854922, 0.054678805, 0.041965883, 0.025849395, -0.02221481, -0.015606729, 0.077869035, 0.012256782, 0.025310565, 0.023666114, -0.058175314, -0.05324959, -0.033126604, 0.07779359, -0.03630302, 0.07989948, -0.03582103, -0.01669471, 0.015692303, 0.056236386, 0.0070968005, -0.06802388, -0.014218438, 0.06985878, -0.034469936, 0.065564126, 0.004541282, -0.020854678, 0.024728214, -0.004296898, -0.057904754], Float32[0.24207617, 0.33480337, 3.7695444, 0.04761623, 0.40026373, 0.2855903, 1.1712632, 0.25071043, 0.1753178, 0.18231949, 0.0666842, 3.6688075, 0.07926502, 0.5663045, 0.3960997, 1.7705127, 0.25163525, 0.17202233, 0.2797523, 1.9503583, 0.43556923, 0.19432013, 0.3073784, 0.17760447, 0.045594025, 0.6498442, 0.29730636, 0.10811144, 0.078618586, 0.4574452, 0.6329159, 0.30703592, 0.4206189, 0.72077304, 3.2951343, 0.40658763, 0.04119676, 0.076822415, 0.86591375, 0.7278183, 4.9480886, 0.19952057, 0.1392966, 0.13043825, 0.94214255, 5.1460896, 1.4214256, 0.18348083, 2.280563, 0.688318, 0.006772045, 0.31044942, 0.31116316, 0.066097304, 0.03295123, 0.3283753, 0.20800866, 0.3862529, 0.024741687, 0.06297476, 0.010398365, 0.835426, 0.023761062, 0.49969023, 0.017210858, 0.10032912, 0.09458487, 0.030586567, 0.056461763, 0.20958492, 0.013421956, 0.20288019, 0.06487462, 0.2808914, 0.17350277, 0.527018, 0.015985642, 0.0056935498, 0.0029326081, 0.21560757, 0.096415065, 0.022787929, 0.4921514, 0.013613096, 0.11250024, 0.07866099, 0.003974093, 0.015252085, 0.069517665, 0.13823478, 0.05811064, 0.68042, 0.007957289, 0.009847828, 0.20129448, 0.17891379, 0.35010102, 0.014128481, 0.15984958, 0.36044425, 0.25218338, 0.69863415, 0.55621254, 0.11561431, 0.5298032, 0.22851646, 0.17163254, 0.1722344, 0.06921582, 0.2985189, 0.19670188, 0.4228906, 0.076949105, 0.22534075, 0.05673094, 0.43377835, 0.14838628, 0.062164485, 0.23880443, 0.25692376, 0.061055932, 0.5141556, 0.16234536, 0.17832115, 0.047161035, 0.19758257, 0.24519067, 0.19042441, 0.116876625, 0.07662022, 0.48076892, 0.1016603, 0.3081309, 0.25551304, 0.10644615, 0.32094198, 0.038812496, 0.106497794, 0.36935857, 0.7612707, 0.4317687, 0.33022287, 0.12688404, 0.10122919, 0.6314891, 0.8532768, 0.0953949, 0.12391218, 0.4401457, 0.18305233, 1.4823735, 0.51772267, 1.9769716, 1.5340952, 0.5899198, 0.34681058, 1.8738846, 0.71622556, 1.6750649, 0.7292848, 1.7194064, 0.76583606, 0.9493041, 0.7343904, 1.2621968, 0.32445967, 0.96530795, 0.47572434, 2.441515, 1.4671845, 1.9952549, 0.99553573, 0.62599003, 0.46539107, 2.394014, 0.6732568, 1.3723828, 0.35802498, 0.334072, 0.22752514, 0.89118946, 0.7456541, 1.9373956, 0.7693063, 1.6403943, 0.43026185, 2.1469092, 1.0928471, 0.681066, 0.46494168, 1.5489805, 0.45561767, 1.7997769, 1.4901404, 1.9752603, 0.88031065, 1.492637, 0.52517086, 1.835897, 0.7392236, 1.1027125, 0.5087679, 1.965593, 1.0187343, 1.7569342, 0.68169224, 2.2233503, 1.3490648, 1.145312, 0.25505626, 2.0387053, 1.1049994, 1.8566068, 0.433525, 1.5801053, 0.36225572, 0.82593024, 0.4239012, 0.4286182, 0.19690062, 2.187128, 0.65654826, 2.4829285, 1.2587754, 1.8905886, 0.48934197, 1.9518042, 0.78117913, 1.6306453, 1.1326343, 0.9565107, 0.55743885, 1.6578329, 0.99862343, 1.4155598, 0.48635286, 1.587566, 0.4866022, 1.3448691, 0.61187255, 0.46079335, 0.5664927, 0.44665012, 0.15150397, 1.27906, 0.4487082, 0.96770173, 0.55239016, 0.87112284, 0.31537074, 3.4970765, 4.2834854], (1.6865349334963268e-14, 0.7399663251239436))))\n"
      ]
     },
     "execution_count": 8,
     "metadata": {},
     "output_type": "execute_result"
    }
   ],
   "source": [
    "result_neuralode = DiffEqFlux.sciml_train(loss_neuralode, p, ADAM(0.05), cb = callback, maxiters = 300)"
   ]
  },
  {
   "cell_type": "code",
   "execution_count": 9,
   "metadata": {},
   "outputs": [
    {
     "data": {
      "text/plain": [
       "30-element Vector{Float32}:\n",
       " 0.0\n",
       " 0.05172414\n",
       " 0.10344828\n",
       " 0.15517241\n",
       " 0.20689656\n",
       " 0.25862068\n",
       " 0.31034482\n",
       " 0.36206895\n",
       " 0.41379312\n",
       " 0.46551725\n",
       " 0.51724136\n",
       " 0.5689655\n",
       " 0.62068963\n",
       " ⋮\n",
       " 0.9310345\n",
       " 0.98275864\n",
       " 1.0344827\n",
       " 1.0862069\n",
       " 1.137931\n",
       " 1.1896552\n",
       " 1.2413793\n",
       " 1.2931035\n",
       " 1.3448275\n",
       " 1.3965517\n",
       " 1.4482758\n",
       " 1.5"
      ]
     },
     "execution_count": 9,
     "metadata": {},
     "output_type": "execute_result"
    }
   ],
   "source": [
    "prob_neuralode(u0, result_neuralode.minimizer).t"
   ]
  },
  {
   "cell_type": "code",
   "execution_count": 12,
   "metadata": {},
   "outputs": [
    {
     "data": {
      "text/plain": [
       "2×30 CuArray{Float32, 2}:\n",
       " 2.0  1.88976  1.73067  1.2757   0.605417  …  1.35644   1.30392   1.18145\n",
       " 0.0  0.66596  1.33182  1.75005  1.82845      0.398544  0.695747  0.985157"
      ]
     },
     "execution_count": 12,
     "metadata": {},
     "output_type": "execute_result"
    }
   ],
   "source": [
    "prob_neuralode(u0, result_neuralode.minimizer) |> Array"
   ]
  },
  {
   "cell_type": "code",
   "execution_count": 20,
   "metadata": {},
   "outputs": [
    {
     "data": {
      "image/svg+xml": [
       "<?xml version=\"1.0\" encoding=\"utf-8\"?>\n",
       "<svg xmlns=\"http://www.w3.org/2000/svg\" xmlns:xlink=\"http://www.w3.org/1999/xlink\" width=\"600\" height=\"400\" viewBox=\"0 0 2400 1600\">\n",
       "<defs>\n",
       "  <clipPath id=\"clip940\">\n",
       "    <rect x=\"0\" y=\"0\" width=\"2400\" height=\"1600\"/>\n",
       "  </clipPath>\n",
       "</defs>\n",
       "<path clip-path=\"url(#clip940)\" d=\"\n",
       "M0 1600 L2400 1600 L2400 0 L0 0  Z\n",
       "  \" fill=\"#ffffff\" fill-rule=\"evenodd\" fill-opacity=\"1\"/>\n",
       "<defs>\n",
       "  <clipPath id=\"clip941\">\n",
       "    <rect x=\"480\" y=\"0\" width=\"1681\" height=\"1600\"/>\n",
       "  </clipPath>\n",
       "</defs>\n",
       "<path clip-path=\"url(#clip940)\" d=\"\n",
       "M142.455 1486.45 L2352.76 1486.45 L2352.76 47.2441 L142.455 47.2441  Z\n",
       "  \" fill=\"#ffffff\" fill-rule=\"evenodd\" fill-opacity=\"1\"/>\n",
       "<defs>\n",
       "  <clipPath id=\"clip942\">\n",
       "    <rect x=\"142\" y=\"47\" width=\"2211\" height=\"1440\"/>\n",
       "  </clipPath>\n",
       "</defs>\n",
       "<polyline clip-path=\"url(#clip942)\" style=\"stroke:#000000; stroke-width:2; stroke-opacity:0.1; fill:none\" points=\"\n",
       "  205.01,1486.45 205.01,47.2441 \n",
       "  \"/>\n",
       "<polyline clip-path=\"url(#clip942)\" style=\"stroke:#000000; stroke-width:2; stroke-opacity:0.1; fill:none\" points=\"\n",
       "  900.074,1486.45 900.074,47.2441 \n",
       "  \"/>\n",
       "<polyline clip-path=\"url(#clip942)\" style=\"stroke:#000000; stroke-width:2; stroke-opacity:0.1; fill:none\" points=\"\n",
       "  1595.14,1486.45 1595.14,47.2441 \n",
       "  \"/>\n",
       "<polyline clip-path=\"url(#clip942)\" style=\"stroke:#000000; stroke-width:2; stroke-opacity:0.1; fill:none\" points=\"\n",
       "  2290.2,1486.45 2290.2,47.2441 \n",
       "  \"/>\n",
       "<polyline clip-path=\"url(#clip940)\" style=\"stroke:#000000; stroke-width:4; stroke-opacity:1; fill:none\" points=\"\n",
       "  142.455,1486.45 2352.76,1486.45 \n",
       "  \"/>\n",
       "<polyline clip-path=\"url(#clip940)\" style=\"stroke:#000000; stroke-width:4; stroke-opacity:1; fill:none\" points=\"\n",
       "  205.01,1486.45 205.01,1469.18 \n",
       "  \"/>\n",
       "<polyline clip-path=\"url(#clip940)\" style=\"stroke:#000000; stroke-width:4; stroke-opacity:1; fill:none\" points=\"\n",
       "  900.074,1486.45 900.074,1469.18 \n",
       "  \"/>\n",
       "<polyline clip-path=\"url(#clip940)\" style=\"stroke:#000000; stroke-width:4; stroke-opacity:1; fill:none\" points=\"\n",
       "  1595.14,1486.45 1595.14,1469.18 \n",
       "  \"/>\n",
       "<polyline clip-path=\"url(#clip940)\" style=\"stroke:#000000; stroke-width:4; stroke-opacity:1; fill:none\" points=\"\n",
       "  2290.2,1486.45 2290.2,1469.18 \n",
       "  \"/>\n",
       "<path clip-path=\"url(#clip940)\" d=\"M 0 0 M186.527 1515.64 Q182.916 1515.64 181.087 1519.2 Q179.281 1522.75 179.281 1529.87 Q179.281 1536.98 181.087 1540.55 Q182.916 1544.09 186.527 1544.09 Q190.161 1544.09 191.967 1540.55 Q193.795 1536.98 193.795 1529.87 Q193.795 1522.75 191.967 1519.2 Q190.161 1515.64 186.527 1515.64 M186.527 1511.93 Q192.337 1511.93 195.392 1516.54 Q198.471 1521.12 198.471 1529.87 Q198.471 1538.6 195.392 1543.21 Q192.337 1547.79 186.527 1547.79 Q180.717 1547.79 177.638 1543.21 Q174.582 1538.6 174.582 1529.87 Q174.582 1521.12 177.638 1516.54 Q180.717 1511.93 186.527 1511.93 Z\" fill=\"#000000\" fill-rule=\"evenodd\" fill-opacity=\"1\" /><path clip-path=\"url(#clip940)\" d=\"M 0 0 M203.541 1541.24 L208.425 1541.24 L208.425 1547.12 L203.541 1547.12 L203.541 1541.24 Z\" fill=\"#000000\" fill-rule=\"evenodd\" fill-opacity=\"1\" /><path clip-path=\"url(#clip940)\" d=\"M 0 0 M223.494 1515.64 Q219.883 1515.64 218.054 1519.2 Q216.249 1522.75 216.249 1529.87 Q216.249 1536.98 218.054 1540.55 Q219.883 1544.09 223.494 1544.09 Q227.128 1544.09 228.934 1540.55 Q230.763 1536.98 230.763 1529.87 Q230.763 1522.75 228.934 1519.2 Q227.128 1515.64 223.494 1515.64 M223.494 1511.93 Q229.304 1511.93 232.36 1516.54 Q235.439 1521.12 235.439 1529.87 Q235.439 1538.6 232.36 1543.21 Q229.304 1547.79 223.494 1547.79 Q217.684 1547.79 214.605 1543.21 Q211.55 1538.6 211.55 1529.87 Q211.55 1521.12 214.605 1516.54 Q217.684 1511.93 223.494 1511.93 Z\" fill=\"#000000\" fill-rule=\"evenodd\" fill-opacity=\"1\" /><path clip-path=\"url(#clip940)\" d=\"M 0 0 M882.088 1515.64 Q878.477 1515.64 876.648 1519.2 Q874.842 1522.75 874.842 1529.87 Q874.842 1536.98 876.648 1540.55 Q878.477 1544.09 882.088 1544.09 Q885.722 1544.09 887.527 1540.55 Q889.356 1536.98 889.356 1529.87 Q889.356 1522.75 887.527 1519.2 Q885.722 1515.64 882.088 1515.64 M882.088 1511.93 Q887.898 1511.93 890.953 1516.54 Q894.032 1521.12 894.032 1529.87 Q894.032 1538.6 890.953 1543.21 Q887.898 1547.79 882.088 1547.79 Q876.278 1547.79 873.199 1543.21 Q870.143 1538.6 870.143 1529.87 Q870.143 1521.12 873.199 1516.54 Q876.278 1511.93 882.088 1511.93 Z\" fill=\"#000000\" fill-rule=\"evenodd\" fill-opacity=\"1\" /><path clip-path=\"url(#clip940)\" d=\"M 0 0 M899.102 1541.24 L903.986 1541.24 L903.986 1547.12 L899.102 1547.12 L899.102 1541.24 Z\" fill=\"#000000\" fill-rule=\"evenodd\" fill-opacity=\"1\" /><path clip-path=\"url(#clip940)\" d=\"M 0 0 M909.101 1512.56 L927.458 1512.56 L927.458 1516.5 L913.384 1516.5 L913.384 1524.97 Q914.402 1524.62 915.421 1524.46 Q916.439 1524.27 917.458 1524.27 Q923.245 1524.27 926.625 1527.44 Q930.004 1530.62 930.004 1536.03 Q930.004 1541.61 926.532 1544.71 Q923.06 1547.79 916.74 1547.79 Q914.564 1547.79 912.296 1547.42 Q910.051 1547.05 907.643 1546.31 L907.643 1541.61 Q909.726 1542.74 911.949 1543.3 Q914.171 1543.86 916.648 1543.86 Q920.652 1543.86 922.99 1541.75 Q925.328 1539.64 925.328 1536.03 Q925.328 1532.42 922.99 1530.31 Q920.652 1528.21 916.648 1528.21 Q914.773 1528.21 912.898 1528.62 Q911.046 1529.04 909.101 1529.92 L909.101 1512.56 Z\" fill=\"#000000\" fill-rule=\"evenodd\" fill-opacity=\"1\" /><path clip-path=\"url(#clip940)\" d=\"M 0 0 M1567.04 1543.18 L1574.67 1543.18 L1574.67 1516.82 L1566.36 1518.49 L1566.36 1514.23 L1574.63 1512.56 L1579.3 1512.56 L1579.3 1543.18 L1586.94 1543.18 L1586.94 1547.12 L1567.04 1547.12 L1567.04 1543.18 Z\" fill=\"#000000\" fill-rule=\"evenodd\" fill-opacity=\"1\" /><path clip-path=\"url(#clip940)\" d=\"M 0 0 M1592.01 1541.24 L1596.9 1541.24 L1596.9 1547.12 L1592.01 1547.12 L1592.01 1541.24 Z\" fill=\"#000000\" fill-rule=\"evenodd\" fill-opacity=\"1\" /><path clip-path=\"url(#clip940)\" d=\"M 0 0 M1611.97 1515.64 Q1608.35 1515.64 1606.53 1519.2 Q1604.72 1522.75 1604.72 1529.87 Q1604.72 1536.98 1606.53 1540.55 Q1608.35 1544.09 1611.97 1544.09 Q1615.6 1544.09 1617.41 1540.55 Q1619.23 1536.98 1619.23 1529.87 Q1619.23 1522.75 1617.41 1519.2 Q1615.6 1515.64 1611.97 1515.64 M1611.97 1511.93 Q1617.78 1511.93 1620.83 1516.54 Q1623.91 1521.12 1623.91 1529.87 Q1623.91 1538.6 1620.83 1543.21 Q1617.78 1547.79 1611.97 1547.79 Q1606.16 1547.79 1603.08 1543.21 Q1600.02 1538.6 1600.02 1529.87 Q1600.02 1521.12 1603.08 1516.54 Q1606.16 1511.93 1611.97 1511.93 Z\" fill=\"#000000\" fill-rule=\"evenodd\" fill-opacity=\"1\" /><path clip-path=\"url(#clip940)\" d=\"M 0 0 M2262.6 1543.18 L2270.24 1543.18 L2270.24 1516.82 L2261.92 1518.49 L2261.92 1514.23 L2270.19 1512.56 L2274.86 1512.56 L2274.86 1543.18 L2282.5 1543.18 L2282.5 1547.12 L2262.6 1547.12 L2262.6 1543.18 Z\" fill=\"#000000\" fill-rule=\"evenodd\" fill-opacity=\"1\" /><path clip-path=\"url(#clip940)\" d=\"M 0 0 M2287.57 1541.24 L2292.46 1541.24 L2292.46 1547.12 L2287.57 1547.12 L2287.57 1541.24 Z\" fill=\"#000000\" fill-rule=\"evenodd\" fill-opacity=\"1\" /><path clip-path=\"url(#clip940)\" d=\"M 0 0 M2297.57 1512.56 L2315.93 1512.56 L2315.93 1516.5 L2301.86 1516.5 L2301.86 1524.97 Q2302.87 1524.62 2303.89 1524.46 Q2304.91 1524.27 2305.93 1524.27 Q2311.72 1524.27 2315.1 1527.44 Q2318.48 1530.62 2318.48 1536.03 Q2318.48 1541.61 2315 1544.71 Q2311.53 1547.79 2305.21 1547.79 Q2303.04 1547.79 2300.77 1547.42 Q2298.52 1547.05 2296.11 1546.31 L2296.11 1541.61 Q2298.2 1542.74 2300.42 1543.3 Q2302.64 1543.86 2305.12 1543.86 Q2309.12 1543.86 2311.46 1541.75 Q2313.8 1539.64 2313.8 1536.03 Q2313.8 1532.42 2311.46 1530.31 Q2309.12 1528.21 2305.12 1528.21 Q2303.24 1528.21 2301.37 1528.62 Q2299.52 1529.04 2297.57 1529.92 L2297.57 1512.56 Z\" fill=\"#000000\" fill-rule=\"evenodd\" fill-opacity=\"1\" /><polyline clip-path=\"url(#clip942)\" style=\"stroke:#000000; stroke-width:2; stroke-opacity:0.1; fill:none\" points=\"\n",
       "  142.455,1185.84 2352.76,1185.84 \n",
       "  \"/>\n",
       "<polyline clip-path=\"url(#clip942)\" style=\"stroke:#000000; stroke-width:2; stroke-opacity:0.1; fill:none\" points=\"\n",
       "  142.455,819.885 2352.76,819.885 \n",
       "  \"/>\n",
       "<polyline clip-path=\"url(#clip942)\" style=\"stroke:#000000; stroke-width:2; stroke-opacity:0.1; fill:none\" points=\"\n",
       "  142.455,453.931 2352.76,453.931 \n",
       "  \"/>\n",
       "<polyline clip-path=\"url(#clip942)\" style=\"stroke:#000000; stroke-width:2; stroke-opacity:0.1; fill:none\" points=\"\n",
       "  142.455,87.9763 2352.76,87.9763 \n",
       "  \"/>\n",
       "<polyline clip-path=\"url(#clip940)\" style=\"stroke:#000000; stroke-width:4; stroke-opacity:1; fill:none\" points=\"\n",
       "  142.455,1486.45 142.455,47.2441 \n",
       "  \"/>\n",
       "<polyline clip-path=\"url(#clip940)\" style=\"stroke:#000000; stroke-width:4; stroke-opacity:1; fill:none\" points=\"\n",
       "  142.455,1185.84 168.978,1185.84 \n",
       "  \"/>\n",
       "<polyline clip-path=\"url(#clip940)\" style=\"stroke:#000000; stroke-width:4; stroke-opacity:1; fill:none\" points=\"\n",
       "  142.455,819.885 168.978,819.885 \n",
       "  \"/>\n",
       "<polyline clip-path=\"url(#clip940)\" style=\"stroke:#000000; stroke-width:4; stroke-opacity:1; fill:none\" points=\"\n",
       "  142.455,453.931 168.978,453.931 \n",
       "  \"/>\n",
       "<polyline clip-path=\"url(#clip940)\" style=\"stroke:#000000; stroke-width:4; stroke-opacity:1; fill:none\" points=\"\n",
       "  142.455,87.9763 168.978,87.9763 \n",
       "  \"/>\n",
       "<path clip-path=\"url(#clip940)\" d=\"M 0 0 M50.9921 1186.29 L80.6679 1186.29 L80.6679 1190.23 L50.9921 1190.23 L50.9921 1186.29 Z\" fill=\"#000000\" fill-rule=\"evenodd\" fill-opacity=\"1\" /><path clip-path=\"url(#clip940)\" d=\"M 0 0 M86.5475 1199.18 L94.1863 1199.18 L94.1863 1172.82 L85.8762 1174.49 L85.8762 1170.23 L94.14 1168.56 L98.8159 1168.56 L98.8159 1199.18 L106.455 1199.18 L106.455 1203.12 L86.5475 1203.12 L86.5475 1199.18 Z\" fill=\"#000000\" fill-rule=\"evenodd\" fill-opacity=\"1\" /><path clip-path=\"url(#clip940)\" d=\"M 0 0 M94.5104 805.684 Q90.8993 805.684 89.0706 809.248 Q87.2651 812.79 87.2651 819.92 Q87.2651 827.026 89.0706 830.591 Q90.8993 834.133 94.5104 834.133 Q98.1447 834.133 99.9502 830.591 Q101.779 827.026 101.779 819.92 Q101.779 812.79 99.9502 809.248 Q98.1447 805.684 94.5104 805.684 M94.5104 801.98 Q100.321 801.98 103.376 806.586 Q106.455 811.17 106.455 819.92 Q106.455 828.647 103.376 833.253 Q100.321 837.836 94.5104 837.836 Q88.7003 837.836 85.6216 833.253 Q82.566 828.647 82.566 819.92 Q82.566 811.17 85.6216 806.586 Q88.7003 801.98 94.5104 801.98 Z\" fill=\"#000000\" fill-rule=\"evenodd\" fill-opacity=\"1\" /><path clip-path=\"url(#clip940)\" d=\"M 0 0 M86.5475 467.275 L94.1863 467.275 L94.1863 440.91 L85.8762 442.577 L85.8762 438.317 L94.14 436.651 L98.8159 436.651 L98.8159 467.275 L106.455 467.275 L106.455 471.211 L86.5475 471.211 L86.5475 467.275 Z\" fill=\"#000000\" fill-rule=\"evenodd\" fill-opacity=\"1\" /><path clip-path=\"url(#clip940)\" d=\"M 0 0 M90.1354 101.321 L106.455 101.321 L106.455 105.256 L84.5105 105.256 L84.5105 101.321 Q87.1725 98.5665 91.7558 93.9369 Q96.3623 89.2841 97.5428 87.9416 Q99.7882 85.4184 100.668 83.6823 Q101.571 81.9231 101.571 80.2333 Q101.571 77.4786 99.6261 75.7425 Q97.7048 74.0064 94.603 74.0064 Q92.4039 74.0064 89.9503 74.7703 Q87.5197 75.5342 84.7419 77.0851 L84.7419 72.3629 Q87.566 71.2287 90.0197 70.65 Q92.4734 70.0713 94.5104 70.0713 Q99.8808 70.0713 103.075 72.7565 Q106.27 75.4416 106.27 79.9323 Q106.27 82.062 105.459 83.9832 Q104.672 85.8814 102.566 88.474 Q101.987 89.1453 98.8854 92.3628 Q95.7836 95.5573 90.1354 101.321 Z\" fill=\"#000000\" fill-rule=\"evenodd\" fill-opacity=\"1\" /><polyline clip-path=\"url(#clip942)\" style=\"stroke:#009af9; stroke-width:4; stroke-opacity:1; fill:none\" points=\"\n",
       "  205.01,87.9763 276.914,107.554 348.817,182.473 420.72,366.698 492.623,608.684 564.526,849.126 636.429,1076.46 708.332,1274.71 780.235,1402.14 852.138,1445.72 \n",
       "  924.041,1445.21 995.944,1436.17 1067.85,1423.54 1139.75,1388.1 1211.65,1305.9 1283.56,1178.84 1355.46,1031.28 1427.36,883.342 1499.27,740.538 1571.17,603.759 \n",
       "  1643.07,478.86 1714.98,379.414 1786.88,317.748 1858.78,292.031 1930.68,288.372 2002.59,292.792 2074.49,298.341 2146.39,305.031 2218.3,318.443 2290.2,347.018 \n",
       "  \n",
       "  \"/>\n",
       "<polyline clip-path=\"url(#clip942)\" style=\"stroke:#e26f46; stroke-width:4; stroke-opacity:1; fill:none\" points=\"\n",
       "  205.01,819.885 276.914,527.549 348.817,283.86 420.72,157.957 492.623,137.507 564.526,147.957 636.429,163.084 708.332,211.672 780.235,332.426 852.138,510.356 \n",
       "  924.041,701.529 995.944,886.387 1067.85,1062.23 1139.75,1218.8 1211.65,1331.67 1283.56,1386.13 1355.46,1397.97 1427.36,1393.15 1499.27,1385.99 1571.17,1376.07 \n",
       "  1643.07,1352.09 1714.98,1299.17 1786.88,1212.94 1858.78,1104.54 1930.68,988.421 2002.59,873.611 2074.49,762.292 2146.39,654.705 2218.3,553.217 2290.2,464.143 \n",
       "  \n",
       "  \"/>\n",
       "<circle clip-path=\"url(#clip942)\" cx=\"205.01\" cy=\"87.9763\" r=\"14\" fill=\"#3da44d\" fill-rule=\"evenodd\" fill-opacity=\"1\" stroke=\"#000000\" stroke-opacity=\"1\" stroke-width=\"3.2\"/>\n",
       "<circle clip-path=\"url(#clip942)\" cx=\"276.914\" cy=\"128.32\" r=\"14\" fill=\"#3da44d\" fill-rule=\"evenodd\" fill-opacity=\"1\" stroke=\"#000000\" stroke-opacity=\"1\" stroke-width=\"3.2\"/>\n",
       "<circle clip-path=\"url(#clip942)\" cx=\"348.817\" cy=\"186.54\" r=\"14\" fill=\"#3da44d\" fill-rule=\"evenodd\" fill-opacity=\"1\" stroke=\"#000000\" stroke-opacity=\"1\" stroke-width=\"3.2\"/>\n",
       "<circle clip-path=\"url(#clip942)\" cx=\"420.72\" cy=\"353.036\" r=\"14\" fill=\"#3da44d\" fill-rule=\"evenodd\" fill-opacity=\"1\" stroke=\"#000000\" stroke-opacity=\"1\" stroke-width=\"3.2\"/>\n",
       "<circle clip-path=\"url(#clip942)\" cx=\"492.623\" cy=\"598.33\" r=\"14\" fill=\"#3da44d\" fill-rule=\"evenodd\" fill-opacity=\"1\" stroke=\"#000000\" stroke-opacity=\"1\" stroke-width=\"3.2\"/>\n",
       "<circle clip-path=\"url(#clip942)\" cx=\"564.526\" cy=\"834.247\" r=\"14\" fill=\"#3da44d\" fill-rule=\"evenodd\" fill-opacity=\"1\" stroke=\"#000000\" stroke-opacity=\"1\" stroke-width=\"3.2\"/>\n",
       "<circle clip-path=\"url(#clip942)\" cx=\"636.429\" cy=\"1066.97\" r=\"14\" fill=\"#3da44d\" fill-rule=\"evenodd\" fill-opacity=\"1\" stroke=\"#000000\" stroke-opacity=\"1\" stroke-width=\"3.2\"/>\n",
       "<circle clip-path=\"url(#clip942)\" cx=\"708.332\" cy=\"1275.92\" r=\"14\" fill=\"#3da44d\" fill-rule=\"evenodd\" fill-opacity=\"1\" stroke=\"#000000\" stroke-opacity=\"1\" stroke-width=\"3.2\"/>\n",
       "<circle clip-path=\"url(#clip942)\" cx=\"780.235\" cy=\"1406\" r=\"14\" fill=\"#3da44d\" fill-rule=\"evenodd\" fill-opacity=\"1\" stroke=\"#000000\" stroke-opacity=\"1\" stroke-width=\"3.2\"/>\n",
       "<circle clip-path=\"url(#clip942)\" cx=\"852.138\" cy=\"1442.02\" r=\"14\" fill=\"#3da44d\" fill-rule=\"evenodd\" fill-opacity=\"1\" stroke=\"#000000\" stroke-opacity=\"1\" stroke-width=\"3.2\"/>\n",
       "<circle clip-path=\"url(#clip942)\" cx=\"924.041\" cy=\"1434.56\" r=\"14\" fill=\"#3da44d\" fill-rule=\"evenodd\" fill-opacity=\"1\" stroke=\"#000000\" stroke-opacity=\"1\" stroke-width=\"3.2\"/>\n",
       "<circle clip-path=\"url(#clip942)\" cx=\"995.944\" cy=\"1421.63\" r=\"14\" fill=\"#3da44d\" fill-rule=\"evenodd\" fill-opacity=\"1\" stroke=\"#000000\" stroke-opacity=\"1\" stroke-width=\"3.2\"/>\n",
       "<circle clip-path=\"url(#clip942)\" cx=\"1067.85\" cy=\"1409.3\" r=\"14\" fill=\"#3da44d\" fill-rule=\"evenodd\" fill-opacity=\"1\" stroke=\"#000000\" stroke-opacity=\"1\" stroke-width=\"3.2\"/>\n",
       "<circle clip-path=\"url(#clip942)\" cx=\"1139.75\" cy=\"1384.74\" r=\"14\" fill=\"#3da44d\" fill-rule=\"evenodd\" fill-opacity=\"1\" stroke=\"#000000\" stroke-opacity=\"1\" stroke-width=\"3.2\"/>\n",
       "<circle clip-path=\"url(#clip942)\" cx=\"1211.65\" cy=\"1314.5\" r=\"14\" fill=\"#3da44d\" fill-rule=\"evenodd\" fill-opacity=\"1\" stroke=\"#000000\" stroke-opacity=\"1\" stroke-width=\"3.2\"/>\n",
       "<circle clip-path=\"url(#clip942)\" cx=\"1283.56\" cy=\"1177.78\" r=\"14\" fill=\"#3da44d\" fill-rule=\"evenodd\" fill-opacity=\"1\" stroke=\"#000000\" stroke-opacity=\"1\" stroke-width=\"3.2\"/>\n",
       "<circle clip-path=\"url(#clip942)\" cx=\"1355.46\" cy=\"1032.72\" r=\"14\" fill=\"#3da44d\" fill-rule=\"evenodd\" fill-opacity=\"1\" stroke=\"#000000\" stroke-opacity=\"1\" stroke-width=\"3.2\"/>\n",
       "<circle clip-path=\"url(#clip942)\" cx=\"1427.36\" cy=\"891.234\" r=\"14\" fill=\"#3da44d\" fill-rule=\"evenodd\" fill-opacity=\"1\" stroke=\"#000000\" stroke-opacity=\"1\" stroke-width=\"3.2\"/>\n",
       "<circle clip-path=\"url(#clip942)\" cx=\"1499.27\" cy=\"752.797\" r=\"14\" fill=\"#3da44d\" fill-rule=\"evenodd\" fill-opacity=\"1\" stroke=\"#000000\" stroke-opacity=\"1\" stroke-width=\"3.2\"/>\n",
       "<circle clip-path=\"url(#clip942)\" cx=\"1571.17\" cy=\"617.44\" r=\"14\" fill=\"#3da44d\" fill-rule=\"evenodd\" fill-opacity=\"1\" stroke=\"#000000\" stroke-opacity=\"1\" stroke-width=\"3.2\"/>\n",
       "<circle clip-path=\"url(#clip942)\" cx=\"1643.07\" cy=\"489.064\" r=\"14\" fill=\"#3da44d\" fill-rule=\"evenodd\" fill-opacity=\"1\" stroke=\"#000000\" stroke-opacity=\"1\" stroke-width=\"3.2\"/>\n",
       "<circle clip-path=\"url(#clip942)\" cx=\"1714.98\" cy=\"379.465\" r=\"14\" fill=\"#3da44d\" fill-rule=\"evenodd\" fill-opacity=\"1\" stroke=\"#000000\" stroke-opacity=\"1\" stroke-width=\"3.2\"/>\n",
       "<circle clip-path=\"url(#clip942)\" cx=\"1786.88\" cy=\"314.525\" r=\"14\" fill=\"#3da44d\" fill-rule=\"evenodd\" fill-opacity=\"1\" stroke=\"#000000\" stroke-opacity=\"1\" stroke-width=\"3.2\"/>\n",
       "<circle clip-path=\"url(#clip942)\" cx=\"1858.78\" cy=\"288.306\" r=\"14\" fill=\"#3da44d\" fill-rule=\"evenodd\" fill-opacity=\"1\" stroke=\"#000000\" stroke-opacity=\"1\" stroke-width=\"3.2\"/>\n",
       "<circle clip-path=\"url(#clip942)\" cx=\"1930.68\" cy=\"286.614\" r=\"14\" fill=\"#3da44d\" fill-rule=\"evenodd\" fill-opacity=\"1\" stroke=\"#000000\" stroke-opacity=\"1\" stroke-width=\"3.2\"/>\n",
       "<circle clip-path=\"url(#clip942)\" cx=\"2002.59\" cy=\"297.978\" r=\"14\" fill=\"#3da44d\" fill-rule=\"evenodd\" fill-opacity=\"1\" stroke=\"#000000\" stroke-opacity=\"1\" stroke-width=\"3.2\"/>\n",
       "<circle clip-path=\"url(#clip942)\" cx=\"2074.49\" cy=\"310.953\" r=\"14\" fill=\"#3da44d\" fill-rule=\"evenodd\" fill-opacity=\"1\" stroke=\"#000000\" stroke-opacity=\"1\" stroke-width=\"3.2\"/>\n",
       "<circle clip-path=\"url(#clip942)\" cx=\"2146.39\" cy=\"323.491\" r=\"14\" fill=\"#3da44d\" fill-rule=\"evenodd\" fill-opacity=\"1\" stroke=\"#000000\" stroke-opacity=\"1\" stroke-width=\"3.2\"/>\n",
       "<circle clip-path=\"url(#clip942)\" cx=\"2218.3\" cy=\"342.71\" r=\"14\" fill=\"#3da44d\" fill-rule=\"evenodd\" fill-opacity=\"1\" stroke=\"#000000\" stroke-opacity=\"1\" stroke-width=\"3.2\"/>\n",
       "<circle clip-path=\"url(#clip942)\" cx=\"2290.2\" cy=\"387.527\" r=\"14\" fill=\"#3da44d\" fill-rule=\"evenodd\" fill-opacity=\"1\" stroke=\"#000000\" stroke-opacity=\"1\" stroke-width=\"3.2\"/>\n",
       "<circle clip-path=\"url(#clip942)\" cx=\"205.01\" cy=\"819.885\" r=\"14\" fill=\"#c271d2\" fill-rule=\"evenodd\" fill-opacity=\"1\" stroke=\"#000000\" stroke-opacity=\"1\" stroke-width=\"3.2\"/>\n",
       "<circle clip-path=\"url(#clip942)\" cx=\"276.914\" cy=\"576.174\" r=\"14\" fill=\"#c271d2\" fill-rule=\"evenodd\" fill-opacity=\"1\" stroke=\"#000000\" stroke-opacity=\"1\" stroke-width=\"3.2\"/>\n",
       "<circle clip-path=\"url(#clip942)\" cx=\"348.817\" cy=\"332.498\" r=\"14\" fill=\"#c271d2\" fill-rule=\"evenodd\" fill-opacity=\"1\" stroke=\"#000000\" stroke-opacity=\"1\" stroke-width=\"3.2\"/>\n",
       "<circle clip-path=\"url(#clip942)\" cx=\"420.72\" cy=\"179.446\" r=\"14\" fill=\"#c271d2\" fill-rule=\"evenodd\" fill-opacity=\"1\" stroke=\"#000000\" stroke-opacity=\"1\" stroke-width=\"3.2\"/>\n",
       "<circle clip-path=\"url(#clip942)\" cx=\"492.623\" cy=\"150.754\" r=\"14\" fill=\"#c271d2\" fill-rule=\"evenodd\" fill-opacity=\"1\" stroke=\"#000000\" stroke-opacity=\"1\" stroke-width=\"3.2\"/>\n",
       "<circle clip-path=\"url(#clip942)\" cx=\"564.526\" cy=\"156.646\" r=\"14\" fill=\"#c271d2\" fill-rule=\"evenodd\" fill-opacity=\"1\" stroke=\"#000000\" stroke-opacity=\"1\" stroke-width=\"3.2\"/>\n",
       "<circle clip-path=\"url(#clip942)\" cx=\"636.429\" cy=\"167.102\" r=\"14\" fill=\"#c271d2\" fill-rule=\"evenodd\" fill-opacity=\"1\" stroke=\"#000000\" stroke-opacity=\"1\" stroke-width=\"3.2\"/>\n",
       "<circle clip-path=\"url(#clip942)\" cx=\"708.332\" cy=\"212.976\" r=\"14\" fill=\"#c271d2\" fill-rule=\"evenodd\" fill-opacity=\"1\" stroke=\"#000000\" stroke-opacity=\"1\" stroke-width=\"3.2\"/>\n",
       "<circle clip-path=\"url(#clip942)\" cx=\"780.235\" cy=\"333.428\" r=\"14\" fill=\"#c271d2\" fill-rule=\"evenodd\" fill-opacity=\"1\" stroke=\"#000000\" stroke-opacity=\"1\" stroke-width=\"3.2\"/>\n",
       "<circle clip-path=\"url(#clip942)\" cx=\"852.138\" cy=\"488.632\" r=\"14\" fill=\"#c271d2\" fill-rule=\"evenodd\" fill-opacity=\"1\" stroke=\"#000000\" stroke-opacity=\"1\" stroke-width=\"3.2\"/>\n",
       "<circle clip-path=\"url(#clip942)\" cx=\"924.041\" cy=\"678.331\" r=\"14\" fill=\"#c271d2\" fill-rule=\"evenodd\" fill-opacity=\"1\" stroke=\"#000000\" stroke-opacity=\"1\" stroke-width=\"3.2\"/>\n",
       "<circle clip-path=\"url(#clip942)\" cx=\"995.944\" cy=\"869.325\" r=\"14\" fill=\"#c271d2\" fill-rule=\"evenodd\" fill-opacity=\"1\" stroke=\"#000000\" stroke-opacity=\"1\" stroke-width=\"3.2\"/>\n",
       "<circle clip-path=\"url(#clip942)\" cx=\"1067.85\" cy=\"1054.74\" r=\"14\" fill=\"#c271d2\" fill-rule=\"evenodd\" fill-opacity=\"1\" stroke=\"#000000\" stroke-opacity=\"1\" stroke-width=\"3.2\"/>\n",
       "<circle clip-path=\"url(#clip942)\" cx=\"1139.75\" cy=\"1228.88\" r=\"14\" fill=\"#c271d2\" fill-rule=\"evenodd\" fill-opacity=\"1\" stroke=\"#000000\" stroke-opacity=\"1\" stroke-width=\"3.2\"/>\n",
       "<circle clip-path=\"url(#clip942)\" cx=\"1211.65\" cy=\"1353\" r=\"14\" fill=\"#c271d2\" fill-rule=\"evenodd\" fill-opacity=\"1\" stroke=\"#000000\" stroke-opacity=\"1\" stroke-width=\"3.2\"/>\n",
       "<circle clip-path=\"url(#clip942)\" cx=\"1283.56\" cy=\"1399.92\" r=\"14\" fill=\"#c271d2\" fill-rule=\"evenodd\" fill-opacity=\"1\" stroke=\"#000000\" stroke-opacity=\"1\" stroke-width=\"3.2\"/>\n",
       "<circle clip-path=\"url(#clip942)\" cx=\"1355.46\" cy=\"1401.86\" r=\"14\" fill=\"#c271d2\" fill-rule=\"evenodd\" fill-opacity=\"1\" stroke=\"#000000\" stroke-opacity=\"1\" stroke-width=\"3.2\"/>\n",
       "<circle clip-path=\"url(#clip942)\" cx=\"1427.36\" cy=\"1389.6\" r=\"14\" fill=\"#c271d2\" fill-rule=\"evenodd\" fill-opacity=\"1\" stroke=\"#000000\" stroke-opacity=\"1\" stroke-width=\"3.2\"/>\n",
       "<circle clip-path=\"url(#clip942)\" cx=\"1499.27\" cy=\"1376.72\" r=\"14\" fill=\"#c271d2\" fill-rule=\"evenodd\" fill-opacity=\"1\" stroke=\"#000000\" stroke-opacity=\"1\" stroke-width=\"3.2\"/>\n",
       "<circle clip-path=\"url(#clip942)\" cx=\"1571.17\" cy=\"1363.38\" r=\"14\" fill=\"#c271d2\" fill-rule=\"evenodd\" fill-opacity=\"1\" stroke=\"#000000\" stroke-opacity=\"1\" stroke-width=\"3.2\"/>\n",
       "<circle clip-path=\"url(#clip942)\" cx=\"1643.07\" cy=\"1339.69\" r=\"14\" fill=\"#c271d2\" fill-rule=\"evenodd\" fill-opacity=\"1\" stroke=\"#000000\" stroke-opacity=\"1\" stroke-width=\"3.2\"/>\n",
       "<circle clip-path=\"url(#clip942)\" cx=\"1714.98\" cy=\"1292.68\" r=\"14\" fill=\"#c271d2\" fill-rule=\"evenodd\" fill-opacity=\"1\" stroke=\"#000000\" stroke-opacity=\"1\" stroke-width=\"3.2\"/>\n",
       "<circle clip-path=\"url(#clip942)\" cx=\"1786.88\" cy=\"1226.07\" r=\"14\" fill=\"#c271d2\" fill-rule=\"evenodd\" fill-opacity=\"1\" stroke=\"#000000\" stroke-opacity=\"1\" stroke-width=\"3.2\"/>\n",
       "<circle clip-path=\"url(#clip942)\" cx=\"1858.78\" cy=\"1139.23\" r=\"14\" fill=\"#c271d2\" fill-rule=\"evenodd\" fill-opacity=\"1\" stroke=\"#000000\" stroke-opacity=\"1\" stroke-width=\"3.2\"/>\n",
       "<circle clip-path=\"url(#clip942)\" cx=\"1930.68\" cy=\"1027.16\" r=\"14\" fill=\"#c271d2\" fill-rule=\"evenodd\" fill-opacity=\"1\" stroke=\"#000000\" stroke-opacity=\"1\" stroke-width=\"3.2\"/>\n",
       "<circle clip-path=\"url(#clip942)\" cx=\"2002.59\" cy=\"903.231\" r=\"14\" fill=\"#c271d2\" fill-rule=\"evenodd\" fill-opacity=\"1\" stroke=\"#000000\" stroke-opacity=\"1\" stroke-width=\"3.2\"/>\n",
       "<circle clip-path=\"url(#clip942)\" cx=\"2074.49\" cy=\"784.534\" r=\"14\" fill=\"#c271d2\" fill-rule=\"evenodd\" fill-opacity=\"1\" stroke=\"#000000\" stroke-opacity=\"1\" stroke-width=\"3.2\"/>\n",
       "<circle clip-path=\"url(#clip942)\" cx=\"2146.39\" cy=\"674.036\" r=\"14\" fill=\"#c271d2\" fill-rule=\"evenodd\" fill-opacity=\"1\" stroke=\"#000000\" stroke-opacity=\"1\" stroke-width=\"3.2\"/>\n",
       "<circle clip-path=\"url(#clip942)\" cx=\"2218.3\" cy=\"565.273\" r=\"14\" fill=\"#c271d2\" fill-rule=\"evenodd\" fill-opacity=\"1\" stroke=\"#000000\" stroke-opacity=\"1\" stroke-width=\"3.2\"/>\n",
       "<circle clip-path=\"url(#clip942)\" cx=\"2290.2\" cy=\"459.363\" r=\"14\" fill=\"#c271d2\" fill-rule=\"evenodd\" fill-opacity=\"1\" stroke=\"#000000\" stroke-opacity=\"1\" stroke-width=\"3.2\"/>\n",
       "<path clip-path=\"url(#clip940)\" d=\"\n",
       "M1980.76 397.618 L2279.08 397.618 L2279.08 95.2176 L1980.76 95.2176  Z\n",
       "  \" fill=\"#ffffff\" fill-rule=\"evenodd\" fill-opacity=\"1\"/>\n",
       "<polyline clip-path=\"url(#clip940)\" style=\"stroke:#000000; stroke-width:4; stroke-opacity:1; fill:none\" points=\"\n",
       "  1980.76,397.618 2279.08,397.618 2279.08,95.2176 1980.76,95.2176 1980.76,397.618 \n",
       "  \"/>\n",
       "<polyline clip-path=\"url(#clip940)\" style=\"stroke:#009af9; stroke-width:4; stroke-opacity:1; fill:none\" points=\"\n",
       "  2005.32,155.698 2152.67,155.698 \n",
       "  \"/>\n",
       "<path clip-path=\"url(#clip940)\" d=\"M 0 0 M2191.07 175.385 Q2189.27 180.015 2187.55 181.427 Q2185.84 182.839 2182.97 182.839 L2179.57 182.839 L2179.57 179.274 L2182.07 179.274 Q2183.83 179.274 2184.8 178.44 Q2185.77 177.607 2186.95 174.505 L2187.72 172.561 L2177.23 147.052 L2181.74 147.052 L2189.85 167.329 L2197.95 147.052 L2202.46 147.052 L2191.07 175.385 Z\" fill=\"#000000\" fill-rule=\"evenodd\" fill-opacity=\"1\" /><path clip-path=\"url(#clip940)\" d=\"M 0 0 M2208.34 169.042 L2215.98 169.042 L2215.98 142.677 L2207.67 144.343 L2207.67 140.084 L2215.93 138.418 L2220.61 138.418 L2220.61 169.042 L2228.25 169.042 L2228.25 172.978 L2208.34 172.978 L2208.34 169.042 Z\" fill=\"#000000\" fill-rule=\"evenodd\" fill-opacity=\"1\" /><polyline clip-path=\"url(#clip940)\" style=\"stroke:#e26f46; stroke-width:4; stroke-opacity:1; fill:none\" points=\"\n",
       "  2005.32,216.178 2152.67,216.178 \n",
       "  \"/>\n",
       "<path clip-path=\"url(#clip940)\" d=\"M 0 0 M2191.07 235.865 Q2189.27 240.495 2187.55 241.907 Q2185.84 243.319 2182.97 243.319 L2179.57 243.319 L2179.57 239.754 L2182.07 239.754 Q2183.83 239.754 2184.8 238.92 Q2185.77 238.087 2186.95 234.985 L2187.72 233.041 L2177.23 207.532 L2181.74 207.532 L2189.85 227.809 L2197.95 207.532 L2202.46 207.532 L2191.07 235.865 Z\" fill=\"#000000\" fill-rule=\"evenodd\" fill-opacity=\"1\" /><path clip-path=\"url(#clip940)\" d=\"M 0 0 M2211.56 229.522 L2227.88 229.522 L2227.88 233.458 L2205.93 233.458 L2205.93 229.522 Q2208.6 226.768 2213.18 222.138 Q2217.79 217.485 2218.97 216.143 Q2221.21 213.62 2222.09 211.884 Q2222.99 210.124 2222.99 208.435 Q2222.99 205.68 2221.05 203.944 Q2219.13 202.208 2216.03 202.208 Q2213.83 202.208 2211.37 202.972 Q2208.94 203.735 2206.17 205.286 L2206.17 200.564 Q2208.99 199.43 2211.44 198.851 Q2213.9 198.273 2215.93 198.273 Q2221.3 198.273 2224.5 200.958 Q2227.69 203.643 2227.69 208.134 Q2227.69 210.263 2226.88 212.185 Q2226.1 214.083 2223.99 216.675 Q2223.41 217.347 2220.31 220.564 Q2217.21 223.759 2211.56 229.522 Z\" fill=\"#000000\" fill-rule=\"evenodd\" fill-opacity=\"1\" /><circle clip-path=\"url(#clip940)\" cx=\"2078.99\" cy=\"276.658\" r=\"23\" fill=\"#3da44d\" fill-rule=\"evenodd\" fill-opacity=\"1\" stroke=\"#000000\" stroke-opacity=\"1\" stroke-width=\"5.12\"/>\n",
       "<path clip-path=\"url(#clip940)\" d=\"M 0 0 M2191.07 296.345 Q2189.27 300.975 2187.55 302.387 Q2185.84 303.799 2182.97 303.799 L2179.57 303.799 L2179.57 300.234 L2182.07 300.234 Q2183.83 300.234 2184.8 299.4 Q2185.77 298.567 2186.95 295.465 L2187.72 293.521 L2177.23 268.012 L2181.74 268.012 L2189.85 288.289 L2197.95 268.012 L2202.46 268.012 L2191.07 296.345 Z\" fill=\"#000000\" fill-rule=\"evenodd\" fill-opacity=\"1\" /><path clip-path=\"url(#clip940)\" d=\"M 0 0 M2221.7 275.303 Q2225.05 276.021 2226.93 278.289 Q2228.83 280.558 2228.83 283.891 Q2228.83 289.007 2225.31 291.808 Q2221.79 294.609 2215.31 294.609 Q2213.13 294.609 2210.82 294.169 Q2208.53 293.752 2206.07 292.896 L2206.07 288.382 Q2208.02 289.516 2210.33 290.095 Q2212.65 290.674 2215.17 290.674 Q2219.57 290.674 2221.86 288.938 Q2224.17 287.201 2224.17 283.891 Q2224.17 280.836 2222.02 279.123 Q2219.89 277.387 2216.07 277.387 L2212.04 277.387 L2212.04 273.544 L2216.26 273.544 Q2219.71 273.544 2221.54 272.178 Q2223.36 270.79 2223.36 268.197 Q2223.36 265.535 2221.47 264.123 Q2219.59 262.688 2216.07 262.688 Q2214.15 262.688 2211.95 263.104 Q2209.75 263.521 2207.11 264.401 L2207.11 260.234 Q2209.78 259.493 2212.09 259.123 Q2214.43 258.753 2216.49 258.753 Q2221.81 258.753 2224.92 261.183 Q2228.02 263.59 2228.02 267.711 Q2228.02 270.581 2226.37 272.572 Q2224.73 274.54 2221.7 275.303 Z\" fill=\"#000000\" fill-rule=\"evenodd\" fill-opacity=\"1\" /><circle clip-path=\"url(#clip940)\" cx=\"2078.99\" cy=\"337.138\" r=\"23\" fill=\"#c271d2\" fill-rule=\"evenodd\" fill-opacity=\"1\" stroke=\"#000000\" stroke-opacity=\"1\" stroke-width=\"5.12\"/>\n",
       "<path clip-path=\"url(#clip940)\" d=\"M 0 0 M2191.07 356.825 Q2189.27 361.455 2187.55 362.867 Q2185.84 364.279 2182.97 364.279 L2179.57 364.279 L2179.57 360.714 L2182.07 360.714 Q2183.83 360.714 2184.8 359.88 Q2185.77 359.047 2186.95 355.945 L2187.72 354.001 L2177.23 328.492 L2181.74 328.492 L2189.85 348.769 L2197.95 328.492 L2202.46 328.492 L2191.07 356.825 Z\" fill=\"#000000\" fill-rule=\"evenodd\" fill-opacity=\"1\" /><path clip-path=\"url(#clip940)\" d=\"M 0 0 M2220.38 323.932 L2208.57 342.381 L2220.38 342.381 L2220.38 323.932 M2219.15 319.858 L2225.03 319.858 L2225.03 342.381 L2229.96 342.381 L2229.96 346.269 L2225.03 346.269 L2225.03 354.418 L2220.38 354.418 L2220.38 346.269 L2204.78 346.269 L2204.78 341.756 L2219.15 319.858 Z\" fill=\"#000000\" fill-rule=\"evenodd\" fill-opacity=\"1\" /></svg>\n"
      ]
     },
     "execution_count": 20,
     "metadata": {},
     "output_type": "execute_result"
    }
   ],
   "source": [
    "plot(tsteps, ode_data[1,:] |> cpu)\n",
    "plot!(tsteps, ode_data[2,:] |> cpu)\n",
    "scatter!(prob_neuralode(u0, result_neuralode.minimizer).t, (prob_neuralode(u0, result_neuralode.minimizer) |> Array)' |> cpu)"
   ]
  },
  {
   "cell_type": "code",
   "execution_count": null,
   "metadata": {},
   "outputs": [],
   "source": []
  }
 ],
 "metadata": {
  "kernelspec": {
   "display_name": "Julia 1.6.0-rc1",
   "language": "julia",
   "name": "julia-1.6"
  },
  "language_info": {
   "file_extension": ".jl",
   "mimetype": "application/julia",
   "name": "julia",
   "version": "1.6.0"
  }
 },
 "nbformat": 4,
 "nbformat_minor": 4
}
