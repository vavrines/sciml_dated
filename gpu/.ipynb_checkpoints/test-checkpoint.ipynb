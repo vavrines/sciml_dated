{
 "cells": [
  {
   "cell_type": "markdown",
   "metadata": {},
   "source": [
    "**Deterministic shock solution of Boltzmann equation with 3D velocity formulation**"
   ]
  },
  {
   "cell_type": "code",
   "execution_count": 1,
   "metadata": {},
   "outputs": [],
   "source": [
    "using Revise, Kinetic, Plots, OffsetArrays, ProgressMeter, OrdinaryDiffEq"
   ]
  },
  {
   "cell_type": "code",
   "execution_count": 2,
   "metadata": {},
   "outputs": [],
   "source": [
    "case = \"shock\"\n",
    "space = \"1d1f3v\"\n",
    "nSpecies = 1\n",
    "interpOrder = 1\n",
    "limiter = \"vanleer\"\n",
    "cfl = 0.7\n",
    "maxTime = 250.0\n",
    "x0 = -35.0\n",
    "x1 = 35.0\n",
    "nx = 50\n",
    "pMeshType = \"uniform\"\n",
    "nxg = 1\n",
    "umin = -10.0\n",
    "umax = 10.0\n",
    "nu = 36\n",
    "nug = 0\n",
    "vmin = -10.0\n",
    "vmax = 10.0\n",
    "nv = 24\n",
    "nvg = 0\n",
    "wmin = -10.0\n",
    "wmax = 10.0\n",
    "nw = 24\n",
    "nwg = 0\n",
    "vMeshType = \"rectangle\"\n",
    "knudsen = 1.0\n",
    "mach = 2.0\n",
    "prandtl = 1.0\n",
    "inK = 0\n",
    "omega = 0.5\n",
    "alphaRef = 1.0\n",
    "omegaRef = 0.5\n",
    "nm = 5\n",
    "tLen = 3\n",
    "nh = 12;"
   ]
  },
  {
   "cell_type": "code",
   "execution_count": 3,
   "metadata": {},
   "outputs": [
    {
     "data": {
      "text/plain": [
       "0.0f0:0.0399324f0:0.0798648f0"
      ]
     },
     "execution_count": 3,
     "metadata": {},
     "output_type": "execute_result"
    }
   ],
   "source": [
    "γ = heat_capacity_ratio(inK, 1)\n",
    "set = Setup(case, space, nSpecies, interpOrder, limiter, cfl, maxTime)\n",
    "pSpace = PSpace1D(x0, x1, nx, pMeshType, nxg)\n",
    "μᵣ = ref_vhs_vis(knudsen, alphaRef, omegaRef)\n",
    "gas = GasProperty(knudsen, mach, prandtl, inK, γ, omega, alphaRef, omegaRef, μᵣ)\n",
    "vSpace = VSpace1D(umin, umax, nu, vMeshType)\n",
    "vSpace2D = VSpace2D(vmin, vmax, nv, wmin, wmax, nw, vMeshType)\n",
    "vSpace3D = VSpace3D(umin, umax, nu, vmin, vmax, nv, wmin, wmax, nw, vMeshType)\n",
    "wL, primL, hL, bL, bcL, wR, primR, hR, bR, bcR = ib_rh(mach, γ, vSpace.u, inK)\n",
    "ib = IB2F(wL, primL, hL, bL, bcL, wR, primR, hR, bR, bcR)\n",
    "ks = SolverSet(set, pSpace, vSpace, gas, ib, pwd())\n",
    "\n",
    "kn_bzm = hs_boltz_kn(ks.gas.μᵣ, 1.0)\n",
    "sos = sound_speed(ks.ib.primR, γ)\n",
    "tmax = (ks.vSpace.u1 + sos) / ks.pSpace.dx[1]\n",
    "dt = Float32(ks.set.cfl / tmax)\n",
    "tspan = (0.f0, dt)\n",
    "tran = range(tspan[1], tspan[2], length = tLen)"
   ]
  },
  {
   "cell_type": "code",
   "execution_count": 4,
   "metadata": {},
   "outputs": [],
   "source": [
    "γ = heat_capacity_ratio(inK, 3)\n",
    "set = Setup(case, space, nSpecies, interpOrder, limiter, cfl, maxTime)\n",
    "pSpace = PSpace1D(x0, x1, nx, pMeshType, nxg)\n",
    "μᵣ = ref_vhs_vis(knudsen, alphaRef, omegaRef)\n",
    "gas = GasProperty(knudsen, mach, prandtl, inK, γ, omega, alphaRef, omegaRef, μᵣ)\n",
    "vSpace = VSpace1D(umin, umax, nu, vMeshType)\n",
    "vSpace2D = VSpace2D(vmin, vmax, nv, wmin, wmax, nw, vMeshType)\n",
    "vSpace3D = VSpace3D(umin, umax, nu, vmin, vmax, nv, wmin, wmax, nw, vMeshType);"
   ]
  },
  {
   "cell_type": "code",
   "execution_count": 5,
   "metadata": {},
   "outputs": [],
   "source": [
    "primL = [1.0, mach * sqrt(γ / 2.0), 0., 0., 1.0]\n",
    "\n",
    "MaR = sqrt((mach^2 * (γ - 1.0) + 2.0) / (2.0 * γ * mach^2 - (γ - 1.0)))\n",
    "ratioT =\n",
    "    (1.0 + (γ - 1.0) / 2.0 * mach^2) * (2.0 * γ / (γ - 1.0) * mach^2 - 1.0) /\n",
    "    (mach^2 * (2.0 * γ / (γ - 1.0) + (γ - 1.0) / 2.0))\n",
    "\n",
    "primR = [\n",
    "    primL[1] * (γ + 1.0) * mach^2 / ((γ - 1.0) * mach^2 + 2.0),\n",
    "    MaR * sqrt(γ / 2.0) * sqrt(ratioT),\n",
    "    0.,\n",
    "    0.,\n",
    "    primL[end] / ratioT,\n",
    "]\n",
    "\n",
    "wL = prim_conserve(primL, γ)\n",
    "wR = prim_conserve(primR, γ)\n",
    "\n",
    "fL = maxwellian(vSpace3D.u, vSpace3D.v, vSpace3D.w, primL)\n",
    "fR = maxwellian(vSpace3D.u, vSpace3D.v, vSpace3D.w, primR)\n",
    "\n",
    "bcL = deepcopy(primL)\n",
    "bcR = deepcopy(primR);"
   ]
  },
  {
   "cell_type": "code",
   "execution_count": 6,
   "metadata": {},
   "outputs": [],
   "source": [
    "ib = IB1F(wL, primL, fL, bcL, wR, primR, fR, bcR)\n",
    "ks = SolverSet(set, pSpace, vSpace3D, gas, ib, pwd());"
   ]
  },
  {
   "cell_type": "code",
   "execution_count": 7,
   "metadata": {},
   "outputs": [
    {
     "data": {
      "text/plain": [
       "0.0f0:0.043301642f0:0.086603284f0"
      ]
     },
     "execution_count": 7,
     "metadata": {},
     "output_type": "execute_result"
    }
   ],
   "source": [
    "kn_bzm = hs_boltz_kn(ks.gas.μᵣ, 1.0)\n",
    "sos = sound_speed(ks.ib.primR, γ)\n",
    "tmax = (ks.vSpace.u1 + sos) / ks.pSpace.dx[1]\n",
    "dt = Float32(ks.set.cfl / tmax)\n",
    "tspan = (0.f0, dt)\n",
    "tran = range(tspan[1], tspan[2], length = tLen)"
   ]
  },
  {
   "cell_type": "code",
   "execution_count": 10,
   "metadata": {},
   "outputs": [
    {
     "data": {
      "text/plain": [
       "boltzmann! (generic function with 1 method)"
      ]
     },
     "execution_count": 10,
     "metadata": {},
     "output_type": "execute_result"
    }
   ],
   "source": [
    "phi, psi, phipsi = kernel_mode(\n",
    "    nm,\n",
    "    vSpace3D.u1,\n",
    "    vSpace3D.v1,\n",
    "    vSpace3D.w1,\n",
    "    vSpace3D.du[1, 1, 1],\n",
    "    vSpace3D.dv[1, 1, 1],\n",
    "    vSpace3D.dw[1, 1, 1],\n",
    "    vSpace3D.nu,\n",
    "    vSpace3D.nv,\n",
    "    vSpace3D.nw,\n",
    "    alphaRef,\n",
    ")\n",
    "\n",
    "function boltzmann(f, p, t)\n",
    "    Kn, M, phi, psi, phipsi = p\n",
    "    boltzmann_fft(f[1:end,1:end,1:end], Kn, M, phi, psi, phipsi)\n",
    "end\n",
    "\n",
    "function boltzmann!(df, f, p, t)\n",
    "    Kn, M, phi, psi, phipsi = p\n",
    "    df .= boltzmann_fft(f, Kn, M, phi, psi, phipsi)\n",
    "end"
   ]
  },
  {
   "cell_type": "code",
   "execution_count": 11,
   "metadata": {},
   "outputs": [],
   "source": [
    "ctr = OffsetArray{ControlVolume1D1F}(undef, eachindex(ks.pSpace.x))\n",
    "face = Array{Interface1D1F}(undef, ks.pSpace.nx + 1)\n",
    "for i in eachindex(ctr)\n",
    "    if i <= ks.pSpace.nx ÷ 2\n",
    "        ctr[i] = ControlVolume1D1F(\n",
    "            ks.pSpace.x[i],\n",
    "            ks.pSpace.dx[i],\n",
    "            Float32.(ks.ib.wL),\n",
    "            Float32.(ks.ib.primL),\n",
    "            Float32.(ks.ib.fL),\n",
    "        )\n",
    "    else\n",
    "        ctr[i] = ControlVolume1D1F(\n",
    "            ks.pSpace.x[i],\n",
    "            ks.pSpace.dx[i],\n",
    "            Float32.(ks.ib.wR),\n",
    "            Float32.(ks.ib.primR),\n",
    "            Float32.(ks.ib.fR),\n",
    "        )\n",
    "    end\n",
    "end\n",
    "for i = 1:ks.pSpace.nx+1\n",
    "    face[i] = Interface1D1F(ks.ib.wL, ks.ib.fL)\n",
    "end"
   ]
  },
  {
   "cell_type": "code",
   "execution_count": 15,
   "metadata": {},
   "outputs": [
    {
     "data": {
      "text/plain": [
       "step! (generic function with 1 method)"
      ]
     },
     "execution_count": 15,
     "metadata": {},
     "output_type": "execute_result"
    }
   ],
   "source": [
    "function step!(\n",
    "    fwL::Array{<:AbstractFloat,1},\n",
    "    ffL::AbstractArray{<:AbstractFloat,3},\n",
    "    w::Array{<:AbstractFloat,1},\n",
    "    prim::Array{<:AbstractFloat,1},\n",
    "    f::AbstractArray{<:AbstractFloat,3},\n",
    "    fwR::Array{<:AbstractFloat,1},\n",
    "    ffR::AbstractArray{<:AbstractFloat,3},\n",
    "    γ::Real,\n",
    "    uVelo::AbstractArray{<:AbstractFloat,3},\n",
    "    vVelo::AbstractArray{<:AbstractFloat,3},\n",
    "    wVelo::AbstractArray{<:AbstractFloat,3},\n",
    "    μᵣ::Real,\n",
    "    ω::Real,\n",
    "    dx::Real,\n",
    "    dt::Real,\n",
    "    RES::Array{<:AbstractFloat,1},\n",
    "    AVG::Array{<:AbstractFloat,1},\n",
    ")\n",
    "\n",
    "    #--- store W^n and calculate H^n,\\tau^n ---#\n",
    "    w_old = deepcopy(w)\n",
    "\n",
    "    #--- update W^{n+1} ---#\n",
    "    @. w += (fwL - fwR) / dx\n",
    "    prim .= conserve_prim(w, γ)\n",
    "\n",
    "    #--- record residuals ---#\n",
    "    @. RES += (w - w_old)^2\n",
    "    @. AVG += abs(w)\n",
    "\n",
    "    # Boltzmann\n",
    "    df = boltzmann(f, [kn_bzm, nm, phi, psi, phipsi], tspan)\n",
    "    @. f += df * dt\n",
    "    \n",
    "    #prob = ODEProblem(boltzmann!, f[1:end,1:end,1:end], tspan, [kn_bzm, nm, phi, psi, phipsi])\n",
    "    #prob = ODEProblem(boltzmann!, f, tspan, [kn_bzm, nm, phi, psi, phipsi])\n",
    "    #f .= Array(solve(prob, Midpoint(), saveat=tran))[:,:,:,end]\n",
    "    \n",
    "    # BGK\n",
    "    #M = maxwellian(uVelo, vVelo, wVelo, prim)\n",
    "    #τ = vhs_collision_time(prim, μᵣ, ω)\n",
    "\n",
    "    for k in axes(wVelo, 3), j in axes(vVelo, 2), i in axes(uVelo, 1)\n",
    "        f[i, j, k] += (ffL[i, j, k] - ffR[i, j, k]) / dx\n",
    "    end\n",
    "\n",
    "end"
   ]
  },
  {
   "cell_type": "code",
   "execution_count": 16,
   "metadata": {},
   "outputs": [
    {
     "data": {
      "text/plain": [
       "update! (generic function with 1 method)"
      ]
     },
     "execution_count": 16,
     "metadata": {},
     "output_type": "execute_result"
    }
   ],
   "source": [
    "function update!(\n",
    "    KS::SolverSet,\n",
    "    ctr::AbstractArray{<:AbstractControlVolume1D,1},\n",
    "    face::Array{<:AbstractInterface1D,1},\n",
    "    dt::Real,\n",
    "    residual::Array{<:AbstractFloat,1},\n",
    ")\n",
    "\n",
    "    sumRes = zeros(axes(KS.ib.wL))\n",
    "    sumAvg = zeros(axes(KS.ib.wL))\n",
    "\n",
    "    for i = 2:KS.pSpace.nx-1\n",
    "        @inbounds step!(\n",
    "            face[i].fw,\n",
    "            face[i].ff,\n",
    "            ctr[i].w,\n",
    "            ctr[i].prim,\n",
    "            ctr[i].f,\n",
    "            face[i+1].fw,\n",
    "            face[i+1].ff,\n",
    "            KS.gas.γ,\n",
    "            KS.vSpace.u,\n",
    "            KS.vSpace.v,\n",
    "            KS.vSpace.w,\n",
    "            KS.gas.μᵣ,\n",
    "            KS.gas.ω,\n",
    "            ctr[i].dx,\n",
    "            dt,\n",
    "            sumRes,\n",
    "            sumAvg,\n",
    "        )\n",
    "    end\n",
    "\n",
    "    for i in eachindex(residual)\n",
    "        residual[i] = sqrt(sumRes[i] * KS.pSpace.nx) / (sumAvg[i] + 1.e-7)\n",
    "    end\n",
    "\n",
    "end"
   ]
  },
  {
   "cell_type": "code",
   "execution_count": 19,
   "metadata": {},
   "outputs": [
    {
     "name": "stderr",
     "output_type": "stream",
     "text": [
      "\u001b[32mProgress: 100%|█████████████████████████████████████████| Time: 0:01:38\u001b[39m\n"
     ]
    }
   ],
   "source": [
    "residual = Array{Float32}(undef, 5)\n",
    "\n",
    "@showprogress for iter = 1:200\n",
    "    Kinetic.evolve!(ks, ctr, face, dt)\n",
    "    update!(ks, ctr, face, dt, residual)\n",
    "end"
   ]
  },
  {
   "cell_type": "code",
   "execution_count": 20,
   "metadata": {},
   "outputs": [
    {
     "data": {
      "image/svg+xml": [
       "<?xml version=\"1.0\" encoding=\"utf-8\"?>\n",
       "<svg xmlns=\"http://www.w3.org/2000/svg\" xmlns:xlink=\"http://www.w3.org/1999/xlink\" width=\"600\" height=\"400\" viewBox=\"0 0 2400 1600\">\n",
       "<defs>\n",
       "  <clipPath id=\"clip800\">\n",
       "    <rect x=\"0\" y=\"0\" width=\"2400\" height=\"1600\"/>\n",
       "  </clipPath>\n",
       "</defs>\n",
       "<path clip-path=\"url(#clip800)\" d=\"\n",
       "M0 1600 L2400 1600 L2400 0 L0 0  Z\n",
       "  \" fill=\"#ffffff\" fill-rule=\"evenodd\" fill-opacity=\"1\"/>\n",
       "<defs>\n",
       "  <clipPath id=\"clip801\">\n",
       "    <rect x=\"480\" y=\"0\" width=\"1681\" height=\"1600\"/>\n",
       "  </clipPath>\n",
       "</defs>\n",
       "<path clip-path=\"url(#clip800)\" d=\"\n",
       "M147.663 1423.18 L2352.76 1423.18 L2352.76 47.2441 L147.663 47.2441  Z\n",
       "  \" fill=\"#ffffff\" fill-rule=\"evenodd\" fill-opacity=\"1\"/>\n",
       "<defs>\n",
       "  <clipPath id=\"clip802\">\n",
       "    <rect x=\"147\" y=\"47\" width=\"2206\" height=\"1377\"/>\n",
       "  </clipPath>\n",
       "</defs>\n",
       "<polyline clip-path=\"url(#clip802)\" style=\"stroke:#000000; stroke-width:2; stroke-opacity:0.1; fill:none\" points=\"\n",
       "  340.468,1423.18 340.468,47.2441 \n",
       "  \"/>\n",
       "<polyline clip-path=\"url(#clip802)\" style=\"stroke:#000000; stroke-width:2; stroke-opacity:0.1; fill:none\" points=\"\n",
       "  643.715,1423.18 643.715,47.2441 \n",
       "  \"/>\n",
       "<polyline clip-path=\"url(#clip802)\" style=\"stroke:#000000; stroke-width:2; stroke-opacity:0.1; fill:none\" points=\"\n",
       "  946.962,1423.18 946.962,47.2441 \n",
       "  \"/>\n",
       "<polyline clip-path=\"url(#clip802)\" style=\"stroke:#000000; stroke-width:2; stroke-opacity:0.1; fill:none\" points=\"\n",
       "  1250.21,1423.18 1250.21,47.2441 \n",
       "  \"/>\n",
       "<polyline clip-path=\"url(#clip802)\" style=\"stroke:#000000; stroke-width:2; stroke-opacity:0.1; fill:none\" points=\"\n",
       "  1553.46,1423.18 1553.46,47.2441 \n",
       "  \"/>\n",
       "<polyline clip-path=\"url(#clip802)\" style=\"stroke:#000000; stroke-width:2; stroke-opacity:0.1; fill:none\" points=\"\n",
       "  1856.7,1423.18 1856.7,47.2441 \n",
       "  \"/>\n",
       "<polyline clip-path=\"url(#clip802)\" style=\"stroke:#000000; stroke-width:2; stroke-opacity:0.1; fill:none\" points=\"\n",
       "  2159.95,1423.18 2159.95,47.2441 \n",
       "  \"/>\n",
       "<polyline clip-path=\"url(#clip802)\" style=\"stroke:#000000; stroke-width:2; stroke-opacity:0.1; fill:none\" points=\"\n",
       "  147.663,1293.85 2352.76,1293.85 \n",
       "  \"/>\n",
       "<polyline clip-path=\"url(#clip802)\" style=\"stroke:#000000; stroke-width:2; stroke-opacity:0.1; fill:none\" points=\"\n",
       "  147.663,1033.42 2352.76,1033.42 \n",
       "  \"/>\n",
       "<polyline clip-path=\"url(#clip802)\" style=\"stroke:#000000; stroke-width:2; stroke-opacity:0.1; fill:none\" points=\"\n",
       "  147.663,772.986 2352.76,772.986 \n",
       "  \"/>\n",
       "<polyline clip-path=\"url(#clip802)\" style=\"stroke:#000000; stroke-width:2; stroke-opacity:0.1; fill:none\" points=\"\n",
       "  147.663,512.554 2352.76,512.554 \n",
       "  \"/>\n",
       "<polyline clip-path=\"url(#clip802)\" style=\"stroke:#000000; stroke-width:2; stroke-opacity:0.1; fill:none\" points=\"\n",
       "  147.663,252.122 2352.76,252.122 \n",
       "  \"/>\n",
       "<polyline clip-path=\"url(#clip800)\" style=\"stroke:#000000; stroke-width:4; stroke-opacity:1; fill:none\" points=\"\n",
       "  147.663,1423.18 2352.76,1423.18 \n",
       "  \"/>\n",
       "<polyline clip-path=\"url(#clip800)\" style=\"stroke:#000000; stroke-width:4; stroke-opacity:1; fill:none\" points=\"\n",
       "  147.663,1423.18 147.663,47.2441 \n",
       "  \"/>\n",
       "<polyline clip-path=\"url(#clip800)\" style=\"stroke:#000000; stroke-width:4; stroke-opacity:1; fill:none\" points=\"\n",
       "  340.468,1423.18 340.468,1406.67 \n",
       "  \"/>\n",
       "<polyline clip-path=\"url(#clip800)\" style=\"stroke:#000000; stroke-width:4; stroke-opacity:1; fill:none\" points=\"\n",
       "  643.715,1423.18 643.715,1406.67 \n",
       "  \"/>\n",
       "<polyline clip-path=\"url(#clip800)\" style=\"stroke:#000000; stroke-width:4; stroke-opacity:1; fill:none\" points=\"\n",
       "  946.962,1423.18 946.962,1406.67 \n",
       "  \"/>\n",
       "<polyline clip-path=\"url(#clip800)\" style=\"stroke:#000000; stroke-width:4; stroke-opacity:1; fill:none\" points=\"\n",
       "  1250.21,1423.18 1250.21,1406.67 \n",
       "  \"/>\n",
       "<polyline clip-path=\"url(#clip800)\" style=\"stroke:#000000; stroke-width:4; stroke-opacity:1; fill:none\" points=\"\n",
       "  1553.46,1423.18 1553.46,1406.67 \n",
       "  \"/>\n",
       "<polyline clip-path=\"url(#clip800)\" style=\"stroke:#000000; stroke-width:4; stroke-opacity:1; fill:none\" points=\"\n",
       "  1856.7,1423.18 1856.7,1406.67 \n",
       "  \"/>\n",
       "<polyline clip-path=\"url(#clip800)\" style=\"stroke:#000000; stroke-width:4; stroke-opacity:1; fill:none\" points=\"\n",
       "  2159.95,1423.18 2159.95,1406.67 \n",
       "  \"/>\n",
       "<polyline clip-path=\"url(#clip800)\" style=\"stroke:#000000; stroke-width:4; stroke-opacity:1; fill:none\" points=\"\n",
       "  147.663,1293.85 174.124,1293.85 \n",
       "  \"/>\n",
       "<polyline clip-path=\"url(#clip800)\" style=\"stroke:#000000; stroke-width:4; stroke-opacity:1; fill:none\" points=\"\n",
       "  147.663,1033.42 174.124,1033.42 \n",
       "  \"/>\n",
       "<polyline clip-path=\"url(#clip800)\" style=\"stroke:#000000; stroke-width:4; stroke-opacity:1; fill:none\" points=\"\n",
       "  147.663,772.986 174.124,772.986 \n",
       "  \"/>\n",
       "<polyline clip-path=\"url(#clip800)\" style=\"stroke:#000000; stroke-width:4; stroke-opacity:1; fill:none\" points=\"\n",
       "  147.663,512.554 174.124,512.554 \n",
       "  \"/>\n",
       "<polyline clip-path=\"url(#clip800)\" style=\"stroke:#000000; stroke-width:4; stroke-opacity:1; fill:none\" points=\"\n",
       "  147.663,252.122 174.124,252.122 \n",
       "  \"/>\n",
       "<path clip-path=\"url(#clip800)\" d=\"M 0 0 M307.54 1461.77 L320.016 1461.77 L320.016 1465.56 L307.54 1465.56 L307.54 1461.77 Z\" fill=\"#000000\" fill-rule=\"evenodd\" fill-opacity=\"1\" /><path clip-path=\"url(#clip800)\" d=\"M 0 0 M339.252 1458.02 Q342.609 1458.74 344.484 1461 Q346.382 1463.27 346.382 1466.61 Q346.382 1471.72 342.864 1474.52 Q339.345 1477.32 332.864 1477.32 Q330.688 1477.32 328.373 1476.88 Q326.081 1476.47 323.628 1475.61 L323.628 1471.1 Q325.572 1472.23 327.887 1472.81 Q330.202 1473.39 332.725 1473.39 Q337.123 1473.39 339.414 1471.65 Q341.729 1469.92 341.729 1466.61 Q341.729 1463.55 339.577 1461.84 Q337.447 1460.1 333.627 1460.1 L329.6 1460.1 L329.6 1456.26 L333.813 1456.26 Q337.262 1456.26 339.09 1454.89 Q340.919 1453.5 340.919 1450.91 Q340.919 1448.25 339.021 1446.84 Q337.146 1445.4 333.627 1445.4 Q331.706 1445.4 329.507 1445.82 Q327.308 1446.24 324.669 1447.11 L324.669 1442.95 Q327.331 1442.21 329.646 1441.84 Q331.984 1441.47 334.044 1441.47 Q339.368 1441.47 342.47 1443.9 Q345.572 1446.3 345.572 1450.43 Q345.572 1453.3 343.928 1455.29 Q342.285 1457.25 339.252 1458.02 Z\" fill=\"#000000\" fill-rule=\"evenodd\" fill-opacity=\"1\" /><path clip-path=\"url(#clip800)\" d=\"M 0 0 M361.451 1445.17 Q357.84 1445.17 356.012 1448.74 Q354.206 1452.28 354.206 1459.41 Q354.206 1466.51 356.012 1470.08 Q357.84 1473.62 361.451 1473.62 Q365.086 1473.62 366.891 1470.08 Q368.72 1466.51 368.72 1459.41 Q368.72 1452.28 366.891 1448.74 Q365.086 1445.17 361.451 1445.17 M361.451 1441.47 Q367.262 1441.47 370.317 1446.07 Q373.396 1450.66 373.396 1459.41 Q373.396 1468.13 370.317 1472.74 Q367.262 1477.32 361.451 1477.32 Q355.641 1477.32 352.563 1472.74 Q349.507 1468.13 349.507 1459.41 Q349.507 1450.66 352.563 1446.07 Q355.641 1441.47 361.451 1441.47 Z\" fill=\"#000000\" fill-rule=\"evenodd\" fill-opacity=\"1\" /><path clip-path=\"url(#clip800)\" d=\"M 0 0 M611.261 1461.77 L623.738 1461.77 L623.738 1465.56 L611.261 1465.56 L611.261 1461.77 Z\" fill=\"#000000\" fill-rule=\"evenodd\" fill-opacity=\"1\" /><path clip-path=\"url(#clip800)\" d=\"M 0 0 M632.835 1472.72 L649.155 1472.72 L649.155 1476.65 L627.21 1476.65 L627.21 1472.72 Q629.872 1469.96 634.456 1465.33 Q639.062 1460.68 640.243 1459.34 Q642.488 1456.81 643.368 1455.08 Q644.271 1453.32 644.271 1451.63 Q644.271 1448.87 642.326 1447.14 Q640.405 1445.4 637.303 1445.4 Q635.104 1445.4 632.65 1446.17 Q630.22 1446.93 627.442 1448.48 L627.442 1443.76 Q630.266 1442.62 632.72 1442.05 Q635.173 1441.47 637.21 1441.47 Q642.581 1441.47 645.775 1444.15 Q648.97 1446.84 648.97 1451.33 Q648.97 1453.46 648.159 1455.38 Q647.372 1457.28 645.266 1459.87 Q644.687 1460.54 641.585 1463.76 Q638.484 1466.95 632.835 1472.72 Z\" fill=\"#000000\" fill-rule=\"evenodd\" fill-opacity=\"1\" /><path clip-path=\"url(#clip800)\" d=\"M 0 0 M664.224 1445.17 Q660.613 1445.17 658.784 1448.74 Q656.979 1452.28 656.979 1459.41 Q656.979 1466.51 658.784 1470.08 Q660.613 1473.62 664.224 1473.62 Q667.858 1473.62 669.664 1470.08 Q671.493 1466.51 671.493 1459.41 Q671.493 1452.28 669.664 1448.74 Q667.858 1445.17 664.224 1445.17 M664.224 1441.47 Q670.034 1441.47 673.09 1446.07 Q676.169 1450.66 676.169 1459.41 Q676.169 1468.13 673.09 1472.74 Q670.034 1477.32 664.224 1477.32 Q658.414 1477.32 655.335 1472.74 Q652.28 1468.13 652.28 1459.41 Q652.28 1450.66 655.335 1446.07 Q658.414 1441.47 664.224 1441.47 Z\" fill=\"#000000\" fill-rule=\"evenodd\" fill-opacity=\"1\" /><path clip-path=\"url(#clip800)\" d=\"M 0 0 M914.324 1461.77 L926.8 1461.77 L926.8 1465.56 L914.324 1465.56 L914.324 1461.77 Z\" fill=\"#000000\" fill-rule=\"evenodd\" fill-opacity=\"1\" /><path clip-path=\"url(#clip800)\" d=\"M 0 0 M932.68 1472.72 L940.319 1472.72 L940.319 1446.35 L932.009 1448.02 L932.009 1443.76 L940.272 1442.09 L944.948 1442.09 L944.948 1472.72 L952.587 1472.72 L952.587 1476.65 L932.68 1476.65 L932.68 1472.72 Z\" fill=\"#000000\" fill-rule=\"evenodd\" fill-opacity=\"1\" /><path clip-path=\"url(#clip800)\" d=\"M 0 0 M967.657 1445.17 Q964.045 1445.17 962.217 1448.74 Q960.411 1452.28 960.411 1459.41 Q960.411 1466.51 962.217 1470.08 Q964.045 1473.62 967.657 1473.62 Q971.291 1473.62 973.096 1470.08 Q974.925 1466.51 974.925 1459.41 Q974.925 1452.28 973.096 1448.74 Q971.291 1445.17 967.657 1445.17 M967.657 1441.47 Q973.467 1441.47 976.522 1446.07 Q979.601 1450.66 979.601 1459.41 Q979.601 1468.13 976.522 1472.74 Q973.467 1477.32 967.657 1477.32 Q961.846 1477.32 958.768 1472.74 Q955.712 1468.13 955.712 1459.41 Q955.712 1450.66 958.768 1446.07 Q961.846 1441.47 967.657 1441.47 Z\" fill=\"#000000\" fill-rule=\"evenodd\" fill-opacity=\"1\" /><path clip-path=\"url(#clip800)\" d=\"M 0 0 M1250.21 1445.17 Q1246.6 1445.17 1244.77 1448.74 Q1242.96 1452.28 1242.96 1459.41 Q1242.96 1466.51 1244.77 1470.08 Q1246.6 1473.62 1250.21 1473.62 Q1253.84 1473.62 1255.65 1470.08 Q1257.48 1466.51 1257.48 1459.41 Q1257.48 1452.28 1255.65 1448.74 Q1253.84 1445.17 1250.21 1445.17 M1250.21 1441.47 Q1256.02 1441.47 1259.08 1446.07 Q1262.15 1450.66 1262.15 1459.41 Q1262.15 1468.13 1259.08 1472.74 Q1256.02 1477.32 1250.21 1477.32 Q1244.4 1477.32 1241.32 1472.74 Q1238.27 1468.13 1238.27 1459.41 Q1238.27 1450.66 1241.32 1446.07 Q1244.4 1441.47 1250.21 1441.47 Z\" fill=\"#000000\" fill-rule=\"evenodd\" fill-opacity=\"1\" /><path clip-path=\"url(#clip800)\" d=\"M 0 0 M1530.33 1472.72 L1537.97 1472.72 L1537.97 1446.35 L1529.66 1448.02 L1529.66 1443.76 L1537.92 1442.09 L1542.6 1442.09 L1542.6 1472.72 L1550.24 1472.72 L1550.24 1476.65 L1530.33 1476.65 L1530.33 1472.72 Z\" fill=\"#000000\" fill-rule=\"evenodd\" fill-opacity=\"1\" /><path clip-path=\"url(#clip800)\" d=\"M 0 0 M1565.31 1445.17 Q1561.7 1445.17 1559.87 1448.74 Q1558.06 1452.28 1558.06 1459.41 Q1558.06 1466.51 1559.87 1470.08 Q1561.7 1473.62 1565.31 1473.62 Q1568.94 1473.62 1570.75 1470.08 Q1572.58 1466.51 1572.58 1459.41 Q1572.58 1452.28 1570.75 1448.74 Q1568.94 1445.17 1565.31 1445.17 M1565.31 1441.47 Q1571.12 1441.47 1574.17 1446.07 Q1577.25 1450.66 1577.25 1459.41 Q1577.25 1468.13 1574.17 1472.74 Q1571.12 1477.32 1565.31 1477.32 Q1559.5 1477.32 1556.42 1472.74 Q1553.36 1468.13 1553.36 1459.41 Q1553.36 1450.66 1556.42 1446.07 Q1559.5 1441.47 1565.31 1441.47 Z\" fill=\"#000000\" fill-rule=\"evenodd\" fill-opacity=\"1\" /><path clip-path=\"url(#clip800)\" d=\"M 0 0 M1837.85 1472.72 L1854.17 1472.72 L1854.17 1476.65 L1832.22 1476.65 L1832.22 1472.72 Q1834.89 1469.96 1839.47 1465.33 Q1844.08 1460.68 1845.26 1459.34 Q1847.5 1456.81 1848.38 1455.08 Q1849.29 1453.32 1849.29 1451.63 Q1849.29 1448.87 1847.34 1447.14 Q1845.42 1445.4 1842.32 1445.4 Q1840.12 1445.4 1837.66 1446.17 Q1835.23 1446.93 1832.46 1448.48 L1832.46 1443.76 Q1835.28 1442.62 1837.73 1442.05 Q1840.19 1441.47 1842.22 1441.47 Q1847.6 1441.47 1850.79 1444.15 Q1853.98 1446.84 1853.98 1451.33 Q1853.98 1453.46 1853.17 1455.38 Q1852.39 1457.28 1850.28 1459.87 Q1849.7 1460.54 1846.6 1463.76 Q1843.5 1466.95 1837.85 1472.72 Z\" fill=\"#000000\" fill-rule=\"evenodd\" fill-opacity=\"1\" /><path clip-path=\"url(#clip800)\" d=\"M 0 0 M1869.24 1445.17 Q1865.63 1445.17 1863.8 1448.74 Q1861.99 1452.28 1861.99 1459.41 Q1861.99 1466.51 1863.8 1470.08 Q1865.63 1473.62 1869.24 1473.62 Q1872.87 1473.62 1874.68 1470.08 Q1876.51 1466.51 1876.51 1459.41 Q1876.51 1452.28 1874.68 1448.74 Q1872.87 1445.17 1869.24 1445.17 M1869.24 1441.47 Q1875.05 1441.47 1878.1 1446.07 Q1881.18 1450.66 1881.18 1459.41 Q1881.18 1468.13 1878.1 1472.74 Q1875.05 1477.32 1869.24 1477.32 Q1863.43 1477.32 1860.35 1472.74 Q1857.29 1468.13 1857.29 1459.41 Q1857.29 1450.66 1860.35 1446.07 Q1863.43 1441.47 1869.24 1441.47 Z\" fill=\"#000000\" fill-rule=\"evenodd\" fill-opacity=\"1\" /><path clip-path=\"url(#clip800)\" d=\"M 0 0 M2150.69 1458.02 Q2154.05 1458.74 2155.92 1461 Q2157.82 1463.27 2157.82 1466.61 Q2157.82 1471.72 2154.3 1474.52 Q2150.78 1477.32 2144.3 1477.32 Q2142.13 1477.32 2139.81 1476.88 Q2137.52 1476.47 2135.07 1475.61 L2135.07 1471.1 Q2137.01 1472.23 2139.33 1472.81 Q2141.64 1473.39 2144.16 1473.39 Q2148.56 1473.39 2150.85 1471.65 Q2153.17 1469.92 2153.17 1466.61 Q2153.17 1463.55 2151.02 1461.84 Q2148.89 1460.1 2145.07 1460.1 L2141.04 1460.1 L2141.04 1456.26 L2145.25 1456.26 Q2148.7 1456.26 2150.53 1454.89 Q2152.36 1453.5 2152.36 1450.91 Q2152.36 1448.25 2150.46 1446.84 Q2148.59 1445.4 2145.07 1445.4 Q2143.15 1445.4 2140.95 1445.82 Q2138.75 1446.24 2136.11 1447.11 L2136.11 1442.95 Q2138.77 1442.21 2141.09 1441.84 Q2143.42 1441.47 2145.48 1441.47 Q2150.81 1441.47 2153.91 1443.9 Q2157.01 1446.3 2157.01 1450.43 Q2157.01 1453.3 2155.37 1455.29 Q2153.72 1457.25 2150.69 1458.02 Z\" fill=\"#000000\" fill-rule=\"evenodd\" fill-opacity=\"1\" /><path clip-path=\"url(#clip800)\" d=\"M 0 0 M2172.89 1445.17 Q2169.28 1445.17 2167.45 1448.74 Q2165.65 1452.28 2165.65 1459.41 Q2165.65 1466.51 2167.45 1470.08 Q2169.28 1473.62 2172.89 1473.62 Q2176.53 1473.62 2178.33 1470.08 Q2180.16 1466.51 2180.16 1459.41 Q2180.16 1452.28 2178.33 1448.74 Q2176.53 1445.17 2172.89 1445.17 M2172.89 1441.47 Q2178.7 1441.47 2181.76 1446.07 Q2184.84 1450.66 2184.84 1459.41 Q2184.84 1468.13 2181.76 1472.74 Q2178.7 1477.32 2172.89 1477.32 Q2167.08 1477.32 2164 1472.74 Q2160.95 1468.13 2160.95 1459.41 Q2160.95 1450.66 2164 1446.07 Q2167.08 1441.47 2172.89 1441.47 Z\" fill=\"#000000\" fill-rule=\"evenodd\" fill-opacity=\"1\" /><path clip-path=\"url(#clip800)\" d=\"M 0 0 M74.9365 1279.65 Q71.3254 1279.65 69.4967 1283.21 Q67.6912 1286.75 67.6912 1293.88 Q67.6912 1300.99 69.4967 1304.56 Q71.3254 1308.1 74.9365 1308.1 Q78.5707 1308.1 80.3763 1304.56 Q82.205 1300.99 82.205 1293.88 Q82.205 1286.75 80.3763 1283.21 Q78.5707 1279.65 74.9365 1279.65 M74.9365 1275.94 Q80.7467 1275.94 83.8022 1280.55 Q86.8809 1285.13 86.8809 1293.88 Q86.8809 1302.61 83.8022 1307.22 Q80.7467 1311.8 74.9365 1311.8 Q69.1264 1311.8 66.0477 1307.22 Q62.9921 1302.61 62.9921 1293.88 Q62.9921 1285.13 66.0477 1280.55 Q69.1264 1275.94 74.9365 1275.94 Z\" fill=\"#000000\" fill-rule=\"evenodd\" fill-opacity=\"1\" /><path clip-path=\"url(#clip800)\" d=\"M 0 0 M91.9503 1305.25 L96.8345 1305.25 L96.8345 1311.13 L91.9503 1311.13 L91.9503 1305.25 Z\" fill=\"#000000\" fill-rule=\"evenodd\" fill-opacity=\"1\" /><path clip-path=\"url(#clip800)\" d=\"M 0 0 M102.043 1310.41 L102.043 1306.15 Q103.802 1306.99 105.608 1307.43 Q107.413 1307.87 109.149 1307.87 Q113.779 1307.87 116.209 1304.76 Q118.663 1301.64 119.01 1295.3 Q117.668 1297.29 115.608 1298.35 Q113.547 1299.42 111.047 1299.42 Q105.862 1299.42 102.83 1296.29 Q99.8206 1293.14 99.8206 1287.7 Q99.8206 1282.38 102.969 1279.16 Q106.117 1275.94 111.348 1275.94 Q117.344 1275.94 120.492 1280.55 Q123.663 1285.13 123.663 1293.88 Q123.663 1302.06 119.774 1306.94 Q115.909 1311.8 109.358 1311.8 Q107.598 1311.8 105.793 1311.45 Q103.987 1311.11 102.043 1310.41 M111.348 1295.76 Q114.496 1295.76 116.325 1293.61 Q118.177 1291.45 118.177 1287.7 Q118.177 1283.98 116.325 1281.82 Q114.496 1279.65 111.348 1279.65 Q108.2 1279.65 106.348 1281.82 Q104.52 1283.98 104.52 1287.7 Q104.52 1291.45 106.348 1293.61 Q108.2 1295.76 111.348 1295.76 Z\" fill=\"#000000\" fill-rule=\"evenodd\" fill-opacity=\"1\" /><path clip-path=\"url(#clip800)\" d=\"M 0 0 M68.3856 1046.76 L76.0245 1046.76 L76.0245 1020.4 L67.7143 1022.06 L67.7143 1017.8 L75.9782 1016.14 L80.6541 1016.14 L80.6541 1046.76 L88.2929 1046.76 L88.2929 1050.7 L68.3856 1050.7 L68.3856 1046.76 Z\" fill=\"#000000\" fill-rule=\"evenodd\" fill-opacity=\"1\" /><path clip-path=\"url(#clip800)\" d=\"M 0 0 M93.3623 1044.82 L98.2466 1044.82 L98.2466 1050.7 L93.3623 1050.7 L93.3623 1044.82 Z\" fill=\"#000000\" fill-rule=\"evenodd\" fill-opacity=\"1\" /><path clip-path=\"url(#clip800)\" d=\"M 0 0 M107.344 1046.76 L123.663 1046.76 L123.663 1050.7 L101.719 1050.7 L101.719 1046.76 Q104.381 1044.01 108.964 1039.38 Q113.571 1034.73 114.751 1033.38 Q116.996 1030.86 117.876 1029.12 Q118.779 1027.36 118.779 1025.67 Q118.779 1022.92 116.834 1021.18 Q114.913 1019.45 111.811 1019.45 Q109.612 1019.45 107.159 1020.21 Q104.728 1020.98 101.95 1022.53 L101.95 1017.8 Q104.774 1016.67 107.228 1016.09 Q109.682 1015.51 111.719 1015.51 Q117.089 1015.51 120.283 1018.2 Q123.478 1020.88 123.478 1025.37 Q123.478 1027.5 122.668 1029.42 Q121.881 1031.32 119.774 1033.92 Q119.196 1034.59 116.094 1037.8 Q112.992 1041 107.344 1046.76 Z\" fill=\"#000000\" fill-rule=\"evenodd\" fill-opacity=\"1\" /><path clip-path=\"url(#clip800)\" d=\"M 0 0 M67.7838 786.33 L75.4226 786.33 L75.4226 759.965 L67.1125 761.631 L67.1125 757.372 L75.3763 755.706 L80.0522 755.706 L80.0522 786.33 L87.6911 786.33 L87.6911 790.266 L67.7838 790.266 L67.7838 786.33 Z\" fill=\"#000000\" fill-rule=\"evenodd\" fill-opacity=\"1\" /><path clip-path=\"url(#clip800)\" d=\"M 0 0 M92.7605 784.386 L97.6447 784.386 L97.6447 790.266 L92.7605 790.266 L92.7605 784.386 Z\" fill=\"#000000\" fill-rule=\"evenodd\" fill-opacity=\"1\" /><path clip-path=\"url(#clip800)\" d=\"M 0 0 M102.76 755.706 L121.117 755.706 L121.117 759.641 L107.043 759.641 L107.043 768.113 Q108.061 767.766 109.08 767.604 Q110.098 767.418 111.117 767.418 Q116.904 767.418 120.283 770.59 Q123.663 773.761 123.663 779.178 Q123.663 784.756 120.191 787.858 Q116.719 790.937 110.399 790.937 Q108.223 790.937 105.955 790.566 Q103.71 790.196 101.302 789.455 L101.302 784.756 Q103.385 785.891 105.608 786.446 Q107.83 787.002 110.307 787.002 Q114.311 787.002 116.649 784.895 Q118.987 782.789 118.987 779.178 Q118.987 775.567 116.649 773.46 Q114.311 771.354 110.307 771.354 Q108.432 771.354 106.557 771.77 Q104.705 772.187 102.76 773.067 L102.76 755.706 Z\" fill=\"#000000\" fill-rule=\"evenodd\" fill-opacity=\"1\" /><path clip-path=\"url(#clip800)\" d=\"M 0 0 M66.881 525.898 L74.5198 525.898 L74.5198 499.533 L66.2097 501.199 L66.2097 496.94 L74.4735 495.274 L79.1494 495.274 L79.1494 525.898 L86.7883 525.898 L86.7883 529.834 L66.881 529.834 L66.881 525.898 Z\" fill=\"#000000\" fill-rule=\"evenodd\" fill-opacity=\"1\" /><path clip-path=\"url(#clip800)\" d=\"M 0 0 M91.8577 523.954 L96.7419 523.954 L96.7419 529.834 L91.8577 529.834 L91.8577 523.954 Z\" fill=\"#000000\" fill-rule=\"evenodd\" fill-opacity=\"1\" /><path clip-path=\"url(#clip800)\" d=\"M 0 0 M111.811 513.422 Q108.478 513.422 106.557 515.204 Q104.659 516.986 104.659 520.111 Q104.659 523.236 106.557 525.019 Q108.478 526.801 111.811 526.801 Q115.145 526.801 117.066 525.019 Q118.987 523.213 118.987 520.111 Q118.987 516.986 117.066 515.204 Q115.168 513.422 111.811 513.422 M107.135 511.431 Q104.126 510.69 102.436 508.63 Q100.77 506.57 100.77 503.607 Q100.77 499.463 103.71 497.056 Q106.672 494.649 111.811 494.649 Q116.973 494.649 119.913 497.056 Q122.853 499.463 122.853 503.607 Q122.853 506.57 121.163 508.63 Q119.496 510.69 116.51 511.431 Q119.89 512.218 121.765 514.51 Q123.663 516.801 123.663 520.111 Q123.663 525.135 120.584 527.82 Q117.529 530.505 111.811 530.505 Q106.094 530.505 103.015 527.82 Q99.9595 525.135 99.9595 520.111 Q99.9595 516.801 101.858 514.51 Q103.756 512.218 107.135 511.431 M105.422 504.047 Q105.422 506.732 107.089 508.236 Q108.779 509.741 111.811 509.741 Q114.821 509.741 116.51 508.236 Q118.223 506.732 118.223 504.047 Q118.223 501.362 116.51 499.857 Q114.821 498.352 111.811 498.352 Q108.779 498.352 107.089 499.857 Q105.422 501.362 105.422 504.047 Z\" fill=\"#000000\" fill-rule=\"evenodd\" fill-opacity=\"1\" /><path clip-path=\"url(#clip800)\" d=\"M 0 0 M71.6032 265.466 L87.9225 265.466 L87.9225 269.402 L65.9782 269.402 L65.9782 265.466 Q68.6402 262.712 73.2236 258.082 Q77.83 253.429 79.0106 252.087 Q81.2559 249.564 82.1355 247.828 Q83.0383 246.068 83.0383 244.379 Q83.0383 241.624 81.0939 239.888 Q79.1726 238.152 76.0708 238.152 Q73.8717 238.152 71.418 238.916 Q68.9875 239.68 66.2097 241.23 L66.2097 236.508 Q69.0338 235.374 71.4875 234.795 Q73.9411 234.217 75.9782 234.217 Q81.3485 234.217 84.5429 236.902 Q87.7374 239.587 87.7374 244.078 Q87.7374 246.207 86.9272 248.129 Q86.1402 250.027 84.0337 252.619 Q83.455 253.291 80.3531 256.508 Q77.2513 259.703 71.6032 265.466 Z\" fill=\"#000000\" fill-rule=\"evenodd\" fill-opacity=\"1\" /><path clip-path=\"url(#clip800)\" d=\"M 0 0 M92.992 263.522 L97.8762 263.522 L97.8762 269.402 L92.992 269.402 L92.992 263.522 Z\" fill=\"#000000\" fill-rule=\"evenodd\" fill-opacity=\"1\" /><path clip-path=\"url(#clip800)\" d=\"M 0 0 M103.756 265.466 L111.395 265.466 L111.395 239.101 L103.085 240.768 L103.085 236.508 L111.348 234.842 L116.024 234.842 L116.024 265.466 L123.663 265.466 L123.663 269.402 L103.756 269.402 L103.756 265.466 Z\" fill=\"#000000\" fill-rule=\"evenodd\" fill-opacity=\"1\" /><path clip-path=\"url(#clip800)\" d=\"M 0 0 M1232.04 1508.52 L1238.94 1508.52 L1250.75 1526.19 L1262.62 1508.52 L1269.53 1508.52 L1254.25 1531.34 L1270.55 1556.04 L1263.64 1556.04 L1250.27 1535.83 L1236.81 1556.04 L1229.87 1556.04 L1246.84 1530.68 L1232.04 1508.52 Z\" fill=\"#000000\" fill-rule=\"evenodd\" fill-opacity=\"1\" /><polyline clip-path=\"url(#clip802)\" style=\"stroke:#009af9; stroke-width:8; stroke-opacity:1; fill:none\" points=\"\n",
       "  210.071,1207.04 252.526,1207.05 294.981,1207.06 337.435,1207.07 379.89,1207.08 422.344,1207.09 464.799,1207.09 507.254,1207.09 549.708,1207.09 592.163,1207.08 \n",
       "  634.618,1207.07 677.072,1207.06 719.527,1207.03 761.981,1206.99 804.436,1206.91 846.891,1206.74 889.345,1206.32 931.8,1205.3 974.254,1202.81 1016.71,1196.7 \n",
       "  1059.16,1181.82 1101.62,1146.73 1144.07,1070.14 1186.53,928.227 1228.98,726.378 1271.44,516.57 1313.89,351.938 1356.35,245.778 1398.8,183.759 1441.26,147.792 \n",
       "  1483.71,125.629 1526.16,110.893 1568.62,100.725 1611.07,93.8699 1653.53,89.6061 1695.98,87.3093 1738.44,86.3554 1780.89,86.1857 1823.35,86.3707 1865.8,86.6298 \n",
       "  1908.26,86.8306 1950.71,86.9513 1993.17,87.0305 2035.62,87.1243 2078.07,87.2814 2120.53,87.5293 2162.98,87.8572 2205.44,88.2382 2247.89,88.6145 2290.35,90.9018 \n",
       "  \n",
       "  \"/>\n",
       "<polyline clip-path=\"url(#clip802)\" style=\"stroke:#e26f46; stroke-width:8; stroke-opacity:1; fill:none\" points=\"\n",
       "  210.071,490.207 252.526,490.176 294.981,490.155 337.435,490.137 379.89,490.121 422.344,490.105 464.799,490.091 507.254,490.083 549.708,490.075 592.163,490.07 \n",
       "  634.618,490.074 677.072,490.084 719.527,490.106 761.981,490.161 804.436,490.286 846.891,490.588 889.345,491.309 931.8,493.062 974.254,497.337 1016.71,507.697 \n",
       "  1059.16,532.26 1101.62,587.185 1144.07,694.671 1186.53,859.416 1228.98,1040.96 1271.44,1186.97 1313.89,1280.73 1356.35,1333.33 1398.8,1360.62 1441.26,1374.09 \n",
       "  1483.71,1380.43 1526.16,1383.18 1568.62,1384.14 1611.07,1384.24 1653.53,1383.95 1695.98,1383.5 1738.44,1383 1780.89,1382.49 1823.35,1381.98 1865.8,1381.47 \n",
       "  1908.26,1381 1950.71,1380.59 1993.17,1380.26 2035.62,1380.04 2078.07,1379.93 2120.53,1379.94 2162.98,1380.05 2205.44,1380.24 2247.89,1380.49 2290.35,1381.73 \n",
       "  \n",
       "  \"/>\n",
       "<polyline clip-path=\"url(#clip802)\" style=\"stroke:#3da44d; stroke-width:8; stroke-opacity:1; fill:none\" points=\"\n",
       "  210.071,1207.04 252.526,1206.17 294.981,1206.19 337.435,1206.23 379.89,1206.27 422.344,1206.33 464.799,1206.38 507.254,1206.44 549.708,1206.48 592.163,1206.53 \n",
       "  634.618,1206.57 677.072,1206.6 719.527,1206.6 761.981,1206.55 804.436,1206.39 846.891,1205.94 889.345,1204.81 931.8,1202.02 974.254,1195.23 1016.71,1178.86 \n",
       "  1059.16,1140.71 1101.62,1058.27 1144.07,907.883 1186.53,703.754 1228.98,512.656 1271.44,381.658 1313.89,307.311 1356.35,270.416 1398.8,255.609 1441.26,253.103 \n",
       "  1483.71,256.855 1526.16,263.014 1568.62,269.213 1611.07,274.143 1653.53,277.316 1695.98,278.769 1738.44,278.836 1780.89,277.965 1823.35,276.58 1865.8,275.007 \n",
       "  1908.26,273.488 1950.71,272.165 1993.17,271.1 2035.62,270.343 2078.07,269.835 2120.53,269.582 2162.98,269.513 2205.44,269.583 2247.89,269.767 2290.35,271.111 \n",
       "  \n",
       "  \"/>\n",
       "<path clip-path=\"url(#clip800)\" d=\"\n",
       "M1764.11 372.684 L2280.76 372.684 L2280.76 130.764 L1764.11 130.764  Z\n",
       "  \" fill=\"#ffffff\" fill-rule=\"evenodd\" fill-opacity=\"1\"/>\n",
       "<polyline clip-path=\"url(#clip800)\" style=\"stroke:#000000; stroke-width:4; stroke-opacity:1; fill:none\" points=\"\n",
       "  1764.11,372.684 2280.76,372.684 2280.76,130.764 1764.11,130.764 1764.11,372.684 \n",
       "  \"/>\n",
       "<polyline clip-path=\"url(#clip800)\" style=\"stroke:#009af9; stroke-width:4; stroke-opacity:1; fill:none\" points=\"\n",
       "  1788.11,191.244 1932.11,191.244 \n",
       "  \"/>\n",
       "<path clip-path=\"url(#clip800)\" d=\"M 0 0 M1960.79 177.807 L1960.79 204.682 L1966.44 204.682 Q1973.59 204.682 1976.9 201.441 Q1980.23 198.2 1980.23 191.209 Q1980.23 184.265 1976.9 181.047 Q1973.59 177.807 1966.44 177.807 L1960.79 177.807 M1956.11 173.964 L1965.72 173.964 Q1975.77 173.964 1980.47 178.154 Q1985.16 182.321 1985.16 191.209 Q1985.16 200.145 1980.44 204.334 Q1975.72 208.524 1965.72 208.524 L1956.11 208.524 L1956.11 173.964 Z\" fill=\"#000000\" fill-rule=\"evenodd\" fill-opacity=\"1\" /><path clip-path=\"url(#clip800)\" d=\"M 0 0 M2011.81 194.496 L2011.81 196.58 L1992.22 196.58 Q1992.5 200.978 1994.86 203.293 Q1997.25 205.584 2001.48 205.584 Q2003.94 205.584 2006.23 204.982 Q2008.54 204.381 2010.81 203.177 L2010.81 207.205 Q2008.52 208.177 2006.11 208.686 Q2003.71 209.195 2001.23 209.195 Q1995.03 209.195 1991.39 205.584 Q1987.78 201.973 1987.78 195.816 Q1987.78 189.45 1991.21 185.723 Q1994.66 181.973 2000.49 181.973 Q2005.72 181.973 2008.75 185.353 Q2011.81 188.709 2011.81 194.496 M2007.55 193.246 Q2007.5 189.751 2005.58 187.668 Q2003.68 185.584 2000.53 185.584 Q1996.97 185.584 1994.82 187.598 Q1992.69 189.612 1992.36 193.27 L2007.55 193.246 Z\" fill=\"#000000\" fill-rule=\"evenodd\" fill-opacity=\"1\" /><path clip-path=\"url(#clip800)\" d=\"M 0 0 M2037.83 192.876 L2037.83 208.524 L2033.57 208.524 L2033.57 193.015 Q2033.57 189.334 2032.13 187.506 Q2030.7 185.677 2027.83 185.677 Q2024.38 185.677 2022.39 187.876 Q2020.4 190.075 2020.4 193.871 L2020.4 208.524 L2016.11 208.524 L2016.11 182.598 L2020.4 182.598 L2020.4 186.626 Q2021.92 184.288 2023.98 183.131 Q2026.07 181.973 2028.78 181.973 Q2033.24 181.973 2035.53 184.751 Q2037.83 187.506 2037.83 192.876 Z\" fill=\"#000000\" fill-rule=\"evenodd\" fill-opacity=\"1\" /><path clip-path=\"url(#clip800)\" d=\"M 0 0 M2058.82 183.362 L2058.82 187.39 Q2057.02 186.464 2055.07 186.001 Q2053.13 185.538 2051.04 185.538 Q2047.87 185.538 2046.28 186.51 Q2044.7 187.483 2044.7 189.427 Q2044.7 190.908 2045.84 191.765 Q2046.97 192.598 2050.4 193.362 L2051.85 193.686 Q2056.39 194.658 2058.29 196.441 Q2060.21 198.2 2060.21 201.371 Q2060.21 204.982 2057.34 207.089 Q2054.49 209.195 2049.49 209.195 Q2047.41 209.195 2045.14 208.779 Q2042.9 208.385 2040.4 207.575 L2040.4 203.177 Q2042.76 204.404 2045.05 205.029 Q2047.34 205.631 2049.59 205.631 Q2052.59 205.631 2054.22 204.612 Q2055.84 203.57 2055.84 201.695 Q2055.84 199.959 2054.66 199.033 Q2053.5 198.107 2049.54 197.251 L2048.06 196.904 Q2044.1 196.07 2042.34 194.358 Q2040.58 192.621 2040.58 189.612 Q2040.58 185.955 2043.17 183.964 Q2045.77 181.973 2050.53 181.973 Q2052.9 181.973 2054.98 182.321 Q2057.06 182.668 2058.82 183.362 Z\" fill=\"#000000\" fill-rule=\"evenodd\" fill-opacity=\"1\" /><path clip-path=\"url(#clip800)\" d=\"M 0 0 M2064.68 182.598 L2068.94 182.598 L2068.94 208.524 L2064.68 208.524 L2064.68 182.598 M2064.68 172.506 L2068.94 172.506 L2068.94 177.899 L2064.68 177.899 L2064.68 172.506 Z\" fill=\"#000000\" fill-rule=\"evenodd\" fill-opacity=\"1\" /><path clip-path=\"url(#clip800)\" d=\"M 0 0 M2077.62 175.237 L2077.62 182.598 L2086.39 182.598 L2086.39 185.908 L2077.62 185.908 L2077.62 199.982 Q2077.62 203.154 2078.47 204.057 Q2079.35 204.959 2082.02 204.959 L2086.39 204.959 L2086.39 208.524 L2082.02 208.524 Q2077.09 208.524 2075.21 206.695 Q2073.34 204.844 2073.34 199.982 L2073.34 185.908 L2070.21 185.908 L2070.21 182.598 L2073.34 182.598 L2073.34 175.237 L2077.62 175.237 Z\" fill=\"#000000\" fill-rule=\"evenodd\" fill-opacity=\"1\" /><path clip-path=\"url(#clip800)\" d=\"M 0 0 M2101.65 210.931 Q2099.84 215.561 2098.13 216.973 Q2096.41 218.385 2093.54 218.385 L2090.14 218.385 L2090.14 214.82 L2092.64 214.82 Q2094.4 214.82 2095.37 213.987 Q2096.34 213.154 2097.53 210.052 L2098.29 208.107 L2087.8 182.598 L2092.32 182.598 L2100.42 202.876 L2108.52 182.598 L2113.03 182.598 L2101.65 210.931 Z\" fill=\"#000000\" fill-rule=\"evenodd\" fill-opacity=\"1\" /><polyline clip-path=\"url(#clip800)\" style=\"stroke:#e26f46; stroke-width:4; stroke-opacity:1; fill:none\" points=\"\n",
       "  1788.11,251.724 1932.11,251.724 \n",
       "  \"/>\n",
       "<path clip-path=\"url(#clip800)\" d=\"M 0 0 M1969.31 269.004 L1956.11 234.444 L1961 234.444 L1971.95 263.541 L1982.92 234.444 L1987.78 234.444 L1974.61 269.004 L1969.31 269.004 Z\" fill=\"#000000\" fill-rule=\"evenodd\" fill-opacity=\"1\" /><path clip-path=\"url(#clip800)\" d=\"M 0 0 M2010.74 254.976 L2010.74 257.06 L1991.16 257.06 Q1991.44 261.458 1993.8 263.773 Q1996.18 266.064 2000.42 266.064 Q2002.87 266.064 2005.16 265.462 Q2007.48 264.861 2009.75 263.657 L2009.75 267.685 Q2007.46 268.657 2005.05 269.166 Q2002.64 269.675 2000.16 269.675 Q1993.96 269.675 1990.33 266.064 Q1986.72 262.453 1986.72 256.296 Q1986.72 249.93 1990.14 246.203 Q1993.59 242.453 1999.42 242.453 Q2004.66 242.453 2007.69 245.833 Q2010.74 249.189 2010.74 254.976 M2006.48 253.726 Q2006.44 250.231 2004.52 248.148 Q2002.62 246.064 1999.47 246.064 Q1995.91 246.064 1993.75 248.078 Q1991.62 250.092 1991.3 253.75 L2006.48 253.726 Z\" fill=\"#000000\" fill-rule=\"evenodd\" fill-opacity=\"1\" /><path clip-path=\"url(#clip800)\" d=\"M 0 0 M2015.21 232.986 L2019.47 232.986 L2019.47 269.004 L2015.21 269.004 L2015.21 232.986 Z\" fill=\"#000000\" fill-rule=\"evenodd\" fill-opacity=\"1\" /><path clip-path=\"url(#clip800)\" d=\"M 0 0 M2033.98 246.064 Q2030.56 246.064 2028.57 248.75 Q2026.58 251.412 2026.58 256.064 Q2026.58 260.717 2028.54 263.402 Q2030.53 266.064 2033.98 266.064 Q2037.39 266.064 2039.38 263.379 Q2041.37 260.694 2041.37 256.064 Q2041.37 251.458 2039.38 248.773 Q2037.39 246.064 2033.98 246.064 M2033.98 242.453 Q2039.54 242.453 2042.71 246.064 Q2045.88 249.675 2045.88 256.064 Q2045.88 262.43 2042.71 266.064 Q2039.54 269.675 2033.98 269.675 Q2028.41 269.675 2025.23 266.064 Q2022.09 262.43 2022.09 256.064 Q2022.09 249.675 2025.23 246.064 Q2028.41 242.453 2033.98 242.453 Z\" fill=\"#000000\" fill-rule=\"evenodd\" fill-opacity=\"1\" /><path clip-path=\"url(#clip800)\" d=\"M 0 0 M2069.01 244.074 L2069.01 248.055 Q2067.2 247.06 2065.37 246.574 Q2063.57 246.064 2061.72 246.064 Q2057.57 246.064 2055.28 248.703 Q2052.99 251.319 2052.99 256.064 Q2052.99 260.81 2055.28 263.449 Q2057.57 266.064 2061.72 266.064 Q2063.57 266.064 2065.37 265.578 Q2067.2 265.069 2069.01 264.074 L2069.01 268.009 Q2067.22 268.842 2065.3 269.259 Q2063.4 269.675 2061.25 269.675 Q2055.4 269.675 2051.95 265.995 Q2048.5 262.314 2048.5 256.064 Q2048.5 249.722 2051.97 246.088 Q2055.47 242.453 2061.53 242.453 Q2063.5 242.453 2065.37 242.87 Q2067.25 243.263 2069.01 244.074 Z\" fill=\"#000000\" fill-rule=\"evenodd\" fill-opacity=\"1\" /><path clip-path=\"url(#clip800)\" d=\"M 0 0 M2073.47 243.078 L2077.73 243.078 L2077.73 269.004 L2073.47 269.004 L2073.47 243.078 M2073.47 232.986 L2077.73 232.986 L2077.73 238.379 L2073.47 238.379 L2073.47 232.986 Z\" fill=\"#000000\" fill-rule=\"evenodd\" fill-opacity=\"1\" /><path clip-path=\"url(#clip800)\" d=\"M 0 0 M2086.41 235.717 L2086.41 243.078 L2095.19 243.078 L2095.19 246.388 L2086.41 246.388 L2086.41 260.462 Q2086.41 263.634 2087.27 264.537 Q2088.15 265.439 2090.81 265.439 L2095.19 265.439 L2095.19 269.004 L2090.81 269.004 Q2085.88 269.004 2084.01 267.175 Q2082.13 265.324 2082.13 260.462 L2082.13 246.388 L2079.01 246.388 L2079.01 243.078 L2082.13 243.078 L2082.13 235.717 L2086.41 235.717 Z\" fill=\"#000000\" fill-rule=\"evenodd\" fill-opacity=\"1\" /><path clip-path=\"url(#clip800)\" d=\"M 0 0 M2110.44 271.411 Q2108.64 276.041 2106.92 277.453 Q2105.21 278.865 2102.34 278.865 L2098.94 278.865 L2098.94 275.3 L2101.44 275.3 Q2103.2 275.3 2104.17 274.467 Q2105.14 273.634 2106.32 270.532 L2107.09 268.587 L2096.6 243.078 L2101.11 243.078 L2109.21 263.356 L2117.32 243.078 L2121.83 243.078 L2110.44 271.411 Z\" fill=\"#000000\" fill-rule=\"evenodd\" fill-opacity=\"1\" /><polyline clip-path=\"url(#clip800)\" style=\"stroke:#3da44d; stroke-width:4; stroke-opacity:1; fill:none\" points=\"\n",
       "  1788.11,312.204 1932.11,312.204 \n",
       "  \"/>\n",
       "<path clip-path=\"url(#clip800)\" d=\"M 0 0 M1956.11 294.924 L1985.35 294.924 L1985.35 298.859 L1973.08 298.859 L1973.08 329.484 L1968.38 329.484 L1968.38 298.859 L1956.11 298.859 L1956.11 294.924 Z\" fill=\"#000000\" fill-rule=\"evenodd\" fill-opacity=\"1\" /><path clip-path=\"url(#clip800)\" d=\"M 0 0 M2003.94 315.456 L2003.94 317.54 L1984.35 317.54 Q1984.63 321.938 1986.99 324.253 Q1989.38 326.544 1993.61 326.544 Q1996.07 326.544 1998.36 325.942 Q2000.67 325.341 2002.94 324.137 L2002.94 328.165 Q2000.65 329.137 1998.24 329.646 Q1995.84 330.155 1993.36 330.155 Q1987.16 330.155 1983.52 326.544 Q1979.91 322.933 1979.91 316.776 Q1979.91 310.41 1983.34 306.683 Q1986.79 302.933 1992.62 302.933 Q1997.85 302.933 2000.88 306.313 Q2003.94 309.669 2003.94 315.456 M1999.68 314.206 Q1999.63 310.711 1997.71 308.628 Q1995.81 306.544 1992.66 306.544 Q1989.1 306.544 1986.95 308.558 Q1984.82 310.572 1984.49 314.23 L1999.68 314.206 Z\" fill=\"#000000\" fill-rule=\"evenodd\" fill-opacity=\"1\" /><path clip-path=\"url(#clip800)\" d=\"M 0 0 M2028.59 308.535 Q2030.19 305.665 2032.41 304.299 Q2034.63 302.933 2037.64 302.933 Q2041.69 302.933 2043.89 305.781 Q2046.09 308.605 2046.09 313.836 L2046.09 329.484 L2041.81 329.484 L2041.81 313.975 Q2041.81 310.248 2040.49 308.443 Q2039.17 306.637 2036.46 306.637 Q2033.15 306.637 2031.23 308.836 Q2029.31 311.035 2029.31 314.831 L2029.31 329.484 L2025.03 329.484 L2025.03 313.975 Q2025.03 310.225 2023.71 308.443 Q2022.39 306.637 2019.63 306.637 Q2016.37 306.637 2014.45 308.859 Q2012.53 311.058 2012.53 314.831 L2012.53 329.484 L2008.24 329.484 L2008.24 303.558 L2012.53 303.558 L2012.53 307.586 Q2013.98 305.202 2016.02 304.068 Q2018.06 302.933 2020.86 302.933 Q2023.68 302.933 2025.65 304.368 Q2027.64 305.804 2028.59 308.535 Z\" fill=\"#000000\" fill-rule=\"evenodd\" fill-opacity=\"1\" /><path clip-path=\"url(#clip800)\" d=\"M 0 0 M2054.68 325.595 L2054.68 339.345 L2050.4 339.345 L2050.4 303.558 L2054.68 303.558 L2054.68 307.493 Q2056.02 305.179 2058.06 304.068 Q2060.12 302.933 2062.97 302.933 Q2067.69 302.933 2070.63 306.683 Q2073.59 310.433 2073.59 316.544 Q2073.59 322.655 2070.63 326.405 Q2067.69 330.155 2062.97 330.155 Q2060.12 330.155 2058.06 329.044 Q2056.02 327.91 2054.68 325.595 M2069.17 316.544 Q2069.17 311.845 2067.22 309.183 Q2065.3 306.498 2061.92 306.498 Q2058.54 306.498 2056.6 309.183 Q2054.68 311.845 2054.68 316.544 Q2054.68 321.243 2056.6 323.929 Q2058.54 326.591 2061.92 326.591 Q2065.3 326.591 2067.22 323.929 Q2069.17 321.243 2069.17 316.544 Z\" fill=\"#000000\" fill-rule=\"evenodd\" fill-opacity=\"1\" /><path clip-path=\"url(#clip800)\" d=\"M 0 0 M2100.23 315.456 L2100.23 317.54 L2080.65 317.54 Q2080.93 321.938 2083.29 324.253 Q2085.67 326.544 2089.91 326.544 Q2092.36 326.544 2094.65 325.942 Q2096.97 325.341 2099.24 324.137 L2099.24 328.165 Q2096.95 329.137 2094.54 329.646 Q2092.13 330.155 2089.65 330.155 Q2083.45 330.155 2079.82 326.544 Q2076.21 322.933 2076.21 316.776 Q2076.21 310.41 2079.63 306.683 Q2083.08 302.933 2088.91 302.933 Q2094.15 302.933 2097.18 306.313 Q2100.23 309.669 2100.23 315.456 M2095.97 314.206 Q2095.93 310.711 2094.01 308.628 Q2092.11 306.544 2088.96 306.544 Q2085.4 306.544 2083.24 308.558 Q2081.11 310.572 2080.79 314.23 L2095.97 314.206 Z\" fill=\"#000000\" fill-rule=\"evenodd\" fill-opacity=\"1\" /><path clip-path=\"url(#clip800)\" d=\"M 0 0 M2119.72 307.54 Q2119.01 307.123 2118.15 306.938 Q2117.32 306.73 2116.3 306.73 Q2112.69 306.73 2110.74 309.091 Q2108.82 311.429 2108.82 315.827 L2108.82 329.484 L2104.54 329.484 L2104.54 303.558 L2108.82 303.558 L2108.82 307.586 Q2110.16 305.225 2112.32 304.091 Q2114.47 302.933 2117.55 302.933 Q2117.99 302.933 2118.52 303.003 Q2119.05 303.049 2119.7 303.165 L2119.72 307.54 Z\" fill=\"#000000\" fill-rule=\"evenodd\" fill-opacity=\"1\" /><path clip-path=\"url(#clip800)\" d=\"M 0 0 M2135.97 316.452 Q2130.81 316.452 2128.82 317.632 Q2126.83 318.813 2126.83 321.66 Q2126.83 323.929 2128.31 325.271 Q2129.82 326.591 2132.39 326.591 Q2135.93 326.591 2138.06 324.091 Q2140.21 321.567 2140.21 317.401 L2140.21 316.452 L2135.97 316.452 M2144.47 314.693 L2144.47 329.484 L2140.21 329.484 L2140.21 325.549 Q2138.75 327.91 2136.58 329.044 Q2134.4 330.155 2131.25 330.155 Q2127.27 330.155 2124.91 327.933 Q2122.57 325.688 2122.57 321.938 Q2122.57 317.563 2125.49 315.341 Q2128.43 313.118 2134.24 313.118 L2140.21 313.118 L2140.21 312.702 Q2140.21 309.762 2138.27 308.165 Q2136.34 306.544 2132.85 306.544 Q2130.63 306.544 2128.52 307.077 Q2126.41 307.609 2124.47 308.674 L2124.47 304.739 Q2126.81 303.836 2129.01 303.396 Q2131.21 302.933 2133.29 302.933 Q2138.91 302.933 2141.69 305.85 Q2144.47 308.767 2144.47 314.693 Z\" fill=\"#000000\" fill-rule=\"evenodd\" fill-opacity=\"1\" /><path clip-path=\"url(#clip800)\" d=\"M 0 0 M2153.15 296.197 L2153.15 303.558 L2161.92 303.558 L2161.92 306.868 L2153.15 306.868 L2153.15 320.942 Q2153.15 324.114 2154.01 325.017 Q2154.89 325.919 2157.55 325.919 L2161.92 325.919 L2161.92 329.484 L2157.55 329.484 Q2152.62 329.484 2150.74 327.655 Q2148.87 325.804 2148.87 320.942 L2148.87 306.868 L2145.74 306.868 L2145.74 303.558 L2148.87 303.558 L2148.87 296.197 L2153.15 296.197 Z\" fill=\"#000000\" fill-rule=\"evenodd\" fill-opacity=\"1\" /><path clip-path=\"url(#clip800)\" d=\"M 0 0 M2165.95 319.253 L2165.95 303.558 L2170.21 303.558 L2170.21 319.091 Q2170.21 322.771 2171.65 324.623 Q2173.08 326.452 2175.95 326.452 Q2179.4 326.452 2181.39 324.253 Q2183.4 322.054 2183.4 318.257 L2183.4 303.558 L2187.66 303.558 L2187.66 329.484 L2183.4 329.484 L2183.4 325.503 Q2181.85 327.864 2179.79 329.021 Q2177.76 330.155 2175.05 330.155 Q2170.58 330.155 2168.27 327.378 Q2165.95 324.6 2165.95 319.253 M2176.67 302.933 L2176.67 302.933 Z\" fill=\"#000000\" fill-rule=\"evenodd\" fill-opacity=\"1\" /><path clip-path=\"url(#clip800)\" d=\"M 0 0 M2207.15 307.54 Q2206.44 307.123 2205.58 306.938 Q2204.75 306.73 2203.73 306.73 Q2200.12 306.73 2198.17 309.091 Q2196.25 311.429 2196.25 315.827 L2196.25 329.484 L2191.97 329.484 L2191.97 303.558 L2196.25 303.558 L2196.25 307.586 Q2197.59 305.225 2199.75 304.091 Q2201.9 302.933 2204.98 302.933 Q2205.42 302.933 2205.95 303.003 Q2206.48 303.049 2207.13 303.165 L2207.15 307.54 Z\" fill=\"#000000\" fill-rule=\"evenodd\" fill-opacity=\"1\" /><path clip-path=\"url(#clip800)\" d=\"M 0 0 M2232.76 315.456 L2232.76 317.54 L2213.17 317.54 Q2213.45 321.938 2215.81 324.253 Q2218.2 326.544 2222.43 326.544 Q2224.89 326.544 2227.18 325.942 Q2229.49 325.341 2231.76 324.137 L2231.76 328.165 Q2229.47 329.137 2227.06 329.646 Q2224.65 330.155 2222.18 330.155 Q2215.97 330.155 2212.34 326.544 Q2208.73 322.933 2208.73 316.776 Q2208.73 310.41 2212.15 306.683 Q2215.6 302.933 2221.44 302.933 Q2226.67 302.933 2229.7 306.313 Q2232.76 309.669 2232.76 315.456 M2228.5 314.206 Q2228.45 310.711 2226.53 308.628 Q2224.63 306.544 2221.48 306.544 Q2217.92 306.544 2215.77 308.558 Q2213.64 310.572 2213.31 314.23 L2228.5 314.206 Z\" fill=\"#000000\" fill-rule=\"evenodd\" fill-opacity=\"1\" /></svg>\n"
      ]
     },
     "metadata": {},
     "output_type": "display_data"
    }
   ],
   "source": [
    "plot_line(ks, ctr)"
   ]
  },
  {
   "cell_type": "code",
   "execution_count": null,
   "metadata": {},
   "outputs": [],
   "source": []
  },
  {
   "cell_type": "code",
   "execution_count": null,
   "metadata": {},
   "outputs": [],
   "source": [
    "prob = ODEProblem(boltzmann!, ctr[25].f, tspan, [kn_bzm, nm, phi, psi, phipsi])\n",
    "data_boltz = solve(prob, Tsit5(), saveat=tran) |> Array;"
   ]
  },
  {
   "cell_type": "code",
   "execution_count": null,
   "metadata": {},
   "outputs": [],
   "source": [
    "data_boltz"
   ]
  },
  {
   "cell_type": "code",
   "execution_count": null,
   "metadata": {},
   "outputs": [],
   "source": [
    "plot(vSpace3D.u[:,1,1], data_boltz[:,18,18,1])"
   ]
  },
  {
   "cell_type": "code",
   "execution_count": null,
   "metadata": {},
   "outputs": [],
   "source": []
  }
 ],
 "metadata": {
  "kernelspec": {
   "display_name": "Julia 1.4.1",
   "language": "julia",
   "name": "julia-1.4"
  },
  "language_info": {
   "file_extension": ".jl",
   "mimetype": "application/julia",
   "name": "julia",
   "version": "1.4.1"
  }
 },
 "nbformat": 4,
 "nbformat_minor": 4
}
