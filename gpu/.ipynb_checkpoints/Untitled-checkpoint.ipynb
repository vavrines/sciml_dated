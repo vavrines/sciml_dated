{
 "cells": [
  {
   "cell_type": "code",
   "execution_count": 1,
   "metadata": {},
   "outputs": [],
   "source": [
    "using Revise, OrdinaryDiffEq, Flux, DiffEqFlux, Kinetic, Optim, Plots, FileIO, JLD2, OffsetArrays, ProgressMeter"
   ]
  },
  {
   "cell_type": "code",
   "execution_count": 2,
   "metadata": {},
   "outputs": [
    {
     "data": {
      "text/plain": [
       "2-element Array{Symbol,1}:\n",
       " :ks\n",
       " :ctr"
      ]
     },
     "execution_count": 2,
     "metadata": {},
     "output_type": "execute_result"
    }
   ],
   "source": [
    "@load \"sol1d.jld2\" ks ctr"
   ]
  },
  {
   "cell_type": "code",
   "execution_count": 4,
   "metadata": {},
   "outputs": [],
   "source": [
    "vMeshType = \"rectangle\"\n",
    "umin = ks.vSpace.u0; umax = ks.vSpace.u1; nu = ks.vSpace.nu\n",
    "vmin = ks.vSpace.u0; vmax = ks.vSpace.u1; nv = 28\n",
    "wmin = ks.vSpace.u0; wmax = ks.vSpace.u1; nw = 28\n",
    "nm = 5; tLen = 2; nh = 12;"
   ]
  },
  {
   "cell_type": "code",
   "execution_count": 5,
   "metadata": {},
   "outputs": [],
   "source": [
    "#@load \"X1d.jld2\" X\n",
    "X = Array{Float32}(undef, ks.vSpace.nu * 2, ks.pSpace.nx)\n",
    "for i = 1:ks.pSpace.nx\n",
    "    X[1:nu, i] .= ctr[i].h\n",
    "    X[nu+1:end, i] .= ctr[i].b\n",
    "end"
   ]
  },
  {
   "cell_type": "code",
   "execution_count": 6,
   "metadata": {},
   "outputs": [],
   "source": [
    "vSpace2D = VSpace2D(vmin, vmax, nv, wmin, wmax, nw, vMeshType)\n",
    "vSpace3D = VSpace3D(umin, umax, nu, vmin, vmax, nv, wmin, wmax, nw, vMeshType)\n",
    "\n",
    "kn_bzm = hs_boltz_kn(ks.gas.μᵣ, 1.0)\n",
    "sos = sound_speed(ks.ib.primR, ks.gas.γ)\n",
    "tmax = (ks.vSpace.u1 + sos) / ks.pSpace.dx[1]\n",
    "dt = Float32(ks.set.cfl / tmax)\n",
    "tspan = (0.f0, dt)\n",
    "tran = range(tspan[1], tspan[2], length = tLen);"
   ]
  },
  {
   "cell_type": "code",
   "execution_count": 7,
   "metadata": {},
   "outputs": [],
   "source": [
    "PRIM = zeros(Float32, 3, size(X, 2))\n",
    "for i in axes(PRIM, 2)\n",
    "    temp = moments_conserve(X[1:nu,i], X[nu+1:end,i], ks.vSpace.u, ks.vSpace.weights)\n",
    "    PRIM[:,i] .= conserve_prim(temp, ks.gas.γ)\n",
    "end"
   ]
  },
  {
   "cell_type": "code",
   "execution_count": 8,
   "metadata": {},
   "outputs": [
    {
     "data": {
      "text/plain": [
       "boltzmann! (generic function with 1 method)"
      ]
     },
     "execution_count": 8,
     "metadata": {},
     "output_type": "execute_result"
    }
   ],
   "source": [
    "#--- Boltzmann dataset ---#\n",
    "f_full = Array{Float32}(undef, nu, nv, nw, size(X, 2))\n",
    "for i = 1:size(X, 2)\n",
    "    f_full[:, :, :, i] .= full_distribution(\n",
    "        X[1:nu, i],\n",
    "        X[nu+1:end, i],\n",
    "        ks.vSpace.u,\n",
    "        ks.vSpace.weights,\n",
    "        vSpace3D.v,\n",
    "        vSpace3D.w,\n",
    "        PRIM[:, i],\n",
    "        ks.gas.γ,\n",
    "    )\n",
    "end\n",
    "\n",
    "phi, psi, phipsi = kernel_mode(\n",
    "    nm,\n",
    "    vSpace3D.u1,\n",
    "    vSpace3D.v1,\n",
    "    vSpace3D.w1,\n",
    "    vSpace3D.du[1, 1, 1],\n",
    "    vSpace3D.dv[1, 1, 1],\n",
    "    vSpace3D.dw[1, 1, 1],\n",
    "    vSpace3D.nu,\n",
    "    vSpace3D.nv,\n",
    "    vSpace3D.nw,\n",
    "    ks.gas.αᵣ,\n",
    ")\n",
    "\n",
    "function boltzmann(f, p, t)\n",
    "    Kn, M, phi, psi, phipsi = p\n",
    "    return boltzmann_fft(f[1:end,1:end,1:end], Kn, M, phi, psi, phipsi)\n",
    "end\n",
    "\n",
    "function boltzmann!(df, f, p, t)\n",
    "    Kn, M, phi, psi, phipsi = p\n",
    "    df .= boltzmann_fft(f, Kn, M, phi, psi, phipsi)\n",
    "end"
   ]
  },
  {
   "cell_type": "code",
   "execution_count": 9,
   "metadata": {},
   "outputs": [],
   "source": [
    "data_boltz = zeros(Float32, nu, nv, nw, size(X, 2), tLen)\n",
    "for i in axes(X, 2)\n",
    "    prob = ODEProblem(\n",
    "        boltzmann!,\n",
    "        f_full[:, :, :, i],\n",
    "        tspan,\n",
    "        [kn_bzm, nm, phi, psi, phipsi],\n",
    "    )\n",
    "\n",
    "    #data_boltz[:, :, :, i, :] = solve(prob, Midpoint(), saveat=tran) |> Array # tLen > 2\n",
    "    data_boltz[:, :, :, i, :] = solve(prob, Euler(), dt=dt) |> Array # tLen = 2\n",
    "end"
   ]
  },
  {
   "cell_type": "code",
   "execution_count": 10,
   "metadata": {},
   "outputs": [],
   "source": [
    "h_boltz = zeros(Float32, ks.vSpace.nu, size(X, 2), tLen)\n",
    "b_boltz = zeros(Float32, ks.vSpace.nu, size(X, 2), tLen)\n",
    "for j = 1:tLen, i in axes(X, 2)\n",
    "    h_boltz[:, i, j], b_boltz[:, i, j] = reduce_distribution(\n",
    "        data_boltz[:, :, :, i, j],\n",
    "        vSpace3D.v,\n",
    "        vSpace3D.w,\n",
    "        vSpace2D.weights,\n",
    "    )\n",
    "end\n",
    "Y = vcat(h_boltz, b_boltz);"
   ]
  },
  {
   "cell_type": "code",
   "execution_count": 13,
   "metadata": {},
   "outputs": [],
   "source": [
    "#--- BGK dataset ---#\n",
    "function bgk!(df, f, p, t)\n",
    "    H, B, tau = p\n",
    "    df[1:end÷2, :] .= (H .- f[1:end÷2, :]) ./ tau\n",
    "    df[end÷2+1:end, :] .= (B .- f[end÷2+1:end, :]) ./ tau\n",
    "end\n",
    "\n",
    "#X = Array{Float32}(undef, nu * 2, ks.pSpace.nx)\n",
    "#for i = 1:ks.pSpace.nx\n",
    "#    X[1:nu, i] .= ctr[i].h\n",
    "#    X[nu+1:end, i] .= ctr[i].b\n",
    "#end\n",
    "\n",
    "H = Array{Float32}(undef, nu, size(X, 2))\n",
    "B = Array{Float32}(undef, nu, size(X, 2))\n",
    "τ = Array{Float32}(undef, 1, size(X, 2))\n",
    "for i in axes(X, 2)\n",
    "    H[:, i] .= maxwellian(ks.vSpace.u, PRIM[:,i])\n",
    "    B[:, i] .= H[:, i] .* ks.gas.K ./ (2.0 .* PRIM[end,i])\n",
    "    τ[1, i] = vhs_collision_time(PRIM[:,i], ks.gas.μᵣ, ks.gas.ω)\n",
    "end\n",
    "P = [H, B, τ]\n",
    "\n",
    "prob = ODEProblem(bgk!, X, tspan, P)\n",
    "#Y1 = solve(prob, Midpoint(), saveat=tran) |> Array;\n",
    "Y1 = solve(prob, Euler(), dt=dt) |> Array;\n",
    "\n",
    "M = vcat(H, B);"
   ]
  },
  {
   "cell_type": "markdown",
   "metadata": {},
   "source": [
    "We then train the neural network and construct the universal Boltzmann equation"
   ]
  },
  {
   "cell_type": "code",
   "execution_count": 14,
   "metadata": {},
   "outputs": [
    {
     "data": {
      "text/plain": [
       "#7 (generic function with 1 method)"
      ]
     },
     "execution_count": 14,
     "metadata": {},
     "output_type": "execute_result"
    }
   ],
   "source": [
    "#--- universal differential equation ---#\n",
    "model_univ = FastChain(\n",
    "    #(x, p) -> zeros(eltype(x), axes(x)),\n",
    "    FastDense(nu * 2, nu * 2 * nh),\n",
    "    #FastDense(ks.vSpace.nu * 2 * nh, ks.vSpace.nu * 2 * nh, tanh),\n",
    "    FastDense(nu * 2 * nh, nu * 2),\n",
    "    #(x, p) -> sum(x[1:nu] .* ks.vSpace.weights),\n",
    ")\n",
    "\n",
    "p_model = initial_params(model_univ)\n",
    "#p_model .= 0.f0\n",
    "\n",
    "function dfdt(f, p, t)\n",
    "    h = f[1:nu, :]\n",
    "    b = f[nu+1:end, :]\n",
    "\n",
    "    dh = (H .- h) ./ τ .+ model_univ(f .- M, p)[1:nu, :]\n",
    "    db = (B .- b) ./ τ .+ model_univ(f .- M, p)[nu+1:end, :]\n",
    "\n",
    "    df = vcat(dh, db)\n",
    "end\n",
    "\n",
    "prob_ube = ODEProblem(dfdt, X, tspan, p_model)\n",
    "\n",
    "function loss(p)\n",
    "    #sol_ube = solve(prob_ube, Midpoint(), u0=X, p=p, saveat=tran)\n",
    "    sol_ube = solve(prob_ube, Euler(), u0=X, p=p, dt=dt)\n",
    "    loss = sum(abs2, Array(sol_ube) .- Y)\n",
    "    #loss = sum(abs2, Array(sol_ube) .- Y1)\n",
    "    return loss\n",
    "end\n",
    "\n",
    "cb = function (p, l)\n",
    "    #display(l)\n",
    "    return false\n",
    "end"
   ]
  },
  {
   "cell_type": "code",
   "execution_count": 15,
   "metadata": {},
   "outputs": [
    {
     "name": "stderr",
     "output_type": "stream",
     "text": [
      "\u001b[32mloss: 0.00155: 100%|█████████████████████████████████████████| Time: 0:00:09\u001b[39m\n"
     ]
    },
    {
     "data": {
      "text/plain": [
       " * Status: success\n",
       "\n",
       " * Candidate solution\n",
       "    Final objective value:     1.550897e-03\n",
       "\n",
       " * Found with\n",
       "    Algorithm:     ADAM\n",
       "\n",
       " * Convergence measures\n",
       "    |x - x'|               = NaN ≰ 0.0e+00\n",
       "    |x - x'|/|x'|          = NaN ≰ 0.0e+00\n",
       "    |f(x) - f(x')|         = NaN ≰ 0.0e+00\n",
       "    |f(x) - f(x')|/|f(x')| = NaN ≰ 0.0e+00\n",
       "    |g(x)|                 = NaN ≰ 0.0e+00\n",
       "\n",
       " * Work counters\n",
       "    Seconds run:   45  (vs limit Inf)\n",
       "    Iterations:    200\n",
       "    f(x) calls:    200\n",
       "    ∇f(x) calls:   200\n"
      ]
     },
     "execution_count": 15,
     "metadata": {},
     "output_type": "execute_result"
    }
   ],
   "source": [
    "res = DiffEqFlux.sciml_train(loss, p_model, ADAM(), cb=Flux.throttle(cb, 1), maxiters=200)"
   ]
  },
  {
   "cell_type": "code",
   "execution_count": 16,
   "metadata": {},
   "outputs": [
    {
     "name": "stderr",
     "output_type": "stream",
     "text": [
      "\u001b[32mloss: 0.00155: 100%|█████████████████████████████████████████| Time: 0:00:20\u001b[39m\n"
     ]
    },
    {
     "data": {
      "text/plain": [
       " * Status: success\n",
       "\n",
       " * Candidate solution\n",
       "    Final objective value:     1.549944e-03\n",
       "\n",
       " * Found with\n",
       "    Algorithm:     ADAM\n",
       "\n",
       " * Convergence measures\n",
       "    |x - x'|               = NaN ≰ 0.0e+00\n",
       "    |x - x'|/|x'|          = NaN ≰ 0.0e+00\n",
       "    |f(x) - f(x')|         = NaN ≰ 0.0e+00\n",
       "    |f(x) - f(x')|/|f(x')| = NaN ≰ 0.0e+00\n",
       "    |g(x)|                 = NaN ≰ 0.0e+00\n",
       "\n",
       " * Work counters\n",
       "    Seconds run:   20  (vs limit Inf)\n",
       "    Iterations:    500\n",
       "    f(x) calls:    500\n",
       "    ∇f(x) calls:   500\n"
      ]
     },
     "execution_count": 16,
     "metadata": {},
     "output_type": "execute_result"
    }
   ],
   "source": [
    "res = DiffEqFlux.sciml_train(loss, res.minimizer, ADAM(), cb=Flux.throttle(cb, 1), maxiters=500)"
   ]
  },
  {
   "cell_type": "code",
   "execution_count": null,
   "metadata": {},
   "outputs": [],
   "source": []
  },
  {
   "cell_type": "code",
   "execution_count": 38,
   "metadata": {},
   "outputs": [],
   "source": [
    "function ube_rhs!(df, f, p, t)\n",
    "    H = p[1:nu]\n",
    "    B = p[nu+1:2*nu]\n",
    "    τ = p[2*nu+1]\n",
    "    p_nn = p[2*nu+2:end]\n",
    "\n",
    "    h = f[1:nu]\n",
    "    b = f[nu+1:end]\n",
    "\n",
    "    dh = (H .- h) ./ τ .+ model_univ(f, p_nn)[1:nu]\n",
    "    db = (B .- b) ./ τ .+ model_univ(f, p_nn)[nu+1:end]\n",
    "\n",
    "    df[1:nu] .= dh\n",
    "    df[nu+1:end] .= db\n",
    "end\n",
    "\n",
    "ube = ODEProblem(\n",
    "    ube_rhs!,\n",
    "    [ctr[1].h; ctr[1].b],\n",
    "    tspan,\n",
    "    [H[:, 1]; B[:, 1]; τ[1, 1]; res.minimizer],\n",
    ");"
   ]
  },
  {
   "cell_type": "code",
   "execution_count": 39,
   "metadata": {},
   "outputs": [
    {
     "data": {
      "text/plain": [
       "step_ube! (generic function with 1 method)"
      ]
     },
     "execution_count": 39,
     "metadata": {},
     "output_type": "execute_result"
    }
   ],
   "source": [
    "function step_ube!(\n",
    "    fwL,\n",
    "    fhL,\n",
    "    fbL,\n",
    "    w,\n",
    "    prim,\n",
    "    h,\n",
    "    b,\n",
    "    fwR,\n",
    "    fhR,\n",
    "    fbR,\n",
    "    K,\n",
    "    γ,\n",
    "    μ,\n",
    "    ω,\n",
    "    u,\n",
    "    weights,\n",
    "    p,\n",
    "    dx,\n",
    "    tran,\n",
    "    RES,\n",
    "    AVG,\n",
    ")\n",
    "\n",
    "    #--- record W^{n} ---#\n",
    "    w_old = deepcopy(w)\n",
    "    H = maxwellian(u, prim)\n",
    "    B = H .* K ./ (2.0 .* prim[end])\n",
    "    τ = vhs_collision_time(prim, μ, ω)\n",
    "    \n",
    "    #qf = heat_flux(h, b, prim, u, weights)\n",
    "    #SH, SB = shakhov(u, H, B, qf, prim, ks.gas.Pr, K)\n",
    "    \n",
    "    #--- update W^{n+1} ---#\n",
    "    @. w += (fwL - fwR) / dx\n",
    "    prim .= conserve_prim(w, γ)\n",
    "\n",
    "    #--- record residuals ---#\n",
    "    @. RES += (w - w_old)^2\n",
    "    @. AVG += abs(w)\n",
    "\n",
    "    #--- update f^{n+1} ---#\n",
    "    sol = solve(ube, Euler(), u0=[h; b], p=[H; B; τ; p], dt=dt)\n",
    "    #sol = solve(ube, Midpoint(), u0=[h; b], p=[H; B; τ; p], saveat=tran)\n",
    "    #sol = solve(ube, Midpoint(), u0=[h; b], p=[SH; SB; τ; p], saveat=tran)\n",
    "    \n",
    "    hstar = sol.u[end][1:length(h)]\n",
    "    bstar = sol.u[end][length(h)+1:end]\n",
    "    for i in eachindex(h)\n",
    "        h[i] = hstar[i] + (fhL[i] - fhR[i]) / dx\n",
    "        b[i] = bstar[i] + (fbL[i] - fbR[i]) / dx\n",
    "    end\n",
    "\n",
    "end"
   ]
  },
  {
   "cell_type": "code",
   "execution_count": 25,
   "metadata": {},
   "outputs": [
    {
     "data": {
      "text/plain": [
       "step_be! (generic function with 1 method)"
      ]
     },
     "execution_count": 25,
     "metadata": {},
     "output_type": "execute_result"
    }
   ],
   "source": [
    "function step_be!(\n",
    "    fwL,\n",
    "    fhL,\n",
    "    fbL,\n",
    "    w,\n",
    "    prim,\n",
    "    h,\n",
    "    b,\n",
    "    fwR,\n",
    "    fhR,\n",
    "    fbR,\n",
    "    K,\n",
    "    γ,\n",
    "    μ,\n",
    "    ω,\n",
    "    u,\n",
    "    weights,\n",
    "    p,\n",
    "    dx,\n",
    "    tran,\n",
    "    RES,\n",
    "    AVG,\n",
    ")\n",
    "\n",
    "    #--- record W^{n} ---#\n",
    "    w_old = deepcopy(w)\n",
    "    H = maxwellian(u, prim)\n",
    "    B = H .* K ./ (2.0 .* prim[end])\n",
    "    τ = vhs_collision_time(prim, μ, ω)\n",
    "    \n",
    "    #qf = heat_flux(h, b, prim, u, weights)\n",
    "    #SH, SB = shakhov(u, H, B, qf, prim, ks.gas.Pr, K)\n",
    "    \n",
    "    #--- update W^{n+1} ---#\n",
    "    @. w += (fwL - fwR) / dx\n",
    "    prim .= conserve_prim(w, γ)\n",
    "\n",
    "    #--- record residuals ---#\n",
    "    @. RES += (w - w_old)^2\n",
    "    @. AVG += abs(w)\n",
    "\n",
    "    f_full = full_distribution(\n",
    "        h[1:end],\n",
    "        b[1:end],\n",
    "        u[1:end],\n",
    "        weights[1:end],\n",
    "        vSpace3D.v[1:end,1:end,1:end],\n",
    "        vSpace3D.w[1:end,1:end,1:end],\n",
    "        prim,\n",
    "        γ,\n",
    "    )\n",
    "    \n",
    "    df = boltzmann_fft(f_full[1:end,1:end,1:end], kn_bzm, nm, phi, psi, phipsi)\n",
    "    \n",
    "    f_full .+= df .* dt\n",
    "    \n",
    "    hstar, bstar = reduce_distribution(\n",
    "        f_full,\n",
    "        vSpace3D.v,\n",
    "        vSpace3D.w,\n",
    "        vSpace2D.weights,\n",
    "    )\n",
    "    \n",
    "    for i in eachindex(h)\n",
    "        h[i] = hstar[i] + (fhL[i] - fhR[i]) / dx\n",
    "        b[i] = bstar[i] + (fbL[i] - fbR[i]) / dx\n",
    "    end\n",
    "\n",
    "end"
   ]
  },
  {
   "cell_type": "code",
   "execution_count": 23,
   "metadata": {},
   "outputs": [],
   "source": [
    "face = Array{Interface1D2F}(undef, ks.pSpace.nx + 1)\n",
    "for i = 1:ks.pSpace.nx+1\n",
    "    face[i] = Interface1D2F(ks.ib.wL, ks.ib.hL)\n",
    "end\n",
    "\n",
    "sumRes = zeros(Float32, axes(ks.ib.wL));\n",
    "sumAvg = zeros(Float32, axes(ks.ib.wL));"
   ]
  },
  {
   "cell_type": "code",
   "execution_count": 44,
   "metadata": {},
   "outputs": [
    {
     "name": "stderr",
     "output_type": "stream",
     "text": [
      "\u001b[32mProgress: 100%|█████████████████████████████████████████| Time: 0:00:03\u001b[39m\n"
     ]
    }
   ],
   "source": [
    "@showprogress for iter = 1:10\n",
    "    Kinetic.evolve!(ks, ctr, face, dt)\n",
    "\n",
    "    for i = 2:49\n",
    "        step_ube!(\n",
    "            face[i].fw,\n",
    "            face[i].fh,\n",
    "            face[i].fb,\n",
    "            ctr[i].w,\n",
    "            ctr[i].prim,\n",
    "            ctr[i].h,\n",
    "            ctr[i].b,\n",
    "            face[i+1].fw,\n",
    "            face[i+1].fh,\n",
    "            face[i+1].fb,\n",
    "            ks.gas.K,\n",
    "            ks.gas.γ,\n",
    "            ks.gas.μᵣ,\n",
    "            ks.gas.ω,\n",
    "            ks.vSpace.u,\n",
    "            ks.vSpace.weights,\n",
    "            res.minimizer,\n",
    "            ctr[i].dx,\n",
    "            tran,\n",
    "            sumRes,\n",
    "            sumAvg,\n",
    "        )\n",
    "    end\n",
    "end"
   ]
  },
  {
   "cell_type": "code",
   "execution_count": 50,
   "metadata": {},
   "outputs": [
    {
     "name": "stderr",
     "output_type": "stream",
     "text": [
      "\u001b[32mProgress: 100%|█████████████████████████████████████████| Time: 0:02:23\u001b[39m\n"
     ]
    }
   ],
   "source": [
    "# numerical Boltzmann solver\n",
    "@showprogress for iter = 1:100\n",
    "    Kinetic.evolve!(ks, ctr, face, dt)\n",
    "\n",
    "    for i = 2:49\n",
    "        step_be!(\n",
    "            face[i].fw,\n",
    "            face[i].fh,\n",
    "            face[i].fb,\n",
    "            ctr[i].w,\n",
    "            ctr[i].prim,\n",
    "            ctr[i].h,\n",
    "            ctr[i].b,\n",
    "            face[i+1].fw,\n",
    "            face[i+1].fh,\n",
    "            face[i+1].fb,\n",
    "            ks.gas.K,\n",
    "            ks.gas.γ,\n",
    "            ks.gas.μᵣ,\n",
    "            ks.gas.ω,\n",
    "            ks.vSpace.u,\n",
    "            ks.vSpace.weights,\n",
    "            res.minimizer,\n",
    "            ctr[i].dx,\n",
    "            tran,\n",
    "            sumRes,\n",
    "            sumAvg,\n",
    "        )\n",
    "    end\n",
    "end"
   ]
  },
  {
   "cell_type": "code",
   "execution_count": 51,
   "metadata": {},
   "outputs": [
    {
     "data": {
      "image/svg+xml": [
       "<?xml version=\"1.0\" encoding=\"utf-8\"?>\n",
       "<svg xmlns=\"http://www.w3.org/2000/svg\" xmlns:xlink=\"http://www.w3.org/1999/xlink\" width=\"600\" height=\"400\" viewBox=\"0 0 2400 1600\">\n",
       "<defs>\n",
       "  <clipPath id=\"clip200\">\n",
       "    <rect x=\"0\" y=\"0\" width=\"2400\" height=\"1600\"/>\n",
       "  </clipPath>\n",
       "</defs>\n",
       "<path clip-path=\"url(#clip200)\" d=\"\n",
       "M0 1600 L2400 1600 L2400 0 L0 0  Z\n",
       "  \" fill=\"#ffffff\" fill-rule=\"evenodd\" fill-opacity=\"1\"/>\n",
       "<defs>\n",
       "  <clipPath id=\"clip201\">\n",
       "    <rect x=\"480\" y=\"0\" width=\"1681\" height=\"1600\"/>\n",
       "  </clipPath>\n",
       "</defs>\n",
       "<path clip-path=\"url(#clip200)\" d=\"\n",
       "M147.663 1423.18 L2352.76 1423.18 L2352.76 47.2441 L147.663 47.2441  Z\n",
       "  \" fill=\"#ffffff\" fill-rule=\"evenodd\" fill-opacity=\"1\"/>\n",
       "<defs>\n",
       "  <clipPath id=\"clip202\">\n",
       "    <rect x=\"147\" y=\"47\" width=\"2206\" height=\"1377\"/>\n",
       "  </clipPath>\n",
       "</defs>\n",
       "<polyline clip-path=\"url(#clip202)\" style=\"stroke:#000000; stroke-width:2; stroke-opacity:0.1; fill:none\" points=\"\n",
       "  401.117,1423.18 401.117,47.2441 \n",
       "  \"/>\n",
       "<polyline clip-path=\"url(#clip202)\" style=\"stroke:#000000; stroke-width:2; stroke-opacity:0.1; fill:none\" points=\"\n",
       "  825.663,1423.18 825.663,47.2441 \n",
       "  \"/>\n",
       "<polyline clip-path=\"url(#clip202)\" style=\"stroke:#000000; stroke-width:2; stroke-opacity:0.1; fill:none\" points=\"\n",
       "  1250.21,1423.18 1250.21,47.2441 \n",
       "  \"/>\n",
       "<polyline clip-path=\"url(#clip202)\" style=\"stroke:#000000; stroke-width:2; stroke-opacity:0.1; fill:none\" points=\"\n",
       "  1674.76,1423.18 1674.76,47.2441 \n",
       "  \"/>\n",
       "<polyline clip-path=\"url(#clip202)\" style=\"stroke:#000000; stroke-width:2; stroke-opacity:0.1; fill:none\" points=\"\n",
       "  2099.3,1423.18 2099.3,47.2441 \n",
       "  \"/>\n",
       "<polyline clip-path=\"url(#clip202)\" style=\"stroke:#000000; stroke-width:2; stroke-opacity:0.1; fill:none\" points=\"\n",
       "  147.663,1282.79 2352.76,1282.79 \n",
       "  \"/>\n",
       "<polyline clip-path=\"url(#clip202)\" style=\"stroke:#000000; stroke-width:2; stroke-opacity:0.1; fill:none\" points=\"\n",
       "  147.663,1026.96 2352.76,1026.96 \n",
       "  \"/>\n",
       "<polyline clip-path=\"url(#clip202)\" style=\"stroke:#000000; stroke-width:2; stroke-opacity:0.1; fill:none\" points=\"\n",
       "  147.663,771.133 2352.76,771.133 \n",
       "  \"/>\n",
       "<polyline clip-path=\"url(#clip202)\" style=\"stroke:#000000; stroke-width:2; stroke-opacity:0.1; fill:none\" points=\"\n",
       "  147.663,515.304 2352.76,515.304 \n",
       "  \"/>\n",
       "<polyline clip-path=\"url(#clip202)\" style=\"stroke:#000000; stroke-width:2; stroke-opacity:0.1; fill:none\" points=\"\n",
       "  147.663,259.475 2352.76,259.475 \n",
       "  \"/>\n",
       "<polyline clip-path=\"url(#clip200)\" style=\"stroke:#000000; stroke-width:4; stroke-opacity:1; fill:none\" points=\"\n",
       "  147.663,1423.18 2352.76,1423.18 \n",
       "  \"/>\n",
       "<polyline clip-path=\"url(#clip200)\" style=\"stroke:#000000; stroke-width:4; stroke-opacity:1; fill:none\" points=\"\n",
       "  147.663,1423.18 147.663,47.2441 \n",
       "  \"/>\n",
       "<polyline clip-path=\"url(#clip200)\" style=\"stroke:#000000; stroke-width:4; stroke-opacity:1; fill:none\" points=\"\n",
       "  401.117,1423.18 401.117,1406.67 \n",
       "  \"/>\n",
       "<polyline clip-path=\"url(#clip200)\" style=\"stroke:#000000; stroke-width:4; stroke-opacity:1; fill:none\" points=\"\n",
       "  825.663,1423.18 825.663,1406.67 \n",
       "  \"/>\n",
       "<polyline clip-path=\"url(#clip200)\" style=\"stroke:#000000; stroke-width:4; stroke-opacity:1; fill:none\" points=\"\n",
       "  1250.21,1423.18 1250.21,1406.67 \n",
       "  \"/>\n",
       "<polyline clip-path=\"url(#clip200)\" style=\"stroke:#000000; stroke-width:4; stroke-opacity:1; fill:none\" points=\"\n",
       "  1674.76,1423.18 1674.76,1406.67 \n",
       "  \"/>\n",
       "<polyline clip-path=\"url(#clip200)\" style=\"stroke:#000000; stroke-width:4; stroke-opacity:1; fill:none\" points=\"\n",
       "  2099.3,1423.18 2099.3,1406.67 \n",
       "  \"/>\n",
       "<polyline clip-path=\"url(#clip200)\" style=\"stroke:#000000; stroke-width:4; stroke-opacity:1; fill:none\" points=\"\n",
       "  147.663,1282.79 174.124,1282.79 \n",
       "  \"/>\n",
       "<polyline clip-path=\"url(#clip200)\" style=\"stroke:#000000; stroke-width:4; stroke-opacity:1; fill:none\" points=\"\n",
       "  147.663,1026.96 174.124,1026.96 \n",
       "  \"/>\n",
       "<polyline clip-path=\"url(#clip200)\" style=\"stroke:#000000; stroke-width:4; stroke-opacity:1; fill:none\" points=\"\n",
       "  147.663,771.133 174.124,771.133 \n",
       "  \"/>\n",
       "<polyline clip-path=\"url(#clip200)\" style=\"stroke:#000000; stroke-width:4; stroke-opacity:1; fill:none\" points=\"\n",
       "  147.663,515.304 174.124,515.304 \n",
       "  \"/>\n",
       "<polyline clip-path=\"url(#clip200)\" style=\"stroke:#000000; stroke-width:4; stroke-opacity:1; fill:none\" points=\"\n",
       "  147.663,259.475 174.124,259.475 \n",
       "  \"/>\n",
       "<path clip-path=\"url(#clip200)\" d=\"M 0 0 M368.664 1461.77 L381.14 1461.77 L381.14 1465.56 L368.664 1465.56 L368.664 1461.77 Z\" fill=\"#000000\" fill-rule=\"evenodd\" fill-opacity=\"1\" /><path clip-path=\"url(#clip200)\" d=\"M 0 0 M390.238 1472.72 L406.557 1472.72 L406.557 1476.65 L384.613 1476.65 L384.613 1472.72 Q387.275 1469.96 391.858 1465.33 Q396.464 1460.68 397.645 1459.34 Q399.89 1456.81 400.77 1455.08 Q401.673 1453.32 401.673 1451.63 Q401.673 1448.87 399.728 1447.14 Q397.807 1445.4 394.705 1445.4 Q392.506 1445.4 390.052 1446.17 Q387.622 1446.93 384.844 1448.48 L384.844 1443.76 Q387.668 1442.62 390.122 1442.05 Q392.576 1441.47 394.613 1441.47 Q399.983 1441.47 403.177 1444.15 Q406.372 1446.84 406.372 1451.33 Q406.372 1453.46 405.562 1455.38 Q404.775 1457.28 402.668 1459.87 Q402.089 1460.54 398.988 1463.76 Q395.886 1466.95 390.238 1472.72 Z\" fill=\"#000000\" fill-rule=\"evenodd\" fill-opacity=\"1\" /><path clip-path=\"url(#clip200)\" d=\"M 0 0 M421.626 1445.17 Q418.015 1445.17 416.187 1448.74 Q414.381 1452.28 414.381 1459.41 Q414.381 1466.51 416.187 1470.08 Q418.015 1473.62 421.626 1473.62 Q425.261 1473.62 427.066 1470.08 Q428.895 1466.51 428.895 1459.41 Q428.895 1452.28 427.066 1448.74 Q425.261 1445.17 421.626 1445.17 M421.626 1441.47 Q427.436 1441.47 430.492 1446.07 Q433.571 1450.66 433.571 1459.41 Q433.571 1468.13 430.492 1472.74 Q427.436 1477.32 421.626 1477.32 Q415.816 1477.32 412.737 1472.74 Q409.682 1468.13 409.682 1459.41 Q409.682 1450.66 412.737 1446.07 Q415.816 1441.47 421.626 1441.47 Z\" fill=\"#000000\" fill-rule=\"evenodd\" fill-opacity=\"1\" /><path clip-path=\"url(#clip200)\" d=\"M 0 0 M793.025 1461.77 L805.501 1461.77 L805.501 1465.56 L793.025 1465.56 L793.025 1461.77 Z\" fill=\"#000000\" fill-rule=\"evenodd\" fill-opacity=\"1\" /><path clip-path=\"url(#clip200)\" d=\"M 0 0 M811.381 1472.72 L819.02 1472.72 L819.02 1446.35 L810.71 1448.02 L810.71 1443.76 L818.974 1442.09 L823.649 1442.09 L823.649 1472.72 L831.288 1472.72 L831.288 1476.65 L811.381 1476.65 L811.381 1472.72 Z\" fill=\"#000000\" fill-rule=\"evenodd\" fill-opacity=\"1\" /><path clip-path=\"url(#clip200)\" d=\"M 0 0 M846.358 1445.17 Q842.747 1445.17 840.918 1448.74 Q839.112 1452.28 839.112 1459.41 Q839.112 1466.51 840.918 1470.08 Q842.747 1473.62 846.358 1473.62 Q849.992 1473.62 851.797 1470.08 Q853.626 1466.51 853.626 1459.41 Q853.626 1452.28 851.797 1448.74 Q849.992 1445.17 846.358 1445.17 M846.358 1441.47 Q852.168 1441.47 855.223 1446.07 Q858.302 1450.66 858.302 1459.41 Q858.302 1468.13 855.223 1472.74 Q852.168 1477.32 846.358 1477.32 Q840.548 1477.32 837.469 1472.74 Q834.413 1468.13 834.413 1459.41 Q834.413 1450.66 837.469 1446.07 Q840.548 1441.47 846.358 1441.47 Z\" fill=\"#000000\" fill-rule=\"evenodd\" fill-opacity=\"1\" /><path clip-path=\"url(#clip200)\" d=\"M 0 0 M1250.21 1445.17 Q1246.6 1445.17 1244.77 1448.74 Q1242.96 1452.28 1242.96 1459.41 Q1242.96 1466.51 1244.77 1470.08 Q1246.6 1473.62 1250.21 1473.62 Q1253.84 1473.62 1255.65 1470.08 Q1257.48 1466.51 1257.48 1459.41 Q1257.48 1452.28 1255.65 1448.74 Q1253.84 1445.17 1250.21 1445.17 M1250.21 1441.47 Q1256.02 1441.47 1259.08 1446.07 Q1262.15 1450.66 1262.15 1459.41 Q1262.15 1468.13 1259.08 1472.74 Q1256.02 1477.32 1250.21 1477.32 Q1244.4 1477.32 1241.32 1472.74 Q1238.27 1468.13 1238.27 1459.41 Q1238.27 1450.66 1241.32 1446.07 Q1244.4 1441.47 1250.21 1441.47 Z\" fill=\"#000000\" fill-rule=\"evenodd\" fill-opacity=\"1\" /><path clip-path=\"url(#clip200)\" d=\"M 0 0 M1651.63 1472.72 L1659.27 1472.72 L1659.27 1446.35 L1650.96 1448.02 L1650.96 1443.76 L1659.22 1442.09 L1663.9 1442.09 L1663.9 1472.72 L1671.54 1472.72 L1671.54 1476.65 L1651.63 1476.65 L1651.63 1472.72 Z\" fill=\"#000000\" fill-rule=\"evenodd\" fill-opacity=\"1\" /><path clip-path=\"url(#clip200)\" d=\"M 0 0 M1686.61 1445.17 Q1683 1445.17 1681.17 1448.74 Q1679.36 1452.28 1679.36 1459.41 Q1679.36 1466.51 1681.17 1470.08 Q1683 1473.62 1686.61 1473.62 Q1690.24 1473.62 1692.05 1470.08 Q1693.88 1466.51 1693.88 1459.41 Q1693.88 1452.28 1692.05 1448.74 Q1690.24 1445.17 1686.61 1445.17 M1686.61 1441.47 Q1692.42 1441.47 1695.47 1446.07 Q1698.55 1450.66 1698.55 1459.41 Q1698.55 1468.13 1695.47 1472.74 Q1692.42 1477.32 1686.61 1477.32 Q1680.8 1477.32 1677.72 1472.74 Q1674.66 1468.13 1674.66 1459.41 Q1674.66 1450.66 1677.72 1446.07 Q1680.8 1441.47 1686.61 1441.47 Z\" fill=\"#000000\" fill-rule=\"evenodd\" fill-opacity=\"1\" /><path clip-path=\"url(#clip200)\" d=\"M 0 0 M2080.45 1472.72 L2096.77 1472.72 L2096.77 1476.65 L2074.82 1476.65 L2074.82 1472.72 Q2077.48 1469.96 2082.07 1465.33 Q2086.67 1460.68 2087.86 1459.34 Q2090.1 1456.81 2090.98 1455.08 Q2091.88 1453.32 2091.88 1451.63 Q2091.88 1448.87 2089.94 1447.14 Q2088.02 1445.4 2084.92 1445.4 Q2082.72 1445.4 2080.26 1446.17 Q2077.83 1446.93 2075.05 1448.48 L2075.05 1443.76 Q2077.88 1442.62 2080.33 1442.05 Q2082.79 1441.47 2084.82 1441.47 Q2090.19 1441.47 2093.39 1444.15 Q2096.58 1446.84 2096.58 1451.33 Q2096.58 1453.46 2095.77 1455.38 Q2094.98 1457.28 2092.88 1459.87 Q2092.3 1460.54 2089.2 1463.76 Q2086.1 1466.95 2080.45 1472.72 Z\" fill=\"#000000\" fill-rule=\"evenodd\" fill-opacity=\"1\" /><path clip-path=\"url(#clip200)\" d=\"M 0 0 M2111.84 1445.17 Q2108.23 1445.17 2106.4 1448.74 Q2104.59 1452.28 2104.59 1459.41 Q2104.59 1466.51 2106.4 1470.08 Q2108.23 1473.62 2111.84 1473.62 Q2115.47 1473.62 2117.28 1470.08 Q2119.1 1466.51 2119.1 1459.41 Q2119.1 1452.28 2117.28 1448.74 Q2115.47 1445.17 2111.84 1445.17 M2111.84 1441.47 Q2117.65 1441.47 2120.7 1446.07 Q2123.78 1450.66 2123.78 1459.41 Q2123.78 1468.13 2120.7 1472.74 Q2117.65 1477.32 2111.84 1477.32 Q2106.03 1477.32 2102.95 1472.74 Q2099.89 1468.13 2099.89 1459.41 Q2099.89 1450.66 2102.95 1446.07 Q2106.03 1441.47 2111.84 1441.47 Z\" fill=\"#000000\" fill-rule=\"evenodd\" fill-opacity=\"1\" /><path clip-path=\"url(#clip200)\" d=\"M 0 0 M74.9365 1268.59 Q71.3254 1268.59 69.4967 1272.15 Q67.6912 1275.7 67.6912 1282.82 Q67.6912 1289.93 69.4967 1293.5 Q71.3254 1297.04 74.9365 1297.04 Q78.5707 1297.04 80.3763 1293.5 Q82.205 1289.93 82.205 1282.82 Q82.205 1275.7 80.3763 1272.15 Q78.5707 1268.59 74.9365 1268.59 M74.9365 1264.89 Q80.7467 1264.89 83.8022 1269.49 Q86.8809 1274.07 86.8809 1282.82 Q86.8809 1291.55 83.8022 1296.16 Q80.7467 1300.74 74.9365 1300.74 Q69.1264 1300.74 66.0477 1296.16 Q62.9921 1291.55 62.9921 1282.82 Q62.9921 1274.07 66.0477 1269.49 Q69.1264 1264.89 74.9365 1264.89 Z\" fill=\"#000000\" fill-rule=\"evenodd\" fill-opacity=\"1\" /><path clip-path=\"url(#clip200)\" d=\"M 0 0 M91.9503 1294.19 L96.8345 1294.19 L96.8345 1300.07 L91.9503 1300.07 L91.9503 1294.19 Z\" fill=\"#000000\" fill-rule=\"evenodd\" fill-opacity=\"1\" /><path clip-path=\"url(#clip200)\" d=\"M 0 0 M102.043 1299.35 L102.043 1295.09 Q103.802 1295.93 105.608 1296.37 Q107.413 1296.81 109.149 1296.81 Q113.779 1296.81 116.209 1293.7 Q118.663 1290.58 119.01 1284.24 Q117.668 1286.23 115.608 1287.29 Q113.547 1288.36 111.047 1288.36 Q105.862 1288.36 102.83 1285.23 Q99.8206 1282.08 99.8206 1276.64 Q99.8206 1271.32 102.969 1268.1 Q106.117 1264.89 111.348 1264.89 Q117.344 1264.89 120.492 1269.49 Q123.663 1274.07 123.663 1282.82 Q123.663 1291 119.774 1295.88 Q115.909 1300.74 109.358 1300.74 Q107.598 1300.74 105.793 1300.39 Q103.987 1300.05 102.043 1299.35 M111.348 1284.7 Q114.496 1284.7 116.325 1282.55 Q118.177 1280.39 118.177 1276.64 Q118.177 1272.92 116.325 1270.76 Q114.496 1268.59 111.348 1268.59 Q108.2 1268.59 106.348 1270.76 Q104.52 1272.92 104.52 1276.64 Q104.52 1280.39 106.348 1282.55 Q108.2 1284.7 111.348 1284.7 Z\" fill=\"#000000\" fill-rule=\"evenodd\" fill-opacity=\"1\" /><path clip-path=\"url(#clip200)\" d=\"M 0 0 M68.3856 1040.31 L76.0245 1040.31 L76.0245 1013.94 L67.7143 1015.61 L67.7143 1011.35 L75.9782 1009.68 L80.6541 1009.68 L80.6541 1040.31 L88.2929 1040.31 L88.2929 1044.24 L68.3856 1044.24 L68.3856 1040.31 Z\" fill=\"#000000\" fill-rule=\"evenodd\" fill-opacity=\"1\" /><path clip-path=\"url(#clip200)\" d=\"M 0 0 M93.3623 1038.36 L98.2466 1038.36 L98.2466 1044.24 L93.3623 1044.24 L93.3623 1038.36 Z\" fill=\"#000000\" fill-rule=\"evenodd\" fill-opacity=\"1\" /><path clip-path=\"url(#clip200)\" d=\"M 0 0 M107.344 1040.31 L123.663 1040.31 L123.663 1044.24 L101.719 1044.24 L101.719 1040.31 Q104.381 1037.55 108.964 1032.92 Q113.571 1028.27 114.751 1026.93 Q116.996 1024.4 117.876 1022.67 Q118.779 1020.91 118.779 1019.22 Q118.779 1016.46 116.834 1014.73 Q114.913 1012.99 111.811 1012.99 Q109.612 1012.99 107.159 1013.76 Q104.728 1014.52 101.95 1016.07 L101.95 1011.35 Q104.774 1010.21 107.228 1009.63 Q109.682 1009.06 111.719 1009.06 Q117.089 1009.06 120.283 1011.74 Q123.478 1014.43 123.478 1018.92 Q123.478 1021.05 122.668 1022.97 Q121.881 1024.87 119.774 1027.46 Q119.196 1028.13 116.094 1031.35 Q112.992 1034.54 107.344 1040.31 Z\" fill=\"#000000\" fill-rule=\"evenodd\" fill-opacity=\"1\" /><path clip-path=\"url(#clip200)\" d=\"M 0 0 M67.7838 784.477 L75.4226 784.477 L75.4226 758.112 L67.1125 759.778 L67.1125 755.519 L75.3763 753.853 L80.0522 753.853 L80.0522 784.477 L87.6911 784.477 L87.6911 788.413 L67.7838 788.413 L67.7838 784.477 Z\" fill=\"#000000\" fill-rule=\"evenodd\" fill-opacity=\"1\" /><path clip-path=\"url(#clip200)\" d=\"M 0 0 M92.7605 782.533 L97.6447 782.533 L97.6447 788.413 L92.7605 788.413 L92.7605 782.533 Z\" fill=\"#000000\" fill-rule=\"evenodd\" fill-opacity=\"1\" /><path clip-path=\"url(#clip200)\" d=\"M 0 0 M102.76 753.853 L121.117 753.853 L121.117 757.788 L107.043 757.788 L107.043 766.26 Q108.061 765.913 109.08 765.751 Q110.098 765.565 111.117 765.565 Q116.904 765.565 120.283 768.737 Q123.663 771.908 123.663 777.325 Q123.663 782.903 120.191 786.005 Q116.719 789.084 110.399 789.084 Q108.223 789.084 105.955 788.713 Q103.71 788.343 101.302 787.602 L101.302 782.903 Q103.385 784.038 105.608 784.593 Q107.83 785.149 110.307 785.149 Q114.311 785.149 116.649 783.042 Q118.987 780.936 118.987 777.325 Q118.987 773.714 116.649 771.607 Q114.311 769.501 110.307 769.501 Q108.432 769.501 106.557 769.917 Q104.705 770.334 102.76 771.214 L102.76 753.853 Z\" fill=\"#000000\" fill-rule=\"evenodd\" fill-opacity=\"1\" /><path clip-path=\"url(#clip200)\" d=\"M 0 0 M66.881 528.649 L74.5198 528.649 L74.5198 502.283 L66.2097 503.95 L66.2097 499.691 L74.4735 498.024 L79.1494 498.024 L79.1494 528.649 L86.7883 528.649 L86.7883 532.584 L66.881 532.584 L66.881 528.649 Z\" fill=\"#000000\" fill-rule=\"evenodd\" fill-opacity=\"1\" /><path clip-path=\"url(#clip200)\" d=\"M 0 0 M91.8577 526.704 L96.7419 526.704 L96.7419 532.584 L91.8577 532.584 L91.8577 526.704 Z\" fill=\"#000000\" fill-rule=\"evenodd\" fill-opacity=\"1\" /><path clip-path=\"url(#clip200)\" d=\"M 0 0 M111.811 516.172 Q108.478 516.172 106.557 517.954 Q104.659 519.737 104.659 522.862 Q104.659 525.987 106.557 527.769 Q108.478 529.551 111.811 529.551 Q115.145 529.551 117.066 527.769 Q118.987 525.964 118.987 522.862 Q118.987 519.737 117.066 517.954 Q115.168 516.172 111.811 516.172 M107.135 514.181 Q104.126 513.44 102.436 511.38 Q100.77 509.32 100.77 506.357 Q100.77 502.214 103.71 499.806 Q106.672 497.399 111.811 497.399 Q116.973 497.399 119.913 499.806 Q122.853 502.214 122.853 506.357 Q122.853 509.32 121.163 511.38 Q119.496 513.44 116.51 514.181 Q119.89 514.968 121.765 517.26 Q123.663 519.552 123.663 522.862 Q123.663 527.885 120.584 530.57 Q117.529 533.255 111.811 533.255 Q106.094 533.255 103.015 530.57 Q99.9595 527.885 99.9595 522.862 Q99.9595 519.552 101.858 517.26 Q103.756 514.968 107.135 514.181 M105.422 506.797 Q105.422 509.482 107.089 510.987 Q108.779 512.491 111.811 512.491 Q114.821 512.491 116.51 510.987 Q118.223 509.482 118.223 506.797 Q118.223 504.112 116.51 502.607 Q114.821 501.103 111.811 501.103 Q108.779 501.103 107.089 502.607 Q105.422 504.112 105.422 506.797 Z\" fill=\"#000000\" fill-rule=\"evenodd\" fill-opacity=\"1\" /><path clip-path=\"url(#clip200)\" d=\"M 0 0 M71.6032 272.82 L87.9225 272.82 L87.9225 276.755 L65.9782 276.755 L65.9782 272.82 Q68.6402 270.065 73.2236 265.436 Q77.83 260.783 79.0106 259.44 Q81.2559 256.917 82.1355 255.181 Q83.0383 253.422 83.0383 251.732 Q83.0383 248.977 81.0939 247.241 Q79.1726 245.505 76.0708 245.505 Q73.8717 245.505 71.418 246.269 Q68.9875 247.033 66.2097 248.584 L66.2097 243.862 Q69.0338 242.728 71.4875 242.149 Q73.9411 241.57 75.9782 241.57 Q81.3485 241.57 84.5429 244.255 Q87.7374 246.94 87.7374 251.431 Q87.7374 253.561 86.9272 255.482 Q86.1402 257.38 84.0337 259.973 Q83.455 260.644 80.3531 263.862 Q77.2513 267.056 71.6032 272.82 Z\" fill=\"#000000\" fill-rule=\"evenodd\" fill-opacity=\"1\" /><path clip-path=\"url(#clip200)\" d=\"M 0 0 M92.992 270.876 L97.8762 270.876 L97.8762 276.755 L92.992 276.755 L92.992 270.876 Z\" fill=\"#000000\" fill-rule=\"evenodd\" fill-opacity=\"1\" /><path clip-path=\"url(#clip200)\" d=\"M 0 0 M103.756 272.82 L111.395 272.82 L111.395 246.454 L103.085 248.121 L103.085 243.862 L111.348 242.195 L116.024 242.195 L116.024 272.82 L123.663 272.82 L123.663 276.755 L103.756 276.755 L103.756 272.82 Z\" fill=\"#000000\" fill-rule=\"evenodd\" fill-opacity=\"1\" /><path clip-path=\"url(#clip200)\" d=\"M 0 0 M1232.04 1508.52 L1238.94 1508.52 L1250.75 1526.19 L1262.62 1508.52 L1269.53 1508.52 L1254.25 1531.34 L1270.55 1556.04 L1263.64 1556.04 L1250.27 1535.83 L1236.81 1556.04 L1229.87 1556.04 L1246.84 1530.68 L1232.04 1508.52 Z\" fill=\"#000000\" fill-rule=\"evenodd\" fill-opacity=\"1\" /><polyline clip-path=\"url(#clip202)\" style=\"stroke:#009af9; stroke-width:8; stroke-opacity:1; fill:none\" points=\"\n",
       "  1271.44,478.105 1313.89,299.479 1356.35,188.964 1398.8,129.714 1441.26,101.182 1483.71,89.3328 1526.16,86.1857 1568.62,87.4239 1611.07,90.636 1653.53,94.3898 \n",
       "  1695.98,97.8067 1738.44,100.397 1780.89,101.964 1823.35,102.513 1865.8,102.193 1908.26,101.217 1950.71,99.8016 1993.17,98.1404 2035.62,96.3809 2078.07,94.6472 \n",
       "  2120.53,93.0061 2162.98,91.541 2205.44,90.4819 2247.89,92.0147 2290.35,101.105 \n",
       "  \"/>\n",
       "<polyline clip-path=\"url(#clip202)\" style=\"stroke:#e26f46; stroke-width:8; stroke-opacity:1; fill:none\" points=\"\n",
       "  1271.44,1161.46 1313.89,1258.9 1356.35,1312.75 1398.8,1340.76 1441.26,1355.19 1483.71,1362.86 1526.16,1367.25 1568.62,1370.02 1611.07,1371.97 1653.53,1373.4 \n",
       "  1695.98,1374.47 1738.44,1375.24 1780.89,1375.78 1823.35,1376.16 1865.8,1376.48 1908.26,1376.81 1950.71,1377.2 1993.17,1377.71 2035.62,1378.33 2078.07,1379.11 \n",
       "  2120.53,1380.11 2162.98,1381.35 2205.44,1382.9 2247.89,1384.24 2290.35,1369.12 \n",
       "  \"/>\n",
       "<polyline clip-path=\"url(#clip202)\" style=\"stroke:#3da44d; stroke-width:8; stroke-opacity:1; fill:none\" points=\"\n",
       "  1271.44,462.342 1313.89,373.512 1356.35,332.737 1398.8,313.218 1441.26,303.754 1483.71,299.011 1526.16,296.245 1568.62,294.162 1611.07,291.986 1653.53,289.537 \n",
       "  1695.98,286.844 1738.44,283.949 1780.89,281.345 1823.35,278.369 1865.8,276.694 1908.26,273.537 1950.71,273.887 1993.17,268.432 2035.62,272.936 2078.07,261.278 \n",
       "  2120.53,276.721 2162.98,251.786 2205.44,289.154 2247.89,228.858 2290.35,278.129 \n",
       "  \"/>\n",
       "<path clip-path=\"url(#clip200)\" d=\"\n",
       "M1836.11 274.549 L2352.76 274.549 L2352.76 32.6286 L1836.11 32.6286  Z\n",
       "  \" fill=\"#ffffff\" fill-rule=\"evenodd\" fill-opacity=\"1\"/>\n",
       "<polyline clip-path=\"url(#clip200)\" style=\"stroke:#000000; stroke-width:4; stroke-opacity:1; fill:none\" points=\"\n",
       "  1836.11,274.549 2352.76,274.549 2352.76,32.6286 1836.11,32.6286 1836.11,274.549 \n",
       "  \"/>\n",
       "<polyline clip-path=\"url(#clip200)\" style=\"stroke:#009af9; stroke-width:4; stroke-opacity:1; fill:none\" points=\"\n",
       "  1860.11,93.1086 2004.11,93.1086 \n",
       "  \"/>\n",
       "<path clip-path=\"url(#clip200)\" d=\"M 0 0 M2032.79 79.6712 L2032.79 106.546 L2038.44 106.546 Q2045.59 106.546 2048.9 103.305 Q2052.23 100.065 2052.23 93.0739 Q2052.23 86.1295 2048.9 82.9119 Q2045.59 79.6712 2038.44 79.6712 L2032.79 79.6712 M2028.11 75.8286 L2037.72 75.8286 Q2047.77 75.8286 2052.47 80.0184 Q2057.16 84.1851 2057.16 93.0739 Q2057.16 102.009 2052.44 106.199 Q2047.72 110.389 2037.72 110.389 L2028.11 110.389 L2028.11 75.8286 Z\" fill=\"#000000\" fill-rule=\"evenodd\" fill-opacity=\"1\" /><path clip-path=\"url(#clip200)\" d=\"M 0 0 M2083.81 96.3609 L2083.81 98.4442 L2064.22 98.4442 Q2064.5 102.842 2066.86 105.157 Q2069.25 107.449 2073.48 107.449 Q2075.94 107.449 2078.23 106.847 Q2080.54 106.245 2082.81 105.041 L2082.81 109.069 Q2080.52 110.041 2078.11 110.551 Q2075.71 111.06 2073.23 111.06 Q2067.03 111.06 2063.39 107.449 Q2059.78 103.838 2059.78 97.6804 Q2059.78 91.3146 2063.21 87.5878 Q2066.66 83.8378 2072.49 83.8378 Q2077.72 83.8378 2080.75 87.2174 Q2083.81 90.5739 2083.81 96.3609 M2079.55 95.1109 Q2079.5 91.6156 2077.58 89.5322 Q2075.68 87.4489 2072.53 87.4489 Q2068.97 87.4489 2066.82 89.4628 Q2064.69 91.4767 2064.36 95.1341 L2079.55 95.1109 Z\" fill=\"#000000\" fill-rule=\"evenodd\" fill-opacity=\"1\" /><path clip-path=\"url(#clip200)\" d=\"M 0 0 M2109.83 94.7406 L2109.83 110.389 L2105.57 110.389 L2105.57 94.8794 Q2105.57 91.1989 2104.13 89.3702 Q2102.7 87.5415 2099.83 87.5415 Q2096.38 87.5415 2094.39 89.7406 Q2092.4 91.9396 2092.4 95.7359 L2092.4 110.389 L2088.11 110.389 L2088.11 84.4628 L2092.4 84.4628 L2092.4 88.4906 Q2093.92 86.1526 2095.98 84.9952 Q2098.07 83.8378 2100.78 83.8378 Q2105.24 83.8378 2107.53 86.6156 Q2109.83 89.3702 2109.83 94.7406 Z\" fill=\"#000000\" fill-rule=\"evenodd\" fill-opacity=\"1\" /><path clip-path=\"url(#clip200)\" d=\"M 0 0 M2130.82 85.2267 L2130.82 89.2545 Q2129.02 88.3286 2127.07 87.8656 Q2125.13 87.4026 2123.04 87.4026 Q2119.87 87.4026 2118.28 88.3748 Q2116.7 89.3471 2116.7 91.2915 Q2116.7 92.773 2117.84 93.6294 Q2118.97 94.4628 2122.4 95.2267 L2123.85 95.5507 Q2128.39 96.523 2130.29 98.3054 Q2132.21 100.065 2132.21 103.236 Q2132.21 106.847 2129.34 108.953 Q2126.49 111.06 2121.49 111.06 Q2119.41 111.06 2117.14 110.643 Q2114.9 110.25 2112.4 109.44 L2112.4 105.041 Q2114.76 106.268 2117.05 106.893 Q2119.34 107.495 2121.59 107.495 Q2124.59 107.495 2126.22 106.477 Q2127.84 105.435 2127.84 103.56 Q2127.84 101.824 2126.66 100.898 Q2125.5 99.972 2121.54 99.1155 L2120.06 98.7683 Q2116.1 97.935 2114.34 96.222 Q2112.58 94.4859 2112.58 91.4767 Q2112.58 87.8193 2115.17 85.8286 Q2117.77 83.8378 2122.53 83.8378 Q2124.9 83.8378 2126.98 84.1851 Q2129.06 84.5323 2130.82 85.2267 Z\" fill=\"#000000\" fill-rule=\"evenodd\" fill-opacity=\"1\" /><path clip-path=\"url(#clip200)\" d=\"M 0 0 M2136.68 84.4628 L2140.94 84.4628 L2140.94 110.389 L2136.68 110.389 L2136.68 84.4628 M2136.68 74.3703 L2140.94 74.3703 L2140.94 79.7638 L2136.68 79.7638 L2136.68 74.3703 Z\" fill=\"#000000\" fill-rule=\"evenodd\" fill-opacity=\"1\" /><path clip-path=\"url(#clip200)\" d=\"M 0 0 M2149.62 77.1018 L2149.62 84.4628 L2158.39 84.4628 L2158.39 87.773 L2149.62 87.773 L2149.62 101.847 Q2149.62 105.018 2150.47 105.921 Q2151.35 106.824 2154.02 106.824 L2158.39 106.824 L2158.39 110.389 L2154.02 110.389 Q2149.09 110.389 2147.21 108.56 Q2145.34 106.708 2145.34 101.847 L2145.34 87.773 L2142.21 87.773 L2142.21 84.4628 L2145.34 84.4628 L2145.34 77.1018 L2149.62 77.1018 Z\" fill=\"#000000\" fill-rule=\"evenodd\" fill-opacity=\"1\" /><path clip-path=\"url(#clip200)\" d=\"M 0 0 M2173.65 112.796 Q2171.84 117.426 2170.13 118.838 Q2168.41 120.25 2165.54 120.25 L2162.14 120.25 L2162.14 116.685 L2164.64 116.685 Q2166.4 116.685 2167.37 115.852 Q2168.34 115.018 2169.53 111.916 L2170.29 109.972 L2159.8 84.4628 L2164.32 84.4628 L2172.42 104.741 L2180.52 84.4628 L2185.03 84.4628 L2173.65 112.796 Z\" fill=\"#000000\" fill-rule=\"evenodd\" fill-opacity=\"1\" /><polyline clip-path=\"url(#clip200)\" style=\"stroke:#e26f46; stroke-width:4; stroke-opacity:1; fill:none\" points=\"\n",
       "  1860.11,153.589 2004.11,153.589 \n",
       "  \"/>\n",
       "<path clip-path=\"url(#clip200)\" d=\"M 0 0 M2041.31 170.869 L2028.11 136.309 L2033 136.309 L2043.95 165.406 L2054.92 136.309 L2059.78 136.309 L2046.61 170.869 L2041.31 170.869 Z\" fill=\"#000000\" fill-rule=\"evenodd\" fill-opacity=\"1\" /><path clip-path=\"url(#clip200)\" d=\"M 0 0 M2082.74 156.841 L2082.74 158.924 L2063.16 158.924 Q2063.44 163.322 2065.8 165.637 Q2068.18 167.929 2072.42 167.929 Q2074.87 167.929 2077.16 167.327 Q2079.48 166.725 2081.75 165.521 L2081.75 169.549 Q2079.46 170.521 2077.05 171.031 Q2074.64 171.54 2072.16 171.54 Q2065.96 171.54 2062.33 167.929 Q2058.72 164.318 2058.72 158.16 Q2058.72 151.795 2062.14 148.068 Q2065.59 144.318 2071.42 144.318 Q2076.66 144.318 2079.69 147.697 Q2082.74 151.054 2082.74 156.841 M2078.48 155.591 Q2078.44 152.096 2076.52 150.012 Q2074.62 147.929 2071.47 147.929 Q2067.91 147.929 2065.75 149.943 Q2063.62 151.957 2063.3 155.614 L2078.48 155.591 Z\" fill=\"#000000\" fill-rule=\"evenodd\" fill-opacity=\"1\" /><path clip-path=\"url(#clip200)\" d=\"M 0 0 M2087.21 134.85 L2091.47 134.85 L2091.47 170.869 L2087.21 170.869 L2087.21 134.85 Z\" fill=\"#000000\" fill-rule=\"evenodd\" fill-opacity=\"1\" /><path clip-path=\"url(#clip200)\" d=\"M 0 0 M2105.98 147.929 Q2102.56 147.929 2100.57 150.614 Q2098.58 153.276 2098.58 157.929 Q2098.58 162.582 2100.54 165.267 Q2102.53 167.929 2105.98 167.929 Q2109.39 167.929 2111.38 165.244 Q2113.37 162.558 2113.37 157.929 Q2113.37 153.322 2111.38 150.637 Q2109.39 147.929 2105.98 147.929 M2105.98 144.318 Q2111.54 144.318 2114.71 147.929 Q2117.88 151.54 2117.88 157.929 Q2117.88 164.295 2114.71 167.929 Q2111.54 171.54 2105.98 171.54 Q2100.41 171.54 2097.23 167.929 Q2094.09 164.295 2094.09 157.929 Q2094.09 151.54 2097.23 147.929 Q2100.41 144.318 2105.98 144.318 Z\" fill=\"#000000\" fill-rule=\"evenodd\" fill-opacity=\"1\" /><path clip-path=\"url(#clip200)\" d=\"M 0 0 M2141.01 145.938 L2141.01 149.92 Q2139.2 148.924 2137.37 148.438 Q2135.57 147.929 2133.72 147.929 Q2129.57 147.929 2127.28 150.568 Q2124.99 153.184 2124.99 157.929 Q2124.99 162.674 2127.28 165.313 Q2129.57 167.929 2133.72 167.929 Q2135.57 167.929 2137.37 167.443 Q2139.2 166.933 2141.01 165.938 L2141.01 169.873 Q2139.22 170.707 2137.3 171.123 Q2135.4 171.54 2133.25 171.54 Q2127.4 171.54 2123.95 167.859 Q2120.5 164.179 2120.5 157.929 Q2120.5 151.586 2123.97 147.952 Q2127.47 144.318 2133.53 144.318 Q2135.5 144.318 2137.37 144.735 Q2139.25 145.128 2141.01 145.938 Z\" fill=\"#000000\" fill-rule=\"evenodd\" fill-opacity=\"1\" /><path clip-path=\"url(#clip200)\" d=\"M 0 0 M2145.47 144.943 L2149.73 144.943 L2149.73 170.869 L2145.47 170.869 L2145.47 144.943 M2145.47 134.85 L2149.73 134.85 L2149.73 140.244 L2145.47 140.244 L2145.47 134.85 Z\" fill=\"#000000\" fill-rule=\"evenodd\" fill-opacity=\"1\" /><path clip-path=\"url(#clip200)\" d=\"M 0 0 M2158.41 137.582 L2158.41 144.943 L2167.19 144.943 L2167.19 148.253 L2158.41 148.253 L2158.41 162.327 Q2158.41 165.498 2159.27 166.401 Q2160.15 167.304 2162.81 167.304 L2167.19 167.304 L2167.19 170.869 L2162.81 170.869 Q2157.88 170.869 2156.01 169.04 Q2154.13 167.188 2154.13 162.327 L2154.13 148.253 L2151.01 148.253 L2151.01 144.943 L2154.13 144.943 L2154.13 137.582 L2158.41 137.582 Z\" fill=\"#000000\" fill-rule=\"evenodd\" fill-opacity=\"1\" /><path clip-path=\"url(#clip200)\" d=\"M 0 0 M2182.44 173.276 Q2180.64 177.906 2178.92 179.318 Q2177.21 180.73 2174.34 180.73 L2170.94 180.73 L2170.94 177.165 L2173.44 177.165 Q2175.2 177.165 2176.17 176.332 Q2177.14 175.498 2178.32 172.396 L2179.09 170.452 L2168.6 144.943 L2173.11 144.943 L2181.21 165.221 L2189.32 144.943 L2193.83 144.943 L2182.44 173.276 Z\" fill=\"#000000\" fill-rule=\"evenodd\" fill-opacity=\"1\" /><polyline clip-path=\"url(#clip200)\" style=\"stroke:#3da44d; stroke-width:4; stroke-opacity:1; fill:none\" points=\"\n",
       "  1860.11,214.069 2004.11,214.069 \n",
       "  \"/>\n",
       "<path clip-path=\"url(#clip200)\" d=\"M 0 0 M2028.11 196.789 L2057.35 196.789 L2057.35 200.724 L2045.08 200.724 L2045.08 231.349 L2040.38 231.349 L2040.38 200.724 L2028.11 200.724 L2028.11 196.789 Z\" fill=\"#000000\" fill-rule=\"evenodd\" fill-opacity=\"1\" /><path clip-path=\"url(#clip200)\" d=\"M 0 0 M2075.94 217.321 L2075.94 219.404 L2056.35 219.404 Q2056.63 223.802 2058.99 226.117 Q2061.38 228.409 2065.61 228.409 Q2068.07 228.409 2070.36 227.807 Q2072.67 227.205 2074.94 226.001 L2074.94 230.029 Q2072.65 231.001 2070.24 231.511 Q2067.84 232.02 2065.36 232.02 Q2059.16 232.02 2055.52 228.409 Q2051.91 224.798 2051.91 218.64 Q2051.91 212.275 2055.34 208.548 Q2058.79 204.798 2064.62 204.798 Q2069.85 204.798 2072.88 208.177 Q2075.94 211.534 2075.94 217.321 M2071.68 216.071 Q2071.63 212.576 2069.71 210.492 Q2067.81 208.409 2064.66 208.409 Q2061.1 208.409 2058.95 210.423 Q2056.82 212.437 2056.49 216.094 L2071.68 216.071 Z\" fill=\"#000000\" fill-rule=\"evenodd\" fill-opacity=\"1\" /><path clip-path=\"url(#clip200)\" d=\"M 0 0 M2100.59 210.4 Q2102.19 207.529 2104.41 206.164 Q2106.63 204.798 2109.64 204.798 Q2113.69 204.798 2115.89 207.645 Q2118.09 210.469 2118.09 215.701 L2118.09 231.349 L2113.81 231.349 L2113.81 215.839 Q2113.81 212.113 2112.49 210.307 Q2111.17 208.502 2108.46 208.502 Q2105.15 208.502 2103.23 210.701 Q2101.31 212.9 2101.31 216.696 L2101.31 231.349 L2097.03 231.349 L2097.03 215.839 Q2097.03 212.089 2095.71 210.307 Q2094.39 208.502 2091.63 208.502 Q2088.37 208.502 2086.45 210.724 Q2084.53 212.923 2084.53 216.696 L2084.53 231.349 L2080.24 231.349 L2080.24 205.423 L2084.53 205.423 L2084.53 209.451 Q2085.98 207.066 2088.02 205.932 Q2090.06 204.798 2092.86 204.798 Q2095.68 204.798 2097.65 206.233 Q2099.64 207.668 2100.59 210.4 Z\" fill=\"#000000\" fill-rule=\"evenodd\" fill-opacity=\"1\" /><path clip-path=\"url(#clip200)\" d=\"M 0 0 M2126.68 227.46 L2126.68 241.21 L2122.4 241.21 L2122.4 205.423 L2126.68 205.423 L2126.68 209.358 Q2128.02 207.043 2130.06 205.932 Q2132.12 204.798 2134.97 204.798 Q2139.69 204.798 2142.63 208.548 Q2145.59 212.298 2145.59 218.409 Q2145.59 224.52 2142.63 228.27 Q2139.69 232.02 2134.97 232.02 Q2132.12 232.02 2130.06 230.909 Q2128.02 229.775 2126.68 227.46 M2141.17 218.409 Q2141.17 213.71 2139.22 211.048 Q2137.3 208.363 2133.92 208.363 Q2130.54 208.363 2128.6 211.048 Q2126.68 213.71 2126.68 218.409 Q2126.68 223.108 2128.6 225.793 Q2130.54 228.455 2133.92 228.455 Q2137.3 228.455 2139.22 225.793 Q2141.17 223.108 2141.17 218.409 Z\" fill=\"#000000\" fill-rule=\"evenodd\" fill-opacity=\"1\" /><path clip-path=\"url(#clip200)\" d=\"M 0 0 M2172.23 217.321 L2172.23 219.404 L2152.65 219.404 Q2152.93 223.802 2155.29 226.117 Q2157.67 228.409 2161.91 228.409 Q2164.36 228.409 2166.65 227.807 Q2168.97 227.205 2171.24 226.001 L2171.24 230.029 Q2168.95 231.001 2166.54 231.511 Q2164.13 232.02 2161.65 232.02 Q2155.45 232.02 2151.82 228.409 Q2148.21 224.798 2148.21 218.64 Q2148.21 212.275 2151.63 208.548 Q2155.08 204.798 2160.91 204.798 Q2166.15 204.798 2169.18 208.177 Q2172.23 211.534 2172.23 217.321 M2167.97 216.071 Q2167.93 212.576 2166.01 210.492 Q2164.11 208.409 2160.96 208.409 Q2157.4 208.409 2155.24 210.423 Q2153.11 212.437 2152.79 216.094 L2167.97 216.071 Z\" fill=\"#000000\" fill-rule=\"evenodd\" fill-opacity=\"1\" /><path clip-path=\"url(#clip200)\" d=\"M 0 0 M2191.72 209.404 Q2191.01 208.988 2190.15 208.802 Q2189.32 208.594 2188.3 208.594 Q2184.69 208.594 2182.74 210.955 Q2180.82 213.293 2180.82 217.691 L2180.82 231.349 L2176.54 231.349 L2176.54 205.423 L2180.82 205.423 L2180.82 209.451 Q2182.16 207.089 2184.32 205.955 Q2186.47 204.798 2189.55 204.798 Q2189.99 204.798 2190.52 204.867 Q2191.05 204.914 2191.7 205.029 L2191.72 209.404 Z\" fill=\"#000000\" fill-rule=\"evenodd\" fill-opacity=\"1\" /><path clip-path=\"url(#clip200)\" d=\"M 0 0 M2207.97 218.316 Q2202.81 218.316 2200.82 219.497 Q2198.83 220.677 2198.83 223.525 Q2198.83 225.793 2200.31 227.136 Q2201.82 228.455 2204.39 228.455 Q2207.93 228.455 2210.06 225.955 Q2212.21 223.432 2212.21 219.265 L2212.21 218.316 L2207.97 218.316 M2216.47 216.557 L2216.47 231.349 L2212.21 231.349 L2212.21 227.413 Q2210.75 229.775 2208.58 230.909 Q2206.4 232.02 2203.25 232.02 Q2199.27 232.02 2196.91 229.798 Q2194.57 227.552 2194.57 223.802 Q2194.57 219.427 2197.49 217.205 Q2200.43 214.983 2206.24 214.983 L2212.21 214.983 L2212.21 214.566 Q2212.21 211.627 2210.27 210.029 Q2208.34 208.409 2204.85 208.409 Q2202.63 208.409 2200.52 208.941 Q2198.41 209.474 2196.47 210.539 L2196.47 206.603 Q2198.81 205.701 2201.01 205.261 Q2203.21 204.798 2205.29 204.798 Q2210.91 204.798 2213.69 207.714 Q2216.47 210.631 2216.47 216.557 Z\" fill=\"#000000\" fill-rule=\"evenodd\" fill-opacity=\"1\" /><path clip-path=\"url(#clip200)\" d=\"M 0 0 M2225.15 198.062 L2225.15 205.423 L2233.92 205.423 L2233.92 208.733 L2225.15 208.733 L2225.15 222.807 Q2225.15 225.978 2226.01 226.881 Q2226.89 227.784 2229.55 227.784 L2233.92 227.784 L2233.92 231.349 L2229.55 231.349 Q2224.62 231.349 2222.74 229.52 Q2220.87 227.668 2220.87 222.807 L2220.87 208.733 L2217.74 208.733 L2217.74 205.423 L2220.87 205.423 L2220.87 198.062 L2225.15 198.062 Z\" fill=\"#000000\" fill-rule=\"evenodd\" fill-opacity=\"1\" /><path clip-path=\"url(#clip200)\" d=\"M 0 0 M2237.95 221.117 L2237.95 205.423 L2242.21 205.423 L2242.21 220.955 Q2242.21 224.636 2243.65 226.488 Q2245.08 228.316 2247.95 228.316 Q2251.4 228.316 2253.39 226.117 Q2255.4 223.918 2255.4 220.122 L2255.4 205.423 L2259.66 205.423 L2259.66 231.349 L2255.4 231.349 L2255.4 227.367 Q2253.85 229.728 2251.79 230.886 Q2249.76 232.02 2247.05 232.02 Q2242.58 232.02 2240.27 229.242 Q2237.95 226.464 2237.95 221.117 M2248.67 204.798 L2248.67 204.798 Z\" fill=\"#000000\" fill-rule=\"evenodd\" fill-opacity=\"1\" /><path clip-path=\"url(#clip200)\" d=\"M 0 0 M2279.15 209.404 Q2278.44 208.988 2277.58 208.802 Q2276.75 208.594 2275.73 208.594 Q2272.12 208.594 2270.17 210.955 Q2268.25 213.293 2268.25 217.691 L2268.25 231.349 L2263.97 231.349 L2263.97 205.423 L2268.25 205.423 L2268.25 209.451 Q2269.59 207.089 2271.75 205.955 Q2273.9 204.798 2276.98 204.798 Q2277.42 204.798 2277.95 204.867 Q2278.48 204.914 2279.13 205.029 L2279.15 209.404 Z\" fill=\"#000000\" fill-rule=\"evenodd\" fill-opacity=\"1\" /><path clip-path=\"url(#clip200)\" d=\"M 0 0 M2304.76 217.321 L2304.76 219.404 L2285.17 219.404 Q2285.45 223.802 2287.81 226.117 Q2290.2 228.409 2294.43 228.409 Q2296.89 228.409 2299.18 227.807 Q2301.49 227.205 2303.76 226.001 L2303.76 230.029 Q2301.47 231.001 2299.06 231.511 Q2296.65 232.02 2294.18 232.02 Q2287.97 232.02 2284.34 228.409 Q2280.73 224.798 2280.73 218.64 Q2280.73 212.275 2284.15 208.548 Q2287.6 204.798 2293.44 204.798 Q2298.67 204.798 2301.7 208.177 Q2304.76 211.534 2304.76 217.321 M2300.5 216.071 Q2300.45 212.576 2298.53 210.492 Q2296.63 208.409 2293.48 208.409 Q2289.92 208.409 2287.77 210.423 Q2285.64 212.437 2285.31 216.094 L2300.5 216.071 Z\" fill=\"#000000\" fill-rule=\"evenodd\" fill-opacity=\"1\" /></svg>\n"
      ]
     },
     "metadata": {},
     "output_type": "display_data"
    }
   ],
   "source": [
    "plot_line(ks, ctr)"
   ]
  },
  {
   "cell_type": "code",
   "execution_count": null,
   "metadata": {},
   "outputs": [],
   "source": [
    "res.minimizer"
   ]
  },
  {
   "cell_type": "code",
   "execution_count": null,
   "metadata": {},
   "outputs": [],
   "source": []
  }
 ],
 "metadata": {
  "kernelspec": {
   "display_name": "Julia 1.4.2",
   "language": "julia",
   "name": "julia-1.4"
  },
  "language_info": {
   "file_extension": ".jl",
   "mimetype": "application/julia",
   "name": "julia",
   "version": "1.4.2"
  }
 },
 "nbformat": 4,
 "nbformat_minor": 4
}
