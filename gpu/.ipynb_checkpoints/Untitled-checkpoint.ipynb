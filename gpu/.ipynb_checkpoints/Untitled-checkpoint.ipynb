{
 "cells": [
  {
   "cell_type": "code",
   "execution_count": 1,
   "metadata": {},
   "outputs": [
    {
     "name": "stderr",
     "output_type": "stream",
     "text": [
      "┌ Info: Precompiling Plots [91a5bcdd-55d7-5caf-9e0b-520d859cae80]\n",
      "└ @ Base loading.jl:1260\n",
      "┌ Error: (compiled mode) evaluation error starting at /home/vavrines/.julia/packages/DistributionsAD/BtYLj/src/reversediff.jl:19\n",
      "│   mod = DistributionsAD.ReverseDiffX\n",
      "│   ex = begin\n",
      "    #= /home/vavrines/.julia/packages/DistributionsAD/BtYLj/src/reversediff.jl:19 =#\n",
      "    const RDBroadcasted{F, T} = Broadcasted{<:Any, <:Any, F, T}\n",
      "end\n",
      "│   exception = (ErrorException(\"invalid redefinition of constant RDBroadcasted\"), Union{Ptr{Nothing}, Base.InterpreterIP}[Ptr{Nothing} @0x00007f8b8d69372f, Ptr{Nothing} @0x00007f8b8d72094c, Ptr{Nothing} @0x00007f8b8d7230f8, Ptr{Nothing} @0x00007f8b8d723fe7, Base.InterpreterIP in top-level CodeInfo for DistributionsAD.ReverseDiffX at statement 15])\n",
      "└ @ Revise /home/vavrines/.julia/packages/Revise/BqeJF/src/lowered.jl:85\n",
      "┌ Info: Precompiling FileIO [5789e2e9-d7fb-5bc7-8068-2c6fae9b9549]\n",
      "└ @ Base loading.jl:1260\n",
      "┌ Info: Precompiling JLD2 [033835bb-8acc-5ee8-8aae-3f567f8a3819]\n",
      "└ @ Base loading.jl:1260\n",
      "┌ Info: Precompiling Kinetic [82403725-3cee-4f7c-b214-1ce71af4a797]\n",
      "└ @ Base loading.jl:1260\n"
     ]
    }
   ],
   "source": [
    "using Revise, OrdinaryDiffEq, Flux, DiffEqFlux, Optim\n",
    "using Plots, FileIO, JLD2, OffsetArrays, ProgressMeter, Kinetic"
   ]
  },
  {
   "cell_type": "code",
   "execution_count": 2,
   "metadata": {
    "scrolled": true
   },
   "outputs": [
    {
     "data": {
      "text/plain": [
       "2-element Array{Symbol,1}:\n",
       " :ks\n",
       " :ctr"
      ]
     },
     "execution_count": 2,
     "metadata": {},
     "output_type": "execute_result"
    }
   ],
   "source": [
    "@load \"sol1d.jld2\" ks ctr"
   ]
  },
  {
   "cell_type": "code",
   "execution_count": 16,
   "metadata": {},
   "outputs": [],
   "source": [
    "vMeshType = \"rectangle\"\n",
    "umin = ks.vSpace.u0\n",
    "umin = ks.vSpace.u1\n",
    "nu = ks.vSpace.nu\n",
    "vmin = ks.vSpace.u0\n",
    "vmax = ks.vSpace.u1\n",
    "nv = 28\n",
    "nvg = 0\n",
    "wmin = ks.vSpace.u0\n",
    "wmax = ks.vSpace.u1\n",
    "nw = 28\n",
    "nwg = 0\n",
    "nm = 5\n",
    "tLen = 3\n",
    "nh = 12;"
   ]
  },
  {
   "cell_type": "code",
   "execution_count": 14,
   "metadata": {},
   "outputs": [],
   "source": [
    "vSpace2D = VSpace2D(vmin, vmax, nv, wmin, wmax, nw, vMeshType)\n",
    "vSpace3D = VSpace3D(ks.vSpace.u0, ks.vSpace.u1, ks.vSpace.nu, vmin, vmax, nv, wmin, wmax, nw, vMeshType)\n",
    "\n",
    "kn_bzm = hs_boltz_kn(ks.gas.μᵣ, 1.0)\n",
    "sos = sound_speed(ks.ib.primR, ks.gas.γ)\n",
    "tmax = (ks.vSpace.u1 + sos) / ks.pSpace.dx[1]\n",
    "dt = Float32(ks.set.cfl / tmax)\n",
    "tspan = (0.f0, dt)\n",
    "tran = range(tspan[1], tspan[2], length = tLen);"
   ]
  },
  {
   "cell_type": "code",
   "execution_count": 15,
   "metadata": {},
   "outputs": [],
   "source": [
    "#--- Boltzmann dataset ---#\n",
    "f_full = Array{Float32}(undef, ks.vSpace.nu, nv, nw, ks.pSpace.nx)\n",
    "for i = 1:ks.pSpace.nx\n",
    "    f_full[:, :, :, i] .= full_distribution(\n",
    "        ctr[i].h,\n",
    "        ctr[i].b,\n",
    "        ks.vSpace.u,\n",
    "        ks.vSpace.weights,\n",
    "        vSpace3D.v,\n",
    "        vSpace3D.w,\n",
    "        ctr[i].prim,\n",
    "        ks.gas.γ,\n",
    "    )\n",
    "end\n",
    "\n",
    "phi, psi, phipsi = kernel_mode(\n",
    "    nm,\n",
    "    vSpace3D.u1,\n",
    "    vSpace3D.v1,\n",
    "    vSpace3D.w1,\n",
    "    vSpace3D.du[1, 1, 1],\n",
    "    vSpace3D.dv[1, 1, 1],\n",
    "    vSpace3D.dw[1, 1, 1],\n",
    "    vSpace3D.nu,\n",
    "    vSpace3D.nv,\n",
    "    vSpace3D.nw,\n",
    "    ks.gas.αᵣ,\n",
    ")\n",
    "\n",
    "function boltzmann(f, p, t)\n",
    "    Kn, M, phi, psi, phipsi = p\n",
    "    return boltzmann_fft(f[1:end,1:end,1:end], Kn, M, phi, psi, phipsi)\n",
    "end\n",
    "\n",
    "function boltzmann!(df, f, p, t)\n",
    "    Kn, M, phi, psi, phipsi = p\n",
    "    df .= boltzmann_fft(f, Kn, M, phi, psi, phipsi)\n",
    "end\n",
    "\n",
    "X = Array{Float32}(undef, ks.vSpace.nu * 2, ks.pSpace.nx)\n",
    "for i = 1:ks.pSpace.nx\n",
    "    X[1:ks.vSpace.nu, i] .= ctr[i].h\n",
    "    X[ks.vSpace.nu+1:end, i] .= ctr[i].b\n",
    "end\n",
    "\n",
    "data_boltz = zeros(Float32, ks.vSpace.nu, nv, nw, ks.pSpace.nx, tLen)\n",
    "for i = 1:ks.pSpace.nx\n",
    "    prob = ODEProblem(\n",
    "        boltzmann!,\n",
    "        f_full[:, :, :, i],\n",
    "        tspan,\n",
    "        [kn_bzm, nm, phi, psi, phipsi],\n",
    "    )\n",
    "\n",
    "    data_boltz[:, :, :, i, :] = solve(prob, Tsit5(), saveat = tran) |> Array\n",
    "end\n",
    "\n",
    "h_boltz = zeros(Float32, ks.vSpace.nu, ks.pSpace.nx, tLen)\n",
    "b_boltz = zeros(Float32, ks.vSpace.nu, ks.pSpace.nx, tLen)\n",
    "for j = 1:tLen, i = 1:ks.pSpace.nx\n",
    "    h_boltz[:, i, j], b_boltz[:, i, j] = reduce_distribution(\n",
    "        data_boltz[:, :, :, i, j],\n",
    "        vSpace3D.v,\n",
    "        vSpace3D.w,\n",
    "        vSpace2D.weights,\n",
    "    )\n",
    "end\n",
    "Y = vcat(h_boltz, b_boltz);"
   ]
  },
  {
   "cell_type": "code",
   "execution_count": 21,
   "metadata": {},
   "outputs": [],
   "source": [
    "#--- BGK dataset ---#\n",
    "function bgk!(df, f, p, t)\n",
    "    H, B, tau = p\n",
    "    df[1:end÷2, :] .= (H .- f[1:end÷2, :]) ./ tau\n",
    "    df[end÷2+1:end, :] .= (B .- f[end÷2+1:end, :]) ./ tau\n",
    "end\n",
    "\n",
    "X = Array{Float32}(undef, nu * 2, ks.pSpace.nx)\n",
    "for i = 1:ks.pSpace.nx\n",
    "    X[1:nu, i] .= ctr[i].h\n",
    "    X[nu+1:end, i] .= ctr[i].b\n",
    "end\n",
    "\n",
    "H = Array{Float32}(undef, nu, ks.pSpace.nx)\n",
    "B = Array{Float32}(undef, nu, ks.pSpace.nx)\n",
    "τ = Array{Float32}(undef, 1, ks.pSpace.nx)\n",
    "for i = 1:ks.pSpace.nx\n",
    "    H[:, i] .= maxwellian(ks.vSpace.u, ctr[i].prim)\n",
    "    B[:, i] .= H[:, i] .* ks.gas.K ./ (2.0 .* ctr[i].prim[end])\n",
    "    τ[1, i] = vhs_collision_time(ctr[i].prim, ks.gas.μᵣ, ks.gas.ω)\n",
    "end\n",
    "P = [H, B, τ]\n",
    "\n",
    "prob = ODEProblem(bgk!, X, tspan, P)\n",
    "Y1 = solve(prob, Midpoint(), saveat = tran) |> Array;"
   ]
  },
  {
   "cell_type": "code",
   "execution_count": 22,
   "metadata": {},
   "outputs": [
    {
     "data": {
      "text/plain": [
       "#11 (generic function with 1 method)"
      ]
     },
     "execution_count": 22,
     "metadata": {},
     "output_type": "execute_result"
    }
   ],
   "source": [
    "#--- universal differential equation ---#\n",
    "model_univ = FastChain(\n",
    "    (x, p) -> zeros(eltype(x), axes(x)),\n",
    "    DiffEqFlux.FastDense(ks.vSpace.nu * 2, ks.vSpace.nu * 2 * nh, tanh),\n",
    "    #FastDense(ks.vSpace.nu * 2 * nh, ks.vSpace.nu * 2 * nh, tanh),\n",
    "    DiffEqFlux.FastDense(ks.vSpace.nu * 2 * nh, ks.vSpace.nu * 2),\n",
    ")\n",
    "\n",
    "p_model = initial_params(model_univ)\n",
    "\n",
    "function dfdt(f, p, t)\n",
    "    h = f[1:nu, :]\n",
    "    b = f[nu+1:end, :]\n",
    "\n",
    "    dh = (H .- h) ./ τ .+ model_univ(f, p)[1:nu, :]\n",
    "    db = (B .- b) ./ τ .+ model_univ(f, p)[nu+1:end, :]\n",
    "\n",
    "    df = vcat(dh, db)\n",
    "end\n",
    "\n",
    "function dfdt!(df, f, p, t)\n",
    "    h = f[1:nu, :]\n",
    "    b = f[nu+1:end, :]\n",
    "\n",
    "    dh = (H .- h) ./ τ .+ model_univ(f, p)[1:nu, :]\n",
    "    db = (B .- b) ./ τ .+ model_univ(f, p)[nu+1:end, :]\n",
    "\n",
    "    df[1:nu, :] .= dh\n",
    "    df[nu+1:end, :] .= db\n",
    "end\n",
    "\n",
    "prob_ube = ODEProblem(dfdt, X, tspan, p_model)\n",
    "\n",
    "function loss(p)\n",
    "    sol_ube = solve(prob_ube, Midpoint(), u0=X, p=p, saveat=tran)\n",
    "    loss = sum(abs2, Array(sol_ube) .- Y1)\n",
    "    return loss\n",
    "end\n",
    "\n",
    "cb = function (p, l)\n",
    "    display(l)\n",
    "    return false\n",
    "end"
   ]
  },
  {
   "cell_type": "code",
   "execution_count": 23,
   "metadata": {},
   "outputs": [
    {
     "data": {
      "text/plain": [
       "1.2905404f-12"
      ]
     },
     "metadata": {},
     "output_type": "display_data"
    },
    {
     "name": "stderr",
     "output_type": "stream",
     "text": [
      "\u001b[32mloss: 0.000274:   1%|▍                                        |  ETA: 0:03:32\u001b[39m"
     ]
    },
    {
     "data": {
      "text/plain": [
       "7.143097f-5"
      ]
     },
     "metadata": {},
     "output_type": "display_data"
    },
    {
     "name": "stderr",
     "output_type": "stream",
     "text": [
      "\u001b[32mloss: 3.88e-05:   3%|█▎                                       |  ETA: 0:02:03\u001b[39m"
     ]
    },
    {
     "data": {
      "text/plain": [
       "1.864124f-5"
      ]
     },
     "metadata": {},
     "output_type": "display_data"
    },
    {
     "name": "stderr",
     "output_type": "stream",
     "text": [
      "\u001b[32mloss: 6.1e-05:   5%|██                                       |  ETA: 0:01:46\u001b[39mm"
     ]
    },
    {
     "data": {
      "text/plain": [
       "3.130213f-5"
      ]
     },
     "metadata": {},
     "output_type": "display_data"
    },
    {
     "name": "stderr",
     "output_type": "stream",
     "text": [
      "\u001b[32mloss: 1.32e-05:   7%|██▉                                      |  ETA: 0:01:33\u001b[39m"
     ]
    },
    {
     "data": {
      "text/plain": [
       "2.0504047f-5"
      ]
     },
     "metadata": {},
     "output_type": "display_data"
    },
    {
     "name": "stderr",
     "output_type": "stream",
     "text": [
      "\u001b[32mloss: 1.76e-05:   9%|███▊                                     |  ETA: 0:01:25\u001b[39m"
     ]
    },
    {
     "data": {
      "text/plain": [
       "9.936119f-6"
      ]
     },
     "metadata": {},
     "output_type": "display_data"
    },
    {
     "name": "stderr",
     "output_type": "stream",
     "text": [
      "\u001b[32mloss: 5.46e-06:  12%|████▊                                    |  ETA: 0:01:17\u001b[39m"
     ]
    },
    {
     "data": {
      "text/plain": [
       "6.6688654f-6"
      ]
     },
     "metadata": {},
     "output_type": "display_data"
    },
    {
     "name": "stderr",
     "output_type": "stream",
     "text": [
      "\u001b[32mloss: 4.82e-06:  14%|█████▊                                   |  ETA: 0:01:11\u001b[39m"
     ]
    },
    {
     "data": {
      "text/plain": [
       "2.1142391f-6"
      ]
     },
     "metadata": {},
     "output_type": "display_data"
    },
    {
     "name": "stderr",
     "output_type": "stream",
     "text": [
      "\u001b[32mloss: 1.27e-06:  16%|██████▊                                  |  ETA: 0:01:06\u001b[39m"
     ]
    },
    {
     "data": {
      "text/plain": [
       "1.7689414f-6"
      ]
     },
     "metadata": {},
     "output_type": "display_data"
    },
    {
     "name": "stderr",
     "output_type": "stream",
     "text": [
      "\u001b[32mloss: 1.62e-06:  19%|███████▊                                 |  ETA: 0:01:02\u001b[39m"
     ]
    },
    {
     "data": {
      "text/plain": [
       "1.166847f-6"
      ]
     },
     "metadata": {},
     "output_type": "display_data"
    },
    {
     "name": "stderr",
     "output_type": "stream",
     "text": [
      "\u001b[32mloss: 2.7e-07:  22%|████████▉                                |  ETA: 0:00:58\u001b[39mm"
     ]
    },
    {
     "data": {
      "text/plain": [
       "6.049581f-7"
      ]
     },
     "metadata": {},
     "output_type": "display_data"
    },
    {
     "name": "stderr",
     "output_type": "stream",
     "text": [
      "\u001b[32mloss: 7.3e-07:  24%|█████████▉                               |  ETA: 0:00:55\u001b[39mm"
     ]
    },
    {
     "data": {
      "text/plain": [
       "6.1212415f-7"
      ]
     },
     "metadata": {},
     "output_type": "display_data"
    },
    {
     "name": "stderr",
     "output_type": "stream",
     "text": [
      "\u001b[32mloss: 1.16e-07:  26%|██████████▉                              |  ETA: 0:00:52\u001b[39m"
     ]
    },
    {
     "data": {
      "text/plain": [
       "1.7055211f-7"
      ]
     },
     "metadata": {},
     "output_type": "display_data"
    },
    {
     "name": "stderr",
     "output_type": "stream",
     "text": [
      "\u001b[32mloss: 2.88e-07:  29%|███████████▉                             |  ETA: 0:00:49\u001b[39m"
     ]
    },
    {
     "data": {
      "text/plain": [
       "2.3848918f-7"
      ]
     },
     "metadata": {},
     "output_type": "display_data"
    },
    {
     "name": "stderr",
     "output_type": "stream",
     "text": [
      "\u001b[32mloss: 3.89e-08:  32%|█████████████▏                           |  ETA: 0:00:46\u001b[39m"
     ]
    },
    {
     "data": {
      "text/plain": [
       "5.461817f-8"
      ]
     },
     "metadata": {},
     "output_type": "display_data"
    },
    {
     "name": "stderr",
     "output_type": "stream",
     "text": [
      "\u001b[32mloss: 7.72e-08:  34%|██████████████▏                          |  ETA: 0:00:43\u001b[39m"
     ]
    },
    {
     "data": {
      "text/plain": [
       "6.1757795f-8"
      ]
     },
     "metadata": {},
     "output_type": "display_data"
    },
    {
     "name": "stderr",
     "output_type": "stream",
     "text": [
      "\u001b[32mloss: 2.88e-08:  38%|███████████████▍                         |  ETA: 0:00:40\u001b[39m"
     ]
    },
    {
     "data": {
      "text/plain": [
       "3.047797f-8"
      ]
     },
     "metadata": {},
     "output_type": "display_data"
    },
    {
     "name": "stderr",
     "output_type": "stream",
     "text": [
      "\u001b[32mloss: 1.09e-08:  40%|████████████████▋                        |  ETA: 0:00:37\u001b[39m"
     ]
    },
    {
     "data": {
      "text/plain": [
       "7.6473325f-9"
      ]
     },
     "metadata": {},
     "output_type": "display_data"
    },
    {
     "name": "stderr",
     "output_type": "stream",
     "text": [
      "\u001b[32mloss: 1.5e-08:  44%|█████████████████▉                       |  ETA: 0:00:35\u001b[39mm"
     ]
    },
    {
     "data": {
      "text/plain": [
       "1.1962085f-8"
      ]
     },
     "metadata": {},
     "output_type": "display_data"
    },
    {
     "name": "stderr",
     "output_type": "stream",
     "text": [
      "\u001b[32mloss: 1.53e-09:  46%|███████████████████▏                     |  ETA: 0:00:32\u001b[39m"
     ]
    },
    {
     "data": {
      "text/plain": [
       "3.0477016f-9"
      ]
     },
     "metadata": {},
     "output_type": "display_data"
    },
    {
     "name": "stderr",
     "output_type": "stream",
     "text": [
      "\u001b[32mloss: 3.35e-09:  50%|████████████████████▎                    |  ETA: 0:00:30\u001b[39m"
     ]
    },
    {
     "data": {
      "text/plain": [
       "1.7208706f-9"
      ]
     },
     "metadata": {},
     "output_type": "display_data"
    },
    {
     "name": "stderr",
     "output_type": "stream",
     "text": [
      "\u001b[32mloss: 2.21e-09:  53%|█████████████████████▊                   |  ETA: 0:00:27\u001b[39m"
     ]
    },
    {
     "data": {
      "text/plain": [
       "1.7611121f-9"
      ]
     },
     "metadata": {},
     "output_type": "display_data"
    },
    {
     "name": "stderr",
     "output_type": "stream",
     "text": [
      "\u001b[32mloss: 7.04e-10:  56%|███████████████████████▏                 |  ETA: 0:00:25\u001b[39m"
     ]
    },
    {
     "data": {
      "text/plain": [
       "7.429963f-10"
      ]
     },
     "metadata": {},
     "output_type": "display_data"
    },
    {
     "name": "stderr",
     "output_type": "stream",
     "text": [
      "\u001b[32mloss: 1.62e-10:  60%|████████████████████████▋                |  ETA: 0:00:22\u001b[39m"
     ]
    },
    {
     "data": {
      "text/plain": [
       "1.5758107f-10"
      ]
     },
     "metadata": {},
     "output_type": "display_data"
    },
    {
     "name": "stderr",
     "output_type": "stream",
     "text": [
      "\u001b[32mloss: 1.96e-10:  63%|█████████████████████████▉               |  ETA: 0:00:20\u001b[39m"
     ]
    },
    {
     "data": {
      "text/plain": [
       "1.2956342f-10"
      ]
     },
     "metadata": {},
     "output_type": "display_data"
    },
    {
     "name": "stderr",
     "output_type": "stream",
     "text": [
      "\u001b[32mloss: 1.21e-10:  66%|███████████████████████████▎             |  ETA: 0:00:18\u001b[39m"
     ]
    },
    {
     "data": {
      "text/plain": [
       "1.1194924f-10"
      ]
     },
     "metadata": {},
     "output_type": "display_data"
    },
    {
     "name": "stderr",
     "output_type": "stream",
     "text": [
      "\u001b[32mloss: 4.7e-11:  70%|████████████████████████████▊            |  ETA: 0:00:16\u001b[39mm"
     ]
    },
    {
     "data": {
      "text/plain": [
       "6.205319f-11"
      ]
     },
     "metadata": {},
     "output_type": "display_data"
    },
    {
     "name": "stderr",
     "output_type": "stream",
     "text": [
      "\u001b[32mloss: 1.54e-11:  74%|██████████████████████████████▏          |  ETA: 0:00:14\u001b[39m"
     ]
    },
    {
     "data": {
      "text/plain": [
       "2.5253435f-11"
      ]
     },
     "metadata": {},
     "output_type": "display_data"
    },
    {
     "name": "stderr",
     "output_type": "stream",
     "text": [
      "\u001b[32mloss: 9.38e-12:  77%|███████████████████████████████▋         |  ETA: 0:00:12\u001b[39m"
     ]
    },
    {
     "data": {
      "text/plain": [
       "7.880094f-12"
      ]
     },
     "metadata": {},
     "output_type": "display_data"
    },
    {
     "name": "stderr",
     "output_type": "stream",
     "text": [
      "\u001b[32mloss: 9.56e-12:  80%|█████████████████████████████████        |  ETA: 0:00:10\u001b[39m"
     ]
    },
    {
     "data": {
      "text/plain": [
       "7.279325f-12"
      ]
     },
     "metadata": {},
     "output_type": "display_data"
    },
    {
     "name": "stderr",
     "output_type": "stream",
     "text": [
      "\u001b[32mloss: 1.66e-10:  84%|██████████████████████████████████▌      |  ETA: 0:00:08\u001b[39m"
     ]
    },
    {
     "data": {
      "text/plain": [
       "3.659928f-10"
      ]
     },
     "metadata": {},
     "output_type": "display_data"
    },
    {
     "name": "stderr",
     "output_type": "stream",
     "text": [
      "\u001b[32mloss: 3.19e-08:  87%|███████████████████████████████████▋     |  ETA: 0:00:07\u001b[39m"
     ]
    },
    {
     "data": {
      "text/plain": [
       "8.385517f-8"
      ]
     },
     "metadata": {},
     "output_type": "display_data"
    },
    {
     "name": "stderr",
     "output_type": "stream",
     "text": [
      "\u001b[32mloss: 2.81e-06:  90%|████████████████████████████████████▊    |  ETA: 0:00:05\u001b[39m"
     ]
    },
    {
     "data": {
      "text/plain": [
       "4.426973f-6"
      ]
     },
     "metadata": {},
     "output_type": "display_data"
    },
    {
     "name": "stderr",
     "output_type": "stream",
     "text": [
      "\u001b[32mloss: 8.04e-07:  92%|█████████████████████████████████████▌   |  ETA: 0:00:04\u001b[39m"
     ]
    },
    {
     "data": {
      "text/plain": [
       "1.7765409f-6"
      ]
     },
     "metadata": {},
     "output_type": "display_data"
    },
    {
     "name": "stderr",
     "output_type": "stream",
     "text": [
      "\u001b[32mloss: 8.39e-07:  94%|██████████████████████████████████████▍  |  ETA: 0:00:03\u001b[39m"
     ]
    },
    {
     "data": {
      "text/plain": [
       "1.2161975f-6"
      ]
     },
     "metadata": {},
     "output_type": "display_data"
    },
    {
     "name": "stderr",
     "output_type": "stream",
     "text": [
      "\u001b[32mloss: 8.9e-07:  96%|███████████████████████████████████████▏ |  ETA: 0:00:02\u001b[39mm"
     ]
    },
    {
     "data": {
      "text/plain": [
       "2.5372552f-7"
      ]
     },
     "metadata": {},
     "output_type": "display_data"
    },
    {
     "name": "stderr",
     "output_type": "stream",
     "text": [
      "\u001b[32mloss: 5.29e-07:  98%|████████████████████████████████████████▏|  ETA: 0:00:01\u001b[39m"
     ]
    },
    {
     "data": {
      "text/plain": [
       "1.5915558f-7"
      ]
     },
     "metadata": {},
     "output_type": "display_data"
    },
    {
     "name": "stderr",
     "output_type": "stream",
     "text": [
      "\u001b[32mloss: 1.99e-07: 100%|█████████████████████████████████████████| Time: 0:00:52\u001b[39m\n"
     ]
    },
    {
     "data": {
      "text/plain": [
       " * Status: success\n",
       "\n",
       " * Candidate solution\n",
       "    Final objective value:     1.986213e-07\n",
       "\n",
       " * Found with\n",
       "    Algorithm:     ADAM\n",
       "\n",
       " * Convergence measures\n",
       "    |x - x'|               = NaN ≰ 0.0e+00\n",
       "    |x - x'|/|x'|          = NaN ≰ 0.0e+00\n",
       "    |f(x) - f(x')|         = NaN ≰ 0.0e+00\n",
       "    |f(x) - f(x')|/|f(x')| = NaN ≰ 0.0e+00\n",
       "    |g(x)|                 = NaN ≰ 0.0e+00\n",
       "\n",
       " * Work counters\n",
       "    Seconds run:   76  (vs limit Inf)\n",
       "    Iterations:    200\n",
       "    f(x) calls:    200\n",
       "    ∇f(x) calls:   200\n"
      ]
     },
     "execution_count": 23,
     "metadata": {},
     "output_type": "execute_result"
    }
   ],
   "source": [
    "res = DiffEqFlux.sciml_train(loss, p_model, ADAM(), cb=Flux.throttle(cb, 1), maxiters=200)"
   ]
  },
  {
   "cell_type": "code",
   "execution_count": null,
   "metadata": {},
   "outputs": [],
   "source": []
  },
  {
   "cell_type": "code",
   "execution_count": null,
   "metadata": {},
   "outputs": [],
   "source": []
  },
  {
   "cell_type": "code",
   "execution_count": null,
   "metadata": {},
   "outputs": [],
   "source": []
  },
  {
   "cell_type": "code",
   "execution_count": null,
   "metadata": {},
   "outputs": [],
   "source": []
  },
  {
   "cell_type": "code",
   "execution_count": null,
   "metadata": {},
   "outputs": [],
   "source": []
  },
  {
   "cell_type": "code",
   "execution_count": null,
   "metadata": {},
   "outputs": [],
   "source": [
    "ctr = OffsetArray{ControlVolume1D2F}(undef, eachindex(ks.pSpace.x))\n",
    "face = Array{Interface1D2F}(undef, ks.pSpace.nx + 1)\n",
    "for i in eachindex(ctr)\n",
    "    if i <= ks.pSpace.nx ÷ 2\n",
    "        ctr[i] = ControlVolume1D2F(\n",
    "            ks.pSpace.x[i],\n",
    "            ks.pSpace.dx[i],\n",
    "            Float32.(ks.ib.wL),\n",
    "            Float32.(ks.ib.primL),\n",
    "            Float32.(ks.ib.hL),\n",
    "            Float32.(ks.ib.bL),\n",
    "        )\n",
    "    else\n",
    "        ctr[i] = ControlVolume1D2F(\n",
    "            ks.pSpace.x[i],\n",
    "            ks.pSpace.dx[i],\n",
    "            Float32.(ks.ib.wR),\n",
    "            Float32.(ks.ib.primR),\n",
    "            Float32.(ks.ib.hR),\n",
    "            Float32.(ks.ib.bR),\n",
    "        )\n",
    "    end\n",
    "end\n",
    "for i = 1:ks.pSpace.nx+1\n",
    "    face[i] = Interface1D2F(ks.ib.wL, ks.ib.hL)\n",
    "end"
   ]
  },
  {
   "cell_type": "code",
   "execution_count": null,
   "metadata": {},
   "outputs": [],
   "source": []
  },
  {
   "cell_type": "code",
   "execution_count": 3,
   "metadata": {},
   "outputs": [
    {
     "data": {
      "image/svg+xml": [
       "<?xml version=\"1.0\" encoding=\"utf-8\"?>\n",
       "<svg xmlns=\"http://www.w3.org/2000/svg\" xmlns:xlink=\"http://www.w3.org/1999/xlink\" width=\"600\" height=\"400\" viewBox=\"0 0 2400 1600\">\n",
       "<defs>\n",
       "  <clipPath id=\"clip500\">\n",
       "    <rect x=\"0\" y=\"0\" width=\"2400\" height=\"1600\"/>\n",
       "  </clipPath>\n",
       "</defs>\n",
       "<path clip-path=\"url(#clip500)\" d=\"\n",
       "M0 1600 L2400 1600 L2400 0 L0 0  Z\n",
       "  \" fill=\"#ffffff\" fill-rule=\"evenodd\" fill-opacity=\"1\"/>\n",
       "<defs>\n",
       "  <clipPath id=\"clip501\">\n",
       "    <rect x=\"480\" y=\"0\" width=\"1681\" height=\"1600\"/>\n",
       "  </clipPath>\n",
       "</defs>\n",
       "<path clip-path=\"url(#clip500)\" d=\"\n",
       "M147.663 1423.18 L2352.76 1423.18 L2352.76 47.2441 L147.663 47.2441  Z\n",
       "  \" fill=\"#ffffff\" fill-rule=\"evenodd\" fill-opacity=\"1\"/>\n",
       "<defs>\n",
       "  <clipPath id=\"clip502\">\n",
       "    <rect x=\"147\" y=\"47\" width=\"2206\" height=\"1377\"/>\n",
       "  </clipPath>\n",
       "</defs>\n",
       "<polyline clip-path=\"url(#clip502)\" style=\"stroke:#000000; stroke-width:2; stroke-opacity:0.1; fill:none\" points=\"\n",
       "  340.468,1423.18 340.468,47.2441 \n",
       "  \"/>\n",
       "<polyline clip-path=\"url(#clip502)\" style=\"stroke:#000000; stroke-width:2; stroke-opacity:0.1; fill:none\" points=\"\n",
       "  643.715,1423.18 643.715,47.2441 \n",
       "  \"/>\n",
       "<polyline clip-path=\"url(#clip502)\" style=\"stroke:#000000; stroke-width:2; stroke-opacity:0.1; fill:none\" points=\"\n",
       "  946.962,1423.18 946.962,47.2441 \n",
       "  \"/>\n",
       "<polyline clip-path=\"url(#clip502)\" style=\"stroke:#000000; stroke-width:2; stroke-opacity:0.1; fill:none\" points=\"\n",
       "  1250.21,1423.18 1250.21,47.2441 \n",
       "  \"/>\n",
       "<polyline clip-path=\"url(#clip502)\" style=\"stroke:#000000; stroke-width:2; stroke-opacity:0.1; fill:none\" points=\"\n",
       "  1553.46,1423.18 1553.46,47.2441 \n",
       "  \"/>\n",
       "<polyline clip-path=\"url(#clip502)\" style=\"stroke:#000000; stroke-width:2; stroke-opacity:0.1; fill:none\" points=\"\n",
       "  1856.7,1423.18 1856.7,47.2441 \n",
       "  \"/>\n",
       "<polyline clip-path=\"url(#clip502)\" style=\"stroke:#000000; stroke-width:2; stroke-opacity:0.1; fill:none\" points=\"\n",
       "  2159.95,1423.18 2159.95,47.2441 \n",
       "  \"/>\n",
       "<polyline clip-path=\"url(#clip502)\" style=\"stroke:#000000; stroke-width:2; stroke-opacity:0.1; fill:none\" points=\"\n",
       "  147.663,1295.91 2352.76,1295.91 \n",
       "  \"/>\n",
       "<polyline clip-path=\"url(#clip502)\" style=\"stroke:#000000; stroke-width:2; stroke-opacity:0.1; fill:none\" points=\"\n",
       "  147.663,1034.15 2352.76,1034.15 \n",
       "  \"/>\n",
       "<polyline clip-path=\"url(#clip502)\" style=\"stroke:#000000; stroke-width:2; stroke-opacity:0.1; fill:none\" points=\"\n",
       "  147.663,772.394 2352.76,772.394 \n",
       "  \"/>\n",
       "<polyline clip-path=\"url(#clip502)\" style=\"stroke:#000000; stroke-width:2; stroke-opacity:0.1; fill:none\" points=\"\n",
       "  147.663,510.638 2352.76,510.638 \n",
       "  \"/>\n",
       "<polyline clip-path=\"url(#clip502)\" style=\"stroke:#000000; stroke-width:2; stroke-opacity:0.1; fill:none\" points=\"\n",
       "  147.663,248.882 2352.76,248.882 \n",
       "  \"/>\n",
       "<polyline clip-path=\"url(#clip500)\" style=\"stroke:#000000; stroke-width:4; stroke-opacity:1; fill:none\" points=\"\n",
       "  147.663,1423.18 2352.76,1423.18 \n",
       "  \"/>\n",
       "<polyline clip-path=\"url(#clip500)\" style=\"stroke:#000000; stroke-width:4; stroke-opacity:1; fill:none\" points=\"\n",
       "  147.663,1423.18 147.663,47.2441 \n",
       "  \"/>\n",
       "<polyline clip-path=\"url(#clip500)\" style=\"stroke:#000000; stroke-width:4; stroke-opacity:1; fill:none\" points=\"\n",
       "  340.468,1423.18 340.468,1406.67 \n",
       "  \"/>\n",
       "<polyline clip-path=\"url(#clip500)\" style=\"stroke:#000000; stroke-width:4; stroke-opacity:1; fill:none\" points=\"\n",
       "  643.715,1423.18 643.715,1406.67 \n",
       "  \"/>\n",
       "<polyline clip-path=\"url(#clip500)\" style=\"stroke:#000000; stroke-width:4; stroke-opacity:1; fill:none\" points=\"\n",
       "  946.962,1423.18 946.962,1406.67 \n",
       "  \"/>\n",
       "<polyline clip-path=\"url(#clip500)\" style=\"stroke:#000000; stroke-width:4; stroke-opacity:1; fill:none\" points=\"\n",
       "  1250.21,1423.18 1250.21,1406.67 \n",
       "  \"/>\n",
       "<polyline clip-path=\"url(#clip500)\" style=\"stroke:#000000; stroke-width:4; stroke-opacity:1; fill:none\" points=\"\n",
       "  1553.46,1423.18 1553.46,1406.67 \n",
       "  \"/>\n",
       "<polyline clip-path=\"url(#clip500)\" style=\"stroke:#000000; stroke-width:4; stroke-opacity:1; fill:none\" points=\"\n",
       "  1856.7,1423.18 1856.7,1406.67 \n",
       "  \"/>\n",
       "<polyline clip-path=\"url(#clip500)\" style=\"stroke:#000000; stroke-width:4; stroke-opacity:1; fill:none\" points=\"\n",
       "  2159.95,1423.18 2159.95,1406.67 \n",
       "  \"/>\n",
       "<polyline clip-path=\"url(#clip500)\" style=\"stroke:#000000; stroke-width:4; stroke-opacity:1; fill:none\" points=\"\n",
       "  147.663,1295.91 174.124,1295.91 \n",
       "  \"/>\n",
       "<polyline clip-path=\"url(#clip500)\" style=\"stroke:#000000; stroke-width:4; stroke-opacity:1; fill:none\" points=\"\n",
       "  147.663,1034.15 174.124,1034.15 \n",
       "  \"/>\n",
       "<polyline clip-path=\"url(#clip500)\" style=\"stroke:#000000; stroke-width:4; stroke-opacity:1; fill:none\" points=\"\n",
       "  147.663,772.394 174.124,772.394 \n",
       "  \"/>\n",
       "<polyline clip-path=\"url(#clip500)\" style=\"stroke:#000000; stroke-width:4; stroke-opacity:1; fill:none\" points=\"\n",
       "  147.663,510.638 174.124,510.638 \n",
       "  \"/>\n",
       "<polyline clip-path=\"url(#clip500)\" style=\"stroke:#000000; stroke-width:4; stroke-opacity:1; fill:none\" points=\"\n",
       "  147.663,248.882 174.124,248.882 \n",
       "  \"/>\n",
       "<path clip-path=\"url(#clip500)\" d=\"M 0 0 M307.54 1461.77 L320.016 1461.77 L320.016 1465.56 L307.54 1465.56 L307.54 1461.77 Z\" fill=\"#000000\" fill-rule=\"evenodd\" fill-opacity=\"1\" /><path clip-path=\"url(#clip500)\" d=\"M 0 0 M339.252 1458.02 Q342.609 1458.74 344.484 1461 Q346.382 1463.27 346.382 1466.61 Q346.382 1471.72 342.864 1474.52 Q339.345 1477.32 332.864 1477.32 Q330.688 1477.32 328.373 1476.88 Q326.081 1476.47 323.628 1475.61 L323.628 1471.1 Q325.572 1472.23 327.887 1472.81 Q330.202 1473.39 332.725 1473.39 Q337.123 1473.39 339.414 1471.65 Q341.729 1469.92 341.729 1466.61 Q341.729 1463.55 339.577 1461.84 Q337.447 1460.1 333.627 1460.1 L329.6 1460.1 L329.6 1456.26 L333.813 1456.26 Q337.262 1456.26 339.09 1454.89 Q340.919 1453.5 340.919 1450.91 Q340.919 1448.25 339.021 1446.84 Q337.146 1445.4 333.627 1445.4 Q331.706 1445.4 329.507 1445.82 Q327.308 1446.24 324.669 1447.11 L324.669 1442.95 Q327.331 1442.21 329.646 1441.84 Q331.984 1441.47 334.044 1441.47 Q339.368 1441.47 342.47 1443.9 Q345.572 1446.3 345.572 1450.43 Q345.572 1453.3 343.928 1455.29 Q342.285 1457.25 339.252 1458.02 Z\" fill=\"#000000\" fill-rule=\"evenodd\" fill-opacity=\"1\" /><path clip-path=\"url(#clip500)\" d=\"M 0 0 M361.451 1445.17 Q357.84 1445.17 356.012 1448.74 Q354.206 1452.28 354.206 1459.41 Q354.206 1466.51 356.012 1470.08 Q357.84 1473.62 361.451 1473.62 Q365.086 1473.62 366.891 1470.08 Q368.72 1466.51 368.72 1459.41 Q368.72 1452.28 366.891 1448.74 Q365.086 1445.17 361.451 1445.17 M361.451 1441.47 Q367.262 1441.47 370.317 1446.07 Q373.396 1450.66 373.396 1459.41 Q373.396 1468.13 370.317 1472.74 Q367.262 1477.32 361.451 1477.32 Q355.641 1477.32 352.563 1472.74 Q349.507 1468.13 349.507 1459.41 Q349.507 1450.66 352.563 1446.07 Q355.641 1441.47 361.451 1441.47 Z\" fill=\"#000000\" fill-rule=\"evenodd\" fill-opacity=\"1\" /><path clip-path=\"url(#clip500)\" d=\"M 0 0 M611.261 1461.77 L623.738 1461.77 L623.738 1465.56 L611.261 1465.56 L611.261 1461.77 Z\" fill=\"#000000\" fill-rule=\"evenodd\" fill-opacity=\"1\" /><path clip-path=\"url(#clip500)\" d=\"M 0 0 M632.835 1472.72 L649.155 1472.72 L649.155 1476.65 L627.21 1476.65 L627.21 1472.72 Q629.872 1469.96 634.456 1465.33 Q639.062 1460.68 640.243 1459.34 Q642.488 1456.81 643.368 1455.08 Q644.271 1453.32 644.271 1451.63 Q644.271 1448.87 642.326 1447.14 Q640.405 1445.4 637.303 1445.4 Q635.104 1445.4 632.65 1446.17 Q630.22 1446.93 627.442 1448.48 L627.442 1443.76 Q630.266 1442.62 632.72 1442.05 Q635.173 1441.47 637.21 1441.47 Q642.581 1441.47 645.775 1444.15 Q648.97 1446.84 648.97 1451.33 Q648.97 1453.46 648.159 1455.38 Q647.372 1457.28 645.266 1459.87 Q644.687 1460.54 641.585 1463.76 Q638.484 1466.95 632.835 1472.72 Z\" fill=\"#000000\" fill-rule=\"evenodd\" fill-opacity=\"1\" /><path clip-path=\"url(#clip500)\" d=\"M 0 0 M664.224 1445.17 Q660.613 1445.17 658.784 1448.74 Q656.979 1452.28 656.979 1459.41 Q656.979 1466.51 658.784 1470.08 Q660.613 1473.62 664.224 1473.62 Q667.858 1473.62 669.664 1470.08 Q671.493 1466.51 671.493 1459.41 Q671.493 1452.28 669.664 1448.74 Q667.858 1445.17 664.224 1445.17 M664.224 1441.47 Q670.034 1441.47 673.09 1446.07 Q676.169 1450.66 676.169 1459.41 Q676.169 1468.13 673.09 1472.74 Q670.034 1477.32 664.224 1477.32 Q658.414 1477.32 655.335 1472.74 Q652.28 1468.13 652.28 1459.41 Q652.28 1450.66 655.335 1446.07 Q658.414 1441.47 664.224 1441.47 Z\" fill=\"#000000\" fill-rule=\"evenodd\" fill-opacity=\"1\" /><path clip-path=\"url(#clip500)\" d=\"M 0 0 M914.324 1461.77 L926.8 1461.77 L926.8 1465.56 L914.324 1465.56 L914.324 1461.77 Z\" fill=\"#000000\" fill-rule=\"evenodd\" fill-opacity=\"1\" /><path clip-path=\"url(#clip500)\" d=\"M 0 0 M932.68 1472.72 L940.319 1472.72 L940.319 1446.35 L932.009 1448.02 L932.009 1443.76 L940.272 1442.09 L944.948 1442.09 L944.948 1472.72 L952.587 1472.72 L952.587 1476.65 L932.68 1476.65 L932.68 1472.72 Z\" fill=\"#000000\" fill-rule=\"evenodd\" fill-opacity=\"1\" /><path clip-path=\"url(#clip500)\" d=\"M 0 0 M967.657 1445.17 Q964.045 1445.17 962.217 1448.74 Q960.411 1452.28 960.411 1459.41 Q960.411 1466.51 962.217 1470.08 Q964.045 1473.62 967.657 1473.62 Q971.291 1473.62 973.096 1470.08 Q974.925 1466.51 974.925 1459.41 Q974.925 1452.28 973.096 1448.74 Q971.291 1445.17 967.657 1445.17 M967.657 1441.47 Q973.467 1441.47 976.522 1446.07 Q979.601 1450.66 979.601 1459.41 Q979.601 1468.13 976.522 1472.74 Q973.467 1477.32 967.657 1477.32 Q961.846 1477.32 958.768 1472.74 Q955.712 1468.13 955.712 1459.41 Q955.712 1450.66 958.768 1446.07 Q961.846 1441.47 967.657 1441.47 Z\" fill=\"#000000\" fill-rule=\"evenodd\" fill-opacity=\"1\" /><path clip-path=\"url(#clip500)\" d=\"M 0 0 M1250.21 1445.17 Q1246.6 1445.17 1244.77 1448.74 Q1242.96 1452.28 1242.96 1459.41 Q1242.96 1466.51 1244.77 1470.08 Q1246.6 1473.62 1250.21 1473.62 Q1253.84 1473.62 1255.65 1470.08 Q1257.48 1466.51 1257.48 1459.41 Q1257.48 1452.28 1255.65 1448.74 Q1253.84 1445.17 1250.21 1445.17 M1250.21 1441.47 Q1256.02 1441.47 1259.08 1446.07 Q1262.15 1450.66 1262.15 1459.41 Q1262.15 1468.13 1259.08 1472.74 Q1256.02 1477.32 1250.21 1477.32 Q1244.4 1477.32 1241.32 1472.74 Q1238.27 1468.13 1238.27 1459.41 Q1238.27 1450.66 1241.32 1446.07 Q1244.4 1441.47 1250.21 1441.47 Z\" fill=\"#000000\" fill-rule=\"evenodd\" fill-opacity=\"1\" /><path clip-path=\"url(#clip500)\" d=\"M 0 0 M1530.33 1472.72 L1537.97 1472.72 L1537.97 1446.35 L1529.66 1448.02 L1529.66 1443.76 L1537.92 1442.09 L1542.6 1442.09 L1542.6 1472.72 L1550.24 1472.72 L1550.24 1476.65 L1530.33 1476.65 L1530.33 1472.72 Z\" fill=\"#000000\" fill-rule=\"evenodd\" fill-opacity=\"1\" /><path clip-path=\"url(#clip500)\" d=\"M 0 0 M1565.31 1445.17 Q1561.7 1445.17 1559.87 1448.74 Q1558.06 1452.28 1558.06 1459.41 Q1558.06 1466.51 1559.87 1470.08 Q1561.7 1473.62 1565.31 1473.62 Q1568.94 1473.62 1570.75 1470.08 Q1572.58 1466.51 1572.58 1459.41 Q1572.58 1452.28 1570.75 1448.74 Q1568.94 1445.17 1565.31 1445.17 M1565.31 1441.47 Q1571.12 1441.47 1574.17 1446.07 Q1577.25 1450.66 1577.25 1459.41 Q1577.25 1468.13 1574.17 1472.74 Q1571.12 1477.32 1565.31 1477.32 Q1559.5 1477.32 1556.42 1472.74 Q1553.36 1468.13 1553.36 1459.41 Q1553.36 1450.66 1556.42 1446.07 Q1559.5 1441.47 1565.31 1441.47 Z\" fill=\"#000000\" fill-rule=\"evenodd\" fill-opacity=\"1\" /><path clip-path=\"url(#clip500)\" d=\"M 0 0 M1837.85 1472.72 L1854.17 1472.72 L1854.17 1476.65 L1832.22 1476.65 L1832.22 1472.72 Q1834.89 1469.96 1839.47 1465.33 Q1844.08 1460.68 1845.26 1459.34 Q1847.5 1456.81 1848.38 1455.08 Q1849.29 1453.32 1849.29 1451.63 Q1849.29 1448.87 1847.34 1447.14 Q1845.42 1445.4 1842.32 1445.4 Q1840.12 1445.4 1837.66 1446.17 Q1835.23 1446.93 1832.46 1448.48 L1832.46 1443.76 Q1835.28 1442.62 1837.73 1442.05 Q1840.19 1441.47 1842.22 1441.47 Q1847.6 1441.47 1850.79 1444.15 Q1853.98 1446.84 1853.98 1451.33 Q1853.98 1453.46 1853.17 1455.38 Q1852.39 1457.28 1850.28 1459.87 Q1849.7 1460.54 1846.6 1463.76 Q1843.5 1466.95 1837.85 1472.72 Z\" fill=\"#000000\" fill-rule=\"evenodd\" fill-opacity=\"1\" /><path clip-path=\"url(#clip500)\" d=\"M 0 0 M1869.24 1445.17 Q1865.63 1445.17 1863.8 1448.74 Q1861.99 1452.28 1861.99 1459.41 Q1861.99 1466.51 1863.8 1470.08 Q1865.63 1473.62 1869.24 1473.62 Q1872.87 1473.62 1874.68 1470.08 Q1876.51 1466.51 1876.51 1459.41 Q1876.51 1452.28 1874.68 1448.74 Q1872.87 1445.17 1869.24 1445.17 M1869.24 1441.47 Q1875.05 1441.47 1878.1 1446.07 Q1881.18 1450.66 1881.18 1459.41 Q1881.18 1468.13 1878.1 1472.74 Q1875.05 1477.32 1869.24 1477.32 Q1863.43 1477.32 1860.35 1472.74 Q1857.29 1468.13 1857.29 1459.41 Q1857.29 1450.66 1860.35 1446.07 Q1863.43 1441.47 1869.24 1441.47 Z\" fill=\"#000000\" fill-rule=\"evenodd\" fill-opacity=\"1\" /><path clip-path=\"url(#clip500)\" d=\"M 0 0 M2150.69 1458.02 Q2154.05 1458.74 2155.92 1461 Q2157.82 1463.27 2157.82 1466.61 Q2157.82 1471.72 2154.3 1474.52 Q2150.78 1477.32 2144.3 1477.32 Q2142.13 1477.32 2139.81 1476.88 Q2137.52 1476.47 2135.07 1475.61 L2135.07 1471.1 Q2137.01 1472.23 2139.33 1472.81 Q2141.64 1473.39 2144.16 1473.39 Q2148.56 1473.39 2150.85 1471.65 Q2153.17 1469.92 2153.17 1466.61 Q2153.17 1463.55 2151.02 1461.84 Q2148.89 1460.1 2145.07 1460.1 L2141.04 1460.1 L2141.04 1456.26 L2145.25 1456.26 Q2148.7 1456.26 2150.53 1454.89 Q2152.36 1453.5 2152.36 1450.91 Q2152.36 1448.25 2150.46 1446.84 Q2148.59 1445.4 2145.07 1445.4 Q2143.15 1445.4 2140.95 1445.82 Q2138.75 1446.24 2136.11 1447.11 L2136.11 1442.95 Q2138.77 1442.21 2141.09 1441.84 Q2143.42 1441.47 2145.48 1441.47 Q2150.81 1441.47 2153.91 1443.9 Q2157.01 1446.3 2157.01 1450.43 Q2157.01 1453.3 2155.37 1455.29 Q2153.72 1457.25 2150.69 1458.02 Z\" fill=\"#000000\" fill-rule=\"evenodd\" fill-opacity=\"1\" /><path clip-path=\"url(#clip500)\" d=\"M 0 0 M2172.89 1445.17 Q2169.28 1445.17 2167.45 1448.74 Q2165.65 1452.28 2165.65 1459.41 Q2165.65 1466.51 2167.45 1470.08 Q2169.28 1473.62 2172.89 1473.62 Q2176.53 1473.62 2178.33 1470.08 Q2180.16 1466.51 2180.16 1459.41 Q2180.16 1452.28 2178.33 1448.74 Q2176.53 1445.17 2172.89 1445.17 M2172.89 1441.47 Q2178.7 1441.47 2181.76 1446.07 Q2184.84 1450.66 2184.84 1459.41 Q2184.84 1468.13 2181.76 1472.74 Q2178.7 1477.32 2172.89 1477.32 Q2167.08 1477.32 2164 1472.74 Q2160.95 1468.13 2160.95 1459.41 Q2160.95 1450.66 2164 1446.07 Q2167.08 1441.47 2172.89 1441.47 Z\" fill=\"#000000\" fill-rule=\"evenodd\" fill-opacity=\"1\" /><path clip-path=\"url(#clip500)\" d=\"M 0 0 M74.9365 1281.7 Q71.3254 1281.7 69.4967 1285.27 Q67.6912 1288.81 67.6912 1295.94 Q67.6912 1303.05 69.4967 1306.61 Q71.3254 1310.15 74.9365 1310.15 Q78.5707 1310.15 80.3763 1306.61 Q82.205 1303.05 82.205 1295.94 Q82.205 1288.81 80.3763 1285.27 Q78.5707 1281.7 74.9365 1281.7 M74.9365 1278 Q80.7467 1278 83.8022 1282.61 Q86.8809 1287.19 86.8809 1295.94 Q86.8809 1304.67 83.8022 1309.27 Q80.7467 1313.86 74.9365 1313.86 Q69.1264 1313.86 66.0477 1309.27 Q62.9921 1304.67 62.9921 1295.94 Q62.9921 1287.19 66.0477 1282.61 Q69.1264 1278 74.9365 1278 Z\" fill=\"#000000\" fill-rule=\"evenodd\" fill-opacity=\"1\" /><path clip-path=\"url(#clip500)\" d=\"M 0 0 M91.9503 1307.31 L96.8345 1307.31 L96.8345 1313.19 L91.9503 1313.19 L91.9503 1307.31 Z\" fill=\"#000000\" fill-rule=\"evenodd\" fill-opacity=\"1\" /><path clip-path=\"url(#clip500)\" d=\"M 0 0 M102.043 1312.47 L102.043 1308.21 Q103.802 1309.04 105.608 1309.48 Q107.413 1309.92 109.149 1309.92 Q113.779 1309.92 116.209 1306.82 Q118.663 1303.7 119.01 1297.35 Q117.668 1299.34 115.608 1300.41 Q113.547 1301.47 111.047 1301.47 Q105.862 1301.47 102.83 1298.35 Q99.8206 1295.2 99.8206 1289.76 Q99.8206 1284.44 102.969 1281.22 Q106.117 1278 111.348 1278 Q117.344 1278 120.492 1282.61 Q123.663 1287.19 123.663 1295.94 Q123.663 1304.11 119.774 1309 Q115.909 1313.86 109.358 1313.86 Q107.598 1313.86 105.793 1313.51 Q103.987 1313.16 102.043 1312.47 M111.348 1297.82 Q114.496 1297.82 116.325 1295.66 Q118.177 1293.51 118.177 1289.76 Q118.177 1286.03 116.325 1283.88 Q114.496 1281.7 111.348 1281.7 Q108.2 1281.7 106.348 1283.88 Q104.52 1286.03 104.52 1289.76 Q104.52 1293.51 106.348 1295.66 Q108.2 1297.82 111.348 1297.82 Z\" fill=\"#000000\" fill-rule=\"evenodd\" fill-opacity=\"1\" /><path clip-path=\"url(#clip500)\" d=\"M 0 0 M68.3856 1047.5 L76.0245 1047.5 L76.0245 1021.13 L67.7143 1022.8 L67.7143 1018.54 L75.9782 1016.87 L80.6541 1016.87 L80.6541 1047.5 L88.2929 1047.5 L88.2929 1051.43 L68.3856 1051.43 L68.3856 1047.5 Z\" fill=\"#000000\" fill-rule=\"evenodd\" fill-opacity=\"1\" /><path clip-path=\"url(#clip500)\" d=\"M 0 0 M93.3623 1045.55 L98.2466 1045.55 L98.2466 1051.43 L93.3623 1051.43 L93.3623 1045.55 Z\" fill=\"#000000\" fill-rule=\"evenodd\" fill-opacity=\"1\" /><path clip-path=\"url(#clip500)\" d=\"M 0 0 M107.344 1047.5 L123.663 1047.5 L123.663 1051.43 L101.719 1051.43 L101.719 1047.5 Q104.381 1044.74 108.964 1040.11 Q113.571 1035.46 114.751 1034.12 Q116.996 1031.59 117.876 1029.86 Q118.779 1028.1 118.779 1026.41 Q118.779 1023.65 116.834 1021.92 Q114.913 1020.18 111.811 1020.18 Q109.612 1020.18 107.159 1020.94 Q104.728 1021.71 101.95 1023.26 L101.95 1018.54 Q104.774 1017.4 107.228 1016.82 Q109.682 1016.25 111.719 1016.25 Q117.089 1016.25 120.283 1018.93 Q123.478 1021.62 123.478 1026.11 Q123.478 1028.24 122.668 1030.16 Q121.881 1032.06 119.774 1034.65 Q119.196 1035.32 116.094 1038.54 Q112.992 1041.73 107.344 1047.5 Z\" fill=\"#000000\" fill-rule=\"evenodd\" fill-opacity=\"1\" /><path clip-path=\"url(#clip500)\" d=\"M 0 0 M67.7838 785.739 L75.4226 785.739 L75.4226 759.374 L67.1125 761.04 L67.1125 756.781 L75.3763 755.114 L80.0522 755.114 L80.0522 785.739 L87.6911 785.739 L87.6911 789.674 L67.7838 789.674 L67.7838 785.739 Z\" fill=\"#000000\" fill-rule=\"evenodd\" fill-opacity=\"1\" /><path clip-path=\"url(#clip500)\" d=\"M 0 0 M92.7605 783.795 L97.6447 783.795 L97.6447 789.674 L92.7605 789.674 L92.7605 783.795 Z\" fill=\"#000000\" fill-rule=\"evenodd\" fill-opacity=\"1\" /><path clip-path=\"url(#clip500)\" d=\"M 0 0 M102.76 755.114 L121.117 755.114 L121.117 759.05 L107.043 759.05 L107.043 767.522 Q108.061 767.174 109.08 767.012 Q110.098 766.827 111.117 766.827 Q116.904 766.827 120.283 769.999 Q123.663 773.17 123.663 778.586 Q123.663 784.165 120.191 787.267 Q116.719 790.346 110.399 790.346 Q108.223 790.346 105.955 789.975 Q103.71 789.605 101.302 788.864 L101.302 784.165 Q103.385 785.299 105.608 785.855 Q107.83 786.41 110.307 786.41 Q114.311 786.41 116.649 784.304 Q118.987 782.198 118.987 778.586 Q118.987 774.975 116.649 772.869 Q114.311 770.762 110.307 770.762 Q108.432 770.762 106.557 771.179 Q104.705 771.596 102.76 772.475 L102.76 755.114 Z\" fill=\"#000000\" fill-rule=\"evenodd\" fill-opacity=\"1\" /><path clip-path=\"url(#clip500)\" d=\"M 0 0 M66.881 523.983 L74.5198 523.983 L74.5198 497.618 L66.2097 499.284 L66.2097 495.025 L74.4735 493.358 L79.1494 493.358 L79.1494 523.983 L86.7883 523.983 L86.7883 527.918 L66.881 527.918 L66.881 523.983 Z\" fill=\"#000000\" fill-rule=\"evenodd\" fill-opacity=\"1\" /><path clip-path=\"url(#clip500)\" d=\"M 0 0 M91.8577 522.039 L96.7419 522.039 L96.7419 527.918 L91.8577 527.918 L91.8577 522.039 Z\" fill=\"#000000\" fill-rule=\"evenodd\" fill-opacity=\"1\" /><path clip-path=\"url(#clip500)\" d=\"M 0 0 M111.811 511.506 Q108.478 511.506 106.557 513.289 Q104.659 515.071 104.659 518.196 Q104.659 521.321 106.557 523.104 Q108.478 524.886 111.811 524.886 Q115.145 524.886 117.066 523.104 Q118.987 521.298 118.987 518.196 Q118.987 515.071 117.066 513.289 Q115.168 511.506 111.811 511.506 M107.135 509.516 Q104.126 508.775 102.436 506.715 Q100.77 504.655 100.77 501.692 Q100.77 497.548 103.71 495.141 Q106.672 492.733 111.811 492.733 Q116.973 492.733 119.913 495.141 Q122.853 497.548 122.853 501.692 Q122.853 504.655 121.163 506.715 Q119.496 508.775 116.51 509.516 Q119.89 510.303 121.765 512.594 Q123.663 514.886 123.663 518.196 Q123.663 523.219 120.584 525.905 Q117.529 528.59 111.811 528.59 Q106.094 528.59 103.015 525.905 Q99.9595 523.219 99.9595 518.196 Q99.9595 514.886 101.858 512.594 Q103.756 510.303 107.135 509.516 M105.422 502.132 Q105.422 504.817 107.089 506.321 Q108.779 507.826 111.811 507.826 Q114.821 507.826 116.51 506.321 Q118.223 504.817 118.223 502.132 Q118.223 499.446 116.51 497.942 Q114.821 496.437 111.811 496.437 Q108.779 496.437 107.089 497.942 Q105.422 499.446 105.422 502.132 Z\" fill=\"#000000\" fill-rule=\"evenodd\" fill-opacity=\"1\" /><path clip-path=\"url(#clip500)\" d=\"M 0 0 M71.6032 262.227 L87.9225 262.227 L87.9225 266.162 L65.9782 266.162 L65.9782 262.227 Q68.6402 259.473 73.2236 254.843 Q77.83 250.19 79.0106 248.848 Q81.2559 246.325 82.1355 244.589 Q83.0383 242.829 83.0383 241.139 Q83.0383 238.385 81.0939 236.649 Q79.1726 234.913 76.0708 234.913 Q73.8717 234.913 71.418 235.677 Q68.9875 236.44 66.2097 237.991 L66.2097 233.269 Q69.0338 232.135 71.4875 231.556 Q73.9411 230.978 75.9782 230.978 Q81.3485 230.978 84.5429 233.663 Q87.7374 236.348 87.7374 240.839 Q87.7374 242.968 86.9272 244.889 Q86.1402 246.788 84.0337 249.38 Q83.455 250.051 80.3531 253.269 Q77.2513 256.463 71.6032 262.227 Z\" fill=\"#000000\" fill-rule=\"evenodd\" fill-opacity=\"1\" /><path clip-path=\"url(#clip500)\" d=\"M 0 0 M92.992 260.283 L97.8762 260.283 L97.8762 266.162 L92.992 266.162 L92.992 260.283 Z\" fill=\"#000000\" fill-rule=\"evenodd\" fill-opacity=\"1\" /><path clip-path=\"url(#clip500)\" d=\"M 0 0 M103.756 262.227 L111.395 262.227 L111.395 235.862 L103.085 237.528 L103.085 233.269 L111.348 231.602 L116.024 231.602 L116.024 262.227 L123.663 262.227 L123.663 266.162 L103.756 266.162 L103.756 262.227 Z\" fill=\"#000000\" fill-rule=\"evenodd\" fill-opacity=\"1\" /><path clip-path=\"url(#clip500)\" d=\"M 0 0 M1232.04 1508.52 L1238.94 1508.52 L1250.75 1526.19 L1262.62 1508.52 L1269.53 1508.52 L1254.25 1531.34 L1270.55 1556.04 L1263.64 1556.04 L1250.27 1535.83 L1236.81 1556.04 L1229.87 1556.04 L1246.84 1530.68 L1232.04 1508.52 Z\" fill=\"#000000\" fill-rule=\"evenodd\" fill-opacity=\"1\" /><polyline clip-path=\"url(#clip502)\" style=\"stroke:#009af9; stroke-width:8; stroke-opacity:1; fill:none\" points=\"\n",
       "  210.071,1208.65 252.526,1208.65 294.981,1208.66 337.435,1208.66 379.89,1208.67 422.344,1208.68 464.799,1208.69 507.254,1208.69 549.708,1208.7 592.163,1208.71 \n",
       "  634.618,1208.72 677.072,1208.73 719.527,1208.73 761.981,1208.73 804.436,1208.71 846.891,1208.65 889.345,1208.5 931.8,1208.05 974.254,1206.83 1016.71,1203.51 \n",
       "  1059.16,1194.35 1101.62,1169.13 1144.07,1102.04 1186.53,946.824 1228.98,692.161 1271.44,432.538 1313.89,256.257 1356.35,163.106 1398.8,119.728 1441.26,100.611 \n",
       "  1483.71,92.3792 1526.16,88.8526 1568.62,87.367 1611.07,86.7203 1653.53,86.4255 1695.98,86.2924 1738.44,86.2354 1780.89,86.1992 1823.35,86.1857 1865.8,86.1911 \n",
       "  1908.26,86.23 1950.71,86.304 1993.17,86.4338 2035.62,86.6057 2078.07,86.8241 2120.53,87.0908 2162.98,87.3831 2205.44,87.6801 2247.89,87.8594 2290.35,86.843 \n",
       "  \n",
       "  \"/>\n",
       "<polyline clip-path=\"url(#clip502)\" style=\"stroke:#e26f46; stroke-width:8; stroke-opacity:1; fill:none\" points=\"\n",
       "  210.071,488.178 252.526,488.178 294.981,488.171 337.435,488.157 379.89,488.145 422.344,488.121 464.799,488.11 507.254,488.1 549.708,488.072 592.163,488.055 \n",
       "  634.618,488.041 677.072,488.023 719.527,488.015 761.981,488.012 804.436,488.03 846.891,488.127 889.345,488.367 931.8,489.083 974.254,491.047 1016.71,496.371 \n",
       "  1059.16,510.804 1101.62,549.115 1144.07,642.11 1186.53,820.221 1228.98,1040.68 1271.44,1210.03 1313.89,1304.5 1356.35,1349.42 1398.8,1369.31 1441.26,1377.9 \n",
       "  1483.71,1381.55 1526.16,1383.11 1568.62,1383.76 1611.07,1384.02 1653.53,1384.13 1695.98,1384.17 1738.44,1384.17 1780.89,1384.16 1823.35,1384.13 1865.8,1384.11 \n",
       "  1908.26,1384.09 1950.71,1384.07 1993.17,1384.04 2035.62,1384.02 2078.07,1384.02 2120.53,1384.02 2162.98,1384.04 2205.44,1384.07 2247.89,1384.15 2290.35,1384.24 \n",
       "  \n",
       "  \"/>\n",
       "<polyline clip-path=\"url(#clip502)\" style=\"stroke:#3da44d; stroke-width:8; stroke-opacity:1; fill:none\" points=\"\n",
       "  210.071,1208.65 252.526,1207.17 294.981,1206.73 337.435,1207.2 379.89,1206.67 422.344,1207.23 464.799,1206.34 507.254,1206.1 549.708,1206.99 592.163,1206.6 \n",
       "  634.618,1206.45 677.072,1206.94 719.527,1206.67 761.981,1206.66 804.436,1206.71 846.891,1206.27 889.345,1206.92 931.8,1206.16 974.254,1203.8 1016.71,1196.96 \n",
       "  1059.16,1179.05 1101.62,1131.8 1144.07,1020.72 1186.53,823.731 1228.98,599.687 1271.44,437.103 1313.89,347.419 1356.35,302.737 1398.8,284.151 1441.26,275.172 \n",
       "  1483.71,272.06 1526.16,269.665 1568.62,269.011 1611.07,269.188 1653.53,269.467 1695.98,268.801 1738.44,268.99 1780.89,268.788 1823.35,268.998 1865.8,268.474 \n",
       "  1908.26,268.43 1950.71,268.245 1993.17,268.345 2035.62,268.891 2078.07,268.157 2120.53,268.237 2162.98,267.234 2205.44,267.64 2247.89,267.187 2290.35,267.969 \n",
       "  \n",
       "  \"/>\n",
       "<path clip-path=\"url(#clip500)\" d=\"\n",
       "M1836.11 274.549 L2352.76 274.549 L2352.76 32.6286 L1836.11 32.6286  Z\n",
       "  \" fill=\"#ffffff\" fill-rule=\"evenodd\" fill-opacity=\"1\"/>\n",
       "<polyline clip-path=\"url(#clip500)\" style=\"stroke:#000000; stroke-width:4; stroke-opacity:1; fill:none\" points=\"\n",
       "  1836.11,274.549 2352.76,274.549 2352.76,32.6286 1836.11,32.6286 1836.11,274.549 \n",
       "  \"/>\n",
       "<polyline clip-path=\"url(#clip500)\" style=\"stroke:#009af9; stroke-width:4; stroke-opacity:1; fill:none\" points=\"\n",
       "  1860.11,93.1086 2004.11,93.1086 \n",
       "  \"/>\n",
       "<path clip-path=\"url(#clip500)\" d=\"M 0 0 M2032.79 79.6712 L2032.79 106.546 L2038.44 106.546 Q2045.59 106.546 2048.9 103.305 Q2052.23 100.065 2052.23 93.0739 Q2052.23 86.1295 2048.9 82.9119 Q2045.59 79.6712 2038.44 79.6712 L2032.79 79.6712 M2028.11 75.8286 L2037.72 75.8286 Q2047.77 75.8286 2052.47 80.0184 Q2057.16 84.1851 2057.16 93.0739 Q2057.16 102.009 2052.44 106.199 Q2047.72 110.389 2037.72 110.389 L2028.11 110.389 L2028.11 75.8286 Z\" fill=\"#000000\" fill-rule=\"evenodd\" fill-opacity=\"1\" /><path clip-path=\"url(#clip500)\" d=\"M 0 0 M2083.81 96.3609 L2083.81 98.4442 L2064.22 98.4442 Q2064.5 102.842 2066.86 105.157 Q2069.25 107.449 2073.48 107.449 Q2075.94 107.449 2078.23 106.847 Q2080.54 106.245 2082.81 105.041 L2082.81 109.069 Q2080.52 110.041 2078.11 110.551 Q2075.71 111.06 2073.23 111.06 Q2067.03 111.06 2063.39 107.449 Q2059.78 103.838 2059.78 97.6804 Q2059.78 91.3146 2063.21 87.5878 Q2066.66 83.8378 2072.49 83.8378 Q2077.72 83.8378 2080.75 87.2174 Q2083.81 90.5739 2083.81 96.3609 M2079.55 95.1109 Q2079.5 91.6156 2077.58 89.5322 Q2075.68 87.4489 2072.53 87.4489 Q2068.97 87.4489 2066.82 89.4628 Q2064.69 91.4767 2064.36 95.1341 L2079.55 95.1109 Z\" fill=\"#000000\" fill-rule=\"evenodd\" fill-opacity=\"1\" /><path clip-path=\"url(#clip500)\" d=\"M 0 0 M2109.83 94.7406 L2109.83 110.389 L2105.57 110.389 L2105.57 94.8794 Q2105.57 91.1989 2104.13 89.3702 Q2102.7 87.5415 2099.83 87.5415 Q2096.38 87.5415 2094.39 89.7406 Q2092.4 91.9396 2092.4 95.7359 L2092.4 110.389 L2088.11 110.389 L2088.11 84.4628 L2092.4 84.4628 L2092.4 88.4906 Q2093.92 86.1526 2095.98 84.9952 Q2098.07 83.8378 2100.78 83.8378 Q2105.24 83.8378 2107.53 86.6156 Q2109.83 89.3702 2109.83 94.7406 Z\" fill=\"#000000\" fill-rule=\"evenodd\" fill-opacity=\"1\" /><path clip-path=\"url(#clip500)\" d=\"M 0 0 M2130.82 85.2267 L2130.82 89.2545 Q2129.02 88.3286 2127.07 87.8656 Q2125.13 87.4026 2123.04 87.4026 Q2119.87 87.4026 2118.28 88.3748 Q2116.7 89.3471 2116.7 91.2915 Q2116.7 92.773 2117.84 93.6294 Q2118.97 94.4628 2122.4 95.2267 L2123.85 95.5507 Q2128.39 96.523 2130.29 98.3054 Q2132.21 100.065 2132.21 103.236 Q2132.21 106.847 2129.34 108.953 Q2126.49 111.06 2121.49 111.06 Q2119.41 111.06 2117.14 110.643 Q2114.9 110.25 2112.4 109.44 L2112.4 105.041 Q2114.76 106.268 2117.05 106.893 Q2119.34 107.495 2121.59 107.495 Q2124.59 107.495 2126.22 106.477 Q2127.84 105.435 2127.84 103.56 Q2127.84 101.824 2126.66 100.898 Q2125.5 99.972 2121.54 99.1155 L2120.06 98.7683 Q2116.1 97.935 2114.34 96.222 Q2112.58 94.4859 2112.58 91.4767 Q2112.58 87.8193 2115.17 85.8286 Q2117.77 83.8378 2122.53 83.8378 Q2124.9 83.8378 2126.98 84.1851 Q2129.06 84.5323 2130.82 85.2267 Z\" fill=\"#000000\" fill-rule=\"evenodd\" fill-opacity=\"1\" /><path clip-path=\"url(#clip500)\" d=\"M 0 0 M2136.68 84.4628 L2140.94 84.4628 L2140.94 110.389 L2136.68 110.389 L2136.68 84.4628 M2136.68 74.3703 L2140.94 74.3703 L2140.94 79.7638 L2136.68 79.7638 L2136.68 74.3703 Z\" fill=\"#000000\" fill-rule=\"evenodd\" fill-opacity=\"1\" /><path clip-path=\"url(#clip500)\" d=\"M 0 0 M2149.62 77.1018 L2149.62 84.4628 L2158.39 84.4628 L2158.39 87.773 L2149.62 87.773 L2149.62 101.847 Q2149.62 105.018 2150.47 105.921 Q2151.35 106.824 2154.02 106.824 L2158.39 106.824 L2158.39 110.389 L2154.02 110.389 Q2149.09 110.389 2147.21 108.56 Q2145.34 106.708 2145.34 101.847 L2145.34 87.773 L2142.21 87.773 L2142.21 84.4628 L2145.34 84.4628 L2145.34 77.1018 L2149.62 77.1018 Z\" fill=\"#000000\" fill-rule=\"evenodd\" fill-opacity=\"1\" /><path clip-path=\"url(#clip500)\" d=\"M 0 0 M2173.65 112.796 Q2171.84 117.426 2170.13 118.838 Q2168.41 120.25 2165.54 120.25 L2162.14 120.25 L2162.14 116.685 L2164.64 116.685 Q2166.4 116.685 2167.37 115.852 Q2168.34 115.018 2169.53 111.916 L2170.29 109.972 L2159.8 84.4628 L2164.32 84.4628 L2172.42 104.741 L2180.52 84.4628 L2185.03 84.4628 L2173.65 112.796 Z\" fill=\"#000000\" fill-rule=\"evenodd\" fill-opacity=\"1\" /><polyline clip-path=\"url(#clip500)\" style=\"stroke:#e26f46; stroke-width:4; stroke-opacity:1; fill:none\" points=\"\n",
       "  1860.11,153.589 2004.11,153.589 \n",
       "  \"/>\n",
       "<path clip-path=\"url(#clip500)\" d=\"M 0 0 M2041.31 170.869 L2028.11 136.309 L2033 136.309 L2043.95 165.406 L2054.92 136.309 L2059.78 136.309 L2046.61 170.869 L2041.31 170.869 Z\" fill=\"#000000\" fill-rule=\"evenodd\" fill-opacity=\"1\" /><path clip-path=\"url(#clip500)\" d=\"M 0 0 M2082.74 156.841 L2082.74 158.924 L2063.16 158.924 Q2063.44 163.322 2065.8 165.637 Q2068.18 167.929 2072.42 167.929 Q2074.87 167.929 2077.16 167.327 Q2079.48 166.725 2081.75 165.521 L2081.75 169.549 Q2079.46 170.521 2077.05 171.031 Q2074.64 171.54 2072.16 171.54 Q2065.96 171.54 2062.33 167.929 Q2058.72 164.318 2058.72 158.16 Q2058.72 151.795 2062.14 148.068 Q2065.59 144.318 2071.42 144.318 Q2076.66 144.318 2079.69 147.697 Q2082.74 151.054 2082.74 156.841 M2078.48 155.591 Q2078.44 152.096 2076.52 150.012 Q2074.62 147.929 2071.47 147.929 Q2067.91 147.929 2065.75 149.943 Q2063.62 151.957 2063.3 155.614 L2078.48 155.591 Z\" fill=\"#000000\" fill-rule=\"evenodd\" fill-opacity=\"1\" /><path clip-path=\"url(#clip500)\" d=\"M 0 0 M2087.21 134.85 L2091.47 134.85 L2091.47 170.869 L2087.21 170.869 L2087.21 134.85 Z\" fill=\"#000000\" fill-rule=\"evenodd\" fill-opacity=\"1\" /><path clip-path=\"url(#clip500)\" d=\"M 0 0 M2105.98 147.929 Q2102.56 147.929 2100.57 150.614 Q2098.58 153.276 2098.58 157.929 Q2098.58 162.582 2100.54 165.267 Q2102.53 167.929 2105.98 167.929 Q2109.39 167.929 2111.38 165.244 Q2113.37 162.558 2113.37 157.929 Q2113.37 153.322 2111.38 150.637 Q2109.39 147.929 2105.98 147.929 M2105.98 144.318 Q2111.54 144.318 2114.71 147.929 Q2117.88 151.54 2117.88 157.929 Q2117.88 164.295 2114.71 167.929 Q2111.54 171.54 2105.98 171.54 Q2100.41 171.54 2097.23 167.929 Q2094.09 164.295 2094.09 157.929 Q2094.09 151.54 2097.23 147.929 Q2100.41 144.318 2105.98 144.318 Z\" fill=\"#000000\" fill-rule=\"evenodd\" fill-opacity=\"1\" /><path clip-path=\"url(#clip500)\" d=\"M 0 0 M2141.01 145.938 L2141.01 149.92 Q2139.2 148.924 2137.37 148.438 Q2135.57 147.929 2133.72 147.929 Q2129.57 147.929 2127.28 150.568 Q2124.99 153.184 2124.99 157.929 Q2124.99 162.674 2127.28 165.313 Q2129.57 167.929 2133.72 167.929 Q2135.57 167.929 2137.37 167.443 Q2139.2 166.933 2141.01 165.938 L2141.01 169.873 Q2139.22 170.707 2137.3 171.123 Q2135.4 171.54 2133.25 171.54 Q2127.4 171.54 2123.95 167.859 Q2120.5 164.179 2120.5 157.929 Q2120.5 151.586 2123.97 147.952 Q2127.47 144.318 2133.53 144.318 Q2135.5 144.318 2137.37 144.735 Q2139.25 145.128 2141.01 145.938 Z\" fill=\"#000000\" fill-rule=\"evenodd\" fill-opacity=\"1\" /><path clip-path=\"url(#clip500)\" d=\"M 0 0 M2145.47 144.943 L2149.73 144.943 L2149.73 170.869 L2145.47 170.869 L2145.47 144.943 M2145.47 134.85 L2149.73 134.85 L2149.73 140.244 L2145.47 140.244 L2145.47 134.85 Z\" fill=\"#000000\" fill-rule=\"evenodd\" fill-opacity=\"1\" /><path clip-path=\"url(#clip500)\" d=\"M 0 0 M2158.41 137.582 L2158.41 144.943 L2167.19 144.943 L2167.19 148.253 L2158.41 148.253 L2158.41 162.327 Q2158.41 165.498 2159.27 166.401 Q2160.15 167.304 2162.81 167.304 L2167.19 167.304 L2167.19 170.869 L2162.81 170.869 Q2157.88 170.869 2156.01 169.04 Q2154.13 167.188 2154.13 162.327 L2154.13 148.253 L2151.01 148.253 L2151.01 144.943 L2154.13 144.943 L2154.13 137.582 L2158.41 137.582 Z\" fill=\"#000000\" fill-rule=\"evenodd\" fill-opacity=\"1\" /><path clip-path=\"url(#clip500)\" d=\"M 0 0 M2182.44 173.276 Q2180.64 177.906 2178.92 179.318 Q2177.21 180.73 2174.34 180.73 L2170.94 180.73 L2170.94 177.165 L2173.44 177.165 Q2175.2 177.165 2176.17 176.332 Q2177.14 175.498 2178.32 172.396 L2179.09 170.452 L2168.6 144.943 L2173.11 144.943 L2181.21 165.221 L2189.32 144.943 L2193.83 144.943 L2182.44 173.276 Z\" fill=\"#000000\" fill-rule=\"evenodd\" fill-opacity=\"1\" /><polyline clip-path=\"url(#clip500)\" style=\"stroke:#3da44d; stroke-width:4; stroke-opacity:1; fill:none\" points=\"\n",
       "  1860.11,214.069 2004.11,214.069 \n",
       "  \"/>\n",
       "<path clip-path=\"url(#clip500)\" d=\"M 0 0 M2028.11 196.789 L2057.35 196.789 L2057.35 200.724 L2045.08 200.724 L2045.08 231.349 L2040.38 231.349 L2040.38 200.724 L2028.11 200.724 L2028.11 196.789 Z\" fill=\"#000000\" fill-rule=\"evenodd\" fill-opacity=\"1\" /><path clip-path=\"url(#clip500)\" d=\"M 0 0 M2075.94 217.321 L2075.94 219.404 L2056.35 219.404 Q2056.63 223.802 2058.99 226.117 Q2061.38 228.409 2065.61 228.409 Q2068.07 228.409 2070.36 227.807 Q2072.67 227.205 2074.94 226.001 L2074.94 230.029 Q2072.65 231.001 2070.24 231.511 Q2067.84 232.02 2065.36 232.02 Q2059.16 232.02 2055.52 228.409 Q2051.91 224.798 2051.91 218.64 Q2051.91 212.275 2055.34 208.548 Q2058.79 204.798 2064.62 204.798 Q2069.85 204.798 2072.88 208.177 Q2075.94 211.534 2075.94 217.321 M2071.68 216.071 Q2071.63 212.576 2069.71 210.492 Q2067.81 208.409 2064.66 208.409 Q2061.1 208.409 2058.95 210.423 Q2056.82 212.437 2056.49 216.094 L2071.68 216.071 Z\" fill=\"#000000\" fill-rule=\"evenodd\" fill-opacity=\"1\" /><path clip-path=\"url(#clip500)\" d=\"M 0 0 M2100.59 210.4 Q2102.19 207.529 2104.41 206.164 Q2106.63 204.798 2109.64 204.798 Q2113.69 204.798 2115.89 207.645 Q2118.09 210.469 2118.09 215.701 L2118.09 231.349 L2113.81 231.349 L2113.81 215.839 Q2113.81 212.113 2112.49 210.307 Q2111.17 208.502 2108.46 208.502 Q2105.15 208.502 2103.23 210.701 Q2101.31 212.9 2101.31 216.696 L2101.31 231.349 L2097.03 231.349 L2097.03 215.839 Q2097.03 212.089 2095.71 210.307 Q2094.39 208.502 2091.63 208.502 Q2088.37 208.502 2086.45 210.724 Q2084.53 212.923 2084.53 216.696 L2084.53 231.349 L2080.24 231.349 L2080.24 205.423 L2084.53 205.423 L2084.53 209.451 Q2085.98 207.066 2088.02 205.932 Q2090.06 204.798 2092.86 204.798 Q2095.68 204.798 2097.65 206.233 Q2099.64 207.668 2100.59 210.4 Z\" fill=\"#000000\" fill-rule=\"evenodd\" fill-opacity=\"1\" /><path clip-path=\"url(#clip500)\" d=\"M 0 0 M2126.68 227.46 L2126.68 241.21 L2122.4 241.21 L2122.4 205.423 L2126.68 205.423 L2126.68 209.358 Q2128.02 207.043 2130.06 205.932 Q2132.12 204.798 2134.97 204.798 Q2139.69 204.798 2142.63 208.548 Q2145.59 212.298 2145.59 218.409 Q2145.59 224.52 2142.63 228.27 Q2139.69 232.02 2134.97 232.02 Q2132.12 232.02 2130.06 230.909 Q2128.02 229.775 2126.68 227.46 M2141.17 218.409 Q2141.17 213.71 2139.22 211.048 Q2137.3 208.363 2133.92 208.363 Q2130.54 208.363 2128.6 211.048 Q2126.68 213.71 2126.68 218.409 Q2126.68 223.108 2128.6 225.793 Q2130.54 228.455 2133.92 228.455 Q2137.3 228.455 2139.22 225.793 Q2141.17 223.108 2141.17 218.409 Z\" fill=\"#000000\" fill-rule=\"evenodd\" fill-opacity=\"1\" /><path clip-path=\"url(#clip500)\" d=\"M 0 0 M2172.23 217.321 L2172.23 219.404 L2152.65 219.404 Q2152.93 223.802 2155.29 226.117 Q2157.67 228.409 2161.91 228.409 Q2164.36 228.409 2166.65 227.807 Q2168.97 227.205 2171.24 226.001 L2171.24 230.029 Q2168.95 231.001 2166.54 231.511 Q2164.13 232.02 2161.65 232.02 Q2155.45 232.02 2151.82 228.409 Q2148.21 224.798 2148.21 218.64 Q2148.21 212.275 2151.63 208.548 Q2155.08 204.798 2160.91 204.798 Q2166.15 204.798 2169.18 208.177 Q2172.23 211.534 2172.23 217.321 M2167.97 216.071 Q2167.93 212.576 2166.01 210.492 Q2164.11 208.409 2160.96 208.409 Q2157.4 208.409 2155.24 210.423 Q2153.11 212.437 2152.79 216.094 L2167.97 216.071 Z\" fill=\"#000000\" fill-rule=\"evenodd\" fill-opacity=\"1\" /><path clip-path=\"url(#clip500)\" d=\"M 0 0 M2191.72 209.404 Q2191.01 208.988 2190.15 208.802 Q2189.32 208.594 2188.3 208.594 Q2184.69 208.594 2182.74 210.955 Q2180.82 213.293 2180.82 217.691 L2180.82 231.349 L2176.54 231.349 L2176.54 205.423 L2180.82 205.423 L2180.82 209.451 Q2182.16 207.089 2184.32 205.955 Q2186.47 204.798 2189.55 204.798 Q2189.99 204.798 2190.52 204.867 Q2191.05 204.914 2191.7 205.029 L2191.72 209.404 Z\" fill=\"#000000\" fill-rule=\"evenodd\" fill-opacity=\"1\" /><path clip-path=\"url(#clip500)\" d=\"M 0 0 M2207.97 218.316 Q2202.81 218.316 2200.82 219.497 Q2198.83 220.677 2198.83 223.525 Q2198.83 225.793 2200.31 227.136 Q2201.82 228.455 2204.39 228.455 Q2207.93 228.455 2210.06 225.955 Q2212.21 223.432 2212.21 219.265 L2212.21 218.316 L2207.97 218.316 M2216.47 216.557 L2216.47 231.349 L2212.21 231.349 L2212.21 227.413 Q2210.75 229.775 2208.58 230.909 Q2206.4 232.02 2203.25 232.02 Q2199.27 232.02 2196.91 229.798 Q2194.57 227.552 2194.57 223.802 Q2194.57 219.427 2197.49 217.205 Q2200.43 214.983 2206.24 214.983 L2212.21 214.983 L2212.21 214.566 Q2212.21 211.627 2210.27 210.029 Q2208.34 208.409 2204.85 208.409 Q2202.63 208.409 2200.52 208.941 Q2198.41 209.474 2196.47 210.539 L2196.47 206.603 Q2198.81 205.701 2201.01 205.261 Q2203.21 204.798 2205.29 204.798 Q2210.91 204.798 2213.69 207.714 Q2216.47 210.631 2216.47 216.557 Z\" fill=\"#000000\" fill-rule=\"evenodd\" fill-opacity=\"1\" /><path clip-path=\"url(#clip500)\" d=\"M 0 0 M2225.15 198.062 L2225.15 205.423 L2233.92 205.423 L2233.92 208.733 L2225.15 208.733 L2225.15 222.807 Q2225.15 225.978 2226.01 226.881 Q2226.89 227.784 2229.55 227.784 L2233.92 227.784 L2233.92 231.349 L2229.55 231.349 Q2224.62 231.349 2222.74 229.52 Q2220.87 227.668 2220.87 222.807 L2220.87 208.733 L2217.74 208.733 L2217.74 205.423 L2220.87 205.423 L2220.87 198.062 L2225.15 198.062 Z\" fill=\"#000000\" fill-rule=\"evenodd\" fill-opacity=\"1\" /><path clip-path=\"url(#clip500)\" d=\"M 0 0 M2237.95 221.117 L2237.95 205.423 L2242.21 205.423 L2242.21 220.955 Q2242.21 224.636 2243.65 226.488 Q2245.08 228.316 2247.95 228.316 Q2251.4 228.316 2253.39 226.117 Q2255.4 223.918 2255.4 220.122 L2255.4 205.423 L2259.66 205.423 L2259.66 231.349 L2255.4 231.349 L2255.4 227.367 Q2253.85 229.728 2251.79 230.886 Q2249.76 232.02 2247.05 232.02 Q2242.58 232.02 2240.27 229.242 Q2237.95 226.464 2237.95 221.117 M2248.67 204.798 L2248.67 204.798 Z\" fill=\"#000000\" fill-rule=\"evenodd\" fill-opacity=\"1\" /><path clip-path=\"url(#clip500)\" d=\"M 0 0 M2279.15 209.404 Q2278.44 208.988 2277.58 208.802 Q2276.75 208.594 2275.73 208.594 Q2272.12 208.594 2270.17 210.955 Q2268.25 213.293 2268.25 217.691 L2268.25 231.349 L2263.97 231.349 L2263.97 205.423 L2268.25 205.423 L2268.25 209.451 Q2269.59 207.089 2271.75 205.955 Q2273.9 204.798 2276.98 204.798 Q2277.42 204.798 2277.95 204.867 Q2278.48 204.914 2279.13 205.029 L2279.15 209.404 Z\" fill=\"#000000\" fill-rule=\"evenodd\" fill-opacity=\"1\" /><path clip-path=\"url(#clip500)\" d=\"M 0 0 M2304.76 217.321 L2304.76 219.404 L2285.17 219.404 Q2285.45 223.802 2287.81 226.117 Q2290.2 228.409 2294.43 228.409 Q2296.89 228.409 2299.18 227.807 Q2301.49 227.205 2303.76 226.001 L2303.76 230.029 Q2301.47 231.001 2299.06 231.511 Q2296.65 232.02 2294.18 232.02 Q2287.97 232.02 2284.34 228.409 Q2280.73 224.798 2280.73 218.64 Q2280.73 212.275 2284.15 208.548 Q2287.6 204.798 2293.44 204.798 Q2298.67 204.798 2301.7 208.177 Q2304.76 211.534 2304.76 217.321 M2300.5 216.071 Q2300.45 212.576 2298.53 210.492 Q2296.63 208.409 2293.48 208.409 Q2289.92 208.409 2287.77 210.423 Q2285.64 212.437 2285.31 216.094 L2300.5 216.071 Z\" fill=\"#000000\" fill-rule=\"evenodd\" fill-opacity=\"1\" /></svg>\n"
      ]
     },
     "metadata": {},
     "output_type": "display_data"
    }
   ],
   "source": [
    "plot_line(ks, ctr)"
   ]
  },
  {
   "cell_type": "code",
   "execution_count": null,
   "metadata": {},
   "outputs": [],
   "source": []
  }
 ],
 "metadata": {
  "kernelspec": {
   "display_name": "Julia 1.4.2",
   "language": "julia",
   "name": "julia-1.4"
  },
  "language_info": {
   "file_extension": ".jl",
   "mimetype": "application/julia",
   "name": "julia",
   "version": "1.4.2"
  }
 },
 "nbformat": 4,
 "nbformat_minor": 4
}
