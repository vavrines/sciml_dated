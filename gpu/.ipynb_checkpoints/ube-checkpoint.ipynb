{
 "cells": [
  {
   "cell_type": "code",
   "execution_count": 1,
   "metadata": {},
   "outputs": [
    {
     "name": "stderr",
     "output_type": "stream",
     "text": [
      "┌ Error: (compiled mode) evaluation error starting at /home/vavrines/.julia/packages/DistributionsAD/dKKOw/src/reversediff.jl:26\n",
      "│   mod = DistributionsAD.ReverseDiffX\n",
      "│   ex = begin\n",
      "    #= /home/vavrines/.julia/packages/DistributionsAD/dKKOw/src/reversediff.jl:26 =#\n",
      "    const RDBroadcasted{F, T} = Broadcasted{<:Any, <:Any, F, T}\n",
      "end\n",
      "│   exception = (ErrorException(\"invalid redefinition of constant RDBroadcasted\"), Union{Ptr{Nothing}, Base.InterpreterIP}[Ptr{Nothing} @0x00007f60a7f1c72f, Ptr{Nothing} @0x00007f60a7fa994c, Ptr{Nothing} @0x00007f60a7fac0f8, Ptr{Nothing} @0x00007f60a7facfe7, Base.InterpreterIP in top-level CodeInfo for DistributionsAD.ReverseDiffX at statement 15])\n",
      "└ @ Revise /home/vavrines/.julia/packages/Revise/BqeJF/src/lowered.jl:85\n"
     ]
    }
   ],
   "source": [
    "using Revise, OrdinaryDiffEq, Flux, DiffEqFlux, Optim\n",
    "using Plots, FileIO, JLD2, OffsetArrays, ProgressMeter, Kinetic"
   ]
  },
  {
   "cell_type": "code",
   "execution_count": null,
   "metadata": {},
   "outputs": [],
   "source": [
    "function device_data(x)\n",
    "    try\n",
    "        gpu(x)\n",
    "    catch\n",
    "        cpu(x)\n",
    "    end\n",
    "end"
   ]
  },
  {
   "cell_type": "code",
   "execution_count": 2,
   "metadata": {
    "scrolled": true
   },
   "outputs": [
    {
     "data": {
      "text/plain": [
       "2-element Array{Symbol,1}:\n",
       " :ks\n",
       " :ctr"
      ]
     },
     "execution_count": 2,
     "metadata": {},
     "output_type": "execute_result"
    }
   ],
   "source": [
    "@load \"sol1d.jld2\" ks ctr"
   ]
  },
  {
   "cell_type": "code",
   "execution_count": null,
   "metadata": {},
   "outputs": [],
   "source": [
    "plot_line(ks, ctr)"
   ]
  },
  {
   "cell_type": "code",
   "execution_count": 3,
   "metadata": {},
   "outputs": [],
   "source": [
    "vMeshType = \"rectangle\"\n",
    "umin = ks.vSpace.u0; umax = ks.vSpace.u1; nu = ks.vSpace.nu\n",
    "vmin = ks.vSpace.u0; vmax = ks.vSpace.u1; nv = 28\n",
    "wmin = ks.vSpace.u0; wmax = ks.vSpace.u1; nw = 28\n",
    "nm = 5; tLen = 3; nh = 12;"
   ]
  },
  {
   "cell_type": "code",
   "execution_count": 4,
   "metadata": {},
   "outputs": [],
   "source": [
    "vSpace2D = VSpace2D(vmin, vmax, nv, wmin, wmax, nw, vMeshType)\n",
    "vSpace3D = VSpace3D(umin, umax, nu, vmin, vmax, nv, wmin, wmax, nw, vMeshType)\n",
    "\n",
    "kn_bzm = hs_boltz_kn(ks.gas.μᵣ, 1.0)\n",
    "sos = sound_speed(ks.ib.primR, ks.gas.γ)\n",
    "tmax = (ks.vSpace.u1 + sos) / ks.pSpace.dx[1]\n",
    "dt = Float32(ks.set.cfl / tmax)\n",
    "tspan = (0.f0, dt)\n",
    "tran = range(tspan[1], tspan[2], length=tLen);"
   ]
  },
  {
   "cell_type": "code",
   "execution_count": 5,
   "metadata": {},
   "outputs": [],
   "source": [
    "#--- Boltzmann dataset ---#\n",
    "f_full = Array{Float32}(undef, ks.vSpace.nu, nv, nw, ks.pSpace.nx)\n",
    "for i = 1:ks.pSpace.nx\n",
    "    f_full[:, :, :, i] .= full_distribution(\n",
    "        ctr[i].h,\n",
    "        ctr[i].b,\n",
    "        ks.vSpace.u,\n",
    "        ks.vSpace.weights,\n",
    "        vSpace3D.v,\n",
    "        vSpace3D.w,\n",
    "        ctr[i].prim,\n",
    "        ks.gas.γ,\n",
    "    )\n",
    "end\n",
    "\n",
    "phi, psi, phipsi = kernel_mode(\n",
    "    nm,\n",
    "    vSpace3D.u1,\n",
    "    vSpace3D.v1,\n",
    "    vSpace3D.w1,\n",
    "    vSpace3D.du[1, 1, 1],\n",
    "    vSpace3D.dv[1, 1, 1],\n",
    "    vSpace3D.dw[1, 1, 1],\n",
    "    vSpace3D.nu,\n",
    "    vSpace3D.nv,\n",
    "    vSpace3D.nw,\n",
    "    ks.gas.αᵣ,\n",
    ")\n",
    "\n",
    "function boltzmann(f, p, t)\n",
    "    Kn, M, phi, psi, phipsi = p\n",
    "    return boltzmann_fft(f[1:end,1:end,1:end], Kn, M, phi, psi, phipsi)\n",
    "end\n",
    "\n",
    "function boltzmann!(df, f, p, t)\n",
    "    Kn, M, phi, psi, phipsi = p\n",
    "    df .= boltzmann_fft(f, Kn, M, phi, psi, phipsi)\n",
    "end\n",
    "\n",
    "#data_boltz = zeros(Float32, ks.vSpace.nu, nv, nw, ks.pSpace.nx, tLen)\n",
    "data_boltz = zeros(Float32, ks.vSpace.nu, nv, nw, ks.pSpace.nx, 2)\n",
    "for i = 1:ks.pSpace.nx\n",
    "    prob = ODEProblem(\n",
    "        boltzmann!,\n",
    "        f_full[:, :, :, i],\n",
    "        tspan,\n",
    "        [kn_bzm, nm, phi, psi, phipsi],\n",
    "    )\n",
    "\n",
    "    #data_boltz[:, :, :, i, :] = solve(prob, Tsit5(), saveat = tran) |> Array\n",
    "    data_boltz[:, :, :, i, :] = solve(prob, Euler(), dt = dt) |> Array\n",
    "end\n",
    "\n",
    "# time series\n",
    "#h_boltz = zeros(Float32, ks.vSpace.nu, ks.pSpace.nx, tLen)\n",
    "#b_boltz = zeros(Float32, ks.vSpace.nu, ks.pSpace.nx, tLen)\n",
    "#for j = 1:tLen, i = 1:ks.pSpace.nx \n",
    "\n",
    "# forward euler\n",
    "h_boltz = zeros(Float32, ks.vSpace.nu, ks.pSpace.nx, 2)\n",
    "b_boltz = zeros(Float32, ks.vSpace.nu, ks.pSpace.nx, 2)\n",
    "for j = 1:2, i = 1:ks.pSpace.nx \n",
    "    h_boltz[:, i, j], b_boltz[:, i, j] = reduce_distribution(\n",
    "        data_boltz[:, :, :, i, j],\n",
    "        vSpace3D.v,\n",
    "        vSpace3D.w,\n",
    "        vSpace2D.weights,\n",
    "    )\n",
    "end\n",
    "Y = vcat(h_boltz, b_boltz);"
   ]
  },
  {
   "cell_type": "code",
   "execution_count": 6,
   "metadata": {
    "scrolled": true
   },
   "outputs": [],
   "source": [
    "#--- BGK dataset ---#\n",
    "function bgk!(df, f, p, t)\n",
    "    H, B, tau = p\n",
    "    df[1:end÷2, :] .= (H .- f[1:end÷2, :]) ./ tau\n",
    "    df[end÷2+1:end, :] .= (B .- f[end÷2+1:end, :]) ./ tau\n",
    "end\n",
    "\n",
    "X = Array{Float32}(undef, nu * 2, ks.pSpace.nx)\n",
    "for i = 1:ks.pSpace.nx\n",
    "    X[1:nu, i] .= ctr[i].h\n",
    "    X[nu+1:end, i] .= ctr[i].b\n",
    "end\n",
    "\n",
    "H = Array{Float32}(undef, nu, ks.pSpace.nx)\n",
    "B = Array{Float32}(undef, nu, ks.pSpace.nx)\n",
    "τ = Array{Float32}(undef, 1, ks.pSpace.nx)\n",
    "for i = 1:ks.pSpace.nx\n",
    "    H[:, i] .= maxwellian(ks.vSpace.u, ctr[i].prim)\n",
    "    B[:, i] .= H[:, i] .* ks.gas.K ./ (2.0 .* ctr[i].prim[end])\n",
    "    τ[1, i] = vhs_collision_time(ctr[i].prim, ks.gas.μᵣ, ks.gas.ω)\n",
    "end\n",
    "P = [H, B, τ]\n",
    "\n",
    "prob = ODEProblem(bgk!, X, tspan, P)\n",
    "#Y1 = solve(prob, Midpoint(), saveat = tran) |> Array;\n",
    "Y1 = solve(prob, Euler(), dt=dt) |> Array;"
   ]
  },
  {
   "cell_type": "code",
   "execution_count": 7,
   "metadata": {},
   "outputs": [],
   "source": [
    "X_data = cpu(X); Y_data = cpu(Y)\n",
    "H_data = cpu(H); B_data = cpu(B); τ_data = cpu(τ);\n",
    "\n",
    "#X_data = gpu(X); Y_data = gpu(Y1)\n",
    "#H_data = gpu(H); B_data = gpu(B); τ_data = gpu(τ);\n",
    "\n",
    "#X_data = device_data(X); Y_data = device_data(Y)\n",
    "#H_data = device_data(H); B_data = device_data(B); τ_data = device_data(τ);"
   ]
  },
  {
   "cell_type": "code",
   "execution_count": 10,
   "metadata": {},
   "outputs": [
    {
     "data": {
      "text/plain": [
       "#7 (generic function with 1 method)"
      ]
     },
     "execution_count": 10,
     "metadata": {},
     "output_type": "execute_result"
    }
   ],
   "source": [
    "#--- universal differential equation ---#\n",
    "model_univ = FastChain(\n",
    "    #(x, p) -> x.^3,\n",
    "    #(x, p) -> (zeros(eltype(x), size(x))),\n",
    "    FastDense(ks.vSpace.nu * 2, ks.vSpace.nu * 2 * nh, tanh), # tanh\n",
    "    FastDense(ks.vSpace.nu * 2 * nh, ks.vSpace.nu * 2 * nh, tanh), # tanh\n",
    "    FastDense(ks.vSpace.nu * 2 * nh, ks.vSpace.nu * 2),\n",
    ")\n",
    "\n",
    "p_model = initial_params(model_univ) #|> gpu\n",
    "#p_model .= 0.\n",
    "\n",
    "function dfdt(f, p, t)\n",
    "    h = f[1:nu, :]\n",
    "    b = f[nu+1:end, :]\n",
    "\n",
    "    dh = ((H_data .- h) ./ τ_data .+ model_univ(f, p)[1:nu, :])\n",
    "    db = ((B_data .- b) ./ τ_data .+ model_univ(f, p)[nu+1:end, :])\n",
    "\n",
    "    df = vcat(dh, db)\n",
    "end\n",
    "\n",
    "#function dfdt!(df, f, p, t)\n",
    "#    h = f[1:nu, :]\n",
    "#    b = f[nu+1:end, :]\n",
    "\n",
    "#    dh = (H .- h) ./ τ .+ model_univ(f, p)[1:nu, :]\n",
    "#    db = (B .- b) ./ τ .+ model_univ(f, p)[nu+1:end, :]\n",
    "\n",
    "#    df[1:nu, :] .= dh\n",
    "#    df[nu+1:end, :] .= db\n",
    "#end\n",
    "\n",
    "prob_ube = ODEProblem(dfdt, X_data, tspan, p_model)\n",
    "\n",
    "function loss(p)\n",
    "    #sol_ube = solve(prob_ube, Midpoint(), u0=X_data, p=p, saveat=tran)\n",
    "    sol_ube = solve(prob_ube, Euler(), u0=X_data, p=p, dt=dt)\n",
    "    \n",
    "    #loss = sum(abs2, cpu(sol_ube) .- Y_data)\n",
    "    loss = sum(abs2, Array(sol_ube) .- Y_data)\n",
    "    return loss\n",
    "end\n",
    "\n",
    "cb = function (p, l)\n",
    "    #display(l)\n",
    "    return false\n",
    "end"
   ]
  },
  {
   "cell_type": "code",
   "execution_count": 9,
   "metadata": {
    "scrolled": true
   },
   "outputs": [
    {
     "name": "stderr",
     "output_type": "stream",
     "text": [
      "\u001b[32mloss: 0.00161: 100%|█████████████████████████████████████████| Time: 0:00:55\u001b[39m\n"
     ]
    },
    {
     "data": {
      "text/plain": [
       " * Status: success\n",
       "\n",
       " * Candidate solution\n",
       "    Final objective value:     1.611796e-03\n",
       "\n",
       " * Found with\n",
       "    Algorithm:     ADAM\n",
       "\n",
       " * Convergence measures\n",
       "    |x - x'|               = NaN ≰ 0.0e+00\n",
       "    |x - x'|/|x'|          = NaN ≰ 0.0e+00\n",
       "    |f(x) - f(x')|         = NaN ≰ 0.0e+00\n",
       "    |f(x) - f(x')|/|f(x')| = NaN ≰ 0.0e+00\n",
       "    |g(x)|                 = NaN ≰ 0.0e+00\n",
       "\n",
       " * Work counters\n",
       "    Seconds run:   93  (vs limit Inf)\n",
       "    Iterations:    200\n",
       "    f(x) calls:    200\n",
       "    ∇f(x) calls:   200\n"
      ]
     },
     "execution_count": 9,
     "metadata": {},
     "output_type": "execute_result"
    }
   ],
   "source": [
    "res = DiffEqFlux.sciml_train(loss, p_model, ADAM(), cb=Flux.throttle(cb, 1), maxiters=200)"
   ]
  },
  {
   "cell_type": "code",
   "execution_count": 11,
   "metadata": {},
   "outputs": [
    {
     "name": "stderr",
     "output_type": "stream",
     "text": [
      "\u001b[32mloss: 0.00157: 100%|█████████████████████████████████████████| Time: 0:01:54\u001b[39m\n"
     ]
    },
    {
     "data": {
      "text/plain": [
       " * Status: success\n",
       "\n",
       " * Candidate solution\n",
       "    Final objective value:     1.571591e-03\n",
       "\n",
       " * Found with\n",
       "    Algorithm:     ADAM\n",
       "\n",
       " * Convergence measures\n",
       "    |x - x'|               = NaN ≰ 0.0e+00\n",
       "    |x - x'|/|x'|          = NaN ≰ 0.0e+00\n",
       "    |f(x) - f(x')|         = NaN ≰ 0.0e+00\n",
       "    |f(x) - f(x')|/|f(x')| = NaN ≰ 0.0e+00\n",
       "    |g(x)|                 = NaN ≰ 0.0e+00\n",
       "\n",
       " * Work counters\n",
       "    Seconds run:   118  (vs limit Inf)\n",
       "    Iterations:    400\n",
       "    f(x) calls:    400\n",
       "    ∇f(x) calls:   400\n"
      ]
     },
     "execution_count": 11,
     "metadata": {},
     "output_type": "execute_result"
    }
   ],
   "source": [
    "res = DiffEqFlux.sciml_train(loss, res.minimizer, ADAM(), cb=Flux.throttle(cb, 1), maxiters=400)"
   ]
  },
  {
   "cell_type": "code",
   "execution_count": null,
   "metadata": {},
   "outputs": [],
   "source": [
    "res = DiffEqFlux.sciml_train(loss, res.minimizer, LBFGS(), cb=Flux.throttle(cb, 1), maxiters=200)"
   ]
  },
  {
   "cell_type": "code",
   "execution_count": null,
   "metadata": {},
   "outputs": [],
   "source": []
  },
  {
   "cell_type": "code",
   "execution_count": 35,
   "metadata": {},
   "outputs": [],
   "source": [
    "function nbe_rhs!(df, f, p, t)\n",
    "    H = p[1:nu]\n",
    "    B = p[nu+1:2*nu]\n",
    "    τ = p[2*nu+1]\n",
    "    p_nn = p[2*nu+2:end]\n",
    "\n",
    "    h = f[1:nu]\n",
    "    b = f[nu+1:end]\n",
    "\n",
    "    dh = (H .- h) ./ τ .+ model_univ(f, p_nn)[1:nu]\n",
    "    db = (B .- b) ./ τ .+ model_univ(f, p_nn)[nu+1:end]\n",
    "\n",
    "    df[1:nu] .= dh\n",
    "    df[nu+1:end] .= db\n",
    "end\n",
    "\n",
    "ube = ODEProblem(\n",
    "    nbe_rhs!,\n",
    "    [ctr[1].h; ctr[1].b],\n",
    "    tspan,\n",
    "    [H[:, 1]; B[:, 1]; τ[1, 1]; cpu(res.minimizer)],\n",
    ");"
   ]
  },
  {
   "cell_type": "code",
   "execution_count": 36,
   "metadata": {},
   "outputs": [
    {
     "data": {
      "text/plain": [
       "step_nbe! (generic function with 1 method)"
      ]
     },
     "execution_count": 36,
     "metadata": {},
     "output_type": "execute_result"
    }
   ],
   "source": [
    "function step_nbe!(\n",
    "    fwL,\n",
    "    fhL,\n",
    "    fbL,\n",
    "    w,\n",
    "    prim,\n",
    "    h,\n",
    "    b,\n",
    "    fwR,\n",
    "    fhR,\n",
    "    fbR,\n",
    "    K,\n",
    "    γ,\n",
    "    μ,\n",
    "    ω,\n",
    "    u,\n",
    "    weights,\n",
    "    p,\n",
    "    dx,\n",
    "    tran,\n",
    "    RES,\n",
    "    AVG,\n",
    ")\n",
    "\n",
    "    #--- record W^{n} ---#\n",
    "    w_old = deepcopy(w)\n",
    "    H = maxwellian(u, prim)\n",
    "    B = H .* K ./ (2.0 .* prim[end])\n",
    "    τ = vhs_collision_time(prim, μ, ω)\n",
    "    \n",
    "    #qf = heat_flux(h, b, prim, u, weights)\n",
    "    #SH, SB = shakhov(u, H, B, qf, prim, ks.gas.Pr, K)\n",
    "    \n",
    "    #--- update W^{n+1} ---#\n",
    "    @. w += (fwL - fwR) / dx\n",
    "    prim .= conserve_prim(w, γ)\n",
    "\n",
    "    #--- record residuals ---#\n",
    "    @. RES += (w - w_old)^2\n",
    "    @. AVG += abs(w)\n",
    "\n",
    "    #--- update f^{n+1} ---#\n",
    "    sol = solve(ube, Euler(), u0=[h; b], p=[H; B; τ; p], dt=dt)\n",
    "    #sol = solve(ube, Midpoint(), u0=[h; b], p=[H; B; τ; p], saveat=tran)\n",
    "    #sol = solve(ube, Midpoint(), u0=[h; b], p=[SH; SB; τ; p], saveat=tran)\n",
    "    \n",
    "    hstar = sol.u[end][1:length(h)]\n",
    "    bstar = sol.u[end][length(h)+1:end]\n",
    "    for i in eachindex(h)\n",
    "        h[i] = hstar[i] + (fhL[i] - fhR[i]) / dx\n",
    "        b[i] = bstar[i] + (fbL[i] - fbR[i]) / dx\n",
    "    end\n",
    "\n",
    "end"
   ]
  },
  {
   "cell_type": "code",
   "execution_count": 37,
   "metadata": {},
   "outputs": [],
   "source": [
    "face = Array{Interface1D2F}(undef, ks.pSpace.nx + 1)\n",
    "for i = 1:ks.pSpace.nx+1\n",
    "    face[i] = Interface1D2F(ks.ib.wL, ks.ib.hL)\n",
    "end\n",
    "\n",
    "sumRes = zeros(Float32, axes(ks.ib.wL))\n",
    "sumAvg = zeros(Float32, axes(ks.ib.wL));\n",
    "\n",
    "p_optim = cpu(res.minimizer);"
   ]
  },
  {
   "cell_type": "code",
   "execution_count": 38,
   "metadata": {
    "scrolled": true
   },
   "outputs": [
    {
     "name": "stderr",
     "output_type": "stream",
     "text": [
      "\u001b[32mProgress: 100%|█████████████████████████████████████████| Time: 0:00:43\u001b[39m\n"
     ]
    }
   ],
   "source": [
    "# loop of neural Boltzmann equation\n",
    "@showprogress for iter = 1:20\n",
    "    Kinetic.evolve!(ks, ctr, face, dt)\n",
    "\n",
    "    for i = 2:49\n",
    "        step_nbe!(\n",
    "            face[i].fw,\n",
    "            face[i].fh,\n",
    "            face[i].fb,\n",
    "            ctr[i].w,\n",
    "            ctr[i].prim,\n",
    "            ctr[i].h,\n",
    "            ctr[i].b,\n",
    "            face[i+1].fw,\n",
    "            face[i+1].fh,\n",
    "            face[i+1].fb,\n",
    "            ks.gas.K,\n",
    "            ks.gas.γ,\n",
    "            ks.gas.μᵣ,\n",
    "            ks.gas.ω,\n",
    "            ks.vSpace.u,\n",
    "            ks.vSpace.weights,\n",
    "            p_optim,\n",
    "            ctr[i].dx,\n",
    "            tran,\n",
    "            sumRes,\n",
    "            sumAvg,\n",
    "        )\n",
    "    end\n",
    "end"
   ]
  },
  {
   "cell_type": "code",
   "execution_count": 39,
   "metadata": {},
   "outputs": [
    {
     "data": {
      "image/svg+xml": [
       "<?xml version=\"1.0\" encoding=\"utf-8\"?>\n",
       "<svg xmlns=\"http://www.w3.org/2000/svg\" xmlns:xlink=\"http://www.w3.org/1999/xlink\" width=\"600\" height=\"400\" viewBox=\"0 0 2400 1600\">\n",
       "<defs>\n",
       "  <clipPath id=\"clip460\">\n",
       "    <rect x=\"0\" y=\"0\" width=\"2400\" height=\"1600\"/>\n",
       "  </clipPath>\n",
       "</defs>\n",
       "<path clip-path=\"url(#clip460)\" d=\"\n",
       "M0 1600 L2400 1600 L2400 0 L0 0  Z\n",
       "  \" fill=\"#ffffff\" fill-rule=\"evenodd\" fill-opacity=\"1\"/>\n",
       "<defs>\n",
       "  <clipPath id=\"clip461\">\n",
       "    <rect x=\"480\" y=\"0\" width=\"1681\" height=\"1600\"/>\n",
       "  </clipPath>\n",
       "</defs>\n",
       "<path clip-path=\"url(#clip460)\" d=\"\n",
       "M147.663 1423.18 L2352.76 1423.18 L2352.76 47.2441 L147.663 47.2441  Z\n",
       "  \" fill=\"#ffffff\" fill-rule=\"evenodd\" fill-opacity=\"1\"/>\n",
       "<defs>\n",
       "  <clipPath id=\"clip462\">\n",
       "    <rect x=\"147\" y=\"47\" width=\"2206\" height=\"1377\"/>\n",
       "  </clipPath>\n",
       "</defs>\n",
       "<polyline clip-path=\"url(#clip462)\" style=\"stroke:#000000; stroke-width:2; stroke-opacity:0.1; fill:none\" points=\"\n",
       "  401.117,1423.18 401.117,47.2441 \n",
       "  \"/>\n",
       "<polyline clip-path=\"url(#clip462)\" style=\"stroke:#000000; stroke-width:2; stroke-opacity:0.1; fill:none\" points=\"\n",
       "  825.663,1423.18 825.663,47.2441 \n",
       "  \"/>\n",
       "<polyline clip-path=\"url(#clip462)\" style=\"stroke:#000000; stroke-width:2; stroke-opacity:0.1; fill:none\" points=\"\n",
       "  1250.21,1423.18 1250.21,47.2441 \n",
       "  \"/>\n",
       "<polyline clip-path=\"url(#clip462)\" style=\"stroke:#000000; stroke-width:2; stroke-opacity:0.1; fill:none\" points=\"\n",
       "  1674.76,1423.18 1674.76,47.2441 \n",
       "  \"/>\n",
       "<polyline clip-path=\"url(#clip462)\" style=\"stroke:#000000; stroke-width:2; stroke-opacity:0.1; fill:none\" points=\"\n",
       "  2099.3,1423.18 2099.3,47.2441 \n",
       "  \"/>\n",
       "<polyline clip-path=\"url(#clip462)\" style=\"stroke:#000000; stroke-width:2; stroke-opacity:0.1; fill:none\" points=\"\n",
       "  147.663,1295.84 2352.76,1295.84 \n",
       "  \"/>\n",
       "<polyline clip-path=\"url(#clip462)\" style=\"stroke:#000000; stroke-width:2; stroke-opacity:0.1; fill:none\" points=\"\n",
       "  147.663,1034.2 2352.76,1034.2 \n",
       "  \"/>\n",
       "<polyline clip-path=\"url(#clip462)\" style=\"stroke:#000000; stroke-width:2; stroke-opacity:0.1; fill:none\" points=\"\n",
       "  147.663,772.554 2352.76,772.554 \n",
       "  \"/>\n",
       "<polyline clip-path=\"url(#clip462)\" style=\"stroke:#000000; stroke-width:2; stroke-opacity:0.1; fill:none\" points=\"\n",
       "  147.663,510.911 2352.76,510.911 \n",
       "  \"/>\n",
       "<polyline clip-path=\"url(#clip462)\" style=\"stroke:#000000; stroke-width:2; stroke-opacity:0.1; fill:none\" points=\"\n",
       "  147.663,249.268 2352.76,249.268 \n",
       "  \"/>\n",
       "<polyline clip-path=\"url(#clip460)\" style=\"stroke:#000000; stroke-width:4; stroke-opacity:1; fill:none\" points=\"\n",
       "  147.663,1423.18 2352.76,1423.18 \n",
       "  \"/>\n",
       "<polyline clip-path=\"url(#clip460)\" style=\"stroke:#000000; stroke-width:4; stroke-opacity:1; fill:none\" points=\"\n",
       "  147.663,1423.18 147.663,47.2441 \n",
       "  \"/>\n",
       "<polyline clip-path=\"url(#clip460)\" style=\"stroke:#000000; stroke-width:4; stroke-opacity:1; fill:none\" points=\"\n",
       "  401.117,1423.18 401.117,1406.67 \n",
       "  \"/>\n",
       "<polyline clip-path=\"url(#clip460)\" style=\"stroke:#000000; stroke-width:4; stroke-opacity:1; fill:none\" points=\"\n",
       "  825.663,1423.18 825.663,1406.67 \n",
       "  \"/>\n",
       "<polyline clip-path=\"url(#clip460)\" style=\"stroke:#000000; stroke-width:4; stroke-opacity:1; fill:none\" points=\"\n",
       "  1250.21,1423.18 1250.21,1406.67 \n",
       "  \"/>\n",
       "<polyline clip-path=\"url(#clip460)\" style=\"stroke:#000000; stroke-width:4; stroke-opacity:1; fill:none\" points=\"\n",
       "  1674.76,1423.18 1674.76,1406.67 \n",
       "  \"/>\n",
       "<polyline clip-path=\"url(#clip460)\" style=\"stroke:#000000; stroke-width:4; stroke-opacity:1; fill:none\" points=\"\n",
       "  2099.3,1423.18 2099.3,1406.67 \n",
       "  \"/>\n",
       "<polyline clip-path=\"url(#clip460)\" style=\"stroke:#000000; stroke-width:4; stroke-opacity:1; fill:none\" points=\"\n",
       "  147.663,1295.84 174.124,1295.84 \n",
       "  \"/>\n",
       "<polyline clip-path=\"url(#clip460)\" style=\"stroke:#000000; stroke-width:4; stroke-opacity:1; fill:none\" points=\"\n",
       "  147.663,1034.2 174.124,1034.2 \n",
       "  \"/>\n",
       "<polyline clip-path=\"url(#clip460)\" style=\"stroke:#000000; stroke-width:4; stroke-opacity:1; fill:none\" points=\"\n",
       "  147.663,772.554 174.124,772.554 \n",
       "  \"/>\n",
       "<polyline clip-path=\"url(#clip460)\" style=\"stroke:#000000; stroke-width:4; stroke-opacity:1; fill:none\" points=\"\n",
       "  147.663,510.911 174.124,510.911 \n",
       "  \"/>\n",
       "<polyline clip-path=\"url(#clip460)\" style=\"stroke:#000000; stroke-width:4; stroke-opacity:1; fill:none\" points=\"\n",
       "  147.663,249.268 174.124,249.268 \n",
       "  \"/>\n",
       "<path clip-path=\"url(#clip460)\" d=\"M 0 0 M368.664 1461.77 L381.14 1461.77 L381.14 1465.56 L368.664 1465.56 L368.664 1461.77 Z\" fill=\"#000000\" fill-rule=\"evenodd\" fill-opacity=\"1\" /><path clip-path=\"url(#clip460)\" d=\"M 0 0 M390.238 1472.72 L406.557 1472.72 L406.557 1476.65 L384.613 1476.65 L384.613 1472.72 Q387.275 1469.96 391.858 1465.33 Q396.464 1460.68 397.645 1459.34 Q399.89 1456.81 400.77 1455.08 Q401.673 1453.32 401.673 1451.63 Q401.673 1448.87 399.728 1447.14 Q397.807 1445.4 394.705 1445.4 Q392.506 1445.4 390.052 1446.17 Q387.622 1446.93 384.844 1448.48 L384.844 1443.76 Q387.668 1442.62 390.122 1442.05 Q392.576 1441.47 394.613 1441.47 Q399.983 1441.47 403.177 1444.15 Q406.372 1446.84 406.372 1451.33 Q406.372 1453.46 405.562 1455.38 Q404.775 1457.28 402.668 1459.87 Q402.089 1460.54 398.988 1463.76 Q395.886 1466.95 390.238 1472.72 Z\" fill=\"#000000\" fill-rule=\"evenodd\" fill-opacity=\"1\" /><path clip-path=\"url(#clip460)\" d=\"M 0 0 M421.626 1445.17 Q418.015 1445.17 416.187 1448.74 Q414.381 1452.28 414.381 1459.41 Q414.381 1466.51 416.187 1470.08 Q418.015 1473.62 421.626 1473.62 Q425.261 1473.62 427.066 1470.08 Q428.895 1466.51 428.895 1459.41 Q428.895 1452.28 427.066 1448.74 Q425.261 1445.17 421.626 1445.17 M421.626 1441.47 Q427.436 1441.47 430.492 1446.07 Q433.571 1450.66 433.571 1459.41 Q433.571 1468.13 430.492 1472.74 Q427.436 1477.32 421.626 1477.32 Q415.816 1477.32 412.737 1472.74 Q409.682 1468.13 409.682 1459.41 Q409.682 1450.66 412.737 1446.07 Q415.816 1441.47 421.626 1441.47 Z\" fill=\"#000000\" fill-rule=\"evenodd\" fill-opacity=\"1\" /><path clip-path=\"url(#clip460)\" d=\"M 0 0 M793.025 1461.77 L805.501 1461.77 L805.501 1465.56 L793.025 1465.56 L793.025 1461.77 Z\" fill=\"#000000\" fill-rule=\"evenodd\" fill-opacity=\"1\" /><path clip-path=\"url(#clip460)\" d=\"M 0 0 M811.381 1472.72 L819.02 1472.72 L819.02 1446.35 L810.71 1448.02 L810.71 1443.76 L818.974 1442.09 L823.649 1442.09 L823.649 1472.72 L831.288 1472.72 L831.288 1476.65 L811.381 1476.65 L811.381 1472.72 Z\" fill=\"#000000\" fill-rule=\"evenodd\" fill-opacity=\"1\" /><path clip-path=\"url(#clip460)\" d=\"M 0 0 M846.358 1445.17 Q842.747 1445.17 840.918 1448.74 Q839.112 1452.28 839.112 1459.41 Q839.112 1466.51 840.918 1470.08 Q842.747 1473.62 846.358 1473.62 Q849.992 1473.62 851.797 1470.08 Q853.626 1466.51 853.626 1459.41 Q853.626 1452.28 851.797 1448.74 Q849.992 1445.17 846.358 1445.17 M846.358 1441.47 Q852.168 1441.47 855.223 1446.07 Q858.302 1450.66 858.302 1459.41 Q858.302 1468.13 855.223 1472.74 Q852.168 1477.32 846.358 1477.32 Q840.548 1477.32 837.469 1472.74 Q834.413 1468.13 834.413 1459.41 Q834.413 1450.66 837.469 1446.07 Q840.548 1441.47 846.358 1441.47 Z\" fill=\"#000000\" fill-rule=\"evenodd\" fill-opacity=\"1\" /><path clip-path=\"url(#clip460)\" d=\"M 0 0 M1250.21 1445.17 Q1246.6 1445.17 1244.77 1448.74 Q1242.96 1452.28 1242.96 1459.41 Q1242.96 1466.51 1244.77 1470.08 Q1246.6 1473.62 1250.21 1473.62 Q1253.84 1473.62 1255.65 1470.08 Q1257.48 1466.51 1257.48 1459.41 Q1257.48 1452.28 1255.65 1448.74 Q1253.84 1445.17 1250.21 1445.17 M1250.21 1441.47 Q1256.02 1441.47 1259.08 1446.07 Q1262.15 1450.66 1262.15 1459.41 Q1262.15 1468.13 1259.08 1472.74 Q1256.02 1477.32 1250.21 1477.32 Q1244.4 1477.32 1241.32 1472.74 Q1238.27 1468.13 1238.27 1459.41 Q1238.27 1450.66 1241.32 1446.07 Q1244.4 1441.47 1250.21 1441.47 Z\" fill=\"#000000\" fill-rule=\"evenodd\" fill-opacity=\"1\" /><path clip-path=\"url(#clip460)\" d=\"M 0 0 M1651.63 1472.72 L1659.27 1472.72 L1659.27 1446.35 L1650.96 1448.02 L1650.96 1443.76 L1659.22 1442.09 L1663.9 1442.09 L1663.9 1472.72 L1671.54 1472.72 L1671.54 1476.65 L1651.63 1476.65 L1651.63 1472.72 Z\" fill=\"#000000\" fill-rule=\"evenodd\" fill-opacity=\"1\" /><path clip-path=\"url(#clip460)\" d=\"M 0 0 M1686.61 1445.17 Q1683 1445.17 1681.17 1448.74 Q1679.36 1452.28 1679.36 1459.41 Q1679.36 1466.51 1681.17 1470.08 Q1683 1473.62 1686.61 1473.62 Q1690.24 1473.62 1692.05 1470.08 Q1693.88 1466.51 1693.88 1459.41 Q1693.88 1452.28 1692.05 1448.74 Q1690.24 1445.17 1686.61 1445.17 M1686.61 1441.47 Q1692.42 1441.47 1695.47 1446.07 Q1698.55 1450.66 1698.55 1459.41 Q1698.55 1468.13 1695.47 1472.74 Q1692.42 1477.32 1686.61 1477.32 Q1680.8 1477.32 1677.72 1472.74 Q1674.66 1468.13 1674.66 1459.41 Q1674.66 1450.66 1677.72 1446.07 Q1680.8 1441.47 1686.61 1441.47 Z\" fill=\"#000000\" fill-rule=\"evenodd\" fill-opacity=\"1\" /><path clip-path=\"url(#clip460)\" d=\"M 0 0 M2080.45 1472.72 L2096.77 1472.72 L2096.77 1476.65 L2074.82 1476.65 L2074.82 1472.72 Q2077.48 1469.96 2082.07 1465.33 Q2086.67 1460.68 2087.86 1459.34 Q2090.1 1456.81 2090.98 1455.08 Q2091.88 1453.32 2091.88 1451.63 Q2091.88 1448.87 2089.94 1447.14 Q2088.02 1445.4 2084.92 1445.4 Q2082.72 1445.4 2080.26 1446.17 Q2077.83 1446.93 2075.05 1448.48 L2075.05 1443.76 Q2077.88 1442.62 2080.33 1442.05 Q2082.79 1441.47 2084.82 1441.47 Q2090.19 1441.47 2093.39 1444.15 Q2096.58 1446.84 2096.58 1451.33 Q2096.58 1453.46 2095.77 1455.38 Q2094.98 1457.28 2092.88 1459.87 Q2092.3 1460.54 2089.2 1463.76 Q2086.1 1466.95 2080.45 1472.72 Z\" fill=\"#000000\" fill-rule=\"evenodd\" fill-opacity=\"1\" /><path clip-path=\"url(#clip460)\" d=\"M 0 0 M2111.84 1445.17 Q2108.23 1445.17 2106.4 1448.74 Q2104.59 1452.28 2104.59 1459.41 Q2104.59 1466.51 2106.4 1470.08 Q2108.23 1473.62 2111.84 1473.62 Q2115.47 1473.62 2117.28 1470.08 Q2119.1 1466.51 2119.1 1459.41 Q2119.1 1452.28 2117.28 1448.74 Q2115.47 1445.17 2111.84 1445.17 M2111.84 1441.47 Q2117.65 1441.47 2120.7 1446.07 Q2123.78 1450.66 2123.78 1459.41 Q2123.78 1468.13 2120.7 1472.74 Q2117.65 1477.32 2111.84 1477.32 Q2106.03 1477.32 2102.95 1472.74 Q2099.89 1468.13 2099.89 1459.41 Q2099.89 1450.66 2102.95 1446.07 Q2106.03 1441.47 2111.84 1441.47 Z\" fill=\"#000000\" fill-rule=\"evenodd\" fill-opacity=\"1\" /><path clip-path=\"url(#clip460)\" d=\"M 0 0 M74.9365 1281.64 Q71.3254 1281.64 69.4967 1285.2 Q67.6912 1288.75 67.6912 1295.88 Q67.6912 1302.98 69.4967 1306.55 Q71.3254 1310.09 74.9365 1310.09 Q78.5707 1310.09 80.3763 1306.55 Q82.205 1302.98 82.205 1295.88 Q82.205 1288.75 80.3763 1285.2 Q78.5707 1281.64 74.9365 1281.64 M74.9365 1277.94 Q80.7467 1277.94 83.8022 1282.54 Q86.8809 1287.13 86.8809 1295.88 Q86.8809 1304.6 83.8022 1309.21 Q80.7467 1313.79 74.9365 1313.79 Q69.1264 1313.79 66.0477 1309.21 Q62.9921 1304.6 62.9921 1295.88 Q62.9921 1287.13 66.0477 1282.54 Q69.1264 1277.94 74.9365 1277.94 Z\" fill=\"#000000\" fill-rule=\"evenodd\" fill-opacity=\"1\" /><path clip-path=\"url(#clip460)\" d=\"M 0 0 M91.9503 1307.24 L96.8345 1307.24 L96.8345 1313.12 L91.9503 1313.12 L91.9503 1307.24 Z\" fill=\"#000000\" fill-rule=\"evenodd\" fill-opacity=\"1\" /><path clip-path=\"url(#clip460)\" d=\"M 0 0 M102.043 1312.4 L102.043 1308.14 Q103.802 1308.98 105.608 1309.42 Q107.413 1309.86 109.149 1309.86 Q113.779 1309.86 116.209 1306.76 Q118.663 1303.63 119.01 1297.29 Q117.668 1299.28 115.608 1300.34 Q113.547 1301.41 111.047 1301.41 Q105.862 1301.41 102.83 1298.28 Q99.8206 1295.13 99.8206 1289.69 Q99.8206 1284.37 102.969 1281.15 Q106.117 1277.94 111.348 1277.94 Q117.344 1277.94 120.492 1282.54 Q123.663 1287.13 123.663 1295.88 Q123.663 1304.05 119.774 1308.93 Q115.909 1313.79 109.358 1313.79 Q107.598 1313.79 105.793 1313.44 Q103.987 1313.1 102.043 1312.4 M111.348 1297.75 Q114.496 1297.75 116.325 1295.6 Q118.177 1293.44 118.177 1289.69 Q118.177 1285.97 116.325 1283.82 Q114.496 1281.64 111.348 1281.64 Q108.2 1281.64 106.348 1283.82 Q104.52 1285.97 104.52 1289.69 Q104.52 1293.44 106.348 1295.6 Q108.2 1297.75 111.348 1297.75 Z\" fill=\"#000000\" fill-rule=\"evenodd\" fill-opacity=\"1\" /><path clip-path=\"url(#clip460)\" d=\"M 0 0 M68.3856 1047.54 L76.0245 1047.54 L76.0245 1021.18 L67.7143 1022.84 L67.7143 1018.58 L75.9782 1016.92 L80.6541 1016.92 L80.6541 1047.54 L88.2929 1047.54 L88.2929 1051.48 L68.3856 1051.48 L68.3856 1047.54 Z\" fill=\"#000000\" fill-rule=\"evenodd\" fill-opacity=\"1\" /><path clip-path=\"url(#clip460)\" d=\"M 0 0 M93.3623 1045.6 L98.2466 1045.6 L98.2466 1051.48 L93.3623 1051.48 L93.3623 1045.6 Z\" fill=\"#000000\" fill-rule=\"evenodd\" fill-opacity=\"1\" /><path clip-path=\"url(#clip460)\" d=\"M 0 0 M107.344 1047.54 L123.663 1047.54 L123.663 1051.48 L101.719 1051.48 L101.719 1047.54 Q104.381 1044.79 108.964 1040.16 Q113.571 1035.51 114.751 1034.16 Q116.996 1031.64 117.876 1029.9 Q118.779 1028.14 118.779 1026.45 Q118.779 1023.7 116.834 1021.96 Q114.913 1020.23 111.811 1020.23 Q109.612 1020.23 107.159 1020.99 Q104.728 1021.76 101.95 1023.31 L101.95 1018.58 Q104.774 1017.45 107.228 1016.87 Q109.682 1016.29 111.719 1016.29 Q117.089 1016.29 120.283 1018.98 Q123.478 1021.66 123.478 1026.15 Q123.478 1028.28 122.668 1030.2 Q121.881 1032.1 119.774 1034.7 Q119.196 1035.37 116.094 1038.58 Q112.992 1041.78 107.344 1047.54 Z\" fill=\"#000000\" fill-rule=\"evenodd\" fill-opacity=\"1\" /><path clip-path=\"url(#clip460)\" d=\"M 0 0 M67.7838 785.899 L75.4226 785.899 L75.4226 759.533 L67.1125 761.2 L67.1125 756.941 L75.3763 755.274 L80.0522 755.274 L80.0522 785.899 L87.6911 785.899 L87.6911 789.834 L67.7838 789.834 L67.7838 785.899 Z\" fill=\"#000000\" fill-rule=\"evenodd\" fill-opacity=\"1\" /><path clip-path=\"url(#clip460)\" d=\"M 0 0 M92.7605 783.955 L97.6447 783.955 L97.6447 789.834 L92.7605 789.834 L92.7605 783.955 Z\" fill=\"#000000\" fill-rule=\"evenodd\" fill-opacity=\"1\" /><path clip-path=\"url(#clip460)\" d=\"M 0 0 M102.76 755.274 L121.117 755.274 L121.117 759.209 L107.043 759.209 L107.043 767.682 Q108.061 767.334 109.08 767.172 Q110.098 766.987 111.117 766.987 Q116.904 766.987 120.283 770.158 Q123.663 773.33 123.663 778.746 Q123.663 784.325 120.191 787.427 Q116.719 790.505 110.399 790.505 Q108.223 790.505 105.955 790.135 Q103.71 789.765 101.302 789.024 L101.302 784.325 Q103.385 785.459 105.608 786.015 Q107.83 786.57 110.307 786.57 Q114.311 786.57 116.649 784.464 Q118.987 782.357 118.987 778.746 Q118.987 775.135 116.649 773.029 Q114.311 770.922 110.307 770.922 Q108.432 770.922 106.557 771.339 Q104.705 771.756 102.76 772.635 L102.76 755.274 Z\" fill=\"#000000\" fill-rule=\"evenodd\" fill-opacity=\"1\" /><path clip-path=\"url(#clip460)\" d=\"M 0 0 M66.881 524.256 L74.5198 524.256 L74.5198 497.89 L66.2097 499.557 L66.2097 495.298 L74.4735 493.631 L79.1494 493.631 L79.1494 524.256 L86.7883 524.256 L86.7883 528.191 L66.881 528.191 L66.881 524.256 Z\" fill=\"#000000\" fill-rule=\"evenodd\" fill-opacity=\"1\" /><path clip-path=\"url(#clip460)\" d=\"M 0 0 M91.8577 522.311 L96.7419 522.311 L96.7419 528.191 L91.8577 528.191 L91.8577 522.311 Z\" fill=\"#000000\" fill-rule=\"evenodd\" fill-opacity=\"1\" /><path clip-path=\"url(#clip460)\" d=\"M 0 0 M111.811 511.779 Q108.478 511.779 106.557 513.561 Q104.659 515.344 104.659 518.469 Q104.659 521.594 106.557 523.376 Q108.478 525.159 111.811 525.159 Q115.145 525.159 117.066 523.376 Q118.987 521.571 118.987 518.469 Q118.987 515.344 117.066 513.561 Q115.168 511.779 111.811 511.779 M107.135 509.788 Q104.126 509.048 102.436 506.987 Q100.77 504.927 100.77 501.964 Q100.77 497.821 103.71 495.413 Q106.672 493.006 111.811 493.006 Q116.973 493.006 119.913 495.413 Q122.853 497.821 122.853 501.964 Q122.853 504.927 121.163 506.987 Q119.496 509.048 116.51 509.788 Q119.89 510.575 121.765 512.867 Q123.663 515.159 123.663 518.469 Q123.663 523.492 120.584 526.177 Q117.529 528.862 111.811 528.862 Q106.094 528.862 103.015 526.177 Q99.9595 523.492 99.9595 518.469 Q99.9595 515.159 101.858 512.867 Q103.756 510.575 107.135 509.788 M105.422 502.404 Q105.422 505.089 107.089 506.594 Q108.779 508.098 111.811 508.098 Q114.821 508.098 116.51 506.594 Q118.223 505.089 118.223 502.404 Q118.223 499.719 116.51 498.214 Q114.821 496.71 111.811 496.71 Q108.779 496.71 107.089 498.214 Q105.422 499.719 105.422 502.404 Z\" fill=\"#000000\" fill-rule=\"evenodd\" fill-opacity=\"1\" /><path clip-path=\"url(#clip460)\" d=\"M 0 0 M71.6032 262.612 L87.9225 262.612 L87.9225 266.548 L65.9782 266.548 L65.9782 262.612 Q68.6402 259.858 73.2236 255.228 Q77.83 250.576 79.0106 249.233 Q81.2559 246.71 82.1355 244.974 Q83.0383 243.214 83.0383 241.525 Q83.0383 238.77 81.0939 237.034 Q79.1726 235.298 76.0708 235.298 Q73.8717 235.298 71.418 236.062 Q68.9875 236.826 66.2097 238.377 L66.2097 233.654 Q69.0338 232.52 71.4875 231.941 Q73.9411 231.363 75.9782 231.363 Q81.3485 231.363 84.5429 234.048 Q87.7374 236.733 87.7374 241.224 Q87.7374 243.353 86.9272 245.275 Q86.1402 247.173 84.0337 249.765 Q83.455 250.437 80.3531 253.654 Q77.2513 256.849 71.6032 262.612 Z\" fill=\"#000000\" fill-rule=\"evenodd\" fill-opacity=\"1\" /><path clip-path=\"url(#clip460)\" d=\"M 0 0 M92.992 260.668 L97.8762 260.668 L97.8762 266.548 L92.992 266.548 L92.992 260.668 Z\" fill=\"#000000\" fill-rule=\"evenodd\" fill-opacity=\"1\" /><path clip-path=\"url(#clip460)\" d=\"M 0 0 M103.756 262.612 L111.395 262.612 L111.395 236.247 L103.085 237.914 L103.085 233.654 L111.348 231.988 L116.024 231.988 L116.024 262.612 L123.663 262.612 L123.663 266.548 L103.756 266.548 L103.756 262.612 Z\" fill=\"#000000\" fill-rule=\"evenodd\" fill-opacity=\"1\" /><path clip-path=\"url(#clip460)\" d=\"M 0 0 M1232.04 1508.52 L1238.94 1508.52 L1250.75 1526.19 L1262.62 1508.52 L1269.53 1508.52 L1254.25 1531.34 L1270.55 1556.04 L1263.64 1556.04 L1250.27 1535.83 L1236.81 1556.04 L1229.87 1556.04 L1246.84 1530.68 L1232.04 1508.52 Z\" fill=\"#000000\" fill-rule=\"evenodd\" fill-opacity=\"1\" /><polyline clip-path=\"url(#clip462)\" style=\"stroke:#009af9; stroke-width:8; stroke-opacity:1; fill:none\" points=\"\n",
       "  210.071,1208.63 252.526,1208.3 294.981,1208.38 337.435,1208.43 379.89,1208.52 422.344,1208.56 464.799,1208.61 507.254,1208.62 549.708,1208.62 592.163,1208.65 \n",
       "  634.618,1208.64 677.072,1208.61 719.527,1208.54 761.981,1208.43 804.436,1208.26 846.891,1207.95 889.345,1207.32 931.8,1205.95 974.254,1202.79 1016.71,1195.6 \n",
       "  1059.16,1179.02 1101.62,1141.25 1144.07,1059.05 1186.53,903.773 1228.98,682.134 1271.44,459.044 1313.89,292.917 1356.35,191.877 1398.8,137.435 1441.26,110.23 \n",
       "  1483.71,97.4023 1526.16,91.5685 1568.62,88.893 1611.07,87.6768 1653.53,87.0249 1695.98,86.6593 1738.44,86.4111 1780.89,86.305 1823.35,86.2036 1865.8,86.1857 \n",
       "  1908.26,86.2516 1950.71,86.3859 1993.17,86.655 2035.62,86.9236 2078.07,87.2189 2120.53,87.605 2162.98,88.0654 2205.44,88.322 2247.89,88.3176 2290.35,87.2979 \n",
       "  \n",
       "  \"/>\n",
       "<polyline clip-path=\"url(#clip462)\" style=\"stroke:#e26f46; stroke-width:8; stroke-opacity:1; fill:none\" points=\"\n",
       "  210.071,488.46 252.526,486.958 294.981,487.025 337.435,487.196 379.89,487.438 422.344,487.663 464.799,487.896 507.254,488.11 549.708,488.254 592.163,488.424 \n",
       "  634.618,488.68 677.072,489.09 719.527,489.664 761.981,490.38 804.436,491.239 846.891,492.24 889.345,493.564 931.8,495.925 974.254,501.123 1016.71,513.572 \n",
       "  1059.16,542.614 1101.62,605.024 1144.07,720.445 1186.53,886.408 1228.98,1060.36 1271.44,1195.94 1313.89,1280.6 1356.35,1327.72 1398.8,1353.29 1441.26,1367.42 \n",
       "  1483.71,1375.33 1526.16,1379.72 1568.62,1382.1 1611.07,1383.3 1653.53,1383.87 1695.98,1384.11 1738.44,1384.22 1780.89,1384.22 1823.35,1384.24 1865.8,1384.23 \n",
       "  1908.26,1384.2 1950.71,1384.15 1993.17,1384.02 2035.62,1383.91 2078.07,1383.8 2120.53,1383.68 2162.98,1383.56 2205.44,1383.59 2247.89,1383.84 2290.35,1384.13 \n",
       "  \n",
       "  \"/>\n",
       "<polyline clip-path=\"url(#clip462)\" style=\"stroke:#3da44d; stroke-width:8; stroke-opacity:1; fill:none\" points=\"\n",
       "  210.071,1208.63 252.526,1203.48 294.981,1203.62 337.435,1203.85 379.89,1204.88 422.344,1205.36 464.799,1206.08 507.254,1206.2 549.708,1205.81 592.163,1205.24 \n",
       "  634.618,1203.72 677.072,1201.31 719.527,1197.65 761.981,1193.18 804.436,1188.6 846.891,1184.56 889.345,1182.15 931.8,1182.11 974.254,1183.46 1016.71,1183.77 \n",
       "  1059.16,1173.66 1101.62,1132.47 1144.07,1026.9 1186.53,842.187 1228.98,624.241 1271.44,446.892 1313.89,340.732 1356.35,289.72 1398.8,269.327 1441.26,263.316 \n",
       "  1483.71,263.425 1526.16,265.413 1568.62,267.283 1611.07,268.773 1653.53,269.525 1695.98,269.87 1738.44,269.818 1780.89,269.792 1823.35,269.508 1865.8,269.269 \n",
       "  1908.26,269.106 1950.71,268.988 1993.17,269.189 2035.62,269.321 2078.07,269.423 2120.53,269.655 2162.98,270.115 2205.44,270.035 2247.89,269.309 2290.35,268.346 \n",
       "  \n",
       "  \"/>\n",
       "<path clip-path=\"url(#clip460)\" d=\"\n",
       "M1757.6 335.029 L2279.25 335.029 L2279.25 93.1086 L1757.6 93.1086  Z\n",
       "  \" fill=\"#ffffff\" fill-rule=\"evenodd\" fill-opacity=\"1\"/>\n",
       "<polyline clip-path=\"url(#clip460)\" style=\"stroke:#000000; stroke-width:4; stroke-opacity:1; fill:none\" points=\"\n",
       "  1757.6,335.029 2279.25,335.029 2279.25,93.1086 1757.6,93.1086 1757.6,335.029 \n",
       "  \"/>\n",
       "<polyline clip-path=\"url(#clip460)\" style=\"stroke:#009af9; stroke-width:4; stroke-opacity:1; fill:none\" points=\"\n",
       "  1782.1,153.589 1929.11,153.589 \n",
       "  \"/>\n",
       "<path clip-path=\"url(#clip460)\" d=\"M 0 0 M1958.28 140.151 L1958.28 167.026 L1963.93 167.026 Q1971.09 167.026 1974.4 163.785 Q1977.73 160.545 1977.73 153.554 Q1977.73 146.609 1974.4 143.392 Q1971.09 140.151 1963.93 140.151 L1958.28 140.151 M1953.61 136.309 L1963.22 136.309 Q1973.26 136.309 1977.96 140.498 Q1982.66 144.665 1982.66 153.554 Q1982.66 162.489 1977.94 166.679 Q1973.22 170.869 1963.22 170.869 L1953.61 170.869 L1953.61 136.309 Z\" fill=\"#000000\" fill-rule=\"evenodd\" fill-opacity=\"1\" /><path clip-path=\"url(#clip460)\" d=\"M 0 0 M2009.3 156.841 L2009.3 158.924 L1989.72 158.924 Q1990 163.322 1992.36 165.637 Q1994.74 167.929 1998.98 167.929 Q2001.43 167.929 2003.72 167.327 Q2006.04 166.725 2008.31 165.521 L2008.31 169.549 Q2006.02 170.521 2003.61 171.031 Q2001.2 171.54 1998.72 171.54 Q1992.52 171.54 1988.89 167.929 Q1985.28 164.318 1985.28 158.16 Q1985.28 151.795 1988.7 148.068 Q1992.15 144.318 1997.98 144.318 Q2003.21 144.318 2006.25 147.697 Q2009.3 151.054 2009.3 156.841 M2005.04 155.591 Q2005 152.096 2003.08 150.012 Q2001.18 147.929 1998.03 147.929 Q1994.46 147.929 1992.31 149.943 Q1990.18 151.957 1989.86 155.614 L2005.04 155.591 Z\" fill=\"#000000\" fill-rule=\"evenodd\" fill-opacity=\"1\" /><path clip-path=\"url(#clip460)\" d=\"M 0 0 M2035.32 155.221 L2035.32 170.869 L2031.06 170.869 L2031.06 155.359 Q2031.06 151.679 2029.63 149.85 Q2028.19 148.022 2025.32 148.022 Q2021.87 148.022 2019.88 150.221 Q2017.89 152.42 2017.89 156.216 L2017.89 170.869 L2013.61 170.869 L2013.61 144.943 L2017.89 144.943 L2017.89 148.971 Q2019.42 146.633 2021.48 145.475 Q2023.56 144.318 2026.27 144.318 Q2030.74 144.318 2033.03 147.096 Q2035.32 149.85 2035.32 155.221 Z\" fill=\"#000000\" fill-rule=\"evenodd\" fill-opacity=\"1\" /><path clip-path=\"url(#clip460)\" d=\"M 0 0 M2056.32 145.707 L2056.32 149.734 Q2054.51 148.809 2052.57 148.346 Q2050.62 147.883 2048.54 147.883 Q2045.37 147.883 2043.77 148.855 Q2042.2 149.827 2042.2 151.771 Q2042.2 153.253 2043.33 154.109 Q2044.46 154.943 2047.89 155.707 L2049.35 156.031 Q2053.89 157.003 2055.78 158.785 Q2057.71 160.545 2057.71 163.716 Q2057.71 167.327 2054.84 169.433 Q2051.99 171.54 2046.99 171.54 Q2044.9 171.54 2042.64 171.123 Q2040.39 170.73 2037.89 169.92 L2037.89 165.521 Q2040.25 166.748 2042.54 167.373 Q2044.84 167.975 2047.08 167.975 Q2050.09 167.975 2051.71 166.957 Q2053.33 165.915 2053.33 164.04 Q2053.33 162.304 2052.15 161.378 Q2050.99 160.452 2047.03 159.596 L2045.55 159.248 Q2041.59 158.415 2039.84 156.702 Q2038.08 154.966 2038.08 151.957 Q2038.08 148.299 2040.67 146.309 Q2043.26 144.318 2048.03 144.318 Q2050.39 144.318 2052.47 144.665 Q2054.56 145.012 2056.32 145.707 Z\" fill=\"#000000\" fill-rule=\"evenodd\" fill-opacity=\"1\" /><path clip-path=\"url(#clip460)\" d=\"M 0 0 M2062.17 144.943 L2066.43 144.943 L2066.43 170.869 L2062.17 170.869 L2062.17 144.943 M2062.17 134.85 L2066.43 134.85 L2066.43 140.244 L2062.17 140.244 L2062.17 134.85 Z\" fill=\"#000000\" fill-rule=\"evenodd\" fill-opacity=\"1\" /><path clip-path=\"url(#clip460)\" d=\"M 0 0 M2075.11 137.582 L2075.11 144.943 L2083.89 144.943 L2083.89 148.253 L2075.11 148.253 L2075.11 162.327 Q2075.11 165.498 2075.97 166.401 Q2076.85 167.304 2079.51 167.304 L2083.89 167.304 L2083.89 170.869 L2079.51 170.869 Q2074.58 170.869 2072.71 169.04 Q2070.83 167.188 2070.83 162.327 L2070.83 148.253 L2067.71 148.253 L2067.71 144.943 L2070.83 144.943 L2070.83 137.582 L2075.11 137.582 Z\" fill=\"#000000\" fill-rule=\"evenodd\" fill-opacity=\"1\" /><path clip-path=\"url(#clip460)\" d=\"M 0 0 M2099.14 173.276 Q2097.33 177.906 2095.62 179.318 Q2093.91 180.73 2091.04 180.73 L2087.64 180.73 L2087.64 177.165 L2090.14 177.165 Q2091.9 177.165 2092.87 176.332 Q2093.84 175.498 2095.02 172.396 L2095.78 170.452 L2085.3 144.943 L2089.81 144.943 L2097.91 165.221 L2106.02 144.943 L2110.53 144.943 L2099.14 173.276 Z\" fill=\"#000000\" fill-rule=\"evenodd\" fill-opacity=\"1\" /><polyline clip-path=\"url(#clip460)\" style=\"stroke:#e26f46; stroke-width:4; stroke-opacity:1; fill:none\" points=\"\n",
       "  1782.1,214.069 1929.11,214.069 \n",
       "  \"/>\n",
       "<path clip-path=\"url(#clip460)\" d=\"M 0 0 M1966.8 231.349 L1953.61 196.789 L1958.49 196.789 L1969.44 225.886 L1980.41 196.789 L1985.28 196.789 L1972.1 231.349 L1966.8 231.349 Z\" fill=\"#000000\" fill-rule=\"evenodd\" fill-opacity=\"1\" /><path clip-path=\"url(#clip460)\" d=\"M 0 0 M2008.24 217.321 L2008.24 219.404 L1988.65 219.404 Q1988.93 223.802 1991.29 226.117 Q1993.68 228.409 1997.91 228.409 Q2000.37 228.409 2002.66 227.807 Q2004.97 227.205 2007.24 226.001 L2007.24 230.029 Q2004.95 231.001 2002.54 231.511 Q2000.14 232.02 1997.66 232.02 Q1991.46 232.02 1987.82 228.409 Q1984.21 224.798 1984.21 218.64 Q1984.21 212.275 1987.64 208.548 Q1991.09 204.798 1996.92 204.798 Q2002.15 204.798 2005.18 208.177 Q2008.24 211.534 2008.24 217.321 M2003.98 216.071 Q2003.93 212.576 2002.01 210.492 Q2000.11 208.409 1996.96 208.409 Q1993.4 208.409 1991.25 210.423 Q1989.12 212.437 1988.79 216.094 L2003.98 216.071 Z\" fill=\"#000000\" fill-rule=\"evenodd\" fill-opacity=\"1\" /><path clip-path=\"url(#clip460)\" d=\"M 0 0 M2012.71 195.33 L2016.96 195.33 L2016.96 231.349 L2012.71 231.349 L2012.71 195.33 Z\" fill=\"#000000\" fill-rule=\"evenodd\" fill-opacity=\"1\" /><path clip-path=\"url(#clip460)\" d=\"M 0 0 M2031.48 208.409 Q2028.05 208.409 2026.06 211.094 Q2024.07 213.756 2024.07 218.409 Q2024.07 223.062 2026.04 225.747 Q2028.03 228.409 2031.48 228.409 Q2034.88 228.409 2036.87 225.724 Q2038.86 223.038 2038.86 218.409 Q2038.86 213.802 2036.87 211.117 Q2034.88 208.409 2031.48 208.409 M2031.48 204.798 Q2037.03 204.798 2040.21 208.409 Q2043.38 212.02 2043.38 218.409 Q2043.38 224.775 2040.21 228.409 Q2037.03 232.02 2031.48 232.02 Q2025.9 232.02 2022.73 228.409 Q2019.58 224.775 2019.58 218.409 Q2019.58 212.02 2022.73 208.409 Q2025.9 204.798 2031.48 204.798 Z\" fill=\"#000000\" fill-rule=\"evenodd\" fill-opacity=\"1\" /><path clip-path=\"url(#clip460)\" d=\"M 0 0 M2066.5 206.418 L2066.5 210.4 Q2064.7 209.404 2062.87 208.918 Q2061.06 208.409 2059.21 208.409 Q2055.07 208.409 2052.77 211.048 Q2050.48 213.664 2050.48 218.409 Q2050.48 223.154 2052.77 225.793 Q2055.07 228.409 2059.21 228.409 Q2061.06 228.409 2062.87 227.923 Q2064.7 227.413 2066.5 226.418 L2066.5 230.353 Q2064.72 231.187 2062.8 231.603 Q2060.9 232.02 2058.75 232.02 Q2052.89 232.02 2049.44 228.339 Q2045.99 224.659 2045.99 218.409 Q2045.99 212.066 2049.46 208.432 Q2052.96 204.798 2059.02 204.798 Q2060.99 204.798 2062.87 205.215 Q2064.74 205.608 2066.5 206.418 Z\" fill=\"#000000\" fill-rule=\"evenodd\" fill-opacity=\"1\" /><path clip-path=\"url(#clip460)\" d=\"M 0 0 M2070.97 205.423 L2075.23 205.423 L2075.23 231.349 L2070.97 231.349 L2070.97 205.423 M2070.97 195.33 L2075.23 195.33 L2075.23 200.724 L2070.97 200.724 L2070.97 195.33 Z\" fill=\"#000000\" fill-rule=\"evenodd\" fill-opacity=\"1\" /><path clip-path=\"url(#clip460)\" d=\"M 0 0 M2083.91 198.062 L2083.91 205.423 L2092.68 205.423 L2092.68 208.733 L2083.91 208.733 L2083.91 222.807 Q2083.91 225.978 2084.77 226.881 Q2085.65 227.784 2088.31 227.784 L2092.68 227.784 L2092.68 231.349 L2088.31 231.349 Q2083.38 231.349 2081.5 229.52 Q2079.63 227.668 2079.63 222.807 L2079.63 208.733 L2076.5 208.733 L2076.5 205.423 L2079.63 205.423 L2079.63 198.062 L2083.91 198.062 Z\" fill=\"#000000\" fill-rule=\"evenodd\" fill-opacity=\"1\" /><path clip-path=\"url(#clip460)\" d=\"M 0 0 M2107.94 233.756 Q2106.13 238.386 2104.42 239.798 Q2102.71 241.21 2099.83 241.21 L2096.43 241.21 L2096.43 237.645 L2098.93 237.645 Q2100.69 237.645 2101.66 236.812 Q2102.64 235.978 2103.82 232.876 L2104.58 230.932 L2094.09 205.423 L2098.61 205.423 L2106.71 225.701 L2114.81 205.423 L2119.33 205.423 L2107.94 233.756 Z\" fill=\"#000000\" fill-rule=\"evenodd\" fill-opacity=\"1\" /><polyline clip-path=\"url(#clip460)\" style=\"stroke:#3da44d; stroke-width:4; stroke-opacity:1; fill:none\" points=\"\n",
       "  1782.1,274.549 1929.11,274.549 \n",
       "  \"/>\n",
       "<path clip-path=\"url(#clip460)\" d=\"M 0 0 M1953.61 257.269 L1982.84 257.269 L1982.84 261.204 L1970.58 261.204 L1970.58 291.829 L1965.88 291.829 L1965.88 261.204 L1953.61 261.204 L1953.61 257.269 Z\" fill=\"#000000\" fill-rule=\"evenodd\" fill-opacity=\"1\" /><path clip-path=\"url(#clip460)\" d=\"M 0 0 M2001.43 277.801 L2001.43 279.884 L1981.85 279.884 Q1982.13 284.282 1984.49 286.597 Q1986.87 288.889 1991.11 288.889 Q1993.56 288.889 1995.85 288.287 Q1998.17 287.685 2000.44 286.481 L2000.44 290.509 Q1998.15 291.481 1995.74 291.991 Q1993.33 292.5 1990.85 292.5 Q1984.65 292.5 1981.02 288.889 Q1977.4 285.278 1977.4 279.12 Q1977.4 272.755 1980.83 269.028 Q1984.28 265.278 1990.11 265.278 Q1995.34 265.278 1998.38 268.657 Q2001.43 272.014 2001.43 277.801 M1997.17 276.551 Q1997.13 273.056 1995.21 270.972 Q1993.31 268.889 1990.16 268.889 Q1986.59 268.889 1984.44 270.903 Q1982.31 272.917 1981.99 276.574 L1997.17 276.551 Z\" fill=\"#000000\" fill-rule=\"evenodd\" fill-opacity=\"1\" /><path clip-path=\"url(#clip460)\" d=\"M 0 0 M2026.09 270.88 Q2027.68 268.009 2029.9 266.644 Q2032.13 265.278 2035.14 265.278 Q2039.19 265.278 2041.39 268.125 Q2043.59 270.949 2043.59 276.181 L2043.59 291.829 L2039.3 291.829 L2039.3 276.319 Q2039.3 272.593 2037.98 270.787 Q2036.66 268.982 2033.96 268.982 Q2030.65 268.982 2028.72 271.181 Q2026.8 273.38 2026.8 277.176 L2026.8 291.829 L2022.52 291.829 L2022.52 276.319 Q2022.52 272.569 2021.2 270.787 Q2019.88 268.982 2017.13 268.982 Q2013.86 268.982 2011.94 271.204 Q2010.02 273.403 2010.02 277.176 L2010.02 291.829 L2005.74 291.829 L2005.74 265.903 L2010.02 265.903 L2010.02 269.931 Q2011.48 267.546 2013.52 266.412 Q2015.55 265.278 2018.35 265.278 Q2021.18 265.278 2023.15 266.713 Q2025.14 268.148 2026.09 270.88 Z\" fill=\"#000000\" fill-rule=\"evenodd\" fill-opacity=\"1\" /><path clip-path=\"url(#clip460)\" d=\"M 0 0 M2052.17 287.94 L2052.17 301.69 L2047.89 301.69 L2047.89 265.903 L2052.17 265.903 L2052.17 269.838 Q2053.52 267.523 2055.55 266.412 Q2057.61 265.278 2060.46 265.278 Q2065.18 265.278 2068.12 269.028 Q2071.08 272.778 2071.08 278.889 Q2071.08 285 2068.12 288.75 Q2065.18 292.5 2060.46 292.5 Q2057.61 292.5 2055.55 291.389 Q2053.52 290.255 2052.17 287.94 M2066.66 278.889 Q2066.66 274.19 2064.72 271.528 Q2062.8 268.843 2059.42 268.843 Q2056.04 268.843 2054.09 271.528 Q2052.17 274.19 2052.17 278.889 Q2052.17 283.588 2054.09 286.273 Q2056.04 288.935 2059.42 288.935 Q2062.8 288.935 2064.72 286.273 Q2066.66 283.588 2066.66 278.889 Z\" fill=\"#000000\" fill-rule=\"evenodd\" fill-opacity=\"1\" /><path clip-path=\"url(#clip460)\" d=\"M 0 0 M2097.73 277.801 L2097.73 279.884 L2078.15 279.884 Q2078.42 284.282 2080.78 286.597 Q2083.17 288.889 2087.4 288.889 Q2089.86 288.889 2092.15 288.287 Q2094.46 287.685 2096.73 286.481 L2096.73 290.509 Q2094.44 291.481 2092.03 291.991 Q2089.63 292.5 2087.15 292.5 Q2080.95 292.5 2077.31 288.889 Q2073.7 285.278 2073.7 279.12 Q2073.7 272.755 2077.13 269.028 Q2080.58 265.278 2086.41 265.278 Q2091.64 265.278 2094.67 268.657 Q2097.73 272.014 2097.73 277.801 M2093.47 276.551 Q2093.42 273.056 2091.5 270.972 Q2089.6 268.889 2086.46 268.889 Q2082.89 268.889 2080.74 270.903 Q2078.61 272.917 2078.28 276.574 L2093.47 276.551 Z\" fill=\"#000000\" fill-rule=\"evenodd\" fill-opacity=\"1\" /><path clip-path=\"url(#clip460)\" d=\"M 0 0 M2117.22 269.884 Q2116.5 269.468 2115.64 269.282 Q2114.81 269.074 2113.79 269.074 Q2110.18 269.074 2108.24 271.435 Q2106.32 273.773 2106.32 278.171 L2106.32 291.829 L2102.03 291.829 L2102.03 265.903 L2106.32 265.903 L2106.32 269.931 Q2107.66 267.569 2109.81 266.435 Q2111.96 265.278 2115.04 265.278 Q2115.48 265.278 2116.02 265.347 Q2116.55 265.394 2117.2 265.509 L2117.22 269.884 Z\" fill=\"#000000\" fill-rule=\"evenodd\" fill-opacity=\"1\" /><path clip-path=\"url(#clip460)\" d=\"M 0 0 M2133.47 278.796 Q2128.31 278.796 2126.32 279.977 Q2124.33 281.157 2124.33 284.005 Q2124.33 286.273 2125.81 287.616 Q2127.31 288.935 2129.88 288.935 Q2133.42 288.935 2135.55 286.435 Q2137.7 283.912 2137.7 279.745 L2137.7 278.796 L2133.47 278.796 M2141.96 277.037 L2141.96 291.829 L2137.7 291.829 L2137.7 287.893 Q2136.25 290.255 2134.07 291.389 Q2131.89 292.5 2128.75 292.5 Q2124.77 292.5 2122.4 290.278 Q2120.07 288.032 2120.07 284.282 Q2120.07 279.907 2122.98 277.685 Q2125.92 275.463 2131.73 275.463 L2137.7 275.463 L2137.7 275.046 Q2137.7 272.107 2135.76 270.509 Q2133.84 268.889 2130.34 268.889 Q2128.12 268.889 2126.02 269.421 Q2123.91 269.954 2121.96 271.019 L2121.96 267.083 Q2124.3 266.181 2126.5 265.741 Q2128.7 265.278 2130.78 265.278 Q2136.41 265.278 2139.19 268.194 Q2141.96 271.111 2141.96 277.037 Z\" fill=\"#000000\" fill-rule=\"evenodd\" fill-opacity=\"1\" /><path clip-path=\"url(#clip460)\" d=\"M 0 0 M2150.64 258.542 L2150.64 265.903 L2159.42 265.903 L2159.42 269.213 L2150.64 269.213 L2150.64 283.287 Q2150.64 286.458 2151.5 287.361 Q2152.38 288.264 2155.04 288.264 L2159.42 288.264 L2159.42 291.829 L2155.04 291.829 Q2150.11 291.829 2148.24 290 Q2146.36 288.148 2146.36 283.287 L2146.36 269.213 L2143.24 269.213 L2143.24 265.903 L2146.36 265.903 L2146.36 258.542 L2150.64 258.542 Z\" fill=\"#000000\" fill-rule=\"evenodd\" fill-opacity=\"1\" /><path clip-path=\"url(#clip460)\" d=\"M 0 0 M2163.45 281.597 L2163.45 265.903 L2167.7 265.903 L2167.7 281.435 Q2167.7 285.116 2169.14 286.968 Q2170.58 288.796 2173.45 288.796 Q2176.89 288.796 2178.89 286.597 Q2180.9 284.398 2180.9 280.602 L2180.9 265.903 L2185.16 265.903 L2185.16 291.829 L2180.9 291.829 L2180.9 287.847 Q2179.35 290.208 2177.29 291.366 Q2175.25 292.5 2172.54 292.5 Q2168.08 292.5 2165.76 289.722 Q2163.45 286.944 2163.45 281.597 M2174.16 265.278 L2174.16 265.278 Z\" fill=\"#000000\" fill-rule=\"evenodd\" fill-opacity=\"1\" /><path clip-path=\"url(#clip460)\" d=\"M 0 0 M2204.65 269.884 Q2203.93 269.468 2203.07 269.282 Q2202.24 269.074 2201.22 269.074 Q2197.61 269.074 2195.67 271.435 Q2193.75 273.773 2193.75 278.171 L2193.75 291.829 L2189.46 291.829 L2189.46 265.903 L2193.75 265.903 L2193.75 269.931 Q2195.09 267.569 2197.24 266.435 Q2199.39 265.278 2202.47 265.278 Q2202.91 265.278 2203.45 265.347 Q2203.98 265.394 2204.63 265.509 L2204.65 269.884 Z\" fill=\"#000000\" fill-rule=\"evenodd\" fill-opacity=\"1\" /><path clip-path=\"url(#clip460)\" d=\"M 0 0 M2230.25 277.801 L2230.25 279.884 L2210.67 279.884 Q2210.95 284.282 2213.31 286.597 Q2215.69 288.889 2219.93 288.889 Q2222.38 288.889 2224.67 288.287 Q2226.99 287.685 2229.26 286.481 L2229.26 290.509 Q2226.96 291.481 2224.56 291.991 Q2222.15 292.5 2219.67 292.5 Q2213.47 292.5 2209.83 288.889 Q2206.22 285.278 2206.22 279.12 Q2206.22 272.755 2209.65 269.028 Q2213.1 265.278 2218.93 265.278 Q2224.16 265.278 2227.2 268.657 Q2230.25 272.014 2230.25 277.801 M2225.99 276.551 Q2225.95 273.056 2224.02 270.972 Q2222.13 268.889 2218.98 268.889 Q2215.41 268.889 2213.26 270.903 Q2211.13 272.917 2210.81 276.574 L2225.99 276.551 Z\" fill=\"#000000\" fill-rule=\"evenodd\" fill-opacity=\"1\" /></svg>\n"
      ]
     },
     "metadata": {},
     "output_type": "display_data"
    }
   ],
   "source": [
    "plot_line(ks, ctr)"
   ]
  },
  {
   "cell_type": "code",
   "execution_count": null,
   "metadata": {},
   "outputs": [],
   "source": []
  },
  {
   "cell_type": "code",
   "execution_count": null,
   "metadata": {},
   "outputs": [],
   "source": [
    "residual = Array{Float32}(undef, 3)\n",
    "\n",
    "@showprogress for iter = 1:2000\n",
    "    Kinetic.evolve!(ks, ctr, face, dt)\n",
    "    Kinetic.update!(ks, ctr, face, dt, residual)\n",
    "end"
   ]
  },
  {
   "cell_type": "code",
   "execution_count": null,
   "metadata": {},
   "outputs": [],
   "source": [
    "ctr = OffsetArray{ControlVolume1D2F}(undef, eachindex(ks.pSpace.x))\n",
    "face = Array{Interface1D2F}(undef, ks.pSpace.nx + 1)\n",
    "for i in eachindex(ctr)\n",
    "    if i <= ks.pSpace.nx ÷ 2\n",
    "        ctr[i] = ControlVolume1D2F(\n",
    "            ks.pSpace.x[i],\n",
    "            ks.pSpace.dx[i],\n",
    "            Float32.(ks.ib.wL),\n",
    "            Float32.(ks.ib.primL),\n",
    "            Float32.(ks.ib.hL),\n",
    "            Float32.(ks.ib.bL),\n",
    "        )\n",
    "    else\n",
    "        ctr[i] = ControlVolume1D2F(\n",
    "            ks.pSpace.x[i],\n",
    "            ks.pSpace.dx[i],\n",
    "            Float32.(ks.ib.wR),\n",
    "            Float32.(ks.ib.primR),\n",
    "            Float32.(ks.ib.hR),\n",
    "            Float32.(ks.ib.bR),\n",
    "        )\n",
    "    end\n",
    "end\n",
    "for i = 1:ks.pSpace.nx+1\n",
    "    face[i] = Interface1D2F(ks.ib.wL, ks.ib.hL)\n",
    "end"
   ]
  },
  {
   "cell_type": "code",
   "execution_count": null,
   "metadata": {},
   "outputs": [],
   "source": []
  },
  {
   "cell_type": "code",
   "execution_count": null,
   "metadata": {},
   "outputs": [],
   "source": [
    "#--- neural ODE ---#\n",
    "model_univ = FastChain(\n",
    "    #(x, p) -> zeros(eltype(x), axes(x)),\n",
    "    FastDense(ks.vSpace.nu * 2, ks.vSpace.nu * 2 * nh, tanh),\n",
    "    FastDense(ks.vSpace.nu * 2 * nh, ks.vSpace.nu * 2),\n",
    ")\n",
    "\n",
    "p_model = initial_params(model_univ)\n",
    "\n",
    "function dfdt(f, p, t)\n",
    "    h = f[1:nu, :]\n",
    "    b = f[nu+1:end, :]\n",
    "\n",
    "    df = model_univ(f, p)\n",
    "end\n",
    "\n",
    "prob_ube = ODEProblem(dfdt, X, tspan, p_model)\n",
    "\n",
    "function loss(p)\n",
    "    sol_ube = solve(prob_ube, Midpoint(), u0=X, p=p, saveat=tran)\n",
    "    loss = sum(abs2, Array(sol_ube) .- Y)\n",
    "    #loss = sum(abs2, Array(sol_ube) .- Y1)\n",
    "    return loss\n",
    "end\n",
    "\n",
    "cb = function (p, l)\n",
    "    display(l)\n",
    "    return false\n",
    "end"
   ]
  },
  {
   "cell_type": "code",
   "execution_count": null,
   "metadata": {},
   "outputs": [],
   "source": []
  },
  {
   "cell_type": "code",
   "execution_count": null,
   "metadata": {},
   "outputs": [],
   "source": [
    "res.minimizer "
   ]
  },
  {
   "cell_type": "code",
   "execution_count": null,
   "metadata": {},
   "outputs": [],
   "source": []
  }
 ],
 "metadata": {
  "kernelspec": {
   "display_name": "Julia 1.4.2",
   "language": "julia",
   "name": "julia-1.4"
  },
  "language_info": {
   "file_extension": ".jl",
   "mimetype": "application/julia",
   "name": "julia",
   "version": "1.4.2"
  }
 },
 "nbformat": 4,
 "nbformat_minor": 4
}
