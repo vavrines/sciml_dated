{
 "cells": [
  {
   "cell_type": "code",
   "execution_count": 2,
   "metadata": {},
   "outputs": [
    {
     "name": "stderr",
     "output_type": "stream",
     "text": [
      "┌ Warning: `haskey(::TargetIterator, name::String)` is deprecated, use `Target(; name = name) !== nothing` instead.\n",
      "│   caller = llvm_compat(::VersionNumber) at compatibility.jl:176\n",
      "└ @ CUDAnative /home/kit/scc/yy3406/.julia/packages/CUDAnative/ierw8/src/compatibility.jl:176\n"
     ]
    }
   ],
   "source": [
    "using Revise, OrdinaryDiffEq, Flux, DiffEqFlux, Optim\n",
    "using Plots, FileIO, JLD2, OffsetArrays, ProgressMeter, Kinetic"
   ]
  },
  {
   "cell_type": "code",
   "execution_count": 3,
   "metadata": {},
   "outputs": [
    {
     "name": "stdout",
     "output_type": "stream",
     "text": [
      "case = shock\n",
      "space = 1d2f1v\n",
      "nSpecies = 1\n",
      "interpOrder = 1\n",
      "limiter = vanleer\n",
      "cfl = 0.7\n",
      "maxTime = 250.0\n",
      "x0 = -35.0\n",
      "x1 = 35.0\n",
      "nx = 50\n",
      "pMeshType = uniform\n",
      "nxg = 1\n",
      "umin = -10.0\n",
      "umax = 10.0\n",
      "nu = 36\n",
      "nug = 0\n",
      "vmin = -10.0\n",
      "vmax = 10.0\n",
      "nv = 24\n",
      "nvg = 0\n",
      "wmin = -10.0\n",
      "wmax = 10.0\n",
      "nw = 24\n",
      "nwg = 0\n",
      "vMeshType = rectangle\n",
      "knudsen = 1.0\n",
      "mach = 2.0\n",
      "prandtl = 1.0\n",
      "inK = 2\n",
      "omega = 0.5\n",
      "alphaRef = 1.0\n",
      "omegaRef = 0.5\n",
      "nm = 5\n",
      "tLen = 3\n",
      "nh = 12\n",
      "\n"
     ]
    }
   ],
   "source": [
    "D = read_dict(\"../code/shock/ude_shock.txt\")\n",
    "for key in keys(D)\n",
    "    s = Symbol(key)\n",
    "    @eval $s = $(D[key])\n",
    "end"
   ]
  },
  {
   "cell_type": "code",
   "execution_count": 4,
   "metadata": {},
   "outputs": [
    {
     "data": {
      "text/plain": [
       "0.0f0:0.043301642f0:0.086603284f0"
      ]
     },
     "execution_count": 4,
     "metadata": {},
     "output_type": "execute_result"
    }
   ],
   "source": [
    "γ = heat_capacity_ratio(inK, 1)\n",
    "set = Setup(case, space, nSpecies, interpOrder, limiter, cfl, maxTime)\n",
    "pSpace = PSpace1D(x0, x1, nx, pMeshType, nxg)\n",
    "μᵣ = ref_vhs_vis(knudsen, alphaRef, omegaRef)\n",
    "gas = GasProperty(knudsen, mach, prandtl, inK, γ, omega, alphaRef, omegaRef, μᵣ)\n",
    "vSpace = VSpace1D(umin, umax, nu, vMeshType)\n",
    "vSpace2D = VSpace2D(vmin, vmax, nv, wmin, wmax, nw, vMeshType)\n",
    "vSpace3D = VSpace3D(umin, umax, nu, vmin, vmax, nv, wmin, wmax, nw, vMeshType)\n",
    "wL, primL, hL, bL, bcL, wR, primR, hR, bR, bcR = ib_rh(mach, γ, vSpace.u, inK)\n",
    "ib = IB2F(wL, primL, hL, bL, bcL, wR, primR, hR, bR, bcR)\n",
    "ks = SolverSet(set, pSpace, vSpace, gas, ib, pwd())\n",
    "\n",
    "kn_bzm = hs_boltz_kn(ks.gas.μᵣ, 1.0)\n",
    "sos = sound_speed(ks.ib.primR, γ)\n",
    "tmax = (ks.vSpace.u1 + sos) / ks.pSpace.dx[1]\n",
    "dt = Float32(ks.set.cfl / tmax)\n",
    "tspan = (0.f0, dt)\n",
    "tran = range(tspan[1], tspan[2], length = tLen)"
   ]
  },
  {
   "cell_type": "code",
   "execution_count": 5,
   "metadata": {},
   "outputs": [],
   "source": [
    "ctr = OffsetArray{ControlVolume1D2F}(undef, eachindex(ks.pSpace.x))\n",
    "face = Array{Interface1D2F}(undef, ks.pSpace.nx + 1)\n",
    "for i in eachindex(ctr)\n",
    "    if i <= ks.pSpace.nx ÷ 2\n",
    "        ctr[i] = ControlVolume1D2F(\n",
    "            ks.pSpace.x[i],\n",
    "            ks.pSpace.dx[i],\n",
    "            Float32.(ks.ib.wL),\n",
    "            Float32.(ks.ib.primL),\n",
    "            Float32.(ks.ib.hL),\n",
    "            Float32.(ks.ib.bL),\n",
    "        )\n",
    "    else\n",
    "        ctr[i] = ControlVolume1D2F(\n",
    "            ks.pSpace.x[i],\n",
    "            ks.pSpace.dx[i],\n",
    "            Float32.(ks.ib.wR),\n",
    "            Float32.(ks.ib.primR),\n",
    "            Float32.(ks.ib.hR),\n",
    "            Float32.(ks.ib.bR),\n",
    "        )\n",
    "    end\n",
    "end\n",
    "for i = 1:ks.pSpace.nx+1\n",
    "    face[i] = Interface1D2F(ks.ib.wL, ks.ib.hL)\n",
    "end"
   ]
  },
  {
   "cell_type": "code",
   "execution_count": 6,
   "metadata": {},
   "outputs": [
    {
     "name": "stderr",
     "output_type": "stream",
     "text": [
      "\u001b[32mProgress: 100%|█████████████████████████████████████████| Time: 0:00:05\u001b[39m\n"
     ]
    }
   ],
   "source": [
    "residual = Array{Float32}(undef, 3)\n",
    "@showprogress for iter = 1:2000\n",
    "    Kinetic.evolve!(ks, ctr, face, dt)\n",
    "    Kinetic.update!(ks, ctr, face, dt, residual)\n",
    "end"
   ]
  },
  {
   "cell_type": "code",
   "execution_count": 7,
   "metadata": {},
   "outputs": [],
   "source": [
    "#--- BGK dataset ---#\n",
    "function bgk!(df, f, p, t)\n",
    "    H, B, tau = p\n",
    "    df[1:end÷2, :] .= (H .- f[1:end÷2, :]) ./ tau\n",
    "    df[end÷2+1:end, :] .= (B .- f[end÷2+1:end, :]) ./ tau\n",
    "end\n",
    "\n",
    "X = Array{Float32}(undef, nu * 2, nx)\n",
    "for i = 1:nx\n",
    "    X[1:nu, i] .= ctr[i].h\n",
    "    X[nu+1:end, i] .= ctr[i].b\n",
    "end\n",
    "\n",
    "H = Array{Float32}(undef, nu, nx)\n",
    "B = Array{Float32}(undef, nu, nx)\n",
    "τ = Array{Float32}(undef, 1, nx)\n",
    "for i = 1:nx\n",
    "    H[:, i] .= maxwellian(ks.vSpace.u, ctr[i].prim)\n",
    "    B[:, i] .= H[:, i] .* ks.gas.K ./ (2.0 .* ctr[i].prim[end])\n",
    "    τ[1, i] = vhs_collision_time(ctr[i].prim, ks.gas.μᵣ, ks.gas.ω)\n",
    "end\n",
    "P = [H, B, τ]\n",
    "\n",
    "prob = ODEProblem(bgk!, X, tspan, P)\n",
    "Y1 = solve(prob, Midpoint(), saveat = tran) |> Array;"
   ]
  },
  {
   "cell_type": "code",
   "execution_count": 79,
   "metadata": {},
   "outputs": [
    {
     "data": {
      "text/plain": [
       "uks_conv (generic function with 1 method)"
      ]
     },
     "execution_count": 79,
     "metadata": {},
     "output_type": "execute_result"
    }
   ],
   "source": [
    "function fit_conv(a)\n",
    "    reshape(a, (size(a)[1:end-1]...,1,size(a)[end]))\n",
    "end\n",
    "\n",
    "function uks_conv(a)\n",
    "    reshape(a, (size(a)..., 1, 1))\n",
    "end"
   ]
  },
  {
   "cell_type": "code",
   "execution_count": 52,
   "metadata": {},
   "outputs": [],
   "source": [
    "X1 = fit_conv(X);"
   ]
  },
  {
   "cell_type": "code",
   "execution_count": 59,
   "metadata": {},
   "outputs": [
    {
     "data": {
      "text/plain": [
       "#27 (generic function with 1 method)"
      ]
     },
     "execution_count": 59,
     "metadata": {},
     "output_type": "execute_result"
    }
   ],
   "source": [
    "#--- universal differential equation ---#\n",
    "#model_univ = Chain(\n",
    "#    x -> zeros(eltype(x), axes(x)),\n",
    "#    Dense(vSpace.nu * 2, vSpace.nu * 2 * nh, tanh),\n",
    "#    Dense(vSpace.nu * 2 * nh, vSpace.nu * 2),\n",
    "#)\n",
    "\n",
    "model_univ = Chain(\n",
    "    # init\n",
    "    x -> zeros(eltype(x), axes(x)),\n",
    "    # convolution\n",
    "    Conv((2,), 1=>nh*2, pad=(1,), tanh),\n",
    "    MaxPool((2,)),\n",
    "    # mlp\n",
    "    flatten,\n",
    "    Dense(vSpace.nu * 2 * nh, vSpace.nu * 2),\n",
    ")\n",
    "\n",
    "p_model, re = Flux.destructure(model_univ)\n",
    "\n",
    "function dfdt(f, p, t)\n",
    "    h = f[1:nu, :]\n",
    "    b = f[nu+1:end, :]\n",
    "    \n",
    "    f_conv = fit_conv(f)\n",
    "    \n",
    "    dh = (H .- h) ./ τ .+ re(p)(f_conv)[1:nu, :]\n",
    "    db = (B .- b) ./ τ .+ re(p)(f_conv)[nu+1:end, :]\n",
    "\n",
    "    df = vcat(dh, db)\n",
    "end\n",
    "\n",
    "prob_ube = ODEProblem(dfdt, X, tspan, p_model)\n",
    "\n",
    "function loss(p)\n",
    "    sol_ube = solve(prob_ube, Midpoint(), u0=X, p=p, saveat=tran)\n",
    "    loss = sum(abs2, Array(sol_ube) .- Y1)\n",
    "    return loss\n",
    "end\n",
    "\n",
    "cb = function (p, l)\n",
    "    display(l)\n",
    "    return false\n",
    "end"
   ]
  },
  {
   "cell_type": "code",
   "execution_count": 61,
   "metadata": {
    "scrolled": true
   },
   "outputs": [
    {
     "data": {
      "text/plain": [
       "4.043678f-13"
      ]
     },
     "metadata": {},
     "output_type": "display_data"
    },
    {
     "data": {
      "text/plain": [
       "2.0468222f-5"
      ]
     },
     "metadata": {},
     "output_type": "display_data"
    },
    {
     "name": "stderr",
     "output_type": "stream",
     "text": [
      "\r",
      "\u001b[32mloss: 2.05e-05:   1%|▍                                        |  ETA: 0:02:02\u001b[39m"
     ]
    },
    {
     "data": {
      "text/plain": [
       "3.1235937f-5"
      ]
     },
     "metadata": {},
     "output_type": "display_data"
    },
    {
     "name": "stderr",
     "output_type": "stream",
     "text": [
      "\r",
      "\u001b[32mloss: 3.12e-05:   2%|▋                                        |  ETA: 0:01:44\u001b[39m"
     ]
    },
    {
     "data": {
      "text/plain": [
       "1.7640288f-5"
      ]
     },
     "metadata": {},
     "output_type": "display_data"
    },
    {
     "name": "stderr",
     "output_type": "stream",
     "text": [
      "\r",
      "\u001b[32mloss: 1.76e-05:   2%|▉                                        |  ETA: 0:01:30\u001b[39m"
     ]
    },
    {
     "data": {
      "text/plain": [
       "8.694708f-6"
      ]
     },
     "metadata": {},
     "output_type": "display_data"
    },
    {
     "name": "stderr",
     "output_type": "stream",
     "text": [
      "\r",
      "\u001b[32mloss: 8.69e-06:   2%|█                                        |  ETA: 0:01:22\u001b[39m"
     ]
    },
    {
     "data": {
      "text/plain": [
       "6.1809733f-6"
      ]
     },
     "metadata": {},
     "output_type": "display_data"
    },
    {
     "name": "stderr",
     "output_type": "stream",
     "text": [
      "\r",
      "\u001b[32mloss: 6.18e-06:   3%|█▎                                       |  ETA: 0:01:15\u001b[39m"
     ]
    },
    {
     "data": {
      "text/plain": [
       "6.101095f-6"
      ]
     },
     "metadata": {},
     "output_type": "display_data"
    },
    {
     "name": "stderr",
     "output_type": "stream",
     "text": [
      "\r",
      "\u001b[32mloss: 6.1e-06:   4%|█▍                                       |  ETA: 0:01:10\u001b[39m"
     ]
    },
    {
     "data": {
      "text/plain": [
       "5.2807104f-6"
      ]
     },
     "metadata": {},
     "output_type": "display_data"
    },
    {
     "name": "stderr",
     "output_type": "stream",
     "text": [
      "\r",
      "\u001b[32mloss: 5.28e-06:   4%|█▋                                       |  ETA: 0:01:06\u001b[39m"
     ]
    },
    {
     "data": {
      "text/plain": [
       "5.0099234f-6"
      ]
     },
     "metadata": {},
     "output_type": "display_data"
    },
    {
     "name": "stderr",
     "output_type": "stream",
     "text": [
      "\r",
      "\u001b[32mloss: 5.01e-06:   4%|█▉                                       |  ETA: 0:01:04\u001b[39m"
     ]
    },
    {
     "data": {
      "text/plain": [
       "3.9441506f-6"
      ]
     },
     "metadata": {},
     "output_type": "display_data"
    },
    {
     "name": "stderr",
     "output_type": "stream",
     "text": [
      "\r",
      "\u001b[32mloss: 3.94e-06:   5%|██                                       |  ETA: 0:01:01\u001b[39m"
     ]
    },
    {
     "data": {
      "text/plain": [
       "2.9552139f-6"
      ]
     },
     "metadata": {},
     "output_type": "display_data"
    },
    {
     "name": "stderr",
     "output_type": "stream",
     "text": [
      "\r",
      "\u001b[32mloss: 2.96e-06:   6%|██▎                                      |  ETA: 0:00:59\u001b[39m"
     ]
    },
    {
     "data": {
      "text/plain": [
       "2.7069887f-6"
      ]
     },
     "metadata": {},
     "output_type": "display_data"
    },
    {
     "name": "stderr",
     "output_type": "stream",
     "text": [
      "\r",
      "\u001b[32mloss: 2.71e-06:   6%|██▌                                      |  ETA: 0:00:58\u001b[39m"
     ]
    },
    {
     "data": {
      "text/plain": [
       "2.9759972f-6"
      ]
     },
     "metadata": {},
     "output_type": "display_data"
    },
    {
     "name": "stderr",
     "output_type": "stream",
     "text": [
      "\r",
      "\u001b[32mloss: 2.98e-06:   6%|██▋                                      |  ETA: 0:00:56\u001b[39m"
     ]
    },
    {
     "data": {
      "text/plain": [
       "3.2220069f-6"
      ]
     },
     "metadata": {},
     "output_type": "display_data"
    },
    {
     "name": "stderr",
     "output_type": "stream",
     "text": [
      "\r",
      "\u001b[32mloss: 3.22e-06:   7%|██▉                                      |  ETA: 0:00:55\u001b[39m"
     ]
    },
    {
     "data": {
      "text/plain": [
       "2.8370803f-6"
      ]
     },
     "metadata": {},
     "output_type": "display_data"
    },
    {
     "name": "stderr",
     "output_type": "stream",
     "text": [
      "\r",
      "\u001b[32mloss: 2.84e-06:   8%|███▏                                     |  ETA: 0:00:54\u001b[39m"
     ]
    },
    {
     "data": {
      "text/plain": [
       "2.0874472f-6"
      ]
     },
     "metadata": {},
     "output_type": "display_data"
    },
    {
     "name": "stderr",
     "output_type": "stream",
     "text": [
      "\r",
      "\u001b[32mloss: 2.09e-06:   8%|███▎                                     |  ETA: 0:00:53\u001b[39m"
     ]
    },
    {
     "data": {
      "text/plain": [
       "1.4240374f-6"
      ]
     },
     "metadata": {},
     "output_type": "display_data"
    },
    {
     "name": "stderr",
     "output_type": "stream",
     "text": [
      "\r",
      "\u001b[32mloss: 1.42e-06:   8%|███▌                                     |  ETA: 0:00:52\u001b[39m"
     ]
    },
    {
     "data": {
      "text/plain": [
       "1.4032963f-6"
      ]
     },
     "metadata": {},
     "output_type": "display_data"
    },
    {
     "name": "stderr",
     "output_type": "stream",
     "text": [
      "\r",
      "\u001b[32mloss: 1.4e-06:   9%|███▊                                     |  ETA: 0:00:50\u001b[39m"
     ]
    },
    {
     "data": {
      "text/plain": [
       "1.5886786f-6"
      ]
     },
     "metadata": {},
     "output_type": "display_data"
    },
    {
     "name": "stderr",
     "output_type": "stream",
     "text": [
      "\r",
      "\u001b[32mloss: 1.59e-06:  10%|███▉                                     |  ETA: 0:00:49\u001b[39m"
     ]
    },
    {
     "data": {
      "text/plain": [
       "1.4171259f-6"
      ]
     },
     "metadata": {},
     "output_type": "display_data"
    },
    {
     "name": "stderr",
     "output_type": "stream",
     "text": [
      "\r",
      "\u001b[32mloss: 1.42e-06:  10%|████▏                                    |  ETA: 0:00:48\u001b[39m"
     ]
    },
    {
     "data": {
      "text/plain": [
       "1.2749193f-6"
      ]
     },
     "metadata": {},
     "output_type": "display_data"
    },
    {
     "name": "stderr",
     "output_type": "stream",
     "text": [
      "\r",
      "\u001b[32mloss: 1.27e-06:  10%|████▎                                    |  ETA: 0:00:47\u001b[39m"
     ]
    },
    {
     "data": {
      "text/plain": [
       "1.2448661f-6"
      ]
     },
     "metadata": {},
     "output_type": "display_data"
    },
    {
     "name": "stderr",
     "output_type": "stream",
     "text": [
      "\r",
      "\u001b[32mloss: 1.24e-06:  11%|████▌                                    |  ETA: 0:00:46\u001b[39m"
     ]
    },
    {
     "data": {
      "text/plain": [
       "1.0757765f-6"
      ]
     },
     "metadata": {},
     "output_type": "display_data"
    },
    {
     "name": "stderr",
     "output_type": "stream",
     "text": [
      "\r",
      "\u001b[32mloss: 1.08e-06:  12%|████▊                                    |  ETA: 0:00:45\u001b[39m"
     ]
    },
    {
     "data": {
      "text/plain": [
       "8.127342f-7"
      ]
     },
     "metadata": {},
     "output_type": "display_data"
    },
    {
     "name": "stderr",
     "output_type": "stream",
     "text": [
      "\r",
      "\u001b[32mloss: 8.13e-07:  12%|████▉                                    |  ETA: 0:00:45\u001b[39m"
     ]
    },
    {
     "data": {
      "text/plain": [
       "6.7809725f-7"
      ]
     },
     "metadata": {},
     "output_type": "display_data"
    },
    {
     "name": "stderr",
     "output_type": "stream",
     "text": [
      "\r",
      "\u001b[32mloss: 6.78e-07:  12%|█████▏                                   |  ETA: 0:00:44\u001b[39m"
     ]
    },
    {
     "data": {
      "text/plain": [
       "6.735353f-7"
      ]
     },
     "metadata": {},
     "output_type": "display_data"
    },
    {
     "name": "stderr",
     "output_type": "stream",
     "text": [
      "\r",
      "\u001b[32mloss: 6.74e-07:  13%|█████▍                                   |  ETA: 0:00:44\u001b[39m"
     ]
    },
    {
     "data": {
      "text/plain": [
       "6.5147026f-7"
      ]
     },
     "metadata": {},
     "output_type": "display_data"
    },
    {
     "name": "stderr",
     "output_type": "stream",
     "text": [
      "\r",
      "\u001b[32mloss: 6.51e-07:  14%|█████▌                                   |  ETA: 0:00:43\u001b[39m"
     ]
    },
    {
     "data": {
      "text/plain": [
       "6.434507f-7"
      ]
     },
     "metadata": {},
     "output_type": "display_data"
    },
    {
     "name": "stderr",
     "output_type": "stream",
     "text": [
      "\r",
      "\u001b[32mloss: 6.43e-07:  14%|█████▊                                   |  ETA: 0:00:42\u001b[39m"
     ]
    },
    {
     "data": {
      "text/plain": [
       "5.9823384f-7"
      ]
     },
     "metadata": {},
     "output_type": "display_data"
    },
    {
     "name": "stderr",
     "output_type": "stream",
     "text": [
      "\r",
      "\u001b[32mloss: 5.98e-07:  14%|██████                                   |  ETA: 0:00:42\u001b[39m"
     ]
    },
    {
     "data": {
      "text/plain": [
       "4.490119f-7"
      ]
     },
     "metadata": {},
     "output_type": "display_data"
    },
    {
     "name": "stderr",
     "output_type": "stream",
     "text": [
      "\r",
      "\u001b[32mloss: 4.49e-07:  15%|██████▏                                  |  ETA: 0:00:41\u001b[39m"
     ]
    },
    {
     "data": {
      "text/plain": [
       "3.6740553f-7"
      ]
     },
     "metadata": {},
     "output_type": "display_data"
    },
    {
     "name": "stderr",
     "output_type": "stream",
     "text": [
      "\r",
      "\u001b[32mloss: 3.67e-07:  16%|██████▍                                  |  ETA: 0:00:41\u001b[39m"
     ]
    },
    {
     "data": {
      "text/plain": [
       "4.1132284f-7"
      ]
     },
     "metadata": {},
     "output_type": "display_data"
    },
    {
     "name": "stderr",
     "output_type": "stream",
     "text": [
      "\r",
      "\u001b[32mloss: 4.11e-07:  16%|██████▌                                  |  ETA: 0:00:41\u001b[39m"
     ]
    },
    {
     "data": {
      "text/plain": [
       "4.1721356f-7"
      ]
     },
     "metadata": {},
     "output_type": "display_data"
    },
    {
     "name": "stderr",
     "output_type": "stream",
     "text": [
      "\r",
      "\u001b[32mloss: 4.17e-07:  16%|██████▊                                  |  ETA: 0:00:40\u001b[39m"
     ]
    },
    {
     "data": {
      "text/plain": [
       "3.9602867f-7"
      ]
     },
     "metadata": {},
     "output_type": "display_data"
    },
    {
     "name": "stderr",
     "output_type": "stream",
     "text": [
      "\r",
      "\u001b[32mloss: 3.96e-07:  17%|███████                                  |  ETA: 0:00:39\u001b[39m"
     ]
    },
    {
     "data": {
      "text/plain": [
       "4.929737f-7"
      ]
     },
     "metadata": {},
     "output_type": "display_data"
    },
    {
     "name": "stderr",
     "output_type": "stream",
     "text": [
      "\r",
      "\u001b[32mloss: 4.93e-07:  18%|███████▏                                 |  ETA: 0:00:39\u001b[39m"
     ]
    },
    {
     "data": {
      "text/plain": [
       "8.15017f-7"
      ]
     },
     "metadata": {},
     "output_type": "display_data"
    },
    {
     "name": "stderr",
     "output_type": "stream",
     "text": [
      "\r",
      "\u001b[32mloss: 8.15e-07:  18%|███████▍                                 |  ETA: 0:00:39\u001b[39m"
     ]
    },
    {
     "data": {
      "text/plain": [
       "1.5380484f-6"
      ]
     },
     "metadata": {},
     "output_type": "display_data"
    },
    {
     "name": "stderr",
     "output_type": "stream",
     "text": [
      "\r",
      "\u001b[32mloss: 1.54e-06:  18%|███████▋                                 |  ETA: 0:00:38\u001b[39m"
     ]
    },
    {
     "data": {
      "text/plain": [
       "2.4399114f-6"
      ]
     },
     "metadata": {},
     "output_type": "display_data"
    },
    {
     "name": "stderr",
     "output_type": "stream",
     "text": [
      "\r",
      "\u001b[32mloss: 2.44e-06:  19%|███████▊                                 |  ETA: 0:00:38\u001b[39m"
     ]
    },
    {
     "data": {
      "text/plain": [
       "2.003343f-6"
      ]
     },
     "metadata": {},
     "output_type": "display_data"
    },
    {
     "name": "stderr",
     "output_type": "stream",
     "text": [
      "\r",
      "\u001b[32mloss: 2e-06:  20%|████████                                 |  ETA: 0:00:38\u001b[39m"
     ]
    },
    {
     "data": {
      "text/plain": [
       "4.847848f-7"
      ]
     },
     "metadata": {},
     "output_type": "display_data"
    },
    {
     "name": "stderr",
     "output_type": "stream",
     "text": [
      "\r",
      "\u001b[32mloss: 4.85e-07:  20%|████████▎                                |  ETA: 0:00:38\u001b[39m"
     ]
    },
    {
     "data": {
      "text/plain": [
       "4.4073244f-7"
      ]
     },
     "metadata": {},
     "output_type": "display_data"
    },
    {
     "name": "stderr",
     "output_type": "stream",
     "text": [
      "\r",
      "\u001b[32mloss: 4.41e-07:  20%|████████▍                                |  ETA: 0:00:37\u001b[39m"
     ]
    },
    {
     "data": {
      "text/plain": [
       "1.4009244f-6"
      ]
     },
     "metadata": {},
     "output_type": "display_data"
    },
    {
     "name": "stderr",
     "output_type": "stream",
     "text": [
      "\r",
      "\u001b[32mloss: 1.4e-06:  21%|████████▋                                |  ETA: 0:00:37\u001b[39m"
     ]
    },
    {
     "data": {
      "text/plain": [
       "8.208965f-7"
      ]
     },
     "metadata": {},
     "output_type": "display_data"
    },
    {
     "name": "stderr",
     "output_type": "stream",
     "text": [
      "\r",
      "\u001b[32mloss: 8.21e-07:  22%|████████▉                                |  ETA: 0:00:37\u001b[39m"
     ]
    },
    {
     "data": {
      "text/plain": [
       "1.0777715f-7"
      ]
     },
     "metadata": {},
     "output_type": "display_data"
    },
    {
     "name": "stderr",
     "output_type": "stream",
     "text": [
      "\r",
      "\u001b[32mloss: 1.08e-07:  22%|█████████                                |  ETA: 0:00:36\u001b[39m"
     ]
    },
    {
     "data": {
      "text/plain": [
       "8.643523f-7"
      ]
     },
     "metadata": {},
     "output_type": "display_data"
    },
    {
     "name": "stderr",
     "output_type": "stream",
     "text": [
      "\r",
      "\u001b[32mloss: 8.64e-07:  22%|█████████▎                               |  ETA: 0:00:36\u001b[39m"
     ]
    },
    {
     "data": {
      "text/plain": [
       "7.08431f-7"
      ]
     },
     "metadata": {},
     "output_type": "display_data"
    },
    {
     "name": "stderr",
     "output_type": "stream",
     "text": [
      "\r",
      "\u001b[32mloss: 7.08e-07:  23%|█████████▍                               |  ETA: 0:00:36\u001b[39m"
     ]
    },
    {
     "data": {
      "text/plain": [
       "9.58974f-8"
      ]
     },
     "metadata": {},
     "output_type": "display_data"
    },
    {
     "name": "stderr",
     "output_type": "stream",
     "text": [
      "\r",
      "\u001b[32mloss: 9.59e-08:  24%|█████████▋                               |  ETA: 0:00:35\u001b[39m"
     ]
    },
    {
     "data": {
      "text/plain": [
       "6.2747495f-7"
      ]
     },
     "metadata": {},
     "output_type": "display_data"
    },
    {
     "name": "stderr",
     "output_type": "stream",
     "text": [
      "\r",
      "\u001b[32mloss: 6.27e-07:  24%|█████████▉                               |  ETA: 0:00:35\u001b[39m"
     ]
    },
    {
     "data": {
      "text/plain": [
       "4.2528706f-7"
      ]
     },
     "metadata": {},
     "output_type": "display_data"
    },
    {
     "name": "stderr",
     "output_type": "stream",
     "text": [
      "\r",
      "\u001b[32mloss: 4.25e-07:  24%|██████████                               |  ETA: 0:00:35\u001b[39m"
     ]
    },
    {
     "data": {
      "text/plain": [
       "9.518503f-8"
      ]
     },
     "metadata": {},
     "output_type": "display_data"
    },
    {
     "name": "stderr",
     "output_type": "stream",
     "text": [
      "\r",
      "\u001b[32mloss: 9.52e-08:  25%|██████████▎                              |  ETA: 0:00:34\u001b[39m"
     ]
    },
    {
     "data": {
      "text/plain": [
       "5.250196f-7"
      ]
     },
     "metadata": {},
     "output_type": "display_data"
    },
    {
     "name": "stderr",
     "output_type": "stream",
     "text": [
      "\r",
      "\u001b[32mloss: 5.25e-07:  26%|██████████▌                              |  ETA: 0:00:34\u001b[39m"
     ]
    },
    {
     "data": {
      "text/plain": [
       "2.0328554f-7"
      ]
     },
     "metadata": {},
     "output_type": "display_data"
    },
    {
     "name": "stderr",
     "output_type": "stream",
     "text": [
      "\r",
      "\u001b[32mloss: 2.03e-07:  26%|██████████▋                              |  ETA: 0:00:34\u001b[39m"
     ]
    },
    {
     "data": {
      "text/plain": [
       "1.3725838f-7"
      ]
     },
     "metadata": {},
     "output_type": "display_data"
    },
    {
     "name": "stderr",
     "output_type": "stream",
     "text": [
      "\r",
      "\u001b[32mloss: 1.37e-07:  26%|██████████▉                              |  ETA: 0:00:33\u001b[39m"
     ]
    },
    {
     "data": {
      "text/plain": [
       "3.8453265f-7"
      ]
     },
     "metadata": {},
     "output_type": "display_data"
    },
    {
     "name": "stderr",
     "output_type": "stream",
     "text": [
      "\r",
      "\u001b[32mloss: 3.85e-07:  27%|███████████▏                             |  ETA: 0:00:33\u001b[39m"
     ]
    },
    {
     "data": {
      "text/plain": [
       "6.917516f-8"
      ]
     },
     "metadata": {},
     "output_type": "display_data"
    },
    {
     "name": "stderr",
     "output_type": "stream",
     "text": [
      "\r",
      "\u001b[32mloss: 6.92e-08:  28%|███████████▎                             |  ETA: 0:00:33\u001b[39m"
     ]
    },
    {
     "data": {
      "text/plain": [
       "2.0721373f-7"
      ]
     },
     "metadata": {},
     "output_type": "display_data"
    },
    {
     "name": "stderr",
     "output_type": "stream",
     "text": [
      "\r",
      "\u001b[32mloss: 2.07e-07:  28%|███████████▌                             |  ETA: 0:00:32\u001b[39m"
     ]
    },
    {
     "data": {
      "text/plain": [
       "2.0432478f-7"
      ]
     },
     "metadata": {},
     "output_type": "display_data"
    },
    {
     "name": "stderr",
     "output_type": "stream",
     "text": [
      "\r",
      "\u001b[32mloss: 2.04e-07:  28%|███████████▋                             |  ETA: 0:00:32\u001b[39m"
     ]
    },
    {
     "data": {
      "text/plain": [
       "2.6534398f-8"
      ]
     },
     "metadata": {},
     "output_type": "display_data"
    },
    {
     "name": "stderr",
     "output_type": "stream",
     "text": [
      "\r",
      "\u001b[32mloss: 2.65e-08:  29%|███████████▉                             |  ETA: 0:00:32\u001b[39m"
     ]
    },
    {
     "data": {
      "text/plain": [
       "2.0996973f-7"
      ]
     },
     "metadata": {},
     "output_type": "display_data"
    },
    {
     "name": "stderr",
     "output_type": "stream",
     "text": [
      "\r",
      "\u001b[32mloss: 2.1e-07:  30%|████████████▏                            |  ETA: 0:00:32\u001b[39m"
     ]
    },
    {
     "data": {
      "text/plain": [
       "7.696458f-8"
      ]
     },
     "metadata": {},
     "output_type": "display_data"
    },
    {
     "name": "stderr",
     "output_type": "stream",
     "text": [
      "\r",
      "\u001b[32mloss: 7.7e-08:  30%|████████████▎                            |  ETA: 0:00:31\u001b[39m"
     ]
    },
    {
     "data": {
      "text/plain": [
       "8.58609f-8"
      ]
     },
     "metadata": {},
     "output_type": "display_data"
    },
    {
     "name": "stderr",
     "output_type": "stream",
     "text": [
      "\r",
      "\u001b[32mloss: 8.59e-08:  30%|████████████▌                            |  ETA: 0:00:31\u001b[39m"
     ]
    },
    {
     "data": {
      "text/plain": [
       "1.4524795f-7"
      ]
     },
     "metadata": {},
     "output_type": "display_data"
    },
    {
     "name": "stderr",
     "output_type": "stream",
     "text": [
      "\r",
      "\u001b[32mloss: 1.45e-07:  31%|████████████▊                            |  ETA: 0:00:31\u001b[39m"
     ]
    },
    {
     "data": {
      "text/plain": [
       "1.1304087f-8"
      ]
     },
     "metadata": {},
     "output_type": "display_data"
    },
    {
     "name": "stderr",
     "output_type": "stream",
     "text": [
      "\r",
      "\u001b[32mloss: 1.13e-08:  32%|████████████▉                            |  ETA: 0:00:30\u001b[39m"
     ]
    },
    {
     "data": {
      "text/plain": [
       "1.08440474f-7"
      ]
     },
     "metadata": {},
     "output_type": "display_data"
    },
    {
     "name": "stderr",
     "output_type": "stream",
     "text": [
      "\r",
      "\u001b[32mloss: 1.08e-07:  32%|█████████████▏                           |  ETA: 0:00:30\u001b[39m"
     ]
    },
    {
     "data": {
      "text/plain": [
       "6.353234f-8"
      ]
     },
     "metadata": {},
     "output_type": "display_data"
    },
    {
     "name": "stderr",
     "output_type": "stream",
     "text": [
      "\r",
      "\u001b[32mloss: 6.35e-08:  32%|█████████████▍                           |  ETA: 0:00:30\u001b[39m"
     ]
    },
    {
     "data": {
      "text/plain": [
       "3.6636536f-8"
      ]
     },
     "metadata": {},
     "output_type": "display_data"
    },
    {
     "name": "stderr",
     "output_type": "stream",
     "text": [
      "\r",
      "\u001b[32mloss: 3.66e-08:  33%|█████████████▌                           |  ETA: 0:00:29\u001b[39m"
     ]
    },
    {
     "data": {
      "text/plain": [
       "9.6102134f-8"
      ]
     },
     "metadata": {},
     "output_type": "display_data"
    },
    {
     "name": "stderr",
     "output_type": "stream",
     "text": [
      "\r",
      "\u001b[32mloss: 9.61e-08:  34%|█████████████▊                           |  ETA: 0:00:29\u001b[39m"
     ]
    },
    {
     "data": {
      "text/plain": [
       "1.2818843f-8"
      ]
     },
     "metadata": {},
     "output_type": "display_data"
    },
    {
     "name": "stderr",
     "output_type": "stream",
     "text": [
      "\r",
      "\u001b[32mloss: 1.28e-08:  34%|██████████████                           |  ETA: 0:00:29\u001b[39m"
     ]
    },
    {
     "data": {
      "text/plain": [
       "5.3481713f-8"
      ]
     },
     "metadata": {},
     "output_type": "display_data"
    },
    {
     "name": "stderr",
     "output_type": "stream",
     "text": [
      "\r",
      "\u001b[32mloss: 5.35e-08:  34%|██████████████▏                          |  ETA: 0:00:29\u001b[39m"
     ]
    },
    {
     "data": {
      "text/plain": [
       "4.8972012f-8"
      ]
     },
     "metadata": {},
     "output_type": "display_data"
    },
    {
     "name": "stderr",
     "output_type": "stream",
     "text": [
      "\r",
      "\u001b[32mloss: 4.9e-08:  35%|██████████████▍                          |  ETA: 0:00:28\u001b[39m"
     ]
    },
    {
     "data": {
      "text/plain": [
       "1.2014888f-8"
      ]
     },
     "metadata": {},
     "output_type": "display_data"
    },
    {
     "name": "stderr",
     "output_type": "stream",
     "text": [
      "\r",
      "\u001b[32mloss: 1.2e-08:  36%|██████████████▌                          |  ETA: 0:00:28\u001b[39m"
     ]
    },
    {
     "data": {
      "text/plain": [
       "5.6380046f-8"
      ]
     },
     "metadata": {},
     "output_type": "display_data"
    },
    {
     "name": "stderr",
     "output_type": "stream",
     "text": [
      "\r",
      "\u001b[32mloss: 5.64e-08:  36%|██████████████▊                          |  ETA: 0:00:28\u001b[39m"
     ]
    },
    {
     "data": {
      "text/plain": [
       "1.5918697f-8"
      ]
     },
     "metadata": {},
     "output_type": "display_data"
    },
    {
     "name": "stderr",
     "output_type": "stream",
     "text": [
      "\r",
      "\u001b[32mloss: 1.59e-08:  36%|███████████████                          |  ETA: 0:00:27\u001b[39m"
     ]
    },
    {
     "data": {
      "text/plain": [
       "2.3279778f-8"
      ]
     },
     "metadata": {},
     "output_type": "display_data"
    },
    {
     "name": "stderr",
     "output_type": "stream",
     "text": [
      "\r",
      "\u001b[32mloss: 2.33e-08:  37%|███████████████▏                         |  ETA: 0:00:27\u001b[39m"
     ]
    },
    {
     "data": {
      "text/plain": [
       "3.7680852f-8"
      ]
     },
     "metadata": {},
     "output_type": "display_data"
    },
    {
     "name": "stderr",
     "output_type": "stream",
     "text": [
      "\r",
      "\u001b[32mloss: 3.77e-08:  38%|███████████████▍                         |  ETA: 0:00:27\u001b[39m"
     ]
    },
    {
     "data": {
      "text/plain": [
       "4.4256243f-9"
      ]
     },
     "metadata": {},
     "output_type": "display_data"
    },
    {
     "name": "stderr",
     "output_type": "stream",
     "text": [
      "\r",
      "\u001b[32mloss: 4.43e-09:  38%|███████████████▋                         |  ETA: 0:00:26\u001b[39m"
     ]
    },
    {
     "data": {
      "text/plain": [
       "2.8624642f-8"
      ]
     },
     "metadata": {},
     "output_type": "display_data"
    },
    {
     "name": "stderr",
     "output_type": "stream",
     "text": [
      "\r",
      "\u001b[32mloss: 2.86e-08:  38%|███████████████▊                         |  ETA: 0:00:26\u001b[39m"
     ]
    },
    {
     "data": {
      "text/plain": [
       "1.8427345f-8"
      ]
     },
     "metadata": {},
     "output_type": "display_data"
    },
    {
     "name": "stderr",
     "output_type": "stream",
     "text": [
      "\r",
      "\u001b[32mloss: 1.84e-08:  39%|████████████████                         |  ETA: 0:00:26\u001b[39m"
     ]
    },
    {
     "data": {
      "text/plain": [
       "7.13672f-9"
      ]
     },
     "metadata": {},
     "output_type": "display_data"
    },
    {
     "name": "stderr",
     "output_type": "stream",
     "text": [
      "\r",
      "\u001b[32mloss: 7.14e-09:  40%|████████████████▎                        |  ETA: 0:00:26\u001b[39m"
     ]
    },
    {
     "data": {
      "text/plain": [
       "2.6047758f-8"
      ]
     },
     "metadata": {},
     "output_type": "display_data"
    },
    {
     "name": "stderr",
     "output_type": "stream",
     "text": [
      "\r",
      "\u001b[32mloss: 2.6e-08:  40%|████████████████▍                        |  ETA: 0:00:25\u001b[39m"
     ]
    },
    {
     "data": {
      "text/plain": [
       "6.4708248f-9"
      ]
     },
     "metadata": {},
     "output_type": "display_data"
    },
    {
     "name": "stderr",
     "output_type": "stream",
     "text": [
      "\r",
      "\u001b[32mloss: 6.47e-09:  40%|████████████████▋                        |  ETA: 0:00:25\u001b[39m"
     ]
    },
    {
     "data": {
      "text/plain": [
       "9.32191f-9"
      ]
     },
     "metadata": {},
     "output_type": "display_data"
    },
    {
     "name": "stderr",
     "output_type": "stream",
     "text": [
      "\r",
      "\u001b[32mloss: 9.32e-09:  41%|████████████████▊                        |  ETA: 0:00:25\u001b[39m"
     ]
    },
    {
     "data": {
      "text/plain": [
       "1.7907428f-8"
      ]
     },
     "metadata": {},
     "output_type": "display_data"
    },
    {
     "name": "stderr",
     "output_type": "stream",
     "text": [
      "\r",
      "\u001b[32mloss: 1.79e-08:  42%|█████████████████                        |  ETA: 0:00:24\u001b[39m"
     ]
    },
    {
     "data": {
      "text/plain": [
       "2.9817355f-9"
      ]
     },
     "metadata": {},
     "output_type": "display_data"
    },
    {
     "name": "stderr",
     "output_type": "stream",
     "text": [
      "\r",
      "\u001b[32mloss: 2.98e-09:  42%|█████████████████▎                       |  ETA: 0:00:24\u001b[39m"
     ]
    },
    {
     "data": {
      "text/plain": [
       "1.1354287f-8"
      ]
     },
     "metadata": {},
     "output_type": "display_data"
    },
    {
     "name": "stderr",
     "output_type": "stream",
     "text": [
      "\r",
      "\u001b[32mloss: 1.14e-08:  42%|█████████████████▍                       |  ETA: 0:00:24\u001b[39m"
     ]
    },
    {
     "data": {
      "text/plain": [
       "1.0658769f-8"
      ]
     },
     "metadata": {},
     "output_type": "display_data"
    },
    {
     "name": "stderr",
     "output_type": "stream",
     "text": [
      "\r",
      "\u001b[32mloss: 1.07e-08:  43%|█████████████████▋                       |  ETA: 0:00:24\u001b[39m"
     ]
    },
    {
     "data": {
      "text/plain": [
       "1.4445884f-9"
      ]
     },
     "metadata": {},
     "output_type": "display_data"
    },
    {
     "name": "stderr",
     "output_type": "stream",
     "text": [
      "\r",
      "\u001b[32mloss: 1.44e-09:  44%|█████████████████▉                       |  ETA: 0:00:23\u001b[39m"
     ]
    },
    {
     "data": {
      "text/plain": [
       "1.0335995f-8"
      ]
     },
     "metadata": {},
     "output_type": "display_data"
    },
    {
     "name": "stderr",
     "output_type": "stream",
     "text": [
      "\r",
      "\u001b[32mloss: 1.03e-08:  44%|██████████████████                       |  ETA: 0:00:23\u001b[39m"
     ]
    },
    {
     "data": {
      "text/plain": [
       "6.4774532f-9"
      ]
     },
     "metadata": {},
     "output_type": "display_data"
    },
    {
     "name": "stderr",
     "output_type": "stream",
     "text": [
      "\r",
      "\u001b[32mloss: 6.48e-09:  44%|██████████████████▎                      |  ETA: 0:00:23\u001b[39m"
     ]
    },
    {
     "data": {
      "text/plain": [
       "1.5835213f-9"
      ]
     },
     "metadata": {},
     "output_type": "display_data"
    },
    {
     "name": "stderr",
     "output_type": "stream",
     "text": [
      "\r",
      "\u001b[32mloss: 1.58e-09:  45%|██████████████████▌                      |  ETA: 0:00:23\u001b[39m"
     ]
    },
    {
     "data": {
      "text/plain": [
       "8.252716f-9"
      ]
     },
     "metadata": {},
     "output_type": "display_data"
    },
    {
     "name": "stderr",
     "output_type": "stream",
     "text": [
      "\r",
      "\u001b[32mloss: 8.25e-09:  46%|██████████████████▋                      |  ETA: 0:00:22\u001b[39m"
     ]
    },
    {
     "data": {
      "text/plain": [
       "3.8757415f-9"
      ]
     },
     "metadata": {},
     "output_type": "display_data"
    },
    {
     "name": "stderr",
     "output_type": "stream",
     "text": [
      "\r",
      "\u001b[32mloss: 3.88e-09:  46%|██████████████████▉                      |  ETA: 0:00:22\u001b[39m"
     ]
    },
    {
     "data": {
      "text/plain": [
       "1.680087f-9"
      ]
     },
     "metadata": {},
     "output_type": "display_data"
    },
    {
     "name": "stderr",
     "output_type": "stream",
     "text": [
      "\r",
      "\u001b[32mloss: 1.68e-09:  46%|███████████████████▏                     |  ETA: 0:00:22\u001b[39m"
     ]
    },
    {
     "data": {
      "text/plain": [
       "6.386199f-9"
      ]
     },
     "metadata": {},
     "output_type": "display_data"
    },
    {
     "name": "stderr",
     "output_type": "stream",
     "text": [
      "\r",
      "\u001b[32mloss: 6.39e-09:  47%|███████████████████▎                     |  ETA: 0:00:22\u001b[39m"
     ]
    },
    {
     "data": {
      "text/plain": [
       "2.5154263f-9"
      ]
     },
     "metadata": {},
     "output_type": "display_data"
    },
    {
     "name": "stderr",
     "output_type": "stream",
     "text": [
      "\r",
      "\u001b[32mloss: 2.52e-09:  48%|███████████████████▌                     |  ETA: 0:00:21\u001b[39m"
     ]
    },
    {
     "data": {
      "text/plain": [
       "1.398453f-9"
      ]
     },
     "metadata": {},
     "output_type": "display_data"
    },
    {
     "name": "stderr",
     "output_type": "stream",
     "text": [
      "\r",
      "\u001b[32mloss: 1.4e-09:  48%|███████████████████▋                     |  ETA: 0:00:21\u001b[39m"
     ]
    },
    {
     "data": {
      "text/plain": [
       "4.761215f-9"
      ]
     },
     "metadata": {},
     "output_type": "display_data"
    },
    {
     "name": "stderr",
     "output_type": "stream",
     "text": [
      "\r",
      "\u001b[32mloss: 4.76e-09:  48%|███████████████████▉                     |  ETA: 0:00:21\u001b[39m"
     ]
    },
    {
     "data": {
      "text/plain": [
       "1.8970288f-9"
      ]
     },
     "metadata": {},
     "output_type": "display_data"
    },
    {
     "name": "stderr",
     "output_type": "stream",
     "text": [
      "\r",
      "\u001b[32mloss: 1.9e-09:  49%|████████████████████▏                    |  ETA: 0:00:20\u001b[39m"
     ]
    },
    {
     "data": {
      "text/plain": [
       "9.316913f-10"
      ]
     },
     "metadata": {},
     "output_type": "display_data"
    },
    {
     "name": "stderr",
     "output_type": "stream",
     "text": [
      "\r",
      "\u001b[32mloss: 9.32e-10:  50%|████████████████████▎                    |  ETA: 0:00:20\u001b[39m"
     ]
    },
    {
     "data": {
      "text/plain": [
       "3.5701355f-9"
      ]
     },
     "metadata": {},
     "output_type": "display_data"
    },
    {
     "name": "stderr",
     "output_type": "stream",
     "text": [
      "\r",
      "\u001b[32mloss: 3.57e-09:  50%|████████████████████▌                    |  ETA: 0:00:20\u001b[39m"
     ]
    },
    {
     "data": {
      "text/plain": [
       "1.7477474f-9"
      ]
     },
     "metadata": {},
     "output_type": "display_data"
    },
    {
     "name": "stderr",
     "output_type": "stream",
     "text": [
      "\r",
      "\u001b[32mloss: 1.75e-09:  50%|████████████████████▊                    |  ETA: 0:00:20\u001b[39m"
     ]
    },
    {
     "data": {
      "text/plain": [
       "4.4932527f-10"
      ]
     },
     "metadata": {},
     "output_type": "display_data"
    },
    {
     "name": "stderr",
     "output_type": "stream",
     "text": [
      "\r",
      "\u001b[32mloss: 4.49e-10:  51%|████████████████████▉                    |  ETA: 0:00:19\u001b[39m"
     ]
    },
    {
     "data": {
      "text/plain": [
       "2.4341313f-9"
      ]
     },
     "metadata": {},
     "output_type": "display_data"
    },
    {
     "name": "stderr",
     "output_type": "stream",
     "text": [
      "\r",
      "\u001b[32mloss: 2.43e-09:  52%|█████████████████████▏                   |  ETA: 0:00:19\u001b[39m"
     ]
    },
    {
     "data": {
      "text/plain": [
       "1.6538658f-9"
      ]
     },
     "metadata": {},
     "output_type": "display_data"
    },
    {
     "name": "stderr",
     "output_type": "stream",
     "text": [
      "\r",
      "\u001b[32mloss: 1.65e-09:  52%|█████████████████████▍                   |  ETA: 0:00:19\u001b[39m"
     ]
    },
    {
     "data": {
      "text/plain": [
       "3.3362477f-10"
      ]
     },
     "metadata": {},
     "output_type": "display_data"
    },
    {
     "name": "stderr",
     "output_type": "stream",
     "text": [
      "\r",
      "\u001b[32mloss: 3.34e-10:  52%|█████████████████████▌                   |  ETA: 0:00:19\u001b[39m"
     ]
    },
    {
     "data": {
      "text/plain": [
       "1.5940081f-9"
      ]
     },
     "metadata": {},
     "output_type": "display_data"
    },
    {
     "name": "stderr",
     "output_type": "stream",
     "text": [
      "\r",
      "\u001b[32mloss: 1.59e-09:  53%|█████████████████████▊                   |  ETA: 0:00:18\u001b[39m"
     ]
    },
    {
     "data": {
      "text/plain": [
       "1.5426782f-9"
      ]
     },
     "metadata": {},
     "output_type": "display_data"
    },
    {
     "name": "stderr",
     "output_type": "stream",
     "text": [
      "\r",
      "\u001b[32mloss: 1.54e-09:  54%|█████████████████████▉                   |  ETA: 0:00:18\u001b[39m"
     ]
    },
    {
     "data": {
      "text/plain": [
       "2.070392f-10"
      ]
     },
     "metadata": {},
     "output_type": "display_data"
    },
    {
     "name": "stderr",
     "output_type": "stream",
     "text": [
      "\r",
      "\u001b[32mloss: 2.07e-10:  54%|██████████████████████▏                  |  ETA: 0:00:18\u001b[39m"
     ]
    },
    {
     "data": {
      "text/plain": [
       "8.084586f-10"
      ]
     },
     "metadata": {},
     "output_type": "display_data"
    },
    {
     "name": "stderr",
     "output_type": "stream",
     "text": [
      "\r",
      "\u001b[32mloss: 8.08e-10:  54%|██████████████████████▍                  |  ETA: 0:00:18\u001b[39m"
     ]
    },
    {
     "data": {
      "text/plain": [
       "1.4429173f-9"
      ]
     },
     "metadata": {},
     "output_type": "display_data"
    },
    {
     "name": "stderr",
     "output_type": "stream",
     "text": [
      "\r",
      "\u001b[32mloss: 1.44e-09:  55%|██████████████████████▌                  |  ETA: 0:00:17\u001b[39m"
     ]
    },
    {
     "data": {
      "text/plain": [
       "4.5616338f-10"
      ]
     },
     "metadata": {},
     "output_type": "display_data"
    },
    {
     "name": "stderr",
     "output_type": "stream",
     "text": [
      "\r",
      "\u001b[32mloss: 4.56e-10:  56%|██████████████████████▊                  |  ETA: 0:00:17\u001b[39m"
     ]
    },
    {
     "data": {
      "text/plain": [
       "2.3661223f-10"
      ]
     },
     "metadata": {},
     "output_type": "display_data"
    },
    {
     "name": "stderr",
     "output_type": "stream",
     "text": [
      "\r",
      "\u001b[32mloss: 2.37e-10:  56%|███████████████████████                  |  ETA: 0:00:17\u001b[39m"
     ]
    },
    {
     "data": {
      "text/plain": [
       "9.735126f-10"
      ]
     },
     "metadata": {},
     "output_type": "display_data"
    },
    {
     "name": "stderr",
     "output_type": "stream",
     "text": [
      "\r",
      "\u001b[32mloss: 9.74e-10:  56%|███████████████████████▏                 |  ETA: 0:00:17\u001b[39m"
     ]
    },
    {
     "data": {
      "text/plain": [
       "7.171547f-10"
      ]
     },
     "metadata": {},
     "output_type": "display_data"
    },
    {
     "name": "stderr",
     "output_type": "stream",
     "text": [
      "\r",
      "\u001b[32mloss: 7.17e-10:  57%|███████████████████████▍                 |  ETA: 0:00:16\u001b[39m"
     ]
    },
    {
     "data": {
      "text/plain": [
       "1.014046f-10"
      ]
     },
     "metadata": {},
     "output_type": "display_data"
    },
    {
     "name": "stderr",
     "output_type": "stream",
     "text": [
      "\r",
      "\u001b[32mloss: 1.01e-10:  58%|███████████████████████▋                 |  ETA: 0:00:16\u001b[39m"
     ]
    },
    {
     "data": {
      "text/plain": [
       "4.3215692f-10"
      ]
     },
     "metadata": {},
     "output_type": "display_data"
    },
    {
     "name": "stderr",
     "output_type": "stream",
     "text": [
      "\r",
      "\u001b[32mloss: 4.32e-10:  58%|███████████████████████▊                 |  ETA: 0:00:16\u001b[39m"
     ]
    },
    {
     "data": {
      "text/plain": [
       "7.3598616f-10"
      ]
     },
     "metadata": {},
     "output_type": "display_data"
    },
    {
     "name": "stderr",
     "output_type": "stream",
     "text": [
      "\r",
      "\u001b[32mloss: 7.36e-10:  58%|████████████████████████                 |  ETA: 0:00:16\u001b[39m"
     ]
    },
    {
     "data": {
      "text/plain": [
       "2.809771f-10"
      ]
     },
     "metadata": {},
     "output_type": "display_data"
    },
    {
     "name": "stderr",
     "output_type": "stream",
     "text": [
      "\r",
      "\u001b[32mloss: 2.81e-10:  59%|████████████████████████▎                |  ETA: 0:00:16\u001b[39m"
     ]
    },
    {
     "data": {
      "text/plain": [
       "7.258693f-11"
      ]
     },
     "metadata": {},
     "output_type": "display_data"
    },
    {
     "name": "stderr",
     "output_type": "stream",
     "text": [
      "\r",
      "\u001b[32mloss: 7.26e-11:  60%|████████████████████████▍                |  ETA: 0:00:15\u001b[39m"
     ]
    },
    {
     "data": {
      "text/plain": [
       "4.2346926f-10"
      ]
     },
     "metadata": {},
     "output_type": "display_data"
    },
    {
     "name": "stderr",
     "output_type": "stream",
     "text": [
      "\r",
      "\u001b[32mloss: 4.23e-10:  60%|████████████████████████▋                |  ETA: 0:00:15\u001b[39m"
     ]
    },
    {
     "data": {
      "text/plain": [
       "4.719037f-10"
      ]
     },
     "metadata": {},
     "output_type": "display_data"
    },
    {
     "name": "stderr",
     "output_type": "stream",
     "text": [
      "\r",
      "\u001b[32mloss: 4.72e-10:  60%|████████████████████████▊                |  ETA: 0:00:15\u001b[39m"
     ]
    },
    {
     "data": {
      "text/plain": [
       "1.2407517f-10"
      ]
     },
     "metadata": {},
     "output_type": "display_data"
    },
    {
     "name": "stderr",
     "output_type": "stream",
     "text": [
      "\r",
      "\u001b[32mloss: 1.24e-10:  61%|█████████████████████████                |  ETA: 0:00:15\u001b[39m"
     ]
    },
    {
     "data": {
      "text/plain": [
       "9.0757846f-11"
      ]
     },
     "metadata": {},
     "output_type": "display_data"
    },
    {
     "name": "stderr",
     "output_type": "stream",
     "text": [
      "\r",
      "\u001b[32mloss: 9.08e-11:  62%|█████████████████████████▎               |  ETA: 0:00:14\u001b[39m"
     ]
    },
    {
     "data": {
      "text/plain": [
       "3.3626724f-10"
      ]
     },
     "metadata": {},
     "output_type": "display_data"
    },
    {
     "name": "stderr",
     "output_type": "stream",
     "text": [
      "\r",
      "\u001b[32mloss: 3.36e-10:  62%|█████████████████████████▍               |  ETA: 0:00:14\u001b[39m"
     ]
    },
    {
     "data": {
      "text/plain": [
       "3.0664593f-10"
      ]
     },
     "metadata": {},
     "output_type": "display_data"
    },
    {
     "name": "stderr",
     "output_type": "stream",
     "text": [
      "\r",
      "\u001b[32mloss: 3.07e-10:  62%|█████████████████████████▋               |  ETA: 0:00:14\u001b[39m"
     ]
    },
    {
     "data": {
      "text/plain": [
       "7.767323f-11"
      ]
     },
     "metadata": {},
     "output_type": "display_data"
    },
    {
     "name": "stderr",
     "output_type": "stream",
     "text": [
      "\r",
      "\u001b[32mloss: 7.77e-11:  63%|█████████████████████████▉               |  ETA: 0:00:14\u001b[39m"
     ]
    },
    {
     "data": {
      "text/plain": [
       "7.3691775f-11"
      ]
     },
     "metadata": {},
     "output_type": "display_data"
    },
    {
     "name": "stderr",
     "output_type": "stream",
     "text": [
      "\r",
      "\u001b[32mloss: 7.37e-11:  64%|██████████████████████████               |  ETA: 0:00:14\u001b[39m"
     ]
    },
    {
     "data": {
      "text/plain": [
       "2.4121133f-10"
      ]
     },
     "metadata": {},
     "output_type": "display_data"
    },
    {
     "name": "stderr",
     "output_type": "stream",
     "text": [
      "\r",
      "\u001b[32mloss: 2.41e-10:  64%|██████████████████████████▎              |  ETA: 0:00:13\u001b[39m"
     ]
    },
    {
     "data": {
      "text/plain": [
       "2.2920697f-10"
      ]
     },
     "metadata": {},
     "output_type": "display_data"
    },
    {
     "name": "stderr",
     "output_type": "stream",
     "text": [
      "\r",
      "\u001b[32mloss: 2.29e-10:  64%|██████████████████████████▌              |  ETA: 0:00:13\u001b[39m"
     ]
    },
    {
     "data": {
      "text/plain": [
       "6.9309086f-11"
      ]
     },
     "metadata": {},
     "output_type": "display_data"
    },
    {
     "name": "stderr",
     "output_type": "stream",
     "text": [
      "\r",
      "\u001b[32mloss: 6.93e-11:  65%|██████████████████████████▋              |  ETA: 0:00:13\u001b[39m"
     ]
    },
    {
     "data": {
      "text/plain": [
       "3.2004486f-11"
      ]
     },
     "metadata": {},
     "output_type": "display_data"
    },
    {
     "name": "stderr",
     "output_type": "stream",
     "text": [
      "\r",
      "\u001b[32mloss: 3.2e-11:  66%|██████████████████████████▉              |  ETA: 0:00:13\u001b[39m"
     ]
    },
    {
     "data": {
      "text/plain": [
       "1.3695096f-10"
      ]
     },
     "metadata": {},
     "output_type": "display_data"
    },
    {
     "name": "stderr",
     "output_type": "stream",
     "text": [
      "\r",
      "\u001b[32mloss: 1.37e-10:  66%|███████████████████████████              |  ETA: 0:00:12\u001b[39m"
     ]
    },
    {
     "data": {
      "text/plain": [
       "1.6781117f-10"
      ]
     },
     "metadata": {},
     "output_type": "display_data"
    },
    {
     "name": "stderr",
     "output_type": "stream",
     "text": [
      "\r",
      "\u001b[32mloss: 1.68e-10:  66%|███████████████████████████▎             |  ETA: 0:00:12\u001b[39m"
     ]
    },
    {
     "data": {
      "text/plain": [
       "8.08529f-11"
      ]
     },
     "metadata": {},
     "output_type": "display_data"
    },
    {
     "name": "stderr",
     "output_type": "stream",
     "text": [
      "\r",
      "\u001b[32mloss: 8.09e-11:  67%|███████████████████████████▌             |  ETA: 0:00:12\u001b[39m"
     ]
    },
    {
     "data": {
      "text/plain": [
       "1.3639771f-11"
      ]
     },
     "metadata": {},
     "output_type": "display_data"
    },
    {
     "name": "stderr",
     "output_type": "stream",
     "text": [
      "\r",
      "\u001b[32mloss: 1.36e-11:  68%|███████████████████████████▋             |  ETA: 0:00:12\u001b[39m"
     ]
    },
    {
     "data": {
      "text/plain": [
       "5.490103f-11"
      ]
     },
     "metadata": {},
     "output_type": "display_data"
    },
    {
     "name": "stderr",
     "output_type": "stream",
     "text": [
      "\r",
      "\u001b[32mloss: 5.49e-11:  68%|███████████████████████████▉             |  ETA: 0:00:12\u001b[39m"
     ]
    },
    {
     "data": {
      "text/plain": [
       "1.11842036f-10"
      ]
     },
     "metadata": {},
     "output_type": "display_data"
    },
    {
     "name": "stderr",
     "output_type": "stream",
     "text": [
      "\r",
      "\u001b[32mloss: 1.12e-10:  68%|████████████████████████████▏            |  ETA: 0:00:11\u001b[39m"
     ]
    },
    {
     "data": {
      "text/plain": [
       "9.335465f-11"
      ]
     },
     "metadata": {},
     "output_type": "display_data"
    },
    {
     "name": "stderr",
     "output_type": "stream",
     "text": [
      "\r",
      "\u001b[32mloss: 9.34e-11:  69%|████████████████████████████▎            |  ETA: 0:00:11\u001b[39m"
     ]
    },
    {
     "data": {
      "text/plain": [
       "3.1382678f-11"
      ]
     },
     "metadata": {},
     "output_type": "display_data"
    },
    {
     "name": "stderr",
     "output_type": "stream",
     "text": [
      "\r",
      "\u001b[32mloss: 3.14e-11:  70%|████████████████████████████▌            |  ETA: 0:00:11\u001b[39m"
     ]
    },
    {
     "data": {
      "text/plain": [
       "1.0934752f-11"
      ]
     },
     "metadata": {},
     "output_type": "display_data"
    },
    {
     "name": "stderr",
     "output_type": "stream",
     "text": [
      "\r",
      "\u001b[32mloss: 1.09e-11:  70%|████████████████████████████▊            |  ETA: 0:00:11\u001b[39m"
     ]
    },
    {
     "data": {
      "text/plain": [
       "4.7165213f-11"
      ]
     },
     "metadata": {},
     "output_type": "display_data"
    },
    {
     "name": "stderr",
     "output_type": "stream",
     "text": [
      "\r",
      "\u001b[32mloss: 4.72e-11:  70%|████████████████████████████▉            |  ETA: 0:00:11\u001b[39m"
     ]
    },
    {
     "data": {
      "text/plain": [
       "7.9282775f-11"
      ]
     },
     "metadata": {},
     "output_type": "display_data"
    },
    {
     "name": "stderr",
     "output_type": "stream",
     "text": [
      "\r",
      "\u001b[32mloss: 7.93e-11:  71%|█████████████████████████████▏           |  ETA: 0:00:10\u001b[39m"
     ]
    },
    {
     "data": {
      "text/plain": [
       "6.540915f-11"
      ]
     },
     "metadata": {},
     "output_type": "display_data"
    },
    {
     "name": "stderr",
     "output_type": "stream",
     "text": [
      "\r",
      "\u001b[32mloss: 6.54e-11:  72%|█████████████████████████████▍           |  ETA: 0:00:10\u001b[39m"
     ]
    },
    {
     "data": {
      "text/plain": [
       "2.5650643f-11"
      ]
     },
     "metadata": {},
     "output_type": "display_data"
    },
    {
     "name": "stderr",
     "output_type": "stream",
     "text": [
      "\r",
      "\u001b[32mloss: 2.57e-11:  72%|█████████████████████████████▌           |  ETA: 0:00:10\u001b[39m"
     ]
    },
    {
     "data": {
      "text/plain": [
       "6.199135f-12"
      ]
     },
     "metadata": {},
     "output_type": "display_data"
    },
    {
     "name": "stderr",
     "output_type": "stream",
     "text": [
      "\r",
      "\u001b[32mloss: 6.2e-12:  72%|█████████████████████████████▊           |  ETA: 0:00:10\u001b[39m"
     ]
    },
    {
     "data": {
      "text/plain": [
       "2.4168374f-11"
      ]
     },
     "metadata": {},
     "output_type": "display_data"
    },
    {
     "name": "stderr",
     "output_type": "stream",
     "text": [
      "\r",
      "\u001b[32mloss: 2.42e-11:  73%|█████████████████████████████▉           |  ETA: 0:00:10\u001b[39m"
     ]
    },
    {
     "data": {
      "text/plain": [
       "4.91708f-11"
      ]
     },
     "metadata": {},
     "output_type": "display_data"
    },
    {
     "name": "stderr",
     "output_type": "stream",
     "text": [
      "\r",
      "\u001b[32mloss: 4.92e-11:  74%|██████████████████████████████▏          |  ETA: 0:00:09\u001b[39m"
     ]
    },
    {
     "data": {
      "text/plain": [
       "5.1582193f-11"
      ]
     },
     "metadata": {},
     "output_type": "display_data"
    },
    {
     "name": "stderr",
     "output_type": "stream",
     "text": [
      "\r",
      "\u001b[32mloss: 5.16e-11:  74%|██████████████████████████████▍          |  ETA: 0:00:09\u001b[39m"
     ]
    },
    {
     "data": {
      "text/plain": [
       "3.1520807f-11"
      ]
     },
     "metadata": {},
     "output_type": "display_data"
    },
    {
     "name": "stderr",
     "output_type": "stream",
     "text": [
      "\r",
      "\u001b[32mloss: 3.15e-11:  74%|██████████████████████████████▌          |  ETA: 0:00:09\u001b[39m"
     ]
    },
    {
     "data": {
      "text/plain": [
       "9.273197f-12"
      ]
     },
     "metadata": {},
     "output_type": "display_data"
    },
    {
     "name": "stderr",
     "output_type": "stream",
     "text": [
      "\r",
      "\u001b[32mloss: 9.27e-12:  75%|██████████████████████████████▊          |  ETA: 0:00:09\u001b[39m"
     ]
    },
    {
     "data": {
      "text/plain": [
       "4.5118098f-12"
      ]
     },
     "metadata": {},
     "output_type": "display_data"
    },
    {
     "name": "stderr",
     "output_type": "stream",
     "text": [
      "\r",
      "\u001b[32mloss: 4.51e-12:  76%|███████████████████████████████          |  ETA: 0:00:09\u001b[39m"
     ]
    },
    {
     "data": {
      "text/plain": [
       "1.6501333f-11"
      ]
     },
     "metadata": {},
     "output_type": "display_data"
    },
    {
     "name": "stderr",
     "output_type": "stream",
     "text": [
      "\r",
      "\u001b[32mloss: 1.65e-11:  76%|███████████████████████████████▏         |  ETA: 0:00:08\u001b[39m"
     ]
    },
    {
     "data": {
      "text/plain": [
       "2.9366762f-11"
      ]
     },
     "metadata": {},
     "output_type": "display_data"
    },
    {
     "name": "stderr",
     "output_type": "stream",
     "text": [
      "\r",
      "\u001b[32mloss: 2.94e-11:  76%|███████████████████████████████▍         |  ETA: 0:00:08\u001b[39m"
     ]
    },
    {
     "data": {
      "text/plain": [
       "3.2094122f-11"
      ]
     },
     "metadata": {},
     "output_type": "display_data"
    },
    {
     "name": "stderr",
     "output_type": "stream",
     "text": [
      "\r",
      "\u001b[32mloss: 3.21e-11:  77%|███████████████████████████████▋         |  ETA: 0:00:08\u001b[39m"
     ]
    },
    {
     "data": {
      "text/plain": [
       "2.4058092f-11"
      ]
     },
     "metadata": {},
     "output_type": "display_data"
    },
    {
     "name": "stderr",
     "output_type": "stream",
     "text": [
      "\r",
      "\u001b[32mloss: 2.41e-11:  78%|███████████████████████████████▊         |  ETA: 0:00:08\u001b[39m"
     ]
    },
    {
     "data": {
      "text/plain": [
       "1.15543556f-11"
      ]
     },
     "metadata": {},
     "output_type": "display_data"
    },
    {
     "name": "stderr",
     "output_type": "stream",
     "text": [
      "\r",
      "\u001b[32mloss: 1.16e-11:  78%|████████████████████████████████         |  ETA: 0:00:08\u001b[39m"
     ]
    },
    {
     "data": {
      "text/plain": [
       "2.763019f-12"
      ]
     },
     "metadata": {},
     "output_type": "display_data"
    },
    {
     "name": "stderr",
     "output_type": "stream",
     "text": [
      "\r",
      "\u001b[32mloss: 2.76e-12:  78%|████████████████████████████████▏        |  ETA: 0:00:08\u001b[39m"
     ]
    },
    {
     "data": {
      "text/plain": [
       "3.72834f-12"
      ]
     },
     "metadata": {},
     "output_type": "display_data"
    },
    {
     "name": "stderr",
     "output_type": "stream",
     "text": [
      "\r",
      "\u001b[32mloss: 3.73e-12:  79%|████████████████████████████████▍        |  ETA: 0:00:07\u001b[39m"
     ]
    },
    {
     "data": {
      "text/plain": [
       "1.1074927f-11"
      ]
     },
     "metadata": {},
     "output_type": "display_data"
    },
    {
     "name": "stderr",
     "output_type": "stream",
     "text": [
      "\r",
      "\u001b[32mloss: 1.11e-11:  80%|████████████████████████████████▋        |  ETA: 0:00:07\u001b[39m"
     ]
    },
    {
     "data": {
      "text/plain": [
       "1.8354384f-11"
      ]
     },
     "metadata": {},
     "output_type": "display_data"
    },
    {
     "name": "stderr",
     "output_type": "stream",
     "text": [
      "\r",
      "\u001b[32mloss: 1.84e-11:  80%|████████████████████████████████▊        |  ETA: 0:00:07\u001b[39m"
     ]
    },
    {
     "data": {
      "text/plain": [
       "2.0275287f-11"
      ]
     },
     "metadata": {},
     "output_type": "display_data"
    },
    {
     "name": "stderr",
     "output_type": "stream",
     "text": [
      "\r",
      "\u001b[32mloss: 2.03e-11:  80%|█████████████████████████████████        |  ETA: 0:00:07\u001b[39m"
     ]
    },
    {
     "data": {
      "text/plain": [
       "1.8130185f-11"
      ]
     },
     "metadata": {},
     "output_type": "display_data"
    },
    {
     "name": "stderr",
     "output_type": "stream",
     "text": [
      "\r",
      "\u001b[32mloss: 1.81e-11:  81%|█████████████████████████████████▎       |  ETA: 0:00:07\u001b[39m"
     ]
    },
    {
     "data": {
      "text/plain": [
       "1.2002061f-11"
      ]
     },
     "metadata": {},
     "output_type": "display_data"
    },
    {
     "name": "stderr",
     "output_type": "stream",
     "text": [
      "\r",
      "\u001b[32mloss: 1.2e-11:  82%|█████████████████████████████████▍       |  ETA: 0:00:06\u001b[39m"
     ]
    },
    {
     "data": {
      "text/plain": [
       "6.3607123f-12"
      ]
     },
     "metadata": {},
     "output_type": "display_data"
    },
    {
     "name": "stderr",
     "output_type": "stream",
     "text": [
      "\r",
      "\u001b[32mloss: 6.36e-12:  82%|█████████████████████████████████▋       |  ETA: 0:00:06\u001b[39m"
     ]
    },
    {
     "data": {
      "text/plain": [
       "2.3686428f-12"
      ]
     },
     "metadata": {},
     "output_type": "display_data"
    },
    {
     "name": "stderr",
     "output_type": "stream",
     "text": [
      "\r",
      "\u001b[32mloss: 2.37e-12:  82%|█████████████████████████████████▉       |  ETA: 0:00:06\u001b[39m"
     ]
    },
    {
     "data": {
      "text/plain": [
       "2.1192475f-12"
      ]
     },
     "metadata": {},
     "output_type": "display_data"
    },
    {
     "name": "stderr",
     "output_type": "stream",
     "text": [
      "\r",
      "\u001b[32mloss: 2.12e-12:  83%|██████████████████████████████████       |  ETA: 0:00:06\u001b[39m"
     ]
    },
    {
     "data": {
      "text/plain": [
       "4.737388f-12"
      ]
     },
     "metadata": {},
     "output_type": "display_data"
    },
    {
     "name": "stderr",
     "output_type": "stream",
     "text": [
      "\r",
      "\u001b[32mloss: 4.74e-12:  84%|██████████████████████████████████▎      |  ETA: 0:00:06\u001b[39m"
     ]
    },
    {
     "data": {
      "text/plain": [
       "8.655219f-12"
      ]
     },
     "metadata": {},
     "output_type": "display_data"
    },
    {
     "name": "stderr",
     "output_type": "stream",
     "text": [
      "\r",
      "\u001b[32mloss: 8.66e-12:  84%|██████████████████████████████████▌      |  ETA: 0:00:05\u001b[39m"
     ]
    },
    {
     "data": {
      "text/plain": [
       "1.3150982f-11"
      ]
     },
     "metadata": {},
     "output_type": "display_data"
    },
    {
     "name": "stderr",
     "output_type": "stream",
     "text": [
      "\r",
      "\u001b[32mloss: 1.32e-11:  84%|██████████████████████████████████▋      |  ETA: 0:00:05\u001b[39m"
     ]
    },
    {
     "data": {
      "text/plain": [
       "1.5904876f-11"
      ]
     },
     "metadata": {},
     "output_type": "display_data"
    },
    {
     "name": "stderr",
     "output_type": "stream",
     "text": [
      "\r",
      "\u001b[32mloss: 1.59e-11:  85%|██████████████████████████████████▉      |  ETA: 0:00:05\u001b[39m"
     ]
    },
    {
     "data": {
      "text/plain": [
       "1.8337198f-11"
      ]
     },
     "metadata": {},
     "output_type": "display_data"
    },
    {
     "name": "stderr",
     "output_type": "stream",
     "text": [
      "\r",
      "\u001b[32mloss: 1.83e-11:  86%|███████████████████████████████████      |  ETA: 0:00:05\u001b[39m"
     ]
    },
    {
     "data": {
      "text/plain": [
       "2.0529566f-11"
      ]
     },
     "metadata": {},
     "output_type": "display_data"
    },
    {
     "name": "stderr",
     "output_type": "stream",
     "text": [
      "\r",
      "\u001b[32mloss: 2.05e-11:  86%|███████████████████████████████████▎     |  ETA: 0:00:05\u001b[39m"
     ]
    },
    {
     "data": {
      "text/plain": [
       "2.2496012f-11"
      ]
     },
     "metadata": {},
     "output_type": "display_data"
    },
    {
     "name": "stderr",
     "output_type": "stream",
     "text": [
      "\r",
      "\u001b[32mloss: 2.25e-11:  86%|███████████████████████████████████▌     |  ETA: 0:00:05\u001b[39m"
     ]
    },
    {
     "data": {
      "text/plain": [
       "2.4702788f-11"
      ]
     },
     "metadata": {},
     "output_type": "display_data"
    },
    {
     "name": "stderr",
     "output_type": "stream",
     "text": [
      "\r",
      "\u001b[32mloss: 2.47e-11:  87%|███████████████████████████████████▋     |  ETA: 0:00:04\u001b[39m"
     ]
    },
    {
     "data": {
      "text/plain": [
       "2.9065226f-11"
      ]
     },
     "metadata": {},
     "output_type": "display_data"
    },
    {
     "name": "stderr",
     "output_type": "stream",
     "text": [
      "\r",
      "\u001b[32mloss: 2.91e-11:  88%|███████████████████████████████████▉     |  ETA: 0:00:04\u001b[39m"
     ]
    },
    {
     "data": {
      "text/plain": [
       "3.672004f-11"
      ]
     },
     "metadata": {},
     "output_type": "display_data"
    },
    {
     "name": "stderr",
     "output_type": "stream",
     "text": [
      "\r",
      "\u001b[32mloss: 3.67e-11:  88%|████████████████████████████████████▏    |  ETA: 0:00:04\u001b[39m"
     ]
    },
    {
     "data": {
      "text/plain": [
       "5.1182326f-11"
      ]
     },
     "metadata": {},
     "output_type": "display_data"
    },
    {
     "name": "stderr",
     "output_type": "stream",
     "text": [
      "\r",
      "\u001b[32mloss: 5.12e-11:  88%|████████████████████████████████████▎    |  ETA: 0:00:04\u001b[39m"
     ]
    },
    {
     "data": {
      "text/plain": [
       "7.5631064f-11"
      ]
     },
     "metadata": {},
     "output_type": "display_data"
    },
    {
     "name": "stderr",
     "output_type": "stream",
     "text": [
      "\r",
      "\u001b[32mloss: 7.56e-11:  89%|████████████████████████████████████▌    |  ETA: 0:00:04\u001b[39m"
     ]
    },
    {
     "data": {
      "text/plain": [
       "1.1885097f-10"
      ]
     },
     "metadata": {},
     "output_type": "display_data"
    },
    {
     "name": "stderr",
     "output_type": "stream",
     "text": [
      "\r",
      "\u001b[32mloss: 1.19e-10:  90%|████████████████████████████████████▊    |  ETA: 0:00:04\u001b[39m"
     ]
    },
    {
     "data": {
      "text/plain": [
       "1.98833f-10"
      ]
     },
     "metadata": {},
     "output_type": "display_data"
    },
    {
     "name": "stderr",
     "output_type": "stream",
     "text": [
      "\r",
      "\u001b[32mloss: 1.99e-10:  90%|████████████████████████████████████▉    |  ETA: 0:00:03\u001b[39m"
     ]
    },
    {
     "data": {
      "text/plain": [
       "3.591227f-10"
      ]
     },
     "metadata": {},
     "output_type": "display_data"
    },
    {
     "name": "stderr",
     "output_type": "stream",
     "text": [
      "\r",
      "\u001b[32mloss: 3.59e-10:  90%|█████████████████████████████████████▏   |  ETA: 0:00:03\u001b[39m"
     ]
    },
    {
     "data": {
      "text/plain": [
       "6.895744f-10"
      ]
     },
     "metadata": {},
     "output_type": "display_data"
    },
    {
     "name": "stderr",
     "output_type": "stream",
     "text": [
      "\r",
      "\u001b[32mloss: 6.9e-10:  91%|█████████████████████████████████████▎   |  ETA: 0:00:03\u001b[39m"
     ]
    },
    {
     "data": {
      "text/plain": [
       "1.3978397f-9"
      ]
     },
     "metadata": {},
     "output_type": "display_data"
    },
    {
     "name": "stderr",
     "output_type": "stream",
     "text": [
      "\r",
      "\u001b[32mloss: 1.4e-09:  92%|█████████████████████████████████████▌   |  ETA: 0:00:03\u001b[39m"
     ]
    },
    {
     "data": {
      "text/plain": [
       "2.9555927f-9"
      ]
     },
     "metadata": {},
     "output_type": "display_data"
    },
    {
     "name": "stderr",
     "output_type": "stream",
     "text": [
      "\r",
      "\u001b[32mloss: 2.96e-09:  92%|█████████████████████████████████████▊   |  ETA: 0:00:03\u001b[39m"
     ]
    },
    {
     "data": {
      "text/plain": [
       "6.5057404f-9"
      ]
     },
     "metadata": {},
     "output_type": "display_data"
    },
    {
     "name": "stderr",
     "output_type": "stream",
     "text": [
      "\r",
      "\u001b[32mloss: 6.51e-09:  92%|█████████████████████████████████████▉   |  ETA: 0:00:03\u001b[39m"
     ]
    },
    {
     "data": {
      "text/plain": [
       "1.46915164f-8"
      ]
     },
     "metadata": {},
     "output_type": "display_data"
    },
    {
     "name": "stderr",
     "output_type": "stream",
     "text": [
      "\r",
      "\u001b[32mloss: 1.47e-08:  93%|██████████████████████████████████████▏  |  ETA: 0:00:02\u001b[39m"
     ]
    },
    {
     "data": {
      "text/plain": [
       "3.424765f-8"
      ]
     },
     "metadata": {},
     "output_type": "display_data"
    },
    {
     "name": "stderr",
     "output_type": "stream",
     "text": [
      "\r",
      "\u001b[32mloss: 3.42e-08:  94%|██████████████████████████████████████▍  |  ETA: 0:00:02\u001b[39m"
     ]
    },
    {
     "data": {
      "text/plain": [
       "8.104755f-8"
      ]
     },
     "metadata": {},
     "output_type": "display_data"
    },
    {
     "name": "stderr",
     "output_type": "stream",
     "text": [
      "\r",
      "\u001b[32mloss: 8.1e-08:  94%|██████████████████████████████████████▌  |  ETA: 0:00:02\u001b[39m"
     ]
    },
    {
     "data": {
      "text/plain": [
       "1.9738124f-7"
      ]
     },
     "metadata": {},
     "output_type": "display_data"
    },
    {
     "name": "stderr",
     "output_type": "stream",
     "text": [
      "\r",
      "\u001b[32mloss: 1.97e-07:  94%|██████████████████████████████████████▊  |  ETA: 0:00:02\u001b[39m"
     ]
    },
    {
     "data": {
      "text/plain": [
       "4.728349f-7"
      ]
     },
     "metadata": {},
     "output_type": "display_data"
    },
    {
     "name": "stderr",
     "output_type": "stream",
     "text": [
      "\r",
      "\u001b[32mloss: 4.73e-07:  95%|███████████████████████████████████████  |  ETA: 0:00:02\u001b[39m"
     ]
    },
    {
     "data": {
      "text/plain": [
       "1.1375736f-6"
      ]
     },
     "metadata": {},
     "output_type": "display_data"
    },
    {
     "name": "stderr",
     "output_type": "stream",
     "text": [
      "\r",
      "\u001b[32mloss: 1.14e-06:  96%|███████████████████████████████████████▏ |  ETA: 0:00:02\u001b[39m"
     ]
    },
    {
     "data": {
      "text/plain": [
       "2.3616576f-6"
      ]
     },
     "metadata": {},
     "output_type": "display_data"
    },
    {
     "name": "stderr",
     "output_type": "stream",
     "text": [
      "\r",
      "\u001b[32mloss: 2.36e-06:  96%|███████████████████████████████████████▍ |  ETA: 0:00:01\u001b[39m"
     ]
    },
    {
     "data": {
      "text/plain": [
       "4.1317135f-6"
      ]
     },
     "metadata": {},
     "output_type": "display_data"
    },
    {
     "name": "stderr",
     "output_type": "stream",
     "text": [
      "\r",
      "\u001b[32mloss: 4.13e-06:  96%|███████████████████████████████████████▋ |  ETA: 0:00:01\u001b[39m"
     ]
    },
    {
     "data": {
      "text/plain": [
       "3.4871723f-6"
      ]
     },
     "metadata": {},
     "output_type": "display_data"
    },
    {
     "name": "stderr",
     "output_type": "stream",
     "text": [
      "\r",
      "\u001b[32mloss: 3.49e-06:  97%|███████████████████████████████████████▊ |  ETA: 0:00:01\u001b[39m"
     ]
    },
    {
     "data": {
      "text/plain": [
       "7.590212f-7"
      ]
     },
     "metadata": {},
     "output_type": "display_data"
    },
    {
     "name": "stderr",
     "output_type": "stream",
     "text": [
      "\r",
      "\u001b[32mloss: 7.59e-07:  98%|████████████████████████████████████████ |  ETA: 0:00:01\u001b[39m"
     ]
    },
    {
     "data": {
      "text/plain": [
       "4.6328836f-7"
      ]
     },
     "metadata": {},
     "output_type": "display_data"
    },
    {
     "name": "stderr",
     "output_type": "stream",
     "text": [
      "\r",
      "\u001b[32mloss: 4.63e-07:  98%|████████████████████████████████████████▏|  ETA: 0:00:01\u001b[39m"
     ]
    },
    {
     "data": {
      "text/plain": [
       "1.6002857f-6"
      ]
     },
     "metadata": {},
     "output_type": "display_data"
    },
    {
     "name": "stderr",
     "output_type": "stream",
     "text": [
      "\r",
      "\u001b[32mloss: 1.6e-06:  98%|████████████████████████████████████████▍|  ETA: 0:00:01\u001b[39m"
     ]
    },
    {
     "data": {
      "text/plain": [
       "8.092038f-8"
      ]
     },
     "metadata": {},
     "output_type": "display_data"
    },
    {
     "name": "stderr",
     "output_type": "stream",
     "text": [
      "\r",
      "\u001b[32mloss: 8.09e-08:  99%|████████████████████████████████████████▋|  ETA: 0:00:00\u001b[39m"
     ]
    },
    {
     "data": {
      "text/plain": [
       "8.7311946f-7"
      ]
     },
     "metadata": {},
     "output_type": "display_data"
    },
    {
     "name": "stderr",
     "output_type": "stream",
     "text": [
      "\r",
      "\u001b[32mloss: 8.73e-07: 100%|████████████████████████████████████████▊|  ETA: 0:00:00\u001b[39m"
     ]
    },
    {
     "data": {
      "text/plain": [
       "1.8110411f-7"
      ]
     },
     "metadata": {},
     "output_type": "display_data"
    },
    {
     "name": "stderr",
     "output_type": "stream",
     "text": [
      "\r",
      "\u001b[32mloss: 1.81e-07: 100%|█████████████████████████████████████████| Time: 0:00:34\u001b[39m\n"
     ]
    },
    {
     "data": {
      "text/plain": [
       "4.043678f-13"
      ]
     },
     "metadata": {},
     "output_type": "display_data"
    },
    {
     "data": {
      "text/plain": [
       " * Status: success\n",
       "\n",
       " * Candidate solution\n",
       "    Minimizer: [-2.74e-01, -3.10e-01, -2.38e-01,  ...]\n",
       "    Minimum:   1.811041e-07\n",
       "\n",
       " * Found with\n",
       "    Algorithm:     ADAM\n",
       "    Initial Point: [-2.74e-01, -3.10e-01, -2.38e-01,  ...]\n",
       "\n",
       " * Convergence measures\n",
       "    |x - x'|               = NaN ≰ 0.0e+00\n",
       "    |x - x'|/|x'|          = NaN ≰ 0.0e+00\n",
       "    |f(x) - f(x')|         = NaN ≰ 0.0e+00\n",
       "    |f(x) - f(x')|/|f(x')| = NaN ≰ 0.0e+00\n",
       "    |g(x)|                 = NaN ≰ 0.0e+00\n",
       "\n",
       " * Work counters\n",
       "    Seconds run:   85  (vs limit Inf)\n",
       "    Iterations:    200\n",
       "    f(x) calls:    200\n",
       "    ∇f(x) calls:   200\n"
      ]
     },
     "execution_count": 61,
     "metadata": {},
     "output_type": "execute_result"
    }
   ],
   "source": [
    "res = DiffEqFlux.sciml_train(loss, p_model, ADAM(), cb=cb, maxiters=200)"
   ]
  },
  {
   "cell_type": "code",
   "execution_count": 62,
   "metadata": {},
   "outputs": [
    {
     "data": {
      "text/plain": [
       "retcode: Success\n",
       "Interpolation: 1st order linear\n",
       "t: 3-element Array{Float32,1}:\n",
       " 0.0\n",
       " 0.043301642\n",
       " 0.086603284\n",
       "u: 3-element Array{Array{Float32,2},1}:\n",
       " [0.0 7.5517525f-26 … 6.5800825f-24 6.5911486f-24; 0.0 1.4871077f-23 … 1.5732505f-21 1.5757127f-21; … ; 2.2266546f-24 2.2266546f-24 … 4.3071287f-15 4.3236894f-15; 4.690858f-28 4.690858f-28 … 4.2303055f-17 4.2490362f-17]\n",
       " [-4.6149025f-6 -4.6149025f-6 … -4.4152307f-6 -4.415256f-6; 9.2617375f-7 9.2617375f-7 … 8.8610096f-7 8.8610545f-7; … ; -6.205807f-6 -6.205807f-6 … -5.9372996f-6 -5.9373338f-6; -7.762145f-6 -7.762145f-6 … -7.426298f-6 -7.4263385f-6]\n",
       " [-9.052905f-6 -9.052905f-6 … -8.296832f-6 -8.296924f-6; 1.8168441f-6 1.8168441f-6 … 1.665107f-6 1.6651265f-6; … ; -1.2173727f-5 -1.2173727f-5 … -1.1157015f-5 -1.1157141f-5; -1.5226748f-5 -1.5226748f-5 … -1.3955061f-5 -1.3955225f-5]"
      ]
     },
     "execution_count": 62,
     "metadata": {},
     "output_type": "execute_result"
    }
   ],
   "source": [
    "sol_ude = solve(prob_ube, Tsit5(), u0=X, p=res.minimizer, saveat=tran)"
   ]
  },
  {
   "cell_type": "code",
   "execution_count": 63,
   "metadata": {},
   "outputs": [
    {
     "data": {
      "image/svg+xml": [
       "<?xml version=\"1.0\" encoding=\"utf-8\"?>\n",
       "<svg xmlns=\"http://www.w3.org/2000/svg\" xmlns:xlink=\"http://www.w3.org/1999/xlink\" width=\"600\" height=\"400\" viewBox=\"0 0 2400 1600\">\n",
       "<defs>\n",
       "  <clipPath id=\"clip000\">\n",
       "    <rect x=\"0\" y=\"0\" width=\"2400\" height=\"1600\"/>\n",
       "  </clipPath>\n",
       "</defs>\n",
       "<path clip-path=\"url(#clip000)\" d=\"\n",
       "M0 1600 L2400 1600 L2400 0 L0 0  Z\n",
       "  \" fill=\"#ffffff\" fill-rule=\"evenodd\" fill-opacity=\"1\"/>\n",
       "<defs>\n",
       "  <clipPath id=\"clip001\">\n",
       "    <rect x=\"480\" y=\"0\" width=\"1681\" height=\"1600\"/>\n",
       "  </clipPath>\n",
       "</defs>\n",
       "<path clip-path=\"url(#clip000)\" d=\"\n",
       "M148.334 1486.45 L2352.76 1486.45 L2352.76 47.2441 L148.334 47.2441  Z\n",
       "  \" fill=\"#ffffff\" fill-rule=\"evenodd\" fill-opacity=\"1\"/>\n",
       "<defs>\n",
       "  <clipPath id=\"clip002\">\n",
       "    <rect x=\"148\" y=\"47\" width=\"2205\" height=\"1440\"/>\n",
       "  </clipPath>\n",
       "</defs>\n",
       "<polyline clip-path=\"url(#clip002)\" style=\"stroke:#000000; stroke-width:2; stroke-opacity:0.1; fill:none\" points=\"\n",
       "  181.014,1486.45 181.014,47.2441 \n",
       "  \"/>\n",
       "<polyline clip-path=\"url(#clip002)\" style=\"stroke:#000000; stroke-width:2; stroke-opacity:0.1; fill:none\" points=\"\n",
       "  715.78,1486.45 715.78,47.2441 \n",
       "  \"/>\n",
       "<polyline clip-path=\"url(#clip002)\" style=\"stroke:#000000; stroke-width:2; stroke-opacity:0.1; fill:none\" points=\"\n",
       "  1250.55,1486.45 1250.55,47.2441 \n",
       "  \"/>\n",
       "<polyline clip-path=\"url(#clip002)\" style=\"stroke:#000000; stroke-width:2; stroke-opacity:0.1; fill:none\" points=\"\n",
       "  1785.31,1486.45 1785.31,47.2441 \n",
       "  \"/>\n",
       "<polyline clip-path=\"url(#clip002)\" style=\"stroke:#000000; stroke-width:2; stroke-opacity:0.1; fill:none\" points=\"\n",
       "  2320.08,1486.45 2320.08,47.2441 \n",
       "  \"/>\n",
       "<polyline clip-path=\"url(#clip002)\" style=\"stroke:#000000; stroke-width:2; stroke-opacity:0.1; fill:none\" points=\"\n",
       "  148.334,1445.68 2352.76,1445.68 \n",
       "  \"/>\n",
       "<polyline clip-path=\"url(#clip002)\" style=\"stroke:#000000; stroke-width:2; stroke-opacity:0.1; fill:none\" points=\"\n",
       "  148.334,1233.5 2352.76,1233.5 \n",
       "  \"/>\n",
       "<polyline clip-path=\"url(#clip002)\" style=\"stroke:#000000; stroke-width:2; stroke-opacity:0.1; fill:none\" points=\"\n",
       "  148.334,1021.33 2352.76,1021.33 \n",
       "  \"/>\n",
       "<polyline clip-path=\"url(#clip002)\" style=\"stroke:#000000; stroke-width:2; stroke-opacity:0.1; fill:none\" points=\"\n",
       "  148.334,809.155 2352.76,809.155 \n",
       "  \"/>\n",
       "<polyline clip-path=\"url(#clip002)\" style=\"stroke:#000000; stroke-width:2; stroke-opacity:0.1; fill:none\" points=\"\n",
       "  148.334,596.981 2352.76,596.981 \n",
       "  \"/>\n",
       "<polyline clip-path=\"url(#clip002)\" style=\"stroke:#000000; stroke-width:2; stroke-opacity:0.1; fill:none\" points=\"\n",
       "  148.334,384.806 2352.76,384.806 \n",
       "  \"/>\n",
       "<polyline clip-path=\"url(#clip002)\" style=\"stroke:#000000; stroke-width:2; stroke-opacity:0.1; fill:none\" points=\"\n",
       "  148.334,172.631 2352.76,172.631 \n",
       "  \"/>\n",
       "<polyline clip-path=\"url(#clip000)\" style=\"stroke:#000000; stroke-width:4; stroke-opacity:1; fill:none\" points=\"\n",
       "  148.334,1486.45 2352.76,1486.45 \n",
       "  \"/>\n",
       "<polyline clip-path=\"url(#clip000)\" style=\"stroke:#000000; stroke-width:4; stroke-opacity:1; fill:none\" points=\"\n",
       "  148.334,1486.45 148.334,47.2441 \n",
       "  \"/>\n",
       "<polyline clip-path=\"url(#clip000)\" style=\"stroke:#000000; stroke-width:4; stroke-opacity:1; fill:none\" points=\"\n",
       "  181.014,1486.45 181.014,1469.18 \n",
       "  \"/>\n",
       "<polyline clip-path=\"url(#clip000)\" style=\"stroke:#000000; stroke-width:4; stroke-opacity:1; fill:none\" points=\"\n",
       "  715.78,1486.45 715.78,1469.18 \n",
       "  \"/>\n",
       "<polyline clip-path=\"url(#clip000)\" style=\"stroke:#000000; stroke-width:4; stroke-opacity:1; fill:none\" points=\"\n",
       "  1250.55,1486.45 1250.55,1469.18 \n",
       "  \"/>\n",
       "<polyline clip-path=\"url(#clip000)\" style=\"stroke:#000000; stroke-width:4; stroke-opacity:1; fill:none\" points=\"\n",
       "  1785.31,1486.45 1785.31,1469.18 \n",
       "  \"/>\n",
       "<polyline clip-path=\"url(#clip000)\" style=\"stroke:#000000; stroke-width:4; stroke-opacity:1; fill:none\" points=\"\n",
       "  2320.08,1486.45 2320.08,1469.18 \n",
       "  \"/>\n",
       "<polyline clip-path=\"url(#clip000)\" style=\"stroke:#000000; stroke-width:4; stroke-opacity:1; fill:none\" points=\"\n",
       "  148.334,1445.68 174.787,1445.68 \n",
       "  \"/>\n",
       "<polyline clip-path=\"url(#clip000)\" style=\"stroke:#000000; stroke-width:4; stroke-opacity:1; fill:none\" points=\"\n",
       "  148.334,1233.5 174.787,1233.5 \n",
       "  \"/>\n",
       "<polyline clip-path=\"url(#clip000)\" style=\"stroke:#000000; stroke-width:4; stroke-opacity:1; fill:none\" points=\"\n",
       "  148.334,1021.33 174.787,1021.33 \n",
       "  \"/>\n",
       "<polyline clip-path=\"url(#clip000)\" style=\"stroke:#000000; stroke-width:4; stroke-opacity:1; fill:none\" points=\"\n",
       "  148.334,809.155 174.787,809.155 \n",
       "  \"/>\n",
       "<polyline clip-path=\"url(#clip000)\" style=\"stroke:#000000; stroke-width:4; stroke-opacity:1; fill:none\" points=\"\n",
       "  148.334,596.981 174.787,596.981 \n",
       "  \"/>\n",
       "<polyline clip-path=\"url(#clip000)\" style=\"stroke:#000000; stroke-width:4; stroke-opacity:1; fill:none\" points=\"\n",
       "  148.334,384.806 174.787,384.806 \n",
       "  \"/>\n",
       "<polyline clip-path=\"url(#clip000)\" style=\"stroke:#000000; stroke-width:4; stroke-opacity:1; fill:none\" points=\"\n",
       "  148.334,172.631 174.787,172.631 \n",
       "  \"/>\n",
       "<path clip-path=\"url(#clip000)\" d=\"M 0 0 M148.376 1525.04 L160.853 1525.04 L160.853 1528.83 L148.376 1528.83 L148.376 1525.04 Z\" fill=\"#000000\" fill-rule=\"evenodd\" fill-opacity=\"1\" /><path clip-path=\"url(#clip000)\" d=\"M 0 0 M166.732 1535.98 L174.371 1535.98 L174.371 1509.62 L166.061 1511.29 L166.061 1507.03 L174.325 1505.36 L179.001 1505.36 L179.001 1535.98 L186.639 1535.98 L186.639 1539.92 L166.732 1539.92 L166.732 1535.98 Z\" fill=\"#000000\" fill-rule=\"evenodd\" fill-opacity=\"1\" /><path clip-path=\"url(#clip000)\" d=\"M 0 0 M201.709 1508.44 Q198.098 1508.44 196.269 1512 Q194.463 1515.55 194.463 1522.67 Q194.463 1529.78 196.269 1533.35 Q198.098 1536.89 201.709 1536.89 Q205.343 1536.89 207.149 1533.35 Q208.977 1529.78 208.977 1522.67 Q208.977 1515.55 207.149 1512 Q205.343 1508.44 201.709 1508.44 M201.709 1504.73 Q207.519 1504.73 210.575 1509.34 Q213.653 1513.92 213.653 1522.67 Q213.653 1531.4 210.575 1536.01 Q207.519 1540.59 201.709 1540.59 Q195.899 1540.59 192.82 1536.01 Q189.764 1531.4 189.764 1522.67 Q189.764 1513.92 192.82 1509.34 Q195.899 1504.73 201.709 1504.73 Z\" fill=\"#000000\" fill-rule=\"evenodd\" fill-opacity=\"1\" /><path clip-path=\"url(#clip000)\" d=\"M 0 0 M696.532 1525.04 L709.009 1525.04 L709.009 1528.83 L696.532 1528.83 L696.532 1525.04 Z\" fill=\"#000000\" fill-rule=\"evenodd\" fill-opacity=\"1\" /><path clip-path=\"url(#clip000)\" d=\"M 0 0 M714.125 1505.36 L732.481 1505.36 L732.481 1509.3 L718.407 1509.3 L718.407 1517.77 Q719.426 1517.42 720.444 1517.26 Q721.463 1517.07 722.481 1517.07 Q728.268 1517.07 731.648 1520.24 Q735.027 1523.42 735.027 1528.83 Q735.027 1534.41 731.555 1537.51 Q728.083 1540.59 721.764 1540.59 Q719.588 1540.59 717.319 1540.22 Q715.074 1539.85 712.666 1539.11 L712.666 1534.41 Q714.75 1535.54 716.972 1536.1 Q719.194 1536.66 721.671 1536.66 Q725.676 1536.66 728.014 1534.55 Q730.352 1532.44 730.352 1528.83 Q730.352 1525.22 728.014 1523.11 Q725.676 1521.01 721.671 1521.01 Q719.796 1521.01 717.921 1521.42 Q716.069 1521.84 714.125 1522.72 L714.125 1505.36 Z\" fill=\"#000000\" fill-rule=\"evenodd\" fill-opacity=\"1\" /><path clip-path=\"url(#clip000)\" d=\"M 0 0 M1250.55 1508.44 Q1246.93 1508.44 1245.11 1512 Q1243.3 1515.55 1243.3 1522.67 Q1243.3 1529.78 1245.11 1533.35 Q1246.93 1536.89 1250.55 1536.89 Q1254.18 1536.89 1255.98 1533.35 Q1257.81 1529.78 1257.81 1522.67 Q1257.81 1515.55 1255.98 1512 Q1254.18 1508.44 1250.55 1508.44 M1250.55 1504.73 Q1256.36 1504.73 1259.41 1509.34 Q1262.49 1513.92 1262.49 1522.67 Q1262.49 1531.4 1259.41 1536.01 Q1256.36 1540.59 1250.55 1540.59 Q1244.73 1540.59 1241.66 1536.01 Q1238.6 1531.4 1238.6 1522.67 Q1238.6 1513.92 1241.66 1509.34 Q1244.73 1504.73 1250.55 1504.73 Z\" fill=\"#000000\" fill-rule=\"evenodd\" fill-opacity=\"1\" /><path clip-path=\"url(#clip000)\" d=\"M 0 0 M1775.59 1505.36 L1793.94 1505.36 L1793.94 1509.3 L1779.87 1509.3 L1779.87 1517.77 Q1780.89 1517.42 1781.91 1517.26 Q1782.93 1517.07 1783.94 1517.07 Q1789.73 1517.07 1793.11 1520.24 Q1796.49 1523.42 1796.49 1528.83 Q1796.49 1534.41 1793.02 1537.51 Q1789.55 1540.59 1783.23 1540.59 Q1781.05 1540.59 1778.78 1540.22 Q1776.54 1539.85 1774.13 1539.11 L1774.13 1534.41 Q1776.21 1535.54 1778.44 1536.1 Q1780.66 1536.66 1783.13 1536.66 Q1787.14 1536.66 1789.48 1534.55 Q1791.82 1532.44 1791.82 1528.83 Q1791.82 1525.22 1789.48 1523.11 Q1787.14 1521.01 1783.13 1521.01 Q1781.26 1521.01 1779.38 1521.42 Q1777.53 1521.84 1775.59 1522.72 L1775.59 1505.36 Z\" fill=\"#000000\" fill-rule=\"evenodd\" fill-opacity=\"1\" /><path clip-path=\"url(#clip000)\" d=\"M 0 0 M2296.95 1535.98 L2304.59 1535.98 L2304.59 1509.62 L2296.28 1511.29 L2296.28 1507.03 L2304.54 1505.36 L2309.22 1505.36 L2309.22 1535.98 L2316.86 1535.98 L2316.86 1539.92 L2296.95 1539.92 L2296.95 1535.98 Z\" fill=\"#000000\" fill-rule=\"evenodd\" fill-opacity=\"1\" /><path clip-path=\"url(#clip000)\" d=\"M 0 0 M2331.93 1508.44 Q2328.32 1508.44 2326.49 1512 Q2324.68 1515.55 2324.68 1522.67 Q2324.68 1529.78 2326.49 1533.35 Q2328.32 1536.89 2331.93 1536.89 Q2335.56 1536.89 2337.37 1533.35 Q2339.2 1529.78 2339.2 1522.67 Q2339.2 1515.55 2337.37 1512 Q2335.56 1508.44 2331.93 1508.44 M2331.93 1504.73 Q2337.74 1504.73 2340.79 1509.34 Q2343.87 1513.92 2343.87 1522.67 Q2343.87 1531.4 2340.79 1536.01 Q2337.74 1540.59 2331.93 1540.59 Q2326.12 1540.59 2323.04 1536.01 Q2319.98 1531.4 2319.98 1522.67 Q2319.98 1513.92 2323.04 1509.34 Q2326.12 1504.73 2331.93 1504.73 Z\" fill=\"#000000\" fill-rule=\"evenodd\" fill-opacity=\"1\" /><path clip-path=\"url(#clip000)\" d=\"M 0 0 M75.4226 1431.48 Q71.8115 1431.48 69.9828 1435.04 Q68.1773 1438.58 68.1773 1445.71 Q68.1773 1452.82 69.9828 1456.39 Q71.8115 1459.93 75.4226 1459.93 Q79.0569 1459.93 80.8624 1456.39 Q82.6911 1452.82 82.6911 1445.71 Q82.6911 1438.58 80.8624 1435.04 Q79.0569 1431.48 75.4226 1431.48 M75.4226 1427.77 Q81.2328 1427.77 84.2883 1432.38 Q87.367 1436.96 87.367 1445.71 Q87.367 1454.44 84.2883 1459.05 Q81.2328 1463.63 75.4226 1463.63 Q69.6125 1463.63 66.5338 1459.05 Q63.4782 1454.44 63.4782 1445.71 Q63.4782 1436.96 66.5338 1432.38 Q69.6125 1427.77 75.4226 1427.77 Z\" fill=\"#000000\" fill-rule=\"evenodd\" fill-opacity=\"1\" /><path clip-path=\"url(#clip000)\" d=\"M 0 0 M92.4364 1457.08 L97.3206 1457.08 L97.3206 1462.96 L92.4364 1462.96 L92.4364 1457.08 Z\" fill=\"#000000\" fill-rule=\"evenodd\" fill-opacity=\"1\" /><path clip-path=\"url(#clip000)\" d=\"M 0 0 M112.39 1431.48 Q108.779 1431.48 106.95 1435.04 Q105.145 1438.58 105.145 1445.71 Q105.145 1452.82 106.95 1456.39 Q108.779 1459.93 112.39 1459.93 Q116.024 1459.93 117.83 1456.39 Q119.658 1452.82 119.658 1445.71 Q119.658 1438.58 117.83 1435.04 Q116.024 1431.48 112.39 1431.48 M112.39 1427.77 Q118.2 1427.77 121.256 1432.38 Q124.334 1436.96 124.334 1445.71 Q124.334 1454.44 121.256 1459.05 Q118.2 1463.63 112.39 1463.63 Q106.58 1463.63 103.501 1459.05 Q100.446 1454.44 100.446 1445.71 Q100.446 1436.96 103.501 1432.38 Q106.58 1427.77 112.39 1427.77 Z\" fill=\"#000000\" fill-rule=\"evenodd\" fill-opacity=\"1\" /><path clip-path=\"url(#clip000)\" d=\"M 0 0 M76.6495 1219.3 Q73.0384 1219.3 71.2097 1222.87 Q69.4041 1226.41 69.4041 1233.54 Q69.4041 1240.65 71.2097 1244.21 Q73.0384 1247.75 76.6495 1247.75 Q80.2837 1247.75 82.0892 1244.21 Q83.9179 1240.65 83.9179 1233.54 Q83.9179 1226.41 82.0892 1222.87 Q80.2837 1219.3 76.6495 1219.3 M76.6495 1215.6 Q82.4596 1215.6 85.5152 1220.21 Q88.5938 1224.79 88.5938 1233.54 Q88.5938 1242.27 85.5152 1246.87 Q82.4596 1251.46 76.6495 1251.46 Q70.8393 1251.46 67.7606 1246.87 Q64.7051 1242.27 64.7051 1233.54 Q64.7051 1224.79 67.7606 1220.21 Q70.8393 1215.6 76.6495 1215.6 Z\" fill=\"#000000\" fill-rule=\"evenodd\" fill-opacity=\"1\" /><path clip-path=\"url(#clip000)\" d=\"M 0 0 M93.6633 1244.91 L98.5475 1244.91 L98.5475 1250.78 L93.6633 1250.78 L93.6633 1244.91 Z\" fill=\"#000000\" fill-rule=\"evenodd\" fill-opacity=\"1\" /><path clip-path=\"url(#clip000)\" d=\"M 0 0 M104.427 1246.85 L112.066 1246.85 L112.066 1220.48 L103.756 1222.15 L103.756 1217.89 L112.02 1216.22 L116.696 1216.22 L116.696 1246.85 L124.334 1246.85 L124.334 1250.78 L104.427 1250.78 L104.427 1246.85 Z\" fill=\"#000000\" fill-rule=\"evenodd\" fill-opacity=\"1\" /><path clip-path=\"url(#clip000)\" d=\"M 0 0 M77.0198 1007.13 Q73.4087 1007.13 71.58 1010.69 Q69.7745 1014.24 69.7745 1021.36 Q69.7745 1028.47 71.58 1032.04 Q73.4087 1035.58 77.0198 1035.58 Q80.6541 1035.58 82.4596 1032.04 Q84.2883 1028.47 84.2883 1021.36 Q84.2883 1014.24 82.4596 1010.69 Q80.6541 1007.13 77.0198 1007.13 M77.0198 1003.43 Q82.83 1003.43 85.8855 1008.03 Q88.9642 1012.61 88.9642 1021.36 Q88.9642 1030.09 85.8855 1034.7 Q82.83 1039.28 77.0198 1039.28 Q71.2097 1039.28 68.131 1034.7 Q65.0754 1030.09 65.0754 1021.36 Q65.0754 1012.61 68.131 1008.03 Q71.2097 1003.43 77.0198 1003.43 Z\" fill=\"#000000\" fill-rule=\"evenodd\" fill-opacity=\"1\" /><path clip-path=\"url(#clip000)\" d=\"M 0 0 M94.0336 1032.73 L98.9179 1032.73 L98.9179 1038.61 L94.0336 1038.61 L94.0336 1032.73 Z\" fill=\"#000000\" fill-rule=\"evenodd\" fill-opacity=\"1\" /><path clip-path=\"url(#clip000)\" d=\"M 0 0 M108.015 1034.68 L124.334 1034.68 L124.334 1038.61 L102.39 1038.61 L102.39 1034.68 Q105.052 1031.92 109.635 1027.29 Q114.242 1022.64 115.422 1021.3 Q117.668 1018.77 118.547 1017.04 Q119.45 1015.28 119.45 1013.59 Q119.45 1010.83 117.506 1009.1 Q115.584 1007.36 112.483 1007.36 Q110.284 1007.36 107.83 1008.12 Q105.399 1008.89 102.622 1010.44 L102.622 1005.72 Q105.446 1004.58 107.899 1004 Q110.353 1003.43 112.39 1003.43 Q117.76 1003.43 120.955 1006.11 Q124.149 1008.8 124.149 1013.29 Q124.149 1015.42 123.339 1017.34 Q122.552 1019.24 120.446 1021.83 Q119.867 1022.5 116.765 1025.72 Q113.663 1028.91 108.015 1034.68 Z\" fill=\"#000000\" fill-rule=\"evenodd\" fill-opacity=\"1\" /><path clip-path=\"url(#clip000)\" d=\"M 0 0 M76.0708 794.954 Q72.4597 794.954 70.631 798.519 Q68.8254 802.061 68.8254 809.19 Q68.8254 816.297 70.631 819.861 Q72.4597 823.403 76.0708 823.403 Q79.705 823.403 81.5105 819.861 Q83.3392 816.297 83.3392 809.19 Q83.3392 802.061 81.5105 798.519 Q79.705 794.954 76.0708 794.954 M76.0708 791.25 Q81.8809 791.25 84.9365 795.857 Q88.0151 800.44 88.0151 809.19 Q88.0151 817.917 84.9365 822.523 Q81.8809 827.107 76.0708 827.107 Q70.2606 827.107 67.1819 822.523 Q64.1264 817.917 64.1264 809.19 Q64.1264 800.44 67.1819 795.857 Q70.2606 791.25 76.0708 791.25 Z\" fill=\"#000000\" fill-rule=\"evenodd\" fill-opacity=\"1\" /><path clip-path=\"url(#clip000)\" d=\"M 0 0 M93.0846 820.556 L97.9688 820.556 L97.9688 826.435 L93.0846 826.435 L93.0846 820.556 Z\" fill=\"#000000\" fill-rule=\"evenodd\" fill-opacity=\"1\" /><path clip-path=\"url(#clip000)\" d=\"M 0 0 M117.205 807.801 Q120.561 808.519 122.436 810.787 Q124.334 813.056 124.334 816.389 Q124.334 821.505 120.816 824.306 Q117.297 827.107 110.816 827.107 Q108.64 827.107 106.325 826.667 Q104.034 826.25 101.58 825.394 L101.58 820.88 Q103.524 822.014 105.839 822.593 Q108.154 823.172 110.677 823.172 Q115.075 823.172 117.367 821.435 Q119.682 819.699 119.682 816.389 Q119.682 813.334 117.529 811.621 Q115.399 809.885 111.58 809.885 L107.552 809.885 L107.552 806.042 L111.765 806.042 Q115.214 806.042 117.043 804.676 Q118.871 803.287 118.871 800.695 Q118.871 798.033 116.973 796.621 Q115.098 795.186 111.58 795.186 Q109.659 795.186 107.459 795.602 Q105.26 796.019 102.622 796.899 L102.622 792.732 Q105.284 791.991 107.598 791.621 Q109.936 791.25 111.996 791.25 Q117.321 791.25 120.422 793.681 Q123.524 796.088 123.524 800.209 Q123.524 803.079 121.881 805.07 Q120.237 807.037 117.205 807.801 Z\" fill=\"#000000\" fill-rule=\"evenodd\" fill-opacity=\"1\" /><path clip-path=\"url(#clip000)\" d=\"M 0 0 M74.9365 582.779 Q71.3254 582.779 69.4967 586.344 Q67.6912 589.886 67.6912 597.015 Q67.6912 604.122 69.4967 607.687 Q71.3254 611.228 74.9365 611.228 Q78.5707 611.228 80.3763 607.687 Q82.205 604.122 82.205 597.015 Q82.205 589.886 80.3763 586.344 Q78.5707 582.779 74.9365 582.779 M74.9365 579.076 Q80.7467 579.076 83.8022 583.682 Q86.8809 588.265 86.8809 597.015 Q86.8809 605.742 83.8022 610.349 Q80.7467 614.932 74.9365 614.932 Q69.1264 614.932 66.0477 610.349 Q62.9921 605.742 62.9921 597.015 Q62.9921 588.265 66.0477 583.682 Q69.1264 579.076 74.9365 579.076 Z\" fill=\"#000000\" fill-rule=\"evenodd\" fill-opacity=\"1\" /><path clip-path=\"url(#clip000)\" d=\"M 0 0 M91.9503 608.381 L96.8345 608.381 L96.8345 614.261 L91.9503 614.261 L91.9503 608.381 Z\" fill=\"#000000\" fill-rule=\"evenodd\" fill-opacity=\"1\" /><path clip-path=\"url(#clip000)\" d=\"M 0 0 M114.751 583.775 L102.946 602.224 L114.751 602.224 L114.751 583.775 M113.524 579.701 L119.404 579.701 L119.404 602.224 L124.334 602.224 L124.334 606.113 L119.404 606.113 L119.404 614.261 L114.751 614.261 L114.751 606.113 L99.1493 606.113 L99.1493 601.599 L113.524 579.701 Z\" fill=\"#000000\" fill-rule=\"evenodd\" fill-opacity=\"1\" /><path clip-path=\"url(#clip000)\" d=\"M 0 0 M76.418 370.605 Q72.8069 370.605 70.9782 374.169 Q69.1726 377.711 69.1726 384.841 Q69.1726 391.947 70.9782 395.512 Q72.8069 399.054 76.418 399.054 Q80.0522 399.054 81.8578 395.512 Q83.6865 391.947 83.6865 384.841 Q83.6865 377.711 81.8578 374.169 Q80.0522 370.605 76.418 370.605 M76.418 366.901 Q82.2281 366.901 85.2837 371.507 Q88.3624 376.091 88.3624 384.841 Q88.3624 393.567 85.2837 398.174 Q82.2281 402.757 76.418 402.757 Q70.6078 402.757 67.5291 398.174 Q64.4736 393.567 64.4736 384.841 Q64.4736 376.091 67.5291 371.507 Q70.6078 366.901 76.418 366.901 Z\" fill=\"#000000\" fill-rule=\"evenodd\" fill-opacity=\"1\" /><path clip-path=\"url(#clip000)\" d=\"M 0 0 M93.4318 396.206 L98.316 396.206 L98.316 402.086 L93.4318 402.086 L93.4318 396.206 Z\" fill=\"#000000\" fill-rule=\"evenodd\" fill-opacity=\"1\" /><path clip-path=\"url(#clip000)\" d=\"M 0 0 M103.432 367.526 L121.788 367.526 L121.788 371.461 L107.714 371.461 L107.714 379.933 Q108.733 379.586 109.751 379.424 Q110.77 379.239 111.788 379.239 Q117.575 379.239 120.955 382.41 Q124.334 385.581 124.334 390.998 Q124.334 396.577 120.862 399.679 Q117.39 402.757 111.071 402.757 Q108.895 402.757 106.626 402.387 Q104.381 402.016 101.973 401.276 L101.973 396.577 Q104.057 397.711 106.279 398.267 Q108.501 398.822 110.978 398.822 Q114.983 398.822 117.321 396.716 Q119.658 394.609 119.658 390.998 Q119.658 387.387 117.321 385.28 Q114.983 383.174 110.978 383.174 Q109.103 383.174 107.228 383.591 Q105.376 384.007 103.432 384.887 L103.432 367.526 Z\" fill=\"#000000\" fill-rule=\"evenodd\" fill-opacity=\"1\" /><path clip-path=\"url(#clip000)\" d=\"M 0 0 M75.2606 158.43 Q71.6495 158.43 69.8208 161.995 Q68.0152 165.536 68.0152 172.666 Q68.0152 179.772 69.8208 183.337 Q71.6495 186.879 75.2606 186.879 Q78.8948 186.879 80.7004 183.337 Q82.5291 179.772 82.5291 172.666 Q82.5291 165.536 80.7004 161.995 Q78.8948 158.43 75.2606 158.43 M75.2606 154.726 Q81.0707 154.726 84.1263 159.333 Q87.205 163.916 87.205 172.666 Q87.205 181.393 84.1263 185.999 Q81.0707 190.582 75.2606 190.582 Q69.4504 190.582 66.3717 185.999 Q63.3162 181.393 63.3162 172.666 Q63.3162 163.916 66.3717 159.333 Q69.4504 154.726 75.2606 154.726 Z\" fill=\"#000000\" fill-rule=\"evenodd\" fill-opacity=\"1\" /><path clip-path=\"url(#clip000)\" d=\"M 0 0 M92.2744 184.032 L97.1586 184.032 L97.1586 189.911 L92.2744 189.911 L92.2744 184.032 Z\" fill=\"#000000\" fill-rule=\"evenodd\" fill-opacity=\"1\" /><path clip-path=\"url(#clip000)\" d=\"M 0 0 M112.807 170.768 Q109.659 170.768 107.807 172.921 Q105.978 175.073 105.978 178.823 Q105.978 182.55 107.807 184.726 Q109.659 186.879 112.807 186.879 Q115.955 186.879 117.783 184.726 Q119.635 182.55 119.635 178.823 Q119.635 175.073 117.783 172.921 Q115.955 170.768 112.807 170.768 M122.089 156.115 L122.089 160.374 Q120.33 159.541 118.524 159.101 Q116.742 158.661 114.983 158.661 Q110.353 158.661 107.899 161.786 Q105.469 164.911 105.122 171.231 Q106.487 169.217 108.547 168.152 Q110.608 167.064 113.084 167.064 Q118.293 167.064 121.302 170.235 Q124.334 173.383 124.334 178.823 Q124.334 184.147 121.186 187.365 Q118.038 190.582 112.807 190.582 Q106.811 190.582 103.64 185.999 Q100.469 181.393 100.469 172.666 Q100.469 164.471 104.358 159.61 Q108.247 154.726 114.797 154.726 Q116.557 154.726 118.339 155.073 Q120.145 155.421 122.089 156.115 Z\" fill=\"#000000\" fill-rule=\"evenodd\" fill-opacity=\"1\" /><polyline clip-path=\"url(#clip002)\" style=\"stroke:#009af9; stroke-width:4; stroke-opacity:1; fill:none\" points=\"\n",
       "  210.724,1445.68 270.142,1445.68 329.56,1445.68 388.979,1445.68 448.397,1445.68 507.816,1445.68 567.234,1445.68 626.652,1445.68 686.071,1445.68 745.489,1445.68 \n",
       "  804.907,1445.68 864.326,1445.65 923.744,1445.36 983.162,1443.38 1042.58,1433.08 1102,1392.43 1161.42,1271 1220.84,1002.87 1280.25,589.766 1339.67,204.883 \n",
       "  1399.09,98.7401 1458.51,371.406 1517.93,847.455 1577.35,1226.9 1636.76,1395.1 1696.18,1438.29 1755.6,1444.98 1815.02,1445.63 1874.44,1445.68 1933.86,1445.68 \n",
       "  1993.27,1445.68 2052.69,1445.68 2112.11,1445.68 2171.53,1445.68 2230.95,1445.68 2290.37,1445.68 \n",
       "  \"/>\n",
       "<polyline clip-path=\"url(#clip002)\" style=\"stroke:#e26f46; stroke-width:4; stroke-opacity:1; fill:none\" points=\"\n",
       "  210.724,1445.69 270.142,1445.68 329.56,1445.67 388.979,1445.68 448.397,1445.69 507.816,1445.67 567.234,1445.69 626.652,1445.69 686.071,1445.67 745.489,1445.67 \n",
       "  804.907,1445.67 864.326,1445.64 923.744,1445.38 983.162,1443.53 1042.58,1433.67 1102,1394.19 1161.42,1274.13 1220.84,1005 1280.25,586.71 1339.67,196.547 \n",
       "  1399.09,93.1382 1458.51,373.792 1517.93,852.229 1577.35,1228.9 1636.76,1395.24 1696.18,1438.19 1755.6,1444.95 1815.02,1445.64 1874.44,1445.69 1933.86,1445.67 \n",
       "  1993.27,1445.68 2052.69,1445.67 2112.11,1445.69 2171.53,1445.7 2230.95,1445.66 2290.37,1445.68 \n",
       "  \"/>\n",
       "<polyline clip-path=\"url(#clip002)\" style=\"stroke:#3da44d; stroke-width:4; stroke-opacity:1; fill:none\" points=\"\n",
       "  210.724,1445.7 270.142,1445.68 329.56,1445.66 388.979,1445.69 448.397,1445.7 507.816,1445.67 567.234,1445.7 626.652,1445.7 686.071,1445.66 745.489,1445.66 \n",
       "  804.907,1445.66 864.326,1445.64 923.744,1445.4 983.162,1443.68 1042.58,1434.21 1102,1395.81 1161.42,1277.01 1220.84,1006.97 1280.25,583.893 1339.67,188.865 \n",
       "  1399.09,87.9763 1458.51,375.99 1517.93,856.629 1577.35,1230.75 1636.76,1395.36 1696.18,1438.1 1755.6,1444.92 1815.02,1445.65 1874.44,1445.7 1933.86,1445.66 \n",
       "  1993.27,1445.68 2052.69,1445.66 2112.11,1445.7 2171.53,1445.72 2230.95,1445.65 2290.37,1445.69 \n",
       "  \"/>\n",
       "<path clip-path=\"url(#clip000)\" d=\"\n",
       "M1989.16 372.684 L2280.76 372.684 L2280.76 130.764 L1989.16 130.764  Z\n",
       "  \" fill=\"#ffffff\" fill-rule=\"evenodd\" fill-opacity=\"1\"/>\n",
       "<polyline clip-path=\"url(#clip000)\" style=\"stroke:#000000; stroke-width:4; stroke-opacity:1; fill:none\" points=\"\n",
       "  1989.16,372.684 2280.76,372.684 2280.76,130.764 1989.16,130.764 1989.16,372.684 \n",
       "  \"/>\n",
       "<polyline clip-path=\"url(#clip000)\" style=\"stroke:#009af9; stroke-width:4; stroke-opacity:1; fill:none\" points=\"\n",
       "  2013.16,191.244 2157.16,191.244 \n",
       "  \"/>\n",
       "<path clip-path=\"url(#clip000)\" d=\"M 0 0 M2195 210.931 Q2193.2 215.561 2191.48 216.973 Q2189.77 218.385 2186.9 218.385 L2183.5 218.385 L2183.5 214.82 L2186 214.82 Q2187.76 214.82 2188.73 213.987 Q2189.7 213.154 2190.88 210.052 L2191.65 208.107 L2181.16 182.598 L2185.67 182.598 L2193.77 202.876 L2201.88 182.598 L2206.39 182.598 L2195 210.931 Z\" fill=\"#000000\" fill-rule=\"evenodd\" fill-opacity=\"1\" /><path clip-path=\"url(#clip000)\" d=\"M 0 0 M2212.27 204.589 L2219.91 204.589 L2219.91 178.223 L2211.6 179.89 L2211.6 175.631 L2219.86 173.964 L2224.54 173.964 L2224.54 204.589 L2232.18 204.589 L2232.18 208.524 L2212.27 208.524 L2212.27 204.589 Z\" fill=\"#000000\" fill-rule=\"evenodd\" fill-opacity=\"1\" /><polyline clip-path=\"url(#clip000)\" style=\"stroke:#e26f46; stroke-width:4; stroke-opacity:1; fill:none\" points=\"\n",
       "  2013.16,251.724 2157.16,251.724 \n",
       "  \"/>\n",
       "<path clip-path=\"url(#clip000)\" d=\"M 0 0 M2195 271.411 Q2193.2 276.041 2191.48 277.453 Q2189.77 278.865 2186.9 278.865 L2183.5 278.865 L2183.5 275.3 L2186 275.3 Q2187.76 275.3 2188.73 274.467 Q2189.7 273.634 2190.88 270.532 L2191.65 268.587 L2181.16 243.078 L2185.67 243.078 L2193.77 263.356 L2201.88 243.078 L2206.39 243.078 L2195 271.411 Z\" fill=\"#000000\" fill-rule=\"evenodd\" fill-opacity=\"1\" /><path clip-path=\"url(#clip000)\" d=\"M 0 0 M2215.49 265.069 L2231.81 265.069 L2231.81 269.004 L2209.86 269.004 L2209.86 265.069 Q2212.52 262.314 2217.11 257.685 Q2221.71 253.032 2222.89 251.689 Q2225.14 249.166 2226.02 247.43 Q2226.92 245.671 2226.92 243.981 Q2226.92 241.226 2224.98 239.49 Q2223.06 237.754 2219.96 237.754 Q2217.76 237.754 2215.3 238.518 Q2212.87 239.282 2210.09 240.833 L2210.09 236.111 Q2212.92 234.976 2215.37 234.398 Q2217.83 233.819 2219.86 233.819 Q2225.23 233.819 2228.43 236.504 Q2231.62 239.189 2231.62 243.68 Q2231.62 245.81 2230.81 247.731 Q2230.02 249.629 2227.92 252.222 Q2227.34 252.893 2224.24 256.111 Q2221.14 259.305 2215.49 265.069 Z\" fill=\"#000000\" fill-rule=\"evenodd\" fill-opacity=\"1\" /><polyline clip-path=\"url(#clip000)\" style=\"stroke:#3da44d; stroke-width:4; stroke-opacity:1; fill:none\" points=\"\n",
       "  2013.16,312.204 2157.16,312.204 \n",
       "  \"/>\n",
       "<path clip-path=\"url(#clip000)\" d=\"M 0 0 M2195 331.891 Q2193.2 336.521 2191.48 337.933 Q2189.77 339.345 2186.9 339.345 L2183.5 339.345 L2183.5 335.78 L2186 335.78 Q2187.76 335.78 2188.73 334.947 Q2189.7 334.114 2190.88 331.012 L2191.65 329.067 L2181.16 303.558 L2185.67 303.558 L2193.77 323.836 L2201.88 303.558 L2206.39 303.558 L2195 331.891 Z\" fill=\"#000000\" fill-rule=\"evenodd\" fill-opacity=\"1\" /><path clip-path=\"url(#clip000)\" d=\"M 0 0 M2225.63 310.85 Q2228.98 311.568 2230.86 313.836 Q2232.76 316.105 2232.76 319.438 Q2232.76 324.554 2229.24 327.354 Q2225.72 330.155 2219.24 330.155 Q2217.06 330.155 2214.75 329.716 Q2212.46 329.299 2210 328.442 L2210 323.929 Q2211.95 325.063 2214.26 325.642 Q2216.58 326.22 2219.1 326.22 Q2223.5 326.22 2225.79 324.484 Q2228.1 322.748 2228.1 319.438 Q2228.1 316.382 2225.95 314.669 Q2223.82 312.933 2220 312.933 L2215.97 312.933 L2215.97 309.091 L2220.19 309.091 Q2223.64 309.091 2225.46 307.725 Q2227.29 306.336 2227.29 303.743 Q2227.29 301.081 2225.39 299.669 Q2223.52 298.234 2220 298.234 Q2218.08 298.234 2215.88 298.651 Q2213.68 299.068 2211.04 299.947 L2211.04 295.781 Q2213.71 295.04 2216.02 294.669 Q2218.36 294.299 2220.42 294.299 Q2225.74 294.299 2228.84 296.73 Q2231.95 299.137 2231.95 303.257 Q2231.95 306.128 2230.3 308.118 Q2228.66 310.086 2225.63 310.85 Z\" fill=\"#000000\" fill-rule=\"evenodd\" fill-opacity=\"1\" /></svg>\n"
      ]
     },
     "execution_count": 63,
     "metadata": {},
     "output_type": "execute_result"
    }
   ],
   "source": [
    "plot(vSpace.u, sol_ude.u[1][1:nu, 25])\n",
    "plot!(vSpace.u, sol_ude.u[2][1:nu, 25])\n",
    "plot!(vSpace.u, sol_ude.u[3][1:nu, 25])"
   ]
  },
  {
   "cell_type": "markdown",
   "metadata": {},
   "source": [
    "Universal Kinetic Scheme"
   ]
  },
  {
   "cell_type": "code",
   "execution_count": 75,
   "metadata": {},
   "outputs": [
    {
     "data": {
      "text/plain": [
       "\u001b[36mODEProblem\u001b[0m with uType \u001b[36mArray{Float32,1}\u001b[0m and tType \u001b[36mFloat32\u001b[0m. In-place: \u001b[36mtrue\u001b[0m\n",
       "timespan: (0.0f0, 0.086603284f0)\n",
       "u0: Float32[0.0, 0.0, 0.0, 2.23f-43, 9.573438f-39, 2.224118f-34, 2.7871778f-30, 1.884033f-26, 6.869566f-23, 1.3510988f-19  …  0.00012819431, 3.7681857f-6, 5.9746554f-8, 5.1098764f-10, 2.3573545f-12, 5.8661936f-15, 7.874172f-18, 5.701254f-21, 2.2266546f-24, 4.690858f-28]"
      ]
     },
     "execution_count": 75,
     "metadata": {},
     "output_type": "execute_result"
    }
   ],
   "source": [
    "function nbe_rhs!(df, f, p, t)\n",
    "    H = p[1:nu]\n",
    "    B = p[nu+1:2*nu]\n",
    "    τ = p[2*nu+1]\n",
    "    p_nn = p[2*nu+2:end]\n",
    "\n",
    "    h = f[1:nu]\n",
    "    b = f[nu+1:end]\n",
    "    \n",
    "    f_conv = reshape(f, (size(f)..., 1, 1))\n",
    "    \n",
    "    dh = (H .- h) ./ τ .+ re(p_nn)(f_conv)[1:nu]\n",
    "    db = (B .- b) ./ τ .+ re(p_nn)(f_conv)[nu+1:end]\n",
    "\n",
    "    df[1:nu] .= dh\n",
    "    df[nu+1:end] .= db\n",
    "end\n",
    "\n",
    "ube = ODEProblem(\n",
    "    nbe_rhs!,\n",
    "    [ctr[1].h; ctr[1].b],\n",
    "    tspan,\n",
    "    [H[:, 1]; B[:, 1]; τ[1, 1]; res.minimizer],\n",
    ")"
   ]
  },
  {
   "cell_type": "code",
   "execution_count": 76,
   "metadata": {},
   "outputs": [
    {
     "data": {
      "text/plain": [
       "step_nbe! (generic function with 1 method)"
      ]
     },
     "execution_count": 76,
     "metadata": {},
     "output_type": "execute_result"
    }
   ],
   "source": [
    "ube = ODEProblem(\n",
    "    nbe_rhs!,\n",
    "    [ctr[1].h; ctr[1].b],\n",
    "    tspan,\n",
    "    [H[:, 1]; B[:, 1]; τ[1, 1]; res.minimizer],\n",
    ")\n",
    "\n",
    "function step_nbe!(\n",
    "    fwL,\n",
    "    fhL,\n",
    "    fbL,\n",
    "    w,\n",
    "    prim,\n",
    "    h,\n",
    "    b,\n",
    "    fwR,\n",
    "    fhR,\n",
    "    fbR,\n",
    "    K,\n",
    "    γ,\n",
    "    μ,\n",
    "    ω,\n",
    "    u,\n",
    "    weights,\n",
    "    p,\n",
    "    dx,\n",
    "    tran,\n",
    "    RES,\n",
    "    AVG,\n",
    ")\n",
    "\n",
    "    #--- record W^{n} ---#\n",
    "    w_old = deepcopy(w)\n",
    "    H = maxwellian(u, prim)\n",
    "    B = H .* K ./ (2.0 .* prim[end])\n",
    "    τ = vhs_collision_time(prim, μ, ω)\n",
    "\n",
    "    #--- update W^{n+1} ---#\n",
    "    @. w += (fwL - fwR) / dx\n",
    "    prim .= conserve_prim(w, γ)\n",
    "\n",
    "    #--- record residuals ---#\n",
    "    @. RES += (w - w_old)^2\n",
    "    @. AVG += abs(w)\n",
    "\n",
    "    #--- update f^{n+1} ---#\n",
    "    sol = solve(ube, Midpoint(), u0=[h; b], p=[H; B; τ; p], saveat = tran)\n",
    "    hstar = sol.u[end][1:length(h)]\n",
    "    bstar = sol.u[end][length(h)+1:end]\n",
    "    for i in eachindex(h)\n",
    "        h[i] = hstar[i] + (fhL[i] - fhR[i]) / dx\n",
    "        b[i] = bstar[i] + (fbL[i] - fbR[i]) / dx\n",
    "    end\n",
    "\n",
    "end"
   ]
  },
  {
   "cell_type": "code",
   "execution_count": 77,
   "metadata": {},
   "outputs": [
    {
     "name": "stderr",
     "output_type": "stream",
     "text": [
      "\u001b[32mProgress: 100%|█████████████████████████████████████████| Time: 0:00:22\u001b[39m\n"
     ]
    }
   ],
   "source": [
    "sumRes = zeros(Float32, axes(ib.wL))\n",
    "sumAvg = zeros(Float32, axes(ib.wL))\n",
    "\n",
    "# loop of neural Boltzmann equation\n",
    "@showprogress for iter = 1:50\n",
    "    Kinetic.evolve!(ks, ctr, face, dt)\n",
    "\n",
    "    for i = 2:49\n",
    "        step_nbe!(\n",
    "            face[i].fw,\n",
    "            face[i].fh,\n",
    "            face[i].fb,\n",
    "            ctr[i].w,\n",
    "            ctr[i].prim,\n",
    "            ctr[i].h,\n",
    "            ctr[i].b,\n",
    "            face[i+1].fw,\n",
    "            face[i+1].fh,\n",
    "            face[i+1].fb,\n",
    "            ks.gas.K,\n",
    "            ks.gas.γ,\n",
    "            ks.gas.μᵣ,\n",
    "            ks.gas.ω,\n",
    "            ks.vSpace.u,\n",
    "            ks.vSpace.weights,\n",
    "            res.minimizer,\n",
    "            ctr[i].dx,\n",
    "            tran,\n",
    "            sumRes,\n",
    "            sumAvg,\n",
    "        )\n",
    "    end\n",
    "end"
   ]
  },
  {
   "cell_type": "code",
   "execution_count": 78,
   "metadata": {},
   "outputs": [
    {
     "data": {
      "image/svg+xml": [
       "<?xml version=\"1.0\" encoding=\"utf-8\"?>\n",
       "<svg xmlns=\"http://www.w3.org/2000/svg\" xmlns:xlink=\"http://www.w3.org/1999/xlink\" width=\"600\" height=\"400\" viewBox=\"0 0 2400 1600\">\n",
       "<defs>\n",
       "  <clipPath id=\"clip040\">\n",
       "    <rect x=\"0\" y=\"0\" width=\"2400\" height=\"1600\"/>\n",
       "  </clipPath>\n",
       "</defs>\n",
       "<path clip-path=\"url(#clip040)\" d=\"\n",
       "M0 1600 L2400 1600 L2400 0 L0 0  Z\n",
       "  \" fill=\"#ffffff\" fill-rule=\"evenodd\" fill-opacity=\"1\"/>\n",
       "<defs>\n",
       "  <clipPath id=\"clip041\">\n",
       "    <rect x=\"480\" y=\"0\" width=\"1681\" height=\"1600\"/>\n",
       "  </clipPath>\n",
       "</defs>\n",
       "<path clip-path=\"url(#clip040)\" d=\"\n",
       "M147.663 1423.18 L2352.76 1423.18 L2352.76 47.2441 L147.663 47.2441  Z\n",
       "  \" fill=\"#ffffff\" fill-rule=\"evenodd\" fill-opacity=\"1\"/>\n",
       "<defs>\n",
       "  <clipPath id=\"clip042\">\n",
       "    <rect x=\"147\" y=\"47\" width=\"2206\" height=\"1377\"/>\n",
       "  </clipPath>\n",
       "</defs>\n",
       "<polyline clip-path=\"url(#clip042)\" style=\"stroke:#000000; stroke-width:2; stroke-opacity:0.1; fill:none\" points=\"\n",
       "  340.468,1423.18 340.468,47.2441 \n",
       "  \"/>\n",
       "<polyline clip-path=\"url(#clip042)\" style=\"stroke:#000000; stroke-width:2; stroke-opacity:0.1; fill:none\" points=\"\n",
       "  643.715,1423.18 643.715,47.2441 \n",
       "  \"/>\n",
       "<polyline clip-path=\"url(#clip042)\" style=\"stroke:#000000; stroke-width:2; stroke-opacity:0.1; fill:none\" points=\"\n",
       "  946.962,1423.18 946.962,47.2441 \n",
       "  \"/>\n",
       "<polyline clip-path=\"url(#clip042)\" style=\"stroke:#000000; stroke-width:2; stroke-opacity:0.1; fill:none\" points=\"\n",
       "  1250.21,1423.18 1250.21,47.2441 \n",
       "  \"/>\n",
       "<polyline clip-path=\"url(#clip042)\" style=\"stroke:#000000; stroke-width:2; stroke-opacity:0.1; fill:none\" points=\"\n",
       "  1553.46,1423.18 1553.46,47.2441 \n",
       "  \"/>\n",
       "<polyline clip-path=\"url(#clip042)\" style=\"stroke:#000000; stroke-width:2; stroke-opacity:0.1; fill:none\" points=\"\n",
       "  1856.7,1423.18 1856.7,47.2441 \n",
       "  \"/>\n",
       "<polyline clip-path=\"url(#clip042)\" style=\"stroke:#000000; stroke-width:2; stroke-opacity:0.1; fill:none\" points=\"\n",
       "  2159.95,1423.18 2159.95,47.2441 \n",
       "  \"/>\n",
       "<polyline clip-path=\"url(#clip042)\" style=\"stroke:#000000; stroke-width:2; stroke-opacity:0.1; fill:none\" points=\"\n",
       "  147.663,1295.49 2352.76,1295.49 \n",
       "  \"/>\n",
       "<polyline clip-path=\"url(#clip042)\" style=\"stroke:#000000; stroke-width:2; stroke-opacity:0.1; fill:none\" points=\"\n",
       "  147.663,1033.8 2352.76,1033.8 \n",
       "  \"/>\n",
       "<polyline clip-path=\"url(#clip042)\" style=\"stroke:#000000; stroke-width:2; stroke-opacity:0.1; fill:none\" points=\"\n",
       "  147.663,772.097 2352.76,772.097 \n",
       "  \"/>\n",
       "<polyline clip-path=\"url(#clip042)\" style=\"stroke:#000000; stroke-width:2; stroke-opacity:0.1; fill:none\" points=\"\n",
       "  147.663,510.399 2352.76,510.399 \n",
       "  \"/>\n",
       "<polyline clip-path=\"url(#clip042)\" style=\"stroke:#000000; stroke-width:2; stroke-opacity:0.1; fill:none\" points=\"\n",
       "  147.663,248.701 2352.76,248.701 \n",
       "  \"/>\n",
       "<polyline clip-path=\"url(#clip040)\" style=\"stroke:#000000; stroke-width:4; stroke-opacity:1; fill:none\" points=\"\n",
       "  147.663,1423.18 2352.76,1423.18 \n",
       "  \"/>\n",
       "<polyline clip-path=\"url(#clip040)\" style=\"stroke:#000000; stroke-width:4; stroke-opacity:1; fill:none\" points=\"\n",
       "  147.663,1423.18 147.663,47.2441 \n",
       "  \"/>\n",
       "<polyline clip-path=\"url(#clip040)\" style=\"stroke:#000000; stroke-width:4; stroke-opacity:1; fill:none\" points=\"\n",
       "  340.468,1423.18 340.468,1406.67 \n",
       "  \"/>\n",
       "<polyline clip-path=\"url(#clip040)\" style=\"stroke:#000000; stroke-width:4; stroke-opacity:1; fill:none\" points=\"\n",
       "  643.715,1423.18 643.715,1406.67 \n",
       "  \"/>\n",
       "<polyline clip-path=\"url(#clip040)\" style=\"stroke:#000000; stroke-width:4; stroke-opacity:1; fill:none\" points=\"\n",
       "  946.962,1423.18 946.962,1406.67 \n",
       "  \"/>\n",
       "<polyline clip-path=\"url(#clip040)\" style=\"stroke:#000000; stroke-width:4; stroke-opacity:1; fill:none\" points=\"\n",
       "  1250.21,1423.18 1250.21,1406.67 \n",
       "  \"/>\n",
       "<polyline clip-path=\"url(#clip040)\" style=\"stroke:#000000; stroke-width:4; stroke-opacity:1; fill:none\" points=\"\n",
       "  1553.46,1423.18 1553.46,1406.67 \n",
       "  \"/>\n",
       "<polyline clip-path=\"url(#clip040)\" style=\"stroke:#000000; stroke-width:4; stroke-opacity:1; fill:none\" points=\"\n",
       "  1856.7,1423.18 1856.7,1406.67 \n",
       "  \"/>\n",
       "<polyline clip-path=\"url(#clip040)\" style=\"stroke:#000000; stroke-width:4; stroke-opacity:1; fill:none\" points=\"\n",
       "  2159.95,1423.18 2159.95,1406.67 \n",
       "  \"/>\n",
       "<polyline clip-path=\"url(#clip040)\" style=\"stroke:#000000; stroke-width:4; stroke-opacity:1; fill:none\" points=\"\n",
       "  147.663,1295.49 174.124,1295.49 \n",
       "  \"/>\n",
       "<polyline clip-path=\"url(#clip040)\" style=\"stroke:#000000; stroke-width:4; stroke-opacity:1; fill:none\" points=\"\n",
       "  147.663,1033.8 174.124,1033.8 \n",
       "  \"/>\n",
       "<polyline clip-path=\"url(#clip040)\" style=\"stroke:#000000; stroke-width:4; stroke-opacity:1; fill:none\" points=\"\n",
       "  147.663,772.097 174.124,772.097 \n",
       "  \"/>\n",
       "<polyline clip-path=\"url(#clip040)\" style=\"stroke:#000000; stroke-width:4; stroke-opacity:1; fill:none\" points=\"\n",
       "  147.663,510.399 174.124,510.399 \n",
       "  \"/>\n",
       "<polyline clip-path=\"url(#clip040)\" style=\"stroke:#000000; stroke-width:4; stroke-opacity:1; fill:none\" points=\"\n",
       "  147.663,248.701 174.124,248.701 \n",
       "  \"/>\n",
       "<path clip-path=\"url(#clip040)\" d=\"M 0 0 M307.54 1461.77 L320.016 1461.77 L320.016 1465.56 L307.54 1465.56 L307.54 1461.77 Z\" fill=\"#000000\" fill-rule=\"evenodd\" fill-opacity=\"1\" /><path clip-path=\"url(#clip040)\" d=\"M 0 0 M339.252 1458.02 Q342.609 1458.74 344.484 1461 Q346.382 1463.27 346.382 1466.61 Q346.382 1471.72 342.864 1474.52 Q339.345 1477.32 332.864 1477.32 Q330.688 1477.32 328.373 1476.88 Q326.081 1476.47 323.628 1475.61 L323.628 1471.1 Q325.572 1472.23 327.887 1472.81 Q330.202 1473.39 332.725 1473.39 Q337.123 1473.39 339.414 1471.65 Q341.729 1469.92 341.729 1466.61 Q341.729 1463.55 339.577 1461.84 Q337.447 1460.1 333.627 1460.1 L329.6 1460.1 L329.6 1456.26 L333.813 1456.26 Q337.262 1456.26 339.09 1454.89 Q340.919 1453.5 340.919 1450.91 Q340.919 1448.25 339.021 1446.84 Q337.146 1445.4 333.627 1445.4 Q331.706 1445.4 329.507 1445.82 Q327.308 1446.24 324.669 1447.11 L324.669 1442.95 Q327.331 1442.21 329.646 1441.84 Q331.984 1441.47 334.044 1441.47 Q339.368 1441.47 342.47 1443.9 Q345.572 1446.3 345.572 1450.43 Q345.572 1453.3 343.928 1455.29 Q342.285 1457.25 339.252 1458.02 Z\" fill=\"#000000\" fill-rule=\"evenodd\" fill-opacity=\"1\" /><path clip-path=\"url(#clip040)\" d=\"M 0 0 M361.451 1445.17 Q357.84 1445.17 356.012 1448.74 Q354.206 1452.28 354.206 1459.41 Q354.206 1466.51 356.012 1470.08 Q357.84 1473.62 361.451 1473.62 Q365.086 1473.62 366.891 1470.08 Q368.72 1466.51 368.72 1459.41 Q368.72 1452.28 366.891 1448.74 Q365.086 1445.17 361.451 1445.17 M361.451 1441.47 Q367.262 1441.47 370.317 1446.07 Q373.396 1450.66 373.396 1459.41 Q373.396 1468.13 370.317 1472.74 Q367.262 1477.32 361.451 1477.32 Q355.641 1477.32 352.563 1472.74 Q349.507 1468.13 349.507 1459.41 Q349.507 1450.66 352.563 1446.07 Q355.641 1441.47 361.451 1441.47 Z\" fill=\"#000000\" fill-rule=\"evenodd\" fill-opacity=\"1\" /><path clip-path=\"url(#clip040)\" d=\"M 0 0 M611.261 1461.77 L623.738 1461.77 L623.738 1465.56 L611.261 1465.56 L611.261 1461.77 Z\" fill=\"#000000\" fill-rule=\"evenodd\" fill-opacity=\"1\" /><path clip-path=\"url(#clip040)\" d=\"M 0 0 M632.835 1472.72 L649.155 1472.72 L649.155 1476.65 L627.21 1476.65 L627.21 1472.72 Q629.872 1469.96 634.456 1465.33 Q639.062 1460.68 640.243 1459.34 Q642.488 1456.81 643.368 1455.08 Q644.271 1453.32 644.271 1451.63 Q644.271 1448.87 642.326 1447.14 Q640.405 1445.4 637.303 1445.4 Q635.104 1445.4 632.65 1446.17 Q630.22 1446.93 627.442 1448.48 L627.442 1443.76 Q630.266 1442.62 632.72 1442.05 Q635.173 1441.47 637.21 1441.47 Q642.581 1441.47 645.775 1444.15 Q648.97 1446.84 648.97 1451.33 Q648.97 1453.46 648.159 1455.38 Q647.372 1457.28 645.266 1459.87 Q644.687 1460.54 641.585 1463.76 Q638.484 1466.95 632.835 1472.72 Z\" fill=\"#000000\" fill-rule=\"evenodd\" fill-opacity=\"1\" /><path clip-path=\"url(#clip040)\" d=\"M 0 0 M664.224 1445.17 Q660.613 1445.17 658.784 1448.74 Q656.979 1452.28 656.979 1459.41 Q656.979 1466.51 658.784 1470.08 Q660.613 1473.62 664.224 1473.62 Q667.858 1473.62 669.664 1470.08 Q671.493 1466.51 671.493 1459.41 Q671.493 1452.28 669.664 1448.74 Q667.858 1445.17 664.224 1445.17 M664.224 1441.47 Q670.034 1441.47 673.09 1446.07 Q676.169 1450.66 676.169 1459.41 Q676.169 1468.13 673.09 1472.74 Q670.034 1477.32 664.224 1477.32 Q658.414 1477.32 655.335 1472.74 Q652.28 1468.13 652.28 1459.41 Q652.28 1450.66 655.335 1446.07 Q658.414 1441.47 664.224 1441.47 Z\" fill=\"#000000\" fill-rule=\"evenodd\" fill-opacity=\"1\" /><path clip-path=\"url(#clip040)\" d=\"M 0 0 M914.324 1461.77 L926.8 1461.77 L926.8 1465.56 L914.324 1465.56 L914.324 1461.77 Z\" fill=\"#000000\" fill-rule=\"evenodd\" fill-opacity=\"1\" /><path clip-path=\"url(#clip040)\" d=\"M 0 0 M932.68 1472.72 L940.319 1472.72 L940.319 1446.35 L932.009 1448.02 L932.009 1443.76 L940.272 1442.09 L944.948 1442.09 L944.948 1472.72 L952.587 1472.72 L952.587 1476.65 L932.68 1476.65 L932.68 1472.72 Z\" fill=\"#000000\" fill-rule=\"evenodd\" fill-opacity=\"1\" /><path clip-path=\"url(#clip040)\" d=\"M 0 0 M967.657 1445.17 Q964.045 1445.17 962.217 1448.74 Q960.411 1452.28 960.411 1459.41 Q960.411 1466.51 962.217 1470.08 Q964.045 1473.62 967.657 1473.62 Q971.291 1473.62 973.096 1470.08 Q974.925 1466.51 974.925 1459.41 Q974.925 1452.28 973.096 1448.74 Q971.291 1445.17 967.657 1445.17 M967.657 1441.47 Q973.467 1441.47 976.522 1446.07 Q979.601 1450.66 979.601 1459.41 Q979.601 1468.13 976.522 1472.74 Q973.467 1477.32 967.657 1477.32 Q961.846 1477.32 958.768 1472.74 Q955.712 1468.13 955.712 1459.41 Q955.712 1450.66 958.768 1446.07 Q961.846 1441.47 967.657 1441.47 Z\" fill=\"#000000\" fill-rule=\"evenodd\" fill-opacity=\"1\" /><path clip-path=\"url(#clip040)\" d=\"M 0 0 M1250.21 1445.17 Q1246.6 1445.17 1244.77 1448.74 Q1242.96 1452.28 1242.96 1459.41 Q1242.96 1466.51 1244.77 1470.08 Q1246.6 1473.62 1250.21 1473.62 Q1253.84 1473.62 1255.65 1470.08 Q1257.48 1466.51 1257.48 1459.41 Q1257.48 1452.28 1255.65 1448.74 Q1253.84 1445.17 1250.21 1445.17 M1250.21 1441.47 Q1256.02 1441.47 1259.08 1446.07 Q1262.15 1450.66 1262.15 1459.41 Q1262.15 1468.13 1259.08 1472.74 Q1256.02 1477.32 1250.21 1477.32 Q1244.4 1477.32 1241.32 1472.74 Q1238.27 1468.13 1238.27 1459.41 Q1238.27 1450.66 1241.32 1446.07 Q1244.4 1441.47 1250.21 1441.47 Z\" fill=\"#000000\" fill-rule=\"evenodd\" fill-opacity=\"1\" /><path clip-path=\"url(#clip040)\" d=\"M 0 0 M1530.33 1472.72 L1537.97 1472.72 L1537.97 1446.35 L1529.66 1448.02 L1529.66 1443.76 L1537.92 1442.09 L1542.6 1442.09 L1542.6 1472.72 L1550.24 1472.72 L1550.24 1476.65 L1530.33 1476.65 L1530.33 1472.72 Z\" fill=\"#000000\" fill-rule=\"evenodd\" fill-opacity=\"1\" /><path clip-path=\"url(#clip040)\" d=\"M 0 0 M1565.31 1445.17 Q1561.7 1445.17 1559.87 1448.74 Q1558.06 1452.28 1558.06 1459.41 Q1558.06 1466.51 1559.87 1470.08 Q1561.7 1473.62 1565.31 1473.62 Q1568.94 1473.62 1570.75 1470.08 Q1572.58 1466.51 1572.58 1459.41 Q1572.58 1452.28 1570.75 1448.74 Q1568.94 1445.17 1565.31 1445.17 M1565.31 1441.47 Q1571.12 1441.47 1574.17 1446.07 Q1577.25 1450.66 1577.25 1459.41 Q1577.25 1468.13 1574.17 1472.74 Q1571.12 1477.32 1565.31 1477.32 Q1559.5 1477.32 1556.42 1472.74 Q1553.36 1468.13 1553.36 1459.41 Q1553.36 1450.66 1556.42 1446.07 Q1559.5 1441.47 1565.31 1441.47 Z\" fill=\"#000000\" fill-rule=\"evenodd\" fill-opacity=\"1\" /><path clip-path=\"url(#clip040)\" d=\"M 0 0 M1837.85 1472.72 L1854.17 1472.72 L1854.17 1476.65 L1832.22 1476.65 L1832.22 1472.72 Q1834.89 1469.96 1839.47 1465.33 Q1844.08 1460.68 1845.26 1459.34 Q1847.5 1456.81 1848.38 1455.08 Q1849.29 1453.32 1849.29 1451.63 Q1849.29 1448.87 1847.34 1447.14 Q1845.42 1445.4 1842.32 1445.4 Q1840.12 1445.4 1837.66 1446.17 Q1835.23 1446.93 1832.46 1448.48 L1832.46 1443.76 Q1835.28 1442.62 1837.73 1442.05 Q1840.19 1441.47 1842.22 1441.47 Q1847.6 1441.47 1850.79 1444.15 Q1853.98 1446.84 1853.98 1451.33 Q1853.98 1453.46 1853.17 1455.38 Q1852.39 1457.28 1850.28 1459.87 Q1849.7 1460.54 1846.6 1463.76 Q1843.5 1466.95 1837.85 1472.72 Z\" fill=\"#000000\" fill-rule=\"evenodd\" fill-opacity=\"1\" /><path clip-path=\"url(#clip040)\" d=\"M 0 0 M1869.24 1445.17 Q1865.63 1445.17 1863.8 1448.74 Q1861.99 1452.28 1861.99 1459.41 Q1861.99 1466.51 1863.8 1470.08 Q1865.63 1473.62 1869.24 1473.62 Q1872.87 1473.62 1874.68 1470.08 Q1876.51 1466.51 1876.51 1459.41 Q1876.51 1452.28 1874.68 1448.74 Q1872.87 1445.17 1869.24 1445.17 M1869.24 1441.47 Q1875.05 1441.47 1878.1 1446.07 Q1881.18 1450.66 1881.18 1459.41 Q1881.18 1468.13 1878.1 1472.74 Q1875.05 1477.32 1869.24 1477.32 Q1863.43 1477.32 1860.35 1472.74 Q1857.29 1468.13 1857.29 1459.41 Q1857.29 1450.66 1860.35 1446.07 Q1863.43 1441.47 1869.24 1441.47 Z\" fill=\"#000000\" fill-rule=\"evenodd\" fill-opacity=\"1\" /><path clip-path=\"url(#clip040)\" d=\"M 0 0 M2150.69 1458.02 Q2154.05 1458.74 2155.92 1461 Q2157.82 1463.27 2157.82 1466.61 Q2157.82 1471.72 2154.3 1474.52 Q2150.78 1477.32 2144.3 1477.32 Q2142.13 1477.32 2139.81 1476.88 Q2137.52 1476.47 2135.07 1475.61 L2135.07 1471.1 Q2137.01 1472.23 2139.33 1472.81 Q2141.64 1473.39 2144.16 1473.39 Q2148.56 1473.39 2150.85 1471.65 Q2153.17 1469.92 2153.17 1466.61 Q2153.17 1463.55 2151.02 1461.84 Q2148.89 1460.1 2145.07 1460.1 L2141.04 1460.1 L2141.04 1456.26 L2145.25 1456.26 Q2148.7 1456.26 2150.53 1454.89 Q2152.36 1453.5 2152.36 1450.91 Q2152.36 1448.25 2150.46 1446.84 Q2148.59 1445.4 2145.07 1445.4 Q2143.15 1445.4 2140.95 1445.82 Q2138.75 1446.24 2136.11 1447.11 L2136.11 1442.95 Q2138.77 1442.21 2141.09 1441.84 Q2143.42 1441.47 2145.48 1441.47 Q2150.81 1441.47 2153.91 1443.9 Q2157.01 1446.3 2157.01 1450.43 Q2157.01 1453.3 2155.37 1455.29 Q2153.72 1457.25 2150.69 1458.02 Z\" fill=\"#000000\" fill-rule=\"evenodd\" fill-opacity=\"1\" /><path clip-path=\"url(#clip040)\" d=\"M 0 0 M2172.89 1445.17 Q2169.28 1445.17 2167.45 1448.74 Q2165.65 1452.28 2165.65 1459.41 Q2165.65 1466.51 2167.45 1470.08 Q2169.28 1473.62 2172.89 1473.62 Q2176.53 1473.62 2178.33 1470.08 Q2180.16 1466.51 2180.16 1459.41 Q2180.16 1452.28 2178.33 1448.74 Q2176.53 1445.17 2172.89 1445.17 M2172.89 1441.47 Q2178.7 1441.47 2181.76 1446.07 Q2184.84 1450.66 2184.84 1459.41 Q2184.84 1468.13 2181.76 1472.74 Q2178.7 1477.32 2172.89 1477.32 Q2167.08 1477.32 2164 1472.74 Q2160.95 1468.13 2160.95 1459.41 Q2160.95 1450.66 2164 1446.07 Q2167.08 1441.47 2172.89 1441.47 Z\" fill=\"#000000\" fill-rule=\"evenodd\" fill-opacity=\"1\" /><path clip-path=\"url(#clip040)\" d=\"M 0 0 M74.9365 1281.29 Q71.3254 1281.29 69.4967 1284.86 Q67.6912 1288.4 67.6912 1295.53 Q67.6912 1302.63 69.4967 1306.2 Q71.3254 1309.74 74.9365 1309.74 Q78.5707 1309.74 80.3763 1306.2 Q82.205 1302.63 82.205 1295.53 Q82.205 1288.4 80.3763 1284.86 Q78.5707 1281.29 74.9365 1281.29 M74.9365 1277.59 Q80.7467 1277.59 83.8022 1282.2 Q86.8809 1286.78 86.8809 1295.53 Q86.8809 1304.26 83.8022 1308.86 Q80.7467 1313.44 74.9365 1313.44 Q69.1264 1313.44 66.0477 1308.86 Q62.9921 1304.26 62.9921 1295.53 Q62.9921 1286.78 66.0477 1282.2 Q69.1264 1277.59 74.9365 1277.59 Z\" fill=\"#000000\" fill-rule=\"evenodd\" fill-opacity=\"1\" /><path clip-path=\"url(#clip040)\" d=\"M 0 0 M91.9503 1306.89 L96.8345 1306.89 L96.8345 1312.77 L91.9503 1312.77 L91.9503 1306.89 Z\" fill=\"#000000\" fill-rule=\"evenodd\" fill-opacity=\"1\" /><path clip-path=\"url(#clip040)\" d=\"M 0 0 M102.043 1312.06 L102.043 1307.8 Q103.802 1308.63 105.608 1309.07 Q107.413 1309.51 109.149 1309.51 Q113.779 1309.51 116.209 1306.41 Q118.663 1303.28 119.01 1296.94 Q117.668 1298.93 115.608 1300 Q113.547 1301.06 111.047 1301.06 Q105.862 1301.06 102.83 1297.94 Q99.8206 1294.79 99.8206 1289.35 Q99.8206 1284.02 102.969 1280.81 Q106.117 1277.59 111.348 1277.59 Q117.344 1277.59 120.492 1282.2 Q123.663 1286.78 123.663 1295.53 Q123.663 1303.7 119.774 1308.58 Q115.909 1313.44 109.358 1313.44 Q107.598 1313.44 105.793 1313.1 Q103.987 1312.75 102.043 1312.06 M111.348 1297.4 Q114.496 1297.4 116.325 1295.25 Q118.177 1293.1 118.177 1289.35 Q118.177 1285.62 116.325 1283.47 Q114.496 1281.29 111.348 1281.29 Q108.2 1281.29 106.348 1283.47 Q104.52 1285.62 104.52 1289.35 Q104.52 1293.1 106.348 1295.25 Q108.2 1297.4 111.348 1297.4 Z\" fill=\"#000000\" fill-rule=\"evenodd\" fill-opacity=\"1\" /><path clip-path=\"url(#clip040)\" d=\"M 0 0 M68.3856 1047.14 L76.0245 1047.14 L76.0245 1020.77 L67.7143 1022.44 L67.7143 1018.18 L75.9782 1016.52 L80.6541 1016.52 L80.6541 1047.14 L88.2929 1047.14 L88.2929 1051.08 L68.3856 1051.08 L68.3856 1047.14 Z\" fill=\"#000000\" fill-rule=\"evenodd\" fill-opacity=\"1\" /><path clip-path=\"url(#clip040)\" d=\"M 0 0 M93.3623 1045.2 L98.2466 1045.2 L98.2466 1051.08 L93.3623 1051.08 L93.3623 1045.2 Z\" fill=\"#000000\" fill-rule=\"evenodd\" fill-opacity=\"1\" /><path clip-path=\"url(#clip040)\" d=\"M 0 0 M107.344 1047.14 L123.663 1047.14 L123.663 1051.08 L101.719 1051.08 L101.719 1047.14 Q104.381 1044.39 108.964 1039.76 Q113.571 1035.1 114.751 1033.76 Q116.996 1031.24 117.876 1029.5 Q118.779 1027.74 118.779 1026.05 Q118.779 1023.3 116.834 1021.56 Q114.913 1019.83 111.811 1019.83 Q109.612 1019.83 107.159 1020.59 Q104.728 1021.35 101.95 1022.9 L101.95 1018.18 Q104.774 1017.05 107.228 1016.47 Q109.682 1015.89 111.719 1015.89 Q117.089 1015.89 120.283 1018.58 Q123.478 1021.26 123.478 1025.75 Q123.478 1027.88 122.668 1029.8 Q121.881 1031.7 119.774 1034.29 Q119.196 1034.96 116.094 1038.18 Q112.992 1041.38 107.344 1047.14 Z\" fill=\"#000000\" fill-rule=\"evenodd\" fill-opacity=\"1\" /><path clip-path=\"url(#clip040)\" d=\"M 0 0 M67.7838 785.442 L75.4226 785.442 L75.4226 759.076 L67.1125 760.743 L67.1125 756.484 L75.3763 754.817 L80.0522 754.817 L80.0522 785.442 L87.6911 785.442 L87.6911 789.377 L67.7838 789.377 L67.7838 785.442 Z\" fill=\"#000000\" fill-rule=\"evenodd\" fill-opacity=\"1\" /><path clip-path=\"url(#clip040)\" d=\"M 0 0 M92.7605 783.498 L97.6447 783.498 L97.6447 789.377 L92.7605 789.377 L92.7605 783.498 Z\" fill=\"#000000\" fill-rule=\"evenodd\" fill-opacity=\"1\" /><path clip-path=\"url(#clip040)\" d=\"M 0 0 M102.76 754.817 L121.117 754.817 L121.117 758.752 L107.043 758.752 L107.043 767.225 Q108.061 766.877 109.08 766.715 Q110.098 766.53 111.117 766.53 Q116.904 766.53 120.283 769.701 Q123.663 772.873 123.663 778.289 Q123.663 783.868 120.191 786.97 Q116.719 790.049 110.399 790.049 Q108.223 790.049 105.955 789.678 Q103.71 789.308 101.302 788.567 L101.302 783.868 Q103.385 785.002 105.608 785.558 Q107.83 786.113 110.307 786.113 Q114.311 786.113 116.649 784.007 Q118.987 781.9 118.987 778.289 Q118.987 774.678 116.649 772.572 Q114.311 770.465 110.307 770.465 Q108.432 770.465 106.557 770.882 Q104.705 771.299 102.76 772.178 L102.76 754.817 Z\" fill=\"#000000\" fill-rule=\"evenodd\" fill-opacity=\"1\" /><path clip-path=\"url(#clip040)\" d=\"M 0 0 M66.881 523.744 L74.5198 523.744 L74.5198 497.378 L66.2097 499.045 L66.2097 494.786 L74.4735 493.119 L79.1494 493.119 L79.1494 523.744 L86.7883 523.744 L86.7883 527.679 L66.881 527.679 L66.881 523.744 Z\" fill=\"#000000\" fill-rule=\"evenodd\" fill-opacity=\"1\" /><path clip-path=\"url(#clip040)\" d=\"M 0 0 M91.8577 521.799 L96.7419 521.799 L96.7419 527.679 L91.8577 527.679 L91.8577 521.799 Z\" fill=\"#000000\" fill-rule=\"evenodd\" fill-opacity=\"1\" /><path clip-path=\"url(#clip040)\" d=\"M 0 0 M111.811 511.267 Q108.478 511.267 106.557 513.049 Q104.659 514.832 104.659 517.957 Q104.659 521.082 106.557 522.864 Q108.478 524.647 111.811 524.647 Q115.145 524.647 117.066 522.864 Q118.987 521.059 118.987 517.957 Q118.987 514.832 117.066 513.049 Q115.168 511.267 111.811 511.267 M107.135 509.276 Q104.126 508.536 102.436 506.475 Q100.77 504.415 100.77 501.452 Q100.77 497.309 103.71 494.901 Q106.672 492.494 111.811 492.494 Q116.973 492.494 119.913 494.901 Q122.853 497.309 122.853 501.452 Q122.853 504.415 121.163 506.475 Q119.496 508.536 116.51 509.276 Q119.89 510.063 121.765 512.355 Q123.663 514.647 123.663 517.957 Q123.663 522.98 120.584 525.665 Q117.529 528.35 111.811 528.35 Q106.094 528.35 103.015 525.665 Q99.9595 522.98 99.9595 517.957 Q99.9595 514.647 101.858 512.355 Q103.756 510.063 107.135 509.276 M105.422 501.892 Q105.422 504.577 107.089 506.082 Q108.779 507.587 111.811 507.587 Q114.821 507.587 116.51 506.082 Q118.223 504.577 118.223 501.892 Q118.223 499.207 116.51 497.702 Q114.821 496.198 111.811 496.198 Q108.779 496.198 107.089 497.702 Q105.422 499.207 105.422 501.892 Z\" fill=\"#000000\" fill-rule=\"evenodd\" fill-opacity=\"1\" /><path clip-path=\"url(#clip040)\" d=\"M 0 0 M71.6032 262.046 L87.9225 262.046 L87.9225 265.981 L65.9782 265.981 L65.9782 262.046 Q68.6402 259.291 73.2236 254.661 Q77.83 250.009 79.0106 248.666 Q81.2559 246.143 82.1355 244.407 Q83.0383 242.648 83.0383 240.958 Q83.0383 238.203 81.0939 236.467 Q79.1726 234.731 76.0708 234.731 Q73.8717 234.731 71.418 235.495 Q68.9875 236.259 66.2097 237.81 L66.2097 233.087 Q69.0338 231.953 71.4875 231.375 Q73.9411 230.796 75.9782 230.796 Q81.3485 230.796 84.5429 233.481 Q87.7374 236.166 87.7374 240.657 Q87.7374 242.787 86.9272 244.708 Q86.1402 246.606 84.0337 249.199 Q83.455 249.87 80.3531 253.087 Q77.2513 256.282 71.6032 262.046 Z\" fill=\"#000000\" fill-rule=\"evenodd\" fill-opacity=\"1\" /><path clip-path=\"url(#clip040)\" d=\"M 0 0 M92.992 260.101 L97.8762 260.101 L97.8762 265.981 L92.992 265.981 L92.992 260.101 Z\" fill=\"#000000\" fill-rule=\"evenodd\" fill-opacity=\"1\" /><path clip-path=\"url(#clip040)\" d=\"M 0 0 M103.756 262.046 L111.395 262.046 L111.395 235.68 L103.085 237.347 L103.085 233.087 L111.348 231.421 L116.024 231.421 L116.024 262.046 L123.663 262.046 L123.663 265.981 L103.756 265.981 L103.756 262.046 Z\" fill=\"#000000\" fill-rule=\"evenodd\" fill-opacity=\"1\" /><path clip-path=\"url(#clip040)\" d=\"M 0 0 M1232.04 1508.52 L1238.94 1508.52 L1250.75 1526.19 L1262.62 1508.52 L1269.53 1508.52 L1254.25 1531.34 L1270.55 1556.04 L1263.64 1556.04 L1250.27 1535.83 L1236.81 1556.04 L1229.87 1556.04 L1246.84 1530.68 L1232.04 1508.52 Z\" fill=\"#000000\" fill-rule=\"evenodd\" fill-opacity=\"1\" /><polyline clip-path=\"url(#clip042)\" style=\"stroke:#009af9; stroke-width:8; stroke-opacity:1; fill:none\" points=\"\n",
       "  210.071,1208.26 252.526,1208.5 294.981,1208.57 337.435,1208.61 379.89,1208.6 422.344,1208.54 464.799,1208.45 507.254,1208.35 549.708,1208.26 592.163,1208.19 \n",
       "  634.618,1208.13 677.072,1208.07 719.527,1208 761.981,1207.89 804.436,1207.69 846.891,1207.34 889.345,1206.69 931.8,1205.45 974.254,1202.97 1016.71,1197.79 \n",
       "  1059.16,1186.24 1101.62,1158.63 1144.07,1089.98 1186.53,936.048 1228.98,693.122 1271.44,449.437 1313.89,277.928 1356.35,180.155 1398.8,130.274 1441.26,106.272 \n",
       "  1483.71,95.1248 1526.16,90.094 1568.62,87.8959 1611.07,86.9795 1653.53,86.6274 1695.98,86.5099 1738.44,86.4814 1780.89,86.4789 1823.35,86.4783 1865.8,86.4696 \n",
       "  1908.26,86.4498 1950.71,86.4163 1993.17,86.3689 2035.62,86.3078 2078.07,86.2391 2120.53,86.1857 2162.98,86.2015 2205.44,86.3895 2247.89,86.8714 2290.35,86.6971 \n",
       "  \n",
       "  \"/>\n",
       "<polyline clip-path=\"url(#clip042)\" style=\"stroke:#e26f46; stroke-width:8; stroke-opacity:1; fill:none\" points=\"\n",
       "  210.071,487.944 252.526,488.208 294.981,488.109 337.435,487.993 379.89,487.891 422.344,487.817 464.799,487.776 507.254,487.77 549.708,487.799 592.163,487.864 \n",
       "  634.618,487.964 677.072,488.104 719.527,488.3 761.981,488.581 804.436,489.009 846.891,489.705 889.345,490.911 931.8,493.111 974.254,497.354 1016.71,505.987 \n",
       "  1059.16,524.587 1101.62,566.651 1144.07,660.803 1186.53,835.013 1228.98,1044.12 1271.44,1203.28 1313.89,1294.85 1356.35,1341.26 1398.8,1363.59 1441.26,1374.13 \n",
       "  1483.71,1379.08 1526.16,1381.43 1568.62,1382.56 1611.07,1383.13 1653.53,1383.43 1695.98,1383.6 1738.44,1383.71 1780.89,1383.77 1823.35,1383.81 1865.8,1383.85 \n",
       "  1908.26,1383.88 1950.71,1383.91 1993.17,1383.96 2035.62,1384.02 2078.07,1384.1 2120.53,1384.18 2162.98,1384.24 2205.44,1384.21 2247.89,1384.02 2290.35,1383.81 \n",
       "  \n",
       "  \"/>\n",
       "<polyline clip-path=\"url(#clip042)\" style=\"stroke:#3da44d; stroke-width:8; stroke-opacity:1; fill:none\" points=\"\n",
       "  210.071,1208.26 252.526,1206.12 294.981,1205.86 337.435,1205.77 379.89,1205.79 422.344,1205.88 464.799,1206 507.254,1206.12 549.708,1206.21 592.163,1206.24 \n",
       "  634.618,1206.2 677.072,1206.06 719.527,1205.79 761.981,1205.33 804.436,1204.58 846.891,1203.35 889.345,1201.3 931.8,1197.72 974.254,1191.15 1016.71,1178.39 \n",
       "  1059.16,1152.21 1101.62,1096.09 1144.07,978.937 1186.53,781.49 1228.98,569.433 1271.44,423.554 1313.89,344.676 1356.35,305.551 1398.8,286.496 1441.26,277.13 \n",
       "  1483.71,272.443 1526.16,270.064 1568.62,268.861 1611.07,268.265 1653.53,267.982 1695.98,267.858 1738.44,267.808 1780.89,267.788 1823.35,267.773 1865.8,267.75 \n",
       "  1908.26,267.71 1950.71,267.643 1993.17,267.539 2035.62,267.382 2078.07,267.158 2120.53,266.859 2162.98,266.492 2205.44,266.092 2247.89,265.748 2290.35,267.783 \n",
       "  \n",
       "  \"/>\n",
       "<path clip-path=\"url(#clip040)\" d=\"\n",
       "M1764.11 372.684 L2280.76 372.684 L2280.76 130.764 L1764.11 130.764  Z\n",
       "  \" fill=\"#ffffff\" fill-rule=\"evenodd\" fill-opacity=\"1\"/>\n",
       "<polyline clip-path=\"url(#clip040)\" style=\"stroke:#000000; stroke-width:4; stroke-opacity:1; fill:none\" points=\"\n",
       "  1764.11,372.684 2280.76,372.684 2280.76,130.764 1764.11,130.764 1764.11,372.684 \n",
       "  \"/>\n",
       "<polyline clip-path=\"url(#clip040)\" style=\"stroke:#009af9; stroke-width:4; stroke-opacity:1; fill:none\" points=\"\n",
       "  1788.11,191.244 1932.11,191.244 \n",
       "  \"/>\n",
       "<path clip-path=\"url(#clip040)\" d=\"M 0 0 M1960.79 177.807 L1960.79 204.682 L1966.44 204.682 Q1973.59 204.682 1976.9 201.441 Q1980.23 198.2 1980.23 191.209 Q1980.23 184.265 1976.9 181.047 Q1973.59 177.807 1966.44 177.807 L1960.79 177.807 M1956.11 173.964 L1965.72 173.964 Q1975.77 173.964 1980.47 178.154 Q1985.16 182.321 1985.16 191.209 Q1985.16 200.145 1980.44 204.334 Q1975.72 208.524 1965.72 208.524 L1956.11 208.524 L1956.11 173.964 Z\" fill=\"#000000\" fill-rule=\"evenodd\" fill-opacity=\"1\" /><path clip-path=\"url(#clip040)\" d=\"M 0 0 M2011.81 194.496 L2011.81 196.58 L1992.22 196.58 Q1992.5 200.978 1994.86 203.293 Q1997.25 205.584 2001.48 205.584 Q2003.94 205.584 2006.23 204.982 Q2008.54 204.381 2010.81 203.177 L2010.81 207.205 Q2008.52 208.177 2006.11 208.686 Q2003.71 209.195 2001.23 209.195 Q1995.03 209.195 1991.39 205.584 Q1987.78 201.973 1987.78 195.816 Q1987.78 189.45 1991.21 185.723 Q1994.66 181.973 2000.49 181.973 Q2005.72 181.973 2008.75 185.353 Q2011.81 188.709 2011.81 194.496 M2007.55 193.246 Q2007.5 189.751 2005.58 187.668 Q2003.68 185.584 2000.53 185.584 Q1996.97 185.584 1994.82 187.598 Q1992.69 189.612 1992.36 193.27 L2007.55 193.246 Z\" fill=\"#000000\" fill-rule=\"evenodd\" fill-opacity=\"1\" /><path clip-path=\"url(#clip040)\" d=\"M 0 0 M2037.83 192.876 L2037.83 208.524 L2033.57 208.524 L2033.57 193.015 Q2033.57 189.334 2032.13 187.506 Q2030.7 185.677 2027.83 185.677 Q2024.38 185.677 2022.39 187.876 Q2020.4 190.075 2020.4 193.871 L2020.4 208.524 L2016.11 208.524 L2016.11 182.598 L2020.4 182.598 L2020.4 186.626 Q2021.92 184.288 2023.98 183.131 Q2026.07 181.973 2028.78 181.973 Q2033.24 181.973 2035.53 184.751 Q2037.83 187.506 2037.83 192.876 Z\" fill=\"#000000\" fill-rule=\"evenodd\" fill-opacity=\"1\" /><path clip-path=\"url(#clip040)\" d=\"M 0 0 M2058.82 183.362 L2058.82 187.39 Q2057.02 186.464 2055.07 186.001 Q2053.13 185.538 2051.04 185.538 Q2047.87 185.538 2046.28 186.51 Q2044.7 187.483 2044.7 189.427 Q2044.7 190.908 2045.84 191.765 Q2046.97 192.598 2050.4 193.362 L2051.85 193.686 Q2056.39 194.658 2058.29 196.441 Q2060.21 198.2 2060.21 201.371 Q2060.21 204.982 2057.34 207.089 Q2054.49 209.195 2049.49 209.195 Q2047.41 209.195 2045.14 208.779 Q2042.9 208.385 2040.4 207.575 L2040.4 203.177 Q2042.76 204.404 2045.05 205.029 Q2047.34 205.631 2049.59 205.631 Q2052.59 205.631 2054.22 204.612 Q2055.84 203.57 2055.84 201.695 Q2055.84 199.959 2054.66 199.033 Q2053.5 198.107 2049.54 197.251 L2048.06 196.904 Q2044.1 196.07 2042.34 194.358 Q2040.58 192.621 2040.58 189.612 Q2040.58 185.955 2043.17 183.964 Q2045.77 181.973 2050.53 181.973 Q2052.9 181.973 2054.98 182.321 Q2057.06 182.668 2058.82 183.362 Z\" fill=\"#000000\" fill-rule=\"evenodd\" fill-opacity=\"1\" /><path clip-path=\"url(#clip040)\" d=\"M 0 0 M2064.68 182.598 L2068.94 182.598 L2068.94 208.524 L2064.68 208.524 L2064.68 182.598 M2064.68 172.506 L2068.94 172.506 L2068.94 177.899 L2064.68 177.899 L2064.68 172.506 Z\" fill=\"#000000\" fill-rule=\"evenodd\" fill-opacity=\"1\" /><path clip-path=\"url(#clip040)\" d=\"M 0 0 M2077.62 175.237 L2077.62 182.598 L2086.39 182.598 L2086.39 185.908 L2077.62 185.908 L2077.62 199.982 Q2077.62 203.154 2078.47 204.057 Q2079.35 204.959 2082.02 204.959 L2086.39 204.959 L2086.39 208.524 L2082.02 208.524 Q2077.09 208.524 2075.21 206.695 Q2073.34 204.844 2073.34 199.982 L2073.34 185.908 L2070.21 185.908 L2070.21 182.598 L2073.34 182.598 L2073.34 175.237 L2077.62 175.237 Z\" fill=\"#000000\" fill-rule=\"evenodd\" fill-opacity=\"1\" /><path clip-path=\"url(#clip040)\" d=\"M 0 0 M2101.65 210.931 Q2099.84 215.561 2098.13 216.973 Q2096.41 218.385 2093.54 218.385 L2090.14 218.385 L2090.14 214.82 L2092.64 214.82 Q2094.4 214.82 2095.37 213.987 Q2096.34 213.154 2097.53 210.052 L2098.29 208.107 L2087.8 182.598 L2092.32 182.598 L2100.42 202.876 L2108.52 182.598 L2113.03 182.598 L2101.65 210.931 Z\" fill=\"#000000\" fill-rule=\"evenodd\" fill-opacity=\"1\" /><polyline clip-path=\"url(#clip040)\" style=\"stroke:#e26f46; stroke-width:4; stroke-opacity:1; fill:none\" points=\"\n",
       "  1788.11,251.724 1932.11,251.724 \n",
       "  \"/>\n",
       "<path clip-path=\"url(#clip040)\" d=\"M 0 0 M1969.31 269.004 L1956.11 234.444 L1961 234.444 L1971.95 263.541 L1982.92 234.444 L1987.78 234.444 L1974.61 269.004 L1969.31 269.004 Z\" fill=\"#000000\" fill-rule=\"evenodd\" fill-opacity=\"1\" /><path clip-path=\"url(#clip040)\" d=\"M 0 0 M2010.74 254.976 L2010.74 257.06 L1991.16 257.06 Q1991.44 261.458 1993.8 263.773 Q1996.18 266.064 2000.42 266.064 Q2002.87 266.064 2005.16 265.462 Q2007.48 264.861 2009.75 263.657 L2009.75 267.685 Q2007.46 268.657 2005.05 269.166 Q2002.64 269.675 2000.16 269.675 Q1993.96 269.675 1990.33 266.064 Q1986.72 262.453 1986.72 256.296 Q1986.72 249.93 1990.14 246.203 Q1993.59 242.453 1999.42 242.453 Q2004.66 242.453 2007.69 245.833 Q2010.74 249.189 2010.74 254.976 M2006.48 253.726 Q2006.44 250.231 2004.52 248.148 Q2002.62 246.064 1999.47 246.064 Q1995.91 246.064 1993.75 248.078 Q1991.62 250.092 1991.3 253.75 L2006.48 253.726 Z\" fill=\"#000000\" fill-rule=\"evenodd\" fill-opacity=\"1\" /><path clip-path=\"url(#clip040)\" d=\"M 0 0 M2015.21 232.986 L2019.47 232.986 L2019.47 269.004 L2015.21 269.004 L2015.21 232.986 Z\" fill=\"#000000\" fill-rule=\"evenodd\" fill-opacity=\"1\" /><path clip-path=\"url(#clip040)\" d=\"M 0 0 M2033.98 246.064 Q2030.56 246.064 2028.57 248.75 Q2026.58 251.412 2026.58 256.064 Q2026.58 260.717 2028.54 263.402 Q2030.53 266.064 2033.98 266.064 Q2037.39 266.064 2039.38 263.379 Q2041.37 260.694 2041.37 256.064 Q2041.37 251.458 2039.38 248.773 Q2037.39 246.064 2033.98 246.064 M2033.98 242.453 Q2039.54 242.453 2042.71 246.064 Q2045.88 249.675 2045.88 256.064 Q2045.88 262.43 2042.71 266.064 Q2039.54 269.675 2033.98 269.675 Q2028.41 269.675 2025.23 266.064 Q2022.09 262.43 2022.09 256.064 Q2022.09 249.675 2025.23 246.064 Q2028.41 242.453 2033.98 242.453 Z\" fill=\"#000000\" fill-rule=\"evenodd\" fill-opacity=\"1\" /><path clip-path=\"url(#clip040)\" d=\"M 0 0 M2069.01 244.074 L2069.01 248.055 Q2067.2 247.06 2065.37 246.574 Q2063.57 246.064 2061.72 246.064 Q2057.57 246.064 2055.28 248.703 Q2052.99 251.319 2052.99 256.064 Q2052.99 260.81 2055.28 263.449 Q2057.57 266.064 2061.72 266.064 Q2063.57 266.064 2065.37 265.578 Q2067.2 265.069 2069.01 264.074 L2069.01 268.009 Q2067.22 268.842 2065.3 269.259 Q2063.4 269.675 2061.25 269.675 Q2055.4 269.675 2051.95 265.995 Q2048.5 262.314 2048.5 256.064 Q2048.5 249.722 2051.97 246.088 Q2055.47 242.453 2061.53 242.453 Q2063.5 242.453 2065.37 242.87 Q2067.25 243.263 2069.01 244.074 Z\" fill=\"#000000\" fill-rule=\"evenodd\" fill-opacity=\"1\" /><path clip-path=\"url(#clip040)\" d=\"M 0 0 M2073.47 243.078 L2077.73 243.078 L2077.73 269.004 L2073.47 269.004 L2073.47 243.078 M2073.47 232.986 L2077.73 232.986 L2077.73 238.379 L2073.47 238.379 L2073.47 232.986 Z\" fill=\"#000000\" fill-rule=\"evenodd\" fill-opacity=\"1\" /><path clip-path=\"url(#clip040)\" d=\"M 0 0 M2086.41 235.717 L2086.41 243.078 L2095.19 243.078 L2095.19 246.388 L2086.41 246.388 L2086.41 260.462 Q2086.41 263.634 2087.27 264.537 Q2088.15 265.439 2090.81 265.439 L2095.19 265.439 L2095.19 269.004 L2090.81 269.004 Q2085.88 269.004 2084.01 267.175 Q2082.13 265.324 2082.13 260.462 L2082.13 246.388 L2079.01 246.388 L2079.01 243.078 L2082.13 243.078 L2082.13 235.717 L2086.41 235.717 Z\" fill=\"#000000\" fill-rule=\"evenodd\" fill-opacity=\"1\" /><path clip-path=\"url(#clip040)\" d=\"M 0 0 M2110.44 271.411 Q2108.64 276.041 2106.92 277.453 Q2105.21 278.865 2102.34 278.865 L2098.94 278.865 L2098.94 275.3 L2101.44 275.3 Q2103.2 275.3 2104.17 274.467 Q2105.14 273.634 2106.32 270.532 L2107.09 268.587 L2096.6 243.078 L2101.11 243.078 L2109.21 263.356 L2117.32 243.078 L2121.83 243.078 L2110.44 271.411 Z\" fill=\"#000000\" fill-rule=\"evenodd\" fill-opacity=\"1\" /><polyline clip-path=\"url(#clip040)\" style=\"stroke:#3da44d; stroke-width:4; stroke-opacity:1; fill:none\" points=\"\n",
       "  1788.11,312.204 1932.11,312.204 \n",
       "  \"/>\n",
       "<path clip-path=\"url(#clip040)\" d=\"M 0 0 M1956.11 294.924 L1985.35 294.924 L1985.35 298.859 L1973.08 298.859 L1973.08 329.484 L1968.38 329.484 L1968.38 298.859 L1956.11 298.859 L1956.11 294.924 Z\" fill=\"#000000\" fill-rule=\"evenodd\" fill-opacity=\"1\" /><path clip-path=\"url(#clip040)\" d=\"M 0 0 M2003.94 315.456 L2003.94 317.54 L1984.35 317.54 Q1984.63 321.938 1986.99 324.253 Q1989.38 326.544 1993.61 326.544 Q1996.07 326.544 1998.36 325.942 Q2000.67 325.341 2002.94 324.137 L2002.94 328.165 Q2000.65 329.137 1998.24 329.646 Q1995.84 330.155 1993.36 330.155 Q1987.16 330.155 1983.52 326.544 Q1979.91 322.933 1979.91 316.776 Q1979.91 310.41 1983.34 306.683 Q1986.79 302.933 1992.62 302.933 Q1997.85 302.933 2000.88 306.313 Q2003.94 309.669 2003.94 315.456 M1999.68 314.206 Q1999.63 310.711 1997.71 308.628 Q1995.81 306.544 1992.66 306.544 Q1989.1 306.544 1986.95 308.558 Q1984.82 310.572 1984.49 314.23 L1999.68 314.206 Z\" fill=\"#000000\" fill-rule=\"evenodd\" fill-opacity=\"1\" /><path clip-path=\"url(#clip040)\" d=\"M 0 0 M2028.59 308.535 Q2030.19 305.665 2032.41 304.299 Q2034.63 302.933 2037.64 302.933 Q2041.69 302.933 2043.89 305.781 Q2046.09 308.605 2046.09 313.836 L2046.09 329.484 L2041.81 329.484 L2041.81 313.975 Q2041.81 310.248 2040.49 308.443 Q2039.17 306.637 2036.46 306.637 Q2033.15 306.637 2031.23 308.836 Q2029.31 311.035 2029.31 314.831 L2029.31 329.484 L2025.03 329.484 L2025.03 313.975 Q2025.03 310.225 2023.71 308.443 Q2022.39 306.637 2019.63 306.637 Q2016.37 306.637 2014.45 308.859 Q2012.53 311.058 2012.53 314.831 L2012.53 329.484 L2008.24 329.484 L2008.24 303.558 L2012.53 303.558 L2012.53 307.586 Q2013.98 305.202 2016.02 304.068 Q2018.06 302.933 2020.86 302.933 Q2023.68 302.933 2025.65 304.368 Q2027.64 305.804 2028.59 308.535 Z\" fill=\"#000000\" fill-rule=\"evenodd\" fill-opacity=\"1\" /><path clip-path=\"url(#clip040)\" d=\"M 0 0 M2054.68 325.595 L2054.68 339.345 L2050.4 339.345 L2050.4 303.558 L2054.68 303.558 L2054.68 307.493 Q2056.02 305.179 2058.06 304.068 Q2060.12 302.933 2062.97 302.933 Q2067.69 302.933 2070.63 306.683 Q2073.59 310.433 2073.59 316.544 Q2073.59 322.655 2070.63 326.405 Q2067.69 330.155 2062.97 330.155 Q2060.12 330.155 2058.06 329.044 Q2056.02 327.91 2054.68 325.595 M2069.17 316.544 Q2069.17 311.845 2067.22 309.183 Q2065.3 306.498 2061.92 306.498 Q2058.54 306.498 2056.6 309.183 Q2054.68 311.845 2054.68 316.544 Q2054.68 321.243 2056.6 323.929 Q2058.54 326.591 2061.92 326.591 Q2065.3 326.591 2067.22 323.929 Q2069.17 321.243 2069.17 316.544 Z\" fill=\"#000000\" fill-rule=\"evenodd\" fill-opacity=\"1\" /><path clip-path=\"url(#clip040)\" d=\"M 0 0 M2100.23 315.456 L2100.23 317.54 L2080.65 317.54 Q2080.93 321.938 2083.29 324.253 Q2085.67 326.544 2089.91 326.544 Q2092.36 326.544 2094.65 325.942 Q2096.97 325.341 2099.24 324.137 L2099.24 328.165 Q2096.95 329.137 2094.54 329.646 Q2092.13 330.155 2089.65 330.155 Q2083.45 330.155 2079.82 326.544 Q2076.21 322.933 2076.21 316.776 Q2076.21 310.41 2079.63 306.683 Q2083.08 302.933 2088.91 302.933 Q2094.15 302.933 2097.18 306.313 Q2100.23 309.669 2100.23 315.456 M2095.97 314.206 Q2095.93 310.711 2094.01 308.628 Q2092.11 306.544 2088.96 306.544 Q2085.4 306.544 2083.24 308.558 Q2081.11 310.572 2080.79 314.23 L2095.97 314.206 Z\" fill=\"#000000\" fill-rule=\"evenodd\" fill-opacity=\"1\" /><path clip-path=\"url(#clip040)\" d=\"M 0 0 M2119.72 307.54 Q2119.01 307.123 2118.15 306.938 Q2117.32 306.73 2116.3 306.73 Q2112.69 306.73 2110.74 309.091 Q2108.82 311.429 2108.82 315.827 L2108.82 329.484 L2104.54 329.484 L2104.54 303.558 L2108.82 303.558 L2108.82 307.586 Q2110.16 305.225 2112.32 304.091 Q2114.47 302.933 2117.55 302.933 Q2117.99 302.933 2118.52 303.003 Q2119.05 303.049 2119.7 303.165 L2119.72 307.54 Z\" fill=\"#000000\" fill-rule=\"evenodd\" fill-opacity=\"1\" /><path clip-path=\"url(#clip040)\" d=\"M 0 0 M2135.97 316.452 Q2130.81 316.452 2128.82 317.632 Q2126.83 318.813 2126.83 321.66 Q2126.83 323.929 2128.31 325.271 Q2129.82 326.591 2132.39 326.591 Q2135.93 326.591 2138.06 324.091 Q2140.21 321.567 2140.21 317.401 L2140.21 316.452 L2135.97 316.452 M2144.47 314.693 L2144.47 329.484 L2140.21 329.484 L2140.21 325.549 Q2138.75 327.91 2136.58 329.044 Q2134.4 330.155 2131.25 330.155 Q2127.27 330.155 2124.91 327.933 Q2122.57 325.688 2122.57 321.938 Q2122.57 317.563 2125.49 315.341 Q2128.43 313.118 2134.24 313.118 L2140.21 313.118 L2140.21 312.702 Q2140.21 309.762 2138.27 308.165 Q2136.34 306.544 2132.85 306.544 Q2130.63 306.544 2128.52 307.077 Q2126.41 307.609 2124.47 308.674 L2124.47 304.739 Q2126.81 303.836 2129.01 303.396 Q2131.21 302.933 2133.29 302.933 Q2138.91 302.933 2141.69 305.85 Q2144.47 308.767 2144.47 314.693 Z\" fill=\"#000000\" fill-rule=\"evenodd\" fill-opacity=\"1\" /><path clip-path=\"url(#clip040)\" d=\"M 0 0 M2153.15 296.197 L2153.15 303.558 L2161.92 303.558 L2161.92 306.868 L2153.15 306.868 L2153.15 320.942 Q2153.15 324.114 2154.01 325.017 Q2154.89 325.919 2157.55 325.919 L2161.92 325.919 L2161.92 329.484 L2157.55 329.484 Q2152.62 329.484 2150.74 327.655 Q2148.87 325.804 2148.87 320.942 L2148.87 306.868 L2145.74 306.868 L2145.74 303.558 L2148.87 303.558 L2148.87 296.197 L2153.15 296.197 Z\" fill=\"#000000\" fill-rule=\"evenodd\" fill-opacity=\"1\" /><path clip-path=\"url(#clip040)\" d=\"M 0 0 M2165.95 319.253 L2165.95 303.558 L2170.21 303.558 L2170.21 319.091 Q2170.21 322.771 2171.65 324.623 Q2173.08 326.452 2175.95 326.452 Q2179.4 326.452 2181.39 324.253 Q2183.4 322.054 2183.4 318.257 L2183.4 303.558 L2187.66 303.558 L2187.66 329.484 L2183.4 329.484 L2183.4 325.503 Q2181.85 327.864 2179.79 329.021 Q2177.76 330.155 2175.05 330.155 Q2170.58 330.155 2168.27 327.378 Q2165.95 324.6 2165.95 319.253 M2176.67 302.933 L2176.67 302.933 Z\" fill=\"#000000\" fill-rule=\"evenodd\" fill-opacity=\"1\" /><path clip-path=\"url(#clip040)\" d=\"M 0 0 M2207.15 307.54 Q2206.44 307.123 2205.58 306.938 Q2204.75 306.73 2203.73 306.73 Q2200.12 306.73 2198.17 309.091 Q2196.25 311.429 2196.25 315.827 L2196.25 329.484 L2191.97 329.484 L2191.97 303.558 L2196.25 303.558 L2196.25 307.586 Q2197.59 305.225 2199.75 304.091 Q2201.9 302.933 2204.98 302.933 Q2205.42 302.933 2205.95 303.003 Q2206.48 303.049 2207.13 303.165 L2207.15 307.54 Z\" fill=\"#000000\" fill-rule=\"evenodd\" fill-opacity=\"1\" /><path clip-path=\"url(#clip040)\" d=\"M 0 0 M2232.76 315.456 L2232.76 317.54 L2213.17 317.54 Q2213.45 321.938 2215.81 324.253 Q2218.2 326.544 2222.43 326.544 Q2224.89 326.544 2227.18 325.942 Q2229.49 325.341 2231.76 324.137 L2231.76 328.165 Q2229.47 329.137 2227.06 329.646 Q2224.65 330.155 2222.18 330.155 Q2215.97 330.155 2212.34 326.544 Q2208.73 322.933 2208.73 316.776 Q2208.73 310.41 2212.15 306.683 Q2215.6 302.933 2221.44 302.933 Q2226.67 302.933 2229.7 306.313 Q2232.76 309.669 2232.76 315.456 M2228.5 314.206 Q2228.45 310.711 2226.53 308.628 Q2224.63 306.544 2221.48 306.544 Q2217.92 306.544 2215.77 308.558 Q2213.64 310.572 2213.31 314.23 L2228.5 314.206 Z\" fill=\"#000000\" fill-rule=\"evenodd\" fill-opacity=\"1\" /></svg>\n"
      ]
     },
     "metadata": {},
     "output_type": "display_data"
    }
   ],
   "source": [
    "plot_line(ks, ctr)"
   ]
  },
  {
   "cell_type": "code",
   "execution_count": null,
   "metadata": {},
   "outputs": [],
   "source": []
  }
 ],
 "metadata": {
  "kernelspec": {
   "display_name": "Julia 1.4.1",
   "language": "julia",
   "name": "julia-1.4"
  },
  "language_info": {
   "file_extension": ".jl",
   "mimetype": "application/julia",
   "name": "julia",
   "version": "1.4.1"
  }
 },
 "nbformat": 4,
 "nbformat_minor": 4
}
