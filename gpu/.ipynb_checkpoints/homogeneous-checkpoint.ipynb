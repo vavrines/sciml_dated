{
 "cells": [
  {
   "cell_type": "code",
   "execution_count": 1,
   "metadata": {},
   "outputs": [
    {
     "name": "stderr",
     "output_type": "stream",
     "text": [
      "┌ Warning: `haskey(::TargetIterator, name::String)` is deprecated, use `Target(; name = name) !== nothing` instead.\n",
      "│   caller = llvm_compat(::VersionNumber) at compatibility.jl:176\n",
      "└ @ CUDAnative /home/kit/scc/yy3406/.julia/packages/CUDAnative/ierw8/src/compatibility.jl:176\n"
     ]
    }
   ],
   "source": [
    "using Revise\n",
    "using Kinetic\n",
    "using OrdinaryDiffEq, Flux, DiffEqFlux, Optim\n",
    "using Plots, FileIO, JLD2"
   ]
  },
  {
   "cell_type": "code",
   "execution_count": 2,
   "metadata": {},
   "outputs": [
    {
     "name": "stdout",
     "output_type": "stream",
     "text": [
      "case = homogeneous\n",
      "maxTime = 5\n",
      "tlen = 11\n",
      "u0 = -5\n",
      "u1 = 5\n",
      "nu = 60\n",
      "nug = 0\n",
      "v0 = -5\n",
      "v1 = 5\n",
      "nv = 28\n",
      "nvg = 0\n",
      "w0 = -5\n",
      "w1 = 5\n",
      "nw = 28\n",
      "nwg = 0\n",
      "vMeshType = rectangle\n",
      "nm = 5\n",
      "knudsen = 1\n",
      "inK = 0\n",
      "alpha = 1.0\n",
      "omega = 0.5\n",
      "nh = 8\n",
      "\n"
     ]
    }
   ],
   "source": [
    "config = \"../code/homogeneous/config.txt\"\n",
    "D = read_dict(config)\n",
    "for key in keys(D)\n",
    "    s = Symbol(key)\n",
    "    @eval $s = $(D[key])\n",
    "end"
   ]
  },
  {
   "cell_type": "code",
   "execution_count": 3,
   "metadata": {},
   "outputs": [],
   "source": [
    "tspan = (0.0, maxTime)\n",
    "tRange = range(tspan[1], tspan[2], length=tlen)\n",
    "\n",
    "γ = heat_capacity_ratio(inK, 3)\n",
    "vSpace = VSpace3D(u0, u1, nu, v0, v1, nv, w0, w1, nw, vMeshType)\n",
    "\n",
    "f0 = Float32.(0.5 * (1/π)^1.5 .* (exp.(-(vSpace.u .- 0.99).^2) .+ exp.(-(vSpace.u .+ 0.99).^2)) .* \n",
    "     exp.(-vSpace.v.^2) .* exp.(-vSpace.w.^2)) |> Array\n",
    "prim0 = conserve_prim(moments_conserve(f0, vSpace.u, vSpace.v, vSpace.w, vSpace.weights), γ)\n",
    "M0 = Float32.(maxwellian(vSpace.u, vSpace.v, vSpace.w, prim0)) |> Array\n",
    "\n",
    "mu_ref = ref_vhs_vis(knudsen, alpha, omega)\n",
    "kn_bzm = hs_boltz_kn(mu_ref, 1.0)\n",
    "τ = mu_ref * 2. * prim0[end]^(0.5) / prim0[1];"
   ]
  },
  {
   "cell_type": "code",
   "execution_count": 4,
   "metadata": {},
   "outputs": [],
   "source": [
    "phi, psi, phipsi = kernel_mode( nm, vSpace.u1, vSpace.v1, vSpace.w1, vSpace.du[1,1,1], vSpace.dv[1,1,1], vSpace.dw[1,1,1],\n",
    "                                vSpace.nu, vSpace.nv, vSpace.nw, alpha );"
   ]
  },
  {
   "cell_type": "code",
   "execution_count": 5,
   "metadata": {},
   "outputs": [
    {
     "data": {
      "text/plain": [
       "bgk! (generic function with 1 method)"
      ]
     },
     "execution_count": 5,
     "metadata": {},
     "output_type": "execute_result"
    }
   ],
   "source": [
    "function boltzmann!(df, f::Array{<:Real,3}, p, t)\n",
    "    Kn, M, phi, psi, phipsi = p\n",
    "    df .= boltzmann_fft(f, Kn, M, phi, psi, phipsi) # https://github.com/vavrines/Kinetic.jl\n",
    "end\n",
    "\n",
    "function bgk!(df, f::Array{<:Real,3}, p, t)\n",
    "    g, tau = p\n",
    "    df .= (g .- f) ./ tau\n",
    "end"
   ]
  },
  {
   "cell_type": "code",
   "execution_count": 6,
   "metadata": {},
   "outputs": [],
   "source": [
    "prob = ODEProblem(boltzmann!, f0, tspan, [kn_bzm, nm, phi, psi, phipsi])\n",
    "data_boltz = solve(prob, Tsit5(), saveat=tRange) |> Array;\n",
    "\n",
    "prob1 = ODEProblem(bgk!, f0, tspan, [M0, τ])\n",
    "data_bgk = solve(prob, Tsit5(), saveat=tRange) |> Array;"
   ]
  },
  {
   "cell_type": "code",
   "execution_count": 7,
   "metadata": {},
   "outputs": [],
   "source": [
    "data_boltz_1D = zeros(Float32, axes(data_boltz, 1), axes(data_boltz, 4))\n",
    "data_bgk_1D = zeros(Float32, axes(data_bgk, 1), axes(data_bgk, 4))\n",
    "for j in axes(data_boltz_1D, 2), i in axes(data_boltz_1D, 1)\n",
    "    data_boltz_1D[i,j] = sum(@. vSpace.weights[i,:,:] * data_boltz[i,:,:,j])\n",
    "    data_bgk_1D[i,j] = sum(@. vSpace.weights[i,:,:] * data_bgk[i,:,:,j])\n",
    "end\n",
    "\n",
    "f0_1D = zeros(Float32, axes(f0, 1))\n",
    "for i in axes(data_boltz_1D, 1)\n",
    "    f0_1D[i] = sum(@. vSpace.weights[i,:,:] * f0[i,:,:])\n",
    "end\n",
    "\n",
    "M0_1D = zeros(Float32, axes(M0, 1))\n",
    "for i in axes(M0, 1)\n",
    "    M0_1D[i] = sum(@. vSpace.weights[i,:,:] * M0[i,:,:])\n",
    "end"
   ]
  },
  {
   "cell_type": "markdown",
   "metadata": {},
   "source": [
    "CPU"
   ]
  },
  {
   "cell_type": "code",
   "execution_count": 8,
   "metadata": {},
   "outputs": [
    {
     "data": {
      "text/plain": [
       "#5 (generic function with 1 method)"
      ]
     },
     "execution_count": 8,
     "metadata": {},
     "output_type": "execute_result"
    }
   ],
   "source": [
    "dudt = FastChain( (x, p) -> x.^2, # initial guess\n",
    "                   FastDense(vSpace.nu, vSpace.nu*nh, tanh), # our 1-layer network\n",
    "                   FastDense(vSpace.nu*nh, vSpace.nu) )\n",
    "n_ode = NeuralODE(dudt, tspan, Tsit5(), saveat=tRange)\n",
    "\n",
    "function loss_n_ode(p)\n",
    "    pred = n_ode(f0_1D, p)\n",
    "    loss = sum(abs2, pred .- data_boltz_1D)\n",
    "    return loss, pred\n",
    "end\n",
    "\n",
    "cb = function (p, l, pred; doplot=false)\n",
    "    display(l)\n",
    "    # plot current prediction against dataset\n",
    "    if doplot\n",
    "        pl = plot(tRange, data_boltz_1D[vSpace.nu÷2,:], lw=2, label=\"Exact\")\n",
    "        scatter!(pl, tRange, pred[vSpace.nu÷2,:], lw=2, label=\"NN prediction\")\n",
    "        display(plot(pl))\n",
    "    end\n",
    "    return false\n",
    "end"
   ]
  },
  {
   "cell_type": "code",
   "execution_count": 14,
   "metadata": {},
   "outputs": [
    {
     "data": {
      "text/plain": [
       "0.06979932f0"
      ]
     },
     "metadata": {},
     "output_type": "display_data"
    },
    {
     "name": "stderr",
     "output_type": "stream",
     "text": [
      "\r",
      "\u001b[32mloss: 0.0698:   0%|▏                                        |  ETA: 0:00:39\u001b[39m"
     ]
    },
    {
     "data": {
      "text/plain": [
       "0.024028372f0"
      ]
     },
     "metadata": {},
     "output_type": "display_data"
    },
    {
     "name": "stderr",
     "output_type": "stream",
     "text": [
      "\r",
      "\u001b[32mloss: 0.024:   1%|▎                                        |  ETA: 0:03:22\u001b[39m"
     ]
    },
    {
     "data": {
      "text/plain": [
       "0.033678714f0"
      ]
     },
     "metadata": {},
     "output_type": "display_data"
    },
    {
     "data": {
      "text/plain": [
       "0.034294777f0"
      ]
     },
     "metadata": {},
     "output_type": "display_data"
    },
    {
     "name": "stderr",
     "output_type": "stream",
     "text": [
      "\r",
      "\u001b[32mloss: 0.0343:   1%|▌                                        |  ETA: 0:01:46\u001b[39m"
     ]
    },
    {
     "data": {
      "text/plain": [
       "0.019915503f0"
      ]
     },
     "metadata": {},
     "output_type": "display_data"
    },
    {
     "data": {
      "text/plain": [
       "0.010069622f0"
      ]
     },
     "metadata": {},
     "output_type": "display_data"
    },
    {
     "name": "stderr",
     "output_type": "stream",
     "text": [
      "\r",
      "\u001b[32mloss: 0.0101:   2%|▉                                        |  ETA: 0:01:15\u001b[39m"
     ]
    },
    {
     "data": {
      "text/plain": [
       "0.010996414f0"
      ]
     },
     "metadata": {},
     "output_type": "display_data"
    },
    {
     "data": {
      "text/plain": [
       "0.016346388f0"
      ]
     },
     "metadata": {},
     "output_type": "display_data"
    },
    {
     "name": "stderr",
     "output_type": "stream",
     "text": [
      "\r",
      "\u001b[32mloss: 0.0163:   3%|█▏                                       |  ETA: 0:01:02\u001b[39m"
     ]
    },
    {
     "data": {
      "text/plain": [
       "0.01866203f0"
      ]
     },
     "metadata": {},
     "output_type": "display_data"
    },
    {
     "data": {
      "text/plain": [
       "0.016275031f0"
      ]
     },
     "metadata": {},
     "output_type": "display_data"
    },
    {
     "name": "stderr",
     "output_type": "stream",
     "text": [
      "\r",
      "\u001b[32mloss: 0.0163:   3%|█▍                                       |  ETA: 0:00:52\u001b[39m"
     ]
    },
    {
     "data": {
      "text/plain": [
       "0.011538678f0"
      ]
     },
     "metadata": {},
     "output_type": "display_data"
    },
    {
     "data": {
      "text/plain": [
       "0.0074499026f0"
      ]
     },
     "metadata": {},
     "output_type": "display_data"
    },
    {
     "name": "stderr",
     "output_type": "stream",
     "text": [
      "\r",
      "\u001b[32mloss: 0.00745:   4%|█▋                                       |  ETA: 0:00:46\u001b[39m"
     ]
    },
    {
     "data": {
      "text/plain": [
       "0.0061055818f0"
      ]
     },
     "metadata": {},
     "output_type": "display_data"
    },
    {
     "data": {
      "text/plain": [
       "0.0075849164f0"
      ]
     },
     "metadata": {},
     "output_type": "display_data"
    },
    {
     "name": "stderr",
     "output_type": "stream",
     "text": [
      "\r",
      "\u001b[32mloss: 0.00758:   5%|█▉                                       |  ETA: 0:00:42\u001b[39m"
     ]
    },
    {
     "data": {
      "text/plain": [
       "0.009937711f0"
      ]
     },
     "metadata": {},
     "output_type": "display_data"
    },
    {
     "data": {
      "text/plain": [
       "0.010901251f0"
      ]
     },
     "metadata": {},
     "output_type": "display_data"
    },
    {
     "name": "stderr",
     "output_type": "stream",
     "text": [
      "\r",
      "\u001b[32mloss: 0.0109:   5%|██▏                                      |  ETA: 0:00:39\u001b[39m"
     ]
    },
    {
     "data": {
      "text/plain": [
       "0.009694017f0"
      ]
     },
     "metadata": {},
     "output_type": "display_data"
    },
    {
     "data": {
      "text/plain": [
       "0.0073873824f0"
      ]
     },
     "metadata": {},
     "output_type": "display_data"
    },
    {
     "name": "stderr",
     "output_type": "stream",
     "text": [
      "\r",
      "\u001b[32mloss: 0.00739:   6%|██▌                                      |  ETA: 0:00:37\u001b[39m"
     ]
    },
    {
     "data": {
      "text/plain": [
       "0.0057047275f0"
      ]
     },
     "metadata": {},
     "output_type": "display_data"
    },
    {
     "data": {
      "text/plain": [
       "0.005336513f0"
      ]
     },
     "metadata": {},
     "output_type": "display_data"
    },
    {
     "name": "stderr",
     "output_type": "stream",
     "text": [
      "\r",
      "\u001b[32mloss: 0.00534:   7%|██▊                                      |  ETA: 0:00:35\u001b[39m"
     ]
    },
    {
     "data": {
      "text/plain": [
       "0.0058194613f0"
      ]
     },
     "metadata": {},
     "output_type": "display_data"
    },
    {
     "data": {
      "text/plain": [
       "0.0065015685f0"
      ]
     },
     "metadata": {},
     "output_type": "display_data"
    },
    {
     "name": "stderr",
     "output_type": "stream",
     "text": [
      "\r",
      "\u001b[32mloss: 0.0065:   7%|███                                      |  ETA: 0:00:33\u001b[39m"
     ]
    },
    {
     "data": {
      "text/plain": [
       "0.0069487425f0"
      ]
     },
     "metadata": {},
     "output_type": "display_data"
    },
    {
     "data": {
      "text/plain": [
       "0.006933324f0"
      ]
     },
     "metadata": {},
     "output_type": "display_data"
    },
    {
     "name": "stderr",
     "output_type": "stream",
     "text": [
      "\r",
      "\u001b[32mloss: 0.00693:   8%|███▎                                     |  ETA: 0:00:32\u001b[39m"
     ]
    },
    {
     "data": {
      "text/plain": [
       "0.0064688493f0"
      ]
     },
     "metadata": {},
     "output_type": "display_data"
    },
    {
     "data": {
      "text/plain": [
       "0.005739767f0"
      ]
     },
     "metadata": {},
     "output_type": "display_data"
    },
    {
     "name": "stderr",
     "output_type": "stream",
     "text": [
      "\r",
      "\u001b[32mloss: 0.00574:   9%|███▌                                     |  ETA: 0:00:31\u001b[39m"
     ]
    },
    {
     "data": {
      "text/plain": [
       "0.005025737f0"
      ]
     },
     "metadata": {},
     "output_type": "display_data"
    },
    {
     "data": {
      "text/plain": [
       "0.004662981f0"
      ]
     },
     "metadata": {},
     "output_type": "display_data"
    },
    {
     "name": "stderr",
     "output_type": "stream",
     "text": [
      "\r",
      "\u001b[32mloss: 0.00466:   9%|███▉                                     |  ETA: 0:00:30\u001b[39m"
     ]
    },
    {
     "data": {
      "text/plain": [
       "0.004810603f0"
      ]
     },
     "metadata": {},
     "output_type": "display_data"
    },
    {
     "data": {
      "text/plain": [
       "0.0052386587f0"
      ]
     },
     "metadata": {},
     "output_type": "display_data"
    },
    {
     "name": "stderr",
     "output_type": "stream",
     "text": [
      "\r",
      "\u001b[32mloss: 0.00524:  10%|████▏                                    |  ETA: 0:00:29\u001b[39m"
     ]
    },
    {
     "data": {
      "text/plain": [
       "0.0055265576f0"
      ]
     },
     "metadata": {},
     "output_type": "display_data"
    },
    {
     "data": {
      "text/plain": [
       "0.005446383f0"
      ]
     },
     "metadata": {},
     "output_type": "display_data"
    },
    {
     "name": "stderr",
     "output_type": "stream",
     "text": [
      "\r",
      "\u001b[32mloss: 0.00545:  11%|████▍                                    |  ETA: 0:00:28\u001b[39m"
     ]
    },
    {
     "data": {
      "text/plain": [
       "0.00508767f0"
      ]
     },
     "metadata": {},
     "output_type": "display_data"
    },
    {
     "data": {
      "text/plain": [
       "0.004691302f0"
      ]
     },
     "metadata": {},
     "output_type": "display_data"
    },
    {
     "name": "stderr",
     "output_type": "stream",
     "text": [
      "\r",
      "\u001b[32mloss: 0.00469:  11%|████▋                                    |  ETA: 0:00:27\u001b[39m"
     ]
    },
    {
     "data": {
      "text/plain": [
       "0.0044482714f0"
      ]
     },
     "metadata": {},
     "output_type": "display_data"
    },
    {
     "data": {
      "text/plain": [
       "0.004401759f0"
      ]
     },
     "metadata": {},
     "output_type": "display_data"
    },
    {
     "name": "stderr",
     "output_type": "stream",
     "text": [
      "\r",
      "\u001b[32mloss: 0.0044:  12%|████▉                                    |  ETA: 0:00:26\u001b[39m"
     ]
    },
    {
     "data": {
      "text/plain": [
       "0.0044832905f0"
      ]
     },
     "metadata": {},
     "output_type": "display_data"
    },
    {
     "data": {
      "text/plain": [
       "0.0045903027f0"
      ]
     },
     "metadata": {},
     "output_type": "display_data"
    },
    {
     "name": "stderr",
     "output_type": "stream",
     "text": [
      "\r",
      "\u001b[32mloss: 0.00459:  13%|█████▏                                   |  ETA: 0:00:26\u001b[39m"
     ]
    },
    {
     "data": {
      "text/plain": [
       "0.0046336623f0"
      ]
     },
     "metadata": {},
     "output_type": "display_data"
    },
    {
     "data": {
      "text/plain": [
       "0.0045788065f0"
      ]
     },
     "metadata": {},
     "output_type": "display_data"
    },
    {
     "name": "stderr",
     "output_type": "stream",
     "text": [
      "\r",
      "\u001b[32mloss: 0.00458:  13%|█████▌                                   |  ETA: 0:00:25\u001b[39m"
     ]
    },
    {
     "data": {
      "text/plain": [
       "0.0044352068f0"
      ]
     },
     "metadata": {},
     "output_type": "display_data"
    },
    {
     "data": {
      "text/plain": [
       "0.004242184f0"
      ]
     },
     "metadata": {},
     "output_type": "display_data"
    },
    {
     "name": "stderr",
     "output_type": "stream",
     "text": [
      "\r",
      "\u001b[32mloss: 0.00424:  14%|█████▊                                   |  ETA: 0:00:25\u001b[39m"
     ]
    },
    {
     "data": {
      "text/plain": [
       "0.004092189f0"
      ]
     },
     "metadata": {},
     "output_type": "display_data"
    },
    {
     "data": {
      "text/plain": [
       "0.0040629185f0"
      ]
     },
     "metadata": {},
     "output_type": "display_data"
    },
    {
     "name": "stderr",
     "output_type": "stream",
     "text": [
      "\r",
      "\u001b[32mloss: 0.00406:  15%|██████                                   |  ETA: 0:00:24\u001b[39m"
     ]
    },
    {
     "data": {
      "text/plain": [
       "0.0041228756f0"
      ]
     },
     "metadata": {},
     "output_type": "display_data"
    },
    {
     "data": {
      "text/plain": [
       "0.004177834f0"
      ]
     },
     "metadata": {},
     "output_type": "display_data"
    },
    {
     "name": "stderr",
     "output_type": "stream",
     "text": [
      "\r",
      "\u001b[32mloss: 0.00418:  15%|██████▎                                  |  ETA: 0:00:24\u001b[39m"
     ]
    },
    {
     "data": {
      "text/plain": [
       "0.0041571395f0"
      ]
     },
     "metadata": {},
     "output_type": "display_data"
    },
    {
     "data": {
      "text/plain": [
       "0.0040625175f0"
      ]
     },
     "metadata": {},
     "output_type": "display_data"
    },
    {
     "name": "stderr",
     "output_type": "stream",
     "text": [
      "\r",
      "\u001b[32mloss: 0.00406:  16%|██████▌                                  |  ETA: 0:00:23\u001b[39m"
     ]
    },
    {
     "data": {
      "text/plain": [
       "0.0039483495f0"
      ]
     },
     "metadata": {},
     "output_type": "display_data"
    },
    {
     "data": {
      "text/plain": [
       "0.0038629612f0"
      ]
     },
     "metadata": {},
     "output_type": "display_data"
    },
    {
     "name": "stderr",
     "output_type": "stream",
     "text": [
      "\r",
      "\u001b[32mloss: 0.00386:  17%|██████▊                                  |  ETA: 0:00:23\u001b[39m"
     ]
    },
    {
     "data": {
      "text/plain": [
       "0.0038254943f0"
      ]
     },
     "metadata": {},
     "output_type": "display_data"
    },
    {
     "data": {
      "text/plain": [
       "0.003820915f0"
      ]
     },
     "metadata": {},
     "output_type": "display_data"
    },
    {
     "name": "stderr",
     "output_type": "stream",
     "text": [
      "\r",
      "\u001b[32mloss: 0.00382:  17%|███████▏                                 |  ETA: 0:00:22\u001b[39m"
     ]
    },
    {
     "data": {
      "text/plain": [
       "0.0038221532f0"
      ]
     },
     "metadata": {},
     "output_type": "display_data"
    },
    {
     "data": {
      "text/plain": [
       "0.0038066409f0"
      ]
     },
     "metadata": {},
     "output_type": "display_data"
    },
    {
     "name": "stderr",
     "output_type": "stream",
     "text": [
      "\r",
      "\u001b[32mloss: 0.00381:  18%|███████▍                                 |  ETA: 0:00:22\u001b[39m"
     ]
    },
    {
     "data": {
      "text/plain": [
       "0.003760431f0"
      ]
     },
     "metadata": {},
     "output_type": "display_data"
    },
    {
     "data": {
      "text/plain": [
       "0.0036897387f0"
      ]
     },
     "metadata": {},
     "output_type": "display_data"
    },
    {
     "name": "stderr",
     "output_type": "stream",
     "text": [
      "\r",
      "\u001b[32mloss: 0.00369:  19%|███████▋                                 |  ETA: 0:00:22\u001b[39m"
     ]
    },
    {
     "data": {
      "text/plain": [
       "0.0036197994f0"
      ]
     },
     "metadata": {},
     "output_type": "display_data"
    },
    {
     "data": {
      "text/plain": [
       "0.0035746566f0"
      ]
     },
     "metadata": {},
     "output_type": "display_data"
    },
    {
     "name": "stderr",
     "output_type": "stream",
     "text": [
      "\r",
      "\u001b[32mloss: 0.00357:  19%|███████▉                                 |  ETA: 0:00:21\u001b[39m"
     ]
    },
    {
     "data": {
      "text/plain": [
       "0.0035576343f0"
      ]
     },
     "metadata": {},
     "output_type": "display_data"
    },
    {
     "data": {
      "text/plain": [
       "0.0035490876f0"
      ]
     },
     "metadata": {},
     "output_type": "display_data"
    },
    {
     "name": "stderr",
     "output_type": "stream",
     "text": [
      "\r",
      "\u001b[32mloss: 0.00355:  20%|████████▎                                |  ETA: 0:00:21\u001b[39m"
     ]
    },
    {
     "data": {
      "text/plain": [
       "0.0035238604f0"
      ]
     },
     "metadata": {},
     "output_type": "display_data"
    },
    {
     "data": {
      "text/plain": [
       "0.0034762472f0"
      ]
     },
     "metadata": {},
     "output_type": "display_data"
    },
    {
     "name": "stderr",
     "output_type": "stream",
     "text": [
      "\r",
      "\u001b[32mloss: 0.00348:  21%|████████▌                                |  ETA: 0:00:20\u001b[39m"
     ]
    },
    {
     "data": {
      "text/plain": [
       "0.003419823f0"
      ]
     },
     "metadata": {},
     "output_type": "display_data"
    },
    {
     "data": {
      "text/plain": [
       "0.0033717505f0"
      ]
     },
     "metadata": {},
     "output_type": "display_data"
    },
    {
     "name": "stderr",
     "output_type": "stream",
     "text": [
      "\r",
      "\u001b[32mloss: 0.00337:  21%|████████▊                                |  ETA: 0:00:20\u001b[39m"
     ]
    },
    {
     "data": {
      "text/plain": [
       "0.00333868f0"
      ]
     },
     "metadata": {},
     "output_type": "display_data"
    },
    {
     "data": {
      "text/plain": [
       "0.003313144f0"
      ]
     },
     "metadata": {},
     "output_type": "display_data"
    },
    {
     "name": "stderr",
     "output_type": "stream",
     "text": [
      "\r",
      "\u001b[32mloss: 0.00331:  22%|█████████                                |  ETA: 0:00:20\u001b[39m"
     ]
    },
    {
     "data": {
      "text/plain": [
       "0.0032862667f0"
      ]
     },
     "metadata": {},
     "output_type": "display_data"
    },
    {
     "data": {
      "text/plain": [
       "0.0032533982f0"
      ]
     },
     "metadata": {},
     "output_type": "display_data"
    },
    {
     "name": "stderr",
     "output_type": "stream",
     "text": [
      "\r",
      "\u001b[32mloss: 0.00325:  23%|█████████▎                               |  ETA: 0:00:19\u001b[39m"
     ]
    },
    {
     "data": {
      "text/plain": [
       "0.003212888f0"
      ]
     },
     "metadata": {},
     "output_type": "display_data"
    },
    {
     "data": {
      "text/plain": [
       "0.0031672937f0"
      ]
     },
     "metadata": {},
     "output_type": "display_data"
    },
    {
     "name": "stderr",
     "output_type": "stream",
     "text": [
      "\r",
      "\u001b[32mloss: 0.00317:  23%|█████████▌                               |  ETA: 0:00:19\u001b[39m"
     ]
    },
    {
     "data": {
      "text/plain": [
       "0.0031246278f0"
      ]
     },
     "metadata": {},
     "output_type": "display_data"
    },
    {
     "data": {
      "text/plain": [
       "0.0030914147f0"
      ]
     },
     "metadata": {},
     "output_type": "display_data"
    },
    {
     "name": "stderr",
     "output_type": "stream",
     "text": [
      "\r",
      "\u001b[32mloss: 0.00309:  24%|█████████▉                               |  ETA: 0:00:19\u001b[39m"
     ]
    },
    {
     "data": {
      "text/plain": [
       "0.0030643228f0"
      ]
     },
     "metadata": {},
     "output_type": "display_data"
    },
    {
     "data": {
      "text/plain": [
       "0.0030332895f0"
      ]
     },
     "metadata": {},
     "output_type": "display_data"
    },
    {
     "name": "stderr",
     "output_type": "stream",
     "text": [
      "\r",
      "\u001b[32mloss: 0.00303:  25%|██████████▏                              |  ETA: 0:00:19\u001b[39m"
     ]
    },
    {
     "data": {
      "text/plain": [
       "0.0029942156f0"
      ]
     },
     "metadata": {},
     "output_type": "display_data"
    },
    {
     "data": {
      "text/plain": [
       "0.0029522541f0"
      ]
     },
     "metadata": {},
     "output_type": "display_data"
    },
    {
     "name": "stderr",
     "output_type": "stream",
     "text": [
      "\r",
      "\u001b[32mloss: 0.00295:  25%|██████████▍                              |  ETA: 0:00:18\u001b[39m"
     ]
    },
    {
     "data": {
      "text/plain": [
       "0.0029135728f0"
      ]
     },
     "metadata": {},
     "output_type": "display_data"
    },
    {
     "data": {
      "text/plain": [
       "0.00287867f0"
      ]
     },
     "metadata": {},
     "output_type": "display_data"
    },
    {
     "name": "stderr",
     "output_type": "stream",
     "text": [
      "\r",
      "\u001b[32mloss: 0.00288:  26%|██████████▋                              |  ETA: 0:00:18\u001b[39m"
     ]
    },
    {
     "data": {
      "text/plain": [
       "0.002845583f0"
      ]
     },
     "metadata": {},
     "output_type": "display_data"
    },
    {
     "data": {
      "text/plain": [
       "0.0028125092f0"
      ]
     },
     "metadata": {},
     "output_type": "display_data"
    },
    {
     "name": "stderr",
     "output_type": "stream",
     "text": [
      "\r",
      "\u001b[32mloss: 0.00281:  27%|██████████▉                              |  ETA: 0:00:18\u001b[39m"
     ]
    },
    {
     "data": {
      "text/plain": [
       "0.002776941f0"
      ]
     },
     "metadata": {},
     "output_type": "display_data"
    },
    {
     "data": {
      "text/plain": [
       "0.0027386155f0"
      ]
     },
     "metadata": {},
     "output_type": "display_data"
    },
    {
     "name": "stderr",
     "output_type": "stream",
     "text": [
      "\r",
      "\u001b[32mloss: 0.00274:  27%|███████████▎                             |  ETA: 0:00:18\u001b[39m"
     ]
    },
    {
     "data": {
      "text/plain": [
       "0.002699992f0"
      ]
     },
     "metadata": {},
     "output_type": "display_data"
    },
    {
     "data": {
      "text/plain": [
       "0.0026637285f0"
      ]
     },
     "metadata": {},
     "output_type": "display_data"
    },
    {
     "name": "stderr",
     "output_type": "stream",
     "text": [
      "\r",
      "\u001b[32mloss: 0.00266:  28%|███████████▌                             |  ETA: 0:00:17\u001b[39m"
     ]
    },
    {
     "data": {
      "text/plain": [
       "0.0026300764f0"
      ]
     },
     "metadata": {},
     "output_type": "display_data"
    },
    {
     "data": {
      "text/plain": [
       "0.0025964375f0"
      ]
     },
     "metadata": {},
     "output_type": "display_data"
    },
    {
     "name": "stderr",
     "output_type": "stream",
     "text": [
      "\r",
      "\u001b[32mloss: 0.0026:  29%|███████████▊                             |  ETA: 0:00:17\u001b[39m"
     ]
    },
    {
     "data": {
      "text/plain": [
       "0.0025606165f0"
      ]
     },
     "metadata": {},
     "output_type": "display_data"
    },
    {
     "data": {
      "text/plain": [
       "0.0025233738f0"
      ]
     },
     "metadata": {},
     "output_type": "display_data"
    },
    {
     "name": "stderr",
     "output_type": "stream",
     "text": [
      "\r",
      "\u001b[32mloss: 0.00252:  29%|████████████                             |  ETA: 0:00:17\u001b[39m"
     ]
    },
    {
     "data": {
      "text/plain": [
       "0.0024865263f0"
      ]
     },
     "metadata": {},
     "output_type": "display_data"
    },
    {
     "data": {
      "text/plain": [
       "0.0024512347f0"
      ]
     },
     "metadata": {},
     "output_type": "display_data"
    },
    {
     "name": "stderr",
     "output_type": "stream",
     "text": [
      "\r",
      "\u001b[32mloss: 0.00245:  30%|████████████▎                            |  ETA: 0:00:17\u001b[39m"
     ]
    },
    {
     "data": {
      "text/plain": [
       "0.0024171234f0"
      ]
     },
     "metadata": {},
     "output_type": "display_data"
    },
    {
     "data": {
      "text/plain": [
       "0.0023827136f0"
      ]
     },
     "metadata": {},
     "output_type": "display_data"
    },
    {
     "name": "stderr",
     "output_type": "stream",
     "text": [
      "\r",
      "\u001b[32mloss: 0.00238:  31%|████████████▌                            |  ETA: 0:00:16\u001b[39m"
     ]
    },
    {
     "data": {
      "text/plain": [
       "0.0023474158f0"
      ]
     },
     "metadata": {},
     "output_type": "display_data"
    },
    {
     "data": {
      "text/plain": [
       "0.0023116434f0"
      ]
     },
     "metadata": {},
     "output_type": "display_data"
    },
    {
     "name": "stderr",
     "output_type": "stream",
     "text": [
      "\r",
      "\u001b[32mloss: 0.00231:  31%|████████████▉                            |  ETA: 0:00:16\u001b[39m"
     ]
    },
    {
     "data": {
      "text/plain": [
       "0.002276088f0"
      ]
     },
     "metadata": {},
     "output_type": "display_data"
    },
    {
     "data": {
      "text/plain": [
       "0.0022414397f0"
      ]
     },
     "metadata": {},
     "output_type": "display_data"
    },
    {
     "name": "stderr",
     "output_type": "stream",
     "text": [
      "\r",
      "\u001b[32mloss: 0.00224:  32%|█████████████▏                           |  ETA: 0:00:16\u001b[39m"
     ]
    },
    {
     "data": {
      "text/plain": [
       "0.002207508f0"
      ]
     },
     "metadata": {},
     "output_type": "display_data"
    },
    {
     "data": {
      "text/plain": [
       "0.002173587f0"
      ]
     },
     "metadata": {},
     "output_type": "display_data"
    },
    {
     "name": "stderr",
     "output_type": "stream",
     "text": [
      "\r",
      "\u001b[32mloss: 0.00217:  33%|█████████████▍                           |  ETA: 0:00:16\u001b[39m"
     ]
    },
    {
     "data": {
      "text/plain": [
       "0.002139155f0"
      ]
     },
     "metadata": {},
     "output_type": "display_data"
    },
    {
     "data": {
      "text/plain": [
       "0.0021044791f0"
      ]
     },
     "metadata": {},
     "output_type": "display_data"
    },
    {
     "name": "stderr",
     "output_type": "stream",
     "text": [
      "\r",
      "\u001b[32mloss: 0.0021:  33%|█████████████▋                           |  ETA: 0:00:16\u001b[39m"
     ]
    },
    {
     "data": {
      "text/plain": [
       "0.002070358f0"
      ]
     },
     "metadata": {},
     "output_type": "display_data"
    },
    {
     "data": {
      "text/plain": [
       "0.0020369913f0"
      ]
     },
     "metadata": {},
     "output_type": "display_data"
    },
    {
     "name": "stderr",
     "output_type": "stream",
     "text": [
      "\r",
      "\u001b[32mloss: 0.00204:  34%|██████████████                           |  ETA: 0:00:15\u001b[39m"
     ]
    },
    {
     "data": {
      "text/plain": [
       "0.0020039815f0"
      ]
     },
     "metadata": {},
     "output_type": "display_data"
    },
    {
     "data": {
      "text/plain": [
       "0.0019708327f0"
      ]
     },
     "metadata": {},
     "output_type": "display_data"
    },
    {
     "name": "stderr",
     "output_type": "stream",
     "text": [
      "\r",
      "\u001b[32mloss: 0.00197:  35%|██████████████▏                          |  ETA: 0:00:15\u001b[39m"
     ]
    },
    {
     "data": {
      "text/plain": [
       "0.0019375199f0"
      ]
     },
     "metadata": {},
     "output_type": "display_data"
    },
    {
     "data": {
      "text/plain": [
       "0.0019045331f0"
      ]
     },
     "metadata": {},
     "output_type": "display_data"
    },
    {
     "name": "stderr",
     "output_type": "stream",
     "text": [
      "\r",
      "\u001b[32mloss: 0.0019:  35%|██████████████▌                          |  ETA: 0:00:15\u001b[39m"
     ]
    },
    {
     "data": {
      "text/plain": [
       "0.0018720529f0"
      ]
     },
     "metadata": {},
     "output_type": "display_data"
    },
    {
     "data": {
      "text/plain": [
       "0.0018399659f0"
      ]
     },
     "metadata": {},
     "output_type": "display_data"
    },
    {
     "name": "stderr",
     "output_type": "stream",
     "text": [
      "\r",
      "\u001b[32mloss: 0.00184:  36%|██████████████▊                          |  ETA: 0:00:15\u001b[39m"
     ]
    },
    {
     "data": {
      "text/plain": [
       "0.0018081345f0"
      ]
     },
     "metadata": {},
     "output_type": "display_data"
    },
    {
     "data": {
      "text/plain": [
       "0.0017763996f0"
      ]
     },
     "metadata": {},
     "output_type": "display_data"
    },
    {
     "name": "stderr",
     "output_type": "stream",
     "text": [
      "\r",
      "\u001b[32mloss: 0.00178:  37%|███████████████                          |  ETA: 0:00:15\u001b[39m"
     ]
    },
    {
     "data": {
      "text/plain": [
       "0.0017447979f0"
      ]
     },
     "metadata": {},
     "output_type": "display_data"
    },
    {
     "data": {
      "text/plain": [
       "0.0017135591f0"
      ]
     },
     "metadata": {},
     "output_type": "display_data"
    },
    {
     "name": "stderr",
     "output_type": "stream",
     "text": [
      "\r",
      "\u001b[32mloss: 0.00171:  37%|███████████████▎                         |  ETA: 0:00:14\u001b[39m"
     ]
    },
    {
     "data": {
      "text/plain": [
       "0.0016828276f0"
      ]
     },
     "metadata": {},
     "output_type": "display_data"
    },
    {
     "data": {
      "text/plain": [
       "0.0016524595f0"
      ]
     },
     "metadata": {},
     "output_type": "display_data"
    },
    {
     "name": "stderr",
     "output_type": "stream",
     "text": [
      "\r",
      "\u001b[32mloss: 0.00165:  38%|███████████████▋                         |  ETA: 0:00:14\u001b[39m"
     ]
    },
    {
     "data": {
      "text/plain": [
       "0.00162225f0"
      ]
     },
     "metadata": {},
     "output_type": "display_data"
    },
    {
     "data": {
      "text/plain": [
       "0.0015922392f0"
      ]
     },
     "metadata": {},
     "output_type": "display_data"
    },
    {
     "name": "stderr",
     "output_type": "stream",
     "text": [
      "\r",
      "\u001b[32mloss: 0.00159:  39%|███████████████▉                         |  ETA: 0:00:14\u001b[39m"
     ]
    },
    {
     "data": {
      "text/plain": [
       "0.0015625817f0"
      ]
     },
     "metadata": {},
     "output_type": "display_data"
    },
    {
     "data": {
      "text/plain": [
       "0.0015333745f0"
      ]
     },
     "metadata": {},
     "output_type": "display_data"
    },
    {
     "name": "stderr",
     "output_type": "stream",
     "text": [
      "\r",
      "\u001b[32mloss: 0.00153:  39%|████████████████▏                        |  ETA: 0:00:14\u001b[39m"
     ]
    },
    {
     "data": {
      "text/plain": [
       "0.001504547f0"
      ]
     },
     "metadata": {},
     "output_type": "display_data"
    },
    {
     "data": {
      "text/plain": [
       "0.0014759949f0"
      ]
     },
     "metadata": {},
     "output_type": "display_data"
    },
    {
     "name": "stderr",
     "output_type": "stream",
     "text": [
      "\r",
      "\u001b[32mloss: 0.00148:  40%|████████████████▍                        |  ETA: 0:00:14\u001b[39m"
     ]
    },
    {
     "data": {
      "text/plain": [
       "0.0014477312f0"
      ]
     },
     "metadata": {},
     "output_type": "display_data"
    },
    {
     "data": {
      "text/plain": [
       "0.0014198066f0"
      ]
     },
     "metadata": {},
     "output_type": "display_data"
    },
    {
     "name": "stderr",
     "output_type": "stream",
     "text": [
      "\r",
      "\u001b[32mloss: 0.00142:  41%|████████████████▋                        |  ETA: 0:00:14\u001b[39m"
     ]
    },
    {
     "data": {
      "text/plain": [
       "0.0013922844f0"
      ]
     },
     "metadata": {},
     "output_type": "display_data"
    },
    {
     "data": {
      "text/plain": [
       "0.0013651663f0"
      ]
     },
     "metadata": {},
     "output_type": "display_data"
    },
    {
     "name": "stderr",
     "output_type": "stream",
     "text": [
      "\r",
      "\u001b[32mloss: 0.00137:  41%|████████████████▉                        |  ETA: 0:00:13\u001b[39m"
     ]
    },
    {
     "data": {
      "text/plain": [
       "0.0013383887f0"
      ]
     },
     "metadata": {},
     "output_type": "display_data"
    },
    {
     "data": {
      "text/plain": [
       "0.0013119243f0"
      ]
     },
     "metadata": {},
     "output_type": "display_data"
    },
    {
     "name": "stderr",
     "output_type": "stream",
     "text": [
      "\r",
      "\u001b[32mloss: 0.00131:  42%|█████████████████▎                       |  ETA: 0:00:13\u001b[39m"
     ]
    },
    {
     "data": {
      "text/plain": [
       "0.0012858002f0"
      ]
     },
     "metadata": {},
     "output_type": "display_data"
    },
    {
     "data": {
      "text/plain": [
       "0.0012600721f0"
      ]
     },
     "metadata": {},
     "output_type": "display_data"
    },
    {
     "name": "stderr",
     "output_type": "stream",
     "text": [
      "\r",
      "\u001b[32mloss: 0.00126:  43%|█████████████████▌                       |  ETA: 0:00:13\u001b[39m"
     ]
    },
    {
     "data": {
      "text/plain": [
       "0.0012347507f0"
      ]
     },
     "metadata": {},
     "output_type": "display_data"
    },
    {
     "data": {
      "text/plain": [
       "0.001209789f0"
      ]
     },
     "metadata": {},
     "output_type": "display_data"
    },
    {
     "name": "stderr",
     "output_type": "stream",
     "text": [
      "\r",
      "\u001b[32mloss: 0.00121:  43%|█████████████████▊                       |  ETA: 0:00:13\u001b[39m"
     ]
    },
    {
     "data": {
      "text/plain": [
       "0.0011851601f0"
      ]
     },
     "metadata": {},
     "output_type": "display_data"
    },
    {
     "data": {
      "text/plain": [
       "0.0011608914f0"
      ]
     },
     "metadata": {},
     "output_type": "display_data"
    },
    {
     "name": "stderr",
     "output_type": "stream",
     "text": [
      "\r",
      "\u001b[32mloss: 0.00116:  44%|██████████████████                       |  ETA: 0:00:13\u001b[39m"
     ]
    },
    {
     "data": {
      "text/plain": [
       "0.0011370162f0"
      ]
     },
     "metadata": {},
     "output_type": "display_data"
    },
    {
     "data": {
      "text/plain": [
       "0.0011135256f0"
      ]
     },
     "metadata": {},
     "output_type": "display_data"
    },
    {
     "name": "stderr",
     "output_type": "stream",
     "text": [
      "\r",
      "\u001b[32mloss: 0.00111:  45%|██████████████████▎                      |  ETA: 0:00:12\u001b[39m"
     ]
    },
    {
     "data": {
      "text/plain": [
       "0.0010903988f0"
      ]
     },
     "metadata": {},
     "output_type": "display_data"
    },
    {
     "data": {
      "text/plain": [
       "0.0010676242f0"
      ]
     },
     "metadata": {},
     "output_type": "display_data"
    },
    {
     "name": "stderr",
     "output_type": "stream",
     "text": [
      "\r",
      "\u001b[32mloss: 0.00107:  45%|██████████████████▋                      |  ETA: 0:00:12\u001b[39m"
     ]
    },
    {
     "data": {
      "text/plain": [
       "0.0010452076f0"
      ]
     },
     "metadata": {},
     "output_type": "display_data"
    },
    {
     "data": {
      "text/plain": [
       "0.0010231669f0"
      ]
     },
     "metadata": {},
     "output_type": "display_data"
    },
    {
     "name": "stderr",
     "output_type": "stream",
     "text": [
      "\r",
      "\u001b[32mloss: 0.00102:  46%|██████████████████▉                      |  ETA: 0:00:12\u001b[39m"
     ]
    },
    {
     "data": {
      "text/plain": [
       "0.0010015018f0"
      ]
     },
     "metadata": {},
     "output_type": "display_data"
    },
    {
     "data": {
      "text/plain": [
       "0.0009802f0"
      ]
     },
     "metadata": {},
     "output_type": "display_data"
    },
    {
     "name": "stderr",
     "output_type": "stream",
     "text": [
      "\r",
      "\u001b[32mloss: 0.00098:  47%|███████████████████▏                     |  ETA: 0:00:12\u001b[39m"
     ]
    },
    {
     "data": {
      "text/plain": [
       "0.000959247f0"
      ]
     },
     "metadata": {},
     "output_type": "display_data"
    },
    {
     "data": {
      "text/plain": [
       "0.0009386489f0"
      ]
     },
     "metadata": {},
     "output_type": "display_data"
    },
    {
     "name": "stderr",
     "output_type": "stream",
     "text": [
      "\r",
      "\u001b[32mloss: 0.000939:  47%|███████████████████▍                     |  ETA: 0:00:12\u001b[39m"
     ]
    },
    {
     "data": {
      "text/plain": [
       "0.00091841497f0"
      ]
     },
     "metadata": {},
     "output_type": "display_data"
    },
    {
     "data": {
      "text/plain": [
       "0.0008985413f0"
      ]
     },
     "metadata": {},
     "output_type": "display_data"
    },
    {
     "name": "stderr",
     "output_type": "stream",
     "text": [
      "\r",
      "\u001b[32mloss: 0.000899:  48%|███████████████████▋                     |  ETA: 0:00:12\u001b[39m"
     ]
    },
    {
     "data": {
      "text/plain": [
       "0.00087901787f0"
      ]
     },
     "metadata": {},
     "output_type": "display_data"
    },
    {
     "data": {
      "text/plain": [
       "0.00085983274f0"
      ]
     },
     "metadata": {},
     "output_type": "display_data"
    },
    {
     "name": "stderr",
     "output_type": "stream",
     "text": [
      "\r",
      "\u001b[32mloss: 0.00086:  49%|███████████████████▉                     |  ETA: 0:00:11\u001b[39m"
     ]
    },
    {
     "data": {
      "text/plain": [
       "0.00084099075f0"
      ]
     },
     "metadata": {},
     "output_type": "display_data"
    },
    {
     "data": {
      "text/plain": [
       "0.00082249776f0"
      ]
     },
     "metadata": {},
     "output_type": "display_data"
    },
    {
     "name": "stderr",
     "output_type": "stream",
     "text": [
      "\r",
      "\u001b[32mloss: 0.000822:  49%|████████████████████▎                    |  ETA: 0:00:11\u001b[39m"
     ]
    },
    {
     "data": {
      "text/plain": [
       "0.00080434675f0"
      ]
     },
     "metadata": {},
     "output_type": "display_data"
    },
    {
     "data": {
      "text/plain": [
       "0.0007865273f0"
      ]
     },
     "metadata": {},
     "output_type": "display_data"
    },
    {
     "name": "stderr",
     "output_type": "stream",
     "text": [
      "\r",
      "\u001b[32mloss: 0.000787:  50%|████████████████████▌                    |  ETA: 0:00:11\u001b[39m"
     ]
    },
    {
     "data": {
      "text/plain": [
       "0.0007690372f0"
      ]
     },
     "metadata": {},
     "output_type": "display_data"
    },
    {
     "data": {
      "text/plain": [
       "0.0007518746f0"
      ]
     },
     "metadata": {},
     "output_type": "display_data"
    },
    {
     "name": "stderr",
     "output_type": "stream",
     "text": [
      "\r",
      "\u001b[32mloss: 0.000752:  51%|████████████████████▊                    |  ETA: 0:00:11\u001b[39m"
     ]
    },
    {
     "data": {
      "text/plain": [
       "0.0007350392f0"
      ]
     },
     "metadata": {},
     "output_type": "display_data"
    },
    {
     "data": {
      "text/plain": [
       "0.0007185263f0"
      ]
     },
     "metadata": {},
     "output_type": "display_data"
    },
    {
     "name": "stderr",
     "output_type": "stream",
     "text": [
      "\r",
      "\u001b[32mloss: 0.000719:  51%|█████████████████████                    |  ETA: 0:00:11\u001b[39m"
     ]
    },
    {
     "data": {
      "text/plain": [
       "0.0007023277f0"
      ]
     },
     "metadata": {},
     "output_type": "display_data"
    },
    {
     "data": {
      "text/plain": [
       "0.0006864395f0"
      ]
     },
     "metadata": {},
     "output_type": "display_data"
    },
    {
     "name": "stderr",
     "output_type": "stream",
     "text": [
      "\r",
      "\u001b[32mloss: 0.000686:  52%|█████████████████████▍                   |  ETA: 0:00:11\u001b[39m"
     ]
    },
    {
     "data": {
      "text/plain": [
       "0.0006708595f0"
      ]
     },
     "metadata": {},
     "output_type": "display_data"
    },
    {
     "data": {
      "text/plain": [
       "0.00065558724f0"
      ]
     },
     "metadata": {},
     "output_type": "display_data"
    },
    {
     "name": "stderr",
     "output_type": "stream",
     "text": [
      "\r",
      "\u001b[32mloss: 0.000656:  53%|█████████████████████▋                   |  ETA: 0:00:10\u001b[39m"
     ]
    },
    {
     "data": {
      "text/plain": [
       "0.0006406158f0"
      ]
     },
     "metadata": {},
     "output_type": "display_data"
    },
    {
     "data": {
      "text/plain": [
       "0.0006259384f0"
      ]
     },
     "metadata": {},
     "output_type": "display_data"
    },
    {
     "name": "stderr",
     "output_type": "stream",
     "text": [
      "\r",
      "\u001b[32mloss: 0.000626:  53%|█████████████████████▉                   |  ETA: 0:00:10\u001b[39m"
     ]
    },
    {
     "data": {
      "text/plain": [
       "0.0006115529f0"
      ]
     },
     "metadata": {},
     "output_type": "display_data"
    },
    {
     "data": {
      "text/plain": [
       "0.00059745664f0"
      ]
     },
     "metadata": {},
     "output_type": "display_data"
    },
    {
     "name": "stderr",
     "output_type": "stream",
     "text": [
      "\r",
      "\u001b[32mloss: 0.000597:  54%|██████████████████████▏                  |  ETA: 0:00:10\u001b[39m"
     ]
    },
    {
     "data": {
      "text/plain": [
       "0.00058364513f0"
      ]
     },
     "metadata": {},
     "output_type": "display_data"
    },
    {
     "data": {
      "text/plain": [
       "0.0005701129f0"
      ]
     },
     "metadata": {},
     "output_type": "display_data"
    },
    {
     "name": "stderr",
     "output_type": "stream",
     "text": [
      "\r",
      "\u001b[32mloss: 0.00057:  55%|██████████████████████▍                  |  ETA: 0:00:10\u001b[39m"
     ]
    },
    {
     "data": {
      "text/plain": [
       "0.0005568551f0"
      ]
     },
     "metadata": {},
     "output_type": "display_data"
    },
    {
     "data": {
      "text/plain": [
       "0.0005438683f0"
      ]
     },
     "metadata": {},
     "output_type": "display_data"
    },
    {
     "name": "stderr",
     "output_type": "stream",
     "text": [
      "\r",
      "\u001b[32mloss: 0.000544:  55%|██████████████████████▋                  |  ETA: 0:00:10\u001b[39m"
     ]
    },
    {
     "data": {
      "text/plain": [
       "0.0005311483f0"
      ]
     },
     "metadata": {},
     "output_type": "display_data"
    },
    {
     "data": {
      "text/plain": [
       "0.0005186926f0"
      ]
     },
     "metadata": {},
     "output_type": "display_data"
    },
    {
     "name": "stderr",
     "output_type": "stream",
     "text": [
      "\r",
      "\u001b[32mloss: 0.000519:  56%|███████████████████████                  |  ETA: 0:00:10\u001b[39m"
     ]
    },
    {
     "data": {
      "text/plain": [
       "0.0005064949f0"
      ]
     },
     "metadata": {},
     "output_type": "display_data"
    },
    {
     "data": {
      "text/plain": [
       "0.0004945517f0"
      ]
     },
     "metadata": {},
     "output_type": "display_data"
    },
    {
     "name": "stderr",
     "output_type": "stream",
     "text": [
      "\r",
      "\u001b[32mloss: 0.000495:  57%|███████████████████████▎                 |  ETA: 0:00:10\u001b[39m"
     ]
    },
    {
     "data": {
      "text/plain": [
       "0.0004828583f0"
      ]
     },
     "metadata": {},
     "output_type": "display_data"
    },
    {
     "data": {
      "text/plain": [
       "0.00047141223f0"
      ]
     },
     "metadata": {},
     "output_type": "display_data"
    },
    {
     "name": "stderr",
     "output_type": "stream",
     "text": [
      "\r",
      "\u001b[32mloss: 0.000471:  57%|███████████████████████▌                 |  ETA: 0:00:09\u001b[39m"
     ]
    },
    {
     "data": {
      "text/plain": [
       "0.00046020784f0"
      ]
     },
     "metadata": {},
     "output_type": "display_data"
    },
    {
     "data": {
      "text/plain": [
       "0.00044924123f0"
      ]
     },
     "metadata": {},
     "output_type": "display_data"
    },
    {
     "name": "stderr",
     "output_type": "stream",
     "text": [
      "\r",
      "\u001b[32mloss: 0.000449:  58%|███████████████████████▊                 |  ETA: 0:00:09\u001b[39m"
     ]
    },
    {
     "data": {
      "text/plain": [
       "0.0004385087f0"
      ]
     },
     "metadata": {},
     "output_type": "display_data"
    },
    {
     "data": {
      "text/plain": [
       "0.00042800594f0"
      ]
     },
     "metadata": {},
     "output_type": "display_data"
    },
    {
     "name": "stderr",
     "output_type": "stream",
     "text": [
      "\r",
      "\u001b[32mloss: 0.000428:  59%|████████████████████████                 |  ETA: 0:00:09\u001b[39m"
     ]
    },
    {
     "data": {
      "text/plain": [
       "0.00041772853f0"
      ]
     },
     "metadata": {},
     "output_type": "display_data"
    },
    {
     "data": {
      "text/plain": [
       "0.00040767508f0"
      ]
     },
     "metadata": {},
     "output_type": "display_data"
    },
    {
     "name": "stderr",
     "output_type": "stream",
     "text": [
      "\r",
      "\u001b[32mloss: 0.000408:  59%|████████████████████████▍                |  ETA: 0:00:09\u001b[39m"
     ]
    },
    {
     "data": {
      "text/plain": [
       "0.00039783897f0"
      ]
     },
     "metadata": {},
     "output_type": "display_data"
    },
    {
     "data": {
      "text/plain": [
       "0.0003882165f0"
      ]
     },
     "metadata": {},
     "output_type": "display_data"
    },
    {
     "name": "stderr",
     "output_type": "stream",
     "text": [
      "\r",
      "\u001b[32mloss: 0.000388:  60%|████████████████████████▋                |  ETA: 0:00:09\u001b[39m"
     ]
    },
    {
     "data": {
      "text/plain": [
       "0.00037880527f0"
      ]
     },
     "metadata": {},
     "output_type": "display_data"
    },
    {
     "data": {
      "text/plain": [
       "0.00036959993f0"
      ]
     },
     "metadata": {},
     "output_type": "display_data"
    },
    {
     "name": "stderr",
     "output_type": "stream",
     "text": [
      "\r",
      "\u001b[32mloss: 0.00037:  61%|████████████████████████▉                |  ETA: 0:00:09\u001b[39m"
     ]
    },
    {
     "data": {
      "text/plain": [
       "0.00036059757f0"
      ]
     },
     "metadata": {},
     "output_type": "display_data"
    },
    {
     "data": {
      "text/plain": [
       "0.00035179371f0"
      ]
     },
     "metadata": {},
     "output_type": "display_data"
    },
    {
     "name": "stderr",
     "output_type": "stream",
     "text": [
      "\r",
      "\u001b[32mloss: 0.000352:  61%|█████████████████████████▏               |  ETA: 0:00:09\u001b[39m"
     ]
    },
    {
     "data": {
      "text/plain": [
       "0.0003431872f0"
      ]
     },
     "metadata": {},
     "output_type": "display_data"
    },
    {
     "data": {
      "text/plain": [
       "0.00033477074f0"
      ]
     },
     "metadata": {},
     "output_type": "display_data"
    },
    {
     "name": "stderr",
     "output_type": "stream",
     "text": [
      "\r",
      "\u001b[32mloss: 0.000335:  62%|█████████████████████████▍               |  ETA: 0:00:08\u001b[39m"
     ]
    },
    {
     "data": {
      "text/plain": [
       "0.00032654346f0"
      ]
     },
     "metadata": {},
     "output_type": "display_data"
    },
    {
     "data": {
      "text/plain": [
       "0.0003185005f0"
      ]
     },
     "metadata": {},
     "output_type": "display_data"
    },
    {
     "name": "stderr",
     "output_type": "stream",
     "text": [
      "\r",
      "\u001b[32mloss: 0.000319:  63%|█████████████████████████▋               |  ETA: 0:00:08\u001b[39m"
     ]
    },
    {
     "data": {
      "text/plain": [
       "0.00031063912f0"
      ]
     },
     "metadata": {},
     "output_type": "display_data"
    },
    {
     "data": {
      "text/plain": [
       "0.00030295586f0"
      ]
     },
     "metadata": {},
     "output_type": "display_data"
    },
    {
     "name": "stderr",
     "output_type": "stream",
     "text": [
      "\r",
      "\u001b[32mloss: 0.000303:  63%|██████████████████████████               |  ETA: 0:00:08\u001b[39m"
     ]
    },
    {
     "data": {
      "text/plain": [
       "0.00029544646f0"
      ]
     },
     "metadata": {},
     "output_type": "display_data"
    },
    {
     "data": {
      "text/plain": [
       "0.00028810673f0"
      ]
     },
     "metadata": {},
     "output_type": "display_data"
    },
    {
     "name": "stderr",
     "output_type": "stream",
     "text": [
      "\r",
      "\u001b[32mloss: 0.000288:  64%|██████████████████████████▎              |  ETA: 0:00:08\u001b[39m"
     ]
    },
    {
     "data": {
      "text/plain": [
       "0.0002809345f0"
      ]
     },
     "metadata": {},
     "output_type": "display_data"
    },
    {
     "data": {
      "text/plain": [
       "0.00027392857f0"
      ]
     },
     "metadata": {},
     "output_type": "display_data"
    },
    {
     "name": "stderr",
     "output_type": "stream",
     "text": [
      "\r",
      "\u001b[32mloss: 0.000274:  65%|██████████████████████████▌              |  ETA: 0:00:08\u001b[39m"
     ]
    },
    {
     "data": {
      "text/plain": [
       "0.0002670826f0"
      ]
     },
     "metadata": {},
     "output_type": "display_data"
    },
    {
     "data": {
      "text/plain": [
       "0.00026039474f0"
      ]
     },
     "metadata": {},
     "output_type": "display_data"
    },
    {
     "name": "stderr",
     "output_type": "stream",
     "text": [
      "\r",
      "\u001b[32mloss: 0.00026:  65%|██████████████████████████▊              |  ETA: 0:00:08\u001b[39m"
     ]
    },
    {
     "data": {
      "text/plain": [
       "0.00025386154f0"
      ]
     },
     "metadata": {},
     "output_type": "display_data"
    },
    {
     "data": {
      "text/plain": [
       "0.00024747982f0"
      ]
     },
     "metadata": {},
     "output_type": "display_data"
    },
    {
     "name": "stderr",
     "output_type": "stream",
     "text": [
      "\r",
      "\u001b[32mloss: 0.000247:  66%|███████████████████████████              |  ETA: 0:00:08\u001b[39m"
     ]
    },
    {
     "data": {
      "text/plain": [
       "0.00024124705f0"
      ]
     },
     "metadata": {},
     "output_type": "display_data"
    },
    {
     "data": {
      "text/plain": [
       "0.00023515955f0"
      ]
     },
     "metadata": {},
     "output_type": "display_data"
    },
    {
     "name": "stderr",
     "output_type": "stream",
     "text": [
      "\r",
      "\u001b[32mloss: 0.000235:  67%|███████████████████████████▎             |  ETA: 0:00:07\u001b[39m"
     ]
    },
    {
     "data": {
      "text/plain": [
       "0.00022921531f0"
      ]
     },
     "metadata": {},
     "output_type": "display_data"
    },
    {
     "data": {
      "text/plain": [
       "0.0002234106f0"
      ]
     },
     "metadata": {},
     "output_type": "display_data"
    },
    {
     "name": "stderr",
     "output_type": "stream",
     "text": [
      "\r",
      "\u001b[32mloss: 0.000223:  67%|███████████████████████████▋             |  ETA: 0:00:07\u001b[39m"
     ]
    },
    {
     "data": {
      "text/plain": [
       "0.00021774294f0"
      ]
     },
     "metadata": {},
     "output_type": "display_data"
    },
    {
     "data": {
      "text/plain": [
       "0.00021220917f0"
      ]
     },
     "metadata": {},
     "output_type": "display_data"
    },
    {
     "name": "stderr",
     "output_type": "stream",
     "text": [
      "\r",
      "\u001b[32mloss: 0.000212:  68%|███████████████████████████▉             |  ETA: 0:00:07\u001b[39m"
     ]
    },
    {
     "data": {
      "text/plain": [
       "0.00020680694f0"
      ]
     },
     "metadata": {},
     "output_type": "display_data"
    },
    {
     "data": {
      "text/plain": [
       "0.00020153316f0"
      ]
     },
     "metadata": {},
     "output_type": "display_data"
    },
    {
     "name": "stderr",
     "output_type": "stream",
     "text": [
      "\r",
      "\u001b[32mloss: 0.000202:  69%|████████████████████████████▏            |  ETA: 0:00:07\u001b[39m"
     ]
    },
    {
     "data": {
      "text/plain": [
       "0.00019638511f0"
      ]
     },
     "metadata": {},
     "output_type": "display_data"
    },
    {
     "data": {
      "text/plain": [
       "0.00019136078f0"
      ]
     },
     "metadata": {},
     "output_type": "display_data"
    },
    {
     "name": "stderr",
     "output_type": "stream",
     "text": [
      "\r",
      "\u001b[32mloss: 0.000191:  69%|████████████████████████████▍            |  ETA: 0:00:07\u001b[39m"
     ]
    },
    {
     "data": {
      "text/plain": [
       "0.00018645712f0"
      ]
     },
     "metadata": {},
     "output_type": "display_data"
    },
    {
     "data": {
      "text/plain": [
       "0.00018167117f0"
      ]
     },
     "metadata": {},
     "output_type": "display_data"
    },
    {
     "name": "stderr",
     "output_type": "stream",
     "text": [
      "\r",
      "\u001b[32mloss: 0.000182:  70%|████████████████████████████▊            |  ETA: 0:00:07\u001b[39m"
     ]
    },
    {
     "data": {
      "text/plain": [
       "0.00017700154f0"
      ]
     },
     "metadata": {},
     "output_type": "display_data"
    },
    {
     "data": {
      "text/plain": [
       "0.00017244394f0"
      ]
     },
     "metadata": {},
     "output_type": "display_data"
    },
    {
     "name": "stderr",
     "output_type": "stream",
     "text": [
      "\r",
      "\u001b[32mloss: 0.000172:  71%|█████████████████████████████            |  ETA: 0:00:07\u001b[39m"
     ]
    },
    {
     "data": {
      "text/plain": [
       "0.00016799774f0"
      ]
     },
     "metadata": {},
     "output_type": "display_data"
    },
    {
     "data": {
      "text/plain": [
       "0.00016365966f0"
      ]
     },
     "metadata": {},
     "output_type": "display_data"
    },
    {
     "name": "stderr",
     "output_type": "stream",
     "text": [
      "\r",
      "\u001b[32mloss: 0.000164:  71%|█████████████████████████████▎           |  ETA: 0:00:06\u001b[39m"
     ]
    },
    {
     "data": {
      "text/plain": [
       "0.00015942764f0"
      ]
     },
     "metadata": {},
     "output_type": "display_data"
    },
    {
     "data": {
      "text/plain": [
       "0.00015529897f0"
      ]
     },
     "metadata": {},
     "output_type": "display_data"
    },
    {
     "name": "stderr",
     "output_type": "stream",
     "text": [
      "\r",
      "\u001b[32mloss: 0.000155:  72%|█████████████████████████████▌           |  ETA: 0:00:06\u001b[39m"
     ]
    },
    {
     "data": {
      "text/plain": [
       "0.00015127187f0"
      ]
     },
     "metadata": {},
     "output_type": "display_data"
    },
    {
     "data": {
      "text/plain": [
       "0.00014734412f0"
      ]
     },
     "metadata": {},
     "output_type": "display_data"
    },
    {
     "name": "stderr",
     "output_type": "stream",
     "text": [
      "\r",
      "\u001b[32mloss: 0.000147:  73%|█████████████████████████████▊           |  ETA: 0:00:06\u001b[39m"
     ]
    },
    {
     "data": {
      "text/plain": [
       "0.00014351335f0"
      ]
     },
     "metadata": {},
     "output_type": "display_data"
    },
    {
     "data": {
      "text/plain": [
       "0.0001397772f0"
      ]
     },
     "metadata": {},
     "output_type": "display_data"
    },
    {
     "name": "stderr",
     "output_type": "stream",
     "text": [
      "\r",
      "\u001b[32mloss: 0.00014:  73%|██████████████████████████████           |  ETA: 0:00:06\u001b[39m"
     ]
    },
    {
     "data": {
      "text/plain": [
       "0.00013613362f0"
      ]
     },
     "metadata": {},
     "output_type": "display_data"
    },
    {
     "data": {
      "text/plain": [
       "0.00013258062f0"
      ]
     },
     "metadata": {},
     "output_type": "display_data"
    },
    {
     "name": "stderr",
     "output_type": "stream",
     "text": [
      "\r",
      "\u001b[32mloss: 0.000133:  74%|██████████████████████████████▍          |  ETA: 0:00:06\u001b[39m"
     ]
    },
    {
     "data": {
      "text/plain": [
       "0.00012911671f0"
      ]
     },
     "metadata": {},
     "output_type": "display_data"
    },
    {
     "data": {
      "text/plain": [
       "0.00012573885f0"
      ]
     },
     "metadata": {},
     "output_type": "display_data"
    },
    {
     "name": "stderr",
     "output_type": "stream",
     "text": [
      "\r",
      "\u001b[32mloss: 0.000126:  75%|██████████████████████████████▋          |  ETA: 0:00:06\u001b[39m"
     ]
    },
    {
     "data": {
      "text/plain": [
       "0.00012244591f0"
      ]
     },
     "metadata": {},
     "output_type": "display_data"
    },
    {
     "data": {
      "text/plain": [
       "0.00011923571f0"
      ]
     },
     "metadata": {},
     "output_type": "display_data"
    },
    {
     "name": "stderr",
     "output_type": "stream",
     "text": [
      "\r",
      "\u001b[32mloss: 0.000119:  75%|██████████████████████████████▉          |  ETA: 0:00:05\u001b[39m"
     ]
    },
    {
     "data": {
      "text/plain": [
       "0.00011610643f0"
      ]
     },
     "metadata": {},
     "output_type": "display_data"
    },
    {
     "data": {
      "text/plain": [
       "0.00011305632f0"
      ]
     },
     "metadata": {},
     "output_type": "display_data"
    },
    {
     "name": "stderr",
     "output_type": "stream",
     "text": [
      "\r",
      "\u001b[32mloss: 0.000113:  76%|███████████████████████████████▏         |  ETA: 0:00:05\u001b[39m"
     ]
    },
    {
     "data": {
      "text/plain": [
       "0.00011008396f0"
      ]
     },
     "metadata": {},
     "output_type": "display_data"
    },
    {
     "data": {
      "text/plain": [
       "0.00010718794f0"
      ]
     },
     "metadata": {},
     "output_type": "display_data"
    },
    {
     "name": "stderr",
     "output_type": "stream",
     "text": [
      "\r",
      "\u001b[32mloss: 0.000107:  77%|███████████████████████████████▍         |  ETA: 0:00:05\u001b[39m"
     ]
    },
    {
     "data": {
      "text/plain": [
       "0.000104367624f0"
      ]
     },
     "metadata": {},
     "output_type": "display_data"
    },
    {
     "data": {
      "text/plain": [
       "0.00010162553f0"
      ]
     },
     "metadata": {},
     "output_type": "display_data"
    },
    {
     "name": "stderr",
     "output_type": "stream",
     "text": [
      "\r",
      "\u001b[32mloss: 0.000102:  77%|███████████████████████████████▊         |  ETA: 0:00:05\u001b[39m"
     ]
    },
    {
     "data": {
      "text/plain": [
       "9.896832f-5"
      ]
     },
     "metadata": {},
     "output_type": "display_data"
    },
    {
     "data": {
      "text/plain": [
       "9.641632f-5"
      ]
     },
     "metadata": {},
     "output_type": "display_data"
    },
    {
     "name": "stderr",
     "output_type": "stream",
     "text": [
      "\r",
      "\u001b[32mloss: 9.64e-05:  78%|████████████████████████████████         |  ETA: 0:00:05\u001b[39m"
     ]
    },
    {
     "data": {
      "text/plain": [
       "9.402585f-5"
      ]
     },
     "metadata": {},
     "output_type": "display_data"
    },
    {
     "data": {
      "text/plain": [
       "9.194841f-5"
      ]
     },
     "metadata": {},
     "output_type": "display_data"
    },
    {
     "name": "stderr",
     "output_type": "stream",
     "text": [
      "\r",
      "\u001b[32mloss: 9.19e-05:  79%|████████████████████████████████▎        |  ETA: 0:00:05\u001b[39m"
     ]
    },
    {
     "data": {
      "text/plain": [
       "9.0593836f-5"
      ]
     },
     "metadata": {},
     "output_type": "display_data"
    },
    {
     "data": {
      "text/plain": [
       "9.106314f-5"
      ]
     },
     "metadata": {},
     "output_type": "display_data"
    },
    {
     "name": "stderr",
     "output_type": "stream",
     "text": [
      "\r",
      "\u001b[32mloss: 9.11e-05:  79%|████████████████████████████████▌        |  ETA: 0:00:05\u001b[39m"
     ]
    },
    {
     "data": {
      "text/plain": [
       "9.627688f-5"
      ]
     },
     "metadata": {},
     "output_type": "display_data"
    },
    {
     "data": {
      "text/plain": [
       "0.00011345793f0"
      ]
     },
     "metadata": {},
     "output_type": "display_data"
    },
    {
     "name": "stderr",
     "output_type": "stream",
     "text": [
      "\r",
      "\u001b[32mloss: 0.000113:  80%|████████████████████████████████▊        |  ETA: 0:00:04\u001b[39m"
     ]
    },
    {
     "data": {
      "text/plain": [
       "0.00015723432f0"
      ]
     },
     "metadata": {},
     "output_type": "display_data"
    },
    {
     "data": {
      "text/plain": [
       "0.00024276861f0"
      ]
     },
     "metadata": {},
     "output_type": "display_data"
    },
    {
     "name": "stderr",
     "output_type": "stream",
     "text": [
      "\r",
      "\u001b[32mloss: 0.000243:  81%|█████████████████████████████████        |  ETA: 0:00:04\u001b[39m"
     ]
    },
    {
     "data": {
      "text/plain": [
       "0.00034864477f0"
      ]
     },
     "metadata": {},
     "output_type": "display_data"
    },
    {
     "data": {
      "text/plain": [
       "0.00038603332f0"
      ]
     },
     "metadata": {},
     "output_type": "display_data"
    },
    {
     "name": "stderr",
     "output_type": "stream",
     "text": [
      "\r",
      "\u001b[32mloss: 0.000386:  81%|█████████████████████████████████▍       |  ETA: 0:00:04\u001b[39m"
     ]
    },
    {
     "data": {
      "text/plain": [
       "0.00028892292f0"
      ]
     },
     "metadata": {},
     "output_type": "display_data"
    },
    {
     "data": {
      "text/plain": [
       "0.00014011556f0"
      ]
     },
     "metadata": {},
     "output_type": "display_data"
    },
    {
     "name": "stderr",
     "output_type": "stream",
     "text": [
      "\r",
      "\u001b[32mloss: 0.00014:  82%|█████████████████████████████████▋       |  ETA: 0:00:04\u001b[39m"
     ]
    },
    {
     "data": {
      "text/plain": [
       "9.319086f-5"
      ]
     },
     "metadata": {},
     "output_type": "display_data"
    },
    {
     "data": {
      "text/plain": [
       "0.00016328928f0"
      ]
     },
     "metadata": {},
     "output_type": "display_data"
    },
    {
     "name": "stderr",
     "output_type": "stream",
     "text": [
      "\r",
      "\u001b[32mloss: 0.000163:  83%|█████████████████████████████████▉       |  ETA: 0:00:04\u001b[39m"
     ]
    },
    {
     "data": {
      "text/plain": [
       "0.00020937409f0"
      ]
     },
     "metadata": {},
     "output_type": "display_data"
    },
    {
     "data": {
      "text/plain": [
       "0.00015248626f0"
      ]
     },
     "metadata": {},
     "output_type": "display_data"
    },
    {
     "name": "stderr",
     "output_type": "stream",
     "text": [
      "\r",
      "\u001b[32mloss: 0.000152:  83%|██████████████████████████████████▏      |  ETA: 0:00:04\u001b[39m"
     ]
    },
    {
     "data": {
      "text/plain": [
       "8.649569f-5"
      ]
     },
     "metadata": {},
     "output_type": "display_data"
    },
    {
     "data": {
      "text/plain": [
       "0.000102684906f0"
      ]
     },
     "metadata": {},
     "output_type": "display_data"
    },
    {
     "name": "stderr",
     "output_type": "stream",
     "text": [
      "\r",
      "\u001b[32mloss: 0.000103:  84%|██████████████████████████████████▌      |  ETA: 0:00:03\u001b[39m"
     ]
    },
    {
     "data": {
      "text/plain": [
       "0.00013870069f0"
      ]
     },
     "metadata": {},
     "output_type": "display_data"
    },
    {
     "data": {
      "text/plain": [
       "0.000114040275f0"
      ]
     },
     "metadata": {},
     "output_type": "display_data"
    },
    {
     "name": "stderr",
     "output_type": "stream",
     "text": [
      "\r",
      "\u001b[32mloss: 0.000114:  85%|██████████████████████████████████▋      |  ETA: 0:00:03\u001b[39m"
     ]
    },
    {
     "data": {
      "text/plain": [
       "7.6073404f-5"
      ]
     },
     "metadata": {},
     "output_type": "display_data"
    },
    {
     "data": {
      "text/plain": [
       "8.7228545f-5"
      ]
     },
     "metadata": {},
     "output_type": "display_data"
    },
    {
     "name": "stderr",
     "output_type": "stream",
     "text": [
      "\r",
      "\u001b[32mloss: 8.72e-05:  85%|███████████████████████████████████      |  ETA: 0:00:03\u001b[39m"
     ]
    },
    {
     "data": {
      "text/plain": [
       "0.00010302734f0"
      ]
     },
     "metadata": {},
     "output_type": "display_data"
    },
    {
     "data": {
      "text/plain": [
       "7.999451f-5"
      ]
     },
     "metadata": {},
     "output_type": "display_data"
    },
    {
     "name": "stderr",
     "output_type": "stream",
     "text": [
      "\r",
      "\u001b[32mloss: 8e-05:  86%|███████████████████████████████████▎     |  ETA: 0:00:03\u001b[39m"
     ]
    },
    {
     "data": {
      "text/plain": [
       "6.226592f-5"
      ]
     },
     "metadata": {},
     "output_type": "display_data"
    },
    {
     "data": {
      "text/plain": [
       "7.798263f-5"
      ]
     },
     "metadata": {},
     "output_type": "display_data"
    },
    {
     "name": "stderr",
     "output_type": "stream",
     "text": [
      "\r",
      "\u001b[32mloss: 7.8e-05:  87%|███████████████████████████████████▌     |  ETA: 0:00:03\u001b[39m"
     ]
    },
    {
     "data": {
      "text/plain": [
       "8.224997f-5"
      ]
     },
     "metadata": {},
     "output_type": "display_data"
    },
    {
     "data": {
      "text/plain": [
       "5.8161888f-5"
      ]
     },
     "metadata": {},
     "output_type": "display_data"
    },
    {
     "name": "stderr",
     "output_type": "stream",
     "text": [
      "\r",
      "\u001b[32mloss: 5.82e-05:  87%|███████████████████████████████████▊     |  ETA: 0:00:03\u001b[39m"
     ]
    },
    {
     "data": {
      "text/plain": [
       "5.1043866f-5"
      ]
     },
     "metadata": {},
     "output_type": "display_data"
    },
    {
     "data": {
      "text/plain": [
       "6.809096f-5"
      ]
     },
     "metadata": {},
     "output_type": "display_data"
    },
    {
     "name": "stderr",
     "output_type": "stream",
     "text": [
      "\r",
      "\u001b[32mloss: 6.81e-05:  88%|████████████████████████████████████▏    |  ETA: 0:00:03\u001b[39m"
     ]
    },
    {
     "data": {
      "text/plain": [
       "6.672221f-5"
      ]
     },
     "metadata": {},
     "output_type": "display_data"
    },
    {
     "data": {
      "text/plain": [
       "4.6367044f-5"
      ]
     },
     "metadata": {},
     "output_type": "display_data"
    },
    {
     "name": "stderr",
     "output_type": "stream",
     "text": [
      "\r",
      "\u001b[32mloss: 4.64e-05:  89%|████████████████████████████████████▍    |  ETA: 0:00:02\u001b[39m"
     ]
    },
    {
     "data": {
      "text/plain": [
       "4.4095712f-5"
      ]
     },
     "metadata": {},
     "output_type": "display_data"
    },
    {
     "data": {
      "text/plain": [
       "5.663389f-5"
      ]
     },
     "metadata": {},
     "output_type": "display_data"
    },
    {
     "name": "stderr",
     "output_type": "stream",
     "text": [
      "\r",
      "\u001b[32mloss: 5.66e-05:  89%|████████████████████████████████████▋    |  ETA: 0:00:02\u001b[39m"
     ]
    },
    {
     "data": {
      "text/plain": [
       "5.3827265f-5"
      ]
     },
     "metadata": {},
     "output_type": "display_data"
    },
    {
     "data": {
      "text/plain": [
       "4.0626826f-5"
      ]
     },
     "metadata": {},
     "output_type": "display_data"
    },
    {
     "name": "stderr",
     "output_type": "stream",
     "text": [
      "\r",
      "\u001b[32mloss: 4.06e-05:  90%|████████████████████████████████████▉    |  ETA: 0:00:02\u001b[39m"
     ]
    },
    {
     "data": {
      "text/plain": [
       "3.9930175f-5"
      ]
     },
     "metadata": {},
     "output_type": "display_data"
    },
    {
     "data": {
      "text/plain": [
       "4.6118745f-5"
      ]
     },
     "metadata": {},
     "output_type": "display_data"
    },
    {
     "name": "stderr",
     "output_type": "stream",
     "text": [
      "\r",
      "\u001b[32mloss: 4.61e-05:  91%|█████████████████████████████████████▏   |  ETA: 0:00:02\u001b[39m"
     ]
    },
    {
     "data": {
      "text/plain": [
       "4.3056887f-5"
      ]
     },
     "metadata": {},
     "output_type": "display_data"
    },
    {
     "data": {
      "text/plain": [
       "3.6537f-5"
      ]
     },
     "metadata": {},
     "output_type": "display_data"
    },
    {
     "name": "stderr",
     "output_type": "stream",
     "text": [
      "\r",
      "\u001b[32mloss: 3.65e-05:  91%|█████████████████████████████████████▍   |  ETA: 0:00:02\u001b[39m"
     ]
    },
    {
     "data": {
      "text/plain": [
       "3.703633f-5"
      ]
     },
     "metadata": {},
     "output_type": "display_data"
    },
    {
     "data": {
      "text/plain": [
       "3.8693306f-5"
      ]
     },
     "metadata": {},
     "output_type": "display_data"
    },
    {
     "name": "stderr",
     "output_type": "stream",
     "text": [
      "\r",
      "\u001b[32mloss: 3.87e-05:  92%|█████████████████████████████████████▊   |  ETA: 0:00:02\u001b[39m"
     ]
    },
    {
     "data": {
      "text/plain": [
       "3.493688f-5"
      ]
     },
     "metadata": {},
     "output_type": "display_data"
    },
    {
     "data": {
      "text/plain": [
       "3.188459f-5"
      ]
     },
     "metadata": {},
     "output_type": "display_data"
    },
    {
     "name": "stderr",
     "output_type": "stream",
     "text": [
      "\r",
      "\u001b[32mloss: 3.19e-05:  93%|██████████████████████████████████████   |  ETA: 0:00:02\u001b[39m"
     ]
    },
    {
     "data": {
      "text/plain": [
       "3.3689954f-5"
      ]
     },
     "metadata": {},
     "output_type": "display_data"
    },
    {
     "data": {
      "text/plain": [
       "3.3984204f-5"
      ]
     },
     "metadata": {},
     "output_type": "display_data"
    },
    {
     "name": "stderr",
     "output_type": "stream",
     "text": [
      "\r",
      "\u001b[32mloss: 3.4e-05:  93%|██████████████████████████████████████▎  |  ETA: 0:00:01\u001b[39m"
     ]
    },
    {
     "data": {
      "text/plain": [
       "2.9939796f-5"
      ]
     },
     "metadata": {},
     "output_type": "display_data"
    },
    {
     "data": {
      "text/plain": [
       "2.7587586f-5"
      ]
     },
     "metadata": {},
     "output_type": "display_data"
    },
    {
     "name": "stderr",
     "output_type": "stream",
     "text": [
      "\r",
      "\u001b[32mloss: 2.76e-05:  94%|██████████████████████████████████████▌  |  ETA: 0:00:01\u001b[39m"
     ]
    },
    {
     "data": {
      "text/plain": [
       "2.9256144f-5"
      ]
     },
     "metadata": {},
     "output_type": "display_data"
    },
    {
     "data": {
      "text/plain": [
       "2.983133f-5"
      ]
     },
     "metadata": {},
     "output_type": "display_data"
    },
    {
     "name": "stderr",
     "output_type": "stream",
     "text": [
      "\r",
      "\u001b[32mloss: 2.98e-05:  95%|██████████████████████████████████████▊  |  ETA: 0:00:01\u001b[39m"
     ]
    },
    {
     "data": {
      "text/plain": [
       "2.7081487f-5"
      ]
     },
     "metadata": {},
     "output_type": "display_data"
    },
    {
     "data": {
      "text/plain": [
       "2.4866564f-5"
      ]
     },
     "metadata": {},
     "output_type": "display_data"
    },
    {
     "name": "stderr",
     "output_type": "stream",
     "text": [
      "\r",
      "\u001b[32mloss: 2.49e-05:  95%|███████████████████████████████████████▏ |  ETA: 0:00:01\u001b[39m"
     ]
    },
    {
     "data": {
      "text/plain": [
       "2.5239458f-5"
      ]
     },
     "metadata": {},
     "output_type": "display_data"
    },
    {
     "data": {
      "text/plain": [
       "2.555134f-5"
      ]
     },
     "metadata": {},
     "output_type": "display_data"
    },
    {
     "name": "stderr",
     "output_type": "stream",
     "text": [
      "\r",
      "\u001b[32mloss: 2.56e-05:  96%|███████████████████████████████████████▍ |  ETA: 0:00:01\u001b[39m"
     ]
    },
    {
     "data": {
      "text/plain": [
       "2.4167048f-5"
      ]
     },
     "metadata": {},
     "output_type": "display_data"
    },
    {
     "data": {
      "text/plain": [
       "2.2845901f-5"
      ]
     },
     "metadata": {},
     "output_type": "display_data"
    },
    {
     "name": "stderr",
     "output_type": "stream",
     "text": [
      "\r",
      "\u001b[32mloss: 2.28e-05:  97%|███████████████████████████████████████▋ |  ETA: 0:00:01\u001b[39m"
     ]
    },
    {
     "data": {
      "text/plain": [
       "2.2676351f-5"
      ]
     },
     "metadata": {},
     "output_type": "display_data"
    },
    {
     "data": {
      "text/plain": [
       "2.2398855f-5"
      ]
     },
     "metadata": {},
     "output_type": "display_data"
    },
    {
     "name": "stderr",
     "output_type": "stream",
     "text": [
      "\r",
      "\u001b[32mloss: 2.24e-05:  97%|███████████████████████████████████████▉ |  ETA: 0:00:01\u001b[39m"
     ]
    },
    {
     "data": {
      "text/plain": [
       "2.1269116f-5"
      ]
     },
     "metadata": {},
     "output_type": "display_data"
    },
    {
     "data": {
      "text/plain": [
       "2.0314877f-5"
      ]
     },
     "metadata": {},
     "output_type": "display_data"
    },
    {
     "name": "stderr",
     "output_type": "stream",
     "text": [
      "\r",
      "\u001b[32mloss: 2.03e-05:  98%|████████████████████████████████████████▏|  ETA: 0:00:00\u001b[39m"
     ]
    },
    {
     "data": {
      "text/plain": [
       "2.023432f-5"
      ]
     },
     "metadata": {},
     "output_type": "display_data"
    },
    {
     "data": {
      "text/plain": [
       "2.0185875f-5"
      ]
     },
     "metadata": {},
     "output_type": "display_data"
    },
    {
     "name": "stderr",
     "output_type": "stream",
     "text": [
      "\r",
      "\u001b[32mloss: 2.02e-05:  99%|████████████████████████████████████████▍|  ETA: 0:00:00\u001b[39m"
     ]
    },
    {
     "data": {
      "text/plain": [
       "1.9378896f-5"
      ]
     },
     "metadata": {},
     "output_type": "display_data"
    },
    {
     "data": {
      "text/plain": [
       "1.8334857f-5"
      ]
     },
     "metadata": {},
     "output_type": "display_data"
    },
    {
     "name": "stderr",
     "output_type": "stream",
     "text": [
      "\r",
      "\u001b[32mloss: 1.83e-05:  99%|████████████████████████████████████████▊|  ETA: 0:00:00\u001b[39m"
     ]
    },
    {
     "data": {
      "text/plain": [
       "1.7843045f-5"
      ]
     },
     "metadata": {},
     "output_type": "display_data"
    },
    {
     "data": {
      "text/plain": [
       "1.7748853f-5"
      ]
     },
     "metadata": {},
     "output_type": "display_data"
    },
    {
     "name": "stderr",
     "output_type": "stream",
     "text": [
      "\r",
      "\u001b[32mloss: 1.77e-05: 100%|█████████████████████████████████████████| Time: 0:00:21\u001b[39m\n"
     ]
    },
    {
     "data": {
      "text/plain": [
       "1.7748853f-5"
      ]
     },
     "metadata": {},
     "output_type": "display_data"
    },
    {
     "data": {
      "text/plain": [
       " * Status: success\n",
       "\n",
       " * Candidate solution\n",
       "    Minimizer: [3.58e-02, 8.76e-02, -7.93e-02,  ...]\n",
       "    Minimum:   1.774885e-05\n",
       "\n",
       " * Found with\n",
       "    Algorithm:     ADAM\n",
       "    Initial Point: [3.22e-02, 8.54e-02, -7.86e-02,  ...]\n",
       "\n",
       " * Convergence measures\n",
       "    |x - x'|               = NaN ≰ 0.0e+00\n",
       "    |x - x'|/|x'|          = NaN ≰ 0.0e+00\n",
       "    |f(x) - f(x')|         = NaN ≰ 0.0e+00\n",
       "    |f(x) - f(x')|/|f(x')| = NaN ≰ 0.0e+00\n",
       "    |g(x)|                 = NaN ≰ 0.0e+00\n",
       "\n",
       " * Work counters\n",
       "    Seconds run:   54  (vs limit Inf)\n",
       "    Iterations:    300\n",
       "    f(x) calls:    300\n",
       "    ∇f(x) calls:   300\n"
      ]
     },
     "execution_count": 14,
     "metadata": {},
     "output_type": "execute_result"
    }
   ],
   "source": [
    "res = DiffEqFlux.sciml_train(loss_n_ode, n_ode.p, ADAM(), cb=cb, maxiters=300)"
   ]
  },
  {
   "cell_type": "code",
   "execution_count": 15,
   "metadata": {},
   "outputs": [
    {
     "data": {
      "text/plain": [
       "1.743225f-5"
      ]
     },
     "metadata": {},
     "output_type": "display_data"
    },
    {
     "data": {
      "text/plain": [
       "0.1495696f0"
      ]
     },
     "metadata": {},
     "output_type": "display_data"
    },
    {
     "data": {
      "text/plain": [
       "0.011170791f0"
      ]
     },
     "metadata": {},
     "output_type": "display_data"
    },
    {
     "name": "stderr",
     "output_type": "stream",
     "text": [
      "\r",
      "\u001b[32mloss: 0.0112:   2%|▋                                        |  ETA: 0:00:12\u001b[39m"
     ]
    },
    {
     "data": {
      "text/plain": [
       "0.025300313f0"
      ]
     },
     "metadata": {},
     "output_type": "display_data"
    },
    {
     "data": {
      "text/plain": [
       "0.0669302f0"
      ]
     },
     "metadata": {},
     "output_type": "display_data"
    },
    {
     "name": "stderr",
     "output_type": "stream",
     "text": [
      "\r",
      "\u001b[32mloss: 0.0669:   2%|█                                        |  ETA: 0:00:14\u001b[39m"
     ]
    },
    {
     "data": {
      "text/plain": [
       "0.056540336f0"
      ]
     },
     "metadata": {},
     "output_type": "display_data"
    },
    {
     "name": "stderr",
     "output_type": "stream",
     "text": [
      "\r",
      "\u001b[32mloss: 0.0565:   3%|█▎                                       |  ETA: 0:00:16\u001b[39m"
     ]
    },
    {
     "data": {
      "text/plain": [
       "0.025005262f0"
      ]
     },
     "metadata": {},
     "output_type": "display_data"
    },
    {
     "data": {
      "text/plain": [
       "0.0041673016f0"
      ]
     },
     "metadata": {},
     "output_type": "display_data"
    },
    {
     "name": "stderr",
     "output_type": "stream",
     "text": [
      "\r",
      "\u001b[32mloss: 0.00417:   4%|█▋                                       |  ETA: 0:00:16\u001b[39m"
     ]
    },
    {
     "data": {
      "text/plain": [
       "0.0025140212f0"
      ]
     },
     "metadata": {},
     "output_type": "display_data"
    },
    {
     "data": {
      "text/plain": [
       "0.012428589f0"
      ]
     },
     "metadata": {},
     "output_type": "display_data"
    },
    {
     "name": "stderr",
     "output_type": "stream",
     "text": [
      "\r",
      "\u001b[32mloss: 0.0124:   5%|██                                       |  ETA: 0:00:15\u001b[39m"
     ]
    },
    {
     "data": {
      "text/plain": [
       "0.021548772f0"
      ]
     },
     "metadata": {},
     "output_type": "display_data"
    },
    {
     "data": {
      "text/plain": [
       "0.022842744f0"
      ]
     },
     "metadata": {},
     "output_type": "display_data"
    },
    {
     "name": "stderr",
     "output_type": "stream",
     "text": [
      "\r",
      "\u001b[32mloss: 0.0228:   6%|██▌                                      |  ETA: 0:00:15\u001b[39m"
     ]
    },
    {
     "data": {
      "text/plain": [
       "0.01717141f0"
      ]
     },
     "metadata": {},
     "output_type": "display_data"
    },
    {
     "name": "stderr",
     "output_type": "stream",
     "text": [
      "\r",
      "\u001b[32mloss: 0.0172:   6%|██▋                                      |  ETA: 0:00:15\u001b[39m"
     ]
    },
    {
     "data": {
      "text/plain": [
       "0.009233354f0"
      ]
     },
     "metadata": {},
     "output_type": "display_data"
    },
    {
     "data": {
      "text/plain": [
       "0.0031164833f0"
      ]
     },
     "metadata": {},
     "output_type": "display_data"
    },
    {
     "name": "stderr",
     "output_type": "stream",
     "text": [
      "\r",
      "\u001b[32mloss: 0.00312:   8%|███▏                                     |  ETA: 0:00:15\u001b[39m"
     ]
    },
    {
     "data": {
      "text/plain": [
       "0.0005999231f0"
      ]
     },
     "metadata": {},
     "output_type": "display_data"
    },
    {
     "data": {
      "text/plain": [
       "0.0014673468f0"
      ]
     },
     "metadata": {},
     "output_type": "display_data"
    },
    {
     "name": "stderr",
     "output_type": "stream",
     "text": [
      "\r",
      "\u001b[32mloss: 0.00147:   8%|███▌                                     |  ETA: 0:00:14\u001b[39m"
     ]
    },
    {
     "data": {
      "text/plain": [
       "0.004233058f0"
      ]
     },
     "metadata": {},
     "output_type": "display_data"
    },
    {
     "data": {
      "text/plain": [
       "0.0069140657f0"
      ]
     },
     "metadata": {},
     "output_type": "display_data"
    },
    {
     "name": "stderr",
     "output_type": "stream",
     "text": [
      "\r",
      "\u001b[32mloss: 0.00691:  10%|███▉                                     |  ETA: 0:00:14\u001b[39m"
     ]
    },
    {
     "data": {
      "text/plain": [
       "0.007964925f0"
      ]
     },
     "metadata": {},
     "output_type": "display_data"
    },
    {
     "data": {
      "text/plain": [
       "0.0069901715f0"
      ]
     },
     "metadata": {},
     "output_type": "display_data"
    },
    {
     "name": "stderr",
     "output_type": "stream",
     "text": [
      "\r",
      "\u001b[32mloss: 0.00699:  10%|████▎                                    |  ETA: 0:00:14\u001b[39m"
     ]
    },
    {
     "data": {
      "text/plain": [
       "0.0047570784f0"
      ]
     },
     "metadata": {},
     "output_type": "display_data"
    },
    {
     "data": {
      "text/plain": [
       "0.0024495076f0"
      ]
     },
     "metadata": {},
     "output_type": "display_data"
    },
    {
     "name": "stderr",
     "output_type": "stream",
     "text": [
      "\r",
      "\u001b[32mloss: 0.00245:  12%|████▊                                    |  ETA: 0:00:14\u001b[39m"
     ]
    },
    {
     "data": {
      "text/plain": [
       "0.00086416263f0"
      ]
     },
     "metadata": {},
     "output_type": "display_data"
    },
    {
     "name": "stderr",
     "output_type": "stream",
     "text": [
      "\r",
      "\u001b[32mloss: 0.000864:  12%|████▉                                    |  ETA: 0:00:14\u001b[39m"
     ]
    },
    {
     "data": {
      "text/plain": [
       "0.00023407464f0"
      ]
     },
     "metadata": {},
     "output_type": "display_data"
    },
    {
     "data": {
      "text/plain": [
       "0.00047078377f0"
      ]
     },
     "metadata": {},
     "output_type": "display_data"
    },
    {
     "name": "stderr",
     "output_type": "stream",
     "text": [
      "\r",
      "\u001b[32mloss: 0.000471:  13%|█████▍                                   |  ETA: 0:00:13\u001b[39m"
     ]
    },
    {
     "data": {
      "text/plain": [
       "0.0012765558f0"
      ]
     },
     "metadata": {},
     "output_type": "display_data"
    },
    {
     "data": {
      "text/plain": [
       "0.002165842f0"
      ]
     },
     "metadata": {},
     "output_type": "display_data"
    },
    {
     "name": "stderr",
     "output_type": "stream",
     "text": [
      "\r",
      "\u001b[32mloss: 0.00217:  14%|█████▊                                   |  ETA: 0:00:13\u001b[39m"
     ]
    },
    {
     "data": {
      "text/plain": [
       "0.0026884945f0"
      ]
     },
     "metadata": {},
     "output_type": "display_data"
    },
    {
     "data": {
      "text/plain": [
       "0.0026680494f0"
      ]
     },
     "metadata": {},
     "output_type": "display_data"
    },
    {
     "name": "stderr",
     "output_type": "stream",
     "text": [
      "\r",
      "\u001b[32mloss: 0.00267:  15%|██████▏                                  |  ETA: 0:00:13\u001b[39m"
     ]
    },
    {
     "data": {
      "text/plain": [
       "0.0021830106f0"
      ]
     },
     "metadata": {},
     "output_type": "display_data"
    },
    {
     "data": {
      "text/plain": [
       "0.0014537672f0"
      ]
     },
     "metadata": {},
     "output_type": "display_data"
    },
    {
     "name": "stderr",
     "output_type": "stream",
     "text": [
      "\r",
      "\u001b[32mloss: 0.00145:  16%|██████▌                                  |  ETA: 0:00:13\u001b[39m"
     ]
    },
    {
     "data": {
      "text/plain": [
       "0.00074962614f0"
      ]
     },
     "metadata": {},
     "output_type": "display_data"
    },
    {
     "data": {
      "text/plain": [
       "0.00026901852f0"
      ]
     },
     "metadata": {},
     "output_type": "display_data"
    },
    {
     "name": "stderr",
     "output_type": "stream",
     "text": [
      "\r",
      "\u001b[32mloss: 0.000269:  17%|███████                                  |  ETA: 0:00:13\u001b[39m"
     ]
    },
    {
     "data": {
      "text/plain": [
       "9.0848174f-5"
      ]
     },
     "metadata": {},
     "output_type": "display_data"
    },
    {
     "data": {
      "text/plain": [
       "0.00019229017f0"
      ]
     },
     "metadata": {},
     "output_type": "display_data"
    },
    {
     "name": "stderr",
     "output_type": "stream",
     "text": [
      "\r",
      "\u001b[32mloss: 0.000192:  18%|███████▍                                 |  ETA: 0:00:13\u001b[39m"
     ]
    },
    {
     "data": {
      "text/plain": [
       "0.0004598879f0"
      ]
     },
     "metadata": {},
     "output_type": "display_data"
    },
    {
     "data": {
      "text/plain": [
       "0.00074384717f0"
      ]
     },
     "metadata": {},
     "output_type": "display_data"
    },
    {
     "name": "stderr",
     "output_type": "stream",
     "text": [
      "\r",
      "\u001b[32mloss: 0.000744:  19%|███████▊                                 |  ETA: 0:00:12\u001b[39m"
     ]
    },
    {
     "data": {
      "text/plain": [
       "0.00092624524f0"
      ]
     },
     "metadata": {},
     "output_type": "display_data"
    },
    {
     "data": {
      "text/plain": [
       "0.00094450585f0"
      ]
     },
     "metadata": {},
     "output_type": "display_data"
    },
    {
     "name": "stderr",
     "output_type": "stream",
     "text": [
      "\r",
      "\u001b[32mloss: 0.000945:  20%|████████▎                                |  ETA: 0:00:12\u001b[39m"
     ]
    },
    {
     "data": {
      "text/plain": [
       "0.0007920956f0"
      ]
     },
     "metadata": {},
     "output_type": "display_data"
    },
    {
     "data": {
      "text/plain": [
       "0.0005283804f0"
      ]
     },
     "metadata": {},
     "output_type": "display_data"
    },
    {
     "name": "stderr",
     "output_type": "stream",
     "text": [
      "\r",
      "\u001b[32mloss: 0.000528:  21%|████████▋                                |  ETA: 0:00:12\u001b[39m"
     ]
    },
    {
     "data": {
      "text/plain": [
       "0.00026734648f0"
      ]
     },
     "metadata": {},
     "output_type": "display_data"
    },
    {
     "data": {
      "text/plain": [
       "9.895258f-5"
      ]
     },
     "metadata": {},
     "output_type": "display_data"
    },
    {
     "name": "stderr",
     "output_type": "stream",
     "text": [
      "\r",
      "\u001b[32mloss: 9.9e-05:  22%|█████████                                |  ETA: 0:00:12\u001b[39m"
     ]
    },
    {
     "data": {
      "text/plain": [
       "3.95842f-5"
      ]
     },
     "metadata": {},
     "output_type": "display_data"
    },
    {
     "data": {
      "text/plain": [
       "7.121882f-5"
      ]
     },
     "metadata": {},
     "output_type": "display_data"
    },
    {
     "name": "stderr",
     "output_type": "stream",
     "text": [
      "\r",
      "\u001b[32mloss: 7.12e-05:  23%|█████████▍                               |  ETA: 0:00:11\u001b[39m"
     ]
    },
    {
     "data": {
      "text/plain": [
       "0.00016844507f0"
      ]
     },
     "metadata": {},
     "output_type": "display_data"
    },
    {
     "data": {
      "text/plain": [
       "0.00028045598f0"
      ]
     },
     "metadata": {},
     "output_type": "display_data"
    },
    {
     "name": "stderr",
     "output_type": "stream",
     "text": [
      "\r",
      "\u001b[32mloss: 0.00028:  24%|█████████▉                               |  ETA: 0:00:11\u001b[39m"
     ]
    },
    {
     "data": {
      "text/plain": [
       "0.0003456383f0"
      ]
     },
     "metadata": {},
     "output_type": "display_data"
    },
    {
     "data": {
      "text/plain": [
       "0.00033967613f0"
      ]
     },
     "metadata": {},
     "output_type": "display_data"
    },
    {
     "name": "stderr",
     "output_type": "stream",
     "text": [
      "\r",
      "\u001b[32mloss: 0.00034:  25%|██████████▎                              |  ETA: 0:00:11\u001b[39m"
     ]
    },
    {
     "data": {
      "text/plain": [
       "0.00027704274f0"
      ]
     },
     "metadata": {},
     "output_type": "display_data"
    },
    {
     "data": {
      "text/plain": [
       "0.00018542109f0"
      ]
     },
     "metadata": {},
     "output_type": "display_data"
    },
    {
     "name": "stderr",
     "output_type": "stream",
     "text": [
      "\r",
      "\u001b[32mloss: 0.000185:  26%|██████████▋                              |  ETA: 0:00:11\u001b[39m"
     ]
    },
    {
     "data": {
      "text/plain": [
       "9.6090116f-5"
      ]
     },
     "metadata": {},
     "output_type": "display_data"
    },
    {
     "data": {
      "text/plain": [
       "3.575681f-5"
      ]
     },
     "metadata": {},
     "output_type": "display_data"
    },
    {
     "name": "stderr",
     "output_type": "stream",
     "text": [
      "\r",
      "\u001b[32mloss: 3.58e-05:  27%|███████████▏                             |  ETA: 0:00:11\u001b[39m"
     ]
    },
    {
     "data": {
      "text/plain": [
       "1.8521656f-5"
      ]
     },
     "metadata": {},
     "output_type": "display_data"
    },
    {
     "data": {
      "text/plain": [
       "3.87157f-5"
      ]
     },
     "metadata": {},
     "output_type": "display_data"
    },
    {
     "name": "stderr",
     "output_type": "stream",
     "text": [
      "\r",
      "\u001b[32mloss: 3.87e-05:  28%|███████████▌                             |  ETA: 0:00:10\u001b[39m"
     ]
    },
    {
     "data": {
      "text/plain": [
       "7.748229f-5"
      ]
     },
     "metadata": {},
     "output_type": "display_data"
    },
    {
     "data": {
      "text/plain": [
       "0.0001147271f0"
      ]
     },
     "metadata": {},
     "output_type": "display_data"
    },
    {
     "name": "stderr",
     "output_type": "stream",
     "text": [
      "\r",
      "\u001b[32mloss: 0.000115:  29%|███████████▉                             |  ETA: 0:00:10\u001b[39m"
     ]
    },
    {
     "data": {
      "text/plain": [
       "0.00013310382f0"
      ]
     },
     "metadata": {},
     "output_type": "display_data"
    },
    {
     "data": {
      "text/plain": [
       "0.00012543633f0"
      ]
     },
     "metadata": {},
     "output_type": "display_data"
    },
    {
     "name": "stderr",
     "output_type": "stream",
     "text": [
      "\r",
      "\u001b[32mloss: 0.000125:  30%|████████████▎                            |  ETA: 0:00:10\u001b[39m"
     ]
    },
    {
     "data": {
      "text/plain": [
       "9.763672f-5"
      ]
     },
     "metadata": {},
     "output_type": "display_data"
    },
    {
     "data": {
      "text/plain": [
       "6.157998f-5"
      ]
     },
     "metadata": {},
     "output_type": "display_data"
    },
    {
     "name": "stderr",
     "output_type": "stream",
     "text": [
      "\r",
      "\u001b[32mloss: 6.16e-05:  31%|████████████▊                            |  ETA: 0:00:10\u001b[39m"
     ]
    },
    {
     "data": {
      "text/plain": [
       "2.9644376f-5"
      ]
     },
     "metadata": {},
     "output_type": "display_data"
    },
    {
     "data": {
      "text/plain": [
       "1.1891585f-5"
      ]
     },
     "metadata": {},
     "output_type": "display_data"
    },
    {
     "name": "stderr",
     "output_type": "stream",
     "text": [
      "\r",
      "\u001b[32mloss: 1.19e-05:  32%|█████████████▏                           |  ETA: 0:00:10\u001b[39m"
     ]
    },
    {
     "data": {
      "text/plain": [
       "1.2658829f-5"
      ]
     },
     "metadata": {},
     "output_type": "display_data"
    },
    {
     "data": {
      "text/plain": [
       "2.6734635f-5"
      ]
     },
     "metadata": {},
     "output_type": "display_data"
    },
    {
     "name": "stderr",
     "output_type": "stream",
     "text": [
      "\r",
      "\u001b[32mloss: 2.67e-05:  33%|█████████████▌                           |  ETA: 0:00:09\u001b[39m"
     ]
    },
    {
     "data": {
      "text/plain": [
       "4.2702424f-5"
      ]
     },
     "metadata": {},
     "output_type": "display_data"
    },
    {
     "data": {
      "text/plain": [
       "5.3324555f-5"
      ]
     },
     "metadata": {},
     "output_type": "display_data"
    },
    {
     "name": "stderr",
     "output_type": "stream",
     "text": [
      "\r",
      "\u001b[32mloss: 5.33e-05:  34%|██████████████                           |  ETA: 0:00:09\u001b[39m"
     ]
    },
    {
     "data": {
      "text/plain": [
       "5.4968634f-5"
      ]
     },
     "metadata": {},
     "output_type": "display_data"
    },
    {
     "data": {
      "text/plain": [
       "4.6468864f-5"
      ]
     },
     "metadata": {},
     "output_type": "display_data"
    },
    {
     "name": "stderr",
     "output_type": "stream",
     "text": [
      "\r",
      "\u001b[32mloss: 4.65e-05:  35%|██████████████▍                          |  ETA: 0:00:09\u001b[39m"
     ]
    },
    {
     "data": {
      "text/plain": [
       "3.1915246f-5"
      ]
     },
     "metadata": {},
     "output_type": "display_data"
    },
    {
     "data": {
      "text/plain": [
       "1.8503819f-5"
      ]
     },
     "metadata": {},
     "output_type": "display_data"
    },
    {
     "name": "stderr",
     "output_type": "stream",
     "text": [
      "\r",
      "\u001b[32mloss: 1.85e-05:  36%|██████████████▊                          |  ETA: 0:00:09\u001b[39m"
     ]
    },
    {
     "data": {
      "text/plain": [
       "1.0537293f-5"
      ]
     },
     "metadata": {},
     "output_type": "display_data"
    },
    {
     "data": {
      "text/plain": [
       "8.6939735f-6"
      ]
     },
     "metadata": {},
     "output_type": "display_data"
    },
    {
     "name": "stderr",
     "output_type": "stream",
     "text": [
      "\r",
      "\u001b[32mloss: 8.69e-06:  37%|███████████████▏                         |  ETA: 0:00:09\u001b[39m"
     ]
    },
    {
     "data": {
      "text/plain": [
       "1.280365f-5"
      ]
     },
     "metadata": {},
     "output_type": "display_data"
    },
    {
     "data": {
      "text/plain": [
       "1.961093f-5"
      ]
     },
     "metadata": {},
     "output_type": "display_data"
    },
    {
     "name": "stderr",
     "output_type": "stream",
     "text": [
      "\r",
      "\u001b[32mloss: 1.96e-05:  38%|███████████████▋                         |  ETA: 0:00:09\u001b[39m"
     ]
    },
    {
     "data": {
      "text/plain": [
       "2.454924f-5"
      ]
     },
     "metadata": {},
     "output_type": "display_data"
    },
    {
     "data": {
      "text/plain": [
       "2.5455049f-5"
      ]
     },
     "metadata": {},
     "output_type": "display_data"
    },
    {
     "name": "stderr",
     "output_type": "stream",
     "text": [
      "\r",
      "\u001b[32mloss: 2.55e-05:  39%|████████████████                         |  ETA: 0:00:08\u001b[39m"
     ]
    },
    {
     "data": {
      "text/plain": [
       "2.2555294f-5"
      ]
     },
     "metadata": {},
     "output_type": "display_data"
    },
    {
     "data": {
      "text/plain": [
       "1.7213135f-5"
      ]
     },
     "metadata": {},
     "output_type": "display_data"
    },
    {
     "name": "stderr",
     "output_type": "stream",
     "text": [
      "\r",
      "\u001b[32mloss: 1.72e-05:  40%|████████████████▍                        |  ETA: 0:00:08\u001b[39m"
     ]
    },
    {
     "data": {
      "text/plain": [
       "1.14257255f-5"
      ]
     },
     "metadata": {},
     "output_type": "display_data"
    },
    {
     "data": {
      "text/plain": [
       "7.707983f-6"
      ]
     },
     "metadata": {},
     "output_type": "display_data"
    },
    {
     "name": "stderr",
     "output_type": "stream",
     "text": [
      "\r",
      "\u001b[32mloss: 7.71e-06:  41%|████████████████▊                        |  ETA: 0:00:08\u001b[39m"
     ]
    },
    {
     "data": {
      "text/plain": [
       "7.1730706f-6"
      ]
     },
     "metadata": {},
     "output_type": "display_data"
    },
    {
     "data": {
      "text/plain": [
       "9.011285f-6"
      ]
     },
     "metadata": {},
     "output_type": "display_data"
    },
    {
     "name": "stderr",
     "output_type": "stream",
     "text": [
      "\r",
      "\u001b[32mloss: 9.01e-06:  42%|█████████████████▎                       |  ETA: 0:00:08\u001b[39m"
     ]
    },
    {
     "data": {
      "text/plain": [
       "1.176573f-5"
      ]
     },
     "metadata": {},
     "output_type": "display_data"
    },
    {
     "data": {
      "text/plain": [
       "1.3767845f-5"
      ]
     },
     "metadata": {},
     "output_type": "display_data"
    },
    {
     "name": "stderr",
     "output_type": "stream",
     "text": [
      "\r",
      "\u001b[32mloss: 1.38e-05:  43%|█████████████████▋                       |  ETA: 0:00:08\u001b[39m"
     ]
    },
    {
     "data": {
      "text/plain": [
       "1.38832265f-5"
      ]
     },
     "metadata": {},
     "output_type": "display_data"
    },
    {
     "data": {
      "text/plain": [
       "1.2303563f-5"
      ]
     },
     "metadata": {},
     "output_type": "display_data"
    },
    {
     "name": "stderr",
     "output_type": "stream",
     "text": [
      "\r",
      "\u001b[32mloss: 1.23e-05:  44%|██████████████████                       |  ETA: 0:00:08\u001b[39m"
     ]
    },
    {
     "data": {
      "text/plain": [
       "1.0006902f-5"
      ]
     },
     "metadata": {},
     "output_type": "display_data"
    },
    {
     "data": {
      "text/plain": [
       "7.755894f-6"
      ]
     },
     "metadata": {},
     "output_type": "display_data"
    },
    {
     "name": "stderr",
     "output_type": "stream",
     "text": [
      "\r",
      "\u001b[32mloss: 7.76e-06:  45%|██████████████████▌                      |  ETA: 0:00:08\u001b[39m"
     ]
    },
    {
     "data": {
      "text/plain": [
       "6.4670776f-6"
      ]
     },
     "metadata": {},
     "output_type": "display_data"
    },
    {
     "data": {
      "text/plain": [
       "6.570889f-6"
      ]
     },
     "metadata": {},
     "output_type": "display_data"
    },
    {
     "name": "stderr",
     "output_type": "stream",
     "text": [
      "\r",
      "\u001b[32mloss: 6.57e-06:  46%|██████████████████▉                      |  ETA: 0:00:07\u001b[39m"
     ]
    },
    {
     "data": {
      "text/plain": [
       "7.500929f-6"
      ]
     },
     "metadata": {},
     "output_type": "display_data"
    },
    {
     "data": {
      "text/plain": [
       "8.518998f-6"
      ]
     },
     "metadata": {},
     "output_type": "display_data"
    },
    {
     "name": "stderr",
     "output_type": "stream",
     "text": [
      "\r",
      "\u001b[32mloss: 8.52e-06:  47%|███████████████████▎                     |  ETA: 0:00:07\u001b[39m"
     ]
    },
    {
     "data": {
      "text/plain": [
       "9.094145f-6"
      ]
     },
     "metadata": {},
     "output_type": "display_data"
    },
    {
     "data": {
      "text/plain": [
       "8.941444f-6"
      ]
     },
     "metadata": {},
     "output_type": "display_data"
    },
    {
     "name": "stderr",
     "output_type": "stream",
     "text": [
      "\r",
      "\u001b[32mloss: 8.94e-06:  48%|███████████████████▋                     |  ETA: 0:00:07\u001b[39m"
     ]
    },
    {
     "data": {
      "text/plain": [
       "8.089143f-6"
      ]
     },
     "metadata": {},
     "output_type": "display_data"
    },
    {
     "data": {
      "text/plain": [
       "6.9929847f-6"
      ]
     },
     "metadata": {},
     "output_type": "display_data"
    },
    {
     "name": "stderr",
     "output_type": "stream",
     "text": [
      "\r",
      "\u001b[32mloss: 6.99e-06:  49%|████████████████████▏                    |  ETA: 0:00:07\u001b[39m"
     ]
    },
    {
     "data": {
      "text/plain": [
       "6.1926635f-6"
      ]
     },
     "metadata": {},
     "output_type": "display_data"
    },
    {
     "data": {
      "text/plain": [
       "5.8901373f-6"
      ]
     },
     "metadata": {},
     "output_type": "display_data"
    },
    {
     "name": "stderr",
     "output_type": "stream",
     "text": [
      "\r",
      "\u001b[32mloss: 5.89e-06:  50%|████████████████████▌                    |  ETA: 0:00:07\u001b[39m"
     ]
    },
    {
     "data": {
      "text/plain": [
       "6.0934562f-6"
      ]
     },
     "metadata": {},
     "output_type": "display_data"
    },
    {
     "data": {
      "text/plain": [
       "6.575064f-6"
      ]
     },
     "metadata": {},
     "output_type": "display_data"
    },
    {
     "name": "stderr",
     "output_type": "stream",
     "text": [
      "\r",
      "\u001b[32mloss: 6.58e-06:  51%|████████████████████▉                    |  ETA: 0:00:07\u001b[39m"
     ]
    },
    {
     "data": {
      "text/plain": [
       "6.926524f-6"
      ]
     },
     "metadata": {},
     "output_type": "display_data"
    },
    {
     "data": {
      "text/plain": [
       "6.965398f-6"
      ]
     },
     "metadata": {},
     "output_type": "display_data"
    },
    {
     "name": "stderr",
     "output_type": "stream",
     "text": [
      "\r",
      "\u001b[32mloss: 6.97e-06:  52%|█████████████████████▍                   |  ETA: 0:00:07\u001b[39m"
     ]
    },
    {
     "data": {
      "text/plain": [
       "6.685845f-6"
      ]
     },
     "metadata": {},
     "output_type": "display_data"
    },
    {
     "data": {
      "text/plain": [
       "6.2072672f-6"
      ]
     },
     "metadata": {},
     "output_type": "display_data"
    },
    {
     "name": "stderr",
     "output_type": "stream",
     "text": [
      "\r",
      "\u001b[32mloss: 6.21e-06:  53%|█████████████████████▊                   |  ETA: 0:00:06\u001b[39m"
     ]
    },
    {
     "data": {
      "text/plain": [
       "5.7779575f-6"
      ]
     },
     "metadata": {},
     "output_type": "display_data"
    },
    {
     "data": {
      "text/plain": [
       "5.5661467f-6"
      ]
     },
     "metadata": {},
     "output_type": "display_data"
    },
    {
     "name": "stderr",
     "output_type": "stream",
     "text": [
      "\r",
      "\u001b[32mloss: 5.57e-06:  54%|██████████████████████▏                  |  ETA: 0:00:06\u001b[39m"
     ]
    },
    {
     "data": {
      "text/plain": [
       "5.573524f-6"
      ]
     },
     "metadata": {},
     "output_type": "display_data"
    },
    {
     "data": {
      "text/plain": [
       "5.7150464f-6"
      ]
     },
     "metadata": {},
     "output_type": "display_data"
    },
    {
     "name": "stderr",
     "output_type": "stream",
     "text": [
      "\r",
      "\u001b[32mloss: 5.72e-06:  55%|██████████████████████▌                  |  ETA: 0:00:06\u001b[39m"
     ]
    },
    {
     "data": {
      "text/plain": [
       "5.8915416f-6"
      ]
     },
     "metadata": {},
     "output_type": "display_data"
    },
    {
     "data": {
      "text/plain": [
       "5.9398176f-6"
      ]
     },
     "metadata": {},
     "output_type": "display_data"
    },
    {
     "name": "stderr",
     "output_type": "stream",
     "text": [
      "\r",
      "\u001b[32mloss: 5.94e-06:  56%|███████████████████████                  |  ETA: 0:00:06\u001b[39m"
     ]
    },
    {
     "data": {
      "text/plain": [
       "5.820751f-6"
      ]
     },
     "metadata": {},
     "output_type": "display_data"
    },
    {
     "data": {
      "text/plain": [
       "5.6201147f-6"
      ]
     },
     "metadata": {},
     "output_type": "display_data"
    },
    {
     "name": "stderr",
     "output_type": "stream",
     "text": [
      "\r",
      "\u001b[32mloss: 5.62e-06:  57%|███████████████████████▍                 |  ETA: 0:00:06\u001b[39m"
     ]
    },
    {
     "data": {
      "text/plain": [
       "5.402424f-6"
      ]
     },
     "metadata": {},
     "output_type": "display_data"
    },
    {
     "data": {
      "text/plain": [
       "5.257996f-6"
      ]
     },
     "metadata": {},
     "output_type": "display_data"
    },
    {
     "name": "stderr",
     "output_type": "stream",
     "text": [
      "\r",
      "\u001b[32mloss: 5.26e-06:  58%|███████████████████████▊                 |  ETA: 0:00:06\u001b[39m"
     ]
    },
    {
     "data": {
      "text/plain": [
       "5.2336977f-6"
      ]
     },
     "metadata": {},
     "output_type": "display_data"
    },
    {
     "data": {
      "text/plain": [
       "5.2836326f-6"
      ]
     },
     "metadata": {},
     "output_type": "display_data"
    },
    {
     "name": "stderr",
     "output_type": "stream",
     "text": [
      "\r",
      "\u001b[32mloss: 5.28e-06:  59%|████████████████████████▎                |  ETA: 0:00:06\u001b[39m"
     ]
    },
    {
     "data": {
      "text/plain": [
       "5.342832f-6"
      ]
     },
     "metadata": {},
     "output_type": "display_data"
    },
    {
     "data": {
      "text/plain": [
       "5.3557233f-6"
      ]
     },
     "metadata": {},
     "output_type": "display_data"
    },
    {
     "name": "stderr",
     "output_type": "stream",
     "text": [
      "\r",
      "\u001b[32mloss: 5.36e-06:  60%|████████████████████████▋                |  ETA: 0:00:05\u001b[39m"
     ]
    },
    {
     "data": {
      "text/plain": [
       "5.2948885f-6"
      ]
     },
     "metadata": {},
     "output_type": "display_data"
    },
    {
     "data": {
      "text/plain": [
       "5.186655f-6"
      ]
     },
     "metadata": {},
     "output_type": "display_data"
    },
    {
     "name": "stderr",
     "output_type": "stream",
     "text": [
      "\r",
      "\u001b[32mloss: 5.19e-06:  61%|█████████████████████████                |  ETA: 0:00:05\u001b[39m"
     ]
    },
    {
     "data": {
      "text/plain": [
       "5.076495f-6"
      ]
     },
     "metadata": {},
     "output_type": "display_data"
    },
    {
     "data": {
      "text/plain": [
       "4.998569f-6"
      ]
     },
     "metadata": {},
     "output_type": "display_data"
    },
    {
     "name": "stderr",
     "output_type": "stream",
     "text": [
      "\r",
      "\u001b[32mloss: 5e-06:  62%|█████████████████████████▍               |  ETA: 0:00:05\u001b[39m"
     ]
    },
    {
     "data": {
      "text/plain": [
       "4.970958f-6"
      ]
     },
     "metadata": {},
     "output_type": "display_data"
    },
    {
     "data": {
      "text/plain": [
       "4.9776804f-6"
      ]
     },
     "metadata": {},
     "output_type": "display_data"
    },
    {
     "name": "stderr",
     "output_type": "stream",
     "text": [
      "\r",
      "\u001b[32mloss: 4.98e-06:  63%|█████████████████████████▉               |  ETA: 0:00:05\u001b[39m"
     ]
    },
    {
     "data": {
      "text/plain": [
       "4.987351f-6"
      ]
     },
     "metadata": {},
     "output_type": "display_data"
    },
    {
     "data": {
      "text/plain": [
       "4.977593f-6"
      ]
     },
     "metadata": {},
     "output_type": "display_data"
    },
    {
     "name": "stderr",
     "output_type": "stream",
     "text": [
      "\r",
      "\u001b[32mloss: 4.98e-06:  64%|██████████████████████████▎              |  ETA: 0:00:05\u001b[39m"
     ]
    },
    {
     "data": {
      "text/plain": [
       "4.9371333f-6"
      ]
     },
     "metadata": {},
     "output_type": "display_data"
    },
    {
     "data": {
      "text/plain": [
       "4.873416f-6"
      ]
     },
     "metadata": {},
     "output_type": "display_data"
    },
    {
     "name": "stderr",
     "output_type": "stream",
     "text": [
      "\r",
      "\u001b[32mloss: 4.87e-06:  65%|██████████████████████████▋              |  ETA: 0:00:05\u001b[39m"
     ]
    },
    {
     "data": {
      "text/plain": [
       "4.8085035f-6"
      ]
     },
     "metadata": {},
     "output_type": "display_data"
    },
    {
     "data": {
      "text/plain": [
       "4.76323f-6"
      ]
     },
     "metadata": {},
     "output_type": "display_data"
    },
    {
     "name": "stderr",
     "output_type": "stream",
     "text": [
      "\r",
      "\u001b[32mloss: 4.76e-06:  66%|███████████████████████████              |  ETA: 0:00:05\u001b[39m"
     ]
    },
    {
     "data": {
      "text/plain": [
       "4.7389312f-6"
      ]
     },
     "metadata": {},
     "output_type": "display_data"
    },
    {
     "data": {
      "text/plain": [
       "4.729664f-6"
      ]
     },
     "metadata": {},
     "output_type": "display_data"
    },
    {
     "name": "stderr",
     "output_type": "stream",
     "text": [
      "\r",
      "\u001b[32mloss: 4.73e-06:  67%|███████████████████████████▌             |  ETA: 0:00:04\u001b[39m"
     ]
    },
    {
     "data": {
      "text/plain": [
       "4.721462f-6"
      ]
     },
     "metadata": {},
     "output_type": "display_data"
    },
    {
     "data": {
      "text/plain": [
       "4.7006743f-6"
      ]
     },
     "metadata": {},
     "output_type": "display_data"
    },
    {
     "name": "stderr",
     "output_type": "stream",
     "text": [
      "\r",
      "\u001b[32mloss: 4.7e-06:  68%|███████████████████████████▉             |  ETA: 0:00:04\u001b[39m"
     ]
    },
    {
     "data": {
      "text/plain": [
       "4.6660452f-6"
      ]
     },
     "metadata": {},
     "output_type": "display_data"
    },
    {
     "data": {
      "text/plain": [
       "4.6235064f-6"
      ]
     },
     "metadata": {},
     "output_type": "display_data"
    },
    {
     "name": "stderr",
     "output_type": "stream",
     "text": [
      "\r",
      "\u001b[32mloss: 4.62e-06:  69%|████████████████████████████▎            |  ETA: 0:00:04\u001b[39m"
     ]
    },
    {
     "data": {
      "text/plain": [
       "4.5833813f-6"
      ]
     },
     "metadata": {},
     "output_type": "display_data"
    },
    {
     "data": {
      "text/plain": [
       "4.5528504f-6"
      ]
     },
     "metadata": {},
     "output_type": "display_data"
    },
    {
     "name": "stderr",
     "output_type": "stream",
     "text": [
      "\r",
      "\u001b[32mloss: 4.55e-06:  70%|████████████████████████████▊            |  ETA: 0:00:04\u001b[39m"
     ]
    },
    {
     "data": {
      "text/plain": [
       "4.531501f-6"
      ]
     },
     "metadata": {},
     "output_type": "display_data"
    },
    {
     "data": {
      "text/plain": [
       "4.5155953f-6"
      ]
     },
     "metadata": {},
     "output_type": "display_data"
    },
    {
     "name": "stderr",
     "output_type": "stream",
     "text": [
      "\r",
      "\u001b[32mloss: 4.52e-06:  71%|█████████████████████████████▏           |  ETA: 0:00:04\u001b[39m"
     ]
    },
    {
     "data": {
      "text/plain": [
       "4.498791f-6"
      ]
     },
     "metadata": {},
     "output_type": "display_data"
    },
    {
     "data": {
      "text/plain": [
       "4.47544f-6"
      ]
     },
     "metadata": {},
     "output_type": "display_data"
    },
    {
     "name": "stderr",
     "output_type": "stream",
     "text": [
      "\r",
      "\u001b[32mloss: 4.48e-06:  72%|█████████████████████████████▌           |  ETA: 0:00:04\u001b[39m"
     ]
    },
    {
     "data": {
      "text/plain": [
       "4.4464327f-6"
      ]
     },
     "metadata": {},
     "output_type": "display_data"
    },
    {
     "data": {
      "text/plain": [
       "4.415485f-6"
      ]
     },
     "metadata": {},
     "output_type": "display_data"
    },
    {
     "name": "stderr",
     "output_type": "stream",
     "text": [
      "\r",
      "\u001b[32mloss: 4.42e-06:  73%|█████████████████████████████▉           |  ETA: 0:00:04\u001b[39m"
     ]
    },
    {
     "data": {
      "text/plain": [
       "4.386591f-6"
      ]
     },
     "metadata": {},
     "output_type": "display_data"
    },
    {
     "data": {
      "text/plain": [
       "4.362841f-6"
      ]
     },
     "metadata": {},
     "output_type": "display_data"
    },
    {
     "name": "stderr",
     "output_type": "stream",
     "text": [
      "\r",
      "\u001b[32mloss: 4.36e-06:  74%|██████████████████████████████▍          |  ETA: 0:00:03\u001b[39m"
     ]
    },
    {
     "data": {
      "text/plain": [
       "4.3436353f-6"
      ]
     },
     "metadata": {},
     "output_type": "display_data"
    },
    {
     "data": {
      "text/plain": [
       "4.3256296f-6"
      ]
     },
     "metadata": {},
     "output_type": "display_data"
    },
    {
     "name": "stderr",
     "output_type": "stream",
     "text": [
      "\r",
      "\u001b[32mloss: 4.33e-06:  75%|██████████████████████████████▊          |  ETA: 0:00:03\u001b[39m"
     ]
    },
    {
     "data": {
      "text/plain": [
       "4.305893f-6"
      ]
     },
     "metadata": {},
     "output_type": "display_data"
    },
    {
     "data": {
      "text/plain": [
       "4.2831784f-6"
      ]
     },
     "metadata": {},
     "output_type": "display_data"
    },
    {
     "name": "stderr",
     "output_type": "stream",
     "text": [
      "\r",
      "\u001b[32mloss: 4.28e-06:  76%|███████████████████████████████▏         |  ETA: 0:00:03\u001b[39m"
     ]
    },
    {
     "data": {
      "text/plain": [
       "4.2586967f-6"
      ]
     },
     "metadata": {},
     "output_type": "display_data"
    },
    {
     "data": {
      "text/plain": [
       "4.234182f-6"
      ]
     },
     "metadata": {},
     "output_type": "display_data"
    },
    {
     "name": "stderr",
     "output_type": "stream",
     "text": [
      "\r",
      "\u001b[32mloss: 4.23e-06:  77%|███████████████████████████████▋         |  ETA: 0:00:03\u001b[39m"
     ]
    },
    {
     "data": {
      "text/plain": [
       "4.2117244f-6"
      ]
     },
     "metadata": {},
     "output_type": "display_data"
    },
    {
     "data": {
      "text/plain": [
       "4.1918606f-6"
      ]
     },
     "metadata": {},
     "output_type": "display_data"
    },
    {
     "name": "stderr",
     "output_type": "stream",
     "text": [
      "\r",
      "\u001b[32mloss: 4.19e-06:  78%|████████████████████████████████         |  ETA: 0:00:03\u001b[39m"
     ]
    },
    {
     "data": {
      "text/plain": [
       "4.173424f-6"
      ]
     },
     "metadata": {},
     "output_type": "display_data"
    },
    {
     "data": {
      "text/plain": [
       "4.1548906f-6"
      ]
     },
     "metadata": {},
     "output_type": "display_data"
    },
    {
     "name": "stderr",
     "output_type": "stream",
     "text": [
      "\r",
      "\u001b[32mloss: 4.15e-06:  79%|████████████████████████████████▍        |  ETA: 0:00:03\u001b[39m"
     ]
    },
    {
     "data": {
      "text/plain": [
       "4.1354865f-6"
      ]
     },
     "metadata": {},
     "output_type": "display_data"
    },
    {
     "data": {
      "text/plain": [
       "4.1149256f-6"
      ]
     },
     "metadata": {},
     "output_type": "display_data"
    },
    {
     "name": "stderr",
     "output_type": "stream",
     "text": [
      "\r",
      "\u001b[32mloss: 4.11e-06:  80%|████████████████████████████████▊        |  ETA: 0:00:03\u001b[39m"
     ]
    },
    {
     "data": {
      "text/plain": [
       "4.093877f-6"
      ]
     },
     "metadata": {},
     "output_type": "display_data"
    },
    {
     "data": {
      "text/plain": [
       "4.0737177f-6"
      ]
     },
     "metadata": {},
     "output_type": "display_data"
    },
    {
     "name": "stderr",
     "output_type": "stream",
     "text": [
      "\r",
      "\u001b[32mloss: 4.07e-06:  81%|█████████████████████████████████▎       |  ETA: 0:00:03\u001b[39m"
     ]
    },
    {
     "data": {
      "text/plain": [
       "4.0548175f-6"
      ]
     },
     "metadata": {},
     "output_type": "display_data"
    },
    {
     "data": {
      "text/plain": [
       "4.0370105f-6"
      ]
     },
     "metadata": {},
     "output_type": "display_data"
    },
    {
     "name": "stderr",
     "output_type": "stream",
     "text": [
      "\r",
      "\u001b[32mloss: 4.04e-06:  82%|█████████████████████████████████▋       |  ETA: 0:00:02\u001b[39m"
     ]
    },
    {
     "data": {
      "text/plain": [
       "4.0196155f-6"
      ]
     },
     "metadata": {},
     "output_type": "display_data"
    },
    {
     "data": {
      "text/plain": [
       "4.0020104f-6"
      ]
     },
     "metadata": {},
     "output_type": "display_data"
    },
    {
     "name": "stderr",
     "output_type": "stream",
     "text": [
      "\r",
      "\u001b[32mloss: 4e-06:  83%|██████████████████████████████████       |  ETA: 0:00:02\u001b[39m"
     ]
    },
    {
     "data": {
      "text/plain": [
       "3.9838997f-6"
      ]
     },
     "metadata": {},
     "output_type": "display_data"
    },
    {
     "data": {
      "text/plain": [
       "3.9655733f-6"
      ]
     },
     "metadata": {},
     "output_type": "display_data"
    },
    {
     "name": "stderr",
     "output_type": "stream",
     "text": [
      "\r",
      "\u001b[32mloss: 3.97e-06:  84%|██████████████████████████████████▌      |  ETA: 0:00:02\u001b[39m"
     ]
    },
    {
     "data": {
      "text/plain": [
       "3.947587f-6"
      ]
     },
     "metadata": {},
     "output_type": "display_data"
    },
    {
     "data": {
      "text/plain": [
       "3.9302654f-6"
      ]
     },
     "metadata": {},
     "output_type": "display_data"
    },
    {
     "name": "stderr",
     "output_type": "stream",
     "text": [
      "\r",
      "\u001b[32mloss: 3.93e-06:  85%|██████████████████████████████████▉      |  ETA: 0:00:02\u001b[39m"
     ]
    },
    {
     "data": {
      "text/plain": [
       "3.9136044f-6"
      ]
     },
     "metadata": {},
     "output_type": "display_data"
    },
    {
     "data": {
      "text/plain": [
       "3.897386f-6"
      ]
     },
     "metadata": {},
     "output_type": "display_data"
    },
    {
     "name": "stderr",
     "output_type": "stream",
     "text": [
      "\r",
      "\u001b[32mloss: 3.9e-06:  86%|███████████████████████████████████▎     |  ETA: 0:00:02\u001b[39m"
     ]
    },
    {
     "data": {
      "text/plain": [
       "3.8812736f-6"
      ]
     },
     "metadata": {},
     "output_type": "display_data"
    },
    {
     "data": {
      "text/plain": [
       "3.8650383f-6"
      ]
     },
     "metadata": {},
     "output_type": "display_data"
    },
    {
     "name": "stderr",
     "output_type": "stream",
     "text": [
      "\r",
      "\u001b[32mloss: 3.87e-06:  87%|███████████████████████████████████▋     |  ETA: 0:00:02\u001b[39m"
     ]
    },
    {
     "data": {
      "text/plain": [
       "3.8487365f-6"
      ]
     },
     "metadata": {},
     "output_type": "display_data"
    },
    {
     "data": {
      "text/plain": [
       "3.832633f-6"
      ]
     },
     "metadata": {},
     "output_type": "display_data"
    },
    {
     "name": "stderr",
     "output_type": "stream",
     "text": [
      "\r",
      "\u001b[32mloss: 3.83e-06:  88%|████████████████████████████████████▏    |  ETA: 0:00:02\u001b[39m"
     ]
    },
    {
     "data": {
      "text/plain": [
       "3.816921f-6"
      ]
     },
     "metadata": {},
     "output_type": "display_data"
    },
    {
     "data": {
      "text/plain": [
       "3.8016433f-6"
      ]
     },
     "metadata": {},
     "output_type": "display_data"
    },
    {
     "name": "stderr",
     "output_type": "stream",
     "text": [
      "\r",
      "\u001b[32mloss: 3.8e-06:  89%|████████████████████████████████████▌    |  ETA: 0:00:01\u001b[39m"
     ]
    },
    {
     "data": {
      "text/plain": [
       "3.786749f-6"
      ]
     },
     "metadata": {},
     "output_type": "display_data"
    },
    {
     "data": {
      "text/plain": [
       "3.7720351f-6"
      ]
     },
     "metadata": {},
     "output_type": "display_data"
    },
    {
     "name": "stderr",
     "output_type": "stream",
     "text": [
      "\r",
      "\u001b[32mloss: 3.77e-06:  90%|████████████████████████████████████▉    |  ETA: 0:00:01\u001b[39m"
     ]
    },
    {
     "data": {
      "text/plain": [
       "3.7573184f-6"
      ]
     },
     "metadata": {},
     "output_type": "display_data"
    },
    {
     "data": {
      "text/plain": [
       "3.7426505f-6"
      ]
     },
     "metadata": {},
     "output_type": "display_data"
    },
    {
     "name": "stderr",
     "output_type": "stream",
     "text": [
      "\r",
      "\u001b[32mloss: 3.74e-06:  91%|█████████████████████████████████████▎   |  ETA: 0:00:01\u001b[39m"
     ]
    },
    {
     "data": {
      "text/plain": [
       "3.7281984f-6"
      ]
     },
     "metadata": {},
     "output_type": "display_data"
    },
    {
     "data": {
      "text/plain": [
       "3.714048f-6"
      ]
     },
     "metadata": {},
     "output_type": "display_data"
    },
    {
     "name": "stderr",
     "output_type": "stream",
     "text": [
      "\r",
      "\u001b[32mloss: 3.71e-06:  92%|█████████████████████████████████████▊   |  ETA: 0:00:01\u001b[39m"
     ]
    },
    {
     "data": {
      "text/plain": [
       "3.7001823f-6"
      ]
     },
     "metadata": {},
     "output_type": "display_data"
    },
    {
     "data": {
      "text/plain": [
       "3.6866038f-6"
      ]
     },
     "metadata": {},
     "output_type": "display_data"
    },
    {
     "name": "stderr",
     "output_type": "stream",
     "text": [
      "\r",
      "\u001b[32mloss: 3.69e-06:  93%|██████████████████████████████████████▏  |  ETA: 0:00:01\u001b[39m"
     ]
    },
    {
     "data": {
      "text/plain": [
       "3.6731922f-6"
      ]
     },
     "metadata": {},
     "output_type": "display_data"
    },
    {
     "data": {
      "text/plain": [
       "3.6598337f-6"
      ]
     },
     "metadata": {},
     "output_type": "display_data"
    },
    {
     "name": "stderr",
     "output_type": "stream",
     "text": [
      "\r",
      "\u001b[32mloss: 3.66e-06:  94%|██████████████████████████████████████▌  |  ETA: 0:00:01\u001b[39m"
     ]
    },
    {
     "data": {
      "text/plain": [
       "3.64667f-6"
      ]
     },
     "metadata": {},
     "output_type": "display_data"
    },
    {
     "data": {
      "text/plain": [
       "3.633639f-6"
      ]
     },
     "metadata": {},
     "output_type": "display_data"
    },
    {
     "name": "stderr",
     "output_type": "stream",
     "text": [
      "\r",
      "\u001b[32mloss: 3.63e-06:  95%|███████████████████████████████████████  |  ETA: 0:00:01\u001b[39m"
     ]
    },
    {
     "data": {
      "text/plain": [
       "3.620867f-6"
      ]
     },
     "metadata": {},
     "output_type": "display_data"
    },
    {
     "data": {
      "text/plain": [
       "3.6083034f-6"
      ]
     },
     "metadata": {},
     "output_type": "display_data"
    },
    {
     "name": "stderr",
     "output_type": "stream",
     "text": [
      "\r",
      "\u001b[32mloss: 3.61e-06:  96%|███████████████████████████████████████▍ |  ETA: 0:00:01\u001b[39m"
     ]
    },
    {
     "data": {
      "text/plain": [
       "3.595965f-6"
      ]
     },
     "metadata": {},
     "output_type": "display_data"
    },
    {
     "data": {
      "text/plain": [
       "3.583839f-6"
      ]
     },
     "metadata": {},
     "output_type": "display_data"
    },
    {
     "name": "stderr",
     "output_type": "stream",
     "text": [
      "\r",
      "\u001b[32mloss: 3.58e-06:  97%|███████████████████████████████████████▊ |  ETA: 0:00:00\u001b[39m"
     ]
    },
    {
     "data": {
      "text/plain": [
       "3.5718217f-6"
      ]
     },
     "metadata": {},
     "output_type": "display_data"
    },
    {
     "data": {
      "text/plain": [
       "3.5599328f-6"
      ]
     },
     "metadata": {},
     "output_type": "display_data"
    },
    {
     "name": "stderr",
     "output_type": "stream",
     "text": [
      "\r",
      "\u001b[32mloss: 3.56e-06:  98%|████████████████████████████████████████▏|  ETA: 0:00:00\u001b[39m"
     ]
    },
    {
     "data": {
      "text/plain": [
       "3.5482099f-6"
      ]
     },
     "metadata": {},
     "output_type": "display_data"
    },
    {
     "data": {
      "text/plain": [
       "3.5367439f-6"
      ]
     },
     "metadata": {},
     "output_type": "display_data"
    },
    {
     "name": "stderr",
     "output_type": "stream",
     "text": [
      "\r",
      "\u001b[32mloss: 3.54e-06:  99%|████████████████████████████████████████▋|  ETA: 0:00:00\u001b[39m"
     ]
    },
    {
     "data": {
      "text/plain": [
       "3.5254277f-6"
      ]
     },
     "metadata": {},
     "output_type": "display_data"
    },
    {
     "data": {
      "text/plain": [
       "3.5143412f-6"
      ]
     },
     "metadata": {},
     "output_type": "display_data"
    },
    {
     "name": "stderr",
     "output_type": "stream",
     "text": [
      "\r",
      "\u001b[32mloss: 3.51e-06: 100%|█████████████████████████████████████████| Time: 0:00:13\u001b[39m\n"
     ]
    },
    {
     "data": {
      "text/plain": [
       "3.5143412f-6"
      ]
     },
     "metadata": {},
     "output_type": "display_data"
    },
    {
     "data": {
      "text/plain": [
       " * Status: success\n",
       "\n",
       " * Candidate solution\n",
       "    Minimizer: [3.78e-02, 9.07e-02, -7.63e-02,  ...]\n",
       "    Minimum:   3.514341e-06\n",
       "\n",
       " * Found with\n",
       "    Algorithm:     ADAM\n",
       "    Initial Point: [3.58e-02, 8.76e-02, -7.93e-02,  ...]\n",
       "\n",
       " * Convergence measures\n",
       "    |x - x'|               = NaN ≰ 0.0e+00\n",
       "    |x - x'|/|x'|          = NaN ≰ 0.0e+00\n",
       "    |f(x) - f(x')|         = NaN ≰ 0.0e+00\n",
       "    |f(x) - f(x')|/|f(x')| = NaN ≰ 0.0e+00\n",
       "    |g(x)|                 = NaN ≰ 0.0e+00\n",
       "\n",
       " * Work counters\n",
       "    Seconds run:   13  (vs limit Inf)\n",
       "    Iterations:    200\n",
       "    f(x) calls:    200\n",
       "    ∇f(x) calls:   200\n"
      ]
     },
     "execution_count": 15,
     "metadata": {},
     "output_type": "execute_result"
    }
   ],
   "source": [
    "res = DiffEqFlux.sciml_train(loss_n_ode, res.minimizer, ADAM(), cb=cb, maxiters=200)"
   ]
  },
  {
   "cell_type": "code",
   "execution_count": 16,
   "metadata": {},
   "outputs": [
    {
     "data": {
      "image/svg+xml": [
       "<?xml version=\"1.0\" encoding=\"utf-8\"?>\n",
       "<svg xmlns=\"http://www.w3.org/2000/svg\" xmlns:xlink=\"http://www.w3.org/1999/xlink\" width=\"600\" height=\"400\" viewBox=\"0 0 2400 1600\">\n",
       "<defs>\n",
       "  <clipPath id=\"clip880\">\n",
       "    <rect x=\"0\" y=\"0\" width=\"2400\" height=\"1600\"/>\n",
       "  </clipPath>\n",
       "</defs>\n",
       "<path clip-path=\"url(#clip880)\" d=\"\n",
       "M0 1600 L2400 1600 L2400 0 L0 0  Z\n",
       "  \" fill=\"#ffffff\" fill-rule=\"evenodd\" fill-opacity=\"1\"/>\n",
       "<defs>\n",
       "  <clipPath id=\"clip881\">\n",
       "    <rect x=\"480\" y=\"0\" width=\"1681\" height=\"1600\"/>\n",
       "  </clipPath>\n",
       "</defs>\n",
       "<path clip-path=\"url(#clip880)\" d=\"\n",
       "M238.616 1423.18 L2352.76 1423.18 L2352.76 47.2441 L238.616 47.2441  Z\n",
       "  \" fill=\"#ffffff\" fill-rule=\"evenodd\" fill-opacity=\"1\"/>\n",
       "<defs>\n",
       "  <clipPath id=\"clip882\">\n",
       "    <rect x=\"238\" y=\"47\" width=\"2115\" height=\"1377\"/>\n",
       "  </clipPath>\n",
       "</defs>\n",
       "<polyline clip-path=\"url(#clip882)\" style=\"stroke:#000000; stroke-width:2; stroke-opacity:0.1; fill:none\" points=\"\n",
       "  484.376,1423.18 484.376,47.2441 \n",
       "  \"/>\n",
       "<polyline clip-path=\"url(#clip882)\" style=\"stroke:#000000; stroke-width:2; stroke-opacity:0.1; fill:none\" points=\"\n",
       "  890.031,1423.18 890.031,47.2441 \n",
       "  \"/>\n",
       "<polyline clip-path=\"url(#clip882)\" style=\"stroke:#000000; stroke-width:2; stroke-opacity:0.1; fill:none\" points=\"\n",
       "  1295.69,1423.18 1295.69,47.2441 \n",
       "  \"/>\n",
       "<polyline clip-path=\"url(#clip882)\" style=\"stroke:#000000; stroke-width:2; stroke-opacity:0.1; fill:none\" points=\"\n",
       "  1701.34,1423.18 1701.34,47.2441 \n",
       "  \"/>\n",
       "<polyline clip-path=\"url(#clip882)\" style=\"stroke:#000000; stroke-width:2; stroke-opacity:0.1; fill:none\" points=\"\n",
       "  2107,1423.18 2107,47.2441 \n",
       "  \"/>\n",
       "<polyline clip-path=\"url(#clip882)\" style=\"stroke:#000000; stroke-width:2; stroke-opacity:0.1; fill:none\" points=\"\n",
       "  238.616,1383.83 2352.76,1383.83 \n",
       "  \"/>\n",
       "<polyline clip-path=\"url(#clip882)\" style=\"stroke:#000000; stroke-width:2; stroke-opacity:0.1; fill:none\" points=\"\n",
       "  238.616,1024.21 2352.76,1024.21 \n",
       "  \"/>\n",
       "<polyline clip-path=\"url(#clip882)\" style=\"stroke:#000000; stroke-width:2; stroke-opacity:0.1; fill:none\" points=\"\n",
       "  238.616,664.594 2352.76,664.594 \n",
       "  \"/>\n",
       "<polyline clip-path=\"url(#clip882)\" style=\"stroke:#000000; stroke-width:2; stroke-opacity:0.1; fill:none\" points=\"\n",
       "  238.616,304.978 2352.76,304.978 \n",
       "  \"/>\n",
       "<polyline clip-path=\"url(#clip880)\" style=\"stroke:#000000; stroke-width:4; stroke-opacity:1; fill:none\" points=\"\n",
       "  238.616,1423.18 2352.76,1423.18 \n",
       "  \"/>\n",
       "<polyline clip-path=\"url(#clip880)\" style=\"stroke:#000000; stroke-width:4; stroke-opacity:1; fill:none\" points=\"\n",
       "  238.616,1423.18 238.616,47.2441 \n",
       "  \"/>\n",
       "<polyline clip-path=\"url(#clip880)\" style=\"stroke:#000000; stroke-width:4; stroke-opacity:1; fill:none\" points=\"\n",
       "  484.376,1423.18 484.376,1406.67 \n",
       "  \"/>\n",
       "<polyline clip-path=\"url(#clip880)\" style=\"stroke:#000000; stroke-width:4; stroke-opacity:1; fill:none\" points=\"\n",
       "  890.031,1423.18 890.031,1406.67 \n",
       "  \"/>\n",
       "<polyline clip-path=\"url(#clip880)\" style=\"stroke:#000000; stroke-width:4; stroke-opacity:1; fill:none\" points=\"\n",
       "  1295.69,1423.18 1295.69,1406.67 \n",
       "  \"/>\n",
       "<polyline clip-path=\"url(#clip880)\" style=\"stroke:#000000; stroke-width:4; stroke-opacity:1; fill:none\" points=\"\n",
       "  1701.34,1423.18 1701.34,1406.67 \n",
       "  \"/>\n",
       "<polyline clip-path=\"url(#clip880)\" style=\"stroke:#000000; stroke-width:4; stroke-opacity:1; fill:none\" points=\"\n",
       "  2107,1423.18 2107,1406.67 \n",
       "  \"/>\n",
       "<polyline clip-path=\"url(#clip880)\" style=\"stroke:#000000; stroke-width:4; stroke-opacity:1; fill:none\" points=\"\n",
       "  238.616,1383.83 263.986,1383.83 \n",
       "  \"/>\n",
       "<polyline clip-path=\"url(#clip880)\" style=\"stroke:#000000; stroke-width:4; stroke-opacity:1; fill:none\" points=\"\n",
       "  238.616,1024.21 263.986,1024.21 \n",
       "  \"/>\n",
       "<polyline clip-path=\"url(#clip880)\" style=\"stroke:#000000; stroke-width:4; stroke-opacity:1; fill:none\" points=\"\n",
       "  238.616,664.594 263.986,664.594 \n",
       "  \"/>\n",
       "<polyline clip-path=\"url(#clip880)\" style=\"stroke:#000000; stroke-width:4; stroke-opacity:1; fill:none\" points=\"\n",
       "  238.616,304.978 263.986,304.978 \n",
       "  \"/>\n",
       "<path clip-path=\"url(#clip880)\" d=\"M 0 0 M464.387 1461.77 L476.864 1461.77 L476.864 1465.56 L464.387 1465.56 L464.387 1461.77 Z\" fill=\"#000000\" fill-rule=\"evenodd\" fill-opacity=\"1\" /><path clip-path=\"url(#clip880)\" d=\"M 0 0 M494.781 1446.17 L482.975 1464.61 L494.781 1464.61 L494.781 1446.17 M493.554 1442.09 L499.433 1442.09 L499.433 1464.61 L504.364 1464.61 L504.364 1468.5 L499.433 1468.5 L499.433 1476.65 L494.781 1476.65 L494.781 1468.5 L479.179 1468.5 L479.179 1463.99 L493.554 1442.09 Z\" fill=\"#000000\" fill-rule=\"evenodd\" fill-opacity=\"1\" /><path clip-path=\"url(#clip880)\" d=\"M 0 0 M871.084 1461.77 L883.561 1461.77 L883.561 1465.56 L871.084 1465.56 L871.084 1461.77 Z\" fill=\"#000000\" fill-rule=\"evenodd\" fill-opacity=\"1\" /><path clip-path=\"url(#clip880)\" d=\"M 0 0 M892.658 1472.72 L908.977 1472.72 L908.977 1476.65 L887.033 1476.65 L887.033 1472.72 Q889.695 1469.96 894.278 1465.33 Q898.885 1460.68 900.065 1459.34 Q902.311 1456.81 903.19 1455.08 Q904.093 1453.32 904.093 1451.63 Q904.093 1448.87 902.149 1447.14 Q900.228 1445.4 897.126 1445.4 Q894.927 1445.4 892.473 1446.17 Q890.042 1446.93 887.265 1448.48 L887.265 1443.76 Q890.089 1442.62 892.542 1442.05 Q894.996 1441.47 897.033 1441.47 Q902.403 1441.47 905.598 1444.15 Q908.792 1446.84 908.792 1451.33 Q908.792 1453.46 907.982 1455.38 Q907.195 1457.28 905.089 1459.87 Q904.51 1460.54 901.408 1463.76 Q898.306 1466.95 892.658 1472.72 Z\" fill=\"#000000\" fill-rule=\"evenodd\" fill-opacity=\"1\" /><path clip-path=\"url(#clip880)\" d=\"M 0 0 M1295.69 1445.17 Q1292.07 1445.17 1290.25 1448.74 Q1288.44 1452.28 1288.44 1459.41 Q1288.44 1466.51 1290.25 1470.08 Q1292.07 1473.62 1295.69 1473.62 Q1299.32 1473.62 1301.13 1470.08 Q1302.95 1466.51 1302.95 1459.41 Q1302.95 1452.28 1301.13 1448.74 Q1299.32 1445.17 1295.69 1445.17 M1295.69 1441.47 Q1301.5 1441.47 1304.55 1446.07 Q1307.63 1450.66 1307.63 1459.41 Q1307.63 1468.13 1304.55 1472.74 Q1301.5 1477.32 1295.69 1477.32 Q1289.88 1477.32 1286.8 1472.74 Q1283.74 1468.13 1283.74 1459.41 Q1283.74 1450.66 1286.8 1446.07 Q1289.88 1441.47 1295.69 1441.47 Z\" fill=\"#000000\" fill-rule=\"evenodd\" fill-opacity=\"1\" /><path clip-path=\"url(#clip880)\" d=\"M 0 0 M1695.99 1472.72 L1712.31 1472.72 L1712.31 1476.65 L1690.37 1476.65 L1690.37 1472.72 Q1693.03 1469.96 1697.61 1465.33 Q1702.22 1460.68 1703.4 1459.34 Q1705.65 1456.81 1706.53 1455.08 Q1707.43 1453.32 1707.43 1451.63 Q1707.43 1448.87 1705.48 1447.14 Q1703.56 1445.4 1700.46 1445.4 Q1698.26 1445.4 1695.81 1446.17 Q1693.38 1446.93 1690.6 1448.48 L1690.6 1443.76 Q1693.42 1442.62 1695.88 1442.05 Q1698.33 1441.47 1700.37 1441.47 Q1705.74 1441.47 1708.93 1444.15 Q1712.13 1446.84 1712.13 1451.33 Q1712.13 1453.46 1711.32 1455.38 Q1710.53 1457.28 1708.42 1459.87 Q1707.85 1460.54 1704.74 1463.76 Q1701.64 1466.95 1695.99 1472.72 Z\" fill=\"#000000\" fill-rule=\"evenodd\" fill-opacity=\"1\" /><path clip-path=\"url(#clip880)\" d=\"M 0 0 M2110.01 1446.17 L2098.2 1464.61 L2110.01 1464.61 L2110.01 1446.17 M2108.78 1442.09 L2114.66 1442.09 L2114.66 1464.61 L2119.59 1464.61 L2119.59 1468.5 L2114.66 1468.5 L2114.66 1476.65 L2110.01 1476.65 L2110.01 1468.5 L2094.4 1468.5 L2094.4 1463.99 L2108.78 1442.09 Z\" fill=\"#000000\" fill-rule=\"evenodd\" fill-opacity=\"1\" /><path clip-path=\"url(#clip880)\" d=\"M 0 0 M138.691 1369.62 Q135.08 1369.62 133.251 1373.19 Q131.445 1376.73 131.445 1383.86 Q131.445 1390.97 133.251 1394.53 Q135.08 1398.07 138.691 1398.07 Q142.325 1398.07 144.13 1394.53 Q145.959 1390.97 145.959 1383.86 Q145.959 1376.73 144.13 1373.19 Q142.325 1369.62 138.691 1369.62 M138.691 1365.92 Q144.501 1365.92 147.556 1370.53 Q150.635 1375.11 150.635 1383.86 Q150.635 1392.59 147.556 1397.19 Q144.501 1401.78 138.691 1401.78 Q132.88 1401.78 129.802 1397.19 Q126.746 1392.59 126.746 1383.86 Q126.746 1375.11 129.802 1370.53 Q132.88 1365.92 138.691 1365.92 Z\" fill=\"#000000\" fill-rule=\"evenodd\" fill-opacity=\"1\" /><path clip-path=\"url(#clip880)\" d=\"M 0 0 M155.704 1395.23 L160.589 1395.23 L160.589 1401.11 L155.704 1401.11 L155.704 1395.23 Z\" fill=\"#000000\" fill-rule=\"evenodd\" fill-opacity=\"1\" /><path clip-path=\"url(#clip880)\" d=\"M 0 0 M175.658 1369.62 Q172.047 1369.62 170.218 1373.19 Q168.413 1376.73 168.413 1383.86 Q168.413 1390.97 170.218 1394.53 Q172.047 1398.07 175.658 1398.07 Q179.292 1398.07 181.098 1394.53 Q182.927 1390.97 182.927 1383.86 Q182.927 1376.73 181.098 1373.19 Q179.292 1369.62 175.658 1369.62 M175.658 1365.92 Q181.468 1365.92 184.524 1370.53 Q187.602 1375.11 187.602 1383.86 Q187.602 1392.59 184.524 1397.19 Q181.468 1401.78 175.658 1401.78 Q169.848 1401.78 166.769 1397.19 Q163.714 1392.59 163.714 1383.86 Q163.714 1375.11 166.769 1370.53 Q169.848 1365.92 175.658 1365.92 Z\" fill=\"#000000\" fill-rule=\"evenodd\" fill-opacity=\"1\" /><path clip-path=\"url(#clip880)\" d=\"M 0 0 M202.672 1369.62 Q199.061 1369.62 197.232 1373.19 Q195.426 1376.73 195.426 1383.86 Q195.426 1390.97 197.232 1394.53 Q199.061 1398.07 202.672 1398.07 Q206.306 1398.07 208.112 1394.53 Q209.94 1390.97 209.94 1383.86 Q209.94 1376.73 208.112 1373.19 Q206.306 1369.62 202.672 1369.62 M202.672 1365.92 Q208.482 1365.92 211.537 1370.53 Q214.616 1375.11 214.616 1383.86 Q214.616 1392.59 211.537 1397.19 Q208.482 1401.78 202.672 1401.78 Q196.862 1401.78 193.783 1397.19 Q190.727 1392.59 190.727 1383.86 Q190.727 1375.11 193.783 1370.53 Q196.862 1365.92 202.672 1365.92 Z\" fill=\"#000000\" fill-rule=\"evenodd\" fill-opacity=\"1\" /><path clip-path=\"url(#clip880)\" d=\"M 0 0 M140.288 1010.01 Q136.677 1010.01 134.848 1013.57 Q133.043 1017.12 133.043 1024.24 Q133.043 1031.35 134.848 1034.92 Q136.677 1038.46 140.288 1038.46 Q143.922 1038.46 145.728 1034.92 Q147.556 1031.35 147.556 1024.24 Q147.556 1017.12 145.728 1013.57 Q143.922 1010.01 140.288 1010.01 M140.288 1006.3 Q146.098 1006.3 149.154 1010.91 Q152.232 1015.49 152.232 1024.24 Q152.232 1032.97 149.154 1037.58 Q146.098 1042.16 140.288 1042.16 Q134.478 1042.16 131.399 1037.58 Q128.343 1032.97 128.343 1024.24 Q128.343 1015.49 131.399 1010.91 Q134.478 1006.3 140.288 1006.3 Z\" fill=\"#000000\" fill-rule=\"evenodd\" fill-opacity=\"1\" /><path clip-path=\"url(#clip880)\" d=\"M 0 0 M157.302 1035.61 L162.186 1035.61 L162.186 1041.49 L157.302 1041.49 L157.302 1035.61 Z\" fill=\"#000000\" fill-rule=\"evenodd\" fill-opacity=\"1\" /><path clip-path=\"url(#clip880)\" d=\"M 0 0 M177.255 1010.01 Q173.644 1010.01 171.815 1013.57 Q170.01 1017.12 170.01 1024.24 Q170.01 1031.35 171.815 1034.92 Q173.644 1038.46 177.255 1038.46 Q180.889 1038.46 182.695 1034.92 Q184.524 1031.35 184.524 1024.24 Q184.524 1017.12 182.695 1013.57 Q180.889 1010.01 177.255 1010.01 M177.255 1006.3 Q183.065 1006.3 186.121 1010.91 Q189.2 1015.49 189.2 1024.24 Q189.2 1032.97 186.121 1037.58 Q183.065 1042.16 177.255 1042.16 Q171.445 1042.16 168.366 1037.58 Q165.311 1032.97 165.311 1024.24 Q165.311 1015.49 168.366 1010.91 Q171.445 1006.3 177.255 1006.3 Z\" fill=\"#000000\" fill-rule=\"evenodd\" fill-opacity=\"1\" /><path clip-path=\"url(#clip880)\" d=\"M 0 0 M198.297 1037.55 L214.616 1037.55 L214.616 1041.49 L192.672 1041.49 L192.672 1037.55 Q195.334 1034.8 199.917 1030.17 Q204.524 1025.52 205.704 1024.18 Q207.95 1021.65 208.829 1019.92 Q209.732 1018.16 209.732 1016.47 Q209.732 1013.71 207.787 1011.98 Q205.866 1010.24 202.764 1010.24 Q200.565 1010.24 198.112 1011 Q195.681 1011.77 192.903 1013.32 L192.903 1008.6 Q195.727 1007.46 198.181 1006.88 Q200.635 1006.3 202.672 1006.3 Q208.042 1006.3 211.237 1008.99 Q214.431 1011.68 214.431 1016.17 Q214.431 1018.3 213.621 1020.22 Q212.834 1022.12 210.727 1024.71 Q210.149 1025.38 207.047 1028.6 Q203.945 1031.79 198.297 1037.55 Z\" fill=\"#000000\" fill-rule=\"evenodd\" fill-opacity=\"1\" /><path clip-path=\"url(#clip880)\" d=\"M 0 0 M138.205 650.393 Q134.593 650.393 132.765 653.957 Q130.959 657.499 130.959 664.629 Q130.959 671.735 132.765 675.3 Q134.593 678.842 138.205 678.842 Q141.839 678.842 143.644 675.3 Q145.473 671.735 145.473 664.629 Q145.473 657.499 143.644 653.957 Q141.839 650.393 138.205 650.393 M138.205 646.689 Q144.015 646.689 147.07 651.295 Q150.149 655.879 150.149 664.629 Q150.149 673.356 147.07 677.962 Q144.015 682.545 138.205 682.545 Q132.394 682.545 129.316 677.962 Q126.26 673.356 126.26 664.629 Q126.26 655.879 129.316 651.295 Q132.394 646.689 138.205 646.689 Z\" fill=\"#000000\" fill-rule=\"evenodd\" fill-opacity=\"1\" /><path clip-path=\"url(#clip880)\" d=\"M 0 0 M155.218 675.994 L160.103 675.994 L160.103 681.874 L155.218 681.874 L155.218 675.994 Z\" fill=\"#000000\" fill-rule=\"evenodd\" fill-opacity=\"1\" /><path clip-path=\"url(#clip880)\" d=\"M 0 0 M175.172 650.393 Q171.561 650.393 169.732 653.957 Q167.927 657.499 167.927 664.629 Q167.927 671.735 169.732 675.3 Q171.561 678.842 175.172 678.842 Q178.806 678.842 180.612 675.3 Q182.44 671.735 182.44 664.629 Q182.44 657.499 180.612 653.957 Q178.806 650.393 175.172 650.393 M175.172 646.689 Q180.982 646.689 184.038 651.295 Q187.116 655.879 187.116 664.629 Q187.116 673.356 184.038 677.962 Q180.982 682.545 175.172 682.545 Q169.362 682.545 166.283 677.962 Q163.228 673.356 163.228 664.629 Q163.228 655.879 166.283 651.295 Q169.362 646.689 175.172 646.689 Z\" fill=\"#000000\" fill-rule=\"evenodd\" fill-opacity=\"1\" /><path clip-path=\"url(#clip880)\" d=\"M 0 0 M205.033 651.388 L193.227 669.837 L205.033 669.837 L205.033 651.388 M203.806 647.314 L209.686 647.314 L209.686 669.837 L214.616 669.837 L214.616 673.726 L209.686 673.726 L209.686 681.874 L205.033 681.874 L205.033 673.726 L189.431 673.726 L189.431 669.212 L203.806 647.314 Z\" fill=\"#000000\" fill-rule=\"evenodd\" fill-opacity=\"1\" /><path clip-path=\"url(#clip880)\" d=\"M 0 0 M138.529 290.777 Q134.918 290.777 133.089 294.342 Q131.283 297.883 131.283 305.013 Q131.283 312.119 133.089 315.684 Q134.918 319.226 138.529 319.226 Q142.163 319.226 143.968 315.684 Q145.797 312.119 145.797 305.013 Q145.797 297.883 143.968 294.342 Q142.163 290.777 138.529 290.777 M138.529 287.073 Q144.339 287.073 147.394 291.679 Q150.473 296.263 150.473 305.013 Q150.473 313.74 147.394 318.346 Q144.339 322.929 138.529 322.929 Q132.718 322.929 129.64 318.346 Q126.584 313.74 126.584 305.013 Q126.584 296.263 129.64 291.679 Q132.718 287.073 138.529 287.073 Z\" fill=\"#000000\" fill-rule=\"evenodd\" fill-opacity=\"1\" /><path clip-path=\"url(#clip880)\" d=\"M 0 0 M155.542 316.378 L160.427 316.378 L160.427 322.258 L155.542 322.258 L155.542 316.378 Z\" fill=\"#000000\" fill-rule=\"evenodd\" fill-opacity=\"1\" /><path clip-path=\"url(#clip880)\" d=\"M 0 0 M175.496 290.777 Q171.885 290.777 170.056 294.342 Q168.251 297.883 168.251 305.013 Q168.251 312.119 170.056 315.684 Q171.885 319.226 175.496 319.226 Q179.13 319.226 180.936 315.684 Q182.764 312.119 182.764 305.013 Q182.764 297.883 180.936 294.342 Q179.13 290.777 175.496 290.777 M175.496 287.073 Q181.306 287.073 184.362 291.679 Q187.44 296.263 187.44 305.013 Q187.44 313.74 184.362 318.346 Q181.306 322.929 175.496 322.929 Q169.686 322.929 166.607 318.346 Q163.552 313.74 163.552 305.013 Q163.552 296.263 166.607 291.679 Q169.686 287.073 175.496 287.073 Z\" fill=\"#000000\" fill-rule=\"evenodd\" fill-opacity=\"1\" /><path clip-path=\"url(#clip880)\" d=\"M 0 0 M203.088 303.115 Q199.94 303.115 198.088 305.267 Q196.26 307.42 196.26 311.17 Q196.26 314.897 198.088 317.073 Q199.94 319.226 203.088 319.226 Q206.237 319.226 208.065 317.073 Q209.917 314.897 209.917 311.17 Q209.917 307.42 208.065 305.267 Q206.237 303.115 203.088 303.115 M212.371 288.462 L212.371 292.721 Q210.612 291.888 208.806 291.448 Q207.024 291.008 205.264 291.008 Q200.635 291.008 198.181 294.133 Q195.751 297.258 195.403 303.578 Q196.769 301.564 198.829 300.499 Q200.889 299.411 203.366 299.411 Q208.575 299.411 211.584 302.582 Q214.616 305.73 214.616 311.17 Q214.616 316.494 211.468 319.712 Q208.32 322.929 203.088 322.929 Q197.093 322.929 193.922 318.346 Q190.751 313.74 190.751 305.013 Q190.751 296.818 194.639 291.957 Q198.528 287.073 205.079 287.073 Q206.838 287.073 208.621 287.42 Q210.426 287.767 212.371 288.462 Z\" fill=\"#000000\" fill-rule=\"evenodd\" fill-opacity=\"1\" /><path clip-path=\"url(#clip880)\" d=\"M 0 0 M1277.51 1508.52 L1284.42 1508.52 L1296.23 1526.19 L1308.1 1508.52 L1315.01 1508.52 L1299.73 1531.34 L1316.02 1556.04 L1309.12 1556.04 L1295.75 1535.83 L1282.29 1556.04 L1275.35 1556.04 L1292.31 1530.68 L1277.51 1508.52 Z\" fill=\"#000000\" fill-rule=\"evenodd\" fill-opacity=\"1\" /><path clip-path=\"url(#clip880)\" d=\"M 0 0 M45.7677 784.148 L63.6235 784.148 L63.6235 776.064 Q63.6235 771.576 61.3 769.125 Q58.9765 766.674 54.6797 766.674 Q50.4147 766.674 48.0912 769.125 Q45.7677 771.576 45.7677 776.064 L45.7677 784.148 M40.4842 790.578 L40.4842 776.064 Q40.4842 768.075 44.1126 764.001 Q47.7092 759.895 54.6797 759.895 Q61.7138 759.895 65.3104 764.001 Q68.907 768.075 68.907 776.064 L68.907 784.148 L88.0042 784.148 L88.0042 790.578 L40.4842 790.578 Z\" fill=\"#000000\" fill-rule=\"evenodd\" fill-opacity=\"1\" /><path clip-path=\"url(#clip880)\" d=\"M 0 0 M45.7677 747.068 L82.7206 747.068 L82.7206 739.302 Q82.7206 729.467 78.2646 724.915 Q73.8086 720.332 64.1964 720.332 Q54.6479 720.332 50.2237 724.915 Q45.7677 729.467 45.7677 739.302 L45.7677 747.068 M40.4842 753.497 L40.4842 740.289 Q40.4842 726.475 46.2451 720.014 Q51.9743 713.553 64.1964 713.553 Q76.4822 713.553 82.2432 720.046 Q88.0042 726.539 88.0042 740.289 L88.0042 753.497 L40.4842 753.497 Z\" fill=\"#000000\" fill-rule=\"evenodd\" fill-opacity=\"1\" /><path clip-path=\"url(#clip880)\" d=\"M 0 0 M40.4842 707.155 L40.4842 679.846 L45.895 679.846 L45.895 700.726 L59.8996 700.726 L59.8996 681.883 L65.3104 681.883 L65.3104 700.726 L88.0042 700.726 L88.0042 707.155 L40.4842 707.155 Z\" fill=\"#000000\" fill-rule=\"evenodd\" fill-opacity=\"1\" /><polyline clip-path=\"url(#clip882)\" style=\"stroke:#000000; stroke-width:4; stroke-opacity:1; fill:none\" points=\"\n",
       "  298.45,1383.83 332.255,1383.83 366.06,1383.82 399.864,1383.82 433.669,1383.81 467.473,1383.77 501.278,1383.66 535.083,1383.41 568.887,1382.81 602.692,1381.48 \n",
       "  636.496,1378.71 670.301,1373.26 704.106,1363.18 737.91,1345.65 771.715,1317.07 805.519,1273.39 839.324,1210.99 873.129,1127.96 906.933,1025.45 940.738,908.897 \n",
       "  974.542,788.187 1008.35,676.566 1042.15,588.107 1075.96,534.291 1109.76,520.682 1143.57,544.819 1177.37,596.18 1211.17,658.405 1244.98,713.242 1278.78,745.121 \n",
       "  1312.59,745.121 1346.39,713.242 1380.2,658.405 1414,596.18 1447.81,544.819 1481.61,520.682 1515.42,534.291 1549.22,588.107 1583.03,676.566 1616.83,788.187 \n",
       "  1650.63,908.897 1684.44,1025.45 1718.24,1127.96 1752.05,1210.99 1785.85,1273.39 1819.66,1317.07 1853.46,1345.65 1887.27,1363.18 1921.07,1373.26 1954.88,1378.71 \n",
       "  1988.68,1381.48 2022.48,1382.81 2056.29,1383.41 2090.09,1383.66 2123.9,1383.77 2157.7,1383.81 2191.51,1383.82 2225.31,1383.82 2259.12,1383.83 2292.92,1383.83 \n",
       "  \n",
       "  \"/>\n",
       "<polyline clip-path=\"url(#clip882)\" style=\"stroke:#000000; stroke-width:4; stroke-opacity:1; fill:none\" points=\"\n",
       "  298.45,1383.81 332.255,1383.81 366.06,1383.81 399.864,1383.81 433.669,1383.8 467.473,1383.76 501.278,1383.67 535.083,1383.43 568.887,1382.89 602.692,1381.71 \n",
       "  636.496,1379.3 670.301,1374.7 704.106,1366.44 737.91,1352.42 771.715,1330.03 805.519,1296.23 839.324,1248.09 873.129,1183.4 906.933,1101.57 940.738,1004.51 \n",
       "  974.542,897.169 1008.35,787.446 1042.15,685.139 1075.96,599.986 1109.76,539.233 1143.57,505.523 1177.37,495.926 1211.17,502.66 1244.98,515.427 1278.78,524.669 \n",
       "  1312.59,524.669 1346.39,515.427 1380.2,502.66 1414,495.926 1447.81,505.523 1481.61,539.233 1515.42,599.986 1549.22,685.139 1583.03,787.446 1616.83,897.169 \n",
       "  1650.63,1004.51 1684.44,1101.57 1718.24,1183.4 1752.05,1248.09 1785.85,1296.23 1819.66,1330.03 1853.46,1352.42 1887.27,1366.44 1921.07,1374.7 1954.88,1379.3 \n",
       "  1988.68,1381.71 2022.48,1382.89 2056.29,1383.43 2090.09,1383.67 2123.9,1383.76 2157.7,1383.8 2191.51,1383.81 2225.31,1383.81 2259.12,1383.81 2292.92,1383.81 \n",
       "  \n",
       "  \"/>\n",
       "<polyline clip-path=\"url(#clip882)\" style=\"stroke:#000000; stroke-width:4; stroke-opacity:1; fill:none\" points=\"\n",
       "  298.45,1383.8 332.255,1383.8 366.06,1383.8 399.864,1383.8 433.669,1383.79 467.473,1383.76 501.278,1383.67 535.083,1383.46 568.887,1382.96 602.692,1381.92 \n",
       "  636.496,1379.84 670.301,1375.96 704.106,1369.11 737.91,1357.66 771.715,1339.52 805.519,1312.2 839.324,1273.02 873.129,1219.57 906.933,1150.27 940.738,1065.07 \n",
       "  974.542,966.169 1008.35,858.255 1042.15,748.261 1075.96,644.294 1109.76,553.976 1143.57,482.656 1177.37,432.164 1211.17,400.682 1244.98,383.892 1278.78,377.029 \n",
       "  1312.59,377.029 1346.39,383.892 1380.2,400.682 1414,432.164 1447.81,482.656 1481.61,553.976 1515.42,644.294 1549.22,748.261 1583.03,858.255 1616.83,966.169 \n",
       "  1650.63,1065.07 1684.44,1150.27 1718.24,1219.57 1752.05,1273.02 1785.85,1312.2 1819.66,1339.52 1853.46,1357.66 1887.27,1369.11 1921.07,1375.96 1954.88,1379.84 \n",
       "  1988.68,1381.92 2022.48,1382.96 2056.29,1383.46 2090.09,1383.67 2123.9,1383.76 2157.7,1383.79 2191.51,1383.8 2225.31,1383.8 2259.12,1383.8 2292.92,1383.8 \n",
       "  \n",
       "  \"/>\n",
       "<polyline clip-path=\"url(#clip882)\" style=\"stroke:#000000; stroke-width:4; stroke-opacity:1; fill:none\" points=\"\n",
       "  298.45,1383.79 332.255,1383.8 366.06,1383.8 399.864,1383.8 433.669,1383.79 467.473,1383.76 501.278,1383.68 535.083,1383.47 568.887,1383.03 602.692,1382.1 \n",
       "  636.496,1380.29 670.301,1376.95 704.106,1371.13 737.91,1361.48 771.715,1346.19 805.519,1323.06 839.324,1289.55 873.129,1243.12 906.933,1181.62 940.738,1103.9 \n",
       "  974.542,1010.52 1008.35,904.176 1042.15,789.868 1075.96,674.381 1109.76,565.225 1143.57,469.212 1177.37,391.2 1211.17,333.485 1244.98,296.103 1278.78,277.916 \n",
       "  1312.59,277.916 1346.39,296.103 1380.2,333.485 1414,391.201 1447.81,469.212 1481.61,565.225 1515.42,674.381 1549.22,789.868 1583.03,904.176 1616.83,1010.52 \n",
       "  1650.63,1103.9 1684.44,1181.62 1718.24,1243.12 1752.05,1289.55 1785.85,1323.06 1819.66,1346.19 1853.46,1361.48 1887.27,1371.13 1921.07,1376.95 1954.88,1380.29 \n",
       "  1988.68,1382.1 2022.48,1383.03 2056.29,1383.47 2090.09,1383.68 2123.9,1383.76 2157.7,1383.79 2191.51,1383.8 2225.31,1383.8 2259.12,1383.8 2292.92,1383.79 \n",
       "  \n",
       "  \"/>\n",
       "<polyline clip-path=\"url(#clip882)\" style=\"stroke:#000000; stroke-width:4; stroke-opacity:1; fill:none\" points=\"\n",
       "  298.45,1383.79 332.255,1383.79 366.06,1383.79 399.864,1383.8 433.669,1383.79 467.473,1383.76 501.278,1383.68 535.083,1383.49 568.887,1383.08 602.692,1382.24 \n",
       "  636.496,1380.63 670.301,1377.7 704.106,1372.61 737.91,1364.17 771.715,1350.77 805.519,1330.36 839.324,1300.47 873.129,1258.49 906.933,1201.93 940.738,1129.03 \n",
       "  974.542,1039.31 1008.35,934.23 1042.15,817.465 1075.96,694.812 1109.76,573.52 1143.57,461.208 1177.37,364.676 1211.17,289.031 1244.98,237.417 1278.78,211.351 \n",
       "  1312.59,211.351 1346.39,237.417 1380.2,289.03 1414,364.676 1447.81,461.208 1481.61,573.52 1515.42,694.811 1549.22,817.465 1583.03,934.23 1616.83,1039.31 \n",
       "  1650.63,1129.03 1684.44,1201.93 1718.24,1258.49 1752.05,1300.47 1785.85,1330.36 1819.66,1350.77 1853.46,1364.17 1887.27,1372.61 1921.07,1377.7 1954.88,1380.63 \n",
       "  1988.68,1382.24 2022.48,1383.08 2056.29,1383.49 2090.09,1383.68 2123.9,1383.76 2157.7,1383.79 2191.51,1383.8 2225.31,1383.79 2259.12,1383.79 2292.92,1383.79 \n",
       "  \n",
       "  \"/>\n",
       "<polyline clip-path=\"url(#clip882)\" style=\"stroke:#000000; stroke-width:4; stroke-opacity:1; fill:none\" points=\"\n",
       "  298.45,1383.79 332.255,1383.79 366.06,1383.79 399.864,1383.79 433.669,1383.79 467.473,1383.76 501.278,1383.68 535.083,1383.5 568.887,1383.12 602.692,1382.35 \n",
       "  636.496,1380.89 670.301,1378.25 704.106,1373.66 737.91,1366.05 771.715,1353.9 805.519,1335.24 839.324,1307.69 873.129,1268.55 906.933,1215.18 940.738,1145.39 \n",
       "  974.542,1058.12 1008.35,953.996 1042.15,835.809 1075.96,708.64 1109.76,579.475 1143.57,456.376 1177.37,347.395 1211.17,259.553 1244.98,198.171 1278.78,166.667 \n",
       "  1312.59,166.667 1346.39,198.171 1380.2,259.553 1414,347.395 1447.81,456.376 1481.61,579.475 1515.42,708.64 1549.22,835.809 1583.03,953.996 1616.83,1058.12 \n",
       "  1650.63,1145.39 1684.44,1215.18 1718.24,1268.55 1752.05,1307.69 1785.85,1335.24 1819.66,1353.9 1853.46,1366.05 1887.27,1373.66 1921.07,1378.25 1954.88,1380.89 \n",
       "  1988.68,1382.35 2022.48,1383.12 2056.29,1383.5 2090.09,1383.68 2123.9,1383.76 2157.7,1383.79 2191.51,1383.79 2225.31,1383.79 2259.12,1383.79 2292.92,1383.79 \n",
       "  \n",
       "  \"/>\n",
       "<polyline clip-path=\"url(#clip882)\" style=\"stroke:#000000; stroke-width:4; stroke-opacity:1; fill:none\" points=\"\n",
       "  298.45,1383.79 332.255,1383.79 366.06,1383.79 399.864,1383.79 433.669,1383.79 467.473,1383.76 501.278,1383.68 535.083,1383.51 568.887,1383.15 602.692,1382.44 \n",
       "  636.496,1381.09 670.301,1378.65 704.106,1374.41 737.91,1367.35 771.715,1356.03 805.519,1338.52 839.324,1312.47 873.129,1275.18 906.933,1223.87 940.738,1156.12 \n",
       "  974.542,1070.48 1008.35,967.04 1042.15,848.01 1075.96,717.961 1109.76,583.657 1143.57,453.407 1177.37,336.072 1211.17,239.963 1244.98,171.914 1278.78,136.682 \n",
       "  1312.59,136.682 1346.39,171.914 1380.2,239.963 1414,336.071 1447.81,453.407 1481.61,583.657 1515.42,717.961 1549.22,848.01 1583.03,967.04 1616.83,1070.48 \n",
       "  1650.63,1156.12 1684.44,1223.87 1718.24,1275.18 1752.05,1312.47 1785.85,1338.52 1819.66,1356.03 1853.46,1367.35 1887.27,1374.41 1921.07,1378.65 1954.88,1381.09 \n",
       "  1988.68,1382.44 2022.48,1383.15 2056.29,1383.51 2090.09,1383.68 2123.9,1383.76 2157.7,1383.79 2191.51,1383.79 2225.31,1383.79 2259.12,1383.79 2292.92,1383.79 \n",
       "  \n",
       "  \"/>\n",
       "<polyline clip-path=\"url(#clip882)\" style=\"stroke:#000000; stroke-width:4; stroke-opacity:1; fill:none\" points=\"\n",
       "  298.45,1383.79 332.255,1383.79 366.06,1383.79 399.864,1383.79 433.669,1383.78 467.473,1383.76 501.278,1383.69 535.083,1383.52 568.887,1383.18 602.692,1382.51 \n",
       "  636.496,1381.24 670.301,1378.94 704.106,1374.94 737.91,1368.26 771.715,1357.47 805.519,1340.72 839.324,1315.66 873.129,1279.56 906.933,1229.59 940.738,1163.19 \n",
       "  974.542,1078.63 1008.35,975.667 1042.15,856.126 1075.96,724.226 1109.76,586.554 1143.57,451.557 1177.37,328.62 1211.17,226.923 1244.98,154.34 1278.78,116.563 \n",
       "  1312.59,116.563 1346.39,154.34 1380.2,226.923 1414,328.62 1447.81,451.557 1481.61,586.554 1515.42,724.226 1549.22,856.126 1583.03,975.667 1616.83,1078.63 \n",
       "  1650.63,1163.19 1684.44,1229.59 1718.24,1279.56 1752.05,1315.66 1785.85,1340.72 1819.66,1357.47 1853.46,1368.26 1887.27,1374.94 1921.07,1378.94 1954.88,1381.24 \n",
       "  1988.68,1382.51 2022.48,1383.18 2056.29,1383.52 2090.09,1383.69 2123.9,1383.76 2157.7,1383.78 2191.51,1383.79 2225.31,1383.79 2259.12,1383.79 2292.92,1383.79 \n",
       "  \n",
       "  \"/>\n",
       "<polyline clip-path=\"url(#clip882)\" style=\"stroke:#000000; stroke-width:4; stroke-opacity:1; fill:none\" points=\"\n",
       "  298.45,1383.79 332.255,1383.79 366.06,1383.79 399.864,1383.79 433.669,1383.78 467.473,1383.76 501.278,1383.69 535.083,1383.53 568.887,1383.2 602.692,1382.56 \n",
       "  636.496,1381.35 670.301,1379.15 704.106,1375.31 737.91,1368.88 771.715,1358.46 805.519,1342.21 839.324,1317.79 873.129,1282.48 906.933,1233.39 940.738,1167.86 \n",
       "  974.542,1084.02 1008.35,981.388 1042.15,861.53 1075.96,728.426 1109.76,588.537 1143.57,450.384 1177.37,323.69 1211.17,218.222 1244.98,142.563 1278.78,103.055 \n",
       "  1312.59,103.055 1346.39,142.563 1380.2,218.222 1414,323.69 1447.81,450.384 1481.61,588.537 1515.42,728.426 1549.22,861.53 1583.03,981.388 1616.83,1084.02 \n",
       "  1650.63,1167.86 1684.44,1233.39 1718.24,1282.48 1752.05,1317.79 1785.85,1342.21 1819.66,1358.46 1853.46,1368.88 1887.27,1375.31 1921.07,1379.15 1954.88,1381.35 \n",
       "  1988.68,1382.56 2022.48,1383.2 2056.29,1383.53 2090.09,1383.69 2123.9,1383.76 2157.7,1383.78 2191.51,1383.79 2225.31,1383.79 2259.12,1383.79 2292.92,1383.79 \n",
       "  \n",
       "  \"/>\n",
       "<polyline clip-path=\"url(#clip882)\" style=\"stroke:#000000; stroke-width:4; stroke-opacity:1; fill:none\" points=\"\n",
       "  298.45,1383.79 332.255,1383.79 366.06,1383.79 399.864,1383.79 433.669,1383.78 467.473,1383.76 501.278,1383.69 535.083,1383.54 568.887,1383.22 602.692,1382.6 \n",
       "  636.496,1381.42 670.301,1379.3 704.106,1375.58 737.91,1369.31 771.715,1359.13 805.519,1343.21 839.324,1319.22 873.129,1284.43 906.933,1235.92 940.738,1170.97 \n",
       "  974.542,1087.6 1008.35,985.192 1042.15,865.133 1075.96,731.243 1109.76,589.888 1143.57,449.632 1177.37,320.418 1211.17,212.405 1244.98,134.66 1278.78,93.9745 \n",
       "  1312.59,93.9749 1346.39,134.66 1380.2,212.404 1414,320.418 1447.81,449.632 1481.61,589.888 1515.42,731.243 1549.22,865.133 1583.03,985.192 1616.83,1087.6 \n",
       "  1650.63,1170.97 1684.44,1235.92 1718.24,1284.43 1752.05,1319.22 1785.85,1343.21 1819.66,1359.13 1853.46,1369.31 1887.27,1375.58 1921.07,1379.3 1954.88,1381.42 \n",
       "  1988.68,1382.6 2022.48,1383.22 2056.29,1383.54 2090.09,1383.69 2123.9,1383.76 2157.7,1383.78 2191.51,1383.79 2225.31,1383.79 2259.12,1383.79 2292.92,1383.79 \n",
       "  \n",
       "  \"/>\n",
       "<polyline clip-path=\"url(#clip882)\" style=\"stroke:#000000; stroke-width:4; stroke-opacity:1; fill:none\" points=\"\n",
       "  298.45,1383.79 332.255,1383.79 366.06,1383.79 399.864,1383.79 433.669,1383.78 467.473,1383.76 501.278,1383.69 535.083,1383.54 568.887,1383.23 602.692,1382.63 \n",
       "  636.496,1381.48 670.301,1379.4 704.106,1375.76 737.91,1369.61 771.715,1359.59 805.519,1343.9 839.324,1320.19 873.129,1285.74 906.933,1237.61 940.738,1173.05 \n",
       "  974.542,1089.99 1008.35,987.733 1042.15,867.544 1075.96,733.134 1109.76,590.804 1143.57,449.14 1177.37,318.23 1211.17,208.496 1244.98,129.338 1278.78,87.8513 \n",
       "  1312.59,87.8513 1346.39,129.337 1380.2,208.497 1414,318.231 1447.81,449.14 1481.61,590.804 1515.42,733.134 1549.22,867.544 1583.03,987.733 1616.83,1089.99 \n",
       "  1650.63,1173.05 1684.44,1237.61 1718.24,1285.74 1752.05,1320.19 1785.85,1343.9 1819.66,1359.59 1853.46,1369.61 1887.27,1375.76 1921.07,1379.4 1954.88,1381.48 \n",
       "  1988.68,1382.63 2022.48,1383.23 2056.29,1383.54 2090.09,1383.69 2123.9,1383.76 2157.7,1383.78 2191.51,1383.79 2225.31,1383.79 2259.12,1383.79 2292.92,1383.79 \n",
       "  \n",
       "  \"/>\n",
       "<polyline clip-path=\"url(#clip882)\" style=\"stroke:#9b7fe8; stroke-width:4; stroke-opacity:1; fill:none\" points=\"\n",
       "  298.45,1383.83 332.255,1383.83 366.06,1383.82 399.864,1383.82 433.669,1383.81 467.473,1383.77 501.278,1383.66 535.083,1383.41 568.887,1382.81 602.692,1381.48 \n",
       "  636.496,1378.71 670.301,1373.26 704.106,1363.18 737.91,1345.65 771.715,1317.07 805.519,1273.39 839.324,1210.99 873.129,1127.96 906.933,1025.45 940.738,908.897 \n",
       "  974.542,788.187 1008.35,676.566 1042.15,588.107 1075.96,534.291 1109.76,520.682 1143.57,544.819 1177.37,596.18 1211.17,658.405 1244.98,713.242 1278.78,745.121 \n",
       "  1312.59,745.121 1346.39,713.242 1380.2,658.405 1414,596.18 1447.81,544.819 1481.61,520.682 1515.42,534.291 1549.22,588.107 1583.03,676.566 1616.83,788.187 \n",
       "  1650.63,908.897 1684.44,1025.45 1718.24,1127.96 1752.05,1210.99 1785.85,1273.39 1819.66,1317.07 1853.46,1345.65 1887.27,1363.18 1921.07,1373.26 1954.88,1378.71 \n",
       "  1988.68,1381.48 2022.48,1382.81 2056.29,1383.41 2090.09,1383.66 2123.9,1383.77 2157.7,1383.81 2191.51,1383.82 2225.31,1383.82 2259.12,1383.83 2292.92,1383.83 \n",
       "  \n",
       "  \"/>\n",
       "<polyline clip-path=\"url(#clip882)\" style=\"stroke:#608cf6; stroke-width:4; stroke-opacity:1; fill:none\" points=\"\n",
       "  298.45,1383.62 332.255,1383.45 366.06,1383.59 399.864,1383.87 433.669,1384.16 467.473,1384.08 501.278,1383.55 535.083,1383.46 568.887,1382.5 602.692,1381.7 \n",
       "  636.496,1379.58 670.301,1374.74 704.106,1366.58 737.91,1353.07 771.715,1330.72 805.519,1296.06 839.324,1247.35 873.129,1181.19 906.933,1097.89 940.738,998.821 \n",
       "  974.542,891.185 1008.35,782.373 1042.15,681.555 1075.96,599.294 1109.76,541.255 1143.57,509.65 1177.37,500.92 1211.17,507.572 1244.98,520.244 1278.78,531.168 \n",
       "  1312.59,530.353 1346.39,519.861 1380.2,507.707 1414,501.118 1447.81,509.207 1481.61,541.004 1515.42,599.04 1549.22,681.43 1583.03,782.517 1616.83,891.222 \n",
       "  1650.63,999.565 1684.44,1097.61 1718.24,1180.74 1752.05,1247.57 1785.85,1296.17 1819.66,1330.75 1853.46,1352.97 1887.27,1366.44 1921.07,1374.68 1954.88,1379.32 \n",
       "  1988.68,1381.87 2022.48,1382.58 2056.29,1383.33 2090.09,1384.08 2123.9,1383.66 2157.7,1383.75 2191.51,1384.05 2225.31,1384.04 2259.12,1383.91 2292.92,1383.28 \n",
       "  \n",
       "  \"/>\n",
       "<polyline clip-path=\"url(#clip882)\" style=\"stroke:#f05f73; stroke-width:4; stroke-opacity:1; fill:none\" points=\"\n",
       "  298.45,1383.64 332.255,1383.48 366.06,1383.57 399.864,1383.88 433.669,1384.24 467.473,1384.04 501.278,1383.59 535.083,1383.48 568.887,1382.58 602.692,1381.86 \n",
       "  636.496,1380.13 670.301,1375.97 704.106,1369.23 737.91,1358.15 771.715,1340.06 805.519,1312.04 839.324,1272.52 873.129,1218.1 906.933,1147.82 940.738,1061.09 \n",
       "  974.542,962.25 1008.35,855.24 1042.15,746.339 1075.96,644.397 1109.76,555.789 1143.57,485.632 1177.37,435.283 1211.17,403.187 1244.98,386.047 1278.78,381.821 \n",
       "  1312.59,380.682 1346.39,385.588 1380.2,403.243 1414,435.443 1447.81,485.265 1481.61,555.64 1515.42,644.222 1549.22,746.168 1583.03,855.401 1616.83,962.396 \n",
       "  1650.63,1061.87 1684.44,1147.59 1718.24,1217.74 1752.05,1272.7 1785.85,1312.09 1819.66,1340.19 1853.46,1358.08 1887.27,1369.05 1921.07,1375.97 1954.88,1379.88 \n",
       "  1988.68,1382.05 2022.48,1382.67 2056.29,1383.38 2090.09,1383.97 2123.9,1383.66 2157.7,1383.79 2191.51,1384 2225.31,1384.06 2259.12,1383.89 2292.92,1383.39 \n",
       "  \n",
       "  \"/>\n",
       "<polyline clip-path=\"url(#clip882)\" style=\"stroke:#dd64b5; stroke-width:4; stroke-opacity:1; fill:none\" points=\"\n",
       "  298.45,1383.72 332.255,1383.63 366.06,1383.63 399.864,1383.86 433.669,1384.18 467.473,1383.89 501.278,1383.67 535.083,1383.49 568.887,1382.76 602.692,1382 \n",
       "  636.496,1380.49 670.301,1376.93 704.106,1371.18 737.91,1361.63 771.715,1346.39 805.519,1322.98 839.324,1289.5 873.129,1242.91 906.933,1181.2 940.738,1102.82 \n",
       "  974.542,1009.78 1008.35,903.975 1042.15,789.968 1075.96,674.966 1109.76,566.004 1143.57,469.937 1177.37,391.46 1211.17,332.986 1244.98,295.279 1278.78,280.183 \n",
       "  1312.59,279.015 1346.39,294.896 1380.2,332.937 1414,391.534 1447.81,469.782 1481.61,566.029 1515.42,674.941 1549.22,789.803 1583.03,904.099 1616.83,1010.02 \n",
       "  1650.63,1103.42 1684.44,1181.09 1718.24,1242.77 1752.05,1289.56 1785.85,1322.97 1819.66,1346.58 1853.46,1361.62 1887.27,1371.02 1921.07,1376.98 1954.88,1380.33 \n",
       "  1988.68,1382.14 2022.48,1382.84 2056.29,1383.46 2090.09,1383.75 2123.9,1383.7 2157.7,1383.83 2191.51,1383.89 2225.31,1384.01 2259.12,1383.84 2292.92,1383.64 \n",
       "  \n",
       "  \"/>\n",
       "<polyline clip-path=\"url(#clip882)\" style=\"stroke:#6b9e32; stroke-width:4; stroke-opacity:1; fill:none\" points=\"\n",
       "  298.45,1383.81 332.255,1383.78 366.06,1383.7 399.864,1383.84 433.669,1384.07 467.473,1383.74 501.278,1383.74 535.083,1383.5 568.887,1382.95 602.692,1382.12 \n",
       "  636.496,1380.74 670.301,1377.66 704.106,1372.58 737.91,1364.04 771.715,1350.69 805.519,1330.34 839.324,1300.74 873.129,1259.19 906.933,1202.99 940.738,1130.08 \n",
       "  974.542,1040.8 1008.35,935.846 1042.15,818.743 1075.96,695.399 1109.76,573.248 1143.57,460.13 1177.37,362.935 1211.17,286.749 1244.98,235.026 1278.78,212.06 \n",
       "  1312.59,211.039 1346.39,234.782 1380.2,286.63 1414,362.942 1447.81,460.167 1481.61,573.408 1515.42,695.494 1549.22,818.612 1583.03,935.914 1616.83,1041.08 \n",
       "  1650.63,1130.47 1684.44,1202.96 1718.24,1259.25 1752.05,1300.68 1785.85,1330.29 1819.66,1350.88 1853.46,1364.07 1887.27,1372.48 1921.07,1377.73 1954.88,1380.66 \n",
       "  1988.68,1382.21 2022.48,1383 2056.29,1383.53 2090.09,1383.57 2123.9,1383.74 2157.7,1383.84 2191.51,1383.79 2225.31,1383.92 2259.12,1383.8 2292.92,1383.86 \n",
       "  \n",
       "  \"/>\n",
       "<polyline clip-path=\"url(#clip882)\" style=\"stroke:#009af9; stroke-width:4; stroke-opacity:1; fill:none\" points=\"\n",
       "  298.45,1383.86 332.255,1383.89 366.06,1383.77 399.864,1383.82 433.669,1383.94 467.473,1383.63 501.278,1383.77 535.083,1383.51 568.887,1383.09 602.692,1382.23 \n",
       "  636.496,1380.93 670.301,1378.22 704.106,1373.58 737.91,1365.76 771.715,1353.63 805.519,1335.25 839.324,1308.09 873.129,1269.66 906.933,1216.9 940.738,1147.48 \n",
       "  974.542,1060.6 1008.35,956.29 1042.15,837.423 1075.96,708.971 1109.76,578.499 1143.57,454.349 1177.37,344.807 1211.17,256.783 1244.98,195.535 1278.78,166.725 \n",
       "  1312.59,165.957 1346.39,195.441 1380.2,256.637 1414,344.778 1447.81,454.509 1481.61,578.724 1515.42,709.131 1549.22,837.338 1583.03,956.302 1616.83,1060.87 \n",
       "  1650.63,1147.69 1684.44,1216.92 1718.24,1269.84 1752.05,1307.95 1785.85,1335.2 1819.66,1353.77 1853.46,1365.81 1887.27,1373.55 1921.07,1378.26 1954.88,1380.91 \n",
       "  1988.68,1382.27 2022.48,1383.12 2056.29,1383.57 2090.09,1383.47 2123.9,1383.77 2157.7,1383.82 2191.51,1383.72 2225.31,1383.83 2259.12,1383.77 2292.92,1383.99 \n",
       "  \n",
       "  \"/>\n",
       "<polyline clip-path=\"url(#clip882)\" style=\"stroke:#e26f46; stroke-width:4; stroke-opacity:1; fill:none\" points=\"\n",
       "  298.45,1383.88 332.255,1383.95 366.06,1383.82 399.864,1383.8 433.669,1383.82 467.473,1383.57 501.278,1383.78 535.083,1383.51 568.887,1383.2 602.692,1382.34 \n",
       "  636.496,1381.06 670.301,1378.63 704.106,1374.3 737.91,1367.01 771.715,1355.69 805.519,1338.51 839.324,1312.84 873.129,1276.26 906.933,1225.57 940.738,1158.29 \n",
       "  974.542,1072.92 1008.35,969.146 1042.15,849.382 1075.96,717.994 1109.76,582.437 1143.57,451.261 1177.37,333.602 1211.17,237.638 1244.98,169.879 1278.78,136.565 \n",
       "  1312.59,136.11 1346.39,169.917 1380.2,237.503 1414,333.565 1447.81,451.468 1481.61,582.654 1515.42,718.163 1549.22,849.347 1583.03,969.111 1616.83,1073.14 \n",
       "  1650.63,1158.37 1684.44,1225.59 1718.24,1276.48 1752.05,1312.67 1785.85,1338.49 1819.66,1355.76 1853.46,1367.07 1887.27,1374.33 1921.07,1378.64 1954.88,1381.08 \n",
       "  1988.68,1382.34 2022.48,1383.2 2056.29,1383.58 2090.09,1383.45 2123.9,1383.79 2157.7,1383.79 2191.51,1383.69 2225.31,1383.76 2259.12,1383.76 2292.92,1384.03 \n",
       "  \n",
       "  \"/>\n",
       "<polyline clip-path=\"url(#clip882)\" style=\"stroke:#3da44d; stroke-width:4; stroke-opacity:1; fill:none\" points=\"\n",
       "  298.45,1383.88 332.255,1383.94 366.06,1383.85 399.864,1383.79 433.669,1383.72 467.473,1383.58 501.278,1383.76 535.083,1383.52 568.887,1383.27 602.692,1382.46 \n",
       "  636.496,1381.17 670.301,1378.94 704.106,1374.85 737.91,1367.98 771.715,1357.18 805.519,1340.71 839.324,1315.9 873.129,1280.31 906.933,1230.79 940.738,1164.79 \n",
       "  974.542,1080.34 1008.35,977.048 1042.15,856.943 1075.96,724.049 1109.76,585.523 1143.57,449.948 1177.37,326.935 1211.17,225.571 1244.98,153.294 1278.78,116.341 \n",
       "  1312.59,116.233 1346.39,153.429 1380.2,225.473 1414,326.908 1447.81,450.127 1481.61,585.664 1515.42,724.178 1549.22,856.954 1583.03,976.98 1616.83,1080.46 \n",
       "  1650.63,1164.75 1684.44,1230.81 1718.24,1280.5 1752.05,1315.75 1785.85,1340.72 1819.66,1357.18 1853.46,1368.02 1887.27,1374.92 1921.07,1378.91 1954.88,1381.22 \n",
       "  1988.68,1382.43 2022.48,1383.25 2056.29,1383.57 2090.09,1383.5 2123.9,1383.79 2157.7,1383.76 2191.51,1383.7 2225.31,1383.71 2259.12,1383.77 2292.92,1384 \n",
       "  \n",
       "  \"/>\n",
       "<polyline clip-path=\"url(#clip882)\" style=\"stroke:#c271d2; stroke-width:4; stroke-opacity:1; fill:none\" points=\"\n",
       "  298.45,1383.84 332.255,1383.88 366.06,1383.86 399.864,1383.78 433.669,1383.65 467.473,1383.65 501.278,1383.71 535.083,1383.53 568.887,1383.3 602.692,1382.57 \n",
       "  636.496,1381.27 670.301,1379.16 704.106,1375.27 737.91,1368.76 771.715,1358.31 805.519,1342.2 839.324,1317.84 873.129,1282.69 906.933,1233.76 940.738,1168.46 \n",
       "  974.542,1084.55 1008.35,981.723 1042.15,861.633 1075.96,728.173 1109.76,588.056 1143.57,449.801 1177.37,323.236 1211.17,218.123 1244.98,142.647 1278.78,102.608 \n",
       "  1312.59,102.864 1346.39,142.833 1380.2,218.077 1414,323.23 1447.81,449.888 1481.61,588.063 1515.42,728.224 1549.22,861.681 1583.03,981.639 1616.83,1084.55 \n",
       "  1650.63,1168.33 1684.44,1233.77 1718.24,1282.78 1752.05,1317.77 1785.85,1342.23 1819.66,1358.23 1853.46,1368.77 1887.27,1375.35 1921.07,1379.12 1954.88,1381.32 \n",
       "  1988.68,1382.52 2022.48,1383.27 2056.29,1383.54 2090.09,1383.61 2123.9,1383.79 2157.7,1383.76 2191.51,1383.73 2225.31,1383.7 2259.12,1383.78 2292.92,1383.9 \n",
       "  \n",
       "  \"/>\n",
       "<polyline clip-path=\"url(#clip882)\" style=\"stroke:#ac8d18; stroke-width:4; stroke-opacity:1; fill:none\" points=\"\n",
       "  298.45,1383.78 332.255,1383.76 366.06,1383.85 399.864,1383.78 433.669,1383.6 467.473,1383.79 501.278,1383.64 535.083,1383.53 568.887,1383.31 602.692,1382.68 \n",
       "  636.496,1381.35 670.301,1379.31 704.106,1375.61 737.91,1369.42 771.715,1359.21 805.519,1343.25 839.324,1319.06 873.129,1283.99 906.933,1235.27 940.738,1170.31 \n",
       "  974.542,1086.7 1008.35,984.337 1042.15,864.483 1075.96,731.064 1109.76,590.238 1143.57,450.412 1177.37,321.45 1211.17,213.634 1244.98,135.823 1278.78,93.0415 \n",
       "  1312.59,93.6663 1346.39,136.006 1380.2,213.647 1414,321.469 1447.81,450.348 1481.61,590.059 1515.42,731.004 1549.22,864.555 1583.03,984.254 1616.83,1086.54 \n",
       "  1650.63,1170.1 1684.44,1235.28 1718.24,1283.94 1752.05,1319.11 1785.85,1343.27 1819.66,1359.08 1853.46,1369.4 1887.27,1375.67 1921.07,1379.29 1954.88,1381.4 \n",
       "  1988.68,1382.63 2022.48,1383.27 2056.29,1383.5 2090.09,1383.77 2123.9,1383.77 2157.7,1383.77 2191.51,1383.79 2225.31,1383.72 2259.12,1383.79 2292.92,1383.76 \n",
       "  \n",
       "  \"/>\n",
       "<polyline clip-path=\"url(#clip882)\" style=\"stroke:#00a9ad; stroke-width:4; stroke-opacity:1; fill:none\" points=\"\n",
       "  298.45,1383.69 332.255,1383.59 366.06,1383.81 399.864,1383.78 433.669,1383.59 467.473,1383.99 501.278,1383.56 535.083,1383.53 568.887,1383.29 602.692,1382.8 \n",
       "  636.496,1381.43 670.301,1379.41 704.106,1375.91 737.91,1370.02 771.715,1359.97 805.519,1344.01 839.324,1319.81 873.129,1284.59 906.933,1235.82 940.738,1170.97 \n",
       "  974.542,1087.5 1008.35,985.617 1042.15,866.135 1075.96,733.161 1109.76,592.196 1143.57,451.523 1177.37,320.914 1211.17,211.067 1244.98,131.498 1278.78,86.1857 \n",
       "  1312.59,87.1798 1346.39,131.623 1380.2,211.142 1414,320.959 1447.81,451.256 1481.61,591.782 1515.42,732.961 1549.22,866.221 1583.03,985.556 1616.83,1087.16 \n",
       "  1650.63,1170.68 1684.44,1235.85 1718.24,1284.34 1752.05,1320.04 1785.85,1344 1819.66,1359.8 1853.46,1369.94 1887.27,1375.9 1921.07,1379.42 1954.88,1381.47 \n",
       "  1988.68,1382.75 2022.48,1383.26 2056.29,1383.45 2090.09,1383.97 2123.9,1383.73 2157.7,1383.81 2191.51,1383.88 2225.31,1383.77 2259.12,1383.82 2292.92,1383.57 \n",
       "  \n",
       "  \"/>\n",
       "<path clip-path=\"url(#clip880)\" d=\"\n",
       "M1958 1521.8 L2280.76 1521.8 L2280.76 130.764 L1958 130.764  Z\n",
       "  \" fill=\"#ffffff\" fill-rule=\"evenodd\" fill-opacity=\"1\"/>\n",
       "<polyline clip-path=\"url(#clip880)\" style=\"stroke:#000000; stroke-width:4; stroke-opacity:1; fill:none\" points=\"\n",
       "  1958,1521.8 2280.76,1521.8 2280.76,130.764 1958,130.764 1958,1521.8 \n",
       "  \"/>\n",
       "<polyline clip-path=\"url(#clip880)\" style=\"stroke:#000000; stroke-width:4; stroke-opacity:1; fill:none\" points=\"\n",
       "  1982,191.244 2126,191.244 \n",
       "  \"/>\n",
       "<path clip-path=\"url(#clip880)\" d=\"M 0 0 M2150 173.964 L2169.86 173.964 L2169.86 177.899 L2154.68 177.899 L2154.68 188.084 L2168.38 188.084 L2168.38 192.02 L2154.68 192.02 L2154.68 208.524 L2150 208.524 L2150 173.964 Z\" fill=\"#000000\" fill-rule=\"evenodd\" fill-opacity=\"1\" /><path clip-path=\"url(#clip880)\" d=\"M 0 0 M2194.4 175.098 L2194.4 179.659 Q2191.74 178.385 2189.38 177.76 Q2187.02 177.135 2184.82 177.135 Q2181 177.135 2178.91 178.617 Q2176.85 180.098 2176.85 182.83 Q2176.85 185.121 2178.22 186.302 Q2179.61 187.459 2183.45 188.177 L2186.27 188.756 Q2191.51 189.751 2193.98 192.274 Q2196.48 194.774 2196.48 198.987 Q2196.48 204.01 2193.1 206.603 Q2189.75 209.195 2183.24 209.195 Q2180.79 209.195 2178.01 208.64 Q2175.26 208.084 2172.29 206.996 L2172.29 202.182 Q2175.14 203.779 2177.87 204.589 Q2180.6 205.399 2183.24 205.399 Q2187.25 205.399 2189.42 203.825 Q2191.6 202.251 2191.6 199.334 Q2191.6 196.788 2190.02 195.353 Q2188.47 193.918 2184.91 193.2 L2182.06 192.645 Q2176.83 191.603 2174.49 189.381 Q2172.15 187.158 2172.15 183.2 Q2172.15 178.617 2175.37 175.978 Q2178.61 173.339 2184.28 173.339 Q2186.71 173.339 2189.24 173.779 Q2191.76 174.219 2194.4 175.098 Z\" fill=\"#000000\" fill-rule=\"evenodd\" fill-opacity=\"1\" /><path clip-path=\"url(#clip880)\" d=\"M 0 0 M2201.14 173.964 L2208.1 173.964 L2216.92 197.482 L2225.79 173.964 L2232.76 173.964 L2232.76 208.524 L2228.2 208.524 L2228.2 178.177 L2219.28 201.881 L2214.58 201.881 L2205.67 178.177 L2205.67 208.524 L2201.14 208.524 L2201.14 173.964 Z\" fill=\"#000000\" fill-rule=\"evenodd\" fill-opacity=\"1\" /><polyline clip-path=\"url(#clip880)\" style=\"stroke:#000000; stroke-width:4; stroke-opacity:1; fill:none\" points=\"\n",
       "  1982,251.724 2126,251.724 \n",
       "  \"/>\n",
       "<path clip-path=\"url(#clip880)\" d=\"M 0 0 M2150 234.444 L2169.86 234.444 L2169.86 238.379 L2154.68 238.379 L2154.68 248.564 L2168.38 248.564 L2168.38 252.5 L2154.68 252.5 L2154.68 269.004 L2150 269.004 L2150 234.444 Z\" fill=\"#000000\" fill-rule=\"evenodd\" fill-opacity=\"1\" /><path clip-path=\"url(#clip880)\" d=\"M 0 0 M2194.4 235.578 L2194.4 240.139 Q2191.74 238.865 2189.38 238.24 Q2187.02 237.615 2184.82 237.615 Q2181 237.615 2178.91 239.097 Q2176.85 240.578 2176.85 243.31 Q2176.85 245.601 2178.22 246.782 Q2179.61 247.939 2183.45 248.657 L2186.27 249.236 Q2191.51 250.231 2193.98 252.754 Q2196.48 255.254 2196.48 259.467 Q2196.48 264.49 2193.1 267.083 Q2189.75 269.675 2183.24 269.675 Q2180.79 269.675 2178.01 269.12 Q2175.26 268.564 2172.29 267.476 L2172.29 262.662 Q2175.14 264.259 2177.87 265.069 Q2180.6 265.879 2183.24 265.879 Q2187.25 265.879 2189.42 264.305 Q2191.6 262.731 2191.6 259.814 Q2191.6 257.268 2190.02 255.833 Q2188.47 254.398 2184.91 253.68 L2182.06 253.125 Q2176.83 252.083 2174.49 249.861 Q2172.15 247.638 2172.15 243.68 Q2172.15 239.097 2175.37 236.458 Q2178.61 233.819 2184.28 233.819 Q2186.71 233.819 2189.24 234.259 Q2191.76 234.699 2194.4 235.578 Z\" fill=\"#000000\" fill-rule=\"evenodd\" fill-opacity=\"1\" /><path clip-path=\"url(#clip880)\" d=\"M 0 0 M2201.14 234.444 L2208.1 234.444 L2216.92 257.962 L2225.79 234.444 L2232.76 234.444 L2232.76 269.004 L2228.2 269.004 L2228.2 238.657 L2219.28 262.361 L2214.58 262.361 L2205.67 238.657 L2205.67 269.004 L2201.14 269.004 L2201.14 234.444 Z\" fill=\"#000000\" fill-rule=\"evenodd\" fill-opacity=\"1\" /><polyline clip-path=\"url(#clip880)\" style=\"stroke:#000000; stroke-width:4; stroke-opacity:1; fill:none\" points=\"\n",
       "  1982,312.204 2126,312.204 \n",
       "  \"/>\n",
       "<path clip-path=\"url(#clip880)\" d=\"M 0 0 M2150 294.924 L2169.86 294.924 L2169.86 298.859 L2154.68 298.859 L2154.68 309.044 L2168.38 309.044 L2168.38 312.98 L2154.68 312.98 L2154.68 329.484 L2150 329.484 L2150 294.924 Z\" fill=\"#000000\" fill-rule=\"evenodd\" fill-opacity=\"1\" /><path clip-path=\"url(#clip880)\" d=\"M 0 0 M2194.4 296.058 L2194.4 300.619 Q2191.74 299.345 2189.38 298.72 Q2187.02 298.095 2184.82 298.095 Q2181 298.095 2178.91 299.577 Q2176.85 301.058 2176.85 303.79 Q2176.85 306.081 2178.22 307.262 Q2179.61 308.419 2183.45 309.137 L2186.27 309.716 Q2191.51 310.711 2193.98 313.234 Q2196.48 315.734 2196.48 319.947 Q2196.48 324.97 2193.1 327.563 Q2189.75 330.155 2183.24 330.155 Q2180.79 330.155 2178.01 329.6 Q2175.26 329.044 2172.29 327.956 L2172.29 323.142 Q2175.14 324.739 2177.87 325.549 Q2180.6 326.359 2183.24 326.359 Q2187.25 326.359 2189.42 324.785 Q2191.6 323.211 2191.6 320.294 Q2191.6 317.748 2190.02 316.313 Q2188.47 314.878 2184.91 314.16 L2182.06 313.605 Q2176.83 312.563 2174.49 310.341 Q2172.15 308.118 2172.15 304.16 Q2172.15 299.577 2175.37 296.938 Q2178.61 294.299 2184.28 294.299 Q2186.71 294.299 2189.24 294.739 Q2191.76 295.179 2194.4 296.058 Z\" fill=\"#000000\" fill-rule=\"evenodd\" fill-opacity=\"1\" /><path clip-path=\"url(#clip880)\" d=\"M 0 0 M2201.14 294.924 L2208.1 294.924 L2216.92 318.442 L2225.79 294.924 L2232.76 294.924 L2232.76 329.484 L2228.2 329.484 L2228.2 299.137 L2219.28 322.841 L2214.58 322.841 L2205.67 299.137 L2205.67 329.484 L2201.14 329.484 L2201.14 294.924 Z\" fill=\"#000000\" fill-rule=\"evenodd\" fill-opacity=\"1\" /><polyline clip-path=\"url(#clip880)\" style=\"stroke:#000000; stroke-width:4; stroke-opacity:1; fill:none\" points=\"\n",
       "  1982,372.684 2126,372.684 \n",
       "  \"/>\n",
       "<path clip-path=\"url(#clip880)\" d=\"M 0 0 M2150 355.404 L2169.86 355.404 L2169.86 359.339 L2154.68 359.339 L2154.68 369.524 L2168.38 369.524 L2168.38 373.46 L2154.68 373.46 L2154.68 389.964 L2150 389.964 L2150 355.404 Z\" fill=\"#000000\" fill-rule=\"evenodd\" fill-opacity=\"1\" /><path clip-path=\"url(#clip880)\" d=\"M 0 0 M2194.4 356.538 L2194.4 361.099 Q2191.74 359.825 2189.38 359.2 Q2187.02 358.575 2184.82 358.575 Q2181 358.575 2178.91 360.057 Q2176.85 361.538 2176.85 364.27 Q2176.85 366.561 2178.22 367.742 Q2179.61 368.899 2183.45 369.617 L2186.27 370.196 Q2191.51 371.191 2193.98 373.714 Q2196.48 376.214 2196.48 380.427 Q2196.48 385.45 2193.1 388.043 Q2189.75 390.635 2183.24 390.635 Q2180.79 390.635 2178.01 390.08 Q2175.26 389.524 2172.29 388.436 L2172.29 383.622 Q2175.14 385.219 2177.87 386.029 Q2180.6 386.839 2183.24 386.839 Q2187.25 386.839 2189.42 385.265 Q2191.6 383.691 2191.6 380.774 Q2191.6 378.228 2190.02 376.793 Q2188.47 375.358 2184.91 374.64 L2182.06 374.085 Q2176.83 373.043 2174.49 370.821 Q2172.15 368.598 2172.15 364.64 Q2172.15 360.057 2175.37 357.418 Q2178.61 354.779 2184.28 354.779 Q2186.71 354.779 2189.24 355.219 Q2191.76 355.659 2194.4 356.538 Z\" fill=\"#000000\" fill-rule=\"evenodd\" fill-opacity=\"1\" /><path clip-path=\"url(#clip880)\" d=\"M 0 0 M2201.14 355.404 L2208.1 355.404 L2216.92 378.922 L2225.79 355.404 L2232.76 355.404 L2232.76 389.964 L2228.2 389.964 L2228.2 359.617 L2219.28 383.321 L2214.58 383.321 L2205.67 359.617 L2205.67 389.964 L2201.14 389.964 L2201.14 355.404 Z\" fill=\"#000000\" fill-rule=\"evenodd\" fill-opacity=\"1\" /><polyline clip-path=\"url(#clip880)\" style=\"stroke:#000000; stroke-width:4; stroke-opacity:1; fill:none\" points=\"\n",
       "  1982,433.164 2126,433.164 \n",
       "  \"/>\n",
       "<path clip-path=\"url(#clip880)\" d=\"M 0 0 M2150 415.884 L2169.86 415.884 L2169.86 419.819 L2154.68 419.819 L2154.68 430.004 L2168.38 430.004 L2168.38 433.94 L2154.68 433.94 L2154.68 450.444 L2150 450.444 L2150 415.884 Z\" fill=\"#000000\" fill-rule=\"evenodd\" fill-opacity=\"1\" /><path clip-path=\"url(#clip880)\" d=\"M 0 0 M2194.4 417.018 L2194.4 421.579 Q2191.74 420.305 2189.38 419.68 Q2187.02 419.055 2184.82 419.055 Q2181 419.055 2178.91 420.537 Q2176.85 422.018 2176.85 424.75 Q2176.85 427.041 2178.22 428.222 Q2179.61 429.379 2183.45 430.097 L2186.27 430.676 Q2191.51 431.671 2193.98 434.194 Q2196.48 436.694 2196.48 440.907 Q2196.48 445.93 2193.1 448.523 Q2189.75 451.115 2183.24 451.115 Q2180.79 451.115 2178.01 450.56 Q2175.26 450.004 2172.29 448.916 L2172.29 444.102 Q2175.14 445.699 2177.87 446.509 Q2180.6 447.319 2183.24 447.319 Q2187.25 447.319 2189.42 445.745 Q2191.6 444.171 2191.6 441.254 Q2191.6 438.708 2190.02 437.273 Q2188.47 435.838 2184.91 435.12 L2182.06 434.565 Q2176.83 433.523 2174.49 431.301 Q2172.15 429.078 2172.15 425.12 Q2172.15 420.537 2175.37 417.898 Q2178.61 415.259 2184.28 415.259 Q2186.71 415.259 2189.24 415.699 Q2191.76 416.139 2194.4 417.018 Z\" fill=\"#000000\" fill-rule=\"evenodd\" fill-opacity=\"1\" /><path clip-path=\"url(#clip880)\" d=\"M 0 0 M2201.14 415.884 L2208.1 415.884 L2216.92 439.402 L2225.79 415.884 L2232.76 415.884 L2232.76 450.444 L2228.2 450.444 L2228.2 420.097 L2219.28 443.801 L2214.58 443.801 L2205.67 420.097 L2205.67 450.444 L2201.14 450.444 L2201.14 415.884 Z\" fill=\"#000000\" fill-rule=\"evenodd\" fill-opacity=\"1\" /><polyline clip-path=\"url(#clip880)\" style=\"stroke:#000000; stroke-width:4; stroke-opacity:1; fill:none\" points=\"\n",
       "  1982,493.644 2126,493.644 \n",
       "  \"/>\n",
       "<path clip-path=\"url(#clip880)\" d=\"M 0 0 M2150 476.364 L2169.86 476.364 L2169.86 480.299 L2154.68 480.299 L2154.68 490.484 L2168.38 490.484 L2168.38 494.42 L2154.68 494.42 L2154.68 510.924 L2150 510.924 L2150 476.364 Z\" fill=\"#000000\" fill-rule=\"evenodd\" fill-opacity=\"1\" /><path clip-path=\"url(#clip880)\" d=\"M 0 0 M2194.4 477.498 L2194.4 482.059 Q2191.74 480.785 2189.38 480.16 Q2187.02 479.535 2184.82 479.535 Q2181 479.535 2178.91 481.017 Q2176.85 482.498 2176.85 485.23 Q2176.85 487.521 2178.22 488.702 Q2179.61 489.859 2183.45 490.577 L2186.27 491.156 Q2191.51 492.151 2193.98 494.674 Q2196.48 497.174 2196.48 501.387 Q2196.48 506.41 2193.1 509.003 Q2189.75 511.595 2183.24 511.595 Q2180.79 511.595 2178.01 511.04 Q2175.26 510.484 2172.29 509.396 L2172.29 504.582 Q2175.14 506.179 2177.87 506.989 Q2180.6 507.799 2183.24 507.799 Q2187.25 507.799 2189.42 506.225 Q2191.6 504.651 2191.6 501.734 Q2191.6 499.188 2190.02 497.753 Q2188.47 496.318 2184.91 495.6 L2182.06 495.045 Q2176.83 494.003 2174.49 491.781 Q2172.15 489.558 2172.15 485.6 Q2172.15 481.017 2175.37 478.378 Q2178.61 475.739 2184.28 475.739 Q2186.71 475.739 2189.24 476.179 Q2191.76 476.619 2194.4 477.498 Z\" fill=\"#000000\" fill-rule=\"evenodd\" fill-opacity=\"1\" /><path clip-path=\"url(#clip880)\" d=\"M 0 0 M2201.14 476.364 L2208.1 476.364 L2216.92 499.882 L2225.79 476.364 L2232.76 476.364 L2232.76 510.924 L2228.2 510.924 L2228.2 480.577 L2219.28 504.281 L2214.58 504.281 L2205.67 480.577 L2205.67 510.924 L2201.14 510.924 L2201.14 476.364 Z\" fill=\"#000000\" fill-rule=\"evenodd\" fill-opacity=\"1\" /><polyline clip-path=\"url(#clip880)\" style=\"stroke:#000000; stroke-width:4; stroke-opacity:1; fill:none\" points=\"\n",
       "  1982,554.124 2126,554.124 \n",
       "  \"/>\n",
       "<path clip-path=\"url(#clip880)\" d=\"M 0 0 M2150 536.844 L2169.86 536.844 L2169.86 540.779 L2154.68 540.779 L2154.68 550.964 L2168.38 550.964 L2168.38 554.9 L2154.68 554.9 L2154.68 571.404 L2150 571.404 L2150 536.844 Z\" fill=\"#000000\" fill-rule=\"evenodd\" fill-opacity=\"1\" /><path clip-path=\"url(#clip880)\" d=\"M 0 0 M2194.4 537.978 L2194.4 542.539 Q2191.74 541.265 2189.38 540.64 Q2187.02 540.015 2184.82 540.015 Q2181 540.015 2178.91 541.497 Q2176.85 542.978 2176.85 545.71 Q2176.85 548.001 2178.22 549.182 Q2179.61 550.339 2183.45 551.057 L2186.27 551.636 Q2191.51 552.631 2193.98 555.154 Q2196.48 557.654 2196.48 561.867 Q2196.48 566.89 2193.1 569.483 Q2189.75 572.075 2183.24 572.075 Q2180.79 572.075 2178.01 571.52 Q2175.26 570.964 2172.29 569.876 L2172.29 565.062 Q2175.14 566.659 2177.87 567.469 Q2180.6 568.279 2183.24 568.279 Q2187.25 568.279 2189.42 566.705 Q2191.6 565.131 2191.6 562.214 Q2191.6 559.668 2190.02 558.233 Q2188.47 556.798 2184.91 556.08 L2182.06 555.525 Q2176.83 554.483 2174.49 552.261 Q2172.15 550.038 2172.15 546.08 Q2172.15 541.497 2175.37 538.858 Q2178.61 536.219 2184.28 536.219 Q2186.71 536.219 2189.24 536.659 Q2191.76 537.099 2194.4 537.978 Z\" fill=\"#000000\" fill-rule=\"evenodd\" fill-opacity=\"1\" /><path clip-path=\"url(#clip880)\" d=\"M 0 0 M2201.14 536.844 L2208.1 536.844 L2216.92 560.362 L2225.79 536.844 L2232.76 536.844 L2232.76 571.404 L2228.2 571.404 L2228.2 541.057 L2219.28 564.761 L2214.58 564.761 L2205.67 541.057 L2205.67 571.404 L2201.14 571.404 L2201.14 536.844 Z\" fill=\"#000000\" fill-rule=\"evenodd\" fill-opacity=\"1\" /><polyline clip-path=\"url(#clip880)\" style=\"stroke:#000000; stroke-width:4; stroke-opacity:1; fill:none\" points=\"\n",
       "  1982,614.604 2126,614.604 \n",
       "  \"/>\n",
       "<path clip-path=\"url(#clip880)\" d=\"M 0 0 M2150 597.324 L2169.86 597.324 L2169.86 601.259 L2154.68 601.259 L2154.68 611.444 L2168.38 611.444 L2168.38 615.38 L2154.68 615.38 L2154.68 631.884 L2150 631.884 L2150 597.324 Z\" fill=\"#000000\" fill-rule=\"evenodd\" fill-opacity=\"1\" /><path clip-path=\"url(#clip880)\" d=\"M 0 0 M2194.4 598.458 L2194.4 603.019 Q2191.74 601.745 2189.38 601.12 Q2187.02 600.495 2184.82 600.495 Q2181 600.495 2178.91 601.977 Q2176.85 603.458 2176.85 606.19 Q2176.85 608.481 2178.22 609.662 Q2179.61 610.819 2183.45 611.537 L2186.27 612.116 Q2191.51 613.111 2193.98 615.634 Q2196.48 618.134 2196.48 622.347 Q2196.48 627.37 2193.1 629.963 Q2189.75 632.555 2183.24 632.555 Q2180.79 632.555 2178.01 632 Q2175.26 631.444 2172.29 630.356 L2172.29 625.542 Q2175.14 627.139 2177.87 627.949 Q2180.6 628.759 2183.24 628.759 Q2187.25 628.759 2189.42 627.185 Q2191.6 625.611 2191.6 622.694 Q2191.6 620.148 2190.02 618.713 Q2188.47 617.278 2184.91 616.56 L2182.06 616.005 Q2176.83 614.963 2174.49 612.741 Q2172.15 610.518 2172.15 606.56 Q2172.15 601.977 2175.37 599.338 Q2178.61 596.699 2184.28 596.699 Q2186.71 596.699 2189.24 597.139 Q2191.76 597.579 2194.4 598.458 Z\" fill=\"#000000\" fill-rule=\"evenodd\" fill-opacity=\"1\" /><path clip-path=\"url(#clip880)\" d=\"M 0 0 M2201.14 597.324 L2208.1 597.324 L2216.92 620.842 L2225.79 597.324 L2232.76 597.324 L2232.76 631.884 L2228.2 631.884 L2228.2 601.537 L2219.28 625.241 L2214.58 625.241 L2205.67 601.537 L2205.67 631.884 L2201.14 631.884 L2201.14 597.324 Z\" fill=\"#000000\" fill-rule=\"evenodd\" fill-opacity=\"1\" /><polyline clip-path=\"url(#clip880)\" style=\"stroke:#000000; stroke-width:4; stroke-opacity:1; fill:none\" points=\"\n",
       "  1982,675.084 2126,675.084 \n",
       "  \"/>\n",
       "<path clip-path=\"url(#clip880)\" d=\"M 0 0 M2150 657.804 L2169.86 657.804 L2169.86 661.739 L2154.68 661.739 L2154.68 671.924 L2168.38 671.924 L2168.38 675.86 L2154.68 675.86 L2154.68 692.364 L2150 692.364 L2150 657.804 Z\" fill=\"#000000\" fill-rule=\"evenodd\" fill-opacity=\"1\" /><path clip-path=\"url(#clip880)\" d=\"M 0 0 M2194.4 658.938 L2194.4 663.499 Q2191.74 662.225 2189.38 661.6 Q2187.02 660.975 2184.82 660.975 Q2181 660.975 2178.91 662.457 Q2176.85 663.938 2176.85 666.67 Q2176.85 668.961 2178.22 670.142 Q2179.61 671.299 2183.45 672.017 L2186.27 672.596 Q2191.51 673.591 2193.98 676.114 Q2196.48 678.614 2196.48 682.827 Q2196.48 687.85 2193.1 690.443 Q2189.75 693.035 2183.24 693.035 Q2180.79 693.035 2178.01 692.48 Q2175.26 691.924 2172.29 690.836 L2172.29 686.022 Q2175.14 687.619 2177.87 688.429 Q2180.6 689.239 2183.24 689.239 Q2187.25 689.239 2189.42 687.665 Q2191.6 686.091 2191.6 683.174 Q2191.6 680.628 2190.02 679.193 Q2188.47 677.758 2184.91 677.04 L2182.06 676.485 Q2176.83 675.443 2174.49 673.221 Q2172.15 670.998 2172.15 667.04 Q2172.15 662.457 2175.37 659.818 Q2178.61 657.179 2184.28 657.179 Q2186.71 657.179 2189.24 657.619 Q2191.76 658.059 2194.4 658.938 Z\" fill=\"#000000\" fill-rule=\"evenodd\" fill-opacity=\"1\" /><path clip-path=\"url(#clip880)\" d=\"M 0 0 M2201.14 657.804 L2208.1 657.804 L2216.92 681.322 L2225.79 657.804 L2232.76 657.804 L2232.76 692.364 L2228.2 692.364 L2228.2 662.017 L2219.28 685.721 L2214.58 685.721 L2205.67 662.017 L2205.67 692.364 L2201.14 692.364 L2201.14 657.804 Z\" fill=\"#000000\" fill-rule=\"evenodd\" fill-opacity=\"1\" /><polyline clip-path=\"url(#clip880)\" style=\"stroke:#000000; stroke-width:4; stroke-opacity:1; fill:none\" points=\"\n",
       "  1982,735.564 2126,735.564 \n",
       "  \"/>\n",
       "<path clip-path=\"url(#clip880)\" d=\"M 0 0 M2150 718.284 L2169.86 718.284 L2169.86 722.219 L2154.68 722.219 L2154.68 732.404 L2168.38 732.404 L2168.38 736.34 L2154.68 736.34 L2154.68 752.844 L2150 752.844 L2150 718.284 Z\" fill=\"#000000\" fill-rule=\"evenodd\" fill-opacity=\"1\" /><path clip-path=\"url(#clip880)\" d=\"M 0 0 M2194.4 719.418 L2194.4 723.979 Q2191.74 722.705 2189.38 722.08 Q2187.02 721.455 2184.82 721.455 Q2181 721.455 2178.91 722.937 Q2176.85 724.418 2176.85 727.15 Q2176.85 729.441 2178.22 730.622 Q2179.61 731.779 2183.45 732.497 L2186.27 733.076 Q2191.51 734.071 2193.98 736.594 Q2196.48 739.094 2196.48 743.307 Q2196.48 748.33 2193.1 750.923 Q2189.75 753.515 2183.24 753.515 Q2180.79 753.515 2178.01 752.96 Q2175.26 752.404 2172.29 751.316 L2172.29 746.502 Q2175.14 748.099 2177.87 748.909 Q2180.6 749.719 2183.24 749.719 Q2187.25 749.719 2189.42 748.145 Q2191.6 746.571 2191.6 743.654 Q2191.6 741.108 2190.02 739.673 Q2188.47 738.238 2184.91 737.52 L2182.06 736.965 Q2176.83 735.923 2174.49 733.701 Q2172.15 731.478 2172.15 727.52 Q2172.15 722.937 2175.37 720.298 Q2178.61 717.659 2184.28 717.659 Q2186.71 717.659 2189.24 718.099 Q2191.76 718.539 2194.4 719.418 Z\" fill=\"#000000\" fill-rule=\"evenodd\" fill-opacity=\"1\" /><path clip-path=\"url(#clip880)\" d=\"M 0 0 M2201.14 718.284 L2208.1 718.284 L2216.92 741.802 L2225.79 718.284 L2232.76 718.284 L2232.76 752.844 L2228.2 752.844 L2228.2 722.497 L2219.28 746.201 L2214.58 746.201 L2205.67 722.497 L2205.67 752.844 L2201.14 752.844 L2201.14 718.284 Z\" fill=\"#000000\" fill-rule=\"evenodd\" fill-opacity=\"1\" /><polyline clip-path=\"url(#clip880)\" style=\"stroke:#000000; stroke-width:4; stroke-opacity:1; fill:none\" points=\"\n",
       "  1982,796.044 2126,796.044 \n",
       "  \"/>\n",
       "<path clip-path=\"url(#clip880)\" d=\"M 0 0 M2150 778.764 L2169.86 778.764 L2169.86 782.699 L2154.68 782.699 L2154.68 792.884 L2168.38 792.884 L2168.38 796.82 L2154.68 796.82 L2154.68 813.324 L2150 813.324 L2150 778.764 Z\" fill=\"#000000\" fill-rule=\"evenodd\" fill-opacity=\"1\" /><path clip-path=\"url(#clip880)\" d=\"M 0 0 M2194.4 779.898 L2194.4 784.459 Q2191.74 783.185 2189.38 782.56 Q2187.02 781.935 2184.82 781.935 Q2181 781.935 2178.91 783.417 Q2176.85 784.898 2176.85 787.63 Q2176.85 789.921 2178.22 791.102 Q2179.61 792.259 2183.45 792.977 L2186.27 793.556 Q2191.51 794.551 2193.98 797.074 Q2196.48 799.574 2196.48 803.787 Q2196.48 808.81 2193.1 811.403 Q2189.75 813.995 2183.24 813.995 Q2180.79 813.995 2178.01 813.44 Q2175.26 812.884 2172.29 811.796 L2172.29 806.982 Q2175.14 808.579 2177.87 809.389 Q2180.6 810.199 2183.24 810.199 Q2187.25 810.199 2189.42 808.625 Q2191.6 807.051 2191.6 804.134 Q2191.6 801.588 2190.02 800.153 Q2188.47 798.718 2184.91 798 L2182.06 797.445 Q2176.83 796.403 2174.49 794.181 Q2172.15 791.958 2172.15 788 Q2172.15 783.417 2175.37 780.778 Q2178.61 778.139 2184.28 778.139 Q2186.71 778.139 2189.24 778.579 Q2191.76 779.019 2194.4 779.898 Z\" fill=\"#000000\" fill-rule=\"evenodd\" fill-opacity=\"1\" /><path clip-path=\"url(#clip880)\" d=\"M 0 0 M2201.14 778.764 L2208.1 778.764 L2216.92 802.282 L2225.79 778.764 L2232.76 778.764 L2232.76 813.324 L2228.2 813.324 L2228.2 782.977 L2219.28 806.681 L2214.58 806.681 L2205.67 782.977 L2205.67 813.324 L2201.14 813.324 L2201.14 778.764 Z\" fill=\"#000000\" fill-rule=\"evenodd\" fill-opacity=\"1\" /><polyline clip-path=\"url(#clip880)\" style=\"stroke:#9b7fe8; stroke-width:4; stroke-opacity:1; fill:none\" points=\"\n",
       "  1982,856.524 2126,856.524 \n",
       "  \"/>\n",
       "<path clip-path=\"url(#clip880)\" d=\"M 0 0 M2150 839.244 L2156.3 839.244 L2171.62 868.156 L2171.62 839.244 L2176.16 839.244 L2176.16 873.804 L2169.86 873.804 L2154.54 844.892 L2154.54 873.804 L2150 873.804 L2150 839.244 Z\" fill=\"#000000\" fill-rule=\"evenodd\" fill-opacity=\"1\" /><path clip-path=\"url(#clip880)\" d=\"M 0 0 M2185.49 857.3 L2185.49 869.962 L2192.99 869.962 Q2196.76 869.962 2198.57 868.411 Q2200.39 866.837 2200.39 863.619 Q2200.39 860.378 2198.57 858.85 Q2196.76 857.3 2192.99 857.3 L2185.49 857.3 M2185.49 843.087 L2185.49 853.503 L2192.41 853.503 Q2195.83 853.503 2197.5 852.23 Q2199.19 850.934 2199.19 848.295 Q2199.19 845.679 2197.5 844.383 Q2195.83 843.087 2192.41 843.087 L2185.49 843.087 M2180.81 839.244 L2192.76 839.244 Q2198.1 839.244 2201 841.466 Q2203.89 843.689 2203.89 847.786 Q2203.89 850.957 2202.41 852.832 Q2200.93 854.707 2198.06 855.17 Q2201.51 855.911 2203.4 858.272 Q2205.33 860.61 2205.33 864.128 Q2205.33 868.758 2202.18 871.281 Q2199.03 873.804 2193.22 873.804 L2180.81 873.804 L2180.81 839.244 Z\" fill=\"#000000\" fill-rule=\"evenodd\" fill-opacity=\"1\" /><path clip-path=\"url(#clip880)\" d=\"M 0 0 M2209.98 839.244 L2231.83 839.244 L2231.83 843.179 L2214.65 843.179 L2214.65 853.411 L2231.11 853.411 L2231.11 857.346 L2214.65 857.346 L2214.65 869.869 L2232.25 869.869 L2232.25 873.804 L2209.98 873.804 L2209.98 839.244 Z\" fill=\"#000000\" fill-rule=\"evenodd\" fill-opacity=\"1\" /><polyline clip-path=\"url(#clip880)\" style=\"stroke:#608cf6; stroke-width:4; stroke-opacity:1; fill:none\" points=\"\n",
       "  1982,917.004 2126,917.004 \n",
       "  \"/>\n",
       "<path clip-path=\"url(#clip880)\" d=\"M 0 0 M2150 899.724 L2156.3 899.724 L2171.62 928.636 L2171.62 899.724 L2176.16 899.724 L2176.16 934.284 L2169.86 934.284 L2154.54 905.372 L2154.54 934.284 L2150 934.284 L2150 899.724 Z\" fill=\"#000000\" fill-rule=\"evenodd\" fill-opacity=\"1\" /><path clip-path=\"url(#clip880)\" d=\"M 0 0 M2185.49 917.78 L2185.49 930.442 L2192.99 930.442 Q2196.76 930.442 2198.57 928.891 Q2200.39 927.317 2200.39 924.099 Q2200.39 920.858 2198.57 919.33 Q2196.76 917.78 2192.99 917.78 L2185.49 917.78 M2185.49 903.567 L2185.49 913.983 L2192.41 913.983 Q2195.83 913.983 2197.5 912.71 Q2199.19 911.414 2199.19 908.775 Q2199.19 906.159 2197.5 904.863 Q2195.83 903.567 2192.41 903.567 L2185.49 903.567 M2180.81 899.724 L2192.76 899.724 Q2198.1 899.724 2201 901.946 Q2203.89 904.169 2203.89 908.266 Q2203.89 911.437 2202.41 913.312 Q2200.93 915.187 2198.06 915.65 Q2201.51 916.391 2203.4 918.752 Q2205.33 921.09 2205.33 924.608 Q2205.33 929.238 2202.18 931.761 Q2199.03 934.284 2193.22 934.284 L2180.81 934.284 L2180.81 899.724 Z\" fill=\"#000000\" fill-rule=\"evenodd\" fill-opacity=\"1\" /><path clip-path=\"url(#clip880)\" d=\"M 0 0 M2209.98 899.724 L2231.83 899.724 L2231.83 903.659 L2214.65 903.659 L2214.65 913.891 L2231.11 913.891 L2231.11 917.826 L2214.65 917.826 L2214.65 930.349 L2232.25 930.349 L2232.25 934.284 L2209.98 934.284 L2209.98 899.724 Z\" fill=\"#000000\" fill-rule=\"evenodd\" fill-opacity=\"1\" /><polyline clip-path=\"url(#clip880)\" style=\"stroke:#f05f73; stroke-width:4; stroke-opacity:1; fill:none\" points=\"\n",
       "  1982,977.484 2126,977.484 \n",
       "  \"/>\n",
       "<path clip-path=\"url(#clip880)\" d=\"M 0 0 M2150 960.204 L2156.3 960.204 L2171.62 989.116 L2171.62 960.204 L2176.16 960.204 L2176.16 994.764 L2169.86 994.764 L2154.54 965.852 L2154.54 994.764 L2150 994.764 L2150 960.204 Z\" fill=\"#000000\" fill-rule=\"evenodd\" fill-opacity=\"1\" /><path clip-path=\"url(#clip880)\" d=\"M 0 0 M2185.49 978.26 L2185.49 990.922 L2192.99 990.922 Q2196.76 990.922 2198.57 989.371 Q2200.39 987.797 2200.39 984.579 Q2200.39 981.338 2198.57 979.81 Q2196.76 978.26 2192.99 978.26 L2185.49 978.26 M2185.49 964.047 L2185.49 974.463 L2192.41 974.463 Q2195.83 974.463 2197.5 973.19 Q2199.19 971.894 2199.19 969.255 Q2199.19 966.639 2197.5 965.343 Q2195.83 964.047 2192.41 964.047 L2185.49 964.047 M2180.81 960.204 L2192.76 960.204 Q2198.1 960.204 2201 962.426 Q2203.89 964.649 2203.89 968.746 Q2203.89 971.917 2202.41 973.792 Q2200.93 975.667 2198.06 976.13 Q2201.51 976.871 2203.4 979.232 Q2205.33 981.57 2205.33 985.088 Q2205.33 989.718 2202.18 992.241 Q2199.03 994.764 2193.22 994.764 L2180.81 994.764 L2180.81 960.204 Z\" fill=\"#000000\" fill-rule=\"evenodd\" fill-opacity=\"1\" /><path clip-path=\"url(#clip880)\" d=\"M 0 0 M2209.98 960.204 L2231.83 960.204 L2231.83 964.139 L2214.65 964.139 L2214.65 974.371 L2231.11 974.371 L2231.11 978.306 L2214.65 978.306 L2214.65 990.829 L2232.25 990.829 L2232.25 994.764 L2209.98 994.764 L2209.98 960.204 Z\" fill=\"#000000\" fill-rule=\"evenodd\" fill-opacity=\"1\" /><polyline clip-path=\"url(#clip880)\" style=\"stroke:#dd64b5; stroke-width:4; stroke-opacity:1; fill:none\" points=\"\n",
       "  1982,1037.96 2126,1037.96 \n",
       "  \"/>\n",
       "<path clip-path=\"url(#clip880)\" d=\"M 0 0 M2150 1020.68 L2156.3 1020.68 L2171.62 1049.6 L2171.62 1020.68 L2176.16 1020.68 L2176.16 1055.24 L2169.86 1055.24 L2154.54 1026.33 L2154.54 1055.24 L2150 1055.24 L2150 1020.68 Z\" fill=\"#000000\" fill-rule=\"evenodd\" fill-opacity=\"1\" /><path clip-path=\"url(#clip880)\" d=\"M 0 0 M2185.49 1038.74 L2185.49 1051.4 L2192.99 1051.4 Q2196.76 1051.4 2198.57 1049.85 Q2200.39 1048.28 2200.39 1045.06 Q2200.39 1041.82 2198.57 1040.29 Q2196.76 1038.74 2192.99 1038.74 L2185.49 1038.74 M2185.49 1024.53 L2185.49 1034.94 L2192.41 1034.94 Q2195.83 1034.94 2197.5 1033.67 Q2199.19 1032.37 2199.19 1029.73 Q2199.19 1027.12 2197.5 1025.82 Q2195.83 1024.53 2192.41 1024.53 L2185.49 1024.53 M2180.81 1020.68 L2192.76 1020.68 Q2198.1 1020.68 2201 1022.91 Q2203.89 1025.13 2203.89 1029.23 Q2203.89 1032.4 2202.41 1034.27 Q2200.93 1036.15 2198.06 1036.61 Q2201.51 1037.35 2203.4 1039.71 Q2205.33 1042.05 2205.33 1045.57 Q2205.33 1050.2 2202.18 1052.72 Q2199.03 1055.24 2193.22 1055.24 L2180.81 1055.24 L2180.81 1020.68 Z\" fill=\"#000000\" fill-rule=\"evenodd\" fill-opacity=\"1\" /><path clip-path=\"url(#clip880)\" d=\"M 0 0 M2209.98 1020.68 L2231.83 1020.68 L2231.83 1024.62 L2214.65 1024.62 L2214.65 1034.85 L2231.11 1034.85 L2231.11 1038.79 L2214.65 1038.79 L2214.65 1051.31 L2232.25 1051.31 L2232.25 1055.24 L2209.98 1055.24 L2209.98 1020.68 Z\" fill=\"#000000\" fill-rule=\"evenodd\" fill-opacity=\"1\" /><polyline clip-path=\"url(#clip880)\" style=\"stroke:#6b9e32; stroke-width:4; stroke-opacity:1; fill:none\" points=\"\n",
       "  1982,1098.44 2126,1098.44 \n",
       "  \"/>\n",
       "<path clip-path=\"url(#clip880)\" d=\"M 0 0 M2150 1081.16 L2156.3 1081.16 L2171.62 1110.08 L2171.62 1081.16 L2176.16 1081.16 L2176.16 1115.72 L2169.86 1115.72 L2154.54 1086.81 L2154.54 1115.72 L2150 1115.72 L2150 1081.16 Z\" fill=\"#000000\" fill-rule=\"evenodd\" fill-opacity=\"1\" /><path clip-path=\"url(#clip880)\" d=\"M 0 0 M2185.49 1099.22 L2185.49 1111.88 L2192.99 1111.88 Q2196.76 1111.88 2198.57 1110.33 Q2200.39 1108.76 2200.39 1105.54 Q2200.39 1102.3 2198.57 1100.77 Q2196.76 1099.22 2192.99 1099.22 L2185.49 1099.22 M2185.49 1085.01 L2185.49 1095.42 L2192.41 1095.42 Q2195.83 1095.42 2197.5 1094.15 Q2199.19 1092.85 2199.19 1090.21 Q2199.19 1087.6 2197.5 1086.3 Q2195.83 1085.01 2192.41 1085.01 L2185.49 1085.01 M2180.81 1081.16 L2192.76 1081.16 Q2198.1 1081.16 2201 1083.39 Q2203.89 1085.61 2203.89 1089.71 Q2203.89 1092.88 2202.41 1094.75 Q2200.93 1096.63 2198.06 1097.09 Q2201.51 1097.83 2203.4 1100.19 Q2205.33 1102.53 2205.33 1106.05 Q2205.33 1110.68 2202.18 1113.2 Q2199.03 1115.72 2193.22 1115.72 L2180.81 1115.72 L2180.81 1081.16 Z\" fill=\"#000000\" fill-rule=\"evenodd\" fill-opacity=\"1\" /><path clip-path=\"url(#clip880)\" d=\"M 0 0 M2209.98 1081.16 L2231.83 1081.16 L2231.83 1085.1 L2214.65 1085.1 L2214.65 1095.33 L2231.11 1095.33 L2231.11 1099.27 L2214.65 1099.27 L2214.65 1111.79 L2232.25 1111.79 L2232.25 1115.72 L2209.98 1115.72 L2209.98 1081.16 Z\" fill=\"#000000\" fill-rule=\"evenodd\" fill-opacity=\"1\" /><polyline clip-path=\"url(#clip880)\" style=\"stroke:#009af9; stroke-width:4; stroke-opacity:1; fill:none\" points=\"\n",
       "  1982,1158.92 2126,1158.92 \n",
       "  \"/>\n",
       "<path clip-path=\"url(#clip880)\" d=\"M 0 0 M2150 1141.64 L2156.3 1141.64 L2171.62 1170.56 L2171.62 1141.64 L2176.16 1141.64 L2176.16 1176.2 L2169.86 1176.2 L2154.54 1147.29 L2154.54 1176.2 L2150 1176.2 L2150 1141.64 Z\" fill=\"#000000\" fill-rule=\"evenodd\" fill-opacity=\"1\" /><path clip-path=\"url(#clip880)\" d=\"M 0 0 M2185.49 1159.7 L2185.49 1172.36 L2192.99 1172.36 Q2196.76 1172.36 2198.57 1170.81 Q2200.39 1169.24 2200.39 1166.02 Q2200.39 1162.78 2198.57 1161.25 Q2196.76 1159.7 2192.99 1159.7 L2185.49 1159.7 M2185.49 1145.49 L2185.49 1155.9 L2192.41 1155.9 Q2195.83 1155.9 2197.5 1154.63 Q2199.19 1153.33 2199.19 1150.69 Q2199.19 1148.08 2197.5 1146.78 Q2195.83 1145.49 2192.41 1145.49 L2185.49 1145.49 M2180.81 1141.64 L2192.76 1141.64 Q2198.1 1141.64 2201 1143.87 Q2203.89 1146.09 2203.89 1150.19 Q2203.89 1153.36 2202.41 1155.23 Q2200.93 1157.11 2198.06 1157.57 Q2201.51 1158.31 2203.4 1160.67 Q2205.33 1163.01 2205.33 1166.53 Q2205.33 1171.16 2202.18 1173.68 Q2199.03 1176.2 2193.22 1176.2 L2180.81 1176.2 L2180.81 1141.64 Z\" fill=\"#000000\" fill-rule=\"evenodd\" fill-opacity=\"1\" /><path clip-path=\"url(#clip880)\" d=\"M 0 0 M2209.98 1141.64 L2231.83 1141.64 L2231.83 1145.58 L2214.65 1145.58 L2214.65 1155.81 L2231.11 1155.81 L2231.11 1159.75 L2214.65 1159.75 L2214.65 1172.27 L2232.25 1172.27 L2232.25 1176.2 L2209.98 1176.2 L2209.98 1141.64 Z\" fill=\"#000000\" fill-rule=\"evenodd\" fill-opacity=\"1\" /><polyline clip-path=\"url(#clip880)\" style=\"stroke:#e26f46; stroke-width:4; stroke-opacity:1; fill:none\" points=\"\n",
       "  1982,1219.4 2126,1219.4 \n",
       "  \"/>\n",
       "<path clip-path=\"url(#clip880)\" d=\"M 0 0 M2150 1202.12 L2156.3 1202.12 L2171.62 1231.04 L2171.62 1202.12 L2176.16 1202.12 L2176.16 1236.68 L2169.86 1236.68 L2154.54 1207.77 L2154.54 1236.68 L2150 1236.68 L2150 1202.12 Z\" fill=\"#000000\" fill-rule=\"evenodd\" fill-opacity=\"1\" /><path clip-path=\"url(#clip880)\" d=\"M 0 0 M2185.49 1220.18 L2185.49 1232.84 L2192.99 1232.84 Q2196.76 1232.84 2198.57 1231.29 Q2200.39 1229.72 2200.39 1226.5 Q2200.39 1223.26 2198.57 1221.73 Q2196.76 1220.18 2192.99 1220.18 L2185.49 1220.18 M2185.49 1205.97 L2185.49 1216.38 L2192.41 1216.38 Q2195.83 1216.38 2197.5 1215.11 Q2199.19 1213.81 2199.19 1211.17 Q2199.19 1208.56 2197.5 1207.26 Q2195.83 1205.97 2192.41 1205.97 L2185.49 1205.97 M2180.81 1202.12 L2192.76 1202.12 Q2198.1 1202.12 2201 1204.35 Q2203.89 1206.57 2203.89 1210.67 Q2203.89 1213.84 2202.41 1215.71 Q2200.93 1217.59 2198.06 1218.05 Q2201.51 1218.79 2203.4 1221.15 Q2205.33 1223.49 2205.33 1227.01 Q2205.33 1231.64 2202.18 1234.16 Q2199.03 1236.68 2193.22 1236.68 L2180.81 1236.68 L2180.81 1202.12 Z\" fill=\"#000000\" fill-rule=\"evenodd\" fill-opacity=\"1\" /><path clip-path=\"url(#clip880)\" d=\"M 0 0 M2209.98 1202.12 L2231.83 1202.12 L2231.83 1206.06 L2214.65 1206.06 L2214.65 1216.29 L2231.11 1216.29 L2231.11 1220.23 L2214.65 1220.23 L2214.65 1232.75 L2232.25 1232.75 L2232.25 1236.68 L2209.98 1236.68 L2209.98 1202.12 Z\" fill=\"#000000\" fill-rule=\"evenodd\" fill-opacity=\"1\" /><polyline clip-path=\"url(#clip880)\" style=\"stroke:#3da44d; stroke-width:4; stroke-opacity:1; fill:none\" points=\"\n",
       "  1982,1279.88 2126,1279.88 \n",
       "  \"/>\n",
       "<path clip-path=\"url(#clip880)\" d=\"M 0 0 M2150 1262.6 L2156.3 1262.6 L2171.62 1291.52 L2171.62 1262.6 L2176.16 1262.6 L2176.16 1297.16 L2169.86 1297.16 L2154.54 1268.25 L2154.54 1297.16 L2150 1297.16 L2150 1262.6 Z\" fill=\"#000000\" fill-rule=\"evenodd\" fill-opacity=\"1\" /><path clip-path=\"url(#clip880)\" d=\"M 0 0 M2185.49 1280.66 L2185.49 1293.32 L2192.99 1293.32 Q2196.76 1293.32 2198.57 1291.77 Q2200.39 1290.2 2200.39 1286.98 Q2200.39 1283.74 2198.57 1282.21 Q2196.76 1280.66 2192.99 1280.66 L2185.49 1280.66 M2185.49 1266.45 L2185.49 1276.86 L2192.41 1276.86 Q2195.83 1276.86 2197.5 1275.59 Q2199.19 1274.29 2199.19 1271.65 Q2199.19 1269.04 2197.5 1267.74 Q2195.83 1266.45 2192.41 1266.45 L2185.49 1266.45 M2180.81 1262.6 L2192.76 1262.6 Q2198.1 1262.6 2201 1264.83 Q2203.89 1267.05 2203.89 1271.15 Q2203.89 1274.32 2202.41 1276.19 Q2200.93 1278.07 2198.06 1278.53 Q2201.51 1279.27 2203.4 1281.63 Q2205.33 1283.97 2205.33 1287.49 Q2205.33 1292.12 2202.18 1294.64 Q2199.03 1297.16 2193.22 1297.16 L2180.81 1297.16 L2180.81 1262.6 Z\" fill=\"#000000\" fill-rule=\"evenodd\" fill-opacity=\"1\" /><path clip-path=\"url(#clip880)\" d=\"M 0 0 M2209.98 1262.6 L2231.83 1262.6 L2231.83 1266.54 L2214.65 1266.54 L2214.65 1276.77 L2231.11 1276.77 L2231.11 1280.71 L2214.65 1280.71 L2214.65 1293.23 L2232.25 1293.23 L2232.25 1297.16 L2209.98 1297.16 L2209.98 1262.6 Z\" fill=\"#000000\" fill-rule=\"evenodd\" fill-opacity=\"1\" /><polyline clip-path=\"url(#clip880)\" style=\"stroke:#c271d2; stroke-width:4; stroke-opacity:1; fill:none\" points=\"\n",
       "  1982,1340.36 2126,1340.36 \n",
       "  \"/>\n",
       "<path clip-path=\"url(#clip880)\" d=\"M 0 0 M2150 1323.08 L2156.3 1323.08 L2171.62 1352 L2171.62 1323.08 L2176.16 1323.08 L2176.16 1357.64 L2169.86 1357.64 L2154.54 1328.73 L2154.54 1357.64 L2150 1357.64 L2150 1323.08 Z\" fill=\"#000000\" fill-rule=\"evenodd\" fill-opacity=\"1\" /><path clip-path=\"url(#clip880)\" d=\"M 0 0 M2185.49 1341.14 L2185.49 1353.8 L2192.99 1353.8 Q2196.76 1353.8 2198.57 1352.25 Q2200.39 1350.68 2200.39 1347.46 Q2200.39 1344.22 2198.57 1342.69 Q2196.76 1341.14 2192.99 1341.14 L2185.49 1341.14 M2185.49 1326.93 L2185.49 1337.34 L2192.41 1337.34 Q2195.83 1337.34 2197.5 1336.07 Q2199.19 1334.77 2199.19 1332.13 Q2199.19 1329.52 2197.5 1328.22 Q2195.83 1326.93 2192.41 1326.93 L2185.49 1326.93 M2180.81 1323.08 L2192.76 1323.08 Q2198.1 1323.08 2201 1325.31 Q2203.89 1327.53 2203.89 1331.63 Q2203.89 1334.8 2202.41 1336.67 Q2200.93 1338.55 2198.06 1339.01 Q2201.51 1339.75 2203.4 1342.11 Q2205.33 1344.45 2205.33 1347.97 Q2205.33 1352.6 2202.18 1355.12 Q2199.03 1357.64 2193.22 1357.64 L2180.81 1357.64 L2180.81 1323.08 Z\" fill=\"#000000\" fill-rule=\"evenodd\" fill-opacity=\"1\" /><path clip-path=\"url(#clip880)\" d=\"M 0 0 M2209.98 1323.08 L2231.83 1323.08 L2231.83 1327.02 L2214.65 1327.02 L2214.65 1337.25 L2231.11 1337.25 L2231.11 1341.19 L2214.65 1341.19 L2214.65 1353.71 L2232.25 1353.71 L2232.25 1357.64 L2209.98 1357.64 L2209.98 1323.08 Z\" fill=\"#000000\" fill-rule=\"evenodd\" fill-opacity=\"1\" /><polyline clip-path=\"url(#clip880)\" style=\"stroke:#ac8d18; stroke-width:4; stroke-opacity:1; fill:none\" points=\"\n",
       "  1982,1400.84 2126,1400.84 \n",
       "  \"/>\n",
       "<path clip-path=\"url(#clip880)\" d=\"M 0 0 M2150 1383.56 L2156.3 1383.56 L2171.62 1412.48 L2171.62 1383.56 L2176.16 1383.56 L2176.16 1418.12 L2169.86 1418.12 L2154.54 1389.21 L2154.54 1418.12 L2150 1418.12 L2150 1383.56 Z\" fill=\"#000000\" fill-rule=\"evenodd\" fill-opacity=\"1\" /><path clip-path=\"url(#clip880)\" d=\"M 0 0 M2185.49 1401.62 L2185.49 1414.28 L2192.99 1414.28 Q2196.76 1414.28 2198.57 1412.73 Q2200.39 1411.16 2200.39 1407.94 Q2200.39 1404.7 2198.57 1403.17 Q2196.76 1401.62 2192.99 1401.62 L2185.49 1401.62 M2185.49 1387.41 L2185.49 1397.82 L2192.41 1397.82 Q2195.83 1397.82 2197.5 1396.55 Q2199.19 1395.25 2199.19 1392.61 Q2199.19 1390 2197.5 1388.7 Q2195.83 1387.41 2192.41 1387.41 L2185.49 1387.41 M2180.81 1383.56 L2192.76 1383.56 Q2198.1 1383.56 2201 1385.79 Q2203.89 1388.01 2203.89 1392.11 Q2203.89 1395.28 2202.41 1397.15 Q2200.93 1399.03 2198.06 1399.49 Q2201.51 1400.23 2203.4 1402.59 Q2205.33 1404.93 2205.33 1408.45 Q2205.33 1413.08 2202.18 1415.6 Q2199.03 1418.12 2193.22 1418.12 L2180.81 1418.12 L2180.81 1383.56 Z\" fill=\"#000000\" fill-rule=\"evenodd\" fill-opacity=\"1\" /><path clip-path=\"url(#clip880)\" d=\"M 0 0 M2209.98 1383.56 L2231.83 1383.56 L2231.83 1387.5 L2214.65 1387.5 L2214.65 1397.73 L2231.11 1397.73 L2231.11 1401.67 L2214.65 1401.67 L2214.65 1414.19 L2232.25 1414.19 L2232.25 1418.12 L2209.98 1418.12 L2209.98 1383.56 Z\" fill=\"#000000\" fill-rule=\"evenodd\" fill-opacity=\"1\" /><polyline clip-path=\"url(#clip880)\" style=\"stroke:#00a9ad; stroke-width:4; stroke-opacity:1; fill:none\" points=\"\n",
       "  1982,1461.32 2126,1461.32 \n",
       "  \"/>\n",
       "<path clip-path=\"url(#clip880)\" d=\"M 0 0 M2150 1444.04 L2156.3 1444.04 L2171.62 1472.96 L2171.62 1444.04 L2176.16 1444.04 L2176.16 1478.6 L2169.86 1478.6 L2154.54 1449.69 L2154.54 1478.6 L2150 1478.6 L2150 1444.04 Z\" fill=\"#000000\" fill-rule=\"evenodd\" fill-opacity=\"1\" /><path clip-path=\"url(#clip880)\" d=\"M 0 0 M2185.49 1462.1 L2185.49 1474.76 L2192.99 1474.76 Q2196.76 1474.76 2198.57 1473.21 Q2200.39 1471.64 2200.39 1468.42 Q2200.39 1465.18 2198.57 1463.65 Q2196.76 1462.1 2192.99 1462.1 L2185.49 1462.1 M2185.49 1447.89 L2185.49 1458.3 L2192.41 1458.3 Q2195.83 1458.3 2197.5 1457.03 Q2199.19 1455.73 2199.19 1453.09 Q2199.19 1450.48 2197.5 1449.18 Q2195.83 1447.89 2192.41 1447.89 L2185.49 1447.89 M2180.81 1444.04 L2192.76 1444.04 Q2198.1 1444.04 2201 1446.27 Q2203.89 1448.49 2203.89 1452.59 Q2203.89 1455.76 2202.41 1457.63 Q2200.93 1459.51 2198.06 1459.97 Q2201.51 1460.71 2203.4 1463.07 Q2205.33 1465.41 2205.33 1468.93 Q2205.33 1473.56 2202.18 1476.08 Q2199.03 1478.6 2193.22 1478.6 L2180.81 1478.6 L2180.81 1444.04 Z\" fill=\"#000000\" fill-rule=\"evenodd\" fill-opacity=\"1\" /><path clip-path=\"url(#clip880)\" d=\"M 0 0 M2209.98 1444.04 L2231.83 1444.04 L2231.83 1447.98 L2214.65 1447.98 L2214.65 1458.21 L2231.11 1458.21 L2231.11 1462.15 L2214.65 1462.15 L2214.65 1474.67 L2232.25 1474.67 L2232.25 1478.6 L2209.98 1478.6 L2209.98 1444.04 Z\" fill=\"#000000\" fill-rule=\"evenodd\" fill-opacity=\"1\" /></svg>\n"
      ]
     },
     "execution_count": 16,
     "metadata": {},
     "output_type": "execute_result"
    }
   ],
   "source": [
    "plt = plot(vSpace.u[:,vSpace.nv÷2,vSpace.nw÷2], data_boltz_1D, label=\"FSM\", color=:black, xlabel=\"X\", ylabel=\"PDF\")\n",
    "#plt = plot!(vSpace.u[:,vSpace.nv÷2,vSpace.nw÷2], data_bgk_1D, label=\"BGK\", xlabel=\"X\", ylabel=\"PDF\")\n",
    "plt = plot!(vSpace.u[:,vSpace.nv÷2,vSpace.nw÷2], n_ode(f0_1D, res.minimizer) |> Array, label=\"NBE\")"
   ]
  },
  {
   "cell_type": "markdown",
   "metadata": {},
   "source": [
    "GPU"
   ]
  },
  {
   "cell_type": "code",
   "execution_count": 38,
   "metadata": {},
   "outputs": [
    {
     "data": {
      "text/plain": [
       "#37 (generic function with 1 method)"
      ]
     },
     "execution_count": 38,
     "metadata": {},
     "output_type": "execute_result"
    }
   ],
   "source": [
    "dudt2 = FastChain( (x, p) -> x.^2, # initial guess\n",
    "                   FastDense(vSpace.nu, vSpace.nu*nh, tanh), # our 1-layer network\n",
    "                   FastDense(vSpace.nu*nh, vSpace.nu) )\n",
    "n_ode2 = NeuralODE(dudt2, tspan, Tsit5(), saveat=tRange)\n",
    "p = initial_params(dudt2) |> gpu\n",
    "\n",
    "function loss_n_ode2(p)\n",
    "    pred = n_ode2(gpu(f0_1D), p) |> gpu\n",
    "    loss = sum(abs2, pred .- gpu(data_boltz_1D))\n",
    "    return loss, pred\n",
    "end\n",
    "\n",
    "cb = function (p, l, pred; doplot=false)\n",
    "    display(l)\n",
    "    return false\n",
    "end"
   ]
  },
  {
   "cell_type": "code",
   "execution_count": 39,
   "metadata": {},
   "outputs": [
    {
     "data": {
      "text/plain": [
       "0.07376544f0"
      ]
     },
     "metadata": {},
     "output_type": "display_data"
    },
    {
     "data": {
      "text/plain": [
       "0.019917317f0"
      ]
     },
     "metadata": {},
     "output_type": "display_data"
    },
    {
     "name": "stderr",
     "output_type": "stream",
     "text": [
      "\r",
      "\u001b[32mloss: 0.0199:   1%|▎                                        |  ETA: 0:00:18\u001b[39m"
     ]
    },
    {
     "data": {
      "text/plain": [
       "0.03696686f0"
      ]
     },
     "metadata": {},
     "output_type": "display_data"
    },
    {
     "data": {
      "text/plain": [
       "0.03363058f0"
      ]
     },
     "metadata": {},
     "output_type": "display_data"
    },
    {
     "data": {
      "text/plain": [
       "0.017370764f0"
      ]
     },
     "metadata": {},
     "output_type": "display_data"
    },
    {
     "name": "stderr",
     "output_type": "stream",
     "text": [
      "\r",
      "\u001b[32mloss: 0.0174:   2%|▋                                        |  ETA: 0:00:29\u001b[39m"
     ]
    },
    {
     "data": {
      "text/plain": [
       "0.009640194f0"
      ]
     },
     "metadata": {},
     "output_type": "display_data"
    },
    {
     "name": "stderr",
     "output_type": "stream",
     "text": [
      "\r",
      "\u001b[32mloss: 0.00964:   2%|▉                                        |  ETA: 0:00:28\u001b[39m"
     ]
    },
    {
     "data": {
      "text/plain": [
       "0.01133916f0"
      ]
     },
     "metadata": {},
     "output_type": "display_data"
    },
    {
     "name": "stderr",
     "output_type": "stream",
     "text": [
      "\r",
      "\u001b[32mloss: 0.0113:   2%|█                                        |  ETA: 0:00:29\u001b[39m"
     ]
    },
    {
     "data": {
      "text/plain": [
       "0.016366493f0"
      ]
     },
     "metadata": {},
     "output_type": "display_data"
    },
    {
     "name": "stderr",
     "output_type": "stream",
     "text": [
      "\r",
      "\u001b[32mloss: 0.0164:   3%|█▏                                       |  ETA: 0:00:29\u001b[39m"
     ]
    },
    {
     "data": {
      "text/plain": [
       "0.019057583f0"
      ]
     },
     "metadata": {},
     "output_type": "display_data"
    },
    {
     "name": "stderr",
     "output_type": "stream",
     "text": [
      "\r",
      "\u001b[32mloss: 0.0191:   3%|█▎                                       |  ETA: 0:00:29\u001b[39m"
     ]
    },
    {
     "data": {
      "text/plain": [
       "0.016425861f0"
      ]
     },
     "metadata": {},
     "output_type": "display_data"
    },
    {
     "name": "stderr",
     "output_type": "stream",
     "text": [
      "\r",
      "\u001b[32mloss: 0.0164:   3%|█▍                                       |  ETA: 0:00:29\u001b[39m"
     ]
    },
    {
     "data": {
      "text/plain": [
       "0.010771932f0"
      ]
     },
     "metadata": {},
     "output_type": "display_data"
    },
    {
     "name": "stderr",
     "output_type": "stream",
     "text": [
      "\r",
      "\u001b[32mloss: 0.0108:   4%|█▌                                       |  ETA: 0:00:30\u001b[39m"
     ]
    },
    {
     "data": {
      "text/plain": [
       "0.00653564f0"
      ]
     },
     "metadata": {},
     "output_type": "display_data"
    },
    {
     "name": "stderr",
     "output_type": "stream",
     "text": [
      "\r",
      "\u001b[32mloss: 0.00654:   4%|█▋                                       |  ETA: 0:00:29\u001b[39m"
     ]
    },
    {
     "data": {
      "text/plain": [
       "0.0059062187f0"
      ]
     },
     "metadata": {},
     "output_type": "display_data"
    },
    {
     "data": {
      "text/plain": [
       "0.007987535f0"
      ]
     },
     "metadata": {},
     "output_type": "display_data"
    },
    {
     "data": {
      "text/plain": [
       "0.0102908015f0"
      ]
     },
     "metadata": {},
     "output_type": "display_data"
    },
    {
     "name": "stderr",
     "output_type": "stream",
     "text": [
      "\r",
      "\u001b[32mloss: 0.0103:   5%|██                                       |  ETA: 0:00:28\u001b[39m"
     ]
    },
    {
     "data": {
      "text/plain": [
       "0.010806814f0"
      ]
     },
     "metadata": {},
     "output_type": "display_data"
    },
    {
     "data": {
      "text/plain": [
       "0.009347942f0"
      ]
     },
     "metadata": {},
     "output_type": "display_data"
    },
    {
     "name": "stderr",
     "output_type": "stream",
     "text": [
      "\r",
      "\u001b[32mloss: 0.00935:   6%|██▎                                      |  ETA: 0:00:27\u001b[39m"
     ]
    },
    {
     "data": {
      "text/plain": [
       "0.007157447f0"
      ]
     },
     "metadata": {},
     "output_type": "display_data"
    },
    {
     "data": {
      "text/plain": [
       "0.0056329956f0"
      ]
     },
     "metadata": {},
     "output_type": "display_data"
    },
    {
     "name": "stderr",
     "output_type": "stream",
     "text": [
      "\r",
      "\u001b[32mloss: 0.00563:   6%|██▋                                      |  ETA: 0:00:26\u001b[39m"
     ]
    },
    {
     "data": {
      "text/plain": [
       "0.005282329f0"
      ]
     },
     "metadata": {},
     "output_type": "display_data"
    },
    {
     "data": {
      "text/plain": [
       "0.005781139f0"
      ]
     },
     "metadata": {},
     "output_type": "display_data"
    },
    {
     "name": "stderr",
     "output_type": "stream",
     "text": [
      "\r",
      "\u001b[32mloss: 0.00578:   7%|██▉                                      |  ETA: 0:00:25\u001b[39m"
     ]
    },
    {
     "data": {
      "text/plain": [
       "0.006586618f0"
      ]
     },
     "metadata": {},
     "output_type": "display_data"
    },
    {
     "name": "stderr",
     "output_type": "stream",
     "text": [
      "\r",
      "\u001b[32mloss: 0.00659:   7%|███                                      |  ETA: 0:00:25\u001b[39m"
     ]
    },
    {
     "data": {
      "text/plain": [
       "0.007128751f0"
      ]
     },
     "metadata": {},
     "output_type": "display_data"
    },
    {
     "name": "stderr",
     "output_type": "stream",
     "text": [
      "\r",
      "\u001b[32mloss: 0.00713:   8%|███▏                                     |  ETA: 0:00:26\u001b[39m"
     ]
    },
    {
     "data": {
      "text/plain": [
       "0.0070433468f0"
      ]
     },
     "metadata": {},
     "output_type": "display_data"
    },
    {
     "name": "stderr",
     "output_type": "stream",
     "text": [
      "\r",
      "\u001b[32mloss: 0.00704:   8%|███▎                                     |  ETA: 0:00:26\u001b[39m"
     ]
    },
    {
     "data": {
      "text/plain": [
       "0.0064160773f0"
      ]
     },
     "metadata": {},
     "output_type": "display_data"
    },
    {
     "name": "stderr",
     "output_type": "stream",
     "text": [
      "\r",
      "\u001b[32mloss: 0.00642:   8%|███▍                                     |  ETA: 0:00:26\u001b[39m"
     ]
    },
    {
     "data": {
      "text/plain": [
       "0.005581477f0"
      ]
     },
     "metadata": {},
     "output_type": "display_data"
    },
    {
     "data": {
      "text/plain": [
       "0.0049035177f0"
      ]
     },
     "metadata": {},
     "output_type": "display_data"
    },
    {
     "data": {
      "text/plain": [
       "0.004685529f0"
      ]
     },
     "metadata": {},
     "output_type": "display_data"
    },
    {
     "data": {
      "text/plain": [
       "0.004948025f0"
      ]
     },
     "metadata": {},
     "output_type": "display_data"
    },
    {
     "name": "stderr",
     "output_type": "stream",
     "text": [
      "\r",
      "\u001b[32mloss: 0.00495:  10%|███▉                                     |  ETA: 0:00:25\u001b[39m"
     ]
    },
    {
     "data": {
      "text/plain": [
       "0.005373993f0"
      ]
     },
     "metadata": {},
     "output_type": "display_data"
    },
    {
     "data": {
      "text/plain": [
       "0.0055888267f0"
      ]
     },
     "metadata": {},
     "output_type": "display_data"
    },
    {
     "name": "stderr",
     "output_type": "stream",
     "text": [
      "\r",
      "\u001b[32mloss: 0.00559:  10%|████▎                                    |  ETA: 0:00:24\u001b[39m"
     ]
    },
    {
     "data": {
      "text/plain": [
       "0.00545414f0"
      ]
     },
     "metadata": {},
     "output_type": "display_data"
    },
    {
     "data": {
      "text/plain": [
       "0.005082468f0"
      ]
     },
     "metadata": {},
     "output_type": "display_data"
    },
    {
     "name": "stderr",
     "output_type": "stream",
     "text": [
      "\r",
      "\u001b[32mloss: 0.00508:  11%|████▌                                    |  ETA: 0:00:24\u001b[39m"
     ]
    },
    {
     "data": {
      "text/plain": [
       "0.004679625f0"
      ]
     },
     "metadata": {},
     "output_type": "display_data"
    },
    {
     "data": {
      "text/plain": [
       "0.0044447063f0"
      ]
     },
     "metadata": {},
     "output_type": "display_data"
    },
    {
     "name": "stderr",
     "output_type": "stream",
     "text": [
      "\r",
      "\u001b[32mloss: 0.00444:  12%|████▊                                    |  ETA: 0:00:23\u001b[39m"
     ]
    },
    {
     "data": {
      "text/plain": [
       "0.004445754f0"
      ]
     },
     "metadata": {},
     "output_type": "display_data"
    },
    {
     "data": {
      "text/plain": [
       "0.0045783324f0"
      ]
     },
     "metadata": {},
     "output_type": "display_data"
    },
    {
     "name": "stderr",
     "output_type": "stream",
     "text": [
      "\r",
      "\u001b[32mloss: 0.00458:  12%|█████                                    |  ETA: 0:00:22\u001b[39m"
     ]
    },
    {
     "data": {
      "text/plain": [
       "0.004701671f0"
      ]
     },
     "metadata": {},
     "output_type": "display_data"
    },
    {
     "data": {
      "text/plain": [
       "0.0047239233f0"
      ]
     },
     "metadata": {},
     "output_type": "display_data"
    },
    {
     "name": "stderr",
     "output_type": "stream",
     "text": [
      "\r",
      "\u001b[32mloss: 0.00472:  13%|█████▍                                   |  ETA: 0:00:22\u001b[39m"
     ]
    },
    {
     "data": {
      "text/plain": [
       "0.0046229456f0"
      ]
     },
     "metadata": {},
     "output_type": "display_data"
    },
    {
     "name": "stderr",
     "output_type": "stream",
     "text": [
      "\r",
      "\u001b[32mloss: 0.00462:  13%|█████▌                                   |  ETA: 0:00:22\u001b[39m"
     ]
    },
    {
     "data": {
      "text/plain": [
       "0.0044427705f0"
      ]
     },
     "metadata": {},
     "output_type": "display_data"
    },
    {
     "name": "stderr",
     "output_type": "stream",
     "text": [
      "\r",
      "\u001b[32mloss: 0.00444:  14%|█████▋                                   |  ETA: 0:00:22\u001b[39m"
     ]
    },
    {
     "data": {
      "text/plain": [
       "0.0042543737f0"
      ]
     },
     "metadata": {},
     "output_type": "display_data"
    },
    {
     "data": {
      "text/plain": [
       "0.004139163f0"
      ]
     },
     "metadata": {},
     "output_type": "display_data"
    },
    {
     "data": {
      "text/plain": [
       "0.004146408f0"
      ]
     },
     "metadata": {},
     "output_type": "display_data"
    },
    {
     "data": {
      "text/plain": [
       "0.0042289263f0"
      ]
     },
     "metadata": {},
     "output_type": "display_data"
    },
    {
     "name": "stderr",
     "output_type": "stream",
     "text": [
      "\r",
      "\u001b[32mloss: 0.00423:  15%|██████▏                                  |  ETA: 0:00:22\u001b[39m"
     ]
    },
    {
     "data": {
      "text/plain": [
       "0.00427394f0"
      ]
     },
     "metadata": {},
     "output_type": "display_data"
    },
    {
     "data": {
      "text/plain": [
       "0.004217813f0"
      ]
     },
     "metadata": {},
     "output_type": "display_data"
    },
    {
     "name": "stderr",
     "output_type": "stream",
     "text": [
      "\r",
      "\u001b[32mloss: 0.00422:  16%|██████▍                                  |  ETA: 0:00:21\u001b[39m"
     ]
    },
    {
     "data": {
      "text/plain": [
       "0.0040987046f0"
      ]
     },
     "metadata": {},
     "output_type": "display_data"
    },
    {
     "data": {
      "text/plain": [
       "0.0039897338f0"
      ]
     },
     "metadata": {},
     "output_type": "display_data"
    },
    {
     "name": "stderr",
     "output_type": "stream",
     "text": [
      "\r",
      "\u001b[32mloss: 0.00399:  16%|██████▋                                  |  ETA: 0:00:21\u001b[39m"
     ]
    },
    {
     "data": {
      "text/plain": [
       "0.0039223633f0"
      ]
     },
     "metadata": {},
     "output_type": "display_data"
    },
    {
     "data": {
      "text/plain": [
       "0.0039008905f0"
      ]
     },
     "metadata": {},
     "output_type": "display_data"
    },
    {
     "name": "stderr",
     "output_type": "stream",
     "text": [
      "\r",
      "\u001b[32mloss: 0.0039:  17%|███████                                  |  ETA: 0:00:20\u001b[39m"
     ]
    },
    {
     "data": {
      "text/plain": [
       "0.003910265f0"
      ]
     },
     "metadata": {},
     "output_type": "display_data"
    },
    {
     "data": {
      "text/plain": [
       "0.003912722f0"
      ]
     },
     "metadata": {},
     "output_type": "display_data"
    },
    {
     "name": "stderr",
     "output_type": "stream",
     "text": [
      "\r",
      "\u001b[32mloss: 0.00391:  18%|███████▎                                 |  ETA: 0:00:20\u001b[39m"
     ]
    },
    {
     "data": {
      "text/plain": [
       "0.0038831118f0"
      ]
     },
     "metadata": {},
     "output_type": "display_data"
    },
    {
     "data": {
      "text/plain": [
       "0.0038198498f0"
      ]
     },
     "metadata": {},
     "output_type": "display_data"
    },
    {
     "name": "stderr",
     "output_type": "stream",
     "text": [
      "\r",
      "\u001b[32mloss: 0.00382:  18%|███████▌                                 |  ETA: 0:00:20\u001b[39m"
     ]
    },
    {
     "data": {
      "text/plain": [
       "0.0037394036f0"
      ]
     },
     "metadata": {},
     "output_type": "display_data"
    },
    {
     "data": {
      "text/plain": [
       "0.003674901f0"
      ]
     },
     "metadata": {},
     "output_type": "display_data"
    },
    {
     "name": "stderr",
     "output_type": "stream",
     "text": [
      "\r",
      "\u001b[32mloss: 0.00367:  19%|███████▊                                 |  ETA: 0:00:19\u001b[39m"
     ]
    },
    {
     "data": {
      "text/plain": [
       "0.0036536865f0"
      ]
     },
     "metadata": {},
     "output_type": "display_data"
    },
    {
     "data": {
      "text/plain": [
       "0.003652525f0"
      ]
     },
     "metadata": {},
     "output_type": "display_data"
    },
    {
     "name": "stderr",
     "output_type": "stream",
     "text": [
      "\r",
      "\u001b[32mloss: 0.00365:  20%|████████                                 |  ETA: 0:00:19\u001b[39m"
     ]
    },
    {
     "data": {
      "text/plain": [
       "0.0036321364f0"
      ]
     },
     "metadata": {},
     "output_type": "display_data"
    },
    {
     "data": {
      "text/plain": [
       "0.0035890697f0"
      ]
     },
     "metadata": {},
     "output_type": "display_data"
    },
    {
     "data": {
      "text/plain": [
       "0.0035355017f0"
      ]
     },
     "metadata": {},
     "output_type": "display_data"
    },
    {
     "data": {
      "text/plain": [
       "0.0034817636f0"
      ]
     },
     "metadata": {},
     "output_type": "display_data"
    },
    {
     "name": "stderr",
     "output_type": "stream",
     "text": [
      "\r",
      "\u001b[32mloss: 0.00348:  21%|████████▋                                |  ETA: 0:00:19\u001b[39m"
     ]
    },
    {
     "data": {
      "text/plain": [
       "0.0034405065f0"
      ]
     },
     "metadata": {},
     "output_type": "display_data"
    },
    {
     "data": {
      "text/plain": [
       "0.0034136227f0"
      ]
     },
     "metadata": {},
     "output_type": "display_data"
    },
    {
     "name": "stderr",
     "output_type": "stream",
     "text": [
      "\r",
      "\u001b[32mloss: 0.00341:  22%|████████▉                                |  ETA: 0:00:19\u001b[39m"
     ]
    },
    {
     "data": {
      "text/plain": [
       "0.003390714f0"
      ]
     },
     "metadata": {},
     "output_type": "display_data"
    },
    {
     "data": {
      "text/plain": [
       "0.0033620642f0"
      ]
     },
     "metadata": {},
     "output_type": "display_data"
    },
    {
     "name": "stderr",
     "output_type": "stream",
     "text": [
      "\r",
      "\u001b[32mloss: 0.00336:  22%|█████████▏                               |  ETA: 0:00:18\u001b[39m"
     ]
    },
    {
     "data": {
      "text/plain": [
       "0.0033198516f0"
      ]
     },
     "metadata": {},
     "output_type": "display_data"
    },
    {
     "data": {
      "text/plain": [
       "0.0032699115f0"
      ]
     },
     "metadata": {},
     "output_type": "display_data"
    },
    {
     "name": "stderr",
     "output_type": "stream",
     "text": [
      "\r",
      "\u001b[32mloss: 0.00327:  23%|█████████▍                               |  ETA: 0:00:18\u001b[39m"
     ]
    },
    {
     "data": {
      "text/plain": [
       "0.0032258043f0"
      ]
     },
     "metadata": {},
     "output_type": "display_data"
    },
    {
     "data": {
      "text/plain": [
       "0.0031921286f0"
      ]
     },
     "metadata": {},
     "output_type": "display_data"
    },
    {
     "name": "stderr",
     "output_type": "stream",
     "text": [
      "\r",
      "\u001b[32mloss: 0.00319:  24%|█████████▋                               |  ETA: 0:00:18\u001b[39m"
     ]
    },
    {
     "data": {
      "text/plain": [
       "0.0031642057f0"
      ]
     },
     "metadata": {},
     "output_type": "display_data"
    },
    {
     "data": {
      "text/plain": [
       "0.0031328185f0"
      ]
     },
     "metadata": {},
     "output_type": "display_data"
    },
    {
     "name": "stderr",
     "output_type": "stream",
     "text": [
      "\r",
      "\u001b[32mloss: 0.00313:  24%|██████████                               |  ETA: 0:00:17\u001b[39m"
     ]
    },
    {
     "data": {
      "text/plain": [
       "0.0030930033f0"
      ]
     },
     "metadata": {},
     "output_type": "display_data"
    },
    {
     "data": {
      "text/plain": [
       "0.0030493375f0"
      ]
     },
     "metadata": {},
     "output_type": "display_data"
    },
    {
     "name": "stderr",
     "output_type": "stream",
     "text": [
      "\r",
      "\u001b[32mloss: 0.00305:  25%|██████████▎                              |  ETA: 0:00:17\u001b[39m"
     ]
    },
    {
     "data": {
      "text/plain": [
       "0.0030078387f0"
      ]
     },
     "metadata": {},
     "output_type": "display_data"
    },
    {
     "data": {
      "text/plain": [
       "0.0029716196f0"
      ]
     },
     "metadata": {},
     "output_type": "display_data"
    },
    {
     "name": "stderr",
     "output_type": "stream",
     "text": [
      "\r",
      "\u001b[32mloss: 0.00297:  26%|██████████▌                              |  ETA: 0:00:17\u001b[39m"
     ]
    },
    {
     "data": {
      "text/plain": [
       "0.0029388093f0"
      ]
     },
     "metadata": {},
     "output_type": "display_data"
    },
    {
     "data": {
      "text/plain": [
       "0.0029045073f0"
      ]
     },
     "metadata": {},
     "output_type": "display_data"
    },
    {
     "data": {
      "text/plain": [
       "0.0028664568f0"
      ]
     },
     "metadata": {},
     "output_type": "display_data"
    },
    {
     "data": {
      "text/plain": [
       "0.0028255114f0"
      ]
     },
     "metadata": {},
     "output_type": "display_data"
    },
    {
     "name": "stderr",
     "output_type": "stream",
     "text": [
      "\r",
      "\u001b[32mloss: 0.00283:  27%|███████████▏                             |  ETA: 0:00:17\u001b[39m"
     ]
    },
    {
     "data": {
      "text/plain": [
       "0.0027847728f0"
      ]
     },
     "metadata": {},
     "output_type": "display_data"
    },
    {
     "data": {
      "text/plain": [
       "0.002747743f0"
      ]
     },
     "metadata": {},
     "output_type": "display_data"
    },
    {
     "name": "stderr",
     "output_type": "stream",
     "text": [
      "\r",
      "\u001b[32mloss: 0.00275:  28%|███████████▍                             |  ETA: 0:00:16\u001b[39m"
     ]
    },
    {
     "data": {
      "text/plain": [
       "0.0027133075f0"
      ]
     },
     "metadata": {},
     "output_type": "display_data"
    },
    {
     "data": {
      "text/plain": [
       "0.0026772674f0"
      ]
     },
     "metadata": {},
     "output_type": "display_data"
    },
    {
     "name": "stderr",
     "output_type": "stream",
     "text": [
      "\r",
      "\u001b[32mloss: 0.00268:  28%|███████████▋                             |  ETA: 0:00:16\u001b[39m"
     ]
    },
    {
     "data": {
      "text/plain": [
       "0.0026383898f0"
      ]
     },
     "metadata": {},
     "output_type": "display_data"
    },
    {
     "data": {
      "text/plain": [
       "0.0025985488f0"
      ]
     },
     "metadata": {},
     "output_type": "display_data"
    },
    {
     "name": "stderr",
     "output_type": "stream",
     "text": [
      "\r",
      "\u001b[32mloss: 0.0026:  29%|███████████▉                             |  ETA: 0:00:16\u001b[39m"
     ]
    },
    {
     "data": {
      "text/plain": [
       "0.0025600707f0"
      ]
     },
     "metadata": {},
     "output_type": "display_data"
    },
    {
     "data": {
      "text/plain": [
       "0.0025235098f0"
      ]
     },
     "metadata": {},
     "output_type": "display_data"
    },
    {
     "name": "stderr",
     "output_type": "stream",
     "text": [
      "\r",
      "\u001b[32mloss: 0.00252:  30%|████████████▏                            |  ETA: 0:00:16\u001b[39m"
     ]
    },
    {
     "data": {
      "text/plain": [
       "0.002487362f0"
      ]
     },
     "metadata": {},
     "output_type": "display_data"
    },
    {
     "data": {
      "text/plain": [
       "0.0024502687f0"
      ]
     },
     "metadata": {},
     "output_type": "display_data"
    },
    {
     "name": "stderr",
     "output_type": "stream",
     "text": [
      "\r",
      "\u001b[32mloss: 0.00245:  30%|████████████▍                            |  ETA: 0:00:15\u001b[39m"
     ]
    },
    {
     "data": {
      "text/plain": [
       "0.0024120118f0"
      ]
     },
     "metadata": {},
     "output_type": "display_data"
    },
    {
     "data": {
      "text/plain": [
       "0.0023735322f0"
      ]
     },
     "metadata": {},
     "output_type": "display_data"
    },
    {
     "name": "stderr",
     "output_type": "stream",
     "text": [
      "\r",
      "\u001b[32mloss: 0.00237:  31%|████████████▊                            |  ETA: 0:00:15\u001b[39m"
     ]
    },
    {
     "data": {
      "text/plain": [
       "0.0023359412f0"
      ]
     },
     "metadata": {},
     "output_type": "display_data"
    },
    {
     "data": {
      "text/plain": [
       "0.0022995144f0"
      ]
     },
     "metadata": {},
     "output_type": "display_data"
    },
    {
     "name": "stderr",
     "output_type": "stream",
     "text": [
      "\r",
      "\u001b[32mloss: 0.0023:  32%|█████████████                            |  ETA: 0:00:15\u001b[39m"
     ]
    },
    {
     "data": {
      "text/plain": [
       "0.0022633495f0"
      ]
     },
     "metadata": {},
     "output_type": "display_data"
    },
    {
     "name": "stderr",
     "output_type": "stream",
     "text": [
      "\r",
      "\u001b[32mloss: 0.00226:  32%|█████████████▏                           |  ETA: 0:00:15\u001b[39m"
     ]
    },
    {
     "data": {
      "text/plain": [
       "0.0022262332f0"
      ]
     },
     "metadata": {},
     "output_type": "display_data"
    },
    {
     "name": "stderr",
     "output_type": "stream",
     "text": [
      "\r",
      "\u001b[32mloss: 0.00223:  32%|█████████████▎                           |  ETA: 0:00:15\u001b[39m"
     ]
    },
    {
     "data": {
      "text/plain": [
       "0.0021885321f0"
      ]
     },
     "metadata": {},
     "output_type": "display_data"
    },
    {
     "name": "stderr",
     "output_type": "stream",
     "text": [
      "\r",
      "\u001b[32mloss: 0.00219:  33%|█████████████▍                           |  ETA: 0:00:15\u001b[39m"
     ]
    },
    {
     "data": {
      "text/plain": [
       "0.0021515342f0"
      ]
     },
     "metadata": {},
     "output_type": "display_data"
    },
    {
     "name": "stderr",
     "output_type": "stream",
     "text": [
      "\r",
      "\u001b[32mloss: 0.00215:  33%|█████████████▌                           |  ETA: 0:00:15\u001b[39m"
     ]
    },
    {
     "data": {
      "text/plain": [
       "0.0021154946f0"
      ]
     },
     "metadata": {},
     "output_type": "display_data"
    },
    {
     "name": "stderr",
     "output_type": "stream",
     "text": [
      "\r",
      "\u001b[32mloss: 0.00212:  33%|█████████████▋                           |  ETA: 0:00:15\u001b[39m"
     ]
    },
    {
     "data": {
      "text/plain": [
       "0.0020797157f0"
      ]
     },
     "metadata": {},
     "output_type": "display_data"
    },
    {
     "name": "stderr",
     "output_type": "stream",
     "text": [
      "\r",
      "\u001b[32mloss: 0.00208:  34%|█████████████▊                           |  ETA: 0:00:15\u001b[39m"
     ]
    },
    {
     "data": {
      "text/plain": [
       "0.0020436617f0"
      ]
     },
     "metadata": {},
     "output_type": "display_data"
    },
    {
     "name": "stderr",
     "output_type": "stream",
     "text": [
      "\r",
      "\u001b[32mloss: 0.00204:  34%|██████████████                           |  ETA: 0:00:15\u001b[39m"
     ]
    },
    {
     "data": {
      "text/plain": [
       "0.0020074174f0"
      ]
     },
     "metadata": {},
     "output_type": "display_data"
    },
    {
     "name": "stderr",
     "output_type": "stream",
     "text": [
      "\r",
      "\u001b[32mloss: 0.00201:  34%|██████████████▏                          |  ETA: 0:00:15\u001b[39m"
     ]
    },
    {
     "data": {
      "text/plain": [
       "0.001971416f0"
      ]
     },
     "metadata": {},
     "output_type": "display_data"
    },
    {
     "name": "stderr",
     "output_type": "stream",
     "text": [
      "\r",
      "\u001b[32mloss: 0.00197:  35%|██████████████▏                          |  ETA: 0:00:15\u001b[39m"
     ]
    },
    {
     "data": {
      "text/plain": [
       "0.001935996f0"
      ]
     },
     "metadata": {},
     "output_type": "display_data"
    },
    {
     "data": {
      "text/plain": [
       "0.0019010932f0"
      ]
     },
     "metadata": {},
     "output_type": "display_data"
    },
    {
     "data": {
      "text/plain": [
       "0.0018663494f0"
      ]
     },
     "metadata": {},
     "output_type": "display_data"
    },
    {
     "data": {
      "text/plain": [
       "0.0018314857f0"
      ]
     },
     "metadata": {},
     "output_type": "display_data"
    },
    {
     "name": "stderr",
     "output_type": "stream",
     "text": [
      "\r",
      "\u001b[32mloss: 0.00183:  36%|██████████████▊                          |  ETA: 0:00:15\u001b[39m"
     ]
    },
    {
     "data": {
      "text/plain": [
       "0.0017968132f0"
      ]
     },
     "metadata": {},
     "output_type": "display_data"
    },
    {
     "data": {
      "text/plain": [
       "0.0017627339f0"
      ]
     },
     "metadata": {},
     "output_type": "display_data"
    },
    {
     "name": "stderr",
     "output_type": "stream",
     "text": [
      "\r",
      "\u001b[32mloss: 0.00176:  37%|███████████████                          |  ETA: 0:00:15\u001b[39m"
     ]
    },
    {
     "data": {
      "text/plain": [
       "0.0017291603f0"
      ]
     },
     "metadata": {},
     "output_type": "display_data"
    },
    {
     "data": {
      "text/plain": [
       "0.0016957966f0"
      ]
     },
     "metadata": {},
     "output_type": "display_data"
    },
    {
     "name": "stderr",
     "output_type": "stream",
     "text": [
      "\r",
      "\u001b[32mloss: 0.0017:  37%|███████████████▎                         |  ETA: 0:00:15\u001b[39m"
     ]
    },
    {
     "data": {
      "text/plain": [
       "0.001662512f0"
      ]
     },
     "metadata": {},
     "output_type": "display_data"
    },
    {
     "data": {
      "text/plain": [
       "0.0016295349f0"
      ]
     },
     "metadata": {},
     "output_type": "display_data"
    },
    {
     "name": "stderr",
     "output_type": "stream",
     "text": [
      "\r",
      "\u001b[32mloss: 0.00163:  38%|███████████████▋                         |  ETA: 0:00:14\u001b[39m"
     ]
    },
    {
     "data": {
      "text/plain": [
       "0.0015970382f0"
      ]
     },
     "metadata": {},
     "output_type": "display_data"
    },
    {
     "data": {
      "text/plain": [
       "0.0015650039f0"
      ]
     },
     "metadata": {},
     "output_type": "display_data"
    },
    {
     "name": "stderr",
     "output_type": "stream",
     "text": [
      "\r",
      "\u001b[32mloss: 0.00157:  39%|███████████████▉                         |  ETA: 0:00:14\u001b[39m"
     ]
    },
    {
     "data": {
      "text/plain": [
       "0.0015333018f0"
      ]
     },
     "metadata": {},
     "output_type": "display_data"
    },
    {
     "data": {
      "text/plain": [
       "0.001501841f0"
      ]
     },
     "metadata": {},
     "output_type": "display_data"
    },
    {
     "name": "stderr",
     "output_type": "stream",
     "text": [
      "\r",
      "\u001b[32mloss: 0.0015:  39%|████████████████▏                        |  ETA: 0:00:14\u001b[39m"
     ]
    },
    {
     "data": {
      "text/plain": [
       "0.0014707204f0"
      ]
     },
     "metadata": {},
     "output_type": "display_data"
    },
    {
     "data": {
      "text/plain": [
       "0.0014400579f0"
      ]
     },
     "metadata": {},
     "output_type": "display_data"
    },
    {
     "name": "stderr",
     "output_type": "stream",
     "text": [
      "\r",
      "\u001b[32mloss: 0.00144:  40%|████████████████▍                        |  ETA: 0:00:14\u001b[39m"
     ]
    },
    {
     "data": {
      "text/plain": [
       "0.0014098719f0"
      ]
     },
     "metadata": {},
     "output_type": "display_data"
    },
    {
     "data": {
      "text/plain": [
       "0.0013800543f0"
      ]
     },
     "metadata": {},
     "output_type": "display_data"
    },
    {
     "name": "stderr",
     "output_type": "stream",
     "text": [
      "\r",
      "\u001b[32mloss: 0.00138:  41%|████████████████▋                        |  ETA: 0:00:14\u001b[39m"
     ]
    },
    {
     "data": {
      "text/plain": [
       "0.0013505446f0"
      ]
     },
     "metadata": {},
     "output_type": "display_data"
    },
    {
     "data": {
      "text/plain": [
       "0.001321419f0"
      ]
     },
     "metadata": {},
     "output_type": "display_data"
    },
    {
     "data": {
      "text/plain": [
       "0.001292767f0"
      ]
     },
     "metadata": {},
     "output_type": "display_data"
    },
    {
     "data": {
      "text/plain": [
       "0.001264573f0"
      ]
     },
     "metadata": {},
     "output_type": "display_data"
    },
    {
     "name": "stderr",
     "output_type": "stream",
     "text": [
      "\r",
      "\u001b[32mloss: 0.00126:  42%|█████████████████▎                       |  ETA: 0:00:13\u001b[39m"
     ]
    },
    {
     "data": {
      "text/plain": [
       "0.0012367684f0"
      ]
     },
     "metadata": {},
     "output_type": "display_data"
    },
    {
     "data": {
      "text/plain": [
       "0.0012093275f0"
      ]
     },
     "metadata": {},
     "output_type": "display_data"
    },
    {
     "name": "stderr",
     "output_type": "stream",
     "text": [
      "\r",
      "\u001b[32mloss: 0.00121:  43%|█████████████████▌                       |  ETA: 0:00:13\u001b[39m"
     ]
    },
    {
     "data": {
      "text/plain": [
       "0.0011823201f0"
      ]
     },
     "metadata": {},
     "output_type": "display_data"
    },
    {
     "data": {
      "text/plain": [
       "0.0011557764f0"
      ]
     },
     "metadata": {},
     "output_type": "display_data"
    },
    {
     "name": "stderr",
     "output_type": "stream",
     "text": [
      "\r",
      "\u001b[32mloss: 0.00116:  43%|█████████████████▊                       |  ETA: 0:00:13\u001b[39m"
     ]
    },
    {
     "data": {
      "text/plain": [
       "0.0011296695f0"
      ]
     },
     "metadata": {},
     "output_type": "display_data"
    },
    {
     "data": {
      "text/plain": [
       "0.0011039694f0"
      ]
     },
     "metadata": {},
     "output_type": "display_data"
    },
    {
     "name": "stderr",
     "output_type": "stream",
     "text": [
      "\r",
      "\u001b[32mloss: 0.0011:  44%|██████████████████                       |  ETA: 0:00:13\u001b[39m"
     ]
    },
    {
     "data": {
      "text/plain": [
       "0.0010786727f0"
      ]
     },
     "metadata": {},
     "output_type": "display_data"
    },
    {
     "data": {
      "text/plain": [
       "0.001053806f0"
      ]
     },
     "metadata": {},
     "output_type": "display_data"
    },
    {
     "name": "stderr",
     "output_type": "stream",
     "text": [
      "\r",
      "\u001b[32mloss: 0.00105:  45%|██████████████████▎                      |  ETA: 0:00:12\u001b[39m"
     ]
    },
    {
     "data": {
      "text/plain": [
       "0.0010293936f0"
      ]
     },
     "metadata": {},
     "output_type": "display_data"
    },
    {
     "data": {
      "text/plain": [
       "0.0010054177f0"
      ]
     },
     "metadata": {},
     "output_type": "display_data"
    },
    {
     "name": "stderr",
     "output_type": "stream",
     "text": [
      "\r",
      "\u001b[32mloss: 0.00101:  45%|██████████████████▋                      |  ETA: 0:00:12\u001b[39m"
     ]
    },
    {
     "data": {
      "text/plain": [
       "0.0009818476f0"
      ]
     },
     "metadata": {},
     "output_type": "display_data"
    },
    {
     "data": {
      "text/plain": [
       "0.0009586916f0"
      ]
     },
     "metadata": {},
     "output_type": "display_data"
    },
    {
     "name": "stderr",
     "output_type": "stream",
     "text": [
      "\r",
      "\u001b[32mloss: 0.000959:  46%|██████████████████▉                      |  ETA: 0:00:12\u001b[39m"
     ]
    },
    {
     "data": {
      "text/plain": [
       "0.0009359712f0"
      ]
     },
     "metadata": {},
     "output_type": "display_data"
    },
    {
     "data": {
      "text/plain": [
       "0.0009136903f0"
      ]
     },
     "metadata": {},
     "output_type": "display_data"
    },
    {
     "name": "stderr",
     "output_type": "stream",
     "text": [
      "\r",
      "\u001b[32mloss: 0.000914:  47%|███████████████████▏                     |  ETA: 0:00:12\u001b[39m"
     ]
    },
    {
     "data": {
      "text/plain": [
       "0.0008918232f0"
      ]
     },
     "metadata": {},
     "output_type": "display_data"
    },
    {
     "data": {
      "text/plain": [
       "0.00087035896f0"
      ]
     },
     "metadata": {},
     "output_type": "display_data"
    },
    {
     "data": {
      "text/plain": [
       "0.000849309f0"
      ]
     },
     "metadata": {},
     "output_type": "display_data"
    },
    {
     "data": {
      "text/plain": [
       "0.00082868146f0"
      ]
     },
     "metadata": {},
     "output_type": "display_data"
    },
    {
     "name": "stderr",
     "output_type": "stream",
     "text": [
      "\r",
      "\u001b[32mloss: 0.000829:  48%|███████████████████▋                     |  ETA: 0:00:12\u001b[39m"
     ]
    },
    {
     "data": {
      "text/plain": [
       "0.00080846576f0"
      ]
     },
     "metadata": {},
     "output_type": "display_data"
    },
    {
     "data": {
      "text/plain": [
       "0.0007886502f0"
      ]
     },
     "metadata": {},
     "output_type": "display_data"
    },
    {
     "name": "stderr",
     "output_type": "stream",
     "text": [
      "\r",
      "\u001b[32mloss: 0.000789:  49%|███████████████████▉                     |  ETA: 0:00:12\u001b[39m"
     ]
    },
    {
     "data": {
      "text/plain": [
       "0.0007692306f0"
      ]
     },
     "metadata": {},
     "output_type": "display_data"
    },
    {
     "data": {
      "text/plain": [
       "0.0007502106f0"
      ]
     },
     "metadata": {},
     "output_type": "display_data"
    },
    {
     "name": "stderr",
     "output_type": "stream",
     "text": [
      "\r",
      "\u001b[32mloss: 0.00075:  49%|████████████████████▎                    |  ETA: 0:00:11\u001b[39m"
     ]
    },
    {
     "data": {
      "text/plain": [
       "0.00073158985f0"
      ]
     },
     "metadata": {},
     "output_type": "display_data"
    },
    {
     "data": {
      "text/plain": [
       "0.0007133587f0"
      ]
     },
     "metadata": {},
     "output_type": "display_data"
    },
    {
     "name": "stderr",
     "output_type": "stream",
     "text": [
      "\r",
      "\u001b[32mloss: 0.000713:  50%|████████████████████▌                    |  ETA: 0:00:11\u001b[39m"
     ]
    },
    {
     "data": {
      "text/plain": [
       "0.0006955054f0"
      ]
     },
     "metadata": {},
     "output_type": "display_data"
    },
    {
     "data": {
      "text/plain": [
       "0.00067803037f0"
      ]
     },
     "metadata": {},
     "output_type": "display_data"
    },
    {
     "name": "stderr",
     "output_type": "stream",
     "text": [
      "\r",
      "\u001b[32mloss: 0.000678:  51%|████████████████████▊                    |  ETA: 0:00:11\u001b[39m"
     ]
    },
    {
     "data": {
      "text/plain": [
       "0.00066093483f0"
      ]
     },
     "metadata": {},
     "output_type": "display_data"
    },
    {
     "data": {
      "text/plain": [
       "0.00064421195f0"
      ]
     },
     "metadata": {},
     "output_type": "display_data"
    },
    {
     "name": "stderr",
     "output_type": "stream",
     "text": [
      "\r",
      "\u001b[32mloss: 0.000644:  51%|█████████████████████                    |  ETA: 0:00:11\u001b[39m"
     ]
    },
    {
     "data": {
      "text/plain": [
       "0.00062785216f0"
      ]
     },
     "metadata": {},
     "output_type": "display_data"
    },
    {
     "data": {
      "text/plain": [
       "0.00061184965f0"
      ]
     },
     "metadata": {},
     "output_type": "display_data"
    },
    {
     "name": "stderr",
     "output_type": "stream",
     "text": [
      "\r",
      "\u001b[32mloss: 0.000612:  52%|█████████████████████▍                   |  ETA: 0:00:11\u001b[39m"
     ]
    },
    {
     "data": {
      "text/plain": [
       "0.0005962038f0"
      ]
     },
     "metadata": {},
     "output_type": "display_data"
    },
    {
     "data": {
      "text/plain": [
       "0.00058091106f0"
      ]
     },
     "metadata": {},
     "output_type": "display_data"
    },
    {
     "name": "stderr",
     "output_type": "stream",
     "text": [
      "\r",
      "\u001b[32mloss: 0.000581:  53%|█████████████████████▋                   |  ETA: 0:00:10\u001b[39m"
     ]
    },
    {
     "data": {
      "text/plain": [
       "0.0005659619f0"
      ]
     },
     "metadata": {},
     "output_type": "display_data"
    },
    {
     "data": {
      "text/plain": [
       "0.00055135007f0"
      ]
     },
     "metadata": {},
     "output_type": "display_data"
    },
    {
     "data": {
      "text/plain": [
       "0.0005370716f0"
      ]
     },
     "metadata": {},
     "output_type": "display_data"
    },
    {
     "name": "stderr",
     "output_type": "stream",
     "text": [
      "\r",
      "\u001b[32mloss: 0.000537:  54%|██████████████████████                   |  ETA: 0:00:10\u001b[39m"
     ]
    },
    {
     "data": {
      "text/plain": [
       "0.00052312325f0"
      ]
     },
     "metadata": {},
     "output_type": "display_data"
    },
    {
     "data": {
      "text/plain": [
       "0.0005094994f0"
      ]
     },
     "metadata": {},
     "output_type": "display_data"
    },
    {
     "name": "stderr",
     "output_type": "stream",
     "text": [
      "\r",
      "\u001b[32mloss: 0.000509:  54%|██████████████████████▎                  |  ETA: 0:00:10\u001b[39m"
     ]
    },
    {
     "data": {
      "text/plain": [
       "0.0004961917f0"
      ]
     },
     "metadata": {},
     "output_type": "display_data"
    },
    {
     "data": {
      "text/plain": [
       "0.00048319518f0"
      ]
     },
     "metadata": {},
     "output_type": "display_data"
    },
    {
     "name": "stderr",
     "output_type": "stream",
     "text": [
      "\r",
      "\u001b[32mloss: 0.000483:  55%|██████████████████████▌                  |  ETA: 0:00:10\u001b[39m"
     ]
    },
    {
     "data": {
      "text/plain": [
       "0.00047050638f0"
      ]
     },
     "metadata": {},
     "output_type": "display_data"
    },
    {
     "data": {
      "text/plain": [
       "0.0004581193f0"
      ]
     },
     "metadata": {},
     "output_type": "display_data"
    },
    {
     "name": "stderr",
     "output_type": "stream",
     "text": [
      "\r",
      "\u001b[32mloss: 0.000458:  56%|██████████████████████▊                  |  ETA: 0:00:10\u001b[39m"
     ]
    },
    {
     "data": {
      "text/plain": [
       "0.00044602802f0"
      ]
     },
     "metadata": {},
     "output_type": "display_data"
    },
    {
     "data": {
      "text/plain": [
       "0.00043422636f0"
      ]
     },
     "metadata": {},
     "output_type": "display_data"
    },
    {
     "name": "stderr",
     "output_type": "stream",
     "text": [
      "\r",
      "\u001b[32mloss: 0.000434:  56%|███████████████████████▏                 |  ETA: 0:00:10\u001b[39m"
     ]
    },
    {
     "data": {
      "text/plain": [
       "0.00042270866f0"
      ]
     },
     "metadata": {},
     "output_type": "display_data"
    },
    {
     "data": {
      "text/plain": [
       "0.00041147243f0"
      ]
     },
     "metadata": {},
     "output_type": "display_data"
    },
    {
     "name": "stderr",
     "output_type": "stream",
     "text": [
      "\r",
      "\u001b[32mloss: 0.000411:  57%|███████████████████████▍                 |  ETA: 0:00:10\u001b[39m"
     ]
    },
    {
     "data": {
      "text/plain": [
       "0.00040050934f0"
      ]
     },
     "metadata": {},
     "output_type": "display_data"
    },
    {
     "data": {
      "text/plain": [
       "0.0003898142f0"
      ]
     },
     "metadata": {},
     "output_type": "display_data"
    },
    {
     "name": "stderr",
     "output_type": "stream",
     "text": [
      "\r",
      "\u001b[32mloss: 0.00039:  58%|███████████████████████▋                 |  ETA: 0:00:09\u001b[39m"
     ]
    },
    {
     "data": {
      "text/plain": [
       "0.00037938327f0"
      ]
     },
     "metadata": {},
     "output_type": "display_data"
    },
    {
     "data": {
      "text/plain": [
       "0.0003692105f0"
      ]
     },
     "metadata": {},
     "output_type": "display_data"
    },
    {
     "data": {
      "text/plain": [
       "0.00035928967f0"
      ]
     },
     "metadata": {},
     "output_type": "display_data"
    },
    {
     "data": {
      "text/plain": [
       "0.0003496188f0"
      ]
     },
     "metadata": {},
     "output_type": "display_data"
    },
    {
     "name": "stderr",
     "output_type": "stream",
     "text": [
      "\r",
      "\u001b[32mloss: 0.00035:  59%|████████████████████████▎                |  ETA: 0:00:09\u001b[39m"
     ]
    },
    {
     "data": {
      "text/plain": [
       "0.000340187f0"
      ]
     },
     "metadata": {},
     "output_type": "display_data"
    },
    {
     "data": {
      "text/plain": [
       "0.00033099385f0"
      ]
     },
     "metadata": {},
     "output_type": "display_data"
    },
    {
     "name": "stderr",
     "output_type": "stream",
     "text": [
      "\r",
      "\u001b[32mloss: 0.000331:  60%|████████████████████████▍                |  ETA: 0:00:09\u001b[39m"
     ]
    },
    {
     "data": {
      "text/plain": [
       "0.00032203514f0"
      ]
     },
     "metadata": {},
     "output_type": "display_data"
    },
    {
     "data": {
      "text/plain": [
       "0.00031330273f0"
      ]
     },
     "metadata": {},
     "output_type": "display_data"
    },
    {
     "name": "stderr",
     "output_type": "stream",
     "text": [
      "\r",
      "\u001b[32mloss: 0.000313:  60%|████████████████████████▊                |  ETA: 0:00:09\u001b[39m"
     ]
    },
    {
     "data": {
      "text/plain": [
       "0.00030479062f0"
      ]
     },
     "metadata": {},
     "output_type": "display_data"
    },
    {
     "data": {
      "text/plain": [
       "0.0002964989f0"
      ]
     },
     "metadata": {},
     "output_type": "display_data"
    },
    {
     "name": "stderr",
     "output_type": "stream",
     "text": [
      "\r",
      "\u001b[32mloss: 0.000296:  61%|█████████████████████████                |  ETA: 0:00:09\u001b[39m"
     ]
    },
    {
     "data": {
      "text/plain": [
       "0.0002884193f0"
      ]
     },
     "metadata": {},
     "output_type": "display_data"
    },
    {
     "data": {
      "text/plain": [
       "0.0002805468f0"
      ]
     },
     "metadata": {},
     "output_type": "display_data"
    },
    {
     "name": "stderr",
     "output_type": "stream",
     "text": [
      "\r",
      "\u001b[32mloss: 0.000281:  62%|█████████████████████████▎               |  ETA: 0:00:08\u001b[39m"
     ]
    },
    {
     "data": {
      "text/plain": [
       "0.00027287932f0"
      ]
     },
     "metadata": {},
     "output_type": "display_data"
    },
    {
     "data": {
      "text/plain": [
       "0.0002654083f0"
      ]
     },
     "metadata": {},
     "output_type": "display_data"
    },
    {
     "name": "stderr",
     "output_type": "stream",
     "text": [
      "\r",
      "\u001b[32mloss: 0.000265:  62%|█████████████████████████▌               |  ETA: 0:00:08\u001b[39m"
     ]
    },
    {
     "data": {
      "text/plain": [
       "0.00025813366f0"
      ]
     },
     "metadata": {},
     "output_type": "display_data"
    },
    {
     "data": {
      "text/plain": [
       "0.000251048f0"
      ]
     },
     "metadata": {},
     "output_type": "display_data"
    },
    {
     "name": "stderr",
     "output_type": "stream",
     "text": [
      "\r",
      "\u001b[32mloss: 0.000251:  63%|█████████████████████████▉               |  ETA: 0:00:08\u001b[39m"
     ]
    },
    {
     "data": {
      "text/plain": [
       "0.0002441477f0"
      ]
     },
     "metadata": {},
     "output_type": "display_data"
    },
    {
     "data": {
      "text/plain": [
       "0.00023742818f0"
      ]
     },
     "metadata": {},
     "output_type": "display_data"
    },
    {
     "data": {
      "text/plain": [
       "0.00023088585f0"
      ]
     },
     "metadata": {},
     "output_type": "display_data"
    },
    {
     "name": "stderr",
     "output_type": "stream",
     "text": [
      "\r",
      "\u001b[32mloss: 0.000231:  64%|██████████████████████████▎              |  ETA: 0:00:08\u001b[39m"
     ]
    },
    {
     "data": {
      "text/plain": [
       "0.000224516f0"
      ]
     },
     "metadata": {},
     "output_type": "display_data"
    },
    {
     "data": {
      "text/plain": [
       "0.0002183155f0"
      ]
     },
     "metadata": {},
     "output_type": "display_data"
    },
    {
     "name": "stderr",
     "output_type": "stream",
     "text": [
      "\r",
      "\u001b[32mloss: 0.000218:  65%|██████████████████████████▌              |  ETA: 0:00:08\u001b[39m"
     ]
    },
    {
     "data": {
      "text/plain": [
       "0.0002122788f0"
      ]
     },
     "metadata": {},
     "output_type": "display_data"
    },
    {
     "data": {
      "text/plain": [
       "0.00020640266f0"
      ]
     },
     "metadata": {},
     "output_type": "display_data"
    },
    {
     "name": "stderr",
     "output_type": "stream",
     "text": [
      "\r",
      "\u001b[32mloss: 0.000206:  65%|██████████████████████████▊              |  ETA: 0:00:08\u001b[39m"
     ]
    },
    {
     "data": {
      "text/plain": [
       "0.00020068388f0"
      ]
     },
     "metadata": {},
     "output_type": "display_data"
    },
    {
     "data": {
      "text/plain": [
       "0.00019511761f0"
      ]
     },
     "metadata": {},
     "output_type": "display_data"
    },
    {
     "name": "stderr",
     "output_type": "stream",
     "text": [
      "\r",
      "\u001b[32mloss: 0.000195:  66%|███████████████████████████              |  ETA: 0:00:08\u001b[39m"
     ]
    },
    {
     "data": {
      "text/plain": [
       "0.00018970146f0"
      ]
     },
     "metadata": {},
     "output_type": "display_data"
    },
    {
     "data": {
      "text/plain": [
       "0.00018442936f0"
      ]
     },
     "metadata": {},
     "output_type": "display_data"
    },
    {
     "name": "stderr",
     "output_type": "stream",
     "text": [
      "\r",
      "\u001b[32mloss: 0.000184:  67%|███████████████████████████▎             |  ETA: 0:00:07\u001b[39m"
     ]
    },
    {
     "data": {
      "text/plain": [
       "0.00017930048f0"
      ]
     },
     "metadata": {},
     "output_type": "display_data"
    },
    {
     "data": {
      "text/plain": [
       "0.00017431022f0"
      ]
     },
     "metadata": {},
     "output_type": "display_data"
    },
    {
     "name": "stderr",
     "output_type": "stream",
     "text": [
      "\r",
      "\u001b[32mloss: 0.000174:  67%|███████████████████████████▋             |  ETA: 0:00:07\u001b[39m"
     ]
    },
    {
     "data": {
      "text/plain": [
       "0.00016945443f0"
      ]
     },
     "metadata": {},
     "output_type": "display_data"
    },
    {
     "data": {
      "text/plain": [
       "0.00016472989f0"
      ]
     },
     "metadata": {},
     "output_type": "display_data"
    },
    {
     "name": "stderr",
     "output_type": "stream",
     "text": [
      "\r",
      "\u001b[32mloss: 0.000165:  68%|███████████████████████████▉             |  ETA: 0:00:07\u001b[39m"
     ]
    },
    {
     "data": {
      "text/plain": [
       "0.00016013392f0"
      ]
     },
     "metadata": {},
     "output_type": "display_data"
    },
    {
     "data": {
      "text/plain": [
       "0.00015566312f0"
      ]
     },
     "metadata": {},
     "output_type": "display_data"
    },
    {
     "name": "stderr",
     "output_type": "stream",
     "text": [
      "\r",
      "\u001b[32mloss: 0.000156:  69%|████████████████████████████▏            |  ETA: 0:00:07\u001b[39m"
     ]
    },
    {
     "data": {
      "text/plain": [
       "0.00015131426f0"
      ]
     },
     "metadata": {},
     "output_type": "display_data"
    },
    {
     "data": {
      "text/plain": [
       "0.00014708407f0"
      ]
     },
     "metadata": {},
     "output_type": "display_data"
    },
    {
     "data": {
      "text/plain": [
       "0.00014296996f0"
      ]
     },
     "metadata": {},
     "output_type": "display_data"
    },
    {
     "data": {
      "text/plain": [
       "0.00013896864f0"
      ]
     },
     "metadata": {},
     "output_type": "display_data"
    },
    {
     "data": {
      "text/plain": [
       "0.000135077f0"
      ]
     },
     "metadata": {},
     "output_type": "display_data"
    },
    {
     "data": {
      "text/plain": [
       "0.0001312923f0"
      ]
     },
     "metadata": {},
     "output_type": "display_data"
    },
    {
     "name": "stderr",
     "output_type": "stream",
     "text": [
      "\r",
      "\u001b[32mloss: 0.000131:  71%|█████████████████████████████            |  ETA: 0:00:07\u001b[39m"
     ]
    },
    {
     "data": {
      "text/plain": [
       "0.00012761228f0"
      ]
     },
     "metadata": {},
     "output_type": "display_data"
    },
    {
     "data": {
      "text/plain": [
       "0.00012403347f0"
      ]
     },
     "metadata": {},
     "output_type": "display_data"
    },
    {
     "name": "stderr",
     "output_type": "stream",
     "text": [
      "\r",
      "\u001b[32mloss: 0.000124:  71%|█████████████████████████████▎           |  ETA: 0:00:06\u001b[39m"
     ]
    },
    {
     "data": {
      "text/plain": [
       "0.00012055338f0"
      ]
     },
     "metadata": {},
     "output_type": "display_data"
    },
    {
     "data": {
      "text/plain": [
       "0.00011716999f0"
      ]
     },
     "metadata": {},
     "output_type": "display_data"
    },
    {
     "name": "stderr",
     "output_type": "stream",
     "text": [
      "\r",
      "\u001b[32mloss: 0.000117:  72%|█████████████████████████████▌           |  ETA: 0:00:06\u001b[39m"
     ]
    },
    {
     "data": {
      "text/plain": [
       "0.00011388055f0"
      ]
     },
     "metadata": {},
     "output_type": "display_data"
    },
    {
     "data": {
      "text/plain": [
       "0.00011068193f0"
      ]
     },
     "metadata": {},
     "output_type": "display_data"
    },
    {
     "name": "stderr",
     "output_type": "stream",
     "text": [
      "\r",
      "\u001b[32mloss: 0.000111:  73%|█████████████████████████████▊           |  ETA: 0:00:06\u001b[39m"
     ]
    },
    {
     "data": {
      "text/plain": [
       "0.00010757275f0"
      ]
     },
     "metadata": {},
     "output_type": "display_data"
    },
    {
     "data": {
      "text/plain": [
       "0.000104549705f0"
      ]
     },
     "metadata": {},
     "output_type": "display_data"
    },
    {
     "name": "stderr",
     "output_type": "stream",
     "text": [
      "\r",
      "\u001b[32mloss: 0.000105:  73%|██████████████████████████████           |  ETA: 0:00:06\u001b[39m"
     ]
    },
    {
     "data": {
      "text/plain": [
       "0.00010161137f0"
      ]
     },
     "metadata": {},
     "output_type": "display_data"
    },
    {
     "data": {
      "text/plain": [
       "9.875461f-5"
      ]
     },
     "metadata": {},
     "output_type": "display_data"
    },
    {
     "name": "stderr",
     "output_type": "stream",
     "text": [
      "\r",
      "\u001b[32mloss: 9.88e-05:  74%|██████████████████████████████▍          |  ETA: 0:00:06\u001b[39m"
     ]
    },
    {
     "data": {
      "text/plain": [
       "9.5977775f-5"
      ]
     },
     "metadata": {},
     "output_type": "display_data"
    },
    {
     "data": {
      "text/plain": [
       "9.327876f-5"
      ]
     },
     "metadata": {},
     "output_type": "display_data"
    },
    {
     "name": "stderr",
     "output_type": "stream",
     "text": [
      "\r",
      "\u001b[32mloss: 9.33e-05:  75%|██████████████████████████████▋          |  ETA: 0:00:06\u001b[39m"
     ]
    },
    {
     "data": {
      "text/plain": [
       "9.065578f-5"
      ]
     },
     "metadata": {},
     "output_type": "display_data"
    },
    {
     "data": {
      "text/plain": [
       "8.810577f-5"
      ]
     },
     "metadata": {},
     "output_type": "display_data"
    },
    {
     "data": {
      "text/plain": [
       "8.56276f-5"
      ]
     },
     "metadata": {},
     "output_type": "display_data"
    },
    {
     "data": {
      "text/plain": [
       "8.321936f-5"
      ]
     },
     "metadata": {},
     "output_type": "display_data"
    },
    {
     "name": "stderr",
     "output_type": "stream",
     "text": [
      "\r",
      "\u001b[32mloss: 8.32e-05:  76%|███████████████████████████████▏         |  ETA: 0:00:05\u001b[39m"
     ]
    },
    {
     "data": {
      "text/plain": [
       "8.0878934f-5"
      ]
     },
     "metadata": {},
     "output_type": "display_data"
    },
    {
     "data": {
      "text/plain": [
       "7.860378f-5"
      ]
     },
     "metadata": {},
     "output_type": "display_data"
    },
    {
     "name": "stderr",
     "output_type": "stream",
     "text": [
      "\r",
      "\u001b[32mloss: 7.86e-05:  77%|███████████████████████████████▍         |  ETA: 0:00:05\u001b[39m"
     ]
    },
    {
     "data": {
      "text/plain": [
       "7.639365f-5"
      ]
     },
     "metadata": {},
     "output_type": "display_data"
    },
    {
     "data": {
      "text/plain": [
       "7.424562f-5"
      ]
     },
     "metadata": {},
     "output_type": "display_data"
    },
    {
     "name": "stderr",
     "output_type": "stream",
     "text": [
      "\r",
      "\u001b[32mloss: 7.42e-05:  77%|███████████████████████████████▊         |  ETA: 0:00:05\u001b[39m"
     ]
    },
    {
     "data": {
      "text/plain": [
       "7.215859f-5"
      ]
     },
     "metadata": {},
     "output_type": "display_data"
    },
    {
     "data": {
      "text/plain": [
       "7.013053f-5"
      ]
     },
     "metadata": {},
     "output_type": "display_data"
    },
    {
     "name": "stderr",
     "output_type": "stream",
     "text": [
      "\r",
      "\u001b[32mloss: 7.01e-05:  78%|████████████████████████████████         |  ETA: 0:00:05\u001b[39m"
     ]
    },
    {
     "data": {
      "text/plain": [
       "6.815961f-5"
      ]
     },
     "metadata": {},
     "output_type": "display_data"
    },
    {
     "data": {
      "text/plain": [
       "6.6244706f-5"
      ]
     },
     "metadata": {},
     "output_type": "display_data"
    },
    {
     "name": "stderr",
     "output_type": "stream",
     "text": [
      "\r",
      "\u001b[32mloss: 6.62e-05:  79%|████████████████████████████████▎        |  ETA: 0:00:05\u001b[39m"
     ]
    },
    {
     "data": {
      "text/plain": [
       "6.438458f-5"
      ]
     },
     "metadata": {},
     "output_type": "display_data"
    },
    {
     "data": {
      "text/plain": [
       "6.257717f-5"
      ]
     },
     "metadata": {},
     "output_type": "display_data"
    },
    {
     "name": "stderr",
     "output_type": "stream",
     "text": [
      "\r",
      "\u001b[32mloss: 6.26e-05:  79%|████████████████████████████████▌        |  ETA: 0:00:05\u001b[39m"
     ]
    },
    {
     "data": {
      "text/plain": [
       "6.0820843f-5"
      ]
     },
     "metadata": {},
     "output_type": "display_data"
    },
    {
     "data": {
      "text/plain": [
       "5.9115344f-5"
      ]
     },
     "metadata": {},
     "output_type": "display_data"
    },
    {
     "name": "stderr",
     "output_type": "stream",
     "text": [
      "\r",
      "\u001b[32mloss: 5.91e-05:  80%|████████████████████████████████▊        |  ETA: 0:00:04\u001b[39m"
     ]
    },
    {
     "data": {
      "text/plain": [
       "5.745784f-5"
      ]
     },
     "metadata": {},
     "output_type": "display_data"
    },
    {
     "data": {
      "text/plain": [
       "5.584781f-5"
      ]
     },
     "metadata": {},
     "output_type": "display_data"
    },
    {
     "name": "stderr",
     "output_type": "stream",
     "text": [
      "\r",
      "\u001b[32mloss: 5.58e-05:  81%|█████████████████████████████████        |  ETA: 0:00:04\u001b[39m"
     ]
    },
    {
     "data": {
      "text/plain": [
       "5.428389f-5"
      ]
     },
     "metadata": {},
     "output_type": "display_data"
    },
    {
     "data": {
      "text/plain": [
       "5.2764513f-5"
      ]
     },
     "metadata": {},
     "output_type": "display_data"
    },
    {
     "data": {
      "text/plain": [
       "5.1288753f-5"
      ]
     },
     "metadata": {},
     "output_type": "display_data"
    },
    {
     "data": {
      "text/plain": [
       "4.9855556f-5"
      ]
     },
     "metadata": {},
     "output_type": "display_data"
    },
    {
     "name": "stderr",
     "output_type": "stream",
     "text": [
      "\r",
      "\u001b[32mloss: 4.99e-05:  82%|█████████████████████████████████▋       |  ETA: 0:00:04\u001b[39m"
     ]
    },
    {
     "data": {
      "text/plain": [
       "4.8463433f-5"
      ]
     },
     "metadata": {},
     "output_type": "display_data"
    },
    {
     "data": {
      "text/plain": [
       "4.7111054f-5"
      ]
     },
     "metadata": {},
     "output_type": "display_data"
    },
    {
     "name": "stderr",
     "output_type": "stream",
     "text": [
      "\r",
      "\u001b[32mloss: 4.71e-05:  83%|█████████████████████████████████▉       |  ETA: 0:00:04\u001b[39m"
     ]
    },
    {
     "data": {
      "text/plain": [
       "4.579754f-5"
      ]
     },
     "metadata": {},
     "output_type": "display_data"
    },
    {
     "data": {
      "text/plain": [
       "4.4522127f-5"
      ]
     },
     "metadata": {},
     "output_type": "display_data"
    },
    {
     "name": "stderr",
     "output_type": "stream",
     "text": [
      "\r",
      "\u001b[32mloss: 4.45e-05:  83%|██████████████████████████████████▏      |  ETA: 0:00:04\u001b[39m"
     ]
    },
    {
     "data": {
      "text/plain": [
       "4.3283104f-5"
      ]
     },
     "metadata": {},
     "output_type": "display_data"
    },
    {
     "data": {
      "text/plain": [
       "4.2080348f-5"
      ]
     },
     "metadata": {},
     "output_type": "display_data"
    },
    {
     "name": "stderr",
     "output_type": "stream",
     "text": [
      "\r",
      "\u001b[32mloss: 4.21e-05:  84%|██████████████████████████████████▌      |  ETA: 0:00:03\u001b[39m"
     ]
    },
    {
     "data": {
      "text/plain": [
       "4.091218f-5"
      ]
     },
     "metadata": {},
     "output_type": "display_data"
    },
    {
     "data": {
      "text/plain": [
       "3.9777806f-5"
      ]
     },
     "metadata": {},
     "output_type": "display_data"
    },
    {
     "name": "stderr",
     "output_type": "stream",
     "text": [
      "\r",
      "\u001b[32mloss: 3.98e-05:  85%|██████████████████████████████████▋      |  ETA: 0:00:03\u001b[39m"
     ]
    },
    {
     "data": {
      "text/plain": [
       "3.867632f-5"
      ]
     },
     "metadata": {},
     "output_type": "display_data"
    },
    {
     "data": {
      "text/plain": [
       "3.7607628f-5"
      ]
     },
     "metadata": {},
     "output_type": "display_data"
    },
    {
     "name": "stderr",
     "output_type": "stream",
     "text": [
      "\r",
      "\u001b[32mloss: 3.76e-05:  85%|███████████████████████████████████      |  ETA: 0:00:03\u001b[39m"
     ]
    },
    {
     "data": {
      "text/plain": [
       "3.657102f-5"
      ]
     },
     "metadata": {},
     "output_type": "display_data"
    },
    {
     "data": {
      "text/plain": [
       "3.5567908f-5"
      ]
     },
     "metadata": {},
     "output_type": "display_data"
    },
    {
     "name": "stderr",
     "output_type": "stream",
     "text": [
      "\r",
      "\u001b[32mloss: 3.56e-05:  86%|███████████████████████████████████▎     |  ETA: 0:00:03\u001b[39m"
     ]
    },
    {
     "data": {
      "text/plain": [
       "3.4601027f-5"
      ]
     },
     "metadata": {},
     "output_type": "display_data"
    },
    {
     "data": {
      "text/plain": [
       "3.3680204f-5"
      ]
     },
     "metadata": {},
     "output_type": "display_data"
    },
    {
     "name": "stderr",
     "output_type": "stream",
     "text": [
      "\r",
      "\u001b[32mloss: 3.37e-05:  87%|███████████████████████████████████▌     |  ETA: 0:00:03\u001b[39m"
     ]
    },
    {
     "data": {
      "text/plain": [
       "3.2830565f-5"
      ]
     },
     "metadata": {},
     "output_type": "display_data"
    },
    {
     "data": {
      "text/plain": [
       "3.2117117f-5"
      ]
     },
     "metadata": {},
     "output_type": "display_data"
    },
    {
     "data": {
      "text/plain": [
       "3.1709187f-5"
      ]
     },
     "metadata": {},
     "output_type": "display_data"
    },
    {
     "data": {
      "text/plain": [
       "3.2052092f-5"
      ]
     },
     "metadata": {},
     "output_type": "display_data"
    },
    {
     "name": "stderr",
     "output_type": "stream",
     "text": [
      "\r",
      "\u001b[32mloss: 3.21e-05:  88%|████████████████████████████████████▏    |  ETA: 0:00:03\u001b[39m"
     ]
    },
    {
     "data": {
      "text/plain": [
       "3.4322777f-5"
      ]
     },
     "metadata": {},
     "output_type": "display_data"
    },
    {
     "data": {
      "text/plain": [
       "4.1638978f-5"
      ]
     },
     "metadata": {},
     "output_type": "display_data"
    },
    {
     "name": "stderr",
     "output_type": "stream",
     "text": [
      "\r",
      "\u001b[32mloss: 4.16e-05:  89%|████████████████████████████████████▍    |  ETA: 0:00:02\u001b[39m"
     ]
    },
    {
     "data": {
      "text/plain": [
       "6.2027975f-5"
      ]
     },
     "metadata": {},
     "output_type": "display_data"
    },
    {
     "data": {
      "text/plain": [
       "0.00011452945f0"
      ]
     },
     "metadata": {},
     "output_type": "display_data"
    },
    {
     "name": "stderr",
     "output_type": "stream",
     "text": [
      "\r",
      "\u001b[32mloss: 0.000115:  89%|████████████████████████████████████▋    |  ETA: 0:00:02\u001b[39m"
     ]
    },
    {
     "data": {
      "text/plain": [
       "0.0002334873f0"
      ]
     },
     "metadata": {},
     "output_type": "display_data"
    },
    {
     "data": {
      "text/plain": [
       "0.0004411589f0"
      ]
     },
     "metadata": {},
     "output_type": "display_data"
    },
    {
     "name": "stderr",
     "output_type": "stream",
     "text": [
      "\r",
      "\u001b[32mloss: 0.000441:  90%|████████████████████████████████████▉    |  ETA: 0:00:02\u001b[39m"
     ]
    },
    {
     "data": {
      "text/plain": [
       "0.0006355653f0"
      ]
     },
     "metadata": {},
     "output_type": "display_data"
    },
    {
     "data": {
      "text/plain": [
       "0.0005740608f0"
      ]
     },
     "metadata": {},
     "output_type": "display_data"
    },
    {
     "name": "stderr",
     "output_type": "stream",
     "text": [
      "\r",
      "\u001b[32mloss: 0.000574:  91%|█████████████████████████████████████▏   |  ETA: 0:00:02\u001b[39m"
     ]
    },
    {
     "data": {
      "text/plain": [
       "0.00024213053f0"
      ]
     },
     "metadata": {},
     "output_type": "display_data"
    },
    {
     "data": {
      "text/plain": [
       "7.743362f-5"
      ]
     },
     "metadata": {},
     "output_type": "display_data"
    },
    {
     "name": "stderr",
     "output_type": "stream",
     "text": [
      "\r",
      "\u001b[32mloss: 7.74e-05:  91%|█████████████████████████████████████▍   |  ETA: 0:00:02\u001b[39m"
     ]
    },
    {
     "data": {
      "text/plain": [
       "0.00023348373f0"
      ]
     },
     "metadata": {},
     "output_type": "display_data"
    },
    {
     "data": {
      "text/plain": [
       "0.00031765376f0"
      ]
     },
     "metadata": {},
     "output_type": "display_data"
    },
    {
     "name": "stderr",
     "output_type": "stream",
     "text": [
      "\r",
      "\u001b[32mloss: 0.000318:  92%|█████████████████████████████████████▊   |  ETA: 0:00:02\u001b[39m"
     ]
    },
    {
     "data": {
      "text/plain": [
       "0.00015657496f0"
      ]
     },
     "metadata": {},
     "output_type": "display_data"
    },
    {
     "data": {
      "text/plain": [
       "8.921857f-5"
      ]
     },
     "metadata": {},
     "output_type": "display_data"
    },
    {
     "name": "stderr",
     "output_type": "stream",
     "text": [
      "\r",
      "\u001b[32mloss: 8.92e-05:  93%|██████████████████████████████████████   |  ETA: 0:00:02\u001b[39m"
     ]
    },
    {
     "data": {
      "text/plain": [
       "0.00019291145f0"
      ]
     },
     "metadata": {},
     "output_type": "display_data"
    },
    {
     "data": {
      "text/plain": [
       "0.00016653596f0"
      ]
     },
     "metadata": {},
     "output_type": "display_data"
    },
    {
     "data": {
      "text/plain": [
       "6.3902306f-5"
      ]
     },
     "metadata": {},
     "output_type": "display_data"
    },
    {
     "data": {
      "text/plain": [
       "0.000103922954f0"
      ]
     },
     "metadata": {},
     "output_type": "display_data"
    },
    {
     "name": "stderr",
     "output_type": "stream",
     "text": [
      "\r",
      "\u001b[32mloss: 0.000104:  94%|██████████████████████████████████████▌  |  ETA: 0:00:01\u001b[39m"
     ]
    },
    {
     "data": {
      "text/plain": [
       "0.0001291406f0"
      ]
     },
     "metadata": {},
     "output_type": "display_data"
    },
    {
     "data": {
      "text/plain": [
       "5.858313f-5"
      ]
     },
     "metadata": {},
     "output_type": "display_data"
    },
    {
     "name": "stderr",
     "output_type": "stream",
     "text": [
      "\r",
      "\u001b[32mloss: 5.86e-05:  95%|██████████████████████████████████████▊  |  ETA: 0:00:01\u001b[39m"
     ]
    },
    {
     "data": {
      "text/plain": [
       "6.902257f-5"
      ]
     },
     "metadata": {},
     "output_type": "display_data"
    },
    {
     "data": {
      "text/plain": [
       "0.0001029609f0"
      ]
     },
     "metadata": {},
     "output_type": "display_data"
    },
    {
     "name": "stderr",
     "output_type": "stream",
     "text": [
      "\r",
      "\u001b[32mloss: 0.000103:  95%|███████████████████████████████████████▏ |  ETA: 0:00:01\u001b[39m"
     ]
    },
    {
     "data": {
      "text/plain": [
       "4.9587703f-5"
      ]
     },
     "metadata": {},
     "output_type": "display_data"
    },
    {
     "data": {
      "text/plain": [
       "4.1201252f-5"
      ]
     },
     "metadata": {},
     "output_type": "display_data"
    },
    {
     "name": "stderr",
     "output_type": "stream",
     "text": [
      "\r",
      "\u001b[32mloss: 4.12e-05:  96%|███████████████████████████████████████▍ |  ETA: 0:00:01\u001b[39m"
     ]
    },
    {
     "data": {
      "text/plain": [
       "8.137949f-5"
      ]
     },
     "metadata": {},
     "output_type": "display_data"
    },
    {
     "data": {
      "text/plain": [
       "5.2112606f-5"
      ]
     },
     "metadata": {},
     "output_type": "display_data"
    },
    {
     "name": "stderr",
     "output_type": "stream",
     "text": [
      "\r",
      "\u001b[32mloss: 5.21e-05:  97%|███████████████████████████████████████▋ |  ETA: 0:00:01\u001b[39m"
     ]
    },
    {
     "data": {
      "text/plain": [
       "3.0533847f-5"
      ]
     },
     "metadata": {},
     "output_type": "display_data"
    },
    {
     "data": {
      "text/plain": [
       "5.6558933f-5"
      ]
     },
     "metadata": {},
     "output_type": "display_data"
    },
    {
     "name": "stderr",
     "output_type": "stream",
     "text": [
      "\r",
      "\u001b[32mloss: 5.66e-05:  97%|███████████████████████████████████████▉ |  ETA: 0:00:01\u001b[39m"
     ]
    },
    {
     "data": {
      "text/plain": [
       "4.298672f-5"
      ]
     },
     "metadata": {},
     "output_type": "display_data"
    },
    {
     "data": {
      "text/plain": [
       "2.533976f-5"
      ]
     },
     "metadata": {},
     "output_type": "display_data"
    },
    {
     "name": "stderr",
     "output_type": "stream",
     "text": [
      "\r",
      "\u001b[32mloss: 2.53e-05:  98%|████████████████████████████████████████▏|  ETA: 0:00:00\u001b[39m"
     ]
    },
    {
     "data": {
      "text/plain": [
       "4.220377f-5"
      ]
     },
     "metadata": {},
     "output_type": "display_data"
    },
    {
     "data": {
      "text/plain": [
       "3.548384f-5"
      ]
     },
     "metadata": {},
     "output_type": "display_data"
    },
    {
     "name": "stderr",
     "output_type": "stream",
     "text": [
      "\r",
      "\u001b[32mloss: 3.55e-05:  99%|████████████████████████████████████████▍|  ETA: 0:00:00\u001b[39m"
     ]
    },
    {
     "data": {
      "text/plain": [
       "2.1803891f-5"
      ]
     },
     "metadata": {},
     "output_type": "display_data"
    },
    {
     "data": {
      "text/plain": [
       "3.155504f-5"
      ]
     },
     "metadata": {},
     "output_type": "display_data"
    },
    {
     "data": {
      "text/plain": [
       "2.7778213f-5"
      ]
     },
     "metadata": {},
     "output_type": "display_data"
    },
    {
     "data": {
      "text/plain": [
       "1.8793113f-5"
      ]
     },
     "metadata": {},
     "output_type": "display_data"
    },
    {
     "name": "stderr",
     "output_type": "stream",
     "text": [
      "\r",
      "\u001b[32mloss: 1.88e-05: 100%|█████████████████████████████████████████| Time: 0:00:21\u001b[39m\n"
     ]
    },
    {
     "data": {
      "text/plain": [
       "1.8793113f-5"
      ]
     },
     "metadata": {},
     "output_type": "display_data"
    },
    {
     "data": {
      "text/plain": [
       " * Status: success\n",
       "\n",
       " * Candidate solution\n",
       "    Minimizer: [9.39e-02, -3.96e-02, 5.94e-02,  ...]\n",
       "    Minimum:   1.879311e-05\n",
       "\n",
       " * Found with\n",
       "    Algorithm:     ADAM\n",
       "    Initial Point: [8.62e-02, -4.34e-02, 5.67e-02,  ...]\n",
       "\n",
       " * Convergence measures\n",
       "    |x - x'|               = NaN ≰ 0.0e+00\n",
       "    |x - x'|/|x'|          = NaN ≰ 0.0e+00\n",
       "    |f(x) - f(x')|         = NaN ≰ 0.0e+00\n",
       "    |f(x) - f(x')|/|f(x')| = NaN ≰ 0.0e+00\n",
       "    |g(x)|                 = NaN ≰ 0.0e+00\n",
       "\n",
       " * Work counters\n",
       "    Seconds run:   32  (vs limit Inf)\n",
       "    Iterations:    300\n",
       "    f(x) calls:    300\n",
       "    ∇f(x) calls:   300\n"
      ]
     },
     "execution_count": 39,
     "metadata": {},
     "output_type": "execute_result"
    }
   ],
   "source": [
    "res_gpu = DiffEqFlux.sciml_train(loss_n_ode2, p, ADAM(), cb=cb, maxiters=300)"
   ]
  },
  {
   "cell_type": "code",
   "execution_count": 36,
   "metadata": {},
   "outputs": [
    {
     "data": {
      "image/svg+xml": [
       "<?xml version=\"1.0\" encoding=\"utf-8\"?>\n",
       "<svg xmlns=\"http://www.w3.org/2000/svg\" xmlns:xlink=\"http://www.w3.org/1999/xlink\" width=\"600\" height=\"400\" viewBox=\"0 0 2400 1600\">\n",
       "<defs>\n",
       "  <clipPath id=\"clip040\">\n",
       "    <rect x=\"0\" y=\"0\" width=\"2400\" height=\"1600\"/>\n",
       "  </clipPath>\n",
       "</defs>\n",
       "<path clip-path=\"url(#clip040)\" d=\"\n",
       "M0 1600 L2400 1600 L2400 0 L0 0  Z\n",
       "  \" fill=\"#ffffff\" fill-rule=\"evenodd\" fill-opacity=\"1\"/>\n",
       "<defs>\n",
       "  <clipPath id=\"clip041\">\n",
       "    <rect x=\"480\" y=\"0\" width=\"1681\" height=\"1600\"/>\n",
       "  </clipPath>\n",
       "</defs>\n",
       "<path clip-path=\"url(#clip040)\" d=\"\n",
       "M238.616 1423.18 L2352.76 1423.18 L2352.76 47.2441 L238.616 47.2441  Z\n",
       "  \" fill=\"#ffffff\" fill-rule=\"evenodd\" fill-opacity=\"1\"/>\n",
       "<defs>\n",
       "  <clipPath id=\"clip042\">\n",
       "    <rect x=\"238\" y=\"47\" width=\"2115\" height=\"1377\"/>\n",
       "  </clipPath>\n",
       "</defs>\n",
       "<polyline clip-path=\"url(#clip042)\" style=\"stroke:#000000; stroke-width:2; stroke-opacity:0.1; fill:none\" points=\"\n",
       "  484.376,1423.18 484.376,47.2441 \n",
       "  \"/>\n",
       "<polyline clip-path=\"url(#clip042)\" style=\"stroke:#000000; stroke-width:2; stroke-opacity:0.1; fill:none\" points=\"\n",
       "  890.031,1423.18 890.031,47.2441 \n",
       "  \"/>\n",
       "<polyline clip-path=\"url(#clip042)\" style=\"stroke:#000000; stroke-width:2; stroke-opacity:0.1; fill:none\" points=\"\n",
       "  1295.69,1423.18 1295.69,47.2441 \n",
       "  \"/>\n",
       "<polyline clip-path=\"url(#clip042)\" style=\"stroke:#000000; stroke-width:2; stroke-opacity:0.1; fill:none\" points=\"\n",
       "  1701.34,1423.18 1701.34,47.2441 \n",
       "  \"/>\n",
       "<polyline clip-path=\"url(#clip042)\" style=\"stroke:#000000; stroke-width:2; stroke-opacity:0.1; fill:none\" points=\"\n",
       "  2107,1423.18 2107,47.2441 \n",
       "  \"/>\n",
       "<polyline clip-path=\"url(#clip042)\" style=\"stroke:#000000; stroke-width:2; stroke-opacity:0.1; fill:none\" points=\"\n",
       "  238.616,1383.83 2352.76,1383.83 \n",
       "  \"/>\n",
       "<polyline clip-path=\"url(#clip042)\" style=\"stroke:#000000; stroke-width:2; stroke-opacity:0.1; fill:none\" points=\"\n",
       "  238.616,1024.21 2352.76,1024.21 \n",
       "  \"/>\n",
       "<polyline clip-path=\"url(#clip042)\" style=\"stroke:#000000; stroke-width:2; stroke-opacity:0.1; fill:none\" points=\"\n",
       "  238.616,664.594 2352.76,664.594 \n",
       "  \"/>\n",
       "<polyline clip-path=\"url(#clip042)\" style=\"stroke:#000000; stroke-width:2; stroke-opacity:0.1; fill:none\" points=\"\n",
       "  238.616,304.978 2352.76,304.978 \n",
       "  \"/>\n",
       "<polyline clip-path=\"url(#clip040)\" style=\"stroke:#000000; stroke-width:4; stroke-opacity:1; fill:none\" points=\"\n",
       "  238.616,1423.18 2352.76,1423.18 \n",
       "  \"/>\n",
       "<polyline clip-path=\"url(#clip040)\" style=\"stroke:#000000; stroke-width:4; stroke-opacity:1; fill:none\" points=\"\n",
       "  238.616,1423.18 238.616,47.2441 \n",
       "  \"/>\n",
       "<polyline clip-path=\"url(#clip040)\" style=\"stroke:#000000; stroke-width:4; stroke-opacity:1; fill:none\" points=\"\n",
       "  484.376,1423.18 484.376,1406.67 \n",
       "  \"/>\n",
       "<polyline clip-path=\"url(#clip040)\" style=\"stroke:#000000; stroke-width:4; stroke-opacity:1; fill:none\" points=\"\n",
       "  890.031,1423.18 890.031,1406.67 \n",
       "  \"/>\n",
       "<polyline clip-path=\"url(#clip040)\" style=\"stroke:#000000; stroke-width:4; stroke-opacity:1; fill:none\" points=\"\n",
       "  1295.69,1423.18 1295.69,1406.67 \n",
       "  \"/>\n",
       "<polyline clip-path=\"url(#clip040)\" style=\"stroke:#000000; stroke-width:4; stroke-opacity:1; fill:none\" points=\"\n",
       "  1701.34,1423.18 1701.34,1406.67 \n",
       "  \"/>\n",
       "<polyline clip-path=\"url(#clip040)\" style=\"stroke:#000000; stroke-width:4; stroke-opacity:1; fill:none\" points=\"\n",
       "  2107,1423.18 2107,1406.67 \n",
       "  \"/>\n",
       "<polyline clip-path=\"url(#clip040)\" style=\"stroke:#000000; stroke-width:4; stroke-opacity:1; fill:none\" points=\"\n",
       "  238.616,1383.83 263.986,1383.83 \n",
       "  \"/>\n",
       "<polyline clip-path=\"url(#clip040)\" style=\"stroke:#000000; stroke-width:4; stroke-opacity:1; fill:none\" points=\"\n",
       "  238.616,1024.21 263.986,1024.21 \n",
       "  \"/>\n",
       "<polyline clip-path=\"url(#clip040)\" style=\"stroke:#000000; stroke-width:4; stroke-opacity:1; fill:none\" points=\"\n",
       "  238.616,664.594 263.986,664.594 \n",
       "  \"/>\n",
       "<polyline clip-path=\"url(#clip040)\" style=\"stroke:#000000; stroke-width:4; stroke-opacity:1; fill:none\" points=\"\n",
       "  238.616,304.978 263.986,304.978 \n",
       "  \"/>\n",
       "<path clip-path=\"url(#clip040)\" d=\"M 0 0 M464.387 1461.77 L476.864 1461.77 L476.864 1465.56 L464.387 1465.56 L464.387 1461.77 Z\" fill=\"#000000\" fill-rule=\"evenodd\" fill-opacity=\"1\" /><path clip-path=\"url(#clip040)\" d=\"M 0 0 M494.781 1446.17 L482.975 1464.61 L494.781 1464.61 L494.781 1446.17 M493.554 1442.09 L499.433 1442.09 L499.433 1464.61 L504.364 1464.61 L504.364 1468.5 L499.433 1468.5 L499.433 1476.65 L494.781 1476.65 L494.781 1468.5 L479.179 1468.5 L479.179 1463.99 L493.554 1442.09 Z\" fill=\"#000000\" fill-rule=\"evenodd\" fill-opacity=\"1\" /><path clip-path=\"url(#clip040)\" d=\"M 0 0 M871.084 1461.77 L883.561 1461.77 L883.561 1465.56 L871.084 1465.56 L871.084 1461.77 Z\" fill=\"#000000\" fill-rule=\"evenodd\" fill-opacity=\"1\" /><path clip-path=\"url(#clip040)\" d=\"M 0 0 M892.658 1472.72 L908.977 1472.72 L908.977 1476.65 L887.033 1476.65 L887.033 1472.72 Q889.695 1469.96 894.278 1465.33 Q898.885 1460.68 900.065 1459.34 Q902.311 1456.81 903.19 1455.08 Q904.093 1453.32 904.093 1451.63 Q904.093 1448.87 902.149 1447.14 Q900.228 1445.4 897.126 1445.4 Q894.927 1445.4 892.473 1446.17 Q890.042 1446.93 887.265 1448.48 L887.265 1443.76 Q890.089 1442.62 892.542 1442.05 Q894.996 1441.47 897.033 1441.47 Q902.403 1441.47 905.598 1444.15 Q908.792 1446.84 908.792 1451.33 Q908.792 1453.46 907.982 1455.38 Q907.195 1457.28 905.089 1459.87 Q904.51 1460.54 901.408 1463.76 Q898.306 1466.95 892.658 1472.72 Z\" fill=\"#000000\" fill-rule=\"evenodd\" fill-opacity=\"1\" /><path clip-path=\"url(#clip040)\" d=\"M 0 0 M1295.69 1445.17 Q1292.07 1445.17 1290.25 1448.74 Q1288.44 1452.28 1288.44 1459.41 Q1288.44 1466.51 1290.25 1470.08 Q1292.07 1473.62 1295.69 1473.62 Q1299.32 1473.62 1301.13 1470.08 Q1302.95 1466.51 1302.95 1459.41 Q1302.95 1452.28 1301.13 1448.74 Q1299.32 1445.17 1295.69 1445.17 M1295.69 1441.47 Q1301.5 1441.47 1304.55 1446.07 Q1307.63 1450.66 1307.63 1459.41 Q1307.63 1468.13 1304.55 1472.74 Q1301.5 1477.32 1295.69 1477.32 Q1289.88 1477.32 1286.8 1472.74 Q1283.74 1468.13 1283.74 1459.41 Q1283.74 1450.66 1286.8 1446.07 Q1289.88 1441.47 1295.69 1441.47 Z\" fill=\"#000000\" fill-rule=\"evenodd\" fill-opacity=\"1\" /><path clip-path=\"url(#clip040)\" d=\"M 0 0 M1695.99 1472.72 L1712.31 1472.72 L1712.31 1476.65 L1690.37 1476.65 L1690.37 1472.72 Q1693.03 1469.96 1697.61 1465.33 Q1702.22 1460.68 1703.4 1459.34 Q1705.65 1456.81 1706.53 1455.08 Q1707.43 1453.32 1707.43 1451.63 Q1707.43 1448.87 1705.48 1447.14 Q1703.56 1445.4 1700.46 1445.4 Q1698.26 1445.4 1695.81 1446.17 Q1693.38 1446.93 1690.6 1448.48 L1690.6 1443.76 Q1693.42 1442.62 1695.88 1442.05 Q1698.33 1441.47 1700.37 1441.47 Q1705.74 1441.47 1708.93 1444.15 Q1712.13 1446.84 1712.13 1451.33 Q1712.13 1453.46 1711.32 1455.38 Q1710.53 1457.28 1708.42 1459.87 Q1707.85 1460.54 1704.74 1463.76 Q1701.64 1466.95 1695.99 1472.72 Z\" fill=\"#000000\" fill-rule=\"evenodd\" fill-opacity=\"1\" /><path clip-path=\"url(#clip040)\" d=\"M 0 0 M2110.01 1446.17 L2098.2 1464.61 L2110.01 1464.61 L2110.01 1446.17 M2108.78 1442.09 L2114.66 1442.09 L2114.66 1464.61 L2119.59 1464.61 L2119.59 1468.5 L2114.66 1468.5 L2114.66 1476.65 L2110.01 1476.65 L2110.01 1468.5 L2094.4 1468.5 L2094.4 1463.99 L2108.78 1442.09 Z\" fill=\"#000000\" fill-rule=\"evenodd\" fill-opacity=\"1\" /><path clip-path=\"url(#clip040)\" d=\"M 0 0 M138.691 1369.62 Q135.08 1369.62 133.251 1373.19 Q131.445 1376.73 131.445 1383.86 Q131.445 1390.97 133.251 1394.53 Q135.08 1398.07 138.691 1398.07 Q142.325 1398.07 144.13 1394.53 Q145.959 1390.97 145.959 1383.86 Q145.959 1376.73 144.13 1373.19 Q142.325 1369.62 138.691 1369.62 M138.691 1365.92 Q144.501 1365.92 147.556 1370.53 Q150.635 1375.11 150.635 1383.86 Q150.635 1392.59 147.556 1397.19 Q144.501 1401.78 138.691 1401.78 Q132.88 1401.78 129.802 1397.19 Q126.746 1392.59 126.746 1383.86 Q126.746 1375.11 129.802 1370.53 Q132.88 1365.92 138.691 1365.92 Z\" fill=\"#000000\" fill-rule=\"evenodd\" fill-opacity=\"1\" /><path clip-path=\"url(#clip040)\" d=\"M 0 0 M155.704 1395.23 L160.589 1395.23 L160.589 1401.11 L155.704 1401.11 L155.704 1395.23 Z\" fill=\"#000000\" fill-rule=\"evenodd\" fill-opacity=\"1\" /><path clip-path=\"url(#clip040)\" d=\"M 0 0 M175.658 1369.62 Q172.047 1369.62 170.218 1373.19 Q168.413 1376.73 168.413 1383.86 Q168.413 1390.97 170.218 1394.53 Q172.047 1398.07 175.658 1398.07 Q179.292 1398.07 181.098 1394.53 Q182.927 1390.97 182.927 1383.86 Q182.927 1376.73 181.098 1373.19 Q179.292 1369.62 175.658 1369.62 M175.658 1365.92 Q181.468 1365.92 184.524 1370.53 Q187.602 1375.11 187.602 1383.86 Q187.602 1392.59 184.524 1397.19 Q181.468 1401.78 175.658 1401.78 Q169.848 1401.78 166.769 1397.19 Q163.714 1392.59 163.714 1383.86 Q163.714 1375.11 166.769 1370.53 Q169.848 1365.92 175.658 1365.92 Z\" fill=\"#000000\" fill-rule=\"evenodd\" fill-opacity=\"1\" /><path clip-path=\"url(#clip040)\" d=\"M 0 0 M202.672 1369.62 Q199.061 1369.62 197.232 1373.19 Q195.426 1376.73 195.426 1383.86 Q195.426 1390.97 197.232 1394.53 Q199.061 1398.07 202.672 1398.07 Q206.306 1398.07 208.112 1394.53 Q209.94 1390.97 209.94 1383.86 Q209.94 1376.73 208.112 1373.19 Q206.306 1369.62 202.672 1369.62 M202.672 1365.92 Q208.482 1365.92 211.537 1370.53 Q214.616 1375.11 214.616 1383.86 Q214.616 1392.59 211.537 1397.19 Q208.482 1401.78 202.672 1401.78 Q196.862 1401.78 193.783 1397.19 Q190.727 1392.59 190.727 1383.86 Q190.727 1375.11 193.783 1370.53 Q196.862 1365.92 202.672 1365.92 Z\" fill=\"#000000\" fill-rule=\"evenodd\" fill-opacity=\"1\" /><path clip-path=\"url(#clip040)\" d=\"M 0 0 M140.288 1010.01 Q136.677 1010.01 134.848 1013.57 Q133.043 1017.12 133.043 1024.24 Q133.043 1031.35 134.848 1034.92 Q136.677 1038.46 140.288 1038.46 Q143.922 1038.46 145.728 1034.92 Q147.556 1031.35 147.556 1024.24 Q147.556 1017.12 145.728 1013.57 Q143.922 1010.01 140.288 1010.01 M140.288 1006.31 Q146.098 1006.31 149.154 1010.91 Q152.232 1015.49 152.232 1024.24 Q152.232 1032.97 149.154 1037.58 Q146.098 1042.16 140.288 1042.16 Q134.478 1042.16 131.399 1037.58 Q128.343 1032.97 128.343 1024.24 Q128.343 1015.49 131.399 1010.91 Q134.478 1006.31 140.288 1006.31 Z\" fill=\"#000000\" fill-rule=\"evenodd\" fill-opacity=\"1\" /><path clip-path=\"url(#clip040)\" d=\"M 0 0 M157.302 1035.61 L162.186 1035.61 L162.186 1041.49 L157.302 1041.49 L157.302 1035.61 Z\" fill=\"#000000\" fill-rule=\"evenodd\" fill-opacity=\"1\" /><path clip-path=\"url(#clip040)\" d=\"M 0 0 M177.255 1010.01 Q173.644 1010.01 171.815 1013.57 Q170.01 1017.12 170.01 1024.24 Q170.01 1031.35 171.815 1034.92 Q173.644 1038.46 177.255 1038.46 Q180.889 1038.46 182.695 1034.92 Q184.524 1031.35 184.524 1024.24 Q184.524 1017.12 182.695 1013.57 Q180.889 1010.01 177.255 1010.01 M177.255 1006.31 Q183.065 1006.31 186.121 1010.91 Q189.2 1015.49 189.2 1024.24 Q189.2 1032.97 186.121 1037.58 Q183.065 1042.16 177.255 1042.16 Q171.445 1042.16 168.366 1037.58 Q165.311 1032.97 165.311 1024.24 Q165.311 1015.49 168.366 1010.91 Q171.445 1006.31 177.255 1006.31 Z\" fill=\"#000000\" fill-rule=\"evenodd\" fill-opacity=\"1\" /><path clip-path=\"url(#clip040)\" d=\"M 0 0 M198.297 1037.55 L214.616 1037.55 L214.616 1041.49 L192.672 1041.49 L192.672 1037.55 Q195.334 1034.8 199.917 1030.17 Q204.524 1025.52 205.704 1024.18 Q207.95 1021.65 208.829 1019.92 Q209.732 1018.16 209.732 1016.47 Q209.732 1013.71 207.787 1011.98 Q205.866 1010.24 202.764 1010.24 Q200.565 1010.24 198.112 1011 Q195.681 1011.77 192.903 1013.32 L192.903 1008.6 Q195.727 1007.46 198.181 1006.88 Q200.635 1006.31 202.672 1006.31 Q208.042 1006.31 211.237 1008.99 Q214.431 1011.68 214.431 1016.17 Q214.431 1018.3 213.621 1020.22 Q212.834 1022.12 210.727 1024.71 Q210.149 1025.38 207.047 1028.6 Q203.945 1031.79 198.297 1037.55 Z\" fill=\"#000000\" fill-rule=\"evenodd\" fill-opacity=\"1\" /><path clip-path=\"url(#clip040)\" d=\"M 0 0 M138.205 650.393 Q134.593 650.393 132.765 653.958 Q130.959 657.499 130.959 664.629 Q130.959 671.735 132.765 675.3 Q134.593 678.842 138.205 678.842 Q141.839 678.842 143.644 675.3 Q145.473 671.735 145.473 664.629 Q145.473 657.499 143.644 653.958 Q141.839 650.393 138.205 650.393 M138.205 646.689 Q144.015 646.689 147.07 651.296 Q150.149 655.879 150.149 664.629 Q150.149 673.356 147.07 677.962 Q144.015 682.545 138.205 682.545 Q132.394 682.545 129.316 677.962 Q126.26 673.356 126.26 664.629 Q126.26 655.879 129.316 651.296 Q132.394 646.689 138.205 646.689 Z\" fill=\"#000000\" fill-rule=\"evenodd\" fill-opacity=\"1\" /><path clip-path=\"url(#clip040)\" d=\"M 0 0 M155.218 675.994 L160.103 675.994 L160.103 681.874 L155.218 681.874 L155.218 675.994 Z\" fill=\"#000000\" fill-rule=\"evenodd\" fill-opacity=\"1\" /><path clip-path=\"url(#clip040)\" d=\"M 0 0 M175.172 650.393 Q171.561 650.393 169.732 653.958 Q167.927 657.499 167.927 664.629 Q167.927 671.735 169.732 675.3 Q171.561 678.842 175.172 678.842 Q178.806 678.842 180.612 675.3 Q182.44 671.735 182.44 664.629 Q182.44 657.499 180.612 653.958 Q178.806 650.393 175.172 650.393 M175.172 646.689 Q180.982 646.689 184.038 651.296 Q187.116 655.879 187.116 664.629 Q187.116 673.356 184.038 677.962 Q180.982 682.545 175.172 682.545 Q169.362 682.545 166.283 677.962 Q163.228 673.356 163.228 664.629 Q163.228 655.879 166.283 651.296 Q169.362 646.689 175.172 646.689 Z\" fill=\"#000000\" fill-rule=\"evenodd\" fill-opacity=\"1\" /><path clip-path=\"url(#clip040)\" d=\"M 0 0 M205.033 651.388 L193.227 669.837 L205.033 669.837 L205.033 651.388 M203.806 647.314 L209.686 647.314 L209.686 669.837 L214.616 669.837 L214.616 673.726 L209.686 673.726 L209.686 681.874 L205.033 681.874 L205.033 673.726 L189.431 673.726 L189.431 669.212 L203.806 647.314 Z\" fill=\"#000000\" fill-rule=\"evenodd\" fill-opacity=\"1\" /><path clip-path=\"url(#clip040)\" d=\"M 0 0 M138.529 290.777 Q134.918 290.777 133.089 294.342 Q131.283 297.883 131.283 305.013 Q131.283 312.119 133.089 315.684 Q134.918 319.226 138.529 319.226 Q142.163 319.226 143.968 315.684 Q145.797 312.119 145.797 305.013 Q145.797 297.883 143.968 294.342 Q142.163 290.777 138.529 290.777 M138.529 287.073 Q144.339 287.073 147.394 291.68 Q150.473 296.263 150.473 305.013 Q150.473 313.74 147.394 318.346 Q144.339 322.929 138.529 322.929 Q132.718 322.929 129.64 318.346 Q126.584 313.74 126.584 305.013 Q126.584 296.263 129.64 291.68 Q132.718 287.073 138.529 287.073 Z\" fill=\"#000000\" fill-rule=\"evenodd\" fill-opacity=\"1\" /><path clip-path=\"url(#clip040)\" d=\"M 0 0 M155.542 316.379 L160.427 316.379 L160.427 322.258 L155.542 322.258 L155.542 316.379 Z\" fill=\"#000000\" fill-rule=\"evenodd\" fill-opacity=\"1\" /><path clip-path=\"url(#clip040)\" d=\"M 0 0 M175.496 290.777 Q171.885 290.777 170.056 294.342 Q168.251 297.883 168.251 305.013 Q168.251 312.119 170.056 315.684 Q171.885 319.226 175.496 319.226 Q179.13 319.226 180.936 315.684 Q182.764 312.119 182.764 305.013 Q182.764 297.883 180.936 294.342 Q179.13 290.777 175.496 290.777 M175.496 287.073 Q181.306 287.073 184.362 291.68 Q187.44 296.263 187.44 305.013 Q187.44 313.74 184.362 318.346 Q181.306 322.929 175.496 322.929 Q169.686 322.929 166.607 318.346 Q163.552 313.74 163.552 305.013 Q163.552 296.263 166.607 291.68 Q169.686 287.073 175.496 287.073 Z\" fill=\"#000000\" fill-rule=\"evenodd\" fill-opacity=\"1\" /><path clip-path=\"url(#clip040)\" d=\"M 0 0 M203.088 303.115 Q199.94 303.115 198.088 305.268 Q196.26 307.42 196.26 311.17 Q196.26 314.897 198.088 317.073 Q199.94 319.226 203.088 319.226 Q206.237 319.226 208.065 317.073 Q209.917 314.897 209.917 311.17 Q209.917 307.42 208.065 305.268 Q206.237 303.115 203.088 303.115 M212.371 288.462 L212.371 292.721 Q210.612 291.888 208.806 291.448 Q207.024 291.008 205.264 291.008 Q200.635 291.008 198.181 294.133 Q195.751 297.258 195.403 303.578 Q196.769 301.564 198.829 300.499 Q200.889 299.411 203.366 299.411 Q208.575 299.411 211.584 302.582 Q214.616 305.73 214.616 311.17 Q214.616 316.494 211.468 319.712 Q208.32 322.929 203.088 322.929 Q197.093 322.929 193.922 318.346 Q190.751 313.74 190.751 305.013 Q190.751 296.818 194.639 291.957 Q198.528 287.073 205.079 287.073 Q206.838 287.073 208.621 287.42 Q210.426 287.768 212.371 288.462 Z\" fill=\"#000000\" fill-rule=\"evenodd\" fill-opacity=\"1\" /><path clip-path=\"url(#clip040)\" d=\"M 0 0 M1277.51 1508.52 L1284.42 1508.52 L1296.23 1526.19 L1308.1 1508.52 L1315.01 1508.52 L1299.73 1531.34 L1316.02 1556.04 L1309.12 1556.04 L1295.75 1535.83 L1282.29 1556.04 L1275.35 1556.04 L1292.31 1530.68 L1277.51 1508.52 Z\" fill=\"#000000\" fill-rule=\"evenodd\" fill-opacity=\"1\" /><path clip-path=\"url(#clip040)\" d=\"M 0 0 M45.7677 784.148 L63.6235 784.148 L63.6235 776.064 Q63.6235 771.576 61.3 769.125 Q58.9765 766.674 54.6797 766.674 Q50.4147 766.674 48.0912 769.125 Q45.7677 771.576 45.7677 776.064 L45.7677 784.148 M40.4842 790.578 L40.4842 776.064 Q40.4842 768.075 44.1126 764.001 Q47.7092 759.895 54.6797 759.895 Q61.7138 759.895 65.3104 764.001 Q68.907 768.075 68.907 776.064 L68.907 784.148 L88.0042 784.148 L88.0042 790.578 L40.4842 790.578 Z\" fill=\"#000000\" fill-rule=\"evenodd\" fill-opacity=\"1\" /><path clip-path=\"url(#clip040)\" d=\"M 0 0 M45.7677 747.068 L82.7206 747.068 L82.7206 739.302 Q82.7206 729.467 78.2646 724.915 Q73.8086 720.332 64.1964 720.332 Q54.6479 720.332 50.2237 724.915 Q45.7677 729.467 45.7677 739.302 L45.7677 747.068 M40.4842 753.497 L40.4842 740.289 Q40.4842 726.475 46.2451 720.014 Q51.9743 713.553 64.1964 713.553 Q76.4822 713.553 82.2432 720.046 Q88.0042 726.539 88.0042 740.289 L88.0042 753.497 L40.4842 753.497 Z\" fill=\"#000000\" fill-rule=\"evenodd\" fill-opacity=\"1\" /><path clip-path=\"url(#clip040)\" d=\"M 0 0 M40.4842 707.155 L40.4842 679.846 L45.895 679.846 L45.895 700.726 L59.8996 700.726 L59.8996 681.883 L65.3104 681.883 L65.3104 700.726 L88.0042 700.726 L88.0042 707.155 L40.4842 707.155 Z\" fill=\"#000000\" fill-rule=\"evenodd\" fill-opacity=\"1\" /><polyline clip-path=\"url(#clip042)\" style=\"stroke:#000000; stroke-width:4; stroke-opacity:1; fill:none\" points=\"\n",
       "  298.45,1383.83 332.255,1383.83 366.06,1383.82 399.864,1383.82 433.669,1383.81 467.473,1383.77 501.278,1383.66 535.083,1383.41 568.887,1382.81 602.692,1381.48 \n",
       "  636.496,1378.71 670.301,1373.26 704.106,1363.18 737.91,1345.65 771.715,1317.07 805.519,1273.39 839.324,1210.99 873.129,1127.96 906.933,1025.45 940.738,908.897 \n",
       "  974.542,788.187 1008.35,676.566 1042.15,588.107 1075.96,534.291 1109.76,520.682 1143.57,544.819 1177.37,596.18 1211.17,658.406 1244.98,713.242 1278.78,745.121 \n",
       "  1312.59,745.121 1346.39,713.242 1380.2,658.406 1414,596.18 1447.81,544.819 1481.61,520.682 1515.42,534.291 1549.22,588.107 1583.03,676.566 1616.83,788.187 \n",
       "  1650.63,908.897 1684.44,1025.45 1718.24,1127.96 1752.05,1210.99 1785.85,1273.39 1819.66,1317.07 1853.46,1345.65 1887.27,1363.18 1921.07,1373.26 1954.88,1378.71 \n",
       "  1988.68,1381.48 2022.48,1382.81 2056.29,1383.41 2090.09,1383.66 2123.9,1383.77 2157.7,1383.81 2191.51,1383.82 2225.31,1383.82 2259.12,1383.83 2292.92,1383.83 \n",
       "  \n",
       "  \"/>\n",
       "<polyline clip-path=\"url(#clip042)\" style=\"stroke:#000000; stroke-width:4; stroke-opacity:1; fill:none\" points=\"\n",
       "  298.45,1383.81 332.255,1383.81 366.06,1383.81 399.864,1383.81 433.669,1383.8 467.473,1383.76 501.278,1383.67 535.083,1383.43 568.887,1382.89 602.692,1381.71 \n",
       "  636.496,1379.3 670.301,1374.7 704.106,1366.44 737.91,1352.42 771.715,1330.03 805.519,1296.23 839.324,1248.09 873.129,1183.4 906.933,1101.57 940.738,1004.51 \n",
       "  974.542,897.169 1008.35,787.446 1042.15,685.139 1075.96,599.986 1109.76,539.233 1143.57,505.523 1177.37,495.926 1211.17,502.66 1244.98,515.427 1278.78,524.669 \n",
       "  1312.59,524.669 1346.39,515.427 1380.2,502.66 1414,495.926 1447.81,505.523 1481.61,539.233 1515.42,599.986 1549.22,685.139 1583.03,787.446 1616.83,897.169 \n",
       "  1650.63,1004.51 1684.44,1101.57 1718.24,1183.4 1752.05,1248.09 1785.85,1296.23 1819.66,1330.03 1853.46,1352.42 1887.27,1366.44 1921.07,1374.7 1954.88,1379.3 \n",
       "  1988.68,1381.71 2022.48,1382.89 2056.29,1383.43 2090.09,1383.67 2123.9,1383.76 2157.7,1383.8 2191.51,1383.81 2225.31,1383.81 2259.12,1383.81 2292.92,1383.81 \n",
       "  \n",
       "  \"/>\n",
       "<polyline clip-path=\"url(#clip042)\" style=\"stroke:#000000; stroke-width:4; stroke-opacity:1; fill:none\" points=\"\n",
       "  298.45,1383.8 332.255,1383.8 366.06,1383.8 399.864,1383.8 433.669,1383.79 467.473,1383.76 501.278,1383.67 535.083,1383.46 568.887,1382.96 602.692,1381.92 \n",
       "  636.496,1379.84 670.301,1375.96 704.106,1369.11 737.91,1357.66 771.715,1339.52 805.519,1312.2 839.324,1273.02 873.129,1219.57 906.933,1150.27 940.738,1065.07 \n",
       "  974.542,966.169 1008.35,858.255 1042.15,748.261 1075.96,644.294 1109.76,553.976 1143.57,482.656 1177.37,432.164 1211.17,400.682 1244.98,383.892 1278.78,377.029 \n",
       "  1312.59,377.029 1346.39,383.892 1380.2,400.682 1414,432.164 1447.81,482.656 1481.61,553.976 1515.42,644.294 1549.22,748.261 1583.03,858.255 1616.83,966.169 \n",
       "  1650.63,1065.07 1684.44,1150.27 1718.24,1219.57 1752.05,1273.02 1785.85,1312.2 1819.66,1339.52 1853.46,1357.66 1887.27,1369.11 1921.07,1375.96 1954.88,1379.84 \n",
       "  1988.68,1381.92 2022.48,1382.96 2056.29,1383.46 2090.09,1383.67 2123.9,1383.76 2157.7,1383.79 2191.51,1383.8 2225.31,1383.8 2259.12,1383.8 2292.92,1383.8 \n",
       "  \n",
       "  \"/>\n",
       "<polyline clip-path=\"url(#clip042)\" style=\"stroke:#000000; stroke-width:4; stroke-opacity:1; fill:none\" points=\"\n",
       "  298.45,1383.79 332.255,1383.8 366.06,1383.8 399.864,1383.8 433.669,1383.79 467.473,1383.76 501.278,1383.68 535.083,1383.47 568.887,1383.03 602.692,1382.1 \n",
       "  636.496,1380.29 670.301,1376.95 704.106,1371.13 737.91,1361.48 771.715,1346.19 805.519,1323.06 839.324,1289.55 873.129,1243.12 906.933,1181.62 940.738,1103.9 \n",
       "  974.542,1010.52 1008.35,904.176 1042.15,789.868 1075.96,674.381 1109.76,565.225 1143.57,469.212 1177.37,391.2 1211.17,333.485 1244.98,296.103 1278.78,277.916 \n",
       "  1312.59,277.917 1346.39,296.103 1380.2,333.485 1414,391.201 1447.81,469.212 1481.61,565.225 1515.42,674.381 1549.22,789.868 1583.03,904.176 1616.83,1010.52 \n",
       "  1650.63,1103.9 1684.44,1181.62 1718.24,1243.12 1752.05,1289.55 1785.85,1323.06 1819.66,1346.19 1853.46,1361.48 1887.27,1371.13 1921.07,1376.95 1954.88,1380.29 \n",
       "  1988.68,1382.1 2022.48,1383.03 2056.29,1383.47 2090.09,1383.68 2123.9,1383.76 2157.7,1383.79 2191.51,1383.8 2225.31,1383.8 2259.12,1383.8 2292.92,1383.79 \n",
       "  \n",
       "  \"/>\n",
       "<polyline clip-path=\"url(#clip042)\" style=\"stroke:#000000; stroke-width:4; stroke-opacity:1; fill:none\" points=\"\n",
       "  298.45,1383.79 332.255,1383.79 366.06,1383.79 399.864,1383.8 433.669,1383.79 467.473,1383.76 501.278,1383.68 535.083,1383.49 568.887,1383.08 602.692,1382.24 \n",
       "  636.496,1380.63 670.301,1377.7 704.106,1372.61 737.91,1364.17 771.715,1350.77 805.519,1330.36 839.324,1300.47 873.129,1258.49 906.933,1201.93 940.738,1129.03 \n",
       "  974.542,1039.31 1008.35,934.23 1042.15,817.465 1075.96,694.812 1109.76,573.52 1143.57,461.208 1177.37,364.676 1211.17,289.031 1244.98,237.417 1278.78,211.351 \n",
       "  1312.59,211.351 1346.39,237.417 1380.2,289.031 1414,364.676 1447.81,461.208 1481.61,573.52 1515.42,694.812 1549.22,817.465 1583.03,934.23 1616.83,1039.31 \n",
       "  1650.63,1129.03 1684.44,1201.93 1718.24,1258.49 1752.05,1300.47 1785.85,1330.36 1819.66,1350.77 1853.46,1364.17 1887.27,1372.61 1921.07,1377.7 1954.88,1380.63 \n",
       "  1988.68,1382.24 2022.48,1383.08 2056.29,1383.49 2090.09,1383.68 2123.9,1383.76 2157.7,1383.79 2191.51,1383.8 2225.31,1383.79 2259.12,1383.79 2292.92,1383.79 \n",
       "  \n",
       "  \"/>\n",
       "<polyline clip-path=\"url(#clip042)\" style=\"stroke:#000000; stroke-width:4; stroke-opacity:1; fill:none\" points=\"\n",
       "  298.45,1383.79 332.255,1383.79 366.06,1383.79 399.864,1383.79 433.669,1383.79 467.473,1383.76 501.278,1383.68 535.083,1383.5 568.887,1383.12 602.692,1382.35 \n",
       "  636.496,1380.89 670.301,1378.25 704.106,1373.66 737.91,1366.05 771.715,1353.9 805.519,1335.24 839.324,1307.69 873.129,1268.55 906.933,1215.18 940.738,1145.39 \n",
       "  974.542,1058.12 1008.35,953.996 1042.15,835.809 1075.96,708.64 1109.76,579.475 1143.57,456.376 1177.37,347.395 1211.17,259.553 1244.98,198.172 1278.78,166.667 \n",
       "  1312.59,166.667 1346.39,198.171 1380.2,259.553 1414,347.395 1447.81,456.376 1481.61,579.475 1515.42,708.64 1549.22,835.809 1583.03,953.996 1616.83,1058.12 \n",
       "  1650.63,1145.39 1684.44,1215.18 1718.24,1268.55 1752.05,1307.69 1785.85,1335.24 1819.66,1353.9 1853.46,1366.05 1887.27,1373.66 1921.07,1378.25 1954.88,1380.89 \n",
       "  1988.68,1382.35 2022.48,1383.12 2056.29,1383.5 2090.09,1383.68 2123.9,1383.76 2157.7,1383.79 2191.51,1383.79 2225.31,1383.79 2259.12,1383.79 2292.92,1383.79 \n",
       "  \n",
       "  \"/>\n",
       "<polyline clip-path=\"url(#clip042)\" style=\"stroke:#000000; stroke-width:4; stroke-opacity:1; fill:none\" points=\"\n",
       "  298.45,1383.79 332.255,1383.79 366.06,1383.79 399.864,1383.79 433.669,1383.79 467.473,1383.76 501.278,1383.68 535.083,1383.51 568.887,1383.15 602.692,1382.44 \n",
       "  636.496,1381.09 670.301,1378.65 704.106,1374.41 737.91,1367.35 771.715,1356.03 805.519,1338.52 839.324,1312.47 873.129,1275.18 906.933,1223.87 940.738,1156.12 \n",
       "  974.542,1070.48 1008.35,967.04 1042.15,848.01 1075.96,717.961 1109.76,583.657 1143.57,453.407 1177.37,336.072 1211.17,239.963 1244.98,171.914 1278.78,136.682 \n",
       "  1312.59,136.682 1346.39,171.914 1380.2,239.963 1414,336.072 1447.81,453.407 1481.61,583.657 1515.42,717.961 1549.22,848.01 1583.03,967.04 1616.83,1070.48 \n",
       "  1650.63,1156.12 1684.44,1223.87 1718.24,1275.18 1752.05,1312.47 1785.85,1338.52 1819.66,1356.03 1853.46,1367.35 1887.27,1374.41 1921.07,1378.65 1954.88,1381.09 \n",
       "  1988.68,1382.44 2022.48,1383.15 2056.29,1383.51 2090.09,1383.68 2123.9,1383.76 2157.7,1383.79 2191.51,1383.79 2225.31,1383.79 2259.12,1383.79 2292.92,1383.79 \n",
       "  \n",
       "  \"/>\n",
       "<polyline clip-path=\"url(#clip042)\" style=\"stroke:#000000; stroke-width:4; stroke-opacity:1; fill:none\" points=\"\n",
       "  298.45,1383.79 332.255,1383.79 366.06,1383.79 399.864,1383.79 433.669,1383.78 467.473,1383.76 501.278,1383.69 535.083,1383.52 568.887,1383.18 602.692,1382.51 \n",
       "  636.496,1381.24 670.301,1378.94 704.106,1374.94 737.91,1368.26 771.715,1357.47 805.519,1340.72 839.324,1315.66 873.129,1279.56 906.933,1229.59 940.738,1163.19 \n",
       "  974.542,1078.63 1008.35,975.667 1042.15,856.126 1075.96,724.226 1109.76,586.554 1143.57,451.557 1177.37,328.62 1211.17,226.923 1244.98,154.341 1278.78,116.564 \n",
       "  1312.59,116.564 1346.39,154.34 1380.2,226.923 1414,328.62 1447.81,451.557 1481.61,586.554 1515.42,724.226 1549.22,856.126 1583.03,975.667 1616.83,1078.63 \n",
       "  1650.63,1163.19 1684.44,1229.59 1718.24,1279.56 1752.05,1315.66 1785.85,1340.72 1819.66,1357.47 1853.46,1368.26 1887.27,1374.94 1921.07,1378.94 1954.88,1381.24 \n",
       "  1988.68,1382.51 2022.48,1383.18 2056.29,1383.52 2090.09,1383.69 2123.9,1383.76 2157.7,1383.78 2191.51,1383.79 2225.31,1383.79 2259.12,1383.79 2292.92,1383.79 \n",
       "  \n",
       "  \"/>\n",
       "<polyline clip-path=\"url(#clip042)\" style=\"stroke:#000000; stroke-width:4; stroke-opacity:1; fill:none\" points=\"\n",
       "  298.45,1383.79 332.255,1383.79 366.06,1383.79 399.864,1383.79 433.669,1383.78 467.473,1383.76 501.278,1383.69 535.083,1383.53 568.887,1383.2 602.692,1382.56 \n",
       "  636.496,1381.35 670.301,1379.15 704.106,1375.31 737.91,1368.88 771.715,1358.46 805.519,1342.21 839.324,1317.79 873.129,1282.48 906.933,1233.39 940.738,1167.86 \n",
       "  974.542,1084.02 1008.35,981.388 1042.15,861.53 1075.96,728.426 1109.76,588.537 1143.57,450.384 1177.37,323.69 1211.17,218.222 1244.98,142.563 1278.78,103.055 \n",
       "  1312.59,103.055 1346.39,142.563 1380.2,218.222 1414,323.69 1447.81,450.384 1481.61,588.537 1515.42,728.426 1549.22,861.53 1583.03,981.388 1616.83,1084.02 \n",
       "  1650.63,1167.86 1684.44,1233.39 1718.24,1282.48 1752.05,1317.79 1785.85,1342.21 1819.66,1358.46 1853.46,1368.88 1887.27,1375.31 1921.07,1379.15 1954.88,1381.35 \n",
       "  1988.68,1382.56 2022.48,1383.2 2056.29,1383.53 2090.09,1383.69 2123.9,1383.76 2157.7,1383.78 2191.51,1383.79 2225.31,1383.79 2259.12,1383.79 2292.92,1383.79 \n",
       "  \n",
       "  \"/>\n",
       "<polyline clip-path=\"url(#clip042)\" style=\"stroke:#000000; stroke-width:4; stroke-opacity:1; fill:none\" points=\"\n",
       "  298.45,1383.79 332.255,1383.79 366.06,1383.79 399.864,1383.79 433.669,1383.78 467.473,1383.76 501.278,1383.69 535.083,1383.54 568.887,1383.22 602.692,1382.6 \n",
       "  636.496,1381.42 670.301,1379.3 704.106,1375.58 737.91,1369.31 771.715,1359.13 805.519,1343.21 839.324,1319.22 873.129,1284.43 906.933,1235.92 940.738,1170.97 \n",
       "  974.542,1087.6 1008.35,985.192 1042.15,865.133 1075.96,731.243 1109.76,589.888 1143.57,449.632 1177.37,320.418 1211.17,212.405 1244.98,134.66 1278.78,93.9747 \n",
       "  1312.59,93.9751 1346.39,134.66 1380.2,212.404 1414,320.418 1447.81,449.632 1481.61,589.888 1515.42,731.243 1549.22,865.133 1583.03,985.192 1616.83,1087.6 \n",
       "  1650.63,1170.97 1684.44,1235.92 1718.24,1284.43 1752.05,1319.22 1785.85,1343.21 1819.66,1359.13 1853.46,1369.31 1887.27,1375.58 1921.07,1379.3 1954.88,1381.42 \n",
       "  1988.68,1382.6 2022.48,1383.22 2056.29,1383.54 2090.09,1383.69 2123.9,1383.76 2157.7,1383.78 2191.51,1383.79 2225.31,1383.79 2259.12,1383.79 2292.92,1383.79 \n",
       "  \n",
       "  \"/>\n",
       "<polyline clip-path=\"url(#clip042)\" style=\"stroke:#000000; stroke-width:4; stroke-opacity:1; fill:none\" points=\"\n",
       "  298.45,1383.79 332.255,1383.79 366.06,1383.79 399.864,1383.79 433.669,1383.78 467.473,1383.76 501.278,1383.69 535.083,1383.54 568.887,1383.23 602.692,1382.63 \n",
       "  636.496,1381.48 670.301,1379.4 704.106,1375.76 737.91,1369.61 771.715,1359.59 805.519,1343.9 839.324,1320.19 873.129,1285.74 906.933,1237.61 940.738,1173.05 \n",
       "  974.542,1089.99 1008.35,987.733 1042.15,867.544 1075.96,733.134 1109.76,590.804 1143.57,449.14 1177.37,318.231 1211.17,208.497 1244.98,129.338 1278.78,87.8514 \n",
       "  1312.59,87.8514 1346.39,129.338 1380.2,208.497 1414,318.231 1447.81,449.14 1481.61,590.804 1515.42,733.134 1549.22,867.544 1583.03,987.733 1616.83,1089.99 \n",
       "  1650.63,1173.05 1684.44,1237.61 1718.24,1285.74 1752.05,1320.19 1785.85,1343.9 1819.66,1359.59 1853.46,1369.61 1887.27,1375.76 1921.07,1379.4 1954.88,1381.48 \n",
       "  1988.68,1382.63 2022.48,1383.23 2056.29,1383.54 2090.09,1383.69 2123.9,1383.76 2157.7,1383.78 2191.51,1383.79 2225.31,1383.79 2259.12,1383.79 2292.92,1383.79 \n",
       "  \n",
       "  \"/>\n",
       "<polyline clip-path=\"url(#clip042)\" style=\"stroke:#9b7fe8; stroke-width:4; stroke-opacity:1; fill:none\" points=\"\n",
       "  298.45,1383.83 332.255,1383.83 366.06,1383.82 399.864,1383.82 433.669,1383.81 467.473,1383.77 501.278,1383.66 535.083,1383.41 568.887,1382.81 602.692,1381.48 \n",
       "  636.496,1378.71 670.301,1373.26 704.106,1363.18 737.91,1345.65 771.715,1317.07 805.519,1273.39 839.324,1210.99 873.129,1127.96 906.933,1025.45 940.738,908.897 \n",
       "  974.542,788.187 1008.35,676.566 1042.15,588.107 1075.96,534.291 1109.76,520.682 1143.57,544.819 1177.37,596.18 1211.17,658.406 1244.98,713.242 1278.78,745.121 \n",
       "  1312.59,745.121 1346.39,713.242 1380.2,658.406 1414,596.18 1447.81,544.819 1481.61,520.682 1515.42,534.291 1549.22,588.107 1583.03,676.566 1616.83,788.187 \n",
       "  1650.63,908.897 1684.44,1025.45 1718.24,1127.96 1752.05,1210.99 1785.85,1273.39 1819.66,1317.07 1853.46,1345.65 1887.27,1363.18 1921.07,1373.26 1954.88,1378.71 \n",
       "  1988.68,1381.48 2022.48,1382.81 2056.29,1383.41 2090.09,1383.66 2123.9,1383.77 2157.7,1383.81 2191.51,1383.82 2225.31,1383.82 2259.12,1383.83 2292.92,1383.83 \n",
       "  \n",
       "  \"/>\n",
       "<polyline clip-path=\"url(#clip042)\" style=\"stroke:#608cf6; stroke-width:4; stroke-opacity:1; fill:none\" points=\"\n",
       "  298.45,1383.62 332.255,1383.45 366.06,1383.59 399.864,1383.87 433.669,1384.16 467.473,1384.08 501.278,1383.55 535.083,1383.46 568.887,1382.5 602.692,1381.7 \n",
       "  636.496,1379.58 670.301,1374.74 704.106,1366.58 737.91,1353.07 771.715,1330.72 805.519,1296.06 839.324,1247.35 873.129,1181.19 906.933,1097.89 940.738,998.821 \n",
       "  974.542,891.185 1008.35,782.373 1042.15,681.555 1075.96,599.295 1109.76,541.256 1143.57,509.65 1177.37,500.92 1211.17,507.572 1244.98,520.244 1278.78,531.168 \n",
       "  1312.59,530.353 1346.39,519.861 1380.2,507.707 1414,501.118 1447.81,509.207 1481.61,541.004 1515.42,599.04 1549.22,681.43 1583.03,782.517 1616.83,891.222 \n",
       "  1650.63,999.565 1684.44,1097.61 1718.24,1180.74 1752.05,1247.57 1785.85,1296.17 1819.66,1330.75 1853.46,1352.97 1887.27,1366.44 1921.07,1374.68 1954.88,1379.32 \n",
       "  1988.68,1381.87 2022.48,1382.58 2056.29,1383.33 2090.09,1384.08 2123.9,1383.66 2157.7,1383.75 2191.51,1384.05 2225.31,1384.04 2259.12,1383.91 2292.92,1383.28 \n",
       "  \n",
       "  \"/>\n",
       "<polyline clip-path=\"url(#clip042)\" style=\"stroke:#f05f73; stroke-width:4; stroke-opacity:1; fill:none\" points=\"\n",
       "  298.45,1383.64 332.255,1383.48 366.06,1383.57 399.864,1383.88 433.669,1384.24 467.473,1384.04 501.278,1383.59 535.083,1383.48 568.887,1382.58 602.692,1381.86 \n",
       "  636.496,1380.13 670.301,1375.97 704.106,1369.23 737.91,1358.15 771.715,1340.06 805.519,1312.04 839.324,1272.52 873.129,1218.1 906.933,1147.82 940.738,1061.09 \n",
       "  974.542,962.25 1008.35,855.24 1042.15,746.339 1075.96,644.397 1109.76,555.789 1143.57,485.632 1177.37,435.284 1211.17,403.187 1244.98,386.048 1278.78,381.822 \n",
       "  1312.59,380.682 1346.39,385.588 1380.2,403.243 1414,435.443 1447.81,485.265 1481.61,555.64 1515.42,644.222 1549.22,746.168 1583.03,855.401 1616.83,962.396 \n",
       "  1650.63,1061.87 1684.44,1147.59 1718.24,1217.74 1752.05,1272.7 1785.85,1312.09 1819.66,1340.19 1853.46,1358.08 1887.27,1369.05 1921.07,1375.97 1954.88,1379.88 \n",
       "  1988.68,1382.05 2022.48,1382.67 2056.29,1383.38 2090.09,1383.97 2123.9,1383.66 2157.7,1383.79 2191.51,1384 2225.31,1384.06 2259.12,1383.89 2292.92,1383.39 \n",
       "  \n",
       "  \"/>\n",
       "<polyline clip-path=\"url(#clip042)\" style=\"stroke:#dd64b5; stroke-width:4; stroke-opacity:1; fill:none\" points=\"\n",
       "  298.45,1383.72 332.255,1383.63 366.06,1383.63 399.864,1383.86 433.669,1384.18 467.473,1383.89 501.278,1383.67 535.083,1383.49 568.887,1382.76 602.692,1382 \n",
       "  636.496,1380.49 670.301,1376.93 704.106,1371.18 737.91,1361.63 771.715,1346.39 805.519,1322.98 839.324,1289.5 873.129,1242.91 906.933,1181.2 940.738,1102.82 \n",
       "  974.542,1009.78 1008.35,903.976 1042.15,789.968 1075.96,674.967 1109.76,566.004 1143.57,469.937 1177.37,391.46 1211.17,332.986 1244.98,295.279 1278.78,280.183 \n",
       "  1312.59,279.015 1346.39,294.896 1380.2,332.937 1414,391.534 1447.81,469.782 1481.61,566.029 1515.42,674.941 1549.22,789.803 1583.03,904.099 1616.83,1010.02 \n",
       "  1650.63,1103.42 1684.44,1181.09 1718.24,1242.77 1752.05,1289.56 1785.85,1322.97 1819.66,1346.58 1853.46,1361.62 1887.27,1371.02 1921.07,1376.98 1954.88,1380.33 \n",
       "  1988.68,1382.14 2022.48,1382.84 2056.29,1383.46 2090.09,1383.75 2123.9,1383.7 2157.7,1383.83 2191.51,1383.89 2225.31,1384.01 2259.12,1383.84 2292.92,1383.64 \n",
       "  \n",
       "  \"/>\n",
       "<polyline clip-path=\"url(#clip042)\" style=\"stroke:#6b9e32; stroke-width:4; stroke-opacity:1; fill:none\" points=\"\n",
       "  298.45,1383.81 332.255,1383.78 366.06,1383.7 399.864,1383.84 433.669,1384.07 467.473,1383.74 501.278,1383.74 535.083,1383.5 568.887,1382.95 602.692,1382.12 \n",
       "  636.496,1380.74 670.301,1377.66 704.106,1372.58 737.91,1364.04 771.715,1350.69 805.519,1330.34 839.324,1300.74 873.129,1259.19 906.933,1202.99 940.738,1130.08 \n",
       "  974.542,1040.8 1008.35,935.846 1042.15,818.743 1075.96,695.399 1109.76,573.248 1143.57,460.13 1177.37,362.935 1211.17,286.749 1244.98,235.027 1278.78,212.06 \n",
       "  1312.59,211.039 1346.39,234.782 1380.2,286.63 1414,362.942 1447.81,460.167 1481.61,573.408 1515.42,695.494 1549.22,818.612 1583.03,935.914 1616.83,1041.08 \n",
       "  1650.63,1130.47 1684.44,1202.96 1718.24,1259.25 1752.05,1300.68 1785.85,1330.29 1819.66,1350.88 1853.46,1364.07 1887.27,1372.48 1921.07,1377.73 1954.88,1380.66 \n",
       "  1988.68,1382.21 2022.48,1383 2056.29,1383.53 2090.09,1383.57 2123.9,1383.74 2157.7,1383.84 2191.51,1383.79 2225.31,1383.92 2259.12,1383.8 2292.92,1383.86 \n",
       "  \n",
       "  \"/>\n",
       "<polyline clip-path=\"url(#clip042)\" style=\"stroke:#009af9; stroke-width:4; stroke-opacity:1; fill:none\" points=\"\n",
       "  298.45,1383.86 332.255,1383.89 366.06,1383.77 399.864,1383.82 433.669,1383.94 467.473,1383.63 501.278,1383.77 535.083,1383.51 568.887,1383.09 602.692,1382.23 \n",
       "  636.496,1380.93 670.301,1378.22 704.106,1373.58 737.91,1365.76 771.715,1353.63 805.519,1335.25 839.324,1308.09 873.129,1269.66 906.933,1216.9 940.738,1147.48 \n",
       "  974.542,1060.6 1008.35,956.29 1042.15,837.423 1075.96,708.971 1109.76,578.499 1143.57,454.349 1177.37,344.807 1211.17,256.783 1244.98,195.535 1278.78,166.725 \n",
       "  1312.59,165.957 1346.39,195.441 1380.2,256.637 1414,344.778 1447.81,454.51 1481.61,578.725 1515.42,709.131 1549.22,837.338 1583.03,956.302 1616.83,1060.87 \n",
       "  1650.63,1147.69 1684.44,1216.92 1718.24,1269.84 1752.05,1307.95 1785.85,1335.2 1819.66,1353.77 1853.46,1365.81 1887.27,1373.55 1921.07,1378.26 1954.88,1380.91 \n",
       "  1988.68,1382.27 2022.48,1383.12 2056.29,1383.57 2090.09,1383.47 2123.9,1383.77 2157.7,1383.82 2191.51,1383.72 2225.31,1383.83 2259.12,1383.77 2292.92,1383.99 \n",
       "  \n",
       "  \"/>\n",
       "<polyline clip-path=\"url(#clip042)\" style=\"stroke:#e26f46; stroke-width:4; stroke-opacity:1; fill:none\" points=\"\n",
       "  298.45,1383.88 332.255,1383.95 366.06,1383.82 399.864,1383.8 433.669,1383.82 467.473,1383.57 501.278,1383.78 535.083,1383.51 568.887,1383.2 602.692,1382.34 \n",
       "  636.496,1381.06 670.301,1378.63 704.106,1374.3 737.91,1367.01 771.715,1355.69 805.519,1338.51 839.324,1312.84 873.129,1276.26 906.933,1225.57 940.738,1158.29 \n",
       "  974.542,1072.92 1008.35,969.146 1042.15,849.382 1075.96,717.994 1109.76,582.437 1143.57,451.262 1177.37,333.602 1211.17,237.638 1244.98,169.88 1278.78,136.565 \n",
       "  1312.59,136.11 1346.39,169.917 1380.2,237.503 1414,333.565 1447.81,451.468 1481.61,582.654 1515.42,718.163 1549.22,849.347 1583.03,969.111 1616.83,1073.14 \n",
       "  1650.63,1158.37 1684.44,1225.59 1718.24,1276.48 1752.05,1312.67 1785.85,1338.49 1819.66,1355.76 1853.46,1367.07 1887.27,1374.33 1921.07,1378.64 1954.88,1381.08 \n",
       "  1988.68,1382.34 2022.48,1383.2 2056.29,1383.58 2090.09,1383.45 2123.9,1383.79 2157.7,1383.79 2191.51,1383.69 2225.31,1383.76 2259.12,1383.76 2292.92,1384.03 \n",
       "  \n",
       "  \"/>\n",
       "<polyline clip-path=\"url(#clip042)\" style=\"stroke:#3da44d; stroke-width:4; stroke-opacity:1; fill:none\" points=\"\n",
       "  298.45,1383.88 332.255,1383.94 366.06,1383.85 399.864,1383.79 433.669,1383.72 467.473,1383.58 501.278,1383.76 535.083,1383.52 568.887,1383.27 602.692,1382.46 \n",
       "  636.496,1381.17 670.301,1378.94 704.106,1374.85 737.91,1367.98 771.715,1357.18 805.519,1340.71 839.324,1315.9 873.129,1280.31 906.933,1230.79 940.738,1164.79 \n",
       "  974.542,1080.34 1008.35,977.048 1042.15,856.943 1075.96,724.049 1109.76,585.523 1143.57,449.948 1177.37,326.935 1211.17,225.571 1244.98,153.294 1278.78,116.341 \n",
       "  1312.59,116.233 1346.39,153.429 1380.2,225.473 1414,326.908 1447.81,450.127 1481.61,585.665 1515.42,724.178 1549.22,856.954 1583.03,976.98 1616.83,1080.46 \n",
       "  1650.63,1164.75 1684.44,1230.81 1718.24,1280.5 1752.05,1315.75 1785.85,1340.72 1819.66,1357.18 1853.46,1368.02 1887.27,1374.92 1921.07,1378.91 1954.88,1381.22 \n",
       "  1988.68,1382.43 2022.48,1383.25 2056.29,1383.57 2090.09,1383.5 2123.9,1383.79 2157.7,1383.76 2191.51,1383.7 2225.31,1383.71 2259.12,1383.77 2292.92,1384 \n",
       "  \n",
       "  \"/>\n",
       "<polyline clip-path=\"url(#clip042)\" style=\"stroke:#c271d2; stroke-width:4; stroke-opacity:1; fill:none\" points=\"\n",
       "  298.45,1383.84 332.255,1383.88 366.06,1383.86 399.864,1383.78 433.669,1383.65 467.473,1383.65 501.278,1383.71 535.083,1383.53 568.887,1383.3 602.692,1382.57 \n",
       "  636.496,1381.27 670.301,1379.16 704.106,1375.27 737.91,1368.76 771.715,1358.31 805.519,1342.2 839.324,1317.84 873.129,1282.69 906.933,1233.76 940.738,1168.46 \n",
       "  974.542,1084.55 1008.35,981.723 1042.15,861.633 1075.96,728.173 1109.76,588.056 1143.57,449.801 1177.37,323.237 1211.17,218.124 1244.98,142.647 1278.78,102.608 \n",
       "  1312.59,102.864 1346.39,142.833 1380.2,218.077 1414,323.23 1447.81,449.888 1481.61,588.063 1515.42,728.224 1549.22,861.681 1583.03,981.639 1616.83,1084.55 \n",
       "  1650.63,1168.33 1684.44,1233.77 1718.24,1282.78 1752.05,1317.77 1785.85,1342.23 1819.66,1358.23 1853.46,1368.77 1887.27,1375.35 1921.07,1379.12 1954.88,1381.32 \n",
       "  1988.68,1382.52 2022.48,1383.27 2056.29,1383.54 2090.09,1383.61 2123.9,1383.79 2157.7,1383.76 2191.51,1383.73 2225.31,1383.7 2259.12,1383.78 2292.92,1383.9 \n",
       "  \n",
       "  \"/>\n",
       "<polyline clip-path=\"url(#clip042)\" style=\"stroke:#ac8d18; stroke-width:4; stroke-opacity:1; fill:none\" points=\"\n",
       "  298.45,1383.78 332.255,1383.76 366.06,1383.85 399.864,1383.78 433.669,1383.6 467.473,1383.79 501.278,1383.64 535.083,1383.53 568.887,1383.31 602.692,1382.68 \n",
       "  636.496,1381.35 670.301,1379.31 704.106,1375.61 737.91,1369.42 771.715,1359.21 805.519,1343.25 839.324,1319.06 873.129,1283.99 906.933,1235.27 940.738,1170.31 \n",
       "  974.542,1086.7 1008.35,984.337 1042.15,864.483 1075.96,731.064 1109.76,590.239 1143.57,450.412 1177.37,321.45 1211.17,213.635 1244.98,135.823 1278.78,93.0415 \n",
       "  1312.59,93.6665 1346.39,136.006 1380.2,213.648 1414,321.469 1447.81,450.348 1481.61,590.059 1515.42,731.004 1549.22,864.555 1583.03,984.254 1616.83,1086.54 \n",
       "  1650.63,1170.1 1684.44,1235.28 1718.24,1283.94 1752.05,1319.11 1785.85,1343.27 1819.66,1359.08 1853.46,1369.4 1887.27,1375.67 1921.07,1379.29 1954.88,1381.4 \n",
       "  1988.68,1382.63 2022.48,1383.27 2056.29,1383.5 2090.09,1383.77 2123.9,1383.77 2157.7,1383.77 2191.51,1383.79 2225.31,1383.72 2259.12,1383.79 2292.92,1383.76 \n",
       "  \n",
       "  \"/>\n",
       "<polyline clip-path=\"url(#clip042)\" style=\"stroke:#00a9ad; stroke-width:4; stroke-opacity:1; fill:none\" points=\"\n",
       "  298.45,1383.69 332.255,1383.59 366.06,1383.81 399.864,1383.78 433.669,1383.59 467.473,1383.99 501.278,1383.56 535.083,1383.53 568.887,1383.29 602.692,1382.8 \n",
       "  636.496,1381.43 670.301,1379.41 704.106,1375.91 737.91,1370.02 771.715,1359.97 805.519,1344.01 839.324,1319.81 873.129,1284.59 906.933,1235.82 940.738,1170.97 \n",
       "  974.542,1087.5 1008.35,985.618 1042.15,866.135 1075.96,733.161 1109.76,592.197 1143.57,451.523 1177.37,320.914 1211.17,211.067 1244.98,131.498 1278.78,86.1857 \n",
       "  1312.59,87.1801 1346.39,131.624 1380.2,211.142 1414,320.959 1447.81,451.256 1481.61,591.783 1515.42,732.961 1549.22,866.22 1583.03,985.556 1616.83,1087.16 \n",
       "  1650.63,1170.68 1684.44,1235.85 1718.24,1284.34 1752.05,1320.04 1785.85,1344 1819.66,1359.8 1853.46,1369.94 1887.27,1375.9 1921.07,1379.42 1954.88,1381.47 \n",
       "  1988.68,1382.75 2022.48,1383.26 2056.29,1383.45 2090.09,1383.97 2123.9,1383.73 2157.7,1383.81 2191.51,1383.88 2225.31,1383.77 2259.12,1383.82 2292.92,1383.57 \n",
       "  \n",
       "  \"/>\n",
       "<path clip-path=\"url(#clip040)\" d=\"\n",
       "M1958 1521.8 L2280.76 1521.8 L2280.76 130.764 L1958 130.764  Z\n",
       "  \" fill=\"#ffffff\" fill-rule=\"evenodd\" fill-opacity=\"1\"/>\n",
       "<polyline clip-path=\"url(#clip040)\" style=\"stroke:#000000; stroke-width:4; stroke-opacity:1; fill:none\" points=\"\n",
       "  1958,1521.8 2280.76,1521.8 2280.76,130.764 1958,130.764 1958,1521.8 \n",
       "  \"/>\n",
       "<polyline clip-path=\"url(#clip040)\" style=\"stroke:#000000; stroke-width:4; stroke-opacity:1; fill:none\" points=\"\n",
       "  1982,191.244 2126,191.244 \n",
       "  \"/>\n",
       "<path clip-path=\"url(#clip040)\" d=\"M 0 0 M2150 173.964 L2169.86 173.964 L2169.86 177.899 L2154.68 177.899 L2154.68 188.084 L2168.38 188.084 L2168.38 192.02 L2154.68 192.02 L2154.68 208.524 L2150 208.524 L2150 173.964 Z\" fill=\"#000000\" fill-rule=\"evenodd\" fill-opacity=\"1\" /><path clip-path=\"url(#clip040)\" d=\"M 0 0 M2194.4 175.098 L2194.4 179.659 Q2191.74 178.385 2189.38 177.76 Q2187.02 177.135 2184.82 177.135 Q2181 177.135 2178.91 178.617 Q2176.85 180.098 2176.85 182.83 Q2176.85 185.121 2178.22 186.302 Q2179.61 187.459 2183.45 188.177 L2186.27 188.756 Q2191.51 189.751 2193.98 192.274 Q2196.48 194.774 2196.48 198.987 Q2196.48 204.01 2193.1 206.603 Q2189.75 209.195 2183.24 209.195 Q2180.79 209.195 2178.01 208.64 Q2175.26 208.084 2172.29 206.996 L2172.29 202.182 Q2175.14 203.779 2177.87 204.589 Q2180.6 205.399 2183.24 205.399 Q2187.25 205.399 2189.42 203.825 Q2191.6 202.251 2191.6 199.334 Q2191.6 196.788 2190.02 195.353 Q2188.47 193.918 2184.91 193.2 L2182.06 192.645 Q2176.83 191.603 2174.49 189.381 Q2172.15 187.158 2172.15 183.2 Q2172.15 178.617 2175.37 175.978 Q2178.61 173.339 2184.28 173.339 Q2186.71 173.339 2189.24 173.779 Q2191.76 174.219 2194.4 175.098 Z\" fill=\"#000000\" fill-rule=\"evenodd\" fill-opacity=\"1\" /><path clip-path=\"url(#clip040)\" d=\"M 0 0 M2201.14 173.964 L2208.1 173.964 L2216.92 197.482 L2225.79 173.964 L2232.76 173.964 L2232.76 208.524 L2228.2 208.524 L2228.2 178.177 L2219.28 201.881 L2214.58 201.881 L2205.67 178.177 L2205.67 208.524 L2201.14 208.524 L2201.14 173.964 Z\" fill=\"#000000\" fill-rule=\"evenodd\" fill-opacity=\"1\" /><polyline clip-path=\"url(#clip040)\" style=\"stroke:#000000; stroke-width:4; stroke-opacity:1; fill:none\" points=\"\n",
       "  1982,251.724 2126,251.724 \n",
       "  \"/>\n",
       "<path clip-path=\"url(#clip040)\" d=\"M 0 0 M2150 234.444 L2169.86 234.444 L2169.86 238.379 L2154.68 238.379 L2154.68 248.564 L2168.38 248.564 L2168.38 252.5 L2154.68 252.5 L2154.68 269.004 L2150 269.004 L2150 234.444 Z\" fill=\"#000000\" fill-rule=\"evenodd\" fill-opacity=\"1\" /><path clip-path=\"url(#clip040)\" d=\"M 0 0 M2194.4 235.578 L2194.4 240.139 Q2191.74 238.865 2189.38 238.24 Q2187.02 237.615 2184.82 237.615 Q2181 237.615 2178.91 239.097 Q2176.85 240.578 2176.85 243.31 Q2176.85 245.601 2178.22 246.782 Q2179.61 247.939 2183.45 248.657 L2186.27 249.236 Q2191.51 250.231 2193.98 252.754 Q2196.48 255.254 2196.48 259.467 Q2196.48 264.49 2193.1 267.083 Q2189.75 269.675 2183.24 269.675 Q2180.79 269.675 2178.01 269.12 Q2175.26 268.564 2172.29 267.476 L2172.29 262.662 Q2175.14 264.259 2177.87 265.069 Q2180.6 265.879 2183.24 265.879 Q2187.25 265.879 2189.42 264.305 Q2191.6 262.731 2191.6 259.814 Q2191.6 257.268 2190.02 255.833 Q2188.47 254.398 2184.91 253.68 L2182.06 253.125 Q2176.83 252.083 2174.49 249.861 Q2172.15 247.638 2172.15 243.68 Q2172.15 239.097 2175.37 236.458 Q2178.61 233.819 2184.28 233.819 Q2186.71 233.819 2189.24 234.259 Q2191.76 234.699 2194.4 235.578 Z\" fill=\"#000000\" fill-rule=\"evenodd\" fill-opacity=\"1\" /><path clip-path=\"url(#clip040)\" d=\"M 0 0 M2201.14 234.444 L2208.1 234.444 L2216.92 257.962 L2225.79 234.444 L2232.76 234.444 L2232.76 269.004 L2228.2 269.004 L2228.2 238.657 L2219.28 262.361 L2214.58 262.361 L2205.67 238.657 L2205.67 269.004 L2201.14 269.004 L2201.14 234.444 Z\" fill=\"#000000\" fill-rule=\"evenodd\" fill-opacity=\"1\" /><polyline clip-path=\"url(#clip040)\" style=\"stroke:#000000; stroke-width:4; stroke-opacity:1; fill:none\" points=\"\n",
       "  1982,312.204 2126,312.204 \n",
       "  \"/>\n",
       "<path clip-path=\"url(#clip040)\" d=\"M 0 0 M2150 294.924 L2169.86 294.924 L2169.86 298.859 L2154.68 298.859 L2154.68 309.044 L2168.38 309.044 L2168.38 312.98 L2154.68 312.98 L2154.68 329.484 L2150 329.484 L2150 294.924 Z\" fill=\"#000000\" fill-rule=\"evenodd\" fill-opacity=\"1\" /><path clip-path=\"url(#clip040)\" d=\"M 0 0 M2194.4 296.058 L2194.4 300.619 Q2191.74 299.345 2189.38 298.72 Q2187.02 298.095 2184.82 298.095 Q2181 298.095 2178.91 299.577 Q2176.85 301.058 2176.85 303.79 Q2176.85 306.081 2178.22 307.262 Q2179.61 308.419 2183.45 309.137 L2186.27 309.716 Q2191.51 310.711 2193.98 313.234 Q2196.48 315.734 2196.48 319.947 Q2196.48 324.97 2193.1 327.563 Q2189.75 330.155 2183.24 330.155 Q2180.79 330.155 2178.01 329.6 Q2175.26 329.044 2172.29 327.956 L2172.29 323.142 Q2175.14 324.739 2177.87 325.549 Q2180.6 326.359 2183.24 326.359 Q2187.25 326.359 2189.42 324.785 Q2191.6 323.211 2191.6 320.294 Q2191.6 317.748 2190.02 316.313 Q2188.47 314.878 2184.91 314.16 L2182.06 313.605 Q2176.83 312.563 2174.49 310.341 Q2172.15 308.118 2172.15 304.16 Q2172.15 299.577 2175.37 296.938 Q2178.61 294.299 2184.28 294.299 Q2186.71 294.299 2189.24 294.739 Q2191.76 295.179 2194.4 296.058 Z\" fill=\"#000000\" fill-rule=\"evenodd\" fill-opacity=\"1\" /><path clip-path=\"url(#clip040)\" d=\"M 0 0 M2201.14 294.924 L2208.1 294.924 L2216.92 318.442 L2225.79 294.924 L2232.76 294.924 L2232.76 329.484 L2228.2 329.484 L2228.2 299.137 L2219.28 322.841 L2214.58 322.841 L2205.67 299.137 L2205.67 329.484 L2201.14 329.484 L2201.14 294.924 Z\" fill=\"#000000\" fill-rule=\"evenodd\" fill-opacity=\"1\" /><polyline clip-path=\"url(#clip040)\" style=\"stroke:#000000; stroke-width:4; stroke-opacity:1; fill:none\" points=\"\n",
       "  1982,372.684 2126,372.684 \n",
       "  \"/>\n",
       "<path clip-path=\"url(#clip040)\" d=\"M 0 0 M2150 355.404 L2169.86 355.404 L2169.86 359.339 L2154.68 359.339 L2154.68 369.524 L2168.38 369.524 L2168.38 373.46 L2154.68 373.46 L2154.68 389.964 L2150 389.964 L2150 355.404 Z\" fill=\"#000000\" fill-rule=\"evenodd\" fill-opacity=\"1\" /><path clip-path=\"url(#clip040)\" d=\"M 0 0 M2194.4 356.538 L2194.4 361.099 Q2191.74 359.825 2189.38 359.2 Q2187.02 358.575 2184.82 358.575 Q2181 358.575 2178.91 360.057 Q2176.85 361.538 2176.85 364.27 Q2176.85 366.561 2178.22 367.742 Q2179.61 368.899 2183.45 369.617 L2186.27 370.196 Q2191.51 371.191 2193.98 373.714 Q2196.48 376.214 2196.48 380.427 Q2196.48 385.45 2193.1 388.043 Q2189.75 390.635 2183.24 390.635 Q2180.79 390.635 2178.01 390.08 Q2175.26 389.524 2172.29 388.436 L2172.29 383.622 Q2175.14 385.219 2177.87 386.029 Q2180.6 386.839 2183.24 386.839 Q2187.25 386.839 2189.42 385.265 Q2191.6 383.691 2191.6 380.774 Q2191.6 378.228 2190.02 376.793 Q2188.47 375.358 2184.91 374.64 L2182.06 374.085 Q2176.83 373.043 2174.49 370.821 Q2172.15 368.598 2172.15 364.64 Q2172.15 360.057 2175.37 357.418 Q2178.61 354.779 2184.28 354.779 Q2186.71 354.779 2189.24 355.219 Q2191.76 355.659 2194.4 356.538 Z\" fill=\"#000000\" fill-rule=\"evenodd\" fill-opacity=\"1\" /><path clip-path=\"url(#clip040)\" d=\"M 0 0 M2201.14 355.404 L2208.1 355.404 L2216.92 378.922 L2225.79 355.404 L2232.76 355.404 L2232.76 389.964 L2228.2 389.964 L2228.2 359.617 L2219.28 383.321 L2214.58 383.321 L2205.67 359.617 L2205.67 389.964 L2201.14 389.964 L2201.14 355.404 Z\" fill=\"#000000\" fill-rule=\"evenodd\" fill-opacity=\"1\" /><polyline clip-path=\"url(#clip040)\" style=\"stroke:#000000; stroke-width:4; stroke-opacity:1; fill:none\" points=\"\n",
       "  1982,433.164 2126,433.164 \n",
       "  \"/>\n",
       "<path clip-path=\"url(#clip040)\" d=\"M 0 0 M2150 415.884 L2169.86 415.884 L2169.86 419.819 L2154.68 419.819 L2154.68 430.004 L2168.38 430.004 L2168.38 433.94 L2154.68 433.94 L2154.68 450.444 L2150 450.444 L2150 415.884 Z\" fill=\"#000000\" fill-rule=\"evenodd\" fill-opacity=\"1\" /><path clip-path=\"url(#clip040)\" d=\"M 0 0 M2194.4 417.018 L2194.4 421.579 Q2191.74 420.305 2189.38 419.68 Q2187.02 419.055 2184.82 419.055 Q2181 419.055 2178.91 420.537 Q2176.85 422.018 2176.85 424.75 Q2176.85 427.041 2178.22 428.222 Q2179.61 429.379 2183.45 430.097 L2186.27 430.676 Q2191.51 431.671 2193.98 434.194 Q2196.48 436.694 2196.48 440.907 Q2196.48 445.93 2193.1 448.523 Q2189.75 451.115 2183.24 451.115 Q2180.79 451.115 2178.01 450.56 Q2175.26 450.004 2172.29 448.916 L2172.29 444.102 Q2175.14 445.699 2177.87 446.509 Q2180.6 447.319 2183.24 447.319 Q2187.25 447.319 2189.42 445.745 Q2191.6 444.171 2191.6 441.254 Q2191.6 438.708 2190.02 437.273 Q2188.47 435.838 2184.91 435.12 L2182.06 434.565 Q2176.83 433.523 2174.49 431.301 Q2172.15 429.078 2172.15 425.12 Q2172.15 420.537 2175.37 417.898 Q2178.61 415.259 2184.28 415.259 Q2186.71 415.259 2189.24 415.699 Q2191.76 416.139 2194.4 417.018 Z\" fill=\"#000000\" fill-rule=\"evenodd\" fill-opacity=\"1\" /><path clip-path=\"url(#clip040)\" d=\"M 0 0 M2201.14 415.884 L2208.1 415.884 L2216.92 439.402 L2225.79 415.884 L2232.76 415.884 L2232.76 450.444 L2228.2 450.444 L2228.2 420.097 L2219.28 443.801 L2214.58 443.801 L2205.67 420.097 L2205.67 450.444 L2201.14 450.444 L2201.14 415.884 Z\" fill=\"#000000\" fill-rule=\"evenodd\" fill-opacity=\"1\" /><polyline clip-path=\"url(#clip040)\" style=\"stroke:#000000; stroke-width:4; stroke-opacity:1; fill:none\" points=\"\n",
       "  1982,493.644 2126,493.644 \n",
       "  \"/>\n",
       "<path clip-path=\"url(#clip040)\" d=\"M 0 0 M2150 476.364 L2169.86 476.364 L2169.86 480.299 L2154.68 480.299 L2154.68 490.484 L2168.38 490.484 L2168.38 494.42 L2154.68 494.42 L2154.68 510.924 L2150 510.924 L2150 476.364 Z\" fill=\"#000000\" fill-rule=\"evenodd\" fill-opacity=\"1\" /><path clip-path=\"url(#clip040)\" d=\"M 0 0 M2194.4 477.498 L2194.4 482.059 Q2191.74 480.785 2189.38 480.16 Q2187.02 479.535 2184.82 479.535 Q2181 479.535 2178.91 481.017 Q2176.85 482.498 2176.85 485.23 Q2176.85 487.521 2178.22 488.702 Q2179.61 489.859 2183.45 490.577 L2186.27 491.156 Q2191.51 492.151 2193.98 494.674 Q2196.48 497.174 2196.48 501.387 Q2196.48 506.41 2193.1 509.003 Q2189.75 511.595 2183.24 511.595 Q2180.79 511.595 2178.01 511.04 Q2175.26 510.484 2172.29 509.396 L2172.29 504.582 Q2175.14 506.179 2177.87 506.989 Q2180.6 507.799 2183.24 507.799 Q2187.25 507.799 2189.42 506.225 Q2191.6 504.651 2191.6 501.734 Q2191.6 499.188 2190.02 497.753 Q2188.47 496.318 2184.91 495.6 L2182.06 495.045 Q2176.83 494.003 2174.49 491.781 Q2172.15 489.558 2172.15 485.6 Q2172.15 481.017 2175.37 478.378 Q2178.61 475.739 2184.28 475.739 Q2186.71 475.739 2189.24 476.179 Q2191.76 476.619 2194.4 477.498 Z\" fill=\"#000000\" fill-rule=\"evenodd\" fill-opacity=\"1\" /><path clip-path=\"url(#clip040)\" d=\"M 0 0 M2201.14 476.364 L2208.1 476.364 L2216.92 499.882 L2225.79 476.364 L2232.76 476.364 L2232.76 510.924 L2228.2 510.924 L2228.2 480.577 L2219.28 504.281 L2214.58 504.281 L2205.67 480.577 L2205.67 510.924 L2201.14 510.924 L2201.14 476.364 Z\" fill=\"#000000\" fill-rule=\"evenodd\" fill-opacity=\"1\" /><polyline clip-path=\"url(#clip040)\" style=\"stroke:#000000; stroke-width:4; stroke-opacity:1; fill:none\" points=\"\n",
       "  1982,554.124 2126,554.124 \n",
       "  \"/>\n",
       "<path clip-path=\"url(#clip040)\" d=\"M 0 0 M2150 536.844 L2169.86 536.844 L2169.86 540.779 L2154.68 540.779 L2154.68 550.964 L2168.38 550.964 L2168.38 554.9 L2154.68 554.9 L2154.68 571.404 L2150 571.404 L2150 536.844 Z\" fill=\"#000000\" fill-rule=\"evenodd\" fill-opacity=\"1\" /><path clip-path=\"url(#clip040)\" d=\"M 0 0 M2194.4 537.978 L2194.4 542.539 Q2191.74 541.265 2189.38 540.64 Q2187.02 540.015 2184.82 540.015 Q2181 540.015 2178.91 541.497 Q2176.85 542.978 2176.85 545.71 Q2176.85 548.001 2178.22 549.182 Q2179.61 550.339 2183.45 551.057 L2186.27 551.636 Q2191.51 552.631 2193.98 555.154 Q2196.48 557.654 2196.48 561.867 Q2196.48 566.89 2193.1 569.483 Q2189.75 572.075 2183.24 572.075 Q2180.79 572.075 2178.01 571.52 Q2175.26 570.964 2172.29 569.876 L2172.29 565.062 Q2175.14 566.659 2177.87 567.469 Q2180.6 568.279 2183.24 568.279 Q2187.25 568.279 2189.42 566.705 Q2191.6 565.131 2191.6 562.214 Q2191.6 559.668 2190.02 558.233 Q2188.47 556.798 2184.91 556.08 L2182.06 555.525 Q2176.83 554.483 2174.49 552.261 Q2172.15 550.038 2172.15 546.08 Q2172.15 541.497 2175.37 538.858 Q2178.61 536.219 2184.28 536.219 Q2186.71 536.219 2189.24 536.659 Q2191.76 537.099 2194.4 537.978 Z\" fill=\"#000000\" fill-rule=\"evenodd\" fill-opacity=\"1\" /><path clip-path=\"url(#clip040)\" d=\"M 0 0 M2201.14 536.844 L2208.1 536.844 L2216.92 560.362 L2225.79 536.844 L2232.76 536.844 L2232.76 571.404 L2228.2 571.404 L2228.2 541.057 L2219.28 564.761 L2214.58 564.761 L2205.67 541.057 L2205.67 571.404 L2201.14 571.404 L2201.14 536.844 Z\" fill=\"#000000\" fill-rule=\"evenodd\" fill-opacity=\"1\" /><polyline clip-path=\"url(#clip040)\" style=\"stroke:#000000; stroke-width:4; stroke-opacity:1; fill:none\" points=\"\n",
       "  1982,614.604 2126,614.604 \n",
       "  \"/>\n",
       "<path clip-path=\"url(#clip040)\" d=\"M 0 0 M2150 597.324 L2169.86 597.324 L2169.86 601.259 L2154.68 601.259 L2154.68 611.444 L2168.38 611.444 L2168.38 615.38 L2154.68 615.38 L2154.68 631.884 L2150 631.884 L2150 597.324 Z\" fill=\"#000000\" fill-rule=\"evenodd\" fill-opacity=\"1\" /><path clip-path=\"url(#clip040)\" d=\"M 0 0 M2194.4 598.458 L2194.4 603.019 Q2191.74 601.745 2189.38 601.12 Q2187.02 600.495 2184.82 600.495 Q2181 600.495 2178.91 601.977 Q2176.85 603.458 2176.85 606.19 Q2176.85 608.481 2178.22 609.662 Q2179.61 610.819 2183.45 611.537 L2186.27 612.116 Q2191.51 613.111 2193.98 615.634 Q2196.48 618.134 2196.48 622.347 Q2196.48 627.37 2193.1 629.963 Q2189.75 632.555 2183.24 632.555 Q2180.79 632.555 2178.01 632 Q2175.26 631.444 2172.29 630.356 L2172.29 625.542 Q2175.14 627.139 2177.87 627.949 Q2180.6 628.759 2183.24 628.759 Q2187.25 628.759 2189.42 627.185 Q2191.6 625.611 2191.6 622.694 Q2191.6 620.148 2190.02 618.713 Q2188.47 617.278 2184.91 616.56 L2182.06 616.005 Q2176.83 614.963 2174.49 612.741 Q2172.15 610.518 2172.15 606.56 Q2172.15 601.977 2175.37 599.338 Q2178.61 596.699 2184.28 596.699 Q2186.71 596.699 2189.24 597.139 Q2191.76 597.579 2194.4 598.458 Z\" fill=\"#000000\" fill-rule=\"evenodd\" fill-opacity=\"1\" /><path clip-path=\"url(#clip040)\" d=\"M 0 0 M2201.14 597.324 L2208.1 597.324 L2216.92 620.842 L2225.79 597.324 L2232.76 597.324 L2232.76 631.884 L2228.2 631.884 L2228.2 601.537 L2219.28 625.241 L2214.58 625.241 L2205.67 601.537 L2205.67 631.884 L2201.14 631.884 L2201.14 597.324 Z\" fill=\"#000000\" fill-rule=\"evenodd\" fill-opacity=\"1\" /><polyline clip-path=\"url(#clip040)\" style=\"stroke:#000000; stroke-width:4; stroke-opacity:1; fill:none\" points=\"\n",
       "  1982,675.084 2126,675.084 \n",
       "  \"/>\n",
       "<path clip-path=\"url(#clip040)\" d=\"M 0 0 M2150 657.804 L2169.86 657.804 L2169.86 661.739 L2154.68 661.739 L2154.68 671.924 L2168.38 671.924 L2168.38 675.86 L2154.68 675.86 L2154.68 692.364 L2150 692.364 L2150 657.804 Z\" fill=\"#000000\" fill-rule=\"evenodd\" fill-opacity=\"1\" /><path clip-path=\"url(#clip040)\" d=\"M 0 0 M2194.4 658.938 L2194.4 663.499 Q2191.74 662.225 2189.38 661.6 Q2187.02 660.975 2184.82 660.975 Q2181 660.975 2178.91 662.457 Q2176.85 663.938 2176.85 666.67 Q2176.85 668.961 2178.22 670.142 Q2179.61 671.299 2183.45 672.017 L2186.27 672.596 Q2191.51 673.591 2193.98 676.114 Q2196.48 678.614 2196.48 682.827 Q2196.48 687.85 2193.1 690.443 Q2189.75 693.035 2183.24 693.035 Q2180.79 693.035 2178.01 692.48 Q2175.26 691.924 2172.29 690.836 L2172.29 686.022 Q2175.14 687.619 2177.87 688.429 Q2180.6 689.239 2183.24 689.239 Q2187.25 689.239 2189.42 687.665 Q2191.6 686.091 2191.6 683.174 Q2191.6 680.628 2190.02 679.193 Q2188.47 677.758 2184.91 677.04 L2182.06 676.485 Q2176.83 675.443 2174.49 673.221 Q2172.15 670.998 2172.15 667.04 Q2172.15 662.457 2175.37 659.818 Q2178.61 657.179 2184.28 657.179 Q2186.71 657.179 2189.24 657.619 Q2191.76 658.059 2194.4 658.938 Z\" fill=\"#000000\" fill-rule=\"evenodd\" fill-opacity=\"1\" /><path clip-path=\"url(#clip040)\" d=\"M 0 0 M2201.14 657.804 L2208.1 657.804 L2216.92 681.322 L2225.79 657.804 L2232.76 657.804 L2232.76 692.364 L2228.2 692.364 L2228.2 662.017 L2219.28 685.721 L2214.58 685.721 L2205.67 662.017 L2205.67 692.364 L2201.14 692.364 L2201.14 657.804 Z\" fill=\"#000000\" fill-rule=\"evenodd\" fill-opacity=\"1\" /><polyline clip-path=\"url(#clip040)\" style=\"stroke:#000000; stroke-width:4; stroke-opacity:1; fill:none\" points=\"\n",
       "  1982,735.564 2126,735.564 \n",
       "  \"/>\n",
       "<path clip-path=\"url(#clip040)\" d=\"M 0 0 M2150 718.284 L2169.86 718.284 L2169.86 722.219 L2154.68 722.219 L2154.68 732.404 L2168.38 732.404 L2168.38 736.34 L2154.68 736.34 L2154.68 752.844 L2150 752.844 L2150 718.284 Z\" fill=\"#000000\" fill-rule=\"evenodd\" fill-opacity=\"1\" /><path clip-path=\"url(#clip040)\" d=\"M 0 0 M2194.4 719.418 L2194.4 723.979 Q2191.74 722.705 2189.38 722.08 Q2187.02 721.455 2184.82 721.455 Q2181 721.455 2178.91 722.937 Q2176.85 724.418 2176.85 727.15 Q2176.85 729.441 2178.22 730.622 Q2179.61 731.779 2183.45 732.497 L2186.27 733.076 Q2191.51 734.071 2193.98 736.594 Q2196.48 739.094 2196.48 743.307 Q2196.48 748.33 2193.1 750.923 Q2189.75 753.515 2183.24 753.515 Q2180.79 753.515 2178.01 752.96 Q2175.26 752.404 2172.29 751.316 L2172.29 746.502 Q2175.14 748.099 2177.87 748.909 Q2180.6 749.719 2183.24 749.719 Q2187.25 749.719 2189.42 748.145 Q2191.6 746.571 2191.6 743.654 Q2191.6 741.108 2190.02 739.673 Q2188.47 738.238 2184.91 737.52 L2182.06 736.965 Q2176.83 735.923 2174.49 733.701 Q2172.15 731.478 2172.15 727.52 Q2172.15 722.937 2175.37 720.298 Q2178.61 717.659 2184.28 717.659 Q2186.71 717.659 2189.24 718.099 Q2191.76 718.539 2194.4 719.418 Z\" fill=\"#000000\" fill-rule=\"evenodd\" fill-opacity=\"1\" /><path clip-path=\"url(#clip040)\" d=\"M 0 0 M2201.14 718.284 L2208.1 718.284 L2216.92 741.802 L2225.79 718.284 L2232.76 718.284 L2232.76 752.844 L2228.2 752.844 L2228.2 722.497 L2219.28 746.201 L2214.58 746.201 L2205.67 722.497 L2205.67 752.844 L2201.14 752.844 L2201.14 718.284 Z\" fill=\"#000000\" fill-rule=\"evenodd\" fill-opacity=\"1\" /><polyline clip-path=\"url(#clip040)\" style=\"stroke:#000000; stroke-width:4; stroke-opacity:1; fill:none\" points=\"\n",
       "  1982,796.044 2126,796.044 \n",
       "  \"/>\n",
       "<path clip-path=\"url(#clip040)\" d=\"M 0 0 M2150 778.764 L2169.86 778.764 L2169.86 782.699 L2154.68 782.699 L2154.68 792.884 L2168.38 792.884 L2168.38 796.82 L2154.68 796.82 L2154.68 813.324 L2150 813.324 L2150 778.764 Z\" fill=\"#000000\" fill-rule=\"evenodd\" fill-opacity=\"1\" /><path clip-path=\"url(#clip040)\" d=\"M 0 0 M2194.4 779.898 L2194.4 784.459 Q2191.74 783.185 2189.38 782.56 Q2187.02 781.935 2184.82 781.935 Q2181 781.935 2178.91 783.417 Q2176.85 784.898 2176.85 787.63 Q2176.85 789.921 2178.22 791.102 Q2179.61 792.259 2183.45 792.977 L2186.27 793.556 Q2191.51 794.551 2193.98 797.074 Q2196.48 799.574 2196.48 803.787 Q2196.48 808.81 2193.1 811.403 Q2189.75 813.995 2183.24 813.995 Q2180.79 813.995 2178.01 813.44 Q2175.26 812.884 2172.29 811.796 L2172.29 806.982 Q2175.14 808.579 2177.87 809.389 Q2180.6 810.199 2183.24 810.199 Q2187.25 810.199 2189.42 808.625 Q2191.6 807.051 2191.6 804.134 Q2191.6 801.588 2190.02 800.153 Q2188.47 798.718 2184.91 798 L2182.06 797.445 Q2176.83 796.403 2174.49 794.181 Q2172.15 791.958 2172.15 788 Q2172.15 783.417 2175.37 780.778 Q2178.61 778.139 2184.28 778.139 Q2186.71 778.139 2189.24 778.579 Q2191.76 779.019 2194.4 779.898 Z\" fill=\"#000000\" fill-rule=\"evenodd\" fill-opacity=\"1\" /><path clip-path=\"url(#clip040)\" d=\"M 0 0 M2201.14 778.764 L2208.1 778.764 L2216.92 802.282 L2225.79 778.764 L2232.76 778.764 L2232.76 813.324 L2228.2 813.324 L2228.2 782.977 L2219.28 806.681 L2214.58 806.681 L2205.67 782.977 L2205.67 813.324 L2201.14 813.324 L2201.14 778.764 Z\" fill=\"#000000\" fill-rule=\"evenodd\" fill-opacity=\"1\" /><polyline clip-path=\"url(#clip040)\" style=\"stroke:#9b7fe8; stroke-width:4; stroke-opacity:1; fill:none\" points=\"\n",
       "  1982,856.524 2126,856.524 \n",
       "  \"/>\n",
       "<path clip-path=\"url(#clip040)\" d=\"M 0 0 M2150 839.244 L2156.3 839.244 L2171.62 868.156 L2171.62 839.244 L2176.16 839.244 L2176.16 873.804 L2169.86 873.804 L2154.54 844.892 L2154.54 873.804 L2150 873.804 L2150 839.244 Z\" fill=\"#000000\" fill-rule=\"evenodd\" fill-opacity=\"1\" /><path clip-path=\"url(#clip040)\" d=\"M 0 0 M2185.49 857.3 L2185.49 869.962 L2192.99 869.962 Q2196.76 869.962 2198.57 868.411 Q2200.39 866.837 2200.39 863.619 Q2200.39 860.378 2198.57 858.85 Q2196.76 857.3 2192.99 857.3 L2185.49 857.3 M2185.49 843.087 L2185.49 853.503 L2192.41 853.503 Q2195.83 853.503 2197.5 852.23 Q2199.19 850.934 2199.19 848.295 Q2199.19 845.679 2197.5 844.383 Q2195.83 843.087 2192.41 843.087 L2185.49 843.087 M2180.81 839.244 L2192.76 839.244 Q2198.1 839.244 2201 841.466 Q2203.89 843.689 2203.89 847.786 Q2203.89 850.957 2202.41 852.832 Q2200.93 854.707 2198.06 855.17 Q2201.51 855.911 2203.4 858.272 Q2205.33 860.61 2205.33 864.128 Q2205.33 868.758 2202.18 871.281 Q2199.03 873.804 2193.22 873.804 L2180.81 873.804 L2180.81 839.244 Z\" fill=\"#000000\" fill-rule=\"evenodd\" fill-opacity=\"1\" /><path clip-path=\"url(#clip040)\" d=\"M 0 0 M2209.98 839.244 L2231.83 839.244 L2231.83 843.179 L2214.65 843.179 L2214.65 853.411 L2231.11 853.411 L2231.11 857.346 L2214.65 857.346 L2214.65 869.869 L2232.25 869.869 L2232.25 873.804 L2209.98 873.804 L2209.98 839.244 Z\" fill=\"#000000\" fill-rule=\"evenodd\" fill-opacity=\"1\" /><polyline clip-path=\"url(#clip040)\" style=\"stroke:#608cf6; stroke-width:4; stroke-opacity:1; fill:none\" points=\"\n",
       "  1982,917.004 2126,917.004 \n",
       "  \"/>\n",
       "<path clip-path=\"url(#clip040)\" d=\"M 0 0 M2150 899.724 L2156.3 899.724 L2171.62 928.636 L2171.62 899.724 L2176.16 899.724 L2176.16 934.284 L2169.86 934.284 L2154.54 905.372 L2154.54 934.284 L2150 934.284 L2150 899.724 Z\" fill=\"#000000\" fill-rule=\"evenodd\" fill-opacity=\"1\" /><path clip-path=\"url(#clip040)\" d=\"M 0 0 M2185.49 917.78 L2185.49 930.442 L2192.99 930.442 Q2196.76 930.442 2198.57 928.891 Q2200.39 927.317 2200.39 924.099 Q2200.39 920.858 2198.57 919.33 Q2196.76 917.78 2192.99 917.78 L2185.49 917.78 M2185.49 903.567 L2185.49 913.983 L2192.41 913.983 Q2195.83 913.983 2197.5 912.71 Q2199.19 911.414 2199.19 908.775 Q2199.19 906.159 2197.5 904.863 Q2195.83 903.567 2192.41 903.567 L2185.49 903.567 M2180.81 899.724 L2192.76 899.724 Q2198.1 899.724 2201 901.946 Q2203.89 904.169 2203.89 908.266 Q2203.89 911.437 2202.41 913.312 Q2200.93 915.187 2198.06 915.65 Q2201.51 916.391 2203.4 918.752 Q2205.33 921.09 2205.33 924.608 Q2205.33 929.238 2202.18 931.761 Q2199.03 934.284 2193.22 934.284 L2180.81 934.284 L2180.81 899.724 Z\" fill=\"#000000\" fill-rule=\"evenodd\" fill-opacity=\"1\" /><path clip-path=\"url(#clip040)\" d=\"M 0 0 M2209.98 899.724 L2231.83 899.724 L2231.83 903.659 L2214.65 903.659 L2214.65 913.891 L2231.11 913.891 L2231.11 917.826 L2214.65 917.826 L2214.65 930.349 L2232.25 930.349 L2232.25 934.284 L2209.98 934.284 L2209.98 899.724 Z\" fill=\"#000000\" fill-rule=\"evenodd\" fill-opacity=\"1\" /><polyline clip-path=\"url(#clip040)\" style=\"stroke:#f05f73; stroke-width:4; stroke-opacity:1; fill:none\" points=\"\n",
       "  1982,977.484 2126,977.484 \n",
       "  \"/>\n",
       "<path clip-path=\"url(#clip040)\" d=\"M 0 0 M2150 960.204 L2156.3 960.204 L2171.62 989.116 L2171.62 960.204 L2176.16 960.204 L2176.16 994.764 L2169.86 994.764 L2154.54 965.852 L2154.54 994.764 L2150 994.764 L2150 960.204 Z\" fill=\"#000000\" fill-rule=\"evenodd\" fill-opacity=\"1\" /><path clip-path=\"url(#clip040)\" d=\"M 0 0 M2185.49 978.26 L2185.49 990.922 L2192.99 990.922 Q2196.76 990.922 2198.57 989.371 Q2200.39 987.797 2200.39 984.579 Q2200.39 981.338 2198.57 979.81 Q2196.76 978.26 2192.99 978.26 L2185.49 978.26 M2185.49 964.047 L2185.49 974.463 L2192.41 974.463 Q2195.83 974.463 2197.5 973.19 Q2199.19 971.894 2199.19 969.255 Q2199.19 966.639 2197.5 965.343 Q2195.83 964.047 2192.41 964.047 L2185.49 964.047 M2180.81 960.204 L2192.76 960.204 Q2198.1 960.204 2201 962.426 Q2203.89 964.649 2203.89 968.746 Q2203.89 971.917 2202.41 973.792 Q2200.93 975.667 2198.06 976.13 Q2201.51 976.871 2203.4 979.232 Q2205.33 981.57 2205.33 985.088 Q2205.33 989.718 2202.18 992.241 Q2199.03 994.764 2193.22 994.764 L2180.81 994.764 L2180.81 960.204 Z\" fill=\"#000000\" fill-rule=\"evenodd\" fill-opacity=\"1\" /><path clip-path=\"url(#clip040)\" d=\"M 0 0 M2209.98 960.204 L2231.83 960.204 L2231.83 964.139 L2214.65 964.139 L2214.65 974.371 L2231.11 974.371 L2231.11 978.306 L2214.65 978.306 L2214.65 990.829 L2232.25 990.829 L2232.25 994.764 L2209.98 994.764 L2209.98 960.204 Z\" fill=\"#000000\" fill-rule=\"evenodd\" fill-opacity=\"1\" /><polyline clip-path=\"url(#clip040)\" style=\"stroke:#dd64b5; stroke-width:4; stroke-opacity:1; fill:none\" points=\"\n",
       "  1982,1037.96 2126,1037.96 \n",
       "  \"/>\n",
       "<path clip-path=\"url(#clip040)\" d=\"M 0 0 M2150 1020.68 L2156.3 1020.68 L2171.62 1049.6 L2171.62 1020.68 L2176.16 1020.68 L2176.16 1055.24 L2169.86 1055.24 L2154.54 1026.33 L2154.54 1055.24 L2150 1055.24 L2150 1020.68 Z\" fill=\"#000000\" fill-rule=\"evenodd\" fill-opacity=\"1\" /><path clip-path=\"url(#clip040)\" d=\"M 0 0 M2185.49 1038.74 L2185.49 1051.4 L2192.99 1051.4 Q2196.76 1051.4 2198.57 1049.85 Q2200.39 1048.28 2200.39 1045.06 Q2200.39 1041.82 2198.57 1040.29 Q2196.76 1038.74 2192.99 1038.74 L2185.49 1038.74 M2185.49 1024.53 L2185.49 1034.94 L2192.41 1034.94 Q2195.83 1034.94 2197.5 1033.67 Q2199.19 1032.37 2199.19 1029.73 Q2199.19 1027.12 2197.5 1025.82 Q2195.83 1024.53 2192.41 1024.53 L2185.49 1024.53 M2180.81 1020.68 L2192.76 1020.68 Q2198.1 1020.68 2201 1022.91 Q2203.89 1025.13 2203.89 1029.23 Q2203.89 1032.4 2202.41 1034.27 Q2200.93 1036.15 2198.06 1036.61 Q2201.51 1037.35 2203.4 1039.71 Q2205.33 1042.05 2205.33 1045.57 Q2205.33 1050.2 2202.18 1052.72 Q2199.03 1055.24 2193.22 1055.24 L2180.81 1055.24 L2180.81 1020.68 Z\" fill=\"#000000\" fill-rule=\"evenodd\" fill-opacity=\"1\" /><path clip-path=\"url(#clip040)\" d=\"M 0 0 M2209.98 1020.68 L2231.83 1020.68 L2231.83 1024.62 L2214.65 1024.62 L2214.65 1034.85 L2231.11 1034.85 L2231.11 1038.79 L2214.65 1038.79 L2214.65 1051.31 L2232.25 1051.31 L2232.25 1055.24 L2209.98 1055.24 L2209.98 1020.68 Z\" fill=\"#000000\" fill-rule=\"evenodd\" fill-opacity=\"1\" /><polyline clip-path=\"url(#clip040)\" style=\"stroke:#6b9e32; stroke-width:4; stroke-opacity:1; fill:none\" points=\"\n",
       "  1982,1098.44 2126,1098.44 \n",
       "  \"/>\n",
       "<path clip-path=\"url(#clip040)\" d=\"M 0 0 M2150 1081.16 L2156.3 1081.16 L2171.62 1110.08 L2171.62 1081.16 L2176.16 1081.16 L2176.16 1115.72 L2169.86 1115.72 L2154.54 1086.81 L2154.54 1115.72 L2150 1115.72 L2150 1081.16 Z\" fill=\"#000000\" fill-rule=\"evenodd\" fill-opacity=\"1\" /><path clip-path=\"url(#clip040)\" d=\"M 0 0 M2185.49 1099.22 L2185.49 1111.88 L2192.99 1111.88 Q2196.76 1111.88 2198.57 1110.33 Q2200.39 1108.76 2200.39 1105.54 Q2200.39 1102.3 2198.57 1100.77 Q2196.76 1099.22 2192.99 1099.22 L2185.49 1099.22 M2185.49 1085.01 L2185.49 1095.42 L2192.41 1095.42 Q2195.83 1095.42 2197.5 1094.15 Q2199.19 1092.85 2199.19 1090.21 Q2199.19 1087.6 2197.5 1086.3 Q2195.83 1085.01 2192.41 1085.01 L2185.49 1085.01 M2180.81 1081.16 L2192.76 1081.16 Q2198.1 1081.16 2201 1083.39 Q2203.89 1085.61 2203.89 1089.71 Q2203.89 1092.88 2202.41 1094.75 Q2200.93 1096.63 2198.06 1097.09 Q2201.51 1097.83 2203.4 1100.19 Q2205.33 1102.53 2205.33 1106.05 Q2205.33 1110.68 2202.18 1113.2 Q2199.03 1115.72 2193.22 1115.72 L2180.81 1115.72 L2180.81 1081.16 Z\" fill=\"#000000\" fill-rule=\"evenodd\" fill-opacity=\"1\" /><path clip-path=\"url(#clip040)\" d=\"M 0 0 M2209.98 1081.16 L2231.83 1081.16 L2231.83 1085.1 L2214.65 1085.1 L2214.65 1095.33 L2231.11 1095.33 L2231.11 1099.27 L2214.65 1099.27 L2214.65 1111.79 L2232.25 1111.79 L2232.25 1115.72 L2209.98 1115.72 L2209.98 1081.16 Z\" fill=\"#000000\" fill-rule=\"evenodd\" fill-opacity=\"1\" /><polyline clip-path=\"url(#clip040)\" style=\"stroke:#009af9; stroke-width:4; stroke-opacity:1; fill:none\" points=\"\n",
       "  1982,1158.92 2126,1158.92 \n",
       "  \"/>\n",
       "<path clip-path=\"url(#clip040)\" d=\"M 0 0 M2150 1141.64 L2156.3 1141.64 L2171.62 1170.56 L2171.62 1141.64 L2176.16 1141.64 L2176.16 1176.2 L2169.86 1176.2 L2154.54 1147.29 L2154.54 1176.2 L2150 1176.2 L2150 1141.64 Z\" fill=\"#000000\" fill-rule=\"evenodd\" fill-opacity=\"1\" /><path clip-path=\"url(#clip040)\" d=\"M 0 0 M2185.49 1159.7 L2185.49 1172.36 L2192.99 1172.36 Q2196.76 1172.36 2198.57 1170.81 Q2200.39 1169.24 2200.39 1166.02 Q2200.39 1162.78 2198.57 1161.25 Q2196.76 1159.7 2192.99 1159.7 L2185.49 1159.7 M2185.49 1145.49 L2185.49 1155.9 L2192.41 1155.9 Q2195.83 1155.9 2197.5 1154.63 Q2199.19 1153.33 2199.19 1150.69 Q2199.19 1148.08 2197.5 1146.78 Q2195.83 1145.49 2192.41 1145.49 L2185.49 1145.49 M2180.81 1141.64 L2192.76 1141.64 Q2198.1 1141.64 2201 1143.87 Q2203.89 1146.09 2203.89 1150.19 Q2203.89 1153.36 2202.41 1155.23 Q2200.93 1157.11 2198.06 1157.57 Q2201.51 1158.31 2203.4 1160.67 Q2205.33 1163.01 2205.33 1166.53 Q2205.33 1171.16 2202.18 1173.68 Q2199.03 1176.2 2193.22 1176.2 L2180.81 1176.2 L2180.81 1141.64 Z\" fill=\"#000000\" fill-rule=\"evenodd\" fill-opacity=\"1\" /><path clip-path=\"url(#clip040)\" d=\"M 0 0 M2209.98 1141.64 L2231.83 1141.64 L2231.83 1145.58 L2214.65 1145.58 L2214.65 1155.81 L2231.11 1155.81 L2231.11 1159.75 L2214.65 1159.75 L2214.65 1172.27 L2232.25 1172.27 L2232.25 1176.2 L2209.98 1176.2 L2209.98 1141.64 Z\" fill=\"#000000\" fill-rule=\"evenodd\" fill-opacity=\"1\" /><polyline clip-path=\"url(#clip040)\" style=\"stroke:#e26f46; stroke-width:4; stroke-opacity:1; fill:none\" points=\"\n",
       "  1982,1219.4 2126,1219.4 \n",
       "  \"/>\n",
       "<path clip-path=\"url(#clip040)\" d=\"M 0 0 M2150 1202.12 L2156.3 1202.12 L2171.62 1231.04 L2171.62 1202.12 L2176.16 1202.12 L2176.16 1236.68 L2169.86 1236.68 L2154.54 1207.77 L2154.54 1236.68 L2150 1236.68 L2150 1202.12 Z\" fill=\"#000000\" fill-rule=\"evenodd\" fill-opacity=\"1\" /><path clip-path=\"url(#clip040)\" d=\"M 0 0 M2185.49 1220.18 L2185.49 1232.84 L2192.99 1232.84 Q2196.76 1232.84 2198.57 1231.29 Q2200.39 1229.72 2200.39 1226.5 Q2200.39 1223.26 2198.57 1221.73 Q2196.76 1220.18 2192.99 1220.18 L2185.49 1220.18 M2185.49 1205.97 L2185.49 1216.38 L2192.41 1216.38 Q2195.83 1216.38 2197.5 1215.11 Q2199.19 1213.81 2199.19 1211.17 Q2199.19 1208.56 2197.5 1207.26 Q2195.83 1205.97 2192.41 1205.97 L2185.49 1205.97 M2180.81 1202.12 L2192.76 1202.12 Q2198.1 1202.12 2201 1204.35 Q2203.89 1206.57 2203.89 1210.67 Q2203.89 1213.84 2202.41 1215.71 Q2200.93 1217.59 2198.06 1218.05 Q2201.51 1218.79 2203.4 1221.15 Q2205.33 1223.49 2205.33 1227.01 Q2205.33 1231.64 2202.18 1234.16 Q2199.03 1236.68 2193.22 1236.68 L2180.81 1236.68 L2180.81 1202.12 Z\" fill=\"#000000\" fill-rule=\"evenodd\" fill-opacity=\"1\" /><path clip-path=\"url(#clip040)\" d=\"M 0 0 M2209.98 1202.12 L2231.83 1202.12 L2231.83 1206.06 L2214.65 1206.06 L2214.65 1216.29 L2231.11 1216.29 L2231.11 1220.23 L2214.65 1220.23 L2214.65 1232.75 L2232.25 1232.75 L2232.25 1236.68 L2209.98 1236.68 L2209.98 1202.12 Z\" fill=\"#000000\" fill-rule=\"evenodd\" fill-opacity=\"1\" /><polyline clip-path=\"url(#clip040)\" style=\"stroke:#3da44d; stroke-width:4; stroke-opacity:1; fill:none\" points=\"\n",
       "  1982,1279.88 2126,1279.88 \n",
       "  \"/>\n",
       "<path clip-path=\"url(#clip040)\" d=\"M 0 0 M2150 1262.6 L2156.3 1262.6 L2171.62 1291.52 L2171.62 1262.6 L2176.16 1262.6 L2176.16 1297.16 L2169.86 1297.16 L2154.54 1268.25 L2154.54 1297.16 L2150 1297.16 L2150 1262.6 Z\" fill=\"#000000\" fill-rule=\"evenodd\" fill-opacity=\"1\" /><path clip-path=\"url(#clip040)\" d=\"M 0 0 M2185.49 1280.66 L2185.49 1293.32 L2192.99 1293.32 Q2196.76 1293.32 2198.57 1291.77 Q2200.39 1290.2 2200.39 1286.98 Q2200.39 1283.74 2198.57 1282.21 Q2196.76 1280.66 2192.99 1280.66 L2185.49 1280.66 M2185.49 1266.45 L2185.49 1276.86 L2192.41 1276.86 Q2195.83 1276.86 2197.5 1275.59 Q2199.19 1274.29 2199.19 1271.65 Q2199.19 1269.04 2197.5 1267.74 Q2195.83 1266.45 2192.41 1266.45 L2185.49 1266.45 M2180.81 1262.6 L2192.76 1262.6 Q2198.1 1262.6 2201 1264.83 Q2203.89 1267.05 2203.89 1271.15 Q2203.89 1274.32 2202.41 1276.19 Q2200.93 1278.07 2198.06 1278.53 Q2201.51 1279.27 2203.4 1281.63 Q2205.33 1283.97 2205.33 1287.49 Q2205.33 1292.12 2202.18 1294.64 Q2199.03 1297.16 2193.22 1297.16 L2180.81 1297.16 L2180.81 1262.6 Z\" fill=\"#000000\" fill-rule=\"evenodd\" fill-opacity=\"1\" /><path clip-path=\"url(#clip040)\" d=\"M 0 0 M2209.98 1262.6 L2231.83 1262.6 L2231.83 1266.54 L2214.65 1266.54 L2214.65 1276.77 L2231.11 1276.77 L2231.11 1280.71 L2214.65 1280.71 L2214.65 1293.23 L2232.25 1293.23 L2232.25 1297.16 L2209.98 1297.16 L2209.98 1262.6 Z\" fill=\"#000000\" fill-rule=\"evenodd\" fill-opacity=\"1\" /><polyline clip-path=\"url(#clip040)\" style=\"stroke:#c271d2; stroke-width:4; stroke-opacity:1; fill:none\" points=\"\n",
       "  1982,1340.36 2126,1340.36 \n",
       "  \"/>\n",
       "<path clip-path=\"url(#clip040)\" d=\"M 0 0 M2150 1323.08 L2156.3 1323.08 L2171.62 1352 L2171.62 1323.08 L2176.16 1323.08 L2176.16 1357.64 L2169.86 1357.64 L2154.54 1328.73 L2154.54 1357.64 L2150 1357.64 L2150 1323.08 Z\" fill=\"#000000\" fill-rule=\"evenodd\" fill-opacity=\"1\" /><path clip-path=\"url(#clip040)\" d=\"M 0 0 M2185.49 1341.14 L2185.49 1353.8 L2192.99 1353.8 Q2196.76 1353.8 2198.57 1352.25 Q2200.39 1350.68 2200.39 1347.46 Q2200.39 1344.22 2198.57 1342.69 Q2196.76 1341.14 2192.99 1341.14 L2185.49 1341.14 M2185.49 1326.93 L2185.49 1337.34 L2192.41 1337.34 Q2195.83 1337.34 2197.5 1336.07 Q2199.19 1334.77 2199.19 1332.13 Q2199.19 1329.52 2197.5 1328.22 Q2195.83 1326.93 2192.41 1326.93 L2185.49 1326.93 M2180.81 1323.08 L2192.76 1323.08 Q2198.1 1323.08 2201 1325.31 Q2203.89 1327.53 2203.89 1331.63 Q2203.89 1334.8 2202.41 1336.67 Q2200.93 1338.55 2198.06 1339.01 Q2201.51 1339.75 2203.4 1342.11 Q2205.33 1344.45 2205.33 1347.97 Q2205.33 1352.6 2202.18 1355.12 Q2199.03 1357.64 2193.22 1357.64 L2180.81 1357.64 L2180.81 1323.08 Z\" fill=\"#000000\" fill-rule=\"evenodd\" fill-opacity=\"1\" /><path clip-path=\"url(#clip040)\" d=\"M 0 0 M2209.98 1323.08 L2231.83 1323.08 L2231.83 1327.02 L2214.65 1327.02 L2214.65 1337.25 L2231.11 1337.25 L2231.11 1341.19 L2214.65 1341.19 L2214.65 1353.71 L2232.25 1353.71 L2232.25 1357.64 L2209.98 1357.64 L2209.98 1323.08 Z\" fill=\"#000000\" fill-rule=\"evenodd\" fill-opacity=\"1\" /><polyline clip-path=\"url(#clip040)\" style=\"stroke:#ac8d18; stroke-width:4; stroke-opacity:1; fill:none\" points=\"\n",
       "  1982,1400.84 2126,1400.84 \n",
       "  \"/>\n",
       "<path clip-path=\"url(#clip040)\" d=\"M 0 0 M2150 1383.56 L2156.3 1383.56 L2171.62 1412.48 L2171.62 1383.56 L2176.16 1383.56 L2176.16 1418.12 L2169.86 1418.12 L2154.54 1389.21 L2154.54 1418.12 L2150 1418.12 L2150 1383.56 Z\" fill=\"#000000\" fill-rule=\"evenodd\" fill-opacity=\"1\" /><path clip-path=\"url(#clip040)\" d=\"M 0 0 M2185.49 1401.62 L2185.49 1414.28 L2192.99 1414.28 Q2196.76 1414.28 2198.57 1412.73 Q2200.39 1411.16 2200.39 1407.94 Q2200.39 1404.7 2198.57 1403.17 Q2196.76 1401.62 2192.99 1401.62 L2185.49 1401.62 M2185.49 1387.41 L2185.49 1397.82 L2192.41 1397.82 Q2195.83 1397.82 2197.5 1396.55 Q2199.19 1395.25 2199.19 1392.61 Q2199.19 1390 2197.5 1388.7 Q2195.83 1387.41 2192.41 1387.41 L2185.49 1387.41 M2180.81 1383.56 L2192.76 1383.56 Q2198.1 1383.56 2201 1385.79 Q2203.89 1388.01 2203.89 1392.11 Q2203.89 1395.28 2202.41 1397.15 Q2200.93 1399.03 2198.06 1399.49 Q2201.51 1400.23 2203.4 1402.59 Q2205.33 1404.93 2205.33 1408.45 Q2205.33 1413.08 2202.18 1415.6 Q2199.03 1418.12 2193.22 1418.12 L2180.81 1418.12 L2180.81 1383.56 Z\" fill=\"#000000\" fill-rule=\"evenodd\" fill-opacity=\"1\" /><path clip-path=\"url(#clip040)\" d=\"M 0 0 M2209.98 1383.56 L2231.83 1383.56 L2231.83 1387.5 L2214.65 1387.5 L2214.65 1397.73 L2231.11 1397.73 L2231.11 1401.67 L2214.65 1401.67 L2214.65 1414.19 L2232.25 1414.19 L2232.25 1418.12 L2209.98 1418.12 L2209.98 1383.56 Z\" fill=\"#000000\" fill-rule=\"evenodd\" fill-opacity=\"1\" /><polyline clip-path=\"url(#clip040)\" style=\"stroke:#00a9ad; stroke-width:4; stroke-opacity:1; fill:none\" points=\"\n",
       "  1982,1461.32 2126,1461.32 \n",
       "  \"/>\n",
       "<path clip-path=\"url(#clip040)\" d=\"M 0 0 M2150 1444.04 L2156.3 1444.04 L2171.62 1472.96 L2171.62 1444.04 L2176.16 1444.04 L2176.16 1478.6 L2169.86 1478.6 L2154.54 1449.69 L2154.54 1478.6 L2150 1478.6 L2150 1444.04 Z\" fill=\"#000000\" fill-rule=\"evenodd\" fill-opacity=\"1\" /><path clip-path=\"url(#clip040)\" d=\"M 0 0 M2185.49 1462.1 L2185.49 1474.76 L2192.99 1474.76 Q2196.76 1474.76 2198.57 1473.21 Q2200.39 1471.64 2200.39 1468.42 Q2200.39 1465.18 2198.57 1463.65 Q2196.76 1462.1 2192.99 1462.1 L2185.49 1462.1 M2185.49 1447.89 L2185.49 1458.3 L2192.41 1458.3 Q2195.83 1458.3 2197.5 1457.03 Q2199.19 1455.73 2199.19 1453.09 Q2199.19 1450.48 2197.5 1449.18 Q2195.83 1447.89 2192.41 1447.89 L2185.49 1447.89 M2180.81 1444.04 L2192.76 1444.04 Q2198.1 1444.04 2201 1446.27 Q2203.89 1448.49 2203.89 1452.59 Q2203.89 1455.76 2202.41 1457.63 Q2200.93 1459.51 2198.06 1459.97 Q2201.51 1460.71 2203.4 1463.07 Q2205.33 1465.41 2205.33 1468.93 Q2205.33 1473.56 2202.18 1476.08 Q2199.03 1478.6 2193.22 1478.6 L2180.81 1478.6 L2180.81 1444.04 Z\" fill=\"#000000\" fill-rule=\"evenodd\" fill-opacity=\"1\" /><path clip-path=\"url(#clip040)\" d=\"M 0 0 M2209.98 1444.04 L2231.83 1444.04 L2231.83 1447.98 L2214.65 1447.98 L2214.65 1458.21 L2231.11 1458.21 L2231.11 1462.15 L2214.65 1462.15 L2214.65 1474.67 L2232.25 1474.67 L2232.25 1478.6 L2209.98 1478.6 L2209.98 1444.04 Z\" fill=\"#000000\" fill-rule=\"evenodd\" fill-opacity=\"1\" /></svg>\n"
      ]
     },
     "execution_count": 36,
     "metadata": {},
     "output_type": "execute_result"
    }
   ],
   "source": [
    "plt = plot(vSpace.u[:,vSpace.nv÷2,vSpace.nw÷2], data_boltz_1D, label=\"FSM\", color=:black, xlabel=\"X\", ylabel=\"PDF\")\n",
    "plt = plot!(vSpace.u[:,vSpace.nv÷2,vSpace.nw÷2], n_ode(gpu(f0_1D), gpu(res.minimizer)) |> Array, label=\"NBE\")"
   ]
  },
  {
   "cell_type": "code",
   "execution_count": null,
   "metadata": {},
   "outputs": [],
   "source": []
  },
  {
   "cell_type": "code",
   "execution_count": 9,
   "metadata": {},
   "outputs": [
    {
     "data": {
      "text/plain": [
       "60-element Array{Float32,1}:\n",
       " 9.461994f-9\n",
       " 3.4069217f-8\n",
       " 1.16041726f-7\n",
       " 3.7388557f-7\n",
       " 1.1395564f-6\n",
       " 3.2855298f-6\n",
       " 8.960817f-6\n",
       " 2.3118642f-5\n",
       " 5.6422152f-5\n",
       " 0.00013025958\n",
       " 0.0002844739\n",
       " 0.0005876899\n",
       " 0.0011484909\n",
       " ⋮\n",
       " 0.0005876899\n",
       " 0.0002844739\n",
       " 0.00013025958\n",
       " 5.6422152f-5\n",
       " 2.3118642f-5\n",
       " 8.960817f-6\n",
       " 3.2855298f-6\n",
       " 1.1395564f-6\n",
       " 3.7388557f-7\n",
       " 1.16041726f-7\n",
       " 3.4069217f-8\n",
       " 9.461994f-9"
      ]
     },
     "execution_count": 9,
     "metadata": {},
     "output_type": "execute_result"
    }
   ],
   "source": [
    "f0_1D"
   ]
  },
  {
   "cell_type": "code",
   "execution_count": null,
   "metadata": {},
   "outputs": [],
   "source": []
  }
 ],
 "metadata": {
  "kernelspec": {
   "display_name": "Julia 1.4.1",
   "language": "julia",
   "name": "julia-1.4"
  },
  "language_info": {
   "file_extension": ".jl",
   "mimetype": "application/julia",
   "name": "julia",
   "version": "1.4.1"
  }
 },
 "nbformat": 4,
 "nbformat_minor": 4
}
