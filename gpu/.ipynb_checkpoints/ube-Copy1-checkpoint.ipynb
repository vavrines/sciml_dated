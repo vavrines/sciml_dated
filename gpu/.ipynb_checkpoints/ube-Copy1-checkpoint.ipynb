{
 "cells": [
  {
   "cell_type": "code",
   "execution_count": 1,
   "metadata": {
    "scrolled": false
   },
   "outputs": [
    {
     "name": "stderr",
     "output_type": "stream",
     "text": [
      "┌ Info: Precompiling OrdinaryDiffEq [1dea7af3-3e70-54e6-95c3-0bf5283fa5ed]\n",
      "└ @ Base loading.jl:1260\n",
      "┌ Info: Precompiling Flux [587475ba-b771-5e3f-ad9e-33799f191a9c]\n",
      "└ @ Base loading.jl:1260\n",
      "┌ Info: Precompiling DiffEqFlux [aae7a2af-3d4f-5e19-a356-7da93b79d9d0]\n",
      "└ @ Base loading.jl:1260\n",
      "┌ Info: Precompiling Plots [91a5bcdd-55d7-5caf-9e0b-520d859cae80]\n",
      "└ @ Base loading.jl:1260\n",
      "┌ Error: (compiled mode) evaluation error starting at /home/vavrines/.julia/packages/DistributionsAD/BtYLj/src/reversediff.jl:19\n",
      "│   mod = DistributionsAD.ReverseDiffX\n",
      "│   ex = begin\n",
      "    #= /home/vavrines/.julia/packages/DistributionsAD/BtYLj/src/reversediff.jl:19 =#\n",
      "    const RDBroadcasted{F, T} = Broadcasted{<:Any, <:Any, F, T}\n",
      "end\n",
      "│   exception = (ErrorException(\"invalid redefinition of constant RDBroadcasted\"), Union{Ptr{Nothing}, Base.InterpreterIP}[Ptr{Nothing} @0x00007f68f4cd472f, Ptr{Nothing} @0x00007f68f4d6194c, Ptr{Nothing} @0x00007f68f4d640f8, Ptr{Nothing} @0x00007f68f4d64fe7, Base.InterpreterIP in top-level CodeInfo for DistributionsAD.ReverseDiffX at statement 15])\n",
      "└ @ Revise /home/vavrines/.julia/packages/Revise/BqeJF/src/lowered.jl:85\n",
      "┌ Info: Precompiling Kinetic [82403725-3cee-4f7c-b214-1ce71af4a797]\n",
      "└ @ Base loading.jl:1260\n"
     ]
    }
   ],
   "source": [
    "using Revise, OrdinaryDiffEq, Flux, DiffEqFlux, Optim\n",
    "using Plots, FileIO, JLD2, OffsetArrays, ProgressMeter, Kinetic"
   ]
  },
  {
   "cell_type": "code",
   "execution_count": 2,
   "metadata": {
    "scrolled": true
   },
   "outputs": [
    {
     "data": {
      "text/plain": [
       "2-element Array{Symbol,1}:\n",
       " :ks\n",
       " :ctr"
      ]
     },
     "execution_count": 2,
     "metadata": {},
     "output_type": "execute_result"
    }
   ],
   "source": [
    "@load \"sol1d.jld2\" ks ctr"
   ]
  },
  {
   "cell_type": "code",
   "execution_count": 3,
   "metadata": {},
   "outputs": [],
   "source": [
    "vMeshType = \"rectangle\"\n",
    "umin = ks.vSpace.u0\n",
    "umax = ks.vSpace.u1\n",
    "nu = ks.vSpace.nu\n",
    "vmin = ks.vSpace.u0\n",
    "vmax = ks.vSpace.u1\n",
    "nv = 28\n",
    "nvg = 0\n",
    "wmin = ks.vSpace.u0\n",
    "wmax = ks.vSpace.u1\n",
    "nw = 28\n",
    "nwg = 0\n",
    "nm = 5\n",
    "tLen = 3\n",
    "nh = 12;"
   ]
  },
  {
   "cell_type": "code",
   "execution_count": 4,
   "metadata": {},
   "outputs": [],
   "source": [
    "vSpace2D = VSpace2D(vmin, vmax, nv, wmin, wmax, nw, vMeshType)\n",
    "vSpace3D = VSpace3D(umin, umax, nu, vmin, vmax, nv, wmin, wmax, nw, vMeshType)\n",
    "\n",
    "kn_bzm = hs_boltz_kn(ks.gas.μᵣ, 1.0)\n",
    "sos = sound_speed(ks.ib.primR, ks.gas.γ)\n",
    "tmax = (ks.vSpace.u1 + sos) / ks.pSpace.dx[1]\n",
    "dt = Float32(ks.set.cfl / tmax)\n",
    "tspan = (0.f0, dt)\n",
    "tran = range(tspan[1], tspan[2], length = tLen);"
   ]
  },
  {
   "cell_type": "code",
   "execution_count": 5,
   "metadata": {},
   "outputs": [],
   "source": [
    "#--- Boltzmann dataset ---#\n",
    "f_full = Array{Float32}(undef, ks.vSpace.nu, nv, nw, ks.pSpace.nx)\n",
    "for i = 1:ks.pSpace.nx\n",
    "    f_full[:, :, :, i] .= full_distribution(\n",
    "        ctr[i].h,\n",
    "        ctr[i].b,\n",
    "        ks.vSpace.u,\n",
    "        ks.vSpace.weights,\n",
    "        vSpace3D.v,\n",
    "        vSpace3D.w,\n",
    "        ctr[i].prim,\n",
    "        ks.gas.γ,\n",
    "    )\n",
    "end\n",
    "\n",
    "phi, psi, phipsi = kernel_mode(\n",
    "    nm,\n",
    "    vSpace3D.u1,\n",
    "    vSpace3D.v1,\n",
    "    vSpace3D.w1,\n",
    "    vSpace3D.du[1, 1, 1],\n",
    "    vSpace3D.dv[1, 1, 1],\n",
    "    vSpace3D.dw[1, 1, 1],\n",
    "    vSpace3D.nu,\n",
    "    vSpace3D.nv,\n",
    "    vSpace3D.nw,\n",
    "    ks.gas.αᵣ,\n",
    ")\n",
    "\n",
    "function boltzmann(f, p, t)\n",
    "    Kn, M, phi, psi, phipsi = p\n",
    "    return boltzmann_fft(f[1:end,1:end,1:end], Kn, M, phi, psi, phipsi)\n",
    "end\n",
    "\n",
    "function boltzmann!(df, f, p, t)\n",
    "    Kn, M, phi, psi, phipsi = p\n",
    "    df .= boltzmann_fft(f, Kn, M, phi, psi, phipsi)\n",
    "end\n",
    "\n",
    "data_boltz = zeros(Float32, ks.vSpace.nu, nv, nw, ks.pSpace.nx, tLen)\n",
    "for i = 1:ks.pSpace.nx\n",
    "    prob = ODEProblem(\n",
    "        boltzmann!,\n",
    "        f_full[:, :, :, i],\n",
    "        tspan,\n",
    "        [kn_bzm, nm, phi, psi, phipsi],\n",
    "    )\n",
    "\n",
    "    data_boltz[:, :, :, i, :] = solve(prob, Tsit5(), saveat = tran) |> Array\n",
    "end\n",
    "\n",
    "h_boltz = zeros(Float32, ks.vSpace.nu, ks.pSpace.nx, tLen)\n",
    "b_boltz = zeros(Float32, ks.vSpace.nu, ks.pSpace.nx, tLen)\n",
    "for j = 1:tLen, i = 1:ks.pSpace.nx\n",
    "    h_boltz[:, i, j], b_boltz[:, i, j] = reduce_distribution(\n",
    "        data_boltz[:, :, :, i, j],\n",
    "        vSpace3D.v,\n",
    "        vSpace3D.w,\n",
    "        vSpace2D.weights,\n",
    "    )\n",
    "end\n",
    "Y = vcat(h_boltz, b_boltz);"
   ]
  },
  {
   "cell_type": "code",
   "execution_count": 6,
   "metadata": {
    "scrolled": true
   },
   "outputs": [
    {
     "data": {
      "text/plain": [
       "96×50×3 Array{Float32,3}:\n",
       "[:, :, 1] =\n",
       " 0.0          -8.62334f-13  -1.01498f-12  …  -6.31271f-14  3.25519f-24\n",
       " 0.0           3.07361f-13   3.35859f-13      3.54352f-14  2.09243f-22\n",
       " 0.0           1.22118f-12   1.25786f-12     -1.67577f-14  1.13805f-20\n",
       " 0.0          -8.5086f-13   -8.6219f-13      -3.86033f-14  5.23732f-19\n",
       " 5.6f-44      -9.16916f-13  -9.24898f-13      4.47824f-13  2.03935f-17\n",
       " 1.88221f-40   2.24548f-11   2.2861f-11   …  -2.26154f-12  6.71912f-16\n",
       " 4.46445f-37  -4.4555f-11   -4.65967f-11      8.12398f-12  1.87313f-14\n",
       " 7.48289f-34   3.56334f-11   3.91497f-11     -2.23086f-11  4.41835f-13\n",
       " 8.86287f-31  -1.17641f-11  -1.39135f-11      6.15249f-11  8.81837f-12\n",
       " 7.41794f-28   1.17874f-12   1.77566f-12      4.5586f-11   1.4892f-10\n",
       " 4.38727f-25   2.7523f-12    2.79068f-12  …   2.31784f-9   2.12791f-9\n",
       " 1.83362f-22  -4.15523f-12  -4.03865f-12      2.55441f-8   2.5727f-8\n",
       " 5.41537f-20   2.6023f-13   -8.12107f-13      2.64508f-7   2.63186f-7\n",
       " ⋮                                        ⋱                \n",
       " 6.05704f-6    6.10597f-6    6.11774f-6       0.000161165  0.000160596\n",
       " 3.03851f-7    2.31833f-7    2.13075f-7   …   2.53055f-5   2.52065f-5\n",
       " 1.07712f-8   -1.72075f-7   -2.204f-7         3.36371f-6   3.34754f-6\n",
       " 2.69819f-10  -1.11054f-7   -1.41544f-7       3.77026f-7   3.76162f-7\n",
       " 4.77622f-12  -3.10804f-8   -4.00485f-8       3.66953f-8   3.57652f-8\n",
       " 5.97445f-14  -2.96445f-9   -3.78556f-9       2.34813f-9   2.87729f-9\n",
       " 5.28099f-16  -6.27581f-10  -8.66195f-10  …   5.32189f-10  1.95858f-10\n",
       " 3.29865f-18   2.14555f-10   3.07646f-10     -1.60674f-10  1.12807f-11\n",
       " 1.456f-20    -8.95142f-11  -1.28569f-10      7.24159f-11  5.49751f-13\n",
       " 4.54138f-23   2.74075f-11   3.9053f-11      -1.54834f-11  2.2669f-14\n",
       " 1.00096f-25  -6.04453f-12  -8.38987f-12     -7.50917f-11  7.90925f-16\n",
       " 1.55902f-28   9.26267f-13   1.20834f-12  …  -1.60139f-9   2.33493f-17\n",
       "\n",
       "[:, :, 2] =\n",
       " 0.0          -8.38557f-13  -9.86997f-13  …  -5.75841f-14  3.25519f-24\n",
       " 0.0           2.98886f-13   3.266f-13        3.23237f-14  2.09243f-22\n",
       " 0.0           1.18751f-12   1.22318f-12     -1.52862f-14  1.13805f-20\n",
       " 0.0          -8.27399f-13  -8.38421f-13     -3.52136f-14  5.23732f-19\n",
       " 5.6f-44      -8.91635f-13  -8.99401f-13      4.08504f-13  2.03935f-17\n",
       " 1.88221f-40   2.18357f-11   2.22308f-11  …  -2.0629f-12   6.71912f-16\n",
       " 4.46445f-37  -4.33265f-11  -4.53122f-11      7.41229f-12  1.87313f-14\n",
       " 7.48289f-34   3.46509f-11   3.80705f-11     -2.03108f-11  4.41835f-13\n",
       " 8.86287f-31  -1.14397f-11  -1.353f-11        5.68994f-11  8.81837f-12\n",
       " 7.41794f-28   1.14624f-12   1.72671f-12      5.46942f-11  1.4892f-10\n",
       " 4.38727f-25   2.67641f-12   2.71375f-12  …   2.30156f-9   2.12791f-9\n",
       " 1.83362f-22  -4.04066f-12  -3.92732f-12      2.55639f-8   2.5727f-8\n",
       " 5.41537f-20   2.53054f-13  -7.89719f-13      2.6442f-7    2.63186f-7\n",
       " ⋮                                        ⋱                \n",
       " 6.05704f-6    6.11039f-6    6.12113f-6       0.000161149  0.000160596\n",
       " 3.03851f-7    2.34183f-7    2.15896f-7   …   2.53033f-5   2.52065f-5\n",
       " 1.07712f-8   -1.67018f-7   -2.14013f-7       3.36332f-6   3.34754f-6\n",
       " 2.69819f-10  -1.07984f-7   -1.37634f-7       3.77086f-7   3.76162f-7\n",
       " 4.77622f-12  -3.02233f-8   -3.89443f-8       3.66286f-8   3.57652f-8\n",
       " 5.97445f-14  -2.88271f-9   -3.6812f-9        2.39597f-9   2.87729f-9\n",
       " 5.28099f-16  -6.10277f-10  -8.42316f-10  …   5.02763f-10  1.95858f-10\n",
       " 3.29865f-18   2.0864f-10    2.99165f-10     -1.45568f-10  1.12807f-11\n",
       " 1.456f-20    -8.70461f-11  -1.25025f-10      6.61059f-11  5.49751f-13\n",
       " 4.54138f-23   2.66518f-11   3.79765f-11     -1.41219f-11  2.2669f-14\n",
       " 1.00096f-25  -5.87787f-12  -8.15858f-12     -6.84981f-11  7.90925f-16\n",
       " 1.55902f-28   9.00728f-13   1.17503f-12  …  -1.46078f-9   2.33493f-17\n",
       "\n",
       "[:, :, 3] =\n",
       " 0.0          -8.15436f-13  -9.59789f-13  …  -5.25288f-14  3.25519f-24\n",
       " 0.0           2.90645f-13   3.17597f-13      2.9486f-14   2.09243f-22\n",
       " 0.0           1.15476f-12   1.18946f-12     -1.39443f-14  1.13805f-20\n",
       " 0.0          -8.04586f-13  -8.15309f-13     -3.21221f-14  5.23732f-19\n",
       " 5.6f-44      -8.67051f-13  -8.74607f-13      3.72643f-13  2.03935f-17\n",
       " 1.88221f-40   2.12336f-11   2.1618f-11   …  -1.88174f-12  6.71912f-16\n",
       " 4.46445f-37  -4.21319f-11  -4.40631f-11      6.76322f-12  1.87313f-14\n",
       " 7.48289f-34   3.36955f-11   3.7021f-11      -1.84887f-11  4.41835f-13\n",
       " 8.86287f-31  -1.11243f-11  -1.3157f-11       5.26808f-11  8.81837f-12\n",
       " 7.41794f-28   1.11464f-12   1.67911f-12      6.30011f-11  1.4892f-10\n",
       " 4.38727f-25   2.60261f-12   2.63894f-12  …   2.28672f-9   2.12791f-9\n",
       " 1.83362f-22  -3.92925f-12  -3.81905f-12      2.55819f-8   2.5727f-8\n",
       " 5.41537f-20   2.46077f-13  -7.67949f-13      2.64339f-7   2.63186f-7\n",
       " ⋮                                        ⋱                \n",
       " 6.05704f-6    6.11469f-6    6.12442f-6       0.000161134  0.000160596\n",
       " 3.03851f-7    2.36467f-7    2.18639f-7   …   2.53012f-5   2.52065f-5\n",
       " 1.07712f-8   -1.621f-7     -2.07803f-7       3.36296f-6   3.34754f-6\n",
       " 2.69819f-10  -1.04999f-7   -1.33832f-7       3.77141f-7   3.76162f-7\n",
       " 4.77622f-12  -2.93898f-8   -3.78706f-8       3.65677f-8   3.57652f-8\n",
       " 5.97445f-14  -2.80323f-9   -3.57972f-9       2.43961f-9   2.87729f-9\n",
       " 5.28099f-16  -5.93451f-10  -8.19096f-10  …   4.75926f-10  1.95858f-10\n",
       " 3.29865f-18   2.02887f-10   2.90918f-10     -1.31792f-10  1.12807f-11\n",
       " 1.456f-20    -8.46461f-11  -1.21578f-10      6.03511f-11  5.49751f-13\n",
       " 4.54138f-23   2.5917f-11    3.69296f-11     -1.28801f-11  2.2669f-14\n",
       " 1.00096f-25  -5.71581f-12  -7.93368f-12     -6.24845f-11  7.90925f-16\n",
       " 1.55902f-28   8.75893f-13   1.14264f-12  …  -1.33254f-9   2.33493f-17"
      ]
     },
     "execution_count": 6,
     "metadata": {},
     "output_type": "execute_result"
    }
   ],
   "source": [
    "#--- BGK dataset ---#\n",
    "function bgk!(df, f, p, t)\n",
    "    H, B, tau = p\n",
    "    df[1:end÷2, :] .= (H .- f[1:end÷2, :]) ./ tau\n",
    "    df[end÷2+1:end, :] .= (B .- f[end÷2+1:end, :]) ./ tau\n",
    "end\n",
    "\n",
    "X = Array{Float32}(undef, nu * 2, ks.pSpace.nx)\n",
    "for i = 1:ks.pSpace.nx\n",
    "    X[1:nu, i] .= ctr[i].h\n",
    "    X[nu+1:end, i] .= ctr[i].b\n",
    "end\n",
    "\n",
    "H = Array{Float32}(undef, nu, ks.pSpace.nx)\n",
    "B = Array{Float32}(undef, nu, ks.pSpace.nx)\n",
    "τ = Array{Float32}(undef, 1, ks.pSpace.nx)\n",
    "for i = 1:ks.pSpace.nx\n",
    "    H[:, i] .= maxwellian(ks.vSpace.u, ctr[i].prim)\n",
    "    B[:, i] .= H[:, i] .* ks.gas.K ./ (2.0 .* ctr[i].prim[end])\n",
    "    τ[1, i] = vhs_collision_time(ctr[i].prim, ks.gas.μᵣ, ks.gas.ω)\n",
    "end\n",
    "P = [H, B, τ]\n",
    "\n",
    "prob = ODEProblem(bgk!, X, tspan, P)\n",
    "Y1 = solve(prob, Midpoint(), saveat = tran) |> Array;\n",
    "\n",
    "#=\n",
    "qf = Array{Float32}(undef, ks.pSpace.nx)\n",
    "SH = Array{Float32}(undef, nu, ks.pSpace.nx)\n",
    "SB = Array{Float32}(undef, nu, ks.pSpace.nx)\n",
    "for i = 1:ks.pSpace.nx\n",
    "    qf[i] = heat_flux(ctr[i].h, ctr[i].b, ctr[i].prim, ks.vSpace.u, ks.vSpace.weights)\n",
    "    SH[:, i], SB[:, i] = shakhov(ks.vSpace.u, H[:, i], B[:, i], qf[i], ctr[i].prim, ks.gas.Pr, ks.gas.K)\n",
    "    SH[:, i] .+= H[:, i] .+ SH[:, i]\n",
    "    SB[:, i] .+= B[:, i] .+ SB[:, i]\n",
    "end\n",
    "PS = [SH, SB, τ];\n",
    "=#"
   ]
  },
  {
   "cell_type": "code",
   "execution_count": null,
   "metadata": {},
   "outputs": [],
   "source": []
  },
  {
   "cell_type": "code",
   "execution_count": 7,
   "metadata": {},
   "outputs": [
    {
     "data": {
      "text/plain": [
       "#5 (generic function with 1 method)"
      ]
     },
     "execution_count": 7,
     "metadata": {},
     "output_type": "execute_result"
    }
   ],
   "source": [
    "#--- universal differential equation ---#\n",
    "model_univ = FastChain(\n",
    "    #(x, p) -> zeros(eltype(x), axes(x)),\n",
    "    FastDense(ks.vSpace.nu * 2, ks.vSpace.nu * 2 * nh, tanh),\n",
    "    #FastDense(ks.vSpace.nu * 2 * nh, ks.vSpace.nu * 2 * nh, tanh),\n",
    "    FastDense(ks.vSpace.nu * 2 * nh, ks.vSpace.nu * 2),\n",
    ")\n",
    "\n",
    "p_model = initial_params(model_univ)\n",
    "\n",
    "function dfdt(f, p, t)\n",
    "    h = f[1:nu, :]\n",
    "    b = f[nu+1:end, :]\n",
    "\n",
    "    dh = (H .- h) ./ τ .+ model_univ(f, p)[1:nu, :]\n",
    "    db = (B .- b) ./ τ .+ model_univ(f, p)[nu+1:end, :]\n",
    "    #dh = (SH .- h) ./ τ .+ model_univ(f, p)[1:nu, :]\n",
    "    #db = (SB .- b) ./ τ .+ model_univ(f, p)[nu+1:end, :]\n",
    "\n",
    "    df = vcat(dh, db)\n",
    "end\n",
    "\n",
    "#function dfdt!(df, f, p, t)\n",
    "#    h = f[1:nu, :]\n",
    "#    b = f[nu+1:end, :]\n",
    "\n",
    "#    dh = (H .- h) ./ τ .+ model_univ(f, p)[1:nu, :]\n",
    "#    db = (B .- b) ./ τ .+ model_univ(f, p)[nu+1:end, :]\n",
    "\n",
    "#    df[1:nu, :] .= dh\n",
    "#    df[nu+1:end, :] .= db\n",
    "#end\n",
    "\n",
    "prob_ube = ODEProblem(dfdt, X, tspan, p_model)\n",
    "\n",
    "function loss(p)\n",
    "    sol_ube = solve(prob_ube, Midpoint(), u0=X, p=p, saveat=tran)\n",
    "    loss = sum(abs2, Array(sol_ube) .- Y)\n",
    "    #loss = sum(abs2, Array(sol_ube) .- Y1)\n",
    "    return loss\n",
    "end\n",
    "\n",
    "cb = function (p, l)\n",
    "    display(l)\n",
    "    return false\n",
    "end"
   ]
  },
  {
   "cell_type": "code",
   "execution_count": null,
   "metadata": {},
   "outputs": [],
   "source": []
  },
  {
   "cell_type": "code",
   "execution_count": 8,
   "metadata": {
    "scrolled": true
   },
   "outputs": [
    {
     "data": {
      "text/plain": [
       "0.42933068f0"
      ]
     },
     "metadata": {},
     "output_type": "display_data"
    },
    {
     "name": "stderr",
     "output_type": "stream",
     "text": [
      "\u001b[32mloss: 0.121:   1%|▍                                        |  ETA: 0:04:04\u001b[39m"
     ]
    },
    {
     "data": {
      "text/plain": [
       "0.12140418f0"
      ]
     },
     "metadata": {},
     "output_type": "display_data"
    },
    {
     "name": "stderr",
     "output_type": "stream",
     "text": [
      "\u001b[32mloss: 0.164:   2%|▉                                        |  ETA: 0:04:01\u001b[39m"
     ]
    },
    {
     "data": {
      "text/plain": [
       "0.14166985f0"
      ]
     },
     "metadata": {},
     "output_type": "display_data"
    },
    {
     "name": "stderr",
     "output_type": "stream",
     "text": [
      "\u001b[32mloss: 0.0822:   3%|█▎                                       |  ETA: 0:03:48\u001b[39m"
     ]
    },
    {
     "data": {
      "text/plain": [
       "0.038174395f0"
      ]
     },
     "metadata": {},
     "output_type": "display_data"
    },
    {
     "name": "stderr",
     "output_type": "stream",
     "text": [
      "\u001b[32mloss: 0.0428:   4%|█▉                                       |  ETA: 0:03:24\u001b[39m"
     ]
    },
    {
     "data": {
      "text/plain": [
       "0.059324816f0"
      ]
     },
     "metadata": {},
     "output_type": "display_data"
    },
    {
     "name": "stderr",
     "output_type": "stream",
     "text": [
      "\u001b[32mloss: 0.0581:   6%|██▌                                      |  ETA: 0:03:12\u001b[39m"
     ]
    },
    {
     "data": {
      "text/plain": [
       "0.04240032f0"
      ]
     },
     "metadata": {},
     "output_type": "display_data"
    },
    {
     "name": "stderr",
     "output_type": "stream",
     "text": [
      "\u001b[32mloss: 0.0149:   8%|███▏                                     |  ETA: 0:02:59\u001b[39m"
     ]
    },
    {
     "data": {
      "text/plain": [
       "0.01277978f0"
      ]
     },
     "metadata": {},
     "output_type": "display_data"
    },
    {
     "name": "stderr",
     "output_type": "stream",
     "text": [
      "\u001b[32mloss: 0.0246:   9%|███▊                                     |  ETA: 0:02:51\u001b[39m"
     ]
    },
    {
     "data": {
      "text/plain": [
       "0.028190201f0"
      ]
     },
     "metadata": {},
     "output_type": "display_data"
    },
    {
     "name": "stderr",
     "output_type": "stream",
     "text": [
      "\u001b[32mloss: 0.0197:  10%|████▎                                    |  ETA: 0:02:45\u001b[39m"
     ]
    },
    {
     "data": {
      "text/plain": [
       "0.012723617f0"
      ]
     },
     "metadata": {},
     "output_type": "display_data"
    },
    {
     "name": "stderr",
     "output_type": "stream",
     "text": [
      "\u001b[32mloss: 0.00666:  12%|████▉                                    |  ETA: 0:02:37\u001b[39m"
     ]
    },
    {
     "data": {
      "text/plain": [
       "0.0083929915f0"
      ]
     },
     "metadata": {},
     "output_type": "display_data"
    },
    {
     "name": "stderr",
     "output_type": "stream",
     "text": [
      "\u001b[32mloss: 0.0134:  14%|█████▌                                   |  ETA: 0:02:31\u001b[39mm"
     ]
    },
    {
     "data": {
      "text/plain": [
       "0.013234716f0"
      ]
     },
     "metadata": {},
     "output_type": "display_data"
    },
    {
     "name": "stderr",
     "output_type": "stream",
     "text": [
      "\u001b[32mloss: 0.00831:  15%|██████▏                                  |  ETA: 0:02:27\u001b[39m"
     ]
    },
    {
     "data": {
      "text/plain": [
       "0.0059596174f0"
      ]
     },
     "metadata": {},
     "output_type": "display_data"
    },
    {
     "name": "stderr",
     "output_type": "stream",
     "text": [
      "\u001b[32mloss: 0.00483:  16%|██████▊                                  |  ETA: 0:02:24\u001b[39m"
     ]
    },
    {
     "data": {
      "text/plain": [
       "0.0057990327f0"
      ]
     },
     "metadata": {},
     "output_type": "display_data"
    },
    {
     "name": "stderr",
     "output_type": "stream",
     "text": [
      "\u001b[32mloss: 0.00737:  18%|███████▍                                 |  ETA: 0:02:20\u001b[39m"
     ]
    },
    {
     "data": {
      "text/plain": [
       "0.006958236f0"
      ]
     },
     "metadata": {},
     "output_type": "display_data"
    },
    {
     "name": "stderr",
     "output_type": "stream",
     "text": [
      "\u001b[32mloss: 0.00462:  20%|████████                                 |  ETA: 0:02:15\u001b[39m"
     ]
    },
    {
     "data": {
      "text/plain": [
       "0.003788054f0"
      ]
     },
     "metadata": {},
     "output_type": "display_data"
    },
    {
     "name": "stderr",
     "output_type": "stream",
     "text": [
      "\u001b[32mloss: 0.00403:  21%|████████▋                                |  ETA: 0:02:10\u001b[39m"
     ]
    },
    {
     "data": {
      "text/plain": [
       "0.0045298086f0"
      ]
     },
     "metadata": {},
     "output_type": "display_data"
    },
    {
     "name": "stderr",
     "output_type": "stream",
     "text": [
      "\u001b[32mloss: 0.00463:  22%|█████████▎                               |  ETA: 0:02:06\u001b[39m"
     ]
    },
    {
     "data": {
      "text/plain": [
       "0.004212573f0"
      ]
     },
     "metadata": {},
     "output_type": "display_data"
    },
    {
     "name": "stderr",
     "output_type": "stream",
     "text": [
      "\u001b[32mloss: 0.00338:  24%|█████████▉                               |  ETA: 0:02:02\u001b[39m"
     ]
    },
    {
     "data": {
      "text/plain": [
       "0.0032587228f0"
      ]
     },
     "metadata": {},
     "output_type": "display_data"
    },
    {
     "name": "stderr",
     "output_type": "stream",
     "text": [
      "\u001b[32mloss: 0.00354:  26%|██████████▌                              |  ETA: 0:01:58\u001b[39m"
     ]
    },
    {
     "data": {
      "text/plain": [
       "0.0036889266f0"
      ]
     },
     "metadata": {},
     "output_type": "display_data"
    },
    {
     "name": "stderr",
     "output_type": "stream",
     "text": [
      "\u001b[32mloss: 0.00346:  27%|███████████▏                             |  ETA: 0:01:54\u001b[39m"
     ]
    },
    {
     "data": {
      "text/plain": [
       "0.0031813965f0"
      ]
     },
     "metadata": {},
     "output_type": "display_data"
    },
    {
     "name": "stderr",
     "output_type": "stream",
     "text": [
      "\u001b[32mloss: 0.00293:  28%|███████████▋                             |  ETA: 0:01:50\u001b[39m"
     ]
    },
    {
     "data": {
      "text/plain": [
       "0.0030341456f0"
      ]
     },
     "metadata": {},
     "output_type": "display_data"
    },
    {
     "name": "stderr",
     "output_type": "stream",
     "text": [
      "\u001b[32mloss: 0.0032:  30%|████████████▎                            |  ETA: 0:01:47\u001b[39mm"
     ]
    },
    {
     "data": {
      "text/plain": [
       "0.003121505f0"
      ]
     },
     "metadata": {},
     "output_type": "display_data"
    },
    {
     "name": "stderr",
     "output_type": "stream",
     "text": [
      "\u001b[32mloss: 0.0029:  32%|████████████▉                            |  ETA: 0:01:43\u001b[39mm"
     ]
    },
    {
     "data": {
      "text/plain": [
       "0.0028426554f0"
      ]
     },
     "metadata": {},
     "output_type": "display_data"
    },
    {
     "name": "stderr",
     "output_type": "stream",
     "text": [
      "\u001b[32mloss: 0.00286:  33%|█████████████▌                           |  ETA: 0:01:39\u001b[39m"
     ]
    },
    {
     "data": {
      "text/plain": [
       "0.002888699f0"
      ]
     },
     "metadata": {},
     "output_type": "display_data"
    },
    {
     "name": "stderr",
     "output_type": "stream",
     "text": [
      "\u001b[32mloss: 0.00285:  34%|██████████████▏                          |  ETA: 0:01:36\u001b[39m"
     ]
    },
    {
     "data": {
      "text/plain": [
       "0.002785695f0"
      ]
     },
     "metadata": {},
     "output_type": "display_data"
    },
    {
     "name": "stderr",
     "output_type": "stream",
     "text": [
      "\u001b[32mloss: 0.00272:  36%|███████████████                          |  ETA: 0:01:31\u001b[39m"
     ]
    },
    {
     "data": {
      "text/plain": [
       "0.0027382288f0"
      ]
     },
     "metadata": {},
     "output_type": "display_data"
    },
    {
     "name": "stderr",
     "output_type": "stream",
     "text": [
      "\u001b[32mloss: 0.00272:  38%|███████████████▋                         |  ETA: 0:01:28\u001b[39m"
     ]
    },
    {
     "data": {
      "text/plain": [
       "0.0026851064f0"
      ]
     },
     "metadata": {},
     "output_type": "display_data"
    },
    {
     "name": "stderr",
     "output_type": "stream",
     "text": [
      "\u001b[32mloss: 0.00263:  40%|████████████████▍                        |  ETA: 0:01:24\u001b[39m"
     ]
    },
    {
     "data": {
      "text/plain": [
       "0.0026367693f0"
      ]
     },
     "metadata": {},
     "output_type": "display_data"
    },
    {
     "name": "stderr",
     "output_type": "stream",
     "text": [
      "\u001b[32mloss: 0.0026:  42%|█████████████████▎                       |  ETA: 0:01:20\u001b[39mm"
     ]
    },
    {
     "data": {
      "text/plain": [
       "0.002579885f0"
      ]
     },
     "metadata": {},
     "output_type": "display_data"
    },
    {
     "name": "stderr",
     "output_type": "stream",
     "text": [
      "\u001b[32mloss: 0.00256:  44%|██████████████████                       |  ETA: 0:01:15\u001b[39m"
     ]
    },
    {
     "data": {
      "text/plain": [
       "0.0025530402f0"
      ]
     },
     "metadata": {},
     "output_type": "display_data"
    },
    {
     "name": "stderr",
     "output_type": "stream",
     "text": [
      "\u001b[32mloss: 0.00252:  46%|██████████████████▉                      |  ETA: 0:01:12\u001b[39m"
     ]
    },
    {
     "data": {
      "text/plain": [
       "0.0025042207f0"
      ]
     },
     "metadata": {},
     "output_type": "display_data"
    },
    {
     "name": "stderr",
     "output_type": "stream",
     "text": [
      "\u001b[32mloss: 0.00249:  48%|███████████████████▋                     |  ETA: 0:01:08\u001b[39m"
     ]
    },
    {
     "data": {
      "text/plain": [
       "0.0024776678f0"
      ]
     },
     "metadata": {},
     "output_type": "display_data"
    },
    {
     "name": "stderr",
     "output_type": "stream",
     "text": [
      "\u001b[32mloss: 0.00245:  50%|████████████████████▌                    |  ETA: 0:01:05\u001b[39m"
     ]
    },
    {
     "data": {
      "text/plain": [
       "0.0024421345f0"
      ]
     },
     "metadata": {},
     "output_type": "display_data"
    },
    {
     "name": "stderr",
     "output_type": "stream",
     "text": [
      "\u001b[32mloss: 0.00242:  52%|█████████████████████▍                   |  ETA: 0:01:01\u001b[39m"
     ]
    },
    {
     "data": {
      "text/plain": [
       "0.0024117576f0"
      ]
     },
     "metadata": {},
     "output_type": "display_data"
    },
    {
     "name": "stderr",
     "output_type": "stream",
     "text": [
      "\u001b[32mloss: 0.00239:  54%|██████████████████████▏                  |  ETA: 0:00:58\u001b[39m"
     ]
    },
    {
     "data": {
      "text/plain": [
       "0.002384019f0"
      ]
     },
     "metadata": {},
     "output_type": "display_data"
    },
    {
     "name": "stderr",
     "output_type": "stream",
     "text": [
      "\u001b[32mloss: 0.00236:  56%|███████████████████████                  |  ETA: 0:00:55\u001b[39m"
     ]
    },
    {
     "data": {
      "text/plain": [
       "0.0023551714f0"
      ]
     },
     "metadata": {},
     "output_type": "display_data"
    },
    {
     "name": "stderr",
     "output_type": "stream",
     "text": [
      "\u001b[32mloss: 0.00234:  58%|███████████████████████▊                 |  ETA: 0:00:52\u001b[39m"
     ]
    },
    {
     "data": {
      "text/plain": [
       "0.0023299325f0"
      ]
     },
     "metadata": {},
     "output_type": "display_data"
    },
    {
     "name": "stderr",
     "output_type": "stream",
     "text": [
      "\u001b[32mloss: 0.00231:  60%|████████████████████████▋                |  ETA: 0:00:49\u001b[39m"
     ]
    },
    {
     "data": {
      "text/plain": [
       "0.0023048108f0"
      ]
     },
     "metadata": {},
     "output_type": "display_data"
    },
    {
     "name": "stderr",
     "output_type": "stream",
     "text": [
      "\u001b[32mloss: 0.00229:  62%|█████████████████████████▍               |  ETA: 0:00:46\u001b[39m"
     ]
    },
    {
     "data": {
      "text/plain": [
       "0.0022810025f0"
      ]
     },
     "metadata": {},
     "output_type": "display_data"
    },
    {
     "name": "stderr",
     "output_type": "stream",
     "text": [
      "\u001b[32mloss: 0.00226:  64%|██████████████████████████▎              |  ETA: 0:00:43\u001b[39m"
     ]
    },
    {
     "data": {
      "text/plain": [
       "0.0022588084f0"
      ]
     },
     "metadata": {},
     "output_type": "display_data"
    },
    {
     "name": "stderr",
     "output_type": "stream",
     "text": [
      "\u001b[32mloss: 0.00224:  66%|███████████████████████████              |  ETA: 0:00:40\u001b[39m"
     ]
    },
    {
     "data": {
      "text/plain": [
       "0.0022373367f0"
      ]
     },
     "metadata": {},
     "output_type": "display_data"
    },
    {
     "name": "stderr",
     "output_type": "stream",
     "text": [
      "\u001b[32mloss: 0.00222:  68%|███████████████████████████▉             |  ETA: 0:00:38\u001b[39m"
     ]
    },
    {
     "data": {
      "text/plain": [
       "0.0022171608f0"
      ]
     },
     "metadata": {},
     "output_type": "display_data"
    },
    {
     "name": "stderr",
     "output_type": "stream",
     "text": [
      "\u001b[32mloss: 0.0022:  70%|████████████████████████████▊            |  ETA: 0:00:35\u001b[39mm"
     ]
    },
    {
     "data": {
      "text/plain": [
       "0.0021980947f0"
      ]
     },
     "metadata": {},
     "output_type": "display_data"
    },
    {
     "name": "stderr",
     "output_type": "stream",
     "text": [
      "\u001b[32mloss: 0.00218:  72%|█████████████████████████████▌           |  ETA: 0:00:33\u001b[39m"
     ]
    },
    {
     "data": {
      "text/plain": [
       "0.00217995f0"
      ]
     },
     "metadata": {},
     "output_type": "display_data"
    },
    {
     "name": "stderr",
     "output_type": "stream",
     "text": [
      "\u001b[32mloss: 0.00217:  74%|██████████████████████████████▍          |  ETA: 0:00:30\u001b[39m"
     ]
    },
    {
     "data": {
      "text/plain": [
       "0.0021628714f0"
      ]
     },
     "metadata": {},
     "output_type": "display_data"
    },
    {
     "name": "stderr",
     "output_type": "stream",
     "text": [
      "\u001b[32mloss: 0.00215:  76%|███████████████████████████████▏         |  ETA: 0:00:28\u001b[39m"
     ]
    },
    {
     "data": {
      "text/plain": [
       "0.0021467442f0"
      ]
     },
     "metadata": {},
     "output_type": "display_data"
    },
    {
     "name": "stderr",
     "output_type": "stream",
     "text": [
      "\u001b[32mloss: 0.00214:  78%|████████████████████████████████         |  ETA: 0:00:25\u001b[39m"
     ]
    },
    {
     "data": {
      "text/plain": [
       "0.0021315312f0"
      ]
     },
     "metadata": {},
     "output_type": "display_data"
    },
    {
     "name": "stderr",
     "output_type": "stream",
     "text": [
      "\u001b[32mloss: 0.00212:  80%|████████████████████████████████▊        |  ETA: 0:00:23\u001b[39m"
     ]
    },
    {
     "data": {
      "text/plain": [
       "0.0021172205f0"
      ]
     },
     "metadata": {},
     "output_type": "display_data"
    },
    {
     "name": "stderr",
     "output_type": "stream",
     "text": [
      "\u001b[32mloss: 0.00211:  82%|█████████████████████████████████▋       |  ETA: 0:00:20\u001b[39m"
     ]
    },
    {
     "data": {
      "text/plain": [
       "0.0021037564f0"
      ]
     },
     "metadata": {},
     "output_type": "display_data"
    },
    {
     "name": "stderr",
     "output_type": "stream",
     "text": [
      "\u001b[32mloss: 0.00209:  84%|██████████████████████████████████▌      |  ETA: 0:00:18\u001b[39m"
     ]
    },
    {
     "data": {
      "text/plain": [
       "0.0020910911f0"
      ]
     },
     "metadata": {},
     "output_type": "display_data"
    },
    {
     "name": "stderr",
     "output_type": "stream",
     "text": [
      "\u001b[32mloss: 0.00208:  86%|███████████████████████████████████▎     |  ETA: 0:00:16\u001b[39m"
     ]
    },
    {
     "data": {
      "text/plain": [
       "0.0020792116f0"
      ]
     },
     "metadata": {},
     "output_type": "display_data"
    },
    {
     "name": "stderr",
     "output_type": "stream",
     "text": [
      "\u001b[32mloss: 0.00207:  88%|████████████████████████████████████▏    |  ETA: 0:00:13\u001b[39m"
     ]
    },
    {
     "data": {
      "text/plain": [
       "0.0020680614f0"
      ]
     },
     "metadata": {},
     "output_type": "display_data"
    },
    {
     "name": "stderr",
     "output_type": "stream",
     "text": [
      "\u001b[32mloss: 0.00206:  90%|████████████████████████████████████▉    |  ETA: 0:00:11\u001b[39m"
     ]
    },
    {
     "data": {
      "text/plain": [
       "0.0020576061f0"
      ]
     },
     "metadata": {},
     "output_type": "display_data"
    },
    {
     "name": "stderr",
     "output_type": "stream",
     "text": [
      "\u001b[32mloss: 0.00205:  92%|█████████████████████████████████████▊   |  ETA: 0:00:09\u001b[39m"
     ]
    },
    {
     "data": {
      "text/plain": [
       "0.0020478154f0"
      ]
     },
     "metadata": {},
     "output_type": "display_data"
    },
    {
     "name": "stderr",
     "output_type": "stream",
     "text": [
      "\u001b[32mloss: 0.00204:  94%|██████████████████████████████████████▌  |  ETA: 0:00:07\u001b[39m"
     ]
    },
    {
     "data": {
      "text/plain": [
       "0.0020386411f0"
      ]
     },
     "metadata": {},
     "output_type": "display_data"
    },
    {
     "name": "stderr",
     "output_type": "stream",
     "text": [
      "\u001b[32mloss: 0.00203:  96%|███████████████████████████████████████▍ |  ETA: 0:00:04\u001b[39m"
     ]
    },
    {
     "data": {
      "text/plain": [
       "0.0020300567f0"
      ]
     },
     "metadata": {},
     "output_type": "display_data"
    },
    {
     "name": "stderr",
     "output_type": "stream",
     "text": [
      "\u001b[32mloss: 0.00202:  98%|████████████████████████████████████████▏|  ETA: 0:00:02\u001b[39m"
     ]
    },
    {
     "data": {
      "text/plain": [
       "0.0020220217f0"
      ]
     },
     "metadata": {},
     "output_type": "display_data"
    },
    {
     "name": "stderr",
     "output_type": "stream",
     "text": [
      "\u001b[32mloss: 0.00202: 100%|█████████████████████████████████████████| Time: 0:01:48\u001b[39m\n"
     ]
    },
    {
     "data": {
      "text/plain": [
       "0.0020163371f0"
      ]
     },
     "metadata": {},
     "output_type": "display_data"
    },
    {
     "data": {
      "text/plain": [
       " * Status: success\n",
       "\n",
       " * Candidate solution\n",
       "    Final objective value:     2.016337e-03\n",
       "\n",
       " * Found with\n",
       "    Algorithm:     ADAM\n",
       "\n",
       " * Convergence measures\n",
       "    |x - x'|               = NaN ≰ 0.0e+00\n",
       "    |x - x'|/|x'|          = NaN ≰ 0.0e+00\n",
       "    |f(x) - f(x')|         = NaN ≰ 0.0e+00\n",
       "    |f(x) - f(x')|/|f(x')| = NaN ≰ 0.0e+00\n",
       "    |g(x)|                 = NaN ≰ 0.0e+00\n",
       "\n",
       " * Work counters\n",
       "    Seconds run:   157  (vs limit Inf)\n",
       "    Iterations:    200\n",
       "    f(x) calls:    200\n",
       "    ∇f(x) calls:   200\n"
      ]
     },
     "execution_count": 8,
     "metadata": {},
     "output_type": "execute_result"
    }
   ],
   "source": [
    "res = DiffEqFlux.sciml_train(loss, p_model, ADAM(), cb=Flux.throttle(cb, 1), maxiters=200)"
   ]
  },
  {
   "cell_type": "code",
   "execution_count": 9,
   "metadata": {
    "scrolled": true
   },
   "outputs": [
    {
     "data": {
      "text/plain": [
       "0.0020145075f0"
      ]
     },
     "metadata": {},
     "output_type": "display_data"
    },
    {
     "name": "stderr",
     "output_type": "stream",
     "text": [
      "\u001b[32mloss: 0.0215:   2%|▉                                        |  ETA: 0:02:10\u001b[39m"
     ]
    },
    {
     "data": {
      "text/plain": [
       "0.029700682f0"
      ]
     },
     "metadata": {},
     "output_type": "display_data"
    },
    {
     "name": "stderr",
     "output_type": "stream",
     "text": [
      "\u001b[32mloss: 0.0226:   4%|█▍                                       |  ETA: 0:02:25\u001b[39m"
     ]
    },
    {
     "data": {
      "text/plain": [
       "0.014347658f0"
      ]
     },
     "metadata": {},
     "output_type": "display_data"
    },
    {
     "name": "stderr",
     "output_type": "stream",
     "text": [
      "\u001b[32mloss: 0.0171:   5%|██                                       |  ETA: 0:02:26\u001b[39m"
     ]
    },
    {
     "data": {
      "text/plain": [
       "0.015837636f0"
      ]
     },
     "metadata": {},
     "output_type": "display_data"
    },
    {
     "name": "stderr",
     "output_type": "stream",
     "text": [
      "\u001b[32mloss: 0.00899:   6%|██▋                                      |  ETA: 0:02:23\u001b[39m"
     ]
    },
    {
     "data": {
      "text/plain": [
       "0.008248918f0"
      ]
     },
     "metadata": {},
     "output_type": "display_data"
    },
    {
     "name": "stderr",
     "output_type": "stream",
     "text": [
      "\u001b[32mloss: 0.00911:   8%|███▏                                     |  ETA: 0:02:25\u001b[39m"
     ]
    },
    {
     "data": {
      "text/plain": [
       "0.009661076f0"
      ]
     },
     "metadata": {},
     "output_type": "display_data"
    },
    {
     "name": "stderr",
     "output_type": "stream",
     "text": [
      "\u001b[32mloss: 0.0066:   9%|███▊                                     |  ETA: 0:02:22\u001b[39mm"
     ]
    },
    {
     "data": {
      "text/plain": [
       "0.005022198f0"
      ]
     },
     "metadata": {},
     "output_type": "display_data"
    },
    {
     "name": "stderr",
     "output_type": "stream",
     "text": [
      "\u001b[32mloss: 0.00593:  10%|████▎                                    |  ETA: 0:02:18\u001b[39m"
     ]
    },
    {
     "data": {
      "text/plain": [
       "0.0063185804f0"
      ]
     },
     "metadata": {},
     "output_type": "display_data"
    },
    {
     "name": "stderr",
     "output_type": "stream",
     "text": [
      "\u001b[32mloss: 0.00414:  12%|████▉                                    |  ETA: 0:02:14\u001b[39m"
     ]
    },
    {
     "data": {
      "text/plain": [
       "0.003291605f0"
      ]
     },
     "metadata": {},
     "output_type": "display_data"
    },
    {
     "name": "stderr",
     "output_type": "stream",
     "text": [
      "\u001b[32mloss: 0.00427:  14%|█████▌                                   |  ETA: 0:02:09\u001b[39m"
     ]
    },
    {
     "data": {
      "text/plain": [
       "0.0045318087f0"
      ]
     },
     "metadata": {},
     "output_type": "display_data"
    },
    {
     "name": "stderr",
     "output_type": "stream",
     "text": [
      "\u001b[32mloss: 0.00289:  15%|██████▏                                  |  ETA: 0:02:05\u001b[39m"
     ]
    },
    {
     "data": {
      "text/plain": [
       "0.002487522f0"
      ]
     },
     "metadata": {},
     "output_type": "display_data"
    },
    {
     "name": "stderr",
     "output_type": "stream",
     "text": [
      "\u001b[32mloss: 0.00343:  16%|██████▊                                  |  ETA: 0:02:01\u001b[39m"
     ]
    },
    {
     "data": {
      "text/plain": [
       "0.0034444379f0"
      ]
     },
     "metadata": {},
     "output_type": "display_data"
    },
    {
     "name": "stderr",
     "output_type": "stream",
     "text": [
      "\u001b[32mloss: 0.00228:  18%|███████▍                                 |  ETA: 0:01:57\u001b[39m"
     ]
    },
    {
     "data": {
      "text/plain": [
       "0.0022153016f0"
      ]
     },
     "metadata": {},
     "output_type": "display_data"
    },
    {
     "name": "stderr",
     "output_type": "stream",
     "text": [
      "\u001b[32mloss: 0.0029:  20%|████████                                 |  ETA: 0:01:53\u001b[39mm"
     ]
    },
    {
     "data": {
      "text/plain": [
       "0.0027359563f0"
      ]
     },
     "metadata": {},
     "output_type": "display_data"
    },
    {
     "name": "stderr",
     "output_type": "stream",
     "text": [
      "\u001b[32mloss: 0.00204:  21%|████████▋                                |  ETA: 0:01:49\u001b[39m"
     ]
    },
    {
     "data": {
      "text/plain": [
       "0.0021772294f0"
      ]
     },
     "metadata": {},
     "output_type": "display_data"
    },
    {
     "name": "stderr",
     "output_type": "stream",
     "text": [
      "\u001b[32mloss: 0.0025:  22%|█████████▎                               |  ETA: 0:01:46\u001b[39mm"
     ]
    },
    {
     "data": {
      "text/plain": [
       "0.002268218f0"
      ]
     },
     "metadata": {},
     "output_type": "display_data"
    },
    {
     "name": "stderr",
     "output_type": "stream",
     "text": [
      "\u001b[32mloss: 0.00218:  24%|██████████                               |  ETA: 0:01:41\u001b[39m"
     ]
    },
    {
     "data": {
      "text/plain": [
       "0.0022782164f0"
      ]
     },
     "metadata": {},
     "output_type": "display_data"
    },
    {
     "name": "stderr",
     "output_type": "stream",
     "text": [
      "\u001b[32mloss: 0.00203:  26%|██████████▋                              |  ETA: 0:01:38\u001b[39m"
     ]
    },
    {
     "data": {
      "text/plain": [
       "0.001968839f0"
      ]
     },
     "metadata": {},
     "output_type": "display_data"
    },
    {
     "name": "stderr",
     "output_type": "stream",
     "text": [
      "\u001b[32mloss: 0.00213:  28%|███████████▎                             |  ETA: 0:01:35\u001b[39m"
     ]
    },
    {
     "data": {
      "text/plain": [
       "0.0021098424f0"
      ]
     },
     "metadata": {},
     "output_type": "display_data"
    },
    {
     "name": "stderr",
     "output_type": "stream",
     "text": [
      "\u001b[32mloss: 0.00199:  30%|████████████▏                            |  ETA: 0:01:30\u001b[39m"
     ]
    },
    {
     "data": {
      "text/plain": [
       "0.0020398274f0"
      ]
     },
     "metadata": {},
     "output_type": "display_data"
    },
    {
     "name": "stderr",
     "output_type": "stream",
     "text": [
      "\u001b[32mloss: 0.00199:  31%|████████████▊                            |  ETA: 0:01:28\u001b[39m"
     ]
    },
    {
     "data": {
      "text/plain": [
       "0.0019539737f0"
      ]
     },
     "metadata": {},
     "output_type": "display_data"
    },
    {
     "name": "stderr",
     "output_type": "stream",
     "text": [
      "\u001b[32mloss: 0.00199:  33%|█████████████▌                           |  ETA: 0:01:24\u001b[39m"
     ]
    },
    {
     "data": {
      "text/plain": [
       "0.0019679195f0"
      ]
     },
     "metadata": {},
     "output_type": "display_data"
    },
    {
     "name": "stderr",
     "output_type": "stream",
     "text": [
      "\u001b[32mloss: 0.00196:  35%|██████████████▍                          |  ETA: 0:01:20\u001b[39m"
     ]
    },
    {
     "data": {
      "text/plain": [
       "0.00196066f0"
      ]
     },
     "metadata": {},
     "output_type": "display_data"
    },
    {
     "name": "stderr",
     "output_type": "stream",
     "text": [
      "\u001b[32mloss: 0.00193:  37%|███████████████▏                         |  ETA: 0:01:16\u001b[39m"
     ]
    },
    {
     "data": {
      "text/plain": [
       "0.0019395831f0"
      ]
     },
     "metadata": {},
     "output_type": "display_data"
    },
    {
     "name": "stderr",
     "output_type": "stream",
     "text": [
      "\u001b[32mloss: 0.00193:  39%|████████████████                         |  ETA: 0:01:13\u001b[39m"
     ]
    },
    {
     "data": {
      "text/plain": [
       "0.0019261062f0"
      ]
     },
     "metadata": {},
     "output_type": "display_data"
    },
    {
     "name": "stderr",
     "output_type": "stream",
     "text": [
      "\u001b[32mloss: 0.00193:  41%|████████████████▊                        |  ETA: 0:01:10\u001b[39m"
     ]
    },
    {
     "data": {
      "text/plain": [
       "0.0019223444f0"
      ]
     },
     "metadata": {},
     "output_type": "display_data"
    },
    {
     "name": "stderr",
     "output_type": "stream",
     "text": [
      "\u001b[32mloss: 0.00192:  43%|█████████████████▋                       |  ETA: 0:01:07\u001b[39m"
     ]
    },
    {
     "data": {
      "text/plain": [
       "0.0019212724f0"
      ]
     },
     "metadata": {},
     "output_type": "display_data"
    },
    {
     "name": "stderr",
     "output_type": "stream",
     "text": [
      "\u001b[32mloss: 0.00192:  45%|██████████████████▌                      |  ETA: 0:01:03\u001b[39m"
     ]
    },
    {
     "data": {
      "text/plain": [
       "0.0019190109f0"
      ]
     },
     "metadata": {},
     "output_type": "display_data"
    },
    {
     "name": "stderr",
     "output_type": "stream",
     "text": [
      "\u001b[32mloss: 0.00191:  47%|███████████████████▎                     |  ETA: 0:01:01\u001b[39m"
     ]
    },
    {
     "data": {
      "text/plain": [
       "0.0019157066f0"
      ]
     },
     "metadata": {},
     "output_type": "display_data"
    },
    {
     "name": "stderr",
     "output_type": "stream",
     "text": [
      "\u001b[32mloss: 0.00191:  49%|████████████████████▏                    |  ETA: 0:00:58\u001b[39m"
     ]
    },
    {
     "data": {
      "text/plain": [
       "0.0019126734f0"
      ]
     },
     "metadata": {},
     "output_type": "display_data"
    },
    {
     "name": "stderr",
     "output_type": "stream",
     "text": [
      "\u001b[32mloss: 0.00191:  50%|████████████████████▊                    |  ETA: 0:00:56\u001b[39m"
     ]
    },
    {
     "data": {
      "text/plain": [
       "0.0019102363f0"
      ]
     },
     "metadata": {},
     "output_type": "display_data"
    },
    {
     "name": "stderr",
     "output_type": "stream",
     "text": [
      "\u001b[32mloss: 0.00191:  52%|█████████████████████▌                   |  ETA: 0:00:53\u001b[39m"
     ]
    },
    {
     "data": {
      "text/plain": [
       "0.0019091249f0"
      ]
     },
     "metadata": {},
     "output_type": "display_data"
    },
    {
     "name": "stderr",
     "output_type": "stream",
     "text": [
      "\u001b[32mloss: 0.00191:  54%|██████████████████████▍                  |  ETA: 0:00:51\u001b[39m"
     ]
    },
    {
     "data": {
      "text/plain": [
       "0.0019081605f0"
      ]
     },
     "metadata": {},
     "output_type": "display_data"
    },
    {
     "name": "stderr",
     "output_type": "stream",
     "text": [
      "\u001b[32mloss: 0.00191:  56%|███████████████████████▏                 |  ETA: 0:00:48\u001b[39m"
     ]
    },
    {
     "data": {
      "text/plain": [
       "0.0019072427f0"
      ]
     },
     "metadata": {},
     "output_type": "display_data"
    },
    {
     "name": "stderr",
     "output_type": "stream",
     "text": [
      "\u001b[32mloss: 0.00191:  58%|████████████████████████                 |  ETA: 0:00:45\u001b[39m"
     ]
    },
    {
     "data": {
      "text/plain": [
       "0.0019063886f0"
      ]
     },
     "metadata": {},
     "output_type": "display_data"
    },
    {
     "name": "stderr",
     "output_type": "stream",
     "text": [
      "\u001b[32mloss: 0.00191:  60%|████████████████████████▊                |  ETA: 0:00:43\u001b[39m"
     ]
    },
    {
     "data": {
      "text/plain": [
       "0.0019056376f0"
      ]
     },
     "metadata": {},
     "output_type": "display_data"
    },
    {
     "name": "stderr",
     "output_type": "stream",
     "text": [
      "\u001b[32mloss: 0.00191:  62%|█████████████████████████▋               |  ETA: 0:00:40\u001b[39m"
     ]
    },
    {
     "data": {
      "text/plain": [
       "0.0019049871f0"
      ]
     },
     "metadata": {},
     "output_type": "display_data"
    },
    {
     "name": "stderr",
     "output_type": "stream",
     "text": [
      "\u001b[32mloss: 0.0019:  64%|██████████████████████████▌              |  ETA: 0:00:38\u001b[39m"
     ]
    },
    {
     "data": {
      "text/plain": [
       "0.0019044278f0"
      ]
     },
     "metadata": {},
     "output_type": "display_data"
    },
    {
     "name": "stderr",
     "output_type": "stream",
     "text": [
      "\u001b[32mloss: 0.0019:  66%|███████████████████████████▎             |  ETA: 0:00:36\u001b[39m"
     ]
    },
    {
     "data": {
      "text/plain": [
       "0.001903943f0"
      ]
     },
     "metadata": {},
     "output_type": "display_data"
    },
    {
     "name": "stderr",
     "output_type": "stream",
     "text": [
      "\u001b[32mloss: 0.0019:  68%|████████████████████████████▏            |  ETA: 0:00:33\u001b[39m"
     ]
    },
    {
     "data": {
      "text/plain": [
       "0.0019035125f0"
      ]
     },
     "metadata": {},
     "output_type": "display_data"
    },
    {
     "name": "stderr",
     "output_type": "stream",
     "text": [
      "\u001b[32mloss: 0.0019:  70%|████████████████████████████▉            |  ETA: 0:00:31\u001b[39m"
     ]
    },
    {
     "data": {
      "text/plain": [
       "0.0019031317f0"
      ]
     },
     "metadata": {},
     "output_type": "display_data"
    },
    {
     "name": "stderr",
     "output_type": "stream",
     "text": [
      "\u001b[32mloss: 0.0019:  72%|█████████████████████████████▊           |  ETA: 0:00:29\u001b[39m"
     ]
    },
    {
     "data": {
      "text/plain": [
       "0.0019027919f0"
      ]
     },
     "metadata": {},
     "output_type": "display_data"
    },
    {
     "name": "stderr",
     "output_type": "stream",
     "text": [
      "\u001b[32mloss: 0.0019:  74%|██████████████████████████████▌          |  ETA: 0:00:26\u001b[39m"
     ]
    },
    {
     "data": {
      "text/plain": [
       "0.0019024792f0"
      ]
     },
     "metadata": {},
     "output_type": "display_data"
    },
    {
     "name": "stderr",
     "output_type": "stream",
     "text": [
      "\u001b[32mloss: 0.0019:  76%|███████████████████████████████▍         |  ETA: 0:00:24\u001b[39m"
     ]
    },
    {
     "data": {
      "text/plain": [
       "0.0019021878f0"
      ]
     },
     "metadata": {},
     "output_type": "display_data"
    },
    {
     "name": "stderr",
     "output_type": "stream",
     "text": [
      "\u001b[32mloss: 0.0019:  78%|████████████████████████████████▏        |  ETA: 0:00:22\u001b[39m"
     ]
    },
    {
     "data": {
      "text/plain": [
       "0.0019019175f0"
      ]
     },
     "metadata": {},
     "output_type": "display_data"
    },
    {
     "name": "stderr",
     "output_type": "stream",
     "text": [
      "\u001b[32mloss: 0.0019:  80%|█████████████████████████████████        |  ETA: 0:00:20\u001b[39m"
     ]
    },
    {
     "data": {
      "text/plain": [
       "0.0019016614f0"
      ]
     },
     "metadata": {},
     "output_type": "display_data"
    },
    {
     "name": "stderr",
     "output_type": "stream",
     "text": [
      "\u001b[32mloss: 0.0019:  82%|█████████████████████████████████▉       |  ETA: 0:00:18\u001b[39m"
     ]
    },
    {
     "data": {
      "text/plain": [
       "0.001901415f0"
      ]
     },
     "metadata": {},
     "output_type": "display_data"
    },
    {
     "name": "stderr",
     "output_type": "stream",
     "text": [
      "\u001b[32mloss: 0.0019:  84%|██████████████████████████████████▋      |  ETA: 0:00:16\u001b[39m"
     ]
    },
    {
     "data": {
      "text/plain": [
       "0.0019011801f0"
      ]
     },
     "metadata": {},
     "output_type": "display_data"
    },
    {
     "name": "stderr",
     "output_type": "stream",
     "text": [
      "\u001b[32mloss: 0.0019:  86%|███████████████████████████████████▌     |  ETA: 0:00:14\u001b[39m"
     ]
    },
    {
     "data": {
      "text/plain": [
       "0.0019009585f0"
      ]
     },
     "metadata": {},
     "output_type": "display_data"
    },
    {
     "name": "stderr",
     "output_type": "stream",
     "text": [
      "\u001b[32mloss: 0.0019:  88%|████████████████████████████████████▎    |  ETA: 0:00:12\u001b[39m"
     ]
    },
    {
     "data": {
      "text/plain": [
       "0.0019007344f0"
      ]
     },
     "metadata": {},
     "output_type": "display_data"
    },
    {
     "name": "stderr",
     "output_type": "stream",
     "text": [
      "\u001b[32mloss: 0.0019:  90%|█████████████████████████████████████▏   |  ETA: 0:00:09\u001b[39m"
     ]
    },
    {
     "data": {
      "text/plain": [
       "0.0019005202f0"
      ]
     },
     "metadata": {},
     "output_type": "display_data"
    },
    {
     "name": "stderr",
     "output_type": "stream",
     "text": [
      "\u001b[32mloss: 0.0019:  92%|█████████████████████████████████████▉   |  ETA: 0:00:07\u001b[39m"
     ]
    },
    {
     "data": {
      "text/plain": [
       "0.0019003064f0"
      ]
     },
     "metadata": {},
     "output_type": "display_data"
    },
    {
     "name": "stderr",
     "output_type": "stream",
     "text": [
      "\u001b[32mloss: 0.0019:  94%|██████████████████████████████████████▊  |  ETA: 0:00:05\u001b[39m"
     ]
    },
    {
     "data": {
      "text/plain": [
       "0.0019001018f0"
      ]
     },
     "metadata": {},
     "output_type": "display_data"
    },
    {
     "name": "stderr",
     "output_type": "stream",
     "text": [
      "\u001b[32mloss: 0.0019:  96%|███████████████████████████████████████▋ |  ETA: 0:00:03\u001b[39m"
     ]
    },
    {
     "data": {
      "text/plain": [
       "0.0018998948f0"
      ]
     },
     "metadata": {},
     "output_type": "display_data"
    },
    {
     "name": "stderr",
     "output_type": "stream",
     "text": [
      "\u001b[32mloss: 0.0019:  98%|████████████████████████████████████████▍|  ETA: 0:00:01\u001b[39m"
     ]
    },
    {
     "data": {
      "text/plain": [
       "0.0018996871f0"
      ]
     },
     "metadata": {},
     "output_type": "display_data"
    },
    {
     "name": "stderr",
     "output_type": "stream",
     "text": [
      "\u001b[32mloss: 0.0019: 100%|█████████████████████████████████████████| Time: 0:01:38\u001b[39m\n"
     ]
    },
    {
     "data": {
      "text/plain": [
       " * Status: success\n",
       "\n",
       " * Candidate solution\n",
       "    Final objective value:     1.899584e-03\n",
       "\n",
       " * Found with\n",
       "    Algorithm:     ADAM\n",
       "\n",
       " * Convergence measures\n",
       "    |x - x'|               = NaN ≰ 0.0e+00\n",
       "    |x - x'|/|x'|          = NaN ≰ 0.0e+00\n",
       "    |f(x) - f(x')|         = NaN ≰ 0.0e+00\n",
       "    |f(x) - f(x')|/|f(x')| = NaN ≰ 0.0e+00\n",
       "    |g(x)|                 = NaN ≰ 0.0e+00\n",
       "\n",
       " * Work counters\n",
       "    Seconds run:   98  (vs limit Inf)\n",
       "    Iterations:    200\n",
       "    f(x) calls:    200\n",
       "    ∇f(x) calls:   200\n"
      ]
     },
     "execution_count": 9,
     "metadata": {},
     "output_type": "execute_result"
    }
   ],
   "source": [
    "res = DiffEqFlux.sciml_train(loss, res.minimizer, ADAM(), cb=Flux.throttle(cb, 1), maxiters=200)"
   ]
  },
  {
   "cell_type": "code",
   "execution_count": null,
   "metadata": {},
   "outputs": [],
   "source": [
    "res = DiffEqFlux.sciml_train(loss, res.minimizer, LBFGS(), cb=Flux.throttle(cb, 1), maxiters=200)"
   ]
  },
  {
   "cell_type": "code",
   "execution_count": null,
   "metadata": {},
   "outputs": [],
   "source": []
  },
  {
   "cell_type": "code",
   "execution_count": 10,
   "metadata": {},
   "outputs": [],
   "source": [
    "function nbe_rhs!(df, f, p, t)\n",
    "    H = p[1:nu]\n",
    "    B = p[nu+1:2*nu]\n",
    "    τ = p[2*nu+1]\n",
    "    p_nn = p[2*nu+2:end]\n",
    "\n",
    "    h = f[1:nu]\n",
    "    b = f[nu+1:end]\n",
    "\n",
    "    dh = (H .- h) ./ τ .+ model_univ(f, p_nn)[1:nu]\n",
    "    db = (B .- b) ./ τ .+ model_univ(f, p_nn)[nu+1:end]\n",
    "\n",
    "    df[1:nu] .= dh\n",
    "    df[nu+1:end] .= db\n",
    "end\n",
    "\n",
    "ube = ODEProblem(\n",
    "    nbe_rhs!,\n",
    "    [ctr[1].h; ctr[1].b],\n",
    "    tspan,\n",
    "    [H[:, 1]; B[:, 1]; τ[1, 1]; res.minimizer],\n",
    ");"
   ]
  },
  {
   "cell_type": "code",
   "execution_count": 11,
   "metadata": {},
   "outputs": [
    {
     "data": {
      "text/plain": [
       "step_nbe! (generic function with 1 method)"
      ]
     },
     "execution_count": 11,
     "metadata": {},
     "output_type": "execute_result"
    }
   ],
   "source": [
    "function step_nbe!(\n",
    "    fwL,\n",
    "    fhL,\n",
    "    fbL,\n",
    "    w,\n",
    "    prim,\n",
    "    h,\n",
    "    b,\n",
    "    fwR,\n",
    "    fhR,\n",
    "    fbR,\n",
    "    K,\n",
    "    γ,\n",
    "    μ,\n",
    "    ω,\n",
    "    u,\n",
    "    weights,\n",
    "    p,\n",
    "    dx,\n",
    "    tran,\n",
    "    RES,\n",
    "    AVG,\n",
    ")\n",
    "\n",
    "    #--- record W^{n} ---#\n",
    "    w_old = deepcopy(w)\n",
    "    H = maxwellian(u, prim)\n",
    "    B = H .* K ./ (2.0 .* prim[end])\n",
    "    τ = vhs_collision_time(prim, μ, ω)\n",
    "    \n",
    "    #qf = heat_flux(h, b, prim, u, weights)\n",
    "    #SH, SB = shakhov(u, H, B, qf, prim, ks.gas.Pr, K)\n",
    "    \n",
    "    #--- update W^{n+1} ---#\n",
    "    @. w += (fwL - fwR) / dx\n",
    "    prim .= conserve_prim(w, γ)\n",
    "\n",
    "    #--- record residuals ---#\n",
    "    @. RES += (w - w_old)^2\n",
    "    @. AVG += abs(w)\n",
    "\n",
    "    #--- update f^{n+1} ---#\n",
    "    sol = solve(ube, Midpoint(), u0=[h; b], p=[H; B; τ; p], saveat=tran)\n",
    "    #sol = solve(ube, Midpoint(), u0=[h; b], p=[SH; SB; τ; p], saveat=tran)\n",
    "    \n",
    "    hstar = sol.u[end][1:length(h)]\n",
    "    bstar = sol.u[end][length(h)+1:end]\n",
    "    for i in eachindex(h)\n",
    "        h[i] = hstar[i] + (fhL[i] - fhR[i]) / dx\n",
    "        b[i] = bstar[i] + (fbL[i] - fbR[i]) / dx\n",
    "    end\n",
    "\n",
    "end"
   ]
  },
  {
   "cell_type": "code",
   "execution_count": 12,
   "metadata": {},
   "outputs": [
    {
     "data": {
      "text/plain": [
       "3-element Array{Float32,1}:\n",
       " 0.0\n",
       " 0.0\n",
       " 0.0"
      ]
     },
     "execution_count": 12,
     "metadata": {},
     "output_type": "execute_result"
    }
   ],
   "source": [
    "face = Array{Interface1D2F}(undef, ks.pSpace.nx + 1)\n",
    "for i = 1:ks.pSpace.nx+1\n",
    "    face[i] = Interface1D2F(ks.ib.wL, ks.ib.hL)\n",
    "end\n",
    "\n",
    "sumRes = zeros(Float32, axes(ks.ib.wL))\n",
    "sumAvg = zeros(Float32, axes(ks.ib.wL))"
   ]
  },
  {
   "cell_type": "code",
   "execution_count": 18,
   "metadata": {},
   "outputs": [
    {
     "name": "stderr",
     "output_type": "stream",
     "text": [
      "\u001b[32mProgress: 100%|█████████████████████████████████████████| Time: 0:00:15\u001b[39m\n"
     ]
    }
   ],
   "source": [
    "# loop of neural Boltzmann equation\n",
    "@showprogress for iter = 1:10\n",
    "    Kinetic.evolve!(ks, ctr, face, dt)\n",
    "\n",
    "    for i = 2:49\n",
    "        step_nbe!(\n",
    "            face[i].fw,\n",
    "            face[i].fh,\n",
    "            face[i].fb,\n",
    "            ctr[i].w,\n",
    "            ctr[i].prim,\n",
    "            ctr[i].h,\n",
    "            ctr[i].b,\n",
    "            face[i+1].fw,\n",
    "            face[i+1].fh,\n",
    "            face[i+1].fb,\n",
    "            ks.gas.K,\n",
    "            ks.gas.γ,\n",
    "            ks.gas.μᵣ,\n",
    "            ks.gas.ω,\n",
    "            ks.vSpace.u,\n",
    "            ks.vSpace.weights,\n",
    "            res.minimizer,\n",
    "            ctr[i].dx,\n",
    "            tran,\n",
    "            sumRes,\n",
    "            sumAvg,\n",
    "        )\n",
    "    end\n",
    "end"
   ]
  },
  {
   "cell_type": "code",
   "execution_count": 19,
   "metadata": {},
   "outputs": [
    {
     "data": {
      "image/svg+xml": [
       "<?xml version=\"1.0\" encoding=\"utf-8\"?>\n",
       "<svg xmlns=\"http://www.w3.org/2000/svg\" xmlns:xlink=\"http://www.w3.org/1999/xlink\" width=\"600\" height=\"400\" viewBox=\"0 0 2400 1600\">\n",
       "<defs>\n",
       "  <clipPath id=\"clip280\">\n",
       "    <rect x=\"0\" y=\"0\" width=\"2400\" height=\"1600\"/>\n",
       "  </clipPath>\n",
       "</defs>\n",
       "<path clip-path=\"url(#clip280)\" d=\"\n",
       "M0 1600 L2400 1600 L2400 0 L0 0  Z\n",
       "  \" fill=\"#ffffff\" fill-rule=\"evenodd\" fill-opacity=\"1\"/>\n",
       "<defs>\n",
       "  <clipPath id=\"clip281\">\n",
       "    <rect x=\"480\" y=\"0\" width=\"1681\" height=\"1600\"/>\n",
       "  </clipPath>\n",
       "</defs>\n",
       "<path clip-path=\"url(#clip280)\" d=\"\n",
       "M147.663 1423.18 L2352.76 1423.18 L2352.76 47.2441 L147.663 47.2441  Z\n",
       "  \" fill=\"#ffffff\" fill-rule=\"evenodd\" fill-opacity=\"1\"/>\n",
       "<defs>\n",
       "  <clipPath id=\"clip282\">\n",
       "    <rect x=\"147\" y=\"47\" width=\"2206\" height=\"1377\"/>\n",
       "  </clipPath>\n",
       "</defs>\n",
       "<polyline clip-path=\"url(#clip282)\" style=\"stroke:#000000; stroke-width:2; stroke-opacity:0.1; fill:none\" points=\"\n",
       "  401.117,1423.18 401.117,47.2441 \n",
       "  \"/>\n",
       "<polyline clip-path=\"url(#clip282)\" style=\"stroke:#000000; stroke-width:2; stroke-opacity:0.1; fill:none\" points=\"\n",
       "  825.663,1423.18 825.663,47.2441 \n",
       "  \"/>\n",
       "<polyline clip-path=\"url(#clip282)\" style=\"stroke:#000000; stroke-width:2; stroke-opacity:0.1; fill:none\" points=\"\n",
       "  1250.21,1423.18 1250.21,47.2441 \n",
       "  \"/>\n",
       "<polyline clip-path=\"url(#clip282)\" style=\"stroke:#000000; stroke-width:2; stroke-opacity:0.1; fill:none\" points=\"\n",
       "  1674.76,1423.18 1674.76,47.2441 \n",
       "  \"/>\n",
       "<polyline clip-path=\"url(#clip282)\" style=\"stroke:#000000; stroke-width:2; stroke-opacity:0.1; fill:none\" points=\"\n",
       "  2099.3,1423.18 2099.3,47.2441 \n",
       "  \"/>\n",
       "<polyline clip-path=\"url(#clip282)\" style=\"stroke:#000000; stroke-width:2; stroke-opacity:0.1; fill:none\" points=\"\n",
       "  147.663,1295.93 2352.76,1295.93 \n",
       "  \"/>\n",
       "<polyline clip-path=\"url(#clip282)\" style=\"stroke:#000000; stroke-width:2; stroke-opacity:0.1; fill:none\" points=\"\n",
       "  147.663,1034.26 2352.76,1034.26 \n",
       "  \"/>\n",
       "<polyline clip-path=\"url(#clip282)\" style=\"stroke:#000000; stroke-width:2; stroke-opacity:0.1; fill:none\" points=\"\n",
       "  147.663,772.578 2352.76,772.578 \n",
       "  \"/>\n",
       "<polyline clip-path=\"url(#clip282)\" style=\"stroke:#000000; stroke-width:2; stroke-opacity:0.1; fill:none\" points=\"\n",
       "  147.663,510.901 2352.76,510.901 \n",
       "  \"/>\n",
       "<polyline clip-path=\"url(#clip282)\" style=\"stroke:#000000; stroke-width:2; stroke-opacity:0.1; fill:none\" points=\"\n",
       "  147.663,249.224 2352.76,249.224 \n",
       "  \"/>\n",
       "<polyline clip-path=\"url(#clip280)\" style=\"stroke:#000000; stroke-width:4; stroke-opacity:1; fill:none\" points=\"\n",
       "  147.663,1423.18 2352.76,1423.18 \n",
       "  \"/>\n",
       "<polyline clip-path=\"url(#clip280)\" style=\"stroke:#000000; stroke-width:4; stroke-opacity:1; fill:none\" points=\"\n",
       "  147.663,1423.18 147.663,47.2441 \n",
       "  \"/>\n",
       "<polyline clip-path=\"url(#clip280)\" style=\"stroke:#000000; stroke-width:4; stroke-opacity:1; fill:none\" points=\"\n",
       "  401.117,1423.18 401.117,1406.67 \n",
       "  \"/>\n",
       "<polyline clip-path=\"url(#clip280)\" style=\"stroke:#000000; stroke-width:4; stroke-opacity:1; fill:none\" points=\"\n",
       "  825.663,1423.18 825.663,1406.67 \n",
       "  \"/>\n",
       "<polyline clip-path=\"url(#clip280)\" style=\"stroke:#000000; stroke-width:4; stroke-opacity:1; fill:none\" points=\"\n",
       "  1250.21,1423.18 1250.21,1406.67 \n",
       "  \"/>\n",
       "<polyline clip-path=\"url(#clip280)\" style=\"stroke:#000000; stroke-width:4; stroke-opacity:1; fill:none\" points=\"\n",
       "  1674.76,1423.18 1674.76,1406.67 \n",
       "  \"/>\n",
       "<polyline clip-path=\"url(#clip280)\" style=\"stroke:#000000; stroke-width:4; stroke-opacity:1; fill:none\" points=\"\n",
       "  2099.3,1423.18 2099.3,1406.67 \n",
       "  \"/>\n",
       "<polyline clip-path=\"url(#clip280)\" style=\"stroke:#000000; stroke-width:4; stroke-opacity:1; fill:none\" points=\"\n",
       "  147.663,1295.93 174.124,1295.93 \n",
       "  \"/>\n",
       "<polyline clip-path=\"url(#clip280)\" style=\"stroke:#000000; stroke-width:4; stroke-opacity:1; fill:none\" points=\"\n",
       "  147.663,1034.26 174.124,1034.26 \n",
       "  \"/>\n",
       "<polyline clip-path=\"url(#clip280)\" style=\"stroke:#000000; stroke-width:4; stroke-opacity:1; fill:none\" points=\"\n",
       "  147.663,772.578 174.124,772.578 \n",
       "  \"/>\n",
       "<polyline clip-path=\"url(#clip280)\" style=\"stroke:#000000; stroke-width:4; stroke-opacity:1; fill:none\" points=\"\n",
       "  147.663,510.901 174.124,510.901 \n",
       "  \"/>\n",
       "<polyline clip-path=\"url(#clip280)\" style=\"stroke:#000000; stroke-width:4; stroke-opacity:1; fill:none\" points=\"\n",
       "  147.663,249.224 174.124,249.224 \n",
       "  \"/>\n",
       "<path clip-path=\"url(#clip280)\" d=\"M 0 0 M368.664 1461.77 L381.14 1461.77 L381.14 1465.56 L368.664 1465.56 L368.664 1461.77 Z\" fill=\"#000000\" fill-rule=\"evenodd\" fill-opacity=\"1\" /><path clip-path=\"url(#clip280)\" d=\"M 0 0 M390.238 1472.72 L406.557 1472.72 L406.557 1476.65 L384.613 1476.65 L384.613 1472.72 Q387.275 1469.96 391.858 1465.33 Q396.464 1460.68 397.645 1459.34 Q399.89 1456.81 400.77 1455.08 Q401.673 1453.32 401.673 1451.63 Q401.673 1448.87 399.728 1447.14 Q397.807 1445.4 394.705 1445.4 Q392.506 1445.4 390.052 1446.17 Q387.622 1446.93 384.844 1448.48 L384.844 1443.76 Q387.668 1442.62 390.122 1442.05 Q392.576 1441.47 394.613 1441.47 Q399.983 1441.47 403.177 1444.15 Q406.372 1446.84 406.372 1451.33 Q406.372 1453.46 405.562 1455.38 Q404.775 1457.28 402.668 1459.87 Q402.089 1460.54 398.988 1463.76 Q395.886 1466.95 390.238 1472.72 Z\" fill=\"#000000\" fill-rule=\"evenodd\" fill-opacity=\"1\" /><path clip-path=\"url(#clip280)\" d=\"M 0 0 M421.626 1445.17 Q418.015 1445.17 416.187 1448.74 Q414.381 1452.28 414.381 1459.41 Q414.381 1466.51 416.187 1470.08 Q418.015 1473.62 421.626 1473.62 Q425.261 1473.62 427.066 1470.08 Q428.895 1466.51 428.895 1459.41 Q428.895 1452.28 427.066 1448.74 Q425.261 1445.17 421.626 1445.17 M421.626 1441.47 Q427.436 1441.47 430.492 1446.07 Q433.571 1450.66 433.571 1459.41 Q433.571 1468.13 430.492 1472.74 Q427.436 1477.32 421.626 1477.32 Q415.816 1477.32 412.737 1472.74 Q409.682 1468.13 409.682 1459.41 Q409.682 1450.66 412.737 1446.07 Q415.816 1441.47 421.626 1441.47 Z\" fill=\"#000000\" fill-rule=\"evenodd\" fill-opacity=\"1\" /><path clip-path=\"url(#clip280)\" d=\"M 0 0 M793.025 1461.77 L805.501 1461.77 L805.501 1465.56 L793.025 1465.56 L793.025 1461.77 Z\" fill=\"#000000\" fill-rule=\"evenodd\" fill-opacity=\"1\" /><path clip-path=\"url(#clip280)\" d=\"M 0 0 M811.381 1472.72 L819.02 1472.72 L819.02 1446.35 L810.71 1448.02 L810.71 1443.76 L818.974 1442.09 L823.649 1442.09 L823.649 1472.72 L831.288 1472.72 L831.288 1476.65 L811.381 1476.65 L811.381 1472.72 Z\" fill=\"#000000\" fill-rule=\"evenodd\" fill-opacity=\"1\" /><path clip-path=\"url(#clip280)\" d=\"M 0 0 M846.358 1445.17 Q842.747 1445.17 840.918 1448.74 Q839.112 1452.28 839.112 1459.41 Q839.112 1466.51 840.918 1470.08 Q842.747 1473.62 846.358 1473.62 Q849.992 1473.62 851.797 1470.08 Q853.626 1466.51 853.626 1459.41 Q853.626 1452.28 851.797 1448.74 Q849.992 1445.17 846.358 1445.17 M846.358 1441.47 Q852.168 1441.47 855.223 1446.07 Q858.302 1450.66 858.302 1459.41 Q858.302 1468.13 855.223 1472.74 Q852.168 1477.32 846.358 1477.32 Q840.548 1477.32 837.469 1472.74 Q834.413 1468.13 834.413 1459.41 Q834.413 1450.66 837.469 1446.07 Q840.548 1441.47 846.358 1441.47 Z\" fill=\"#000000\" fill-rule=\"evenodd\" fill-opacity=\"1\" /><path clip-path=\"url(#clip280)\" d=\"M 0 0 M1250.21 1445.17 Q1246.6 1445.17 1244.77 1448.74 Q1242.96 1452.28 1242.96 1459.41 Q1242.96 1466.51 1244.77 1470.08 Q1246.6 1473.62 1250.21 1473.62 Q1253.84 1473.62 1255.65 1470.08 Q1257.48 1466.51 1257.48 1459.41 Q1257.48 1452.28 1255.65 1448.74 Q1253.84 1445.17 1250.21 1445.17 M1250.21 1441.47 Q1256.02 1441.47 1259.08 1446.07 Q1262.15 1450.66 1262.15 1459.41 Q1262.15 1468.13 1259.08 1472.74 Q1256.02 1477.32 1250.21 1477.32 Q1244.4 1477.32 1241.32 1472.74 Q1238.27 1468.13 1238.27 1459.41 Q1238.27 1450.66 1241.32 1446.07 Q1244.4 1441.47 1250.21 1441.47 Z\" fill=\"#000000\" fill-rule=\"evenodd\" fill-opacity=\"1\" /><path clip-path=\"url(#clip280)\" d=\"M 0 0 M1651.63 1472.72 L1659.27 1472.72 L1659.27 1446.35 L1650.96 1448.02 L1650.96 1443.76 L1659.22 1442.09 L1663.9 1442.09 L1663.9 1472.72 L1671.54 1472.72 L1671.54 1476.65 L1651.63 1476.65 L1651.63 1472.72 Z\" fill=\"#000000\" fill-rule=\"evenodd\" fill-opacity=\"1\" /><path clip-path=\"url(#clip280)\" d=\"M 0 0 M1686.61 1445.17 Q1683 1445.17 1681.17 1448.74 Q1679.36 1452.28 1679.36 1459.41 Q1679.36 1466.51 1681.17 1470.08 Q1683 1473.62 1686.61 1473.62 Q1690.24 1473.62 1692.05 1470.08 Q1693.88 1466.51 1693.88 1459.41 Q1693.88 1452.28 1692.05 1448.74 Q1690.24 1445.17 1686.61 1445.17 M1686.61 1441.47 Q1692.42 1441.47 1695.47 1446.07 Q1698.55 1450.66 1698.55 1459.41 Q1698.55 1468.13 1695.47 1472.74 Q1692.42 1477.32 1686.61 1477.32 Q1680.8 1477.32 1677.72 1472.74 Q1674.66 1468.13 1674.66 1459.41 Q1674.66 1450.66 1677.72 1446.07 Q1680.8 1441.47 1686.61 1441.47 Z\" fill=\"#000000\" fill-rule=\"evenodd\" fill-opacity=\"1\" /><path clip-path=\"url(#clip280)\" d=\"M 0 0 M2080.45 1472.72 L2096.77 1472.72 L2096.77 1476.65 L2074.82 1476.65 L2074.82 1472.72 Q2077.48 1469.96 2082.07 1465.33 Q2086.67 1460.68 2087.86 1459.34 Q2090.1 1456.81 2090.98 1455.08 Q2091.88 1453.32 2091.88 1451.63 Q2091.88 1448.87 2089.94 1447.14 Q2088.02 1445.4 2084.92 1445.4 Q2082.72 1445.4 2080.26 1446.17 Q2077.83 1446.93 2075.05 1448.48 L2075.05 1443.76 Q2077.88 1442.62 2080.33 1442.05 Q2082.79 1441.47 2084.82 1441.47 Q2090.19 1441.47 2093.39 1444.15 Q2096.58 1446.84 2096.58 1451.33 Q2096.58 1453.46 2095.77 1455.38 Q2094.98 1457.28 2092.88 1459.87 Q2092.3 1460.54 2089.2 1463.76 Q2086.1 1466.95 2080.45 1472.72 Z\" fill=\"#000000\" fill-rule=\"evenodd\" fill-opacity=\"1\" /><path clip-path=\"url(#clip280)\" d=\"M 0 0 M2111.84 1445.17 Q2108.23 1445.17 2106.4 1448.74 Q2104.59 1452.28 2104.59 1459.41 Q2104.59 1466.51 2106.4 1470.08 Q2108.23 1473.62 2111.84 1473.62 Q2115.47 1473.62 2117.28 1470.08 Q2119.1 1466.51 2119.1 1459.41 Q2119.1 1452.28 2117.28 1448.74 Q2115.47 1445.17 2111.84 1445.17 M2111.84 1441.47 Q2117.65 1441.47 2120.7 1446.07 Q2123.78 1450.66 2123.78 1459.41 Q2123.78 1468.13 2120.7 1472.74 Q2117.65 1477.32 2111.84 1477.32 Q2106.03 1477.32 2102.95 1472.74 Q2099.89 1468.13 2099.89 1459.41 Q2099.89 1450.66 2102.95 1446.07 Q2106.03 1441.47 2111.84 1441.47 Z\" fill=\"#000000\" fill-rule=\"evenodd\" fill-opacity=\"1\" /><path clip-path=\"url(#clip280)\" d=\"M 0 0 M74.9365 1281.73 Q71.3254 1281.73 69.4967 1285.3 Q67.6912 1288.84 67.6912 1295.97 Q67.6912 1303.07 69.4967 1306.64 Q71.3254 1310.18 74.9365 1310.18 Q78.5707 1310.18 80.3763 1306.64 Q82.205 1303.07 82.205 1295.97 Q82.205 1288.84 80.3763 1285.3 Q78.5707 1281.73 74.9365 1281.73 M74.9365 1278.03 Q80.7467 1278.03 83.8022 1282.63 Q86.8809 1287.22 86.8809 1295.97 Q86.8809 1304.69 83.8022 1309.3 Q80.7467 1313.88 74.9365 1313.88 Q69.1264 1313.88 66.0477 1309.3 Q62.9921 1304.69 62.9921 1295.97 Q62.9921 1287.22 66.0477 1282.63 Q69.1264 1278.03 74.9365 1278.03 Z\" fill=\"#000000\" fill-rule=\"evenodd\" fill-opacity=\"1\" /><path clip-path=\"url(#clip280)\" d=\"M 0 0 M91.9503 1307.33 L96.8345 1307.33 L96.8345 1313.21 L91.9503 1313.21 L91.9503 1307.33 Z\" fill=\"#000000\" fill-rule=\"evenodd\" fill-opacity=\"1\" /><path clip-path=\"url(#clip280)\" d=\"M 0 0 M102.043 1312.5 L102.043 1308.24 Q103.802 1309.07 105.608 1309.51 Q107.413 1309.95 109.149 1309.95 Q113.779 1309.95 116.209 1306.85 Q118.663 1303.72 119.01 1297.38 Q117.668 1299.37 115.608 1300.44 Q113.547 1301.5 111.047 1301.5 Q105.862 1301.5 102.83 1298.37 Q99.8206 1295.23 99.8206 1289.79 Q99.8206 1284.46 102.969 1281.25 Q106.117 1278.03 111.348 1278.03 Q117.344 1278.03 120.492 1282.63 Q123.663 1287.22 123.663 1295.97 Q123.663 1304.14 119.774 1309.02 Q115.909 1313.88 109.358 1313.88 Q107.598 1313.88 105.793 1313.54 Q103.987 1313.19 102.043 1312.5 M111.348 1297.84 Q114.496 1297.84 116.325 1295.69 Q118.177 1293.54 118.177 1289.79 Q118.177 1286.06 116.325 1283.91 Q114.496 1281.73 111.348 1281.73 Q108.2 1281.73 106.348 1283.91 Q104.52 1286.06 104.52 1289.79 Q104.52 1293.54 106.348 1295.69 Q108.2 1297.84 111.348 1297.84 Z\" fill=\"#000000\" fill-rule=\"evenodd\" fill-opacity=\"1\" /><path clip-path=\"url(#clip280)\" d=\"M 0 0 M68.3856 1047.6 L76.0245 1047.6 L76.0245 1021.23 L67.7143 1022.9 L67.7143 1018.64 L75.9782 1016.98 L80.6541 1016.98 L80.6541 1047.6 L88.2929 1047.6 L88.2929 1051.54 L68.3856 1051.54 L68.3856 1047.6 Z\" fill=\"#000000\" fill-rule=\"evenodd\" fill-opacity=\"1\" /><path clip-path=\"url(#clip280)\" d=\"M 0 0 M93.3623 1045.66 L98.2466 1045.66 L98.2466 1051.54 L93.3623 1051.54 L93.3623 1045.66 Z\" fill=\"#000000\" fill-rule=\"evenodd\" fill-opacity=\"1\" /><path clip-path=\"url(#clip280)\" d=\"M 0 0 M107.344 1047.6 L123.663 1047.6 L123.663 1051.54 L101.719 1051.54 L101.719 1047.6 Q104.381 1044.85 108.964 1040.22 Q113.571 1035.56 114.751 1034.22 Q116.996 1031.7 117.876 1029.96 Q118.779 1028.2 118.779 1026.51 Q118.779 1023.76 116.834 1022.02 Q114.913 1020.29 111.811 1020.29 Q109.612 1020.29 107.159 1021.05 Q104.728 1021.81 101.95 1023.36 L101.95 1018.64 Q104.774 1017.51 107.228 1016.93 Q109.682 1016.35 111.719 1016.35 Q117.089 1016.35 120.283 1019.04 Q123.478 1021.72 123.478 1026.21 Q123.478 1028.34 122.668 1030.26 Q121.881 1032.16 119.774 1034.75 Q119.196 1035.42 116.094 1038.64 Q112.992 1041.84 107.344 1047.6 Z\" fill=\"#000000\" fill-rule=\"evenodd\" fill-opacity=\"1\" /><path clip-path=\"url(#clip280)\" d=\"M 0 0 M67.7838 785.923 L75.4226 785.923 L75.4226 759.557 L67.1125 761.224 L67.1125 756.965 L75.3763 755.298 L80.0522 755.298 L80.0522 785.923 L87.6911 785.923 L87.6911 789.858 L67.7838 789.858 L67.7838 785.923 Z\" fill=\"#000000\" fill-rule=\"evenodd\" fill-opacity=\"1\" /><path clip-path=\"url(#clip280)\" d=\"M 0 0 M92.7605 783.979 L97.6447 783.979 L97.6447 789.858 L92.7605 789.858 L92.7605 783.979 Z\" fill=\"#000000\" fill-rule=\"evenodd\" fill-opacity=\"1\" /><path clip-path=\"url(#clip280)\" d=\"M 0 0 M102.76 755.298 L121.117 755.298 L121.117 759.233 L107.043 759.233 L107.043 767.705 Q108.061 767.358 109.08 767.196 Q110.098 767.011 111.117 767.011 Q116.904 767.011 120.283 770.182 Q123.663 773.354 123.663 778.77 Q123.663 784.349 120.191 787.451 Q116.719 790.529 110.399 790.529 Q108.223 790.529 105.955 790.159 Q103.71 789.789 101.302 789.048 L101.302 784.349 Q103.385 785.483 105.608 786.039 Q107.83 786.594 110.307 786.594 Q114.311 786.594 116.649 784.488 Q118.987 782.381 118.987 778.77 Q118.987 775.159 116.649 773.053 Q114.311 770.946 110.307 770.946 Q108.432 770.946 106.557 771.363 Q104.705 771.78 102.76 772.659 L102.76 755.298 Z\" fill=\"#000000\" fill-rule=\"evenodd\" fill-opacity=\"1\" /><path clip-path=\"url(#clip280)\" d=\"M 0 0 M66.881 524.246 L74.5198 524.246 L74.5198 497.88 L66.2097 499.547 L66.2097 495.288 L74.4735 493.621 L79.1494 493.621 L79.1494 524.246 L86.7883 524.246 L86.7883 528.181 L66.881 528.181 L66.881 524.246 Z\" fill=\"#000000\" fill-rule=\"evenodd\" fill-opacity=\"1\" /><path clip-path=\"url(#clip280)\" d=\"M 0 0 M91.8577 522.301 L96.7419 522.301 L96.7419 528.181 L91.8577 528.181 L91.8577 522.301 Z\" fill=\"#000000\" fill-rule=\"evenodd\" fill-opacity=\"1\" /><path clip-path=\"url(#clip280)\" d=\"M 0 0 M111.811 511.769 Q108.478 511.769 106.557 513.551 Q104.659 515.334 104.659 518.459 Q104.659 521.584 106.557 523.366 Q108.478 525.148 111.811 525.148 Q115.145 525.148 117.066 523.366 Q118.987 521.561 118.987 518.459 Q118.987 515.334 117.066 513.551 Q115.168 511.769 111.811 511.769 M107.135 509.778 Q104.126 509.037 102.436 506.977 Q100.77 504.917 100.77 501.954 Q100.77 497.811 103.71 495.403 Q106.672 492.996 111.811 492.996 Q116.973 492.996 119.913 495.403 Q122.853 497.811 122.853 501.954 Q122.853 504.917 121.163 506.977 Q119.496 509.037 116.51 509.778 Q119.89 510.565 121.765 512.857 Q123.663 515.149 123.663 518.459 Q123.663 523.482 120.584 526.167 Q117.529 528.852 111.811 528.852 Q106.094 528.852 103.015 526.167 Q99.9595 523.482 99.9595 518.459 Q99.9595 515.149 101.858 512.857 Q103.756 510.565 107.135 509.778 M105.422 502.394 Q105.422 505.079 107.089 506.584 Q108.779 508.088 111.811 508.088 Q114.821 508.088 116.51 506.584 Q118.223 505.079 118.223 502.394 Q118.223 499.709 116.51 498.204 Q114.821 496.7 111.811 496.7 Q108.779 496.7 107.089 498.204 Q105.422 499.709 105.422 502.394 Z\" fill=\"#000000\" fill-rule=\"evenodd\" fill-opacity=\"1\" /><path clip-path=\"url(#clip280)\" d=\"M 0 0 M71.6032 262.568 L87.9225 262.568 L87.9225 266.504 L65.9782 266.504 L65.9782 262.568 Q68.6402 259.814 73.2236 255.184 Q77.83 250.531 79.0106 249.189 Q81.2559 246.666 82.1355 244.93 Q83.0383 243.17 83.0383 241.481 Q83.0383 238.726 81.0939 236.99 Q79.1726 235.254 76.0708 235.254 Q73.8717 235.254 71.418 236.018 Q68.9875 236.781 66.2097 238.332 L66.2097 233.61 Q69.0338 232.476 71.4875 231.897 Q73.9411 231.319 75.9782 231.319 Q81.3485 231.319 84.5429 234.004 Q87.7374 236.689 87.7374 241.18 Q87.7374 243.309 86.9272 245.231 Q86.1402 247.129 84.0337 249.721 Q83.455 250.393 80.3531 253.61 Q77.2513 256.805 71.6032 262.568 Z\" fill=\"#000000\" fill-rule=\"evenodd\" fill-opacity=\"1\" /><path clip-path=\"url(#clip280)\" d=\"M 0 0 M92.992 260.624 L97.8762 260.624 L97.8762 266.504 L92.992 266.504 L92.992 260.624 Z\" fill=\"#000000\" fill-rule=\"evenodd\" fill-opacity=\"1\" /><path clip-path=\"url(#clip280)\" d=\"M 0 0 M103.756 262.568 L111.395 262.568 L111.395 236.203 L103.085 237.869 L103.085 233.61 L111.348 231.944 L116.024 231.944 L116.024 262.568 L123.663 262.568 L123.663 266.504 L103.756 266.504 L103.756 262.568 Z\" fill=\"#000000\" fill-rule=\"evenodd\" fill-opacity=\"1\" /><path clip-path=\"url(#clip280)\" d=\"M 0 0 M1232.04 1508.52 L1238.94 1508.52 L1250.75 1526.19 L1262.62 1508.52 L1269.53 1508.52 L1254.25 1531.34 L1270.55 1556.04 L1263.64 1556.04 L1250.27 1535.83 L1236.81 1556.04 L1229.87 1556.04 L1246.84 1530.68 L1232.04 1508.52 Z\" fill=\"#000000\" fill-rule=\"evenodd\" fill-opacity=\"1\" /><polyline clip-path=\"url(#clip282)\" style=\"stroke:#009af9; stroke-width:8; stroke-opacity:1; fill:none\" points=\"\n",
       "  210.071,1208.71 252.526,1208.88 294.981,1208.77 337.435,1208.75 379.89,1208.77 422.344,1208.74 464.799,1208.68 507.254,1208.58 549.708,1208.45 592.163,1208.34 \n",
       "  634.618,1208.19 677.072,1207.99 719.527,1207.7 761.981,1207.33 804.436,1206.84 846.891,1206.12 889.345,1205.02 931.8,1203.15 974.254,1199.62 1016.71,1192.49 \n",
       "  1059.16,1177.06 1101.62,1142.52 1144.07,1065.01 1186.53,907.62 1228.98,676.081 1271.44,453.761 1313.89,294.567 1356.35,197.047 1398.8,142.473 1441.26,113.687 \n",
       "  1483.71,99.2492 1526.16,92.3362 1568.62,89.0903 1611.07,87.6441 1653.53,86.9489 1695.98,86.6097 1738.44,86.3843 1780.89,86.3005 1823.35,86.2183 1865.8,86.1857 \n",
       "  1908.26,86.225 1950.71,86.3132 1993.17,86.5442 2035.62,86.8075 2078.07,87.0801 2120.53,87.4151 2162.98,87.8851 2205.44,88.2102 2247.89,88.0401 2290.35,87.2328 \n",
       "  \n",
       "  \"/>\n",
       "<polyline clip-path=\"url(#clip282)\" style=\"stroke:#e26f46; stroke-width:8; stroke-opacity:1; fill:none\" points=\"\n",
       "  210.071,488.447 252.526,488.088 294.981,488.719 337.435,489.07 379.89,489.284 422.344,489.582 464.799,489.961 507.254,490.517 549.708,491.199 592.163,492.003 \n",
       "  634.618,493.051 677.072,494.402 719.527,496.118 761.981,498.191 804.436,500.649 846.891,503.572 889.345,507.029 931.8,511.285 974.254,517.093 1016.71,526.359 \n",
       "  1059.16,544.246 1101.62,583.176 1144.07,670.407 1186.53,839.504 1228.98,1047.2 1271.44,1200.99 1313.89,1289.74 1356.35,1336.47 1398.8,1360.13 1441.26,1371.95 \n",
       "  1483.71,1377.89 1526.16,1380.92 1568.62,1382.49 1611.07,1383.3 1653.53,1383.72 1695.98,1383.92 1738.44,1384.01 1780.89,1384.04 1823.35,1384.04 1865.8,1384.03 \n",
       "  1908.26,1384.01 1950.71,1383.97 1993.17,1383.91 2035.62,1383.84 2078.07,1383.75 2120.53,1383.66 2162.98,1383.56 2205.44,1383.51 2247.89,1383.62 2290.35,1384.24 \n",
       "  \n",
       "  \"/>\n",
       "<polyline clip-path=\"url(#clip282)\" style=\"stroke:#3da44d; stroke-width:8; stroke-opacity:1; fill:none\" points=\"\n",
       "  210.071,1208.71 252.526,1211.02 294.981,1208.46 337.435,1205.83 379.89,1203.37 422.344,1200.34 464.799,1197.09 507.254,1193.15 549.708,1188.59 592.163,1183.46 \n",
       "  634.618,1177.12 677.072,1169.4 719.527,1159.95 761.981,1148.89 804.436,1136.34 846.891,1122.48 889.345,1108.1 931.8,1094.49 974.254,1083.44 1016.71,1078.21 \n",
       "  1059.16,1081.67 1101.62,1092.07 1144.07,1078.23 1186.53,943.291 1228.98,688.847 1271.44,487.479 1313.89,377.011 1356.35,321.89 1398.8,294.801 1441.26,281.585 \n",
       "  1483.71,275.092 1526.16,271.936 1568.62,270.584 1611.07,269.953 1653.53,269.83 1695.98,269.849 1738.44,270.027 1780.89,270.076 1823.35,270.235 1865.8,270.326 \n",
       "  1908.26,270.346 1950.71,270.355 1993.17,270.177 2035.62,270.082 2078.07,270.07 2120.53,270.059 2162.98,269.904 2205.44,270.081 2247.89,270.852 2290.35,268.304 \n",
       "  \n",
       "  \"/>\n",
       "<path clip-path=\"url(#clip280)\" d=\"\n",
       "M1836.11 274.549 L2352.76 274.549 L2352.76 32.6286 L1836.11 32.6286  Z\n",
       "  \" fill=\"#ffffff\" fill-rule=\"evenodd\" fill-opacity=\"1\"/>\n",
       "<polyline clip-path=\"url(#clip280)\" style=\"stroke:#000000; stroke-width:4; stroke-opacity:1; fill:none\" points=\"\n",
       "  1836.11,274.549 2352.76,274.549 2352.76,32.6286 1836.11,32.6286 1836.11,274.549 \n",
       "  \"/>\n",
       "<polyline clip-path=\"url(#clip280)\" style=\"stroke:#009af9; stroke-width:4; stroke-opacity:1; fill:none\" points=\"\n",
       "  1860.11,93.1086 2004.11,93.1086 \n",
       "  \"/>\n",
       "<path clip-path=\"url(#clip280)\" d=\"M 0 0 M2032.79 79.6712 L2032.79 106.546 L2038.44 106.546 Q2045.59 106.546 2048.9 103.305 Q2052.23 100.065 2052.23 93.0739 Q2052.23 86.1295 2048.9 82.9119 Q2045.59 79.6712 2038.44 79.6712 L2032.79 79.6712 M2028.11 75.8286 L2037.72 75.8286 Q2047.77 75.8286 2052.47 80.0184 Q2057.16 84.1851 2057.16 93.0739 Q2057.16 102.009 2052.44 106.199 Q2047.72 110.389 2037.72 110.389 L2028.11 110.389 L2028.11 75.8286 Z\" fill=\"#000000\" fill-rule=\"evenodd\" fill-opacity=\"1\" /><path clip-path=\"url(#clip280)\" d=\"M 0 0 M2083.81 96.3609 L2083.81 98.4442 L2064.22 98.4442 Q2064.5 102.842 2066.86 105.157 Q2069.25 107.449 2073.48 107.449 Q2075.94 107.449 2078.23 106.847 Q2080.54 106.245 2082.81 105.041 L2082.81 109.069 Q2080.52 110.041 2078.11 110.551 Q2075.71 111.06 2073.23 111.06 Q2067.03 111.06 2063.39 107.449 Q2059.78 103.838 2059.78 97.6804 Q2059.78 91.3146 2063.21 87.5878 Q2066.66 83.8378 2072.49 83.8378 Q2077.72 83.8378 2080.75 87.2174 Q2083.81 90.5739 2083.81 96.3609 M2079.55 95.1109 Q2079.5 91.6156 2077.58 89.5322 Q2075.68 87.4489 2072.53 87.4489 Q2068.97 87.4489 2066.82 89.4628 Q2064.69 91.4767 2064.36 95.1341 L2079.55 95.1109 Z\" fill=\"#000000\" fill-rule=\"evenodd\" fill-opacity=\"1\" /><path clip-path=\"url(#clip280)\" d=\"M 0 0 M2109.83 94.7406 L2109.83 110.389 L2105.57 110.389 L2105.57 94.8794 Q2105.57 91.1989 2104.13 89.3702 Q2102.7 87.5415 2099.83 87.5415 Q2096.38 87.5415 2094.39 89.7406 Q2092.4 91.9396 2092.4 95.7359 L2092.4 110.389 L2088.11 110.389 L2088.11 84.4628 L2092.4 84.4628 L2092.4 88.4906 Q2093.92 86.1526 2095.98 84.9952 Q2098.07 83.8378 2100.78 83.8378 Q2105.24 83.8378 2107.53 86.6156 Q2109.83 89.3702 2109.83 94.7406 Z\" fill=\"#000000\" fill-rule=\"evenodd\" fill-opacity=\"1\" /><path clip-path=\"url(#clip280)\" d=\"M 0 0 M2130.82 85.2267 L2130.82 89.2545 Q2129.02 88.3286 2127.07 87.8656 Q2125.13 87.4026 2123.04 87.4026 Q2119.87 87.4026 2118.28 88.3748 Q2116.7 89.3471 2116.7 91.2915 Q2116.7 92.773 2117.84 93.6294 Q2118.97 94.4628 2122.4 95.2267 L2123.85 95.5507 Q2128.39 96.523 2130.29 98.3054 Q2132.21 100.065 2132.21 103.236 Q2132.21 106.847 2129.34 108.953 Q2126.49 111.06 2121.49 111.06 Q2119.41 111.06 2117.14 110.643 Q2114.9 110.25 2112.4 109.44 L2112.4 105.041 Q2114.76 106.268 2117.05 106.893 Q2119.34 107.495 2121.59 107.495 Q2124.59 107.495 2126.22 106.477 Q2127.84 105.435 2127.84 103.56 Q2127.84 101.824 2126.66 100.898 Q2125.5 99.972 2121.54 99.1155 L2120.06 98.7683 Q2116.1 97.935 2114.34 96.222 Q2112.58 94.4859 2112.58 91.4767 Q2112.58 87.8193 2115.17 85.8286 Q2117.77 83.8378 2122.53 83.8378 Q2124.9 83.8378 2126.98 84.1851 Q2129.06 84.5323 2130.82 85.2267 Z\" fill=\"#000000\" fill-rule=\"evenodd\" fill-opacity=\"1\" /><path clip-path=\"url(#clip280)\" d=\"M 0 0 M2136.68 84.4628 L2140.94 84.4628 L2140.94 110.389 L2136.68 110.389 L2136.68 84.4628 M2136.68 74.3703 L2140.94 74.3703 L2140.94 79.7638 L2136.68 79.7638 L2136.68 74.3703 Z\" fill=\"#000000\" fill-rule=\"evenodd\" fill-opacity=\"1\" /><path clip-path=\"url(#clip280)\" d=\"M 0 0 M2149.62 77.1018 L2149.62 84.4628 L2158.39 84.4628 L2158.39 87.773 L2149.62 87.773 L2149.62 101.847 Q2149.62 105.018 2150.47 105.921 Q2151.35 106.824 2154.02 106.824 L2158.39 106.824 L2158.39 110.389 L2154.02 110.389 Q2149.09 110.389 2147.21 108.56 Q2145.34 106.708 2145.34 101.847 L2145.34 87.773 L2142.21 87.773 L2142.21 84.4628 L2145.34 84.4628 L2145.34 77.1018 L2149.62 77.1018 Z\" fill=\"#000000\" fill-rule=\"evenodd\" fill-opacity=\"1\" /><path clip-path=\"url(#clip280)\" d=\"M 0 0 M2173.65 112.796 Q2171.84 117.426 2170.13 118.838 Q2168.41 120.25 2165.54 120.25 L2162.14 120.25 L2162.14 116.685 L2164.64 116.685 Q2166.4 116.685 2167.37 115.852 Q2168.34 115.018 2169.53 111.916 L2170.29 109.972 L2159.8 84.4628 L2164.32 84.4628 L2172.42 104.741 L2180.52 84.4628 L2185.03 84.4628 L2173.65 112.796 Z\" fill=\"#000000\" fill-rule=\"evenodd\" fill-opacity=\"1\" /><polyline clip-path=\"url(#clip280)\" style=\"stroke:#e26f46; stroke-width:4; stroke-opacity:1; fill:none\" points=\"\n",
       "  1860.11,153.589 2004.11,153.589 \n",
       "  \"/>\n",
       "<path clip-path=\"url(#clip280)\" d=\"M 0 0 M2041.31 170.869 L2028.11 136.309 L2033 136.309 L2043.95 165.406 L2054.92 136.309 L2059.78 136.309 L2046.61 170.869 L2041.31 170.869 Z\" fill=\"#000000\" fill-rule=\"evenodd\" fill-opacity=\"1\" /><path clip-path=\"url(#clip280)\" d=\"M 0 0 M2082.74 156.841 L2082.74 158.924 L2063.16 158.924 Q2063.44 163.322 2065.8 165.637 Q2068.18 167.929 2072.42 167.929 Q2074.87 167.929 2077.16 167.327 Q2079.48 166.725 2081.75 165.521 L2081.75 169.549 Q2079.46 170.521 2077.05 171.031 Q2074.64 171.54 2072.16 171.54 Q2065.96 171.54 2062.33 167.929 Q2058.72 164.318 2058.72 158.16 Q2058.72 151.795 2062.14 148.068 Q2065.59 144.318 2071.42 144.318 Q2076.66 144.318 2079.69 147.697 Q2082.74 151.054 2082.74 156.841 M2078.48 155.591 Q2078.44 152.096 2076.52 150.012 Q2074.62 147.929 2071.47 147.929 Q2067.91 147.929 2065.75 149.943 Q2063.62 151.957 2063.3 155.614 L2078.48 155.591 Z\" fill=\"#000000\" fill-rule=\"evenodd\" fill-opacity=\"1\" /><path clip-path=\"url(#clip280)\" d=\"M 0 0 M2087.21 134.85 L2091.47 134.85 L2091.47 170.869 L2087.21 170.869 L2087.21 134.85 Z\" fill=\"#000000\" fill-rule=\"evenodd\" fill-opacity=\"1\" /><path clip-path=\"url(#clip280)\" d=\"M 0 0 M2105.98 147.929 Q2102.56 147.929 2100.57 150.614 Q2098.58 153.276 2098.58 157.929 Q2098.58 162.582 2100.54 165.267 Q2102.53 167.929 2105.98 167.929 Q2109.39 167.929 2111.38 165.244 Q2113.37 162.558 2113.37 157.929 Q2113.37 153.322 2111.38 150.637 Q2109.39 147.929 2105.98 147.929 M2105.98 144.318 Q2111.54 144.318 2114.71 147.929 Q2117.88 151.54 2117.88 157.929 Q2117.88 164.295 2114.71 167.929 Q2111.54 171.54 2105.98 171.54 Q2100.41 171.54 2097.23 167.929 Q2094.09 164.295 2094.09 157.929 Q2094.09 151.54 2097.23 147.929 Q2100.41 144.318 2105.98 144.318 Z\" fill=\"#000000\" fill-rule=\"evenodd\" fill-opacity=\"1\" /><path clip-path=\"url(#clip280)\" d=\"M 0 0 M2141.01 145.938 L2141.01 149.92 Q2139.2 148.924 2137.37 148.438 Q2135.57 147.929 2133.72 147.929 Q2129.57 147.929 2127.28 150.568 Q2124.99 153.184 2124.99 157.929 Q2124.99 162.674 2127.28 165.313 Q2129.57 167.929 2133.72 167.929 Q2135.57 167.929 2137.37 167.443 Q2139.2 166.933 2141.01 165.938 L2141.01 169.873 Q2139.22 170.707 2137.3 171.123 Q2135.4 171.54 2133.25 171.54 Q2127.4 171.54 2123.95 167.859 Q2120.5 164.179 2120.5 157.929 Q2120.5 151.586 2123.97 147.952 Q2127.47 144.318 2133.53 144.318 Q2135.5 144.318 2137.37 144.735 Q2139.25 145.128 2141.01 145.938 Z\" fill=\"#000000\" fill-rule=\"evenodd\" fill-opacity=\"1\" /><path clip-path=\"url(#clip280)\" d=\"M 0 0 M2145.47 144.943 L2149.73 144.943 L2149.73 170.869 L2145.47 170.869 L2145.47 144.943 M2145.47 134.85 L2149.73 134.85 L2149.73 140.244 L2145.47 140.244 L2145.47 134.85 Z\" fill=\"#000000\" fill-rule=\"evenodd\" fill-opacity=\"1\" /><path clip-path=\"url(#clip280)\" d=\"M 0 0 M2158.41 137.582 L2158.41 144.943 L2167.19 144.943 L2167.19 148.253 L2158.41 148.253 L2158.41 162.327 Q2158.41 165.498 2159.27 166.401 Q2160.15 167.304 2162.81 167.304 L2167.19 167.304 L2167.19 170.869 L2162.81 170.869 Q2157.88 170.869 2156.01 169.04 Q2154.13 167.188 2154.13 162.327 L2154.13 148.253 L2151.01 148.253 L2151.01 144.943 L2154.13 144.943 L2154.13 137.582 L2158.41 137.582 Z\" fill=\"#000000\" fill-rule=\"evenodd\" fill-opacity=\"1\" /><path clip-path=\"url(#clip280)\" d=\"M 0 0 M2182.44 173.276 Q2180.64 177.906 2178.92 179.318 Q2177.21 180.73 2174.34 180.73 L2170.94 180.73 L2170.94 177.165 L2173.44 177.165 Q2175.2 177.165 2176.17 176.332 Q2177.14 175.498 2178.32 172.396 L2179.09 170.452 L2168.6 144.943 L2173.11 144.943 L2181.21 165.221 L2189.32 144.943 L2193.83 144.943 L2182.44 173.276 Z\" fill=\"#000000\" fill-rule=\"evenodd\" fill-opacity=\"1\" /><polyline clip-path=\"url(#clip280)\" style=\"stroke:#3da44d; stroke-width:4; stroke-opacity:1; fill:none\" points=\"\n",
       "  1860.11,214.069 2004.11,214.069 \n",
       "  \"/>\n",
       "<path clip-path=\"url(#clip280)\" d=\"M 0 0 M2028.11 196.789 L2057.35 196.789 L2057.35 200.724 L2045.08 200.724 L2045.08 231.349 L2040.38 231.349 L2040.38 200.724 L2028.11 200.724 L2028.11 196.789 Z\" fill=\"#000000\" fill-rule=\"evenodd\" fill-opacity=\"1\" /><path clip-path=\"url(#clip280)\" d=\"M 0 0 M2075.94 217.321 L2075.94 219.404 L2056.35 219.404 Q2056.63 223.802 2058.99 226.117 Q2061.38 228.409 2065.61 228.409 Q2068.07 228.409 2070.36 227.807 Q2072.67 227.205 2074.94 226.001 L2074.94 230.029 Q2072.65 231.001 2070.24 231.511 Q2067.84 232.02 2065.36 232.02 Q2059.16 232.02 2055.52 228.409 Q2051.91 224.798 2051.91 218.64 Q2051.91 212.275 2055.34 208.548 Q2058.79 204.798 2064.62 204.798 Q2069.85 204.798 2072.88 208.177 Q2075.94 211.534 2075.94 217.321 M2071.68 216.071 Q2071.63 212.576 2069.71 210.492 Q2067.81 208.409 2064.66 208.409 Q2061.1 208.409 2058.95 210.423 Q2056.82 212.437 2056.49 216.094 L2071.68 216.071 Z\" fill=\"#000000\" fill-rule=\"evenodd\" fill-opacity=\"1\" /><path clip-path=\"url(#clip280)\" d=\"M 0 0 M2100.59 210.4 Q2102.19 207.529 2104.41 206.164 Q2106.63 204.798 2109.64 204.798 Q2113.69 204.798 2115.89 207.645 Q2118.09 210.469 2118.09 215.701 L2118.09 231.349 L2113.81 231.349 L2113.81 215.839 Q2113.81 212.113 2112.49 210.307 Q2111.17 208.502 2108.46 208.502 Q2105.15 208.502 2103.23 210.701 Q2101.31 212.9 2101.31 216.696 L2101.31 231.349 L2097.03 231.349 L2097.03 215.839 Q2097.03 212.089 2095.71 210.307 Q2094.39 208.502 2091.63 208.502 Q2088.37 208.502 2086.45 210.724 Q2084.53 212.923 2084.53 216.696 L2084.53 231.349 L2080.24 231.349 L2080.24 205.423 L2084.53 205.423 L2084.53 209.451 Q2085.98 207.066 2088.02 205.932 Q2090.06 204.798 2092.86 204.798 Q2095.68 204.798 2097.65 206.233 Q2099.64 207.668 2100.59 210.4 Z\" fill=\"#000000\" fill-rule=\"evenodd\" fill-opacity=\"1\" /><path clip-path=\"url(#clip280)\" d=\"M 0 0 M2126.68 227.46 L2126.68 241.21 L2122.4 241.21 L2122.4 205.423 L2126.68 205.423 L2126.68 209.358 Q2128.02 207.043 2130.06 205.932 Q2132.12 204.798 2134.97 204.798 Q2139.69 204.798 2142.63 208.548 Q2145.59 212.298 2145.59 218.409 Q2145.59 224.52 2142.63 228.27 Q2139.69 232.02 2134.97 232.02 Q2132.12 232.02 2130.06 230.909 Q2128.02 229.775 2126.68 227.46 M2141.17 218.409 Q2141.17 213.71 2139.22 211.048 Q2137.3 208.363 2133.92 208.363 Q2130.54 208.363 2128.6 211.048 Q2126.68 213.71 2126.68 218.409 Q2126.68 223.108 2128.6 225.793 Q2130.54 228.455 2133.92 228.455 Q2137.3 228.455 2139.22 225.793 Q2141.17 223.108 2141.17 218.409 Z\" fill=\"#000000\" fill-rule=\"evenodd\" fill-opacity=\"1\" /><path clip-path=\"url(#clip280)\" d=\"M 0 0 M2172.23 217.321 L2172.23 219.404 L2152.65 219.404 Q2152.93 223.802 2155.29 226.117 Q2157.67 228.409 2161.91 228.409 Q2164.36 228.409 2166.65 227.807 Q2168.97 227.205 2171.24 226.001 L2171.24 230.029 Q2168.95 231.001 2166.54 231.511 Q2164.13 232.02 2161.65 232.02 Q2155.45 232.02 2151.82 228.409 Q2148.21 224.798 2148.21 218.64 Q2148.21 212.275 2151.63 208.548 Q2155.08 204.798 2160.91 204.798 Q2166.15 204.798 2169.18 208.177 Q2172.23 211.534 2172.23 217.321 M2167.97 216.071 Q2167.93 212.576 2166.01 210.492 Q2164.11 208.409 2160.96 208.409 Q2157.4 208.409 2155.24 210.423 Q2153.11 212.437 2152.79 216.094 L2167.97 216.071 Z\" fill=\"#000000\" fill-rule=\"evenodd\" fill-opacity=\"1\" /><path clip-path=\"url(#clip280)\" d=\"M 0 0 M2191.72 209.404 Q2191.01 208.988 2190.15 208.802 Q2189.32 208.594 2188.3 208.594 Q2184.69 208.594 2182.74 210.955 Q2180.82 213.293 2180.82 217.691 L2180.82 231.349 L2176.54 231.349 L2176.54 205.423 L2180.82 205.423 L2180.82 209.451 Q2182.16 207.089 2184.32 205.955 Q2186.47 204.798 2189.55 204.798 Q2189.99 204.798 2190.52 204.867 Q2191.05 204.914 2191.7 205.029 L2191.72 209.404 Z\" fill=\"#000000\" fill-rule=\"evenodd\" fill-opacity=\"1\" /><path clip-path=\"url(#clip280)\" d=\"M 0 0 M2207.97 218.316 Q2202.81 218.316 2200.82 219.497 Q2198.83 220.677 2198.83 223.525 Q2198.83 225.793 2200.31 227.136 Q2201.82 228.455 2204.39 228.455 Q2207.93 228.455 2210.06 225.955 Q2212.21 223.432 2212.21 219.265 L2212.21 218.316 L2207.97 218.316 M2216.47 216.557 L2216.47 231.349 L2212.21 231.349 L2212.21 227.413 Q2210.75 229.775 2208.58 230.909 Q2206.4 232.02 2203.25 232.02 Q2199.27 232.02 2196.91 229.798 Q2194.57 227.552 2194.57 223.802 Q2194.57 219.427 2197.49 217.205 Q2200.43 214.983 2206.24 214.983 L2212.21 214.983 L2212.21 214.566 Q2212.21 211.627 2210.27 210.029 Q2208.34 208.409 2204.85 208.409 Q2202.63 208.409 2200.52 208.941 Q2198.41 209.474 2196.47 210.539 L2196.47 206.603 Q2198.81 205.701 2201.01 205.261 Q2203.21 204.798 2205.29 204.798 Q2210.91 204.798 2213.69 207.714 Q2216.47 210.631 2216.47 216.557 Z\" fill=\"#000000\" fill-rule=\"evenodd\" fill-opacity=\"1\" /><path clip-path=\"url(#clip280)\" d=\"M 0 0 M2225.15 198.062 L2225.15 205.423 L2233.92 205.423 L2233.92 208.733 L2225.15 208.733 L2225.15 222.807 Q2225.15 225.978 2226.01 226.881 Q2226.89 227.784 2229.55 227.784 L2233.92 227.784 L2233.92 231.349 L2229.55 231.349 Q2224.62 231.349 2222.74 229.52 Q2220.87 227.668 2220.87 222.807 L2220.87 208.733 L2217.74 208.733 L2217.74 205.423 L2220.87 205.423 L2220.87 198.062 L2225.15 198.062 Z\" fill=\"#000000\" fill-rule=\"evenodd\" fill-opacity=\"1\" /><path clip-path=\"url(#clip280)\" d=\"M 0 0 M2237.95 221.117 L2237.95 205.423 L2242.21 205.423 L2242.21 220.955 Q2242.21 224.636 2243.65 226.488 Q2245.08 228.316 2247.95 228.316 Q2251.4 228.316 2253.39 226.117 Q2255.4 223.918 2255.4 220.122 L2255.4 205.423 L2259.66 205.423 L2259.66 231.349 L2255.4 231.349 L2255.4 227.367 Q2253.85 229.728 2251.79 230.886 Q2249.76 232.02 2247.05 232.02 Q2242.58 232.02 2240.27 229.242 Q2237.95 226.464 2237.95 221.117 M2248.67 204.798 L2248.67 204.798 Z\" fill=\"#000000\" fill-rule=\"evenodd\" fill-opacity=\"1\" /><path clip-path=\"url(#clip280)\" d=\"M 0 0 M2279.15 209.404 Q2278.44 208.988 2277.58 208.802 Q2276.75 208.594 2275.73 208.594 Q2272.12 208.594 2270.17 210.955 Q2268.25 213.293 2268.25 217.691 L2268.25 231.349 L2263.97 231.349 L2263.97 205.423 L2268.25 205.423 L2268.25 209.451 Q2269.59 207.089 2271.75 205.955 Q2273.9 204.798 2276.98 204.798 Q2277.42 204.798 2277.95 204.867 Q2278.48 204.914 2279.13 205.029 L2279.15 209.404 Z\" fill=\"#000000\" fill-rule=\"evenodd\" fill-opacity=\"1\" /><path clip-path=\"url(#clip280)\" d=\"M 0 0 M2304.76 217.321 L2304.76 219.404 L2285.17 219.404 Q2285.45 223.802 2287.81 226.117 Q2290.2 228.409 2294.43 228.409 Q2296.89 228.409 2299.18 227.807 Q2301.49 227.205 2303.76 226.001 L2303.76 230.029 Q2301.47 231.001 2299.06 231.511 Q2296.65 232.02 2294.18 232.02 Q2287.97 232.02 2284.34 228.409 Q2280.73 224.798 2280.73 218.64 Q2280.73 212.275 2284.15 208.548 Q2287.6 204.798 2293.44 204.798 Q2298.67 204.798 2301.7 208.177 Q2304.76 211.534 2304.76 217.321 M2300.5 216.071 Q2300.45 212.576 2298.53 210.492 Q2296.63 208.409 2293.48 208.409 Q2289.92 208.409 2287.77 210.423 Q2285.64 212.437 2285.31 216.094 L2300.5 216.071 Z\" fill=\"#000000\" fill-rule=\"evenodd\" fill-opacity=\"1\" /></svg>\n"
      ]
     },
     "metadata": {},
     "output_type": "display_data"
    }
   ],
   "source": [
    "plot_line(ks, ctr)"
   ]
  },
  {
   "cell_type": "code",
   "execution_count": null,
   "metadata": {},
   "outputs": [],
   "source": [
    "ctr = OffsetArray{ControlVolume1D2F}(undef, eachindex(ks.pSpace.x))\n",
    "face = Array{Interface1D2F}(undef, ks.pSpace.nx + 1)\n",
    "for i in eachindex(ctr)\n",
    "    if i <= ks.pSpace.nx ÷ 2\n",
    "        ctr[i] = ControlVolume1D2F(\n",
    "            ks.pSpace.x[i],\n",
    "            ks.pSpace.dx[i],\n",
    "            Float32.(ks.ib.wL),\n",
    "            Float32.(ks.ib.primL),\n",
    "            Float32.(ks.ib.hL),\n",
    "            Float32.(ks.ib.bL),\n",
    "        )\n",
    "    else\n",
    "        ctr[i] = ControlVolume1D2F(\n",
    "            ks.pSpace.x[i],\n",
    "            ks.pSpace.dx[i],\n",
    "            Float32.(ks.ib.wR),\n",
    "            Float32.(ks.ib.primR),\n",
    "            Float32.(ks.ib.hR),\n",
    "            Float32.(ks.ib.bR),\n",
    "        )\n",
    "    end\n",
    "end\n",
    "for i = 1:ks.pSpace.nx+1\n",
    "    face[i] = Interface1D2F(ks.ib.wL, ks.ib.hL)\n",
    "end"
   ]
  },
  {
   "cell_type": "code",
   "execution_count": 26,
   "metadata": {},
   "outputs": [
    {
     "data": {
      "text/plain": [
       "96×4 Array{Float64,2}:\n",
       " 0.0          0.0          -1.36236    -1.34702\n",
       " 0.0          0.0          -0.758317    1.78849\n",
       " 0.0          0.0          -1.10277     1.58708\n",
       " 0.0          0.0           1.02725     0.741366\n",
       " 5.60519e-44  5.60519e-44  -0.70784     0.247827\n",
       " 1.88221e-40  1.88221e-40   1.18105    -0.36038\n",
       " 4.46445e-37  4.46445e-37  -1.01389    -0.199139\n",
       " 7.48289e-34  7.48289e-34  -1.00335     1.6528\n",
       " 8.86287e-31  8.86287e-31  -1.75861    -0.634582\n",
       " 7.41794e-28  7.41794e-28  -0.932249    0.347902\n",
       " 4.38727e-25  4.38727e-25   0.252856   -0.625677\n",
       " 1.83362e-22  1.83362e-22   2.94716     0.853839\n",
       " 5.41537e-20  5.41537e-20   0.284651    0.410991\n",
       " ⋮                                     \n",
       " 6.05704e-6   6.05704e-6    0.482647   -0.9471\n",
       " 3.03851e-7   3.03851e-7    0.0235018   2.88077\n",
       " 1.07712e-8   1.07712e-8   -0.784148   -0.134042\n",
       " 2.69819e-10  2.69819e-10   1.2063      0.888896\n",
       " 4.77622e-12  4.77622e-12  -0.273218   -0.0897954\n",
       " 5.97445e-14  5.97445e-14  -0.953194   -1.64298\n",
       " 5.28099e-16  5.28099e-16   1.26445    -0.0056981\n",
       " 3.29865e-18  3.29865e-18   1.02522    -0.432509\n",
       " 1.456e-20    1.456e-20     0.129922    2.80687\n",
       " 4.54138e-23  4.54138e-23   0.111631    1.08389\n",
       " 1.00096e-25  1.00096e-25   0.45564    -0.223926\n",
       " 1.55902e-28  1.55902e-28   1.14888     0.655631"
      ]
     },
     "execution_count": 26,
     "metadata": {},
     "output_type": "execute_result"
    }
   ],
   "source": [
    "hcat(test,randn(96),randn(96))"
   ]
  },
  {
   "cell_type": "code",
   "execution_count": 25,
   "metadata": {},
   "outputs": [
    {
     "data": {
      "text/plain": [
       "96×2 Array{Float32,2}:\n",
       " 0.0          0.0\n",
       " 0.0          0.0\n",
       " 0.0          0.0\n",
       " 0.0          0.0\n",
       " 5.6f-44      5.6f-44\n",
       " 1.88221f-40  1.88221f-40\n",
       " 4.46445f-37  4.46445f-37\n",
       " 7.48289f-34  7.48289f-34\n",
       " 8.86287f-31  8.86287f-31\n",
       " 7.41794f-28  7.41794f-28\n",
       " 4.38727f-25  4.38727f-25\n",
       " 1.83362f-22  1.83362f-22\n",
       " 5.41537f-20  5.41537f-20\n",
       " ⋮            \n",
       " 6.05704f-6   6.05704f-6\n",
       " 3.03851f-7   3.03851f-7\n",
       " 1.07712f-8   1.07712f-8\n",
       " 2.69819f-10  2.69819f-10\n",
       " 4.77622f-12  4.77622f-12\n",
       " 5.97445f-14  5.97445f-14\n",
       " 5.28099f-16  5.28099f-16\n",
       " 3.29865f-18  3.29865f-18\n",
       " 1.456f-20    1.456f-20\n",
       " 4.54138f-23  4.54138f-23\n",
       " 1.00096f-25  1.00096f-25\n",
       " 1.55902f-28  1.55902f-28"
      ]
     },
     "execution_count": 25,
     "metadata": {},
     "output_type": "execute_result"
    }
   ],
   "source": [
    "test = hcat(test,test)"
   ]
  },
  {
   "cell_type": "code",
   "execution_count": null,
   "metadata": {},
   "outputs": [],
   "source": [
    "#--- neural ODE ---#\n",
    "model_univ = FastChain(\n",
    "    #(x, p) -> zeros(eltype(x), axes(x)),\n",
    "    FastDense(ks.vSpace.nu * 2, ks.vSpace.nu * 2 * nh, tanh),\n",
    "    FastDense(ks.vSpace.nu * 2 * nh, ks.vSpace.nu * 2),\n",
    ")\n",
    "\n",
    "p_model = initial_params(model_univ)\n",
    "\n",
    "function dfdt(f, p, t)\n",
    "    h = f[1:nu, :]\n",
    "    b = f[nu+1:end, :]\n",
    "\n",
    "    df = model_univ(f, p)\n",
    "end\n",
    "\n",
    "prob_ube = ODEProblem(dfdt, X, tspan, p_model)\n",
    "\n",
    "function loss(p)\n",
    "    sol_ube = solve(prob_ube, Midpoint(), u0=X, p=p, saveat=tran)\n",
    "    loss = sum(abs2, Array(sol_ube) .- Y)\n",
    "    #loss = sum(abs2, Array(sol_ube) .- Y1)\n",
    "    return loss\n",
    "end\n",
    "\n",
    "cb = function (p, l)\n",
    "    display(l)\n",
    "    return false\n",
    "end"
   ]
  }
 ],
 "metadata": {
  "kernelspec": {
   "display_name": "Julia 1.4.2",
   "language": "julia",
   "name": "julia-1.4"
  },
  "language_info": {
   "file_extension": ".jl",
   "mimetype": "application/julia",
   "name": "julia",
   "version": "1.4.2"
  }
 },
 "nbformat": 4,
 "nbformat_minor": 4
}
