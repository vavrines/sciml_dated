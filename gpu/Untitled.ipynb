{
 "cells": [
  {
   "cell_type": "code",
   "execution_count": 142,
   "metadata": {},
   "outputs": [],
   "source": [
    "using Revise, OrdinaryDiffEq, Flux, DiffEqFlux, Kinetic, Optim\n",
    "using Plots, FileIO, JLD2, OffsetArrays, ProgressMeter"
   ]
  },
  {
   "cell_type": "code",
   "execution_count": 123,
   "metadata": {},
   "outputs": [
    {
     "data": {
      "text/plain": [
       "2-element Array{Symbol,1}:\n",
       " :ks\n",
       " :ctr"
      ]
     },
     "execution_count": 123,
     "metadata": {},
     "output_type": "execute_result"
    }
   ],
   "source": [
    "@load \"X1d.jld2\" X\n",
    "@load \"sol1d.jld2\" ks ctr"
   ]
  },
  {
   "cell_type": "code",
   "execution_count": 129,
   "metadata": {},
   "outputs": [],
   "source": [
    "vMeshType = \"rectangle\"\n",
    "umin = ks.vSpace.u0; umax = ks.vSpace.u1; nu = ks.vSpace.nu\n",
    "vmin = ks.vSpace.u0; vmax = ks.vSpace.u1; nv = 28\n",
    "wmin = ks.vSpace.u0; wmax = ks.vSpace.u1; nw = 28\n",
    "nm = 5; tLen = 2; nh = 12;"
   ]
  },
  {
   "cell_type": "code",
   "execution_count": 130,
   "metadata": {},
   "outputs": [],
   "source": [
    "vSpace2D = VSpace2D(vmin, vmax, nv, wmin, wmax, nw, vMeshType)\n",
    "vSpace3D = VSpace3D(umin, umax, nu, vmin, vmax, nv, wmin, wmax, nw, vMeshType)\n",
    "\n",
    "kn_bzm = hs_boltz_kn(ks.gas.μᵣ, 1.0)\n",
    "sos = sound_speed(ks.ib.primR, ks.gas.γ)\n",
    "tmax = (ks.vSpace.u1 + sos) / ks.pSpace.dx[1]\n",
    "dt = Float32(ks.set.cfl / tmax)\n",
    "tspan = (0.f0, dt)\n",
    "tran = range(tspan[1], tspan[2], length = tLen);"
   ]
  },
  {
   "cell_type": "code",
   "execution_count": 131,
   "metadata": {},
   "outputs": [],
   "source": [
    "PRIM = zeros(Float32, 3, size(X, 2))\n",
    "for i in axes(PRIM, 2)\n",
    "    temp = moments_conserve(X[1:nu,i], X[nu+1:end,i], ks.vSpace.u, ks.vSpace.weights)\n",
    "    PRIM[:,i] .= conserve_prim(temp, ks.gas.γ)\n",
    "end"
   ]
  },
  {
   "cell_type": "code",
   "execution_count": 132,
   "metadata": {},
   "outputs": [
    {
     "data": {
      "text/plain": [
       "boltzmann! (generic function with 1 method)"
      ]
     },
     "execution_count": 132,
     "metadata": {},
     "output_type": "execute_result"
    }
   ],
   "source": [
    "#--- Boltzmann dataset ---#\n",
    "f_full = Array{Float32}(undef, nu, nv, nw, size(X, 2))\n",
    "for i = 1:size(X, 2)\n",
    "    f_full[:, :, :, i] .= full_distribution(\n",
    "        X[1:nu, i],\n",
    "        X[nu+1:end, i],\n",
    "        ks.vSpace.u,\n",
    "        ks.vSpace.weights,\n",
    "        vSpace3D.v,\n",
    "        vSpace3D.w,\n",
    "        PRIM[:, i],\n",
    "        ks.gas.γ,\n",
    "    )\n",
    "end\n",
    "\n",
    "phi, psi, phipsi = kernel_mode(\n",
    "    nm,\n",
    "    vSpace3D.u1,\n",
    "    vSpace3D.v1,\n",
    "    vSpace3D.w1,\n",
    "    vSpace3D.du[1, 1, 1],\n",
    "    vSpace3D.dv[1, 1, 1],\n",
    "    vSpace3D.dw[1, 1, 1],\n",
    "    vSpace3D.nu,\n",
    "    vSpace3D.nv,\n",
    "    vSpace3D.nw,\n",
    "    ks.gas.αᵣ,\n",
    ")\n",
    "\n",
    "function boltzmann(f, p, t)\n",
    "    Kn, M, phi, psi, phipsi = p\n",
    "    return boltzmann_fft(f[1:end,1:end,1:end], Kn, M, phi, psi, phipsi)\n",
    "end\n",
    "\n",
    "function boltzmann!(df, f, p, t)\n",
    "    Kn, M, phi, psi, phipsi = p\n",
    "    df .= boltzmann_fft(f, Kn, M, phi, psi, phipsi)\n",
    "end"
   ]
  },
  {
   "cell_type": "code",
   "execution_count": 133,
   "metadata": {},
   "outputs": [],
   "source": [
    "data_boltz = zeros(Float32, nu, nv, nw, size(X, 2), tLen)\n",
    "for i in axes(X, 2)\n",
    "    prob = ODEProblem(\n",
    "        boltzmann!,\n",
    "        f_full[:, :, :, i],\n",
    "        tspan,\n",
    "        [kn_bzm, nm, phi, psi, phipsi],\n",
    "    )\n",
    "\n",
    "    #data_boltz[:, :, :, i, :] = solve(prob, Midpoint(), saveat=tran) |> Array # tLen > 2\n",
    "    data_boltz[:, :, :, i, :] = solve(prob, Euler(), dt=dt) |> Array # tLen = 2\n",
    "end"
   ]
  },
  {
   "cell_type": "code",
   "execution_count": 134,
   "metadata": {},
   "outputs": [],
   "source": [
    "h_boltz = zeros(Float32, ks.vSpace.nu, size(X, 2), tLen)\n",
    "b_boltz = zeros(Float32, ks.vSpace.nu, size(X, 2), tLen)\n",
    "for j = 1:tLen, i in axes(X, 2)\n",
    "    h_boltz[:, i, j], b_boltz[:, i, j] = reduce_distribution(\n",
    "        data_boltz[:, :, :, i, j],\n",
    "        vSpace3D.v,\n",
    "        vSpace3D.w,\n",
    "        vSpace2D.weights,\n",
    "    )\n",
    "end\n",
    "Y = vcat(h_boltz, b_boltz);"
   ]
  },
  {
   "cell_type": "code",
   "execution_count": 135,
   "metadata": {},
   "outputs": [],
   "source": [
    "#--- BGK dataset ---#\n",
    "function bgk!(df, f, p, t)\n",
    "    H, B, tau = p\n",
    "    df[1:end÷2, :] .= (H .- f[1:end÷2, :]) ./ tau\n",
    "    df[end÷2+1:end, :] .= (B .- f[end÷2+1:end, :]) ./ tau\n",
    "end\n",
    "\n",
    "#X = Array{Float32}(undef, nu * 2, ks.pSpace.nx)\n",
    "#for i = 1:ks.pSpace.nx\n",
    "#    X[1:nu, i] .= ctr[i].h\n",
    "#    X[nu+1:end, i] .= ctr[i].b\n",
    "#end\n",
    "\n",
    "H = Array{Float32}(undef, nu, size(X, 2))\n",
    "B = Array{Float32}(undef, nu, size(X, 2))\n",
    "τ = Array{Float32}(undef, 1, size(X, 2))\n",
    "for i in axes(X, 2)\n",
    "    H[:, i] .= maxwellian(ks.vSpace.u, PRIM[:,i])\n",
    "    B[:, i] .= H[:, i] .* ks.gas.K ./ (2.0 .* PRIM[end,i])\n",
    "    τ[1, i] = vhs_collision_time(PRIM[:,i], ks.gas.μᵣ, ks.gas.ω)\n",
    "end\n",
    "P = [H, B, τ]\n",
    "\n",
    "prob = ODEProblem(bgk!, X, tspan, P)\n",
    "#Y1 = solve(prob, Midpoint(), saveat=tran) |> Array;\n",
    "Y1 = solve(prob, Euler(), dt=dt) |> Array;"
   ]
  },
  {
   "cell_type": "code",
   "execution_count": 157,
   "metadata": {},
   "outputs": [
    {
     "data": {
      "image/svg+xml": [
       "<?xml version=\"1.0\" encoding=\"utf-8\"?>\n",
       "<svg xmlns=\"http://www.w3.org/2000/svg\" xmlns:xlink=\"http://www.w3.org/1999/xlink\" width=\"600\" height=\"400\" viewBox=\"0 0 2400 1600\">\n",
       "<defs>\n",
       "  <clipPath id=\"clip070\">\n",
       "    <rect x=\"0\" y=\"0\" width=\"2400\" height=\"1600\"/>\n",
       "  </clipPath>\n",
       "</defs>\n",
       "<path clip-path=\"url(#clip070)\" d=\"\n",
       "M0 1600 L2400 1600 L2400 0 L0 0  Z\n",
       "  \" fill=\"#ffffff\" fill-rule=\"evenodd\" fill-opacity=\"1\"/>\n",
       "<defs>\n",
       "  <clipPath id=\"clip071\">\n",
       "    <rect x=\"480\" y=\"0\" width=\"1681\" height=\"1600\"/>\n",
       "  </clipPath>\n",
       "</defs>\n",
       "<path clip-path=\"url(#clip070)\" d=\"\n",
       "M148.334 1486.45 L2352.76 1486.45 L2352.76 47.2441 L148.334 47.2441  Z\n",
       "  \" fill=\"#ffffff\" fill-rule=\"evenodd\" fill-opacity=\"1\"/>\n",
       "<defs>\n",
       "  <clipPath id=\"clip072\">\n",
       "    <rect x=\"148\" y=\"47\" width=\"2205\" height=\"1440\"/>\n",
       "  </clipPath>\n",
       "</defs>\n",
       "<polyline clip-path=\"url(#clip072)\" style=\"stroke:#000000; stroke-width:2; stroke-opacity:0.1; fill:none\" points=\"\n",
       "  188.6,1486.45 188.6,47.2441 \n",
       "  \"/>\n",
       "<polyline clip-path=\"url(#clip072)\" style=\"stroke:#000000; stroke-width:2; stroke-opacity:0.1; fill:none\" points=\"\n",
       "  719.572,1486.45 719.572,47.2441 \n",
       "  \"/>\n",
       "<polyline clip-path=\"url(#clip072)\" style=\"stroke:#000000; stroke-width:2; stroke-opacity:0.1; fill:none\" points=\"\n",
       "  1250.55,1486.45 1250.55,47.2441 \n",
       "  \"/>\n",
       "<polyline clip-path=\"url(#clip072)\" style=\"stroke:#000000; stroke-width:2; stroke-opacity:0.1; fill:none\" points=\"\n",
       "  1781.52,1486.45 1781.52,47.2441 \n",
       "  \"/>\n",
       "<polyline clip-path=\"url(#clip072)\" style=\"stroke:#000000; stroke-width:2; stroke-opacity:0.1; fill:none\" points=\"\n",
       "  2312.49,1486.45 2312.49,47.2441 \n",
       "  \"/>\n",
       "<polyline clip-path=\"url(#clip072)\" style=\"stroke:#000000; stroke-width:2; stroke-opacity:0.1; fill:none\" points=\"\n",
       "  148.334,1445.72 2352.76,1445.72 \n",
       "  \"/>\n",
       "<polyline clip-path=\"url(#clip072)\" style=\"stroke:#000000; stroke-width:2; stroke-opacity:0.1; fill:none\" points=\"\n",
       "  148.334,1235.58 2352.76,1235.58 \n",
       "  \"/>\n",
       "<polyline clip-path=\"url(#clip072)\" style=\"stroke:#000000; stroke-width:2; stroke-opacity:0.1; fill:none\" points=\"\n",
       "  148.334,1025.43 2352.76,1025.43 \n",
       "  \"/>\n",
       "<polyline clip-path=\"url(#clip072)\" style=\"stroke:#000000; stroke-width:2; stroke-opacity:0.1; fill:none\" points=\"\n",
       "  148.334,815.295 2352.76,815.295 \n",
       "  \"/>\n",
       "<polyline clip-path=\"url(#clip072)\" style=\"stroke:#000000; stroke-width:2; stroke-opacity:0.1; fill:none\" points=\"\n",
       "  148.334,605.154 2352.76,605.154 \n",
       "  \"/>\n",
       "<polyline clip-path=\"url(#clip072)\" style=\"stroke:#000000; stroke-width:2; stroke-opacity:0.1; fill:none\" points=\"\n",
       "  148.334,395.014 2352.76,395.014 \n",
       "  \"/>\n",
       "<polyline clip-path=\"url(#clip072)\" style=\"stroke:#000000; stroke-width:2; stroke-opacity:0.1; fill:none\" points=\"\n",
       "  148.334,184.873 2352.76,184.873 \n",
       "  \"/>\n",
       "<polyline clip-path=\"url(#clip070)\" style=\"stroke:#000000; stroke-width:4; stroke-opacity:1; fill:none\" points=\"\n",
       "  148.334,1486.45 2352.76,1486.45 \n",
       "  \"/>\n",
       "<polyline clip-path=\"url(#clip070)\" style=\"stroke:#000000; stroke-width:4; stroke-opacity:1; fill:none\" points=\"\n",
       "  148.334,1486.45 148.334,47.2441 \n",
       "  \"/>\n",
       "<polyline clip-path=\"url(#clip070)\" style=\"stroke:#000000; stroke-width:4; stroke-opacity:1; fill:none\" points=\"\n",
       "  188.6,1486.45 188.6,1469.18 \n",
       "  \"/>\n",
       "<polyline clip-path=\"url(#clip070)\" style=\"stroke:#000000; stroke-width:4; stroke-opacity:1; fill:none\" points=\"\n",
       "  719.572,1486.45 719.572,1469.18 \n",
       "  \"/>\n",
       "<polyline clip-path=\"url(#clip070)\" style=\"stroke:#000000; stroke-width:4; stroke-opacity:1; fill:none\" points=\"\n",
       "  1250.55,1486.45 1250.55,1469.18 \n",
       "  \"/>\n",
       "<polyline clip-path=\"url(#clip070)\" style=\"stroke:#000000; stroke-width:4; stroke-opacity:1; fill:none\" points=\"\n",
       "  1781.52,1486.45 1781.52,1469.18 \n",
       "  \"/>\n",
       "<polyline clip-path=\"url(#clip070)\" style=\"stroke:#000000; stroke-width:4; stroke-opacity:1; fill:none\" points=\"\n",
       "  2312.49,1486.45 2312.49,1469.18 \n",
       "  \"/>\n",
       "<polyline clip-path=\"url(#clip070)\" style=\"stroke:#000000; stroke-width:4; stroke-opacity:1; fill:none\" points=\"\n",
       "  148.334,1445.72 174.787,1445.72 \n",
       "  \"/>\n",
       "<polyline clip-path=\"url(#clip070)\" style=\"stroke:#000000; stroke-width:4; stroke-opacity:1; fill:none\" points=\"\n",
       "  148.334,1235.58 174.787,1235.58 \n",
       "  \"/>\n",
       "<polyline clip-path=\"url(#clip070)\" style=\"stroke:#000000; stroke-width:4; stroke-opacity:1; fill:none\" points=\"\n",
       "  148.334,1025.43 174.787,1025.43 \n",
       "  \"/>\n",
       "<polyline clip-path=\"url(#clip070)\" style=\"stroke:#000000; stroke-width:4; stroke-opacity:1; fill:none\" points=\"\n",
       "  148.334,815.295 174.787,815.295 \n",
       "  \"/>\n",
       "<polyline clip-path=\"url(#clip070)\" style=\"stroke:#000000; stroke-width:4; stroke-opacity:1; fill:none\" points=\"\n",
       "  148.334,605.154 174.787,605.154 \n",
       "  \"/>\n",
       "<polyline clip-path=\"url(#clip070)\" style=\"stroke:#000000; stroke-width:4; stroke-opacity:1; fill:none\" points=\"\n",
       "  148.334,395.014 174.787,395.014 \n",
       "  \"/>\n",
       "<polyline clip-path=\"url(#clip070)\" style=\"stroke:#000000; stroke-width:4; stroke-opacity:1; fill:none\" points=\"\n",
       "  148.334,184.873 174.787,184.873 \n",
       "  \"/>\n",
       "<path clip-path=\"url(#clip070)\" d=\"M 0 0 M155.961 1525.04 L168.438 1525.04 L168.438 1528.83 L155.961 1528.83 L155.961 1525.04 Z\" fill=\"#000000\" fill-rule=\"evenodd\" fill-opacity=\"1\" /><path clip-path=\"url(#clip070)\" d=\"M 0 0 M174.317 1535.98 L181.956 1535.98 L181.956 1509.62 L173.646 1511.29 L173.646 1507.03 L181.91 1505.36 L186.586 1505.36 L186.586 1535.98 L194.225 1535.98 L194.225 1539.92 L174.317 1539.92 L174.317 1535.98 Z\" fill=\"#000000\" fill-rule=\"evenodd\" fill-opacity=\"1\" /><path clip-path=\"url(#clip070)\" d=\"M 0 0 M209.294 1508.44 Q205.683 1508.44 203.854 1512 Q202.049 1515.55 202.049 1522.67 Q202.049 1529.78 203.854 1533.35 Q205.683 1536.89 209.294 1536.89 Q212.928 1536.89 214.734 1533.35 Q216.563 1529.78 216.563 1522.67 Q216.563 1515.55 214.734 1512 Q212.928 1508.44 209.294 1508.44 M209.294 1504.73 Q215.104 1504.73 218.16 1509.34 Q221.239 1513.92 221.239 1522.67 Q221.239 1531.4 218.16 1536.01 Q215.104 1540.59 209.294 1540.59 Q203.484 1540.59 200.405 1536.01 Q197.35 1531.4 197.35 1522.67 Q197.35 1513.92 200.405 1509.34 Q203.484 1504.73 209.294 1504.73 Z\" fill=\"#000000\" fill-rule=\"evenodd\" fill-opacity=\"1\" /><path clip-path=\"url(#clip070)\" d=\"M 0 0 M700.325 1525.04 L712.802 1525.04 L712.802 1528.83 L700.325 1528.83 L700.325 1525.04 Z\" fill=\"#000000\" fill-rule=\"evenodd\" fill-opacity=\"1\" /><path clip-path=\"url(#clip070)\" d=\"M 0 0 M717.917 1505.36 L736.274 1505.36 L736.274 1509.3 L722.2 1509.3 L722.2 1517.77 Q723.218 1517.42 724.237 1517.26 Q725.255 1517.07 726.274 1517.07 Q732.061 1517.07 735.44 1520.24 Q738.82 1523.42 738.82 1528.83 Q738.82 1534.41 735.348 1537.51 Q731.876 1540.59 725.556 1540.59 Q723.38 1540.59 721.112 1540.22 Q718.866 1539.85 716.459 1539.11 L716.459 1534.41 Q718.542 1535.54 720.765 1536.1 Q722.987 1536.66 725.464 1536.66 Q729.468 1536.66 731.806 1534.55 Q734.144 1532.44 734.144 1528.83 Q734.144 1525.22 731.806 1523.11 Q729.468 1521.01 725.464 1521.01 Q723.589 1521.01 721.714 1521.42 Q719.862 1521.84 717.917 1522.72 L717.917 1505.36 Z\" fill=\"#000000\" fill-rule=\"evenodd\" fill-opacity=\"1\" /><path clip-path=\"url(#clip070)\" d=\"M 0 0 M1250.55 1508.44 Q1246.93 1508.44 1245.11 1512 Q1243.3 1515.55 1243.3 1522.67 Q1243.3 1529.78 1245.11 1533.35 Q1246.93 1536.89 1250.55 1536.89 Q1254.18 1536.89 1255.98 1533.35 Q1257.81 1529.78 1257.81 1522.67 Q1257.81 1515.55 1255.98 1512 Q1254.18 1508.44 1250.55 1508.44 M1250.55 1504.73 Q1256.36 1504.73 1259.41 1509.34 Q1262.49 1513.92 1262.49 1522.67 Q1262.49 1531.4 1259.41 1536.01 Q1256.36 1540.59 1250.55 1540.59 Q1244.73 1540.59 1241.66 1536.01 Q1238.6 1531.4 1238.6 1522.67 Q1238.6 1513.92 1241.66 1509.34 Q1244.73 1504.73 1250.55 1504.73 Z\" fill=\"#000000\" fill-rule=\"evenodd\" fill-opacity=\"1\" /><path clip-path=\"url(#clip070)\" d=\"M 0 0 M1771.8 1505.36 L1790.15 1505.36 L1790.15 1509.3 L1776.08 1509.3 L1776.08 1517.77 Q1777.1 1517.42 1778.12 1517.26 Q1779.13 1517.07 1780.15 1517.07 Q1785.94 1517.07 1789.32 1520.24 Q1792.7 1523.42 1792.7 1528.83 Q1792.7 1534.41 1789.23 1537.51 Q1785.75 1540.59 1779.43 1540.59 Q1777.26 1540.59 1774.99 1540.22 Q1772.74 1539.85 1770.34 1539.11 L1770.34 1534.41 Q1772.42 1535.54 1774.64 1536.1 Q1776.87 1536.66 1779.34 1536.66 Q1783.35 1536.66 1785.68 1534.55 Q1788.02 1532.44 1788.02 1528.83 Q1788.02 1525.22 1785.68 1523.11 Q1783.35 1521.01 1779.34 1521.01 Q1777.47 1521.01 1775.59 1521.42 Q1773.74 1521.84 1771.8 1522.72 L1771.8 1505.36 Z\" fill=\"#000000\" fill-rule=\"evenodd\" fill-opacity=\"1\" /><path clip-path=\"url(#clip070)\" d=\"M 0 0 M2289.37 1535.98 L2297 1535.98 L2297 1509.62 L2288.69 1511.29 L2288.69 1507.03 L2296.96 1505.36 L2301.63 1505.36 L2301.63 1535.98 L2309.27 1535.98 L2309.27 1539.92 L2289.37 1539.92 L2289.37 1535.98 Z\" fill=\"#000000\" fill-rule=\"evenodd\" fill-opacity=\"1\" /><path clip-path=\"url(#clip070)\" d=\"M 0 0 M2324.34 1508.44 Q2320.73 1508.44 2318.9 1512 Q2317.1 1515.55 2317.1 1522.67 Q2317.1 1529.78 2318.9 1533.35 Q2320.73 1536.89 2324.34 1536.89 Q2327.98 1536.89 2329.78 1533.35 Q2331.61 1529.78 2331.61 1522.67 Q2331.61 1515.55 2329.78 1512 Q2327.98 1508.44 2324.34 1508.44 M2324.34 1504.73 Q2330.15 1504.73 2333.21 1509.34 Q2336.29 1513.92 2336.29 1522.67 Q2336.29 1531.4 2333.21 1536.01 Q2330.15 1540.59 2324.34 1540.59 Q2318.53 1540.59 2315.45 1536.01 Q2312.4 1531.4 2312.4 1522.67 Q2312.4 1513.92 2315.45 1509.34 Q2318.53 1504.73 2324.34 1504.73 Z\" fill=\"#000000\" fill-rule=\"evenodd\" fill-opacity=\"1\" /><path clip-path=\"url(#clip070)\" d=\"M 0 0 M75.4226 1431.51 Q71.8115 1431.51 69.9828 1435.08 Q68.1773 1438.62 68.1773 1445.75 Q68.1773 1452.86 69.9828 1456.42 Q71.8115 1459.96 75.4226 1459.96 Q79.0569 1459.96 80.8624 1456.42 Q82.6911 1452.86 82.6911 1445.75 Q82.6911 1438.62 80.8624 1435.08 Q79.0569 1431.51 75.4226 1431.51 M75.4226 1427.81 Q81.2328 1427.81 84.2883 1432.42 Q87.367 1437 87.367 1445.75 Q87.367 1454.48 84.2883 1459.08 Q81.2328 1463.67 75.4226 1463.67 Q69.6125 1463.67 66.5338 1459.08 Q63.4782 1454.48 63.4782 1445.75 Q63.4782 1437 66.5338 1432.42 Q69.6125 1427.81 75.4226 1427.81 Z\" fill=\"#000000\" fill-rule=\"evenodd\" fill-opacity=\"1\" /><path clip-path=\"url(#clip070)\" d=\"M 0 0 M92.4364 1457.12 L97.3206 1457.12 L97.3206 1463 L92.4364 1463 L92.4364 1457.12 Z\" fill=\"#000000\" fill-rule=\"evenodd\" fill-opacity=\"1\" /><path clip-path=\"url(#clip070)\" d=\"M 0 0 M112.39 1431.51 Q108.779 1431.51 106.95 1435.08 Q105.145 1438.62 105.145 1445.75 Q105.145 1452.86 106.95 1456.42 Q108.779 1459.96 112.39 1459.96 Q116.024 1459.96 117.83 1456.42 Q119.658 1452.86 119.658 1445.75 Q119.658 1438.62 117.83 1435.08 Q116.024 1431.51 112.39 1431.51 M112.39 1427.81 Q118.2 1427.81 121.256 1432.42 Q124.334 1437 124.334 1445.75 Q124.334 1454.48 121.256 1459.08 Q118.2 1463.67 112.39 1463.67 Q106.58 1463.67 103.501 1459.08 Q100.446 1454.48 100.446 1445.75 Q100.446 1437 103.501 1432.42 Q106.58 1427.81 112.39 1427.81 Z\" fill=\"#000000\" fill-rule=\"evenodd\" fill-opacity=\"1\" /><path clip-path=\"url(#clip070)\" d=\"M 0 0 M77.0198 1221.37 Q73.4087 1221.37 71.58 1224.94 Q69.7745 1228.48 69.7745 1235.61 Q69.7745 1242.72 71.58 1246.28 Q73.4087 1249.82 77.0198 1249.82 Q80.6541 1249.82 82.4596 1246.28 Q84.2883 1242.72 84.2883 1235.61 Q84.2883 1228.48 82.4596 1224.94 Q80.6541 1221.37 77.0198 1221.37 M77.0198 1217.67 Q82.83 1217.67 85.8855 1222.28 Q88.9642 1226.86 88.9642 1235.61 Q88.9642 1244.34 85.8855 1248.94 Q82.83 1253.53 77.0198 1253.53 Q71.2097 1253.53 68.131 1248.94 Q65.0754 1244.34 65.0754 1235.61 Q65.0754 1226.86 68.131 1222.28 Q71.2097 1217.67 77.0198 1217.67 Z\" fill=\"#000000\" fill-rule=\"evenodd\" fill-opacity=\"1\" /><path clip-path=\"url(#clip070)\" d=\"M 0 0 M94.0336 1246.98 L98.9179 1246.98 L98.9179 1252.86 L94.0336 1252.86 L94.0336 1246.98 Z\" fill=\"#000000\" fill-rule=\"evenodd\" fill-opacity=\"1\" /><path clip-path=\"url(#clip070)\" d=\"M 0 0 M108.015 1248.92 L124.334 1248.92 L124.334 1252.86 L102.39 1252.86 L102.39 1248.92 Q105.052 1246.17 109.635 1241.54 Q114.242 1236.88 115.422 1235.54 Q117.668 1233.02 118.547 1231.28 Q119.45 1229.52 119.45 1227.83 Q119.45 1225.08 117.506 1223.34 Q115.584 1221.61 112.483 1221.61 Q110.284 1221.61 107.83 1222.37 Q105.399 1223.13 102.622 1224.68 L102.622 1219.96 Q105.446 1218.83 107.899 1218.25 Q110.353 1217.67 112.39 1217.67 Q117.76 1217.67 120.955 1220.36 Q124.149 1223.04 124.149 1227.53 Q124.149 1229.66 123.339 1231.58 Q122.552 1233.48 120.446 1236.07 Q119.867 1236.74 116.765 1239.96 Q113.663 1243.16 108.015 1248.92 Z\" fill=\"#000000\" fill-rule=\"evenodd\" fill-opacity=\"1\" /><path clip-path=\"url(#clip070)\" d=\"M 0 0 M74.9365 1011.23 Q71.3254 1011.23 69.4967 1014.8 Q67.6912 1018.34 67.6912 1025.47 Q67.6912 1032.58 69.4967 1036.14 Q71.3254 1039.68 74.9365 1039.68 Q78.5707 1039.68 80.3763 1036.14 Q82.205 1032.58 82.205 1025.47 Q82.205 1018.34 80.3763 1014.8 Q78.5707 1011.23 74.9365 1011.23 M74.9365 1007.53 Q80.7467 1007.53 83.8022 1012.14 Q86.8809 1016.72 86.8809 1025.47 Q86.8809 1034.2 83.8022 1038.8 Q80.7467 1043.39 74.9365 1043.39 Q69.1264 1043.39 66.0477 1038.8 Q62.9921 1034.2 62.9921 1025.47 Q62.9921 1016.72 66.0477 1012.14 Q69.1264 1007.53 74.9365 1007.53 Z\" fill=\"#000000\" fill-rule=\"evenodd\" fill-opacity=\"1\" /><path clip-path=\"url(#clip070)\" d=\"M 0 0 M91.9503 1036.84 L96.8345 1036.84 L96.8345 1042.71 L91.9503 1042.71 L91.9503 1036.84 Z\" fill=\"#000000\" fill-rule=\"evenodd\" fill-opacity=\"1\" /><path clip-path=\"url(#clip070)\" d=\"M 0 0 M114.751 1012.23 L102.946 1030.68 L114.751 1030.68 L114.751 1012.23 M113.524 1008.15 L119.404 1008.15 L119.404 1030.68 L124.334 1030.68 L124.334 1034.57 L119.404 1034.57 L119.404 1042.71 L114.751 1042.71 L114.751 1034.57 L99.1493 1034.57 L99.1493 1030.05 L113.524 1008.15 Z\" fill=\"#000000\" fill-rule=\"evenodd\" fill-opacity=\"1\" /><path clip-path=\"url(#clip070)\" d=\"M 0 0 M75.2606 801.093 Q71.6495 801.093 69.8208 804.658 Q68.0152 808.2 68.0152 815.329 Q68.0152 822.436 69.8208 826 Q71.6495 829.542 75.2606 829.542 Q78.8948 829.542 80.7004 826 Q82.5291 822.436 82.5291 815.329 Q82.5291 808.2 80.7004 804.658 Q78.8948 801.093 75.2606 801.093 M75.2606 797.39 Q81.0707 797.39 84.1263 801.996 Q87.205 806.579 87.205 815.329 Q87.205 824.056 84.1263 828.662 Q81.0707 833.246 75.2606 833.246 Q69.4504 833.246 66.3717 828.662 Q63.3162 824.056 63.3162 815.329 Q63.3162 806.579 66.3717 801.996 Q69.4504 797.39 75.2606 797.39 Z\" fill=\"#000000\" fill-rule=\"evenodd\" fill-opacity=\"1\" /><path clip-path=\"url(#clip070)\" d=\"M 0 0 M92.2744 826.695 L97.1586 826.695 L97.1586 832.575 L92.2744 832.575 L92.2744 826.695 Z\" fill=\"#000000\" fill-rule=\"evenodd\" fill-opacity=\"1\" /><path clip-path=\"url(#clip070)\" d=\"M 0 0 M112.807 813.431 Q109.659 813.431 107.807 815.584 Q105.978 817.737 105.978 821.487 Q105.978 825.213 107.807 827.389 Q109.659 829.542 112.807 829.542 Q115.955 829.542 117.783 827.389 Q119.635 825.213 119.635 821.487 Q119.635 817.737 117.783 815.584 Q115.955 813.431 112.807 813.431 M122.089 798.778 L122.089 803.038 Q120.33 802.204 118.524 801.764 Q116.742 801.325 114.983 801.325 Q110.353 801.325 107.899 804.45 Q105.469 807.575 105.122 813.894 Q106.487 811.88 108.547 810.815 Q110.608 809.727 113.084 809.727 Q118.293 809.727 121.302 812.899 Q124.334 816.047 124.334 821.487 Q124.334 826.811 121.186 830.028 Q118.038 833.246 112.807 833.246 Q106.811 833.246 103.64 828.662 Q100.469 824.056 100.469 815.329 Q100.469 807.135 104.358 802.274 Q108.247 797.39 114.797 797.39 Q116.557 797.39 118.339 797.737 Q120.145 798.084 122.089 798.778 Z\" fill=\"#000000\" fill-rule=\"evenodd\" fill-opacity=\"1\" /><path clip-path=\"url(#clip070)\" d=\"M 0 0 M75.5152 590.953 Q71.9041 590.953 70.0754 594.518 Q68.2699 598.059 68.2699 605.189 Q68.2699 612.295 70.0754 615.86 Q71.9041 619.402 75.5152 619.402 Q79.1494 619.402 80.955 615.86 Q82.7837 612.295 82.7837 605.189 Q82.7837 598.059 80.955 594.518 Q79.1494 590.953 75.5152 590.953 M75.5152 587.249 Q81.3254 587.249 84.3809 591.856 Q87.4596 596.439 87.4596 605.189 Q87.4596 613.916 84.3809 618.522 Q81.3254 623.105 75.5152 623.105 Q69.7051 623.105 66.6264 618.522 Q63.5708 613.916 63.5708 605.189 Q63.5708 596.439 66.6264 591.856 Q69.7051 587.249 75.5152 587.249 Z\" fill=\"#000000\" fill-rule=\"evenodd\" fill-opacity=\"1\" /><path clip-path=\"url(#clip070)\" d=\"M 0 0 M92.529 616.555 L97.4132 616.555 L97.4132 622.434 L92.529 622.434 L92.529 616.555 Z\" fill=\"#000000\" fill-rule=\"evenodd\" fill-opacity=\"1\" /><path clip-path=\"url(#clip070)\" d=\"M 0 0 M112.483 606.022 Q109.149 606.022 107.228 607.805 Q105.33 609.587 105.33 612.712 Q105.33 615.837 107.228 617.619 Q109.149 619.402 112.483 619.402 Q115.816 619.402 117.737 617.619 Q119.658 615.814 119.658 612.712 Q119.658 609.587 117.737 607.805 Q115.839 606.022 112.483 606.022 M107.807 604.031 Q104.797 603.291 103.108 601.231 Q101.441 599.17 101.441 596.207 Q101.441 592.064 104.381 589.657 Q107.344 587.249 112.483 587.249 Q117.645 587.249 120.584 589.657 Q123.524 592.064 123.524 596.207 Q123.524 599.17 121.834 601.231 Q120.168 603.291 117.182 604.031 Q120.561 604.818 122.436 607.11 Q124.334 609.402 124.334 612.712 Q124.334 617.735 121.256 620.42 Q118.2 623.105 112.483 623.105 Q106.765 623.105 103.686 620.42 Q100.631 617.735 100.631 612.712 Q100.631 609.402 102.529 607.11 Q104.427 604.818 107.807 604.031 M106.094 596.647 Q106.094 599.332 107.76 600.837 Q109.45 602.342 112.483 602.342 Q115.492 602.342 117.182 600.837 Q118.895 599.332 118.895 596.647 Q118.895 593.962 117.182 592.457 Q115.492 590.953 112.483 590.953 Q109.45 590.953 107.76 592.457 Q106.094 593.962 106.094 596.647 Z\" fill=\"#000000\" fill-rule=\"evenodd\" fill-opacity=\"1\" /><path clip-path=\"url(#clip070)\" d=\"M 0 0 M67.4597 408.359 L75.0985 408.359 L75.0985 381.993 L66.7884 383.66 L66.7884 379.4 L75.0522 377.734 L79.7281 377.734 L79.7281 408.359 L87.367 408.359 L87.367 412.294 L67.4597 412.294 L67.4597 408.359 Z\" fill=\"#000000\" fill-rule=\"evenodd\" fill-opacity=\"1\" /><path clip-path=\"url(#clip070)\" d=\"M 0 0 M92.4364 406.414 L97.3206 406.414 L97.3206 412.294 L92.4364 412.294 L92.4364 406.414 Z\" fill=\"#000000\" fill-rule=\"evenodd\" fill-opacity=\"1\" /><path clip-path=\"url(#clip070)\" d=\"M 0 0 M112.39 380.812 Q108.779 380.812 106.95 384.377 Q105.145 387.919 105.145 395.048 Q105.145 402.155 106.95 405.72 Q108.779 409.261 112.39 409.261 Q116.024 409.261 117.83 405.72 Q119.658 402.155 119.658 395.048 Q119.658 387.919 117.83 384.377 Q116.024 380.812 112.39 380.812 M112.39 377.109 Q118.2 377.109 121.256 381.715 Q124.334 386.299 124.334 395.048 Q124.334 403.775 121.256 408.382 Q118.2 412.965 112.39 412.965 Q106.58 412.965 103.501 408.382 Q100.446 403.775 100.446 395.048 Q100.446 386.299 103.501 381.715 Q106.58 377.109 112.39 377.109 Z\" fill=\"#000000\" fill-rule=\"evenodd\" fill-opacity=\"1\" /><path clip-path=\"url(#clip070)\" d=\"M 0 0 M69.0569 198.218 L76.6958 198.218 L76.6958 171.853 L68.3856 173.519 L68.3856 169.26 L76.6495 167.593 L81.3254 167.593 L81.3254 198.218 L88.9642 198.218 L88.9642 202.153 L69.0569 202.153 L69.0569 198.218 Z\" fill=\"#000000\" fill-rule=\"evenodd\" fill-opacity=\"1\" /><path clip-path=\"url(#clip070)\" d=\"M 0 0 M94.0336 196.274 L98.9179 196.274 L98.9179 202.153 L94.0336 202.153 L94.0336 196.274 Z\" fill=\"#000000\" fill-rule=\"evenodd\" fill-opacity=\"1\" /><path clip-path=\"url(#clip070)\" d=\"M 0 0 M108.015 198.218 L124.334 198.218 L124.334 202.153 L102.39 202.153 L102.39 198.218 Q105.052 195.464 109.635 190.834 Q114.242 186.181 115.422 184.839 Q117.668 182.316 118.547 180.579 Q119.45 178.82 119.45 177.13 Q119.45 174.376 117.506 172.64 Q115.584 170.904 112.483 170.904 Q110.284 170.904 107.83 171.667 Q105.399 172.431 102.622 173.982 L102.622 169.26 Q105.446 168.126 107.899 167.547 Q110.353 166.968 112.39 166.968 Q117.76 166.968 120.955 169.654 Q124.149 172.339 124.149 176.829 Q124.149 178.959 123.339 180.88 Q122.552 182.778 120.446 185.371 Q119.867 186.042 116.765 189.26 Q113.663 192.454 108.015 198.218 Z\" fill=\"#000000\" fill-rule=\"evenodd\" fill-opacity=\"1\" /><polyline clip-path=\"url(#clip072)\" style=\"stroke:#009af9; stroke-width:4; stroke-opacity:1; fill:none\" points=\"\n",
       "  210.724,1445.72 254.971,1445.72 299.219,1445.72 343.467,1445.72 387.715,1445.72 431.962,1445.72 476.21,1445.72 520.458,1445.72 564.705,1445.72 608.953,1445.72 \n",
       "  653.201,1445.72 697.449,1445.72 741.696,1445.72 785.944,1445.71 830.192,1445.7 874.44,1445.63 918.687,1445.27 962.935,1443.66 1007.18,1437.65 1051.43,1418.81 \n",
       "  1095.68,1369.3 1139.93,1260.92 1184.17,1065.18 1228.42,778.522 1272.67,455.898 1316.92,199.429 1361.16,101.425 1405.41,201.37 1449.66,461.62 1493.91,790.832 \n",
       "  1538.16,1087.39 1582.4,1287.91 1626.65,1390.37 1670.9,1430.22 1715.15,1442.21 1759.39,1445.06 1803.64,1445.62 1847.89,1445.7 1892.14,1445.71 1936.38,1445.72 \n",
       "  1980.63,1445.72 2024.88,1445.72 2069.13,1445.72 2113.38,1445.72 2157.62,1445.72 2201.87,1445.72 2246.12,1445.72 2290.37,1445.72 \n",
       "  \"/>\n",
       "<polyline clip-path=\"url(#clip072)\" style=\"stroke:#e26f46; stroke-width:4; stroke-opacity:1; fill:none\" points=\"\n",
       "  210.724,1445.72 254.971,1445.72 299.219,1445.72 343.467,1445.72 387.715,1445.72 431.962,1445.72 476.21,1445.72 520.458,1445.72 564.705,1445.72 608.953,1445.72 \n",
       "  653.201,1445.72 697.449,1445.72 741.696,1445.72 785.944,1445.71 830.192,1445.7 874.44,1445.62 918.687,1445.2 962.935,1443.39 1007.18,1436.79 1051.43,1416.42 \n",
       "  1095.68,1363.57 1139.93,1249.06 1184.17,1044.1 1228.42,746.945 1272.67,418.177 1316.92,166.645 1361.16,87.9763 1405.41,217.176 1449.66,501.61 1493.91,835.829 \n",
       "  1538.16,1119.87 1582.4,1304.08 1626.65,1396.1 1670.9,1431.69 1715.15,1442.49 1759.39,1445.1 1803.64,1445.62 1847.89,1445.7 1892.14,1445.71 1936.38,1445.72 \n",
       "  1980.63,1445.72 2024.88,1445.72 2069.13,1445.72 2113.38,1445.72 2157.62,1445.72 2201.87,1445.72 2246.12,1445.72 2290.37,1445.72 \n",
       "  \"/>\n",
       "<path clip-path=\"url(#clip070)\" d=\"\n",
       "M2061.74 216.178 L2352.76 216.178 L2352.76 34.7376 L2061.74 34.7376  Z\n",
       "  \" fill=\"#ffffff\" fill-rule=\"evenodd\" fill-opacity=\"1\"/>\n",
       "<polyline clip-path=\"url(#clip070)\" style=\"stroke:#000000; stroke-width:4; stroke-opacity:1; fill:none\" points=\"\n",
       "  2061.74,216.178 2352.76,216.178 2352.76,34.7376 2061.74,34.7376 2061.74,216.178 \n",
       "  \"/>\n",
       "<polyline clip-path=\"url(#clip070)\" style=\"stroke:#009af9; stroke-width:4; stroke-opacity:1; fill:none\" points=\"\n",
       "  2085.74,95.2176 2229.74,95.2176 \n",
       "  \"/>\n",
       "<path clip-path=\"url(#clip070)\" d=\"M 0 0 M2267.58 114.905 Q2265.77 119.535 2264.06 120.947 Q2262.35 122.359 2259.48 122.359 L2256.08 122.359 L2256.08 118.794 L2258.58 118.794 Q2260.33 118.794 2261.31 117.96 Q2262.28 117.127 2263.46 114.025 L2264.22 112.081 L2253.74 86.5718 L2258.25 86.5718 L2266.35 106.849 L2274.46 86.5718 L2278.97 86.5718 L2267.58 114.905 Z\" fill=\"#000000\" fill-rule=\"evenodd\" fill-opacity=\"1\" /><path clip-path=\"url(#clip070)\" d=\"M 0 0 M2284.85 108.562 L2292.49 108.562 L2292.49 82.1968 L2284.18 83.8634 L2284.18 79.6042 L2292.44 77.9376 L2297.12 77.9376 L2297.12 108.562 L2304.76 108.562 L2304.76 112.498 L2284.85 112.498 L2284.85 108.562 Z\" fill=\"#000000\" fill-rule=\"evenodd\" fill-opacity=\"1\" /><polyline clip-path=\"url(#clip070)\" style=\"stroke:#e26f46; stroke-width:4; stroke-opacity:1; fill:none\" points=\"\n",
       "  2085.74,155.698 2229.74,155.698 \n",
       "  \"/>\n",
       "<path clip-path=\"url(#clip070)\" d=\"M 0 0 M2267.58 175.385 Q2265.77 180.015 2264.06 181.427 Q2262.35 182.839 2259.48 182.839 L2256.08 182.839 L2256.08 179.274 L2258.58 179.274 Q2260.33 179.274 2261.31 178.44 Q2262.28 177.607 2263.46 174.505 L2264.22 172.561 L2253.74 147.052 L2258.25 147.052 L2266.35 167.329 L2274.46 147.052 L2278.97 147.052 L2267.58 175.385 Z\" fill=\"#000000\" fill-rule=\"evenodd\" fill-opacity=\"1\" /><path clip-path=\"url(#clip070)\" d=\"M 0 0 M2288.07 169.042 L2304.39 169.042 L2304.39 172.978 L2282.44 172.978 L2282.44 169.042 Q2285.1 166.288 2289.69 161.658 Q2294.29 157.005 2295.47 155.663 Q2297.72 153.14 2298.6 151.404 Q2299.5 149.644 2299.5 147.955 Q2299.5 145.2 2297.56 143.464 Q2295.64 141.728 2292.53 141.728 Q2290.33 141.728 2287.88 142.492 Q2285.45 143.255 2282.67 144.806 L2282.67 140.084 Q2285.5 138.95 2287.95 138.371 Q2290.4 137.793 2292.44 137.793 Q2297.81 137.793 2301.01 140.478 Q2304.2 143.163 2304.2 147.654 Q2304.2 149.783 2303.39 151.705 Q2302.6 153.603 2300.5 156.195 Q2299.92 156.867 2296.82 160.084 Q2293.71 163.279 2288.07 169.042 Z\" fill=\"#000000\" fill-rule=\"evenodd\" fill-opacity=\"1\" /></svg>\n"
      ]
     },
     "execution_count": 157,
     "metadata": {},
     "output_type": "execute_result"
    }
   ],
   "source": [
    "plot(ks.vSpace.u, Y[49:end,109,2])\n",
    "plot!(ks.vSpace.u, Y1[49:end,109,2])"
   ]
  },
  {
   "cell_type": "code",
   "execution_count": 154,
   "metadata": {},
   "outputs": [
    {
     "data": {
      "text/plain": [
       "0.69221884f0"
      ]
     },
     "execution_count": 154,
     "metadata": {},
     "output_type": "execute_result"
    }
   ],
   "source": [
    "sum(abs2, Y1[:,:,2] .- Y[:,:,2])"
   ]
  },
  {
   "cell_type": "code",
   "execution_count": null,
   "metadata": {},
   "outputs": [],
   "source": []
  },
  {
   "cell_type": "code",
   "execution_count": 197,
   "metadata": {},
   "outputs": [
    {
     "data": {
      "text/plain": [
       "#95 (generic function with 1 method)"
      ]
     },
     "execution_count": 197,
     "metadata": {},
     "output_type": "execute_result"
    }
   ],
   "source": [
    "#--- universal differential equation ---#\n",
    "model_univ = FastChain(\n",
    "    #(x, p) -> zeros(eltype(x), axes(x)),\n",
    "    FastDense(nu * 2, nu * 2 * nh),\n",
    "    #FastDense(ks.vSpace.nu * 2 * nh, ks.vSpace.nu * 2 * nh, tanh),\n",
    "    FastDense(nu * 2 * nh, nu * 2),\n",
    "    #(x, p) -> sum(x[1:nu] .* ks.vSpace.weights),\n",
    ")\n",
    "\n",
    "p_model = initial_params(model_univ)\n",
    "#p_model .= 0.f0\n",
    "\n",
    "function dfdt(f, p, t)\n",
    "    h = f[1:nu, :]\n",
    "    b = f[nu+1:end, :]\n",
    "\n",
    "    dh = (H .- h) ./ τ .+ model_univ(f, p)[1:nu, :]\n",
    "    db = (B .- b) ./ τ .+ model_univ(f, p)[nu+1:end, :]\n",
    "\n",
    "    df = vcat(dh, db)\n",
    "end\n",
    "\n",
    "prob_ube = ODEProblem(dfdt, X, tspan, p_model)\n",
    "\n",
    "function loss(p)\n",
    "    #sol_ube = solve(prob_ube, Midpoint(), u0=X, p=p, saveat=tran)\n",
    "    sol_ube = solve(prob_ube, Euler(), u0=X, p=p, dt=dt)\n",
    "    loss = sum(abs2, Array(sol_ube) .- Y)\n",
    "    #loss = sum(abs2, Array(sol_ube) .- Y1)\n",
    "    return loss\n",
    "end\n",
    "\n",
    "cb = function (p, l)\n",
    "    #display(l)\n",
    "    return false\n",
    "end"
   ]
  },
  {
   "cell_type": "code",
   "execution_count": 198,
   "metadata": {},
   "outputs": [
    {
     "data": {
      "text/plain": [
       "96×126 Array{Float32,2}:\n",
       "  0.132071     0.132071     0.132071    …   0.131308     0.125512\n",
       "  0.00655018   0.00655018   0.00655018     -0.0888007   -0.114256\n",
       " -0.106994    -0.106994    -0.106994       -0.190468    -0.214538\n",
       " -0.0128801   -0.0128801   -0.0128801      -0.0473862   -0.0524895\n",
       "  0.122088     0.122088     0.122088        0.269849     0.305062\n",
       "  0.113906     0.113906     0.113906    …   0.19781      0.215979\n",
       " -0.0402859   -0.0402859   -0.0402859      -0.122636    -0.155567\n",
       "  0.0205147    0.0205147    0.0205147       0.0621138    0.0654497\n",
       " -0.0461713   -0.0461713   -0.0461713      -0.00407177   0.00353154\n",
       " -0.0215492   -0.0215492   -0.0215492      -0.0367799   -0.0430802\n",
       "  0.0402291    0.0402291    0.0402291   …   0.0461676    0.041041\n",
       "  0.164852     0.164852     0.164852        0.141211     0.127744\n",
       "  0.0428528    0.0428528    0.0428528       0.14698      0.177057\n",
       "  ⋮                                     ⋱                ⋮\n",
       "  0.00398384   0.00398384   0.00398384      0.118233     0.14549\n",
       "  0.132623     0.132623     0.132623    …   0.224244     0.250488\n",
       " -0.0686843   -0.0686843   -0.0686843      -0.0296013   -0.0121609\n",
       "  0.0281949    0.0281949    0.0281949       0.147044     0.178859\n",
       " -0.0646946   -0.0646946   -0.0646946      -0.091569    -0.0923714\n",
       "  0.12119      0.12119      0.12119         0.0603614    0.0398194\n",
       " -0.0332757   -0.0332757   -0.0332757   …  -0.00595937  -0.00837469\n",
       " -0.0824629   -0.0824629   -0.0824629      -0.254571    -0.281646\n",
       " -0.0561044   -0.0561044   -0.0561044      -0.0210605   -0.00952229\n",
       "  0.0129976    0.0129976    0.0129976       0.031046     0.030977\n",
       " -0.0805682   -0.0805682   -0.0805682      -0.272315    -0.317901\n",
       "  0.0255649    0.0255649    0.0255649   …   0.0203023    0.0168919"
      ]
     },
     "execution_count": 198,
     "metadata": {},
     "output_type": "execute_result"
    }
   ],
   "source": [
    "model_univ(X, p_model)"
   ]
  },
  {
   "cell_type": "code",
   "execution_count": null,
   "metadata": {},
   "outputs": [],
   "source": []
  },
  {
   "cell_type": "code",
   "execution_count": null,
   "metadata": {},
   "outputs": [],
   "source": []
  },
  {
   "cell_type": "code",
   "execution_count": 199,
   "metadata": {},
   "outputs": [
    {
     "name": "stderr",
     "output_type": "stream",
     "text": [
      "\u001b[32mloss: 1.21: 100%|█████████████████████████████████████████| Time: 0:00:09\u001b[39m\n"
     ]
    },
    {
     "data": {
      "text/plain": [
       " * Status: success\n",
       "\n",
       " * Candidate solution\n",
       "    Final objective value:     1.205133e+00\n",
       "\n",
       " * Found with\n",
       "    Algorithm:     ADAM\n",
       "\n",
       " * Convergence measures\n",
       "    |x - x'|               = NaN ≰ 0.0e+00\n",
       "    |x - x'|/|x'|          = NaN ≰ 0.0e+00\n",
       "    |f(x) - f(x')|         = NaN ≰ 0.0e+00\n",
       "    |f(x) - f(x')|/|f(x')| = NaN ≰ 0.0e+00\n",
       "    |g(x)|                 = NaN ≰ 0.0e+00\n",
       "\n",
       " * Work counters\n",
       "    Seconds run:   14  (vs limit Inf)\n",
       "    Iterations:    200\n",
       "    f(x) calls:    200\n",
       "    ∇f(x) calls:   200\n"
      ]
     },
     "execution_count": 199,
     "metadata": {},
     "output_type": "execute_result"
    }
   ],
   "source": [
    "res = DiffEqFlux.sciml_train(loss, p_model, ADAM(), cb=Flux.throttle(cb, 1), maxiters=200)"
   ]
  },
  {
   "cell_type": "code",
   "execution_count": 202,
   "metadata": {},
   "outputs": [
    {
     "name": "stderr",
     "output_type": "stream",
     "text": [
      "\u001b[32mloss: 1.01: 100%|█████████████████████████████████████████| Time: 0:03:25\u001b[39m\n"
     ]
    },
    {
     "data": {
      "text/plain": [
       " * Status: success\n",
       "\n",
       " * Candidate solution\n",
       "    Final objective value:     1.009887e+00\n",
       "\n",
       " * Found with\n",
       "    Algorithm:     ADAM\n",
       "\n",
       " * Convergence measures\n",
       "    |x - x'|               = NaN ≰ 0.0e+00\n",
       "    |x - x'|/|x'|          = NaN ≰ 0.0e+00\n",
       "    |f(x) - f(x')|         = NaN ≰ 0.0e+00\n",
       "    |f(x) - f(x')|/|f(x')| = NaN ≰ 0.0e+00\n",
       "    |g(x)|                 = NaN ≰ 0.0e+00\n",
       "\n",
       " * Work counters\n",
       "    Seconds run:   205  (vs limit Inf)\n",
       "    Iterations:    4000\n",
       "    f(x) calls:    4000\n",
       "    ∇f(x) calls:   4000\n"
      ]
     },
     "execution_count": 202,
     "metadata": {},
     "output_type": "execute_result"
    }
   ],
   "source": [
    "res = DiffEqFlux.sciml_train(loss, res.minimizer, ADAM(), cb=Flux.throttle(cb, 1), maxiters=4000)"
   ]
  },
  {
   "cell_type": "code",
   "execution_count": null,
   "metadata": {},
   "outputs": [],
   "source": []
  },
  {
   "cell_type": "code",
   "execution_count": 107,
   "metadata": {},
   "outputs": [],
   "source": [
    "function ube_rhs!(df, f, p, t)\n",
    "    H = p[1:nu]\n",
    "    B = p[nu+1:2*nu]\n",
    "    τ = p[2*nu+1]\n",
    "    p_nn = p[2*nu+2:end]\n",
    "\n",
    "    h = f[1:nu]\n",
    "    b = f[nu+1:end]\n",
    "\n",
    "    dh = (H .- h) ./ τ .+ model_univ(f, p_nn)[1:nu]\n",
    "    db = (B .- b) ./ τ .+ model_univ(f, p_nn)[nu+1:end]\n",
    "\n",
    "    df[1:nu] .= dh\n",
    "    df[nu+1:end] .= db\n",
    "end\n",
    "\n",
    "ube = ODEProblem(\n",
    "    ube_rhs!,\n",
    "    [ctr[1].h; ctr[1].b],\n",
    "    tspan,\n",
    "    [H[:, 1]; B[:, 1]; τ[1, 1]; res.minimizer],\n",
    ");"
   ]
  },
  {
   "cell_type": "code",
   "execution_count": 108,
   "metadata": {},
   "outputs": [
    {
     "data": {
      "text/plain": [
       "step_ube! (generic function with 1 method)"
      ]
     },
     "execution_count": 108,
     "metadata": {},
     "output_type": "execute_result"
    }
   ],
   "source": [
    "function step_ube!(\n",
    "    fwL,\n",
    "    fhL,\n",
    "    fbL,\n",
    "    w,\n",
    "    prim,\n",
    "    h,\n",
    "    b,\n",
    "    fwR,\n",
    "    fhR,\n",
    "    fbR,\n",
    "    K,\n",
    "    γ,\n",
    "    μ,\n",
    "    ω,\n",
    "    u,\n",
    "    weights,\n",
    "    p,\n",
    "    dx,\n",
    "    tran,\n",
    "    RES,\n",
    "    AVG,\n",
    ")\n",
    "\n",
    "    #--- record W^{n} ---#\n",
    "    w_old = deepcopy(w)\n",
    "    H = maxwellian(u, prim)\n",
    "    B = H .* K ./ (2.0 .* prim[end])\n",
    "    τ = vhs_collision_time(prim, μ, ω)\n",
    "    \n",
    "    #qf = heat_flux(h, b, prim, u, weights)\n",
    "    #SH, SB = shakhov(u, H, B, qf, prim, ks.gas.Pr, K)\n",
    "    \n",
    "    #--- update W^{n+1} ---#\n",
    "    @. w += (fwL - fwR) / dx\n",
    "    prim .= conserve_prim(w, γ)\n",
    "\n",
    "    #--- record residuals ---#\n",
    "    @. RES += (w - w_old)^2\n",
    "    @. AVG += abs(w)\n",
    "\n",
    "    #--- update f^{n+1} ---#\n",
    "    sol = solve(ube, Euler(), u0=[h; b], p=[H; B; τ; p], dt=dt)\n",
    "    #sol = solve(ube, Midpoint(), u0=[h; b], p=[H; B; τ; p], saveat=tran)\n",
    "    #sol = solve(ube, Midpoint(), u0=[h; b], p=[SH; SB; τ; p], saveat=tran)\n",
    "    \n",
    "    hstar = sol.u[end][1:length(h)]\n",
    "    bstar = sol.u[end][length(h)+1:end]\n",
    "    for i in eachindex(h)\n",
    "        h[i] = hstar[i] + (fhL[i] - fhR[i]) / dx\n",
    "        b[i] = bstar[i] + (fbL[i] - fbR[i]) / dx\n",
    "    end\n",
    "\n",
    "end"
   ]
  },
  {
   "cell_type": "code",
   "execution_count": 109,
   "metadata": {},
   "outputs": [],
   "source": [
    "face = Array{Interface1D2F}(undef, ks.pSpace.nx + 1)\n",
    "for i = 1:ks.pSpace.nx+1\n",
    "    face[i] = Interface1D2F(ks.ib.wL, ks.ib.hL)\n",
    "end\n",
    "\n",
    "sumRes = zeros(Float32, axes(ks.ib.wL));\n",
    "sumAvg = zeros(Float32, axes(ks.ib.wL));"
   ]
  },
  {
   "cell_type": "code",
   "execution_count": 116,
   "metadata": {},
   "outputs": [
    {
     "name": "stderr",
     "output_type": "stream",
     "text": [
      "\u001b[32mProgress: 100%|█████████████████████████████████████████| Time: 0:00:10\u001b[39m\n"
     ]
    }
   ],
   "source": [
    "@showprogress for iter = 1:50\n",
    "    Kinetic.evolve!(ks, ctr, face, dt)\n",
    "\n",
    "    for i = 2:49\n",
    "        step_ube!(\n",
    "            face[i].fw,\n",
    "            face[i].fh,\n",
    "            face[i].fb,\n",
    "            ctr[i].w,\n",
    "            ctr[i].prim,\n",
    "            ctr[i].h,\n",
    "            ctr[i].b,\n",
    "            face[i+1].fw,\n",
    "            face[i+1].fh,\n",
    "            face[i+1].fb,\n",
    "            ks.gas.K,\n",
    "            ks.gas.γ,\n",
    "            ks.gas.μᵣ,\n",
    "            ks.gas.ω,\n",
    "            ks.vSpace.u,\n",
    "            ks.vSpace.weights,\n",
    "            res.minimizer,\n",
    "            ctr[i].dx,\n",
    "            tran,\n",
    "            sumRes,\n",
    "            sumAvg,\n",
    "        )\n",
    "    end\n",
    "end"
   ]
  },
  {
   "cell_type": "code",
   "execution_count": 117,
   "metadata": {},
   "outputs": [
    {
     "data": {
      "image/svg+xml": [
       "<?xml version=\"1.0\" encoding=\"utf-8\"?>\n",
       "<svg xmlns=\"http://www.w3.org/2000/svg\" xmlns:xlink=\"http://www.w3.org/1999/xlink\" width=\"600\" height=\"400\" viewBox=\"0 0 2400 1600\">\n",
       "<defs>\n",
       "  <clipPath id=\"clip630\">\n",
       "    <rect x=\"0\" y=\"0\" width=\"2400\" height=\"1600\"/>\n",
       "  </clipPath>\n",
       "</defs>\n",
       "<path clip-path=\"url(#clip630)\" d=\"\n",
       "M0 1600 L2400 1600 L2400 0 L0 0  Z\n",
       "  \" fill=\"#ffffff\" fill-rule=\"evenodd\" fill-opacity=\"1\"/>\n",
       "<defs>\n",
       "  <clipPath id=\"clip631\">\n",
       "    <rect x=\"480\" y=\"0\" width=\"1681\" height=\"1600\"/>\n",
       "  </clipPath>\n",
       "</defs>\n",
       "<path clip-path=\"url(#clip630)\" d=\"\n",
       "M147.663 1423.18 L2352.76 1423.18 L2352.76 47.2441 L147.663 47.2441  Z\n",
       "  \" fill=\"#ffffff\" fill-rule=\"evenodd\" fill-opacity=\"1\"/>\n",
       "<defs>\n",
       "  <clipPath id=\"clip632\">\n",
       "    <rect x=\"147\" y=\"47\" width=\"2206\" height=\"1377\"/>\n",
       "  </clipPath>\n",
       "</defs>\n",
       "<polyline clip-path=\"url(#clip632)\" style=\"stroke:#000000; stroke-width:2; stroke-opacity:0.1; fill:none\" points=\"\n",
       "  401.117,1423.18 401.117,47.2441 \n",
       "  \"/>\n",
       "<polyline clip-path=\"url(#clip632)\" style=\"stroke:#000000; stroke-width:2; stroke-opacity:0.1; fill:none\" points=\"\n",
       "  825.663,1423.18 825.663,47.2441 \n",
       "  \"/>\n",
       "<polyline clip-path=\"url(#clip632)\" style=\"stroke:#000000; stroke-width:2; stroke-opacity:0.1; fill:none\" points=\"\n",
       "  1250.21,1423.18 1250.21,47.2441 \n",
       "  \"/>\n",
       "<polyline clip-path=\"url(#clip632)\" style=\"stroke:#000000; stroke-width:2; stroke-opacity:0.1; fill:none\" points=\"\n",
       "  1674.76,1423.18 1674.76,47.2441 \n",
       "  \"/>\n",
       "<polyline clip-path=\"url(#clip632)\" style=\"stroke:#000000; stroke-width:2; stroke-opacity:0.1; fill:none\" points=\"\n",
       "  2099.3,1423.18 2099.3,47.2441 \n",
       "  \"/>\n",
       "<polyline clip-path=\"url(#clip632)\" style=\"stroke:#000000; stroke-width:2; stroke-opacity:0.1; fill:none\" points=\"\n",
       "  147.663,1295.26 2352.76,1295.26 \n",
       "  \"/>\n",
       "<polyline clip-path=\"url(#clip632)\" style=\"stroke:#000000; stroke-width:2; stroke-opacity:0.1; fill:none\" points=\"\n",
       "  147.663,1033.65 2352.76,1033.65 \n",
       "  \"/>\n",
       "<polyline clip-path=\"url(#clip632)\" style=\"stroke:#000000; stroke-width:2; stroke-opacity:0.1; fill:none\" points=\"\n",
       "  147.663,772.044 2352.76,772.044 \n",
       "  \"/>\n",
       "<polyline clip-path=\"url(#clip632)\" style=\"stroke:#000000; stroke-width:2; stroke-opacity:0.1; fill:none\" points=\"\n",
       "  147.663,510.434 2352.76,510.434 \n",
       "  \"/>\n",
       "<polyline clip-path=\"url(#clip632)\" style=\"stroke:#000000; stroke-width:2; stroke-opacity:0.1; fill:none\" points=\"\n",
       "  147.663,248.825 2352.76,248.825 \n",
       "  \"/>\n",
       "<polyline clip-path=\"url(#clip630)\" style=\"stroke:#000000; stroke-width:4; stroke-opacity:1; fill:none\" points=\"\n",
       "  147.663,1423.18 2352.76,1423.18 \n",
       "  \"/>\n",
       "<polyline clip-path=\"url(#clip630)\" style=\"stroke:#000000; stroke-width:4; stroke-opacity:1; fill:none\" points=\"\n",
       "  147.663,1423.18 147.663,47.2441 \n",
       "  \"/>\n",
       "<polyline clip-path=\"url(#clip630)\" style=\"stroke:#000000; stroke-width:4; stroke-opacity:1; fill:none\" points=\"\n",
       "  401.117,1423.18 401.117,1406.67 \n",
       "  \"/>\n",
       "<polyline clip-path=\"url(#clip630)\" style=\"stroke:#000000; stroke-width:4; stroke-opacity:1; fill:none\" points=\"\n",
       "  825.663,1423.18 825.663,1406.67 \n",
       "  \"/>\n",
       "<polyline clip-path=\"url(#clip630)\" style=\"stroke:#000000; stroke-width:4; stroke-opacity:1; fill:none\" points=\"\n",
       "  1250.21,1423.18 1250.21,1406.67 \n",
       "  \"/>\n",
       "<polyline clip-path=\"url(#clip630)\" style=\"stroke:#000000; stroke-width:4; stroke-opacity:1; fill:none\" points=\"\n",
       "  1674.76,1423.18 1674.76,1406.67 \n",
       "  \"/>\n",
       "<polyline clip-path=\"url(#clip630)\" style=\"stroke:#000000; stroke-width:4; stroke-opacity:1; fill:none\" points=\"\n",
       "  2099.3,1423.18 2099.3,1406.67 \n",
       "  \"/>\n",
       "<polyline clip-path=\"url(#clip630)\" style=\"stroke:#000000; stroke-width:4; stroke-opacity:1; fill:none\" points=\"\n",
       "  147.663,1295.26 174.124,1295.26 \n",
       "  \"/>\n",
       "<polyline clip-path=\"url(#clip630)\" style=\"stroke:#000000; stroke-width:4; stroke-opacity:1; fill:none\" points=\"\n",
       "  147.663,1033.65 174.124,1033.65 \n",
       "  \"/>\n",
       "<polyline clip-path=\"url(#clip630)\" style=\"stroke:#000000; stroke-width:4; stroke-opacity:1; fill:none\" points=\"\n",
       "  147.663,772.044 174.124,772.044 \n",
       "  \"/>\n",
       "<polyline clip-path=\"url(#clip630)\" style=\"stroke:#000000; stroke-width:4; stroke-opacity:1; fill:none\" points=\"\n",
       "  147.663,510.434 174.124,510.434 \n",
       "  \"/>\n",
       "<polyline clip-path=\"url(#clip630)\" style=\"stroke:#000000; stroke-width:4; stroke-opacity:1; fill:none\" points=\"\n",
       "  147.663,248.825 174.124,248.825 \n",
       "  \"/>\n",
       "<path clip-path=\"url(#clip630)\" d=\"M 0 0 M368.664 1461.77 L381.14 1461.77 L381.14 1465.56 L368.664 1465.56 L368.664 1461.77 Z\" fill=\"#000000\" fill-rule=\"evenodd\" fill-opacity=\"1\" /><path clip-path=\"url(#clip630)\" d=\"M 0 0 M390.238 1472.72 L406.557 1472.72 L406.557 1476.65 L384.613 1476.65 L384.613 1472.72 Q387.275 1469.96 391.858 1465.33 Q396.464 1460.68 397.645 1459.34 Q399.89 1456.81 400.77 1455.08 Q401.673 1453.32 401.673 1451.63 Q401.673 1448.87 399.728 1447.14 Q397.807 1445.4 394.705 1445.4 Q392.506 1445.4 390.052 1446.17 Q387.622 1446.93 384.844 1448.48 L384.844 1443.76 Q387.668 1442.62 390.122 1442.05 Q392.576 1441.47 394.613 1441.47 Q399.983 1441.47 403.177 1444.15 Q406.372 1446.84 406.372 1451.33 Q406.372 1453.46 405.562 1455.38 Q404.775 1457.28 402.668 1459.87 Q402.089 1460.54 398.988 1463.76 Q395.886 1466.95 390.238 1472.72 Z\" fill=\"#000000\" fill-rule=\"evenodd\" fill-opacity=\"1\" /><path clip-path=\"url(#clip630)\" d=\"M 0 0 M421.626 1445.17 Q418.015 1445.17 416.187 1448.74 Q414.381 1452.28 414.381 1459.41 Q414.381 1466.51 416.187 1470.08 Q418.015 1473.62 421.626 1473.62 Q425.261 1473.62 427.066 1470.08 Q428.895 1466.51 428.895 1459.41 Q428.895 1452.28 427.066 1448.74 Q425.261 1445.17 421.626 1445.17 M421.626 1441.47 Q427.436 1441.47 430.492 1446.07 Q433.571 1450.66 433.571 1459.41 Q433.571 1468.13 430.492 1472.74 Q427.436 1477.32 421.626 1477.32 Q415.816 1477.32 412.737 1472.74 Q409.682 1468.13 409.682 1459.41 Q409.682 1450.66 412.737 1446.07 Q415.816 1441.47 421.626 1441.47 Z\" fill=\"#000000\" fill-rule=\"evenodd\" fill-opacity=\"1\" /><path clip-path=\"url(#clip630)\" d=\"M 0 0 M793.025 1461.77 L805.501 1461.77 L805.501 1465.56 L793.025 1465.56 L793.025 1461.77 Z\" fill=\"#000000\" fill-rule=\"evenodd\" fill-opacity=\"1\" /><path clip-path=\"url(#clip630)\" d=\"M 0 0 M811.381 1472.72 L819.02 1472.72 L819.02 1446.35 L810.71 1448.02 L810.71 1443.76 L818.974 1442.09 L823.649 1442.09 L823.649 1472.72 L831.288 1472.72 L831.288 1476.65 L811.381 1476.65 L811.381 1472.72 Z\" fill=\"#000000\" fill-rule=\"evenodd\" fill-opacity=\"1\" /><path clip-path=\"url(#clip630)\" d=\"M 0 0 M846.358 1445.17 Q842.747 1445.17 840.918 1448.74 Q839.112 1452.28 839.112 1459.41 Q839.112 1466.51 840.918 1470.08 Q842.747 1473.62 846.358 1473.62 Q849.992 1473.62 851.797 1470.08 Q853.626 1466.51 853.626 1459.41 Q853.626 1452.28 851.797 1448.74 Q849.992 1445.17 846.358 1445.17 M846.358 1441.47 Q852.168 1441.47 855.223 1446.07 Q858.302 1450.66 858.302 1459.41 Q858.302 1468.13 855.223 1472.74 Q852.168 1477.32 846.358 1477.32 Q840.548 1477.32 837.469 1472.74 Q834.413 1468.13 834.413 1459.41 Q834.413 1450.66 837.469 1446.07 Q840.548 1441.47 846.358 1441.47 Z\" fill=\"#000000\" fill-rule=\"evenodd\" fill-opacity=\"1\" /><path clip-path=\"url(#clip630)\" d=\"M 0 0 M1250.21 1445.17 Q1246.6 1445.17 1244.77 1448.74 Q1242.96 1452.28 1242.96 1459.41 Q1242.96 1466.51 1244.77 1470.08 Q1246.6 1473.62 1250.21 1473.62 Q1253.84 1473.62 1255.65 1470.08 Q1257.48 1466.51 1257.48 1459.41 Q1257.48 1452.28 1255.65 1448.74 Q1253.84 1445.17 1250.21 1445.17 M1250.21 1441.47 Q1256.02 1441.47 1259.08 1446.07 Q1262.15 1450.66 1262.15 1459.41 Q1262.15 1468.13 1259.08 1472.74 Q1256.02 1477.32 1250.21 1477.32 Q1244.4 1477.32 1241.32 1472.74 Q1238.27 1468.13 1238.27 1459.41 Q1238.27 1450.66 1241.32 1446.07 Q1244.4 1441.47 1250.21 1441.47 Z\" fill=\"#000000\" fill-rule=\"evenodd\" fill-opacity=\"1\" /><path clip-path=\"url(#clip630)\" d=\"M 0 0 M1651.63 1472.72 L1659.27 1472.72 L1659.27 1446.35 L1650.96 1448.02 L1650.96 1443.76 L1659.22 1442.09 L1663.9 1442.09 L1663.9 1472.72 L1671.54 1472.72 L1671.54 1476.65 L1651.63 1476.65 L1651.63 1472.72 Z\" fill=\"#000000\" fill-rule=\"evenodd\" fill-opacity=\"1\" /><path clip-path=\"url(#clip630)\" d=\"M 0 0 M1686.61 1445.17 Q1683 1445.17 1681.17 1448.74 Q1679.36 1452.28 1679.36 1459.41 Q1679.36 1466.51 1681.17 1470.08 Q1683 1473.62 1686.61 1473.62 Q1690.24 1473.62 1692.05 1470.08 Q1693.88 1466.51 1693.88 1459.41 Q1693.88 1452.28 1692.05 1448.74 Q1690.24 1445.17 1686.61 1445.17 M1686.61 1441.47 Q1692.42 1441.47 1695.47 1446.07 Q1698.55 1450.66 1698.55 1459.41 Q1698.55 1468.13 1695.47 1472.74 Q1692.42 1477.32 1686.61 1477.32 Q1680.8 1477.32 1677.72 1472.74 Q1674.66 1468.13 1674.66 1459.41 Q1674.66 1450.66 1677.72 1446.07 Q1680.8 1441.47 1686.61 1441.47 Z\" fill=\"#000000\" fill-rule=\"evenodd\" fill-opacity=\"1\" /><path clip-path=\"url(#clip630)\" d=\"M 0 0 M2080.45 1472.72 L2096.77 1472.72 L2096.77 1476.65 L2074.82 1476.65 L2074.82 1472.72 Q2077.48 1469.96 2082.07 1465.33 Q2086.67 1460.68 2087.86 1459.34 Q2090.1 1456.81 2090.98 1455.08 Q2091.88 1453.32 2091.88 1451.63 Q2091.88 1448.87 2089.94 1447.14 Q2088.02 1445.4 2084.92 1445.4 Q2082.72 1445.4 2080.26 1446.17 Q2077.83 1446.93 2075.05 1448.48 L2075.05 1443.76 Q2077.88 1442.62 2080.33 1442.05 Q2082.79 1441.47 2084.82 1441.47 Q2090.19 1441.47 2093.39 1444.15 Q2096.58 1446.84 2096.58 1451.33 Q2096.58 1453.46 2095.77 1455.38 Q2094.98 1457.28 2092.88 1459.87 Q2092.3 1460.54 2089.2 1463.76 Q2086.1 1466.95 2080.45 1472.72 Z\" fill=\"#000000\" fill-rule=\"evenodd\" fill-opacity=\"1\" /><path clip-path=\"url(#clip630)\" d=\"M 0 0 M2111.84 1445.17 Q2108.23 1445.17 2106.4 1448.74 Q2104.59 1452.28 2104.59 1459.41 Q2104.59 1466.51 2106.4 1470.08 Q2108.23 1473.62 2111.84 1473.62 Q2115.47 1473.62 2117.28 1470.08 Q2119.1 1466.51 2119.1 1459.41 Q2119.1 1452.28 2117.28 1448.74 Q2115.47 1445.17 2111.84 1445.17 M2111.84 1441.47 Q2117.65 1441.47 2120.7 1446.07 Q2123.78 1450.66 2123.78 1459.41 Q2123.78 1468.13 2120.7 1472.74 Q2117.65 1477.32 2111.84 1477.32 Q2106.03 1477.32 2102.95 1472.74 Q2099.89 1468.13 2099.89 1459.41 Q2099.89 1450.66 2102.95 1446.07 Q2106.03 1441.47 2111.84 1441.47 Z\" fill=\"#000000\" fill-rule=\"evenodd\" fill-opacity=\"1\" /><path clip-path=\"url(#clip630)\" d=\"M 0 0 M74.9365 1281.06 Q71.3254 1281.06 69.4967 1284.63 Q67.6912 1288.17 67.6912 1295.3 Q67.6912 1302.4 69.4967 1305.97 Q71.3254 1309.51 74.9365 1309.51 Q78.5707 1309.51 80.3763 1305.97 Q82.205 1302.4 82.205 1295.3 Q82.205 1288.17 80.3763 1284.63 Q78.5707 1281.06 74.9365 1281.06 M74.9365 1277.36 Q80.7467 1277.36 83.8022 1281.96 Q86.8809 1286.55 86.8809 1295.3 Q86.8809 1304.02 83.8022 1308.63 Q80.7467 1313.21 74.9365 1313.21 Q69.1264 1313.21 66.0477 1308.63 Q62.9921 1304.02 62.9921 1295.3 Q62.9921 1286.55 66.0477 1281.96 Q69.1264 1277.36 74.9365 1277.36 Z\" fill=\"#000000\" fill-rule=\"evenodd\" fill-opacity=\"1\" /><path clip-path=\"url(#clip630)\" d=\"M 0 0 M91.9503 1306.66 L96.8345 1306.66 L96.8345 1312.54 L91.9503 1312.54 L91.9503 1306.66 Z\" fill=\"#000000\" fill-rule=\"evenodd\" fill-opacity=\"1\" /><path clip-path=\"url(#clip630)\" d=\"M 0 0 M102.043 1311.83 L102.043 1307.57 Q103.802 1308.4 105.608 1308.84 Q107.413 1309.28 109.149 1309.28 Q113.779 1309.28 116.209 1306.18 Q118.663 1303.05 119.01 1296.71 Q117.668 1298.7 115.608 1299.77 Q113.547 1300.83 111.047 1300.83 Q105.862 1300.83 102.83 1297.71 Q99.8206 1294.56 99.8206 1289.12 Q99.8206 1283.79 102.969 1280.58 Q106.117 1277.36 111.348 1277.36 Q117.344 1277.36 120.492 1281.96 Q123.663 1286.55 123.663 1295.3 Q123.663 1303.47 119.774 1308.35 Q115.909 1313.21 109.358 1313.21 Q107.598 1313.21 105.793 1312.87 Q103.987 1312.52 102.043 1311.83 M111.348 1297.17 Q114.496 1297.17 116.325 1295.02 Q118.177 1292.87 118.177 1289.12 Q118.177 1285.39 116.325 1283.24 Q114.496 1281.06 111.348 1281.06 Q108.2 1281.06 106.348 1283.24 Q104.52 1285.39 104.52 1289.12 Q104.52 1292.87 106.348 1295.02 Q108.2 1297.17 111.348 1297.17 Z\" fill=\"#000000\" fill-rule=\"evenodd\" fill-opacity=\"1\" /><path clip-path=\"url(#clip630)\" d=\"M 0 0 M68.3856 1047 L76.0245 1047 L76.0245 1020.63 L67.7143 1022.3 L67.7143 1018.04 L75.9782 1016.37 L80.6541 1016.37 L80.6541 1047 L88.2929 1047 L88.2929 1050.93 L68.3856 1050.93 L68.3856 1047 Z\" fill=\"#000000\" fill-rule=\"evenodd\" fill-opacity=\"1\" /><path clip-path=\"url(#clip630)\" d=\"M 0 0 M93.3623 1045.05 L98.2466 1045.05 L98.2466 1050.93 L93.3623 1050.93 L93.3623 1045.05 Z\" fill=\"#000000\" fill-rule=\"evenodd\" fill-opacity=\"1\" /><path clip-path=\"url(#clip630)\" d=\"M 0 0 M107.344 1047 L123.663 1047 L123.663 1050.93 L101.719 1050.93 L101.719 1047 Q104.381 1044.24 108.964 1039.61 Q113.571 1034.96 114.751 1033.62 Q116.996 1031.1 117.876 1029.36 Q118.779 1027.6 118.779 1025.91 Q118.779 1023.16 116.834 1021.42 Q114.913 1019.68 111.811 1019.68 Q109.612 1019.68 107.159 1020.45 Q104.728 1021.21 101.95 1022.76 L101.95 1018.04 Q104.774 1016.91 107.228 1016.33 Q109.682 1015.75 111.719 1015.75 Q117.089 1015.75 120.283 1018.43 Q123.478 1021.12 123.478 1025.61 Q123.478 1027.74 122.668 1029.66 Q121.881 1031.56 119.774 1034.15 Q119.196 1034.82 116.094 1038.04 Q112.992 1041.23 107.344 1047 Z\" fill=\"#000000\" fill-rule=\"evenodd\" fill-opacity=\"1\" /><path clip-path=\"url(#clip630)\" d=\"M 0 0 M67.7838 785.389 L75.4226 785.389 L75.4226 759.023 L67.1125 760.69 L67.1125 756.431 L75.3763 754.764 L80.0522 754.764 L80.0522 785.389 L87.6911 785.389 L87.6911 789.324 L67.7838 789.324 L67.7838 785.389 Z\" fill=\"#000000\" fill-rule=\"evenodd\" fill-opacity=\"1\" /><path clip-path=\"url(#clip630)\" d=\"M 0 0 M92.7605 783.444 L97.6447 783.444 L97.6447 789.324 L92.7605 789.324 L92.7605 783.444 Z\" fill=\"#000000\" fill-rule=\"evenodd\" fill-opacity=\"1\" /><path clip-path=\"url(#clip630)\" d=\"M 0 0 M102.76 754.764 L121.117 754.764 L121.117 758.699 L107.043 758.699 L107.043 767.171 Q108.061 766.824 109.08 766.662 Q110.098 766.477 111.117 766.477 Q116.904 766.477 120.283 769.648 Q123.663 772.819 123.663 778.236 Q123.663 783.815 120.191 786.917 Q116.719 789.995 110.399 789.995 Q108.223 789.995 105.955 789.625 Q103.71 789.254 101.302 788.514 L101.302 783.815 Q103.385 784.949 105.608 785.504 Q107.83 786.06 110.307 786.06 Q114.311 786.06 116.649 783.954 Q118.987 781.847 118.987 778.236 Q118.987 774.625 116.649 772.518 Q114.311 770.412 110.307 770.412 Q108.432 770.412 106.557 770.829 Q104.705 771.245 102.76 772.125 L102.76 754.764 Z\" fill=\"#000000\" fill-rule=\"evenodd\" fill-opacity=\"1\" /><path clip-path=\"url(#clip630)\" d=\"M 0 0 M66.881 523.779 L74.5198 523.779 L74.5198 497.414 L66.2097 499.08 L66.2097 494.821 L74.4735 493.154 L79.1494 493.154 L79.1494 523.779 L86.7883 523.779 L86.7883 527.714 L66.881 527.714 L66.881 523.779 Z\" fill=\"#000000\" fill-rule=\"evenodd\" fill-opacity=\"1\" /><path clip-path=\"url(#clip630)\" d=\"M 0 0 M91.8577 521.835 L96.7419 521.835 L96.7419 527.714 L91.8577 527.714 L91.8577 521.835 Z\" fill=\"#000000\" fill-rule=\"evenodd\" fill-opacity=\"1\" /><path clip-path=\"url(#clip630)\" d=\"M 0 0 M111.811 511.302 Q108.478 511.302 106.557 513.085 Q104.659 514.867 104.659 517.992 Q104.659 521.117 106.557 522.9 Q108.478 524.682 111.811 524.682 Q115.145 524.682 117.066 522.9 Q118.987 521.094 118.987 517.992 Q118.987 514.867 117.066 513.085 Q115.168 511.302 111.811 511.302 M107.135 509.312 Q104.126 508.571 102.436 506.511 Q100.77 504.451 100.77 501.488 Q100.77 497.344 103.71 494.937 Q106.672 492.529 111.811 492.529 Q116.973 492.529 119.913 494.937 Q122.853 497.344 122.853 501.488 Q122.853 504.451 121.163 506.511 Q119.496 508.571 116.51 509.312 Q119.89 510.099 121.765 512.39 Q123.663 514.682 123.663 517.992 Q123.663 523.015 120.584 525.7 Q117.529 528.386 111.811 528.386 Q106.094 528.386 103.015 525.7 Q99.9595 523.015 99.9595 517.992 Q99.9595 514.682 101.858 512.39 Q103.756 510.099 107.135 509.312 M105.422 501.927 Q105.422 504.613 107.089 506.117 Q108.779 507.622 111.811 507.622 Q114.821 507.622 116.51 506.117 Q118.223 504.613 118.223 501.927 Q118.223 499.242 116.51 497.738 Q114.821 496.233 111.811 496.233 Q108.779 496.233 107.089 497.738 Q105.422 499.242 105.422 501.927 Z\" fill=\"#000000\" fill-rule=\"evenodd\" fill-opacity=\"1\" /><path clip-path=\"url(#clip630)\" d=\"M 0 0 M71.6032 262.17 L87.9225 262.17 L87.9225 266.105 L65.9782 266.105 L65.9782 262.17 Q68.6402 259.415 73.2236 254.785 Q77.83 250.133 79.0106 248.79 Q81.2559 246.267 82.1355 244.531 Q83.0383 242.772 83.0383 241.082 Q83.0383 238.327 81.0939 236.591 Q79.1726 234.855 76.0708 234.855 Q73.8717 234.855 71.418 235.619 Q68.9875 236.383 66.2097 237.934 L66.2097 233.211 Q69.0338 232.077 71.4875 231.498 Q73.9411 230.92 75.9782 230.92 Q81.3485 230.92 84.5429 233.605 Q87.7374 236.29 87.7374 240.781 Q87.7374 242.91 86.9272 244.832 Q86.1402 246.73 84.0337 249.322 Q83.455 249.994 80.3531 253.211 Q77.2513 256.406 71.6032 262.17 Z\" fill=\"#000000\" fill-rule=\"evenodd\" fill-opacity=\"1\" /><path clip-path=\"url(#clip630)\" d=\"M 0 0 M92.992 260.225 L97.8762 260.225 L97.8762 266.105 L92.992 266.105 L92.992 260.225 Z\" fill=\"#000000\" fill-rule=\"evenodd\" fill-opacity=\"1\" /><path clip-path=\"url(#clip630)\" d=\"M 0 0 M103.756 262.17 L111.395 262.17 L111.395 235.804 L103.085 237.471 L103.085 233.211 L111.348 231.545 L116.024 231.545 L116.024 262.17 L123.663 262.17 L123.663 266.105 L103.756 266.105 L103.756 262.17 Z\" fill=\"#000000\" fill-rule=\"evenodd\" fill-opacity=\"1\" /><path clip-path=\"url(#clip630)\" d=\"M 0 0 M1232.04 1508.52 L1238.94 1508.52 L1250.75 1526.19 L1262.62 1508.52 L1269.53 1508.52 L1254.25 1531.34 L1270.55 1556.04 L1263.64 1556.04 L1250.27 1535.83 L1236.81 1556.04 L1229.87 1556.04 L1246.84 1530.68 L1232.04 1508.52 Z\" fill=\"#000000\" fill-rule=\"evenodd\" fill-opacity=\"1\" /><polyline clip-path=\"url(#clip632)\" style=\"stroke:#009af9; stroke-width:8; stroke-opacity:1; fill:none\" points=\"\n",
       "  210.071,1208.06 252.526,1207.99 294.981,1207.92 337.435,1207.88 379.89,1207.9 422.344,1207.97 464.799,1208.08 507.254,1208.18 549.708,1208.23 592.163,1208.24 \n",
       "  634.618,1208.21 677.072,1208.15 719.527,1208.06 761.981,1207.91 804.436,1207.64 846.891,1207.13 889.345,1206.13 931.8,1204.18 974.254,1200.24 1016.71,1192.18 \n",
       "  1059.16,1175.2 1101.62,1138.2 1144.07,1058 1186.53,904.571 1228.98,685.046 1271.44,464.123 1313.89,297.237 1356.35,193.242 1398.8,136.142 1441.26,107.664 \n",
       "  1483.71,94.753 1526.16,89.5702 1568.62,87.8361 1611.07,87.4231 1653.53,87.3647 1695.98,87.2969 1738.44,87.1323 1780.89,86.9017 1823.35,86.6503 1865.8,86.4244 \n",
       "  1908.26,86.263 1950.71,86.1857 1993.17,86.2046 2035.62,86.2915 2078.07,86.4088 2120.53,86.5431 2162.98,86.6969 2205.44,86.8373 2247.89,86.9277 2290.35,86.8759 \n",
       "  \n",
       "  \"/>\n",
       "<polyline clip-path=\"url(#clip632)\" style=\"stroke:#e26f46; stroke-width:8; stroke-opacity:1; fill:none\" points=\"\n",
       "  210.071,487.987 252.526,488.102 294.981,488.202 337.435,488.307 379.89,488.343 422.344,488.349 464.799,488.3 507.254,488.24 549.708,488.204 592.163,488.178 \n",
       "  634.618,488.178 677.072,488.21 719.527,488.326 761.981,488.592 804.436,489.11 846.891,490.103 889.345,491.99 931.8,495.566 974.254,502.487 1016.71,516.049 \n",
       "  1059.16,543.245 1101.62,598.301 1144.07,703.941 1186.53,869.801 1228.98,1052.56 1271.44,1194.49 1313.89,1282.62 1356.35,1331.52 1398.8,1357.31 1441.26,1370.67 \n",
       "  1483.71,1377.59 1526.16,1381.17 1568.62,1382.99 1611.07,1383.86 1653.53,1384.19 1695.98,1384.24 1738.44,1384.13 1780.89,1383.97 1823.35,1383.8 1865.8,1383.64 \n",
       "  1908.26,1383.51 1950.71,1383.4 1993.17,1383.32 2035.62,1383.26 2078.07,1383.24 2120.53,1383.25 2162.98,1383.28 2205.44,1383.34 2247.89,1383.43 2290.35,1383.55 \n",
       "  \n",
       "  \"/>\n",
       "<polyline clip-path=\"url(#clip632)\" style=\"stroke:#3da44d; stroke-width:8; stroke-opacity:1; fill:none\" points=\"\n",
       "  210.071,1208.06 252.526,1207.83 294.981,1207.66 337.435,1207.4 379.89,1207.2 422.344,1206.95 464.799,1206.77 507.254,1206.58 549.708,1206.37 592.163,1206.19 \n",
       "  634.618,1205.98 677.072,1205.75 719.527,1205.38 761.981,1204.77 804.436,1203.77 846.891,1202.02 889.345,1198.91 931.8,1193.32 974.254,1182.94 1016.71,1163.52 \n",
       "  1059.16,1126.33 1101.62,1055.01 1144.07,927.523 1186.53,745.37 1228.98,565.615 1271.44,439.459 1313.89,366.278 1356.35,326.591 1398.8,304.895 1441.26,292.385 \n",
       "  1483.71,284.663 1526.16,279.628 1568.62,276.245 1611.07,273.947 1653.53,272.388 1695.98,271.339 1738.44,270.648 1780.89,270.202 1823.35,269.924 1865.8,269.756 \n",
       "  1908.26,269.653 1950.71,269.577 1993.17,269.489 2035.62,269.367 2078.07,269.206 2120.53,269.001 2162.98,268.74 2205.44,268.435 2247.89,268.135 2290.35,267.901 \n",
       "  \n",
       "  \"/>\n",
       "<path clip-path=\"url(#clip630)\" d=\"\n",
       "M1836.11 274.549 L2352.76 274.549 L2352.76 32.6286 L1836.11 32.6286  Z\n",
       "  \" fill=\"#ffffff\" fill-rule=\"evenodd\" fill-opacity=\"1\"/>\n",
       "<polyline clip-path=\"url(#clip630)\" style=\"stroke:#000000; stroke-width:4; stroke-opacity:1; fill:none\" points=\"\n",
       "  1836.11,274.549 2352.76,274.549 2352.76,32.6286 1836.11,32.6286 1836.11,274.549 \n",
       "  \"/>\n",
       "<polyline clip-path=\"url(#clip630)\" style=\"stroke:#009af9; stroke-width:4; stroke-opacity:1; fill:none\" points=\"\n",
       "  1860.11,93.1086 2004.11,93.1086 \n",
       "  \"/>\n",
       "<path clip-path=\"url(#clip630)\" d=\"M 0 0 M2032.79 79.6712 L2032.79 106.546 L2038.44 106.546 Q2045.59 106.546 2048.9 103.305 Q2052.23 100.065 2052.23 93.0739 Q2052.23 86.1295 2048.9 82.9119 Q2045.59 79.6712 2038.44 79.6712 L2032.79 79.6712 M2028.11 75.8286 L2037.72 75.8286 Q2047.77 75.8286 2052.47 80.0184 Q2057.16 84.1851 2057.16 93.0739 Q2057.16 102.009 2052.44 106.199 Q2047.72 110.389 2037.72 110.389 L2028.11 110.389 L2028.11 75.8286 Z\" fill=\"#000000\" fill-rule=\"evenodd\" fill-opacity=\"1\" /><path clip-path=\"url(#clip630)\" d=\"M 0 0 M2083.81 96.3609 L2083.81 98.4442 L2064.22 98.4442 Q2064.5 102.842 2066.86 105.157 Q2069.25 107.449 2073.48 107.449 Q2075.94 107.449 2078.23 106.847 Q2080.54 106.245 2082.81 105.041 L2082.81 109.069 Q2080.52 110.041 2078.11 110.551 Q2075.71 111.06 2073.23 111.06 Q2067.03 111.06 2063.39 107.449 Q2059.78 103.838 2059.78 97.6804 Q2059.78 91.3146 2063.21 87.5878 Q2066.66 83.8378 2072.49 83.8378 Q2077.72 83.8378 2080.75 87.2174 Q2083.81 90.5739 2083.81 96.3609 M2079.55 95.1109 Q2079.5 91.6156 2077.58 89.5322 Q2075.68 87.4489 2072.53 87.4489 Q2068.97 87.4489 2066.82 89.4628 Q2064.69 91.4767 2064.36 95.1341 L2079.55 95.1109 Z\" fill=\"#000000\" fill-rule=\"evenodd\" fill-opacity=\"1\" /><path clip-path=\"url(#clip630)\" d=\"M 0 0 M2109.83 94.7406 L2109.83 110.389 L2105.57 110.389 L2105.57 94.8794 Q2105.57 91.1989 2104.13 89.3702 Q2102.7 87.5415 2099.83 87.5415 Q2096.38 87.5415 2094.39 89.7406 Q2092.4 91.9396 2092.4 95.7359 L2092.4 110.389 L2088.11 110.389 L2088.11 84.4628 L2092.4 84.4628 L2092.4 88.4906 Q2093.92 86.1526 2095.98 84.9952 Q2098.07 83.8378 2100.78 83.8378 Q2105.24 83.8378 2107.53 86.6156 Q2109.83 89.3702 2109.83 94.7406 Z\" fill=\"#000000\" fill-rule=\"evenodd\" fill-opacity=\"1\" /><path clip-path=\"url(#clip630)\" d=\"M 0 0 M2130.82 85.2267 L2130.82 89.2545 Q2129.02 88.3286 2127.07 87.8656 Q2125.13 87.4026 2123.04 87.4026 Q2119.87 87.4026 2118.28 88.3748 Q2116.7 89.3471 2116.7 91.2915 Q2116.7 92.773 2117.84 93.6294 Q2118.97 94.4628 2122.4 95.2267 L2123.85 95.5507 Q2128.39 96.523 2130.29 98.3054 Q2132.21 100.065 2132.21 103.236 Q2132.21 106.847 2129.34 108.953 Q2126.49 111.06 2121.49 111.06 Q2119.41 111.06 2117.14 110.643 Q2114.9 110.25 2112.4 109.44 L2112.4 105.041 Q2114.76 106.268 2117.05 106.893 Q2119.34 107.495 2121.59 107.495 Q2124.59 107.495 2126.22 106.477 Q2127.84 105.435 2127.84 103.56 Q2127.84 101.824 2126.66 100.898 Q2125.5 99.972 2121.54 99.1155 L2120.06 98.7683 Q2116.1 97.935 2114.34 96.222 Q2112.58 94.4859 2112.58 91.4767 Q2112.58 87.8193 2115.17 85.8286 Q2117.77 83.8378 2122.53 83.8378 Q2124.9 83.8378 2126.98 84.1851 Q2129.06 84.5323 2130.82 85.2267 Z\" fill=\"#000000\" fill-rule=\"evenodd\" fill-opacity=\"1\" /><path clip-path=\"url(#clip630)\" d=\"M 0 0 M2136.68 84.4628 L2140.94 84.4628 L2140.94 110.389 L2136.68 110.389 L2136.68 84.4628 M2136.68 74.3703 L2140.94 74.3703 L2140.94 79.7638 L2136.68 79.7638 L2136.68 74.3703 Z\" fill=\"#000000\" fill-rule=\"evenodd\" fill-opacity=\"1\" /><path clip-path=\"url(#clip630)\" d=\"M 0 0 M2149.62 77.1018 L2149.62 84.4628 L2158.39 84.4628 L2158.39 87.773 L2149.62 87.773 L2149.62 101.847 Q2149.62 105.018 2150.47 105.921 Q2151.35 106.824 2154.02 106.824 L2158.39 106.824 L2158.39 110.389 L2154.02 110.389 Q2149.09 110.389 2147.21 108.56 Q2145.34 106.708 2145.34 101.847 L2145.34 87.773 L2142.21 87.773 L2142.21 84.4628 L2145.34 84.4628 L2145.34 77.1018 L2149.62 77.1018 Z\" fill=\"#000000\" fill-rule=\"evenodd\" fill-opacity=\"1\" /><path clip-path=\"url(#clip630)\" d=\"M 0 0 M2173.65 112.796 Q2171.84 117.426 2170.13 118.838 Q2168.41 120.25 2165.54 120.25 L2162.14 120.25 L2162.14 116.685 L2164.64 116.685 Q2166.4 116.685 2167.37 115.852 Q2168.34 115.018 2169.53 111.916 L2170.29 109.972 L2159.8 84.4628 L2164.32 84.4628 L2172.42 104.741 L2180.52 84.4628 L2185.03 84.4628 L2173.65 112.796 Z\" fill=\"#000000\" fill-rule=\"evenodd\" fill-opacity=\"1\" /><polyline clip-path=\"url(#clip630)\" style=\"stroke:#e26f46; stroke-width:4; stroke-opacity:1; fill:none\" points=\"\n",
       "  1860.11,153.589 2004.11,153.589 \n",
       "  \"/>\n",
       "<path clip-path=\"url(#clip630)\" d=\"M 0 0 M2041.31 170.869 L2028.11 136.309 L2033 136.309 L2043.95 165.406 L2054.92 136.309 L2059.78 136.309 L2046.61 170.869 L2041.31 170.869 Z\" fill=\"#000000\" fill-rule=\"evenodd\" fill-opacity=\"1\" /><path clip-path=\"url(#clip630)\" d=\"M 0 0 M2082.74 156.841 L2082.74 158.924 L2063.16 158.924 Q2063.44 163.322 2065.8 165.637 Q2068.18 167.929 2072.42 167.929 Q2074.87 167.929 2077.16 167.327 Q2079.48 166.725 2081.75 165.521 L2081.75 169.549 Q2079.46 170.521 2077.05 171.031 Q2074.64 171.54 2072.16 171.54 Q2065.96 171.54 2062.33 167.929 Q2058.72 164.318 2058.72 158.16 Q2058.72 151.795 2062.14 148.068 Q2065.59 144.318 2071.42 144.318 Q2076.66 144.318 2079.69 147.697 Q2082.74 151.054 2082.74 156.841 M2078.48 155.591 Q2078.44 152.096 2076.52 150.012 Q2074.62 147.929 2071.47 147.929 Q2067.91 147.929 2065.75 149.943 Q2063.62 151.957 2063.3 155.614 L2078.48 155.591 Z\" fill=\"#000000\" fill-rule=\"evenodd\" fill-opacity=\"1\" /><path clip-path=\"url(#clip630)\" d=\"M 0 0 M2087.21 134.85 L2091.47 134.85 L2091.47 170.869 L2087.21 170.869 L2087.21 134.85 Z\" fill=\"#000000\" fill-rule=\"evenodd\" fill-opacity=\"1\" /><path clip-path=\"url(#clip630)\" d=\"M 0 0 M2105.98 147.929 Q2102.56 147.929 2100.57 150.614 Q2098.58 153.276 2098.58 157.929 Q2098.58 162.582 2100.54 165.267 Q2102.53 167.929 2105.98 167.929 Q2109.39 167.929 2111.38 165.244 Q2113.37 162.558 2113.37 157.929 Q2113.37 153.322 2111.38 150.637 Q2109.39 147.929 2105.98 147.929 M2105.98 144.318 Q2111.54 144.318 2114.71 147.929 Q2117.88 151.54 2117.88 157.929 Q2117.88 164.295 2114.71 167.929 Q2111.54 171.54 2105.98 171.54 Q2100.41 171.54 2097.23 167.929 Q2094.09 164.295 2094.09 157.929 Q2094.09 151.54 2097.23 147.929 Q2100.41 144.318 2105.98 144.318 Z\" fill=\"#000000\" fill-rule=\"evenodd\" fill-opacity=\"1\" /><path clip-path=\"url(#clip630)\" d=\"M 0 0 M2141.01 145.938 L2141.01 149.92 Q2139.2 148.924 2137.37 148.438 Q2135.57 147.929 2133.72 147.929 Q2129.57 147.929 2127.28 150.568 Q2124.99 153.184 2124.99 157.929 Q2124.99 162.674 2127.28 165.313 Q2129.57 167.929 2133.72 167.929 Q2135.57 167.929 2137.37 167.443 Q2139.2 166.933 2141.01 165.938 L2141.01 169.873 Q2139.22 170.707 2137.3 171.123 Q2135.4 171.54 2133.25 171.54 Q2127.4 171.54 2123.95 167.859 Q2120.5 164.179 2120.5 157.929 Q2120.5 151.586 2123.97 147.952 Q2127.47 144.318 2133.53 144.318 Q2135.5 144.318 2137.37 144.735 Q2139.25 145.128 2141.01 145.938 Z\" fill=\"#000000\" fill-rule=\"evenodd\" fill-opacity=\"1\" /><path clip-path=\"url(#clip630)\" d=\"M 0 0 M2145.47 144.943 L2149.73 144.943 L2149.73 170.869 L2145.47 170.869 L2145.47 144.943 M2145.47 134.85 L2149.73 134.85 L2149.73 140.244 L2145.47 140.244 L2145.47 134.85 Z\" fill=\"#000000\" fill-rule=\"evenodd\" fill-opacity=\"1\" /><path clip-path=\"url(#clip630)\" d=\"M 0 0 M2158.41 137.582 L2158.41 144.943 L2167.19 144.943 L2167.19 148.253 L2158.41 148.253 L2158.41 162.327 Q2158.41 165.498 2159.27 166.401 Q2160.15 167.304 2162.81 167.304 L2167.19 167.304 L2167.19 170.869 L2162.81 170.869 Q2157.88 170.869 2156.01 169.04 Q2154.13 167.188 2154.13 162.327 L2154.13 148.253 L2151.01 148.253 L2151.01 144.943 L2154.13 144.943 L2154.13 137.582 L2158.41 137.582 Z\" fill=\"#000000\" fill-rule=\"evenodd\" fill-opacity=\"1\" /><path clip-path=\"url(#clip630)\" d=\"M 0 0 M2182.44 173.276 Q2180.64 177.906 2178.92 179.318 Q2177.21 180.73 2174.34 180.73 L2170.94 180.73 L2170.94 177.165 L2173.44 177.165 Q2175.2 177.165 2176.17 176.332 Q2177.14 175.498 2178.32 172.396 L2179.09 170.452 L2168.6 144.943 L2173.11 144.943 L2181.21 165.221 L2189.32 144.943 L2193.83 144.943 L2182.44 173.276 Z\" fill=\"#000000\" fill-rule=\"evenodd\" fill-opacity=\"1\" /><polyline clip-path=\"url(#clip630)\" style=\"stroke:#3da44d; stroke-width:4; stroke-opacity:1; fill:none\" points=\"\n",
       "  1860.11,214.069 2004.11,214.069 \n",
       "  \"/>\n",
       "<path clip-path=\"url(#clip630)\" d=\"M 0 0 M2028.11 196.789 L2057.35 196.789 L2057.35 200.724 L2045.08 200.724 L2045.08 231.349 L2040.38 231.349 L2040.38 200.724 L2028.11 200.724 L2028.11 196.789 Z\" fill=\"#000000\" fill-rule=\"evenodd\" fill-opacity=\"1\" /><path clip-path=\"url(#clip630)\" d=\"M 0 0 M2075.94 217.321 L2075.94 219.404 L2056.35 219.404 Q2056.63 223.802 2058.99 226.117 Q2061.38 228.409 2065.61 228.409 Q2068.07 228.409 2070.36 227.807 Q2072.67 227.205 2074.94 226.001 L2074.94 230.029 Q2072.65 231.001 2070.24 231.511 Q2067.84 232.02 2065.36 232.02 Q2059.16 232.02 2055.52 228.409 Q2051.91 224.798 2051.91 218.64 Q2051.91 212.275 2055.34 208.548 Q2058.79 204.798 2064.62 204.798 Q2069.85 204.798 2072.88 208.177 Q2075.94 211.534 2075.94 217.321 M2071.68 216.071 Q2071.63 212.576 2069.71 210.492 Q2067.81 208.409 2064.66 208.409 Q2061.1 208.409 2058.95 210.423 Q2056.82 212.437 2056.49 216.094 L2071.68 216.071 Z\" fill=\"#000000\" fill-rule=\"evenodd\" fill-opacity=\"1\" /><path clip-path=\"url(#clip630)\" d=\"M 0 0 M2100.59 210.4 Q2102.19 207.529 2104.41 206.164 Q2106.63 204.798 2109.64 204.798 Q2113.69 204.798 2115.89 207.645 Q2118.09 210.469 2118.09 215.701 L2118.09 231.349 L2113.81 231.349 L2113.81 215.839 Q2113.81 212.113 2112.49 210.307 Q2111.17 208.502 2108.46 208.502 Q2105.15 208.502 2103.23 210.701 Q2101.31 212.9 2101.31 216.696 L2101.31 231.349 L2097.03 231.349 L2097.03 215.839 Q2097.03 212.089 2095.71 210.307 Q2094.39 208.502 2091.63 208.502 Q2088.37 208.502 2086.45 210.724 Q2084.53 212.923 2084.53 216.696 L2084.53 231.349 L2080.24 231.349 L2080.24 205.423 L2084.53 205.423 L2084.53 209.451 Q2085.98 207.066 2088.02 205.932 Q2090.06 204.798 2092.86 204.798 Q2095.68 204.798 2097.65 206.233 Q2099.64 207.668 2100.59 210.4 Z\" fill=\"#000000\" fill-rule=\"evenodd\" fill-opacity=\"1\" /><path clip-path=\"url(#clip630)\" d=\"M 0 0 M2126.68 227.46 L2126.68 241.21 L2122.4 241.21 L2122.4 205.423 L2126.68 205.423 L2126.68 209.358 Q2128.02 207.043 2130.06 205.932 Q2132.12 204.798 2134.97 204.798 Q2139.69 204.798 2142.63 208.548 Q2145.59 212.298 2145.59 218.409 Q2145.59 224.52 2142.63 228.27 Q2139.69 232.02 2134.97 232.02 Q2132.12 232.02 2130.06 230.909 Q2128.02 229.775 2126.68 227.46 M2141.17 218.409 Q2141.17 213.71 2139.22 211.048 Q2137.3 208.363 2133.92 208.363 Q2130.54 208.363 2128.6 211.048 Q2126.68 213.71 2126.68 218.409 Q2126.68 223.108 2128.6 225.793 Q2130.54 228.455 2133.92 228.455 Q2137.3 228.455 2139.22 225.793 Q2141.17 223.108 2141.17 218.409 Z\" fill=\"#000000\" fill-rule=\"evenodd\" fill-opacity=\"1\" /><path clip-path=\"url(#clip630)\" d=\"M 0 0 M2172.23 217.321 L2172.23 219.404 L2152.65 219.404 Q2152.93 223.802 2155.29 226.117 Q2157.67 228.409 2161.91 228.409 Q2164.36 228.409 2166.65 227.807 Q2168.97 227.205 2171.24 226.001 L2171.24 230.029 Q2168.95 231.001 2166.54 231.511 Q2164.13 232.02 2161.65 232.02 Q2155.45 232.02 2151.82 228.409 Q2148.21 224.798 2148.21 218.64 Q2148.21 212.275 2151.63 208.548 Q2155.08 204.798 2160.91 204.798 Q2166.15 204.798 2169.18 208.177 Q2172.23 211.534 2172.23 217.321 M2167.97 216.071 Q2167.93 212.576 2166.01 210.492 Q2164.11 208.409 2160.96 208.409 Q2157.4 208.409 2155.24 210.423 Q2153.11 212.437 2152.79 216.094 L2167.97 216.071 Z\" fill=\"#000000\" fill-rule=\"evenodd\" fill-opacity=\"1\" /><path clip-path=\"url(#clip630)\" d=\"M 0 0 M2191.72 209.404 Q2191.01 208.988 2190.15 208.802 Q2189.32 208.594 2188.3 208.594 Q2184.69 208.594 2182.74 210.955 Q2180.82 213.293 2180.82 217.691 L2180.82 231.349 L2176.54 231.349 L2176.54 205.423 L2180.82 205.423 L2180.82 209.451 Q2182.16 207.089 2184.32 205.955 Q2186.47 204.798 2189.55 204.798 Q2189.99 204.798 2190.52 204.867 Q2191.05 204.914 2191.7 205.029 L2191.72 209.404 Z\" fill=\"#000000\" fill-rule=\"evenodd\" fill-opacity=\"1\" /><path clip-path=\"url(#clip630)\" d=\"M 0 0 M2207.97 218.316 Q2202.81 218.316 2200.82 219.497 Q2198.83 220.677 2198.83 223.525 Q2198.83 225.793 2200.31 227.136 Q2201.82 228.455 2204.39 228.455 Q2207.93 228.455 2210.06 225.955 Q2212.21 223.432 2212.21 219.265 L2212.21 218.316 L2207.97 218.316 M2216.47 216.557 L2216.47 231.349 L2212.21 231.349 L2212.21 227.413 Q2210.75 229.775 2208.58 230.909 Q2206.4 232.02 2203.25 232.02 Q2199.27 232.02 2196.91 229.798 Q2194.57 227.552 2194.57 223.802 Q2194.57 219.427 2197.49 217.205 Q2200.43 214.983 2206.24 214.983 L2212.21 214.983 L2212.21 214.566 Q2212.21 211.627 2210.27 210.029 Q2208.34 208.409 2204.85 208.409 Q2202.63 208.409 2200.52 208.941 Q2198.41 209.474 2196.47 210.539 L2196.47 206.603 Q2198.81 205.701 2201.01 205.261 Q2203.21 204.798 2205.29 204.798 Q2210.91 204.798 2213.69 207.714 Q2216.47 210.631 2216.47 216.557 Z\" fill=\"#000000\" fill-rule=\"evenodd\" fill-opacity=\"1\" /><path clip-path=\"url(#clip630)\" d=\"M 0 0 M2225.15 198.062 L2225.15 205.423 L2233.92 205.423 L2233.92 208.733 L2225.15 208.733 L2225.15 222.807 Q2225.15 225.978 2226.01 226.881 Q2226.89 227.784 2229.55 227.784 L2233.92 227.784 L2233.92 231.349 L2229.55 231.349 Q2224.62 231.349 2222.74 229.52 Q2220.87 227.668 2220.87 222.807 L2220.87 208.733 L2217.74 208.733 L2217.74 205.423 L2220.87 205.423 L2220.87 198.062 L2225.15 198.062 Z\" fill=\"#000000\" fill-rule=\"evenodd\" fill-opacity=\"1\" /><path clip-path=\"url(#clip630)\" d=\"M 0 0 M2237.95 221.117 L2237.95 205.423 L2242.21 205.423 L2242.21 220.955 Q2242.21 224.636 2243.65 226.488 Q2245.08 228.316 2247.95 228.316 Q2251.4 228.316 2253.39 226.117 Q2255.4 223.918 2255.4 220.122 L2255.4 205.423 L2259.66 205.423 L2259.66 231.349 L2255.4 231.349 L2255.4 227.367 Q2253.85 229.728 2251.79 230.886 Q2249.76 232.02 2247.05 232.02 Q2242.58 232.02 2240.27 229.242 Q2237.95 226.464 2237.95 221.117 M2248.67 204.798 L2248.67 204.798 Z\" fill=\"#000000\" fill-rule=\"evenodd\" fill-opacity=\"1\" /><path clip-path=\"url(#clip630)\" d=\"M 0 0 M2279.15 209.404 Q2278.44 208.988 2277.58 208.802 Q2276.75 208.594 2275.73 208.594 Q2272.12 208.594 2270.17 210.955 Q2268.25 213.293 2268.25 217.691 L2268.25 231.349 L2263.97 231.349 L2263.97 205.423 L2268.25 205.423 L2268.25 209.451 Q2269.59 207.089 2271.75 205.955 Q2273.9 204.798 2276.98 204.798 Q2277.42 204.798 2277.95 204.867 Q2278.48 204.914 2279.13 205.029 L2279.15 209.404 Z\" fill=\"#000000\" fill-rule=\"evenodd\" fill-opacity=\"1\" /><path clip-path=\"url(#clip630)\" d=\"M 0 0 M2304.76 217.321 L2304.76 219.404 L2285.17 219.404 Q2285.45 223.802 2287.81 226.117 Q2290.2 228.409 2294.43 228.409 Q2296.89 228.409 2299.18 227.807 Q2301.49 227.205 2303.76 226.001 L2303.76 230.029 Q2301.47 231.001 2299.06 231.511 Q2296.65 232.02 2294.18 232.02 Q2287.97 232.02 2284.34 228.409 Q2280.73 224.798 2280.73 218.64 Q2280.73 212.275 2284.15 208.548 Q2287.6 204.798 2293.44 204.798 Q2298.67 204.798 2301.7 208.177 Q2304.76 211.534 2304.76 217.321 M2300.5 216.071 Q2300.45 212.576 2298.53 210.492 Q2296.63 208.409 2293.48 208.409 Q2289.92 208.409 2287.77 210.423 Q2285.64 212.437 2285.31 216.094 L2300.5 216.071 Z\" fill=\"#000000\" fill-rule=\"evenodd\" fill-opacity=\"1\" /></svg>\n"
      ]
     },
     "metadata": {},
     "output_type": "display_data"
    }
   ],
   "source": [
    "plot_line(ks, ctr)"
   ]
  },
  {
   "cell_type": "code",
   "execution_count": 119,
   "metadata": {},
   "outputs": [
    {
     "data": {
      "text/plain": [
       "222432-element Array{Float32,1}:\n",
       "  0.0\n",
       "  0.0\n",
       "  0.0\n",
       "  0.0\n",
       "  0.0\n",
       "  0.0\n",
       "  0.0\n",
       "  0.0\n",
       "  0.0\n",
       "  0.0\n",
       "  0.0\n",
       "  0.0\n",
       "  0.0\n",
       "  ⋮\n",
       " -2.5518077f-8\n",
       "  3.4163747f-9\n",
       " -1.3892699f-8\n",
       " -1.1128762f-8\n",
       " -1.8272543f-8\n",
       " -8.811153f-9\n",
       "  1.0942358f-11\n",
       "  1.9860977f-8\n",
       "  1.5751217f-8\n",
       " -1.26088935f-8\n",
       " -3.9036063f-9\n",
       "  6.4064984f-9"
      ]
     },
     "execution_count": 119,
     "metadata": {},
     "output_type": "execute_result"
    }
   ],
   "source": [
    "res.minimizer"
   ]
  },
  {
   "cell_type": "code",
   "execution_count": null,
   "metadata": {},
   "outputs": [],
   "source": []
  }
 ],
 "metadata": {
  "kernelspec": {
   "display_name": "Julia 1.4.2",
   "language": "julia",
   "name": "julia-1.4"
  },
  "language_info": {
   "file_extension": ".jl",
   "mimetype": "application/julia",
   "name": "julia",
   "version": "1.4.2"
  }
 },
 "nbformat": 4,
 "nbformat_minor": 4
}
