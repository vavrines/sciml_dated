{
 "cells": [
  {
   "cell_type": "markdown",
   "metadata": {},
   "source": [
    "# Physics-Informed Neural Networks"
   ]
  },
  {
   "cell_type": "markdown",
   "metadata": {},
   "source": [
    "## Illustrative example"
   ]
  },
  {
   "cell_type": "code",
   "execution_count": 5,
   "metadata": {
    "scrolled": true
   },
   "outputs": [
    {
     "name": "stderr",
     "output_type": "stream",
     "text": [
      "\r",
      "\u001b[32mloss: 195:   0%|▎                                        |  ETA: 0:03:23\u001b[39m"
     ]
    },
    {
     "name": "stdout",
     "output_type": "stream",
     "text": [
      "Current loss is: 195.44276\n",
      "Current loss is: 1.7988318\n"
     ]
    },
    {
     "name": "stderr",
     "output_type": "stream",
     "text": [
      "\r",
      "\u001b[32mloss: 180:   2%|▋                                        |  ETA: 0:01:15\u001b[39m"
     ]
    },
    {
     "name": "stdout",
     "output_type": "stream",
     "text": [
      "Current loss is: 179.92903\n",
      "Current loss is: 117.40116\n"
     ]
    },
    {
     "name": "stderr",
     "output_type": "stream",
     "text": [
      "\r",
      "\u001b[32mloss: 21:   2%|█                                        |  ETA: 0:00:49\u001b[39m"
     ]
    },
    {
     "name": "stdout",
     "output_type": "stream",
     "text": [
      "Current loss is: 21.028614\n",
      "Current loss is: 2.5249279\n"
     ]
    },
    {
     "name": "stderr",
     "output_type": "stream",
     "text": [
      "\r",
      "\u001b[32mloss: 2.69:   4%|█▍                                       |  ETA: 0:00:38\u001b[39m"
     ]
    },
    {
     "name": "stdout",
     "output_type": "stream",
     "text": [
      "Current loss is: 2.6869793\n",
      "Current loss is: 12.082697\n"
     ]
    },
    {
     "name": "stderr",
     "output_type": "stream",
     "text": [
      "\r",
      "\u001b[32mloss: 31.4:   4%|█▉                                       |  ETA: 0:00:32\u001b[39m"
     ]
    },
    {
     "name": "stdout",
     "output_type": "stream",
     "text": [
      "Current loss is: 31.365852\n",
      "Current loss is: 43.275757\n"
     ]
    },
    {
     "name": "stderr",
     "output_type": "stream",
     "text": [
      "\r",
      "\u001b[32mloss: 35.1:   6%|██▎                                      |  ETA: 0:00:29\u001b[39m"
     ]
    },
    {
     "name": "stdout",
     "output_type": "stream",
     "text": [
      "Current loss is: 35.09489\n",
      "Current loss is: 18.696701\n"
     ]
    },
    {
     "name": "stderr",
     "output_type": "stream",
     "text": [
      "\r",
      "\u001b[32mloss: 7.11:   6%|██▋                                      |  ETA: 0:00:26\u001b[39m"
     ]
    },
    {
     "name": "stdout",
     "output_type": "stream",
     "text": [
      "Current loss is: 7.11235\n",
      "Current loss is: 2.0884194\n"
     ]
    },
    {
     "name": "stderr",
     "output_type": "stream",
     "text": [
      "\r",
      "\u001b[32mloss: 0.566:   8%|███▏                                     |  ETA: 0:00:24\u001b[39m"
     ]
    },
    {
     "name": "stdout",
     "output_type": "stream",
     "text": [
      "Current loss is: 0.566326\n",
      "Current loss is: 0.21975982\n"
     ]
    },
    {
     "name": "stderr",
     "output_type": "stream",
     "text": [
      "\r",
      "\u001b[32mloss: 0.254:   8%|███▌                                     |  ETA: 0:00:22\u001b[39m"
     ]
    },
    {
     "name": "stdout",
     "output_type": "stream",
     "text": [
      "Current loss is: 0.25383064\n",
      "Current loss is: 0.7272236\n"
     ]
    },
    {
     "name": "stderr",
     "output_type": "stream",
     "text": [
      "\r",
      "\u001b[32mloss: 1.93:  10%|███▉                                     |  ETA: 0:00:21\u001b[39m"
     ]
    },
    {
     "name": "stdout",
     "output_type": "stream",
     "text": [
      "Current loss is: 1.9273605\n",
      "Current loss is: 3.904658\n"
     ]
    },
    {
     "name": "stderr",
     "output_type": "stream",
     "text": [
      "\r",
      "\u001b[32mloss: 6.16:  10%|████▎                                    |  ETA: 0:00:20\u001b[39m"
     ]
    },
    {
     "name": "stdout",
     "output_type": "stream",
     "text": [
      "Current loss is: 6.155004\n",
      "Current loss is: 7.714617\n"
     ]
    },
    {
     "name": "stderr",
     "output_type": "stream",
     "text": [
      "\r",
      "\u001b[32mloss: 7.81:  12%|████▊                                    |  ETA: 0:00:19\u001b[39m"
     ]
    },
    {
     "name": "stdout",
     "output_type": "stream",
     "text": [
      "Current loss is: 7.809248\n",
      "Current loss is: 6.487854\n"
     ]
    },
    {
     "name": "stderr",
     "output_type": "stream",
     "text": [
      "\r",
      "\u001b[32mloss: 4.51:  12%|█████▏                                   |  ETA: 0:00:18\u001b[39m"
     ]
    },
    {
     "name": "stdout",
     "output_type": "stream",
     "text": [
      "Current loss is: 4.505155\n",
      "Current loss is: 2.6606348\n"
     ]
    },
    {
     "name": "stderr",
     "output_type": "stream",
     "text": [
      "\r",
      "\u001b[32mloss: 1.35:  14%|█████▌                                   |  ETA: 0:00:17\u001b[39m"
     ]
    },
    {
     "name": "stdout",
     "output_type": "stream",
     "text": [
      "Current loss is: 1.3523085\n",
      "Current loss is: 0.5924918\n"
     ]
    },
    {
     "name": "stderr",
     "output_type": "stream",
     "text": [
      "\r",
      "\u001b[32mloss: 0.221:  14%|██████                                   |  ETA: 0:00:17\u001b[39m"
     ]
    },
    {
     "name": "stdout",
     "output_type": "stream",
     "text": [
      "Current loss is: 0.22096941\n",
      "Current loss is: 0.06829553\n"
     ]
    },
    {
     "name": "stderr",
     "output_type": "stream",
     "text": [
      "\r",
      "\u001b[32mloss: 0.0173:  16%|██████▍                                  |  ETA: 0:00:16\u001b[39m"
     ]
    },
    {
     "name": "stdout",
     "output_type": "stream",
     "text": [
      "Current loss is: 0.017274557\n",
      "Current loss is: 0.004319146\n"
     ]
    },
    {
     "name": "stderr",
     "output_type": "stream",
     "text": [
      "\r",
      "\u001b[32mloss: 0.0024:  16%|██████▊                                  |  ETA: 0:00:16\u001b[39m"
     ]
    },
    {
     "name": "stdout",
     "output_type": "stream",
     "text": [
      "Current loss is: 0.0023971677\n",
      "Current loss is: 0.0048182965\n"
     ]
    },
    {
     "name": "stderr",
     "output_type": "stream",
     "text": [
      "\r",
      "\u001b[32mloss: 0.0144:  18%|███████▏                                 |  ETA: 0:00:15\u001b[39m"
     ]
    },
    {
     "name": "stdout",
     "output_type": "stream",
     "text": [
      "Current loss is: 0.014401289\n",
      "Current loss is: 0.03708573\n"
     ]
    },
    {
     "name": "stderr",
     "output_type": "stream",
     "text": [
      "\r",
      "\u001b[32mloss: 0.0782:  18%|███████▋                                 |  ETA: 0:00:15\u001b[39m"
     ]
    },
    {
     "name": "stdout",
     "output_type": "stream",
     "text": [
      "Current loss is: 0.07815069\n",
      "Current loss is: 0.13977599\n"
     ]
    },
    {
     "name": "stderr",
     "output_type": "stream",
     "text": [
      "\r",
      "\u001b[32mloss: 0.219:  20%|████████                                 |  ETA: 0:00:14\u001b[39m"
     ]
    },
    {
     "name": "stdout",
     "output_type": "stream",
     "text": [
      "Current loss is: 0.21947742\n",
      "Current loss is: 0.30956042\n"
     ]
    },
    {
     "name": "stderr",
     "output_type": "stream",
     "text": [
      "\r",
      "\u001b[32mloss: 0.398:  20%|████████▍                                |  ETA: 0:00:14\u001b[39m"
     ]
    },
    {
     "name": "stdout",
     "output_type": "stream",
     "text": [
      "Current loss is: 0.39798605\n",
      "Current loss is: 0.47082233\n"
     ]
    },
    {
     "name": "stderr",
     "output_type": "stream",
     "text": [
      "\r",
      "\u001b[32mloss: 0.516:  22%|████████▉                                |  ETA: 0:00:14\u001b[39m"
     ]
    },
    {
     "name": "stdout",
     "output_type": "stream",
     "text": [
      "Current loss is: 0.5157941\n",
      "Current loss is: 0.52574414\n"
     ]
    },
    {
     "name": "stderr",
     "output_type": "stream",
     "text": [
      "\r",
      "\u001b[32mloss: 0.501:  22%|█████████▎                               |  ETA: 0:00:13\u001b[39m"
     ]
    },
    {
     "name": "stdout",
     "output_type": "stream",
     "text": [
      "Current loss is: 0.5005835\n",
      "Current loss is: 0.4468967\n"
     ]
    },
    {
     "name": "stderr",
     "output_type": "stream",
     "text": [
      "\r",
      "\u001b[32mloss: 0.375:  24%|█████████▋                               |  ETA: 0:00:13\u001b[39m"
     ]
    },
    {
     "name": "stdout",
     "output_type": "stream",
     "text": [
      "Current loss is: 0.37547854\n",
      "Current loss is: 0.29800913\n"
     ]
    },
    {
     "name": "stderr",
     "output_type": "stream",
     "text": [
      "\r",
      "\u001b[32mloss: 0.224:  24%|██████████                               |  ETA: 0:00:13\u001b[39m"
     ]
    },
    {
     "name": "stdout",
     "output_type": "stream",
     "text": [
      "Current loss is: 0.22423452\n",
      "Current loss is: 0.16047847\n"
     ]
    },
    {
     "name": "stderr",
     "output_type": "stream",
     "text": [
      "\r",
      "\u001b[32mloss: 0.11:  26%|██████████▌                              |  ETA: 0:00:12\u001b[39m"
     ]
    },
    {
     "name": "stdout",
     "output_type": "stream",
     "text": [
      "Current loss is: 0.109528825\n",
      "Current loss is: 0.07142047\n"
     ]
    },
    {
     "name": "stderr",
     "output_type": "stream",
     "text": [
      "\r",
      "\u001b[32mloss: 0.0445:  26%|██████████▉                              |  ETA: 0:00:12\u001b[39m"
     ]
    },
    {
     "name": "stdout",
     "output_type": "stream",
     "text": [
      "Current loss is: 0.0445247\n",
      "Current loss is: 0.026519509\n"
     ]
    },
    {
     "name": "stderr",
     "output_type": "stream",
     "text": [
      "\r",
      "\u001b[32mloss: 0.0151:  28%|███████████▎                             |  ETA: 0:00:12\u001b[39m"
     ]
    },
    {
     "name": "stdout",
     "output_type": "stream",
     "text": [
      "Current loss is: 0.015055671\n",
      "Current loss is: 0.00811277\n"
     ]
    },
    {
     "name": "stderr",
     "output_type": "stream",
     "text": [
      "\r",
      "\u001b[32mloss: 0.00412:  28%|███████████▋                             |  ETA: 0:00:12\u001b[39m"
     ]
    },
    {
     "name": "stdout",
     "output_type": "stream",
     "text": [
      "Current loss is: 0.004123808\n",
      "Current loss is: 0.0019630124\n"
     ]
    },
    {
     "name": "stderr",
     "output_type": "stream",
     "text": [
      "\r",
      "\u001b[32mloss: 0.000871:  30%|████████████▏                            |  ETA: 0:00:11\u001b[39m"
     ]
    },
    {
     "name": "stdout",
     "output_type": "stream",
     "text": [
      "Current loss is: 0.000871083\n",
      "Current loss is: 0.00036467495\n"
     ]
    },
    {
     "name": "stderr",
     "output_type": "stream",
     "text": [
      "\r",
      "\u001b[32mloss: 0.000154:  30%|████████████▌                            |  ETA: 0:00:11\u001b[39m"
     ]
    },
    {
     "name": "stdout",
     "output_type": "stream",
     "text": [
      "Current loss is: 0.00015399788\n",
      "Current loss is: 7.7333985e-5\n"
     ]
    },
    {
     "name": "stderr",
     "output_type": "stream",
     "text": [
      "\r",
      "\u001b[32mloss: 5.33e-05:  32%|████████████▉                            |  ETA: 0:00:11\u001b[39m"
     ]
    },
    {
     "name": "stdout",
     "output_type": "stream",
     "text": [
      "Current loss is: 5.3269552e-5\n",
      "Current loss is: 4.792326e-5\n"
     ]
    },
    {
     "name": "stderr",
     "output_type": "stream",
     "text": [
      "\r",
      "\u001b[32mloss: 5.35e-05:  32%|█████████████▍                           |  ETA: 0:00:11\u001b[39m"
     ]
    },
    {
     "name": "stdout",
     "output_type": "stream",
     "text": [
      "Current loss is: 5.354469e-5\n",
      "Current loss is: 7.5128155e-5\n"
     ]
    },
    {
     "name": "stderr",
     "output_type": "stream",
     "text": [
      "\r",
      "\u001b[32mloss: 0.000122:  34%|█████████████▊                           |  ETA: 0:00:11\u001b[39m"
     ]
    },
    {
     "name": "stdout",
     "output_type": "stream",
     "text": [
      "Current loss is: 0.00012239607\n",
      "Current loss is: 0.0002052239\n"
     ]
    },
    {
     "name": "stderr",
     "output_type": "stream",
     "text": [
      "\r",
      "\u001b[32mloss: 0.000331:  34%|██████████████▏                          |  ETA: 0:00:10\u001b[39m"
     ]
    },
    {
     "name": "stdout",
     "output_type": "stream",
     "text": [
      "Current loss is: 0.0003311971\n",
      "Current loss is: 0.0005044603\n"
     ]
    },
    {
     "name": "stderr",
     "output_type": "stream",
     "text": [
      "\r",
      "\u001b[32mloss: 0.000725:  36%|██████████████▌                          |  ETA: 0:00:10\u001b[39m"
     ]
    },
    {
     "name": "stdout",
     "output_type": "stream",
     "text": [
      "Current loss is: 0.0007253152\n",
      "Current loss is: 0.0009902964\n"
     ]
    },
    {
     "name": "stderr",
     "output_type": "stream",
     "text": [
      "\r",
      "\u001b[32mloss: 0.00129:  36%|███████████████                          |  ETA: 0:00:10\u001b[39m"
     ]
    },
    {
     "name": "stdout",
     "output_type": "stream",
     "text": [
      "Current loss is: 0.0012924984\n",
      "Current loss is: 0.0016221381\n"
     ]
    },
    {
     "name": "stderr",
     "output_type": "stream",
     "text": [
      "\r",
      "\u001b[32mloss: 0.00197:  38%|███████████████▍                         |  ETA: 0:00:10\u001b[39m"
     ]
    },
    {
     "name": "stdout",
     "output_type": "stream",
     "text": [
      "Current loss is: 0.0019672005\n",
      "Current loss is: 0.002314245\n"
     ]
    },
    {
     "name": "stderr",
     "output_type": "stream",
     "text": [
      "\r",
      "\u001b[32mloss: 0.00265:  38%|███████████████▊                         |  ETA: 0:00:10\u001b[39m"
     ]
    },
    {
     "name": "stdout",
     "output_type": "stream",
     "text": [
      "Current loss is: 0.0026492716\n",
      "Current loss is: 0.002958574\n"
     ]
    },
    {
     "name": "stderr",
     "output_type": "stream",
     "text": [
      "\r",
      "\u001b[32mloss: 0.00323:  40%|████████████████▎                        |  ETA: 0:00:09\u001b[39m"
     ]
    },
    {
     "name": "stdout",
     "output_type": "stream",
     "text": [
      "Current loss is: 0.0032296462\n",
      "Current loss is: 0.0034519115\n"
     ]
    },
    {
     "name": "stderr",
     "output_type": "stream",
     "text": [
      "\r",
      "\u001b[32mloss: 0.00362:  40%|████████████████▋                        |  ETA: 0:00:09\u001b[39m"
     ]
    },
    {
     "name": "stdout",
     "output_type": "stream",
     "text": [
      "Current loss is: 0.0036173873\n",
      "Current loss is: 0.0037210935\n"
     ]
    },
    {
     "name": "stderr",
     "output_type": "stream",
     "text": [
      "\r",
      "\u001b[32mloss: 0.00376:  42%|█████████████████                        |  ETA: 0:00:09\u001b[39m"
     ]
    },
    {
     "name": "stdout",
     "output_type": "stream",
     "text": [
      "Current loss is: 0.0037612617\n",
      "Current loss is: 0.0037392552\n"
     ]
    },
    {
     "name": "stderr",
     "output_type": "stream",
     "text": [
      "\r",
      "\u001b[32mloss: 0.00366:  42%|█████████████████▍                       |  ETA: 0:00:09\u001b[39m"
     ]
    },
    {
     "name": "stdout",
     "output_type": "stream",
     "text": [
      "Current loss is: 0.0036592635\n",
      "Current loss is: 0.003527884\n"
     ]
    },
    {
     "name": "stderr",
     "output_type": "stream",
     "text": [
      "\r",
      "\u001b[32mloss: 0.00335:  44%|█████████████████▉                       |  ETA: 0:00:09\u001b[39m"
     ]
    },
    {
     "name": "stdout",
     "output_type": "stream",
     "text": [
      "Current loss is: 0.0033533943\n",
      "Current loss is: 0.0031451492\n"
     ]
    },
    {
     "name": "stderr",
     "output_type": "stream",
     "text": [
      "\r",
      "\u001b[32mloss: 0.00291:  44%|██████████████████▎                      |  ETA: 0:00:08\u001b[39m"
     ]
    },
    {
     "name": "stdout",
     "output_type": "stream",
     "text": [
      "Current loss is: 0.002912839\n",
      "Current loss is: 0.0026659218\n"
     ]
    },
    {
     "name": "stderr",
     "output_type": "stream",
     "text": [
      "\r",
      "\u001b[32mloss: 0.00241:  46%|██████████████████▋                      |  ETA: 0:00:08\u001b[39m"
     ]
    },
    {
     "name": "stdout",
     "output_type": "stream",
     "text": [
      "Current loss is: 0.0024130836\n",
      "Current loss is: 0.0021618868\n"
     ]
    },
    {
     "name": "stderr",
     "output_type": "stream",
     "text": [
      "\r",
      "\u001b[32mloss: 0.00192:  46%|███████████████████▏                     |  ETA: 0:00:08\u001b[39m"
     ]
    },
    {
     "name": "stdout",
     "output_type": "stream",
     "text": [
      "Current loss is: 0.0019185531\n",
      "Current loss is: 0.0016878974\n"
     ]
    },
    {
     "name": "stderr",
     "output_type": "stream",
     "text": [
      "\r",
      "\u001b[32mloss: 0.00147:  48%|███████████████████▌                     |  ETA: 0:00:08\u001b[39m"
     ]
    },
    {
     "name": "stdout",
     "output_type": "stream",
     "text": [
      "Current loss is: 0.0014733281\n",
      "Current loss is: 0.0012769994\n"
     ]
    },
    {
     "name": "stderr",
     "output_type": "stream",
     "text": [
      "\r",
      "\u001b[32mloss: 0.0011:  48%|███████████████████▉                     |  ETA: 0:00:08\u001b[39m"
     ]
    },
    {
     "name": "stdout",
     "output_type": "stream",
     "text": [
      "Current loss is: 0.0010999489\n",
      "Current loss is: 0.0009423239\n"
     ]
    },
    {
     "name": "stderr",
     "output_type": "stream",
     "text": [
      "\r",
      "\u001b[32mloss: 0.000804:  50%|████████████████████▎                    |  ETA: 0:00:08\u001b[39m"
     ]
    },
    {
     "name": "stdout",
     "output_type": "stream",
     "text": [
      "Current loss is: 0.0008035881\n",
      "Current loss is: 0.00068269484\n"
     ]
    },
    {
     "name": "stderr",
     "output_type": "stream",
     "text": [
      "\r",
      "\u001b[32mloss: 0.000578:  50%|████████████████████▊                    |  ETA: 0:00:07\u001b[39m"
     ]
    },
    {
     "name": "stdout",
     "output_type": "stream",
     "text": [
      "Current loss is: 0.0005782755\n",
      "Current loss is: 0.0004887816\n"
     ]
    },
    {
     "name": "stderr",
     "output_type": "stream",
     "text": [
      "\r",
      "\u001b[32mloss: 0.000413:  52%|█████████████████████▏                   |  ETA: 0:00:07\u001b[39m"
     ]
    },
    {
     "name": "stdout",
     "output_type": "stream",
     "text": [
      "Current loss is: 0.0004125878\n",
      "Current loss is: 0.00034809124\n"
     ]
    },
    {
     "name": "stderr",
     "output_type": "stream",
     "text": [
      "\r",
      "\u001b[32mloss: 0.000294:  52%|█████████████████████▌                   |  ETA: 0:00:07\u001b[39m"
     ]
    },
    {
     "name": "stdout",
     "output_type": "stream",
     "text": [
      "Current loss is: 0.0002937595\n",
      "Current loss is: 0.00024817593\n"
     ]
    },
    {
     "name": "stderr",
     "output_type": "stream",
     "text": [
      "\r",
      "\u001b[32mloss: 0.00021:  54%|█████████████████████▉                   |  ETA: 0:00:07\u001b[39m"
     ]
    },
    {
     "name": "stdout",
     "output_type": "stream",
     "text": [
      "Current loss is: 0.0002100536\n",
      "Current loss is: 0.00017825176\n"
     ]
    },
    {
     "name": "stderr",
     "output_type": "stream",
     "text": [
      "\r",
      "\u001b[32mloss: 0.000152:  54%|██████████████████████▍                  |  ETA: 0:00:07\u001b[39m"
     ]
    },
    {
     "name": "stdout",
     "output_type": "stream",
     "text": [
      "Current loss is: 0.00015177044\n",
      "Current loss is: 0.0001297434\n"
     ]
    },
    {
     "name": "stderr",
     "output_type": "stream",
     "text": [
      "\r",
      "\u001b[32mloss: 0.000111:  56%|██████████████████████▊                  |  ETA: 0:00:07\u001b[39m"
     ]
    },
    {
     "name": "stdout",
     "output_type": "stream",
     "text": [
      "Current loss is: 0.00011143235\n",
      "Current loss is: 9.620909e-5\n"
     ]
    },
    {
     "name": "stderr",
     "output_type": "stream",
     "text": [
      "\r",
      "\u001b[32mloss: 8.35e-05:  56%|███████████████████████▏                 |  ETA: 0:00:06\u001b[39m"
     ]
    },
    {
     "name": "stdout",
     "output_type": "stream",
     "text": [
      "Current loss is: 8.354506e-5\n",
      "Current loss is: 7.299791e-5\n"
     ]
    },
    {
     "name": "stderr",
     "output_type": "stream",
     "text": [
      "\r",
      "\u001b[32mloss: 6.42e-05:  58%|███████████████████████▋                 |  ETA: 0:00:06\u001b[39m"
     ]
    },
    {
     "name": "stdout",
     "output_type": "stream",
     "text": [
      "Current loss is: 6.42001e-5\n",
      "Current loss is: 5.6845525e-5\n"
     ]
    },
    {
     "name": "stderr",
     "output_type": "stream",
     "text": [
      "\r",
      "\u001b[32mloss: 5.07e-05:  58%|████████████████████████                 |  ETA: 0:00:06\u001b[39m"
     ]
    },
    {
     "name": "stdout",
     "output_type": "stream",
     "text": [
      "Current loss is: 5.0682433e-5\n",
      "Current loss is: 4.5502584e-5\n"
     ]
    },
    {
     "name": "stderr",
     "output_type": "stream",
     "text": [
      "\r",
      "\u001b[32mloss: 4.11e-05:  60%|████████████████████████▍                |  ETA: 0:00:06\u001b[39m"
     ]
    },
    {
     "name": "stdout",
     "output_type": "stream",
     "text": [
      "Current loss is: 4.1135147e-5\n",
      "Current loss is: 3.7439102e-5\n"
     ]
    },
    {
     "name": "stderr",
     "output_type": "stream",
     "text": [
      "\r",
      "\u001b[32mloss: 3.43e-05:  60%|████████████████████████▊                |  ETA: 0:00:06\u001b[39m"
     ]
    },
    {
     "name": "stdout",
     "output_type": "stream",
     "text": [
      "Current loss is: 3.4299275e-5\n",
      "Current loss is: 3.1620846e-5\n"
     ]
    },
    {
     "name": "stderr",
     "output_type": "stream",
     "text": [
      "\r",
      "\u001b[32mloss: 2.93e-05:  62%|█████████████████████████▎               |  ETA: 0:00:06\u001b[39m"
     ]
    },
    {
     "name": "stdout",
     "output_type": "stream",
     "text": [
      "Current loss is: 2.9325742e-5\n",
      "Current loss is: 2.7350266e-5\n"
     ]
    },
    {
     "name": "stderr",
     "output_type": "stream",
     "text": [
      "\r",
      "\u001b[32mloss: 2.56e-05:  62%|█████████████████████████▋               |  ETA: 0:00:05\u001b[39m"
     ]
    },
    {
     "name": "stdout",
     "output_type": "stream",
     "text": [
      "Current loss is: 2.5641824e-5\n",
      "Current loss is: 2.4156872e-5\n"
     ]
    },
    {
     "name": "stderr",
     "output_type": "stream",
     "text": [
      "\r",
      "\u001b[32mloss: 2.29e-05:  64%|██████████████████████████               |  ETA: 0:00:05\u001b[39m"
     ]
    },
    {
     "name": "stdout",
     "output_type": "stream",
     "text": [
      "Current loss is: 2.2859916e-5\n",
      "Current loss is: 2.1721395e-5\n"
     ]
    },
    {
     "name": "stderr",
     "output_type": "stream",
     "text": [
      "\r",
      "\u001b[32mloss: 2.07e-05:  64%|██████████████████████████▌              |  ETA: 0:00:05\u001b[39m"
     ]
    },
    {
     "name": "stdout",
     "output_type": "stream",
     "text": [
      "Current loss is: 2.0717005e-5\n",
      "Current loss is: 1.9826237e-5\n"
     ]
    },
    {
     "name": "stderr",
     "output_type": "stream",
     "text": [
      "\r",
      "\u001b[32mloss: 1.9e-05:  66%|██████████████████████████▉              |  ETA: 0:00:05\u001b[39m"
     ]
    },
    {
     "name": "stdout",
     "output_type": "stream",
     "text": [
      "Current loss is: 1.9032452e-5\n",
      "Current loss is: 1.8321682e-5\n"
     ]
    },
    {
     "name": "stderr",
     "output_type": "stream",
     "text": [
      "\r",
      "\u001b[32mloss: 1.77e-05:  66%|███████████████████████████▎             |  ETA: 0:00:05\u001b[39m"
     ]
    },
    {
     "name": "stdout",
     "output_type": "stream",
     "text": [
      "Current loss is: 1.7682018e-5\n",
      "Current loss is: 1.7103863e-5\n"
     ]
    },
    {
     "name": "stderr",
     "output_type": "stream",
     "text": [
      "\r",
      "\u001b[32mloss: 1.66e-05:  68%|███████████████████████████▋             |  ETA: 0:00:05\u001b[39m"
     ]
    },
    {
     "name": "stdout",
     "output_type": "stream",
     "text": [
      "Current loss is: 1.657877e-5\n",
      "Current loss is: 1.6099973e-5\n"
     ]
    },
    {
     "name": "stderr",
     "output_type": "stream",
     "text": [
      "\r",
      "\u001b[32mloss: 1.57e-05:  68%|████████████████████████████▏            |  ETA: 0:00:05\u001b[39m"
     ]
    },
    {
     "name": "stdout",
     "output_type": "stream",
     "text": [
      "Current loss is: 1.566164e-5\n",
      "Current loss is: 1.52586235e-5\n"
     ]
    },
    {
     "name": "stderr",
     "output_type": "stream",
     "text": [
      "\r",
      "\u001b[32mloss: 1.49e-05:  70%|████████████████████████████▌            |  ETA: 0:00:04\u001b[39m"
     ]
    },
    {
     "name": "stdout",
     "output_type": "stream",
     "text": [
      "Current loss is: 1.4886929e-5\n",
      "Current loss is: 1.45430695e-5\n"
     ]
    },
    {
     "name": "stderr",
     "output_type": "stream",
     "text": [
      "\r",
      "\u001b[32mloss: 1.42e-05:  70%|████████████████████████████▉            |  ETA: 0:00:04\u001b[39m"
     ]
    },
    {
     "name": "stdout",
     "output_type": "stream",
     "text": [
      "Current loss is: 1.42239305e-5\n",
      "Current loss is: 1.3926944e-5\n"
     ]
    },
    {
     "name": "stderr",
     "output_type": "stream",
     "text": [
      "\r",
      "\u001b[32mloss: 1.36e-05:  72%|█████████████████████████████▍           |  ETA: 0:00:04\u001b[39m"
     ]
    },
    {
     "name": "stdout",
     "output_type": "stream",
     "text": [
      "Current loss is: 1.36499175e-5\n",
      "Current loss is: 1.3391024e-5\n"
     ]
    },
    {
     "name": "stderr",
     "output_type": "stream",
     "text": [
      "\r",
      "\u001b[32mloss: 1.31e-05:  72%|█████████████████████████████▊           |  ETA: 0:00:04\u001b[39m"
     ]
    },
    {
     "name": "stdout",
     "output_type": "stream",
     "text": [
      "Current loss is: 1.3148583e-5\n",
      "Current loss is: 1.2921306e-5\n"
     ]
    },
    {
     "name": "stderr",
     "output_type": "stream",
     "text": [
      "\r",
      "\u001b[32mloss: 1.27e-05:  74%|██████████████████████████████▏          |  ETA: 0:00:04\u001b[39m"
     ]
    },
    {
     "name": "stdout",
     "output_type": "stream",
     "text": [
      "Current loss is: 1.2707923e-5\n",
      "Current loss is: 1.2507468e-5\n"
     ]
    },
    {
     "name": "stderr",
     "output_type": "stream",
     "text": [
      "\r",
      "\u001b[32mloss: 1.23e-05:  74%|██████████████████████████████▌          |  ETA: 0:00:04\u001b[39m"
     ]
    },
    {
     "name": "stdout",
     "output_type": "stream",
     "text": [
      "Current loss is: 1.2319007e-5\n",
      "Current loss is: 1.2141722e-5\n"
     ]
    },
    {
     "name": "stderr",
     "output_type": "stream",
     "text": [
      "\r",
      "\u001b[32mloss: 1.2e-05:  76%|███████████████████████████████          |  ETA: 0:00:04\u001b[39m"
     ]
    },
    {
     "name": "stdout",
     "output_type": "stream",
     "text": [
      "Current loss is: 1.1975073e-5\n",
      "Current loss is: 1.1818368e-5\n"
     ]
    },
    {
     "name": "stderr",
     "output_type": "stream",
     "text": [
      "\r",
      "\u001b[32mloss: 1.17e-05:  76%|███████████████████████████████▍         |  ETA: 0:00:03\u001b[39m"
     ]
    },
    {
     "name": "stdout",
     "output_type": "stream",
     "text": [
      "Current loss is: 1.1671026e-5\n",
      "Current loss is: 1.1532705e-5\n"
     ]
    },
    {
     "name": "stderr",
     "output_type": "stream",
     "text": [
      "\r",
      "\u001b[32mloss: 1.14e-05:  78%|███████████████████████████████▊         |  ETA: 0:00:03\u001b[39m"
     ]
    },
    {
     "name": "stdout",
     "output_type": "stream",
     "text": [
      "Current loss is: 1.1402957e-5\n",
      "Current loss is: 1.1281379e-5\n"
     ]
    },
    {
     "name": "stderr",
     "output_type": "stream",
     "text": [
      "\r",
      "\u001b[32mloss: 1.12e-05:  78%|████████████████████████████████▏        |  ETA: 0:00:03\u001b[39m"
     ]
    },
    {
     "name": "stdout",
     "output_type": "stream",
     "text": [
      "Current loss is: 1.11674335e-5\n",
      "Current loss is: 1.1061023e-5\n"
     ]
    },
    {
     "name": "stderr",
     "output_type": "stream",
     "text": [
      "\r",
      "\u001b[32mloss: 1.1e-05:  80%|████████████████████████████████▋        |  ETA: 0:00:03\u001b[39m"
     ]
    },
    {
     "name": "stdout",
     "output_type": "stream",
     "text": [
      "Current loss is: 1.09616385e-5\n",
      "Current loss is: 1.0869138e-5\n"
     ]
    },
    {
     "name": "stderr",
     "output_type": "stream",
     "text": [
      "\r",
      "\u001b[32mloss: 1.08e-05:  80%|█████████████████████████████████        |  ETA: 0:00:03\u001b[39m"
     ]
    },
    {
     "name": "stdout",
     "output_type": "stream",
     "text": [
      "Current loss is: 1.0782999e-5\n",
      "Current loss is: 1.0703084e-5\n"
     ]
    },
    {
     "name": "stderr",
     "output_type": "stream",
     "text": [
      "\r",
      "\u001b[32mloss: 1.06e-05:  82%|█████████████████████████████████▍       |  ETA: 0:00:03\u001b[39m"
     ]
    },
    {
     "name": "stdout",
     "output_type": "stream",
     "text": [
      "Current loss is: 1.0629046e-5\n",
      "Current loss is: 1.0560605e-5\n"
     ]
    },
    {
     "name": "stderr",
     "output_type": "stream",
     "text": [
      "\r",
      "\u001b[32mloss: 1.05e-05:  82%|█████████████████████████████████▉       |  ETA: 0:00:02\u001b[39m"
     ]
    },
    {
     "name": "stdout",
     "output_type": "stream",
     "text": [
      "Current loss is: 1.04972805e-5\n",
      "Current loss is: 1.0438844e-5\n"
     ]
    },
    {
     "name": "stderr",
     "output_type": "stream",
     "text": [
      "\r",
      "\u001b[32mloss: 1.04e-05:  84%|██████████████████████████████████▎      |  ETA: 0:00:02\u001b[39m"
     ]
    },
    {
     "name": "stdout",
     "output_type": "stream",
     "text": [
      "Current loss is: 1.03849015e-5\n",
      "Current loss is: 1.0335169e-5\n"
     ]
    },
    {
     "name": "stderr",
     "output_type": "stream",
     "text": [
      "\r",
      "\u001b[32mloss: 1.03e-05:  84%|██████████████████████████████████▋      |  ETA: 0:00:02\u001b[39m"
     ]
    },
    {
     "name": "stdout",
     "output_type": "stream",
     "text": [
      "Current loss is: 1.028917e-5\n",
      "Current loss is: 1.0246664e-5\n"
     ]
    },
    {
     "name": "stderr",
     "output_type": "stream",
     "text": [
      "\r",
      "\u001b[32mloss: 1.02e-05:  86%|███████████████████████████████████      |  ETA: 0:00:02\u001b[39m"
     ]
    },
    {
     "name": "stdout",
     "output_type": "stream",
     "text": [
      "Current loss is: 1.020709e-5\n",
      "Current loss is: 1.0170158e-5\n"
     ]
    },
    {
     "name": "stderr",
     "output_type": "stream",
     "text": [
      "\r",
      "\u001b[32mloss: 1.01e-05:  86%|███████████████████████████████████▌     |  ETA: 0:00:02\u001b[39m"
     ]
    },
    {
     "name": "stdout",
     "output_type": "stream",
     "text": [
      "Current loss is: 1.0135373e-5\n",
      "Current loss is: 1.0102323e-5\n"
     ]
    },
    {
     "name": "stderr",
     "output_type": "stream",
     "text": [
      "\r",
      "\u001b[32mloss: 1.01e-05:  88%|███████████████████████████████████▉     |  ETA: 0:00:02\u001b[39m"
     ]
    },
    {
     "name": "stdout",
     "output_type": "stream",
     "text": [
      "Current loss is: 1.0070656e-5\n",
      "Current loss is: 1.0039839e-5\n"
     ]
    },
    {
     "name": "stderr",
     "output_type": "stream",
     "text": [
      "\r",
      "\u001b[32mloss: 1e-05:  88%|████████████████████████████████████▎    |  ETA: 0:00:02\u001b[39m"
     ]
    },
    {
     "name": "stdout",
     "output_type": "stream",
     "text": [
      "Current loss is: 1.0009519e-5\n",
      "Current loss is: 9.979219e-6\n"
     ]
    },
    {
     "name": "stderr",
     "output_type": "stream",
     "text": [
      "\r",
      "\u001b[32mloss: 9.95e-06:  90%|████████████████████████████████████▊    |  ETA: 0:00:01\u001b[39m"
     ]
    },
    {
     "name": "stdout",
     "output_type": "stream",
     "text": [
      "Current loss is: 9.948604e-6\n",
      "Current loss is: 9.917114e-6\n"
     ]
    },
    {
     "name": "stderr",
     "output_type": "stream",
     "text": [
      "\r",
      "\u001b[32mloss: 9.88e-06:  90%|█████████████████████████████████████▏   |  ETA: 0:00:01\u001b[39m"
     ]
    },
    {
     "name": "stdout",
     "output_type": "stream",
     "text": [
      "Current loss is: 9.884517e-6\n",
      "Current loss is: 9.850354e-6\n"
     ]
    },
    {
     "name": "stderr",
     "output_type": "stream",
     "text": [
      "\r",
      "\u001b[32mloss: 9.81e-06:  92%|█████████████████████████████████████▌   |  ETA: 0:00:01\u001b[39m"
     ]
    },
    {
     "name": "stdout",
     "output_type": "stream",
     "text": [
      "Current loss is: 9.814269e-6\n",
      "Current loss is: 9.775923e-6\n"
     ]
    },
    {
     "name": "stderr",
     "output_type": "stream",
     "text": [
      "\r",
      "\u001b[32mloss: 9.74e-06:  92%|█████████████████████████████████████▉   |  ETA: 0:00:01\u001b[39m"
     ]
    },
    {
     "name": "stdout",
     "output_type": "stream",
     "text": [
      "Current loss is: 9.73508e-6\n",
      "Current loss is: 9.691476e-6\n"
     ]
    },
    {
     "name": "stderr",
     "output_type": "stream",
     "text": [
      "\r",
      "\u001b[32mloss: 9.64e-06:  94%|██████████████████████████████████████▍  |  ETA: 0:00:01\u001b[39m"
     ]
    },
    {
     "name": "stdout",
     "output_type": "stream",
     "text": [
      "Current loss is: 9.644835e-6\n",
      "Current loss is: 9.595012e-6\n"
     ]
    },
    {
     "name": "stderr",
     "output_type": "stream",
     "text": [
      "\r",
      "\u001b[32mloss: 9.54e-06:  94%|██████████████████████████████████████▊  |  ETA: 0:00:01\u001b[39m"
     ]
    },
    {
     "name": "stdout",
     "output_type": "stream",
     "text": [
      "Current loss is: 9.54181e-6\n",
      "Current loss is: 9.485156e-6\n"
     ]
    },
    {
     "name": "stderr",
     "output_type": "stream",
     "text": [
      "\r",
      "\u001b[32mloss: 9.42e-06:  96%|███████████████████████████████████████▏ |  ETA: 0:00:01\u001b[39m"
     ]
    },
    {
     "name": "stdout",
     "output_type": "stream",
     "text": [
      "Current loss is: 9.4249735e-6\n",
      "Current loss is: 9.361218e-6\n"
     ]
    },
    {
     "name": "stderr",
     "output_type": "stream",
     "text": [
      "\r",
      "\u001b[32mloss: 9.29e-06:  96%|███████████████████████████████████████▋ |  ETA: 0:00:00\u001b[39m"
     ]
    },
    {
     "name": "stdout",
     "output_type": "stream",
     "text": [
      "Current loss is: 9.293965e-6\n",
      "Current loss is: 9.223175e-6\n"
     ]
    },
    {
     "name": "stderr",
     "output_type": "stream",
     "text": [
      "\r",
      "\u001b[32mloss: 9.15e-06:  98%|████████████████████████████████████████ |  ETA: 0:00:00\u001b[39m"
     ]
    },
    {
     "name": "stdout",
     "output_type": "stream",
     "text": [
      "Current loss is: 9.14897e-6\n",
      "Current loss is: 9.0714675e-6\n"
     ]
    },
    {
     "name": "stderr",
     "output_type": "stream",
     "text": [
      "\r",
      "\u001b[32mloss: 8.99e-06:  98%|████████████████████████████████████████▍|  ETA: 0:00:00\u001b[39m"
     ]
    },
    {
     "name": "stdout",
     "output_type": "stream",
     "text": [
      "Current loss is: 8.99083e-6\n",
      "Current loss is: 8.90714e-6\n"
     ]
    },
    {
     "name": "stderr",
     "output_type": "stream",
     "text": [
      "\u001b[32mloss: 8.73e-06: 100%|█████████████████████████████████████████| Time: 0:00:14\u001b[39m\n"
     ]
    },
    {
     "name": "stdout",
     "output_type": "stream",
     "text": [
      "Current loss is: 8.820682e-6\n",
      "Current loss is: 8.731646e-6\n",
      "Current loss is: 8.731646e-6\n"
     ]
    },
    {
     "data": {
      "text/plain": [
       "retcode: Default\n",
       "Interpolation: 1st order linear\n",
       "t: 0.0f0:0.02f0:1.0f0\n",
       "u: 51-element Array{Array{Float32,1},1}:\n",
       " [1.0, 1.0]              \n",
       " [0.9808549, 0.98040175] \n",
       " [0.96201587, 0.96113765]\n",
       " [0.94348073, 0.94220525]\n",
       " [0.9252475, 0.9236021]  \n",
       " [0.9073138, 0.9053257]  \n",
       " [0.8896775, 0.8873734]  \n",
       " [0.8723362, 0.86974233] \n",
       " [0.8552873, 0.85242975] \n",
       " [0.8385282, 0.8354326]  \n",
       " [0.8220564, 0.81874794] \n",
       " [0.80586904, 0.8023726] \n",
       " [0.78996336, 0.7863034] \n",
       " ⋮                       \n",
       " [0.45506912, 0.45479316]\n",
       " [0.4456861, 0.44577152] \n",
       " [0.4364828, 0.43694288] \n",
       " [0.42745548, 0.42830312]\n",
       " [0.4186005, 0.41984814] \n",
       " [0.40991396, 0.41157377]\n",
       " [0.40139222, 0.40347612]\n",
       " [0.39303166, 0.3955511] \n",
       " [0.38482845, 0.38779455]\n",
       " [0.37677896, 0.38020265]\n",
       " [0.36887956, 0.37277138]\n",
       " [0.36112672, 0.36549675]"
      ]
     },
     "execution_count": 5,
     "metadata": {},
     "output_type": "execute_result"
    }
   ],
   "source": [
    "using Flux, NeuralNetDiffEq, Optim, Plots\n",
    "\n",
    "linear = (u, p, t) -> -u\n",
    "tspan = (0.0f0, 1.0f0)\n",
    "u0 = [1.0f0, 1.0f0]\n",
    "prob = ODEProblem(linear, u0 ,tspan)\n",
    "chain = Flux.Chain(Dense(1, 10, σ), Dense(10, 2))\n",
    "opt = Flux.ADAM(0.1, (0.9, 0.95)) # parameters are important\n",
    "sol = solve(prob, NeuralNetDiffEq.NNODE(chain, opt, autodiff=true), dt=1/50f0, verbose=true, abstol=1e-10, maxiters=200)"
   ]
  },
  {
   "cell_type": "code",
   "execution_count": 6,
   "metadata": {},
   "outputs": [
    {
     "data": {
      "image/svg+xml": [
       "<?xml version=\"1.0\" encoding=\"utf-8\"?>\n",
       "<svg xmlns=\"http://www.w3.org/2000/svg\" xmlns:xlink=\"http://www.w3.org/1999/xlink\" width=\"600\" height=\"400\" viewBox=\"0 0 2400 1600\">\n",
       "<defs>\n",
       "  <clipPath id=\"clip3900\">\n",
       "    <rect x=\"0\" y=\"0\" width=\"2400\" height=\"1600\"/>\n",
       "  </clipPath>\n",
       "</defs>\n",
       "<path clip-path=\"url(#clip3900)\" d=\"\n",
       "M0 1600 L2400 1600 L2400 0 L0 0  Z\n",
       "  \" fill=\"#ffffff\" fill-rule=\"evenodd\" fill-opacity=\"1\"/>\n",
       "<defs>\n",
       "  <clipPath id=\"clip3901\">\n",
       "    <rect x=\"480\" y=\"0\" width=\"1681\" height=\"1600\"/>\n",
       "  </clipPath>\n",
       "</defs>\n",
       "<path clip-path=\"url(#clip3900)\" d=\"\n",
       "M148.334 1423.18 L2352.76 1423.18 L2352.76 47.2441 L148.334 47.2441  Z\n",
       "  \" fill=\"#ffffff\" fill-rule=\"evenodd\" fill-opacity=\"1\"/>\n",
       "<defs>\n",
       "  <clipPath id=\"clip3902\">\n",
       "    <rect x=\"148\" y=\"47\" width=\"2205\" height=\"1377\"/>\n",
       "  </clipPath>\n",
       "</defs>\n",
       "<polyline clip-path=\"url(#clip3902)\" style=\"stroke:#000000; stroke-width:2; stroke-opacity:0.1; fill:none\" points=\"\n",
       "  148.334,1423.18 148.334,47.2441 \n",
       "  \"/>\n",
       "<polyline clip-path=\"url(#clip3902)\" style=\"stroke:#000000; stroke-width:2; stroke-opacity:0.1; fill:none\" points=\"\n",
       "  589.219,1423.18 589.219,47.2441 \n",
       "  \"/>\n",
       "<polyline clip-path=\"url(#clip3902)\" style=\"stroke:#000000; stroke-width:2; stroke-opacity:0.1; fill:none\" points=\"\n",
       "  1030.1,1423.18 1030.1,47.2441 \n",
       "  \"/>\n",
       "<polyline clip-path=\"url(#clip3902)\" style=\"stroke:#000000; stroke-width:2; stroke-opacity:0.1; fill:none\" points=\"\n",
       "  1470.99,1423.18 1470.99,47.2441 \n",
       "  \"/>\n",
       "<polyline clip-path=\"url(#clip3902)\" style=\"stroke:#000000; stroke-width:2; stroke-opacity:0.1; fill:none\" points=\"\n",
       "  1911.87,1423.18 1911.87,47.2441 \n",
       "  \"/>\n",
       "<polyline clip-path=\"url(#clip3902)\" style=\"stroke:#000000; stroke-width:2; stroke-opacity:0.1; fill:none\" points=\"\n",
       "  2352.76,1423.18 2352.76,47.2441 \n",
       "  \"/>\n",
       "<polyline clip-path=\"url(#clip3902)\" style=\"stroke:#000000; stroke-width:2; stroke-opacity:0.1; fill:none\" points=\"\n",
       "  148.334,1305.26 2352.76,1305.26 \n",
       "  \"/>\n",
       "<polyline clip-path=\"url(#clip3902)\" style=\"stroke:#000000; stroke-width:2; stroke-opacity:0.1; fill:none\" points=\"\n",
       "  148.334,1102.08 2352.76,1102.08 \n",
       "  \"/>\n",
       "<polyline clip-path=\"url(#clip3902)\" style=\"stroke:#000000; stroke-width:2; stroke-opacity:0.1; fill:none\" points=\"\n",
       "  148.334,898.899 2352.76,898.899 \n",
       "  \"/>\n",
       "<polyline clip-path=\"url(#clip3902)\" style=\"stroke:#000000; stroke-width:2; stroke-opacity:0.1; fill:none\" points=\"\n",
       "  148.334,695.721 2352.76,695.721 \n",
       "  \"/>\n",
       "<polyline clip-path=\"url(#clip3902)\" style=\"stroke:#000000; stroke-width:2; stroke-opacity:0.1; fill:none\" points=\"\n",
       "  148.334,492.542 2352.76,492.542 \n",
       "  \"/>\n",
       "<polyline clip-path=\"url(#clip3902)\" style=\"stroke:#000000; stroke-width:2; stroke-opacity:0.1; fill:none\" points=\"\n",
       "  148.334,289.364 2352.76,289.364 \n",
       "  \"/>\n",
       "<polyline clip-path=\"url(#clip3902)\" style=\"stroke:#000000; stroke-width:2; stroke-opacity:0.1; fill:none\" points=\"\n",
       "  148.334,86.1857 2352.76,86.1857 \n",
       "  \"/>\n",
       "<polyline clip-path=\"url(#clip3900)\" style=\"stroke:#000000; stroke-width:4; stroke-opacity:1; fill:none\" points=\"\n",
       "  148.334,1423.18 2352.76,1423.18 \n",
       "  \"/>\n",
       "<polyline clip-path=\"url(#clip3900)\" style=\"stroke:#000000; stroke-width:4; stroke-opacity:1; fill:none\" points=\"\n",
       "  148.334,1423.18 148.334,47.2441 \n",
       "  \"/>\n",
       "<polyline clip-path=\"url(#clip3900)\" style=\"stroke:#000000; stroke-width:4; stroke-opacity:1; fill:none\" points=\"\n",
       "  148.334,1423.18 148.334,1406.67 \n",
       "  \"/>\n",
       "<polyline clip-path=\"url(#clip3900)\" style=\"stroke:#000000; stroke-width:4; stroke-opacity:1; fill:none\" points=\"\n",
       "  589.219,1423.18 589.219,1406.67 \n",
       "  \"/>\n",
       "<polyline clip-path=\"url(#clip3900)\" style=\"stroke:#000000; stroke-width:4; stroke-opacity:1; fill:none\" points=\"\n",
       "  1030.1,1423.18 1030.1,1406.67 \n",
       "  \"/>\n",
       "<polyline clip-path=\"url(#clip3900)\" style=\"stroke:#000000; stroke-width:4; stroke-opacity:1; fill:none\" points=\"\n",
       "  1470.99,1423.18 1470.99,1406.67 \n",
       "  \"/>\n",
       "<polyline clip-path=\"url(#clip3900)\" style=\"stroke:#000000; stroke-width:4; stroke-opacity:1; fill:none\" points=\"\n",
       "  1911.87,1423.18 1911.87,1406.67 \n",
       "  \"/>\n",
       "<polyline clip-path=\"url(#clip3900)\" style=\"stroke:#000000; stroke-width:4; stroke-opacity:1; fill:none\" points=\"\n",
       "  2352.76,1423.18 2352.76,1406.67 \n",
       "  \"/>\n",
       "<polyline clip-path=\"url(#clip3900)\" style=\"stroke:#000000; stroke-width:4; stroke-opacity:1; fill:none\" points=\"\n",
       "  148.334,1305.26 174.787,1305.26 \n",
       "  \"/>\n",
       "<polyline clip-path=\"url(#clip3900)\" style=\"stroke:#000000; stroke-width:4; stroke-opacity:1; fill:none\" points=\"\n",
       "  148.334,1102.08 174.787,1102.08 \n",
       "  \"/>\n",
       "<polyline clip-path=\"url(#clip3900)\" style=\"stroke:#000000; stroke-width:4; stroke-opacity:1; fill:none\" points=\"\n",
       "  148.334,898.899 174.787,898.899 \n",
       "  \"/>\n",
       "<polyline clip-path=\"url(#clip3900)\" style=\"stroke:#000000; stroke-width:4; stroke-opacity:1; fill:none\" points=\"\n",
       "  148.334,695.721 174.787,695.721 \n",
       "  \"/>\n",
       "<polyline clip-path=\"url(#clip3900)\" style=\"stroke:#000000; stroke-width:4; stroke-opacity:1; fill:none\" points=\"\n",
       "  148.334,492.542 174.787,492.542 \n",
       "  \"/>\n",
       "<polyline clip-path=\"url(#clip3900)\" style=\"stroke:#000000; stroke-width:4; stroke-opacity:1; fill:none\" points=\"\n",
       "  148.334,289.364 174.787,289.364 \n",
       "  \"/>\n",
       "<polyline clip-path=\"url(#clip3900)\" style=\"stroke:#000000; stroke-width:4; stroke-opacity:1; fill:none\" points=\"\n",
       "  148.334,86.1857 174.787,86.1857 \n",
       "  \"/>\n",
       "<path clip-path=\"url(#clip3900)\" d=\"M 0 0 M129.851 1445.17 Q126.24 1445.17 124.411 1448.74 Q122.605 1452.28 122.605 1459.41 Q122.605 1466.51 124.411 1470.08 Q126.24 1473.62 129.851 1473.62 Q133.485 1473.62 135.29 1470.08 Q137.119 1466.51 137.119 1459.41 Q137.119 1452.28 135.29 1448.74 Q133.485 1445.17 129.851 1445.17 M129.851 1441.47 Q135.661 1441.47 138.716 1446.07 Q141.795 1450.66 141.795 1459.41 Q141.795 1468.13 138.716 1472.74 Q135.661 1477.32 129.851 1477.32 Q124.041 1477.32 120.962 1472.74 Q117.906 1468.13 117.906 1459.41 Q117.906 1450.66 120.962 1446.07 Q124.041 1441.47 129.851 1441.47 Z\" fill=\"#000000\" fill-rule=\"evenodd\" fill-opacity=\"1\" /><path clip-path=\"url(#clip3900)\" d=\"M 0 0 M146.864 1470.77 L151.749 1470.77 L151.749 1476.65 L146.864 1476.65 L146.864 1470.77 Z\" fill=\"#000000\" fill-rule=\"evenodd\" fill-opacity=\"1\" /><path clip-path=\"url(#clip3900)\" d=\"M 0 0 M166.818 1445.17 Q163.207 1445.17 161.378 1448.74 Q159.573 1452.28 159.573 1459.41 Q159.573 1466.51 161.378 1470.08 Q163.207 1473.62 166.818 1473.62 Q170.452 1473.62 172.258 1470.08 Q174.087 1466.51 174.087 1459.41 Q174.087 1452.28 172.258 1448.74 Q170.452 1445.17 166.818 1445.17 M166.818 1441.47 Q172.628 1441.47 175.684 1446.07 Q178.762 1450.66 178.762 1459.41 Q178.762 1468.13 175.684 1472.74 Q172.628 1477.32 166.818 1477.32 Q161.008 1477.32 157.929 1472.74 Q154.874 1468.13 154.874 1459.41 Q154.874 1450.66 157.929 1446.07 Q161.008 1441.47 166.818 1441.47 Z\" fill=\"#000000\" fill-rule=\"evenodd\" fill-opacity=\"1\" /><path clip-path=\"url(#clip3900)\" d=\"M 0 0 M571.534 1445.17 Q567.923 1445.17 566.094 1448.74 Q564.288 1452.28 564.288 1459.41 Q564.288 1466.51 566.094 1470.08 Q567.923 1473.62 571.534 1473.62 Q575.168 1473.62 576.973 1470.08 Q578.802 1466.51 578.802 1459.41 Q578.802 1452.28 576.973 1448.74 Q575.168 1445.17 571.534 1445.17 M571.534 1441.47 Q577.344 1441.47 580.399 1446.07 Q583.478 1450.66 583.478 1459.41 Q583.478 1468.13 580.399 1472.74 Q577.344 1477.32 571.534 1477.32 Q565.723 1477.32 562.645 1472.74 Q559.589 1468.13 559.589 1459.41 Q559.589 1450.66 562.645 1446.07 Q565.723 1441.47 571.534 1441.47 Z\" fill=\"#000000\" fill-rule=\"evenodd\" fill-opacity=\"1\" /><path clip-path=\"url(#clip3900)\" d=\"M 0 0 M588.547 1470.77 L593.432 1470.77 L593.432 1476.65 L588.547 1476.65 L588.547 1470.77 Z\" fill=\"#000000\" fill-rule=\"evenodd\" fill-opacity=\"1\" /><path clip-path=\"url(#clip3900)\" d=\"M 0 0 M602.529 1472.72 L618.848 1472.72 L618.848 1476.65 L596.904 1476.65 L596.904 1472.72 Q599.566 1469.96 604.149 1465.33 Q608.756 1460.68 609.936 1459.34 Q612.182 1456.81 613.061 1455.08 Q613.964 1453.32 613.964 1451.63 Q613.964 1448.87 612.019 1447.14 Q610.098 1445.4 606.996 1445.4 Q604.797 1445.4 602.344 1446.17 Q599.913 1446.93 597.135 1448.48 L597.135 1443.76 Q599.959 1442.62 602.413 1442.05 Q604.867 1441.47 606.904 1441.47 Q612.274 1441.47 615.469 1444.15 Q618.663 1446.84 618.663 1451.33 Q618.663 1453.46 617.853 1455.38 Q617.066 1457.28 614.959 1459.87 Q614.381 1460.54 611.279 1463.76 Q608.177 1466.95 602.529 1472.72 Z\" fill=\"#000000\" fill-rule=\"evenodd\" fill-opacity=\"1\" /><path clip-path=\"url(#clip3900)\" d=\"M 0 0 M1011.38 1445.17 Q1007.77 1445.17 1005.94 1448.74 Q1004.13 1452.28 1004.13 1459.41 Q1004.13 1466.51 1005.94 1470.08 Q1007.77 1473.62 1011.38 1473.62 Q1015.01 1473.62 1016.82 1470.08 Q1018.64 1466.51 1018.64 1459.41 Q1018.64 1452.28 1016.82 1448.74 Q1015.01 1445.17 1011.38 1445.17 M1011.38 1441.47 Q1017.19 1441.47 1020.24 1446.07 Q1023.32 1450.66 1023.32 1459.41 Q1023.32 1468.13 1020.24 1472.74 Q1017.19 1477.32 1011.38 1477.32 Q1005.57 1477.32 1002.49 1472.74 Q999.432 1468.13 999.432 1459.41 Q999.432 1450.66 1002.49 1446.07 Q1005.57 1441.47 1011.38 1441.47 Z\" fill=\"#000000\" fill-rule=\"evenodd\" fill-opacity=\"1\" /><path clip-path=\"url(#clip3900)\" d=\"M 0 0 M1028.39 1470.77 L1033.27 1470.77 L1033.27 1476.65 L1028.39 1476.65 L1028.39 1470.77 Z\" fill=\"#000000\" fill-rule=\"evenodd\" fill-opacity=\"1\" /><path clip-path=\"url(#clip3900)\" d=\"M 0 0 M1051.19 1446.17 L1039.39 1464.61 L1051.19 1464.61 L1051.19 1446.17 M1049.96 1442.09 L1055.84 1442.09 L1055.84 1464.61 L1060.77 1464.61 L1060.77 1468.5 L1055.84 1468.5 L1055.84 1476.65 L1051.19 1476.65 L1051.19 1468.5 L1035.59 1468.5 L1035.59 1463.99 L1049.96 1442.09 Z\" fill=\"#000000\" fill-rule=\"evenodd\" fill-opacity=\"1\" /><path clip-path=\"url(#clip3900)\" d=\"M 0 0 M1452.42 1445.17 Q1448.81 1445.17 1446.98 1448.74 Q1445.18 1452.28 1445.18 1459.41 Q1445.18 1466.51 1446.98 1470.08 Q1448.81 1473.62 1452.42 1473.62 Q1456.06 1473.62 1457.86 1470.08 Q1459.69 1466.51 1459.69 1459.41 Q1459.69 1452.28 1457.86 1448.74 Q1456.06 1445.17 1452.42 1445.17 M1452.42 1441.47 Q1458.23 1441.47 1461.29 1446.07 Q1464.37 1450.66 1464.37 1459.41 Q1464.37 1468.13 1461.29 1472.74 Q1458.23 1477.32 1452.42 1477.32 Q1446.61 1477.32 1443.53 1472.74 Q1440.48 1468.13 1440.48 1459.41 Q1440.48 1450.66 1443.53 1446.07 Q1446.61 1441.47 1452.42 1441.47 Z\" fill=\"#000000\" fill-rule=\"evenodd\" fill-opacity=\"1\" /><path clip-path=\"url(#clip3900)\" d=\"M 0 0 M1469.44 1470.77 L1474.32 1470.77 L1474.32 1476.65 L1469.44 1476.65 L1469.44 1470.77 Z\" fill=\"#000000\" fill-rule=\"evenodd\" fill-opacity=\"1\" /><path clip-path=\"url(#clip3900)\" d=\"M 0 0 M1489.97 1457.51 Q1486.82 1457.51 1484.97 1459.66 Q1483.14 1461.81 1483.14 1465.56 Q1483.14 1469.29 1484.97 1471.47 Q1486.82 1473.62 1489.97 1473.62 Q1493.12 1473.62 1494.95 1471.47 Q1496.8 1469.29 1496.8 1465.56 Q1496.8 1461.81 1494.95 1459.66 Q1493.12 1457.51 1489.97 1457.51 M1499.25 1442.86 L1499.25 1447.11 Q1497.49 1446.28 1495.69 1445.84 Q1493.9 1445.4 1492.14 1445.4 Q1487.51 1445.4 1485.06 1448.53 Q1482.63 1451.65 1482.28 1457.97 Q1483.65 1455.96 1485.71 1454.89 Q1487.77 1453.8 1490.25 1453.8 Q1495.45 1453.8 1498.46 1456.98 Q1501.5 1460.12 1501.5 1465.56 Q1501.5 1470.89 1498.35 1474.11 Q1495.2 1477.32 1489.97 1477.32 Q1483.97 1477.32 1480.8 1472.74 Q1477.63 1468.13 1477.63 1459.41 Q1477.63 1451.21 1481.52 1446.35 Q1485.41 1441.47 1491.96 1441.47 Q1493.72 1441.47 1495.5 1441.81 Q1497.31 1442.16 1499.25 1442.86 Z\" fill=\"#000000\" fill-rule=\"evenodd\" fill-opacity=\"1\" /><path clip-path=\"url(#clip3900)\" d=\"M 0 0 M1893.43 1445.17 Q1889.82 1445.17 1887.99 1448.74 Q1886.19 1452.28 1886.19 1459.41 Q1886.19 1466.51 1887.99 1470.08 Q1889.82 1473.62 1893.43 1473.62 Q1897.07 1473.62 1898.87 1470.08 Q1900.7 1466.51 1900.7 1459.41 Q1900.7 1452.28 1898.87 1448.74 Q1897.07 1445.17 1893.43 1445.17 M1893.43 1441.47 Q1899.24 1441.47 1902.3 1446.07 Q1905.38 1450.66 1905.38 1459.41 Q1905.38 1468.13 1902.3 1472.74 Q1899.24 1477.32 1893.43 1477.32 Q1887.62 1477.32 1884.55 1472.74 Q1881.49 1468.13 1881.49 1459.41 Q1881.49 1450.66 1884.55 1446.07 Q1887.62 1441.47 1893.43 1441.47 Z\" fill=\"#000000\" fill-rule=\"evenodd\" fill-opacity=\"1\" /><path clip-path=\"url(#clip3900)\" d=\"M 0 0 M1910.45 1470.77 L1915.33 1470.77 L1915.33 1476.65 L1910.45 1476.65 L1910.45 1470.77 Z\" fill=\"#000000\" fill-rule=\"evenodd\" fill-opacity=\"1\" /><path clip-path=\"url(#clip3900)\" d=\"M 0 0 M1930.4 1460.24 Q1927.07 1460.24 1925.15 1462.02 Q1923.25 1463.8 1923.25 1466.93 Q1923.25 1470.05 1925.15 1471.84 Q1927.07 1473.62 1930.4 1473.62 Q1933.73 1473.62 1935.66 1471.84 Q1937.58 1470.03 1937.58 1466.93 Q1937.58 1463.8 1935.66 1462.02 Q1933.76 1460.24 1930.4 1460.24 M1925.73 1458.25 Q1922.72 1457.51 1921.03 1455.45 Q1919.36 1453.39 1919.36 1450.43 Q1919.36 1446.28 1922.3 1443.87 Q1925.26 1441.47 1930.4 1441.47 Q1935.56 1441.47 1938.5 1443.87 Q1941.44 1446.28 1941.44 1450.43 Q1941.44 1453.39 1939.75 1455.45 Q1938.09 1457.51 1935.1 1458.25 Q1938.48 1459.04 1940.36 1461.33 Q1942.25 1463.62 1942.25 1466.93 Q1942.25 1471.95 1939.17 1474.64 Q1936.12 1477.32 1930.4 1477.32 Q1924.68 1477.32 1921.61 1474.64 Q1918.55 1471.95 1918.55 1466.93 Q1918.55 1463.62 1920.45 1461.33 Q1922.35 1459.04 1925.73 1458.25 M1924.01 1450.86 Q1924.01 1453.55 1925.68 1455.05 Q1927.37 1456.56 1930.4 1456.56 Q1933.41 1456.56 1935.1 1455.05 Q1936.81 1453.55 1936.81 1450.86 Q1936.81 1448.18 1935.1 1446.68 Q1933.41 1445.17 1930.4 1445.17 Q1927.37 1445.17 1925.68 1446.68 Q1924.01 1448.18 1924.01 1450.86 Z\" fill=\"#000000\" fill-rule=\"evenodd\" fill-opacity=\"1\" /><path clip-path=\"url(#clip3900)\" d=\"M 0 0 M2324.65 1472.72 L2332.29 1472.72 L2332.29 1446.35 L2323.98 1448.02 L2323.98 1443.76 L2332.25 1442.09 L2336.92 1442.09 L2336.92 1472.72 L2344.56 1472.72 L2344.56 1476.65 L2324.65 1476.65 L2324.65 1472.72 Z\" fill=\"#000000\" fill-rule=\"evenodd\" fill-opacity=\"1\" /><path clip-path=\"url(#clip3900)\" d=\"M 0 0 M2349.63 1470.77 L2354.52 1470.77 L2354.52 1476.65 L2349.63 1476.65 L2349.63 1470.77 Z\" fill=\"#000000\" fill-rule=\"evenodd\" fill-opacity=\"1\" /><path clip-path=\"url(#clip3900)\" d=\"M 0 0 M2369.58 1445.17 Q2365.97 1445.17 2364.14 1448.74 Q2362.34 1452.28 2362.34 1459.41 Q2362.34 1466.51 2364.14 1470.08 Q2365.97 1473.62 2369.58 1473.62 Q2373.22 1473.62 2375.02 1470.08 Q2376.85 1466.51 2376.85 1459.41 Q2376.85 1452.28 2375.02 1448.74 Q2373.22 1445.17 2369.58 1445.17 M2369.58 1441.47 Q2375.39 1441.47 2378.45 1446.07 Q2381.53 1450.66 2381.53 1459.41 Q2381.53 1468.13 2378.45 1472.74 Q2375.39 1477.32 2369.58 1477.32 Q2363.77 1477.32 2360.7 1472.74 Q2357.64 1468.13 2357.64 1459.41 Q2357.64 1450.66 2360.7 1446.07 Q2363.77 1441.47 2369.58 1441.47 Z\" fill=\"#000000\" fill-rule=\"evenodd\" fill-opacity=\"1\" /><path clip-path=\"url(#clip3900)\" d=\"M 0 0 M74.9365 1291.05 Q71.3254 1291.05 69.4967 1294.62 Q67.6912 1298.16 67.6912 1305.29 Q67.6912 1312.4 69.4967 1315.96 Q71.3254 1319.5 74.9365 1319.5 Q78.5707 1319.5 80.3763 1315.96 Q82.205 1312.4 82.205 1305.29 Q82.205 1298.16 80.3763 1294.62 Q78.5707 1291.05 74.9365 1291.05 M74.9365 1287.35 Q80.7467 1287.35 83.8022 1291.96 Q86.8809 1296.54 86.8809 1305.29 Q86.8809 1314.02 83.8022 1318.62 Q80.7467 1323.21 74.9365 1323.21 Q69.1264 1323.21 66.0477 1318.62 Q62.9921 1314.02 62.9921 1305.29 Q62.9921 1296.54 66.0477 1291.96 Q69.1264 1287.35 74.9365 1287.35 Z\" fill=\"#000000\" fill-rule=\"evenodd\" fill-opacity=\"1\" /><path clip-path=\"url(#clip3900)\" d=\"M 0 0 M91.9503 1316.66 L96.8345 1316.66 L96.8345 1322.54 L91.9503 1322.54 L91.9503 1316.66 Z\" fill=\"#000000\" fill-rule=\"evenodd\" fill-opacity=\"1\" /><path clip-path=\"url(#clip3900)\" d=\"M 0 0 M114.751 1292.05 L102.946 1310.5 L114.751 1310.5 L114.751 1292.05 M113.524 1287.98 L119.404 1287.98 L119.404 1310.5 L124.334 1310.5 L124.334 1314.39 L119.404 1314.39 L119.404 1322.54 L114.751 1322.54 L114.751 1314.39 L99.1493 1314.39 L99.1493 1309.87 L113.524 1287.98 Z\" fill=\"#000000\" fill-rule=\"evenodd\" fill-opacity=\"1\" /><path clip-path=\"url(#clip3900)\" d=\"M 0 0 M76.418 1087.88 Q72.8069 1087.88 70.9782 1091.44 Q69.1726 1094.98 69.1726 1102.11 Q69.1726 1109.22 70.9782 1112.78 Q72.8069 1116.33 76.418 1116.33 Q80.0522 1116.33 81.8578 1112.78 Q83.6865 1109.22 83.6865 1102.11 Q83.6865 1094.98 81.8578 1091.44 Q80.0522 1087.88 76.418 1087.88 M76.418 1084.17 Q82.2281 1084.17 85.2837 1088.78 Q88.3624 1093.36 88.3624 1102.11 Q88.3624 1110.84 85.2837 1115.45 Q82.2281 1120.03 76.418 1120.03 Q70.6078 1120.03 67.5291 1115.45 Q64.4736 1110.84 64.4736 1102.11 Q64.4736 1093.36 67.5291 1088.78 Q70.6078 1084.17 76.418 1084.17 Z\" fill=\"#000000\" fill-rule=\"evenodd\" fill-opacity=\"1\" /><path clip-path=\"url(#clip3900)\" d=\"M 0 0 M93.4318 1113.48 L98.316 1113.48 L98.316 1119.36 L93.4318 1119.36 L93.4318 1113.48 Z\" fill=\"#000000\" fill-rule=\"evenodd\" fill-opacity=\"1\" /><path clip-path=\"url(#clip3900)\" d=\"M 0 0 M103.432 1084.8 L121.788 1084.8 L121.788 1088.73 L107.714 1088.73 L107.714 1097.21 Q108.733 1096.86 109.751 1096.7 Q110.77 1096.51 111.788 1096.51 Q117.575 1096.51 120.955 1099.68 Q124.334 1102.85 124.334 1108.27 Q124.334 1113.85 120.862 1116.95 Q117.39 1120.03 111.071 1120.03 Q108.895 1120.03 106.626 1119.66 Q104.381 1119.29 101.973 1118.55 L101.973 1113.85 Q104.057 1114.98 106.279 1115.54 Q108.501 1116.09 110.978 1116.09 Q114.983 1116.09 117.321 1113.99 Q119.658 1111.88 119.658 1108.27 Q119.658 1104.66 117.321 1102.55 Q114.983 1100.45 110.978 1100.45 Q109.103 1100.45 107.228 1100.86 Q105.376 1101.28 103.432 1102.16 L103.432 1084.8 Z\" fill=\"#000000\" fill-rule=\"evenodd\" fill-opacity=\"1\" /><path clip-path=\"url(#clip3900)\" d=\"M 0 0 M75.2606 884.698 Q71.6495 884.698 69.8208 888.263 Q68.0152 891.804 68.0152 898.934 Q68.0152 906.04 69.8208 909.605 Q71.6495 913.147 75.2606 913.147 Q78.8948 913.147 80.7004 909.605 Q82.5291 906.04 82.5291 898.934 Q82.5291 891.804 80.7004 888.263 Q78.8948 884.698 75.2606 884.698 M75.2606 880.994 Q81.0707 880.994 84.1263 885.601 Q87.205 890.184 87.205 898.934 Q87.205 907.661 84.1263 912.267 Q81.0707 916.851 75.2606 916.851 Q69.4504 916.851 66.3717 912.267 Q63.3162 907.661 63.3162 898.934 Q63.3162 890.184 66.3717 885.601 Q69.4504 880.994 75.2606 880.994 Z\" fill=\"#000000\" fill-rule=\"evenodd\" fill-opacity=\"1\" /><path clip-path=\"url(#clip3900)\" d=\"M 0 0 M92.2744 910.3 L97.1586 910.3 L97.1586 916.179 L92.2744 916.179 L92.2744 910.3 Z\" fill=\"#000000\" fill-rule=\"evenodd\" fill-opacity=\"1\" /><path clip-path=\"url(#clip3900)\" d=\"M 0 0 M112.807 897.036 Q109.659 897.036 107.807 899.189 Q105.978 901.341 105.978 905.091 Q105.978 908.818 107.807 910.994 Q109.659 913.147 112.807 913.147 Q115.955 913.147 117.783 910.994 Q119.635 908.818 119.635 905.091 Q119.635 901.341 117.783 899.189 Q115.955 897.036 112.807 897.036 M122.089 882.383 L122.089 886.642 Q120.33 885.809 118.524 885.369 Q116.742 884.929 114.983 884.929 Q110.353 884.929 107.899 888.054 Q105.469 891.179 105.122 897.499 Q106.487 895.485 108.547 894.42 Q110.608 893.332 113.084 893.332 Q118.293 893.332 121.302 896.504 Q124.334 899.652 124.334 905.091 Q124.334 910.415 121.186 913.633 Q118.038 916.851 112.807 916.851 Q106.811 916.851 103.64 912.267 Q100.469 907.661 100.469 898.934 Q100.469 890.74 104.358 885.879 Q108.247 880.994 114.797 880.994 Q116.557 880.994 118.339 881.342 Q120.145 881.689 122.089 882.383 Z\" fill=\"#000000\" fill-rule=\"evenodd\" fill-opacity=\"1\" /><path clip-path=\"url(#clip3900)\" d=\"M 0 0 M76.3254 681.52 Q72.7143 681.52 70.8856 685.084 Q69.0801 688.626 69.0801 695.756 Q69.0801 702.862 70.8856 706.427 Q72.7143 709.969 76.3254 709.969 Q79.9596 709.969 81.7652 706.427 Q83.5939 702.862 83.5939 695.756 Q83.5939 688.626 81.7652 685.084 Q79.9596 681.52 76.3254 681.52 M76.3254 677.816 Q82.1355 677.816 85.1911 682.422 Q88.2698 687.006 88.2698 695.756 Q88.2698 704.482 85.1911 709.089 Q82.1355 713.672 76.3254 713.672 Q70.5152 713.672 67.4365 709.089 Q64.381 704.482 64.381 695.756 Q64.381 687.006 67.4365 682.422 Q70.5152 677.816 76.3254 677.816 Z\" fill=\"#000000\" fill-rule=\"evenodd\" fill-opacity=\"1\" /><path clip-path=\"url(#clip3900)\" d=\"M 0 0 M93.3392 707.121 L98.2234 707.121 L98.2234 713.001 L93.3392 713.001 L93.3392 707.121 Z\" fill=\"#000000\" fill-rule=\"evenodd\" fill-opacity=\"1\" /><path clip-path=\"url(#clip3900)\" d=\"M 0 0 M102.112 678.441 L124.334 678.441 L124.334 680.432 L111.788 713.001 L106.904 713.001 L118.709 682.376 L102.112 682.376 L102.112 678.441 Z\" fill=\"#000000\" fill-rule=\"evenodd\" fill-opacity=\"1\" /><path clip-path=\"url(#clip3900)\" d=\"M 0 0 M75.5152 478.341 Q71.9041 478.341 70.0754 481.906 Q68.2699 485.448 68.2699 492.577 Q68.2699 499.684 70.0754 503.248 Q71.9041 506.79 75.5152 506.79 Q79.1494 506.79 80.955 503.248 Q82.7837 499.684 82.7837 492.577 Q82.7837 485.448 80.955 481.906 Q79.1494 478.341 75.5152 478.341 M75.5152 474.638 Q81.3254 474.638 84.3809 479.244 Q87.4596 483.827 87.4596 492.577 Q87.4596 501.304 84.3809 505.91 Q81.3254 510.494 75.5152 510.494 Q69.7051 510.494 66.6264 505.91 Q63.5708 501.304 63.5708 492.577 Q63.5708 483.827 66.6264 479.244 Q69.7051 474.638 75.5152 474.638 Z\" fill=\"#000000\" fill-rule=\"evenodd\" fill-opacity=\"1\" /><path clip-path=\"url(#clip3900)\" d=\"M 0 0 M92.529 503.943 L97.4132 503.943 L97.4132 509.822 L92.529 509.822 L92.529 503.943 Z\" fill=\"#000000\" fill-rule=\"evenodd\" fill-opacity=\"1\" /><path clip-path=\"url(#clip3900)\" d=\"M 0 0 M112.483 493.411 Q109.149 493.411 107.228 495.193 Q105.33 496.975 105.33 500.1 Q105.33 503.225 107.228 505.008 Q109.149 506.79 112.483 506.79 Q115.816 506.79 117.737 505.008 Q119.658 503.202 119.658 500.1 Q119.658 496.975 117.737 495.193 Q115.839 493.411 112.483 493.411 M107.807 491.42 Q104.797 490.679 103.108 488.619 Q101.441 486.559 101.441 483.596 Q101.441 479.452 104.381 477.045 Q107.344 474.638 112.483 474.638 Q117.645 474.638 120.584 477.045 Q123.524 479.452 123.524 483.596 Q123.524 486.559 121.834 488.619 Q120.168 490.679 117.182 491.42 Q120.561 492.207 122.436 494.499 Q124.334 496.79 124.334 500.1 Q124.334 505.123 121.256 507.809 Q118.2 510.494 112.483 510.494 Q106.765 510.494 103.686 507.809 Q100.631 505.123 100.631 500.1 Q100.631 496.79 102.529 494.499 Q104.427 492.207 107.807 491.42 M106.094 484.036 Q106.094 486.721 107.76 488.225 Q109.45 489.73 112.483 489.73 Q115.492 489.73 117.182 488.225 Q118.895 486.721 118.895 484.036 Q118.895 481.35 117.182 479.846 Q115.492 478.341 112.483 478.341 Q109.45 478.341 107.76 479.846 Q106.094 481.35 106.094 484.036 Z\" fill=\"#000000\" fill-rule=\"evenodd\" fill-opacity=\"1\" /><path clip-path=\"url(#clip3900)\" d=\"M 0 0 M75.6078 275.163 Q71.9967 275.163 70.168 278.728 Q68.3625 282.269 68.3625 289.399 Q68.3625 296.505 70.168 300.07 Q71.9967 303.612 75.6078 303.612 Q79.242 303.612 81.0476 300.07 Q82.8763 296.505 82.8763 289.399 Q82.8763 282.269 81.0476 278.728 Q79.242 275.163 75.6078 275.163 M75.6078 271.459 Q81.418 271.459 84.4735 276.066 Q87.5522 280.649 87.5522 289.399 Q87.5522 298.126 84.4735 302.732 Q81.418 307.315 75.6078 307.315 Q69.7976 307.315 66.719 302.732 Q63.6634 298.126 63.6634 289.399 Q63.6634 280.649 66.719 276.066 Q69.7976 271.459 75.6078 271.459 Z\" fill=\"#000000\" fill-rule=\"evenodd\" fill-opacity=\"1\" /><path clip-path=\"url(#clip3900)\" d=\"M 0 0 M92.6216 300.764 L97.5058 300.764 L97.5058 306.644 L92.6216 306.644 L92.6216 300.764 Z\" fill=\"#000000\" fill-rule=\"evenodd\" fill-opacity=\"1\" /><path clip-path=\"url(#clip3900)\" d=\"M 0 0 M102.714 305.926 L102.714 301.667 Q104.473 302.501 106.279 302.94 Q108.084 303.38 109.821 303.38 Q114.45 303.38 116.881 300.278 Q119.334 297.153 119.682 290.811 Q118.339 292.802 116.279 293.866 Q114.219 294.931 111.719 294.931 Q106.534 294.931 103.501 291.806 Q100.492 288.658 100.492 283.218 Q100.492 277.894 103.64 274.677 Q106.788 271.459 112.02 271.459 Q118.015 271.459 121.163 276.066 Q124.334 280.649 124.334 289.399 Q124.334 297.57 120.446 302.454 Q116.58 307.315 110.029 307.315 Q108.27 307.315 106.464 306.968 Q104.659 306.621 102.714 305.926 M112.02 291.274 Q115.168 291.274 116.996 289.121 Q118.848 286.968 118.848 283.218 Q118.848 279.491 116.996 277.339 Q115.168 275.163 112.02 275.163 Q108.872 275.163 107.02 277.339 Q105.191 279.491 105.191 283.218 Q105.191 286.968 107.02 289.121 Q108.872 291.274 112.02 291.274 Z\" fill=\"#000000\" fill-rule=\"evenodd\" fill-opacity=\"1\" /><path clip-path=\"url(#clip3900)\" d=\"M 0 0 M67.4597 99.5305 L75.0985 99.5305 L75.0985 73.1649 L66.7884 74.8316 L66.7884 70.5723 L75.0522 68.9057 L79.7281 68.9057 L79.7281 99.5305 L87.367 99.5305 L87.367 103.466 L67.4597 103.466 L67.4597 99.5305 Z\" fill=\"#000000\" fill-rule=\"evenodd\" fill-opacity=\"1\" /><path clip-path=\"url(#clip3900)\" d=\"M 0 0 M92.4364 97.5861 L97.3206 97.5861 L97.3206 103.466 L92.4364 103.466 L92.4364 97.5861 Z\" fill=\"#000000\" fill-rule=\"evenodd\" fill-opacity=\"1\" /><path clip-path=\"url(#clip3900)\" d=\"M 0 0 M112.39 71.9844 Q108.779 71.9844 106.95 75.5492 Q105.145 79.0908 105.145 86.2204 Q105.145 93.3268 106.95 96.8916 Q108.779 100.433 112.39 100.433 Q116.024 100.433 117.83 96.8916 Q119.658 93.3268 119.658 86.2204 Q119.658 79.0908 117.83 75.5492 Q116.024 71.9844 112.39 71.9844 M112.39 68.2807 Q118.2 68.2807 121.256 72.8871 Q124.334 77.4704 124.334 86.2204 Q124.334 94.9472 121.256 99.5537 Q118.2 104.137 112.39 104.137 Q106.58 104.137 103.501 99.5537 Q100.446 94.9472 100.446 86.2204 Q100.446 77.4704 103.501 72.8871 Q106.58 68.2807 112.39 68.2807 Z\" fill=\"#000000\" fill-rule=\"evenodd\" fill-opacity=\"1\" /><path clip-path=\"url(#clip3900)\" d=\"M 0 0 M1249.61 1510.27 L1249.61 1520.4 L1261.67 1520.4 L1261.67 1524.95 L1249.61 1524.95 L1249.61 1544.3 Q1249.61 1548.66 1250.78 1549.9 Q1251.99 1551.14 1255.65 1551.14 L1261.67 1551.14 L1261.67 1556.04 L1255.65 1556.04 Q1248.87 1556.04 1246.3 1553.53 Q1243.72 1550.98 1243.72 1544.3 L1243.72 1524.95 L1239.42 1524.95 L1239.42 1520.4 L1243.72 1520.4 L1243.72 1510.27 L1249.61 1510.27 Z\" fill=\"#000000\" fill-rule=\"evenodd\" fill-opacity=\"1\" /><polyline clip-path=\"url(#clip3902)\" style=\"stroke:#009af9; stroke-width:8; stroke-opacity:1; fill:none\" points=\"\n",
       "  148.334,86.1857 192.423,125.084 236.511,163.361 280.6,201.021 324.688,238.067 368.777,274.504 412.865,310.337 456.953,345.571 501.042,380.211 545.13,414.261 \n",
       "  589.219,447.729 633.307,480.618 677.396,512.935 721.484,544.685 765.572,575.876 809.661,606.511 853.749,636.6 897.838,666.146 941.926,695.158 986.015,723.641 \n",
       "  1030.1,751.603 1074.19,779.05 1118.28,805.989 1162.37,832.428 1206.46,858.373 1250.55,883.832 1294.63,908.812 1338.72,933.32 1382.81,957.364 1426.9,980.951 \n",
       "  1470.99,1004.09 1515.08,1026.79 1559.16,1049.05 1603.25,1070.88 1647.34,1092.3 1691.43,1113.31 1735.52,1133.91 1779.61,1154.11 1823.69,1173.93 1867.78,1193.37 \n",
       "  1911.87,1212.43 1955.96,1231.13 2000.05,1249.47 2044.14,1267.46 2088.23,1285.11 2132.31,1302.43 2176.4,1319.41 2220.49,1336.08 2264.58,1352.44 2308.67,1368.49 \n",
       "  2352.76,1384.24 \n",
       "  \"/>\n",
       "<polyline clip-path=\"url(#clip3902)\" style=\"stroke:#e26f46; stroke-width:8; stroke-opacity:1; fill:none\" points=\"\n",
       "  148.334,86.1857 192.423,126.005 236.511,165.146 280.6,203.612 324.688,241.41 368.777,278.543 412.865,315.019 456.953,350.841 501.042,386.017 545.13,420.551 \n",
       "  589.219,454.451 633.307,487.722 677.396,520.371 721.484,552.405 765.572,583.83 809.661,614.654 853.749,644.884 897.838,674.526 941.926,703.588 986.015,732.079 \n",
       "  1030.1,760.004 1074.19,787.372 1118.28,814.191 1162.37,840.468 1206.46,866.212 1250.55,891.431 1294.63,916.132 1338.72,940.324 1382.81,964.014 1426.9,987.213 \n",
       "  1470.99,1009.93 1515.08,1032.16 1559.16,1053.93 1603.25,1075.24 1647.34,1096.1 1691.43,1116.52 1735.52,1136.5 1779.61,1156.06 1823.69,1175.2 1867.78,1193.93 \n",
       "  1911.87,1212.26 1955.96,1230.2 2000.05,1247.75 2044.14,1264.93 2088.23,1281.74 2132.31,1298.19 2176.4,1314.3 2220.49,1330.05 2264.58,1345.48 2308.67,1360.58 \n",
       "  2352.76,1375.36 \n",
       "  \"/>\n",
       "<polyline clip-path=\"url(#clip3902)\" style=\"stroke:#3da44d; stroke-width:8; stroke-opacity:1; fill:none\" stroke-dasharray=\"32, 20\" points=\"\n",
       "  148.334,86.1857 192.423,126.418 236.511,165.853 280.6,204.508 324.688,242.397 368.777,279.535 412.865,315.939 456.953,351.622 501.042,386.598 545.13,420.881 \n",
       "  589.219,454.486 633.307,487.425 677.396,519.712 721.484,551.359 765.572,582.38 809.661,612.787 853.749,642.592 897.838,671.806 941.926,700.442 986.015,728.511 \n",
       "  1030.1,756.024 1074.19,782.993 1118.28,809.427 1162.37,835.338 1206.46,860.735 1250.55,885.63 1294.63,910.032 1338.72,933.951 1382.81,957.396 1426.9,980.377 \n",
       "  1470.99,1002.9 1515.08,1024.98 1559.16,1046.63 1603.25,1067.84 1647.34,1088.63 1691.43,1109.02 1735.52,1128.99 1779.61,1148.58 1823.69,1167.77 1867.78,1186.59 \n",
       "  1911.87,1205.03 1955.96,1223.11 2000.05,1240.83 2044.14,1258.2 2088.23,1275.22 2132.31,1291.91 2176.4,1308.27 2220.49,1324.3 2264.58,1340.01 2308.67,1355.42 \n",
       "  2352.76,1370.52 \n",
       "  \"/>\n",
       "<path clip-path=\"url(#clip3900)\" d=\"\n",
       "M1926.66 372.684 L2280.76 372.684 L2280.76 130.764 L1926.66 130.764  Z\n",
       "  \" fill=\"#ffffff\" fill-rule=\"evenodd\" fill-opacity=\"1\"/>\n",
       "<polyline clip-path=\"url(#clip3900)\" style=\"stroke:#000000; stroke-width:4; stroke-opacity:1; fill:none\" points=\"\n",
       "  1926.66,372.684 2280.76,372.684 2280.76,130.764 1926.66,130.764 1926.66,372.684 \n",
       "  \"/>\n",
       "<polyline clip-path=\"url(#clip3900)\" style=\"stroke:#009af9; stroke-width:8; stroke-opacity:1; fill:none\" points=\"\n",
       "  1950.66,191.244 2094.66,191.244 \n",
       "  \"/>\n",
       "<path clip-path=\"url(#clip3900)\" d=\"M 0 0 M2118.66 198.293 L2118.66 182.598 L2122.92 182.598 L2122.92 198.131 Q2122.92 201.811 2124.35 203.663 Q2125.79 205.492 2128.66 205.492 Q2132.11 205.492 2134.1 203.293 Q2136.11 201.094 2136.11 197.297 L2136.11 182.598 L2140.37 182.598 L2140.37 208.524 L2136.11 208.524 L2136.11 204.543 Q2134.56 206.904 2132.5 208.061 Q2130.46 209.195 2127.76 209.195 Q2123.29 209.195 2120.97 206.418 Q2118.66 203.64 2118.66 198.293 M2129.38 181.973 L2129.38 181.973 Z\" fill=\"#000000\" fill-rule=\"evenodd\" fill-opacity=\"1\" /><path clip-path=\"url(#clip3900)\" d=\"M 0 0 M2146.25 204.589 L2153.89 204.589 L2153.89 178.223 L2145.58 179.89 L2145.58 175.631 L2153.84 173.964 L2158.52 173.964 L2158.52 204.589 L2166.16 204.589 L2166.16 208.524 L2146.25 208.524 L2146.25 204.589 Z\" fill=\"#000000\" fill-rule=\"evenodd\" fill-opacity=\"1\" /><path clip-path=\"url(#clip3900)\" d=\"M 0 0 M2180.86 172.552 Q2177.76 177.876 2176.25 183.084 Q2174.75 188.293 2174.75 193.64 Q2174.75 198.987 2176.25 204.242 Q2177.78 209.473 2180.86 214.774 L2177.15 214.774 Q2173.68 209.334 2171.95 204.08 Q2170.23 198.825 2170.23 193.64 Q2170.23 188.478 2171.95 183.246 Q2173.66 178.015 2177.15 172.552 L2180.86 172.552 Z\" fill=\"#000000\" fill-rule=\"evenodd\" fill-opacity=\"1\" /><path clip-path=\"url(#clip3900)\" d=\"M 0 0 M2189.54 175.237 L2189.54 182.598 L2198.31 182.598 L2198.31 185.908 L2189.54 185.908 L2189.54 199.982 Q2189.54 203.154 2190.4 204.057 Q2191.27 204.959 2193.94 204.959 L2198.31 204.959 L2198.31 208.524 L2193.94 208.524 Q2189.01 208.524 2187.13 206.695 Q2185.26 204.844 2185.26 199.982 L2185.26 185.908 L2182.13 185.908 L2182.13 182.598 L2185.26 182.598 L2185.26 175.237 L2189.54 175.237 Z\" fill=\"#000000\" fill-rule=\"evenodd\" fill-opacity=\"1\" /><path clip-path=\"url(#clip3900)\" d=\"M 0 0 M2202.11 172.552 L2205.81 172.552 Q2209.28 178.015 2211 183.246 Q2212.73 188.478 2212.73 193.64 Q2212.73 198.825 2211 204.08 Q2209.28 209.334 2205.81 214.774 L2202.11 214.774 Q2205.19 209.473 2206.69 204.242 Q2208.22 198.987 2208.22 193.64 Q2208.22 188.293 2206.69 183.084 Q2205.19 177.876 2202.11 172.552 Z\" fill=\"#000000\" fill-rule=\"evenodd\" fill-opacity=\"1\" /><polyline clip-path=\"url(#clip3900)\" style=\"stroke:#e26f46; stroke-width:8; stroke-opacity:1; fill:none\" points=\"\n",
       "  1950.66,251.724 2094.66,251.724 \n",
       "  \"/>\n",
       "<path clip-path=\"url(#clip3900)\" d=\"M 0 0 M2118.66 258.773 L2118.66 243.078 L2122.92 243.078 L2122.92 258.611 Q2122.92 262.291 2124.35 264.143 Q2125.79 265.972 2128.66 265.972 Q2132.11 265.972 2134.1 263.773 Q2136.11 261.574 2136.11 257.777 L2136.11 243.078 L2140.37 243.078 L2140.37 269.004 L2136.11 269.004 L2136.11 265.023 Q2134.56 267.384 2132.5 268.541 Q2130.46 269.675 2127.76 269.675 Q2123.29 269.675 2120.97 266.898 Q2118.66 264.12 2118.66 258.773 M2129.38 242.453 L2129.38 242.453 Z\" fill=\"#000000\" fill-rule=\"evenodd\" fill-opacity=\"1\" /><path clip-path=\"url(#clip3900)\" d=\"M 0 0 M2149.47 265.069 L2165.79 265.069 L2165.79 269.004 L2143.84 269.004 L2143.84 265.069 Q2146.51 262.314 2151.09 257.685 Q2155.7 253.032 2156.88 251.689 Q2159.12 249.166 2160 247.43 Q2160.9 245.671 2160.9 243.981 Q2160.9 241.226 2158.96 239.49 Q2157.04 237.754 2153.94 237.754 Q2151.74 237.754 2149.28 238.518 Q2146.85 239.282 2144.08 240.833 L2144.08 236.111 Q2146.9 234.976 2149.35 234.398 Q2151.81 233.819 2153.84 233.819 Q2159.21 233.819 2162.41 236.504 Q2165.6 239.189 2165.6 243.68 Q2165.6 245.81 2164.79 247.731 Q2164.01 249.629 2161.9 252.222 Q2161.32 252.893 2158.22 256.111 Q2155.12 259.305 2149.47 265.069 Z\" fill=\"#000000\" fill-rule=\"evenodd\" fill-opacity=\"1\" /><path clip-path=\"url(#clip3900)\" d=\"M 0 0 M2180.49 233.032 Q2177.39 238.356 2175.88 243.564 Q2174.38 248.773 2174.38 254.12 Q2174.38 259.467 2175.88 264.722 Q2177.41 269.953 2180.49 275.254 L2176.78 275.254 Q2173.31 269.814 2171.58 264.56 Q2169.86 259.305 2169.86 254.12 Q2169.86 248.958 2171.58 243.726 Q2173.29 238.495 2176.78 233.032 L2180.49 233.032 Z\" fill=\"#000000\" fill-rule=\"evenodd\" fill-opacity=\"1\" /><path clip-path=\"url(#clip3900)\" d=\"M 0 0 M2189.17 235.717 L2189.17 243.078 L2197.94 243.078 L2197.94 246.388 L2189.17 246.388 L2189.17 260.462 Q2189.17 263.634 2190.02 264.537 Q2190.9 265.439 2193.57 265.439 L2197.94 265.439 L2197.94 269.004 L2193.57 269.004 Q2188.64 269.004 2186.76 267.175 Q2184.89 265.324 2184.89 260.462 L2184.89 246.388 L2181.76 246.388 L2181.76 243.078 L2184.89 243.078 L2184.89 235.717 L2189.17 235.717 Z\" fill=\"#000000\" fill-rule=\"evenodd\" fill-opacity=\"1\" /><path clip-path=\"url(#clip3900)\" d=\"M 0 0 M2201.74 233.032 L2205.44 233.032 Q2208.91 238.495 2210.63 243.726 Q2212.36 248.958 2212.36 254.12 Q2212.36 259.305 2210.63 264.56 Q2208.91 269.814 2205.44 275.254 L2201.74 275.254 Q2204.82 269.953 2206.32 264.722 Q2207.85 259.467 2207.85 254.12 Q2207.85 248.773 2206.32 243.564 Q2204.82 238.356 2201.74 233.032 Z\" fill=\"#000000\" fill-rule=\"evenodd\" fill-opacity=\"1\" /><polyline clip-path=\"url(#clip3900)\" style=\"stroke:#3da44d; stroke-width:8; stroke-opacity:1; fill:none\" stroke-dasharray=\"32, 20\" points=\"\n",
       "  1950.66,312.204 2094.66,312.204 \n",
       "  \"/>\n",
       "<path clip-path=\"url(#clip3900)\" d=\"M 0 0 M2118.66 294.924 L2140.51 294.924 L2140.51 298.859 L2123.34 298.859 L2123.34 309.091 L2139.79 309.091 L2139.79 313.026 L2123.34 313.026 L2123.34 325.549 L2140.93 325.549 L2140.93 329.484 L2118.66 329.484 L2118.66 294.924 Z\" fill=\"#000000\" fill-rule=\"evenodd\" fill-opacity=\"1\" /><path clip-path=\"url(#clip3900)\" d=\"M 0 0 M2166.95 303.558 L2157.57 316.174 L2167.43 329.484 L2162.41 329.484 L2154.86 319.299 L2147.32 329.484 L2142.29 329.484 L2152.36 315.919 L2143.15 303.558 L2148.17 303.558 L2155.05 312.794 L2161.92 303.558 L2166.95 303.558 Z\" fill=\"#000000\" fill-rule=\"evenodd\" fill-opacity=\"1\" /><path clip-path=\"url(#clip3900)\" d=\"M 0 0 M2183.68 316.452 Q2178.52 316.452 2176.53 317.632 Q2174.54 318.813 2174.54 321.66 Q2174.54 323.929 2176.02 325.271 Q2177.52 326.591 2180.09 326.591 Q2183.64 326.591 2185.77 324.091 Q2187.92 321.567 2187.92 317.401 L2187.92 316.452 L2183.68 316.452 M2192.18 314.693 L2192.18 329.484 L2187.92 329.484 L2187.92 325.549 Q2186.46 327.91 2184.28 329.044 Q2182.11 330.155 2178.96 330.155 Q2174.98 330.155 2172.62 327.933 Q2170.28 325.688 2170.28 321.938 Q2170.28 317.563 2173.2 315.341 Q2176.14 313.118 2181.95 313.118 L2187.92 313.118 L2187.92 312.702 Q2187.92 309.762 2185.97 308.165 Q2184.05 306.544 2180.56 306.544 Q2178.33 306.544 2176.23 307.077 Q2174.12 307.609 2172.18 308.674 L2172.18 304.739 Q2174.52 303.836 2176.71 303.396 Q2178.91 302.933 2181 302.933 Q2186.62 302.933 2189.4 305.85 Q2192.18 308.767 2192.18 314.693 Z\" fill=\"#000000\" fill-rule=\"evenodd\" fill-opacity=\"1\" /><path clip-path=\"url(#clip3900)\" d=\"M 0 0 M2215.3 304.554 L2215.3 308.535 Q2213.5 307.54 2211.67 307.054 Q2209.86 306.544 2208.01 306.544 Q2203.87 306.544 2201.58 309.183 Q2199.28 311.799 2199.28 316.544 Q2199.28 321.29 2201.58 323.929 Q2203.87 326.544 2208.01 326.544 Q2209.86 326.544 2211.67 326.058 Q2213.5 325.549 2215.3 324.554 L2215.3 328.489 Q2213.52 329.322 2211.6 329.739 Q2209.7 330.155 2207.55 330.155 Q2201.69 330.155 2198.24 326.475 Q2194.79 322.794 2194.79 316.544 Q2194.79 310.202 2198.27 306.568 Q2201.76 302.933 2207.83 302.933 Q2209.79 302.933 2211.67 303.35 Q2213.54 303.743 2215.3 304.554 Z\" fill=\"#000000\" fill-rule=\"evenodd\" fill-opacity=\"1\" /><path clip-path=\"url(#clip3900)\" d=\"M 0 0 M2223.98 296.197 L2223.98 303.558 L2232.76 303.558 L2232.76 306.868 L2223.98 306.868 L2223.98 320.942 Q2223.98 324.114 2224.84 325.017 Q2225.72 325.919 2228.38 325.919 L2232.76 325.919 L2232.76 329.484 L2228.38 329.484 Q2223.45 329.484 2221.58 327.655 Q2219.7 325.804 2219.7 320.942 L2219.7 306.868 L2216.58 306.868 L2216.58 303.558 L2219.7 303.558 L2219.7 296.197 L2223.98 296.197 Z\" fill=\"#000000\" fill-rule=\"evenodd\" fill-opacity=\"1\" /></svg>\n"
      ]
     },
     "execution_count": 6,
     "metadata": {},
     "output_type": "execute_result"
    }
   ],
   "source": [
    "plot(sol, lw=2)\n",
    "plot!(sol.t, exp.(-sol.t), lw=2, label=\"Exact\", line=:dash)"
   ]
  },
  {
   "cell_type": "markdown",
   "metadata": {},
   "source": [
    "## Homogeneou BGK"
   ]
  },
  {
   "cell_type": "code",
   "execution_count": 12,
   "metadata": {},
   "outputs": [
    {
     "name": "stdout",
     "output_type": "stream",
     "text": [
      "Reading settings from ../src/homogeneous/config.txt \n",
      "\n",
      "case = homogeneous\n",
      "space = 1d1f\n",
      "cfl = 0.5\n",
      "maxTime = 5\n",
      "u0 = -7\n",
      "u1 = 7\n",
      "nu = 41\n",
      "vMeshType = newton\n",
      "nug = 0\n",
      "knudsen = 1\n",
      "inK = 0\n",
      "\n"
     ]
    },
    {
     "data": {
      "text/plain": [
       "41-element Array{Float32,1}:\n",
       "    -1.0823923e8\n",
       "     4.5611e-41 \n",
       "    -1.0823974e8\n",
       "     4.5611e-41 \n",
       "    -1.0824026e8\n",
       "     4.5611e-41 \n",
       "    -1.0976294e8\n",
       "     4.5611e-41 \n",
       "    -2.23616e8  \n",
       "     4.5611e-41 \n",
       " 25059.5        \n",
       "     4.5612e-41 \n",
       "    -1.0978778e8\n",
       "     ⋮          \n",
       "     4.5611e-41 \n",
       "    -1.0824461e8\n",
       "     4.5611e-41 \n",
       "    -1.8952755e8\n",
       "     4.5611e-41 \n",
       "    -2.2361984e8\n",
       "     4.5611e-41 \n",
       "     0.0        \n",
       "     0.0        \n",
       "     0.0        \n",
       "     0.0        \n",
       "     0.0        "
      ]
     },
     "execution_count": 12,
     "metadata": {},
     "output_type": "execute_result"
    }
   ],
   "source": [
    "using Revise\n",
    "using Kinetic\n",
    "\n",
    "config = \"../src/homogeneous/config.txt\"\n",
    "println(\"Reading settings from $config \\n\")\n",
    "\n",
    "# generate parameters\n",
    "D = read_dict(config)\n",
    "for key in keys(D)\n",
    "    s = Symbol(key)\n",
    "    @eval $s = $(D[key])\n",
    "end\n",
    "\n",
    "dim = ifelse(parse(Int, space[3]) >= 3, 3, parse(Int, space[1]))\n",
    "γ = 1.4#heat_capacity_ratio(inK, dim)\n",
    "vSpace = VSpace1D(u0, u1, nu, vMeshType, nug)\n",
    "\n",
    "f0 = Float32.(0.3 * vSpace.u.^2 .* exp.(-0.3 .* vSpace.u.^2)) |> Array\n",
    "w0 = [ discrete_moments(f0, vSpace.u, vSpace.weights, 0), \n",
    "       discrete_moments(f0, vSpace.u, vSpace.weights, 1), \n",
    "       discrete_moments(f0, vSpace.u, vSpace.weights, 2) ]\n",
    "prim0 = conserve_prim(w0, γ)\n",
    "\n",
    "M = Float32.(maxwellian(vSpace.u, prim0)) |> Array\n",
    "\n",
    "f = similar(M)"
   ]
  },
  {
   "cell_type": "code",
   "execution_count": 13,
   "metadata": {},
   "outputs": [
    {
     "data": {
      "text/plain": [
       "(0.0f0, 5.0f0)"
      ]
     },
     "execution_count": 13,
     "metadata": {},
     "output_type": "execute_result"
    }
   ],
   "source": [
    "tspan = (0.f0, Float32(maxTime))"
   ]
  },
  {
   "cell_type": "code",
   "execution_count": 14,
   "metadata": {},
   "outputs": [
    {
     "name": "stderr",
     "output_type": "stream",
     "text": [
      "\r",
      "\u001b[32mloss: 4.91e+05:   0%|                                         |  ETA: N/A\u001b[39m"
     ]
    },
    {
     "name": "stdout",
     "output_type": "stream",
     "text": [
      "Current loss is: 490606.84\n",
      "Current loss is: 1.4229674e8\n",
      "Current loss is: 149165.95\n",
      "Current loss is: 1.01518325e6\n",
      "Current loss is: 1.0985354e7\n",
      "Current loss is: 2.1945242e7\n"
     ]
    },
    {
     "name": "stderr",
     "output_type": "stream",
     "text": [
      "\r",
      "\u001b[32mloss: 2.17e+07:   0%|▏                                        |  ETA: 0:07:05\u001b[39m"
     ]
    },
    {
     "name": "stdout",
     "output_type": "stream",
     "text": [
      "Current loss is: 2.173969e7\n",
      "Current loss is: 1.5641249e7\n",
      "Current loss is: 1.0113043e7\n",
      "Current loss is: 6.4324345e6\n",
      "Current loss is: 4.1196952e6\n",
      "Current loss is: 2.6568162e6\n",
      "Current loss is: 1.71689e6\n",
      "Current loss is: 1.1072502e6\n",
      "Current loss is: 711084.75\n"
     ]
    },
    {
     "name": "stderr",
     "output_type": "stream",
     "text": [
      "\r",
      "\u001b[32mloss: 4.54e+05:   1%|▍                                        |  ETA: 0:02:52\u001b[39m"
     ]
    },
    {
     "name": "stdout",
     "output_type": "stream",
     "text": [
      "Current loss is: 454384.2\n",
      "Current loss is: 289127.62\n",
      "Current loss is: 185087.62\n",
      "Current loss is: 126072.3\n",
      "Current loss is: 108182.43\n",
      "Current loss is: 137573.4\n",
      "Current loss is: 222285.95\n"
     ]
    },
    {
     "name": "stderr",
     "output_type": "stream",
     "text": [
      "\r",
      "\u001b[32mloss: 4.72e+05:   1%|▌                                        |  ETA: 0:02:04\u001b[39m"
     ]
    },
    {
     "name": "stdout",
     "output_type": "stream",
     "text": [
      "Current loss is: 350648.12\n",
      "Current loss is: 472186.84\n",
      "Current loss is: 530543.25\n",
      "Current loss is: 514763.0\n",
      "Current loss is: 452510.75\n",
      "Current loss is: 375791.44\n",
      "Current loss is: 303698.62\n",
      "Current loss is: 243184.38\n"
     ]
    },
    {
     "name": "stderr",
     "output_type": "stream",
     "text": [
      "\r",
      "\u001b[32mloss: 1.57e+05:   2%|▋                                        |  ETA: 0:01:39\u001b[39m"
     ]
    },
    {
     "name": "stdout",
     "output_type": "stream",
     "text": [
      "Current loss is: 194811.05\n",
      "Current loss is: 156857.81\n",
      "Current loss is: 127205.8\n",
      "Current loss is: 103982.37\n",
      "Current loss is: 85696.87\n",
      "Current loss is: 71209.28\n",
      "Current loss is: 59659.742\n"
     ]
    },
    {
     "name": "stderr",
     "output_type": "stream",
     "text": [
      "\r",
      "\u001b[32mloss: 4.29e+04:   2%|▊                                        |  ETA: 0:01:30\u001b[39m"
     ]
    },
    {
     "name": "stdout",
     "output_type": "stream",
     "text": [
      "Current loss is: 50400.223\n",
      "Current loss is: 42939.395\n",
      "Current loss is: 36900.773\n",
      "Current loss is: 31992.443\n",
      "Current loss is: 27985.277\n",
      "Current loss is: 24697.637\n",
      "Current loss is: 21984.455\n",
      "Current loss is: 19729.418\n"
     ]
    },
    {
     "name": "stderr",
     "output_type": "stream",
     "text": [
      "\r",
      "\u001b[32mloss: 1.17e+04:   2%|█                                        |  ETA: 0:01:12\u001b[39m"
     ]
    },
    {
     "name": "stdout",
     "output_type": "stream",
     "text": [
      "Current loss is: 17839.164\n",
      "Current loss is: 16238.948\n",
      "Current loss is: 14869.18\n",
      "Current loss is: 13682.721\n",
      "Current loss is: 12642.583\n",
      "Current loss is: 11720.045\n",
      "Current loss is: 10893.051\n",
      "Current loss is: 10144.84\n",
      "Current loss is: 9462.804\n",
      "Current loss is: 8837.52\n",
      "Current loss is: 8261.958\n",
      "Current loss is: 7730.8296\n"
     ]
    },
    {
     "name": "stderr",
     "output_type": "stream",
     "text": [
      "\r",
      "\u001b[32mloss: 5.3e+03:   3%|█▎                                       |  ETA: 0:01:01\u001b[39m"
     ]
    },
    {
     "name": "stdout",
     "output_type": "stream",
     "text": [
      "Current loss is: 7240.083\n",
      "Current loss is: 6786.513\n",
      "Current loss is: 6367.4604\n",
      "Current loss is: 5980.605\n",
      "Current loss is: 5623.834\n",
      "Current loss is: 5295.1494\n",
      "Current loss is: 4992.62\n",
      "Current loss is: 4714.3613\n",
      "Current loss is: 4458.533\n",
      "Current loss is: 4223.343\n",
      "Current loss is: 4007.0674\n",
      "Current loss is: 3808.0537\n"
     ]
    },
    {
     "name": "stderr",
     "output_type": "stream",
     "text": [
      "\r",
      "\u001b[32mloss: 3.02e+03:   4%|█▌                                       |  ETA: 0:00:54\u001b[39m"
     ]
    },
    {
     "name": "stdout",
     "output_type": "stream",
     "text": [
      "Current loss is: 3624.7417\n",
      "Current loss is: 3455.6658\n",
      "Current loss is: 3299.4644\n",
      "Current loss is: 3154.8857\n",
      "Current loss is: 3020.7808\n",
      "Current loss is: 2896.1084\n",
      "Current loss is: 2779.9258\n",
      "Current loss is: 2671.3848\n",
      "Current loss is: 2569.725\n"
     ]
    },
    {
     "name": "stderr",
     "output_type": "stream",
     "text": [
      "\r",
      "\u001b[32mloss: 1.94e+03:   4%|█▊                                       |  ETA: 0:00:49\u001b[39m"
     ]
    },
    {
     "name": "stdout",
     "output_type": "stream",
     "text": [
      "Current loss is: 2474.268\n",
      "Current loss is: 2384.409\n",
      "Current loss is: 2299.61\n",
      "Current loss is: 2219.3926\n",
      "Current loss is: 2143.333\n",
      "Current loss is: 2071.0552\n",
      "Current loss is: 2002.2251\n",
      "Current loss is: 1936.547\n",
      "Current loss is: 1873.7573\n",
      "Current loss is: 1813.623\n",
      "Current loss is: 1755.9359\n",
      "Current loss is: 1700.511\n"
     ]
    },
    {
     "name": "stderr",
     "output_type": "stream",
     "text": [
      "\r",
      "\u001b[32mloss: 1.32e+03:   5%|██                                       |  ETA: 0:00:45\u001b[39m"
     ]
    },
    {
     "name": "stdout",
     "output_type": "stream",
     "text": [
      "Current loss is: 1647.1836\n",
      "Current loss is: 1595.8055\n",
      "Current loss is: 1546.2463\n",
      "Current loss is: 1498.3868\n",
      "Current loss is: 1452.1213\n",
      "Current loss is: 1407.3547\n",
      "Current loss is: 1364.0012\n",
      "Current loss is: 1321.9844\n",
      "Current loss is: 1281.2339\n",
      "Current loss is: 1241.6862\n",
      "Current loss is: 1203.2854\n"
     ]
    },
    {
     "name": "stderr",
     "output_type": "stream",
     "text": [
      "\r",
      "\u001b[32mloss: 932:   5%|██▎                                      |  ETA: 0:00:42\u001b[39m"
     ]
    },
    {
     "name": "stdout",
     "output_type": "stream",
     "text": [
      "Current loss is: 1165.9788\n",
      "Current loss is: 1129.7192\n",
      "Current loss is: 1094.4646\n",
      "Current loss is: 1060.1746\n",
      "Current loss is: 1026.814\n",
      "Current loss is: 994.35\n",
      "Current loss is: 962.75244\n",
      "Current loss is: 931.9937\n"
     ]
    },
    {
     "name": "stderr",
     "output_type": "stream",
     "text": [
      "\r",
      "\u001b[32mloss: 764:   6%|██▍                                      |  ETA: 0:00:42\u001b[39m"
     ]
    },
    {
     "name": "stdout",
     "output_type": "stream",
     "text": [
      "Current loss is: 902.04767\n",
      "Current loss is: 872.8915\n",
      "Current loss is: 844.50226\n",
      "Current loss is: 816.8603\n",
      "Current loss is: 789.94604\n",
      "Current loss is: 763.7423\n",
      "Current loss is: 738.23157\n",
      "Current loss is: 713.39856\n"
     ]
    },
    {
     "name": "stderr",
     "output_type": "stream",
     "text": [
      "\r",
      "\u001b[32mloss: 537:   6%|██▌                                      |  ETA: 0:00:40\u001b[39m"
     ]
    },
    {
     "name": "stdout",
     "output_type": "stream",
     "text": [
      "Current loss is: 689.2278\n",
      "Current loss is: 665.7057\n",
      "Current loss is: 642.81805\n",
      "Current loss is: 620.55225\n",
      "Current loss is: 598.89575\n",
      "Current loss is: 577.8368\n",
      "Current loss is: 557.3633\n",
      "Current loss is: 537.46423\n",
      "Current loss is: 518.1287\n"
     ]
    },
    {
     "name": "stderr",
     "output_type": "stream",
     "text": [
      "\r",
      "\u001b[32mloss: 398:   7%|██▊                                      |  ETA: 0:00:39\u001b[39m"
     ]
    },
    {
     "name": "stdout",
     "output_type": "stream",
     "text": [
      "Current loss is: 499.34576\n",
      "Current loss is: 481.10504\n",
      "Current loss is: 463.396\n",
      "Current loss is: 446.20868\n",
      "Current loss is: 429.53284\n",
      "Current loss is: 413.35883\n",
      "Current loss is: 397.6765\n",
      "Current loss is: 382.47617\n"
     ]
    },
    {
     "name": "stderr",
     "output_type": "stream",
     "text": [
      "\r",
      "\u001b[32mloss: 289:   7%|██▉                                      |  ETA: 0:00:38\u001b[39m"
     ]
    },
    {
     "name": "stdout",
     "output_type": "stream",
     "text": [
      "Current loss is: 367.7482\n",
      "Current loss is: 353.48297\n",
      "Current loss is: 339.67087\n",
      "Current loss is: 326.3023\n",
      "Current loss is: 313.3679\n",
      "Current loss is: 300.85822\n",
      "Current loss is: 288.7637\n",
      "Current loss is: 277.07507\n"
     ]
    },
    {
     "name": "stderr",
     "output_type": "stream",
     "text": [
      "\r",
      "\u001b[32mloss: 215:   7%|███                                      |  ETA: 0:00:37\u001b[39m"
     ]
    },
    {
     "name": "stdout",
     "output_type": "stream",
     "text": [
      "Current loss is: 265.78305\n",
      "Current loss is: 254.87828\n",
      "Current loss is: 244.35147\n",
      "Current loss is: 234.19354\n",
      "Current loss is: 224.3953\n",
      "Current loss is: 214.94757\n",
      "Current loss is: 205.84143\n",
      "Current loss is: 197.0678\n"
     ]
    },
    {
     "name": "stderr",
     "output_type": "stream",
     "text": [
      "\r",
      "\u001b[32mloss: 126:   8%|███▎                                     |  ETA: 0:00:35\u001b[39m"
     ]
    },
    {
     "name": "stdout",
     "output_type": "stream",
     "text": [
      "Current loss is: 188.61792\n",
      "Current loss is: 180.48294\n",
      "Current loss is: 172.65411\n",
      "Current loss is: 165.12277\n",
      "Current loss is: 157.8804\n",
      "Current loss is: 150.91853\n",
      "Current loss is: 144.22882\n",
      "Current loss is: 137.80301\n",
      "Current loss is: 131.63297\n",
      "Current loss is: 125.710724\n",
      "Current loss is: 120.0283\n",
      "Current loss is: 114.578094\n"
     ]
    },
    {
     "name": "stderr",
     "output_type": "stream",
     "text": [
      "\r",
      "\u001b[32mloss: 71.2:   9%|███▌                                     |  ETA: 0:00:33\u001b[39m"
     ]
    },
    {
     "name": "stdout",
     "output_type": "stream",
     "text": [
      "Current loss is: 109.352356\n",
      "Current loss is: 104.34362\n",
      "Current loss is: 99.54453\n",
      "Current loss is: 94.94792\n",
      "Current loss is: 90.546715\n",
      "Current loss is: 86.33395\n",
      "Current loss is: 82.30292\n",
      "Current loss is: 78.44696\n",
      "Current loss is: 74.75966\n",
      "Current loss is: 71.234726\n",
      "Current loss is: 67.86595\n",
      "Current loss is: 64.6474\n"
     ]
    },
    {
     "name": "stderr",
     "output_type": "stream",
     "text": [
      "\r",
      "\u001b[32mloss: 41.5:   9%|███▊                                     |  ETA: 0:00:33\u001b[39m"
     ]
    },
    {
     "name": "stdout",
     "output_type": "stream",
     "text": [
      "Current loss is: 61.573242\n",
      "Current loss is: 58.637794\n",
      "Current loss is: 55.835556\n",
      "Current loss is: 53.161182\n",
      "Current loss is: 50.60948\n",
      "Current loss is: 48.17543\n",
      "Current loss is: 45.854156\n",
      "Current loss is: 43.640915\n",
      "Current loss is: 41.53115\n",
      "Current loss is: 39.520466\n"
     ]
    },
    {
     "name": "stderr",
     "output_type": "stream",
     "text": [
      "\r",
      "\u001b[32mloss: 22.8:  10%|████                                     |  ETA: 0:00:31\u001b[39m"
     ]
    },
    {
     "name": "stdout",
     "output_type": "stream",
     "text": [
      "Current loss is: 37.60457\n",
      "Current loss is: 35.779373\n",
      "Current loss is: 34.04089\n",
      "Current loss is: 32.385284\n",
      "Current loss is: 30.808891\n",
      "Current loss is: 29.30815\n",
      "Current loss is: 27.87965\n",
      "Current loss is: 26.520105\n",
      "Current loss is: 25.226366\n",
      "Current loss is: 23.995392\n",
      "Current loss is: 22.82429\n",
      "Current loss is: 21.710266\n"
     ]
    },
    {
     "name": "stderr",
     "output_type": "stream",
     "text": [
      "\r",
      "\u001b[32mloss: 12.5:  10%|████▎                                    |  ETA: 0:00:30\u001b[39m"
     ]
    },
    {
     "name": "stdout",
     "output_type": "stream",
     "text": [
      "Current loss is: 20.650646\n",
      "Current loss is: 19.642876\n",
      "Current loss is: 18.684494\n",
      "Current loss is: 17.773159\n",
      "Current loss is: 16.90663\n",
      "Current loss is: 16.082756\n",
      "Current loss is: 15.29948\n",
      "Current loss is: 14.554846\n",
      "Current loss is: 13.846979\n",
      "Current loss is: 13.174097\n",
      "Current loss is: 12.534486\n",
      "Current loss is: 11.926523\n",
      "Current loss is: 11.348656\n",
      "Current loss is: 10.79941\n",
      "Current loss is: 10.277367\n",
      "Current loss is: 9.781189\n",
      "Current loss is: 9.309597\n",
      "Current loss is: 8.861374\n",
      "Current loss is: 8.435358\n",
      "Current loss is: 8.030451\n",
      "Current loss is: 7.645595\n",
      "Current loss is: 7.279796\n"
     ]
    },
    {
     "name": "stderr",
     "output_type": "stream",
     "text": [
      "\r",
      "\u001b[32mloss: 6.93:  11%|████▌                                    |  ETA: 0:00:29\u001b[39m"
     ]
    },
    {
     "name": "stdout",
     "output_type": "stream",
     "text": [
      "Current loss is: 6.932106\n",
      "Current loss is: 6.601617\n",
      "Current loss is: 6.2874727\n",
      "Current loss is: 5.9888587\n",
      "Current loss is: 5.704996\n",
      "Current loss is: 5.4351473\n",
      "Current loss is: 5.1786146\n",
      "Current loss is: 4.9347277\n",
      "Current loss is: 4.70286\n",
      "Current loss is: 4.4824057\n",
      "Current loss is: 4.2727966\n"
     ]
    },
    {
     "name": "stderr",
     "output_type": "stream",
     "text": [
      "\r",
      "\u001b[32mloss: 4.07:  12%|████▊                                    |  ETA: 0:00:29\u001b[39m"
     ]
    },
    {
     "name": "stdout",
     "output_type": "stream",
     "text": [
      "Current loss is: 4.073489\n",
      "Current loss is: 3.8839693\n",
      "Current loss is: 3.7037477\n",
      "Current loss is: 3.5323617\n",
      "Current loss is: 3.3693683\n",
      "Current loss is: 3.2143493\n",
      "Current loss is: 3.066907\n",
      "Current loss is: 2.9266646\n",
      "Current loss is: 2.7932634\n",
      "Current loss is: 2.6663623\n",
      "Current loss is: 2.5456386\n",
      "Current loss is: 2.4307857\n"
     ]
    },
    {
     "name": "stderr",
     "output_type": "stream",
     "text": [
      "\r",
      "\u001b[32mloss: 2.32:  12%|█████                                    |  ETA: 0:00:28\u001b[39m"
     ]
    },
    {
     "name": "stdout",
     "output_type": "stream",
     "text": [
      "Current loss is: 2.321512\n",
      "Current loss is: 2.2175403\n",
      "Current loss is: 2.1186094\n",
      "Current loss is: 2.0244672\n",
      "Current loss is: 1.9348791\n",
      "Current loss is: 1.8496187\n",
      "Current loss is: 1.7684726\n",
      "Current loss is: 1.6912379\n",
      "Current loss is: 1.6177218\n",
      "Current loss is: 1.5477407\n",
      "Current loss is: 1.4811218\n"
     ]
    },
    {
     "name": "stderr",
     "output_type": "stream",
     "text": [
      "\r",
      "\u001b[32mloss: 1.42:  13%|█████▏                                   |  ETA: 0:00:27\u001b[39m"
     ]
    },
    {
     "name": "stdout",
     "output_type": "stream",
     "text": [
      "Current loss is: 1.4176985\n",
      "Current loss is: 1.3573143\n",
      "Current loss is: 1.2998196\n",
      "Current loss is: 1.2450738\n",
      "Current loss is: 1.1929419\n",
      "Current loss is: 1.1432946\n",
      "Current loss is: 1.0960118\n",
      "Current loss is: 1.050977\n"
     ]
    },
    {
     "name": "stderr",
     "output_type": "stream",
     "text": [
      "\r",
      "\u001b[32mloss: 0.967:  13%|█████▍                                   |  ETA: 0:00:27\u001b[39m"
     ]
    },
    {
     "name": "stdout",
     "output_type": "stream",
     "text": [
      "Current loss is: 1.0080812\n",
      "Current loss is: 0.96721953\n",
      "Current loss is: 0.92829263\n",
      "Current loss is: 0.89120626\n",
      "Current loss is: 0.8558707\n",
      "Current loss is: 0.8222009\n",
      "Current loss is: 0.7901155\n",
      "Current loss is: 0.7595375\n",
      "Current loss is: 0.7303935\n",
      "Current loss is: 0.70261437\n",
      "Current loss is: 0.676133\n"
     ]
    },
    {
     "name": "stderr",
     "output_type": "stream",
     "text": [
      "\r",
      "\u001b[32mloss: 0.627:  14%|█████▋                                   |  ETA: 0:00:26\u001b[39m"
     ]
    },
    {
     "name": "stdout",
     "output_type": "stream",
     "text": [
      "Current loss is: 0.650887\n",
      "Current loss is: 0.6268162\n",
      "Current loss is: 0.6038631\n",
      "Current loss is: 0.581974\n",
      "Current loss is: 0.56109715\n",
      "Current loss is: 0.5411836\n",
      "Current loss is: 0.52218634\n",
      "Current loss is: 0.50406086\n",
      "Current loss is: 0.4867654\n",
      "Current loss is: 0.47025922\n",
      "Current loss is: 0.4545045\n",
      "Current loss is: 0.43946436\n"
     ]
    },
    {
     "name": "stderr",
     "output_type": "stream",
     "text": [
      "\r",
      "\u001b[32mloss: 0.411:  14%|█████▉                                   |  ETA: 0:00:26\u001b[39m"
     ]
    },
    {
     "name": "stdout",
     "output_type": "stream",
     "text": [
      "Current loss is: 0.4251042\n",
      "Current loss is: 0.41139147\n",
      "Current loss is: 0.39829463\n",
      "Current loss is: 0.38578334\n",
      "Current loss is: 0.37382984\n",
      "Current loss is: 0.3624066\n",
      "Current loss is: 0.3514883\n",
      "Current loss is: 0.3410501\n",
      "Current loss is: 0.33106893\n"
     ]
    },
    {
     "name": "stderr",
     "output_type": "stream",
     "text": [
      "\r",
      "\u001b[32mloss: 0.312:  15%|██████                                   |  ETA: 0:00:25\u001b[39m"
     ]
    },
    {
     "name": "stdout",
     "output_type": "stream",
     "text": [
      "Current loss is: 0.3215224\n",
      "Current loss is: 0.3123898\n",
      "Current loss is: 0.30365074\n",
      "Current loss is: 0.2952862\n",
      "Current loss is: 0.287278\n",
      "Current loss is: 0.27960867\n",
      "Current loss is: 0.2722622\n",
      "Current loss is: 0.26522255\n",
      "Current loss is: 0.25847492\n",
      "Current loss is: 0.25200525\n",
      "Current loss is: 0.24579963\n"
     ]
    },
    {
     "name": "stderr",
     "output_type": "stream",
     "text": [
      "\r",
      "\u001b[32mloss: 0.234:  15%|██████▎                                  |  ETA: 0:00:25\u001b[39m"
     ]
    },
    {
     "name": "stdout",
     "output_type": "stream",
     "text": [
      "Current loss is: 0.23984593\n",
      "Current loss is: 0.23413137\n",
      "Current loss is: 0.22864445\n",
      "Current loss is: 0.22337438\n",
      "Current loss is: 0.21831043\n",
      "Current loss is: 0.2134425\n",
      "Current loss is: 0.2087614\n",
      "Current loss is: 0.20425761\n",
      "Current loss is: 0.19992293\n",
      "Current loss is: 0.19574906\n",
      "Current loss is: 0.191728\n"
     ]
    },
    {
     "name": "stderr",
     "output_type": "stream",
     "text": [
      "\r",
      "\u001b[32mloss: 0.184:  16%|██████▌                                  |  ETA: 0:00:24\u001b[39m"
     ]
    },
    {
     "name": "stdout",
     "output_type": "stream",
     "text": [
      "Current loss is: 0.18785258\n",
      "Current loss is: 0.18411542\n",
      "Current loss is: 0.1805099\n",
      "Current loss is: 0.17702949\n",
      "Current loss is: 0.17366819\n",
      "Current loss is: 0.17042029\n",
      "Current loss is: 0.16727951\n",
      "Current loss is: 0.1642412\n",
      "Current loss is: 0.16130023\n",
      "Current loss is: 0.15845114\n"
     ]
    },
    {
     "name": "stderr",
     "output_type": "stream",
     "text": [
      "\r",
      "\u001b[32mloss: 0.153:  16%|██████▋                                  |  ETA: 0:00:24\u001b[39m"
     ]
    },
    {
     "name": "stdout",
     "output_type": "stream",
     "text": [
      "Current loss is: 0.15569001\n",
      "Current loss is: 0.15301187\n",
      "Current loss is: 0.15041253\n",
      "Current loss is: 0.14788765\n",
      "Current loss is: 0.14543352\n",
      "Current loss is: 0.14304626\n",
      "Current loss is: 0.14072224\n",
      "Current loss is: 0.13845783\n",
      "Current loss is: 0.13624969\n",
      "Current loss is: 0.13409427\n",
      "Current loss is: 0.13198864\n"
     ]
    },
    {
     "name": "stderr",
     "output_type": "stream",
     "text": [
      "\r",
      "\u001b[32mloss: 0.128:  17%|██████▉                                  |  ETA: 0:00:24\u001b[39m"
     ]
    },
    {
     "name": "stdout",
     "output_type": "stream",
     "text": [
      "Current loss is: 0.12992963\n",
      "Current loss is: 0.12791409\n",
      "Current loss is: 0.12593943\n",
      "Current loss is: 0.12400266\n",
      "Current loss is: 0.12210107\n",
      "Current loss is: 0.12023196\n",
      "Current loss is: 0.11839308\n",
      "Current loss is: 0.11658192\n",
      "Current loss is: 0.11479604\n",
      "Current loss is: 0.1130334\n",
      "Current loss is: 0.11129187\n"
     ]
    },
    {
     "name": "stderr",
     "output_type": "stream",
     "text": [
      "\r",
      "\u001b[32mloss: 0.108:  17%|███████▏                                 |  ETA: 0:00:23\u001b[39m"
     ]
    },
    {
     "name": "stdout",
     "output_type": "stream",
     "text": [
      "Current loss is: 0.10956953\n",
      "Current loss is: 0.107864544\n",
      "Current loss is: 0.10617503\n",
      "Current loss is: 0.10449977\n",
      "Current loss is: 0.102837145\n",
      "Current loss is: 0.10118608\n",
      "Current loss is: 0.09954549\n",
      "Current loss is: 0.09791439\n",
      "Current loss is: 0.096292205\n",
      "Current loss is: 0.09467855\n",
      "Current loss is: 0.09307283\n"
     ]
    },
    {
     "name": "stderr",
     "output_type": "stream",
     "text": [
      "\r",
      "\u001b[32mloss: 0.0883:  18%|███████▍                                 |  ETA: 0:00:23\u001b[39m"
     ]
    },
    {
     "name": "stdout",
     "output_type": "stream",
     "text": [
      "Current loss is: 0.09147525\n",
      "Current loss is: 0.089885615\n",
      "Current loss is: 0.088304445\n",
      "Current loss is: 0.08673191\n",
      "Current loss is: 0.08516888\n",
      "Current loss is: 0.08361592\n",
      "Current loss is: 0.08207409\n",
      "Current loss is: 0.080544226\n"
     ]
    },
    {
     "name": "stderr",
     "output_type": "stream",
     "text": [
      "\r",
      "\u001b[32mloss: 0.076:  18%|███████▌                                 |  ETA: 0:00:23\u001b[39m"
     ]
    },
    {
     "name": "stdout",
     "output_type": "stream",
     "text": [
      "Current loss is: 0.07902755\n",
      "Current loss is: 0.07752532\n",
      "Current loss is: 0.076038726\n",
      "Current loss is: 0.074569166\n",
      "Current loss is: 0.0731178\n",
      "Current loss is: 0.071686044\n",
      "Current loss is: 0.07027522\n",
      "Current loss is: 0.06888647\n",
      "Current loss is: 0.067521125\n",
      "Current loss is: 0.06618014\n",
      "Current loss is: 0.06486465\n"
     ]
    },
    {
     "name": "stderr",
     "output_type": "stream",
     "text": [
      "\r",
      "\u001b[32mloss: 0.0611:  19%|███████▊                                 |  ETA: 0:00:22\u001b[39m"
     ]
    },
    {
     "name": "stdout",
     "output_type": "stream",
     "text": [
      "Current loss is: 0.06357555\n",
      "Current loss is: 0.062313676\n",
      "Current loss is: 0.06107986\n",
      "Current loss is: 0.059874654\n",
      "Current loss is: 0.058698896\n",
      "Current loss is: 0.057553053\n",
      "Current loss is: 0.056437656\n",
      "Current loss is: 0.05535331\n",
      "Current loss is: 0.054300524\n",
      "Current loss is: 0.05327983\n",
      "Current loss is: 0.052291874\n"
     ]
    },
    {
     "name": "stderr",
     "output_type": "stream",
     "text": [
      "\r",
      "\u001b[32mloss: 0.0495:  20%|████████                                 |  ETA: 0:00:22\u001b[39m"
     ]
    },
    {
     "name": "stdout",
     "output_type": "stream",
     "text": [
      "Current loss is: 0.051337138\n",
      "Current loss is: 0.050416335\n",
      "Current loss is: 0.049529977\n",
      "Current loss is: 0.04867857\n",
      "Current loss is: 0.04786268\n",
      "Current loss is: 0.047082614\n",
      "Current loss is: 0.04633858\n",
      "Current loss is: 0.045630485\n",
      "Current loss is: 0.044958062\n",
      "Current loss is: 0.044320658\n"
     ]
    },
    {
     "name": "stderr",
     "output_type": "stream",
     "text": [
      "\r",
      "\u001b[32mloss: 0.0426:  20%|████████▎                                |  ETA: 0:00:22\u001b[39m"
     ]
    },
    {
     "name": "stdout",
     "output_type": "stream",
     "text": [
      "Current loss is: 0.043717176\n",
      "Current loss is: 0.043146223\n",
      "Current loss is: 0.04260584\n",
      "Current loss is: 0.042093553\n",
      "Current loss is: 0.04160644\n",
      "Current loss is: 0.04114116\n",
      "Current loss is: 0.040693786\n",
      "Current loss is: 0.04026004\n",
      "Current loss is: 0.03983541\n",
      "Current loss is: 0.039415184\n",
      "Current loss is: 0.03899455\n",
      "Current loss is: 0.038568817\n"
     ]
    },
    {
     "name": "stderr",
     "output_type": "stream",
     "text": [
      "\r",
      "\u001b[32mloss: 0.0372:  21%|████████▌                                |  ETA: 0:00:21\u001b[39m"
     ]
    },
    {
     "name": "stdout",
     "output_type": "stream",
     "text": [
      "Current loss is: 0.03813359\n",
      "Current loss is: 0.03768481\n",
      "Current loss is: 0.037219062\n",
      "Current loss is: 0.03673368\n",
      "Current loss is: 0.036226794\n",
      "Current loss is: 0.03569734\n",
      "Current loss is: 0.03514517\n",
      "Current loss is: 0.034571044\n",
      "Current loss is: 0.03397634\n",
      "Current loss is: 0.033362977\n",
      "Current loss is: 0.03273352\n",
      "Current loss is: 0.032090712\n"
     ]
    },
    {
     "name": "stderr",
     "output_type": "stream",
     "text": [
      "\r",
      "\u001b[32mloss: 0.0301:  21%|████████▊                                |  ETA: 0:00:21\u001b[39m"
     ]
    },
    {
     "name": "stdout",
     "output_type": "stream",
     "text": [
      "Current loss is: 0.031437512\n",
      "Current loss is: 0.030776942\n",
      "Current loss is: 0.030111838\n",
      "Current loss is: 0.029445115\n",
      "Current loss is: 0.028779436\n",
      "Current loss is: 0.02811727\n",
      "Current loss is: 0.027460862\n",
      "Current loss is: 0.026812378\n",
      "Current loss is: 0.026173705\n",
      "Current loss is: 0.025546553\n"
     ]
    },
    {
     "name": "stderr",
     "output_type": "stream",
     "text": [
      "\r",
      "\u001b[32mloss: 0.0237:  22%|████████▉                                |  ETA: 0:00:21\u001b[39m"
     ]
    },
    {
     "name": "stdout",
     "output_type": "stream",
     "text": [
      "Current loss is: 0.024932519\n",
      "Current loss is: 0.024332855\n",
      "Current loss is: 0.023748789\n",
      "Current loss is: 0.023181219\n",
      "Current loss is: 0.022630867\n",
      "Current loss is: 0.022098187\n",
      "Current loss is: 0.02158345\n",
      "Current loss is: 0.0210866\n",
      "Current loss is: 0.020607304\n",
      "Current loss is: 0.02014507\n",
      "Current loss is: 0.019699108\n",
      "Current loss is: 0.019268308\n"
     ]
    },
    {
     "name": "stderr",
     "output_type": "stream",
     "text": [
      "\r",
      "\u001b[32mloss: 0.0181:  22%|█████████▏                               |  ETA: 0:00:20\u001b[39m"
     ]
    },
    {
     "name": "stdout",
     "output_type": "stream",
     "text": [
      "Current loss is: 0.018851498\n",
      "Current loss is: 0.018447232\n",
      "Current loss is: 0.018053971\n",
      "Current loss is: 0.017670047\n",
      "Current loss is: 0.017293736\n",
      "Current loss is: 0.016923366\n",
      "Current loss is: 0.01655714\n",
      "Current loss is: 0.016193427\n",
      "Current loss is: 0.015830724\n",
      "Current loss is: 0.015467683\n",
      "Current loss is: 0.015103109\n",
      "Current loss is: 0.01473609\n"
     ]
    },
    {
     "name": "stderr",
     "output_type": "stream",
     "text": [
      "\r",
      "\u001b[32mloss: 0.0136:  23%|█████████▍                               |  ETA: 0:00:20\u001b[39m"
     ]
    },
    {
     "name": "stdout",
     "output_type": "stream",
     "text": [
      "Current loss is: 0.014366016\n",
      "Current loss is: 0.013992606\n",
      "Current loss is: 0.013615882\n",
      "Current loss is: 0.01323626\n",
      "Current loss is: 0.012854465\n",
      "Current loss is: 0.012471532\n",
      "Current loss is: 0.012088758\n",
      "Current loss is: 0.011707557\n",
      "Current loss is: 0.0113295065\n",
      "Current loss is: 0.010956151\n",
      "Current loss is: 0.0105889905\n"
     ]
    },
    {
     "name": "stderr",
     "output_type": "stream",
     "text": [
      "\r",
      "\u001b[32mloss: 0.00988:  23%|█████████▋                               |  ETA: 0:00:20\u001b[39m"
     ]
    },
    {
     "name": "stdout",
     "output_type": "stream",
     "text": [
      "Current loss is: 0.010229362\n",
      "Current loss is: 0.009878395\n",
      "Current loss is: 0.00953703\n",
      "Current loss is: 0.009205911\n",
      "Current loss is: 0.008885417\n",
      "Current loss is: 0.008575692\n",
      "Current loss is: 0.008276692\n",
      "Current loss is: 0.0079881605\n",
      "Current loss is: 0.0077097462\n"
     ]
    },
    {
     "name": "stderr",
     "output_type": "stream",
     "text": [
      "\r",
      "\u001b[32mloss: 0.00669:  24%|█████████▊                               |  ETA: 0:00:20\u001b[39m"
     ]
    },
    {
     "name": "stdout",
     "output_type": "stream",
     "text": [
      "Current loss is: 0.0074409787\n",
      "Current loss is: 0.007181369\n",
      "Current loss is: 0.006930394\n",
      "Current loss is: 0.0066875396\n",
      "Current loss is: 0.0064523714\n",
      "Current loss is: 0.00622446\n",
      "Current loss is: 0.0060034706\n",
      "Current loss is: 0.0057890806\n",
      "Current loss is: 0.005581131\n",
      "Current loss is: 0.005379447\n",
      "Current loss is: 0.005184006\n"
     ]
    },
    {
     "name": "stderr",
     "output_type": "stream",
     "text": [
      "\r",
      "\u001b[32mloss: 0.0043:  24%|██████████                               |  ETA: 0:00:19\u001b[39m"
     ]
    },
    {
     "name": "stdout",
     "output_type": "stream",
     "text": [
      "Current loss is: 0.004994801\n",
      "Current loss is: 0.004811909\n",
      "Current loss is: 0.0046354923\n",
      "Current loss is: 0.004465673\n",
      "Current loss is: 0.0043026777\n",
      "Current loss is: 0.004146662\n",
      "Current loss is: 0.0039977897\n",
      "Current loss is: 0.0038561593\n",
      "Current loss is: 0.003721796\n",
      "Current loss is: 0.003594672\n",
      "Current loss is: 0.0034746267\n",
      "Current loss is: 0.0033614393\n"
     ]
    },
    {
     "name": "stderr",
     "output_type": "stream",
     "text": [
      "\r",
      "\u001b[32mloss: 0.00288:  25%|██████████▎                              |  ETA: 0:00:19\u001b[39m"
     ]
    },
    {
     "name": "stdout",
     "output_type": "stream",
     "text": [
      "Current loss is: 0.0032547647\n",
      "Current loss is: 0.003154161\n",
      "Current loss is: 0.0030591202\n",
      "Current loss is: 0.0029690512\n",
      "Current loss is: 0.0028832941\n",
      "Current loss is: 0.0028011994\n",
      "Current loss is: 0.0027221164\n",
      "Current loss is: 0.002645461\n",
      "Current loss is: 0.0025707304\n"
     ]
    },
    {
     "name": "stderr",
     "output_type": "stream",
     "text": [
      "\r",
      "\u001b[32mloss: 0.00209:  26%|██████████▌                              |  ETA: 0:00:19\u001b[39m"
     ]
    },
    {
     "name": "stdout",
     "output_type": "stream",
     "text": [
      "Current loss is: 0.0024975457\n",
      "Current loss is: 0.0024256893\n",
      "Current loss is: 0.002355102\n",
      "Current loss is: 0.0022858763\n",
      "Current loss is: 0.00221827\n",
      "Current loss is: 0.0021526474\n",
      "Current loss is: 0.002089447\n",
      "Current loss is: 0.0020291368\n",
      "Current loss is: 0.001972151\n",
      "Current loss is: 0.0019188696\n",
      "Current loss is: 0.0018695502\n"
     ]
    },
    {
     "name": "stderr",
     "output_type": "stream",
     "text": [
      "\r",
      "\u001b[32mloss: 0.00163:  26%|██████████▊                              |  ETA: 0:00:19\u001b[39m"
     ]
    },
    {
     "name": "stdout",
     "output_type": "stream",
     "text": [
      "Current loss is: 0.0018243208\n",
      "Current loss is: 0.0017831577\n",
      "Current loss is: 0.0017458859\n",
      "Current loss is: 0.0017121824\n",
      "Current loss is: 0.0016815948\n",
      "Current loss is: 0.00165359\n",
      "Current loss is: 0.0016275763\n",
      "Current loss is: 0.0016029741\n",
      "Current loss is: 0.0015792978\n",
      "Current loss is: 0.0015561862\n",
      "Current loss is: 0.0015334405\n"
     ]
    },
    {
     "name": "stderr",
     "output_type": "stream",
     "text": [
      "\r",
      "\u001b[32mloss: 0.00135:  27%|███████████                              |  ETA: 0:00:18\u001b[39m"
     ]
    },
    {
     "name": "stdout",
     "output_type": "stream",
     "text": [
      "Current loss is: 0.0015109738\n",
      "Current loss is: 0.0014887326\n",
      "Current loss is: 0.0014666002\n",
      "Current loss is: 0.0014443644\n",
      "Current loss is: 0.0014217668\n",
      "Current loss is: 0.0013985896\n",
      "Current loss is: 0.0013747574\n",
      "Current loss is: 0.001350356\n",
      "Current loss is: 0.0013256085\n"
     ]
    },
    {
     "name": "stderr",
     "output_type": "stream",
     "text": [
      "\r",
      "\u001b[32mloss: 0.00121:  27%|███████████▏                             |  ETA: 0:00:18\u001b[39m"
     ]
    },
    {
     "name": "stdout",
     "output_type": "stream",
     "text": [
      "Current loss is: 0.0013008456\n",
      "Current loss is: 0.0012765618\n",
      "Current loss is: 0.0012535702\n",
      "Current loss is: 0.0012332257\n",
      "Current loss is: 0.0012174156\n",
      "Current loss is: 0.0012082476\n",
      "Current loss is: 0.0012074711\n",
      "Current loss is: 0.0012160065\n",
      "Current loss is: 0.0012338486\n",
      "Current loss is: 0.0012600743\n",
      "Current loss is: 0.001291926\n"
     ]
    },
    {
     "name": "stderr",
     "output_type": "stream",
     "text": [
      "\r",
      "\u001b[32mloss: 0.00119:  28%|███████████▍                             |  ETA: 0:00:18\u001b[39m"
     ]
    },
    {
     "name": "stdout",
     "output_type": "stream",
     "text": [
      "Current loss is: 0.0013219707\n",
      "Current loss is: 0.0013356693\n",
      "Current loss is: 0.0013180665\n",
      "Current loss is: 0.0012716991\n",
      "Current loss is: 0.0012212924\n",
      "Current loss is: 0.0011912312\n",
      "Current loss is: 0.0011868968\n",
      "Current loss is: 0.0012002118\n",
      "Current loss is: 0.0012231437\n",
      "Current loss is: 0.0012540023\n",
      "Current loss is: 0.0012946454\n"
     ]
    },
    {
     "name": "stderr",
     "output_type": "stream",
     "text": [
      "\r",
      "\u001b[32mloss: 0.00153:  28%|███████████▋                             |  ETA: 0:00:18\u001b[39m"
     ]
    },
    {
     "name": "stdout",
     "output_type": "stream",
     "text": [
      "Current loss is: 0.0013333348\n",
      "Current loss is: 0.0013159445\n",
      "Current loss is: 0.0012036363\n",
      "Current loss is: 0.001095144\n",
      "Current loss is: 0.001111797\n",
      "Current loss is: 0.0012707888\n",
      "Current loss is: 0.0015252065\n",
      "Current loss is: 0.0018367689\n",
      "Current loss is: 0.0021410258\n",
      "Current loss is: 0.002016876\n",
      "Current loss is: 0.0014660552\n"
     ]
    },
    {
     "name": "stderr",
     "output_type": "stream",
     "text": [
      "\r",
      "\u001b[32mloss: 0.00173:  29%|███████████▊                             |  ETA: 0:00:18\u001b[39m"
     ]
    },
    {
     "name": "stdout",
     "output_type": "stream",
     "text": [
      "Current loss is: 0.0011156425\n",
      "Current loss is: 0.0011001258\n",
      "Current loss is: 0.0013375\n",
      "Current loss is: 0.0017259596\n",
      "Current loss is: 0.0021529086\n",
      "Current loss is: 0.0024690586\n",
      "Current loss is: 0.0021566027\n",
      "Current loss is: 0.0014527035\n"
     ]
    },
    {
     "name": "stderr",
     "output_type": "stream",
     "text": [
      "\r",
      "\u001b[32mloss: 0.00298:  29%|████████████                             |  ETA: 0:00:17\u001b[39m"
     ]
    },
    {
     "name": "stdout",
     "output_type": "stream",
     "text": [
      "Current loss is: 0.0010682192\n",
      "Current loss is: 0.0012709813\n",
      "Current loss is: 0.0023510286\n",
      "Current loss is: 0.0038486854\n",
      "Current loss is: 0.0042744065\n",
      "Current loss is: 0.003612147\n",
      "Current loss is: 0.0029841717\n",
      "Current loss is: 0.0022015367\n",
      "Current loss is: 0.0056450665\n",
      "Current loss is: 0.013178792\n",
      "Current loss is: 0.02301175\n"
     ]
    },
    {
     "name": "stderr",
     "output_type": "stream",
     "text": [
      "\r",
      "\u001b[32mloss: 294:  30%|████████████▎                            |  ETA: 0:00:17\u001b[39m"
     ]
    },
    {
     "name": "stdout",
     "output_type": "stream",
     "text": [
      "Current loss is: 0.0021129742\n",
      "Current loss is: 0.06245821\n",
      "Current loss is: 0.048087932\n",
      "Current loss is: 0.27283978\n",
      "Current loss is: 4.330458\n",
      "Current loss is: 41.626846\n",
      "Current loss is: 21.32279\n",
      "Current loss is: 294.14725\n",
      "Current loss is: 6.0000386\n",
      "Current loss is: 549.8538\n",
      "Current loss is: 312.19284\n",
      "Current loss is: 5.0214896\n"
     ]
    },
    {
     "name": "stderr",
     "output_type": "stream",
     "text": [
      "\r",
      "\u001b[32mloss: 274:  30%|████████████▌                            |  ETA: 0:00:17\u001b[39m"
     ]
    },
    {
     "name": "stdout",
     "output_type": "stream",
     "text": [
      "Current loss is: 29.743664\n",
      "Current loss is: 463.37418\n",
      "Current loss is: 658.0099\n",
      "Current loss is: 103.046936\n",
      "Current loss is: 2.4592414\n",
      "Current loss is: 3.9764056\n",
      "Current loss is: 89.99449\n",
      "Current loss is: 273.97888\n",
      "Current loss is: 262.60577\n"
     ]
    },
    {
     "name": "stderr",
     "output_type": "stream",
     "text": [
      "\r",
      "\u001b[32mloss: 43.2:  31%|████████████▋                            |  ETA: 0:00:17\u001b[39m"
     ]
    },
    {
     "name": "stdout",
     "output_type": "stream",
     "text": [
      "Current loss is: 149.74619\n",
      "Current loss is: 64.24865\n",
      "Current loss is: 26.367441\n",
      "Current loss is: 19.81959\n",
      "Current loss is: 29.584112\n",
      "Current loss is: 36.48767\n",
      "Current loss is: 43.195107\n",
      "Current loss is: 72.096924\n"
     ]
    },
    {
     "name": "stderr",
     "output_type": "stream",
     "text": [
      "\r",
      "\u001b[32mloss: 0.85:  31%|████████████▉                            |  ETA: 0:00:17\u001b[39m"
     ]
    },
    {
     "name": "stdout",
     "output_type": "stream",
     "text": [
      "Current loss is: 108.31624\n",
      "Current loss is: 116.08116\n",
      "Current loss is: 86.79137\n",
      "Current loss is: 49.71517\n",
      "Current loss is: 29.608677\n",
      "Current loss is: 20.748632\n",
      "Current loss is: 11.152234\n",
      "Current loss is: 3.6890845\n",
      "Current loss is: 0.8501065\n"
     ]
    },
    {
     "name": "stderr",
     "output_type": "stream",
     "text": [
      "\r",
      "\u001b[32mloss: 9.56:  32%|█████████████                            |  ETA: 0:00:17\u001b[39m"
     ]
    },
    {
     "name": "stdout",
     "output_type": "stream",
     "text": [
      "Current loss is: 0.3359549\n",
      "Current loss is: 0.38969108\n",
      "Current loss is: 0.80406827\n",
      "Current loss is: 2.11317\n",
      "Current loss is: 4.685465\n",
      "Current loss is: 7.7015524\n",
      "Current loss is: 9.558812\n"
     ]
    },
    {
     "name": "stderr",
     "output_type": "stream",
     "text": [
      "\r",
      "\u001b[32mloss: 1.68:  32%|█████████████▏                           |  ETA: 0:00:17\u001b[39m"
     ]
    },
    {
     "name": "stdout",
     "output_type": "stream",
     "text": [
      "Current loss is: 9.985287\n",
      "Current loss is: 9.717424\n",
      "Current loss is: 8.811688\n",
      "Current loss is: 7.1125975\n",
      "Current loss is: 4.993689\n",
      "Current loss is: 3.0612977\n",
      "Current loss is: 1.682082\n"
     ]
    },
    {
     "name": "stderr",
     "output_type": "stream",
     "text": [
      "\r",
      "\u001b[32mloss: 0.804:  32%|█████████████▎                           |  ETA: 0:00:17\u001b[39m"
     ]
    },
    {
     "name": "stdout",
     "output_type": "stream",
     "text": [
      "Current loss is: 0.90185714\n",
      "Current loss is: 0.596548\n",
      "Current loss is: 0.5961067\n",
      "Current loss is: 0.7232077\n",
      "Current loss is: 0.8234526\n",
      "Current loss is: 0.8317908\n",
      "Current loss is: 0.8039636\n"
     ]
    },
    {
     "name": "stderr",
     "output_type": "stream",
     "text": [
      "\r",
      "\u001b[32mloss: 1.43:  33%|█████████████▌                           |  ETA: 0:00:17\u001b[39m"
     ]
    },
    {
     "name": "stdout",
     "output_type": "stream",
     "text": [
      "Current loss is: 0.84905463\n",
      "Current loss is: 1.0296056\n",
      "Current loss is: 1.3187244\n",
      "Current loss is: 1.6203713\n",
      "Current loss is: 1.8211155\n",
      "Current loss is: 1.8467821\n",
      "Current loss is: 1.696343\n",
      "Current loss is: 1.4333596\n",
      "Current loss is: 1.1451529\n",
      "Current loss is: 0.9014387\n",
      "Current loss is: 0.7344319\n"
     ]
    },
    {
     "name": "stderr",
     "output_type": "stream",
     "text": [
      "\r",
      "\u001b[32mloss: 0.566:  33%|█████████████▊                           |  ETA: 0:00:16\u001b[39m"
     ]
    },
    {
     "name": "stdout",
     "output_type": "stream",
     "text": [
      "Current loss is: 0.63951695\n",
      "Current loss is: 0.5870602\n",
      "Current loss is: 0.5416424\n",
      "Current loss is: 0.4849716\n",
      "Current loss is: 0.42874283\n",
      "Current loss is: 0.40591773\n",
      "Current loss is: 0.44815785\n",
      "Current loss is: 0.5656575\n",
      "Current loss is: 0.7369184\n",
      "Current loss is: 0.91083264\n",
      "Current loss is: 1.0245209\n"
     ]
    },
    {
     "name": "stderr",
     "output_type": "stream",
     "text": [
      "\r",
      "\u001b[32mloss: 0.181:  34%|█████████████▉                           |  ETA: 0:00:16\u001b[39m"
     ]
    },
    {
     "name": "stdout",
     "output_type": "stream",
     "text": [
      "Current loss is: 1.0331317\n",
      "Current loss is: 0.93354076\n",
      "Current loss is: 0.7631405\n",
      "Current loss is: 0.5753618\n",
      "Current loss is: 0.41268718\n",
      "Current loss is: 0.29453725\n",
      "Current loss is: 0.22067669\n",
      "Current loss is: 0.18085852\n",
      "Current loss is: 0.16290641\n",
      "Current loss is: 0.15681706\n",
      "Current loss is: 0.15580745\n"
     ]
    },
    {
     "name": "stderr",
     "output_type": "stream",
     "text": [
      "\r",
      "\u001b[32mloss: 0.144:  34%|██████████████▏                          |  ETA: 0:00:16\u001b[39m"
     ]
    },
    {
     "name": "stdout",
     "output_type": "stream",
     "text": [
      "Current loss is: 0.1559056\n",
      "Current loss is: 0.1551779\n",
      "Current loss is: 0.1530532\n",
      "Current loss is: 0.14984684\n",
      "Current loss is: 0.1464425\n",
      "Current loss is: 0.14404795\n",
      "Current loss is: 0.14397085\n",
      "Current loss is: 0.1473597\n",
      "Current loss is: 0.15490377\n"
     ]
    },
    {
     "name": "stderr",
     "output_type": "stream",
     "text": [
      "\r",
      "\u001b[32mloss: 0.186:  35%|██████████████▍                          |  ETA: 0:00:16\u001b[39m"
     ]
    },
    {
     "name": "stdout",
     "output_type": "stream",
     "text": [
      "Current loss is: 0.1665191\n",
      "Current loss is: 0.18111362\n",
      "Current loss is: 0.19656901\n",
      "Current loss is: 0.21006727\n",
      "Current loss is: 0.21876252\n",
      "Current loss is: 0.22060177\n",
      "Current loss is: 0.21495733\n",
      "Current loss is: 0.2027736\n",
      "Current loss is: 0.18616876\n",
      "Current loss is: 0.16771951\n",
      "Current loss is: 0.14976107\n",
      "Current loss is: 0.13395098\n"
     ]
    },
    {
     "name": "stderr",
     "output_type": "stream",
     "text": [
      "\r",
      "\u001b[32mloss: 0.0922:  36%|██████████████▋                          |  ETA: 0:00:16\u001b[39m"
     ]
    },
    {
     "name": "stdout",
     "output_type": "stream",
     "text": [
      "Current loss is: 0.1211495\n",
      "Current loss is: 0.11152995\n",
      "Current loss is: 0.1047876\n",
      "Current loss is: 0.10035254\n",
      "Current loss is: 0.097560965\n",
      "Current loss is: 0.095780015\n",
      "Current loss is: 0.09449193\n",
      "Current loss is: 0.09334521\n",
      "Current loss is: 0.092173755\n",
      "Current loss is: 0.09098351\n",
      "Current loss is: 0.08990914\n",
      "Current loss is: 0.089150175\n"
     ]
    },
    {
     "name": "stderr",
     "output_type": "stream",
     "text": [
      "\r",
      "\u001b[32mloss: 0.0956:  36%|██████████████▊                          |  ETA: 0:00:15\u001b[39m"
     ]
    },
    {
     "name": "stdout",
     "output_type": "stream",
     "text": [
      "Current loss is: 0.08889833\n",
      "Current loss is: 0.08926988\n",
      "Current loss is: 0.09025658\n",
      "Current loss is: 0.09170364\n",
      "Current loss is: 0.09332588\n",
      "Current loss is: 0.09475921\n",
      "Current loss is: 0.09564048\n",
      "Current loss is: 0.0956932\n",
      "Current loss is: 0.09478992\n"
     ]
    },
    {
     "name": "stderr",
     "output_type": "stream",
     "text": [
      "\r",
      "\u001b[32mloss: 0.0723:  37%|███████████████                          |  ETA: 0:00:15\u001b[39m"
     ]
    },
    {
     "name": "stdout",
     "output_type": "stream",
     "text": [
      "Current loss is: 0.09297356\n",
      "Current loss is: 0.09042998\n",
      "Current loss is: 0.08742891\n",
      "Current loss is: 0.084256604\n",
      "Current loss is: 0.08116241\n",
      "Current loss is: 0.07833045\n",
      "Current loss is: 0.07587676\n",
      "Current loss is: 0.07386239\n",
      "Current loss is: 0.07231185\n",
      "Current loss is: 0.07122829\n",
      "Current loss is: 0.07059893\n"
     ]
    },
    {
     "name": "stderr",
     "output_type": "stream",
     "text": [
      "\r",
      "\u001b[32mloss: 0.0714:  37%|███████████████▎                         |  ETA: 0:00:15\u001b[39m"
     ]
    },
    {
     "name": "stdout",
     "output_type": "stream",
     "text": [
      "Current loss is: 0.07039119\n",
      "Current loss is: 0.07054268\n",
      "Current loss is: 0.07095349\n",
      "Current loss is: 0.07148747\n",
      "Current loss is: 0.07198813\n",
      "Current loss is: 0.072307706\n",
      "Current loss is: 0.07233988\n",
      "Current loss is: 0.07204373\n",
      "Current loss is: 0.071447745\n",
      "Current loss is: 0.0706342\n",
      "Current loss is: 0.069710985\n"
     ]
    },
    {
     "name": "stderr",
     "output_type": "stream",
     "text": [
      "\r",
      "\u001b[32mloss: 0.0651:  38%|███████████████▌                         |  ETA: 0:00:15\u001b[39m"
     ]
    },
    {
     "name": "stdout",
     "output_type": "stream",
     "text": [
      "Current loss is: 0.068784624\n",
      "Current loss is: 0.06794175\n",
      "Current loss is: 0.06724146\n",
      "Current loss is: 0.06671229\n",
      "Current loss is: 0.06635061\n",
      "Current loss is: 0.06611985\n",
      "Current loss is: 0.06595382\n",
      "Current loss is: 0.065769315\n",
      "Current loss is: 0.06548807\n",
      "Current loss is: 0.0650618\n",
      "Current loss is: 0.064489305\n"
     ]
    },
    {
     "name": "stderr",
     "output_type": "stream",
     "text": [
      "\r",
      "\u001b[32mloss: 0.0616:  38%|███████████████▋                         |  ETA: 0:00:15\u001b[39m"
     ]
    },
    {
     "name": "stdout",
     "output_type": "stream",
     "text": [
      "Current loss is: 0.06381719\n",
      "Current loss is: 0.06312446\n",
      "Current loss is: 0.062497415\n",
      "Current loss is: 0.062006593\n",
      "Current loss is: 0.061691355\n",
      "Current loss is: 0.06155353\n",
      "Current loss is: 0.0615559\n",
      "Current loss is: 0.061625272\n",
      "Current loss is: 0.061663054\n",
      "Current loss is: 0.061565973\n"
     ]
    },
    {
     "name": "stderr",
     "output_type": "stream",
     "text": [
      "\r",
      "\u001b[32mloss: 0.0571:  39%|███████████████▉                         |  ETA: 0:00:15\u001b[39m"
     ]
    },
    {
     "name": "stdout",
     "output_type": "stream",
     "text": [
      "Current loss is: 0.061257154\n",
      "Current loss is: 0.060715538\n",
      "Current loss is: 0.05998777\n",
      "Current loss is: 0.059174255\n",
      "Current loss is: 0.058396116\n",
      "Current loss is: 0.057758816\n",
      "Current loss is: 0.057327233\n",
      "Current loss is: 0.057114206\n",
      "Current loss is: 0.057079278\n",
      "Current loss is: 0.057134263\n",
      "Current loss is: 0.05716101\n"
     ]
    },
    {
     "name": "stderr",
     "output_type": "stream",
     "text": [
      "\r",
      "\u001b[32mloss: 0.0532:  39%|████████████████▏                        |  ETA: 0:00:14\u001b[39m"
     ]
    },
    {
     "name": "stdout",
     "output_type": "stream",
     "text": [
      "Current loss is: 0.057043795\n",
      "Current loss is: 0.05671013\n",
      "Current loss is: 0.056159794\n",
      "Current loss is: 0.055464305\n",
      "Current loss is: 0.054735463\n",
      "Current loss is: 0.054082233\n",
      "Current loss is: 0.05357614\n",
      "Current loss is: 0.05323468\n",
      "Current loss is: 0.05302064\n",
      "Current loss is: 0.052855708\n",
      "Current loss is: 0.05264762\n"
     ]
    },
    {
     "name": "stderr",
     "output_type": "stream",
     "text": [
      "\r",
      "\u001b[32mloss: 0.0497:  40%|████████████████▎                        |  ETA: 0:00:14\u001b[39m"
     ]
    },
    {
     "name": "stdout",
     "output_type": "stream",
     "text": [
      "Current loss is: 0.05232591\n",
      "Current loss is: 0.051870726\n",
      "Current loss is: 0.051317196\n",
      "Current loss is: 0.050733328\n",
      "Current loss is: 0.050185245\n",
      "Current loss is: 0.049709365\n",
      "Current loss is: 0.049301013\n",
      "Current loss is: 0.048921764\n",
      "Current loss is: 0.048522033\n"
     ]
    },
    {
     "name": "stderr",
     "output_type": "stream",
     "text": [
      "\r",
      "\u001b[32mloss: 0.0447:  40%|████████████████▌                        |  ETA: 0:00:14\u001b[39m"
     ]
    },
    {
     "name": "stdout",
     "output_type": "stream",
     "text": [
      "Current loss is: 0.048068903\n",
      "Current loss is: 0.04756368\n",
      "Current loss is: 0.04703796\n",
      "Current loss is: 0.046530575\n",
      "Current loss is: 0.04606223\n",
      "Current loss is: 0.045622274\n",
      "Current loss is: 0.045174815\n",
      "Current loss is: 0.044681557\n",
      "Current loss is: 0.044128902\n",
      "Current loss is: 0.043540593\n",
      "Current loss is: 0.042964224\n"
     ]
    },
    {
     "name": "stderr",
     "output_type": "stream",
     "text": [
      "\r",
      "\u001b[32mloss: 0.0388:  41%|████████████████▊                        |  ETA: 0:00:14\u001b[39m"
     ]
    },
    {
     "name": "stdout",
     "output_type": "stream",
     "text": [
      "Current loss is: 0.04244098\n",
      "Current loss is: 0.041978694\n",
      "Current loss is: 0.041545205\n",
      "Current loss is: 0.04108672\n",
      "Current loss is: 0.040562566\n",
      "Current loss is: 0.039973833\n",
      "Current loss is: 0.039363377\n",
      "Current loss is: 0.03878577\n",
      "Current loss is: 0.038270622\n",
      "Current loss is: 0.037804976\n",
      "Current loss is: 0.03734476\n"
     ]
    },
    {
     "name": "stderr",
     "output_type": "stream",
     "text": [
      "\r",
      "\u001b[32mloss: 0.0332:  41%|█████████████████                        |  ETA: 0:00:14\u001b[39m"
     ]
    },
    {
     "name": "stdout",
     "output_type": "stream",
     "text": [
      "Current loss is: 0.03684803\n",
      "Current loss is: 0.03630526\n",
      "Current loss is: 0.035743654\n",
      "Current loss is: 0.035201527\n",
      "Current loss is: 0.03469731\n",
      "Current loss is: 0.03421878\n",
      "Current loss is: 0.033738647\n",
      "Current loss is: 0.03324157\n",
      "Current loss is: 0.032737326\n"
     ]
    },
    {
     "name": "stderr",
     "output_type": "stream",
     "text": [
      "\r",
      "\u001b[32mloss: 0.0291:  42%|█████████████████▏                       |  ETA: 0:00:14\u001b[39m"
     ]
    },
    {
     "name": "stdout",
     "output_type": "stream",
     "text": [
      "Current loss is: 0.03224758\n",
      "Current loss is: 0.031781822\n",
      "Current loss is: 0.0313273\n",
      "Current loss is: 0.030863345\n",
      "Current loss is: 0.030385464\n",
      "Current loss is: 0.029912313\n",
      "Current loss is: 0.029466767\n",
      "Current loss is: 0.02905047\n",
      "Current loss is: 0.028640524\n",
      "Current loss is: 0.028212482\n",
      "Current loss is: 0.027766734\n"
     ]
    },
    {
     "name": "stderr",
     "output_type": "stream",
     "text": [
      "\r",
      "\u001b[32mloss: 0.0245:  42%|█████████████████▍                       |  ETA: 0:00:14\u001b[39m"
     ]
    },
    {
     "name": "stdout",
     "output_type": "stream",
     "text": [
      "Current loss is: 0.027327877\n",
      "Current loss is: 0.026917055\n",
      "Current loss is: 0.026529247\n",
      "Current loss is: 0.026140396\n",
      "Current loss is: 0.025735222\n",
      "Current loss is: 0.025322475\n",
      "Current loss is: 0.024919774\n",
      "Current loss is: 0.024529777\n",
      "Current loss is: 0.024138793\n",
      "Current loss is: 0.023737106\n",
      "Current loss is: 0.023331214\n"
     ]
    },
    {
     "name": "stderr",
     "output_type": "stream",
     "text": [
      "\r",
      "\u001b[32mloss: 0.0199:  43%|█████████████████▋                       |  ETA: 0:00:13\u001b[39m"
     ]
    },
    {
     "name": "stdout",
     "output_type": "stream",
     "text": [
      "Current loss is: 0.022930404\n",
      "Current loss is: 0.022528874\n",
      "Current loss is: 0.022111349\n",
      "Current loss is: 0.021674577\n",
      "Current loss is: 0.02123122\n",
      "Current loss is: 0.0207885\n",
      "Current loss is: 0.020334028\n",
      "Current loss is: 0.019850768\n",
      "Current loss is: 0.019338515\n",
      "Current loss is: 0.018808577\n",
      "Current loss is: 0.018261543\n"
     ]
    },
    {
     "name": "stderr",
     "output_type": "stream",
     "text": [
      "\r",
      "\u001b[32mloss: 0.0142:  43%|█████████████████▊                       |  ETA: 0:00:13\u001b[39m"
     ]
    },
    {
     "name": "stdout",
     "output_type": "stream",
     "text": [
      "Current loss is: 0.017684024\n",
      "Current loss is: 0.017066985\n",
      "Current loss is: 0.016413582\n",
      "Current loss is: 0.01572556\n",
      "Current loss is: 0.014995046\n",
      "Current loss is: 0.014215523\n",
      "Current loss is: 0.01339061\n",
      "Current loss is: 0.012525288\n",
      "Current loss is: 0.011617881\n"
     ]
    },
    {
     "name": "stderr",
     "output_type": "stream",
     "text": [
      "\r",
      "\u001b[32mloss: 0.00412:  44%|██████████████████                       |  ETA: 0:00:13\u001b[39m"
     ]
    },
    {
     "name": "stdout",
     "output_type": "stream",
     "text": [
      "Current loss is: 0.010667861\n",
      "Current loss is: 0.0096856775\n",
      "Current loss is: 0.008689197\n",
      "Current loss is: 0.0076955063\n",
      "Current loss is: 0.00672111\n",
      "Current loss is: 0.0057862476\n",
      "Current loss is: 0.0049136216\n",
      "Current loss is: 0.004122233\n",
      "Current loss is: 0.003422848\n",
      "Current loss is: 0.0028174873\n",
      "Current loss is: 0.0023013786\n"
     ]
    },
    {
     "name": "stderr",
     "output_type": "stream",
     "text": [
      "\r",
      "\u001b[32mloss: 0.000307:  44%|██████████████████▎                      |  ETA: 0:00:13\u001b[39m"
     ]
    },
    {
     "name": "stdout",
     "output_type": "stream",
     "text": [
      "Current loss is: 0.0018658019\n",
      "Current loss is: 0.0015011033\n",
      "Current loss is: 0.0011982551\n",
      "Current loss is: 0.0009482284\n",
      "Current loss is: 0.00074118644\n",
      "Current loss is: 0.00056811137\n",
      "Current loss is: 0.0004236711\n",
      "Current loss is: 0.0003065641\n",
      "Current loss is: 0.00021647138\n",
      "Current loss is: 0.0001510207\n",
      "Current loss is: 0.0001055521\n"
     ]
    },
    {
     "name": "stderr",
     "output_type": "stream",
     "text": [
      "\r",
      "\u001b[32mloss: 1.43e-05:  45%|██████████████████▌                      |  ETA: 0:00:13\u001b[39m"
     ]
    },
    {
     "name": "stdout",
     "output_type": "stream",
     "text": [
      "Current loss is: 7.47454e-5\n",
      "Current loss is: 5.4029864e-5\n",
      "Current loss is: 4.0049476e-5\n",
      "Current loss is: 3.053459e-5\n",
      "Current loss is: 2.4004074e-5\n",
      "Current loss is: 1.9498744e-5\n",
      "Current loss is: 1.6394646e-5\n",
      "Current loss is: 1.428291e-5\n",
      "Current loss is: 1.2900275e-5\n"
     ]
    },
    {
     "name": "stderr",
     "output_type": "stream",
     "text": [
      "\r",
      "\u001b[32mloss: 2.5e-05:  46%|██████████████████▊                      |  ETA: 0:00:13\u001b[39m"
     ]
    },
    {
     "name": "stdout",
     "output_type": "stream",
     "text": [
      "Current loss is: 1.2084667e-5\n",
      "Current loss is: 1.1738888e-5\n",
      "Current loss is: 1.1809133e-5\n",
      "Current loss is: 1.22959245e-5\n",
      "Current loss is: 1.3287635e-5\n",
      "Current loss is: 1.4964995e-5\n",
      "Current loss is: 1.7470746e-5\n",
      "Current loss is: 2.0570591e-5\n",
      "Current loss is: 2.3399236e-5\n",
      "Current loss is: 2.4979116e-5\n",
      "Current loss is: 2.5129932e-5\n"
     ]
    },
    {
     "name": "stderr",
     "output_type": "stream",
     "text": [
      "\r",
      "\u001b[32mloss: 2.14e-05:  46%|██████████████████▉                      |  ETA: 0:00:13\u001b[39m"
     ]
    },
    {
     "name": "stdout",
     "output_type": "stream",
     "text": [
      "Current loss is: 2.438819e-5\n",
      "Current loss is: 2.3435761e-5\n",
      "Current loss is: 2.2859056e-5\n",
      "Current loss is: 2.2806635e-5\n",
      "Current loss is: 2.2806631e-5\n",
      "Current loss is: 2.261127e-5\n",
      "Current loss is: 2.251163e-5\n",
      "Current loss is: 2.2389591e-5\n",
      "Current loss is: 2.2032706e-5\n",
      "Current loss is: 2.138826e-5\n",
      "Current loss is: 2.022062e-5\n"
     ]
    },
    {
     "name": "stderr",
     "output_type": "stream",
     "text": [
      "\r",
      "\u001b[32mloss: 8.04e-06:  47%|███████████████████▏                     |  ETA: 0:00:12\u001b[39m"
     ]
    },
    {
     "name": "stdout",
     "output_type": "stream",
     "text": [
      "Current loss is: 1.883546e-5\n",
      "Current loss is: 1.7578472e-5\n",
      "Current loss is: 1.6403452e-5\n",
      "Current loss is: 1.5277172e-5\n",
      "Current loss is: 1.4014573e-5\n",
      "Current loss is: 1.2661893e-5\n",
      "Current loss is: 1.1373748e-5\n",
      "Current loss is: 1.0144358e-5\n",
      "Current loss is: 9.024284e-6\n",
      "Current loss is: 8.044663e-6\n",
      "Current loss is: 7.1643817e-6\n"
     ]
    },
    {
     "name": "stderr",
     "output_type": "stream",
     "text": [
      "\r",
      "\u001b[32mloss: 3.41e-06:  47%|███████████████████▎                     |  ETA: 0:00:12\u001b[39m"
     ]
    },
    {
     "name": "stdout",
     "output_type": "stream",
     "text": [
      "Current loss is: 6.401512e-6\n",
      "Current loss is: 5.7872276e-6\n",
      "Current loss is: 5.2994083e-6\n",
      "Current loss is: 4.8988504e-6\n",
      "Current loss is: 4.537729e-6\n",
      "Current loss is: 4.1652684e-6\n",
      "Current loss is: 3.7730863e-6\n",
      "Current loss is: 3.4053614e-6\n",
      "Current loss is: 3.1057114e-6\n"
     ]
    },
    {
     "name": "stderr",
     "output_type": "stream",
     "text": [
      "\r",
      "\u001b[32mloss: 2.43e-06:  48%|███████████████████▌                     |  ETA: 0:00:12\u001b[39m"
     ]
    },
    {
     "name": "stdout",
     "output_type": "stream",
     "text": [
      "Current loss is: 2.8804398e-6\n",
      "Current loss is: 2.7109945e-6\n",
      "Current loss is: 2.5812146e-6\n",
      "Current loss is: 2.485464e-6\n",
      "Current loss is: 2.4202861e-6\n",
      "Current loss is: 2.3795767e-6\n",
      "Current loss is: 2.3580594e-6\n",
      "Current loss is: 2.3543657e-6\n",
      "Current loss is: 2.368324e-6\n",
      "Current loss is: 2.3958537e-6\n",
      "Current loss is: 2.4253486e-6\n",
      "Current loss is: 2.442541e-6\n"
     ]
    },
    {
     "name": "stderr",
     "output_type": "stream",
     "text": [
      "\r",
      "\u001b[32mloss: 2.69e-06:  48%|███████████████████▊                     |  ETA: 0:00:12\u001b[39m"
     ]
    },
    {
     "name": "stdout",
     "output_type": "stream",
     "text": [
      "Current loss is: 2.445791e-6\n",
      "Current loss is: 2.4492492e-6\n",
      "Current loss is: 2.4639273e-6\n",
      "Current loss is: 2.4887577e-6\n",
      "Current loss is: 2.5232107e-6\n",
      "Current loss is: 2.569212e-6\n",
      "Current loss is: 2.6178654e-6\n",
      "Current loss is: 2.6542139e-6\n",
      "Current loss is: 2.6761231e-6\n",
      "Current loss is: 2.692659e-6\n",
      "Current loss is: 2.712457e-6\n"
     ]
    },
    {
     "name": "stderr",
     "output_type": "stream",
     "text": [
      "\r",
      "\u001b[32mloss: 2.68e-06:  49%|███████████████████▉                     |  ETA: 0:00:12\u001b[39m"
     ]
    },
    {
     "name": "stdout",
     "output_type": "stream",
     "text": [
      "Current loss is: 2.7404544e-6\n",
      "Current loss is: 2.7750502e-6\n",
      "Current loss is: 2.8029037e-6\n",
      "Current loss is: 2.8018844e-6\n",
      "Current loss is: 2.7585538e-6\n",
      "Current loss is: 2.6844164e-6\n",
      "Current loss is: 2.6029788e-6\n"
     ]
    },
    {
     "name": "stderr",
     "output_type": "stream",
     "text": [
      "\r",
      "\u001b[32mloss: 1.81e-06:  49%|████████████████████▏                    |  ETA: 0:00:12\u001b[39m"
     ]
    },
    {
     "name": "stdout",
     "output_type": "stream",
     "text": [
      "Current loss is: 2.5278807e-6\n",
      "Current loss is: 2.46102e-6\n",
      "Current loss is: 2.3942143e-6\n",
      "Current loss is: 2.3168393e-6\n",
      "Current loss is: 2.2298232e-6\n",
      "Current loss is: 2.1434616e-6\n",
      "Current loss is: 2.065809e-6\n",
      "Current loss is: 1.9972802e-6\n",
      "Current loss is: 1.9341078e-6\n",
      "Current loss is: 1.8730916e-6\n",
      "Current loss is: 1.8118981e-6\n",
      "Current loss is: 1.7512167e-6\n"
     ]
    },
    {
     "name": "stderr",
     "output_type": "stream",
     "text": [
      "\r",
      "\u001b[32mloss: 1.38e-06:  50%|████████████████████▍                    |  ETA: 0:00:12\u001b[39m"
     ]
    },
    {
     "name": "stdout",
     "output_type": "stream",
     "text": [
      "Current loss is: 1.6948992e-6\n",
      "Current loss is: 1.645282e-6\n",
      "Current loss is: 1.6029519e-6\n",
      "Current loss is: 1.5666649e-6\n",
      "Current loss is: 1.5333399e-6\n",
      "Current loss is: 1.5009331e-6\n",
      "Current loss is: 1.4701741e-6\n",
      "Current loss is: 1.4428352e-6\n",
      "Current loss is: 1.4188383e-6\n",
      "Current loss is: 1.3977017e-6\n",
      "Current loss is: 1.3790658e-6\n",
      "Current loss is: 1.3623386e-6\n",
      "Current loss is: 1.3472537e-6\n",
      "Current loss is: 1.3333957e-6\n",
      "Current loss is: 1.3196926e-6\n",
      "Current loss is: 1.3044163e-6\n",
      "Current loss is: 1.2861626e-6\n",
      "Current loss is: 1.2645245e-6\n",
      "Current loss is: 1.2411225e-6\n",
      "Current loss is: 1.2180342e-6\n",
      "Current loss is: 1.1968815e-6\n",
      "Current loss is: 1.1785086e-6\n"
     ]
    },
    {
     "name": "stderr",
     "output_type": "stream",
     "text": [
      "\r",
      "\u001b[32mloss: 1.16e-06:  50%|████████████████████▋                    |  ETA: 0:00:11\u001b[39m"
     ]
    },
    {
     "name": "stdout",
     "output_type": "stream",
     "text": [
      "Current loss is: 1.1627121e-6\n",
      "Current loss is: 1.1486309e-6\n",
      "Current loss is: 1.1363225e-6\n",
      "Current loss is: 1.1262418e-6\n",
      "Current loss is: 1.117752e-6\n",
      "Current loss is: 1.1091563e-6\n",
      "Current loss is: 1.0998302e-6\n",
      "Current loss is: 1.0906791e-6\n",
      "Current loss is: 1.0824539e-6\n",
      "Current loss is: 1.0753607e-6\n",
      "Current loss is: 1.0689066e-6\n"
     ]
    },
    {
     "name": "stderr",
     "output_type": "stream",
     "text": [
      "\u001b[32mloss: 1e-06: 100%|█████████████████████████████████████████| Time: 0:00:11\u001b[39m39m\n"
     ]
    },
    {
     "name": "stdout",
     "output_type": "stream",
     "text": [
      "Current loss is: 1.0620461e-6\n",
      "Current loss is: 1.0552646e-6\n",
      "Current loss is: 1.0502579e-6\n",
      "Current loss is: 1.0463101e-6\n",
      "Current loss is: 1.041094e-6\n",
      "Current loss is: 1.0359661e-6\n",
      "Current loss is: 1.0329713e-6\n",
      "Current loss is: 1.0296048e-6\n",
      "Current loss is: 1.0211402e-6\n",
      "Current loss is: 1.0030058e-6\n",
      "Current loss is: 9.712528e-7\n"
     ]
    },
    {
     "data": {
      "text/plain": [
       "retcode: Default\n",
       "Interpolation: 1st order linear\n",
       "t: 0.0f0:1.0f0:5.0f0\n",
       "u: 6-element Array{Array{Float32,1},1}:\n",
       " [1.1731778e-5, 4.142575e-5, 0.00013563911, 0.00041155893, 0.0011563409, 0.003005783, 0.0072206757, 0.01600931, 0.032706194, 0.06144011  …  0.06144011, 0.032706194, 0.01600931, 0.0072206757, 0.003005783, 0.0011563409, 0.00041155893, 0.00013563911, 4.142575e-5, 1.1731778e-5]            \n",
       " [-0.019536758, -0.022576148, -0.023341836, -0.025496, 0.020819427, -0.019536883, 0.023032565, 0.028058572, 0.03747989, 0.04714307  …  0.053294398, -0.010677323, -0.013432743, -0.017567923, -0.023780264, 0.016884843, 0.023255905, -0.025323454, 0.016764456, 0.021262702]                 \n",
       " [-0.006619689, -0.0074914205, -0.0082871085, -0.007860762, 0.006833877, -0.0063187676, 0.008893477, 0.011769634, 0.017712872, 0.025587205  …  0.027448505, 0.0018661581, -0.0019750725, -0.004797431, -0.007445705, 0.006221148, 0.007342959, -0.008211551, 0.00561684, 0.0069986004]        \n",
       " [-0.001006777, -0.004141147, -0.003875733, -0.003411212, 0.0014161422, -0.0016297894, 0.005508355, 0.005526364, 0.011739314, 0.019274138  …  0.018092431, 0.0057368334, 0.001116233, 0.0008846824, -0.0021584826, 0.0018441927, 0.0013040919, -0.0031327344, 0.001175873, 0.00240917]        \n",
       " [0.0025045304, -0.0005533131, 0.00062227563, -0.00010149178, -0.00158692, 0.0022094278, 0.0020445543, 0.0015087305, 0.007059036, 0.014762968  …  0.012638766, 0.008662604, 0.004089184, 0.0043045986, 0.0019065265, -0.0015359124, -0.0020332895, 0.0008037662, -0.0017590993, -0.0010193222]\n",
       " [0.00022780793, -0.0004679425, -0.0003450747, -0.0002550026, 1.886778e-5, 0.0005016336, 0.0019444688, 0.003203093, 0.007252656, 0.014104828  …  0.013513781, 0.00693316, 0.0032152375, 0.0019331314, 0.0006927785, 5.3539756e-5, -7.487551e-5, -0.00016192543, -0.00024228886, 2.0650356e-5] "
      ]
     },
     "execution_count": 14,
     "metadata": {},
     "output_type": "execute_result"
    }
   ],
   "source": [
    "linear = (u,p,t) -> @. (p .- u)\n",
    "prob = ODEProblem(ODEFunction(linear), f0, tspan, M)\n",
    "chain = Flux.Chain(Dense(1,64,σ), Dense(64,nu))\n",
    "opt = ADAM(0.1, (0.9, 0.95))\n",
    "sol = solve(prob,NeuralNetDiffEq.NNODE(chain,opt, autodiff=true), verbose=true, dt=1f0, maxiters=2000)"
   ]
  },
  {
   "cell_type": "code",
   "execution_count": 21,
   "metadata": {},
   "outputs": [
    {
     "data": {
      "image/svg+xml": [
       "<?xml version=\"1.0\" encoding=\"utf-8\"?>\n",
       "<svg xmlns=\"http://www.w3.org/2000/svg\" xmlns:xlink=\"http://www.w3.org/1999/xlink\" width=\"600\" height=\"400\" viewBox=\"0 0 2400 1600\">\n",
       "<defs>\n",
       "  <clipPath id=\"clip7900\">\n",
       "    <rect x=\"0\" y=\"0\" width=\"2400\" height=\"1600\"/>\n",
       "  </clipPath>\n",
       "</defs>\n",
       "<path clip-path=\"url(#clip7900)\" d=\"\n",
       "M0 1600 L2400 1600 L2400 0 L0 0  Z\n",
       "  \" fill=\"#ffffff\" fill-rule=\"evenodd\" fill-opacity=\"1\"/>\n",
       "<defs>\n",
       "  <clipPath id=\"clip7901\">\n",
       "    <rect x=\"480\" y=\"0\" width=\"1681\" height=\"1600\"/>\n",
       "  </clipPath>\n",
       "</defs>\n",
       "<path clip-path=\"url(#clip7900)\" d=\"\n",
       "M148.334 1486.45 L2352.76 1486.45 L2352.76 47.2441 L148.334 47.2441  Z\n",
       "  \" fill=\"#ffffff\" fill-rule=\"evenodd\" fill-opacity=\"1\"/>\n",
       "<defs>\n",
       "  <clipPath id=\"clip7902\">\n",
       "    <rect x=\"148\" y=\"47\" width=\"2205\" height=\"1440\"/>\n",
       "  </clipPath>\n",
       "</defs>\n",
       "<polyline clip-path=\"url(#clip7902)\" style=\"stroke:#000000; stroke-width:2; stroke-opacity:0.1; fill:none\" points=\"\n",
       "  489.247,1486.45 489.247,47.2441 \n",
       "  \"/>\n",
       "<polyline clip-path=\"url(#clip7902)\" style=\"stroke:#000000; stroke-width:2; stroke-opacity:0.1; fill:none\" points=\"\n",
       "  869.896,1486.45 869.896,47.2441 \n",
       "  \"/>\n",
       "<polyline clip-path=\"url(#clip7902)\" style=\"stroke:#000000; stroke-width:2; stroke-opacity:0.1; fill:none\" points=\"\n",
       "  1250.55,1486.45 1250.55,47.2441 \n",
       "  \"/>\n",
       "<polyline clip-path=\"url(#clip7902)\" style=\"stroke:#000000; stroke-width:2; stroke-opacity:0.1; fill:none\" points=\"\n",
       "  1631.19,1486.45 1631.19,47.2441 \n",
       "  \"/>\n",
       "<polyline clip-path=\"url(#clip7902)\" style=\"stroke:#000000; stroke-width:2; stroke-opacity:0.1; fill:none\" points=\"\n",
       "  2011.84,1486.45 2011.84,47.2441 \n",
       "  \"/>\n",
       "<polyline clip-path=\"url(#clip7902)\" style=\"stroke:#000000; stroke-width:2; stroke-opacity:0.1; fill:none\" points=\"\n",
       "  148.334,1373.62 2352.76,1373.62 \n",
       "  \"/>\n",
       "<polyline clip-path=\"url(#clip7902)\" style=\"stroke:#000000; stroke-width:2; stroke-opacity:0.1; fill:none\" points=\"\n",
       "  148.334,1090.83 2352.76,1090.83 \n",
       "  \"/>\n",
       "<polyline clip-path=\"url(#clip7902)\" style=\"stroke:#000000; stroke-width:2; stroke-opacity:0.1; fill:none\" points=\"\n",
       "  148.334,808.038 2352.76,808.038 \n",
       "  \"/>\n",
       "<polyline clip-path=\"url(#clip7902)\" style=\"stroke:#000000; stroke-width:2; stroke-opacity:0.1; fill:none\" points=\"\n",
       "  148.334,525.25 2352.76,525.25 \n",
       "  \"/>\n",
       "<polyline clip-path=\"url(#clip7902)\" style=\"stroke:#000000; stroke-width:2; stroke-opacity:0.1; fill:none\" points=\"\n",
       "  148.334,242.461 2352.76,242.461 \n",
       "  \"/>\n",
       "<polyline clip-path=\"url(#clip7900)\" style=\"stroke:#000000; stroke-width:4; stroke-opacity:1; fill:none\" points=\"\n",
       "  148.334,1486.45 2352.76,1486.45 \n",
       "  \"/>\n",
       "<polyline clip-path=\"url(#clip7900)\" style=\"stroke:#000000; stroke-width:4; stroke-opacity:1; fill:none\" points=\"\n",
       "  148.334,1486.45 148.334,47.2441 \n",
       "  \"/>\n",
       "<polyline clip-path=\"url(#clip7900)\" style=\"stroke:#000000; stroke-width:4; stroke-opacity:1; fill:none\" points=\"\n",
       "  489.247,1486.45 489.247,1469.18 \n",
       "  \"/>\n",
       "<polyline clip-path=\"url(#clip7900)\" style=\"stroke:#000000; stroke-width:4; stroke-opacity:1; fill:none\" points=\"\n",
       "  869.896,1486.45 869.896,1469.18 \n",
       "  \"/>\n",
       "<polyline clip-path=\"url(#clip7900)\" style=\"stroke:#000000; stroke-width:4; stroke-opacity:1; fill:none\" points=\"\n",
       "  1250.55,1486.45 1250.55,1469.18 \n",
       "  \"/>\n",
       "<polyline clip-path=\"url(#clip7900)\" style=\"stroke:#000000; stroke-width:4; stroke-opacity:1; fill:none\" points=\"\n",
       "  1631.19,1486.45 1631.19,1469.18 \n",
       "  \"/>\n",
       "<polyline clip-path=\"url(#clip7900)\" style=\"stroke:#000000; stroke-width:4; stroke-opacity:1; fill:none\" points=\"\n",
       "  2011.84,1486.45 2011.84,1469.18 \n",
       "  \"/>\n",
       "<polyline clip-path=\"url(#clip7900)\" style=\"stroke:#000000; stroke-width:4; stroke-opacity:1; fill:none\" points=\"\n",
       "  148.334,1373.62 174.787,1373.62 \n",
       "  \"/>\n",
       "<polyline clip-path=\"url(#clip7900)\" style=\"stroke:#000000; stroke-width:4; stroke-opacity:1; fill:none\" points=\"\n",
       "  148.334,1090.83 174.787,1090.83 \n",
       "  \"/>\n",
       "<polyline clip-path=\"url(#clip7900)\" style=\"stroke:#000000; stroke-width:4; stroke-opacity:1; fill:none\" points=\"\n",
       "  148.334,808.038 174.787,808.038 \n",
       "  \"/>\n",
       "<polyline clip-path=\"url(#clip7900)\" style=\"stroke:#000000; stroke-width:4; stroke-opacity:1; fill:none\" points=\"\n",
       "  148.334,525.25 174.787,525.25 \n",
       "  \"/>\n",
       "<polyline clip-path=\"url(#clip7900)\" style=\"stroke:#000000; stroke-width:4; stroke-opacity:1; fill:none\" points=\"\n",
       "  148.334,242.461 174.787,242.461 \n",
       "  \"/>\n",
       "<path clip-path=\"url(#clip7900)\" d=\"M 0 0 M451.516 1525.04 L463.993 1525.04 L463.993 1528.83 L451.516 1528.83 L451.516 1525.04 Z\" fill=\"#000000\" fill-rule=\"evenodd\" fill-opacity=\"1\" /><path clip-path=\"url(#clip7900)\" d=\"M 0 0 M469.109 1505.36 L487.465 1505.36 L487.465 1509.3 L473.391 1509.3 L473.391 1517.77 Q474.409 1517.42 475.428 1517.26 Q476.446 1517.07 477.465 1517.07 Q483.252 1517.07 486.632 1520.24 Q490.011 1523.42 490.011 1528.83 Q490.011 1534.41 486.539 1537.51 Q483.067 1540.59 476.747 1540.59 Q474.571 1540.59 472.303 1540.22 Q470.058 1539.85 467.65 1539.11 L467.65 1534.41 Q469.734 1535.54 471.956 1536.1 Q474.178 1536.66 476.655 1536.66 Q480.659 1536.66 482.997 1534.55 Q485.335 1532.44 485.335 1528.83 Q485.335 1525.22 482.997 1523.11 Q480.659 1521.01 476.655 1521.01 Q474.78 1521.01 472.905 1521.42 Q471.053 1521.84 469.109 1522.72 L469.109 1505.36 Z\" fill=\"#000000\" fill-rule=\"evenodd\" fill-opacity=\"1\" /><path clip-path=\"url(#clip7900)\" d=\"M 0 0 M495.081 1534.04 L499.965 1534.04 L499.965 1539.92 L495.081 1539.92 L495.081 1534.04 Z\" fill=\"#000000\" fill-rule=\"evenodd\" fill-opacity=\"1\" /><path clip-path=\"url(#clip7900)\" d=\"M 0 0 M515.034 1508.44 Q511.423 1508.44 509.594 1512 Q507.789 1515.55 507.789 1522.67 Q507.789 1529.78 509.594 1533.35 Q511.423 1536.89 515.034 1536.89 Q518.668 1536.89 520.474 1533.35 Q522.303 1529.78 522.303 1522.67 Q522.303 1515.55 520.474 1512 Q518.668 1508.44 515.034 1508.44 M515.034 1504.73 Q520.844 1504.73 523.9 1509.34 Q526.979 1513.92 526.979 1522.67 Q526.979 1531.4 523.9 1536.01 Q520.844 1540.59 515.034 1540.59 Q509.224 1540.59 506.145 1536.01 Q503.09 1531.4 503.09 1522.67 Q503.09 1513.92 506.145 1509.34 Q509.224 1504.73 515.034 1504.73 Z\" fill=\"#000000\" fill-rule=\"evenodd\" fill-opacity=\"1\" /><path clip-path=\"url(#clip7900)\" d=\"M 0 0 M832.964 1525.04 L845.44 1525.04 L845.44 1528.83 L832.964 1528.83 L832.964 1525.04 Z\" fill=\"#000000\" fill-rule=\"evenodd\" fill-opacity=\"1\" /><path clip-path=\"url(#clip7900)\" d=\"M 0 0 M854.538 1535.98 L870.857 1535.98 L870.857 1539.92 L848.913 1539.92 L848.913 1535.98 Q851.575 1533.23 856.158 1528.6 Q860.764 1523.95 861.945 1522.61 Q864.19 1520.08 865.07 1518.35 Q865.973 1516.59 865.973 1514.9 Q865.973 1512.14 864.028 1510.41 Q862.107 1508.67 859.005 1508.67 Q856.806 1508.67 854.352 1509.43 Q851.922 1510.2 849.144 1511.75 L849.144 1507.03 Q851.968 1505.89 854.422 1505.31 Q856.875 1504.73 858.912 1504.73 Q864.283 1504.73 867.477 1507.42 Q870.672 1510.11 870.672 1514.6 Q870.672 1516.73 869.861 1518.65 Q869.074 1520.54 866.968 1523.14 Q866.389 1523.81 863.287 1527.03 Q860.186 1530.22 854.538 1535.98 Z\" fill=\"#000000\" fill-rule=\"evenodd\" fill-opacity=\"1\" /><path clip-path=\"url(#clip7900)\" d=\"M 0 0 M875.926 1534.04 L880.811 1534.04 L880.811 1539.92 L875.926 1539.92 L875.926 1534.04 Z\" fill=\"#000000\" fill-rule=\"evenodd\" fill-opacity=\"1\" /><path clip-path=\"url(#clip7900)\" d=\"M 0 0 M885.926 1505.36 L904.283 1505.36 L904.283 1509.3 L890.209 1509.3 L890.209 1517.77 Q891.227 1517.42 892.246 1517.26 Q893.264 1517.07 894.283 1517.07 Q900.07 1517.07 903.449 1520.24 Q906.829 1523.42 906.829 1528.83 Q906.829 1534.41 903.357 1537.51 Q899.884 1540.59 893.565 1540.59 Q891.389 1540.59 889.121 1540.22 Q886.875 1539.85 884.468 1539.11 L884.468 1534.41 Q886.551 1535.54 888.773 1536.1 Q890.996 1536.66 893.472 1536.66 Q897.477 1536.66 899.815 1534.55 Q902.153 1532.44 902.153 1528.83 Q902.153 1525.22 899.815 1523.11 Q897.477 1521.01 893.472 1521.01 Q891.597 1521.01 889.722 1521.42 Q887.871 1521.84 885.926 1522.72 L885.926 1505.36 Z\" fill=\"#000000\" fill-rule=\"evenodd\" fill-opacity=\"1\" /><path clip-path=\"url(#clip7900)\" d=\"M 0 0 M1232.06 1508.44 Q1228.45 1508.44 1226.62 1512 Q1224.82 1515.55 1224.82 1522.67 Q1224.82 1529.78 1226.62 1533.35 Q1228.45 1536.89 1232.06 1536.89 Q1235.7 1536.89 1237.5 1533.35 Q1239.33 1529.78 1239.33 1522.67 Q1239.33 1515.55 1237.5 1512 Q1235.7 1508.44 1232.06 1508.44 M1232.06 1504.73 Q1237.87 1504.73 1240.93 1509.34 Q1244.01 1513.92 1244.01 1522.67 Q1244.01 1531.4 1240.93 1536.01 Q1237.87 1540.59 1232.06 1540.59 Q1226.25 1540.59 1223.17 1536.01 Q1220.12 1531.4 1220.12 1522.67 Q1220.12 1513.92 1223.17 1509.34 Q1226.25 1504.73 1232.06 1504.73 Z\" fill=\"#000000\" fill-rule=\"evenodd\" fill-opacity=\"1\" /><path clip-path=\"url(#clip7900)\" d=\"M 0 0 M1249.08 1534.04 L1253.96 1534.04 L1253.96 1539.92 L1249.08 1539.92 L1249.08 1534.04 Z\" fill=\"#000000\" fill-rule=\"evenodd\" fill-opacity=\"1\" /><path clip-path=\"url(#clip7900)\" d=\"M 0 0 M1269.03 1508.44 Q1265.42 1508.44 1263.59 1512 Q1261.78 1515.55 1261.78 1522.67 Q1261.78 1529.78 1263.59 1533.35 Q1265.42 1536.89 1269.03 1536.89 Q1272.66 1536.89 1274.47 1533.35 Q1276.3 1529.78 1276.3 1522.67 Q1276.3 1515.55 1274.47 1512 Q1272.66 1508.44 1269.03 1508.44 M1269.03 1504.73 Q1274.84 1504.73 1277.89 1509.34 Q1280.97 1513.92 1280.97 1522.67 Q1280.97 1531.4 1277.89 1536.01 Q1274.84 1540.59 1269.03 1540.59 Q1263.22 1540.59 1260.14 1536.01 Q1257.08 1531.4 1257.08 1522.67 Q1257.08 1513.92 1260.14 1509.34 Q1263.22 1504.73 1269.03 1504.73 Z\" fill=\"#000000\" fill-rule=\"evenodd\" fill-opacity=\"1\" /><path clip-path=\"url(#clip7900)\" d=\"M 0 0 M1607.86 1535.98 L1624.18 1535.98 L1624.18 1539.92 L1602.24 1539.92 L1602.24 1535.98 Q1604.9 1533.23 1609.48 1528.6 Q1614.09 1523.95 1615.27 1522.61 Q1617.51 1520.08 1618.39 1518.35 Q1619.3 1516.59 1619.3 1514.9 Q1619.3 1512.14 1617.35 1510.41 Q1615.43 1508.67 1612.33 1508.67 Q1610.13 1508.67 1607.68 1509.43 Q1605.25 1510.2 1602.47 1511.75 L1602.47 1507.03 Q1605.29 1505.89 1607.75 1505.31 Q1610.2 1504.73 1612.24 1504.73 Q1617.61 1504.73 1620.8 1507.42 Q1624 1510.11 1624 1514.6 Q1624 1516.73 1623.18 1518.65 Q1622.4 1520.54 1620.29 1523.14 Q1619.71 1523.81 1616.61 1527.03 Q1613.51 1530.22 1607.86 1535.98 Z\" fill=\"#000000\" fill-rule=\"evenodd\" fill-opacity=\"1\" /><path clip-path=\"url(#clip7900)\" d=\"M 0 0 M1629.25 1534.04 L1634.13 1534.04 L1634.13 1539.92 L1629.25 1539.92 L1629.25 1534.04 Z\" fill=\"#000000\" fill-rule=\"evenodd\" fill-opacity=\"1\" /><path clip-path=\"url(#clip7900)\" d=\"M 0 0 M1639.25 1505.36 L1657.61 1505.36 L1657.61 1509.3 L1643.53 1509.3 L1643.53 1517.77 Q1644.55 1517.42 1645.57 1517.26 Q1646.59 1517.07 1647.61 1517.07 Q1653.39 1517.07 1656.77 1520.24 Q1660.15 1523.42 1660.15 1528.83 Q1660.15 1534.41 1656.68 1537.51 Q1653.21 1540.59 1646.89 1540.59 Q1644.71 1540.59 1642.44 1540.22 Q1640.2 1539.85 1637.79 1539.11 L1637.79 1534.41 Q1639.87 1535.54 1642.1 1536.1 Q1644.32 1536.66 1646.8 1536.66 Q1650.8 1536.66 1653.14 1534.55 Q1655.48 1532.44 1655.48 1528.83 Q1655.48 1525.22 1653.14 1523.11 Q1650.8 1521.01 1646.8 1521.01 Q1644.92 1521.01 1643.05 1521.42 Q1641.19 1521.84 1639.25 1522.72 L1639.25 1505.36 Z\" fill=\"#000000\" fill-rule=\"evenodd\" fill-opacity=\"1\" /><path clip-path=\"url(#clip7900)\" d=\"M 0 0 M1983.64 1505.36 L2001.99 1505.36 L2001.99 1509.3 L1987.92 1509.3 L1987.92 1517.77 Q1988.94 1517.42 1989.96 1517.26 Q1990.98 1517.07 1991.99 1517.07 Q1997.78 1517.07 2001.16 1520.24 Q2004.54 1523.42 2004.54 1528.83 Q2004.54 1534.41 2001.07 1537.51 Q1997.6 1540.59 1991.28 1540.59 Q1989.1 1540.59 1986.83 1540.22 Q1984.59 1539.85 1982.18 1539.11 L1982.18 1534.41 Q1984.26 1535.54 1986.48 1536.1 Q1988.71 1536.66 1991.18 1536.66 Q1995.19 1536.66 1997.53 1534.55 Q1999.86 1532.44 1999.86 1528.83 Q1999.86 1525.22 1997.53 1523.11 Q1995.19 1521.01 1991.18 1521.01 Q1989.31 1521.01 1987.43 1521.42 Q1985.58 1521.84 1983.64 1522.72 L1983.64 1505.36 Z\" fill=\"#000000\" fill-rule=\"evenodd\" fill-opacity=\"1\" /><path clip-path=\"url(#clip7900)\" d=\"M 0 0 M2009.61 1534.04 L2014.49 1534.04 L2014.49 1539.92 L2009.61 1539.92 L2009.61 1534.04 Z\" fill=\"#000000\" fill-rule=\"evenodd\" fill-opacity=\"1\" /><path clip-path=\"url(#clip7900)\" d=\"M 0 0 M2029.56 1508.44 Q2025.95 1508.44 2024.12 1512 Q2022.32 1515.55 2022.32 1522.67 Q2022.32 1529.78 2024.12 1533.35 Q2025.95 1536.89 2029.56 1536.89 Q2033.2 1536.89 2035 1533.35 Q2036.83 1529.78 2036.83 1522.67 Q2036.83 1515.55 2035 1512 Q2033.2 1508.44 2029.56 1508.44 M2029.56 1504.73 Q2035.37 1504.73 2038.43 1509.34 Q2041.51 1513.92 2041.51 1522.67 Q2041.51 1531.4 2038.43 1536.01 Q2035.37 1540.59 2029.56 1540.59 Q2023.75 1540.59 2020.67 1536.01 Q2017.62 1531.4 2017.62 1522.67 Q2017.62 1513.92 2020.67 1509.34 Q2023.75 1504.73 2029.56 1504.73 Z\" fill=\"#000000\" fill-rule=\"evenodd\" fill-opacity=\"1\" /><path clip-path=\"url(#clip7900)\" d=\"M 0 0 M75.4226 1359.41 Q71.8115 1359.41 69.9828 1362.98 Q68.1773 1366.52 68.1773 1373.65 Q68.1773 1380.76 69.9828 1384.32 Q71.8115 1387.86 75.4226 1387.86 Q79.0569 1387.86 80.8624 1384.32 Q82.6911 1380.76 82.6911 1373.65 Q82.6911 1366.52 80.8624 1362.98 Q79.0569 1359.41 75.4226 1359.41 M75.4226 1355.71 Q81.2328 1355.71 84.2883 1360.32 Q87.367 1364.9 87.367 1373.65 Q87.367 1382.38 84.2883 1386.98 Q81.2328 1391.57 75.4226 1391.57 Q69.6125 1391.57 66.5338 1386.98 Q63.4782 1382.38 63.4782 1373.65 Q63.4782 1364.9 66.5338 1360.32 Q69.6125 1355.71 75.4226 1355.71 Z\" fill=\"#000000\" fill-rule=\"evenodd\" fill-opacity=\"1\" /><path clip-path=\"url(#clip7900)\" d=\"M 0 0 M92.4364 1385.02 L97.3206 1385.02 L97.3206 1390.9 L92.4364 1390.9 L92.4364 1385.02 Z\" fill=\"#000000\" fill-rule=\"evenodd\" fill-opacity=\"1\" /><path clip-path=\"url(#clip7900)\" d=\"M 0 0 M112.39 1359.41 Q108.779 1359.41 106.95 1362.98 Q105.145 1366.52 105.145 1373.65 Q105.145 1380.76 106.95 1384.32 Q108.779 1387.86 112.39 1387.86 Q116.024 1387.86 117.83 1384.32 Q119.658 1380.76 119.658 1373.65 Q119.658 1366.52 117.83 1362.98 Q116.024 1359.41 112.39 1359.41 M112.39 1355.71 Q118.2 1355.71 121.256 1360.32 Q124.334 1364.9 124.334 1373.65 Q124.334 1382.38 121.256 1386.98 Q118.2 1391.57 112.39 1391.57 Q106.58 1391.57 103.501 1386.98 Q100.446 1382.38 100.446 1373.65 Q100.446 1364.9 103.501 1360.32 Q106.58 1355.71 112.39 1355.71 Z\" fill=\"#000000\" fill-rule=\"evenodd\" fill-opacity=\"1\" /><path clip-path=\"url(#clip7900)\" d=\"M 0 0 M76.6495 1076.63 Q73.0384 1076.63 71.2097 1080.19 Q69.4041 1083.73 69.4041 1090.86 Q69.4041 1097.97 71.2097 1101.53 Q73.0384 1105.07 76.6495 1105.07 Q80.2837 1105.07 82.0892 1101.53 Q83.9179 1097.97 83.9179 1090.86 Q83.9179 1083.73 82.0892 1080.19 Q80.2837 1076.63 76.6495 1076.63 M76.6495 1072.92 Q82.4596 1072.92 85.5152 1077.53 Q88.5938 1082.11 88.5938 1090.86 Q88.5938 1099.59 85.5152 1104.2 Q82.4596 1108.78 76.6495 1108.78 Q70.8393 1108.78 67.7606 1104.2 Q64.7051 1099.59 64.7051 1090.86 Q64.7051 1082.11 67.7606 1077.53 Q70.8393 1072.92 76.6495 1072.92 Z\" fill=\"#000000\" fill-rule=\"evenodd\" fill-opacity=\"1\" /><path clip-path=\"url(#clip7900)\" d=\"M 0 0 M93.6633 1102.23 L98.5475 1102.23 L98.5475 1108.11 L93.6633 1108.11 L93.6633 1102.23 Z\" fill=\"#000000\" fill-rule=\"evenodd\" fill-opacity=\"1\" /><path clip-path=\"url(#clip7900)\" d=\"M 0 0 M104.427 1104.17 L112.066 1104.17 L112.066 1077.81 L103.756 1079.47 L103.756 1075.21 L112.02 1073.55 L116.696 1073.55 L116.696 1104.17 L124.334 1104.17 L124.334 1108.11 L104.427 1108.11 L104.427 1104.17 Z\" fill=\"#000000\" fill-rule=\"evenodd\" fill-opacity=\"1\" /><path clip-path=\"url(#clip7900)\" d=\"M 0 0 M77.0198 793.837 Q73.4087 793.837 71.58 797.402 Q69.7745 800.943 69.7745 808.073 Q69.7745 815.179 71.58 818.744 Q73.4087 822.286 77.0198 822.286 Q80.6541 822.286 82.4596 818.744 Q84.2883 815.179 84.2883 808.073 Q84.2883 800.943 82.4596 797.402 Q80.6541 793.837 77.0198 793.837 M77.0198 790.133 Q82.83 790.133 85.8855 794.74 Q88.9642 799.323 88.9642 808.073 Q88.9642 816.8 85.8855 821.406 Q82.83 825.99 77.0198 825.99 Q71.2097 825.99 68.131 821.406 Q65.0754 816.8 65.0754 808.073 Q65.0754 799.323 68.131 794.74 Q71.2097 790.133 77.0198 790.133 Z\" fill=\"#000000\" fill-rule=\"evenodd\" fill-opacity=\"1\" /><path clip-path=\"url(#clip7900)\" d=\"M 0 0 M94.0336 819.439 L98.9179 819.439 L98.9179 825.318 L94.0336 825.318 L94.0336 819.439 Z\" fill=\"#000000\" fill-rule=\"evenodd\" fill-opacity=\"1\" /><path clip-path=\"url(#clip7900)\" d=\"M 0 0 M108.015 821.383 L124.334 821.383 L124.334 825.318 L102.39 825.318 L102.39 821.383 Q105.052 818.629 109.635 813.999 Q114.242 809.346 115.422 808.004 Q117.668 805.48 118.547 803.744 Q119.45 801.985 119.45 800.295 Q119.45 797.541 117.506 795.805 Q115.584 794.068 112.483 794.068 Q110.284 794.068 107.83 794.832 Q105.399 795.596 102.622 797.147 L102.622 792.425 Q105.446 791.291 107.899 790.712 Q110.353 790.133 112.39 790.133 Q117.76 790.133 120.955 792.819 Q124.149 795.504 124.149 799.994 Q124.149 802.124 123.339 804.045 Q122.552 805.943 120.446 808.536 Q119.867 809.207 116.765 812.425 Q113.663 815.619 108.015 821.383 Z\" fill=\"#000000\" fill-rule=\"evenodd\" fill-opacity=\"1\" /><path clip-path=\"url(#clip7900)\" d=\"M 0 0 M76.0708 511.048 Q72.4597 511.048 70.631 514.613 Q68.8254 518.155 68.8254 525.284 Q68.8254 532.391 70.631 535.956 Q72.4597 539.497 76.0708 539.497 Q79.705 539.497 81.5105 535.956 Q83.3392 532.391 83.3392 525.284 Q83.3392 518.155 81.5105 514.613 Q79.705 511.048 76.0708 511.048 M76.0708 507.345 Q81.8809 507.345 84.9365 511.951 Q88.0151 516.534 88.0151 525.284 Q88.0151 534.011 84.9365 538.618 Q81.8809 543.201 76.0708 543.201 Q70.2606 543.201 67.1819 538.618 Q64.1264 534.011 64.1264 525.284 Q64.1264 516.534 67.1819 511.951 Q70.2606 507.345 76.0708 507.345 Z\" fill=\"#000000\" fill-rule=\"evenodd\" fill-opacity=\"1\" /><path clip-path=\"url(#clip7900)\" d=\"M 0 0 M93.0846 536.65 L97.9688 536.65 L97.9688 542.53 L93.0846 542.53 L93.0846 536.65 Z\" fill=\"#000000\" fill-rule=\"evenodd\" fill-opacity=\"1\" /><path clip-path=\"url(#clip7900)\" d=\"M 0 0 M117.205 523.895 Q120.561 524.613 122.436 526.881 Q124.334 529.15 124.334 532.483 Q124.334 537.599 120.816 540.4 Q117.297 543.201 110.816 543.201 Q108.64 543.201 106.325 542.761 Q104.034 542.344 101.58 541.488 L101.58 536.974 Q103.524 538.108 105.839 538.687 Q108.154 539.266 110.677 539.266 Q115.075 539.266 117.367 537.53 Q119.682 535.793 119.682 532.483 Q119.682 529.428 117.529 527.715 Q115.399 525.979 111.58 525.979 L107.552 525.979 L107.552 522.136 L111.765 522.136 Q115.214 522.136 117.043 520.77 Q118.871 519.382 118.871 516.789 Q118.871 514.127 116.973 512.715 Q115.098 511.28 111.58 511.28 Q109.659 511.28 107.459 511.696 Q105.26 512.113 102.622 512.993 L102.622 508.826 Q105.284 508.085 107.598 507.715 Q109.936 507.345 111.996 507.345 Q117.321 507.345 120.422 509.775 Q123.524 512.183 123.524 516.303 Q123.524 519.173 121.881 521.164 Q120.237 523.132 117.205 523.895 Z\" fill=\"#000000\" fill-rule=\"evenodd\" fill-opacity=\"1\" /><path clip-path=\"url(#clip7900)\" d=\"M 0 0 M74.9365 228.259 Q71.3254 228.259 69.4967 231.824 Q67.6912 235.366 67.6912 242.496 Q67.6912 249.602 69.4967 253.167 Q71.3254 256.708 74.9365 256.708 Q78.5707 256.708 80.3763 253.167 Q82.205 249.602 82.205 242.496 Q82.205 235.366 80.3763 231.824 Q78.5707 228.259 74.9365 228.259 M74.9365 224.556 Q80.7467 224.556 83.8022 229.162 Q86.8809 233.746 86.8809 242.496 Q86.8809 251.222 83.8022 255.829 Q80.7467 260.412 74.9365 260.412 Q69.1264 260.412 66.0477 255.829 Q62.9921 251.222 62.9921 242.496 Q62.9921 233.746 66.0477 229.162 Q69.1264 224.556 74.9365 224.556 Z\" fill=\"#000000\" fill-rule=\"evenodd\" fill-opacity=\"1\" /><path clip-path=\"url(#clip7900)\" d=\"M 0 0 M91.9503 253.861 L96.8345 253.861 L96.8345 259.741 L91.9503 259.741 L91.9503 253.861 Z\" fill=\"#000000\" fill-rule=\"evenodd\" fill-opacity=\"1\" /><path clip-path=\"url(#clip7900)\" d=\"M 0 0 M114.751 229.255 L102.946 247.704 L114.751 247.704 L114.751 229.255 M113.524 225.181 L119.404 225.181 L119.404 247.704 L124.334 247.704 L124.334 251.593 L119.404 251.593 L119.404 259.741 L114.751 259.741 L114.751 251.593 L99.1493 251.593 L99.1493 247.079 L113.524 225.181 Z\" fill=\"#000000\" fill-rule=\"evenodd\" fill-opacity=\"1\" /><polyline clip-path=\"url(#clip7902)\" style=\"stroke:#009af9; stroke-width:8; stroke-opacity:1; fill:none\" points=\"\n",
       "  210.724,1373.58 262.715,1373.5 314.706,1373.23 366.697,1372.45 418.688,1370.35 470.679,1365.12 522.67,1353.2 574.661,1328.34 626.652,1281.13 678.643,1199.87 \n",
       "  730.634,1074.29 782.625,902.352 834.617,698.76 886.608,500.452 938.599,362.761 990.59,342.209 1042.58,469.276 1094.57,723.796 1146.56,1029.61 1198.55,1278.1 \n",
       "  1250.55,1373.62 1302.54,1278.1 1354.53,1029.61 1406.52,723.796 1458.51,469.276 1510.5,342.209 1562.49,362.761 1614.48,500.452 1666.47,698.76 1718.46,902.352 \n",
       "  1770.46,1074.29 1822.45,1199.87 1874.44,1281.13 1926.43,1328.34 1978.42,1353.2 2030.41,1365.12 2082.4,1370.35 2134.39,1372.45 2186.38,1373.23 2238.38,1373.5 \n",
       "  2290.37,1373.58 \n",
       "  \"/>\n",
       "<polyline clip-path=\"url(#clip7902)\" style=\"stroke:#e26f46; stroke-width:8; stroke-opacity:1; fill:none\" points=\"\n",
       "  210.724,1428.86 262.715,1437.46 314.706,1439.62 366.697,1445.72 418.688,1314.74 470.679,1428.86 522.67,1308.48 574.661,1294.27 626.652,1267.63 678.643,1240.3 \n",
       "  730.634,1147.99 782.625,1172.97 834.617,932.49 886.608,886.504 938.599,634.892 990.59,630.9 1042.58,458.756 1094.57,446.654 1146.56,616.972 1198.55,649.815 \n",
       "  1250.55,526.136 1302.54,518.818 1354.53,480.527 1406.52,445.706 1458.51,449.231 1510.5,645.81 1562.49,632.042 1614.48,862.542 1666.47,928.083 1718.46,1176.69 \n",
       "  1770.46,1282.87 1822.45,1222.91 1874.44,1403.81 1926.43,1411.6 1978.42,1423.3 2030.41,1440.86 2082.4,1325.87 2134.39,1307.85 2186.38,1445.23 2238.38,1326.21 \n",
       "  2290.37,1313.49 \n",
       "  \"/>\n",
       "<polyline clip-path=\"url(#clip7902)\" style=\"stroke:#3da44d; stroke-width:8; stroke-opacity:1; fill:none\" points=\"\n",
       "  210.724,1372.97 262.715,1374.94 314.706,1374.59 366.697,1374.34 418.688,1373.56 470.679,1372.2 522.67,1368.12 574.661,1364.56 626.652,1353.11 678.643,1333.73 \n",
       "  730.634,1302.85 782.625,1250.33 834.617,1171.05 886.608,1062.37 938.599,918.864 990.59,747.736 1042.58,564.798 1094.57,381.704 1146.56,229.604 1198.55,124.226 \n",
       "  1250.55,87.9763 1302.54,124.97 1354.53,229.872 1406.52,381.615 1458.51,564.928 1510.5,749.133 1562.49,917.917 1614.48,1062.43 1666.47,1172.9 1718.46,1250.83 \n",
       "  1770.46,1303.28 1822.45,1335.4 1874.44,1354.01 1926.43,1364.52 1978.42,1368.15 2030.41,1371.66 2082.4,1373.46 2134.39,1373.83 2186.38,1374.07 2238.38,1374.3 \n",
       "  2290.37,1373.56 \n",
       "  \"/>\n",
       "<path clip-path=\"url(#clip7900)\" d=\"\n",
       "M1942.1 372.684 L2280.76 372.684 L2280.76 130.764 L1942.1 130.764  Z\n",
       "  \" fill=\"#ffffff\" fill-rule=\"evenodd\" fill-opacity=\"1\"/>\n",
       "<polyline clip-path=\"url(#clip7900)\" style=\"stroke:#000000; stroke-width:4; stroke-opacity:1; fill:none\" points=\"\n",
       "  1942.1,372.684 2280.76,372.684 2280.76,130.764 1942.1,130.764 1942.1,372.684 \n",
       "  \"/>\n",
       "<polyline clip-path=\"url(#clip7900)\" style=\"stroke:#009af9; stroke-width:8; stroke-opacity:1; fill:none\" points=\"\n",
       "  1966.1,191.244 2110.1,191.244 \n",
       "  \"/>\n",
       "<path clip-path=\"url(#clip7900)\" d=\"M 0 0 M2134.1 182.598 L2138.36 182.598 L2138.36 208.524 L2134.1 208.524 L2134.1 182.598 M2134.1 172.506 L2138.36 172.506 L2138.36 177.899 L2134.1 177.899 L2134.1 172.506 Z\" fill=\"#000000\" fill-rule=\"evenodd\" fill-opacity=\"1\" /><path clip-path=\"url(#clip7900)\" d=\"M 0 0 M2164.38 192.876 L2164.38 208.524 L2160.12 208.524 L2160.12 193.015 Q2160.12 189.334 2158.68 187.506 Q2157.25 185.677 2154.38 185.677 Q2150.93 185.677 2148.94 187.876 Q2146.95 190.075 2146.95 193.871 L2146.95 208.524 L2142.66 208.524 L2142.66 182.598 L2146.95 182.598 L2146.95 186.626 Q2148.47 184.288 2150.53 183.131 Q2152.62 181.973 2155.33 181.973 Q2159.79 181.973 2162.08 184.751 Q2164.38 187.506 2164.38 192.876 Z\" fill=\"#000000\" fill-rule=\"evenodd\" fill-opacity=\"1\" /><path clip-path=\"url(#clip7900)\" d=\"M 0 0 M2168.84 182.598 L2173.1 182.598 L2173.1 208.524 L2168.84 208.524 L2168.84 182.598 M2168.84 172.506 L2173.1 172.506 L2173.1 177.899 L2168.84 177.899 L2168.84 172.506 Z\" fill=\"#000000\" fill-rule=\"evenodd\" fill-opacity=\"1\" /><path clip-path=\"url(#clip7900)\" d=\"M 0 0 M2181.78 175.237 L2181.78 182.598 L2190.56 182.598 L2190.56 185.908 L2181.78 185.908 L2181.78 199.982 Q2181.78 203.154 2182.64 204.057 Q2183.52 204.959 2186.18 204.959 L2190.56 204.959 L2190.56 208.524 L2186.18 208.524 Q2181.25 208.524 2179.38 206.695 Q2177.5 204.844 2177.5 199.982 L2177.5 185.908 L2174.38 185.908 L2174.38 182.598 L2177.5 182.598 L2177.5 175.237 L2181.78 175.237 Z\" fill=\"#000000\" fill-rule=\"evenodd\" fill-opacity=\"1\" /><path clip-path=\"url(#clip7900)\" d=\"M 0 0 M2195.02 182.598 L2199.28 182.598 L2199.28 208.524 L2195.02 208.524 L2195.02 182.598 M2195.02 172.506 L2199.28 172.506 L2199.28 177.899 L2195.02 177.899 L2195.02 172.506 Z\" fill=\"#000000\" fill-rule=\"evenodd\" fill-opacity=\"1\" /><path clip-path=\"url(#clip7900)\" d=\"M 0 0 M2215.53 195.492 Q2210.37 195.492 2208.38 196.672 Q2206.39 197.853 2206.39 200.7 Q2206.39 202.969 2207.87 204.311 Q2209.38 205.631 2211.95 205.631 Q2215.49 205.631 2217.62 203.131 Q2219.77 200.607 2219.77 196.441 L2219.77 195.492 L2215.53 195.492 M2224.03 193.733 L2224.03 208.524 L2219.77 208.524 L2219.77 204.589 Q2218.31 206.95 2216.14 208.084 Q2213.96 209.195 2210.81 209.195 Q2206.83 209.195 2204.47 206.973 Q2202.13 204.728 2202.13 200.978 Q2202.13 196.603 2205.05 194.381 Q2207.99 192.158 2213.8 192.158 L2219.77 192.158 L2219.77 191.742 Q2219.77 188.802 2217.83 187.205 Q2215.9 185.584 2212.41 185.584 Q2210.19 185.584 2208.08 186.117 Q2205.97 186.649 2204.03 187.714 L2204.03 183.779 Q2206.37 182.876 2208.57 182.436 Q2210.77 181.973 2212.85 181.973 Q2218.47 181.973 2221.25 184.89 Q2224.03 187.807 2224.03 193.733 Z\" fill=\"#000000\" fill-rule=\"evenodd\" fill-opacity=\"1\" /><path clip-path=\"url(#clip7900)\" d=\"M 0 0 M2228.5 172.506 L2232.76 172.506 L2232.76 208.524 L2228.5 208.524 L2228.5 172.506 Z\" fill=\"#000000\" fill-rule=\"evenodd\" fill-opacity=\"1\" /><polyline clip-path=\"url(#clip7900)\" style=\"stroke:#e26f46; stroke-width:8; stroke-opacity:1; fill:none\" points=\"\n",
       "  1966.1,251.724 2110.1,251.724 \n",
       "  \"/>\n",
       "<path clip-path=\"url(#clip7900)\" d=\"M 0 0 M2141.51 235.717 L2141.51 243.078 L2150.28 243.078 L2150.28 246.388 L2141.51 246.388 L2141.51 260.462 Q2141.51 263.634 2142.36 264.537 Q2143.24 265.439 2145.9 265.439 L2150.28 265.439 L2150.28 269.004 L2145.9 269.004 Q2140.97 269.004 2139.1 267.175 Q2137.22 265.324 2137.22 260.462 L2137.22 246.388 L2134.1 246.388 L2134.1 243.078 L2137.22 243.078 L2137.22 235.717 L2141.51 235.717 Z\" fill=\"#000000\" fill-rule=\"evenodd\" fill-opacity=\"1\" /><path clip-path=\"url(#clip7900)\" d=\"M 0 0 M2155.3 247.476 L2184.98 247.476 L2184.98 251.365 L2155.3 251.365 L2155.3 247.476 M2155.3 256.921 L2184.98 256.921 L2184.98 260.856 L2155.3 260.856 L2155.3 256.921 Z\" fill=\"#000000\" fill-rule=\"evenodd\" fill-opacity=\"1\" /><path clip-path=\"url(#clip7900)\" d=\"M 0 0 M2190.09 234.444 L2208.45 234.444 L2208.45 238.379 L2194.38 238.379 L2194.38 246.851 Q2195.39 246.504 2196.41 246.342 Q2197.43 246.157 2198.45 246.157 Q2204.24 246.157 2207.62 249.328 Q2211 252.5 2211 257.916 Q2211 263.495 2207.52 266.597 Q2204.05 269.675 2197.73 269.675 Q2195.56 269.675 2193.29 269.305 Q2191.04 268.935 2188.64 268.194 L2188.64 263.495 Q2190.72 264.629 2192.94 265.185 Q2195.16 265.74 2197.64 265.74 Q2201.64 265.74 2203.98 263.634 Q2206.32 261.527 2206.32 257.916 Q2206.32 254.305 2203.98 252.199 Q2201.64 250.092 2197.64 250.092 Q2195.77 250.092 2193.89 250.509 Q2192.04 250.925 2190.09 251.805 L2190.09 234.444 Z\" fill=\"#000000\" fill-rule=\"evenodd\" fill-opacity=\"1\" /><polyline clip-path=\"url(#clip7900)\" style=\"stroke:#3da44d; stroke-width:8; stroke-opacity:1; fill:none\" points=\"\n",
       "  1966.1,312.204 2110.1,312.204 \n",
       "  \"/>\n",
       "<path clip-path=\"url(#clip7900)\" d=\"M 0 0 M2141.51 296.197 L2141.51 303.558 L2150.28 303.558 L2150.28 306.868 L2141.51 306.868 L2141.51 320.942 Q2141.51 324.114 2142.36 325.017 Q2143.24 325.919 2145.9 325.919 L2150.28 325.919 L2150.28 329.484 L2145.9 329.484 Q2140.97 329.484 2139.1 327.655 Q2137.22 325.804 2137.22 320.942 L2137.22 306.868 L2134.1 306.868 L2134.1 303.558 L2137.22 303.558 L2137.22 296.197 L2141.51 296.197 Z\" fill=\"#000000\" fill-rule=\"evenodd\" fill-opacity=\"1\" /><path clip-path=\"url(#clip7900)\" d=\"M 0 0 M2155.3 307.956 L2184.98 307.956 L2184.98 311.845 L2155.3 311.845 L2155.3 307.956 M2155.3 317.401 L2184.98 317.401 L2184.98 321.336 L2155.3 321.336 L2155.3 317.401 Z\" fill=\"#000000\" fill-rule=\"evenodd\" fill-opacity=\"1\" /><path clip-path=\"url(#clip7900)\" d=\"M 0 0 M2190.09 294.924 L2208.45 294.924 L2208.45 298.859 L2194.38 298.859 L2194.38 307.331 Q2195.39 306.984 2196.41 306.822 Q2197.43 306.637 2198.45 306.637 Q2204.24 306.637 2207.62 309.808 Q2211 312.98 2211 318.396 Q2211 323.975 2207.52 327.077 Q2204.05 330.155 2197.73 330.155 Q2195.56 330.155 2193.29 329.785 Q2191.04 329.415 2188.64 328.674 L2188.64 323.975 Q2190.72 325.109 2192.94 325.665 Q2195.16 326.22 2197.64 326.22 Q2201.64 326.22 2203.98 324.114 Q2206.32 322.007 2206.32 318.396 Q2206.32 314.785 2203.98 312.679 Q2201.64 310.572 2197.64 310.572 Q2195.77 310.572 2193.89 310.989 Q2192.04 311.405 2190.09 312.285 L2190.09 294.924 Z\" fill=\"#000000\" fill-rule=\"evenodd\" fill-opacity=\"1\" /></svg>\n"
      ]
     },
     "execution_count": 21,
     "metadata": {},
     "output_type": "execute_result"
    }
   ],
   "source": [
    "plot(vSpace.u, sol[1], lw=2, label=\"initial\")\n",
    "plot!(vSpace.u, sol[2], lw=2, label=\"t=5\")\n",
    "plot!(vSpace.u, sol[end], lw=2, label=\"t=5\")"
   ]
  },
  {
   "cell_type": "code",
   "execution_count": null,
   "metadata": {},
   "outputs": [],
   "source": []
  },
  {
   "cell_type": "markdown",
   "metadata": {},
   "source": [
    "## Calculator"
   ]
  },
  {
   "cell_type": "code",
   "execution_count": 10,
   "metadata": {},
   "outputs": [
    {
     "data": {
      "image/svg+xml": [
       "<?xml version=\"1.0\" encoding=\"utf-8\"?>\n",
       "<svg xmlns=\"http://www.w3.org/2000/svg\" xmlns:xlink=\"http://www.w3.org/1999/xlink\" width=\"600\" height=\"400\" viewBox=\"0 0 2400 1600\">\n",
       "<defs>\n",
       "  <clipPath id=\"clip5100\">\n",
       "    <rect x=\"0\" y=\"0\" width=\"2400\" height=\"1600\"/>\n",
       "  </clipPath>\n",
       "</defs>\n",
       "<path clip-path=\"url(#clip5100)\" d=\"\n",
       "M0 1600 L2400 1600 L2400 0 L0 0  Z\n",
       "  \" fill=\"#ffffff\" fill-rule=\"evenodd\" fill-opacity=\"1\"/>\n",
       "<defs>\n",
       "  <clipPath id=\"clip5101\">\n",
       "    <rect x=\"480\" y=\"0\" width=\"1681\" height=\"1600\"/>\n",
       "  </clipPath>\n",
       "</defs>\n",
       "<path clip-path=\"url(#clip5100)\" d=\"\n",
       "M148.334 1486.45 L2352.76 1486.45 L2352.76 47.2441 L148.334 47.2441  Z\n",
       "  \" fill=\"#ffffff\" fill-rule=\"evenodd\" fill-opacity=\"1\"/>\n",
       "<defs>\n",
       "  <clipPath id=\"clip5102\">\n",
       "    <rect x=\"148\" y=\"47\" width=\"2205\" height=\"1440\"/>\n",
       "  </clipPath>\n",
       "</defs>\n",
       "<polyline clip-path=\"url(#clip5102)\" style=\"stroke:#000000; stroke-width:2; stroke-opacity:0.1; fill:none\" points=\"\n",
       "  489.247,1486.45 489.247,47.2441 \n",
       "  \"/>\n",
       "<polyline clip-path=\"url(#clip5102)\" style=\"stroke:#000000; stroke-width:2; stroke-opacity:0.1; fill:none\" points=\"\n",
       "  869.896,1486.45 869.896,47.2441 \n",
       "  \"/>\n",
       "<polyline clip-path=\"url(#clip5102)\" style=\"stroke:#000000; stroke-width:2; stroke-opacity:0.1; fill:none\" points=\"\n",
       "  1250.55,1486.45 1250.55,47.2441 \n",
       "  \"/>\n",
       "<polyline clip-path=\"url(#clip5102)\" style=\"stroke:#000000; stroke-width:2; stroke-opacity:0.1; fill:none\" points=\"\n",
       "  1631.19,1486.45 1631.19,47.2441 \n",
       "  \"/>\n",
       "<polyline clip-path=\"url(#clip5102)\" style=\"stroke:#000000; stroke-width:2; stroke-opacity:0.1; fill:none\" points=\"\n",
       "  2011.84,1486.45 2011.84,47.2441 \n",
       "  \"/>\n",
       "<polyline clip-path=\"url(#clip5102)\" style=\"stroke:#000000; stroke-width:2; stroke-opacity:0.1; fill:none\" points=\"\n",
       "  148.334,1445.72 2352.76,1445.72 \n",
       "  \"/>\n",
       "<polyline clip-path=\"url(#clip5102)\" style=\"stroke:#000000; stroke-width:2; stroke-opacity:0.1; fill:none\" points=\"\n",
       "  148.334,1148.25 2352.76,1148.25 \n",
       "  \"/>\n",
       "<polyline clip-path=\"url(#clip5102)\" style=\"stroke:#000000; stroke-width:2; stroke-opacity:0.1; fill:none\" points=\"\n",
       "  148.334,850.792 2352.76,850.792 \n",
       "  \"/>\n",
       "<polyline clip-path=\"url(#clip5102)\" style=\"stroke:#000000; stroke-width:2; stroke-opacity:0.1; fill:none\" points=\"\n",
       "  148.334,553.33 2352.76,553.33 \n",
       "  \"/>\n",
       "<polyline clip-path=\"url(#clip5102)\" style=\"stroke:#000000; stroke-width:2; stroke-opacity:0.1; fill:none\" points=\"\n",
       "  148.334,255.867 2352.76,255.867 \n",
       "  \"/>\n",
       "<polyline clip-path=\"url(#clip5100)\" style=\"stroke:#000000; stroke-width:4; stroke-opacity:1; fill:none\" points=\"\n",
       "  148.334,1486.45 2352.76,1486.45 \n",
       "  \"/>\n",
       "<polyline clip-path=\"url(#clip5100)\" style=\"stroke:#000000; stroke-width:4; stroke-opacity:1; fill:none\" points=\"\n",
       "  148.334,1486.45 148.334,47.2441 \n",
       "  \"/>\n",
       "<polyline clip-path=\"url(#clip5100)\" style=\"stroke:#000000; stroke-width:4; stroke-opacity:1; fill:none\" points=\"\n",
       "  489.247,1486.45 489.247,1469.18 \n",
       "  \"/>\n",
       "<polyline clip-path=\"url(#clip5100)\" style=\"stroke:#000000; stroke-width:4; stroke-opacity:1; fill:none\" points=\"\n",
       "  869.896,1486.45 869.896,1469.18 \n",
       "  \"/>\n",
       "<polyline clip-path=\"url(#clip5100)\" style=\"stroke:#000000; stroke-width:4; stroke-opacity:1; fill:none\" points=\"\n",
       "  1250.55,1486.45 1250.55,1469.18 \n",
       "  \"/>\n",
       "<polyline clip-path=\"url(#clip5100)\" style=\"stroke:#000000; stroke-width:4; stroke-opacity:1; fill:none\" points=\"\n",
       "  1631.19,1486.45 1631.19,1469.18 \n",
       "  \"/>\n",
       "<polyline clip-path=\"url(#clip5100)\" style=\"stroke:#000000; stroke-width:4; stroke-opacity:1; fill:none\" points=\"\n",
       "  2011.84,1486.45 2011.84,1469.18 \n",
       "  \"/>\n",
       "<polyline clip-path=\"url(#clip5100)\" style=\"stroke:#000000; stroke-width:4; stroke-opacity:1; fill:none\" points=\"\n",
       "  148.334,1445.72 174.787,1445.72 \n",
       "  \"/>\n",
       "<polyline clip-path=\"url(#clip5100)\" style=\"stroke:#000000; stroke-width:4; stroke-opacity:1; fill:none\" points=\"\n",
       "  148.334,1148.25 174.787,1148.25 \n",
       "  \"/>\n",
       "<polyline clip-path=\"url(#clip5100)\" style=\"stroke:#000000; stroke-width:4; stroke-opacity:1; fill:none\" points=\"\n",
       "  148.334,850.792 174.787,850.792 \n",
       "  \"/>\n",
       "<polyline clip-path=\"url(#clip5100)\" style=\"stroke:#000000; stroke-width:4; stroke-opacity:1; fill:none\" points=\"\n",
       "  148.334,553.33 174.787,553.33 \n",
       "  \"/>\n",
       "<polyline clip-path=\"url(#clip5100)\" style=\"stroke:#000000; stroke-width:4; stroke-opacity:1; fill:none\" points=\"\n",
       "  148.334,255.867 174.787,255.867 \n",
       "  \"/>\n",
       "<path clip-path=\"url(#clip5100)\" d=\"M 0 0 M451.516 1525.04 L463.993 1525.04 L463.993 1528.83 L451.516 1528.83 L451.516 1525.04 Z\" fill=\"#000000\" fill-rule=\"evenodd\" fill-opacity=\"1\" /><path clip-path=\"url(#clip5100)\" d=\"M 0 0 M469.109 1505.36 L487.465 1505.36 L487.465 1509.3 L473.391 1509.3 L473.391 1517.77 Q474.409 1517.42 475.428 1517.26 Q476.446 1517.07 477.465 1517.07 Q483.252 1517.07 486.632 1520.24 Q490.011 1523.42 490.011 1528.83 Q490.011 1534.41 486.539 1537.51 Q483.067 1540.59 476.747 1540.59 Q474.571 1540.59 472.303 1540.22 Q470.058 1539.85 467.65 1539.11 L467.65 1534.41 Q469.734 1535.54 471.956 1536.1 Q474.178 1536.66 476.655 1536.66 Q480.659 1536.66 482.997 1534.55 Q485.335 1532.44 485.335 1528.83 Q485.335 1525.22 482.997 1523.11 Q480.659 1521.01 476.655 1521.01 Q474.78 1521.01 472.905 1521.42 Q471.053 1521.84 469.109 1522.72 L469.109 1505.36 Z\" fill=\"#000000\" fill-rule=\"evenodd\" fill-opacity=\"1\" /><path clip-path=\"url(#clip5100)\" d=\"M 0 0 M495.081 1534.04 L499.965 1534.04 L499.965 1539.92 L495.081 1539.92 L495.081 1534.04 Z\" fill=\"#000000\" fill-rule=\"evenodd\" fill-opacity=\"1\" /><path clip-path=\"url(#clip5100)\" d=\"M 0 0 M515.034 1508.44 Q511.423 1508.44 509.594 1512 Q507.789 1515.55 507.789 1522.67 Q507.789 1529.78 509.594 1533.35 Q511.423 1536.89 515.034 1536.89 Q518.668 1536.89 520.474 1533.35 Q522.303 1529.78 522.303 1522.67 Q522.303 1515.55 520.474 1512 Q518.668 1508.44 515.034 1508.44 M515.034 1504.73 Q520.844 1504.73 523.9 1509.34 Q526.979 1513.92 526.979 1522.67 Q526.979 1531.4 523.9 1536.01 Q520.844 1540.59 515.034 1540.59 Q509.224 1540.59 506.145 1536.01 Q503.09 1531.4 503.09 1522.67 Q503.09 1513.92 506.145 1509.34 Q509.224 1504.73 515.034 1504.73 Z\" fill=\"#000000\" fill-rule=\"evenodd\" fill-opacity=\"1\" /><path clip-path=\"url(#clip5100)\" d=\"M 0 0 M832.964 1525.04 L845.44 1525.04 L845.44 1528.83 L832.964 1528.83 L832.964 1525.04 Z\" fill=\"#000000\" fill-rule=\"evenodd\" fill-opacity=\"1\" /><path clip-path=\"url(#clip5100)\" d=\"M 0 0 M854.538 1535.98 L870.857 1535.98 L870.857 1539.92 L848.913 1539.92 L848.913 1535.98 Q851.575 1533.23 856.158 1528.6 Q860.764 1523.95 861.945 1522.61 Q864.19 1520.08 865.07 1518.35 Q865.973 1516.59 865.973 1514.9 Q865.973 1512.14 864.028 1510.41 Q862.107 1508.67 859.005 1508.67 Q856.806 1508.67 854.352 1509.43 Q851.922 1510.2 849.144 1511.75 L849.144 1507.03 Q851.968 1505.89 854.422 1505.31 Q856.875 1504.73 858.912 1504.73 Q864.283 1504.73 867.477 1507.42 Q870.672 1510.11 870.672 1514.6 Q870.672 1516.73 869.861 1518.65 Q869.074 1520.54 866.968 1523.14 Q866.389 1523.81 863.287 1527.03 Q860.186 1530.22 854.538 1535.98 Z\" fill=\"#000000\" fill-rule=\"evenodd\" fill-opacity=\"1\" /><path clip-path=\"url(#clip5100)\" d=\"M 0 0 M875.926 1534.04 L880.811 1534.04 L880.811 1539.92 L875.926 1539.92 L875.926 1534.04 Z\" fill=\"#000000\" fill-rule=\"evenodd\" fill-opacity=\"1\" /><path clip-path=\"url(#clip5100)\" d=\"M 0 0 M885.926 1505.36 L904.283 1505.36 L904.283 1509.3 L890.209 1509.3 L890.209 1517.77 Q891.227 1517.42 892.246 1517.26 Q893.264 1517.07 894.283 1517.07 Q900.07 1517.07 903.449 1520.24 Q906.829 1523.42 906.829 1528.83 Q906.829 1534.41 903.357 1537.51 Q899.884 1540.59 893.565 1540.59 Q891.389 1540.59 889.121 1540.22 Q886.875 1539.85 884.468 1539.11 L884.468 1534.41 Q886.551 1535.54 888.773 1536.1 Q890.996 1536.66 893.472 1536.66 Q897.477 1536.66 899.815 1534.55 Q902.153 1532.44 902.153 1528.83 Q902.153 1525.22 899.815 1523.11 Q897.477 1521.01 893.472 1521.01 Q891.597 1521.01 889.722 1521.42 Q887.871 1521.84 885.926 1522.72 L885.926 1505.36 Z\" fill=\"#000000\" fill-rule=\"evenodd\" fill-opacity=\"1\" /><path clip-path=\"url(#clip5100)\" d=\"M 0 0 M1232.06 1508.44 Q1228.45 1508.44 1226.62 1512 Q1224.82 1515.55 1224.82 1522.67 Q1224.82 1529.78 1226.62 1533.35 Q1228.45 1536.89 1232.06 1536.89 Q1235.7 1536.89 1237.5 1533.35 Q1239.33 1529.78 1239.33 1522.67 Q1239.33 1515.55 1237.5 1512 Q1235.7 1508.44 1232.06 1508.44 M1232.06 1504.73 Q1237.87 1504.73 1240.93 1509.34 Q1244.01 1513.92 1244.01 1522.67 Q1244.01 1531.4 1240.93 1536.01 Q1237.87 1540.59 1232.06 1540.59 Q1226.25 1540.59 1223.17 1536.01 Q1220.12 1531.4 1220.12 1522.67 Q1220.12 1513.92 1223.17 1509.34 Q1226.25 1504.73 1232.06 1504.73 Z\" fill=\"#000000\" fill-rule=\"evenodd\" fill-opacity=\"1\" /><path clip-path=\"url(#clip5100)\" d=\"M 0 0 M1249.08 1534.04 L1253.96 1534.04 L1253.96 1539.92 L1249.08 1539.92 L1249.08 1534.04 Z\" fill=\"#000000\" fill-rule=\"evenodd\" fill-opacity=\"1\" /><path clip-path=\"url(#clip5100)\" d=\"M 0 0 M1269.03 1508.44 Q1265.42 1508.44 1263.59 1512 Q1261.78 1515.55 1261.78 1522.67 Q1261.78 1529.78 1263.59 1533.35 Q1265.42 1536.89 1269.03 1536.89 Q1272.66 1536.89 1274.47 1533.35 Q1276.3 1529.78 1276.3 1522.67 Q1276.3 1515.55 1274.47 1512 Q1272.66 1508.44 1269.03 1508.44 M1269.03 1504.73 Q1274.84 1504.73 1277.89 1509.34 Q1280.97 1513.92 1280.97 1522.67 Q1280.97 1531.4 1277.89 1536.01 Q1274.84 1540.59 1269.03 1540.59 Q1263.22 1540.59 1260.14 1536.01 Q1257.08 1531.4 1257.08 1522.67 Q1257.08 1513.92 1260.14 1509.34 Q1263.22 1504.73 1269.03 1504.73 Z\" fill=\"#000000\" fill-rule=\"evenodd\" fill-opacity=\"1\" /><path clip-path=\"url(#clip5100)\" d=\"M 0 0 M1607.86 1535.98 L1624.18 1535.98 L1624.18 1539.92 L1602.24 1539.92 L1602.24 1535.98 Q1604.9 1533.23 1609.48 1528.6 Q1614.09 1523.95 1615.27 1522.61 Q1617.51 1520.08 1618.39 1518.35 Q1619.3 1516.59 1619.3 1514.9 Q1619.3 1512.14 1617.35 1510.41 Q1615.43 1508.67 1612.33 1508.67 Q1610.13 1508.67 1607.68 1509.43 Q1605.25 1510.2 1602.47 1511.75 L1602.47 1507.03 Q1605.29 1505.89 1607.75 1505.31 Q1610.2 1504.73 1612.24 1504.73 Q1617.61 1504.73 1620.8 1507.42 Q1624 1510.11 1624 1514.6 Q1624 1516.73 1623.18 1518.65 Q1622.4 1520.54 1620.29 1523.14 Q1619.71 1523.81 1616.61 1527.03 Q1613.51 1530.22 1607.86 1535.98 Z\" fill=\"#000000\" fill-rule=\"evenodd\" fill-opacity=\"1\" /><path clip-path=\"url(#clip5100)\" d=\"M 0 0 M1629.25 1534.04 L1634.13 1534.04 L1634.13 1539.92 L1629.25 1539.92 L1629.25 1534.04 Z\" fill=\"#000000\" fill-rule=\"evenodd\" fill-opacity=\"1\" /><path clip-path=\"url(#clip5100)\" d=\"M 0 0 M1639.25 1505.36 L1657.61 1505.36 L1657.61 1509.3 L1643.53 1509.3 L1643.53 1517.77 Q1644.55 1517.42 1645.57 1517.26 Q1646.59 1517.07 1647.61 1517.07 Q1653.39 1517.07 1656.77 1520.24 Q1660.15 1523.42 1660.15 1528.83 Q1660.15 1534.41 1656.68 1537.51 Q1653.21 1540.59 1646.89 1540.59 Q1644.71 1540.59 1642.44 1540.22 Q1640.2 1539.85 1637.79 1539.11 L1637.79 1534.41 Q1639.87 1535.54 1642.1 1536.1 Q1644.32 1536.66 1646.8 1536.66 Q1650.8 1536.66 1653.14 1534.55 Q1655.48 1532.44 1655.48 1528.83 Q1655.48 1525.22 1653.14 1523.11 Q1650.8 1521.01 1646.8 1521.01 Q1644.92 1521.01 1643.05 1521.42 Q1641.19 1521.84 1639.25 1522.72 L1639.25 1505.36 Z\" fill=\"#000000\" fill-rule=\"evenodd\" fill-opacity=\"1\" /><path clip-path=\"url(#clip5100)\" d=\"M 0 0 M1983.64 1505.36 L2001.99 1505.36 L2001.99 1509.3 L1987.92 1509.3 L1987.92 1517.77 Q1988.94 1517.42 1989.96 1517.26 Q1990.98 1517.07 1991.99 1517.07 Q1997.78 1517.07 2001.16 1520.24 Q2004.54 1523.42 2004.54 1528.83 Q2004.54 1534.41 2001.07 1537.51 Q1997.6 1540.59 1991.28 1540.59 Q1989.1 1540.59 1986.83 1540.22 Q1984.59 1539.85 1982.18 1539.11 L1982.18 1534.41 Q1984.26 1535.54 1986.48 1536.1 Q1988.71 1536.66 1991.18 1536.66 Q1995.19 1536.66 1997.53 1534.55 Q1999.86 1532.44 1999.86 1528.83 Q1999.86 1525.22 1997.53 1523.11 Q1995.19 1521.01 1991.18 1521.01 Q1989.31 1521.01 1987.43 1521.42 Q1985.58 1521.84 1983.64 1522.72 L1983.64 1505.36 Z\" fill=\"#000000\" fill-rule=\"evenodd\" fill-opacity=\"1\" /><path clip-path=\"url(#clip5100)\" d=\"M 0 0 M2009.61 1534.04 L2014.49 1534.04 L2014.49 1539.92 L2009.61 1539.92 L2009.61 1534.04 Z\" fill=\"#000000\" fill-rule=\"evenodd\" fill-opacity=\"1\" /><path clip-path=\"url(#clip5100)\" d=\"M 0 0 M2029.56 1508.44 Q2025.95 1508.44 2024.12 1512 Q2022.32 1515.55 2022.32 1522.67 Q2022.32 1529.78 2024.12 1533.35 Q2025.95 1536.89 2029.56 1536.89 Q2033.2 1536.89 2035 1533.35 Q2036.83 1529.78 2036.83 1522.67 Q2036.83 1515.55 2035 1512 Q2033.2 1508.44 2029.56 1508.44 M2029.56 1504.73 Q2035.37 1504.73 2038.43 1509.34 Q2041.51 1513.92 2041.51 1522.67 Q2041.51 1531.4 2038.43 1536.01 Q2035.37 1540.59 2029.56 1540.59 Q2023.75 1540.59 2020.67 1536.01 Q2017.62 1531.4 2017.62 1522.67 Q2017.62 1513.92 2020.67 1509.34 Q2023.75 1504.73 2029.56 1504.73 Z\" fill=\"#000000\" fill-rule=\"evenodd\" fill-opacity=\"1\" /><path clip-path=\"url(#clip5100)\" d=\"M 0 0 M75.4226 1431.51 Q71.8115 1431.51 69.9828 1435.08 Q68.1773 1438.62 68.1773 1445.75 Q68.1773 1452.86 69.9828 1456.42 Q71.8115 1459.96 75.4226 1459.96 Q79.0569 1459.96 80.8624 1456.42 Q82.6911 1452.86 82.6911 1445.75 Q82.6911 1438.62 80.8624 1435.08 Q79.0569 1431.51 75.4226 1431.51 M75.4226 1427.81 Q81.2328 1427.81 84.2883 1432.42 Q87.367 1437 87.367 1445.75 Q87.367 1454.48 84.2883 1459.08 Q81.2328 1463.67 75.4226 1463.67 Q69.6125 1463.67 66.5338 1459.08 Q63.4782 1454.48 63.4782 1445.75 Q63.4782 1437 66.5338 1432.42 Q69.6125 1427.81 75.4226 1427.81 Z\" fill=\"#000000\" fill-rule=\"evenodd\" fill-opacity=\"1\" /><path clip-path=\"url(#clip5100)\" d=\"M 0 0 M92.4364 1457.12 L97.3206 1457.12 L97.3206 1463 L92.4364 1463 L92.4364 1457.12 Z\" fill=\"#000000\" fill-rule=\"evenodd\" fill-opacity=\"1\" /><path clip-path=\"url(#clip5100)\" d=\"M 0 0 M112.39 1431.51 Q108.779 1431.51 106.95 1435.08 Q105.145 1438.62 105.145 1445.75 Q105.145 1452.86 106.95 1456.42 Q108.779 1459.96 112.39 1459.96 Q116.024 1459.96 117.83 1456.42 Q119.658 1452.86 119.658 1445.75 Q119.658 1438.62 117.83 1435.08 Q116.024 1431.51 112.39 1431.51 M112.39 1427.81 Q118.2 1427.81 121.256 1432.42 Q124.334 1437 124.334 1445.75 Q124.334 1454.48 121.256 1459.08 Q118.2 1463.67 112.39 1463.67 Q106.58 1463.67 103.501 1459.08 Q100.446 1454.48 100.446 1445.75 Q100.446 1437 103.501 1432.42 Q106.58 1427.81 112.39 1427.81 Z\" fill=\"#000000\" fill-rule=\"evenodd\" fill-opacity=\"1\" /><path clip-path=\"url(#clip5100)\" d=\"M 0 0 M76.6495 1134.05 Q73.0384 1134.05 71.2097 1137.62 Q69.4041 1141.16 69.4041 1148.29 Q69.4041 1155.39 71.2097 1158.96 Q73.0384 1162.5 76.6495 1162.5 Q80.2837 1162.5 82.0892 1158.96 Q83.9179 1155.39 83.9179 1148.29 Q83.9179 1141.16 82.0892 1137.62 Q80.2837 1134.05 76.6495 1134.05 M76.6495 1130.35 Q82.4596 1130.35 85.5152 1134.96 Q88.5938 1139.54 88.5938 1148.29 Q88.5938 1157.02 85.5152 1161.62 Q82.4596 1166.2 76.6495 1166.2 Q70.8393 1166.2 67.7606 1161.62 Q64.7051 1157.02 64.7051 1148.29 Q64.7051 1139.54 67.7606 1134.96 Q70.8393 1130.35 76.6495 1130.35 Z\" fill=\"#000000\" fill-rule=\"evenodd\" fill-opacity=\"1\" /><path clip-path=\"url(#clip5100)\" d=\"M 0 0 M93.6633 1159.65 L98.5475 1159.65 L98.5475 1165.53 L93.6633 1165.53 L93.6633 1159.65 Z\" fill=\"#000000\" fill-rule=\"evenodd\" fill-opacity=\"1\" /><path clip-path=\"url(#clip5100)\" d=\"M 0 0 M104.427 1161.6 L112.066 1161.6 L112.066 1135.23 L103.756 1136.9 L103.756 1132.64 L112.02 1130.97 L116.696 1130.97 L116.696 1161.6 L124.334 1161.6 L124.334 1165.53 L104.427 1165.53 L104.427 1161.6 Z\" fill=\"#000000\" fill-rule=\"evenodd\" fill-opacity=\"1\" /><path clip-path=\"url(#clip5100)\" d=\"M 0 0 M77.0198 836.59 Q73.4087 836.59 71.58 840.155 Q69.7745 843.697 69.7745 850.826 Q69.7745 857.933 71.58 861.498 Q73.4087 865.039 77.0198 865.039 Q80.6541 865.039 82.4596 861.498 Q84.2883 857.933 84.2883 850.826 Q84.2883 843.697 82.4596 840.155 Q80.6541 836.59 77.0198 836.59 M77.0198 832.887 Q82.83 832.887 85.8855 837.493 Q88.9642 842.076 88.9642 850.826 Q88.9642 859.553 85.8855 864.16 Q82.83 868.743 77.0198 868.743 Q71.2097 868.743 68.131 864.16 Q65.0754 859.553 65.0754 850.826 Q65.0754 842.076 68.131 837.493 Q71.2097 832.887 77.0198 832.887 Z\" fill=\"#000000\" fill-rule=\"evenodd\" fill-opacity=\"1\" /><path clip-path=\"url(#clip5100)\" d=\"M 0 0 M94.0336 862.192 L98.9179 862.192 L98.9179 868.072 L94.0336 868.072 L94.0336 862.192 Z\" fill=\"#000000\" fill-rule=\"evenodd\" fill-opacity=\"1\" /><path clip-path=\"url(#clip5100)\" d=\"M 0 0 M108.015 864.136 L124.334 864.136 L124.334 868.072 L102.39 868.072 L102.39 864.136 Q105.052 861.382 109.635 856.752 Q114.242 852.099 115.422 850.757 Q117.668 848.234 118.547 846.498 Q119.45 844.738 119.45 843.049 Q119.45 840.294 117.506 838.558 Q115.584 836.822 112.483 836.822 Q110.284 836.822 107.83 837.586 Q105.399 838.35 102.622 839.9 L102.622 835.178 Q105.446 834.044 107.899 833.465 Q110.353 832.887 112.39 832.887 Q117.76 832.887 120.955 835.572 Q124.149 838.257 124.149 842.748 Q124.149 844.877 123.339 846.799 Q122.552 848.697 120.446 851.289 Q119.867 851.961 116.765 855.178 Q113.663 858.373 108.015 864.136 Z\" fill=\"#000000\" fill-rule=\"evenodd\" fill-opacity=\"1\" /><path clip-path=\"url(#clip5100)\" d=\"M 0 0 M76.0708 539.128 Q72.4597 539.128 70.631 542.693 Q68.8254 546.235 68.8254 553.364 Q68.8254 560.471 70.631 564.036 Q72.4597 567.577 76.0708 567.577 Q79.705 567.577 81.5105 564.036 Q83.3392 560.471 83.3392 553.364 Q83.3392 546.235 81.5105 542.693 Q79.705 539.128 76.0708 539.128 M76.0708 535.425 Q81.8809 535.425 84.9365 540.031 Q88.0151 544.614 88.0151 553.364 Q88.0151 562.091 84.9365 566.698 Q81.8809 571.281 76.0708 571.281 Q70.2606 571.281 67.1819 566.698 Q64.1264 562.091 64.1264 553.364 Q64.1264 544.614 67.1819 540.031 Q70.2606 535.425 76.0708 535.425 Z\" fill=\"#000000\" fill-rule=\"evenodd\" fill-opacity=\"1\" /><path clip-path=\"url(#clip5100)\" d=\"M 0 0 M93.0846 564.73 L97.9688 564.73 L97.9688 570.61 L93.0846 570.61 L93.0846 564.73 Z\" fill=\"#000000\" fill-rule=\"evenodd\" fill-opacity=\"1\" /><path clip-path=\"url(#clip5100)\" d=\"M 0 0 M117.205 551.975 Q120.561 552.693 122.436 554.961 Q124.334 557.23 124.334 560.563 Q124.334 565.679 120.816 568.48 Q117.297 571.281 110.816 571.281 Q108.64 571.281 106.325 570.841 Q104.034 570.424 101.58 569.568 L101.58 565.054 Q103.524 566.188 105.839 566.767 Q108.154 567.346 110.677 567.346 Q115.075 567.346 117.367 565.61 Q119.682 563.873 119.682 560.563 Q119.682 557.508 117.529 555.795 Q115.399 554.059 111.58 554.059 L107.552 554.059 L107.552 550.216 L111.765 550.216 Q115.214 550.216 117.043 548.85 Q118.871 547.462 118.871 544.869 Q118.871 542.207 116.973 540.795 Q115.098 539.36 111.58 539.36 Q109.659 539.36 107.459 539.776 Q105.26 540.193 102.622 541.073 L102.622 536.906 Q105.284 536.165 107.598 535.795 Q109.936 535.425 111.996 535.425 Q117.321 535.425 120.422 537.855 Q123.524 540.262 123.524 544.383 Q123.524 547.253 121.881 549.244 Q120.237 551.212 117.205 551.975 Z\" fill=\"#000000\" fill-rule=\"evenodd\" fill-opacity=\"1\" /><path clip-path=\"url(#clip5100)\" d=\"M 0 0 M74.9365 241.666 Q71.3254 241.666 69.4967 245.231 Q67.6912 248.773 67.6912 255.902 Q67.6912 263.009 69.4967 266.573 Q71.3254 270.115 74.9365 270.115 Q78.5707 270.115 80.3763 266.573 Q82.205 263.009 82.205 255.902 Q82.205 248.773 80.3763 245.231 Q78.5707 241.666 74.9365 241.666 M74.9365 237.963 Q80.7467 237.963 83.8022 242.569 Q86.8809 247.152 86.8809 255.902 Q86.8809 264.629 83.8022 269.235 Q80.7467 273.819 74.9365 273.819 Q69.1264 273.819 66.0477 269.235 Q62.9921 264.629 62.9921 255.902 Q62.9921 247.152 66.0477 242.569 Q69.1264 237.963 74.9365 237.963 Z\" fill=\"#000000\" fill-rule=\"evenodd\" fill-opacity=\"1\" /><path clip-path=\"url(#clip5100)\" d=\"M 0 0 M91.9503 267.268 L96.8345 267.268 L96.8345 273.147 L91.9503 273.147 L91.9503 267.268 Z\" fill=\"#000000\" fill-rule=\"evenodd\" fill-opacity=\"1\" /><path clip-path=\"url(#clip5100)\" d=\"M 0 0 M114.751 242.662 L102.946 261.111 L114.751 261.111 L114.751 242.662 M113.524 238.587 L119.404 238.587 L119.404 261.111 L124.334 261.111 L124.334 264.999 L119.404 264.999 L119.404 273.147 L114.751 273.147 L114.751 264.999 L99.1493 264.999 L99.1493 260.486 L113.524 238.587 Z\" fill=\"#000000\" fill-rule=\"evenodd\" fill-opacity=\"1\" /><polyline clip-path=\"url(#clip5102)\" style=\"stroke:#009af9; stroke-width:4; stroke-opacity:1; fill:none\" points=\"\n",
       "  210.724,1445.68 262.715,1445.59 314.706,1445.31 366.697,1444.49 418.688,1442.28 470.679,1436.77 522.67,1424.24 574.661,1398.09 626.652,1348.43 678.643,1262.95 \n",
       "  730.634,1130.86 782.625,949.999 834.617,735.843 886.608,527.245 938.599,382.41 990.59,360.791 1042.58,494.452 1094.57,762.178 1146.56,1083.86 1198.55,1345.24 \n",
       "  1250.55,1445.72 1302.54,1345.24 1354.53,1083.86 1406.52,762.178 1458.51,494.452 1510.5,360.791 1562.49,382.41 1614.48,527.245 1666.47,735.843 1718.46,949.999 \n",
       "  1770.46,1130.86 1822.45,1262.95 1874.44,1348.43 1926.43,1398.09 1978.42,1424.24 2030.41,1436.77 2082.4,1442.28 2134.39,1444.49 2186.38,1445.31 2238.38,1445.59 \n",
       "  2290.37,1445.68 \n",
       "  \"/>\n",
       "<polyline clip-path=\"url(#clip5102)\" style=\"stroke:#e26f46; stroke-width:4; stroke-opacity:1; fill:none\" points=\"\n",
       "  210.724,1445.7 262.715,1445.68 314.706,1445.61 366.697,1445.42 418.688,1444.94 470.679,1443.79 522.67,1441.23 574.661,1435.87 626.652,1425.31 678.643,1405.81 \n",
       "  730.634,1372.12 782.625,1317.67 834.617,1235.54 886.608,1120.26 938.599,970.311 990.59,790.595 1042.58,594.069 1094.57,401.288 1146.56,237.409 1198.55,126.983 \n",
       "  1250.55,87.9763 1302.54,126.983 1354.53,237.409 1406.52,401.288 1458.51,594.069 1510.5,790.595 1562.49,970.311 1614.48,1120.26 1666.47,1235.54 1718.46,1317.67 \n",
       "  1770.46,1372.12 1822.45,1405.81 1874.44,1425.31 1926.43,1435.87 1978.42,1441.23 2030.41,1443.79 2082.4,1444.94 2134.39,1445.42 2186.38,1445.61 2238.38,1445.68 \n",
       "  2290.37,1445.7 \n",
       "  \"/>\n",
       "<path clip-path=\"url(#clip5100)\" d=\"\n",
       "M1989.74 312.204 L2280.76 312.204 L2280.76 130.764 L1989.74 130.764  Z\n",
       "  \" fill=\"#ffffff\" fill-rule=\"evenodd\" fill-opacity=\"1\"/>\n",
       "<polyline clip-path=\"url(#clip5100)\" style=\"stroke:#000000; stroke-width:4; stroke-opacity:1; fill:none\" points=\"\n",
       "  1989.74,312.204 2280.76,312.204 2280.76,130.764 1989.74,130.764 1989.74,312.204 \n",
       "  \"/>\n",
       "<polyline clip-path=\"url(#clip5100)\" style=\"stroke:#009af9; stroke-width:4; stroke-opacity:1; fill:none\" points=\"\n",
       "  2013.74,191.244 2157.74,191.244 \n",
       "  \"/>\n",
       "<path clip-path=\"url(#clip5100)\" d=\"M 0 0 M2195.58 210.931 Q2193.77 215.561 2192.06 216.973 Q2190.35 218.385 2187.48 218.385 L2184.08 218.385 L2184.08 214.82 L2186.58 214.82 Q2188.33 214.82 2189.31 213.987 Q2190.28 213.154 2191.46 210.052 L2192.22 208.107 L2181.74 182.598 L2186.25 182.598 L2194.35 202.876 L2202.46 182.598 L2206.97 182.598 L2195.58 210.931 Z\" fill=\"#000000\" fill-rule=\"evenodd\" fill-opacity=\"1\" /><path clip-path=\"url(#clip5100)\" d=\"M 0 0 M2212.85 204.589 L2220.49 204.589 L2220.49 178.223 L2212.18 179.89 L2212.18 175.631 L2220.44 173.964 L2225.12 173.964 L2225.12 204.589 L2232.76 204.589 L2232.76 208.524 L2212.85 208.524 L2212.85 204.589 Z\" fill=\"#000000\" fill-rule=\"evenodd\" fill-opacity=\"1\" /><polyline clip-path=\"url(#clip5100)\" style=\"stroke:#e26f46; stroke-width:4; stroke-opacity:1; fill:none\" points=\"\n",
       "  2013.74,251.724 2157.74,251.724 \n",
       "  \"/>\n",
       "<path clip-path=\"url(#clip5100)\" d=\"M 0 0 M2195.58 271.411 Q2193.77 276.041 2192.06 277.453 Q2190.35 278.865 2187.48 278.865 L2184.08 278.865 L2184.08 275.3 L2186.58 275.3 Q2188.33 275.3 2189.31 274.467 Q2190.28 273.634 2191.46 270.532 L2192.22 268.587 L2181.74 243.078 L2186.25 243.078 L2194.35 263.356 L2202.46 243.078 L2206.97 243.078 L2195.58 271.411 Z\" fill=\"#000000\" fill-rule=\"evenodd\" fill-opacity=\"1\" /><path clip-path=\"url(#clip5100)\" d=\"M 0 0 M2216.07 265.069 L2232.39 265.069 L2232.39 269.004 L2210.44 269.004 L2210.44 265.069 Q2213.1 262.314 2217.69 257.685 Q2222.29 253.032 2223.47 251.689 Q2225.72 249.166 2226.6 247.43 Q2227.5 245.671 2227.5 243.981 Q2227.5 241.226 2225.56 239.49 Q2223.64 237.754 2220.53 237.754 Q2218.33 237.754 2215.88 238.518 Q2213.45 239.282 2210.67 240.833 L2210.67 236.111 Q2213.5 234.976 2215.95 234.398 Q2218.4 233.819 2220.44 233.819 Q2225.81 233.819 2229.01 236.504 Q2232.2 239.189 2232.2 243.68 Q2232.2 245.81 2231.39 247.731 Q2230.6 249.629 2228.5 252.222 Q2227.92 252.893 2224.82 256.111 Q2221.71 259.305 2216.07 265.069 Z\" fill=\"#000000\" fill-rule=\"evenodd\" fill-opacity=\"1\" /></svg>\n"
      ]
     },
     "execution_count": 10,
     "metadata": {},
     "output_type": "execute_result"
    }
   ],
   "source": [
    "plot(vSpace.u, f0)\n",
    "plot!(vSpace.u, M)"
   ]
  },
  {
   "cell_type": "code",
   "execution_count": null,
   "metadata": {},
   "outputs": [],
   "source": []
  }
 ],
 "metadata": {
  "kernelspec": {
   "display_name": "Julia 1.3.1",
   "language": "julia",
   "name": "julia-1.3"
  },
  "language_info": {
   "file_extension": ".jl",
   "mimetype": "application/julia",
   "name": "julia",
   "version": "1.3.1"
  }
 },
 "nbformat": 4,
 "nbformat_minor": 4
}
