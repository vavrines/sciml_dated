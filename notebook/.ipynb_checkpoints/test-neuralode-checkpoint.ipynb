{
 "cells": [
  {
   "cell_type": "code",
   "execution_count": 11,
   "metadata": {},
   "outputs": [
    {
     "name": "stdout",
     "output_type": "stream",
     "text": [
      "Reading settings from ../src/homogeneous/config.txt \n",
      "\n",
      "case = homogeneous\n",
      "space = 1d1f\n",
      "cfl = 0.5\n",
      "maxTime = 10\n",
      "u0 = -8\n",
      "u1 = 8\n",
      "nu = 101\n",
      "vMeshType = newton\n",
      "nug = 0\n",
      "knudsen = 1\n",
      "inK = 0\n",
      "\n"
     ]
    },
    {
     "data": {
      "text/plain": [
       "101-element Array{Float32,1}:\n",
       "  2.2674865e-6 \n",
       " -8.097925e-7  \n",
       " -3.035457e-7  \n",
       " -5.6668614e-6 \n",
       " -3.4435575e-6 \n",
       " -8.7825896e-7 \n",
       "  7.0658695e-7 \n",
       " -5.0284034e-6 \n",
       " -1.04676055e-5\n",
       " -7.846319e-6  \n",
       " -1.7956416e-5 \n",
       " -3.3294244e-5 \n",
       " -5.32318e-5   \n",
       "  ⋮            \n",
       " -5.841771e-5  \n",
       " -2.111464e-5  \n",
       " -1.1368798e-5 \n",
       " -1.069967e-5  \n",
       " -3.362612e-6  \n",
       " -1.4193797e-5 \n",
       "  8.148516e-7  \n",
       " -1.7605652e-6 \n",
       " -1.7602279e-6 \n",
       " -1.03273e-6   \n",
       "  2.0776018e-7 \n",
       "  6.1359237e-6 "
      ]
     },
     "execution_count": 11,
     "metadata": {},
     "output_type": "execute_result"
    }
   ],
   "source": [
    "using Revise\n",
    "using Kinetic\n",
    "using Flux\n",
    "using DifferentialEquations\n",
    "using DiffEqFlux\n",
    "using Optim\n",
    "using Plots\n",
    "\n",
    "config = \"../src/homogeneous/config.txt\"\n",
    "println(\"Reading settings from $config \\n\")\n",
    "\n",
    "# generate parameters\n",
    "D = read_dict(config)\n",
    "for key in keys(D)\n",
    "    s = Symbol(key)\n",
    "    @eval $s = $(D[key])\n",
    "end\n",
    "\n",
    "dim = ifelse(parse(Int, space[3]) >= 3, 3, parse(Int, space[1]))\n",
    "γ = 1.4#heat_capacity_ratio(inK, dim)\n",
    "vSpace = VSpace1D(u0, u1, nu, vMeshType, nug)\n",
    "\n",
    "f0 = Float32.(0.3 * vSpace.u.^2 .* exp.(-0.3 .* vSpace.u.^2)) |> Array\n",
    "w0 = [ discrete_moments(f0, vSpace.u, vSpace.weights, 0), \n",
    "       discrete_moments(f0, vSpace.u, vSpace.weights, 1), \n",
    "       discrete_moments(f0, vSpace.u, vSpace.weights, 2) ]\n",
    "prim0 = conserve_prim(w0, γ)\n",
    "\n",
    "M = Float32.(maxwellian(vSpace.u, prim0)) |> Array\n",
    "\n",
    "f = similar(M)"
   ]
  },
  {
   "cell_type": "code",
   "execution_count": 13,
   "metadata": {},
   "outputs": [
    {
     "data": {
      "text/plain": [
       "101×3 Array{Float32,2}:\n",
       " 1.26039e-7   7.07762e-8  7.04042e-8\n",
       " 2.55067e-7   1.31853e-7  1.31023e-7\n",
       " 5.08044e-7   2.42583e-7  2.40796e-7\n",
       " 9.95938e-7   4.40758e-7  4.3702e-7 \n",
       " 1.92146e-6   7.90868e-7  7.83256e-7\n",
       " 3.6482e-6    1.40143e-6  1.3863e-6 \n",
       " 6.81647e-6   2.45242e-6  2.42304e-6\n",
       " 1.25329e-5   4.23814e-6  4.1823e-6 \n",
       " 2.26743e-5   7.23282e-6  7.12886e-6\n",
       " 4.03632e-5   1.21895e-5  1.19998e-5\n",
       " 7.06936e-5   2.02865e-5  1.99472e-5\n",
       " 0.000121813  3.33401e-5  3.27445e-5\n",
       " 0.000206488  5.41076e-5  5.30817e-5\n",
       " ⋮                                  \n",
       " 0.000121813  3.33401e-5  3.27445e-5\n",
       " 7.06936e-5   2.02865e-5  1.99472e-5\n",
       " 4.03632e-5   1.21895e-5  1.19998e-5\n",
       " 2.26743e-5   7.23282e-6  7.12886e-6\n",
       " 1.25329e-5   4.23814e-6  4.1823e-6 \n",
       " 6.81647e-6   2.45242e-6  2.42304e-6\n",
       " 3.6482e-6    1.40143e-6  1.3863e-6 \n",
       " 1.92146e-6   7.90868e-7  7.83256e-7\n",
       " 9.95938e-7   4.40758e-7  4.3702e-7 \n",
       " 5.08044e-7   2.42583e-7  2.40796e-7\n",
       " 2.55067e-7   1.31853e-7  1.31023e-7\n",
       " 1.26039e-7   7.07762e-8  7.04042e-8"
      ]
     },
     "execution_count": 13,
     "metadata": {},
     "output_type": "execute_result"
    }
   ],
   "source": [
    "function collision!(du, u, p, t)\n",
    "    du .= p .- u\n",
    "end\n",
    "\n",
    "tspan = (0.0, maxTime)\n",
    "tRange = range(tspan[1], tspan[2], length=3)\n",
    "prob = ODEProblem(collision!, f0, tspan, M)\n",
    "sol = solve(prob, Tsit5(), saveat=tRange)\n",
    "ode_data = Array(sol)"
   ]
  },
  {
   "cell_type": "code",
   "execution_count": 18,
   "metadata": {},
   "outputs": [
    {
     "data": {
      "image/svg+xml": [
       "<?xml version=\"1.0\" encoding=\"utf-8\"?>\n",
       "<svg xmlns=\"http://www.w3.org/2000/svg\" xmlns:xlink=\"http://www.w3.org/1999/xlink\" width=\"600\" height=\"400\" viewBox=\"0 0 2400 1600\">\n",
       "<defs>\n",
       "  <clipPath id=\"clip5100\">\n",
       "    <rect x=\"0\" y=\"0\" width=\"2400\" height=\"1600\"/>\n",
       "  </clipPath>\n",
       "</defs>\n",
       "<path clip-path=\"url(#clip5100)\" d=\"\n",
       "M0 1600 L2400 1600 L2400 0 L0 0  Z\n",
       "  \" fill=\"#ffffff\" fill-rule=\"evenodd\" fill-opacity=\"1\"/>\n",
       "<defs>\n",
       "  <clipPath id=\"clip5101\">\n",
       "    <rect x=\"480\" y=\"0\" width=\"1681\" height=\"1600\"/>\n",
       "  </clipPath>\n",
       "</defs>\n",
       "<path clip-path=\"url(#clip5100)\" d=\"\n",
       "M153.898 1487.47 L2352.76 1487.47 L2352.76 47.2441 L153.898 47.2441  Z\n",
       "  \" fill=\"#ffffff\" fill-rule=\"evenodd\" fill-opacity=\"1\"/>\n",
       "<defs>\n",
       "  <clipPath id=\"clip5102\">\n",
       "    <rect x=\"153\" y=\"47\" width=\"2200\" height=\"1441\"/>\n",
       "  </clipPath>\n",
       "</defs>\n",
       "<polyline clip-path=\"url(#clip5102)\" style=\"stroke:#000000; stroke-width:1.6; stroke-opacity:0.1; fill:none\" points=\"\n",
       "  467.65,1487.47 467.65,47.2441 \n",
       "  \"/>\n",
       "<polyline clip-path=\"url(#clip5102)\" style=\"stroke:#000000; stroke-width:1.6; stroke-opacity:0.1; fill:none\" points=\"\n",
       "  860.489,1487.47 860.489,47.2441 \n",
       "  \"/>\n",
       "<polyline clip-path=\"url(#clip5102)\" style=\"stroke:#000000; stroke-width:1.6; stroke-opacity:0.1; fill:none\" points=\"\n",
       "  1253.33,1487.47 1253.33,47.2441 \n",
       "  \"/>\n",
       "<polyline clip-path=\"url(#clip5102)\" style=\"stroke:#000000; stroke-width:1.6; stroke-opacity:0.1; fill:none\" points=\"\n",
       "  1646.17,1487.47 1646.17,47.2441 \n",
       "  \"/>\n",
       "<polyline clip-path=\"url(#clip5102)\" style=\"stroke:#000000; stroke-width:1.6; stroke-opacity:0.1; fill:none\" points=\"\n",
       "  2039,1487.47 2039,47.2441 \n",
       "  \"/>\n",
       "<polyline clip-path=\"url(#clip5102)\" style=\"stroke:#000000; stroke-width:1.6; stroke-opacity:0.1; fill:none\" points=\"\n",
       "  153.898,1446.71 2352.76,1446.71 \n",
       "  \"/>\n",
       "<polyline clip-path=\"url(#clip5102)\" style=\"stroke:#000000; stroke-width:1.6; stroke-opacity:0.1; fill:none\" points=\"\n",
       "  153.898,1149.02 2352.76,1149.02 \n",
       "  \"/>\n",
       "<polyline clip-path=\"url(#clip5102)\" style=\"stroke:#000000; stroke-width:1.6; stroke-opacity:0.1; fill:none\" points=\"\n",
       "  153.898,851.329 2352.76,851.329 \n",
       "  \"/>\n",
       "<polyline clip-path=\"url(#clip5102)\" style=\"stroke:#000000; stroke-width:1.6; stroke-opacity:0.1; fill:none\" points=\"\n",
       "  153.898,553.637 2352.76,553.637 \n",
       "  \"/>\n",
       "<polyline clip-path=\"url(#clip5102)\" style=\"stroke:#000000; stroke-width:1.6; stroke-opacity:0.1; fill:none\" points=\"\n",
       "  153.898,255.945 2352.76,255.945 \n",
       "  \"/>\n",
       "<polyline clip-path=\"url(#clip5100)\" style=\"stroke:#000000; stroke-width:3.2; stroke-opacity:1; fill:none\" points=\"\n",
       "  153.898,1487.47 2352.76,1487.47 \n",
       "  \"/>\n",
       "<polyline clip-path=\"url(#clip5100)\" style=\"stroke:#000000; stroke-width:3.2; stroke-opacity:1; fill:none\" points=\"\n",
       "  153.898,1487.47 153.898,47.2441 \n",
       "  \"/>\n",
       "<polyline clip-path=\"url(#clip5100)\" style=\"stroke:#000000; stroke-width:3.2; stroke-opacity:1; fill:none\" points=\"\n",
       "  467.65,1487.47 467.65,1465.87 \n",
       "  \"/>\n",
       "<polyline clip-path=\"url(#clip5100)\" style=\"stroke:#000000; stroke-width:3.2; stroke-opacity:1; fill:none\" points=\"\n",
       "  860.489,1487.47 860.489,1465.87 \n",
       "  \"/>\n",
       "<polyline clip-path=\"url(#clip5100)\" style=\"stroke:#000000; stroke-width:3.2; stroke-opacity:1; fill:none\" points=\"\n",
       "  1253.33,1487.47 1253.33,1465.87 \n",
       "  \"/>\n",
       "<polyline clip-path=\"url(#clip5100)\" style=\"stroke:#000000; stroke-width:3.2; stroke-opacity:1; fill:none\" points=\"\n",
       "  1646.17,1487.47 1646.17,1465.87 \n",
       "  \"/>\n",
       "<polyline clip-path=\"url(#clip5100)\" style=\"stroke:#000000; stroke-width:3.2; stroke-opacity:1; fill:none\" points=\"\n",
       "  2039,1487.47 2039,1465.87 \n",
       "  \"/>\n",
       "<polyline clip-path=\"url(#clip5100)\" style=\"stroke:#000000; stroke-width:3.2; stroke-opacity:1; fill:none\" points=\"\n",
       "  153.898,1446.71 186.881,1446.71 \n",
       "  \"/>\n",
       "<polyline clip-path=\"url(#clip5100)\" style=\"stroke:#000000; stroke-width:3.2; stroke-opacity:1; fill:none\" points=\"\n",
       "  153.898,1149.02 186.881,1149.02 \n",
       "  \"/>\n",
       "<polyline clip-path=\"url(#clip5100)\" style=\"stroke:#000000; stroke-width:3.2; stroke-opacity:1; fill:none\" points=\"\n",
       "  153.898,851.329 186.881,851.329 \n",
       "  \"/>\n",
       "<polyline clip-path=\"url(#clip5100)\" style=\"stroke:#000000; stroke-width:3.2; stroke-opacity:1; fill:none\" points=\"\n",
       "  153.898,553.637 186.881,553.637 \n",
       "  \"/>\n",
       "<polyline clip-path=\"url(#clip5100)\" style=\"stroke:#000000; stroke-width:3.2; stroke-opacity:1; fill:none\" points=\"\n",
       "  153.898,255.945 186.881,255.945 \n",
       "  \"/>\n",
       "<g clip-path=\"url(#clip5100)\">\n",
       "<text style=\"fill:#000000; fill-opacity:1; font-family:Arial,Helvetica Neue,Helvetica,sans-serif; font-size:48px; text-anchor:middle;\" transform=\"rotate(0, 467.65, 1541.47)\" x=\"467.65\" y=\"1541.47\">-6</text>\n",
       "</g>\n",
       "<g clip-path=\"url(#clip5100)\">\n",
       "<text style=\"fill:#000000; fill-opacity:1; font-family:Arial,Helvetica Neue,Helvetica,sans-serif; font-size:48px; text-anchor:middle;\" transform=\"rotate(0, 860.489, 1541.47)\" x=\"860.489\" y=\"1541.47\">-3</text>\n",
       "</g>\n",
       "<g clip-path=\"url(#clip5100)\">\n",
       "<text style=\"fill:#000000; fill-opacity:1; font-family:Arial,Helvetica Neue,Helvetica,sans-serif; font-size:48px; text-anchor:middle;\" transform=\"rotate(0, 1253.33, 1541.47)\" x=\"1253.33\" y=\"1541.47\">0</text>\n",
       "</g>\n",
       "<g clip-path=\"url(#clip5100)\">\n",
       "<text style=\"fill:#000000; fill-opacity:1; font-family:Arial,Helvetica Neue,Helvetica,sans-serif; font-size:48px; text-anchor:middle;\" transform=\"rotate(0, 1646.17, 1541.47)\" x=\"1646.17\" y=\"1541.47\">3</text>\n",
       "</g>\n",
       "<g clip-path=\"url(#clip5100)\">\n",
       "<text style=\"fill:#000000; fill-opacity:1; font-family:Arial,Helvetica Neue,Helvetica,sans-serif; font-size:48px; text-anchor:middle;\" transform=\"rotate(0, 2039, 1541.47)\" x=\"2039\" y=\"1541.47\">6</text>\n",
       "</g>\n",
       "<g clip-path=\"url(#clip5100)\">\n",
       "<text style=\"fill:#000000; fill-opacity:1; font-family:Arial,Helvetica Neue,Helvetica,sans-serif; font-size:48px; text-anchor:end;\" transform=\"rotate(0, 129.898, 1464.21)\" x=\"129.898\" y=\"1464.21\">0.0</text>\n",
       "</g>\n",
       "<g clip-path=\"url(#clip5100)\">\n",
       "<text style=\"fill:#000000; fill-opacity:1; font-family:Arial,Helvetica Neue,Helvetica,sans-serif; font-size:48px; text-anchor:end;\" transform=\"rotate(0, 129.898, 1166.52)\" x=\"129.898\" y=\"1166.52\">0.1</text>\n",
       "</g>\n",
       "<g clip-path=\"url(#clip5100)\">\n",
       "<text style=\"fill:#000000; fill-opacity:1; font-family:Arial,Helvetica Neue,Helvetica,sans-serif; font-size:48px; text-anchor:end;\" transform=\"rotate(0, 129.898, 868.829)\" x=\"129.898\" y=\"868.829\">0.2</text>\n",
       "</g>\n",
       "<g clip-path=\"url(#clip5100)\">\n",
       "<text style=\"fill:#000000; fill-opacity:1; font-family:Arial,Helvetica Neue,Helvetica,sans-serif; font-size:48px; text-anchor:end;\" transform=\"rotate(0, 129.898, 571.137)\" x=\"129.898\" y=\"571.137\">0.3</text>\n",
       "</g>\n",
       "<g clip-path=\"url(#clip5100)\">\n",
       "<text style=\"fill:#000000; fill-opacity:1; font-family:Arial,Helvetica Neue,Helvetica,sans-serif; font-size:48px; text-anchor:end;\" transform=\"rotate(0, 129.898, 273.445)\" x=\"129.898\" y=\"273.445\">0.4</text>\n",
       "</g>\n",
       "<polyline clip-path=\"url(#clip5102)\" style=\"stroke:#009af9; stroke-width:6.4; stroke-opacity:1; fill:none\" points=\"\n",
       "  216.13,1446.71 236.874,1446.71 257.618,1446.71 278.362,1446.71 299.106,1446.71 319.85,1446.7 340.593,1446.69 361.337,1446.68 382.081,1446.65 402.825,1446.59 \n",
       "  423.569,1446.5 444.313,1446.35 465.057,1446.1 485.801,1445.69 506.545,1445.03 527.289,1444 548.033,1442.41 568.777,1440 589.521,1436.42 610.265,1431.19 \n",
       "  631.009,1423.7 651.753,1413.18 672.497,1398.7 693.24,1379.16 713.984,1353.36 734.728,1320 755.472,1277.83 776.216,1225.77 796.96,1163.04 817.704,1089.44 \n",
       "  838.448,1005.47 859.192,912.586 879.936,813.339 900.68,711.435 921.424,611.702 942.168,519.895 962.912,442.356 983.656,385.507 1004.4,355.23 1025.14,356.172 \n",
       "  1045.89,391.064 1066.63,460.143 1087.38,560.767 1108.12,687.317 1128.86,831.422 1149.61,982.536 1170.35,1128.81 1191.1,1258.22 1211.84,1359.72 1232.58,1424.47 \n",
       "  1253.33,1446.71 1274.07,1424.47 1294.81,1359.72 1315.56,1258.22 1336.3,1128.81 1357.05,982.536 1377.79,831.422 1398.53,687.317 1419.28,560.767 1440.02,460.143 \n",
       "  1460.77,391.064 1481.51,356.172 1502.25,355.23 1523,385.507 1543.74,442.356 1564.49,519.895 1585.23,611.702 1605.97,711.435 1626.72,813.339 1647.46,912.586 \n",
       "  1668.21,1005.47 1688.95,1089.44 1709.69,1163.04 1730.44,1225.77 1751.18,1277.83 1771.93,1320 1792.67,1353.36 1813.41,1379.16 1834.16,1398.7 1854.9,1413.18 \n",
       "  1875.65,1423.7 1896.39,1431.19 1917.13,1436.42 1937.88,1440 1958.62,1442.41 1979.36,1444 2000.11,1445.03 2020.85,1445.69 2041.6,1446.1 2062.34,1446.35 \n",
       "  2083.08,1446.5 2103.83,1446.59 2124.57,1446.65 2145.32,1446.68 2166.06,1446.69 2186.8,1446.7 2207.55,1446.71 2228.29,1446.71 2249.04,1446.71 2269.78,1446.71 \n",
       "  2290.52,1446.71 \n",
       "  \"/>\n",
       "<polyline clip-path=\"url(#clip5102)\" style=\"stroke:#e26f46; stroke-width:6.4; stroke-opacity:1; fill:none\" points=\"\n",
       "  216.13,1446.71 236.874,1446.71 257.618,1446.71 278.362,1446.71 299.106,1446.71 319.85,1446.71 340.593,1446.71 361.337,1446.7 382.081,1446.69 402.825,1446.68 \n",
       "  423.569,1446.65 444.313,1446.62 465.057,1446.56 485.801,1446.46 506.545,1446.31 527.289,1446.09 548.033,1445.75 568.777,1445.25 589.521,1444.51 610.265,1443.44 \n",
       "  631.009,1441.92 651.753,1439.77 672.497,1436.78 693.24,1432.69 713.984,1427.16 734.728,1419.78 755.472,1410.09 776.216,1397.53 796.96,1381.48 817.704,1361.28 \n",
       "  838.448,1336.22 859.192,1305.6 879.936,1268.73 900.68,1225.02 921.424,1174.03 942.168,1115.49 962.912,1049.4 983.656,976.067 1004.4,896.15 1025.14,810.694 \n",
       "  1045.89,721.135 1066.63,629.287 1087.38,537.294 1108.12,447.564 1128.86,362.666 1149.61,285.221 1170.35,217.758 1191.1,162.59 1211.84,121.674 1232.58,96.5019 \n",
       "  1253.33,88.0053 1274.07,96.5019 1294.81,121.674 1315.56,162.59 1336.3,217.758 1357.05,285.221 1377.79,362.666 1398.53,447.564 1419.28,537.294 1440.02,629.287 \n",
       "  1460.77,721.135 1481.51,810.694 1502.25,896.15 1523,976.067 1543.74,1049.4 1564.49,1115.49 1585.23,1174.03 1605.97,1225.02 1626.72,1268.73 1647.46,1305.6 \n",
       "  1668.21,1336.22 1688.95,1361.28 1709.69,1381.48 1730.44,1397.53 1751.18,1410.09 1771.93,1419.78 1792.67,1427.16 1813.41,1432.69 1834.16,1436.78 1854.9,1439.77 \n",
       "  1875.65,1441.92 1896.39,1443.44 1917.13,1444.51 1937.88,1445.25 1958.62,1445.75 1979.36,1446.09 2000.11,1446.31 2020.85,1446.46 2041.6,1446.56 2062.34,1446.62 \n",
       "  2083.08,1446.65 2103.83,1446.68 2124.57,1446.69 2145.32,1446.7 2166.06,1446.71 2186.8,1446.71 2207.55,1446.71 2228.29,1446.71 2249.04,1446.71 2269.78,1446.71 \n",
       "  2290.52,1446.71 \n",
       "  \"/>\n",
       "<path clip-path=\"url(#clip5100)\" d=\"\n",
       "M1931.11 312.204 L2280.76 312.204 L2280.76 130.764 L1931.11 130.764  Z\n",
       "  \" fill=\"#ffffff\" fill-rule=\"evenodd\" fill-opacity=\"1\"/>\n",
       "<polyline clip-path=\"url(#clip5100)\" style=\"stroke:#000000; stroke-width:3.2; stroke-opacity:1; fill:none\" points=\"\n",
       "  1931.11,312.204 2280.76,312.204 2280.76,130.764 1931.11,130.764 1931.11,312.204 \n",
       "  \"/>\n",
       "<polyline clip-path=\"url(#clip5100)\" style=\"stroke:#009af9; stroke-width:6.4; stroke-opacity:1; fill:none\" points=\"\n",
       "  1955.11,191.244 2099.11,191.244 \n",
       "  \"/>\n",
       "<g clip-path=\"url(#clip5100)\">\n",
       "<text style=\"fill:#000000; fill-opacity:1; font-family:Arial,Helvetica Neue,Helvetica,sans-serif; font-size:48px; text-anchor:start;\" transform=\"rotate(0, 2123.11, 208.744)\" x=\"2123.11\" y=\"208.744\">initial</text>\n",
       "</g>\n",
       "<polyline clip-path=\"url(#clip5100)\" style=\"stroke:#e26f46; stroke-width:6.4; stroke-opacity:1; fill:none\" points=\"\n",
       "  1955.11,251.724 2099.11,251.724 \n",
       "  \"/>\n",
       "<g clip-path=\"url(#clip5100)\">\n",
       "<text style=\"fill:#000000; fill-opacity:1; font-family:Arial,Helvetica Neue,Helvetica,sans-serif; font-size:48px; text-anchor:start;\" transform=\"rotate(0, 2123.11, 269.224)\" x=\"2123.11\" y=\"269.224\">t=10</text>\n",
       "</g>\n",
       "</svg>\n"
      ]
     },
     "execution_count": 18,
     "metadata": {},
     "output_type": "execute_result"
    }
   ],
   "source": [
    "plot(vSpace.u, f0, lw=2, label=\"initial\")\n",
    "plot!(vSpace.u, sol.u[3], lw=2, label=\"t=10\")"
   ]
  },
  {
   "cell_type": "code",
   "execution_count": 31,
   "metadata": {},
   "outputs": [
    {
     "data": {
      "text/plain": [
       "(::NeuralODE{FastChain{Tuple{var\"#15#16\",FastDense{typeof(tanh),DiffEqFlux.var\"#initial_params#76\"{typeof(Flux.glorot_uniform),typeof(Flux.zeros),Int64,Int64}},FastDense{typeof(identity),DiffEqFlux.var\"#initial_params#76\"{typeof(Flux.glorot_uniform),typeof(Flux.zeros),Int64,Int64}}}},Array{Float32,1},Nothing,Tuple{Float64,Int64},Tsit5,Tuple{},Base.Iterators.Pairs{Symbol,StepRangeLen{Float64,Base.TwicePrecision{Float64},Base.TwicePrecision{Float64}},Tuple{Symbol},NamedTuple{(:saveat,),Tuple{StepRangeLen{Float64,Base.TwicePrecision{Float64},Base.TwicePrecision{Float64}}}}}}) (generic function with 4 methods)"
      ]
     },
     "execution_count": 31,
     "metadata": {},
     "output_type": "execute_result"
    }
   ],
   "source": [
    "dudt = FastChain( (x, p) -> M,\n",
    "                   FastDense(101,300,tanh),\n",
    "                   FastDense(300,101) )\n",
    "n_ode = NeuralODE(dudt, tspan, Tsit5(), saveat=tRange)"
   ]
  },
  {
   "cell_type": "code",
   "execution_count": 32,
   "metadata": {},
   "outputs": [
    {
     "data": {
      "text/plain": [
       "(251.43715f0, t: [0.0, 5.0, 10.0]\n",
       "u: Array{Float32,1}[[1.2603898e-7, 2.5506657e-7, 5.080436e-7, 9.959375e-7, 1.9214565e-6, 3.648204e-6, 6.8164663e-6, 1.2532895e-5, 2.2674321e-5, 4.0363175e-5  …  4.0363175e-5, 2.2674321e-5, 1.2532895e-5, 6.8164663e-6, 3.648204e-6, 1.9214565e-6, 9.959375e-7, 5.080436e-7, 2.5506657e-7, 1.2603898e-7], [-0.275292, 0.6823822, -0.27018395, -0.03763207, 1.4880724, 0.23210685, -0.22373445, -0.0058199074, -0.27902493, -0.33235148  …  -0.14867248, -0.63681304, 0.7775352, 0.6477919, -0.65064037, 0.11195636, 1.3341708, -0.16982467, -0.26486918, 1.0713651], [-0.55058414, 1.3647642, -0.5403684, -0.07526514, 2.976143, 0.46421006, -0.44747573, -0.011652348, -0.5580725, -0.66474336  …  -0.2973853, -1.2736487, 1.5550578, 1.2955769, -1.3012844, 0.2239108, 2.6683407, -0.33964986, -0.5297386, 2.1427302]])"
      ]
     },
     "execution_count": 32,
     "metadata": {},
     "output_type": "execute_result"
    }
   ],
   "source": [
    "function predict_n_ode(u0, p)\n",
    "    n_ode(u0, p)\n",
    "end\n",
    "\n",
    "function loss_n_ode(p)\n",
    "    pred = predict_n_ode(f0, p)\n",
    "    loss = sum(abs2, pred .- ode_data)\n",
    "    return loss, pred\n",
    "end\n",
    "\n",
    "loss_n_ode(n_ode.p) # n_ode.p stores the initial parameters of the neural ODE"
   ]
  },
  {
   "cell_type": "code",
   "execution_count": 33,
   "metadata": {},
   "outputs": [
    {
     "data": {
      "text/plain": [
       "(251.43715f0, t: [0.0, 5.0, 10.0]\n",
       "u: Array{Float32,1}[[1.2603898e-7, 2.5506657e-7, 5.080436e-7, 9.959375e-7, 1.9214565e-6, 3.648204e-6, 6.8164663e-6, 1.2532895e-5, 2.2674321e-5, 4.0363175e-5  …  4.0363175e-5, 2.2674321e-5, 1.2532895e-5, 6.8164663e-6, 3.648204e-6, 1.9214565e-6, 9.959375e-7, 5.080436e-7, 2.5506657e-7, 1.2603898e-7], [-0.275292, 0.6823822, -0.27018395, -0.03763207, 1.4880724, 0.23210685, -0.22373445, -0.0058199074, -0.27902493, -0.33235148  …  -0.14867248, -0.63681304, 0.7775352, 0.6477919, -0.65064037, 0.11195636, 1.3341708, -0.16982467, -0.26486918, 1.0713651], [-0.55058414, 1.3647642, -0.5403684, -0.07526514, 2.976143, 0.46421006, -0.44747573, -0.011652348, -0.5580725, -0.66474336  …  -0.2973853, -1.2736487, 1.5550578, 1.2955769, -1.3012844, 0.2239108, 2.6683407, -0.33964986, -0.5297386, 2.1427302]])"
      ]
     },
     "metadata": {},
     "output_type": "display_data"
    },
    {
     "data": {
      "image/svg+xml": [
       "<?xml version=\"1.0\" encoding=\"utf-8\"?>\n",
       "<svg xmlns=\"http://www.w3.org/2000/svg\" xmlns:xlink=\"http://www.w3.org/1999/xlink\" width=\"600\" height=\"400\" viewBox=\"0 0 2400 1600\">\n",
       "<defs>\n",
       "  <clipPath id=\"clip7500\">\n",
       "    <rect x=\"0\" y=\"0\" width=\"2400\" height=\"1600\"/>\n",
       "  </clipPath>\n",
       "</defs>\n",
       "<path clip-path=\"url(#clip7500)\" d=\"\n",
       "M0 1600 L2400 1600 L2400 0 L0 0  Z\n",
       "  \" fill=\"#ffffff\" fill-rule=\"evenodd\" fill-opacity=\"1\"/>\n",
       "<defs>\n",
       "  <clipPath id=\"clip7501\">\n",
       "    <rect x=\"480\" y=\"0\" width=\"1681\" height=\"1600\"/>\n",
       "  </clipPath>\n",
       "</defs>\n",
       "<path clip-path=\"url(#clip7500)\" d=\"\n",
       "M182.008 1487.47 L2352.76 1487.47 L2352.76 47.2441 L182.008 47.2441  Z\n",
       "  \" fill=\"#ffffff\" fill-rule=\"evenodd\" fill-opacity=\"1\"/>\n",
       "<defs>\n",
       "  <clipPath id=\"clip7502\">\n",
       "    <rect x=\"182\" y=\"47\" width=\"2172\" height=\"1441\"/>\n",
       "  </clipPath>\n",
       "</defs>\n",
       "<polyline clip-path=\"url(#clip7502)\" style=\"stroke:#000000; stroke-width:1.6; stroke-opacity:0.1; fill:none\" points=\"\n",
       "  243.444,1487.47 243.444,47.2441 \n",
       "  \"/>\n",
       "<polyline clip-path=\"url(#clip7502)\" style=\"stroke:#000000; stroke-width:1.6; stroke-opacity:0.1; fill:none\" points=\"\n",
       "  755.413,1487.47 755.413,47.2441 \n",
       "  \"/>\n",
       "<polyline clip-path=\"url(#clip7502)\" style=\"stroke:#000000; stroke-width:1.6; stroke-opacity:0.1; fill:none\" points=\"\n",
       "  1267.38,1487.47 1267.38,47.2441 \n",
       "  \"/>\n",
       "<polyline clip-path=\"url(#clip7502)\" style=\"stroke:#000000; stroke-width:1.6; stroke-opacity:0.1; fill:none\" points=\"\n",
       "  1779.35,1487.47 1779.35,47.2441 \n",
       "  \"/>\n",
       "<polyline clip-path=\"url(#clip7502)\" style=\"stroke:#000000; stroke-width:1.6; stroke-opacity:0.1; fill:none\" points=\"\n",
       "  2291.32,1487.47 2291.32,47.2441 \n",
       "  \"/>\n",
       "<polyline clip-path=\"url(#clip7502)\" style=\"stroke:#000000; stroke-width:1.6; stroke-opacity:0.1; fill:none\" points=\"\n",
       "  182.008,1154.47 2352.76,1154.47 \n",
       "  \"/>\n",
       "<polyline clip-path=\"url(#clip7502)\" style=\"stroke:#000000; stroke-width:1.6; stroke-opacity:0.1; fill:none\" points=\"\n",
       "  182.008,788.341 2352.76,788.341 \n",
       "  \"/>\n",
       "<polyline clip-path=\"url(#clip7502)\" style=\"stroke:#000000; stroke-width:1.6; stroke-opacity:0.1; fill:none\" points=\"\n",
       "  182.008,422.215 2352.76,422.215 \n",
       "  \"/>\n",
       "<polyline clip-path=\"url(#clip7502)\" style=\"stroke:#000000; stroke-width:1.6; stroke-opacity:0.1; fill:none\" points=\"\n",
       "  182.008,56.0893 2352.76,56.0893 \n",
       "  \"/>\n",
       "<polyline clip-path=\"url(#clip7500)\" style=\"stroke:#000000; stroke-width:3.2; stroke-opacity:1; fill:none\" points=\"\n",
       "  182.008,1487.47 2352.76,1487.47 \n",
       "  \"/>\n",
       "<polyline clip-path=\"url(#clip7500)\" style=\"stroke:#000000; stroke-width:3.2; stroke-opacity:1; fill:none\" points=\"\n",
       "  182.008,1487.47 182.008,47.2441 \n",
       "  \"/>\n",
       "<polyline clip-path=\"url(#clip7500)\" style=\"stroke:#000000; stroke-width:3.2; stroke-opacity:1; fill:none\" points=\"\n",
       "  243.444,1487.47 243.444,1465.87 \n",
       "  \"/>\n",
       "<polyline clip-path=\"url(#clip7500)\" style=\"stroke:#000000; stroke-width:3.2; stroke-opacity:1; fill:none\" points=\"\n",
       "  755.413,1487.47 755.413,1465.87 \n",
       "  \"/>\n",
       "<polyline clip-path=\"url(#clip7500)\" style=\"stroke:#000000; stroke-width:3.2; stroke-opacity:1; fill:none\" points=\"\n",
       "  1267.38,1487.47 1267.38,1465.87 \n",
       "  \"/>\n",
       "<polyline clip-path=\"url(#clip7500)\" style=\"stroke:#000000; stroke-width:3.2; stroke-opacity:1; fill:none\" points=\"\n",
       "  1779.35,1487.47 1779.35,1465.87 \n",
       "  \"/>\n",
       "<polyline clip-path=\"url(#clip7500)\" style=\"stroke:#000000; stroke-width:3.2; stroke-opacity:1; fill:none\" points=\"\n",
       "  2291.32,1487.47 2291.32,1465.87 \n",
       "  \"/>\n",
       "<polyline clip-path=\"url(#clip7500)\" style=\"stroke:#000000; stroke-width:3.2; stroke-opacity:1; fill:none\" points=\"\n",
       "  182.008,1154.47 214.569,1154.47 \n",
       "  \"/>\n",
       "<polyline clip-path=\"url(#clip7500)\" style=\"stroke:#000000; stroke-width:3.2; stroke-opacity:1; fill:none\" points=\"\n",
       "  182.008,788.341 214.569,788.341 \n",
       "  \"/>\n",
       "<polyline clip-path=\"url(#clip7500)\" style=\"stroke:#000000; stroke-width:3.2; stroke-opacity:1; fill:none\" points=\"\n",
       "  182.008,422.215 214.569,422.215 \n",
       "  \"/>\n",
       "<polyline clip-path=\"url(#clip7500)\" style=\"stroke:#000000; stroke-width:3.2; stroke-opacity:1; fill:none\" points=\"\n",
       "  182.008,56.0893 214.569,56.0893 \n",
       "  \"/>\n",
       "<g clip-path=\"url(#clip7500)\">\n",
       "<text style=\"fill:#000000; fill-opacity:1; font-family:Arial,Helvetica Neue,Helvetica,sans-serif; font-size:48px; text-anchor:middle;\" transform=\"rotate(0, 243.444, 1541.47)\" x=\"243.444\" y=\"1541.47\">0.0</text>\n",
       "</g>\n",
       "<g clip-path=\"url(#clip7500)\">\n",
       "<text style=\"fill:#000000; fill-opacity:1; font-family:Arial,Helvetica Neue,Helvetica,sans-serif; font-size:48px; text-anchor:middle;\" transform=\"rotate(0, 755.413, 1541.47)\" x=\"755.413\" y=\"1541.47\">2.5</text>\n",
       "</g>\n",
       "<g clip-path=\"url(#clip7500)\">\n",
       "<text style=\"fill:#000000; fill-opacity:1; font-family:Arial,Helvetica Neue,Helvetica,sans-serif; font-size:48px; text-anchor:middle;\" transform=\"rotate(0, 1267.38, 1541.47)\" x=\"1267.38\" y=\"1541.47\">5.0</text>\n",
       "</g>\n",
       "<g clip-path=\"url(#clip7500)\">\n",
       "<text style=\"fill:#000000; fill-opacity:1; font-family:Arial,Helvetica Neue,Helvetica,sans-serif; font-size:48px; text-anchor:middle;\" transform=\"rotate(0, 1779.35, 1541.47)\" x=\"1779.35\" y=\"1541.47\">7.5</text>\n",
       "</g>\n",
       "<g clip-path=\"url(#clip7500)\">\n",
       "<text style=\"fill:#000000; fill-opacity:1; font-family:Arial,Helvetica Neue,Helvetica,sans-serif; font-size:48px; text-anchor:middle;\" transform=\"rotate(0, 2291.32, 1541.47)\" x=\"2291.32\" y=\"1541.47\">10.0</text>\n",
       "</g>\n",
       "<g clip-path=\"url(#clip7500)\">\n",
       "<text style=\"fill:#000000; fill-opacity:1; font-family:Arial,Helvetica Neue,Helvetica,sans-serif; font-size:48px; text-anchor:end;\" transform=\"rotate(0, 158.008, 1171.97)\" x=\"158.008\" y=\"1171.97\">-1.0</text>\n",
       "</g>\n",
       "<g clip-path=\"url(#clip7500)\">\n",
       "<text style=\"fill:#000000; fill-opacity:1; font-family:Arial,Helvetica Neue,Helvetica,sans-serif; font-size:48px; text-anchor:end;\" transform=\"rotate(0, 158.008, 805.841)\" x=\"158.008\" y=\"805.841\">-0.5</text>\n",
       "</g>\n",
       "<g clip-path=\"url(#clip7500)\">\n",
       "<text style=\"fill:#000000; fill-opacity:1; font-family:Arial,Helvetica Neue,Helvetica,sans-serif; font-size:48px; text-anchor:end;\" transform=\"rotate(0, 158.008, 439.715)\" x=\"158.008\" y=\"439.715\">0.0</text>\n",
       "</g>\n",
       "<g clip-path=\"url(#clip7500)\">\n",
       "<text style=\"fill:#000000; fill-opacity:1; font-family:Arial,Helvetica Neue,Helvetica,sans-serif; font-size:48px; text-anchor:end;\" transform=\"rotate(0, 158.008, 73.5893)\" x=\"158.008\" y=\"73.5893\">0.5</text>\n",
       "</g>\n",
       "<polyline clip-path=\"url(#clip7502)\" style=\"stroke:#009af9; stroke-width:6.4; stroke-opacity:1; fill:none\" points=\"\n",
       "  243.444,422.215 1267.38,90.2402 2291.32,88.0053 \n",
       "  \"/>\n",
       "<circle clip-path=\"url(#clip7502)\" cx=\"243.444\" cy=\"422.215\" r=\"14\" fill=\"#000000\" fill-rule=\"evenodd\" fill-opacity=\"1\" stroke=\"#ffffff\" stroke-opacity=\"1\" stroke-width=\"3.2\"/>\n",
       "<circle clip-path=\"url(#clip7502)\" cx=\"243.444\" cy=\"422.215\" r=\"11\" fill=\"#e26f46\" fill-rule=\"evenodd\" fill-opacity=\"1\" stroke=\"#ffffff\" stroke-opacity=\"1\" stroke-width=\"3.2\"/>\n",
       "<circle clip-path=\"url(#clip7502)\" cx=\"1267.38\" cy=\"934.464\" r=\"14\" fill=\"#000000\" fill-rule=\"evenodd\" fill-opacity=\"1\" stroke=\"#ffffff\" stroke-opacity=\"1\" stroke-width=\"3.2\"/>\n",
       "<circle clip-path=\"url(#clip7502)\" cx=\"1267.38\" cy=\"934.464\" r=\"11\" fill=\"#e26f46\" fill-rule=\"evenodd\" fill-opacity=\"1\" stroke=\"#ffffff\" stroke-opacity=\"1\" stroke-width=\"3.2\"/>\n",
       "<circle clip-path=\"url(#clip7502)\" cx=\"2291.32\" cy=\"1446.71\" r=\"14\" fill=\"#000000\" fill-rule=\"evenodd\" fill-opacity=\"1\" stroke=\"#ffffff\" stroke-opacity=\"1\" stroke-width=\"3.2\"/>\n",
       "<circle clip-path=\"url(#clip7502)\" cx=\"2291.32\" cy=\"1446.71\" r=\"11\" fill=\"#e26f46\" fill-rule=\"evenodd\" fill-opacity=\"1\" stroke=\"#ffffff\" stroke-opacity=\"1\" stroke-width=\"3.2\"/>\n",
       "<path clip-path=\"url(#clip7500)\" d=\"\n",
       "M1832.1 312.204 L2280.76 312.204 L2280.76 130.764 L1832.1 130.764  Z\n",
       "  \" fill=\"#ffffff\" fill-rule=\"evenodd\" fill-opacity=\"1\"/>\n",
       "<polyline clip-path=\"url(#clip7500)\" style=\"stroke:#000000; stroke-width:3.2; stroke-opacity:1; fill:none\" points=\"\n",
       "  1832.1,312.204 2280.76,312.204 2280.76,130.764 1832.1,130.764 1832.1,312.204 \n",
       "  \"/>\n",
       "<polyline clip-path=\"url(#clip7500)\" style=\"stroke:#009af9; stroke-width:6.4; stroke-opacity:1; fill:none\" points=\"\n",
       "  1856.1,191.244 2000.1,191.244 \n",
       "  \"/>\n",
       "<g clip-path=\"url(#clip7500)\">\n",
       "<text style=\"fill:#000000; fill-opacity:1; font-family:Arial,Helvetica Neue,Helvetica,sans-serif; font-size:48px; text-anchor:start;\" transform=\"rotate(0, 2024.1, 208.744)\" x=\"2024.1\" y=\"208.744\">data</text>\n",
       "</g>\n",
       "<circle clip-path=\"url(#clip7500)\" cx=\"1940.1\" cy=\"251.724\" r=\"20\" fill=\"#000000\" fill-rule=\"evenodd\" fill-opacity=\"1\" stroke=\"#ffffff\" stroke-opacity=\"1\" stroke-width=\"3.2\"/>\n",
       "<circle clip-path=\"url(#clip7500)\" cx=\"1940.1\" cy=\"251.724\" r=\"17\" fill=\"#e26f46\" fill-rule=\"evenodd\" fill-opacity=\"1\" stroke=\"#ffffff\" stroke-opacity=\"1\" stroke-width=\"3.2\"/>\n",
       "<g clip-path=\"url(#clip7500)\">\n",
       "<text style=\"fill:#000000; fill-opacity:1; font-family:Arial,Helvetica Neue,Helvetica,sans-serif; font-size:48px; text-anchor:start;\" transform=\"rotate(0, 2024.1, 269.224)\" x=\"2024.1\" y=\"269.224\">prediction</text>\n",
       "</g>\n",
       "</svg>\n"
      ]
     },
     "metadata": {},
     "output_type": "display_data"
    },
    {
     "data": {
      "text/plain": [
       "false"
      ]
     },
     "execution_count": 33,
     "metadata": {},
     "output_type": "execute_result"
    }
   ],
   "source": [
    "cb = function (p,l,pred;doplot=false) #callback function to observe training\n",
    "    display(l)\n",
    "    # plot current prediction against data\n",
    "    if doplot\n",
    "        pl = plot(tRange, ode_data[51,:], lw=2, label=\"data\")\n",
    "        scatter!(pl, tRange, pred[51,:], label=\"prediction\")\n",
    "        display(plot(pl))\n",
    "    end\n",
    "    return false\n",
    "end\n",
    "\n",
    "# Display the ODE with the initial parameter values.\n",
    "cb(n_ode.p, loss_n_ode(n_ode.p), predict_n_ode(f0, n_ode.p), doplot=true)"
   ]
  },
  {
   "cell_type": "code",
   "execution_count": 34,
   "metadata": {},
   "outputs": [
    {
     "data": {
      "text/plain": [
       "251.43694f0"
      ]
     },
     "metadata": {},
     "output_type": "display_data"
    },
    {
     "name": "stderr",
     "output_type": "stream",
     "text": [
      "\r",
      "\u001b[32mloss: 251:   0%|▎                                        |  ETA: 0:20:07\u001b[39m"
     ]
    },
    {
     "data": {
      "text/plain": [
       "123.797775f0"
      ]
     },
     "metadata": {},
     "output_type": "display_data"
    },
    {
     "name": "stderr",
     "output_type": "stream",
     "text": [
      "\r",
      "\u001b[32mloss: 124:   1%|▍                                        |  ETA: 0:10:16\u001b[39m"
     ]
    },
    {
     "data": {
      "text/plain": [
       "50.598495f0"
      ]
     },
     "metadata": {},
     "output_type": "display_data"
    },
    {
     "name": "stderr",
     "output_type": "stream",
     "text": [
      "\r",
      "\u001b[32mloss: 50.6:   2%|▋                                        |  ETA: 0:06:58\u001b[39m"
     ]
    },
    {
     "data": {
      "text/plain": [
       "17.602804f0"
      ]
     },
     "metadata": {},
     "output_type": "display_data"
    },
    {
     "name": "stderr",
     "output_type": "stream",
     "text": [
      "\r",
      "\u001b[32mloss: 17.6:   2%|▉                                        |  ETA: 0:05:19\u001b[39m"
     ]
    },
    {
     "data": {
      "text/plain": [
       "10.669491f0"
      ]
     },
     "metadata": {},
     "output_type": "display_data"
    },
    {
     "name": "stderr",
     "output_type": "stream",
     "text": [
      "\r",
      "\u001b[32mloss: 10.7:   2%|█                                        |  ETA: 0:04:18\u001b[39m"
     ]
    },
    {
     "data": {
      "text/plain": [
       "17.2928f0"
      ]
     },
     "metadata": {},
     "output_type": "display_data"
    },
    {
     "name": "stderr",
     "output_type": "stream",
     "text": [
      "\r",
      "\u001b[32mloss: 17.3:   3%|█▎                                       |  ETA: 0:03:38\u001b[39m"
     ]
    },
    {
     "data": {
      "text/plain": [
       "27.05941f0"
      ]
     },
     "metadata": {},
     "output_type": "display_data"
    },
    {
     "data": {
      "text/plain": [
       "33.390144f0"
      ]
     },
     "metadata": {},
     "output_type": "display_data"
    },
    {
     "name": "stderr",
     "output_type": "stream",
     "text": [
      "\r",
      "\u001b[32mloss: 33.4:   4%|█▋                                       |  ETA: 0:02:47\u001b[39m"
     ]
    },
    {
     "data": {
      "text/plain": [
       "34.336353f0"
      ]
     },
     "metadata": {},
     "output_type": "display_data"
    },
    {
     "name": "stderr",
     "output_type": "stream",
     "text": [
      "\r",
      "\u001b[32mloss: 34.3:   4%|█▉                                       |  ETA: 0:02:30\u001b[39m"
     ]
    },
    {
     "data": {
      "text/plain": [
       "31.002834f0"
      ]
     },
     "metadata": {},
     "output_type": "display_data"
    },
    {
     "name": "stderr",
     "output_type": "stream",
     "text": [
      "\r",
      "\u001b[32mloss: 31:   5%|██                                       |  ETA: 0:02:16\u001b[39m"
     ]
    },
    {
     "data": {
      "text/plain": [
       "25.400793f0"
      ]
     },
     "metadata": {},
     "output_type": "display_data"
    },
    {
     "name": "stderr",
     "output_type": "stream",
     "text": [
      "\r",
      "\u001b[32mloss: 25.4:   6%|██▎                                      |  ETA: 0:02:05\u001b[39m"
     ]
    },
    {
     "data": {
      "text/plain": [
       "19.283905f0"
      ]
     },
     "metadata": {},
     "output_type": "display_data"
    },
    {
     "name": "stderr",
     "output_type": "stream",
     "text": [
      "\r",
      "\u001b[32mloss: 19.3:   6%|██▌                                      |  ETA: 0:01:56\u001b[39m"
     ]
    },
    {
     "data": {
      "text/plain": [
       "13.835677f0"
      ]
     },
     "metadata": {},
     "output_type": "display_data"
    },
    {
     "name": "stderr",
     "output_type": "stream",
     "text": [
      "\r",
      "\u001b[32mloss: 13.8:   6%|██▋                                      |  ETA: 0:01:48\u001b[39m"
     ]
    },
    {
     "data": {
      "text/plain": [
       "9.645096f0"
      ]
     },
     "metadata": {},
     "output_type": "display_data"
    },
    {
     "name": "stderr",
     "output_type": "stream",
     "text": [
      "\r",
      "\u001b[32mloss: 9.65:   7%|██▉                                      |  ETA: 0:01:41\u001b[39m"
     ]
    },
    {
     "data": {
      "text/plain": [
       "6.833113f0"
      ]
     },
     "metadata": {},
     "output_type": "display_data"
    },
    {
     "data": {
      "text/plain": [
       "5.250395f0"
      ]
     },
     "metadata": {},
     "output_type": "display_data"
    },
    {
     "name": "stderr",
     "output_type": "stream",
     "text": [
      "\r",
      "\u001b[32mloss: 5.25:   8%|███▎                                     |  ETA: 0:01:30\u001b[39m"
     ]
    },
    {
     "data": {
      "text/plain": [
       "4.632035f0"
      ]
     },
     "metadata": {},
     "output_type": "display_data"
    },
    {
     "name": "stderr",
     "output_type": "stream",
     "text": [
      "\r",
      "\u001b[32mloss: 4.63:   8%|███▌                                     |  ETA: 0:01:26\u001b[39m"
     ]
    },
    {
     "data": {
      "text/plain": [
       "4.6771836f0"
      ]
     },
     "metadata": {},
     "output_type": "display_data"
    },
    {
     "data": {
      "text/plain": [
       "5.0862694f0"
      ]
     },
     "metadata": {},
     "output_type": "display_data"
    },
    {
     "name": "stderr",
     "output_type": "stream",
     "text": [
      "\r",
      "\u001b[32mloss: 5.09:  10%|███▉                                     |  ETA: 0:01:18\u001b[39m"
     ]
    },
    {
     "data": {
      "text/plain": [
       "5.5946503f0"
      ]
     },
     "metadata": {},
     "output_type": "display_data"
    },
    {
     "name": "stderr",
     "output_type": "stream",
     "text": [
      "\r",
      "\u001b[32mloss: 5.59:  10%|████▏                                    |  ETA: 0:01:14\u001b[39m"
     ]
    },
    {
     "data": {
      "text/plain": [
       "6.007009f0"
      ]
     },
     "metadata": {},
     "output_type": "display_data"
    },
    {
     "data": {
      "text/plain": [
       "6.2113957f0"
      ]
     },
     "metadata": {},
     "output_type": "display_data"
    },
    {
     "name": "stderr",
     "output_type": "stream",
     "text": [
      "\r",
      "\u001b[32mloss: 6.21:  11%|████▌                                    |  ETA: 0:01:09\u001b[39m"
     ]
    },
    {
     "data": {
      "text/plain": [
       "6.166983f0"
      ]
     },
     "metadata": {},
     "output_type": "display_data"
    },
    {
     "data": {
      "text/plain": [
       "5.8802557f0"
      ]
     },
     "metadata": {},
     "output_type": "display_data"
    },
    {
     "name": "stderr",
     "output_type": "stream",
     "text": [
      "\r",
      "\u001b[32mloss: 5.88:  12%|████▉                                    |  ETA: 0:01:04\u001b[39m"
     ]
    },
    {
     "data": {
      "text/plain": [
       "5.383498f0"
      ]
     },
     "metadata": {},
     "output_type": "display_data"
    },
    {
     "name": "stderr",
     "output_type": "stream",
     "text": [
      "\r",
      "\u001b[32mloss: 5.38:  12%|█████▏                                   |  ETA: 0:01:01\u001b[39m"
     ]
    },
    {
     "data": {
      "text/plain": [
       "4.724771f0"
      ]
     },
     "metadata": {},
     "output_type": "display_data"
    },
    {
     "name": "stderr",
     "output_type": "stream",
     "text": [
      "\r",
      "\u001b[32mloss: 4.72:  13%|█████▍                                   |  ETA: 0:00:59\u001b[39m"
     ]
    },
    {
     "data": {
      "text/plain": [
       "3.9677792f0"
      ]
     },
     "metadata": {},
     "output_type": "display_data"
    },
    {
     "name": "stderr",
     "output_type": "stream",
     "text": [
      "\r",
      "\u001b[32mloss: 3.97:  14%|█████▌                                   |  ETA: 0:00:58\u001b[39m"
     ]
    },
    {
     "data": {
      "text/plain": [
       "3.1901338f0"
      ]
     },
     "metadata": {},
     "output_type": "display_data"
    },
    {
     "data": {
      "text/plain": [
       "2.4720142f0"
      ]
     },
     "metadata": {},
     "output_type": "display_data"
    },
    {
     "name": "stderr",
     "output_type": "stream",
     "text": [
      "\r",
      "\u001b[32mloss: 2.47:  14%|██████                                   |  ETA: 0:00:54\u001b[39m"
     ]
    },
    {
     "data": {
      "text/plain": [
       "1.8792422f0"
      ]
     },
     "metadata": {},
     "output_type": "display_data"
    },
    {
     "data": {
      "text/plain": [
       "1.4508702f0"
      ]
     },
     "metadata": {},
     "output_type": "display_data"
    },
    {
     "name": "stderr",
     "output_type": "stream",
     "text": [
      "\r",
      "\u001b[32mloss: 1.45:  16%|██████▍                                  |  ETA: 0:00:51\u001b[39m"
     ]
    },
    {
     "data": {
      "text/plain": [
       "1.197247f0"
      ]
     },
     "metadata": {},
     "output_type": "display_data"
    },
    {
     "data": {
      "text/plain": [
       "1.1055987f0"
      ]
     },
     "metadata": {},
     "output_type": "display_data"
    },
    {
     "name": "stderr",
     "output_type": "stream",
     "text": [
      "\r",
      "\u001b[32mloss: 1.11:  16%|██████▊                                  |  ETA: 0:00:48\u001b[39m"
     ]
    },
    {
     "data": {
      "text/plain": [
       "1.1461327f0"
      ]
     },
     "metadata": {},
     "output_type": "display_data"
    },
    {
     "data": {
      "text/plain": [
       "1.2755762f0"
      ]
     },
     "metadata": {},
     "output_type": "display_data"
    },
    {
     "name": "stderr",
     "output_type": "stream",
     "text": [
      "\r",
      "\u001b[32mloss: 1.28:  18%|███████▏                                 |  ETA: 0:00:46\u001b[39m"
     ]
    },
    {
     "data": {
      "text/plain": [
       "1.4412099f0"
      ]
     },
     "metadata": {},
     "output_type": "display_data"
    },
    {
     "data": {
      "text/plain": [
       "1.5888056f0"
      ]
     },
     "metadata": {},
     "output_type": "display_data"
    },
    {
     "name": "stderr",
     "output_type": "stream",
     "text": [
      "\r",
      "\u001b[32mloss: 1.59:  18%|███████▋                                 |  ETA: 0:00:44\u001b[39m"
     ]
    },
    {
     "data": {
      "text/plain": [
       "1.6734314f0"
      ]
     },
     "metadata": {},
     "output_type": "display_data"
    },
    {
     "data": {
      "text/plain": [
       "1.6690272f0"
      ]
     },
     "metadata": {},
     "output_type": "display_data"
    },
    {
     "name": "stderr",
     "output_type": "stream",
     "text": [
      "\r",
      "\u001b[32mloss: 1.67:  20%|████████                                 |  ETA: 0:00:42\u001b[39m"
     ]
    },
    {
     "data": {
      "text/plain": [
       "1.573276f0"
      ]
     },
     "metadata": {},
     "output_type": "display_data"
    },
    {
     "data": {
      "text/plain": [
       "1.4061809f0"
      ]
     },
     "metadata": {},
     "output_type": "display_data"
    },
    {
     "name": "stderr",
     "output_type": "stream",
     "text": [
      "\r",
      "\u001b[32mloss: 1.41:  20%|████████▍                                |  ETA: 0:00:40\u001b[39m"
     ]
    },
    {
     "data": {
      "text/plain": [
       "1.202186f0"
      ]
     },
     "metadata": {},
     "output_type": "display_data"
    },
    {
     "name": "stderr",
     "output_type": "stream",
     "text": [
      "\r",
      "\u001b[32mloss: 1.2:  21%|████████▋                                |  ETA: 0:00:39\u001b[39m"
     ]
    },
    {
     "data": {
      "text/plain": [
       "0.9982126f0"
      ]
     },
     "metadata": {},
     "output_type": "display_data"
    },
    {
     "data": {
      "text/plain": [
       "0.8228416f0"
      ]
     },
     "metadata": {},
     "output_type": "display_data"
    },
    {
     "name": "stderr",
     "output_type": "stream",
     "text": [
      "\r",
      "\u001b[32mloss: 0.823:  22%|█████████                                |  ETA: 0:00:38\u001b[39m"
     ]
    },
    {
     "data": {
      "text/plain": [
       "0.69159997f0"
      ]
     },
     "metadata": {},
     "output_type": "display_data"
    },
    {
     "data": {
      "text/plain": [
       "0.6087305f0"
      ]
     },
     "metadata": {},
     "output_type": "display_data"
    },
    {
     "name": "stderr",
     "output_type": "stream",
     "text": [
      "\r",
      "\u001b[32mloss: 0.609:  23%|█████████▍                               |  ETA: 0:00:36\u001b[39m"
     ]
    },
    {
     "data": {
      "text/plain": [
       "0.57142496f0"
      ]
     },
     "metadata": {},
     "output_type": "display_data"
    },
    {
     "data": {
      "text/plain": [
       "0.57260394f0"
      ]
     },
     "metadata": {},
     "output_type": "display_data"
    },
    {
     "name": "stderr",
     "output_type": "stream",
     "text": [
      "\r",
      "\u001b[32mloss: 0.573:  24%|█████████▉                               |  ETA: 0:00:35\u001b[39m"
     ]
    },
    {
     "data": {
      "text/plain": [
       "0.6017303f0"
      ]
     },
     "metadata": {},
     "output_type": "display_data"
    },
    {
     "data": {
      "text/plain": [
       "0.6454589f0"
      ]
     },
     "metadata": {},
     "output_type": "display_data"
    },
    {
     "name": "stderr",
     "output_type": "stream",
     "text": [
      "\r",
      "\u001b[32mloss: 0.645:  25%|██████████▎                              |  ETA: 0:00:33\u001b[39m"
     ]
    },
    {
     "data": {
      "text/plain": [
       "0.689391f0"
      ]
     },
     "metadata": {},
     "output_type": "display_data"
    },
    {
     "data": {
      "text/plain": [
       "0.72066706f0"
      ]
     },
     "metadata": {},
     "output_type": "display_data"
    },
    {
     "name": "stderr",
     "output_type": "stream",
     "text": [
      "\r",
      "\u001b[32mloss: 0.721:  26%|██████████▋                              |  ETA: 0:00:32\u001b[39m"
     ]
    },
    {
     "data": {
      "text/plain": [
       "0.7305766f0"
      ]
     },
     "metadata": {},
     "output_type": "display_data"
    },
    {
     "data": {
      "text/plain": [
       "0.71642196f0"
      ]
     },
     "metadata": {},
     "output_type": "display_data"
    },
    {
     "name": "stderr",
     "output_type": "stream",
     "text": [
      "\r",
      "\u001b[32mloss: 0.716:  27%|███████████▏                             |  ETA: 0:00:31\u001b[39m"
     ]
    },
    {
     "data": {
      "text/plain": [
       "0.68182087f0"
      ]
     },
     "metadata": {},
     "output_type": "display_data"
    },
    {
     "data": {
      "text/plain": [
       "0.6348835f0"
      ]
     },
     "metadata": {},
     "output_type": "display_data"
    },
    {
     "name": "stderr",
     "output_type": "stream",
     "text": [
      "\r",
      "\u001b[32mloss: 0.635:  28%|███████████▌                             |  ETA: 0:00:30\u001b[39m"
     ]
    },
    {
     "data": {
      "text/plain": [
       "0.5848997f0"
      ]
     },
     "metadata": {},
     "output_type": "display_data"
    },
    {
     "data": {
      "text/plain": [
       "0.5393873f0"
      ]
     },
     "metadata": {},
     "output_type": "display_data"
    },
    {
     "name": "stderr",
     "output_type": "stream",
     "text": [
      "\r",
      "\u001b[32mloss: 0.539:  29%|███████████▉                             |  ETA: 0:00:29\u001b[39m"
     ]
    },
    {
     "data": {
      "text/plain": [
       "0.5030058f0"
      ]
     },
     "metadata": {},
     "output_type": "display_data"
    },
    {
     "data": {
      "text/plain": [
       "0.47815555f0"
      ]
     },
     "metadata": {},
     "output_type": "display_data"
    },
    {
     "name": "stderr",
     "output_type": "stream",
     "text": [
      "\r",
      "\u001b[32mloss: 0.478:  30%|████████████▎                            |  ETA: 0:00:28\u001b[39m"
     ]
    },
    {
     "data": {
      "text/plain": [
       "0.4657851f0"
      ]
     },
     "metadata": {},
     "output_type": "display_data"
    },
    {
     "data": {
      "text/plain": [
       "0.46532422f0"
      ]
     },
     "metadata": {},
     "output_type": "display_data"
    },
    {
     "name": "stderr",
     "output_type": "stream",
     "text": [
      "\r",
      "\u001b[32mloss: 0.465:  31%|████████████▊                            |  ETA: 0:00:27\u001b[39m"
     ]
    },
    {
     "data": {
      "text/plain": [
       "0.474124f0"
      ]
     },
     "metadata": {},
     "output_type": "display_data"
    },
    {
     "data": {
      "text/plain": [
       "0.48761675f0"
      ]
     },
     "metadata": {},
     "output_type": "display_data"
    },
    {
     "name": "stderr",
     "output_type": "stream",
     "text": [
      "\r",
      "\u001b[32mloss: 0.488:  32%|█████████████▏                           |  ETA: 0:00:26\u001b[39m"
     ]
    },
    {
     "data": {
      "text/plain": [
       "0.5006792f0"
      ]
     },
     "metadata": {},
     "output_type": "display_data"
    },
    {
     "data": {
      "text/plain": [
       "0.50931966f0"
      ]
     },
     "metadata": {},
     "output_type": "display_data"
    },
    {
     "name": "stderr",
     "output_type": "stream",
     "text": [
      "\r",
      "\u001b[32mloss: 0.509:  33%|█████████████▌                           |  ETA: 0:00:25\u001b[39m"
     ]
    },
    {
     "data": {
      "text/plain": [
       "0.511499f0"
      ]
     },
     "metadata": {},
     "output_type": "display_data"
    },
    {
     "data": {
      "text/plain": [
       "0.5069269f0"
      ]
     },
     "metadata": {},
     "output_type": "display_data"
    },
    {
     "name": "stderr",
     "output_type": "stream",
     "text": [
      "\r",
      "\u001b[32mloss: 0.507:  34%|██████████████                           |  ETA: 0:00:24\u001b[39m"
     ]
    },
    {
     "data": {
      "text/plain": [
       "0.49662593f0"
      ]
     },
     "metadata": {},
     "output_type": "display_data"
    },
    {
     "data": {
      "text/plain": [
       "0.482744f0"
      ]
     },
     "metadata": {},
     "output_type": "display_data"
    },
    {
     "name": "stderr",
     "output_type": "stream",
     "text": [
      "\r",
      "\u001b[32mloss: 0.483:  35%|██████████████▍                          |  ETA: 0:00:24\u001b[39m"
     ]
    },
    {
     "data": {
      "text/plain": [
       "0.46823296f0"
      ]
     },
     "metadata": {},
     "output_type": "display_data"
    },
    {
     "data": {
      "text/plain": [
       "0.4559966f0"
      ]
     },
     "metadata": {},
     "output_type": "display_data"
    },
    {
     "name": "stderr",
     "output_type": "stream",
     "text": [
      "\r",
      "\u001b[32mloss: 0.456:  36%|██████████████▊                          |  ETA: 0:00:23\u001b[39m"
     ]
    },
    {
     "data": {
      "text/plain": [
       "0.44790643f0"
      ]
     },
     "metadata": {},
     "output_type": "display_data"
    },
    {
     "name": "stderr",
     "output_type": "stream",
     "text": [
      "\r",
      "\u001b[32mloss: 0.448:  36%|███████████████                          |  ETA: 0:00:23\u001b[39m"
     ]
    },
    {
     "data": {
      "text/plain": [
       "0.44440007f0"
      ]
     },
     "metadata": {},
     "output_type": "display_data"
    },
    {
     "data": {
      "text/plain": [
       "0.44477206f0"
      ]
     },
     "metadata": {},
     "output_type": "display_data"
    },
    {
     "name": "stderr",
     "output_type": "stream",
     "text": [
      "\r",
      "\u001b[32mloss: 0.445:  38%|███████████████▍                         |  ETA: 0:00:22\u001b[39m"
     ]
    },
    {
     "data": {
      "text/plain": [
       "0.4476838f0"
      ]
     },
     "metadata": {},
     "output_type": "display_data"
    },
    {
     "data": {
      "text/plain": [
       "0.45155612f0"
      ]
     },
     "metadata": {},
     "output_type": "display_data"
    },
    {
     "name": "stderr",
     "output_type": "stream",
     "text": [
      "\r",
      "\u001b[32mloss: 0.452:  38%|███████████████▊                         |  ETA: 0:00:21\u001b[39m"
     ]
    },
    {
     "data": {
      "text/plain": [
       "0.45491433f0"
      ]
     },
     "metadata": {},
     "output_type": "display_data"
    },
    {
     "data": {
      "text/plain": [
       "0.4567534f0"
      ]
     },
     "metadata": {},
     "output_type": "display_data"
    },
    {
     "name": "stderr",
     "output_type": "stream",
     "text": [
      "\r",
      "\u001b[32mloss: 0.457:  40%|████████████████▎                        |  ETA: 0:00:21\u001b[39m"
     ]
    },
    {
     "data": {
      "text/plain": [
       "0.45673314f0"
      ]
     },
     "metadata": {},
     "output_type": "display_data"
    },
    {
     "data": {
      "text/plain": [
       "0.4550613f0"
      ]
     },
     "metadata": {},
     "output_type": "display_data"
    },
    {
     "name": "stderr",
     "output_type": "stream",
     "text": [
      "\r",
      "\u001b[32mloss: 0.455:  40%|████████████████▋                        |  ETA: 0:00:20\u001b[39m"
     ]
    },
    {
     "data": {
      "text/plain": [
       "0.45221913f0"
      ]
     },
     "metadata": {},
     "output_type": "display_data"
    },
    {
     "data": {
      "text/plain": [
       "0.44879448f0"
      ]
     },
     "metadata": {},
     "output_type": "display_data"
    },
    {
     "name": "stderr",
     "output_type": "stream",
     "text": [
      "\r",
      "\u001b[32mloss: 0.449:  42%|█████████████████                        |  ETA: 0:00:20\u001b[39m"
     ]
    },
    {
     "data": {
      "text/plain": [
       "0.44543532f0"
      ]
     },
     "metadata": {},
     "output_type": "display_data"
    },
    {
     "data": {
      "text/plain": [
       "0.44274354f0"
      ]
     },
     "metadata": {},
     "output_type": "display_data"
    },
    {
     "name": "stderr",
     "output_type": "stream",
     "text": [
      "\r",
      "\u001b[32mloss: 0.443:  42%|█████████████████▍                       |  ETA: 0:00:19\u001b[39m"
     ]
    },
    {
     "data": {
      "text/plain": [
       "0.44106275f0"
      ]
     },
     "metadata": {},
     "output_type": "display_data"
    },
    {
     "data": {
      "text/plain": [
       "0.44036615f0"
      ]
     },
     "metadata": {},
     "output_type": "display_data"
    },
    {
     "name": "stderr",
     "output_type": "stream",
     "text": [
      "\r",
      "\u001b[32mloss: 0.44:  44%|█████████████████▉                       |  ETA: 0:00:19\u001b[39m"
     ]
    },
    {
     "data": {
      "text/plain": [
       "0.44038567f0"
      ]
     },
     "metadata": {},
     "output_type": "display_data"
    },
    {
     "data": {
      "text/plain": [
       "0.44083622f0"
      ]
     },
     "metadata": {},
     "output_type": "display_data"
    },
    {
     "name": "stderr",
     "output_type": "stream",
     "text": [
      "\r",
      "\u001b[32mloss: 0.441:  44%|██████████████████▎                      |  ETA: 0:00:18\u001b[39m"
     ]
    },
    {
     "data": {
      "text/plain": [
       "0.4414981f0"
      ]
     },
     "metadata": {},
     "output_type": "display_data"
    },
    {
     "data": {
      "text/plain": [
       "0.44215623f0"
      ]
     },
     "metadata": {},
     "output_type": "display_data"
    },
    {
     "name": "stderr",
     "output_type": "stream",
     "text": [
      "\r",
      "\u001b[32mloss: 0.442:  46%|██████████████████▋                      |  ETA: 0:00:18\u001b[39m"
     ]
    },
    {
     "data": {
      "text/plain": [
       "0.44257373f0"
      ]
     },
     "metadata": {},
     "output_type": "display_data"
    },
    {
     "data": {
      "text/plain": [
       "0.4425765f0"
      ]
     },
     "metadata": {},
     "output_type": "display_data"
    },
    {
     "name": "stderr",
     "output_type": "stream",
     "text": [
      "\r",
      "\u001b[32mloss: 0.443:  46%|███████████████████▏                     |  ETA: 0:00:17\u001b[39m"
     ]
    },
    {
     "data": {
      "text/plain": [
       "0.44214013f0"
      ]
     },
     "metadata": {},
     "output_type": "display_data"
    },
    {
     "data": {
      "text/plain": [
       "0.44138667f0"
      ]
     },
     "metadata": {},
     "output_type": "display_data"
    },
    {
     "name": "stderr",
     "output_type": "stream",
     "text": [
      "\r",
      "\u001b[32mloss: 0.441:  48%|███████████████████▌                     |  ETA: 0:00:17\u001b[39m"
     ]
    },
    {
     "data": {
      "text/plain": [
       "0.44050783f0"
      ]
     },
     "metadata": {},
     "output_type": "display_data"
    },
    {
     "data": {
      "text/plain": [
       "0.43968356f0"
      ]
     },
     "metadata": {},
     "output_type": "display_data"
    },
    {
     "name": "stderr",
     "output_type": "stream",
     "text": [
      "\r",
      "\u001b[32mloss: 0.44:  48%|███████████████████▉                     |  ETA: 0:00:16\u001b[39m"
     ]
    },
    {
     "data": {
      "text/plain": [
       "0.43903708f0"
      ]
     },
     "metadata": {},
     "output_type": "display_data"
    },
    {
     "data": {
      "text/plain": [
       "0.4386256f0"
      ]
     },
     "metadata": {},
     "output_type": "display_data"
    },
    {
     "name": "stderr",
     "output_type": "stream",
     "text": [
      "\r",
      "\u001b[32mloss: 0.439:  50%|████████████████████▎                    |  ETA: 0:00:16\u001b[39m"
     ]
    },
    {
     "data": {
      "text/plain": [
       "0.43845823f0"
      ]
     },
     "metadata": {},
     "output_type": "display_data"
    },
    {
     "data": {
      "text/plain": [
       "0.43849936f0"
      ]
     },
     "metadata": {},
     "output_type": "display_data"
    },
    {
     "name": "stderr",
     "output_type": "stream",
     "text": [
      "\r",
      "\u001b[32mloss: 0.438:  50%|████████████████████▊                    |  ETA: 0:00:15\u001b[39m"
     ]
    },
    {
     "data": {
      "text/plain": [
       "0.4386717f0"
      ]
     },
     "metadata": {},
     "output_type": "display_data"
    },
    {
     "data": {
      "text/plain": [
       "0.43887848f0"
      ]
     },
     "metadata": {},
     "output_type": "display_data"
    },
    {
     "name": "stderr",
     "output_type": "stream",
     "text": [
      "\r",
      "\u001b[32mloss: 0.439:  52%|█████████████████████▏                   |  ETA: 0:00:15\u001b[39m"
     ]
    },
    {
     "data": {
      "text/plain": [
       "0.4390374f0"
      ]
     },
     "metadata": {},
     "output_type": "display_data"
    },
    {
     "data": {
      "text/plain": [
       "0.43910015f0"
      ]
     },
     "metadata": {},
     "output_type": "display_data"
    },
    {
     "name": "stderr",
     "output_type": "stream",
     "text": [
      "\r",
      "\u001b[32mloss: 0.439:  52%|█████████████████████▌                   |  ETA: 0:00:14\u001b[39m"
     ]
    },
    {
     "data": {
      "text/plain": [
       "0.43904954f0"
      ]
     },
     "metadata": {},
     "output_type": "display_data"
    },
    {
     "data": {
      "text/plain": [
       "0.43889472f0"
      ]
     },
     "metadata": {},
     "output_type": "display_data"
    },
    {
     "name": "stderr",
     "output_type": "stream",
     "text": [
      "\r",
      "\u001b[32mloss: 0.439:  54%|█████████████████████▉                   |  ETA: 0:00:14\u001b[39m"
     ]
    },
    {
     "data": {
      "text/plain": [
       "0.4386654f0"
      ]
     },
     "metadata": {},
     "output_type": "display_data"
    },
    {
     "data": {
      "text/plain": [
       "0.4384039f0"
      ]
     },
     "metadata": {},
     "output_type": "display_data"
    },
    {
     "name": "stderr",
     "output_type": "stream",
     "text": [
      "\r",
      "\u001b[32mloss: 0.438:  54%|██████████████████████▍                  |  ETA: 0:00:14\u001b[39m"
     ]
    },
    {
     "data": {
      "text/plain": [
       "0.43815875f0"
      ]
     },
     "metadata": {},
     "output_type": "display_data"
    },
    {
     "data": {
      "text/plain": [
       "0.4379784f0"
      ]
     },
     "metadata": {},
     "output_type": "display_data"
    },
    {
     "name": "stderr",
     "output_type": "stream",
     "text": [
      "\r",
      "\u001b[32mloss: 0.438:  56%|██████████████████████▊                  |  ETA: 0:00:13\u001b[39m"
     ]
    },
    {
     "data": {
      "text/plain": [
       "0.4378999f0"
      ]
     },
     "metadata": {},
     "output_type": "display_data"
    },
    {
     "data": {
      "text/plain": [
       "0.43792197f0"
      ]
     },
     "metadata": {},
     "output_type": "display_data"
    },
    {
     "name": "stderr",
     "output_type": "stream",
     "text": [
      "\r",
      "\u001b[32mloss: 0.438:  56%|███████████████████████▏                 |  ETA: 0:00:13\u001b[39m"
     ]
    },
    {
     "data": {
      "text/plain": [
       "0.43800738f0"
      ]
     },
     "metadata": {},
     "output_type": "display_data"
    },
    {
     "data": {
      "text/plain": [
       "0.43810406f0"
      ]
     },
     "metadata": {},
     "output_type": "display_data"
    },
    {
     "name": "stderr",
     "output_type": "stream",
     "text": [
      "\r",
      "\u001b[32mloss: 0.438:  58%|███████████████████████▋                 |  ETA: 0:00:12\u001b[39m"
     ]
    },
    {
     "data": {
      "text/plain": [
       "0.43816817f0"
      ]
     },
     "metadata": {},
     "output_type": "display_data"
    },
    {
     "data": {
      "text/plain": [
       "0.43818277f0"
      ]
     },
     "metadata": {},
     "output_type": "display_data"
    },
    {
     "name": "stderr",
     "output_type": "stream",
     "text": [
      "\r",
      "\u001b[32mloss: 0.438:  58%|████████████████████████                 |  ETA: 0:00:12\u001b[39m"
     ]
    },
    {
     "data": {
      "text/plain": [
       "0.43814987f0"
      ]
     },
     "metadata": {},
     "output_type": "display_data"
    },
    {
     "data": {
      "text/plain": [
       "0.4380834f0"
      ]
     },
     "metadata": {},
     "output_type": "display_data"
    },
    {
     "name": "stderr",
     "output_type": "stream",
     "text": [
      "\r",
      "\u001b[32mloss: 0.438:  60%|████████████████████████▍                |  ETA: 0:00:12\u001b[39m"
     ]
    },
    {
     "data": {
      "text/plain": [
       "0.4379992f0"
      ]
     },
     "metadata": {},
     "output_type": "display_data"
    },
    {
     "data": {
      "text/plain": [
       "0.4379163f0"
      ]
     },
     "metadata": {},
     "output_type": "display_data"
    },
    {
     "name": "stderr",
     "output_type": "stream",
     "text": [
      "\r",
      "\u001b[32mloss: 0.438:  60%|████████████████████████▊                |  ETA: 0:00:11\u001b[39m"
     ]
    },
    {
     "data": {
      "text/plain": [
       "0.4378508f0"
      ]
     },
     "metadata": {},
     "output_type": "display_data"
    },
    {
     "data": {
      "text/plain": [
       "0.4378113f0"
      ]
     },
     "metadata": {},
     "output_type": "display_data"
    },
    {
     "name": "stderr",
     "output_type": "stream",
     "text": [
      "\r",
      "\u001b[32mloss: 0.438:  62%|█████████████████████████▎               |  ETA: 0:00:11\u001b[39m"
     ]
    },
    {
     "data": {
      "text/plain": [
       "0.43780142f0"
      ]
     },
     "metadata": {},
     "output_type": "display_data"
    },
    {
     "data": {
      "text/plain": [
       "0.4378152f0"
      ]
     },
     "metadata": {},
     "output_type": "display_data"
    },
    {
     "name": "stderr",
     "output_type": "stream",
     "text": [
      "\r",
      "\u001b[32mloss: 0.438:  62%|█████████████████████████▋               |  ETA: 0:00:11\u001b[39m"
     ]
    },
    {
     "data": {
      "text/plain": [
       "0.43784493f0"
      ]
     },
     "metadata": {},
     "output_type": "display_data"
    },
    {
     "data": {
      "text/plain": [
       "0.43787438f0"
      ]
     },
     "metadata": {},
     "output_type": "display_data"
    },
    {
     "name": "stderr",
     "output_type": "stream",
     "text": [
      "\r",
      "\u001b[32mloss: 0.438:  64%|██████████████████████████               |  ETA: 0:00:10\u001b[39m"
     ]
    },
    {
     "data": {
      "text/plain": [
       "0.43789175f0"
      ]
     },
     "metadata": {},
     "output_type": "display_data"
    },
    {
     "data": {
      "text/plain": [
       "0.43789047f0"
      ]
     },
     "metadata": {},
     "output_type": "display_data"
    },
    {
     "name": "stderr",
     "output_type": "stream",
     "text": [
      "\r",
      "\u001b[32mloss: 0.438:  64%|██████████████████████████▌              |  ETA: 0:00:10\u001b[39m"
     ]
    },
    {
     "data": {
      "text/plain": [
       "0.4378701f0"
      ]
     },
     "metadata": {},
     "output_type": "display_data"
    },
    {
     "data": {
      "text/plain": [
       "0.43784037f0"
      ]
     },
     "metadata": {},
     "output_type": "display_data"
    },
    {
     "name": "stderr",
     "output_type": "stream",
     "text": [
      "\r",
      "\u001b[32mloss: 0.438:  66%|██████████████████████████▉              |  ETA: 0:00:10\u001b[39m"
     ]
    },
    {
     "data": {
      "text/plain": [
       "0.43781087f0"
      ]
     },
     "metadata": {},
     "output_type": "display_data"
    },
    {
     "data": {
      "text/plain": [
       "0.43778786f0"
      ]
     },
     "metadata": {},
     "output_type": "display_data"
    },
    {
     "name": "stderr",
     "output_type": "stream",
     "text": [
      "\r",
      "\u001b[32mloss: 0.438:  66%|███████████████████████████▎             |  ETA: 0:00:09\u001b[39m"
     ]
    },
    {
     "data": {
      "text/plain": [
       "0.43777505f0"
      ]
     },
     "metadata": {},
     "output_type": "display_data"
    },
    {
     "data": {
      "text/plain": [
       "0.43777362f0"
      ]
     },
     "metadata": {},
     "output_type": "display_data"
    },
    {
     "name": "stderr",
     "output_type": "stream",
     "text": [
      "\r",
      "\u001b[32mloss: 0.438:  68%|███████████████████████████▋             |  ETA: 0:00:09\u001b[39m"
     ]
    },
    {
     "data": {
      "text/plain": [
       "0.43777853f0"
      ]
     },
     "metadata": {},
     "output_type": "display_data"
    },
    {
     "data": {
      "text/plain": [
       "0.4377859f0"
      ]
     },
     "metadata": {},
     "output_type": "display_data"
    },
    {
     "name": "stderr",
     "output_type": "stream",
     "text": [
      "\r",
      "\u001b[32mloss: 0.438:  68%|████████████████████████████▏            |  ETA: 0:00:09\u001b[39m"
     ]
    },
    {
     "data": {
      "text/plain": [
       "0.43779388f0"
      ]
     },
     "metadata": {},
     "output_type": "display_data"
    },
    {
     "data": {
      "text/plain": [
       "0.4377973f0"
      ]
     },
     "metadata": {},
     "output_type": "display_data"
    },
    {
     "name": "stderr",
     "output_type": "stream",
     "text": [
      "\r",
      "\u001b[32mloss: 0.438:  70%|████████████████████████████▌            |  ETA: 0:00:08\u001b[39m"
     ]
    },
    {
     "data": {
      "text/plain": [
       "0.43779647f0"
      ]
     },
     "metadata": {},
     "output_type": "display_data"
    },
    {
     "data": {
      "text/plain": [
       "0.4377921f0"
      ]
     },
     "metadata": {},
     "output_type": "display_data"
    },
    {
     "name": "stderr",
     "output_type": "stream",
     "text": [
      "\r",
      "\u001b[32mloss: 0.438:  70%|████████████████████████████▉            |  ETA: 0:00:08\u001b[39m"
     ]
    },
    {
     "data": {
      "text/plain": [
       "0.4377838f0"
      ]
     },
     "metadata": {},
     "output_type": "display_data"
    },
    {
     "data": {
      "text/plain": [
       "0.4377762f0"
      ]
     },
     "metadata": {},
     "output_type": "display_data"
    },
    {
     "name": "stderr",
     "output_type": "stream",
     "text": [
      "\r",
      "\u001b[32mloss: 0.438:  72%|█████████████████████████████▍           |  ETA: 0:00:08\u001b[39m"
     ]
    },
    {
     "data": {
      "text/plain": [
       "0.43776894f0"
      ]
     },
     "metadata": {},
     "output_type": "display_data"
    },
    {
     "name": "stderr",
     "output_type": "stream",
     "text": [
      "\r",
      "\u001b[32mloss: 0.438:  72%|█████████████████████████████▌           |  ETA: 0:00:08\u001b[39m"
     ]
    },
    {
     "data": {
      "text/plain": [
       "0.4377654f0"
      ]
     },
     "metadata": {},
     "output_type": "display_data"
    },
    {
     "data": {
      "text/plain": [
       "0.4377641f0"
      ]
     },
     "metadata": {},
     "output_type": "display_data"
    },
    {
     "name": "stderr",
     "output_type": "stream",
     "text": [
      "\r",
      "\u001b[32mloss: 0.438:  73%|█████████████████████████████▉           |  ETA: 0:00:07\u001b[39m"
     ]
    },
    {
     "data": {
      "text/plain": [
       "0.43776405f0"
      ]
     },
     "metadata": {},
     "output_type": "display_data"
    },
    {
     "data": {
      "text/plain": [
       "0.4377658f0"
      ]
     },
     "metadata": {},
     "output_type": "display_data"
    },
    {
     "name": "stderr",
     "output_type": "stream",
     "text": [
      "\r",
      "\u001b[32mloss: 0.438:  74%|██████████████████████████████▍          |  ETA: 0:00:07\u001b[39m"
     ]
    },
    {
     "data": {
      "text/plain": [
       "0.43776837f0"
      ]
     },
     "metadata": {},
     "output_type": "display_data"
    },
    {
     "data": {
      "text/plain": [
       "0.43776914f0"
      ]
     },
     "metadata": {},
     "output_type": "display_data"
    },
    {
     "name": "stderr",
     "output_type": "stream",
     "text": [
      "\r",
      "\u001b[32mloss: 0.438:  75%|██████████████████████████████▊          |  ETA: 0:00:07\u001b[39m"
     ]
    },
    {
     "data": {
      "text/plain": [
       "0.4377699f0"
      ]
     },
     "metadata": {},
     "output_type": "display_data"
    },
    {
     "data": {
      "text/plain": [
       "0.43776828f0"
      ]
     },
     "metadata": {},
     "output_type": "display_data"
    },
    {
     "name": "stderr",
     "output_type": "stream",
     "text": [
      "\r",
      "\u001b[32mloss: 0.438:  76%|███████████████████████████████▏         |  ETA: 0:00:06\u001b[39m"
     ]
    },
    {
     "data": {
      "text/plain": [
       "0.43776605f0"
      ]
     },
     "metadata": {},
     "output_type": "display_data"
    },
    {
     "data": {
      "text/plain": [
       "0.4377635f0"
      ]
     },
     "metadata": {},
     "output_type": "display_data"
    },
    {
     "name": "stderr",
     "output_type": "stream",
     "text": [
      "\r",
      "\u001b[32mloss: 0.438:  77%|███████████████████████████████▋         |  ETA: 0:00:06\u001b[39m"
     ]
    },
    {
     "data": {
      "text/plain": [
       "0.43776193f0"
      ]
     },
     "metadata": {},
     "output_type": "display_data"
    },
    {
     "data": {
      "text/plain": [
       "0.4377604f0"
      ]
     },
     "metadata": {},
     "output_type": "display_data"
    },
    {
     "name": "stderr",
     "output_type": "stream",
     "text": [
      "\r",
      "\u001b[32mloss: 0.438:  78%|████████████████████████████████         |  ETA: 0:00:06\u001b[39m"
     ]
    },
    {
     "data": {
      "text/plain": [
       "0.43775913f0"
      ]
     },
     "metadata": {},
     "output_type": "display_data"
    },
    {
     "data": {
      "text/plain": [
       "0.43775928f0"
      ]
     },
     "metadata": {},
     "output_type": "display_data"
    },
    {
     "name": "stderr",
     "output_type": "stream",
     "text": [
      "\r",
      "\u001b[32mloss: 0.438:  79%|████████████████████████████████▍        |  ETA: 0:00:06\u001b[39m"
     ]
    },
    {
     "data": {
      "text/plain": [
       "0.4377605f0"
      ]
     },
     "metadata": {},
     "output_type": "display_data"
    },
    {
     "data": {
      "text/plain": [
       "0.4377612f0"
      ]
     },
     "metadata": {},
     "output_type": "display_data"
    },
    {
     "name": "stderr",
     "output_type": "stream",
     "text": [
      "\r",
      "\u001b[32mloss: 0.438:  80%|████████████████████████████████▊        |  ETA: 0:00:05\u001b[39m"
     ]
    },
    {
     "data": {
      "text/plain": [
       "0.43776175f0"
      ]
     },
     "metadata": {},
     "output_type": "display_data"
    },
    {
     "data": {
      "text/plain": [
       "0.43776128f0"
      ]
     },
     "metadata": {},
     "output_type": "display_data"
    },
    {
     "name": "stderr",
     "output_type": "stream",
     "text": [
      "\r",
      "\u001b[32mloss: 0.438:  81%|█████████████████████████████████▎       |  ETA: 0:00:05\u001b[39m"
     ]
    },
    {
     "data": {
      "text/plain": [
       "0.43776143f0"
      ]
     },
     "metadata": {},
     "output_type": "display_data"
    },
    {
     "data": {
      "text/plain": [
       "0.43776014f0"
      ]
     },
     "metadata": {},
     "output_type": "display_data"
    },
    {
     "name": "stderr",
     "output_type": "stream",
     "text": [
      "\r",
      "\u001b[32mloss: 0.438:  82%|█████████████████████████████████▋       |  ETA: 0:00:05\u001b[39m"
     ]
    },
    {
     "data": {
      "text/plain": [
       "0.43775922f0"
      ]
     },
     "metadata": {},
     "output_type": "display_data"
    },
    {
     "data": {
      "text/plain": [
       "0.43775845f0"
      ]
     },
     "metadata": {},
     "output_type": "display_data"
    },
    {
     "name": "stderr",
     "output_type": "stream",
     "text": [
      "\r",
      "\u001b[32mloss: 0.438:  83%|██████████████████████████████████       |  ETA: 0:00:04\u001b[39m"
     ]
    },
    {
     "data": {
      "text/plain": [
       "0.4377579f0"
      ]
     },
     "metadata": {},
     "output_type": "display_data"
    },
    {
     "data": {
      "text/plain": [
       "0.43775773f0"
      ]
     },
     "metadata": {},
     "output_type": "display_data"
    },
    {
     "name": "stderr",
     "output_type": "stream",
     "text": [
      "\r",
      "\u001b[32mloss: 0.438:  84%|██████████████████████████████████▌      |  ETA: 0:00:04\u001b[39m"
     ]
    },
    {
     "data": {
      "text/plain": [
       "0.4377579f0"
      ]
     },
     "metadata": {},
     "output_type": "display_data"
    },
    {
     "data": {
      "text/plain": [
       "0.43775812f0"
      ]
     },
     "metadata": {},
     "output_type": "display_data"
    },
    {
     "name": "stderr",
     "output_type": "stream",
     "text": [
      "\r",
      "\u001b[32mloss: 0.438:  85%|██████████████████████████████████▉      |  ETA: 0:00:04\u001b[39m"
     ]
    },
    {
     "data": {
      "text/plain": [
       "0.4377585f0"
      ]
     },
     "metadata": {},
     "output_type": "display_data"
    },
    {
     "data": {
      "text/plain": [
       "0.43775937f0"
      ]
     },
     "metadata": {},
     "output_type": "display_data"
    },
    {
     "name": "stderr",
     "output_type": "stream",
     "text": [
      "\r",
      "\u001b[32mloss: 0.438:  86%|███████████████████████████████████▎     |  ETA: 0:00:04\u001b[39m"
     ]
    },
    {
     "data": {
      "text/plain": [
       "0.4377587f0"
      ]
     },
     "metadata": {},
     "output_type": "display_data"
    },
    {
     "data": {
      "text/plain": [
       "0.43775904f0"
      ]
     },
     "metadata": {},
     "output_type": "display_data"
    },
    {
     "name": "stderr",
     "output_type": "stream",
     "text": [
      "\r",
      "\u001b[32mloss: 0.438:  87%|███████████████████████████████████▋     |  ETA: 0:00:03\u001b[39m"
     ]
    },
    {
     "data": {
      "text/plain": [
       "0.43775806f0"
      ]
     },
     "metadata": {},
     "output_type": "display_data"
    },
    {
     "data": {
      "text/plain": [
       "0.43775767f0"
      ]
     },
     "metadata": {},
     "output_type": "display_data"
    },
    {
     "name": "stderr",
     "output_type": "stream",
     "text": [
      "\r",
      "\u001b[32mloss: 0.438:  88%|████████████████████████████████████▏    |  ETA: 0:00:03\u001b[39m"
     ]
    },
    {
     "data": {
      "text/plain": [
       "0.43775743f0"
      ]
     },
     "metadata": {},
     "output_type": "display_data"
    },
    {
     "data": {
      "text/plain": [
       "0.437758f0"
      ]
     },
     "metadata": {},
     "output_type": "display_data"
    },
    {
     "name": "stderr",
     "output_type": "stream",
     "text": [
      "\r",
      "\u001b[32mloss: 0.438:  89%|████████████████████████████████████▌    |  ETA: 0:00:03\u001b[39m"
     ]
    },
    {
     "data": {
      "text/plain": [
       "0.43775746f0"
      ]
     },
     "metadata": {},
     "output_type": "display_data"
    },
    {
     "data": {
      "text/plain": [
       "0.4377582f0"
      ]
     },
     "metadata": {},
     "output_type": "display_data"
    },
    {
     "name": "stderr",
     "output_type": "stream",
     "text": [
      "\r",
      "\u001b[32mloss: 0.438:  90%|████████████████████████████████████▉    |  ETA: 0:00:03\u001b[39m"
     ]
    },
    {
     "data": {
      "text/plain": [
       "0.43775773f0"
      ]
     },
     "metadata": {},
     "output_type": "display_data"
    },
    {
     "name": "stderr",
     "output_type": "stream",
     "text": [
      "\r",
      "\u001b[32mloss: 0.438:  90%|█████████████████████████████████████▏   |  ETA: 0:00:02\u001b[39m"
     ]
    },
    {
     "data": {
      "text/plain": [
       "0.43775773f0"
      ]
     },
     "metadata": {},
     "output_type": "display_data"
    },
    {
     "data": {
      "text/plain": [
       "0.43775773f0"
      ]
     },
     "metadata": {},
     "output_type": "display_data"
    },
    {
     "name": "stderr",
     "output_type": "stream",
     "text": [
      "\r",
      "\u001b[32mloss: 0.438:  92%|█████████████████████████████████████▌   |  ETA: 0:00:02\u001b[39m"
     ]
    },
    {
     "data": {
      "text/plain": [
       "0.43775764f0"
      ]
     },
     "metadata": {},
     "output_type": "display_data"
    },
    {
     "data": {
      "text/plain": [
       "0.43775755f0"
      ]
     },
     "metadata": {},
     "output_type": "display_data"
    },
    {
     "name": "stderr",
     "output_type": "stream",
     "text": [
      "\r",
      "\u001b[32mloss: 0.438:  92%|█████████████████████████████████████▉   |  ETA: 0:00:02\u001b[39m"
     ]
    },
    {
     "data": {
      "text/plain": [
       "0.437758f0"
      ]
     },
     "metadata": {},
     "output_type": "display_data"
    },
    {
     "data": {
      "text/plain": [
       "0.4377574f0"
      ]
     },
     "metadata": {},
     "output_type": "display_data"
    },
    {
     "name": "stderr",
     "output_type": "stream",
     "text": [
      "\r",
      "\u001b[32mloss: 0.438:  94%|██████████████████████████████████████▍  |  ETA: 0:00:02\u001b[39m"
     ]
    },
    {
     "data": {
      "text/plain": [
       "0.43775797f0"
      ]
     },
     "metadata": {},
     "output_type": "display_data"
    },
    {
     "data": {
      "text/plain": [
       "0.4377579f0"
      ]
     },
     "metadata": {},
     "output_type": "display_data"
    },
    {
     "name": "stderr",
     "output_type": "stream",
     "text": [
      "\r",
      "\u001b[32mloss: 0.438:  94%|██████████████████████████████████████▊  |  ETA: 0:00:01\u001b[39m"
     ]
    },
    {
     "data": {
      "text/plain": [
       "0.43775797f0"
      ]
     },
     "metadata": {},
     "output_type": "display_data"
    },
    {
     "data": {
      "text/plain": [
       "0.43775743f0"
      ]
     },
     "metadata": {},
     "output_type": "display_data"
    },
    {
     "name": "stderr",
     "output_type": "stream",
     "text": [
      "\r",
      "\u001b[32mloss: 0.438:  96%|███████████████████████████████████████▏ |  ETA: 0:00:01\u001b[39m"
     ]
    },
    {
     "data": {
      "text/plain": [
       "0.43775743f0"
      ]
     },
     "metadata": {},
     "output_type": "display_data"
    },
    {
     "data": {
      "text/plain": [
       "0.43775746f0"
      ]
     },
     "metadata": {},
     "output_type": "display_data"
    },
    {
     "name": "stderr",
     "output_type": "stream",
     "text": [
      "\r",
      "\u001b[32mloss: 0.438:  96%|███████████████████████████████████████▋ |  ETA: 0:00:01\u001b[39m"
     ]
    },
    {
     "data": {
      "text/plain": [
       "0.43775803f0"
      ]
     },
     "metadata": {},
     "output_type": "display_data"
    },
    {
     "name": "stderr",
     "output_type": "stream",
     "text": [
      "\r",
      "\u001b[32mloss: 0.438:  97%|███████████████████████████████████████▊ |  ETA: 0:00:01\u001b[39m"
     ]
    },
    {
     "data": {
      "text/plain": [
       "0.4377574f0"
      ]
     },
     "metadata": {},
     "output_type": "display_data"
    },
    {
     "data": {
      "text/plain": [
       "0.43775734f0"
      ]
     },
     "metadata": {},
     "output_type": "display_data"
    },
    {
     "name": "stderr",
     "output_type": "stream",
     "text": [
      "\r",
      "\u001b[32mloss: 0.438:  98%|████████████████████████████████████████▏|  ETA: 0:00:00\u001b[39m"
     ]
    },
    {
     "data": {
      "text/plain": [
       "0.4377573f0"
      ]
     },
     "metadata": {},
     "output_type": "display_data"
    },
    {
     "data": {
      "text/plain": [
       "0.4377578f0"
      ]
     },
     "metadata": {},
     "output_type": "display_data"
    },
    {
     "name": "stderr",
     "output_type": "stream",
     "text": [
      "\r",
      "\u001b[32mloss: 0.438:  99%|████████████████████████████████████████▋|  ETA: 0:00:00\u001b[39m"
     ]
    },
    {
     "data": {
      "text/plain": [
       "0.43775794f0"
      ]
     },
     "metadata": {},
     "output_type": "display_data"
    },
    {
     "data": {
      "text/plain": [
       "0.43775797f0"
      ]
     },
     "metadata": {},
     "output_type": "display_data"
    },
    {
     "name": "stderr",
     "output_type": "stream",
     "text": [
      "\r",
      "\u001b[32mloss: 0.438: 100%|█████████████████████████████████████████| Time: 0:00:24\u001b[39m\n"
     ]
    },
    {
     "data": {
      "text/plain": [
       "0.4377573f0"
      ]
     },
     "metadata": {},
     "output_type": "display_data"
    },
    {
     "data": {
      "text/plain": [
       " * Status: failure (reached maximum number of iterations)\n",
       "\n",
       " * Candidate solution\n",
       "    Minimizer: [-9.76e-02, -1.39e-02, 9.88e-02,  ...]\n",
       "    Minimum:   4.377580e-01\n",
       "\n",
       " * Found with\n",
       "    Algorithm:     ADAM\n",
       "    Initial Point: [-9.17e-02, -6.27e-03, 9.69e-02,  ...]\n",
       "\n",
       " * Convergence measures\n",
       "    |x - x'|               = NaN ≰ 0.0e+00\n",
       "    |x - x'|/|x'|          = NaN ≰ 0.0e+00\n",
       "    |f(x) - f(x')|         = NaN ≰ 0.0e+00\n",
       "    |f(x) - f(x')|/|f(x')| = NaN ≰ 0.0e+00\n",
       "    |g(x)|                 = NaN ≰ 0.0e+00\n",
       "\n",
       " * Work counters\n",
       "    Seconds run:   25  (vs limit Inf)\n",
       "    Iterations:    200\n",
       "    f(x) calls:    200\n",
       "    ∇f(x) calls:   200\n"
      ]
     },
     "execution_count": 34,
     "metadata": {},
     "output_type": "execute_result"
    }
   ],
   "source": [
    "res = DiffEqFlux.sciml_train(loss_n_ode, n_ode.p, ADAM(), cb=cb, maxiters=200)"
   ]
  },
  {
   "cell_type": "code",
   "execution_count": 35,
   "metadata": {},
   "outputs": [
    {
     "data": {
      "text/plain": [
       "0.43775803f0"
      ]
     },
     "metadata": {},
     "output_type": "display_data"
    },
    {
     "data": {
      "image/svg+xml": [
       "<?xml version=\"1.0\" encoding=\"utf-8\"?>\n",
       "<svg xmlns=\"http://www.w3.org/2000/svg\" xmlns:xlink=\"http://www.w3.org/1999/xlink\" width=\"600\" height=\"400\" viewBox=\"0 0 2400 1600\">\n",
       "<defs>\n",
       "  <clipPath id=\"clip7900\">\n",
       "    <rect x=\"0\" y=\"0\" width=\"2400\" height=\"1600\"/>\n",
       "  </clipPath>\n",
       "</defs>\n",
       "<path clip-path=\"url(#clip7900)\" d=\"\n",
       "M0 1600 L2400 1600 L2400 0 L0 0  Z\n",
       "  \" fill=\"#ffffff\" fill-rule=\"evenodd\" fill-opacity=\"1\"/>\n",
       "<defs>\n",
       "  <clipPath id=\"clip7901\">\n",
       "    <rect x=\"480\" y=\"0\" width=\"1681\" height=\"1600\"/>\n",
       "  </clipPath>\n",
       "</defs>\n",
       "<path clip-path=\"url(#clip7900)\" d=\"\n",
       "M153.898 1487.47 L2352.76 1487.47 L2352.76 47.2441 L153.898 47.2441  Z\n",
       "  \" fill=\"#ffffff\" fill-rule=\"evenodd\" fill-opacity=\"1\"/>\n",
       "<defs>\n",
       "  <clipPath id=\"clip7902\">\n",
       "    <rect x=\"153\" y=\"47\" width=\"2200\" height=\"1441\"/>\n",
       "  </clipPath>\n",
       "</defs>\n",
       "<polyline clip-path=\"url(#clip7902)\" style=\"stroke:#000000; stroke-width:1.6; stroke-opacity:0.1; fill:none\" points=\"\n",
       "  216.13,1487.47 216.13,47.2441 \n",
       "  \"/>\n",
       "<polyline clip-path=\"url(#clip7902)\" style=\"stroke:#000000; stroke-width:1.6; stroke-opacity:0.1; fill:none\" points=\"\n",
       "  734.728,1487.47 734.728,47.2441 \n",
       "  \"/>\n",
       "<polyline clip-path=\"url(#clip7902)\" style=\"stroke:#000000; stroke-width:1.6; stroke-opacity:0.1; fill:none\" points=\"\n",
       "  1253.33,1487.47 1253.33,47.2441 \n",
       "  \"/>\n",
       "<polyline clip-path=\"url(#clip7902)\" style=\"stroke:#000000; stroke-width:1.6; stroke-opacity:0.1; fill:none\" points=\"\n",
       "  1771.93,1487.47 1771.93,47.2441 \n",
       "  \"/>\n",
       "<polyline clip-path=\"url(#clip7902)\" style=\"stroke:#000000; stroke-width:1.6; stroke-opacity:0.1; fill:none\" points=\"\n",
       "  2290.52,1487.47 2290.52,47.2441 \n",
       "  \"/>\n",
       "<polyline clip-path=\"url(#clip7902)\" style=\"stroke:#000000; stroke-width:1.6; stroke-opacity:0.1; fill:none\" points=\"\n",
       "  153.898,1446.71 2352.76,1446.71 \n",
       "  \"/>\n",
       "<polyline clip-path=\"url(#clip7902)\" style=\"stroke:#000000; stroke-width:1.6; stroke-opacity:0.1; fill:none\" points=\"\n",
       "  153.898,1198.09 2352.76,1198.09 \n",
       "  \"/>\n",
       "<polyline clip-path=\"url(#clip7902)\" style=\"stroke:#000000; stroke-width:1.6; stroke-opacity:0.1; fill:none\" points=\"\n",
       "  153.898,949.462 2352.76,949.462 \n",
       "  \"/>\n",
       "<polyline clip-path=\"url(#clip7902)\" style=\"stroke:#000000; stroke-width:1.6; stroke-opacity:0.1; fill:none\" points=\"\n",
       "  153.898,700.836 2352.76,700.836 \n",
       "  \"/>\n",
       "<polyline clip-path=\"url(#clip7902)\" style=\"stroke:#000000; stroke-width:1.6; stroke-opacity:0.1; fill:none\" points=\"\n",
       "  153.898,452.21 2352.76,452.21 \n",
       "  \"/>\n",
       "<polyline clip-path=\"url(#clip7902)\" style=\"stroke:#000000; stroke-width:1.6; stroke-opacity:0.1; fill:none\" points=\"\n",
       "  153.898,203.584 2352.76,203.584 \n",
       "  \"/>\n",
       "<polyline clip-path=\"url(#clip7900)\" style=\"stroke:#000000; stroke-width:3.2; stroke-opacity:1; fill:none\" points=\"\n",
       "  153.898,1487.47 2352.76,1487.47 \n",
       "  \"/>\n",
       "<polyline clip-path=\"url(#clip7900)\" style=\"stroke:#000000; stroke-width:3.2; stroke-opacity:1; fill:none\" points=\"\n",
       "  153.898,1487.47 153.898,47.2441 \n",
       "  \"/>\n",
       "<polyline clip-path=\"url(#clip7900)\" style=\"stroke:#000000; stroke-width:3.2; stroke-opacity:1; fill:none\" points=\"\n",
       "  216.13,1487.47 216.13,1465.87 \n",
       "  \"/>\n",
       "<polyline clip-path=\"url(#clip7900)\" style=\"stroke:#000000; stroke-width:3.2; stroke-opacity:1; fill:none\" points=\"\n",
       "  734.728,1487.47 734.728,1465.87 \n",
       "  \"/>\n",
       "<polyline clip-path=\"url(#clip7900)\" style=\"stroke:#000000; stroke-width:3.2; stroke-opacity:1; fill:none\" points=\"\n",
       "  1253.33,1487.47 1253.33,1465.87 \n",
       "  \"/>\n",
       "<polyline clip-path=\"url(#clip7900)\" style=\"stroke:#000000; stroke-width:3.2; stroke-opacity:1; fill:none\" points=\"\n",
       "  1771.93,1487.47 1771.93,1465.87 \n",
       "  \"/>\n",
       "<polyline clip-path=\"url(#clip7900)\" style=\"stroke:#000000; stroke-width:3.2; stroke-opacity:1; fill:none\" points=\"\n",
       "  2290.52,1487.47 2290.52,1465.87 \n",
       "  \"/>\n",
       "<polyline clip-path=\"url(#clip7900)\" style=\"stroke:#000000; stroke-width:3.2; stroke-opacity:1; fill:none\" points=\"\n",
       "  153.898,1446.71 186.881,1446.71 \n",
       "  \"/>\n",
       "<polyline clip-path=\"url(#clip7900)\" style=\"stroke:#000000; stroke-width:3.2; stroke-opacity:1; fill:none\" points=\"\n",
       "  153.898,1198.09 186.881,1198.09 \n",
       "  \"/>\n",
       "<polyline clip-path=\"url(#clip7900)\" style=\"stroke:#000000; stroke-width:3.2; stroke-opacity:1; fill:none\" points=\"\n",
       "  153.898,949.462 186.881,949.462 \n",
       "  \"/>\n",
       "<polyline clip-path=\"url(#clip7900)\" style=\"stroke:#000000; stroke-width:3.2; stroke-opacity:1; fill:none\" points=\"\n",
       "  153.898,700.836 186.881,700.836 \n",
       "  \"/>\n",
       "<polyline clip-path=\"url(#clip7900)\" style=\"stroke:#000000; stroke-width:3.2; stroke-opacity:1; fill:none\" points=\"\n",
       "  153.898,452.21 186.881,452.21 \n",
       "  \"/>\n",
       "<polyline clip-path=\"url(#clip7900)\" style=\"stroke:#000000; stroke-width:3.2; stroke-opacity:1; fill:none\" points=\"\n",
       "  153.898,203.584 186.881,203.584 \n",
       "  \"/>\n",
       "<g clip-path=\"url(#clip7900)\">\n",
       "<text style=\"fill:#000000; fill-opacity:1; font-family:Arial,Helvetica Neue,Helvetica,sans-serif; font-size:48px; text-anchor:middle;\" transform=\"rotate(0, 216.13, 1541.47)\" x=\"216.13\" y=\"1541.47\">0.0</text>\n",
       "</g>\n",
       "<g clip-path=\"url(#clip7900)\">\n",
       "<text style=\"fill:#000000; fill-opacity:1; font-family:Arial,Helvetica Neue,Helvetica,sans-serif; font-size:48px; text-anchor:middle;\" transform=\"rotate(0, 734.728, 1541.47)\" x=\"734.728\" y=\"1541.47\">2.5</text>\n",
       "</g>\n",
       "<g clip-path=\"url(#clip7900)\">\n",
       "<text style=\"fill:#000000; fill-opacity:1; font-family:Arial,Helvetica Neue,Helvetica,sans-serif; font-size:48px; text-anchor:middle;\" transform=\"rotate(0, 1253.33, 1541.47)\" x=\"1253.33\" y=\"1541.47\">5.0</text>\n",
       "</g>\n",
       "<g clip-path=\"url(#clip7900)\">\n",
       "<text style=\"fill:#000000; fill-opacity:1; font-family:Arial,Helvetica Neue,Helvetica,sans-serif; font-size:48px; text-anchor:middle;\" transform=\"rotate(0, 1771.93, 1541.47)\" x=\"1771.93\" y=\"1541.47\">7.5</text>\n",
       "</g>\n",
       "<g clip-path=\"url(#clip7900)\">\n",
       "<text style=\"fill:#000000; fill-opacity:1; font-family:Arial,Helvetica Neue,Helvetica,sans-serif; font-size:48px; text-anchor:middle;\" transform=\"rotate(0, 2290.52, 1541.47)\" x=\"2290.52\" y=\"1541.47\">10.0</text>\n",
       "</g>\n",
       "<g clip-path=\"url(#clip7900)\">\n",
       "<text style=\"fill:#000000; fill-opacity:1; font-family:Arial,Helvetica Neue,Helvetica,sans-serif; font-size:48px; text-anchor:end;\" transform=\"rotate(0, 129.898, 1464.21)\" x=\"129.898\" y=\"1464.21\">0.0</text>\n",
       "</g>\n",
       "<g clip-path=\"url(#clip7900)\">\n",
       "<text style=\"fill:#000000; fill-opacity:1; font-family:Arial,Helvetica Neue,Helvetica,sans-serif; font-size:48px; text-anchor:end;\" transform=\"rotate(0, 129.898, 1215.59)\" x=\"129.898\" y=\"1215.59\">0.1</text>\n",
       "</g>\n",
       "<g clip-path=\"url(#clip7900)\">\n",
       "<text style=\"fill:#000000; fill-opacity:1; font-family:Arial,Helvetica Neue,Helvetica,sans-serif; font-size:48px; text-anchor:end;\" transform=\"rotate(0, 129.898, 966.962)\" x=\"129.898\" y=\"966.962\">0.2</text>\n",
       "</g>\n",
       "<g clip-path=\"url(#clip7900)\">\n",
       "<text style=\"fill:#000000; fill-opacity:1; font-family:Arial,Helvetica Neue,Helvetica,sans-serif; font-size:48px; text-anchor:end;\" transform=\"rotate(0, 129.898, 718.336)\" x=\"129.898\" y=\"718.336\">0.3</text>\n",
       "</g>\n",
       "<g clip-path=\"url(#clip7900)\">\n",
       "<text style=\"fill:#000000; fill-opacity:1; font-family:Arial,Helvetica Neue,Helvetica,sans-serif; font-size:48px; text-anchor:end;\" transform=\"rotate(0, 129.898, 469.71)\" x=\"129.898\" y=\"469.71\">0.4</text>\n",
       "</g>\n",
       "<g clip-path=\"url(#clip7900)\">\n",
       "<text style=\"fill:#000000; fill-opacity:1; font-family:Arial,Helvetica Neue,Helvetica,sans-serif; font-size:48px; text-anchor:end;\" transform=\"rotate(0, 129.898, 221.084)\" x=\"129.898\" y=\"221.084\">0.5</text>\n",
       "</g>\n",
       "<polyline clip-path=\"url(#clip7902)\" style=\"stroke:#009af9; stroke-width:6.4; stroke-opacity:1; fill:none\" points=\"\n",
       "  216.13,1446.71 1253.33,319.539 2290.52,311.95 \n",
       "  \"/>\n",
       "<circle clip-path=\"url(#clip7902)\" cx=\"216.13\" cy=\"1446.71\" r=\"14\" fill=\"#000000\" fill-rule=\"evenodd\" fill-opacity=\"1\" stroke=\"#ffffff\" stroke-opacity=\"1\" stroke-width=\"3.2\"/>\n",
       "<circle clip-path=\"url(#clip7902)\" cx=\"216.13\" cy=\"1446.71\" r=\"11\" fill=\"#e26f46\" fill-rule=\"evenodd\" fill-opacity=\"1\" stroke=\"#ffffff\" stroke-opacity=\"1\" stroke-width=\"3.2\"/>\n",
       "<circle clip-path=\"url(#clip7902)\" cx=\"1253.33\" cy=\"767.359\" r=\"14\" fill=\"#000000\" fill-rule=\"evenodd\" fill-opacity=\"1\" stroke=\"#ffffff\" stroke-opacity=\"1\" stroke-width=\"3.2\"/>\n",
       "<circle clip-path=\"url(#clip7902)\" cx=\"1253.33\" cy=\"767.359\" r=\"11\" fill=\"#e26f46\" fill-rule=\"evenodd\" fill-opacity=\"1\" stroke=\"#ffffff\" stroke-opacity=\"1\" stroke-width=\"3.2\"/>\n",
       "<circle clip-path=\"url(#clip7902)\" cx=\"2290.52\" cy=\"88.0053\" r=\"14\" fill=\"#000000\" fill-rule=\"evenodd\" fill-opacity=\"1\" stroke=\"#ffffff\" stroke-opacity=\"1\" stroke-width=\"3.2\"/>\n",
       "<circle clip-path=\"url(#clip7902)\" cx=\"2290.52\" cy=\"88.0053\" r=\"11\" fill=\"#e26f46\" fill-rule=\"evenodd\" fill-opacity=\"1\" stroke=\"#ffffff\" stroke-opacity=\"1\" stroke-width=\"3.2\"/>\n",
       "<path clip-path=\"url(#clip7900)\" d=\"\n",
       "M1832.1 312.204 L2280.76 312.204 L2280.76 130.764 L1832.1 130.764  Z\n",
       "  \" fill=\"#ffffff\" fill-rule=\"evenodd\" fill-opacity=\"1\"/>\n",
       "<polyline clip-path=\"url(#clip7900)\" style=\"stroke:#000000; stroke-width:3.2; stroke-opacity:1; fill:none\" points=\"\n",
       "  1832.1,312.204 2280.76,312.204 2280.76,130.764 1832.1,130.764 1832.1,312.204 \n",
       "  \"/>\n",
       "<polyline clip-path=\"url(#clip7900)\" style=\"stroke:#009af9; stroke-width:6.4; stroke-opacity:1; fill:none\" points=\"\n",
       "  1856.1,191.244 2000.1,191.244 \n",
       "  \"/>\n",
       "<g clip-path=\"url(#clip7900)\">\n",
       "<text style=\"fill:#000000; fill-opacity:1; font-family:Arial,Helvetica Neue,Helvetica,sans-serif; font-size:48px; text-anchor:start;\" transform=\"rotate(0, 2024.1, 208.744)\" x=\"2024.1\" y=\"208.744\">data</text>\n",
       "</g>\n",
       "<circle clip-path=\"url(#clip7900)\" cx=\"1940.1\" cy=\"251.724\" r=\"20\" fill=\"#000000\" fill-rule=\"evenodd\" fill-opacity=\"1\" stroke=\"#ffffff\" stroke-opacity=\"1\" stroke-width=\"3.2\"/>\n",
       "<circle clip-path=\"url(#clip7900)\" cx=\"1940.1\" cy=\"251.724\" r=\"17\" fill=\"#e26f46\" fill-rule=\"evenodd\" fill-opacity=\"1\" stroke=\"#ffffff\" stroke-opacity=\"1\" stroke-width=\"3.2\"/>\n",
       "<g clip-path=\"url(#clip7900)\">\n",
       "<text style=\"fill:#000000; fill-opacity:1; font-family:Arial,Helvetica Neue,Helvetica,sans-serif; font-size:48px; text-anchor:start;\" transform=\"rotate(0, 2024.1, 269.224)\" x=\"2024.1\" y=\"269.224\">prediction</text>\n",
       "</g>\n",
       "</svg>\n"
      ]
     },
     "metadata": {},
     "output_type": "display_data"
    },
    {
     "data": {
      "text/plain": [
       "false"
      ]
     },
     "execution_count": 35,
     "metadata": {},
     "output_type": "execute_result"
    }
   ],
   "source": [
    "cb(res.minimizer,loss_n_ode(res.minimizer)...;doplot=true)"
   ]
  },
  {
   "cell_type": "code",
   "execution_count": 42,
   "metadata": {
    "scrolled": true
   },
   "outputs": [
    {
     "ename": "ReadOnlyMemoryError",
     "evalue": "ReadOnlyMemoryError()",
     "output_type": "error",
     "traceback": [
      "ReadOnlyMemoryError()",
      "",
      "Stacktrace:",
      " [1] copy at ./array.jl:325 [inlined]",
      " [2] #TwiceDifferentiable#29(::Bool, ::Type{TwiceDifferentiable}, ::Function, ::Function, ::Function, ::Function, ::Array{Float32,1}, ::Float32, ::Array{Float32,1}, ::Array{Float32,2}) at /home/tianbai/.julia/packages/NLSolversBase/mGaJg/src/objective_types/twicedifferentiable.jl:25",
      " [3] TwiceDifferentiable at /home/tianbai/.julia/packages/NLSolversBase/mGaJg/src/objective_types/twicedifferentiable.jl:19 [inlined] (repeats 3 times)",
      " [4] #sciml_train#33(::Function, ::Int64, ::DiffEqFlux.ZygoteDiffMode, ::Base.Iterators.Pairs{Union{},Union{},Tuple{},NamedTuple{(),Tuple{}}}, ::typeof(DiffEqFlux.sciml_train), ::Function, ::Array{Float32,1}, ::LBFGS{Nothing,LineSearches.InitialStatic{Float64},LineSearches.HagerZhang{Float64,Base.RefValue{Bool}},Optim.var\"#19#21\"}, ::Base.Iterators.Cycle{Tuple{DiffEqFlux.NullData}}) at /home/tianbai/.julia/packages/DiffEqFlux/OM7Az/src/train.jl:221",
      " [5] #sciml_train at ./none:0 [inlined] (repeats 2 times)",
      " [6] top-level scope at In[42]:1"
     ]
    }
   ],
   "source": [
    "res = DiffEqFlux.sciml_train(loss_n_ode, res.minimizer, LBFGS(), cb=cb, maxiters=200)"
   ]
  },
  {
   "cell_type": "code",
   "execution_count": 109,
   "metadata": {},
   "outputs": [
    {
     "data": {
      "text/plain": [
       "58.083244f0"
      ]
     },
     "metadata": {},
     "output_type": "display_data"
    },
    {
     "data": {
      "image/svg+xml": [
       "<?xml version=\"1.0\" encoding=\"utf-8\"?>\n",
       "<svg xmlns=\"http://www.w3.org/2000/svg\" xmlns:xlink=\"http://www.w3.org/1999/xlink\" width=\"600\" height=\"400\" viewBox=\"0 0 2400 1600\">\n",
       "<defs>\n",
       "  <clipPath id=\"clip1100\">\n",
       "    <rect x=\"0\" y=\"0\" width=\"2400\" height=\"1600\"/>\n",
       "  </clipPath>\n",
       "</defs>\n",
       "<path clip-path=\"url(#clip1100)\" d=\"\n",
       "M0 1600 L2400 1600 L2400 0 L0 0  Z\n",
       "  \" fill=\"#ffffff\" fill-rule=\"evenodd\" fill-opacity=\"1\"/>\n",
       "<defs>\n",
       "  <clipPath id=\"clip1101\">\n",
       "    <rect x=\"480\" y=\"0\" width=\"1681\" height=\"1600\"/>\n",
       "  </clipPath>\n",
       "</defs>\n",
       "<path clip-path=\"url(#clip1100)\" d=\"\n",
       "M153.898 1487.47 L2352.76 1487.47 L2352.76 47.2441 L153.898 47.2441  Z\n",
       "  \" fill=\"#ffffff\" fill-rule=\"evenodd\" fill-opacity=\"1\"/>\n",
       "<defs>\n",
       "  <clipPath id=\"clip1102\">\n",
       "    <rect x=\"153\" y=\"47\" width=\"2200\" height=\"1441\"/>\n",
       "  </clipPath>\n",
       "</defs>\n",
       "<polyline clip-path=\"url(#clip1102)\" style=\"stroke:#000000; stroke-width:1.6; stroke-opacity:0.1; fill:none\" points=\"\n",
       "  467.65,1487.47 467.65,47.2441 \n",
       "  \"/>\n",
       "<polyline clip-path=\"url(#clip1102)\" style=\"stroke:#000000; stroke-width:1.6; stroke-opacity:0.1; fill:none\" points=\"\n",
       "  860.489,1487.47 860.489,47.2441 \n",
       "  \"/>\n",
       "<polyline clip-path=\"url(#clip1102)\" style=\"stroke:#000000; stroke-width:1.6; stroke-opacity:0.1; fill:none\" points=\"\n",
       "  1253.33,1487.47 1253.33,47.2441 \n",
       "  \"/>\n",
       "<polyline clip-path=\"url(#clip1102)\" style=\"stroke:#000000; stroke-width:1.6; stroke-opacity:0.1; fill:none\" points=\"\n",
       "  1646.17,1487.47 1646.17,47.2441 \n",
       "  \"/>\n",
       "<polyline clip-path=\"url(#clip1102)\" style=\"stroke:#000000; stroke-width:1.6; stroke-opacity:0.1; fill:none\" points=\"\n",
       "  2039,1487.47 2039,47.2441 \n",
       "  \"/>\n",
       "<polyline clip-path=\"url(#clip1102)\" style=\"stroke:#000000; stroke-width:1.6; stroke-opacity:0.1; fill:none\" points=\"\n",
       "  153.898,1416.97 2352.76,1416.97 \n",
       "  \"/>\n",
       "<polyline clip-path=\"url(#clip1102)\" style=\"stroke:#000000; stroke-width:1.6; stroke-opacity:0.1; fill:none\" points=\"\n",
       "  153.898,1218.38 2352.76,1218.38 \n",
       "  \"/>\n",
       "<polyline clip-path=\"url(#clip1102)\" style=\"stroke:#000000; stroke-width:1.6; stroke-opacity:0.1; fill:none\" points=\"\n",
       "  153.898,1019.8 2352.76,1019.8 \n",
       "  \"/>\n",
       "<polyline clip-path=\"url(#clip1102)\" style=\"stroke:#000000; stroke-width:1.6; stroke-opacity:0.1; fill:none\" points=\"\n",
       "  153.898,821.219 2352.76,821.219 \n",
       "  \"/>\n",
       "<polyline clip-path=\"url(#clip1102)\" style=\"stroke:#000000; stroke-width:1.6; stroke-opacity:0.1; fill:none\" points=\"\n",
       "  153.898,622.637 2352.76,622.637 \n",
       "  \"/>\n",
       "<polyline clip-path=\"url(#clip1102)\" style=\"stroke:#000000; stroke-width:1.6; stroke-opacity:0.1; fill:none\" points=\"\n",
       "  153.898,424.054 2352.76,424.054 \n",
       "  \"/>\n",
       "<polyline clip-path=\"url(#clip1102)\" style=\"stroke:#000000; stroke-width:1.6; stroke-opacity:0.1; fill:none\" points=\"\n",
       "  153.898,225.472 2352.76,225.472 \n",
       "  \"/>\n",
       "<polyline clip-path=\"url(#clip1100)\" style=\"stroke:#000000; stroke-width:3.2; stroke-opacity:1; fill:none\" points=\"\n",
       "  153.898,1487.47 2352.76,1487.47 \n",
       "  \"/>\n",
       "<polyline clip-path=\"url(#clip1100)\" style=\"stroke:#000000; stroke-width:3.2; stroke-opacity:1; fill:none\" points=\"\n",
       "  153.898,1487.47 153.898,47.2441 \n",
       "  \"/>\n",
       "<polyline clip-path=\"url(#clip1100)\" style=\"stroke:#000000; stroke-width:3.2; stroke-opacity:1; fill:none\" points=\"\n",
       "  467.65,1487.47 467.65,1465.87 \n",
       "  \"/>\n",
       "<polyline clip-path=\"url(#clip1100)\" style=\"stroke:#000000; stroke-width:3.2; stroke-opacity:1; fill:none\" points=\"\n",
       "  860.489,1487.47 860.489,1465.87 \n",
       "  \"/>\n",
       "<polyline clip-path=\"url(#clip1100)\" style=\"stroke:#000000; stroke-width:3.2; stroke-opacity:1; fill:none\" points=\"\n",
       "  1253.33,1487.47 1253.33,1465.87 \n",
       "  \"/>\n",
       "<polyline clip-path=\"url(#clip1100)\" style=\"stroke:#000000; stroke-width:3.2; stroke-opacity:1; fill:none\" points=\"\n",
       "  1646.17,1487.47 1646.17,1465.87 \n",
       "  \"/>\n",
       "<polyline clip-path=\"url(#clip1100)\" style=\"stroke:#000000; stroke-width:3.2; stroke-opacity:1; fill:none\" points=\"\n",
       "  2039,1487.47 2039,1465.87 \n",
       "  \"/>\n",
       "<polyline clip-path=\"url(#clip1100)\" style=\"stroke:#000000; stroke-width:3.2; stroke-opacity:1; fill:none\" points=\"\n",
       "  153.898,1416.97 186.881,1416.97 \n",
       "  \"/>\n",
       "<polyline clip-path=\"url(#clip1100)\" style=\"stroke:#000000; stroke-width:3.2; stroke-opacity:1; fill:none\" points=\"\n",
       "  153.898,1218.38 186.881,1218.38 \n",
       "  \"/>\n",
       "<polyline clip-path=\"url(#clip1100)\" style=\"stroke:#000000; stroke-width:3.2; stroke-opacity:1; fill:none\" points=\"\n",
       "  153.898,1019.8 186.881,1019.8 \n",
       "  \"/>\n",
       "<polyline clip-path=\"url(#clip1100)\" style=\"stroke:#000000; stroke-width:3.2; stroke-opacity:1; fill:none\" points=\"\n",
       "  153.898,821.219 186.881,821.219 \n",
       "  \"/>\n",
       "<polyline clip-path=\"url(#clip1100)\" style=\"stroke:#000000; stroke-width:3.2; stroke-opacity:1; fill:none\" points=\"\n",
       "  153.898,622.637 186.881,622.637 \n",
       "  \"/>\n",
       "<polyline clip-path=\"url(#clip1100)\" style=\"stroke:#000000; stroke-width:3.2; stroke-opacity:1; fill:none\" points=\"\n",
       "  153.898,424.054 186.881,424.054 \n",
       "  \"/>\n",
       "<polyline clip-path=\"url(#clip1100)\" style=\"stroke:#000000; stroke-width:3.2; stroke-opacity:1; fill:none\" points=\"\n",
       "  153.898,225.472 186.881,225.472 \n",
       "  \"/>\n",
       "<g clip-path=\"url(#clip1100)\">\n",
       "<text style=\"fill:#000000; fill-opacity:1; font-family:Arial,Helvetica Neue,Helvetica,sans-serif; font-size:48px; text-anchor:middle;\" transform=\"rotate(0, 467.65, 1541.47)\" x=\"467.65\" y=\"1541.47\">-6</text>\n",
       "</g>\n",
       "<g clip-path=\"url(#clip1100)\">\n",
       "<text style=\"fill:#000000; fill-opacity:1; font-family:Arial,Helvetica Neue,Helvetica,sans-serif; font-size:48px; text-anchor:middle;\" transform=\"rotate(0, 860.489, 1541.47)\" x=\"860.489\" y=\"1541.47\">-3</text>\n",
       "</g>\n",
       "<g clip-path=\"url(#clip1100)\">\n",
       "<text style=\"fill:#000000; fill-opacity:1; font-family:Arial,Helvetica Neue,Helvetica,sans-serif; font-size:48px; text-anchor:middle;\" transform=\"rotate(0, 1253.33, 1541.47)\" x=\"1253.33\" y=\"1541.47\">0</text>\n",
       "</g>\n",
       "<g clip-path=\"url(#clip1100)\">\n",
       "<text style=\"fill:#000000; fill-opacity:1; font-family:Arial,Helvetica Neue,Helvetica,sans-serif; font-size:48px; text-anchor:middle;\" transform=\"rotate(0, 1646.17, 1541.47)\" x=\"1646.17\" y=\"1541.47\">3</text>\n",
       "</g>\n",
       "<g clip-path=\"url(#clip1100)\">\n",
       "<text style=\"fill:#000000; fill-opacity:1; font-family:Arial,Helvetica Neue,Helvetica,sans-serif; font-size:48px; text-anchor:middle;\" transform=\"rotate(0, 2039, 1541.47)\" x=\"2039\" y=\"1541.47\">6</text>\n",
       "</g>\n",
       "<g clip-path=\"url(#clip1100)\">\n",
       "<text style=\"fill:#000000; fill-opacity:1; font-family:Arial,Helvetica Neue,Helvetica,sans-serif; font-size:48px; text-anchor:end;\" transform=\"rotate(0, 129.898, 1434.47)\" x=\"129.898\" y=\"1434.47\">0.0</text>\n",
       "</g>\n",
       "<g clip-path=\"url(#clip1100)\">\n",
       "<text style=\"fill:#000000; fill-opacity:1; font-family:Arial,Helvetica Neue,Helvetica,sans-serif; font-size:48px; text-anchor:end;\" transform=\"rotate(0, 129.898, 1235.88)\" x=\"129.898\" y=\"1235.88\">0.1</text>\n",
       "</g>\n",
       "<g clip-path=\"url(#clip1100)\">\n",
       "<text style=\"fill:#000000; fill-opacity:1; font-family:Arial,Helvetica Neue,Helvetica,sans-serif; font-size:48px; text-anchor:end;\" transform=\"rotate(0, 129.898, 1037.3)\" x=\"129.898\" y=\"1037.3\">0.2</text>\n",
       "</g>\n",
       "<g clip-path=\"url(#clip1100)\">\n",
       "<text style=\"fill:#000000; fill-opacity:1; font-family:Arial,Helvetica Neue,Helvetica,sans-serif; font-size:48px; text-anchor:end;\" transform=\"rotate(0, 129.898, 838.719)\" x=\"129.898\" y=\"838.719\">0.3</text>\n",
       "</g>\n",
       "<g clip-path=\"url(#clip1100)\">\n",
       "<text style=\"fill:#000000; fill-opacity:1; font-family:Arial,Helvetica Neue,Helvetica,sans-serif; font-size:48px; text-anchor:end;\" transform=\"rotate(0, 129.898, 640.137)\" x=\"129.898\" y=\"640.137\">0.4</text>\n",
       "</g>\n",
       "<g clip-path=\"url(#clip1100)\">\n",
       "<text style=\"fill:#000000; fill-opacity:1; font-family:Arial,Helvetica Neue,Helvetica,sans-serif; font-size:48px; text-anchor:end;\" transform=\"rotate(0, 129.898, 441.554)\" x=\"129.898\" y=\"441.554\">0.5</text>\n",
       "</g>\n",
       "<g clip-path=\"url(#clip1100)\">\n",
       "<text style=\"fill:#000000; fill-opacity:1; font-family:Arial,Helvetica Neue,Helvetica,sans-serif; font-size:48px; text-anchor:end;\" transform=\"rotate(0, 129.898, 242.972)\" x=\"129.898\" y=\"242.972\">0.6</text>\n",
       "</g>\n",
       "<polyline clip-path=\"url(#clip1102)\" style=\"stroke:#009af9; stroke-width:6.4; stroke-opacity:1; fill:none\" points=\"\n",
       "  216.13,1416.97 236.874,1416.97 257.618,1416.97 278.362,1416.97 299.106,1416.96 319.85,1416.96 340.593,1416.96 361.337,1416.96 382.081,1416.95 402.825,1416.94 \n",
       "  423.569,1416.93 444.313,1416.9 465.057,1416.86 485.801,1416.8 506.545,1416.7 527.289,1416.55 548.033,1416.32 568.777,1415.99 589.521,1415.5 610.265,1414.78 \n",
       "  631.009,1413.77 651.753,1412.33 672.497,1410.34 693.24,1407.61 713.984,1403.92 734.728,1399 755.472,1392.53 776.216,1384.16 796.96,1373.45 817.704,1359.98 \n",
       "  838.448,1343.26 859.192,1322.83 879.936,1298.23 900.68,1269.08 921.424,1235.06 942.168,1196.01 962.912,1151.93 983.656,1103.01 1004.4,1049.7 1025.14,992.694 \n",
       "  1045.89,932.952 1066.63,871.683 1087.38,810.317 1108.12,750.461 1128.86,693.828 1149.61,642.167 1170.35,597.165 1191.1,560.364 1211.84,533.07 1232.58,516.279 \n",
       "  1253.33,510.611 1274.07,516.279 1294.81,533.07 1315.56,560.364 1336.3,597.165 1357.05,642.167 1377.79,693.828 1398.53,750.461 1419.28,810.317 1440.02,871.683 \n",
       "  1460.77,932.952 1481.51,992.694 1502.25,1049.7 1523,1103.01 1543.74,1151.93 1564.49,1196.01 1585.23,1235.06 1605.97,1269.08 1626.72,1298.23 1647.46,1322.83 \n",
       "  1668.21,1343.26 1688.95,1359.98 1709.69,1373.45 1730.44,1384.16 1751.18,1392.53 1771.93,1399 1792.67,1403.92 1813.41,1407.61 1834.16,1410.34 1854.9,1412.33 \n",
       "  1875.65,1413.77 1896.39,1414.78 1917.13,1415.5 1937.88,1415.99 1958.62,1416.32 1979.36,1416.55 2000.11,1416.7 2020.85,1416.8 2041.6,1416.86 2062.34,1416.9 \n",
       "  2083.08,1416.93 2103.83,1416.94 2124.57,1416.95 2145.32,1416.96 2166.06,1416.96 2186.8,1416.96 2207.55,1416.96 2228.29,1416.97 2249.04,1416.97 2269.78,1416.97 \n",
       "  2290.52,1416.97 \n",
       "  \"/>\n",
       "<circle clip-path=\"url(#clip1102)\" cx=\"216.13\" cy=\"1416.75\" r=\"14\" fill=\"#000000\" fill-rule=\"evenodd\" fill-opacity=\"1\" stroke=\"#ffffff\" stroke-opacity=\"1\" stroke-width=\"3.2\"/>\n",
       "<circle clip-path=\"url(#clip1102)\" cx=\"216.13\" cy=\"1416.75\" r=\"11\" fill=\"#e26f46\" fill-rule=\"evenodd\" fill-opacity=\"1\" stroke=\"#ffffff\" stroke-opacity=\"1\" stroke-width=\"3.2\"/>\n",
       "<circle clip-path=\"url(#clip1102)\" cx=\"236.874\" cy=\"1417.42\" r=\"14\" fill=\"#000000\" fill-rule=\"evenodd\" fill-opacity=\"1\" stroke=\"#ffffff\" stroke-opacity=\"1\" stroke-width=\"3.2\"/>\n",
       "<circle clip-path=\"url(#clip1102)\" cx=\"236.874\" cy=\"1417.42\" r=\"11\" fill=\"#e26f46\" fill-rule=\"evenodd\" fill-opacity=\"1\" stroke=\"#ffffff\" stroke-opacity=\"1\" stroke-width=\"3.2\"/>\n",
       "<circle clip-path=\"url(#clip1102)\" cx=\"257.618\" cy=\"1417.1\" r=\"14\" fill=\"#000000\" fill-rule=\"evenodd\" fill-opacity=\"1\" stroke=\"#ffffff\" stroke-opacity=\"1\" stroke-width=\"3.2\"/>\n",
       "<circle clip-path=\"url(#clip1102)\" cx=\"257.618\" cy=\"1417.1\" r=\"11\" fill=\"#e26f46\" fill-rule=\"evenodd\" fill-opacity=\"1\" stroke=\"#ffffff\" stroke-opacity=\"1\" stroke-width=\"3.2\"/>\n",
       "<circle clip-path=\"url(#clip1102)\" cx=\"278.362\" cy=\"1417.04\" r=\"14\" fill=\"#000000\" fill-rule=\"evenodd\" fill-opacity=\"1\" stroke=\"#ffffff\" stroke-opacity=\"1\" stroke-width=\"3.2\"/>\n",
       "<circle clip-path=\"url(#clip1102)\" cx=\"278.362\" cy=\"1417.04\" r=\"11\" fill=\"#e26f46\" fill-rule=\"evenodd\" fill-opacity=\"1\" stroke=\"#ffffff\" stroke-opacity=\"1\" stroke-width=\"3.2\"/>\n",
       "<circle clip-path=\"url(#clip1102)\" cx=\"299.106\" cy=\"1416.72\" r=\"14\" fill=\"#000000\" fill-rule=\"evenodd\" fill-opacity=\"1\" stroke=\"#ffffff\" stroke-opacity=\"1\" stroke-width=\"3.2\"/>\n",
       "<circle clip-path=\"url(#clip1102)\" cx=\"299.106\" cy=\"1416.72\" r=\"11\" fill=\"#e26f46\" fill-rule=\"evenodd\" fill-opacity=\"1\" stroke=\"#ffffff\" stroke-opacity=\"1\" stroke-width=\"3.2\"/>\n",
       "<circle clip-path=\"url(#clip1102)\" cx=\"319.85\" cy=\"1417.39\" r=\"14\" fill=\"#000000\" fill-rule=\"evenodd\" fill-opacity=\"1\" stroke=\"#ffffff\" stroke-opacity=\"1\" stroke-width=\"3.2\"/>\n",
       "<circle clip-path=\"url(#clip1102)\" cx=\"319.85\" cy=\"1417.39\" r=\"11\" fill=\"#e26f46\" fill-rule=\"evenodd\" fill-opacity=\"1\" stroke=\"#ffffff\" stroke-opacity=\"1\" stroke-width=\"3.2\"/>\n",
       "<circle clip-path=\"url(#clip1102)\" cx=\"340.593\" cy=\"1417.28\" r=\"14\" fill=\"#000000\" fill-rule=\"evenodd\" fill-opacity=\"1\" stroke=\"#ffffff\" stroke-opacity=\"1\" stroke-width=\"3.2\"/>\n",
       "<circle clip-path=\"url(#clip1102)\" cx=\"340.593\" cy=\"1417.28\" r=\"11\" fill=\"#e26f46\" fill-rule=\"evenodd\" fill-opacity=\"1\" stroke=\"#ffffff\" stroke-opacity=\"1\" stroke-width=\"3.2\"/>\n",
       "<circle clip-path=\"url(#clip1102)\" cx=\"361.337\" cy=\"1416.89\" r=\"14\" fill=\"#000000\" fill-rule=\"evenodd\" fill-opacity=\"1\" stroke=\"#ffffff\" stroke-opacity=\"1\" stroke-width=\"3.2\"/>\n",
       "<circle clip-path=\"url(#clip1102)\" cx=\"361.337\" cy=\"1416.89\" r=\"11\" fill=\"#e26f46\" fill-rule=\"evenodd\" fill-opacity=\"1\" stroke=\"#ffffff\" stroke-opacity=\"1\" stroke-width=\"3.2\"/>\n",
       "<circle clip-path=\"url(#clip1102)\" cx=\"382.081\" cy=\"1416.73\" r=\"14\" fill=\"#000000\" fill-rule=\"evenodd\" fill-opacity=\"1\" stroke=\"#ffffff\" stroke-opacity=\"1\" stroke-width=\"3.2\"/>\n",
       "<circle clip-path=\"url(#clip1102)\" cx=\"382.081\" cy=\"1416.73\" r=\"11\" fill=\"#e26f46\" fill-rule=\"evenodd\" fill-opacity=\"1\" stroke=\"#ffffff\" stroke-opacity=\"1\" stroke-width=\"3.2\"/>\n",
       "<circle clip-path=\"url(#clip1102)\" cx=\"402.825\" cy=\"1416.33\" r=\"14\" fill=\"#000000\" fill-rule=\"evenodd\" fill-opacity=\"1\" stroke=\"#ffffff\" stroke-opacity=\"1\" stroke-width=\"3.2\"/>\n",
       "<circle clip-path=\"url(#clip1102)\" cx=\"402.825\" cy=\"1416.33\" r=\"11\" fill=\"#e26f46\" fill-rule=\"evenodd\" fill-opacity=\"1\" stroke=\"#ffffff\" stroke-opacity=\"1\" stroke-width=\"3.2\"/>\n",
       "<circle clip-path=\"url(#clip1102)\" cx=\"423.569\" cy=\"1416.99\" r=\"14\" fill=\"#000000\" fill-rule=\"evenodd\" fill-opacity=\"1\" stroke=\"#ffffff\" stroke-opacity=\"1\" stroke-width=\"3.2\"/>\n",
       "<circle clip-path=\"url(#clip1102)\" cx=\"423.569\" cy=\"1416.99\" r=\"11\" fill=\"#e26f46\" fill-rule=\"evenodd\" fill-opacity=\"1\" stroke=\"#ffffff\" stroke-opacity=\"1\" stroke-width=\"3.2\"/>\n",
       "<circle clip-path=\"url(#clip1102)\" cx=\"444.313\" cy=\"1417.08\" r=\"14\" fill=\"#000000\" fill-rule=\"evenodd\" fill-opacity=\"1\" stroke=\"#ffffff\" stroke-opacity=\"1\" stroke-width=\"3.2\"/>\n",
       "<circle clip-path=\"url(#clip1102)\" cx=\"444.313\" cy=\"1417.08\" r=\"11\" fill=\"#e26f46\" fill-rule=\"evenodd\" fill-opacity=\"1\" stroke=\"#ffffff\" stroke-opacity=\"1\" stroke-width=\"3.2\"/>\n",
       "<circle clip-path=\"url(#clip1102)\" cx=\"465.057\" cy=\"1416.53\" r=\"14\" fill=\"#000000\" fill-rule=\"evenodd\" fill-opacity=\"1\" stroke=\"#ffffff\" stroke-opacity=\"1\" stroke-width=\"3.2\"/>\n",
       "<circle clip-path=\"url(#clip1102)\" cx=\"465.057\" cy=\"1416.53\" r=\"11\" fill=\"#e26f46\" fill-rule=\"evenodd\" fill-opacity=\"1\" stroke=\"#ffffff\" stroke-opacity=\"1\" stroke-width=\"3.2\"/>\n",
       "<circle clip-path=\"url(#clip1102)\" cx=\"485.801\" cy=\"1417\" r=\"14\" fill=\"#000000\" fill-rule=\"evenodd\" fill-opacity=\"1\" stroke=\"#ffffff\" stroke-opacity=\"1\" stroke-width=\"3.2\"/>\n",
       "<circle clip-path=\"url(#clip1102)\" cx=\"485.801\" cy=\"1417\" r=\"11\" fill=\"#e26f46\" fill-rule=\"evenodd\" fill-opacity=\"1\" stroke=\"#ffffff\" stroke-opacity=\"1\" stroke-width=\"3.2\"/>\n",
       "<circle clip-path=\"url(#clip1102)\" cx=\"506.545\" cy=\"1417.33\" r=\"14\" fill=\"#000000\" fill-rule=\"evenodd\" fill-opacity=\"1\" stroke=\"#ffffff\" stroke-opacity=\"1\" stroke-width=\"3.2\"/>\n",
       "<circle clip-path=\"url(#clip1102)\" cx=\"506.545\" cy=\"1417.33\" r=\"11\" fill=\"#e26f46\" fill-rule=\"evenodd\" fill-opacity=\"1\" stroke=\"#ffffff\" stroke-opacity=\"1\" stroke-width=\"3.2\"/>\n",
       "<circle clip-path=\"url(#clip1102)\" cx=\"527.289\" cy=\"1417.06\" r=\"14\" fill=\"#000000\" fill-rule=\"evenodd\" fill-opacity=\"1\" stroke=\"#ffffff\" stroke-opacity=\"1\" stroke-width=\"3.2\"/>\n",
       "<circle clip-path=\"url(#clip1102)\" cx=\"527.289\" cy=\"1417.06\" r=\"11\" fill=\"#e26f46\" fill-rule=\"evenodd\" fill-opacity=\"1\" stroke=\"#ffffff\" stroke-opacity=\"1\" stroke-width=\"3.2\"/>\n",
       "<circle clip-path=\"url(#clip1102)\" cx=\"548.033\" cy=\"1417.55\" r=\"14\" fill=\"#000000\" fill-rule=\"evenodd\" fill-opacity=\"1\" stroke=\"#ffffff\" stroke-opacity=\"1\" stroke-width=\"3.2\"/>\n",
       "<circle clip-path=\"url(#clip1102)\" cx=\"548.033\" cy=\"1417.55\" r=\"11\" fill=\"#e26f46\" fill-rule=\"evenodd\" fill-opacity=\"1\" stroke=\"#ffffff\" stroke-opacity=\"1\" stroke-width=\"3.2\"/>\n",
       "<circle clip-path=\"url(#clip1102)\" cx=\"568.777\" cy=\"1417.74\" r=\"14\" fill=\"#000000\" fill-rule=\"evenodd\" fill-opacity=\"1\" stroke=\"#ffffff\" stroke-opacity=\"1\" stroke-width=\"3.2\"/>\n",
       "<circle clip-path=\"url(#clip1102)\" cx=\"568.777\" cy=\"1417.74\" r=\"11\" fill=\"#e26f46\" fill-rule=\"evenodd\" fill-opacity=\"1\" stroke=\"#ffffff\" stroke-opacity=\"1\" stroke-width=\"3.2\"/>\n",
       "<circle clip-path=\"url(#clip1102)\" cx=\"589.521\" cy=\"1417.4\" r=\"14\" fill=\"#000000\" fill-rule=\"evenodd\" fill-opacity=\"1\" stroke=\"#ffffff\" stroke-opacity=\"1\" stroke-width=\"3.2\"/>\n",
       "<circle clip-path=\"url(#clip1102)\" cx=\"589.521\" cy=\"1417.4\" r=\"11\" fill=\"#e26f46\" fill-rule=\"evenodd\" fill-opacity=\"1\" stroke=\"#ffffff\" stroke-opacity=\"1\" stroke-width=\"3.2\"/>\n",
       "<circle clip-path=\"url(#clip1102)\" cx=\"610.265\" cy=\"1418.7\" r=\"14\" fill=\"#000000\" fill-rule=\"evenodd\" fill-opacity=\"1\" stroke=\"#ffffff\" stroke-opacity=\"1\" stroke-width=\"3.2\"/>\n",
       "<circle clip-path=\"url(#clip1102)\" cx=\"610.265\" cy=\"1418.7\" r=\"11\" fill=\"#e26f46\" fill-rule=\"evenodd\" fill-opacity=\"1\" stroke=\"#ffffff\" stroke-opacity=\"1\" stroke-width=\"3.2\"/>\n",
       "<circle clip-path=\"url(#clip1102)\" cx=\"631.009\" cy=\"1419.36\" r=\"14\" fill=\"#000000\" fill-rule=\"evenodd\" fill-opacity=\"1\" stroke=\"#ffffff\" stroke-opacity=\"1\" stroke-width=\"3.2\"/>\n",
       "<circle clip-path=\"url(#clip1102)\" cx=\"631.009\" cy=\"1419.36\" r=\"11\" fill=\"#e26f46\" fill-rule=\"evenodd\" fill-opacity=\"1\" stroke=\"#ffffff\" stroke-opacity=\"1\" stroke-width=\"3.2\"/>\n",
       "<circle clip-path=\"url(#clip1102)\" cx=\"651.753\" cy=\"1420.48\" r=\"14\" fill=\"#000000\" fill-rule=\"evenodd\" fill-opacity=\"1\" stroke=\"#ffffff\" stroke-opacity=\"1\" stroke-width=\"3.2\"/>\n",
       "<circle clip-path=\"url(#clip1102)\" cx=\"651.753\" cy=\"1420.48\" r=\"11\" fill=\"#e26f46\" fill-rule=\"evenodd\" fill-opacity=\"1\" stroke=\"#ffffff\" stroke-opacity=\"1\" stroke-width=\"3.2\"/>\n",
       "<circle clip-path=\"url(#clip1102)\" cx=\"672.497\" cy=\"1421.86\" r=\"14\" fill=\"#000000\" fill-rule=\"evenodd\" fill-opacity=\"1\" stroke=\"#ffffff\" stroke-opacity=\"1\" stroke-width=\"3.2\"/>\n",
       "<circle clip-path=\"url(#clip1102)\" cx=\"672.497\" cy=\"1421.86\" r=\"11\" fill=\"#e26f46\" fill-rule=\"evenodd\" fill-opacity=\"1\" stroke=\"#ffffff\" stroke-opacity=\"1\" stroke-width=\"3.2\"/>\n",
       "<circle clip-path=\"url(#clip1102)\" cx=\"693.24\" cy=\"1424.5\" r=\"14\" fill=\"#000000\" fill-rule=\"evenodd\" fill-opacity=\"1\" stroke=\"#ffffff\" stroke-opacity=\"1\" stroke-width=\"3.2\"/>\n",
       "<circle clip-path=\"url(#clip1102)\" cx=\"693.24\" cy=\"1424.5\" r=\"11\" fill=\"#e26f46\" fill-rule=\"evenodd\" fill-opacity=\"1\" stroke=\"#ffffff\" stroke-opacity=\"1\" stroke-width=\"3.2\"/>\n",
       "<circle clip-path=\"url(#clip1102)\" cx=\"713.984\" cy=\"1426.8\" r=\"14\" fill=\"#000000\" fill-rule=\"evenodd\" fill-opacity=\"1\" stroke=\"#ffffff\" stroke-opacity=\"1\" stroke-width=\"3.2\"/>\n",
       "<circle clip-path=\"url(#clip1102)\" cx=\"713.984\" cy=\"1426.8\" r=\"11\" fill=\"#e26f46\" fill-rule=\"evenodd\" fill-opacity=\"1\" stroke=\"#ffffff\" stroke-opacity=\"1\" stroke-width=\"3.2\"/>\n",
       "<circle clip-path=\"url(#clip1102)\" cx=\"734.728\" cy=\"1430.61\" r=\"14\" fill=\"#000000\" fill-rule=\"evenodd\" fill-opacity=\"1\" stroke=\"#ffffff\" stroke-opacity=\"1\" stroke-width=\"3.2\"/>\n",
       "<circle clip-path=\"url(#clip1102)\" cx=\"734.728\" cy=\"1430.61\" r=\"11\" fill=\"#e26f46\" fill-rule=\"evenodd\" fill-opacity=\"1\" stroke=\"#ffffff\" stroke-opacity=\"1\" stroke-width=\"3.2\"/>\n",
       "<circle clip-path=\"url(#clip1102)\" cx=\"755.472\" cy=\"1433.78\" r=\"14\" fill=\"#000000\" fill-rule=\"evenodd\" fill-opacity=\"1\" stroke=\"#ffffff\" stroke-opacity=\"1\" stroke-width=\"3.2\"/>\n",
       "<circle clip-path=\"url(#clip1102)\" cx=\"755.472\" cy=\"1433.78\" r=\"11\" fill=\"#e26f46\" fill-rule=\"evenodd\" fill-opacity=\"1\" stroke=\"#ffffff\" stroke-opacity=\"1\" stroke-width=\"3.2\"/>\n",
       "<circle clip-path=\"url(#clip1102)\" cx=\"776.216\" cy=\"1437.35\" r=\"14\" fill=\"#000000\" fill-rule=\"evenodd\" fill-opacity=\"1\" stroke=\"#ffffff\" stroke-opacity=\"1\" stroke-width=\"3.2\"/>\n",
       "<circle clip-path=\"url(#clip1102)\" cx=\"776.216\" cy=\"1437.35\" r=\"11\" fill=\"#e26f46\" fill-rule=\"evenodd\" fill-opacity=\"1\" stroke=\"#ffffff\" stroke-opacity=\"1\" stroke-width=\"3.2\"/>\n",
       "<circle clip-path=\"url(#clip1102)\" cx=\"796.96\" cy=\"1441.38\" r=\"14\" fill=\"#000000\" fill-rule=\"evenodd\" fill-opacity=\"1\" stroke=\"#ffffff\" stroke-opacity=\"1\" stroke-width=\"3.2\"/>\n",
       "<circle clip-path=\"url(#clip1102)\" cx=\"796.96\" cy=\"1441.38\" r=\"11\" fill=\"#e26f46\" fill-rule=\"evenodd\" fill-opacity=\"1\" stroke=\"#ffffff\" stroke-opacity=\"1\" stroke-width=\"3.2\"/>\n",
       "<circle clip-path=\"url(#clip1102)\" cx=\"817.704\" cy=\"1444.51\" r=\"14\" fill=\"#000000\" fill-rule=\"evenodd\" fill-opacity=\"1\" stroke=\"#ffffff\" stroke-opacity=\"1\" stroke-width=\"3.2\"/>\n",
       "<circle clip-path=\"url(#clip1102)\" cx=\"817.704\" cy=\"1444.51\" r=\"11\" fill=\"#e26f46\" fill-rule=\"evenodd\" fill-opacity=\"1\" stroke=\"#ffffff\" stroke-opacity=\"1\" stroke-width=\"3.2\"/>\n",
       "<circle clip-path=\"url(#clip1102)\" cx=\"838.448\" cy=\"1445.08\" r=\"14\" fill=\"#000000\" fill-rule=\"evenodd\" fill-opacity=\"1\" stroke=\"#ffffff\" stroke-opacity=\"1\" stroke-width=\"3.2\"/>\n",
       "<circle clip-path=\"url(#clip1102)\" cx=\"838.448\" cy=\"1445.08\" r=\"11\" fill=\"#e26f46\" fill-rule=\"evenodd\" fill-opacity=\"1\" stroke=\"#ffffff\" stroke-opacity=\"1\" stroke-width=\"3.2\"/>\n",
       "<circle clip-path=\"url(#clip1102)\" cx=\"859.192\" cy=\"1444.5\" r=\"14\" fill=\"#000000\" fill-rule=\"evenodd\" fill-opacity=\"1\" stroke=\"#ffffff\" stroke-opacity=\"1\" stroke-width=\"3.2\"/>\n",
       "<circle clip-path=\"url(#clip1102)\" cx=\"859.192\" cy=\"1444.5\" r=\"11\" fill=\"#e26f46\" fill-rule=\"evenodd\" fill-opacity=\"1\" stroke=\"#ffffff\" stroke-opacity=\"1\" stroke-width=\"3.2\"/>\n",
       "<circle clip-path=\"url(#clip1102)\" cx=\"879.936\" cy=\"1439.53\" r=\"14\" fill=\"#000000\" fill-rule=\"evenodd\" fill-opacity=\"1\" stroke=\"#ffffff\" stroke-opacity=\"1\" stroke-width=\"3.2\"/>\n",
       "<circle clip-path=\"url(#clip1102)\" cx=\"879.936\" cy=\"1439.53\" r=\"11\" fill=\"#e26f46\" fill-rule=\"evenodd\" fill-opacity=\"1\" stroke=\"#ffffff\" stroke-opacity=\"1\" stroke-width=\"3.2\"/>\n",
       "<circle clip-path=\"url(#clip1102)\" cx=\"900.68\" cy=\"1428.95\" r=\"14\" fill=\"#000000\" fill-rule=\"evenodd\" fill-opacity=\"1\" stroke=\"#ffffff\" stroke-opacity=\"1\" stroke-width=\"3.2\"/>\n",
       "<circle clip-path=\"url(#clip1102)\" cx=\"900.68\" cy=\"1428.95\" r=\"11\" fill=\"#e26f46\" fill-rule=\"evenodd\" fill-opacity=\"1\" stroke=\"#ffffff\" stroke-opacity=\"1\" stroke-width=\"3.2\"/>\n",
       "<circle clip-path=\"url(#clip1102)\" cx=\"921.424\" cy=\"1409.78\" r=\"14\" fill=\"#000000\" fill-rule=\"evenodd\" fill-opacity=\"1\" stroke=\"#ffffff\" stroke-opacity=\"1\" stroke-width=\"3.2\"/>\n",
       "<circle clip-path=\"url(#clip1102)\" cx=\"921.424\" cy=\"1409.78\" r=\"11\" fill=\"#e26f46\" fill-rule=\"evenodd\" fill-opacity=\"1\" stroke=\"#ffffff\" stroke-opacity=\"1\" stroke-width=\"3.2\"/>\n",
       "<circle clip-path=\"url(#clip1102)\" cx=\"942.168\" cy=\"1381.23\" r=\"14\" fill=\"#000000\" fill-rule=\"evenodd\" fill-opacity=\"1\" stroke=\"#ffffff\" stroke-opacity=\"1\" stroke-width=\"3.2\"/>\n",
       "<circle clip-path=\"url(#clip1102)\" cx=\"942.168\" cy=\"1381.23\" r=\"11\" fill=\"#e26f46\" fill-rule=\"evenodd\" fill-opacity=\"1\" stroke=\"#ffffff\" stroke-opacity=\"1\" stroke-width=\"3.2\"/>\n",
       "<circle clip-path=\"url(#clip1102)\" cx=\"962.912\" cy=\"1340.43\" r=\"14\" fill=\"#000000\" fill-rule=\"evenodd\" fill-opacity=\"1\" stroke=\"#ffffff\" stroke-opacity=\"1\" stroke-width=\"3.2\"/>\n",
       "<circle clip-path=\"url(#clip1102)\" cx=\"962.912\" cy=\"1340.43\" r=\"11\" fill=\"#e26f46\" fill-rule=\"evenodd\" fill-opacity=\"1\" stroke=\"#ffffff\" stroke-opacity=\"1\" stroke-width=\"3.2\"/>\n",
       "<circle clip-path=\"url(#clip1102)\" cx=\"983.656\" cy=\"1286.56\" r=\"14\" fill=\"#000000\" fill-rule=\"evenodd\" fill-opacity=\"1\" stroke=\"#ffffff\" stroke-opacity=\"1\" stroke-width=\"3.2\"/>\n",
       "<circle clip-path=\"url(#clip1102)\" cx=\"983.656\" cy=\"1286.56\" r=\"11\" fill=\"#e26f46\" fill-rule=\"evenodd\" fill-opacity=\"1\" stroke=\"#ffffff\" stroke-opacity=\"1\" stroke-width=\"3.2\"/>\n",
       "<circle clip-path=\"url(#clip1102)\" cx=\"1004.4\" cy=\"1217.84\" r=\"14\" fill=\"#000000\" fill-rule=\"evenodd\" fill-opacity=\"1\" stroke=\"#ffffff\" stroke-opacity=\"1\" stroke-width=\"3.2\"/>\n",
       "<circle clip-path=\"url(#clip1102)\" cx=\"1004.4\" cy=\"1217.84\" r=\"11\" fill=\"#e26f46\" fill-rule=\"evenodd\" fill-opacity=\"1\" stroke=\"#ffffff\" stroke-opacity=\"1\" stroke-width=\"3.2\"/>\n",
       "<circle clip-path=\"url(#clip1102)\" cx=\"1025.14\" cy=\"1134.06\" r=\"14\" fill=\"#000000\" fill-rule=\"evenodd\" fill-opacity=\"1\" stroke=\"#ffffff\" stroke-opacity=\"1\" stroke-width=\"3.2\"/>\n",
       "<circle clip-path=\"url(#clip1102)\" cx=\"1025.14\" cy=\"1134.06\" r=\"11\" fill=\"#e26f46\" fill-rule=\"evenodd\" fill-opacity=\"1\" stroke=\"#ffffff\" stroke-opacity=\"1\" stroke-width=\"3.2\"/>\n",
       "<circle clip-path=\"url(#clip1102)\" cx=\"1045.89\" cy=\"1036.3\" r=\"14\" fill=\"#000000\" fill-rule=\"evenodd\" fill-opacity=\"1\" stroke=\"#ffffff\" stroke-opacity=\"1\" stroke-width=\"3.2\"/>\n",
       "<circle clip-path=\"url(#clip1102)\" cx=\"1045.89\" cy=\"1036.3\" r=\"11\" fill=\"#e26f46\" fill-rule=\"evenodd\" fill-opacity=\"1\" stroke=\"#ffffff\" stroke-opacity=\"1\" stroke-width=\"3.2\"/>\n",
       "<circle clip-path=\"url(#clip1102)\" cx=\"1066.63\" cy=\"924.219\" r=\"14\" fill=\"#000000\" fill-rule=\"evenodd\" fill-opacity=\"1\" stroke=\"#ffffff\" stroke-opacity=\"1\" stroke-width=\"3.2\"/>\n",
       "<circle clip-path=\"url(#clip1102)\" cx=\"1066.63\" cy=\"924.219\" r=\"11\" fill=\"#e26f46\" fill-rule=\"evenodd\" fill-opacity=\"1\" stroke=\"#ffffff\" stroke-opacity=\"1\" stroke-width=\"3.2\"/>\n",
       "<circle clip-path=\"url(#clip1102)\" cx=\"1087.38\" cy=\"803.221\" r=\"14\" fill=\"#000000\" fill-rule=\"evenodd\" fill-opacity=\"1\" stroke=\"#ffffff\" stroke-opacity=\"1\" stroke-width=\"3.2\"/>\n",
       "<circle clip-path=\"url(#clip1102)\" cx=\"1087.38\" cy=\"803.221\" r=\"11\" fill=\"#e26f46\" fill-rule=\"evenodd\" fill-opacity=\"1\" stroke=\"#ffffff\" stroke-opacity=\"1\" stroke-width=\"3.2\"/>\n",
       "<circle clip-path=\"url(#clip1102)\" cx=\"1108.12\" cy=\"675.52\" r=\"14\" fill=\"#000000\" fill-rule=\"evenodd\" fill-opacity=\"1\" stroke=\"#ffffff\" stroke-opacity=\"1\" stroke-width=\"3.2\"/>\n",
       "<circle clip-path=\"url(#clip1102)\" cx=\"1108.12\" cy=\"675.52\" r=\"11\" fill=\"#e26f46\" fill-rule=\"evenodd\" fill-opacity=\"1\" stroke=\"#ffffff\" stroke-opacity=\"1\" stroke-width=\"3.2\"/>\n",
       "<circle clip-path=\"url(#clip1102)\" cx=\"1128.86\" cy=\"547.766\" r=\"14\" fill=\"#000000\" fill-rule=\"evenodd\" fill-opacity=\"1\" stroke=\"#ffffff\" stroke-opacity=\"1\" stroke-width=\"3.2\"/>\n",
       "<circle clip-path=\"url(#clip1102)\" cx=\"1128.86\" cy=\"547.766\" r=\"11\" fill=\"#e26f46\" fill-rule=\"evenodd\" fill-opacity=\"1\" stroke=\"#ffffff\" stroke-opacity=\"1\" stroke-width=\"3.2\"/>\n",
       "<circle clip-path=\"url(#clip1102)\" cx=\"1149.61\" cy=\"425.537\" r=\"14\" fill=\"#000000\" fill-rule=\"evenodd\" fill-opacity=\"1\" stroke=\"#ffffff\" stroke-opacity=\"1\" stroke-width=\"3.2\"/>\n",
       "<circle clip-path=\"url(#clip1102)\" cx=\"1149.61\" cy=\"425.537\" r=\"11\" fill=\"#e26f46\" fill-rule=\"evenodd\" fill-opacity=\"1\" stroke=\"#ffffff\" stroke-opacity=\"1\" stroke-width=\"3.2\"/>\n",
       "<circle clip-path=\"url(#clip1102)\" cx=\"1170.35\" cy=\"313.492\" r=\"14\" fill=\"#000000\" fill-rule=\"evenodd\" fill-opacity=\"1\" stroke=\"#ffffff\" stroke-opacity=\"1\" stroke-width=\"3.2\"/>\n",
       "<circle clip-path=\"url(#clip1102)\" cx=\"1170.35\" cy=\"313.492\" r=\"11\" fill=\"#e26f46\" fill-rule=\"evenodd\" fill-opacity=\"1\" stroke=\"#ffffff\" stroke-opacity=\"1\" stroke-width=\"3.2\"/>\n",
       "<circle clip-path=\"url(#clip1102)\" cx=\"1191.1\" cy=\"219.62\" r=\"14\" fill=\"#000000\" fill-rule=\"evenodd\" fill-opacity=\"1\" stroke=\"#ffffff\" stroke-opacity=\"1\" stroke-width=\"3.2\"/>\n",
       "<circle clip-path=\"url(#clip1102)\" cx=\"1191.1\" cy=\"219.62\" r=\"11\" fill=\"#e26f46\" fill-rule=\"evenodd\" fill-opacity=\"1\" stroke=\"#ffffff\" stroke-opacity=\"1\" stroke-width=\"3.2\"/>\n",
       "<circle clip-path=\"url(#clip1102)\" cx=\"1211.84\" cy=\"147.786\" r=\"14\" fill=\"#000000\" fill-rule=\"evenodd\" fill-opacity=\"1\" stroke=\"#ffffff\" stroke-opacity=\"1\" stroke-width=\"3.2\"/>\n",
       "<circle clip-path=\"url(#clip1102)\" cx=\"1211.84\" cy=\"147.786\" r=\"11\" fill=\"#e26f46\" fill-rule=\"evenodd\" fill-opacity=\"1\" stroke=\"#ffffff\" stroke-opacity=\"1\" stroke-width=\"3.2\"/>\n",
       "<circle clip-path=\"url(#clip1102)\" cx=\"1232.58\" cy=\"103.068\" r=\"14\" fill=\"#000000\" fill-rule=\"evenodd\" fill-opacity=\"1\" stroke=\"#ffffff\" stroke-opacity=\"1\" stroke-width=\"3.2\"/>\n",
       "<circle clip-path=\"url(#clip1102)\" cx=\"1232.58\" cy=\"103.068\" r=\"11\" fill=\"#e26f46\" fill-rule=\"evenodd\" fill-opacity=\"1\" stroke=\"#ffffff\" stroke-opacity=\"1\" stroke-width=\"3.2\"/>\n",
       "<circle clip-path=\"url(#clip1102)\" cx=\"1253.33\" cy=\"88.0053\" r=\"14\" fill=\"#000000\" fill-rule=\"evenodd\" fill-opacity=\"1\" stroke=\"#ffffff\" stroke-opacity=\"1\" stroke-width=\"3.2\"/>\n",
       "<circle clip-path=\"url(#clip1102)\" cx=\"1253.33\" cy=\"88.0053\" r=\"11\" fill=\"#e26f46\" fill-rule=\"evenodd\" fill-opacity=\"1\" stroke=\"#ffffff\" stroke-opacity=\"1\" stroke-width=\"3.2\"/>\n",
       "<circle clip-path=\"url(#clip1102)\" cx=\"1274.07\" cy=\"103.397\" r=\"14\" fill=\"#000000\" fill-rule=\"evenodd\" fill-opacity=\"1\" stroke=\"#ffffff\" stroke-opacity=\"1\" stroke-width=\"3.2\"/>\n",
       "<circle clip-path=\"url(#clip1102)\" cx=\"1274.07\" cy=\"103.397\" r=\"11\" fill=\"#e26f46\" fill-rule=\"evenodd\" fill-opacity=\"1\" stroke=\"#ffffff\" stroke-opacity=\"1\" stroke-width=\"3.2\"/>\n",
       "<circle clip-path=\"url(#clip1102)\" cx=\"1294.81\" cy=\"148.14\" r=\"14\" fill=\"#000000\" fill-rule=\"evenodd\" fill-opacity=\"1\" stroke=\"#ffffff\" stroke-opacity=\"1\" stroke-width=\"3.2\"/>\n",
       "<circle clip-path=\"url(#clip1102)\" cx=\"1294.81\" cy=\"148.14\" r=\"11\" fill=\"#e26f46\" fill-rule=\"evenodd\" fill-opacity=\"1\" stroke=\"#ffffff\" stroke-opacity=\"1\" stroke-width=\"3.2\"/>\n",
       "<circle clip-path=\"url(#clip1102)\" cx=\"1315.56\" cy=\"219.873\" r=\"14\" fill=\"#000000\" fill-rule=\"evenodd\" fill-opacity=\"1\" stroke=\"#ffffff\" stroke-opacity=\"1\" stroke-width=\"3.2\"/>\n",
       "<circle clip-path=\"url(#clip1102)\" cx=\"1315.56\" cy=\"219.873\" r=\"11\" fill=\"#e26f46\" fill-rule=\"evenodd\" fill-opacity=\"1\" stroke=\"#ffffff\" stroke-opacity=\"1\" stroke-width=\"3.2\"/>\n",
       "<circle clip-path=\"url(#clip1102)\" cx=\"1336.3\" cy=\"313.899\" r=\"14\" fill=\"#000000\" fill-rule=\"evenodd\" fill-opacity=\"1\" stroke=\"#ffffff\" stroke-opacity=\"1\" stroke-width=\"3.2\"/>\n",
       "<circle clip-path=\"url(#clip1102)\" cx=\"1336.3\" cy=\"313.899\" r=\"11\" fill=\"#e26f46\" fill-rule=\"evenodd\" fill-opacity=\"1\" stroke=\"#ffffff\" stroke-opacity=\"1\" stroke-width=\"3.2\"/>\n",
       "<circle clip-path=\"url(#clip1102)\" cx=\"1357.05\" cy=\"425.117\" r=\"14\" fill=\"#000000\" fill-rule=\"evenodd\" fill-opacity=\"1\" stroke=\"#ffffff\" stroke-opacity=\"1\" stroke-width=\"3.2\"/>\n",
       "<circle clip-path=\"url(#clip1102)\" cx=\"1357.05\" cy=\"425.117\" r=\"11\" fill=\"#e26f46\" fill-rule=\"evenodd\" fill-opacity=\"1\" stroke=\"#ffffff\" stroke-opacity=\"1\" stroke-width=\"3.2\"/>\n",
       "<circle clip-path=\"url(#clip1102)\" cx=\"1377.79\" cy=\"548.059\" r=\"14\" fill=\"#000000\" fill-rule=\"evenodd\" fill-opacity=\"1\" stroke=\"#ffffff\" stroke-opacity=\"1\" stroke-width=\"3.2\"/>\n",
       "<circle clip-path=\"url(#clip1102)\" cx=\"1377.79\" cy=\"548.059\" r=\"11\" fill=\"#e26f46\" fill-rule=\"evenodd\" fill-opacity=\"1\" stroke=\"#ffffff\" stroke-opacity=\"1\" stroke-width=\"3.2\"/>\n",
       "<circle clip-path=\"url(#clip1102)\" cx=\"1398.53\" cy=\"676.234\" r=\"14\" fill=\"#000000\" fill-rule=\"evenodd\" fill-opacity=\"1\" stroke=\"#ffffff\" stroke-opacity=\"1\" stroke-width=\"3.2\"/>\n",
       "<circle clip-path=\"url(#clip1102)\" cx=\"1398.53\" cy=\"676.234\" r=\"11\" fill=\"#e26f46\" fill-rule=\"evenodd\" fill-opacity=\"1\" stroke=\"#ffffff\" stroke-opacity=\"1\" stroke-width=\"3.2\"/>\n",
       "<circle clip-path=\"url(#clip1102)\" cx=\"1419.28\" cy=\"802.888\" r=\"14\" fill=\"#000000\" fill-rule=\"evenodd\" fill-opacity=\"1\" stroke=\"#ffffff\" stroke-opacity=\"1\" stroke-width=\"3.2\"/>\n",
       "<circle clip-path=\"url(#clip1102)\" cx=\"1419.28\" cy=\"802.888\" r=\"11\" fill=\"#e26f46\" fill-rule=\"evenodd\" fill-opacity=\"1\" stroke=\"#ffffff\" stroke-opacity=\"1\" stroke-width=\"3.2\"/>\n",
       "<circle clip-path=\"url(#clip1102)\" cx=\"1440.02\" cy=\"924.588\" r=\"14\" fill=\"#000000\" fill-rule=\"evenodd\" fill-opacity=\"1\" stroke=\"#ffffff\" stroke-opacity=\"1\" stroke-width=\"3.2\"/>\n",
       "<circle clip-path=\"url(#clip1102)\" cx=\"1440.02\" cy=\"924.588\" r=\"11\" fill=\"#e26f46\" fill-rule=\"evenodd\" fill-opacity=\"1\" stroke=\"#ffffff\" stroke-opacity=\"1\" stroke-width=\"3.2\"/>\n",
       "<circle clip-path=\"url(#clip1102)\" cx=\"1460.77\" cy=\"1035.84\" r=\"14\" fill=\"#000000\" fill-rule=\"evenodd\" fill-opacity=\"1\" stroke=\"#ffffff\" stroke-opacity=\"1\" stroke-width=\"3.2\"/>\n",
       "<circle clip-path=\"url(#clip1102)\" cx=\"1460.77\" cy=\"1035.84\" r=\"11\" fill=\"#e26f46\" fill-rule=\"evenodd\" fill-opacity=\"1\" stroke=\"#ffffff\" stroke-opacity=\"1\" stroke-width=\"3.2\"/>\n",
       "<circle clip-path=\"url(#clip1102)\" cx=\"1481.51\" cy=\"1134.41\" r=\"14\" fill=\"#000000\" fill-rule=\"evenodd\" fill-opacity=\"1\" stroke=\"#ffffff\" stroke-opacity=\"1\" stroke-width=\"3.2\"/>\n",
       "<circle clip-path=\"url(#clip1102)\" cx=\"1481.51\" cy=\"1134.41\" r=\"11\" fill=\"#e26f46\" fill-rule=\"evenodd\" fill-opacity=\"1\" stroke=\"#ffffff\" stroke-opacity=\"1\" stroke-width=\"3.2\"/>\n",
       "<circle clip-path=\"url(#clip1102)\" cx=\"1502.25\" cy=\"1218.34\" r=\"14\" fill=\"#000000\" fill-rule=\"evenodd\" fill-opacity=\"1\" stroke=\"#ffffff\" stroke-opacity=\"1\" stroke-width=\"3.2\"/>\n",
       "<circle clip-path=\"url(#clip1102)\" cx=\"1502.25\" cy=\"1218.34\" r=\"11\" fill=\"#e26f46\" fill-rule=\"evenodd\" fill-opacity=\"1\" stroke=\"#ffffff\" stroke-opacity=\"1\" stroke-width=\"3.2\"/>\n",
       "<circle clip-path=\"url(#clip1102)\" cx=\"1523\" cy=\"1286.63\" r=\"14\" fill=\"#000000\" fill-rule=\"evenodd\" fill-opacity=\"1\" stroke=\"#ffffff\" stroke-opacity=\"1\" stroke-width=\"3.2\"/>\n",
       "<circle clip-path=\"url(#clip1102)\" cx=\"1523\" cy=\"1286.63\" r=\"11\" fill=\"#e26f46\" fill-rule=\"evenodd\" fill-opacity=\"1\" stroke=\"#ffffff\" stroke-opacity=\"1\" stroke-width=\"3.2\"/>\n",
       "<circle clip-path=\"url(#clip1102)\" cx=\"1543.74\" cy=\"1341.01\" r=\"14\" fill=\"#000000\" fill-rule=\"evenodd\" fill-opacity=\"1\" stroke=\"#ffffff\" stroke-opacity=\"1\" stroke-width=\"3.2\"/>\n",
       "<circle clip-path=\"url(#clip1102)\" cx=\"1543.74\" cy=\"1341.01\" r=\"11\" fill=\"#e26f46\" fill-rule=\"evenodd\" fill-opacity=\"1\" stroke=\"#ffffff\" stroke-opacity=\"1\" stroke-width=\"3.2\"/>\n",
       "<circle clip-path=\"url(#clip1102)\" cx=\"1564.49\" cy=\"1381.63\" r=\"14\" fill=\"#000000\" fill-rule=\"evenodd\" fill-opacity=\"1\" stroke=\"#ffffff\" stroke-opacity=\"1\" stroke-width=\"3.2\"/>\n",
       "<circle clip-path=\"url(#clip1102)\" cx=\"1564.49\" cy=\"1381.63\" r=\"11\" fill=\"#e26f46\" fill-rule=\"evenodd\" fill-opacity=\"1\" stroke=\"#ffffff\" stroke-opacity=\"1\" stroke-width=\"3.2\"/>\n",
       "<circle clip-path=\"url(#clip1102)\" cx=\"1585.23\" cy=\"1409.89\" r=\"14\" fill=\"#000000\" fill-rule=\"evenodd\" fill-opacity=\"1\" stroke=\"#ffffff\" stroke-opacity=\"1\" stroke-width=\"3.2\"/>\n",
       "<circle clip-path=\"url(#clip1102)\" cx=\"1585.23\" cy=\"1409.89\" r=\"11\" fill=\"#e26f46\" fill-rule=\"evenodd\" fill-opacity=\"1\" stroke=\"#ffffff\" stroke-opacity=\"1\" stroke-width=\"3.2\"/>\n",
       "<circle clip-path=\"url(#clip1102)\" cx=\"1605.97\" cy=\"1429.73\" r=\"14\" fill=\"#000000\" fill-rule=\"evenodd\" fill-opacity=\"1\" stroke=\"#ffffff\" stroke-opacity=\"1\" stroke-width=\"3.2\"/>\n",
       "<circle clip-path=\"url(#clip1102)\" cx=\"1605.97\" cy=\"1429.73\" r=\"11\" fill=\"#e26f46\" fill-rule=\"evenodd\" fill-opacity=\"1\" stroke=\"#ffffff\" stroke-opacity=\"1\" stroke-width=\"3.2\"/>\n",
       "<circle clip-path=\"url(#clip1102)\" cx=\"1626.72\" cy=\"1440.05\" r=\"14\" fill=\"#000000\" fill-rule=\"evenodd\" fill-opacity=\"1\" stroke=\"#ffffff\" stroke-opacity=\"1\" stroke-width=\"3.2\"/>\n",
       "<circle clip-path=\"url(#clip1102)\" cx=\"1626.72\" cy=\"1440.05\" r=\"11\" fill=\"#e26f46\" fill-rule=\"evenodd\" fill-opacity=\"1\" stroke=\"#ffffff\" stroke-opacity=\"1\" stroke-width=\"3.2\"/>\n",
       "<circle clip-path=\"url(#clip1102)\" cx=\"1647.46\" cy=\"1444.87\" r=\"14\" fill=\"#000000\" fill-rule=\"evenodd\" fill-opacity=\"1\" stroke=\"#ffffff\" stroke-opacity=\"1\" stroke-width=\"3.2\"/>\n",
       "<circle clip-path=\"url(#clip1102)\" cx=\"1647.46\" cy=\"1444.87\" r=\"11\" fill=\"#e26f46\" fill-rule=\"evenodd\" fill-opacity=\"1\" stroke=\"#ffffff\" stroke-opacity=\"1\" stroke-width=\"3.2\"/>\n",
       "<circle clip-path=\"url(#clip1102)\" cx=\"1668.21\" cy=\"1446.71\" r=\"14\" fill=\"#000000\" fill-rule=\"evenodd\" fill-opacity=\"1\" stroke=\"#ffffff\" stroke-opacity=\"1\" stroke-width=\"3.2\"/>\n",
       "<circle clip-path=\"url(#clip1102)\" cx=\"1668.21\" cy=\"1446.71\" r=\"11\" fill=\"#e26f46\" fill-rule=\"evenodd\" fill-opacity=\"1\" stroke=\"#ffffff\" stroke-opacity=\"1\" stroke-width=\"3.2\"/>\n",
       "<circle clip-path=\"url(#clip1102)\" cx=\"1688.95\" cy=\"1444.5\" r=\"14\" fill=\"#000000\" fill-rule=\"evenodd\" fill-opacity=\"1\" stroke=\"#ffffff\" stroke-opacity=\"1\" stroke-width=\"3.2\"/>\n",
       "<circle clip-path=\"url(#clip1102)\" cx=\"1688.95\" cy=\"1444.5\" r=\"11\" fill=\"#e26f46\" fill-rule=\"evenodd\" fill-opacity=\"1\" stroke=\"#ffffff\" stroke-opacity=\"1\" stroke-width=\"3.2\"/>\n",
       "<circle clip-path=\"url(#clip1102)\" cx=\"1709.69\" cy=\"1441.41\" r=\"14\" fill=\"#000000\" fill-rule=\"evenodd\" fill-opacity=\"1\" stroke=\"#ffffff\" stroke-opacity=\"1\" stroke-width=\"3.2\"/>\n",
       "<circle clip-path=\"url(#clip1102)\" cx=\"1709.69\" cy=\"1441.41\" r=\"11\" fill=\"#e26f46\" fill-rule=\"evenodd\" fill-opacity=\"1\" stroke=\"#ffffff\" stroke-opacity=\"1\" stroke-width=\"3.2\"/>\n",
       "<circle clip-path=\"url(#clip1102)\" cx=\"1730.44\" cy=\"1436.91\" r=\"14\" fill=\"#000000\" fill-rule=\"evenodd\" fill-opacity=\"1\" stroke=\"#ffffff\" stroke-opacity=\"1\" stroke-width=\"3.2\"/>\n",
       "<circle clip-path=\"url(#clip1102)\" cx=\"1730.44\" cy=\"1436.91\" r=\"11\" fill=\"#e26f46\" fill-rule=\"evenodd\" fill-opacity=\"1\" stroke=\"#ffffff\" stroke-opacity=\"1\" stroke-width=\"3.2\"/>\n",
       "<circle clip-path=\"url(#clip1102)\" cx=\"1751.18\" cy=\"1433.66\" r=\"14\" fill=\"#000000\" fill-rule=\"evenodd\" fill-opacity=\"1\" stroke=\"#ffffff\" stroke-opacity=\"1\" stroke-width=\"3.2\"/>\n",
       "<circle clip-path=\"url(#clip1102)\" cx=\"1751.18\" cy=\"1433.66\" r=\"11\" fill=\"#e26f46\" fill-rule=\"evenodd\" fill-opacity=\"1\" stroke=\"#ffffff\" stroke-opacity=\"1\" stroke-width=\"3.2\"/>\n",
       "<circle clip-path=\"url(#clip1102)\" cx=\"1771.93\" cy=\"1430.43\" r=\"14\" fill=\"#000000\" fill-rule=\"evenodd\" fill-opacity=\"1\" stroke=\"#ffffff\" stroke-opacity=\"1\" stroke-width=\"3.2\"/>\n",
       "<circle clip-path=\"url(#clip1102)\" cx=\"1771.93\" cy=\"1430.43\" r=\"11\" fill=\"#e26f46\" fill-rule=\"evenodd\" fill-opacity=\"1\" stroke=\"#ffffff\" stroke-opacity=\"1\" stroke-width=\"3.2\"/>\n",
       "<circle clip-path=\"url(#clip1102)\" cx=\"1792.67\" cy=\"1426.87\" r=\"14\" fill=\"#000000\" fill-rule=\"evenodd\" fill-opacity=\"1\" stroke=\"#ffffff\" stroke-opacity=\"1\" stroke-width=\"3.2\"/>\n",
       "<circle clip-path=\"url(#clip1102)\" cx=\"1792.67\" cy=\"1426.87\" r=\"11\" fill=\"#e26f46\" fill-rule=\"evenodd\" fill-opacity=\"1\" stroke=\"#ffffff\" stroke-opacity=\"1\" stroke-width=\"3.2\"/>\n",
       "<circle clip-path=\"url(#clip1102)\" cx=\"1813.41\" cy=\"1424.35\" r=\"14\" fill=\"#000000\" fill-rule=\"evenodd\" fill-opacity=\"1\" stroke=\"#ffffff\" stroke-opacity=\"1\" stroke-width=\"3.2\"/>\n",
       "<circle clip-path=\"url(#clip1102)\" cx=\"1813.41\" cy=\"1424.35\" r=\"11\" fill=\"#e26f46\" fill-rule=\"evenodd\" fill-opacity=\"1\" stroke=\"#ffffff\" stroke-opacity=\"1\" stroke-width=\"3.2\"/>\n",
       "<circle clip-path=\"url(#clip1102)\" cx=\"1834.16\" cy=\"1422.61\" r=\"14\" fill=\"#000000\" fill-rule=\"evenodd\" fill-opacity=\"1\" stroke=\"#ffffff\" stroke-opacity=\"1\" stroke-width=\"3.2\"/>\n",
       "<circle clip-path=\"url(#clip1102)\" cx=\"1834.16\" cy=\"1422.61\" r=\"11\" fill=\"#e26f46\" fill-rule=\"evenodd\" fill-opacity=\"1\" stroke=\"#ffffff\" stroke-opacity=\"1\" stroke-width=\"3.2\"/>\n",
       "<circle clip-path=\"url(#clip1102)\" cx=\"1854.9\" cy=\"1420.06\" r=\"14\" fill=\"#000000\" fill-rule=\"evenodd\" fill-opacity=\"1\" stroke=\"#ffffff\" stroke-opacity=\"1\" stroke-width=\"3.2\"/>\n",
       "<circle clip-path=\"url(#clip1102)\" cx=\"1854.9\" cy=\"1420.06\" r=\"11\" fill=\"#e26f46\" fill-rule=\"evenodd\" fill-opacity=\"1\" stroke=\"#ffffff\" stroke-opacity=\"1\" stroke-width=\"3.2\"/>\n",
       "<circle clip-path=\"url(#clip1102)\" cx=\"1875.65\" cy=\"1419.65\" r=\"14\" fill=\"#000000\" fill-rule=\"evenodd\" fill-opacity=\"1\" stroke=\"#ffffff\" stroke-opacity=\"1\" stroke-width=\"3.2\"/>\n",
       "<circle clip-path=\"url(#clip1102)\" cx=\"1875.65\" cy=\"1419.65\" r=\"11\" fill=\"#e26f46\" fill-rule=\"evenodd\" fill-opacity=\"1\" stroke=\"#ffffff\" stroke-opacity=\"1\" stroke-width=\"3.2\"/>\n",
       "<circle clip-path=\"url(#clip1102)\" cx=\"1896.39\" cy=\"1417.94\" r=\"14\" fill=\"#000000\" fill-rule=\"evenodd\" fill-opacity=\"1\" stroke=\"#ffffff\" stroke-opacity=\"1\" stroke-width=\"3.2\"/>\n",
       "<circle clip-path=\"url(#clip1102)\" cx=\"1896.39\" cy=\"1417.94\" r=\"11\" fill=\"#e26f46\" fill-rule=\"evenodd\" fill-opacity=\"1\" stroke=\"#ffffff\" stroke-opacity=\"1\" stroke-width=\"3.2\"/>\n",
       "<circle clip-path=\"url(#clip1102)\" cx=\"1917.13\" cy=\"1417.87\" r=\"14\" fill=\"#000000\" fill-rule=\"evenodd\" fill-opacity=\"1\" stroke=\"#ffffff\" stroke-opacity=\"1\" stroke-width=\"3.2\"/>\n",
       "<circle clip-path=\"url(#clip1102)\" cx=\"1917.13\" cy=\"1417.87\" r=\"11\" fill=\"#e26f46\" fill-rule=\"evenodd\" fill-opacity=\"1\" stroke=\"#ffffff\" stroke-opacity=\"1\" stroke-width=\"3.2\"/>\n",
       "<circle clip-path=\"url(#clip1102)\" cx=\"1937.88\" cy=\"1418.03\" r=\"14\" fill=\"#000000\" fill-rule=\"evenodd\" fill-opacity=\"1\" stroke=\"#ffffff\" stroke-opacity=\"1\" stroke-width=\"3.2\"/>\n",
       "<circle clip-path=\"url(#clip1102)\" cx=\"1937.88\" cy=\"1418.03\" r=\"11\" fill=\"#e26f46\" fill-rule=\"evenodd\" fill-opacity=\"1\" stroke=\"#ffffff\" stroke-opacity=\"1\" stroke-width=\"3.2\"/>\n",
       "<circle clip-path=\"url(#clip1102)\" cx=\"1958.62\" cy=\"1417.06\" r=\"14\" fill=\"#000000\" fill-rule=\"evenodd\" fill-opacity=\"1\" stroke=\"#ffffff\" stroke-opacity=\"1\" stroke-width=\"3.2\"/>\n",
       "<circle clip-path=\"url(#clip1102)\" cx=\"1958.62\" cy=\"1417.06\" r=\"11\" fill=\"#e26f46\" fill-rule=\"evenodd\" fill-opacity=\"1\" stroke=\"#ffffff\" stroke-opacity=\"1\" stroke-width=\"3.2\"/>\n",
       "<circle clip-path=\"url(#clip1102)\" cx=\"1979.36\" cy=\"1417.41\" r=\"14\" fill=\"#000000\" fill-rule=\"evenodd\" fill-opacity=\"1\" stroke=\"#ffffff\" stroke-opacity=\"1\" stroke-width=\"3.2\"/>\n",
       "<circle clip-path=\"url(#clip1102)\" cx=\"1979.36\" cy=\"1417.41\" r=\"11\" fill=\"#e26f46\" fill-rule=\"evenodd\" fill-opacity=\"1\" stroke=\"#ffffff\" stroke-opacity=\"1\" stroke-width=\"3.2\"/>\n",
       "<circle clip-path=\"url(#clip1102)\" cx=\"2000.11\" cy=\"1417.48\" r=\"14\" fill=\"#000000\" fill-rule=\"evenodd\" fill-opacity=\"1\" stroke=\"#ffffff\" stroke-opacity=\"1\" stroke-width=\"3.2\"/>\n",
       "<circle clip-path=\"url(#clip1102)\" cx=\"2000.11\" cy=\"1417.48\" r=\"11\" fill=\"#e26f46\" fill-rule=\"evenodd\" fill-opacity=\"1\" stroke=\"#ffffff\" stroke-opacity=\"1\" stroke-width=\"3.2\"/>\n",
       "<circle clip-path=\"url(#clip1102)\" cx=\"2020.85\" cy=\"1416.91\" r=\"14\" fill=\"#000000\" fill-rule=\"evenodd\" fill-opacity=\"1\" stroke=\"#ffffff\" stroke-opacity=\"1\" stroke-width=\"3.2\"/>\n",
       "<circle clip-path=\"url(#clip1102)\" cx=\"2020.85\" cy=\"1416.91\" r=\"11\" fill=\"#e26f46\" fill-rule=\"evenodd\" fill-opacity=\"1\" stroke=\"#ffffff\" stroke-opacity=\"1\" stroke-width=\"3.2\"/>\n",
       "<circle clip-path=\"url(#clip1102)\" cx=\"2041.6\" cy=\"1416.6\" r=\"14\" fill=\"#000000\" fill-rule=\"evenodd\" fill-opacity=\"1\" stroke=\"#ffffff\" stroke-opacity=\"1\" stroke-width=\"3.2\"/>\n",
       "<circle clip-path=\"url(#clip1102)\" cx=\"2041.6\" cy=\"1416.6\" r=\"11\" fill=\"#e26f46\" fill-rule=\"evenodd\" fill-opacity=\"1\" stroke=\"#ffffff\" stroke-opacity=\"1\" stroke-width=\"3.2\"/>\n",
       "<circle clip-path=\"url(#clip1102)\" cx=\"2062.34\" cy=\"1416.85\" r=\"14\" fill=\"#000000\" fill-rule=\"evenodd\" fill-opacity=\"1\" stroke=\"#ffffff\" stroke-opacity=\"1\" stroke-width=\"3.2\"/>\n",
       "<circle clip-path=\"url(#clip1102)\" cx=\"2062.34\" cy=\"1416.85\" r=\"11\" fill=\"#e26f46\" fill-rule=\"evenodd\" fill-opacity=\"1\" stroke=\"#ffffff\" stroke-opacity=\"1\" stroke-width=\"3.2\"/>\n",
       "<circle clip-path=\"url(#clip1102)\" cx=\"2083.08\" cy=\"1416.83\" r=\"14\" fill=\"#000000\" fill-rule=\"evenodd\" fill-opacity=\"1\" stroke=\"#ffffff\" stroke-opacity=\"1\" stroke-width=\"3.2\"/>\n",
       "<circle clip-path=\"url(#clip1102)\" cx=\"2083.08\" cy=\"1416.83\" r=\"11\" fill=\"#e26f46\" fill-rule=\"evenodd\" fill-opacity=\"1\" stroke=\"#ffffff\" stroke-opacity=\"1\" stroke-width=\"3.2\"/>\n",
       "<circle clip-path=\"url(#clip1102)\" cx=\"2103.83\" cy=\"1416.75\" r=\"14\" fill=\"#000000\" fill-rule=\"evenodd\" fill-opacity=\"1\" stroke=\"#ffffff\" stroke-opacity=\"1\" stroke-width=\"3.2\"/>\n",
       "<circle clip-path=\"url(#clip1102)\" cx=\"2103.83\" cy=\"1416.75\" r=\"11\" fill=\"#e26f46\" fill-rule=\"evenodd\" fill-opacity=\"1\" stroke=\"#ffffff\" stroke-opacity=\"1\" stroke-width=\"3.2\"/>\n",
       "<circle clip-path=\"url(#clip1102)\" cx=\"2124.57\" cy=\"1416.74\" r=\"14\" fill=\"#000000\" fill-rule=\"evenodd\" fill-opacity=\"1\" stroke=\"#ffffff\" stroke-opacity=\"1\" stroke-width=\"3.2\"/>\n",
       "<circle clip-path=\"url(#clip1102)\" cx=\"2124.57\" cy=\"1416.74\" r=\"11\" fill=\"#e26f46\" fill-rule=\"evenodd\" fill-opacity=\"1\" stroke=\"#ffffff\" stroke-opacity=\"1\" stroke-width=\"3.2\"/>\n",
       "<circle clip-path=\"url(#clip1102)\" cx=\"2145.32\" cy=\"1417.24\" r=\"14\" fill=\"#000000\" fill-rule=\"evenodd\" fill-opacity=\"1\" stroke=\"#ffffff\" stroke-opacity=\"1\" stroke-width=\"3.2\"/>\n",
       "<circle clip-path=\"url(#clip1102)\" cx=\"2145.32\" cy=\"1417.24\" r=\"11\" fill=\"#e26f46\" fill-rule=\"evenodd\" fill-opacity=\"1\" stroke=\"#ffffff\" stroke-opacity=\"1\" stroke-width=\"3.2\"/>\n",
       "<circle clip-path=\"url(#clip1102)\" cx=\"2166.06\" cy=\"1416.64\" r=\"14\" fill=\"#000000\" fill-rule=\"evenodd\" fill-opacity=\"1\" stroke=\"#ffffff\" stroke-opacity=\"1\" stroke-width=\"3.2\"/>\n",
       "<circle clip-path=\"url(#clip1102)\" cx=\"2166.06\" cy=\"1416.64\" r=\"11\" fill=\"#e26f46\" fill-rule=\"evenodd\" fill-opacity=\"1\" stroke=\"#ffffff\" stroke-opacity=\"1\" stroke-width=\"3.2\"/>\n",
       "<circle clip-path=\"url(#clip1102)\" cx=\"2186.8\" cy=\"1416.81\" r=\"14\" fill=\"#000000\" fill-rule=\"evenodd\" fill-opacity=\"1\" stroke=\"#ffffff\" stroke-opacity=\"1\" stroke-width=\"3.2\"/>\n",
       "<circle clip-path=\"url(#clip1102)\" cx=\"2186.8\" cy=\"1416.81\" r=\"11\" fill=\"#e26f46\" fill-rule=\"evenodd\" fill-opacity=\"1\" stroke=\"#ffffff\" stroke-opacity=\"1\" stroke-width=\"3.2\"/>\n",
       "<circle clip-path=\"url(#clip1102)\" cx=\"2207.55\" cy=\"1416.78\" r=\"14\" fill=\"#000000\" fill-rule=\"evenodd\" fill-opacity=\"1\" stroke=\"#ffffff\" stroke-opacity=\"1\" stroke-width=\"3.2\"/>\n",
       "<circle clip-path=\"url(#clip1102)\" cx=\"2207.55\" cy=\"1416.78\" r=\"11\" fill=\"#e26f46\" fill-rule=\"evenodd\" fill-opacity=\"1\" stroke=\"#ffffff\" stroke-opacity=\"1\" stroke-width=\"3.2\"/>\n",
       "<circle clip-path=\"url(#clip1102)\" cx=\"2228.29\" cy=\"1417.22\" r=\"14\" fill=\"#000000\" fill-rule=\"evenodd\" fill-opacity=\"1\" stroke=\"#ffffff\" stroke-opacity=\"1\" stroke-width=\"3.2\"/>\n",
       "<circle clip-path=\"url(#clip1102)\" cx=\"2228.29\" cy=\"1417.22\" r=\"11\" fill=\"#e26f46\" fill-rule=\"evenodd\" fill-opacity=\"1\" stroke=\"#ffffff\" stroke-opacity=\"1\" stroke-width=\"3.2\"/>\n",
       "<circle clip-path=\"url(#clip1102)\" cx=\"2249.04\" cy=\"1416.7\" r=\"14\" fill=\"#000000\" fill-rule=\"evenodd\" fill-opacity=\"1\" stroke=\"#ffffff\" stroke-opacity=\"1\" stroke-width=\"3.2\"/>\n",
       "<circle clip-path=\"url(#clip1102)\" cx=\"2249.04\" cy=\"1416.7\" r=\"11\" fill=\"#e26f46\" fill-rule=\"evenodd\" fill-opacity=\"1\" stroke=\"#ffffff\" stroke-opacity=\"1\" stroke-width=\"3.2\"/>\n",
       "<circle clip-path=\"url(#clip1102)\" cx=\"2269.78\" cy=\"1416.79\" r=\"14\" fill=\"#000000\" fill-rule=\"evenodd\" fill-opacity=\"1\" stroke=\"#ffffff\" stroke-opacity=\"1\" stroke-width=\"3.2\"/>\n",
       "<circle clip-path=\"url(#clip1102)\" cx=\"2269.78\" cy=\"1416.79\" r=\"11\" fill=\"#e26f46\" fill-rule=\"evenodd\" fill-opacity=\"1\" stroke=\"#ffffff\" stroke-opacity=\"1\" stroke-width=\"3.2\"/>\n",
       "<circle clip-path=\"url(#clip1102)\" cx=\"2290.52\" cy=\"1417.04\" r=\"14\" fill=\"#000000\" fill-rule=\"evenodd\" fill-opacity=\"1\" stroke=\"#ffffff\" stroke-opacity=\"1\" stroke-width=\"3.2\"/>\n",
       "<circle clip-path=\"url(#clip1102)\" cx=\"2290.52\" cy=\"1417.04\" r=\"11\" fill=\"#e26f46\" fill-rule=\"evenodd\" fill-opacity=\"1\" stroke=\"#ffffff\" stroke-opacity=\"1\" stroke-width=\"3.2\"/>\n",
       "<path clip-path=\"url(#clip1100)\" d=\"\n",
       "M1832.1 312.204 L2280.76 312.204 L2280.76 130.764 L1832.1 130.764  Z\n",
       "  \" fill=\"#ffffff\" fill-rule=\"evenodd\" fill-opacity=\"1\"/>\n",
       "<polyline clip-path=\"url(#clip1100)\" style=\"stroke:#000000; stroke-width:3.2; stroke-opacity:1; fill:none\" points=\"\n",
       "  1832.1,312.204 2280.76,312.204 2280.76,130.764 1832.1,130.764 1832.1,312.204 \n",
       "  \"/>\n",
       "<polyline clip-path=\"url(#clip1100)\" style=\"stroke:#009af9; stroke-width:6.4; stroke-opacity:1; fill:none\" points=\"\n",
       "  1856.1,191.244 2000.1,191.244 \n",
       "  \"/>\n",
       "<g clip-path=\"url(#clip1100)\">\n",
       "<text style=\"fill:#000000; fill-opacity:1; font-family:Arial,Helvetica Neue,Helvetica,sans-serif; font-size:48px; text-anchor:start;\" transform=\"rotate(0, 2024.1, 208.744)\" x=\"2024.1\" y=\"208.744\">data</text>\n",
       "</g>\n",
       "<circle clip-path=\"url(#clip1100)\" cx=\"1940.1\" cy=\"251.724\" r=\"20\" fill=\"#000000\" fill-rule=\"evenodd\" fill-opacity=\"1\" stroke=\"#ffffff\" stroke-opacity=\"1\" stroke-width=\"3.2\"/>\n",
       "<circle clip-path=\"url(#clip1100)\" cx=\"1940.1\" cy=\"251.724\" r=\"17\" fill=\"#e26f46\" fill-rule=\"evenodd\" fill-opacity=\"1\" stroke=\"#ffffff\" stroke-opacity=\"1\" stroke-width=\"3.2\"/>\n",
       "<g clip-path=\"url(#clip1100)\">\n",
       "<text style=\"fill:#000000; fill-opacity:1; font-family:Arial,Helvetica Neue,Helvetica,sans-serif; font-size:48px; text-anchor:start;\" transform=\"rotate(0, 2024.1, 269.224)\" x=\"2024.1\" y=\"269.224\">prediction</text>\n",
       "</g>\n",
       "</svg>\n"
      ]
     },
     "metadata": {},
     "output_type": "display_data"
    },
    {
     "data": {
      "text/plain": [
       "false"
      ]
     },
     "execution_count": 109,
     "metadata": {},
     "output_type": "execute_result"
    }
   ],
   "source": [
    "cb(res.minimizer, loss_n_ode(res.minimizer)...; doplot=true)"
   ]
  },
  {
   "cell_type": "code",
   "execution_count": null,
   "metadata": {},
   "outputs": [],
   "source": []
  },
  {
   "cell_type": "code",
   "execution_count": 209,
   "metadata": {},
   "outputs": [
    {
     "data": {
      "image/svg+xml": [
       "<?xml version=\"1.0\" encoding=\"utf-8\"?>\n",
       "<svg xmlns=\"http://www.w3.org/2000/svg\" xmlns:xlink=\"http://www.w3.org/1999/xlink\" width=\"600\" height=\"400\" viewBox=\"0 0 2400 1600\">\n",
       "<defs>\n",
       "  <clipPath id=\"clip9900\">\n",
       "    <rect x=\"0\" y=\"0\" width=\"2400\" height=\"1600\"/>\n",
       "  </clipPath>\n",
       "</defs>\n",
       "<path clip-path=\"url(#clip9900)\" d=\"\n",
       "M0 1600 L2400 1600 L2400 0 L0 0  Z\n",
       "  \" fill=\"#ffffff\" fill-rule=\"evenodd\" fill-opacity=\"1\"/>\n",
       "<defs>\n",
       "  <clipPath id=\"clip9901\">\n",
       "    <rect x=\"480\" y=\"0\" width=\"1681\" height=\"1600\"/>\n",
       "  </clipPath>\n",
       "</defs>\n",
       "<path clip-path=\"url(#clip9900)\" d=\"\n",
       "M153.898 1487.47 L2352.76 1487.47 L2352.76 47.2441 L153.898 47.2441  Z\n",
       "  \" fill=\"#ffffff\" fill-rule=\"evenodd\" fill-opacity=\"1\"/>\n",
       "<defs>\n",
       "  <clipPath id=\"clip9902\">\n",
       "    <rect x=\"153\" y=\"47\" width=\"2200\" height=\"1441\"/>\n",
       "  </clipPath>\n",
       "</defs>\n",
       "<polyline clip-path=\"url(#clip9902)\" style=\"stroke:#000000; stroke-width:1.6; stroke-opacity:0.1; fill:none\" points=\"\n",
       "  216.13,1487.47 216.13,47.2441 \n",
       "  \"/>\n",
       "<polyline clip-path=\"url(#clip9902)\" style=\"stroke:#000000; stroke-width:1.6; stroke-opacity:0.1; fill:none\" points=\"\n",
       "  734.728,1487.47 734.728,47.2441 \n",
       "  \"/>\n",
       "<polyline clip-path=\"url(#clip9902)\" style=\"stroke:#000000; stroke-width:1.6; stroke-opacity:0.1; fill:none\" points=\"\n",
       "  1253.33,1487.47 1253.33,47.2441 \n",
       "  \"/>\n",
       "<polyline clip-path=\"url(#clip9902)\" style=\"stroke:#000000; stroke-width:1.6; stroke-opacity:0.1; fill:none\" points=\"\n",
       "  1771.93,1487.47 1771.93,47.2441 \n",
       "  \"/>\n",
       "<polyline clip-path=\"url(#clip9902)\" style=\"stroke:#000000; stroke-width:1.6; stroke-opacity:0.1; fill:none\" points=\"\n",
       "  2290.52,1487.47 2290.52,47.2441 \n",
       "  \"/>\n",
       "<polyline clip-path=\"url(#clip9902)\" style=\"stroke:#000000; stroke-width:1.6; stroke-opacity:0.1; fill:none\" points=\"\n",
       "  153.898,1446.71 2352.76,1446.71 \n",
       "  \"/>\n",
       "<polyline clip-path=\"url(#clip9902)\" style=\"stroke:#000000; stroke-width:1.6; stroke-opacity:0.1; fill:none\" points=\"\n",
       "  153.898,1149.02 2352.76,1149.02 \n",
       "  \"/>\n",
       "<polyline clip-path=\"url(#clip9902)\" style=\"stroke:#000000; stroke-width:1.6; stroke-opacity:0.1; fill:none\" points=\"\n",
       "  153.898,851.329 2352.76,851.329 \n",
       "  \"/>\n",
       "<polyline clip-path=\"url(#clip9902)\" style=\"stroke:#000000; stroke-width:1.6; stroke-opacity:0.1; fill:none\" points=\"\n",
       "  153.898,553.637 2352.76,553.637 \n",
       "  \"/>\n",
       "<polyline clip-path=\"url(#clip9902)\" style=\"stroke:#000000; stroke-width:1.6; stroke-opacity:0.1; fill:none\" points=\"\n",
       "  153.898,255.945 2352.76,255.945 \n",
       "  \"/>\n",
       "<polyline clip-path=\"url(#clip9900)\" style=\"stroke:#000000; stroke-width:3.2; stroke-opacity:1; fill:none\" points=\"\n",
       "  153.898,1487.47 2352.76,1487.47 \n",
       "  \"/>\n",
       "<polyline clip-path=\"url(#clip9900)\" style=\"stroke:#000000; stroke-width:3.2; stroke-opacity:1; fill:none\" points=\"\n",
       "  153.898,1487.47 153.898,47.2441 \n",
       "  \"/>\n",
       "<polyline clip-path=\"url(#clip9900)\" style=\"stroke:#000000; stroke-width:3.2; stroke-opacity:1; fill:none\" points=\"\n",
       "  216.13,1487.47 216.13,1465.87 \n",
       "  \"/>\n",
       "<polyline clip-path=\"url(#clip9900)\" style=\"stroke:#000000; stroke-width:3.2; stroke-opacity:1; fill:none\" points=\"\n",
       "  734.728,1487.47 734.728,1465.87 \n",
       "  \"/>\n",
       "<polyline clip-path=\"url(#clip9900)\" style=\"stroke:#000000; stroke-width:3.2; stroke-opacity:1; fill:none\" points=\"\n",
       "  1253.33,1487.47 1253.33,1465.87 \n",
       "  \"/>\n",
       "<polyline clip-path=\"url(#clip9900)\" style=\"stroke:#000000; stroke-width:3.2; stroke-opacity:1; fill:none\" points=\"\n",
       "  1771.93,1487.47 1771.93,1465.87 \n",
       "  \"/>\n",
       "<polyline clip-path=\"url(#clip9900)\" style=\"stroke:#000000; stroke-width:3.2; stroke-opacity:1; fill:none\" points=\"\n",
       "  2290.52,1487.47 2290.52,1465.87 \n",
       "  \"/>\n",
       "<polyline clip-path=\"url(#clip9900)\" style=\"stroke:#000000; stroke-width:3.2; stroke-opacity:1; fill:none\" points=\"\n",
       "  153.898,1446.71 186.881,1446.71 \n",
       "  \"/>\n",
       "<polyline clip-path=\"url(#clip9900)\" style=\"stroke:#000000; stroke-width:3.2; stroke-opacity:1; fill:none\" points=\"\n",
       "  153.898,1149.02 186.881,1149.02 \n",
       "  \"/>\n",
       "<polyline clip-path=\"url(#clip9900)\" style=\"stroke:#000000; stroke-width:3.2; stroke-opacity:1; fill:none\" points=\"\n",
       "  153.898,851.329 186.881,851.329 \n",
       "  \"/>\n",
       "<polyline clip-path=\"url(#clip9900)\" style=\"stroke:#000000; stroke-width:3.2; stroke-opacity:1; fill:none\" points=\"\n",
       "  153.898,553.637 186.881,553.637 \n",
       "  \"/>\n",
       "<polyline clip-path=\"url(#clip9900)\" style=\"stroke:#000000; stroke-width:3.2; stroke-opacity:1; fill:none\" points=\"\n",
       "  153.898,255.945 186.881,255.945 \n",
       "  \"/>\n",
       "<g clip-path=\"url(#clip9900)\">\n",
       "<text style=\"fill:#000000; fill-opacity:1; font-family:Arial,Helvetica Neue,Helvetica,sans-serif; font-size:48px; text-anchor:middle;\" transform=\"rotate(0, 216.13, 1541.47)\" x=\"216.13\" y=\"1541.47\">0.0</text>\n",
       "</g>\n",
       "<g clip-path=\"url(#clip9900)\">\n",
       "<text style=\"fill:#000000; fill-opacity:1; font-family:Arial,Helvetica Neue,Helvetica,sans-serif; font-size:48px; text-anchor:middle;\" transform=\"rotate(0, 734.728, 1541.47)\" x=\"734.728\" y=\"1541.47\">2.5</text>\n",
       "</g>\n",
       "<g clip-path=\"url(#clip9900)\">\n",
       "<text style=\"fill:#000000; fill-opacity:1; font-family:Arial,Helvetica Neue,Helvetica,sans-serif; font-size:48px; text-anchor:middle;\" transform=\"rotate(0, 1253.33, 1541.47)\" x=\"1253.33\" y=\"1541.47\">5.0</text>\n",
       "</g>\n",
       "<g clip-path=\"url(#clip9900)\">\n",
       "<text style=\"fill:#000000; fill-opacity:1; font-family:Arial,Helvetica Neue,Helvetica,sans-serif; font-size:48px; text-anchor:middle;\" transform=\"rotate(0, 1771.93, 1541.47)\" x=\"1771.93\" y=\"1541.47\">7.5</text>\n",
       "</g>\n",
       "<g clip-path=\"url(#clip9900)\">\n",
       "<text style=\"fill:#000000; fill-opacity:1; font-family:Arial,Helvetica Neue,Helvetica,sans-serif; font-size:48px; text-anchor:middle;\" transform=\"rotate(0, 2290.52, 1541.47)\" x=\"2290.52\" y=\"1541.47\">10.0</text>\n",
       "</g>\n",
       "<g clip-path=\"url(#clip9900)\">\n",
       "<text style=\"fill:#000000; fill-opacity:1; font-family:Arial,Helvetica Neue,Helvetica,sans-serif; font-size:48px; text-anchor:end;\" transform=\"rotate(0, 129.898, 1464.21)\" x=\"129.898\" y=\"1464.21\">0.0</text>\n",
       "</g>\n",
       "<g clip-path=\"url(#clip9900)\">\n",
       "<text style=\"fill:#000000; fill-opacity:1; font-family:Arial,Helvetica Neue,Helvetica,sans-serif; font-size:48px; text-anchor:end;\" transform=\"rotate(0, 129.898, 1166.52)\" x=\"129.898\" y=\"1166.52\">0.1</text>\n",
       "</g>\n",
       "<g clip-path=\"url(#clip9900)\">\n",
       "<text style=\"fill:#000000; fill-opacity:1; font-family:Arial,Helvetica Neue,Helvetica,sans-serif; font-size:48px; text-anchor:end;\" transform=\"rotate(0, 129.898, 868.829)\" x=\"129.898\" y=\"868.829\">0.2</text>\n",
       "</g>\n",
       "<g clip-path=\"url(#clip9900)\">\n",
       "<text style=\"fill:#000000; fill-opacity:1; font-family:Arial,Helvetica Neue,Helvetica,sans-serif; font-size:48px; text-anchor:end;\" transform=\"rotate(0, 129.898, 571.137)\" x=\"129.898\" y=\"571.137\">0.3</text>\n",
       "</g>\n",
       "<g clip-path=\"url(#clip9900)\">\n",
       "<text style=\"fill:#000000; fill-opacity:1; font-family:Arial,Helvetica Neue,Helvetica,sans-serif; font-size:48px; text-anchor:end;\" transform=\"rotate(0, 129.898, 273.445)\" x=\"129.898\" y=\"273.445\">0.4</text>\n",
       "</g>\n",
       "<polyline clip-path=\"url(#clip9902)\" style=\"stroke:#009af9; stroke-width:6.4; stroke-opacity:1; fill:none\" points=\"\n",
       "  216.13,1446.71 446.618,535.239 677.106,235.19 907.595,136.407 1138.08,103.899 1368.57,93.1982 1599.06,89.6723 1829.55,88.5067 2060.04,88.1287 2290.52,88.0053 \n",
       "  \n",
       "  \"/>\n",
       "<path clip-path=\"url(#clip9900)\" d=\"\n",
       "M1947.09 251.724 L2280.76 251.724 L2280.76 130.764 L1947.09 130.764  Z\n",
       "  \" fill=\"#ffffff\" fill-rule=\"evenodd\" fill-opacity=\"1\"/>\n",
       "<polyline clip-path=\"url(#clip9900)\" style=\"stroke:#000000; stroke-width:3.2; stroke-opacity:1; fill:none\" points=\"\n",
       "  1947.09,251.724 2280.76,251.724 2280.76,130.764 1947.09,130.764 1947.09,251.724 \n",
       "  \"/>\n",
       "<polyline clip-path=\"url(#clip9900)\" style=\"stroke:#009af9; stroke-width:6.4; stroke-opacity:1; fill:none\" points=\"\n",
       "  1971.09,191.244 2115.09,191.244 \n",
       "  \"/>\n",
       "<g clip-path=\"url(#clip9900)\">\n",
       "<text style=\"fill:#000000; fill-opacity:1; font-family:Arial,Helvetica Neue,Helvetica,sans-serif; font-size:48px; text-anchor:start;\" transform=\"rotate(0, 2139.09, 208.744)\" x=\"2139.09\" y=\"208.744\">data</text>\n",
       "</g>\n",
       "</svg>\n"
      ]
     },
     "execution_count": 209,
     "metadata": {},
     "output_type": "execute_result"
    }
   ],
   "source": [
    "plot(tRange, ode_data[51,:], lw=2, label=\"data\")"
   ]
  },
  {
   "cell_type": "code",
   "execution_count": 30,
   "metadata": {},
   "outputs": [
    {
     "data": {
      "image/svg+xml": [
       "<?xml version=\"1.0\" encoding=\"utf-8\"?>\n",
       "<svg xmlns=\"http://www.w3.org/2000/svg\" xmlns:xlink=\"http://www.w3.org/1999/xlink\" width=\"600\" height=\"400\" viewBox=\"0 0 2400 1600\">\n",
       "<defs>\n",
       "  <clipPath id=\"clip7100\">\n",
       "    <rect x=\"0\" y=\"0\" width=\"2400\" height=\"1600\"/>\n",
       "  </clipPath>\n",
       "</defs>\n",
       "<path clip-path=\"url(#clip7100)\" d=\"\n",
       "M0 1600 L2400 1600 L2400 0 L0 0  Z\n",
       "  \" fill=\"#ffffff\" fill-rule=\"evenodd\" fill-opacity=\"1\"/>\n",
       "<defs>\n",
       "  <clipPath id=\"clip7101\">\n",
       "    <rect x=\"480\" y=\"0\" width=\"1681\" height=\"1600\"/>\n",
       "  </clipPath>\n",
       "</defs>\n",
       "<path clip-path=\"url(#clip7100)\" d=\"\n",
       "M141.865 1487.47 L2352.76 1487.47 L2352.76 47.2441 L141.865 47.2441  Z\n",
       "  \" fill=\"#ffffff\" fill-rule=\"evenodd\" fill-opacity=\"1\"/>\n",
       "<defs>\n",
       "  <clipPath id=\"clip7102\">\n",
       "    <rect x=\"141\" y=\"47\" width=\"2212\" height=\"1441\"/>\n",
       "  </clipPath>\n",
       "</defs>\n",
       "<polyline clip-path=\"url(#clip7102)\" style=\"stroke:#000000; stroke-width:1.6; stroke-opacity:0.1; fill:none\" points=\"\n",
       "  457.334,1487.47 457.334,47.2441 \n",
       "  \"/>\n",
       "<polyline clip-path=\"url(#clip7102)\" style=\"stroke:#000000; stroke-width:1.6; stroke-opacity:0.1; fill:none\" points=\"\n",
       "  852.322,1487.47 852.322,47.2441 \n",
       "  \"/>\n",
       "<polyline clip-path=\"url(#clip7102)\" style=\"stroke:#000000; stroke-width:1.6; stroke-opacity:0.1; fill:none\" points=\"\n",
       "  1247.31,1487.47 1247.31,47.2441 \n",
       "  \"/>\n",
       "<polyline clip-path=\"url(#clip7102)\" style=\"stroke:#000000; stroke-width:1.6; stroke-opacity:0.1; fill:none\" points=\"\n",
       "  1642.3,1487.47 1642.3,47.2441 \n",
       "  \"/>\n",
       "<polyline clip-path=\"url(#clip7102)\" style=\"stroke:#000000; stroke-width:1.6; stroke-opacity:0.1; fill:none\" points=\"\n",
       "  2037.29,1487.47 2037.29,47.2441 \n",
       "  \"/>\n",
       "<polyline clip-path=\"url(#clip7102)\" style=\"stroke:#000000; stroke-width:1.6; stroke-opacity:0.1; fill:none\" points=\"\n",
       "  141.865,1391.58 2352.76,1391.58 \n",
       "  \"/>\n",
       "<polyline clip-path=\"url(#clip7102)\" style=\"stroke:#000000; stroke-width:1.6; stroke-opacity:0.1; fill:none\" points=\"\n",
       "  141.865,1084.6 2352.76,1084.6 \n",
       "  \"/>\n",
       "<polyline clip-path=\"url(#clip7102)\" style=\"stroke:#000000; stroke-width:1.6; stroke-opacity:0.1; fill:none\" points=\"\n",
       "  141.865,777.621 2352.76,777.621 \n",
       "  \"/>\n",
       "<polyline clip-path=\"url(#clip7102)\" style=\"stroke:#000000; stroke-width:1.6; stroke-opacity:0.1; fill:none\" points=\"\n",
       "  141.865,470.642 2352.76,470.642 \n",
       "  \"/>\n",
       "<polyline clip-path=\"url(#clip7102)\" style=\"stroke:#000000; stroke-width:1.6; stroke-opacity:0.1; fill:none\" points=\"\n",
       "  141.865,163.663 2352.76,163.663 \n",
       "  \"/>\n",
       "<polyline clip-path=\"url(#clip7100)\" style=\"stroke:#000000; stroke-width:3.2; stroke-opacity:1; fill:none\" points=\"\n",
       "  141.865,1487.47 2352.76,1487.47 \n",
       "  \"/>\n",
       "<polyline clip-path=\"url(#clip7100)\" style=\"stroke:#000000; stroke-width:3.2; stroke-opacity:1; fill:none\" points=\"\n",
       "  141.865,1487.47 141.865,47.2441 \n",
       "  \"/>\n",
       "<polyline clip-path=\"url(#clip7100)\" style=\"stroke:#000000; stroke-width:3.2; stroke-opacity:1; fill:none\" points=\"\n",
       "  457.334,1487.47 457.334,1465.87 \n",
       "  \"/>\n",
       "<polyline clip-path=\"url(#clip7100)\" style=\"stroke:#000000; stroke-width:3.2; stroke-opacity:1; fill:none\" points=\"\n",
       "  852.322,1487.47 852.322,1465.87 \n",
       "  \"/>\n",
       "<polyline clip-path=\"url(#clip7100)\" style=\"stroke:#000000; stroke-width:3.2; stroke-opacity:1; fill:none\" points=\"\n",
       "  1247.31,1487.47 1247.31,1465.87 \n",
       "  \"/>\n",
       "<polyline clip-path=\"url(#clip7100)\" style=\"stroke:#000000; stroke-width:3.2; stroke-opacity:1; fill:none\" points=\"\n",
       "  1642.3,1487.47 1642.3,1465.87 \n",
       "  \"/>\n",
       "<polyline clip-path=\"url(#clip7100)\" style=\"stroke:#000000; stroke-width:3.2; stroke-opacity:1; fill:none\" points=\"\n",
       "  2037.29,1487.47 2037.29,1465.87 \n",
       "  \"/>\n",
       "<polyline clip-path=\"url(#clip7100)\" style=\"stroke:#000000; stroke-width:3.2; stroke-opacity:1; fill:none\" points=\"\n",
       "  141.865,1391.58 175.028,1391.58 \n",
       "  \"/>\n",
       "<polyline clip-path=\"url(#clip7100)\" style=\"stroke:#000000; stroke-width:3.2; stroke-opacity:1; fill:none\" points=\"\n",
       "  141.865,1084.6 175.028,1084.6 \n",
       "  \"/>\n",
       "<polyline clip-path=\"url(#clip7100)\" style=\"stroke:#000000; stroke-width:3.2; stroke-opacity:1; fill:none\" points=\"\n",
       "  141.865,777.621 175.028,777.621 \n",
       "  \"/>\n",
       "<polyline clip-path=\"url(#clip7100)\" style=\"stroke:#000000; stroke-width:3.2; stroke-opacity:1; fill:none\" points=\"\n",
       "  141.865,470.642 175.028,470.642 \n",
       "  \"/>\n",
       "<polyline clip-path=\"url(#clip7100)\" style=\"stroke:#000000; stroke-width:3.2; stroke-opacity:1; fill:none\" points=\"\n",
       "  141.865,163.663 175.028,163.663 \n",
       "  \"/>\n",
       "<g clip-path=\"url(#clip7100)\">\n",
       "<text style=\"fill:#000000; fill-opacity:1; font-family:Arial,Helvetica Neue,Helvetica,sans-serif; font-size:48px; text-anchor:middle;\" transform=\"rotate(0, 457.334, 1541.47)\" x=\"457.334\" y=\"1541.47\">-6</text>\n",
       "</g>\n",
       "<g clip-path=\"url(#clip7100)\">\n",
       "<text style=\"fill:#000000; fill-opacity:1; font-family:Arial,Helvetica Neue,Helvetica,sans-serif; font-size:48px; text-anchor:middle;\" transform=\"rotate(0, 852.322, 1541.47)\" x=\"852.322\" y=\"1541.47\">-3</text>\n",
       "</g>\n",
       "<g clip-path=\"url(#clip7100)\">\n",
       "<text style=\"fill:#000000; fill-opacity:1; font-family:Arial,Helvetica Neue,Helvetica,sans-serif; font-size:48px; text-anchor:middle;\" transform=\"rotate(0, 1247.31, 1541.47)\" x=\"1247.31\" y=\"1541.47\">0</text>\n",
       "</g>\n",
       "<g clip-path=\"url(#clip7100)\">\n",
       "<text style=\"fill:#000000; fill-opacity:1; font-family:Arial,Helvetica Neue,Helvetica,sans-serif; font-size:48px; text-anchor:middle;\" transform=\"rotate(0, 1642.3, 1541.47)\" x=\"1642.3\" y=\"1541.47\">3</text>\n",
       "</g>\n",
       "<g clip-path=\"url(#clip7100)\">\n",
       "<text style=\"fill:#000000; fill-opacity:1; font-family:Arial,Helvetica Neue,Helvetica,sans-serif; font-size:48px; text-anchor:middle;\" transform=\"rotate(0, 2037.29, 1541.47)\" x=\"2037.29\" y=\"1541.47\">6</text>\n",
       "</g>\n",
       "<g clip-path=\"url(#clip7100)\">\n",
       "<text style=\"fill:#000000; fill-opacity:1; font-family:Arial,Helvetica Neue,Helvetica,sans-serif; font-size:48px; text-anchor:end;\" transform=\"rotate(0, 117.865, 1409.08)\" x=\"117.865\" y=\"1409.08\">-2</text>\n",
       "</g>\n",
       "<g clip-path=\"url(#clip7100)\">\n",
       "<text style=\"fill:#000000; fill-opacity:1; font-family:Arial,Helvetica Neue,Helvetica,sans-serif; font-size:48px; text-anchor:end;\" transform=\"rotate(0, 117.865, 1102.1)\" x=\"117.865\" y=\"1102.1\">-1</text>\n",
       "</g>\n",
       "<g clip-path=\"url(#clip7100)\">\n",
       "<text style=\"fill:#000000; fill-opacity:1; font-family:Arial,Helvetica Neue,Helvetica,sans-serif; font-size:48px; text-anchor:end;\" transform=\"rotate(0, 117.865, 795.121)\" x=\"117.865\" y=\"795.121\">0</text>\n",
       "</g>\n",
       "<g clip-path=\"url(#clip7100)\">\n",
       "<text style=\"fill:#000000; fill-opacity:1; font-family:Arial,Helvetica Neue,Helvetica,sans-serif; font-size:48px; text-anchor:end;\" transform=\"rotate(0, 117.865, 488.142)\" x=\"117.865\" y=\"488.142\">1</text>\n",
       "</g>\n",
       "<g clip-path=\"url(#clip7100)\">\n",
       "<text style=\"fill:#000000; fill-opacity:1; font-family:Arial,Helvetica Neue,Helvetica,sans-serif; font-size:48px; text-anchor:end;\" transform=\"rotate(0, 117.865, 181.163)\" x=\"117.865\" y=\"181.163\">2</text>\n",
       "</g>\n",
       "<polyline clip-path=\"url(#clip7102)\" style=\"stroke:#009af9; stroke-width:3.2; stroke-opacity:1; fill:none\" points=\"\n",
       "  204.437,440.478 225.294,838.828 246.152,894.209 267.009,535.705 287.867,507.724 308.724,1099.63 329.582,1068.79 350.439,895.372 371.297,578.902 392.154,782.431 \n",
       "  413.012,750.639 433.869,299.016 454.727,1446.71 475.584,1163.78 496.441,760.292 517.299,589.117 538.156,880.74 559.014,1061.63 579.871,815.733 600.729,919.087 \n",
       "  621.586,889.256 642.444,179.674 663.301,1184.65 684.159,936.92 705.016,497.506 725.874,1088.76 746.731,1416.13 767.589,953.013 788.446,1242.76 809.303,845.747 \n",
       "  830.161,1085.06 851.018,1213.9 871.876,524.018 892.733,371.432 913.591,857.301 934.448,747.693 955.306,1020.21 976.163,1093.98 997.021,338.381 1017.88,249.733 \n",
       "  1038.74,393.656 1059.59,692.743 1080.45,620.866 1101.31,432.625 1122.17,381.238 1143.02,304.472 1163.88,370.455 1184.74,275.197 1205.6,609.482 1226.45,810.694 \n",
       "  1247.31,1030.3 1268.17,623.622 1289.03,414.302 1309.88,439.432 1330.74,684.769 1351.6,784.973 1372.46,266.175 1393.31,232.352 1414.17,1075.34 1435.03,88.0053 \n",
       "  1455.88,829.14 1476.74,1059.29 1497.6,1024.2 1518.46,1306.17 1539.31,582.197 1560.17,370.535 1581.03,439.776 1601.89,584.53 1622.74,825.958 1643.6,711.993 \n",
       "  1664.46,983.356 1685.32,578.72 1706.17,526.098 1727.03,1189.26 1747.89,309.519 1768.75,418.68 1789.6,808.854 1810.46,954.538 1831.32,396.388 1852.18,1164.85 \n",
       "  1873.03,1061.09 1893.89,512.687 1914.75,863.568 1935.61,1055.36 1956.46,1016.9 1977.32,856.841 1998.18,1086.64 2019.04,810.902 2039.89,1297.3 2060.75,951.766 \n",
       "  2081.61,755.429 2102.47,531.657 2123.32,756.031 2144.18,907.396 2165.04,919.071 2185.9,1028.89 2206.75,793.088 2227.61,837.367 2248.47,1171.33 2269.33,1118.41 \n",
       "  2290.18,977.827 \n",
       "  \"/>\n",
       "<path clip-path=\"url(#clip7100)\" d=\"\n",
       "M1989.93 251.724 L2280.76 251.724 L2280.76 130.764 L1989.93 130.764  Z\n",
       "  \" fill=\"#ffffff\" fill-rule=\"evenodd\" fill-opacity=\"1\"/>\n",
       "<polyline clip-path=\"url(#clip7100)\" style=\"stroke:#000000; stroke-width:3.2; stroke-opacity:1; fill:none\" points=\"\n",
       "  1989.93,251.724 2280.76,251.724 2280.76,130.764 1989.93,130.764 1989.93,251.724 \n",
       "  \"/>\n",
       "<polyline clip-path=\"url(#clip7100)\" style=\"stroke:#009af9; stroke-width:3.2; stroke-opacity:1; fill:none\" points=\"\n",
       "  2013.93,191.244 2157.93,191.244 \n",
       "  \"/>\n",
       "<g clip-path=\"url(#clip7100)\">\n",
       "<text style=\"fill:#000000; fill-opacity:1; font-family:Arial,Helvetica Neue,Helvetica,sans-serif; font-size:48px; text-anchor:start;\" transform=\"rotate(0, 2181.93, 208.744)\" x=\"2181.93\" y=\"208.744\">y1</text>\n",
       "</g>\n",
       "</svg>\n"
      ]
     },
     "execution_count": 30,
     "metadata": {},
     "output_type": "execute_result"
    }
   ],
   "source": [
    "plot(vSpace.u, predict_n_ode(f0, res.minimizer).u[2])"
   ]
  },
  {
   "cell_type": "code",
   "execution_count": 247,
   "metadata": {},
   "outputs": [
    {
     "data": {
      "image/svg+xml": [
       "<?xml version=\"1.0\" encoding=\"utf-8\"?>\n",
       "<svg xmlns=\"http://www.w3.org/2000/svg\" xmlns:xlink=\"http://www.w3.org/1999/xlink\" width=\"600\" height=\"400\" viewBox=\"0 0 2400 1600\">\n",
       "<defs>\n",
       "  <clipPath id=\"clip7900\">\n",
       "    <rect x=\"0\" y=\"0\" width=\"2400\" height=\"1600\"/>\n",
       "  </clipPath>\n",
       "</defs>\n",
       "<path clip-path=\"url(#clip7900)\" d=\"\n",
       "M0 1600 L2400 1600 L2400 0 L0 0  Z\n",
       "  \" fill=\"#ffffff\" fill-rule=\"evenodd\" fill-opacity=\"1\"/>\n",
       "<defs>\n",
       "  <clipPath id=\"clip7901\">\n",
       "    <rect x=\"480\" y=\"0\" width=\"1681\" height=\"1600\"/>\n",
       "  </clipPath>\n",
       "</defs>\n",
       "<path clip-path=\"url(#clip7900)\" d=\"\n",
       "M153.898 1487.47 L2352.76 1487.47 L2352.76 47.2441 L153.898 47.2441  Z\n",
       "  \" fill=\"#ffffff\" fill-rule=\"evenodd\" fill-opacity=\"1\"/>\n",
       "<defs>\n",
       "  <clipPath id=\"clip7902\">\n",
       "    <rect x=\"153\" y=\"47\" width=\"2200\" height=\"1441\"/>\n",
       "  </clipPath>\n",
       "</defs>\n",
       "<polyline clip-path=\"url(#clip7902)\" style=\"stroke:#000000; stroke-width:1.6; stroke-opacity:0.1; fill:none\" points=\"\n",
       "  467.65,1487.47 467.65,47.2441 \n",
       "  \"/>\n",
       "<polyline clip-path=\"url(#clip7902)\" style=\"stroke:#000000; stroke-width:1.6; stroke-opacity:0.1; fill:none\" points=\"\n",
       "  860.489,1487.47 860.489,47.2441 \n",
       "  \"/>\n",
       "<polyline clip-path=\"url(#clip7902)\" style=\"stroke:#000000; stroke-width:1.6; stroke-opacity:0.1; fill:none\" points=\"\n",
       "  1253.33,1487.47 1253.33,47.2441 \n",
       "  \"/>\n",
       "<polyline clip-path=\"url(#clip7902)\" style=\"stroke:#000000; stroke-width:1.6; stroke-opacity:0.1; fill:none\" points=\"\n",
       "  1646.17,1487.47 1646.17,47.2441 \n",
       "  \"/>\n",
       "<polyline clip-path=\"url(#clip7902)\" style=\"stroke:#000000; stroke-width:1.6; stroke-opacity:0.1; fill:none\" points=\"\n",
       "  2039,1487.47 2039,47.2441 \n",
       "  \"/>\n",
       "<polyline clip-path=\"url(#clip7902)\" style=\"stroke:#000000; stroke-width:1.6; stroke-opacity:0.1; fill:none\" points=\"\n",
       "  153.898,1446.71 2352.76,1446.71 \n",
       "  \"/>\n",
       "<polyline clip-path=\"url(#clip7902)\" style=\"stroke:#000000; stroke-width:1.6; stroke-opacity:0.1; fill:none\" points=\"\n",
       "  153.898,1149.02 2352.76,1149.02 \n",
       "  \"/>\n",
       "<polyline clip-path=\"url(#clip7902)\" style=\"stroke:#000000; stroke-width:1.6; stroke-opacity:0.1; fill:none\" points=\"\n",
       "  153.898,851.329 2352.76,851.329 \n",
       "  \"/>\n",
       "<polyline clip-path=\"url(#clip7902)\" style=\"stroke:#000000; stroke-width:1.6; stroke-opacity:0.1; fill:none\" points=\"\n",
       "  153.898,553.637 2352.76,553.637 \n",
       "  \"/>\n",
       "<polyline clip-path=\"url(#clip7902)\" style=\"stroke:#000000; stroke-width:1.6; stroke-opacity:0.1; fill:none\" points=\"\n",
       "  153.898,255.945 2352.76,255.945 \n",
       "  \"/>\n",
       "<polyline clip-path=\"url(#clip7900)\" style=\"stroke:#000000; stroke-width:3.2; stroke-opacity:1; fill:none\" points=\"\n",
       "  153.898,1487.47 2352.76,1487.47 \n",
       "  \"/>\n",
       "<polyline clip-path=\"url(#clip7900)\" style=\"stroke:#000000; stroke-width:3.2; stroke-opacity:1; fill:none\" points=\"\n",
       "  153.898,1487.47 153.898,47.2441 \n",
       "  \"/>\n",
       "<polyline clip-path=\"url(#clip7900)\" style=\"stroke:#000000; stroke-width:3.2; stroke-opacity:1; fill:none\" points=\"\n",
       "  467.65,1487.47 467.65,1465.87 \n",
       "  \"/>\n",
       "<polyline clip-path=\"url(#clip7900)\" style=\"stroke:#000000; stroke-width:3.2; stroke-opacity:1; fill:none\" points=\"\n",
       "  860.489,1487.47 860.489,1465.87 \n",
       "  \"/>\n",
       "<polyline clip-path=\"url(#clip7900)\" style=\"stroke:#000000; stroke-width:3.2; stroke-opacity:1; fill:none\" points=\"\n",
       "  1253.33,1487.47 1253.33,1465.87 \n",
       "  \"/>\n",
       "<polyline clip-path=\"url(#clip7900)\" style=\"stroke:#000000; stroke-width:3.2; stroke-opacity:1; fill:none\" points=\"\n",
       "  1646.17,1487.47 1646.17,1465.87 \n",
       "  \"/>\n",
       "<polyline clip-path=\"url(#clip7900)\" style=\"stroke:#000000; stroke-width:3.2; stroke-opacity:1; fill:none\" points=\"\n",
       "  2039,1487.47 2039,1465.87 \n",
       "  \"/>\n",
       "<polyline clip-path=\"url(#clip7900)\" style=\"stroke:#000000; stroke-width:3.2; stroke-opacity:1; fill:none\" points=\"\n",
       "  153.898,1446.71 186.881,1446.71 \n",
       "  \"/>\n",
       "<polyline clip-path=\"url(#clip7900)\" style=\"stroke:#000000; stroke-width:3.2; stroke-opacity:1; fill:none\" points=\"\n",
       "  153.898,1149.02 186.881,1149.02 \n",
       "  \"/>\n",
       "<polyline clip-path=\"url(#clip7900)\" style=\"stroke:#000000; stroke-width:3.2; stroke-opacity:1; fill:none\" points=\"\n",
       "  153.898,851.329 186.881,851.329 \n",
       "  \"/>\n",
       "<polyline clip-path=\"url(#clip7900)\" style=\"stroke:#000000; stroke-width:3.2; stroke-opacity:1; fill:none\" points=\"\n",
       "  153.898,553.637 186.881,553.637 \n",
       "  \"/>\n",
       "<polyline clip-path=\"url(#clip7900)\" style=\"stroke:#000000; stroke-width:3.2; stroke-opacity:1; fill:none\" points=\"\n",
       "  153.898,255.945 186.881,255.945 \n",
       "  \"/>\n",
       "<g clip-path=\"url(#clip7900)\">\n",
       "<text style=\"fill:#000000; fill-opacity:1; font-family:Arial,Helvetica Neue,Helvetica,sans-serif; font-size:48px; text-anchor:middle;\" transform=\"rotate(0, 467.65, 1541.47)\" x=\"467.65\" y=\"1541.47\">-6</text>\n",
       "</g>\n",
       "<g clip-path=\"url(#clip7900)\">\n",
       "<text style=\"fill:#000000; fill-opacity:1; font-family:Arial,Helvetica Neue,Helvetica,sans-serif; font-size:48px; text-anchor:middle;\" transform=\"rotate(0, 860.489, 1541.47)\" x=\"860.489\" y=\"1541.47\">-3</text>\n",
       "</g>\n",
       "<g clip-path=\"url(#clip7900)\">\n",
       "<text style=\"fill:#000000; fill-opacity:1; font-family:Arial,Helvetica Neue,Helvetica,sans-serif; font-size:48px; text-anchor:middle;\" transform=\"rotate(0, 1253.33, 1541.47)\" x=\"1253.33\" y=\"1541.47\">0</text>\n",
       "</g>\n",
       "<g clip-path=\"url(#clip7900)\">\n",
       "<text style=\"fill:#000000; fill-opacity:1; font-family:Arial,Helvetica Neue,Helvetica,sans-serif; font-size:48px; text-anchor:middle;\" transform=\"rotate(0, 1646.17, 1541.47)\" x=\"1646.17\" y=\"1541.47\">3</text>\n",
       "</g>\n",
       "<g clip-path=\"url(#clip7900)\">\n",
       "<text style=\"fill:#000000; fill-opacity:1; font-family:Arial,Helvetica Neue,Helvetica,sans-serif; font-size:48px; text-anchor:middle;\" transform=\"rotate(0, 2039, 1541.47)\" x=\"2039\" y=\"1541.47\">6</text>\n",
       "</g>\n",
       "<g clip-path=\"url(#clip7900)\">\n",
       "<text style=\"fill:#000000; fill-opacity:1; font-family:Arial,Helvetica Neue,Helvetica,sans-serif; font-size:48px; text-anchor:end;\" transform=\"rotate(0, 129.898, 1464.21)\" x=\"129.898\" y=\"1464.21\">0.0</text>\n",
       "</g>\n",
       "<g clip-path=\"url(#clip7900)\">\n",
       "<text style=\"fill:#000000; fill-opacity:1; font-family:Arial,Helvetica Neue,Helvetica,sans-serif; font-size:48px; text-anchor:end;\" transform=\"rotate(0, 129.898, 1166.52)\" x=\"129.898\" y=\"1166.52\">0.1</text>\n",
       "</g>\n",
       "<g clip-path=\"url(#clip7900)\">\n",
       "<text style=\"fill:#000000; fill-opacity:1; font-family:Arial,Helvetica Neue,Helvetica,sans-serif; font-size:48px; text-anchor:end;\" transform=\"rotate(0, 129.898, 868.829)\" x=\"129.898\" y=\"868.829\">0.2</text>\n",
       "</g>\n",
       "<g clip-path=\"url(#clip7900)\">\n",
       "<text style=\"fill:#000000; fill-opacity:1; font-family:Arial,Helvetica Neue,Helvetica,sans-serif; font-size:48px; text-anchor:end;\" transform=\"rotate(0, 129.898, 571.137)\" x=\"129.898\" y=\"571.137\">0.3</text>\n",
       "</g>\n",
       "<g clip-path=\"url(#clip7900)\">\n",
       "<text style=\"fill:#000000; fill-opacity:1; font-family:Arial,Helvetica Neue,Helvetica,sans-serif; font-size:48px; text-anchor:end;\" transform=\"rotate(0, 129.898, 273.445)\" x=\"129.898\" y=\"273.445\">0.4</text>\n",
       "</g>\n",
       "<polyline clip-path=\"url(#clip7902)\" style=\"stroke:#009af9; stroke-width:3.2; stroke-opacity:1; fill:none\" points=\"\n",
       "  216.13,1446.71 236.874,1446.71 257.618,1446.71 278.362,1446.71 299.106,1446.71 319.85,1446.71 340.593,1446.71 361.337,1446.7 382.081,1446.69 402.825,1446.68 \n",
       "  423.569,1446.65 444.313,1446.62 465.057,1446.56 485.801,1446.46 506.545,1446.31 527.289,1446.09 548.033,1445.75 568.777,1445.25 589.521,1444.51 610.265,1443.44 \n",
       "  631.009,1441.92 651.753,1439.77 672.497,1436.78 693.24,1432.69 713.984,1427.16 734.728,1419.78 755.472,1410.09 776.216,1397.53 796.96,1381.48 817.704,1361.28 \n",
       "  838.448,1336.22 859.192,1305.6 879.936,1268.73 900.68,1225.02 921.424,1174.03 942.168,1115.49 962.912,1049.4 983.656,976.067 1004.4,896.15 1025.14,810.694 \n",
       "  1045.89,721.135 1066.63,629.287 1087.38,537.294 1108.12,447.564 1128.86,362.666 1149.61,285.221 1170.35,217.758 1191.1,162.59 1211.84,121.674 1232.58,96.5019 \n",
       "  1253.33,88.0053 1274.07,96.5019 1294.81,121.674 1315.56,162.59 1336.3,217.758 1357.05,285.221 1377.79,362.666 1398.53,447.564 1419.28,537.294 1440.02,629.287 \n",
       "  1460.77,721.135 1481.51,810.694 1502.25,896.15 1523,976.067 1543.74,1049.4 1564.49,1115.49 1585.23,1174.03 1605.97,1225.02 1626.72,1268.73 1647.46,1305.6 \n",
       "  1668.21,1336.22 1688.95,1361.28 1709.69,1381.48 1730.44,1397.53 1751.18,1410.09 1771.93,1419.78 1792.67,1427.16 1813.41,1432.69 1834.16,1436.78 1854.9,1439.77 \n",
       "  1875.65,1441.92 1896.39,1443.44 1917.13,1444.51 1937.88,1445.25 1958.62,1445.75 1979.36,1446.09 2000.11,1446.31 2020.85,1446.46 2041.6,1446.56 2062.34,1446.62 \n",
       "  2083.08,1446.65 2103.83,1446.68 2124.57,1446.69 2145.32,1446.7 2166.06,1446.71 2186.8,1446.71 2207.55,1446.71 2228.29,1446.71 2249.04,1446.71 2269.78,1446.71 \n",
       "  2290.52,1446.71 \n",
       "  \"/>\n",
       "<path clip-path=\"url(#clip7900)\" d=\"\n",
       "M1989.93 251.724 L2280.76 251.724 L2280.76 130.764 L1989.93 130.764  Z\n",
       "  \" fill=\"#ffffff\" fill-rule=\"evenodd\" fill-opacity=\"1\"/>\n",
       "<polyline clip-path=\"url(#clip7900)\" style=\"stroke:#000000; stroke-width:3.2; stroke-opacity:1; fill:none\" points=\"\n",
       "  1989.93,251.724 2280.76,251.724 2280.76,130.764 1989.93,130.764 1989.93,251.724 \n",
       "  \"/>\n",
       "<polyline clip-path=\"url(#clip7900)\" style=\"stroke:#009af9; stroke-width:3.2; stroke-opacity:1; fill:none\" points=\"\n",
       "  2013.93,191.244 2157.93,191.244 \n",
       "  \"/>\n",
       "<g clip-path=\"url(#clip7900)\">\n",
       "<text style=\"fill:#000000; fill-opacity:1; font-family:Arial,Helvetica Neue,Helvetica,sans-serif; font-size:48px; text-anchor:start;\" transform=\"rotate(0, 2181.93, 208.744)\" x=\"2181.93\" y=\"208.744\">y1</text>\n",
       "</g>\n",
       "</svg>\n"
      ]
     },
     "execution_count": 247,
     "metadata": {},
     "output_type": "execute_result"
    }
   ],
   "source": [
    "plot(vSpace.u, ode_data[:,5])"
   ]
  },
  {
   "cell_type": "code",
   "execution_count": null,
   "metadata": {},
   "outputs": [],
   "source": []
  }
 ],
 "metadata": {
  "kernelspec": {
   "display_name": "Julia 1.3.1",
   "language": "julia",
   "name": "julia-1.3"
  },
  "language_info": {
   "file_extension": ".jl",
   "mimetype": "application/julia",
   "name": "julia",
   "version": "1.3.1"
  }
 },
 "nbformat": 4,
 "nbformat_minor": 4
}
