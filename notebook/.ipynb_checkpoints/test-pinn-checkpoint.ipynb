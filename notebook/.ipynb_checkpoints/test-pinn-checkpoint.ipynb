{
 "cells": [
  {
   "cell_type": "markdown",
   "metadata": {},
   "source": [
    "# Physics-Informed Neural Networks"
   ]
  },
  {
   "cell_type": "markdown",
   "metadata": {},
   "source": [
    "## Illustrative example"
   ]
  },
  {
   "cell_type": "code",
   "execution_count": 5,
   "metadata": {
    "scrolled": true
   },
   "outputs": [
    {
     "name": "stderr",
     "output_type": "stream",
     "text": [
      "\r",
      "\u001b[32mloss: 195:   0%|▎                                        |  ETA: 0:03:23\u001b[39m"
     ]
    },
    {
     "name": "stdout",
     "output_type": "stream",
     "text": [
      "Current loss is: 195.44276\n",
      "Current loss is: 1.7988318\n"
     ]
    },
    {
     "name": "stderr",
     "output_type": "stream",
     "text": [
      "\r",
      "\u001b[32mloss: 180:   2%|▋                                        |  ETA: 0:01:15\u001b[39m"
     ]
    },
    {
     "name": "stdout",
     "output_type": "stream",
     "text": [
      "Current loss is: 179.92903\n",
      "Current loss is: 117.40116\n"
     ]
    },
    {
     "name": "stderr",
     "output_type": "stream",
     "text": [
      "\r",
      "\u001b[32mloss: 21:   2%|█                                        |  ETA: 0:00:49\u001b[39m"
     ]
    },
    {
     "name": "stdout",
     "output_type": "stream",
     "text": [
      "Current loss is: 21.028614\n",
      "Current loss is: 2.5249279\n"
     ]
    },
    {
     "name": "stderr",
     "output_type": "stream",
     "text": [
      "\r",
      "\u001b[32mloss: 2.69:   4%|█▍                                       |  ETA: 0:00:38\u001b[39m"
     ]
    },
    {
     "name": "stdout",
     "output_type": "stream",
     "text": [
      "Current loss is: 2.6869793\n",
      "Current loss is: 12.082697\n"
     ]
    },
    {
     "name": "stderr",
     "output_type": "stream",
     "text": [
      "\r",
      "\u001b[32mloss: 31.4:   4%|█▉                                       |  ETA: 0:00:32\u001b[39m"
     ]
    },
    {
     "name": "stdout",
     "output_type": "stream",
     "text": [
      "Current loss is: 31.365852\n",
      "Current loss is: 43.275757\n"
     ]
    },
    {
     "name": "stderr",
     "output_type": "stream",
     "text": [
      "\r",
      "\u001b[32mloss: 35.1:   6%|██▎                                      |  ETA: 0:00:29\u001b[39m"
     ]
    },
    {
     "name": "stdout",
     "output_type": "stream",
     "text": [
      "Current loss is: 35.09489\n",
      "Current loss is: 18.696701\n"
     ]
    },
    {
     "name": "stderr",
     "output_type": "stream",
     "text": [
      "\r",
      "\u001b[32mloss: 7.11:   6%|██▋                                      |  ETA: 0:00:26\u001b[39m"
     ]
    },
    {
     "name": "stdout",
     "output_type": "stream",
     "text": [
      "Current loss is: 7.11235\n",
      "Current loss is: 2.0884194\n"
     ]
    },
    {
     "name": "stderr",
     "output_type": "stream",
     "text": [
      "\r",
      "\u001b[32mloss: 0.566:   8%|███▏                                     |  ETA: 0:00:24\u001b[39m"
     ]
    },
    {
     "name": "stdout",
     "output_type": "stream",
     "text": [
      "Current loss is: 0.566326\n",
      "Current loss is: 0.21975982\n"
     ]
    },
    {
     "name": "stderr",
     "output_type": "stream",
     "text": [
      "\r",
      "\u001b[32mloss: 0.254:   8%|███▌                                     |  ETA: 0:00:22\u001b[39m"
     ]
    },
    {
     "name": "stdout",
     "output_type": "stream",
     "text": [
      "Current loss is: 0.25383064\n",
      "Current loss is: 0.7272236\n"
     ]
    },
    {
     "name": "stderr",
     "output_type": "stream",
     "text": [
      "\r",
      "\u001b[32mloss: 1.93:  10%|███▉                                     |  ETA: 0:00:21\u001b[39m"
     ]
    },
    {
     "name": "stdout",
     "output_type": "stream",
     "text": [
      "Current loss is: 1.9273605\n",
      "Current loss is: 3.904658\n"
     ]
    },
    {
     "name": "stderr",
     "output_type": "stream",
     "text": [
      "\r",
      "\u001b[32mloss: 6.16:  10%|████▎                                    |  ETA: 0:00:20\u001b[39m"
     ]
    },
    {
     "name": "stdout",
     "output_type": "stream",
     "text": [
      "Current loss is: 6.155004\n",
      "Current loss is: 7.714617\n"
     ]
    },
    {
     "name": "stderr",
     "output_type": "stream",
     "text": [
      "\r",
      "\u001b[32mloss: 7.81:  12%|████▊                                    |  ETA: 0:00:19\u001b[39m"
     ]
    },
    {
     "name": "stdout",
     "output_type": "stream",
     "text": [
      "Current loss is: 7.809248\n",
      "Current loss is: 6.487854\n"
     ]
    },
    {
     "name": "stderr",
     "output_type": "stream",
     "text": [
      "\r",
      "\u001b[32mloss: 4.51:  12%|█████▏                                   |  ETA: 0:00:18\u001b[39m"
     ]
    },
    {
     "name": "stdout",
     "output_type": "stream",
     "text": [
      "Current loss is: 4.505155\n",
      "Current loss is: 2.6606348\n"
     ]
    },
    {
     "name": "stderr",
     "output_type": "stream",
     "text": [
      "\r",
      "\u001b[32mloss: 1.35:  14%|█████▌                                   |  ETA: 0:00:17\u001b[39m"
     ]
    },
    {
     "name": "stdout",
     "output_type": "stream",
     "text": [
      "Current loss is: 1.3523085\n",
      "Current loss is: 0.5924918\n"
     ]
    },
    {
     "name": "stderr",
     "output_type": "stream",
     "text": [
      "\r",
      "\u001b[32mloss: 0.221:  14%|██████                                   |  ETA: 0:00:17\u001b[39m"
     ]
    },
    {
     "name": "stdout",
     "output_type": "stream",
     "text": [
      "Current loss is: 0.22096941\n",
      "Current loss is: 0.06829553\n"
     ]
    },
    {
     "name": "stderr",
     "output_type": "stream",
     "text": [
      "\r",
      "\u001b[32mloss: 0.0173:  16%|██████▍                                  |  ETA: 0:00:16\u001b[39m"
     ]
    },
    {
     "name": "stdout",
     "output_type": "stream",
     "text": [
      "Current loss is: 0.017274557\n",
      "Current loss is: 0.004319146\n"
     ]
    },
    {
     "name": "stderr",
     "output_type": "stream",
     "text": [
      "\r",
      "\u001b[32mloss: 0.0024:  16%|██████▊                                  |  ETA: 0:00:16\u001b[39m"
     ]
    },
    {
     "name": "stdout",
     "output_type": "stream",
     "text": [
      "Current loss is: 0.0023971677\n",
      "Current loss is: 0.0048182965\n"
     ]
    },
    {
     "name": "stderr",
     "output_type": "stream",
     "text": [
      "\r",
      "\u001b[32mloss: 0.0144:  18%|███████▏                                 |  ETA: 0:00:15\u001b[39m"
     ]
    },
    {
     "name": "stdout",
     "output_type": "stream",
     "text": [
      "Current loss is: 0.014401289\n",
      "Current loss is: 0.03708573\n"
     ]
    },
    {
     "name": "stderr",
     "output_type": "stream",
     "text": [
      "\r",
      "\u001b[32mloss: 0.0782:  18%|███████▋                                 |  ETA: 0:00:15\u001b[39m"
     ]
    },
    {
     "name": "stdout",
     "output_type": "stream",
     "text": [
      "Current loss is: 0.07815069\n",
      "Current loss is: 0.13977599\n"
     ]
    },
    {
     "name": "stderr",
     "output_type": "stream",
     "text": [
      "\r",
      "\u001b[32mloss: 0.219:  20%|████████                                 |  ETA: 0:00:14\u001b[39m"
     ]
    },
    {
     "name": "stdout",
     "output_type": "stream",
     "text": [
      "Current loss is: 0.21947742\n",
      "Current loss is: 0.30956042\n"
     ]
    },
    {
     "name": "stderr",
     "output_type": "stream",
     "text": [
      "\r",
      "\u001b[32mloss: 0.398:  20%|████████▍                                |  ETA: 0:00:14\u001b[39m"
     ]
    },
    {
     "name": "stdout",
     "output_type": "stream",
     "text": [
      "Current loss is: 0.39798605\n",
      "Current loss is: 0.47082233\n"
     ]
    },
    {
     "name": "stderr",
     "output_type": "stream",
     "text": [
      "\r",
      "\u001b[32mloss: 0.516:  22%|████████▉                                |  ETA: 0:00:14\u001b[39m"
     ]
    },
    {
     "name": "stdout",
     "output_type": "stream",
     "text": [
      "Current loss is: 0.5157941\n",
      "Current loss is: 0.52574414\n"
     ]
    },
    {
     "name": "stderr",
     "output_type": "stream",
     "text": [
      "\r",
      "\u001b[32mloss: 0.501:  22%|█████████▎                               |  ETA: 0:00:13\u001b[39m"
     ]
    },
    {
     "name": "stdout",
     "output_type": "stream",
     "text": [
      "Current loss is: 0.5005835\n",
      "Current loss is: 0.4468967\n"
     ]
    },
    {
     "name": "stderr",
     "output_type": "stream",
     "text": [
      "\r",
      "\u001b[32mloss: 0.375:  24%|█████████▋                               |  ETA: 0:00:13\u001b[39m"
     ]
    },
    {
     "name": "stdout",
     "output_type": "stream",
     "text": [
      "Current loss is: 0.37547854\n",
      "Current loss is: 0.29800913\n"
     ]
    },
    {
     "name": "stderr",
     "output_type": "stream",
     "text": [
      "\r",
      "\u001b[32mloss: 0.224:  24%|██████████                               |  ETA: 0:00:13\u001b[39m"
     ]
    },
    {
     "name": "stdout",
     "output_type": "stream",
     "text": [
      "Current loss is: 0.22423452\n",
      "Current loss is: 0.16047847\n"
     ]
    },
    {
     "name": "stderr",
     "output_type": "stream",
     "text": [
      "\r",
      "\u001b[32mloss: 0.11:  26%|██████████▌                              |  ETA: 0:00:12\u001b[39m"
     ]
    },
    {
     "name": "stdout",
     "output_type": "stream",
     "text": [
      "Current loss is: 0.109528825\n",
      "Current loss is: 0.07142047\n"
     ]
    },
    {
     "name": "stderr",
     "output_type": "stream",
     "text": [
      "\r",
      "\u001b[32mloss: 0.0445:  26%|██████████▉                              |  ETA: 0:00:12\u001b[39m"
     ]
    },
    {
     "name": "stdout",
     "output_type": "stream",
     "text": [
      "Current loss is: 0.0445247\n",
      "Current loss is: 0.026519509\n"
     ]
    },
    {
     "name": "stderr",
     "output_type": "stream",
     "text": [
      "\r",
      "\u001b[32mloss: 0.0151:  28%|███████████▎                             |  ETA: 0:00:12\u001b[39m"
     ]
    },
    {
     "name": "stdout",
     "output_type": "stream",
     "text": [
      "Current loss is: 0.015055671\n",
      "Current loss is: 0.00811277\n"
     ]
    },
    {
     "name": "stderr",
     "output_type": "stream",
     "text": [
      "\r",
      "\u001b[32mloss: 0.00412:  28%|███████████▋                             |  ETA: 0:00:12\u001b[39m"
     ]
    },
    {
     "name": "stdout",
     "output_type": "stream",
     "text": [
      "Current loss is: 0.004123808\n",
      "Current loss is: 0.0019630124\n"
     ]
    },
    {
     "name": "stderr",
     "output_type": "stream",
     "text": [
      "\r",
      "\u001b[32mloss: 0.000871:  30%|████████████▏                            |  ETA: 0:00:11\u001b[39m"
     ]
    },
    {
     "name": "stdout",
     "output_type": "stream",
     "text": [
      "Current loss is: 0.000871083\n",
      "Current loss is: 0.00036467495\n"
     ]
    },
    {
     "name": "stderr",
     "output_type": "stream",
     "text": [
      "\r",
      "\u001b[32mloss: 0.000154:  30%|████████████▌                            |  ETA: 0:00:11\u001b[39m"
     ]
    },
    {
     "name": "stdout",
     "output_type": "stream",
     "text": [
      "Current loss is: 0.00015399788\n",
      "Current loss is: 7.7333985e-5\n"
     ]
    },
    {
     "name": "stderr",
     "output_type": "stream",
     "text": [
      "\r",
      "\u001b[32mloss: 5.33e-05:  32%|████████████▉                            |  ETA: 0:00:11\u001b[39m"
     ]
    },
    {
     "name": "stdout",
     "output_type": "stream",
     "text": [
      "Current loss is: 5.3269552e-5\n",
      "Current loss is: 4.792326e-5\n"
     ]
    },
    {
     "name": "stderr",
     "output_type": "stream",
     "text": [
      "\r",
      "\u001b[32mloss: 5.35e-05:  32%|█████████████▍                           |  ETA: 0:00:11\u001b[39m"
     ]
    },
    {
     "name": "stdout",
     "output_type": "stream",
     "text": [
      "Current loss is: 5.354469e-5\n",
      "Current loss is: 7.5128155e-5\n"
     ]
    },
    {
     "name": "stderr",
     "output_type": "stream",
     "text": [
      "\r",
      "\u001b[32mloss: 0.000122:  34%|█████████████▊                           |  ETA: 0:00:11\u001b[39m"
     ]
    },
    {
     "name": "stdout",
     "output_type": "stream",
     "text": [
      "Current loss is: 0.00012239607\n",
      "Current loss is: 0.0002052239\n"
     ]
    },
    {
     "name": "stderr",
     "output_type": "stream",
     "text": [
      "\r",
      "\u001b[32mloss: 0.000331:  34%|██████████████▏                          |  ETA: 0:00:10\u001b[39m"
     ]
    },
    {
     "name": "stdout",
     "output_type": "stream",
     "text": [
      "Current loss is: 0.0003311971\n",
      "Current loss is: 0.0005044603\n"
     ]
    },
    {
     "name": "stderr",
     "output_type": "stream",
     "text": [
      "\r",
      "\u001b[32mloss: 0.000725:  36%|██████████████▌                          |  ETA: 0:00:10\u001b[39m"
     ]
    },
    {
     "name": "stdout",
     "output_type": "stream",
     "text": [
      "Current loss is: 0.0007253152\n",
      "Current loss is: 0.0009902964\n"
     ]
    },
    {
     "name": "stderr",
     "output_type": "stream",
     "text": [
      "\r",
      "\u001b[32mloss: 0.00129:  36%|███████████████                          |  ETA: 0:00:10\u001b[39m"
     ]
    },
    {
     "name": "stdout",
     "output_type": "stream",
     "text": [
      "Current loss is: 0.0012924984\n",
      "Current loss is: 0.0016221381\n"
     ]
    },
    {
     "name": "stderr",
     "output_type": "stream",
     "text": [
      "\r",
      "\u001b[32mloss: 0.00197:  38%|███████████████▍                         |  ETA: 0:00:10\u001b[39m"
     ]
    },
    {
     "name": "stdout",
     "output_type": "stream",
     "text": [
      "Current loss is: 0.0019672005\n",
      "Current loss is: 0.002314245\n"
     ]
    },
    {
     "name": "stderr",
     "output_type": "stream",
     "text": [
      "\r",
      "\u001b[32mloss: 0.00265:  38%|███████████████▊                         |  ETA: 0:00:10\u001b[39m"
     ]
    },
    {
     "name": "stdout",
     "output_type": "stream",
     "text": [
      "Current loss is: 0.0026492716\n",
      "Current loss is: 0.002958574\n"
     ]
    },
    {
     "name": "stderr",
     "output_type": "stream",
     "text": [
      "\r",
      "\u001b[32mloss: 0.00323:  40%|████████████████▎                        |  ETA: 0:00:09\u001b[39m"
     ]
    },
    {
     "name": "stdout",
     "output_type": "stream",
     "text": [
      "Current loss is: 0.0032296462\n",
      "Current loss is: 0.0034519115\n"
     ]
    },
    {
     "name": "stderr",
     "output_type": "stream",
     "text": [
      "\r",
      "\u001b[32mloss: 0.00362:  40%|████████████████▋                        |  ETA: 0:00:09\u001b[39m"
     ]
    },
    {
     "name": "stdout",
     "output_type": "stream",
     "text": [
      "Current loss is: 0.0036173873\n",
      "Current loss is: 0.0037210935\n"
     ]
    },
    {
     "name": "stderr",
     "output_type": "stream",
     "text": [
      "\r",
      "\u001b[32mloss: 0.00376:  42%|█████████████████                        |  ETA: 0:00:09\u001b[39m"
     ]
    },
    {
     "name": "stdout",
     "output_type": "stream",
     "text": [
      "Current loss is: 0.0037612617\n",
      "Current loss is: 0.0037392552\n"
     ]
    },
    {
     "name": "stderr",
     "output_type": "stream",
     "text": [
      "\r",
      "\u001b[32mloss: 0.00366:  42%|█████████████████▍                       |  ETA: 0:00:09\u001b[39m"
     ]
    },
    {
     "name": "stdout",
     "output_type": "stream",
     "text": [
      "Current loss is: 0.0036592635\n",
      "Current loss is: 0.003527884\n"
     ]
    },
    {
     "name": "stderr",
     "output_type": "stream",
     "text": [
      "\r",
      "\u001b[32mloss: 0.00335:  44%|█████████████████▉                       |  ETA: 0:00:09\u001b[39m"
     ]
    },
    {
     "name": "stdout",
     "output_type": "stream",
     "text": [
      "Current loss is: 0.0033533943\n",
      "Current loss is: 0.0031451492\n"
     ]
    },
    {
     "name": "stderr",
     "output_type": "stream",
     "text": [
      "\r",
      "\u001b[32mloss: 0.00291:  44%|██████████████████▎                      |  ETA: 0:00:08\u001b[39m"
     ]
    },
    {
     "name": "stdout",
     "output_type": "stream",
     "text": [
      "Current loss is: 0.002912839\n",
      "Current loss is: 0.0026659218\n"
     ]
    },
    {
     "name": "stderr",
     "output_type": "stream",
     "text": [
      "\r",
      "\u001b[32mloss: 0.00241:  46%|██████████████████▋                      |  ETA: 0:00:08\u001b[39m"
     ]
    },
    {
     "name": "stdout",
     "output_type": "stream",
     "text": [
      "Current loss is: 0.0024130836\n",
      "Current loss is: 0.0021618868\n"
     ]
    },
    {
     "name": "stderr",
     "output_type": "stream",
     "text": [
      "\r",
      "\u001b[32mloss: 0.00192:  46%|███████████████████▏                     |  ETA: 0:00:08\u001b[39m"
     ]
    },
    {
     "name": "stdout",
     "output_type": "stream",
     "text": [
      "Current loss is: 0.0019185531\n",
      "Current loss is: 0.0016878974\n"
     ]
    },
    {
     "name": "stderr",
     "output_type": "stream",
     "text": [
      "\r",
      "\u001b[32mloss: 0.00147:  48%|███████████████████▌                     |  ETA: 0:00:08\u001b[39m"
     ]
    },
    {
     "name": "stdout",
     "output_type": "stream",
     "text": [
      "Current loss is: 0.0014733281\n",
      "Current loss is: 0.0012769994\n"
     ]
    },
    {
     "name": "stderr",
     "output_type": "stream",
     "text": [
      "\r",
      "\u001b[32mloss: 0.0011:  48%|███████████████████▉                     |  ETA: 0:00:08\u001b[39m"
     ]
    },
    {
     "name": "stdout",
     "output_type": "stream",
     "text": [
      "Current loss is: 0.0010999489\n",
      "Current loss is: 0.0009423239\n"
     ]
    },
    {
     "name": "stderr",
     "output_type": "stream",
     "text": [
      "\r",
      "\u001b[32mloss: 0.000804:  50%|████████████████████▎                    |  ETA: 0:00:08\u001b[39m"
     ]
    },
    {
     "name": "stdout",
     "output_type": "stream",
     "text": [
      "Current loss is: 0.0008035881\n",
      "Current loss is: 0.00068269484\n"
     ]
    },
    {
     "name": "stderr",
     "output_type": "stream",
     "text": [
      "\r",
      "\u001b[32mloss: 0.000578:  50%|████████████████████▊                    |  ETA: 0:00:07\u001b[39m"
     ]
    },
    {
     "name": "stdout",
     "output_type": "stream",
     "text": [
      "Current loss is: 0.0005782755\n",
      "Current loss is: 0.0004887816\n"
     ]
    },
    {
     "name": "stderr",
     "output_type": "stream",
     "text": [
      "\r",
      "\u001b[32mloss: 0.000413:  52%|█████████████████████▏                   |  ETA: 0:00:07\u001b[39m"
     ]
    },
    {
     "name": "stdout",
     "output_type": "stream",
     "text": [
      "Current loss is: 0.0004125878\n",
      "Current loss is: 0.00034809124\n"
     ]
    },
    {
     "name": "stderr",
     "output_type": "stream",
     "text": [
      "\r",
      "\u001b[32mloss: 0.000294:  52%|█████████████████████▌                   |  ETA: 0:00:07\u001b[39m"
     ]
    },
    {
     "name": "stdout",
     "output_type": "stream",
     "text": [
      "Current loss is: 0.0002937595\n",
      "Current loss is: 0.00024817593\n"
     ]
    },
    {
     "name": "stderr",
     "output_type": "stream",
     "text": [
      "\r",
      "\u001b[32mloss: 0.00021:  54%|█████████████████████▉                   |  ETA: 0:00:07\u001b[39m"
     ]
    },
    {
     "name": "stdout",
     "output_type": "stream",
     "text": [
      "Current loss is: 0.0002100536\n",
      "Current loss is: 0.00017825176\n"
     ]
    },
    {
     "name": "stderr",
     "output_type": "stream",
     "text": [
      "\r",
      "\u001b[32mloss: 0.000152:  54%|██████████████████████▍                  |  ETA: 0:00:07\u001b[39m"
     ]
    },
    {
     "name": "stdout",
     "output_type": "stream",
     "text": [
      "Current loss is: 0.00015177044\n",
      "Current loss is: 0.0001297434\n"
     ]
    },
    {
     "name": "stderr",
     "output_type": "stream",
     "text": [
      "\r",
      "\u001b[32mloss: 0.000111:  56%|██████████████████████▊                  |  ETA: 0:00:07\u001b[39m"
     ]
    },
    {
     "name": "stdout",
     "output_type": "stream",
     "text": [
      "Current loss is: 0.00011143235\n",
      "Current loss is: 9.620909e-5\n"
     ]
    },
    {
     "name": "stderr",
     "output_type": "stream",
     "text": [
      "\r",
      "\u001b[32mloss: 8.35e-05:  56%|███████████████████████▏                 |  ETA: 0:00:06\u001b[39m"
     ]
    },
    {
     "name": "stdout",
     "output_type": "stream",
     "text": [
      "Current loss is: 8.354506e-5\n",
      "Current loss is: 7.299791e-5\n"
     ]
    },
    {
     "name": "stderr",
     "output_type": "stream",
     "text": [
      "\r",
      "\u001b[32mloss: 6.42e-05:  58%|███████████████████████▋                 |  ETA: 0:00:06\u001b[39m"
     ]
    },
    {
     "name": "stdout",
     "output_type": "stream",
     "text": [
      "Current loss is: 6.42001e-5\n",
      "Current loss is: 5.6845525e-5\n"
     ]
    },
    {
     "name": "stderr",
     "output_type": "stream",
     "text": [
      "\r",
      "\u001b[32mloss: 5.07e-05:  58%|████████████████████████                 |  ETA: 0:00:06\u001b[39m"
     ]
    },
    {
     "name": "stdout",
     "output_type": "stream",
     "text": [
      "Current loss is: 5.0682433e-5\n",
      "Current loss is: 4.5502584e-5\n"
     ]
    },
    {
     "name": "stderr",
     "output_type": "stream",
     "text": [
      "\r",
      "\u001b[32mloss: 4.11e-05:  60%|████████████████████████▍                |  ETA: 0:00:06\u001b[39m"
     ]
    },
    {
     "name": "stdout",
     "output_type": "stream",
     "text": [
      "Current loss is: 4.1135147e-5\n",
      "Current loss is: 3.7439102e-5\n"
     ]
    },
    {
     "name": "stderr",
     "output_type": "stream",
     "text": [
      "\r",
      "\u001b[32mloss: 3.43e-05:  60%|████████████████████████▊                |  ETA: 0:00:06\u001b[39m"
     ]
    },
    {
     "name": "stdout",
     "output_type": "stream",
     "text": [
      "Current loss is: 3.4299275e-5\n",
      "Current loss is: 3.1620846e-5\n"
     ]
    },
    {
     "name": "stderr",
     "output_type": "stream",
     "text": [
      "\r",
      "\u001b[32mloss: 2.93e-05:  62%|█████████████████████████▎               |  ETA: 0:00:06\u001b[39m"
     ]
    },
    {
     "name": "stdout",
     "output_type": "stream",
     "text": [
      "Current loss is: 2.9325742e-5\n",
      "Current loss is: 2.7350266e-5\n"
     ]
    },
    {
     "name": "stderr",
     "output_type": "stream",
     "text": [
      "\r",
      "\u001b[32mloss: 2.56e-05:  62%|█████████████████████████▋               |  ETA: 0:00:05\u001b[39m"
     ]
    },
    {
     "name": "stdout",
     "output_type": "stream",
     "text": [
      "Current loss is: 2.5641824e-5\n",
      "Current loss is: 2.4156872e-5\n"
     ]
    },
    {
     "name": "stderr",
     "output_type": "stream",
     "text": [
      "\r",
      "\u001b[32mloss: 2.29e-05:  64%|██████████████████████████               |  ETA: 0:00:05\u001b[39m"
     ]
    },
    {
     "name": "stdout",
     "output_type": "stream",
     "text": [
      "Current loss is: 2.2859916e-5\n",
      "Current loss is: 2.1721395e-5\n"
     ]
    },
    {
     "name": "stderr",
     "output_type": "stream",
     "text": [
      "\r",
      "\u001b[32mloss: 2.07e-05:  64%|██████████████████████████▌              |  ETA: 0:00:05\u001b[39m"
     ]
    },
    {
     "name": "stdout",
     "output_type": "stream",
     "text": [
      "Current loss is: 2.0717005e-5\n",
      "Current loss is: 1.9826237e-5\n"
     ]
    },
    {
     "name": "stderr",
     "output_type": "stream",
     "text": [
      "\r",
      "\u001b[32mloss: 1.9e-05:  66%|██████████████████████████▉              |  ETA: 0:00:05\u001b[39m"
     ]
    },
    {
     "name": "stdout",
     "output_type": "stream",
     "text": [
      "Current loss is: 1.9032452e-5\n",
      "Current loss is: 1.8321682e-5\n"
     ]
    },
    {
     "name": "stderr",
     "output_type": "stream",
     "text": [
      "\r",
      "\u001b[32mloss: 1.77e-05:  66%|███████████████████████████▎             |  ETA: 0:00:05\u001b[39m"
     ]
    },
    {
     "name": "stdout",
     "output_type": "stream",
     "text": [
      "Current loss is: 1.7682018e-5\n",
      "Current loss is: 1.7103863e-5\n"
     ]
    },
    {
     "name": "stderr",
     "output_type": "stream",
     "text": [
      "\r",
      "\u001b[32mloss: 1.66e-05:  68%|███████████████████████████▋             |  ETA: 0:00:05\u001b[39m"
     ]
    },
    {
     "name": "stdout",
     "output_type": "stream",
     "text": [
      "Current loss is: 1.657877e-5\n",
      "Current loss is: 1.6099973e-5\n"
     ]
    },
    {
     "name": "stderr",
     "output_type": "stream",
     "text": [
      "\r",
      "\u001b[32mloss: 1.57e-05:  68%|████████████████████████████▏            |  ETA: 0:00:05\u001b[39m"
     ]
    },
    {
     "name": "stdout",
     "output_type": "stream",
     "text": [
      "Current loss is: 1.566164e-5\n",
      "Current loss is: 1.52586235e-5\n"
     ]
    },
    {
     "name": "stderr",
     "output_type": "stream",
     "text": [
      "\r",
      "\u001b[32mloss: 1.49e-05:  70%|████████████████████████████▌            |  ETA: 0:00:04\u001b[39m"
     ]
    },
    {
     "name": "stdout",
     "output_type": "stream",
     "text": [
      "Current loss is: 1.4886929e-5\n",
      "Current loss is: 1.45430695e-5\n"
     ]
    },
    {
     "name": "stderr",
     "output_type": "stream",
     "text": [
      "\r",
      "\u001b[32mloss: 1.42e-05:  70%|████████████████████████████▉            |  ETA: 0:00:04\u001b[39m"
     ]
    },
    {
     "name": "stdout",
     "output_type": "stream",
     "text": [
      "Current loss is: 1.42239305e-5\n",
      "Current loss is: 1.3926944e-5\n"
     ]
    },
    {
     "name": "stderr",
     "output_type": "stream",
     "text": [
      "\r",
      "\u001b[32mloss: 1.36e-05:  72%|█████████████████████████████▍           |  ETA: 0:00:04\u001b[39m"
     ]
    },
    {
     "name": "stdout",
     "output_type": "stream",
     "text": [
      "Current loss is: 1.36499175e-5\n",
      "Current loss is: 1.3391024e-5\n"
     ]
    },
    {
     "name": "stderr",
     "output_type": "stream",
     "text": [
      "\r",
      "\u001b[32mloss: 1.31e-05:  72%|█████████████████████████████▊           |  ETA: 0:00:04\u001b[39m"
     ]
    },
    {
     "name": "stdout",
     "output_type": "stream",
     "text": [
      "Current loss is: 1.3148583e-5\n",
      "Current loss is: 1.2921306e-5\n"
     ]
    },
    {
     "name": "stderr",
     "output_type": "stream",
     "text": [
      "\r",
      "\u001b[32mloss: 1.27e-05:  74%|██████████████████████████████▏          |  ETA: 0:00:04\u001b[39m"
     ]
    },
    {
     "name": "stdout",
     "output_type": "stream",
     "text": [
      "Current loss is: 1.2707923e-5\n",
      "Current loss is: 1.2507468e-5\n"
     ]
    },
    {
     "name": "stderr",
     "output_type": "stream",
     "text": [
      "\r",
      "\u001b[32mloss: 1.23e-05:  74%|██████████████████████████████▌          |  ETA: 0:00:04\u001b[39m"
     ]
    },
    {
     "name": "stdout",
     "output_type": "stream",
     "text": [
      "Current loss is: 1.2319007e-5\n",
      "Current loss is: 1.2141722e-5\n"
     ]
    },
    {
     "name": "stderr",
     "output_type": "stream",
     "text": [
      "\r",
      "\u001b[32mloss: 1.2e-05:  76%|███████████████████████████████          |  ETA: 0:00:04\u001b[39m"
     ]
    },
    {
     "name": "stdout",
     "output_type": "stream",
     "text": [
      "Current loss is: 1.1975073e-5\n",
      "Current loss is: 1.1818368e-5\n"
     ]
    },
    {
     "name": "stderr",
     "output_type": "stream",
     "text": [
      "\r",
      "\u001b[32mloss: 1.17e-05:  76%|███████████████████████████████▍         |  ETA: 0:00:03\u001b[39m"
     ]
    },
    {
     "name": "stdout",
     "output_type": "stream",
     "text": [
      "Current loss is: 1.1671026e-5\n",
      "Current loss is: 1.1532705e-5\n"
     ]
    },
    {
     "name": "stderr",
     "output_type": "stream",
     "text": [
      "\r",
      "\u001b[32mloss: 1.14e-05:  78%|███████████████████████████████▊         |  ETA: 0:00:03\u001b[39m"
     ]
    },
    {
     "name": "stdout",
     "output_type": "stream",
     "text": [
      "Current loss is: 1.1402957e-5\n",
      "Current loss is: 1.1281379e-5\n"
     ]
    },
    {
     "name": "stderr",
     "output_type": "stream",
     "text": [
      "\r",
      "\u001b[32mloss: 1.12e-05:  78%|████████████████████████████████▏        |  ETA: 0:00:03\u001b[39m"
     ]
    },
    {
     "name": "stdout",
     "output_type": "stream",
     "text": [
      "Current loss is: 1.11674335e-5\n",
      "Current loss is: 1.1061023e-5\n"
     ]
    },
    {
     "name": "stderr",
     "output_type": "stream",
     "text": [
      "\r",
      "\u001b[32mloss: 1.1e-05:  80%|████████████████████████████████▋        |  ETA: 0:00:03\u001b[39m"
     ]
    },
    {
     "name": "stdout",
     "output_type": "stream",
     "text": [
      "Current loss is: 1.09616385e-5\n",
      "Current loss is: 1.0869138e-5\n"
     ]
    },
    {
     "name": "stderr",
     "output_type": "stream",
     "text": [
      "\r",
      "\u001b[32mloss: 1.08e-05:  80%|█████████████████████████████████        |  ETA: 0:00:03\u001b[39m"
     ]
    },
    {
     "name": "stdout",
     "output_type": "stream",
     "text": [
      "Current loss is: 1.0782999e-5\n",
      "Current loss is: 1.0703084e-5\n"
     ]
    },
    {
     "name": "stderr",
     "output_type": "stream",
     "text": [
      "\r",
      "\u001b[32mloss: 1.06e-05:  82%|█████████████████████████████████▍       |  ETA: 0:00:03\u001b[39m"
     ]
    },
    {
     "name": "stdout",
     "output_type": "stream",
     "text": [
      "Current loss is: 1.0629046e-5\n",
      "Current loss is: 1.0560605e-5\n"
     ]
    },
    {
     "name": "stderr",
     "output_type": "stream",
     "text": [
      "\r",
      "\u001b[32mloss: 1.05e-05:  82%|█████████████████████████████████▉       |  ETA: 0:00:02\u001b[39m"
     ]
    },
    {
     "name": "stdout",
     "output_type": "stream",
     "text": [
      "Current loss is: 1.04972805e-5\n",
      "Current loss is: 1.0438844e-5\n"
     ]
    },
    {
     "name": "stderr",
     "output_type": "stream",
     "text": [
      "\r",
      "\u001b[32mloss: 1.04e-05:  84%|██████████████████████████████████▎      |  ETA: 0:00:02\u001b[39m"
     ]
    },
    {
     "name": "stdout",
     "output_type": "stream",
     "text": [
      "Current loss is: 1.03849015e-5\n",
      "Current loss is: 1.0335169e-5\n"
     ]
    },
    {
     "name": "stderr",
     "output_type": "stream",
     "text": [
      "\r",
      "\u001b[32mloss: 1.03e-05:  84%|██████████████████████████████████▋      |  ETA: 0:00:02\u001b[39m"
     ]
    },
    {
     "name": "stdout",
     "output_type": "stream",
     "text": [
      "Current loss is: 1.028917e-5\n",
      "Current loss is: 1.0246664e-5\n"
     ]
    },
    {
     "name": "stderr",
     "output_type": "stream",
     "text": [
      "\r",
      "\u001b[32mloss: 1.02e-05:  86%|███████████████████████████████████      |  ETA: 0:00:02\u001b[39m"
     ]
    },
    {
     "name": "stdout",
     "output_type": "stream",
     "text": [
      "Current loss is: 1.020709e-5\n",
      "Current loss is: 1.0170158e-5\n"
     ]
    },
    {
     "name": "stderr",
     "output_type": "stream",
     "text": [
      "\r",
      "\u001b[32mloss: 1.01e-05:  86%|███████████████████████████████████▌     |  ETA: 0:00:02\u001b[39m"
     ]
    },
    {
     "name": "stdout",
     "output_type": "stream",
     "text": [
      "Current loss is: 1.0135373e-5\n",
      "Current loss is: 1.0102323e-5\n"
     ]
    },
    {
     "name": "stderr",
     "output_type": "stream",
     "text": [
      "\r",
      "\u001b[32mloss: 1.01e-05:  88%|███████████████████████████████████▉     |  ETA: 0:00:02\u001b[39m"
     ]
    },
    {
     "name": "stdout",
     "output_type": "stream",
     "text": [
      "Current loss is: 1.0070656e-5\n",
      "Current loss is: 1.0039839e-5\n"
     ]
    },
    {
     "name": "stderr",
     "output_type": "stream",
     "text": [
      "\r",
      "\u001b[32mloss: 1e-05:  88%|████████████████████████████████████▎    |  ETA: 0:00:02\u001b[39m"
     ]
    },
    {
     "name": "stdout",
     "output_type": "stream",
     "text": [
      "Current loss is: 1.0009519e-5\n",
      "Current loss is: 9.979219e-6\n"
     ]
    },
    {
     "name": "stderr",
     "output_type": "stream",
     "text": [
      "\r",
      "\u001b[32mloss: 9.95e-06:  90%|████████████████████████████████████▊    |  ETA: 0:00:01\u001b[39m"
     ]
    },
    {
     "name": "stdout",
     "output_type": "stream",
     "text": [
      "Current loss is: 9.948604e-6\n",
      "Current loss is: 9.917114e-6\n"
     ]
    },
    {
     "name": "stderr",
     "output_type": "stream",
     "text": [
      "\r",
      "\u001b[32mloss: 9.88e-06:  90%|█████████████████████████████████████▏   |  ETA: 0:00:01\u001b[39m"
     ]
    },
    {
     "name": "stdout",
     "output_type": "stream",
     "text": [
      "Current loss is: 9.884517e-6\n",
      "Current loss is: 9.850354e-6\n"
     ]
    },
    {
     "name": "stderr",
     "output_type": "stream",
     "text": [
      "\r",
      "\u001b[32mloss: 9.81e-06:  92%|█████████████████████████████████████▌   |  ETA: 0:00:01\u001b[39m"
     ]
    },
    {
     "name": "stdout",
     "output_type": "stream",
     "text": [
      "Current loss is: 9.814269e-6\n",
      "Current loss is: 9.775923e-6\n"
     ]
    },
    {
     "name": "stderr",
     "output_type": "stream",
     "text": [
      "\r",
      "\u001b[32mloss: 9.74e-06:  92%|█████████████████████████████████████▉   |  ETA: 0:00:01\u001b[39m"
     ]
    },
    {
     "name": "stdout",
     "output_type": "stream",
     "text": [
      "Current loss is: 9.73508e-6\n",
      "Current loss is: 9.691476e-6\n"
     ]
    },
    {
     "name": "stderr",
     "output_type": "stream",
     "text": [
      "\r",
      "\u001b[32mloss: 9.64e-06:  94%|██████████████████████████████████████▍  |  ETA: 0:00:01\u001b[39m"
     ]
    },
    {
     "name": "stdout",
     "output_type": "stream",
     "text": [
      "Current loss is: 9.644835e-6\n",
      "Current loss is: 9.595012e-6\n"
     ]
    },
    {
     "name": "stderr",
     "output_type": "stream",
     "text": [
      "\r",
      "\u001b[32mloss: 9.54e-06:  94%|██████████████████████████████████████▊  |  ETA: 0:00:01\u001b[39m"
     ]
    },
    {
     "name": "stdout",
     "output_type": "stream",
     "text": [
      "Current loss is: 9.54181e-6\n",
      "Current loss is: 9.485156e-6\n"
     ]
    },
    {
     "name": "stderr",
     "output_type": "stream",
     "text": [
      "\r",
      "\u001b[32mloss: 9.42e-06:  96%|███████████████████████████████████████▏ |  ETA: 0:00:01\u001b[39m"
     ]
    },
    {
     "name": "stdout",
     "output_type": "stream",
     "text": [
      "Current loss is: 9.4249735e-6\n",
      "Current loss is: 9.361218e-6\n"
     ]
    },
    {
     "name": "stderr",
     "output_type": "stream",
     "text": [
      "\r",
      "\u001b[32mloss: 9.29e-06:  96%|███████████████████████████████████████▋ |  ETA: 0:00:00\u001b[39m"
     ]
    },
    {
     "name": "stdout",
     "output_type": "stream",
     "text": [
      "Current loss is: 9.293965e-6\n",
      "Current loss is: 9.223175e-6\n"
     ]
    },
    {
     "name": "stderr",
     "output_type": "stream",
     "text": [
      "\r",
      "\u001b[32mloss: 9.15e-06:  98%|████████████████████████████████████████ |  ETA: 0:00:00\u001b[39m"
     ]
    },
    {
     "name": "stdout",
     "output_type": "stream",
     "text": [
      "Current loss is: 9.14897e-6\n",
      "Current loss is: 9.0714675e-6\n"
     ]
    },
    {
     "name": "stderr",
     "output_type": "stream",
     "text": [
      "\r",
      "\u001b[32mloss: 8.99e-06:  98%|████████████████████████████████████████▍|  ETA: 0:00:00\u001b[39m"
     ]
    },
    {
     "name": "stdout",
     "output_type": "stream",
     "text": [
      "Current loss is: 8.99083e-6\n",
      "Current loss is: 8.90714e-6\n"
     ]
    },
    {
     "name": "stderr",
     "output_type": "stream",
     "text": [
      "\u001b[32mloss: 8.73e-06: 100%|█████████████████████████████████████████| Time: 0:00:14\u001b[39m\n"
     ]
    },
    {
     "name": "stdout",
     "output_type": "stream",
     "text": [
      "Current loss is: 8.820682e-6\n",
      "Current loss is: 8.731646e-6\n",
      "Current loss is: 8.731646e-6\n"
     ]
    },
    {
     "data": {
      "text/plain": [
       "retcode: Default\n",
       "Interpolation: 1st order linear\n",
       "t: 0.0f0:0.02f0:1.0f0\n",
       "u: 51-element Array{Array{Float32,1},1}:\n",
       " [1.0, 1.0]              \n",
       " [0.9808549, 0.98040175] \n",
       " [0.96201587, 0.96113765]\n",
       " [0.94348073, 0.94220525]\n",
       " [0.9252475, 0.9236021]  \n",
       " [0.9073138, 0.9053257]  \n",
       " [0.8896775, 0.8873734]  \n",
       " [0.8723362, 0.86974233] \n",
       " [0.8552873, 0.85242975] \n",
       " [0.8385282, 0.8354326]  \n",
       " [0.8220564, 0.81874794] \n",
       " [0.80586904, 0.8023726] \n",
       " [0.78996336, 0.7863034] \n",
       " ⋮                       \n",
       " [0.45506912, 0.45479316]\n",
       " [0.4456861, 0.44577152] \n",
       " [0.4364828, 0.43694288] \n",
       " [0.42745548, 0.42830312]\n",
       " [0.4186005, 0.41984814] \n",
       " [0.40991396, 0.41157377]\n",
       " [0.40139222, 0.40347612]\n",
       " [0.39303166, 0.3955511] \n",
       " [0.38482845, 0.38779455]\n",
       " [0.37677896, 0.38020265]\n",
       " [0.36887956, 0.37277138]\n",
       " [0.36112672, 0.36549675]"
      ]
     },
     "execution_count": 5,
     "metadata": {},
     "output_type": "execute_result"
    }
   ],
   "source": [
    "using Flux, NeuralNetDiffEq, Optim, Plots\n",
    "\n",
    "linear = (u, p, t) -> -u\n",
    "tspan = (0.0f0, 1.0f0)\n",
    "u0 = [1.0f0, 1.0f0]\n",
    "prob = ODEProblem(linear, u0 ,tspan)\n",
    "chain = Flux.Chain(Dense(1, 10, σ), Dense(10, 2))\n",
    "opt = Flux.ADAM(0.1, (0.9, 0.95)) # parameters are important\n",
    "sol = solve(prob, NeuralNetDiffEq.NNODE(chain, opt, autodiff=true), dt=1/50f0, verbose=true, abstol=1e-10, maxiters=200)"
   ]
  },
  {
   "cell_type": "code",
   "execution_count": 6,
   "metadata": {},
   "outputs": [
    {
     "data": {
      "image/svg+xml": [
       "<?xml version=\"1.0\" encoding=\"utf-8\"?>\n",
       "<svg xmlns=\"http://www.w3.org/2000/svg\" xmlns:xlink=\"http://www.w3.org/1999/xlink\" width=\"600\" height=\"400\" viewBox=\"0 0 2400 1600\">\n",
       "<defs>\n",
       "  <clipPath id=\"clip3900\">\n",
       "    <rect x=\"0\" y=\"0\" width=\"2400\" height=\"1600\"/>\n",
       "  </clipPath>\n",
       "</defs>\n",
       "<path clip-path=\"url(#clip3900)\" d=\"\n",
       "M0 1600 L2400 1600 L2400 0 L0 0  Z\n",
       "  \" fill=\"#ffffff\" fill-rule=\"evenodd\" fill-opacity=\"1\"/>\n",
       "<defs>\n",
       "  <clipPath id=\"clip3901\">\n",
       "    <rect x=\"480\" y=\"0\" width=\"1681\" height=\"1600\"/>\n",
       "  </clipPath>\n",
       "</defs>\n",
       "<path clip-path=\"url(#clip3900)\" d=\"\n",
       "M148.334 1423.18 L2352.76 1423.18 L2352.76 47.2441 L148.334 47.2441  Z\n",
       "  \" fill=\"#ffffff\" fill-rule=\"evenodd\" fill-opacity=\"1\"/>\n",
       "<defs>\n",
       "  <clipPath id=\"clip3902\">\n",
       "    <rect x=\"148\" y=\"47\" width=\"2205\" height=\"1377\"/>\n",
       "  </clipPath>\n",
       "</defs>\n",
       "<polyline clip-path=\"url(#clip3902)\" style=\"stroke:#000000; stroke-width:2; stroke-opacity:0.1; fill:none\" points=\"\n",
       "  148.334,1423.18 148.334,47.2441 \n",
       "  \"/>\n",
       "<polyline clip-path=\"url(#clip3902)\" style=\"stroke:#000000; stroke-width:2; stroke-opacity:0.1; fill:none\" points=\"\n",
       "  589.219,1423.18 589.219,47.2441 \n",
       "  \"/>\n",
       "<polyline clip-path=\"url(#clip3902)\" style=\"stroke:#000000; stroke-width:2; stroke-opacity:0.1; fill:none\" points=\"\n",
       "  1030.1,1423.18 1030.1,47.2441 \n",
       "  \"/>\n",
       "<polyline clip-path=\"url(#clip3902)\" style=\"stroke:#000000; stroke-width:2; stroke-opacity:0.1; fill:none\" points=\"\n",
       "  1470.99,1423.18 1470.99,47.2441 \n",
       "  \"/>\n",
       "<polyline clip-path=\"url(#clip3902)\" style=\"stroke:#000000; stroke-width:2; stroke-opacity:0.1; fill:none\" points=\"\n",
       "  1911.87,1423.18 1911.87,47.2441 \n",
       "  \"/>\n",
       "<polyline clip-path=\"url(#clip3902)\" style=\"stroke:#000000; stroke-width:2; stroke-opacity:0.1; fill:none\" points=\"\n",
       "  2352.76,1423.18 2352.76,47.2441 \n",
       "  \"/>\n",
       "<polyline clip-path=\"url(#clip3902)\" style=\"stroke:#000000; stroke-width:2; stroke-opacity:0.1; fill:none\" points=\"\n",
       "  148.334,1305.26 2352.76,1305.26 \n",
       "  \"/>\n",
       "<polyline clip-path=\"url(#clip3902)\" style=\"stroke:#000000; stroke-width:2; stroke-opacity:0.1; fill:none\" points=\"\n",
       "  148.334,1102.08 2352.76,1102.08 \n",
       "  \"/>\n",
       "<polyline clip-path=\"url(#clip3902)\" style=\"stroke:#000000; stroke-width:2; stroke-opacity:0.1; fill:none\" points=\"\n",
       "  148.334,898.899 2352.76,898.899 \n",
       "  \"/>\n",
       "<polyline clip-path=\"url(#clip3902)\" style=\"stroke:#000000; stroke-width:2; stroke-opacity:0.1; fill:none\" points=\"\n",
       "  148.334,695.721 2352.76,695.721 \n",
       "  \"/>\n",
       "<polyline clip-path=\"url(#clip3902)\" style=\"stroke:#000000; stroke-width:2; stroke-opacity:0.1; fill:none\" points=\"\n",
       "  148.334,492.542 2352.76,492.542 \n",
       "  \"/>\n",
       "<polyline clip-path=\"url(#clip3902)\" style=\"stroke:#000000; stroke-width:2; stroke-opacity:0.1; fill:none\" points=\"\n",
       "  148.334,289.364 2352.76,289.364 \n",
       "  \"/>\n",
       "<polyline clip-path=\"url(#clip3902)\" style=\"stroke:#000000; stroke-width:2; stroke-opacity:0.1; fill:none\" points=\"\n",
       "  148.334,86.1857 2352.76,86.1857 \n",
       "  \"/>\n",
       "<polyline clip-path=\"url(#clip3900)\" style=\"stroke:#000000; stroke-width:4; stroke-opacity:1; fill:none\" points=\"\n",
       "  148.334,1423.18 2352.76,1423.18 \n",
       "  \"/>\n",
       "<polyline clip-path=\"url(#clip3900)\" style=\"stroke:#000000; stroke-width:4; stroke-opacity:1; fill:none\" points=\"\n",
       "  148.334,1423.18 148.334,47.2441 \n",
       "  \"/>\n",
       "<polyline clip-path=\"url(#clip3900)\" style=\"stroke:#000000; stroke-width:4; stroke-opacity:1; fill:none\" points=\"\n",
       "  148.334,1423.18 148.334,1406.67 \n",
       "  \"/>\n",
       "<polyline clip-path=\"url(#clip3900)\" style=\"stroke:#000000; stroke-width:4; stroke-opacity:1; fill:none\" points=\"\n",
       "  589.219,1423.18 589.219,1406.67 \n",
       "  \"/>\n",
       "<polyline clip-path=\"url(#clip3900)\" style=\"stroke:#000000; stroke-width:4; stroke-opacity:1; fill:none\" points=\"\n",
       "  1030.1,1423.18 1030.1,1406.67 \n",
       "  \"/>\n",
       "<polyline clip-path=\"url(#clip3900)\" style=\"stroke:#000000; stroke-width:4; stroke-opacity:1; fill:none\" points=\"\n",
       "  1470.99,1423.18 1470.99,1406.67 \n",
       "  \"/>\n",
       "<polyline clip-path=\"url(#clip3900)\" style=\"stroke:#000000; stroke-width:4; stroke-opacity:1; fill:none\" points=\"\n",
       "  1911.87,1423.18 1911.87,1406.67 \n",
       "  \"/>\n",
       "<polyline clip-path=\"url(#clip3900)\" style=\"stroke:#000000; stroke-width:4; stroke-opacity:1; fill:none\" points=\"\n",
       "  2352.76,1423.18 2352.76,1406.67 \n",
       "  \"/>\n",
       "<polyline clip-path=\"url(#clip3900)\" style=\"stroke:#000000; stroke-width:4; stroke-opacity:1; fill:none\" points=\"\n",
       "  148.334,1305.26 174.787,1305.26 \n",
       "  \"/>\n",
       "<polyline clip-path=\"url(#clip3900)\" style=\"stroke:#000000; stroke-width:4; stroke-opacity:1; fill:none\" points=\"\n",
       "  148.334,1102.08 174.787,1102.08 \n",
       "  \"/>\n",
       "<polyline clip-path=\"url(#clip3900)\" style=\"stroke:#000000; stroke-width:4; stroke-opacity:1; fill:none\" points=\"\n",
       "  148.334,898.899 174.787,898.899 \n",
       "  \"/>\n",
       "<polyline clip-path=\"url(#clip3900)\" style=\"stroke:#000000; stroke-width:4; stroke-opacity:1; fill:none\" points=\"\n",
       "  148.334,695.721 174.787,695.721 \n",
       "  \"/>\n",
       "<polyline clip-path=\"url(#clip3900)\" style=\"stroke:#000000; stroke-width:4; stroke-opacity:1; fill:none\" points=\"\n",
       "  148.334,492.542 174.787,492.542 \n",
       "  \"/>\n",
       "<polyline clip-path=\"url(#clip3900)\" style=\"stroke:#000000; stroke-width:4; stroke-opacity:1; fill:none\" points=\"\n",
       "  148.334,289.364 174.787,289.364 \n",
       "  \"/>\n",
       "<polyline clip-path=\"url(#clip3900)\" style=\"stroke:#000000; stroke-width:4; stroke-opacity:1; fill:none\" points=\"\n",
       "  148.334,86.1857 174.787,86.1857 \n",
       "  \"/>\n",
       "<path clip-path=\"url(#clip3900)\" d=\"M 0 0 M129.851 1445.17 Q126.24 1445.17 124.411 1448.74 Q122.605 1452.28 122.605 1459.41 Q122.605 1466.51 124.411 1470.08 Q126.24 1473.62 129.851 1473.62 Q133.485 1473.62 135.29 1470.08 Q137.119 1466.51 137.119 1459.41 Q137.119 1452.28 135.29 1448.74 Q133.485 1445.17 129.851 1445.17 M129.851 1441.47 Q135.661 1441.47 138.716 1446.07 Q141.795 1450.66 141.795 1459.41 Q141.795 1468.13 138.716 1472.74 Q135.661 1477.32 129.851 1477.32 Q124.041 1477.32 120.962 1472.74 Q117.906 1468.13 117.906 1459.41 Q117.906 1450.66 120.962 1446.07 Q124.041 1441.47 129.851 1441.47 Z\" fill=\"#000000\" fill-rule=\"evenodd\" fill-opacity=\"1\" /><path clip-path=\"url(#clip3900)\" d=\"M 0 0 M146.864 1470.77 L151.749 1470.77 L151.749 1476.65 L146.864 1476.65 L146.864 1470.77 Z\" fill=\"#000000\" fill-rule=\"evenodd\" fill-opacity=\"1\" /><path clip-path=\"url(#clip3900)\" d=\"M 0 0 M166.818 1445.17 Q163.207 1445.17 161.378 1448.74 Q159.573 1452.28 159.573 1459.41 Q159.573 1466.51 161.378 1470.08 Q163.207 1473.62 166.818 1473.62 Q170.452 1473.62 172.258 1470.08 Q174.087 1466.51 174.087 1459.41 Q174.087 1452.28 172.258 1448.74 Q170.452 1445.17 166.818 1445.17 M166.818 1441.47 Q172.628 1441.47 175.684 1446.07 Q178.762 1450.66 178.762 1459.41 Q178.762 1468.13 175.684 1472.74 Q172.628 1477.32 166.818 1477.32 Q161.008 1477.32 157.929 1472.74 Q154.874 1468.13 154.874 1459.41 Q154.874 1450.66 157.929 1446.07 Q161.008 1441.47 166.818 1441.47 Z\" fill=\"#000000\" fill-rule=\"evenodd\" fill-opacity=\"1\" /><path clip-path=\"url(#clip3900)\" d=\"M 0 0 M571.534 1445.17 Q567.923 1445.17 566.094 1448.74 Q564.288 1452.28 564.288 1459.41 Q564.288 1466.51 566.094 1470.08 Q567.923 1473.62 571.534 1473.62 Q575.168 1473.62 576.973 1470.08 Q578.802 1466.51 578.802 1459.41 Q578.802 1452.28 576.973 1448.74 Q575.168 1445.17 571.534 1445.17 M571.534 1441.47 Q577.344 1441.47 580.399 1446.07 Q583.478 1450.66 583.478 1459.41 Q583.478 1468.13 580.399 1472.74 Q577.344 1477.32 571.534 1477.32 Q565.723 1477.32 562.645 1472.74 Q559.589 1468.13 559.589 1459.41 Q559.589 1450.66 562.645 1446.07 Q565.723 1441.47 571.534 1441.47 Z\" fill=\"#000000\" fill-rule=\"evenodd\" fill-opacity=\"1\" /><path clip-path=\"url(#clip3900)\" d=\"M 0 0 M588.547 1470.77 L593.432 1470.77 L593.432 1476.65 L588.547 1476.65 L588.547 1470.77 Z\" fill=\"#000000\" fill-rule=\"evenodd\" fill-opacity=\"1\" /><path clip-path=\"url(#clip3900)\" d=\"M 0 0 M602.529 1472.72 L618.848 1472.72 L618.848 1476.65 L596.904 1476.65 L596.904 1472.72 Q599.566 1469.96 604.149 1465.33 Q608.756 1460.68 609.936 1459.34 Q612.182 1456.81 613.061 1455.08 Q613.964 1453.32 613.964 1451.63 Q613.964 1448.87 612.019 1447.14 Q610.098 1445.4 606.996 1445.4 Q604.797 1445.4 602.344 1446.17 Q599.913 1446.93 597.135 1448.48 L597.135 1443.76 Q599.959 1442.62 602.413 1442.05 Q604.867 1441.47 606.904 1441.47 Q612.274 1441.47 615.469 1444.15 Q618.663 1446.84 618.663 1451.33 Q618.663 1453.46 617.853 1455.38 Q617.066 1457.28 614.959 1459.87 Q614.381 1460.54 611.279 1463.76 Q608.177 1466.95 602.529 1472.72 Z\" fill=\"#000000\" fill-rule=\"evenodd\" fill-opacity=\"1\" /><path clip-path=\"url(#clip3900)\" d=\"M 0 0 M1011.38 1445.17 Q1007.77 1445.17 1005.94 1448.74 Q1004.13 1452.28 1004.13 1459.41 Q1004.13 1466.51 1005.94 1470.08 Q1007.77 1473.62 1011.38 1473.62 Q1015.01 1473.62 1016.82 1470.08 Q1018.64 1466.51 1018.64 1459.41 Q1018.64 1452.28 1016.82 1448.74 Q1015.01 1445.17 1011.38 1445.17 M1011.38 1441.47 Q1017.19 1441.47 1020.24 1446.07 Q1023.32 1450.66 1023.32 1459.41 Q1023.32 1468.13 1020.24 1472.74 Q1017.19 1477.32 1011.38 1477.32 Q1005.57 1477.32 1002.49 1472.74 Q999.432 1468.13 999.432 1459.41 Q999.432 1450.66 1002.49 1446.07 Q1005.57 1441.47 1011.38 1441.47 Z\" fill=\"#000000\" fill-rule=\"evenodd\" fill-opacity=\"1\" /><path clip-path=\"url(#clip3900)\" d=\"M 0 0 M1028.39 1470.77 L1033.27 1470.77 L1033.27 1476.65 L1028.39 1476.65 L1028.39 1470.77 Z\" fill=\"#000000\" fill-rule=\"evenodd\" fill-opacity=\"1\" /><path clip-path=\"url(#clip3900)\" d=\"M 0 0 M1051.19 1446.17 L1039.39 1464.61 L1051.19 1464.61 L1051.19 1446.17 M1049.96 1442.09 L1055.84 1442.09 L1055.84 1464.61 L1060.77 1464.61 L1060.77 1468.5 L1055.84 1468.5 L1055.84 1476.65 L1051.19 1476.65 L1051.19 1468.5 L1035.59 1468.5 L1035.59 1463.99 L1049.96 1442.09 Z\" fill=\"#000000\" fill-rule=\"evenodd\" fill-opacity=\"1\" /><path clip-path=\"url(#clip3900)\" d=\"M 0 0 M1452.42 1445.17 Q1448.81 1445.17 1446.98 1448.74 Q1445.18 1452.28 1445.18 1459.41 Q1445.18 1466.51 1446.98 1470.08 Q1448.81 1473.62 1452.42 1473.62 Q1456.06 1473.62 1457.86 1470.08 Q1459.69 1466.51 1459.69 1459.41 Q1459.69 1452.28 1457.86 1448.74 Q1456.06 1445.17 1452.42 1445.17 M1452.42 1441.47 Q1458.23 1441.47 1461.29 1446.07 Q1464.37 1450.66 1464.37 1459.41 Q1464.37 1468.13 1461.29 1472.74 Q1458.23 1477.32 1452.42 1477.32 Q1446.61 1477.32 1443.53 1472.74 Q1440.48 1468.13 1440.48 1459.41 Q1440.48 1450.66 1443.53 1446.07 Q1446.61 1441.47 1452.42 1441.47 Z\" fill=\"#000000\" fill-rule=\"evenodd\" fill-opacity=\"1\" /><path clip-path=\"url(#clip3900)\" d=\"M 0 0 M1469.44 1470.77 L1474.32 1470.77 L1474.32 1476.65 L1469.44 1476.65 L1469.44 1470.77 Z\" fill=\"#000000\" fill-rule=\"evenodd\" fill-opacity=\"1\" /><path clip-path=\"url(#clip3900)\" d=\"M 0 0 M1489.97 1457.51 Q1486.82 1457.51 1484.97 1459.66 Q1483.14 1461.81 1483.14 1465.56 Q1483.14 1469.29 1484.97 1471.47 Q1486.82 1473.62 1489.97 1473.62 Q1493.12 1473.62 1494.95 1471.47 Q1496.8 1469.29 1496.8 1465.56 Q1496.8 1461.81 1494.95 1459.66 Q1493.12 1457.51 1489.97 1457.51 M1499.25 1442.86 L1499.25 1447.11 Q1497.49 1446.28 1495.69 1445.84 Q1493.9 1445.4 1492.14 1445.4 Q1487.51 1445.4 1485.06 1448.53 Q1482.63 1451.65 1482.28 1457.97 Q1483.65 1455.96 1485.71 1454.89 Q1487.77 1453.8 1490.25 1453.8 Q1495.45 1453.8 1498.46 1456.98 Q1501.5 1460.12 1501.5 1465.56 Q1501.5 1470.89 1498.35 1474.11 Q1495.2 1477.32 1489.97 1477.32 Q1483.97 1477.32 1480.8 1472.74 Q1477.63 1468.13 1477.63 1459.41 Q1477.63 1451.21 1481.52 1446.35 Q1485.41 1441.47 1491.96 1441.47 Q1493.72 1441.47 1495.5 1441.81 Q1497.31 1442.16 1499.25 1442.86 Z\" fill=\"#000000\" fill-rule=\"evenodd\" fill-opacity=\"1\" /><path clip-path=\"url(#clip3900)\" d=\"M 0 0 M1893.43 1445.17 Q1889.82 1445.17 1887.99 1448.74 Q1886.19 1452.28 1886.19 1459.41 Q1886.19 1466.51 1887.99 1470.08 Q1889.82 1473.62 1893.43 1473.62 Q1897.07 1473.62 1898.87 1470.08 Q1900.7 1466.51 1900.7 1459.41 Q1900.7 1452.28 1898.87 1448.74 Q1897.07 1445.17 1893.43 1445.17 M1893.43 1441.47 Q1899.24 1441.47 1902.3 1446.07 Q1905.38 1450.66 1905.38 1459.41 Q1905.38 1468.13 1902.3 1472.74 Q1899.24 1477.32 1893.43 1477.32 Q1887.62 1477.32 1884.55 1472.74 Q1881.49 1468.13 1881.49 1459.41 Q1881.49 1450.66 1884.55 1446.07 Q1887.62 1441.47 1893.43 1441.47 Z\" fill=\"#000000\" fill-rule=\"evenodd\" fill-opacity=\"1\" /><path clip-path=\"url(#clip3900)\" d=\"M 0 0 M1910.45 1470.77 L1915.33 1470.77 L1915.33 1476.65 L1910.45 1476.65 L1910.45 1470.77 Z\" fill=\"#000000\" fill-rule=\"evenodd\" fill-opacity=\"1\" /><path clip-path=\"url(#clip3900)\" d=\"M 0 0 M1930.4 1460.24 Q1927.07 1460.24 1925.15 1462.02 Q1923.25 1463.8 1923.25 1466.93 Q1923.25 1470.05 1925.15 1471.84 Q1927.07 1473.62 1930.4 1473.62 Q1933.73 1473.62 1935.66 1471.84 Q1937.58 1470.03 1937.58 1466.93 Q1937.58 1463.8 1935.66 1462.02 Q1933.76 1460.24 1930.4 1460.24 M1925.73 1458.25 Q1922.72 1457.51 1921.03 1455.45 Q1919.36 1453.39 1919.36 1450.43 Q1919.36 1446.28 1922.3 1443.87 Q1925.26 1441.47 1930.4 1441.47 Q1935.56 1441.47 1938.5 1443.87 Q1941.44 1446.28 1941.44 1450.43 Q1941.44 1453.39 1939.75 1455.45 Q1938.09 1457.51 1935.1 1458.25 Q1938.48 1459.04 1940.36 1461.33 Q1942.25 1463.62 1942.25 1466.93 Q1942.25 1471.95 1939.17 1474.64 Q1936.12 1477.32 1930.4 1477.32 Q1924.68 1477.32 1921.61 1474.64 Q1918.55 1471.95 1918.55 1466.93 Q1918.55 1463.62 1920.45 1461.33 Q1922.35 1459.04 1925.73 1458.25 M1924.01 1450.86 Q1924.01 1453.55 1925.68 1455.05 Q1927.37 1456.56 1930.4 1456.56 Q1933.41 1456.56 1935.1 1455.05 Q1936.81 1453.55 1936.81 1450.86 Q1936.81 1448.18 1935.1 1446.68 Q1933.41 1445.17 1930.4 1445.17 Q1927.37 1445.17 1925.68 1446.68 Q1924.01 1448.18 1924.01 1450.86 Z\" fill=\"#000000\" fill-rule=\"evenodd\" fill-opacity=\"1\" /><path clip-path=\"url(#clip3900)\" d=\"M 0 0 M2324.65 1472.72 L2332.29 1472.72 L2332.29 1446.35 L2323.98 1448.02 L2323.98 1443.76 L2332.25 1442.09 L2336.92 1442.09 L2336.92 1472.72 L2344.56 1472.72 L2344.56 1476.65 L2324.65 1476.65 L2324.65 1472.72 Z\" fill=\"#000000\" fill-rule=\"evenodd\" fill-opacity=\"1\" /><path clip-path=\"url(#clip3900)\" d=\"M 0 0 M2349.63 1470.77 L2354.52 1470.77 L2354.52 1476.65 L2349.63 1476.65 L2349.63 1470.77 Z\" fill=\"#000000\" fill-rule=\"evenodd\" fill-opacity=\"1\" /><path clip-path=\"url(#clip3900)\" d=\"M 0 0 M2369.58 1445.17 Q2365.97 1445.17 2364.14 1448.74 Q2362.34 1452.28 2362.34 1459.41 Q2362.34 1466.51 2364.14 1470.08 Q2365.97 1473.62 2369.58 1473.62 Q2373.22 1473.62 2375.02 1470.08 Q2376.85 1466.51 2376.85 1459.41 Q2376.85 1452.28 2375.02 1448.74 Q2373.22 1445.17 2369.58 1445.17 M2369.58 1441.47 Q2375.39 1441.47 2378.45 1446.07 Q2381.53 1450.66 2381.53 1459.41 Q2381.53 1468.13 2378.45 1472.74 Q2375.39 1477.32 2369.58 1477.32 Q2363.77 1477.32 2360.7 1472.74 Q2357.64 1468.13 2357.64 1459.41 Q2357.64 1450.66 2360.7 1446.07 Q2363.77 1441.47 2369.58 1441.47 Z\" fill=\"#000000\" fill-rule=\"evenodd\" fill-opacity=\"1\" /><path clip-path=\"url(#clip3900)\" d=\"M 0 0 M74.9365 1291.05 Q71.3254 1291.05 69.4967 1294.62 Q67.6912 1298.16 67.6912 1305.29 Q67.6912 1312.4 69.4967 1315.96 Q71.3254 1319.5 74.9365 1319.5 Q78.5707 1319.5 80.3763 1315.96 Q82.205 1312.4 82.205 1305.29 Q82.205 1298.16 80.3763 1294.62 Q78.5707 1291.05 74.9365 1291.05 M74.9365 1287.35 Q80.7467 1287.35 83.8022 1291.96 Q86.8809 1296.54 86.8809 1305.29 Q86.8809 1314.02 83.8022 1318.62 Q80.7467 1323.21 74.9365 1323.21 Q69.1264 1323.21 66.0477 1318.62 Q62.9921 1314.02 62.9921 1305.29 Q62.9921 1296.54 66.0477 1291.96 Q69.1264 1287.35 74.9365 1287.35 Z\" fill=\"#000000\" fill-rule=\"evenodd\" fill-opacity=\"1\" /><path clip-path=\"url(#clip3900)\" d=\"M 0 0 M91.9503 1316.66 L96.8345 1316.66 L96.8345 1322.54 L91.9503 1322.54 L91.9503 1316.66 Z\" fill=\"#000000\" fill-rule=\"evenodd\" fill-opacity=\"1\" /><path clip-path=\"url(#clip3900)\" d=\"M 0 0 M114.751 1292.05 L102.946 1310.5 L114.751 1310.5 L114.751 1292.05 M113.524 1287.98 L119.404 1287.98 L119.404 1310.5 L124.334 1310.5 L124.334 1314.39 L119.404 1314.39 L119.404 1322.54 L114.751 1322.54 L114.751 1314.39 L99.1493 1314.39 L99.1493 1309.87 L113.524 1287.98 Z\" fill=\"#000000\" fill-rule=\"evenodd\" fill-opacity=\"1\" /><path clip-path=\"url(#clip3900)\" d=\"M 0 0 M76.418 1087.88 Q72.8069 1087.88 70.9782 1091.44 Q69.1726 1094.98 69.1726 1102.11 Q69.1726 1109.22 70.9782 1112.78 Q72.8069 1116.33 76.418 1116.33 Q80.0522 1116.33 81.8578 1112.78 Q83.6865 1109.22 83.6865 1102.11 Q83.6865 1094.98 81.8578 1091.44 Q80.0522 1087.88 76.418 1087.88 M76.418 1084.17 Q82.2281 1084.17 85.2837 1088.78 Q88.3624 1093.36 88.3624 1102.11 Q88.3624 1110.84 85.2837 1115.45 Q82.2281 1120.03 76.418 1120.03 Q70.6078 1120.03 67.5291 1115.45 Q64.4736 1110.84 64.4736 1102.11 Q64.4736 1093.36 67.5291 1088.78 Q70.6078 1084.17 76.418 1084.17 Z\" fill=\"#000000\" fill-rule=\"evenodd\" fill-opacity=\"1\" /><path clip-path=\"url(#clip3900)\" d=\"M 0 0 M93.4318 1113.48 L98.316 1113.48 L98.316 1119.36 L93.4318 1119.36 L93.4318 1113.48 Z\" fill=\"#000000\" fill-rule=\"evenodd\" fill-opacity=\"1\" /><path clip-path=\"url(#clip3900)\" d=\"M 0 0 M103.432 1084.8 L121.788 1084.8 L121.788 1088.73 L107.714 1088.73 L107.714 1097.21 Q108.733 1096.86 109.751 1096.7 Q110.77 1096.51 111.788 1096.51 Q117.575 1096.51 120.955 1099.68 Q124.334 1102.85 124.334 1108.27 Q124.334 1113.85 120.862 1116.95 Q117.39 1120.03 111.071 1120.03 Q108.895 1120.03 106.626 1119.66 Q104.381 1119.29 101.973 1118.55 L101.973 1113.85 Q104.057 1114.98 106.279 1115.54 Q108.501 1116.09 110.978 1116.09 Q114.983 1116.09 117.321 1113.99 Q119.658 1111.88 119.658 1108.27 Q119.658 1104.66 117.321 1102.55 Q114.983 1100.45 110.978 1100.45 Q109.103 1100.45 107.228 1100.86 Q105.376 1101.28 103.432 1102.16 L103.432 1084.8 Z\" fill=\"#000000\" fill-rule=\"evenodd\" fill-opacity=\"1\" /><path clip-path=\"url(#clip3900)\" d=\"M 0 0 M75.2606 884.698 Q71.6495 884.698 69.8208 888.263 Q68.0152 891.804 68.0152 898.934 Q68.0152 906.04 69.8208 909.605 Q71.6495 913.147 75.2606 913.147 Q78.8948 913.147 80.7004 909.605 Q82.5291 906.04 82.5291 898.934 Q82.5291 891.804 80.7004 888.263 Q78.8948 884.698 75.2606 884.698 M75.2606 880.994 Q81.0707 880.994 84.1263 885.601 Q87.205 890.184 87.205 898.934 Q87.205 907.661 84.1263 912.267 Q81.0707 916.851 75.2606 916.851 Q69.4504 916.851 66.3717 912.267 Q63.3162 907.661 63.3162 898.934 Q63.3162 890.184 66.3717 885.601 Q69.4504 880.994 75.2606 880.994 Z\" fill=\"#000000\" fill-rule=\"evenodd\" fill-opacity=\"1\" /><path clip-path=\"url(#clip3900)\" d=\"M 0 0 M92.2744 910.3 L97.1586 910.3 L97.1586 916.179 L92.2744 916.179 L92.2744 910.3 Z\" fill=\"#000000\" fill-rule=\"evenodd\" fill-opacity=\"1\" /><path clip-path=\"url(#clip3900)\" d=\"M 0 0 M112.807 897.036 Q109.659 897.036 107.807 899.189 Q105.978 901.341 105.978 905.091 Q105.978 908.818 107.807 910.994 Q109.659 913.147 112.807 913.147 Q115.955 913.147 117.783 910.994 Q119.635 908.818 119.635 905.091 Q119.635 901.341 117.783 899.189 Q115.955 897.036 112.807 897.036 M122.089 882.383 L122.089 886.642 Q120.33 885.809 118.524 885.369 Q116.742 884.929 114.983 884.929 Q110.353 884.929 107.899 888.054 Q105.469 891.179 105.122 897.499 Q106.487 895.485 108.547 894.42 Q110.608 893.332 113.084 893.332 Q118.293 893.332 121.302 896.504 Q124.334 899.652 124.334 905.091 Q124.334 910.415 121.186 913.633 Q118.038 916.851 112.807 916.851 Q106.811 916.851 103.64 912.267 Q100.469 907.661 100.469 898.934 Q100.469 890.74 104.358 885.879 Q108.247 880.994 114.797 880.994 Q116.557 880.994 118.339 881.342 Q120.145 881.689 122.089 882.383 Z\" fill=\"#000000\" fill-rule=\"evenodd\" fill-opacity=\"1\" /><path clip-path=\"url(#clip3900)\" d=\"M 0 0 M76.3254 681.52 Q72.7143 681.52 70.8856 685.084 Q69.0801 688.626 69.0801 695.756 Q69.0801 702.862 70.8856 706.427 Q72.7143 709.969 76.3254 709.969 Q79.9596 709.969 81.7652 706.427 Q83.5939 702.862 83.5939 695.756 Q83.5939 688.626 81.7652 685.084 Q79.9596 681.52 76.3254 681.52 M76.3254 677.816 Q82.1355 677.816 85.1911 682.422 Q88.2698 687.006 88.2698 695.756 Q88.2698 704.482 85.1911 709.089 Q82.1355 713.672 76.3254 713.672 Q70.5152 713.672 67.4365 709.089 Q64.381 704.482 64.381 695.756 Q64.381 687.006 67.4365 682.422 Q70.5152 677.816 76.3254 677.816 Z\" fill=\"#000000\" fill-rule=\"evenodd\" fill-opacity=\"1\" /><path clip-path=\"url(#clip3900)\" d=\"M 0 0 M93.3392 707.121 L98.2234 707.121 L98.2234 713.001 L93.3392 713.001 L93.3392 707.121 Z\" fill=\"#000000\" fill-rule=\"evenodd\" fill-opacity=\"1\" /><path clip-path=\"url(#clip3900)\" d=\"M 0 0 M102.112 678.441 L124.334 678.441 L124.334 680.432 L111.788 713.001 L106.904 713.001 L118.709 682.376 L102.112 682.376 L102.112 678.441 Z\" fill=\"#000000\" fill-rule=\"evenodd\" fill-opacity=\"1\" /><path clip-path=\"url(#clip3900)\" d=\"M 0 0 M75.5152 478.341 Q71.9041 478.341 70.0754 481.906 Q68.2699 485.448 68.2699 492.577 Q68.2699 499.684 70.0754 503.248 Q71.9041 506.79 75.5152 506.79 Q79.1494 506.79 80.955 503.248 Q82.7837 499.684 82.7837 492.577 Q82.7837 485.448 80.955 481.906 Q79.1494 478.341 75.5152 478.341 M75.5152 474.638 Q81.3254 474.638 84.3809 479.244 Q87.4596 483.827 87.4596 492.577 Q87.4596 501.304 84.3809 505.91 Q81.3254 510.494 75.5152 510.494 Q69.7051 510.494 66.6264 505.91 Q63.5708 501.304 63.5708 492.577 Q63.5708 483.827 66.6264 479.244 Q69.7051 474.638 75.5152 474.638 Z\" fill=\"#000000\" fill-rule=\"evenodd\" fill-opacity=\"1\" /><path clip-path=\"url(#clip3900)\" d=\"M 0 0 M92.529 503.943 L97.4132 503.943 L97.4132 509.822 L92.529 509.822 L92.529 503.943 Z\" fill=\"#000000\" fill-rule=\"evenodd\" fill-opacity=\"1\" /><path clip-path=\"url(#clip3900)\" d=\"M 0 0 M112.483 493.411 Q109.149 493.411 107.228 495.193 Q105.33 496.975 105.33 500.1 Q105.33 503.225 107.228 505.008 Q109.149 506.79 112.483 506.79 Q115.816 506.79 117.737 505.008 Q119.658 503.202 119.658 500.1 Q119.658 496.975 117.737 495.193 Q115.839 493.411 112.483 493.411 M107.807 491.42 Q104.797 490.679 103.108 488.619 Q101.441 486.559 101.441 483.596 Q101.441 479.452 104.381 477.045 Q107.344 474.638 112.483 474.638 Q117.645 474.638 120.584 477.045 Q123.524 479.452 123.524 483.596 Q123.524 486.559 121.834 488.619 Q120.168 490.679 117.182 491.42 Q120.561 492.207 122.436 494.499 Q124.334 496.79 124.334 500.1 Q124.334 505.123 121.256 507.809 Q118.2 510.494 112.483 510.494 Q106.765 510.494 103.686 507.809 Q100.631 505.123 100.631 500.1 Q100.631 496.79 102.529 494.499 Q104.427 492.207 107.807 491.42 M106.094 484.036 Q106.094 486.721 107.76 488.225 Q109.45 489.73 112.483 489.73 Q115.492 489.73 117.182 488.225 Q118.895 486.721 118.895 484.036 Q118.895 481.35 117.182 479.846 Q115.492 478.341 112.483 478.341 Q109.45 478.341 107.76 479.846 Q106.094 481.35 106.094 484.036 Z\" fill=\"#000000\" fill-rule=\"evenodd\" fill-opacity=\"1\" /><path clip-path=\"url(#clip3900)\" d=\"M 0 0 M75.6078 275.163 Q71.9967 275.163 70.168 278.728 Q68.3625 282.269 68.3625 289.399 Q68.3625 296.505 70.168 300.07 Q71.9967 303.612 75.6078 303.612 Q79.242 303.612 81.0476 300.07 Q82.8763 296.505 82.8763 289.399 Q82.8763 282.269 81.0476 278.728 Q79.242 275.163 75.6078 275.163 M75.6078 271.459 Q81.418 271.459 84.4735 276.066 Q87.5522 280.649 87.5522 289.399 Q87.5522 298.126 84.4735 302.732 Q81.418 307.315 75.6078 307.315 Q69.7976 307.315 66.719 302.732 Q63.6634 298.126 63.6634 289.399 Q63.6634 280.649 66.719 276.066 Q69.7976 271.459 75.6078 271.459 Z\" fill=\"#000000\" fill-rule=\"evenodd\" fill-opacity=\"1\" /><path clip-path=\"url(#clip3900)\" d=\"M 0 0 M92.6216 300.764 L97.5058 300.764 L97.5058 306.644 L92.6216 306.644 L92.6216 300.764 Z\" fill=\"#000000\" fill-rule=\"evenodd\" fill-opacity=\"1\" /><path clip-path=\"url(#clip3900)\" d=\"M 0 0 M102.714 305.926 L102.714 301.667 Q104.473 302.501 106.279 302.94 Q108.084 303.38 109.821 303.38 Q114.45 303.38 116.881 300.278 Q119.334 297.153 119.682 290.811 Q118.339 292.802 116.279 293.866 Q114.219 294.931 111.719 294.931 Q106.534 294.931 103.501 291.806 Q100.492 288.658 100.492 283.218 Q100.492 277.894 103.64 274.677 Q106.788 271.459 112.02 271.459 Q118.015 271.459 121.163 276.066 Q124.334 280.649 124.334 289.399 Q124.334 297.57 120.446 302.454 Q116.58 307.315 110.029 307.315 Q108.27 307.315 106.464 306.968 Q104.659 306.621 102.714 305.926 M112.02 291.274 Q115.168 291.274 116.996 289.121 Q118.848 286.968 118.848 283.218 Q118.848 279.491 116.996 277.339 Q115.168 275.163 112.02 275.163 Q108.872 275.163 107.02 277.339 Q105.191 279.491 105.191 283.218 Q105.191 286.968 107.02 289.121 Q108.872 291.274 112.02 291.274 Z\" fill=\"#000000\" fill-rule=\"evenodd\" fill-opacity=\"1\" /><path clip-path=\"url(#clip3900)\" d=\"M 0 0 M67.4597 99.5305 L75.0985 99.5305 L75.0985 73.1649 L66.7884 74.8316 L66.7884 70.5723 L75.0522 68.9057 L79.7281 68.9057 L79.7281 99.5305 L87.367 99.5305 L87.367 103.466 L67.4597 103.466 L67.4597 99.5305 Z\" fill=\"#000000\" fill-rule=\"evenodd\" fill-opacity=\"1\" /><path clip-path=\"url(#clip3900)\" d=\"M 0 0 M92.4364 97.5861 L97.3206 97.5861 L97.3206 103.466 L92.4364 103.466 L92.4364 97.5861 Z\" fill=\"#000000\" fill-rule=\"evenodd\" fill-opacity=\"1\" /><path clip-path=\"url(#clip3900)\" d=\"M 0 0 M112.39 71.9844 Q108.779 71.9844 106.95 75.5492 Q105.145 79.0908 105.145 86.2204 Q105.145 93.3268 106.95 96.8916 Q108.779 100.433 112.39 100.433 Q116.024 100.433 117.83 96.8916 Q119.658 93.3268 119.658 86.2204 Q119.658 79.0908 117.83 75.5492 Q116.024 71.9844 112.39 71.9844 M112.39 68.2807 Q118.2 68.2807 121.256 72.8871 Q124.334 77.4704 124.334 86.2204 Q124.334 94.9472 121.256 99.5537 Q118.2 104.137 112.39 104.137 Q106.58 104.137 103.501 99.5537 Q100.446 94.9472 100.446 86.2204 Q100.446 77.4704 103.501 72.8871 Q106.58 68.2807 112.39 68.2807 Z\" fill=\"#000000\" fill-rule=\"evenodd\" fill-opacity=\"1\" /><path clip-path=\"url(#clip3900)\" d=\"M 0 0 M1249.61 1510.27 L1249.61 1520.4 L1261.67 1520.4 L1261.67 1524.95 L1249.61 1524.95 L1249.61 1544.3 Q1249.61 1548.66 1250.78 1549.9 Q1251.99 1551.14 1255.65 1551.14 L1261.67 1551.14 L1261.67 1556.04 L1255.65 1556.04 Q1248.87 1556.04 1246.3 1553.53 Q1243.72 1550.98 1243.72 1544.3 L1243.72 1524.95 L1239.42 1524.95 L1239.42 1520.4 L1243.72 1520.4 L1243.72 1510.27 L1249.61 1510.27 Z\" fill=\"#000000\" fill-rule=\"evenodd\" fill-opacity=\"1\" /><polyline clip-path=\"url(#clip3902)\" style=\"stroke:#009af9; stroke-width:8; stroke-opacity:1; fill:none\" points=\"\n",
       "  148.334,86.1857 192.423,125.084 236.511,163.361 280.6,201.021 324.688,238.067 368.777,274.504 412.865,310.337 456.953,345.571 501.042,380.211 545.13,414.261 \n",
       "  589.219,447.729 633.307,480.618 677.396,512.935 721.484,544.685 765.572,575.876 809.661,606.511 853.749,636.6 897.838,666.146 941.926,695.158 986.015,723.641 \n",
       "  1030.1,751.603 1074.19,779.05 1118.28,805.989 1162.37,832.428 1206.46,858.373 1250.55,883.832 1294.63,908.812 1338.72,933.32 1382.81,957.364 1426.9,980.951 \n",
       "  1470.99,1004.09 1515.08,1026.79 1559.16,1049.05 1603.25,1070.88 1647.34,1092.3 1691.43,1113.31 1735.52,1133.91 1779.61,1154.11 1823.69,1173.93 1867.78,1193.37 \n",
       "  1911.87,1212.43 1955.96,1231.13 2000.05,1249.47 2044.14,1267.46 2088.23,1285.11 2132.31,1302.43 2176.4,1319.41 2220.49,1336.08 2264.58,1352.44 2308.67,1368.49 \n",
       "  2352.76,1384.24 \n",
       "  \"/>\n",
       "<polyline clip-path=\"url(#clip3902)\" style=\"stroke:#e26f46; stroke-width:8; stroke-opacity:1; fill:none\" points=\"\n",
       "  148.334,86.1857 192.423,126.005 236.511,165.146 280.6,203.612 324.688,241.41 368.777,278.543 412.865,315.019 456.953,350.841 501.042,386.017 545.13,420.551 \n",
       "  589.219,454.451 633.307,487.722 677.396,520.371 721.484,552.405 765.572,583.83 809.661,614.654 853.749,644.884 897.838,674.526 941.926,703.588 986.015,732.079 \n",
       "  1030.1,760.004 1074.19,787.372 1118.28,814.191 1162.37,840.468 1206.46,866.212 1250.55,891.431 1294.63,916.132 1338.72,940.324 1382.81,964.014 1426.9,987.213 \n",
       "  1470.99,1009.93 1515.08,1032.16 1559.16,1053.93 1603.25,1075.24 1647.34,1096.1 1691.43,1116.52 1735.52,1136.5 1779.61,1156.06 1823.69,1175.2 1867.78,1193.93 \n",
       "  1911.87,1212.26 1955.96,1230.2 2000.05,1247.75 2044.14,1264.93 2088.23,1281.74 2132.31,1298.19 2176.4,1314.3 2220.49,1330.05 2264.58,1345.48 2308.67,1360.58 \n",
       "  2352.76,1375.36 \n",
       "  \"/>\n",
       "<polyline clip-path=\"url(#clip3902)\" style=\"stroke:#3da44d; stroke-width:8; stroke-opacity:1; fill:none\" stroke-dasharray=\"32, 20\" points=\"\n",
       "  148.334,86.1857 192.423,126.418 236.511,165.853 280.6,204.508 324.688,242.397 368.777,279.535 412.865,315.939 456.953,351.622 501.042,386.598 545.13,420.881 \n",
       "  589.219,454.486 633.307,487.425 677.396,519.712 721.484,551.359 765.572,582.38 809.661,612.787 853.749,642.592 897.838,671.806 941.926,700.442 986.015,728.511 \n",
       "  1030.1,756.024 1074.19,782.993 1118.28,809.427 1162.37,835.338 1206.46,860.735 1250.55,885.63 1294.63,910.032 1338.72,933.951 1382.81,957.396 1426.9,980.377 \n",
       "  1470.99,1002.9 1515.08,1024.98 1559.16,1046.63 1603.25,1067.84 1647.34,1088.63 1691.43,1109.02 1735.52,1128.99 1779.61,1148.58 1823.69,1167.77 1867.78,1186.59 \n",
       "  1911.87,1205.03 1955.96,1223.11 2000.05,1240.83 2044.14,1258.2 2088.23,1275.22 2132.31,1291.91 2176.4,1308.27 2220.49,1324.3 2264.58,1340.01 2308.67,1355.42 \n",
       "  2352.76,1370.52 \n",
       "  \"/>\n",
       "<path clip-path=\"url(#clip3900)\" d=\"\n",
       "M1926.66 372.684 L2280.76 372.684 L2280.76 130.764 L1926.66 130.764  Z\n",
       "  \" fill=\"#ffffff\" fill-rule=\"evenodd\" fill-opacity=\"1\"/>\n",
       "<polyline clip-path=\"url(#clip3900)\" style=\"stroke:#000000; stroke-width:4; stroke-opacity:1; fill:none\" points=\"\n",
       "  1926.66,372.684 2280.76,372.684 2280.76,130.764 1926.66,130.764 1926.66,372.684 \n",
       "  \"/>\n",
       "<polyline clip-path=\"url(#clip3900)\" style=\"stroke:#009af9; stroke-width:8; stroke-opacity:1; fill:none\" points=\"\n",
       "  1950.66,191.244 2094.66,191.244 \n",
       "  \"/>\n",
       "<path clip-path=\"url(#clip3900)\" d=\"M 0 0 M2118.66 198.293 L2118.66 182.598 L2122.92 182.598 L2122.92 198.131 Q2122.92 201.811 2124.35 203.663 Q2125.79 205.492 2128.66 205.492 Q2132.11 205.492 2134.1 203.293 Q2136.11 201.094 2136.11 197.297 L2136.11 182.598 L2140.37 182.598 L2140.37 208.524 L2136.11 208.524 L2136.11 204.543 Q2134.56 206.904 2132.5 208.061 Q2130.46 209.195 2127.76 209.195 Q2123.29 209.195 2120.97 206.418 Q2118.66 203.64 2118.66 198.293 M2129.38 181.973 L2129.38 181.973 Z\" fill=\"#000000\" fill-rule=\"evenodd\" fill-opacity=\"1\" /><path clip-path=\"url(#clip3900)\" d=\"M 0 0 M2146.25 204.589 L2153.89 204.589 L2153.89 178.223 L2145.58 179.89 L2145.58 175.631 L2153.84 173.964 L2158.52 173.964 L2158.52 204.589 L2166.16 204.589 L2166.16 208.524 L2146.25 208.524 L2146.25 204.589 Z\" fill=\"#000000\" fill-rule=\"evenodd\" fill-opacity=\"1\" /><path clip-path=\"url(#clip3900)\" d=\"M 0 0 M2180.86 172.552 Q2177.76 177.876 2176.25 183.084 Q2174.75 188.293 2174.75 193.64 Q2174.75 198.987 2176.25 204.242 Q2177.78 209.473 2180.86 214.774 L2177.15 214.774 Q2173.68 209.334 2171.95 204.08 Q2170.23 198.825 2170.23 193.64 Q2170.23 188.478 2171.95 183.246 Q2173.66 178.015 2177.15 172.552 L2180.86 172.552 Z\" fill=\"#000000\" fill-rule=\"evenodd\" fill-opacity=\"1\" /><path clip-path=\"url(#clip3900)\" d=\"M 0 0 M2189.54 175.237 L2189.54 182.598 L2198.31 182.598 L2198.31 185.908 L2189.54 185.908 L2189.54 199.982 Q2189.54 203.154 2190.4 204.057 Q2191.27 204.959 2193.94 204.959 L2198.31 204.959 L2198.31 208.524 L2193.94 208.524 Q2189.01 208.524 2187.13 206.695 Q2185.26 204.844 2185.26 199.982 L2185.26 185.908 L2182.13 185.908 L2182.13 182.598 L2185.26 182.598 L2185.26 175.237 L2189.54 175.237 Z\" fill=\"#000000\" fill-rule=\"evenodd\" fill-opacity=\"1\" /><path clip-path=\"url(#clip3900)\" d=\"M 0 0 M2202.11 172.552 L2205.81 172.552 Q2209.28 178.015 2211 183.246 Q2212.73 188.478 2212.73 193.64 Q2212.73 198.825 2211 204.08 Q2209.28 209.334 2205.81 214.774 L2202.11 214.774 Q2205.19 209.473 2206.69 204.242 Q2208.22 198.987 2208.22 193.64 Q2208.22 188.293 2206.69 183.084 Q2205.19 177.876 2202.11 172.552 Z\" fill=\"#000000\" fill-rule=\"evenodd\" fill-opacity=\"1\" /><polyline clip-path=\"url(#clip3900)\" style=\"stroke:#e26f46; stroke-width:8; stroke-opacity:1; fill:none\" points=\"\n",
       "  1950.66,251.724 2094.66,251.724 \n",
       "  \"/>\n",
       "<path clip-path=\"url(#clip3900)\" d=\"M 0 0 M2118.66 258.773 L2118.66 243.078 L2122.92 243.078 L2122.92 258.611 Q2122.92 262.291 2124.35 264.143 Q2125.79 265.972 2128.66 265.972 Q2132.11 265.972 2134.1 263.773 Q2136.11 261.574 2136.11 257.777 L2136.11 243.078 L2140.37 243.078 L2140.37 269.004 L2136.11 269.004 L2136.11 265.023 Q2134.56 267.384 2132.5 268.541 Q2130.46 269.675 2127.76 269.675 Q2123.29 269.675 2120.97 266.898 Q2118.66 264.12 2118.66 258.773 M2129.38 242.453 L2129.38 242.453 Z\" fill=\"#000000\" fill-rule=\"evenodd\" fill-opacity=\"1\" /><path clip-path=\"url(#clip3900)\" d=\"M 0 0 M2149.47 265.069 L2165.79 265.069 L2165.79 269.004 L2143.84 269.004 L2143.84 265.069 Q2146.51 262.314 2151.09 257.685 Q2155.7 253.032 2156.88 251.689 Q2159.12 249.166 2160 247.43 Q2160.9 245.671 2160.9 243.981 Q2160.9 241.226 2158.96 239.49 Q2157.04 237.754 2153.94 237.754 Q2151.74 237.754 2149.28 238.518 Q2146.85 239.282 2144.08 240.833 L2144.08 236.111 Q2146.9 234.976 2149.35 234.398 Q2151.81 233.819 2153.84 233.819 Q2159.21 233.819 2162.41 236.504 Q2165.6 239.189 2165.6 243.68 Q2165.6 245.81 2164.79 247.731 Q2164.01 249.629 2161.9 252.222 Q2161.32 252.893 2158.22 256.111 Q2155.12 259.305 2149.47 265.069 Z\" fill=\"#000000\" fill-rule=\"evenodd\" fill-opacity=\"1\" /><path clip-path=\"url(#clip3900)\" d=\"M 0 0 M2180.49 233.032 Q2177.39 238.356 2175.88 243.564 Q2174.38 248.773 2174.38 254.12 Q2174.38 259.467 2175.88 264.722 Q2177.41 269.953 2180.49 275.254 L2176.78 275.254 Q2173.31 269.814 2171.58 264.56 Q2169.86 259.305 2169.86 254.12 Q2169.86 248.958 2171.58 243.726 Q2173.29 238.495 2176.78 233.032 L2180.49 233.032 Z\" fill=\"#000000\" fill-rule=\"evenodd\" fill-opacity=\"1\" /><path clip-path=\"url(#clip3900)\" d=\"M 0 0 M2189.17 235.717 L2189.17 243.078 L2197.94 243.078 L2197.94 246.388 L2189.17 246.388 L2189.17 260.462 Q2189.17 263.634 2190.02 264.537 Q2190.9 265.439 2193.57 265.439 L2197.94 265.439 L2197.94 269.004 L2193.57 269.004 Q2188.64 269.004 2186.76 267.175 Q2184.89 265.324 2184.89 260.462 L2184.89 246.388 L2181.76 246.388 L2181.76 243.078 L2184.89 243.078 L2184.89 235.717 L2189.17 235.717 Z\" fill=\"#000000\" fill-rule=\"evenodd\" fill-opacity=\"1\" /><path clip-path=\"url(#clip3900)\" d=\"M 0 0 M2201.74 233.032 L2205.44 233.032 Q2208.91 238.495 2210.63 243.726 Q2212.36 248.958 2212.36 254.12 Q2212.36 259.305 2210.63 264.56 Q2208.91 269.814 2205.44 275.254 L2201.74 275.254 Q2204.82 269.953 2206.32 264.722 Q2207.85 259.467 2207.85 254.12 Q2207.85 248.773 2206.32 243.564 Q2204.82 238.356 2201.74 233.032 Z\" fill=\"#000000\" fill-rule=\"evenodd\" fill-opacity=\"1\" /><polyline clip-path=\"url(#clip3900)\" style=\"stroke:#3da44d; stroke-width:8; stroke-opacity:1; fill:none\" stroke-dasharray=\"32, 20\" points=\"\n",
       "  1950.66,312.204 2094.66,312.204 \n",
       "  \"/>\n",
       "<path clip-path=\"url(#clip3900)\" d=\"M 0 0 M2118.66 294.924 L2140.51 294.924 L2140.51 298.859 L2123.34 298.859 L2123.34 309.091 L2139.79 309.091 L2139.79 313.026 L2123.34 313.026 L2123.34 325.549 L2140.93 325.549 L2140.93 329.484 L2118.66 329.484 L2118.66 294.924 Z\" fill=\"#000000\" fill-rule=\"evenodd\" fill-opacity=\"1\" /><path clip-path=\"url(#clip3900)\" d=\"M 0 0 M2166.95 303.558 L2157.57 316.174 L2167.43 329.484 L2162.41 329.484 L2154.86 319.299 L2147.32 329.484 L2142.29 329.484 L2152.36 315.919 L2143.15 303.558 L2148.17 303.558 L2155.05 312.794 L2161.92 303.558 L2166.95 303.558 Z\" fill=\"#000000\" fill-rule=\"evenodd\" fill-opacity=\"1\" /><path clip-path=\"url(#clip3900)\" d=\"M 0 0 M2183.68 316.452 Q2178.52 316.452 2176.53 317.632 Q2174.54 318.813 2174.54 321.66 Q2174.54 323.929 2176.02 325.271 Q2177.52 326.591 2180.09 326.591 Q2183.64 326.591 2185.77 324.091 Q2187.92 321.567 2187.92 317.401 L2187.92 316.452 L2183.68 316.452 M2192.18 314.693 L2192.18 329.484 L2187.92 329.484 L2187.92 325.549 Q2186.46 327.91 2184.28 329.044 Q2182.11 330.155 2178.96 330.155 Q2174.98 330.155 2172.62 327.933 Q2170.28 325.688 2170.28 321.938 Q2170.28 317.563 2173.2 315.341 Q2176.14 313.118 2181.95 313.118 L2187.92 313.118 L2187.92 312.702 Q2187.92 309.762 2185.97 308.165 Q2184.05 306.544 2180.56 306.544 Q2178.33 306.544 2176.23 307.077 Q2174.12 307.609 2172.18 308.674 L2172.18 304.739 Q2174.52 303.836 2176.71 303.396 Q2178.91 302.933 2181 302.933 Q2186.62 302.933 2189.4 305.85 Q2192.18 308.767 2192.18 314.693 Z\" fill=\"#000000\" fill-rule=\"evenodd\" fill-opacity=\"1\" /><path clip-path=\"url(#clip3900)\" d=\"M 0 0 M2215.3 304.554 L2215.3 308.535 Q2213.5 307.54 2211.67 307.054 Q2209.86 306.544 2208.01 306.544 Q2203.87 306.544 2201.58 309.183 Q2199.28 311.799 2199.28 316.544 Q2199.28 321.29 2201.58 323.929 Q2203.87 326.544 2208.01 326.544 Q2209.86 326.544 2211.67 326.058 Q2213.5 325.549 2215.3 324.554 L2215.3 328.489 Q2213.52 329.322 2211.6 329.739 Q2209.7 330.155 2207.55 330.155 Q2201.69 330.155 2198.24 326.475 Q2194.79 322.794 2194.79 316.544 Q2194.79 310.202 2198.27 306.568 Q2201.76 302.933 2207.83 302.933 Q2209.79 302.933 2211.67 303.35 Q2213.54 303.743 2215.3 304.554 Z\" fill=\"#000000\" fill-rule=\"evenodd\" fill-opacity=\"1\" /><path clip-path=\"url(#clip3900)\" d=\"M 0 0 M2223.98 296.197 L2223.98 303.558 L2232.76 303.558 L2232.76 306.868 L2223.98 306.868 L2223.98 320.942 Q2223.98 324.114 2224.84 325.017 Q2225.72 325.919 2228.38 325.919 L2232.76 325.919 L2232.76 329.484 L2228.38 329.484 Q2223.45 329.484 2221.58 327.655 Q2219.7 325.804 2219.7 320.942 L2219.7 306.868 L2216.58 306.868 L2216.58 303.558 L2219.7 303.558 L2219.7 296.197 L2223.98 296.197 Z\" fill=\"#000000\" fill-rule=\"evenodd\" fill-opacity=\"1\" /></svg>\n"
      ]
     },
     "execution_count": 6,
     "metadata": {},
     "output_type": "execute_result"
    }
   ],
   "source": [
    "plot(sol, lw=2)\n",
    "plot!(sol.t, exp.(-sol.t), lw=2, label=\"Exact\", line=:dash)"
   ]
  },
  {
   "cell_type": "markdown",
   "metadata": {},
   "source": [
    "## Homogeneou BGK"
   ]
  },
  {
   "cell_type": "code",
   "execution_count": 3,
   "metadata": {},
   "outputs": [
    {
     "name": "stdout",
     "output_type": "stream",
     "text": [
      "Reading settings from ../code/homogeneous/config.txt \n",
      "\n",
      "case = homogeneous\n",
      "space = 1d1f\n",
      "maxTime = 8\n",
      "tlen = 20\n",
      "u0 = -7\n",
      "u1 = 7\n",
      "nu = 41\n",
      "vMeshType = newton\n",
      "nug = 0\n",
      "knudsen = 1\n",
      "inK = 0\n",
      "nh = 300\n",
      "mliter = 400\n",
      "\n"
     ]
    },
    {
     "data": {
      "text/plain": [
       "41-element Array{Float32,1}:\n",
       " -2.0909458e-33\n",
       "  4.557e-41    \n",
       "  0.0          \n",
       "  0.0          \n",
       " -1.5502743e-33\n",
       "  4.557e-41    \n",
       " -1.605787e-33 \n",
       "  4.557e-41    \n",
       "  0.0          \n",
       "  0.0          \n",
       " -1.5502743e-33\n",
       "  4.557e-41    \n",
       " -1.5468947e-33\n",
       "  ⋮            \n",
       "  4.557e-41    \n",
       " -1.605787e-33 \n",
       "  4.557e-41    \n",
       "  0.0          \n",
       "  0.0          \n",
       " -1.5502743e-33\n",
       "  4.557e-41    \n",
       " -1.5468947e-33\n",
       "  4.557e-41    \n",
       "  0.0          \n",
       "  0.0          \n",
       "  1.3677157e-30"
      ]
     },
     "execution_count": 3,
     "metadata": {},
     "output_type": "execute_result"
    }
   ],
   "source": [
    "using Revise\n",
    "using Kinetic\n",
    "using Flux, NeuralNetDiffEq, Optim, Plots\n",
    "\n",
    "config = \"../code/homogeneous/config.txt\"\n",
    "println(\"Reading settings from $config \\n\")\n",
    "\n",
    "# generate parameters\n",
    "D = read_dict(config)\n",
    "for key in keys(D)\n",
    "    s = Symbol(key)\n",
    "    @eval $s = $(D[key])\n",
    "end\n",
    "\n",
    "dim = ifelse(parse(Int, space[3]) >= 3, 3, parse(Int, space[1]))\n",
    "γ = 1.4#heat_capacity_ratio(inK, dim)\n",
    "vSpace = VSpace1D(u0, u1, nu, vMeshType, nug)\n",
    "\n",
    "f0 = Float32.(0.3 * vSpace.u.^2 .* exp.(-0.3 .* vSpace.u.^2)) |> Array\n",
    "w0 = [ discrete_moments(f0, vSpace.u, vSpace.weights, 0), \n",
    "       discrete_moments(f0, vSpace.u, vSpace.weights, 1), \n",
    "       discrete_moments(f0, vSpace.u, vSpace.weights, 2) ]\n",
    "prim0 = conserve_prim(w0, γ)\n",
    "\n",
    "M = Float32.(maxwellian(vSpace.u, prim0)) |> Array\n",
    "\n",
    "f = similar(M)"
   ]
  },
  {
   "cell_type": "code",
   "execution_count": 4,
   "metadata": {},
   "outputs": [
    {
     "data": {
      "text/plain": [
       "(0.0f0, 8.0f0)"
      ]
     },
     "execution_count": 4,
     "metadata": {},
     "output_type": "execute_result"
    }
   ],
   "source": [
    "tspan = (0.f0, Float32(maxTime))"
   ]
  },
  {
   "cell_type": "code",
   "execution_count": 5,
   "metadata": {},
   "outputs": [
    {
     "name": "stdout",
     "output_type": "stream",
     "text": [
      "Current loss is: 3.5116535e6\n"
     ]
    },
    {
     "name": "stderr",
     "output_type": "stream",
     "text": [
      "\u001b[32mloss: 5.29e+08:   0%|                                         |  ETA: 5:48:37\u001b[39m"
     ]
    },
    {
     "name": "stdout",
     "output_type": "stream",
     "text": [
      "Current loss is: 5.286045e8\n",
      "Current loss is: 80605.59\n",
      "Current loss is: 1.3313281e7\n",
      "Current loss is: 5.667937e7\n",
      "Current loss is: 3.3332564e7\n"
     ]
    },
    {
     "name": "stderr",
     "output_type": "stream",
     "text": [
      "\r",
      "\u001b[32mloss: 1.2e+06:   0%|▏                                        |  ETA: 1:27:23\u001b[39m"
     ]
    },
    {
     "name": "stdout",
     "output_type": "stream",
     "text": [
      "Current loss is: 5.694864e6\n",
      "Current loss is: 1.2037819e6\n",
      "Current loss is: 1.869043e7\n",
      "Current loss is: 3.2808408e7\n",
      "Current loss is: 1.3821124e7\n"
     ]
    },
    {
     "name": "stderr",
     "output_type": "stream",
     "text": [
      "\r",
      "\u001b[32mloss: 1.22e+06:   1%|▎                                        |  ETA: 0:58:26\u001b[39m"
     ]
    },
    {
     "name": "stdout",
     "output_type": "stream",
     "text": [
      "Current loss is: 3.0632475e6\n",
      "Current loss is: 1.2208506e6\n",
      "Current loss is: 1.274693e6\n",
      "Current loss is: 1.4313235e6\n",
      "Current loss is: 1.5474506e6\n",
      "Current loss is: 1.6379758e6\n",
      "Current loss is: 1.6930915e6\n",
      "Current loss is: 1.6998582e6\n"
     ]
    },
    {
     "name": "stderr",
     "output_type": "stream",
     "text": [
      "\r",
      "\u001b[32mloss: 1.66e+06:   1%|▍                                        |  ETA: 0:35:05\u001b[39m"
     ]
    },
    {
     "name": "stdout",
     "output_type": "stream",
     "text": [
      "Current loss is: 1.6556336e6\n",
      "Current loss is: 1.566897e6\n",
      "Current loss is: 1.4446266e6\n",
      "Current loss is: 1.3007306e6\n",
      "Current loss is: 1.1460935e6\n"
     ]
    },
    {
     "name": "stderr",
     "output_type": "stream",
     "text": [
      "\r",
      "\u001b[32mloss: 9.9e+05:   1%|▌                                        |  ETA: 0:29:19\u001b[39m"
     ]
    },
    {
     "name": "stdout",
     "output_type": "stream",
     "text": [
      "Current loss is: 989745.4\n",
      "Current loss is: 838657.3\n",
      "Current loss is: 697842.9\n",
      "Current loss is: 570585.2\n",
      "Current loss is: 458703.3\n",
      "Current loss is: 362815.62\n"
     ]
    },
    {
     "name": "stderr",
     "output_type": "stream",
     "text": [
      "\r",
      "\u001b[32mloss: 2.83e+05:   2%|▋                                        |  ETA: 0:23:30\u001b[39m"
     ]
    },
    {
     "name": "stdout",
     "output_type": "stream",
     "text": [
      "Current loss is: 282591.06\n",
      "Current loss is: 216987.62\n",
      "Current loss is: 164483.34\n",
      "Current loss is: 123293.53\n",
      "Current loss is: 91563.12\n",
      "Current loss is: 67519.77\n",
      "Current loss is: 49577.555\n",
      "Current loss is: 36391.523\n"
     ]
    },
    {
     "name": "stderr",
     "output_type": "stream",
     "text": [
      "\r",
      "\u001b[32mloss: 2.69e+04:   2%|▊                                        |  ETA: 0:18:34\u001b[39m"
     ]
    },
    {
     "name": "stdout",
     "output_type": "stream",
     "text": [
      "Current loss is: 26870.953\n",
      "Current loss is: 20163.043\n",
      "Current loss is: 15619.661\n",
      "Current loss is: 12757.147\n",
      "Current loss is: 11216.156\n",
      "Current loss is: 10725.412\n",
      "Current loss is: 11071.342\n"
     ]
    },
    {
     "name": "stderr",
     "output_type": "stream",
     "text": [
      "\r",
      "\u001b[32mloss: 1.21e+04:   2%|█                                        |  ETA: 0:15:21\u001b[39m"
     ]
    },
    {
     "name": "stdout",
     "output_type": "stream",
     "text": [
      "Current loss is: 12074.258\n",
      "Current loss is: 13571.068\n",
      "Current loss is: 15404.258\n",
      "Current loss is: 17416.887\n",
      "Current loss is: 19452.873\n",
      "Current loss is: 21361.74\n",
      "Current loss is: 23006.523\n",
      "Current loss is: 24273.004\n"
     ]
    },
    {
     "name": "stderr",
     "output_type": "stream",
     "text": [
      "\r",
      "\u001b[32mloss: 2.54e+04:   3%|█▏                                       |  ETA: 0:13:05\u001b[39m"
     ]
    },
    {
     "name": "stdout",
     "output_type": "stream",
     "text": [
      "Current loss is: 25078.332\n",
      "Current loss is: 25377.018\n",
      "Current loss is: 25163.19\n",
      "Current loss is: 24468.152\n",
      "Current loss is: 23354.08\n",
      "Current loss is: 21904.596\n",
      "Current loss is: 20214.355\n",
      "Current loss is: 18379.018\n"
     ]
    },
    {
     "name": "stderr",
     "output_type": "stream",
     "text": [
      "\r",
      "\u001b[32mloss: 1.46e+04:   3%|█▎                                       |  ETA: 0:11:25\u001b[39m"
     ]
    },
    {
     "name": "stdout",
     "output_type": "stream",
     "text": [
      "Current loss is: 16487.014\n",
      "Current loss is: 14613.929\n",
      "Current loss is: 12819.422\n",
      "Current loss is: 11146.688\n",
      "Current loss is: 9623.589\n",
      "Current loss is: 8264.858\n",
      "Current loss is: 7074.8125\n",
      "Current loss is: 6050.084\n"
     ]
    },
    {
     "name": "stderr",
     "output_type": "stream",
     "text": [
      "\r",
      "\u001b[32mloss: 3.87e+03:   4%|█▌                                       |  ETA: 0:09:50\u001b[39m"
     ]
    },
    {
     "name": "stdout",
     "output_type": "stream",
     "text": [
      "Current loss is: 5182.032\n",
      "Current loss is: 4458.767\n",
      "Current loss is: 3866.6653\n",
      "Current loss is: 3391.4714\n",
      "Current loss is: 3019.01\n",
      "Current loss is: 2735.6501\n",
      "Current loss is: 2528.5208\n"
     ]
    },
    {
     "name": "stderr",
     "output_type": "stream",
     "text": [
      "\r",
      "\u001b[32mloss: 2.25e+03:   4%|█▋                                       |  ETA: 0:09:05\u001b[39m"
     ]
    },
    {
     "name": "stdout",
     "output_type": "stream",
     "text": [
      "Current loss is: 2385.6274\n",
      "Current loss is: 2295.869\n",
      "Current loss is: 2249.0132\n",
      "Current loss is: 2235.6765\n",
      "Current loss is: 2247.2842\n",
      "Current loss is: 2276.0503\n",
      "Current loss is: 2314.981\n",
      "Current loss is: 2357.8745\n"
     ]
    },
    {
     "name": "stderr",
     "output_type": "stream",
     "text": [
      "\r",
      "\u001b[32mloss: 2.46e+03:   4%|█▊                                       |  ETA: 0:08:14\u001b[39m"
     ]
    },
    {
     "name": "stdout",
     "output_type": "stream",
     "text": [
      "Current loss is: 2399.3486\n",
      "Current loss is: 2434.8452\n",
      "Current loss is: 2460.6562\n",
      "Current loss is: 2473.9268\n",
      "Current loss is: 2472.6387\n",
      "Current loss is: 2455.5894\n",
      "Current loss is: 2422.336\n"
     ]
    },
    {
     "name": "stderr",
     "output_type": "stream",
     "text": [
      "\r",
      "\u001b[32mloss: 2.23e+03:   5%|█▉                                       |  ETA: 0:07:33\u001b[39m"
     ]
    },
    {
     "name": "stdout",
     "output_type": "stream",
     "text": [
      "Current loss is: 2373.1294\n",
      "Current loss is: 2308.8225\n",
      "Current loss is: 2230.7722\n",
      "Current loss is: 2140.7222\n",
      "Current loss is: 2040.6929\n",
      "Current loss is: 1932.8635\n",
      "Current loss is: 1819.462\n",
      "Current loss is: 1702.6791\n"
     ]
    },
    {
     "name": "stderr",
     "output_type": "stream",
     "text": [
      "\r",
      "\u001b[32mloss: 1.35e+03:   5%|██▏                                      |  ETA: 0:06:57\u001b[39m"
     ]
    },
    {
     "name": "stdout",
     "output_type": "stream",
     "text": [
      "Current loss is: 1584.5842\n",
      "Current loss is: 1467.0573\n",
      "Current loss is: 1351.7512\n",
      "Current loss is: 1240.0662\n",
      "Current loss is: 1133.1295\n",
      "Current loss is: 1031.8077\n",
      "Current loss is: 936.7151\n"
     ]
    },
    {
     "name": "stderr",
     "output_type": "stream",
     "text": [
      "\r",
      "\u001b[32mloss: 767:   5%|██▎                                      |  ETA: 0:06:35\u001b[39m"
     ]
    },
    {
     "name": "stdout",
     "output_type": "stream",
     "text": [
      "Current loss is: 848.2383\n",
      "Current loss is: 766.5587\n",
      "Current loss is: 691.69006\n",
      "Current loss is: 623.50446\n",
      "Current loss is: 561.7653\n",
      "Current loss is: 506.15024\n",
      "Current loss is: 456.2839\n",
      "Current loss is: 411.75443\n"
     ]
    },
    {
     "name": "stderr",
     "output_type": "stream",
     "text": [
      "\r",
      "\u001b[32mloss: 337:   6%|██▍                                      |  ETA: 0:06:08\u001b[39m"
     ]
    },
    {
     "name": "stdout",
     "output_type": "stream",
     "text": [
      "Current loss is: 372.13156\n",
      "Current loss is: 336.98285\n",
      "Current loss is: 305.88434\n",
      "Current loss is: 278.42905\n",
      "Current loss is: 254.23273\n",
      "Current loss is: 232.93658\n",
      "Current loss is: 214.21127\n"
     ]
    },
    {
     "name": "stderr",
     "output_type": "stream",
     "text": [
      "\r",
      "\u001b[32mloss: 183:   6%|██▌                                      |  ETA: 0:05:50\u001b[39m"
     ]
    },
    {
     "name": "stdout",
     "output_type": "stream",
     "text": [
      "Current loss is: 197.75623\n",
      "Current loss is: 183.29964\n",
      "Current loss is: 170.5969\n",
      "Current loss is: 159.43108\n",
      "Current loss is: 149.6087\n",
      "Current loss is: 140.95908\n",
      "Current loss is: 133.33159\n",
      "Current loss is: 126.59436\n"
     ]
    },
    {
     "name": "stderr",
     "output_type": "stream",
     "text": [
      "\r",
      "\u001b[32mloss: 115:   6%|██▋                                      |  ETA: 0:05:29\u001b[39m"
     ]
    },
    {
     "name": "stdout",
     "output_type": "stream",
     "text": [
      "Current loss is: 120.63177\n",
      "Current loss is: 115.34265\n",
      "Current loss is: 110.63902\n",
      "Current loss is: 106.444\n",
      "Current loss is: 102.69048\n",
      "Current loss is: 99.3203\n",
      "Current loss is: 96.28287\n",
      "Current loss is: 93.53398\n"
     ]
    },
    {
     "name": "stderr",
     "output_type": "stream",
     "text": [
      "\r",
      "\u001b[32mloss: 91:   7%|██▉                                      |  ETA: 0:05:10\u001b[39m"
     ]
    },
    {
     "name": "stdout",
     "output_type": "stream",
     "text": [
      "Current loss is: 91.03519\n",
      "Current loss is: 88.75348\n",
      "Current loss is: 86.65938\n",
      "Current loss is: 84.7279\n",
      "Current loss is: 82.93717\n",
      "Current loss is: 81.26807\n",
      "Current loss is: 79.704056\n",
      "Current loss is: 78.23099\n",
      "Current loss is: 76.836525\n"
     ]
    },
    {
     "name": "stderr",
     "output_type": "stream",
     "text": [
      "\r",
      "\u001b[32mloss: 75.5:   7%|███                                      |  ETA: 0:04:53\u001b[39m"
     ]
    },
    {
     "name": "stdout",
     "output_type": "stream",
     "text": [
      "Current loss is: 75.50993\n",
      "Current loss is: 74.24214\n",
      "Current loss is: 73.02563\n",
      "Current loss is: 71.8536\n",
      "Current loss is: 70.72059\n",
      "Current loss is: 69.62218\n",
      "Current loss is: 68.554306\n",
      "Current loss is: 67.51394\n"
     ]
    },
    {
     "name": "stderr",
     "output_type": "stream",
     "text": [
      "\r",
      "\u001b[32mloss: 66.5:   8%|███▏                                     |  ETA: 0:04:38\u001b[39m"
     ]
    },
    {
     "name": "stdout",
     "output_type": "stream",
     "text": [
      "Current loss is: 66.49846\n",
      "Current loss is: 65.50606\n",
      "Current loss is: 64.534744\n",
      "Current loss is: 63.583405\n",
      "Current loss is: 62.65085\n",
      "Current loss is: 61.73603\n",
      "Current loss is: 60.837982\n",
      "Current loss is: 59.955826\n",
      "Current loss is: 59.088707\n"
     ]
    },
    {
     "name": "stderr",
     "output_type": "stream",
     "text": [
      "\r",
      "\u001b[32mloss: 58.2:   8%|███▍                                     |  ETA: 0:04:21\u001b[39m"
     ]
    },
    {
     "name": "stdout",
     "output_type": "stream",
     "text": [
      "Current loss is: 58.2353\n",
      "Current loss is: 57.394485\n",
      "Current loss is: 56.564804\n",
      "Current loss is: 55.74469\n",
      "Current loss is: 54.932213\n",
      "Current loss is: 54.12534\n",
      "Current loss is: 53.32174\n",
      "Current loss is: 52.518913\n"
     ]
    },
    {
     "name": "stderr",
     "output_type": "stream",
     "text": [
      "\r",
      "\u001b[32mloss: 51.7:   9%|███▌                                     |  ETA: 0:04:09\u001b[39m"
     ]
    },
    {
     "name": "stdout",
     "output_type": "stream",
     "text": [
      "Current loss is: 51.71454\n",
      "Current loss is: 50.905746\n",
      "Current loss is: 50.08988\n",
      "Current loss is: 49.264313\n",
      "Current loss is: 48.42655\n",
      "Current loss is: 47.57415\n",
      "Current loss is: 46.70505\n",
      "Current loss is: 45.81747\n"
     ]
    },
    {
     "name": "stderr",
     "output_type": "stream",
     "text": [
      "\r",
      "\u001b[32mloss: 44.9:   9%|███▊                                     |  ETA: 0:03:58\u001b[39m"
     ]
    },
    {
     "name": "stdout",
     "output_type": "stream",
     "text": [
      "Current loss is: 44.91015\n",
      "Current loss is: 43.982025\n",
      "Current loss is: 43.032738\n",
      "Current loss is: 42.06234\n",
      "Current loss is: 41.07141\n",
      "Current loss is: 40.061108\n",
      "Current loss is: 39.03306\n"
     ]
    },
    {
     "name": "stderr",
     "output_type": "stream",
     "text": [
      "\r",
      "\u001b[32mloss: 36.9:   9%|███▉                                     |  ETA: 0:03:48\u001b[39m"
     ]
    },
    {
     "name": "stdout",
     "output_type": "stream",
     "text": [
      "Current loss is: 37.989388\n",
      "Current loss is: 36.932663\n",
      "Current loss is: 35.865807\n",
      "Current loss is: 34.791836\n",
      "Current loss is: 33.714474\n",
      "Current loss is: 32.637043\n",
      "Current loss is: 31.563377\n",
      "Current loss is: 30.496944\n"
     ]
    },
    {
     "name": "stderr",
     "output_type": "stream",
     "text": [
      "\r",
      "\u001b[32mloss: 28.4:  10%|████                                     |  ETA: 0:03:38\u001b[39m"
     ]
    },
    {
     "name": "stdout",
     "output_type": "stream",
     "text": [
      "Current loss is: 29.441246\n",
      "Current loss is: 28.399746\n",
      "Current loss is: 27.37542\n",
      "Current loss is: 26.371307\n",
      "Current loss is: 25.389942\n",
      "Current loss is: 24.433529\n",
      "Current loss is: 23.503956\n"
     ]
    },
    {
     "name": "stderr",
     "output_type": "stream",
     "text": [
      "\r",
      "\u001b[32mloss: 20.9:  10%|████▏                                    |  ETA: 0:03:30\u001b[39m"
     ]
    },
    {
     "name": "stdout",
     "output_type": "stream",
     "text": [
      "Current loss is: 22.60284\n",
      "Current loss is: 21.731228\n",
      "Current loss is: 20.890162\n",
      "Current loss is: 20.08016\n",
      "Current loss is: 19.301394\n",
      "Current loss is: 18.553967\n",
      "Current loss is: 17.837563\n",
      "Current loss is: 17.15182\n"
     ]
    },
    {
     "name": "stderr",
     "output_type": "stream",
     "text": [
      "\r",
      "\u001b[32mloss: 15.3:  11%|████▍                                    |  ETA: 0:03:22\u001b[39m"
     ]
    },
    {
     "name": "stdout",
     "output_type": "stream",
     "text": [
      "Current loss is: 16.496113\n",
      "Current loss is: 15.869619\n",
      "Current loss is: 15.271573\n",
      "Current loss is: 14.7009945\n",
      "Current loss is: 14.156824\n",
      "Current loss is: 13.638008\n",
      "Current loss is: 13.143501\n",
      "Current loss is: 12.672184\n"
     ]
    },
    {
     "name": "stderr",
     "output_type": "stream",
     "text": [
      "\r",
      "\u001b[32mloss: 11.8:  11%|████▌                                    |  ETA: 0:03:17\u001b[39m"
     ]
    },
    {
     "name": "stdout",
     "output_type": "stream",
     "text": [
      "Current loss is: 12.222991\n",
      "Current loss is: 11.794817\n",
      "Current loss is: 11.386597\n",
      "Current loss is: 10.997352\n",
      "Current loss is: 10.626049\n",
      "Current loss is: 10.27178\n",
      "Current loss is: 9.933577\n",
      "Current loss is: 9.610626\n"
     ]
    },
    {
     "name": "stderr",
     "output_type": "stream",
     "text": [
      "\r",
      "\u001b[32mloss: 9.01:  11%|████▋                                    |  ETA: 0:03:10\u001b[39m"
     ]
    },
    {
     "name": "stdout",
     "output_type": "stream",
     "text": [
      "Current loss is: 9.302047\n",
      "Current loss is: 9.007042\n",
      "Current loss is: 8.724869\n",
      "Current loss is: 8.45483\n",
      "Current loss is: 8.19621\n",
      "Current loss is: 7.948372\n",
      "Current loss is: 7.71072\n",
      "Current loss is: 7.4826717\n"
     ]
    },
    {
     "name": "stderr",
     "output_type": "stream",
     "text": [
      "\r",
      "\u001b[32mloss: 7.26:  12%|████▊                                    |  ETA: 0:03:03\u001b[39m"
     ]
    },
    {
     "name": "stdout",
     "output_type": "stream",
     "text": [
      "Current loss is: 7.2636995\n",
      "Current loss is: 7.053261\n",
      "Current loss is: 6.8509183\n",
      "Current loss is: 6.6562033\n",
      "Current loss is: 6.468727\n",
      "Current loss is: 6.2880964\n",
      "Current loss is: 6.11397\n",
      "Current loss is: 5.9460173\n"
     ]
    },
    {
     "name": "stderr",
     "output_type": "stream",
     "text": [
      "\r",
      "\u001b[32mloss: 5.78:  12%|█████                                    |  ETA: 0:02:57\u001b[39m"
     ]
    },
    {
     "name": "stdout",
     "output_type": "stream",
     "text": [
      "Current loss is: 5.7839546\n",
      "Current loss is: 5.6275363\n",
      "Current loss is: 5.4765224\n",
      "Current loss is: 5.3307014\n",
      "Current loss is: 5.18989\n",
      "Current loss is: 5.0539303\n",
      "Current loss is: 4.9226727\n",
      "Current loss is: 4.796001\n"
     ]
    },
    {
     "name": "stderr",
     "output_type": "stream",
     "text": [
      "\r",
      "\u001b[32mloss: 4.67:  12%|█████▏                                   |  ETA: 0:02:51\u001b[39m"
     ]
    },
    {
     "name": "stdout",
     "output_type": "stream",
     "text": [
      "Current loss is: 4.6738105\n",
      "Current loss is: 4.5559874\n",
      "Current loss is: 4.4424706\n",
      "Current loss is: 4.333172\n",
      "Current loss is: 4.228039\n",
      "Current loss is: 4.12699\n",
      "Current loss is: 4.029974\n",
      "Current loss is: 3.9369407\n"
     ]
    },
    {
     "name": "stderr",
     "output_type": "stream",
     "text": [
      "\r",
      "\u001b[32mloss: 3.85:  13%|█████▎                                   |  ETA: 0:02:46\u001b[39m"
     ]
    },
    {
     "name": "stdout",
     "output_type": "stream",
     "text": [
      "Current loss is: 3.8478217\n",
      "Current loss is: 3.7625568\n",
      "Current loss is: 3.6810837\n",
      "Current loss is: 3.6033406\n",
      "Current loss is: 3.5292408\n",
      "Current loss is: 3.4587035\n",
      "Current loss is: 3.391666\n",
      "Current loss is: 3.3280177\n"
     ]
    },
    {
     "name": "stderr",
     "output_type": "stream",
     "text": [
      "\r",
      "\u001b[32mloss: 3.27:  13%|█████▌                                   |  ETA: 0:02:41\u001b[39m"
     ]
    },
    {
     "name": "stdout",
     "output_type": "stream",
     "text": [
      "Current loss is: 3.2676694\n",
      "Current loss is: 3.210505\n",
      "Current loss is: 3.156422\n",
      "Current loss is: 3.1053023\n",
      "Current loss is: 3.0570114\n",
      "Current loss is: 3.0114174\n",
      "Current loss is: 2.9683726\n",
      "Current loss is: 2.9277263\n"
     ]
    },
    {
     "name": "stderr",
     "output_type": "stream",
     "text": [
      "\r",
      "\u001b[32mloss: 2.89:  14%|█████▋                                   |  ETA: 0:02:36\u001b[39m"
     ]
    },
    {
     "name": "stdout",
     "output_type": "stream",
     "text": [
      "Current loss is: 2.8893256\n",
      "Current loss is: 2.853001\n",
      "Current loss is: 2.8185897\n",
      "Current loss is: 2.7859006\n",
      "Current loss is: 2.7547705\n",
      "Current loss is: 2.7250133\n",
      "Current loss is: 2.696446\n",
      "Current loss is: 2.6688766\n"
     ]
    },
    {
     "name": "stderr",
     "output_type": "stream",
     "text": [
      "\r",
      "\u001b[32mloss: 2.64:  14%|█████▊                                   |  ETA: 0:02:32\u001b[39m"
     ]
    },
    {
     "name": "stdout",
     "output_type": "stream",
     "text": [
      "Current loss is: 2.642137\n",
      "Current loss is: 2.6160517\n",
      "Current loss is: 2.5904522\n",
      "Current loss is: 2.5651867\n",
      "Current loss is: 2.5401103\n",
      "Current loss is: 2.5150914\n",
      "Current loss is: 2.4900205\n"
     ]
    },
    {
     "name": "stderr",
     "output_type": "stream",
     "text": [
      "\r",
      "\u001b[32mloss: 2.46:  14%|█████▉                                   |  ETA: 0:02:29\u001b[39m"
     ]
    },
    {
     "name": "stdout",
     "output_type": "stream",
     "text": [
      "Current loss is: 2.4648\n",
      "Current loss is: 2.4393578\n",
      "Current loss is: 2.4136243\n",
      "Current loss is: 2.387566\n",
      "Current loss is: 2.3611526\n",
      "Current loss is: 2.3343787\n",
      "Current loss is: 2.307248\n",
      "Current loss is: 2.2797782\n",
      "Current loss is: 2.251985\n"
     ]
    },
    {
     "name": "stderr",
     "output_type": "stream",
     "text": [
      "\r",
      "\u001b[32mloss: 2.22:  15%|██████▏                                  |  ETA: 0:02:24\u001b[39m"
     ]
    },
    {
     "name": "stdout",
     "output_type": "stream",
     "text": [
      "Current loss is: 2.2239127\n",
      "Current loss is: 2.195589\n",
      "Current loss is: 2.1670468\n",
      "Current loss is: 2.138322\n",
      "Current loss is: 2.109446\n",
      "Current loss is: 2.0804381\n"
     ]
    },
    {
     "name": "stderr",
     "output_type": "stream",
     "text": [
      "\r",
      "\u001b[32mloss: 2.05:  15%|██████▎                                  |  ETA: 0:02:21\u001b[39m"
     ]
    },
    {
     "name": "stdout",
     "output_type": "stream",
     "text": [
      "Current loss is: 2.0513234\n",
      "Current loss is: 2.022109\n",
      "Current loss is: 1.9928067\n",
      "Current loss is: 1.9634157\n",
      "Current loss is: 1.9339228\n",
      "Current loss is: 1.90433\n"
     ]
    },
    {
     "name": "stderr",
     "output_type": "stream",
     "text": [
      "\r",
      "\u001b[32mloss: 1.87:  16%|██████▍                                  |  ETA: 0:02:18\u001b[39m"
     ]
    },
    {
     "name": "stdout",
     "output_type": "stream",
     "text": [
      "Current loss is: 1.8746139\n",
      "Current loss is: 1.844766\n",
      "Current loss is: 1.814774\n",
      "Current loss is: 1.7846172\n",
      "Current loss is: 1.754298\n"
     ]
    },
    {
     "name": "stderr",
     "output_type": "stream",
     "text": [
      "\r",
      "\u001b[32mloss: 1.72:  16%|██████▍                                  |  ETA: 0:02:17\u001b[39m"
     ]
    },
    {
     "name": "stdout",
     "output_type": "stream",
     "text": [
      "Current loss is: 1.7238059\n",
      "Current loss is: 1.6931515\n",
      "Current loss is: 1.6623342\n",
      "Current loss is: 1.6313808\n",
      "Current loss is: 1.6003048\n",
      "Current loss is: 1.5691457\n",
      "Current loss is: 1.5379292\n",
      "Current loss is: 1.506706\n"
     ]
    },
    {
     "name": "stderr",
     "output_type": "stream",
     "text": [
      "\r",
      "\u001b[32mloss: 1.48:  16%|██████▋                                  |  ETA: 0:02:13\u001b[39m"
     ]
    },
    {
     "name": "stdout",
     "output_type": "stream",
     "text": [
      "Current loss is: 1.4755144\n",
      "Current loss is: 1.4444026\n",
      "Current loss is: 1.4134133\n",
      "Current loss is: 1.3825974\n",
      "Current loss is: 1.3519979\n",
      "Current loss is: 1.3216586\n",
      "Current loss is: 1.2916043\n",
      "Current loss is: 1.2618706\n"
     ]
    },
    {
     "name": "stderr",
     "output_type": "stream",
     "text": [
      "\r",
      "\u001b[32mloss: 1.23:  16%|██████▊                                  |  ETA: 0:02:10\u001b[39m"
     ]
    },
    {
     "name": "stdout",
     "output_type": "stream",
     "text": [
      "Current loss is: 1.2324733\n",
      "Current loss is: 1.2034285\n",
      "Current loss is: 1.1747433\n",
      "Current loss is: 1.1464097\n",
      "Current loss is: 1.1184292\n",
      "Current loss is: 1.0907876\n",
      "Current loss is: 1.0634804\n",
      "Current loss is: 1.0364906\n"
     ]
    },
    {
     "name": "stderr",
     "output_type": "stream",
     "text": [
      "\r",
      "\u001b[32mloss: 1.01:  17%|██████▉                                  |  ETA: 0:02:07\u001b[39m"
     ]
    },
    {
     "name": "stdout",
     "output_type": "stream",
     "text": [
      "Current loss is: 1.0098147\n",
      "Current loss is: 0.98345256\n",
      "Current loss is: 0.95740116\n",
      "Current loss is: 0.93166816\n",
      "Current loss is: 0.90627396\n",
      "Current loss is: 0.88124055\n",
      "Current loss is: 0.85658145\n"
     ]
    },
    {
     "name": "stderr",
     "output_type": "stream",
     "text": [
      "\r",
      "\u001b[32mloss: 0.832:  17%|███████▏                                 |  ETA: 0:02:04\u001b[39m"
     ]
    },
    {
     "name": "stdout",
     "output_type": "stream",
     "text": [
      "Current loss is: 0.83233404\n",
      "Current loss is: 0.8085184\n",
      "Current loss is: 0.7851581\n",
      "Current loss is: 0.76227474\n",
      "Current loss is: 0.7398867\n",
      "Current loss is: 0.71800005\n",
      "Current loss is: 0.69662076\n",
      "Current loss is: 0.67574775\n"
     ]
    },
    {
     "name": "stderr",
     "output_type": "stream",
     "text": [
      "\r",
      "\u001b[32mloss: 0.655:  18%|███████▎                                 |  ETA: 0:02:01\u001b[39m"
     ]
    },
    {
     "name": "stdout",
     "output_type": "stream",
     "text": [
      "Current loss is: 0.65537345\n",
      "Current loss is: 0.6354902\n",
      "Current loss is: 0.61608696\n",
      "Current loss is: 0.5971406\n",
      "Current loss is: 0.57864547\n",
      "Current loss is: 0.560588\n",
      "Current loss is: 0.54295564\n",
      "Current loss is: 0.52574223\n",
      "Current loss is: 0.50893766\n"
     ]
    },
    {
     "name": "stderr",
     "output_type": "stream",
     "text": [
      "\r",
      "\u001b[32mloss: 0.493:  18%|███████▍                                 |  ETA: 0:01:58\u001b[39m"
     ]
    },
    {
     "name": "stdout",
     "output_type": "stream",
     "text": [
      "Current loss is: 0.49254447\n",
      "Current loss is: 0.47656447\n",
      "Current loss is: 0.46099105\n",
      "Current loss is: 0.44583258\n",
      "Current loss is: 0.43109044\n",
      "Current loss is: 0.41676363\n",
      "Current loss is: 0.40285152\n",
      "Current loss is: 0.38934928\n"
     ]
    },
    {
     "name": "stderr",
     "output_type": "stream",
     "text": [
      "\r",
      "\u001b[32mloss: 0.376:  18%|███████▋                                 |  ETA: 0:01:55\u001b[39m"
     ]
    },
    {
     "name": "stdout",
     "output_type": "stream",
     "text": [
      "Current loss is: 0.3762532\n",
      "Current loss is: 0.3635547\n",
      "Current loss is: 0.35124615\n",
      "Current loss is: 0.33931428\n",
      "Current loss is: 0.32775134\n",
      "Current loss is: 0.3165439\n",
      "Current loss is: 0.30568033\n",
      "Current loss is: 0.29515183\n"
     ]
    },
    {
     "name": "stderr",
     "output_type": "stream",
     "text": [
      "\r",
      "\u001b[32mloss: 0.285:  19%|███████▊                                 |  ETA: 0:01:53\u001b[39m"
     ]
    },
    {
     "name": "stdout",
     "output_type": "stream",
     "text": [
      "Current loss is: 0.28495032\n",
      "Current loss is: 0.27506697\n",
      "Current loss is: 0.26549494\n",
      "Current loss is: 0.2562279\n",
      "Current loss is: 0.24726197\n",
      "Current loss is: 0.2385888\n",
      "Current loss is: 0.23020789\n",
      "Current loss is: 0.22210863\n"
     ]
    },
    {
     "name": "stderr",
     "output_type": "stream",
     "text": [
      "\r",
      "\u001b[32mloss: 0.214:  19%|███████▉                                 |  ETA: 0:01:50\u001b[39m"
     ]
    },
    {
     "name": "stdout",
     "output_type": "stream",
     "text": [
      "Current loss is: 0.2142854\n",
      "Current loss is: 0.20673239\n",
      "Current loss is: 0.19943608\n",
      "Current loss is: 0.19239323\n",
      "Current loss is: 0.1855896\n",
      "Current loss is: 0.17902002\n",
      "Current loss is: 0.17267054\n",
      "Current loss is: 0.16653536\n"
     ]
    },
    {
     "name": "stderr",
     "output_type": "stream",
     "text": [
      "\r",
      "\u001b[32mloss: 0.161:  20%|████████▏                                |  ETA: 0:01:48\u001b[39m"
     ]
    },
    {
     "name": "stdout",
     "output_type": "stream",
     "text": [
      "Current loss is: 0.16060549\n",
      "Current loss is: 0.15487486\n",
      "Current loss is: 0.14933237\n",
      "Current loss is: 0.1439777\n",
      "Current loss is: 0.13880299\n",
      "Current loss is: 0.1338048\n",
      "Current loss is: 0.12897858\n",
      "Current loss is: 0.124320135\n"
     ]
    },
    {
     "name": "stderr",
     "output_type": "stream",
     "text": [
      "\r",
      "\u001b[32mloss: 0.12:  20%|████████▎                                |  ETA: 0:01:46\u001b[39m"
     ]
    },
    {
     "name": "stdout",
     "output_type": "stream",
     "text": [
      "Current loss is: 0.11982499\n",
      "Current loss is: 0.115490004\n",
      "Current loss is: 0.11131174\n",
      "Current loss is: 0.10728532\n",
      "Current loss is: 0.103406414\n",
      "Current loss is: 0.09966947\n",
      "Current loss is: 0.096072085\n",
      "Current loss is: 0.092608094\n",
      "Current loss is: 0.08927339\n"
     ]
    },
    {
     "name": "stderr",
     "output_type": "stream",
     "text": [
      "\r",
      "\u001b[32mloss: 0.0861:  21%|████████▌                                |  ETA: 0:01:43\u001b[39m"
     ]
    },
    {
     "name": "stdout",
     "output_type": "stream",
     "text": [
      "Current loss is: 0.08606433\n",
      "Current loss is: 0.08297819\n",
      "Current loss is: 0.08000943\n",
      "Current loss is: 0.07715305\n",
      "Current loss is: 0.07440833\n",
      "Current loss is: 0.07176915\n",
      "Current loss is: 0.06923227\n",
      "Current loss is: 0.06679301\n"
     ]
    },
    {
     "name": "stderr",
     "output_type": "stream",
     "text": [
      "\r",
      "\u001b[32mloss: 0.0622:  21%|████████▋                                |  ETA: 0:01:41\u001b[39m"
     ]
    },
    {
     "name": "stdout",
     "output_type": "stream",
     "text": [
      "Current loss is: 0.064447336\n",
      "Current loss is: 0.062192664\n",
      "Current loss is: 0.060023326\n",
      "Current loss is: 0.057935864\n",
      "Current loss is: 0.055926144\n",
      "Current loss is: 0.05399093\n",
      "Current loss is: 0.052127227\n",
      "Current loss is: 0.050330587\n"
     ]
    },
    {
     "name": "stderr",
     "output_type": "stream",
     "text": [
      "\r",
      "\u001b[32mloss: 0.0486:  21%|████████▊                                |  ETA: 0:01:39\u001b[39m"
     ]
    },
    {
     "name": "stdout",
     "output_type": "stream",
     "text": [
      "Current loss is: 0.048599675\n",
      "Current loss is: 0.04693146\n",
      "Current loss is: 0.045322634\n",
      "Current loss is: 0.043770995\n",
      "Current loss is: 0.042275533\n",
      "Current loss is: 0.04083308\n",
      "Current loss is: 0.039442334\n",
      "Current loss is: 0.038101107\n",
      "Current loss is: 0.036807314\n"
     ]
    },
    {
     "name": "stderr",
     "output_type": "stream",
     "text": [
      "\r",
      "\u001b[32mloss: 0.0356:  22%|█████████                                |  ETA: 0:01:37\u001b[39m"
     ]
    },
    {
     "name": "stdout",
     "output_type": "stream",
     "text": [
      "Current loss is: 0.035559244\n",
      "Current loss is: 0.034354866\n",
      "Current loss is: 0.033192925\n",
      "Current loss is: 0.032071047\n",
      "Current loss is: 0.030987883\n",
      "Current loss is: 0.029941522\n"
     ]
    },
    {
     "name": "stderr",
     "output_type": "stream",
     "text": [
      "\r",
      "\u001b[32mloss: 0.0289:  22%|█████████                                |  ETA: 0:01:36\u001b[39m"
     ]
    },
    {
     "name": "stdout",
     "output_type": "stream",
     "text": [
      "Current loss is: 0.028931297\n",
      "Current loss is: 0.02795484\n",
      "Current loss is: 0.027011096\n",
      "Current loss is: 0.026098642\n",
      "Current loss is: 0.02521652\n",
      "Current loss is: 0.024363238\n",
      "Current loss is: 0.023537863\n",
      "Current loss is: 0.022739472\n"
     ]
    },
    {
     "name": "stderr",
     "output_type": "stream",
     "text": [
      "\r",
      "\u001b[32mloss: 0.022:  22%|█████████▎                               |  ETA: 0:01:34\u001b[39m"
     ]
    },
    {
     "name": "stdout",
     "output_type": "stream",
     "text": [
      "Current loss is: 0.021966917\n",
      "Current loss is: 0.021219304\n",
      "Current loss is: 0.020495389\n",
      "Current loss is: 0.01979537\n",
      "Current loss is: 0.019118123\n",
      "Current loss is: 0.018462772\n",
      "Current loss is: 0.017829254\n",
      "Current loss is: 0.01721659\n"
     ]
    },
    {
     "name": "stderr",
     "output_type": "stream",
     "text": [
      "\r",
      "\u001b[32mloss: 0.0166:  23%|█████████▍                               |  ETA: 0:01:32\u001b[39m"
     ]
    },
    {
     "name": "stdout",
     "output_type": "stream",
     "text": [
      "Current loss is: 0.016624596\n",
      "Current loss is: 0.016052721\n",
      "Current loss is: 0.015500557\n",
      "Current loss is: 0.01496761\n",
      "Current loss is: 0.014453042\n",
      "Current loss is: 0.0139568355\n",
      "Current loss is: 0.013478025\n"
     ]
    },
    {
     "name": "stderr",
     "output_type": "stream",
     "text": [
      "\r",
      "\u001b[32mloss: 0.013:  23%|█████████▌                               |  ETA: 0:01:31\u001b[39m"
     ]
    },
    {
     "name": "stdout",
     "output_type": "stream",
     "text": [
      "Current loss is: 0.013016123\n",
      "Current loss is: 0.012570363\n",
      "Current loss is: 0.012140369\n",
      "Current loss is: 0.011725616\n",
      "Current loss is: 0.011325302\n",
      "Current loss is: 0.0109390225\n",
      "Current loss is: 0.010566272\n",
      "Current loss is: 0.010206485\n"
     ]
    },
    {
     "name": "stderr",
     "output_type": "stream",
     "text": [
      "\r",
      "\u001b[32mloss: 0.00986:  24%|█████████▊                               |  ETA: 0:01:29\u001b[39m"
     ]
    },
    {
     "name": "stdout",
     "output_type": "stream",
     "text": [
      "Current loss is: 0.009858979\n",
      "Current loss is: 0.009523608\n",
      "Current loss is: 0.009199514\n",
      "Current loss is: 0.008886367\n",
      "Current loss is: 0.008583751\n",
      "Current loss is: 0.008291313\n",
      "Current loss is: 0.008008495\n",
      "Current loss is: 0.0077350195\n"
     ]
    },
    {
     "name": "stderr",
     "output_type": "stream",
     "text": [
      "\r",
      "\u001b[32mloss: 0.00747:  24%|█████████▉                               |  ETA: 0:01:27\u001b[39m"
     ]
    },
    {
     "name": "stdout",
     "output_type": "stream",
     "text": [
      "Current loss is: 0.0074705905\n",
      "Current loss is: 0.0072148284\n",
      "Current loss is: 0.0069674244\n",
      "Current loss is: 0.0067280363\n",
      "Current loss is: 0.006496356\n",
      "Current loss is: 0.006272065\n",
      "Current loss is: 0.0060550086\n",
      "Current loss is: 0.0058447705\n"
     ]
    },
    {
     "name": "stderr",
     "output_type": "stream",
     "text": [
      "\r",
      "\u001b[32mloss: 0.00564:  24%|██████████                               |  ETA: 0:01:26\u001b[39m"
     ]
    },
    {
     "name": "stdout",
     "output_type": "stream",
     "text": [
      "Current loss is: 0.0056411577\n",
      "Current loss is: 0.0054440685\n",
      "Current loss is: 0.005253009\n",
      "Current loss is: 0.0050679436\n",
      "Current loss is: 0.004888813\n",
      "Current loss is: 0.0047151637\n",
      "Current loss is: 0.0045471024\n"
     ]
    },
    {
     "name": "stderr",
     "output_type": "stream",
     "text": [
      "\r",
      "\u001b[32mloss: 0.00438:  25%|██████████▏                              |  ETA: 0:01:25\u001b[39m"
     ]
    },
    {
     "name": "stdout",
     "output_type": "stream",
     "text": [
      "Current loss is: 0.004384448\n",
      "Current loss is: 0.0042269584\n",
      "Current loss is: 0.004074601\n",
      "Current loss is: 0.003927257\n",
      "Current loss is: 0.003784873\n",
      "Current loss is: 0.0036472017\n",
      "Current loss is: 0.0035142093\n",
      "Current loss is: 0.0033857592\n"
     ]
    },
    {
     "name": "stderr",
     "output_type": "stream",
     "text": [
      "\r",
      "\u001b[32mloss: 0.00326:  25%|██████████▍                              |  ETA: 0:01:23\u001b[39m"
     ]
    },
    {
     "name": "stdout",
     "output_type": "stream",
     "text": [
      "Current loss is: 0.003261741\n",
      "Current loss is: 0.0031419904\n",
      "Current loss is: 0.0030264698\n",
      "Current loss is: 0.0029149617\n",
      "Current loss is: 0.0028073909\n",
      "Current loss is: 0.0027035293\n"
     ]
    },
    {
     "name": "stderr",
     "output_type": "stream",
     "text": [
      "\r",
      "\u001b[32mloss: 0.0026:  26%|██████████▌                              |  ETA: 0:01:22\u001b[39m"
     ]
    },
    {
     "name": "stdout",
     "output_type": "stream",
     "text": [
      "Current loss is: 0.0026033395\n",
      "Current loss is: 0.0025066563\n",
      "Current loss is: 0.0024133176\n",
      "Current loss is: 0.0023231967\n",
      "Current loss is: 0.0022362296\n",
      "Current loss is: 0.0021522415\n",
      "Current loss is: 0.0020711836\n",
      "Current loss is: 0.0019929088\n"
     ]
    },
    {
     "name": "stderr",
     "output_type": "stream",
     "text": [
      "\r",
      "\u001b[32mloss: 0.00184:  26%|██████████▋                              |  ETA: 0:01:21\u001b[39m"
     ]
    },
    {
     "name": "stdout",
     "output_type": "stream",
     "text": [
      "Current loss is: 0.0019173615\n",
      "Current loss is: 0.0018443963\n",
      "Current loss is: 0.0017739725\n",
      "Current loss is: 0.0017059885\n",
      "Current loss is: 0.0016403662\n",
      "Current loss is: 0.0015770077\n",
      "Current loss is: 0.0015158697\n"
     ]
    },
    {
     "name": "stderr",
     "output_type": "stream",
     "text": [
      "\r",
      "\u001b[32mloss: 0.00134:  26%|██████████▉                              |  ETA: 0:01:19\u001b[39m"
     ]
    },
    {
     "name": "stdout",
     "output_type": "stream",
     "text": [
      "Current loss is: 0.0014568481\n",
      "Current loss is: 0.0013998757\n",
      "Current loss is: 0.0013449487\n",
      "Current loss is: 0.0012919317\n",
      "Current loss is: 0.0012408257\n",
      "Current loss is: 0.0011915752\n",
      "Current loss is: 0.0011441011\n",
      "Current loss is: 0.0010983672\n",
      "Current loss is: 0.0010543212\n"
     ]
    },
    {
     "name": "stderr",
     "output_type": "stream",
     "text": [
      "\r",
      "\u001b[32mloss: 0.000932:  27%|███████████                              |  ETA: 0:01:18\u001b[39m"
     ]
    },
    {
     "name": "stdout",
     "output_type": "stream",
     "text": [
      "Current loss is: 0.0010119356\n",
      "Current loss is: 0.00097115024\n",
      "Current loss is: 0.0009319162\n",
      "Current loss is: 0.00089419284\n",
      "Current loss is: 0.00085795904\n",
      "Current loss is: 0.0008231347\n"
     ]
    },
    {
     "name": "stderr",
     "output_type": "stream",
     "text": [
      "\r",
      "\u001b[32mloss: 0.000697:  27%|███████████▏                             |  ETA: 0:01:17\u001b[39m"
     ]
    },
    {
     "name": "stdout",
     "output_type": "stream",
     "text": [
      "Current loss is: 0.0007896986\n",
      "Current loss is: 0.00075757573\n",
      "Current loss is: 0.00072672864\n",
      "Current loss is: 0.00069713045\n",
      "Current loss is: 0.0006687113\n",
      "Current loss is: 0.0006414333\n",
      "Current loss is: 0.0006152565\n",
      "Current loss is: 0.00059014023\n"
     ]
    },
    {
     "name": "stderr",
     "output_type": "stream",
     "text": [
      "\r",
      "\u001b[32mloss: 0.000499:  28%|███████████▍                             |  ETA: 0:01:15\u001b[39m"
     ]
    },
    {
     "name": "stdout",
     "output_type": "stream",
     "text": [
      "Current loss is: 0.0005660397\n",
      "Current loss is: 0.000542919\n",
      "Current loss is: 0.00052075024\n",
      "Current loss is: 0.0004994854\n",
      "Current loss is: 0.00047909582\n",
      "Current loss is: 0.00045954937\n",
      "Current loss is: 0.0004408104\n",
      "Current loss is: 0.00042285223\n"
     ]
    },
    {
     "name": "stderr",
     "output_type": "stream",
     "text": [
      "\r",
      "\u001b[32mloss: 0.000373:  28%|███████████▌                             |  ETA: 0:01:14\u001b[39m"
     ]
    },
    {
     "name": "stdout",
     "output_type": "stream",
     "text": [
      "Current loss is: 0.00040563988\n",
      "Current loss is: 0.00038915523\n",
      "Current loss is: 0.00037336233\n",
      "Current loss is: 0.00035823672\n",
      "Current loss is: 0.00034376484\n",
      "Current loss is: 0.00032991773\n",
      "Current loss is: 0.0003166626\n"
     ]
    },
    {
     "name": "stderr",
     "output_type": "stream",
     "text": [
      "\r",
      "\u001b[32mloss: 0.000259:  28%|███████████▋                             |  ETA: 0:01:13\u001b[39m"
     ]
    },
    {
     "name": "stdout",
     "output_type": "stream",
     "text": [
      "Current loss is: 0.00030399254\n",
      "Current loss is: 0.00029187664\n",
      "Current loss is: 0.00028028846\n",
      "Current loss is: 0.00026921617\n",
      "Current loss is: 0.00025863948\n",
      "Current loss is: 0.0002485381\n",
      "Current loss is: 0.00023888894\n"
     ]
    },
    {
     "name": "stderr",
     "output_type": "stream",
     "text": [
      "\r",
      "\u001b[32mloss: 0.000204:  29%|███████████▊                             |  ETA: 0:01:12\u001b[39m"
     ]
    },
    {
     "name": "stdout",
     "output_type": "stream",
     "text": [
      "Current loss is: 0.00022968175\n",
      "Current loss is: 0.00022088437\n",
      "Current loss is: 0.00021248776\n",
      "Current loss is: 0.00020446934\n",
      "Current loss is: 0.00019681528\n",
      "Current loss is: 0.00018950997\n"
     ]
    },
    {
     "name": "stderr",
     "output_type": "stream",
     "text": [
      "\r",
      "\u001b[32mloss: 0.000147:  29%|███████████▉                             |  ETA: 0:01:11\u001b[39m"
     ]
    },
    {
     "name": "stdout",
     "output_type": "stream",
     "text": [
      "Current loss is: 0.0001825361\n",
      "Current loss is: 0.00017587867\n",
      "Current loss is: 0.00016952664\n",
      "Current loss is: 0.00016346283\n",
      "Current loss is: 0.00015767264\n",
      "Current loss is: 0.0001521481\n",
      "Current loss is: 0.00014687057\n",
      "Current loss is: 0.0001418339\n",
      "Current loss is: 0.00013702968\n"
     ]
    },
    {
     "name": "stderr",
     "output_type": "stream",
     "text": [
      "\r",
      "\u001b[32mloss: 0.000112:  30%|████████████▏                            |  ETA: 0:01:10\u001b[39m"
     ]
    },
    {
     "name": "stdout",
     "output_type": "stream",
     "text": [
      "Current loss is: 0.00013243576\n",
      "Current loss is: 0.00012805233\n",
      "Current loss is: 0.00012386886\n",
      "Current loss is: 0.0001198696\n",
      "Current loss is: 0.00011605382\n",
      "Current loss is: 0.000112404756\n",
      "Current loss is: 0.000108918\n",
      "Current loss is: 0.000105592306\n"
     ]
    },
    {
     "name": "stderr",
     "output_type": "stream",
     "text": [
      "\r",
      "\u001b[32mloss: 8.85e-05:  30%|████████████▎                            |  ETA: 0:01:09\u001b[39m"
     ]
    },
    {
     "name": "stdout",
     "output_type": "stream",
     "text": [
      "Current loss is: 0.00010241115\n",
      "Current loss is: 9.937234e-5\n",
      "Current loss is: 9.6470176e-5\n",
      "Current loss is: 9.36959e-5\n",
      "Current loss is: 9.103975e-5\n",
      "Current loss is: 8.850123e-5\n",
      "Current loss is: 8.6075e-5\n",
      "Current loss is: 8.3750885e-5\n"
     ]
    },
    {
     "name": "stderr",
     "output_type": "stream",
     "text": [
      "\r",
      "\u001b[32mloss: 7.17e-05:  30%|████████████▍                            |  ETA: 0:01:08\u001b[39m"
     ]
    },
    {
     "name": "stdout",
     "output_type": "stream",
     "text": [
      "Current loss is: 8.1524486e-5\n",
      "Current loss is: 7.9391655e-5\n",
      "Current loss is: 7.734871e-5\n",
      "Current loss is: 7.5389034e-5\n",
      "Current loss is: 7.350964e-5\n",
      "Current loss is: 7.170565e-5\n",
      "Current loss is: 6.997336e-5\n",
      "Current loss is: 6.8311376e-5\n"
     ]
    },
    {
     "name": "stderr",
     "output_type": "stream",
     "text": [
      "\r",
      "\u001b[32mloss: 5.83e-05:  31%|████████████▋                            |  ETA: 0:01:07\u001b[39m"
     ]
    },
    {
     "name": "stdout",
     "output_type": "stream",
     "text": [
      "Current loss is: 6.671152e-5\n",
      "Current loss is: 6.517381e-5\n",
      "Current loss is: 6.369068e-5\n",
      "Current loss is: 6.226244e-5\n",
      "Current loss is: 6.088501e-5\n",
      "Current loss is: 5.9557984e-5\n",
      "Current loss is: 5.827638e-5\n",
      "Current loss is: 5.7039062e-5\n",
      "Current loss is: 5.5839395e-5\n"
     ]
    },
    {
     "name": "stderr",
     "output_type": "stream",
     "text": [
      "\r",
      "\u001b[32mloss: 5.04e-05:  31%|████████████▊                            |  ETA: 0:01:06\u001b[39m"
     ]
    },
    {
     "name": "stdout",
     "output_type": "stream",
     "text": [
      "Current loss is: 5.468287e-5\n",
      "Current loss is: 5.356264e-5\n",
      "Current loss is: 5.247737e-5\n",
      "Current loss is: 5.1423198e-5\n",
      "Current loss is: 5.040189e-5\n",
      "Current loss is: 4.941037e-5\n",
      "Current loss is: 4.844877e-5\n"
     ]
    },
    {
     "name": "stderr",
     "output_type": "stream",
     "text": [
      "\r",
      "\u001b[32mloss: 4.32e-05:  32%|████████████▉                            |  ETA: 0:01:05\u001b[39m"
     ]
    },
    {
     "name": "stdout",
     "output_type": "stream",
     "text": [
      "Current loss is: 4.7512258e-5\n",
      "Current loss is: 4.6600566e-5\n",
      "Current loss is: 4.571349e-5\n",
      "Current loss is: 4.48532e-5\n",
      "Current loss is: 4.4014116e-5\n",
      "Current loss is: 4.3193468e-5\n",
      "Current loss is: 4.240077e-5\n",
      "Current loss is: 4.162191e-5\n"
     ]
    },
    {
     "name": "stderr",
     "output_type": "stream",
     "text": [
      "\r",
      "\u001b[32mloss: 3.73e-05:  32%|█████████████▏                           |  ETA: 0:01:04\u001b[39m"
     ]
    },
    {
     "name": "stdout",
     "output_type": "stream",
     "text": [
      "Current loss is: 4.0863204e-5\n",
      "Current loss is: 4.0124916e-5\n",
      "Current loss is: 3.9405066e-5\n",
      "Current loss is: 3.870103e-5\n",
      "Current loss is: 3.8014314e-5\n",
      "Current loss is: 3.7346763e-5\n",
      "Current loss is: 3.669057e-5\n"
     ]
    },
    {
     "name": "stderr",
     "output_type": "stream",
     "text": [
      "\r",
      "\u001b[32mloss: 3.25e-05:  32%|█████████████▎                           |  ETA: 0:01:03\u001b[39m"
     ]
    },
    {
     "name": "stdout",
     "output_type": "stream",
     "text": [
      "Current loss is: 3.6057863e-5\n",
      "Current loss is: 3.543337e-5\n",
      "Current loss is: 3.4827084e-5\n",
      "Current loss is: 3.423349e-5\n",
      "Current loss is: 3.3656343e-5\n",
      "Current loss is: 3.3092554e-5\n",
      "Current loss is: 3.254234e-5\n",
      "Current loss is: 3.2004144e-5\n"
     ]
    },
    {
     "name": "stderr",
     "output_type": "stream",
     "text": [
      "\r",
      "\u001b[32mloss: 2.86e-05:  33%|█████████████▍                           |  ETA: 0:01:02\u001b[39m"
     ]
    },
    {
     "name": "stdout",
     "output_type": "stream",
     "text": [
      "Current loss is: 3.148034e-5\n",
      "Current loss is: 3.0968367e-5\n",
      "Current loss is: 3.0468325e-5\n",
      "Current loss is: 2.9980158e-5\n",
      "Current loss is: 2.9503291e-5\n",
      "Current loss is: 2.9039584e-5\n",
      "Current loss is: 2.858468e-5\n"
     ]
    },
    {
     "name": "stderr",
     "output_type": "stream",
     "text": [
      "\r",
      "\u001b[32mloss: 2.57e-05:  33%|█████████████▋                           |  ETA: 0:01:01\u001b[39m"
     ]
    },
    {
     "name": "stdout",
     "output_type": "stream",
     "text": [
      "Current loss is: 2.8139848e-5\n",
      "Current loss is: 2.7705612e-5\n",
      "Current loss is: 2.7281916e-5\n",
      "Current loss is: 2.6869344e-5\n",
      "Current loss is: 2.6463375e-5\n",
      "Current loss is: 2.6065427e-5\n",
      "Current loss is: 2.567601e-5\n",
      "Current loss is: 2.5293572e-5\n"
     ]
    },
    {
     "name": "stderr",
     "output_type": "stream",
     "text": [
      "\r",
      "\u001b[32mloss: 2.28e-05:  34%|█████████████▊                           |  ETA: 0:01:00\u001b[39m"
     ]
    },
    {
     "name": "stdout",
     "output_type": "stream",
     "text": [
      "Current loss is: 2.4917983e-5\n",
      "Current loss is: 2.455106e-5\n",
      "Current loss is: 2.418982e-5\n",
      "Current loss is: 2.3832192e-5\n",
      "Current loss is: 2.3480648e-5\n",
      "Current loss is: 2.3136121e-5\n",
      "Current loss is: 2.279484e-5\n",
      "Current loss is: 2.245761e-5\n"
     ]
    },
    {
     "name": "stderr",
     "output_type": "stream",
     "text": [
      "\r",
      "\u001b[32mloss: 2.05e-05:  34%|█████████████▉                           |  ETA: 0:01:00\u001b[39m"
     ]
    },
    {
     "name": "stdout",
     "output_type": "stream",
     "text": [
      "Current loss is: 2.2124761e-5\n",
      "Current loss is: 2.1796572e-5\n",
      "Current loss is: 2.1474421e-5\n",
      "Current loss is: 2.1154774e-5\n",
      "Current loss is: 2.0841078e-5\n",
      "Current loss is: 2.053114e-5\n",
      "Current loss is: 2.0222757e-5\n",
      "Current loss is: 1.9920179e-5\n"
     ]
    },
    {
     "name": "stderr",
     "output_type": "stream",
     "text": [
      "\r",
      "\u001b[32mloss: 1.82e-05:  34%|██████████████                           |  ETA: 0:00:59\u001b[39m"
     ]
    },
    {
     "name": "stdout",
     "output_type": "stream",
     "text": [
      "Current loss is: 1.9622803e-5\n",
      "Current loss is: 1.9326537e-5\n",
      "Current loss is: 1.9034462e-5\n",
      "Current loss is: 1.8747123e-5\n",
      "Current loss is: 1.8461395e-5\n",
      "Current loss is: 1.817818e-5\n",
      "Current loss is: 1.7899729e-5\n",
      "Current loss is: 1.7622371e-5\n",
      "Current loss is: 1.7347229e-5\n"
     ]
    },
    {
     "name": "stderr",
     "output_type": "stream",
     "text": [
      "\r",
      "\u001b[32mloss: 1.6e-05:  35%|██████████████▏                          |  ETA: 0:00:58\u001b[39m"
     ]
    },
    {
     "name": "stdout",
     "output_type": "stream",
     "text": [
      "Current loss is: 1.7077382e-5\n",
      "Current loss is: 1.6808313e-5\n",
      "Current loss is: 1.6543356e-5\n",
      "Current loss is: 1.6282476e-5\n",
      "Current loss is: 1.6020904e-5\n",
      "Current loss is: 1.5763373e-5\n",
      "Current loss is: 1.5505806e-5\n",
      "Current loss is: 1.5248375e-5\n",
      "Current loss is: 1.499756e-5\n"
     ]
    },
    {
     "name": "stderr",
     "output_type": "stream",
     "text": [
      "\r",
      "\u001b[32mloss: 1.37e-05:  35%|██████████████▍                          |  ETA: 0:00:57\u001b[39m"
     ]
    },
    {
     "name": "stdout",
     "output_type": "stream",
     "text": [
      "Current loss is: 1.4739768e-5\n",
      "Current loss is: 1.4489103e-5\n",
      "Current loss is: 1.4233783e-5\n",
      "Current loss is: 1.3982253e-5\n",
      "Current loss is: 1.3731254e-5\n",
      "Current loss is: 1.3480103e-5\n",
      "Current loss is: 1.3236984e-5\n",
      "Current loss is: 1.29865875e-5\n"
     ]
    },
    {
     "name": "stderr",
     "output_type": "stream",
     "text": [
      "\r",
      "\u001b[32mloss: 1.18e-05:  36%|██████████████▌                          |  ETA: 0:00:56\u001b[39m"
     ]
    },
    {
     "name": "stdout",
     "output_type": "stream",
     "text": [
      "Current loss is: 1.2749383e-5\n",
      "Current loss is: 1.2495111e-5\n",
      "Current loss is: 1.2267686e-5\n",
      "Current loss is: 1.2003587e-5\n",
      "Current loss is: 1.1815143e-5\n",
      "Current loss is: 1.1508419e-5\n",
      "Current loss is: 1.1464815e-5\n",
      "Current loss is: 1.1017948e-5\n"
     ]
    },
    {
     "name": "stderr",
     "output_type": "stream",
     "text": [
      "\r",
      "\u001b[32mloss: 1.11:  36%|██████████████▊                          |  ETA: 0:00:55\u001b[39m"
     ]
    },
    {
     "name": "stdout",
     "output_type": "stream",
     "text": [
      "Current loss is: 1.1976267e-5\n",
      "Current loss is: 1.2793923e-5\n",
      "Current loss is: 3.4464345e-5\n",
      "Current loss is: 0.00031873697\n",
      "Current loss is: 1.1116449\n",
      "Current loss is: 4363.5137\n",
      "Current loss is: 76.83877\n",
      "Current loss is: 8449.94\n"
     ]
    },
    {
     "name": "stderr",
     "output_type": "stream",
     "text": [
      "\r",
      "\u001b[32mloss: 5.53e+03:  36%|██████████████▉                          |  ETA: 0:00:55\u001b[39m"
     ]
    },
    {
     "name": "stdout",
     "output_type": "stream",
     "text": [
      "Current loss is: 5883.5596\n",
      "Current loss is: 1375.4192\n",
      "Current loss is: 4897.2573\n",
      "Current loss is: 37293.35\n",
      "Current loss is: 5531.1377\n",
      "Current loss is: 1597.8423\n",
      "Current loss is: 7718.5176\n",
      "Current loss is: 32221.64\n"
     ]
    },
    {
     "name": "stderr",
     "output_type": "stream",
     "text": [
      "\r",
      "\u001b[32mloss: 1.8e+04:  37%|███████████████                          |  ETA: 0:00:54\u001b[39m"
     ]
    },
    {
     "name": "stdout",
     "output_type": "stream",
     "text": [
      "Current loss is: 19412.344\n",
      "Current loss is: 3315.6772\n",
      "Current loss is: 1930.0837\n",
      "Current loss is: 6148.088\n",
      "Current loss is: 17990.594\n",
      "Current loss is: 17556.217\n",
      "Current loss is: 5850.0264\n",
      "Current loss is: 984.3225\n"
     ]
    },
    {
     "name": "stderr",
     "output_type": "stream",
     "text": [
      "\r",
      "\u001b[32mloss: 8.34e+03:  37%|███████████████▎                         |  ETA: 0:00:53\u001b[39m"
     ]
    },
    {
     "name": "stdout",
     "output_type": "stream",
     "text": [
      "Current loss is: 669.46265\n",
      "Current loss is: 2435.9868\n",
      "Current loss is: 8024.06\n",
      "Current loss is: 12672.012\n",
      "Current loss is: 8343.426\n",
      "Current loss is: 2549.4119\n",
      "Current loss is: 474.11298\n",
      "Current loss is: 209.68466\n"
     ]
    },
    {
     "name": "stderr",
     "output_type": "stream",
     "text": [
      "\r",
      "\u001b[32mloss: 1.02e+03:  38%|███████████████▍                         |  ETA: 0:00:52\u001b[39m"
     ]
    },
    {
     "name": "stdout",
     "output_type": "stream",
     "text": [
      "Current loss is: 423.60413\n",
      "Current loss is: 1402.6779\n",
      "Current loss is: 2894.3875\n",
      "Current loss is: 3393.661\n",
      "Current loss is: 2332.9475\n",
      "Current loss is: 1021.3264\n",
      "Current loss is: 368.13928\n",
      "Current loss is: 192.69633\n"
     ]
    },
    {
     "name": "stderr",
     "output_type": "stream",
     "text": [
      "\r",
      "\u001b[32mloss: 271:  38%|███████████████▌                         |  ETA: 0:00:52\u001b[39m"
     ]
    },
    {
     "name": "stdout",
     "output_type": "stream",
     "text": [
      "Current loss is: 240.91765\n",
      "Current loss is: 409.45392\n",
      "Current loss is: 484.40353\n",
      "Current loss is: 394.48346\n",
      "Current loss is: 270.6539\n",
      "Current loss is: 185.99156\n",
      "Current loss is: 143.74577\n",
      "Current loss is: 130.0147\n"
     ]
    },
    {
     "name": "stderr",
     "output_type": "stream",
     "text": [
      "\r",
      "\u001b[32mloss: 84.1:  38%|███████████████▊                         |  ETA: 0:00:51\u001b[39m"
     ]
    },
    {
     "name": "stdout",
     "output_type": "stream",
     "text": [
      "Current loss is: 131.35251\n",
      "Current loss is: 136.57979\n",
      "Current loss is: 137.02115\n",
      "Current loss is: 127.760956\n",
      "Current loss is: 108.72919\n",
      "Current loss is: 84.10812\n",
      "Current loss is: 59.670242\n",
      "Current loss is: 39.72029\n"
     ]
    },
    {
     "name": "stderr",
     "output_type": "stream",
     "text": [
      "\r",
      "\u001b[32mloss: 10.5:  39%|███████████████▉                         |  ETA: 0:00:50\u001b[39m"
     ]
    },
    {
     "name": "stdout",
     "output_type": "stream",
     "text": [
      "Current loss is: 25.77464\n",
      "Current loss is: 17.211819\n",
      "Current loss is: 12.604027\n",
      "Current loss is: 10.652488\n",
      "Current loss is: 10.496342\n",
      "Current loss is: 11.6222515\n",
      "Current loss is: 13.640723\n",
      "Current loss is: 16.099258\n"
     ]
    },
    {
     "name": "stderr",
     "output_type": "stream",
     "text": [
      "\r",
      "\u001b[32mloss: 17.4:  39%|████████████████                         |  ETA: 0:00:50\u001b[39m"
     ]
    },
    {
     "name": "stdout",
     "output_type": "stream",
     "text": [
      "Current loss is: 18.422611\n",
      "Current loss is: 20.002794\n",
      "Current loss is: 20.385315\n",
      "Current loss is: 19.43467\n",
      "Current loss is: 17.368958\n",
      "Current loss is: 14.642782\n",
      "Current loss is: 11.757046\n",
      "Current loss is: 9.102877\n"
     ]
    },
    {
     "name": "stderr",
     "output_type": "stream",
     "text": [
      "\r",
      "\u001b[32mloss: 2.54:  40%|████████████████▎                        |  ETA: 0:00:49\u001b[39m"
     ]
    },
    {
     "name": "stdout",
     "output_type": "stream",
     "text": [
      "Current loss is: 6.89707\n",
      "Current loss is: 5.199127\n",
      "Current loss is: 3.9670396\n",
      "Current loss is: 3.1135035\n",
      "Current loss is: 2.5443256\n",
      "Current loss is: 2.1775851\n",
      "Current loss is: 1.9492276\n",
      "Current loss is: 1.8116868\n"
     ]
    },
    {
     "name": "stderr",
     "output_type": "stream",
     "text": [
      "\r",
      "\u001b[32mloss: 1.6:  40%|████████████████▍                        |  ETA: 0:00:49\u001b[39m"
     ]
    },
    {
     "name": "stdout",
     "output_type": "stream",
     "text": [
      "Current loss is: 1.7301085\n",
      "Current loss is: 1.6787945\n",
      "Current loss is: 1.6387111\n",
      "Current loss is: 1.596198\n",
      "Current loss is: 1.5424154\n",
      "Current loss is: 1.4730568\n"
     ]
    },
    {
     "name": "stderr",
     "output_type": "stream",
     "text": [
      "\r",
      "\u001b[32mloss: 1.18:  40%|████████████████▌                        |  ETA: 0:00:48\u001b[39m"
     ]
    },
    {
     "name": "stdout",
     "output_type": "stream",
     "text": [
      "Current loss is: 1.3878741\n",
      "Current loss is: 1.289857\n",
      "Current loss is: 1.1840949\n",
      "Current loss is: 1.0765089\n",
      "Current loss is: 0.9727373\n",
      "Current loss is: 0.87736624\n"
     ]
    },
    {
     "name": "stderr",
     "output_type": "stream",
     "text": [
      "\r",
      "\u001b[32mloss: 0.622:  40%|████████████████▋                        |  ETA: 0:00:48\u001b[39m"
     ]
    },
    {
     "name": "stdout",
     "output_type": "stream",
     "text": [
      "Current loss is: 0.79354924\n",
      "Current loss is: 0.7229639\n",
      "Current loss is: 0.6660226\n",
      "Current loss is: 0.62215257\n",
      "Current loss is: 0.5900875\n",
      "Current loss is: 0.56809795\n",
      "Current loss is: 0.5541669\n",
      "Current loss is: 0.5461196\n",
      "Current loss is: 0.5417258\n"
     ]
    },
    {
     "name": "stderr",
     "output_type": "stream",
     "text": [
      "\r",
      "\u001b[32mloss: 0.521:  41%|████████████████▊                        |  ETA: 0:00:47\u001b[39m"
     ]
    },
    {
     "name": "stdout",
     "output_type": "stream",
     "text": [
      "Current loss is: 0.538832\n",
      "Current loss is: 0.53547746\n",
      "Current loss is: 0.5300461\n",
      "Current loss is: 0.5213777\n",
      "Current loss is: 0.50885856\n",
      "Current loss is: 0.49242842\n"
     ]
    },
    {
     "name": "stderr",
     "output_type": "stream",
     "text": [
      "\r",
      "\u001b[32mloss: 0.378:  41%|████████████████▉                        |  ETA: 0:00:46\u001b[39m"
     ]
    },
    {
     "name": "stdout",
     "output_type": "stream",
     "text": [
      "Current loss is: 0.4725406\n",
      "Current loss is: 0.45002848\n",
      "Current loss is: 0.42595607\n",
      "Current loss is: 0.40145123\n",
      "Current loss is: 0.3775537\n",
      "Current loss is: 0.3551185\n",
      "Current loss is: 0.33474776\n",
      "Current loss is: 0.31679142\n"
     ]
    },
    {
     "name": "stderr",
     "output_type": "stream",
     "text": [
      "\r",
      "\u001b[32mloss: 0.269:  42%|█████████████████                        |  ETA: 0:00:46\u001b[39m"
     ]
    },
    {
     "name": "stdout",
     "output_type": "stream",
     "text": [
      "Current loss is: 0.30136696\n",
      "Current loss is: 0.2884165\n",
      "Current loss is: 0.27775326\n",
      "Current loss is: 0.26912948\n",
      "Current loss is: 0.26227957\n",
      "Current loss is: 0.25695947\n"
     ]
    },
    {
     "name": "stderr",
     "output_type": "stream",
     "text": [
      "\r",
      "\u001b[32mloss: 0.249:  42%|█████████████████▏                       |  ETA: 0:00:46\u001b[39m"
     ]
    },
    {
     "name": "stdout",
     "output_type": "stream",
     "text": [
      "Current loss is: 0.2529702\n",
      "Current loss is: 0.25017652\n",
      "Current loss is: 0.24850202\n",
      "Current loss is: 0.24793005\n",
      "Current loss is: 0.2484803\n",
      "Current loss is: 0.25019336\n",
      "Current loss is: 0.25309622\n"
     ]
    },
    {
     "name": "stderr",
     "output_type": "stream",
     "text": [
      "\r",
      "\u001b[32mloss: 0.275:  42%|█████████████████▎                       |  ETA: 0:00:45\u001b[39m"
     ]
    },
    {
     "name": "stdout",
     "output_type": "stream",
     "text": [
      "Current loss is: 0.25717688\n",
      "Current loss is: 0.26234823\n",
      "Current loss is: 0.26842588\n",
      "Current loss is: 0.27511185\n",
      "Current loss is: 0.28200066\n",
      "Current loss is: 0.28860098\n",
      "Current loss is: 0.29438436\n"
     ]
    },
    {
     "name": "stderr",
     "output_type": "stream",
     "text": [
      "\r",
      "\u001b[32mloss: 0.298:  43%|█████████████████▌                       |  ETA: 0:00:44\u001b[39m"
     ]
    },
    {
     "name": "stdout",
     "output_type": "stream",
     "text": [
      "Current loss is: 0.29885244\n",
      "Current loss is: 0.3016011\n",
      "Current loss is: 0.30238944\n",
      "Current loss is: 0.30116862\n",
      "Current loss is: 0.29809293\n",
      "Current loss is: 0.29348105\n",
      "Current loss is: 0.2877648\n"
     ]
    },
    {
     "name": "stderr",
     "output_type": "stream",
     "text": [
      "\r",
      "\u001b[32mloss: 0.25:  43%|█████████████████▋                       |  ETA: 0:00:44\u001b[39m"
     ]
    },
    {
     "name": "stdout",
     "output_type": "stream",
     "text": [
      "Current loss is: 0.28141862\n",
      "Current loss is: 0.27489656\n",
      "Current loss is: 0.26858488\n",
      "Current loss is: 0.26278\n",
      "Current loss is: 0.2576817\n",
      "Current loss is: 0.25340557\n",
      "Current loss is: 0.2500016\n",
      "Current loss is: 0.24747668\n"
     ]
    },
    {
     "name": "stderr",
     "output_type": "stream",
     "text": [
      "\r",
      "\u001b[32mloss: 0.246:  43%|█████████████████▊                       |  ETA: 0:00:43\u001b[39m"
     ]
    },
    {
     "name": "stdout",
     "output_type": "stream",
     "text": [
      "Current loss is: 0.24579868\n",
      "Current loss is: 0.2449096\n",
      "Current loss is: 0.24472058\n",
      "Current loss is: 0.2451033\n",
      "Current loss is: 0.24588916\n"
     ]
    },
    {
     "name": "stderr",
     "output_type": "stream",
     "text": [
      "\r",
      "\u001b[32mloss: 0.244:  44%|█████████████████▉                       |  ETA: 0:00:43\u001b[39m"
     ]
    },
    {
     "name": "stdout",
     "output_type": "stream",
     "text": [
      "Current loss is: 0.24686393\n",
      "Current loss is: 0.24778053\n",
      "Current loss is: 0.24838552\n",
      "Current loss is: 0.24844675\n",
      "Current loss is: 0.24779463\n",
      "Current loss is: 0.24635056\n",
      "Current loss is: 0.24414393\n",
      "Current loss is: 0.24130312\n"
     ]
    },
    {
     "name": "stderr",
     "output_type": "stream",
     "text": [
      "\r",
      "\u001b[32mloss: 0.221:  44%|██████████████████▏                      |  ETA: 0:00:42\u001b[39m"
     ]
    },
    {
     "name": "stdout",
     "output_type": "stream",
     "text": [
      "Current loss is: 0.23803554\n",
      "Current loss is: 0.23458734\n",
      "Current loss is: 0.23120564\n",
      "Current loss is: 0.22810912\n",
      "Current loss is: 0.22546574\n",
      "Current loss is: 0.22338375\n",
      "Current loss is: 0.22191139\n",
      "Current loss is: 0.22103998\n",
      "Current loss is: 0.22070709\n"
     ]
    },
    {
     "name": "stderr",
     "output_type": "stream",
     "text": [
      "\r",
      "\u001b[32mloss: 0.221:  44%|██████████████████▎                      |  ETA: 0:00:42\u001b[39m"
     ]
    },
    {
     "name": "stdout",
     "output_type": "stream",
     "text": [
      "Current loss is: 0.22079703\n",
      "Current loss is: 0.22114842\n",
      "Current loss is: 0.2215586\n",
      "Current loss is: 0.22180799\n",
      "Current loss is: 0.22168176\n",
      "Current loss is: 0.2210127\n",
      "Current loss is: 0.21970472\n",
      "Current loss is: 0.21775943\n",
      "Current loss is: 0.21527424\n"
     ]
    },
    {
     "name": "stderr",
     "output_type": "stream",
     "text": [
      "\r",
      "\u001b[32mloss: 0.204:  45%|██████████████████▍                      |  ETA: 0:00:41\u001b[39m"
     ]
    },
    {
     "name": "stdout",
     "output_type": "stream",
     "text": [
      "Current loss is: 0.21241848\n",
      "Current loss is: 0.20940238\n",
      "Current loss is: 0.20643881\n",
      "Current loss is: 0.20370787\n",
      "Current loss is: 0.20133796\n"
     ]
    },
    {
     "name": "stderr",
     "output_type": "stream",
     "text": [
      "\r",
      "\u001b[32mloss: 0.196:  45%|██████████████████▌                      |  ETA: 0:00:41\u001b[39m"
     ]
    },
    {
     "name": "stdout",
     "output_type": "stream",
     "text": [
      "Current loss is: 0.1993941\n",
      "Current loss is: 0.19787583\n",
      "Current loss is: 0.19672146\n",
      "Current loss is: 0.1958169\n",
      "Current loss is: 0.19501367\n",
      "Current loss is: 0.19415328\n"
     ]
    },
    {
     "name": "stderr",
     "output_type": "stream",
     "text": [
      "\r",
      "\u001b[32mloss: 0.184:  46%|██████████████████▋                      |  ETA: 0:00:40\u001b[39m"
     ]
    },
    {
     "name": "stdout",
     "output_type": "stream",
     "text": [
      "Current loss is: 0.19309756\n",
      "Current loss is: 0.19175765\n",
      "Current loss is: 0.19011462\n",
      "Current loss is: 0.18821883\n",
      "Current loss is: 0.18617511\n",
      "Current loss is: 0.18411395\n",
      "Current loss is: 0.18215784\n",
      "Current loss is: 0.18039505\n"
     ]
    },
    {
     "name": "stderr",
     "output_type": "stream",
     "text": [
      "\r",
      "\u001b[32mloss: 0.172:  46%|██████████████████▉                      |  ETA: 0:00:40\u001b[39m"
     ]
    },
    {
     "name": "stdout",
     "output_type": "stream",
     "text": [
      "Current loss is: 0.17886065\n",
      "Current loss is: 0.1775324\n",
      "Current loss is: 0.17633724\n",
      "Current loss is: 0.17516479\n",
      "Current loss is: 0.17389691\n",
      "Current loss is: 0.17243993\n",
      "Current loss is: 0.17074803\n"
     ]
    },
    {
     "name": "stderr",
     "output_type": "stream",
     "text": [
      "\r",
      "\u001b[32mloss: 0.157:  46%|███████████████████                      |  ETA: 0:00:39\u001b[39m"
     ]
    },
    {
     "name": "stdout",
     "output_type": "stream",
     "text": [
      "Current loss is: 0.16884327\n",
      "Current loss is: 0.16680591\n",
      "Current loss is: 0.16475186\n",
      "Current loss is: 0.16279908\n",
      "Current loss is: 0.16103472\n",
      "Current loss is: 0.1594927\n",
      "Current loss is: 0.15814781\n",
      "Current loss is: 0.15692338\n",
      "Current loss is: 0.15571183\n",
      "Current loss is: 0.1544095\n",
      "Current loss is: 0.15294708\n",
      "Current loss is: 0.1513131\n",
      "Current loss is: 0.14955491\n"
     ]
    },
    {
     "name": "stderr",
     "output_type": "stream",
     "text": [
      "\r",
      "\u001b[32mloss: 0.148:  47%|███████████████████▏                     |  ETA: 0:00:39\u001b[39m"
     ]
    },
    {
     "name": "stdout",
     "output_type": "stream",
     "text": [
      "Current loss is: 0.14775695\n",
      "Current loss is: 0.14601225\n",
      "Current loss is: 0.1443847\n",
      "Current loss is: 0.14289156\n",
      "Current loss is: 0.14150044\n",
      "Current loss is: 0.140143\n",
      "Current loss is: 0.13874625\n"
     ]
    },
    {
     "name": "stderr",
     "output_type": "stream",
     "text": [
      "\r",
      "\u001b[32mloss: 0.137:  47%|███████████████████▎                     |  ETA: 0:00:39\u001b[39m"
     ]
    },
    {
     "name": "stdout",
     "output_type": "stream",
     "text": [
      "Current loss is: 0.13726209\n",
      "Current loss is: 0.13568927\n",
      "Current loss is: 0.13407086\n",
      "Current loss is: 0.13247699\n",
      "Current loss is: 0.13096812\n",
      "Current loss is: 0.12957016\n",
      "Current loss is: 0.1282618\n",
      "Current loss is: 0.12698391\n",
      "Current loss is: 0.12566513\n"
     ]
    },
    {
     "name": "stderr",
     "output_type": "stream",
     "text": [
      "\r",
      "\u001b[32mloss: 0.124:  48%|███████████████████▌                     |  ETA: 0:00:38\u001b[39m"
     ]
    },
    {
     "name": "stdout",
     "output_type": "stream",
     "text": [
      "Current loss is: 0.124257505\n",
      "Current loss is: 0.122758746\n",
      "Current loss is: 0.12121184\n",
      "Current loss is: 0.11968242\n",
      "Current loss is: 0.11822435\n",
      "Current loss is: 0.11685552\n"
     ]
    },
    {
     "name": "stderr",
     "output_type": "stream",
     "text": [
      "\r",
      "\u001b[32mloss: 0.116:  48%|███████████████████▋                     |  ETA: 0:00:38\u001b[39m"
     ]
    },
    {
     "name": "stdout",
     "output_type": "stream",
     "text": [
      "Current loss is: 0.11554972\n",
      "Current loss is: 0.11425345\n",
      "Current loss is: 0.11291897\n",
      "Current loss is: 0.1115296\n",
      "Current loss is: 0.110107794\n",
      "Current loss is: 0.10869786\n",
      "Current loss is: 0.10733576\n"
     ]
    },
    {
     "name": "stderr",
     "output_type": "stream",
     "text": [
      "\r",
      "\u001b[32mloss: 0.106:  48%|███████████████████▊                     |  ETA: 0:00:37\u001b[39m"
     ]
    },
    {
     "name": "stdout",
     "output_type": "stream",
     "text": [
      "Current loss is: 0.10602543\n",
      "Current loss is: 0.104734376\n",
      "Current loss is: 0.1034173\n",
      "Current loss is: 0.10204564\n",
      "Current loss is: 0.100627005\n",
      "Current loss is: 0.09919995\n"
     ]
    },
    {
     "name": "stderr",
     "output_type": "stream",
     "text": [
      "\r",
      "\u001b[32mloss: 0.0978:  48%|███████████████████▉                     |  ETA: 0:00:37\u001b[39m"
     ]
    },
    {
     "name": "stdout",
     "output_type": "stream",
     "text": [
      "Current loss is: 0.0978068\n",
      "Current loss is: 0.09646329\n",
      "Current loss is: 0.09514959\n",
      "Current loss is: 0.09382489\n",
      "Current loss is: 0.09245776\n",
      "Current loss is: 0.09104838\n",
      "Current loss is: 0.08962467\n"
     ]
    },
    {
     "name": "stderr",
     "output_type": "stream",
     "text": [
      "\r",
      "\u001b[32mloss: 0.0854:  49%|████████████████████                     |  ETA: 0:00:36\u001b[39m"
     ]
    },
    {
     "name": "stdout",
     "output_type": "stream",
     "text": [
      "Current loss is: 0.08821624\n",
      "Current loss is: 0.08682941\n",
      "Current loss is: 0.085444145\n",
      "Current loss is: 0.08403036\n",
      "Current loss is: 0.08257705\n",
      "Current loss is: 0.081099615\n",
      "Current loss is: 0.07962692\n",
      "Current loss is: 0.0781737\n",
      "Current loss is: 0.076725885\n"
     ]
    },
    {
     "name": "stderr",
     "output_type": "stream",
     "text": [
      "\r",
      "\u001b[32mloss: 0.0737:  49%|████████████████████▎                    |  ETA: 0:00:36\u001b[39m"
     ]
    },
    {
     "name": "stdout",
     "output_type": "stream",
     "text": [
      "Current loss is: 0.07525508\n",
      "Current loss is: 0.073743485\n",
      "Current loss is: 0.07220012\n",
      "Current loss is: 0.07064959\n",
      "Current loss is: 0.069107264\n",
      "Current loss is: 0.06756464\n",
      "Current loss is: 0.06600289\n",
      "Current loss is: 0.06441221\n"
     ]
    },
    {
     "name": "stderr",
     "output_type": "stream",
     "text": [
      "\r",
      "\u001b[32mloss: 0.0612:  50%|████████████████████▍                    |  ETA: 0:00:35\u001b[39m"
     ]
    },
    {
     "name": "stdout",
     "output_type": "stream",
     "text": [
      "Current loss is: 0.06280271\n",
      "Current loss is: 0.061192807\n",
      "Current loss is: 0.05958886\n",
      "Current loss is: 0.05797753\n",
      "Current loss is: 0.05634392\n",
      "Current loss is: 0.05468819\n",
      "Current loss is: 0.05302647\n",
      "Current loss is: 0.051373035\n",
      "Current loss is: 0.049728088\n"
     ]
    },
    {
     "name": "stderr",
     "output_type": "stream",
     "text": [
      "\r",
      "\u001b[32mloss: 0.0464:  50%|████████████████████▌                    |  ETA: 0:00:35\u001b[39m"
     ]
    },
    {
     "name": "stdout",
     "output_type": "stream",
     "text": [
      "Current loss is: 0.048080403\n",
      "Current loss is: 0.046425257\n",
      "Current loss is: 0.04477051\n",
      "Current loss is: 0.04312773\n",
      "Current loss is: 0.041501142\n",
      "Current loss is: 0.0398843\n",
      "Current loss is: 0.038273327\n"
     ]
    },
    {
     "name": "stderr",
     "output_type": "stream",
     "text": [
      "\r",
      "\u001b[32mloss: 0.0351:  50%|████████████████████▊                    |  ETA: 0:00:35\u001b[39m"
     ]
    },
    {
     "name": "stdout",
     "output_type": "stream",
     "text": [
      "Current loss is: 0.03667371\n",
      "Current loss is: 0.035096932\n",
      "Current loss is: 0.03354981\n",
      "Current loss is: 0.03202963\n",
      "Current loss is: 0.030533064\n",
      "Current loss is: 0.029062461\n",
      "Current loss is: 0.027625475\n",
      "Current loss is: 0.026227534\n"
     ]
    },
    {
     "name": "stderr",
     "output_type": "stream",
     "text": [
      "\r",
      "\u001b[32mloss: 0.0235:  51%|████████████████████▉                    |  ETA: 0:00:34\u001b[39m"
     ]
    },
    {
     "name": "stdout",
     "output_type": "stream",
     "text": [
      "Current loss is: 0.024868295\n",
      "Current loss is: 0.02354544\n",
      "Current loss is: 0.022260781\n",
      "Current loss is: 0.021019276\n",
      "Current loss is: 0.01982541\n",
      "Current loss is: 0.018678546\n",
      "Current loss is: 0.017576355\n"
     ]
    },
    {
     "name": "stderr",
     "output_type": "stream",
     "text": [
      "\r",
      "\u001b[32mloss: 0.0155:  51%|█████████████████████                    |  ETA: 0:00:34\u001b[39m"
     ]
    },
    {
     "name": "stdout",
     "output_type": "stream",
     "text": [
      "Current loss is: 0.016518759\n",
      "Current loss is: 0.015507743\n",
      "Current loss is: 0.014545377\n",
      "Current loss is: 0.013631788\n",
      "Current loss is: 0.012764692\n",
      "Current loss is: 0.011942346\n",
      "Current loss is: 0.011164907\n",
      "Current loss is: 0.010432532\n"
     ]
    },
    {
     "name": "stderr",
     "output_type": "stream",
     "text": [
      "\r",
      "\u001b[32mloss: 0.0091:  52%|█████████████████████▏                   |  ETA: 0:00:33\u001b[39m"
     ]
    },
    {
     "name": "stdout",
     "output_type": "stream",
     "text": [
      "Current loss is: 0.009744152\n",
      "Current loss is: 0.009097573\n",
      "Current loss is: 0.008490263\n",
      "Current loss is: 0.00792062\n",
      "Current loss is: 0.0073879287\n",
      "Current loss is: 0.0068910876\n"
     ]
    },
    {
     "name": "stderr",
     "output_type": "stream",
     "text": [
      "\r",
      "\u001b[32mloss: 0.00643:  52%|█████████████████████▎                   |  ETA: 0:00:33\u001b[39m"
     ]
    },
    {
     "name": "stdout",
     "output_type": "stream",
     "text": [
      "Current loss is: 0.0064281533\n",
      "Current loss is: 0.005996837\n",
      "Current loss is: 0.005595144\n",
      "Current loss is: 0.0052214693\n",
      "Current loss is: 0.004874599\n",
      "Current loss is: 0.0045528784\n",
      "Current loss is: 0.0042545125\n",
      "Current loss is: 0.003977548\n"
     ]
    },
    {
     "name": "stderr",
     "output_type": "stream",
     "text": [
      "\r",
      "\u001b[32mloss: 0.00348:  52%|█████████████████████▌                   |  ETA: 0:00:33\u001b[39m"
     ]
    },
    {
     "name": "stdout",
     "output_type": "stream",
     "text": [
      "Current loss is: 0.0037204395\n",
      "Current loss is: 0.0034820065\n",
      "Current loss is: 0.003261095\n",
      "Current loss is: 0.0030566426\n",
      "Current loss is: 0.0028671955\n",
      "Current loss is: 0.0026915749\n",
      "Current loss is: 0.002528688\n",
      "Current loss is: 0.0023776155\n",
      "Current loss is: 0.0022376277\n"
     ]
    },
    {
     "name": "stderr",
     "output_type": "stream",
     "text": [
      "\r",
      "\u001b[32mloss: 0.00211:  53%|█████████████████████▋                   |  ETA: 0:00:32\u001b[39m"
     ]
    },
    {
     "name": "stdout",
     "output_type": "stream",
     "text": [
      "Current loss is: 0.0021079304\n",
      "Current loss is: 0.0019876338\n",
      "Current loss is: 0.0018759031\n",
      "Current loss is: 0.0017720636\n",
      "Current loss is: 0.0016755292\n",
      "Current loss is: 0.0015859399\n",
      "Current loss is: 0.0015027334\n",
      "Current loss is: 0.0014254258\n",
      "Current loss is: 0.0013534527\n"
     ]
    },
    {
     "name": "stderr",
     "output_type": "stream",
     "text": [
      "\r",
      "\u001b[32mloss: 0.00129:  53%|█████████████████████▊                   |  ETA: 0:00:32\u001b[39m"
     ]
    },
    {
     "name": "stdout",
     "output_type": "stream",
     "text": [
      "Current loss is: 0.0012863427\n",
      "Current loss is: 0.0012238489\n",
      "Current loss is: 0.0011657078\n",
      "Current loss is: 0.0011115572\n",
      "Current loss is: 0.0010610865\n",
      "Current loss is: 0.0010139355\n"
     ]
    },
    {
     "name": "stderr",
     "output_type": "stream",
     "text": [
      "\r",
      "\u001b[32mloss: 0.00097:  54%|█████████████████████▉                   |  ETA: 0:00:31\u001b[39m"
     ]
    },
    {
     "name": "stdout",
     "output_type": "stream",
     "text": [
      "Current loss is: 0.0009698559\n",
      "Current loss is: 0.00092871307\n",
      "Current loss is: 0.00089027383\n",
      "Current loss is: 0.0008543655\n",
      "Current loss is: 0.00082076434\n",
      "Current loss is: 0.00078927225\n",
      "Current loss is: 0.0007596854\n"
     ]
    },
    {
     "name": "stderr",
     "output_type": "stream",
     "text": [
      "\r",
      "\u001b[32mloss: 0.000732:  54%|██████████████████████                   |  ETA: 0:00:31\u001b[39m"
     ]
    },
    {
     "name": "stdout",
     "output_type": "stream",
     "text": [
      "Current loss is: 0.0007319543\n",
      "Current loss is: 0.0007059434\n",
      "Current loss is: 0.0006815124\n",
      "Current loss is: 0.00065851235\n",
      "Current loss is: 0.00063682545\n",
      "Current loss is: 0.00061634346\n",
      "Current loss is: 0.0005970346\n",
      "Current loss is: 0.0005787866\n"
     ]
    },
    {
     "name": "stderr",
     "output_type": "stream",
     "text": [
      "\r",
      "\u001b[32mloss: 0.000562:  54%|██████████████████████▎                  |  ETA: 0:00:31\u001b[39m"
     ]
    },
    {
     "name": "stdout",
     "output_type": "stream",
     "text": [
      "Current loss is: 0.0005615116\n",
      "Current loss is: 0.00054510764\n",
      "Current loss is: 0.00052953244\n",
      "Current loss is: 0.0005147079\n",
      "Current loss is: 0.0005006091\n",
      "Current loss is: 0.00048715272\n",
      "Current loss is: 0.00047428434\n",
      "Current loss is: 0.00046197837\n"
     ]
    },
    {
     "name": "stderr",
     "output_type": "stream",
     "text": [
      "\r",
      "\u001b[32mloss: 0.00045:  55%|██████████████████████▍                  |  ETA: 0:00:30\u001b[39m"
     ]
    },
    {
     "name": "stdout",
     "output_type": "stream",
     "text": [
      "Current loss is: 0.00045016006\n",
      "Current loss is: 0.00043881653\n",
      "Current loss is: 0.0004279155\n",
      "Current loss is: 0.00041741913\n",
      "Current loss is: 0.00040730136\n",
      "Current loss is: 0.00039752608\n",
      "Current loss is: 0.00038805447\n",
      "Current loss is: 0.0003788884\n"
     ]
    },
    {
     "name": "stderr",
     "output_type": "stream",
     "text": [
      "\r",
      "\u001b[32mloss: 0.00037:  55%|██████████████████████▌                  |  ETA: 0:00:30\u001b[39m"
     ]
    },
    {
     "name": "stdout",
     "output_type": "stream",
     "text": [
      "Current loss is: 0.00037001912\n",
      "Current loss is: 0.00036141952\n",
      "Current loss is: 0.00035305013\n",
      "Current loss is: 0.00034489244\n",
      "Current loss is: 0.0003369706\n",
      "Current loss is: 0.0003292652\n",
      "Current loss is: 0.000321755\n"
     ]
    },
    {
     "name": "stderr",
     "output_type": "stream",
     "text": [
      "\r",
      "\u001b[32mloss: 0.000314:  55%|██████████████████████▊                  |  ETA: 0:00:29\u001b[39m"
     ]
    },
    {
     "name": "stdout",
     "output_type": "stream",
     "text": [
      "Current loss is: 0.00031442047\n",
      "Current loss is: 0.0003072552\n",
      "Current loss is: 0.0003002755\n",
      "Current loss is: 0.00029346434\n",
      "Current loss is: 0.00028680134\n",
      "Current loss is: 0.00028028188\n",
      "Current loss is: 0.00027390115\n",
      "Current loss is: 0.000267695\n"
     ]
    },
    {
     "name": "stderr",
     "output_type": "stream",
     "text": [
      "\r",
      "\u001b[32mloss: 0.000262:  56%|██████████████████████▉                  |  ETA: 0:00:29\u001b[39m"
     ]
    },
    {
     "name": "stdout",
     "output_type": "stream",
     "text": [
      "Current loss is: 0.00026162187\n",
      "Current loss is: 0.0002556702\n",
      "Current loss is: 0.0002498434\n",
      "Current loss is: 0.00024417805\n",
      "Current loss is: 0.00023864661\n",
      "Current loss is: 0.00023322203\n",
      "Current loss is: 0.00022793165\n",
      "Current loss is: 0.00022277911\n"
     ]
    },
    {
     "name": "stderr",
     "output_type": "stream",
     "text": [
      "\r",
      "\u001b[32mloss: 0.000218:  56%|███████████████████████                  |  ETA: 0:00:29\u001b[39m"
     ]
    },
    {
     "name": "stdout",
     "output_type": "stream",
     "text": [
      "Current loss is: 0.00021777261\n",
      "Current loss is: 0.000212869\n",
      "Current loss is: 0.00020810051\n",
      "Current loss is: 0.00020346031\n",
      "Current loss is: 0.00019896065\n",
      "Current loss is: 0.00019458836\n",
      "Current loss is: 0.00019032444\n",
      "Current loss is: 0.00018619739\n"
     ]
    },
    {
     "name": "stderr",
     "output_type": "stream",
     "text": [
      "\r",
      "\u001b[32mloss: 0.000178:  57%|███████████████████████▎                 |  ETA: 0:00:28\u001b[39m"
     ]
    },
    {
     "name": "stdout",
     "output_type": "stream",
     "text": [
      "Current loss is: 0.00018220245\n",
      "Current loss is: 0.0001783195\n",
      "Current loss is: 0.00017454466\n",
      "Current loss is: 0.00017090904\n",
      "Current loss is: 0.00016738544\n",
      "Current loss is: 0.00016395398\n",
      "Current loss is: 0.0001606363\n"
     ]
    },
    {
     "name": "stderr",
     "output_type": "stream",
     "text": [
      "\r",
      "\u001b[32mloss: 0.000154:  57%|███████████████████████▍                 |  ETA: 0:00:28\u001b[39m"
     ]
    },
    {
     "name": "stdout",
     "output_type": "stream",
     "text": [
      "Current loss is: 0.00015743307\n",
      "Current loss is: 0.00015431739\n",
      "Current loss is: 0.00015128533\n",
      "Current loss is: 0.0001483507\n",
      "Current loss is: 0.00014550128\n",
      "Current loss is: 0.00014271453\n",
      "Current loss is: 0.00014001221\n",
      "Current loss is: 0.0001373789\n",
      "Current loss is: 0.00013478928\n"
     ]
    },
    {
     "name": "stderr",
     "output_type": "stream",
     "text": [
      "\r",
      "\u001b[32mloss: 0.000132:  57%|███████████████████████▌                 |  ETA: 0:00:28\u001b[39m"
     ]
    },
    {
     "name": "stdout",
     "output_type": "stream",
     "text": [
      "Current loss is: 0.00013226931\n",
      "Current loss is: 0.0001297983\n",
      "Current loss is: 0.00012736992\n",
      "Current loss is: 0.00012499827\n",
      "Current loss is: 0.00012265707\n",
      "Current loss is: 0.000120355486\n"
     ]
    },
    {
     "name": "stderr",
     "output_type": "stream",
     "text": [
      "\r",
      "\u001b[32mloss: 0.000118:  58%|███████████████████████▋                 |  ETA: 0:00:27\u001b[39m"
     ]
    },
    {
     "name": "stdout",
     "output_type": "stream",
     "text": [
      "Current loss is: 0.000118098425\n",
      "Current loss is: 0.000115868315\n",
      "Current loss is: 0.00011368396\n",
      "Current loss is: 0.000111523805\n",
      "Current loss is: 0.00010940172\n",
      "Current loss is: 0.00010732163\n",
      "Current loss is: 0.00010525553\n"
     ]
    },
    {
     "name": "stderr",
     "output_type": "stream",
     "text": [
      "\r",
      "\u001b[32mloss: 0.000103:  58%|███████████████████████▊                 |  ETA: 0:00:27\u001b[39m"
     ]
    },
    {
     "name": "stdout",
     "output_type": "stream",
     "text": [
      "Current loss is: 0.00010325336\n",
      "Current loss is: 0.00010126132\n",
      "Current loss is: 9.932327e-5\n",
      "Current loss is: 9.7417666e-5\n",
      "Current loss is: 9.5535215e-5\n",
      "Current loss is: 9.371628e-5\n",
      "Current loss is: 9.1902926e-5\n",
      "Current loss is: 9.015808e-5\n"
     ]
    },
    {
     "name": "stderr",
     "output_type": "stream",
     "text": [
      "\r",
      "\u001b[32mloss: 8.67e-05:  58%|████████████████████████                 |  ETA: 0:00:27\u001b[39m"
     ]
    },
    {
     "name": "stdout",
     "output_type": "stream",
     "text": [
      "Current loss is: 8.84217e-5\n",
      "Current loss is: 8.6736894e-5\n",
      "Current loss is: 8.5084e-5\n",
      "Current loss is: 8.34577e-5\n",
      "Current loss is: 8.1880724e-5\n",
      "Current loss is: 8.029285e-5\n",
      "Current loss is: 7.880561e-5\n"
     ]
    },
    {
     "name": "stderr",
     "output_type": "stream",
     "text": [
      "\r",
      "\u001b[32mloss: 7.59e-05:  59%|████████████████████████▏                |  ETA: 0:00:26\u001b[39m"
     ]
    },
    {
     "name": "stdout",
     "output_type": "stream",
     "text": [
      "Current loss is: 7.722979e-5\n",
      "Current loss is: 7.58662e-5\n",
      "Current loss is: 7.417797e-5\n",
      "Current loss is: 7.318088e-5\n",
      "Current loss is: 7.0877606e-5\n",
      "Current loss is: 7.148381e-5\n",
      "Current loss is: 6.644156e-5\n",
      "Current loss is: 7.845819e-5\n"
     ]
    },
    {
     "name": "stderr",
     "output_type": "stream",
     "text": [
      "\r",
      "\u001b[32mloss: 0.011:  59%|████████████████████████▍                |  ETA: 0:00:26\u001b[39m"
     ]
    },
    {
     "name": "stdout",
     "output_type": "stream",
     "text": [
      "Current loss is: 7.5304204e-5\n",
      "Current loss is: 0.00034217432\n",
      "Current loss is: 0.011011601\n",
      "Current loss is: 578.1245\n",
      "Current loss is: 1197.1537\n",
      "Current loss is: 349.66388\n",
      "Current loss is: 1081.5708\n"
     ]
    },
    {
     "name": "stderr",
     "output_type": "stream",
     "text": [
      "\r",
      "\u001b[32mloss: 521:  60%|████████████████████████▍                |  ETA: 0:00:26\u001b[39m"
     ]
    },
    {
     "name": "stdout",
     "output_type": "stream",
     "text": [
      "Current loss is: 601.58887\n",
      "Current loss is: 394.7467\n",
      "Current loss is: 521.43036\n",
      "Current loss is: 405.6623\n",
      "Current loss is: 265.54297\n",
      "Current loss is: 431.25635\n",
      "Current loss is: 315.63953\n",
      "Current loss is: 129.37721\n"
     ]
    },
    {
     "name": "stderr",
     "output_type": "stream",
     "text": [
      "\r",
      "\u001b[32mloss: 270:  60%|████████████████████████▋                |  ETA: 0:00:25\u001b[39m"
     ]
    },
    {
     "name": "stdout",
     "output_type": "stream",
     "text": [
      "Current loss is: 150.05919\n",
      "Current loss is: 269.54422\n",
      "Current loss is: 223.6039\n",
      "Current loss is: 121.242935\n",
      "Current loss is: 98.68173\n"
     ]
    },
    {
     "name": "stderr",
     "output_type": "stream",
     "text": [
      "\r",
      "\u001b[32mloss: 98.5:  60%|████████████████████████▋                |  ETA: 0:00:25\u001b[39m"
     ]
    },
    {
     "name": "stdout",
     "output_type": "stream",
     "text": [
      "Current loss is: 107.92825\n",
      "Current loss is: 98.457565\n",
      "Current loss is: 84.0629\n",
      "Current loss is: 77.26913\n",
      "Current loss is: 65.56191\n",
      "Current loss is: 49.81333\n",
      "Current loss is: 42.25757\n"
     ]
    },
    {
     "name": "stderr",
     "output_type": "stream",
     "text": [
      "\r",
      "\u001b[32mloss: 35.1:  61%|████████████████████████▉                |  ETA: 0:00:25\u001b[39m"
     ]
    },
    {
     "name": "stdout",
     "output_type": "stream",
     "text": [
      "Current loss is: 44.03953\n",
      "Current loss is: 44.35753\n",
      "Current loss is: 35.069206\n",
      "Current loss is: 25.25105\n",
      "Current loss is: 22.777721\n",
      "Current loss is: 24.800322\n",
      "Current loss is: 23.939196\n",
      "Current loss is: 17.486334\n"
     ]
    },
    {
     "name": "stderr",
     "output_type": "stream",
     "text": [
      "\r",
      "\u001b[32mloss: 8:  61%|█████████████████████████                |  ETA: 0:00:24\u001b[39m"
     ]
    },
    {
     "name": "stdout",
     "output_type": "stream",
     "text": [
      "Current loss is: 10.964465\n",
      "Current loss is: 7.9925613\n",
      "Current loss is: 8.000718\n",
      "Current loss is: 9.308908\n",
      "Current loss is: 9.793995\n",
      "Current loss is: 8.427425\n",
      "Current loss is: 6.299257\n"
     ]
    },
    {
     "name": "stderr",
     "output_type": "stream",
     "text": [
      "\r",
      "\u001b[32mloss: 3.93:  61%|█████████████████████████▏               |  ETA: 0:00:24\u001b[39m"
     ]
    },
    {
     "name": "stdout",
     "output_type": "stream",
     "text": [
      "Current loss is: 4.7129393\n",
      "Current loss is: 4.002375\n",
      "Current loss is: 3.9334211\n",
      "Current loss is: 4.0786285\n",
      "Current loss is: 4.041914\n",
      "Current loss is: 3.721036\n",
      "Current loss is: 3.2749476\n",
      "Current loss is: 2.8499863\n"
     ]
    },
    {
     "name": "stderr",
     "output_type": "stream",
     "text": [
      "\r",
      "\u001b[32mloss: 1.65:  62%|█████████████████████████▍               |  ETA: 0:00:24\u001b[39m"
     ]
    },
    {
     "name": "stdout",
     "output_type": "stream",
     "text": [
      "Current loss is: 2.459588\n",
      "Current loss is: 2.059572\n",
      "Current loss is: 1.6510638\n",
      "Current loss is: 1.2940533\n",
      "Current loss is: 1.0441424\n",
      "Current loss is: 0.9115975\n",
      "Current loss is: 0.8732687\n"
     ]
    },
    {
     "name": "stderr",
     "output_type": "stream",
     "text": [
      "\r",
      "\u001b[32mloss: 0.897:  62%|█████████████████████████▌               |  ETA: 0:00:24\u001b[39m"
     ]
    },
    {
     "name": "stdout",
     "output_type": "stream",
     "text": [
      "Current loss is: 0.89148605\n",
      "Current loss is: 0.91707635\n",
      "Current loss is: 0.8970561\n",
      "Current loss is: 0.80299556\n",
      "Current loss is: 0.6537877\n",
      "Current loss is: 0.49849266\n",
      "Current loss is: 0.37755385\n",
      "Current loss is: 0.30484825\n"
     ]
    },
    {
     "name": "stderr",
     "output_type": "stream",
     "text": [
      "\r",
      "\u001b[32mloss: 0.297:  62%|█████████████████████████▋               |  ETA: 0:00:23\u001b[39m"
     ]
    },
    {
     "name": "stdout",
     "output_type": "stream",
     "text": [
      "Current loss is: 0.27546412\n",
      "Current loss is: 0.27767903\n",
      "Current loss is: 0.29748908\n",
      "Current loss is: 0.31895334\n",
      "Current loss is: 0.32678\n",
      "Current loss is: 0.312189\n",
      "Current loss is: 0.27687478\n"
     ]
    },
    {
     "name": "stderr",
     "output_type": "stream",
     "text": [
      "\r",
      "\u001b[32mloss: 0.146:  63%|█████████████████████████▊               |  ETA: 0:00:23\u001b[39m"
     ]
    },
    {
     "name": "stdout",
     "output_type": "stream",
     "text": [
      "Current loss is: 0.23058143\n",
      "Current loss is: 0.18446025\n",
      "Current loss is: 0.145906\n",
      "Current loss is: 0.117463194\n",
      "Current loss is: 0.09835754\n",
      "Current loss is: 0.08636515\n",
      "Current loss is: 0.07899894\n",
      "Current loss is: 0.0740515\n"
     ]
    },
    {
     "name": "stderr",
     "output_type": "stream",
     "text": [
      "\r",
      "\u001b[32mloss: 0.0543:  63%|██████████████████████████               |  ETA: 0:00:23\u001b[39m"
     ]
    },
    {
     "name": "stdout",
     "output_type": "stream",
     "text": [
      "Current loss is: 0.06983527\n",
      "Current loss is: 0.06530798\n",
      "Current loss is: 0.06007927\n",
      "Current loss is: 0.054272275\n",
      "Current loss is: 0.048286825\n",
      "Current loss is: 0.042566795\n",
      "Current loss is: 0.037452903\n",
      "Current loss is: 0.033135742\n"
     ]
    },
    {
     "name": "stderr",
     "output_type": "stream",
     "text": [
      "\r",
      "\u001b[32mloss: 0.0252:  64%|██████████████████████████▏              |  ETA: 0:00:22\u001b[39m"
     ]
    },
    {
     "name": "stdout",
     "output_type": "stream",
     "text": [
      "Current loss is: 0.029674249\n",
      "Current loss is: 0.02703979\n",
      "Current loss is: 0.025153695\n",
      "Current loss is: 0.023911826\n",
      "Current loss is: 0.023195501\n",
      "Current loss is: 0.022872908\n",
      "Current loss is: 0.022799317\n",
      "Current loss is: 0.022819053\n"
     ]
    },
    {
     "name": "stderr",
     "output_type": "stream",
     "text": [
      "\r",
      "\u001b[32mloss: 0.0219:  64%|██████████████████████████▎              |  ETA: 0:00:22\u001b[39m"
     ]
    },
    {
     "name": "stdout",
     "output_type": "stream",
     "text": [
      "Current loss is: 0.022773674\n",
      "Current loss is: 0.022518406\n",
      "Current loss is: 0.021942724\n",
      "Current loss is: 0.020989709\n",
      "Current loss is: 0.01966667\n",
      "Current loss is: 0.018042184\n",
      "Current loss is: 0.016227841\n",
      "Current loss is: 0.014352059\n"
     ]
    },
    {
     "name": "stderr",
     "output_type": "stream",
     "text": [
      "\r",
      "\u001b[32mloss: 0.0109:  64%|██████████████████████████▍              |  ETA: 0:00:22\u001b[39m"
     ]
    },
    {
     "name": "stdout",
     "output_type": "stream",
     "text": [
      "Current loss is: 0.01253395\n",
      "Current loss is: 0.01086388\n",
      "Current loss is: 0.009395951\n",
      "Current loss is: 0.008149373\n",
      "Current loss is: 0.0071172756\n",
      "Current loss is: 0.0062761093\n",
      "Current loss is: 0.0055951322\n"
     ]
    },
    {
     "name": "stderr",
     "output_type": "stream",
     "text": [
      "\r",
      "\u001b[32mloss: 0.0039:  65%|██████████████████████████▋              |  ETA: 0:00:21\u001b[39m"
     ]
    },
    {
     "name": "stdout",
     "output_type": "stream",
     "text": [
      "Current loss is: 0.00504277\n",
      "Current loss is: 0.0045906696\n",
      "Current loss is: 0.004215364\n",
      "Current loss is: 0.0038988302\n",
      "Current loss is: 0.0036278204\n",
      "Current loss is: 0.0033931786\n",
      "Current loss is: 0.0031888331\n",
      "Current loss is: 0.0030109165\n"
     ]
    },
    {
     "name": "stderr",
     "output_type": "stream",
     "text": [
      "\r",
      "\u001b[32mloss: 0.00253:  65%|██████████████████████████▊              |  ETA: 0:00:21\u001b[39m"
     ]
    },
    {
     "name": "stdout",
     "output_type": "stream",
     "text": [
      "Current loss is: 0.0028570502\n",
      "Current loss is: 0.0027257295\n",
      "Current loss is: 0.0026158856\n",
      "Current loss is: 0.0025264667\n",
      "Current loss is: 0.002456149\n",
      "Current loss is: 0.0024030039\n",
      "Current loss is: 0.002364311\n"
     ]
    },
    {
     "name": "stderr",
     "output_type": "stream",
     "text": [
      "\r",
      "\u001b[32mloss: 0.00223:  66%|██████████████████████████▉              |  ETA: 0:00:21\u001b[39m"
     ]
    },
    {
     "name": "stdout",
     "output_type": "stream",
     "text": [
      "Current loss is: 0.0023364082\n",
      "Current loss is: 0.0023146002\n",
      "Current loss is: 0.0022934899\n",
      "Current loss is: 0.0022673663\n",
      "Current loss is: 0.0022309157\n",
      "Current loss is: 0.0021800145\n",
      "Current loss is: 0.002112362\n",
      "Current loss is: 0.0020278925\n"
     ]
    },
    {
     "name": "stderr",
     "output_type": "stream",
     "text": [
      "\r",
      "\u001b[32mloss: 0.00147:  66%|███████████████████████████▏             |  ETA: 0:00:20\u001b[39m"
     ]
    },
    {
     "name": "stdout",
     "output_type": "stream",
     "text": [
      "Current loss is: 0.0019287192\n",
      "Current loss is: 0.0018187427\n",
      "Current loss is: 0.0017028406\n",
      "Current loss is: 0.001586065\n",
      "Current loss is: 0.0014729273\n",
      "Current loss is: 0.0013669245\n",
      "Current loss is: 0.0012703447\n"
     ]
    },
    {
     "name": "stderr",
     "output_type": "stream",
     "text": [
      "\r",
      "\u001b[32mloss: 0.000868:  66%|███████████████████████████▎             |  ETA: 0:00:20\u001b[39m"
     ]
    },
    {
     "name": "stdout",
     "output_type": "stream",
     "text": [
      "Current loss is: 0.0011843098\n",
      "Current loss is: 0.0011090208\n",
      "Current loss is: 0.0010440012\n",
      "Current loss is: 0.0009883936\n",
      "Current loss is: 0.00094115676\n",
      "Current loss is: 0.00090122246\n",
      "Current loss is: 0.0008675744\n",
      "Current loss is: 0.00083930505\n"
     ]
    },
    {
     "name": "stderr",
     "output_type": "stream",
     "text": [
      "\r",
      "\u001b[32mloss: 0.000751:  67%|███████████████████████████▍             |  ETA: 0:00:20\u001b[39m"
     ]
    },
    {
     "name": "stdout",
     "output_type": "stream",
     "text": [
      "Current loss is: 0.0008155736\n",
      "Current loss is: 0.00079563475\n",
      "Current loss is: 0.00077875913\n",
      "Current loss is: 0.00076424796\n",
      "Current loss is: 0.0007513909\n"
     ]
    },
    {
     "name": "stderr",
     "output_type": "stream",
     "text": [
      "\r",
      "\u001b[32mloss: 0.000671:  67%|███████████████████████████▌             |  ETA: 0:00:20\u001b[39m"
     ]
    },
    {
     "name": "stdout",
     "output_type": "stream",
     "text": [
      "Current loss is: 0.00073946285\n",
      "Current loss is: 0.0007277629\n",
      "Current loss is: 0.0007156024\n",
      "Current loss is: 0.00070238335\n",
      "Current loss is: 0.0006876489\n",
      "Current loss is: 0.000671083\n",
      "Current loss is: 0.0006525783\n"
     ]
    },
    {
     "name": "stderr",
     "output_type": "stream",
     "text": [
      "\r",
      "\u001b[32mloss: 0.000472:  68%|███████████████████████████▊             |  ETA: 0:00:19\u001b[39m"
     ]
    },
    {
     "name": "stdout",
     "output_type": "stream",
     "text": [
      "Current loss is: 0.0006322306\n",
      "Current loss is: 0.0006103039\n",
      "Current loss is: 0.0005872116\n",
      "Current loss is: 0.00056345854\n",
      "Current loss is: 0.00053956965\n",
      "Current loss is: 0.00051605474\n",
      "Current loss is: 0.0004933591\n",
      "Current loss is: 0.00047183398\n",
      "Current loss is: 0.00045173097\n"
     ]
    },
    {
     "name": "stderr",
     "output_type": "stream",
     "text": [
      "\r",
      "\u001b[32mloss: 0.000364:  68%|███████████████████████████▉             |  ETA: 0:00:19\u001b[39m"
     ]
    },
    {
     "name": "stdout",
     "output_type": "stream",
     "text": [
      "Current loss is: 0.00043320816\n",
      "Current loss is: 0.00041632832\n",
      "Current loss is: 0.00040108792\n",
      "Current loss is: 0.0003874344\n",
      "Current loss is: 0.00037526706\n",
      "Current loss is: 0.0003644585\n",
      "Current loss is: 0.00035486452\n"
     ]
    },
    {
     "name": "stderr",
     "output_type": "stream",
     "text": [
      "\r",
      "\u001b[32mloss: 0.000308:  68%|████████████████████████████             |  ETA: 0:00:19\u001b[39m"
     ]
    },
    {
     "name": "stdout",
     "output_type": "stream",
     "text": [
      "Current loss is: 0.00034633634\n",
      "Current loss is: 0.0003387084\n",
      "Current loss is: 0.0003318102\n",
      "Current loss is: 0.0003254805\n",
      "Current loss is: 0.00031955302\n",
      "Current loss is: 0.0003138858\n",
      "Current loss is: 0.0003083459\n",
      "Current loss is: 0.00030283743\n",
      "Current loss is: 0.0002972852\n",
      "Current loss is: 0.00029164623\n",
      "Current loss is: 0.0002859075\n",
      "Current loss is: 0.00028008517\n",
      "Current loss is: 0.00027420875\n",
      "Current loss is: 0.00026830996\n",
      "Current loss is: 0.0002624424\n"
     ]
    },
    {
     "name": "stderr",
     "output_type": "stream",
     "text": [
      "\r",
      "\u001b[32mloss: 0.000257:  69%|████████████████████████████▎            |  ETA: 0:00:18\u001b[39m"
     ]
    },
    {
     "name": "stdout",
     "output_type": "stream",
     "text": [
      "Current loss is: 0.00025663967\n",
      "Current loss is: 0.00025095238\n",
      "Current loss is: 0.00024540618\n",
      "Current loss is: 0.00024002788\n",
      "Current loss is: 0.00023483465\n",
      "Current loss is: 0.00022982497\n",
      "Current loss is: 0.00022500238\n",
      "Current loss is: 0.00022035178\n"
     ]
    },
    {
     "name": "stderr",
     "output_type": "stream",
     "text": [
      "\r",
      "\u001b[32mloss: 0.000216:  69%|████████████████████████████▍            |  ETA: 0:00:18\u001b[39m"
     ]
    },
    {
     "name": "stdout",
     "output_type": "stream",
     "text": [
      "Current loss is: 0.00021585685\n",
      "Current loss is: 0.00021149276\n",
      "Current loss is: 0.00020723646\n",
      "Current loss is: 0.00020305932\n",
      "Current loss is: 0.00019894584\n",
      "Current loss is: 0.00019487683\n"
     ]
    },
    {
     "name": "stderr",
     "output_type": "stream",
     "text": [
      "\r",
      "\u001b[32mloss: 0.000191:  70%|████████████████████████████▌            |  ETA: 0:00:18\u001b[39m"
     ]
    },
    {
     "name": "stdout",
     "output_type": "stream",
     "text": [
      "Current loss is: 0.00019084751\n",
      "Current loss is: 0.00018685404\n",
      "Current loss is: 0.00018289515\n",
      "Current loss is: 0.00017898242\n",
      "Current loss is: 0.00017511813\n",
      "Current loss is: 0.00017130838\n"
     ]
    },
    {
     "name": "stderr",
     "output_type": "stream",
     "text": [
      "\r",
      "\u001b[32mloss: 0.000168:  70%|████████████████████████████▋            |  ETA: 0:00:18\u001b[39m"
     ]
    },
    {
     "name": "stdout",
     "output_type": "stream",
     "text": [
      "Current loss is: 0.00016755325\n",
      "Current loss is: 0.00016385259\n",
      "Current loss is: 0.00016018935\n",
      "Current loss is: 0.0001565574\n",
      "Current loss is: 0.00015293725\n",
      "Current loss is: 0.0001493098\n",
      "Current loss is: 0.00014565497\n",
      "Current loss is: 0.00014195747\n",
      "Current loss is: 0.00013820275\n"
     ]
    },
    {
     "name": "stderr",
     "output_type": "stream",
     "text": [
      "\r",
      "\u001b[32mloss: 0.000134:  70%|████████████████████████████▊            |  ETA: 0:00:17\u001b[39m"
     ]
    },
    {
     "name": "stdout",
     "output_type": "stream",
     "text": [
      "Current loss is: 0.00013439768\n",
      "Current loss is: 0.00013053918\n",
      "Current loss is: 0.00012664628\n",
      "Current loss is: 0.00012273717\n",
      "Current loss is: 0.00011883277\n",
      "Current loss is: 0.000114962386\n",
      "Current loss is: 0.0001111404\n"
     ]
    },
    {
     "name": "stderr",
     "output_type": "stream",
     "text": [
      "\r",
      "\u001b[32mloss: 0.000107:  71%|█████████████████████████████            |  ETA: 0:00:17\u001b[39m"
     ]
    },
    {
     "name": "stdout",
     "output_type": "stream",
     "text": [
      "Current loss is: 0.000107388325\n",
      "Current loss is: 0.000103710976\n",
      "Current loss is: 0.000100119054\n",
      "Current loss is: 9.661094e-5\n",
      "Current loss is: 9.318259e-5\n",
      "Current loss is: 8.982807e-5\n",
      "Current loss is: 8.654072e-5\n",
      "Current loss is: 8.331864e-5\n",
      "Current loss is: 8.015775e-5\n"
     ]
    },
    {
     "name": "stderr",
     "output_type": "stream",
     "text": [
      "\r",
      "\u001b[32mloss: 7.71e-05:  71%|█████████████████████████████▏           |  ETA: 0:00:17\u001b[39m"
     ]
    },
    {
     "name": "stdout",
     "output_type": "stream",
     "text": [
      "Current loss is: 7.705949e-5\n",
      "Current loss is: 7.40273e-5\n",
      "Current loss is: 7.1067596e-5\n",
      "Current loss is: 6.818468e-5\n",
      "Current loss is: 6.538777e-5\n",
      "Current loss is: 6.268237e-5\n",
      "Current loss is: 6.0071532e-5\n"
     ]
    },
    {
     "name": "stderr",
     "output_type": "stream",
     "text": [
      "\r",
      "\u001b[32mloss: 5.76e-05:  71%|█████████████████████████████▎           |  ETA: 0:00:16\u001b[39m"
     ]
    },
    {
     "name": "stdout",
     "output_type": "stream",
     "text": [
      "Current loss is: 5.7556776e-5\n",
      "Current loss is: 5.5138065e-5\n",
      "Current loss is: 5.2812353e-5\n",
      "Current loss is: 5.057652e-5\n",
      "Current loss is: 4.8427897e-5\n",
      "Current loss is: 4.636346e-5\n",
      "Current loss is: 4.4379536e-5\n",
      "Current loss is: 4.2473388e-5\n"
     ]
    },
    {
     "name": "stderr",
     "output_type": "stream",
     "text": [
      "\r",
      "\u001b[32mloss: 4.06e-05:  72%|█████████████████████████████▌           |  ETA: 0:00:16\u001b[39m"
     ]
    },
    {
     "name": "stdout",
     "output_type": "stream",
     "text": [
      "Current loss is: 4.0645522e-5\n",
      "Current loss is: 3.8895738e-5\n",
      "Current loss is: 3.722418e-5\n",
      "Current loss is: 3.5630972e-5\n",
      "Current loss is: 3.411555e-5\n",
      "Current loss is: 3.2676668e-5\n",
      "Current loss is: 3.1313717e-5\n",
      "Current loss is: 3.0023577e-5\n"
     ]
    },
    {
     "name": "stderr",
     "output_type": "stream",
     "text": [
      "\r",
      "\u001b[32mloss: 2.88e-05:  72%|█████████████████████████████▋           |  ETA: 0:00:16\u001b[39m"
     ]
    },
    {
     "name": "stdout",
     "output_type": "stream",
     "text": [
      "Current loss is: 2.8802122e-5\n",
      "Current loss is: 2.7645709e-5\n",
      "Current loss is: 2.6550022e-5\n",
      "Current loss is: 2.5511175e-5\n",
      "Current loss is: 2.4525245e-5\n",
      "Current loss is: 2.3587845e-5\n",
      "Current loss is: 2.2697513e-5\n",
      "Current loss is: 2.1849144e-5\n"
     ]
    },
    {
     "name": "stderr",
     "output_type": "stream",
     "text": [
      "\r",
      "\u001b[32mloss: 2.1e-05:  73%|█████████████████████████████▊           |  ETA: 0:00:16\u001b[39m"
     ]
    },
    {
     "name": "stdout",
     "output_type": "stream",
     "text": [
      "Current loss is: 2.104165e-5\n",
      "Current loss is: 2.0273379e-5\n",
      "Current loss is: 1.9543793e-5\n",
      "Current loss is: 1.8849438e-5\n",
      "Current loss is: 1.8189327e-5\n",
      "Current loss is: 1.7561923e-5\n",
      "Current loss is: 1.6964465e-5\n",
      "Current loss is: 1.6395523e-5\n"
     ]
    },
    {
     "name": "stderr",
     "output_type": "stream",
     "text": [
      "\r",
      "\u001b[32mloss: 1.53e-05:  73%|█████████████████████████████▉           |  ETA: 0:00:15\u001b[39m"
     ]
    },
    {
     "name": "stdout",
     "output_type": "stream",
     "text": [
      "Current loss is: 1.5853002e-5\n",
      "Current loss is: 1.5335874e-5\n",
      "Current loss is: 1.4841284e-5\n",
      "Current loss is: 1.4367784e-5\n",
      "Current loss is: 1.3914565e-5\n",
      "Current loss is: 1.3480408e-5\n",
      "Current loss is: 1.3063459e-5\n",
      "Current loss is: 1.2663734e-5\n"
     ]
    },
    {
     "name": "stderr",
     "output_type": "stream",
     "text": [
      "\r",
      "\u001b[32mloss: 1.16e-05:  74%|██████████████████████████████▏          |  ETA: 0:00:15\u001b[39m"
     ]
    },
    {
     "name": "stdout",
     "output_type": "stream",
     "text": [
      "Current loss is: 1.2280209e-5\n",
      "Current loss is: 1.1913155e-5\n",
      "Current loss is: 1.1561155e-5\n",
      "Current loss is: 1.1223616e-5\n",
      "Current loss is: 1.0900274e-5\n",
      "Current loss is: 1.0590103e-5\n",
      "Current loss is: 1.0292795e-5\n",
      "Current loss is: 1.0007867e-5\n"
     ]
    },
    {
     "name": "stderr",
     "output_type": "stream",
     "text": [
      "\r",
      "\u001b[32mloss: 9.47e-06:  74%|██████████████████████████████▎          |  ETA: 0:00:15\u001b[39m"
     ]
    },
    {
     "name": "stdout",
     "output_type": "stream",
     "text": [
      "Current loss is: 9.734383e-6\n",
      "Current loss is: 9.472061e-6\n",
      "Current loss is: 9.221421e-6\n",
      "Current loss is: 8.981297e-6\n",
      "Current loss is: 8.752512e-6\n",
      "Current loss is: 8.533795e-6\n",
      "Current loss is: 8.326113e-6\n"
     ]
    },
    {
     "name": "stderr",
     "output_type": "stream",
     "text": [
      "\r",
      "\u001b[32mloss: 7.6e-06:  74%|██████████████████████████████▌          |  ETA: 0:00:15\u001b[39m"
     ]
    },
    {
     "name": "stdout",
     "output_type": "stream",
     "text": [
      "Current loss is: 8.129181e-6\n",
      "Current loss is: 7.942433e-6\n",
      "Current loss is: 7.765958e-6\n",
      "Current loss is: 7.5991393e-6\n",
      "Current loss is: 7.4419922e-6\n",
      "Current loss is: 7.2948715e-6\n",
      "Current loss is: 7.1567306e-6\n"
     ]
    },
    {
     "name": "stderr",
     "output_type": "stream",
     "text": [
      "\r",
      "\u001b[32mloss: 6.8e-06:  75%|██████████████████████████████▋          |  ETA: 0:00:14\u001b[39m"
     ]
    },
    {
     "name": "stdout",
     "output_type": "stream",
     "text": [
      "Current loss is: 7.027671e-6\n",
      "Current loss is: 6.9073385e-6\n",
      "Current loss is: 6.7957203e-6\n",
      "Current loss is: 6.6927814e-6\n",
      "Current loss is: 6.5981594e-6\n"
     ]
    },
    {
     "name": "stderr",
     "output_type": "stream",
     "text": [
      "\r",
      "\u001b[32mloss: 6.3e-06:  75%|██████████████████████████████▊          |  ETA: 0:00:14\u001b[39m"
     ]
    },
    {
     "name": "stdout",
     "output_type": "stream",
     "text": [
      "Current loss is: 6.5110344e-6\n",
      "Current loss is: 6.43189e-6\n",
      "Current loss is: 6.360111e-6\n",
      "Current loss is: 6.295242e-6\n",
      "Current loss is: 6.236528e-6\n",
      "Current loss is: 6.183508e-6\n",
      "Current loss is: 6.135597e-6\n",
      "Current loss is: 6.092352e-6\n"
     ]
    },
    {
     "name": "stderr",
     "output_type": "stream",
     "text": [
      "\r",
      "\u001b[32mloss: 5.92e-06:  75%|██████████████████████████████▉          |  ETA: 0:00:14\u001b[39m"
     ]
    },
    {
     "name": "stdout",
     "output_type": "stream",
     "text": [
      "Current loss is: 6.0526236e-6\n",
      "Current loss is: 6.016132e-6\n",
      "Current loss is: 5.9825284e-6\n",
      "Current loss is: 5.9506337e-6\n",
      "Current loss is: 5.920375e-6\n",
      "Current loss is: 5.8905744e-6\n",
      "Current loss is: 5.8610185e-6\n",
      "Current loss is: 5.8313512e-6\n"
     ]
    },
    {
     "name": "stderr",
     "output_type": "stream",
     "text": [
      "\r",
      "\u001b[32mloss: 5.68e-06:  76%|███████████████████████████████          |  ETA: 0:00:14\u001b[39m"
     ]
    },
    {
     "name": "stdout",
     "output_type": "stream",
     "text": [
      "Current loss is: 5.8014957e-6\n",
      "Current loss is: 5.7712905e-6\n",
      "Current loss is: 5.741216e-6\n",
      "Current loss is: 5.7106827e-6\n",
      "Current loss is: 5.6811805e-6\n",
      "Current loss is: 5.6522035e-6\n",
      "Current loss is: 5.624289e-6\n",
      "Current loss is: 5.5973323e-6\n"
     ]
    },
    {
     "name": "stderr",
     "output_type": "stream",
     "text": [
      "\r",
      "\u001b[32mloss: 5.47e-06:  76%|███████████████████████████████▎         |  ETA: 0:00:13\u001b[39m"
     ]
    },
    {
     "name": "stdout",
     "output_type": "stream",
     "text": [
      "Current loss is: 5.571489e-6\n",
      "Current loss is: 5.5473092e-6\n",
      "Current loss is: 5.524944e-6\n",
      "Current loss is: 5.5044284e-6\n",
      "Current loss is: 5.4861043e-6\n",
      "Current loss is: 5.469274e-6\n",
      "Current loss is: 5.454648e-6\n",
      "Current loss is: 5.4420107e-6\n",
      "Current loss is: 5.4311477e-6\n"
     ]
    },
    {
     "name": "stderr",
     "output_type": "stream",
     "text": [
      "\r",
      "\u001b[32mloss: 5.4e-06:  77%|███████████████████████████████▍         |  ETA: 0:00:13\u001b[39m"
     ]
    },
    {
     "name": "stdout",
     "output_type": "stream",
     "text": [
      "Current loss is: 5.42186e-6\n",
      "Current loss is: 5.414271e-6\n",
      "Current loss is: 5.408368e-6\n",
      "Current loss is: 5.4038037e-6\n",
      "Current loss is: 5.400635e-6\n",
      "Current loss is: 5.398397e-6\n",
      "Current loss is: 5.3966855e-6\n",
      "Current loss is: 5.3958574e-6\n",
      "Current loss is: 5.3953127e-6\n"
     ]
    },
    {
     "name": "stderr",
     "output_type": "stream",
     "text": [
      "\r",
      "\u001b[32mloss: 5.39e-06:  77%|███████████████████████████████▋         |  ETA: 0:00:13\u001b[39m"
     ]
    },
    {
     "name": "stdout",
     "output_type": "stream",
     "text": [
      "Current loss is: 5.3947524e-6\n",
      "Current loss is: 5.3936383e-6\n",
      "Current loss is: 5.391621e-6\n",
      "Current loss is: 5.388146e-6\n",
      "Current loss is: 5.382876e-6\n",
      "Current loss is: 5.3749095e-6\n",
      "Current loss is: 5.364569e-6\n",
      "Current loss is: 5.3510835e-6\n"
     ]
    },
    {
     "name": "stderr",
     "output_type": "stream",
     "text": [
      "\r",
      "\u001b[32mloss: 5.26e-06:  77%|███████████████████████████████▊         |  ETA: 0:00:13\u001b[39m"
     ]
    },
    {
     "name": "stdout",
     "output_type": "stream",
     "text": [
      "Current loss is: 5.333828e-6\n",
      "Current loss is: 5.3127415e-6\n",
      "Current loss is: 5.2873356e-6\n",
      "Current loss is: 5.2574396e-6\n",
      "Current loss is: 5.223221e-6\n",
      "Current loss is: 5.1842444e-6\n",
      "Current loss is: 5.140246e-6\n",
      "Current loss is: 5.091472e-6\n",
      "Current loss is: 5.0379413e-6\n"
     ]
    },
    {
     "name": "stderr",
     "output_type": "stream",
     "text": [
      "\r",
      "\u001b[32mloss: 4.78e-06:  78%|███████████████████████████████▉         |  ETA: 0:00:12\u001b[39m"
     ]
    },
    {
     "name": "stdout",
     "output_type": "stream",
     "text": [
      "Current loss is: 4.980088e-6\n",
      "Current loss is: 4.9181745e-6\n",
      "Current loss is: 4.852698e-6\n",
      "Current loss is: 4.784709e-6\n",
      "Current loss is: 4.7151316e-6\n",
      "Current loss is: 4.6447867e-6\n",
      "Current loss is: 4.5750885e-6\n",
      "Current loss is: 4.5061624e-6\n"
     ]
    },
    {
     "name": "stderr",
     "output_type": "stream",
     "text": [
      "\r",
      "\u001b[32mloss: 4.26e-06:  78%|████████████████████████████████         |  ETA: 0:00:12\u001b[39m"
     ]
    },
    {
     "name": "stdout",
     "output_type": "stream",
     "text": [
      "Current loss is: 4.439596e-6\n",
      "Current loss is: 4.3753844e-6\n",
      "Current loss is: 4.313955e-6\n",
      "Current loss is: 4.2554175e-6\n",
      "Current loss is: 4.19985e-6\n",
      "Current loss is: 4.1465996e-6\n",
      "Current loss is: 4.095798e-6\n",
      "Current loss is: 4.0468008e-6\n",
      "Current loss is: 3.999088e-6\n"
     ]
    },
    {
     "name": "stderr",
     "output_type": "stream",
     "text": [
      "\r",
      "\u001b[32mloss: 3.81e-06:  79%|████████████████████████████████▎        |  ETA: 0:00:12\u001b[39m"
     ]
    },
    {
     "name": "stdout",
     "output_type": "stream",
     "text": [
      "Current loss is: 3.9520482e-6\n",
      "Current loss is: 3.9049046e-6\n",
      "Current loss is: 3.8573453e-6\n",
      "Current loss is: 3.8083415e-6\n",
      "Current loss is: 3.7572863e-6\n",
      "Current loss is: 3.7033897e-6\n",
      "Current loss is: 3.645766e-6\n",
      "Current loss is: 3.5845642e-6\n"
     ]
    },
    {
     "name": "stderr",
     "output_type": "stream",
     "text": [
      "\r",
      "\u001b[32mloss: 3.45e-06:  79%|████████████████████████████████▍        |  ETA: 0:00:11\u001b[39m"
     ]
    },
    {
     "name": "stdout",
     "output_type": "stream",
     "text": [
      "Current loss is: 3.5180783e-6\n",
      "Current loss is: 3.4451157e-6\n",
      "Current loss is: 3.3638557e-6\n",
      "Current loss is: 3.272345e-6\n",
      "Current loss is: 3.1707116e-6\n",
      "Current loss is: 3.0627507e-6\n",
      "Current loss is: 2.9553785e-6\n",
      "Current loss is: 2.854434e-6\n"
     ]
    },
    {
     "name": "stderr",
     "output_type": "stream",
     "text": [
      "\r",
      "\u001b[32mloss: 2.68e-06:  79%|████████████████████████████████▌        |  ETA: 0:00:11\u001b[39m"
     ]
    },
    {
     "name": "stdout",
     "output_type": "stream",
     "text": [
      "Current loss is: 2.7627934e-6\n",
      "Current loss is: 2.6818925e-6\n",
      "Current loss is: 2.611965e-6\n",
      "Current loss is: 2.5522913e-6\n",
      "Current loss is: 2.5019347e-6\n",
      "Current loss is: 2.460432e-6\n",
      "Current loss is: 2.4265685e-6\n",
      "Current loss is: 2.3965422e-6\n",
      "Current loss is: 2.3692837e-6\n"
     ]
    },
    {
     "name": "stderr",
     "output_type": "stream",
     "text": [
      "\r",
      "\u001b[32mloss: 2.34e-06:  80%|████████████████████████████████▊        |  ETA: 0:00:11\u001b[39m"
     ]
    },
    {
     "name": "stdout",
     "output_type": "stream",
     "text": [
      "Current loss is: 2.343561e-6\n",
      "Current loss is: 2.3178477e-6\n",
      "Current loss is: 2.291209e-6\n",
      "Current loss is: 2.262454e-6\n",
      "Current loss is: 2.2309064e-6\n",
      "Current loss is: 2.1998408e-6\n",
      "Current loss is: 2.1727355e-6\n",
      "Current loss is: 2.154027e-6\n",
      "Current loss is: 2.1395822e-6\n"
     ]
    },
    {
     "name": "stderr",
     "output_type": "stream",
     "text": [
      "\r",
      "\u001b[32mloss: 2.06e-06:  80%|████████████████████████████████▉        |  ETA: 0:00:11\u001b[39m"
     ]
    },
    {
     "name": "stdout",
     "output_type": "stream",
     "text": [
      "Current loss is: 2.0644488e-6\n",
      "Current loss is: 1.8687767e-6\n",
      "Current loss is: 1.6716132e-6\n",
      "Current loss is: 1.5432449e-6\n",
      "Current loss is: 1.4560497e-6\n",
      "Current loss is: 1.3965744e-6\n",
      "Current loss is: 1.3667634e-6\n",
      "Current loss is: 1.3526778e-6\n"
     ]
    },
    {
     "name": "stderr",
     "output_type": "stream",
     "text": [
      "\r",
      "\u001b[32mloss: 1.35e-06:  81%|█████████████████████████████████        |  ETA: 0:00:11\u001b[39m"
     ]
    },
    {
     "name": "stdout",
     "output_type": "stream",
     "text": [
      "Current loss is: 1.3451896e-6\n",
      "Current loss is: 1.3651304e-6\n",
      "Current loss is: 1.4027003e-6\n",
      "Current loss is: 1.4476202e-6\n",
      "Current loss is: 1.498769e-6\n",
      "Current loss is: 1.5051864e-6\n",
      "Current loss is: 1.4788591e-6\n",
      "Current loss is: 1.3892043e-6\n",
      "Current loss is: 1.3133063e-6\n"
     ]
    },
    {
     "name": "stderr",
     "output_type": "stream",
     "text": [
      "\r",
      "\u001b[32mloss: 1.25e-06:  81%|█████████████████████████████████▎       |  ETA: 0:00:10\u001b[39m"
     ]
    },
    {
     "name": "stdout",
     "output_type": "stream",
     "text": [
      "Current loss is: 1.2548433e-6\n",
      "Current loss is: 1.216217e-6\n",
      "Current loss is: 1.2822677e-6\n",
      "Current loss is: 1.6443282e-6\n",
      "Current loss is: 2.6355033e-6\n",
      "Current loss is: 2.2259185e-6\n",
      "Current loss is: 2.3915711e-6\n",
      "Current loss is: 5.9167346e-6\n"
     ]
    },
    {
     "name": "stderr",
     "output_type": "stream",
     "text": [
      "\r",
      "\u001b[32mloss: 0.0023:  82%|█████████████████████████████████▍       |  ETA: 0:00:10\u001b[39m"
     ]
    },
    {
     "name": "stdout",
     "output_type": "stream",
     "text": [
      "Current loss is: 0.002296938\n",
      "Current loss is: 1239.3469\n",
      "Current loss is: 1060.2854\n",
      "Current loss is: 1343.4243\n",
      "Current loss is: 1835.627\n",
      "Current loss is: 159.20624\n",
      "Current loss is: 512.3636\n",
      "Current loss is: 1894.5444\n",
      "Current loss is: 427.97986\n"
     ]
    },
    {
     "name": "stderr",
     "output_type": "stream",
     "text": [
      "\r",
      "\u001b[32mloss: 57.9:  82%|█████████████████████████████████▋       |  ETA: 0:00:10\u001b[39m"
     ]
    },
    {
     "name": "stdout",
     "output_type": "stream",
     "text": [
      "Current loss is: 57.869827\n",
      "Current loss is: 274.23267\n",
      "Current loss is: 986.6395\n",
      "Current loss is: 616.8228\n",
      "Current loss is: 176.83438\n",
      "Current loss is: 85.70838\n",
      "Current loss is: 162.26411\n",
      "Current loss is: 344.32904\n"
     ]
    },
    {
     "name": "stderr",
     "output_type": "stream",
     "text": [
      "\r",
      "\u001b[32mloss: 392:  82%|█████████████████████████████████▊       |  ETA: 0:00:09\u001b[39m"
     ]
    },
    {
     "name": "stdout",
     "output_type": "stream",
     "text": [
      "Current loss is: 392.03894\n",
      "Current loss is: 229.57852\n",
      "Current loss is: 84.36917\n",
      "Current loss is: 44.463432\n",
      "Current loss is: 70.29641\n",
      "Current loss is: 145.89015\n",
      "Current loss is: 187.35233\n",
      "Current loss is: 126.699936\n"
     ]
    },
    {
     "name": "stderr",
     "output_type": "stream",
     "text": [
      "\r",
      "\u001b[32mloss: 58.4:  83%|█████████████████████████████████▉       |  ETA: 0:00:09\u001b[39m"
     ]
    },
    {
     "name": "stdout",
     "output_type": "stream",
     "text": [
      "Current loss is: 58.39366\n",
      "Current loss is: 32.015667\n",
      "Current loss is: 32.531403\n",
      "Current loss is: 45.58851\n",
      "Current loss is: 55.482758\n",
      "Current loss is: 52.531033\n",
      "Current loss is: 43.313217\n",
      "Current loss is: 32.299026\n",
      "Current loss is: 22.96435\n"
     ]
    },
    {
     "name": "stderr",
     "output_type": "stream",
     "text": [
      "\r",
      "\u001b[32mloss: 19.5:  83%|██████████████████████████████████▏      |  ETA: 0:00:09\u001b[39m"
     ]
    },
    {
     "name": "stdout",
     "output_type": "stream",
     "text": [
      "Current loss is: 19.542727\n",
      "Current loss is: 18.814894\n",
      "Current loss is: 17.010796\n",
      "Current loss is: 14.266756\n",
      "Current loss is: 12.812201\n",
      "Current loss is: 13.256002\n",
      "Current loss is: 13.894804\n",
      "Current loss is: 12.65915\n"
     ]
    },
    {
     "name": "stderr",
     "output_type": "stream",
     "text": [
      "\r",
      "\u001b[32mloss: 9.9:  84%|██████████████████████████████████▎      |  ETA: 0:00:09\u001b[39m"
     ]
    },
    {
     "name": "stdout",
     "output_type": "stream",
     "text": [
      "Current loss is: 9.903889\n",
      "Current loss is: 7.2289076\n",
      "Current loss is: 5.4332867\n",
      "Current loss is: 4.488861\n",
      "Current loss is: 4.0998034\n",
      "Current loss is: 3.9704533\n"
     ]
    },
    {
     "name": "stderr",
     "output_type": "stream",
     "text": [
      "\r",
      "\u001b[32mloss: 3.88:  84%|██████████████████████████████████▍      |  ETA: 0:00:09\u001b[39m"
     ]
    },
    {
     "name": "stdout",
     "output_type": "stream",
     "text": [
      "Current loss is: 3.878272\n",
      "Current loss is: 3.710994\n",
      "Current loss is: 3.4609535\n",
      "Current loss is: 3.1650534\n",
      "Current loss is: 2.8479598\n",
      "Current loss is: 2.5118952\n"
     ]
    },
    {
     "name": "stderr",
     "output_type": "stream",
     "text": [
      "\r",
      "\u001b[32mloss: 2.16:  84%|██████████████████████████████████▌      |  ETA: 0:00:08\u001b[39m"
     ]
    },
    {
     "name": "stdout",
     "output_type": "stream",
     "text": [
      "Current loss is: 2.1591256\n",
      "Current loss is: 1.81021\n",
      "Current loss is: 1.4984481\n",
      "Current loss is: 1.2509604\n",
      "Current loss is: 1.0767766\n",
      "Current loss is: 0.9678023\n",
      "Current loss is: 0.90548325\n",
      "Current loss is: 0.8669246\n",
      "Current loss is: 0.8301756\n"
     ]
    },
    {
     "name": "stderr",
     "output_type": "stream",
     "text": [
      "\r",
      "\u001b[32mloss: 0.78:  85%|██████████████████████████████████▋      |  ETA: 0:00:08\u001b[39m"
     ]
    },
    {
     "name": "stdout",
     "output_type": "stream",
     "text": [
      "Current loss is: 0.779636\n",
      "Current loss is: 0.7099488\n",
      "Current loss is: 0.6255971\n",
      "Current loss is: 0.5362917\n",
      "Current loss is: 0.4514818\n",
      "Current loss is: 0.37713706\n"
     ]
    },
    {
     "name": "stderr",
     "output_type": "stream",
     "text": [
      "\r",
      "\u001b[32mloss: 0.266:  85%|██████████████████████████████████▉      |  ETA: 0:00:08\u001b[39m"
     ]
    },
    {
     "name": "stdout",
     "output_type": "stream",
     "text": [
      "Current loss is: 0.31538427\n",
      "Current loss is: 0.26570874\n",
      "Current loss is: 0.22636056\n",
      "Current loss is: 0.19532828\n",
      "Current loss is: 0.17080933\n",
      "Current loss is: 0.15134968\n",
      "Current loss is: 0.1358155\n",
      "Current loss is: 0.12331276\n"
     ]
    },
    {
     "name": "stderr",
     "output_type": "stream",
     "text": [
      "\r",
      "\u001b[32mloss: 0.113:  85%|███████████████████████████████████      |  ETA: 0:00:08\u001b[39m"
     ]
    },
    {
     "name": "stdout",
     "output_type": "stream",
     "text": [
      "Current loss is: 0.11310987\n",
      "Current loss is: 0.104586825\n",
      "Current loss is: 0.09721315\n",
      "Current loss is: 0.090550676\n",
      "Current loss is: 0.084267676\n",
      "Current loss is: 0.07815562\n",
      "Current loss is: 0.07212724\n",
      "Current loss is: 0.066198826\n"
     ]
    },
    {
     "name": "stderr",
     "output_type": "stream",
     "text": [
      "\r",
      "\u001b[32mloss: 0.0604:  86%|███████████████████████████████████▏     |  ETA: 0:00:08\u001b[39m"
     ]
    },
    {
     "name": "stdout",
     "output_type": "stream",
     "text": [
      "Current loss is: 0.060449824\n",
      "Current loss is: 0.054981396\n",
      "Current loss is: 0.049878776\n",
      "Current loss is: 0.045190167\n",
      "Current loss is: 0.040921435\n",
      "Current loss is: 0.03704354\n",
      "Current loss is: 0.033507347\n"
     ]
    },
    {
     "name": "stderr",
     "output_type": "stream",
     "text": [
      "\r",
      "\u001b[32mloss: 0.0303:  86%|███████████████████████████████████▎     |  ETA: 0:00:07\u001b[39m"
     ]
    },
    {
     "name": "stdout",
     "output_type": "stream",
     "text": [
      "Current loss is: 0.030258743\n",
      "Current loss is: 0.027251402\n",
      "Current loss is: 0.024454763\n",
      "Current loss is: 0.021856304\n",
      "Current loss is: 0.019457519\n",
      "Current loss is: 0.017267961\n"
     ]
    },
    {
     "name": "stderr",
     "output_type": "stream",
     "text": [
      "\r",
      "\u001b[32mloss: 0.0136:  86%|███████████████████████████████████▍     |  ETA: 0:00:07\u001b[39m"
     ]
    },
    {
     "name": "stdout",
     "output_type": "stream",
     "text": [
      "Current loss is: 0.01529802\n",
      "Current loss is: 0.01355302\n",
      "Current loss is: 0.01203051\n",
      "Current loss is: 0.010719883\n",
      "Current loss is: 0.009603743\n",
      "Current loss is: 0.008660248\n",
      "Current loss is: 0.007865503\n",
      "Current loss is: 0.0071953256\n"
     ]
    },
    {
     "name": "stderr",
     "output_type": "stream",
     "text": [
      "\r",
      "\u001b[32mloss: 0.00614:  87%|███████████████████████████████████▋     |  ETA: 0:00:07\u001b[39m"
     ]
    },
    {
     "name": "stdout",
     "output_type": "stream",
     "text": [
      "Current loss is: 0.00662679\n",
      "Current loss is: 0.006139216\n",
      "Current loss is: 0.0057151504\n",
      "Current loss is: 0.0053407764\n",
      "Current loss is: 0.005005737\n",
      "Current loss is: 0.0047026193\n",
      "Current loss is: 0.0044257226\n",
      "Current loss is: 0.0041699577\n"
     ]
    },
    {
     "name": "stderr",
     "output_type": "stream",
     "text": [
      "\r",
      "\u001b[32mloss: 0.0037:  87%|███████████████████████████████████▊     |  ETA: 0:00:07\u001b[39m"
     ]
    },
    {
     "name": "stdout",
     "output_type": "stream",
     "text": [
      "Current loss is: 0.003930189\n",
      "Current loss is: 0.0037010184\n",
      "Current loss is: 0.003477486\n",
      "Current loss is: 0.0032557466\n",
      "Current loss is: 0.0030338515\n",
      "Current loss is: 0.0028119986\n",
      "Current loss is: 0.0025924854\n",
      "Current loss is: 0.0023789983\n"
     ]
    },
    {
     "name": "stderr",
     "output_type": "stream",
     "text": [
      "\r",
      "\u001b[32mloss: 0.00199:  88%|███████████████████████████████████▉     |  ETA: 0:00:06\u001b[39m"
     ]
    },
    {
     "name": "stdout",
     "output_type": "stream",
     "text": [
      "Current loss is: 0.002175814\n",
      "Current loss is: 0.0019868102\n",
      "Current loss is: 0.0018149512\n",
      "Current loss is: 0.0016618979\n",
      "Current loss is: 0.0015279908\n",
      "Current loss is: 0.0014125069\n",
      "Current loss is: 0.0013139787\n"
     ]
    },
    {
     "name": "stderr",
     "output_type": "stream",
     "text": [
      "\r",
      "\u001b[32mloss: 0.00116:  88%|████████████████████████████████████▏    |  ETA: 0:00:06\u001b[39m"
     ]
    },
    {
     "name": "stdout",
     "output_type": "stream",
     "text": [
      "Current loss is: 0.0012304896\n",
      "Current loss is: 0.0011599928\n",
      "Current loss is: 0.0011004616\n",
      "Current loss is: 0.0010500583\n",
      "Current loss is: 0.0010071323\n",
      "Current loss is: 0.0009702893\n",
      "Current loss is: 0.00093834277\n",
      "Current loss is: 0.000910306\n"
     ]
    },
    {
     "name": "stderr",
     "output_type": "stream",
     "text": [
      "\r",
      "\u001b[32mloss: 0.000842:  88%|████████████████████████████████████▎    |  ETA: 0:00:06\u001b[39m"
     ]
    },
    {
     "name": "stdout",
     "output_type": "stream",
     "text": [
      "Current loss is: 0.000885344\n",
      "Current loss is: 0.0008627331\n",
      "Current loss is: 0.0008418004\n",
      "Current loss is: 0.0008219385\n",
      "Current loss is: 0.0008026265\n",
      "Current loss is: 0.00078341615\n",
      "Current loss is: 0.0007640286\n",
      "Current loss is: 0.0007443278\n",
      "Current loss is: 0.00072435965\n"
     ]
    },
    {
     "name": "stderr",
     "output_type": "stream",
     "text": [
      "\r",
      "\u001b[32mloss: 0.000684:  89%|████████████████████████████████████▍    |  ETA: 0:00:06\u001b[39m"
     ]
    },
    {
     "name": "stdout",
     "output_type": "stream",
     "text": [
      "Current loss is: 0.0007042489\n",
      "Current loss is: 0.0006842156\n",
      "Current loss is: 0.0006644695\n",
      "Current loss is: 0.00064516504\n",
      "Current loss is: 0.0006264104\n",
      "Current loss is: 0.0006081796\n",
      "Current loss is: 0.0005904247\n",
      "Current loss is: 0.0005730472\n",
      "Current loss is: 0.0005559679\n"
     ]
    },
    {
     "name": "stderr",
     "output_type": "stream",
     "text": [
      "\r",
      "\u001b[32mloss: 0.000523:  89%|████████████████████████████████████▋    |  ETA: 0:00:06\u001b[39m"
     ]
    },
    {
     "name": "stdout",
     "output_type": "stream",
     "text": [
      "Current loss is: 0.00053914456\n",
      "Current loss is: 0.0005225984\n",
      "Current loss is: 0.00050639623\n",
      "Current loss is: 0.0004906608\n",
      "Current loss is: 0.0004755032\n",
      "Current loss is: 0.00046103177\n",
      "Current loss is: 0.00044730707\n",
      "Current loss is: 0.00043434204\n"
     ]
    },
    {
     "name": "stderr",
     "output_type": "stream",
     "text": [
      "\r",
      "\u001b[32mloss: 0.000411:  90%|████████████████████████████████████▊    |  ETA: 0:00:05\u001b[39m"
     ]
    },
    {
     "name": "stdout",
     "output_type": "stream",
     "text": [
      "Current loss is: 0.00042211456\n",
      "Current loss is: 0.00041056648\n",
      "Current loss is: 0.00039965205\n",
      "Current loss is: 0.00038932706\n",
      "Current loss is: 0.0003795919\n",
      "Current loss is: 0.00037047465\n",
      "Current loss is: 0.00036201772\n",
      "Current loss is: 0.0003542519\n",
      "Current loss is: 0.00034717412\n"
     ]
    },
    {
     "name": "stderr",
     "output_type": "stream",
     "text": [
      "\r",
      "\u001b[32mloss: 0.000335:  90%|█████████████████████████████████████    |  ETA: 0:00:05\u001b[39m"
     ]
    },
    {
     "name": "stdout",
     "output_type": "stream",
     "text": [
      "Current loss is: 0.00034073205\n",
      "Current loss is: 0.0003348108\n",
      "Current loss is: 0.00032923947\n",
      "Current loss is: 0.00032382613\n",
      "Current loss is: 0.00031836663\n",
      "Current loss is: 0.00031270465\n",
      "Current loss is: 0.000306736\n",
      "Current loss is: 0.00030041538\n"
     ]
    },
    {
     "name": "stderr",
     "output_type": "stream",
     "text": [
      "\r",
      "\u001b[32mloss: 0.000287:  90%|█████████████████████████████████████▏   |  ETA: 0:00:05\u001b[39m"
     ]
    },
    {
     "name": "stdout",
     "output_type": "stream",
     "text": [
      "Current loss is: 0.00029377863\n",
      "Current loss is: 0.0002868852\n",
      "Current loss is: 0.00027982786\n",
      "Current loss is: 0.000272693\n",
      "Current loss is: 0.00026556035\n",
      "Current loss is: 0.0002584858\n",
      "Current loss is: 0.0002515131\n",
      "Current loss is: 0.0002446745\n",
      "Current loss is: 0.00023799588\n"
     ]
    },
    {
     "name": "stderr",
     "output_type": "stream",
     "text": [
      "\r",
      "\u001b[32mloss: 0.000225:  91%|█████████████████████████████████████▎   |  ETA: 0:00:05\u001b[39m"
     ]
    },
    {
     "name": "stdout",
     "output_type": "stream",
     "text": [
      "Current loss is: 0.00023149446\n",
      "Current loss is: 0.00022517587\n",
      "Current loss is: 0.00021903234\n",
      "Current loss is: 0.00021304032\n",
      "Current loss is: 0.00020716379\n",
      "Current loss is: 0.0002013554\n",
      "Current loss is: 0.00019557634\n",
      "Current loss is: 0.0001897914\n"
     ]
    },
    {
     "name": "stderr",
     "output_type": "stream",
     "text": [
      "\r",
      "\u001b[32mloss: 0.000184:  91%|█████████████████████████████████████▍   |  ETA: 0:00:04\u001b[39m"
     ]
    },
    {
     "name": "stdout",
     "output_type": "stream",
     "text": [
      "Current loss is: 0.00018399401\n",
      "Current loss is: 0.0001781903\n",
      "Current loss is: 0.00017240524\n",
      "Current loss is: 0.00016667401\n",
      "Current loss is: 0.00016103432\n",
      "Current loss is: 0.00015551818\n",
      "Current loss is: 0.00015014951\n",
      "Current loss is: 0.00014494303\n",
      "Current loss is: 0.00013990294\n"
     ]
    },
    {
     "name": "stderr",
     "output_type": "stream",
     "text": [
      "\r",
      "\u001b[32mloss: 0.000135:  92%|█████████████████████████████████████▋   |  ETA: 0:00:04\u001b[39m"
     ]
    },
    {
     "name": "stdout",
     "output_type": "stream",
     "text": [
      "Current loss is: 0.00013502769\n",
      "Current loss is: 0.0001303139\n",
      "Current loss is: 0.00012575327\n",
      "Current loss is: 0.00012133402\n",
      "Current loss is: 0.0001170447\n",
      "Current loss is: 0.0001128762\n",
      "Current loss is: 0.00010881899\n",
      "Current loss is: 0.000104870196\n"
     ]
    },
    {
     "name": "stderr",
     "output_type": "stream",
     "text": [
      "\r",
      "\u001b[32mloss: 0.000101:  92%|█████████████████████████████████████▊   |  ETA: 0:00:04\u001b[39m"
     ]
    },
    {
     "name": "stdout",
     "output_type": "stream",
     "text": [
      "Current loss is: 0.000101029225\n",
      "Current loss is: 9.729658e-5\n",
      "Current loss is: 9.367955e-5\n",
      "Current loss is: 9.018532e-5\n",
      "Current loss is: 8.682034e-5\n",
      "Current loss is: 8.358688e-5\n",
      "Current loss is: 8.04866e-5\n",
      "Current loss is: 7.751555e-5\n"
     ]
    },
    {
     "name": "stderr",
     "output_type": "stream",
     "text": [
      "\r",
      "\u001b[32mloss: 7.19e-05:  93%|██████████████████████████████████████   |  ETA: 0:00:04\u001b[39m"
     ]
    },
    {
     "name": "stdout",
     "output_type": "stream",
     "text": [
      "Current loss is: 7.467099e-5\n",
      "Current loss is: 7.194307e-5\n",
      "Current loss is: 6.932388e-5\n",
      "Current loss is: 6.6804845e-5\n",
      "Current loss is: 6.437566e-5\n",
      "Current loss is: 6.202823e-5\n",
      "Current loss is: 5.975551e-5\n",
      "Current loss is: 5.7551333e-5\n",
      "Current loss is: 5.541282e-5\n"
     ]
    },
    {
     "name": "stderr",
     "output_type": "stream",
     "text": [
      "\r",
      "\u001b[32mloss: 5.33e-05:  93%|██████████████████████████████████████▏  |  ETA: 0:00:04\u001b[39m"
     ]
    },
    {
     "name": "stdout",
     "output_type": "stream",
     "text": [
      "Current loss is: 5.3335873e-5\n",
      "Current loss is: 5.131932e-5\n",
      "Current loss is: 4.9364102e-5\n",
      "Current loss is: 4.7470596e-5\n",
      "Current loss is: 4.563948e-5\n",
      "Current loss is: 4.387289e-5\n",
      "Current loss is: 4.2170344e-5\n",
      "Current loss is: 4.053332e-5\n",
      "Current loss is: 3.8959563e-5\n"
     ]
    },
    {
     "name": "stderr",
     "output_type": "stream",
     "text": [
      "\r",
      "\u001b[32mloss: 3.74e-05:  94%|██████████████████████████████████████▍  |  ETA: 0:00:03\u001b[39m"
     ]
    },
    {
     "name": "stdout",
     "output_type": "stream",
     "text": [
      "Current loss is: 3.7447913e-5\n",
      "Current loss is: 3.599644e-5\n",
      "Current loss is: 3.4602584e-5\n",
      "Current loss is: 3.3262335e-5\n",
      "Current loss is: 3.1974272e-5\n",
      "Current loss is: 3.0734554e-5\n",
      "Current loss is: 2.9540282e-5\n",
      "Current loss is: 2.8388937e-5\n",
      "Current loss is: 2.7278353e-5\n"
     ]
    },
    {
     "name": "stderr",
     "output_type": "stream",
     "text": [
      "\r",
      "\u001b[32mloss: 2.62e-05:  94%|██████████████████████████████████████▌  |  ETA: 0:00:03\u001b[39m"
     ]
    },
    {
     "name": "stdout",
     "output_type": "stream",
     "text": [
      "Current loss is: 2.6206853e-5\n",
      "Current loss is: 2.5172925e-5\n",
      "Current loss is: 2.4176716e-5\n",
      "Current loss is: 2.3216317e-5\n",
      "Current loss is: 2.229229e-5\n",
      "Current loss is: 2.1403763e-5\n",
      "Current loss is: 2.0550044e-5\n",
      "Current loss is: 1.9730807e-5\n"
     ]
    },
    {
     "name": "stderr",
     "output_type": "stream",
     "text": [
      "\r",
      "\u001b[32mloss: 1.82e-05:  94%|██████████████████████████████████████▊  |  ETA: 0:00:03\u001b[39m"
     ]
    },
    {
     "name": "stdout",
     "output_type": "stream",
     "text": [
      "Current loss is: 1.894512e-5\n",
      "Current loss is: 1.8191624e-5\n",
      "Current loss is: 1.746935e-5\n",
      "Current loss is: 1.6776783e-5\n",
      "Current loss is: 1.6112106e-5\n",
      "Current loss is: 1.5474858e-5\n",
      "Current loss is: 1.4862019e-5\n",
      "Current loss is: 1.427305e-5\n",
      "Current loss is: 1.3706347e-5\n"
     ]
    },
    {
     "name": "stderr",
     "output_type": "stream",
     "text": [
      "\r",
      "\u001b[32mloss: 1.32e-05:  95%|██████████████████████████████████████▉  |  ETA: 0:00:03\u001b[39m"
     ]
    },
    {
     "name": "stdout",
     "output_type": "stream",
     "text": [
      "Current loss is: 1.3161262e-5\n",
      "Current loss is: 1.263655e-5\n",
      "Current loss is: 1.2131795e-5\n",
      "Current loss is: 1.164642e-5\n",
      "Current loss is: 1.1179806e-5\n",
      "Current loss is: 1.0732104e-5\n",
      "Current loss is: 1.0302293e-5\n",
      "Current loss is: 9.890282e-6\n",
      "Current loss is: 9.49537e-6\n"
     ]
    },
    {
     "name": "stderr",
     "output_type": "stream",
     "text": [
      "\r",
      "\u001b[32mloss: 9.12e-06:  95%|███████████████████████████████████████  |  ETA: 0:00:02\u001b[39m"
     ]
    },
    {
     "name": "stdout",
     "output_type": "stream",
     "text": [
      "Current loss is: 9.117102e-6\n",
      "Current loss is: 8.754693e-6\n",
      "Current loss is: 8.407627e-6\n",
      "Current loss is: 8.075103e-6\n",
      "Current loss is: 7.756424e-6\n",
      "Current loss is: 7.450732e-6\n",
      "Current loss is: 7.1574927e-6\n",
      "Current loss is: 6.876173e-6\n"
     ]
    },
    {
     "name": "stderr",
     "output_type": "stream",
     "text": [
      "\r",
      "\u001b[32mloss: 6.61e-06:  96%|███████████████████████████████████████▎ |  ETA: 0:00:02\u001b[39m"
     ]
    },
    {
     "name": "stdout",
     "output_type": "stream",
     "text": [
      "Current loss is: 6.606457e-6\n",
      "Current loss is: 6.3477287e-6\n",
      "Current loss is: 6.0998623e-6\n",
      "Current loss is: 5.8623077e-6\n",
      "Current loss is: 5.6350523e-6\n",
      "Current loss is: 5.417811e-6\n",
      "Current loss is: 5.2101204e-6\n",
      "Current loss is: 5.011756e-6\n",
      "Current loss is: 4.822448e-6\n"
     ]
    },
    {
     "name": "stderr",
     "output_type": "stream",
     "text": [
      "\r",
      "\u001b[32mloss: 4.64e-06:  96%|███████████████████████████████████████▍ |  ETA: 0:00:02\u001b[39m"
     ]
    },
    {
     "name": "stdout",
     "output_type": "stream",
     "text": [
      "Current loss is: 4.64187e-6\n",
      "Current loss is: 4.4697294e-6\n",
      "Current loss is: 4.3054697e-6\n",
      "Current loss is: 4.149084e-6\n",
      "Current loss is: 3.999795e-6\n",
      "Current loss is: 3.857696e-6\n",
      "Current loss is: 3.7221814e-6\n",
      "Current loss is: 3.5932903e-6\n"
     ]
    },
    {
     "name": "stderr",
     "output_type": "stream",
     "text": [
      "\r",
      "\u001b[32mloss: 3.47e-06:  96%|███████████████████████████████████████▋ |  ETA: 0:00:02\u001b[39m"
     ]
    },
    {
     "name": "stdout",
     "output_type": "stream",
     "text": [
      "Current loss is: 3.4705843e-6\n",
      "Current loss is: 3.3539334e-6\n",
      "Current loss is: 3.2431647e-6\n",
      "Current loss is: 3.1380875e-6\n",
      "Current loss is: 3.038445e-6\n",
      "Current loss is: 2.9441878e-6\n",
      "Current loss is: 2.8550273e-6\n",
      "Current loss is: 2.7708447e-6\n",
      "Current loss is: 2.6914197e-6\n"
     ]
    },
    {
     "name": "stderr",
     "output_type": "stream",
     "text": [
      "\r",
      "\u001b[32mloss: 2.62e-06:  97%|███████████████████████████████████████▊ |  ETA: 0:00:02\u001b[39m"
     ]
    },
    {
     "name": "stdout",
     "output_type": "stream",
     "text": [
      "Current loss is: 2.6164896e-6\n",
      "Current loss is: 2.5459988e-6\n",
      "Current loss is: 2.479706e-6\n",
      "Current loss is: 2.417418e-6\n",
      "Current loss is: 2.359051e-6\n",
      "Current loss is: 2.3043456e-6\n",
      "Current loss is: 2.2531888e-6\n",
      "Current loss is: 2.2054164e-6\n",
      "Current loss is: 2.1608969e-6\n"
     ]
    },
    {
     "name": "stderr",
     "output_type": "stream",
     "text": [
      "\r",
      "\u001b[32mloss: 2.12e-06:  97%|███████████████████████████████████████▉ |  ETA: 0:00:01\u001b[39m"
     ]
    },
    {
     "name": "stdout",
     "output_type": "stream",
     "text": [
      "Current loss is: 2.1194926e-6\n",
      "Current loss is: 2.0810685e-6\n",
      "Current loss is: 2.04554e-6\n",
      "Current loss is: 2.012704e-6\n",
      "Current loss is: 1.982573e-6\n",
      "Current loss is: 1.954842e-6\n",
      "Current loss is: 1.9295992e-6\n",
      "Current loss is: 1.906589e-6\n",
      "Current loss is: 1.885787e-6\n"
     ]
    },
    {
     "name": "stderr",
     "output_type": "stream",
     "text": [
      "\r",
      "\u001b[32mloss: 1.87e-06:  98%|████████████████████████████████████████▏|  ETA: 0:00:01\u001b[39m"
     ]
    },
    {
     "name": "stdout",
     "output_type": "stream",
     "text": [
      "Current loss is: 1.8670019e-6\n",
      "Current loss is: 1.8502442e-6\n",
      "Current loss is: 1.8353405e-6\n",
      "Current loss is: 1.8221427e-6\n",
      "Current loss is: 1.8106728e-6\n",
      "Current loss is: 1.8006897e-6\n",
      "Current loss is: 1.7921959e-6\n",
      "Current loss is: 1.7850291e-6\n"
     ]
    },
    {
     "name": "stderr",
     "output_type": "stream",
     "text": [
      "\r",
      "\u001b[32mloss: 1.78e-06:  98%|████████████████████████████████████████▎|  ETA: 0:00:01\u001b[39m"
     ]
    },
    {
     "name": "stdout",
     "output_type": "stream",
     "text": [
      "Current loss is: 1.779124e-6\n",
      "Current loss is: 1.774318e-6\n",
      "Current loss is: 1.7705692e-6\n",
      "Current loss is: 1.7677926e-6\n",
      "Current loss is: 1.7657557e-6\n",
      "Current loss is: 1.7645004e-6\n",
      "Current loss is: 1.7638442e-6\n",
      "Current loss is: 1.7636532e-6\n",
      "Current loss is: 1.7639152e-6\n"
     ]
    },
    {
     "name": "stderr",
     "output_type": "stream",
     "text": [
      "\r",
      "\u001b[32mloss: 1.76e-06:  99%|████████████████████████████████████████▌|  ETA: 0:00:01\u001b[39m"
     ]
    },
    {
     "name": "stdout",
     "output_type": "stream",
     "text": [
      "Current loss is: 1.7644171e-6\n",
      "Current loss is: 1.7652098e-6\n",
      "Current loss is: 1.7660395e-6\n",
      "Current loss is: 1.766885e-6\n",
      "Current loss is: 1.7675604e-6\n",
      "Current loss is: 1.7681075e-6\n",
      "Current loss is: 1.7683831e-6\n",
      "Current loss is: 1.7682366e-6\n"
     ]
    },
    {
     "name": "stderr",
     "output_type": "stream",
     "text": [
      "\r",
      "\u001b[32mloss: 1.77e-06:  99%|████████████████████████████████████████▋|  ETA: 0:00:00\u001b[39m"
     ]
    },
    {
     "name": "stdout",
     "output_type": "stream",
     "text": [
      "Current loss is: 1.7676498e-6\n",
      "Current loss is: 1.7665279e-6\n",
      "Current loss is: 1.7648688e-6\n",
      "Current loss is: 1.7625654e-6\n",
      "Current loss is: 1.7595952e-6\n",
      "Current loss is: 1.7559704e-6\n",
      "Current loss is: 1.751536e-6\n",
      "Current loss is: 1.746318e-6\n",
      "Current loss is: 1.7403847e-6\n"
     ]
    },
    {
     "name": "stderr",
     "output_type": "stream",
     "text": [
      "\r",
      "\u001b[32mloss: 1.73e-06: 100%|████████████████████████████████████████▊|  ETA: 0:00:00\u001b[39m"
     ]
    },
    {
     "name": "stdout",
     "output_type": "stream",
     "text": [
      "Current loss is: 1.7336379e-6\n",
      "Current loss is: 1.7261862e-6\n",
      "Current loss is: 1.7179151e-6\n",
      "Current loss is: 1.7089076e-6\n",
      "Current loss is: 1.6991366e-6\n",
      "Current loss is: 1.6885922e-6\n",
      "Current loss is: 1.677324e-6\n",
      "Current loss is: 1.6653153e-6\n"
     ]
    },
    {
     "name": "stderr",
     "output_type": "stream",
     "text": [
      "\u001b[32mloss: 1.64e-06: 100%|█████████████████████████████████████████| Time: 0:00:48\u001b[39m\n"
     ]
    },
    {
     "name": "stdout",
     "output_type": "stream",
     "text": [
      "Current loss is: 1.6525948e-6\n",
      "Current loss is: 1.6392622e-6\n",
      "Current loss is: 1.216217e-6\n"
     ]
    },
    {
     "data": {
      "text/plain": [
       "retcode: Default\n",
       "Interpolation: 1st order linear\n",
       "t: 0.0f0:1.0f0:8.0f0\n",
       "u: 9-element Array{Array{Float32,1},1}:\n",
       " [1.1731778e-5, 4.142575e-5, 0.00013563911, 0.00041155893, 0.0011563409, 0.003005783, 0.0072206757, 0.01600931, 0.032706194, 0.06144011  …  0.06144011, 0.032706194, 0.01600931, 0.0072206757, 0.003005783, 0.0011563409, 0.00041155893, 0.00013563911, 4.142575e-5, 1.1731778e-5]                \n",
       " [-0.016283568, 0.019280195, -0.021226814, -0.015722495, -0.013550807, 0.01863544, -0.0098568145, 0.02034937, 0.036403902, 0.015320048  …  0.013342619, 0.034768246, 0.029444987, 0.020550182, 0.017149355, -0.016462926, 0.019667719, -0.018541982, -0.022276357, 0.020153109]                   \n",
       " [-0.005999188, 0.006838799, -0.0073955865, -0.0059127323, -0.004407097, 0.009041305, -0.0029349723, 0.0097924415, 0.017236345, 0.013992101  …  0.013884425, 0.017108195, 0.012592832, 0.008632561, 0.006847094, -0.0077423346, 0.0070209093, -0.00697138, -0.0077579017, 0.0056815045]           \n",
       " [-0.0022757007, 0.0016092663, -0.0015903177, -0.0029581897, -0.0005381893, 0.004678118, -0.0008448162, 0.0061400104, 0.009804554, 0.013004512  …  0.012735397, 0.00940115, 0.0059937183, 0.0036188713, 0.003296177, -0.0034010005, 0.0017168559, -0.0019595237, -0.0026106532, -6.149253e-5]     \n",
       " [-0.0005231007, -0.0005293483, 0.00088051835, -0.0013688318, 0.0009917129, 0.0018475158, 0.00043325638, 0.00445641, 0.0069056675, 0.013413608  …  0.012954593, 0.006526403, 0.003251711, 0.0014617345, 0.0016631885, -0.00049005856, -0.0006173961, 0.00026212016, -0.00025242515, -0.0017006501]\n",
       " [2.0523463e-5, -0.0009271497, 0.0011320052, -0.00051320717, 0.0011418868, 0.0007485924, 0.0010921261, 0.0038736183, 0.0065559223, 0.014049873  …  0.013657153, 0.0061321333, 0.0028232727, 0.0009672544, 0.0009804917, 0.0005722899, -0.0009039156, 0.00080753246, 0.000339747, -0.0013503089]   \n",
       " [6.555477e-5, -0.0005896086, 0.00050837675, -1.7058075e-5, 0.0007309426, 0.00042205583, 0.0014447174, 0.0036720876, 0.0070653483, 0.014403015  …  0.014167607, 0.006590776, 0.00324128, 0.0011381409, 0.00068138074, 0.0007711757, -0.00035814565, 0.00063649693, 0.00018116884, -0.0003525122]  \n",
       " [-1.0590162e-5, -2.1784977e-5, -0.00027324876, 0.00033228475, 0.00017772208, 0.0002656607, 0.0016723177, 0.003454836, 0.0075282976, 0.014219925  …  0.014147013, 0.0070865527, 0.0037230644, 0.0014591119, 0.0004897667, 0.000747766, 0.00035888332, 0.00023953001, -0.0001620794, 0.00068942166]\n",
       " [-7.77944e-5, 0.00058168225, -0.00096990785, 0.0006168373, -0.00036691537, 7.114839e-5, 0.0018257401, 0.0030764733, 0.007607989, 0.013381362  …  0.013453126, 0.0072967336, 0.0039870534, 0.0017347834, 0.00030771922, 0.0007295717, 0.0010139234, -0.00019981583, -0.00048583694, 0.0015849367] "
      ]
     },
     "execution_count": 5,
     "metadata": {},
     "output_type": "execute_result"
    }
   ],
   "source": [
    "linear = (u,p,t) -> @. (p .- u)\n",
    "prob = ODEProblem(ODEFunction(linear), f0, tspan, M)\n",
    "chain = Flux.Chain(Dense(1,64,σ), Dense(64,nu))\n",
    "opt = ADAM(0.1, (0.9, 0.95))\n",
    "sol = solve(prob,NeuralNetDiffEq.NNODE(chain,opt, autodiff=true), verbose=true, dt=1f0, maxiters=2000)"
   ]
  },
  {
   "cell_type": "code",
   "execution_count": 6,
   "metadata": {},
   "outputs": [
    {
     "data": {
      "image/svg+xml": [
       "<?xml version=\"1.0\" encoding=\"utf-8\"?>\n",
       "<svg xmlns=\"http://www.w3.org/2000/svg\" xmlns:xlink=\"http://www.w3.org/1999/xlink\" width=\"600\" height=\"400\" viewBox=\"0 0 2400 1600\">\n",
       "<defs>\n",
       "  <clipPath id=\"clip0300\">\n",
       "    <rect x=\"0\" y=\"0\" width=\"2400\" height=\"1600\"/>\n",
       "  </clipPath>\n",
       "</defs>\n",
       "<path clip-path=\"url(#clip0300)\" d=\"\n",
       "M0 1600 L2400 1600 L2400 0 L0 0  Z\n",
       "  \" fill=\"#ffffff\" fill-rule=\"evenodd\" fill-opacity=\"1\"/>\n",
       "<defs>\n",
       "  <clipPath id=\"clip0301\">\n",
       "    <rect x=\"480\" y=\"0\" width=\"1681\" height=\"1600\"/>\n",
       "  </clipPath>\n",
       "</defs>\n",
       "<path clip-path=\"url(#clip0300)\" d=\"\n",
       "M148.334 1486.45 L2352.76 1486.45 L2352.76 47.2441 L148.334 47.2441  Z\n",
       "  \" fill=\"#ffffff\" fill-rule=\"evenodd\" fill-opacity=\"1\"/>\n",
       "<defs>\n",
       "  <clipPath id=\"clip0302\">\n",
       "    <rect x=\"148\" y=\"47\" width=\"2205\" height=\"1440\"/>\n",
       "  </clipPath>\n",
       "</defs>\n",
       "<polyline clip-path=\"url(#clip0302)\" style=\"stroke:#000000; stroke-width:2; stroke-opacity:0.1; fill:none\" points=\"\n",
       "  489.247,1486.45 489.247,47.2441 \n",
       "  \"/>\n",
       "<polyline clip-path=\"url(#clip0302)\" style=\"stroke:#000000; stroke-width:2; stroke-opacity:0.1; fill:none\" points=\"\n",
       "  869.896,1486.45 869.896,47.2441 \n",
       "  \"/>\n",
       "<polyline clip-path=\"url(#clip0302)\" style=\"stroke:#000000; stroke-width:2; stroke-opacity:0.1; fill:none\" points=\"\n",
       "  1250.55,1486.45 1250.55,47.2441 \n",
       "  \"/>\n",
       "<polyline clip-path=\"url(#clip0302)\" style=\"stroke:#000000; stroke-width:2; stroke-opacity:0.1; fill:none\" points=\"\n",
       "  1631.19,1486.45 1631.19,47.2441 \n",
       "  \"/>\n",
       "<polyline clip-path=\"url(#clip0302)\" style=\"stroke:#000000; stroke-width:2; stroke-opacity:0.1; fill:none\" points=\"\n",
       "  2011.84,1486.45 2011.84,47.2441 \n",
       "  \"/>\n",
       "<polyline clip-path=\"url(#clip0302)\" style=\"stroke:#000000; stroke-width:2; stroke-opacity:0.1; fill:none\" points=\"\n",
       "  148.334,1382.66 2352.76,1382.66 \n",
       "  \"/>\n",
       "<polyline clip-path=\"url(#clip0302)\" style=\"stroke:#000000; stroke-width:2; stroke-opacity:0.1; fill:none\" points=\"\n",
       "  148.334,1099.61 2352.76,1099.61 \n",
       "  \"/>\n",
       "<polyline clip-path=\"url(#clip0302)\" style=\"stroke:#000000; stroke-width:2; stroke-opacity:0.1; fill:none\" points=\"\n",
       "  148.334,816.565 2352.76,816.565 \n",
       "  \"/>\n",
       "<polyline clip-path=\"url(#clip0302)\" style=\"stroke:#000000; stroke-width:2; stroke-opacity:0.1; fill:none\" points=\"\n",
       "  148.334,533.516 2352.76,533.516 \n",
       "  \"/>\n",
       "<polyline clip-path=\"url(#clip0302)\" style=\"stroke:#000000; stroke-width:2; stroke-opacity:0.1; fill:none\" points=\"\n",
       "  148.334,250.467 2352.76,250.467 \n",
       "  \"/>\n",
       "<polyline clip-path=\"url(#clip0300)\" style=\"stroke:#000000; stroke-width:4; stroke-opacity:1; fill:none\" points=\"\n",
       "  148.334,1486.45 2352.76,1486.45 \n",
       "  \"/>\n",
       "<polyline clip-path=\"url(#clip0300)\" style=\"stroke:#000000; stroke-width:4; stroke-opacity:1; fill:none\" points=\"\n",
       "  148.334,1486.45 148.334,47.2441 \n",
       "  \"/>\n",
       "<polyline clip-path=\"url(#clip0300)\" style=\"stroke:#000000; stroke-width:4; stroke-opacity:1; fill:none\" points=\"\n",
       "  489.247,1486.45 489.247,1469.18 \n",
       "  \"/>\n",
       "<polyline clip-path=\"url(#clip0300)\" style=\"stroke:#000000; stroke-width:4; stroke-opacity:1; fill:none\" points=\"\n",
       "  869.896,1486.45 869.896,1469.18 \n",
       "  \"/>\n",
       "<polyline clip-path=\"url(#clip0300)\" style=\"stroke:#000000; stroke-width:4; stroke-opacity:1; fill:none\" points=\"\n",
       "  1250.55,1486.45 1250.55,1469.18 \n",
       "  \"/>\n",
       "<polyline clip-path=\"url(#clip0300)\" style=\"stroke:#000000; stroke-width:4; stroke-opacity:1; fill:none\" points=\"\n",
       "  1631.19,1486.45 1631.19,1469.18 \n",
       "  \"/>\n",
       "<polyline clip-path=\"url(#clip0300)\" style=\"stroke:#000000; stroke-width:4; stroke-opacity:1; fill:none\" points=\"\n",
       "  2011.84,1486.45 2011.84,1469.18 \n",
       "  \"/>\n",
       "<polyline clip-path=\"url(#clip0300)\" style=\"stroke:#000000; stroke-width:4; stroke-opacity:1; fill:none\" points=\"\n",
       "  148.334,1382.66 174.787,1382.66 \n",
       "  \"/>\n",
       "<polyline clip-path=\"url(#clip0300)\" style=\"stroke:#000000; stroke-width:4; stroke-opacity:1; fill:none\" points=\"\n",
       "  148.334,1099.61 174.787,1099.61 \n",
       "  \"/>\n",
       "<polyline clip-path=\"url(#clip0300)\" style=\"stroke:#000000; stroke-width:4; stroke-opacity:1; fill:none\" points=\"\n",
       "  148.334,816.565 174.787,816.565 \n",
       "  \"/>\n",
       "<polyline clip-path=\"url(#clip0300)\" style=\"stroke:#000000; stroke-width:4; stroke-opacity:1; fill:none\" points=\"\n",
       "  148.334,533.516 174.787,533.516 \n",
       "  \"/>\n",
       "<polyline clip-path=\"url(#clip0300)\" style=\"stroke:#000000; stroke-width:4; stroke-opacity:1; fill:none\" points=\"\n",
       "  148.334,250.467 174.787,250.467 \n",
       "  \"/>\n",
       "<path clip-path=\"url(#clip0300)\" d=\"M 0 0 M451.516 1525.04 L463.993 1525.04 L463.993 1528.83 L451.516 1528.83 L451.516 1525.04 Z\" fill=\"#000000\" fill-rule=\"evenodd\" fill-opacity=\"1\" /><path clip-path=\"url(#clip0300)\" d=\"M 0 0 M469.109 1505.36 L487.465 1505.36 L487.465 1509.3 L473.391 1509.3 L473.391 1517.77 Q474.409 1517.42 475.428 1517.26 Q476.446 1517.07 477.465 1517.07 Q483.252 1517.07 486.632 1520.24 Q490.011 1523.42 490.011 1528.83 Q490.011 1534.41 486.539 1537.51 Q483.067 1540.59 476.747 1540.59 Q474.571 1540.59 472.303 1540.22 Q470.058 1539.85 467.65 1539.11 L467.65 1534.41 Q469.734 1535.54 471.956 1536.1 Q474.178 1536.66 476.655 1536.66 Q480.659 1536.66 482.997 1534.55 Q485.335 1532.44 485.335 1528.83 Q485.335 1525.22 482.997 1523.11 Q480.659 1521.01 476.655 1521.01 Q474.78 1521.01 472.905 1521.42 Q471.053 1521.84 469.109 1522.72 L469.109 1505.36 Z\" fill=\"#000000\" fill-rule=\"evenodd\" fill-opacity=\"1\" /><path clip-path=\"url(#clip0300)\" d=\"M 0 0 M495.081 1534.04 L499.965 1534.04 L499.965 1539.92 L495.081 1539.92 L495.081 1534.04 Z\" fill=\"#000000\" fill-rule=\"evenodd\" fill-opacity=\"1\" /><path clip-path=\"url(#clip0300)\" d=\"M 0 0 M515.034 1508.44 Q511.423 1508.44 509.594 1512 Q507.789 1515.55 507.789 1522.67 Q507.789 1529.78 509.594 1533.35 Q511.423 1536.89 515.034 1536.89 Q518.668 1536.89 520.474 1533.35 Q522.303 1529.78 522.303 1522.67 Q522.303 1515.55 520.474 1512 Q518.668 1508.44 515.034 1508.44 M515.034 1504.73 Q520.844 1504.73 523.9 1509.34 Q526.979 1513.92 526.979 1522.67 Q526.979 1531.4 523.9 1536.01 Q520.844 1540.59 515.034 1540.59 Q509.224 1540.59 506.145 1536.01 Q503.09 1531.4 503.09 1522.67 Q503.09 1513.92 506.145 1509.34 Q509.224 1504.73 515.034 1504.73 Z\" fill=\"#000000\" fill-rule=\"evenodd\" fill-opacity=\"1\" /><path clip-path=\"url(#clip0300)\" d=\"M 0 0 M832.964 1525.04 L845.44 1525.04 L845.44 1528.83 L832.964 1528.83 L832.964 1525.04 Z\" fill=\"#000000\" fill-rule=\"evenodd\" fill-opacity=\"1\" /><path clip-path=\"url(#clip0300)\" d=\"M 0 0 M854.538 1535.98 L870.857 1535.98 L870.857 1539.92 L848.913 1539.92 L848.913 1535.98 Q851.575 1533.23 856.158 1528.6 Q860.764 1523.95 861.945 1522.61 Q864.19 1520.08 865.07 1518.35 Q865.973 1516.59 865.973 1514.9 Q865.973 1512.14 864.028 1510.41 Q862.107 1508.67 859.005 1508.67 Q856.806 1508.67 854.352 1509.43 Q851.922 1510.2 849.144 1511.75 L849.144 1507.03 Q851.968 1505.89 854.422 1505.31 Q856.875 1504.73 858.912 1504.73 Q864.283 1504.73 867.477 1507.42 Q870.672 1510.11 870.672 1514.6 Q870.672 1516.73 869.861 1518.65 Q869.074 1520.54 866.968 1523.14 Q866.389 1523.81 863.287 1527.03 Q860.186 1530.22 854.538 1535.98 Z\" fill=\"#000000\" fill-rule=\"evenodd\" fill-opacity=\"1\" /><path clip-path=\"url(#clip0300)\" d=\"M 0 0 M875.926 1534.04 L880.811 1534.04 L880.811 1539.92 L875.926 1539.92 L875.926 1534.04 Z\" fill=\"#000000\" fill-rule=\"evenodd\" fill-opacity=\"1\" /><path clip-path=\"url(#clip0300)\" d=\"M 0 0 M885.926 1505.36 L904.283 1505.36 L904.283 1509.3 L890.209 1509.3 L890.209 1517.77 Q891.227 1517.42 892.246 1517.26 Q893.264 1517.07 894.283 1517.07 Q900.07 1517.07 903.449 1520.24 Q906.829 1523.42 906.829 1528.83 Q906.829 1534.41 903.357 1537.51 Q899.884 1540.59 893.565 1540.59 Q891.389 1540.59 889.121 1540.22 Q886.875 1539.85 884.468 1539.11 L884.468 1534.41 Q886.551 1535.54 888.773 1536.1 Q890.996 1536.66 893.472 1536.66 Q897.477 1536.66 899.815 1534.55 Q902.153 1532.44 902.153 1528.83 Q902.153 1525.22 899.815 1523.11 Q897.477 1521.01 893.472 1521.01 Q891.597 1521.01 889.722 1521.42 Q887.871 1521.84 885.926 1522.72 L885.926 1505.36 Z\" fill=\"#000000\" fill-rule=\"evenodd\" fill-opacity=\"1\" /><path clip-path=\"url(#clip0300)\" d=\"M 0 0 M1232.06 1508.44 Q1228.45 1508.44 1226.62 1512 Q1224.82 1515.55 1224.82 1522.67 Q1224.82 1529.78 1226.62 1533.35 Q1228.45 1536.89 1232.06 1536.89 Q1235.7 1536.89 1237.5 1533.35 Q1239.33 1529.78 1239.33 1522.67 Q1239.33 1515.55 1237.5 1512 Q1235.7 1508.44 1232.06 1508.44 M1232.06 1504.73 Q1237.87 1504.73 1240.93 1509.34 Q1244.01 1513.92 1244.01 1522.67 Q1244.01 1531.4 1240.93 1536.01 Q1237.87 1540.59 1232.06 1540.59 Q1226.25 1540.59 1223.17 1536.01 Q1220.12 1531.4 1220.12 1522.67 Q1220.12 1513.92 1223.17 1509.34 Q1226.25 1504.73 1232.06 1504.73 Z\" fill=\"#000000\" fill-rule=\"evenodd\" fill-opacity=\"1\" /><path clip-path=\"url(#clip0300)\" d=\"M 0 0 M1249.08 1534.04 L1253.96 1534.04 L1253.96 1539.92 L1249.08 1539.92 L1249.08 1534.04 Z\" fill=\"#000000\" fill-rule=\"evenodd\" fill-opacity=\"1\" /><path clip-path=\"url(#clip0300)\" d=\"M 0 0 M1269.03 1508.44 Q1265.42 1508.44 1263.59 1512 Q1261.78 1515.55 1261.78 1522.67 Q1261.78 1529.78 1263.59 1533.35 Q1265.42 1536.89 1269.03 1536.89 Q1272.66 1536.89 1274.47 1533.35 Q1276.3 1529.78 1276.3 1522.67 Q1276.3 1515.55 1274.47 1512 Q1272.66 1508.44 1269.03 1508.44 M1269.03 1504.73 Q1274.84 1504.73 1277.89 1509.34 Q1280.97 1513.92 1280.97 1522.67 Q1280.97 1531.4 1277.89 1536.01 Q1274.84 1540.59 1269.03 1540.59 Q1263.22 1540.59 1260.14 1536.01 Q1257.08 1531.4 1257.08 1522.67 Q1257.08 1513.92 1260.14 1509.34 Q1263.22 1504.73 1269.03 1504.73 Z\" fill=\"#000000\" fill-rule=\"evenodd\" fill-opacity=\"1\" /><path clip-path=\"url(#clip0300)\" d=\"M 0 0 M1607.86 1535.98 L1624.18 1535.98 L1624.18 1539.92 L1602.24 1539.92 L1602.24 1535.98 Q1604.9 1533.23 1609.48 1528.6 Q1614.09 1523.95 1615.27 1522.61 Q1617.51 1520.08 1618.39 1518.35 Q1619.3 1516.59 1619.3 1514.9 Q1619.3 1512.14 1617.35 1510.41 Q1615.43 1508.67 1612.33 1508.67 Q1610.13 1508.67 1607.68 1509.43 Q1605.25 1510.2 1602.47 1511.75 L1602.47 1507.03 Q1605.29 1505.89 1607.75 1505.31 Q1610.2 1504.73 1612.24 1504.73 Q1617.61 1504.73 1620.8 1507.42 Q1624 1510.11 1624 1514.6 Q1624 1516.73 1623.18 1518.65 Q1622.4 1520.54 1620.29 1523.14 Q1619.71 1523.81 1616.61 1527.03 Q1613.51 1530.22 1607.86 1535.98 Z\" fill=\"#000000\" fill-rule=\"evenodd\" fill-opacity=\"1\" /><path clip-path=\"url(#clip0300)\" d=\"M 0 0 M1629.25 1534.04 L1634.13 1534.04 L1634.13 1539.92 L1629.25 1539.92 L1629.25 1534.04 Z\" fill=\"#000000\" fill-rule=\"evenodd\" fill-opacity=\"1\" /><path clip-path=\"url(#clip0300)\" d=\"M 0 0 M1639.25 1505.36 L1657.61 1505.36 L1657.61 1509.3 L1643.53 1509.3 L1643.53 1517.77 Q1644.55 1517.42 1645.57 1517.26 Q1646.59 1517.07 1647.61 1517.07 Q1653.39 1517.07 1656.77 1520.24 Q1660.15 1523.42 1660.15 1528.83 Q1660.15 1534.41 1656.68 1537.51 Q1653.21 1540.59 1646.89 1540.59 Q1644.71 1540.59 1642.44 1540.22 Q1640.2 1539.85 1637.79 1539.11 L1637.79 1534.41 Q1639.87 1535.54 1642.1 1536.1 Q1644.32 1536.66 1646.8 1536.66 Q1650.8 1536.66 1653.14 1534.55 Q1655.48 1532.44 1655.48 1528.83 Q1655.48 1525.22 1653.14 1523.11 Q1650.8 1521.01 1646.8 1521.01 Q1644.92 1521.01 1643.05 1521.42 Q1641.19 1521.84 1639.25 1522.72 L1639.25 1505.36 Z\" fill=\"#000000\" fill-rule=\"evenodd\" fill-opacity=\"1\" /><path clip-path=\"url(#clip0300)\" d=\"M 0 0 M1983.64 1505.36 L2001.99 1505.36 L2001.99 1509.3 L1987.92 1509.3 L1987.92 1517.77 Q1988.94 1517.42 1989.96 1517.26 Q1990.98 1517.07 1991.99 1517.07 Q1997.78 1517.07 2001.16 1520.24 Q2004.54 1523.42 2004.54 1528.83 Q2004.54 1534.41 2001.07 1537.51 Q1997.6 1540.59 1991.28 1540.59 Q1989.1 1540.59 1986.83 1540.22 Q1984.59 1539.85 1982.18 1539.11 L1982.18 1534.41 Q1984.26 1535.54 1986.48 1536.1 Q1988.71 1536.66 1991.18 1536.66 Q1995.19 1536.66 1997.53 1534.55 Q1999.86 1532.44 1999.86 1528.83 Q1999.86 1525.22 1997.53 1523.11 Q1995.19 1521.01 1991.18 1521.01 Q1989.31 1521.01 1987.43 1521.42 Q1985.58 1521.84 1983.64 1522.72 L1983.64 1505.36 Z\" fill=\"#000000\" fill-rule=\"evenodd\" fill-opacity=\"1\" /><path clip-path=\"url(#clip0300)\" d=\"M 0 0 M2009.61 1534.04 L2014.49 1534.04 L2014.49 1539.92 L2009.61 1539.92 L2009.61 1534.04 Z\" fill=\"#000000\" fill-rule=\"evenodd\" fill-opacity=\"1\" /><path clip-path=\"url(#clip0300)\" d=\"M 0 0 M2029.56 1508.44 Q2025.95 1508.44 2024.12 1512 Q2022.32 1515.55 2022.32 1522.67 Q2022.32 1529.78 2024.12 1533.35 Q2025.95 1536.89 2029.56 1536.89 Q2033.2 1536.89 2035 1533.35 Q2036.83 1529.78 2036.83 1522.67 Q2036.83 1515.55 2035 1512 Q2033.2 1508.44 2029.56 1508.44 M2029.56 1504.73 Q2035.37 1504.73 2038.43 1509.34 Q2041.51 1513.92 2041.51 1522.67 Q2041.51 1531.4 2038.43 1536.01 Q2035.37 1540.59 2029.56 1540.59 Q2023.75 1540.59 2020.67 1536.01 Q2017.62 1531.4 2017.62 1522.67 Q2017.62 1513.92 2020.67 1509.34 Q2023.75 1504.73 2029.56 1504.73 Z\" fill=\"#000000\" fill-rule=\"evenodd\" fill-opacity=\"1\" /><path clip-path=\"url(#clip0300)\" d=\"M 0 0 M75.4226 1368.46 Q71.8115 1368.46 69.9828 1372.03 Q68.1773 1375.57 68.1773 1382.7 Q68.1773 1389.8 69.9828 1393.37 Q71.8115 1396.91 75.4226 1396.91 Q79.0569 1396.91 80.8624 1393.37 Q82.6911 1389.8 82.6911 1382.7 Q82.6911 1375.57 80.8624 1372.03 Q79.0569 1368.46 75.4226 1368.46 M75.4226 1364.76 Q81.2328 1364.76 84.2883 1369.36 Q87.367 1373.95 87.367 1382.7 Q87.367 1391.42 84.2883 1396.03 Q81.2328 1400.61 75.4226 1400.61 Q69.6125 1400.61 66.5338 1396.03 Q63.4782 1391.42 63.4782 1382.7 Q63.4782 1373.95 66.5338 1369.36 Q69.6125 1364.76 75.4226 1364.76 Z\" fill=\"#000000\" fill-rule=\"evenodd\" fill-opacity=\"1\" /><path clip-path=\"url(#clip0300)\" d=\"M 0 0 M92.4364 1394.06 L97.3206 1394.06 L97.3206 1399.94 L92.4364 1399.94 L92.4364 1394.06 Z\" fill=\"#000000\" fill-rule=\"evenodd\" fill-opacity=\"1\" /><path clip-path=\"url(#clip0300)\" d=\"M 0 0 M112.39 1368.46 Q108.779 1368.46 106.95 1372.03 Q105.145 1375.57 105.145 1382.7 Q105.145 1389.8 106.95 1393.37 Q108.779 1396.91 112.39 1396.91 Q116.024 1396.91 117.83 1393.37 Q119.658 1389.8 119.658 1382.7 Q119.658 1375.57 117.83 1372.03 Q116.024 1368.46 112.39 1368.46 M112.39 1364.76 Q118.2 1364.76 121.256 1369.36 Q124.334 1373.95 124.334 1382.7 Q124.334 1391.42 121.256 1396.03 Q118.2 1400.61 112.39 1400.61 Q106.58 1400.61 103.501 1396.03 Q100.446 1391.42 100.446 1382.7 Q100.446 1373.95 103.501 1369.36 Q106.58 1364.76 112.39 1364.76 Z\" fill=\"#000000\" fill-rule=\"evenodd\" fill-opacity=\"1\" /><path clip-path=\"url(#clip0300)\" d=\"M 0 0 M76.6495 1085.41 Q73.0384 1085.41 71.2097 1088.98 Q69.4041 1092.52 69.4041 1099.65 Q69.4041 1106.75 71.2097 1110.32 Q73.0384 1113.86 76.6495 1113.86 Q80.2837 1113.86 82.0892 1110.32 Q83.9179 1106.75 83.9179 1099.65 Q83.9179 1092.52 82.0892 1088.98 Q80.2837 1085.41 76.6495 1085.41 M76.6495 1081.71 Q82.4596 1081.71 85.5152 1086.32 Q88.5938 1090.9 88.5938 1099.65 Q88.5938 1108.38 85.5152 1112.98 Q82.4596 1117.57 76.6495 1117.57 Q70.8393 1117.57 67.7606 1112.98 Q64.7051 1108.38 64.7051 1099.65 Q64.7051 1090.9 67.7606 1086.32 Q70.8393 1081.71 76.6495 1081.71 Z\" fill=\"#000000\" fill-rule=\"evenodd\" fill-opacity=\"1\" /><path clip-path=\"url(#clip0300)\" d=\"M 0 0 M93.6633 1111.01 L98.5475 1111.01 L98.5475 1116.89 L93.6633 1116.89 L93.6633 1111.01 Z\" fill=\"#000000\" fill-rule=\"evenodd\" fill-opacity=\"1\" /><path clip-path=\"url(#clip0300)\" d=\"M 0 0 M104.427 1112.96 L112.066 1112.96 L112.066 1086.59 L103.756 1088.26 L103.756 1084 L112.02 1082.33 L116.696 1082.33 L116.696 1112.96 L124.334 1112.96 L124.334 1116.89 L104.427 1116.89 L104.427 1112.96 Z\" fill=\"#000000\" fill-rule=\"evenodd\" fill-opacity=\"1\" /><path clip-path=\"url(#clip0300)\" d=\"M 0 0 M77.0198 802.363 Q73.4087 802.363 71.58 805.928 Q69.7745 809.47 69.7745 816.6 Q69.7745 823.706 71.58 827.271 Q73.4087 830.812 77.0198 830.812 Q80.6541 830.812 82.4596 827.271 Q84.2883 823.706 84.2883 816.6 Q84.2883 809.47 82.4596 805.928 Q80.6541 802.363 77.0198 802.363 M77.0198 798.66 Q82.83 798.66 85.8855 803.266 Q88.9642 807.85 88.9642 816.6 Q88.9642 825.326 85.8855 829.933 Q82.83 834.516 77.0198 834.516 Q71.2097 834.516 68.131 829.933 Q65.0754 825.326 65.0754 816.6 Q65.0754 807.85 68.131 803.266 Q71.2097 798.66 77.0198 798.66 Z\" fill=\"#000000\" fill-rule=\"evenodd\" fill-opacity=\"1\" /><path clip-path=\"url(#clip0300)\" d=\"M 0 0 M94.0336 827.965 L98.9179 827.965 L98.9179 833.845 L94.0336 833.845 L94.0336 827.965 Z\" fill=\"#000000\" fill-rule=\"evenodd\" fill-opacity=\"1\" /><path clip-path=\"url(#clip0300)\" d=\"M 0 0 M108.015 829.91 L124.334 829.91 L124.334 833.845 L102.39 833.845 L102.39 829.91 Q105.052 827.155 109.635 822.525 Q114.242 817.873 115.422 816.53 Q117.668 814.007 118.547 812.271 Q119.45 810.512 119.45 808.822 Q119.45 806.067 117.506 804.331 Q115.584 802.595 112.483 802.595 Q110.284 802.595 107.83 803.359 Q105.399 804.123 102.622 805.674 L102.622 800.951 Q105.446 799.817 107.899 799.238 Q110.353 798.66 112.39 798.66 Q117.76 798.66 120.955 801.345 Q124.149 804.03 124.149 808.521 Q124.149 810.65 123.339 812.572 Q122.552 814.47 120.446 817.062 Q119.867 817.734 116.765 820.951 Q113.663 824.146 108.015 829.91 Z\" fill=\"#000000\" fill-rule=\"evenodd\" fill-opacity=\"1\" /><path clip-path=\"url(#clip0300)\" d=\"M 0 0 M76.0708 519.315 Q72.4597 519.315 70.631 522.879 Q68.8254 526.421 68.8254 533.551 Q68.8254 540.657 70.631 544.222 Q72.4597 547.763 76.0708 547.763 Q79.705 547.763 81.5105 544.222 Q83.3392 540.657 83.3392 533.551 Q83.3392 526.421 81.5105 522.879 Q79.705 519.315 76.0708 519.315 M76.0708 515.611 Q81.8809 515.611 84.9365 520.217 Q88.0151 524.801 88.0151 533.551 Q88.0151 542.277 84.9365 546.884 Q81.8809 551.467 76.0708 551.467 Q70.2606 551.467 67.1819 546.884 Q64.1264 542.277 64.1264 533.551 Q64.1264 524.801 67.1819 520.217 Q70.2606 515.611 76.0708 515.611 Z\" fill=\"#000000\" fill-rule=\"evenodd\" fill-opacity=\"1\" /><path clip-path=\"url(#clip0300)\" d=\"M 0 0 M93.0846 544.916 L97.9688 544.916 L97.9688 550.796 L93.0846 550.796 L93.0846 544.916 Z\" fill=\"#000000\" fill-rule=\"evenodd\" fill-opacity=\"1\" /><path clip-path=\"url(#clip0300)\" d=\"M 0 0 M117.205 532.162 Q120.561 532.879 122.436 535.148 Q124.334 537.416 124.334 540.75 Q124.334 545.865 120.816 548.666 Q117.297 551.467 110.816 551.467 Q108.64 551.467 106.325 551.027 Q104.034 550.611 101.58 549.754 L101.58 545.24 Q103.524 546.375 105.839 546.953 Q108.154 547.532 110.677 547.532 Q115.075 547.532 117.367 545.796 Q119.682 544.06 119.682 540.75 Q119.682 537.694 117.529 535.981 Q115.399 534.245 111.58 534.245 L107.552 534.245 L107.552 530.402 L111.765 530.402 Q115.214 530.402 117.043 529.037 Q118.871 527.648 118.871 525.055 Q118.871 522.393 116.973 520.981 Q115.098 519.546 111.58 519.546 Q109.659 519.546 107.459 519.963 Q105.26 520.379 102.622 521.259 L102.622 517.092 Q105.284 516.352 107.598 515.981 Q109.936 515.611 111.996 515.611 Q117.321 515.611 120.422 518.041 Q123.524 520.449 123.524 524.569 Q123.524 527.439 121.881 529.43 Q120.237 531.398 117.205 532.162 Z\" fill=\"#000000\" fill-rule=\"evenodd\" fill-opacity=\"1\" /><path clip-path=\"url(#clip0300)\" d=\"M 0 0 M74.9365 236.266 Q71.3254 236.266 69.4967 239.83 Q67.6912 243.372 67.6912 250.502 Q67.6912 257.608 69.4967 261.173 Q71.3254 264.714 74.9365 264.714 Q78.5707 264.714 80.3763 261.173 Q82.205 257.608 82.205 250.502 Q82.205 243.372 80.3763 239.83 Q78.5707 236.266 74.9365 236.266 M74.9365 232.562 Q80.7467 232.562 83.8022 237.168 Q86.8809 241.752 86.8809 250.502 Q86.8809 259.228 83.8022 263.835 Q80.7467 268.418 74.9365 268.418 Q69.1264 268.418 66.0477 263.835 Q62.9921 259.228 62.9921 250.502 Q62.9921 241.752 66.0477 237.168 Q69.1264 232.562 74.9365 232.562 Z\" fill=\"#000000\" fill-rule=\"evenodd\" fill-opacity=\"1\" /><path clip-path=\"url(#clip0300)\" d=\"M 0 0 M91.9503 261.867 L96.8345 261.867 L96.8345 267.747 L91.9503 267.747 L91.9503 261.867 Z\" fill=\"#000000\" fill-rule=\"evenodd\" fill-opacity=\"1\" /><path clip-path=\"url(#clip0300)\" d=\"M 0 0 M114.751 237.261 L102.946 255.71 L114.751 255.71 L114.751 237.261 M113.524 233.187 L119.404 233.187 L119.404 255.71 L124.334 255.71 L124.334 259.599 L119.404 259.599 L119.404 267.747 L114.751 267.747 L114.751 259.599 L99.1493 259.599 L99.1493 255.085 L113.524 233.187 Z\" fill=\"#000000\" fill-rule=\"evenodd\" fill-opacity=\"1\" /><polyline clip-path=\"url(#clip0302)\" style=\"stroke:#009af9; stroke-width:8; stroke-opacity:1; fill:none\" points=\"\n",
       "  210.724,1382.63 262.715,1382.55 314.706,1382.28 366.697,1381.5 418.688,1379.39 470.679,1374.15 522.67,1362.22 574.661,1337.35 626.652,1290.09 678.643,1208.76 \n",
       "  730.634,1083.06 782.625,910.965 834.617,707.186 886.608,508.695 938.599,370.878 990.59,350.306 1042.58,477.491 1094.57,732.245 1146.56,1038.34 1198.55,1287.06 \n",
       "  1250.55,1382.66 1302.54,1287.06 1354.53,1038.34 1406.52,732.245 1458.51,477.491 1510.5,350.306 1562.49,370.878 1614.48,508.695 1666.47,707.186 1718.46,910.965 \n",
       "  1770.46,1083.06 1822.45,1208.76 1874.44,1290.09 1926.43,1337.35 1978.42,1362.22 2030.41,1374.15 2082.4,1379.39 2134.39,1381.5 2186.38,1382.28 2238.38,1382.55 \n",
       "  2290.37,1382.63 \n",
       "  \"/>\n",
       "<polyline clip-path=\"url(#clip0302)\" style=\"stroke:#e26f46; stroke-width:8; stroke-opacity:1; fill:none\" points=\"\n",
       "  210.724,1428.75 262.715,1328.09 314.706,1442.74 366.697,1427.17 418.688,1421.02 470.679,1329.92 522.67,1410.56 574.661,1325.06 626.652,1279.62 678.643,1339.3 \n",
       "  730.634,1171.64 782.625,1070.59 834.617,940.132 886.608,796.597 938.599,647.625 990.59,536.049 1042.58,579.295 1094.57,579.345 1146.56,613.919 1198.55,540.207 \n",
       "  1250.55,554.01 1302.54,536.178 1354.53,532.365 1406.52,589.094 1458.51,490.823 1510.5,656.584 1562.49,779.52 1614.48,901.792 1666.47,922.963 1718.46,1065.64 \n",
       "  1770.46,1274.84 1822.45,1344.9 1874.44,1284.25 1926.43,1299.32 1978.42,1324.5 2030.41,1334.12 2082.4,1429.26 2134.39,1326.99 2186.38,1435.15 2238.38,1445.72 \n",
       "  2290.37,1325.62 \n",
       "  \"/>\n",
       "<polyline clip-path=\"url(#clip0302)\" style=\"stroke:#3da44d; stroke-width:8; stroke-opacity:1; fill:none\" points=\"\n",
       "  210.724,1382.88 262.715,1381.02 314.706,1385.41 366.697,1380.92 418.688,1383.7 470.679,1382.46 522.67,1377.49 574.661,1373.95 626.652,1361.13 678.643,1344.79 \n",
       "  730.634,1311.34 782.625,1263.33 834.617,1179.38 886.608,1070.25 938.599,927.933 990.59,758.115 1042.58,573.58 1094.57,390.603 1146.56,234.388 1198.55,125.568 \n",
       "  1250.55,87.9763 1302.54,125.592 1354.53,230.123 1406.52,391.3 1458.51,573.255 1510.5,762.356 1562.49,937.298 1614.48,1076.46 1666.47,1185.12 1718.46,1260.56 \n",
       "  1770.46,1313.58 1822.45,1344.58 1874.44,1362.01 1926.43,1371.38 1978.42,1377.75 2030.41,1381.79 2082.4,1380.6 2134.39,1379.79 2186.38,1383.23 2238.38,1384.04 \n",
       "  2290.37,1378.18 \n",
       "  \"/>\n",
       "<path clip-path=\"url(#clip0300)\" d=\"\n",
       "M1942.1 372.684 L2280.76 372.684 L2280.76 130.764 L1942.1 130.764  Z\n",
       "  \" fill=\"#ffffff\" fill-rule=\"evenodd\" fill-opacity=\"1\"/>\n",
       "<polyline clip-path=\"url(#clip0300)\" style=\"stroke:#000000; stroke-width:4; stroke-opacity:1; fill:none\" points=\"\n",
       "  1942.1,372.684 2280.76,372.684 2280.76,130.764 1942.1,130.764 1942.1,372.684 \n",
       "  \"/>\n",
       "<polyline clip-path=\"url(#clip0300)\" style=\"stroke:#009af9; stroke-width:8; stroke-opacity:1; fill:none\" points=\"\n",
       "  1966.1,191.244 2110.1,191.244 \n",
       "  \"/>\n",
       "<path clip-path=\"url(#clip0300)\" d=\"M 0 0 M2134.1 182.598 L2138.36 182.598 L2138.36 208.524 L2134.1 208.524 L2134.1 182.598 M2134.1 172.506 L2138.36 172.506 L2138.36 177.899 L2134.1 177.899 L2134.1 172.506 Z\" fill=\"#000000\" fill-rule=\"evenodd\" fill-opacity=\"1\" /><path clip-path=\"url(#clip0300)\" d=\"M 0 0 M2164.38 192.876 L2164.38 208.524 L2160.12 208.524 L2160.12 193.015 Q2160.12 189.334 2158.68 187.506 Q2157.25 185.677 2154.38 185.677 Q2150.93 185.677 2148.94 187.876 Q2146.95 190.075 2146.95 193.871 L2146.95 208.524 L2142.66 208.524 L2142.66 182.598 L2146.95 182.598 L2146.95 186.626 Q2148.47 184.288 2150.53 183.131 Q2152.62 181.973 2155.33 181.973 Q2159.79 181.973 2162.08 184.751 Q2164.38 187.506 2164.38 192.876 Z\" fill=\"#000000\" fill-rule=\"evenodd\" fill-opacity=\"1\" /><path clip-path=\"url(#clip0300)\" d=\"M 0 0 M2168.84 182.598 L2173.1 182.598 L2173.1 208.524 L2168.84 208.524 L2168.84 182.598 M2168.84 172.506 L2173.1 172.506 L2173.1 177.899 L2168.84 177.899 L2168.84 172.506 Z\" fill=\"#000000\" fill-rule=\"evenodd\" fill-opacity=\"1\" /><path clip-path=\"url(#clip0300)\" d=\"M 0 0 M2181.78 175.237 L2181.78 182.598 L2190.56 182.598 L2190.56 185.908 L2181.78 185.908 L2181.78 199.982 Q2181.78 203.154 2182.64 204.057 Q2183.52 204.959 2186.18 204.959 L2190.56 204.959 L2190.56 208.524 L2186.18 208.524 Q2181.25 208.524 2179.38 206.695 Q2177.5 204.844 2177.5 199.982 L2177.5 185.908 L2174.38 185.908 L2174.38 182.598 L2177.5 182.598 L2177.5 175.237 L2181.78 175.237 Z\" fill=\"#000000\" fill-rule=\"evenodd\" fill-opacity=\"1\" /><path clip-path=\"url(#clip0300)\" d=\"M 0 0 M2195.02 182.598 L2199.28 182.598 L2199.28 208.524 L2195.02 208.524 L2195.02 182.598 M2195.02 172.506 L2199.28 172.506 L2199.28 177.899 L2195.02 177.899 L2195.02 172.506 Z\" fill=\"#000000\" fill-rule=\"evenodd\" fill-opacity=\"1\" /><path clip-path=\"url(#clip0300)\" d=\"M 0 0 M2215.53 195.492 Q2210.37 195.492 2208.38 196.672 Q2206.39 197.853 2206.39 200.7 Q2206.39 202.969 2207.87 204.311 Q2209.38 205.631 2211.95 205.631 Q2215.49 205.631 2217.62 203.131 Q2219.77 200.607 2219.77 196.441 L2219.77 195.492 L2215.53 195.492 M2224.03 193.733 L2224.03 208.524 L2219.77 208.524 L2219.77 204.589 Q2218.31 206.95 2216.14 208.084 Q2213.96 209.195 2210.81 209.195 Q2206.83 209.195 2204.47 206.973 Q2202.13 204.728 2202.13 200.978 Q2202.13 196.603 2205.05 194.381 Q2207.99 192.158 2213.8 192.158 L2219.77 192.158 L2219.77 191.742 Q2219.77 188.802 2217.83 187.205 Q2215.9 185.584 2212.41 185.584 Q2210.19 185.584 2208.08 186.117 Q2205.97 186.649 2204.03 187.714 L2204.03 183.779 Q2206.37 182.876 2208.57 182.436 Q2210.77 181.973 2212.85 181.973 Q2218.47 181.973 2221.25 184.89 Q2224.03 187.807 2224.03 193.733 Z\" fill=\"#000000\" fill-rule=\"evenodd\" fill-opacity=\"1\" /><path clip-path=\"url(#clip0300)\" d=\"M 0 0 M2228.5 172.506 L2232.76 172.506 L2232.76 208.524 L2228.5 208.524 L2228.5 172.506 Z\" fill=\"#000000\" fill-rule=\"evenodd\" fill-opacity=\"1\" /><polyline clip-path=\"url(#clip0300)\" style=\"stroke:#e26f46; stroke-width:8; stroke-opacity:1; fill:none\" points=\"\n",
       "  1966.1,251.724 2110.1,251.724 \n",
       "  \"/>\n",
       "<path clip-path=\"url(#clip0300)\" d=\"M 0 0 M2141.51 235.717 L2141.51 243.078 L2150.28 243.078 L2150.28 246.388 L2141.51 246.388 L2141.51 260.462 Q2141.51 263.634 2142.36 264.537 Q2143.24 265.439 2145.9 265.439 L2150.28 265.439 L2150.28 269.004 L2145.9 269.004 Q2140.97 269.004 2139.1 267.175 Q2137.22 265.324 2137.22 260.462 L2137.22 246.388 L2134.1 246.388 L2134.1 243.078 L2137.22 243.078 L2137.22 235.717 L2141.51 235.717 Z\" fill=\"#000000\" fill-rule=\"evenodd\" fill-opacity=\"1\" /><path clip-path=\"url(#clip0300)\" d=\"M 0 0 M2155.3 247.476 L2184.98 247.476 L2184.98 251.365 L2155.3 251.365 L2155.3 247.476 M2155.3 256.921 L2184.98 256.921 L2184.98 260.856 L2155.3 260.856 L2155.3 256.921 Z\" fill=\"#000000\" fill-rule=\"evenodd\" fill-opacity=\"1\" /><path clip-path=\"url(#clip0300)\" d=\"M 0 0 M2190.09 234.444 L2208.45 234.444 L2208.45 238.379 L2194.38 238.379 L2194.38 246.851 Q2195.39 246.504 2196.41 246.342 Q2197.43 246.157 2198.45 246.157 Q2204.24 246.157 2207.62 249.328 Q2211 252.5 2211 257.916 Q2211 263.495 2207.52 266.597 Q2204.05 269.675 2197.73 269.675 Q2195.56 269.675 2193.29 269.305 Q2191.04 268.935 2188.64 268.194 L2188.64 263.495 Q2190.72 264.629 2192.94 265.185 Q2195.16 265.74 2197.64 265.74 Q2201.64 265.74 2203.98 263.634 Q2206.32 261.527 2206.32 257.916 Q2206.32 254.305 2203.98 252.199 Q2201.64 250.092 2197.64 250.092 Q2195.77 250.092 2193.89 250.509 Q2192.04 250.925 2190.09 251.805 L2190.09 234.444 Z\" fill=\"#000000\" fill-rule=\"evenodd\" fill-opacity=\"1\" /><polyline clip-path=\"url(#clip0300)\" style=\"stroke:#3da44d; stroke-width:8; stroke-opacity:1; fill:none\" points=\"\n",
       "  1966.1,312.204 2110.1,312.204 \n",
       "  \"/>\n",
       "<path clip-path=\"url(#clip0300)\" d=\"M 0 0 M2141.51 296.197 L2141.51 303.558 L2150.28 303.558 L2150.28 306.868 L2141.51 306.868 L2141.51 320.942 Q2141.51 324.114 2142.36 325.017 Q2143.24 325.919 2145.9 325.919 L2150.28 325.919 L2150.28 329.484 L2145.9 329.484 Q2140.97 329.484 2139.1 327.655 Q2137.22 325.804 2137.22 320.942 L2137.22 306.868 L2134.1 306.868 L2134.1 303.558 L2137.22 303.558 L2137.22 296.197 L2141.51 296.197 Z\" fill=\"#000000\" fill-rule=\"evenodd\" fill-opacity=\"1\" /><path clip-path=\"url(#clip0300)\" d=\"M 0 0 M2155.3 307.956 L2184.98 307.956 L2184.98 311.845 L2155.3 311.845 L2155.3 307.956 M2155.3 317.401 L2184.98 317.401 L2184.98 321.336 L2155.3 321.336 L2155.3 317.401 Z\" fill=\"#000000\" fill-rule=\"evenodd\" fill-opacity=\"1\" /><path clip-path=\"url(#clip0300)\" d=\"M 0 0 M2190.09 294.924 L2208.45 294.924 L2208.45 298.859 L2194.38 298.859 L2194.38 307.331 Q2195.39 306.984 2196.41 306.822 Q2197.43 306.637 2198.45 306.637 Q2204.24 306.637 2207.62 309.808 Q2211 312.98 2211 318.396 Q2211 323.975 2207.52 327.077 Q2204.05 330.155 2197.73 330.155 Q2195.56 330.155 2193.29 329.785 Q2191.04 329.415 2188.64 328.674 L2188.64 323.975 Q2190.72 325.109 2192.94 325.665 Q2195.16 326.22 2197.64 326.22 Q2201.64 326.22 2203.98 324.114 Q2206.32 322.007 2206.32 318.396 Q2206.32 314.785 2203.98 312.679 Q2201.64 310.572 2197.64 310.572 Q2195.77 310.572 2193.89 310.989 Q2192.04 311.405 2190.09 312.285 L2190.09 294.924 Z\" fill=\"#000000\" fill-rule=\"evenodd\" fill-opacity=\"1\" /></svg>\n"
      ]
     },
     "execution_count": 6,
     "metadata": {},
     "output_type": "execute_result"
    }
   ],
   "source": [
    "plot(vSpace.u, sol[1], lw=2, label=\"initial\")\n",
    "plot!(vSpace.u, sol[2], lw=2, label=\"t=5\")\n",
    "plot!(vSpace.u, sol[end], lw=2, label=\"t=5\")"
   ]
  },
  {
   "cell_type": "code",
   "execution_count": null,
   "metadata": {},
   "outputs": [],
   "source": []
  },
  {
   "cell_type": "markdown",
   "metadata": {},
   "source": [
    "## Calculator"
   ]
  },
  {
   "cell_type": "code",
   "execution_count": 10,
   "metadata": {},
   "outputs": [
    {
     "data": {
      "image/svg+xml": [
       "<?xml version=\"1.0\" encoding=\"utf-8\"?>\n",
       "<svg xmlns=\"http://www.w3.org/2000/svg\" xmlns:xlink=\"http://www.w3.org/1999/xlink\" width=\"600\" height=\"400\" viewBox=\"0 0 2400 1600\">\n",
       "<defs>\n",
       "  <clipPath id=\"clip5100\">\n",
       "    <rect x=\"0\" y=\"0\" width=\"2400\" height=\"1600\"/>\n",
       "  </clipPath>\n",
       "</defs>\n",
       "<path clip-path=\"url(#clip5100)\" d=\"\n",
       "M0 1600 L2400 1600 L2400 0 L0 0  Z\n",
       "  \" fill=\"#ffffff\" fill-rule=\"evenodd\" fill-opacity=\"1\"/>\n",
       "<defs>\n",
       "  <clipPath id=\"clip5101\">\n",
       "    <rect x=\"480\" y=\"0\" width=\"1681\" height=\"1600\"/>\n",
       "  </clipPath>\n",
       "</defs>\n",
       "<path clip-path=\"url(#clip5100)\" d=\"\n",
       "M148.334 1486.45 L2352.76 1486.45 L2352.76 47.2441 L148.334 47.2441  Z\n",
       "  \" fill=\"#ffffff\" fill-rule=\"evenodd\" fill-opacity=\"1\"/>\n",
       "<defs>\n",
       "  <clipPath id=\"clip5102\">\n",
       "    <rect x=\"148\" y=\"47\" width=\"2205\" height=\"1440\"/>\n",
       "  </clipPath>\n",
       "</defs>\n",
       "<polyline clip-path=\"url(#clip5102)\" style=\"stroke:#000000; stroke-width:2; stroke-opacity:0.1; fill:none\" points=\"\n",
       "  489.247,1486.45 489.247,47.2441 \n",
       "  \"/>\n",
       "<polyline clip-path=\"url(#clip5102)\" style=\"stroke:#000000; stroke-width:2; stroke-opacity:0.1; fill:none\" points=\"\n",
       "  869.896,1486.45 869.896,47.2441 \n",
       "  \"/>\n",
       "<polyline clip-path=\"url(#clip5102)\" style=\"stroke:#000000; stroke-width:2; stroke-opacity:0.1; fill:none\" points=\"\n",
       "  1250.55,1486.45 1250.55,47.2441 \n",
       "  \"/>\n",
       "<polyline clip-path=\"url(#clip5102)\" style=\"stroke:#000000; stroke-width:2; stroke-opacity:0.1; fill:none\" points=\"\n",
       "  1631.19,1486.45 1631.19,47.2441 \n",
       "  \"/>\n",
       "<polyline clip-path=\"url(#clip5102)\" style=\"stroke:#000000; stroke-width:2; stroke-opacity:0.1; fill:none\" points=\"\n",
       "  2011.84,1486.45 2011.84,47.2441 \n",
       "  \"/>\n",
       "<polyline clip-path=\"url(#clip5102)\" style=\"stroke:#000000; stroke-width:2; stroke-opacity:0.1; fill:none\" points=\"\n",
       "  148.334,1445.72 2352.76,1445.72 \n",
       "  \"/>\n",
       "<polyline clip-path=\"url(#clip5102)\" style=\"stroke:#000000; stroke-width:2; stroke-opacity:0.1; fill:none\" points=\"\n",
       "  148.334,1148.25 2352.76,1148.25 \n",
       "  \"/>\n",
       "<polyline clip-path=\"url(#clip5102)\" style=\"stroke:#000000; stroke-width:2; stroke-opacity:0.1; fill:none\" points=\"\n",
       "  148.334,850.792 2352.76,850.792 \n",
       "  \"/>\n",
       "<polyline clip-path=\"url(#clip5102)\" style=\"stroke:#000000; stroke-width:2; stroke-opacity:0.1; fill:none\" points=\"\n",
       "  148.334,553.33 2352.76,553.33 \n",
       "  \"/>\n",
       "<polyline clip-path=\"url(#clip5102)\" style=\"stroke:#000000; stroke-width:2; stroke-opacity:0.1; fill:none\" points=\"\n",
       "  148.334,255.867 2352.76,255.867 \n",
       "  \"/>\n",
       "<polyline clip-path=\"url(#clip5100)\" style=\"stroke:#000000; stroke-width:4; stroke-opacity:1; fill:none\" points=\"\n",
       "  148.334,1486.45 2352.76,1486.45 \n",
       "  \"/>\n",
       "<polyline clip-path=\"url(#clip5100)\" style=\"stroke:#000000; stroke-width:4; stroke-opacity:1; fill:none\" points=\"\n",
       "  148.334,1486.45 148.334,47.2441 \n",
       "  \"/>\n",
       "<polyline clip-path=\"url(#clip5100)\" style=\"stroke:#000000; stroke-width:4; stroke-opacity:1; fill:none\" points=\"\n",
       "  489.247,1486.45 489.247,1469.18 \n",
       "  \"/>\n",
       "<polyline clip-path=\"url(#clip5100)\" style=\"stroke:#000000; stroke-width:4; stroke-opacity:1; fill:none\" points=\"\n",
       "  869.896,1486.45 869.896,1469.18 \n",
       "  \"/>\n",
       "<polyline clip-path=\"url(#clip5100)\" style=\"stroke:#000000; stroke-width:4; stroke-opacity:1; fill:none\" points=\"\n",
       "  1250.55,1486.45 1250.55,1469.18 \n",
       "  \"/>\n",
       "<polyline clip-path=\"url(#clip5100)\" style=\"stroke:#000000; stroke-width:4; stroke-opacity:1; fill:none\" points=\"\n",
       "  1631.19,1486.45 1631.19,1469.18 \n",
       "  \"/>\n",
       "<polyline clip-path=\"url(#clip5100)\" style=\"stroke:#000000; stroke-width:4; stroke-opacity:1; fill:none\" points=\"\n",
       "  2011.84,1486.45 2011.84,1469.18 \n",
       "  \"/>\n",
       "<polyline clip-path=\"url(#clip5100)\" style=\"stroke:#000000; stroke-width:4; stroke-opacity:1; fill:none\" points=\"\n",
       "  148.334,1445.72 174.787,1445.72 \n",
       "  \"/>\n",
       "<polyline clip-path=\"url(#clip5100)\" style=\"stroke:#000000; stroke-width:4; stroke-opacity:1; fill:none\" points=\"\n",
       "  148.334,1148.25 174.787,1148.25 \n",
       "  \"/>\n",
       "<polyline clip-path=\"url(#clip5100)\" style=\"stroke:#000000; stroke-width:4; stroke-opacity:1; fill:none\" points=\"\n",
       "  148.334,850.792 174.787,850.792 \n",
       "  \"/>\n",
       "<polyline clip-path=\"url(#clip5100)\" style=\"stroke:#000000; stroke-width:4; stroke-opacity:1; fill:none\" points=\"\n",
       "  148.334,553.33 174.787,553.33 \n",
       "  \"/>\n",
       "<polyline clip-path=\"url(#clip5100)\" style=\"stroke:#000000; stroke-width:4; stroke-opacity:1; fill:none\" points=\"\n",
       "  148.334,255.867 174.787,255.867 \n",
       "  \"/>\n",
       "<path clip-path=\"url(#clip5100)\" d=\"M 0 0 M451.516 1525.04 L463.993 1525.04 L463.993 1528.83 L451.516 1528.83 L451.516 1525.04 Z\" fill=\"#000000\" fill-rule=\"evenodd\" fill-opacity=\"1\" /><path clip-path=\"url(#clip5100)\" d=\"M 0 0 M469.109 1505.36 L487.465 1505.36 L487.465 1509.3 L473.391 1509.3 L473.391 1517.77 Q474.409 1517.42 475.428 1517.26 Q476.446 1517.07 477.465 1517.07 Q483.252 1517.07 486.632 1520.24 Q490.011 1523.42 490.011 1528.83 Q490.011 1534.41 486.539 1537.51 Q483.067 1540.59 476.747 1540.59 Q474.571 1540.59 472.303 1540.22 Q470.058 1539.85 467.65 1539.11 L467.65 1534.41 Q469.734 1535.54 471.956 1536.1 Q474.178 1536.66 476.655 1536.66 Q480.659 1536.66 482.997 1534.55 Q485.335 1532.44 485.335 1528.83 Q485.335 1525.22 482.997 1523.11 Q480.659 1521.01 476.655 1521.01 Q474.78 1521.01 472.905 1521.42 Q471.053 1521.84 469.109 1522.72 L469.109 1505.36 Z\" fill=\"#000000\" fill-rule=\"evenodd\" fill-opacity=\"1\" /><path clip-path=\"url(#clip5100)\" d=\"M 0 0 M495.081 1534.04 L499.965 1534.04 L499.965 1539.92 L495.081 1539.92 L495.081 1534.04 Z\" fill=\"#000000\" fill-rule=\"evenodd\" fill-opacity=\"1\" /><path clip-path=\"url(#clip5100)\" d=\"M 0 0 M515.034 1508.44 Q511.423 1508.44 509.594 1512 Q507.789 1515.55 507.789 1522.67 Q507.789 1529.78 509.594 1533.35 Q511.423 1536.89 515.034 1536.89 Q518.668 1536.89 520.474 1533.35 Q522.303 1529.78 522.303 1522.67 Q522.303 1515.55 520.474 1512 Q518.668 1508.44 515.034 1508.44 M515.034 1504.73 Q520.844 1504.73 523.9 1509.34 Q526.979 1513.92 526.979 1522.67 Q526.979 1531.4 523.9 1536.01 Q520.844 1540.59 515.034 1540.59 Q509.224 1540.59 506.145 1536.01 Q503.09 1531.4 503.09 1522.67 Q503.09 1513.92 506.145 1509.34 Q509.224 1504.73 515.034 1504.73 Z\" fill=\"#000000\" fill-rule=\"evenodd\" fill-opacity=\"1\" /><path clip-path=\"url(#clip5100)\" d=\"M 0 0 M832.964 1525.04 L845.44 1525.04 L845.44 1528.83 L832.964 1528.83 L832.964 1525.04 Z\" fill=\"#000000\" fill-rule=\"evenodd\" fill-opacity=\"1\" /><path clip-path=\"url(#clip5100)\" d=\"M 0 0 M854.538 1535.98 L870.857 1535.98 L870.857 1539.92 L848.913 1539.92 L848.913 1535.98 Q851.575 1533.23 856.158 1528.6 Q860.764 1523.95 861.945 1522.61 Q864.19 1520.08 865.07 1518.35 Q865.973 1516.59 865.973 1514.9 Q865.973 1512.14 864.028 1510.41 Q862.107 1508.67 859.005 1508.67 Q856.806 1508.67 854.352 1509.43 Q851.922 1510.2 849.144 1511.75 L849.144 1507.03 Q851.968 1505.89 854.422 1505.31 Q856.875 1504.73 858.912 1504.73 Q864.283 1504.73 867.477 1507.42 Q870.672 1510.11 870.672 1514.6 Q870.672 1516.73 869.861 1518.65 Q869.074 1520.54 866.968 1523.14 Q866.389 1523.81 863.287 1527.03 Q860.186 1530.22 854.538 1535.98 Z\" fill=\"#000000\" fill-rule=\"evenodd\" fill-opacity=\"1\" /><path clip-path=\"url(#clip5100)\" d=\"M 0 0 M875.926 1534.04 L880.811 1534.04 L880.811 1539.92 L875.926 1539.92 L875.926 1534.04 Z\" fill=\"#000000\" fill-rule=\"evenodd\" fill-opacity=\"1\" /><path clip-path=\"url(#clip5100)\" d=\"M 0 0 M885.926 1505.36 L904.283 1505.36 L904.283 1509.3 L890.209 1509.3 L890.209 1517.77 Q891.227 1517.42 892.246 1517.26 Q893.264 1517.07 894.283 1517.07 Q900.07 1517.07 903.449 1520.24 Q906.829 1523.42 906.829 1528.83 Q906.829 1534.41 903.357 1537.51 Q899.884 1540.59 893.565 1540.59 Q891.389 1540.59 889.121 1540.22 Q886.875 1539.85 884.468 1539.11 L884.468 1534.41 Q886.551 1535.54 888.773 1536.1 Q890.996 1536.66 893.472 1536.66 Q897.477 1536.66 899.815 1534.55 Q902.153 1532.44 902.153 1528.83 Q902.153 1525.22 899.815 1523.11 Q897.477 1521.01 893.472 1521.01 Q891.597 1521.01 889.722 1521.42 Q887.871 1521.84 885.926 1522.72 L885.926 1505.36 Z\" fill=\"#000000\" fill-rule=\"evenodd\" fill-opacity=\"1\" /><path clip-path=\"url(#clip5100)\" d=\"M 0 0 M1232.06 1508.44 Q1228.45 1508.44 1226.62 1512 Q1224.82 1515.55 1224.82 1522.67 Q1224.82 1529.78 1226.62 1533.35 Q1228.45 1536.89 1232.06 1536.89 Q1235.7 1536.89 1237.5 1533.35 Q1239.33 1529.78 1239.33 1522.67 Q1239.33 1515.55 1237.5 1512 Q1235.7 1508.44 1232.06 1508.44 M1232.06 1504.73 Q1237.87 1504.73 1240.93 1509.34 Q1244.01 1513.92 1244.01 1522.67 Q1244.01 1531.4 1240.93 1536.01 Q1237.87 1540.59 1232.06 1540.59 Q1226.25 1540.59 1223.17 1536.01 Q1220.12 1531.4 1220.12 1522.67 Q1220.12 1513.92 1223.17 1509.34 Q1226.25 1504.73 1232.06 1504.73 Z\" fill=\"#000000\" fill-rule=\"evenodd\" fill-opacity=\"1\" /><path clip-path=\"url(#clip5100)\" d=\"M 0 0 M1249.08 1534.04 L1253.96 1534.04 L1253.96 1539.92 L1249.08 1539.92 L1249.08 1534.04 Z\" fill=\"#000000\" fill-rule=\"evenodd\" fill-opacity=\"1\" /><path clip-path=\"url(#clip5100)\" d=\"M 0 0 M1269.03 1508.44 Q1265.42 1508.44 1263.59 1512 Q1261.78 1515.55 1261.78 1522.67 Q1261.78 1529.78 1263.59 1533.35 Q1265.42 1536.89 1269.03 1536.89 Q1272.66 1536.89 1274.47 1533.35 Q1276.3 1529.78 1276.3 1522.67 Q1276.3 1515.55 1274.47 1512 Q1272.66 1508.44 1269.03 1508.44 M1269.03 1504.73 Q1274.84 1504.73 1277.89 1509.34 Q1280.97 1513.92 1280.97 1522.67 Q1280.97 1531.4 1277.89 1536.01 Q1274.84 1540.59 1269.03 1540.59 Q1263.22 1540.59 1260.14 1536.01 Q1257.08 1531.4 1257.08 1522.67 Q1257.08 1513.92 1260.14 1509.34 Q1263.22 1504.73 1269.03 1504.73 Z\" fill=\"#000000\" fill-rule=\"evenodd\" fill-opacity=\"1\" /><path clip-path=\"url(#clip5100)\" d=\"M 0 0 M1607.86 1535.98 L1624.18 1535.98 L1624.18 1539.92 L1602.24 1539.92 L1602.24 1535.98 Q1604.9 1533.23 1609.48 1528.6 Q1614.09 1523.95 1615.27 1522.61 Q1617.51 1520.08 1618.39 1518.35 Q1619.3 1516.59 1619.3 1514.9 Q1619.3 1512.14 1617.35 1510.41 Q1615.43 1508.67 1612.33 1508.67 Q1610.13 1508.67 1607.68 1509.43 Q1605.25 1510.2 1602.47 1511.75 L1602.47 1507.03 Q1605.29 1505.89 1607.75 1505.31 Q1610.2 1504.73 1612.24 1504.73 Q1617.61 1504.73 1620.8 1507.42 Q1624 1510.11 1624 1514.6 Q1624 1516.73 1623.18 1518.65 Q1622.4 1520.54 1620.29 1523.14 Q1619.71 1523.81 1616.61 1527.03 Q1613.51 1530.22 1607.86 1535.98 Z\" fill=\"#000000\" fill-rule=\"evenodd\" fill-opacity=\"1\" /><path clip-path=\"url(#clip5100)\" d=\"M 0 0 M1629.25 1534.04 L1634.13 1534.04 L1634.13 1539.92 L1629.25 1539.92 L1629.25 1534.04 Z\" fill=\"#000000\" fill-rule=\"evenodd\" fill-opacity=\"1\" /><path clip-path=\"url(#clip5100)\" d=\"M 0 0 M1639.25 1505.36 L1657.61 1505.36 L1657.61 1509.3 L1643.53 1509.3 L1643.53 1517.77 Q1644.55 1517.42 1645.57 1517.26 Q1646.59 1517.07 1647.61 1517.07 Q1653.39 1517.07 1656.77 1520.24 Q1660.15 1523.42 1660.15 1528.83 Q1660.15 1534.41 1656.68 1537.51 Q1653.21 1540.59 1646.89 1540.59 Q1644.71 1540.59 1642.44 1540.22 Q1640.2 1539.85 1637.79 1539.11 L1637.79 1534.41 Q1639.87 1535.54 1642.1 1536.1 Q1644.32 1536.66 1646.8 1536.66 Q1650.8 1536.66 1653.14 1534.55 Q1655.48 1532.44 1655.48 1528.83 Q1655.48 1525.22 1653.14 1523.11 Q1650.8 1521.01 1646.8 1521.01 Q1644.92 1521.01 1643.05 1521.42 Q1641.19 1521.84 1639.25 1522.72 L1639.25 1505.36 Z\" fill=\"#000000\" fill-rule=\"evenodd\" fill-opacity=\"1\" /><path clip-path=\"url(#clip5100)\" d=\"M 0 0 M1983.64 1505.36 L2001.99 1505.36 L2001.99 1509.3 L1987.92 1509.3 L1987.92 1517.77 Q1988.94 1517.42 1989.96 1517.26 Q1990.98 1517.07 1991.99 1517.07 Q1997.78 1517.07 2001.16 1520.24 Q2004.54 1523.42 2004.54 1528.83 Q2004.54 1534.41 2001.07 1537.51 Q1997.6 1540.59 1991.28 1540.59 Q1989.1 1540.59 1986.83 1540.22 Q1984.59 1539.85 1982.18 1539.11 L1982.18 1534.41 Q1984.26 1535.54 1986.48 1536.1 Q1988.71 1536.66 1991.18 1536.66 Q1995.19 1536.66 1997.53 1534.55 Q1999.86 1532.44 1999.86 1528.83 Q1999.86 1525.22 1997.53 1523.11 Q1995.19 1521.01 1991.18 1521.01 Q1989.31 1521.01 1987.43 1521.42 Q1985.58 1521.84 1983.64 1522.72 L1983.64 1505.36 Z\" fill=\"#000000\" fill-rule=\"evenodd\" fill-opacity=\"1\" /><path clip-path=\"url(#clip5100)\" d=\"M 0 0 M2009.61 1534.04 L2014.49 1534.04 L2014.49 1539.92 L2009.61 1539.92 L2009.61 1534.04 Z\" fill=\"#000000\" fill-rule=\"evenodd\" fill-opacity=\"1\" /><path clip-path=\"url(#clip5100)\" d=\"M 0 0 M2029.56 1508.44 Q2025.95 1508.44 2024.12 1512 Q2022.32 1515.55 2022.32 1522.67 Q2022.32 1529.78 2024.12 1533.35 Q2025.95 1536.89 2029.56 1536.89 Q2033.2 1536.89 2035 1533.35 Q2036.83 1529.78 2036.83 1522.67 Q2036.83 1515.55 2035 1512 Q2033.2 1508.44 2029.56 1508.44 M2029.56 1504.73 Q2035.37 1504.73 2038.43 1509.34 Q2041.51 1513.92 2041.51 1522.67 Q2041.51 1531.4 2038.43 1536.01 Q2035.37 1540.59 2029.56 1540.59 Q2023.75 1540.59 2020.67 1536.01 Q2017.62 1531.4 2017.62 1522.67 Q2017.62 1513.92 2020.67 1509.34 Q2023.75 1504.73 2029.56 1504.73 Z\" fill=\"#000000\" fill-rule=\"evenodd\" fill-opacity=\"1\" /><path clip-path=\"url(#clip5100)\" d=\"M 0 0 M75.4226 1431.51 Q71.8115 1431.51 69.9828 1435.08 Q68.1773 1438.62 68.1773 1445.75 Q68.1773 1452.86 69.9828 1456.42 Q71.8115 1459.96 75.4226 1459.96 Q79.0569 1459.96 80.8624 1456.42 Q82.6911 1452.86 82.6911 1445.75 Q82.6911 1438.62 80.8624 1435.08 Q79.0569 1431.51 75.4226 1431.51 M75.4226 1427.81 Q81.2328 1427.81 84.2883 1432.42 Q87.367 1437 87.367 1445.75 Q87.367 1454.48 84.2883 1459.08 Q81.2328 1463.67 75.4226 1463.67 Q69.6125 1463.67 66.5338 1459.08 Q63.4782 1454.48 63.4782 1445.75 Q63.4782 1437 66.5338 1432.42 Q69.6125 1427.81 75.4226 1427.81 Z\" fill=\"#000000\" fill-rule=\"evenodd\" fill-opacity=\"1\" /><path clip-path=\"url(#clip5100)\" d=\"M 0 0 M92.4364 1457.12 L97.3206 1457.12 L97.3206 1463 L92.4364 1463 L92.4364 1457.12 Z\" fill=\"#000000\" fill-rule=\"evenodd\" fill-opacity=\"1\" /><path clip-path=\"url(#clip5100)\" d=\"M 0 0 M112.39 1431.51 Q108.779 1431.51 106.95 1435.08 Q105.145 1438.62 105.145 1445.75 Q105.145 1452.86 106.95 1456.42 Q108.779 1459.96 112.39 1459.96 Q116.024 1459.96 117.83 1456.42 Q119.658 1452.86 119.658 1445.75 Q119.658 1438.62 117.83 1435.08 Q116.024 1431.51 112.39 1431.51 M112.39 1427.81 Q118.2 1427.81 121.256 1432.42 Q124.334 1437 124.334 1445.75 Q124.334 1454.48 121.256 1459.08 Q118.2 1463.67 112.39 1463.67 Q106.58 1463.67 103.501 1459.08 Q100.446 1454.48 100.446 1445.75 Q100.446 1437 103.501 1432.42 Q106.58 1427.81 112.39 1427.81 Z\" fill=\"#000000\" fill-rule=\"evenodd\" fill-opacity=\"1\" /><path clip-path=\"url(#clip5100)\" d=\"M 0 0 M76.6495 1134.05 Q73.0384 1134.05 71.2097 1137.62 Q69.4041 1141.16 69.4041 1148.29 Q69.4041 1155.39 71.2097 1158.96 Q73.0384 1162.5 76.6495 1162.5 Q80.2837 1162.5 82.0892 1158.96 Q83.9179 1155.39 83.9179 1148.29 Q83.9179 1141.16 82.0892 1137.62 Q80.2837 1134.05 76.6495 1134.05 M76.6495 1130.35 Q82.4596 1130.35 85.5152 1134.96 Q88.5938 1139.54 88.5938 1148.29 Q88.5938 1157.02 85.5152 1161.62 Q82.4596 1166.2 76.6495 1166.2 Q70.8393 1166.2 67.7606 1161.62 Q64.7051 1157.02 64.7051 1148.29 Q64.7051 1139.54 67.7606 1134.96 Q70.8393 1130.35 76.6495 1130.35 Z\" fill=\"#000000\" fill-rule=\"evenodd\" fill-opacity=\"1\" /><path clip-path=\"url(#clip5100)\" d=\"M 0 0 M93.6633 1159.65 L98.5475 1159.65 L98.5475 1165.53 L93.6633 1165.53 L93.6633 1159.65 Z\" fill=\"#000000\" fill-rule=\"evenodd\" fill-opacity=\"1\" /><path clip-path=\"url(#clip5100)\" d=\"M 0 0 M104.427 1161.6 L112.066 1161.6 L112.066 1135.23 L103.756 1136.9 L103.756 1132.64 L112.02 1130.97 L116.696 1130.97 L116.696 1161.6 L124.334 1161.6 L124.334 1165.53 L104.427 1165.53 L104.427 1161.6 Z\" fill=\"#000000\" fill-rule=\"evenodd\" fill-opacity=\"1\" /><path clip-path=\"url(#clip5100)\" d=\"M 0 0 M77.0198 836.59 Q73.4087 836.59 71.58 840.155 Q69.7745 843.697 69.7745 850.826 Q69.7745 857.933 71.58 861.498 Q73.4087 865.039 77.0198 865.039 Q80.6541 865.039 82.4596 861.498 Q84.2883 857.933 84.2883 850.826 Q84.2883 843.697 82.4596 840.155 Q80.6541 836.59 77.0198 836.59 M77.0198 832.887 Q82.83 832.887 85.8855 837.493 Q88.9642 842.076 88.9642 850.826 Q88.9642 859.553 85.8855 864.16 Q82.83 868.743 77.0198 868.743 Q71.2097 868.743 68.131 864.16 Q65.0754 859.553 65.0754 850.826 Q65.0754 842.076 68.131 837.493 Q71.2097 832.887 77.0198 832.887 Z\" fill=\"#000000\" fill-rule=\"evenodd\" fill-opacity=\"1\" /><path clip-path=\"url(#clip5100)\" d=\"M 0 0 M94.0336 862.192 L98.9179 862.192 L98.9179 868.072 L94.0336 868.072 L94.0336 862.192 Z\" fill=\"#000000\" fill-rule=\"evenodd\" fill-opacity=\"1\" /><path clip-path=\"url(#clip5100)\" d=\"M 0 0 M108.015 864.136 L124.334 864.136 L124.334 868.072 L102.39 868.072 L102.39 864.136 Q105.052 861.382 109.635 856.752 Q114.242 852.099 115.422 850.757 Q117.668 848.234 118.547 846.498 Q119.45 844.738 119.45 843.049 Q119.45 840.294 117.506 838.558 Q115.584 836.822 112.483 836.822 Q110.284 836.822 107.83 837.586 Q105.399 838.35 102.622 839.9 L102.622 835.178 Q105.446 834.044 107.899 833.465 Q110.353 832.887 112.39 832.887 Q117.76 832.887 120.955 835.572 Q124.149 838.257 124.149 842.748 Q124.149 844.877 123.339 846.799 Q122.552 848.697 120.446 851.289 Q119.867 851.961 116.765 855.178 Q113.663 858.373 108.015 864.136 Z\" fill=\"#000000\" fill-rule=\"evenodd\" fill-opacity=\"1\" /><path clip-path=\"url(#clip5100)\" d=\"M 0 0 M76.0708 539.128 Q72.4597 539.128 70.631 542.693 Q68.8254 546.235 68.8254 553.364 Q68.8254 560.471 70.631 564.036 Q72.4597 567.577 76.0708 567.577 Q79.705 567.577 81.5105 564.036 Q83.3392 560.471 83.3392 553.364 Q83.3392 546.235 81.5105 542.693 Q79.705 539.128 76.0708 539.128 M76.0708 535.425 Q81.8809 535.425 84.9365 540.031 Q88.0151 544.614 88.0151 553.364 Q88.0151 562.091 84.9365 566.698 Q81.8809 571.281 76.0708 571.281 Q70.2606 571.281 67.1819 566.698 Q64.1264 562.091 64.1264 553.364 Q64.1264 544.614 67.1819 540.031 Q70.2606 535.425 76.0708 535.425 Z\" fill=\"#000000\" fill-rule=\"evenodd\" fill-opacity=\"1\" /><path clip-path=\"url(#clip5100)\" d=\"M 0 0 M93.0846 564.73 L97.9688 564.73 L97.9688 570.61 L93.0846 570.61 L93.0846 564.73 Z\" fill=\"#000000\" fill-rule=\"evenodd\" fill-opacity=\"1\" /><path clip-path=\"url(#clip5100)\" d=\"M 0 0 M117.205 551.975 Q120.561 552.693 122.436 554.961 Q124.334 557.23 124.334 560.563 Q124.334 565.679 120.816 568.48 Q117.297 571.281 110.816 571.281 Q108.64 571.281 106.325 570.841 Q104.034 570.424 101.58 569.568 L101.58 565.054 Q103.524 566.188 105.839 566.767 Q108.154 567.346 110.677 567.346 Q115.075 567.346 117.367 565.61 Q119.682 563.873 119.682 560.563 Q119.682 557.508 117.529 555.795 Q115.399 554.059 111.58 554.059 L107.552 554.059 L107.552 550.216 L111.765 550.216 Q115.214 550.216 117.043 548.85 Q118.871 547.462 118.871 544.869 Q118.871 542.207 116.973 540.795 Q115.098 539.36 111.58 539.36 Q109.659 539.36 107.459 539.776 Q105.26 540.193 102.622 541.073 L102.622 536.906 Q105.284 536.165 107.598 535.795 Q109.936 535.425 111.996 535.425 Q117.321 535.425 120.422 537.855 Q123.524 540.262 123.524 544.383 Q123.524 547.253 121.881 549.244 Q120.237 551.212 117.205 551.975 Z\" fill=\"#000000\" fill-rule=\"evenodd\" fill-opacity=\"1\" /><path clip-path=\"url(#clip5100)\" d=\"M 0 0 M74.9365 241.666 Q71.3254 241.666 69.4967 245.231 Q67.6912 248.773 67.6912 255.902 Q67.6912 263.009 69.4967 266.573 Q71.3254 270.115 74.9365 270.115 Q78.5707 270.115 80.3763 266.573 Q82.205 263.009 82.205 255.902 Q82.205 248.773 80.3763 245.231 Q78.5707 241.666 74.9365 241.666 M74.9365 237.963 Q80.7467 237.963 83.8022 242.569 Q86.8809 247.152 86.8809 255.902 Q86.8809 264.629 83.8022 269.235 Q80.7467 273.819 74.9365 273.819 Q69.1264 273.819 66.0477 269.235 Q62.9921 264.629 62.9921 255.902 Q62.9921 247.152 66.0477 242.569 Q69.1264 237.963 74.9365 237.963 Z\" fill=\"#000000\" fill-rule=\"evenodd\" fill-opacity=\"1\" /><path clip-path=\"url(#clip5100)\" d=\"M 0 0 M91.9503 267.268 L96.8345 267.268 L96.8345 273.147 L91.9503 273.147 L91.9503 267.268 Z\" fill=\"#000000\" fill-rule=\"evenodd\" fill-opacity=\"1\" /><path clip-path=\"url(#clip5100)\" d=\"M 0 0 M114.751 242.662 L102.946 261.111 L114.751 261.111 L114.751 242.662 M113.524 238.587 L119.404 238.587 L119.404 261.111 L124.334 261.111 L124.334 264.999 L119.404 264.999 L119.404 273.147 L114.751 273.147 L114.751 264.999 L99.1493 264.999 L99.1493 260.486 L113.524 238.587 Z\" fill=\"#000000\" fill-rule=\"evenodd\" fill-opacity=\"1\" /><polyline clip-path=\"url(#clip5102)\" style=\"stroke:#009af9; stroke-width:4; stroke-opacity:1; fill:none\" points=\"\n",
       "  210.724,1445.68 262.715,1445.59 314.706,1445.31 366.697,1444.49 418.688,1442.28 470.679,1436.77 522.67,1424.24 574.661,1398.09 626.652,1348.43 678.643,1262.95 \n",
       "  730.634,1130.86 782.625,949.999 834.617,735.843 886.608,527.245 938.599,382.41 990.59,360.791 1042.58,494.452 1094.57,762.178 1146.56,1083.86 1198.55,1345.24 \n",
       "  1250.55,1445.72 1302.54,1345.24 1354.53,1083.86 1406.52,762.178 1458.51,494.452 1510.5,360.791 1562.49,382.41 1614.48,527.245 1666.47,735.843 1718.46,949.999 \n",
       "  1770.46,1130.86 1822.45,1262.95 1874.44,1348.43 1926.43,1398.09 1978.42,1424.24 2030.41,1436.77 2082.4,1442.28 2134.39,1444.49 2186.38,1445.31 2238.38,1445.59 \n",
       "  2290.37,1445.68 \n",
       "  \"/>\n",
       "<polyline clip-path=\"url(#clip5102)\" style=\"stroke:#e26f46; stroke-width:4; stroke-opacity:1; fill:none\" points=\"\n",
       "  210.724,1445.7 262.715,1445.68 314.706,1445.61 366.697,1445.42 418.688,1444.94 470.679,1443.79 522.67,1441.23 574.661,1435.87 626.652,1425.31 678.643,1405.81 \n",
       "  730.634,1372.12 782.625,1317.67 834.617,1235.54 886.608,1120.26 938.599,970.311 990.59,790.595 1042.58,594.069 1094.57,401.288 1146.56,237.409 1198.55,126.983 \n",
       "  1250.55,87.9763 1302.54,126.983 1354.53,237.409 1406.52,401.288 1458.51,594.069 1510.5,790.595 1562.49,970.311 1614.48,1120.26 1666.47,1235.54 1718.46,1317.67 \n",
       "  1770.46,1372.12 1822.45,1405.81 1874.44,1425.31 1926.43,1435.87 1978.42,1441.23 2030.41,1443.79 2082.4,1444.94 2134.39,1445.42 2186.38,1445.61 2238.38,1445.68 \n",
       "  2290.37,1445.7 \n",
       "  \"/>\n",
       "<path clip-path=\"url(#clip5100)\" d=\"\n",
       "M1989.74 312.204 L2280.76 312.204 L2280.76 130.764 L1989.74 130.764  Z\n",
       "  \" fill=\"#ffffff\" fill-rule=\"evenodd\" fill-opacity=\"1\"/>\n",
       "<polyline clip-path=\"url(#clip5100)\" style=\"stroke:#000000; stroke-width:4; stroke-opacity:1; fill:none\" points=\"\n",
       "  1989.74,312.204 2280.76,312.204 2280.76,130.764 1989.74,130.764 1989.74,312.204 \n",
       "  \"/>\n",
       "<polyline clip-path=\"url(#clip5100)\" style=\"stroke:#009af9; stroke-width:4; stroke-opacity:1; fill:none\" points=\"\n",
       "  2013.74,191.244 2157.74,191.244 \n",
       "  \"/>\n",
       "<path clip-path=\"url(#clip5100)\" d=\"M 0 0 M2195.58 210.931 Q2193.77 215.561 2192.06 216.973 Q2190.35 218.385 2187.48 218.385 L2184.08 218.385 L2184.08 214.82 L2186.58 214.82 Q2188.33 214.82 2189.31 213.987 Q2190.28 213.154 2191.46 210.052 L2192.22 208.107 L2181.74 182.598 L2186.25 182.598 L2194.35 202.876 L2202.46 182.598 L2206.97 182.598 L2195.58 210.931 Z\" fill=\"#000000\" fill-rule=\"evenodd\" fill-opacity=\"1\" /><path clip-path=\"url(#clip5100)\" d=\"M 0 0 M2212.85 204.589 L2220.49 204.589 L2220.49 178.223 L2212.18 179.89 L2212.18 175.631 L2220.44 173.964 L2225.12 173.964 L2225.12 204.589 L2232.76 204.589 L2232.76 208.524 L2212.85 208.524 L2212.85 204.589 Z\" fill=\"#000000\" fill-rule=\"evenodd\" fill-opacity=\"1\" /><polyline clip-path=\"url(#clip5100)\" style=\"stroke:#e26f46; stroke-width:4; stroke-opacity:1; fill:none\" points=\"\n",
       "  2013.74,251.724 2157.74,251.724 \n",
       "  \"/>\n",
       "<path clip-path=\"url(#clip5100)\" d=\"M 0 0 M2195.58 271.411 Q2193.77 276.041 2192.06 277.453 Q2190.35 278.865 2187.48 278.865 L2184.08 278.865 L2184.08 275.3 L2186.58 275.3 Q2188.33 275.3 2189.31 274.467 Q2190.28 273.634 2191.46 270.532 L2192.22 268.587 L2181.74 243.078 L2186.25 243.078 L2194.35 263.356 L2202.46 243.078 L2206.97 243.078 L2195.58 271.411 Z\" fill=\"#000000\" fill-rule=\"evenodd\" fill-opacity=\"1\" /><path clip-path=\"url(#clip5100)\" d=\"M 0 0 M2216.07 265.069 L2232.39 265.069 L2232.39 269.004 L2210.44 269.004 L2210.44 265.069 Q2213.1 262.314 2217.69 257.685 Q2222.29 253.032 2223.47 251.689 Q2225.72 249.166 2226.6 247.43 Q2227.5 245.671 2227.5 243.981 Q2227.5 241.226 2225.56 239.49 Q2223.64 237.754 2220.53 237.754 Q2218.33 237.754 2215.88 238.518 Q2213.45 239.282 2210.67 240.833 L2210.67 236.111 Q2213.5 234.976 2215.95 234.398 Q2218.4 233.819 2220.44 233.819 Q2225.81 233.819 2229.01 236.504 Q2232.2 239.189 2232.2 243.68 Q2232.2 245.81 2231.39 247.731 Q2230.6 249.629 2228.5 252.222 Q2227.92 252.893 2224.82 256.111 Q2221.71 259.305 2216.07 265.069 Z\" fill=\"#000000\" fill-rule=\"evenodd\" fill-opacity=\"1\" /></svg>\n"
      ]
     },
     "execution_count": 10,
     "metadata": {},
     "output_type": "execute_result"
    }
   ],
   "source": [
    "plot(vSpace.u, f0)\n",
    "plot!(vSpace.u, M)"
   ]
  },
  {
   "cell_type": "code",
   "execution_count": null,
   "metadata": {},
   "outputs": [],
   "source": []
  }
 ],
 "metadata": {
  "kernelspec": {
   "display_name": "Julia 1.3.1",
   "language": "julia",
   "name": "julia-1.3"
  },
  "language_info": {
   "file_extension": ".jl",
   "mimetype": "application/julia",
   "name": "julia",
   "version": "1.3.1"
  }
 },
 "nbformat": 4,
 "nbformat_minor": 4
}
