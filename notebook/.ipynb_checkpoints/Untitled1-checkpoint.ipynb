{
 "cells": [
  {
   "cell_type": "code",
   "execution_count": 1,
   "metadata": {},
   "outputs": [],
   "source": [
    "using Revise\n",
    "using DifferentialEquations\n",
    "using Flux\n",
    "using DiffEqFlux\n",
    "using Optim\n",
    "using Plots\n",
    "using FileIO\n",
    "using JLD2\n",
    "using OffsetArrays\n",
    "\n",
    "include(\"/mnt/d/Coding/Github/Kinetic.jl/src/Kinetic.jl\")\n",
    "using .Kinetic"
   ]
  },
  {
   "cell_type": "code",
   "execution_count": 2,
   "metadata": {},
   "outputs": [
    {
     "data": {
      "text/plain": [
       "bgk! (generic function with 1 method)"
      ]
     },
     "execution_count": 2,
     "metadata": {},
     "output_type": "execute_result"
    }
   ],
   "source": [
    "function bgk!(df, f, p, t)\n",
    "    g, tau = p\n",
    "    df .= (g .- f) ./ tau\n",
    "end"
   ]
  },
  {
   "cell_type": "code",
   "execution_count": 3,
   "metadata": {},
   "outputs": [
    {
     "name": "stdout",
     "output_type": "stream",
     "text": [
      "case = shock\n",
      "space = 1d1f1v\n",
      "nSpecies = 1\n",
      "interpOrder = 1\n",
      "limiter = vanleer\n",
      "cfl = 0.95\n",
      "maxTime = 250.0\n",
      "x0 = -25.0\n",
      "x1 = 25.0\n",
      "nx = 50\n",
      "pMeshType = uniform\n",
      "nxg = 0\n",
      "umin = -10.0\n",
      "umax = 10.0\n",
      "nu = 36\n",
      "nug = 0\n",
      "vMeshType = rectangle\n",
      "knudsen = 1.0\n",
      "mach = 3.0\n",
      "prandtl = 1.0\n",
      "inK = 0.0\n",
      "omega = 0.5\n",
      "alphaRef = 1.0\n",
      "omegaRef = 0.5\n",
      "tLen = 3\n",
      "nh = 12\n",
      "\n"
     ]
    }
   ],
   "source": [
    "D = read_dict(\"../code/shock/shock1D.txt\")\n",
    "for key in keys(D)\n",
    "    s = Symbol(key)\n",
    "    @eval $s = $(D[key])\n",
    "end"
   ]
  },
  {
   "cell_type": "code",
   "execution_count": 4,
   "metadata": {},
   "outputs": [],
   "source": [
    "γ = 3.\n",
    "set = Setup(case, space, nSpecies, interpOrder, limiter, cfl, maxTime)\n",
    "pSpace = PSpace1D(x0, x1, nx, pMeshType, nxg)\n",
    "μᵣ = ref_vhs_vis(knudsen, alphaRef, omegaRef)\n",
    "gas = GasProperty(knudsen, mach, prandtl, inK, γ, omega, alphaRef, omegaRef, μᵣ)\n",
    "vSpace = VSpace1D(umin, umax, nu, vMeshType, nug)\n",
    "wL, primL, fL, bcL, wR, primR, fR, bcR = ib_rh(mach, γ, vSpace.u)\n",
    "ib = IB1D1F(wL, primL, fL, bcL, wR, primR, fR, bcR)\n",
    "\n",
    "ks = SolverSet(set, pSpace, vSpace, gas, ib, pwd());"
   ]
  },
  {
   "cell_type": "code",
   "execution_count": 5,
   "metadata": {},
   "outputs": [],
   "source": [
    "ctr = OffsetArray{ControlVolume1D1F}(undef, eachindex(ks.pSpace.x))\n",
    "face = Array{Interface1D1F}(undef, ks.pSpace.nx+1)\n",
    "for i in eachindex(ctr)\n",
    "    if i <= ks.pSpace.nx÷2\n",
    "        ctr[i] = ControlVolume1D1F(ks.pSpace.x[i], ks.pSpace.dx[i], Float32.(ks.ib.wL), Float32.(ks.ib.primL), Float32.(ks.ib.fL))\n",
    "    else\n",
    "        ctr[i] = ControlVolume1D1F(ks.pSpace.x[i], ks.pSpace.dx[i], Float32.(ks.ib.wR), Float32.(ks.ib.primR), Float32.(ks.ib.fR))\n",
    "    end\n",
    "end\n",
    "for i=1:ks.pSpace.nx+1\n",
    "    face[i] = Interface1D1F(ks.ib.fL)\n",
    "end"
   ]
  },
  {
   "cell_type": "code",
   "execution_count": 6,
   "metadata": {},
   "outputs": [
    {
     "data": {
      "text/plain": [
       "0.0f0:0.035737388f0:0.071474776f0"
      ]
     },
     "execution_count": 6,
     "metadata": {},
     "output_type": "execute_result"
    }
   ],
   "source": [
    "sos = sound_speed(ks.ib.primR, γ)\n",
    "vmax = ks.vSpace.u1 + sos\n",
    "tmax = vmax / ks.pSpace.dx[1]\n",
    "dt = Float32(ks.set.cfl / tmax)\n",
    "tSpan = (0.f0, dt)\n",
    "tRan = range(tSpan[1], tSpan[2], length=tLen)"
   ]
  },
  {
   "cell_type": "code",
   "execution_count": 7,
   "metadata": {},
   "outputs": [],
   "source": [
    "residual = Array{Float32}(undef, 3)\n",
    "for iter=1:1000\n",
    "    Kinetic.evolve!(ks, ctr, face, dt)\n",
    "    Kinetic.update!(ks, ctr, face, dt, residual)\n",
    "end"
   ]
  },
  {
   "cell_type": "code",
   "execution_count": 8,
   "metadata": {},
   "outputs": [],
   "source": [
    "data_init = [ Float32.(maxwellian(vSpace.u, ib.primL)) |> Array, Float32.(maxwellian(vSpace.u, ib.primR)) |> Array ]\n",
    "data_para = [ [maxwellian(ks.vSpace.u, ks.ib.primL), vhs_collision_time(ks.ib.primL, ks.gas.μᵣ, ks.gas.ω)],\n",
    "              [maxwellian(ks.vSpace.u, ks.ib.primR), vhs_collision_time(ks.ib.primR, ks.gas.μᵣ, ks.gas.ω)] ];\n",
    "\n",
    "data_init = []\n",
    "data_para = []\n",
    "for i=2:49\n",
    "    push!(data_init, ctr[i].f[1:end])\n",
    "    push!(data_para, [maxwellian(ks.vSpace.u, ctr[i].prim), vhs_collision_time(ctr[i].prim, ks.gas.μᵣ, ks.gas.ω)])\n",
    "end"
   ]
  },
  {
   "cell_type": "code",
   "execution_count": 9,
   "metadata": {},
   "outputs": [],
   "source": [
    "prob = ODEProblem(bgk!, data_init[1], tSpan, data_para[1])\n",
    "data_boltz1 = solve(prob, Tsit5(), saveat=tRan) |> Array;\n",
    "\n",
    "prob = ODEProblem(bgk!, data_init[2], tSpan, data_para[2])\n",
    "data_boltz2 = solve(prob, Tsit5(), saveat=tRan) |> Array;\n",
    "\n",
    "data_boltz = [data_boltz1, data_boltz2];\n",
    "\n",
    "data_boltz = []\n",
    "for i in eachindex(data_init)\n",
    "    prob = ODEProblem(bgk!, data_init[i], tSpan, data_para[i])\n",
    "    push!(data_boltz, solve(prob, Tsit5(), saveat=tRan) |> Array)\n",
    "end"
   ]
  },
  {
   "cell_type": "code",
   "execution_count": 10,
   "metadata": {},
   "outputs": [
    {
     "data": {
      "text/plain": [
       "(::NeuralODE{FastChain{Tuple{var\"#3#4\",FastDense{typeof(tanh),DiffEqFlux.var\"#initial_params#75\"{typeof(Flux.glorot_uniform),typeof(Flux.zeros),Int64,Int64}},FastDense{typeof(tanh),DiffEqFlux.var\"#initial_params#75\"{typeof(Flux.glorot_uniform),typeof(Flux.zeros),Int64,Int64}},FastDense{typeof(identity),DiffEqFlux.var\"#initial_params#75\"{typeof(Flux.glorot_uniform),typeof(Flux.zeros),Int64,Int64}}}},Array{Float32,1},Nothing,Tuple{Float32,Float32},Tsit5,Tuple{},Base.Iterators.Pairs{Symbol,StepRangeLen{Float32,Float64,Float64},Tuple{Symbol},NamedTuple{(:saveat,),Tuple{StepRangeLen{Float32,Float64,Float64}}}}}) (generic function with 4 methods)"
      ]
     },
     "execution_count": 10,
     "metadata": {},
     "output_type": "execute_result"
    }
   ],
   "source": [
    "dudt = FastChain( (x, p) -> x.^3,\n",
    "                   FastDense(vSpace.nu, vSpace.nu*10, tanh),\n",
    "                   FastDense(vSpace.nu*10, vSpace.nu*10, tanh),\n",
    "                   FastDense(vSpace.nu*10, vSpace.nu) )\n",
    "n_ode = NeuralODE(dudt, tSpan, Tsit5(), saveat=tRan)"
   ]
  },
  {
   "cell_type": "code",
   "execution_count": 11,
   "metadata": {},
   "outputs": [
    {
     "data": {
      "text/plain": [
       "loss_n_ode (generic function with 1 method)"
      ]
     },
     "execution_count": 11,
     "metadata": {},
     "output_type": "execute_result"
    }
   ],
   "source": [
    "function loss_n_ode(p)\n",
    "    pred = n_ode(data_init[1], p) |> Array\n",
    "\n",
    "    loss = 0.\n",
    "    for i in eachindex(data_init)\n",
    "        loss += sum(abs2, (n_ode(data_init[i], p) |> Array) .- data_boltz[i])\n",
    "    end\n",
    "    \n",
    "    return loss, pred\n",
    "end"
   ]
  },
  {
   "cell_type": "code",
   "execution_count": 12,
   "metadata": {},
   "outputs": [
    {
     "data": {
      "text/plain": [
       "#5 (generic function with 1 method)"
      ]
     },
     "execution_count": 12,
     "metadata": {},
     "output_type": "execute_result"
    }
   ],
   "source": [
    "cb = function (p, l, pred; doplot=false)\n",
    "    display(l)\n",
    "    # plot current prediction against dataset\n",
    "    if doplot\n",
    "        pl = plot(tRan, data_boltz[1][vSpace.nu÷2,:], lw=2, label=\"Exact\")\n",
    "        scatter!(pl, tRan, pred[vSpace.nu÷2,:], lw=2, label=\"NN\")\n",
    "        display(plot(pl))\n",
    "    end\n",
    "    return false\n",
    "end"
   ]
  },
  {
   "cell_type": "code",
   "execution_count": null,
   "metadata": {},
   "outputs": [],
   "source": [
    "res = DiffEqFlux.sciml_train(loss_n_ode, n_ode.p, ADAM(0.002, (0.9, 0.95)), cb=cb, maxiters=200)"
   ]
  }
 ],
 "metadata": {
  "kernelspec": {
   "display_name": "Julia 1.3.1",
   "language": "julia",
   "name": "julia-1.3"
  },
  "language_info": {
   "file_extension": ".jl",
   "mimetype": "application/julia",
   "name": "julia",
   "version": "1.3.1"
  }
 },
 "nbformat": 4,
 "nbformat_minor": 4
}
