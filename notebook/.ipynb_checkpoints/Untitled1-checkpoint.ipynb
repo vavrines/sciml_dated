{
 "cells": [
  {
   "cell_type": "code",
   "execution_count": 1,
   "metadata": {},
   "outputs": [],
   "source": [
    "using Revise\n",
    "using DifferentialEquations\n",
    "using Flux\n",
    "using DiffEqFlux\n",
    "using Optim\n",
    "using Plots\n",
    "using FileIO\n",
    "using JLD2\n",
    "using OffsetArrays\n",
    "using Kinetic"
   ]
  },
  {
   "cell_type": "code",
   "execution_count": 2,
   "metadata": {},
   "outputs": [
    {
     "data": {
      "text/plain": [
       "bgk! (generic function with 1 method)"
      ]
     },
     "execution_count": 2,
     "metadata": {},
     "output_type": "execute_result"
    }
   ],
   "source": [
    "function bgk!(df, f, p, t)\n",
    "    g, tau = p\n",
    "    df .= (g .- f) ./ tau\n",
    "end"
   ]
  },
  {
   "cell_type": "code",
   "execution_count": 3,
   "metadata": {},
   "outputs": [
    {
     "name": "stdout",
     "output_type": "stream",
     "text": [
      "case = shock\n",
      "space = 1d1f1v\n",
      "nSpecies = 1\n",
      "interpOrder = 1\n",
      "limiter = vanleer\n",
      "cfl = 0.95\n",
      "maxTime = 250.0\n",
      "x0 = -25.0\n",
      "x1 = 25.0\n",
      "nx = 50\n",
      "pMeshType = uniform\n",
      "nxg = 0\n",
      "umin = -10.0\n",
      "umax = 10.0\n",
      "nu = 36\n",
      "nug = 0\n",
      "vMeshType = rectangle\n",
      "knudsen = 1.0\n",
      "mach = 2.0\n",
      "prandtl = 1.0\n",
      "inK = 0.0\n",
      "omega = 0.5\n",
      "alphaRef = 1.0\n",
      "omegaRef = 0.5\n",
      "tLen = 5\n",
      "nh = 12\n",
      "\n"
     ]
    }
   ],
   "source": [
    "D = read_dict(\"../code/shock/shock1D.txt\")\n",
    "for key in keys(D)\n",
    "    s = Symbol(key)\n",
    "    @eval $s = $(D[key])\n",
    "end"
   ]
  },
  {
   "cell_type": "code",
   "execution_count": 4,
   "metadata": {},
   "outputs": [],
   "source": [
    "γ = 3.\n",
    "set = Setup(case, space, nSpecies, interpOrder, limiter, cfl, maxTime)\n",
    "pSpace = PSpace1D(x0, x1, nx, pMeshType, nxg)\n",
    "μᵣ = ref_vhs_vis(knudsen, alphaRef, omegaRef)\n",
    "gas = GasProperty(knudsen, mach, prandtl, inK, γ, omega, alphaRef, omegaRef, μᵣ)\n",
    "vSpace = VSpace1D(umin, umax, nu, vMeshType, nug)\n",
    "wL, primL, fL, bcL, wR, primR, fR, bcR = ib_rh(mach, γ, vSpace.u)\n",
    "ib = IB1D1F(wL, primL, fL, bcL, wR, primR, fR, bcR)\n",
    "\n",
    "ks = SolverSet(set, pSpace, vSpace, gas, ib, pwd());"
   ]
  },
  {
   "cell_type": "code",
   "execution_count": 5,
   "metadata": {},
   "outputs": [],
   "source": [
    "ctr = OffsetArray{ControlVolume1D1F}(undef, eachindex(ks.pSpace.x))\n",
    "face = Array{Interface1D1F}(undef, ks.pSpace.nx+1)\n",
    "for i in eachindex(ctr)\n",
    "    if i <= ks.pSpace.nx÷2\n",
    "        ctr[i] = ControlVolume1D1F(ks.pSpace.x[i], ks.pSpace.dx[i], Float32.(ks.ib.wL), Float32.(ks.ib.primL), Float32.(ks.ib.fL))\n",
    "    else\n",
    "        ctr[i] = ControlVolume1D1F(ks.pSpace.x[i], ks.pSpace.dx[i], Float32.(ks.ib.wR), Float32.(ks.ib.primR), Float32.(ks.ib.fR))\n",
    "    end\n",
    "end\n",
    "for i=1:ks.pSpace.nx+1\n",
    "    face[i] = Interface1D1F(ks.ib.fL)\n",
    "end"
   ]
  },
  {
   "cell_type": "code",
   "execution_count": 6,
   "metadata": {},
   "outputs": [
    {
     "data": {
      "text/plain": [
       "0.0f0:0.01935499f0:0.07741996f0"
      ]
     },
     "execution_count": 6,
     "metadata": {},
     "output_type": "execute_result"
    }
   ],
   "source": [
    "sos = sound_speed(ks.ib.primR, γ)\n",
    "vmax = ks.vSpace.u1 + sos\n",
    "tmax = vmax / ks.pSpace.dx[1]\n",
    "dt = Float32(ks.set.cfl / tmax)\n",
    "tSpan = (0.f0, dt)\n",
    "tRan = range(tSpan[1], tSpan[2], length=tLen)"
   ]
  },
  {
   "cell_type": "code",
   "execution_count": 8,
   "metadata": {},
   "outputs": [],
   "source": [
    "residual = Array{Float32}(undef, 3)\n",
    "for iter=1:1000\n",
    "    Kinetic.evolve!(ks, ctr, face, dt)\n",
    "    Kinetic.update!(ks, ctr, face, dt, residual)\n",
    "end"
   ]
  },
  {
   "cell_type": "code",
   "execution_count": 9,
   "metadata": {},
   "outputs": [],
   "source": [
    "X = Array{Float32}(undef, nu, nx);\n",
    "for i in 1:nx\n",
    "    X[:,i] .= ctr[i].f\n",
    "end"
   ]
  },
  {
   "cell_type": "code",
   "execution_count": 10,
   "metadata": {},
   "outputs": [],
   "source": [
    "M = Array{Float32}(undef, nu, nx)\n",
    "τ = Array{Float32}(undef, nx)\n",
    "for i=1:nx\n",
    "    M[:,i] .= maxwellian(ks.vSpace.u, ctr[i].prim)\n",
    "    τ = vhs_collision_time(ctr[i].prim, ks.gas.μᵣ, ks.gas.ω)\n",
    "end\n",
    "\n",
    "data_para = [M, τ];"
   ]
  },
  {
   "cell_type": "code",
   "execution_count": 11,
   "metadata": {},
   "outputs": [],
   "source": [
    "prob = ODEProblem(bgk!, X, tSpan, data_para)\n",
    "Y = solve(prob, Tsit5(), saveat=tRan) |> Array;"
   ]
  },
  {
   "cell_type": "code",
   "execution_count": null,
   "metadata": {},
   "outputs": [],
   "source": []
  },
  {
   "cell_type": "code",
   "execution_count": 27,
   "metadata": {},
   "outputs": [
    {
     "data": {
      "text/plain": [
       "(::NeuralODE{FastChain{Tuple{var\"#11#12\",FastDense{typeof(tanh),DiffEqFlux.var\"#initial_params#75\"{typeof(Flux.glorot_uniform),typeof(Flux.zeros),Int64,Int64}},FastDense{typeof(identity),DiffEqFlux.var\"#initial_params#75\"{typeof(Flux.glorot_uniform),typeof(Flux.zeros),Int64,Int64}}}},Array{Float32,1},Nothing,Tuple{Float32,Float32},Tsit5,Tuple{},Base.Iterators.Pairs{Symbol,StepRangeLen{Float32,Float64,Float64},Tuple{Symbol},NamedTuple{(:saveat,),Tuple{StepRangeLen{Float32,Float64,Float64}}}}}) (generic function with 4 methods)"
      ]
     },
     "execution_count": 27,
     "metadata": {},
     "output_type": "execute_result"
    }
   ],
   "source": [
    "dudt = FastChain( (x, p) -> x.^3,\n",
    "                   FastDense(vSpace.nu, vSpace.nu*16, tanh),\n",
    "                   #FastDense(vSpace.nu*16, vSpace.nu*16, tanh),\n",
    "                   FastDense(vSpace.nu*16, vSpace.nu) )\n",
    "#node = NeuralODE(dudt, tSpan, Tsit5(), saveat=tRan)\n",
    "node = NeuralODE(dudt, tSpan, Tsit5(), saveat=tRan)"
   ]
  },
  {
   "cell_type": "code",
   "execution_count": 28,
   "metadata": {},
   "outputs": [
    {
     "data": {
      "text/plain": [
       "loss_node (generic function with 1 method)"
      ]
     },
     "execution_count": 28,
     "metadata": {},
     "output_type": "execute_result"
    }
   ],
   "source": [
    "function loss_node(p) # without dataset\n",
    "    diff = Array(node(X, p)) .- Y\n",
    "    loss = sum(abs, diff)\n",
    "    return loss\n",
    "end"
   ]
  },
  {
   "cell_type": "code",
   "execution_count": 29,
   "metadata": {},
   "outputs": [
    {
     "data": {
      "text/plain": [
       "#13 (generic function with 1 method)"
      ]
     },
     "execution_count": 29,
     "metadata": {},
     "output_type": "execute_result"
    }
   ],
   "source": [
    "cb = function (p, l)\n",
    "    display(l)\n",
    "    return false\n",
    "end"
   ]
  },
  {
   "cell_type": "code",
   "execution_count": 30,
   "metadata": {
    "scrolled": true
   },
   "outputs": [
    {
     "data": {
      "text/plain": [
       "4.353305f0"
      ]
     },
     "metadata": {},
     "output_type": "display_data"
    },
    {
     "name": "stderr",
     "output_type": "stream",
     "text": [
      "\r",
      "\u001b[32mloss: 4.35:   0%|▎                                        |  ETA: 0:30:33\u001b[39m"
     ]
    },
    {
     "data": {
      "text/plain": [
       "2.9294405f0"
      ]
     },
     "metadata": {},
     "output_type": "display_data"
    },
    {
     "name": "stderr",
     "output_type": "stream",
     "text": [
      "\r",
      "\u001b[32mloss: 2.93:   1%|▍                                        |  ETA: 0:17:46\u001b[39m"
     ]
    },
    {
     "data": {
      "text/plain": [
       "2.624136f0"
      ]
     },
     "metadata": {},
     "output_type": "display_data"
    },
    {
     "name": "stderr",
     "output_type": "stream",
     "text": [
      "\r",
      "\u001b[32mloss: 2.62:   2%|▋                                        |  ETA: 0:13:05\u001b[39m"
     ]
    },
    {
     "data": {
      "text/plain": [
       "2.4982932f0"
      ]
     },
     "metadata": {},
     "output_type": "display_data"
    },
    {
     "name": "stderr",
     "output_type": "stream",
     "text": [
      "\r",
      "\u001b[32mloss: 2.5:   2%|▉                                        |  ETA: 0:11:14\u001b[39m"
     ]
    },
    {
     "data": {
      "text/plain": [
       "2.0734565f0"
      ]
     },
     "metadata": {},
     "output_type": "display_data"
    },
    {
     "name": "stderr",
     "output_type": "stream",
     "text": [
      "\r",
      "\u001b[32mloss: 2.07:   2%|█                                        |  ETA: 0:09:45\u001b[39m"
     ]
    },
    {
     "data": {
      "text/plain": [
       "2.0314748f0"
      ]
     },
     "metadata": {},
     "output_type": "display_data"
    },
    {
     "name": "stderr",
     "output_type": "stream",
     "text": [
      "\r",
      "\u001b[32mloss: 2.03:   3%|█▎                                       |  ETA: 0:09:01\u001b[39m"
     ]
    },
    {
     "data": {
      "text/plain": [
       "1.8988204f0"
      ]
     },
     "metadata": {},
     "output_type": "display_data"
    },
    {
     "name": "stderr",
     "output_type": "stream",
     "text": [
      "\r",
      "\u001b[32mloss: 1.9:   4%|█▍                                       |  ETA: 0:08:25\u001b[39m"
     ]
    },
    {
     "data": {
      "text/plain": [
       "1.7003613f0"
      ]
     },
     "metadata": {},
     "output_type": "display_data"
    },
    {
     "name": "stderr",
     "output_type": "stream",
     "text": [
      "\r",
      "\u001b[32mloss: 1.7:   4%|█▋                                       |  ETA: 0:08:03\u001b[39m"
     ]
    },
    {
     "data": {
      "text/plain": [
       "1.6761394f0"
      ]
     },
     "metadata": {},
     "output_type": "display_data"
    },
    {
     "name": "stderr",
     "output_type": "stream",
     "text": [
      "\r",
      "\u001b[32mloss: 1.68:   4%|█▉                                       |  ETA: 0:07:42\u001b[39m"
     ]
    },
    {
     "data": {
      "text/plain": [
       "1.5322272f0"
      ]
     },
     "metadata": {},
     "output_type": "display_data"
    },
    {
     "name": "stderr",
     "output_type": "stream",
     "text": [
      "\r",
      "\u001b[32mloss: 1.53:   5%|██                                       |  ETA: 0:07:16\u001b[39m"
     ]
    },
    {
     "data": {
      "text/plain": [
       "1.5484159f0"
      ]
     },
     "metadata": {},
     "output_type": "display_data"
    },
    {
     "name": "stderr",
     "output_type": "stream",
     "text": [
      "\r",
      "\u001b[32mloss: 1.55:   6%|██▎                                      |  ETA: 0:07:02\u001b[39m"
     ]
    },
    {
     "data": {
      "text/plain": [
       "1.4736392f0"
      ]
     },
     "metadata": {},
     "output_type": "display_data"
    },
    {
     "name": "stderr",
     "output_type": "stream",
     "text": [
      "\r",
      "\u001b[32mloss: 1.47:   6%|██▌                                      |  ETA: 0:06:47\u001b[39m"
     ]
    },
    {
     "data": {
      "text/plain": [
       "1.451855f0"
      ]
     },
     "metadata": {},
     "output_type": "display_data"
    },
    {
     "name": "stderr",
     "output_type": "stream",
     "text": [
      "\r",
      "\u001b[32mloss: 1.45:   6%|██▋                                      |  ETA: 0:06:35\u001b[39m"
     ]
    },
    {
     "data": {
      "text/plain": [
       "1.4538203f0"
      ]
     },
     "metadata": {},
     "output_type": "display_data"
    },
    {
     "name": "stderr",
     "output_type": "stream",
     "text": [
      "\r",
      "\u001b[32mloss: 1.45:   7%|██▉                                      |  ETA: 0:06:22\u001b[39m"
     ]
    },
    {
     "data": {
      "text/plain": [
       "1.3909801f0"
      ]
     },
     "metadata": {},
     "output_type": "display_data"
    },
    {
     "name": "stderr",
     "output_type": "stream",
     "text": [
      "\r",
      "\u001b[32mloss: 1.39:   8%|███▏                                     |  ETA: 0:06:11\u001b[39m"
     ]
    },
    {
     "data": {
      "text/plain": [
       "1.337937f0"
      ]
     },
     "metadata": {},
     "output_type": "display_data"
    },
    {
     "name": "stderr",
     "output_type": "stream",
     "text": [
      "\r",
      "\u001b[32mloss: 1.34:   8%|███▎                                     |  ETA: 0:06:01\u001b[39m"
     ]
    },
    {
     "data": {
      "text/plain": [
       "1.335091f0"
      ]
     },
     "metadata": {},
     "output_type": "display_data"
    },
    {
     "name": "stderr",
     "output_type": "stream",
     "text": [
      "\r",
      "\u001b[32mloss: 1.34:   8%|███▌                                     |  ETA: 0:05:52\u001b[39m"
     ]
    },
    {
     "data": {
      "text/plain": [
       "1.2846255f0"
      ]
     },
     "metadata": {},
     "output_type": "display_data"
    },
    {
     "name": "stderr",
     "output_type": "stream",
     "text": [
      "\r",
      "\u001b[32mloss: 1.28:   9%|███▊                                     |  ETA: 0:05:43\u001b[39m"
     ]
    },
    {
     "data": {
      "text/plain": [
       "1.2573311f0"
      ]
     },
     "metadata": {},
     "output_type": "display_data"
    },
    {
     "name": "stderr",
     "output_type": "stream",
     "text": [
      "\r",
      "\u001b[32mloss: 1.26:  10%|███▉                                     |  ETA: 0:05:35\u001b[39m"
     ]
    },
    {
     "data": {
      "text/plain": [
       "1.2339693f0"
      ]
     },
     "metadata": {},
     "output_type": "display_data"
    },
    {
     "name": "stderr",
     "output_type": "stream",
     "text": [
      "\r",
      "\u001b[32mloss: 1.23:  10%|████▏                                    |  ETA: 0:05:33\u001b[39m"
     ]
    },
    {
     "data": {
      "text/plain": [
       "1.1782637f0"
      ]
     },
     "metadata": {},
     "output_type": "display_data"
    },
    {
     "name": "stderr",
     "output_type": "stream",
     "text": [
      "\r",
      "\u001b[32mloss: 1.18:  10%|████▎                                    |  ETA: 0:05:28\u001b[39m"
     ]
    },
    {
     "data": {
      "text/plain": [
       "1.1511754f0"
      ]
     },
     "metadata": {},
     "output_type": "display_data"
    },
    {
     "name": "stderr",
     "output_type": "stream",
     "text": [
      "\r",
      "\u001b[32mloss: 1.15:  11%|████▌                                    |  ETA: 0:05:22\u001b[39m"
     ]
    },
    {
     "data": {
      "text/plain": [
       "1.1135079f0"
      ]
     },
     "metadata": {},
     "output_type": "display_data"
    },
    {
     "name": "stderr",
     "output_type": "stream",
     "text": [
      "\r",
      "\u001b[32mloss: 1.11:  12%|████▊                                    |  ETA: 0:05:16\u001b[39m"
     ]
    },
    {
     "data": {
      "text/plain": [
       "1.097751f0"
      ]
     },
     "metadata": {},
     "output_type": "display_data"
    },
    {
     "name": "stderr",
     "output_type": "stream",
     "text": [
      "\r",
      "\u001b[32mloss: 1.1:  12%|████▉                                    |  ETA: 0:05:12\u001b[39m"
     ]
    },
    {
     "data": {
      "text/plain": [
       "1.0716386f0"
      ]
     },
     "metadata": {},
     "output_type": "display_data"
    },
    {
     "name": "stderr",
     "output_type": "stream",
     "text": [
      "\r",
      "\u001b[32mloss: 1.07:  12%|█████▏                                   |  ETA: 0:05:08\u001b[39m"
     ]
    },
    {
     "data": {
      "text/plain": [
       "1.1264927f0"
      ]
     },
     "metadata": {},
     "output_type": "display_data"
    },
    {
     "name": "stderr",
     "output_type": "stream",
     "text": [
      "\r",
      "\u001b[32mloss: 1.13:  13%|█████▍                                   |  ETA: 0:05:03\u001b[39m"
     ]
    },
    {
     "data": {
      "text/plain": [
       "1.1537716f0"
      ]
     },
     "metadata": {},
     "output_type": "display_data"
    },
    {
     "name": "stderr",
     "output_type": "stream",
     "text": [
      "\r",
      "\u001b[32mloss: 1.15:  14%|█████▌                                   |  ETA: 0:04:59\u001b[39m"
     ]
    },
    {
     "data": {
      "text/plain": [
       "1.0769936f0"
      ]
     },
     "metadata": {},
     "output_type": "display_data"
    },
    {
     "name": "stderr",
     "output_type": "stream",
     "text": [
      "\r",
      "\u001b[32mloss: 1.08:  14%|█████▊                                   |  ETA: 0:04:56\u001b[39m"
     ]
    },
    {
     "data": {
      "text/plain": [
       "0.9926765f0"
      ]
     },
     "metadata": {},
     "output_type": "display_data"
    },
    {
     "name": "stderr",
     "output_type": "stream",
     "text": [
      "\r",
      "\u001b[32mloss: 0.993:  14%|██████                                   |  ETA: 0:04:55\u001b[39m"
     ]
    },
    {
     "data": {
      "text/plain": [
       "1.064725f0"
      ]
     },
     "metadata": {},
     "output_type": "display_data"
    },
    {
     "name": "stderr",
     "output_type": "stream",
     "text": [
      "\r",
      "\u001b[32mloss: 1.06:  15%|██████▏                                  |  ETA: 0:04:51\u001b[39m"
     ]
    },
    {
     "data": {
      "text/plain": [
       "1.0523016f0"
      ]
     },
     "metadata": {},
     "output_type": "display_data"
    },
    {
     "name": "stderr",
     "output_type": "stream",
     "text": [
      "\r",
      "\u001b[32mloss: 1.05:  16%|██████▍                                  |  ETA: 0:04:47\u001b[39m"
     ]
    },
    {
     "data": {
      "text/plain": [
       "1.0507212f0"
      ]
     },
     "metadata": {},
     "output_type": "display_data"
    },
    {
     "name": "stderr",
     "output_type": "stream",
     "text": [
      "\r",
      "\u001b[32mloss: 1.05:  16%|██████▌                                  |  ETA: 0:04:46\u001b[39m"
     ]
    },
    {
     "data": {
      "text/plain": [
       "1.0309778f0"
      ]
     },
     "metadata": {},
     "output_type": "display_data"
    },
    {
     "name": "stderr",
     "output_type": "stream",
     "text": [
      "\r",
      "\u001b[32mloss: 1.03:  16%|██████▊                                  |  ETA: 0:04:44\u001b[39m"
     ]
    },
    {
     "data": {
      "text/plain": [
       "1.0213298f0"
      ]
     },
     "metadata": {},
     "output_type": "display_data"
    },
    {
     "name": "stderr",
     "output_type": "stream",
     "text": [
      "\r",
      "\u001b[32mloss: 1.02:  17%|███████                                  |  ETA: 0:04:40\u001b[39m"
     ]
    },
    {
     "data": {
      "text/plain": [
       "0.997278f0"
      ]
     },
     "metadata": {},
     "output_type": "display_data"
    },
    {
     "name": "stderr",
     "output_type": "stream",
     "text": [
      "\r",
      "\u001b[32mloss: 0.997:  18%|███████▏                                 |  ETA: 0:04:37\u001b[39m"
     ]
    },
    {
     "data": {
      "text/plain": [
       "1.0014098f0"
      ]
     },
     "metadata": {},
     "output_type": "display_data"
    },
    {
     "name": "stderr",
     "output_type": "stream",
     "text": [
      "\r",
      "\u001b[32mloss: 1:  18%|███████▍                                 |  ETA: 0:04:34\u001b[39m"
     ]
    },
    {
     "data": {
      "text/plain": [
       "1.019153f0"
      ]
     },
     "metadata": {},
     "output_type": "display_data"
    },
    {
     "name": "stderr",
     "output_type": "stream",
     "text": [
      "\r",
      "\u001b[32mloss: 1.02:  18%|███████▋                                 |  ETA: 0:04:32\u001b[39m"
     ]
    },
    {
     "data": {
      "text/plain": [
       "0.96160907f0"
      ]
     },
     "metadata": {},
     "output_type": "display_data"
    },
    {
     "name": "stderr",
     "output_type": "stream",
     "text": [
      "\r",
      "\u001b[32mloss: 0.962:  19%|███████▊                                 |  ETA: 0:04:29\u001b[39m"
     ]
    },
    {
     "data": {
      "text/plain": [
       "0.9486874f0"
      ]
     },
     "metadata": {},
     "output_type": "display_data"
    },
    {
     "name": "stderr",
     "output_type": "stream",
     "text": [
      "\r",
      "\u001b[32mloss: 0.949:  20%|████████                                 |  ETA: 0:04:26\u001b[39m"
     ]
    },
    {
     "data": {
      "text/plain": [
       "0.9494151f0"
      ]
     },
     "metadata": {},
     "output_type": "display_data"
    },
    {
     "name": "stderr",
     "output_type": "stream",
     "text": [
      "\r",
      "\u001b[32mloss: 0.949:  20%|████████▎                                |  ETA: 0:04:23\u001b[39m"
     ]
    },
    {
     "data": {
      "text/plain": [
       "0.9411298f0"
      ]
     },
     "metadata": {},
     "output_type": "display_data"
    },
    {
     "name": "stderr",
     "output_type": "stream",
     "text": [
      "\r",
      "\u001b[32mloss: 0.941:  20%|████████▍                                |  ETA: 0:04:22\u001b[39m"
     ]
    },
    {
     "data": {
      "text/plain": [
       "0.91021603f0"
      ]
     },
     "metadata": {},
     "output_type": "display_data"
    },
    {
     "name": "stderr",
     "output_type": "stream",
     "text": [
      "\r",
      "\u001b[32mloss: 0.91:  21%|████████▋                                |  ETA: 0:04:19\u001b[39m"
     ]
    },
    {
     "data": {
      "text/plain": [
       "0.8845708f0"
      ]
     },
     "metadata": {},
     "output_type": "display_data"
    },
    {
     "name": "stderr",
     "output_type": "stream",
     "text": [
      "\r",
      "\u001b[32mloss: 0.885:  22%|████████▉                                |  ETA: 0:04:16\u001b[39m"
     ]
    },
    {
     "data": {
      "text/plain": [
       "0.87616885f0"
      ]
     },
     "metadata": {},
     "output_type": "display_data"
    },
    {
     "name": "stderr",
     "output_type": "stream",
     "text": [
      "\r",
      "\u001b[32mloss: 0.876:  22%|█████████                                |  ETA: 0:04:14\u001b[39m"
     ]
    },
    {
     "data": {
      "text/plain": [
       "0.91097504f0"
      ]
     },
     "metadata": {},
     "output_type": "display_data"
    },
    {
     "name": "stderr",
     "output_type": "stream",
     "text": [
      "\r",
      "\u001b[32mloss: 0.911:  22%|█████████▎                               |  ETA: 0:04:12\u001b[39m"
     ]
    },
    {
     "data": {
      "text/plain": [
       "0.8941909f0"
      ]
     },
     "metadata": {},
     "output_type": "display_data"
    },
    {
     "name": "stderr",
     "output_type": "stream",
     "text": [
      "\r",
      "\u001b[32mloss: 0.894:  23%|█████████▍                               |  ETA: 0:04:09\u001b[39m"
     ]
    },
    {
     "data": {
      "text/plain": [
       "0.8835452f0"
      ]
     },
     "metadata": {},
     "output_type": "display_data"
    },
    {
     "name": "stderr",
     "output_type": "stream",
     "text": [
      "\r",
      "\u001b[32mloss: 0.884:  24%|█████████▋                               |  ETA: 0:04:06\u001b[39m"
     ]
    },
    {
     "data": {
      "text/plain": [
       "0.9118974f0"
      ]
     },
     "metadata": {},
     "output_type": "display_data"
    },
    {
     "name": "stderr",
     "output_type": "stream",
     "text": [
      "\r",
      "\u001b[32mloss: 0.912:  24%|█████████▉                               |  ETA: 0:04:05\u001b[39m"
     ]
    },
    {
     "data": {
      "text/plain": [
       "0.9010267f0"
      ]
     },
     "metadata": {},
     "output_type": "display_data"
    },
    {
     "name": "stderr",
     "output_type": "stream",
     "text": [
      "\r",
      "\u001b[32mloss: 0.901:  24%|██████████                               |  ETA: 0:04:03\u001b[39m"
     ]
    },
    {
     "data": {
      "text/plain": [
       "0.9413933f0"
      ]
     },
     "metadata": {},
     "output_type": "display_data"
    },
    {
     "name": "stderr",
     "output_type": "stream",
     "text": [
      "\r",
      "\u001b[32mloss: 0.941:  25%|██████████▎                              |  ETA: 0:04:00\u001b[39m"
     ]
    },
    {
     "data": {
      "text/plain": [
       "0.91692513f0"
      ]
     },
     "metadata": {},
     "output_type": "display_data"
    },
    {
     "name": "stderr",
     "output_type": "stream",
     "text": [
      "\r",
      "\u001b[32mloss: 0.917:  26%|██████████▌                              |  ETA: 0:03:58\u001b[39m"
     ]
    },
    {
     "data": {
      "text/plain": [
       "0.89326495f0"
      ]
     },
     "metadata": {},
     "output_type": "display_data"
    },
    {
     "name": "stderr",
     "output_type": "stream",
     "text": [
      "\r",
      "\u001b[32mloss: 0.893:  26%|██████████▋                              |  ETA: 0:03:56\u001b[39m"
     ]
    },
    {
     "data": {
      "text/plain": [
       "0.89154017f0"
      ]
     },
     "metadata": {},
     "output_type": "display_data"
    },
    {
     "name": "stderr",
     "output_type": "stream",
     "text": [
      "\r",
      "\u001b[32mloss: 0.892:  26%|██████████▉                              |  ETA: 0:03:55\u001b[39m"
     ]
    },
    {
     "data": {
      "text/plain": [
       "0.85924876f0"
      ]
     },
     "metadata": {},
     "output_type": "display_data"
    },
    {
     "name": "stderr",
     "output_type": "stream",
     "text": [
      "\r",
      "\u001b[32mloss: 0.859:  27%|███████████▏                             |  ETA: 0:03:53\u001b[39m"
     ]
    },
    {
     "data": {
      "text/plain": [
       "0.8389427f0"
      ]
     },
     "metadata": {},
     "output_type": "display_data"
    },
    {
     "name": "stderr",
     "output_type": "stream",
     "text": [
      "\r",
      "\u001b[32mloss: 0.839:  28%|███████████▎                             |  ETA: 0:03:50\u001b[39m"
     ]
    },
    {
     "data": {
      "text/plain": [
       "0.8681353f0"
      ]
     },
     "metadata": {},
     "output_type": "display_data"
    },
    {
     "name": "stderr",
     "output_type": "stream",
     "text": [
      "\r",
      "\u001b[32mloss: 0.868:  28%|███████████▌                             |  ETA: 0:03:49\u001b[39m"
     ]
    },
    {
     "data": {
      "text/plain": [
       "0.868768f0"
      ]
     },
     "metadata": {},
     "output_type": "display_data"
    },
    {
     "name": "stderr",
     "output_type": "stream",
     "text": [
      "\r",
      "\u001b[32mloss: 0.869:  28%|███████████▋                             |  ETA: 0:03:47\u001b[39m"
     ]
    },
    {
     "data": {
      "text/plain": [
       "0.87759954f0"
      ]
     },
     "metadata": {},
     "output_type": "display_data"
    },
    {
     "name": "stderr",
     "output_type": "stream",
     "text": [
      "\r",
      "\u001b[32mloss: 0.878:  29%|███████████▉                             |  ETA: 0:03:45\u001b[39m"
     ]
    },
    {
     "data": {
      "text/plain": [
       "0.92464256f0"
      ]
     },
     "metadata": {},
     "output_type": "display_data"
    },
    {
     "name": "stderr",
     "output_type": "stream",
     "text": [
      "\r",
      "\u001b[32mloss: 0.925:  30%|████████████▏                            |  ETA: 0:03:43\u001b[39m"
     ]
    },
    {
     "data": {
      "text/plain": [
       "0.8939275f0"
      ]
     },
     "metadata": {},
     "output_type": "display_data"
    },
    {
     "name": "stderr",
     "output_type": "stream",
     "text": [
      "\r",
      "\u001b[32mloss: 0.894:  30%|████████████▎                            |  ETA: 0:03:42\u001b[39m"
     ]
    },
    {
     "data": {
      "text/plain": [
       "0.900622f0"
      ]
     },
     "metadata": {},
     "output_type": "display_data"
    },
    {
     "name": "stderr",
     "output_type": "stream",
     "text": [
      "\r",
      "\u001b[32mloss: 0.901:  30%|████████████▌                            |  ETA: 0:03:40\u001b[39m"
     ]
    },
    {
     "data": {
      "text/plain": [
       "0.8966217f0"
      ]
     },
     "metadata": {},
     "output_type": "display_data"
    },
    {
     "name": "stderr",
     "output_type": "stream",
     "text": [
      "\r",
      "\u001b[32mloss: 0.897:  31%|████████████▊                            |  ETA: 0:03:38\u001b[39m"
     ]
    },
    {
     "data": {
      "text/plain": [
       "0.9124429f0"
      ]
     },
     "metadata": {},
     "output_type": "display_data"
    },
    {
     "name": "stderr",
     "output_type": "stream",
     "text": [
      "\r",
      "\u001b[32mloss: 0.912:  32%|████████████▉                            |  ETA: 0:03:36\u001b[39m"
     ]
    },
    {
     "data": {
      "text/plain": [
       "0.9038443f0"
      ]
     },
     "metadata": {},
     "output_type": "display_data"
    },
    {
     "name": "stderr",
     "output_type": "stream",
     "text": [
      "\r",
      "\u001b[32mloss: 0.904:  32%|█████████████▏                           |  ETA: 0:03:35\u001b[39m"
     ]
    },
    {
     "data": {
      "text/plain": [
       "0.9106789f0"
      ]
     },
     "metadata": {},
     "output_type": "display_data"
    },
    {
     "name": "stderr",
     "output_type": "stream",
     "text": [
      "\r",
      "\u001b[32mloss: 0.911:  32%|█████████████▍                           |  ETA: 0:03:33\u001b[39m"
     ]
    },
    {
     "data": {
      "text/plain": [
       "0.87437534f0"
      ]
     },
     "metadata": {},
     "output_type": "display_data"
    },
    {
     "name": "stderr",
     "output_type": "stream",
     "text": [
      "\r",
      "\u001b[32mloss: 0.874:  33%|█████████████▌                           |  ETA: 0:03:31\u001b[39m"
     ]
    },
    {
     "data": {
      "text/plain": [
       "0.90692455f0"
      ]
     },
     "metadata": {},
     "output_type": "display_data"
    },
    {
     "name": "stderr",
     "output_type": "stream",
     "text": [
      "\r",
      "\u001b[32mloss: 0.907:  34%|█████████████▊                           |  ETA: 0:03:29\u001b[39m"
     ]
    },
    {
     "data": {
      "text/plain": [
       "0.88843745f0"
      ]
     },
     "metadata": {},
     "output_type": "display_data"
    },
    {
     "name": "stderr",
     "output_type": "stream",
     "text": [
      "\r",
      "\u001b[32mloss: 0.888:  34%|██████████████                           |  ETA: 0:03:28\u001b[39m"
     ]
    },
    {
     "data": {
      "text/plain": [
       "0.8601285f0"
      ]
     },
     "metadata": {},
     "output_type": "display_data"
    },
    {
     "name": "stderr",
     "output_type": "stream",
     "text": [
      "\r",
      "\u001b[32mloss: 0.86:  34%|██████████████▏                          |  ETA: 0:03:26\u001b[39m"
     ]
    },
    {
     "data": {
      "text/plain": [
       "0.89138174f0"
      ]
     },
     "metadata": {},
     "output_type": "display_data"
    },
    {
     "name": "stderr",
     "output_type": "stream",
     "text": [
      "\r",
      "\u001b[32mloss: 0.891:  35%|██████████████▍                          |  ETA: 0:03:25\u001b[39m"
     ]
    },
    {
     "data": {
      "text/plain": [
       "0.8959772f0"
      ]
     },
     "metadata": {},
     "output_type": "display_data"
    },
    {
     "name": "stderr",
     "output_type": "stream",
     "text": [
      "\r",
      "\u001b[32mloss: 0.896:  36%|██████████████▌                          |  ETA: 0:03:23\u001b[39m"
     ]
    },
    {
     "data": {
      "text/plain": [
       "0.90093607f0"
      ]
     },
     "metadata": {},
     "output_type": "display_data"
    },
    {
     "name": "stderr",
     "output_type": "stream",
     "text": [
      "\r",
      "\u001b[32mloss: 0.901:  36%|██████████████▊                          |  ETA: 0:03:21\u001b[39m"
     ]
    },
    {
     "data": {
      "text/plain": [
       "0.90047735f0"
      ]
     },
     "metadata": {},
     "output_type": "display_data"
    },
    {
     "name": "stderr",
     "output_type": "stream",
     "text": [
      "\r",
      "\u001b[32mloss: 0.9:  36%|███████████████                          |  ETA: 0:03:19\u001b[39m"
     ]
    },
    {
     "data": {
      "text/plain": [
       "0.8890536f0"
      ]
     },
     "metadata": {},
     "output_type": "display_data"
    },
    {
     "name": "stderr",
     "output_type": "stream",
     "text": [
      "\r",
      "\u001b[32mloss: 0.889:  37%|███████████████▏                         |  ETA: 0:03:17\u001b[39m"
     ]
    },
    {
     "data": {
      "text/plain": [
       "0.9358962f0"
      ]
     },
     "metadata": {},
     "output_type": "display_data"
    },
    {
     "name": "stderr",
     "output_type": "stream",
     "text": [
      "\r",
      "\u001b[32mloss: 0.936:  38%|███████████████▍                         |  ETA: 0:03:15\u001b[39m"
     ]
    },
    {
     "data": {
      "text/plain": [
       "0.89477843f0"
      ]
     },
     "metadata": {},
     "output_type": "display_data"
    },
    {
     "name": "stderr",
     "output_type": "stream",
     "text": [
      "\r",
      "\u001b[32mloss: 0.895:  38%|███████████████▋                         |  ETA: 0:03:14\u001b[39m"
     ]
    },
    {
     "data": {
      "text/plain": [
       "0.8646616f0"
      ]
     },
     "metadata": {},
     "output_type": "display_data"
    },
    {
     "name": "stderr",
     "output_type": "stream",
     "text": [
      "\r",
      "\u001b[32mloss: 0.865:  38%|███████████████▊                         |  ETA: 0:03:12\u001b[39m"
     ]
    },
    {
     "data": {
      "text/plain": [
       "0.8580321f0"
      ]
     },
     "metadata": {},
     "output_type": "display_data"
    },
    {
     "name": "stderr",
     "output_type": "stream",
     "text": [
      "\r",
      "\u001b[32mloss: 0.858:  39%|████████████████                         |  ETA: 0:03:10\u001b[39m"
     ]
    },
    {
     "data": {
      "text/plain": [
       "0.909374f0"
      ]
     },
     "metadata": {},
     "output_type": "display_data"
    },
    {
     "name": "stderr",
     "output_type": "stream",
     "text": [
      "\r",
      "\u001b[32mloss: 0.909:  40%|████████████████▎                        |  ETA: 0:03:08\u001b[39m"
     ]
    },
    {
     "data": {
      "text/plain": [
       "0.91256464f0"
      ]
     },
     "metadata": {},
     "output_type": "display_data"
    },
    {
     "name": "stderr",
     "output_type": "stream",
     "text": [
      "\r",
      "\u001b[32mloss: 0.913:  40%|████████████████▍                        |  ETA: 0:03:07\u001b[39m"
     ]
    },
    {
     "data": {
      "text/plain": [
       "0.92699635f0"
      ]
     },
     "metadata": {},
     "output_type": "display_data"
    },
    {
     "name": "stderr",
     "output_type": "stream",
     "text": [
      "\r",
      "\u001b[32mloss: 0.927:  40%|████████████████▋                        |  ETA: 0:03:05\u001b[39m"
     ]
    },
    {
     "data": {
      "text/plain": [
       "0.87767744f0"
      ]
     },
     "metadata": {},
     "output_type": "display_data"
    },
    {
     "name": "stderr",
     "output_type": "stream",
     "text": [
      "\r",
      "\u001b[32mloss: 0.878:  41%|████████████████▊                        |  ETA: 0:03:03\u001b[39m"
     ]
    },
    {
     "data": {
      "text/plain": [
       "0.9165845f0"
      ]
     },
     "metadata": {},
     "output_type": "display_data"
    },
    {
     "name": "stderr",
     "output_type": "stream",
     "text": [
      "\r",
      "\u001b[32mloss: 0.917:  42%|█████████████████                        |  ETA: 0:03:02\u001b[39m"
     ]
    },
    {
     "data": {
      "text/plain": [
       "0.9479208f0"
      ]
     },
     "metadata": {},
     "output_type": "display_data"
    },
    {
     "name": "stderr",
     "output_type": "stream",
     "text": [
      "\r",
      "\u001b[32mloss: 0.948:  42%|█████████████████▎                       |  ETA: 0:03:00\u001b[39m"
     ]
    },
    {
     "data": {
      "text/plain": [
       "0.92558455f0"
      ]
     },
     "metadata": {},
     "output_type": "display_data"
    },
    {
     "name": "stderr",
     "output_type": "stream",
     "text": [
      "\r",
      "\u001b[32mloss: 0.926:  42%|█████████████████▍                       |  ETA: 0:02:59\u001b[39m"
     ]
    },
    {
     "data": {
      "text/plain": [
       "0.9163213f0"
      ]
     },
     "metadata": {},
     "output_type": "display_data"
    },
    {
     "name": "stderr",
     "output_type": "stream",
     "text": [
      "\r",
      "\u001b[32mloss: 0.916:  43%|█████████████████▋                       |  ETA: 0:02:57\u001b[39m"
     ]
    },
    {
     "data": {
      "text/plain": [
       "0.87222034f0"
      ]
     },
     "metadata": {},
     "output_type": "display_data"
    },
    {
     "name": "stderr",
     "output_type": "stream",
     "text": [
      "\r",
      "\u001b[32mloss: 0.872:  44%|█████████████████▉                       |  ETA: 0:02:55\u001b[39m"
     ]
    },
    {
     "data": {
      "text/plain": [
       "0.88947845f0"
      ]
     },
     "metadata": {},
     "output_type": "display_data"
    },
    {
     "name": "stderr",
     "output_type": "stream",
     "text": [
      "\r",
      "\u001b[32mloss: 0.889:  44%|██████████████████                       |  ETA: 0:02:54\u001b[39m"
     ]
    },
    {
     "data": {
      "text/plain": [
       "0.92269444f0"
      ]
     },
     "metadata": {},
     "output_type": "display_data"
    },
    {
     "name": "stderr",
     "output_type": "stream",
     "text": [
      "\r",
      "\u001b[32mloss: 0.923:  44%|██████████████████▎                      |  ETA: 0:02:52\u001b[39m"
     ]
    },
    {
     "data": {
      "text/plain": [
       "0.89027655f0"
      ]
     },
     "metadata": {},
     "output_type": "display_data"
    },
    {
     "name": "stderr",
     "output_type": "stream",
     "text": [
      "\r",
      "\u001b[32mloss: 0.89:  45%|██████████████████▌                      |  ETA: 0:02:51\u001b[39m"
     ]
    },
    {
     "data": {
      "text/plain": [
       "0.86640644f0"
      ]
     },
     "metadata": {},
     "output_type": "display_data"
    },
    {
     "name": "stderr",
     "output_type": "stream",
     "text": [
      "\r",
      "\u001b[32mloss: 0.866:  46%|██████████████████▋                      |  ETA: 0:02:49\u001b[39m"
     ]
    },
    {
     "data": {
      "text/plain": [
       "0.8922437f0"
      ]
     },
     "metadata": {},
     "output_type": "display_data"
    },
    {
     "name": "stderr",
     "output_type": "stream",
     "text": [
      "\r",
      "\u001b[32mloss: 0.892:  46%|██████████████████▉                      |  ETA: 0:02:48\u001b[39m"
     ]
    },
    {
     "data": {
      "text/plain": [
       "0.82540715f0"
      ]
     },
     "metadata": {},
     "output_type": "display_data"
    },
    {
     "name": "stderr",
     "output_type": "stream",
     "text": [
      "\r",
      "\u001b[32mloss: 0.825:  46%|███████████████████▏                     |  ETA: 0:02:46\u001b[39m"
     ]
    },
    {
     "data": {
      "text/plain": [
       "0.84499484f0"
      ]
     },
     "metadata": {},
     "output_type": "display_data"
    },
    {
     "name": "stderr",
     "output_type": "stream",
     "text": [
      "\r",
      "\u001b[32mloss: 0.845:  47%|███████████████████▎                     |  ETA: 0:02:44\u001b[39m"
     ]
    },
    {
     "data": {
      "text/plain": [
       "0.88856953f0"
      ]
     },
     "metadata": {},
     "output_type": "display_data"
    },
    {
     "name": "stderr",
     "output_type": "stream",
     "text": [
      "\r",
      "\u001b[32mloss: 0.889:  48%|███████████████████▌                     |  ETA: 0:02:42\u001b[39m"
     ]
    },
    {
     "data": {
      "text/plain": [
       "0.8748016f0"
      ]
     },
     "metadata": {},
     "output_type": "display_data"
    },
    {
     "name": "stderr",
     "output_type": "stream",
     "text": [
      "\r",
      "\u001b[32mloss: 0.875:  48%|███████████████████▋                     |  ETA: 0:02:41\u001b[39m"
     ]
    },
    {
     "data": {
      "text/plain": [
       "0.87219596f0"
      ]
     },
     "metadata": {},
     "output_type": "display_data"
    },
    {
     "name": "stderr",
     "output_type": "stream",
     "text": [
      "\r",
      "\u001b[32mloss: 0.872:  48%|███████████████████▉                     |  ETA: 0:02:39\u001b[39m"
     ]
    },
    {
     "data": {
      "text/plain": [
       "0.8267441f0"
      ]
     },
     "metadata": {},
     "output_type": "display_data"
    },
    {
     "name": "stderr",
     "output_type": "stream",
     "text": [
      "\r",
      "\u001b[32mloss: 0.827:  49%|████████████████████▏                    |  ETA: 0:02:38\u001b[39m"
     ]
    },
    {
     "data": {
      "text/plain": [
       "0.8676102f0"
      ]
     },
     "metadata": {},
     "output_type": "display_data"
    },
    {
     "name": "stderr",
     "output_type": "stream",
     "text": [
      "\r",
      "\u001b[32mloss: 0.868:  50%|████████████████████▎                    |  ETA: 0:02:36\u001b[39m"
     ]
    },
    {
     "data": {
      "text/plain": [
       "0.86843497f0"
      ]
     },
     "metadata": {},
     "output_type": "display_data"
    },
    {
     "name": "stderr",
     "output_type": "stream",
     "text": [
      "\r",
      "\u001b[32mloss: 0.868:  50%|████████████████████▌                    |  ETA: 0:02:34\u001b[39m"
     ]
    },
    {
     "data": {
      "text/plain": [
       "0.77994627f0"
      ]
     },
     "metadata": {},
     "output_type": "display_data"
    },
    {
     "name": "stderr",
     "output_type": "stream",
     "text": [
      "\r",
      "\u001b[32mloss: 0.78:  50%|████████████████████▊                    |  ETA: 0:02:33\u001b[39m"
     ]
    },
    {
     "data": {
      "text/plain": [
       "0.8562498f0"
      ]
     },
     "metadata": {},
     "output_type": "display_data"
    },
    {
     "name": "stderr",
     "output_type": "stream",
     "text": [
      "\r",
      "\u001b[32mloss: 0.856:  51%|████████████████████▉                    |  ETA: 0:02:31\u001b[39m"
     ]
    },
    {
     "data": {
      "text/plain": [
       "0.88722014f0"
      ]
     },
     "metadata": {},
     "output_type": "display_data"
    },
    {
     "name": "stderr",
     "output_type": "stream",
     "text": [
      "\r",
      "\u001b[32mloss: 0.887:  52%|█████████████████████▏                   |  ETA: 0:02:30\u001b[39m"
     ]
    },
    {
     "data": {
      "text/plain": [
       "0.8103192f0"
      ]
     },
     "metadata": {},
     "output_type": "display_data"
    },
    {
     "name": "stderr",
     "output_type": "stream",
     "text": [
      "\r",
      "\u001b[32mloss: 0.81:  52%|█████████████████████▍                   |  ETA: 0:02:28\u001b[39m"
     ]
    },
    {
     "data": {
      "text/plain": [
       "0.8182807f0"
      ]
     },
     "metadata": {},
     "output_type": "display_data"
    },
    {
     "name": "stderr",
     "output_type": "stream",
     "text": [
      "\r",
      "\u001b[32mloss: 0.818:  52%|█████████████████████▌                   |  ETA: 0:02:27\u001b[39m"
     ]
    },
    {
     "data": {
      "text/plain": [
       "0.8110763f0"
      ]
     },
     "metadata": {},
     "output_type": "display_data"
    },
    {
     "name": "stderr",
     "output_type": "stream",
     "text": [
      "\r",
      "\u001b[32mloss: 0.811:  53%|█████████████████████▊                   |  ETA: 0:02:25\u001b[39m"
     ]
    },
    {
     "data": {
      "text/plain": [
       "0.8241281f0"
      ]
     },
     "metadata": {},
     "output_type": "display_data"
    },
    {
     "name": "stderr",
     "output_type": "stream",
     "text": [
      "\r",
      "\u001b[32mloss: 0.824:  54%|█████████████████████▉                   |  ETA: 0:02:24\u001b[39m"
     ]
    },
    {
     "data": {
      "text/plain": [
       "0.89471096f0"
      ]
     },
     "metadata": {},
     "output_type": "display_data"
    },
    {
     "name": "stderr",
     "output_type": "stream",
     "text": [
      "\r",
      "\u001b[32mloss: 0.895:  54%|██████████████████████▏                  |  ETA: 0:02:22\u001b[39m"
     ]
    },
    {
     "data": {
      "text/plain": [
       "0.8615871f0"
      ]
     },
     "metadata": {},
     "output_type": "display_data"
    },
    {
     "name": "stderr",
     "output_type": "stream",
     "text": [
      "\r",
      "\u001b[32mloss: 0.862:  54%|██████████████████████▍                  |  ETA: 0:02:21\u001b[39m"
     ]
    },
    {
     "data": {
      "text/plain": [
       "0.82641083f0"
      ]
     },
     "metadata": {},
     "output_type": "display_data"
    },
    {
     "name": "stderr",
     "output_type": "stream",
     "text": [
      "\r",
      "\u001b[32mloss: 0.826:  55%|██████████████████████▌                  |  ETA: 0:02:19\u001b[39m"
     ]
    },
    {
     "data": {
      "text/plain": [
       "0.8692492f0"
      ]
     },
     "metadata": {},
     "output_type": "display_data"
    },
    {
     "name": "stderr",
     "output_type": "stream",
     "text": [
      "\r",
      "\u001b[32mloss: 0.869:  56%|██████████████████████▊                  |  ETA: 0:02:18\u001b[39m"
     ]
    },
    {
     "data": {
      "text/plain": [
       "0.8590903f0"
      ]
     },
     "metadata": {},
     "output_type": "display_data"
    },
    {
     "name": "stderr",
     "output_type": "stream",
     "text": [
      "\r",
      "\u001b[32mloss: 0.859:  56%|███████████████████████                  |  ETA: 0:02:16\u001b[39m"
     ]
    },
    {
     "data": {
      "text/plain": [
       "0.855724f0"
      ]
     },
     "metadata": {},
     "output_type": "display_data"
    },
    {
     "name": "stderr",
     "output_type": "stream",
     "text": [
      "\r",
      "\u001b[32mloss: 0.856:  56%|███████████████████████▏                 |  ETA: 0:02:15\u001b[39m"
     ]
    },
    {
     "data": {
      "text/plain": [
       "0.84819824f0"
      ]
     },
     "metadata": {},
     "output_type": "display_data"
    },
    {
     "name": "stderr",
     "output_type": "stream",
     "text": [
      "\r",
      "\u001b[32mloss: 0.848:  57%|███████████████████████▍                 |  ETA: 0:02:13\u001b[39m"
     ]
    },
    {
     "data": {
      "text/plain": [
       "0.8444383f0"
      ]
     },
     "metadata": {},
     "output_type": "display_data"
    },
    {
     "name": "stderr",
     "output_type": "stream",
     "text": [
      "\r",
      "\u001b[32mloss: 0.844:  58%|███████████████████████▋                 |  ETA: 0:02:12\u001b[39m"
     ]
    },
    {
     "data": {
      "text/plain": [
       "0.8483948f0"
      ]
     },
     "metadata": {},
     "output_type": "display_data"
    },
    {
     "name": "stderr",
     "output_type": "stream",
     "text": [
      "\r",
      "\u001b[32mloss: 0.848:  58%|███████████████████████▊                 |  ETA: 0:02:10\u001b[39m"
     ]
    },
    {
     "data": {
      "text/plain": [
       "0.8212459f0"
      ]
     },
     "metadata": {},
     "output_type": "display_data"
    },
    {
     "name": "stderr",
     "output_type": "stream",
     "text": [
      "\r",
      "\u001b[32mloss: 0.821:  58%|████████████████████████                 |  ETA: 0:02:09\u001b[39m"
     ]
    },
    {
     "data": {
      "text/plain": [
       "0.82965034f0"
      ]
     },
     "metadata": {},
     "output_type": "display_data"
    },
    {
     "name": "stderr",
     "output_type": "stream",
     "text": [
      "\r",
      "\u001b[32mloss: 0.83:  59%|████████████████████████▎                |  ETA: 0:02:07\u001b[39m"
     ]
    },
    {
     "data": {
      "text/plain": [
       "0.82670355f0"
      ]
     },
     "metadata": {},
     "output_type": "display_data"
    },
    {
     "name": "stderr",
     "output_type": "stream",
     "text": [
      "\r",
      "\u001b[32mloss: 0.827:  60%|████████████████████████▍                |  ETA: 0:02:06\u001b[39m"
     ]
    },
    {
     "data": {
      "text/plain": [
       "0.8198347f0"
      ]
     },
     "metadata": {},
     "output_type": "display_data"
    },
    {
     "name": "stderr",
     "output_type": "stream",
     "text": [
      "\r",
      "\u001b[32mloss: 0.82:  60%|████████████████████████▋                |  ETA: 0:02:04\u001b[39m"
     ]
    },
    {
     "data": {
      "text/plain": [
       "0.84256905f0"
      ]
     },
     "metadata": {},
     "output_type": "display_data"
    },
    {
     "name": "stderr",
     "output_type": "stream",
     "text": [
      "\r",
      "\u001b[32mloss: 0.843:  60%|████████████████████████▊                |  ETA: 0:02:03\u001b[39m"
     ]
    },
    {
     "data": {
      "text/plain": [
       "0.84937304f0"
      ]
     },
     "metadata": {},
     "output_type": "display_data"
    },
    {
     "name": "stderr",
     "output_type": "stream",
     "text": [
      "\r",
      "\u001b[32mloss: 0.849:  61%|█████████████████████████                |  ETA: 0:02:01\u001b[39m"
     ]
    },
    {
     "data": {
      "text/plain": [
       "0.85652006f0"
      ]
     },
     "metadata": {},
     "output_type": "display_data"
    },
    {
     "name": "stderr",
     "output_type": "stream",
     "text": [
      "\r",
      "\u001b[32mloss: 0.857:  62%|█████████████████████████▎               |  ETA: 0:02:00\u001b[39m"
     ]
    },
    {
     "data": {
      "text/plain": [
       "0.86269677f0"
      ]
     },
     "metadata": {},
     "output_type": "display_data"
    },
    {
     "name": "stderr",
     "output_type": "stream",
     "text": [
      "\r",
      "\u001b[32mloss: 0.863:  62%|█████████████████████████▍               |  ETA: 0:01:58\u001b[39m"
     ]
    },
    {
     "data": {
      "text/plain": [
       "0.87552536f0"
      ]
     },
     "metadata": {},
     "output_type": "display_data"
    },
    {
     "name": "stderr",
     "output_type": "stream",
     "text": [
      "\r",
      "\u001b[32mloss: 0.876:  62%|█████████████████████████▋               |  ETA: 0:01:56\u001b[39m"
     ]
    },
    {
     "data": {
      "text/plain": [
       "0.8805262f0"
      ]
     },
     "metadata": {},
     "output_type": "display_data"
    },
    {
     "name": "stderr",
     "output_type": "stream",
     "text": [
      "\r",
      "\u001b[32mloss: 0.881:  63%|█████████████████████████▉               |  ETA: 0:01:55\u001b[39m"
     ]
    },
    {
     "data": {
      "text/plain": [
       "0.83579004f0"
      ]
     },
     "metadata": {},
     "output_type": "display_data"
    },
    {
     "name": "stderr",
     "output_type": "stream",
     "text": [
      "\r",
      "\u001b[32mloss: 0.836:  64%|██████████████████████████               |  ETA: 0:01:53\u001b[39m"
     ]
    },
    {
     "data": {
      "text/plain": [
       "0.8579322f0"
      ]
     },
     "metadata": {},
     "output_type": "display_data"
    },
    {
     "name": "stderr",
     "output_type": "stream",
     "text": [
      "\r",
      "\u001b[32mloss: 0.858:  64%|██████████████████████████▎              |  ETA: 0:01:51\u001b[39m"
     ]
    },
    {
     "data": {
      "text/plain": [
       "0.8754325f0"
      ]
     },
     "metadata": {},
     "output_type": "display_data"
    },
    {
     "name": "stderr",
     "output_type": "stream",
     "text": [
      "\r",
      "\u001b[32mloss: 0.875:  64%|██████████████████████████▌              |  ETA: 0:01:50\u001b[39m"
     ]
    },
    {
     "data": {
      "text/plain": [
       "0.8704995f0"
      ]
     },
     "metadata": {},
     "output_type": "display_data"
    },
    {
     "name": "stderr",
     "output_type": "stream",
     "text": [
      "\r",
      "\u001b[32mloss: 0.87:  65%|██████████████████████████▋              |  ETA: 0:01:48\u001b[39m"
     ]
    },
    {
     "data": {
      "text/plain": [
       "0.9131275f0"
      ]
     },
     "metadata": {},
     "output_type": "display_data"
    },
    {
     "name": "stderr",
     "output_type": "stream",
     "text": [
      "\r",
      "\u001b[32mloss: 0.913:  66%|██████████████████████████▉              |  ETA: 0:01:47\u001b[39m"
     ]
    },
    {
     "data": {
      "text/plain": [
       "0.89142996f0"
      ]
     },
     "metadata": {},
     "output_type": "display_data"
    },
    {
     "name": "stderr",
     "output_type": "stream",
     "text": [
      "\r",
      "\u001b[32mloss: 0.891:  66%|███████████████████████████              |  ETA: 0:01:45\u001b[39m"
     ]
    },
    {
     "data": {
      "text/plain": [
       "0.8389566f0"
      ]
     },
     "metadata": {},
     "output_type": "display_data"
    },
    {
     "name": "stderr",
     "output_type": "stream",
     "text": [
      "\r",
      "\u001b[32mloss: 0.839:  66%|███████████████████████████▎             |  ETA: 0:01:44\u001b[39m"
     ]
    },
    {
     "data": {
      "text/plain": [
       "0.8574809f0"
      ]
     },
     "metadata": {},
     "output_type": "display_data"
    },
    {
     "name": "stderr",
     "output_type": "stream",
     "text": [
      "\r",
      "\u001b[32mloss: 0.857:  67%|███████████████████████████▌             |  ETA: 0:01:42\u001b[39m"
     ]
    },
    {
     "data": {
      "text/plain": [
       "0.8617483f0"
      ]
     },
     "metadata": {},
     "output_type": "display_data"
    },
    {
     "name": "stderr",
     "output_type": "stream",
     "text": [
      "\r",
      "\u001b[32mloss: 0.862:  68%|███████████████████████████▋             |  ETA: 0:01:41\u001b[39m"
     ]
    },
    {
     "data": {
      "text/plain": [
       "0.834009f0"
      ]
     },
     "metadata": {},
     "output_type": "display_data"
    },
    {
     "name": "stderr",
     "output_type": "stream",
     "text": [
      "\r",
      "\u001b[32mloss: 0.834:  68%|███████████████████████████▉             |  ETA: 0:01:39\u001b[39m"
     ]
    },
    {
     "data": {
      "text/plain": [
       "0.82952785f0"
      ]
     },
     "metadata": {},
     "output_type": "display_data"
    },
    {
     "name": "stderr",
     "output_type": "stream",
     "text": [
      "\r",
      "\u001b[32mloss: 0.83:  68%|████████████████████████████▏            |  ETA: 0:01:38\u001b[39m"
     ]
    },
    {
     "data": {
      "text/plain": [
       "0.837806f0"
      ]
     },
     "metadata": {},
     "output_type": "display_data"
    },
    {
     "name": "stderr",
     "output_type": "stream",
     "text": [
      "\r",
      "\u001b[32mloss: 0.838:  69%|████████████████████████████▎            |  ETA: 0:01:36\u001b[39m"
     ]
    },
    {
     "data": {
      "text/plain": [
       "0.8798717f0"
      ]
     },
     "metadata": {},
     "output_type": "display_data"
    },
    {
     "name": "stderr",
     "output_type": "stream",
     "text": [
      "\r",
      "\u001b[32mloss: 0.88:  70%|████████████████████████████▌            |  ETA: 0:01:35\u001b[39m"
     ]
    },
    {
     "data": {
      "text/plain": [
       "0.8363544f0"
      ]
     },
     "metadata": {},
     "output_type": "display_data"
    },
    {
     "name": "stderr",
     "output_type": "stream",
     "text": [
      "\r",
      "\u001b[32mloss: 0.836:  70%|████████████████████████████▊            |  ETA: 0:01:33\u001b[39m"
     ]
    },
    {
     "data": {
      "text/plain": [
       "0.8462445f0"
      ]
     },
     "metadata": {},
     "output_type": "display_data"
    },
    {
     "name": "stderr",
     "output_type": "stream",
     "text": [
      "\r",
      "\u001b[32mloss: 0.846:  70%|████████████████████████████▉            |  ETA: 0:01:32\u001b[39m"
     ]
    },
    {
     "data": {
      "text/plain": [
       "0.89221394f0"
      ]
     },
     "metadata": {},
     "output_type": "display_data"
    },
    {
     "name": "stderr",
     "output_type": "stream",
     "text": [
      "\r",
      "\u001b[32mloss: 0.892:  71%|█████████████████████████████▏           |  ETA: 0:01:30\u001b[39m"
     ]
    },
    {
     "data": {
      "text/plain": [
       "0.8860842f0"
      ]
     },
     "metadata": {},
     "output_type": "display_data"
    },
    {
     "name": "stderr",
     "output_type": "stream",
     "text": [
      "\r",
      "\u001b[32mloss: 0.886:  72%|█████████████████████████████▍           |  ETA: 0:01:28\u001b[39m"
     ]
    },
    {
     "data": {
      "text/plain": [
       "0.9211768f0"
      ]
     },
     "metadata": {},
     "output_type": "display_data"
    },
    {
     "name": "stderr",
     "output_type": "stream",
     "text": [
      "\r",
      "\u001b[32mloss: 0.921:  72%|█████████████████████████████▌           |  ETA: 0:01:27\u001b[39m"
     ]
    },
    {
     "data": {
      "text/plain": [
       "0.85621494f0"
      ]
     },
     "metadata": {},
     "output_type": "display_data"
    },
    {
     "name": "stderr",
     "output_type": "stream",
     "text": [
      "\r",
      "\u001b[32mloss: 0.856:  72%|█████████████████████████████▊           |  ETA: 0:01:25\u001b[39m"
     ]
    },
    {
     "data": {
      "text/plain": [
       "0.8314203f0"
      ]
     },
     "metadata": {},
     "output_type": "display_data"
    },
    {
     "name": "stderr",
     "output_type": "stream",
     "text": [
      "\r",
      "\u001b[32mloss: 0.831:  73%|█████████████████████████████▉           |  ETA: 0:01:24\u001b[39m"
     ]
    },
    {
     "data": {
      "text/plain": [
       "0.87152326f0"
      ]
     },
     "metadata": {},
     "output_type": "display_data"
    },
    {
     "name": "stderr",
     "output_type": "stream",
     "text": [
      "\r",
      "\u001b[32mloss: 0.872:  74%|██████████████████████████████▏          |  ETA: 0:01:22\u001b[39m"
     ]
    },
    {
     "data": {
      "text/plain": [
       "0.8488717f0"
      ]
     },
     "metadata": {},
     "output_type": "display_data"
    },
    {
     "name": "stderr",
     "output_type": "stream",
     "text": [
      "\r",
      "\u001b[32mloss: 0.849:  74%|██████████████████████████████▍          |  ETA: 0:01:21\u001b[39m"
     ]
    },
    {
     "data": {
      "text/plain": [
       "0.8300387f0"
      ]
     },
     "metadata": {},
     "output_type": "display_data"
    },
    {
     "name": "stderr",
     "output_type": "stream",
     "text": [
      "\r",
      "\u001b[32mloss: 0.83:  74%|██████████████████████████████▌          |  ETA: 0:01:19\u001b[39m"
     ]
    },
    {
     "data": {
      "text/plain": [
       "0.8442248f0"
      ]
     },
     "metadata": {},
     "output_type": "display_data"
    },
    {
     "name": "stderr",
     "output_type": "stream",
     "text": [
      "\r",
      "\u001b[32mloss: 0.844:  75%|██████████████████████████████▊          |  ETA: 0:01:18\u001b[39m"
     ]
    },
    {
     "data": {
      "text/plain": [
       "0.84960103f0"
      ]
     },
     "metadata": {},
     "output_type": "display_data"
    },
    {
     "name": "stderr",
     "output_type": "stream",
     "text": [
      "\r",
      "\u001b[32mloss: 0.85:  76%|███████████████████████████████          |  ETA: 0:01:16\u001b[39m"
     ]
    },
    {
     "data": {
      "text/plain": [
       "0.79667526f0"
      ]
     },
     "metadata": {},
     "output_type": "display_data"
    },
    {
     "name": "stderr",
     "output_type": "stream",
     "text": [
      "\r",
      "\u001b[32mloss: 0.797:  76%|███████████████████████████████▏         |  ETA: 0:01:15\u001b[39m"
     ]
    },
    {
     "data": {
      "text/plain": [
       "0.82989323f0"
      ]
     },
     "metadata": {},
     "output_type": "display_data"
    },
    {
     "name": "stderr",
     "output_type": "stream",
     "text": [
      "\r",
      "\u001b[32mloss: 0.83:  76%|███████████████████████████████▍         |  ETA: 0:01:13\u001b[39m"
     ]
    },
    {
     "data": {
      "text/plain": [
       "0.8095554f0"
      ]
     },
     "metadata": {},
     "output_type": "display_data"
    },
    {
     "name": "stderr",
     "output_type": "stream",
     "text": [
      "\r",
      "\u001b[32mloss: 0.81:  77%|███████████████████████████████▋         |  ETA: 0:01:12\u001b[39m"
     ]
    },
    {
     "data": {
      "text/plain": [
       "0.76994735f0"
      ]
     },
     "metadata": {},
     "output_type": "display_data"
    },
    {
     "name": "stderr",
     "output_type": "stream",
     "text": [
      "\r",
      "\u001b[32mloss: 0.77:  78%|███████████████████████████████▊         |  ETA: 0:01:10\u001b[39m"
     ]
    },
    {
     "data": {
      "text/plain": [
       "0.8152394f0"
      ]
     },
     "metadata": {},
     "output_type": "display_data"
    },
    {
     "name": "stderr",
     "output_type": "stream",
     "text": [
      "\r",
      "\u001b[32mloss: 0.815:  78%|████████████████████████████████         |  ETA: 0:01:09\u001b[39m"
     ]
    },
    {
     "data": {
      "text/plain": [
       "0.8082833f0"
      ]
     },
     "metadata": {},
     "output_type": "display_data"
    },
    {
     "name": "stderr",
     "output_type": "stream",
     "text": [
      "\r",
      "\u001b[32mloss: 0.808:  78%|████████████████████████████████▏        |  ETA: 0:01:07\u001b[39m"
     ]
    },
    {
     "data": {
      "text/plain": [
       "0.80280197f0"
      ]
     },
     "metadata": {},
     "output_type": "display_data"
    },
    {
     "name": "stderr",
     "output_type": "stream",
     "text": [
      "\r",
      "\u001b[32mloss: 0.803:  79%|████████████████████████████████▍        |  ETA: 0:01:05\u001b[39m"
     ]
    },
    {
     "data": {
      "text/plain": [
       "0.8021256f0"
      ]
     },
     "metadata": {},
     "output_type": "display_data"
    },
    {
     "name": "stderr",
     "output_type": "stream",
     "text": [
      "\r",
      "\u001b[32mloss: 0.802:  80%|████████████████████████████████▋        |  ETA: 0:01:04\u001b[39m"
     ]
    },
    {
     "data": {
      "text/plain": [
       "0.83675027f0"
      ]
     },
     "metadata": {},
     "output_type": "display_data"
    },
    {
     "name": "stderr",
     "output_type": "stream",
     "text": [
      "\r",
      "\u001b[32mloss: 0.837:  80%|████████████████████████████████▊        |  ETA: 0:01:02\u001b[39m"
     ]
    },
    {
     "data": {
      "text/plain": [
       "0.7931782f0"
      ]
     },
     "metadata": {},
     "output_type": "display_data"
    },
    {
     "name": "stderr",
     "output_type": "stream",
     "text": [
      "\r",
      "\u001b[32mloss: 0.793:  80%|█████████████████████████████████        |  ETA: 0:01:01\u001b[39m"
     ]
    },
    {
     "data": {
      "text/plain": [
       "0.7853429f0"
      ]
     },
     "metadata": {},
     "output_type": "display_data"
    },
    {
     "name": "stderr",
     "output_type": "stream",
     "text": [
      "\r",
      "\u001b[32mloss: 0.785:  81%|█████████████████████████████████▎       |  ETA: 0:00:59\u001b[39m"
     ]
    },
    {
     "data": {
      "text/plain": [
       "0.81982976f0"
      ]
     },
     "metadata": {},
     "output_type": "display_data"
    },
    {
     "name": "stderr",
     "output_type": "stream",
     "text": [
      "\r",
      "\u001b[32mloss: 0.82:  82%|█████████████████████████████████▍       |  ETA: 0:00:58\u001b[39m"
     ]
    },
    {
     "data": {
      "text/plain": [
       "0.833997f0"
      ]
     },
     "metadata": {},
     "output_type": "display_data"
    },
    {
     "name": "stderr",
     "output_type": "stream",
     "text": [
      "\r",
      "\u001b[32mloss: 0.834:  82%|█████████████████████████████████▋       |  ETA: 0:00:56\u001b[39m"
     ]
    },
    {
     "data": {
      "text/plain": [
       "0.77085733f0"
      ]
     },
     "metadata": {},
     "output_type": "display_data"
    },
    {
     "name": "stderr",
     "output_type": "stream",
     "text": [
      "\r",
      "\u001b[32mloss: 0.771:  82%|█████████████████████████████████▉       |  ETA: 0:00:55\u001b[39m"
     ]
    },
    {
     "data": {
      "text/plain": [
       "0.73380035f0"
      ]
     },
     "metadata": {},
     "output_type": "display_data"
    },
    {
     "name": "stderr",
     "output_type": "stream",
     "text": [
      "\r",
      "\u001b[32mloss: 0.734:  83%|██████████████████████████████████       |  ETA: 0:00:53\u001b[39m"
     ]
    },
    {
     "data": {
      "text/plain": [
       "0.77628636f0"
      ]
     },
     "metadata": {},
     "output_type": "display_data"
    },
    {
     "name": "stderr",
     "output_type": "stream",
     "text": [
      "\r",
      "\u001b[32mloss: 0.776:  84%|██████████████████████████████████▎      |  ETA: 0:00:52\u001b[39m"
     ]
    },
    {
     "data": {
      "text/plain": [
       "0.76764464f0"
      ]
     },
     "metadata": {},
     "output_type": "display_data"
    },
    {
     "name": "stderr",
     "output_type": "stream",
     "text": [
      "\r",
      "\u001b[32mloss: 0.768:  84%|██████████████████████████████████▌      |  ETA: 0:00:50\u001b[39m"
     ]
    },
    {
     "data": {
      "text/plain": [
       "0.8033156f0"
      ]
     },
     "metadata": {},
     "output_type": "display_data"
    },
    {
     "name": "stderr",
     "output_type": "stream",
     "text": [
      "\r",
      "\u001b[32mloss: 0.803:  84%|██████████████████████████████████▋      |  ETA: 0:00:48\u001b[39m"
     ]
    },
    {
     "data": {
      "text/plain": [
       "0.79457426f0"
      ]
     },
     "metadata": {},
     "output_type": "display_data"
    },
    {
     "name": "stderr",
     "output_type": "stream",
     "text": [
      "\r",
      "\u001b[32mloss: 0.795:  85%|██████████████████████████████████▉      |  ETA: 0:00:47\u001b[39m"
     ]
    },
    {
     "data": {
      "text/plain": [
       "0.74989516f0"
      ]
     },
     "metadata": {},
     "output_type": "display_data"
    },
    {
     "name": "stderr",
     "output_type": "stream",
     "text": [
      "\r",
      "\u001b[32mloss: 0.75:  86%|███████████████████████████████████      |  ETA: 0:00:45\u001b[39m"
     ]
    },
    {
     "data": {
      "text/plain": [
       "0.7485248f0"
      ]
     },
     "metadata": {},
     "output_type": "display_data"
    },
    {
     "name": "stderr",
     "output_type": "stream",
     "text": [
      "\r",
      "\u001b[32mloss: 0.749:  86%|███████████████████████████████████▎     |  ETA: 0:00:44\u001b[39m"
     ]
    },
    {
     "data": {
      "text/plain": [
       "0.79560363f0"
      ]
     },
     "metadata": {},
     "output_type": "display_data"
    },
    {
     "name": "stderr",
     "output_type": "stream",
     "text": [
      "\r",
      "\u001b[32mloss: 0.796:  86%|███████████████████████████████████▌     |  ETA: 0:00:42\u001b[39m"
     ]
    },
    {
     "data": {
      "text/plain": [
       "0.7623077f0"
      ]
     },
     "metadata": {},
     "output_type": "display_data"
    },
    {
     "name": "stderr",
     "output_type": "stream",
     "text": [
      "\r",
      "\u001b[32mloss: 0.762:  87%|███████████████████████████████████▋     |  ETA: 0:00:41\u001b[39m"
     ]
    },
    {
     "data": {
      "text/plain": [
       "0.7115132f0"
      ]
     },
     "metadata": {},
     "output_type": "display_data"
    },
    {
     "name": "stderr",
     "output_type": "stream",
     "text": [
      "\r",
      "\u001b[32mloss: 0.712:  88%|███████████████████████████████████▉     |  ETA: 0:00:39\u001b[39m"
     ]
    },
    {
     "data": {
      "text/plain": [
       "0.73555964f0"
      ]
     },
     "metadata": {},
     "output_type": "display_data"
    },
    {
     "name": "stderr",
     "output_type": "stream",
     "text": [
      "\r",
      "\u001b[32mloss: 0.736:  88%|████████████████████████████████████▏    |  ETA: 0:00:38\u001b[39m"
     ]
    },
    {
     "data": {
      "text/plain": [
       "0.74534714f0"
      ]
     },
     "metadata": {},
     "output_type": "display_data"
    },
    {
     "name": "stderr",
     "output_type": "stream",
     "text": [
      "\r",
      "\u001b[32mloss: 0.745:  88%|████████████████████████████████████▎    |  ETA: 0:00:36\u001b[39m"
     ]
    },
    {
     "data": {
      "text/plain": [
       "0.7284493f0"
      ]
     },
     "metadata": {},
     "output_type": "display_data"
    },
    {
     "name": "stderr",
     "output_type": "stream",
     "text": [
      "\r",
      "\u001b[32mloss: 0.728:  89%|████████████████████████████████████▌    |  ETA: 0:00:35\u001b[39m"
     ]
    },
    {
     "data": {
      "text/plain": [
       "0.70625365f0"
      ]
     },
     "metadata": {},
     "output_type": "display_data"
    },
    {
     "name": "stderr",
     "output_type": "stream",
     "text": [
      "\r",
      "\u001b[32mloss: 0.706:  90%|████████████████████████████████████▊    |  ETA: 0:00:33\u001b[39m"
     ]
    },
    {
     "data": {
      "text/plain": [
       "0.7519751f0"
      ]
     },
     "metadata": {},
     "output_type": "display_data"
    },
    {
     "name": "stderr",
     "output_type": "stream",
     "text": [
      "\r",
      "\u001b[32mloss: 0.752:  90%|████████████████████████████████████▉    |  ETA: 0:00:31\u001b[39m"
     ]
    },
    {
     "data": {
      "text/plain": [
       "0.7357754f0"
      ]
     },
     "metadata": {},
     "output_type": "display_data"
    },
    {
     "name": "stderr",
     "output_type": "stream",
     "text": [
      "\r",
      "\u001b[32mloss: 0.736:  90%|█████████████████████████████████████▏   |  ETA: 0:00:30\u001b[39m"
     ]
    },
    {
     "data": {
      "text/plain": [
       "0.69889194f0"
      ]
     },
     "metadata": {},
     "output_type": "display_data"
    },
    {
     "name": "stderr",
     "output_type": "stream",
     "text": [
      "\r",
      "\u001b[32mloss: 0.699:  91%|█████████████████████████████████████▎   |  ETA: 0:00:28\u001b[39m"
     ]
    },
    {
     "data": {
      "text/plain": [
       "0.7343297f0"
      ]
     },
     "metadata": {},
     "output_type": "display_data"
    },
    {
     "name": "stderr",
     "output_type": "stream",
     "text": [
      "\r",
      "\u001b[32mloss: 0.734:  92%|█████████████████████████████████████▌   |  ETA: 0:00:27\u001b[39m"
     ]
    },
    {
     "data": {
      "text/plain": [
       "0.7157047f0"
      ]
     },
     "metadata": {},
     "output_type": "display_data"
    },
    {
     "name": "stderr",
     "output_type": "stream",
     "text": [
      "\r",
      "\u001b[32mloss: 0.716:  92%|█████████████████████████████████████▊   |  ETA: 0:00:25\u001b[39m"
     ]
    },
    {
     "data": {
      "text/plain": [
       "0.72558093f0"
      ]
     },
     "metadata": {},
     "output_type": "display_data"
    },
    {
     "name": "stderr",
     "output_type": "stream",
     "text": [
      "\r",
      "\u001b[32mloss: 0.726:  92%|█████████████████████████████████████▉   |  ETA: 0:00:24\u001b[39m"
     ]
    },
    {
     "data": {
      "text/plain": [
       "0.80164874f0"
      ]
     },
     "metadata": {},
     "output_type": "display_data"
    },
    {
     "name": "stderr",
     "output_type": "stream",
     "text": [
      "\r",
      "\u001b[32mloss: 0.802:  93%|██████████████████████████████████████▏  |  ETA: 0:00:22\u001b[39m"
     ]
    },
    {
     "data": {
      "text/plain": [
       "0.7887831f0"
      ]
     },
     "metadata": {},
     "output_type": "display_data"
    },
    {
     "name": "stderr",
     "output_type": "stream",
     "text": [
      "\r",
      "\u001b[32mloss: 0.789:  94%|██████████████████████████████████████▍  |  ETA: 0:00:20\u001b[39m"
     ]
    },
    {
     "data": {
      "text/plain": [
       "0.7570593f0"
      ]
     },
     "metadata": {},
     "output_type": "display_data"
    },
    {
     "name": "stderr",
     "output_type": "stream",
     "text": [
      "\r",
      "\u001b[32mloss: 0.757:  94%|██████████████████████████████████████▌  |  ETA: 0:00:19\u001b[39m"
     ]
    },
    {
     "data": {
      "text/plain": [
       "0.73140305f0"
      ]
     },
     "metadata": {},
     "output_type": "display_data"
    },
    {
     "name": "stderr",
     "output_type": "stream",
     "text": [
      "\r",
      "\u001b[32mloss: 0.731:  94%|██████████████████████████████████████▊  |  ETA: 0:00:17\u001b[39m"
     ]
    },
    {
     "data": {
      "text/plain": [
       "0.7214366f0"
      ]
     },
     "metadata": {},
     "output_type": "display_data"
    },
    {
     "name": "stderr",
     "output_type": "stream",
     "text": [
      "\r",
      "\u001b[32mloss: 0.721:  95%|███████████████████████████████████████  |  ETA: 0:00:16\u001b[39m"
     ]
    },
    {
     "data": {
      "text/plain": [
       "0.70494545f0"
      ]
     },
     "metadata": {},
     "output_type": "display_data"
    },
    {
     "name": "stderr",
     "output_type": "stream",
     "text": [
      "\r",
      "\u001b[32mloss: 0.705:  96%|███████████████████████████████████████▏ |  ETA: 0:00:14\u001b[39m"
     ]
    },
    {
     "data": {
      "text/plain": [
       "0.7196748f0"
      ]
     },
     "metadata": {},
     "output_type": "display_data"
    },
    {
     "name": "stderr",
     "output_type": "stream",
     "text": [
      "\r",
      "\u001b[32mloss: 0.72:  96%|███████████████████████████████████████▍ |  ETA: 0:00:13\u001b[39m"
     ]
    },
    {
     "data": {
      "text/plain": [
       "0.70882857f0"
      ]
     },
     "metadata": {},
     "output_type": "display_data"
    },
    {
     "name": "stderr",
     "output_type": "stream",
     "text": [
      "\r",
      "\u001b[32mloss: 0.709:  96%|███████████████████████████████████████▋ |  ETA: 0:00:11\u001b[39m"
     ]
    },
    {
     "data": {
      "text/plain": [
       "0.67242676f0"
      ]
     },
     "metadata": {},
     "output_type": "display_data"
    },
    {
     "name": "stderr",
     "output_type": "stream",
     "text": [
      "\r",
      "\u001b[32mloss: 0.672:  97%|███████████████████████████████████████▊ |  ETA: 0:00:09\u001b[39m"
     ]
    },
    {
     "data": {
      "text/plain": [
       "0.6801084f0"
      ]
     },
     "metadata": {},
     "output_type": "display_data"
    },
    {
     "name": "stderr",
     "output_type": "stream",
     "text": [
      "\r",
      "\u001b[32mloss: 0.68:  98%|████████████████████████████████████████ |  ETA: 0:00:08\u001b[39m"
     ]
    },
    {
     "data": {
      "text/plain": [
       "0.7146412f0"
      ]
     },
     "metadata": {},
     "output_type": "display_data"
    },
    {
     "name": "stderr",
     "output_type": "stream",
     "text": [
      "\r",
      "\u001b[32mloss: 0.715:  98%|████████████████████████████████████████▏|  ETA: 0:00:06\u001b[39m"
     ]
    },
    {
     "data": {
      "text/plain": [
       "0.6950466f0"
      ]
     },
     "metadata": {},
     "output_type": "display_data"
    },
    {
     "name": "stderr",
     "output_type": "stream",
     "text": [
      "\r",
      "\u001b[32mloss: 0.695:  98%|████████████████████████████████████████▍|  ETA: 0:00:05\u001b[39m"
     ]
    },
    {
     "data": {
      "text/plain": [
       "0.68307203f0"
      ]
     },
     "metadata": {},
     "output_type": "display_data"
    },
    {
     "name": "stderr",
     "output_type": "stream",
     "text": [
      "\r",
      "\u001b[32mloss: 0.683:  99%|████████████████████████████████████████▋|  ETA: 0:00:03\u001b[39m"
     ]
    },
    {
     "data": {
      "text/plain": [
       "0.6969663f0"
      ]
     },
     "metadata": {},
     "output_type": "display_data"
    },
    {
     "name": "stderr",
     "output_type": "stream",
     "text": [
      "\r",
      "\u001b[32mloss: 0.697: 100%|████████████████████████████████████████▊|  ETA: 0:00:02\u001b[39m"
     ]
    },
    {
     "data": {
      "text/plain": [
       "0.71940726f0"
      ]
     },
     "metadata": {},
     "output_type": "display_data"
    },
    {
     "name": "stderr",
     "output_type": "stream",
     "text": [
      "\r",
      "\u001b[32mloss: 0.719: 100%|█████████████████████████████████████████| Time: 0:05:14\u001b[39m\n"
     ]
    },
    {
     "data": {
      "text/plain": [
       "0.67242676f0"
      ]
     },
     "metadata": {},
     "output_type": "display_data"
    },
    {
     "data": {
      "text/plain": [
       " * Status: failure (reached maximum number of iterations)\n",
       "\n",
       " * Candidate solution\n",
       "    Minimizer: [-8.12e-03, -3.10e-02, -6.41e-02,  ...]\n",
       "    Minimum:   7.194073e-01\n",
       "\n",
       " * Found with\n",
       "    Algorithm:     ADAM\n",
       "    Initial Point: [-7.56e-03, -3.15e-02, -6.35e-02,  ...]\n",
       "\n",
       " * Convergence measures\n",
       "    |x - x'|               = NaN ≰ 0.0e+00\n",
       "    |x - x'|/|x'|          = NaN ≰ 0.0e+00\n",
       "    |f(x) - f(x')|         = NaN ≰ 0.0e+00\n",
       "    |f(x) - f(x')|/|f(x')| = NaN ≰ 0.0e+00\n",
       "    |g(x)|                 = NaN ≰ 0.0e+00\n",
       "\n",
       " * Work counters\n",
       "    Seconds run:   315  (vs limit Inf)\n",
       "    Iterations:    200\n",
       "    f(x) calls:    200\n",
       "    ∇f(x) calls:   200\n"
      ]
     },
     "execution_count": 30,
     "metadata": {},
     "output_type": "execute_result"
    }
   ],
   "source": [
    "#res = DiffEqFlux.sciml_train(loss_node, node.p, ADAM(), dataset, cb=cb, maxiters=100)\n",
    "res = DiffEqFlux.sciml_train(loss_node, node.p, ADAM(), cb=cb, maxiters=200)"
   ]
  },
  {
   "cell_type": "code",
   "execution_count": 31,
   "metadata": {
    "scrolled": true
   },
   "outputs": [
    {
     "data": {
      "text/plain": [
       "0.7026377f0"
      ]
     },
     "metadata": {},
     "output_type": "display_data"
    },
    {
     "name": "stderr",
     "output_type": "stream",
     "text": [
      "\u001b[32mloss: 2.99:   0%|▏                                        |  ETA: 0:13:42\u001b[39mm"
     ]
    },
    {
     "data": {
      "text/plain": [
       "2.6515317f0"
      ]
     },
     "metadata": {},
     "output_type": "display_data"
    },
    {
     "name": "stderr",
     "output_type": "stream",
     "text": [
      "\u001b[32mloss: 1.82:   1%|▍                                        |  ETA: 0:13:37\u001b[39m"
     ]
    },
    {
     "data": {
      "text/plain": [
       "0.9586518f0"
      ]
     },
     "metadata": {},
     "output_type": "display_data"
    },
    {
     "name": "stderr",
     "output_type": "stream",
     "text": [
      "\u001b[32mloss: 1.62:   1%|▌                                        |  ETA: 0:13:50\u001b[39mm"
     ]
    },
    {
     "data": {
      "text/plain": [
       "1.8221117f0"
      ]
     },
     "metadata": {},
     "output_type": "display_data"
    },
    {
     "name": "stderr",
     "output_type": "stream",
     "text": [
      "\u001b[32mloss: 1.83:   2%|▋                                        |  ETA: 0:13:44\u001b[39m"
     ]
    },
    {
     "data": {
      "text/plain": [
       "1.6032676f0"
      ]
     },
     "metadata": {},
     "output_type": "display_data"
    },
    {
     "name": "stderr",
     "output_type": "stream",
     "text": [
      "\u001b[32mloss: 1.34:   2%|▉                                        |  ETA: 0:13:38\u001b[39m"
     ]
    },
    {
     "data": {
      "text/plain": [
       "1.2126415f0"
      ]
     },
     "metadata": {},
     "output_type": "display_data"
    },
    {
     "name": "stderr",
     "output_type": "stream",
     "text": [
      "\u001b[32mloss: 0.994:   2%|█                                        |  ETA: 0:14:04\u001b[39m"
     ]
    },
    {
     "data": {
      "text/plain": [
       "1.1384991f0"
      ]
     },
     "metadata": {},
     "output_type": "display_data"
    },
    {
     "name": "stderr",
     "output_type": "stream",
     "text": [
      "\u001b[32mloss: 1.16:   3%|█▏                                       |  ETA: 0:13:50\u001b[39m"
     ]
    },
    {
     "data": {
      "text/plain": [
       "1.1416386f0"
      ]
     },
     "metadata": {},
     "output_type": "display_data"
    },
    {
     "name": "stderr",
     "output_type": "stream",
     "text": [
      "\u001b[32mloss: 1.19:   3%|█▎                                       |  ETA: 0:13:33\u001b[39m"
     ]
    },
    {
     "data": {
      "text/plain": [
       "1.0700626f0"
      ]
     },
     "metadata": {},
     "output_type": "display_data"
    },
    {
     "name": "stderr",
     "output_type": "stream",
     "text": [
      "\u001b[32mloss: 0.945:   4%|█▌                                       |  ETA: 0:13:31\u001b[39m"
     ]
    },
    {
     "data": {
      "text/plain": [
       "0.83837855f0"
      ]
     },
     "metadata": {},
     "output_type": "display_data"
    },
    {
     "name": "stderr",
     "output_type": "stream",
     "text": [
      "\u001b[32mloss: 0.901:   4%|█▋                                       |  ETA: 0:13:25\u001b[39m"
     ]
    },
    {
     "data": {
      "text/plain": [
       "1.052411f0"
      ]
     },
     "metadata": {},
     "output_type": "display_data"
    },
    {
     "name": "stderr",
     "output_type": "stream",
     "text": [
      "\u001b[32mloss: 1.05:   4%|█▊                                       |  ETA: 0:13:17\u001b[39m"
     ]
    },
    {
     "data": {
      "text/plain": [
       "0.9673625f0"
      ]
     },
     "metadata": {},
     "output_type": "display_data"
    },
    {
     "name": "stderr",
     "output_type": "stream",
     "text": [
      "\u001b[32mloss: 0.91:   5%|██                                       |  ETA: 0:13:13\u001b[39mm"
     ]
    },
    {
     "data": {
      "text/plain": [
       "0.7499852f0"
      ]
     },
     "metadata": {},
     "output_type": "display_data"
    },
    {
     "name": "stderr",
     "output_type": "stream",
     "text": [
      "\u001b[32mloss: 0.78:   5%|██▏                                      |  ETA: 0:13:06\u001b[39m"
     ]
    },
    {
     "data": {
      "text/plain": [
       "0.83875436f0"
      ]
     },
     "metadata": {},
     "output_type": "display_data"
    },
    {
     "name": "stderr",
     "output_type": "stream",
     "text": [
      "\u001b[32mloss: 0.803:   6%|██▎                                      |  ETA: 0:12:52\u001b[39m"
     ]
    },
    {
     "data": {
      "text/plain": [
       "0.8275903f0"
      ]
     },
     "metadata": {},
     "output_type": "display_data"
    },
    {
     "name": "stderr",
     "output_type": "stream",
     "text": [
      "\u001b[32mloss: 0.829:   6%|██▌                                      |  ETA: 0:12:47\u001b[39m"
     ]
    },
    {
     "data": {
      "text/plain": [
       "0.7761047f0"
      ]
     },
     "metadata": {},
     "output_type": "display_data"
    },
    {
     "name": "stderr",
     "output_type": "stream",
     "text": [
      "\u001b[32mloss: 0.716:   6%|██▋                                      |  ETA: 0:12:37\u001b[39m"
     ]
    },
    {
     "data": {
      "text/plain": [
       "0.7012961f0"
      ]
     },
     "metadata": {},
     "output_type": "display_data"
    },
    {
     "name": "stderr",
     "output_type": "stream",
     "text": [
      "\u001b[32mloss: 0.732:   7%|██▊                                      |  ETA: 0:12:36\u001b[39m"
     ]
    },
    {
     "data": {
      "text/plain": [
       "0.7461447f0"
      ]
     },
     "metadata": {},
     "output_type": "display_data"
    },
    {
     "name": "stderr",
     "output_type": "stream",
     "text": [
      "\u001b[32mloss: 0.756:   7%|███                                      |  ETA: 0:12:32\u001b[39m"
     ]
    },
    {
     "data": {
      "text/plain": [
       "0.7394514f0"
      ]
     },
     "metadata": {},
     "output_type": "display_data"
    },
    {
     "name": "stderr",
     "output_type": "stream",
     "text": [
      "\u001b[32mloss: 0.673:   8%|███▏                                     |  ETA: 0:12:30\u001b[39m"
     ]
    },
    {
     "data": {
      "text/plain": [
       "0.68124115f0"
      ]
     },
     "metadata": {},
     "output_type": "display_data"
    },
    {
     "name": "stderr",
     "output_type": "stream",
     "text": [
      "\u001b[32mloss: 0.69:   8%|███▎                                     |  ETA: 0:12:32\u001b[39mm"
     ]
    },
    {
     "data": {
      "text/plain": [
       "0.6920154f0"
      ]
     },
     "metadata": {},
     "output_type": "display_data"
    },
    {
     "name": "stderr",
     "output_type": "stream",
     "text": [
      "\u001b[32mloss: 0.663:   8%|███▌                                     |  ETA: 0:12:32\u001b[39m"
     ]
    },
    {
     "data": {
      "text/plain": [
       "0.67967093f0"
      ]
     },
     "metadata": {},
     "output_type": "display_data"
    },
    {
     "name": "stderr",
     "output_type": "stream",
     "text": [
      "\u001b[32mloss: 0.679:   9%|███▋                                     |  ETA: 0:12:30\u001b[39m"
     ]
    },
    {
     "data": {
      "text/plain": [
       "0.63758904f0"
      ]
     },
     "metadata": {},
     "output_type": "display_data"
    },
    {
     "name": "stderr",
     "output_type": "stream",
     "text": [
      "\u001b[32mloss: 0.685:   9%|███▊                                     |  ETA: 0:12:23\u001b[39m"
     ]
    },
    {
     "data": {
      "text/plain": [
       "0.67290837f0"
      ]
     },
     "metadata": {},
     "output_type": "display_data"
    },
    {
     "name": "stderr",
     "output_type": "stream",
     "text": [
      "\u001b[32mloss: 0.662:  10%|███▉                                     |  ETA: 0:12:13\u001b[39m"
     ]
    },
    {
     "data": {
      "text/plain": [
       "0.62729716f0"
      ]
     },
     "metadata": {},
     "output_type": "display_data"
    },
    {
     "name": "stderr",
     "output_type": "stream",
     "text": [
      "\u001b[32mloss: 0.619:  10%|████▏                                    |  ETA: 0:12:09\u001b[39m"
     ]
    },
    {
     "data": {
      "text/plain": [
       "0.6496099f0"
      ]
     },
     "metadata": {},
     "output_type": "display_data"
    },
    {
     "name": "stderr",
     "output_type": "stream",
     "text": [
      "\u001b[32mloss: 0.611:  10%|████▎                                    |  ETA: 0:12:06\u001b[39m"
     ]
    },
    {
     "data": {
      "text/plain": [
       "0.712131f0"
      ]
     },
     "metadata": {},
     "output_type": "display_data"
    },
    {
     "name": "stderr",
     "output_type": "stream",
     "text": [
      "\u001b[32mloss: 0.659:  11%|████▍                                    |  ETA: 0:11:59\u001b[39m"
     ]
    },
    {
     "data": {
      "text/plain": [
       "0.6254225f0"
      ]
     },
     "metadata": {},
     "output_type": "display_data"
    },
    {
     "name": "stderr",
     "output_type": "stream",
     "text": [
      "\u001b[32mloss: 0.651:  11%|████▋                                    |  ETA: 0:11:56\u001b[39m"
     ]
    },
    {
     "data": {
      "text/plain": [
       "0.67489666f0"
      ]
     },
     "metadata": {},
     "output_type": "display_data"
    },
    {
     "name": "stderr",
     "output_type": "stream",
     "text": [
      "\u001b[32mloss: 0.632:  12%|████▊                                    |  ETA: 0:11:51\u001b[39m"
     ]
    },
    {
     "data": {
      "text/plain": [
       "0.6341228f0"
      ]
     },
     "metadata": {},
     "output_type": "display_data"
    },
    {
     "name": "stderr",
     "output_type": "stream",
     "text": [
      "\u001b[32mloss: 0.641:  12%|████▉                                    |  ETA: 0:11:47\u001b[39m"
     ]
    },
    {
     "data": {
      "text/plain": [
       "0.6653435f0"
      ]
     },
     "metadata": {},
     "output_type": "display_data"
    },
    {
     "name": "stderr",
     "output_type": "stream",
     "text": [
      "\u001b[32mloss: 0.604:  12%|█████▏                                   |  ETA: 0:11:42\u001b[39m"
     ]
    },
    {
     "data": {
      "text/plain": [
       "0.63227975f0"
      ]
     },
     "metadata": {},
     "output_type": "display_data"
    },
    {
     "name": "stderr",
     "output_type": "stream",
     "text": [
      "\u001b[32mloss: 0.619:  13%|█████▎                                   |  ETA: 0:11:36\u001b[39m"
     ]
    },
    {
     "data": {
      "text/plain": [
       "0.61434865f0"
      ]
     },
     "metadata": {},
     "output_type": "display_data"
    },
    {
     "name": "stderr",
     "output_type": "stream",
     "text": [
      "\u001b[32mloss: 0.644:  13%|█████▍                                   |  ETA: 0:11:30\u001b[39m"
     ]
    },
    {
     "data": {
      "text/plain": [
       "0.6659745f0"
      ]
     },
     "metadata": {},
     "output_type": "display_data"
    },
    {
     "name": "stderr",
     "output_type": "stream",
     "text": [
      "\u001b[32mloss: 0.648:  14%|█████▋                                   |  ETA: 0:11:28\u001b[39m"
     ]
    },
    {
     "data": {
      "text/plain": [
       "0.6349025f0"
      ]
     },
     "metadata": {},
     "output_type": "display_data"
    },
    {
     "name": "stderr",
     "output_type": "stream",
     "text": [
      "\u001b[32mloss: 0.678:  14%|█████▊                                   |  ETA: 0:11:27\u001b[39m"
     ]
    },
    {
     "data": {
      "text/plain": [
       "0.63906187f0"
      ]
     },
     "metadata": {},
     "output_type": "display_data"
    },
    {
     "name": "stderr",
     "output_type": "stream",
     "text": [
      "\u001b[32mloss: 0.656:  14%|█████▉                                   |  ETA: 0:11:26\u001b[39m"
     ]
    },
    {
     "data": {
      "text/plain": [
       "0.62935114f0"
      ]
     },
     "metadata": {},
     "output_type": "display_data"
    },
    {
     "name": "stderr",
     "output_type": "stream",
     "text": [
      "\u001b[32mloss: 0.632:  15%|██████▏                                  |  ETA: 0:11:26\u001b[39m"
     ]
    },
    {
     "data": {
      "text/plain": [
       "0.6661203f0"
      ]
     },
     "metadata": {},
     "output_type": "display_data"
    },
    {
     "name": "stderr",
     "output_type": "stream",
     "text": [
      "\u001b[32mloss: 0.699:  15%|██████▎                                  |  ETA: 0:11:26\u001b[39m"
     ]
    },
    {
     "data": {
      "text/plain": [
       "0.6758835f0"
      ]
     },
     "metadata": {},
     "output_type": "display_data"
    },
    {
     "name": "stderr",
     "output_type": "stream",
     "text": [
      "\u001b[32mloss: 0.62:  16%|██████▍                                  |  ETA: 0:11:24\u001b[39mm"
     ]
    },
    {
     "data": {
      "text/plain": [
       "0.62185544f0"
      ]
     },
     "metadata": {},
     "output_type": "display_data"
    },
    {
     "name": "stderr",
     "output_type": "stream",
     "text": [
      "\u001b[32mloss: 0.654:  16%|██████▌                                  |  ETA: 0:11:22\u001b[39m"
     ]
    },
    {
     "data": {
      "text/plain": [
       "0.6002548f0"
      ]
     },
     "metadata": {},
     "output_type": "display_data"
    },
    {
     "name": "stderr",
     "output_type": "stream",
     "text": [
      "\u001b[32mloss: 0.643:  16%|██████▊                                  |  ETA: 0:11:17\u001b[39m"
     ]
    },
    {
     "data": {
      "text/plain": [
       "0.61779946f0"
      ]
     },
     "metadata": {},
     "output_type": "display_data"
    },
    {
     "name": "stderr",
     "output_type": "stream",
     "text": [
      "\u001b[32mloss: 0.606:  17%|██████▉                                  |  ETA: 0:11:15\u001b[39m"
     ]
    },
    {
     "data": {
      "text/plain": [
       "0.5646411f0"
      ]
     },
     "metadata": {},
     "output_type": "display_data"
    },
    {
     "name": "stderr",
     "output_type": "stream",
     "text": [
      "\u001b[32mloss: 0.586:  17%|███████                                  |  ETA: 0:11:13\u001b[39m"
     ]
    },
    {
     "data": {
      "text/plain": [
       "0.62255746f0"
      ]
     },
     "metadata": {},
     "output_type": "display_data"
    },
    {
     "name": "stderr",
     "output_type": "stream",
     "text": [
      "\u001b[32mloss: 0.608:  18%|███████▎                                 |  ETA: 0:11:09\u001b[39m"
     ]
    },
    {
     "data": {
      "text/plain": [
       "0.59334445f0"
      ]
     },
     "metadata": {},
     "output_type": "display_data"
    },
    {
     "name": "stderr",
     "output_type": "stream",
     "text": [
      "\u001b[32mloss: 0.593:  18%|███████▍                                 |  ETA: 0:11:04\u001b[39m"
     ]
    },
    {
     "data": {
      "text/plain": [
       "0.6168525f0"
      ]
     },
     "metadata": {},
     "output_type": "display_data"
    },
    {
     "name": "stderr",
     "output_type": "stream",
     "text": [
      "\u001b[32mloss: 0.603:  18%|███████▌                                 |  ETA: 0:11:00\u001b[39m"
     ]
    },
    {
     "data": {
      "text/plain": [
       "0.6248868f0"
      ]
     },
     "metadata": {},
     "output_type": "display_data"
    },
    {
     "name": "stderr",
     "output_type": "stream",
     "text": [
      "\u001b[32mloss: 0.598:  19%|███████▊                                 |  ETA: 0:10:57\u001b[39m"
     ]
    },
    {
     "data": {
      "text/plain": [
       "0.5879191f0"
      ]
     },
     "metadata": {},
     "output_type": "display_data"
    },
    {
     "name": "stderr",
     "output_type": "stream",
     "text": [
      "\u001b[32mloss: 0.584:  19%|███████▉                                 |  ETA: 0:10:53\u001b[39m"
     ]
    },
    {
     "data": {
      "text/plain": [
       "0.59367746f0"
      ]
     },
     "metadata": {},
     "output_type": "display_data"
    },
    {
     "name": "stderr",
     "output_type": "stream",
     "text": [
      "\u001b[32mloss: 0.611:  20%|████████                                 |  ETA: 0:10:49\u001b[39m"
     ]
    },
    {
     "data": {
      "text/plain": [
       "0.61644644f0"
      ]
     },
     "metadata": {},
     "output_type": "display_data"
    },
    {
     "name": "stderr",
     "output_type": "stream",
     "text": [
      "\u001b[32mloss: 0.623:  20%|████████▎                                |  ETA: 0:10:46\u001b[39m"
     ]
    },
    {
     "data": {
      "text/plain": [
       "0.6207596f0"
      ]
     },
     "metadata": {},
     "output_type": "display_data"
    },
    {
     "name": "stderr",
     "output_type": "stream",
     "text": [
      "\u001b[32mloss: 0.625:  20%|████████▍                                |  ETA: 0:10:44\u001b[39m"
     ]
    },
    {
     "data": {
      "text/plain": [
       "0.61581135f0"
      ]
     },
     "metadata": {},
     "output_type": "display_data"
    },
    {
     "name": "stderr",
     "output_type": "stream",
     "text": [
      "\u001b[32mloss: 0.567:  21%|████████▌                                |  ETA: 0:10:41\u001b[39m"
     ]
    },
    {
     "data": {
      "text/plain": [
       "0.54987735f0"
      ]
     },
     "metadata": {},
     "output_type": "display_data"
    },
    {
     "name": "stderr",
     "output_type": "stream",
     "text": [
      "\u001b[32mloss: 0.6:  21%|████████▊                                |  ETA: 0:10:36\u001b[39mm"
     ]
    },
    {
     "data": {
      "text/plain": [
       "0.6038747f0"
      ]
     },
     "metadata": {},
     "output_type": "display_data"
    },
    {
     "name": "stderr",
     "output_type": "stream",
     "text": [
      "\u001b[32mloss: 0.591:  22%|████████▉                                |  ETA: 0:10:33\u001b[39m"
     ]
    },
    {
     "data": {
      "text/plain": [
       "0.5735115f0"
      ]
     },
     "metadata": {},
     "output_type": "display_data"
    },
    {
     "name": "stderr",
     "output_type": "stream",
     "text": [
      "\u001b[32mloss: 0.539:  22%|█████████                                |  ETA: 0:10:29\u001b[39m"
     ]
    },
    {
     "data": {
      "text/plain": [
       "0.57883716f0"
      ]
     },
     "metadata": {},
     "output_type": "display_data"
    },
    {
     "name": "stderr",
     "output_type": "stream",
     "text": [
      "\u001b[32mloss: 0.594:  22%|█████████▏                               |  ETA: 0:10:28\u001b[39m"
     ]
    },
    {
     "data": {
      "text/plain": [
       "0.56647956f0"
      ]
     },
     "metadata": {},
     "output_type": "display_data"
    },
    {
     "name": "stderr",
     "output_type": "stream",
     "text": [
      "\u001b[32mloss: 0.55:  23%|█████████▍                               |  ETA: 0:10:26\u001b[39mm"
     ]
    },
    {
     "data": {
      "text/plain": [
       "0.5556494f0"
      ]
     },
     "metadata": {},
     "output_type": "display_data"
    },
    {
     "name": "stderr",
     "output_type": "stream",
     "text": [
      "\u001b[32mloss: 0.557:  23%|█████████▌                               |  ETA: 0:10:23\u001b[39m"
     ]
    },
    {
     "data": {
      "text/plain": [
       "0.53423774f0"
      ]
     },
     "metadata": {},
     "output_type": "display_data"
    },
    {
     "name": "stderr",
     "output_type": "stream",
     "text": [
      "\u001b[32mloss: 0.526:  24%|█████████▋                               |  ETA: 0:10:20\u001b[39m"
     ]
    },
    {
     "data": {
      "text/plain": [
       "0.5445893f0"
      ]
     },
     "metadata": {},
     "output_type": "display_data"
    },
    {
     "name": "stderr",
     "output_type": "stream",
     "text": [
      "\u001b[32mloss: 0.504:  24%|█████████▉                               |  ETA: 0:10:15\u001b[39m"
     ]
    },
    {
     "data": {
      "text/plain": [
       "0.5518583f0"
      ]
     },
     "metadata": {},
     "output_type": "display_data"
    },
    {
     "name": "stderr",
     "output_type": "stream",
     "text": [
      "\u001b[32mloss: 0.581:  24%|██████████                               |  ETA: 0:10:13\u001b[39m"
     ]
    },
    {
     "data": {
      "text/plain": [
       "0.56536394f0"
      ]
     },
     "metadata": {},
     "output_type": "display_data"
    },
    {
     "name": "stderr",
     "output_type": "stream",
     "text": [
      "\u001b[32mloss: 0.544:  25%|██████████▏                              |  ETA: 0:10:08\u001b[39m"
     ]
    },
    {
     "data": {
      "text/plain": [
       "0.57809126f0"
      ]
     },
     "metadata": {},
     "output_type": "display_data"
    },
    {
     "name": "stderr",
     "output_type": "stream",
     "text": [
      "\u001b[32mloss: 0.555:  25%|██████████▍                              |  ETA: 0:10:05\u001b[39m"
     ]
    },
    {
     "data": {
      "text/plain": [
       "0.52566963f0"
      ]
     },
     "metadata": {},
     "output_type": "display_data"
    },
    {
     "name": "stderr",
     "output_type": "stream",
     "text": [
      "\u001b[32mloss: 0.624:  26%|██████████▌                              |  ETA: 0:10:02\u001b[39m"
     ]
    },
    {
     "data": {
      "text/plain": [
       "0.5999069f0"
      ]
     },
     "metadata": {},
     "output_type": "display_data"
    },
    {
     "name": "stderr",
     "output_type": "stream",
     "text": [
      "\u001b[32mloss: 0.556:  26%|██████████▋                              |  ETA: 0:10:00\u001b[39m"
     ]
    },
    {
     "data": {
      "text/plain": [
       "0.53904295f0"
      ]
     },
     "metadata": {},
     "output_type": "display_data"
    },
    {
     "name": "stderr",
     "output_type": "stream",
     "text": [
      "\u001b[32mloss: 0.583:  26%|██████████▉                              |  ETA: 0:09:57\u001b[39m"
     ]
    },
    {
     "data": {
      "text/plain": [
       "0.54566103f0"
      ]
     },
     "metadata": {},
     "output_type": "display_data"
    },
    {
     "name": "stderr",
     "output_type": "stream",
     "text": [
      "\u001b[32mloss: 0.519:  27%|███████████                              |  ETA: 0:09:55\u001b[39m"
     ]
    },
    {
     "data": {
      "text/plain": [
       "0.5413926f0"
      ]
     },
     "metadata": {},
     "output_type": "display_data"
    },
    {
     "name": "stderr",
     "output_type": "stream",
     "text": [
      "\u001b[32mloss: 0.519:  27%|███████████▏                             |  ETA: 0:09:51\u001b[39m"
     ]
    },
    {
     "data": {
      "text/plain": [
       "0.5140045f0"
      ]
     },
     "metadata": {},
     "output_type": "display_data"
    },
    {
     "name": "stderr",
     "output_type": "stream",
     "text": [
      "\u001b[32mloss: 0.478:  28%|███████████▍                             |  ETA: 0:09:48\u001b[39m"
     ]
    },
    {
     "data": {
      "text/plain": [
       "0.5177783f0"
      ]
     },
     "metadata": {},
     "output_type": "display_data"
    },
    {
     "name": "stderr",
     "output_type": "stream",
     "text": [
      "\u001b[32mloss: 0.569:  28%|███████████▌                             |  ETA: 0:09:45\u001b[39m"
     ]
    },
    {
     "data": {
      "text/plain": [
       "0.52920896f0"
      ]
     },
     "metadata": {},
     "output_type": "display_data"
    },
    {
     "name": "stderr",
     "output_type": "stream",
     "text": [
      "\u001b[32mloss: 0.496:  28%|███████████▋                             |  ETA: 0:09:41\u001b[39m"
     ]
    },
    {
     "data": {
      "text/plain": [
       "0.50436544f0"
      ]
     },
     "metadata": {},
     "output_type": "display_data"
    },
    {
     "name": "stderr",
     "output_type": "stream",
     "text": [
      "\u001b[32mloss: 0.503:  29%|███████████▊                             |  ETA: 0:09:38\u001b[39m"
     ]
    },
    {
     "data": {
      "text/plain": [
       "0.48761502f0"
      ]
     },
     "metadata": {},
     "output_type": "display_data"
    },
    {
     "name": "stderr",
     "output_type": "stream",
     "text": [
      "\u001b[32mloss: 0.504:  29%|████████████                             |  ETA: 0:09:35\u001b[39m"
     ]
    },
    {
     "data": {
      "text/plain": [
       "0.5263857f0"
      ]
     },
     "metadata": {},
     "output_type": "display_data"
    },
    {
     "name": "stderr",
     "output_type": "stream",
     "text": [
      "\u001b[32mloss: 0.487:  30%|████████████▏                            |  ETA: 0:09:31\u001b[39m"
     ]
    },
    {
     "data": {
      "text/plain": [
       "0.49636793f0"
      ]
     },
     "metadata": {},
     "output_type": "display_data"
    },
    {
     "name": "stderr",
     "output_type": "stream",
     "text": [
      "\u001b[32mloss: 0.529:  30%|████████████▎                            |  ETA: 0:09:28\u001b[39m"
     ]
    },
    {
     "data": {
      "text/plain": [
       "0.53459215f0"
      ]
     },
     "metadata": {},
     "output_type": "display_data"
    },
    {
     "name": "stderr",
     "output_type": "stream",
     "text": [
      "\u001b[32mloss: 0.517:  30%|████████████▌                            |  ETA: 0:09:24\u001b[39m"
     ]
    },
    {
     "data": {
      "text/plain": [
       "0.55406994f0"
      ]
     },
     "metadata": {},
     "output_type": "display_data"
    },
    {
     "name": "stderr",
     "output_type": "stream",
     "text": [
      "\u001b[32mloss: 0.542:  31%|████████████▋                            |  ETA: 0:09:22\u001b[39m"
     ]
    },
    {
     "data": {
      "text/plain": [
       "0.485874f0"
      ]
     },
     "metadata": {},
     "output_type": "display_data"
    },
    {
     "name": "stderr",
     "output_type": "stream",
     "text": [
      "\u001b[32mloss: 0.545:  31%|████████████▊                            |  ETA: 0:09:18\u001b[39m"
     ]
    },
    {
     "data": {
      "text/plain": [
       "0.56652105f0"
      ]
     },
     "metadata": {},
     "output_type": "display_data"
    },
    {
     "name": "stderr",
     "output_type": "stream",
     "text": [
      "\u001b[32mloss: 0.564:  32%|█████████████                            |  ETA: 0:09:15\u001b[39m"
     ]
    },
    {
     "data": {
      "text/plain": [
       "0.54722905f0"
      ]
     },
     "metadata": {},
     "output_type": "display_data"
    },
    {
     "name": "stderr",
     "output_type": "stream",
     "text": [
      "\u001b[32mloss: 0.556:  32%|█████████████▏                           |  ETA: 0:09:12\u001b[39m"
     ]
    },
    {
     "data": {
      "text/plain": [
       "0.52021086f0"
      ]
     },
     "metadata": {},
     "output_type": "display_data"
    },
    {
     "name": "stderr",
     "output_type": "stream",
     "text": [
      "\u001b[32mloss: 0.561:  32%|█████████████▎                           |  ETA: 0:09:10\u001b[39m"
     ]
    },
    {
     "data": {
      "text/plain": [
       "0.5225051f0"
      ]
     },
     "metadata": {},
     "output_type": "display_data"
    },
    {
     "name": "stderr",
     "output_type": "stream",
     "text": [
      "\u001b[32mloss: 0.526:  33%|█████████████▌                           |  ETA: 0:09:07\u001b[39m"
     ]
    },
    {
     "data": {
      "text/plain": [
       "0.54351205f0"
      ]
     },
     "metadata": {},
     "output_type": "display_data"
    },
    {
     "name": "stderr",
     "output_type": "stream",
     "text": [
      "\u001b[32mloss: 0.541:  33%|█████████████▋                           |  ETA: 0:09:03\u001b[39m"
     ]
    },
    {
     "data": {
      "text/plain": [
       "0.48805773f0"
      ]
     },
     "metadata": {},
     "output_type": "display_data"
    },
    {
     "name": "stderr",
     "output_type": "stream",
     "text": [
      "\u001b[32mloss: 0.518:  34%|█████████████▊                           |  ETA: 0:09:00\u001b[39m"
     ]
    },
    {
     "data": {
      "text/plain": [
       "0.54094493f0"
      ]
     },
     "metadata": {},
     "output_type": "display_data"
    },
    {
     "name": "stderr",
     "output_type": "stream",
     "text": [
      "\u001b[32mloss: 0.537:  34%|██████████████                           |  ETA: 0:08:56\u001b[39m"
     ]
    },
    {
     "data": {
      "text/plain": [
       "0.49406806f0"
      ]
     },
     "metadata": {},
     "output_type": "display_data"
    },
    {
     "name": "stderr",
     "output_type": "stream",
     "text": [
      "\u001b[32mloss: 0.506:  34%|██████████████▏                          |  ETA: 0:08:52\u001b[39m"
     ]
    },
    {
     "data": {
      "text/plain": [
       "0.5031814f0"
      ]
     },
     "metadata": {},
     "output_type": "display_data"
    },
    {
     "name": "stderr",
     "output_type": "stream",
     "text": [
      "\u001b[32mloss: 0.547:  35%|██████████████▎                          |  ETA: 0:08:50\u001b[39m"
     ]
    },
    {
     "data": {
      "text/plain": [
       "0.48838565f0"
      ]
     },
     "metadata": {},
     "output_type": "display_data"
    },
    {
     "name": "stderr",
     "output_type": "stream",
     "text": [
      "\u001b[32mloss: 0.549:  35%|██████████████▍                          |  ETA: 0:08:47\u001b[39m"
     ]
    },
    {
     "data": {
      "text/plain": [
       "0.5004052f0"
      ]
     },
     "metadata": {},
     "output_type": "display_data"
    },
    {
     "name": "stderr",
     "output_type": "stream",
     "text": [
      "\u001b[32mloss: 0.515:  36%|██████████████▋                          |  ETA: 0:08:43\u001b[39m"
     ]
    },
    {
     "data": {
      "text/plain": [
       "0.46564135f0"
      ]
     },
     "metadata": {},
     "output_type": "display_data"
    },
    {
     "name": "stderr",
     "output_type": "stream",
     "text": [
      "\u001b[32mloss: 0.493:  36%|██████████████▊                          |  ETA: 0:08:39\u001b[39m"
     ]
    },
    {
     "data": {
      "text/plain": [
       "0.5384549f0"
      ]
     },
     "metadata": {},
     "output_type": "display_data"
    },
    {
     "name": "stderr",
     "output_type": "stream",
     "text": [
      "\u001b[32mloss: 0.484:  36%|██████████████▉                          |  ETA: 0:08:36\u001b[39m"
     ]
    },
    {
     "data": {
      "text/plain": [
       "0.49956593f0"
      ]
     },
     "metadata": {},
     "output_type": "display_data"
    },
    {
     "name": "stderr",
     "output_type": "stream",
     "text": [
      "\u001b[32mloss: 0.517:  37%|███████████████▏                         |  ETA: 0:08:33\u001b[39m"
     ]
    },
    {
     "data": {
      "text/plain": [
       "0.49788034f0"
      ]
     },
     "metadata": {},
     "output_type": "display_data"
    },
    {
     "name": "stderr",
     "output_type": "stream",
     "text": [
      "\u001b[32mloss: 0.51:  37%|███████████████▎                         |  ETA: 0:08:29\u001b[39mm"
     ]
    },
    {
     "data": {
      "text/plain": [
       "0.4558439f0"
      ]
     },
     "metadata": {},
     "output_type": "display_data"
    },
    {
     "name": "stderr",
     "output_type": "stream",
     "text": [
      "\u001b[32mloss: 0.505:  38%|███████████████▍                         |  ETA: 0:08:26\u001b[39m"
     ]
    },
    {
     "data": {
      "text/plain": [
       "0.5024649f0"
      ]
     },
     "metadata": {},
     "output_type": "display_data"
    },
    {
     "name": "stderr",
     "output_type": "stream",
     "text": [
      "\u001b[32mloss: 0.471:  38%|███████████████▋                         |  ETA: 0:08:23\u001b[39m"
     ]
    },
    {
     "data": {
      "text/plain": [
       "0.4801103f0"
      ]
     },
     "metadata": {},
     "output_type": "display_data"
    },
    {
     "name": "stderr",
     "output_type": "stream",
     "text": [
      "\u001b[32mloss: 0.456:  38%|███████████████▊                         |  ETA: 0:08:19\u001b[39m"
     ]
    },
    {
     "data": {
      "text/plain": [
       "0.49811763f0"
      ]
     },
     "metadata": {},
     "output_type": "display_data"
    },
    {
     "name": "stderr",
     "output_type": "stream",
     "text": [
      "\u001b[32mloss: 0.563:  39%|███████████████▉                         |  ETA: 0:08:16\u001b[39m"
     ]
    },
    {
     "data": {
      "text/plain": [
       "0.49424303f0"
      ]
     },
     "metadata": {},
     "output_type": "display_data"
    },
    {
     "name": "stderr",
     "output_type": "stream",
     "text": [
      "\u001b[32mloss: 0.46:  39%|████████████████▏                        |  ETA: 0:08:13\u001b[39mm"
     ]
    },
    {
     "data": {
      "text/plain": [
       "0.46040416f0"
      ]
     },
     "metadata": {},
     "output_type": "display_data"
    },
    {
     "name": "stderr",
     "output_type": "stream",
     "text": [
      "\u001b[32mloss: 0.471:  40%|████████████████▎                        |  ETA: 0:08:10\u001b[39m"
     ]
    },
    {
     "data": {
      "text/plain": [
       "0.47153583f0"
      ]
     },
     "metadata": {},
     "output_type": "display_data"
    },
    {
     "name": "stderr",
     "output_type": "stream",
     "text": [
      "\u001b[32mloss: 0.506:  40%|████████████████▍                        |  ETA: 0:08:07\u001b[39m"
     ]
    },
    {
     "data": {
      "text/plain": [
       "0.45939496f0"
      ]
     },
     "metadata": {},
     "output_type": "display_data"
    },
    {
     "name": "stderr",
     "output_type": "stream",
     "text": [
      "\u001b[32mloss: 0.507:  40%|████████████████▋                        |  ETA: 0:08:04\u001b[39m"
     ]
    },
    {
     "data": {
      "text/plain": [
       "0.45979905f0"
      ]
     },
     "metadata": {},
     "output_type": "display_data"
    },
    {
     "name": "stderr",
     "output_type": "stream",
     "text": [
      "\u001b[32mloss: 0.502:  41%|████████████████▊                        |  ETA: 0:08:01\u001b[39m"
     ]
    },
    {
     "data": {
      "text/plain": [
       "0.4972732f0"
      ]
     },
     "metadata": {},
     "output_type": "display_data"
    },
    {
     "name": "stderr",
     "output_type": "stream",
     "text": [
      "\u001b[32mloss: 0.555:  41%|████████████████▉                        |  ETA: 0:07:58\u001b[39m"
     ]
    },
    {
     "data": {
      "text/plain": [
       "0.5199153f0"
      ]
     },
     "metadata": {},
     "output_type": "display_data"
    },
    {
     "name": "stderr",
     "output_type": "stream",
     "text": [
      "\u001b[32mloss: 0.543:  42%|█████████████████                        |  ETA: 0:07:54\u001b[39m"
     ]
    },
    {
     "data": {
      "text/plain": [
       "0.5382293f0"
      ]
     },
     "metadata": {},
     "output_type": "display_data"
    },
    {
     "name": "stderr",
     "output_type": "stream",
     "text": [
      "\u001b[32mloss: 0.505:  42%|█████████████████▎                       |  ETA: 0:07:51\u001b[39m"
     ]
    },
    {
     "data": {
      "text/plain": [
       "0.4834286f0"
      ]
     },
     "metadata": {},
     "output_type": "display_data"
    },
    {
     "name": "stderr",
     "output_type": "stream",
     "text": [
      "\u001b[32mloss: 0.523:  42%|█████████████████▍                       |  ETA: 0:07:48\u001b[39m"
     ]
    },
    {
     "data": {
      "text/plain": [
       "0.5279422f0"
      ]
     },
     "metadata": {},
     "output_type": "display_data"
    },
    {
     "name": "stderr",
     "output_type": "stream",
     "text": [
      "\u001b[32mloss: 0.467:  43%|█████████████████▌                       |  ETA: 0:07:45\u001b[39m"
     ]
    },
    {
     "data": {
      "text/plain": [
       "0.48495284f0"
      ]
     },
     "metadata": {},
     "output_type": "display_data"
    },
    {
     "name": "stderr",
     "output_type": "stream",
     "text": [
      "\u001b[32mloss: 0.482:  43%|█████████████████▊                       |  ETA: 0:07:42\u001b[39m"
     ]
    },
    {
     "data": {
      "text/plain": [
       "0.47607923f0"
      ]
     },
     "metadata": {},
     "output_type": "display_data"
    },
    {
     "name": "stderr",
     "output_type": "stream",
     "text": [
      "\u001b[32mloss: 0.457:  44%|█████████████████▉                       |  ETA: 0:07:39\u001b[39m"
     ]
    },
    {
     "data": {
      "text/plain": [
       "0.5035688f0"
      ]
     },
     "metadata": {},
     "output_type": "display_data"
    },
    {
     "name": "stderr",
     "output_type": "stream",
     "text": [
      "\u001b[32mloss: 0.478:  44%|██████████████████                       |  ETA: 0:07:36\u001b[39m"
     ]
    },
    {
     "data": {
      "text/plain": [
       "0.43054622f0"
      ]
     },
     "metadata": {},
     "output_type": "display_data"
    },
    {
     "name": "stderr",
     "output_type": "stream",
     "text": [
      "\u001b[32mloss: 0.485:  44%|██████████████████▎                      |  ETA: 0:07:33\u001b[39m"
     ]
    },
    {
     "data": {
      "text/plain": [
       "0.5414567f0"
      ]
     },
     "metadata": {},
     "output_type": "display_data"
    },
    {
     "name": "stderr",
     "output_type": "stream",
     "text": [
      "\u001b[32mloss: 0.52:  45%|██████████████████▍                      |  ETA: 0:07:30\u001b[39mm"
     ]
    },
    {
     "data": {
      "text/plain": [
       "0.42763326f0"
      ]
     },
     "metadata": {},
     "output_type": "display_data"
    },
    {
     "name": "stderr",
     "output_type": "stream",
     "text": [
      "\u001b[32mloss: 0.451:  45%|██████████████████▌                      |  ETA: 0:07:27\u001b[39m"
     ]
    },
    {
     "data": {
      "text/plain": [
       "0.45817018f0"
      ]
     },
     "metadata": {},
     "output_type": "display_data"
    },
    {
     "name": "stderr",
     "output_type": "stream",
     "text": [
      "\u001b[32mloss: 0.484:  46%|██████████████████▊                      |  ETA: 0:07:24\u001b[39m"
     ]
    },
    {
     "data": {
      "text/plain": [
       "0.43989623f0"
      ]
     },
     "metadata": {},
     "output_type": "display_data"
    },
    {
     "name": "stderr",
     "output_type": "stream",
     "text": [
      "\u001b[32mloss: 0.429:  46%|██████████████████▉                      |  ETA: 0:07:20\u001b[39m"
     ]
    },
    {
     "data": {
      "text/plain": [
       "0.5535065f0"
      ]
     },
     "metadata": {},
     "output_type": "display_data"
    },
    {
     "name": "stderr",
     "output_type": "stream",
     "text": [
      "\u001b[32mloss: 0.488:  46%|███████████████████                      |  ETA: 0:07:17\u001b[39m"
     ]
    },
    {
     "data": {
      "text/plain": [
       "0.4985739f0"
      ]
     },
     "metadata": {},
     "output_type": "display_data"
    },
    {
     "name": "stderr",
     "output_type": "stream",
     "text": [
      "\u001b[32mloss: 0.497:  47%|███████████████████▎                     |  ETA: 0:07:14\u001b[39m"
     ]
    },
    {
     "data": {
      "text/plain": [
       "0.5192344f0"
      ]
     },
     "metadata": {},
     "output_type": "display_data"
    },
    {
     "name": "stderr",
     "output_type": "stream",
     "text": [
      "\u001b[32mloss: 0.44:  47%|███████████████████▍                     |  ETA: 0:07:10\u001b[39mm"
     ]
    },
    {
     "data": {
      "text/plain": [
       "0.4818679f0"
      ]
     },
     "metadata": {},
     "output_type": "display_data"
    },
    {
     "name": "stderr",
     "output_type": "stream",
     "text": [
      "\u001b[32mloss: 0.479:  48%|███████████████████▌                     |  ETA: 0:07:07\u001b[39m"
     ]
    },
    {
     "data": {
      "text/plain": [
       "0.5154974f0"
      ]
     },
     "metadata": {},
     "output_type": "display_data"
    },
    {
     "name": "stderr",
     "output_type": "stream",
     "text": [
      "\u001b[32mloss: 0.452:  48%|███████████████████▋                     |  ETA: 0:07:04\u001b[39m"
     ]
    },
    {
     "data": {
      "text/plain": [
       "0.48329934f0"
      ]
     },
     "metadata": {},
     "output_type": "display_data"
    },
    {
     "name": "stderr",
     "output_type": "stream",
     "text": [
      "\u001b[32mloss: 0.449:  48%|███████████████████▉                     |  ETA: 0:07:01\u001b[39m"
     ]
    },
    {
     "data": {
      "text/plain": [
       "0.39260054f0"
      ]
     },
     "metadata": {},
     "output_type": "display_data"
    },
    {
     "name": "stderr",
     "output_type": "stream",
     "text": [
      "\u001b[32mloss: 0.519:  49%|████████████████████                     |  ETA: 0:06:58\u001b[39m"
     ]
    },
    {
     "data": {
      "text/plain": [
       "0.49965036f0"
      ]
     },
     "metadata": {},
     "output_type": "display_data"
    },
    {
     "name": "stderr",
     "output_type": "stream",
     "text": [
      "\u001b[32mloss: 0.494:  49%|████████████████████▏                    |  ETA: 0:06:55\u001b[39m"
     ]
    },
    {
     "data": {
      "text/plain": [
       "0.51218677f0"
      ]
     },
     "metadata": {},
     "output_type": "display_data"
    },
    {
     "name": "stderr",
     "output_type": "stream",
     "text": [
      "\u001b[32mloss: 0.489:  50%|████████████████████▍                    |  ETA: 0:06:51\u001b[39m"
     ]
    },
    {
     "data": {
      "text/plain": [
       "0.48050538f0"
      ]
     },
     "metadata": {},
     "output_type": "display_data"
    },
    {
     "name": "stderr",
     "output_type": "stream",
     "text": [
      "\u001b[32mloss: 0.501:  50%|████████████████████▌                    |  ETA: 0:06:48\u001b[39m"
     ]
    },
    {
     "data": {
      "text/plain": [
       "0.5122579f0"
      ]
     },
     "metadata": {},
     "output_type": "display_data"
    },
    {
     "name": "stderr",
     "output_type": "stream",
     "text": [
      "\u001b[32mloss: 0.48:  50%|████████████████████▋                    |  ETA: 0:06:45\u001b[39mm"
     ]
    },
    {
     "data": {
      "text/plain": [
       "0.525384f0"
      ]
     },
     "metadata": {},
     "output_type": "display_data"
    },
    {
     "name": "stderr",
     "output_type": "stream",
     "text": [
      "\u001b[32mloss: 0.451:  51%|████████████████████▉                    |  ETA: 0:06:41\u001b[39m"
     ]
    },
    {
     "data": {
      "text/plain": [
       "0.51629436f0"
      ]
     },
     "metadata": {},
     "output_type": "display_data"
    },
    {
     "name": "stderr",
     "output_type": "stream",
     "text": [
      "\u001b[32mloss: 0.459:  51%|█████████████████████                    |  ETA: 0:06:38\u001b[39m"
     ]
    },
    {
     "data": {
      "text/plain": [
       "0.5295834f0"
      ]
     },
     "metadata": {},
     "output_type": "display_data"
    },
    {
     "name": "stderr",
     "output_type": "stream",
     "text": [
      "\u001b[32mloss: 0.462:  52%|█████████████████████▏                   |  ETA: 0:06:34\u001b[39m"
     ]
    },
    {
     "data": {
      "text/plain": [
       "0.50273556f0"
      ]
     },
     "metadata": {},
     "output_type": "display_data"
    },
    {
     "name": "stderr",
     "output_type": "stream",
     "text": [
      "\u001b[32mloss: 0.41:  52%|█████████████████████▍                   |  ETA: 0:06:31\u001b[39mm"
     ]
    },
    {
     "data": {
      "text/plain": [
       "0.4390887f0"
      ]
     },
     "metadata": {},
     "output_type": "display_data"
    },
    {
     "name": "stderr",
     "output_type": "stream",
     "text": [
      "\u001b[32mloss: 0.488:  52%|█████████████████████▌                   |  ETA: 0:06:28\u001b[39m"
     ]
    },
    {
     "data": {
      "text/plain": [
       "0.4729501f0"
      ]
     },
     "metadata": {},
     "output_type": "display_data"
    },
    {
     "name": "stderr",
     "output_type": "stream",
     "text": [
      "\u001b[32mloss: 0.394:  53%|█████████████████████▋                   |  ETA: 0:06:24\u001b[39m"
     ]
    },
    {
     "data": {
      "text/plain": [
       "0.4551469f0"
      ]
     },
     "metadata": {},
     "output_type": "display_data"
    },
    {
     "name": "stderr",
     "output_type": "stream",
     "text": [
      "\u001b[32mloss: 0.453:  53%|█████████████████████▊                   |  ETA: 0:06:21\u001b[39m"
     ]
    },
    {
     "data": {
      "text/plain": [
       "0.4325617f0"
      ]
     },
     "metadata": {},
     "output_type": "display_data"
    },
    {
     "name": "stderr",
     "output_type": "stream",
     "text": [
      "\u001b[32mloss: 0.439:  54%|██████████████████████                   |  ETA: 0:06:18\u001b[39m"
     ]
    },
    {
     "data": {
      "text/plain": [
       "0.4756009f0"
      ]
     },
     "metadata": {},
     "output_type": "display_data"
    },
    {
     "name": "stderr",
     "output_type": "stream",
     "text": [
      "\u001b[32mloss: 0.472:  54%|██████████████████████▏                  |  ETA: 0:06:14\u001b[39m"
     ]
    },
    {
     "data": {
      "text/plain": [
       "0.45565346f0"
      ]
     },
     "metadata": {},
     "output_type": "display_data"
    },
    {
     "name": "stderr",
     "output_type": "stream",
     "text": [
      "\u001b[32mloss: 0.473:  54%|██████████████████████▎                  |  ETA: 0:06:11\u001b[39m"
     ]
    },
    {
     "data": {
      "text/plain": [
       "0.44150305f0"
      ]
     },
     "metadata": {},
     "output_type": "display_data"
    },
    {
     "name": "stderr",
     "output_type": "stream",
     "text": [
      "\u001b[32mloss: 0.387:  55%|██████████████████████▌                  |  ETA: 0:06:08\u001b[39m"
     ]
    },
    {
     "data": {
      "text/plain": [
       "0.45355105f0"
      ]
     },
     "metadata": {},
     "output_type": "display_data"
    },
    {
     "name": "stderr",
     "output_type": "stream",
     "text": [
      "\u001b[32mloss: 0.445:  55%|██████████████████████▋                  |  ETA: 0:06:05\u001b[39m"
     ]
    },
    {
     "data": {
      "text/plain": [
       "0.4079644f0"
      ]
     },
     "metadata": {},
     "output_type": "display_data"
    },
    {
     "name": "stderr",
     "output_type": "stream",
     "text": [
      "\u001b[32mloss: 0.424:  56%|██████████████████████▊                  |  ETA: 0:06:02\u001b[39m"
     ]
    },
    {
     "data": {
      "text/plain": [
       "0.42592844f0"
      ]
     },
     "metadata": {},
     "output_type": "display_data"
    },
    {
     "name": "stderr",
     "output_type": "stream",
     "text": [
      "\u001b[32mloss: 0.448:  56%|███████████████████████                  |  ETA: 0:05:59\u001b[39m"
     ]
    },
    {
     "data": {
      "text/plain": [
       "0.42207575f0"
      ]
     },
     "metadata": {},
     "output_type": "display_data"
    },
    {
     "name": "stderr",
     "output_type": "stream",
     "text": [
      "\u001b[32mloss: 0.514:  56%|███████████████████████▏                 |  ETA: 0:05:56\u001b[39m"
     ]
    },
    {
     "data": {
      "text/plain": [
       "0.43112788f0"
      ]
     },
     "metadata": {},
     "output_type": "display_data"
    },
    {
     "name": "stderr",
     "output_type": "stream",
     "text": [
      "\u001b[32mloss: 0.513:  57%|███████████████████████▎                 |  ETA: 0:05:53\u001b[39m"
     ]
    },
    {
     "data": {
      "text/plain": [
       "0.44439608f0"
      ]
     },
     "metadata": {},
     "output_type": "display_data"
    },
    {
     "name": "stderr",
     "output_type": "stream",
     "text": [
      "\u001b[32mloss: 0.479:  57%|███████████████████████▌                 |  ETA: 0:05:50\u001b[39m"
     ]
    },
    {
     "data": {
      "text/plain": [
       "0.49514583f0"
      ]
     },
     "metadata": {},
     "output_type": "display_data"
    },
    {
     "name": "stderr",
     "output_type": "stream",
     "text": [
      "\u001b[32mloss: 0.521:  58%|███████████████████████▋                 |  ETA: 0:05:46\u001b[39m"
     ]
    },
    {
     "data": {
      "text/plain": [
       "0.4796009f0"
      ]
     },
     "metadata": {},
     "output_type": "display_data"
    },
    {
     "name": "stderr",
     "output_type": "stream",
     "text": [
      "\u001b[32mloss: 0.428:  58%|███████████████████████▊                 |  ETA: 0:05:43\u001b[39m"
     ]
    },
    {
     "data": {
      "text/plain": [
       "0.43887627f0"
      ]
     },
     "metadata": {},
     "output_type": "display_data"
    },
    {
     "name": "stderr",
     "output_type": "stream",
     "text": [
      "\u001b[32mloss: 0.506:  58%|████████████████████████                 |  ETA: 0:05:40\u001b[39m"
     ]
    },
    {
     "data": {
      "text/plain": [
       "0.46597484f0"
      ]
     },
     "metadata": {},
     "output_type": "display_data"
    },
    {
     "name": "stderr",
     "output_type": "stream",
     "text": [
      "\u001b[32mloss: 0.454:  59%|████████████████████████▏                |  ETA: 0:05:36\u001b[39m"
     ]
    },
    {
     "data": {
      "text/plain": [
       "0.49833995f0"
      ]
     },
     "metadata": {},
     "output_type": "display_data"
    },
    {
     "name": "stderr",
     "output_type": "stream",
     "text": [
      "\u001b[32mloss: 0.498:  59%|████████████████████████▎                |  ETA: 0:05:33\u001b[39m"
     ]
    },
    {
     "data": {
      "text/plain": [
       "0.46837148f0"
      ]
     },
     "metadata": {},
     "output_type": "display_data"
    },
    {
     "name": "stderr",
     "output_type": "stream",
     "text": [
      "\u001b[32mloss: 0.463:  60%|████████████████████████▍                |  ETA: 0:05:30\u001b[39m"
     ]
    },
    {
     "data": {
      "text/plain": [
       "0.483436f0"
      ]
     },
     "metadata": {},
     "output_type": "display_data"
    },
    {
     "name": "stderr",
     "output_type": "stream",
     "text": [
      "\u001b[32mloss: 0.531:  60%|████████████████████████▋                |  ETA: 0:05:27\u001b[39m"
     ]
    },
    {
     "data": {
      "text/plain": [
       "0.46437398f0"
      ]
     },
     "metadata": {},
     "output_type": "display_data"
    },
    {
     "name": "stderr",
     "output_type": "stream",
     "text": [
      "\u001b[32mloss: 0.473:  60%|████████████████████████▊                |  ETA: 0:05:24\u001b[39m"
     ]
    },
    {
     "data": {
      "text/plain": [
       "0.47227213f0"
      ]
     },
     "metadata": {},
     "output_type": "display_data"
    },
    {
     "name": "stderr",
     "output_type": "stream",
     "text": [
      "\u001b[32mloss: 0.492:  61%|████████████████████████▉                |  ETA: 0:05:20\u001b[39m"
     ]
    },
    {
     "data": {
      "text/plain": [
       "0.42128146f0"
      ]
     },
     "metadata": {},
     "output_type": "display_data"
    },
    {
     "name": "stderr",
     "output_type": "stream",
     "text": [
      "\u001b[32mloss: 0.453:  61%|█████████████████████████▏               |  ETA: 0:05:17\u001b[39m"
     ]
    },
    {
     "data": {
      "text/plain": [
       "0.44119096f0"
      ]
     },
     "metadata": {},
     "output_type": "display_data"
    },
    {
     "name": "stderr",
     "output_type": "stream",
     "text": [
      "\u001b[32mloss: 0.484:  62%|█████████████████████████▎               |  ETA: 0:05:14\u001b[39m"
     ]
    },
    {
     "data": {
      "text/plain": [
       "0.4650482f0"
      ]
     },
     "metadata": {},
     "output_type": "display_data"
    },
    {
     "name": "stderr",
     "output_type": "stream",
     "text": [
      "\u001b[32mloss: 0.41:  62%|█████████████████████████▍               |  ETA: 0:05:11\u001b[39mm"
     ]
    },
    {
     "data": {
      "text/plain": [
       "0.45734495f0"
      ]
     },
     "metadata": {},
     "output_type": "display_data"
    },
    {
     "name": "stderr",
     "output_type": "stream",
     "text": [
      "\u001b[32mloss: 0.473:  62%|█████████████████████████▋               |  ETA: 0:05:07\u001b[39m"
     ]
    },
    {
     "data": {
      "text/plain": [
       "0.4230802f0"
      ]
     },
     "metadata": {},
     "output_type": "display_data"
    },
    {
     "name": "stderr",
     "output_type": "stream",
     "text": [
      "\u001b[32mloss: 0.415:  63%|█████████████████████████▊               |  ETA: 0:05:04\u001b[39m"
     ]
    },
    {
     "data": {
      "text/plain": [
       "0.41408607f0"
      ]
     },
     "metadata": {},
     "output_type": "display_data"
    },
    {
     "name": "stderr",
     "output_type": "stream",
     "text": [
      "\u001b[32mloss: 0.414:  63%|█████████████████████████▉               |  ETA: 0:05:01\u001b[39m"
     ]
    },
    {
     "data": {
      "text/plain": [
       "0.41011152f0"
      ]
     },
     "metadata": {},
     "output_type": "display_data"
    },
    {
     "name": "stderr",
     "output_type": "stream",
     "text": [
      "\u001b[32mloss: 0.381:  64%|██████████████████████████▏              |  ETA: 0:04:57\u001b[39m"
     ]
    },
    {
     "data": {
      "text/plain": [
       "0.35703665f0"
      ]
     },
     "metadata": {},
     "output_type": "display_data"
    },
    {
     "name": "stderr",
     "output_type": "stream",
     "text": [
      "\u001b[32mloss: 0.394:  64%|██████████████████████████▎              |  ETA: 0:04:54\u001b[39m"
     ]
    },
    {
     "data": {
      "text/plain": [
       "0.4500868f0"
      ]
     },
     "metadata": {},
     "output_type": "display_data"
    },
    {
     "name": "stderr",
     "output_type": "stream",
     "text": [
      "\u001b[32mloss: 0.389:  64%|██████████████████████████▍              |  ETA: 0:04:50\u001b[39m"
     ]
    },
    {
     "data": {
      "text/plain": [
       "0.43926492f0"
      ]
     },
     "metadata": {},
     "output_type": "display_data"
    },
    {
     "name": "stderr",
     "output_type": "stream",
     "text": [
      "\u001b[32mloss: 0.404:  65%|██████████████████████████▋              |  ETA: 0:04:47\u001b[39m"
     ]
    },
    {
     "data": {
      "text/plain": [
       "0.41233823f0"
      ]
     },
     "metadata": {},
     "output_type": "display_data"
    },
    {
     "name": "stderr",
     "output_type": "stream",
     "text": [
      "\u001b[32mloss: 0.417:  65%|██████████████████████████▊              |  ETA: 0:04:44\u001b[39m"
     ]
    },
    {
     "data": {
      "text/plain": [
       "0.42174459f0"
      ]
     },
     "metadata": {},
     "output_type": "display_data"
    },
    {
     "name": "stderr",
     "output_type": "stream",
     "text": [
      "\u001b[32mloss: 0.428:  66%|██████████████████████████▉              |  ETA: 0:04:40\u001b[39m"
     ]
    },
    {
     "data": {
      "text/plain": [
       "0.40865025f0"
      ]
     },
     "metadata": {},
     "output_type": "display_data"
    },
    {
     "name": "stderr",
     "output_type": "stream",
     "text": [
      "\u001b[32mloss: 0.414:  66%|███████████████████████████              |  ETA: 0:04:37\u001b[39m"
     ]
    },
    {
     "data": {
      "text/plain": [
       "0.3863833f0"
      ]
     },
     "metadata": {},
     "output_type": "display_data"
    },
    {
     "name": "stderr",
     "output_type": "stream",
     "text": [
      "\u001b[32mloss: 0.4:  66%|███████████████████████████▎             |  ETA: 0:04:33\u001b[39m9m"
     ]
    },
    {
     "data": {
      "text/plain": [
       "0.45856342f0"
      ]
     },
     "metadata": {},
     "output_type": "display_data"
    },
    {
     "name": "stderr",
     "output_type": "stream",
     "text": [
      "\u001b[32mloss: 0.4:  67%|███████████████████████████▍             |  ETA: 0:04:30\u001b[39m9m"
     ]
    },
    {
     "data": {
      "text/plain": [
       "0.4538613f0"
      ]
     },
     "metadata": {},
     "output_type": "display_data"
    },
    {
     "name": "stderr",
     "output_type": "stream",
     "text": [
      "\u001b[32mloss: 0.423:  67%|███████████████████████████▌             |  ETA: 0:04:27\u001b[39m"
     ]
    },
    {
     "data": {
      "text/plain": [
       "0.44221902f0"
      ]
     },
     "metadata": {},
     "output_type": "display_data"
    },
    {
     "name": "stderr",
     "output_type": "stream",
     "text": [
      "\u001b[32mloss: 0.459:  68%|███████████████████████████▊             |  ETA: 0:04:24\u001b[39m"
     ]
    },
    {
     "data": {
      "text/plain": [
       "0.456852f0"
      ]
     },
     "metadata": {},
     "output_type": "display_data"
    },
    {
     "name": "stderr",
     "output_type": "stream",
     "text": [
      "\u001b[32mloss: 0.425:  68%|███████████████████████████▉             |  ETA: 0:04:20\u001b[39m"
     ]
    },
    {
     "data": {
      "text/plain": [
       "0.43676925f0"
      ]
     },
     "metadata": {},
     "output_type": "display_data"
    },
    {
     "name": "stderr",
     "output_type": "stream",
     "text": [
      "\u001b[32mloss: 0.432:  68%|████████████████████████████             |  ETA: 0:04:17\u001b[39m"
     ]
    },
    {
     "data": {
      "text/plain": [
       "0.4874956f0"
      ]
     },
     "metadata": {},
     "output_type": "display_data"
    },
    {
     "name": "stderr",
     "output_type": "stream",
     "text": [
      "\u001b[32mloss: 0.464:  69%|████████████████████████████▎            |  ETA: 0:04:14\u001b[39m"
     ]
    },
    {
     "data": {
      "text/plain": [
       "0.47915974f0"
      ]
     },
     "metadata": {},
     "output_type": "display_data"
    },
    {
     "name": "stderr",
     "output_type": "stream",
     "text": [
      "\u001b[32mloss: 0.418:  69%|████████████████████████████▍            |  ETA: 0:04:11\u001b[39m"
     ]
    },
    {
     "data": {
      "text/plain": [
       "0.47838786f0"
      ]
     },
     "metadata": {},
     "output_type": "display_data"
    },
    {
     "name": "stderr",
     "output_type": "stream",
     "text": [
      "\u001b[32mloss: 0.483:  70%|████████████████████████████▌            |  ETA: 0:04:07\u001b[39m"
     ]
    },
    {
     "data": {
      "text/plain": [
       "0.44100314f0"
      ]
     },
     "metadata": {},
     "output_type": "display_data"
    },
    {
     "name": "stderr",
     "output_type": "stream",
     "text": [
      "\u001b[32mloss: 0.453:  70%|████████████████████████████▊            |  ETA: 0:04:04\u001b[39m"
     ]
    },
    {
     "data": {
      "text/plain": [
       "0.4301501f0"
      ]
     },
     "metadata": {},
     "output_type": "display_data"
    },
    {
     "name": "stderr",
     "output_type": "stream",
     "text": [
      "\u001b[32mloss: 0.461:  70%|████████████████████████████▉            |  ETA: 0:04:01\u001b[39m"
     ]
    },
    {
     "data": {
      "text/plain": [
       "0.45363843f0"
      ]
     },
     "metadata": {},
     "output_type": "display_data"
    },
    {
     "name": "stderr",
     "output_type": "stream",
     "text": [
      "\u001b[32mloss: 0.412:  71%|█████████████████████████████            |  ETA: 0:03:57\u001b[39m"
     ]
    },
    {
     "data": {
      "text/plain": [
       "0.45035976f0"
      ]
     },
     "metadata": {},
     "output_type": "display_data"
    },
    {
     "name": "stderr",
     "output_type": "stream",
     "text": [
      "\u001b[32mloss: 0.442:  71%|█████████████████████████████▎           |  ETA: 0:03:54\u001b[39m"
     ]
    },
    {
     "data": {
      "text/plain": [
       "0.39567822f0"
      ]
     },
     "metadata": {},
     "output_type": "display_data"
    },
    {
     "name": "stderr",
     "output_type": "stream",
     "text": [
      "\u001b[32mloss: 0.418:  72%|█████████████████████████████▍           |  ETA: 0:03:51\u001b[39m"
     ]
    },
    {
     "data": {
      "text/plain": [
       "0.38781315f0"
      ]
     },
     "metadata": {},
     "output_type": "display_data"
    },
    {
     "name": "stderr",
     "output_type": "stream",
     "text": [
      "\u001b[32mloss: 0.408:  72%|█████████████████████████████▌           |  ETA: 0:03:47\u001b[39m"
     ]
    },
    {
     "data": {
      "text/plain": [
       "0.41556937f0"
      ]
     },
     "metadata": {},
     "output_type": "display_data"
    },
    {
     "name": "stderr",
     "output_type": "stream",
     "text": [
      "\u001b[32mloss: 0.374:  72%|█████████████████████████████▋           |  ETA: 0:03:44\u001b[39m"
     ]
    },
    {
     "data": {
      "text/plain": [
       "0.44689417f0"
      ]
     },
     "metadata": {},
     "output_type": "display_data"
    },
    {
     "name": "stderr",
     "output_type": "stream",
     "text": [
      "\u001b[32mloss: 0.419:  73%|█████████████████████████████▉           |  ETA: 0:03:41\u001b[39m"
     ]
    },
    {
     "data": {
      "text/plain": [
       "0.3709973f0"
      ]
     },
     "metadata": {},
     "output_type": "display_data"
    },
    {
     "name": "stderr",
     "output_type": "stream",
     "text": [
      "\u001b[32mloss: 0.451:  73%|██████████████████████████████           |  ETA: 0:03:38\u001b[39m"
     ]
    },
    {
     "data": {
      "text/plain": [
       "0.43197316f0"
      ]
     },
     "metadata": {},
     "output_type": "display_data"
    },
    {
     "name": "stderr",
     "output_type": "stream",
     "text": [
      "\u001b[32mloss: 0.389:  74%|██████████████████████████████▏          |  ETA: 0:03:34\u001b[39m"
     ]
    },
    {
     "data": {
      "text/plain": [
       "0.4082155f0"
      ]
     },
     "metadata": {},
     "output_type": "display_data"
    },
    {
     "name": "stderr",
     "output_type": "stream",
     "text": [
      "\u001b[32mloss: 0.418:  74%|██████████████████████████████▍          |  ETA: 0:03:31\u001b[39m"
     ]
    },
    {
     "data": {
      "text/plain": [
       "0.41335577f0"
      ]
     },
     "metadata": {},
     "output_type": "display_data"
    },
    {
     "name": "stderr",
     "output_type": "stream",
     "text": [
      "\u001b[32mloss: 0.437:  74%|██████████████████████████████▌          |  ETA: 0:03:28\u001b[39m"
     ]
    },
    {
     "data": {
      "text/plain": [
       "0.40394032f0"
      ]
     },
     "metadata": {},
     "output_type": "display_data"
    },
    {
     "name": "stderr",
     "output_type": "stream",
     "text": [
      "\u001b[32mloss: 0.411:  75%|██████████████████████████████▋          |  ETA: 0:03:25\u001b[39m"
     ]
    },
    {
     "data": {
      "text/plain": [
       "0.45212793f0"
      ]
     },
     "metadata": {},
     "output_type": "display_data"
    },
    {
     "name": "stderr",
     "output_type": "stream",
     "text": [
      "\u001b[32mloss: 0.419:  75%|██████████████████████████████▉          |  ETA: 0:03:21\u001b[39m"
     ]
    },
    {
     "data": {
      "text/plain": [
       "0.4453636f0"
      ]
     },
     "metadata": {},
     "output_type": "display_data"
    },
    {
     "name": "stderr",
     "output_type": "stream",
     "text": [
      "\u001b[32mloss: 0.419:  76%|███████████████████████████████          |  ETA: 0:03:18\u001b[39m"
     ]
    },
    {
     "data": {
      "text/plain": [
       "0.42380846f0"
      ]
     },
     "metadata": {},
     "output_type": "display_data"
    },
    {
     "name": "stderr",
     "output_type": "stream",
     "text": [
      "\u001b[32mloss: 0.411:  76%|███████████████████████████████▏         |  ETA: 0:03:15\u001b[39m"
     ]
    },
    {
     "data": {
      "text/plain": [
       "0.426333f0"
      ]
     },
     "metadata": {},
     "output_type": "display_data"
    },
    {
     "name": "stderr",
     "output_type": "stream",
     "text": [
      "\u001b[32mloss: 0.396:  76%|███████████████████████████████▍         |  ETA: 0:03:11\u001b[39m"
     ]
    },
    {
     "data": {
      "text/plain": [
       "0.3886101f0"
      ]
     },
     "metadata": {},
     "output_type": "display_data"
    },
    {
     "name": "stderr",
     "output_type": "stream",
     "text": [
      "\u001b[32mloss: 0.394:  77%|███████████████████████████████▌         |  ETA: 0:03:08\u001b[39m"
     ]
    },
    {
     "data": {
      "text/plain": [
       "0.37397483f0"
      ]
     },
     "metadata": {},
     "output_type": "display_data"
    },
    {
     "name": "stderr",
     "output_type": "stream",
     "text": [
      "\u001b[32mloss: 0.385:  77%|███████████████████████████████▋         |  ETA: 0:03:05\u001b[39m"
     ]
    },
    {
     "data": {
      "text/plain": [
       "0.43925554f0"
      ]
     },
     "metadata": {},
     "output_type": "display_data"
    },
    {
     "name": "stderr",
     "output_type": "stream",
     "text": [
      "\u001b[32mloss: 0.396:  78%|███████████████████████████████▉         |  ETA: 0:03:02\u001b[39m"
     ]
    },
    {
     "data": {
      "text/plain": [
       "0.37515152f0"
      ]
     },
     "metadata": {},
     "output_type": "display_data"
    },
    {
     "name": "stderr",
     "output_type": "stream",
     "text": [
      "\u001b[32mloss: 0.417:  78%|████████████████████████████████         |  ETA: 0:02:59\u001b[39m"
     ]
    },
    {
     "data": {
      "text/plain": [
       "0.42438897f0"
      ]
     },
     "metadata": {},
     "output_type": "display_data"
    },
    {
     "name": "stderr",
     "output_type": "stream",
     "text": [
      "\u001b[32mloss: 0.397:  78%|████████████████████████████████▏        |  ETA: 0:02:55\u001b[39m"
     ]
    },
    {
     "data": {
      "text/plain": [
       "0.43015802f0"
      ]
     },
     "metadata": {},
     "output_type": "display_data"
    },
    {
     "name": "stderr",
     "output_type": "stream",
     "text": [
      "\u001b[32mloss: 0.387:  79%|████████████████████████████████▎        |  ETA: 0:02:52\u001b[39m"
     ]
    },
    {
     "data": {
      "text/plain": [
       "0.39749175f0"
      ]
     },
     "metadata": {},
     "output_type": "display_data"
    },
    {
     "name": "stderr",
     "output_type": "stream",
     "text": [
      "\u001b[32mloss: 0.415:  79%|████████████████████████████████▌        |  ETA: 0:02:49\u001b[39m"
     ]
    },
    {
     "data": {
      "text/plain": [
       "0.37375224f0"
      ]
     },
     "metadata": {},
     "output_type": "display_data"
    },
    {
     "name": "stderr",
     "output_type": "stream",
     "text": [
      "\u001b[32mloss: 0.39:  80%|████████████████████████████████▋        |  ETA: 0:02:45\u001b[39mm"
     ]
    },
    {
     "data": {
      "text/plain": [
       "0.4308656f0"
      ]
     },
     "metadata": {},
     "output_type": "display_data"
    },
    {
     "name": "stderr",
     "output_type": "stream",
     "text": [
      "\u001b[32mloss: 0.385:  80%|████████████████████████████████▊        |  ETA: 0:02:42\u001b[39m"
     ]
    },
    {
     "data": {
      "text/plain": [
       "0.42951074f0"
      ]
     },
     "metadata": {},
     "output_type": "display_data"
    },
    {
     "name": "stderr",
     "output_type": "stream",
     "text": [
      "\u001b[32mloss: 0.422:  80%|█████████████████████████████████        |  ETA: 0:02:39\u001b[39m"
     ]
    },
    {
     "data": {
      "text/plain": [
       "0.43308645f0"
      ]
     },
     "metadata": {},
     "output_type": "display_data"
    },
    {
     "name": "stderr",
     "output_type": "stream",
     "text": [
      "\u001b[32mloss: 0.419:  81%|█████████████████████████████████▏       |  ETA: 0:02:36\u001b[39m"
     ]
    },
    {
     "data": {
      "text/plain": [
       "0.40121537f0"
      ]
     },
     "metadata": {},
     "output_type": "display_data"
    },
    {
     "name": "stderr",
     "output_type": "stream",
     "text": [
      "\u001b[32mloss: 0.44:  81%|█████████████████████████████████▎       |  ETA: 0:02:32\u001b[39mm"
     ]
    },
    {
     "data": {
      "text/plain": [
       "0.4169185f0"
      ]
     },
     "metadata": {},
     "output_type": "display_data"
    },
    {
     "name": "stderr",
     "output_type": "stream",
     "text": [
      "\u001b[32mloss: 0.378:  82%|█████████████████████████████████▌       |  ETA: 0:02:29\u001b[39m"
     ]
    },
    {
     "data": {
      "text/plain": [
       "0.3948861f0"
      ]
     },
     "metadata": {},
     "output_type": "display_data"
    },
    {
     "name": "stderr",
     "output_type": "stream",
     "text": [
      "\u001b[32mloss: 0.382:  82%|█████████████████████████████████▋       |  ETA: 0:02:26\u001b[39m"
     ]
    },
    {
     "data": {
      "text/plain": [
       "0.38475767f0"
      ]
     },
     "metadata": {},
     "output_type": "display_data"
    },
    {
     "name": "stderr",
     "output_type": "stream",
     "text": [
      "\u001b[32mloss: 0.376:  82%|█████████████████████████████████▊       |  ETA: 0:02:23\u001b[39m"
     ]
    },
    {
     "data": {
      "text/plain": [
       "0.39660937f0"
      ]
     },
     "metadata": {},
     "output_type": "display_data"
    },
    {
     "name": "stderr",
     "output_type": "stream",
     "text": [
      "\u001b[32mloss: 0.383:  83%|██████████████████████████████████       |  ETA: 0:02:19\u001b[39m"
     ]
    },
    {
     "data": {
      "text/plain": [
       "0.34482092f0"
      ]
     },
     "metadata": {},
     "output_type": "display_data"
    },
    {
     "name": "stderr",
     "output_type": "stream",
     "text": [
      "\u001b[32mloss: 0.391:  83%|██████████████████████████████████▏      |  ETA: 0:02:16\u001b[39m"
     ]
    },
    {
     "data": {
      "text/plain": [
       "0.3926794f0"
      ]
     },
     "metadata": {},
     "output_type": "display_data"
    },
    {
     "name": "stderr",
     "output_type": "stream",
     "text": [
      "\u001b[32mloss: 0.361:  84%|██████████████████████████████████▎      |  ETA: 0:02:13\u001b[39m"
     ]
    },
    {
     "data": {
      "text/plain": [
       "0.377093f0"
      ]
     },
     "metadata": {},
     "output_type": "display_data"
    },
    {
     "name": "stderr",
     "output_type": "stream",
     "text": [
      "\u001b[32mloss: 0.368:  84%|██████████████████████████████████▌      |  ETA: 0:02:09\u001b[39m"
     ]
    },
    {
     "data": {
      "text/plain": [
       "0.3678261f0"
      ]
     },
     "metadata": {},
     "output_type": "display_data"
    },
    {
     "name": "stderr",
     "output_type": "stream",
     "text": [
      "\u001b[32mloss: 0.365:  84%|██████████████████████████████████▋      |  ETA: 0:02:06\u001b[39m"
     ]
    },
    {
     "data": {
      "text/plain": [
       "0.3562755f0"
      ]
     },
     "metadata": {},
     "output_type": "display_data"
    },
    {
     "name": "stderr",
     "output_type": "stream",
     "text": [
      "\u001b[32mloss: 0.379:  85%|██████████████████████████████████▊      |  ETA: 0:02:03\u001b[39m"
     ]
    },
    {
     "data": {
      "text/plain": [
       "0.38106328f0"
      ]
     },
     "metadata": {},
     "output_type": "display_data"
    },
    {
     "name": "stderr",
     "output_type": "stream",
     "text": [
      "\u001b[32mloss: 0.436:  85%|██████████████████████████████████▉      |  ETA: 0:02:00\u001b[39m"
     ]
    },
    {
     "data": {
      "text/plain": [
       "0.42059067f0"
      ]
     },
     "metadata": {},
     "output_type": "display_data"
    },
    {
     "name": "stderr",
     "output_type": "stream",
     "text": [
      "\u001b[32mloss: 0.489:  86%|███████████████████████████████████▏     |  ETA: 0:01:56\u001b[39m"
     ]
    },
    {
     "data": {
      "text/plain": [
       "0.4421661f0"
      ]
     },
     "metadata": {},
     "output_type": "display_data"
    },
    {
     "name": "stderr",
     "output_type": "stream",
     "text": [
      "\u001b[32mloss: 0.436:  86%|███████████████████████████████████▎     |  ETA: 0:01:53\u001b[39m"
     ]
    },
    {
     "data": {
      "text/plain": [
       "0.4991287f0"
      ]
     },
     "metadata": {},
     "output_type": "display_data"
    },
    {
     "name": "stderr",
     "output_type": "stream",
     "text": [
      "\u001b[32mloss: 0.381:  86%|███████████████████████████████████▍     |  ETA: 0:01:50\u001b[39m"
     ]
    },
    {
     "data": {
      "text/plain": [
       "0.44786203f0"
      ]
     },
     "metadata": {},
     "output_type": "display_data"
    },
    {
     "name": "stderr",
     "output_type": "stream",
     "text": [
      "\u001b[32mloss: 0.446:  87%|███████████████████████████████████▋     |  ETA: 0:01:47\u001b[39m"
     ]
    },
    {
     "data": {
      "text/plain": [
       "0.43645963f0"
      ]
     },
     "metadata": {},
     "output_type": "display_data"
    },
    {
     "name": "stderr",
     "output_type": "stream",
     "text": [
      "\u001b[32mloss: 0.372:  87%|███████████████████████████████████▊     |  ETA: 0:01:44\u001b[39m"
     ]
    },
    {
     "data": {
      "text/plain": [
       "0.4183106f0"
      ]
     },
     "metadata": {},
     "output_type": "display_data"
    },
    {
     "name": "stderr",
     "output_type": "stream",
     "text": [
      "\u001b[32mloss: 0.382:  88%|███████████████████████████████████▉     |  ETA: 0:01:40\u001b[39m"
     ]
    },
    {
     "data": {
      "text/plain": [
       "0.41112804f0"
      ]
     },
     "metadata": {},
     "output_type": "display_data"
    },
    {
     "name": "stderr",
     "output_type": "stream",
     "text": [
      "\u001b[32mloss: 0.404:  88%|████████████████████████████████████▏    |  ETA: 0:01:37\u001b[39m"
     ]
    },
    {
     "data": {
      "text/plain": [
       "0.34924155f0"
      ]
     },
     "metadata": {},
     "output_type": "display_data"
    },
    {
     "name": "stderr",
     "output_type": "stream",
     "text": [
      "\u001b[32mloss: 0.396:  88%|████████████████████████████████████▎    |  ETA: 0:01:34\u001b[39m"
     ]
    },
    {
     "data": {
      "text/plain": [
       "0.39693612f0"
      ]
     },
     "metadata": {},
     "output_type": "display_data"
    },
    {
     "name": "stderr",
     "output_type": "stream",
     "text": [
      "\u001b[32mloss: 0.385:  89%|████████████████████████████████████▍    |  ETA: 0:01:31\u001b[39m"
     ]
    },
    {
     "data": {
      "text/plain": [
       "0.39343828f0"
      ]
     },
     "metadata": {},
     "output_type": "display_data"
    },
    {
     "name": "stderr",
     "output_type": "stream",
     "text": [
      "\u001b[32mloss: 0.369:  89%|████████████████████████████████████▋    |  ETA: 0:01:27\u001b[39m"
     ]
    },
    {
     "data": {
      "text/plain": [
       "0.41042233f0"
      ]
     },
     "metadata": {},
     "output_type": "display_data"
    },
    {
     "name": "stderr",
     "output_type": "stream",
     "text": [
      "\u001b[32mloss: 0.37:  90%|████████████████████████████████████▊    |  ETA: 0:01:24\u001b[39m"
     ]
    },
    {
     "data": {
      "text/plain": [
       "0.38684145f0"
      ]
     },
     "metadata": {},
     "output_type": "display_data"
    },
    {
     "name": "stderr",
     "output_type": "stream",
     "text": [
      "\u001b[32mloss: 0.393:  90%|████████████████████████████████████▉    |  ETA: 0:01:21\u001b[39m"
     ]
    },
    {
     "data": {
      "text/plain": [
       "0.4019894f0"
      ]
     },
     "metadata": {},
     "output_type": "display_data"
    },
    {
     "name": "stderr",
     "output_type": "stream",
     "text": [
      "\u001b[32mloss: 0.418:  90%|█████████████████████████████████████▏   |  ETA: 0:01:18\u001b[39m"
     ]
    },
    {
     "data": {
      "text/plain": [
       "0.42748302f0"
      ]
     },
     "metadata": {},
     "output_type": "display_data"
    },
    {
     "name": "stderr",
     "output_type": "stream",
     "text": [
      "\u001b[32mloss: 0.385:  91%|█████████████████████████████████████▎   |  ETA: 0:01:15\u001b[39m"
     ]
    },
    {
     "data": {
      "text/plain": [
       "0.40531078f0"
      ]
     },
     "metadata": {},
     "output_type": "display_data"
    },
    {
     "name": "stderr",
     "output_type": "stream",
     "text": [
      "\u001b[32mloss: 0.399:  91%|█████████████████████████████████████▍   |  ETA: 0:01:11\u001b[39m"
     ]
    },
    {
     "data": {
      "text/plain": [
       "0.36562958f0"
      ]
     },
     "metadata": {},
     "output_type": "display_data"
    },
    {
     "name": "stderr",
     "output_type": "stream",
     "text": [
      "\u001b[32mloss: 0.363:  92%|█████████████████████████████████████▌   |  ETA: 0:01:08\u001b[39m"
     ]
    },
    {
     "data": {
      "text/plain": [
       "0.39919335f0"
      ]
     },
     "metadata": {},
     "output_type": "display_data"
    },
    {
     "name": "stderr",
     "output_type": "stream",
     "text": [
      "\u001b[32mloss: 0.398:  92%|█████████████████████████████████████▊   |  ETA: 0:01:05\u001b[39m"
     ]
    },
    {
     "data": {
      "text/plain": [
       "0.40911502f0"
      ]
     },
     "metadata": {},
     "output_type": "display_data"
    },
    {
     "name": "stderr",
     "output_type": "stream",
     "text": [
      "\u001b[32mloss: 0.387:  92%|█████████████████████████████████████▉   |  ETA: 0:01:02\u001b[39m"
     ]
    },
    {
     "data": {
      "text/plain": [
       "0.4016776f0"
      ]
     },
     "metadata": {},
     "output_type": "display_data"
    },
    {
     "name": "stderr",
     "output_type": "stream",
     "text": [
      "\u001b[32mloss: 0.39:  93%|██████████████████████████████████████   |  ETA: 0:00:58\u001b[39mm"
     ]
    },
    {
     "data": {
      "text/plain": [
       "0.35147336f0"
      ]
     },
     "metadata": {},
     "output_type": "display_data"
    },
    {
     "name": "stderr",
     "output_type": "stream",
     "text": [
      "\u001b[32mloss: 0.398:  93%|██████████████████████████████████████▎  |  ETA: 0:00:55\u001b[39m"
     ]
    },
    {
     "data": {
      "text/plain": [
       "0.3574843f0"
      ]
     },
     "metadata": {},
     "output_type": "display_data"
    },
    {
     "name": "stderr",
     "output_type": "stream",
     "text": [
      "\u001b[32mloss: 0.453:  94%|██████████████████████████████████████▍  |  ETA: 0:00:52\u001b[39m"
     ]
    },
    {
     "data": {
      "text/plain": [
       "0.3676439f0"
      ]
     },
     "metadata": {},
     "output_type": "display_data"
    },
    {
     "name": "stderr",
     "output_type": "stream",
     "text": [
      "\u001b[32mloss: 0.417:  94%|██████████████████████████████████████▌  |  ETA: 0:00:49\u001b[39m"
     ]
    },
    {
     "data": {
      "text/plain": [
       "0.41726676f0"
      ]
     },
     "metadata": {},
     "output_type": "display_data"
    },
    {
     "name": "stderr",
     "output_type": "stream",
     "text": [
      "\u001b[32mloss: 0.426:  94%|██████████████████████████████████████▊  |  ETA: 0:00:45\u001b[39m"
     ]
    },
    {
     "data": {
      "text/plain": [
       "0.4301884f0"
      ]
     },
     "metadata": {},
     "output_type": "display_data"
    },
    {
     "name": "stderr",
     "output_type": "stream",
     "text": [
      "\u001b[32mloss: 0.368:  95%|██████████████████████████████████████▉  |  ETA: 0:00:42\u001b[39m"
     ]
    },
    {
     "data": {
      "text/plain": [
       "0.40411618f0"
      ]
     },
     "metadata": {},
     "output_type": "display_data"
    },
    {
     "name": "stderr",
     "output_type": "stream",
     "text": [
      "\u001b[32mloss: 0.41:  95%|███████████████████████████████████████  |  ETA: 0:00:39\u001b[39mm"
     ]
    },
    {
     "data": {
      "text/plain": [
       "0.3760413f0"
      ]
     },
     "metadata": {},
     "output_type": "display_data"
    },
    {
     "name": "stderr",
     "output_type": "stream",
     "text": [
      "\u001b[32mloss: 0.426:  96%|███████████████████████████████████████▎ |  ETA: 0:00:36\u001b[39m"
     ]
    },
    {
     "data": {
      "text/plain": [
       "0.4256834f0"
      ]
     },
     "metadata": {},
     "output_type": "display_data"
    },
    {
     "name": "stderr",
     "output_type": "stream",
     "text": [
      "\u001b[32mloss: 0.414:  96%|███████████████████████████████████████▍ |  ETA: 0:00:32\u001b[39m"
     ]
    },
    {
     "data": {
      "text/plain": [
       "0.391904f0"
      ]
     },
     "metadata": {},
     "output_type": "display_data"
    },
    {
     "name": "stderr",
     "output_type": "stream",
     "text": [
      "\u001b[32mloss: 0.396:  96%|███████████████████████████████████████▌ |  ETA: 0:00:29\u001b[39m"
     ]
    },
    {
     "data": {
      "text/plain": [
       "0.39447767f0"
      ]
     },
     "metadata": {},
     "output_type": "display_data"
    },
    {
     "name": "stderr",
     "output_type": "stream",
     "text": [
      "\u001b[32mloss: 0.398:  97%|███████████████████████████████████████▊ |  ETA: 0:00:26\u001b[39m"
     ]
    },
    {
     "data": {
      "text/plain": [
       "0.37960196f0"
      ]
     },
     "metadata": {},
     "output_type": "display_data"
    },
    {
     "name": "stderr",
     "output_type": "stream",
     "text": [
      "\u001b[32mloss: 0.392:  97%|███████████████████████████████████████▉ |  ETA: 0:00:23\u001b[39m"
     ]
    },
    {
     "data": {
      "text/plain": [
       "0.38980234f0"
      ]
     },
     "metadata": {},
     "output_type": "display_data"
    },
    {
     "name": "stderr",
     "output_type": "stream",
     "text": [
      "\u001b[32mloss: 0.384:  98%|████████████████████████████████████████ |  ETA: 0:00:19\u001b[39m"
     ]
    },
    {
     "data": {
      "text/plain": [
       "0.391526f0"
      ]
     },
     "metadata": {},
     "output_type": "display_data"
    },
    {
     "name": "stderr",
     "output_type": "stream",
     "text": [
      "\u001b[32mloss: 0.43:  98%|████████████████████████████████████████▏|  ETA: 0:00:16\u001b[39mm"
     ]
    },
    {
     "data": {
      "text/plain": [
       "0.39304847f0"
      ]
     },
     "metadata": {},
     "output_type": "display_data"
    },
    {
     "name": "stderr",
     "output_type": "stream",
     "text": [
      "\u001b[32mloss: 0.377:  98%|████████████████████████████████████████▍|  ETA: 0:00:13\u001b[39m"
     ]
    },
    {
     "data": {
      "text/plain": [
       "0.38487017f0"
      ]
     },
     "metadata": {},
     "output_type": "display_data"
    },
    {
     "name": "stderr",
     "output_type": "stream",
     "text": [
      "\u001b[32mloss: 0.427:  99%|████████████████████████████████████████▌|  ETA: 0:00:10\u001b[39m"
     ]
    },
    {
     "data": {
      "text/plain": [
       "0.38287985f0"
      ]
     },
     "metadata": {},
     "output_type": "display_data"
    },
    {
     "name": "stderr",
     "output_type": "stream",
     "text": [
      "\u001b[32mloss: 0.392:  99%|████████████████████████████████████████▋|  ETA: 0:00:06\u001b[39m"
     ]
    },
    {
     "data": {
      "text/plain": [
       "0.3834659f0"
      ]
     },
     "metadata": {},
     "output_type": "display_data"
    },
    {
     "name": "stderr",
     "output_type": "stream",
     "text": [
      "\u001b[32mloss: 0.389: 100%|████████████████████████████████████████▉|  ETA: 0:00:03\u001b[39m"
     ]
    },
    {
     "data": {
      "text/plain": [
       "0.40970993f0"
      ]
     },
     "metadata": {},
     "output_type": "display_data"
    },
    {
     "name": "stderr",
     "output_type": "stream",
     "text": [
      "\u001b[32mloss: 0.395: 100%|█████████████████████████████████████████| Time: 0:13:27\u001b[39m\n"
     ]
    },
    {
     "data": {
      "text/plain": [
       "0.34482092f0"
      ]
     },
     "metadata": {},
     "output_type": "display_data"
    },
    {
     "data": {
      "text/plain": [
       " * Status: failure (reached maximum number of iterations)\n",
       "\n",
       " * Candidate solution\n",
       "    Minimizer: [-8.10e-03, -3.10e-02, -6.41e-02,  ...]\n",
       "    Minimum:   3.954282e-01\n",
       "\n",
       " * Found with\n",
       "    Algorithm:     ADAM\n",
       "    Initial Point: [-8.12e-03, -3.10e-02, -6.41e-02,  ...]\n",
       "\n",
       " * Convergence measures\n",
       "    |x - x'|               = NaN ≰ 0.0e+00\n",
       "    |x - x'|/|x'|          = NaN ≰ 0.0e+00\n",
       "    |f(x) - f(x')|         = NaN ≰ 0.0e+00\n",
       "    |f(x) - f(x')|/|f(x')| = NaN ≰ 0.0e+00\n",
       "    |g(x)|                 = NaN ≰ 0.0e+00\n",
       "\n",
       " * Work counters\n",
       "    Seconds run:   807  (vs limit Inf)\n",
       "    Iterations:    500\n",
       "    f(x) calls:    500\n",
       "    ∇f(x) calls:   500\n"
      ]
     },
     "execution_count": 31,
     "metadata": {},
     "output_type": "execute_result"
    }
   ],
   "source": [
    "#res = DiffEqFlux.sciml_train(loss_node, res.minimizer, ADAM(), dataset, cb=Flux.throttle(cb, 1), maxiters=1000)\n",
    "res = DiffEqFlux.sciml_train(loss_node, res.minimizer, ADAM(), cb=Flux.throttle(cb, 1), maxiters=500)"
   ]
  },
  {
   "cell_type": "code",
   "execution_count": 32,
   "metadata": {
    "scrolled": true
   },
   "outputs": [
    {
     "data": {
      "text/plain": [
       "0.39414382f0"
      ]
     },
     "metadata": {},
     "output_type": "display_data"
    },
    {
     "data": {
      "text/plain": [
       "0.344699f0"
      ]
     },
     "metadata": {},
     "output_type": "display_data"
    },
    {
     "data": {
      "text/plain": [
       "0.2908075f0"
      ]
     },
     "metadata": {},
     "output_type": "display_data"
    },
    {
     "data": {
      "text/plain": [
       "0.27213055f0"
      ]
     },
     "metadata": {},
     "output_type": "display_data"
    },
    {
     "data": {
      "text/plain": [
       "0.26040336f0"
      ]
     },
     "metadata": {},
     "output_type": "display_data"
    },
    {
     "data": {
      "text/plain": [
       "0.25791895f0"
      ]
     },
     "metadata": {},
     "output_type": "display_data"
    },
    {
     "data": {
      "text/plain": [
       "0.25594014f0"
      ]
     },
     "metadata": {},
     "output_type": "display_data"
    },
    {
     "data": {
      "text/plain": [
       "0.25329724f0"
      ]
     },
     "metadata": {},
     "output_type": "display_data"
    },
    {
     "data": {
      "text/plain": [
       "0.2514238f0"
      ]
     },
     "metadata": {},
     "output_type": "display_data"
    },
    {
     "data": {
      "text/plain": [
       "0.24878488f0"
      ]
     },
     "metadata": {},
     "output_type": "display_data"
    },
    {
     "data": {
      "text/plain": [
       "0.24750483f0"
      ]
     },
     "metadata": {},
     "output_type": "display_data"
    },
    {
     "data": {
      "text/plain": [
       "0.24585137f0"
      ]
     },
     "metadata": {},
     "output_type": "display_data"
    },
    {
     "data": {
      "text/plain": [
       "0.2442697f0"
      ]
     },
     "metadata": {},
     "output_type": "display_data"
    },
    {
     "data": {
      "text/plain": [
       "0.24230894f0"
      ]
     },
     "metadata": {},
     "output_type": "display_data"
    },
    {
     "data": {
      "text/plain": [
       "0.23895489f0"
      ]
     },
     "metadata": {},
     "output_type": "display_data"
    },
    {
     "data": {
      "text/plain": [
       "0.23625505f0"
      ]
     },
     "metadata": {},
     "output_type": "display_data"
    },
    {
     "data": {
      "text/plain": [
       "0.23284899f0"
      ]
     },
     "metadata": {},
     "output_type": "display_data"
    },
    {
     "data": {
      "text/plain": [
       "0.22758722f0"
      ]
     },
     "metadata": {},
     "output_type": "display_data"
    },
    {
     "data": {
      "text/plain": [
       "0.22434911f0"
      ]
     },
     "metadata": {},
     "output_type": "display_data"
    },
    {
     "data": {
      "text/plain": [
       "0.22080979f0"
      ]
     },
     "metadata": {},
     "output_type": "display_data"
    },
    {
     "data": {
      "text/plain": [
       "0.21808767f0"
      ]
     },
     "metadata": {},
     "output_type": "display_data"
    },
    {
     "data": {
      "text/plain": [
       "0.21545571f0"
      ]
     },
     "metadata": {},
     "output_type": "display_data"
    },
    {
     "data": {
      "text/plain": [
       "0.21303758f0"
      ]
     },
     "metadata": {},
     "output_type": "display_data"
    },
    {
     "data": {
      "text/plain": [
       "0.21195896f0"
      ]
     },
     "metadata": {},
     "output_type": "display_data"
    },
    {
     "data": {
      "text/plain": [
       "0.21133986f0"
      ]
     },
     "metadata": {},
     "output_type": "display_data"
    },
    {
     "data": {
      "text/plain": [
       "0.21072403f0"
      ]
     },
     "metadata": {},
     "output_type": "display_data"
    },
    {
     "data": {
      "text/plain": [
       "0.21004021f0"
      ]
     },
     "metadata": {},
     "output_type": "display_data"
    },
    {
     "data": {
      "text/plain": [
       "0.20921211f0"
      ]
     },
     "metadata": {},
     "output_type": "display_data"
    },
    {
     "data": {
      "text/plain": [
       "0.20878732f0"
      ]
     },
     "metadata": {},
     "output_type": "display_data"
    },
    {
     "data": {
      "text/plain": [
       "0.20840183f0"
      ]
     },
     "metadata": {},
     "output_type": "display_data"
    },
    {
     "data": {
      "text/plain": [
       "0.20803481f0"
      ]
     },
     "metadata": {},
     "output_type": "display_data"
    },
    {
     "data": {
      "text/plain": [
       "0.20762552f0"
      ]
     },
     "metadata": {},
     "output_type": "display_data"
    },
    {
     "data": {
      "text/plain": [
       "0.20696162f0"
      ]
     },
     "metadata": {},
     "output_type": "display_data"
    },
    {
     "data": {
      "text/plain": [
       "0.206511f0"
      ]
     },
     "metadata": {},
     "output_type": "display_data"
    },
    {
     "data": {
      "text/plain": [
       "0.20608263f0"
      ]
     },
     "metadata": {},
     "output_type": "display_data"
    },
    {
     "data": {
      "text/plain": [
       "0.20528775f0"
      ]
     },
     "metadata": {},
     "output_type": "display_data"
    },
    {
     "data": {
      "text/plain": [
       "0.2045943f0"
      ]
     },
     "metadata": {},
     "output_type": "display_data"
    },
    {
     "data": {
      "text/plain": [
       "0.20405725f0"
      ]
     },
     "metadata": {},
     "output_type": "display_data"
    },
    {
     "data": {
      "text/plain": [
       "0.20326385f0"
      ]
     },
     "metadata": {},
     "output_type": "display_data"
    },
    {
     "data": {
      "text/plain": [
       "0.20096132f0"
      ]
     },
     "metadata": {},
     "output_type": "display_data"
    },
    {
     "data": {
      "text/plain": [
       "0.1985518f0"
      ]
     },
     "metadata": {},
     "output_type": "display_data"
    },
    {
     "data": {
      "text/plain": [
       "0.19647096f0"
      ]
     },
     "metadata": {},
     "output_type": "display_data"
    },
    {
     "data": {
      "text/plain": [
       "0.19537552f0"
      ]
     },
     "metadata": {},
     "output_type": "display_data"
    },
    {
     "data": {
      "text/plain": [
       "0.19298536f0"
      ]
     },
     "metadata": {},
     "output_type": "display_data"
    },
    {
     "data": {
      "text/plain": [
       "0.19099402f0"
      ]
     },
     "metadata": {},
     "output_type": "display_data"
    },
    {
     "data": {
      "text/plain": [
       "0.19041397f0"
      ]
     },
     "metadata": {},
     "output_type": "display_data"
    },
    {
     "data": {
      "text/plain": [
       "0.19023564f0"
      ]
     },
     "metadata": {},
     "output_type": "display_data"
    },
    {
     "data": {
      "text/plain": [
       "0.18956082f0"
      ]
     },
     "metadata": {},
     "output_type": "display_data"
    },
    {
     "data": {
      "text/plain": [
       "0.18927081f0"
      ]
     },
     "metadata": {},
     "output_type": "display_data"
    },
    {
     "data": {
      "text/plain": [
       "0.1890511f0"
      ]
     },
     "metadata": {},
     "output_type": "display_data"
    },
    {
     "data": {
      "text/plain": [
       "0.18879257f0"
      ]
     },
     "metadata": {},
     "output_type": "display_data"
    },
    {
     "data": {
      "text/plain": [
       "0.18847504f0"
      ]
     },
     "metadata": {},
     "output_type": "display_data"
    },
    {
     "data": {
      "text/plain": [
       "0.18806407f0"
      ]
     },
     "metadata": {},
     "output_type": "display_data"
    },
    {
     "data": {
      "text/plain": [
       "0.18745007f0"
      ]
     },
     "metadata": {},
     "output_type": "display_data"
    },
    {
     "data": {
      "text/plain": [
       "0.18689653f0"
      ]
     },
     "metadata": {},
     "output_type": "display_data"
    },
    {
     "data": {
      "text/plain": [
       "0.18658353f0"
      ]
     },
     "metadata": {},
     "output_type": "display_data"
    },
    {
     "data": {
      "text/plain": [
       "0.18615761f0"
      ]
     },
     "metadata": {},
     "output_type": "display_data"
    },
    {
     "data": {
      "text/plain": [
       "0.18596968f0"
      ]
     },
     "metadata": {},
     "output_type": "display_data"
    },
    {
     "data": {
      "text/plain": [
       "0.18587905f0"
      ]
     },
     "metadata": {},
     "output_type": "display_data"
    },
    {
     "data": {
      "text/plain": [
       "0.18561532f0"
      ]
     },
     "metadata": {},
     "output_type": "display_data"
    },
    {
     "data": {
      "text/plain": [
       "0.18532509f0"
      ]
     },
     "metadata": {},
     "output_type": "display_data"
    },
    {
     "data": {
      "text/plain": [
       "0.18501921f0"
      ]
     },
     "metadata": {},
     "output_type": "display_data"
    },
    {
     "data": {
      "text/plain": [
       "0.18476778f0"
      ]
     },
     "metadata": {},
     "output_type": "display_data"
    },
    {
     "data": {
      "text/plain": [
       "0.1842719f0"
      ]
     },
     "metadata": {},
     "output_type": "display_data"
    },
    {
     "data": {
      "text/plain": [
       "0.18402326f0"
      ]
     },
     "metadata": {},
     "output_type": "display_data"
    },
    {
     "data": {
      "text/plain": [
       "0.18389718f0"
      ]
     },
     "metadata": {},
     "output_type": "display_data"
    },
    {
     "data": {
      "text/plain": [
       "0.18362284f0"
      ]
     },
     "metadata": {},
     "output_type": "display_data"
    },
    {
     "data": {
      "text/plain": [
       "0.1831218f0"
      ]
     },
     "metadata": {},
     "output_type": "display_data"
    },
    {
     "data": {
      "text/plain": [
       "0.18264502f0"
      ]
     },
     "metadata": {},
     "output_type": "display_data"
    },
    {
     "data": {
      "text/plain": [
       "0.18244582f0"
      ]
     },
     "metadata": {},
     "output_type": "display_data"
    },
    {
     "data": {
      "text/plain": [
       "0.18219362f0"
      ]
     },
     "metadata": {},
     "output_type": "display_data"
    },
    {
     "data": {
      "text/plain": [
       "0.1819652f0"
      ]
     },
     "metadata": {},
     "output_type": "display_data"
    },
    {
     "data": {
      "text/plain": [
       " * Status: failure\n",
       "\n",
       " * Candidate solution\n",
       "    Minimizer: [-8.10e-03, -3.10e-02, -6.41e-02,  ...]\n",
       "    Minimum:   1.819652e-01\n",
       "\n",
       " * Found with\n",
       "    Algorithm:     L-BFGS\n",
       "    Initial Point: [-8.10e-03, -3.10e-02, -6.41e-02,  ...]\n",
       "\n",
       " * Convergence measures\n",
       "    |x - x'|               = 1.93e-05 ≰ 0.0e+00\n",
       "    |x - x'|/|x'|          = 4.34e-05 ≰ 0.0e+00\n",
       "    |f(x) - f(x')|         = 2.28e-04 ≰ 0.0e+00\n",
       "    |f(x) - f(x')|/|f(x')| = 1.26e-03 ≰ 0.0e+00\n",
       "    |g(x)|                 = 5.92e+00 ≰ 1.0e-08\n",
       "\n",
       " * Work counters\n",
       "    Seconds run:   264  (vs limit Inf)\n",
       "    Iterations:    71\n",
       "    f(x) calls:    200\n",
       "    ∇f(x) calls:   200\n"
      ]
     },
     "execution_count": 32,
     "metadata": {},
     "output_type": "execute_result"
    }
   ],
   "source": [
    "res = DiffEqFlux.sciml_train(loss_node, res.minimizer, LBFGS(), cb=cb, maxiters=200)"
   ]
  },
  {
   "cell_type": "code",
   "execution_count": 715,
   "metadata": {},
   "outputs": [
    {
     "data": {
      "text/plain": [
       "step_node! (generic function with 2 methods)"
      ]
     },
     "execution_count": 715,
     "metadata": {},
     "output_type": "execute_result"
    }
   ],
   "source": [
    "function step_train!( fwL, ffL, w, prim, f, fwR, ffR,\n",
    "\t\t\t           γ, μ, ω, u, n_ode, p, dx, tRan, RES, AVG )\n",
    "    #--- record W^{n} ---#\n",
    "    w_old = deepcopy(w)\n",
    "    M = maxwellian(u, prim)\n",
    "\tτ = vhs_collision_time(prim, μ, ω)\n",
    "    \n",
    "    #--- update W^{n+1} ---#\n",
    "\t@. w += (fwL - fwR) / dx\n",
    "\tprim .= conserve_prim(w, γ)\n",
    "\n",
    "\t#--- record residuals ---#\n",
    "\t@. RES += (w - w_old)^2\n",
    "\t@. AVG += abs(w)\n",
    "\n",
    "    data = solve(ODEProblem(bgk!, f[1:end], tSpan, [M, τ]), Tsit5(), saveat=tRan) |> Array;\n",
    "    pred = n_ode(f[1:end], p) |> Array\n",
    "    loss = sum(abs2, pred .- data)\n",
    "\n",
    "    if loss <= 1.e-6\n",
    "        ftemp = n_ode(f[1:end], p).u[end]\n",
    "    \tfor i in eachindex(u)\n",
    "    \t\tf[i] = ftemp[i] + (ffL[i] - ffR[i]) / dx\n",
    "    \tend\n",
    "    else\n",
    "        for i in eachindex(u)\n",
    "    \t\tf[i] += (ffL[i] - ffR[i]) / dx + (M[i] - f[i]) / τ * tRan[end]\n",
    "    \tend\n",
    "        \n",
    "        #push!(datainit, f[1:end])\n",
    "        #push!(dataset, data)\n",
    "    end\n",
    "end\n",
    "\n",
    "function step_bgk!( fwL, ffL, w, prim, f, fwR, ffR,\n",
    "\t\t\t           γ, μ, ω, u, weights, n_ode, p, dx, tRan, RES, AVG )\n",
    "    \n",
    "    #--- record W^{n} ---#\n",
    "    w_old = deepcopy(w)\n",
    "    prim_old = deepcopy(prim)\n",
    "    \n",
    "    #--- update W^{n+1} ---#\n",
    "\t@. w = w_old + (fwL - fwR) / dx\n",
    "\tprim .= conserve_prim(w, γ)\n",
    "\n",
    "\t#--- record residuals ---#\n",
    "\t@. RES += (w - w_old)^2\n",
    "\t@. AVG += abs(w)\n",
    "    \n",
    "    M = maxwellian(u, prim_old)\n",
    "\tτ = vhs_collision_time(prim_old, μ, ω)\n",
    "    \n",
    "    #ftemp = f .+ (M .- f) / τ * tRan[end]\n",
    "    prob = ODEProblem(bgk!, f[1:end], (0, tRan[end]), (M, τ))\n",
    "    ftemp = (solve(prob, Tsit5(), saveat=tRan) |> Array)[:,end]\n",
    "    \n",
    "    for i in eachindex(u)\n",
    "        f[i] = ftemp[i] + (ffL[i] - ffR[i]) / dx\n",
    "    end\n",
    "    \n",
    "end\n",
    "\n",
    "function step_node!( fwL, ffL, w, prim, f, fwR, ffR,\n",
    "\t\t\t           γ, μ, ω, u, weights, n_ode, p, dx, tRan, RES, AVG )\n",
    "    \n",
    "    #--- record W^{n} ---#\n",
    "    w_old = deepcopy(w)\n",
    "    M = maxwellian(u, prim)\n",
    "\tτ = vhs_collision_time(prim, μ, ω)\n",
    "    \n",
    "    #--- update W^{n+1} ---#\n",
    "\t@. w += (fwL - fwR) / dx\n",
    "\tprim .= conserve_prim(w, γ)\n",
    "\n",
    "\t#--- record residuals ---#\n",
    "\t@. RES += (w - w_old)^2\n",
    "\t@. AVG += abs(w)\n",
    "\n",
    "    ftemp = n_ode(f[1:end], p).u[end]\n",
    "    for i in eachindex(u)\n",
    "        f[i] = ftemp[i] + (ffL[i] - ffR[i]) / dx\n",
    "    end\n",
    "    \n",
    "    #w .= moments_conserve( f, u, weights )\n",
    "    #prim .= conserve_prim(w, γ)\n",
    "\n",
    "end"
   ]
  },
  {
   "cell_type": "code",
   "execution_count": 759,
   "metadata": {},
   "outputs": [],
   "source": [
    "sumRes = zeros(Float32, axes(ib.wL))\n",
    "sumAvg = zeros(Float32, axes(ib.wL))\n",
    "\n",
    "for iter = 1:1\n",
    "    Kinetic.evolve!(ks, ctr, face, dt)\n",
    "\n",
    "    for i in 2:49\n",
    "        step_node!( face[i].fw, face[i].ff, ctr[i].w, ctr[i].prim, ctr[i].f,\n",
    "                     face[i+1].fw, face[i+1].ff, ks.gas.γ, ks.gas.μᵣ, ks.gas.ω, vSpace.u, vSpace.weights, node, res.minimizer,\n",
    "                     ctr[i].dx, tRan, sumRes, sumAvg )\n",
    "    end\n",
    "end\n",
    "\n",
    "\n",
    "for iter = 1:5\n",
    "    Kinetic.evolve!(ks, ctr, face, dt)\n",
    "\n",
    "    for i in 2:49\n",
    "        step_bgk!( face[i].fw, face[i].ff, ctr[i].w, ctr[i].prim, ctr[i].f,\n",
    "                     face[i+1].fw, face[i+1].ff, ks.gas.γ, ks.gas.μᵣ, ks.gas.ω, vSpace.u, vSpace.weights, node, res.minimizer,\n",
    "                     ctr[i].dx, tRan, sumRes, sumAvg )\n",
    "    end\n",
    "end"
   ]
  },
  {
   "cell_type": "code",
   "execution_count": 19,
   "metadata": {
    "scrolled": false
   },
   "outputs": [
    {
     "data": {
      "image/svg+xml": [
       "<?xml version=\"1.0\" encoding=\"utf-8\"?>\n",
       "<svg xmlns=\"http://www.w3.org/2000/svg\" xmlns:xlink=\"http://www.w3.org/1999/xlink\" width=\"600\" height=\"400\" viewBox=\"0 0 2400 1600\">\n",
       "<defs>\n",
       "  <clipPath id=\"clip1000\">\n",
       "    <rect x=\"0\" y=\"0\" width=\"2400\" height=\"1600\"/>\n",
       "  </clipPath>\n",
       "</defs>\n",
       "<path clip-path=\"url(#clip1000)\" d=\"\n",
       "M0 1600 L2400 1600 L2400 0 L0 0  Z\n",
       "  \" fill=\"#ffffff\" fill-rule=\"evenodd\" fill-opacity=\"1\"/>\n",
       "<defs>\n",
       "  <clipPath id=\"clip1001\">\n",
       "    <rect x=\"480\" y=\"0\" width=\"1681\" height=\"1600\"/>\n",
       "  </clipPath>\n",
       "</defs>\n",
       "<path clip-path=\"url(#clip1000)\" d=\"\n",
       "M146.714 1423.18 L2352.76 1423.18 L2352.76 47.2441 L146.714 47.2441  Z\n",
       "  \" fill=\"#ffffff\" fill-rule=\"evenodd\" fill-opacity=\"1\"/>\n",
       "<defs>\n",
       "  <clipPath id=\"clip1002\">\n",
       "    <rect x=\"146\" y=\"47\" width=\"2207\" height=\"1377\"/>\n",
       "  </clipPath>\n",
       "</defs>\n",
       "<polyline clip-path=\"url(#clip1002)\" style=\"stroke:#000000; stroke-width:2; stroke-opacity:0.1; fill:none\" points=\"\n",
       "  400.277,1423.18 400.277,47.2441 \n",
       "  \"/>\n",
       "<polyline clip-path=\"url(#clip1002)\" style=\"stroke:#000000; stroke-width:2; stroke-opacity:0.1; fill:none\" points=\"\n",
       "  825.006,1423.18 825.006,47.2441 \n",
       "  \"/>\n",
       "<polyline clip-path=\"url(#clip1002)\" style=\"stroke:#000000; stroke-width:2; stroke-opacity:0.1; fill:none\" points=\"\n",
       "  1249.73,1423.18 1249.73,47.2441 \n",
       "  \"/>\n",
       "<polyline clip-path=\"url(#clip1002)\" style=\"stroke:#000000; stroke-width:2; stroke-opacity:0.1; fill:none\" points=\"\n",
       "  1674.46,1423.18 1674.46,47.2441 \n",
       "  \"/>\n",
       "<polyline clip-path=\"url(#clip1002)\" style=\"stroke:#000000; stroke-width:2; stroke-opacity:0.1; fill:none\" points=\"\n",
       "  2099.19,1423.18 2099.19,47.2441 \n",
       "  \"/>\n",
       "<polyline clip-path=\"url(#clip1002)\" style=\"stroke:#000000; stroke-width:2; stroke-opacity:0.1; fill:none\" points=\"\n",
       "  146.714,1384.24 2352.76,1384.24 \n",
       "  \"/>\n",
       "<polyline clip-path=\"url(#clip1002)\" style=\"stroke:#000000; stroke-width:2; stroke-opacity:0.1; fill:none\" points=\"\n",
       "  146.714,1117.97 2352.76,1117.97 \n",
       "  \"/>\n",
       "<polyline clip-path=\"url(#clip1002)\" style=\"stroke:#000000; stroke-width:2; stroke-opacity:0.1; fill:none\" points=\"\n",
       "  146.714,851.704 2352.76,851.704 \n",
       "  \"/>\n",
       "<polyline clip-path=\"url(#clip1002)\" style=\"stroke:#000000; stroke-width:2; stroke-opacity:0.1; fill:none\" points=\"\n",
       "  146.714,585.437 2352.76,585.437 \n",
       "  \"/>\n",
       "<polyline clip-path=\"url(#clip1002)\" style=\"stroke:#000000; stroke-width:2; stroke-opacity:0.1; fill:none\" points=\"\n",
       "  146.714,319.17 2352.76,319.17 \n",
       "  \"/>\n",
       "<polyline clip-path=\"url(#clip1002)\" style=\"stroke:#000000; stroke-width:2; stroke-opacity:0.1; fill:none\" points=\"\n",
       "  146.714,52.9023 2352.76,52.9023 \n",
       "  \"/>\n",
       "<polyline clip-path=\"url(#clip1000)\" style=\"stroke:#000000; stroke-width:4; stroke-opacity:1; fill:none\" points=\"\n",
       "  146.714,1423.18 2352.76,1423.18 \n",
       "  \"/>\n",
       "<polyline clip-path=\"url(#clip1000)\" style=\"stroke:#000000; stroke-width:4; stroke-opacity:1; fill:none\" points=\"\n",
       "  146.714,1423.18 146.714,47.2441 \n",
       "  \"/>\n",
       "<polyline clip-path=\"url(#clip1000)\" style=\"stroke:#000000; stroke-width:4; stroke-opacity:1; fill:none\" points=\"\n",
       "  400.277,1423.18 400.277,1406.67 \n",
       "  \"/>\n",
       "<polyline clip-path=\"url(#clip1000)\" style=\"stroke:#000000; stroke-width:4; stroke-opacity:1; fill:none\" points=\"\n",
       "  825.006,1423.18 825.006,1406.67 \n",
       "  \"/>\n",
       "<polyline clip-path=\"url(#clip1000)\" style=\"stroke:#000000; stroke-width:4; stroke-opacity:1; fill:none\" points=\"\n",
       "  1249.73,1423.18 1249.73,1406.67 \n",
       "  \"/>\n",
       "<polyline clip-path=\"url(#clip1000)\" style=\"stroke:#000000; stroke-width:4; stroke-opacity:1; fill:none\" points=\"\n",
       "  1674.46,1423.18 1674.46,1406.67 \n",
       "  \"/>\n",
       "<polyline clip-path=\"url(#clip1000)\" style=\"stroke:#000000; stroke-width:4; stroke-opacity:1; fill:none\" points=\"\n",
       "  2099.19,1423.18 2099.19,1406.67 \n",
       "  \"/>\n",
       "<polyline clip-path=\"url(#clip1000)\" style=\"stroke:#000000; stroke-width:4; stroke-opacity:1; fill:none\" points=\"\n",
       "  146.714,1384.24 173.187,1384.24 \n",
       "  \"/>\n",
       "<polyline clip-path=\"url(#clip1000)\" style=\"stroke:#000000; stroke-width:4; stroke-opacity:1; fill:none\" points=\"\n",
       "  146.714,1117.97 173.187,1117.97 \n",
       "  \"/>\n",
       "<polyline clip-path=\"url(#clip1000)\" style=\"stroke:#000000; stroke-width:4; stroke-opacity:1; fill:none\" points=\"\n",
       "  146.714,851.704 173.187,851.704 \n",
       "  \"/>\n",
       "<polyline clip-path=\"url(#clip1000)\" style=\"stroke:#000000; stroke-width:4; stroke-opacity:1; fill:none\" points=\"\n",
       "  146.714,585.437 173.187,585.437 \n",
       "  \"/>\n",
       "<polyline clip-path=\"url(#clip1000)\" style=\"stroke:#000000; stroke-width:4; stroke-opacity:1; fill:none\" points=\"\n",
       "  146.714,319.17 173.187,319.17 \n",
       "  \"/>\n",
       "<polyline clip-path=\"url(#clip1000)\" style=\"stroke:#000000; stroke-width:4; stroke-opacity:1; fill:none\" points=\"\n",
       "  146.714,52.9023 173.187,52.9023 \n",
       "  \"/>\n",
       "<path clip-path=\"url(#clip1000)\" d=\"M 0 0 M367.824 1461.77 L380.3 1461.77 L380.3 1465.56 L367.824 1465.56 L367.824 1461.77 Z\" fill=\"#000000\" fill-rule=\"evenodd\" fill-opacity=\"1\" /><path clip-path=\"url(#clip1000)\" d=\"M 0 0 M389.398 1472.72 L405.717 1472.72 L405.717 1476.65 L383.773 1476.65 L383.773 1472.72 Q386.435 1469.96 391.018 1465.33 Q395.624 1460.68 396.805 1459.34 Q399.05 1456.81 399.93 1455.08 Q400.833 1453.32 400.833 1451.63 Q400.833 1448.87 398.888 1447.14 Q396.967 1445.4 393.865 1445.4 Q391.666 1445.4 389.212 1446.17 Q386.782 1446.93 384.004 1448.48 L384.004 1443.76 Q386.828 1442.62 389.282 1442.05 Q391.736 1441.47 393.773 1441.47 Q399.143 1441.47 402.337 1444.15 Q405.532 1446.84 405.532 1451.33 Q405.532 1453.46 404.722 1455.38 Q403.935 1457.28 401.828 1459.87 Q401.249 1460.54 398.148 1463.76 Q395.046 1466.95 389.398 1472.72 Z\" fill=\"#000000\" fill-rule=\"evenodd\" fill-opacity=\"1\" /><path clip-path=\"url(#clip1000)\" d=\"M 0 0 M420.786 1445.17 Q417.175 1445.17 415.347 1448.74 Q413.541 1452.28 413.541 1459.41 Q413.541 1466.51 415.347 1470.08 Q417.175 1473.62 420.786 1473.62 Q424.421 1473.62 426.226 1470.08 Q428.055 1466.51 428.055 1459.41 Q428.055 1452.28 426.226 1448.74 Q424.421 1445.17 420.786 1445.17 M420.786 1441.47 Q426.596 1441.47 429.652 1446.07 Q432.731 1450.66 432.731 1459.41 Q432.731 1468.13 429.652 1472.74 Q426.596 1477.32 420.786 1477.32 Q414.976 1477.32 411.897 1472.74 Q408.842 1468.13 408.842 1459.41 Q408.842 1450.66 411.897 1446.07 Q414.976 1441.47 420.786 1441.47 Z\" fill=\"#000000\" fill-rule=\"evenodd\" fill-opacity=\"1\" /><path clip-path=\"url(#clip1000)\" d=\"M 0 0 M792.367 1461.77 L804.844 1461.77 L804.844 1465.56 L792.367 1465.56 L792.367 1461.77 Z\" fill=\"#000000\" fill-rule=\"evenodd\" fill-opacity=\"1\" /><path clip-path=\"url(#clip1000)\" d=\"M 0 0 M810.724 1472.72 L818.363 1472.72 L818.363 1446.35 L810.052 1448.02 L810.052 1443.76 L818.316 1442.09 L822.992 1442.09 L822.992 1472.72 L830.631 1472.72 L830.631 1476.65 L810.724 1476.65 L810.724 1472.72 Z\" fill=\"#000000\" fill-rule=\"evenodd\" fill-opacity=\"1\" /><path clip-path=\"url(#clip1000)\" d=\"M 0 0 M845.7 1445.17 Q842.089 1445.17 840.261 1448.74 Q838.455 1452.28 838.455 1459.41 Q838.455 1466.51 840.261 1470.08 Q842.089 1473.62 845.7 1473.62 Q849.335 1473.62 851.14 1470.08 Q852.969 1466.51 852.969 1459.41 Q852.969 1452.28 851.14 1448.74 Q849.335 1445.17 845.7 1445.17 M845.7 1441.47 Q851.511 1441.47 854.566 1446.07 Q857.645 1450.66 857.645 1459.41 Q857.645 1468.13 854.566 1472.74 Q851.511 1477.32 845.7 1477.32 Q839.89 1477.32 836.812 1472.74 Q833.756 1468.13 833.756 1459.41 Q833.756 1450.66 836.812 1446.07 Q839.89 1441.47 845.7 1441.47 Z\" fill=\"#000000\" fill-rule=\"evenodd\" fill-opacity=\"1\" /><path clip-path=\"url(#clip1000)\" d=\"M 0 0 M1249.73 1445.17 Q1246.12 1445.17 1244.3 1448.74 Q1242.49 1452.28 1242.49 1459.41 Q1242.49 1466.51 1244.3 1470.08 Q1246.12 1473.62 1249.73 1473.62 Q1253.37 1473.62 1255.17 1470.08 Q1257 1466.51 1257 1459.41 Q1257 1452.28 1255.17 1448.74 Q1253.37 1445.17 1249.73 1445.17 M1249.73 1441.47 Q1255.55 1441.47 1258.6 1446.07 Q1261.68 1450.66 1261.68 1459.41 Q1261.68 1468.13 1258.6 1472.74 Q1255.55 1477.32 1249.73 1477.32 Q1243.92 1477.32 1240.85 1472.74 Q1237.79 1468.13 1237.79 1459.41 Q1237.79 1450.66 1240.85 1446.07 Q1243.92 1441.47 1249.73 1441.47 Z\" fill=\"#000000\" fill-rule=\"evenodd\" fill-opacity=\"1\" /><path clip-path=\"url(#clip1000)\" d=\"M 0 0 M1651.34 1472.72 L1658.98 1472.72 L1658.98 1446.35 L1650.67 1448.02 L1650.67 1443.76 L1658.93 1442.09 L1663.61 1442.09 L1663.61 1472.72 L1671.25 1472.72 L1671.25 1476.65 L1651.34 1476.65 L1651.34 1472.72 Z\" fill=\"#000000\" fill-rule=\"evenodd\" fill-opacity=\"1\" /><path clip-path=\"url(#clip1000)\" d=\"M 0 0 M1686.32 1445.17 Q1682.7 1445.17 1680.88 1448.74 Q1679.07 1452.28 1679.07 1459.41 Q1679.07 1466.51 1680.88 1470.08 Q1682.7 1473.62 1686.32 1473.62 Q1689.95 1473.62 1691.76 1470.08 Q1693.58 1466.51 1693.58 1459.41 Q1693.58 1452.28 1691.76 1448.74 Q1689.95 1445.17 1686.32 1445.17 M1686.32 1441.47 Q1692.13 1441.47 1695.18 1446.07 Q1698.26 1450.66 1698.26 1459.41 Q1698.26 1468.13 1695.18 1472.74 Q1692.13 1477.32 1686.32 1477.32 Q1680.51 1477.32 1677.43 1472.74 Q1674.37 1468.13 1674.37 1459.41 Q1674.37 1450.66 1677.43 1446.07 Q1680.51 1441.47 1686.32 1441.47 Z\" fill=\"#000000\" fill-rule=\"evenodd\" fill-opacity=\"1\" /><path clip-path=\"url(#clip1000)\" d=\"M 0 0 M2080.34 1472.72 L2096.66 1472.72 L2096.66 1476.65 L2074.71 1476.65 L2074.71 1472.72 Q2077.38 1469.96 2081.96 1465.33 Q2086.57 1460.68 2087.75 1459.34 Q2089.99 1456.81 2090.87 1455.08 Q2091.77 1453.32 2091.77 1451.63 Q2091.77 1448.87 2089.83 1447.14 Q2087.91 1445.4 2084.81 1445.4 Q2082.61 1445.4 2080.15 1446.17 Q2077.72 1446.93 2074.95 1448.48 L2074.95 1443.76 Q2077.77 1442.62 2080.22 1442.05 Q2082.68 1441.47 2084.71 1441.47 Q2090.08 1441.47 2093.28 1444.15 Q2096.47 1446.84 2096.47 1451.33 Q2096.47 1453.46 2095.66 1455.38 Q2094.88 1457.28 2092.77 1459.87 Q2092.19 1460.54 2089.09 1463.76 Q2085.99 1466.95 2080.34 1472.72 Z\" fill=\"#000000\" fill-rule=\"evenodd\" fill-opacity=\"1\" /><path clip-path=\"url(#clip1000)\" d=\"M 0 0 M2111.73 1445.17 Q2108.12 1445.17 2106.29 1448.74 Q2104.48 1452.28 2104.48 1459.41 Q2104.48 1466.51 2106.29 1470.08 Q2108.12 1473.62 2111.73 1473.62 Q2115.36 1473.62 2117.17 1470.08 Q2119 1466.51 2119 1459.41 Q2119 1452.28 2117.17 1448.74 Q2115.36 1445.17 2111.73 1445.17 M2111.73 1441.47 Q2117.54 1441.47 2120.59 1446.07 Q2123.67 1450.66 2123.67 1459.41 Q2123.67 1468.13 2120.59 1472.74 Q2117.54 1477.32 2111.73 1477.32 Q2105.92 1477.32 2102.84 1472.74 Q2099.78 1468.13 2099.78 1459.41 Q2099.78 1450.66 2102.84 1446.07 Q2105.92 1441.47 2111.73 1441.47 Z\" fill=\"#000000\" fill-rule=\"evenodd\" fill-opacity=\"1\" /><path clip-path=\"url(#clip1000)\" d=\"M 0 0 M65.8393 1397.58 L73.4782 1397.58 L73.4782 1371.22 L65.168 1372.88 L65.168 1368.62 L73.4319 1366.96 L78.1078 1366.96 L78.1078 1397.58 L85.7466 1397.58 L85.7466 1401.52 L65.8393 1401.52 L65.8393 1397.58 Z\" fill=\"#000000\" fill-rule=\"evenodd\" fill-opacity=\"1\" /><path clip-path=\"url(#clip1000)\" d=\"M 0 0 M90.8161 1395.64 L95.7003 1395.64 L95.7003 1401.52 L90.8161 1401.52 L90.8161 1395.64 Z\" fill=\"#000000\" fill-rule=\"evenodd\" fill-opacity=\"1\" /><path clip-path=\"url(#clip1000)\" d=\"M 0 0 M110.77 1370.04 Q107.159 1370.04 105.33 1373.6 Q103.524 1377.14 103.524 1384.27 Q103.524 1391.38 105.33 1394.94 Q107.159 1398.49 110.77 1398.49 Q114.404 1398.49 116.209 1394.94 Q118.038 1391.38 118.038 1384.27 Q118.038 1377.14 116.209 1373.6 Q114.404 1370.04 110.77 1370.04 M110.77 1366.33 Q116.58 1366.33 119.635 1370.94 Q122.714 1375.52 122.714 1384.27 Q122.714 1393 119.635 1397.61 Q116.58 1402.19 110.77 1402.19 Q104.959 1402.19 101.881 1397.61 Q98.8253 1393 98.8253 1384.27 Q98.8253 1375.52 101.881 1370.94 Q104.959 1366.33 110.77 1366.33 Z\" fill=\"#000000\" fill-rule=\"evenodd\" fill-opacity=\"1\" /><path clip-path=\"url(#clip1000)\" d=\"M 0 0 M66.8347 1131.32 L74.4735 1131.32 L74.4735 1104.95 L66.1634 1106.62 L66.1634 1102.36 L74.4272 1100.69 L79.1032 1100.69 L79.1032 1131.32 L86.742 1131.32 L86.742 1135.25 L66.8347 1135.25 L66.8347 1131.32 Z\" fill=\"#000000\" fill-rule=\"evenodd\" fill-opacity=\"1\" /><path clip-path=\"url(#clip1000)\" d=\"M 0 0 M91.8114 1129.37 L96.6956 1129.37 L96.6956 1135.25 L91.8114 1135.25 L91.8114 1129.37 Z\" fill=\"#000000\" fill-rule=\"evenodd\" fill-opacity=\"1\" /><path clip-path=\"url(#clip1000)\" d=\"M 0 0 M101.811 1100.69 L120.168 1100.69 L120.168 1104.63 L106.094 1104.63 L106.094 1113.1 Q107.112 1112.75 108.131 1112.59 Q109.149 1112.4 110.168 1112.4 Q115.955 1112.4 119.334 1115.58 Q122.714 1118.75 122.714 1124.16 Q122.714 1129.74 119.242 1132.84 Q115.77 1135.92 109.45 1135.92 Q107.274 1135.92 105.006 1135.55 Q102.76 1135.18 100.353 1134.44 L100.353 1129.74 Q102.436 1130.88 104.659 1131.43 Q106.881 1131.99 109.358 1131.99 Q113.362 1131.99 115.7 1129.88 Q118.038 1127.77 118.038 1124.16 Q118.038 1120.55 115.7 1118.45 Q113.362 1116.34 109.358 1116.34 Q107.483 1116.34 105.608 1116.76 Q103.756 1117.17 101.811 1118.05 L101.811 1100.69 Z\" fill=\"#000000\" fill-rule=\"evenodd\" fill-opacity=\"1\" /><path clip-path=\"url(#clip1000)\" d=\"M 0 0 M69.4273 865.049 L85.7466 865.049 L85.7466 868.984 L63.8023 868.984 L63.8023 865.049 Q66.4643 862.294 71.0476 857.665 Q75.6541 853.012 76.8346 851.669 Q79.08 849.146 79.9596 847.41 Q80.8624 845.651 80.8624 843.961 Q80.8624 841.206 78.918 839.47 Q76.9967 837.734 73.8948 837.734 Q71.6958 837.734 69.2421 838.498 Q66.8115 839.262 64.0338 840.813 L64.0338 836.091 Q66.8578 834.956 69.3115 834.378 Q71.7652 833.799 73.8023 833.799 Q79.1726 833.799 82.367 836.484 Q85.5614 839.169 85.5614 843.66 Q85.5614 845.79 84.7513 847.711 Q83.9642 849.609 81.8578 852.202 Q81.2791 852.873 78.1772 856.09 Q75.0754 859.285 69.4273 865.049 Z\" fill=\"#000000\" fill-rule=\"evenodd\" fill-opacity=\"1\" /><path clip-path=\"url(#clip1000)\" d=\"M 0 0 M90.8161 863.104 L95.7003 863.104 L95.7003 868.984 L90.8161 868.984 L90.8161 863.104 Z\" fill=\"#000000\" fill-rule=\"evenodd\" fill-opacity=\"1\" /><path clip-path=\"url(#clip1000)\" d=\"M 0 0 M110.77 837.503 Q107.159 837.503 105.33 841.067 Q103.524 844.609 103.524 851.739 Q103.524 858.845 105.33 862.41 Q107.159 865.952 110.77 865.952 Q114.404 865.952 116.209 862.41 Q118.038 858.845 118.038 851.739 Q118.038 844.609 116.209 841.067 Q114.404 837.503 110.77 837.503 M110.77 833.799 Q116.58 833.799 119.635 838.405 Q122.714 842.989 122.714 851.739 Q122.714 860.465 119.635 865.072 Q116.58 869.655 110.77 869.655 Q104.959 869.655 101.881 865.072 Q98.8253 860.465 98.8253 851.739 Q98.8253 842.989 101.881 838.405 Q104.959 833.799 110.77 833.799 Z\" fill=\"#000000\" fill-rule=\"evenodd\" fill-opacity=\"1\" /><path clip-path=\"url(#clip1000)\" d=\"M 0 0 M70.4226 598.782 L86.742 598.782 L86.742 602.717 L64.7977 602.717 L64.7977 598.782 Q67.4597 596.027 72.043 591.397 Q76.6495 586.745 77.83 585.402 Q80.0754 582.879 80.955 581.143 Q81.8578 579.383 81.8578 577.694 Q81.8578 574.939 79.9133 573.203 Q77.992 571.467 74.8902 571.467 Q72.6911 571.467 70.2375 572.231 Q67.8069 572.995 65.0292 574.546 L65.0292 569.823 Q67.8532 568.689 70.3069 568.11 Q72.7606 567.532 74.7976 567.532 Q80.168 567.532 83.3624 570.217 Q86.5568 572.902 86.5568 577.393 Q86.5568 579.522 85.7466 581.444 Q84.9596 583.342 82.8531 585.934 Q82.2744 586.606 79.1726 589.823 Q76.0708 593.018 70.4226 598.782 Z\" fill=\"#000000\" fill-rule=\"evenodd\" fill-opacity=\"1\" /><path clip-path=\"url(#clip1000)\" d=\"M 0 0 M91.8114 596.837 L96.6956 596.837 L96.6956 602.717 L91.8114 602.717 L91.8114 596.837 Z\" fill=\"#000000\" fill-rule=\"evenodd\" fill-opacity=\"1\" /><path clip-path=\"url(#clip1000)\" d=\"M 0 0 M101.811 568.157 L120.168 568.157 L120.168 572.092 L106.094 572.092 L106.094 580.564 Q107.112 580.217 108.131 580.055 Q109.149 579.87 110.168 579.87 Q115.955 579.87 119.334 583.041 Q122.714 586.212 122.714 591.629 Q122.714 597.207 119.242 600.309 Q115.77 603.388 109.45 603.388 Q107.274 603.388 105.006 603.018 Q102.76 602.647 100.353 601.907 L100.353 597.207 Q102.436 598.342 104.659 598.897 Q106.881 599.453 109.358 599.453 Q113.362 599.453 115.7 597.346 Q118.038 595.24 118.038 591.629 Q118.038 588.018 115.7 585.911 Q113.362 583.805 109.358 583.805 Q107.483 583.805 105.608 584.221 Q103.756 584.638 101.811 585.518 L101.811 568.157 Z\" fill=\"#000000\" fill-rule=\"evenodd\" fill-opacity=\"1\" /><path clip-path=\"url(#clip1000)\" d=\"M 0 0 M78.617 317.815 Q81.9735 318.533 83.8485 320.801 Q85.7466 323.07 85.7466 326.403 Q85.7466 331.519 82.2281 334.32 Q78.7096 337.121 72.2282 337.121 Q70.0523 337.121 67.7375 336.681 Q65.4458 336.264 62.9921 335.408 L62.9921 330.894 Q64.9366 332.028 67.2514 332.607 Q69.5662 333.186 72.0893 333.186 Q76.4874 333.186 78.7791 331.45 Q81.0939 329.713 81.0939 326.403 Q81.0939 323.348 78.9411 321.635 Q76.8115 319.899 72.9921 319.899 L68.9643 319.899 L68.9643 316.056 L73.1773 316.056 Q76.6263 316.056 78.455 314.69 Q80.2837 313.301 80.2837 310.709 Q80.2837 308.047 78.3856 306.635 Q76.5106 305.2 72.9921 305.2 Q71.0708 305.2 68.8717 305.616 Q66.6727 306.033 64.0338 306.913 L64.0338 302.746 Q66.6958 302.005 69.0106 301.635 Q71.3486 301.265 73.4087 301.265 Q78.7328 301.265 81.8346 303.695 Q84.9365 306.102 84.9365 310.223 Q84.9365 313.093 83.2929 315.084 Q81.6494 317.051 78.617 317.815 Z\" fill=\"#000000\" fill-rule=\"evenodd\" fill-opacity=\"1\" /><path clip-path=\"url(#clip1000)\" d=\"M 0 0 M90.8161 330.57 L95.7003 330.57 L95.7003 336.45 L90.8161 336.45 L90.8161 330.57 Z\" fill=\"#000000\" fill-rule=\"evenodd\" fill-opacity=\"1\" /><path clip-path=\"url(#clip1000)\" d=\"M 0 0 M110.77 304.968 Q107.159 304.968 105.33 308.533 Q103.524 312.075 103.524 319.204 Q103.524 326.311 105.33 329.875 Q107.159 333.417 110.77 333.417 Q114.404 333.417 116.209 329.875 Q118.038 326.311 118.038 319.204 Q118.038 312.075 116.209 308.533 Q114.404 304.968 110.77 304.968 M110.77 301.265 Q116.58 301.265 119.635 305.871 Q122.714 310.454 122.714 319.204 Q122.714 327.931 119.635 332.538 Q116.58 337.121 110.77 337.121 Q104.959 337.121 101.881 332.538 Q98.8253 327.931 98.8253 319.204 Q98.8253 310.454 101.881 305.871 Q104.959 301.265 110.77 301.265 Z\" fill=\"#000000\" fill-rule=\"evenodd\" fill-opacity=\"1\" /><path clip-path=\"url(#clip1000)\" d=\"M 0 0 M79.6124 51.5482 Q82.9689 52.2658 84.8439 54.5343 Q86.742 56.8028 86.742 60.1361 Q86.742 65.2518 83.2235 68.0527 Q79.705 70.8536 73.2236 70.8536 Q71.0476 70.8536 68.7328 70.4138 Q66.4412 69.9971 63.9875 69.1407 L63.9875 64.6268 Q65.9319 65.7611 68.2467 66.3398 Q70.5615 66.9185 73.0847 66.9185 Q77.4828 66.9185 79.7744 65.1824 Q82.0892 63.4463 82.0892 60.1361 Q82.0892 57.0806 79.9365 55.3676 Q77.8069 53.6315 73.9874 53.6315 L69.9597 53.6315 L69.9597 49.7889 L74.1726 49.7889 Q77.6217 49.7889 79.4504 48.4232 Q81.2791 47.0343 81.2791 44.4417 Q81.2791 41.7797 79.3809 40.3677 Q77.5059 38.9325 73.9874 38.9325 Q72.0662 38.9325 69.8671 39.3492 Q67.668 39.7658 65.0292 40.6455 L65.0292 36.4788 Q67.6912 35.7381 70.006 35.3677 Q72.3439 34.9973 74.4041 34.9973 Q79.7281 34.9973 82.83 37.4279 Q85.9318 39.8353 85.9318 43.9556 Q85.9318 46.826 84.2883 48.8167 Q82.6448 50.7843 79.6124 51.5482 Z\" fill=\"#000000\" fill-rule=\"evenodd\" fill-opacity=\"1\" /><path clip-path=\"url(#clip1000)\" d=\"M 0 0 M91.8114 64.3027 L96.6956 64.3027 L96.6956 70.1823 L91.8114 70.1823 L91.8114 64.3027 Z\" fill=\"#000000\" fill-rule=\"evenodd\" fill-opacity=\"1\" /><path clip-path=\"url(#clip1000)\" d=\"M 0 0 M101.811 35.6223 L120.168 35.6223 L120.168 39.5575 L106.094 39.5575 L106.094 48.0297 Q107.112 47.6825 108.131 47.5204 Q109.149 47.3352 110.168 47.3352 Q115.955 47.3352 119.334 50.5065 Q122.714 53.6778 122.714 59.0944 Q122.714 64.6731 119.242 67.7749 Q115.77 70.8536 109.45 70.8536 Q107.274 70.8536 105.006 70.4833 Q102.76 70.1129 100.353 69.3722 L100.353 64.6731 Q102.436 65.8074 104.659 66.3629 Q106.881 66.9185 109.358 66.9185 Q113.362 66.9185 115.7 64.812 Q118.038 62.7055 118.038 59.0944 Q118.038 55.4833 115.7 53.3769 Q113.362 51.2704 109.358 51.2704 Q107.483 51.2704 105.608 51.6871 Q103.756 52.1037 101.811 52.9833 L101.811 35.6223 Z\" fill=\"#000000\" fill-rule=\"evenodd\" fill-opacity=\"1\" /><path clip-path=\"url(#clip1000)\" d=\"M 0 0 M1231.56 1508.52 L1238.47 1508.52 L1250.28 1526.19 L1262.15 1508.52 L1269.05 1508.52 L1253.78 1531.34 L1270.07 1556.04 L1263.17 1556.04 L1249.8 1535.83 L1236.34 1556.04 L1229.4 1556.04 L1246.36 1530.68 L1231.56 1508.52 Z\" fill=\"#000000\" fill-rule=\"evenodd\" fill-opacity=\"1\" /><polyline clip-path=\"url(#clip1002)\" style=\"stroke:#009af9; stroke-width:8; stroke-opacity:1; fill:none\" points=\"\n",
       "  209.149,1384.24 251.622,1384.23 294.095,1384.23 336.568,1384.22 379.041,1384.22 421.514,1384.21 463.987,1384.2 506.459,1384.18 548.932,1384.16 591.405,1384.12 \n",
       "  633.878,1384.08 676.351,1384.01 718.824,1383.91 761.297,1383.77 803.77,1383.55 846.243,1383.23 888.715,1382.72 931.188,1381.91 973.661,1380.53 1016.13,1378.07 \n",
       "  1058.61,1373.27 1101.08,1362.8 1143.55,1338.4 1186.03,1290.29 1228.5,1227.36 1270.97,1171.35 1313.44,1131.47 1355.92,1105.82 1398.39,1089.98 1440.86,1080.31 \n",
       "  1483.34,1074.41 1525.81,1070.8 1568.28,1068.56 1610.75,1067.16 1653.23,1066.29 1695.7,1065.73 1738.17,1065.37 1780.65,1065.15 1823.12,1065 1865.59,1064.9 \n",
       "  1908.06,1064.84 1950.54,1064.79 1993.01,1064.77 2035.48,1064.75 2077.96,1064.74 2120.43,1064.73 2162.9,1064.72 2205.37,1064.72 2247.85,1064.72 2290.32,1064.72 \n",
       "  \n",
       "  \"/>\n",
       "<polyline clip-path=\"url(#clip1002)\" style=\"stroke:#e26f46; stroke-width:8; stroke-opacity:1; fill:none\" points=\"\n",
       "  209.149,612.335 251.622,612.348 294.095,612.359 336.568,612.37 379.041,612.385 421.514,612.406 463.987,612.435 506.459,612.475 548.932,612.53 591.405,612.609 \n",
       "  633.878,612.72 676.351,612.88 718.824,613.11 761.297,613.448 803.77,613.951 846.243,614.714 888.715,615.898 931.188,617.794 973.661,620.959 1016.13,626.554 \n",
       "  1058.61,637.269 1101.08,659.862 1143.55,709.47 1186.03,798.039 1228.5,899.012 1270.97,977.21 1313.44,1027.17 1355.92,1057.05 1398.39,1074.68 1440.86,1085.13 \n",
       "  1483.34,1091.4 1525.81,1095.2 1568.28,1097.53 1610.75,1098.98 1653.23,1099.88 1695.7,1100.46 1738.17,1100.82 1780.65,1101.06 1823.12,1101.21 1865.59,1101.31 \n",
       "  1908.06,1101.37 1950.54,1101.42 1993.01,1101.45 2035.48,1101.46 2077.96,1101.48 2120.43,1101.49 2162.9,1101.49 2205.37,1101.5 2247.85,1101.5 2290.32,1101.5 \n",
       "  \n",
       "  \"/>\n",
       "<polyline clip-path=\"url(#clip1002)\" style=\"stroke:#3da44d; stroke-width:8; stroke-opacity:1; fill:none\" points=\"\n",
       "  209.149,1384.24 251.622,1384.17 294.095,1384.12 336.568,1384.08 379.041,1384.02 421.514,1383.93 463.987,1383.81 506.459,1383.64 548.932,1383.41 591.405,1383.08 \n",
       "  633.878,1382.61 676.351,1381.94 718.824,1380.98 761.297,1379.57 803.77,1377.49 846.243,1374.34 888.715,1369.48 931.188,1361.75 973.661,1348.99 1016.13,1326.77 \n",
       "  1058.61,1285.23 1101.08,1201.04 1143.55,1028.28 1186.03,751.736 1228.5,480.915 1270.97,303.743 1313.44,206.188 1355.92,154.036 1398.39,125.593 1440.86,109.611 \n",
       "  1483.34,100.378 1525.81,94.9201 1568.28,91.6306 1610.75,89.6179 1653.23,88.3701 1695.7,87.589 1738.17,87.0946 1780.65,86.7794 1823.12,86.5757 1865.59,86.4429 \n",
       "  1908.06,86.3569 1950.54,86.3004 1993.01,86.2631 2035.48,86.2389 2077.96,86.2224 2120.43,86.2112 2162.9,86.2037 2205.37,86.1986 2247.85,86.1954 2290.32,86.1857 \n",
       "  \n",
       "  \"/>\n",
       "<path clip-path=\"url(#clip1000)\" d=\"\n",
       "M1764.11 372.684 L2280.76 372.684 L2280.76 130.764 L1764.11 130.764  Z\n",
       "  \" fill=\"#ffffff\" fill-rule=\"evenodd\" fill-opacity=\"1\"/>\n",
       "<polyline clip-path=\"url(#clip1000)\" style=\"stroke:#000000; stroke-width:4; stroke-opacity:1; fill:none\" points=\"\n",
       "  1764.11,372.684 2280.76,372.684 2280.76,130.764 1764.11,130.764 1764.11,372.684 \n",
       "  \"/>\n",
       "<polyline clip-path=\"url(#clip1000)\" style=\"stroke:#009af9; stroke-width:8; stroke-opacity:1; fill:none\" points=\"\n",
       "  1788.11,191.244 1932.11,191.244 \n",
       "  \"/>\n",
       "<path clip-path=\"url(#clip1000)\" d=\"M 0 0 M1960.79 177.807 L1960.79 204.682 L1966.44 204.682 Q1973.59 204.682 1976.9 201.441 Q1980.23 198.2 1980.23 191.209 Q1980.23 184.265 1976.9 181.047 Q1973.59 177.807 1966.44 177.807 L1960.79 177.807 M1956.11 173.964 L1965.72 173.964 Q1975.77 173.964 1980.47 178.154 Q1985.16 182.321 1985.16 191.209 Q1985.16 200.145 1980.44 204.334 Q1975.72 208.524 1965.72 208.524 L1956.11 208.524 L1956.11 173.964 Z\" fill=\"#000000\" fill-rule=\"evenodd\" fill-opacity=\"1\" /><path clip-path=\"url(#clip1000)\" d=\"M 0 0 M2011.81 194.496 L2011.81 196.58 L1992.22 196.58 Q1992.5 200.978 1994.86 203.293 Q1997.25 205.584 2001.48 205.584 Q2003.94 205.584 2006.23 204.982 Q2008.54 204.381 2010.81 203.177 L2010.81 207.205 Q2008.52 208.177 2006.11 208.686 Q2003.71 209.195 2001.23 209.195 Q1995.03 209.195 1991.39 205.584 Q1987.78 201.973 1987.78 195.816 Q1987.78 189.45 1991.21 185.723 Q1994.66 181.973 2000.49 181.973 Q2005.72 181.973 2008.75 185.353 Q2011.81 188.709 2011.81 194.496 M2007.55 193.246 Q2007.5 189.751 2005.58 187.668 Q2003.68 185.584 2000.53 185.584 Q1996.97 185.584 1994.82 187.598 Q1992.69 189.612 1992.36 193.27 L2007.55 193.246 Z\" fill=\"#000000\" fill-rule=\"evenodd\" fill-opacity=\"1\" /><path clip-path=\"url(#clip1000)\" d=\"M 0 0 M2037.83 192.876 L2037.83 208.524 L2033.57 208.524 L2033.57 193.015 Q2033.57 189.334 2032.13 187.506 Q2030.7 185.677 2027.83 185.677 Q2024.38 185.677 2022.39 187.876 Q2020.4 190.075 2020.4 193.871 L2020.4 208.524 L2016.11 208.524 L2016.11 182.598 L2020.4 182.598 L2020.4 186.626 Q2021.92 184.288 2023.98 183.131 Q2026.07 181.973 2028.78 181.973 Q2033.24 181.973 2035.53 184.751 Q2037.83 187.506 2037.83 192.876 Z\" fill=\"#000000\" fill-rule=\"evenodd\" fill-opacity=\"1\" /><path clip-path=\"url(#clip1000)\" d=\"M 0 0 M2058.82 183.362 L2058.82 187.39 Q2057.02 186.464 2055.07 186.001 Q2053.13 185.538 2051.04 185.538 Q2047.87 185.538 2046.28 186.51 Q2044.7 187.483 2044.7 189.427 Q2044.7 190.908 2045.84 191.765 Q2046.97 192.598 2050.4 193.362 L2051.85 193.686 Q2056.39 194.658 2058.29 196.441 Q2060.21 198.2 2060.21 201.371 Q2060.21 204.982 2057.34 207.089 Q2054.49 209.195 2049.49 209.195 Q2047.41 209.195 2045.14 208.779 Q2042.9 208.385 2040.4 207.575 L2040.4 203.177 Q2042.76 204.404 2045.05 205.029 Q2047.34 205.631 2049.59 205.631 Q2052.59 205.631 2054.22 204.612 Q2055.84 203.57 2055.84 201.695 Q2055.84 199.959 2054.66 199.033 Q2053.5 198.107 2049.54 197.251 L2048.06 196.904 Q2044.1 196.07 2042.34 194.358 Q2040.58 192.621 2040.58 189.612 Q2040.58 185.955 2043.17 183.964 Q2045.77 181.973 2050.53 181.973 Q2052.9 181.973 2054.98 182.321 Q2057.06 182.668 2058.82 183.362 Z\" fill=\"#000000\" fill-rule=\"evenodd\" fill-opacity=\"1\" /><path clip-path=\"url(#clip1000)\" d=\"M 0 0 M2064.68 182.598 L2068.94 182.598 L2068.94 208.524 L2064.68 208.524 L2064.68 182.598 M2064.68 172.506 L2068.94 172.506 L2068.94 177.899 L2064.68 177.899 L2064.68 172.506 Z\" fill=\"#000000\" fill-rule=\"evenodd\" fill-opacity=\"1\" /><path clip-path=\"url(#clip1000)\" d=\"M 0 0 M2077.62 175.237 L2077.62 182.598 L2086.39 182.598 L2086.39 185.908 L2077.62 185.908 L2077.62 199.982 Q2077.62 203.154 2078.47 204.057 Q2079.35 204.959 2082.02 204.959 L2086.39 204.959 L2086.39 208.524 L2082.02 208.524 Q2077.09 208.524 2075.21 206.695 Q2073.34 204.844 2073.34 199.982 L2073.34 185.908 L2070.21 185.908 L2070.21 182.598 L2073.34 182.598 L2073.34 175.237 L2077.62 175.237 Z\" fill=\"#000000\" fill-rule=\"evenodd\" fill-opacity=\"1\" /><path clip-path=\"url(#clip1000)\" d=\"M 0 0 M2101.65 210.931 Q2099.84 215.561 2098.13 216.973 Q2096.41 218.385 2093.54 218.385 L2090.14 218.385 L2090.14 214.82 L2092.64 214.82 Q2094.4 214.82 2095.37 213.987 Q2096.34 213.154 2097.53 210.052 L2098.29 208.107 L2087.8 182.598 L2092.32 182.598 L2100.42 202.876 L2108.52 182.598 L2113.03 182.598 L2101.65 210.931 Z\" fill=\"#000000\" fill-rule=\"evenodd\" fill-opacity=\"1\" /><polyline clip-path=\"url(#clip1000)\" style=\"stroke:#e26f46; stroke-width:8; stroke-opacity:1; fill:none\" points=\"\n",
       "  1788.11,251.724 1932.11,251.724 \n",
       "  \"/>\n",
       "<path clip-path=\"url(#clip1000)\" d=\"M 0 0 M1969.31 269.004 L1956.11 234.444 L1961 234.444 L1971.95 263.541 L1982.92 234.444 L1987.78 234.444 L1974.61 269.004 L1969.31 269.004 Z\" fill=\"#000000\" fill-rule=\"evenodd\" fill-opacity=\"1\" /><path clip-path=\"url(#clip1000)\" d=\"M 0 0 M2010.74 254.976 L2010.74 257.06 L1991.16 257.06 Q1991.44 261.458 1993.8 263.773 Q1996.18 266.064 2000.42 266.064 Q2002.87 266.064 2005.16 265.462 Q2007.48 264.861 2009.75 263.657 L2009.75 267.685 Q2007.46 268.657 2005.05 269.166 Q2002.64 269.675 2000.16 269.675 Q1993.96 269.675 1990.33 266.064 Q1986.72 262.453 1986.72 256.296 Q1986.72 249.93 1990.14 246.203 Q1993.59 242.453 1999.42 242.453 Q2004.66 242.453 2007.69 245.833 Q2010.74 249.189 2010.74 254.976 M2006.48 253.726 Q2006.44 250.231 2004.52 248.148 Q2002.62 246.064 1999.47 246.064 Q1995.91 246.064 1993.75 248.078 Q1991.62 250.092 1991.3 253.75 L2006.48 253.726 Z\" fill=\"#000000\" fill-rule=\"evenodd\" fill-opacity=\"1\" /><path clip-path=\"url(#clip1000)\" d=\"M 0 0 M2015.21 232.986 L2019.47 232.986 L2019.47 269.004 L2015.21 269.004 L2015.21 232.986 Z\" fill=\"#000000\" fill-rule=\"evenodd\" fill-opacity=\"1\" /><path clip-path=\"url(#clip1000)\" d=\"M 0 0 M2033.98 246.064 Q2030.56 246.064 2028.57 248.75 Q2026.58 251.412 2026.58 256.064 Q2026.58 260.717 2028.54 263.402 Q2030.53 266.064 2033.98 266.064 Q2037.39 266.064 2039.38 263.379 Q2041.37 260.694 2041.37 256.064 Q2041.37 251.458 2039.38 248.773 Q2037.39 246.064 2033.98 246.064 M2033.98 242.453 Q2039.54 242.453 2042.71 246.064 Q2045.88 249.675 2045.88 256.064 Q2045.88 262.43 2042.71 266.064 Q2039.54 269.675 2033.98 269.675 Q2028.41 269.675 2025.23 266.064 Q2022.09 262.43 2022.09 256.064 Q2022.09 249.675 2025.23 246.064 Q2028.41 242.453 2033.98 242.453 Z\" fill=\"#000000\" fill-rule=\"evenodd\" fill-opacity=\"1\" /><path clip-path=\"url(#clip1000)\" d=\"M 0 0 M2069.01 244.074 L2069.01 248.055 Q2067.2 247.06 2065.37 246.574 Q2063.57 246.064 2061.72 246.064 Q2057.57 246.064 2055.28 248.703 Q2052.99 251.319 2052.99 256.064 Q2052.99 260.81 2055.28 263.449 Q2057.57 266.064 2061.72 266.064 Q2063.57 266.064 2065.37 265.578 Q2067.2 265.069 2069.01 264.074 L2069.01 268.009 Q2067.22 268.842 2065.3 269.259 Q2063.4 269.675 2061.25 269.675 Q2055.4 269.675 2051.95 265.995 Q2048.5 262.314 2048.5 256.064 Q2048.5 249.722 2051.97 246.088 Q2055.47 242.453 2061.53 242.453 Q2063.5 242.453 2065.37 242.87 Q2067.25 243.263 2069.01 244.074 Z\" fill=\"#000000\" fill-rule=\"evenodd\" fill-opacity=\"1\" /><path clip-path=\"url(#clip1000)\" d=\"M 0 0 M2073.47 243.078 L2077.73 243.078 L2077.73 269.004 L2073.47 269.004 L2073.47 243.078 M2073.47 232.986 L2077.73 232.986 L2077.73 238.379 L2073.47 238.379 L2073.47 232.986 Z\" fill=\"#000000\" fill-rule=\"evenodd\" fill-opacity=\"1\" /><path clip-path=\"url(#clip1000)\" d=\"M 0 0 M2086.41 235.717 L2086.41 243.078 L2095.19 243.078 L2095.19 246.388 L2086.41 246.388 L2086.41 260.462 Q2086.41 263.634 2087.27 264.537 Q2088.15 265.439 2090.81 265.439 L2095.19 265.439 L2095.19 269.004 L2090.81 269.004 Q2085.88 269.004 2084.01 267.175 Q2082.13 265.324 2082.13 260.462 L2082.13 246.388 L2079.01 246.388 L2079.01 243.078 L2082.13 243.078 L2082.13 235.717 L2086.41 235.717 Z\" fill=\"#000000\" fill-rule=\"evenodd\" fill-opacity=\"1\" /><path clip-path=\"url(#clip1000)\" d=\"M 0 0 M2110.44 271.411 Q2108.64 276.041 2106.92 277.453 Q2105.21 278.865 2102.34 278.865 L2098.94 278.865 L2098.94 275.3 L2101.44 275.3 Q2103.2 275.3 2104.17 274.467 Q2105.14 273.634 2106.32 270.532 L2107.09 268.587 L2096.6 243.078 L2101.11 243.078 L2109.21 263.356 L2117.32 243.078 L2121.83 243.078 L2110.44 271.411 Z\" fill=\"#000000\" fill-rule=\"evenodd\" fill-opacity=\"1\" /><polyline clip-path=\"url(#clip1000)\" style=\"stroke:#3da44d; stroke-width:8; stroke-opacity:1; fill:none\" points=\"\n",
       "  1788.11,312.204 1932.11,312.204 \n",
       "  \"/>\n",
       "<path clip-path=\"url(#clip1000)\" d=\"M 0 0 M1956.11 294.924 L1985.35 294.924 L1985.35 298.859 L1973.08 298.859 L1973.08 329.484 L1968.38 329.484 L1968.38 298.859 L1956.11 298.859 L1956.11 294.924 Z\" fill=\"#000000\" fill-rule=\"evenodd\" fill-opacity=\"1\" /><path clip-path=\"url(#clip1000)\" d=\"M 0 0 M2003.94 315.456 L2003.94 317.54 L1984.35 317.54 Q1984.63 321.938 1986.99 324.253 Q1989.38 326.544 1993.61 326.544 Q1996.07 326.544 1998.36 325.942 Q2000.67 325.341 2002.94 324.137 L2002.94 328.165 Q2000.65 329.137 1998.24 329.646 Q1995.84 330.155 1993.36 330.155 Q1987.16 330.155 1983.52 326.544 Q1979.91 322.933 1979.91 316.776 Q1979.91 310.41 1983.34 306.683 Q1986.79 302.933 1992.62 302.933 Q1997.85 302.933 2000.88 306.313 Q2003.94 309.669 2003.94 315.456 M1999.68 314.206 Q1999.63 310.711 1997.71 308.628 Q1995.81 306.544 1992.66 306.544 Q1989.1 306.544 1986.95 308.558 Q1984.82 310.572 1984.49 314.23 L1999.68 314.206 Z\" fill=\"#000000\" fill-rule=\"evenodd\" fill-opacity=\"1\" /><path clip-path=\"url(#clip1000)\" d=\"M 0 0 M2028.59 308.535 Q2030.19 305.665 2032.41 304.299 Q2034.63 302.933 2037.64 302.933 Q2041.69 302.933 2043.89 305.781 Q2046.09 308.605 2046.09 313.836 L2046.09 329.484 L2041.81 329.484 L2041.81 313.975 Q2041.81 310.248 2040.49 308.443 Q2039.17 306.637 2036.46 306.637 Q2033.15 306.637 2031.23 308.836 Q2029.31 311.035 2029.31 314.831 L2029.31 329.484 L2025.03 329.484 L2025.03 313.975 Q2025.03 310.225 2023.71 308.443 Q2022.39 306.637 2019.63 306.637 Q2016.37 306.637 2014.45 308.859 Q2012.53 311.058 2012.53 314.831 L2012.53 329.484 L2008.24 329.484 L2008.24 303.558 L2012.53 303.558 L2012.53 307.586 Q2013.98 305.202 2016.02 304.068 Q2018.06 302.933 2020.86 302.933 Q2023.68 302.933 2025.65 304.368 Q2027.64 305.804 2028.59 308.535 Z\" fill=\"#000000\" fill-rule=\"evenodd\" fill-opacity=\"1\" /><path clip-path=\"url(#clip1000)\" d=\"M 0 0 M2054.68 325.595 L2054.68 339.345 L2050.4 339.345 L2050.4 303.558 L2054.68 303.558 L2054.68 307.493 Q2056.02 305.179 2058.06 304.068 Q2060.12 302.933 2062.97 302.933 Q2067.69 302.933 2070.63 306.683 Q2073.59 310.433 2073.59 316.544 Q2073.59 322.655 2070.63 326.405 Q2067.69 330.155 2062.97 330.155 Q2060.12 330.155 2058.06 329.044 Q2056.02 327.91 2054.68 325.595 M2069.17 316.544 Q2069.17 311.845 2067.22 309.183 Q2065.3 306.498 2061.92 306.498 Q2058.54 306.498 2056.6 309.183 Q2054.68 311.845 2054.68 316.544 Q2054.68 321.243 2056.6 323.929 Q2058.54 326.591 2061.92 326.591 Q2065.3 326.591 2067.22 323.929 Q2069.17 321.243 2069.17 316.544 Z\" fill=\"#000000\" fill-rule=\"evenodd\" fill-opacity=\"1\" /><path clip-path=\"url(#clip1000)\" d=\"M 0 0 M2100.23 315.456 L2100.23 317.54 L2080.65 317.54 Q2080.93 321.938 2083.29 324.253 Q2085.67 326.544 2089.91 326.544 Q2092.36 326.544 2094.65 325.942 Q2096.97 325.341 2099.24 324.137 L2099.24 328.165 Q2096.95 329.137 2094.54 329.646 Q2092.13 330.155 2089.65 330.155 Q2083.45 330.155 2079.82 326.544 Q2076.21 322.933 2076.21 316.776 Q2076.21 310.41 2079.63 306.683 Q2083.08 302.933 2088.91 302.933 Q2094.15 302.933 2097.18 306.313 Q2100.23 309.669 2100.23 315.456 M2095.97 314.206 Q2095.93 310.711 2094.01 308.628 Q2092.11 306.544 2088.96 306.544 Q2085.4 306.544 2083.24 308.558 Q2081.11 310.572 2080.79 314.23 L2095.97 314.206 Z\" fill=\"#000000\" fill-rule=\"evenodd\" fill-opacity=\"1\" /><path clip-path=\"url(#clip1000)\" d=\"M 0 0 M2119.72 307.54 Q2119.01 307.123 2118.15 306.938 Q2117.32 306.73 2116.3 306.73 Q2112.69 306.73 2110.74 309.091 Q2108.82 311.429 2108.82 315.827 L2108.82 329.484 L2104.54 329.484 L2104.54 303.558 L2108.82 303.558 L2108.82 307.586 Q2110.16 305.225 2112.32 304.091 Q2114.47 302.933 2117.55 302.933 Q2117.99 302.933 2118.52 303.003 Q2119.05 303.049 2119.7 303.165 L2119.72 307.54 Z\" fill=\"#000000\" fill-rule=\"evenodd\" fill-opacity=\"1\" /><path clip-path=\"url(#clip1000)\" d=\"M 0 0 M2135.97 316.452 Q2130.81 316.452 2128.82 317.632 Q2126.83 318.813 2126.83 321.66 Q2126.83 323.929 2128.31 325.271 Q2129.82 326.591 2132.39 326.591 Q2135.93 326.591 2138.06 324.091 Q2140.21 321.567 2140.21 317.401 L2140.21 316.452 L2135.97 316.452 M2144.47 314.693 L2144.47 329.484 L2140.21 329.484 L2140.21 325.549 Q2138.75 327.91 2136.58 329.044 Q2134.4 330.155 2131.25 330.155 Q2127.27 330.155 2124.91 327.933 Q2122.57 325.688 2122.57 321.938 Q2122.57 317.563 2125.49 315.341 Q2128.43 313.118 2134.24 313.118 L2140.21 313.118 L2140.21 312.702 Q2140.21 309.762 2138.27 308.165 Q2136.34 306.544 2132.85 306.544 Q2130.63 306.544 2128.52 307.077 Q2126.41 307.609 2124.47 308.674 L2124.47 304.739 Q2126.81 303.836 2129.01 303.396 Q2131.21 302.933 2133.29 302.933 Q2138.91 302.933 2141.69 305.85 Q2144.47 308.767 2144.47 314.693 Z\" fill=\"#000000\" fill-rule=\"evenodd\" fill-opacity=\"1\" /><path clip-path=\"url(#clip1000)\" d=\"M 0 0 M2153.15 296.197 L2153.15 303.558 L2161.92 303.558 L2161.92 306.868 L2153.15 306.868 L2153.15 320.942 Q2153.15 324.114 2154.01 325.017 Q2154.89 325.919 2157.55 325.919 L2161.92 325.919 L2161.92 329.484 L2157.55 329.484 Q2152.62 329.484 2150.74 327.655 Q2148.87 325.804 2148.87 320.942 L2148.87 306.868 L2145.74 306.868 L2145.74 303.558 L2148.87 303.558 L2148.87 296.197 L2153.15 296.197 Z\" fill=\"#000000\" fill-rule=\"evenodd\" fill-opacity=\"1\" /><path clip-path=\"url(#clip1000)\" d=\"M 0 0 M2165.95 319.253 L2165.95 303.558 L2170.21 303.558 L2170.21 319.091 Q2170.21 322.771 2171.65 324.623 Q2173.08 326.452 2175.95 326.452 Q2179.4 326.452 2181.39 324.253 Q2183.4 322.054 2183.4 318.257 L2183.4 303.558 L2187.66 303.558 L2187.66 329.484 L2183.4 329.484 L2183.4 325.503 Q2181.85 327.864 2179.79 329.021 Q2177.76 330.155 2175.05 330.155 Q2170.58 330.155 2168.27 327.378 Q2165.95 324.6 2165.95 319.253 M2176.67 302.933 L2176.67 302.933 Z\" fill=\"#000000\" fill-rule=\"evenodd\" fill-opacity=\"1\" /><path clip-path=\"url(#clip1000)\" d=\"M 0 0 M2207.15 307.54 Q2206.44 307.123 2205.58 306.938 Q2204.75 306.73 2203.73 306.73 Q2200.12 306.73 2198.17 309.091 Q2196.25 311.429 2196.25 315.827 L2196.25 329.484 L2191.97 329.484 L2191.97 303.558 L2196.25 303.558 L2196.25 307.586 Q2197.59 305.225 2199.75 304.091 Q2201.9 302.933 2204.98 302.933 Q2205.42 302.933 2205.95 303.003 Q2206.48 303.049 2207.13 303.165 L2207.15 307.54 Z\" fill=\"#000000\" fill-rule=\"evenodd\" fill-opacity=\"1\" /><path clip-path=\"url(#clip1000)\" d=\"M 0 0 M2232.76 315.456 L2232.76 317.54 L2213.17 317.54 Q2213.45 321.938 2215.81 324.253 Q2218.2 326.544 2222.43 326.544 Q2224.89 326.544 2227.18 325.942 Q2229.49 325.341 2231.76 324.137 L2231.76 328.165 Q2229.47 329.137 2227.06 329.646 Q2224.65 330.155 2222.18 330.155 Q2215.97 330.155 2212.34 326.544 Q2208.73 322.933 2208.73 316.776 Q2208.73 310.41 2212.15 306.683 Q2215.6 302.933 2221.44 302.933 Q2226.67 302.933 2229.7 306.313 Q2232.76 309.669 2232.76 315.456 M2228.5 314.206 Q2228.45 310.711 2226.53 308.628 Q2224.63 306.544 2221.48 306.544 Q2217.92 306.544 2215.77 308.558 Q2213.64 310.572 2213.31 314.23 L2228.5 314.206 Z\" fill=\"#000000\" fill-rule=\"evenodd\" fill-opacity=\"1\" /></svg>\n"
      ]
     },
     "metadata": {},
     "output_type": "display_data"
    }
   ],
   "source": [
    "plot_line(ks, ctr)"
   ]
  },
  {
   "cell_type": "code",
   "execution_count": 26,
   "metadata": {
    "scrolled": false
   },
   "outputs": [
    {
     "data": {
      "image/svg+xml": [
       "<?xml version=\"1.0\" encoding=\"utf-8\"?>\n",
       "<svg xmlns=\"http://www.w3.org/2000/svg\" xmlns:xlink=\"http://www.w3.org/1999/xlink\" width=\"600\" height=\"400\" viewBox=\"0 0 2400 1600\">\n",
       "<defs>\n",
       "  <clipPath id=\"clip3400\">\n",
       "    <rect x=\"0\" y=\"0\" width=\"2400\" height=\"1600\"/>\n",
       "  </clipPath>\n",
       "</defs>\n",
       "<path clip-path=\"url(#clip3400)\" d=\"\n",
       "M0 1600 L2400 1600 L2400 0 L0 0  Z\n",
       "  \" fill=\"#ffffff\" fill-rule=\"evenodd\" fill-opacity=\"1\"/>\n",
       "<defs>\n",
       "  <clipPath id=\"clip3401\">\n",
       "    <rect x=\"480\" y=\"0\" width=\"1681\" height=\"1600\"/>\n",
       "  </clipPath>\n",
       "</defs>\n",
       "<path clip-path=\"url(#clip3400)\" d=\"\n",
       "M148.334 1486.45 L2352.76 1486.45 L2352.76 47.2441 L148.334 47.2441  Z\n",
       "  \" fill=\"#ffffff\" fill-rule=\"evenodd\" fill-opacity=\"1\"/>\n",
       "<defs>\n",
       "  <clipPath id=\"clip3402\">\n",
       "    <rect x=\"148\" y=\"47\" width=\"2205\" height=\"1440\"/>\n",
       "  </clipPath>\n",
       "</defs>\n",
       "<polyline clip-path=\"url(#clip3402)\" style=\"stroke:#000000; stroke-width:2; stroke-opacity:0.1; fill:none\" points=\"\n",
       "  181.014,1486.45 181.014,47.2441 \n",
       "  \"/>\n",
       "<polyline clip-path=\"url(#clip3402)\" style=\"stroke:#000000; stroke-width:2; stroke-opacity:0.1; fill:none\" points=\"\n",
       "  715.78,1486.45 715.78,47.2441 \n",
       "  \"/>\n",
       "<polyline clip-path=\"url(#clip3402)\" style=\"stroke:#000000; stroke-width:2; stroke-opacity:0.1; fill:none\" points=\"\n",
       "  1250.55,1486.45 1250.55,47.2441 \n",
       "  \"/>\n",
       "<polyline clip-path=\"url(#clip3402)\" style=\"stroke:#000000; stroke-width:2; stroke-opacity:0.1; fill:none\" points=\"\n",
       "  1785.31,1486.45 1785.31,47.2441 \n",
       "  \"/>\n",
       "<polyline clip-path=\"url(#clip3402)\" style=\"stroke:#000000; stroke-width:2; stroke-opacity:0.1; fill:none\" points=\"\n",
       "  2320.08,1486.45 2320.08,47.2441 \n",
       "  \"/>\n",
       "<polyline clip-path=\"url(#clip3402)\" style=\"stroke:#000000; stroke-width:2; stroke-opacity:0.1; fill:none\" points=\"\n",
       "  148.334,1445.65 2352.76,1445.65 \n",
       "  \"/>\n",
       "<polyline clip-path=\"url(#clip3402)\" style=\"stroke:#000000; stroke-width:2; stroke-opacity:0.1; fill:none\" points=\"\n",
       "  148.334,1140.37 2352.76,1140.37 \n",
       "  \"/>\n",
       "<polyline clip-path=\"url(#clip3402)\" style=\"stroke:#000000; stroke-width:2; stroke-opacity:0.1; fill:none\" points=\"\n",
       "  148.334,835.09 2352.76,835.09 \n",
       "  \"/>\n",
       "<polyline clip-path=\"url(#clip3402)\" style=\"stroke:#000000; stroke-width:2; stroke-opacity:0.1; fill:none\" points=\"\n",
       "  148.334,529.809 2352.76,529.809 \n",
       "  \"/>\n",
       "<polyline clip-path=\"url(#clip3402)\" style=\"stroke:#000000; stroke-width:2; stroke-opacity:0.1; fill:none\" points=\"\n",
       "  148.334,224.529 2352.76,224.529 \n",
       "  \"/>\n",
       "<polyline clip-path=\"url(#clip3400)\" style=\"stroke:#000000; stroke-width:4; stroke-opacity:1; fill:none\" points=\"\n",
       "  148.334,1486.45 2352.76,1486.45 \n",
       "  \"/>\n",
       "<polyline clip-path=\"url(#clip3400)\" style=\"stroke:#000000; stroke-width:4; stroke-opacity:1; fill:none\" points=\"\n",
       "  148.334,1486.45 148.334,47.2441 \n",
       "  \"/>\n",
       "<polyline clip-path=\"url(#clip3400)\" style=\"stroke:#000000; stroke-width:4; stroke-opacity:1; fill:none\" points=\"\n",
       "  181.014,1486.45 181.014,1469.18 \n",
       "  \"/>\n",
       "<polyline clip-path=\"url(#clip3400)\" style=\"stroke:#000000; stroke-width:4; stroke-opacity:1; fill:none\" points=\"\n",
       "  715.78,1486.45 715.78,1469.18 \n",
       "  \"/>\n",
       "<polyline clip-path=\"url(#clip3400)\" style=\"stroke:#000000; stroke-width:4; stroke-opacity:1; fill:none\" points=\"\n",
       "  1250.55,1486.45 1250.55,1469.18 \n",
       "  \"/>\n",
       "<polyline clip-path=\"url(#clip3400)\" style=\"stroke:#000000; stroke-width:4; stroke-opacity:1; fill:none\" points=\"\n",
       "  1785.31,1486.45 1785.31,1469.18 \n",
       "  \"/>\n",
       "<polyline clip-path=\"url(#clip3400)\" style=\"stroke:#000000; stroke-width:4; stroke-opacity:1; fill:none\" points=\"\n",
       "  2320.08,1486.45 2320.08,1469.18 \n",
       "  \"/>\n",
       "<polyline clip-path=\"url(#clip3400)\" style=\"stroke:#000000; stroke-width:4; stroke-opacity:1; fill:none\" points=\"\n",
       "  148.334,1445.65 174.787,1445.65 \n",
       "  \"/>\n",
       "<polyline clip-path=\"url(#clip3400)\" style=\"stroke:#000000; stroke-width:4; stroke-opacity:1; fill:none\" points=\"\n",
       "  148.334,1140.37 174.787,1140.37 \n",
       "  \"/>\n",
       "<polyline clip-path=\"url(#clip3400)\" style=\"stroke:#000000; stroke-width:4; stroke-opacity:1; fill:none\" points=\"\n",
       "  148.334,835.09 174.787,835.09 \n",
       "  \"/>\n",
       "<polyline clip-path=\"url(#clip3400)\" style=\"stroke:#000000; stroke-width:4; stroke-opacity:1; fill:none\" points=\"\n",
       "  148.334,529.809 174.787,529.809 \n",
       "  \"/>\n",
       "<polyline clip-path=\"url(#clip3400)\" style=\"stroke:#000000; stroke-width:4; stroke-opacity:1; fill:none\" points=\"\n",
       "  148.334,224.529 174.787,224.529 \n",
       "  \"/>\n",
       "<path clip-path=\"url(#clip3400)\" d=\"M 0 0 M148.376 1525.04 L160.853 1525.04 L160.853 1528.83 L148.376 1528.83 L148.376 1525.04 Z\" fill=\"#000000\" fill-rule=\"evenodd\" fill-opacity=\"1\" /><path clip-path=\"url(#clip3400)\" d=\"M 0 0 M166.732 1535.98 L174.371 1535.98 L174.371 1509.62 L166.061 1511.29 L166.061 1507.03 L174.325 1505.36 L179.001 1505.36 L179.001 1535.98 L186.639 1535.98 L186.639 1539.92 L166.732 1539.92 L166.732 1535.98 Z\" fill=\"#000000\" fill-rule=\"evenodd\" fill-opacity=\"1\" /><path clip-path=\"url(#clip3400)\" d=\"M 0 0 M201.709 1508.44 Q198.098 1508.44 196.269 1512 Q194.463 1515.55 194.463 1522.67 Q194.463 1529.78 196.269 1533.35 Q198.098 1536.89 201.709 1536.89 Q205.343 1536.89 207.149 1533.35 Q208.977 1529.78 208.977 1522.67 Q208.977 1515.55 207.149 1512 Q205.343 1508.44 201.709 1508.44 M201.709 1504.73 Q207.519 1504.73 210.575 1509.34 Q213.653 1513.92 213.653 1522.67 Q213.653 1531.4 210.575 1536.01 Q207.519 1540.59 201.709 1540.59 Q195.899 1540.59 192.82 1536.01 Q189.764 1531.4 189.764 1522.67 Q189.764 1513.92 192.82 1509.34 Q195.899 1504.73 201.709 1504.73 Z\" fill=\"#000000\" fill-rule=\"evenodd\" fill-opacity=\"1\" /><path clip-path=\"url(#clip3400)\" d=\"M 0 0 M696.532 1525.04 L709.009 1525.04 L709.009 1528.83 L696.532 1528.83 L696.532 1525.04 Z\" fill=\"#000000\" fill-rule=\"evenodd\" fill-opacity=\"1\" /><path clip-path=\"url(#clip3400)\" d=\"M 0 0 M714.125 1505.36 L732.481 1505.36 L732.481 1509.3 L718.407 1509.3 L718.407 1517.77 Q719.426 1517.42 720.444 1517.26 Q721.463 1517.07 722.481 1517.07 Q728.268 1517.07 731.648 1520.24 Q735.027 1523.42 735.027 1528.83 Q735.027 1534.41 731.555 1537.51 Q728.083 1540.59 721.764 1540.59 Q719.588 1540.59 717.319 1540.22 Q715.074 1539.85 712.666 1539.11 L712.666 1534.41 Q714.75 1535.54 716.972 1536.1 Q719.194 1536.66 721.671 1536.66 Q725.676 1536.66 728.014 1534.55 Q730.352 1532.44 730.352 1528.83 Q730.352 1525.22 728.014 1523.11 Q725.676 1521.01 721.671 1521.01 Q719.796 1521.01 717.921 1521.42 Q716.069 1521.84 714.125 1522.72 L714.125 1505.36 Z\" fill=\"#000000\" fill-rule=\"evenodd\" fill-opacity=\"1\" /><path clip-path=\"url(#clip3400)\" d=\"M 0 0 M1250.55 1508.44 Q1246.93 1508.44 1245.11 1512 Q1243.3 1515.55 1243.3 1522.67 Q1243.3 1529.78 1245.11 1533.35 Q1246.93 1536.89 1250.55 1536.89 Q1254.18 1536.89 1255.98 1533.35 Q1257.81 1529.78 1257.81 1522.67 Q1257.81 1515.55 1255.98 1512 Q1254.18 1508.44 1250.55 1508.44 M1250.55 1504.73 Q1256.36 1504.73 1259.41 1509.34 Q1262.49 1513.92 1262.49 1522.67 Q1262.49 1531.4 1259.41 1536.01 Q1256.36 1540.59 1250.55 1540.59 Q1244.73 1540.59 1241.66 1536.01 Q1238.6 1531.4 1238.6 1522.67 Q1238.6 1513.92 1241.66 1509.34 Q1244.73 1504.73 1250.55 1504.73 Z\" fill=\"#000000\" fill-rule=\"evenodd\" fill-opacity=\"1\" /><path clip-path=\"url(#clip3400)\" d=\"M 0 0 M1775.59 1505.36 L1793.94 1505.36 L1793.94 1509.3 L1779.87 1509.3 L1779.87 1517.77 Q1780.89 1517.42 1781.91 1517.26 Q1782.93 1517.07 1783.94 1517.07 Q1789.73 1517.07 1793.11 1520.24 Q1796.49 1523.42 1796.49 1528.83 Q1796.49 1534.41 1793.02 1537.51 Q1789.55 1540.59 1783.23 1540.59 Q1781.05 1540.59 1778.78 1540.22 Q1776.54 1539.85 1774.13 1539.11 L1774.13 1534.41 Q1776.21 1535.54 1778.44 1536.1 Q1780.66 1536.66 1783.13 1536.66 Q1787.14 1536.66 1789.48 1534.55 Q1791.82 1532.44 1791.82 1528.83 Q1791.82 1525.22 1789.48 1523.11 Q1787.14 1521.01 1783.13 1521.01 Q1781.26 1521.01 1779.38 1521.42 Q1777.53 1521.84 1775.59 1522.72 L1775.59 1505.36 Z\" fill=\"#000000\" fill-rule=\"evenodd\" fill-opacity=\"1\" /><path clip-path=\"url(#clip3400)\" d=\"M 0 0 M2296.95 1535.98 L2304.59 1535.98 L2304.59 1509.62 L2296.28 1511.29 L2296.28 1507.03 L2304.54 1505.36 L2309.22 1505.36 L2309.22 1535.98 L2316.86 1535.98 L2316.86 1539.92 L2296.95 1539.92 L2296.95 1535.98 Z\" fill=\"#000000\" fill-rule=\"evenodd\" fill-opacity=\"1\" /><path clip-path=\"url(#clip3400)\" d=\"M 0 0 M2331.93 1508.44 Q2328.32 1508.44 2326.49 1512 Q2324.68 1515.55 2324.68 1522.67 Q2324.68 1529.78 2326.49 1533.35 Q2328.32 1536.89 2331.93 1536.89 Q2335.56 1536.89 2337.37 1533.35 Q2339.2 1529.78 2339.2 1522.67 Q2339.2 1515.55 2337.37 1512 Q2335.56 1508.44 2331.93 1508.44 M2331.93 1504.73 Q2337.74 1504.73 2340.79 1509.34 Q2343.87 1513.92 2343.87 1522.67 Q2343.87 1531.4 2340.79 1536.01 Q2337.74 1540.59 2331.93 1540.59 Q2326.12 1540.59 2323.04 1536.01 Q2319.98 1531.4 2319.98 1522.67 Q2319.98 1513.92 2323.04 1509.34 Q2326.12 1504.73 2331.93 1504.73 Z\" fill=\"#000000\" fill-rule=\"evenodd\" fill-opacity=\"1\" /><path clip-path=\"url(#clip3400)\" d=\"M 0 0 M75.4226 1431.45 Q71.8115 1431.45 69.9828 1435.01 Q68.1773 1438.56 68.1773 1445.69 Q68.1773 1452.79 69.9828 1456.36 Q71.8115 1459.9 75.4226 1459.9 Q79.0569 1459.9 80.8624 1456.36 Q82.6911 1452.79 82.6911 1445.69 Q82.6911 1438.56 80.8624 1435.01 Q79.0569 1431.45 75.4226 1431.45 M75.4226 1427.75 Q81.2328 1427.75 84.2883 1432.35 Q87.367 1436.94 87.367 1445.69 Q87.367 1454.41 84.2883 1459.02 Q81.2328 1463.6 75.4226 1463.6 Q69.6125 1463.6 66.5338 1459.02 Q63.4782 1454.41 63.4782 1445.69 Q63.4782 1436.94 66.5338 1432.35 Q69.6125 1427.75 75.4226 1427.75 Z\" fill=\"#000000\" fill-rule=\"evenodd\" fill-opacity=\"1\" /><path clip-path=\"url(#clip3400)\" d=\"M 0 0 M92.4364 1457.05 L97.3206 1457.05 L97.3206 1462.93 L92.4364 1462.93 L92.4364 1457.05 Z\" fill=\"#000000\" fill-rule=\"evenodd\" fill-opacity=\"1\" /><path clip-path=\"url(#clip3400)\" d=\"M 0 0 M112.39 1431.45 Q108.779 1431.45 106.95 1435.01 Q105.145 1438.56 105.145 1445.69 Q105.145 1452.79 106.95 1456.36 Q108.779 1459.9 112.39 1459.9 Q116.024 1459.9 117.83 1456.36 Q119.658 1452.79 119.658 1445.69 Q119.658 1438.56 117.83 1435.01 Q116.024 1431.45 112.39 1431.45 M112.39 1427.75 Q118.2 1427.75 121.256 1432.35 Q124.334 1436.94 124.334 1445.69 Q124.334 1454.41 121.256 1459.02 Q118.2 1463.6 112.39 1463.6 Q106.58 1463.6 103.501 1459.02 Q100.446 1454.41 100.446 1445.69 Q100.446 1436.94 103.501 1432.35 Q106.58 1427.75 112.39 1427.75 Z\" fill=\"#000000\" fill-rule=\"evenodd\" fill-opacity=\"1\" /><path clip-path=\"url(#clip3400)\" d=\"M 0 0 M76.6495 1126.17 Q73.0384 1126.17 71.2097 1129.73 Q69.4041 1133.28 69.4041 1140.41 Q69.4041 1147.51 71.2097 1151.08 Q73.0384 1154.62 76.6495 1154.62 Q80.2837 1154.62 82.0892 1151.08 Q83.9179 1147.51 83.9179 1140.41 Q83.9179 1133.28 82.0892 1129.73 Q80.2837 1126.17 76.6495 1126.17 M76.6495 1122.47 Q82.4596 1122.47 85.5152 1127.07 Q88.5938 1131.66 88.5938 1140.41 Q88.5938 1149.13 85.5152 1153.74 Q82.4596 1158.32 76.6495 1158.32 Q70.8393 1158.32 67.7606 1153.74 Q64.7051 1149.13 64.7051 1140.41 Q64.7051 1131.66 67.7606 1127.07 Q70.8393 1122.47 76.6495 1122.47 Z\" fill=\"#000000\" fill-rule=\"evenodd\" fill-opacity=\"1\" /><path clip-path=\"url(#clip3400)\" d=\"M 0 0 M93.6633 1151.77 L98.5475 1151.77 L98.5475 1157.65 L93.6633 1157.65 L93.6633 1151.77 Z\" fill=\"#000000\" fill-rule=\"evenodd\" fill-opacity=\"1\" /><path clip-path=\"url(#clip3400)\" d=\"M 0 0 M104.427 1153.72 L112.066 1153.72 L112.066 1127.35 L103.756 1129.02 L103.756 1124.76 L112.02 1123.09 L116.696 1123.09 L116.696 1153.72 L124.334 1153.72 L124.334 1157.65 L104.427 1157.65 L104.427 1153.72 Z\" fill=\"#000000\" fill-rule=\"evenodd\" fill-opacity=\"1\" /><path clip-path=\"url(#clip3400)\" d=\"M 0 0 M77.0198 820.889 Q73.4087 820.889 71.58 824.453 Q69.7745 827.995 69.7745 835.125 Q69.7745 842.231 71.58 845.796 Q73.4087 849.337 77.0198 849.337 Q80.6541 849.337 82.4596 845.796 Q84.2883 842.231 84.2883 835.125 Q84.2883 827.995 82.4596 824.453 Q80.6541 820.889 77.0198 820.889 M77.0198 817.185 Q82.83 817.185 85.8855 821.791 Q88.9642 826.375 88.9642 835.125 Q88.9642 843.851 85.8855 848.458 Q82.83 853.041 77.0198 853.041 Q71.2097 853.041 68.131 848.458 Q65.0754 843.851 65.0754 835.125 Q65.0754 826.375 68.131 821.791 Q71.2097 817.185 77.0198 817.185 Z\" fill=\"#000000\" fill-rule=\"evenodd\" fill-opacity=\"1\" /><path clip-path=\"url(#clip3400)\" d=\"M 0 0 M94.0336 846.49 L98.9179 846.49 L98.9179 852.37 L94.0336 852.37 L94.0336 846.49 Z\" fill=\"#000000\" fill-rule=\"evenodd\" fill-opacity=\"1\" /><path clip-path=\"url(#clip3400)\" d=\"M 0 0 M108.015 848.435 L124.334 848.435 L124.334 852.37 L102.39 852.37 L102.39 848.435 Q105.052 845.68 109.635 841.05 Q114.242 836.398 115.422 835.055 Q117.668 832.532 118.547 830.796 Q119.45 829.037 119.45 827.347 Q119.45 824.592 117.506 822.856 Q115.584 821.12 112.483 821.12 Q110.284 821.12 107.83 821.884 Q105.399 822.648 102.622 824.199 L102.622 819.476 Q105.446 818.342 107.899 817.764 Q110.353 817.185 112.39 817.185 Q117.76 817.185 120.955 819.87 Q124.149 822.555 124.149 827.046 Q124.149 829.176 123.339 831.097 Q122.552 832.995 120.446 835.588 Q119.867 836.259 116.765 839.476 Q113.663 842.671 108.015 848.435 Z\" fill=\"#000000\" fill-rule=\"evenodd\" fill-opacity=\"1\" /><path clip-path=\"url(#clip3400)\" d=\"M 0 0 M76.0708 515.608 Q72.4597 515.608 70.631 519.173 Q68.8254 522.714 68.8254 529.844 Q68.8254 536.95 70.631 540.515 Q72.4597 544.057 76.0708 544.057 Q79.705 544.057 81.5105 540.515 Q83.3392 536.95 83.3392 529.844 Q83.3392 522.714 81.5105 519.173 Q79.705 515.608 76.0708 515.608 M76.0708 511.904 Q81.8809 511.904 84.9365 516.511 Q88.0151 521.094 88.0151 529.844 Q88.0151 538.571 84.9365 543.177 Q81.8809 547.761 76.0708 547.761 Q70.2606 547.761 67.1819 543.177 Q64.1264 538.571 64.1264 529.844 Q64.1264 521.094 67.1819 516.511 Q70.2606 511.904 76.0708 511.904 Z\" fill=\"#000000\" fill-rule=\"evenodd\" fill-opacity=\"1\" /><path clip-path=\"url(#clip3400)\" d=\"M 0 0 M93.0846 541.21 L97.9688 541.21 L97.9688 547.089 L93.0846 547.089 L93.0846 541.21 Z\" fill=\"#000000\" fill-rule=\"evenodd\" fill-opacity=\"1\" /><path clip-path=\"url(#clip3400)\" d=\"M 0 0 M117.205 528.455 Q120.561 529.173 122.436 531.441 Q124.334 533.71 124.334 537.043 Q124.334 542.159 120.816 544.96 Q117.297 547.761 110.816 547.761 Q108.64 547.761 106.325 547.321 Q104.034 546.904 101.58 546.048 L101.58 541.534 Q103.524 542.668 105.839 543.247 Q108.154 543.825 110.677 543.825 Q115.075 543.825 117.367 542.089 Q119.682 540.353 119.682 537.043 Q119.682 533.987 117.529 532.275 Q115.399 530.538 111.58 530.538 L107.552 530.538 L107.552 526.696 L111.765 526.696 Q115.214 526.696 117.043 525.33 Q118.871 523.941 118.871 521.349 Q118.871 518.687 116.973 517.275 Q115.098 515.839 111.58 515.839 Q109.659 515.839 107.459 516.256 Q105.26 516.673 102.622 517.552 L102.622 513.386 Q105.284 512.645 107.598 512.275 Q109.936 511.904 111.996 511.904 Q117.321 511.904 120.422 514.335 Q123.524 516.742 123.524 520.863 Q123.524 523.733 121.881 525.724 Q120.237 527.691 117.205 528.455 Z\" fill=\"#000000\" fill-rule=\"evenodd\" fill-opacity=\"1\" /><path clip-path=\"url(#clip3400)\" d=\"M 0 0 M74.9365 210.327 Q71.3254 210.327 69.4967 213.892 Q67.6912 217.434 67.6912 224.563 Q67.6912 231.67 69.4967 235.235 Q71.3254 238.776 74.9365 238.776 Q78.5707 238.776 80.3763 235.235 Q82.205 231.67 82.205 224.563 Q82.205 217.434 80.3763 213.892 Q78.5707 210.327 74.9365 210.327 M74.9365 206.624 Q80.7467 206.624 83.8022 211.23 Q86.8809 215.813 86.8809 224.563 Q86.8809 233.29 83.8022 237.897 Q80.7467 242.48 74.9365 242.48 Q69.1264 242.48 66.0477 237.897 Q62.9921 233.29 62.9921 224.563 Q62.9921 215.813 66.0477 211.23 Q69.1264 206.624 74.9365 206.624 Z\" fill=\"#000000\" fill-rule=\"evenodd\" fill-opacity=\"1\" /><path clip-path=\"url(#clip3400)\" d=\"M 0 0 M91.9503 235.929 L96.8345 235.929 L96.8345 241.809 L91.9503 241.809 L91.9503 235.929 Z\" fill=\"#000000\" fill-rule=\"evenodd\" fill-opacity=\"1\" /><path clip-path=\"url(#clip3400)\" d=\"M 0 0 M114.751 211.323 L102.946 229.772 L114.751 229.772 L114.751 211.323 M113.524 207.249 L119.404 207.249 L119.404 229.772 L124.334 229.772 L124.334 233.661 L119.404 233.661 L119.404 241.809 L114.751 241.809 L114.751 233.661 L99.1493 233.661 L99.1493 229.147 L113.524 207.249 Z\" fill=\"#000000\" fill-rule=\"evenodd\" fill-opacity=\"1\" /><polyline clip-path=\"url(#clip3402)\" style=\"stroke:#009af9; stroke-width:4; stroke-opacity:1; fill:none\" points=\"\n",
       "  210.724,1445.65 270.142,1445.65 329.56,1445.65 388.979,1445.65 448.397,1445.65 507.816,1445.65 567.234,1445.65 626.652,1445.65 686.071,1445.65 745.489,1445.65 \n",
       "  804.907,1445.62 864.326,1445.47 923.744,1444.74 983.162,1441.87 1042.58,1432.2 1102,1404.53 1161.42,1337.3 1220.84,1199.52 1280.25,970.145 1339.67,663.796 \n",
       "  1399.09,334.374 1458.51,89.7549 1517.93,112.351 1577.35,489.271 1636.76,974.68 1696.18,1283.79 1755.6,1403.66 1815.02,1436.73 1874.44,1444.05 1933.86,1445.41 \n",
       "  1993.27,1445.62 2052.69,1445.65 2112.11,1445.65 2171.53,1445.65 2230.95,1445.65 2290.37,1445.65 \n",
       "  \"/>\n",
       "<polyline clip-path=\"url(#clip3402)\" style=\"stroke:#e26f46; stroke-width:4; stroke-opacity:1; fill:none\" points=\"\n",
       "  210.724,1445.66 270.142,1445.65 329.56,1445.65 388.979,1445.67 448.397,1445.65 507.816,1445.65 567.234,1445.65 626.652,1445.64 686.071,1445.61 745.489,1445.65 \n",
       "  804.907,1445.63 864.326,1445.46 923.744,1444.8 983.162,1442 1042.58,1432.54 1102,1405.33 1161.42,1338.41 1220.84,1200.28 1280.25,969.135 1339.67,661.903 \n",
       "  1399.09,332.396 1458.51,89.3121 1517.93,114.266 1577.35,491.27 1636.76,974.923 1696.18,1282.42 1755.6,1402.3 1815.02,1436.22 1874.44,1443.92 1933.86,1445.4 \n",
       "  1993.27,1445.61 2052.69,1445.65 2112.11,1445.64 2171.53,1445.65 2230.95,1445.64 2290.37,1445.65 \n",
       "  \"/>\n",
       "<polyline clip-path=\"url(#clip3402)\" style=\"stroke:#3da44d; stroke-width:4; stroke-opacity:1; fill:none\" points=\"\n",
       "  210.724,1445.67 270.142,1445.65 329.56,1445.64 388.979,1445.68 448.397,1445.65 507.816,1445.65 567.234,1445.65 626.652,1445.64 686.071,1445.57 745.489,1445.65 \n",
       "  804.907,1445.65 864.326,1445.45 923.744,1444.86 983.162,1442.13 1042.58,1432.89 1102,1406.14 1161.42,1339.53 1220.84,1201.04 1280.25,968.121 1339.67,660.004 \n",
       "  1399.09,330.412 1458.51,88.868 1517.93,116.187 1577.35,493.275 1636.76,975.169 1696.18,1281.03 1755.6,1400.94 1815.02,1435.72 1874.44,1443.78 1933.86,1445.39 \n",
       "  1993.27,1445.61 2052.69,1445.66 2112.11,1445.63 2171.53,1445.64 2230.95,1445.62 2290.37,1445.65 \n",
       "  \"/>\n",
       "<polyline clip-path=\"url(#clip3402)\" style=\"stroke:#c271d2; stroke-width:4; stroke-opacity:1; fill:none\" points=\"\n",
       "  210.724,1445.68 270.142,1445.65 329.56,1445.64 388.979,1445.7 448.397,1445.65 507.816,1445.64 567.234,1445.65 626.652,1445.63 686.071,1445.53 745.489,1445.65 \n",
       "  804.907,1445.66 864.326,1445.44 923.744,1444.92 983.162,1442.26 1042.58,1433.25 1102,1406.94 1161.42,1340.65 1220.84,1201.8 1280.25,967.105 1339.67,658.1 \n",
       "  1399.09,328.422 1458.51,88.4227 1517.93,118.113 1577.35,495.285 1636.76,975.415 1696.18,1279.65 1755.6,1399.57 1815.02,1435.21 1874.44,1443.64 1933.86,1445.37 \n",
       "  1993.27,1445.6 2052.69,1445.66 2112.11,1445.62 2171.53,1445.64 2230.95,1445.61 2290.37,1445.65 \n",
       "  \"/>\n",
       "<polyline clip-path=\"url(#clip3402)\" style=\"stroke:#ac8d18; stroke-width:4; stroke-opacity:1; fill:none\" points=\"\n",
       "  210.724,1445.69 270.142,1445.65 329.56,1445.64 388.979,1445.72 448.397,1445.65 507.816,1445.64 567.234,1445.65 626.652,1445.63 686.071,1445.5 745.489,1445.64 \n",
       "  804.907,1445.68 864.326,1445.43 923.744,1444.98 983.162,1442.39 1042.58,1433.6 1102,1407.75 1161.42,1341.78 1220.84,1202.56 1280.25,966.085 1339.67,656.19 \n",
       "  1399.09,326.427 1458.51,87.9763 1517.93,120.044 1577.35,497.3 1636.76,975.664 1696.18,1278.26 1755.6,1398.2 1815.02,1434.7 1874.44,1443.51 1933.86,1445.36 \n",
       "  1993.27,1445.59 2052.69,1445.67 2112.11,1445.61 2171.53,1445.64 2230.95,1445.59 2290.37,1445.65 \n",
       "  \"/>\n",
       "<path clip-path=\"url(#clip3400)\" d=\"\n",
       "M1983.79 493.644 L2280.76 493.644 L2280.76 130.764 L1983.79 130.764  Z\n",
       "  \" fill=\"#ffffff\" fill-rule=\"evenodd\" fill-opacity=\"1\"/>\n",
       "<polyline clip-path=\"url(#clip3400)\" style=\"stroke:#000000; stroke-width:4; stroke-opacity:1; fill:none\" points=\"\n",
       "  1983.79,493.644 2280.76,493.644 2280.76,130.764 1983.79,130.764 1983.79,493.644 \n",
       "  \"/>\n",
       "<polyline clip-path=\"url(#clip3400)\" style=\"stroke:#009af9; stroke-width:4; stroke-opacity:1; fill:none\" points=\"\n",
       "  2007.79,191.244 2151.79,191.244 \n",
       "  \"/>\n",
       "<path clip-path=\"url(#clip3400)\" d=\"M 0 0 M2175.79 173.964 L2182.08 173.964 L2197.41 202.876 L2197.41 173.964 L2201.95 173.964 L2201.95 208.524 L2195.65 208.524 L2180.33 179.612 L2180.33 208.524 L2175.79 208.524 L2175.79 173.964 Z\" fill=\"#000000\" fill-rule=\"evenodd\" fill-opacity=\"1\" /><path clip-path=\"url(#clip3400)\" d=\"M 0 0 M2206.6 173.964 L2212.89 173.964 L2228.22 202.876 L2228.22 173.964 L2232.76 173.964 L2232.76 208.524 L2226.46 208.524 L2211.14 179.612 L2211.14 208.524 L2206.6 208.524 L2206.6 173.964 Z\" fill=\"#000000\" fill-rule=\"evenodd\" fill-opacity=\"1\" /><polyline clip-path=\"url(#clip3400)\" style=\"stroke:#e26f46; stroke-width:4; stroke-opacity:1; fill:none\" points=\"\n",
       "  2007.79,251.724 2151.79,251.724 \n",
       "  \"/>\n",
       "<path clip-path=\"url(#clip3400)\" d=\"M 0 0 M2175.79 234.444 L2182.08 234.444 L2197.41 263.356 L2197.41 234.444 L2201.95 234.444 L2201.95 269.004 L2195.65 269.004 L2180.33 240.092 L2180.33 269.004 L2175.79 269.004 L2175.79 234.444 Z\" fill=\"#000000\" fill-rule=\"evenodd\" fill-opacity=\"1\" /><path clip-path=\"url(#clip3400)\" d=\"M 0 0 M2206.6 234.444 L2212.89 234.444 L2228.22 263.356 L2228.22 234.444 L2232.76 234.444 L2232.76 269.004 L2226.46 269.004 L2211.14 240.092 L2211.14 269.004 L2206.6 269.004 L2206.6 234.444 Z\" fill=\"#000000\" fill-rule=\"evenodd\" fill-opacity=\"1\" /><polyline clip-path=\"url(#clip3400)\" style=\"stroke:#3da44d; stroke-width:4; stroke-opacity:1; fill:none\" points=\"\n",
       "  2007.79,312.204 2151.79,312.204 \n",
       "  \"/>\n",
       "<path clip-path=\"url(#clip3400)\" d=\"M 0 0 M2175.79 294.924 L2182.08 294.924 L2197.41 323.836 L2197.41 294.924 L2201.95 294.924 L2201.95 329.484 L2195.65 329.484 L2180.33 300.572 L2180.33 329.484 L2175.79 329.484 L2175.79 294.924 Z\" fill=\"#000000\" fill-rule=\"evenodd\" fill-opacity=\"1\" /><path clip-path=\"url(#clip3400)\" d=\"M 0 0 M2206.6 294.924 L2212.89 294.924 L2228.22 323.836 L2228.22 294.924 L2232.76 294.924 L2232.76 329.484 L2226.46 329.484 L2211.14 300.572 L2211.14 329.484 L2206.6 329.484 L2206.6 294.924 Z\" fill=\"#000000\" fill-rule=\"evenodd\" fill-opacity=\"1\" /><polyline clip-path=\"url(#clip3400)\" style=\"stroke:#c271d2; stroke-width:4; stroke-opacity:1; fill:none\" points=\"\n",
       "  2007.79,372.684 2151.79,372.684 \n",
       "  \"/>\n",
       "<path clip-path=\"url(#clip3400)\" d=\"M 0 0 M2175.79 355.404 L2182.08 355.404 L2197.41 384.316 L2197.41 355.404 L2201.95 355.404 L2201.95 389.964 L2195.65 389.964 L2180.33 361.052 L2180.33 389.964 L2175.79 389.964 L2175.79 355.404 Z\" fill=\"#000000\" fill-rule=\"evenodd\" fill-opacity=\"1\" /><path clip-path=\"url(#clip3400)\" d=\"M 0 0 M2206.6 355.404 L2212.89 355.404 L2228.22 384.316 L2228.22 355.404 L2232.76 355.404 L2232.76 389.964 L2226.46 389.964 L2211.14 361.052 L2211.14 389.964 L2206.6 389.964 L2206.6 355.404 Z\" fill=\"#000000\" fill-rule=\"evenodd\" fill-opacity=\"1\" /><polyline clip-path=\"url(#clip3400)\" style=\"stroke:#ac8d18; stroke-width:4; stroke-opacity:1; fill:none\" points=\"\n",
       "  2007.79,433.164 2151.79,433.164 \n",
       "  \"/>\n",
       "<path clip-path=\"url(#clip3400)\" d=\"M 0 0 M2175.79 415.884 L2182.08 415.884 L2197.41 444.796 L2197.41 415.884 L2201.95 415.884 L2201.95 450.444 L2195.65 450.444 L2180.33 421.532 L2180.33 450.444 L2175.79 450.444 L2175.79 415.884 Z\" fill=\"#000000\" fill-rule=\"evenodd\" fill-opacity=\"1\" /><path clip-path=\"url(#clip3400)\" d=\"M 0 0 M2206.6 415.884 L2212.89 415.884 L2228.22 444.796 L2228.22 415.884 L2232.76 415.884 L2232.76 450.444 L2226.46 450.444 L2211.14 421.532 L2211.14 450.444 L2206.6 450.444 L2206.6 415.884 Z\" fill=\"#000000\" fill-rule=\"evenodd\" fill-opacity=\"1\" /></svg>\n"
      ]
     },
     "execution_count": 26,
     "metadata": {},
     "output_type": "execute_result"
    }
   ],
   "source": [
    "plot(vSpace.u, node(ctr[25].f[1:end], res.minimizer).u, label=\"NN\")"
   ]
  },
  {
   "cell_type": "code",
   "execution_count": 25,
   "metadata": {},
   "outputs": [
    {
     "data": {
      "image/svg+xml": [
       "<?xml version=\"1.0\" encoding=\"utf-8\"?>\n",
       "<svg xmlns=\"http://www.w3.org/2000/svg\" xmlns:xlink=\"http://www.w3.org/1999/xlink\" width=\"600\" height=\"400\" viewBox=\"0 0 2400 1600\">\n",
       "<defs>\n",
       "  <clipPath id=\"clip3000\">\n",
       "    <rect x=\"0\" y=\"0\" width=\"2400\" height=\"1600\"/>\n",
       "  </clipPath>\n",
       "</defs>\n",
       "<path clip-path=\"url(#clip3000)\" d=\"\n",
       "M0 1600 L2400 1600 L2400 0 L0 0  Z\n",
       "  \" fill=\"#ffffff\" fill-rule=\"evenodd\" fill-opacity=\"1\"/>\n",
       "<defs>\n",
       "  <clipPath id=\"clip3001\">\n",
       "    <rect x=\"480\" y=\"0\" width=\"1681\" height=\"1600\"/>\n",
       "  </clipPath>\n",
       "</defs>\n",
       "<path clip-path=\"url(#clip3000)\" d=\"\n",
       "M148.334 1486.45 L2352.76 1486.45 L2352.76 47.2441 L148.334 47.2441  Z\n",
       "  \" fill=\"#ffffff\" fill-rule=\"evenodd\" fill-opacity=\"1\"/>\n",
       "<defs>\n",
       "  <clipPath id=\"clip3002\">\n",
       "    <rect x=\"148\" y=\"47\" width=\"2205\" height=\"1440\"/>\n",
       "  </clipPath>\n",
       "</defs>\n",
       "<polyline clip-path=\"url(#clip3002)\" style=\"stroke:#000000; stroke-width:2; stroke-opacity:0.1; fill:none\" points=\"\n",
       "  181.014,1486.45 181.014,47.2441 \n",
       "  \"/>\n",
       "<polyline clip-path=\"url(#clip3002)\" style=\"stroke:#000000; stroke-width:2; stroke-opacity:0.1; fill:none\" points=\"\n",
       "  715.78,1486.45 715.78,47.2441 \n",
       "  \"/>\n",
       "<polyline clip-path=\"url(#clip3002)\" style=\"stroke:#000000; stroke-width:2; stroke-opacity:0.1; fill:none\" points=\"\n",
       "  1250.55,1486.45 1250.55,47.2441 \n",
       "  \"/>\n",
       "<polyline clip-path=\"url(#clip3002)\" style=\"stroke:#000000; stroke-width:2; stroke-opacity:0.1; fill:none\" points=\"\n",
       "  1785.31,1486.45 1785.31,47.2441 \n",
       "  \"/>\n",
       "<polyline clip-path=\"url(#clip3002)\" style=\"stroke:#000000; stroke-width:2; stroke-opacity:0.1; fill:none\" points=\"\n",
       "  2320.08,1486.45 2320.08,47.2441 \n",
       "  \"/>\n",
       "<polyline clip-path=\"url(#clip3002)\" style=\"stroke:#000000; stroke-width:2; stroke-opacity:0.1; fill:none\" points=\"\n",
       "  148.334,1445.72 2352.76,1445.72 \n",
       "  \"/>\n",
       "<polyline clip-path=\"url(#clip3002)\" style=\"stroke:#000000; stroke-width:2; stroke-opacity:0.1; fill:none\" points=\"\n",
       "  148.334,1140.08 2352.76,1140.08 \n",
       "  \"/>\n",
       "<polyline clip-path=\"url(#clip3002)\" style=\"stroke:#000000; stroke-width:2; stroke-opacity:0.1; fill:none\" points=\"\n",
       "  148.334,834.448 2352.76,834.448 \n",
       "  \"/>\n",
       "<polyline clip-path=\"url(#clip3002)\" style=\"stroke:#000000; stroke-width:2; stroke-opacity:0.1; fill:none\" points=\"\n",
       "  148.334,528.814 2352.76,528.814 \n",
       "  \"/>\n",
       "<polyline clip-path=\"url(#clip3002)\" style=\"stroke:#000000; stroke-width:2; stroke-opacity:0.1; fill:none\" points=\"\n",
       "  148.334,223.18 2352.76,223.18 \n",
       "  \"/>\n",
       "<polyline clip-path=\"url(#clip3000)\" style=\"stroke:#000000; stroke-width:4; stroke-opacity:1; fill:none\" points=\"\n",
       "  148.334,1486.45 2352.76,1486.45 \n",
       "  \"/>\n",
       "<polyline clip-path=\"url(#clip3000)\" style=\"stroke:#000000; stroke-width:4; stroke-opacity:1; fill:none\" points=\"\n",
       "  148.334,1486.45 148.334,47.2441 \n",
       "  \"/>\n",
       "<polyline clip-path=\"url(#clip3000)\" style=\"stroke:#000000; stroke-width:4; stroke-opacity:1; fill:none\" points=\"\n",
       "  181.014,1486.45 181.014,1469.18 \n",
       "  \"/>\n",
       "<polyline clip-path=\"url(#clip3000)\" style=\"stroke:#000000; stroke-width:4; stroke-opacity:1; fill:none\" points=\"\n",
       "  715.78,1486.45 715.78,1469.18 \n",
       "  \"/>\n",
       "<polyline clip-path=\"url(#clip3000)\" style=\"stroke:#000000; stroke-width:4; stroke-opacity:1; fill:none\" points=\"\n",
       "  1250.55,1486.45 1250.55,1469.18 \n",
       "  \"/>\n",
       "<polyline clip-path=\"url(#clip3000)\" style=\"stroke:#000000; stroke-width:4; stroke-opacity:1; fill:none\" points=\"\n",
       "  1785.31,1486.45 1785.31,1469.18 \n",
       "  \"/>\n",
       "<polyline clip-path=\"url(#clip3000)\" style=\"stroke:#000000; stroke-width:4; stroke-opacity:1; fill:none\" points=\"\n",
       "  2320.08,1486.45 2320.08,1469.18 \n",
       "  \"/>\n",
       "<polyline clip-path=\"url(#clip3000)\" style=\"stroke:#000000; stroke-width:4; stroke-opacity:1; fill:none\" points=\"\n",
       "  148.334,1445.72 174.787,1445.72 \n",
       "  \"/>\n",
       "<polyline clip-path=\"url(#clip3000)\" style=\"stroke:#000000; stroke-width:4; stroke-opacity:1; fill:none\" points=\"\n",
       "  148.334,1140.08 174.787,1140.08 \n",
       "  \"/>\n",
       "<polyline clip-path=\"url(#clip3000)\" style=\"stroke:#000000; stroke-width:4; stroke-opacity:1; fill:none\" points=\"\n",
       "  148.334,834.448 174.787,834.448 \n",
       "  \"/>\n",
       "<polyline clip-path=\"url(#clip3000)\" style=\"stroke:#000000; stroke-width:4; stroke-opacity:1; fill:none\" points=\"\n",
       "  148.334,528.814 174.787,528.814 \n",
       "  \"/>\n",
       "<polyline clip-path=\"url(#clip3000)\" style=\"stroke:#000000; stroke-width:4; stroke-opacity:1; fill:none\" points=\"\n",
       "  148.334,223.18 174.787,223.18 \n",
       "  \"/>\n",
       "<path clip-path=\"url(#clip3000)\" d=\"M 0 0 M148.376 1525.04 L160.853 1525.04 L160.853 1528.83 L148.376 1528.83 L148.376 1525.04 Z\" fill=\"#000000\" fill-rule=\"evenodd\" fill-opacity=\"1\" /><path clip-path=\"url(#clip3000)\" d=\"M 0 0 M166.732 1535.98 L174.371 1535.98 L174.371 1509.62 L166.061 1511.29 L166.061 1507.03 L174.325 1505.36 L179.001 1505.36 L179.001 1535.98 L186.639 1535.98 L186.639 1539.92 L166.732 1539.92 L166.732 1535.98 Z\" fill=\"#000000\" fill-rule=\"evenodd\" fill-opacity=\"1\" /><path clip-path=\"url(#clip3000)\" d=\"M 0 0 M201.709 1508.44 Q198.098 1508.44 196.269 1512 Q194.463 1515.55 194.463 1522.67 Q194.463 1529.78 196.269 1533.35 Q198.098 1536.89 201.709 1536.89 Q205.343 1536.89 207.149 1533.35 Q208.977 1529.78 208.977 1522.67 Q208.977 1515.55 207.149 1512 Q205.343 1508.44 201.709 1508.44 M201.709 1504.73 Q207.519 1504.73 210.575 1509.34 Q213.653 1513.92 213.653 1522.67 Q213.653 1531.4 210.575 1536.01 Q207.519 1540.59 201.709 1540.59 Q195.899 1540.59 192.82 1536.01 Q189.764 1531.4 189.764 1522.67 Q189.764 1513.92 192.82 1509.34 Q195.899 1504.73 201.709 1504.73 Z\" fill=\"#000000\" fill-rule=\"evenodd\" fill-opacity=\"1\" /><path clip-path=\"url(#clip3000)\" d=\"M 0 0 M696.532 1525.04 L709.009 1525.04 L709.009 1528.83 L696.532 1528.83 L696.532 1525.04 Z\" fill=\"#000000\" fill-rule=\"evenodd\" fill-opacity=\"1\" /><path clip-path=\"url(#clip3000)\" d=\"M 0 0 M714.125 1505.36 L732.481 1505.36 L732.481 1509.3 L718.407 1509.3 L718.407 1517.77 Q719.426 1517.42 720.444 1517.26 Q721.463 1517.07 722.481 1517.07 Q728.268 1517.07 731.648 1520.24 Q735.027 1523.42 735.027 1528.83 Q735.027 1534.41 731.555 1537.51 Q728.083 1540.59 721.764 1540.59 Q719.588 1540.59 717.319 1540.22 Q715.074 1539.85 712.666 1539.11 L712.666 1534.41 Q714.75 1535.54 716.972 1536.1 Q719.194 1536.66 721.671 1536.66 Q725.676 1536.66 728.014 1534.55 Q730.352 1532.44 730.352 1528.83 Q730.352 1525.22 728.014 1523.11 Q725.676 1521.01 721.671 1521.01 Q719.796 1521.01 717.921 1521.42 Q716.069 1521.84 714.125 1522.72 L714.125 1505.36 Z\" fill=\"#000000\" fill-rule=\"evenodd\" fill-opacity=\"1\" /><path clip-path=\"url(#clip3000)\" d=\"M 0 0 M1250.55 1508.44 Q1246.93 1508.44 1245.11 1512 Q1243.3 1515.55 1243.3 1522.67 Q1243.3 1529.78 1245.11 1533.35 Q1246.93 1536.89 1250.55 1536.89 Q1254.18 1536.89 1255.98 1533.35 Q1257.81 1529.78 1257.81 1522.67 Q1257.81 1515.55 1255.98 1512 Q1254.18 1508.44 1250.55 1508.44 M1250.55 1504.73 Q1256.36 1504.73 1259.41 1509.34 Q1262.49 1513.92 1262.49 1522.67 Q1262.49 1531.4 1259.41 1536.01 Q1256.36 1540.59 1250.55 1540.59 Q1244.73 1540.59 1241.66 1536.01 Q1238.6 1531.4 1238.6 1522.67 Q1238.6 1513.92 1241.66 1509.34 Q1244.73 1504.73 1250.55 1504.73 Z\" fill=\"#000000\" fill-rule=\"evenodd\" fill-opacity=\"1\" /><path clip-path=\"url(#clip3000)\" d=\"M 0 0 M1775.59 1505.36 L1793.94 1505.36 L1793.94 1509.3 L1779.87 1509.3 L1779.87 1517.77 Q1780.89 1517.42 1781.91 1517.26 Q1782.93 1517.07 1783.94 1517.07 Q1789.73 1517.07 1793.11 1520.24 Q1796.49 1523.42 1796.49 1528.83 Q1796.49 1534.41 1793.02 1537.51 Q1789.55 1540.59 1783.23 1540.59 Q1781.05 1540.59 1778.78 1540.22 Q1776.54 1539.85 1774.13 1539.11 L1774.13 1534.41 Q1776.21 1535.54 1778.44 1536.1 Q1780.66 1536.66 1783.13 1536.66 Q1787.14 1536.66 1789.48 1534.55 Q1791.82 1532.44 1791.82 1528.83 Q1791.82 1525.22 1789.48 1523.11 Q1787.14 1521.01 1783.13 1521.01 Q1781.26 1521.01 1779.38 1521.42 Q1777.53 1521.84 1775.59 1522.72 L1775.59 1505.36 Z\" fill=\"#000000\" fill-rule=\"evenodd\" fill-opacity=\"1\" /><path clip-path=\"url(#clip3000)\" d=\"M 0 0 M2296.95 1535.98 L2304.59 1535.98 L2304.59 1509.62 L2296.28 1511.29 L2296.28 1507.03 L2304.54 1505.36 L2309.22 1505.36 L2309.22 1535.98 L2316.86 1535.98 L2316.86 1539.92 L2296.95 1539.92 L2296.95 1535.98 Z\" fill=\"#000000\" fill-rule=\"evenodd\" fill-opacity=\"1\" /><path clip-path=\"url(#clip3000)\" d=\"M 0 0 M2331.93 1508.44 Q2328.32 1508.44 2326.49 1512 Q2324.68 1515.55 2324.68 1522.67 Q2324.68 1529.78 2326.49 1533.35 Q2328.32 1536.89 2331.93 1536.89 Q2335.56 1536.89 2337.37 1533.35 Q2339.2 1529.78 2339.2 1522.67 Q2339.2 1515.55 2337.37 1512 Q2335.56 1508.44 2331.93 1508.44 M2331.93 1504.73 Q2337.74 1504.73 2340.79 1509.34 Q2343.87 1513.92 2343.87 1522.67 Q2343.87 1531.4 2340.79 1536.01 Q2337.74 1540.59 2331.93 1540.59 Q2326.12 1540.59 2323.04 1536.01 Q2319.98 1531.4 2319.98 1522.67 Q2319.98 1513.92 2323.04 1509.34 Q2326.12 1504.73 2331.93 1504.73 Z\" fill=\"#000000\" fill-rule=\"evenodd\" fill-opacity=\"1\" /><path clip-path=\"url(#clip3000)\" d=\"M 0 0 M75.4226 1431.51 Q71.8115 1431.51 69.9828 1435.08 Q68.1773 1438.62 68.1773 1445.75 Q68.1773 1452.86 69.9828 1456.42 Q71.8115 1459.96 75.4226 1459.96 Q79.0569 1459.96 80.8624 1456.42 Q82.6911 1452.86 82.6911 1445.75 Q82.6911 1438.62 80.8624 1435.08 Q79.0569 1431.51 75.4226 1431.51 M75.4226 1427.81 Q81.2328 1427.81 84.2883 1432.42 Q87.367 1437 87.367 1445.75 Q87.367 1454.48 84.2883 1459.08 Q81.2328 1463.67 75.4226 1463.67 Q69.6125 1463.67 66.5338 1459.08 Q63.4782 1454.48 63.4782 1445.75 Q63.4782 1437 66.5338 1432.42 Q69.6125 1427.81 75.4226 1427.81 Z\" fill=\"#000000\" fill-rule=\"evenodd\" fill-opacity=\"1\" /><path clip-path=\"url(#clip3000)\" d=\"M 0 0 M92.4364 1457.12 L97.3206 1457.12 L97.3206 1463 L92.4364 1463 L92.4364 1457.12 Z\" fill=\"#000000\" fill-rule=\"evenodd\" fill-opacity=\"1\" /><path clip-path=\"url(#clip3000)\" d=\"M 0 0 M112.39 1431.51 Q108.779 1431.51 106.95 1435.08 Q105.145 1438.62 105.145 1445.75 Q105.145 1452.86 106.95 1456.42 Q108.779 1459.96 112.39 1459.96 Q116.024 1459.96 117.83 1456.42 Q119.658 1452.86 119.658 1445.75 Q119.658 1438.62 117.83 1435.08 Q116.024 1431.51 112.39 1431.51 M112.39 1427.81 Q118.2 1427.81 121.256 1432.42 Q124.334 1437 124.334 1445.75 Q124.334 1454.48 121.256 1459.08 Q118.2 1463.67 112.39 1463.67 Q106.58 1463.67 103.501 1459.08 Q100.446 1454.48 100.446 1445.75 Q100.446 1437 103.501 1432.42 Q106.58 1427.81 112.39 1427.81 Z\" fill=\"#000000\" fill-rule=\"evenodd\" fill-opacity=\"1\" /><path clip-path=\"url(#clip3000)\" d=\"M 0 0 M76.6495 1125.88 Q73.0384 1125.88 71.2097 1129.45 Q69.4041 1132.99 69.4041 1140.12 Q69.4041 1147.22 71.2097 1150.79 Q73.0384 1154.33 76.6495 1154.33 Q80.2837 1154.33 82.0892 1150.79 Q83.9179 1147.22 83.9179 1140.12 Q83.9179 1132.99 82.0892 1129.45 Q80.2837 1125.88 76.6495 1125.88 M76.6495 1122.18 Q82.4596 1122.18 85.5152 1126.78 Q88.5938 1131.37 88.5938 1140.12 Q88.5938 1148.84 85.5152 1153.45 Q82.4596 1158.03 76.6495 1158.03 Q70.8393 1158.03 67.7606 1153.45 Q64.7051 1148.84 64.7051 1140.12 Q64.7051 1131.37 67.7606 1126.78 Q70.8393 1122.18 76.6495 1122.18 Z\" fill=\"#000000\" fill-rule=\"evenodd\" fill-opacity=\"1\" /><path clip-path=\"url(#clip3000)\" d=\"M 0 0 M93.6633 1151.48 L98.5475 1151.48 L98.5475 1157.36 L93.6633 1157.36 L93.6633 1151.48 Z\" fill=\"#000000\" fill-rule=\"evenodd\" fill-opacity=\"1\" /><path clip-path=\"url(#clip3000)\" d=\"M 0 0 M104.427 1153.43 L112.066 1153.43 L112.066 1127.06 L103.756 1128.73 L103.756 1124.47 L112.02 1122.8 L116.696 1122.8 L116.696 1153.43 L124.334 1153.43 L124.334 1157.36 L104.427 1157.36 L104.427 1153.43 Z\" fill=\"#000000\" fill-rule=\"evenodd\" fill-opacity=\"1\" /><path clip-path=\"url(#clip3000)\" d=\"M 0 0 M77.0198 820.246 Q73.4087 820.246 71.58 823.811 Q69.7745 827.353 69.7745 834.482 Q69.7745 841.589 71.58 845.154 Q73.4087 848.695 77.0198 848.695 Q80.6541 848.695 82.4596 845.154 Q84.2883 841.589 84.2883 834.482 Q84.2883 827.353 82.4596 823.811 Q80.6541 820.246 77.0198 820.246 M77.0198 816.543 Q82.83 816.543 85.8855 821.149 Q88.9642 825.732 88.9642 834.482 Q88.9642 843.209 85.8855 847.816 Q82.83 852.399 77.0198 852.399 Q71.2097 852.399 68.131 847.816 Q65.0754 843.209 65.0754 834.482 Q65.0754 825.732 68.131 821.149 Q71.2097 816.543 77.0198 816.543 Z\" fill=\"#000000\" fill-rule=\"evenodd\" fill-opacity=\"1\" /><path clip-path=\"url(#clip3000)\" d=\"M 0 0 M94.0336 845.848 L98.9179 845.848 L98.9179 851.728 L94.0336 851.728 L94.0336 845.848 Z\" fill=\"#000000\" fill-rule=\"evenodd\" fill-opacity=\"1\" /><path clip-path=\"url(#clip3000)\" d=\"M 0 0 M108.015 847.793 L124.334 847.793 L124.334 851.728 L102.39 851.728 L102.39 847.793 Q105.052 845.038 109.635 840.408 Q114.242 835.756 115.422 834.413 Q117.668 831.89 118.547 830.154 Q119.45 828.394 119.45 826.705 Q119.45 823.95 117.506 822.214 Q115.584 820.478 112.483 820.478 Q110.284 820.478 107.83 821.242 Q105.399 822.006 102.622 823.557 L102.622 818.834 Q105.446 817.7 107.899 817.121 Q110.353 816.543 112.39 816.543 Q117.76 816.543 120.955 819.228 Q124.149 821.913 124.149 826.404 Q124.149 828.533 123.339 830.455 Q122.552 832.353 120.446 834.945 Q119.867 835.617 116.765 838.834 Q113.663 842.029 108.015 847.793 Z\" fill=\"#000000\" fill-rule=\"evenodd\" fill-opacity=\"1\" /><path clip-path=\"url(#clip3000)\" d=\"M 0 0 M76.0708 514.612 Q72.4597 514.612 70.631 518.177 Q68.8254 521.719 68.8254 528.848 Q68.8254 535.955 70.631 539.52 Q72.4597 543.061 76.0708 543.061 Q79.705 543.061 81.5105 539.52 Q83.3392 535.955 83.3392 528.848 Q83.3392 521.719 81.5105 518.177 Q79.705 514.612 76.0708 514.612 M76.0708 510.909 Q81.8809 510.909 84.9365 515.515 Q88.0151 520.098 88.0151 528.848 Q88.0151 537.575 84.9365 542.182 Q81.8809 546.765 76.0708 546.765 Q70.2606 546.765 67.1819 542.182 Q64.1264 537.575 64.1264 528.848 Q64.1264 520.098 67.1819 515.515 Q70.2606 510.909 76.0708 510.909 Z\" fill=\"#000000\" fill-rule=\"evenodd\" fill-opacity=\"1\" /><path clip-path=\"url(#clip3000)\" d=\"M 0 0 M93.0846 540.214 L97.9688 540.214 L97.9688 546.094 L93.0846 546.094 L93.0846 540.214 Z\" fill=\"#000000\" fill-rule=\"evenodd\" fill-opacity=\"1\" /><path clip-path=\"url(#clip3000)\" d=\"M 0 0 M117.205 527.46 Q120.561 528.177 122.436 530.446 Q124.334 532.714 124.334 536.047 Q124.334 541.163 120.816 543.964 Q117.297 546.765 110.816 546.765 Q108.64 546.765 106.325 546.325 Q104.034 545.908 101.58 545.052 L101.58 540.538 Q103.524 541.672 105.839 542.251 Q108.154 542.83 110.677 542.83 Q115.075 542.83 117.367 541.094 Q119.682 539.358 119.682 536.047 Q119.682 532.992 117.529 531.279 Q115.399 529.543 111.58 529.543 L107.552 529.543 L107.552 525.7 L111.765 525.7 Q115.214 525.7 117.043 524.335 Q118.871 522.946 118.871 520.353 Q118.871 517.691 116.973 516.279 Q115.098 514.844 111.58 514.844 Q109.659 514.844 107.459 515.261 Q105.26 515.677 102.622 516.557 L102.622 512.39 Q105.284 511.649 107.598 511.279 Q109.936 510.909 111.996 510.909 Q117.321 510.909 120.422 513.339 Q123.524 515.747 123.524 519.867 Q123.524 522.737 121.881 524.728 Q120.237 526.696 117.205 527.46 Z\" fill=\"#000000\" fill-rule=\"evenodd\" fill-opacity=\"1\" /><path clip-path=\"url(#clip3000)\" d=\"M 0 0 M74.9365 208.978 Q71.3254 208.978 69.4967 212.543 Q67.6912 216.085 67.6912 223.214 Q67.6912 230.321 69.4967 233.886 Q71.3254 237.427 74.9365 237.427 Q78.5707 237.427 80.3763 233.886 Q82.205 230.321 82.205 223.214 Q82.205 216.085 80.3763 212.543 Q78.5707 208.978 74.9365 208.978 M74.9365 205.275 Q80.7467 205.275 83.8022 209.881 Q86.8809 214.464 86.8809 223.214 Q86.8809 231.941 83.8022 236.548 Q80.7467 241.131 74.9365 241.131 Q69.1264 241.131 66.0477 236.548 Q62.9921 231.941 62.9921 223.214 Q62.9921 214.464 66.0477 209.881 Q69.1264 205.275 74.9365 205.275 Z\" fill=\"#000000\" fill-rule=\"evenodd\" fill-opacity=\"1\" /><path clip-path=\"url(#clip3000)\" d=\"M 0 0 M91.9503 234.58 L96.8345 234.58 L96.8345 240.46 L91.9503 240.46 L91.9503 234.58 Z\" fill=\"#000000\" fill-rule=\"evenodd\" fill-opacity=\"1\" /><path clip-path=\"url(#clip3000)\" d=\"M 0 0 M114.751 209.974 L102.946 228.423 L114.751 228.423 L114.751 209.974 M113.524 205.9 L119.404 205.9 L119.404 228.423 L124.334 228.423 L124.334 232.312 L119.404 232.312 L119.404 240.46 L114.751 240.46 L114.751 232.312 L99.1493 232.312 L99.1493 227.798 L113.524 205.9 Z\" fill=\"#000000\" fill-rule=\"evenodd\" fill-opacity=\"1\" /><polyline clip-path=\"url(#clip3002)\" style=\"stroke:#009af9; stroke-width:4; stroke-opacity:1; fill:none\" points=\"\n",
       "  210.724,1445.72 270.142,1445.72 329.56,1445.72 388.979,1445.72 448.397,1445.72 507.816,1445.72 567.234,1445.72 626.652,1445.72 686.071,1445.72 745.489,1445.71 \n",
       "  804.907,1445.68 864.326,1445.53 923.744,1444.8 983.162,1441.93 1042.58,1432.24 1102,1404.55 1161.42,1337.24 1220.84,1199.3 1280.25,969.659 1339.67,662.955 \n",
       "  1399.09,333.152 1458.51,88.2499 1517.93,110.872 1577.35,488.229 1636.76,974.199 1696.18,1283.67 1755.6,1403.68 1815.02,1436.78 1874.44,1444.12 1933.86,1445.48 \n",
       "  1993.27,1445.69 2052.69,1445.71 2112.11,1445.72 2171.53,1445.72 2230.95,1445.72 2290.37,1445.72 \n",
       "  \"/>\n",
       "<polyline clip-path=\"url(#clip3002)\" style=\"stroke:#e26f46; stroke-width:4; stroke-opacity:1; fill:none\" points=\"\n",
       "  210.724,1445.72 270.142,1445.72 329.56,1445.72 388.979,1445.72 448.397,1445.72 507.816,1445.72 567.234,1445.72 626.652,1445.72 686.071,1445.72 745.489,1445.71 \n",
       "  804.907,1445.69 864.326,1445.54 923.744,1444.84 983.162,1442.07 1042.58,1432.65 1102,1405.42 1161.42,1338.51 1220.84,1200.13 1280.25,968.177 1339.67,657.862 \n",
       "  1399.09,327.287 1458.51,88.1761 1517.93,117.914 1577.35,494.343 1636.76,974.504 1696.18,1281.45 1755.6,1402.13 1815.02,1436.21 1874.44,1443.97 1933.86,1445.45 \n",
       "  1993.27,1445.68 2052.69,1445.71 2112.11,1445.72 2171.53,1445.72 2230.95,1445.72 2290.37,1445.72 \n",
       "  \"/>\n",
       "<polyline clip-path=\"url(#clip3002)\" style=\"stroke:#3da44d; stroke-width:4; stroke-opacity:1; fill:none\" points=\"\n",
       "  210.724,1445.72 270.142,1445.72 329.56,1445.72 388.979,1445.72 448.397,1445.72 507.816,1445.72 567.234,1445.72 626.652,1445.72 686.071,1445.72 745.489,1445.71 \n",
       "  804.907,1445.69 864.326,1445.55 923.744,1444.88 983.162,1442.2 1042.58,1433.03 1102,1406.25 1161.42,1339.73 1220.84,1200.92 1280.25,966.769 1339.67,653.026 \n",
       "  1399.09,321.718 1458.51,88.106 1517.93,124.599 1577.35,500.149 1636.76,974.793 1696.18,1279.34 1755.6,1400.67 1815.02,1435.66 1874.44,1443.83 1933.86,1445.42 \n",
       "  1993.27,1445.68 2052.69,1445.71 2112.11,1445.72 2171.53,1445.72 2230.95,1445.72 2290.37,1445.72 \n",
       "  \"/>\n",
       "<polyline clip-path=\"url(#clip3002)\" style=\"stroke:#c271d2; stroke-width:4; stroke-opacity:1; fill:none\" points=\"\n",
       "  210.724,1445.72 270.142,1445.72 329.56,1445.72 388.979,1445.72 448.397,1445.72 507.816,1445.72 567.234,1445.72 626.652,1445.72 686.071,1445.72 745.489,1445.71 \n",
       "  804.907,1445.69 864.326,1445.55 923.744,1444.92 983.162,1442.33 1042.58,1433.4 1102,1407.03 1161.42,1340.88 1220.84,1201.68 1280.25,965.433 1339.67,648.435 \n",
       "  1399.09,316.431 1458.51,88.0395 1517.93,130.947 1577.35,505.661 1636.76,975.068 1696.18,1277.34 1755.6,1399.28 1815.02,1435.14 1874.44,1443.7 1933.86,1445.4 \n",
       "  1993.27,1445.67 2052.69,1445.71 2112.11,1445.72 2171.53,1445.72 2230.95,1445.72 2290.37,1445.72 \n",
       "  \"/>\n",
       "<polyline clip-path=\"url(#clip3002)\" style=\"stroke:#ac8d18; stroke-width:4; stroke-opacity:1; fill:none\" points=\"\n",
       "  210.724,1445.72 270.142,1445.72 329.56,1445.72 388.979,1445.72 448.397,1445.72 507.816,1445.72 567.234,1445.72 626.652,1445.72 686.071,1445.72 745.489,1445.71 \n",
       "  804.907,1445.69 864.326,1445.56 923.744,1444.95 983.162,1442.45 1042.58,1433.74 1102,1407.78 1161.42,1341.97 1220.84,1202.39 1280.25,964.164 1339.67,644.075 \n",
       "  1399.09,311.411 1458.51,87.9763 1517.93,136.975 1577.35,510.895 1636.76,975.329 1696.18,1275.43 1755.6,1397.96 1815.02,1434.65 1874.44,1443.57 1933.86,1445.37 \n",
       "  1993.27,1445.67 2052.69,1445.71 2112.11,1445.72 2171.53,1445.72 2230.95,1445.72 2290.37,1445.72 \n",
       "  \"/>\n",
       "<path clip-path=\"url(#clip3000)\" d=\"\n",
       "M1926.66 493.644 L2280.76 493.644 L2280.76 130.764 L1926.66 130.764  Z\n",
       "  \" fill=\"#ffffff\" fill-rule=\"evenodd\" fill-opacity=\"1\"/>\n",
       "<polyline clip-path=\"url(#clip3000)\" style=\"stroke:#000000; stroke-width:4; stroke-opacity:1; fill:none\" points=\"\n",
       "  1926.66,493.644 2280.76,493.644 2280.76,130.764 1926.66,130.764 1926.66,493.644 \n",
       "  \"/>\n",
       "<polyline clip-path=\"url(#clip3000)\" style=\"stroke:#009af9; stroke-width:4; stroke-opacity:1; fill:none\" points=\"\n",
       "  1950.66,191.244 2094.66,191.244 \n",
       "  \"/>\n",
       "<path clip-path=\"url(#clip3000)\" d=\"M 0 0 M2118.66 173.964 L2140.51 173.964 L2140.51 177.899 L2123.34 177.899 L2123.34 188.131 L2139.79 188.131 L2139.79 192.066 L2123.34 192.066 L2123.34 204.589 L2140.93 204.589 L2140.93 208.524 L2118.66 208.524 L2118.66 173.964 Z\" fill=\"#000000\" fill-rule=\"evenodd\" fill-opacity=\"1\" /><path clip-path=\"url(#clip3000)\" d=\"M 0 0 M2166.95 182.598 L2157.57 195.214 L2167.43 208.524 L2162.41 208.524 L2154.86 198.339 L2147.32 208.524 L2142.29 208.524 L2152.36 194.959 L2143.15 182.598 L2148.17 182.598 L2155.05 191.834 L2161.92 182.598 L2166.95 182.598 Z\" fill=\"#000000\" fill-rule=\"evenodd\" fill-opacity=\"1\" /><path clip-path=\"url(#clip3000)\" d=\"M 0 0 M2183.68 195.492 Q2178.52 195.492 2176.53 196.672 Q2174.54 197.853 2174.54 200.7 Q2174.54 202.969 2176.02 204.311 Q2177.52 205.631 2180.09 205.631 Q2183.64 205.631 2185.77 203.131 Q2187.92 200.607 2187.92 196.441 L2187.92 195.492 L2183.68 195.492 M2192.18 193.733 L2192.18 208.524 L2187.92 208.524 L2187.92 204.589 Q2186.46 206.95 2184.28 208.084 Q2182.11 209.195 2178.96 209.195 Q2174.98 209.195 2172.62 206.973 Q2170.28 204.728 2170.28 200.978 Q2170.28 196.603 2173.2 194.381 Q2176.14 192.158 2181.95 192.158 L2187.92 192.158 L2187.92 191.742 Q2187.92 188.802 2185.97 187.205 Q2184.05 185.584 2180.56 185.584 Q2178.33 185.584 2176.23 186.117 Q2174.12 186.649 2172.18 187.714 L2172.18 183.779 Q2174.52 182.876 2176.71 182.436 Q2178.91 181.973 2181 181.973 Q2186.62 181.973 2189.4 184.89 Q2192.18 187.807 2192.18 193.733 Z\" fill=\"#000000\" fill-rule=\"evenodd\" fill-opacity=\"1\" /><path clip-path=\"url(#clip3000)\" d=\"M 0 0 M2215.3 183.594 L2215.3 187.575 Q2213.5 186.58 2211.67 186.094 Q2209.86 185.584 2208.01 185.584 Q2203.87 185.584 2201.58 188.223 Q2199.28 190.839 2199.28 195.584 Q2199.28 200.33 2201.58 202.969 Q2203.87 205.584 2208.01 205.584 Q2209.86 205.584 2211.67 205.098 Q2213.5 204.589 2215.3 203.594 L2215.3 207.529 Q2213.52 208.362 2211.6 208.779 Q2209.7 209.195 2207.55 209.195 Q2201.69 209.195 2198.24 205.515 Q2194.79 201.834 2194.79 195.584 Q2194.79 189.242 2198.27 185.608 Q2201.76 181.973 2207.83 181.973 Q2209.79 181.973 2211.67 182.39 Q2213.54 182.783 2215.3 183.594 Z\" fill=\"#000000\" fill-rule=\"evenodd\" fill-opacity=\"1\" /><path clip-path=\"url(#clip3000)\" d=\"M 0 0 M2223.98 175.237 L2223.98 182.598 L2232.76 182.598 L2232.76 185.908 L2223.98 185.908 L2223.98 199.982 Q2223.98 203.154 2224.84 204.057 Q2225.72 204.959 2228.38 204.959 L2232.76 204.959 L2232.76 208.524 L2228.38 208.524 Q2223.45 208.524 2221.58 206.695 Q2219.7 204.844 2219.7 199.982 L2219.7 185.908 L2216.58 185.908 L2216.58 182.598 L2219.7 182.598 L2219.7 175.237 L2223.98 175.237 Z\" fill=\"#000000\" fill-rule=\"evenodd\" fill-opacity=\"1\" /><polyline clip-path=\"url(#clip3000)\" style=\"stroke:#e26f46; stroke-width:4; stroke-opacity:1; fill:none\" points=\"\n",
       "  1950.66,251.724 2094.66,251.724 \n",
       "  \"/>\n",
       "<path clip-path=\"url(#clip3000)\" d=\"M 0 0 M2118.66 234.444 L2140.51 234.444 L2140.51 238.379 L2123.34 238.379 L2123.34 248.611 L2139.79 248.611 L2139.79 252.546 L2123.34 252.546 L2123.34 265.069 L2140.93 265.069 L2140.93 269.004 L2118.66 269.004 L2118.66 234.444 Z\" fill=\"#000000\" fill-rule=\"evenodd\" fill-opacity=\"1\" /><path clip-path=\"url(#clip3000)\" d=\"M 0 0 M2166.95 243.078 L2157.57 255.694 L2167.43 269.004 L2162.41 269.004 L2154.86 258.819 L2147.32 269.004 L2142.29 269.004 L2152.36 255.439 L2143.15 243.078 L2148.17 243.078 L2155.05 252.314 L2161.92 243.078 L2166.95 243.078 Z\" fill=\"#000000\" fill-rule=\"evenodd\" fill-opacity=\"1\" /><path clip-path=\"url(#clip3000)\" d=\"M 0 0 M2183.68 255.972 Q2178.52 255.972 2176.53 257.152 Q2174.54 258.333 2174.54 261.18 Q2174.54 263.449 2176.02 264.791 Q2177.52 266.111 2180.09 266.111 Q2183.64 266.111 2185.77 263.611 Q2187.92 261.087 2187.92 256.921 L2187.92 255.972 L2183.68 255.972 M2192.18 254.213 L2192.18 269.004 L2187.92 269.004 L2187.92 265.069 Q2186.46 267.43 2184.28 268.564 Q2182.11 269.675 2178.96 269.675 Q2174.98 269.675 2172.62 267.453 Q2170.28 265.208 2170.28 261.458 Q2170.28 257.083 2173.2 254.861 Q2176.14 252.638 2181.95 252.638 L2187.92 252.638 L2187.92 252.222 Q2187.92 249.282 2185.97 247.685 Q2184.05 246.064 2180.56 246.064 Q2178.33 246.064 2176.23 246.597 Q2174.12 247.129 2172.18 248.194 L2172.18 244.259 Q2174.52 243.356 2176.71 242.916 Q2178.91 242.453 2181 242.453 Q2186.62 242.453 2189.4 245.37 Q2192.18 248.287 2192.18 254.213 Z\" fill=\"#000000\" fill-rule=\"evenodd\" fill-opacity=\"1\" /><path clip-path=\"url(#clip3000)\" d=\"M 0 0 M2215.3 244.074 L2215.3 248.055 Q2213.5 247.06 2211.67 246.574 Q2209.86 246.064 2208.01 246.064 Q2203.87 246.064 2201.58 248.703 Q2199.28 251.319 2199.28 256.064 Q2199.28 260.81 2201.58 263.449 Q2203.87 266.064 2208.01 266.064 Q2209.86 266.064 2211.67 265.578 Q2213.5 265.069 2215.3 264.074 L2215.3 268.009 Q2213.52 268.842 2211.6 269.259 Q2209.7 269.675 2207.55 269.675 Q2201.69 269.675 2198.24 265.995 Q2194.79 262.314 2194.79 256.064 Q2194.79 249.722 2198.27 246.088 Q2201.76 242.453 2207.83 242.453 Q2209.79 242.453 2211.67 242.87 Q2213.54 243.263 2215.3 244.074 Z\" fill=\"#000000\" fill-rule=\"evenodd\" fill-opacity=\"1\" /><path clip-path=\"url(#clip3000)\" d=\"M 0 0 M2223.98 235.717 L2223.98 243.078 L2232.76 243.078 L2232.76 246.388 L2223.98 246.388 L2223.98 260.462 Q2223.98 263.634 2224.84 264.537 Q2225.72 265.439 2228.38 265.439 L2232.76 265.439 L2232.76 269.004 L2228.38 269.004 Q2223.45 269.004 2221.58 267.175 Q2219.7 265.324 2219.7 260.462 L2219.7 246.388 L2216.58 246.388 L2216.58 243.078 L2219.7 243.078 L2219.7 235.717 L2223.98 235.717 Z\" fill=\"#000000\" fill-rule=\"evenodd\" fill-opacity=\"1\" /><polyline clip-path=\"url(#clip3000)\" style=\"stroke:#3da44d; stroke-width:4; stroke-opacity:1; fill:none\" points=\"\n",
       "  1950.66,312.204 2094.66,312.204 \n",
       "  \"/>\n",
       "<path clip-path=\"url(#clip3000)\" d=\"M 0 0 M2118.66 294.924 L2140.51 294.924 L2140.51 298.859 L2123.34 298.859 L2123.34 309.091 L2139.79 309.091 L2139.79 313.026 L2123.34 313.026 L2123.34 325.549 L2140.93 325.549 L2140.93 329.484 L2118.66 329.484 L2118.66 294.924 Z\" fill=\"#000000\" fill-rule=\"evenodd\" fill-opacity=\"1\" /><path clip-path=\"url(#clip3000)\" d=\"M 0 0 M2166.95 303.558 L2157.57 316.174 L2167.43 329.484 L2162.41 329.484 L2154.86 319.299 L2147.32 329.484 L2142.29 329.484 L2152.36 315.919 L2143.15 303.558 L2148.17 303.558 L2155.05 312.794 L2161.92 303.558 L2166.95 303.558 Z\" fill=\"#000000\" fill-rule=\"evenodd\" fill-opacity=\"1\" /><path clip-path=\"url(#clip3000)\" d=\"M 0 0 M2183.68 316.452 Q2178.52 316.452 2176.53 317.632 Q2174.54 318.813 2174.54 321.66 Q2174.54 323.929 2176.02 325.271 Q2177.52 326.591 2180.09 326.591 Q2183.64 326.591 2185.77 324.091 Q2187.92 321.567 2187.92 317.401 L2187.92 316.452 L2183.68 316.452 M2192.18 314.693 L2192.18 329.484 L2187.92 329.484 L2187.92 325.549 Q2186.46 327.91 2184.28 329.044 Q2182.11 330.155 2178.96 330.155 Q2174.98 330.155 2172.62 327.933 Q2170.28 325.688 2170.28 321.938 Q2170.28 317.563 2173.2 315.341 Q2176.14 313.118 2181.95 313.118 L2187.92 313.118 L2187.92 312.702 Q2187.92 309.762 2185.97 308.165 Q2184.05 306.544 2180.56 306.544 Q2178.33 306.544 2176.23 307.077 Q2174.12 307.609 2172.18 308.674 L2172.18 304.739 Q2174.52 303.836 2176.71 303.396 Q2178.91 302.933 2181 302.933 Q2186.62 302.933 2189.4 305.85 Q2192.18 308.767 2192.18 314.693 Z\" fill=\"#000000\" fill-rule=\"evenodd\" fill-opacity=\"1\" /><path clip-path=\"url(#clip3000)\" d=\"M 0 0 M2215.3 304.554 L2215.3 308.535 Q2213.5 307.54 2211.67 307.054 Q2209.86 306.544 2208.01 306.544 Q2203.87 306.544 2201.58 309.183 Q2199.28 311.799 2199.28 316.544 Q2199.28 321.29 2201.58 323.929 Q2203.87 326.544 2208.01 326.544 Q2209.86 326.544 2211.67 326.058 Q2213.5 325.549 2215.3 324.554 L2215.3 328.489 Q2213.52 329.322 2211.6 329.739 Q2209.7 330.155 2207.55 330.155 Q2201.69 330.155 2198.24 326.475 Q2194.79 322.794 2194.79 316.544 Q2194.79 310.202 2198.27 306.568 Q2201.76 302.933 2207.83 302.933 Q2209.79 302.933 2211.67 303.35 Q2213.54 303.743 2215.3 304.554 Z\" fill=\"#000000\" fill-rule=\"evenodd\" fill-opacity=\"1\" /><path clip-path=\"url(#clip3000)\" d=\"M 0 0 M2223.98 296.197 L2223.98 303.558 L2232.76 303.558 L2232.76 306.868 L2223.98 306.868 L2223.98 320.942 Q2223.98 324.114 2224.84 325.017 Q2225.72 325.919 2228.38 325.919 L2232.76 325.919 L2232.76 329.484 L2228.38 329.484 Q2223.45 329.484 2221.58 327.655 Q2219.7 325.804 2219.7 320.942 L2219.7 306.868 L2216.58 306.868 L2216.58 303.558 L2219.7 303.558 L2219.7 296.197 L2223.98 296.197 Z\" fill=\"#000000\" fill-rule=\"evenodd\" fill-opacity=\"1\" /><polyline clip-path=\"url(#clip3000)\" style=\"stroke:#c271d2; stroke-width:4; stroke-opacity:1; fill:none\" points=\"\n",
       "  1950.66,372.684 2094.66,372.684 \n",
       "  \"/>\n",
       "<path clip-path=\"url(#clip3000)\" d=\"M 0 0 M2118.66 355.404 L2140.51 355.404 L2140.51 359.339 L2123.34 359.339 L2123.34 369.571 L2139.79 369.571 L2139.79 373.506 L2123.34 373.506 L2123.34 386.029 L2140.93 386.029 L2140.93 389.964 L2118.66 389.964 L2118.66 355.404 Z\" fill=\"#000000\" fill-rule=\"evenodd\" fill-opacity=\"1\" /><path clip-path=\"url(#clip3000)\" d=\"M 0 0 M2166.95 364.038 L2157.57 376.654 L2167.43 389.964 L2162.41 389.964 L2154.86 379.779 L2147.32 389.964 L2142.29 389.964 L2152.36 376.399 L2143.15 364.038 L2148.17 364.038 L2155.05 373.274 L2161.92 364.038 L2166.95 364.038 Z\" fill=\"#000000\" fill-rule=\"evenodd\" fill-opacity=\"1\" /><path clip-path=\"url(#clip3000)\" d=\"M 0 0 M2183.68 376.932 Q2178.52 376.932 2176.53 378.112 Q2174.54 379.293 2174.54 382.14 Q2174.54 384.409 2176.02 385.751 Q2177.52 387.071 2180.09 387.071 Q2183.64 387.071 2185.77 384.571 Q2187.92 382.047 2187.92 377.881 L2187.92 376.932 L2183.68 376.932 M2192.18 375.173 L2192.18 389.964 L2187.92 389.964 L2187.92 386.029 Q2186.46 388.39 2184.28 389.524 Q2182.11 390.635 2178.96 390.635 Q2174.98 390.635 2172.62 388.413 Q2170.28 386.168 2170.28 382.418 Q2170.28 378.043 2173.2 375.821 Q2176.14 373.598 2181.95 373.598 L2187.92 373.598 L2187.92 373.182 Q2187.92 370.242 2185.97 368.645 Q2184.05 367.024 2180.56 367.024 Q2178.33 367.024 2176.23 367.557 Q2174.12 368.089 2172.18 369.154 L2172.18 365.219 Q2174.52 364.316 2176.71 363.876 Q2178.91 363.413 2181 363.413 Q2186.62 363.413 2189.4 366.33 Q2192.18 369.247 2192.18 375.173 Z\" fill=\"#000000\" fill-rule=\"evenodd\" fill-opacity=\"1\" /><path clip-path=\"url(#clip3000)\" d=\"M 0 0 M2215.3 365.034 L2215.3 369.015 Q2213.5 368.02 2211.67 367.534 Q2209.86 367.024 2208.01 367.024 Q2203.87 367.024 2201.58 369.663 Q2199.28 372.279 2199.28 377.024 Q2199.28 381.77 2201.58 384.409 Q2203.87 387.024 2208.01 387.024 Q2209.86 387.024 2211.67 386.538 Q2213.5 386.029 2215.3 385.034 L2215.3 388.969 Q2213.52 389.802 2211.6 390.219 Q2209.7 390.635 2207.55 390.635 Q2201.69 390.635 2198.24 386.955 Q2194.79 383.274 2194.79 377.024 Q2194.79 370.682 2198.27 367.048 Q2201.76 363.413 2207.83 363.413 Q2209.79 363.413 2211.67 363.83 Q2213.54 364.223 2215.3 365.034 Z\" fill=\"#000000\" fill-rule=\"evenodd\" fill-opacity=\"1\" /><path clip-path=\"url(#clip3000)\" d=\"M 0 0 M2223.98 356.677 L2223.98 364.038 L2232.76 364.038 L2232.76 367.348 L2223.98 367.348 L2223.98 381.422 Q2223.98 384.594 2224.84 385.497 Q2225.72 386.399 2228.38 386.399 L2232.76 386.399 L2232.76 389.964 L2228.38 389.964 Q2223.45 389.964 2221.58 388.135 Q2219.7 386.284 2219.7 381.422 L2219.7 367.348 L2216.58 367.348 L2216.58 364.038 L2219.7 364.038 L2219.7 356.677 L2223.98 356.677 Z\" fill=\"#000000\" fill-rule=\"evenodd\" fill-opacity=\"1\" /><polyline clip-path=\"url(#clip3000)\" style=\"stroke:#ac8d18; stroke-width:4; stroke-opacity:1; fill:none\" points=\"\n",
       "  1950.66,433.164 2094.66,433.164 \n",
       "  \"/>\n",
       "<path clip-path=\"url(#clip3000)\" d=\"M 0 0 M2118.66 415.884 L2140.51 415.884 L2140.51 419.819 L2123.34 419.819 L2123.34 430.051 L2139.79 430.051 L2139.79 433.986 L2123.34 433.986 L2123.34 446.509 L2140.93 446.509 L2140.93 450.444 L2118.66 450.444 L2118.66 415.884 Z\" fill=\"#000000\" fill-rule=\"evenodd\" fill-opacity=\"1\" /><path clip-path=\"url(#clip3000)\" d=\"M 0 0 M2166.95 424.518 L2157.57 437.134 L2167.43 450.444 L2162.41 450.444 L2154.86 440.259 L2147.32 450.444 L2142.29 450.444 L2152.36 436.879 L2143.15 424.518 L2148.17 424.518 L2155.05 433.754 L2161.92 424.518 L2166.95 424.518 Z\" fill=\"#000000\" fill-rule=\"evenodd\" fill-opacity=\"1\" /><path clip-path=\"url(#clip3000)\" d=\"M 0 0 M2183.68 437.412 Q2178.52 437.412 2176.53 438.592 Q2174.54 439.773 2174.54 442.62 Q2174.54 444.889 2176.02 446.231 Q2177.52 447.551 2180.09 447.551 Q2183.64 447.551 2185.77 445.051 Q2187.92 442.527 2187.92 438.361 L2187.92 437.412 L2183.68 437.412 M2192.18 435.653 L2192.18 450.444 L2187.92 450.444 L2187.92 446.509 Q2186.46 448.87 2184.28 450.004 Q2182.11 451.115 2178.96 451.115 Q2174.98 451.115 2172.62 448.893 Q2170.28 446.648 2170.28 442.898 Q2170.28 438.523 2173.2 436.301 Q2176.14 434.078 2181.95 434.078 L2187.92 434.078 L2187.92 433.662 Q2187.92 430.722 2185.97 429.125 Q2184.05 427.504 2180.56 427.504 Q2178.33 427.504 2176.23 428.037 Q2174.12 428.569 2172.18 429.634 L2172.18 425.699 Q2174.52 424.796 2176.71 424.356 Q2178.91 423.893 2181 423.893 Q2186.62 423.893 2189.4 426.81 Q2192.18 429.727 2192.18 435.653 Z\" fill=\"#000000\" fill-rule=\"evenodd\" fill-opacity=\"1\" /><path clip-path=\"url(#clip3000)\" d=\"M 0 0 M2215.3 425.514 L2215.3 429.495 Q2213.5 428.5 2211.67 428.014 Q2209.86 427.504 2208.01 427.504 Q2203.87 427.504 2201.58 430.143 Q2199.28 432.759 2199.28 437.504 Q2199.28 442.25 2201.58 444.889 Q2203.87 447.504 2208.01 447.504 Q2209.86 447.504 2211.67 447.018 Q2213.5 446.509 2215.3 445.514 L2215.3 449.449 Q2213.52 450.282 2211.6 450.699 Q2209.7 451.115 2207.55 451.115 Q2201.69 451.115 2198.24 447.435 Q2194.79 443.754 2194.79 437.504 Q2194.79 431.162 2198.27 427.528 Q2201.76 423.893 2207.83 423.893 Q2209.79 423.893 2211.67 424.31 Q2213.54 424.703 2215.3 425.514 Z\" fill=\"#000000\" fill-rule=\"evenodd\" fill-opacity=\"1\" /><path clip-path=\"url(#clip3000)\" d=\"M 0 0 M2223.98 417.157 L2223.98 424.518 L2232.76 424.518 L2232.76 427.828 L2223.98 427.828 L2223.98 441.902 Q2223.98 445.074 2224.84 445.977 Q2225.72 446.879 2228.38 446.879 L2232.76 446.879 L2232.76 450.444 L2228.38 450.444 Q2223.45 450.444 2221.58 448.615 Q2219.7 446.764 2219.7 441.902 L2219.7 427.828 L2216.58 427.828 L2216.58 424.518 L2219.7 424.518 L2219.7 417.157 L2223.98 417.157 Z\" fill=\"#000000\" fill-rule=\"evenodd\" fill-opacity=\"1\" /></svg>\n"
      ]
     },
     "execution_count": 25,
     "metadata": {},
     "output_type": "execute_result"
    }
   ],
   "source": [
    "plot(vSpace.u, Y[:,25,:], label=\"Exact\")"
   ]
  },
  {
   "cell_type": "code",
   "execution_count": null,
   "metadata": {},
   "outputs": [],
   "source": []
  }
 ],
 "metadata": {
  "kernelspec": {
   "display_name": "Julia 1.3.1",
   "language": "julia",
   "name": "julia-1.3"
  },
  "language_info": {
   "file_extension": ".jl",
   "mimetype": "application/julia",
   "name": "julia",
   "version": "1.3.1"
  }
 },
 "nbformat": 4,
 "nbformat_minor": 4
}
