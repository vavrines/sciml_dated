{
 "cells": [
  {
   "cell_type": "code",
   "execution_count": 6,
   "metadata": {},
   "outputs": [],
   "source": [
    "using LaTeXStrings"
   ]
  },
  {
   "cell_type": "markdown",
   "metadata": {},
   "source": [
    "Governing equation: https://arxiv.org/abs/1910.10503"
   ]
  },
  {
   "cell_type": "code",
   "execution_count": 8,
   "metadata": {},
   "outputs": [
    {
     "data": {
      "text/latex": [
       "$-\\frac{\\partial}{\\partial x}\\left[\\left(a x-\\beta x^{3}\\right) p(x)\\right]+\\frac{\\sigma^{2}}{2} \\frac{\\partial^{2}}{\\partial x^{2}} p(x)=0$"
      ],
      "text/plain": [
       "L\"$-\\frac{\\partial}{\\partial x}\\left[\\left(a x-\\beta x^{3}\\right) p(x)\\right]+\\frac{\\sigma^{2}}{2} \\frac{\\partial^{2}}{\\partial x^{2}} p(x)=0$\""
      ]
     },
     "execution_count": 8,
     "metadata": {},
     "output_type": "execute_result"
    }
   ],
   "source": [
    "L\"-\\frac{\\partial}{\\partial x}\\left[\\left(a x-\\beta x^{3}\\right) p(x)\\right]+\\frac{\\sigma^{2}}{2} \\frac{\\partial^{2}}{\\partial x^{2}} p(x)=0\""
   ]
  },
  {
   "cell_type": "code",
   "execution_count": 14,
   "metadata": {},
   "outputs": [],
   "source": [
    "using NeuralPDE, ModelingToolkit, Flux, DiffEqFlux"
   ]
  },
  {
   "cell_type": "code",
   "execution_count": 9,
   "metadata": {},
   "outputs": [
    {
     "data": {
      "text/plain": [
       "(Base.var\"#62#63\"{Differential,Differential}((D'~x), (D'~x)),)"
      ]
     },
     "execution_count": 9,
     "metadata": {},
     "output_type": "execute_result"
    }
   ],
   "source": [
    "@parameters x\n",
    "@variables p(..)\n",
    "@derivatives Dx'~x\n",
    "@derivatives Dxx''~x"
   ]
  },
  {
   "cell_type": "code",
   "execution_count": 10,
   "metadata": {},
   "outputs": [
    {
     "data": {
      "text/plain": [
       "1-element Array{ModelingToolkit.VarDomainPairing,1}:\n",
       " ModelingToolkit.VarDomainPairing(x, IntervalDomain{Float64}(-2.2, 2.2))"
      ]
     },
     "execution_count": 10,
     "metadata": {},
     "output_type": "execute_result"
    }
   ],
   "source": [
    "# PDE\n",
    "α = 0.3\n",
    "β = 0.5\n",
    "_σ = 0.5\n",
    "\n",
    "# Discretization\n",
    "dx = 0.05\n",
    "\n",
    "# here we use normalization condition: dx*p(x) ~ 1 in order to get a non-zero solution.\n",
    "eq = [(α - 3*β*x^2)*p(x) + (α*x - β*x^3)*Dx(p(x)) ~ (_σ^2/2)*Dxx(p(x)), dx*p(x) ~ 1.]\n",
    "\n",
    "# Initial and boundary conditions\n",
    "bcs = [p(-2.2) ~ 0., p(2.2) ~ 0., p(-2.2) ~ p(2.2)]\n",
    "\n",
    "# Space and time domains\n",
    "domains = [x ∈ IntervalDomain(-2.2, 2.2)]"
   ]
  },
  {
   "cell_type": "code",
   "execution_count": 20,
   "metadata": {},
   "outputs": [
    {
     "data": {
      "text/plain": [
       "(::FastChain{Tuple{FastDense{typeof(σ),DiffEqFlux.var\"#initial_params#115\"{typeof(Flux.glorot_uniform),typeof(Flux.zeros),Int64,Int64}},FastDense{typeof(σ),DiffEqFlux.var\"#initial_params#115\"{typeof(Flux.glorot_uniform),typeof(Flux.zeros),Int64,Int64}},FastDense{typeof(identity),DiffEqFlux.var\"#initial_params#115\"{typeof(Flux.glorot_uniform),typeof(Flux.zeros),Int64,Int64}}}}) (generic function with 1 method)"
      ]
     },
     "execution_count": 20,
     "metadata": {},
     "output_type": "execute_result"
    }
   ],
   "source": [
    "# Neural network\n",
    "chain = FastChain(FastDense(1,12,Flux.σ), FastDense(12,12,Flux.σ), FastDense(12,1))\n",
    "\n",
    "\n",
    "\n",
    "#pde_system = PDESystem(eq,bcs,domains,[x],[p])\n",
    "#prob = NeuralPDE.discretize(pde_system,discretization)\n",
    "\n",
    "#res = GalacticOptim.solve(prob, BFGS(); cb = cb, maxiters=8000)\n",
    "#phi = discretization.phi"
   ]
  },
  {
   "cell_type": "code",
   "execution_count": 26,
   "metadata": {},
   "outputs": [
    {
     "ename": "LoadError",
     "evalue": "type Array has no field layers",
     "output_type": "error",
     "traceback": [
      "type Array has no field layers",
      "",
      "Stacktrace:",
      " [1] getproperty(::Array{Float32,1}, ::Symbol) at ./Base.jl:33",
      " [2] PhysicsInformedNN(::Function, ::Array{Float32,1}, ::Nothing; _phi::Nothing, autodiff::Bool, _derivative::Nothing, strategy::GridTraining, kwargs::Base.Iterators.Pairs{Union{},Union{},Tuple{},NamedTuple{(),Tuple{}}}) at /home/vavrines/.julia/packages/NeuralPDE/2Hp7C/src/pinns_pde_solve.jl:42",
      " [3] PhysicsInformedNN(::Function, ::Array{Float32,1}, ::Nothing) at /home/vavrines/.julia/packages/NeuralPDE/2Hp7C/src/pinns_pde_solve.jl:33 (repeats 2 times)",
      " [4] top-level scope at In[26]:1",
      " [5] include_string(::Function, ::Module, ::String, ::String) at ./loading.jl:1091"
     ]
    }
   ],
   "source": [
    "discretization = NeuralPDE.PhysicsInformedNN(chain, θ)"
   ]
  },
  {
   "cell_type": "code",
   "execution_count": 25,
   "metadata": {},
   "outputs": [
    {
     "data": {
      "text/plain": [
       "193-element Array{Float32,1}:\n",
       "  0.43141082\n",
       " -0.22889192\n",
       " -0.44311827\n",
       "  0.6431023\n",
       " -0.3088338\n",
       " -0.1788468\n",
       " -0.415357\n",
       " -0.52795225\n",
       " -0.48174053\n",
       " -0.101610534\n",
       " -0.47949106\n",
       "  0.115478545\n",
       "  0.0\n",
       "  ⋮\n",
       " -0.21437505\n",
       "  0.47156796\n",
       " -0.34707817\n",
       " -0.42130256\n",
       "  0.09317236\n",
       "  0.3518865\n",
       "  0.13294998\n",
       " -0.5313577\n",
       "  0.6320753\n",
       " -0.5094774\n",
       " -0.03348333\n",
       "  0.0"
      ]
     },
     "execution_count": 25,
     "metadata": {},
     "output_type": "execute_result"
    }
   ],
   "source": [
    "θ = initial_params(chain)"
   ]
  },
  {
   "cell_type": "code",
   "execution_count": 24,
   "metadata": {},
   "outputs": [
    {
     "ename": "LoadError",
     "evalue": "UndefVarError: θ not defined",
     "output_type": "error",
     "traceback": [
      "UndefVarError: θ not defined",
      "",
      "Stacktrace:",
      " [1] top-level scope",
      " [2] include_string(::Function, ::Module, ::String, ::String) at ./loading.jl:1091"
     ]
    }
   ],
   "source": [
    "θ "
   ]
  },
  {
   "cell_type": "code",
   "execution_count": null,
   "metadata": {},
   "outputs": [],
   "source": []
  }
 ],
 "metadata": {
  "kernelspec": {
   "display_name": "Julia 1.5.2",
   "language": "julia",
   "name": "julia-1.5"
  },
  "language_info": {
   "file_extension": ".jl",
   "mimetype": "application/julia",
   "name": "julia",
   "version": "1.5.2"
  }
 },
 "nbformat": 4,
 "nbformat_minor": 4
}
