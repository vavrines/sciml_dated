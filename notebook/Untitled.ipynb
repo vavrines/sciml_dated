{
 "cells": [
  {
   "cell_type": "code",
   "execution_count": 1,
   "metadata": {
    "scrolled": true
   },
   "outputs": [],
   "source": [
    "using Revise\n",
    "using DifferentialEquations\n",
    "using Flux\n",
    "using DiffEqFlux\n",
    "using Optim\n",
    "using Plots\n",
    "using FileIO\n",
    "using JLD2\n",
    "using OffsetArrays\n",
    "\n",
    "include(\"/mnt/d/Coding/Github/Kinetic.jl/src/Kinetic.jl\")\n",
    "using .Kinetic"
   ]
  },
  {
   "cell_type": "code",
   "execution_count": 2,
   "metadata": {},
   "outputs": [
    {
     "data": {
      "text/plain": [
       "bgk! (generic function with 1 method)"
      ]
     },
     "execution_count": 2,
     "metadata": {},
     "output_type": "execute_result"
    }
   ],
   "source": [
    "function bgk!(df, f, p, t)\n",
    "    g, tau = p\n",
    "    df .= (g .- f) ./ tau\n",
    "end"
   ]
  },
  {
   "cell_type": "code",
   "execution_count": 3,
   "metadata": {
    "scrolled": true
   },
   "outputs": [
    {
     "name": "stdout",
     "output_type": "stream",
     "text": [
      "case = shock\n",
      "space = 1d1f1v\n",
      "nSpecies = 1\n",
      "interpOrder = 1\n",
      "limiter = vanleer\n",
      "cfl = 0.95\n",
      "maxTime = 250.0\n",
      "x0 = -25.0\n",
      "x1 = 25.0\n",
      "nx = 50\n",
      "pMeshType = uniform\n",
      "nxg = 0\n",
      "umin = -10.0\n",
      "umax = 10.0\n",
      "nu = 36\n",
      "nug = 0\n",
      "vMeshType = rectangle\n",
      "knudsen = 1.0\n",
      "mach = 3.0\n",
      "prandtl = 1.0\n",
      "inK = 0.0\n",
      "omega = 0.5\n",
      "alphaRef = 1.0\n",
      "omegaRef = 0.5\n",
      "tLen = 3\n",
      "nh = 12\n",
      "\n"
     ]
    }
   ],
   "source": [
    "D = read_dict(\"../code/shock/shock1D.txt\")\n",
    "for key in keys(D)\n",
    "    s = Symbol(key)\n",
    "    @eval $s = $(D[key])\n",
    "end"
   ]
  },
  {
   "cell_type": "code",
   "execution_count": 4,
   "metadata": {},
   "outputs": [],
   "source": [
    "γ = 3.\n",
    "set = Setup(case, space, nSpecies, interpOrder, limiter, cfl, maxTime)\n",
    "pSpace = PSpace1D(x0, x1, nx, pMeshType, nxg)\n",
    "μᵣ = ref_vhs_vis(knudsen, alphaRef, omegaRef)\n",
    "gas = GasProperty(knudsen, mach, prandtl, inK, γ, omega, alphaRef, omegaRef, μᵣ)\n",
    "vSpace = VSpace1D(umin, umax, nu, vMeshType, nug)\n",
    "wL, primL, fL, bcL, wR, primR, fR, bcR = ib_rh(mach, γ, vSpace.u)\n",
    "ib = IB1D1F(wL, primL, fL, bcL, wR, primR, fR, bcR)\n",
    "\n",
    "ks = SolverSet(set, pSpace, vSpace, gas, ib, pwd());"
   ]
  },
  {
   "cell_type": "code",
   "execution_count": 161,
   "metadata": {},
   "outputs": [],
   "source": [
    "ctr = OffsetArray{ControlVolume1D1F}(undef, eachindex(ks.pSpace.x))\n",
    "face = Array{Interface1D1F}(undef, ks.pSpace.nx+1)\n",
    "for i in eachindex(ctr)\n",
    "    if i <= ks.pSpace.nx÷2\n",
    "        ctr[i] = ControlVolume1D1F(ks.pSpace.x[i], ks.pSpace.dx[i], Float32.(ks.ib.wL), Float32.(ks.ib.primL), Float32.(ks.ib.fL))\n",
    "    else\n",
    "        ctr[i] = ControlVolume1D1F(ks.pSpace.x[i], ks.pSpace.dx[i], Float32.(ks.ib.wR), Float32.(ks.ib.primR), Float32.(ks.ib.fR))\n",
    "    end\n",
    "end\n",
    "for i=1:ks.pSpace.nx+1\n",
    "    face[i] = Interface1D1F(ks.ib.fL)\n",
    "end"
   ]
  },
  {
   "cell_type": "code",
   "execution_count": 162,
   "metadata": {},
   "outputs": [
    {
     "data": {
      "text/plain": [
       "0.0f0:0.035737388f0:0.071474776f0"
      ]
     },
     "execution_count": 162,
     "metadata": {},
     "output_type": "execute_result"
    }
   ],
   "source": [
    "sos = sound_speed(ks.ib.primR, γ)\n",
    "vmax = ks.vSpace.u1 + sos\n",
    "tmax = vmax / ks.pSpace.dx[1]\n",
    "dt = Float32(ks.set.cfl / tmax)\n",
    "tSpan = (0.f0, dt)\n",
    "tRan = range(tSpan[1], tSpan[2], length=tLen)"
   ]
  },
  {
   "cell_type": "code",
   "execution_count": 206,
   "metadata": {},
   "outputs": [],
   "source": [
    "residual = Array{Float32}(undef, 3)\n",
    "for iter=1:1000\n",
    "    Kinetic.evolve!(ks, ctr, face, dt)\n",
    "    Kinetic.update!(ks, ctr, face, dt, residual)\n",
    "end"
   ]
  },
  {
   "cell_type": "code",
   "execution_count": 207,
   "metadata": {},
   "outputs": [],
   "source": [
    "data_init = [ Float32.(maxwellian(vSpace.u, ib.primL)) |> Array, Float32.(maxwellian(vSpace.u, ib.primR)) |> Array ]\n",
    "data_para = [ [maxwellian(ks.vSpace.u, ks.ib.primL), vhs_collision_time(ks.ib.primL, ks.gas.μᵣ, ks.gas.ω)],\n",
    "              [maxwellian(ks.vSpace.u, ks.ib.primR), vhs_collision_time(ks.ib.primR, ks.gas.μᵣ, ks.gas.ω)] ];\n",
    "\n",
    "data_init = []\n",
    "data_para = []\n",
    "for i=2:49\n",
    "    push!(data_init, ctr[i].f[1:end])\n",
    "    push!(data_para, [maxwellian(ks.vSpace.u, ctr[i].prim), vhs_collision_time(ctr[i].prim, ks.gas.μᵣ, ks.gas.ω)])\n",
    "end"
   ]
  },
  {
   "cell_type": "code",
   "execution_count": 208,
   "metadata": {},
   "outputs": [],
   "source": [
    "prob = ODEProblem(bgk!, data_init[1], tSpan, data_para[1])\n",
    "data_boltz1 = solve(prob, Tsit5(), saveat=tRan) |> Array;\n",
    "\n",
    "prob = ODEProblem(bgk!, data_init[2], tSpan, data_para[2])\n",
    "data_boltz2 = solve(prob, Tsit5(), saveat=tRan) |> Array;\n",
    "\n",
    "data_boltz = [data_boltz1, data_boltz2];\n",
    "\n",
    "data_boltz = []\n",
    "for i in eachindex(data_init)\n",
    "    prob = ODEProblem(bgk!, data_init[i], tSpan, data_para[i])\n",
    "    push!(data_boltz, solve(prob, Tsit5(), saveat=tRan) |> Array)\n",
    "end"
   ]
  },
  {
   "cell_type": "code",
   "execution_count": 209,
   "metadata": {},
   "outputs": [
    {
     "data": {
      "text/plain": [
       "(::NeuralODE{FastChain{Tuple{var\"#18#19\",FastDense{typeof(tanh),DiffEqFlux.var\"#initial_params#75\"{typeof(Flux.glorot_uniform),typeof(Flux.zeros),Int64,Int64}},FastDense{typeof(tanh),DiffEqFlux.var\"#initial_params#75\"{typeof(Flux.glorot_uniform),typeof(Flux.zeros),Int64,Int64}},FastDense{typeof(identity),DiffEqFlux.var\"#initial_params#75\"{typeof(Flux.glorot_uniform),typeof(Flux.zeros),Int64,Int64}}}},Array{Float32,1},Nothing,Tuple{Float32,Float32},Tsit5,Tuple{},Base.Iterators.Pairs{Symbol,StepRangeLen{Float32,Float64,Float64},Tuple{Symbol},NamedTuple{(:saveat,),Tuple{StepRangeLen{Float32,Float64,Float64}}}}}) (generic function with 4 methods)"
      ]
     },
     "execution_count": 209,
     "metadata": {},
     "output_type": "execute_result"
    }
   ],
   "source": [
    "dudt = FastChain( (x, p) -> x.^3,\n",
    "                   FastDense(vSpace.nu, vSpace.nu*10, tanh),\n",
    "                   FastDense(vSpace.nu*10, vSpace.nu*10, tanh),\n",
    "                   FastDense(vSpace.nu*10, vSpace.nu) )\n",
    "n_ode = NeuralODE(dudt, tSpan, Tsit5(), saveat=tRan)"
   ]
  },
  {
   "cell_type": "code",
   "execution_count": 210,
   "metadata": {},
   "outputs": [
    {
     "data": {
      "text/plain": [
       "loss_n_ode (generic function with 1 method)"
      ]
     },
     "execution_count": 210,
     "metadata": {},
     "output_type": "execute_result"
    }
   ],
   "source": [
    "function loss_n_ode(p)\n",
    "    pred = n_ode(data_init[1], p) |> Array\n",
    "\n",
    "    loss = 0.\n",
    "    for i in eachindex(data_init)\n",
    "        loss += sum(abs2, (n_ode(data_init[i], p) |> Array) .- data_boltz[i])\n",
    "    end\n",
    "    \n",
    "    return loss, pred\n",
    "end"
   ]
  },
  {
   "cell_type": "code",
   "execution_count": 211,
   "metadata": {},
   "outputs": [
    {
     "data": {
      "text/plain": [
       "#20 (generic function with 1 method)"
      ]
     },
     "execution_count": 211,
     "metadata": {},
     "output_type": "execute_result"
    }
   ],
   "source": [
    "cb = function (p, l, pred; doplot=false)\n",
    "    display(l)\n",
    "    # plot current prediction against dataset\n",
    "    if doplot\n",
    "        pl = plot(tRan, data_boltz[1][vSpace.nu÷2,:], lw=2, label=\"Exact\")\n",
    "        scatter!(pl, tRan, pred[vSpace.nu÷2,:], lw=2, label=\"NN\")\n",
    "        display(plot(pl))\n",
    "    end\n",
    "    return false\n",
    "end"
   ]
  },
  {
   "cell_type": "code",
   "execution_count": 212,
   "metadata": {
    "scrolled": true
   },
   "outputs": [
    {
     "data": {
      "text/plain": [
       "0.004129608074435964"
      ]
     },
     "metadata": {},
     "output_type": "display_data"
    },
    {
     "name": "stderr",
     "output_type": "stream",
     "text": [
      "\u001b[32mloss: 0.00413:   0%|▎                                        |  ETA: 0:39:56\u001b[39m"
     ]
    },
    {
     "data": {
      "text/plain": [
       "0.012716742428892758"
      ]
     },
     "metadata": {},
     "output_type": "display_data"
    },
    {
     "name": "stderr",
     "output_type": "stream",
     "text": [
      "\u001b[32mloss: 0.0127:   1%|▍                                        |  ETA: 0:27:48\u001b[39m"
     ]
    },
    {
     "data": {
      "text/plain": [
       "0.005053650776972063"
      ]
     },
     "metadata": {},
     "output_type": "display_data"
    },
    {
     "name": "stderr",
     "output_type": "stream",
     "text": [
      "\u001b[32mloss: 0.00505:   2%|▋                                        |  ETA: 0:23:36\u001b[39m"
     ]
    },
    {
     "data": {
      "text/plain": [
       "0.003114765759164584"
      ]
     },
     "metadata": {},
     "output_type": "display_data"
    },
    {
     "name": "stderr",
     "output_type": "stream",
     "text": [
      "\u001b[32mloss: 0.00311:   2%|▉                                        |  ETA: 0:21:29\u001b[39m"
     ]
    },
    {
     "data": {
      "text/plain": [
       "0.00356362918864761"
      ]
     },
     "metadata": {},
     "output_type": "display_data"
    },
    {
     "name": "stderr",
     "output_type": "stream",
     "text": [
      "\u001b[32mloss: 0.00356:   2%|█                                        |  ETA: 0:20:09\u001b[39m"
     ]
    },
    {
     "data": {
      "text/plain": [
       "0.003892179202011903"
      ]
     },
     "metadata": {},
     "output_type": "display_data"
    },
    {
     "name": "stderr",
     "output_type": "stream",
     "text": [
      "\u001b[32mloss: 0.00389:   3%|█▎                                       |  ETA: 0:19:15\u001b[39m"
     ]
    },
    {
     "data": {
      "text/plain": [
       "0.0033107949420809746"
      ]
     },
     "metadata": {},
     "output_type": "display_data"
    },
    {
     "name": "stderr",
     "output_type": "stream",
     "text": [
      "\u001b[32mloss: 0.00331: 100%|█████████████████████████████████████████| Time: 0:00:43\u001b[39m\n"
     ]
    },
    {
     "ename": "InterruptException",
     "evalue": "InterruptException:",
     "output_type": "error",
     "traceback": [
      "InterruptException:",
      "",
      "Stacktrace:",
      " [1] Generator at ./generator.jl:32 [inlined] (repeats 2 times)",
      " [2] map at ./abstractarray.jl:2073 [inlined]",
      " [3] value at /home/tianbai/.julia/packages/ReverseDiff/uy0uk/src/tracked.jl:99 [inlined]",
      " [4] reverse_mul!(::ReverseDiff.TrackedArray{Float32,Float32,1,Array{Float32,1},Array{Float32,1}}, ::Array{Float32,1}, ::ReverseDiff.TrackedArray{Float32,Float32,2,Array{Float32,2},Array{Float32,2}}, ::Array{ReverseDiff.TrackedReal{Float32,Float32,Nothing},1}, ::Array{Float32,2}, ::Array{Float32,1}) at /home/tianbai/.julia/packages/ReverseDiff/uy0uk/src/derivatives/linalg/arithmetic.jl:273",
      " [5] special_reverse_exec!(::ReverseDiff.SpecialInstruction{typeof(*),Tuple{ReverseDiff.TrackedArray{Float32,Float32,2,Array{Float32,2},Array{Float32,2}},Array{ReverseDiff.TrackedReal{Float32,Float32,Nothing},1}},ReverseDiff.TrackedArray{Float32,Float32,1,Array{Float32,1},Array{Float32,1}},Tuple{Array{Float32,2},Array{Float32,1}}}) at /home/tianbai/.julia/packages/ReverseDiff/uy0uk/src/derivatives/linalg/arithmetic.jl:265",
      " [6] reverse_exec!(::ReverseDiff.SpecialInstruction{typeof(*),Tuple{ReverseDiff.TrackedArray{Float32,Float32,2,Array{Float32,2},Array{Float32,2}},Array{ReverseDiff.TrackedReal{Float32,Float32,Nothing},1}},ReverseDiff.TrackedArray{Float32,Float32,1,Array{Float32,1},Array{Float32,1}},Tuple{Array{Float32,2},Array{Float32,1}}}) at /home/tianbai/.julia/packages/ReverseDiff/uy0uk/src/tape.jl:93",
      " [7] ReverseExecutor at /home/tianbai/.julia/packages/ReverseDiff/uy0uk/src/api/tape.jl:93 [inlined]",
      " [8] (::FunctionWrappers.CallWrapper{Nothing})(::ReverseDiff.ReverseExecutor{ReverseDiff.SpecialInstruction{typeof(*),Tuple{ReverseDiff.TrackedArray{Float32,Float32,2,Array{Float32,2},Array{Float32,2}},Array{ReverseDiff.TrackedReal{Float32,Float32,Nothing},1}},ReverseDiff.TrackedArray{Float32,Float32,1,Array{Float32,1},Array{Float32,1}},Tuple{Array{Float32,2},Array{Float32,1}}}}) at /home/tianbai/.julia/packages/FunctionWrappers/OAZAk/src/FunctionWrappers.jl:37",
      " [9] macro expansion at /home/tianbai/.julia/packages/FunctionWrappers/OAZAk/src/FunctionWrappers.jl:109 [inlined]",
      " [10] do_ccall at /home/tianbai/.julia/packages/FunctionWrappers/OAZAk/src/FunctionWrappers.jl:100 [inlined]",
      " [11] FunctionWrapper at /home/tianbai/.julia/packages/FunctionWrappers/OAZAk/src/FunctionWrappers.jl:116 [inlined]",
      " [12] reverse_pass!(::ReverseDiff.CompiledTape{ReverseDiff.GradientTape{DiffEqSensitivity.var\"#48#51\"{ODEFunction{false,DiffEqFlux.var\"#dudt_#92\"{NeuralODE{FastChain{Tuple{var\"#18#19\",FastDense{typeof(tanh),DiffEqFlux.var\"#initial_params#75\"{typeof(Flux.glorot_uniform),typeof(Flux.zeros),Int64,Int64}},FastDense{typeof(tanh),DiffEqFlux.var\"#initial_params#75\"{typeof(Flux.glorot_uniform),typeof(Flux.zeros),Int64,Int64}},FastDense{typeof(identity),DiffEqFlux.var\"#initial_params#75\"{typeof(Flux.glorot_uniform),typeof(Flux.zeros),Int64,Int64}}}},Array{Float32,1},Nothing,Tuple{Float32,Float32},Tsit5,Tuple{},Base.Iterators.Pairs{Symbol,StepRangeLen{Float32,Float64,Float64},Tuple{Symbol},NamedTuple{(:saveat,),Tuple{StepRangeLen{Float32,Float64,Float64}}}}}},LinearAlgebra.UniformScaling{Bool},Nothing,Nothing,Nothing,Nothing,Nothing,Nothing,Nothing,Nothing,Nothing,Nothing,Nothing}},Tuple{ReverseDiff.TrackedArray{Float32,Float32,1,Array{Float32,1},Array{Float32,1}},ReverseDiff.TrackedArray{Float32,Float32,1,Array{Float32,1},Array{Float32,1}},ReverseDiff.TrackedArray{Float32,Float32,1,Array{Float32,1},Array{Float32,1}}},Array{ReverseDiff.TrackedReal{Float32,Float32,Nothing},1}}}) at /home/tianbai/.julia/packages/ReverseDiff/uy0uk/src/api/tape.jl:131",
      " [13] _vecjacobian!(::SubArray{Float32,1,Array{Float32,1},Tuple{UnitRange{Int64}},true}, ::SubArray{Float32,1,Array{Float32,1},Tuple{UnitRange{Int64}},true}, ::Array{Float32,1}, ::Float32, ::DiffEqSensitivity.ODEInterpolatingAdjointSensitivityFunction{DiffEqSensitivity.AdjointDiffCache{Nothing,Nothing,Nothing,Nothing,Nothing,Array{Float32,1},Nothing,Nothing,ReverseDiff.CompiledTape{ReverseDiff.GradientTape{DiffEqSensitivity.var\"#48#51\"{ODEFunction{false,DiffEqFlux.var\"#dudt_#92\"{NeuralODE{FastChain{Tuple{var\"#18#19\",FastDense{typeof(tanh),DiffEqFlux.var\"#initial_params#75\"{typeof(Flux.glorot_uniform),typeof(Flux.zeros),Int64,Int64}},FastDense{typeof(tanh),DiffEqFlux.var\"#initial_params#75\"{typeof(Flux.glorot_uniform),typeof(Flux.zeros),Int64,Int64}},FastDense{typeof(identity),DiffEqFlux.var\"#initial_params#75\"{typeof(Flux.glorot_uniform),typeof(Flux.zeros),Int64,Int64}}}},Array{Float32,1},Nothing,Tuple{Float32,Float32},Tsit5,Tuple{},Base.Iterators.Pairs{Symbol,StepRangeLen{Float32,Float64,Float64},Tuple{Symbol},NamedTuple{(:saveat,),Tuple{StepRangeLen{Float32,Float64,Float64}}}}}},LinearAlgebra.UniformScaling{Bool},Nothing,Nothing,Nothing,Nothing,Nothing,Nothing,Nothing,Nothing,Nothing,Nothing,Nothing}},Tuple{ReverseDiff.TrackedArray{Float32,Float32,1,Array{Float32,1},Array{Float32,1}},ReverseDiff.TrackedArray{Float32,Float32,1,Array{Float32,1},Array{Float32,1}},ReverseDiff.TrackedArray{Float32,Float32,1,Array{Float32,1},Array{Float32,1}}},Array{ReverseDiff.TrackedReal{Float32,Float32,Nothing},1}}},Nothing,Nothing,Base.OneTo{Int64},UnitRange{Int64},LinearAlgebra.UniformScaling{Bool}},DiffEqSensitivity.InterpolatingAdjoint{0,true,Val{:central},DiffEqSensitivity.ReverseDiffVJP{true}},Array{Float32,1},ODESolution{Float32,2,Array{Array{Float32,1},1},Nothing,Nothing,Array{Float32,1},Array{Array{Array{Float32,1},1},1},ODEProblem{Array{Float32,1},Tuple{Float32,Float32},false,Array{Float32,1},ODEFunction{false,DiffEqFlux.var\"#dudt_#92\"{NeuralODE{FastChain{Tuple{var\"#18#19\",FastDense{typeof(tanh),DiffEqFlux.var\"#initial_params#75\"{typeof(Flux.glorot_uniform),typeof(Flux.zeros),Int64,Int64}},FastDense{typeof(tanh),DiffEqFlux.var\"#initial_params#75\"{typeof(Flux.glorot_uniform),typeof(Flux.zeros),Int64,Int64}},FastDense{typeof(identity),DiffEqFlux.var\"#initial_params#75\"{typeof(Flux.glorot_uniform),typeof(Flux.zeros),Int64,Int64}}}},Array{Float32,1},Nothing,Tuple{Float32,Float32},Tsit5,Tuple{},Base.Iterators.Pairs{Symbol,StepRangeLen{Float32,Float64,Float64},Tuple{Symbol},NamedTuple{(:saveat,),Tuple{StepRangeLen{Float32,Float64,Float64}}}}}},LinearAlgebra.UniformScaling{Bool},Nothing,Nothing,Nothing,Nothing,Nothing,Nothing,Nothing,Nothing,Nothing,Nothing,Nothing},Base.Iterators.Pairs{Union{},Union{},Tuple{},NamedTuple{(),Tuple{}}},DiffEqBase.StandardODEProblem},Tsit5,OrdinaryDiffEq.InterpolationData{ODEFunction{false,DiffEqFlux.var\"#dudt_#92\"{NeuralODE{FastChain{Tuple{var\"#18#19\",FastDense{typeof(tanh),DiffEqFlux.var\"#initial_params#75\"{typeof(Flux.glorot_uniform),typeof(Flux.zeros),Int64,Int64}},FastDense{typeof(tanh),DiffEqFlux.var\"#initial_params#75\"{typeof(Flux.glorot_uniform),typeof(Flux.zeros),Int64,Int64}},FastDense{typeof(identity),DiffEqFlux.var\"#initial_params#75\"{typeof(Flux.glorot_uniform),typeof(Flux.zeros),Int64,Int64}}}},Array{Float32,1},Nothing,Tuple{Float32,Float32},Tsit5,Tuple{},Base.Iterators.Pairs{Symbol,StepRangeLen{Float32,Float64,Float64},Tuple{Symbol},NamedTuple{(:saveat,),Tuple{StepRangeLen{Float32,Float64,Float64}}}}}},LinearAlgebra.UniformScaling{Bool},Nothing,Nothing,Nothing,Nothing,Nothing,Nothing,Nothing,Nothing,Nothing,Nothing,Nothing},Array{Array{Float32,1},1},Array{Float32,1},Array{Array{Array{Float32,1},1},1},OrdinaryDiffEq.Tsit5ConstantCache{Float32,Float32}},DiffEqBase.DEStats},Nothing,Nothing}, ::DiffEqSensitivity.ReverseDiffVJP{true}, ::SubArray{Float32,1,Array{Float32,1},Tuple{UnitRange{Int64}},true}, ::Nothing) at /home/tianbai/.julia/packages/DiffEqSensitivity/ykcWV/src/local_sensitivity/derivative_wrappers.jl:161",
      " [14] #vecjacobian!#7 at /home/tianbai/.julia/packages/DiffEqSensitivity/ykcWV/src/local_sensitivity/derivative_wrappers.jl:78 [inlined]",
      " [15] #vecjacobian! at ./none:0 [inlined]",
      " [16] (::DiffEqSensitivity.ODEInterpolatingAdjointSensitivityFunction{DiffEqSensitivity.AdjointDiffCache{Nothing,Nothing,Nothing,Nothing,Nothing,Array{Float32,1},Nothing,Nothing,ReverseDiff.CompiledTape{ReverseDiff.GradientTape{DiffEqSensitivity.var\"#48#51\"{ODEFunction{false,DiffEqFlux.var\"#dudt_#92\"{NeuralODE{FastChain{Tuple{var\"#18#19\",FastDense{typeof(tanh),DiffEqFlux.var\"#initial_params#75\"{typeof(Flux.glorot_uniform),typeof(Flux.zeros),Int64,Int64}},FastDense{typeof(tanh),DiffEqFlux.var\"#initial_params#75\"{typeof(Flux.glorot_uniform),typeof(Flux.zeros),Int64,Int64}},FastDense{typeof(identity),DiffEqFlux.var\"#initial_params#75\"{typeof(Flux.glorot_uniform),typeof(Flux.zeros),Int64,Int64}}}},Array{Float32,1},Nothing,Tuple{Float32,Float32},Tsit5,Tuple{},Base.Iterators.Pairs{Symbol,StepRangeLen{Float32,Float64,Float64},Tuple{Symbol},NamedTuple{(:saveat,),Tuple{StepRangeLen{Float32,Float64,Float64}}}}}},LinearAlgebra.UniformScaling{Bool},Nothing,Nothing,Nothing,Nothing,Nothing,Nothing,Nothing,Nothing,Nothing,Nothing,Nothing}},Tuple{ReverseDiff.TrackedArray{Float32,Float32,1,Array{Float32,1},Array{Float32,1}},ReverseDiff.TrackedArray{Float32,Float32,1,Array{Float32,1},Array{Float32,1}},ReverseDiff.TrackedArray{Float32,Float32,1,Array{Float32,1},Array{Float32,1}}},Array{ReverseDiff.TrackedReal{Float32,Float32,Nothing},1}}},Nothing,Nothing,Base.OneTo{Int64},UnitRange{Int64},LinearAlgebra.UniformScaling{Bool}},DiffEqSensitivity.InterpolatingAdjoint{0,true,Val{:central},DiffEqSensitivity.ReverseDiffVJP{true}},Array{Float32,1},ODESolution{Float32,2,Array{Array{Float32,1},1},Nothing,Nothing,Array{Float32,1},Array{Array{Array{Float32,1},1},1},ODEProblem{Array{Float32,1},Tuple{Float32,Float32},false,Array{Float32,1},ODEFunction{false,DiffEqFlux.var\"#dudt_#92\"{NeuralODE{FastChain{Tuple{var\"#18#19\",FastDense{typeof(tanh),DiffEqFlux.var\"#initial_params#75\"{typeof(Flux.glorot_uniform),typeof(Flux.zeros),Int64,Int64}},FastDense{typeof(tanh),DiffEqFlux.var\"#initial_params#75\"{typeof(Flux.glorot_uniform),typeof(Flux.zeros),Int64,Int64}},FastDense{typeof(identity),DiffEqFlux.var\"#initial_params#75\"{typeof(Flux.glorot_uniform),typeof(Flux.zeros),Int64,Int64}}}},Array{Float32,1},Nothing,Tuple{Float32,Float32},Tsit5,Tuple{},Base.Iterators.Pairs{Symbol,StepRangeLen{Float32,Float64,Float64},Tuple{Symbol},NamedTuple{(:saveat,),Tuple{StepRangeLen{Float32,Float64,Float64}}}}}},LinearAlgebra.UniformScaling{Bool},Nothing,Nothing,Nothing,Nothing,Nothing,Nothing,Nothing,Nothing,Nothing,Nothing,Nothing},Base.Iterators.Pairs{Union{},Union{},Tuple{},NamedTuple{(),Tuple{}}},DiffEqBase.StandardODEProblem},Tsit5,OrdinaryDiffEq.InterpolationData{ODEFunction{false,DiffEqFlux.var\"#dudt_#92\"{NeuralODE{FastChain{Tuple{var\"#18#19\",FastDense{typeof(tanh),DiffEqFlux.var\"#initial_params#75\"{typeof(Flux.glorot_uniform),typeof(Flux.zeros),Int64,Int64}},FastDense{typeof(tanh),DiffEqFlux.var\"#initial_params#75\"{typeof(Flux.glorot_uniform),typeof(Flux.zeros),Int64,Int64}},FastDense{typeof(identity),DiffEqFlux.var\"#initial_params#75\"{typeof(Flux.glorot_uniform),typeof(Flux.zeros),Int64,Int64}}}},Array{Float32,1},Nothing,Tuple{Float32,Float32},Tsit5,Tuple{},Base.Iterators.Pairs{Symbol,StepRangeLen{Float32,Float64,Float64},Tuple{Symbol},NamedTuple{(:saveat,),Tuple{StepRangeLen{Float32,Float64,Float64}}}}}},LinearAlgebra.UniformScaling{Bool},Nothing,Nothing,Nothing,Nothing,Nothing,Nothing,Nothing,Nothing,Nothing,Nothing,Nothing},Array{Array{Float32,1},1},Array{Float32,1},Array{Array{Array{Float32,1},1},1},OrdinaryDiffEq.Tsit5ConstantCache{Float32,Float32}},DiffEqBase.DEStats},Nothing,Nothing})(::Array{Float32,1}, ::Array{Float32,1}, ::Array{Float32,1}, ::Float32) at /home/tianbai/.julia/packages/DiffEqSensitivity/ykcWV/src/local_sensitivity/interpolating_adjoint.jl:79",
      " [17] ODEFunction at /home/tianbai/.julia/packages/DiffEqBase/Lxno7/src/diffeqfunction.jl:248 [inlined]",
      " [18] perform_step!(::OrdinaryDiffEq.ODEIntegrator{Tsit5,true,Array{Float32,1},Nothing,Float32,Array{Float32,1},Float32,Float32,Float32,Array{Array{Float32,1},1},ODESolution{Float32,2,Array{Array{Float32,1},1},Nothing,Nothing,Array{Float32,1},Array{Array{Array{Float32,1},1},1},ODEProblem{Array{Float32,1},Tuple{Float32,Float32},true,Array{Float32,1},ODEFunction{true,DiffEqSensitivity.ODEInterpolatingAdjointSensitivityFunction{DiffEqSensitivity.AdjointDiffCache{Nothing,Nothing,Nothing,Nothing,Nothing,Array{Float32,1},Nothing,Nothing,ReverseDiff.CompiledTape{ReverseDiff.GradientTape{DiffEqSensitivity.var\"#48#51\"{ODEFunction{false,DiffEqFlux.var\"#dudt_#92\"{NeuralODE{FastChain{Tuple{var\"#18#19\",FastDense{typeof(tanh),DiffEqFlux.var\"#initial_params#75\"{typeof(Flux.glorot_uniform),typeof(Flux.zeros),Int64,Int64}},FastDense{typeof(tanh),DiffEqFlux.var\"#initial_params#75\"{typeof(Flux.glorot_uniform),typeof(Flux.zeros),Int64,Int64}},FastDense{typeof(identity),DiffEqFlux.var\"#initial_params#75\"{typeof(Flux.glorot_uniform),typeof(Flux.zeros),Int64,Int64}}}},Array{Float32,1},Nothing,Tuple{Float32,Float32},Tsit5,Tuple{},Base.Iterators.Pairs{Symbol,StepRangeLen{Float32,Float64,Float64},Tuple{Symbol},NamedTuple{(:saveat,),Tuple{StepRangeLen{Float32,Float64,Float64}}}}}},LinearAlgebra.UniformScaling{Bool},Nothing,Nothing,Nothing,Nothing,Nothing,Nothing,Nothing,Nothing,Nothing,Nothing,Nothing}},Tuple{ReverseDiff.TrackedArray{Float32,Float32,1,Array{Float32,1},Array{Float32,1}},ReverseDiff.TrackedArray{Float32,Float32,1,Array{Float32,1},Array{Float32,1}},ReverseDiff.TrackedArray{Float32,Float32,1,Array{Float32,1},Array{Float32,1}}},Array{ReverseDiff.TrackedReal{Float32,Float32,Nothing},1}}},Nothing,Nothing,Base.OneTo{Int64},UnitRange{Int64},LinearAlgebra.UniformScaling{Bool}},DiffEqSensitivity.InterpolatingAdjoint{0,true,Val{:central},DiffEqSensitivity.ReverseDiffVJP{true}},Array{Float32,1},ODESolution{Float32,2,Array{Array{Float32,1},1},Nothing,Nothing,Array{Float32,1},Array{Array{Array{Float32,1},1},1},ODEProblem{Array{Float32,1},Tuple{Float32,Float32},false,Array{Float32,1},ODEFunction{false,DiffEqFlux.var\"#dudt_#92\"{NeuralODE{FastChain{Tuple{var\"#18#19\",FastDense{typeof(tanh),DiffEqFlux.var\"#initial_params#75\"{typeof(Flux.glorot_uniform),typeof(Flux.zeros),Int64,Int64}},FastDense{typeof(tanh),DiffEqFlux.var\"#initial_params#75\"{typeof(Flux.glorot_uniform),typeof(Flux.zeros),Int64,Int64}},FastDense{typeof(identity),DiffEqFlux.var\"#initial_params#75\"{typeof(Flux.glorot_uniform),typeof(Flux.zeros),Int64,Int64}}}},Array{Float32,1},Nothing,Tuple{Float32,Float32},Tsit5,Tuple{},Base.Iterators.Pairs{Symbol,StepRangeLen{Float32,Float64,Float64},Tuple{Symbol},NamedTuple{(:saveat,),Tuple{StepRangeLen{Float32,Float64,Float64}}}}}},LinearAlgebra.UniformScaling{Bool},Nothing,Nothing,Nothing,Nothing,Nothing,Nothing,Nothing,Nothing,Nothing,Nothing,Nothing},Base.Iterators.Pairs{Union{},Union{},Tuple{},NamedTuple{(),Tuple{}}},DiffEqBase.StandardODEProblem},Tsit5,OrdinaryDiffEq.InterpolationData{ODEFunction{false,DiffEqFlux.var\"#dudt_#92\"{NeuralODE{FastChain{Tuple{var\"#18#19\",FastDense{typeof(tanh),DiffEqFlux.var\"#initial_params#75\"{typeof(Flux.glorot_uniform),typeof(Flux.zeros),Int64,Int64}},FastDense{typeof(tanh),DiffEqFlux.var\"#initial_params#75\"{typeof(Flux.glorot_uniform),typeof(Flux.zeros),Int64,Int64}},FastDense{typeof(identity),DiffEqFlux.var\"#initial_params#75\"{typeof(Flux.glorot_uniform),typeof(Flux.zeros),Int64,Int64}}}},Array{Float32,1},Nothing,Tuple{Float32,Float32},Tsit5,Tuple{},Base.Iterators.Pairs{Symbol,StepRangeLen{Float32,Float64,Float64},Tuple{Symbol},NamedTuple{(:saveat,),Tuple{StepRangeLen{Float32,Float64,Float64}}}}}},LinearAlgebra.UniformScaling{Bool},Nothing,Nothing,Nothing,Nothing,Nothing,Nothing,Nothing,Nothing,Nothing,Nothing,Nothing},Array{Array{Float32,1},1},Array{Float32,1},Array{Array{Array{Float32,1},1},1},OrdinaryDiffEq.Tsit5ConstantCache{Float32,Float32}},DiffEqBase.DEStats},Nothing,Nothing},LinearAlgebra.UniformScaling{Bool},Nothing,Nothing,Nothing,Nothing,Nothing,Nothing,Nothing,Nothing,Nothing,Nothing,Nothing},Base.Iterators.Pairs{Symbol,CallbackSet{Tuple{},Tuple{DiscreteCallback{DiffEqCallbacks.var\"#33#36\"{Base.RefValue{Union{Nothing, Float32}}},DiffEqCallbacks.var\"#34#37\"{DiffEqSensitivity.var\"#52#54\"{Base.RefValue{Int64},StepRangeLen{Float32,Float64,Float64}},DiffEqSensitivity.var\"#53#55\"{DiffEqSensitivity.var\"#df#78\"{Array{Float64,2},Array{Float32,1}},DiffEqSensitivity.InterpolatingAdjoint{0,true,Val{:central},DiffEqSensitivity.ReverseDiffVJP{true}},Base.OneTo{Int64},UnitRange{Int64},LinearAlgebra.UniformScaling{Bool},Bool,Nothing,Nothing,Nothing,Nothing,Bool,Array{Float32,1},StepRangeLen{Float32,Float64,Float64},Array{Float32,1},Base.RefValue{Int64},Int64,LinearAlgebra.UniformScaling{Bool}},Base.RefValue{Union{Nothing, Float32}}},DiffEqCallbacks.var\"#35#38\"{typeof(DiffEqBase.INITIALIZE_DEFAULT),Bool,DiffEqSensitivity.var\"#52#54\"{Base.RefValue{Int64},StepRangeLen{Float32,Float64,Float64}},Base.RefValue{Union{Nothing, Float32}},DiffEqCallbacks.var\"#34#37\"{DiffEqSensitivity.var\"#52#54\"{Base.RefValue{Int64},StepRangeLen{Float32,Float64,Float64}},DiffEqSensitivity.var\"#53#55\"{DiffEqSensitivity.var\"#df#78\"{Array{Float64,2},Array{Float32,1}},DiffEqSensitivity.InterpolatingAdjoint{0,true,Val{:central},DiffEqSensitivity.ReverseDiffVJP{true}},Base.OneTo{Int64},UnitRange{Int64},LinearAlgebra.UniformScaling{Bool},Bool,Nothing,Nothing,Nothing,Nothing,Bool,Array{Float32,1},StepRangeLen{Float32,Float64,Float64},Array{Float32,1},Base.RefValue{Int64},Int64,LinearAlgebra.UniformScaling{Bool}},Base.RefValue{Union{Nothing, Float32}}}}}}},Tuple{Symbol},NamedTuple{(:callback,),Tuple{CallbackSet{Tuple{},Tuple{DiscreteCallback{DiffEqCallbacks.var\"#33#36\"{Base.RefValue{Union{Nothing, Float32}}},DiffEqCallbacks.var\"#34#37\"{DiffEqSensitivity.var\"#52#54\"{Base.RefValue{Int64},StepRangeLen{Float32,Float64,Float64}},DiffEqSensitivity.var\"#53#55\"{DiffEqSensitivity.var\"#df#78\"{Array{Float64,2},Array{Float32,1}},DiffEqSensitivity.InterpolatingAdjoint{0,true,Val{:central},DiffEqSensitivity.ReverseDiffVJP{true}},Base.OneTo{Int64},UnitRange{Int64},LinearAlgebra.UniformScaling{Bool},Bool,Nothing,Nothing,Nothing,Nothing,Bool,Array{Float32,1},StepRangeLen{Float32,Float64,Float64},Array{Float32,1},Base.RefValue{Int64},Int64,LinearAlgebra.UniformScaling{Bool}},Base.RefValue{Union{Nothing, Float32}}},DiffEqCallbacks.var\"#35#38\"{typeof(DiffEqBase.INITIALIZE_DEFAULT),Bool,DiffEqSensitivity.var\"#52#54\"{Base.RefValue{Int64},StepRangeLen{Float32,Float64,Float64}},Base.RefValue{Union{Nothing, Float32}},DiffEqCallbacks.var\"#34#37\"{DiffEqSensitivity.var\"#52#54\"{Base.RefValue{Int64},StepRangeLen{Float32,Float64,Float64}},DiffEqSensitivity.var\"#53#55\"{DiffEqSensitivity.var\"#df#78\"{Array{Float64,2},Array{Float32,1}},DiffEqSensitivity.InterpolatingAdjoint{0,true,Val{:central},DiffEqSensitivity.ReverseDiffVJP{true}},Base.OneTo{Int64},UnitRange{Int64},LinearAlgebra.UniformScaling{Bool},Bool,Nothing,Nothing,Nothing,Nothing,Bool,Array{Float32,1},StepRangeLen{Float32,Float64,Float64},Array{Float32,1},Base.RefValue{Int64},Int64,LinearAlgebra.UniformScaling{Bool}},Base.RefValue{Union{Nothing, Float32}}}}}}}}}},DiffEqBase.StandardODEProblem},Tsit5,OrdinaryDiffEq.InterpolationData{ODEFunction{true,DiffEqSensitivity.ODEInterpolatingAdjointSensitivityFunction{DiffEqSensitivity.AdjointDiffCache{Nothing,Nothing,Nothing,Nothing,Nothing,Array{Float32,1},Nothing,Nothing,ReverseDiff.CompiledTape{ReverseDiff.GradientTape{DiffEqSensitivity.var\"#48#51\"{ODEFunction{false,DiffEqFlux.var\"#dudt_#92\"{NeuralODE{FastChain{Tuple{var\"#18#19\",FastDense{typeof(tanh),DiffEqFlux.var\"#initial_params#75\"{typeof(Flux.glorot_uniform),typeof(Flux.zeros),Int64,Int64}},FastDense{typeof(tanh),DiffEqFlux.var\"#initial_params#75\"{typeof(Flux.glorot_uniform),typeof(Flux.zeros),Int64,Int64}},FastDense{typeof(identity),DiffEqFlux.var\"#initial_params#75\"{typeof(Flux.glorot_uniform),typeof(Flux.zeros),Int64,Int64}}}},Array{Float32,1},Nothing,Tuple{Float32,Float32},Tsit5,Tuple{},Base.Iterators.Pairs{Symbol,StepRangeLen{Float32,Float64,Float64},Tuple{Symbol},NamedTuple{(:saveat,),Tuple{StepRangeLen{Float32,Float64,Float64}}}}}},LinearAlgebra.UniformScaling{Bool},Nothing,Nothing,Nothing,Nothing,Nothing,Nothing,Nothing,Nothing,Nothing,Nothing,Nothing}},Tuple{ReverseDiff.TrackedArray{Float32,Float32,1,Array{Float32,1},Array{Float32,1}},ReverseDiff.TrackedArray{Float32,Float32,1,Array{Float32,1},Array{Float32,1}},ReverseDiff.TrackedArray{Float32,Float32,1,Array{Float32,1},Array{Float32,1}}},Array{ReverseDiff.TrackedReal{Float32,Float32,Nothing},1}}},Nothing,Nothing,Base.OneTo{Int64},UnitRange{Int64},LinearAlgebra.UniformScaling{Bool}},DiffEqSensitivity.InterpolatingAdjoint{0,true,Val{:central},DiffEqSensitivity.ReverseDiffVJP{true}},Array{Float32,1},ODESolution{Float32,2,Array{Array{Float32,1},1},Nothing,Nothing,Array{Float32,1},Array{Array{Array{Float32,1},1},1},ODEProblem{Array{Float32,1},Tuple{Float32,Float32},false,Array{Float32,1},ODEFunction{false,DiffEqFlux.var\"#dudt_#92\"{NeuralODE{FastChain{Tuple{var\"#18#19\",FastDense{typeof(tanh),DiffEqFlux.var\"#initial_params#75\"{typeof(Flux.glorot_uniform),typeof(Flux.zeros),Int64,Int64}},FastDense{typeof(tanh),DiffEqFlux.var\"#initial_params#75\"{typeof(Flux.glorot_uniform),typeof(Flux.zeros),Int64,Int64}},FastDense{typeof(identity),DiffEqFlux.var\"#initial_params#75\"{typeof(Flux.glorot_uniform),typeof(Flux.zeros),Int64,Int64}}}},Array{Float32,1},Nothing,Tuple{Float32,Float32},Tsit5,Tuple{},Base.Iterators.Pairs{Symbol,StepRangeLen{Float32,Float64,Float64},Tuple{Symbol},NamedTuple{(:saveat,),Tuple{StepRangeLen{Float32,Float64,Float64}}}}}},LinearAlgebra.UniformScaling{Bool},Nothing,Nothing,Nothing,Nothing,Nothing,Nothing,Nothing,Nothing,Nothing,Nothing,Nothing},Base.Iterators.Pairs{Union{},Union{},Tuple{},NamedTuple{(),Tuple{}}},DiffEqBase.StandardODEProblem},Tsit5,OrdinaryDiffEq.InterpolationData{ODEFunction{false,DiffEqFlux.var\"#dudt_#92\"{NeuralODE{FastChain{Tuple{var\"#18#19\",FastDense{typeof(tanh),DiffEqFlux.var\"#initial_params#75\"{typeof(Flux.glorot_uniform),typeof(Flux.zeros),Int64,Int64}},FastDense{typeof(tanh),DiffEqFlux.var\"#initial_params#75\"{typeof(Flux.glorot_uniform),typeof(Flux.zeros),Int64,Int64}},FastDense{typeof(identity),DiffEqFlux.var\"#initial_params#75\"{typeof(Flux.glorot_uniform),typeof(Flux.zeros),Int64,Int64}}}},Array{Float32,1},Nothing,Tuple{Float32,Float32},Tsit5,Tuple{},Base.Iterators.Pairs{Symbol,StepRangeLen{Float32,Float64,Float64},Tuple{Symbol},NamedTuple{(:saveat,),Tuple{StepRangeLen{Float32,Float64,Float64}}}}}},LinearAlgebra.UniformScaling{Bool},Nothing,Nothing,Nothing,Nothing,Nothing,Nothing,Nothing,Nothing,Nothing,Nothing,Nothing},Array{Array{Float32,1},1},Array{Float32,1},Array{Array{Array{Float32,1},1},1},OrdinaryDiffEq.Tsit5ConstantCache{Float32,Float32}},DiffEqBase.DEStats},Nothing,Nothing},LinearAlgebra.UniformScaling{Bool},Nothing,Nothing,Nothing,Nothing,Nothing,Nothing,Nothing,Nothing,Nothing,Nothing,Nothing},Array{Array{Float32,1},1},Array{Float32,1},Array{Array{Array{Float32,1},1},1},OrdinaryDiffEq.Tsit5Cache{Array{Float32,1},Array{Float32,1},Array{Float32,1},OrdinaryDiffEq.Tsit5ConstantCache{Float32,Float32}}},DiffEqBase.DEStats},ODEFunction{true,DiffEqSensitivity.ODEInterpolatingAdjointSensitivityFunction{DiffEqSensitivity.AdjointDiffCache{Nothing,Nothing,Nothing,Nothing,Nothing,Array{Float32,1},Nothing,Nothing,ReverseDiff.CompiledTape{ReverseDiff.GradientTape{DiffEqSensitivity.var\"#48#51\"{ODEFunction{false,DiffEqFlux.var\"#dudt_#92\"{NeuralODE{FastChain{Tuple{var\"#18#19\",FastDense{typeof(tanh),DiffEqFlux.var\"#initial_params#75\"{typeof(Flux.glorot_uniform),typeof(Flux.zeros),Int64,Int64}},FastDense{typeof(tanh),DiffEqFlux.var\"#initial_params#75\"{typeof(Flux.glorot_uniform),typeof(Flux.zeros),Int64,Int64}},FastDense{typeof(identity),DiffEqFlux.var\"#initial_params#75\"{typeof(Flux.glorot_uniform),typeof(Flux.zeros),Int64,Int64}}}},Array{Float32,1},Nothing,Tuple{Float32,Float32},Tsit5,Tuple{},Base.Iterators.Pairs{Symbol,StepRangeLen{Float32,Float64,Float64},Tuple{Symbol},NamedTuple{(:saveat,),Tuple{StepRangeLen{Float32,Float64,Float64}}}}}},LinearAlgebra.UniformScaling{Bool},Nothing,Nothing,Nothing,Nothing,Nothing,Nothing,Nothing,Nothing,Nothing,Nothing,Nothing}},Tuple{ReverseDiff.TrackedArray{Float32,Float32,1,Array{Float32,1},Array{Float32,1}},ReverseDiff.TrackedArray{Float32,Float32,1,Array{Float32,1},Array{Float32,1}},ReverseDiff.TrackedArray{Float32,Float32,1,Array{Float32,1},Array{Float32,1}}},Array{ReverseDiff.TrackedReal{Float32,Float32,Nothing},1}}},Nothing,Nothing,Base.OneTo{Int64},UnitRange{Int64},LinearAlgebra.UniformScaling{Bool}},DiffEqSensitivity.InterpolatingAdjoint{0,true,Val{:central},DiffEqSensitivity.ReverseDiffVJP{true}},Array{Float32,1},ODESolution{Float32,2,Array{Array{Float32,1},1},Nothing,Nothing,Array{Float32,1},Array{Array{Array{Float32,1},1},1},ODEProblem{Array{Float32,1},Tuple{Float32,Float32},false,Array{Float32,1},ODEFunction{false,DiffEqFlux.var\"#dudt_#92\"{NeuralODE{FastChain{Tuple{var\"#18#19\",FastDense{typeof(tanh),DiffEqFlux.var\"#initial_params#75\"{typeof(Flux.glorot_uniform),typeof(Flux.zeros),Int64,Int64}},FastDense{typeof(tanh),DiffEqFlux.var\"#initial_params#75\"{typeof(Flux.glorot_uniform),typeof(Flux.zeros),Int64,Int64}},FastDense{typeof(identity),DiffEqFlux.var\"#initial_params#75\"{typeof(Flux.glorot_uniform),typeof(Flux.zeros),Int64,Int64}}}},Array{Float32,1},Nothing,Tuple{Float32,Float32},Tsit5,Tuple{},Base.Iterators.Pairs{Symbol,StepRangeLen{Float32,Float64,Float64},Tuple{Symbol},NamedTuple{(:saveat,),Tuple{StepRangeLen{Float32,Float64,Float64}}}}}},LinearAlgebra.UniformScaling{Bool},Nothing,Nothing,Nothing,Nothing,Nothing,Nothing,Nothing,Nothing,Nothing,Nothing,Nothing},Base.Iterators.Pairs{Union{},Union{},Tuple{},NamedTuple{(),Tuple{}}},DiffEqBase.StandardODEProblem},Tsit5,OrdinaryDiffEq.InterpolationData{ODEFunction{false,DiffEqFlux.var\"#dudt_#92\"{NeuralODE{FastChain{Tuple{var\"#18#19\",FastDense{typeof(tanh),DiffEqFlux.var\"#initial_params#75\"{typeof(Flux.glorot_uniform),typeof(Flux.zeros),Int64,Int64}},FastDense{typeof(tanh),DiffEqFlux.var\"#initial_params#75\"{typeof(Flux.glorot_uniform),typeof(Flux.zeros),Int64,Int64}},FastDense{typeof(identity),DiffEqFlux.var\"#initial_params#75\"{typeof(Flux.glorot_uniform),typeof(Flux.zeros),Int64,Int64}}}},Array{Float32,1},Nothing,Tuple{Float32,Float32},Tsit5,Tuple{},Base.Iterators.Pairs{Symbol,StepRangeLen{Float32,Float64,Float64},Tuple{Symbol},NamedTuple{(:saveat,),Tuple{StepRangeLen{Float32,Float64,Float64}}}}}},LinearAlgebra.UniformScaling{Bool},Nothing,Nothing,Nothing,Nothing,Nothing,Nothing,Nothing,Nothing,Nothing,Nothing,Nothing},Array{Array{Float32,1},1},Array{Float32,1},Array{Array{Array{Float32,1},1},1},OrdinaryDiffEq.Tsit5ConstantCache{Float32,Float32}},DiffEqBase.DEStats},Nothing,Nothing},LinearAlgebra.UniformScaling{Bool},Nothing,Nothing,Nothing,Nothing,Nothing,Nothing,Nothing,Nothing,Nothing,Nothing,Nothing},OrdinaryDiffEq.Tsit5Cache{Array{Float32,1},Array{Float32,1},Array{Float32,1},OrdinaryDiffEq.Tsit5ConstantCache{Float32,Float32}},OrdinaryDiffEq.DEOptions{Float64,Float64,Float32,Float32,typeof(DiffEqBase.ODE_DEFAULT_NORM),typeof(LinearAlgebra.opnorm),CallbackSet{Tuple{},Tuple{DiscreteCallback{DiffEqCallbacks.var\"#33#36\"{Base.RefValue{Union{Nothing, Float32}}},DiffEqCallbacks.var\"#34#37\"{DiffEqSensitivity.var\"#52#54\"{Base.RefValue{Int64},StepRangeLen{Float32,Float64,Float64}},DiffEqSensitivity.var\"#53#55\"{DiffEqSensitivity.var\"#df#78\"{Array{Float64,2},Array{Float32,1}},DiffEqSensitivity.InterpolatingAdjoint{0,true,Val{:central},DiffEqSensitivity.ReverseDiffVJP{true}},Base.OneTo{Int64},UnitRange{Int64},LinearAlgebra.UniformScaling{Bool},Bool,Nothing,Nothing,Nothing,Nothing,Bool,Array{Float32,1},StepRangeLen{Float32,Float64,Float64},Array{Float32,1},Base.RefValue{Int64},Int64,LinearAlgebra.UniformScaling{Bool}},Base.RefValue{Union{Nothing, Float32}}},DiffEqCallbacks.var\"#35#38\"{typeof(DiffEqBase.INITIALIZE_DEFAULT),Bool,DiffEqSensitivity.var\"#52#54\"{Base.RefValue{Int64},StepRangeLen{Float32,Float64,Float64}},Base.RefValue{Union{Nothing, Float32}},DiffEqCallbacks.var\"#34#37\"{DiffEqSensitivity.var\"#52#54\"{Base.RefValue{Int64},StepRangeLen{Float32,Float64,Float64}},DiffEqSensitivity.var\"#53#55\"{DiffEqSensitivity.var\"#df#78\"{Array{Float64,2},Array{Float32,1}},DiffEqSensitivity.InterpolatingAdjoint{0,true,Val{:central},DiffEqSensitivity.ReverseDiffVJP{true}},Base.OneTo{Int64},UnitRange{Int64},LinearAlgebra.UniformScaling{Bool},Bool,Nothing,Nothing,Nothing,Nothing,Bool,Array{Float32,1},StepRangeLen{Float32,Float64,Float64},Array{Float32,1},Base.RefValue{Int64},Int64,LinearAlgebra.UniformScaling{Bool}},Base.RefValue{Union{Nothing, Float32}}}}}}},typeof(DiffEqBase.ODE_DEFAULT_ISOUTOFDOMAIN),typeof(DiffEqBase.ODE_DEFAULT_PROG_MESSAGE),typeof(DiffEqBase.ODE_DEFAULT_UNSTABLE_CHECK),DataStructures.BinaryHeap{Float32,DataStructures.LessThan},DataStructures.BinaryHeap{Float32,DataStructures.LessThan},Nothing,Nothing,Int64,Array{Float32,1},Array{Float32,1},Array{Float32,1}},Array{Float32,1},Float32,Nothing,OrdinaryDiffEq.DefaultInit}, ::OrdinaryDiffEq.Tsit5Cache{Array{Float32,1},Array{Float32,1},Array{Float32,1},OrdinaryDiffEq.Tsit5ConstantCache{Float32,Float32}}, ::Bool) at /home/tianbai/.julia/packages/OrdinaryDiffEq/z9kDO/src/perform_step/low_order_rk_perform_step.jl:643",
      " [19] perform_step! at /home/tianbai/.julia/packages/OrdinaryDiffEq/z9kDO/src/perform_step/low_order_rk_perform_step.jl:628 [inlined]",
      " [20] solve!(::OrdinaryDiffEq.ODEIntegrator{Tsit5,true,Array{Float32,1},Nothing,Float32,Array{Float32,1},Float32,Float32,Float32,Array{Array{Float32,1},1},ODESolution{Float32,2,Array{Array{Float32,1},1},Nothing,Nothing,Array{Float32,1},Array{Array{Array{Float32,1},1},1},ODEProblem{Array{Float32,1},Tuple{Float32,Float32},true,Array{Float32,1},ODEFunction{true,DiffEqSensitivity.ODEInterpolatingAdjointSensitivityFunction{DiffEqSensitivity.AdjointDiffCache{Nothing,Nothing,Nothing,Nothing,Nothing,Array{Float32,1},Nothing,Nothing,ReverseDiff.CompiledTape{ReverseDiff.GradientTape{DiffEqSensitivity.var\"#48#51\"{ODEFunction{false,DiffEqFlux.var\"#dudt_#92\"{NeuralODE{FastChain{Tuple{var\"#18#19\",FastDense{typeof(tanh),DiffEqFlux.var\"#initial_params#75\"{typeof(Flux.glorot_uniform),typeof(Flux.zeros),Int64,Int64}},FastDense{typeof(tanh),DiffEqFlux.var\"#initial_params#75\"{typeof(Flux.glorot_uniform),typeof(Flux.zeros),Int64,Int64}},FastDense{typeof(identity),DiffEqFlux.var\"#initial_params#75\"{typeof(Flux.glorot_uniform),typeof(Flux.zeros),Int64,Int64}}}},Array{Float32,1},Nothing,Tuple{Float32,Float32},Tsit5,Tuple{},Base.Iterators.Pairs{Symbol,StepRangeLen{Float32,Float64,Float64},Tuple{Symbol},NamedTuple{(:saveat,),Tuple{StepRangeLen{Float32,Float64,Float64}}}}}},LinearAlgebra.UniformScaling{Bool},Nothing,Nothing,Nothing,Nothing,Nothing,Nothing,Nothing,Nothing,Nothing,Nothing,Nothing}},Tuple{ReverseDiff.TrackedArray{Float32,Float32,1,Array{Float32,1},Array{Float32,1}},ReverseDiff.TrackedArray{Float32,Float32,1,Array{Float32,1},Array{Float32,1}},ReverseDiff.TrackedArray{Float32,Float32,1,Array{Float32,1},Array{Float32,1}}},Array{ReverseDiff.TrackedReal{Float32,Float32,Nothing},1}}},Nothing,Nothing,Base.OneTo{Int64},UnitRange{Int64},LinearAlgebra.UniformScaling{Bool}},DiffEqSensitivity.InterpolatingAdjoint{0,true,Val{:central},DiffEqSensitivity.ReverseDiffVJP{true}},Array{Float32,1},ODESolution{Float32,2,Array{Array{Float32,1},1},Nothing,Nothing,Array{Float32,1},Array{Array{Array{Float32,1},1},1},ODEProblem{Array{Float32,1},Tuple{Float32,Float32},false,Array{Float32,1},ODEFunction{false,DiffEqFlux.var\"#dudt_#92\"{NeuralODE{FastChain{Tuple{var\"#18#19\",FastDense{typeof(tanh),DiffEqFlux.var\"#initial_params#75\"{typeof(Flux.glorot_uniform),typeof(Flux.zeros),Int64,Int64}},FastDense{typeof(tanh),DiffEqFlux.var\"#initial_params#75\"{typeof(Flux.glorot_uniform),typeof(Flux.zeros),Int64,Int64}},FastDense{typeof(identity),DiffEqFlux.var\"#initial_params#75\"{typeof(Flux.glorot_uniform),typeof(Flux.zeros),Int64,Int64}}}},Array{Float32,1},Nothing,Tuple{Float32,Float32},Tsit5,Tuple{},Base.Iterators.Pairs{Symbol,StepRangeLen{Float32,Float64,Float64},Tuple{Symbol},NamedTuple{(:saveat,),Tuple{StepRangeLen{Float32,Float64,Float64}}}}}},LinearAlgebra.UniformScaling{Bool},Nothing,Nothing,Nothing,Nothing,Nothing,Nothing,Nothing,Nothing,Nothing,Nothing,Nothing},Base.Iterators.Pairs{Union{},Union{},Tuple{},NamedTuple{(),Tuple{}}},DiffEqBase.StandardODEProblem},Tsit5,OrdinaryDiffEq.InterpolationData{ODEFunction{false,DiffEqFlux.var\"#dudt_#92\"{NeuralODE{FastChain{Tuple{var\"#18#19\",FastDense{typeof(tanh),DiffEqFlux.var\"#initial_params#75\"{typeof(Flux.glorot_uniform),typeof(Flux.zeros),Int64,Int64}},FastDense{typeof(tanh),DiffEqFlux.var\"#initial_params#75\"{typeof(Flux.glorot_uniform),typeof(Flux.zeros),Int64,Int64}},FastDense{typeof(identity),DiffEqFlux.var\"#initial_params#75\"{typeof(Flux.glorot_uniform),typeof(Flux.zeros),Int64,Int64}}}},Array{Float32,1},Nothing,Tuple{Float32,Float32},Tsit5,Tuple{},Base.Iterators.Pairs{Symbol,StepRangeLen{Float32,Float64,Float64},Tuple{Symbol},NamedTuple{(:saveat,),Tuple{StepRangeLen{Float32,Float64,Float64}}}}}},LinearAlgebra.UniformScaling{Bool},Nothing,Nothing,Nothing,Nothing,Nothing,Nothing,Nothing,Nothing,Nothing,Nothing,Nothing},Array{Array{Float32,1},1},Array{Float32,1},Array{Array{Array{Float32,1},1},1},OrdinaryDiffEq.Tsit5ConstantCache{Float32,Float32}},DiffEqBase.DEStats},Nothing,Nothing},LinearAlgebra.UniformScaling{Bool},Nothing,Nothing,Nothing,Nothing,Nothing,Nothing,Nothing,Nothing,Nothing,Nothing,Nothing},Base.Iterators.Pairs{Symbol,CallbackSet{Tuple{},Tuple{DiscreteCallback{DiffEqCallbacks.var\"#33#36\"{Base.RefValue{Union{Nothing, Float32}}},DiffEqCallbacks.var\"#34#37\"{DiffEqSensitivity.var\"#52#54\"{Base.RefValue{Int64},StepRangeLen{Float32,Float64,Float64}},DiffEqSensitivity.var\"#53#55\"{DiffEqSensitivity.var\"#df#78\"{Array{Float64,2},Array{Float32,1}},DiffEqSensitivity.InterpolatingAdjoint{0,true,Val{:central},DiffEqSensitivity.ReverseDiffVJP{true}},Base.OneTo{Int64},UnitRange{Int64},LinearAlgebra.UniformScaling{Bool},Bool,Nothing,Nothing,Nothing,Nothing,Bool,Array{Float32,1},StepRangeLen{Float32,Float64,Float64},Array{Float32,1},Base.RefValue{Int64},Int64,LinearAlgebra.UniformScaling{Bool}},Base.RefValue{Union{Nothing, Float32}}},DiffEqCallbacks.var\"#35#38\"{typeof(DiffEqBase.INITIALIZE_DEFAULT),Bool,DiffEqSensitivity.var\"#52#54\"{Base.RefValue{Int64},StepRangeLen{Float32,Float64,Float64}},Base.RefValue{Union{Nothing, Float32}},DiffEqCallbacks.var\"#34#37\"{DiffEqSensitivity.var\"#52#54\"{Base.RefValue{Int64},StepRangeLen{Float32,Float64,Float64}},DiffEqSensitivity.var\"#53#55\"{DiffEqSensitivity.var\"#df#78\"{Array{Float64,2},Array{Float32,1}},DiffEqSensitivity.InterpolatingAdjoint{0,true,Val{:central},DiffEqSensitivity.ReverseDiffVJP{true}},Base.OneTo{Int64},UnitRange{Int64},LinearAlgebra.UniformScaling{Bool},Bool,Nothing,Nothing,Nothing,Nothing,Bool,Array{Float32,1},StepRangeLen{Float32,Float64,Float64},Array{Float32,1},Base.RefValue{Int64},Int64,LinearAlgebra.UniformScaling{Bool}},Base.RefValue{Union{Nothing, Float32}}}}}}},Tuple{Symbol},NamedTuple{(:callback,),Tuple{CallbackSet{Tuple{},Tuple{DiscreteCallback{DiffEqCallbacks.var\"#33#36\"{Base.RefValue{Union{Nothing, Float32}}},DiffEqCallbacks.var\"#34#37\"{DiffEqSensitivity.var\"#52#54\"{Base.RefValue{Int64},StepRangeLen{Float32,Float64,Float64}},DiffEqSensitivity.var\"#53#55\"{DiffEqSensitivity.var\"#df#78\"{Array{Float64,2},Array{Float32,1}},DiffEqSensitivity.InterpolatingAdjoint{0,true,Val{:central},DiffEqSensitivity.ReverseDiffVJP{true}},Base.OneTo{Int64},UnitRange{Int64},LinearAlgebra.UniformScaling{Bool},Bool,Nothing,Nothing,Nothing,Nothing,Bool,Array{Float32,1},StepRangeLen{Float32,Float64,Float64},Array{Float32,1},Base.RefValue{Int64},Int64,LinearAlgebra.UniformScaling{Bool}},Base.RefValue{Union{Nothing, Float32}}},DiffEqCallbacks.var\"#35#38\"{typeof(DiffEqBase.INITIALIZE_DEFAULT),Bool,DiffEqSensitivity.var\"#52#54\"{Base.RefValue{Int64},StepRangeLen{Float32,Float64,Float64}},Base.RefValue{Union{Nothing, Float32}},DiffEqCallbacks.var\"#34#37\"{DiffEqSensitivity.var\"#52#54\"{Base.RefValue{Int64},StepRangeLen{Float32,Float64,Float64}},DiffEqSensitivity.var\"#53#55\"{DiffEqSensitivity.var\"#df#78\"{Array{Float64,2},Array{Float32,1}},DiffEqSensitivity.InterpolatingAdjoint{0,true,Val{:central},DiffEqSensitivity.ReverseDiffVJP{true}},Base.OneTo{Int64},UnitRange{Int64},LinearAlgebra.UniformScaling{Bool},Bool,Nothing,Nothing,Nothing,Nothing,Bool,Array{Float32,1},StepRangeLen{Float32,Float64,Float64},Array{Float32,1},Base.RefValue{Int64},Int64,LinearAlgebra.UniformScaling{Bool}},Base.RefValue{Union{Nothing, Float32}}}}}}}}}},DiffEqBase.StandardODEProblem},Tsit5,OrdinaryDiffEq.InterpolationData{ODEFunction{true,DiffEqSensitivity.ODEInterpolatingAdjointSensitivityFunction{DiffEqSensitivity.AdjointDiffCache{Nothing,Nothing,Nothing,Nothing,Nothing,Array{Float32,1},Nothing,Nothing,ReverseDiff.CompiledTape{ReverseDiff.GradientTape{DiffEqSensitivity.var\"#48#51\"{ODEFunction{false,DiffEqFlux.var\"#dudt_#92\"{NeuralODE{FastChain{Tuple{var\"#18#19\",FastDense{typeof(tanh),DiffEqFlux.var\"#initial_params#75\"{typeof(Flux.glorot_uniform),typeof(Flux.zeros),Int64,Int64}},FastDense{typeof(tanh),DiffEqFlux.var\"#initial_params#75\"{typeof(Flux.glorot_uniform),typeof(Flux.zeros),Int64,Int64}},FastDense{typeof(identity),DiffEqFlux.var\"#initial_params#75\"{typeof(Flux.glorot_uniform),typeof(Flux.zeros),Int64,Int64}}}},Array{Float32,1},Nothing,Tuple{Float32,Float32},Tsit5,Tuple{},Base.Iterators.Pairs{Symbol,StepRangeLen{Float32,Float64,Float64},Tuple{Symbol},NamedTuple{(:saveat,),Tuple{StepRangeLen{Float32,Float64,Float64}}}}}},LinearAlgebra.UniformScaling{Bool},Nothing,Nothing,Nothing,Nothing,Nothing,Nothing,Nothing,Nothing,Nothing,Nothing,Nothing}},Tuple{ReverseDiff.TrackedArray{Float32,Float32,1,Array{Float32,1},Array{Float32,1}},ReverseDiff.TrackedArray{Float32,Float32,1,Array{Float32,1},Array{Float32,1}},ReverseDiff.TrackedArray{Float32,Float32,1,Array{Float32,1},Array{Float32,1}}},Array{ReverseDiff.TrackedReal{Float32,Float32,Nothing},1}}},Nothing,Nothing,Base.OneTo{Int64},UnitRange{Int64},LinearAlgebra.UniformScaling{Bool}},DiffEqSensitivity.InterpolatingAdjoint{0,true,Val{:central},DiffEqSensitivity.ReverseDiffVJP{true}},Array{Float32,1},ODESolution{Float32,2,Array{Array{Float32,1},1},Nothing,Nothing,Array{Float32,1},Array{Array{Array{Float32,1},1},1},ODEProblem{Array{Float32,1},Tuple{Float32,Float32},false,Array{Float32,1},ODEFunction{false,DiffEqFlux.var\"#dudt_#92\"{NeuralODE{FastChain{Tuple{var\"#18#19\",FastDense{typeof(tanh),DiffEqFlux.var\"#initial_params#75\"{typeof(Flux.glorot_uniform),typeof(Flux.zeros),Int64,Int64}},FastDense{typeof(tanh),DiffEqFlux.var\"#initial_params#75\"{typeof(Flux.glorot_uniform),typeof(Flux.zeros),Int64,Int64}},FastDense{typeof(identity),DiffEqFlux.var\"#initial_params#75\"{typeof(Flux.glorot_uniform),typeof(Flux.zeros),Int64,Int64}}}},Array{Float32,1},Nothing,Tuple{Float32,Float32},Tsit5,Tuple{},Base.Iterators.Pairs{Symbol,StepRangeLen{Float32,Float64,Float64},Tuple{Symbol},NamedTuple{(:saveat,),Tuple{StepRangeLen{Float32,Float64,Float64}}}}}},LinearAlgebra.UniformScaling{Bool},Nothing,Nothing,Nothing,Nothing,Nothing,Nothing,Nothing,Nothing,Nothing,Nothing,Nothing},Base.Iterators.Pairs{Union{},Union{},Tuple{},NamedTuple{(),Tuple{}}},DiffEqBase.StandardODEProblem},Tsit5,OrdinaryDiffEq.InterpolationData{ODEFunction{false,DiffEqFlux.var\"#dudt_#92\"{NeuralODE{FastChain{Tuple{var\"#18#19\",FastDense{typeof(tanh),DiffEqFlux.var\"#initial_params#75\"{typeof(Flux.glorot_uniform),typeof(Flux.zeros),Int64,Int64}},FastDense{typeof(tanh),DiffEqFlux.var\"#initial_params#75\"{typeof(Flux.glorot_uniform),typeof(Flux.zeros),Int64,Int64}},FastDense{typeof(identity),DiffEqFlux.var\"#initial_params#75\"{typeof(Flux.glorot_uniform),typeof(Flux.zeros),Int64,Int64}}}},Array{Float32,1},Nothing,Tuple{Float32,Float32},Tsit5,Tuple{},Base.Iterators.Pairs{Symbol,StepRangeLen{Float32,Float64,Float64},Tuple{Symbol},NamedTuple{(:saveat,),Tuple{StepRangeLen{Float32,Float64,Float64}}}}}},LinearAlgebra.UniformScaling{Bool},Nothing,Nothing,Nothing,Nothing,Nothing,Nothing,Nothing,Nothing,Nothing,Nothing,Nothing},Array{Array{Float32,1},1},Array{Float32,1},Array{Array{Array{Float32,1},1},1},OrdinaryDiffEq.Tsit5ConstantCache{Float32,Float32}},DiffEqBase.DEStats},Nothing,Nothing},LinearAlgebra.UniformScaling{Bool},Nothing,Nothing,Nothing,Nothing,Nothing,Nothing,Nothing,Nothing,Nothing,Nothing,Nothing},Array{Array{Float32,1},1},Array{Float32,1},Array{Array{Array{Float32,1},1},1},OrdinaryDiffEq.Tsit5Cache{Array{Float32,1},Array{Float32,1},Array{Float32,1},OrdinaryDiffEq.Tsit5ConstantCache{Float32,Float32}}},DiffEqBase.DEStats},ODEFunction{true,DiffEqSensitivity.ODEInterpolatingAdjointSensitivityFunction{DiffEqSensitivity.AdjointDiffCache{Nothing,Nothing,Nothing,Nothing,Nothing,Array{Float32,1},Nothing,Nothing,ReverseDiff.CompiledTape{ReverseDiff.GradientTape{DiffEqSensitivity.var\"#48#51\"{ODEFunction{false,DiffEqFlux.var\"#dudt_#92\"{NeuralODE{FastChain{Tuple{var\"#18#19\",FastDense{typeof(tanh),DiffEqFlux.var\"#initial_params#75\"{typeof(Flux.glorot_uniform),typeof(Flux.zeros),Int64,Int64}},FastDense{typeof(tanh),DiffEqFlux.var\"#initial_params#75\"{typeof(Flux.glorot_uniform),typeof(Flux.zeros),Int64,Int64}},FastDense{typeof(identity),DiffEqFlux.var\"#initial_params#75\"{typeof(Flux.glorot_uniform),typeof(Flux.zeros),Int64,Int64}}}},Array{Float32,1},Nothing,Tuple{Float32,Float32},Tsit5,Tuple{},Base.Iterators.Pairs{Symbol,StepRangeLen{Float32,Float64,Float64},Tuple{Symbol},NamedTuple{(:saveat,),Tuple{StepRangeLen{Float32,Float64,Float64}}}}}},LinearAlgebra.UniformScaling{Bool},Nothing,Nothing,Nothing,Nothing,Nothing,Nothing,Nothing,Nothing,Nothing,Nothing,Nothing}},Tuple{ReverseDiff.TrackedArray{Float32,Float32,1,Array{Float32,1},Array{Float32,1}},ReverseDiff.TrackedArray{Float32,Float32,1,Array{Float32,1},Array{Float32,1}},ReverseDiff.TrackedArray{Float32,Float32,1,Array{Float32,1},Array{Float32,1}}},Array{ReverseDiff.TrackedReal{Float32,Float32,Nothing},1}}},Nothing,Nothing,Base.OneTo{Int64},UnitRange{Int64},LinearAlgebra.UniformScaling{Bool}},DiffEqSensitivity.InterpolatingAdjoint{0,true,Val{:central},DiffEqSensitivity.ReverseDiffVJP{true}},Array{Float32,1},ODESolution{Float32,2,Array{Array{Float32,1},1},Nothing,Nothing,Array{Float32,1},Array{Array{Array{Float32,1},1},1},ODEProblem{Array{Float32,1},Tuple{Float32,Float32},false,Array{Float32,1},ODEFunction{false,DiffEqFlux.var\"#dudt_#92\"{NeuralODE{FastChain{Tuple{var\"#18#19\",FastDense{typeof(tanh),DiffEqFlux.var\"#initial_params#75\"{typeof(Flux.glorot_uniform),typeof(Flux.zeros),Int64,Int64}},FastDense{typeof(tanh),DiffEqFlux.var\"#initial_params#75\"{typeof(Flux.glorot_uniform),typeof(Flux.zeros),Int64,Int64}},FastDense{typeof(identity),DiffEqFlux.var\"#initial_params#75\"{typeof(Flux.glorot_uniform),typeof(Flux.zeros),Int64,Int64}}}},Array{Float32,1},Nothing,Tuple{Float32,Float32},Tsit5,Tuple{},Base.Iterators.Pairs{Symbol,StepRangeLen{Float32,Float64,Float64},Tuple{Symbol},NamedTuple{(:saveat,),Tuple{StepRangeLen{Float32,Float64,Float64}}}}}},LinearAlgebra.UniformScaling{Bool},Nothing,Nothing,Nothing,Nothing,Nothing,Nothing,Nothing,Nothing,Nothing,Nothing,Nothing},Base.Iterators.Pairs{Union{},Union{},Tuple{},NamedTuple{(),Tuple{}}},DiffEqBase.StandardODEProblem},Tsit5,OrdinaryDiffEq.InterpolationData{ODEFunction{false,DiffEqFlux.var\"#dudt_#92\"{NeuralODE{FastChain{Tuple{var\"#18#19\",FastDense{typeof(tanh),DiffEqFlux.var\"#initial_params#75\"{typeof(Flux.glorot_uniform),typeof(Flux.zeros),Int64,Int64}},FastDense{typeof(tanh),DiffEqFlux.var\"#initial_params#75\"{typeof(Flux.glorot_uniform),typeof(Flux.zeros),Int64,Int64}},FastDense{typeof(identity),DiffEqFlux.var\"#initial_params#75\"{typeof(Flux.glorot_uniform),typeof(Flux.zeros),Int64,Int64}}}},Array{Float32,1},Nothing,Tuple{Float32,Float32},Tsit5,Tuple{},Base.Iterators.Pairs{Symbol,StepRangeLen{Float32,Float64,Float64},Tuple{Symbol},NamedTuple{(:saveat,),Tuple{StepRangeLen{Float32,Float64,Float64}}}}}},LinearAlgebra.UniformScaling{Bool},Nothing,Nothing,Nothing,Nothing,Nothing,Nothing,Nothing,Nothing,Nothing,Nothing,Nothing},Array{Array{Float32,1},1},Array{Float32,1},Array{Array{Array{Float32,1},1},1},OrdinaryDiffEq.Tsit5ConstantCache{Float32,Float32}},DiffEqBase.DEStats},Nothing,Nothing},LinearAlgebra.UniformScaling{Bool},Nothing,Nothing,Nothing,Nothing,Nothing,Nothing,Nothing,Nothing,Nothing,Nothing,Nothing},OrdinaryDiffEq.Tsit5Cache{Array{Float32,1},Array{Float32,1},Array{Float32,1},OrdinaryDiffEq.Tsit5ConstantCache{Float32,Float32}},OrdinaryDiffEq.DEOptions{Float64,Float64,Float32,Float32,typeof(DiffEqBase.ODE_DEFAULT_NORM),typeof(LinearAlgebra.opnorm),CallbackSet{Tuple{},Tuple{DiscreteCallback{DiffEqCallbacks.var\"#33#36\"{Base.RefValue{Union{Nothing, Float32}}},DiffEqCallbacks.var\"#34#37\"{DiffEqSensitivity.var\"#52#54\"{Base.RefValue{Int64},StepRangeLen{Float32,Float64,Float64}},DiffEqSensitivity.var\"#53#55\"{DiffEqSensitivity.var\"#df#78\"{Array{Float64,2},Array{Float32,1}},DiffEqSensitivity.InterpolatingAdjoint{0,true,Val{:central},DiffEqSensitivity.ReverseDiffVJP{true}},Base.OneTo{Int64},UnitRange{Int64},LinearAlgebra.UniformScaling{Bool},Bool,Nothing,Nothing,Nothing,Nothing,Bool,Array{Float32,1},StepRangeLen{Float32,Float64,Float64},Array{Float32,1},Base.RefValue{Int64},Int64,LinearAlgebra.UniformScaling{Bool}},Base.RefValue{Union{Nothing, Float32}}},DiffEqCallbacks.var\"#35#38\"{typeof(DiffEqBase.INITIALIZE_DEFAULT),Bool,DiffEqSensitivity.var\"#52#54\"{Base.RefValue{Int64},StepRangeLen{Float32,Float64,Float64}},Base.RefValue{Union{Nothing, Float32}},DiffEqCallbacks.var\"#34#37\"{DiffEqSensitivity.var\"#52#54\"{Base.RefValue{Int64},StepRangeLen{Float32,Float64,Float64}},DiffEqSensitivity.var\"#53#55\"{DiffEqSensitivity.var\"#df#78\"{Array{Float64,2},Array{Float32,1}},DiffEqSensitivity.InterpolatingAdjoint{0,true,Val{:central},DiffEqSensitivity.ReverseDiffVJP{true}},Base.OneTo{Int64},UnitRange{Int64},LinearAlgebra.UniformScaling{Bool},Bool,Nothing,Nothing,Nothing,Nothing,Bool,Array{Float32,1},StepRangeLen{Float32,Float64,Float64},Array{Float32,1},Base.RefValue{Int64},Int64,LinearAlgebra.UniformScaling{Bool}},Base.RefValue{Union{Nothing, Float32}}}}}}},typeof(DiffEqBase.ODE_DEFAULT_ISOUTOFDOMAIN),typeof(DiffEqBase.ODE_DEFAULT_PROG_MESSAGE),typeof(DiffEqBase.ODE_DEFAULT_UNSTABLE_CHECK),DataStructures.BinaryHeap{Float32,DataStructures.LessThan},DataStructures.BinaryHeap{Float32,DataStructures.LessThan},Nothing,Nothing,Int64,Array{Float32,1},Array{Float32,1},Array{Float32,1}},Array{Float32,1},Float32,Nothing,OrdinaryDiffEq.DefaultInit}) at /home/tianbai/.julia/packages/OrdinaryDiffEq/z9kDO/src/solve.jl:424",
      " [21] #__solve#376 at /home/tianbai/.julia/packages/OrdinaryDiffEq/z9kDO/src/solve.jl:5 [inlined]",
      " [22] (::DiffEqBase.var\"#kw##__solve\")(::NamedTuple{(:callback, :save_everystep, :save_start, :saveat, :tstops, :abstol, :reltol),Tuple{CallbackSet{Tuple{},Tuple{DiscreteCallback{DiffEqCallbacks.var\"#33#36\"{Base.RefValue{Union{Nothing, Float32}}},DiffEqCallbacks.var\"#34#37\"{DiffEqSensitivity.var\"#52#54\"{Base.RefValue{Int64},StepRangeLen{Float32,Float64,Float64}},DiffEqSensitivity.var\"#53#55\"{DiffEqSensitivity.var\"#df#78\"{Array{Float64,2},Array{Float32,1}},DiffEqSensitivity.InterpolatingAdjoint{0,true,Val{:central},DiffEqSensitivity.ReverseDiffVJP{true}},Base.OneTo{Int64},UnitRange{Int64},LinearAlgebra.UniformScaling{Bool},Bool,Nothing,Nothing,Nothing,Nothing,Bool,Array{Float32,1},StepRangeLen{Float32,Float64,Float64},Array{Float32,1},Base.RefValue{Int64},Int64,LinearAlgebra.UniformScaling{Bool}},Base.RefValue{Union{Nothing, Float32}}},DiffEqCallbacks.var\"#35#38\"{typeof(DiffEqBase.INITIALIZE_DEFAULT),Bool,DiffEqSensitivity.var\"#52#54\"{Base.RefValue{Int64},StepRangeLen{Float32,Float64,Float64}},Base.RefValue{Union{Nothing, Float32}},DiffEqCallbacks.var\"#34#37\"{DiffEqSensitivity.var\"#52#54\"{Base.RefValue{Int64},StepRangeLen{Float32,Float64,Float64}},DiffEqSensitivity.var\"#53#55\"{DiffEqSensitivity.var\"#df#78\"{Array{Float64,2},Array{Float32,1}},DiffEqSensitivity.InterpolatingAdjoint{0,true,Val{:central},DiffEqSensitivity.ReverseDiffVJP{true}},Base.OneTo{Int64},UnitRange{Int64},LinearAlgebra.UniformScaling{Bool},Bool,Nothing,Nothing,Nothing,Nothing,Bool,Array{Float32,1},StepRangeLen{Float32,Float64,Float64},Array{Float32,1},Base.RefValue{Int64},Int64,LinearAlgebra.UniformScaling{Bool}},Base.RefValue{Union{Nothing, Float32}}}}}}},Bool,Bool,Array{Float32,1},Array{Float32,1},Float64,Float64}}, ::typeof(DiffEqBase.__solve), ::ODEProblem{Array{Float32,1},Tuple{Float32,Float32},true,Array{Float32,1},ODEFunction{true,DiffEqSensitivity.ODEInterpolatingAdjointSensitivityFunction{DiffEqSensitivity.AdjointDiffCache{Nothing,Nothing,Nothing,Nothing,Nothing,Array{Float32,1},Nothing,Nothing,ReverseDiff.CompiledTape{ReverseDiff.GradientTape{DiffEqSensitivity.var\"#48#51\"{ODEFunction{false,DiffEqFlux.var\"#dudt_#92\"{NeuralODE{FastChain{Tuple{var\"#18#19\",FastDense{typeof(tanh),DiffEqFlux.var\"#initial_params#75\"{typeof(Flux.glorot_uniform),typeof(Flux.zeros),Int64,Int64}},FastDense{typeof(tanh),DiffEqFlux.var\"#initial_params#75\"{typeof(Flux.glorot_uniform),typeof(Flux.zeros),Int64,Int64}},FastDense{typeof(identity),DiffEqFlux.var\"#initial_params#75\"{typeof(Flux.glorot_uniform),typeof(Flux.zeros),Int64,Int64}}}},Array{Float32,1},Nothing,Tuple{Float32,Float32},Tsit5,Tuple{},Base.Iterators.Pairs{Symbol,StepRangeLen{Float32,Float64,Float64},Tuple{Symbol},NamedTuple{(:saveat,),Tuple{StepRangeLen{Float32,Float64,Float64}}}}}},LinearAlgebra.UniformScaling{Bool},Nothing,Nothing,Nothing,Nothing,Nothing,Nothing,Nothing,Nothing,Nothing,Nothing,Nothing}},Tuple{ReverseDiff.TrackedArray{Float32,Float32,1,Array{Float32,1},Array{Float32,1}},ReverseDiff.TrackedArray{Float32,Float32,1,Array{Float32,1},Array{Float32,1}},ReverseDiff.TrackedArray{Float32,Float32,1,Array{Float32,1},Array{Float32,1}}},Array{ReverseDiff.TrackedReal{Float32,Float32,Nothing},1}}},Nothing,Nothing,Base.OneTo{Int64},UnitRange{Int64},LinearAlgebra.UniformScaling{Bool}},DiffEqSensitivity.InterpolatingAdjoint{0,true,Val{:central},DiffEqSensitivity.ReverseDiffVJP{true}},Array{Float32,1},ODESolution{Float32,2,Array{Array{Float32,1},1},Nothing,Nothing,Array{Float32,1},Array{Array{Array{Float32,1},1},1},ODEProblem{Array{Float32,1},Tuple{Float32,Float32},false,Array{Float32,1},ODEFunction{false,DiffEqFlux.var\"#dudt_#92\"{NeuralODE{FastChain{Tuple{var\"#18#19\",FastDense{typeof(tanh),DiffEqFlux.var\"#initial_params#75\"{typeof(Flux.glorot_uniform),typeof(Flux.zeros),Int64,Int64}},FastDense{typeof(tanh),DiffEqFlux.var\"#initial_params#75\"{typeof(Flux.glorot_uniform),typeof(Flux.zeros),Int64,Int64}},FastDense{typeof(identity),DiffEqFlux.var\"#initial_params#75\"{typeof(Flux.glorot_uniform),typeof(Flux.zeros),Int64,Int64}}}},Array{Float32,1},Nothing,Tuple{Float32,Float32},Tsit5,Tuple{},Base.Iterators.Pairs{Symbol,StepRangeLen{Float32,Float64,Float64},Tuple{Symbol},NamedTuple{(:saveat,),Tuple{StepRangeLen{Float32,Float64,Float64}}}}}},LinearAlgebra.UniformScaling{Bool},Nothing,Nothing,Nothing,Nothing,Nothing,Nothing,Nothing,Nothing,Nothing,Nothing,Nothing},Base.Iterators.Pairs{Union{},Union{},Tuple{},NamedTuple{(),Tuple{}}},DiffEqBase.StandardODEProblem},Tsit5,OrdinaryDiffEq.InterpolationData{ODEFunction{false,DiffEqFlux.var\"#dudt_#92\"{NeuralODE{FastChain{Tuple{var\"#18#19\",FastDense{typeof(tanh),DiffEqFlux.var\"#initial_params#75\"{typeof(Flux.glorot_uniform),typeof(Flux.zeros),Int64,Int64}},FastDense{typeof(tanh),DiffEqFlux.var\"#initial_params#75\"{typeof(Flux.glorot_uniform),typeof(Flux.zeros),Int64,Int64}},FastDense{typeof(identity),DiffEqFlux.var\"#initial_params#75\"{typeof(Flux.glorot_uniform),typeof(Flux.zeros),Int64,Int64}}}},Array{Float32,1},Nothing,Tuple{Float32,Float32},Tsit5,Tuple{},Base.Iterators.Pairs{Symbol,StepRangeLen{Float32,Float64,Float64},Tuple{Symbol},NamedTuple{(:saveat,),Tuple{StepRangeLen{Float32,Float64,Float64}}}}}},LinearAlgebra.UniformScaling{Bool},Nothing,Nothing,Nothing,Nothing,Nothing,Nothing,Nothing,Nothing,Nothing,Nothing,Nothing},Array{Array{Float32,1},1},Array{Float32,1},Array{Array{Array{Float32,1},1},1},OrdinaryDiffEq.Tsit5ConstantCache{Float32,Float32}},DiffEqBase.DEStats},Nothing,Nothing},LinearAlgebra.UniformScaling{Bool},Nothing,Nothing,Nothing,Nothing,Nothing,Nothing,Nothing,Nothing,Nothing,Nothing,Nothing},Base.Iterators.Pairs{Symbol,CallbackSet{Tuple{},Tuple{DiscreteCallback{DiffEqCallbacks.var\"#33#36\"{Base.RefValue{Union{Nothing, Float32}}},DiffEqCallbacks.var\"#34#37\"{DiffEqSensitivity.var\"#52#54\"{Base.RefValue{Int64},StepRangeLen{Float32,Float64,Float64}},DiffEqSensitivity.var\"#53#55\"{DiffEqSensitivity.var\"#df#78\"{Array{Float64,2},Array{Float32,1}},DiffEqSensitivity.InterpolatingAdjoint{0,true,Val{:central},DiffEqSensitivity.ReverseDiffVJP{true}},Base.OneTo{Int64},UnitRange{Int64},LinearAlgebra.UniformScaling{Bool},Bool,Nothing,Nothing,Nothing,Nothing,Bool,Array{Float32,1},StepRangeLen{Float32,Float64,Float64},Array{Float32,1},Base.RefValue{Int64},Int64,LinearAlgebra.UniformScaling{Bool}},Base.RefValue{Union{Nothing, Float32}}},DiffEqCallbacks.var\"#35#38\"{typeof(DiffEqBase.INITIALIZE_DEFAULT),Bool,DiffEqSensitivity.var\"#52#54\"{Base.RefValue{Int64},StepRangeLen{Float32,Float64,Float64}},Base.RefValue{Union{Nothing, Float32}},DiffEqCallbacks.var\"#34#37\"{DiffEqSensitivity.var\"#52#54\"{Base.RefValue{Int64},StepRangeLen{Float32,Float64,Float64}},DiffEqSensitivity.var\"#53#55\"{DiffEqSensitivity.var\"#df#78\"{Array{Float64,2},Array{Float32,1}},DiffEqSensitivity.InterpolatingAdjoint{0,true,Val{:central},DiffEqSensitivity.ReverseDiffVJP{true}},Base.OneTo{Int64},UnitRange{Int64},LinearAlgebra.UniformScaling{Bool},Bool,Nothing,Nothing,Nothing,Nothing,Bool,Array{Float32,1},StepRangeLen{Float32,Float64,Float64},Array{Float32,1},Base.RefValue{Int64},Int64,LinearAlgebra.UniformScaling{Bool}},Base.RefValue{Union{Nothing, Float32}}}}}}},Tuple{Symbol},NamedTuple{(:callback,),Tuple{CallbackSet{Tuple{},Tuple{DiscreteCallback{DiffEqCallbacks.var\"#33#36\"{Base.RefValue{Union{Nothing, Float32}}},DiffEqCallbacks.var\"#34#37\"{DiffEqSensitivity.var\"#52#54\"{Base.RefValue{Int64},StepRangeLen{Float32,Float64,Float64}},DiffEqSensitivity.var\"#53#55\"{DiffEqSensitivity.var\"#df#78\"{Array{Float64,2},Array{Float32,1}},DiffEqSensitivity.InterpolatingAdjoint{0,true,Val{:central},DiffEqSensitivity.ReverseDiffVJP{true}},Base.OneTo{Int64},UnitRange{Int64},LinearAlgebra.UniformScaling{Bool},Bool,Nothing,Nothing,Nothing,Nothing,Bool,Array{Float32,1},StepRangeLen{Float32,Float64,Float64},Array{Float32,1},Base.RefValue{Int64},Int64,LinearAlgebra.UniformScaling{Bool}},Base.RefValue{Union{Nothing, Float32}}},DiffEqCallbacks.var\"#35#38\"{typeof(DiffEqBase.INITIALIZE_DEFAULT),Bool,DiffEqSensitivity.var\"#52#54\"{Base.RefValue{Int64},StepRangeLen{Float32,Float64,Float64}},Base.RefValue{Union{Nothing, Float32}},DiffEqCallbacks.var\"#34#37\"{DiffEqSensitivity.var\"#52#54\"{Base.RefValue{Int64},StepRangeLen{Float32,Float64,Float64}},DiffEqSensitivity.var\"#53#55\"{DiffEqSensitivity.var\"#df#78\"{Array{Float64,2},Array{Float32,1}},DiffEqSensitivity.InterpolatingAdjoint{0,true,Val{:central},DiffEqSensitivity.ReverseDiffVJP{true}},Base.OneTo{Int64},UnitRange{Int64},LinearAlgebra.UniformScaling{Bool},Bool,Nothing,Nothing,Nothing,Nothing,Bool,Array{Float32,1},StepRangeLen{Float32,Float64,Float64},Array{Float32,1},Base.RefValue{Int64},Int64,LinearAlgebra.UniformScaling{Bool}},Base.RefValue{Union{Nothing, Float32}}}}}}}}}},DiffEqBase.StandardODEProblem}, ::Tsit5) at ./none:0",
      " [23] (::DiffEqBase.var\"#468#469\"{ODEProblem{Array{Float32,1},Tuple{Float32,Float32},true,Array{Float32,1},ODEFunction{true,DiffEqSensitivity.ODEInterpolatingAdjointSensitivityFunction{DiffEqSensitivity.AdjointDiffCache{Nothing,Nothing,Nothing,Nothing,Nothing,Array{Float32,1},Nothing,Nothing,ReverseDiff.CompiledTape{ReverseDiff.GradientTape{DiffEqSensitivity.var\"#48#51\"{ODEFunction{false,DiffEqFlux.var\"#dudt_#92\"{NeuralODE{FastChain{Tuple{var\"#18#19\",FastDense{typeof(tanh),DiffEqFlux.var\"#initial_params#75\"{typeof(Flux.glorot_uniform),typeof(Flux.zeros),Int64,Int64}},FastDense{typeof(tanh),DiffEqFlux.var\"#initial_params#75\"{typeof(Flux.glorot_uniform),typeof(Flux.zeros),Int64,Int64}},FastDense{typeof(identity),DiffEqFlux.var\"#initial_params#75\"{typeof(Flux.glorot_uniform),typeof(Flux.zeros),Int64,Int64}}}},Array{Float32,1},Nothing,Tuple{Float32,Float32},Tsit5,Tuple{},Base.Iterators.Pairs{Symbol,StepRangeLen{Float32,Float64,Float64},Tuple{Symbol},NamedTuple{(:saveat,),Tuple{StepRangeLen{Float32,Float64,Float64}}}}}},LinearAlgebra.UniformScaling{Bool},Nothing,Nothing,Nothing,Nothing,Nothing,Nothing,Nothing,Nothing,Nothing,Nothing,Nothing}},Tuple{ReverseDiff.TrackedArray{Float32,Float32,1,Array{Float32,1},Array{Float32,1}},ReverseDiff.TrackedArray{Float32,Float32,1,Array{Float32,1},Array{Float32,1}},ReverseDiff.TrackedArray{Float32,Float32,1,Array{Float32,1},Array{Float32,1}}},Array{ReverseDiff.TrackedReal{Float32,Float32,Nothing},1}}},Nothing,Nothing,Base.OneTo{Int64},UnitRange{Int64},LinearAlgebra.UniformScaling{Bool}},DiffEqSensitivity.InterpolatingAdjoint{0,true,Val{:central},DiffEqSensitivity.ReverseDiffVJP{true}},Array{Float32,1},ODESolution{Float32,2,Array{Array{Float32,1},1},Nothing,Nothing,Array{Float32,1},Array{Array{Array{Float32,1},1},1},ODEProblem{Array{Float32,1},Tuple{Float32,Float32},false,Array{Float32,1},ODEFunction{false,DiffEqFlux.var\"#dudt_#92\"{NeuralODE{FastChain{Tuple{var\"#18#19\",FastDense{typeof(tanh),DiffEqFlux.var\"#initial_params#75\"{typeof(Flux.glorot_uniform),typeof(Flux.zeros),Int64,Int64}},FastDense{typeof(tanh),DiffEqFlux.var\"#initial_params#75\"{typeof(Flux.glorot_uniform),typeof(Flux.zeros),Int64,Int64}},FastDense{typeof(identity),DiffEqFlux.var\"#initial_params#75\"{typeof(Flux.glorot_uniform),typeof(Flux.zeros),Int64,Int64}}}},Array{Float32,1},Nothing,Tuple{Float32,Float32},Tsit5,Tuple{},Base.Iterators.Pairs{Symbol,StepRangeLen{Float32,Float64,Float64},Tuple{Symbol},NamedTuple{(:saveat,),Tuple{StepRangeLen{Float32,Float64,Float64}}}}}},LinearAlgebra.UniformScaling{Bool},Nothing,Nothing,Nothing,Nothing,Nothing,Nothing,Nothing,Nothing,Nothing,Nothing,Nothing},Base.Iterators.Pairs{Union{},Union{},Tuple{},NamedTuple{(),Tuple{}}},DiffEqBase.StandardODEProblem},Tsit5,OrdinaryDiffEq.InterpolationData{ODEFunction{false,DiffEqFlux.var\"#dudt_#92\"{NeuralODE{FastChain{Tuple{var\"#18#19\",FastDense{typeof(tanh),DiffEqFlux.var\"#initial_params#75\"{typeof(Flux.glorot_uniform),typeof(Flux.zeros),Int64,Int64}},FastDense{typeof(tanh),DiffEqFlux.var\"#initial_params#75\"{typeof(Flux.glorot_uniform),typeof(Flux.zeros),Int64,Int64}},FastDense{typeof(identity),DiffEqFlux.var\"#initial_params#75\"{typeof(Flux.glorot_uniform),typeof(Flux.zeros),Int64,Int64}}}},Array{Float32,1},Nothing,Tuple{Float32,Float32},Tsit5,Tuple{},Base.Iterators.Pairs{Symbol,StepRangeLen{Float32,Float64,Float64},Tuple{Symbol},NamedTuple{(:saveat,),Tuple{StepRangeLen{Float32,Float64,Float64}}}}}},LinearAlgebra.UniformScaling{Bool},Nothing,Nothing,Nothing,Nothing,Nothing,Nothing,Nothing,Nothing,Nothing,Nothing,Nothing},Array{Array{Float32,1},1},Array{Float32,1},Array{Array{Array{Float32,1},1},1},OrdinaryDiffEq.Tsit5ConstantCache{Float32,Float32}},DiffEqBase.DEStats},Nothing,Nothing},LinearAlgebra.UniformScaling{Bool},Nothing,Nothing,Nothing,Nothing,Nothing,Nothing,Nothing,Nothing,Nothing,Nothing,Nothing},Base.Iterators.Pairs{Symbol,CallbackSet{Tuple{},Tuple{DiscreteCallback{DiffEqCallbacks.var\"#33#36\"{Base.RefValue{Union{Nothing, Float32}}},DiffEqCallbacks.var\"#34#37\"{DiffEqSensitivity.var\"#52#54\"{Base.RefValue{Int64},StepRangeLen{Float32,Float64,Float64}},DiffEqSensitivity.var\"#53#55\"{DiffEqSensitivity.var\"#df#78\"{Array{Float64,2},Array{Float32,1}},DiffEqSensitivity.InterpolatingAdjoint{0,true,Val{:central},DiffEqSensitivity.ReverseDiffVJP{true}},Base.OneTo{Int64},UnitRange{Int64},LinearAlgebra.UniformScaling{Bool},Bool,Nothing,Nothing,Nothing,Nothing,Bool,Array{Float32,1},StepRangeLen{Float32,Float64,Float64},Array{Float32,1},Base.RefValue{Int64},Int64,LinearAlgebra.UniformScaling{Bool}},Base.RefValue{Union{Nothing, Float32}}},DiffEqCallbacks.var\"#35#38\"{typeof(DiffEqBase.INITIALIZE_DEFAULT),Bool,DiffEqSensitivity.var\"#52#54\"{Base.RefValue{Int64},StepRangeLen{Float32,Float64,Float64}},Base.RefValue{Union{Nothing, Float32}},DiffEqCallbacks.var\"#34#37\"{DiffEqSensitivity.var\"#52#54\"{Base.RefValue{Int64},StepRangeLen{Float32,Float64,Float64}},DiffEqSensitivity.var\"#53#55\"{DiffEqSensitivity.var\"#df#78\"{Array{Float64,2},Array{Float32,1}},DiffEqSensitivity.InterpolatingAdjoint{0,true,Val{:central},DiffEqSensitivity.ReverseDiffVJP{true}},Base.OneTo{Int64},UnitRange{Int64},LinearAlgebra.UniformScaling{Bool},Bool,Nothing,Nothing,Nothing,Nothing,Bool,Array{Float32,1},StepRangeLen{Float32,Float64,Float64},Array{Float32,1},Base.RefValue{Int64},Int64,LinearAlgebra.UniformScaling{Bool}},Base.RefValue{Union{Nothing, Float32}}}}}}},Tuple{Symbol},NamedTuple{(:callback,),Tuple{CallbackSet{Tuple{},Tuple{DiscreteCallback{DiffEqCallbacks.var\"#33#36\"{Base.RefValue{Union{Nothing, Float32}}},DiffEqCallbacks.var\"#34#37\"{DiffEqSensitivity.var\"#52#54\"{Base.RefValue{Int64},StepRangeLen{Float32,Float64,Float64}},DiffEqSensitivity.var\"#53#55\"{DiffEqSensitivity.var\"#df#78\"{Array{Float64,2},Array{Float32,1}},DiffEqSensitivity.InterpolatingAdjoint{0,true,Val{:central},DiffEqSensitivity.ReverseDiffVJP{true}},Base.OneTo{Int64},UnitRange{Int64},LinearAlgebra.UniformScaling{Bool},Bool,Nothing,Nothing,Nothing,Nothing,Bool,Array{Float32,1},StepRangeLen{Float32,Float64,Float64},Array{Float32,1},Base.RefValue{Int64},Int64,LinearAlgebra.UniformScaling{Bool}},Base.RefValue{Union{Nothing, Float32}}},DiffEqCallbacks.var\"#35#38\"{typeof(DiffEqBase.INITIALIZE_DEFAULT),Bool,DiffEqSensitivity.var\"#52#54\"{Base.RefValue{Int64},StepRangeLen{Float32,Float64,Float64}},Base.RefValue{Union{Nothing, Float32}},DiffEqCallbacks.var\"#34#37\"{DiffEqSensitivity.var\"#52#54\"{Base.RefValue{Int64},StepRangeLen{Float32,Float64,Float64}},DiffEqSensitivity.var\"#53#55\"{DiffEqSensitivity.var\"#df#78\"{Array{Float64,2},Array{Float32,1}},DiffEqSensitivity.InterpolatingAdjoint{0,true,Val{:central},DiffEqSensitivity.ReverseDiffVJP{true}},Base.OneTo{Int64},UnitRange{Int64},LinearAlgebra.UniformScaling{Bool},Bool,Nothing,Nothing,Nothing,Nothing,Bool,Array{Float32,1},StepRangeLen{Float32,Float64,Float64},Array{Float32,1},Base.RefValue{Int64},Int64,LinearAlgebra.UniformScaling{Bool}},Base.RefValue{Union{Nothing, Float32}}}}}}}}}},DiffEqBase.StandardODEProblem},Tuple{Tsit5}})() at /home/tianbai/.julia/packages/DiffEqBase/Lxno7/src/solve.jl:49",
      " [24] maybe_with_logger at /home/tianbai/.julia/packages/DiffEqBase/Lxno7/src/utils.jl:259 [inlined]",
      " [25] #solve_call#467(::Bool, ::Base.Iterators.Pairs{Symbol,Any,NTuple{6,Symbol},NamedTuple{(:save_everystep, :save_start, :saveat, :tstops, :abstol, :reltol),Tuple{Bool,Bool,Array{Float32,1},Array{Float32,1},Float64,Float64}}}, ::typeof(DiffEqBase.solve_call), ::ODEProblem{Array{Float32,1},Tuple{Float32,Float32},true,Array{Float32,1},ODEFunction{true,DiffEqSensitivity.ODEInterpolatingAdjointSensitivityFunction{DiffEqSensitivity.AdjointDiffCache{Nothing,Nothing,Nothing,Nothing,Nothing,Array{Float32,1},Nothing,Nothing,ReverseDiff.CompiledTape{ReverseDiff.GradientTape{DiffEqSensitivity.var\"#48#51\"{ODEFunction{false,DiffEqFlux.var\"#dudt_#92\"{NeuralODE{FastChain{Tuple{var\"#18#19\",FastDense{typeof(tanh),DiffEqFlux.var\"#initial_params#75\"{typeof(Flux.glorot_uniform),typeof(Flux.zeros),Int64,Int64}},FastDense{typeof(tanh),DiffEqFlux.var\"#initial_params#75\"{typeof(Flux.glorot_uniform),typeof(Flux.zeros),Int64,Int64}},FastDense{typeof(identity),DiffEqFlux.var\"#initial_params#75\"{typeof(Flux.glorot_uniform),typeof(Flux.zeros),Int64,Int64}}}},Array{Float32,1},Nothing,Tuple{Float32,Float32},Tsit5,Tuple{},Base.Iterators.Pairs{Symbol,StepRangeLen{Float32,Float64,Float64},Tuple{Symbol},NamedTuple{(:saveat,),Tuple{StepRangeLen{Float32,Float64,Float64}}}}}},LinearAlgebra.UniformScaling{Bool},Nothing,Nothing,Nothing,Nothing,Nothing,Nothing,Nothing,Nothing,Nothing,Nothing,Nothing}},Tuple{ReverseDiff.TrackedArray{Float32,Float32,1,Array{Float32,1},Array{Float32,1}},ReverseDiff.TrackedArray{Float32,Float32,1,Array{Float32,1},Array{Float32,1}},ReverseDiff.TrackedArray{Float32,Float32,1,Array{Float32,1},Array{Float32,1}}},Array{ReverseDiff.TrackedReal{Float32,Float32,Nothing},1}}},Nothing,Nothing,Base.OneTo{Int64},UnitRange{Int64},LinearAlgebra.UniformScaling{Bool}},DiffEqSensitivity.InterpolatingAdjoint{0,true,Val{:central},DiffEqSensitivity.ReverseDiffVJP{true}},Array{Float32,1},ODESolution{Float32,2,Array{Array{Float32,1},1},Nothing,Nothing,Array{Float32,1},Array{Array{Array{Float32,1},1},1},ODEProblem{Array{Float32,1},Tuple{Float32,Float32},false,Array{Float32,1},ODEFunction{false,DiffEqFlux.var\"#dudt_#92\"{NeuralODE{FastChain{Tuple{var\"#18#19\",FastDense{typeof(tanh),DiffEqFlux.var\"#initial_params#75\"{typeof(Flux.glorot_uniform),typeof(Flux.zeros),Int64,Int64}},FastDense{typeof(tanh),DiffEqFlux.var\"#initial_params#75\"{typeof(Flux.glorot_uniform),typeof(Flux.zeros),Int64,Int64}},FastDense{typeof(identity),DiffEqFlux.var\"#initial_params#75\"{typeof(Flux.glorot_uniform),typeof(Flux.zeros),Int64,Int64}}}},Array{Float32,1},Nothing,Tuple{Float32,Float32},Tsit5,Tuple{},Base.Iterators.Pairs{Symbol,StepRangeLen{Float32,Float64,Float64},Tuple{Symbol},NamedTuple{(:saveat,),Tuple{StepRangeLen{Float32,Float64,Float64}}}}}},LinearAlgebra.UniformScaling{Bool},Nothing,Nothing,Nothing,Nothing,Nothing,Nothing,Nothing,Nothing,Nothing,Nothing,Nothing},Base.Iterators.Pairs{Union{},Union{},Tuple{},NamedTuple{(),Tuple{}}},DiffEqBase.StandardODEProblem},Tsit5,OrdinaryDiffEq.InterpolationData{ODEFunction{false,DiffEqFlux.var\"#dudt_#92\"{NeuralODE{FastChain{Tuple{var\"#18#19\",FastDense{typeof(tanh),DiffEqFlux.var\"#initial_params#75\"{typeof(Flux.glorot_uniform),typeof(Flux.zeros),Int64,Int64}},FastDense{typeof(tanh),DiffEqFlux.var\"#initial_params#75\"{typeof(Flux.glorot_uniform),typeof(Flux.zeros),Int64,Int64}},FastDense{typeof(identity),DiffEqFlux.var\"#initial_params#75\"{typeof(Flux.glorot_uniform),typeof(Flux.zeros),Int64,Int64}}}},Array{Float32,1},Nothing,Tuple{Float32,Float32},Tsit5,Tuple{},Base.Iterators.Pairs{Symbol,StepRangeLen{Float32,Float64,Float64},Tuple{Symbol},NamedTuple{(:saveat,),Tuple{StepRangeLen{Float32,Float64,Float64}}}}}},LinearAlgebra.UniformScaling{Bool},Nothing,Nothing,Nothing,Nothing,Nothing,Nothing,Nothing,Nothing,Nothing,Nothing,Nothing},Array{Array{Float32,1},1},Array{Float32,1},Array{Array{Array{Float32,1},1},1},OrdinaryDiffEq.Tsit5ConstantCache{Float32,Float32}},DiffEqBase.DEStats},Nothing,Nothing},LinearAlgebra.UniformScaling{Bool},Nothing,Nothing,Nothing,Nothing,Nothing,Nothing,Nothing,Nothing,Nothing,Nothing,Nothing},Base.Iterators.Pairs{Symbol,CallbackSet{Tuple{},Tuple{DiscreteCallback{DiffEqCallbacks.var\"#33#36\"{Base.RefValue{Union{Nothing, Float32}}},DiffEqCallbacks.var\"#34#37\"{DiffEqSensitivity.var\"#52#54\"{Base.RefValue{Int64},StepRangeLen{Float32,Float64,Float64}},DiffEqSensitivity.var\"#53#55\"{DiffEqSensitivity.var\"#df#78\"{Array{Float64,2},Array{Float32,1}},DiffEqSensitivity.InterpolatingAdjoint{0,true,Val{:central},DiffEqSensitivity.ReverseDiffVJP{true}},Base.OneTo{Int64},UnitRange{Int64},LinearAlgebra.UniformScaling{Bool},Bool,Nothing,Nothing,Nothing,Nothing,Bool,Array{Float32,1},StepRangeLen{Float32,Float64,Float64},Array{Float32,1},Base.RefValue{Int64},Int64,LinearAlgebra.UniformScaling{Bool}},Base.RefValue{Union{Nothing, Float32}}},DiffEqCallbacks.var\"#35#38\"{typeof(DiffEqBase.INITIALIZE_DEFAULT),Bool,DiffEqSensitivity.var\"#52#54\"{Base.RefValue{Int64},StepRangeLen{Float32,Float64,Float64}},Base.RefValue{Union{Nothing, Float32}},DiffEqCallbacks.var\"#34#37\"{DiffEqSensitivity.var\"#52#54\"{Base.RefValue{Int64},StepRangeLen{Float32,Float64,Float64}},DiffEqSensitivity.var\"#53#55\"{DiffEqSensitivity.var\"#df#78\"{Array{Float64,2},Array{Float32,1}},DiffEqSensitivity.InterpolatingAdjoint{0,true,Val{:central},DiffEqSensitivity.ReverseDiffVJP{true}},Base.OneTo{Int64},UnitRange{Int64},LinearAlgebra.UniformScaling{Bool},Bool,Nothing,Nothing,Nothing,Nothing,Bool,Array{Float32,1},StepRangeLen{Float32,Float64,Float64},Array{Float32,1},Base.RefValue{Int64},Int64,LinearAlgebra.UniformScaling{Bool}},Base.RefValue{Union{Nothing, Float32}}}}}}},Tuple{Symbol},NamedTuple{(:callback,),Tuple{CallbackSet{Tuple{},Tuple{DiscreteCallback{DiffEqCallbacks.var\"#33#36\"{Base.RefValue{Union{Nothing, Float32}}},DiffEqCallbacks.var\"#34#37\"{DiffEqSensitivity.var\"#52#54\"{Base.RefValue{Int64},StepRangeLen{Float32,Float64,Float64}},DiffEqSensitivity.var\"#53#55\"{DiffEqSensitivity.var\"#df#78\"{Array{Float64,2},Array{Float32,1}},DiffEqSensitivity.InterpolatingAdjoint{0,true,Val{:central},DiffEqSensitivity.ReverseDiffVJP{true}},Base.OneTo{Int64},UnitRange{Int64},LinearAlgebra.UniformScaling{Bool},Bool,Nothing,Nothing,Nothing,Nothing,Bool,Array{Float32,1},StepRangeLen{Float32,Float64,Float64},Array{Float32,1},Base.RefValue{Int64},Int64,LinearAlgebra.UniformScaling{Bool}},Base.RefValue{Union{Nothing, Float32}}},DiffEqCallbacks.var\"#35#38\"{typeof(DiffEqBase.INITIALIZE_DEFAULT),Bool,DiffEqSensitivity.var\"#52#54\"{Base.RefValue{Int64},StepRangeLen{Float32,Float64,Float64}},Base.RefValue{Union{Nothing, Float32}},DiffEqCallbacks.var\"#34#37\"{DiffEqSensitivity.var\"#52#54\"{Base.RefValue{Int64},StepRangeLen{Float32,Float64,Float64}},DiffEqSensitivity.var\"#53#55\"{DiffEqSensitivity.var\"#df#78\"{Array{Float64,2},Array{Float32,1}},DiffEqSensitivity.InterpolatingAdjoint{0,true,Val{:central},DiffEqSensitivity.ReverseDiffVJP{true}},Base.OneTo{Int64},UnitRange{Int64},LinearAlgebra.UniformScaling{Bool},Bool,Nothing,Nothing,Nothing,Nothing,Bool,Array{Float32,1},StepRangeLen{Float32,Float64,Float64},Array{Float32,1},Base.RefValue{Int64},Int64,LinearAlgebra.UniformScaling{Bool}},Base.RefValue{Union{Nothing, Float32}}}}}}}}}},DiffEqBase.StandardODEProblem}, ::Tsit5) at /home/tianbai/.julia/packages/DiffEqBase/Lxno7/src/solve.jl:48",
      " [26] (::DiffEqBase.var\"#kw##solve\")(::NamedTuple{(:save_everystep, :save_start, :saveat, :tstops, :abstol, :reltol),Tuple{Bool,Bool,Array{Float32,1},Array{Float32,1},Float64,Float64}}, ::typeof(solve), ::ODEProblem{Array{Float32,1},Tuple{Float32,Float32},true,Array{Float32,1},ODEFunction{true,DiffEqSensitivity.ODEInterpolatingAdjointSensitivityFunction{DiffEqSensitivity.AdjointDiffCache{Nothing,Nothing,Nothing,Nothing,Nothing,Array{Float32,1},Nothing,Nothing,ReverseDiff.CompiledTape{ReverseDiff.GradientTape{DiffEqSensitivity.var\"#48#51\"{ODEFunction{false,DiffEqFlux.var\"#dudt_#92\"{NeuralODE{FastChain{Tuple{var\"#18#19\",FastDense{typeof(tanh),DiffEqFlux.var\"#initial_params#75\"{typeof(Flux.glorot_uniform),typeof(Flux.zeros),Int64,Int64}},FastDense{typeof(tanh),DiffEqFlux.var\"#initial_params#75\"{typeof(Flux.glorot_uniform),typeof(Flux.zeros),Int64,Int64}},FastDense{typeof(identity),DiffEqFlux.var\"#initial_params#75\"{typeof(Flux.glorot_uniform),typeof(Flux.zeros),Int64,Int64}}}},Array{Float32,1},Nothing,Tuple{Float32,Float32},Tsit5,Tuple{},Base.Iterators.Pairs{Symbol,StepRangeLen{Float32,Float64,Float64},Tuple{Symbol},NamedTuple{(:saveat,),Tuple{StepRangeLen{Float32,Float64,Float64}}}}}},LinearAlgebra.UniformScaling{Bool},Nothing,Nothing,Nothing,Nothing,Nothing,Nothing,Nothing,Nothing,Nothing,Nothing,Nothing}},Tuple{ReverseDiff.TrackedArray{Float32,Float32,1,Array{Float32,1},Array{Float32,1}},ReverseDiff.TrackedArray{Float32,Float32,1,Array{Float32,1},Array{Float32,1}},ReverseDiff.TrackedArray{Float32,Float32,1,Array{Float32,1},Array{Float32,1}}},Array{ReverseDiff.TrackedReal{Float32,Float32,Nothing},1}}},Nothing,Nothing,Base.OneTo{Int64},UnitRange{Int64},LinearAlgebra.UniformScaling{Bool}},DiffEqSensitivity.InterpolatingAdjoint{0,true,Val{:central},DiffEqSensitivity.ReverseDiffVJP{true}},Array{Float32,1},ODESolution{Float32,2,Array{Array{Float32,1},1},Nothing,Nothing,Array{Float32,1},Array{Array{Array{Float32,1},1},1},ODEProblem{Array{Float32,1},Tuple{Float32,Float32},false,Array{Float32,1},ODEFunction{false,DiffEqFlux.var\"#dudt_#92\"{NeuralODE{FastChain{Tuple{var\"#18#19\",FastDense{typeof(tanh),DiffEqFlux.var\"#initial_params#75\"{typeof(Flux.glorot_uniform),typeof(Flux.zeros),Int64,Int64}},FastDense{typeof(tanh),DiffEqFlux.var\"#initial_params#75\"{typeof(Flux.glorot_uniform),typeof(Flux.zeros),Int64,Int64}},FastDense{typeof(identity),DiffEqFlux.var\"#initial_params#75\"{typeof(Flux.glorot_uniform),typeof(Flux.zeros),Int64,Int64}}}},Array{Float32,1},Nothing,Tuple{Float32,Float32},Tsit5,Tuple{},Base.Iterators.Pairs{Symbol,StepRangeLen{Float32,Float64,Float64},Tuple{Symbol},NamedTuple{(:saveat,),Tuple{StepRangeLen{Float32,Float64,Float64}}}}}},LinearAlgebra.UniformScaling{Bool},Nothing,Nothing,Nothing,Nothing,Nothing,Nothing,Nothing,Nothing,Nothing,Nothing,Nothing},Base.Iterators.Pairs{Union{},Union{},Tuple{},NamedTuple{(),Tuple{}}},DiffEqBase.StandardODEProblem},Tsit5,OrdinaryDiffEq.InterpolationData{ODEFunction{false,DiffEqFlux.var\"#dudt_#92\"{NeuralODE{FastChain{Tuple{var\"#18#19\",FastDense{typeof(tanh),DiffEqFlux.var\"#initial_params#75\"{typeof(Flux.glorot_uniform),typeof(Flux.zeros),Int64,Int64}},FastDense{typeof(tanh),DiffEqFlux.var\"#initial_params#75\"{typeof(Flux.glorot_uniform),typeof(Flux.zeros),Int64,Int64}},FastDense{typeof(identity),DiffEqFlux.var\"#initial_params#75\"{typeof(Flux.glorot_uniform),typeof(Flux.zeros),Int64,Int64}}}},Array{Float32,1},Nothing,Tuple{Float32,Float32},Tsit5,Tuple{},Base.Iterators.Pairs{Symbol,StepRangeLen{Float32,Float64,Float64},Tuple{Symbol},NamedTuple{(:saveat,),Tuple{StepRangeLen{Float32,Float64,Float64}}}}}},LinearAlgebra.UniformScaling{Bool},Nothing,Nothing,Nothing,Nothing,Nothing,Nothing,Nothing,Nothing,Nothing,Nothing,Nothing},Array{Array{Float32,1},1},Array{Float32,1},Array{Array{Array{Float32,1},1},1},OrdinaryDiffEq.Tsit5ConstantCache{Float32,Float32}},DiffEqBase.DEStats},Nothing,Nothing},LinearAlgebra.UniformScaling{Bool},Nothing,Nothing,Nothing,Nothing,Nothing,Nothing,Nothing,Nothing,Nothing,Nothing,Nothing},Base.Iterators.Pairs{Symbol,CallbackSet{Tuple{},Tuple{DiscreteCallback{DiffEqCallbacks.var\"#33#36\"{Base.RefValue{Union{Nothing, Float32}}},DiffEqCallbacks.var\"#34#37\"{DiffEqSensitivity.var\"#52#54\"{Base.RefValue{Int64},StepRangeLen{Float32,Float64,Float64}},DiffEqSensitivity.var\"#53#55\"{DiffEqSensitivity.var\"#df#78\"{Array{Float64,2},Array{Float32,1}},DiffEqSensitivity.InterpolatingAdjoint{0,true,Val{:central},DiffEqSensitivity.ReverseDiffVJP{true}},Base.OneTo{Int64},UnitRange{Int64},LinearAlgebra.UniformScaling{Bool},Bool,Nothing,Nothing,Nothing,Nothing,Bool,Array{Float32,1},StepRangeLen{Float32,Float64,Float64},Array{Float32,1},Base.RefValue{Int64},Int64,LinearAlgebra.UniformScaling{Bool}},Base.RefValue{Union{Nothing, Float32}}},DiffEqCallbacks.var\"#35#38\"{typeof(DiffEqBase.INITIALIZE_DEFAULT),Bool,DiffEqSensitivity.var\"#52#54\"{Base.RefValue{Int64},StepRangeLen{Float32,Float64,Float64}},Base.RefValue{Union{Nothing, Float32}},DiffEqCallbacks.var\"#34#37\"{DiffEqSensitivity.var\"#52#54\"{Base.RefValue{Int64},StepRangeLen{Float32,Float64,Float64}},DiffEqSensitivity.var\"#53#55\"{DiffEqSensitivity.var\"#df#78\"{Array{Float64,2},Array{Float32,1}},DiffEqSensitivity.InterpolatingAdjoint{0,true,Val{:central},DiffEqSensitivity.ReverseDiffVJP{true}},Base.OneTo{Int64},UnitRange{Int64},LinearAlgebra.UniformScaling{Bool},Bool,Nothing,Nothing,Nothing,Nothing,Bool,Array{Float32,1},StepRangeLen{Float32,Float64,Float64},Array{Float32,1},Base.RefValue{Int64},Int64,LinearAlgebra.UniformScaling{Bool}},Base.RefValue{Union{Nothing, Float32}}}}}}},Tuple{Symbol},NamedTuple{(:callback,),Tuple{CallbackSet{Tuple{},Tuple{DiscreteCallback{DiffEqCallbacks.var\"#33#36\"{Base.RefValue{Union{Nothing, Float32}}},DiffEqCallbacks.var\"#34#37\"{DiffEqSensitivity.var\"#52#54\"{Base.RefValue{Int64},StepRangeLen{Float32,Float64,Float64}},DiffEqSensitivity.var\"#53#55\"{DiffEqSensitivity.var\"#df#78\"{Array{Float64,2},Array{Float32,1}},DiffEqSensitivity.InterpolatingAdjoint{0,true,Val{:central},DiffEqSensitivity.ReverseDiffVJP{true}},Base.OneTo{Int64},UnitRange{Int64},LinearAlgebra.UniformScaling{Bool},Bool,Nothing,Nothing,Nothing,Nothing,Bool,Array{Float32,1},StepRangeLen{Float32,Float64,Float64},Array{Float32,1},Base.RefValue{Int64},Int64,LinearAlgebra.UniformScaling{Bool}},Base.RefValue{Union{Nothing, Float32}}},DiffEqCallbacks.var\"#35#38\"{typeof(DiffEqBase.INITIALIZE_DEFAULT),Bool,DiffEqSensitivity.var\"#52#54\"{Base.RefValue{Int64},StepRangeLen{Float32,Float64,Float64}},Base.RefValue{Union{Nothing, Float32}},DiffEqCallbacks.var\"#34#37\"{DiffEqSensitivity.var\"#52#54\"{Base.RefValue{Int64},StepRangeLen{Float32,Float64,Float64}},DiffEqSensitivity.var\"#53#55\"{DiffEqSensitivity.var\"#df#78\"{Array{Float64,2},Array{Float32,1}},DiffEqSensitivity.InterpolatingAdjoint{0,true,Val{:central},DiffEqSensitivity.ReverseDiffVJP{true}},Base.OneTo{Int64},UnitRange{Int64},LinearAlgebra.UniformScaling{Bool},Bool,Nothing,Nothing,Nothing,Nothing,Bool,Array{Float32,1},StepRangeLen{Float32,Float64,Float64},Array{Float32,1},Base.RefValue{Int64},Int64,LinearAlgebra.UniformScaling{Bool}},Base.RefValue{Union{Nothing, Float32}}}}}}}}}},DiffEqBase.StandardODEProblem}, ::Tsit5) at ./none:0",
      " [27] #_adjoint_sensitivities#17(::Float64, ::Float64, ::Array{Float32,1}, ::Base.Iterators.Pairs{Union{},Union{},Tuple{},NamedTuple{(),Tuple{}}}, ::typeof(DiffEqSensitivity._adjoint_sensitivities), ::ODESolution{Float32,2,Array{Array{Float32,1},1},Nothing,Nothing,Array{Float32,1},Array{Array{Array{Float32,1},1},1},ODEProblem{Array{Float32,1},Tuple{Float32,Float32},false,Array{Float32,1},ODEFunction{false,DiffEqFlux.var\"#dudt_#92\"{NeuralODE{FastChain{Tuple{var\"#18#19\",FastDense{typeof(tanh),DiffEqFlux.var\"#initial_params#75\"{typeof(Flux.glorot_uniform),typeof(Flux.zeros),Int64,Int64}},FastDense{typeof(tanh),DiffEqFlux.var\"#initial_params#75\"{typeof(Flux.glorot_uniform),typeof(Flux.zeros),Int64,Int64}},FastDense{typeof(identity),DiffEqFlux.var\"#initial_params#75\"{typeof(Flux.glorot_uniform),typeof(Flux.zeros),Int64,Int64}}}},Array{Float32,1},Nothing,Tuple{Float32,Float32},Tsit5,Tuple{},Base.Iterators.Pairs{Symbol,StepRangeLen{Float32,Float64,Float64},Tuple{Symbol},NamedTuple{(:saveat,),Tuple{StepRangeLen{Float32,Float64,Float64}}}}}},LinearAlgebra.UniformScaling{Bool},Nothing,Nothing,Nothing,Nothing,Nothing,Nothing,Nothing,Nothing,Nothing,Nothing,Nothing},Base.Iterators.Pairs{Union{},Union{},Tuple{},NamedTuple{(),Tuple{}}},DiffEqBase.StandardODEProblem},Tsit5,OrdinaryDiffEq.InterpolationData{ODEFunction{false,DiffEqFlux.var\"#dudt_#92\"{NeuralODE{FastChain{Tuple{var\"#18#19\",FastDense{typeof(tanh),DiffEqFlux.var\"#initial_params#75\"{typeof(Flux.glorot_uniform),typeof(Flux.zeros),Int64,Int64}},FastDense{typeof(tanh),DiffEqFlux.var\"#initial_params#75\"{typeof(Flux.glorot_uniform),typeof(Flux.zeros),Int64,Int64}},FastDense{typeof(identity),DiffEqFlux.var\"#initial_params#75\"{typeof(Flux.glorot_uniform),typeof(Flux.zeros),Int64,Int64}}}},Array{Float32,1},Nothing,Tuple{Float32,Float32},Tsit5,Tuple{},Base.Iterators.Pairs{Symbol,StepRangeLen{Float32,Float64,Float64},Tuple{Symbol},NamedTuple{(:saveat,),Tuple{StepRangeLen{Float32,Float64,Float64}}}}}},LinearAlgebra.UniformScaling{Bool},Nothing,Nothing,Nothing,Nothing,Nothing,Nothing,Nothing,Nothing,Nothing,Nothing,Nothing},Array{Array{Float32,1},1},Array{Float32,1},Array{Array{Array{Float32,1},1},1},OrdinaryDiffEq.Tsit5ConstantCache{Float32,Float32}},DiffEqBase.DEStats}, ::DiffEqSensitivity.InterpolatingAdjoint{0,true,Val{:central},DiffEqSensitivity.ReverseDiffVJP{true}}, ::Tsit5, ::DiffEqSensitivity.var\"#df#78\"{Array{Float64,2},Array{Float32,1}}, ::StepRangeLen{Float32,Float64,Float64}, ::Nothing) at /home/tianbai/.julia/packages/DiffEqSensitivity/ykcWV/src/local_sensitivity/sensitivity_interface.jl:16",
      " [28] _adjoint_sensitivities(::ODESolution{Float32,2,Array{Array{Float32,1},1},Nothing,Nothing,Array{Float32,1},Array{Array{Array{Float32,1},1},1},ODEProblem{Array{Float32,1},Tuple{Float32,Float32},false,Array{Float32,1},ODEFunction{false,DiffEqFlux.var\"#dudt_#92\"{NeuralODE{FastChain{Tuple{var\"#18#19\",FastDense{typeof(tanh),DiffEqFlux.var\"#initial_params#75\"{typeof(Flux.glorot_uniform),typeof(Flux.zeros),Int64,Int64}},FastDense{typeof(tanh),DiffEqFlux.var\"#initial_params#75\"{typeof(Flux.glorot_uniform),typeof(Flux.zeros),Int64,Int64}},FastDense{typeof(identity),DiffEqFlux.var\"#initial_params#75\"{typeof(Flux.glorot_uniform),typeof(Flux.zeros),Int64,Int64}}}},Array{Float32,1},Nothing,Tuple{Float32,Float32},Tsit5,Tuple{},Base.Iterators.Pairs{Symbol,StepRangeLen{Float32,Float64,Float64},Tuple{Symbol},NamedTuple{(:saveat,),Tuple{StepRangeLen{Float32,Float64,Float64}}}}}},LinearAlgebra.UniformScaling{Bool},Nothing,Nothing,Nothing,Nothing,Nothing,Nothing,Nothing,Nothing,Nothing,Nothing,Nothing},Base.Iterators.Pairs{Union{},Union{},Tuple{},NamedTuple{(),Tuple{}}},DiffEqBase.StandardODEProblem},Tsit5,OrdinaryDiffEq.InterpolationData{ODEFunction{false,DiffEqFlux.var\"#dudt_#92\"{NeuralODE{FastChain{Tuple{var\"#18#19\",FastDense{typeof(tanh),DiffEqFlux.var\"#initial_params#75\"{typeof(Flux.glorot_uniform),typeof(Flux.zeros),Int64,Int64}},FastDense{typeof(tanh),DiffEqFlux.var\"#initial_params#75\"{typeof(Flux.glorot_uniform),typeof(Flux.zeros),Int64,Int64}},FastDense{typeof(identity),DiffEqFlux.var\"#initial_params#75\"{typeof(Flux.glorot_uniform),typeof(Flux.zeros),Int64,Int64}}}},Array{Float32,1},Nothing,Tuple{Float32,Float32},Tsit5,Tuple{},Base.Iterators.Pairs{Symbol,StepRangeLen{Float32,Float64,Float64},Tuple{Symbol},NamedTuple{(:saveat,),Tuple{StepRangeLen{Float32,Float64,Float64}}}}}},LinearAlgebra.UniformScaling{Bool},Nothing,Nothing,Nothing,Nothing,Nothing,Nothing,Nothing,Nothing,Nothing,Nothing,Nothing},Array{Array{Float32,1},1},Array{Float32,1},Array{Array{Array{Float32,1},1},1},OrdinaryDiffEq.Tsit5ConstantCache{Float32,Float32}},DiffEqBase.DEStats}, ::DiffEqSensitivity.InterpolatingAdjoint{0,true,Val{:central},DiffEqSensitivity.ReverseDiffVJP{true}}, ::Tsit5, ::Function, ::StepRangeLen{Float32,Float64,Float64}, ::Nothing) at /home/tianbai/.julia/packages/DiffEqSensitivity/ykcWV/src/local_sensitivity/sensitivity_interface.jl:13 (repeats 2 times)",
      " [29] #adjoint_sensitivities#16(::DiffEqSensitivity.InterpolatingAdjoint{0,true,Val{:central},DiffEqSensitivity.ReverseDiffVJP{true}}, ::Base.Iterators.Pairs{Union{},Union{},Tuple{},NamedTuple{(),Tuple{}}}, ::typeof(DiffEqSensitivity.adjoint_sensitivities), ::ODESolution{Float32,2,Array{Array{Float32,1},1},Nothing,Nothing,Array{Float32,1},Array{Array{Array{Float32,1},1},1},ODEProblem{Array{Float32,1},Tuple{Float32,Float32},false,Array{Float32,1},ODEFunction{false,DiffEqFlux.var\"#dudt_#92\"{NeuralODE{FastChain{Tuple{var\"#18#19\",FastDense{typeof(tanh),DiffEqFlux.var\"#initial_params#75\"{typeof(Flux.glorot_uniform),typeof(Flux.zeros),Int64,Int64}},FastDense{typeof(tanh),DiffEqFlux.var\"#initial_params#75\"{typeof(Flux.glorot_uniform),typeof(Flux.zeros),Int64,Int64}},FastDense{typeof(identity),DiffEqFlux.var\"#initial_params#75\"{typeof(Flux.glorot_uniform),typeof(Flux.zeros),Int64,Int64}}}},Array{Float32,1},Nothing,Tuple{Float32,Float32},Tsit5,Tuple{},Base.Iterators.Pairs{Symbol,StepRangeLen{Float32,Float64,Float64},Tuple{Symbol},NamedTuple{(:saveat,),Tuple{StepRangeLen{Float32,Float64,Float64}}}}}},LinearAlgebra.UniformScaling{Bool},Nothing,Nothing,Nothing,Nothing,Nothing,Nothing,Nothing,Nothing,Nothing,Nothing,Nothing},Base.Iterators.Pairs{Union{},Union{},Tuple{},NamedTuple{(),Tuple{}}},DiffEqBase.StandardODEProblem},Tsit5,OrdinaryDiffEq.InterpolationData{ODEFunction{false,DiffEqFlux.var\"#dudt_#92\"{NeuralODE{FastChain{Tuple{var\"#18#19\",FastDense{typeof(tanh),DiffEqFlux.var\"#initial_params#75\"{typeof(Flux.glorot_uniform),typeof(Flux.zeros),Int64,Int64}},FastDense{typeof(tanh),DiffEqFlux.var\"#initial_params#75\"{typeof(Flux.glorot_uniform),typeof(Flux.zeros),Int64,Int64}},FastDense{typeof(identity),DiffEqFlux.var\"#initial_params#75\"{typeof(Flux.glorot_uniform),typeof(Flux.zeros),Int64,Int64}}}},Array{Float32,1},Nothing,Tuple{Float32,Float32},Tsit5,Tuple{},Base.Iterators.Pairs{Symbol,StepRangeLen{Float32,Float64,Float64},Tuple{Symbol},NamedTuple{(:saveat,),Tuple{StepRangeLen{Float32,Float64,Float64}}}}}},LinearAlgebra.UniformScaling{Bool},Nothing,Nothing,Nothing,Nothing,Nothing,Nothing,Nothing,Nothing,Nothing,Nothing,Nothing},Array{Array{Float32,1},1},Array{Float32,1},Array{Array{Array{Float32,1},1},1},OrdinaryDiffEq.Tsit5ConstantCache{Float32,Float32}},DiffEqBase.DEStats}, ::Tsit5, ::Vararg{Any,N} where N) at /home/tianbai/.julia/packages/DiffEqSensitivity/ykcWV/src/local_sensitivity/sensitivity_interface.jl:6",
      " [30] (::DiffEqSensitivity.var\"#kw##adjoint_sensitivities\")(::NamedTuple{(:sensealg,),Tuple{DiffEqSensitivity.InterpolatingAdjoint{0,true,Val{:central},DiffEqSensitivity.ReverseDiffVJP{true}}}}, ::typeof(DiffEqSensitivity.adjoint_sensitivities), ::ODESolution{Float32,2,Array{Array{Float32,1},1},Nothing,Nothing,Array{Float32,1},Array{Array{Array{Float32,1},1},1},ODEProblem{Array{Float32,1},Tuple{Float32,Float32},false,Array{Float32,1},ODEFunction{false,DiffEqFlux.var\"#dudt_#92\"{NeuralODE{FastChain{Tuple{var\"#18#19\",FastDense{typeof(tanh),DiffEqFlux.var\"#initial_params#75\"{typeof(Flux.glorot_uniform),typeof(Flux.zeros),Int64,Int64}},FastDense{typeof(tanh),DiffEqFlux.var\"#initial_params#75\"{typeof(Flux.glorot_uniform),typeof(Flux.zeros),Int64,Int64}},FastDense{typeof(identity),DiffEqFlux.var\"#initial_params#75\"{typeof(Flux.glorot_uniform),typeof(Flux.zeros),Int64,Int64}}}},Array{Float32,1},Nothing,Tuple{Float32,Float32},Tsit5,Tuple{},Base.Iterators.Pairs{Symbol,StepRangeLen{Float32,Float64,Float64},Tuple{Symbol},NamedTuple{(:saveat,),Tuple{StepRangeLen{Float32,Float64,Float64}}}}}},LinearAlgebra.UniformScaling{Bool},Nothing,Nothing,Nothing,Nothing,Nothing,Nothing,Nothing,Nothing,Nothing,Nothing,Nothing},Base.Iterators.Pairs{Union{},Union{},Tuple{},NamedTuple{(),Tuple{}}},DiffEqBase.StandardODEProblem},Tsit5,OrdinaryDiffEq.InterpolationData{ODEFunction{false,DiffEqFlux.var\"#dudt_#92\"{NeuralODE{FastChain{Tuple{var\"#18#19\",FastDense{typeof(tanh),DiffEqFlux.var\"#initial_params#75\"{typeof(Flux.glorot_uniform),typeof(Flux.zeros),Int64,Int64}},FastDense{typeof(tanh),DiffEqFlux.var\"#initial_params#75\"{typeof(Flux.glorot_uniform),typeof(Flux.zeros),Int64,Int64}},FastDense{typeof(identity),DiffEqFlux.var\"#initial_params#75\"{typeof(Flux.glorot_uniform),typeof(Flux.zeros),Int64,Int64}}}},Array{Float32,1},Nothing,Tuple{Float32,Float32},Tsit5,Tuple{},Base.Iterators.Pairs{Symbol,StepRangeLen{Float32,Float64,Float64},Tuple{Symbol},NamedTuple{(:saveat,),Tuple{StepRangeLen{Float32,Float64,Float64}}}}}},LinearAlgebra.UniformScaling{Bool},Nothing,Nothing,Nothing,Nothing,Nothing,Nothing,Nothing,Nothing,Nothing,Nothing,Nothing},Array{Array{Float32,1},1},Array{Float32,1},Array{Array{Array{Float32,1},1},1},OrdinaryDiffEq.Tsit5ConstantCache{Float32,Float32}},DiffEqBase.DEStats}, ::Tsit5, ::Vararg{Any,N} where N) at ./none:0",
      " [31] (::DiffEqSensitivity.var\"#adjoint_sensitivity_backpass#77\"{Tsit5,DiffEqSensitivity.InterpolatingAdjoint{0,true,Val{:central},DiffEqSensitivity.ReverseDiffVJP{true}},Array{Float32,1},Array{Float32,1},Tuple{}})(::Array{Float64,2}) at /home/tianbai/.julia/packages/DiffEqSensitivity/ykcWV/src/local_sensitivity/concrete_solve.jl:72",
      " [32] #561#back at /home/tianbai/.julia/packages/ZygoteRules/6nssF/src/adjoint.jl:55 [inlined]",
      " [33] #173 at /home/tianbai/.julia/packages/Zygote/4tJp5/src/lib/lib.jl:159 [inlined]",
      " [34] #334#back at /home/tianbai/.julia/packages/ZygoteRules/6nssF/src/adjoint.jl:49 [inlined]",
      " [35] NeuralODE at /home/tianbai/.julia/packages/DiffEqFlux/YmiIM/src/neural_de.jl:62 [inlined]",
      " [36] (::typeof(∂(λ)))(::Array{Float64,2}) at /home/tianbai/.julia/packages/Zygote/4tJp5/src/compiler/interface2.jl:0",
      " [37] loss_n_ode at ./In[210]:6 [inlined]",
      " [38] (::typeof(∂(loss_n_ode)))(::Tuple{Float64,Nothing}) at /home/tianbai/.julia/packages/Zygote/4tJp5/src/compiler/interface2.jl:0",
      " [39] #173 at /home/tianbai/.julia/packages/Zygote/4tJp5/src/lib/lib.jl:159 [inlined]",
      " [40] (::Zygote.var\"#334#back#175\"{Zygote.var\"#173#174\"{typeof(∂(loss_n_ode)),Tuple{Tuple{Nothing},Tuple{}}}})(::Tuple{Float64,Nothing}) at /home/tianbai/.julia/packages/ZygoteRules/6nssF/src/adjoint.jl:49",
      " [41] #24 at /home/tianbai/.julia/packages/DiffEqFlux/YmiIM/src/train.jl:99 [inlined]",
      " [42] (::typeof(∂(λ)))(::Float64) at /home/tianbai/.julia/packages/Zygote/4tJp5/src/compiler/interface2.jl:0",
      " [43] (::Zygote.var\"#50#51\"{Zygote.Params,Zygote.Context,typeof(∂(λ))})(::Float64) at /home/tianbai/.julia/packages/Zygote/4tJp5/src/compiler/interface.jl:108",
      " [44] gradient(::Function, ::Zygote.Params) at /home/tianbai/.julia/packages/Zygote/4tJp5/src/compiler/interface.jl:45",
      " [45] macro expansion at /home/tianbai/.julia/packages/DiffEqFlux/YmiIM/src/train.jl:98 [inlined]",
      " [46] macro expansion at /home/tianbai/.julia/packages/ProgressLogging/g8xnW/src/ProgressLogging.jl:328 [inlined]",
      " [47] (::DiffEqFlux.var\"#23#28\"{var\"#20#22\",Int64,Bool,Bool,typeof(loss_n_ode),Array{Float32,1},Zygote.Params})() at /home/tianbai/.julia/packages/DiffEqFlux/YmiIM/src/train.jl:43",
      " [48] with_logstate(::DiffEqFlux.var\"#23#28\"{var\"#20#22\",Int64,Bool,Bool,typeof(loss_n_ode),Array{Float32,1},Zygote.Params}, ::Base.CoreLogging.LogState) at ./logging.jl:395",
      " [49] with_logger at ./logging.jl:491 [inlined]",
      " [50] maybe_with_logger(::DiffEqFlux.var\"#23#28\"{var\"#20#22\",Int64,Bool,Bool,typeof(loss_n_ode),Array{Float32,1},Zygote.Params}, ::LoggingExtras.TeeLogger{Tuple{LoggingExtras.EarlyFilteredLogger{ConsoleProgressMonitor.ProgressLogger,DiffEqBase.var\"#10#12\"},LoggingExtras.EarlyFilteredLogger{Base.CoreLogging.SimpleLogger,DiffEqBase.var\"#11#13\"}}}) at /home/tianbai/.julia/packages/DiffEqBase/Lxno7/src/utils.jl:259",
      " [51] #sciml_train#22(::Function, ::Int64, ::Bool, ::Bool, ::typeof(DiffEqFlux.sciml_train), ::Function, ::Array{Float32,1}, ::ADAM, ::Base.Iterators.Cycle{Tuple{DiffEqFlux.NullData}}) at /home/tianbai/.julia/packages/DiffEqFlux/YmiIM/src/train.jl:42",
      " [52] #sciml_train at ./none:0 [inlined] (repeats 2 times)"
     ]
    }
   ],
   "source": [
    "res = DiffEqFlux.sciml_train(loss_n_ode, n_ode.p, ADAM(0.002, (0.9, 0.95)), cb=cb, maxiters=200)"
   ]
  },
  {
   "cell_type": "code",
   "execution_count": 189,
   "metadata": {
    "scrolled": true
   },
   "outputs": [
    {
     "data": {
      "text/plain": [
       "2.990466859165153e-5"
      ]
     },
     "metadata": {},
     "output_type": "display_data"
    },
    {
     "name": "stderr",
     "output_type": "stream",
     "text": [
      "\u001b[32mloss: 2.99e-05:   0%|▏                                        |  ETA: 0:06:46\u001b[39m"
     ]
    },
    {
     "data": {
      "text/plain": [
       "0.0013858023576176492"
      ]
     },
     "metadata": {},
     "output_type": "display_data"
    },
    {
     "name": "stderr",
     "output_type": "stream",
     "text": [
      "\u001b[32mloss: 0.00139:   0%|▎                                        |  ETA: 0:05:21\u001b[39m"
     ]
    },
    {
     "data": {
      "text/plain": [
       "8.409093624095476e-5"
      ]
     },
     "metadata": {},
     "output_type": "display_data"
    },
    {
     "name": "stderr",
     "output_type": "stream",
     "text": [
      "\u001b[32mloss: 8.41e-05:   1%|▎                                        |  ETA: 0:05:42\u001b[39m"
     ]
    },
    {
     "data": {
      "text/plain": [
       "0.0009164564198727021"
      ]
     },
     "metadata": {},
     "output_type": "display_data"
    },
    {
     "name": "stderr",
     "output_type": "stream",
     "text": [
      "\u001b[32mloss: 0.000916:   1%|▍                                        |  ETA: 0:05:24\u001b[39m"
     ]
    },
    {
     "data": {
      "text/plain": [
       "0.0007490875359508209"
      ]
     },
     "metadata": {},
     "output_type": "display_data"
    },
    {
     "name": "stderr",
     "output_type": "stream",
     "text": [
      "\u001b[32mloss: 0.000749:   1%|▌                                        |  ETA: 0:05:35\u001b[39m"
     ]
    },
    {
     "data": {
      "text/plain": [
       "0.00021098345359860105"
      ]
     },
     "metadata": {},
     "output_type": "display_data"
    },
    {
     "name": "stderr",
     "output_type": "stream",
     "text": [
      "\u001b[32mloss: 0.000211:   2%|▋                                        |  ETA: 0:05:21\u001b[39m"
     ]
    },
    {
     "data": {
      "text/plain": [
       "0.00018212014492746675"
      ]
     },
     "metadata": {},
     "output_type": "display_data"
    },
    {
     "name": "stderr",
     "output_type": "stream",
     "text": [
      "\u001b[32mloss: 0.000182:   2%|▊                                        |  ETA: 0:05:28\u001b[39m"
     ]
    },
    {
     "data": {
      "text/plain": [
       "0.00043191393183406035"
      ]
     },
     "metadata": {},
     "output_type": "display_data"
    },
    {
     "name": "stderr",
     "output_type": "stream",
     "text": [
      "\u001b[32mloss: 0.000432:   2%|▉                                        |  ETA: 0:05:19\u001b[39m"
     ]
    },
    {
     "data": {
      "text/plain": [
       "0.00042903593566734344"
      ]
     },
     "metadata": {},
     "output_type": "display_data"
    },
    {
     "name": "stderr",
     "output_type": "stream",
     "text": [
      "\u001b[32mloss: 0.000429:   2%|▉                                        |  ETA: 0:05:27\u001b[39m"
     ]
    },
    {
     "data": {
      "text/plain": [
       "0.00021986103274684865"
      ]
     },
     "metadata": {},
     "output_type": "display_data"
    },
    {
     "name": "stderr",
     "output_type": "stream",
     "text": [
      "\u001b[32mloss: 0.00022:   2%|█                                        |  ETA: 0:05:18\u001b[39m"
     ]
    },
    {
     "data": {
      "text/plain": [
       "0.0001098864159985169"
      ]
     },
     "metadata": {},
     "output_type": "display_data"
    },
    {
     "name": "stderr",
     "output_type": "stream",
     "text": [
      "\u001b[32mloss: 0.00011:   3%|█▏                                       |  ETA: 0:05:22\u001b[39m"
     ]
    },
    {
     "data": {
      "text/plain": [
       "0.00018541720919529325"
      ]
     },
     "metadata": {},
     "output_type": "display_data"
    },
    {
     "name": "stderr",
     "output_type": "stream",
     "text": [
      "\u001b[32mloss: 0.000185:   3%|█▎                                       |  ETA: 0:05:15\u001b[39m"
     ]
    },
    {
     "data": {
      "text/plain": [
       "0.00027348013054506737"
      ]
     },
     "metadata": {},
     "output_type": "display_data"
    },
    {
     "name": "stderr",
     "output_type": "stream",
     "text": [
      "\u001b[32mloss: 0.000273:   3%|█▎                                       |  ETA: 0:05:21\u001b[39m"
     ]
    },
    {
     "data": {
      "text/plain": [
       "0.0002333267605081346"
      ]
     },
     "metadata": {},
     "output_type": "display_data"
    },
    {
     "name": "stderr",
     "output_type": "stream",
     "text": [
      "\u001b[32mloss: 0.000233:   4%|█▍                                       |  ETA: 0:05:15\u001b[39m"
     ]
    },
    {
     "data": {
      "text/plain": [
       "0.00012261940707958274"
      ]
     },
     "metadata": {},
     "output_type": "display_data"
    },
    {
     "name": "stderr",
     "output_type": "stream",
     "text": [
      "\u001b[32mloss: 0.000123:   4%|█▌                                       |  ETA: 0:05:19\u001b[39m"
     ]
    },
    {
     "data": {
      "text/plain": [
       "7.080188709096547e-5"
      ]
     },
     "metadata": {},
     "output_type": "display_data"
    },
    {
     "name": "stderr",
     "output_type": "stream",
     "text": [
      "\u001b[32mloss: 7.08e-05:   4%|█▋                                       |  ETA: 0:05:16\u001b[39m"
     ]
    },
    {
     "data": {
      "text/plain": [
       "0.00010980997228671185"
      ]
     },
     "metadata": {},
     "output_type": "display_data"
    },
    {
     "name": "stderr",
     "output_type": "stream",
     "text": [
      "\u001b[32mloss: 0.00011:   4%|█▊                                       |  ETA: 0:05:19\u001b[39m"
     ]
    },
    {
     "data": {
      "text/plain": [
       "0.0001599464396804251"
      ]
     },
     "metadata": {},
     "output_type": "display_data"
    },
    {
     "name": "stderr",
     "output_type": "stream",
     "text": [
      "\u001b[32mloss: 0.00016:   4%|█▉                                       |  ETA: 0:05:14\u001b[39m"
     ]
    },
    {
     "data": {
      "text/plain": [
       "0.00015087954739101406"
      ]
     },
     "metadata": {},
     "output_type": "display_data"
    },
    {
     "name": "stderr",
     "output_type": "stream",
     "text": [
      "\u001b[32mloss: 0.000151:   5%|█▉                                       |  ETA: 0:05:17\u001b[39m"
     ]
    },
    {
     "data": {
      "text/plain": [
       "0.00010067252333101351"
      ]
     },
     "metadata": {},
     "output_type": "display_data"
    },
    {
     "name": "stderr",
     "output_type": "stream",
     "text": [
      "\u001b[32mloss: 0.000101:   5%|██                                       |  ETA: 0:05:13\u001b[39m"
     ]
    },
    {
     "data": {
      "text/plain": [
       "6.926926624828411e-5"
      ]
     },
     "metadata": {},
     "output_type": "display_data"
    },
    {
     "name": "stderr",
     "output_type": "stream",
     "text": [
      "\u001b[32mloss: 6.93e-05:   5%|██▏                                      |  ETA: 0:05:16\u001b[39m"
     ]
    },
    {
     "data": {
      "text/plain": [
       "7.803200588796244e-5"
      ]
     },
     "metadata": {},
     "output_type": "display_data"
    },
    {
     "name": "stderr",
     "output_type": "stream",
     "text": [
      "\u001b[32mloss: 7.8e-05:   6%|██▎                                      |  ETA: 0:05:13\u001b[39m"
     ]
    },
    {
     "data": {
      "text/plain": [
       "9.565845181214172e-5"
      ]
     },
     "metadata": {},
     "output_type": "display_data"
    },
    {
     "name": "stderr",
     "output_type": "stream",
     "text": [
      "\u001b[32mloss: 9.57e-05:   6%|██▍                                      |  ETA: 0:05:15\u001b[39m"
     ]
    },
    {
     "data": {
      "text/plain": [
       "9.040086411005177e-5"
      ]
     },
     "metadata": {},
     "output_type": "display_data"
    },
    {
     "name": "stderr",
     "output_type": "stream",
     "text": [
      "\u001b[32mloss: 9.04e-05:   6%|██▌                                      |  ETA: 0:05:12\u001b[39m"
     ]
    },
    {
     "data": {
      "text/plain": [
       "6.916477639151708e-5"
      ]
     },
     "metadata": {},
     "output_type": "display_data"
    },
    {
     "name": "stderr",
     "output_type": "stream",
     "text": [
      "\u001b[32mloss: 6.92e-05:   6%|██▌                                      |  ETA: 0:05:15\u001b[39m"
     ]
    },
    {
     "data": {
      "text/plain": [
       "5.8132337983352045e-5"
      ]
     },
     "metadata": {},
     "output_type": "display_data"
    },
    {
     "name": "stderr",
     "output_type": "stream",
     "text": [
      "\u001b[32mloss: 5.81e-05:   6%|██▋                                      |  ETA: 0:05:11\u001b[39m"
     ]
    },
    {
     "data": {
      "text/plain": [
       "6.447358828154393e-5"
      ]
     },
     "metadata": {},
     "output_type": "display_data"
    },
    {
     "name": "stderr",
     "output_type": "stream",
     "text": [
      "\u001b[32mloss: 6.45e-05:   7%|██▊                                      |  ETA: 0:05:13\u001b[39m"
     ]
    },
    {
     "data": {
      "text/plain": [
       "7.159763845265843e-5"
      ]
     },
     "metadata": {},
     "output_type": "display_data"
    },
    {
     "name": "stderr",
     "output_type": "stream",
     "text": [
      "\u001b[32mloss: 7.16e-05:   7%|██▉                                      |  ETA: 0:05:10\u001b[39m"
     ]
    },
    {
     "data": {
      "text/plain": [
       "6.622704165692994e-5"
      ]
     },
     "metadata": {},
     "output_type": "display_data"
    },
    {
     "name": "stderr",
     "output_type": "stream",
     "text": [
      "\u001b[32mloss: 6.62e-05:   7%|███                                      |  ETA: 0:05:11\u001b[39m"
     ]
    },
    {
     "data": {
      "text/plain": [
       "5.467043598628152e-5"
      ]
     },
     "metadata": {},
     "output_type": "display_data"
    },
    {
     "name": "stderr",
     "output_type": "stream",
     "text": [
      "\u001b[32mloss: 5.47e-05:   8%|███▏                                     |  ETA: 0:05:08\u001b[39m"
     ]
    },
    {
     "data": {
      "text/plain": [
       "4.9262282686868275e-5"
      ]
     },
     "metadata": {},
     "output_type": "display_data"
    },
    {
     "name": "stderr",
     "output_type": "stream",
     "text": [
      "\u001b[32mloss: 4.93e-05:   8%|███▏                                     |  ETA: 0:05:10\u001b[39m"
     ]
    },
    {
     "data": {
      "text/plain": [
       "5.0758331710198945e-5"
      ]
     },
     "metadata": {},
     "output_type": "display_data"
    },
    {
     "name": "stderr",
     "output_type": "stream",
     "text": [
      "\u001b[32mloss: 5.08e-05:   8%|███▎                                     |  ETA: 0:05:07\u001b[39m"
     ]
    },
    {
     "data": {
      "text/plain": [
       "5.115022716495332e-5"
      ]
     },
     "metadata": {},
     "output_type": "display_data"
    },
    {
     "name": "stderr",
     "output_type": "stream",
     "text": [
      "\u001b[32mloss: 5.12e-05:   8%|███▍                                     |  ETA: 0:05:08\u001b[39m"
     ]
    },
    {
     "data": {
      "text/plain": [
       "4.770177699242595e-5"
      ]
     },
     "metadata": {},
     "output_type": "display_data"
    },
    {
     "name": "stderr",
     "output_type": "stream",
     "text": [
      "\u001b[32mloss: 4.77e-05:   8%|███▌                                     |  ETA: 0:05:05\u001b[39m"
     ]
    },
    {
     "data": {
      "text/plain": [
       "4.5369418970153674e-5"
      ]
     },
     "metadata": {},
     "output_type": "display_data"
    },
    {
     "name": "stderr",
     "output_type": "stream",
     "text": [
      "\u001b[32mloss: 4.54e-05:   9%|███▋                                     |  ETA: 0:05:07\u001b[39m"
     ]
    },
    {
     "data": {
      "text/plain": [
       "4.644266039122158e-5"
      ]
     },
     "metadata": {},
     "output_type": "display_data"
    },
    {
     "name": "stderr",
     "output_type": "stream",
     "text": [
      "\u001b[32mloss: 4.64e-05:   9%|███▊                                     |  ETA: 0:05:04\u001b[39m"
     ]
    },
    {
     "data": {
      "text/plain": [
       "4.6570223418029855e-5"
      ]
     },
     "metadata": {},
     "output_type": "display_data"
    },
    {
     "name": "stderr",
     "output_type": "stream",
     "text": [
      "\u001b[32mloss: 4.66e-05:   9%|███▊                                     |  ETA: 0:05:06\u001b[39m"
     ]
    },
    {
     "data": {
      "text/plain": [
       "4.280987839422323e-5"
      ]
     },
     "metadata": {},
     "output_type": "display_data"
    },
    {
     "name": "stderr",
     "output_type": "stream",
     "text": [
      "\u001b[32mloss: 4.28e-05:  10%|███▉                                     |  ETA: 0:05:03\u001b[39m"
     ]
    },
    {
     "data": {
      "text/plain": [
       "3.888914858407588e-5"
      ]
     },
     "metadata": {},
     "output_type": "display_data"
    },
    {
     "name": "stderr",
     "output_type": "stream",
     "text": [
      "\u001b[32mloss: 3.89e-05:  10%|████                                     |  ETA: 0:05:04\u001b[39m"
     ]
    },
    {
     "data": {
      "text/plain": [
       "3.900666007439213e-5"
      ]
     },
     "metadata": {},
     "output_type": "display_data"
    },
    {
     "name": "stderr",
     "output_type": "stream",
     "text": [
      "\u001b[32mloss: 3.9e-05:  10%|████▏                                    |  ETA: 0:05:01\u001b[39m"
     ]
    },
    {
     "data": {
      "text/plain": [
       "4.084849074104113e-5"
      ]
     },
     "metadata": {},
     "output_type": "display_data"
    },
    {
     "name": "stderr",
     "output_type": "stream",
     "text": [
      "\u001b[32mloss: 4.08e-05:  10%|████▏                                    |  ETA: 0:05:03\u001b[39m"
     ]
    },
    {
     "data": {
      "text/plain": [
       "3.969569872452894e-5"
      ]
     },
     "metadata": {},
     "output_type": "display_data"
    },
    {
     "name": "stderr",
     "output_type": "stream",
     "text": [
      "\u001b[32mloss: 3.97e-05:  10%|████▎                                    |  ETA: 0:05:00\u001b[39m"
     ]
    },
    {
     "data": {
      "text/plain": [
       "3.641593154668499e-5"
      ]
     },
     "metadata": {},
     "output_type": "display_data"
    },
    {
     "name": "stderr",
     "output_type": "stream",
     "text": [
      "\u001b[32mloss: 3.64e-05:  11%|████▍                                    |  ETA: 0:05:01\u001b[39m"
     ]
    },
    {
     "data": {
      "text/plain": [
       "3.572618762603952e-5"
      ]
     },
     "metadata": {},
     "output_type": "display_data"
    },
    {
     "name": "stderr",
     "output_type": "stream",
     "text": [
      "\u001b[32mloss: 3.57e-05:  11%|████▌                                    |  ETA: 0:04:59\u001b[39m"
     ]
    },
    {
     "data": {
      "text/plain": [
       "3.800233445616641e-5"
      ]
     },
     "metadata": {},
     "output_type": "display_data"
    },
    {
     "name": "stderr",
     "output_type": "stream",
     "text": [
      "\u001b[32mloss: 3.8e-05:  11%|████▋                                    |  ETA: 0:05:00\u001b[39m"
     ]
    },
    {
     "data": {
      "text/plain": [
       "3.8562610697567834e-5"
      ]
     },
     "metadata": {},
     "output_type": "display_data"
    },
    {
     "name": "stderr",
     "output_type": "stream",
     "text": [
      "\u001b[32mloss: 3.86e-05:  12%|████▊                                    |  ETA: 0:04:57\u001b[39m"
     ]
    },
    {
     "data": {
      "text/plain": [
       "3.547438284101645e-5"
      ]
     },
     "metadata": {},
     "output_type": "display_data"
    },
    {
     "name": "stderr",
     "output_type": "stream",
     "text": [
      "\u001b[32mloss: 3.55e-05:  12%|████▊                                    |  ETA: 0:04:58\u001b[39m"
     ]
    },
    {
     "data": {
      "text/plain": [
       "3.266517005329206e-5"
      ]
     },
     "metadata": {},
     "output_type": "display_data"
    },
    {
     "name": "stderr",
     "output_type": "stream",
     "text": [
      "\u001b[32mloss: 3.27e-05:  12%|████▉                                    |  ETA: 0:04:56\u001b[39m"
     ]
    },
    {
     "data": {
      "text/plain": [
       "3.3502785139916114e-5"
      ]
     },
     "metadata": {},
     "output_type": "display_data"
    },
    {
     "name": "stderr",
     "output_type": "stream",
     "text": [
      "\u001b[32mloss: 3.35e-05:  12%|█████                                    |  ETA: 0:04:57\u001b[39m"
     ]
    },
    {
     "data": {
      "text/plain": [
       "3.565606229471996e-5"
      ]
     },
     "metadata": {},
     "output_type": "display_data"
    },
    {
     "name": "stderr",
     "output_type": "stream",
     "text": [
      "\u001b[32mloss: 3.57e-05:  12%|█████▏                                   |  ETA: 0:04:55\u001b[39m"
     ]
    },
    {
     "data": {
      "text/plain": [
       "3.5318539694628726e-5"
      ]
     },
     "metadata": {},
     "output_type": "display_data"
    },
    {
     "name": "stderr",
     "output_type": "stream",
     "text": [
      "\u001b[32mloss: 3.53e-05:  13%|█████▎                                   |  ETA: 0:04:55\u001b[39m"
     ]
    },
    {
     "data": {
      "text/plain": [
       "3.317298467919727e-5"
      ]
     },
     "metadata": {},
     "output_type": "display_data"
    },
    {
     "name": "stderr",
     "output_type": "stream",
     "text": [
      "\u001b[32mloss: 3.32e-05:  13%|█████▍                                   |  ETA: 0:04:53\u001b[39m"
     ]
    },
    {
     "data": {
      "text/plain": [
       "3.2455010927634476e-5"
      ]
     },
     "metadata": {},
     "output_type": "display_data"
    },
    {
     "name": "stderr",
     "output_type": "stream",
     "text": [
      "\u001b[32mloss: 3.25e-05:  13%|█████▍                                   |  ETA: 0:04:54\u001b[39m"
     ]
    },
    {
     "data": {
      "text/plain": [
       "3.343405473898997e-5"
      ]
     },
     "metadata": {},
     "output_type": "display_data"
    },
    {
     "name": "stderr",
     "output_type": "stream",
     "text": [
      "\u001b[32mloss: 3.34e-05:  14%|█████▌                                   |  ETA: 0:04:52\u001b[39m"
     ]
    },
    {
     "data": {
      "text/plain": [
       "3.3652438549580665e-5"
      ]
     },
     "metadata": {},
     "output_type": "display_data"
    },
    {
     "name": "stderr",
     "output_type": "stream",
     "text": [
      "\u001b[32mloss: 3.37e-05:  14%|█████▋                                   |  ETA: 0:04:53\u001b[39m"
     ]
    },
    {
     "data": {
      "text/plain": [
       "3.247817906171235e-5"
      ]
     },
     "metadata": {},
     "output_type": "display_data"
    },
    {
     "name": "stderr",
     "output_type": "stream",
     "text": [
      "\u001b[32mloss: 3.25e-05:  14%|█████▊                                   |  ETA: 0:04:51\u001b[39m"
     ]
    },
    {
     "data": {
      "text/plain": [
       "3.1771679580572254e-5"
      ]
     },
     "metadata": {},
     "output_type": "display_data"
    },
    {
     "name": "stderr",
     "output_type": "stream",
     "text": [
      "\u001b[32mloss: 3.18e-05:  14%|█████▉                                   |  ETA: 0:04:51\u001b[39m"
     ]
    },
    {
     "data": {
      "text/plain": [
       "3.231269342052201e-5"
      ]
     },
     "metadata": {},
     "output_type": "display_data"
    },
    {
     "name": "stderr",
     "output_type": "stream",
     "text": [
      "\u001b[32mloss: 3.23e-05:  14%|██████                                   |  ETA: 0:04:49\u001b[39m"
     ]
    },
    {
     "data": {
      "text/plain": [
       "3.271057497045149e-5"
      ]
     },
     "metadata": {},
     "output_type": "display_data"
    },
    {
     "name": "stderr",
     "output_type": "stream",
     "text": [
      "\u001b[32mloss: 3.27e-05:  15%|██████                                   |  ETA: 0:04:50\u001b[39m"
     ]
    },
    {
     "data": {
      "text/plain": [
       "3.2137250542518814e-5"
      ]
     },
     "metadata": {},
     "output_type": "display_data"
    },
    {
     "name": "stderr",
     "output_type": "stream",
     "text": [
      "\u001b[32mloss: 3.21e-05:  15%|██████▏                                  |  ETA: 0:04:48\u001b[39m"
     ]
    },
    {
     "data": {
      "text/plain": [
       "3.1541495554066046e-5"
      ]
     },
     "metadata": {},
     "output_type": "display_data"
    },
    {
     "name": "stderr",
     "output_type": "stream",
     "text": [
      "\u001b[32mloss: 3.15e-05:  15%|██████▎                                  |  ETA: 0:04:49\u001b[39m"
     ]
    },
    {
     "data": {
      "text/plain": [
       "3.1643271822368035e-5"
      ]
     },
     "metadata": {},
     "output_type": "display_data"
    },
    {
     "name": "stderr",
     "output_type": "stream",
     "text": [
      "\u001b[32mloss: 3.16e-05:  16%|██████▍                                  |  ETA: 0:04:47\u001b[39m"
     ]
    },
    {
     "data": {
      "text/plain": [
       "3.182328047124372e-5"
      ]
     },
     "metadata": {},
     "output_type": "display_data"
    },
    {
     "name": "stderr",
     "output_type": "stream",
     "text": [
      "\u001b[32mloss: 3.18e-05:  16%|██████▍                                  |  ETA: 0:04:47\u001b[39m"
     ]
    },
    {
     "data": {
      "text/plain": [
       "3.155473638649653e-5"
      ]
     },
     "metadata": {},
     "output_type": "display_data"
    },
    {
     "name": "stderr",
     "output_type": "stream",
     "text": [
      "\u001b[32mloss: 3.16e-05:  16%|██████▌                                  |  ETA: 0:04:45\u001b[39m"
     ]
    },
    {
     "data": {
      "text/plain": [
       "3.1271626564688404e-5"
      ]
     },
     "metadata": {},
     "output_type": "display_data"
    },
    {
     "name": "stderr",
     "output_type": "stream",
     "text": [
      "\u001b[32mloss: 3.13e-05:  16%|██████▋                                  |  ETA: 0:04:46\u001b[39m"
     ]
    },
    {
     "data": {
      "text/plain": [
       "3.1311094467412204e-5"
      ]
     },
     "metadata": {},
     "output_type": "display_data"
    },
    {
     "name": "stderr",
     "output_type": "stream",
     "text": [
      "\u001b[32mloss: 3.13e-05:  16%|██████▊                                  |  ETA: 0:04:44\u001b[39m"
     ]
    },
    {
     "data": {
      "text/plain": [
       "3.1332495359137624e-5"
      ]
     },
     "metadata": {},
     "output_type": "display_data"
    },
    {
     "name": "stderr",
     "output_type": "stream",
     "text": [
      "\u001b[32mloss: 3.13e-05:  17%|██████▉                                  |  ETA: 0:04:45\u001b[39m"
     ]
    },
    {
     "data": {
      "text/plain": [
       "3.115039457401991e-5"
      ]
     },
     "metadata": {},
     "output_type": "display_data"
    },
    {
     "name": "stderr",
     "output_type": "stream",
     "text": [
      "\u001b[32mloss: 3.12e-05:  17%|███████                                  |  ETA: 0:04:43\u001b[39m"
     ]
    },
    {
     "data": {
      "text/plain": [
       "3.1051737203746654e-5"
      ]
     },
     "metadata": {},
     "output_type": "display_data"
    },
    {
     "name": "stderr",
     "output_type": "stream",
     "text": [
      "\u001b[32mloss: 3.11e-05:  17%|███████                                  |  ETA: 0:04:43\u001b[39m"
     ]
    },
    {
     "data": {
      "text/plain": [
       "3.109243316856691e-5"
      ]
     },
     "metadata": {},
     "output_type": "display_data"
    },
    {
     "name": "stderr",
     "output_type": "stream",
     "text": [
      "\u001b[32mloss: 3.11e-05:  18%|███████▏                                 |  ETA: 0:04:41\u001b[39m"
     ]
    },
    {
     "data": {
      "text/plain": [
       "3.099933739392213e-5"
      ]
     },
     "metadata": {},
     "output_type": "display_data"
    },
    {
     "name": "stderr",
     "output_type": "stream",
     "text": [
      "\u001b[32mloss: 3.1e-05:  18%|███████▎                                 |  ETA: 0:04:42\u001b[39m"
     ]
    },
    {
     "data": {
      "text/plain": [
       "3.08080814201972e-5"
      ]
     },
     "metadata": {},
     "output_type": "display_data"
    },
    {
     "name": "stderr",
     "output_type": "stream",
     "text": [
      "\u001b[32mloss: 3.08e-05:  18%|███████▍                                 |  ETA: 0:04:40\u001b[39m"
     ]
    },
    {
     "data": {
      "text/plain": [
       "3.0797326211029485e-5"
      ]
     },
     "metadata": {},
     "output_type": "display_data"
    },
    {
     "name": "stderr",
     "output_type": "stream",
     "text": [
      "\u001b[32mloss: 3.08e-05:  18%|███████▌                                 |  ETA: 0:04:40\u001b[39m"
     ]
    },
    {
     "data": {
      "text/plain": [
       "3.0884318277912826e-5"
      ]
     },
     "metadata": {},
     "output_type": "display_data"
    },
    {
     "name": "stderr",
     "output_type": "stream",
     "text": [
      "\u001b[32mloss: 3.09e-05:  18%|███████▋                                 |  ETA: 0:04:38\u001b[39m"
     ]
    },
    {
     "data": {
      "text/plain": [
       "3.0795731401855875e-5"
      ]
     },
     "metadata": {},
     "output_type": "display_data"
    },
    {
     "name": "stderr",
     "output_type": "stream",
     "text": [
      "\u001b[32mloss: 3.08e-05:  19%|███████▋                                 |  ETA: 0:04:38\u001b[39m"
     ]
    },
    {
     "data": {
      "text/plain": [
       "3.063247178980433e-5"
      ]
     },
     "metadata": {},
     "output_type": "display_data"
    },
    {
     "name": "stderr",
     "output_type": "stream",
     "text": [
      "\u001b[32mloss: 3.06e-05:  19%|███████▊                                 |  ETA: 0:04:37\u001b[39m"
     ]
    },
    {
     "data": {
      "text/plain": [
       "3.0637300452163174e-5"
      ]
     },
     "metadata": {},
     "output_type": "display_data"
    },
    {
     "name": "stderr",
     "output_type": "stream",
     "text": [
      "\u001b[32mloss: 3.06e-05:  19%|███████▉                                 |  ETA: 0:04:37\u001b[39m"
     ]
    },
    {
     "data": {
      "text/plain": [
       "3.0694347228799046e-5"
      ]
     },
     "metadata": {},
     "output_type": "display_data"
    },
    {
     "name": "stderr",
     "output_type": "stream",
     "text": [
      "\u001b[32mloss: 3.07e-05:  20%|████████                                 |  ETA: 0:04:35\u001b[39m"
     ]
    },
    {
     "data": {
      "text/plain": [
       "3.0596031311169725e-5"
      ]
     },
     "metadata": {},
     "output_type": "display_data"
    },
    {
     "name": "stderr",
     "output_type": "stream",
     "text": [
      "\u001b[32mloss: 3.06e-05:  20%|████████▏                                |  ETA: 0:04:36\u001b[39m"
     ]
    },
    {
     "data": {
      "text/plain": [
       "3.0470438966645474e-5"
      ]
     },
     "metadata": {},
     "output_type": "display_data"
    },
    {
     "name": "stderr",
     "output_type": "stream",
     "text": [
      "\u001b[32mloss: 3.05e-05:  20%|████████▎                                |  ETA: 0:04:34\u001b[39m"
     ]
    },
    {
     "data": {
      "text/plain": [
       "3.049347142125569e-5"
      ]
     },
     "metadata": {},
     "output_type": "display_data"
    },
    {
     "name": "stderr",
     "output_type": "stream",
     "text": [
      "\u001b[32mloss: 3.05e-05:  20%|████████▎                                |  ETA: 0:04:34\u001b[39m"
     ]
    },
    {
     "data": {
      "text/plain": [
       "3.053613447345782e-5"
      ]
     },
     "metadata": {},
     "output_type": "display_data"
    },
    {
     "name": "stderr",
     "output_type": "stream",
     "text": [
      "\u001b[32mloss: 3.05e-05:  20%|████████▍                                |  ETA: 0:04:32\u001b[39m"
     ]
    },
    {
     "data": {
      "text/plain": [
       "3.0458497491281378e-5"
      ]
     },
     "metadata": {},
     "output_type": "display_data"
    },
    {
     "name": "stderr",
     "output_type": "stream",
     "text": [
      "\u001b[32mloss: 3.05e-05:  21%|████████▌                                |  ETA: 0:04:32\u001b[39m"
     ]
    },
    {
     "data": {
      "text/plain": [
       "3.037490155488598e-5"
      ]
     },
     "metadata": {},
     "output_type": "display_data"
    },
    {
     "name": "stderr",
     "output_type": "stream",
     "text": [
      "\u001b[32mloss: 3.04e-05:  21%|████████▋                                |  ETA: 0:04:30\u001b[39m"
     ]
    },
    {
     "data": {
      "text/plain": [
       "3.03822593061831e-5"
      ]
     },
     "metadata": {},
     "output_type": "display_data"
    },
    {
     "name": "stderr",
     "output_type": "stream",
     "text": [
      "\u001b[32mloss: 3.04e-05:  21%|████████▊                                |  ETA: 0:04:30\u001b[39m"
     ]
    },
    {
     "data": {
      "text/plain": [
       "3.038052767623256e-5"
      ]
     },
     "metadata": {},
     "output_type": "display_data"
    },
    {
     "name": "stderr",
     "output_type": "stream",
     "text": [
      "\u001b[32mloss: 3.04e-05:  22%|████████▉                                |  ETA: 0:04:29\u001b[39m"
     ]
    },
    {
     "data": {
      "text/plain": [
       "3.0317730938200782e-5"
      ]
     },
     "metadata": {},
     "output_type": "display_data"
    },
    {
     "name": "stderr",
     "output_type": "stream",
     "text": [
      "\u001b[32mloss: 3.03e-05:  22%|████████▉                                |  ETA: 0:04:29\u001b[39m"
     ]
    },
    {
     "data": {
      "text/plain": [
       "3.0280183174635766e-5"
      ]
     },
     "metadata": {},
     "output_type": "display_data"
    },
    {
     "name": "stderr",
     "output_type": "stream",
     "text": [
      "\u001b[32mloss: 3.03e-05:  22%|█████████                                |  ETA: 0:04:27\u001b[39m"
     ]
    },
    {
     "data": {
      "text/plain": [
       "3.028615872624485e-5"
      ]
     },
     "metadata": {},
     "output_type": "display_data"
    },
    {
     "name": "stderr",
     "output_type": "stream",
     "text": [
      "\u001b[32mloss: 3.03e-05:  22%|█████████▏                               |  ETA: 0:04:27\u001b[39m"
     ]
    },
    {
     "data": {
      "text/plain": [
       "3.0263182995149407e-5"
      ]
     },
     "metadata": {},
     "output_type": "display_data"
    },
    {
     "name": "stderr",
     "output_type": "stream",
     "text": [
      "\u001b[32mloss: 3.03e-05:  22%|█████████▎                               |  ETA: 0:04:25\u001b[39m"
     ]
    },
    {
     "data": {
      "text/plain": [
       "3.021600114649914e-5"
      ]
     },
     "metadata": {},
     "output_type": "display_data"
    },
    {
     "name": "stderr",
     "output_type": "stream",
     "text": [
      "\u001b[32mloss: 3.02e-05:  23%|█████████▎                               |  ETA: 0:04:25\u001b[39m"
     ]
    },
    {
     "data": {
      "text/plain": [
       "3.019683517191396e-5"
      ]
     },
     "metadata": {},
     "output_type": "display_data"
    },
    {
     "name": "stderr",
     "output_type": "stream",
     "text": [
      "\u001b[32mloss: 3.02e-05:  23%|█████████▍                               |  ETA: 0:04:24\u001b[39m"
     ]
    },
    {
     "data": {
      "text/plain": [
       "3.0184764129970176e-5"
      ]
     },
     "metadata": {},
     "output_type": "display_data"
    },
    {
     "name": "stderr",
     "output_type": "stream",
     "text": [
      "\u001b[32mloss: 3.02e-05:  23%|█████████▌                               |  ETA: 0:04:24\u001b[39m"
     ]
    },
    {
     "data": {
      "text/plain": [
       "3.014980774818099e-5"
      ]
     },
     "metadata": {},
     "output_type": "display_data"
    },
    {
     "name": "stderr",
     "output_type": "stream",
     "text": [
      "\u001b[32mloss: 3.01e-05:  24%|█████████▋                               |  ETA: 0:04:22\u001b[39m"
     ]
    },
    {
     "data": {
      "text/plain": [
       "3.012334613350376e-5"
      ]
     },
     "metadata": {},
     "output_type": "display_data"
    },
    {
     "name": "stderr",
     "output_type": "stream",
     "text": [
      "\u001b[32mloss: 3.01e-05:  24%|█████████▊                               |  ETA: 0:04:22\u001b[39m"
     ]
    },
    {
     "data": {
      "text/plain": [
       "3.011636921890215e-5"
      ]
     },
     "metadata": {},
     "output_type": "display_data"
    },
    {
     "name": "stderr",
     "output_type": "stream",
     "text": [
      "\u001b[32mloss: 3.01e-05:  24%|█████████▉                               |  ETA: 0:04:20\u001b[39m"
     ]
    },
    {
     "data": {
      "text/plain": [
       "3.0095673258401234e-5"
      ]
     },
     "metadata": {},
     "output_type": "display_data"
    },
    {
     "name": "stderr",
     "output_type": "stream",
     "text": [
      "\u001b[32mloss: 3.01e-05:  24%|█████████▉                               |  ETA: 0:04:20\u001b[39m"
     ]
    },
    {
     "data": {
      "text/plain": [
       "3.0062301870525943e-5"
      ]
     },
     "metadata": {},
     "output_type": "display_data"
    },
    {
     "name": "stderr",
     "output_type": "stream",
     "text": [
      "\u001b[32mloss: 3.01e-05:  24%|██████████                               |  ETA: 0:04:19\u001b[39m"
     ]
    },
    {
     "data": {
      "text/plain": [
       "3.0042822370290878e-5"
      ]
     },
     "metadata": {},
     "output_type": "display_data"
    },
    {
     "name": "stderr",
     "output_type": "stream",
     "text": [
      "\u001b[32mloss: 3e-05:  25%|██████████▏                              |  ETA: 0:04:19\u001b[39m"
     ]
    },
    {
     "data": {
      "text/plain": [
       "3.0028084166300317e-5"
      ]
     },
     "metadata": {},
     "output_type": "display_data"
    },
    {
     "name": "stderr",
     "output_type": "stream",
     "text": [
      "\u001b[32mloss: 3e-05:  25%|██████████▎                              |  ETA: 0:04:17\u001b[39m"
     ]
    },
    {
     "data": {
      "text/plain": [
       "3.0002687775532166e-5"
      ]
     },
     "metadata": {},
     "output_type": "display_data"
    },
    {
     "name": "stderr",
     "output_type": "stream",
     "text": [
      "\u001b[32mloss: 3e-05:  25%|██████████▍                              |  ETA: 0:04:17\u001b[39m"
     ]
    },
    {
     "data": {
      "text/plain": [
       "2.9982048650900595e-5"
      ]
     },
     "metadata": {},
     "output_type": "display_data"
    },
    {
     "name": "stderr",
     "output_type": "stream",
     "text": [
      "\u001b[32mloss: 3e-05:  26%|██████████▌                              |  ETA: 0:04:15\u001b[39m"
     ]
    },
    {
     "data": {
      "text/plain": [
       "2.9969257773654334e-5"
      ]
     },
     "metadata": {},
     "output_type": "display_data"
    },
    {
     "name": "stderr",
     "output_type": "stream",
     "text": [
      "\u001b[32mloss: 3e-05:  26%|██████████▌                              |  ETA: 0:04:15\u001b[39m"
     ]
    },
    {
     "data": {
      "text/plain": [
       "2.9947388142215203e-5"
      ]
     },
     "metadata": {},
     "output_type": "display_data"
    },
    {
     "name": "stderr",
     "output_type": "stream",
     "text": [
      "\u001b[32mloss: 2.99e-05:  26%|██████████▋                              |  ETA: 0:04:14\u001b[39m"
     ]
    },
    {
     "data": {
      "text/plain": [
       "2.9921396439203107e-5"
      ]
     },
     "metadata": {},
     "output_type": "display_data"
    },
    {
     "name": "stderr",
     "output_type": "stream",
     "text": [
      "\u001b[32mloss: 2.99e-05:  26%|██████████▊                              |  ETA: 0:04:14\u001b[39m"
     ]
    },
    {
     "data": {
      "text/plain": [
       "2.990591101204032e-5"
      ]
     },
     "metadata": {},
     "output_type": "display_data"
    },
    {
     "name": "stderr",
     "output_type": "stream",
     "text": [
      "\u001b[32mloss: 2.99e-05:  26%|██████████▉                              |  ETA: 0:04:12\u001b[39m"
     ]
    },
    {
     "data": {
      "text/plain": [
       "2.9890711887414767e-5"
      ]
     },
     "metadata": {},
     "output_type": "display_data"
    },
    {
     "name": "stderr",
     "output_type": "stream",
     "text": [
      "\u001b[32mloss: 2.99e-05:  27%|███████████                              |  ETA: 0:04:12\u001b[39m"
     ]
    },
    {
     "data": {
      "text/plain": [
       "2.9867125321825228e-5"
      ]
     },
     "metadata": {},
     "output_type": "display_data"
    },
    {
     "name": "stderr",
     "output_type": "stream",
     "text": [
      "\u001b[32mloss: 2.99e-05:  27%|███████████▏                             |  ETA: 0:04:10\u001b[39m"
     ]
    },
    {
     "data": {
      "text/plain": [
       "2.9847278076200467e-5"
      ]
     },
     "metadata": {},
     "output_type": "display_data"
    },
    {
     "name": "stderr",
     "output_type": "stream",
     "text": [
      "\u001b[32mloss: 2.98e-05:  27%|███████████▏                             |  ETA: 0:04:10\u001b[39m"
     ]
    },
    {
     "data": {
      "text/plain": [
       "2.9833635467824138e-5"
      ]
     },
     "metadata": {},
     "output_type": "display_data"
    },
    {
     "name": "stderr",
     "output_type": "stream",
     "text": [
      "\u001b[32mloss: 2.98e-05:  28%|███████████▎                             |  ETA: 0:04:09\u001b[39m"
     ]
    },
    {
     "data": {
      "text/plain": [
       "2.981462828444137e-5"
      ]
     },
     "metadata": {},
     "output_type": "display_data"
    },
    {
     "name": "stderr",
     "output_type": "stream",
     "text": [
      "\u001b[32mloss: 2.98e-05:  28%|███████████▍                             |  ETA: 0:04:09\u001b[39m"
     ]
    },
    {
     "data": {
      "text/plain": [
       "2.9793076603112922e-5"
      ]
     },
     "metadata": {},
     "output_type": "display_data"
    },
    {
     "name": "stderr",
     "output_type": "stream",
     "text": [
      "\u001b[32mloss: 2.98e-05:  28%|███████████▌                             |  ETA: 0:04:07\u001b[39m"
     ]
    },
    {
     "data": {
      "text/plain": [
       "2.977607021392714e-5"
      ]
     },
     "metadata": {},
     "output_type": "display_data"
    },
    {
     "name": "stderr",
     "output_type": "stream",
     "text": [
      "\u001b[32mloss: 2.98e-05:  28%|███████████▌                             |  ETA: 0:04:07\u001b[39m"
     ]
    },
    {
     "data": {
      "text/plain": [
       "2.975977051855594e-5"
      ]
     },
     "metadata": {},
     "output_type": "display_data"
    },
    {
     "name": "stderr",
     "output_type": "stream",
     "text": [
      "\u001b[32mloss: 2.98e-05:  28%|███████████▋                             |  ETA: 0:04:05\u001b[39m"
     ]
    },
    {
     "data": {
      "text/plain": [
       "2.9740244825493534e-5"
      ]
     },
     "metadata": {},
     "output_type": "display_data"
    },
    {
     "name": "stderr",
     "output_type": "stream",
     "text": [
      "\u001b[32mloss: 2.97e-05:  29%|███████████▊                             |  ETA: 0:04:05\u001b[39m"
     ]
    },
    {
     "data": {
      "text/plain": [
       "2.9722933764020354e-5"
      ]
     },
     "metadata": {},
     "output_type": "display_data"
    },
    {
     "name": "stderr",
     "output_type": "stream",
     "text": [
      "\u001b[32mloss: 2.97e-05:  29%|███████████▉                             |  ETA: 0:04:04\u001b[39m"
     ]
    },
    {
     "data": {
      "text/plain": [
       "2.970717229855424e-5"
      ]
     },
     "metadata": {},
     "output_type": "display_data"
    },
    {
     "name": "stderr",
     "output_type": "stream",
     "text": [
      "\u001b[32mloss: 2.97e-05:  29%|████████████                             |  ETA: 0:04:04\u001b[39m"
     ]
    },
    {
     "data": {
      "text/plain": [
       "2.9688202885846948e-5"
      ]
     },
     "metadata": {},
     "output_type": "display_data"
    },
    {
     "name": "stderr",
     "output_type": "stream",
     "text": [
      "\u001b[32mloss: 2.97e-05:  30%|████████████▏                            |  ETA: 0:04:02\u001b[39m"
     ]
    },
    {
     "data": {
      "text/plain": [
       "2.967025611555485e-5"
      ]
     },
     "metadata": {},
     "output_type": "display_data"
    },
    {
     "name": "stderr",
     "output_type": "stream",
     "text": [
      "\u001b[32mloss: 2.97e-05:  30%|████████████▏                            |  ETA: 0:04:02\u001b[39m"
     ]
    },
    {
     "data": {
      "text/plain": [
       "2.9653962360320918e-5"
      ]
     },
     "metadata": {},
     "output_type": "display_data"
    },
    {
     "name": "stderr",
     "output_type": "stream",
     "text": [
      "\u001b[32mloss: 2.97e-05:  30%|████████████▎                            |  ETA: 0:04:01\u001b[39m"
     ]
    },
    {
     "data": {
      "text/plain": [
       "2.9636832506341193e-5"
      ]
     },
     "metadata": {},
     "output_type": "display_data"
    },
    {
     "name": "stderr",
     "output_type": "stream",
     "text": [
      "\u001b[32mloss: 2.96e-05:  30%|████████████▍                            |  ETA: 0:04:00\u001b[39m"
     ]
    },
    {
     "data": {
      "text/plain": [
       "2.9619431417771125e-5"
      ]
     },
     "metadata": {},
     "output_type": "display_data"
    },
    {
     "name": "stderr",
     "output_type": "stream",
     "text": [
      "\u001b[32mloss: 2.96e-05:  30%|████████████▌                            |  ETA: 0:03:59\u001b[39m"
     ]
    },
    {
     "data": {
      "text/plain": [
       "2.960325098211314e-5"
      ]
     },
     "metadata": {},
     "output_type": "display_data"
    },
    {
     "name": "stderr",
     "output_type": "stream",
     "text": [
      "\u001b[32mloss: 2.96e-05:  31%|████████████▋                            |  ETA: 0:03:59\u001b[39m"
     ]
    },
    {
     "data": {
      "text/plain": [
       "2.9586364520994834e-5"
      ]
     },
     "metadata": {},
     "output_type": "display_data"
    },
    {
     "name": "stderr",
     "output_type": "stream",
     "text": [
      "\u001b[32mloss: 2.96e-05:  31%|████████████▊                            |  ETA: 0:03:57\u001b[39m"
     ]
    },
    {
     "data": {
      "text/plain": [
       "2.9568676168434394e-5"
      ]
     },
     "metadata": {},
     "output_type": "display_data"
    },
    {
     "name": "stderr",
     "output_type": "stream",
     "text": [
      "\u001b[32mloss: 2.96e-05:  31%|████████████▊                            |  ETA: 0:03:57\u001b[39m"
     ]
    },
    {
     "data": {
      "text/plain": [
       "2.9552295514267968e-5"
      ]
     },
     "metadata": {},
     "output_type": "display_data"
    },
    {
     "name": "stderr",
     "output_type": "stream",
     "text": [
      "\u001b[32mloss: 2.96e-05:  32%|████████████▉                            |  ETA: 0:03:56\u001b[39m"
     ]
    },
    {
     "data": {
      "text/plain": [
       "2.9536490990800246e-5"
      ]
     },
     "metadata": {},
     "output_type": "display_data"
    },
    {
     "name": "stderr",
     "output_type": "stream",
     "text": [
      "\u001b[32mloss: 2.95e-05:  32%|█████████████                            |  ETA: 0:03:56\u001b[39m"
     ]
    },
    {
     "data": {
      "text/plain": [
       "2.9519505329478335e-5"
      ]
     },
     "metadata": {},
     "output_type": "display_data"
    },
    {
     "name": "stderr",
     "output_type": "stream",
     "text": [
      "\u001b[32mloss: 2.95e-05:  32%|█████████████▏                           |  ETA: 0:03:54\u001b[39m"
     ]
    },
    {
     "data": {
      "text/plain": [
       "2.95033233812525e-5"
      ]
     },
     "metadata": {},
     "output_type": "display_data"
    },
    {
     "name": "stderr",
     "output_type": "stream",
     "text": [
      "\u001b[32mloss: 2.95e-05:  32%|█████████████▎                           |  ETA: 0:03:54\u001b[39m"
     ]
    },
    {
     "data": {
      "text/plain": [
       "2.9487240727821273e-5"
      ]
     },
     "metadata": {},
     "output_type": "display_data"
    },
    {
     "name": "stderr",
     "output_type": "stream",
     "text": [
      "\u001b[32mloss: 2.95e-05:  32%|█████████████▍                           |  ETA: 0:03:53\u001b[39m"
     ]
    },
    {
     "data": {
      "text/plain": [
       "2.947078057813357e-5"
      ]
     },
     "metadata": {},
     "output_type": "display_data"
    },
    {
     "name": "stderr",
     "output_type": "stream",
     "text": [
      "\u001b[32mloss: 2.95e-05:  33%|█████████████▍                           |  ETA: 0:03:52\u001b[39m"
     ]
    },
    {
     "data": {
      "text/plain": [
       "2.9454413963403425e-5"
      ]
     },
     "metadata": {},
     "output_type": "display_data"
    },
    {
     "name": "stderr",
     "output_type": "stream",
     "text": [
      "\u001b[32mloss: 2.95e-05:  33%|█████████████▌                           |  ETA: 0:03:51\u001b[39m"
     ]
    },
    {
     "data": {
      "text/plain": [
       "2.9438957253713482e-5"
      ]
     },
     "metadata": {},
     "output_type": "display_data"
    },
    {
     "name": "stderr",
     "output_type": "stream",
     "text": [
      "\u001b[32mloss: 2.94e-05:  33%|█████████████▋                           |  ETA: 0:03:51\u001b[39m"
     ]
    },
    {
     "data": {
      "text/plain": [
       "2.9422756579133846e-5"
      ]
     },
     "metadata": {},
     "output_type": "display_data"
    },
    {
     "name": "stderr",
     "output_type": "stream",
     "text": [
      "\u001b[32mloss: 2.94e-05:  34%|█████████████▊                           |  ETA: 0:03:49\u001b[39m"
     ]
    },
    {
     "data": {
      "text/plain": [
       "2.9406806477894065e-5"
      ]
     },
     "metadata": {},
     "output_type": "display_data"
    },
    {
     "name": "stderr",
     "output_type": "stream",
     "text": [
      "\u001b[32mloss: 2.94e-05:  34%|█████████████▉                           |  ETA: 0:03:49\u001b[39m"
     ]
    },
    {
     "data": {
      "text/plain": [
       "2.9391296631597896e-5"
      ]
     },
     "metadata": {},
     "output_type": "display_data"
    },
    {
     "name": "stderr",
     "output_type": "stream",
     "text": [
      "\u001b[32mloss: 2.94e-05:  34%|██████████████                           |  ETA: 0:03:48\u001b[39m"
     ]
    },
    {
     "data": {
      "text/plain": [
       "2.937578872774793e-5"
      ]
     },
     "metadata": {},
     "output_type": "display_data"
    },
    {
     "name": "stderr",
     "output_type": "stream",
     "text": [
      "\u001b[32mloss: 2.94e-05:  34%|██████████████                           |  ETA: 0:03:48\u001b[39m"
     ]
    },
    {
     "data": {
      "text/plain": [
       "2.9359506228843202e-5"
      ]
     },
     "metadata": {},
     "output_type": "display_data"
    },
    {
     "name": "stderr",
     "output_type": "stream",
     "text": [
      "\u001b[32mloss: 2.94e-05:  34%|██████████████▏                          |  ETA: 0:03:46\u001b[39m"
     ]
    },
    {
     "data": {
      "text/plain": [
       "2.934449565961117e-5"
      ]
     },
     "metadata": {},
     "output_type": "display_data"
    },
    {
     "name": "stderr",
     "output_type": "stream",
     "text": [
      "\u001b[32mloss: 2.93e-05:  35%|██████████████▎                          |  ETA: 0:03:46\u001b[39m"
     ]
    },
    {
     "data": {
      "text/plain": [
       "2.932901292629353e-5"
      ]
     },
     "metadata": {},
     "output_type": "display_data"
    },
    {
     "name": "stderr",
     "output_type": "stream",
     "text": [
      "\u001b[32mloss: 2.93e-05:  35%|██████████████▍                          |  ETA: 0:03:45\u001b[39m"
     ]
    },
    {
     "data": {
      "text/plain": [
       "2.9313376264550328e-5"
      ]
     },
     "metadata": {},
     "output_type": "display_data"
    },
    {
     "name": "stderr",
     "output_type": "stream",
     "text": [
      "\u001b[32mloss: 2.93e-05:  35%|██████████████▍                          |  ETA: 0:03:44\u001b[39m"
     ]
    },
    {
     "data": {
      "text/plain": [
       "2.929833288201067e-5"
      ]
     },
     "metadata": {},
     "output_type": "display_data"
    },
    {
     "name": "stderr",
     "output_type": "stream",
     "text": [
      "\u001b[32mloss: 2.93e-05:  36%|██████████████▌                          |  ETA: 0:03:43\u001b[39m"
     ]
    },
    {
     "data": {
      "text/plain": [
       "2.928311887728796e-5"
      ]
     },
     "metadata": {},
     "output_type": "display_data"
    },
    {
     "name": "stderr",
     "output_type": "stream",
     "text": [
      "\u001b[32mloss: 2.93e-05:  36%|██████████████▋                          |  ETA: 0:03:43\u001b[39m"
     ]
    },
    {
     "data": {
      "text/plain": [
       "2.9267845380598345e-5"
      ]
     },
     "metadata": {},
     "output_type": "display_data"
    },
    {
     "name": "stderr",
     "output_type": "stream",
     "text": [
      "\u001b[32mloss: 2.93e-05:  36%|██████████████▊                          |  ETA: 0:03:41\u001b[39m"
     ]
    },
    {
     "data": {
      "text/plain": [
       "2.925284110810722e-5"
      ]
     },
     "metadata": {},
     "output_type": "display_data"
    },
    {
     "name": "stderr",
     "output_type": "stream",
     "text": [
      "\u001b[32mloss: 2.93e-05:  36%|██████████████▉                          |  ETA: 0:03:41\u001b[39m"
     ]
    },
    {
     "data": {
      "text/plain": [
       "2.9237911540302974e-5"
      ]
     },
     "metadata": {},
     "output_type": "display_data"
    },
    {
     "name": "stderr",
     "output_type": "stream",
     "text": [
      "\u001b[32mloss: 2.92e-05:  36%|███████████████                          |  ETA: 0:03:39\u001b[39m"
     ]
    },
    {
     "data": {
      "text/plain": [
       "2.92226177638355e-5"
      ]
     },
     "metadata": {},
     "output_type": "display_data"
    },
    {
     "name": "stderr",
     "output_type": "stream",
     "text": [
      "\u001b[32mloss: 2.92e-05:  37%|███████████████                          |  ETA: 0:03:39\u001b[39m"
     ]
    },
    {
     "data": {
      "text/plain": [
       "2.9207888165849738e-5"
      ]
     },
     "metadata": {},
     "output_type": "display_data"
    },
    {
     "name": "stderr",
     "output_type": "stream",
     "text": [
      "\u001b[32mloss: 2.92e-05:  37%|███████████████▏                         |  ETA: 0:03:38\u001b[39m"
     ]
    },
    {
     "data": {
      "text/plain": [
       "2.919324144201596e-5"
      ]
     },
     "metadata": {},
     "output_type": "display_data"
    },
    {
     "name": "stderr",
     "output_type": "stream",
     "text": [
      "\u001b[32mloss: 2.92e-05:  37%|███████████████▎                         |  ETA: 0:03:37\u001b[39m"
     ]
    },
    {
     "data": {
      "text/plain": [
       "2.9178482501723835e-5"
      ]
     },
     "metadata": {},
     "output_type": "display_data"
    },
    {
     "name": "stderr",
     "output_type": "stream",
     "text": [
      "\u001b[32mloss: 2.92e-05:  38%|███████████████▍                         |  ETA: 0:03:36\u001b[39m"
     ]
    },
    {
     "data": {
      "text/plain": [
       "2.9163874512683208e-5"
      ]
     },
     "metadata": {},
     "output_type": "display_data"
    },
    {
     "name": "stderr",
     "output_type": "stream",
     "text": [
      "\u001b[32mloss: 2.92e-05:  38%|███████████████▌                         |  ETA: 0:03:36\u001b[39m"
     ]
    },
    {
     "data": {
      "text/plain": [
       "2.9149219868518372e-5"
      ]
     },
     "metadata": {},
     "output_type": "display_data"
    },
    {
     "name": "stderr",
     "output_type": "stream",
     "text": [
      "\u001b[32mloss: 2.91e-05:  38%|███████████████▋                         |  ETA: 0:03:34\u001b[39m"
     ]
    },
    {
     "data": {
      "text/plain": [
       "2.9134981866629772e-5"
      ]
     },
     "metadata": {},
     "output_type": "display_data"
    },
    {
     "name": "stderr",
     "output_type": "stream",
     "text": [
      "\u001b[32mloss: 2.91e-05:  38%|███████████████▋                         |  ETA: 0:03:34\u001b[39m"
     ]
    },
    {
     "data": {
      "text/plain": [
       "2.9120253618231118e-5"
      ]
     },
     "metadata": {},
     "output_type": "display_data"
    },
    {
     "name": "stderr",
     "output_type": "stream",
     "text": [
      "\u001b[32mloss: 2.91e-05:  38%|███████████████▊                         |  ETA: 0:03:33\u001b[39m"
     ]
    },
    {
     "data": {
      "text/plain": [
       "2.910614009410395e-5"
      ]
     },
     "metadata": {},
     "output_type": "display_data"
    },
    {
     "name": "stderr",
     "output_type": "stream",
     "text": [
      "\u001b[32mloss: 2.91e-05:  39%|███████████████▉                         |  ETA: 0:03:32\u001b[39m"
     ]
    },
    {
     "data": {
      "text/plain": [
       "2.9091857254304188e-5"
      ]
     },
     "metadata": {},
     "output_type": "display_data"
    },
    {
     "name": "stderr",
     "output_type": "stream",
     "text": [
      "\u001b[32mloss: 2.91e-05:  39%|████████████████                         |  ETA: 0:03:31\u001b[39m"
     ]
    },
    {
     "data": {
      "text/plain": [
       "2.90776395792669e-5"
      ]
     },
     "metadata": {},
     "output_type": "display_data"
    },
    {
     "name": "stderr",
     "output_type": "stream",
     "text": [
      "\u001b[32mloss: 2.91e-05:  39%|████████████████▏                        |  ETA: 0:03:31\u001b[39m"
     ]
    },
    {
     "data": {
      "text/plain": [
       "2.906342267605666e-5"
      ]
     },
     "metadata": {},
     "output_type": "display_data"
    },
    {
     "name": "stderr",
     "output_type": "stream",
     "text": [
      "\u001b[32mloss: 2.91e-05:  40%|████████████████▎                        |  ETA: 0:03:30\u001b[39m"
     ]
    },
    {
     "data": {
      "text/plain": [
       "2.904943828507811e-5"
      ]
     },
     "metadata": {},
     "output_type": "display_data"
    },
    {
     "name": "stderr",
     "output_type": "stream",
     "text": [
      "\u001b[32mloss: 2.9e-05:  40%|████████████████▎                        |  ETA: 0:03:29\u001b[39m"
     ]
    },
    {
     "data": {
      "text/plain": [
       "2.9035439443880762e-5"
      ]
     },
     "metadata": {},
     "output_type": "display_data"
    },
    {
     "name": "stderr",
     "output_type": "stream",
     "text": [
      "\u001b[32mloss: 2.9e-05:  40%|████████████████▍                        |  ETA: 0:03:28\u001b[39m"
     ]
    },
    {
     "data": {
      "text/plain": [
       "2.9021454063471452e-5"
      ]
     },
     "metadata": {},
     "output_type": "display_data"
    },
    {
     "name": "stderr",
     "output_type": "stream",
     "text": [
      "\u001b[32mloss: 2.9e-05:  40%|████████████████▌                        |  ETA: 0:03:28\u001b[39m"
     ]
    },
    {
     "data": {
      "text/plain": [
       "2.900748706835543e-5"
      ]
     },
     "metadata": {},
     "output_type": "display_data"
    },
    {
     "name": "stderr",
     "output_type": "stream",
     "text": [
      "\u001b[32mloss: 2.9e-05:  40%|████████████████▋                        |  ETA: 0:03:26\u001b[39m"
     ]
    },
    {
     "data": {
      "text/plain": [
       "2.8993798215193323e-5"
      ]
     },
     "metadata": {},
     "output_type": "display_data"
    },
    {
     "name": "stderr",
     "output_type": "stream",
     "text": [
      "\u001b[32mloss: 2.9e-05:  41%|████████████████▋                        |  ETA: 0:03:26\u001b[39m"
     ]
    },
    {
     "data": {
      "text/plain": [
       "2.8979994008970777e-5"
      ]
     },
     "metadata": {},
     "output_type": "display_data"
    },
    {
     "name": "stderr",
     "output_type": "stream",
     "text": [
      "\u001b[32mloss: 2.9e-05:  41%|████████████████▊                        |  ETA: 0:03:25\u001b[39m"
     ]
    },
    {
     "data": {
      "text/plain": [
       "2.8966351653281208e-5"
      ]
     },
     "metadata": {},
     "output_type": "display_data"
    },
    {
     "name": "stderr",
     "output_type": "stream",
     "text": [
      "\u001b[32mloss: 2.9e-05:  41%|████████████████▉                        |  ETA: 0:03:24\u001b[39m"
     ]
    },
    {
     "data": {
      "text/plain": [
       "2.895264355018412e-5"
      ]
     },
     "metadata": {},
     "output_type": "display_data"
    },
    {
     "name": "stderr",
     "output_type": "stream",
     "text": [
      "\u001b[32mloss: 2.9e-05:  42%|█████████████████                        |  ETA: 0:03:23\u001b[39m"
     ]
    },
    {
     "data": {
      "text/plain": [
       "2.893908537693335e-5"
      ]
     },
     "metadata": {},
     "output_type": "display_data"
    },
    {
     "name": "stderr",
     "output_type": "stream",
     "text": [
      "\u001b[32mloss: 2.89e-05:  42%|█████████████████▏                       |  ETA: 0:03:23\u001b[39m"
     ]
    },
    {
     "data": {
      "text/plain": [
       "2.8925707859173144e-5"
      ]
     },
     "metadata": {},
     "output_type": "display_data"
    },
    {
     "name": "stderr",
     "output_type": "stream",
     "text": [
      "\u001b[32mloss: 2.89e-05:  42%|█████████████████▎                       |  ETA: 0:03:21\u001b[39m"
     ]
    },
    {
     "data": {
      "text/plain": [
       "2.8912203301256767e-5"
      ]
     },
     "metadata": {},
     "output_type": "display_data"
    },
    {
     "name": "stderr",
     "output_type": "stream",
     "text": [
      "\u001b[32mloss: 2.89e-05:  42%|█████████████████▎                       |  ETA: 0:03:21\u001b[39m"
     ]
    },
    {
     "data": {
      "text/plain": [
       "2.8898632146390213e-5"
      ]
     },
     "metadata": {},
     "output_type": "display_data"
    },
    {
     "name": "stderr",
     "output_type": "stream",
     "text": [
      "\u001b[32mloss: 2.89e-05:  42%|█████████████████▍                       |  ETA: 0:03:20\u001b[39m"
     ]
    },
    {
     "data": {
      "text/plain": [
       "2.8885416169188716e-5"
      ]
     },
     "metadata": {},
     "output_type": "display_data"
    },
    {
     "name": "stderr",
     "output_type": "stream",
     "text": [
      "\u001b[32mloss: 2.89e-05:  43%|█████████████████▌                       |  ETA: 0:03:19\u001b[39m"
     ]
    },
    {
     "data": {
      "text/plain": [
       "2.887230319537082e-5"
      ]
     },
     "metadata": {},
     "output_type": "display_data"
    },
    {
     "name": "stderr",
     "output_type": "stream",
     "text": [
      "\u001b[32mloss: 2.89e-05:  43%|█████████████████▋                       |  ETA: 0:03:18\u001b[39m"
     ]
    },
    {
     "data": {
      "text/plain": [
       "2.8858782229690405e-5"
      ]
     },
     "metadata": {},
     "output_type": "display_data"
    },
    {
     "name": "stderr",
     "output_type": "stream",
     "text": [
      "\u001b[32mloss: 2.89e-05:  43%|█████████████████▊                       |  ETA: 0:03:18\u001b[39m"
     ]
    },
    {
     "data": {
      "text/plain": [
       "2.884572620054371e-5"
      ]
     },
     "metadata": {},
     "output_type": "display_data"
    },
    {
     "name": "stderr",
     "output_type": "stream",
     "text": [
      "\u001b[32mloss: 2.88e-05:  44%|█████████████████▉                       |  ETA: 0:03:16\u001b[39m"
     ]
    },
    {
     "data": {
      "text/plain": [
       "2.883259763164503e-5"
      ]
     },
     "metadata": {},
     "output_type": "display_data"
    },
    {
     "name": "stderr",
     "output_type": "stream",
     "text": [
      "\u001b[32mloss: 2.88e-05:  44%|█████████████████▉                       |  ETA: 0:03:16\u001b[39m"
     ]
    },
    {
     "data": {
      "text/plain": [
       "2.881959346767715e-5"
      ]
     },
     "metadata": {},
     "output_type": "display_data"
    },
    {
     "name": "stderr",
     "output_type": "stream",
     "text": [
      "\u001b[32mloss: 2.88e-05:  44%|██████████████████                       |  ETA: 0:03:15\u001b[39m"
     ]
    },
    {
     "data": {
      "text/plain": [
       "2.8806671725778443e-5"
      ]
     },
     "metadata": {},
     "output_type": "display_data"
    },
    {
     "name": "stderr",
     "output_type": "stream",
     "text": [
      "\u001b[32mloss: 2.88e-05:  44%|██████████████████▏                      |  ETA: 0:03:14\u001b[39m"
     ]
    },
    {
     "data": {
      "text/plain": [
       "2.879370822306271e-5"
      ]
     },
     "metadata": {},
     "output_type": "display_data"
    },
    {
     "name": "stderr",
     "output_type": "stream",
     "text": [
      "\u001b[32mloss: 2.88e-05:  44%|██████████████████▎                      |  ETA: 0:03:13\u001b[39m"
     ]
    },
    {
     "data": {
      "text/plain": [
       "2.8780871518918616e-5"
      ]
     },
     "metadata": {},
     "output_type": "display_data"
    },
    {
     "name": "stderr",
     "output_type": "stream",
     "text": [
      "\u001b[32mloss: 2.88e-05:  45%|██████████████████▍                      |  ETA: 0:03:13\u001b[39m"
     ]
    },
    {
     "data": {
      "text/plain": [
       "2.8767976459231903e-5"
      ]
     },
     "metadata": {},
     "output_type": "display_data"
    },
    {
     "name": "stderr",
     "output_type": "stream",
     "text": [
      "\u001b[32mloss: 2.88e-05:  45%|██████████████████▌                      |  ETA: 0:03:11\u001b[39m"
     ]
    },
    {
     "data": {
      "text/plain": [
       "2.875526102519288e-5"
      ]
     },
     "metadata": {},
     "output_type": "display_data"
    },
    {
     "name": "stderr",
     "output_type": "stream",
     "text": [
      "\u001b[32mloss: 2.88e-05:  45%|██████████████████▌                      |  ETA: 0:03:11\u001b[39m"
     ]
    },
    {
     "data": {
      "text/plain": [
       "2.8742437384821073e-5"
      ]
     },
     "metadata": {},
     "output_type": "display_data"
    },
    {
     "name": "stderr",
     "output_type": "stream",
     "text": [
      "\u001b[32mloss: 2.87e-05:  46%|██████████████████▋                      |  ETA: 0:03:10\u001b[39m"
     ]
    },
    {
     "data": {
      "text/plain": [
       "2.872995243929921e-5"
      ]
     },
     "metadata": {},
     "output_type": "display_data"
    },
    {
     "name": "stderr",
     "output_type": "stream",
     "text": [
      "\u001b[32mloss: 2.87e-05:  46%|██████████████████▊                      |  ETA: 0:03:09\u001b[39m"
     ]
    },
    {
     "data": {
      "text/plain": [
       "2.871712811103322e-5"
      ]
     },
     "metadata": {},
     "output_type": "display_data"
    },
    {
     "name": "stderr",
     "output_type": "stream",
     "text": [
      "\u001b[32mloss: 2.87e-05:  46%|██████████████████▉                      |  ETA: 0:03:08\u001b[39m"
     ]
    },
    {
     "data": {
      "text/plain": [
       "2.8704590886885484e-5"
      ]
     },
     "metadata": {},
     "output_type": "display_data"
    },
    {
     "name": "stderr",
     "output_type": "stream",
     "text": [
      "\u001b[32mloss: 2.87e-05:  46%|███████████████████                      |  ETA: 0:03:08\u001b[39m"
     ]
    },
    {
     "data": {
      "text/plain": [
       "2.86919883651926e-5"
      ]
     },
     "metadata": {},
     "output_type": "display_data"
    },
    {
     "name": "stderr",
     "output_type": "stream",
     "text": [
      "\u001b[32mloss: 2.87e-05:  46%|███████████████████▏                     |  ETA: 0:03:07\u001b[39m"
     ]
    },
    {
     "data": {
      "text/plain": [
       "2.8679589641811276e-5"
      ]
     },
     "metadata": {},
     "output_type": "display_data"
    },
    {
     "name": "stderr",
     "output_type": "stream",
     "text": [
      "\u001b[32mloss: 2.87e-05:  47%|███████████████████▏                     |  ETA: 0:03:06\u001b[39m"
     ]
    },
    {
     "data": {
      "text/plain": [
       "2.866727966521765e-5"
      ]
     },
     "metadata": {},
     "output_type": "display_data"
    },
    {
     "name": "stderr",
     "output_type": "stream",
     "text": [
      "\u001b[32mloss: 2.87e-05:  47%|███████████████████▎                     |  ETA: 0:03:05\u001b[39m"
     ]
    },
    {
     "data": {
      "text/plain": [
       "2.86548811239129e-5"
      ]
     },
     "metadata": {},
     "output_type": "display_data"
    },
    {
     "name": "stderr",
     "output_type": "stream",
     "text": [
      "\u001b[32mloss: 2.87e-05:  47%|███████████████████▍                     |  ETA: 0:03:04\u001b[39m"
     ]
    },
    {
     "data": {
      "text/plain": [
       "2.864263008950374e-5"
      ]
     },
     "metadata": {},
     "output_type": "display_data"
    },
    {
     "name": "stderr",
     "output_type": "stream",
     "text": [
      "\u001b[32mloss: 2.86e-05:  48%|███████████████████▌                     |  ETA: 0:03:03\u001b[39m"
     ]
    },
    {
     "data": {
      "text/plain": [
       "2.863026983446204e-5"
      ]
     },
     "metadata": {},
     "output_type": "display_data"
    },
    {
     "name": "stderr",
     "output_type": "stream",
     "text": [
      "\u001b[32mloss: 2.86e-05:  48%|███████████████████▌                     |  ETA: 0:03:03\u001b[39m"
     ]
    },
    {
     "data": {
      "text/plain": [
       "2.8618045458728147e-5"
      ]
     },
     "metadata": {},
     "output_type": "display_data"
    },
    {
     "name": "stderr",
     "output_type": "stream",
     "text": [
      "\u001b[32mloss: 2.86e-05:  48%|███████████████████▋                     |  ETA: 0:03:01\u001b[39m"
     ]
    },
    {
     "data": {
      "text/plain": [
       "2.8605792490754567e-5"
      ]
     },
     "metadata": {},
     "output_type": "display_data"
    },
    {
     "name": "stderr",
     "output_type": "stream",
     "text": [
      "\u001b[32mloss: 2.86e-05:  48%|███████████████████▊                     |  ETA: 0:03:01\u001b[39m"
     ]
    },
    {
     "data": {
      "text/plain": [
       "2.8593857954284374e-5"
      ]
     },
     "metadata": {},
     "output_type": "display_data"
    },
    {
     "name": "stderr",
     "output_type": "stream",
     "text": [
      "\u001b[32mloss: 2.86e-05:  48%|███████████████████▉                     |  ETA: 0:03:00\u001b[39m"
     ]
    },
    {
     "data": {
      "text/plain": [
       "2.8581795378013197e-5"
      ]
     },
     "metadata": {},
     "output_type": "display_data"
    },
    {
     "name": "stderr",
     "output_type": "stream",
     "text": [
      "\u001b[32mloss: 2.86e-05:  49%|████████████████████                     |  ETA: 0:02:59\u001b[39m"
     ]
    },
    {
     "data": {
      "text/plain": [
       "2.8569591503657676e-5"
      ]
     },
     "metadata": {},
     "output_type": "display_data"
    },
    {
     "name": "stderr",
     "output_type": "stream",
     "text": [
      "\u001b[32mloss: 2.86e-05:  49%|████████████████████▏                    |  ETA: 0:02:58\u001b[39m"
     ]
    },
    {
     "data": {
      "text/plain": [
       "2.855757313735552e-5"
      ]
     },
     "metadata": {},
     "output_type": "display_data"
    },
    {
     "name": "stderr",
     "output_type": "stream",
     "text": [
      "\u001b[32mloss: 2.86e-05:  49%|████████████████████▏                    |  ETA: 0:02:58\u001b[39m"
     ]
    },
    {
     "data": {
      "text/plain": [
       "2.854561052512139e-5"
      ]
     },
     "metadata": {},
     "output_type": "display_data"
    },
    {
     "name": "stderr",
     "output_type": "stream",
     "text": [
      "\u001b[32mloss: 2.85e-05:  50%|████████████████████▎                    |  ETA: 0:02:57\u001b[39m"
     ]
    },
    {
     "data": {
      "text/plain": [
       "2.853382036782648e-5"
      ]
     },
     "metadata": {},
     "output_type": "display_data"
    },
    {
     "name": "stderr",
     "output_type": "stream",
     "text": [
      "\u001b[32mloss: 2.85e-05:  50%|████████████████████▍                    |  ETA: 0:02:56\u001b[39m"
     ]
    },
    {
     "data": {
      "text/plain": [
       "2.8521802540648622e-5"
      ]
     },
     "metadata": {},
     "output_type": "display_data"
    },
    {
     "name": "stderr",
     "output_type": "stream",
     "text": [
      "\u001b[32mloss: 2.85e-05:  50%|████████████████████▌                    |  ETA: 0:02:55\u001b[39m"
     ]
    },
    {
     "data": {
      "text/plain": [
       "2.8510060790409852e-5"
      ]
     },
     "metadata": {},
     "output_type": "display_data"
    },
    {
     "name": "stderr",
     "output_type": "stream",
     "text": [
      "\u001b[32mloss: 2.85e-05:  50%|████████████████████▋                    |  ETA: 0:02:54\u001b[39m"
     ]
    },
    {
     "data": {
      "text/plain": [
       "2.849827765416535e-5"
      ]
     },
     "metadata": {},
     "output_type": "display_data"
    },
    {
     "name": "stderr",
     "output_type": "stream",
     "text": [
      "\u001b[32mloss: 2.85e-05:  50%|████████████████████▊                    |  ETA: 0:02:53\u001b[39m"
     ]
    },
    {
     "data": {
      "text/plain": [
       "2.848641055352985e-5"
      ]
     },
     "metadata": {},
     "output_type": "display_data"
    },
    {
     "name": "stderr",
     "output_type": "stream",
     "text": [
      "\u001b[32mloss: 2.85e-05:  51%|████████████████████▊                    |  ETA: 0:02:53\u001b[39m"
     ]
    },
    {
     "data": {
      "text/plain": [
       "2.847487044466135e-5"
      ]
     },
     "metadata": {},
     "output_type": "display_data"
    },
    {
     "name": "stderr",
     "output_type": "stream",
     "text": [
      "\u001b[32mloss: 2.85e-05:  51%|████████████████████▉                    |  ETA: 0:02:52\u001b[39m"
     ]
    },
    {
     "data": {
      "text/plain": [
       "2.8463129686961963e-5"
      ]
     },
     "metadata": {},
     "output_type": "display_data"
    },
    {
     "name": "stderr",
     "output_type": "stream",
     "text": [
      "\u001b[32mloss: 2.85e-05:  51%|█████████████████████                    |  ETA: 0:02:51\u001b[39m"
     ]
    },
    {
     "data": {
      "text/plain": [
       "2.845160769249233e-5"
      ]
     },
     "metadata": {},
     "output_type": "display_data"
    },
    {
     "name": "stderr",
     "output_type": "stream",
     "text": [
      "\u001b[32mloss: 2.85e-05:  52%|█████████████████████▏                   |  ETA: 0:02:50\u001b[39m"
     ]
    },
    {
     "data": {
      "text/plain": [
       "2.843998904467071e-5"
      ]
     },
     "metadata": {},
     "output_type": "display_data"
    },
    {
     "name": "stderr",
     "output_type": "stream",
     "text": [
      "\u001b[32mloss: 2.84e-05:  52%|█████████████████████▎                   |  ETA: 0:02:49\u001b[39m"
     ]
    },
    {
     "data": {
      "text/plain": [
       "2.8428494800447623e-5"
      ]
     },
     "metadata": {},
     "output_type": "display_data"
    },
    {
     "name": "stderr",
     "output_type": "stream",
     "text": [
      "\u001b[32mloss: 2.84e-05:  52%|█████████████████████▍                   |  ETA: 0:02:48\u001b[39m"
     ]
    },
    {
     "data": {
      "text/plain": [
       "2.8416937368547224e-5"
      ]
     },
     "metadata": {},
     "output_type": "display_data"
    },
    {
     "name": "stderr",
     "output_type": "stream",
     "text": [
      "\u001b[32mloss: 2.84e-05:  52%|█████████████████████▍                   |  ETA: 0:02:48\u001b[39m"
     ]
    },
    {
     "data": {
      "text/plain": [
       "2.840531364656229e-5"
      ]
     },
     "metadata": {},
     "output_type": "display_data"
    },
    {
     "name": "stderr",
     "output_type": "stream",
     "text": [
      "\u001b[32mloss: 2.84e-05:  52%|█████████████████████▌                   |  ETA: 0:02:46\u001b[39m"
     ]
    },
    {
     "data": {
      "text/plain": [
       "2.8393861227105077e-5"
      ]
     },
     "metadata": {},
     "output_type": "display_data"
    },
    {
     "name": "stderr",
     "output_type": "stream",
     "text": [
      "\u001b[32mloss: 2.84e-05:  53%|█████████████████████▋                   |  ETA: 0:02:46\u001b[39m"
     ]
    },
    {
     "data": {
      "text/plain": [
       "2.8382526064962832e-5"
      ]
     },
     "metadata": {},
     "output_type": "display_data"
    },
    {
     "name": "stderr",
     "output_type": "stream",
     "text": [
      "\u001b[32mloss: 2.84e-05:  53%|█████████████████████▊                   |  ETA: 0:02:45\u001b[39m"
     ]
    },
    {
     "data": {
      "text/plain": [
       "2.8371311795449827e-5"
      ]
     },
     "metadata": {},
     "output_type": "display_data"
    },
    {
     "name": "stderr",
     "output_type": "stream",
     "text": [
      "\u001b[32mloss: 2.84e-05:  53%|█████████████████████▊                   |  ETA: 0:02:44\u001b[39m"
     ]
    },
    {
     "data": {
      "text/plain": [
       "2.8360119268988626e-5"
      ]
     },
     "metadata": {},
     "output_type": "display_data"
    },
    {
     "name": "stderr",
     "output_type": "stream",
     "text": [
      "\u001b[32mloss: 2.84e-05:  54%|█████████████████████▉                   |  ETA: 0:02:43\u001b[39m"
     ]
    },
    {
     "data": {
      "text/plain": [
       "2.8348607362005396e-5"
      ]
     },
     "metadata": {},
     "output_type": "display_data"
    },
    {
     "name": "stderr",
     "output_type": "stream",
     "text": [
      "\u001b[32mloss: 2.83e-05:  54%|██████████████████████                   |  ETA: 0:02:42\u001b[39m"
     ]
    },
    {
     "data": {
      "text/plain": [
       "2.8337489793806014e-5"
      ]
     },
     "metadata": {},
     "output_type": "display_data"
    },
    {
     "name": "stderr",
     "output_type": "stream",
     "text": [
      "\u001b[32mloss: 2.83e-05:  54%|██████████████████████▏                  |  ETA: 0:02:41\u001b[39m"
     ]
    },
    {
     "data": {
      "text/plain": [
       "2.832611996028689e-5"
      ]
     },
     "metadata": {},
     "output_type": "display_data"
    },
    {
     "name": "stderr",
     "output_type": "stream",
     "text": [
      "\u001b[32mloss: 2.83e-05:  54%|██████████████████████▎                  |  ETA: 0:02:41\u001b[39m"
     ]
    },
    {
     "data": {
      "text/plain": [
       "2.8314807875684522e-5"
      ]
     },
     "metadata": {},
     "output_type": "display_data"
    },
    {
     "name": "stderr",
     "output_type": "stream",
     "text": [
      "\u001b[32mloss: 2.83e-05:  54%|██████████████████████▍                  |  ETA: 0:02:40\u001b[39m"
     ]
    },
    {
     "data": {
      "text/plain": [
       "2.8303885621472347e-5"
      ]
     },
     "metadata": {},
     "output_type": "display_data"
    },
    {
     "name": "stderr",
     "output_type": "stream",
     "text": [
      "\u001b[32mloss: 2.83e-05:  55%|██████████████████████▍                  |  ETA: 0:02:39\u001b[39m"
     ]
    },
    {
     "data": {
      "text/plain": [
       "2.829260457826166e-5"
      ]
     },
     "metadata": {},
     "output_type": "display_data"
    },
    {
     "name": "stderr",
     "output_type": "stream",
     "text": [
      "\u001b[32mloss: 2.83e-05:  55%|██████████████████████▌                  |  ETA: 0:02:38\u001b[39m"
     ]
    },
    {
     "data": {
      "text/plain": [
       "2.828141448940613e-5"
      ]
     },
     "metadata": {},
     "output_type": "display_data"
    },
    {
     "name": "stderr",
     "output_type": "stream",
     "text": [
      "\u001b[32mloss: 2.83e-05:  55%|██████████████████████▋                  |  ETA: 0:02:37\u001b[39m"
     ]
    },
    {
     "data": {
      "text/plain": [
       "2.8270386091655553e-5"
      ]
     },
     "metadata": {},
     "output_type": "display_data"
    },
    {
     "name": "stderr",
     "output_type": "stream",
     "text": [
      "\u001b[32mloss: 2.83e-05:  56%|██████████████████████▊                  |  ETA: 0:02:36\u001b[39m"
     ]
    },
    {
     "data": {
      "text/plain": [
       "2.825943886497484e-5"
      ]
     },
     "metadata": {},
     "output_type": "display_data"
    },
    {
     "name": "stderr",
     "output_type": "stream",
     "text": [
      "\u001b[32mloss: 2.83e-05:  56%|██████████████████████▉                  |  ETA: 0:02:36\u001b[39m"
     ]
    },
    {
     "data": {
      "text/plain": [
       "2.8248663459518042e-5"
      ]
     },
     "metadata": {},
     "output_type": "display_data"
    },
    {
     "name": "stderr",
     "output_type": "stream",
     "text": [
      "\u001b[32mloss: 2.82e-05:  56%|███████████████████████                  |  ETA: 0:02:35\u001b[39m"
     ]
    },
    {
     "data": {
      "text/plain": [
       "2.8237552842647062e-5"
      ]
     },
     "metadata": {},
     "output_type": "display_data"
    },
    {
     "name": "stderr",
     "output_type": "stream",
     "text": [
      "\u001b[32mloss: 2.82e-05:  56%|███████████████████████                  |  ETA: 0:02:34\u001b[39m"
     ]
    },
    {
     "data": {
      "text/plain": [
       "2.822641251887248e-5"
      ]
     },
     "metadata": {},
     "output_type": "display_data"
    },
    {
     "name": "stderr",
     "output_type": "stream",
     "text": [
      "\u001b[32mloss: 2.82e-05:  56%|███████████████████████▏                 |  ETA: 0:02:33\u001b[39m"
     ]
    },
    {
     "data": {
      "text/plain": [
       "2.8215543526055598e-5"
      ]
     },
     "metadata": {},
     "output_type": "display_data"
    },
    {
     "name": "stderr",
     "output_type": "stream",
     "text": [
      "\u001b[32mloss: 2.82e-05:  57%|███████████████████████▎                 |  ETA: 0:02:32\u001b[39m"
     ]
    },
    {
     "data": {
      "text/plain": [
       "2.8204853069535574e-5"
      ]
     },
     "metadata": {},
     "output_type": "display_data"
    },
    {
     "name": "stderr",
     "output_type": "stream",
     "text": [
      "\u001b[32mloss: 2.82e-05:  57%|███████████████████████▍                 |  ETA: 0:02:31\u001b[39m"
     ]
    },
    {
     "data": {
      "text/plain": [
       "2.819385207297742e-5"
      ]
     },
     "metadata": {},
     "output_type": "display_data"
    },
    {
     "name": "stderr",
     "output_type": "stream",
     "text": [
      "\u001b[32mloss: 2.82e-05:  57%|███████████████████████▌                 |  ETA: 0:02:31\u001b[39m"
     ]
    },
    {
     "data": {
      "text/plain": [
       "2.8183000961412574e-5"
      ]
     },
     "metadata": {},
     "output_type": "display_data"
    },
    {
     "name": "stderr",
     "output_type": "stream",
     "text": [
      "\u001b[32mloss: 2.82e-05:  58%|███████████████████████▋                 |  ETA: 0:02:29\u001b[39m"
     ]
    },
    {
     "data": {
      "text/plain": [
       "2.8172289166406017e-5"
      ]
     },
     "metadata": {},
     "output_type": "display_data"
    },
    {
     "name": "stderr",
     "output_type": "stream",
     "text": [
      "\u001b[32mloss: 2.82e-05:  58%|███████████████████████▋                 |  ETA: 0:02:29\u001b[39m"
     ]
    },
    {
     "data": {
      "text/plain": [
       "2.8161511671509487e-5"
      ]
     },
     "metadata": {},
     "output_type": "display_data"
    },
    {
     "name": "stderr",
     "output_type": "stream",
     "text": [
      "\u001b[32mloss: 2.82e-05:  58%|███████████████████████▊                 |  ETA: 0:02:28\u001b[39m"
     ]
    },
    {
     "data": {
      "text/plain": [
       "2.815073948081448e-5"
      ]
     },
     "metadata": {},
     "output_type": "display_data"
    },
    {
     "name": "stderr",
     "output_type": "stream",
     "text": [
      "\u001b[32mloss: 2.82e-05:  58%|███████████████████████▉                 |  ETA: 0:02:27\u001b[39m"
     ]
    },
    {
     "data": {
      "text/plain": [
       "2.813994881689652e-5"
      ]
     },
     "metadata": {},
     "output_type": "display_data"
    },
    {
     "name": "stderr",
     "output_type": "stream",
     "text": [
      "\u001b[32mloss: 2.81e-05:  58%|████████████████████████                 |  ETA: 0:02:26\u001b[39m"
     ]
    },
    {
     "data": {
      "text/plain": [
       "2.8129296813173e-5"
      ]
     },
     "metadata": {},
     "output_type": "display_data"
    },
    {
     "name": "stderr",
     "output_type": "stream",
     "text": [
      "\u001b[32mloss: 2.81e-05:  59%|████████████████████████▏                |  ETA: 0:02:26\u001b[39m"
     ]
    },
    {
     "data": {
      "text/plain": [
       "2.811853122697272e-5"
      ]
     },
     "metadata": {},
     "output_type": "display_data"
    },
    {
     "name": "stderr",
     "output_type": "stream",
     "text": [
      "\u001b[32mloss: 2.81e-05:  59%|████████████████████████▎                |  ETA: 0:02:24\u001b[39m"
     ]
    },
    {
     "data": {
      "text/plain": [
       "2.8107882148908914e-5"
      ]
     },
     "metadata": {},
     "output_type": "display_data"
    },
    {
     "name": "stderr",
     "output_type": "stream",
     "text": [
      "\u001b[32mloss: 2.81e-05:  59%|████████████████████████▎                |  ETA: 0:02:24\u001b[39m"
     ]
    },
    {
     "data": {
      "text/plain": [
       "2.8097336435273235e-5"
      ]
     },
     "metadata": {},
     "output_type": "display_data"
    },
    {
     "name": "stderr",
     "output_type": "stream",
     "text": [
      "\u001b[32mloss: 2.81e-05:  60%|████████████████████████▍                |  ETA: 0:02:23\u001b[39m"
     ]
    },
    {
     "data": {
      "text/plain": [
       "2.808658449859891e-5"
      ]
     },
     "metadata": {},
     "output_type": "display_data"
    },
    {
     "name": "stderr",
     "output_type": "stream",
     "text": [
      "\u001b[32mloss: 2.81e-05:  60%|████████████████████████▌                |  ETA: 0:02:22\u001b[39m"
     ]
    },
    {
     "data": {
      "text/plain": [
       "2.8076302397650466e-5"
      ]
     },
     "metadata": {},
     "output_type": "display_data"
    },
    {
     "name": "stderr",
     "output_type": "stream",
     "text": [
      "\u001b[32mloss: 2.81e-05:  60%|████████████████████████▋                |  ETA: 0:02:21\u001b[39m"
     ]
    },
    {
     "data": {
      "text/plain": [
       "2.806561428592147e-5"
      ]
     },
     "metadata": {},
     "output_type": "display_data"
    },
    {
     "name": "stderr",
     "output_type": "stream",
     "text": [
      "\u001b[32mloss: 2.81e-05:  60%|████████████████████████▋                |  ETA: 0:02:20\u001b[39m"
     ]
    },
    {
     "data": {
      "text/plain": [
       "2.8054957406986603e-5"
      ]
     },
     "metadata": {},
     "output_type": "display_data"
    },
    {
     "name": "stderr",
     "output_type": "stream",
     "text": [
      "\u001b[32mloss: 2.81e-05:  60%|████████████████████████▊                |  ETA: 0:02:19\u001b[39m"
     ]
    },
    {
     "data": {
      "text/plain": [
       "2.8044452847098e-5"
      ]
     },
     "metadata": {},
     "output_type": "display_data"
    },
    {
     "name": "stderr",
     "output_type": "stream",
     "text": [
      "\u001b[32mloss: 2.8e-05:  61%|████████████████████████▉                |  ETA: 0:02:19\u001b[39m"
     ]
    },
    {
     "data": {
      "text/plain": [
       "2.8033836854568506e-5"
      ]
     },
     "metadata": {},
     "output_type": "display_data"
    },
    {
     "name": "stderr",
     "output_type": "stream",
     "text": [
      "\u001b[32mloss: 2.8e-05:  61%|█████████████████████████                |  ETA: 0:02:17\u001b[39m"
     ]
    },
    {
     "data": {
      "text/plain": [
       "2.8023382932396146e-5"
      ]
     },
     "metadata": {},
     "output_type": "display_data"
    },
    {
     "name": "stderr",
     "output_type": "stream",
     "text": [
      "\u001b[32mloss: 2.8e-05:  61%|█████████████████████████▏               |  ETA: 0:02:17\u001b[39m"
     ]
    },
    {
     "data": {
      "text/plain": [
       "2.801281598907579e-5"
      ]
     },
     "metadata": {},
     "output_type": "display_data"
    },
    {
     "name": "stderr",
     "output_type": "stream",
     "text": [
      "\u001b[32mloss: 2.8e-05:  62%|█████████████████████████▎               |  ETA: 0:02:16\u001b[39m"
     ]
    },
    {
     "data": {
      "text/plain": [
       "2.800258763357988e-5"
      ]
     },
     "metadata": {},
     "output_type": "display_data"
    },
    {
     "name": "stderr",
     "output_type": "stream",
     "text": [
      "\u001b[32mloss: 2.8e-05:  62%|█████████████████████████▎               |  ETA: 0:02:15\u001b[39m"
     ]
    },
    {
     "data": {
      "text/plain": [
       "2.7992048429403837e-5"
      ]
     },
     "metadata": {},
     "output_type": "display_data"
    },
    {
     "name": "stderr",
     "output_type": "stream",
     "text": [
      "\u001b[32mloss: 2.8e-05:  62%|█████████████████████████▍               |  ETA: 0:02:14\u001b[39m"
     ]
    },
    {
     "data": {
      "text/plain": [
       "2.7981728453418953e-5"
      ]
     },
     "metadata": {},
     "output_type": "display_data"
    },
    {
     "name": "stderr",
     "output_type": "stream",
     "text": [
      "\u001b[32mloss: 2.8e-05:  62%|█████████████████████████▌               |  ETA: 0:02:13\u001b[39m"
     ]
    },
    {
     "data": {
      "text/plain": [
       "2.797127902853802e-5"
      ]
     },
     "metadata": {},
     "output_type": "display_data"
    },
    {
     "name": "stderr",
     "output_type": "stream",
     "text": [
      "\u001b[32mloss: 2.8e-05:  62%|█████████████████████████▋               |  ETA: 0:02:12\u001b[39m"
     ]
    },
    {
     "data": {
      "text/plain": [
       "2.7961040672153104e-5"
      ]
     },
     "metadata": {},
     "output_type": "display_data"
    },
    {
     "name": "stderr",
     "output_type": "stream",
     "text": [
      "\u001b[32mloss: 2.8e-05:  63%|█████████████████████████▊               |  ETA: 0:02:12\u001b[39m"
     ]
    },
    {
     "data": {
      "text/plain": [
       "2.795053556159388e-5"
      ]
     },
     "metadata": {},
     "output_type": "display_data"
    },
    {
     "name": "stderr",
     "output_type": "stream",
     "text": [
      "\u001b[32mloss: 2.8e-05:  63%|█████████████████████████▉               |  ETA: 0:02:11\u001b[39m"
     ]
    },
    {
     "data": {
      "text/plain": [
       "2.7940215433730486e-5"
      ]
     },
     "metadata": {},
     "output_type": "display_data"
    },
    {
     "name": "stderr",
     "output_type": "stream",
     "text": [
      "\u001b[32mloss: 2.79e-05:  63%|█████████████████████████▉               |  ETA: 0:02:10\u001b[39m"
     ]
    },
    {
     "data": {
      "text/plain": [
       "2.7929928417158578e-5"
      ]
     },
     "metadata": {},
     "output_type": "display_data"
    },
    {
     "name": "stderr",
     "output_type": "stream",
     "text": [
      "\u001b[32mloss: 2.79e-05:  64%|██████████████████████████               |  ETA: 0:02:09\u001b[39m"
     ]
    },
    {
     "data": {
      "text/plain": [
       "2.7919694403966133e-5"
      ]
     },
     "metadata": {},
     "output_type": "display_data"
    },
    {
     "name": "stderr",
     "output_type": "stream",
     "text": [
      "\u001b[32mloss: 2.79e-05:  64%|██████████████████████████▏              |  ETA: 0:02:08\u001b[39m"
     ]
    },
    {
     "data": {
      "text/plain": [
       "2.7909400790004923e-5"
      ]
     },
     "metadata": {},
     "output_type": "display_data"
    },
    {
     "name": "stderr",
     "output_type": "stream",
     "text": [
      "\u001b[32mloss: 2.79e-05:  64%|██████████████████████████▎              |  ETA: 0:02:07\u001b[39m"
     ]
    },
    {
     "data": {
      "text/plain": [
       "2.789922960522162e-5"
      ]
     },
     "metadata": {},
     "output_type": "display_data"
    },
    {
     "name": "stderr",
     "output_type": "stream",
     "text": [
      "\u001b[32mloss: 2.79e-05:  64%|██████████████████████████▍              |  ETA: 0:02:06\u001b[39m"
     ]
    },
    {
     "data": {
      "text/plain": [
       "2.7888862350611276e-5"
      ]
     },
     "metadata": {},
     "output_type": "display_data"
    },
    {
     "name": "stderr",
     "output_type": "stream",
     "text": [
      "\u001b[32mloss: 2.79e-05:  64%|██████████████████████████▌              |  ETA: 0:02:05\u001b[39m"
     ]
    },
    {
     "data": {
      "text/plain": [
       "2.7878608671816352e-5"
      ]
     },
     "metadata": {},
     "output_type": "display_data"
    },
    {
     "name": "stderr",
     "output_type": "stream",
     "text": [
      "\u001b[32mloss: 2.79e-05:  65%|██████████████████████████▌              |  ETA: 0:02:05\u001b[39m"
     ]
    },
    {
     "data": {
      "text/plain": [
       "2.7868435905631372e-5"
      ]
     },
     "metadata": {},
     "output_type": "display_data"
    },
    {
     "name": "stderr",
     "output_type": "stream",
     "text": [
      "\u001b[32mloss: 2.79e-05:  65%|██████████████████████████▋              |  ETA: 0:02:04\u001b[39m"
     ]
    },
    {
     "data": {
      "text/plain": [
       "2.7858374484157622e-5"
      ]
     },
     "metadata": {},
     "output_type": "display_data"
    },
    {
     "name": "stderr",
     "output_type": "stream",
     "text": [
      "\u001b[32mloss: 2.79e-05:  65%|██████████████████████████▊              |  ETA: 0:02:03\u001b[39m"
     ]
    },
    {
     "data": {
      "text/plain": [
       "2.784807919109511e-5"
      ]
     },
     "metadata": {},
     "output_type": "display_data"
    },
    {
     "name": "stderr",
     "output_type": "stream",
     "text": [
      "\u001b[32mloss: 2.78e-05:  66%|██████████████████████████▉              |  ETA: 0:02:02\u001b[39m"
     ]
    },
    {
     "data": {
      "text/plain": [
       "2.7837732939683946e-5"
      ]
     },
     "metadata": {},
     "output_type": "display_data"
    },
    {
     "name": "stderr",
     "output_type": "stream",
     "text": [
      "\u001b[32mloss: 2.78e-05:  66%|██████████████████████████▉              |  ETA: 0:02:01\u001b[39m"
     ]
    },
    {
     "data": {
      "text/plain": [
       "2.7827589718754098e-5"
      ]
     },
     "metadata": {},
     "output_type": "display_data"
    },
    {
     "name": "stderr",
     "output_type": "stream",
     "text": [
      "\u001b[32mloss: 2.78e-05:  66%|███████████████████████████              |  ETA: 0:02:00\u001b[39m"
     ]
    },
    {
     "data": {
      "text/plain": [
       "2.781738553903068e-5"
      ]
     },
     "metadata": {},
     "output_type": "display_data"
    },
    {
     "name": "stderr",
     "output_type": "stream",
     "text": [
      "\u001b[32mloss: 2.78e-05:  66%|███████████████████████████▏             |  ETA: 0:02:00\u001b[39m"
     ]
    },
    {
     "data": {
      "text/plain": [
       "2.7807311239858024e-5"
      ]
     },
     "metadata": {},
     "output_type": "display_data"
    },
    {
     "name": "stderr",
     "output_type": "stream",
     "text": [
      "\u001b[32mloss: 2.78e-05:  66%|███████████████████████████▎             |  ETA: 0:01:58\u001b[39m"
     ]
    },
    {
     "data": {
      "text/plain": [
       "2.7797335188761707e-5"
      ]
     },
     "metadata": {},
     "output_type": "display_data"
    },
    {
     "name": "stderr",
     "output_type": "stream",
     "text": [
      "\u001b[32mloss: 2.78e-05:  67%|███████████████████████████▍             |  ETA: 0:01:58\u001b[39m"
     ]
    },
    {
     "data": {
      "text/plain": [
       "2.7787132632184353e-5"
      ]
     },
     "metadata": {},
     "output_type": "display_data"
    },
    {
     "name": "stderr",
     "output_type": "stream",
     "text": [
      "\u001b[32mloss: 2.78e-05:  67%|███████████████████████████▌             |  ETA: 0:01:57\u001b[39m"
     ]
    },
    {
     "data": {
      "text/plain": [
       "2.7777076265778078e-5"
      ]
     },
     "metadata": {},
     "output_type": "display_data"
    },
    {
     "name": "stderr",
     "output_type": "stream",
     "text": [
      "\u001b[32mloss: 2.78e-05:  67%|███████████████████████████▌             |  ETA: 0:01:56\u001b[39m"
     ]
    },
    {
     "data": {
      "text/plain": [
       "2.7767025270630796e-5"
      ]
     },
     "metadata": {},
     "output_type": "display_data"
    },
    {
     "name": "stderr",
     "output_type": "stream",
     "text": [
      "\u001b[32mloss: 2.78e-05:  68%|███████████████████████████▋             |  ETA: 0:01:55\u001b[39m"
     ]
    },
    {
     "data": {
      "text/plain": [
       "2.7756467821493658e-5"
      ]
     },
     "metadata": {},
     "output_type": "display_data"
    },
    {
     "name": "stderr",
     "output_type": "stream",
     "text": [
      "\u001b[32mloss: 2.78e-05:  68%|███████████████████████████▊             |  ETA: 0:01:54\u001b[39m"
     ]
    },
    {
     "data": {
      "text/plain": [
       "2.7746719481580584e-5"
      ]
     },
     "metadata": {},
     "output_type": "display_data"
    },
    {
     "name": "stderr",
     "output_type": "stream",
     "text": [
      "\u001b[32mloss: 2.77e-05:  68%|███████████████████████████▉             |  ETA: 0:01:53\u001b[39m"
     ]
    },
    {
     "data": {
      "text/plain": [
       "2.7736621330376465e-5"
      ]
     },
     "metadata": {},
     "output_type": "display_data"
    },
    {
     "name": "stderr",
     "output_type": "stream",
     "text": [
      "\u001b[32mloss: 2.77e-05:  68%|████████████████████████████             |  ETA: 0:01:53\u001b[39m"
     ]
    },
    {
     "data": {
      "text/plain": [
       "2.772660417171835e-5"
      ]
     },
     "metadata": {},
     "output_type": "display_data"
    },
    {
     "name": "stderr",
     "output_type": "stream",
     "text": [
      "\u001b[32mloss: 2.77e-05:  68%|████████████████████████████▏            |  ETA: 0:01:51\u001b[39m"
     ]
    },
    {
     "data": {
      "text/plain": [
       "2.7716396277188693e-5"
      ]
     },
     "metadata": {},
     "output_type": "display_data"
    },
    {
     "name": "stderr",
     "output_type": "stream",
     "text": [
      "\u001b[32mloss: 2.77e-05:  69%|████████████████████████████▏            |  ETA: 0:01:51\u001b[39m"
     ]
    },
    {
     "data": {
      "text/plain": [
       "2.7706511339431472e-5"
      ]
     },
     "metadata": {},
     "output_type": "display_data"
    },
    {
     "name": "stderr",
     "output_type": "stream",
     "text": [
      "\u001b[32mloss: 2.77e-05:  69%|████████████████████████████▎            |  ETA: 0:01:50\u001b[39m"
     ]
    },
    {
     "data": {
      "text/plain": [
       "2.7696447881808695e-5"
      ]
     },
     "metadata": {},
     "output_type": "display_data"
    },
    {
     "name": "stderr",
     "output_type": "stream",
     "text": [
      "\u001b[32mloss: 2.77e-05:  69%|████████████████████████████▍            |  ETA: 0:01:49\u001b[39m"
     ]
    },
    {
     "data": {
      "text/plain": [
       "2.7686367783719135e-5"
      ]
     },
     "metadata": {},
     "output_type": "display_data"
    },
    {
     "name": "stderr",
     "output_type": "stream",
     "text": [
      "\u001b[32mloss: 2.77e-05:  70%|████████████████████████████▌            |  ETA: 0:01:48\u001b[39m"
     ]
    },
    {
     "data": {
      "text/plain": [
       "2.767644425949456e-5"
      ]
     },
     "metadata": {},
     "output_type": "display_data"
    },
    {
     "name": "stderr",
     "output_type": "stream",
     "text": [
      "\u001b[32mloss: 2.77e-05:  70%|████████████████████████████▋            |  ETA: 0:01:47\u001b[39m"
     ]
    },
    {
     "data": {
      "text/plain": [
       "2.7666239065915477e-5"
      ]
     },
     "metadata": {},
     "output_type": "display_data"
    },
    {
     "name": "stderr",
     "output_type": "stream",
     "text": [
      "\u001b[32mloss: 2.77e-05:  70%|████████████████████████████▊            |  ETA: 0:01:46\u001b[39m"
     ]
    },
    {
     "data": {
      "text/plain": [
       "2.7656209235171758e-5"
      ]
     },
     "metadata": {},
     "output_type": "display_data"
    },
    {
     "name": "stderr",
     "output_type": "stream",
     "text": [
      "\u001b[32mloss: 2.77e-05:  70%|████████████████████████████▊            |  ETA: 0:01:46\u001b[39m"
     ]
    },
    {
     "data": {
      "text/plain": [
       "2.7646354088251002e-5"
      ]
     },
     "metadata": {},
     "output_type": "display_data"
    },
    {
     "name": "stderr",
     "output_type": "stream",
     "text": [
      "\u001b[32mloss: 2.76e-05:  70%|████████████████████████████▉            |  ETA: 0:01:44\u001b[39m"
     ]
    },
    {
     "data": {
      "text/plain": [
       "2.763645571235429e-5"
      ]
     },
     "metadata": {},
     "output_type": "display_data"
    },
    {
     "name": "stderr",
     "output_type": "stream",
     "text": [
      "\u001b[32mloss: 2.76e-05:  71%|█████████████████████████████            |  ETA: 0:01:44\u001b[39m"
     ]
    },
    {
     "data": {
      "text/plain": [
       "2.7626461889251885e-5"
      ]
     },
     "metadata": {},
     "output_type": "display_data"
    },
    {
     "name": "stderr",
     "output_type": "stream",
     "text": [
      "\u001b[32mloss: 2.76e-05:  71%|█████████████████████████████▏           |  ETA: 0:01:43\u001b[39m"
     ]
    },
    {
     "data": {
      "text/plain": [
       "2.76163643211369e-5"
      ]
     },
     "metadata": {},
     "output_type": "display_data"
    },
    {
     "name": "stderr",
     "output_type": "stream",
     "text": [
      "\u001b[32mloss: 2.76e-05:  71%|█████████████████████████████▎           |  ETA: 0:01:42\u001b[39m"
     ]
    },
    {
     "data": {
      "text/plain": [
       "2.7606596638252157e-5"
      ]
     },
     "metadata": {},
     "output_type": "display_data"
    },
    {
     "name": "stderr",
     "output_type": "stream",
     "text": [
      "\u001b[32mloss: 2.76e-05:  72%|█████████████████████████████▍           |  ETA: 0:01:41\u001b[39m"
     ]
    },
    {
     "data": {
      "text/plain": [
       "2.759645243366471e-5"
      ]
     },
     "metadata": {},
     "output_type": "display_data"
    },
    {
     "name": "stderr",
     "output_type": "stream",
     "text": [
      "\u001b[32mloss: 2.76e-05:  72%|█████████████████████████████▍           |  ETA: 0:01:40\u001b[39m"
     ]
    },
    {
     "data": {
      "text/plain": [
       "2.7586499380616303e-5"
      ]
     },
     "metadata": {},
     "output_type": "display_data"
    },
    {
     "name": "stderr",
     "output_type": "stream",
     "text": [
      "\u001b[32mloss: 2.76e-05:  72%|█████████████████████████████▌           |  ETA: 0:01:39\u001b[39m"
     ]
    },
    {
     "data": {
      "text/plain": [
       "2.7576602549261864e-5"
      ]
     },
     "metadata": {},
     "output_type": "display_data"
    },
    {
     "name": "stderr",
     "output_type": "stream",
     "text": [
      "\u001b[32mloss: 2.76e-05:  72%|█████████████████████████████▋           |  ETA: 0:01:39\u001b[39m"
     ]
    },
    {
     "data": {
      "text/plain": [
       "2.7566634961839753e-5"
      ]
     },
     "metadata": {},
     "output_type": "display_data"
    },
    {
     "name": "stderr",
     "output_type": "stream",
     "text": [
      "\u001b[32mloss: 2.76e-05:  72%|█████████████████████████████▊           |  ETA: 0:01:37\u001b[39m"
     ]
    },
    {
     "data": {
      "text/plain": [
       "2.7556540678652652e-5"
      ]
     },
     "metadata": {},
     "output_type": "display_data"
    },
    {
     "name": "stderr",
     "output_type": "stream",
     "text": [
      "\u001b[32mloss: 2.76e-05:  73%|█████████████████████████████▊           |  ETA: 0:01:37\u001b[39m"
     ]
    },
    {
     "data": {
      "text/plain": [
       "2.754679242711333e-5"
      ]
     },
     "metadata": {},
     "output_type": "display_data"
    },
    {
     "name": "stderr",
     "output_type": "stream",
     "text": [
      "\u001b[32mloss: 2.75e-05:  73%|█████████████████████████████▉           |  ETA: 0:01:36\u001b[39m"
     ]
    },
    {
     "data": {
      "text/plain": [
       "2.7536647523973556e-5"
      ]
     },
     "metadata": {},
     "output_type": "display_data"
    },
    {
     "name": "stderr",
     "output_type": "stream",
     "text": [
      "\u001b[32mloss: 2.75e-05:  73%|██████████████████████████████           |  ETA: 0:01:35\u001b[39m"
     ]
    },
    {
     "data": {
      "text/plain": [
       "2.7526742514938363e-5"
      ]
     },
     "metadata": {},
     "output_type": "display_data"
    },
    {
     "name": "stderr",
     "output_type": "stream",
     "text": [
      "\u001b[32mloss: 2.75e-05:  74%|██████████████████████████████▏          |  ETA: 0:01:34\u001b[39m"
     ]
    },
    {
     "data": {
      "text/plain": [
       "2.751682439283698e-5"
      ]
     },
     "metadata": {},
     "output_type": "display_data"
    },
    {
     "name": "stderr",
     "output_type": "stream",
     "text": [
      "\u001b[32mloss: 2.75e-05:  74%|██████████████████████████████▎          |  ETA: 0:01:33\u001b[39m"
     ]
    },
    {
     "data": {
      "text/plain": [
       "2.7506942039012827e-5"
      ]
     },
     "metadata": {},
     "output_type": "display_data"
    },
    {
     "name": "stderr",
     "output_type": "stream",
     "text": [
      "\u001b[32mloss: 2.75e-05:  74%|██████████████████████████████▍          |  ETA: 0:01:32\u001b[39m"
     ]
    },
    {
     "data": {
      "text/plain": [
       "2.7497027130563012e-5"
      ]
     },
     "metadata": {},
     "output_type": "display_data"
    },
    {
     "name": "stderr",
     "output_type": "stream",
     "text": [
      "\u001b[32mloss: 2.75e-05:  74%|██████████████████████████████▍          |  ETA: 0:01:32\u001b[39m"
     ]
    },
    {
     "data": {
      "text/plain": [
       "2.7487214792953907e-5"
      ]
     },
     "metadata": {},
     "output_type": "display_data"
    },
    {
     "name": "stderr",
     "output_type": "stream",
     "text": [
      "\u001b[32mloss: 2.75e-05:  74%|██████████████████████████████▌          |  ETA: 0:01:30\u001b[39m"
     ]
    },
    {
     "data": {
      "text/plain": [
       "2.747732897923072e-5"
      ]
     },
     "metadata": {},
     "output_type": "display_data"
    },
    {
     "name": "stderr",
     "output_type": "stream",
     "text": [
      "\u001b[32mloss: 2.75e-05:  75%|██████████████████████████████▋          |  ETA: 0:01:30\u001b[39m"
     ]
    },
    {
     "data": {
      "text/plain": [
       "2.746737083403339e-5"
      ]
     },
     "metadata": {},
     "output_type": "display_data"
    },
    {
     "name": "stderr",
     "output_type": "stream",
     "text": [
      "\u001b[32mloss: 2.75e-05:  75%|██████████████████████████████▊          |  ETA: 0:01:29\u001b[39m"
     ]
    },
    {
     "data": {
      "text/plain": [
       "2.7457471342362538e-5"
      ]
     },
     "metadata": {},
     "output_type": "display_data"
    },
    {
     "name": "stderr",
     "output_type": "stream",
     "text": [
      "\u001b[32mloss: 2.75e-05:  75%|██████████████████████████████▉          |  ETA: 0:01:28\u001b[39m"
     ]
    },
    {
     "data": {
      "text/plain": [
       "2.7447639342037533e-5"
      ]
     },
     "metadata": {},
     "output_type": "display_data"
    },
    {
     "name": "stderr",
     "output_type": "stream",
     "text": [
      "\u001b[32mloss: 2.74e-05:  76%|███████████████████████████████          |  ETA: 0:01:27\u001b[39m"
     ]
    },
    {
     "data": {
      "text/plain": [
       "2.743758862933099e-5"
      ]
     },
     "metadata": {},
     "output_type": "display_data"
    },
    {
     "name": "stderr",
     "output_type": "stream",
     "text": [
      "\u001b[32mloss: 2.74e-05:  76%|███████████████████████████████          |  ETA: 0:01:26\u001b[39m"
     ]
    },
    {
     "data": {
      "text/plain": [
       "2.742775570641065e-5"
      ]
     },
     "metadata": {},
     "output_type": "display_data"
    },
    {
     "name": "stderr",
     "output_type": "stream",
     "text": [
      "\u001b[32mloss: 2.74e-05:  76%|███████████████████████████████▏         |  ETA: 0:01:25\u001b[39m"
     ]
    },
    {
     "data": {
      "text/plain": [
       "2.741765939995311e-5"
      ]
     },
     "metadata": {},
     "output_type": "display_data"
    },
    {
     "name": "stderr",
     "output_type": "stream",
     "text": [
      "\u001b[32mloss: 2.74e-05:  76%|███████████████████████████████▎         |  ETA: 0:01:25\u001b[39m"
     ]
    },
    {
     "data": {
      "text/plain": [
       "2.7407788489419715e-5"
      ]
     },
     "metadata": {},
     "output_type": "display_data"
    },
    {
     "name": "stderr",
     "output_type": "stream",
     "text": [
      "\u001b[32mloss: 2.74e-05:  76%|███████████████████████████████▍         |  ETA: 0:01:23\u001b[39m"
     ]
    },
    {
     "data": {
      "text/plain": [
       "2.7398056235306e-5"
      ]
     },
     "metadata": {},
     "output_type": "display_data"
    },
    {
     "name": "stderr",
     "output_type": "stream",
     "text": [
      "\u001b[32mloss: 2.74e-05:  77%|███████████████████████████████▌         |  ETA: 0:01:23\u001b[39m"
     ]
    },
    {
     "data": {
      "text/plain": [
       "2.7388021821339592e-5"
      ]
     },
     "metadata": {},
     "output_type": "display_data"
    },
    {
     "name": "stderr",
     "output_type": "stream",
     "text": [
      "\u001b[32mloss: 2.74e-05:  77%|███████████████████████████████▋         |  ETA: 0:01:22\u001b[39m"
     ]
    },
    {
     "data": {
      "text/plain": [
       "2.737815992692738e-5"
      ]
     },
     "metadata": {},
     "output_type": "display_data"
    },
    {
     "name": "stderr",
     "output_type": "stream",
     "text": [
      "\u001b[32mloss: 2.74e-05:  77%|███████████████████████████████▋         |  ETA: 0:01:21\u001b[39m"
     ]
    },
    {
     "data": {
      "text/plain": [
       "2.7368097082369758e-5"
      ]
     },
     "metadata": {},
     "output_type": "display_data"
    },
    {
     "name": "stderr",
     "output_type": "stream",
     "text": [
      "\u001b[32mloss: 2.74e-05:  78%|███████████████████████████████▊         |  ETA: 0:01:20\u001b[39m"
     ]
    },
    {
     "data": {
      "text/plain": [
       "2.7358093131146788e-5"
      ]
     },
     "metadata": {},
     "output_type": "display_data"
    },
    {
     "name": "stderr",
     "output_type": "stream",
     "text": [
      "\u001b[32mloss: 2.74e-05:  78%|███████████████████████████████▉         |  ETA: 0:01:19\u001b[39m"
     ]
    },
    {
     "data": {
      "text/plain": [
       "2.7348365976731515e-5"
      ]
     },
     "metadata": {},
     "output_type": "display_data"
    },
    {
     "name": "stderr",
     "output_type": "stream",
     "text": [
      "\u001b[32mloss: 2.73e-05:  78%|████████████████████████████████         |  ETA: 0:01:18\u001b[39m"
     ]
    },
    {
     "data": {
      "text/plain": [
       "2.7338467326609717e-5"
      ]
     },
     "metadata": {},
     "output_type": "display_data"
    },
    {
     "name": "stderr",
     "output_type": "stream",
     "text": [
      "\u001b[32mloss: 2.73e-05:  78%|████████████████████████████████         |  ETA: 0:01:18\u001b[39m"
     ]
    },
    {
     "data": {
      "text/plain": [
       "2.7328365828305223e-5"
      ]
     },
     "metadata": {},
     "output_type": "display_data"
    },
    {
     "name": "stderr",
     "output_type": "stream",
     "text": [
      "\u001b[32mloss: 2.73e-05:  78%|████████████████████████████████▏        |  ETA: 0:01:16\u001b[39m"
     ]
    },
    {
     "data": {
      "text/plain": [
       "2.7318410676269167e-5"
      ]
     },
     "metadata": {},
     "output_type": "display_data"
    },
    {
     "name": "stderr",
     "output_type": "stream",
     "text": [
      "\u001b[32mloss: 2.73e-05:  79%|████████████████████████████████▎        |  ETA: 0:01:16\u001b[39m"
     ]
    },
    {
     "data": {
      "text/plain": [
       "2.7308448095508808e-5"
      ]
     },
     "metadata": {},
     "output_type": "display_data"
    },
    {
     "name": "stderr",
     "output_type": "stream",
     "text": [
      "\u001b[32mloss: 2.73e-05:  79%|████████████████████████████████▍        |  ETA: 0:01:15\u001b[39m"
     ]
    },
    {
     "data": {
      "text/plain": [
       "2.729879098706256e-5"
      ]
     },
     "metadata": {},
     "output_type": "display_data"
    },
    {
     "name": "stderr",
     "output_type": "stream",
     "text": [
      "\u001b[32mloss: 2.73e-05:  79%|████████████████████████████████▌        |  ETA: 0:01:14\u001b[39m"
     ]
    },
    {
     "data": {
      "text/plain": [
       "2.7288846566664304e-5"
      ]
     },
     "metadata": {},
     "output_type": "display_data"
    },
    {
     "name": "stderr",
     "output_type": "stream",
     "text": [
      "\u001b[32mloss: 2.73e-05:  80%|████████████████████████████████▋        |  ETA: 0:01:13\u001b[39m"
     ]
    },
    {
     "data": {
      "text/plain": [
       "2.727874880714687e-5"
      ]
     },
     "metadata": {},
     "output_type": "display_data"
    },
    {
     "name": "stderr",
     "output_type": "stream",
     "text": [
      "\u001b[32mloss: 2.73e-05:  80%|████████████████████████████████▋        |  ETA: 0:01:12\u001b[39m"
     ]
    },
    {
     "data": {
      "text/plain": [
       "2.7269021976250585e-5"
      ]
     },
     "metadata": {},
     "output_type": "display_data"
    },
    {
     "name": "stderr",
     "output_type": "stream",
     "text": [
      "\u001b[32mloss: 2.73e-05:  80%|████████████████████████████████▊        |  ETA: 0:01:11\u001b[39m"
     ]
    },
    {
     "data": {
      "text/plain": [
       "2.7259133783319456e-5"
      ]
     },
     "metadata": {},
     "output_type": "display_data"
    },
    {
     "name": "stderr",
     "output_type": "stream",
     "text": [
      "\u001b[32mloss: 2.73e-05:  80%|████████████████████████████████▉        |  ETA: 0:01:10\u001b[39m"
     ]
    },
    {
     "data": {
      "text/plain": [
       "2.724910426232796e-5"
      ]
     },
     "metadata": {},
     "output_type": "display_data"
    },
    {
     "name": "stderr",
     "output_type": "stream",
     "text": [
      "\u001b[32mloss: 2.72e-05:  80%|█████████████████████████████████        |  ETA: 0:01:09\u001b[39m"
     ]
    },
    {
     "data": {
      "text/plain": [
       "2.72390824569424e-5"
      ]
     },
     "metadata": {},
     "output_type": "display_data"
    },
    {
     "name": "stderr",
     "output_type": "stream",
     "text": [
      "\u001b[32mloss: 2.72e-05:  81%|█████████████████████████████████▏       |  ETA: 0:01:09\u001b[39m"
     ]
    },
    {
     "data": {
      "text/plain": [
       "2.7229100890702185e-5"
      ]
     },
     "metadata": {},
     "output_type": "display_data"
    },
    {
     "name": "stderr",
     "output_type": "stream",
     "text": [
      "\u001b[32mloss: 2.72e-05:  81%|█████████████████████████████████▎       |  ETA: 0:01:08\u001b[39m"
     ]
    },
    {
     "data": {
      "text/plain": [
       "2.721930035276543e-5"
      ]
     },
     "metadata": {},
     "output_type": "display_data"
    },
    {
     "name": "stderr",
     "output_type": "stream",
     "text": [
      "\u001b[32mloss: 2.72e-05:  81%|█████████████████████████████████▎       |  ETA: 0:01:07\u001b[39m"
     ]
    },
    {
     "data": {
      "text/plain": [
       "2.720923935228825e-5"
      ]
     },
     "metadata": {},
     "output_type": "display_data"
    },
    {
     "name": "stderr",
     "output_type": "stream",
     "text": [
      "\u001b[32mloss: 2.72e-05:  82%|█████████████████████████████████▍       |  ETA: 0:01:06\u001b[39m"
     ]
    },
    {
     "data": {
      "text/plain": [
       "2.7199128033172926e-5"
      ]
     },
     "metadata": {},
     "output_type": "display_data"
    },
    {
     "name": "stderr",
     "output_type": "stream",
     "text": [
      "\u001b[32mloss: 2.72e-05:  82%|█████████████████████████████████▌       |  ETA: 0:01:05\u001b[39m"
     ]
    },
    {
     "data": {
      "text/plain": [
       "2.718927361589074e-5"
      ]
     },
     "metadata": {},
     "output_type": "display_data"
    },
    {
     "name": "stderr",
     "output_type": "stream",
     "text": [
      "\u001b[32mloss: 2.72e-05:  82%|█████████████████████████████████▋       |  ETA: 0:01:04\u001b[39m"
     ]
    },
    {
     "data": {
      "text/plain": [
       "2.717919496664223e-5"
      ]
     },
     "metadata": {},
     "output_type": "display_data"
    },
    {
     "name": "stderr",
     "output_type": "stream",
     "text": [
      "\u001b[32mloss: 2.72e-05:  82%|█████████████████████████████████▊       |  ETA: 0:01:03\u001b[39m"
     ]
    },
    {
     "data": {
      "text/plain": [
       "2.7169286553885286e-5"
      ]
     },
     "metadata": {},
     "output_type": "display_data"
    },
    {
     "name": "stderr",
     "output_type": "stream",
     "text": [
      "\u001b[32mloss: 2.72e-05:  82%|█████████████████████████████████▉       |  ETA: 0:01:02\u001b[39m"
     ]
    },
    {
     "data": {
      "text/plain": [
       "2.715931365049329e-5"
      ]
     },
     "metadata": {},
     "output_type": "display_data"
    },
    {
     "name": "stderr",
     "output_type": "stream",
     "text": [
      "\u001b[32mloss: 2.72e-05:  83%|█████████████████████████████████▉       |  ETA: 0:01:02\u001b[39m"
     ]
    },
    {
     "data": {
      "text/plain": [
       "2.71493829120395e-5"
      ]
     },
     "metadata": {},
     "output_type": "display_data"
    },
    {
     "name": "stderr",
     "output_type": "stream",
     "text": [
      "\u001b[32mloss: 2.71e-05:  83%|██████████████████████████████████       |  ETA: 0:01:00\u001b[39m"
     ]
    },
    {
     "data": {
      "text/plain": [
       "2.7139460597735976e-5"
      ]
     },
     "metadata": {},
     "output_type": "display_data"
    },
    {
     "name": "stderr",
     "output_type": "stream",
     "text": [
      "\u001b[32mloss: 2.71e-05:  83%|██████████████████████████████████▏      |  ETA: 0:01:00\u001b[39m"
     ]
    },
    {
     "data": {
      "text/plain": [
       "2.7129385422153263e-5"
      ]
     },
     "metadata": {},
     "output_type": "display_data"
    },
    {
     "name": "stderr",
     "output_type": "stream",
     "text": [
      "\u001b[32mloss: 2.71e-05:  84%|██████████████████████████████████▎      |  ETA: 0:00:59\u001b[39m"
     ]
    },
    {
     "data": {
      "text/plain": [
       "2.7119384995000217e-5"
      ]
     },
     "metadata": {},
     "output_type": "display_data"
    },
    {
     "name": "stderr",
     "output_type": "stream",
     "text": [
      "\u001b[32mloss: 2.71e-05:  84%|██████████████████████████████████▍      |  ETA: 0:00:58\u001b[39m"
     ]
    },
    {
     "data": {
      "text/plain": [
       "2.7109339273634347e-5"
      ]
     },
     "metadata": {},
     "output_type": "display_data"
    },
    {
     "name": "stderr",
     "output_type": "stream",
     "text": [
      "\u001b[32mloss: 2.71e-05:  84%|██████████████████████████████████▌      |  ETA: 0:00:57\u001b[39m"
     ]
    },
    {
     "data": {
      "text/plain": [
       "2.7099311738831844e-5"
      ]
     },
     "metadata": {},
     "output_type": "display_data"
    },
    {
     "name": "stderr",
     "output_type": "stream",
     "text": [
      "\u001b[32mloss: 2.71e-05:  84%|██████████████████████████████████▌      |  ETA: 0:00:56\u001b[39m"
     ]
    },
    {
     "data": {
      "text/plain": [
       "2.7089265523194683e-5"
      ]
     },
     "metadata": {},
     "output_type": "display_data"
    },
    {
     "name": "stderr",
     "output_type": "stream",
     "text": [
      "\u001b[32mloss: 2.71e-05:  84%|██████████████████████████████████▋      |  ETA: 0:00:55\u001b[39m"
     ]
    },
    {
     "data": {
      "text/plain": [
       "2.7079308351662945e-5"
      ]
     },
     "metadata": {},
     "output_type": "display_data"
    },
    {
     "name": "stderr",
     "output_type": "stream",
     "text": [
      "\u001b[32mloss: 2.71e-05:  85%|██████████████████████████████████▊      |  ETA: 0:00:54\u001b[39m"
     ]
    },
    {
     "data": {
      "text/plain": [
       "2.7069135357882246e-5"
      ]
     },
     "metadata": {},
     "output_type": "display_data"
    },
    {
     "name": "stderr",
     "output_type": "stream",
     "text": [
      "\u001b[32mloss: 2.71e-05:  85%|██████████████████████████████████▉      |  ETA: 0:00:53\u001b[39m"
     ]
    },
    {
     "data": {
      "text/plain": [
       "2.7059096655124293e-5"
      ]
     },
     "metadata": {},
     "output_type": "display_data"
    },
    {
     "name": "stderr",
     "output_type": "stream",
     "text": [
      "\u001b[32mloss: 2.71e-05:  85%|██████████████████████████████████▉      |  ETA: 0:00:53\u001b[39m"
     ]
    },
    {
     "data": {
      "text/plain": [
       "2.7049048087368632e-5"
      ]
     },
     "metadata": {},
     "output_type": "display_data"
    },
    {
     "name": "stderr",
     "output_type": "stream",
     "text": [
      "\u001b[32mloss: 2.7e-05:  86%|███████████████████████████████████      |  ETA: 0:00:52\u001b[39m"
     ]
    },
    {
     "data": {
      "text/plain": [
       "2.7038952196578592e-5"
      ]
     },
     "metadata": {},
     "output_type": "display_data"
    },
    {
     "name": "stderr",
     "output_type": "stream",
     "text": [
      "\u001b[32mloss: 2.7e-05:  86%|███████████████████████████████████▏     |  ETA: 0:00:51\u001b[39m"
     ]
    },
    {
     "data": {
      "text/plain": [
       "2.7028987134025684e-5"
      ]
     },
     "metadata": {},
     "output_type": "display_data"
    },
    {
     "name": "stderr",
     "output_type": "stream",
     "text": [
      "\u001b[32mloss: 2.7e-05:  86%|███████████████████████████████████▎     |  ETA: 0:00:50\u001b[39m"
     ]
    },
    {
     "data": {
      "text/plain": [
       "2.7018870756512214e-5"
      ]
     },
     "metadata": {},
     "output_type": "display_data"
    },
    {
     "name": "stderr",
     "output_type": "stream",
     "text": [
      "\u001b[32mloss: 2.7e-05:  86%|███████████████████████████████████▍     |  ETA: 0:00:49\u001b[39m"
     ]
    },
    {
     "data": {
      "text/plain": [
       "2.7008763245017775e-5"
      ]
     },
     "metadata": {},
     "output_type": "display_data"
    },
    {
     "name": "stderr",
     "output_type": "stream",
     "text": [
      "\u001b[32mloss: 2.7e-05:  86%|███████████████████████████████████▌     |  ETA: 0:00:48\u001b[39m"
     ]
    },
    {
     "data": {
      "text/plain": [
       "2.699868530164906e-5"
      ]
     },
     "metadata": {},
     "output_type": "display_data"
    },
    {
     "name": "stderr",
     "output_type": "stream",
     "text": [
      "\u001b[32mloss: 2.7e-05:  87%|███████████████████████████████████▌     |  ETA: 0:00:47\u001b[39m"
     ]
    },
    {
     "data": {
      "text/plain": [
       "2.6988659823201644e-5"
      ]
     },
     "metadata": {},
     "output_type": "display_data"
    },
    {
     "name": "stderr",
     "output_type": "stream",
     "text": [
      "\u001b[32mloss: 2.7e-05:  87%|███████████████████████████████████▋     |  ETA: 0:00:46\u001b[39m"
     ]
    },
    {
     "data": {
      "text/plain": [
       "2.697868512524515e-5"
      ]
     },
     "metadata": {},
     "output_type": "display_data"
    },
    {
     "name": "stderr",
     "output_type": "stream",
     "text": [
      "\u001b[32mloss: 2.7e-05:  87%|███████████████████████████████████▊     |  ETA: 0:00:46\u001b[39m"
     ]
    },
    {
     "data": {
      "text/plain": [
       "2.6968252485604083e-5"
      ]
     },
     "metadata": {},
     "output_type": "display_data"
    },
    {
     "name": "stderr",
     "output_type": "stream",
     "text": [
      "\u001b[32mloss: 2.7e-05:  88%|███████████████████████████████████▉     |  ETA: 0:00:45\u001b[39m"
     ]
    },
    {
     "data": {
      "text/plain": [
       "2.6958223354522914e-5"
      ]
     },
     "metadata": {},
     "output_type": "display_data"
    },
    {
     "name": "stderr",
     "output_type": "stream",
     "text": [
      "\u001b[32mloss: 2.7e-05:  88%|████████████████████████████████████     |  ETA: 0:00:44\u001b[39m"
     ]
    },
    {
     "data": {
      "text/plain": [
       "2.694809191661207e-5"
      ]
     },
     "metadata": {},
     "output_type": "display_data"
    },
    {
     "name": "stderr",
     "output_type": "stream",
     "text": [
      "\u001b[32mloss: 2.69e-05:  88%|████████████████████████████████████▏    |  ETA: 0:00:43\u001b[39m"
     ]
    },
    {
     "data": {
      "text/plain": [
       "2.6937939651361376e-5"
      ]
     },
     "metadata": {},
     "output_type": "display_data"
    },
    {
     "name": "stderr",
     "output_type": "stream",
     "text": [
      "\u001b[32mloss: 2.69e-05:  88%|████████████████████████████████████▏    |  ETA: 0:00:42\u001b[39m"
     ]
    },
    {
     "data": {
      "text/plain": [
       "2.6927818062905118e-5"
      ]
     },
     "metadata": {},
     "output_type": "display_data"
    },
    {
     "name": "stderr",
     "output_type": "stream",
     "text": [
      "\u001b[32mloss: 2.69e-05:  88%|████████████████████████████████████▎    |  ETA: 0:00:41\u001b[39m"
     ]
    },
    {
     "data": {
      "text/plain": [
       "2.6917807014692485e-5"
      ]
     },
     "metadata": {},
     "output_type": "display_data"
    },
    {
     "name": "stderr",
     "output_type": "stream",
     "text": [
      "\u001b[32mloss: 2.69e-05:  89%|████████████████████████████████████▍    |  ETA: 0:00:40\u001b[39m"
     ]
    },
    {
     "data": {
      "text/plain": [
       "2.6907416973864784e-5"
      ]
     },
     "metadata": {},
     "output_type": "display_data"
    },
    {
     "name": "stderr",
     "output_type": "stream",
     "text": [
      "\u001b[32mloss: 2.69e-05:  89%|████████████████████████████████████▌    |  ETA: 0:00:39\u001b[39m"
     ]
    },
    {
     "data": {
      "text/plain": [
       "2.6897144494775205e-5"
      ]
     },
     "metadata": {},
     "output_type": "display_data"
    },
    {
     "name": "stderr",
     "output_type": "stream",
     "text": [
      "\u001b[32mloss: 2.69e-05:  89%|████████████████████████████████████▋    |  ETA: 0:00:39\u001b[39m"
     ]
    },
    {
     "data": {
      "text/plain": [
       "2.6887035285971805e-5"
      ]
     },
     "metadata": {},
     "output_type": "display_data"
    },
    {
     "name": "stderr",
     "output_type": "stream",
     "text": [
      "\u001b[32mloss: 2.69e-05:  90%|████████████████████████████████████▊    |  ETA: 0:00:37\u001b[39m"
     ]
    },
    {
     "data": {
      "text/plain": [
       "2.6876922344154508e-5"
      ]
     },
     "metadata": {},
     "output_type": "display_data"
    },
    {
     "name": "stderr",
     "output_type": "stream",
     "text": [
      "\u001b[32mloss: 2.69e-05:  90%|████████████████████████████████████▊    |  ETA: 0:00:37\u001b[39m"
     ]
    },
    {
     "data": {
      "text/plain": [
       "2.686649859651169e-5"
      ]
     },
     "metadata": {},
     "output_type": "display_data"
    },
    {
     "name": "stderr",
     "output_type": "stream",
     "text": [
      "\u001b[32mloss: 2.69e-05:  90%|████████████████████████████████████▉    |  ETA: 0:00:36\u001b[39m"
     ]
    },
    {
     "data": {
      "text/plain": [
       "2.6856442324696417e-5"
      ]
     },
     "metadata": {},
     "output_type": "display_data"
    },
    {
     "name": "stderr",
     "output_type": "stream",
     "text": [
      "\u001b[32mloss: 2.69e-05:  90%|█████████████████████████████████████    |  ETA: 0:00:35\u001b[39m"
     ]
    },
    {
     "data": {
      "text/plain": [
       "2.6846110941392e-5"
      ]
     },
     "metadata": {},
     "output_type": "display_data"
    },
    {
     "name": "stderr",
     "output_type": "stream",
     "text": [
      "\u001b[32mloss: 2.68e-05:  90%|█████████████████████████████████████▏   |  ETA: 0:00:34\u001b[39m"
     ]
    },
    {
     "data": {
      "text/plain": [
       "2.683623379451383e-5"
      ]
     },
     "metadata": {},
     "output_type": "display_data"
    },
    {
     "name": "stderr",
     "output_type": "stream",
     "text": [
      "\u001b[32mloss: 2.68e-05:  91%|█████████████████████████████████████▏   |  ETA: 0:00:33\u001b[39m"
     ]
    },
    {
     "data": {
      "text/plain": [
       "2.6825738948188516e-5"
      ]
     },
     "metadata": {},
     "output_type": "display_data"
    },
    {
     "name": "stderr",
     "output_type": "stream",
     "text": [
      "\u001b[32mloss: 2.68e-05:  91%|█████████████████████████████████████▎   |  ETA: 0:00:32\u001b[39m"
     ]
    },
    {
     "data": {
      "text/plain": [
       "2.6815462658147382e-5"
      ]
     },
     "metadata": {},
     "output_type": "display_data"
    },
    {
     "name": "stderr",
     "output_type": "stream",
     "text": [
      "\u001b[32mloss: 2.68e-05:  91%|█████████████████████████████████████▍   |  ETA: 0:00:31\u001b[39m"
     ]
    },
    {
     "data": {
      "text/plain": [
       "2.680504800145478e-5"
      ]
     },
     "metadata": {},
     "output_type": "display_data"
    },
    {
     "name": "stderr",
     "output_type": "stream",
     "text": [
      "\u001b[32mloss: 2.68e-05:  92%|█████████████████████████████████████▌   |  ETA: 0:00:30\u001b[39m"
     ]
    },
    {
     "data": {
      "text/plain": [
       "2.679479190526024e-5"
      ]
     },
     "metadata": {},
     "output_type": "display_data"
    },
    {
     "name": "stderr",
     "output_type": "stream",
     "text": [
      "\u001b[32mloss: 2.68e-05:  92%|█████████████████████████████████████▋   |  ETA: 0:00:30\u001b[39m"
     ]
    },
    {
     "data": {
      "text/plain": [
       "2.678459109062281e-5"
      ]
     },
     "metadata": {},
     "output_type": "display_data"
    },
    {
     "name": "stderr",
     "output_type": "stream",
     "text": [
      "\u001b[32mloss: 2.68e-05:  92%|█████████████████████████████████████▊   |  ETA: 0:00:29\u001b[39m"
     ]
    },
    {
     "data": {
      "text/plain": [
       "2.6774246179694927e-5"
      ]
     },
     "metadata": {},
     "output_type": "display_data"
    },
    {
     "name": "stderr",
     "output_type": "stream",
     "text": [
      "\u001b[32mloss: 2.68e-05:  92%|█████████████████████████████████████▊   |  ETA: 0:00:28\u001b[39m"
     ]
    },
    {
     "data": {
      "text/plain": [
       "2.676378563237769e-5"
      ]
     },
     "metadata": {},
     "output_type": "display_data"
    },
    {
     "name": "stderr",
     "output_type": "stream",
     "text": [
      "\u001b[32mloss: 2.68e-05:  92%|█████████████████████████████████████▉   |  ETA: 0:00:27\u001b[39m"
     ]
    },
    {
     "data": {
      "text/plain": [
       "2.6753506189303167e-5"
      ]
     },
     "metadata": {},
     "output_type": "display_data"
    },
    {
     "name": "stderr",
     "output_type": "stream",
     "text": [
      "\u001b[32mloss: 2.68e-05:  93%|██████████████████████████████████████   |  ETA: 0:00:26\u001b[39m"
     ]
    },
    {
     "data": {
      "text/plain": [
       "2.67430980545047e-5"
      ]
     },
     "metadata": {},
     "output_type": "display_data"
    },
    {
     "name": "stderr",
     "output_type": "stream",
     "text": [
      "\u001b[32mloss: 2.67e-05:  93%|██████████████████████████████████████▏  |  ETA: 0:00:25\u001b[39m"
     ]
    },
    {
     "data": {
      "text/plain": [
       "2.6732729452527693e-5"
      ]
     },
     "metadata": {},
     "output_type": "display_data"
    },
    {
     "name": "stderr",
     "output_type": "stream",
     "text": [
      "\u001b[32mloss: 2.67e-05:  93%|██████████████████████████████████████▎  |  ETA: 0:00:24\u001b[39m"
     ]
    },
    {
     "data": {
      "text/plain": [
       "2.6722348104302185e-5"
      ]
     },
     "metadata": {},
     "output_type": "display_data"
    },
    {
     "name": "stderr",
     "output_type": "stream",
     "text": [
      "\u001b[32mloss: 2.67e-05:  94%|██████████████████████████████████████▍  |  ETA: 0:00:23\u001b[39m"
     ]
    },
    {
     "data": {
      "text/plain": [
       "2.6712045470889123e-5"
      ]
     },
     "metadata": {},
     "output_type": "display_data"
    },
    {
     "name": "stderr",
     "output_type": "stream",
     "text": [
      "\u001b[32mloss: 2.67e-05:  94%|██████████████████████████████████████▍  |  ETA: 0:00:22\u001b[39m"
     ]
    },
    {
     "data": {
      "text/plain": [
       "2.67015016934824e-5"
      ]
     },
     "metadata": {},
     "output_type": "display_data"
    },
    {
     "name": "stderr",
     "output_type": "stream",
     "text": [
      "\u001b[32mloss: 2.67e-05:  94%|██████████████████████████████████████▌  |  ETA: 0:00:21\u001b[39m"
     ]
    },
    {
     "data": {
      "text/plain": [
       "2.6691134243916892e-5"
      ]
     },
     "metadata": {},
     "output_type": "display_data"
    },
    {
     "name": "stderr",
     "output_type": "stream",
     "text": [
      "\u001b[32mloss: 2.67e-05:  94%|██████████████████████████████████████▋  |  ETA: 0:00:21\u001b[39m"
     ]
    },
    {
     "data": {
      "text/plain": [
       "2.6680773499210275e-5"
      ]
     },
     "metadata": {},
     "output_type": "display_data"
    },
    {
     "name": "stderr",
     "output_type": "stream",
     "text": [
      "\u001b[32mloss: 2.67e-05:  94%|██████████████████████████████████████▊  |  ETA: 0:00:20\u001b[39m"
     ]
    },
    {
     "data": {
      "text/plain": [
       "2.6670241567439135e-5"
      ]
     },
     "metadata": {},
     "output_type": "display_data"
    },
    {
     "name": "stderr",
     "output_type": "stream",
     "text": [
      "\u001b[32mloss: 2.67e-05:  95%|██████████████████████████████████████▉  |  ETA: 0:00:19\u001b[39m"
     ]
    },
    {
     "data": {
      "text/plain": [
       "2.6660016413160292e-5"
      ]
     },
     "metadata": {},
     "output_type": "display_data"
    },
    {
     "name": "stderr",
     "output_type": "stream",
     "text": [
      "\u001b[32mloss: 2.67e-05:  95%|███████████████████████████████████████  |  ETA: 0:00:18\u001b[39m"
     ]
    },
    {
     "data": {
      "text/plain": [
       "2.664944563224303e-5"
      ]
     },
     "metadata": {},
     "output_type": "display_data"
    },
    {
     "name": "stderr",
     "output_type": "stream",
     "text": [
      "\u001b[32mloss: 2.66e-05:  95%|███████████████████████████████████████  |  ETA: 0:00:17\u001b[39m"
     ]
    },
    {
     "data": {
      "text/plain": [
       "2.6639059666377918e-5"
      ]
     },
     "metadata": {},
     "output_type": "display_data"
    },
    {
     "name": "stderr",
     "output_type": "stream",
     "text": [
      "\u001b[32mloss: 2.66e-05:  96%|███████████████████████████████████████▏ |  ETA: 0:00:16\u001b[39m"
     ]
    },
    {
     "data": {
      "text/plain": [
       "2.6628886922841488e-5"
      ]
     },
     "metadata": {},
     "output_type": "display_data"
    },
    {
     "name": "stderr",
     "output_type": "stream",
     "text": [
      "\u001b[32mloss: 2.66e-05:  96%|███████████████████████████████████████▎ |  ETA: 0:00:15\u001b[39m"
     ]
    },
    {
     "data": {
      "text/plain": [
       "2.6618735968320095e-5"
      ]
     },
     "metadata": {},
     "output_type": "display_data"
    },
    {
     "name": "stderr",
     "output_type": "stream",
     "text": [
      "\u001b[32mloss: 2.66e-05:  96%|███████████████████████████████████████▍ |  ETA: 0:00:14\u001b[39m"
     ]
    },
    {
     "data": {
      "text/plain": [
       "2.660931879305828e-5"
      ]
     },
     "metadata": {},
     "output_type": "display_data"
    },
    {
     "name": "stderr",
     "output_type": "stream",
     "text": [
      "\u001b[32mloss: 2.66e-05:  96%|███████████████████████████████████████▌ |  ETA: 0:00:14\u001b[39m"
     ]
    },
    {
     "data": {
      "text/plain": [
       "2.66007628204612e-5"
      ]
     },
     "metadata": {},
     "output_type": "display_data"
    },
    {
     "name": "stderr",
     "output_type": "stream",
     "text": [
      "\u001b[32mloss: 2.66e-05:  96%|███████████████████████████████████████▋ |  ETA: 0:00:12\u001b[39m"
     ]
    },
    {
     "data": {
      "text/plain": [
       "2.659429867368779e-5"
      ]
     },
     "metadata": {},
     "output_type": "display_data"
    },
    {
     "name": "stderr",
     "output_type": "stream",
     "text": [
      "\u001b[32mloss: 2.66e-05:  97%|███████████████████████████████████████▋ |  ETA: 0:00:12\u001b[39m"
     ]
    },
    {
     "data": {
      "text/plain": [
       "2.6591456664615265e-5"
      ]
     },
     "metadata": {},
     "output_type": "display_data"
    },
    {
     "name": "stderr",
     "output_type": "stream",
     "text": [
      "\u001b[32mloss: 2.66e-05:  97%|███████████████████████████████████████▊ |  ETA: 0:00:11\u001b[39m"
     ]
    },
    {
     "data": {
      "text/plain": [
       "2.6590471422061057e-5"
      ]
     },
     "metadata": {},
     "output_type": "display_data"
    },
    {
     "name": "stderr",
     "output_type": "stream",
     "text": [
      "\u001b[32mloss: 2.66e-05:  97%|███████████████████████████████████████▉ |  ETA: 0:00:10\u001b[39m"
     ]
    },
    {
     "data": {
      "text/plain": [
       "2.6584594813305884e-5"
      ]
     },
     "metadata": {},
     "output_type": "display_data"
    },
    {
     "name": "stderr",
     "output_type": "stream",
     "text": [
      "\u001b[32mloss: 2.66e-05:  98%|████████████████████████████████████████ |  ETA: 0:00:09\u001b[39m"
     ]
    },
    {
     "data": {
      "text/plain": [
       "2.6564709983523116e-5"
      ]
     },
     "metadata": {},
     "output_type": "display_data"
    },
    {
     "name": "stderr",
     "output_type": "stream",
     "text": [
      "\u001b[32mloss: 2.66e-05:  98%|████████████████████████████████████████ |  ETA: 0:00:08\u001b[39m"
     ]
    },
    {
     "data": {
      "text/plain": [
       "2.6537734463039087e-5"
      ]
     },
     "metadata": {},
     "output_type": "display_data"
    },
    {
     "name": "stderr",
     "output_type": "stream",
     "text": [
      "\u001b[32mloss: 2.65e-05:  98%|████████████████████████████████████████▏|  ETA: 0:00:07\u001b[39m"
     ]
    },
    {
     "data": {
      "text/plain": [
       "2.6523397446798214e-5"
      ]
     },
     "metadata": {},
     "output_type": "display_data"
    },
    {
     "name": "stderr",
     "output_type": "stream",
     "text": [
      "\u001b[32mloss: 2.65e-05:  98%|████████████████████████████████████████▎|  ETA: 0:00:06\u001b[39m"
     ]
    },
    {
     "data": {
      "text/plain": [
       "2.652281643733545e-5"
      ]
     },
     "metadata": {},
     "output_type": "display_data"
    },
    {
     "name": "stderr",
     "output_type": "stream",
     "text": [
      "\u001b[32mloss: 2.65e-05:  98%|████████████████████████████████████████▍|  ETA: 0:00:05\u001b[39m"
     ]
    },
    {
     "data": {
      "text/plain": [
       "2.6517139608328577e-5"
      ]
     },
     "metadata": {},
     "output_type": "display_data"
    },
    {
     "name": "stderr",
     "output_type": "stream",
     "text": [
      "\u001b[32mloss: 2.65e-05:  99%|████████████████████████████████████████▌|  ETA: 0:00:05\u001b[39m"
     ]
    },
    {
     "data": {
      "text/plain": [
       "2.6498336727520666e-5"
      ]
     },
     "metadata": {},
     "output_type": "display_data"
    },
    {
     "name": "stderr",
     "output_type": "stream",
     "text": [
      "\u001b[32mloss: 2.65e-05:  99%|████████████████████████████████████████▋|  ETA: 0:00:04\u001b[39m"
     ]
    },
    {
     "data": {
      "text/plain": [
       "2.6480188363375845e-5"
      ]
     },
     "metadata": {},
     "output_type": "display_data"
    },
    {
     "name": "stderr",
     "output_type": "stream",
     "text": [
      "\u001b[32mloss: 2.65e-05:  99%|████████████████████████████████████████▋|  ETA: 0:00:03\u001b[39m"
     ]
    },
    {
     "data": {
      "text/plain": [
       "2.6473694930695402e-5"
      ]
     },
     "metadata": {},
     "output_type": "display_data"
    },
    {
     "name": "stderr",
     "output_type": "stream",
     "text": [
      "\u001b[32mloss: 2.65e-05: 100%|████████████████████████████████████████▊|  ETA: 0:00:02\u001b[39m"
     ]
    },
    {
     "data": {
      "text/plain": [
       "2.646819644724907e-5"
      ]
     },
     "metadata": {},
     "output_type": "display_data"
    },
    {
     "name": "stderr",
     "output_type": "stream",
     "text": [
      "\u001b[32mloss: 2.65e-05: 100%|████████████████████████████████████████▉|  ETA: 0:00:01\u001b[39m"
     ]
    },
    {
     "data": {
      "text/plain": [
       "2.6453489471167657e-5"
      ]
     },
     "metadata": {},
     "output_type": "display_data"
    },
    {
     "name": "stderr",
     "output_type": "stream",
     "text": [
      "\u001b[32mloss: 2.65e-05: 100%|█████████████████████████████████████████| Time: 0:05:57\u001b[39m\n"
     ]
    },
    {
     "data": {
      "text/plain": [
       "2.6453489471167657e-5"
      ]
     },
     "metadata": {},
     "output_type": "display_data"
    },
    {
     "data": {
      "text/plain": [
       " * Status: failure (reached maximum number of iterations)\n",
       "\n",
       " * Candidate solution\n",
       "    Minimizer: [-2.60e-02, -7.73e-02, -7.11e-02,  ...]\n",
       "    Minimum:   2.645349e-05\n",
       "\n",
       " * Found with\n",
       "    Algorithm:     ADAM\n",
       "    Initial Point: [-2.60e-02, -7.73e-02, -7.11e-02,  ...]\n",
       "\n",
       " * Convergence measures\n",
       "    |x - x'|               = NaN ≰ 0.0e+00\n",
       "    |x - x'|/|x'|          = NaN ≰ 0.0e+00\n",
       "    |f(x) - f(x')|         = NaN ≰ 0.0e+00\n",
       "    |f(x) - f(x')|/|f(x')| = NaN ≰ 0.0e+00\n",
       "    |g(x)|                 = NaN ≰ 0.0e+00\n",
       "\n",
       " * Work counters\n",
       "    Seconds run:   357  (vs limit Inf)\n",
       "    Iterations:    400\n",
       "    f(x) calls:    400\n",
       "    ∇f(x) calls:   400\n"
      ]
     },
     "execution_count": 189,
     "metadata": {},
     "output_type": "execute_result"
    }
   ],
   "source": [
    "res = DiffEqFlux.sciml_train(loss_n_ode, res.minimizer, ADAM(), cb=cb, maxiters=400)"
   ]
  },
  {
   "cell_type": "code",
   "execution_count": 190,
   "metadata": {},
   "outputs": [
    {
     "data": {
      "text/plain": [
       "2.643744125041536e-5"
      ]
     },
     "metadata": {},
     "output_type": "display_data"
    },
    {
     "data": {
      "text/plain": [
       "2.6437271264390105e-5"
      ]
     },
     "metadata": {},
     "output_type": "display_data"
    },
    {
     "data": {
      "text/plain": [
       "2.643720355033352e-5"
      ]
     },
     "metadata": {},
     "output_type": "display_data"
    },
    {
     "data": {
      "text/plain": [
       "2.643722237927193e-5"
      ]
     },
     "metadata": {},
     "output_type": "display_data"
    },
    {
     "data": {
      "text/plain": [
       " * Status: failure (objective increased between iterations)\n",
       "\n",
       " * Candidate solution\n",
       "    Minimizer: [-2.60e-02, -7.73e-02, -7.11e-02,  ...]\n",
       "    Minimum:   2.643720e-05\n",
       "\n",
       " * Found with\n",
       "    Algorithm:     L-BFGS\n",
       "    Initial Point: [-2.60e-02, -7.73e-02, -7.11e-02,  ...]\n",
       "\n",
       " * Convergence measures\n",
       "    |x - x'|               = 5.96e-08 ≰ 0.0e+00\n",
       "    |x - x'|/|x'|          = 1.20e-07 ≰ 0.0e+00\n",
       "    |f(x) - f(x')|         = 2.00e-11 ≰ 0.0e+00\n",
       "    |f(x) - f(x')|/|f(x')| = 7.57e-07 ≰ 0.0e+00\n",
       "    |g(x)|                 = 1.16e-06 ≰ 1.0e-08\n",
       "\n",
       " * Work counters\n",
       "    Seconds run:   25  (vs limit Inf)\n",
       "    Iterations:    3\n",
       "    f(x) calls:    29\n",
       "    ∇f(x) calls:   29\n"
      ]
     },
     "execution_count": 190,
     "metadata": {},
     "output_type": "execute_result"
    }
   ],
   "source": [
    "res = DiffEqFlux.sciml_train(loss_n_ode, res.minimizer, LBFGS(), cb=cb, maxiters=200)"
   ]
  },
  {
   "cell_type": "code",
   "execution_count": 191,
   "metadata": {},
   "outputs": [
    {
     "data": {
      "text/plain": [
       "step_node! (generic function with 1 method)"
      ]
     },
     "execution_count": 191,
     "metadata": {},
     "output_type": "execute_result"
    }
   ],
   "source": [
    "function step_train!( fwL, ffL, w, prim, f, fwR, ffR,\n",
    "\t\t\t           γ, μ, ω, u, n_ode, p, dx, tRan, RES, AVG, datainit, dataset )\n",
    "    #--- record W^{n} ---#\n",
    "    w_old = deepcopy(w)\n",
    "    M = maxwellian(u, prim)\n",
    "\tτ = vhs_collision_time(prim, μ, ω)\n",
    "    \n",
    "    #--- update W^{n+1} ---#\n",
    "\t@. w += (fwL - fwR) / dx\n",
    "\tprim .= conserve_prim(w, γ)\n",
    "\n",
    "\t#--- record residuals ---#\n",
    "\t@. RES += (w - w_old)^2\n",
    "\t@. AVG += abs(w)\n",
    "\n",
    "    data = solve(ODEProblem(bgk!, f[1:end], tSpan, [M, τ]), Tsit5(), saveat=tRan) |> Array;\n",
    "    pred = n_ode(f[1:end], p) |> Array\n",
    "    loss = sum(abs2, pred .- data)\n",
    "\n",
    "    if loss <= 1.e-6\n",
    "        ftemp = n_ode(f[1:end], p).u[end]\n",
    "    \tfor i in eachindex(u)\n",
    "    \t\tf[i] = ftemp[i] + (ffL[i] - ffR[i]) / dx\n",
    "    \tend\n",
    "    else\n",
    "        for i in eachindex(u)\n",
    "    \t\tf[i] += (ffL[i] - ffR[i]) / dx + (M[i] - f[i]) / τ * tRan[end]\n",
    "    \tend\n",
    "        \n",
    "        #push!(datainit, f[1:end])\n",
    "        #push!(dataset, data)\n",
    "    end\n",
    "end\n",
    "\n",
    "function step_bgk!( fwL, ffL, w, prim, f, fwR, ffR,\n",
    "\t\t\t           γ, μ, ω, u, n_ode, p, dx, tRan, RES, AVG, datainit, dataset )\n",
    "    \n",
    "    #--- record W^{n} ---#\n",
    "    w_old = deepcopy(w)\n",
    "    M = maxwellian(u, prim)\n",
    "\tτ = vhs_collision_time(prim, μ, ω)\n",
    "    \n",
    "    #--- update W^{n+1} ---#\n",
    "\t@. w += (fwL - fwR) / dx\n",
    "\tprim .= conserve_prim(w, γ)\n",
    "\n",
    "\t#--- record residuals ---#\n",
    "\t@. RES += (w - w_old)^2\n",
    "\t@. AVG += abs(w)\n",
    "\n",
    "    prob = ODEProblem(bgk!, f[1:end], (tRan[1], tRan[end]), [M, τ])\n",
    "    ftemp = (solve(prob, Tsit5(), saveat=tRan) |> Array)[:,end]\n",
    "    for i in eachindex(u)\n",
    "        f[i] = ftemp[i] + (ffL[i] - ffR[i]) / dx\n",
    "    end\n",
    "    \n",
    "end\n",
    "\n",
    "function step_node!( fwL, ffL, w, prim, f, fwR, ffR,\n",
    "\t\t\t           γ, μ, ω, u, n_ode, p, dx, tRan, RES, AVG, datainit, dataset )\n",
    "    \n",
    "    #--- record W^{n} ---#\n",
    "    w_old = deepcopy(w)\n",
    "    M = maxwellian(u, prim)\n",
    "\tτ = vhs_collision_time(prim, μ, ω)\n",
    "    \n",
    "    #--- update W^{n+1} ---#\n",
    "\t@. w += (fwL - fwR) / dx\n",
    "\tprim .= conserve_prim(w, γ)\n",
    "\n",
    "\t#--- record residuals ---#\n",
    "\t@. RES += (w - w_old)^2\n",
    "\t@. AVG += abs(w)\n",
    "\n",
    "    ftemp = n_ode(f[1:end], p).u[end]\n",
    "    for i in eachindex(u)\n",
    "        f[i] = ftemp[i] + (ffL[i] - ffR[i]) / dx\n",
    "    end\n",
    "\n",
    "end"
   ]
  },
  {
   "cell_type": "code",
   "execution_count": 203,
   "metadata": {},
   "outputs": [],
   "source": [
    "sumRes = zeros(Float32, axes(ib.wL))\n",
    "sumAvg = zeros(Float32, axes(ib.wL))\n",
    "for iter = 1:10\n",
    "\n",
    "    Kinetic.evolve!(ks, ctr, face, dt)\n",
    "\n",
    "    for i in 2:ks.pSpace.nx-1\n",
    "        #step_train!( face[i].fw, face[i].ff, ctr[i].w, ctr[i].prim, ctr[i].f,\n",
    "        #             face[i+1].fw, face[i+1].ff, ks.gas.γ, ks.gas.μᵣ, ks.gas.ω, vSpace.u, n_ode, res.minimizer,\n",
    "        #             ctr[i].dx, tRan, sumRes, sumAvg, data_init, data_boltz )\n",
    "        step_node!( face[i].fw, face[i].ff, ctr[i].w, ctr[i].prim, ctr[i].f,\n",
    "                     face[i+1].fw, face[i+1].ff, ks.gas.γ, ks.gas.μᵣ, ks.gas.ω, vSpace.u, n_ode, res.minimizer,\n",
    "                     ctr[i].dx, tRan, sumRes, sumAvg, data_init, data_boltz )\n",
    "    end\n",
    "    #=\n",
    "    for i in 16:35\n",
    "        #step_train!( face[i].fw, face[i].ff, ctr[i].w, ctr[i].prim, ctr[i].f,\n",
    "        #             face[i+1].fw, face[i+1].ff, ks.gas.γ, ks.gas.μᵣ, ks.gas.ω, vSpace.u, n_ode, res.minimizer,\n",
    "        #             ctr[i].dx, tRan, sumRes, sumAvg, data_init, data_boltz )\n",
    "        step_node!( face[i].fw, face[i].ff, ctr[i].w, ctr[i].prim, ctr[i].f,\n",
    "                     face[i+1].fw, face[i+1].ff, ks.gas.γ, ks.gas.μᵣ, ks.gas.ω, vSpace.u, n_ode, res.minimizer,\n",
    "                     ctr[i].dx, tRan, sumRes, sumAvg, data_init, data_boltz )\n",
    "    end\n",
    "    \n",
    "    for i in 36:ks.pSpace.nx-1\n",
    "        #step_train!( face[i].fw, face[i].ff, ctr[i].w, ctr[i].prim, ctr[i].f,\n",
    "        #             face[i+1].fw, face[i+1].ff, ks.gas.γ, ks.gas.μᵣ, ks.gas.ω, vSpace.u, n_ode, res.minimizer,\n",
    "        #             ctr[i].dx, tRan, sumRes, sumAvg, data_init, data_boltz )\n",
    "        step_node!( face[i].fw, face[i].ff, ctr[i].w, ctr[i].prim, ctr[i].f,\n",
    "                     face[i+1].fw, face[i+1].ff, ks.gas.γ, ks.gas.μᵣ, ks.gas.ω, vSpace.u, n_ode, res.minimizer,\n",
    "                     ctr[i].dx, tRan, sumRes, sumAvg, data_init, data_boltz )\n",
    "    end\n",
    "=#\n",
    "end"
   ]
  },
  {
   "cell_type": "code",
   "execution_count": 204,
   "metadata": {},
   "outputs": [
    {
     "data": {
      "image/svg+xml": [
       "<?xml version=\"1.0\" encoding=\"utf-8\"?>\n",
       "<svg xmlns=\"http://www.w3.org/2000/svg\" xmlns:xlink=\"http://www.w3.org/1999/xlink\" width=\"600\" height=\"400\" viewBox=\"0 0 2400 1600\">\n",
       "<defs>\n",
       "  <clipPath id=\"clip4800\">\n",
       "    <rect x=\"0\" y=\"0\" width=\"2400\" height=\"1600\"/>\n",
       "  </clipPath>\n",
       "</defs>\n",
       "<path clip-path=\"url(#clip4800)\" d=\"\n",
       "M0 1600 L2400 1600 L2400 0 L0 0  Z\n",
       "  \" fill=\"#ffffff\" fill-rule=\"evenodd\" fill-opacity=\"1\"/>\n",
       "<defs>\n",
       "  <clipPath id=\"clip4801\">\n",
       "    <rect x=\"480\" y=\"0\" width=\"1681\" height=\"1600\"/>\n",
       "  </clipPath>\n",
       "</defs>\n",
       "<path clip-path=\"url(#clip4800)\" d=\"\n",
       "M112.177 1423.18 L2352.76 1423.18 L2352.76 47.2441 L112.177 47.2441  Z\n",
       "  \" fill=\"#ffffff\" fill-rule=\"evenodd\" fill-opacity=\"1\"/>\n",
       "<defs>\n",
       "  <clipPath id=\"clip4802\">\n",
       "    <rect x=\"112\" y=\"47\" width=\"2242\" height=\"1377\"/>\n",
       "  </clipPath>\n",
       "</defs>\n",
       "<polyline clip-path=\"url(#clip4802)\" style=\"stroke:#000000; stroke-width:2; stroke-opacity:0.1; fill:none\" points=\"\n",
       "  369.71,1423.18 369.71,47.2441 \n",
       "  \"/>\n",
       "<polyline clip-path=\"url(#clip4802)\" style=\"stroke:#000000; stroke-width:2; stroke-opacity:0.1; fill:none\" points=\"\n",
       "  801.088,1423.18 801.088,47.2441 \n",
       "  \"/>\n",
       "<polyline clip-path=\"url(#clip4802)\" style=\"stroke:#000000; stroke-width:2; stroke-opacity:0.1; fill:none\" points=\"\n",
       "  1232.47,1423.18 1232.47,47.2441 \n",
       "  \"/>\n",
       "<polyline clip-path=\"url(#clip4802)\" style=\"stroke:#000000; stroke-width:2; stroke-opacity:0.1; fill:none\" points=\"\n",
       "  1663.84,1423.18 1663.84,47.2441 \n",
       "  \"/>\n",
       "<polyline clip-path=\"url(#clip4802)\" style=\"stroke:#000000; stroke-width:2; stroke-opacity:0.1; fill:none\" points=\"\n",
       "  2095.22,1423.18 2095.22,47.2441 \n",
       "  \"/>\n",
       "<polyline clip-path=\"url(#clip4802)\" style=\"stroke:#000000; stroke-width:2; stroke-opacity:0.1; fill:none\" points=\"\n",
       "  112.177,1299.88 2352.76,1299.88 \n",
       "  \"/>\n",
       "<polyline clip-path=\"url(#clip4802)\" style=\"stroke:#000000; stroke-width:2; stroke-opacity:0.1; fill:none\" points=\"\n",
       "  112.177,1110.13 2352.76,1110.13 \n",
       "  \"/>\n",
       "<polyline clip-path=\"url(#clip4802)\" style=\"stroke:#000000; stroke-width:2; stroke-opacity:0.1; fill:none\" points=\"\n",
       "  112.177,920.377 2352.76,920.377 \n",
       "  \"/>\n",
       "<polyline clip-path=\"url(#clip4802)\" style=\"stroke:#000000; stroke-width:2; stroke-opacity:0.1; fill:none\" points=\"\n",
       "  112.177,730.624 2352.76,730.624 \n",
       "  \"/>\n",
       "<polyline clip-path=\"url(#clip4802)\" style=\"stroke:#000000; stroke-width:2; stroke-opacity:0.1; fill:none\" points=\"\n",
       "  112.177,540.872 2352.76,540.872 \n",
       "  \"/>\n",
       "<polyline clip-path=\"url(#clip4802)\" style=\"stroke:#000000; stroke-width:2; stroke-opacity:0.1; fill:none\" points=\"\n",
       "  112.177,351.12 2352.76,351.12 \n",
       "  \"/>\n",
       "<polyline clip-path=\"url(#clip4802)\" style=\"stroke:#000000; stroke-width:2; stroke-opacity:0.1; fill:none\" points=\"\n",
       "  112.177,161.368 2352.76,161.368 \n",
       "  \"/>\n",
       "<polyline clip-path=\"url(#clip4800)\" style=\"stroke:#000000; stroke-width:4; stroke-opacity:1; fill:none\" points=\"\n",
       "  112.177,1423.18 2352.76,1423.18 \n",
       "  \"/>\n",
       "<polyline clip-path=\"url(#clip4800)\" style=\"stroke:#000000; stroke-width:4; stroke-opacity:1; fill:none\" points=\"\n",
       "  112.177,1423.18 112.177,47.2441 \n",
       "  \"/>\n",
       "<polyline clip-path=\"url(#clip4800)\" style=\"stroke:#000000; stroke-width:4; stroke-opacity:1; fill:none\" points=\"\n",
       "  369.71,1423.18 369.71,1406.67 \n",
       "  \"/>\n",
       "<polyline clip-path=\"url(#clip4800)\" style=\"stroke:#000000; stroke-width:4; stroke-opacity:1; fill:none\" points=\"\n",
       "  801.088,1423.18 801.088,1406.67 \n",
       "  \"/>\n",
       "<polyline clip-path=\"url(#clip4800)\" style=\"stroke:#000000; stroke-width:4; stroke-opacity:1; fill:none\" points=\"\n",
       "  1232.47,1423.18 1232.47,1406.67 \n",
       "  \"/>\n",
       "<polyline clip-path=\"url(#clip4800)\" style=\"stroke:#000000; stroke-width:4; stroke-opacity:1; fill:none\" points=\"\n",
       "  1663.84,1423.18 1663.84,1406.67 \n",
       "  \"/>\n",
       "<polyline clip-path=\"url(#clip4800)\" style=\"stroke:#000000; stroke-width:4; stroke-opacity:1; fill:none\" points=\"\n",
       "  2095.22,1423.18 2095.22,1406.67 \n",
       "  \"/>\n",
       "<polyline clip-path=\"url(#clip4800)\" style=\"stroke:#000000; stroke-width:4; stroke-opacity:1; fill:none\" points=\"\n",
       "  112.177,1299.88 139.064,1299.88 \n",
       "  \"/>\n",
       "<polyline clip-path=\"url(#clip4800)\" style=\"stroke:#000000; stroke-width:4; stroke-opacity:1; fill:none\" points=\"\n",
       "  112.177,1110.13 139.064,1110.13 \n",
       "  \"/>\n",
       "<polyline clip-path=\"url(#clip4800)\" style=\"stroke:#000000; stroke-width:4; stroke-opacity:1; fill:none\" points=\"\n",
       "  112.177,920.377 139.064,920.377 \n",
       "  \"/>\n",
       "<polyline clip-path=\"url(#clip4800)\" style=\"stroke:#000000; stroke-width:4; stroke-opacity:1; fill:none\" points=\"\n",
       "  112.177,730.624 139.064,730.624 \n",
       "  \"/>\n",
       "<polyline clip-path=\"url(#clip4800)\" style=\"stroke:#000000; stroke-width:4; stroke-opacity:1; fill:none\" points=\"\n",
       "  112.177,540.872 139.064,540.872 \n",
       "  \"/>\n",
       "<polyline clip-path=\"url(#clip4800)\" style=\"stroke:#000000; stroke-width:4; stroke-opacity:1; fill:none\" points=\"\n",
       "  112.177,351.12 139.064,351.12 \n",
       "  \"/>\n",
       "<polyline clip-path=\"url(#clip4800)\" style=\"stroke:#000000; stroke-width:4; stroke-opacity:1; fill:none\" points=\"\n",
       "  112.177,161.368 139.064,161.368 \n",
       "  \"/>\n",
       "<path clip-path=\"url(#clip4800)\" d=\"M 0 0 M337.256 1461.77 L349.733 1461.77 L349.733 1465.56 L337.256 1465.56 L337.256 1461.77 Z\" fill=\"#000000\" fill-rule=\"evenodd\" fill-opacity=\"1\" /><path clip-path=\"url(#clip4800)\" d=\"M 0 0 M358.83 1472.72 L375.15 1472.72 L375.15 1476.65 L353.205 1476.65 L353.205 1472.72 Q355.867 1469.96 360.451 1465.33 Q365.057 1460.68 366.238 1459.34 Q368.483 1456.81 369.363 1455.08 Q370.266 1453.32 370.266 1451.63 Q370.266 1448.87 368.321 1447.14 Q366.4 1445.4 363.298 1445.4 Q361.099 1445.4 358.645 1446.17 Q356.215 1446.93 353.437 1448.48 L353.437 1443.76 Q356.261 1442.62 358.715 1442.05 Q361.168 1441.47 363.205 1441.47 Q368.576 1441.47 371.77 1444.15 Q374.965 1446.84 374.965 1451.33 Q374.965 1453.46 374.154 1455.38 Q373.367 1457.28 371.261 1459.87 Q370.682 1460.54 367.58 1463.76 Q364.479 1466.95 358.83 1472.72 Z\" fill=\"#000000\" fill-rule=\"evenodd\" fill-opacity=\"1\" /><path clip-path=\"url(#clip4800)\" d=\"M 0 0 M390.219 1445.17 Q386.608 1445.17 384.779 1448.74 Q382.974 1452.28 382.974 1459.41 Q382.974 1466.51 384.779 1470.08 Q386.608 1473.62 390.219 1473.62 Q393.853 1473.62 395.659 1470.08 Q397.488 1466.51 397.488 1459.41 Q397.488 1452.28 395.659 1448.74 Q393.853 1445.17 390.219 1445.17 M390.219 1441.47 Q396.029 1441.47 399.085 1446.07 Q402.164 1450.66 402.164 1459.41 Q402.164 1468.13 399.085 1472.74 Q396.029 1477.32 390.219 1477.32 Q384.409 1477.32 381.33 1472.74 Q378.275 1468.13 378.275 1459.41 Q378.275 1450.66 381.33 1446.07 Q384.409 1441.47 390.219 1441.47 Z\" fill=\"#000000\" fill-rule=\"evenodd\" fill-opacity=\"1\" /><path clip-path=\"url(#clip4800)\" d=\"M 0 0 M768.45 1461.77 L780.926 1461.77 L780.926 1465.56 L768.45 1465.56 L768.45 1461.77 Z\" fill=\"#000000\" fill-rule=\"evenodd\" fill-opacity=\"1\" /><path clip-path=\"url(#clip4800)\" d=\"M 0 0 M786.806 1472.72 L794.445 1472.72 L794.445 1446.35 L786.135 1448.02 L786.135 1443.76 L794.398 1442.09 L799.074 1442.09 L799.074 1472.72 L806.713 1472.72 L806.713 1476.65 L786.806 1476.65 L786.806 1472.72 Z\" fill=\"#000000\" fill-rule=\"evenodd\" fill-opacity=\"1\" /><path clip-path=\"url(#clip4800)\" d=\"M 0 0 M821.783 1445.17 Q818.172 1445.17 816.343 1448.74 Q814.537 1452.28 814.537 1459.41 Q814.537 1466.51 816.343 1470.08 Q818.172 1473.62 821.783 1473.62 Q825.417 1473.62 827.222 1470.08 Q829.051 1466.51 829.051 1459.41 Q829.051 1452.28 827.222 1448.74 Q825.417 1445.17 821.783 1445.17 M821.783 1441.47 Q827.593 1441.47 830.648 1446.07 Q833.727 1450.66 833.727 1459.41 Q833.727 1468.13 830.648 1472.74 Q827.593 1477.32 821.783 1477.32 Q815.972 1477.32 812.894 1472.74 Q809.838 1468.13 809.838 1459.41 Q809.838 1450.66 812.894 1446.07 Q815.972 1441.47 821.783 1441.47 Z\" fill=\"#000000\" fill-rule=\"evenodd\" fill-opacity=\"1\" /><path clip-path=\"url(#clip4800)\" d=\"M 0 0 M1232.47 1445.17 Q1228.86 1445.17 1227.03 1448.74 Q1225.22 1452.28 1225.22 1459.41 Q1225.22 1466.51 1227.03 1470.08 Q1228.86 1473.62 1232.47 1473.62 Q1236.1 1473.62 1237.91 1470.08 Q1239.74 1466.51 1239.74 1459.41 Q1239.74 1452.28 1237.91 1448.74 Q1236.1 1445.17 1232.47 1445.17 M1232.47 1441.47 Q1238.28 1441.47 1241.33 1446.07 Q1244.41 1450.66 1244.41 1459.41 Q1244.41 1468.13 1241.33 1472.74 Q1238.28 1477.32 1232.47 1477.32 Q1226.66 1477.32 1223.58 1472.74 Q1220.52 1468.13 1220.52 1459.41 Q1220.52 1450.66 1223.58 1446.07 Q1226.66 1441.47 1232.47 1441.47 Z\" fill=\"#000000\" fill-rule=\"evenodd\" fill-opacity=\"1\" /><path clip-path=\"url(#clip4800)\" d=\"M 0 0 M1640.72 1472.72 L1648.36 1472.72 L1648.36 1446.35 L1640.05 1448.02 L1640.05 1443.76 L1648.31 1442.09 L1652.99 1442.09 L1652.99 1472.72 L1660.63 1472.72 L1660.63 1476.65 L1640.72 1476.65 L1640.72 1472.72 Z\" fill=\"#000000\" fill-rule=\"evenodd\" fill-opacity=\"1\" /><path clip-path=\"url(#clip4800)\" d=\"M 0 0 M1675.7 1445.17 Q1672.09 1445.17 1670.26 1448.74 Q1668.45 1452.28 1668.45 1459.41 Q1668.45 1466.51 1670.26 1470.08 Q1672.09 1473.62 1675.7 1473.62 Q1679.33 1473.62 1681.14 1470.08 Q1682.97 1466.51 1682.97 1459.41 Q1682.97 1452.28 1681.14 1448.74 Q1679.33 1445.17 1675.7 1445.17 M1675.7 1441.47 Q1681.51 1441.47 1684.56 1446.07 Q1687.64 1450.66 1687.64 1459.41 Q1687.64 1468.13 1684.56 1472.74 Q1681.51 1477.32 1675.7 1477.32 Q1669.89 1477.32 1666.81 1472.74 Q1663.75 1468.13 1663.75 1459.41 Q1663.75 1450.66 1666.81 1446.07 Q1669.89 1441.47 1675.7 1441.47 Z\" fill=\"#000000\" fill-rule=\"evenodd\" fill-opacity=\"1\" /><path clip-path=\"url(#clip4800)\" d=\"M 0 0 M2076.37 1472.72 L2092.69 1472.72 L2092.69 1476.65 L2070.74 1476.65 L2070.74 1472.72 Q2073.41 1469.96 2077.99 1465.33 Q2082.6 1460.68 2083.78 1459.34 Q2086.02 1456.81 2086.9 1455.08 Q2087.8 1453.32 2087.8 1451.63 Q2087.8 1448.87 2085.86 1447.14 Q2083.94 1445.4 2080.84 1445.4 Q2078.64 1445.4 2076.18 1446.17 Q2073.75 1446.93 2070.98 1448.48 L2070.98 1443.76 Q2073.8 1442.62 2076.25 1442.05 Q2078.71 1441.47 2080.74 1441.47 Q2086.11 1441.47 2089.31 1444.15 Q2092.5 1446.84 2092.5 1451.33 Q2092.5 1453.46 2091.69 1455.38 Q2090.91 1457.28 2088.8 1459.87 Q2088.22 1460.54 2085.12 1463.76 Q2082.02 1466.95 2076.37 1472.72 Z\" fill=\"#000000\" fill-rule=\"evenodd\" fill-opacity=\"1\" /><path clip-path=\"url(#clip4800)\" d=\"M 0 0 M2107.76 1445.17 Q2104.15 1445.17 2102.32 1448.74 Q2100.51 1452.28 2100.51 1459.41 Q2100.51 1466.51 2102.32 1470.08 Q2104.15 1473.62 2107.76 1473.62 Q2111.39 1473.62 2113.2 1470.08 Q2115.03 1466.51 2115.03 1459.41 Q2115.03 1452.28 2113.2 1448.74 Q2111.39 1445.17 2107.76 1445.17 M2107.76 1441.47 Q2113.57 1441.47 2116.62 1446.07 Q2119.7 1450.66 2119.7 1459.41 Q2119.7 1468.13 2116.62 1472.74 Q2113.57 1477.32 2107.76 1477.32 Q2101.95 1477.32 2098.87 1472.74 Q2095.81 1468.13 2095.81 1459.41 Q2095.81 1450.66 2098.87 1446.07 Q2101.95 1441.47 2107.76 1441.47 Z\" fill=\"#000000\" fill-rule=\"evenodd\" fill-opacity=\"1\" /><path clip-path=\"url(#clip4800)\" d=\"M 0 0 M68.2699 1313.23 L75.9087 1313.23 L75.9087 1286.86 L67.5986 1288.53 L67.5986 1284.27 L75.8624 1282.6 L80.5383 1282.6 L80.5383 1313.23 L88.1772 1313.23 L88.1772 1317.16 L68.2699 1317.16 L68.2699 1313.23 Z\" fill=\"#000000\" fill-rule=\"evenodd\" fill-opacity=\"1\" /><path clip-path=\"url(#clip4800)\" d=\"M 0 0 M71.8578 1123.47 L88.1772 1123.47 L88.1772 1127.41 L66.2328 1127.41 L66.2328 1123.47 Q68.8949 1120.72 73.4782 1116.09 Q78.0846 1111.44 79.2652 1110.09 Q81.5105 1107.57 82.3902 1105.83 Q83.2929 1104.08 83.2929 1102.39 Q83.2929 1099.63 81.3485 1097.9 Q79.4272 1096.16 76.3254 1096.16 Q74.1263 1096.16 71.6726 1096.92 Q69.2421 1097.69 66.4643 1099.24 L66.4643 1094.52 Q69.2884 1093.38 71.7421 1092.8 Q74.1958 1092.22 76.2328 1092.22 Q81.6031 1092.22 84.7976 1094.91 Q87.992 1097.59 87.992 1102.08 Q87.992 1104.21 87.1818 1106.14 Q86.3948 1108.03 84.2883 1110.63 Q83.7096 1111.3 80.6078 1114.52 Q77.5059 1117.71 71.8578 1123.47 Z\" fill=\"#000000\" fill-rule=\"evenodd\" fill-opacity=\"1\" /><path clip-path=\"url(#clip4800)\" d=\"M 0 0 M81.0476 919.022 Q84.404 919.74 86.279 922.009 Q88.1772 924.277 88.1772 927.61 Q88.1772 932.726 84.6587 935.527 Q81.1402 938.328 74.6587 938.328 Q72.4828 938.328 70.168 937.888 Q67.8764 937.471 65.4227 936.615 L65.4227 932.101 Q67.3671 933.235 69.6819 933.814 Q71.9967 934.393 74.5198 934.393 Q78.918 934.393 81.2096 932.657 Q83.5244 930.921 83.5244 927.61 Q83.5244 924.555 81.3717 922.842 Q79.242 921.106 75.4226 921.106 L71.3949 921.106 L71.3949 917.263 L75.6078 917.263 Q79.0569 917.263 80.8855 915.897 Q82.7142 914.509 82.7142 911.916 Q82.7142 909.254 80.8161 907.842 Q78.9411 906.407 75.4226 906.407 Q73.5013 906.407 71.3023 906.823 Q69.1032 907.24 66.4643 908.12 L66.4643 903.953 Q69.1264 903.212 71.4412 902.842 Q73.7791 902.472 75.8393 902.472 Q81.1633 902.472 84.2652 904.902 Q87.367 907.31 87.367 911.43 Q87.367 914.3 85.7235 916.291 Q84.08 918.259 81.0476 919.022 Z\" fill=\"#000000\" fill-rule=\"evenodd\" fill-opacity=\"1\" /><path clip-path=\"url(#clip4800)\" d=\"M 0 0 M78.5939 717.418 L66.7884 735.867 L78.5939 735.867 L78.5939 717.418 M77.367 713.344 L83.2466 713.344 L83.2466 735.867 L88.1772 735.867 L88.1772 739.756 L83.2466 739.756 L83.2466 747.904 L78.5939 747.904 L78.5939 739.756 L62.9921 739.756 L62.9921 735.242 L77.367 713.344 Z\" fill=\"#000000\" fill-rule=\"evenodd\" fill-opacity=\"1\" /><path clip-path=\"url(#clip4800)\" d=\"M 0 0 M67.2745 523.592 L85.6309 523.592 L85.6309 527.527 L71.5569 527.527 L71.5569 535.999 Q72.5754 535.652 73.5939 535.49 Q74.6124 535.305 75.6309 535.305 Q81.418 535.305 84.7976 538.476 Q88.1772 541.648 88.1772 547.064 Q88.1772 552.643 84.705 555.745 Q81.2328 558.823 74.9134 558.823 Q72.7374 558.823 70.4689 558.453 Q68.2236 558.083 65.8162 557.342 L65.8162 552.643 Q67.8995 553.777 70.1217 554.333 Q72.3439 554.888 74.8208 554.888 Q78.8254 554.888 81.1633 552.782 Q83.5013 550.675 83.5013 547.064 Q83.5013 543.453 81.1633 541.347 Q78.8254 539.24 74.8208 539.24 Q72.9458 539.24 71.0708 539.657 Q69.2189 540.074 67.2745 540.953 L67.2745 523.592 Z\" fill=\"#000000\" fill-rule=\"evenodd\" fill-opacity=\"1\" /><path clip-path=\"url(#clip4800)\" d=\"M 0 0 M76.6495 349.256 Q73.5013 349.256 71.6495 351.409 Q69.8208 353.562 69.8208 357.312 Q69.8208 361.039 71.6495 363.215 Q73.5013 365.367 76.6495 365.367 Q79.7976 365.367 81.6263 363.215 Q83.4781 361.039 83.4781 357.312 Q83.4781 353.562 81.6263 351.409 Q79.7976 349.256 76.6495 349.256 M85.9318 334.604 L85.9318 338.863 Q84.1726 338.03 82.367 337.59 Q80.5846 337.15 78.8254 337.15 Q74.1958 337.15 71.7421 340.275 Q69.3115 343.4 68.9643 349.719 Q70.33 347.706 72.3902 346.641 Q74.4504 345.553 76.9272 345.553 Q82.1355 345.553 85.1448 348.724 Q88.1772 351.872 88.1772 357.312 Q88.1772 362.636 85.029 365.854 Q81.8809 369.071 76.6495 369.071 Q70.6541 369.071 67.4828 364.488 Q64.3116 359.881 64.3116 351.155 Q64.3116 342.96 68.2004 338.099 Q72.0893 333.215 78.6402 333.215 Q80.3994 333.215 82.1818 333.562 Q83.9874 333.909 85.9318 334.604 Z\" fill=\"#000000\" fill-rule=\"evenodd\" fill-opacity=\"1\" /><path clip-path=\"url(#clip4800)\" d=\"M 0 0 M65.9551 144.088 L88.1772 144.088 L88.1772 146.078 L75.6309 178.648 L70.7467 178.648 L82.5522 148.023 L65.9551 148.023 L65.9551 144.088 Z\" fill=\"#000000\" fill-rule=\"evenodd\" fill-opacity=\"1\" /><path clip-path=\"url(#clip4800)\" d=\"M 0 0 M1214.29 1508.52 L1221.2 1508.52 L1233.01 1526.19 L1244.88 1508.52 L1251.79 1508.52 L1236.51 1531.34 L1252.8 1556.04 L1245.9 1556.04 L1232.53 1535.83 L1219.07 1556.04 L1212.13 1556.04 L1229.09 1530.68 L1214.29 1508.52 Z\" fill=\"#000000\" fill-rule=\"evenodd\" fill-opacity=\"1\" /><polyline clip-path=\"url(#clip4802)\" style=\"stroke:#009af9; stroke-width:8; stroke-opacity:1; fill:none\" points=\"\n",
       "  175.59,1299.88 218.728,1299.48 261.865,1299.53 305.003,1299.75 348.141,1300.08 391.279,1300.41 434.417,1300.65 477.555,1300.7 520.692,1300.56 563.83,1300.28 \n",
       "  606.968,1299.96 650.106,1299.67 693.244,1299.48 736.382,1299.39 779.519,1299.36 822.657,1299.32 865.795,1299.21 908.933,1298.88 952.071,1298.14 995.208,1296.6 \n",
       "  1038.35,1293.53 1081.48,1287.53 1124.62,1276.02 1167.76,1255.19 1210.9,1226.23 1254.04,1198.32 1297.17,1178.01 1340.31,1165.44 1383.45,1158.1 1426.59,1153.77 \n",
       "  1469.72,1151.11 1512.86,1149.49 1556,1148.59 1599.14,1148.26 1642.28,1148.32 1685.41,1148.59 1728.55,1148.88 1771.69,1149.06 1814.83,1149.08 1857.97,1148.96 \n",
       "  1901.1,1148.75 1944.24,1148.53 1987.38,1148.33 2030.52,1148.19 2073.65,1148.11 2116.79,1148.09 2159.93,1148.1 2203.07,1148.12 2246.21,1148.12 2289.34,1148.08 \n",
       "  \n",
       "  \"/>\n",
       "<polyline clip-path=\"url(#clip4802)\" style=\"stroke:#e26f46; stroke-width:8; stroke-opacity:1; fill:none\" points=\"\n",
       "  175.59,792.439 218.728,794.725 261.865,795.064 305.003,794.892 348.141,794.254 391.279,793.247 434.417,792.054 477.555,790.915 520.692,790.055 563.83,789.607 \n",
       "  606.968,789.571 650.106,789.831 693.244,790.206 736.382,790.533 779.519,790.716 822.657,790.775 865.795,790.896 908.933,791.509 952.071,793.463 995.208,798.314 \n",
       "  1038.35,808.815 1081.48,829.57 1124.62,867.16 1167.76,925.616 1210.9,990.17 1254.04,1039.03 1297.17,1068.08 1340.31,1083.3 1383.45,1090.76 1426.59,1094.29 \n",
       "  1469.72,1096.03 1512.86,1097.14 1556,1098.2 1599.14,1099.39 1642.28,1100.66 1685.41,1101.82 1728.55,1102.69 1771.69,1103.16 1814.83,1103.25 1857.97,1103.04 \n",
       "  1901.1,1102.68 1944.24,1102.3 1987.38,1101.98 2030.52,1101.78 2073.65,1101.69 2116.79,1101.69 2159.93,1101.76 2203.07,1101.88 2246.21,1102.05 2289.34,1102.3 \n",
       "  \n",
       "  \"/>\n",
       "<polyline clip-path=\"url(#clip4802)\" style=\"stroke:#3da44d; stroke-width:8; stroke-opacity:1; fill:none\" points=\"\n",
       "  175.59,1299.88 218.728,1286.97 261.865,1279.01 305.003,1271.96 348.141,1266.05 391.279,1261.85 434.417,1260 477.555,1260.91 520.692,1264.68 563.83,1270.98 \n",
       "  606.968,1279.38 650.106,1289.4 693.244,1300.85 736.382,1313.74 779.519,1328.29 822.657,1344.45 865.795,1361.41 908.933,1376.61 952.071,1384.24 995.208,1373.04 \n",
       "  1038.35,1323.36 1081.48,1205.54 1124.62,988.54 1167.76,682.887 1210.9,402.28 1254.04,231.694 1297.17,147.966 1340.31,109.339 1383.45,92.2024 1426.59,86.1857 \n",
       "  1469.72,86.7761 1512.86,91.5879 1556,98.8413 1599.14,106.881 1642.28,114.217 1685.41,119.742 1728.55,122.904 1771.69,123.733 1814.83,122.73 1857.97,120.645 \n",
       "  1901.1,118.243 1944.24,116.137 1987.38,114.701 2030.52,114.064 2073.65,114.157 2116.79,114.777 2159.93,115.648 2203.07,116.476 2246.21,116.986 2289.34,119.201 \n",
       "  \n",
       "  \"/>\n",
       "<path clip-path=\"url(#clip4800)\" d=\"\n",
       "M1764.11 372.684 L2280.76 372.684 L2280.76 130.764 L1764.11 130.764  Z\n",
       "  \" fill=\"#ffffff\" fill-rule=\"evenodd\" fill-opacity=\"1\"/>\n",
       "<polyline clip-path=\"url(#clip4800)\" style=\"stroke:#000000; stroke-width:4; stroke-opacity:1; fill:none\" points=\"\n",
       "  1764.11,372.684 2280.76,372.684 2280.76,130.764 1764.11,130.764 1764.11,372.684 \n",
       "  \"/>\n",
       "<polyline clip-path=\"url(#clip4800)\" style=\"stroke:#009af9; stroke-width:8; stroke-opacity:1; fill:none\" points=\"\n",
       "  1788.11,191.244 1932.11,191.244 \n",
       "  \"/>\n",
       "<path clip-path=\"url(#clip4800)\" d=\"M 0 0 M1960.79 177.807 L1960.79 204.682 L1966.44 204.682 Q1973.59 204.682 1976.9 201.441 Q1980.23 198.2 1980.23 191.209 Q1980.23 184.265 1976.9 181.047 Q1973.59 177.807 1966.44 177.807 L1960.79 177.807 M1956.11 173.964 L1965.72 173.964 Q1975.77 173.964 1980.47 178.154 Q1985.16 182.321 1985.16 191.209 Q1985.16 200.145 1980.44 204.334 Q1975.72 208.524 1965.72 208.524 L1956.11 208.524 L1956.11 173.964 Z\" fill=\"#000000\" fill-rule=\"evenodd\" fill-opacity=\"1\" /><path clip-path=\"url(#clip4800)\" d=\"M 0 0 M2011.81 194.496 L2011.81 196.58 L1992.22 196.58 Q1992.5 200.978 1994.86 203.293 Q1997.25 205.584 2001.48 205.584 Q2003.94 205.584 2006.23 204.982 Q2008.54 204.381 2010.81 203.177 L2010.81 207.205 Q2008.52 208.177 2006.11 208.686 Q2003.71 209.195 2001.23 209.195 Q1995.03 209.195 1991.39 205.584 Q1987.78 201.973 1987.78 195.816 Q1987.78 189.45 1991.21 185.723 Q1994.66 181.973 2000.49 181.973 Q2005.72 181.973 2008.75 185.353 Q2011.81 188.709 2011.81 194.496 M2007.55 193.246 Q2007.5 189.751 2005.58 187.668 Q2003.68 185.584 2000.53 185.584 Q1996.97 185.584 1994.82 187.598 Q1992.69 189.612 1992.36 193.27 L2007.55 193.246 Z\" fill=\"#000000\" fill-rule=\"evenodd\" fill-opacity=\"1\" /><path clip-path=\"url(#clip4800)\" d=\"M 0 0 M2037.83 192.876 L2037.83 208.524 L2033.57 208.524 L2033.57 193.015 Q2033.57 189.334 2032.13 187.506 Q2030.7 185.677 2027.83 185.677 Q2024.38 185.677 2022.39 187.876 Q2020.4 190.075 2020.4 193.871 L2020.4 208.524 L2016.11 208.524 L2016.11 182.598 L2020.4 182.598 L2020.4 186.626 Q2021.92 184.288 2023.98 183.131 Q2026.07 181.973 2028.78 181.973 Q2033.24 181.973 2035.53 184.751 Q2037.83 187.506 2037.83 192.876 Z\" fill=\"#000000\" fill-rule=\"evenodd\" fill-opacity=\"1\" /><path clip-path=\"url(#clip4800)\" d=\"M 0 0 M2058.82 183.362 L2058.82 187.39 Q2057.02 186.464 2055.07 186.001 Q2053.13 185.538 2051.04 185.538 Q2047.87 185.538 2046.28 186.51 Q2044.7 187.483 2044.7 189.427 Q2044.7 190.908 2045.84 191.765 Q2046.97 192.598 2050.4 193.362 L2051.85 193.686 Q2056.39 194.658 2058.29 196.441 Q2060.21 198.2 2060.21 201.371 Q2060.21 204.982 2057.34 207.089 Q2054.49 209.195 2049.49 209.195 Q2047.41 209.195 2045.14 208.779 Q2042.9 208.385 2040.4 207.575 L2040.4 203.177 Q2042.76 204.404 2045.05 205.029 Q2047.34 205.631 2049.59 205.631 Q2052.59 205.631 2054.22 204.612 Q2055.84 203.57 2055.84 201.695 Q2055.84 199.959 2054.66 199.033 Q2053.5 198.107 2049.54 197.251 L2048.06 196.904 Q2044.1 196.07 2042.34 194.358 Q2040.58 192.621 2040.58 189.612 Q2040.58 185.955 2043.17 183.964 Q2045.77 181.973 2050.53 181.973 Q2052.9 181.973 2054.98 182.321 Q2057.06 182.668 2058.82 183.362 Z\" fill=\"#000000\" fill-rule=\"evenodd\" fill-opacity=\"1\" /><path clip-path=\"url(#clip4800)\" d=\"M 0 0 M2064.68 182.598 L2068.94 182.598 L2068.94 208.524 L2064.68 208.524 L2064.68 182.598 M2064.68 172.506 L2068.94 172.506 L2068.94 177.899 L2064.68 177.899 L2064.68 172.506 Z\" fill=\"#000000\" fill-rule=\"evenodd\" fill-opacity=\"1\" /><path clip-path=\"url(#clip4800)\" d=\"M 0 0 M2077.62 175.237 L2077.62 182.598 L2086.39 182.598 L2086.39 185.908 L2077.62 185.908 L2077.62 199.982 Q2077.62 203.154 2078.47 204.057 Q2079.35 204.959 2082.02 204.959 L2086.39 204.959 L2086.39 208.524 L2082.02 208.524 Q2077.09 208.524 2075.21 206.695 Q2073.34 204.844 2073.34 199.982 L2073.34 185.908 L2070.21 185.908 L2070.21 182.598 L2073.34 182.598 L2073.34 175.237 L2077.62 175.237 Z\" fill=\"#000000\" fill-rule=\"evenodd\" fill-opacity=\"1\" /><path clip-path=\"url(#clip4800)\" d=\"M 0 0 M2101.65 210.931 Q2099.84 215.561 2098.13 216.973 Q2096.41 218.385 2093.54 218.385 L2090.14 218.385 L2090.14 214.82 L2092.64 214.82 Q2094.4 214.82 2095.37 213.987 Q2096.34 213.154 2097.53 210.052 L2098.29 208.107 L2087.8 182.598 L2092.32 182.598 L2100.42 202.876 L2108.52 182.598 L2113.03 182.598 L2101.65 210.931 Z\" fill=\"#000000\" fill-rule=\"evenodd\" fill-opacity=\"1\" /><polyline clip-path=\"url(#clip4800)\" style=\"stroke:#e26f46; stroke-width:8; stroke-opacity:1; fill:none\" points=\"\n",
       "  1788.11,251.724 1932.11,251.724 \n",
       "  \"/>\n",
       "<path clip-path=\"url(#clip4800)\" d=\"M 0 0 M1969.31 269.004 L1956.11 234.444 L1961 234.444 L1971.95 263.541 L1982.92 234.444 L1987.78 234.444 L1974.61 269.004 L1969.31 269.004 Z\" fill=\"#000000\" fill-rule=\"evenodd\" fill-opacity=\"1\" /><path clip-path=\"url(#clip4800)\" d=\"M 0 0 M2010.74 254.976 L2010.74 257.06 L1991.16 257.06 Q1991.44 261.458 1993.8 263.773 Q1996.18 266.064 2000.42 266.064 Q2002.87 266.064 2005.16 265.462 Q2007.48 264.861 2009.75 263.657 L2009.75 267.685 Q2007.46 268.657 2005.05 269.166 Q2002.64 269.675 2000.16 269.675 Q1993.96 269.675 1990.33 266.064 Q1986.72 262.453 1986.72 256.296 Q1986.72 249.93 1990.14 246.203 Q1993.59 242.453 1999.42 242.453 Q2004.66 242.453 2007.69 245.833 Q2010.74 249.189 2010.74 254.976 M2006.48 253.726 Q2006.44 250.231 2004.52 248.148 Q2002.62 246.064 1999.47 246.064 Q1995.91 246.064 1993.75 248.078 Q1991.62 250.092 1991.3 253.75 L2006.48 253.726 Z\" fill=\"#000000\" fill-rule=\"evenodd\" fill-opacity=\"1\" /><path clip-path=\"url(#clip4800)\" d=\"M 0 0 M2015.21 232.986 L2019.47 232.986 L2019.47 269.004 L2015.21 269.004 L2015.21 232.986 Z\" fill=\"#000000\" fill-rule=\"evenodd\" fill-opacity=\"1\" /><path clip-path=\"url(#clip4800)\" d=\"M 0 0 M2033.98 246.064 Q2030.56 246.064 2028.57 248.75 Q2026.58 251.412 2026.58 256.064 Q2026.58 260.717 2028.54 263.402 Q2030.53 266.064 2033.98 266.064 Q2037.39 266.064 2039.38 263.379 Q2041.37 260.694 2041.37 256.064 Q2041.37 251.458 2039.38 248.773 Q2037.39 246.064 2033.98 246.064 M2033.98 242.453 Q2039.54 242.453 2042.71 246.064 Q2045.88 249.675 2045.88 256.064 Q2045.88 262.43 2042.71 266.064 Q2039.54 269.675 2033.98 269.675 Q2028.41 269.675 2025.23 266.064 Q2022.09 262.43 2022.09 256.064 Q2022.09 249.675 2025.23 246.064 Q2028.41 242.453 2033.98 242.453 Z\" fill=\"#000000\" fill-rule=\"evenodd\" fill-opacity=\"1\" /><path clip-path=\"url(#clip4800)\" d=\"M 0 0 M2069.01 244.074 L2069.01 248.055 Q2067.2 247.06 2065.37 246.574 Q2063.57 246.064 2061.72 246.064 Q2057.57 246.064 2055.28 248.703 Q2052.99 251.319 2052.99 256.064 Q2052.99 260.81 2055.28 263.449 Q2057.57 266.064 2061.72 266.064 Q2063.57 266.064 2065.37 265.578 Q2067.2 265.069 2069.01 264.074 L2069.01 268.009 Q2067.22 268.842 2065.3 269.259 Q2063.4 269.675 2061.25 269.675 Q2055.4 269.675 2051.95 265.995 Q2048.5 262.314 2048.5 256.064 Q2048.5 249.722 2051.97 246.088 Q2055.47 242.453 2061.53 242.453 Q2063.5 242.453 2065.37 242.87 Q2067.25 243.263 2069.01 244.074 Z\" fill=\"#000000\" fill-rule=\"evenodd\" fill-opacity=\"1\" /><path clip-path=\"url(#clip4800)\" d=\"M 0 0 M2073.47 243.078 L2077.73 243.078 L2077.73 269.004 L2073.47 269.004 L2073.47 243.078 M2073.47 232.986 L2077.73 232.986 L2077.73 238.379 L2073.47 238.379 L2073.47 232.986 Z\" fill=\"#000000\" fill-rule=\"evenodd\" fill-opacity=\"1\" /><path clip-path=\"url(#clip4800)\" d=\"M 0 0 M2086.41 235.717 L2086.41 243.078 L2095.19 243.078 L2095.19 246.388 L2086.41 246.388 L2086.41 260.462 Q2086.41 263.634 2087.27 264.537 Q2088.15 265.439 2090.81 265.439 L2095.19 265.439 L2095.19 269.004 L2090.81 269.004 Q2085.88 269.004 2084.01 267.175 Q2082.13 265.324 2082.13 260.462 L2082.13 246.388 L2079.01 246.388 L2079.01 243.078 L2082.13 243.078 L2082.13 235.717 L2086.41 235.717 Z\" fill=\"#000000\" fill-rule=\"evenodd\" fill-opacity=\"1\" /><path clip-path=\"url(#clip4800)\" d=\"M 0 0 M2110.44 271.411 Q2108.64 276.041 2106.92 277.453 Q2105.21 278.865 2102.34 278.865 L2098.94 278.865 L2098.94 275.3 L2101.44 275.3 Q2103.2 275.3 2104.17 274.467 Q2105.14 273.634 2106.32 270.532 L2107.09 268.587 L2096.6 243.078 L2101.11 243.078 L2109.21 263.356 L2117.32 243.078 L2121.83 243.078 L2110.44 271.411 Z\" fill=\"#000000\" fill-rule=\"evenodd\" fill-opacity=\"1\" /><polyline clip-path=\"url(#clip4800)\" style=\"stroke:#3da44d; stroke-width:8; stroke-opacity:1; fill:none\" points=\"\n",
       "  1788.11,312.204 1932.11,312.204 \n",
       "  \"/>\n",
       "<path clip-path=\"url(#clip4800)\" d=\"M 0 0 M1956.11 294.924 L1985.35 294.924 L1985.35 298.859 L1973.08 298.859 L1973.08 329.484 L1968.38 329.484 L1968.38 298.859 L1956.11 298.859 L1956.11 294.924 Z\" fill=\"#000000\" fill-rule=\"evenodd\" fill-opacity=\"1\" /><path clip-path=\"url(#clip4800)\" d=\"M 0 0 M2003.94 315.456 L2003.94 317.54 L1984.35 317.54 Q1984.63 321.938 1986.99 324.253 Q1989.38 326.544 1993.61 326.544 Q1996.07 326.544 1998.36 325.942 Q2000.67 325.341 2002.94 324.137 L2002.94 328.165 Q2000.65 329.137 1998.24 329.646 Q1995.84 330.155 1993.36 330.155 Q1987.16 330.155 1983.52 326.544 Q1979.91 322.933 1979.91 316.776 Q1979.91 310.41 1983.34 306.683 Q1986.79 302.933 1992.62 302.933 Q1997.85 302.933 2000.88 306.313 Q2003.94 309.669 2003.94 315.456 M1999.68 314.206 Q1999.63 310.711 1997.71 308.628 Q1995.81 306.544 1992.66 306.544 Q1989.1 306.544 1986.95 308.558 Q1984.82 310.572 1984.49 314.23 L1999.68 314.206 Z\" fill=\"#000000\" fill-rule=\"evenodd\" fill-opacity=\"1\" /><path clip-path=\"url(#clip4800)\" d=\"M 0 0 M2028.59 308.535 Q2030.19 305.665 2032.41 304.299 Q2034.63 302.933 2037.64 302.933 Q2041.69 302.933 2043.89 305.781 Q2046.09 308.605 2046.09 313.836 L2046.09 329.484 L2041.81 329.484 L2041.81 313.975 Q2041.81 310.248 2040.49 308.443 Q2039.17 306.637 2036.46 306.637 Q2033.15 306.637 2031.23 308.836 Q2029.31 311.035 2029.31 314.831 L2029.31 329.484 L2025.03 329.484 L2025.03 313.975 Q2025.03 310.225 2023.71 308.443 Q2022.39 306.637 2019.63 306.637 Q2016.37 306.637 2014.45 308.859 Q2012.53 311.058 2012.53 314.831 L2012.53 329.484 L2008.24 329.484 L2008.24 303.558 L2012.53 303.558 L2012.53 307.586 Q2013.98 305.202 2016.02 304.068 Q2018.06 302.933 2020.86 302.933 Q2023.68 302.933 2025.65 304.368 Q2027.64 305.804 2028.59 308.535 Z\" fill=\"#000000\" fill-rule=\"evenodd\" fill-opacity=\"1\" /><path clip-path=\"url(#clip4800)\" d=\"M 0 0 M2054.68 325.595 L2054.68 339.345 L2050.4 339.345 L2050.4 303.558 L2054.68 303.558 L2054.68 307.493 Q2056.02 305.179 2058.06 304.068 Q2060.12 302.933 2062.97 302.933 Q2067.69 302.933 2070.63 306.683 Q2073.59 310.433 2073.59 316.544 Q2073.59 322.655 2070.63 326.405 Q2067.69 330.155 2062.97 330.155 Q2060.12 330.155 2058.06 329.044 Q2056.02 327.91 2054.68 325.595 M2069.17 316.544 Q2069.17 311.845 2067.22 309.183 Q2065.3 306.498 2061.92 306.498 Q2058.54 306.498 2056.6 309.183 Q2054.68 311.845 2054.68 316.544 Q2054.68 321.243 2056.6 323.929 Q2058.54 326.591 2061.92 326.591 Q2065.3 326.591 2067.22 323.929 Q2069.17 321.243 2069.17 316.544 Z\" fill=\"#000000\" fill-rule=\"evenodd\" fill-opacity=\"1\" /><path clip-path=\"url(#clip4800)\" d=\"M 0 0 M2100.23 315.456 L2100.23 317.54 L2080.65 317.54 Q2080.93 321.938 2083.29 324.253 Q2085.67 326.544 2089.91 326.544 Q2092.36 326.544 2094.65 325.942 Q2096.97 325.341 2099.24 324.137 L2099.24 328.165 Q2096.95 329.137 2094.54 329.646 Q2092.13 330.155 2089.65 330.155 Q2083.45 330.155 2079.82 326.544 Q2076.21 322.933 2076.21 316.776 Q2076.21 310.41 2079.63 306.683 Q2083.08 302.933 2088.91 302.933 Q2094.15 302.933 2097.18 306.313 Q2100.23 309.669 2100.23 315.456 M2095.97 314.206 Q2095.93 310.711 2094.01 308.628 Q2092.11 306.544 2088.96 306.544 Q2085.4 306.544 2083.24 308.558 Q2081.11 310.572 2080.79 314.23 L2095.97 314.206 Z\" fill=\"#000000\" fill-rule=\"evenodd\" fill-opacity=\"1\" /><path clip-path=\"url(#clip4800)\" d=\"M 0 0 M2119.72 307.54 Q2119.01 307.123 2118.15 306.938 Q2117.32 306.73 2116.3 306.73 Q2112.69 306.73 2110.74 309.091 Q2108.82 311.429 2108.82 315.827 L2108.82 329.484 L2104.54 329.484 L2104.54 303.558 L2108.82 303.558 L2108.82 307.586 Q2110.16 305.225 2112.32 304.091 Q2114.47 302.933 2117.55 302.933 Q2117.99 302.933 2118.52 303.003 Q2119.05 303.049 2119.7 303.165 L2119.72 307.54 Z\" fill=\"#000000\" fill-rule=\"evenodd\" fill-opacity=\"1\" /><path clip-path=\"url(#clip4800)\" d=\"M 0 0 M2135.97 316.452 Q2130.81 316.452 2128.82 317.632 Q2126.83 318.813 2126.83 321.66 Q2126.83 323.929 2128.31 325.271 Q2129.82 326.591 2132.39 326.591 Q2135.93 326.591 2138.06 324.091 Q2140.21 321.567 2140.21 317.401 L2140.21 316.452 L2135.97 316.452 M2144.47 314.693 L2144.47 329.484 L2140.21 329.484 L2140.21 325.549 Q2138.75 327.91 2136.58 329.044 Q2134.4 330.155 2131.25 330.155 Q2127.27 330.155 2124.91 327.933 Q2122.57 325.688 2122.57 321.938 Q2122.57 317.563 2125.49 315.341 Q2128.43 313.118 2134.24 313.118 L2140.21 313.118 L2140.21 312.702 Q2140.21 309.762 2138.27 308.165 Q2136.34 306.544 2132.85 306.544 Q2130.63 306.544 2128.52 307.077 Q2126.41 307.609 2124.47 308.674 L2124.47 304.739 Q2126.81 303.836 2129.01 303.396 Q2131.21 302.933 2133.29 302.933 Q2138.91 302.933 2141.69 305.85 Q2144.47 308.767 2144.47 314.693 Z\" fill=\"#000000\" fill-rule=\"evenodd\" fill-opacity=\"1\" /><path clip-path=\"url(#clip4800)\" d=\"M 0 0 M2153.15 296.197 L2153.15 303.558 L2161.92 303.558 L2161.92 306.868 L2153.15 306.868 L2153.15 320.942 Q2153.15 324.114 2154.01 325.017 Q2154.89 325.919 2157.55 325.919 L2161.92 325.919 L2161.92 329.484 L2157.55 329.484 Q2152.62 329.484 2150.74 327.655 Q2148.87 325.804 2148.87 320.942 L2148.87 306.868 L2145.74 306.868 L2145.74 303.558 L2148.87 303.558 L2148.87 296.197 L2153.15 296.197 Z\" fill=\"#000000\" fill-rule=\"evenodd\" fill-opacity=\"1\" /><path clip-path=\"url(#clip4800)\" d=\"M 0 0 M2165.95 319.253 L2165.95 303.558 L2170.21 303.558 L2170.21 319.091 Q2170.21 322.771 2171.65 324.623 Q2173.08 326.452 2175.95 326.452 Q2179.4 326.452 2181.39 324.253 Q2183.4 322.054 2183.4 318.257 L2183.4 303.558 L2187.66 303.558 L2187.66 329.484 L2183.4 329.484 L2183.4 325.503 Q2181.85 327.864 2179.79 329.021 Q2177.76 330.155 2175.05 330.155 Q2170.58 330.155 2168.27 327.378 Q2165.95 324.6 2165.95 319.253 M2176.67 302.933 L2176.67 302.933 Z\" fill=\"#000000\" fill-rule=\"evenodd\" fill-opacity=\"1\" /><path clip-path=\"url(#clip4800)\" d=\"M 0 0 M2207.15 307.54 Q2206.44 307.123 2205.58 306.938 Q2204.75 306.73 2203.73 306.73 Q2200.12 306.73 2198.17 309.091 Q2196.25 311.429 2196.25 315.827 L2196.25 329.484 L2191.97 329.484 L2191.97 303.558 L2196.25 303.558 L2196.25 307.586 Q2197.59 305.225 2199.75 304.091 Q2201.9 302.933 2204.98 302.933 Q2205.42 302.933 2205.95 303.003 Q2206.48 303.049 2207.13 303.165 L2207.15 307.54 Z\" fill=\"#000000\" fill-rule=\"evenodd\" fill-opacity=\"1\" /><path clip-path=\"url(#clip4800)\" d=\"M 0 0 M2232.76 315.456 L2232.76 317.54 L2213.17 317.54 Q2213.45 321.938 2215.81 324.253 Q2218.2 326.544 2222.43 326.544 Q2224.89 326.544 2227.18 325.942 Q2229.49 325.341 2231.76 324.137 L2231.76 328.165 Q2229.47 329.137 2227.06 329.646 Q2224.65 330.155 2222.18 330.155 Q2215.97 330.155 2212.34 326.544 Q2208.73 322.933 2208.73 316.776 Q2208.73 310.41 2212.15 306.683 Q2215.6 302.933 2221.44 302.933 Q2226.67 302.933 2229.7 306.313 Q2232.76 309.669 2232.76 315.456 M2228.5 314.206 Q2228.45 310.711 2226.53 308.628 Q2224.63 306.544 2221.48 306.544 Q2217.92 306.544 2215.77 308.558 Q2213.64 310.572 2213.31 314.23 L2228.5 314.206 Z\" fill=\"#000000\" fill-rule=\"evenodd\" fill-opacity=\"1\" /></svg>\n"
      ]
     },
     "metadata": {},
     "output_type": "display_data"
    }
   ],
   "source": [
    "plot_line(ks, ctr)"
   ]
  },
  {
   "cell_type": "code",
   "execution_count": null,
   "metadata": {},
   "outputs": [],
   "source": []
  },
  {
   "cell_type": "code",
   "execution_count": null,
   "metadata": {},
   "outputs": [],
   "source": [
    "res = DiffEqFlux.sciml_train(loss_n_ode, res.minimizer, ADAM(), cb=cb, maxiters=500)"
   ]
  },
  {
   "cell_type": "code",
   "execution_count": null,
   "metadata": {
    "scrolled": true
   },
   "outputs": [],
   "source": [
    "res = DiffEqFlux.sciml_train(loss_n_ode, res.minimizer, LBFGS(), cb=cb, maxiters=200)"
   ]
  },
  {
   "cell_type": "code",
   "execution_count": 126,
   "metadata": {},
   "outputs": [
    {
     "data": {
      "image/svg+xml": [
       "<?xml version=\"1.0\" encoding=\"utf-8\"?>\n",
       "<svg xmlns=\"http://www.w3.org/2000/svg\" xmlns:xlink=\"http://www.w3.org/1999/xlink\" width=\"600\" height=\"400\" viewBox=\"0 0 2400 1600\">\n",
       "<defs>\n",
       "  <clipPath id=\"clip4400\">\n",
       "    <rect x=\"0\" y=\"0\" width=\"2400\" height=\"1600\"/>\n",
       "  </clipPath>\n",
       "</defs>\n",
       "<path clip-path=\"url(#clip4400)\" d=\"\n",
       "M0 1600 L2400 1600 L2400 0 L0 0  Z\n",
       "  \" fill=\"#ffffff\" fill-rule=\"evenodd\" fill-opacity=\"1\"/>\n",
       "<defs>\n",
       "  <clipPath id=\"clip4401\">\n",
       "    <rect x=\"480\" y=\"0\" width=\"1681\" height=\"1600\"/>\n",
       "  </clipPath>\n",
       "</defs>\n",
       "<path clip-path=\"url(#clip4400)\" d=\"\n",
       "M174.214 1486.45 L2352.76 1486.45 L2352.76 47.2441 L174.214 47.2441  Z\n",
       "  \" fill=\"#ffffff\" fill-rule=\"evenodd\" fill-opacity=\"1\"/>\n",
       "<defs>\n",
       "  <clipPath id=\"clip4402\">\n",
       "    <rect x=\"174\" y=\"47\" width=\"2180\" height=\"1440\"/>\n",
       "  </clipPath>\n",
       "</defs>\n",
       "<polyline clip-path=\"url(#clip4402)\" style=\"stroke:#000000; stroke-width:2; stroke-opacity:0.1; fill:none\" points=\"\n",
       "  359.184,1486.45 359.184,47.2441 \n",
       "  \"/>\n",
       "<polyline clip-path=\"url(#clip4402)\" style=\"stroke:#000000; stroke-width:2; stroke-opacity:0.1; fill:none\" points=\"\n",
       "  729.126,1486.45 729.126,47.2441 \n",
       "  \"/>\n",
       "<polyline clip-path=\"url(#clip4402)\" style=\"stroke:#000000; stroke-width:2; stroke-opacity:0.1; fill:none\" points=\"\n",
       "  1099.07,1486.45 1099.07,47.2441 \n",
       "  \"/>\n",
       "<polyline clip-path=\"url(#clip4402)\" style=\"stroke:#000000; stroke-width:2; stroke-opacity:0.1; fill:none\" points=\"\n",
       "  1469.01,1486.45 1469.01,47.2441 \n",
       "  \"/>\n",
       "<polyline clip-path=\"url(#clip4402)\" style=\"stroke:#000000; stroke-width:2; stroke-opacity:0.1; fill:none\" points=\"\n",
       "  1838.95,1486.45 1838.95,47.2441 \n",
       "  \"/>\n",
       "<polyline clip-path=\"url(#clip4402)\" style=\"stroke:#000000; stroke-width:2; stroke-opacity:0.1; fill:none\" points=\"\n",
       "  2208.89,1486.45 2208.89,47.2441 \n",
       "  \"/>\n",
       "<polyline clip-path=\"url(#clip4402)\" style=\"stroke:#000000; stroke-width:2; stroke-opacity:0.1; fill:none\" points=\"\n",
       "  174.214,1438.81 2352.76,1438.81 \n",
       "  \"/>\n",
       "<polyline clip-path=\"url(#clip4402)\" style=\"stroke:#000000; stroke-width:2; stroke-opacity:0.1; fill:none\" points=\"\n",
       "  174.214,1081.64 2352.76,1081.64 \n",
       "  \"/>\n",
       "<polyline clip-path=\"url(#clip4402)\" style=\"stroke:#000000; stroke-width:2; stroke-opacity:0.1; fill:none\" points=\"\n",
       "  174.214,724.46 2352.76,724.46 \n",
       "  \"/>\n",
       "<polyline clip-path=\"url(#clip4402)\" style=\"stroke:#000000; stroke-width:2; stroke-opacity:0.1; fill:none\" points=\"\n",
       "  174.214,367.284 2352.76,367.284 \n",
       "  \"/>\n",
       "<polyline clip-path=\"url(#clip4400)\" style=\"stroke:#000000; stroke-width:4; stroke-opacity:1; fill:none\" points=\"\n",
       "  174.214,1486.45 2352.76,1486.45 \n",
       "  \"/>\n",
       "<polyline clip-path=\"url(#clip4400)\" style=\"stroke:#000000; stroke-width:4; stroke-opacity:1; fill:none\" points=\"\n",
       "  174.214,1486.45 174.214,47.2441 \n",
       "  \"/>\n",
       "<polyline clip-path=\"url(#clip4400)\" style=\"stroke:#000000; stroke-width:4; stroke-opacity:1; fill:none\" points=\"\n",
       "  359.184,1486.45 359.184,1469.18 \n",
       "  \"/>\n",
       "<polyline clip-path=\"url(#clip4400)\" style=\"stroke:#000000; stroke-width:4; stroke-opacity:1; fill:none\" points=\"\n",
       "  729.126,1486.45 729.126,1469.18 \n",
       "  \"/>\n",
       "<polyline clip-path=\"url(#clip4400)\" style=\"stroke:#000000; stroke-width:4; stroke-opacity:1; fill:none\" points=\"\n",
       "  1099.07,1486.45 1099.07,1469.18 \n",
       "  \"/>\n",
       "<polyline clip-path=\"url(#clip4400)\" style=\"stroke:#000000; stroke-width:4; stroke-opacity:1; fill:none\" points=\"\n",
       "  1469.01,1486.45 1469.01,1469.18 \n",
       "  \"/>\n",
       "<polyline clip-path=\"url(#clip4400)\" style=\"stroke:#000000; stroke-width:4; stroke-opacity:1; fill:none\" points=\"\n",
       "  1838.95,1486.45 1838.95,1469.18 \n",
       "  \"/>\n",
       "<polyline clip-path=\"url(#clip4400)\" style=\"stroke:#000000; stroke-width:4; stroke-opacity:1; fill:none\" points=\"\n",
       "  2208.89,1486.45 2208.89,1469.18 \n",
       "  \"/>\n",
       "<polyline clip-path=\"url(#clip4400)\" style=\"stroke:#000000; stroke-width:4; stroke-opacity:1; fill:none\" points=\"\n",
       "  174.214,1438.81 200.356,1438.81 \n",
       "  \"/>\n",
       "<polyline clip-path=\"url(#clip4400)\" style=\"stroke:#000000; stroke-width:4; stroke-opacity:1; fill:none\" points=\"\n",
       "  174.214,1081.64 200.356,1081.64 \n",
       "  \"/>\n",
       "<polyline clip-path=\"url(#clip4400)\" style=\"stroke:#000000; stroke-width:4; stroke-opacity:1; fill:none\" points=\"\n",
       "  174.214,724.46 200.356,724.46 \n",
       "  \"/>\n",
       "<polyline clip-path=\"url(#clip4400)\" style=\"stroke:#000000; stroke-width:4; stroke-opacity:1; fill:none\" points=\"\n",
       "  174.214,367.284 200.356,367.284 \n",
       "  \"/>\n",
       "<path clip-path=\"url(#clip4400)\" d=\"M 0 0 M331.083 1535.98 L338.722 1535.98 L338.722 1509.62 L330.411 1511.29 L330.411 1507.03 L338.675 1505.36 L343.351 1505.36 L343.351 1535.98 L350.99 1535.98 L350.99 1539.92 L331.083 1539.92 L331.083 1535.98 Z\" fill=\"#000000\" fill-rule=\"evenodd\" fill-opacity=\"1\" /><path clip-path=\"url(#clip4400)\" d=\"M 0 0 M356.059 1534.04 L360.944 1534.04 L360.944 1539.92 L356.059 1539.92 L356.059 1534.04 Z\" fill=\"#000000\" fill-rule=\"evenodd\" fill-opacity=\"1\" /><path clip-path=\"url(#clip4400)\" d=\"M 0 0 M376.013 1508.44 Q372.402 1508.44 370.573 1512 Q368.768 1515.55 368.768 1522.67 Q368.768 1529.78 370.573 1533.35 Q372.402 1536.89 376.013 1536.89 Q379.647 1536.89 381.453 1533.35 Q383.282 1529.78 383.282 1522.67 Q383.282 1515.55 381.453 1512 Q379.647 1508.44 376.013 1508.44 M376.013 1504.73 Q381.823 1504.73 384.879 1509.34 Q387.957 1513.92 387.957 1522.67 Q387.957 1531.4 384.879 1536.01 Q381.823 1540.59 376.013 1540.59 Q370.203 1540.59 367.124 1536.01 Q364.069 1531.4 364.069 1522.67 Q364.069 1513.92 367.124 1509.34 Q370.203 1504.73 376.013 1504.73 Z\" fill=\"#000000\" fill-rule=\"evenodd\" fill-opacity=\"1\" /><path clip-path=\"url(#clip4400)\" d=\"M 0 0 M701.522 1535.98 L709.16 1535.98 L709.16 1509.62 L700.85 1511.29 L700.85 1507.03 L709.114 1505.36 L713.79 1505.36 L713.79 1535.98 L721.429 1535.98 L721.429 1539.92 L701.522 1539.92 L701.522 1535.98 Z\" fill=\"#000000\" fill-rule=\"evenodd\" fill-opacity=\"1\" /><path clip-path=\"url(#clip4400)\" d=\"M 0 0 M726.498 1534.04 L731.382 1534.04 L731.382 1539.92 L726.498 1539.92 L726.498 1534.04 Z\" fill=\"#000000\" fill-rule=\"evenodd\" fill-opacity=\"1\" /><path clip-path=\"url(#clip4400)\" d=\"M 0 0 M736.498 1505.36 L754.855 1505.36 L754.855 1509.3 L740.781 1509.3 L740.781 1517.77 Q741.799 1517.42 742.818 1517.26 Q743.836 1517.07 744.855 1517.07 Q750.642 1517.07 754.021 1520.24 Q757.401 1523.42 757.401 1528.83 Q757.401 1534.41 753.929 1537.51 Q750.456 1540.59 744.137 1540.59 Q741.961 1540.59 739.693 1540.22 Q737.447 1539.85 735.04 1539.11 L735.04 1534.41 Q737.123 1535.54 739.345 1536.1 Q741.568 1536.66 744.044 1536.66 Q748.049 1536.66 750.387 1534.55 Q752.725 1532.44 752.725 1528.83 Q752.725 1525.22 750.387 1523.11 Q748.049 1521.01 744.044 1521.01 Q742.169 1521.01 740.294 1521.42 Q738.443 1521.84 736.498 1522.72 L736.498 1505.36 Z\" fill=\"#000000\" fill-rule=\"evenodd\" fill-opacity=\"1\" /><path clip-path=\"url(#clip4400)\" d=\"M 0 0 M1075.24 1535.98 L1091.56 1535.98 L1091.56 1539.92 L1069.61 1539.92 L1069.61 1535.98 Q1072.27 1533.23 1076.86 1528.6 Q1081.46 1523.95 1082.64 1522.61 Q1084.89 1520.08 1085.77 1518.35 Q1086.67 1516.59 1086.67 1514.9 Q1086.67 1512.14 1084.73 1510.41 Q1082.81 1508.67 1079.7 1508.67 Q1077.5 1508.67 1075.05 1509.43 Q1072.62 1510.2 1069.84 1511.75 L1069.84 1507.03 Q1072.67 1505.89 1075.12 1505.31 Q1077.57 1504.73 1079.61 1504.73 Q1084.98 1504.73 1088.18 1507.42 Q1091.37 1510.11 1091.37 1514.6 Q1091.37 1516.73 1090.56 1518.65 Q1089.77 1520.54 1087.67 1523.14 Q1087.09 1523.81 1083.99 1527.03 Q1080.88 1530.22 1075.24 1535.98 Z\" fill=\"#000000\" fill-rule=\"evenodd\" fill-opacity=\"1\" /><path clip-path=\"url(#clip4400)\" d=\"M 0 0 M1096.62 1534.04 L1101.51 1534.04 L1101.51 1539.92 L1096.62 1539.92 L1096.62 1534.04 Z\" fill=\"#000000\" fill-rule=\"evenodd\" fill-opacity=\"1\" /><path clip-path=\"url(#clip4400)\" d=\"M 0 0 M1116.58 1508.44 Q1112.97 1508.44 1111.14 1512 Q1109.33 1515.55 1109.33 1522.67 Q1109.33 1529.78 1111.14 1533.35 Q1112.97 1536.89 1116.58 1536.89 Q1120.21 1536.89 1122.02 1533.35 Q1123.85 1529.78 1123.85 1522.67 Q1123.85 1515.55 1122.02 1512 Q1120.21 1508.44 1116.58 1508.44 M1116.58 1504.73 Q1122.39 1504.73 1125.44 1509.34 Q1128.52 1513.92 1128.52 1522.67 Q1128.52 1531.4 1125.44 1536.01 Q1122.39 1540.59 1116.58 1540.59 Q1110.77 1540.59 1107.69 1536.01 Q1104.63 1531.4 1104.63 1522.67 Q1104.63 1513.92 1107.69 1509.34 Q1110.77 1504.73 1116.58 1504.73 Z\" fill=\"#000000\" fill-rule=\"evenodd\" fill-opacity=\"1\" /><path clip-path=\"url(#clip4400)\" d=\"M 0 0 M1445.67 1535.98 L1461.99 1535.98 L1461.99 1539.92 L1440.05 1539.92 L1440.05 1535.98 Q1442.71 1533.23 1447.29 1528.6 Q1451.9 1523.95 1453.08 1522.61 Q1455.33 1520.08 1456.21 1518.35 Q1457.11 1516.59 1457.11 1514.9 Q1457.11 1512.14 1455.17 1510.41 Q1453.24 1508.67 1450.14 1508.67 Q1447.94 1508.67 1445.49 1509.43 Q1443.06 1510.2 1440.28 1511.75 L1440.28 1507.03 Q1443.11 1505.89 1445.56 1505.31 Q1448.01 1504.73 1450.05 1504.73 Q1455.42 1504.73 1458.61 1507.42 Q1461.81 1510.11 1461.81 1514.6 Q1461.81 1516.73 1461 1518.65 Q1460.21 1520.54 1458.11 1523.14 Q1457.53 1523.81 1454.42 1527.03 Q1451.32 1530.22 1445.67 1535.98 Z\" fill=\"#000000\" fill-rule=\"evenodd\" fill-opacity=\"1\" /><path clip-path=\"url(#clip4400)\" d=\"M 0 0 M1467.06 1534.04 L1471.95 1534.04 L1471.95 1539.92 L1467.06 1539.92 L1467.06 1534.04 Z\" fill=\"#000000\" fill-rule=\"evenodd\" fill-opacity=\"1\" /><path clip-path=\"url(#clip4400)\" d=\"M 0 0 M1477.06 1505.36 L1495.42 1505.36 L1495.42 1509.3 L1481.35 1509.3 L1481.35 1517.77 Q1482.36 1517.42 1483.38 1517.26 Q1484.4 1517.07 1485.42 1517.07 Q1491.21 1517.07 1494.59 1520.24 Q1497.97 1523.42 1497.97 1528.83 Q1497.97 1534.41 1494.49 1537.51 Q1491.02 1540.59 1484.7 1540.59 Q1482.53 1540.59 1480.26 1540.22 Q1478.01 1539.85 1475.6 1539.11 L1475.6 1534.41 Q1477.69 1535.54 1479.91 1536.1 Q1482.13 1536.66 1484.61 1536.66 Q1488.61 1536.66 1490.95 1534.55 Q1493.29 1532.44 1493.29 1528.83 Q1493.29 1525.22 1490.95 1523.11 Q1488.61 1521.01 1484.61 1521.01 Q1482.73 1521.01 1480.86 1521.42 Q1479.01 1521.84 1477.06 1522.72 L1477.06 1505.36 Z\" fill=\"#000000\" fill-rule=\"evenodd\" fill-opacity=\"1\" /><path clip-path=\"url(#clip4400)\" d=\"M 0 0 M1824.71 1521.29 Q1828.07 1522 1829.94 1524.27 Q1831.84 1526.54 1831.84 1529.87 Q1831.84 1534.99 1828.32 1537.79 Q1824.81 1540.59 1818.32 1540.59 Q1816.15 1540.59 1813.83 1540.15 Q1811.54 1539.73 1809.09 1538.88 L1809.09 1534.36 Q1811.03 1535.5 1813.35 1536.08 Q1815.66 1536.66 1818.19 1536.66 Q1822.58 1536.66 1824.87 1534.92 Q1827.19 1533.18 1827.19 1529.87 Q1827.19 1526.82 1825.04 1525.11 Q1822.91 1523.37 1819.09 1523.37 L1815.06 1523.37 L1815.06 1519.53 L1819.27 1519.53 Q1822.72 1519.53 1824.55 1518.16 Q1826.38 1516.77 1826.38 1514.18 Q1826.38 1511.52 1824.48 1510.11 Q1822.61 1508.67 1819.09 1508.67 Q1817.17 1508.67 1814.97 1509.09 Q1812.77 1509.5 1810.13 1510.38 L1810.13 1506.22 Q1812.79 1505.48 1815.11 1505.11 Q1817.44 1504.73 1819.5 1504.73 Q1824.83 1504.73 1827.93 1507.17 Q1831.03 1509.57 1831.03 1513.69 Q1831.03 1516.56 1829.39 1518.55 Q1827.75 1520.52 1824.71 1521.29 Z\" fill=\"#000000\" fill-rule=\"evenodd\" fill-opacity=\"1\" /><path clip-path=\"url(#clip4400)\" d=\"M 0 0 M1836.91 1534.04 L1841.8 1534.04 L1841.8 1539.92 L1836.91 1539.92 L1836.91 1534.04 Z\" fill=\"#000000\" fill-rule=\"evenodd\" fill-opacity=\"1\" /><path clip-path=\"url(#clip4400)\" d=\"M 0 0 M1856.87 1508.44 Q1853.25 1508.44 1851.43 1512 Q1849.62 1515.55 1849.62 1522.67 Q1849.62 1529.78 1851.43 1533.35 Q1853.25 1536.89 1856.87 1536.89 Q1860.5 1536.89 1862.31 1533.35 Q1864.13 1529.78 1864.13 1522.67 Q1864.13 1515.55 1862.31 1512 Q1860.5 1508.44 1856.87 1508.44 M1856.87 1504.73 Q1862.68 1504.73 1865.73 1509.34 Q1868.81 1513.92 1868.81 1522.67 Q1868.81 1531.4 1865.73 1536.01 Q1862.68 1540.59 1856.87 1540.59 Q1851.06 1540.59 1847.98 1536.01 Q1844.92 1531.4 1844.92 1522.67 Q1844.92 1513.92 1847.98 1509.34 Q1851.06 1504.73 1856.87 1504.73 Z\" fill=\"#000000\" fill-rule=\"evenodd\" fill-opacity=\"1\" /><path clip-path=\"url(#clip4400)\" d=\"M 0 0 M2195.15 1521.29 Q2198.51 1522 2200.38 1524.27 Q2202.28 1526.54 2202.28 1529.87 Q2202.28 1534.99 2198.76 1537.79 Q2195.24 1540.59 2188.76 1540.59 Q2186.59 1540.59 2184.27 1540.15 Q2181.98 1539.73 2179.53 1538.88 L2179.53 1534.36 Q2181.47 1535.5 2183.79 1536.08 Q2186.1 1536.66 2188.62 1536.66 Q2193.02 1536.66 2195.31 1534.92 Q2197.63 1533.18 2197.63 1529.87 Q2197.63 1526.82 2195.48 1525.11 Q2193.35 1523.37 2189.53 1523.37 L2185.5 1523.37 L2185.5 1519.53 L2189.71 1519.53 Q2193.16 1519.53 2194.99 1518.16 Q2196.82 1516.77 2196.82 1514.18 Q2196.82 1511.52 2194.92 1510.11 Q2193.05 1508.67 2189.53 1508.67 Q2187.61 1508.67 2185.41 1509.09 Q2183.21 1509.5 2180.57 1510.38 L2180.57 1506.22 Q2183.23 1505.48 2185.55 1505.11 Q2187.88 1504.73 2189.94 1504.73 Q2195.27 1504.73 2198.37 1507.17 Q2201.47 1509.57 2201.47 1513.69 Q2201.47 1516.56 2199.83 1518.55 Q2198.18 1520.52 2195.15 1521.29 Z\" fill=\"#000000\" fill-rule=\"evenodd\" fill-opacity=\"1\" /><path clip-path=\"url(#clip4400)\" d=\"M 0 0 M2207.35 1534.04 L2212.23 1534.04 L2212.23 1539.92 L2207.35 1539.92 L2207.35 1534.04 Z\" fill=\"#000000\" fill-rule=\"evenodd\" fill-opacity=\"1\" /><path clip-path=\"url(#clip4400)\" d=\"M 0 0 M2217.35 1505.36 L2235.71 1505.36 L2235.71 1509.3 L2221.63 1509.3 L2221.63 1517.77 Q2222.65 1517.42 2223.67 1517.26 Q2224.69 1517.07 2225.71 1517.07 Q2231.49 1517.07 2234.87 1520.24 Q2238.25 1523.42 2238.25 1528.83 Q2238.25 1534.41 2234.78 1537.51 Q2231.31 1540.59 2224.99 1540.59 Q2222.81 1540.59 2220.54 1540.22 Q2218.3 1539.85 2215.89 1539.11 L2215.89 1534.41 Q2217.98 1535.54 2220.2 1536.1 Q2222.42 1536.66 2224.9 1536.66 Q2228.9 1536.66 2231.24 1534.55 Q2233.58 1532.44 2233.58 1528.83 Q2233.58 1525.22 2231.24 1523.11 Q2228.9 1521.01 2224.9 1521.01 Q2223.02 1521.01 2221.15 1521.42 Q2219.29 1521.84 2217.35 1522.72 L2217.35 1505.36 Z\" fill=\"#000000\" fill-rule=\"evenodd\" fill-opacity=\"1\" /><path clip-path=\"url(#clip4400)\" d=\"M 0 0 M76.5106 1424.61 Q72.8995 1424.61 71.0708 1428.18 Q69.2652 1431.72 69.2652 1438.85 Q69.2652 1445.96 71.0708 1449.52 Q72.8995 1453.06 76.5106 1453.06 Q80.1448 1453.06 81.9504 1449.52 Q83.7791 1445.96 83.7791 1438.85 Q83.7791 1431.72 81.9504 1428.18 Q80.1448 1424.61 76.5106 1424.61 M76.5106 1420.91 Q82.3207 1420.91 85.3763 1425.52 Q88.455 1430.1 88.455 1438.85 Q88.455 1447.58 85.3763 1452.18 Q82.3207 1456.77 76.5106 1456.77 Q70.7004 1456.77 67.6217 1452.18 Q64.5662 1447.58 64.5662 1438.85 Q64.5662 1430.1 67.6217 1425.52 Q70.7004 1420.91 76.5106 1420.91 Z\" fill=\"#000000\" fill-rule=\"evenodd\" fill-opacity=\"1\" /><path clip-path=\"url(#clip4400)\" d=\"M 0 0 M93.5244 1450.21 L98.4086 1450.21 L98.4086 1456.09 L93.5244 1456.09 L93.5244 1450.21 Z\" fill=\"#000000\" fill-rule=\"evenodd\" fill-opacity=\"1\" /><path clip-path=\"url(#clip4400)\" d=\"M 0 0 M104.288 1452.16 L111.927 1452.16 L111.927 1425.79 L103.617 1427.46 L103.617 1423.2 L111.881 1421.53 L116.557 1421.53 L116.557 1452.16 L124.196 1452.16 L124.196 1456.09 L104.288 1456.09 L104.288 1452.16 Z\" fill=\"#000000\" fill-rule=\"evenodd\" fill-opacity=\"1\" /><path clip-path=\"url(#clip4400)\" d=\"M 0 0 M129.311 1421.53 L147.668 1421.53 L147.668 1425.47 L133.594 1425.47 L133.594 1433.94 Q134.612 1433.59 135.631 1433.43 Q136.649 1433.25 137.668 1433.25 Q143.455 1433.25 146.834 1436.42 Q150.214 1439.59 150.214 1445.01 Q150.214 1450.59 146.742 1453.69 Q143.269 1456.77 136.95 1456.77 Q134.774 1456.77 132.506 1456.4 Q130.26 1456.02 127.853 1455.28 L127.853 1450.59 Q129.936 1451.72 132.158 1452.27 Q134.381 1452.83 136.857 1452.83 Q140.862 1452.83 143.2 1450.72 Q145.538 1448.62 145.538 1445.01 Q145.538 1441.4 143.2 1439.29 Q140.862 1437.18 136.857 1437.18 Q134.982 1437.18 133.107 1437.6 Q131.256 1438.02 129.311 1438.9 L129.311 1421.53 Z\" fill=\"#000000\" fill-rule=\"evenodd\" fill-opacity=\"1\" /><path clip-path=\"url(#clip4400)\" d=\"M 0 0 M75.8856 1067.44 Q72.2745 1067.44 70.4458 1071 Q68.6402 1074.54 68.6402 1081.67 Q68.6402 1088.78 70.4458 1092.34 Q72.2745 1095.88 75.8856 1095.88 Q79.5198 1095.88 81.3254 1092.34 Q83.1541 1088.78 83.1541 1081.67 Q83.1541 1074.54 81.3254 1071 Q79.5198 1067.44 75.8856 1067.44 M75.8856 1063.73 Q81.6957 1063.73 84.7513 1068.34 Q87.83 1072.92 87.83 1081.67 Q87.83 1090.4 84.7513 1095.01 Q81.6957 1099.59 75.8856 1099.59 Q70.0754 1099.59 66.9967 1095.01 Q63.9412 1090.4 63.9412 1081.67 Q63.9412 1072.92 66.9967 1068.34 Q70.0754 1063.73 75.8856 1063.73 Z\" fill=\"#000000\" fill-rule=\"evenodd\" fill-opacity=\"1\" /><path clip-path=\"url(#clip4400)\" d=\"M 0 0 M92.8994 1093.04 L97.7836 1093.04 L97.7836 1098.92 L92.8994 1098.92 L92.8994 1093.04 Z\" fill=\"#000000\" fill-rule=\"evenodd\" fill-opacity=\"1\" /><path clip-path=\"url(#clip4400)\" d=\"M 0 0 M106.881 1094.98 L123.2 1094.98 L123.2 1098.92 L101.256 1098.92 L101.256 1094.98 Q103.918 1092.23 108.501 1087.6 Q113.108 1082.95 114.288 1081.6 Q116.534 1079.08 117.413 1077.34 Q118.316 1075.58 118.316 1073.89 Q118.316 1071.14 116.371 1069.4 Q114.45 1067.67 111.348 1067.67 Q109.149 1067.67 106.696 1068.43 Q104.265 1069.2 101.487 1070.75 L101.487 1066.02 Q104.311 1064.89 106.765 1064.31 Q109.219 1063.73 111.256 1063.73 Q116.626 1063.73 119.821 1066.42 Q123.015 1069.1 123.015 1073.59 Q123.015 1075.72 122.205 1077.64 Q121.418 1079.54 119.311 1082.14 Q118.733 1082.81 115.631 1086.02 Q112.529 1089.22 106.881 1094.98 Z\" fill=\"#000000\" fill-rule=\"evenodd\" fill-opacity=\"1\" /><path clip-path=\"url(#clip4400)\" d=\"M 0 0 M138.27 1067.44 Q134.658 1067.44 132.83 1071 Q131.024 1074.54 131.024 1081.67 Q131.024 1088.78 132.83 1092.34 Q134.658 1095.88 138.27 1095.88 Q141.904 1095.88 143.709 1092.34 Q145.538 1088.78 145.538 1081.67 Q145.538 1074.54 143.709 1071 Q141.904 1067.44 138.27 1067.44 M138.27 1063.73 Q144.08 1063.73 147.135 1068.34 Q150.214 1072.92 150.214 1081.67 Q150.214 1090.4 147.135 1095.01 Q144.08 1099.59 138.27 1099.59 Q132.459 1099.59 129.381 1095.01 Q126.325 1090.4 126.325 1081.67 Q126.325 1072.92 129.381 1068.34 Q132.459 1063.73 138.27 1063.73 Z\" fill=\"#000000\" fill-rule=\"evenodd\" fill-opacity=\"1\" /><path clip-path=\"url(#clip4400)\" d=\"M 0 0 M76.8809 710.259 Q73.2698 710.259 71.4412 713.824 Q69.6356 717.366 69.6356 724.495 Q69.6356 731.602 71.4412 735.166 Q73.2698 738.708 76.8809 738.708 Q80.5152 738.708 82.3207 735.166 Q84.1494 731.602 84.1494 724.495 Q84.1494 717.366 82.3207 713.824 Q80.5152 710.259 76.8809 710.259 M76.8809 706.555 Q82.6911 706.555 85.7466 711.162 Q88.8253 715.745 88.8253 724.495 Q88.8253 733.222 85.7466 737.828 Q82.6911 742.412 76.8809 742.412 Q71.0708 742.412 67.9921 737.828 Q64.9366 733.222 64.9366 724.495 Q64.9366 715.745 67.9921 711.162 Q71.0708 706.555 76.8809 706.555 Z\" fill=\"#000000\" fill-rule=\"evenodd\" fill-opacity=\"1\" /><path clip-path=\"url(#clip4400)\" d=\"M 0 0 M93.8947 735.861 L98.779 735.861 L98.779 741.74 L93.8947 741.74 L93.8947 735.861 Z\" fill=\"#000000\" fill-rule=\"evenodd\" fill-opacity=\"1\" /><path clip-path=\"url(#clip4400)\" d=\"M 0 0 M107.876 737.805 L124.196 737.805 L124.196 741.74 L102.251 741.74 L102.251 737.805 Q104.913 735.051 109.497 730.421 Q114.103 725.768 115.284 724.426 Q117.529 721.903 118.408 720.166 Q119.311 718.407 119.311 716.717 Q119.311 713.963 117.367 712.227 Q115.446 710.491 112.344 710.491 Q110.145 710.491 107.691 711.254 Q105.26 712.018 102.483 713.569 L102.483 708.847 Q105.307 707.713 107.76 707.134 Q110.214 706.555 112.251 706.555 Q117.621 706.555 120.816 709.241 Q124.01 711.926 124.01 716.416 Q124.01 718.546 123.2 720.467 Q122.413 722.366 120.307 724.958 Q119.728 725.629 116.626 728.847 Q113.524 732.041 107.876 737.805 Z\" fill=\"#000000\" fill-rule=\"evenodd\" fill-opacity=\"1\" /><path clip-path=\"url(#clip4400)\" d=\"M 0 0 M129.311 707.18 L147.668 707.18 L147.668 711.116 L133.594 711.116 L133.594 719.588 Q134.612 719.241 135.631 719.079 Q136.649 718.893 137.668 718.893 Q143.455 718.893 146.834 722.065 Q150.214 725.236 150.214 730.653 Q150.214 736.231 146.742 739.333 Q143.269 742.412 136.95 742.412 Q134.774 742.412 132.506 742.041 Q130.26 741.671 127.853 740.93 L127.853 736.231 Q129.936 737.365 132.158 737.921 Q134.381 738.477 136.857 738.477 Q140.862 738.477 143.2 736.37 Q145.538 734.264 145.538 730.653 Q145.538 727.041 143.2 724.935 Q140.862 722.828 136.857 722.828 Q134.982 722.828 133.107 723.245 Q131.256 723.662 129.311 724.541 L129.311 707.18 Z\" fill=\"#000000\" fill-rule=\"evenodd\" fill-opacity=\"1\" /><path clip-path=\"url(#clip4400)\" d=\"M 0 0 M74.9365 353.082 Q71.3254 353.082 69.4967 356.647 Q67.6912 360.189 67.6912 367.318 Q67.6912 374.425 69.4967 377.989 Q71.3254 381.531 74.9365 381.531 Q78.5707 381.531 80.3763 377.989 Q82.205 374.425 82.205 367.318 Q82.205 360.189 80.3763 356.647 Q78.5707 353.082 74.9365 353.082 M74.9365 349.379 Q80.7467 349.379 83.8022 353.985 Q86.8809 358.568 86.8809 367.318 Q86.8809 376.045 83.8022 380.652 Q80.7467 385.235 74.9365 385.235 Q69.1264 385.235 66.0477 380.652 Q62.9921 376.045 62.9921 367.318 Q62.9921 358.568 66.0477 353.985 Q69.1264 349.379 74.9365 349.379 Z\" fill=\"#000000\" fill-rule=\"evenodd\" fill-opacity=\"1\" /><path clip-path=\"url(#clip4400)\" d=\"M 0 0 M91.9503 378.684 L96.8345 378.684 L96.8345 384.564 L91.9503 384.564 L91.9503 378.684 Z\" fill=\"#000000\" fill-rule=\"evenodd\" fill-opacity=\"1\" /><path clip-path=\"url(#clip4400)\" d=\"M 0 0 M116.071 365.929 Q119.427 366.647 121.302 368.915 Q123.2 371.184 123.2 374.517 Q123.2 379.633 119.682 382.434 Q116.163 385.235 109.682 385.235 Q107.506 385.235 105.191 384.795 Q102.899 384.378 100.446 383.522 L100.446 379.008 Q102.39 380.142 104.705 380.721 Q107.02 381.3 109.543 381.3 Q113.941 381.3 116.233 379.564 Q118.547 377.827 118.547 374.517 Q118.547 371.462 116.395 369.749 Q114.265 368.013 110.446 368.013 L106.418 368.013 L106.418 364.17 L110.631 364.17 Q114.08 364.17 115.909 362.804 Q117.737 361.416 117.737 358.823 Q117.737 356.161 115.839 354.749 Q113.964 353.314 110.446 353.314 Q108.524 353.314 106.325 353.73 Q104.126 354.147 101.487 355.027 L101.487 350.86 Q104.149 350.119 106.464 349.749 Q108.802 349.379 110.862 349.379 Q116.186 349.379 119.288 351.809 Q122.39 354.216 122.39 358.337 Q122.39 361.207 120.746 363.198 Q119.103 365.165 116.071 365.929 Z\" fill=\"#000000\" fill-rule=\"evenodd\" fill-opacity=\"1\" /><path clip-path=\"url(#clip4400)\" d=\"M 0 0 M138.27 353.082 Q134.658 353.082 132.83 356.647 Q131.024 360.189 131.024 367.318 Q131.024 374.425 132.83 377.989 Q134.658 381.531 138.27 381.531 Q141.904 381.531 143.709 377.989 Q145.538 374.425 145.538 367.318 Q145.538 360.189 143.709 356.647 Q141.904 353.082 138.27 353.082 M138.27 349.379 Q144.08 349.379 147.135 353.985 Q150.214 358.568 150.214 367.318 Q150.214 376.045 147.135 380.652 Q144.08 385.235 138.27 385.235 Q132.459 385.235 129.381 380.652 Q126.325 376.045 126.325 367.318 Q126.325 358.568 129.381 353.985 Q132.459 349.379 138.27 349.379 Z\" fill=\"#000000\" fill-rule=\"evenodd\" fill-opacity=\"1\" /><polyline clip-path=\"url(#clip4402)\" style=\"stroke:#009af9; stroke-width:4; stroke-opacity:1; fill:none\" points=\"\n",
       "  235.871,1445.72 646.916,1062.98 1057.96,668.679 1469.01,329.315 1880.05,87.9763 2291.1,138.684 \n",
       "  \"/>\n",
       "<polyline clip-path=\"url(#clip4402)\" style=\"stroke:#e26f46; stroke-width:4; stroke-opacity:1; fill:none\" points=\"\n",
       "  235.871,1430.57 646.916,1036.05 1057.96,635.732 1469.01,307.621 1880.05,100.266 2291.1,185.152 \n",
       "  \"/>\n",
       "<path clip-path=\"url(#clip4400)\" d=\"\n",
       "M1989.74 312.204 L2280.76 312.204 L2280.76 130.764 L1989.74 130.764  Z\n",
       "  \" fill=\"#ffffff\" fill-rule=\"evenodd\" fill-opacity=\"1\"/>\n",
       "<polyline clip-path=\"url(#clip4400)\" style=\"stroke:#000000; stroke-width:4; stroke-opacity:1; fill:none\" points=\"\n",
       "  1989.74,312.204 2280.76,312.204 2280.76,130.764 1989.74,130.764 1989.74,312.204 \n",
       "  \"/>\n",
       "<polyline clip-path=\"url(#clip4400)\" style=\"stroke:#009af9; stroke-width:4; stroke-opacity:1; fill:none\" points=\"\n",
       "  2013.74,191.244 2157.74,191.244 \n",
       "  \"/>\n",
       "<path clip-path=\"url(#clip4400)\" d=\"M 0 0 M2195.58 210.931 Q2193.77 215.561 2192.06 216.973 Q2190.35 218.385 2187.48 218.385 L2184.08 218.385 L2184.08 214.82 L2186.58 214.82 Q2188.33 214.82 2189.31 213.987 Q2190.28 213.154 2191.46 210.052 L2192.22 208.107 L2181.74 182.598 L2186.25 182.598 L2194.35 202.876 L2202.46 182.598 L2206.97 182.598 L2195.58 210.931 Z\" fill=\"#000000\" fill-rule=\"evenodd\" fill-opacity=\"1\" /><path clip-path=\"url(#clip4400)\" d=\"M 0 0 M2212.85 204.589 L2220.49 204.589 L2220.49 178.223 L2212.18 179.89 L2212.18 175.631 L2220.44 173.964 L2225.12 173.964 L2225.12 204.589 L2232.76 204.589 L2232.76 208.524 L2212.85 208.524 L2212.85 204.589 Z\" fill=\"#000000\" fill-rule=\"evenodd\" fill-opacity=\"1\" /><polyline clip-path=\"url(#clip4400)\" style=\"stroke:#e26f46; stroke-width:4; stroke-opacity:1; fill:none\" points=\"\n",
       "  2013.74,251.724 2157.74,251.724 \n",
       "  \"/>\n",
       "<path clip-path=\"url(#clip4400)\" d=\"M 0 0 M2195.58 271.411 Q2193.77 276.041 2192.06 277.453 Q2190.35 278.865 2187.48 278.865 L2184.08 278.865 L2184.08 275.3 L2186.58 275.3 Q2188.33 275.3 2189.31 274.467 Q2190.28 273.634 2191.46 270.532 L2192.22 268.587 L2181.74 243.078 L2186.25 243.078 L2194.35 263.356 L2202.46 243.078 L2206.97 243.078 L2195.58 271.411 Z\" fill=\"#000000\" fill-rule=\"evenodd\" fill-opacity=\"1\" /><path clip-path=\"url(#clip4400)\" d=\"M 0 0 M2216.07 265.069 L2232.39 265.069 L2232.39 269.004 L2210.44 269.004 L2210.44 265.069 Q2213.1 262.314 2217.69 257.685 Q2222.29 253.032 2223.47 251.689 Q2225.72 249.166 2226.6 247.43 Q2227.5 245.671 2227.5 243.981 Q2227.5 241.226 2225.56 239.49 Q2223.64 237.754 2220.53 237.754 Q2218.33 237.754 2215.88 238.518 Q2213.45 239.282 2210.67 240.833 L2210.67 236.111 Q2213.5 234.976 2215.95 234.398 Q2218.4 233.819 2220.44 233.819 Q2225.81 233.819 2229.01 236.504 Q2232.2 239.189 2232.2 243.68 Q2232.2 245.81 2231.39 247.731 Q2230.6 249.629 2228.5 252.222 Q2227.92 252.893 2224.82 256.111 Q2221.71 259.305 2216.07 265.069 Z\" fill=\"#000000\" fill-rule=\"evenodd\" fill-opacity=\"1\" /></svg>\n"
      ]
     },
     "execution_count": 126,
     "metadata": {},
     "output_type": "execute_result"
    }
   ],
   "source": [
    "plot(ks.vSpace.u[20:25], (n_ode(ctr[25].f[1:end], res.minimizer) |> Array)[:,1][20:25])\n",
    "plot!(ks.vSpace.u[20:25], (n_ode(ctr[25].f[1:end], res.minimizer) |> Array)[:,2][20:25])   "
   ]
  },
  {
   "cell_type": "code",
   "execution_count": 135,
   "metadata": {},
   "outputs": [
    {
     "data": {
      "image/svg+xml": [
       "<?xml version=\"1.0\" encoding=\"utf-8\"?>\n",
       "<svg xmlns=\"http://www.w3.org/2000/svg\" xmlns:xlink=\"http://www.w3.org/1999/xlink\" width=\"600\" height=\"400\" viewBox=\"0 0 2400 1600\">\n",
       "<defs>\n",
       "  <clipPath id=\"clip6800\">\n",
       "    <rect x=\"0\" y=\"0\" width=\"2400\" height=\"1600\"/>\n",
       "  </clipPath>\n",
       "</defs>\n",
       "<path clip-path=\"url(#clip6800)\" d=\"\n",
       "M0 1600 L2400 1600 L2400 0 L0 0  Z\n",
       "  \" fill=\"#ffffff\" fill-rule=\"evenodd\" fill-opacity=\"1\"/>\n",
       "<defs>\n",
       "  <clipPath id=\"clip6801\">\n",
       "    <rect x=\"480\" y=\"0\" width=\"1681\" height=\"1600\"/>\n",
       "  </clipPath>\n",
       "</defs>\n",
       "<path clip-path=\"url(#clip6800)\" d=\"\n",
       "M174.214 1486.45 L2352.76 1486.45 L2352.76 47.2441 L174.214 47.2441  Z\n",
       "  \" fill=\"#ffffff\" fill-rule=\"evenodd\" fill-opacity=\"1\"/>\n",
       "<defs>\n",
       "  <clipPath id=\"clip6802\">\n",
       "    <rect x=\"174\" y=\"47\" width=\"2180\" height=\"1440\"/>\n",
       "  </clipPath>\n",
       "</defs>\n",
       "<polyline clip-path=\"url(#clip6802)\" style=\"stroke:#000000; stroke-width:2; stroke-opacity:0.1; fill:none\" points=\"\n",
       "  359.184,1486.45 359.184,47.2441 \n",
       "  \"/>\n",
       "<polyline clip-path=\"url(#clip6802)\" style=\"stroke:#000000; stroke-width:2; stroke-opacity:0.1; fill:none\" points=\"\n",
       "  729.126,1486.45 729.126,47.2441 \n",
       "  \"/>\n",
       "<polyline clip-path=\"url(#clip6802)\" style=\"stroke:#000000; stroke-width:2; stroke-opacity:0.1; fill:none\" points=\"\n",
       "  1099.07,1486.45 1099.07,47.2441 \n",
       "  \"/>\n",
       "<polyline clip-path=\"url(#clip6802)\" style=\"stroke:#000000; stroke-width:2; stroke-opacity:0.1; fill:none\" points=\"\n",
       "  1469.01,1486.45 1469.01,47.2441 \n",
       "  \"/>\n",
       "<polyline clip-path=\"url(#clip6802)\" style=\"stroke:#000000; stroke-width:2; stroke-opacity:0.1; fill:none\" points=\"\n",
       "  1838.95,1486.45 1838.95,47.2441 \n",
       "  \"/>\n",
       "<polyline clip-path=\"url(#clip6802)\" style=\"stroke:#000000; stroke-width:2; stroke-opacity:0.1; fill:none\" points=\"\n",
       "  2208.89,1486.45 2208.89,47.2441 \n",
       "  \"/>\n",
       "<polyline clip-path=\"url(#clip6802)\" style=\"stroke:#000000; stroke-width:2; stroke-opacity:0.1; fill:none\" points=\"\n",
       "  174.214,1175.82 2352.76,1175.82 \n",
       "  \"/>\n",
       "<polyline clip-path=\"url(#clip6802)\" style=\"stroke:#000000; stroke-width:2; stroke-opacity:0.1; fill:none\" points=\"\n",
       "  174.214,805.794 2352.76,805.794 \n",
       "  \"/>\n",
       "<polyline clip-path=\"url(#clip6802)\" style=\"stroke:#000000; stroke-width:2; stroke-opacity:0.1; fill:none\" points=\"\n",
       "  174.214,435.773 2352.76,435.773 \n",
       "  \"/>\n",
       "<polyline clip-path=\"url(#clip6802)\" style=\"stroke:#000000; stroke-width:2; stroke-opacity:0.1; fill:none\" points=\"\n",
       "  174.214,65.7512 2352.76,65.7512 \n",
       "  \"/>\n",
       "<polyline clip-path=\"url(#clip6800)\" style=\"stroke:#000000; stroke-width:4; stroke-opacity:1; fill:none\" points=\"\n",
       "  174.214,1486.45 2352.76,1486.45 \n",
       "  \"/>\n",
       "<polyline clip-path=\"url(#clip6800)\" style=\"stroke:#000000; stroke-width:4; stroke-opacity:1; fill:none\" points=\"\n",
       "  174.214,1486.45 174.214,47.2441 \n",
       "  \"/>\n",
       "<polyline clip-path=\"url(#clip6800)\" style=\"stroke:#000000; stroke-width:4; stroke-opacity:1; fill:none\" points=\"\n",
       "  359.184,1486.45 359.184,1469.18 \n",
       "  \"/>\n",
       "<polyline clip-path=\"url(#clip6800)\" style=\"stroke:#000000; stroke-width:4; stroke-opacity:1; fill:none\" points=\"\n",
       "  729.126,1486.45 729.126,1469.18 \n",
       "  \"/>\n",
       "<polyline clip-path=\"url(#clip6800)\" style=\"stroke:#000000; stroke-width:4; stroke-opacity:1; fill:none\" points=\"\n",
       "  1099.07,1486.45 1099.07,1469.18 \n",
       "  \"/>\n",
       "<polyline clip-path=\"url(#clip6800)\" style=\"stroke:#000000; stroke-width:4; stroke-opacity:1; fill:none\" points=\"\n",
       "  1469.01,1486.45 1469.01,1469.18 \n",
       "  \"/>\n",
       "<polyline clip-path=\"url(#clip6800)\" style=\"stroke:#000000; stroke-width:4; stroke-opacity:1; fill:none\" points=\"\n",
       "  1838.95,1486.45 1838.95,1469.18 \n",
       "  \"/>\n",
       "<polyline clip-path=\"url(#clip6800)\" style=\"stroke:#000000; stroke-width:4; stroke-opacity:1; fill:none\" points=\"\n",
       "  2208.89,1486.45 2208.89,1469.18 \n",
       "  \"/>\n",
       "<polyline clip-path=\"url(#clip6800)\" style=\"stroke:#000000; stroke-width:4; stroke-opacity:1; fill:none\" points=\"\n",
       "  174.214,1175.82 200.356,1175.82 \n",
       "  \"/>\n",
       "<polyline clip-path=\"url(#clip6800)\" style=\"stroke:#000000; stroke-width:4; stroke-opacity:1; fill:none\" points=\"\n",
       "  174.214,805.794 200.356,805.794 \n",
       "  \"/>\n",
       "<polyline clip-path=\"url(#clip6800)\" style=\"stroke:#000000; stroke-width:4; stroke-opacity:1; fill:none\" points=\"\n",
       "  174.214,435.773 200.356,435.773 \n",
       "  \"/>\n",
       "<polyline clip-path=\"url(#clip6800)\" style=\"stroke:#000000; stroke-width:4; stroke-opacity:1; fill:none\" points=\"\n",
       "  174.214,65.7512 200.356,65.7512 \n",
       "  \"/>\n",
       "<path clip-path=\"url(#clip6800)\" d=\"M 0 0 M331.083 1535.98 L338.722 1535.98 L338.722 1509.62 L330.411 1511.29 L330.411 1507.03 L338.675 1505.36 L343.351 1505.36 L343.351 1535.98 L350.99 1535.98 L350.99 1539.92 L331.083 1539.92 L331.083 1535.98 Z\" fill=\"#000000\" fill-rule=\"evenodd\" fill-opacity=\"1\" /><path clip-path=\"url(#clip6800)\" d=\"M 0 0 M356.059 1534.04 L360.944 1534.04 L360.944 1539.92 L356.059 1539.92 L356.059 1534.04 Z\" fill=\"#000000\" fill-rule=\"evenodd\" fill-opacity=\"1\" /><path clip-path=\"url(#clip6800)\" d=\"M 0 0 M376.013 1508.44 Q372.402 1508.44 370.573 1512 Q368.768 1515.55 368.768 1522.67 Q368.768 1529.78 370.573 1533.35 Q372.402 1536.89 376.013 1536.89 Q379.647 1536.89 381.453 1533.35 Q383.282 1529.78 383.282 1522.67 Q383.282 1515.55 381.453 1512 Q379.647 1508.44 376.013 1508.44 M376.013 1504.73 Q381.823 1504.73 384.879 1509.34 Q387.957 1513.92 387.957 1522.67 Q387.957 1531.4 384.879 1536.01 Q381.823 1540.59 376.013 1540.59 Q370.203 1540.59 367.124 1536.01 Q364.069 1531.4 364.069 1522.67 Q364.069 1513.92 367.124 1509.34 Q370.203 1504.73 376.013 1504.73 Z\" fill=\"#000000\" fill-rule=\"evenodd\" fill-opacity=\"1\" /><path clip-path=\"url(#clip6800)\" d=\"M 0 0 M701.522 1535.98 L709.16 1535.98 L709.16 1509.62 L700.85 1511.29 L700.85 1507.03 L709.114 1505.36 L713.79 1505.36 L713.79 1535.98 L721.429 1535.98 L721.429 1539.92 L701.522 1539.92 L701.522 1535.98 Z\" fill=\"#000000\" fill-rule=\"evenodd\" fill-opacity=\"1\" /><path clip-path=\"url(#clip6800)\" d=\"M 0 0 M726.498 1534.04 L731.382 1534.04 L731.382 1539.92 L726.498 1539.92 L726.498 1534.04 Z\" fill=\"#000000\" fill-rule=\"evenodd\" fill-opacity=\"1\" /><path clip-path=\"url(#clip6800)\" d=\"M 0 0 M736.498 1505.36 L754.855 1505.36 L754.855 1509.3 L740.781 1509.3 L740.781 1517.77 Q741.799 1517.42 742.818 1517.26 Q743.836 1517.07 744.855 1517.07 Q750.642 1517.07 754.021 1520.24 Q757.401 1523.42 757.401 1528.83 Q757.401 1534.41 753.929 1537.51 Q750.456 1540.59 744.137 1540.59 Q741.961 1540.59 739.693 1540.22 Q737.447 1539.85 735.04 1539.11 L735.04 1534.41 Q737.123 1535.54 739.345 1536.1 Q741.568 1536.66 744.044 1536.66 Q748.049 1536.66 750.387 1534.55 Q752.725 1532.44 752.725 1528.83 Q752.725 1525.22 750.387 1523.11 Q748.049 1521.01 744.044 1521.01 Q742.169 1521.01 740.294 1521.42 Q738.443 1521.84 736.498 1522.72 L736.498 1505.36 Z\" fill=\"#000000\" fill-rule=\"evenodd\" fill-opacity=\"1\" /><path clip-path=\"url(#clip6800)\" d=\"M 0 0 M1075.24 1535.98 L1091.56 1535.98 L1091.56 1539.92 L1069.61 1539.92 L1069.61 1535.98 Q1072.27 1533.23 1076.86 1528.6 Q1081.46 1523.95 1082.64 1522.61 Q1084.89 1520.08 1085.77 1518.35 Q1086.67 1516.59 1086.67 1514.9 Q1086.67 1512.14 1084.73 1510.41 Q1082.81 1508.67 1079.7 1508.67 Q1077.5 1508.67 1075.05 1509.43 Q1072.62 1510.2 1069.84 1511.75 L1069.84 1507.03 Q1072.67 1505.89 1075.12 1505.31 Q1077.57 1504.73 1079.61 1504.73 Q1084.98 1504.73 1088.18 1507.42 Q1091.37 1510.11 1091.37 1514.6 Q1091.37 1516.73 1090.56 1518.65 Q1089.77 1520.54 1087.67 1523.14 Q1087.09 1523.81 1083.99 1527.03 Q1080.88 1530.22 1075.24 1535.98 Z\" fill=\"#000000\" fill-rule=\"evenodd\" fill-opacity=\"1\" /><path clip-path=\"url(#clip6800)\" d=\"M 0 0 M1096.62 1534.04 L1101.51 1534.04 L1101.51 1539.92 L1096.62 1539.92 L1096.62 1534.04 Z\" fill=\"#000000\" fill-rule=\"evenodd\" fill-opacity=\"1\" /><path clip-path=\"url(#clip6800)\" d=\"M 0 0 M1116.58 1508.44 Q1112.97 1508.44 1111.14 1512 Q1109.33 1515.55 1109.33 1522.67 Q1109.33 1529.78 1111.14 1533.35 Q1112.97 1536.89 1116.58 1536.89 Q1120.21 1536.89 1122.02 1533.35 Q1123.85 1529.78 1123.85 1522.67 Q1123.85 1515.55 1122.02 1512 Q1120.21 1508.44 1116.58 1508.44 M1116.58 1504.73 Q1122.39 1504.73 1125.44 1509.34 Q1128.52 1513.92 1128.52 1522.67 Q1128.52 1531.4 1125.44 1536.01 Q1122.39 1540.59 1116.58 1540.59 Q1110.77 1540.59 1107.69 1536.01 Q1104.63 1531.4 1104.63 1522.67 Q1104.63 1513.92 1107.69 1509.34 Q1110.77 1504.73 1116.58 1504.73 Z\" fill=\"#000000\" fill-rule=\"evenodd\" fill-opacity=\"1\" /><path clip-path=\"url(#clip6800)\" d=\"M 0 0 M1445.67 1535.98 L1461.99 1535.98 L1461.99 1539.92 L1440.05 1539.92 L1440.05 1535.98 Q1442.71 1533.23 1447.29 1528.6 Q1451.9 1523.95 1453.08 1522.61 Q1455.33 1520.08 1456.21 1518.35 Q1457.11 1516.59 1457.11 1514.9 Q1457.11 1512.14 1455.17 1510.41 Q1453.24 1508.67 1450.14 1508.67 Q1447.94 1508.67 1445.49 1509.43 Q1443.06 1510.2 1440.28 1511.75 L1440.28 1507.03 Q1443.11 1505.89 1445.56 1505.31 Q1448.01 1504.73 1450.05 1504.73 Q1455.42 1504.73 1458.61 1507.42 Q1461.81 1510.11 1461.81 1514.6 Q1461.81 1516.73 1461 1518.65 Q1460.21 1520.54 1458.11 1523.14 Q1457.53 1523.81 1454.42 1527.03 Q1451.32 1530.22 1445.67 1535.98 Z\" fill=\"#000000\" fill-rule=\"evenodd\" fill-opacity=\"1\" /><path clip-path=\"url(#clip6800)\" d=\"M 0 0 M1467.06 1534.04 L1471.95 1534.04 L1471.95 1539.92 L1467.06 1539.92 L1467.06 1534.04 Z\" fill=\"#000000\" fill-rule=\"evenodd\" fill-opacity=\"1\" /><path clip-path=\"url(#clip6800)\" d=\"M 0 0 M1477.06 1505.36 L1495.42 1505.36 L1495.42 1509.3 L1481.35 1509.3 L1481.35 1517.77 Q1482.36 1517.42 1483.38 1517.26 Q1484.4 1517.07 1485.42 1517.07 Q1491.21 1517.07 1494.59 1520.24 Q1497.97 1523.42 1497.97 1528.83 Q1497.97 1534.41 1494.49 1537.51 Q1491.02 1540.59 1484.7 1540.59 Q1482.53 1540.59 1480.26 1540.22 Q1478.01 1539.85 1475.6 1539.11 L1475.6 1534.41 Q1477.69 1535.54 1479.91 1536.1 Q1482.13 1536.66 1484.61 1536.66 Q1488.61 1536.66 1490.95 1534.55 Q1493.29 1532.44 1493.29 1528.83 Q1493.29 1525.22 1490.95 1523.11 Q1488.61 1521.01 1484.61 1521.01 Q1482.73 1521.01 1480.86 1521.42 Q1479.01 1521.84 1477.06 1522.72 L1477.06 1505.36 Z\" fill=\"#000000\" fill-rule=\"evenodd\" fill-opacity=\"1\" /><path clip-path=\"url(#clip6800)\" d=\"M 0 0 M1824.71 1521.29 Q1828.07 1522 1829.94 1524.27 Q1831.84 1526.54 1831.84 1529.87 Q1831.84 1534.99 1828.32 1537.79 Q1824.81 1540.59 1818.32 1540.59 Q1816.15 1540.59 1813.83 1540.15 Q1811.54 1539.73 1809.09 1538.88 L1809.09 1534.36 Q1811.03 1535.5 1813.35 1536.08 Q1815.66 1536.66 1818.19 1536.66 Q1822.58 1536.66 1824.87 1534.92 Q1827.19 1533.18 1827.19 1529.87 Q1827.19 1526.82 1825.04 1525.11 Q1822.91 1523.37 1819.09 1523.37 L1815.06 1523.37 L1815.06 1519.53 L1819.27 1519.53 Q1822.72 1519.53 1824.55 1518.16 Q1826.38 1516.77 1826.38 1514.18 Q1826.38 1511.52 1824.48 1510.11 Q1822.61 1508.67 1819.09 1508.67 Q1817.17 1508.67 1814.97 1509.09 Q1812.77 1509.5 1810.13 1510.38 L1810.13 1506.22 Q1812.79 1505.48 1815.11 1505.11 Q1817.44 1504.73 1819.5 1504.73 Q1824.83 1504.73 1827.93 1507.17 Q1831.03 1509.57 1831.03 1513.69 Q1831.03 1516.56 1829.39 1518.55 Q1827.75 1520.52 1824.71 1521.29 Z\" fill=\"#000000\" fill-rule=\"evenodd\" fill-opacity=\"1\" /><path clip-path=\"url(#clip6800)\" d=\"M 0 0 M1836.91 1534.04 L1841.8 1534.04 L1841.8 1539.92 L1836.91 1539.92 L1836.91 1534.04 Z\" fill=\"#000000\" fill-rule=\"evenodd\" fill-opacity=\"1\" /><path clip-path=\"url(#clip6800)\" d=\"M 0 0 M1856.87 1508.44 Q1853.25 1508.44 1851.43 1512 Q1849.62 1515.55 1849.62 1522.67 Q1849.62 1529.78 1851.43 1533.35 Q1853.25 1536.89 1856.87 1536.89 Q1860.5 1536.89 1862.31 1533.35 Q1864.13 1529.78 1864.13 1522.67 Q1864.13 1515.55 1862.31 1512 Q1860.5 1508.44 1856.87 1508.44 M1856.87 1504.73 Q1862.68 1504.73 1865.73 1509.34 Q1868.81 1513.92 1868.81 1522.67 Q1868.81 1531.4 1865.73 1536.01 Q1862.68 1540.59 1856.87 1540.59 Q1851.06 1540.59 1847.98 1536.01 Q1844.92 1531.4 1844.92 1522.67 Q1844.92 1513.92 1847.98 1509.34 Q1851.06 1504.73 1856.87 1504.73 Z\" fill=\"#000000\" fill-rule=\"evenodd\" fill-opacity=\"1\" /><path clip-path=\"url(#clip6800)\" d=\"M 0 0 M2195.15 1521.29 Q2198.51 1522 2200.38 1524.27 Q2202.28 1526.54 2202.28 1529.87 Q2202.28 1534.99 2198.76 1537.79 Q2195.24 1540.59 2188.76 1540.59 Q2186.59 1540.59 2184.27 1540.15 Q2181.98 1539.73 2179.53 1538.88 L2179.53 1534.36 Q2181.47 1535.5 2183.79 1536.08 Q2186.1 1536.66 2188.62 1536.66 Q2193.02 1536.66 2195.31 1534.92 Q2197.63 1533.18 2197.63 1529.87 Q2197.63 1526.82 2195.48 1525.11 Q2193.35 1523.37 2189.53 1523.37 L2185.5 1523.37 L2185.5 1519.53 L2189.71 1519.53 Q2193.16 1519.53 2194.99 1518.16 Q2196.82 1516.77 2196.82 1514.18 Q2196.82 1511.52 2194.92 1510.11 Q2193.05 1508.67 2189.53 1508.67 Q2187.61 1508.67 2185.41 1509.09 Q2183.21 1509.5 2180.57 1510.38 L2180.57 1506.22 Q2183.23 1505.48 2185.55 1505.11 Q2187.88 1504.73 2189.94 1504.73 Q2195.27 1504.73 2198.37 1507.17 Q2201.47 1509.57 2201.47 1513.69 Q2201.47 1516.56 2199.83 1518.55 Q2198.18 1520.52 2195.15 1521.29 Z\" fill=\"#000000\" fill-rule=\"evenodd\" fill-opacity=\"1\" /><path clip-path=\"url(#clip6800)\" d=\"M 0 0 M2207.35 1534.04 L2212.23 1534.04 L2212.23 1539.92 L2207.35 1539.92 L2207.35 1534.04 Z\" fill=\"#000000\" fill-rule=\"evenodd\" fill-opacity=\"1\" /><path clip-path=\"url(#clip6800)\" d=\"M 0 0 M2217.35 1505.36 L2235.71 1505.36 L2235.71 1509.3 L2221.63 1509.3 L2221.63 1517.77 Q2222.65 1517.42 2223.67 1517.26 Q2224.69 1517.07 2225.71 1517.07 Q2231.49 1517.07 2234.87 1520.24 Q2238.25 1523.42 2238.25 1528.83 Q2238.25 1534.41 2234.78 1537.51 Q2231.31 1540.59 2224.99 1540.59 Q2222.81 1540.59 2220.54 1540.22 Q2218.3 1539.85 2215.89 1539.11 L2215.89 1534.41 Q2217.98 1535.54 2220.2 1536.1 Q2222.42 1536.66 2224.9 1536.66 Q2228.9 1536.66 2231.24 1534.55 Q2233.58 1532.44 2233.58 1528.83 Q2233.58 1525.22 2231.24 1523.11 Q2228.9 1521.01 2224.9 1521.01 Q2223.02 1521.01 2221.15 1521.42 Q2219.29 1521.84 2217.35 1522.72 L2217.35 1505.36 Z\" fill=\"#000000\" fill-rule=\"evenodd\" fill-opacity=\"1\" /><path clip-path=\"url(#clip6800)\" d=\"M 0 0 M75.8856 1161.61 Q72.2745 1161.61 70.4458 1165.18 Q68.6402 1168.72 68.6402 1175.85 Q68.6402 1182.96 70.4458 1186.52 Q72.2745 1190.06 75.8856 1190.06 Q79.5198 1190.06 81.3254 1186.52 Q83.1541 1182.96 83.1541 1175.85 Q83.1541 1168.72 81.3254 1165.18 Q79.5198 1161.61 75.8856 1161.61 M75.8856 1157.91 Q81.6957 1157.91 84.7513 1162.52 Q87.83 1167.1 87.83 1175.85 Q87.83 1184.58 84.7513 1189.18 Q81.6957 1193.77 75.8856 1193.77 Q70.0754 1193.77 66.9967 1189.18 Q63.9412 1184.58 63.9412 1175.85 Q63.9412 1167.1 66.9967 1162.52 Q70.0754 1157.91 75.8856 1157.91 Z\" fill=\"#000000\" fill-rule=\"evenodd\" fill-opacity=\"1\" /><path clip-path=\"url(#clip6800)\" d=\"M 0 0 M92.8994 1187.22 L97.7836 1187.22 L97.7836 1193.1 L92.8994 1193.1 L92.8994 1187.22 Z\" fill=\"#000000\" fill-rule=\"evenodd\" fill-opacity=\"1\" /><path clip-path=\"url(#clip6800)\" d=\"M 0 0 M106.881 1189.16 L123.2 1189.16 L123.2 1193.1 L101.256 1193.1 L101.256 1189.16 Q103.918 1186.41 108.501 1181.78 Q113.108 1177.12 114.288 1175.78 Q116.534 1173.26 117.413 1171.52 Q118.316 1169.76 118.316 1168.07 Q118.316 1165.32 116.371 1163.58 Q114.45 1161.85 111.348 1161.85 Q109.149 1161.85 106.696 1162.61 Q104.265 1163.37 101.487 1164.92 L101.487 1160.2 Q104.311 1159.07 106.765 1158.49 Q109.219 1157.91 111.256 1157.91 Q116.626 1157.91 119.821 1160.6 Q123.015 1163.28 123.015 1167.77 Q123.015 1169.9 122.205 1171.82 Q121.418 1173.72 119.311 1176.31 Q118.733 1176.98 115.631 1180.2 Q112.529 1183.4 106.881 1189.16 Z\" fill=\"#000000\" fill-rule=\"evenodd\" fill-opacity=\"1\" /><path clip-path=\"url(#clip6800)\" d=\"M 0 0 M138.27 1161.61 Q134.658 1161.61 132.83 1165.18 Q131.024 1168.72 131.024 1175.85 Q131.024 1182.96 132.83 1186.52 Q134.658 1190.06 138.27 1190.06 Q141.904 1190.06 143.709 1186.52 Q145.538 1182.96 145.538 1175.85 Q145.538 1168.72 143.709 1165.18 Q141.904 1161.61 138.27 1161.61 M138.27 1157.91 Q144.08 1157.91 147.135 1162.52 Q150.214 1167.1 150.214 1175.85 Q150.214 1184.58 147.135 1189.18 Q144.08 1193.77 138.27 1193.77 Q132.459 1193.77 129.381 1189.18 Q126.325 1184.58 126.325 1175.85 Q126.325 1167.1 129.381 1162.52 Q132.459 1157.91 138.27 1157.91 Z\" fill=\"#000000\" fill-rule=\"evenodd\" fill-opacity=\"1\" /><path clip-path=\"url(#clip6800)\" d=\"M 0 0 M76.8809 791.593 Q73.2698 791.593 71.4412 795.158 Q69.6356 798.699 69.6356 805.829 Q69.6356 812.935 71.4412 816.5 Q73.2698 820.042 76.8809 820.042 Q80.5152 820.042 82.3207 816.5 Q84.1494 812.935 84.1494 805.829 Q84.1494 798.699 82.3207 795.158 Q80.5152 791.593 76.8809 791.593 M76.8809 787.889 Q82.6911 787.889 85.7466 792.496 Q88.8253 797.079 88.8253 805.829 Q88.8253 814.556 85.7466 819.162 Q82.6911 823.746 76.8809 823.746 Q71.0708 823.746 67.9921 819.162 Q64.9366 814.556 64.9366 805.829 Q64.9366 797.079 67.9921 792.496 Q71.0708 787.889 76.8809 787.889 Z\" fill=\"#000000\" fill-rule=\"evenodd\" fill-opacity=\"1\" /><path clip-path=\"url(#clip6800)\" d=\"M 0 0 M93.8947 817.195 L98.779 817.195 L98.779 823.074 L93.8947 823.074 L93.8947 817.195 Z\" fill=\"#000000\" fill-rule=\"evenodd\" fill-opacity=\"1\" /><path clip-path=\"url(#clip6800)\" d=\"M 0 0 M107.876 819.139 L124.196 819.139 L124.196 823.074 L102.251 823.074 L102.251 819.139 Q104.913 816.384 109.497 811.755 Q114.103 807.102 115.284 805.76 Q117.529 803.236 118.408 801.5 Q119.311 799.741 119.311 798.051 Q119.311 795.297 117.367 793.561 Q115.446 791.824 112.344 791.824 Q110.145 791.824 107.691 792.588 Q105.26 793.352 102.483 794.903 L102.483 790.181 Q105.307 789.047 107.76 788.468 Q110.214 787.889 112.251 787.889 Q117.621 787.889 120.816 790.574 Q124.01 793.26 124.01 797.75 Q124.01 799.88 123.2 801.801 Q122.413 803.699 120.307 806.292 Q119.728 806.963 116.626 810.181 Q113.524 813.375 107.876 819.139 Z\" fill=\"#000000\" fill-rule=\"evenodd\" fill-opacity=\"1\" /><path clip-path=\"url(#clip6800)\" d=\"M 0 0 M129.311 788.514 L147.668 788.514 L147.668 792.449 L133.594 792.449 L133.594 800.922 Q134.612 800.574 135.631 800.412 Q136.649 800.227 137.668 800.227 Q143.455 800.227 146.834 803.398 Q150.214 806.57 150.214 811.986 Q150.214 817.565 146.742 820.667 Q143.269 823.746 136.95 823.746 Q134.774 823.746 132.506 823.375 Q130.26 823.005 127.853 822.264 L127.853 817.565 Q129.936 818.699 132.158 819.255 Q134.381 819.81 136.857 819.81 Q140.862 819.81 143.2 817.704 Q145.538 815.597 145.538 811.986 Q145.538 808.375 143.2 806.269 Q140.862 804.162 136.857 804.162 Q134.982 804.162 133.107 804.579 Q131.256 804.996 129.311 805.875 L129.311 788.514 Z\" fill=\"#000000\" fill-rule=\"evenodd\" fill-opacity=\"1\" /><path clip-path=\"url(#clip6800)\" d=\"M 0 0 M74.9365 421.571 Q71.3254 421.571 69.4967 425.136 Q67.6912 428.678 67.6912 435.807 Q67.6912 442.914 69.4967 446.479 Q71.3254 450.02 74.9365 450.02 Q78.5707 450.02 80.3763 446.479 Q82.205 442.914 82.205 435.807 Q82.205 428.678 80.3763 425.136 Q78.5707 421.571 74.9365 421.571 M74.9365 417.868 Q80.7467 417.868 83.8022 422.474 Q86.8809 427.057 86.8809 435.807 Q86.8809 444.534 83.8022 449.141 Q80.7467 453.724 74.9365 453.724 Q69.1264 453.724 66.0477 449.141 Q62.9921 444.534 62.9921 435.807 Q62.9921 427.057 66.0477 422.474 Q69.1264 417.868 74.9365 417.868 Z\" fill=\"#000000\" fill-rule=\"evenodd\" fill-opacity=\"1\" /><path clip-path=\"url(#clip6800)\" d=\"M 0 0 M91.9503 447.173 L96.8345 447.173 L96.8345 453.053 L91.9503 453.053 L91.9503 447.173 Z\" fill=\"#000000\" fill-rule=\"evenodd\" fill-opacity=\"1\" /><path clip-path=\"url(#clip6800)\" d=\"M 0 0 M116.071 434.419 Q119.427 435.136 121.302 437.405 Q123.2 439.673 123.2 443.006 Q123.2 448.122 119.682 450.923 Q116.163 453.724 109.682 453.724 Q107.506 453.724 105.191 453.284 Q102.899 452.868 100.446 452.011 L100.446 447.497 Q102.39 448.631 104.705 449.21 Q107.02 449.789 109.543 449.789 Q113.941 449.789 116.233 448.053 Q118.547 446.317 118.547 443.006 Q118.547 439.951 116.395 438.238 Q114.265 436.502 110.446 436.502 L106.418 436.502 L106.418 432.659 L110.631 432.659 Q114.08 432.659 115.909 431.294 Q117.737 429.905 117.737 427.312 Q117.737 424.65 115.839 423.238 Q113.964 421.803 110.446 421.803 Q108.524 421.803 106.325 422.22 Q104.126 422.636 101.487 423.516 L101.487 419.349 Q104.149 418.608 106.464 418.238 Q108.802 417.868 110.862 417.868 Q116.186 417.868 119.288 420.298 Q122.39 422.706 122.39 426.826 Q122.39 429.696 120.746 431.687 Q119.103 433.655 116.071 434.419 Z\" fill=\"#000000\" fill-rule=\"evenodd\" fill-opacity=\"1\" /><path clip-path=\"url(#clip6800)\" d=\"M 0 0 M138.27 421.571 Q134.658 421.571 132.83 425.136 Q131.024 428.678 131.024 435.807 Q131.024 442.914 132.83 446.479 Q134.658 450.02 138.27 450.02 Q141.904 450.02 143.709 446.479 Q145.538 442.914 145.538 435.807 Q145.538 428.678 143.709 425.136 Q141.904 421.571 138.27 421.571 M138.27 417.868 Q144.08 417.868 147.135 422.474 Q150.214 427.057 150.214 435.807 Q150.214 444.534 147.135 449.141 Q144.08 453.724 138.27 453.724 Q132.459 453.724 129.381 449.141 Q126.325 444.534 126.325 435.807 Q126.325 427.057 129.381 422.474 Q132.459 417.868 138.27 417.868 Z\" fill=\"#000000\" fill-rule=\"evenodd\" fill-opacity=\"1\" /><path clip-path=\"url(#clip6800)\" d=\"M 0 0 M75.9319 51.5499 Q72.3208 51.5499 70.4921 55.1147 Q68.6865 58.6563 68.6865 65.7859 Q68.6865 72.8924 70.4921 76.4571 Q72.3208 79.9988 75.9319 79.9988 Q79.5661 79.9988 81.3717 76.4571 Q83.2004 72.8924 83.2004 65.7859 Q83.2004 58.6563 81.3717 55.1147 Q79.5661 51.5499 75.9319 51.5499 M75.9319 47.8462 Q81.742 47.8462 84.7976 52.4526 Q87.8763 57.036 87.8763 65.7859 Q87.8763 74.5127 84.7976 79.1192 Q81.742 83.7025 75.9319 83.7025 Q70.1217 83.7025 67.043 79.1192 Q63.9875 74.5127 63.9875 65.7859 Q63.9875 57.036 67.043 52.4526 Q70.1217 47.8462 75.9319 47.8462 Z\" fill=\"#000000\" fill-rule=\"evenodd\" fill-opacity=\"1\" /><path clip-path=\"url(#clip6800)\" d=\"M 0 0 M92.9457 77.1516 L97.8299 77.1516 L97.8299 83.0312 L92.9457 83.0312 L92.9457 77.1516 Z\" fill=\"#000000\" fill-rule=\"evenodd\" fill-opacity=\"1\" /><path clip-path=\"url(#clip6800)\" d=\"M 0 0 M117.066 64.397 Q120.422 65.1146 122.297 67.3831 Q124.196 69.6516 124.196 72.9849 Q124.196 78.1007 120.677 80.9016 Q117.159 83.7025 110.677 83.7025 Q108.501 83.7025 106.186 83.2627 Q103.895 82.846 101.441 81.9895 L101.441 77.4757 Q103.385 78.6099 105.7 79.1886 Q108.015 79.7673 110.538 79.7673 Q114.936 79.7673 117.228 78.0312 Q119.543 76.2951 119.543 72.9849 Q119.543 69.9294 117.39 68.2165 Q115.26 66.4804 111.441 66.4804 L107.413 66.4804 L107.413 62.6378 L111.626 62.6378 Q115.075 62.6378 116.904 61.272 Q118.733 59.8832 118.733 57.2906 Q118.733 54.6286 116.834 53.2165 Q114.959 51.7814 111.441 51.7814 Q109.52 51.7814 107.321 52.198 Q105.122 52.6147 102.483 53.4943 L102.483 49.3277 Q105.145 48.5869 107.459 48.2166 Q109.797 47.8462 111.858 47.8462 Q117.182 47.8462 120.283 50.2767 Q123.385 52.6841 123.385 56.8045 Q123.385 59.6748 121.742 61.6656 Q120.098 63.6331 117.066 64.397 Z\" fill=\"#000000\" fill-rule=\"evenodd\" fill-opacity=\"1\" /><path clip-path=\"url(#clip6800)\" d=\"M 0 0 M129.311 48.4712 L147.668 48.4712 L147.668 52.4064 L133.594 52.4064 L133.594 60.8785 Q134.612 60.5313 135.631 60.3693 Q136.649 60.1841 137.668 60.1841 Q143.455 60.1841 146.834 63.3554 Q150.214 66.5266 150.214 71.9433 Q150.214 77.522 146.742 80.6238 Q143.269 83.7025 136.95 83.7025 Q134.774 83.7025 132.506 83.3321 Q130.26 82.9617 127.853 82.221 L127.853 77.522 Q129.936 78.6562 132.158 79.2118 Q134.381 79.7673 136.857 79.7673 Q140.862 79.7673 143.2 77.6608 Q145.538 75.5544 145.538 71.9433 Q145.538 68.3322 143.2 66.2257 Q140.862 64.1193 136.857 64.1193 Q134.982 64.1193 133.107 64.5359 Q131.256 64.9526 129.311 65.8322 L129.311 48.4712 Z\" fill=\"#000000\" fill-rule=\"evenodd\" fill-opacity=\"1\" /><polyline clip-path=\"url(#clip6802)\" style=\"stroke:#009af9; stroke-width:4; stroke-opacity:1; fill:none\" points=\"\n",
       "  235.871,1445.72 646.916,1084.58 1057.96,735.715 1469.01,407.728 1880.05,125.482 2291.1,87.9763 \n",
       "  \"/>\n",
       "<polyline clip-path=\"url(#clip6802)\" style=\"stroke:#e26f46; stroke-width:4; stroke-opacity:1; fill:none\" points=\"\n",
       "  235.871,1428.26 646.916,1054.7 1057.96,701.319 1469.01,386.92 1880.05,139.878 2291.1,136.831 \n",
       "  \"/>\n",
       "<path clip-path=\"url(#clip6800)\" d=\"\n",
       "M1989.74 312.204 L2280.76 312.204 L2280.76 130.764 L1989.74 130.764  Z\n",
       "  \" fill=\"#ffffff\" fill-rule=\"evenodd\" fill-opacity=\"1\"/>\n",
       "<polyline clip-path=\"url(#clip6800)\" style=\"stroke:#000000; stroke-width:4; stroke-opacity:1; fill:none\" points=\"\n",
       "  1989.74,312.204 2280.76,312.204 2280.76,130.764 1989.74,130.764 1989.74,312.204 \n",
       "  \"/>\n",
       "<polyline clip-path=\"url(#clip6800)\" style=\"stroke:#009af9; stroke-width:4; stroke-opacity:1; fill:none\" points=\"\n",
       "  2013.74,191.244 2157.74,191.244 \n",
       "  \"/>\n",
       "<path clip-path=\"url(#clip6800)\" d=\"M 0 0 M2195.58 210.931 Q2193.77 215.561 2192.06 216.973 Q2190.35 218.385 2187.48 218.385 L2184.08 218.385 L2184.08 214.82 L2186.58 214.82 Q2188.33 214.82 2189.31 213.987 Q2190.28 213.154 2191.46 210.052 L2192.22 208.107 L2181.74 182.598 L2186.25 182.598 L2194.35 202.876 L2202.46 182.598 L2206.97 182.598 L2195.58 210.931 Z\" fill=\"#000000\" fill-rule=\"evenodd\" fill-opacity=\"1\" /><path clip-path=\"url(#clip6800)\" d=\"M 0 0 M2212.85 204.589 L2220.49 204.589 L2220.49 178.223 L2212.18 179.89 L2212.18 175.631 L2220.44 173.964 L2225.12 173.964 L2225.12 204.589 L2232.76 204.589 L2232.76 208.524 L2212.85 208.524 L2212.85 204.589 Z\" fill=\"#000000\" fill-rule=\"evenodd\" fill-opacity=\"1\" /><polyline clip-path=\"url(#clip6800)\" style=\"stroke:#e26f46; stroke-width:4; stroke-opacity:1; fill:none\" points=\"\n",
       "  2013.74,251.724 2157.74,251.724 \n",
       "  \"/>\n",
       "<path clip-path=\"url(#clip6800)\" d=\"M 0 0 M2195.58 271.411 Q2193.77 276.041 2192.06 277.453 Q2190.35 278.865 2187.48 278.865 L2184.08 278.865 L2184.08 275.3 L2186.58 275.3 Q2188.33 275.3 2189.31 274.467 Q2190.28 273.634 2191.46 270.532 L2192.22 268.587 L2181.74 243.078 L2186.25 243.078 L2194.35 263.356 L2202.46 243.078 L2206.97 243.078 L2195.58 271.411 Z\" fill=\"#000000\" fill-rule=\"evenodd\" fill-opacity=\"1\" /><path clip-path=\"url(#clip6800)\" d=\"M 0 0 M2216.07 265.069 L2232.39 265.069 L2232.39 269.004 L2210.44 269.004 L2210.44 265.069 Q2213.1 262.314 2217.69 257.685 Q2222.29 253.032 2223.47 251.689 Q2225.72 249.166 2226.6 247.43 Q2227.5 245.671 2227.5 243.981 Q2227.5 241.226 2225.56 239.49 Q2223.64 237.754 2220.53 237.754 Q2218.33 237.754 2215.88 238.518 Q2213.45 239.282 2210.67 240.833 L2210.67 236.111 Q2213.5 234.976 2215.95 234.398 Q2218.4 233.819 2220.44 233.819 Q2225.81 233.819 2229.01 236.504 Q2232.2 239.189 2232.2 243.68 Q2232.2 245.81 2231.39 247.731 Q2230.6 249.629 2228.5 252.222 Q2227.92 252.893 2224.82 256.111 Q2221.71 259.305 2216.07 265.069 Z\" fill=\"#000000\" fill-rule=\"evenodd\" fill-opacity=\"1\" /></svg>\n"
      ]
     },
     "execution_count": 135,
     "metadata": {},
     "output_type": "execute_result"
    }
   ],
   "source": [
    "plot(ks.vSpace.u[20:25], data_boltz[24][20:25,1])\n",
    "plot!(ks.vSpace.u[20:25], data_boltz[24][20:25,2])"
   ]
  },
  {
   "cell_type": "code",
   "execution_count": 134,
   "metadata": {},
   "outputs": [
    {
     "data": {
      "text/plain": [
       "48-element Array{Any,1}:\n",
       " Float32[5.7274005e-11 5.5454415e-11 5.369263e-11; 2.8984645e-10 2.8063807e-10 2.717222e-10; … ; 4.485936e-14 4.4916087e-14 4.4971015e-14; 7.3742444e-17 7.38573e-17 7.396851e-17]    \n",
       " Float32[6.259622e-11 6.060677e-11 5.868055e-11; 3.1841318e-10 3.082933e-10 2.9849503e-10; … ; 4.5106243e-14 4.5185826e-14 4.5262883e-14; 7.421676e-17 7.437893e-17 7.453595e-17]     \n",
       " Float32[6.841531e-11 6.6239854e-11 6.4133567e-11; 3.4980777e-10 3.3868464e-10 3.279152e-10; … ; 4.5442698e-14 4.5551155e-14 4.5656167e-14; 7.486701e-17 7.5089325e-17 7.530458e-17]  \n",
       " Float32[7.4778496e-11 7.239927e-11 7.0095735e-11; 3.8431489e-10 3.7208714e-10 3.6024844e-10; … ; 4.5890036e-14 4.6034238e-14 4.6173853e-14; 7.573681e-17 7.6034184e-17 7.6322096e-17]\n",
       " Float32[8.173777e-11 7.913509e-11 7.661527e-11; 4.2224915e-10 4.0880396e-10 3.9578685e-10; … ; 4.6487154e-14 4.6679633e-14 4.6865984e-14; 7.690564e-17 7.730525e-17 7.769213e-17]    \n",
       " Float32[8.935075e-11 8.6502874e-11 8.374577e-11; 4.6396084e-10 4.4917303e-10 4.348565e-10; … ; 4.7278577e-14 4.7533687e-14 4.7780668e-14; 7.846699e-17 7.900078e-17 7.951756e-17]    \n",
       " Float32[9.7681044e-11 9.456375e-11 9.154594e-11; 5.098385e-10 4.935681e-10 4.778168e-10; … ; 4.8336223e-14 4.867714e-14 4.900718e-14; 8.057352e-17 8.129368e-17 8.199087e-17]        \n",
       " Float32[1.0679958e-10 1.03385814e-10 1.0008116e-10; 5.603168e-10 5.424067e-10 5.2506904e-10; … ; 4.9763674e-14 5.0223782e-14 5.0669182e-14; 8.345082e-17 8.443446e-17 8.5386665e-17] \n",
       " Float32[1.1678564e-10 1.13044914e-10 1.09424005e-10; 6.1588346e-10 5.961563e-10 5.77061e-10; … ; 5.1722708e-14 5.2354137e-14 5.2965346e-14; 8.746097e-17 8.8831846e-17 9.0158816e-17]\n",
       " Float32[1.2772847e-10 1.236262e-10 1.196557e-10; 6.770897e-10 6.553436e-10 6.342959e-10; … ; 5.4471835e-14 5.5357886e-14 5.6215483e-14; 9.320341e-17 9.516639e-17 9.706632e-17]      \n",
       " Float32[1.3972946e-10 1.3522596e-10 1.3086758e-10; 7.445631e-10 7.205656e-10 6.973416e-10; … ; 5.845171e-14 5.973436e-14 6.097568e-14; 1.01744274e-16 1.04663686e-16 1.0748901e-16]  \n",
       " Float32[1.5290508e-10 1.4795395e-10 1.4316315e-10; 8.190263e-10 7.9250595e-10 7.668443e-10; … ; 6.446846e-14 6.640741e-14 6.828359e-14; 1.1513927e-16 1.1971755e-16 1.241476e-16]    \n",
       " Float32[1.6739134e-10 1.6193762e-10 1.5666156e-10; 9.0132435e-10 8.7195856e-10 8.435495e-10; … ; 7.410474e-14 7.720982e-14 8.021374e-14; 1.3770511e-16 1.4541713e-16 1.5287792e-16]  \n",
       " ⋮                                                                                                                                                                                    \n",
       " Float32[1.8148723e-9 1.8145403e-9 1.8142563e-9; 1.0615032e-8 1.0613254e-8 1.0611733e-8; … ; 0.00033379768 0.00033410528 0.00033436844; 0.00010665308 0.000106793035 0.000106912776]  \n",
       " Float32[1.8159052e-9 1.8157243e-9 1.8155697e-9; 1.0620901e-8 1.0619911e-8 1.0619064e-8; … ; 0.00033448235 0.00033468998 0.0003348676; 0.000106953055 0.000107049535 0.00010713208]   \n",
       " Float32[1.8164693e-9 1.8163874e-9 1.8163173e-9; 1.0624175e-8 1.0623695e-8 1.0623284e-8; … ; 0.00033494437 0.0003350845 0.0003352044; 0.00010715978 0.000107226275 0.000107283166]    \n",
       " Float32[1.8167263e-9 1.8167174e-9 1.8167098e-9; 1.0625773e-8 1.0625662e-8 1.0625567e-8; … ; 0.00033525628 0.00033535087 0.00033543175; 0.00010730225 0.000107348074 0.00010738728]   \n",
       " Float32[1.8167563e-9 1.8168117e-9 1.8168591e-9; 1.0626153e-8 1.0626361e-8 1.062654e-8; … ; 0.0003354668 0.00033553064 0.00033558524; 0.00010740043 0.00010743201 0.000107459025]     \n",
       " Float32[1.8165871e-9 1.8167088e-9 1.8168127e-9; 1.0625485e-8 1.0626017e-8 1.0626473e-8; … ; 0.00033560875 0.00033565183 0.00033568867; 0.00010746805 0.000107489795 0.00010750841]   \n",
       " Float32[1.816212e-9 1.8164134e-9 1.8165859e-9; 1.0623746e-8 1.062467e-8 1.06254605e-8; … ; 0.00033570424 0.00033573323 0.00033575806; 0.000107514505 0.000107529464 0.000107542255]  \n",
       " Float32[1.8155871e-9 1.8158933e-9 1.8161553e-9; 1.06207105e-8 1.0622152e-8 1.0623386e-8; … ; 0.00033576824 0.00033578768 0.0003358043; 0.00010754633 0.00010755658 0.000107565356]   \n",
       " Float32[1.8146356e-9 1.815088e-9 1.8154751e-9; 1.061596e-8 1.0618137e-8 1.0619999e-8; … ; 0.00033581076 0.00033582366 0.00033583472; 0.000107568034 0.00010757502 0.000107580985]    \n",
       " Float32[1.8132298e-9 1.8138903e-9 1.8144551e-9; 1.0608788e-8 1.0612029e-8 1.06148015e-8; … ; 0.00033583798 0.00033584624 0.00033585328; 0.00010758246 0.000107587104 0.00010759106]  \n",
       " Float32[1.8111781e-9 1.812139e-9 1.8129612e-9; 1.0598108e-8 1.06029185e-8 1.0607034e-8; … ; 0.00033585288 0.00033585736 0.00033586123; 0.00010759116 0.00010759395 0.00010759635]    \n",
       " Float32[1.8081918e-9 1.8095869e-9 1.8107803e-9; 1.0582252e-8 1.0589382e-8 1.059548e-8; … ; 0.00033585163 0.00033585128 0.00033585093; 0.00010759318 0.000107593834 0.000107594395]   "
      ]
     },
     "execution_count": 134,
     "metadata": {},
     "output_type": "execute_result"
    }
   ],
   "source": [
    "data_boltz"
   ]
  },
  {
   "cell_type": "code",
   "execution_count": 100,
   "metadata": {},
   "outputs": [
    {
     "data": {
      "text/plain": [
       "retcode: Success\n",
       "Interpolation: 1st order linear\n",
       "t: 3-element Array{Float32,1}:\n",
       " 0.0        \n",
       " 0.035737388\n",
       " 0.071474776\n",
       "u: 3-element Array{Array{Float32,1},1}:\n",
       " [5.412656e-11, 4.0982032e-10, 2.821535e-9, 1.7663888e-8, 1.00553244e-7, 5.2049285e-7, 2.4498659e-6, 1.048525e-5, 4.080601e-5, 0.00014440373  …  0.14878623, 0.095099285, 0.05527142, 0.02921009, 0.014036993, 0.006133723, 0.002437155, 0.0008805439, 0.00028928625, 8.6419845e-5]\n",
       " [5.412656e-11, 4.0982032e-10, 2.821535e-9, 1.7663888e-8, 1.00553244e-7, 5.2049285e-7, 2.4498659e-6, 1.048525e-5, 4.080601e-5, 0.00014440373  …  0.14878623, 0.095099285, 0.05527142, 0.02921009, 0.014036993, 0.006133723, 0.002437155, 0.0008805439, 0.00028928625, 8.6419845e-5]\n",
       " [5.412656e-11, 4.0982032e-10, 2.821535e-9, 1.7663888e-8, 1.00553244e-7, 5.2049285e-7, 2.4498659e-6, 1.048525e-5, 4.080601e-5, 0.00014440373  …  0.14878623, 0.095099285, 0.05527142, 0.02921009, 0.014036993, 0.006133723, 0.002437155, 0.0008805439, 0.00028928625, 8.6419845e-5]"
      ]
     },
     "execution_count": 100,
     "metadata": {},
     "output_type": "execute_result"
    }
   ],
   "source": [
    "prob = ODEProblem(bgk!, data_init[25], tSpan, data_para[25])\n",
    "solve(prob, Tsit5(), saveat=tRan)"
   ]
  },
  {
   "cell_type": "code",
   "execution_count": 171,
   "metadata": {},
   "outputs": [
    {
     "data": {
      "text/plain": [
       "36-element Array{Float32,1}:\n",
       " 0.0          \n",
       " 0.0          \n",
       " 0.0          \n",
       " 0.0          \n",
       " 0.0          \n",
       " 0.0          \n",
       " 6.0e-45      \n",
       " 3.118e-40    \n",
       " 8.865546e-36 \n",
       " 1.3597291e-31\n",
       " 1.1249062e-27\n",
       " 5.0199247e-24\n",
       " 1.2083565e-20\n",
       " ⋮            \n",
       " 0.561946     \n",
       " 0.44270384   \n",
       " 0.18812607   \n",
       " 0.043122273  \n",
       " 0.005331769  \n",
       " 0.0003555969 \n",
       " 1.2792682e-5 \n",
       " 2.4824598e-7 \n",
       " 2.5984828e-9 \n",
       " 1.4671497e-11\n",
       " 4.468338e-14 \n",
       " 7.340651e-17 "
      ]
     },
     "execution_count": 171,
     "metadata": {},
     "output_type": "execute_result"
    }
   ],
   "source": [
    "prob = ODEProblem(bgk!, ctr[1].f[1:end], (tRan[1], tRan[end]), [ctr[1].f, 0.1])\n",
    "ftemp = (solve(prob, saveat=tRan) |> Array)[:,end]"
   ]
  },
  {
   "cell_type": "code",
   "execution_count": null,
   "metadata": {},
   "outputs": [],
   "source": []
  }
 ],
 "metadata": {
  "kernelspec": {
   "display_name": "Julia 1.4.2",
   "language": "julia",
   "name": "julia-1.4"
  },
  "language_info": {
   "file_extension": ".jl",
   "mimetype": "application/julia",
   "name": "julia",
   "version": "1.4.2"
  }
 },
 "nbformat": 4,
 "nbformat_minor": 4
}
