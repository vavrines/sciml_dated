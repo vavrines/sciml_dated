{
 "cells": [
  {
   "cell_type": "code",
   "execution_count": 2,
   "metadata": {},
   "outputs": [],
   "source": [
    "using Revise, OrdinaryDiffEq, Flux, DiffEqFlux, Optim, Plots, Kinetic"
   ]
  },
  {
   "cell_type": "code",
   "execution_count": 3,
   "metadata": {},
   "outputs": [
    {
     "data": {
      "text/latex": [
       "8"
      ],
      "text/plain": [
       "8"
      ]
     },
     "execution_count": 3,
     "metadata": {},
     "output_type": "execute_result"
    }
   ],
   "source": [
    "case = \"homogeneous\"\n",
    "maxTime = 5\n",
    "tlen = 11\n",
    "u0 = -5\n",
    "u1 = 5\n",
    "nu = 60\n",
    "nug = 0\n",
    "v0 = -5\n",
    "v1 = 5\n",
    "nv = 28\n",
    "nvg = 0\n",
    "w0 = -5\n",
    "w1 = 5\n",
    "nw = 28\n",
    "nwg = 0\n",
    "vMeshType = \"rectangle\"\n",
    "nm = 5\n",
    "knudsen = 1\n",
    "inK = 0\n",
    "alpha = 1.0\n",
    "omega = 0.5\n",
    "nh = 8"
   ]
  },
  {
   "cell_type": "code",
   "execution_count": 4,
   "metadata": {},
   "outputs": [],
   "source": [
    "tspan = (0.0, maxTime)\n",
    "tRange = range(tspan[1], tspan[2], length=tlen)\n",
    "\n",
    "γ = heat_capacity_ratio(inK, 3)\n",
    "vSpace = VSpace3D(u0, u1, nu, v0, v1, nv, w0, w1, nw, vMeshType)\n",
    "\n",
    "f0 = Float32.(0.5 * (1/π)^1.5 .* (exp.(-(vSpace.u .- 0.99).^2) .+ exp.(-(vSpace.u .+ 0.99).^2)) .* \n",
    "     exp.(-vSpace.v.^2) .* exp.(-vSpace.w.^2)) |> Array\n",
    "prim0 = conserve_prim(moments_conserve(f0, vSpace.u, vSpace.v, vSpace.w, vSpace.weights), γ)\n",
    "M0 = Float32.(maxwellian(vSpace.u, vSpace.v, vSpace.w, prim0)) |> Array\n",
    "\n",
    "mu_ref = ref_vhs_vis(knudsen, alpha, omega)\n",
    "kn_bzm = hs_boltz_kn(mu_ref, 1.0)\n",
    "τ = mu_ref * 2. * prim0[end]^(0.5) / prim0[1];"
   ]
  },
  {
   "cell_type": "code",
   "execution_count": 5,
   "metadata": {},
   "outputs": [],
   "source": [
    "phi, psi, phipsi = kernel_mode(nm, vSpace.u1, vSpace.v1, vSpace.w1, vSpace.du[1,1,1], vSpace.dv[1,1,1], vSpace.dw[1,1,1], vSpace.nu, vSpace.nv, vSpace.nw, alpha);"
   ]
  },
  {
   "cell_type": "code",
   "execution_count": 6,
   "metadata": {},
   "outputs": [
    {
     "data": {
      "text/plain": [
       "bgk! (generic function with 1 method)"
      ]
     },
     "execution_count": 6,
     "metadata": {},
     "output_type": "execute_result"
    }
   ],
   "source": [
    "function boltzmann!(df, f::Array{<:Real,3}, p, t)\n",
    "    Kn, M, phi, psi, phipsi = p\n",
    "    df .= boltzmann_fft(f, Kn, M, phi, psi, phipsi)\n",
    "end\n",
    "\n",
    "function bgk!(df, f::Array{<:Real,3}, p, t)\n",
    "    g, tau = p\n",
    "    df .= (g .- f) ./ tau\n",
    "end"
   ]
  },
  {
   "cell_type": "code",
   "execution_count": 7,
   "metadata": {},
   "outputs": [],
   "source": [
    "#--- Boltzmann ---#\n",
    "prob = ODEProblem(boltzmann!, f0, tspan, [kn_bzm, nm, phi, psi, phipsi])\n",
    "data_boltz = solve(prob, Tsit5(), saveat=tRange) |> Array;"
   ]
  },
  {
   "cell_type": "code",
   "execution_count": 8,
   "metadata": {},
   "outputs": [],
   "source": [
    "#--- BGK ---#\n",
    "prob1 = ODEProblem(bgk!, f0, tspan, [M0, τ])\n",
    "data_bgk = solve(prob, Tsit5(), saveat=tRange) |> Array;"
   ]
  },
  {
   "cell_type": "code",
   "execution_count": 9,
   "metadata": {},
   "outputs": [],
   "source": [
    "data_boltz_1D = zeros(Float32, axes(data_boltz, 1), axes(data_boltz, 4))\n",
    "data_bgk_1D = zeros(Float32, axes(data_bgk, 1), axes(data_bgk, 4))\n",
    "for j in axes(data_boltz_1D, 2), i in axes(data_boltz_1D, 1)\n",
    "    data_boltz_1D[i,j] = sum(@. vSpace.weights[i,:,:] * data_boltz[i,:,:,j])\n",
    "    data_bgk_1D[i,j] = sum(@. vSpace.weights[i,:,:] * data_bgk[i,:,:,j])\n",
    "end\n",
    "\n",
    "f0_1D = zeros(Float32, axes(f0, 1))\n",
    "for i in axes(data_boltz_1D, 1)\n",
    "    f0_1D[i] = sum(@. vSpace.weights[i,:,:] * f0[i,:,:])\n",
    "end\n",
    "\n",
    "M0_1D = zeros(Float32, axes(M0, 1))\n",
    "for i in axes(M0, 1)\n",
    "    M0_1D[i] = sum(@. vSpace.weights[i,:,:] * M0[i,:,:])\n",
    "end"
   ]
  },
  {
   "cell_type": "code",
   "execution_count": 10,
   "metadata": {},
   "outputs": [
    {
     "data": {
      "text/plain": [
       "loss_n_ode (generic function with 1 method)"
      ]
     },
     "execution_count": 10,
     "metadata": {},
     "output_type": "execute_result"
    }
   ],
   "source": [
    "dudt = FastChain( (x, p) -> x.^2, # initial guess\n",
    "                   FastDense(vSpace.nu, vSpace.nu*nh, tanh), # our 1-layer network\n",
    "                   FastDense(vSpace.nu*nh, vSpace.nu) )\n",
    "n_ode = NeuralODE(dudt, tspan, Tsit5(), saveat=tRange)\n",
    "\n",
    "function loss_n_ode(p)\n",
    "    pred = n_ode(f0_1D, p)\n",
    "    loss = sum(abs2, pred .- data_boltz_1D)\n",
    "    return loss, pred\n",
    "end"
   ]
  },
  {
   "cell_type": "code",
   "execution_count": null,
   "metadata": {},
   "outputs": [],
   "source": []
  }
 ],
 "metadata": {
  "kernelspec": {
   "display_name": "Julia 1.5.2",
   "language": "julia",
   "name": "julia-1.5"
  },
  "language_info": {
   "file_extension": ".jl",
   "mimetype": "application/julia",
   "name": "julia",
   "version": "1.5.2"
  }
 },
 "nbformat": 4,
 "nbformat_minor": 4
}
