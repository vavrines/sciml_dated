{
 "cells": [
  {
   "cell_type": "code",
   "execution_count": 1,
   "metadata": {},
   "outputs": [],
   "source": [
    "using Revise\n",
    "using DifferentialEquations\n",
    "using Flux\n",
    "using DiffEqFlux\n",
    "using Optim\n",
    "using Plots\n",
    "using FileIO\n",
    "using JLD2\n",
    "using OffsetArrays\n",
    "\n",
    "include(\"/mnt/d/Coding/Github/Kinetic.jl/src/Kinetic.jl\")\n",
    "using .Kinetic"
   ]
  },
  {
   "cell_type": "code",
   "execution_count": 2,
   "metadata": {},
   "outputs": [
    {
     "data": {
      "text/plain": [
       "bgk! (generic function with 1 method)"
      ]
     },
     "execution_count": 2,
     "metadata": {},
     "output_type": "execute_result"
    }
   ],
   "source": [
    "function bgk!(df, f, p, t)\n",
    "    g, tau = p\n",
    "    df .= (g .- f) ./ tau\n",
    "end"
   ]
  },
  {
   "cell_type": "code",
   "execution_count": 3,
   "metadata": {},
   "outputs": [
    {
     "name": "stdout",
     "output_type": "stream",
     "text": [
      "case = shock\n",
      "space = 1d1f1v\n",
      "nSpecies = 1\n",
      "interpOrder = 1\n",
      "limiter = vanleer\n",
      "cfl = 0.95\n",
      "maxTime = 250.0\n",
      "x0 = -25.0\n",
      "x1 = 25.0\n",
      "nx = 50\n",
      "pMeshType = uniform\n",
      "nxg = 0\n",
      "umin = -10.0\n",
      "umax = 10.0\n",
      "nu = 36\n",
      "nug = 0\n",
      "vMeshType = rectangle\n",
      "knudsen = 1.0\n",
      "mach = 3.0\n",
      "prandtl = 1.0\n",
      "inK = 0.0\n",
      "omega = 0.5\n",
      "alphaRef = 1.0\n",
      "omegaRef = 0.5\n",
      "tLen = 3\n",
      "nh = 12\n",
      "\n"
     ]
    }
   ],
   "source": [
    "D = read_dict(\"../code/shock/shock1D.txt\")\n",
    "for key in keys(D)\n",
    "    s = Symbol(key)\n",
    "    @eval $s = $(D[key])\n",
    "end"
   ]
  },
  {
   "cell_type": "code",
   "execution_count": 4,
   "metadata": {},
   "outputs": [],
   "source": [
    "γ = 3.\n",
    "set = Setup(case, space, nSpecies, interpOrder, limiter, cfl, maxTime)\n",
    "pSpace = PSpace1D(x0, x1, nx, pMeshType, nxg)\n",
    "μᵣ = ref_vhs_vis(knudsen, alphaRef, omegaRef)\n",
    "gas = GasProperty(knudsen, mach, prandtl, inK, γ, omega, alphaRef, omegaRef, μᵣ)\n",
    "vSpace = VSpace1D(umin, umax, nu, vMeshType, nug)\n",
    "wL, primL, fL, bcL, wR, primR, fR, bcR = ib_rh(mach, γ, vSpace.u)\n",
    "ib = IB1D1F(wL, primL, fL, bcL, wR, primR, fR, bcR)\n",
    "\n",
    "ks = SolverSet(set, pSpace, vSpace, gas, ib, pwd());"
   ]
  },
  {
   "cell_type": "code",
   "execution_count": 5,
   "metadata": {},
   "outputs": [],
   "source": [
    "ctr = OffsetArray{ControlVolume1D1F}(undef, eachindex(ks.pSpace.x))\n",
    "face = Array{Interface1D1F}(undef, ks.pSpace.nx+1)\n",
    "for i in eachindex(ctr)\n",
    "    if i <= ks.pSpace.nx÷2\n",
    "        ctr[i] = ControlVolume1D1F(ks.pSpace.x[i], ks.pSpace.dx[i], Float32.(ks.ib.wL), Float32.(ks.ib.primL), Float32.(ks.ib.fL))\n",
    "    else\n",
    "        ctr[i] = ControlVolume1D1F(ks.pSpace.x[i], ks.pSpace.dx[i], Float32.(ks.ib.wR), Float32.(ks.ib.primR), Float32.(ks.ib.fR))\n",
    "    end\n",
    "end\n",
    "for i=1:ks.pSpace.nx+1\n",
    "    face[i] = Interface1D1F(ks.ib.fL)\n",
    "end"
   ]
  },
  {
   "cell_type": "code",
   "execution_count": 6,
   "metadata": {},
   "outputs": [
    {
     "data": {
      "text/plain": [
       "0.0f0:0.035737388f0:0.071474776f0"
      ]
     },
     "execution_count": 6,
     "metadata": {},
     "output_type": "execute_result"
    }
   ],
   "source": [
    "sos = sound_speed(ks.ib.primR, γ)\n",
    "vmax = ks.vSpace.u1 + sos\n",
    "tmax = vmax / ks.pSpace.dx[1]\n",
    "dt = Float32(ks.set.cfl / tmax)\n",
    "tSpan = (0.f0, dt)\n",
    "tRan = range(tSpan[1], tSpan[2], length=tLen)"
   ]
  },
  {
   "cell_type": "code",
   "execution_count": 7,
   "metadata": {},
   "outputs": [],
   "source": [
    "residual = Array{Float32}(undef, 3)\n",
    "for iter=1:1000\n",
    "    Kinetic.evolve!(ks, ctr, face, dt)\n",
    "    Kinetic.update!(ks, ctr, face, dt, residual)\n",
    "end"
   ]
  },
  {
   "cell_type": "code",
   "execution_count": 8,
   "metadata": {},
   "outputs": [],
   "source": [
    "data_init = [ Float32.(maxwellian(vSpace.u, ib.primL)) |> Array, Float32.(maxwellian(vSpace.u, ib.primR)) |> Array ]\n",
    "data_para = [ [maxwellian(ks.vSpace.u, ks.ib.primL), vhs_collision_time(ks.ib.primL, ks.gas.μᵣ, ks.gas.ω)],\n",
    "              [maxwellian(ks.vSpace.u, ks.ib.primR), vhs_collision_time(ks.ib.primR, ks.gas.μᵣ, ks.gas.ω)] ];\n",
    "\n",
    "data_init = []\n",
    "data_para = []\n",
    "for i=2:49\n",
    "    push!(data_init, ctr[i].f[1:end])\n",
    "    push!(data_para, [maxwellian(ks.vSpace.u, ctr[i].prim), vhs_collision_time(ctr[i].prim, ks.gas.μᵣ, ks.gas.ω)])\n",
    "end"
   ]
  },
  {
   "cell_type": "code",
   "execution_count": 9,
   "metadata": {},
   "outputs": [],
   "source": [
    "prob = ODEProblem(bgk!, data_init[1], tSpan, data_para[1])\n",
    "data_boltz1 = solve(prob, Tsit5(), saveat=tRan) |> Array;\n",
    "\n",
    "prob = ODEProblem(bgk!, data_init[2], tSpan, data_para[2])\n",
    "data_boltz2 = solve(prob, Tsit5(), saveat=tRan) |> Array;\n",
    "\n",
    "data_boltz = [data_boltz1, data_boltz2];\n",
    "\n",
    "data_boltz = []\n",
    "for i in eachindex(data_init)\n",
    "    prob = ODEProblem(bgk!, data_init[i], tSpan, data_para[i])\n",
    "    push!(data_boltz, solve(prob, Tsit5(), saveat=tRan) |> Array)\n",
    "end"
   ]
  },
  {
   "cell_type": "code",
   "execution_count": 10,
   "metadata": {},
   "outputs": [
    {
     "data": {
      "text/plain": [
       "(::NeuralODE{FastChain{Tuple{var\"#3#4\",FastDense{typeof(tanh),DiffEqFlux.var\"#initial_params#75\"{typeof(Flux.glorot_uniform),typeof(Flux.zeros),Int64,Int64}},FastDense{typeof(tanh),DiffEqFlux.var\"#initial_params#75\"{typeof(Flux.glorot_uniform),typeof(Flux.zeros),Int64,Int64}},FastDense{typeof(identity),DiffEqFlux.var\"#initial_params#75\"{typeof(Flux.glorot_uniform),typeof(Flux.zeros),Int64,Int64}}}},Array{Float32,1},Nothing,Tuple{Float32,Float32},Tsit5,Tuple{},Base.Iterators.Pairs{Symbol,StepRangeLen{Float32,Float64,Float64},Tuple{Symbol},NamedTuple{(:saveat,),Tuple{StepRangeLen{Float32,Float64,Float64}}}}}) (generic function with 4 methods)"
      ]
     },
     "execution_count": 10,
     "metadata": {},
     "output_type": "execute_result"
    }
   ],
   "source": [
    "dudt = FastChain( (x, p) -> x.^3,\n",
    "                   FastDense(vSpace.nu, vSpace.nu*10, tanh),\n",
    "                   FastDense(vSpace.nu*10, vSpace.nu*10, tanh),\n",
    "                   FastDense(vSpace.nu*10, vSpace.nu) )\n",
    "n_ode = NeuralODE(dudt, tSpan, Tsit5(), saveat=tRan)"
   ]
  },
  {
   "cell_type": "code",
   "execution_count": 11,
   "metadata": {},
   "outputs": [
    {
     "data": {
      "text/plain": [
       "loss_n_ode (generic function with 1 method)"
      ]
     },
     "execution_count": 11,
     "metadata": {},
     "output_type": "execute_result"
    }
   ],
   "source": [
    "function loss_n_ode(p)\n",
    "    pred = n_ode(data_init[1], p) |> Array\n",
    "\n",
    "    loss = 0.\n",
    "    for i in eachindex(data_init)\n",
    "        loss += sum(abs2, (n_ode(data_init[i], p) |> Array) .- data_boltz[i])\n",
    "    end\n",
    "    \n",
    "    return loss, pred\n",
    "end"
   ]
  },
  {
   "cell_type": "code",
   "execution_count": 12,
   "metadata": {},
   "outputs": [
    {
     "data": {
      "text/plain": [
       "#5 (generic function with 1 method)"
      ]
     },
     "execution_count": 12,
     "metadata": {},
     "output_type": "execute_result"
    }
   ],
   "source": [
    "cb = function (p, l, pred; doplot=false)\n",
    "    display(l)\n",
    "    # plot current prediction against dataset\n",
    "    if doplot\n",
    "        pl = plot(tRan, data_boltz[1][vSpace.nu÷2,:], lw=2, label=\"Exact\")\n",
    "        scatter!(pl, tRan, pred[vSpace.nu÷2,:], lw=2, label=\"NN\")\n",
    "        display(plot(pl))\n",
    "    end\n",
    "    return false\n",
    "end"
   ]
  },
  {
   "cell_type": "code",
   "execution_count": null,
   "metadata": {},
   "outputs": [
    {
     "data": {
      "text/plain": [
       "0.00411676628573332"
      ]
     },
     "metadata": {},
     "output_type": "display_data"
    },
    {
     "name": "stderr",
     "output_type": "stream",
     "text": [
      "\r",
      "\u001b[32mloss: 0.00412:   0%|▎                                        |  ETA: 1:53:13\u001b[39m"
     ]
    },
    {
     "data": {
      "text/plain": [
       "0.009690108876384329"
      ]
     },
     "metadata": {},
     "output_type": "display_data"
    },
    {
     "name": "stderr",
     "output_type": "stream",
     "text": [
      "\r",
      "\u001b[32mloss: 0.00969:   1%|▍                                        |  ETA: 1:04:21\u001b[39m"
     ]
    },
    {
     "data": {
      "text/plain": [
       "0.004083866313521867"
      ]
     },
     "metadata": {},
     "output_type": "display_data"
    },
    {
     "name": "stderr",
     "output_type": "stream",
     "text": [
      "\r",
      "\u001b[32mloss: 0.00408:   2%|▋                                        |  ETA: 0:46:38\u001b[39m"
     ]
    },
    {
     "data": {
      "text/plain": [
       "0.002811715507050394"
      ]
     },
     "metadata": {},
     "output_type": "display_data"
    },
    {
     "name": "stderr",
     "output_type": "stream",
     "text": [
      "\r",
      "\u001b[32mloss: 0.00281:   2%|▉                                        |  ETA: 0:37:46\u001b[39m"
     ]
    },
    {
     "data": {
      "text/plain": [
       "0.0031398318787978496"
      ]
     },
     "metadata": {},
     "output_type": "display_data"
    },
    {
     "name": "stderr",
     "output_type": "stream",
     "text": [
      "\r",
      "\u001b[32mloss: 0.00314:   2%|█                                        |  ETA: 0:32:23\u001b[39m"
     ]
    },
    {
     "data": {
      "text/plain": [
       "0.003229458796340623"
      ]
     },
     "metadata": {},
     "output_type": "display_data"
    },
    {
     "name": "stderr",
     "output_type": "stream",
     "text": [
      "\r",
      "\u001b[32mloss: 0.00323:   3%|█▎                                       |  ETA: 0:28:50\u001b[39m"
     ]
    },
    {
     "data": {
      "text/plain": [
       "0.0028045920425938675"
      ]
     },
     "metadata": {},
     "output_type": "display_data"
    },
    {
     "name": "stderr",
     "output_type": "stream",
     "text": [
      "\r",
      "\u001b[32mloss: 0.0028:   4%|█▍                                       |  ETA: 0:26:17\u001b[39m"
     ]
    },
    {
     "data": {
      "text/plain": [
       "0.002216572881479806"
      ]
     },
     "metadata": {},
     "output_type": "display_data"
    },
    {
     "name": "stderr",
     "output_type": "stream",
     "text": [
      "\r",
      "\u001b[32mloss: 0.00222:   4%|█▋                                       |  ETA: 0:24:20\u001b[39m"
     ]
    },
    {
     "data": {
      "text/plain": [
       "0.0017911237778207578"
      ]
     },
     "metadata": {},
     "output_type": "display_data"
    },
    {
     "name": "stderr",
     "output_type": "stream",
     "text": [
      "\r",
      "\u001b[32mloss: 0.00179:   4%|█▉                                       |  ETA: 0:22:51\u001b[39m"
     ]
    },
    {
     "data": {
      "text/plain": [
       "0.0016309639595419867"
      ]
     },
     "metadata": {},
     "output_type": "display_data"
    },
    {
     "name": "stderr",
     "output_type": "stream",
     "text": [
      "\r",
      "\u001b[32mloss: 0.00163:   5%|██                                       |  ETA: 0:21:40\u001b[39m"
     ]
    },
    {
     "data": {
      "text/plain": [
       "0.0016482350433761894"
      ]
     },
     "metadata": {},
     "output_type": "display_data"
    },
    {
     "name": "stderr",
     "output_type": "stream",
     "text": [
      "\r",
      "\u001b[32mloss: 0.00165:   6%|██▎                                      |  ETA: 0:20:38\u001b[39m"
     ]
    },
    {
     "data": {
      "text/plain": [
       "0.0016745221155360923"
      ]
     },
     "metadata": {},
     "output_type": "display_data"
    },
    {
     "name": "stderr",
     "output_type": "stream",
     "text": [
      "\r",
      "\u001b[32mloss: 0.00167:   6%|██▌                                      |  ETA: 0:19:48\u001b[39m"
     ]
    },
    {
     "data": {
      "text/plain": [
       "0.0015693547711634892"
      ]
     },
     "metadata": {},
     "output_type": "display_data"
    },
    {
     "name": "stderr",
     "output_type": "stream",
     "text": [
      "\r",
      "\u001b[32mloss: 0.00157:   6%|██▋                                      |  ETA: 0:19:04\u001b[39m"
     ]
    },
    {
     "data": {
      "text/plain": [
       "0.001319136638812779"
      ]
     },
     "metadata": {},
     "output_type": "display_data"
    },
    {
     "name": "stderr",
     "output_type": "stream",
     "text": [
      "\r",
      "\u001b[32mloss: 0.00132:   7%|██▉                                      |  ETA: 0:18:26\u001b[39m"
     ]
    },
    {
     "data": {
      "text/plain": [
       "0.0010481059039193497"
      ]
     },
     "metadata": {},
     "output_type": "display_data"
    },
    {
     "name": "stderr",
     "output_type": "stream",
     "text": [
      "\r",
      "\u001b[32mloss: 0.00105:   8%|███▏                                     |  ETA: 0:17:52\u001b[39m"
     ]
    },
    {
     "data": {
      "text/plain": [
       "0.0008862325316840725"
      ]
     },
     "metadata": {},
     "output_type": "display_data"
    },
    {
     "name": "stderr",
     "output_type": "stream",
     "text": [
      "\r",
      "\u001b[32mloss: 0.000886:   8%|███▎                                     |  ETA: 0:17:21\u001b[39m"
     ]
    },
    {
     "data": {
      "text/plain": [
       "0.000841609149119904"
      ]
     },
     "metadata": {},
     "output_type": "display_data"
    },
    {
     "name": "stderr",
     "output_type": "stream",
     "text": [
      "\r",
      "\u001b[32mloss: 0.000842:   8%|███▌                                     |  ETA: 0:16:54\u001b[39m"
     ]
    },
    {
     "data": {
      "text/plain": [
       "0.0008343716879153362"
      ]
     },
     "metadata": {},
     "output_type": "display_data"
    },
    {
     "name": "stderr",
     "output_type": "stream",
     "text": [
      "\r",
      "\u001b[32mloss: 0.000834:   9%|███▊                                     |  ETA: 0:16:31\u001b[39m"
     ]
    },
    {
     "data": {
      "text/plain": [
       "0.0007869975052017253"
      ]
     },
     "metadata": {},
     "output_type": "display_data"
    },
    {
     "name": "stderr",
     "output_type": "stream",
     "text": [
      "\r",
      "\u001b[32mloss: 0.000787:  10%|███▉                                     |  ETA: 0:16:09\u001b[39m"
     ]
    },
    {
     "data": {
      "text/plain": [
       "0.0006827538356901641"
      ]
     },
     "metadata": {},
     "output_type": "display_data"
    },
    {
     "name": "stderr",
     "output_type": "stream",
     "text": [
      "\r",
      "\u001b[32mloss: 0.000683:  10%|████▏                                    |  ETA: 0:15:48\u001b[39m"
     ]
    },
    {
     "data": {
      "text/plain": [
       "0.000557304944891257"
      ]
     },
     "metadata": {},
     "output_type": "display_data"
    },
    {
     "name": "stderr",
     "output_type": "stream",
     "text": [
      "\r",
      "\u001b[32mloss: 0.000557:  10%|████▎                                    |  ETA: 0:15:31\u001b[39m"
     ]
    },
    {
     "data": {
      "text/plain": [
       "0.0004573943558625615"
      ]
     },
     "metadata": {},
     "output_type": "display_data"
    },
    {
     "name": "stderr",
     "output_type": "stream",
     "text": [
      "\r",
      "\u001b[32mloss: 0.000457:  11%|████▌                                    |  ETA: 0:15:13\u001b[39m"
     ]
    },
    {
     "data": {
      "text/plain": [
       "0.0003985376439459287"
      ]
     },
     "metadata": {},
     "output_type": "display_data"
    },
    {
     "name": "stderr",
     "output_type": "stream",
     "text": [
      "\r",
      "\u001b[32mloss: 0.000399:  12%|████▊                                    |  ETA: 0:14:57\u001b[39m"
     ]
    },
    {
     "data": {
      "text/plain": [
       "0.00037509775239641385"
      ]
     },
     "metadata": {},
     "output_type": "display_data"
    },
    {
     "name": "stderr",
     "output_type": "stream",
     "text": [
      "\r",
      "\u001b[32mloss: 0.000375:  12%|████▉                                    |  ETA: 0:14:43\u001b[39m"
     ]
    },
    {
     "data": {
      "text/plain": [
       "0.00037726218113220966"
      ]
     },
     "metadata": {},
     "output_type": "display_data"
    },
    {
     "name": "stderr",
     "output_type": "stream",
     "text": [
      "\r",
      "\u001b[32mloss: 0.000377:  12%|█████▏                                   |  ETA: 0:14:29\u001b[39m"
     ]
    },
    {
     "data": {
      "text/plain": [
       "0.0003916877679444042"
      ]
     },
     "metadata": {},
     "output_type": "display_data"
    },
    {
     "name": "stderr",
     "output_type": "stream",
     "text": [
      "\r",
      "\u001b[32mloss: 0.000392:  13%|█████▍                                   |  ETA: 0:14:15\u001b[39m"
     ]
    },
    {
     "data": {
      "text/plain": [
       "0.00040857064158217327"
      ]
     },
     "metadata": {},
     "output_type": "display_data"
    },
    {
     "name": "stderr",
     "output_type": "stream",
     "text": [
      "\r",
      "\u001b[32mloss: 0.000409:  14%|█████▌                                   |  ETA: 0:14:02\u001b[39m"
     ]
    },
    {
     "data": {
      "text/plain": [
       "0.0004222171351102588"
      ]
     },
     "metadata": {},
     "output_type": "display_data"
    },
    {
     "name": "stderr",
     "output_type": "stream",
     "text": [
      "\r",
      "\u001b[32mloss: 0.000422:  14%|█████▊                                   |  ETA: 0:13:51\u001b[39m"
     ]
    },
    {
     "data": {
      "text/plain": [
       "0.0004463816190423131"
      ]
     },
     "metadata": {},
     "output_type": "display_data"
    },
    {
     "name": "stderr",
     "output_type": "stream",
     "text": [
      "\r",
      "\u001b[32mloss: 0.000446:  14%|██████                                   |  ETA: 0:13:39\u001b[39m"
     ]
    },
    {
     "data": {
      "text/plain": [
       "0.000556398730282126"
      ]
     },
     "metadata": {},
     "output_type": "display_data"
    },
    {
     "name": "stderr",
     "output_type": "stream",
     "text": [
      "\r",
      "\u001b[32mloss: 0.000556:  15%|██████▏                                  |  ETA: 0:13:29\u001b[39m"
     ]
    },
    {
     "data": {
      "text/plain": [
       "0.0005387351777699223"
      ]
     },
     "metadata": {},
     "output_type": "display_data"
    },
    {
     "name": "stderr",
     "output_type": "stream",
     "text": [
      "\r",
      "\u001b[32mloss: 0.000539:  16%|██████▍                                  |  ETA: 0:13:21\u001b[39m"
     ]
    },
    {
     "data": {
      "text/plain": [
       "0.0002947136496231906"
      ]
     },
     "metadata": {},
     "output_type": "display_data"
    },
    {
     "name": "stderr",
     "output_type": "stream",
     "text": [
      "\r",
      "\u001b[32mloss: 0.000295:  16%|██████▌                                  |  ETA: 0:13:10\u001b[39m"
     ]
    },
    {
     "data": {
      "text/plain": [
       "0.0004120237135794014"
      ]
     },
     "metadata": {},
     "output_type": "display_data"
    },
    {
     "name": "stderr",
     "output_type": "stream",
     "text": [
      "\r",
      "\u001b[32mloss: 0.000412:  16%|██████▊                                  |  ETA: 0:13:00\u001b[39m"
     ]
    },
    {
     "data": {
      "text/plain": [
       "0.0002809112891100085"
      ]
     },
     "metadata": {},
     "output_type": "display_data"
    },
    {
     "name": "stderr",
     "output_type": "stream",
     "text": [
      "\r",
      "\u001b[32mloss: 0.000281:  17%|███████                                  |  ETA: 0:12:50\u001b[39m"
     ]
    },
    {
     "data": {
      "text/plain": [
       "0.0003216250534023857"
      ]
     },
     "metadata": {},
     "output_type": "display_data"
    },
    {
     "name": "stderr",
     "output_type": "stream",
     "text": [
      "\r",
      "\u001b[32mloss: 0.000322:  18%|███████▏                                 |  ETA: 0:12:41\u001b[39m"
     ]
    },
    {
     "data": {
      "text/plain": [
       "0.00027132841026400456"
      ]
     },
     "metadata": {},
     "output_type": "display_data"
    },
    {
     "name": "stderr",
     "output_type": "stream",
     "text": [
      "\r",
      "\u001b[32mloss: 0.000271:  18%|███████▍                                 |  ETA: 0:12:31\u001b[39m"
     ]
    },
    {
     "data": {
      "text/plain": [
       "0.00027788679940954353"
      ]
     },
     "metadata": {},
     "output_type": "display_data"
    },
    {
     "name": "stderr",
     "output_type": "stream",
     "text": [
      "\r",
      "\u001b[32mloss: 0.000278:  18%|███████▋                                 |  ETA: 0:12:22\u001b[39m"
     ]
    },
    {
     "data": {
      "text/plain": [
       "0.00024476683118734854"
      ]
     },
     "metadata": {},
     "output_type": "display_data"
    },
    {
     "name": "stderr",
     "output_type": "stream",
     "text": [
      "\r",
      "\u001b[32mloss: 0.000245:  19%|███████▊                                 |  ETA: 0:12:14\u001b[39m"
     ]
    },
    {
     "data": {
      "text/plain": [
       "0.00025833121499374556"
      ]
     },
     "metadata": {},
     "output_type": "display_data"
    },
    {
     "name": "stderr",
     "output_type": "stream",
     "text": [
      "\r",
      "\u001b[32mloss: 0.000258:  20%|████████                                 |  ETA: 0:12:05\u001b[39m"
     ]
    },
    {
     "data": {
      "text/plain": [
       "0.0002205864766153809"
      ]
     },
     "metadata": {},
     "output_type": "display_data"
    },
    {
     "name": "stderr",
     "output_type": "stream",
     "text": [
      "\r",
      "\u001b[32mloss: 0.000221:  20%|████████▎                                |  ETA: 0:11:57\u001b[39m"
     ]
    },
    {
     "data": {
      "text/plain": [
       "0.00024793862456817806"
      ]
     },
     "metadata": {},
     "output_type": "display_data"
    },
    {
     "name": "stderr",
     "output_type": "stream",
     "text": [
      "\r",
      "\u001b[32mloss: 0.000248:  20%|████████▍                                |  ETA: 0:11:49\u001b[39m"
     ]
    },
    {
     "data": {
      "text/plain": [
       "0.0002018033294319821"
      ]
     },
     "metadata": {},
     "output_type": "display_data"
    },
    {
     "name": "stderr",
     "output_type": "stream",
     "text": [
      "\r",
      "\u001b[32mloss: 0.000202:  21%|████████▋                                |  ETA: 0:11:42\u001b[39m"
     ]
    },
    {
     "data": {
      "text/plain": [
       "0.0002380837323414653"
      ]
     },
     "metadata": {},
     "output_type": "display_data"
    },
    {
     "name": "stderr",
     "output_type": "stream",
     "text": [
      "\r",
      "\u001b[32mloss: 0.000238:  22%|████████▉                                |  ETA: 0:11:34\u001b[39m"
     ]
    },
    {
     "data": {
      "text/plain": [
       "0.00019703503538437417"
      ]
     },
     "metadata": {},
     "output_type": "display_data"
    },
    {
     "name": "stderr",
     "output_type": "stream",
     "text": [
      "\r",
      "\u001b[32mloss: 0.000197:  22%|█████████                                |  ETA: 0:11:27\u001b[39m"
     ]
    },
    {
     "data": {
      "text/plain": [
       "0.0002350098401109335"
      ]
     },
     "metadata": {},
     "output_type": "display_data"
    },
    {
     "name": "stderr",
     "output_type": "stream",
     "text": [
      "\r",
      "\u001b[32mloss: 0.000235:  22%|█████████▎                               |  ETA: 0:11:20\u001b[39m"
     ]
    },
    {
     "data": {
      "text/plain": [
       "0.00020187645353075823"
      ]
     },
     "metadata": {},
     "output_type": "display_data"
    },
    {
     "name": "stderr",
     "output_type": "stream",
     "text": [
      "\r",
      "\u001b[32mloss: 0.000202:  23%|█████████▍                               |  ETA: 0:11:13\u001b[39m"
     ]
    },
    {
     "data": {
      "text/plain": [
       "0.00023013421073869722"
      ]
     },
     "metadata": {},
     "output_type": "display_data"
    },
    {
     "name": "stderr",
     "output_type": "stream",
     "text": [
      "\r",
      "\u001b[32mloss: 0.00023:  24%|█████████▋                               |  ETA: 0:11:06\u001b[39m"
     ]
    },
    {
     "data": {
      "text/plain": [
       "0.00019698639501086745"
      ]
     },
     "metadata": {},
     "output_type": "display_data"
    },
    {
     "name": "stderr",
     "output_type": "stream",
     "text": [
      "\r",
      "\u001b[32mloss: 0.000197:  24%|█████████▉                               |  ETA: 0:11:00\u001b[39m"
     ]
    },
    {
     "data": {
      "text/plain": [
       "0.00021459686614377915"
      ]
     },
     "metadata": {},
     "output_type": "display_data"
    },
    {
     "name": "stderr",
     "output_type": "stream",
     "text": [
      "\r",
      "\u001b[32mloss: 0.000215:  24%|██████████                               |  ETA: 0:10:54\u001b[39m"
     ]
    },
    {
     "data": {
      "text/plain": [
       "0.00018133632293881874"
      ]
     },
     "metadata": {},
     "output_type": "display_data"
    },
    {
     "name": "stderr",
     "output_type": "stream",
     "text": [
      "\r",
      "\u001b[32mloss: 0.000181:  25%|██████████▎                              |  ETA: 0:10:48\u001b[39m"
     ]
    },
    {
     "data": {
      "text/plain": [
       "0.00019918223890158515"
      ]
     },
     "metadata": {},
     "output_type": "display_data"
    },
    {
     "name": "stderr",
     "output_type": "stream",
     "text": [
      "\r",
      "\u001b[32mloss: 0.000199:  26%|██████████▌                              |  ETA: 0:10:41\u001b[39m"
     ]
    },
    {
     "data": {
      "text/plain": [
       "0.0001695259338418964"
      ]
     },
     "metadata": {},
     "output_type": "display_data"
    },
    {
     "name": "stderr",
     "output_type": "stream",
     "text": [
      "\r",
      "\u001b[32mloss: 0.00017:  26%|██████████▋                              |  ETA: 0:10:34\u001b[39m"
     ]
    },
    {
     "data": {
      "text/plain": [
       "0.0001840637818020241"
      ]
     },
     "metadata": {},
     "output_type": "display_data"
    },
    {
     "name": "stderr",
     "output_type": "stream",
     "text": [
      "\r",
      "\u001b[32mloss: 0.000184:  26%|██████████▉                              |  ETA: 0:10:27\u001b[39m"
     ]
    },
    {
     "data": {
      "text/plain": [
       "0.0001635613633226285"
      ]
     },
     "metadata": {},
     "output_type": "display_data"
    },
    {
     "name": "stderr",
     "output_type": "stream",
     "text": [
      "\r",
      "\u001b[32mloss: 0.000164:  27%|███████████▏                             |  ETA: 0:10:21\u001b[39m"
     ]
    },
    {
     "data": {
      "text/plain": [
       "0.0001651420342199117"
      ]
     },
     "metadata": {},
     "output_type": "display_data"
    },
    {
     "name": "stderr",
     "output_type": "stream",
     "text": [
      "\r",
      "\u001b[32mloss: 0.000165:  28%|███████████▎                             |  ETA: 0:10:15\u001b[39m"
     ]
    },
    {
     "data": {
      "text/plain": [
       "0.00016659771313243255"
      ]
     },
     "metadata": {},
     "output_type": "display_data"
    },
    {
     "name": "stderr",
     "output_type": "stream",
     "text": [
      "\r",
      "\u001b[32mloss: 0.000167:  28%|███████████▌                             |  ETA: 0:10:09\u001b[39m"
     ]
    },
    {
     "data": {
      "text/plain": [
       "0.00014953495730196664"
      ]
     },
     "metadata": {},
     "output_type": "display_data"
    },
    {
     "name": "stderr",
     "output_type": "stream",
     "text": [
      "\r",
      "\u001b[32mloss: 0.00015:  28%|███████████▋                             |  ETA: 0:10:03\u001b[39m"
     ]
    },
    {
     "data": {
      "text/plain": [
       "0.00016151394211760817"
      ]
     },
     "metadata": {},
     "output_type": "display_data"
    },
    {
     "name": "stderr",
     "output_type": "stream",
     "text": [
      "\r",
      "\u001b[32mloss: 0.000162:  29%|███████████▉                             |  ETA: 0:09:58\u001b[39m"
     ]
    },
    {
     "data": {
      "text/plain": [
       "0.00014984424089448112"
      ]
     },
     "metadata": {},
     "output_type": "display_data"
    },
    {
     "name": "stderr",
     "output_type": "stream",
     "text": [
      "\r",
      "\u001b[32mloss: 0.00015:  30%|████████████▏                            |  ETA: 0:09:52\u001b[39m"
     ]
    },
    {
     "data": {
      "text/plain": [
       "0.00014170846678496218"
      ]
     },
     "metadata": {},
     "output_type": "display_data"
    },
    {
     "name": "stderr",
     "output_type": "stream",
     "text": [
      "\r",
      "\u001b[32mloss: 0.000142:  30%|████████████▎                            |  ETA: 0:09:47\u001b[39m"
     ]
    },
    {
     "data": {
      "text/plain": [
       "0.00015176942010697303"
      ]
     },
     "metadata": {},
     "output_type": "display_data"
    },
    {
     "name": "stderr",
     "output_type": "stream",
     "text": [
      "\r",
      "\u001b[32mloss: 0.000152:  30%|████████████▌                            |  ETA: 0:09:42\u001b[39m"
     ]
    },
    {
     "data": {
      "text/plain": [
       "0.00014295406293740598"
      ]
     },
     "metadata": {},
     "output_type": "display_data"
    },
    {
     "name": "stderr",
     "output_type": "stream",
     "text": [
      "\r",
      "\u001b[32mloss: 0.000143:  31%|████████████▊                            |  ETA: 0:09:36\u001b[39m"
     ]
    },
    {
     "data": {
      "text/plain": [
       "0.00013473648354533907"
      ]
     },
     "metadata": {},
     "output_type": "display_data"
    },
    {
     "name": "stderr",
     "output_type": "stream",
     "text": [
      "\r",
      "\u001b[32mloss: 0.000135:  32%|████████████▉                            |  ETA: 0:09:31\u001b[39m"
     ]
    },
    {
     "data": {
      "text/plain": [
       "0.00014128510026978347"
      ]
     },
     "metadata": {},
     "output_type": "display_data"
    },
    {
     "name": "stderr",
     "output_type": "stream",
     "text": [
      "\r",
      "\u001b[32mloss: 0.000141:  32%|█████████████▏                           |  ETA: 0:09:26\u001b[39m"
     ]
    },
    {
     "data": {
      "text/plain": [
       "0.00013799958985316607"
      ]
     },
     "metadata": {},
     "output_type": "display_data"
    },
    {
     "name": "stderr",
     "output_type": "stream",
     "text": [
      "\r",
      "\u001b[32mloss: 0.000138:  32%|█████████████▍                           |  ETA: 0:09:21\u001b[39m"
     ]
    },
    {
     "data": {
      "text/plain": [
       "0.00012621930464717934"
      ]
     },
     "metadata": {},
     "output_type": "display_data"
    },
    {
     "name": "stderr",
     "output_type": "stream",
     "text": [
      "\r",
      "\u001b[32mloss: 0.000126:  33%|█████████████▌                           |  ETA: 0:09:16\u001b[39m"
     ]
    },
    {
     "data": {
      "text/plain": [
       "0.00012473935972678873"
      ]
     },
     "metadata": {},
     "output_type": "display_data"
    },
    {
     "name": "stderr",
     "output_type": "stream",
     "text": [
      "\r",
      "\u001b[32mloss: 0.000125:  34%|█████████████▊                           |  ETA: 0:09:11\u001b[39m"
     ]
    },
    {
     "data": {
      "text/plain": [
       "0.00012901984976565473"
      ]
     },
     "metadata": {},
     "output_type": "display_data"
    },
    {
     "name": "stderr",
     "output_type": "stream",
     "text": [
      "\r",
      "\u001b[32mloss: 0.000129:  34%|██████████████                           |  ETA: 0:09:05\u001b[39m"
     ]
    },
    {
     "data": {
      "text/plain": [
       "0.00012665350222107463"
      ]
     },
     "metadata": {},
     "output_type": "display_data"
    },
    {
     "name": "stderr",
     "output_type": "stream",
     "text": [
      "\r",
      "\u001b[32mloss: 0.000127:  34%|██████████████▏                          |  ETA: 0:09:01\u001b[39m"
     ]
    },
    {
     "data": {
      "text/plain": [
       "0.00011881023305804206"
      ]
     },
     "metadata": {},
     "output_type": "display_data"
    },
    {
     "name": "stderr",
     "output_type": "stream",
     "text": [
      "\r",
      "\u001b[32mloss: 0.000119:  35%|██████████████▍                          |  ETA: 0:08:56\u001b[39m"
     ]
    },
    {
     "data": {
      "text/plain": [
       "0.00011336922886329148"
      ]
     },
     "metadata": {},
     "output_type": "display_data"
    },
    {
     "name": "stderr",
     "output_type": "stream",
     "text": [
      "\r",
      "\u001b[32mloss: 0.000113:  36%|██████████████▌                          |  ETA: 0:08:51\u001b[39m"
     ]
    },
    {
     "data": {
      "text/plain": [
       "0.0001129086492213105"
      ]
     },
     "metadata": {},
     "output_type": "display_data"
    },
    {
     "name": "stderr",
     "output_type": "stream",
     "text": [
      "\r",
      "\u001b[32mloss: 0.000113:  36%|██████████████▊                          |  ETA: 0:08:46\u001b[39m"
     ]
    },
    {
     "data": {
      "text/plain": [
       "0.00011658609188458513"
      ]
     },
     "metadata": {},
     "output_type": "display_data"
    },
    {
     "name": "stderr",
     "output_type": "stream",
     "text": [
      "\r",
      "\u001b[32mloss: 0.000117:  36%|███████████████                          |  ETA: 0:08:41\u001b[39m"
     ]
    },
    {
     "data": {
      "text/plain": [
       "0.00012633823149599266"
      ]
     },
     "metadata": {},
     "output_type": "display_data"
    },
    {
     "name": "stderr",
     "output_type": "stream",
     "text": [
      "\r",
      "\u001b[32mloss: 0.000126:  37%|███████████████▏                         |  ETA: 0:08:36\u001b[39m"
     ]
    },
    {
     "data": {
      "text/plain": [
       "0.00014822400486735887"
      ]
     },
     "metadata": {},
     "output_type": "display_data"
    },
    {
     "name": "stderr",
     "output_type": "stream",
     "text": [
      "\r",
      "\u001b[32mloss: 0.000148:  38%|███████████████▍                         |  ETA: 0:08:31\u001b[39m"
     ]
    },
    {
     "data": {
      "text/plain": [
       "0.00017867324056908274"
      ]
     },
     "metadata": {},
     "output_type": "display_data"
    },
    {
     "name": "stderr",
     "output_type": "stream",
     "text": [
      "\r",
      "\u001b[32mloss: 0.000179:  38%|███████████████▋                         |  ETA: 0:08:26\u001b[39m"
     ]
    },
    {
     "data": {
      "text/plain": [
       "0.0001722151174163855"
      ]
     },
     "metadata": {},
     "output_type": "display_data"
    },
    {
     "name": "stderr",
     "output_type": "stream",
     "text": [
      "\r",
      "\u001b[32mloss: 0.000172:  38%|███████████████▊                         |  ETA: 0:08:21\u001b[39m"
     ]
    },
    {
     "data": {
      "text/plain": [
       "0.00011410112541909712"
      ]
     },
     "metadata": {},
     "output_type": "display_data"
    },
    {
     "name": "stderr",
     "output_type": "stream",
     "text": [
      "\r",
      "\u001b[32mloss: 0.000114:  39%|████████████████                         |  ETA: 0:08:17\u001b[39m"
     ]
    },
    {
     "data": {
      "text/plain": [
       "9.738454940588781e-5"
      ]
     },
     "metadata": {},
     "output_type": "display_data"
    },
    {
     "name": "stderr",
     "output_type": "stream",
     "text": [
      "\r",
      "\u001b[32mloss: 9.74e-05:  40%|████████████████▎                        |  ETA: 0:08:12\u001b[39m"
     ]
    },
    {
     "data": {
      "text/plain": [
       "0.0001400133263018688"
      ]
     },
     "metadata": {},
     "output_type": "display_data"
    },
    {
     "name": "stderr",
     "output_type": "stream",
     "text": [
      "\r",
      "\u001b[32mloss: 0.00014:  40%|████████████████▍                        |  ETA: 0:08:07\u001b[39m"
     ]
    },
    {
     "data": {
      "text/plain": [
       "0.00015162875779139995"
      ]
     },
     "metadata": {},
     "output_type": "display_data"
    },
    {
     "name": "stderr",
     "output_type": "stream",
     "text": [
      "\r",
      "\u001b[32mloss: 0.000152:  40%|████████████████▋                        |  ETA: 0:08:02\u001b[39m"
     ]
    },
    {
     "data": {
      "text/plain": [
       "0.00010424308573675489"
      ]
     },
     "metadata": {},
     "output_type": "display_data"
    },
    {
     "name": "stderr",
     "output_type": "stream",
     "text": [
      "\r",
      "\u001b[32mloss: 0.000104:  41%|████████████████▊                        |  ETA: 0:07:58\u001b[39m"
     ]
    },
    {
     "data": {
      "text/plain": [
       "8.900769141106935e-5"
      ]
     },
     "metadata": {},
     "output_type": "display_data"
    },
    {
     "name": "stderr",
     "output_type": "stream",
     "text": [
      "\r",
      "\u001b[32mloss: 8.9e-05:  42%|█████████████████                        |  ETA: 0:07:53\u001b[39m"
     ]
    },
    {
     "data": {
      "text/plain": [
       "0.0001256997045118169"
      ]
     },
     "metadata": {},
     "output_type": "display_data"
    },
    {
     "name": "stderr",
     "output_type": "stream",
     "text": [
      "\r",
      "\u001b[32mloss: 0.000126:  42%|█████████████████▎                       |  ETA: 0:07:48\u001b[39m"
     ]
    },
    {
     "data": {
      "text/plain": [
       "0.00013767185326685194"
      ]
     },
     "metadata": {},
     "output_type": "display_data"
    },
    {
     "name": "stderr",
     "output_type": "stream",
     "text": [
      "\r",
      "\u001b[32mloss: 0.000138:  42%|█████████████████▍                       |  ETA: 0:07:44\u001b[39m"
     ]
    },
    {
     "data": {
      "text/plain": [
       "9.929346151693608e-5"
      ]
     },
     "metadata": {},
     "output_type": "display_data"
    },
    {
     "name": "stderr",
     "output_type": "stream",
     "text": [
      "\r",
      "\u001b[32mloss: 9.93e-05:  43%|█████████████████▋                       |  ETA: 0:07:39\u001b[39m"
     ]
    },
    {
     "data": {
      "text/plain": [
       "7.833570101567489e-5"
      ]
     },
     "metadata": {},
     "output_type": "display_data"
    },
    {
     "name": "stderr",
     "output_type": "stream",
     "text": [
      "\r",
      "\u001b[32mloss: 7.83e-05:  44%|█████████████████▉                       |  ETA: 0:07:35\u001b[39m"
     ]
    },
    {
     "data": {
      "text/plain": [
       "0.00010417667228779237"
      ]
     },
     "metadata": {},
     "output_type": "display_data"
    },
    {
     "name": "stderr",
     "output_type": "stream",
     "text": [
      "\r",
      "\u001b[32mloss: 0.000104:  44%|██████████████████                       |  ETA: 0:07:30\u001b[39m"
     ]
    },
    {
     "data": {
      "text/plain": [
       "0.00013079604265442413"
      ]
     },
     "metadata": {},
     "output_type": "display_data"
    },
    {
     "name": "stderr",
     "output_type": "stream",
     "text": [
      "\r",
      "\u001b[32mloss: 0.000131:  44%|██████████████████▎                      |  ETA: 0:07:26\u001b[39m"
     ]
    },
    {
     "data": {
      "text/plain": [
       "0.00011497345908395573"
      ]
     },
     "metadata": {},
     "output_type": "display_data"
    },
    {
     "name": "stderr",
     "output_type": "stream",
     "text": [
      "\r",
      "\u001b[32mloss: 0.000115:  45%|██████████████████▌                      |  ETA: 0:07:22\u001b[39m"
     ]
    },
    {
     "data": {
      "text/plain": [
       "7.790480731983962e-5"
      ]
     },
     "metadata": {},
     "output_type": "display_data"
    },
    {
     "name": "stderr",
     "output_type": "stream",
     "text": [
      "\r",
      "\u001b[32mloss: 7.79e-05:  46%|██████████████████▋                      |  ETA: 0:07:18\u001b[39m"
     ]
    },
    {
     "data": {
      "text/plain": [
       "7.282124697916004e-5"
      ]
     },
     "metadata": {},
     "output_type": "display_data"
    },
    {
     "name": "stderr",
     "output_type": "stream",
     "text": [
      "\r",
      "\u001b[32mloss: 7.28e-05:  46%|██████████████████▉                      |  ETA: 0:07:13\u001b[39m"
     ]
    },
    {
     "data": {
      "text/plain": [
       "0.00010015372949823131"
      ]
     },
     "metadata": {},
     "output_type": "display_data"
    },
    {
     "name": "stderr",
     "output_type": "stream",
     "text": [
      "\r",
      "\u001b[32mloss: 0.0001:  46%|███████████████████▏                     |  ETA: 0:07:09\u001b[39m"
     ]
    },
    {
     "data": {
      "text/plain": [
       "0.00012418584293527601"
      ]
     },
     "metadata": {},
     "output_type": "display_data"
    },
    {
     "name": "stderr",
     "output_type": "stream",
     "text": [
      "\r",
      "\u001b[32mloss: 0.000124:  47%|███████████████████▎                     |  ETA: 0:07:05\u001b[39m"
     ]
    },
    {
     "data": {
      "text/plain": [
       "0.00011251592326289028"
      ]
     },
     "metadata": {},
     "output_type": "display_data"
    },
    {
     "name": "stderr",
     "output_type": "stream",
     "text": [
      "\r",
      "\u001b[32mloss: 0.000113:  48%|███████████████████▌                     |  ETA: 0:07:00\u001b[39m"
     ]
    },
    {
     "data": {
      "text/plain": [
       "7.588087182597292e-5"
      ]
     },
     "metadata": {},
     "output_type": "display_data"
    },
    {
     "name": "stderr",
     "output_type": "stream",
     "text": [
      "\r",
      "\u001b[32mloss: 7.59e-05:  48%|███████████████████▋                     |  ETA: 0:06:56\u001b[39m"
     ]
    },
    {
     "data": {
      "text/plain": [
       "6.181921327197415e-5"
      ]
     },
     "metadata": {},
     "output_type": "display_data"
    },
    {
     "name": "stderr",
     "output_type": "stream",
     "text": [
      "\r",
      "\u001b[32mloss: 6.18e-05:  48%|███████████████████▉                     |  ETA: 0:06:52\u001b[39m"
     ]
    },
    {
     "data": {
      "text/plain": [
       "8.25761956306792e-5"
      ]
     },
     "metadata": {},
     "output_type": "display_data"
    },
    {
     "name": "stderr",
     "output_type": "stream",
     "text": [
      "\r",
      "\u001b[32mloss: 8.26e-05:  49%|████████████████████▏                    |  ETA: 0:06:48\u001b[39m"
     ]
    },
    {
     "data": {
      "text/plain": [
       "0.00011521201099640166"
      ]
     },
     "metadata": {},
     "output_type": "display_data"
    },
    {
     "name": "stderr",
     "output_type": "stream",
     "text": [
      "\r",
      "\u001b[32mloss: 0.000115:  50%|████████████████████▎                    |  ETA: 0:06:43\u001b[39m"
     ]
    },
    {
     "data": {
      "text/plain": [
       "0.0001293775379735962"
      ]
     },
     "metadata": {},
     "output_type": "display_data"
    },
    {
     "name": "stderr",
     "output_type": "stream",
     "text": [
      "\r",
      "\u001b[32mloss: 0.000129:  50%|████████████████████▌                    |  ETA: 0:06:39\u001b[39m"
     ]
    },
    {
     "data": {
      "text/plain": [
       "0.00010109943025327084"
      ]
     },
     "metadata": {},
     "output_type": "display_data"
    },
    {
     "name": "stderr",
     "output_type": "stream",
     "text": [
      "\r",
      "\u001b[32mloss: 0.000101:  50%|████████████████████▊                    |  ETA: 0:06:35\u001b[39m"
     ]
    },
    {
     "data": {
      "text/plain": [
       "6.051134455375973e-5"
      ]
     },
     "metadata": {},
     "output_type": "display_data"
    },
    {
     "name": "stderr",
     "output_type": "stream",
     "text": [
      "\r",
      "\u001b[32mloss: 6.05e-05:  51%|████████████████████▉                    |  ETA: 0:06:30\u001b[39m"
     ]
    },
    {
     "data": {
      "text/plain": [
       "5.847899352851016e-5"
      ]
     },
     "metadata": {},
     "output_type": "display_data"
    },
    {
     "name": "stderr",
     "output_type": "stream",
     "text": [
      "\r",
      "\u001b[32mloss: 5.85e-05:  52%|█████████████████████▏                   |  ETA: 0:06:26\u001b[39m"
     ]
    },
    {
     "data": {
      "text/plain": [
       "9.096005072706248e-5"
      ]
     },
     "metadata": {},
     "output_type": "display_data"
    },
    {
     "name": "stderr",
     "output_type": "stream",
     "text": [
      "\r",
      "\u001b[32mloss: 9.1e-05:  52%|█████████████████████▍                   |  ETA: 0:06:22\u001b[39m"
     ]
    },
    {
     "data": {
      "text/plain": [
       "0.00012330531461657301"
      ]
     },
     "metadata": {},
     "output_type": "display_data"
    },
    {
     "name": "stderr",
     "output_type": "stream",
     "text": [
      "\r",
      "\u001b[32mloss: 0.000123:  52%|█████████████████████▌                   |  ETA: 0:06:17\u001b[39m"
     ]
    },
    {
     "data": {
      "text/plain": [
       "0.00011635489761374629"
      ]
     },
     "metadata": {},
     "output_type": "display_data"
    },
    {
     "name": "stderr",
     "output_type": "stream",
     "text": [
      "\r",
      "\u001b[32mloss: 0.000116:  53%|█████████████████████▊                   |  ETA: 0:06:13\u001b[39m"
     ]
    },
    {
     "data": {
      "text/plain": [
       "7.035754965301066e-5"
      ]
     },
     "metadata": {},
     "output_type": "display_data"
    },
    {
     "name": "stderr",
     "output_type": "stream",
     "text": [
      "\r",
      "\u001b[32mloss: 7.04e-05:  54%|█████████████████████▉                   |  ETA: 0:06:09\u001b[39m"
     ]
    },
    {
     "data": {
      "text/plain": [
       "4.809888856538436e-5"
      ]
     },
     "metadata": {},
     "output_type": "display_data"
    },
    {
     "name": "stderr",
     "output_type": "stream",
     "text": [
      "\r",
      "\u001b[32mloss: 4.81e-05:  54%|██████████████████████▏                  |  ETA: 0:06:05\u001b[39m"
     ]
    },
    {
     "data": {
      "text/plain": [
       "7.415203234018009e-5"
      ]
     },
     "metadata": {},
     "output_type": "display_data"
    },
    {
     "name": "stderr",
     "output_type": "stream",
     "text": [
      "\r",
      "\u001b[32mloss: 7.42e-05:  54%|██████████████████████▍                  |  ETA: 0:06:01\u001b[39m"
     ]
    },
    {
     "data": {
      "text/plain": [
       "0.00010901476116487174"
      ]
     },
     "metadata": {},
     "output_type": "display_data"
    },
    {
     "name": "stderr",
     "output_type": "stream",
     "text": [
      "\r",
      "\u001b[32mloss: 0.000109:  55%|██████████████████████▌                  |  ETA: 0:05:56\u001b[39m"
     ]
    },
    {
     "data": {
      "text/plain": [
       "0.00010592760901317888"
      ]
     },
     "metadata": {},
     "output_type": "display_data"
    },
    {
     "name": "stderr",
     "output_type": "stream",
     "text": [
      "\r",
      "\u001b[32mloss: 0.000106:  56%|██████████████████████▊                  |  ETA: 0:05:52\u001b[39m"
     ]
    },
    {
     "data": {
      "text/plain": [
       "6.480859752144852e-5"
      ]
     },
     "metadata": {},
     "output_type": "display_data"
    },
    {
     "name": "stderr",
     "output_type": "stream",
     "text": [
      "\r",
      "\u001b[32mloss: 6.48e-05:  56%|███████████████████████                  |  ETA: 0:05:48\u001b[39m"
     ]
    },
    {
     "data": {
      "text/plain": [
       "4.380555613003878e-5"
      ]
     },
     "metadata": {},
     "output_type": "display_data"
    },
    {
     "name": "stderr",
     "output_type": "stream",
     "text": [
      "\r",
      "\u001b[32mloss: 4.38e-05:  56%|███████████████████████▏                 |  ETA: 0:05:44\u001b[39m"
     ]
    },
    {
     "data": {
      "text/plain": [
       "6.640457723960935e-5"
      ]
     },
     "metadata": {},
     "output_type": "display_data"
    },
    {
     "name": "stderr",
     "output_type": "stream",
     "text": [
      "\r",
      "\u001b[32mloss: 6.64e-05:  57%|███████████████████████▍                 |  ETA: 0:05:40\u001b[39m"
     ]
    },
    {
     "data": {
      "text/plain": [
       "9.978683601730154e-5"
      ]
     },
     "metadata": {},
     "output_type": "display_data"
    },
    {
     "name": "stderr",
     "output_type": "stream",
     "text": [
      "\r",
      "\u001b[32mloss: 9.98e-05:  58%|███████████████████████▋                 |  ETA: 0:05:36\u001b[39m"
     ]
    },
    {
     "data": {
      "text/plain": [
       "0.00010355144161167118"
      ]
     },
     "metadata": {},
     "output_type": "display_data"
    },
    {
     "name": "stderr",
     "output_type": "stream",
     "text": [
      "\r",
      "\u001b[32mloss: 0.000104:  58%|███████████████████████▊                 |  ETA: 0:05:32\u001b[39m"
     ]
    },
    {
     "data": {
      "text/plain": [
       "6.893649816674952e-5"
      ]
     },
     "metadata": {},
     "output_type": "display_data"
    },
    {
     "name": "stderr",
     "output_type": "stream",
     "text": [
      "\r",
      "\u001b[32mloss: 6.89e-05:  58%|████████████████████████                 |  ETA: 0:05:27\u001b[39m"
     ]
    },
    {
     "data": {
      "text/plain": [
       "4.08622689023197e-5"
      ]
     },
     "metadata": {},
     "output_type": "display_data"
    },
    {
     "name": "stderr",
     "output_type": "stream",
     "text": [
      "\r",
      "\u001b[32mloss: 4.09e-05:  59%|████████████████████████▎                |  ETA: 0:05:23\u001b[39m"
     ]
    },
    {
     "data": {
      "text/plain": [
       "5.198611762580185e-5"
      ]
     },
     "metadata": {},
     "output_type": "display_data"
    },
    {
     "name": "stderr",
     "output_type": "stream",
     "text": [
      "\r",
      "\u001b[32mloss: 5.2e-05:  60%|████████████████████████▍                |  ETA: 0:05:19\u001b[39m"
     ]
    },
    {
     "data": {
      "text/plain": [
       "8.377946994642116e-5"
      ]
     },
     "metadata": {},
     "output_type": "display_data"
    },
    {
     "name": "stderr",
     "output_type": "stream",
     "text": [
      "\r",
      "\u001b[32mloss: 8.38e-05:  60%|████████████████████████▋                |  ETA: 0:05:15\u001b[39m"
     ]
    },
    {
     "data": {
      "text/plain": [
       "0.00010277895677290871"
      ]
     },
     "metadata": {},
     "output_type": "display_data"
    },
    {
     "name": "stderr",
     "output_type": "stream",
     "text": [
      "\r",
      "\u001b[32mloss: 0.000103:  60%|████████████████████████▊                |  ETA: 0:05:11\u001b[39m"
     ]
    },
    {
     "data": {
      "text/plain": [
       "8.547339240294605e-5"
      ]
     },
     "metadata": {},
     "output_type": "display_data"
    },
    {
     "name": "stderr",
     "output_type": "stream",
     "text": [
      "\r",
      "\u001b[32mloss: 8.55e-05:  61%|█████████████████████████                |  ETA: 0:05:07\u001b[39m"
     ]
    },
    {
     "data": {
      "text/plain": [
       "4.9366868623224036e-5"
      ]
     },
     "metadata": {},
     "output_type": "display_data"
    },
    {
     "name": "stderr",
     "output_type": "stream",
     "text": [
      "\r",
      "\u001b[32mloss: 4.94e-05:  62%|█████████████████████████▎               |  ETA: 0:05:03\u001b[39m"
     ]
    },
    {
     "data": {
      "text/plain": [
       "3.881271462446989e-5"
      ]
     },
     "metadata": {},
     "output_type": "display_data"
    },
    {
     "name": "stderr",
     "output_type": "stream",
     "text": [
      "\r",
      "\u001b[32mloss: 3.88e-05:  62%|█████████████████████████▍               |  ETA: 0:04:59\u001b[39m"
     ]
    },
    {
     "data": {
      "text/plain": [
       "6.0541905824607056e-5"
      ]
     },
     "metadata": {},
     "output_type": "display_data"
    },
    {
     "name": "stderr",
     "output_type": "stream",
     "text": [
      "\r",
      "\u001b[32mloss: 6.05e-05:  62%|█████████████████████████▋               |  ETA: 0:04:55\u001b[39m"
     ]
    },
    {
     "data": {
      "text/plain": [
       "8.960980420624765e-5"
      ]
     },
     "metadata": {},
     "output_type": "display_data"
    },
    {
     "name": "stderr",
     "output_type": "stream",
     "text": [
      "\r",
      "\u001b[32mloss: 8.96e-05:  63%|█████████████████████████▉               |  ETA: 0:04:51\u001b[39m"
     ]
    },
    {
     "data": {
      "text/plain": [
       "9.798424292739583e-5"
      ]
     },
     "metadata": {},
     "output_type": "display_data"
    },
    {
     "name": "stderr",
     "output_type": "stream",
     "text": [
      "\r",
      "\u001b[32mloss: 9.8e-05:  64%|██████████████████████████               |  ETA: 0:04:47\u001b[39m"
     ]
    },
    {
     "data": {
      "text/plain": [
       "7.213242076886672e-5"
      ]
     },
     "metadata": {},
     "output_type": "display_data"
    },
    {
     "name": "stderr",
     "output_type": "stream",
     "text": [
      "\r",
      "\u001b[32mloss: 7.21e-05:  64%|██████████████████████████▎              |  ETA: 0:04:43\u001b[39m"
     ]
    },
    {
     "data": {
      "text/plain": [
       "4.0454082920859946e-5"
      ]
     },
     "metadata": {},
     "output_type": "display_data"
    },
    {
     "name": "stderr",
     "output_type": "stream",
     "text": [
      "\r",
      "\u001b[32mloss: 4.05e-05:  64%|██████████████████████████▌              |  ETA: 0:04:39\u001b[39m"
     ]
    },
    {
     "data": {
      "text/plain": [
       "3.916474376008949e-5"
      ]
     },
     "metadata": {},
     "output_type": "display_data"
    },
    {
     "name": "stderr",
     "output_type": "stream",
     "text": [
      "\r",
      "\u001b[32mloss: 3.92e-05:  65%|██████████████████████████▋              |  ETA: 0:04:35\u001b[39m"
     ]
    },
    {
     "data": {
      "text/plain": [
       "6.455127180515774e-5"
      ]
     },
     "metadata": {},
     "output_type": "display_data"
    },
    {
     "name": "stderr",
     "output_type": "stream",
     "text": [
      "\r",
      "\u001b[32mloss: 6.46e-05:  66%|██████████████████████████▉              |  ETA: 0:04:30\u001b[39m"
     ]
    },
    {
     "data": {
      "text/plain": [
       "9.070870220284633e-5"
      ]
     },
     "metadata": {},
     "output_type": "display_data"
    },
    {
     "name": "stderr",
     "output_type": "stream",
     "text": [
      "\r",
      "\u001b[32mloss: 9.07e-05:  66%|███████████████████████████              |  ETA: 0:04:26\u001b[39m"
     ]
    },
    {
     "data": {
      "text/plain": [
       "9.117678439451993e-5"
      ]
     },
     "metadata": {},
     "output_type": "display_data"
    },
    {
     "name": "stderr",
     "output_type": "stream",
     "text": [
      "\r",
      "\u001b[32mloss: 9.12e-05:  66%|███████████████████████████▎             |  ETA: 0:04:22\u001b[39m"
     ]
    },
    {
     "data": {
      "text/plain": [
       "6.13538560685356e-5"
      ]
     },
     "metadata": {},
     "output_type": "display_data"
    },
    {
     "name": "stderr",
     "output_type": "stream",
     "text": [
      "\r",
      "\u001b[32mloss: 6.14e-05:  67%|███████████████████████████▌             |  ETA: 0:04:18\u001b[39m"
     ]
    },
    {
     "data": {
      "text/plain": [
       "3.585760756408263e-5"
      ]
     },
     "metadata": {},
     "output_type": "display_data"
    },
    {
     "name": "stderr",
     "output_type": "stream",
     "text": [
      "\r",
      "\u001b[32mloss: 3.59e-05:  68%|███████████████████████████▋             |  ETA: 0:04:14\u001b[39m"
     ]
    },
    {
     "data": {
      "text/plain": [
       "4.169492203942582e-5"
      ]
     },
     "metadata": {},
     "output_type": "display_data"
    },
    {
     "name": "stderr",
     "output_type": "stream",
     "text": [
      "\r",
      "\u001b[32mloss: 4.17e-05:  68%|███████████████████████████▉             |  ETA: 0:04:10\u001b[39m"
     ]
    },
    {
     "data": {
      "text/plain": [
       "6.558402739642588e-5"
      ]
     },
     "metadata": {},
     "output_type": "display_data"
    },
    {
     "name": "stderr",
     "output_type": "stream",
     "text": [
      "\r",
      "\u001b[32mloss: 6.56e-05:  68%|████████████████████████████▏            |  ETA: 0:04:06\u001b[39m"
     ]
    },
    {
     "data": {
      "text/plain": [
       "8.455499732917815e-5"
      ]
     },
     "metadata": {},
     "output_type": "display_data"
    },
    {
     "name": "stderr",
     "output_type": "stream",
     "text": [
      "\r",
      "\u001b[32mloss: 8.46e-05:  69%|████████████████████████████▎            |  ETA: 0:04:02\u001b[39m"
     ]
    },
    {
     "data": {
      "text/plain": [
       "8.398440238011062e-5"
      ]
     },
     "metadata": {},
     "output_type": "display_data"
    },
    {
     "name": "stderr",
     "output_type": "stream",
     "text": [
      "\r",
      "\u001b[32mloss: 8.4e-05:  70%|████████████████████████████▌            |  ETA: 0:03:58\u001b[39m"
     ]
    },
    {
     "data": {
      "text/plain": [
       "6.19237749219792e-5"
      ]
     },
     "metadata": {},
     "output_type": "display_data"
    },
    {
     "name": "stderr",
     "output_type": "stream",
     "text": [
      "\r",
      "\u001b[32mloss: 6.19e-05:  70%|████████████████████████████▊            |  ETA: 0:03:54\u001b[39m"
     ]
    },
    {
     "data": {
      "text/plain": [
       "3.746647501934319e-5"
      ]
     },
     "metadata": {},
     "output_type": "display_data"
    },
    {
     "name": "stderr",
     "output_type": "stream",
     "text": [
      "\r",
      "\u001b[32mloss: 3.75e-05:  70%|████████████████████████████▉            |  ETA: 0:03:50\u001b[39m"
     ]
    },
    {
     "data": {
      "text/plain": [
       "3.633259296975666e-5"
      ]
     },
     "metadata": {},
     "output_type": "display_data"
    },
    {
     "name": "stderr",
     "output_type": "stream",
     "text": [
      "\r",
      "\u001b[32mloss: 3.63e-05:  71%|█████████████████████████████▏           |  ETA: 0:03:46\u001b[39m"
     ]
    },
    {
     "data": {
      "text/plain": [
       "5.8126447441964046e-5"
      ]
     },
     "metadata": {},
     "output_type": "display_data"
    },
    {
     "name": "stderr",
     "output_type": "stream",
     "text": [
      "\r",
      "\u001b[32mloss: 5.81e-05:  72%|█████████████████████████████▍           |  ETA: 0:03:42\u001b[39m"
     ]
    },
    {
     "data": {
      "text/plain": [
       "7.954590495273806e-5"
      ]
     },
     "metadata": {},
     "output_type": "display_data"
    },
    {
     "name": "stderr",
     "output_type": "stream",
     "text": [
      "\r",
      "\u001b[32mloss: 7.95e-05:  72%|█████████████████████████████▌           |  ETA: 0:03:38\u001b[39m"
     ]
    },
    {
     "data": {
      "text/plain": [
       "8.69979358526507e-5"
      ]
     },
     "metadata": {},
     "output_type": "display_data"
    },
    {
     "name": "stderr",
     "output_type": "stream",
     "text": [
      "\r",
      "\u001b[32mloss: 8.7e-05:  72%|█████████████████████████████▊           |  ETA: 0:03:34\u001b[39m"
     ]
    },
    {
     "data": {
      "text/plain": [
       "7.650584217344658e-5"
      ]
     },
     "metadata": {},
     "output_type": "display_data"
    },
    {
     "name": "stderr",
     "output_type": "stream",
     "text": [
      "\r",
      "\u001b[32mloss: 7.65e-05:  73%|█████████████████████████████▉           |  ETA: 0:03:30\u001b[39m"
     ]
    },
    {
     "data": {
      "text/plain": [
       "4.8183633097664824e-5"
      ]
     },
     "metadata": {},
     "output_type": "display_data"
    },
    {
     "name": "stderr",
     "output_type": "stream",
     "text": [
      "\r",
      "\u001b[32mloss: 4.82e-05:  74%|██████████████████████████████▏          |  ETA: 0:03:26\u001b[39m"
     ]
    },
    {
     "data": {
      "text/plain": [
       "3.12513479965304e-5"
      ]
     },
     "metadata": {},
     "output_type": "display_data"
    },
    {
     "name": "stderr",
     "output_type": "stream",
     "text": [
      "\r",
      "\u001b[32mloss: 3.13e-05:  74%|██████████████████████████████▍          |  ETA: 0:03:22\u001b[39m"
     ]
    },
    {
     "data": {
      "text/plain": [
       "4.502131596950676e-5"
      ]
     },
     "metadata": {},
     "output_type": "display_data"
    },
    {
     "name": "stderr",
     "output_type": "stream",
     "text": [
      "\r",
      "\u001b[32mloss: 4.5e-05:  74%|██████████████████████████████▌          |  ETA: 0:03:18\u001b[39m"
     ]
    },
    {
     "data": {
      "text/plain": [
       "6.525157476744425e-5"
      ]
     },
     "metadata": {},
     "output_type": "display_data"
    },
    {
     "name": "stderr",
     "output_type": "stream",
     "text": [
      "\r",
      "\u001b[32mloss: 6.53e-05:  75%|██████████████████████████████▊          |  ETA: 0:03:14\u001b[39m"
     ]
    },
    {
     "data": {
      "text/plain": [
       "7.994303410896464e-5"
      ]
     },
     "metadata": {},
     "output_type": "display_data"
    },
    {
     "name": "stderr",
     "output_type": "stream",
     "text": [
      "\r",
      "\u001b[32mloss: 7.99e-05:  76%|███████████████████████████████          |  ETA: 0:03:10\u001b[39m"
     ]
    },
    {
     "data": {
      "text/plain": [
       "8.019346176979525e-5"
      ]
     },
     "metadata": {},
     "output_type": "display_data"
    },
    {
     "name": "stderr",
     "output_type": "stream",
     "text": [
      "\r",
      "\u001b[32mloss: 8.02e-05:  76%|███████████████████████████████▏         |  ETA: 0:03:06\u001b[39m"
     ]
    },
    {
     "data": {
      "text/plain": [
       "5.717089513268547e-5"
      ]
     },
     "metadata": {},
     "output_type": "display_data"
    },
    {
     "name": "stderr",
     "output_type": "stream",
     "text": [
      "\r",
      "\u001b[32mloss: 5.72e-05:  76%|███████████████████████████████▍         |  ETA: 0:03:02\u001b[39m"
     ]
    },
    {
     "data": {
      "text/plain": [
       "3.87764448106509e-5"
      ]
     },
     "metadata": {},
     "output_type": "display_data"
    },
    {
     "name": "stderr",
     "output_type": "stream",
     "text": [
      "\r",
      "\u001b[32mloss: 3.88e-05:  77%|███████████████████████████████▋         |  ETA: 0:02:58\u001b[39m"
     ]
    },
    {
     "data": {
      "text/plain": [
       "3.669409458240125e-5"
      ]
     },
     "metadata": {},
     "output_type": "display_data"
    },
    {
     "name": "stderr",
     "output_type": "stream",
     "text": [
      "\r",
      "\u001b[32mloss: 3.67e-05:  78%|███████████████████████████████▊         |  ETA: 0:02:54\u001b[39m"
     ]
    },
    {
     "data": {
      "text/plain": [
       "4.6799393167873404e-5"
      ]
     },
     "metadata": {},
     "output_type": "display_data"
    },
    {
     "name": "stderr",
     "output_type": "stream",
     "text": [
      "\r",
      "\u001b[32mloss: 4.68e-05:  78%|████████████████████████████████         |  ETA: 0:02:51\u001b[39m"
     ]
    },
    {
     "data": {
      "text/plain": [
       "6.73575255234482e-5"
      ]
     },
     "metadata": {},
     "output_type": "display_data"
    },
    {
     "name": "stderr",
     "output_type": "stream",
     "text": [
      "\r",
      "\u001b[32mloss: 6.74e-05:  78%|████████████████████████████████▏        |  ETA: 0:02:47\u001b[39m"
     ]
    },
    {
     "data": {
      "text/plain": [
       "7.736526509916075e-5"
      ]
     },
     "metadata": {},
     "output_type": "display_data"
    },
    {
     "name": "stderr",
     "output_type": "stream",
     "text": [
      "\r",
      "\u001b[32mloss: 7.74e-05:  79%|████████████████████████████████▍        |  ETA: 0:02:43\u001b[39m"
     ]
    },
    {
     "data": {
      "text/plain": [
       "7.480807309434567e-5"
      ]
     },
     "metadata": {},
     "output_type": "display_data"
    },
    {
     "name": "stderr",
     "output_type": "stream",
     "text": [
      "\r",
      "\u001b[32mloss: 7.48e-05:  80%|████████████████████████████████▋        |  ETA: 0:02:39\u001b[39m"
     ]
    },
    {
     "data": {
      "text/plain": [
       "6.09584281505704e-5"
      ]
     },
     "metadata": {},
     "output_type": "display_data"
    },
    {
     "name": "stderr",
     "output_type": "stream",
     "text": [
      "\r",
      "\u001b[32mloss: 6.1e-05:  80%|████████████████████████████████▊        |  ETA: 0:02:35\u001b[39m"
     ]
    },
    {
     "data": {
      "text/plain": [
       "3.796537939138034e-5"
      ]
     },
     "metadata": {},
     "output_type": "display_data"
    },
    {
     "name": "stderr",
     "output_type": "stream",
     "text": [
      "\r",
      "\u001b[32mloss: 3.8e-05:  80%|█████████████████████████████████        |  ETA: 0:02:31\u001b[39m"
     ]
    },
    {
     "data": {
      "text/plain": [
       "3.180432232596786e-5"
      ]
     },
     "metadata": {},
     "output_type": "display_data"
    },
    {
     "name": "stderr",
     "output_type": "stream",
     "text": [
      "\r",
      "\u001b[32mloss: 3.18e-05:  81%|█████████████████████████████████▎       |  ETA: 0:02:27\u001b[39m"
     ]
    },
    {
     "data": {
      "text/plain": [
       "4.1321072899336286e-5"
      ]
     },
     "metadata": {},
     "output_type": "display_data"
    },
    {
     "name": "stderr",
     "output_type": "stream",
     "text": [
      "\r",
      "\u001b[32mloss: 4.13e-05:  82%|█████████████████████████████████▍       |  ETA: 0:02:23\u001b[39m"
     ]
    },
    {
     "data": {
      "text/plain": [
       "6.01289732458099e-5"
      ]
     },
     "metadata": {},
     "output_type": "display_data"
    },
    {
     "name": "stderr",
     "output_type": "stream",
     "text": [
      "\r",
      "\u001b[32mloss: 6.01e-05:  82%|█████████████████████████████████▋       |  ETA: 0:02:19\u001b[39m"
     ]
    },
    {
     "data": {
      "text/plain": [
       "8.147337365471685e-5"
      ]
     },
     "metadata": {},
     "output_type": "display_data"
    },
    {
     "name": "stderr",
     "output_type": "stream",
     "text": [
      "\r",
      "\u001b[32mloss: 8.15e-05:  82%|█████████████████████████████████▉       |  ETA: 0:02:15\u001b[39m"
     ]
    },
    {
     "data": {
      "text/plain": [
       "9.633270852305031e-5"
      ]
     },
     "metadata": {},
     "output_type": "display_data"
    },
    {
     "name": "stderr",
     "output_type": "stream",
     "text": [
      "\r",
      "\u001b[32mloss: 9.63e-05:  83%|██████████████████████████████████       |  ETA: 0:02:11\u001b[39m"
     ]
    },
    {
     "data": {
      "text/plain": [
       "9.362943845303562e-5"
      ]
     },
     "metadata": {},
     "output_type": "display_data"
    },
    {
     "name": "stderr",
     "output_type": "stream",
     "text": [
      "\r",
      "\u001b[32mloss: 9.36e-05:  84%|██████████████████████████████████▎      |  ETA: 0:02:07\u001b[39m"
     ]
    },
    {
     "data": {
      "text/plain": [
       "5.599860598692885e-5"
      ]
     },
     "metadata": {},
     "output_type": "display_data"
    },
    {
     "name": "stderr",
     "output_type": "stream",
     "text": [
      "\r",
      "\u001b[32mloss: 5.6e-05:  84%|██████████████████████████████████▌      |  ETA: 0:02:03\u001b[39m"
     ]
    },
    {
     "data": {
      "text/plain": [
       "3.1081692384304915e-5"
      ]
     },
     "metadata": {},
     "output_type": "display_data"
    },
    {
     "name": "stderr",
     "output_type": "stream",
     "text": [
      "\r",
      "\u001b[32mloss: 3.11e-05:  84%|██████████████████████████████████▋      |  ETA: 0:01:59\u001b[39m"
     ]
    },
    {
     "data": {
      "text/plain": [
       "4.9308497317213096e-5"
      ]
     },
     "metadata": {},
     "output_type": "display_data"
    },
    {
     "name": "stderr",
     "output_type": "stream",
     "text": [
      "\r",
      "\u001b[32mloss: 4.93e-05:  85%|██████████████████████████████████▉      |  ETA: 0:01:55\u001b[39m"
     ]
    },
    {
     "data": {
      "text/plain": [
       "7.286766580705262e-5"
      ]
     },
     "metadata": {},
     "output_type": "display_data"
    },
    {
     "name": "stderr",
     "output_type": "stream",
     "text": [
      "\r",
      "\u001b[32mloss: 7.29e-05:  86%|███████████████████████████████████      |  ETA: 0:01:52\u001b[39m"
     ]
    },
    {
     "data": {
      "text/plain": [
       "6.69496022283056e-5"
      ]
     },
     "metadata": {},
     "output_type": "display_data"
    },
    {
     "name": "stderr",
     "output_type": "stream",
     "text": [
      "\r",
      "\u001b[32mloss: 6.69e-05:  86%|███████████████████████████████████▎     |  ETA: 0:01:48\u001b[39m"
     ]
    },
    {
     "data": {
      "text/plain": [
       "4.2239566624857616e-5"
      ]
     },
     "metadata": {},
     "output_type": "display_data"
    },
    {
     "name": "stderr",
     "output_type": "stream",
     "text": [
      "\r",
      "\u001b[32mloss: 4.22e-05:  86%|███████████████████████████████████▌     |  ETA: 0:01:44\u001b[39m"
     ]
    },
    {
     "data": {
      "text/plain": [
       "3.2808950887641686e-5"
      ]
     },
     "metadata": {},
     "output_type": "display_data"
    },
    {
     "name": "stderr",
     "output_type": "stream",
     "text": [
      "\r",
      "\u001b[32mloss: 3.28e-05:  87%|███████████████████████████████████▋     |  ETA: 0:01:40\u001b[39m"
     ]
    },
    {
     "data": {
      "text/plain": [
       "4.352177725763795e-5"
      ]
     },
     "metadata": {},
     "output_type": "display_data"
    },
    {
     "name": "stderr",
     "output_type": "stream",
     "text": [
      "\r",
      "\u001b[32mloss: 4.35e-05:  88%|███████████████████████████████████▉     |  ETA: 0:01:36\u001b[39m"
     ]
    },
    {
     "data": {
      "text/plain": [
       "6.301800843289129e-5"
      ]
     },
     "metadata": {},
     "output_type": "display_data"
    },
    {
     "name": "stderr",
     "output_type": "stream",
     "text": [
      "\r",
      "\u001b[32mloss: 6.3e-05:  88%|████████████████████████████████████▏    |  ETA: 0:01:32\u001b[39m"
     ]
    },
    {
     "data": {
      "text/plain": [
       "6.882199284063972e-5"
      ]
     },
     "metadata": {},
     "output_type": "display_data"
    },
    {
     "name": "stderr",
     "output_type": "stream",
     "text": [
      "\r",
      "\u001b[32mloss: 6.88e-05:  88%|████████████████████████████████████▎    |  ETA: 0:01:28\u001b[39m"
     ]
    },
    {
     "data": {
      "text/plain": [
       "5.401318259146137e-5"
      ]
     },
     "metadata": {},
     "output_type": "display_data"
    },
    {
     "name": "stderr",
     "output_type": "stream",
     "text": [
      "\r",
      "\u001b[32mloss: 5.4e-05:  89%|████████████████████████████████████▌    |  ETA: 0:01:24\u001b[39m"
     ]
    },
    {
     "data": {
      "text/plain": [
       "3.4864510219279055e-5"
      ]
     },
     "metadata": {},
     "output_type": "display_data"
    },
    {
     "name": "stderr",
     "output_type": "stream",
     "text": [
      "\r",
      "\u001b[32mloss: 3.49e-05:  90%|████████████████████████████████████▊    |  ETA: 0:01:21\u001b[39m"
     ]
    },
    {
     "data": {
      "text/plain": [
       "3.0481384317937454e-5"
      ]
     },
     "metadata": {},
     "output_type": "display_data"
    },
    {
     "name": "stderr",
     "output_type": "stream",
     "text": [
      "\r",
      "\u001b[32mloss: 3.05e-05:  90%|████████████████████████████████████▉    |  ETA: 0:01:17\u001b[39m"
     ]
    },
    {
     "data": {
      "text/plain": [
       "4.2235041647131766e-5"
      ]
     },
     "metadata": {},
     "output_type": "display_data"
    },
    {
     "name": "stderr",
     "output_type": "stream",
     "text": [
      "\r",
      "\u001b[32mloss: 4.22e-05:  90%|█████████████████████████████████████▏   |  ETA: 0:01:13\u001b[39m"
     ]
    },
    {
     "data": {
      "text/plain": [
       "5.676412669686215e-5"
      ]
     },
     "metadata": {},
     "output_type": "display_data"
    },
    {
     "name": "stderr",
     "output_type": "stream",
     "text": [
      "\r",
      "\u001b[32mloss: 5.68e-05:  91%|█████████████████████████████████████▎   |  ETA: 0:01:09\u001b[39m"
     ]
    },
    {
     "data": {
      "text/plain": [
       "6.945833860072526e-5"
      ]
     },
     "metadata": {},
     "output_type": "display_data"
    },
    {
     "name": "stderr",
     "output_type": "stream",
     "text": [
      "\r",
      "\u001b[32mloss: 6.95e-05:  92%|█████████████████████████████████████▌   |  ETA: 0:01:05\u001b[39m"
     ]
    },
    {
     "data": {
      "text/plain": [
       "7.246051598031045e-5"
      ]
     },
     "metadata": {},
     "output_type": "display_data"
    },
    {
     "name": "stderr",
     "output_type": "stream",
     "text": [
      "\r",
      "\u001b[32mloss: 7.25e-05:  92%|█████████████████████████████████████▊   |  ETA: 0:01:01\u001b[39m"
     ]
    }
   ],
   "source": [
    "res = DiffEqFlux.sciml_train(loss_n_ode, n_ode.p, ADAM(0.002, (0.9, 0.95)), cb=cb, maxiters=200)"
   ]
  },
  {
   "cell_type": "code",
   "execution_count": null,
   "metadata": {},
   "outputs": [],
   "source": []
  }
 ],
 "metadata": {
  "kernelspec": {
   "display_name": "Julia 1.3.1",
   "language": "julia",
   "name": "julia-1.3"
  },
  "language_info": {
   "file_extension": ".jl",
   "mimetype": "application/julia",
   "name": "julia",
   "version": "1.3.1"
  }
 },
 "nbformat": 4,
 "nbformat_minor": 4
}
