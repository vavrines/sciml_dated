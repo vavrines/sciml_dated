{
 "cells": [
  {
   "cell_type": "code",
   "execution_count": 2,
   "metadata": {},
   "outputs": [],
   "source": [
    "using Revise\n",
    "using DifferentialEquations\n",
    "using Flux\n",
    "using DiffEqFlux\n",
    "using Optim\n",
    "using Plots\n",
    "using FileIO\n",
    "using JLD2\n",
    "using OffsetArrays\n",
    "using Kinetic"
   ]
  },
  {
   "cell_type": "code",
   "execution_count": 3,
   "metadata": {},
   "outputs": [
    {
     "data": {
      "text/plain": [
       "bgk! (generic function with 1 method)"
      ]
     },
     "execution_count": 3,
     "metadata": {},
     "output_type": "execute_result"
    }
   ],
   "source": [
    "function bgk!(df, f, p, t)\n",
    "    g, tau = p\n",
    "    df .= (g .- f) ./ tau\n",
    "end"
   ]
  },
  {
   "cell_type": "code",
   "execution_count": 4,
   "metadata": {},
   "outputs": [
    {
     "name": "stdout",
     "output_type": "stream",
     "text": [
      "case = shock\n",
      "space = 1d1f1v\n",
      "nSpecies = 1\n",
      "interpOrder = 1\n",
      "limiter = vanleer\n",
      "cfl = 0.95\n",
      "maxTime = 250.0\n",
      "x0 = -25.0\n",
      "x1 = 25.0\n",
      "nx = 50\n",
      "pMeshType = uniform\n",
      "nxg = 0\n",
      "umin = -10.0\n",
      "umax = 10.0\n",
      "nu = 36\n",
      "nug = 0\n",
      "vMeshType = rectangle\n",
      "knudsen = 1.0\n",
      "mach = 2.0\n",
      "prandtl = 1.0\n",
      "inK = 0.0\n",
      "omega = 0.5\n",
      "alphaRef = 1.0\n",
      "omegaRef = 0.5\n",
      "tLen = 5\n",
      "nh = 12\n",
      "\n"
     ]
    }
   ],
   "source": [
    "D = read_dict(\"../code/shock/shock1D.txt\")\n",
    "for key in keys(D)\n",
    "    s = Symbol(key)\n",
    "    @eval $s = $(D[key])\n",
    "end"
   ]
  },
  {
   "cell_type": "code",
   "execution_count": 5,
   "metadata": {},
   "outputs": [],
   "source": [
    "γ = 3.\n",
    "set = Setup(case, space, nSpecies, interpOrder, limiter, cfl, maxTime)\n",
    "pSpace = PSpace1D(x0, x1, nx, pMeshType, nxg)\n",
    "μᵣ = ref_vhs_vis(knudsen, alphaRef, omegaRef)\n",
    "gas = GasProperty(knudsen, mach, prandtl, inK, γ, omega, alphaRef, omegaRef, μᵣ)\n",
    "vSpace = VSpace1D(umin, umax, nu, vMeshType, nug)\n",
    "wL, primL, fL, bcL, wR, primR, fR, bcR = ib_rh(mach, γ, vSpace.u)\n",
    "ib = IB1D1F(wL, primL, fL, bcL, wR, primR, fR, bcR)\n",
    "\n",
    "ks = SolverSet(set, pSpace, vSpace, gas, ib, pwd());"
   ]
  },
  {
   "cell_type": "code",
   "execution_count": 6,
   "metadata": {},
   "outputs": [],
   "source": [
    "ctr = OffsetArray{ControlVolume1D1F}(undef, eachindex(ks.pSpace.x))\n",
    "face = Array{Interface1D1F}(undef, ks.pSpace.nx+1)\n",
    "for i in eachindex(ctr)\n",
    "    if i <= ks.pSpace.nx÷2\n",
    "        ctr[i] = ControlVolume1D1F(ks.pSpace.x[i], ks.pSpace.dx[i], Float32.(ks.ib.wL), Float32.(ks.ib.primL), Float32.(ks.ib.fL))\n",
    "    else\n",
    "        ctr[i] = ControlVolume1D1F(ks.pSpace.x[i], ks.pSpace.dx[i], Float32.(ks.ib.wR), Float32.(ks.ib.primR), Float32.(ks.ib.fR))\n",
    "    end\n",
    "end\n",
    "for i=1:ks.pSpace.nx+1\n",
    "    face[i] = Interface1D1F(ks.ib.fL)\n",
    "end"
   ]
  },
  {
   "cell_type": "code",
   "execution_count": 7,
   "metadata": {},
   "outputs": [
    {
     "data": {
      "text/plain": [
       "0.0f0:0.01935499f0:0.07741996f0"
      ]
     },
     "execution_count": 7,
     "metadata": {},
     "output_type": "execute_result"
    }
   ],
   "source": [
    "sos = sound_speed(ks.ib.primR, γ)\n",
    "vmax = ks.vSpace.u1 + sos\n",
    "tmax = vmax / ks.pSpace.dx[1]\n",
    "dt = Float32(ks.set.cfl / tmax)\n",
    "tSpan = (0.f0, dt)\n",
    "tRan = range(tSpan[1], tSpan[2], length=tLen)"
   ]
  },
  {
   "cell_type": "code",
   "execution_count": 8,
   "metadata": {},
   "outputs": [],
   "source": [
    "residual = Array{Float32}(undef, 3)\n",
    "for iter=1:1000\n",
    "    Kinetic.evolve!(ks, ctr, face, dt)\n",
    "    Kinetic.update!(ks, ctr, face, dt, residual)\n",
    "end"
   ]
  },
  {
   "cell_type": "code",
   "execution_count": 9,
   "metadata": {},
   "outputs": [],
   "source": [
    "X = Array{Float32}(undef, nu, nx);\n",
    "for i in 1:nx\n",
    "    X[:,i] .= ctr[i].f\n",
    "end"
   ]
  },
  {
   "cell_type": "code",
   "execution_count": 10,
   "metadata": {},
   "outputs": [],
   "source": [
    "M = Array{Float32}(undef, nu, nx)\n",
    "τ = Array{Float32}(undef, nx)\n",
    "for i=1:nx\n",
    "    M[:,i] .= maxwellian(ks.vSpace.u, ctr[i].prim)\n",
    "    τ = vhs_collision_time(ctr[i].prim, ks.gas.μᵣ, ks.gas.ω)\n",
    "end\n",
    "\n",
    "data_para = [M, τ];"
   ]
  },
  {
   "cell_type": "code",
   "execution_count": 11,
   "metadata": {},
   "outputs": [],
   "source": [
    "prob = ODEProblem(bgk!, X, tSpan, data_para)\n",
    "Y = solve(prob, Tsit5(), saveat=tRan) |> Array;"
   ]
  },
  {
   "cell_type": "code",
   "execution_count": null,
   "metadata": {},
   "outputs": [],
   "source": []
  },
  {
   "cell_type": "code",
   "execution_count": null,
   "metadata": {},
   "outputs": [],
   "source": []
  },
  {
   "cell_type": "code",
   "execution_count": 12,
   "metadata": {},
   "outputs": [
    {
     "data": {
      "text/plain": [
       "(::NeuralODE{FastChain{Tuple{var\"#3#4\",FastDense{typeof(tanh),DiffEqFlux.var\"#initial_params#76\"{typeof(Flux.glorot_uniform),typeof(Flux.zeros),Int64,Int64}},FastDense{typeof(identity),DiffEqFlux.var\"#initial_params#76\"{typeof(Flux.glorot_uniform),typeof(Flux.zeros),Int64,Int64}}}},Array{Float32,1},Nothing,Tuple{Float32,Float32},Tsit5,Tuple{},Base.Iterators.Pairs{Symbol,StepRangeLen{Float32,Float64,Float64},Tuple{Symbol},NamedTuple{(:saveat,),Tuple{StepRangeLen{Float32,Float64,Float64}}}}}) (generic function with 4 methods)"
      ]
     },
     "execution_count": 12,
     "metadata": {},
     "output_type": "execute_result"
    }
   ],
   "source": [
    "dudt = FastChain( (x, p) -> x.^3,\n",
    "                   FastDense(vSpace.nu, vSpace.nu*16, tanh),\n",
    "                   #FastDense(vSpace.nu*16, vSpace.nu*16, tanh),\n",
    "                   FastDense(vSpace.nu*16, vSpace.nu) )\n",
    "#node = NeuralODE(dudt, tSpan, Tsit5(), saveat=tRan)\n",
    "node = NeuralODE(dudt, tSpan, Tsit5(), saveat=tRan)"
   ]
  },
  {
   "cell_type": "code",
   "execution_count": null,
   "metadata": {},
   "outputs": [],
   "source": []
  },
  {
   "cell_type": "code",
   "execution_count": 13,
   "metadata": {},
   "outputs": [
    {
     "data": {
      "text/plain": [
       "loss_node (generic function with 1 method)"
      ]
     },
     "execution_count": 13,
     "metadata": {},
     "output_type": "execute_result"
    }
   ],
   "source": [
    "function loss_node(p) # without dataset\n",
    "    diff = Array(node(X, p)) .- Y\n",
    "    loss = sum(abs2, diff)\n",
    "    return loss\n",
    "end"
   ]
  },
  {
   "cell_type": "code",
   "execution_count": 14,
   "metadata": {},
   "outputs": [
    {
     "data": {
      "text/plain": [
       "#5 (generic function with 1 method)"
      ]
     },
     "execution_count": 14,
     "metadata": {},
     "output_type": "execute_result"
    }
   ],
   "source": [
    "cb = function (p, l)\n",
    "    display(l)\n",
    "    return false\n",
    "end"
   ]
  },
  {
   "cell_type": "code",
   "execution_count": 15,
   "metadata": {
    "scrolled": true
   },
   "outputs": [
    {
     "data": {
      "text/plain": [
       "0.006096926f0"
      ]
     },
     "metadata": {},
     "output_type": "display_data"
    },
    {
     "name": "stderr",
     "output_type": "stream",
     "text": [
      "\u001b[32mloss: 0.00288:   0%|▏                                        |  ETA: 9:21:48\u001b[39m"
     ]
    },
    {
     "data": {
      "text/plain": [
       "0.0025600512f0"
      ]
     },
     "metadata": {},
     "output_type": "display_data"
    },
    {
     "name": "stderr",
     "output_type": "stream",
     "text": [
      "\u001b[32mloss: 0.00198:   1%|▎                                        |  ETA: 2:43:34\u001b[39m"
     ]
    },
    {
     "data": {
      "text/plain": [
       "0.0018480868f0"
      ]
     },
     "metadata": {},
     "output_type": "display_data"
    },
    {
     "name": "stderr",
     "output_type": "stream",
     "text": [
      "\u001b[32mloss: 0.00226:   1%|▌                                        |  ETA: 1:45:45\u001b[39m"
     ]
    },
    {
     "data": {
      "text/plain": [
       "0.002178588f0"
      ]
     },
     "metadata": {},
     "output_type": "display_data"
    },
    {
     "name": "stderr",
     "output_type": "stream",
     "text": [
      "\u001b[32mloss: 0.00157:   2%|▋                                        |  ETA: 1:14:02\u001b[39m"
     ]
    },
    {
     "data": {
      "text/plain": [
       "0.0016108784f0"
      ]
     },
     "metadata": {},
     "output_type": "display_data"
    },
    {
     "name": "stderr",
     "output_type": "stream",
     "text": [
      "\u001b[32mloss: 0.0016:   2%|▉                                        |  ETA: 1:00:10\u001b[39mm"
     ]
    },
    {
     "data": {
      "text/plain": [
       "0.0015129928f0"
      ]
     },
     "metadata": {},
     "output_type": "display_data"
    },
    {
     "name": "stderr",
     "output_type": "stream",
     "text": [
      "\u001b[32mloss: 0.00139:   2%|█                                        |  ETA: 0:50:53\u001b[39m"
     ]
    },
    {
     "data": {
      "text/plain": [
       "0.0013988629f0"
      ]
     },
     "metadata": {},
     "output_type": "display_data"
    },
    {
     "name": "stderr",
     "output_type": "stream",
     "text": [
      "\u001b[32mloss: 0.00132:   3%|█▏                                       |  ETA: 0:44:14\u001b[39m"
     ]
    },
    {
     "data": {
      "text/plain": [
       "0.0012657829f0"
      ]
     },
     "metadata": {},
     "output_type": "display_data"
    },
    {
     "name": "stderr",
     "output_type": "stream",
     "text": [
      "\u001b[32mloss: 0.00117:   3%|█▍                                       |  ETA: 0:38:10\u001b[39m"
     ]
    },
    {
     "data": {
      "text/plain": [
       "0.0011537895f0"
      ]
     },
     "metadata": {},
     "output_type": "display_data"
    },
    {
     "name": "stderr",
     "output_type": "stream",
     "text": [
      "\u001b[32mloss: 0.00106:   4%|█▌                                       |  ETA: 0:34:29\u001b[39m"
     ]
    },
    {
     "data": {
      "text/plain": [
       "0.0010302052f0"
      ]
     },
     "metadata": {},
     "output_type": "display_data"
    },
    {
     "name": "stderr",
     "output_type": "stream",
     "text": [
      "\u001b[32mloss: 0.000955:   4%|█▊                                       |  ETA: 0:30:51\u001b[39m"
     ]
    },
    {
     "data": {
      "text/plain": [
       "0.000926157f0"
      ]
     },
     "metadata": {},
     "output_type": "display_data"
    },
    {
     "name": "stderr",
     "output_type": "stream",
     "text": [
      "\u001b[32mloss: 0.000831:   5%|█▉                                       |  ETA: 0:27:59\u001b[39m"
     ]
    },
    {
     "data": {
      "text/plain": [
       "0.00081362063f0"
      ]
     },
     "metadata": {},
     "output_type": "display_data"
    },
    {
     "name": "stderr",
     "output_type": "stream",
     "text": [
      "\u001b[32mloss: 0.000723:   5%|██▏                                      |  ETA: 0:25:42\u001b[39m"
     ]
    },
    {
     "data": {
      "text/plain": [
       "0.0007025298f0"
      ]
     },
     "metadata": {},
     "output_type": "display_data"
    },
    {
     "name": "stderr",
     "output_type": "stream",
     "text": [
      "\u001b[32mloss: 0.000624:   6%|██▍                                      |  ETA: 0:23:48\u001b[39m"
     ]
    },
    {
     "data": {
      "text/plain": [
       "0.0006034004f0"
      ]
     },
     "metadata": {},
     "output_type": "display_data"
    },
    {
     "name": "stderr",
     "output_type": "stream",
     "text": [
      "\u001b[32mloss: 0.000533:   6%|██▌                                      |  ETA: 0:22:11\u001b[39m"
     ]
    },
    {
     "data": {
      "text/plain": [
       "0.0005150799f0"
      ]
     },
     "metadata": {},
     "output_type": "display_data"
    },
    {
     "name": "stderr",
     "output_type": "stream",
     "text": [
      "\u001b[32mloss: 0.000449:   7%|██▊                                      |  ETA: 0:20:50\u001b[39m"
     ]
    },
    {
     "data": {
      "text/plain": [
       "0.00043393773f0"
      ]
     },
     "metadata": {},
     "output_type": "display_data"
    },
    {
     "name": "stderr",
     "output_type": "stream",
     "text": [
      "\u001b[32mloss: 0.000377:   7%|███                                      |  ETA: 0:19:39\u001b[39m"
     ]
    },
    {
     "data": {
      "text/plain": [
       "0.00036428892f0"
      ]
     },
     "metadata": {},
     "output_type": "display_data"
    },
    {
     "name": "stderr",
     "output_type": "stream",
     "text": [
      "\u001b[32mloss: 0.000317:   8%|███▏                                     |  ETA: 0:18:37\u001b[39m"
     ]
    },
    {
     "data": {
      "text/plain": [
       "0.0003061812f0"
      ]
     },
     "metadata": {},
     "output_type": "display_data"
    },
    {
     "name": "stderr",
     "output_type": "stream",
     "text": [
      "\u001b[32mloss: 0.000268:   8%|███▍                                     |  ETA: 0:17:43\u001b[39m"
     ]
    },
    {
     "data": {
      "text/plain": [
       "0.0002597823f0"
      ]
     },
     "metadata": {},
     "output_type": "display_data"
    },
    {
     "name": "stderr",
     "output_type": "stream",
     "text": [
      "\u001b[32mloss: 0.00023:   9%|███▋                                     |  ETA: 0:16:54\u001b[39mm"
     ]
    },
    {
     "data": {
      "text/plain": [
       "0.00022326034f0"
      ]
     },
     "metadata": {},
     "output_type": "display_data"
    },
    {
     "name": "stderr",
     "output_type": "stream",
     "text": [
      "\u001b[32mloss: 0.0002:   9%|███▊                                     |  ETA: 0:16:10\u001b[39m9m"
     ]
    },
    {
     "data": {
      "text/plain": [
       "0.00019512931f0"
      ]
     },
     "metadata": {},
     "output_type": "display_data"
    },
    {
     "name": "stderr",
     "output_type": "stream",
     "text": [
      "\u001b[32mloss: 0.000181:  10%|███▉                                     |  ETA: 0:15:39\u001b[39m"
     ]
    },
    {
     "data": {
      "text/plain": [
       "0.0001774072f0"
      ]
     },
     "metadata": {},
     "output_type": "display_data"
    },
    {
     "name": "stderr",
     "output_type": "stream",
     "text": [
      "\u001b[32mloss: 0.000163:  10%|████▏                                    |  ETA: 0:15:04\u001b[39m"
     ]
    },
    {
     "data": {
      "text/plain": [
       "0.0001598857f0"
      ]
     },
     "metadata": {},
     "output_type": "display_data"
    },
    {
     "name": "stderr",
     "output_type": "stream",
     "text": [
      "\u001b[32mloss: 0.000149:  11%|████▍                                    |  ETA: 0:14:31\u001b[39m"
     ]
    },
    {
     "data": {
      "text/plain": [
       "0.0001462896f0"
      ]
     },
     "metadata": {},
     "output_type": "display_data"
    },
    {
     "name": "stderr",
     "output_type": "stream",
     "text": [
      "\u001b[32mloss: 0.00014:  11%|████▌                                    |  ETA: 0:14:07\u001b[39mm"
     ]
    },
    {
     "data": {
      "text/plain": [
       "0.00013752592f0"
      ]
     },
     "metadata": {},
     "output_type": "display_data"
    },
    {
     "name": "stderr",
     "output_type": "stream",
     "text": [
      "\u001b[32mloss: 0.000132:  11%|████▋                                    |  ETA: 0:13:45\u001b[39m"
     ]
    },
    {
     "data": {
      "text/plain": [
       "0.00013022359f0"
      ]
     },
     "metadata": {},
     "output_type": "display_data"
    },
    {
     "name": "stderr",
     "output_type": "stream",
     "text": [
      "\u001b[32mloss: 0.000126:  12%|████▉                                    |  ETA: 0:13:24\u001b[39m"
     ]
    },
    {
     "data": {
      "text/plain": [
       "0.00012406721f0"
      ]
     },
     "metadata": {},
     "output_type": "display_data"
    },
    {
     "name": "stderr",
     "output_type": "stream",
     "text": [
      "\u001b[32mloss: 0.00012:  12%|█████                                    |  ETA: 0:13:04\u001b[39mm"
     ]
    },
    {
     "data": {
      "text/plain": [
       "0.00011882578f0"
      ]
     },
     "metadata": {},
     "output_type": "display_data"
    },
    {
     "name": "stderr",
     "output_type": "stream",
     "text": [
      "\u001b[32mloss: 0.000114:  13%|█████▎                                   |  ETA: 0:12:41\u001b[39m"
     ]
    },
    {
     "data": {
      "text/plain": [
       "0.00011330555f0"
      ]
     },
     "metadata": {},
     "output_type": "display_data"
    },
    {
     "name": "stderr",
     "output_type": "stream",
     "text": [
      "\u001b[32mloss: 0.00011:  13%|█████▍                                   |  ETA: 0:12:19\u001b[39mm"
     ]
    },
    {
     "data": {
      "text/plain": [
       "0.00010871506f0"
      ]
     },
     "metadata": {},
     "output_type": "display_data"
    },
    {
     "name": "stderr",
     "output_type": "stream",
     "text": [
      "\u001b[32mloss: 0.000106:  14%|█████▋                                   |  ETA: 0:11:58\u001b[39m"
     ]
    },
    {
     "data": {
      "text/plain": [
       "0.00010490635f0"
      ]
     },
     "metadata": {},
     "output_type": "display_data"
    },
    {
     "name": "stderr",
     "output_type": "stream",
     "text": [
      "\u001b[32mloss: 0.000103:  14%|█████▉                                   |  ETA: 0:11:39\u001b[39m"
     ]
    },
    {
     "data": {
      "text/plain": [
       "0.00010448633f0"
      ]
     },
     "metadata": {},
     "output_type": "display_data"
    },
    {
     "name": "stderr",
     "output_type": "stream",
     "text": [
      "\u001b[32mloss: 0.000118:  15%|██████                                   |  ETA: 0:11:22\u001b[39m"
     ]
    },
    {
     "data": {
      "text/plain": [
       "0.00010395398f0"
      ]
     },
     "metadata": {},
     "output_type": "display_data"
    },
    {
     "name": "stderr",
     "output_type": "stream",
     "text": [
      "\u001b[32mloss: 0.000101:  15%|██████▎                                  |  ETA: 0:11:05\u001b[39m"
     ]
    },
    {
     "data": {
      "text/plain": [
       "9.77268f-5"
      ]
     },
     "metadata": {},
     "output_type": "display_data"
    },
    {
     "name": "stderr",
     "output_type": "stream",
     "text": [
      "\u001b[32mloss: 9.75e-05:  16%|██████▍                                  |  ETA: 0:10:49\u001b[39m"
     ]
    },
    {
     "data": {
      "text/plain": [
       "0.00010117068f0"
      ]
     },
     "metadata": {},
     "output_type": "display_data"
    },
    {
     "name": "stderr",
     "output_type": "stream",
     "text": [
      "\u001b[32mloss: 9.72e-05:  16%|██████▋                                  |  ETA: 0:10:37\u001b[39m"
     ]
    },
    {
     "data": {
      "text/plain": [
       "9.787724f-5"
      ]
     },
     "metadata": {},
     "output_type": "display_data"
    },
    {
     "name": "stderr",
     "output_type": "stream",
     "text": [
      "\u001b[32mloss: 9.49e-05:  17%|██████▊                                  |  ETA: 0:10:23\u001b[39m"
     ]
    },
    {
     "data": {
      "text/plain": [
       "9.281662f-5"
      ]
     },
     "metadata": {},
     "output_type": "display_data"
    },
    {
     "name": "stderr",
     "output_type": "stream",
     "text": [
      "\u001b[32mloss: 9.28e-05:  17%|███████                                  |  ETA: 0:10:12\u001b[39m"
     ]
    },
    {
     "data": {
      "text/plain": [
       "9.195592f-5"
      ]
     },
     "metadata": {},
     "output_type": "display_data"
    },
    {
     "name": "stderr",
     "output_type": "stream",
     "text": [
      "\u001b[32mloss: 9.16e-05:  17%|███████▏                                 |  ETA: 0:10:02\u001b[39m"
     ]
    },
    {
     "data": {
      "text/plain": [
       "9.128395f-5"
      ]
     },
     "metadata": {},
     "output_type": "display_data"
    },
    {
     "name": "stderr",
     "output_type": "stream",
     "text": [
      "\u001b[32mloss: 9.07e-05:  18%|███████▎                                 |  ETA: 0:09:52\u001b[39m"
     ]
    },
    {
     "data": {
      "text/plain": [
       "9.059724f-5"
      ]
     },
     "metadata": {},
     "output_type": "display_data"
    },
    {
     "name": "stderr",
     "output_type": "stream",
     "text": [
      "\u001b[32mloss: 9e-05:  18%|███████▌                                 |  ETA: 0:09:43\u001b[39m39m"
     ]
    },
    {
     "data": {
      "text/plain": [
       "8.990006f-5"
      ]
     },
     "metadata": {},
     "output_type": "display_data"
    },
    {
     "name": "stderr",
     "output_type": "stream",
     "text": [
      "\u001b[32mloss: 8.92e-05:  19%|███████▋                                 |  ETA: 0:09:31\u001b[39m"
     ]
    },
    {
     "data": {
      "text/plain": [
       "8.93035f-5"
      ]
     },
     "metadata": {},
     "output_type": "display_data"
    },
    {
     "name": "stderr",
     "output_type": "stream",
     "text": [
      "\u001b[32mloss: 8.86e-05:  19%|███████▉                                 |  ETA: 0:09:20\u001b[39m"
     ]
    },
    {
     "data": {
      "text/plain": [
       "8.854479f-5"
      ]
     },
     "metadata": {},
     "output_type": "display_data"
    },
    {
     "name": "stderr",
     "output_type": "stream",
     "text": [
      "\u001b[32mloss: 8.79e-05:  20%|████████▏                                |  ETA: 0:09:10\u001b[39m"
     ]
    },
    {
     "data": {
      "text/plain": [
       "8.7803666f-5"
      ]
     },
     "metadata": {},
     "output_type": "display_data"
    },
    {
     "name": "stderr",
     "output_type": "stream",
     "text": [
      "\u001b[32mloss: 8.73e-05:  20%|████████▎                                |  ETA: 0:09:02\u001b[39m"
     ]
    },
    {
     "data": {
      "text/plain": [
       "8.7251436f-5"
      ]
     },
     "metadata": {},
     "output_type": "display_data"
    },
    {
     "name": "stderr",
     "output_type": "stream",
     "text": [
      "\u001b[32mloss: 8.67e-05:  21%|████████▌                                |  ETA: 0:08:52\u001b[39m"
     ]
    },
    {
     "data": {
      "text/plain": [
       "8.659447f-5"
      ]
     },
     "metadata": {},
     "output_type": "display_data"
    },
    {
     "name": "stderr",
     "output_type": "stream",
     "text": [
      "\u001b[32mloss: 8.62e-05:  21%|████████▋                                |  ETA: 0:08:45\u001b[39m"
     ]
    },
    {
     "data": {
      "text/plain": [
       "8.606473f-5"
      ]
     },
     "metadata": {},
     "output_type": "display_data"
    },
    {
     "name": "stderr",
     "output_type": "stream",
     "text": [
      "\u001b[32mloss: 8.57e-05:  21%|████████▊                                |  ETA: 0:08:38\u001b[39m"
     ]
    },
    {
     "data": {
      "text/plain": [
       "8.560608f-5"
      ]
     },
     "metadata": {},
     "output_type": "display_data"
    },
    {
     "name": "stderr",
     "output_type": "stream",
     "text": [
      "\u001b[32mloss: 8.52e-05:  22%|█████████                                |  ETA: 0:08:31\u001b[39m"
     ]
    },
    {
     "data": {
      "text/plain": [
       "8.511102f-5"
      ]
     },
     "metadata": {},
     "output_type": "display_data"
    },
    {
     "name": "stderr",
     "output_type": "stream",
     "text": [
      "\u001b[32mloss: 8.48e-05:  22%|█████████▏                               |  ETA: 0:08:24\u001b[39m"
     ]
    },
    {
     "data": {
      "text/plain": [
       "8.463246f-5"
      ]
     },
     "metadata": {},
     "output_type": "display_data"
    },
    {
     "name": "stderr",
     "output_type": "stream",
     "text": [
      "\u001b[32mloss: 8.41e-05:  23%|█████████▎                               |  ETA: 0:08:16\u001b[39m"
     ]
    },
    {
     "data": {
      "text/plain": [
       "8.403049f-5"
      ]
     },
     "metadata": {},
     "output_type": "display_data"
    },
    {
     "name": "stderr",
     "output_type": "stream",
     "text": [
      "\u001b[32mloss: 8.37e-05:  23%|█████████▌                               |  ETA: 0:08:09\u001b[39m"
     ]
    },
    {
     "data": {
      "text/plain": [
       "8.355649f-5"
      ]
     },
     "metadata": {},
     "output_type": "display_data"
    },
    {
     "name": "stderr",
     "output_type": "stream",
     "text": [
      "\u001b[32mloss: 8.31e-05:  24%|█████████▋                               |  ETA: 0:08:01\u001b[39m"
     ]
    },
    {
     "data": {
      "text/plain": [
       "8.294991f-5"
      ]
     },
     "metadata": {},
     "output_type": "display_data"
    },
    {
     "name": "stderr",
     "output_type": "stream",
     "text": [
      "\u001b[32mloss: 8.25e-05:  24%|█████████▉                               |  ETA: 0:07:54\u001b[39m"
     ]
    },
    {
     "data": {
      "text/plain": [
       "8.2353f-5"
      ]
     },
     "metadata": {},
     "output_type": "display_data"
    },
    {
     "name": "stderr",
     "output_type": "stream",
     "text": [
      "\u001b[32mloss: 8.2e-05:  24%|██████████                               |  ETA: 0:07:48\u001b[39mm"
     ]
    },
    {
     "data": {
      "text/plain": [
       "8.194965f-5"
      ]
     },
     "metadata": {},
     "output_type": "display_data"
    },
    {
     "name": "stderr",
     "output_type": "stream",
     "text": [
      "\u001b[32mloss: 8.21e-05:  25%|██████████▎                              |  ETA: 0:07:43\u001b[39m"
     ]
    },
    {
     "data": {
      "text/plain": [
       "8.2593964f-5"
      ]
     },
     "metadata": {},
     "output_type": "display_data"
    },
    {
     "name": "stderr",
     "output_type": "stream",
     "text": [
      "\u001b[32mloss: 9.1e-05:  25%|██████████▍                              |  ETA: 0:07:37\u001b[39mm"
     ]
    },
    {
     "data": {
      "text/plain": [
       "9.974383f-5"
      ]
     },
     "metadata": {},
     "output_type": "display_data"
    },
    {
     "name": "stderr",
     "output_type": "stream",
     "text": [
      "\u001b[32mloss: 0.000114:  26%|██████████▌                              |  ETA: 0:07:32\u001b[39m"
     ]
    },
    {
     "data": {
      "text/plain": [
       "9.205707f-5"
      ]
     },
     "metadata": {},
     "output_type": "display_data"
    },
    {
     "name": "stderr",
     "output_type": "stream",
     "text": [
      "\u001b[32mloss: 0.000101:  26%|██████████▊                              |  ETA: 0:07:27\u001b[39m"
     ]
    },
    {
     "data": {
      "text/plain": [
       "9.542296f-5"
      ]
     },
     "metadata": {},
     "output_type": "display_data"
    },
    {
     "name": "stderr",
     "output_type": "stream",
     "text": [
      "\u001b[32mloss: 9.13e-05:  26%|██████████▉                              |  ETA: 0:07:21\u001b[39m"
     ]
    },
    {
     "data": {
      "text/plain": [
       "9.107622f-5"
      ]
     },
     "metadata": {},
     "output_type": "display_data"
    },
    {
     "name": "stderr",
     "output_type": "stream",
     "text": [
      "\u001b[32mloss: 8.63e-05:  27%|███████████                              |  ETA: 0:07:16\u001b[39m"
     ]
    },
    {
     "data": {
      "text/plain": [
       "8.701118f-5"
      ]
     },
     "metadata": {},
     "output_type": "display_data"
    },
    {
     "name": "stderr",
     "output_type": "stream",
     "text": [
      "\u001b[32mloss: 8.34e-05:  27%|███████████▎                             |  ETA: 0:07:12\u001b[39m"
     ]
    },
    {
     "data": {
      "text/plain": [
       "8.405154f-5"
      ]
     },
     "metadata": {},
     "output_type": "display_data"
    },
    {
     "name": "stderr",
     "output_type": "stream",
     "text": [
      "\u001b[32mloss: 8.13e-05:  28%|███████████▍                             |  ETA: 0:07:07\u001b[39m"
     ]
    },
    {
     "data": {
      "text/plain": [
       "8.1957434f-5"
      ]
     },
     "metadata": {},
     "output_type": "display_data"
    },
    {
     "name": "stderr",
     "output_type": "stream",
     "text": [
      "\u001b[32mloss: 7.98e-05:  28%|███████████▌                             |  ETA: 0:07:02\u001b[39m"
     ]
    },
    {
     "data": {
      "text/plain": [
       "8.041356f-5"
      ]
     },
     "metadata": {},
     "output_type": "display_data"
    },
    {
     "name": "stderr",
     "output_type": "stream",
     "text": [
      "\u001b[32mloss: 7.92e-05:  29%|███████████▊                             |  ETA: 0:06:56\u001b[39m"
     ]
    },
    {
     "data": {
      "text/plain": [
       "7.833356f-5"
      ]
     },
     "metadata": {},
     "output_type": "display_data"
    },
    {
     "name": "stderr",
     "output_type": "stream",
     "text": [
      "\u001b[32mloss: 7.78e-05:  29%|███████████▉                             |  ETA: 0:06:50\u001b[39m"
     ]
    },
    {
     "data": {
      "text/plain": [
       "7.70202f-5"
      ]
     },
     "metadata": {},
     "output_type": "display_data"
    },
    {
     "name": "stderr",
     "output_type": "stream",
     "text": [
      "\u001b[32mloss: 7.68e-05:  30%|████████████▏                            |  ETA: 0:06:44\u001b[39m"
     ]
    },
    {
     "data": {
      "text/plain": [
       "7.628841f-5"
      ]
     },
     "metadata": {},
     "output_type": "display_data"
    },
    {
     "name": "stderr",
     "output_type": "stream",
     "text": [
      "\u001b[32mloss: 7.6e-05:  30%|████████████▍                            |  ETA: 0:06:39\u001b[39mm"
     ]
    },
    {
     "data": {
      "text/plain": [
       "7.57105f-5"
      ]
     },
     "metadata": {},
     "output_type": "display_data"
    },
    {
     "name": "stderr",
     "output_type": "stream",
     "text": [
      "\u001b[32mloss: 7.54e-05:  31%|████████████▌                            |  ETA: 0:06:34\u001b[39m"
     ]
    },
    {
     "data": {
      "text/plain": [
       "7.515511f-5"
      ]
     },
     "metadata": {},
     "output_type": "display_data"
    },
    {
     "name": "stderr",
     "output_type": "stream",
     "text": [
      "\u001b[32mloss: 7.5e-05:  31%|████████████▊                            |  ETA: 0:06:29\u001b[39mm"
     ]
    },
    {
     "data": {
      "text/plain": [
       "7.4813615f-5"
      ]
     },
     "metadata": {},
     "output_type": "display_data"
    },
    {
     "name": "stderr",
     "output_type": "stream",
     "text": [
      "\u001b[32mloss: 7.43e-05:  32%|████████████▉                            |  ETA: 0:06:24\u001b[39m"
     ]
    },
    {
     "data": {
      "text/plain": [
       "7.422124f-5"
      ]
     },
     "metadata": {},
     "output_type": "display_data"
    },
    {
     "name": "stderr",
     "output_type": "stream",
     "text": [
      "\u001b[32mloss: 7.37e-05:  32%|█████████████▏                           |  ETA: 0:06:19\u001b[39m"
     ]
    },
    {
     "data": {
      "text/plain": [
       "7.358318f-5"
      ]
     },
     "metadata": {},
     "output_type": "display_data"
    },
    {
     "name": "stderr",
     "output_type": "stream",
     "text": [
      "\u001b[32mloss: 7.31e-05:  32%|█████████████▍                           |  ETA: 0:06:14\u001b[39m"
     ]
    },
    {
     "data": {
      "text/plain": [
       "7.2974144f-5"
      ]
     },
     "metadata": {},
     "output_type": "display_data"
    },
    {
     "name": "stderr",
     "output_type": "stream",
     "text": [
      "\u001b[32mloss: 7.25e-05:  33%|█████████████▌                           |  ETA: 0:06:09\u001b[39m"
     ]
    },
    {
     "data": {
      "text/plain": [
       "7.242929f-5"
      ]
     },
     "metadata": {},
     "output_type": "display_data"
    },
    {
     "name": "stderr",
     "output_type": "stream",
     "text": [
      "\u001b[32mloss: 7.21e-05:  33%|█████████████▊                           |  ETA: 0:06:06\u001b[39m"
     ]
    },
    {
     "data": {
      "text/plain": [
       "7.193629f-5"
      ]
     },
     "metadata": {},
     "output_type": "display_data"
    },
    {
     "name": "stderr",
     "output_type": "stream",
     "text": [
      "\u001b[32mloss: 7.16e-05:  34%|█████████████▉                           |  ETA: 0:06:02\u001b[39m"
     ]
    },
    {
     "data": {
      "text/plain": [
       "7.1479364f-5"
      ]
     },
     "metadata": {},
     "output_type": "display_data"
    },
    {
     "name": "stderr",
     "output_type": "stream",
     "text": [
      "\u001b[32mloss: 7.11e-05:  34%|██████████████                           |  ETA: 0:05:58\u001b[39m"
     ]
    },
    {
     "data": {
      "text/plain": [
       "7.1028924f-5"
      ]
     },
     "metadata": {},
     "output_type": "display_data"
    },
    {
     "name": "stderr",
     "output_type": "stream",
     "text": [
      "\u001b[32mloss: 7.07e-05:  35%|██████████████▏                          |  ETA: 0:05:55\u001b[39m"
     ]
    },
    {
     "data": {
      "text/plain": [
       "7.058741f-5"
      ]
     },
     "metadata": {},
     "output_type": "display_data"
    },
    {
     "name": "stderr",
     "output_type": "stream",
     "text": [
      "\u001b[32mloss: 7.03e-05:  35%|██████████████▍                          |  ETA: 0:05:50\u001b[39m"
     ]
    },
    {
     "data": {
      "text/plain": [
       "7.025276f-5"
      ]
     },
     "metadata": {},
     "output_type": "display_data"
    },
    {
     "name": "stderr",
     "output_type": "stream",
     "text": [
      "\u001b[32mloss: 7.1e-05:  36%|██████████████▌                          |  ETA: 0:05:46\u001b[39mm"
     ]
    },
    {
     "data": {
      "text/plain": [
       "7.2024035f-5"
      ]
     },
     "metadata": {},
     "output_type": "display_data"
    },
    {
     "name": "stderr",
     "output_type": "stream",
     "text": [
      "\u001b[32mloss: 9.46e-05:  36%|██████████████▊                          |  ETA: 0:05:41\u001b[39m"
     ]
    },
    {
     "data": {
      "text/plain": [
       "0.00010829094f0"
      ]
     },
     "metadata": {},
     "output_type": "display_data"
    },
    {
     "name": "stderr",
     "output_type": "stream",
     "text": [
      "\u001b[32mloss: 7.1e-05:  36%|███████████████                          |  ETA: 0:05:37\u001b[39mm"
     ]
    },
    {
     "data": {
      "text/plain": [
       "7.1603376f-5"
      ]
     },
     "metadata": {},
     "output_type": "display_data"
    },
    {
     "name": "stderr",
     "output_type": "stream",
     "text": [
      "\u001b[32mloss: 6.95e-05:  37%|███████████████▏                         |  ETA: 0:05:33\u001b[39m"
     ]
    },
    {
     "data": {
      "text/plain": [
       "7.0576934f-5"
      ]
     },
     "metadata": {},
     "output_type": "display_data"
    },
    {
     "name": "stderr",
     "output_type": "stream",
     "text": [
      "\u001b[32mloss: 6.76e-05:  38%|███████████████▍                         |  ETA: 0:05:29\u001b[39m"
     ]
    },
    {
     "data": {
      "text/plain": [
       "7.1647126f-5"
      ]
     },
     "metadata": {},
     "output_type": "display_data"
    },
    {
     "name": "stderr",
     "output_type": "stream",
     "text": [
      "\u001b[32mloss: 6.78e-05:  38%|███████████████▋                         |  ETA: 0:05:24\u001b[39m"
     ]
    },
    {
     "data": {
      "text/plain": [
       "7.157074f-5"
      ]
     },
     "metadata": {},
     "output_type": "display_data"
    },
    {
     "name": "stderr",
     "output_type": "stream",
     "text": [
      "\u001b[32mloss: 6.8e-05:  38%|███████████████▊                         |  ETA: 0:05:20\u001b[39mm"
     ]
    },
    {
     "data": {
      "text/plain": [
       "7.0094626f-5"
      ]
     },
     "metadata": {},
     "output_type": "display_data"
    },
    {
     "name": "stderr",
     "output_type": "stream",
     "text": [
      "\u001b[32mloss: 6.75e-05:  39%|████████████████                         |  ETA: 0:05:16\u001b[39m"
     ]
    },
    {
     "data": {
      "text/plain": [
       "6.8336754f-5"
      ]
     },
     "metadata": {},
     "output_type": "display_data"
    },
    {
     "name": "stderr",
     "output_type": "stream",
     "text": [
      "\u001b[32mloss: 6.58e-05:  39%|████████████████▏                        |  ETA: 0:05:13\u001b[39m"
     ]
    },
    {
     "data": {
      "text/plain": [
       "6.6557266f-5"
      ]
     },
     "metadata": {},
     "output_type": "display_data"
    },
    {
     "name": "stderr",
     "output_type": "stream",
     "text": [
      "\u001b[32mloss: 6.53e-05:  40%|████████████████▍                        |  ETA: 0:05:10\u001b[39m"
     ]
    },
    {
     "data": {
      "text/plain": [
       "6.5148495f-5"
      ]
     },
     "metadata": {},
     "output_type": "display_data"
    },
    {
     "name": "stderr",
     "output_type": "stream",
     "text": [
      "\u001b[32mloss: 6.55e-05:  40%|████████████████▌                        |  ETA: 0:05:07\u001b[39m"
     ]
    },
    {
     "data": {
      "text/plain": [
       "6.4857966f-5"
      ]
     },
     "metadata": {},
     "output_type": "display_data"
    },
    {
     "name": "stderr",
     "output_type": "stream",
     "text": [
      "\u001b[32mloss: 6.48e-05:  41%|████████████████▋                        |  ETA: 0:05:03\u001b[39m"
     ]
    },
    {
     "data": {
      "text/plain": [
       "6.4428365f-5"
      ]
     },
     "metadata": {},
     "output_type": "display_data"
    },
    {
     "name": "stderr",
     "output_type": "stream",
     "text": [
      "\u001b[32mloss: 6.4e-05:  41%|████████████████▉                        |  ETA: 0:04:59\u001b[39mm"
     ]
    },
    {
     "data": {
      "text/plain": [
       "6.3905216f-5"
      ]
     },
     "metadata": {},
     "output_type": "display_data"
    },
    {
     "name": "stderr",
     "output_type": "stream",
     "text": [
      "\u001b[32mloss: 6.32e-05:  42%|█████████████████▏                       |  ETA: 0:04:55\u001b[39m"
     ]
    },
    {
     "data": {
      "text/plain": [
       "6.316644f-5"
      ]
     },
     "metadata": {},
     "output_type": "display_data"
    },
    {
     "name": "stderr",
     "output_type": "stream",
     "text": [
      "\u001b[32mloss: 6.27e-05:  42%|█████████████████▎                       |  ETA: 0:04:52\u001b[39m"
     ]
    },
    {
     "data": {
      "text/plain": [
       "6.25016f-5"
      ]
     },
     "metadata": {},
     "output_type": "display_data"
    },
    {
     "name": "stderr",
     "output_type": "stream",
     "text": [
      "\u001b[32mloss: 6.22e-05:  43%|█████████████████▌                       |  ETA: 0:04:48\u001b[39m"
     ]
    },
    {
     "data": {
      "text/plain": [
       "6.205487f-5"
      ]
     },
     "metadata": {},
     "output_type": "display_data"
    },
    {
     "name": "stderr",
     "output_type": "stream",
     "text": [
      "\u001b[32mloss: 6.15e-05:  43%|█████████████████▊                       |  ETA: 0:04:45\u001b[39m"
     ]
    },
    {
     "data": {
      "text/plain": [
       "6.140517f-5"
      ]
     },
     "metadata": {},
     "output_type": "display_data"
    },
    {
     "name": "stderr",
     "output_type": "stream",
     "text": [
      "\u001b[32mloss: 6.1e-05:  44%|█████████████████▉                       |  ETA: 0:04:41\u001b[39mm"
     ]
    },
    {
     "data": {
      "text/plain": [
       "6.0904335f-5"
      ]
     },
     "metadata": {},
     "output_type": "display_data"
    },
    {
     "name": "stderr",
     "output_type": "stream",
     "text": [
      "\u001b[32mloss: 6.05e-05:  44%|██████████████████▏                      |  ETA: 0:04:38\u001b[39m"
     ]
    },
    {
     "data": {
      "text/plain": [
       "6.0424834f-5"
      ]
     },
     "metadata": {},
     "output_type": "display_data"
    },
    {
     "name": "stderr",
     "output_type": "stream",
     "text": [
      "\u001b[32mloss: 6.02e-05:  45%|██████████████████▍                      |  ETA: 0:04:34\u001b[39m"
     ]
    },
    {
     "data": {
      "text/plain": [
       "6.0267135f-5"
      ]
     },
     "metadata": {},
     "output_type": "display_data"
    },
    {
     "name": "stderr",
     "output_type": "stream",
     "text": [
      "\u001b[32mloss: 6.27e-05:  45%|██████████████████▌                      |  ETA: 0:04:31\u001b[39m"
     ]
    },
    {
     "data": {
      "text/plain": [
       "6.4905915f-5"
      ]
     },
     "metadata": {},
     "output_type": "display_data"
    },
    {
     "name": "stderr",
     "output_type": "stream",
     "text": [
      "\u001b[32mloss: 0.000101:  46%|██████████████████▊                      |  ETA: 0:04:27\u001b[39m"
     ]
    },
    {
     "data": {
      "text/plain": [
       "0.00011489912f0"
      ]
     },
     "metadata": {},
     "output_type": "display_data"
    },
    {
     "name": "stderr",
     "output_type": "stream",
     "text": [
      "\u001b[32mloss: 5.84e-05:  46%|███████████████████                      |  ETA: 0:04:24\u001b[39m"
     ]
    },
    {
     "data": {
      "text/plain": [
       "6.794647f-5"
      ]
     },
     "metadata": {},
     "output_type": "display_data"
    },
    {
     "name": "stderr",
     "output_type": "stream",
     "text": [
      "\u001b[32mloss: 5.85e-05:  47%|███████████████████▏                     |  ETA: 0:04:21\u001b[39m"
     ]
    },
    {
     "data": {
      "text/plain": [
       "6.199953f-5"
      ]
     },
     "metadata": {},
     "output_type": "display_data"
    },
    {
     "name": "stderr",
     "output_type": "stream",
     "text": [
      "\u001b[32mloss: 5.77e-05:  47%|███████████████████▍                     |  ETA: 0:04:17\u001b[39m"
     ]
    },
    {
     "data": {
      "text/plain": [
       "6.087087f-5"
      ]
     },
     "metadata": {},
     "output_type": "display_data"
    },
    {
     "name": "stderr",
     "output_type": "stream",
     "text": [
      "\u001b[32mloss: 5.72e-05:  48%|███████████████████▌                     |  ETA: 0:04:14\u001b[39m"
     ]
    },
    {
     "data": {
      "text/plain": [
       "5.9871545f-5"
      ]
     },
     "metadata": {},
     "output_type": "display_data"
    },
    {
     "name": "stderr",
     "output_type": "stream",
     "text": [
      "\u001b[32mloss: 5.68e-05:  48%|███████████████████▊                     |  ETA: 0:04:11\u001b[39m"
     ]
    },
    {
     "data": {
      "text/plain": [
       "5.850682f-5"
      ]
     },
     "metadata": {},
     "output_type": "display_data"
    },
    {
     "name": "stderr",
     "output_type": "stream",
     "text": [
      "\u001b[32mloss: 5.62e-05:  49%|████████████████████                     |  ETA: 0:04:08\u001b[39m"
     ]
    },
    {
     "data": {
      "text/plain": [
       "5.7107638f-5"
      ]
     },
     "metadata": {},
     "output_type": "display_data"
    },
    {
     "name": "stderr",
     "output_type": "stream",
     "text": [
      "\u001b[32mloss: 5.57e-05:  49%|████████████████████▏                    |  ETA: 0:04:04\u001b[39m"
     ]
    },
    {
     "data": {
      "text/plain": [
       "5.5922785f-5"
      ]
     },
     "metadata": {},
     "output_type": "display_data"
    },
    {
     "name": "stderr",
     "output_type": "stream",
     "text": [
      "\u001b[32mloss: 5.53e-05:  50%|████████████████████▍                    |  ETA: 0:04:01\u001b[39m"
     ]
    },
    {
     "data": {
      "text/plain": [
       "5.5075616f-5"
      ]
     },
     "metadata": {},
     "output_type": "display_data"
    },
    {
     "name": "stderr",
     "output_type": "stream",
     "text": [
      "\u001b[32mloss: 5.51e-05:  50%|████████████████████▋                    |  ETA: 0:03:58\u001b[39m"
     ]
    },
    {
     "data": {
      "text/plain": [
       "5.467636f-5"
      ]
     },
     "metadata": {},
     "output_type": "display_data"
    },
    {
     "name": "stderr",
     "output_type": "stream",
     "text": [
      "\u001b[32mloss: 5.46e-05:  51%|████████████████████▊                    |  ETA: 0:03:55\u001b[39m"
     ]
    },
    {
     "data": {
      "text/plain": [
       "5.44438f-5"
      ]
     },
     "metadata": {},
     "output_type": "display_data"
    },
    {
     "name": "stderr",
     "output_type": "stream",
     "text": [
      "\u001b[32mloss: 5.38e-05:  51%|█████████████████████                    |  ETA: 0:03:53\u001b[39m"
     ]
    },
    {
     "data": {
      "text/plain": [
       "5.373f-5"
      ]
     },
     "metadata": {},
     "output_type": "display_data"
    },
    {
     "name": "stderr",
     "output_type": "stream",
     "text": [
      "\u001b[32mloss: 5.36e-05:  52%|█████████████████████▏                   |  ETA: 0:03:50\u001b[39m"
     ]
    },
    {
     "data": {
      "text/plain": [
       "5.344039f-5"
      ]
     },
     "metadata": {},
     "output_type": "display_data"
    },
    {
     "name": "stderr",
     "output_type": "stream",
     "text": [
      "\u001b[32mloss: 5.3e-05:  52%|█████████████████████▎                   |  ETA: 0:03:48\u001b[39mm"
     ]
    },
    {
     "data": {
      "text/plain": [
       "5.2868167f-5"
      ]
     },
     "metadata": {},
     "output_type": "display_data"
    },
    {
     "name": "stderr",
     "output_type": "stream",
     "text": [
      "\u001b[32mloss: 5.27e-05:  52%|█████████████████████▌                   |  ETA: 0:03:46\u001b[39m"
     ]
    },
    {
     "data": {
      "text/plain": [
       "5.2597614f-5"
      ]
     },
     "metadata": {},
     "output_type": "display_data"
    },
    {
     "name": "stderr",
     "output_type": "stream",
     "text": [
      "\u001b[32mloss: 5.21e-05:  53%|█████████████████████▋                   |  ETA: 0:03:43\u001b[39m"
     ]
    },
    {
     "data": {
      "text/plain": [
       "5.2000687f-5"
      ]
     },
     "metadata": {},
     "output_type": "display_data"
    },
    {
     "name": "stderr",
     "output_type": "stream",
     "text": [
      "\u001b[32mloss: 5.16e-05:  53%|█████████████████████▉                   |  ETA: 0:03:40\u001b[39m"
     ]
    },
    {
     "data": {
      "text/plain": [
       "5.1448224f-5"
      ]
     },
     "metadata": {},
     "output_type": "display_data"
    },
    {
     "name": "stderr",
     "output_type": "stream",
     "text": [
      "\u001b[32mloss: 5.1e-05:  54%|██████████████████████                   |  ETA: 0:03:37\u001b[39mm"
     ]
    },
    {
     "data": {
      "text/plain": [
       "5.0949147f-5"
      ]
     },
     "metadata": {},
     "output_type": "display_data"
    },
    {
     "name": "stderr",
     "output_type": "stream",
     "text": [
      "\u001b[32mloss: 5.06e-05:  54%|██████████████████████▎                  |  ETA: 0:03:34\u001b[39m"
     ]
    },
    {
     "data": {
      "text/plain": [
       "5.0525596f-5"
      ]
     },
     "metadata": {},
     "output_type": "display_data"
    },
    {
     "name": "stderr",
     "output_type": "stream",
     "text": [
      "\u001b[32mloss: 5.11e-05:  55%|██████████████████████▌                  |  ETA: 0:03:31\u001b[39m"
     ]
    },
    {
     "data": {
      "text/plain": [
       "5.1931107f-5"
      ]
     },
     "metadata": {},
     "output_type": "display_data"
    },
    {
     "name": "stderr",
     "output_type": "stream",
     "text": [
      "\u001b[32mloss: 6.63e-05:  55%|██████████████████████▋                  |  ETA: 0:03:29\u001b[39m"
     ]
    },
    {
     "data": {
      "text/plain": [
       "8.2973296f-5"
      ]
     },
     "metadata": {},
     "output_type": "display_data"
    },
    {
     "name": "stderr",
     "output_type": "stream",
     "text": [
      "\u001b[32mloss: 0.000184:  56%|██████████████████████▊                  |  ETA: 0:03:27\u001b[39m"
     ]
    },
    {
     "data": {
      "text/plain": [
       "0.00015647186f0"
      ]
     },
     "metadata": {},
     "output_type": "display_data"
    },
    {
     "name": "stderr",
     "output_type": "stream",
     "text": [
      "\u001b[32mloss: 8.68e-05:  56%|███████████████████████                  |  ETA: 0:03:24\u001b[39m"
     ]
    },
    {
     "data": {
      "text/plain": [
       "0.000118815355f0"
      ]
     },
     "metadata": {},
     "output_type": "display_data"
    },
    {
     "name": "stderr",
     "output_type": "stream",
     "text": [
      "\u001b[32mloss: 6.71e-05:  56%|███████████████████████▏                 |  ETA: 0:03:22\u001b[39m"
     ]
    },
    {
     "data": {
      "text/plain": [
       "9.211339f-5"
      ]
     },
     "metadata": {},
     "output_type": "display_data"
    },
    {
     "name": "stderr",
     "output_type": "stream",
     "text": [
      "\u001b[32mloss: 6.43e-05:  57%|███████████████████████▎                 |  ETA: 0:03:20\u001b[39m"
     ]
    },
    {
     "data": {
      "text/plain": [
       "7.696628f-5"
      ]
     },
     "metadata": {},
     "output_type": "display_data"
    },
    {
     "name": "stderr",
     "output_type": "stream",
     "text": [
      "\u001b[32mloss: 6.53e-05:  57%|███████████████████████▌                 |  ETA: 0:03:17\u001b[39m"
     ]
    },
    {
     "data": {
      "text/plain": [
       "5.1144663f-5"
      ]
     },
     "metadata": {},
     "output_type": "display_data"
    },
    {
     "name": "stderr",
     "output_type": "stream",
     "text": [
      "\u001b[32mloss: 4.83e-05:  58%|███████████████████████▊                 |  ETA: 0:03:14\u001b[39m"
     ]
    },
    {
     "data": {
      "text/plain": [
       "5.2502866f-5"
      ]
     },
     "metadata": {},
     "output_type": "display_data"
    },
    {
     "name": "stderr",
     "output_type": "stream",
     "text": [
      "\u001b[32mloss: 5.24e-05:  58%|███████████████████████▉                 |  ETA: 0:03:12\u001b[39m"
     ]
    },
    {
     "data": {
      "text/plain": [
       "5.3252643f-5"
      ]
     },
     "metadata": {},
     "output_type": "display_data"
    },
    {
     "name": "stderr",
     "output_type": "stream",
     "text": [
      "\u001b[32mloss: 5.05e-05:  59%|████████████████████████▏                |  ETA: 0:03:09\u001b[39m"
     ]
    },
    {
     "data": {
      "text/plain": [
       "4.7513553f-5"
      ]
     },
     "metadata": {},
     "output_type": "display_data"
    },
    {
     "name": "stderr",
     "output_type": "stream",
     "text": [
      "\u001b[32mloss: 4.7e-05:  59%|████████████████████████▍                |  ETA: 0:03:06\u001b[39mm"
     ]
    },
    {
     "data": {
      "text/plain": [
       "4.766489f-5"
      ]
     },
     "metadata": {},
     "output_type": "display_data"
    },
    {
     "name": "stderr",
     "output_type": "stream",
     "text": [
      "\u001b[32mloss: 4.71e-05:  60%|████████████████████████▌                |  ETA: 0:03:04\u001b[39m"
     ]
    },
    {
     "data": {
      "text/plain": [
       "4.7775076f-5"
      ]
     },
     "metadata": {},
     "output_type": "display_data"
    },
    {
     "name": "stderr",
     "output_type": "stream",
     "text": [
      "\u001b[32mloss: 4.7e-05:  60%|████████████████████████▊                |  ETA: 0:03:01\u001b[39mm"
     ]
    },
    {
     "data": {
      "text/plain": [
       "4.6586483f-5"
      ]
     },
     "metadata": {},
     "output_type": "display_data"
    },
    {
     "name": "stderr",
     "output_type": "stream",
     "text": [
      "\u001b[32mloss: 4.61e-05:  61%|████████████████████████▉                |  ETA: 0:02:58\u001b[39m"
     ]
    },
    {
     "data": {
      "text/plain": [
       "4.5682445f-5"
      ]
     },
     "metadata": {},
     "output_type": "display_data"
    },
    {
     "name": "stderr",
     "output_type": "stream",
     "text": [
      "\u001b[32mloss: 4.57e-05:  61%|█████████████████████████▏               |  ETA: 0:02:56\u001b[39m"
     ]
    },
    {
     "data": {
      "text/plain": [
       "4.5403027f-5"
      ]
     },
     "metadata": {},
     "output_type": "display_data"
    },
    {
     "name": "stderr",
     "output_type": "stream",
     "text": [
      "\u001b[32mloss: 4.53e-05:  62%|█████████████████████████▎               |  ETA: 0:02:54\u001b[39m"
     ]
    },
    {
     "data": {
      "text/plain": [
       "4.510599f-5"
      ]
     },
     "metadata": {},
     "output_type": "display_data"
    },
    {
     "name": "stderr",
     "output_type": "stream",
     "text": [
      "\u001b[32mloss: 4.48e-05:  62%|█████████████████████████▍               |  ETA: 0:02:52\u001b[39m"
     ]
    },
    {
     "data": {
      "text/plain": [
       "4.475617f-5"
      ]
     },
     "metadata": {},
     "output_type": "display_data"
    },
    {
     "name": "stderr",
     "output_type": "stream",
     "text": [
      "\u001b[32mloss: 4.44e-05:  62%|█████████████████████████▋               |  ETA: 0:02:50\u001b[39m"
     ]
    },
    {
     "data": {
      "text/plain": [
       "4.435119f-5"
      ]
     },
     "metadata": {},
     "output_type": "display_data"
    },
    {
     "name": "stderr",
     "output_type": "stream",
     "text": [
      "\u001b[32mloss: 4.39e-05:  63%|█████████████████████████▊               |  ETA: 0:02:48\u001b[39m"
     ]
    },
    {
     "data": {
      "text/plain": [
       "4.389629f-5"
      ]
     },
     "metadata": {},
     "output_type": "display_data"
    },
    {
     "name": "stderr",
     "output_type": "stream",
     "text": [
      "\u001b[32mloss: 4.36e-05:  63%|██████████████████████████               |  ETA: 0:02:45\u001b[39m"
     ]
    },
    {
     "data": {
      "text/plain": [
       "4.3513846f-5"
      ]
     },
     "metadata": {},
     "output_type": "display_data"
    },
    {
     "name": "stderr",
     "output_type": "stream",
     "text": [
      "\u001b[32mloss: 4.32e-05:  64%|██████████████████████████▏              |  ETA: 0:02:43\u001b[39m"
     ]
    },
    {
     "data": {
      "text/plain": [
       "4.309153f-5"
      ]
     },
     "metadata": {},
     "output_type": "display_data"
    },
    {
     "name": "stderr",
     "output_type": "stream",
     "text": [
      "\u001b[32mloss: 4.28e-05:  64%|██████████████████████████▍              |  ETA: 0:02:40\u001b[39m"
     ]
    },
    {
     "data": {
      "text/plain": [
       "4.2679145f-5"
      ]
     },
     "metadata": {},
     "output_type": "display_data"
    },
    {
     "name": "stderr",
     "output_type": "stream",
     "text": [
      "\u001b[32mloss: 4.24e-05:  65%|██████████████████████████▋              |  ETA: 0:02:38\u001b[39m"
     ]
    },
    {
     "data": {
      "text/plain": [
       "4.2266936f-5"
      ]
     },
     "metadata": {},
     "output_type": "display_data"
    },
    {
     "name": "stderr",
     "output_type": "stream",
     "text": [
      "\u001b[32mloss: 4.19e-05:  65%|██████████████████████████▊              |  ETA: 0:02:35\u001b[39m"
     ]
    },
    {
     "data": {
      "text/plain": [
       "4.1843094f-5"
      ]
     },
     "metadata": {},
     "output_type": "display_data"
    },
    {
     "name": "stderr",
     "output_type": "stream",
     "text": [
      "\u001b[32mloss: 4.15e-05:  66%|███████████████████████████              |  ETA: 0:02:33\u001b[39m"
     ]
    },
    {
     "data": {
      "text/plain": [
       "4.1427047f-5"
      ]
     },
     "metadata": {},
     "output_type": "display_data"
    },
    {
     "name": "stderr",
     "output_type": "stream",
     "text": [
      "\u001b[32mloss: 4.12e-05:  66%|███████████████████████████▏             |  ETA: 0:02:31\u001b[39m"
     ]
    },
    {
     "data": {
      "text/plain": [
       "4.1096097f-5"
      ]
     },
     "metadata": {},
     "output_type": "display_data"
    },
    {
     "name": "stderr",
     "output_type": "stream",
     "text": [
      "\u001b[32mloss: 4.08e-05:  67%|███████████████████████████▍             |  ETA: 0:02:28\u001b[39m"
     ]
    },
    {
     "data": {
      "text/plain": [
       "4.0684958f-5"
      ]
     },
     "metadata": {},
     "output_type": "display_data"
    },
    {
     "name": "stderr",
     "output_type": "stream",
     "text": [
      "\u001b[32mloss: 4.04e-05:  67%|███████████████████████████▌             |  ETA: 0:02:26\u001b[39m"
     ]
    },
    {
     "data": {
      "text/plain": [
       "4.0271283f-5"
      ]
     },
     "metadata": {},
     "output_type": "display_data"
    },
    {
     "name": "stderr",
     "output_type": "stream",
     "text": [
      "\u001b[32mloss: 4e-05:  68%|███████████████████████████▊             |  ETA: 0:02:24\u001b[39m39m"
     ]
    },
    {
     "data": {
      "text/plain": [
       "3.9943414f-5"
      ]
     },
     "metadata": {},
     "output_type": "display_data"
    },
    {
     "name": "stderr",
     "output_type": "stream",
     "text": [
      "\u001b[32mloss: 3.97e-05:  68%|███████████████████████████▉             |  ETA: 0:02:22\u001b[39m"
     ]
    },
    {
     "data": {
      "text/plain": [
       "3.9616854f-5"
      ]
     },
     "metadata": {},
     "output_type": "display_data"
    },
    {
     "name": "stderr",
     "output_type": "stream",
     "text": [
      "\u001b[32mloss: 3.94e-05:  68%|████████████████████████████             |  ETA: 0:02:20\u001b[39m"
     ]
    },
    {
     "data": {
      "text/plain": [
       "3.9291688f-5"
      ]
     },
     "metadata": {},
     "output_type": "display_data"
    },
    {
     "name": "stderr",
     "output_type": "stream",
     "text": [
      "\u001b[32mloss: 3.9e-05:  69%|████████████████████████████▎            |  ETA: 0:02:18\u001b[39mm"
     ]
    },
    {
     "data": {
      "text/plain": [
       "3.889526f-5"
      ]
     },
     "metadata": {},
     "output_type": "display_data"
    },
    {
     "name": "stderr",
     "output_type": "stream",
     "text": [
      "\u001b[32mloss: 3.87e-05:  69%|████████████████████████████▍            |  ETA: 0:02:16\u001b[39m"
     ]
    },
    {
     "data": {
      "text/plain": [
       "3.872562f-5"
      ]
     },
     "metadata": {},
     "output_type": "display_data"
    },
    {
     "name": "stderr",
     "output_type": "stream",
     "text": [
      "\u001b[32mloss: 4.2e-05:  70%|████████████████████████████▋            |  ETA: 0:02:13\u001b[39mm"
     ]
    },
    {
     "data": {
      "text/plain": [
       "4.6783403f-5"
      ]
     },
     "metadata": {},
     "output_type": "display_data"
    },
    {
     "name": "stderr",
     "output_type": "stream",
     "text": [
      "\u001b[32mloss: 0.000218:  70%|████████████████████████████▉            |  ETA: 0:02:11\u001b[39m"
     ]
    },
    {
     "data": {
      "text/plain": [
       "0.00028906f0"
      ]
     },
     "metadata": {},
     "output_type": "display_data"
    },
    {
     "name": "stderr",
     "output_type": "stream",
     "text": [
      "\u001b[32mloss: 4.76e-05:  71%|█████████████████████████████            |  ETA: 0:02:09\u001b[39m"
     ]
    },
    {
     "data": {
      "text/plain": [
       "0.00014458493f0"
      ]
     },
     "metadata": {},
     "output_type": "display_data"
    },
    {
     "name": "stderr",
     "output_type": "stream",
     "text": [
      "\u001b[32mloss: 5.69e-05:  71%|█████████████████████████████▏           |  ETA: 0:02:07\u001b[39m"
     ]
    },
    {
     "data": {
      "text/plain": [
       "0.00012265837f0"
      ]
     },
     "metadata": {},
     "output_type": "display_data"
    },
    {
     "name": "stderr",
     "output_type": "stream",
     "text": [
      "\u001b[32mloss: 8.29e-05:  72%|█████████████████████████████▍           |  ETA: 0:02:05\u001b[39m"
     ]
    },
    {
     "data": {
      "text/plain": [
       "8.579779f-5"
      ]
     },
     "metadata": {},
     "output_type": "display_data"
    },
    {
     "name": "stderr",
     "output_type": "stream",
     "text": [
      "\u001b[32mloss: 4.37e-05:  72%|█████████████████████████████▌           |  ETA: 0:02:03\u001b[39m"
     ]
    },
    {
     "data": {
      "text/plain": [
       "4.804201f-5"
      ]
     },
     "metadata": {},
     "output_type": "display_data"
    },
    {
     "name": "stderr",
     "output_type": "stream",
     "text": [
      "\u001b[32mloss: 4.23e-05:  72%|█████████████████████████████▋           |  ETA: 0:02:01\u001b[39m"
     ]
    },
    {
     "data": {
      "text/plain": [
       "5.866406f-5"
      ]
     },
     "metadata": {},
     "output_type": "display_data"
    },
    {
     "name": "stderr",
     "output_type": "stream",
     "text": [
      "\u001b[32mloss: 5.22e-05:  73%|█████████████████████████████▉           |  ETA: 0:01:59\u001b[39m"
     ]
    },
    {
     "data": {
      "text/plain": [
       "4.509424f-5"
      ]
     },
     "metadata": {},
     "output_type": "display_data"
    },
    {
     "name": "stderr",
     "output_type": "stream",
     "text": [
      "\u001b[32mloss: 3.74e-05:  73%|██████████████████████████████           |  ETA: 0:01:57\u001b[39m"
     ]
    },
    {
     "data": {
      "text/plain": [
       "4.3451702f-5"
      ]
     },
     "metadata": {},
     "output_type": "display_data"
    },
    {
     "name": "stderr",
     "output_type": "stream",
     "text": [
      "\u001b[32mloss: 4.07e-05:  74%|██████████████████████████████▎          |  ETA: 0:01:55\u001b[39m"
     ]
    },
    {
     "data": {
      "text/plain": [
       "4.212388f-5"
      ]
     },
     "metadata": {},
     "output_type": "display_data"
    },
    {
     "name": "stderr",
     "output_type": "stream",
     "text": [
      "\u001b[32mloss: 3.77e-05:  74%|██████████████████████████████▍          |  ETA: 0:01:52\u001b[39m"
     ]
    },
    {
     "data": {
      "text/plain": [
       "3.7367092f-5"
      ]
     },
     "metadata": {},
     "output_type": "display_data"
    },
    {
     "name": "stderr",
     "output_type": "stream",
     "text": [
      "\u001b[32mloss: 3.83e-05:  75%|██████████████████████████████▋          |  ETA: 0:01:50\u001b[39m"
     ]
    },
    {
     "data": {
      "text/plain": [
       "3.784706f-5"
      ]
     },
     "metadata": {},
     "output_type": "display_data"
    },
    {
     "name": "stderr",
     "output_type": "stream",
     "text": [
      "\u001b[32mloss: 3.63e-05:  75%|██████████████████████████████▉          |  ETA: 0:01:48\u001b[39m"
     ]
    },
    {
     "data": {
      "text/plain": [
       "3.6445264f-5"
      ]
     },
     "metadata": {},
     "output_type": "display_data"
    },
    {
     "name": "stderr",
     "output_type": "stream",
     "text": [
      "\u001b[32mloss: 3.65e-05:  76%|███████████████████████████████          |  ETA: 0:01:45\u001b[39m"
     ]
    },
    {
     "data": {
      "text/plain": [
       "3.6348032f-5"
      ]
     },
     "metadata": {},
     "output_type": "display_data"
    },
    {
     "name": "stderr",
     "output_type": "stream",
     "text": [
      "\u001b[32mloss: 3.57e-05:  76%|███████████████████████████████▎         |  ETA: 0:01:43\u001b[39m"
     ]
    },
    {
     "data": {
      "text/plain": [
       "3.5520614f-5"
      ]
     },
     "metadata": {},
     "output_type": "display_data"
    },
    {
     "name": "stderr",
     "output_type": "stream",
     "text": [
      "\u001b[32mloss: 3.54e-05:  77%|███████████████████████████████▌         |  ETA: 0:01:40\u001b[39m"
     ]
    },
    {
     "data": {
      "text/plain": [
       "3.5414356f-5"
      ]
     },
     "metadata": {},
     "output_type": "display_data"
    },
    {
     "name": "stderr",
     "output_type": "stream",
     "text": [
      "\u001b[32mloss: 3.51e-05:  77%|███████████████████████████████▋         |  ETA: 0:01:39\u001b[39m"
     ]
    },
    {
     "data": {
      "text/plain": [
       "3.5052886f-5"
      ]
     },
     "metadata": {},
     "output_type": "display_data"
    },
    {
     "name": "stderr",
     "output_type": "stream",
     "text": [
      "\u001b[32mloss: 3.47e-05:  78%|███████████████████████████████▉         |  ETA: 0:01:36\u001b[39m"
     ]
    },
    {
     "data": {
      "text/plain": [
       "3.4599f-5"
      ]
     },
     "metadata": {},
     "output_type": "display_data"
    },
    {
     "name": "stderr",
     "output_type": "stream",
     "text": [
      "\u001b[32mloss: 3.43e-05:  78%|████████████████████████████████         |  ETA: 0:01:34\u001b[39m"
     ]
    },
    {
     "data": {
      "text/plain": [
       "3.4327146f-5"
      ]
     },
     "metadata": {},
     "output_type": "display_data"
    },
    {
     "name": "stderr",
     "output_type": "stream",
     "text": [
      "\u001b[32mloss: 3.41e-05:  79%|████████████████████████████████▎        |  ETA: 0:01:32\u001b[39m"
     ]
    },
    {
     "data": {
      "text/plain": [
       "3.400802f-5"
      ]
     },
     "metadata": {},
     "output_type": "display_data"
    },
    {
     "name": "stderr",
     "output_type": "stream",
     "text": [
      "\u001b[32mloss: 3.38e-05:  79%|████████████████████████████████▍        |  ETA: 0:01:30\u001b[39m"
     ]
    },
    {
     "data": {
      "text/plain": [
       "3.374889f-5"
      ]
     },
     "metadata": {},
     "output_type": "display_data"
    },
    {
     "name": "stderr",
     "output_type": "stream",
     "text": [
      "\u001b[32mloss: 3.36e-05:  79%|████████████████████████████████▌        |  ETA: 0:01:28\u001b[39m"
     ]
    },
    {
     "data": {
      "text/plain": [
       "3.3496504f-5"
      ]
     },
     "metadata": {},
     "output_type": "display_data"
    },
    {
     "name": "stderr",
     "output_type": "stream",
     "text": [
      "\u001b[32mloss: 3.33e-05:  80%|████████████████████████████████▊        |  ETA: 0:01:26\u001b[39m"
     ]
    },
    {
     "data": {
      "text/plain": [
       "3.3247103f-5"
      ]
     },
     "metadata": {},
     "output_type": "display_data"
    },
    {
     "name": "stderr",
     "output_type": "stream",
     "text": [
      "\u001b[32mloss: 3.31e-05:  80%|████████████████████████████████▉        |  ETA: 0:01:25\u001b[39m"
     ]
    },
    {
     "data": {
      "text/plain": [
       "3.3000637f-5"
      ]
     },
     "metadata": {},
     "output_type": "display_data"
    },
    {
     "name": "stderr",
     "output_type": "stream",
     "text": [
      "\u001b[32mloss: 3.28e-05:  81%|█████████████████████████████████▏       |  ETA: 0:01:22\u001b[39m"
     ]
    },
    {
     "data": {
      "text/plain": [
       "3.269485f-5"
      ]
     },
     "metadata": {},
     "output_type": "display_data"
    },
    {
     "name": "stderr",
     "output_type": "stream",
     "text": [
      "\u001b[32mloss: 3.25e-05:  81%|█████████████████████████████████▎       |  ETA: 0:01:20\u001b[39m"
     ]
    },
    {
     "data": {
      "text/plain": [
       "3.239195f-5"
      ]
     },
     "metadata": {},
     "output_type": "display_data"
    },
    {
     "name": "stderr",
     "output_type": "stream",
     "text": [
      "\u001b[32mloss: 3.22e-05:  82%|█████████████████████████████████▌       |  ETA: 0:01:18\u001b[39m"
     ]
    },
    {
     "data": {
      "text/plain": [
       "3.2092117f-5"
      ]
     },
     "metadata": {},
     "output_type": "display_data"
    },
    {
     "name": "stderr",
     "output_type": "stream",
     "text": [
      "\u001b[32mloss: 3.19e-05:  82%|█████████████████████████████████▊       |  ETA: 0:01:16\u001b[39m"
     ]
    },
    {
     "data": {
      "text/plain": [
       "3.1795385f-5"
      ]
     },
     "metadata": {},
     "output_type": "display_data"
    },
    {
     "name": "stderr",
     "output_type": "stream",
     "text": [
      "\u001b[32mloss: 3.16e-05:  83%|█████████████████████████████████▉       |  ETA: 0:01:13\u001b[39m"
     ]
    },
    {
     "data": {
      "text/plain": [
       "3.1500436f-5"
      ]
     },
     "metadata": {},
     "output_type": "display_data"
    },
    {
     "name": "stderr",
     "output_type": "stream",
     "text": [
      "\u001b[32mloss: 3.13e-05:  83%|██████████████████████████████████▏      |  ETA: 0:01:11\u001b[39m"
     ]
    },
    {
     "data": {
      "text/plain": [
       "3.120807f-5"
      ]
     },
     "metadata": {},
     "output_type": "display_data"
    },
    {
     "name": "stderr",
     "output_type": "stream",
     "text": [
      "\u001b[32mloss: 3.1e-05:  84%|██████████████████████████████████▍      |  ETA: 0:01:09\u001b[39mm"
     ]
    },
    {
     "data": {
      "text/plain": [
       "3.0917665f-5"
      ]
     },
     "metadata": {},
     "output_type": "display_data"
    },
    {
     "name": "stderr",
     "output_type": "stream",
     "text": [
      "\u001b[32mloss: 3.07e-05:  84%|██████████████████████████████████▌      |  ETA: 0:01:07\u001b[39m"
     ]
    },
    {
     "data": {
      "text/plain": [
       "3.0629624f-5"
      ]
     },
     "metadata": {},
     "output_type": "display_data"
    },
    {
     "name": "stderr",
     "output_type": "stream",
     "text": [
      "\u001b[32mloss: 3.04e-05:  85%|██████████████████████████████████▊      |  ETA: 0:01:05\u001b[39m"
     ]
    },
    {
     "data": {
      "text/plain": [
       "3.0343948f-5"
      ]
     },
     "metadata": {},
     "output_type": "display_data"
    },
    {
     "name": "stderr",
     "output_type": "stream",
     "text": [
      "\u001b[32mloss: 3.01e-05:  85%|██████████████████████████████████▉      |  ETA: 0:01:02\u001b[39m"
     ]
    },
    {
     "data": {
      "text/plain": [
       "3.0060586f-5"
      ]
     },
     "metadata": {},
     "output_type": "display_data"
    },
    {
     "name": "stderr",
     "output_type": "stream",
     "text": [
      "\u001b[32mloss: 2.98e-05:  86%|███████████████████████████████████▏     |  ETA: 0:01:00\u001b[39m"
     ]
    },
    {
     "data": {
      "text/plain": [
       "2.977923f-5"
      ]
     },
     "metadata": {},
     "output_type": "display_data"
    },
    {
     "name": "stderr",
     "output_type": "stream",
     "text": [
      "\u001b[32mloss: 2.96e-05:  86%|███████████████████████████████████▍     |  ETA: 0:00:58\u001b[39m"
     ]
    },
    {
     "data": {
      "text/plain": [
       "2.9500485f-5"
      ]
     },
     "metadata": {},
     "output_type": "display_data"
    },
    {
     "name": "stderr",
     "output_type": "stream",
     "text": [
      "\u001b[32mloss: 2.93e-05:  87%|███████████████████████████████████▌     |  ETA: 0:00:56\u001b[39m"
     ]
    },
    {
     "data": {
      "text/plain": [
       "2.922405f-5"
      ]
     },
     "metadata": {},
     "output_type": "display_data"
    },
    {
     "name": "stderr",
     "output_type": "stream",
     "text": [
      "\u001b[32mloss: 2.9e-05:  87%|███████████████████████████████████▊     |  ETA: 0:00:54\u001b[39mm"
     ]
    },
    {
     "data": {
      "text/plain": [
       "2.8950222f-5"
      ]
     },
     "metadata": {},
     "output_type": "display_data"
    },
    {
     "name": "stderr",
     "output_type": "stream",
     "text": [
      "\u001b[32mloss: 2.87e-05:  88%|████████████████████████████████████     |  ETA: 0:00:52\u001b[39m"
     ]
    },
    {
     "data": {
      "text/plain": [
       "2.867909f-5"
      ]
     },
     "metadata": {},
     "output_type": "display_data"
    },
    {
     "name": "stderr",
     "output_type": "stream",
     "text": [
      "\u001b[32mloss: 2.85e-05:  88%|████████████████████████████████████▏    |  ETA: 0:00:49\u001b[39m"
     ]
    },
    {
     "data": {
      "text/plain": [
       "2.840993f-5"
      ]
     },
     "metadata": {},
     "output_type": "display_data"
    },
    {
     "name": "stderr",
     "output_type": "stream",
     "text": [
      "\u001b[32mloss: 2.82e-05:  89%|████████████████████████████████████▍    |  ETA: 0:00:47\u001b[39m"
     ]
    },
    {
     "data": {
      "text/plain": [
       "2.8144561f-5"
      ]
     },
     "metadata": {},
     "output_type": "display_data"
    },
    {
     "name": "stderr",
     "output_type": "stream",
     "text": [
      "\u001b[32mloss: 2.79e-05:  89%|████████████████████████████████████▋    |  ETA: 0:00:45\u001b[39m"
     ]
    },
    {
     "data": {
      "text/plain": [
       "2.7897702f-5"
      ]
     },
     "metadata": {},
     "output_type": "display_data"
    },
    {
     "name": "stderr",
     "output_type": "stream",
     "text": [
      "\u001b[32mloss: 2.79e-05:  90%|████████████████████████████████████▊    |  ETA: 0:00:43\u001b[39m"
     ]
    },
    {
     "data": {
      "text/plain": [
       "2.8201428f-5"
      ]
     },
     "metadata": {},
     "output_type": "display_data"
    },
    {
     "name": "stderr",
     "output_type": "stream",
     "text": [
      "\u001b[32mloss: 3.33e-05:  90%|█████████████████████████████████████    |  ETA: 0:00:41\u001b[39m"
     ]
    },
    {
     "data": {
      "text/plain": [
       "4.0362404f-5"
      ]
     },
     "metadata": {},
     "output_type": "display_data"
    },
    {
     "name": "stderr",
     "output_type": "stream",
     "text": [
      "\u001b[32mloss: 0.000155:  90%|█████████████████████████████████████▏   |  ETA: 0:00:40\u001b[39m"
     ]
    },
    {
     "data": {
      "text/plain": [
       "0.00025244267f0"
      ]
     },
     "metadata": {},
     "output_type": "display_data"
    },
    {
     "name": "stderr",
     "output_type": "stream",
     "text": [
      "\u001b[32mloss: 0.000252:  91%|█████████████████████████████████████▎   |  ETA: 0:00:38\u001b[39m"
     ]
    },
    {
     "data": {
      "text/plain": [
       "7.944154f-5"
      ]
     },
     "metadata": {},
     "output_type": "display_data"
    },
    {
     "name": "stderr",
     "output_type": "stream",
     "text": [
      "\u001b[32mloss: 0.000168:  91%|█████████████████████████████████████▍   |  ETA: 0:00:37\u001b[39m"
     ]
    },
    {
     "data": {
      "text/plain": [
       "5.901717f-5"
      ]
     },
     "metadata": {},
     "output_type": "display_data"
    },
    {
     "name": "stderr",
     "output_type": "stream",
     "text": [
      "\u001b[32mloss: 9.3e-05:  92%|█████████████████████████████████████▌   |  ETA: 0:00:35\u001b[39mm"
     ]
    },
    {
     "data": {
      "text/plain": [
       "2.9182465f-5"
      ]
     },
     "metadata": {},
     "output_type": "display_data"
    },
    {
     "name": "stderr",
     "output_type": "stream",
     "text": [
      "\u001b[32mloss: 3.83e-05:  92%|█████████████████████████████████████▊   |  ETA: 0:00:33\u001b[39m"
     ]
    },
    {
     "data": {
      "text/plain": [
       "4.095973f-5"
      ]
     },
     "metadata": {},
     "output_type": "display_data"
    },
    {
     "name": "stderr",
     "output_type": "stream",
     "text": [
      "\u001b[32mloss: 3.14e-05:  92%|█████████████████████████████████████▉   |  ETA: 0:00:32\u001b[39m"
     ]
    },
    {
     "data": {
      "text/plain": [
       "5.765531f-5"
      ]
     },
     "metadata": {},
     "output_type": "display_data"
    },
    {
     "name": "stderr",
     "output_type": "stream",
     "text": [
      "\u001b[32mloss: 4.63e-05:  93%|██████████████████████████████████████   |  ETA: 0:00:30\u001b[39m"
     ]
    },
    {
     "data": {
      "text/plain": [
       "4.4190703f-5"
      ]
     },
     "metadata": {},
     "output_type": "display_data"
    },
    {
     "name": "stderr",
     "output_type": "stream",
     "text": [
      "\u001b[32mloss: 4.15e-05:  93%|██████████████████████████████████████▎  |  ETA: 0:00:28\u001b[39m"
     ]
    },
    {
     "data": {
      "text/plain": [
       "2.8901846f-5"
      ]
     },
     "metadata": {},
     "output_type": "display_data"
    },
    {
     "name": "stderr",
     "output_type": "stream",
     "text": [
      "\u001b[32mloss: 2.96e-05:  94%|██████████████████████████████████████▍  |  ETA: 0:00:27\u001b[39m"
     ]
    },
    {
     "data": {
      "text/plain": [
       "3.0144136f-5"
      ]
     },
     "metadata": {},
     "output_type": "display_data"
    },
    {
     "name": "stderr",
     "output_type": "stream",
     "text": [
      "\u001b[32mloss: 3.28e-05:  94%|██████████████████████████████████████▋  |  ETA: 0:00:24\u001b[39m"
     ]
    },
    {
     "data": {
      "text/plain": [
       "3.0430869f-5"
      ]
     },
     "metadata": {},
     "output_type": "display_data"
    },
    {
     "name": "stderr",
     "output_type": "stream",
     "text": [
      "\u001b[32mloss: 2.73e-05:  95%|██████████████████████████████████████▊  |  ETA: 0:00:22\u001b[39m"
     ]
    },
    {
     "data": {
      "text/plain": [
       "2.8738628f-5"
      ]
     },
     "metadata": {},
     "output_type": "display_data"
    },
    {
     "name": "stderr",
     "output_type": "stream",
     "text": [
      "\u001b[32mloss: 2.9e-05:  95%|███████████████████████████████████████  |  ETA: 0:00:20\u001b[39mm"
     ]
    },
    {
     "data": {
      "text/plain": [
       "2.7663784f-5"
      ]
     },
     "metadata": {},
     "output_type": "display_data"
    },
    {
     "name": "stderr",
     "output_type": "stream",
     "text": [
      "\u001b[32mloss: 2.67e-05:  96%|███████████████████████████████████████▎ |  ETA: 0:00:18\u001b[39m"
     ]
    },
    {
     "data": {
      "text/plain": [
       "2.7269245f-5"
      ]
     },
     "metadata": {},
     "output_type": "display_data"
    },
    {
     "name": "stderr",
     "output_type": "stream",
     "text": [
      "\u001b[32mloss: 2.72e-05:  96%|███████████████████████████████████████▍ |  ETA: 0:00:16\u001b[39m"
     ]
    },
    {
     "data": {
      "text/plain": [
       "2.6824704f-5"
      ]
     },
     "metadata": {},
     "output_type": "display_data"
    },
    {
     "name": "stderr",
     "output_type": "stream",
     "text": [
      "\u001b[32mloss: 2.63e-05:  97%|███████████████████████████████████████▋ |  ETA: 0:00:14\u001b[39m"
     ]
    },
    {
     "data": {
      "text/plain": [
       "2.6301783f-5"
      ]
     },
     "metadata": {},
     "output_type": "display_data"
    },
    {
     "name": "stderr",
     "output_type": "stream",
     "text": [
      "\u001b[32mloss: 2.62e-05:  97%|███████████████████████████████████████▊ |  ETA: 0:00:12\u001b[39m"
     ]
    },
    {
     "data": {
      "text/plain": [
       "2.6227179f-5"
      ]
     },
     "metadata": {},
     "output_type": "display_data"
    },
    {
     "name": "stderr",
     "output_type": "stream",
     "text": [
      "\u001b[32mloss: 2.59e-05:  98%|████████████████████████████████████████ |  ETA: 0:00:10\u001b[39m"
     ]
    },
    {
     "data": {
      "text/plain": [
       "2.5792346f-5"
      ]
     },
     "metadata": {},
     "output_type": "display_data"
    },
    {
     "name": "stderr",
     "output_type": "stream",
     "text": [
      "\u001b[32mloss: 2.56e-05:  98%|████████████████████████████████████████▎|  ETA: 0:00:08\u001b[39m"
     ]
    },
    {
     "data": {
      "text/plain": [
       "2.5657562f-5"
      ]
     },
     "metadata": {},
     "output_type": "display_data"
    },
    {
     "name": "stderr",
     "output_type": "stream",
     "text": [
      "\u001b[32mloss: 2.55e-05:  99%|████████████████████████████████████████▍|  ETA: 0:00:06\u001b[39m"
     ]
    },
    {
     "data": {
      "text/plain": [
       "2.542062f-5"
      ]
     },
     "metadata": {},
     "output_type": "display_data"
    },
    {
     "name": "stderr",
     "output_type": "stream",
     "text": [
      "\u001b[32mloss: 2.52e-05:  99%|████████████████████████████████████████▋|  ETA: 0:00:04\u001b[39m"
     ]
    },
    {
     "data": {
      "text/plain": [
       "2.5185072f-5"
      ]
     },
     "metadata": {},
     "output_type": "display_data"
    },
    {
     "name": "stderr",
     "output_type": "stream",
     "text": [
      "\u001b[32mloss: 2.5e-05: 100%|████████████████████████████████████████▉|  ETA: 0:00:02\u001b[39mm"
     ]
    },
    {
     "data": {
      "text/plain": [
       "2.4997353f-5"
      ]
     },
     "metadata": {},
     "output_type": "display_data"
    },
    {
     "name": "stderr",
     "output_type": "stream",
     "text": [
      "\u001b[32mloss: 2.49e-05: 100%|█████████████████████████████████████████| Time: 0:06:50\u001b[39m\n"
     ]
    },
    {
     "data": {
      "text/plain": [
       " * Status: failure (reached maximum number of iterations)\n",
       "\n",
       " * Candidate solution\n",
       "    Minimizer: [-3.23e-02, -2.17e-02, 2.17e-02,  ...]\n",
       "    Minimum:   2.486897e-05\n",
       "\n",
       " * Found with\n",
       "    Algorithm:     ADAM\n",
       "    Initial Point: [-3.23e-02, -2.17e-02, 2.17e-02,  ...]\n",
       "\n",
       " * Convergence measures\n",
       "    |x - x'|               = NaN ≰ 0.0e+00\n",
       "    |x - x'|/|x'|          = NaN ≰ 0.0e+00\n",
       "    |f(x) - f(x')|         = NaN ≰ 0.0e+00\n",
       "    |f(x) - f(x')|/|f(x')| = NaN ≰ 0.0e+00\n",
       "    |g(x)|                 = NaN ≰ 0.0e+00\n",
       "\n",
       " * Work counters\n",
       "    Seconds run:   412  (vs limit Inf)\n",
       "    Iterations:    1000\n",
       "    f(x) calls:    1000\n",
       "    ∇f(x) calls:   1000\n"
      ]
     },
     "execution_count": 15,
     "metadata": {},
     "output_type": "execute_result"
    }
   ],
   "source": [
    "#res = DiffEqFlux.sciml_train(loss_node, node.p, ADAM(), dataset, cb=cb, maxiters=100)\n",
    "res = DiffEqFlux.sciml_train(loss_node, node.p, ADAM(), cb=Flux.throttle(cb, 1), maxiters=1000)"
   ]
  },
  {
   "cell_type": "code",
   "execution_count": 16,
   "metadata": {
    "scrolled": true
   },
   "outputs": [
    {
     "data": {
      "text/plain": [
       "2.4837225f-5"
      ]
     },
     "metadata": {},
     "output_type": "display_data"
    },
    {
     "name": "stderr",
     "output_type": "stream",
     "text": [
      "\u001b[32mloss: 0.000448:   0%|▏                                        |  ETA: 0:10:19\u001b[39m"
     ]
    },
    {
     "data": {
      "text/plain": [
       "0.0016947371f0"
      ]
     },
     "metadata": {},
     "output_type": "display_data"
    },
    {
     "name": "stderr",
     "output_type": "stream",
     "text": [
      "\u001b[32mloss: 0.000826:   1%|▎                                        |  ETA: 0:08:47\u001b[39m"
     ]
    },
    {
     "data": {
      "text/plain": [
       "7.1099006f-5"
      ]
     },
     "metadata": {},
     "output_type": "display_data"
    },
    {
     "name": "stderr",
     "output_type": "stream",
     "text": [
      "\u001b[32mloss: 0.00182:   1%|▍                                        |  ETA: 0:08:41\u001b[39mm"
     ]
    },
    {
     "data": {
      "text/plain": [
       "0.001812958f0"
      ]
     },
     "metadata": {},
     "output_type": "display_data"
    },
    {
     "name": "stderr",
     "output_type": "stream",
     "text": [
      "\u001b[32mloss: 9.87e-05:   1%|▋                                        |  ETA: 0:08:14\u001b[39m"
     ]
    },
    {
     "data": {
      "text/plain": [
       "0.0004879264f0"
      ]
     },
     "metadata": {},
     "output_type": "display_data"
    },
    {
     "name": "stderr",
     "output_type": "stream",
     "text": [
      "\u001b[32mloss: 0.000593:   2%|▊                                        |  ETA: 0:08:03\u001b[39m"
     ]
    },
    {
     "data": {
      "text/plain": [
       "0.00021671635f0"
      ]
     },
     "metadata": {},
     "output_type": "display_data"
    },
    {
     "name": "stderr",
     "output_type": "stream",
     "text": [
      "\u001b[32mloss: 0.000432:   2%|▉                                        |  ETA: 0:07:48\u001b[39m"
     ]
    },
    {
     "data": {
      "text/plain": [
       "0.00049166044f0"
      ]
     },
     "metadata": {},
     "output_type": "display_data"
    },
    {
     "name": "stderr",
     "output_type": "stream",
     "text": [
      "\u001b[32mloss: 9.4e-05:   3%|█▏                                       |  ETA: 0:07:49\u001b[39mm"
     ]
    },
    {
     "data": {
      "text/plain": [
       "0.00012963174f0"
      ]
     },
     "metadata": {},
     "output_type": "display_data"
    },
    {
     "name": "stderr",
     "output_type": "stream",
     "text": [
      "\u001b[32mloss: 0.000212:   3%|█▎                                       |  ETA: 0:07:32\u001b[39m"
     ]
    },
    {
     "data": {
      "text/plain": [
       "0.00013189588f0"
      ]
     },
     "metadata": {},
     "output_type": "display_data"
    },
    {
     "name": "stderr",
     "output_type": "stream",
     "text": [
      "\u001b[32mloss: 0.000134:   3%|█▍                                       |  ETA: 0:07:17\u001b[39m"
     ]
    },
    {
     "data": {
      "text/plain": [
       "0.00014482788f0"
      ]
     },
     "metadata": {},
     "output_type": "display_data"
    },
    {
     "name": "stderr",
     "output_type": "stream",
     "text": [
      "\u001b[32mloss: 6.82e-05:   4%|█▌                                       |  ETA: 0:07:06\u001b[39m"
     ]
    },
    {
     "data": {
      "text/plain": [
       "8.028914f-5"
      ]
     },
     "metadata": {},
     "output_type": "display_data"
    },
    {
     "name": "stderr",
     "output_type": "stream",
     "text": [
      "\u001b[32mloss: 7.03e-05:   4%|█▊                                       |  ETA: 0:06:56\u001b[39m"
     ]
    },
    {
     "data": {
      "text/plain": [
       "5.2297088f-5"
      ]
     },
     "metadata": {},
     "output_type": "display_data"
    },
    {
     "name": "stderr",
     "output_type": "stream",
     "text": [
      "\u001b[32mloss: 7.13e-05:   5%|█▉                                       |  ETA: 0:06:48\u001b[39m"
     ]
    },
    {
     "data": {
      "text/plain": [
       "6.3303814f-5"
      ]
     },
     "metadata": {},
     "output_type": "display_data"
    },
    {
     "name": "stderr",
     "output_type": "stream",
     "text": [
      "\u001b[32mloss: 4.33e-05:   5%|██                                       |  ETA: 0:06:40\u001b[39m"
     ]
    },
    {
     "data": {
      "text/plain": [
       "5.164546f-5"
      ]
     },
     "metadata": {},
     "output_type": "display_data"
    },
    {
     "name": "stderr",
     "output_type": "stream",
     "text": [
      "\u001b[32mloss: 3.79e-05:   5%|██▎                                      |  ETA: 0:06:36\u001b[39m"
     ]
    },
    {
     "data": {
      "text/plain": [
       "3.5313456f-5"
      ]
     },
     "metadata": {},
     "output_type": "display_data"
    },
    {
     "name": "stderr",
     "output_type": "stream",
     "text": [
      "\u001b[32mloss: 4.12e-05:   6%|██▍                                      |  ETA: 0:06:31\u001b[39m"
     ]
    },
    {
     "data": {
      "text/plain": [
       "3.7061214f-5"
      ]
     },
     "metadata": {},
     "output_type": "display_data"
    },
    {
     "name": "stderr",
     "output_type": "stream",
     "text": [
      "\u001b[32mloss: 3.51e-05:   6%|██▌                                      |  ETA: 0:06:28\u001b[39m"
     ]
    },
    {
     "data": {
      "text/plain": [
       "3.5267658f-5"
      ]
     },
     "metadata": {},
     "output_type": "display_data"
    },
    {
     "name": "stderr",
     "output_type": "stream",
     "text": [
      "\u001b[32mloss: 3.25e-05:   7%|██▊                                      |  ETA: 0:06:25\u001b[39m"
     ]
    },
    {
     "data": {
      "text/plain": [
       "3.235358f-5"
      ]
     },
     "metadata": {},
     "output_type": "display_data"
    },
    {
     "name": "stderr",
     "output_type": "stream",
     "text": [
      "\u001b[32mloss: 3.09e-05:   7%|██▉                                      |  ETA: 0:06:21\u001b[39m"
     ]
    },
    {
     "data": {
      "text/plain": [
       "3.1175943f-5"
      ]
     },
     "metadata": {},
     "output_type": "display_data"
    },
    {
     "name": "stderr",
     "output_type": "stream",
     "text": [
      "\u001b[32mloss: 2.95e-05:   7%|███                                      |  ETA: 0:06:17\u001b[39m"
     ]
    },
    {
     "data": {
      "text/plain": [
       "2.9372999f-5"
      ]
     },
     "metadata": {},
     "output_type": "display_data"
    },
    {
     "name": "stderr",
     "output_type": "stream",
     "text": [
      "\u001b[32mloss: 2.94e-05:   8%|███▎                                     |  ETA: 0:06:14\u001b[39m"
     ]
    },
    {
     "data": {
      "text/plain": [
       "2.8713132f-5"
      ]
     },
     "metadata": {},
     "output_type": "display_data"
    },
    {
     "name": "stderr",
     "output_type": "stream",
     "text": [
      "\u001b[32mloss: 2.89e-05:   8%|███▍                                     |  ETA: 0:06:11\u001b[39m"
     ]
    },
    {
     "data": {
      "text/plain": [
       "2.8651426f-5"
      ]
     },
     "metadata": {},
     "output_type": "display_data"
    },
    {
     "name": "stderr",
     "output_type": "stream",
     "text": [
      "\u001b[32mloss: 2.81e-05:   9%|███▌                                     |  ETA: 0:06:09\u001b[39m"
     ]
    },
    {
     "data": {
      "text/plain": [
       "2.8145016f-5"
      ]
     },
     "metadata": {},
     "output_type": "display_data"
    },
    {
     "name": "stderr",
     "output_type": "stream",
     "text": [
      "\u001b[32mloss: 2.77e-05:   9%|███▊                                     |  ETA: 0:06:07\u001b[39m"
     ]
    },
    {
     "data": {
      "text/plain": [
       "2.7678003f-5"
      ]
     },
     "metadata": {},
     "output_type": "display_data"
    },
    {
     "name": "stderr",
     "output_type": "stream",
     "text": [
      "\u001b[32mloss: 2.74e-05:   9%|███▉                                     |  ETA: 0:06:04\u001b[39m"
     ]
    },
    {
     "data": {
      "text/plain": [
       "2.740694f-5"
      ]
     },
     "metadata": {},
     "output_type": "display_data"
    },
    {
     "name": "stderr",
     "output_type": "stream",
     "text": [
      "\u001b[32mloss: 2.72e-05:  10%|████                                     |  ETA: 0:06:01\u001b[39m"
     ]
    },
    {
     "data": {
      "text/plain": [
       "2.7155893f-5"
      ]
     },
     "metadata": {},
     "output_type": "display_data"
    },
    {
     "name": "stderr",
     "output_type": "stream",
     "text": [
      "\u001b[32mloss: 2.7e-05:  10%|████▏                                    |  ETA: 0:05:58\u001b[39mm"
     ]
    },
    {
     "data": {
      "text/plain": [
       "2.6954829f-5"
      ]
     },
     "metadata": {},
     "output_type": "display_data"
    },
    {
     "name": "stderr",
     "output_type": "stream",
     "text": [
      "\u001b[32mloss: 2.69e-05:  11%|████▍                                    |  ETA: 0:05:56\u001b[39m"
     ]
    },
    {
     "data": {
      "text/plain": [
       "2.6832082f-5"
      ]
     },
     "metadata": {},
     "output_type": "display_data"
    },
    {
     "name": "stderr",
     "output_type": "stream",
     "text": [
      "\u001b[32mloss: 2.68e-05:  11%|████▌                                    |  ETA: 0:05:54\u001b[39m"
     ]
    },
    {
     "data": {
      "text/plain": [
       "2.6728336f-5"
      ]
     },
     "metadata": {},
     "output_type": "display_data"
    },
    {
     "name": "stderr",
     "output_type": "stream",
     "text": [
      "\u001b[32mloss: 2.66e-05:  11%|████▋                                    |  ETA: 0:05:52\u001b[39m"
     ]
    },
    {
     "data": {
      "text/plain": [
       "2.6619822f-5"
      ]
     },
     "metadata": {},
     "output_type": "display_data"
    },
    {
     "name": "stderr",
     "output_type": "stream",
     "text": [
      "\u001b[32mloss: 2.65e-05:  12%|████▉                                    |  ETA: 0:05:50\u001b[39m"
     ]
    },
    {
     "data": {
      "text/plain": [
       "2.6520758f-5"
      ]
     },
     "metadata": {},
     "output_type": "display_data"
    },
    {
     "name": "stderr",
     "output_type": "stream",
     "text": [
      "\u001b[32mloss: 2.65e-05:  12%|█████                                    |  ETA: 0:05:48\u001b[39m"
     ]
    },
    {
     "data": {
      "text/plain": [
       "2.6436532f-5"
      ]
     },
     "metadata": {},
     "output_type": "display_data"
    },
    {
     "name": "stderr",
     "output_type": "stream",
     "text": [
      "\u001b[32mloss: 2.64e-05:  13%|█████▏                                   |  ETA: 0:05:46\u001b[39m"
     ]
    },
    {
     "data": {
      "text/plain": [
       "2.6359861f-5"
      ]
     },
     "metadata": {},
     "output_type": "display_data"
    },
    {
     "name": "stderr",
     "output_type": "stream",
     "text": [
      "\u001b[32mloss: 2.63e-05:  13%|█████▍                                   |  ETA: 0:05:43\u001b[39m"
     ]
    },
    {
     "data": {
      "text/plain": [
       "2.628822f-5"
      ]
     },
     "metadata": {},
     "output_type": "display_data"
    },
    {
     "name": "stderr",
     "output_type": "stream",
     "text": [
      "\u001b[32mloss: 2.62e-05:  13%|█████▌                                   |  ETA: 0:05:40\u001b[39m"
     ]
    },
    {
     "data": {
      "text/plain": [
       "2.62219f-5"
      ]
     },
     "metadata": {},
     "output_type": "display_data"
    },
    {
     "name": "stderr",
     "output_type": "stream",
     "text": [
      "\u001b[32mloss: 2.62e-05:  14%|█████▋                                   |  ETA: 0:05:38\u001b[39m"
     ]
    },
    {
     "data": {
      "text/plain": [
       "2.6161786f-5"
      ]
     },
     "metadata": {},
     "output_type": "display_data"
    },
    {
     "name": "stderr",
     "output_type": "stream",
     "text": [
      "\u001b[32mloss: 2.61e-05:  14%|█████▉                                   |  ETA: 0:05:36\u001b[39m"
     ]
    },
    {
     "data": {
      "text/plain": [
       "2.610464f-5"
      ]
     },
     "metadata": {},
     "output_type": "display_data"
    },
    {
     "name": "stderr",
     "output_type": "stream",
     "text": [
      "\u001b[32mloss: 2.61e-05:  15%|██████                                   |  ETA: 0:05:34\u001b[39m"
     ]
    },
    {
     "data": {
      "text/plain": [
       "2.6049096f-5"
      ]
     },
     "metadata": {},
     "output_type": "display_data"
    },
    {
     "name": "stderr",
     "output_type": "stream",
     "text": [
      "\u001b[32mloss: 2.6e-05:  15%|██████▏                                  |  ETA: 0:05:32\u001b[39m"
     ]
    },
    {
     "data": {
      "text/plain": [
       "2.599536f-5"
      ]
     },
     "metadata": {},
     "output_type": "display_data"
    },
    {
     "name": "stderr",
     "output_type": "stream",
     "text": [
      "\u001b[32mloss: 2.6e-05:  15%|██████▍                                  |  ETA: 0:05:30\u001b[39m"
     ]
    },
    {
     "data": {
      "text/plain": [
       "2.5943162f-5"
      ]
     },
     "metadata": {},
     "output_type": "display_data"
    },
    {
     "name": "stderr",
     "output_type": "stream",
     "text": [
      "\u001b[32mloss: 2.59e-05:  16%|██████▌                                  |  ETA: 0:05:28\u001b[39m"
     ]
    },
    {
     "data": {
      "text/plain": [
       "2.5891864f-5"
      ]
     },
     "metadata": {},
     "output_type": "display_data"
    },
    {
     "name": "stderr",
     "output_type": "stream",
     "text": [
      "\u001b[32mloss: 2.59e-05:  16%|██████▋                                  |  ETA: 0:05:26\u001b[39m"
     ]
    },
    {
     "data": {
      "text/plain": [
       "2.5841675f-5"
      ]
     },
     "metadata": {},
     "output_type": "display_data"
    },
    {
     "name": "stderr",
     "output_type": "stream",
     "text": [
      "\u001b[32mloss: 2.58e-05:  17%|██████▊                                  |  ETA: 0:05:24\u001b[39m"
     ]
    },
    {
     "data": {
      "text/plain": [
       "2.5791614f-5"
      ]
     },
     "metadata": {},
     "output_type": "display_data"
    },
    {
     "name": "stderr",
     "output_type": "stream",
     "text": [
      "\u001b[32mloss: 2.58e-05:  17%|███████                                  |  ETA: 0:05:22\u001b[39m"
     ]
    },
    {
     "data": {
      "text/plain": [
       "2.5741974f-5"
      ]
     },
     "metadata": {},
     "output_type": "display_data"
    },
    {
     "name": "stderr",
     "output_type": "stream",
     "text": [
      "\u001b[32mloss: 2.57e-05:  17%|███████▏                                 |  ETA: 0:05:20\u001b[39m"
     ]
    },
    {
     "data": {
      "text/plain": [
       "2.5692796f-5"
      ]
     },
     "metadata": {},
     "output_type": "display_data"
    },
    {
     "name": "stderr",
     "output_type": "stream",
     "text": [
      "\u001b[32mloss: 2.57e-05:  18%|███████▎                                 |  ETA: 0:05:19\u001b[39m"
     ]
    },
    {
     "data": {
      "text/plain": [
       "2.5643754f-5"
      ]
     },
     "metadata": {},
     "output_type": "display_data"
    },
    {
     "name": "stderr",
     "output_type": "stream",
     "text": [
      "\u001b[32mloss: 2.56e-05:  18%|███████▌                                 |  ETA: 0:05:17\u001b[39m"
     ]
    },
    {
     "data": {
      "text/plain": [
       "2.559464f-5"
      ]
     },
     "metadata": {},
     "output_type": "display_data"
    },
    {
     "name": "stderr",
     "output_type": "stream",
     "text": [
      "\u001b[32mloss: 2.56e-05:  19%|███████▋                                 |  ETA: 0:05:16\u001b[39m"
     ]
    },
    {
     "data": {
      "text/plain": [
       "2.5545161f-5"
      ]
     },
     "metadata": {},
     "output_type": "display_data"
    },
    {
     "name": "stderr",
     "output_type": "stream",
     "text": [
      "\u001b[32mloss: 2.55e-05:  19%|███████▊                                 |  ETA: 0:05:14\u001b[39m"
     ]
    },
    {
     "data": {
      "text/plain": [
       "2.5496032f-5"
      ]
     },
     "metadata": {},
     "output_type": "display_data"
    },
    {
     "name": "stderr",
     "output_type": "stream",
     "text": [
      "\u001b[32mloss: 2.55e-05:  19%|████████                                 |  ETA: 0:05:12\u001b[39m"
     ]
    },
    {
     "data": {
      "text/plain": [
       "2.5446745f-5"
      ]
     },
     "metadata": {},
     "output_type": "display_data"
    },
    {
     "name": "stderr",
     "output_type": "stream",
     "text": [
      "\u001b[32mloss: 2.54e-05:  20%|████████▏                                |  ETA: 0:05:10\u001b[39m"
     ]
    },
    {
     "data": {
      "text/plain": [
       "2.5397389f-5"
      ]
     },
     "metadata": {},
     "output_type": "display_data"
    },
    {
     "name": "stderr",
     "output_type": "stream",
     "text": [
      "\u001b[32mloss: 2.54e-05:  20%|████████▎                                |  ETA: 0:05:09\u001b[39m"
     ]
    },
    {
     "data": {
      "text/plain": [
       "2.5347746f-5"
      ]
     },
     "metadata": {},
     "output_type": "display_data"
    },
    {
     "name": "stderr",
     "output_type": "stream",
     "text": [
      "\u001b[32mloss: 2.53e-05:  21%|████████▌                                |  ETA: 0:05:07\u001b[39m"
     ]
    },
    {
     "data": {
      "text/plain": [
       "2.5297848f-5"
      ]
     },
     "metadata": {},
     "output_type": "display_data"
    },
    {
     "name": "stderr",
     "output_type": "stream",
     "text": [
      "\u001b[32mloss: 2.53e-05:  21%|████████▋                                |  ETA: 0:05:06\u001b[39m"
     ]
    },
    {
     "data": {
      "text/plain": [
       "2.5248153f-5"
      ]
     },
     "metadata": {},
     "output_type": "display_data"
    },
    {
     "name": "stderr",
     "output_type": "stream",
     "text": [
      "\u001b[32mloss: 2.52e-05:  21%|████████▊                                |  ETA: 0:05:05\u001b[39m"
     ]
    },
    {
     "data": {
      "text/plain": [
       "2.5197693f-5"
      ]
     },
     "metadata": {},
     "output_type": "display_data"
    },
    {
     "name": "stderr",
     "output_type": "stream",
     "text": [
      "\u001b[32mloss: 2.52e-05:  22%|█████████                                |  ETA: 0:05:03\u001b[39m"
     ]
    },
    {
     "data": {
      "text/plain": [
       "2.5147421f-5"
      ]
     },
     "metadata": {},
     "output_type": "display_data"
    },
    {
     "name": "stderr",
     "output_type": "stream",
     "text": [
      "\u001b[32mloss: 2.51e-05:  22%|█████████▏                               |  ETA: 0:05:02\u001b[39m"
     ]
    },
    {
     "data": {
      "text/plain": [
       "2.5096844f-5"
      ]
     },
     "metadata": {},
     "output_type": "display_data"
    },
    {
     "name": "stderr",
     "output_type": "stream",
     "text": [
      "\u001b[32mloss: 2.51e-05:  23%|█████████▎                               |  ETA: 0:05:00\u001b[39m"
     ]
    },
    {
     "data": {
      "text/plain": [
       "2.5045934f-5"
      ]
     },
     "metadata": {},
     "output_type": "display_data"
    },
    {
     "name": "stderr",
     "output_type": "stream",
     "text": [
      "\u001b[32mloss: 2.5e-05:  23%|█████████▍                               |  ETA: 0:04:59\u001b[39m"
     ]
    },
    {
     "data": {
      "text/plain": [
       "2.4994777f-5"
      ]
     },
     "metadata": {},
     "output_type": "display_data"
    },
    {
     "name": "stderr",
     "output_type": "stream",
     "text": [
      "\u001b[32mloss: 2.5e-05:  23%|█████████▋                               |  ETA: 0:04:58\u001b[39m"
     ]
    },
    {
     "data": {
      "text/plain": [
       "2.494387f-5"
      ]
     },
     "metadata": {},
     "output_type": "display_data"
    },
    {
     "name": "stderr",
     "output_type": "stream",
     "text": [
      "\u001b[32mloss: 2.49e-05:  24%|█████████▊                               |  ETA: 0:04:56\u001b[39m"
     ]
    },
    {
     "data": {
      "text/plain": [
       "2.4892308f-5"
      ]
     },
     "metadata": {},
     "output_type": "display_data"
    },
    {
     "name": "stderr",
     "output_type": "stream",
     "text": [
      "\u001b[32mloss: 2.49e-05:  24%|█████████▉                               |  ETA: 0:04:55\u001b[39m"
     ]
    },
    {
     "data": {
      "text/plain": [
       "2.4840727f-5"
      ]
     },
     "metadata": {},
     "output_type": "display_data"
    },
    {
     "name": "stderr",
     "output_type": "stream",
     "text": [
      "\u001b[32mloss: 2.48e-05:  25%|██████████▏                              |  ETA: 0:04:54\u001b[39m"
     ]
    },
    {
     "data": {
      "text/plain": [
       "2.4788773f-5"
      ]
     },
     "metadata": {},
     "output_type": "display_data"
    },
    {
     "name": "stderr",
     "output_type": "stream",
     "text": [
      "\u001b[32mloss: 2.47e-05:  25%|██████████▎                              |  ETA: 0:04:52\u001b[39m"
     ]
    },
    {
     "data": {
      "text/plain": [
       "2.473696f-5"
      ]
     },
     "metadata": {},
     "output_type": "display_data"
    },
    {
     "name": "stderr",
     "output_type": "stream",
     "text": [
      "\u001b[32mloss: 2.47e-05:  25%|██████████▍                              |  ETA: 0:04:51\u001b[39m"
     ]
    },
    {
     "data": {
      "text/plain": [
       "2.468457f-5"
      ]
     },
     "metadata": {},
     "output_type": "display_data"
    },
    {
     "name": "stderr",
     "output_type": "stream",
     "text": [
      "\u001b[32mloss: 2.46e-05:  26%|██████████▋                              |  ETA: 0:04:49\u001b[39m"
     ]
    },
    {
     "data": {
      "text/plain": [
       "2.4632365f-5"
      ]
     },
     "metadata": {},
     "output_type": "display_data"
    },
    {
     "name": "stderr",
     "output_type": "stream",
     "text": [
      "\u001b[32mloss: 2.46e-05:  26%|██████████▊                              |  ETA: 0:04:48\u001b[39m"
     ]
    },
    {
     "data": {
      "text/plain": [
       "2.4579922f-5"
      ]
     },
     "metadata": {},
     "output_type": "display_data"
    },
    {
     "name": "stderr",
     "output_type": "stream",
     "text": [
      "\u001b[32mloss: 2.45e-05:  27%|██████████▉                              |  ETA: 0:04:47\u001b[39m"
     ]
    },
    {
     "data": {
      "text/plain": [
       "2.4527279f-5"
      ]
     },
     "metadata": {},
     "output_type": "display_data"
    },
    {
     "name": "stderr",
     "output_type": "stream",
     "text": [
      "\u001b[32mloss: 2.45e-05:  27%|███████████▏                             |  ETA: 0:04:45\u001b[39m"
     ]
    },
    {
     "data": {
      "text/plain": [
       "2.4474324f-5"
      ]
     },
     "metadata": {},
     "output_type": "display_data"
    },
    {
     "name": "stderr",
     "output_type": "stream",
     "text": [
      "\u001b[32mloss: 2.44e-05:  27%|███████████▎                             |  ETA: 0:04:44\u001b[39m"
     ]
    },
    {
     "data": {
      "text/plain": [
       "2.4421259f-5"
      ]
     },
     "metadata": {},
     "output_type": "display_data"
    },
    {
     "name": "stderr",
     "output_type": "stream",
     "text": [
      "\u001b[32mloss: 2.44e-05:  28%|███████████▍                             |  ETA: 0:04:43\u001b[39m"
     ]
    },
    {
     "data": {
      "text/plain": [
       "2.4367993f-5"
      ]
     },
     "metadata": {},
     "output_type": "display_data"
    },
    {
     "name": "stderr",
     "output_type": "stream",
     "text": [
      "\u001b[32mloss: 2.43e-05:  28%|███████████▌                             |  ETA: 0:04:41\u001b[39m"
     ]
    },
    {
     "data": {
      "text/plain": [
       "2.4314662f-5"
      ]
     },
     "metadata": {},
     "output_type": "display_data"
    },
    {
     "name": "stderr",
     "output_type": "stream",
     "text": [
      "\u001b[32mloss: 2.43e-05:  29%|███████████▊                             |  ETA: 0:04:40\u001b[39m"
     ]
    },
    {
     "data": {
      "text/plain": [
       "2.426102f-5"
      ]
     },
     "metadata": {},
     "output_type": "display_data"
    },
    {
     "name": "stderr",
     "output_type": "stream",
     "text": [
      "\u001b[32mloss: 2.42e-05:  29%|███████████▉                             |  ETA: 0:04:38\u001b[39m"
     ]
    },
    {
     "data": {
      "text/plain": [
       "2.4207591f-5"
      ]
     },
     "metadata": {},
     "output_type": "display_data"
    },
    {
     "name": "stderr",
     "output_type": "stream",
     "text": [
      "\u001b[32mloss: 2.42e-05:  29%|████████████                             |  ETA: 0:04:37\u001b[39m"
     ]
    },
    {
     "data": {
      "text/plain": [
       "2.4153851f-5"
      ]
     },
     "metadata": {},
     "output_type": "display_data"
    },
    {
     "name": "stderr",
     "output_type": "stream",
     "text": [
      "\u001b[32mloss: 2.41e-05:  30%|████████████▎                            |  ETA: 0:04:36\u001b[39m"
     ]
    },
    {
     "data": {
      "text/plain": [
       "2.4100062f-5"
      ]
     },
     "metadata": {},
     "output_type": "display_data"
    },
    {
     "name": "stderr",
     "output_type": "stream",
     "text": [
      "\u001b[32mloss: 2.41e-05:  30%|████████████▍                            |  ETA: 0:04:34\u001b[39m"
     ]
    },
    {
     "data": {
      "text/plain": [
       "2.4045765f-5"
      ]
     },
     "metadata": {},
     "output_type": "display_data"
    },
    {
     "name": "stderr",
     "output_type": "stream",
     "text": [
      "\u001b[32mloss: 2.4e-05:  31%|████████████▌                            |  ETA: 0:04:33\u001b[39m"
     ]
    },
    {
     "data": {
      "text/plain": [
       "2.3991668f-5"
      ]
     },
     "metadata": {},
     "output_type": "display_data"
    },
    {
     "name": "stderr",
     "output_type": "stream",
     "text": [
      "\u001b[32mloss: 2.4e-05:  31%|████████████▊                            |  ETA: 0:04:31\u001b[39m"
     ]
    },
    {
     "data": {
      "text/plain": [
       "2.3937399f-5"
      ]
     },
     "metadata": {},
     "output_type": "display_data"
    },
    {
     "name": "stderr",
     "output_type": "stream",
     "text": [
      "\u001b[32mloss: 2.39e-05:  31%|████████████▉                            |  ETA: 0:04:29\u001b[39m"
     ]
    },
    {
     "data": {
      "text/plain": [
       "2.3883402f-5"
      ]
     },
     "metadata": {},
     "output_type": "display_data"
    },
    {
     "name": "stderr",
     "output_type": "stream",
     "text": [
      "\u001b[32mloss: 2.38e-05:  32%|█████████████                            |  ETA: 0:04:28\u001b[39m"
     ]
    },
    {
     "data": {
      "text/plain": [
       "2.3828963f-5"
      ]
     },
     "metadata": {},
     "output_type": "display_data"
    },
    {
     "name": "stderr",
     "output_type": "stream",
     "text": [
      "\u001b[32mloss: 2.38e-05:  32%|█████████████▎                           |  ETA: 0:04:25\u001b[39m"
     ]
    },
    {
     "data": {
      "text/plain": [
       "2.376059f-5"
      ]
     },
     "metadata": {},
     "output_type": "display_data"
    },
    {
     "name": "stderr",
     "output_type": "stream",
     "text": [
      "\u001b[32mloss: 2.37e-05:  33%|█████████████▍                           |  ETA: 0:04:24\u001b[39m"
     ]
    },
    {
     "data": {
      "text/plain": [
       "2.3706109f-5"
      ]
     },
     "metadata": {},
     "output_type": "display_data"
    },
    {
     "name": "stderr",
     "output_type": "stream",
     "text": [
      "\u001b[32mloss: 2.37e-05:  33%|█████████████▋                           |  ETA: 0:04:21\u001b[39m"
     ]
    },
    {
     "data": {
      "text/plain": [
       "2.363746f-5"
      ]
     },
     "metadata": {},
     "output_type": "display_data"
    },
    {
     "name": "stderr",
     "output_type": "stream",
     "text": [
      "\u001b[32mloss: 2.36e-05:  34%|█████████████▊                           |  ETA: 0:04:19\u001b[39m"
     ]
    },
    {
     "data": {
      "text/plain": [
       "2.3583172f-5"
      ]
     },
     "metadata": {},
     "output_type": "display_data"
    },
    {
     "name": "stderr",
     "output_type": "stream",
     "text": [
      "\u001b[32mloss: 2.35e-05:  34%|██████████████                           |  ETA: 0:04:18\u001b[39m"
     ]
    },
    {
     "data": {
      "text/plain": [
       "2.3528182f-5"
      ]
     },
     "metadata": {},
     "output_type": "display_data"
    },
    {
     "name": "stderr",
     "output_type": "stream",
     "text": [
      "\u001b[32mloss: 2.35e-05:  34%|██████████████▏                          |  ETA: 0:04:16\u001b[39m"
     ]
    },
    {
     "data": {
      "text/plain": [
       "2.3473041f-5"
      ]
     },
     "metadata": {},
     "output_type": "display_data"
    },
    {
     "name": "stderr",
     "output_type": "stream",
     "text": [
      "\u001b[32mloss: 2.34e-05:  35%|██████████████▎                          |  ETA: 0:04:14\u001b[39m"
     ]
    },
    {
     "data": {
      "text/plain": [
       "2.3418139f-5"
      ]
     },
     "metadata": {},
     "output_type": "display_data"
    },
    {
     "name": "stderr",
     "output_type": "stream",
     "text": [
      "\u001b[32mloss: 2.34e-05:  35%|██████████████▍                          |  ETA: 0:04:12\u001b[39m"
     ]
    },
    {
     "data": {
      "text/plain": [
       "2.3362785f-5"
      ]
     },
     "metadata": {},
     "output_type": "display_data"
    },
    {
     "name": "stderr",
     "output_type": "stream",
     "text": [
      "\u001b[32mloss: 2.33e-05:  36%|██████████████▋                          |  ETA: 0:04:10\u001b[39m"
     ]
    },
    {
     "data": {
      "text/plain": [
       "2.3307799f-5"
      ]
     },
     "metadata": {},
     "output_type": "display_data"
    },
    {
     "name": "stderr",
     "output_type": "stream",
     "text": [
      "\u001b[32mloss: 2.33e-05:  36%|██████████████▊                          |  ETA: 0:04:08\u001b[39m"
     ]
    },
    {
     "data": {
      "text/plain": [
       "2.3239012f-5"
      ]
     },
     "metadata": {},
     "output_type": "display_data"
    },
    {
     "name": "stderr",
     "output_type": "stream",
     "text": [
      "\u001b[32mloss: 2.32e-05:  36%|███████████████                          |  ETA: 0:04:06\u001b[39m"
     ]
    },
    {
     "data": {
      "text/plain": [
       "2.3183746f-5"
      ]
     },
     "metadata": {},
     "output_type": "display_data"
    },
    {
     "name": "stderr",
     "output_type": "stream",
     "text": [
      "\u001b[32mloss: 2.31e-05:  37%|███████████████▏                         |  ETA: 0:04:04\u001b[39m"
     ]
    },
    {
     "data": {
      "text/plain": [
       "2.3128392f-5"
      ]
     },
     "metadata": {},
     "output_type": "display_data"
    },
    {
     "name": "stderr",
     "output_type": "stream",
     "text": [
      "\u001b[32mloss: 2.31e-05:  37%|███████████████▎                         |  ETA: 0:04:03\u001b[39m"
     ]
    },
    {
     "data": {
      "text/plain": [
       "2.3073062f-5"
      ]
     },
     "metadata": {},
     "output_type": "display_data"
    },
    {
     "name": "stderr",
     "output_type": "stream",
     "text": [
      "\u001b[32mloss: 2.3e-05:  38%|███████████████▌                         |  ETA: 0:04:01\u001b[39mm"
     ]
    },
    {
     "data": {
      "text/plain": [
       "2.3017881f-5"
      ]
     },
     "metadata": {},
     "output_type": "display_data"
    },
    {
     "name": "stderr",
     "output_type": "stream",
     "text": [
      "\u001b[32mloss: 2.3e-05:  38%|███████████████▋                         |  ETA: 0:03:59\u001b[39m"
     ]
    },
    {
     "data": {
      "text/plain": [
       "2.2962518f-5"
      ]
     },
     "metadata": {},
     "output_type": "display_data"
    },
    {
     "name": "stderr",
     "output_type": "stream",
     "text": [
      "\u001b[32mloss: 2.29e-05:  38%|███████████████▊                         |  ETA: 0:03:58\u001b[39m"
     ]
    },
    {
     "data": {
      "text/plain": [
       "2.2907254f-5"
      ]
     },
     "metadata": {},
     "output_type": "display_data"
    },
    {
     "name": "stderr",
     "output_type": "stream",
     "text": [
      "\u001b[32mloss: 2.29e-05:  39%|████████████████                         |  ETA: 0:03:56\u001b[39m"
     ]
    },
    {
     "data": {
      "text/plain": [
       "2.2851893f-5"
      ]
     },
     "metadata": {},
     "output_type": "display_data"
    },
    {
     "name": "stderr",
     "output_type": "stream",
     "text": [
      "\u001b[32mloss: 2.28e-05:  39%|████████████████▏                        |  ETA: 0:03:54\u001b[39m"
     ]
    },
    {
     "data": {
      "text/plain": [
       "2.2796597f-5"
      ]
     },
     "metadata": {},
     "output_type": "display_data"
    },
    {
     "name": "stderr",
     "output_type": "stream",
     "text": [
      "\u001b[32mloss: 2.28e-05:  40%|████████████████▎                        |  ETA: 0:03:53\u001b[39m"
     ]
    },
    {
     "data": {
      "text/plain": [
       "2.2741426f-5"
      ]
     },
     "metadata": {},
     "output_type": "display_data"
    },
    {
     "name": "stderr",
     "output_type": "stream",
     "text": [
      "\u001b[32mloss: 2.27e-05:  40%|████████████████▌                        |  ETA: 0:03:51\u001b[39m"
     ]
    },
    {
     "data": {
      "text/plain": [
       "2.2685783f-5"
      ]
     },
     "metadata": {},
     "output_type": "display_data"
    },
    {
     "name": "stderr",
     "output_type": "stream",
     "text": [
      "\u001b[32mloss: 2.26e-05:  40%|████████████████▋                        |  ETA: 0:03:49\u001b[39m"
     ]
    },
    {
     "data": {
      "text/plain": [
       "2.2630713f-5"
      ]
     },
     "metadata": {},
     "output_type": "display_data"
    },
    {
     "name": "stderr",
     "output_type": "stream",
     "text": [
      "\u001b[32mloss: 2.26e-05:  41%|████████████████▊                        |  ETA: 0:03:47\u001b[39m"
     ]
    },
    {
     "data": {
      "text/plain": [
       "2.2561177f-5"
      ]
     },
     "metadata": {},
     "output_type": "display_data"
    },
    {
     "name": "stderr",
     "output_type": "stream",
     "text": [
      "\u001b[32mloss: 2.25e-05:  41%|█████████████████                        |  ETA: 0:03:45\u001b[39m"
     ]
    },
    {
     "data": {
      "text/plain": [
       "2.2505961f-5"
      ]
     },
     "metadata": {},
     "output_type": "display_data"
    },
    {
     "name": "stderr",
     "output_type": "stream",
     "text": [
      "\u001b[32mloss: 2.25e-05:  42%|█████████████████▏                       |  ETA: 0:03:43\u001b[39m"
     ]
    },
    {
     "data": {
      "text/plain": [
       "2.2437034f-5"
      ]
     },
     "metadata": {},
     "output_type": "display_data"
    },
    {
     "name": "stderr",
     "output_type": "stream",
     "text": [
      "\u001b[32mloss: 2.24e-05:  42%|█████████████████▍                       |  ETA: 0:03:41\u001b[39m"
     ]
    },
    {
     "data": {
      "text/plain": [
       "2.2367694f-5"
      ]
     },
     "metadata": {},
     "output_type": "display_data"
    },
    {
     "name": "stderr",
     "output_type": "stream",
     "text": [
      "\u001b[32mloss: 2.23e-05:  43%|█████████████████▌                       |  ETA: 0:03:39\u001b[39m"
     ]
    },
    {
     "data": {
      "text/plain": [
       "2.2312406f-5"
      ]
     },
     "metadata": {},
     "output_type": "display_data"
    },
    {
     "name": "stderr",
     "output_type": "stream",
     "text": [
      "\u001b[32mloss: 2.23e-05:  43%|█████████████████▊                       |  ETA: 0:03:38\u001b[39m"
     ]
    },
    {
     "data": {
      "text/plain": [
       "2.2257213f-5"
      ]
     },
     "metadata": {},
     "output_type": "display_data"
    },
    {
     "name": "stderr",
     "output_type": "stream",
     "text": [
      "\u001b[32mloss: 2.22e-05:  44%|█████████████████▉                       |  ETA: 0:03:36\u001b[39m"
     ]
    },
    {
     "data": {
      "text/plain": [
       "2.2201946f-5"
      ]
     },
     "metadata": {},
     "output_type": "display_data"
    },
    {
     "name": "stderr",
     "output_type": "stream",
     "text": [
      "\u001b[32mloss: 2.22e-05:  44%|██████████████████                       |  ETA: 0:03:34\u001b[39m"
     ]
    },
    {
     "data": {
      "text/plain": [
       "2.2146985f-5"
      ]
     },
     "metadata": {},
     "output_type": "display_data"
    },
    {
     "name": "stderr",
     "output_type": "stream",
     "text": [
      "\u001b[32mloss: 2.21e-05:  44%|██████████████████▎                      |  ETA: 0:03:33\u001b[39m"
     ]
    },
    {
     "data": {
      "text/plain": [
       "2.2091897f-5"
      ]
     },
     "metadata": {},
     "output_type": "display_data"
    },
    {
     "name": "stderr",
     "output_type": "stream",
     "text": [
      "\u001b[32mloss: 2.21e-05:  45%|██████████████████▍                      |  ETA: 0:03:31\u001b[39m"
     ]
    },
    {
     "data": {
      "text/plain": [
       "2.2036755f-5"
      ]
     },
     "metadata": {},
     "output_type": "display_data"
    },
    {
     "name": "stderr",
     "output_type": "stream",
     "text": [
      "\u001b[32mloss: 2.2e-05:  45%|██████████████████▋                      |  ETA: 0:03:29\u001b[39m"
     ]
    },
    {
     "data": {
      "text/plain": [
       "2.196798f-5"
      ]
     },
     "metadata": {},
     "output_type": "display_data"
    },
    {
     "name": "stderr",
     "output_type": "stream",
     "text": [
      "\u001b[32mloss: 2.19e-05:  46%|██████████████████▊                      |  ETA: 0:03:27\u001b[39m"
     ]
    },
    {
     "data": {
      "text/plain": [
       "2.1899374f-5"
      ]
     },
     "metadata": {},
     "output_type": "display_data"
    },
    {
     "name": "stderr",
     "output_type": "stream",
     "text": [
      "\u001b[32mloss: 2.18e-05:  46%|███████████████████                      |  ETA: 0:03:24\u001b[39m"
     ]
    },
    {
     "data": {
      "text/plain": [
       "2.1830658f-5"
      ]
     },
     "metadata": {},
     "output_type": "display_data"
    },
    {
     "name": "stderr",
     "output_type": "stream",
     "text": [
      "\u001b[32mloss: 2.18e-05:  47%|███████████████████▎                     |  ETA: 0:03:22\u001b[39m"
     ]
    },
    {
     "data": {
      "text/plain": [
       "2.1762362f-5"
      ]
     },
     "metadata": {},
     "output_type": "display_data"
    },
    {
     "name": "stderr",
     "output_type": "stream",
     "text": [
      "\u001b[32mloss: 2.17e-05:  47%|███████████████████▍                     |  ETA: 0:03:20\u001b[39m"
     ]
    },
    {
     "data": {
      "text/plain": [
       "2.169408f-5"
      ]
     },
     "metadata": {},
     "output_type": "display_data"
    },
    {
     "name": "stderr",
     "output_type": "stream",
     "text": [
      "\u001b[32mloss: 2.17e-05:  48%|███████████████████▌                     |  ETA: 0:03:18\u001b[39m"
     ]
    },
    {
     "data": {
      "text/plain": [
       "2.1639193f-5"
      ]
     },
     "metadata": {},
     "output_type": "display_data"
    },
    {
     "name": "stderr",
     "output_type": "stream",
     "text": [
      "\u001b[32mloss: 2.16e-05:  48%|███████████████████▊                     |  ETA: 0:03:17\u001b[39m"
     ]
    },
    {
     "data": {
      "text/plain": [
       "2.1584505f-5"
      ]
     },
     "metadata": {},
     "output_type": "display_data"
    },
    {
     "name": "stderr",
     "output_type": "stream",
     "text": [
      "\u001b[32mloss: 2.15e-05:  48%|███████████████████▉                     |  ETA: 0:03:16\u001b[39m"
     ]
    },
    {
     "data": {
      "text/plain": [
       "2.1530273f-5"
      ]
     },
     "metadata": {},
     "output_type": "display_data"
    },
    {
     "name": "stderr",
     "output_type": "stream",
     "text": [
      "\u001b[32mloss: 2.15e-05:  49%|████████████████████                     |  ETA: 0:03:14\u001b[39m"
     ]
    },
    {
     "data": {
      "text/plain": [
       "2.1475948f-5"
      ]
     },
     "metadata": {},
     "output_type": "display_data"
    },
    {
     "name": "stderr",
     "output_type": "stream",
     "text": [
      "\u001b[32mloss: 2.14e-05:  49%|████████████████████▎                    |  ETA: 0:03:12\u001b[39m"
     ]
    },
    {
     "data": {
      "text/plain": [
       "2.140801f-5"
      ]
     },
     "metadata": {},
     "output_type": "display_data"
    },
    {
     "name": "stderr",
     "output_type": "stream",
     "text": [
      "\u001b[32mloss: 2.14e-05:  50%|████████████████████▌                    |  ETA: 0:03:10\u001b[39m"
     ]
    },
    {
     "data": {
      "text/plain": [
       "2.1340296f-5"
      ]
     },
     "metadata": {},
     "output_type": "display_data"
    },
    {
     "name": "stderr",
     "output_type": "stream",
     "text": [
      "\u001b[32mloss: 2.13e-05:  50%|████████████████████▋                    |  ETA: 0:03:08\u001b[39m"
     ]
    },
    {
     "data": {
      "text/plain": [
       "2.1286138f-5"
      ]
     },
     "metadata": {},
     "output_type": "display_data"
    },
    {
     "name": "stderr",
     "output_type": "stream",
     "text": [
      "\u001b[32mloss: 2.12e-05:  51%|████████████████████▉                    |  ETA: 0:03:06\u001b[39m"
     ]
    },
    {
     "data": {
      "text/plain": [
       "2.121874f-5"
      ]
     },
     "metadata": {},
     "output_type": "display_data"
    },
    {
     "name": "stderr",
     "output_type": "stream",
     "text": [
      "\u001b[32mloss: 2.12e-05:  51%|█████████████████████                    |  ETA: 0:03:05\u001b[39m"
     ]
    },
    {
     "data": {
      "text/plain": [
       "2.1164742f-5"
      ]
     },
     "metadata": {},
     "output_type": "display_data"
    },
    {
     "name": "stderr",
     "output_type": "stream",
     "text": [
      "\u001b[32mloss: 2.11e-05:  52%|█████████████████████▏                   |  ETA: 0:03:03\u001b[39m"
     ]
    },
    {
     "data": {
      "text/plain": [
       "2.1110869f-5"
      ]
     },
     "metadata": {},
     "output_type": "display_data"
    },
    {
     "name": "stderr",
     "output_type": "stream",
     "text": [
      "\u001b[32mloss: 2.11e-05:  52%|█████████████████████▍                   |  ETA: 0:03:02\u001b[39m"
     ]
    },
    {
     "data": {
      "text/plain": [
       "2.1057549f-5"
      ]
     },
     "metadata": {},
     "output_type": "display_data"
    },
    {
     "name": "stderr",
     "output_type": "stream",
     "text": [
      "\u001b[32mloss: 2.1e-05:  52%|█████████████████████▌                   |  ETA: 0:03:00\u001b[39mm"
     ]
    },
    {
     "data": {
      "text/plain": [
       "2.1003962f-5"
      ]
     },
     "metadata": {},
     "output_type": "display_data"
    },
    {
     "name": "stderr",
     "output_type": "stream",
     "text": [
      "\u001b[32mloss: 2.1e-05:  53%|█████████████████████▊                   |  ETA: 0:02:58\u001b[39m"
     ]
    },
    {
     "data": {
      "text/plain": [
       "2.0937194f-5"
      ]
     },
     "metadata": {},
     "output_type": "display_data"
    },
    {
     "name": "stderr",
     "output_type": "stream",
     "text": [
      "\u001b[32mloss: 2.09e-05:  53%|█████████████████████▉                   |  ETA: 0:02:56\u001b[39m"
     ]
    },
    {
     "data": {
      "text/plain": [
       "2.0883817f-5"
      ]
     },
     "metadata": {},
     "output_type": "display_data"
    },
    {
     "name": "stderr",
     "output_type": "stream",
     "text": [
      "\u001b[32mloss: 2.08e-05:  54%|██████████████████████                   |  ETA: 0:02:54\u001b[39m"
     ]
    },
    {
     "data": {
      "text/plain": [
       "2.0817137f-5"
      ]
     },
     "metadata": {},
     "output_type": "display_data"
    },
    {
     "name": "stderr",
     "output_type": "stream",
     "text": [
      "\u001b[32mloss: 2.08e-05:  54%|██████████████████████▎                  |  ETA: 0:02:53\u001b[39m"
     ]
    },
    {
     "data": {
      "text/plain": [
       "2.0764368f-5"
      ]
     },
     "metadata": {},
     "output_type": "display_data"
    },
    {
     "name": "stderr",
     "output_type": "stream",
     "text": [
      "\u001b[32mloss: 2.07e-05:  55%|██████████████████████▍                  |  ETA: 0:02:51\u001b[39m"
     ]
    },
    {
     "data": {
      "text/plain": [
       "2.0711455f-5"
      ]
     },
     "metadata": {},
     "output_type": "display_data"
    },
    {
     "name": "stderr",
     "output_type": "stream",
     "text": [
      "\u001b[32mloss: 2.07e-05:  55%|██████████████████████▌                  |  ETA: 0:02:50\u001b[39m"
     ]
    },
    {
     "data": {
      "text/plain": [
       "2.0658666f-5"
      ]
     },
     "metadata": {},
     "output_type": "display_data"
    },
    {
     "name": "stderr",
     "output_type": "stream",
     "text": [
      "\u001b[32mloss: 2.06e-05:  55%|██████████████████████▊                  |  ETA: 0:02:48\u001b[39m"
     ]
    },
    {
     "data": {
      "text/plain": [
       "2.0606276f-5"
      ]
     },
     "metadata": {},
     "output_type": "display_data"
    },
    {
     "name": "stderr",
     "output_type": "stream",
     "text": [
      "\u001b[32mloss: 2.06e-05:  56%|██████████████████████▉                  |  ETA: 0:02:46\u001b[39m"
     ]
    },
    {
     "data": {
      "text/plain": [
       "2.0553489f-5"
      ]
     },
     "metadata": {},
     "output_type": "display_data"
    },
    {
     "name": "stderr",
     "output_type": "stream",
     "text": [
      "\u001b[32mloss: 2.05e-05:  56%|███████████████████████                  |  ETA: 0:02:45\u001b[39m"
     ]
    },
    {
     "data": {
      "text/plain": [
       "2.0501391f-5"
      ]
     },
     "metadata": {},
     "output_type": "display_data"
    },
    {
     "name": "stderr",
     "output_type": "stream",
     "text": [
      "\u001b[32mloss: 2.04e-05:  57%|███████████████████████▎                 |  ETA: 0:02:43\u001b[39m"
     ]
    },
    {
     "data": {
      "text/plain": [
       "2.0435791f-5"
      ]
     },
     "metadata": {},
     "output_type": "display_data"
    },
    {
     "name": "stderr",
     "output_type": "stream",
     "text": [
      "\u001b[32mloss: 2.04e-05:  57%|███████████████████████▍                 |  ETA: 0:02:41\u001b[39m"
     ]
    },
    {
     "data": {
      "text/plain": [
       "2.038385f-5"
      ]
     },
     "metadata": {},
     "output_type": "display_data"
    },
    {
     "name": "stderr",
     "output_type": "stream",
     "text": [
      "\u001b[32mloss: 2.03e-05:  58%|███████████████████████▋                 |  ETA: 0:02:39\u001b[39m"
     ]
    },
    {
     "data": {
      "text/plain": [
       "2.0332005f-5"
      ]
     },
     "metadata": {},
     "output_type": "display_data"
    },
    {
     "name": "stderr",
     "output_type": "stream",
     "text": [
      "\u001b[32mloss: 2.03e-05:  58%|███████████████████████▊                 |  ETA: 0:02:38\u001b[39m"
     ]
    },
    {
     "data": {
      "text/plain": [
       "2.0280322f-5"
      ]
     },
     "metadata": {},
     "output_type": "display_data"
    },
    {
     "name": "stderr",
     "output_type": "stream",
     "text": [
      "\u001b[32mloss: 2.02e-05:  58%|████████████████████████                 |  ETA: 0:02:36\u001b[39m"
     ]
    },
    {
     "data": {
      "text/plain": [
       "2.02157f-5"
      ]
     },
     "metadata": {},
     "output_type": "display_data"
    },
    {
     "name": "stderr",
     "output_type": "stream",
     "text": [
      "\u001b[32mloss: 2.02e-05:  59%|████████████████████████▏                |  ETA: 0:02:34\u001b[39m"
     ]
    },
    {
     "data": {
      "text/plain": [
       "2.0151503f-5"
      ]
     },
     "metadata": {},
     "output_type": "display_data"
    },
    {
     "name": "stderr",
     "output_type": "stream",
     "text": [
      "\u001b[32mloss: 2.01e-05:  59%|████████████████████████▍                |  ETA: 0:02:32\u001b[39m"
     ]
    },
    {
     "data": {
      "text/plain": [
       "2.0100473f-5"
      ]
     },
     "metadata": {},
     "output_type": "display_data"
    },
    {
     "name": "stderr",
     "output_type": "stream",
     "text": [
      "\u001b[32mloss: 2e-05:  60%|████████████████████████▌                |  ETA: 0:02:30\u001b[39m39m"
     ]
    },
    {
     "data": {
      "text/plain": [
       "2.0036565f-5"
      ]
     },
     "metadata": {},
     "output_type": "display_data"
    },
    {
     "name": "stderr",
     "output_type": "stream",
     "text": [
      "\u001b[32mloss: 2e-05:  60%|████████████████████████▋                |  ETA: 0:02:28\u001b[39m"
     ]
    },
    {
     "data": {
      "text/plain": [
       "1.9985715f-5"
      ]
     },
     "metadata": {},
     "output_type": "display_data"
    },
    {
     "name": "stderr",
     "output_type": "stream",
     "text": [
      "\u001b[32mloss: 1.99e-05:  61%|████████████████████████▉                |  ETA: 0:02:27\u001b[39m"
     ]
    },
    {
     "data": {
      "text/plain": [
       "1.9935293f-5"
      ]
     },
     "metadata": {},
     "output_type": "display_data"
    },
    {
     "name": "stderr",
     "output_type": "stream",
     "text": [
      "\u001b[32mloss: 1.99e-05:  61%|█████████████████████████                |  ETA: 0:02:25\u001b[39m"
     ]
    },
    {
     "data": {
      "text/plain": [
       "1.9884425f-5"
      ]
     },
     "metadata": {},
     "output_type": "display_data"
    },
    {
     "name": "stderr",
     "output_type": "stream",
     "text": [
      "\u001b[32mloss: 1.98e-05:  62%|█████████████████████████▎               |  ETA: 0:02:23\u001b[39m"
     ]
    },
    {
     "data": {
      "text/plain": [
       "1.9821506f-5"
      ]
     },
     "metadata": {},
     "output_type": "display_data"
    },
    {
     "name": "stderr",
     "output_type": "stream",
     "text": [
      "\u001b[32mloss: 1.98e-05:  62%|█████████████████████████▍               |  ETA: 0:02:21\u001b[39m"
     ]
    },
    {
     "data": {
      "text/plain": [
       "1.9758914f-5"
      ]
     },
     "metadata": {},
     "output_type": "display_data"
    },
    {
     "name": "stderr",
     "output_type": "stream",
     "text": [
      "\u001b[32mloss: 1.97e-05:  62%|█████████████████████████▋               |  ETA: 0:02:20\u001b[39m"
     ]
    },
    {
     "data": {
      "text/plain": [
       "1.9709032f-5"
      ]
     },
     "metadata": {},
     "output_type": "display_data"
    },
    {
     "name": "stderr",
     "output_type": "stream",
     "text": [
      "\u001b[32mloss: 1.97e-05:  63%|█████████████████████████▊               |  ETA: 0:02:18\u001b[39m"
     ]
    },
    {
     "data": {
      "text/plain": [
       "1.9659517f-5"
      ]
     },
     "metadata": {},
     "output_type": "display_data"
    },
    {
     "name": "stderr",
     "output_type": "stream",
     "text": [
      "\u001b[32mloss: 1.96e-05:  63%|█████████████████████████▉               |  ETA: 0:02:17\u001b[39m"
     ]
    },
    {
     "data": {
      "text/plain": [
       "1.960971f-5"
      ]
     },
     "metadata": {},
     "output_type": "display_data"
    },
    {
     "name": "stderr",
     "output_type": "stream",
     "text": [
      "\u001b[32mloss: 1.96e-05:  64%|██████████████████████████▏              |  ETA: 0:02:15\u001b[39m"
     ]
    },
    {
     "data": {
      "text/plain": [
       "1.956039f-5"
      ]
     },
     "metadata": {},
     "output_type": "display_data"
    },
    {
     "name": "stderr",
     "output_type": "stream",
     "text": [
      "\u001b[32mloss: 1.95e-05:  64%|██████████████████████████▎              |  ETA: 0:02:14\u001b[39m"
     ]
    },
    {
     "data": {
      "text/plain": [
       "1.9510877f-5"
      ]
     },
     "metadata": {},
     "output_type": "display_data"
    },
    {
     "name": "stderr",
     "output_type": "stream",
     "text": [
      "\u001b[32mloss: 1.95e-05:  64%|██████████████████████████▌              |  ETA: 0:02:12\u001b[39m"
     ]
    },
    {
     "data": {
      "text/plain": [
       "1.944973f-5"
      ]
     },
     "metadata": {},
     "output_type": "display_data"
    },
    {
     "name": "stderr",
     "output_type": "stream",
     "text": [
      "\u001b[32mloss: 1.94e-05:  65%|██████████████████████████▋              |  ETA: 0:02:10\u001b[39m"
     ]
    },
    {
     "data": {
      "text/plain": [
       "1.9401126f-5"
      ]
     },
     "metadata": {},
     "output_type": "display_data"
    },
    {
     "name": "stderr",
     "output_type": "stream",
     "text": [
      "\u001b[32mloss: 1.94e-05:  65%|██████████████████████████▊              |  ETA: 0:02:09\u001b[39m"
     ]
    },
    {
     "data": {
      "text/plain": [
       "1.9364521f-5"
      ]
     },
     "metadata": {},
     "output_type": "display_data"
    },
    {
     "name": "stderr",
     "output_type": "stream",
     "text": [
      "\u001b[32mloss: 1.93e-05:  66%|██████████████████████████▉              |  ETA: 0:02:08\u001b[39m"
     ]
    },
    {
     "data": {
      "text/plain": [
       "1.9316261f-5"
      ]
     },
     "metadata": {},
     "output_type": "display_data"
    },
    {
     "name": "stderr",
     "output_type": "stream",
     "text": [
      "\u001b[32mloss: 1.93e-05:  66%|███████████████████████████              |  ETA: 0:02:07\u001b[39m"
     ]
    },
    {
     "data": {
      "text/plain": [
       "1.9279818f-5"
      ]
     },
     "metadata": {},
     "output_type": "display_data"
    },
    {
     "name": "stderr",
     "output_type": "stream",
     "text": [
      "\u001b[32mloss: 1.92e-05:  66%|███████████████████████████▏             |  ETA: 0:02:05\u001b[39m"
     ]
    },
    {
     "data": {
      "text/plain": [
       "1.9232342f-5"
      ]
     },
     "metadata": {},
     "output_type": "display_data"
    },
    {
     "name": "stderr",
     "output_type": "stream",
     "text": [
      "\u001b[32mloss: 1.92e-05:  67%|███████████████████████████▍             |  ETA: 0:02:04\u001b[39m"
     ]
    },
    {
     "data": {
      "text/plain": [
       "1.9188295f-5"
      ]
     },
     "metadata": {},
     "output_type": "display_data"
    },
    {
     "name": "stderr",
     "output_type": "stream",
     "text": [
      "\u001b[32mloss: 1.92e-05:  67%|███████████████████████████▌             |  ETA: 0:02:02\u001b[39m"
     ]
    },
    {
     "data": {
      "text/plain": [
       "1.9144256f-5"
      ]
     },
     "metadata": {},
     "output_type": "display_data"
    },
    {
     "name": "stderr",
     "output_type": "stream",
     "text": [
      "\u001b[32mloss: 1.91e-05:  68%|███████████████████████████▋             |  ETA: 0:02:01\u001b[39m"
     ]
    },
    {
     "data": {
      "text/plain": [
       "1.9092055f-5"
      ]
     },
     "metadata": {},
     "output_type": "display_data"
    },
    {
     "name": "stderr",
     "output_type": "stream",
     "text": [
      "\u001b[32mloss: 1.91e-05:  68%|███████████████████████████▉             |  ETA: 0:01:59\u001b[39m"
     ]
    },
    {
     "data": {
      "text/plain": [
       "1.9041276f-5"
      ]
     },
     "metadata": {},
     "output_type": "display_data"
    },
    {
     "name": "stderr",
     "output_type": "stream",
     "text": [
      "\u001b[32mloss: 1.9e-05:  68%|████████████████████████████             |  ETA: 0:01:58\u001b[39m"
     ]
    },
    {
     "data": {
      "text/plain": [
       "1.899502f-5"
      ]
     },
     "metadata": {},
     "output_type": "display_data"
    },
    {
     "name": "stderr",
     "output_type": "stream",
     "text": [
      "\u001b[32mloss: 1.9e-05:  69%|████████████████████████████▏            |  ETA: 0:01:56\u001b[39m"
     ]
    },
    {
     "data": {
      "text/plain": [
       "1.8948744f-5"
      ]
     },
     "metadata": {},
     "output_type": "display_data"
    },
    {
     "name": "stderr",
     "output_type": "stream",
     "text": [
      "\u001b[32mloss: 1.89e-05:  69%|████████████████████████████▍            |  ETA: 0:01:55\u001b[39m"
     ]
    },
    {
     "data": {
      "text/plain": [
       "1.8901343f-5"
      ]
     },
     "metadata": {},
     "output_type": "display_data"
    },
    {
     "name": "stderr",
     "output_type": "stream",
     "text": [
      "\u001b[32mloss: 1.89e-05:  70%|████████████████████████████▌            |  ETA: 0:01:53\u001b[39m"
     ]
    },
    {
     "data": {
      "text/plain": [
       "1.8854254f-5"
      ]
     },
     "metadata": {},
     "output_type": "display_data"
    },
    {
     "name": "stderr",
     "output_type": "stream",
     "text": [
      "\u001b[32mloss: 1.88e-05:  70%|████████████████████████████▋            |  ETA: 0:01:52\u001b[39m"
     ]
    },
    {
     "data": {
      "text/plain": [
       "1.880746f-5"
      ]
     },
     "metadata": {},
     "output_type": "display_data"
    },
    {
     "name": "stderr",
     "output_type": "stream",
     "text": [
      "\u001b[32mloss: 1.88e-05:  70%|████████████████████████████▉            |  ETA: 0:01:50\u001b[39m"
     ]
    },
    {
     "data": {
      "text/plain": [
       "1.8761628f-5"
      ]
     },
     "metadata": {},
     "output_type": "display_data"
    },
    {
     "name": "stderr",
     "output_type": "stream",
     "text": [
      "\u001b[32mloss: 1.87e-05:  71%|█████████████████████████████            |  ETA: 0:01:49\u001b[39m"
     ]
    },
    {
     "data": {
      "text/plain": [
       "1.8715677f-5"
      ]
     },
     "metadata": {},
     "output_type": "display_data"
    },
    {
     "name": "stderr",
     "output_type": "stream",
     "text": [
      "\u001b[32mloss: 1.87e-05:  71%|█████████████████████████████▏           |  ETA: 0:01:47\u001b[39m"
     ]
    },
    {
     "data": {
      "text/plain": [
       "1.8669958f-5"
      ]
     },
     "metadata": {},
     "output_type": "display_data"
    },
    {
     "name": "stderr",
     "output_type": "stream",
     "text": [
      "\u001b[32mloss: 1.86e-05:  72%|█████████████████████████████▍           |  ETA: 0:01:46\u001b[39m"
     ]
    },
    {
     "data": {
      "text/plain": [
       "1.8624456f-5"
      ]
     },
     "metadata": {},
     "output_type": "display_data"
    },
    {
     "name": "stderr",
     "output_type": "stream",
     "text": [
      "\u001b[32mloss: 1.86e-05:  72%|█████████████████████████████▌           |  ETA: 0:01:44\u001b[39m"
     ]
    },
    {
     "data": {
      "text/plain": [
       "1.8579243f-5"
      ]
     },
     "metadata": {},
     "output_type": "display_data"
    },
    {
     "name": "stderr",
     "output_type": "stream",
     "text": [
      "\u001b[32mloss: 1.85e-05:  72%|█████████████████████████████▋           |  ETA: 0:01:42\u001b[39m"
     ]
    },
    {
     "data": {
      "text/plain": [
       "1.852294f-5"
      ]
     },
     "metadata": {},
     "output_type": "display_data"
    },
    {
     "name": "stderr",
     "output_type": "stream",
     "text": [
      "\u001b[32mloss: 1.85e-05:  73%|█████████████████████████████▉           |  ETA: 0:01:40\u001b[39m"
     ]
    },
    {
     "data": {
      "text/plain": [
       "1.8467083f-5"
      ]
     },
     "metadata": {},
     "output_type": "display_data"
    },
    {
     "name": "stderr",
     "output_type": "stream",
     "text": [
      "\u001b[32mloss: 1.84e-05:  73%|██████████████████████████████▏          |  ETA: 0:01:39\u001b[39m"
     ]
    },
    {
     "data": {
      "text/plain": [
       "1.84115f-5"
      ]
     },
     "metadata": {},
     "output_type": "display_data"
    },
    {
     "name": "stderr",
     "output_type": "stream",
     "text": [
      "\u001b[32mloss: 1.84e-05:  74%|██████████████████████████████▎          |  ETA: 0:01:37\u001b[39m"
     ]
    },
    {
     "data": {
      "text/plain": [
       "1.8367056f-5"
      ]
     },
     "metadata": {},
     "output_type": "display_data"
    },
    {
     "name": "stderr",
     "output_type": "stream",
     "text": [
      "\u001b[32mloss: 1.83e-05:  74%|██████████████████████████████▍          |  ETA: 0:01:36\u001b[39m"
     ]
    },
    {
     "data": {
      "text/plain": [
       "1.8323028f-5"
      ]
     },
     "metadata": {},
     "output_type": "display_data"
    },
    {
     "name": "stderr",
     "output_type": "stream",
     "text": [
      "\u001b[32mloss: 1.83e-05:  75%|██████████████████████████████▋          |  ETA: 0:01:34\u001b[39m"
     ]
    },
    {
     "data": {
      "text/plain": [
       "1.8279286f-5"
      ]
     },
     "metadata": {},
     "output_type": "display_data"
    },
    {
     "name": "stderr",
     "output_type": "stream",
     "text": [
      "\u001b[32mloss: 1.82e-05:  75%|██████████████████████████████▊          |  ETA: 0:01:33\u001b[39m"
     ]
    },
    {
     "data": {
      "text/plain": [
       "1.8235909f-5"
      ]
     },
     "metadata": {},
     "output_type": "display_data"
    },
    {
     "name": "stderr",
     "output_type": "stream",
     "text": [
      "\u001b[32mloss: 1.82e-05:  75%|██████████████████████████████▉          |  ETA: 0:01:31\u001b[39m"
     ]
    },
    {
     "data": {
      "text/plain": [
       "1.8192584f-5"
      ]
     },
     "metadata": {},
     "output_type": "display_data"
    },
    {
     "name": "stderr",
     "output_type": "stream",
     "text": [
      "\u001b[32mloss: 1.81e-05:  76%|███████████████████████████████▏         |  ETA: 0:01:29\u001b[39m"
     ]
    },
    {
     "data": {
      "text/plain": [
       "1.8138691f-5"
      ]
     },
     "metadata": {},
     "output_type": "display_data"
    },
    {
     "name": "stderr",
     "output_type": "stream",
     "text": [
      "\u001b[32mloss: 1.81e-05:  76%|███████████████████████████████▎         |  ETA: 0:01:28\u001b[39m"
     ]
    },
    {
     "data": {
      "text/plain": [
       "1.8095934f-5"
      ]
     },
     "metadata": {},
     "output_type": "display_data"
    },
    {
     "name": "stderr",
     "output_type": "stream",
     "text": [
      "\u001b[32mloss: 1.81e-05:  77%|███████████████████████████████▌         |  ETA: 0:01:26\u001b[39m"
     ]
    },
    {
     "data": {
      "text/plain": [
       "1.804278f-5"
      ]
     },
     "metadata": {},
     "output_type": "display_data"
    },
    {
     "name": "stderr",
     "output_type": "stream",
     "text": [
      "\u001b[32mloss: 1.8e-05:  77%|███████████████████████████████▊         |  ETA: 0:01:24\u001b[39m"
     ]
    },
    {
     "data": {
      "text/plain": [
       "1.7989878f-5"
      ]
     },
     "metadata": {},
     "output_type": "display_data"
    },
    {
     "name": "stderr",
     "output_type": "stream",
     "text": [
      "\u001b[32mloss: 1.8e-05:  78%|███████████████████████████████▉         |  ETA: 0:01:22\u001b[39m"
     ]
    },
    {
     "data": {
      "text/plain": [
       "1.7947974f-5"
      ]
     },
     "metadata": {},
     "output_type": "display_data"
    },
    {
     "name": "stderr",
     "output_type": "stream",
     "text": [
      "\u001b[32mloss: 1.79e-05:  78%|████████████████████████████████         |  ETA: 0:01:21\u001b[39m"
     ]
    },
    {
     "data": {
      "text/plain": [
       "1.7905804f-5"
      ]
     },
     "metadata": {},
     "output_type": "display_data"
    },
    {
     "name": "stderr",
     "output_type": "stream",
     "text": [
      "\u001b[32mloss: 1.79e-05:  78%|████████████████████████████████▏        |  ETA: 0:01:19\u001b[39m"
     ]
    },
    {
     "data": {
      "text/plain": [
       "1.786438f-5"
      ]
     },
     "metadata": {},
     "output_type": "display_data"
    },
    {
     "name": "stderr",
     "output_type": "stream",
     "text": [
      "\u001b[32mloss: 1.78e-05:  79%|████████████████████████████████▍        |  ETA: 0:01:18\u001b[39m"
     ]
    },
    {
     "data": {
      "text/plain": [
       "1.7823115f-5"
      ]
     },
     "metadata": {},
     "output_type": "display_data"
    },
    {
     "name": "stderr",
     "output_type": "stream",
     "text": [
      "\u001b[32mloss: 1.78e-05:  79%|████████████████████████████████▌        |  ETA: 0:01:16\u001b[39m"
     ]
    },
    {
     "data": {
      "text/plain": [
       "1.777177f-5"
      ]
     },
     "metadata": {},
     "output_type": "display_data"
    },
    {
     "name": "stderr",
     "output_type": "stream",
     "text": [
      "\u001b[32mloss: 1.77e-05:  80%|████████████████████████████████▊        |  ETA: 0:01:15\u001b[39m"
     ]
    },
    {
     "data": {
      "text/plain": [
       "1.7731021f-5"
      ]
     },
     "metadata": {},
     "output_type": "display_data"
    },
    {
     "name": "stderr",
     "output_type": "stream",
     "text": [
      "\u001b[32mloss: 1.77e-05:  80%|████████████████████████████████▉        |  ETA: 0:01:13\u001b[39m"
     ]
    },
    {
     "data": {
      "text/plain": [
       "1.7690272f-5"
      ]
     },
     "metadata": {},
     "output_type": "display_data"
    },
    {
     "name": "stderr",
     "output_type": "stream",
     "text": [
      "\u001b[32mloss: 1.77e-05:  81%|█████████████████████████████████        |  ETA: 0:01:12\u001b[39m"
     ]
    },
    {
     "data": {
      "text/plain": [
       "1.7649902f-5"
      ]
     },
     "metadata": {},
     "output_type": "display_data"
    },
    {
     "name": "stderr",
     "output_type": "stream",
     "text": [
      "\u001b[32mloss: 1.76e-05:  81%|█████████████████████████████████▎       |  ETA: 0:01:10\u001b[39m"
     ]
    },
    {
     "data": {
      "text/plain": [
       "1.7609915f-5"
      ]
     },
     "metadata": {},
     "output_type": "display_data"
    },
    {
     "name": "stderr",
     "output_type": "stream",
     "text": [
      "\u001b[32mloss: 1.76e-05:  81%|█████████████████████████████████▍       |  ETA: 0:01:09\u001b[39m"
     ]
    },
    {
     "data": {
      "text/plain": [
       "1.7569908f-5"
      ]
     },
     "metadata": {},
     "output_type": "display_data"
    },
    {
     "name": "stderr",
     "output_type": "stream",
     "text": [
      "\u001b[32mloss: 1.75e-05:  82%|█████████████████████████████████▌       |  ETA: 0:01:07\u001b[39m"
     ]
    },
    {
     "data": {
      "text/plain": [
       "1.7530478f-5"
      ]
     },
     "metadata": {},
     "output_type": "display_data"
    },
    {
     "name": "stderr",
     "output_type": "stream",
     "text": [
      "\u001b[32mloss: 1.75e-05:  82%|█████████████████████████████████▋       |  ETA: 0:01:06\u001b[39m"
     ]
    },
    {
     "data": {
      "text/plain": [
       "1.7500735f-5"
      ]
     },
     "metadata": {},
     "output_type": "display_data"
    },
    {
     "name": "stderr",
     "output_type": "stream",
     "text": [
      "\u001b[32mloss: 1.75e-05:  82%|█████████████████████████████████▉       |  ETA: 0:01:05\u001b[39m"
     ]
    },
    {
     "data": {
      "text/plain": [
       "1.7461542f-5"
      ]
     },
     "metadata": {},
     "output_type": "display_data"
    },
    {
     "name": "stderr",
     "output_type": "stream",
     "text": [
      "\u001b[32mloss: 1.74e-05:  83%|██████████████████████████████████       |  ETA: 0:01:03\u001b[39m"
     ]
    },
    {
     "data": {
      "text/plain": [
       "1.7412758f-5"
      ]
     },
     "metadata": {},
     "output_type": "display_data"
    },
    {
     "name": "stderr",
     "output_type": "stream",
     "text": [
      "\u001b[32mloss: 1.74e-05:  84%|██████████████████████████████████▎      |  ETA: 0:01:01\u001b[39m"
     ]
    },
    {
     "data": {
      "text/plain": [
       "1.7364417f-5"
      ]
     },
     "metadata": {},
     "output_type": "display_data"
    },
    {
     "name": "stderr",
     "output_type": "stream",
     "text": [
      "\u001b[32mloss: 1.73e-05:  84%|██████████████████████████████████▍      |  ETA: 0:01:00\u001b[39m"
     ]
    },
    {
     "data": {
      "text/plain": [
       "1.7326352f-5"
      ]
     },
     "metadata": {},
     "output_type": "display_data"
    },
    {
     "name": "stderr",
     "output_type": "stream",
     "text": [
      "\u001b[32mloss: 1.73e-05:  84%|██████████████████████████████████▋      |  ETA: 0:00:58\u001b[39m"
     ]
    },
    {
     "data": {
      "text/plain": [
       "1.7281394f-5"
      ]
     },
     "metadata": {},
     "output_type": "display_data"
    },
    {
     "name": "stderr",
     "output_type": "stream",
     "text": [
      "\u001b[32mloss: 1.73e-05:  85%|██████████████████████████████████▊      |  ETA: 0:00:56\u001b[39m"
     ]
    },
    {
     "data": {
      "text/plain": [
       "1.72582f-5"
      ]
     },
     "metadata": {},
     "output_type": "display_data"
    },
    {
     "name": "stderr",
     "output_type": "stream",
     "text": [
      "\u001b[32mloss: 1.72e-05:  85%|██████████████████████████████████▉      |  ETA: 0:00:55\u001b[39m"
     ]
    },
    {
     "data": {
      "text/plain": [
       "1.7207076f-5"
      ]
     },
     "metadata": {},
     "output_type": "display_data"
    },
    {
     "name": "stderr",
     "output_type": "stream",
     "text": [
      "\u001b[32mloss: 1.72e-05:  86%|███████████████████████████████████▏     |  ETA: 0:00:53\u001b[39m"
     ]
    },
    {
     "data": {
      "text/plain": [
       "1.717585f-5"
      ]
     },
     "metadata": {},
     "output_type": "display_data"
    },
    {
     "name": "stderr",
     "output_type": "stream",
     "text": [
      "\u001b[32mloss: 1.71e-05:  86%|███████████████████████████████████▎     |  ETA: 0:00:52\u001b[39m"
     ]
    },
    {
     "data": {
      "text/plain": [
       "1.7138664f-5"
      ]
     },
     "metadata": {},
     "output_type": "display_data"
    },
    {
     "name": "stderr",
     "output_type": "stream",
     "text": [
      "\u001b[32mloss: 1.71e-05:  86%|███████████████████████████████████▍     |  ETA: 0:00:50\u001b[39m"
     ]
    },
    {
     "data": {
      "text/plain": [
       "1.70996f-5"
      ]
     },
     "metadata": {},
     "output_type": "display_data"
    },
    {
     "name": "stderr",
     "output_type": "stream",
     "text": [
      "\u001b[32mloss: 1.71e-05:  87%|███████████████████████████████████▋     |  ETA: 0:00:49\u001b[39m"
     ]
    },
    {
     "data": {
      "text/plain": [
       "1.7063152f-5"
      ]
     },
     "metadata": {},
     "output_type": "display_data"
    },
    {
     "name": "stderr",
     "output_type": "stream",
     "text": [
      "\u001b[32mloss: 1.7e-05:  87%|███████████████████████████████████▊     |  ETA: 0:00:47\u001b[39mm"
     ]
    },
    {
     "data": {
      "text/plain": [
       "1.7032156f-5"
      ]
     },
     "metadata": {},
     "output_type": "display_data"
    },
    {
     "name": "stderr",
     "output_type": "stream",
     "text": [
      "\u001b[32mloss: 1.7e-05:  88%|███████████████████████████████████▉     |  ETA: 0:00:46\u001b[39m"
     ]
    },
    {
     "data": {
      "text/plain": [
       "1.7007607f-5"
      ]
     },
     "metadata": {},
     "output_type": "display_data"
    },
    {
     "name": "stderr",
     "output_type": "stream",
     "text": [
      "\u001b[32mloss: 1.7e-05:  88%|████████████████████████████████████▏    |  ETA: 0:00:44\u001b[39m"
     ]
    },
    {
     "data": {
      "text/plain": [
       "1.6987347f-5"
      ]
     },
     "metadata": {},
     "output_type": "display_data"
    },
    {
     "name": "stderr",
     "output_type": "stream",
     "text": [
      "\u001b[32mloss: 1.7e-05:  88%|████████████████████████████████████▎    |  ETA: 0:00:43\u001b[39m"
     ]
    },
    {
     "data": {
      "text/plain": [
       "1.6951073f-5"
      ]
     },
     "metadata": {},
     "output_type": "display_data"
    },
    {
     "name": "stderr",
     "output_type": "stream",
     "text": [
      "\u001b[32mloss: 1.69e-05:  89%|████████████████████████████████████▍    |  ETA: 0:00:41\u001b[39m"
     ]
    },
    {
     "data": {
      "text/plain": [
       "1.6887352f-5"
      ]
     },
     "metadata": {},
     "output_type": "display_data"
    },
    {
     "name": "stderr",
     "output_type": "stream",
     "text": [
      "\u001b[32mloss: 1.68e-05:  89%|████████████████████████████████████▋    |  ETA: 0:00:40\u001b[39m"
     ]
    },
    {
     "data": {
      "text/plain": [
       "1.683971f-5"
      ]
     },
     "metadata": {},
     "output_type": "display_data"
    },
    {
     "name": "stderr",
     "output_type": "stream",
     "text": [
      "\u001b[32mloss: 1.68e-05:  90%|████████████████████████████████████▊    |  ETA: 0:00:38\u001b[39m"
     ]
    },
    {
     "data": {
      "text/plain": [
       "1.6812495f-5"
      ]
     },
     "metadata": {},
     "output_type": "display_data"
    },
    {
     "name": "stderr",
     "output_type": "stream",
     "text": [
      "\u001b[32mloss: 1.68e-05:  90%|█████████████████████████████████████    |  ETA: 0:00:37\u001b[39m"
     ]
    },
    {
     "data": {
      "text/plain": [
       "1.6772006f-5"
      ]
     },
     "metadata": {},
     "output_type": "display_data"
    },
    {
     "name": "stderr",
     "output_type": "stream",
     "text": [
      "\u001b[32mloss: 1.67e-05:  90%|█████████████████████████████████████▏   |  ETA: 0:00:35\u001b[39m"
     ]
    },
    {
     "data": {
      "text/plain": [
       "1.6732582f-5"
      ]
     },
     "metadata": {},
     "output_type": "display_data"
    },
    {
     "name": "stderr",
     "output_type": "stream",
     "text": [
      "\u001b[32mloss: 1.67e-05:  91%|█████████████████████████████████████▎   |  ETA: 0:00:34\u001b[39m"
     ]
    },
    {
     "data": {
      "text/plain": [
       "1.6693843f-5"
      ]
     },
     "metadata": {},
     "output_type": "display_data"
    },
    {
     "name": "stderr",
     "output_type": "stream",
     "text": [
      "\u001b[32mloss: 1.67e-05:  91%|█████████████████████████████████████▍   |  ETA: 0:00:32\u001b[39m"
     ]
    },
    {
     "data": {
      "text/plain": [
       "1.6658287f-5"
      ]
     },
     "metadata": {},
     "output_type": "display_data"
    },
    {
     "name": "stderr",
     "output_type": "stream",
     "text": [
      "\u001b[32mloss: 1.66e-05:  92%|█████████████████████████████████████▋   |  ETA: 0:00:31\u001b[39m"
     ]
    },
    {
     "data": {
      "text/plain": [
       "1.6624417f-5"
      ]
     },
     "metadata": {},
     "output_type": "display_data"
    },
    {
     "name": "stderr",
     "output_type": "stream",
     "text": [
      "\u001b[32mloss: 1.66e-05:  92%|█████████████████████████████████████▊   |  ETA: 0:00:29\u001b[39m"
     ]
    },
    {
     "data": {
      "text/plain": [
       "1.659143f-5"
      ]
     },
     "metadata": {},
     "output_type": "display_data"
    },
    {
     "name": "stderr",
     "output_type": "stream",
     "text": [
      "\u001b[32mloss: 1.66e-05:  92%|█████████████████████████████████████▉   |  ETA: 0:00:28\u001b[39m"
     ]
    },
    {
     "data": {
      "text/plain": [
       "1.6559658f-5"
      ]
     },
     "metadata": {},
     "output_type": "display_data"
    },
    {
     "name": "stderr",
     "output_type": "stream",
     "text": [
      "\u001b[32mloss: 1.65e-05:  93%|██████████████████████████████████████▏  |  ETA: 0:00:26\u001b[39m"
     ]
    },
    {
     "data": {
      "text/plain": [
       "1.653215f-5"
      ]
     },
     "metadata": {},
     "output_type": "display_data"
    },
    {
     "name": "stderr",
     "output_type": "stream",
     "text": [
      "\u001b[32mloss: 1.65e-05:  93%|██████████████████████████████████████▎  |  ETA: 0:00:25\u001b[39m"
     ]
    },
    {
     "data": {
      "text/plain": [
       "1.6522978f-5"
      ]
     },
     "metadata": {},
     "output_type": "display_data"
    },
    {
     "name": "stderr",
     "output_type": "stream",
     "text": [
      "\u001b[32mloss: 1.66e-05:  94%|██████████████████████████████████████▍  |  ETA: 0:00:23\u001b[39m"
     ]
    },
    {
     "data": {
      "text/plain": [
       "1.6575086f-5"
      ]
     },
     "metadata": {},
     "output_type": "display_data"
    },
    {
     "name": "stderr",
     "output_type": "stream",
     "text": [
      "\u001b[32mloss: 1.66e-05:  94%|██████████████████████████████████████▋  |  ETA: 0:00:22\u001b[39m"
     ]
    },
    {
     "data": {
      "text/plain": [
       "1.6587273f-5"
      ]
     },
     "metadata": {},
     "output_type": "display_data"
    },
    {
     "name": "stderr",
     "output_type": "stream",
     "text": [
      "\u001b[32mloss: 1.64e-05:  94%|██████████████████████████████████████▊  |  ETA: 0:00:20\u001b[39m"
     ]
    },
    {
     "data": {
      "text/plain": [
       "1.639554f-5"
      ]
     },
     "metadata": {},
     "output_type": "display_data"
    },
    {
     "name": "stderr",
     "output_type": "stream",
     "text": [
      "\u001b[32mloss: 1.64e-05:  95%|██████████████████████████████████████▉  |  ETA: 0:00:19\u001b[39m"
     ]
    },
    {
     "data": {
      "text/plain": [
       "1.6427583f-5"
      ]
     },
     "metadata": {},
     "output_type": "display_data"
    },
    {
     "name": "stderr",
     "output_type": "stream",
     "text": [
      "\u001b[32mloss: 1.64e-05:  95%|███████████████████████████████████████▏ |  ETA: 0:00:17\u001b[39m"
     ]
    },
    {
     "data": {
      "text/plain": [
       "1.633364f-5"
      ]
     },
     "metadata": {},
     "output_type": "display_data"
    },
    {
     "name": "stderr",
     "output_type": "stream",
     "text": [
      "\u001b[32mloss: 1.63e-05:  96%|███████████████████████████████████████▎ |  ETA: 0:00:16\u001b[39m"
     ]
    },
    {
     "data": {
      "text/plain": [
       "1.6326761f-5"
      ]
     },
     "metadata": {},
     "output_type": "display_data"
    },
    {
     "name": "stderr",
     "output_type": "stream",
     "text": [
      "\u001b[32mloss: 1.63e-05:  96%|███████████████████████████████████████▍ |  ETA: 0:00:14\u001b[39m"
     ]
    },
    {
     "data": {
      "text/plain": [
       "1.627128f-5"
      ]
     },
     "metadata": {},
     "output_type": "display_data"
    },
    {
     "name": "stderr",
     "output_type": "stream",
     "text": [
      "\u001b[32mloss: 1.63e-05:  96%|███████████████████████████████████████▋ |  ETA: 0:00:13\u001b[39m"
     ]
    },
    {
     "data": {
      "text/plain": [
       "1.6247392f-5"
      ]
     },
     "metadata": {},
     "output_type": "display_data"
    },
    {
     "name": "stderr",
     "output_type": "stream",
     "text": [
      "\u001b[32mloss: 1.62e-05:  97%|███████████████████████████████████████▊ |  ETA: 0:00:11\u001b[39m"
     ]
    },
    {
     "data": {
      "text/plain": [
       "1.621032f-5"
      ]
     },
     "metadata": {},
     "output_type": "display_data"
    },
    {
     "name": "stderr",
     "output_type": "stream",
     "text": [
      "\u001b[32mloss: 1.62e-05:  97%|███████████████████████████████████████▉ |  ETA: 0:00:10\u001b[39m"
     ]
    },
    {
     "data": {
      "text/plain": [
       "1.617783f-5"
      ]
     },
     "metadata": {},
     "output_type": "display_data"
    },
    {
     "name": "stderr",
     "output_type": "stream",
     "text": [
      "\u001b[32mloss: 1.62e-05:  98%|████████████████████████████████████████ |  ETA: 0:00:09\u001b[39m"
     ]
    },
    {
     "data": {
      "text/plain": [
       "1.6149419f-5"
      ]
     },
     "metadata": {},
     "output_type": "display_data"
    },
    {
     "name": "stderr",
     "output_type": "stream",
     "text": [
      "\u001b[32mloss: 1.61e-05:  98%|████████████████████████████████████████▎|  ETA: 0:00:07\u001b[39m"
     ]
    },
    {
     "data": {
      "text/plain": [
       "1.6115233f-5"
      ]
     },
     "metadata": {},
     "output_type": "display_data"
    },
    {
     "name": "stderr",
     "output_type": "stream",
     "text": [
      "\u001b[32mloss: 1.61e-05:  98%|████████████████████████████████████████▍|  ETA: 0:00:06\u001b[39m"
     ]
    },
    {
     "data": {
      "text/plain": [
       "1.608698f-5"
      ]
     },
     "metadata": {},
     "output_type": "display_data"
    },
    {
     "name": "stderr",
     "output_type": "stream",
     "text": [
      "\u001b[32mloss: 1.61e-05:  99%|████████████████████████████████████████▌|  ETA: 0:00:04\u001b[39m"
     ]
    },
    {
     "data": {
      "text/plain": [
       "1.6056685f-5"
      ]
     },
     "metadata": {},
     "output_type": "display_data"
    },
    {
     "name": "stderr",
     "output_type": "stream",
     "text": [
      "\u001b[32mloss: 1.6e-05:  99%|████████████████████████████████████████▊|  ETA: 0:00:03\u001b[39mm"
     ]
    },
    {
     "data": {
      "text/plain": [
       "1.6026108f-5"
      ]
     },
     "metadata": {},
     "output_type": "display_data"
    },
    {
     "name": "stderr",
     "output_type": "stream",
     "text": [
      "\u001b[32mloss: 1.6e-05: 100%|████████████████████████████████████████▉|  ETA: 0:00:01\u001b[39m"
     ]
    },
    {
     "data": {
      "text/plain": [
       "1.5990428f-5"
      ]
     },
     "metadata": {},
     "output_type": "display_data"
    },
    {
     "name": "stderr",
     "output_type": "stream",
     "text": [
      "\u001b[32mloss: 1.6e-05: 100%|█████████████████████████████████████████| Time: 0:06:10\u001b[39m\n"
     ]
    },
    {
     "data": {
      "text/plain": [
       " * Status: failure (reached maximum number of iterations)\n",
       "\n",
       " * Candidate solution\n",
       "    Minimizer: [-3.23e-02, -2.17e-02, 2.17e-02,  ...]\n",
       "    Minimum:   1.598358e-05\n",
       "\n",
       " * Found with\n",
       "    Algorithm:     ADAM\n",
       "    Initial Point: [-3.23e-02, -2.17e-02, 2.17e-02,  ...]\n",
       "\n",
       " * Convergence measures\n",
       "    |x - x'|               = NaN ≰ 0.0e+00\n",
       "    |x - x'|/|x'|          = NaN ≰ 0.0e+00\n",
       "    |f(x) - f(x')|         = NaN ≰ 0.0e+00\n",
       "    |f(x) - f(x')|/|f(x')| = NaN ≰ 0.0e+00\n",
       "    |g(x)|                 = NaN ≰ 0.0e+00\n",
       "\n",
       " * Work counters\n",
       "    Seconds run:   370  (vs limit Inf)\n",
       "    Iterations:    1000\n",
       "    f(x) calls:    1000\n",
       "    ∇f(x) calls:   1000\n"
      ]
     },
     "execution_count": 16,
     "metadata": {},
     "output_type": "execute_result"
    }
   ],
   "source": [
    "#res = DiffEqFlux.sciml_train(loss_node, res.minimizer, ADAM(), dataset, cb=Flux.throttle(cb, 1), maxiters=1000)\n",
    "res = DiffEqFlux.sciml_train(loss_node, res.minimizer, ADAM(), cb=Flux.throttle(cb, 1), maxiters=1000)"
   ]
  },
  {
   "cell_type": "code",
   "execution_count": 17,
   "metadata": {
    "scrolled": true
   },
   "outputs": [
    {
     "data": {
      "text/plain": [
       "1.5976797f-5"
      ]
     },
     "metadata": {},
     "output_type": "display_data"
    },
    {
     "data": {
      "text/plain": [
       "1.597625f-5"
      ]
     },
     "metadata": {},
     "output_type": "display_data"
    },
    {
     "data": {
      "text/plain": [
       "1.5976097f-5"
      ]
     },
     "metadata": {},
     "output_type": "display_data"
    },
    {
     "data": {
      "text/plain": [
       "1.5975675f-5"
      ]
     },
     "metadata": {},
     "output_type": "display_data"
    },
    {
     "data": {
      "text/plain": [
       "1.5975063f-5"
      ]
     },
     "metadata": {},
     "output_type": "display_data"
    },
    {
     "data": {
      "text/plain": [
       "1.5971475f-5"
      ]
     },
     "metadata": {},
     "output_type": "display_data"
    },
    {
     "data": {
      "text/plain": [
       "1.5969801f-5"
      ]
     },
     "metadata": {},
     "output_type": "display_data"
    },
    {
     "data": {
      "text/plain": [
       "1.5969319f-5"
      ]
     },
     "metadata": {},
     "output_type": "display_data"
    },
    {
     "data": {
      "text/plain": [
       "1.5966812f-5"
      ]
     },
     "metadata": {},
     "output_type": "display_data"
    },
    {
     "data": {
      "text/plain": [
       "1.5965112f-5"
      ]
     },
     "metadata": {},
     "output_type": "display_data"
    },
    {
     "data": {
      "text/plain": [
       "1.596489f-5"
      ]
     },
     "metadata": {},
     "output_type": "display_data"
    },
    {
     "data": {
      "text/plain": [
       "1.5954965f-5"
      ]
     },
     "metadata": {},
     "output_type": "display_data"
    },
    {
     "data": {
      "text/plain": [
       "1.5780643f-5"
      ]
     },
     "metadata": {},
     "output_type": "display_data"
    },
    {
     "data": {
      "text/plain": [
       "1.564299f-5"
      ]
     },
     "metadata": {},
     "output_type": "display_data"
    },
    {
     "data": {
      "text/plain": [
       "1.5631324f-5"
      ]
     },
     "metadata": {},
     "output_type": "display_data"
    },
    {
     "data": {
      "text/plain": [
       "1.560212f-5"
      ]
     },
     "metadata": {},
     "output_type": "display_data"
    },
    {
     "data": {
      "text/plain": [
       "1.556181f-5"
      ]
     },
     "metadata": {},
     "output_type": "display_data"
    },
    {
     "data": {
      "text/plain": [
       "1.5079549f-5"
      ]
     },
     "metadata": {},
     "output_type": "display_data"
    },
    {
     "data": {
      "text/plain": [
       "1.4674799f-5"
      ]
     },
     "metadata": {},
     "output_type": "display_data"
    },
    {
     "data": {
      "text/plain": [
       "1.45908325f-5"
      ]
     },
     "metadata": {},
     "output_type": "display_data"
    },
    {
     "data": {
      "text/plain": [
       "1.45825425f-5"
      ]
     },
     "metadata": {},
     "output_type": "display_data"
    },
    {
     "data": {
      "text/plain": [
       "1.4535331f-5"
      ]
     },
     "metadata": {},
     "output_type": "display_data"
    },
    {
     "data": {
      "text/plain": [
       "1.4481644f-5"
      ]
     },
     "metadata": {},
     "output_type": "display_data"
    },
    {
     "data": {
      "text/plain": [
       "1.4467535f-5"
      ]
     },
     "metadata": {},
     "output_type": "display_data"
    },
    {
     "data": {
      "text/plain": [
       "1.44253045f-5"
      ]
     },
     "metadata": {},
     "output_type": "display_data"
    },
    {
     "data": {
      "text/plain": [
       "1.4408495f-5"
      ]
     },
     "metadata": {},
     "output_type": "display_data"
    },
    {
     "data": {
      "text/plain": [
       "1.4407004f-5"
      ]
     },
     "metadata": {},
     "output_type": "display_data"
    },
    {
     "data": {
      "text/plain": [
       "1.4406781f-5"
      ]
     },
     "metadata": {},
     "output_type": "display_data"
    },
    {
     "data": {
      "text/plain": [
       "1.4403002f-5"
      ]
     },
     "metadata": {},
     "output_type": "display_data"
    },
    {
     "data": {
      "text/plain": [
       "1.4391723f-5"
      ]
     },
     "metadata": {},
     "output_type": "display_data"
    },
    {
     "data": {
      "text/plain": [
       "1.4385538f-5"
      ]
     },
     "metadata": {},
     "output_type": "display_data"
    },
    {
     "data": {
      "text/plain": [
       "1.4378569f-5"
      ]
     },
     "metadata": {},
     "output_type": "display_data"
    },
    {
     "data": {
      "text/plain": [
       "1.4336126f-5"
      ]
     },
     "metadata": {},
     "output_type": "display_data"
    },
    {
     "data": {
      "text/plain": [
       "1.4313982f-5"
      ]
     },
     "metadata": {},
     "output_type": "display_data"
    },
    {
     "data": {
      "text/plain": [
       "1.4311681f-5"
      ]
     },
     "metadata": {},
     "output_type": "display_data"
    },
    {
     "data": {
      "text/plain": [
       "1.4285098f-5"
      ]
     },
     "metadata": {},
     "output_type": "display_data"
    },
    {
     "data": {
      "text/plain": [
       "1.4235184f-5"
      ]
     },
     "metadata": {},
     "output_type": "display_data"
    },
    {
     "data": {
      "text/plain": [
       "1.42226245f-5"
      ]
     },
     "metadata": {},
     "output_type": "display_data"
    },
    {
     "data": {
      "text/plain": [
       "1.41923165f-5"
      ]
     },
     "metadata": {},
     "output_type": "display_data"
    },
    {
     "data": {
      "text/plain": [
       "1.4179974f-5"
      ]
     },
     "metadata": {},
     "output_type": "display_data"
    },
    {
     "data": {
      "text/plain": [
       "1.4169006f-5"
      ]
     },
     "metadata": {},
     "output_type": "display_data"
    },
    {
     "data": {
      "text/plain": [
       "1.4165513f-5"
      ]
     },
     "metadata": {},
     "output_type": "display_data"
    },
    {
     "data": {
      "text/plain": [
       "1.4159872f-5"
      ]
     },
     "metadata": {},
     "output_type": "display_data"
    },
    {
     "data": {
      "text/plain": [
       "1.4116974f-5"
      ]
     },
     "metadata": {},
     "output_type": "display_data"
    },
    {
     "data": {
      "text/plain": [
       "1.4091072f-5"
      ]
     },
     "metadata": {},
     "output_type": "display_data"
    },
    {
     "data": {
      "text/plain": [
       "1.40899365f-5"
      ]
     },
     "metadata": {},
     "output_type": "display_data"
    },
    {
     "data": {
      "text/plain": [
       "1.4089683f-5"
      ]
     },
     "metadata": {},
     "output_type": "display_data"
    },
    {
     "data": {
      "text/plain": [
       "1.4087083f-5"
      ]
     },
     "metadata": {},
     "output_type": "display_data"
    },
    {
     "data": {
      "text/plain": [
       "1.408449f-5"
      ]
     },
     "metadata": {},
     "output_type": "display_data"
    },
    {
     "data": {
      "text/plain": [
       "1.4083973f-5"
      ]
     },
     "metadata": {},
     "output_type": "display_data"
    },
    {
     "data": {
      "text/plain": [
       "1.4081928f-5"
      ]
     },
     "metadata": {},
     "output_type": "display_data"
    },
    {
     "data": {
      "text/plain": [
       "1.4081248f-5"
      ]
     },
     "metadata": {},
     "output_type": "display_data"
    },
    {
     "data": {
      "text/plain": [
       "1.4080485f-5"
      ]
     },
     "metadata": {},
     "output_type": "display_data"
    },
    {
     "data": {
      "text/plain": [
       "1.4079485f-5"
      ]
     },
     "metadata": {},
     "output_type": "display_data"
    },
    {
     "data": {
      "text/plain": [
       "1.4077562f-5"
      ]
     },
     "metadata": {},
     "output_type": "display_data"
    },
    {
     "data": {
      "text/plain": [
       "1.4075946f-5"
      ]
     },
     "metadata": {},
     "output_type": "display_data"
    },
    {
     "data": {
      "text/plain": [
       "1.4075626f-5"
      ]
     },
     "metadata": {},
     "output_type": "display_data"
    },
    {
     "data": {
      "text/plain": [
       "1.4074747f-5"
      ]
     },
     "metadata": {},
     "output_type": "display_data"
    },
    {
     "data": {
      "text/plain": [
       "1.4063391f-5"
      ]
     },
     "metadata": {},
     "output_type": "display_data"
    },
    {
     "data": {
      "text/plain": [
       "1.4054422f-5"
      ]
     },
     "metadata": {},
     "output_type": "display_data"
    },
    {
     "data": {
      "text/plain": [
       "1.4053314f-5"
      ]
     },
     "metadata": {},
     "output_type": "display_data"
    },
    {
     "data": {
      "text/plain": [
       "1.4049836f-5"
      ]
     },
     "metadata": {},
     "output_type": "display_data"
    },
    {
     "data": {
      "text/plain": [
       "1.40486645f-5"
      ]
     },
     "metadata": {},
     "output_type": "display_data"
    },
    {
     "data": {
      "text/plain": [
       "1.4047095f-5"
      ]
     },
     "metadata": {},
     "output_type": "display_data"
    },
    {
     "data": {
      "text/plain": [
       "1.4046092f-5"
      ]
     },
     "metadata": {},
     "output_type": "display_data"
    },
    {
     "data": {
      "text/plain": [
       "1.404094f-5"
      ]
     },
     "metadata": {},
     "output_type": "display_data"
    },
    {
     "data": {
      "text/plain": [
       " * Status: failure\n",
       "\n",
       " * Candidate solution\n",
       "    Minimizer: [-3.23e-02, -2.17e-02, 2.17e-02,  ...]\n",
       "    Minimum:   1.404094e-05\n",
       "\n",
       " * Found with\n",
       "    Algorithm:     L-BFGS\n",
       "    Initial Point: [-3.23e-02, -2.17e-02, 2.17e-02,  ...]\n",
       "\n",
       " * Convergence measures\n",
       "    |x - x'|               = 3.22e-04 ≰ 0.0e+00\n",
       "    |x - x'|/|x'|          = 5.89e-04 ≰ 0.0e+00\n",
       "    |f(x) - f(x')|         = 5.15e-09 ≰ 0.0e+00\n",
       "    |f(x) - f(x')|/|f(x')| = 3.67e-04 ≰ 0.0e+00\n",
       "    |g(x)|                 = 3.96e-05 ≰ 1.0e-08\n",
       "\n",
       " * Work counters\n",
       "    Seconds run:   92  (vs limit Inf)\n",
       "    Iterations:    65\n",
       "    f(x) calls:    202\n",
       "    ∇f(x) calls:   202\n"
      ]
     },
     "execution_count": 17,
     "metadata": {},
     "output_type": "execute_result"
    }
   ],
   "source": [
    "res = DiffEqFlux.sciml_train(loss_node, res.minimizer, LBFGS(), cb=cb, maxiters=200)"
   ]
  },
  {
   "cell_type": "code",
   "execution_count": 21,
   "metadata": {},
   "outputs": [
    {
     "data": {
      "text/plain": [
       "step_node! (generic function with 2 methods)"
      ]
     },
     "execution_count": 21,
     "metadata": {},
     "output_type": "execute_result"
    }
   ],
   "source": [
    "function step_train!( fwL, ffL, w, prim, f, fwR, ffR,\n",
    "\t\t\t           γ, μ, ω, u, n_ode, p, dx, tRan, RES, AVG )\n",
    "    #--- record W^{n} ---#\n",
    "    w_old = deepcopy(w)\n",
    "    M = maxwellian(u, prim)\n",
    "\tτ = vhs_collision_time(prim, μ, ω)\n",
    "    \n",
    "    #--- update W^{n+1} ---#\n",
    "\t@. w += (fwL - fwR) / dx\n",
    "\tprim .= conserve_prim(w, γ)\n",
    "\n",
    "\t#--- record residuals ---#\n",
    "\t@. RES += (w - w_old)^2\n",
    "\t@. AVG += abs(w)\n",
    "\n",
    "    data = solve(ODEProblem(bgk!, f[1:end], tSpan, [M, τ]), Tsit5(), saveat=tRan) |> Array;\n",
    "    pred = n_ode(f[1:end], p) |> Array\n",
    "    loss = sum(abs2, pred .- data)\n",
    "\n",
    "    if loss <= 1.e-6\n",
    "        ftemp = n_ode(f[1:end], p).u[end]\n",
    "    \tfor i in eachindex(u)\n",
    "    \t\tf[i] = ftemp[i] + (ffL[i] - ffR[i]) / dx\n",
    "    \tend\n",
    "    else\n",
    "        for i in eachindex(u)\n",
    "    \t\tf[i] += (ffL[i] - ffR[i]) / dx + (M[i] - f[i]) / τ * tRan[end]\n",
    "    \tend\n",
    "        \n",
    "        #push!(datainit, f[1:end])\n",
    "        #push!(dataset, data)\n",
    "    end\n",
    "end\n",
    "\n",
    "function step_bgk!( fwL, ffL, w, prim, f, fwR, ffR,\n",
    "\t\t\t           γ, μ, ω, u, n_ode, p, dx, tRan, RES, AVG )\n",
    "    \n",
    "    #--- record W^{n} ---#\n",
    "    w_old = deepcopy(w)\n",
    "    prim_old = deepcopy(prim)\n",
    "    \n",
    "    #--- update W^{n+1} ---#\n",
    "\t@. w = w_old + (fwL - fwR) / dx\n",
    "\tprim .= conserve_prim(w, γ)\n",
    "\n",
    "\t#--- record residuals ---#\n",
    "\t@. RES += (w - w_old)^2\n",
    "\t@. AVG += abs(w)\n",
    "    \n",
    "    M = maxwellian(u, prim_old)\n",
    "\tτ = vhs_collision_time(prim_old, μ, ω)\n",
    "    \n",
    "    #ftemp = f .+ (M .- f) / τ * tRan[end]\n",
    "    prob = ODEProblem(bgk!, f[1:end], (0, tRan[end]), (M, τ))\n",
    "    ftemp = (solve(prob, Tsit5(), saveat=tRan) |> Array)[:,end]\n",
    "    \n",
    "    for i in eachindex(u)\n",
    "        f[i] = ftemp[i] + (ffL[i] - ffR[i]) / dx\n",
    "    end\n",
    "    \n",
    "end\n",
    "\n",
    "function step_node!( fwL, ffL, w, prim, f, fwR, ffR,\n",
    "\t\t\t           γ, μ, ω, u, n_ode, p, dx, tRan, RES, AVG )\n",
    "    \n",
    "    #--- record W^{n} ---#\n",
    "    w_old = deepcopy(w)\n",
    "    M = maxwellian(u, prim)\n",
    "\tτ = vhs_collision_time(prim, μ, ω)\n",
    "    \n",
    "    #--- update W^{n+1} ---#\n",
    "\t@. w += (fwL - fwR) / dx\n",
    "\tprim .= conserve_prim(w, γ)\n",
    "\n",
    "\t#--- record residuals ---#\n",
    "\t@. RES += (w - w_old)^2\n",
    "\t@. AVG += abs(w)\n",
    "\n",
    "    ftemp = n_ode(f[1:end], p).u[end]\n",
    "    for i in eachindex(u)\n",
    "        f[i] = ftemp[i] + (ffL[i] - ffR[i]) / dx\n",
    "    end\n",
    "\n",
    "end"
   ]
  },
  {
   "cell_type": "code",
   "execution_count": 76,
   "metadata": {},
   "outputs": [],
   "source": [
    "sumRes = zeros(Float32, axes(ib.wL))\n",
    "sumAvg = zeros(Float32, axes(ib.wL))\n",
    "for iter = 1:10\n",
    "\n",
    "    Kinetic.evolve!(ks, ctr, face, dt)\n",
    "#=\n",
    "    for i in 2:10\n",
    "        #step_train!( face[i].fw, face[i].ff, ctr[i].w, ctr[i].prim, ctr[i].f,\n",
    "        #             face[i+1].fw, face[i+1].ff, ks.gas.γ, ks.gas.μᵣ, ks.gas.ω, vSpace.u, n_ode, res.minimizer,\n",
    "        #             ctr[i].dx, tRan, sumRes, sumAvg, data_init, data_boltz )\n",
    "                     face[i+1].fw, face[i+1].ff, ks.gas.γ, ks.gas.μᵣ, ks.gas.ω, vSpace.u, n_ode, res.minimizer,\n",
    "                     ctr[i].dx, tRan, sumRes, sumAvg, data_init, data_boltz )\n",
    "    end\n",
    "=#\n",
    "    for i in 2:40\n",
    "        #step_train!( face[i].fw, face[i].ff, ctr[i].w, ctr[i].prim, ctr[i].f,\n",
    "        #             face[i+1].fw, face[i+1].ff, ks.gas.γ, ks.gas.μᵣ, ks.gas.ω, vSpace.u, n_ode, res.minimizer,\n",
    "        #             ctr[i].dx, tRan, sumRes, sumAvg, data_init, data_boltz )\n",
    "        step_bgk!( face[i].fw, face[i].ff, ctr[i].w, ctr[i].prim, ctr[i].f,\n",
    "                     face[i+1].fw, face[i+1].ff, ks.gas.γ, ks.gas.μᵣ, ks.gas.ω, vSpace.u, node, res.minimizer,\n",
    "                     ctr[i].dx, tRan, sumRes, sumAvg )\n",
    "    end\n",
    "\n",
    "    for i in 41:49\n",
    "        #step_train!( face[i].fw, face[i].ff, ctr[i].w, ctr[i].prim, ctr[i].f,\n",
    "        #             face[i+1].fw, face[i+1].ff, ks.gas.γ, ks.gas.μᵣ, ks.gas.ω, vSpace.u, n_ode, res.minimizer,\n",
    "        #             ctr[i].dx, tRan, sumRes, sumAvg, data_init, data_boltz )\n",
    "        step_node!( face[i].fw, face[i].ff, ctr[i].w, ctr[i].prim, ctr[i].f,\n",
    "                     face[i+1].fw, face[i+1].ff, ks.gas.γ, ks.gas.μᵣ, ks.gas.ω, vSpace.u, node, res.minimizer,\n",
    "                     ctr[i].dx, tRan, sumRes, sumAvg )\n",
    "    end\n",
    "\n",
    "end\n",
    "\n",
    "#=\n",
    "for iter = 1:10\n",
    "\n",
    "    Kinetic.evolve!(ks, ctr, face, dt)\n",
    "#=\n",
    "    for i in 2:10\n",
    "        #step_train!( face[i].fw, face[i].ff, ctr[i].w, ctr[i].prim, ctr[i].f,\n",
    "        #             face[i+1].fw, face[i+1].ff, ks.gas.γ, ks.gas.μᵣ, ks.gas.ω, vSpace.u, n_ode, res.minimizer,\n",
    "        #             ctr[i].dx, tRan, sumRes, sumAvg, data_init, data_boltz )\n",
    "        step_node!( face[i].fw, face[i].ff, ctr[i].w, ctr[i].prim, ctr[i].f,\n",
    "                     face[i+1].fw, face[i+1].ff, ks.gas.γ, ks.gas.μᵣ, ks.gas.ω, vSpace.u, n_ode, res.minimizer,\n",
    "                     ctr[i].dx, tRan, sumRes, sumAvg, data_init, data_boltz )\n",
    "    end\n",
    "\n",
    "    for i in 2:35\n",
    "        #step_train!( face[i].fw, face[i].ff, ctr[i].w, ctr[i].prim, ctr[i].f,\n",
    "        #             face[i+1].fw, face[i+1].ff, ks.gas.γ, ks.gas.μᵣ, ks.gas.ω, vSpace.u, n_ode, res.minimizer,\n",
    "        #             ctr[i].dx, tRan, sumRes, sumAvg, data_init, data_boltz )\n",
    "        step_node!( face[i].fw, face[i].ff, ctr[i].w, ctr[i].prim, ctr[i].f,\n",
    "                     face[i+1].fw, face[i+1].ff, ks.gas.γ, ks.gas.μᵣ, ks.gas.ω, vSpace.u, node, res.minimizer,\n",
    "                     ctr[i].dx, tRan, sumRes, sumAvg, data_init, data_boltz )\n",
    "    end\n",
    "    =#\n",
    "    for i in 2:49\n",
    "        #step_train!( face[i].fw, face[i].ff, ctr[i].w, ctr[i].prim, ctr[i].f,\n",
    "        #             face[i+1].fw, face[i+1].ff, ks.gas.γ, ks.gas.μᵣ, ks.gas.ω, vSpace.u, n_ode, res.minimizer,\n",
    "        #             ctr[i].dx, tRan, sumRes, sumAvg, data_init, data_boltz )\n",
    "        step_bgk!( face[i].fw, face[i].ff, ctr[i].w, ctr[i].prim, ctr[i].f,\n",
    "                     face[i+1].fw, face[i+1].ff, ks.gas.γ, ks.gas.μᵣ, ks.gas.ω, vSpace.u, node, res.minimizer,\n",
    "                     ctr[i].dx, tRan, sumRes, sumAvg )\n",
    "    end\n",
    "\n",
    "end\n",
    "=#"
   ]
  },
  {
   "cell_type": "code",
   "execution_count": 77,
   "metadata": {
    "scrolled": false
   },
   "outputs": [
    {
     "data": {
      "image/svg+xml": [
       "<?xml version=\"1.0\" encoding=\"utf-8\"?>\n",
       "<svg xmlns=\"http://www.w3.org/2000/svg\" xmlns:xlink=\"http://www.w3.org/1999/xlink\" width=\"600\" height=\"400\" viewBox=\"0 0 2400 1600\">\n",
       "<defs>\n",
       "  <clipPath id=\"clip3600\">\n",
       "    <rect x=\"0\" y=\"0\" width=\"2400\" height=\"1600\"/>\n",
       "  </clipPath>\n",
       "</defs>\n",
       "<path clip-path=\"url(#clip3600)\" d=\"\n",
       "M0 1600 L2400 1600 L2400 0 L0 0  Z\n",
       "  \" fill=\"#ffffff\" fill-rule=\"evenodd\" fill-opacity=\"1\"/>\n",
       "<defs>\n",
       "  <clipPath id=\"clip3601\">\n",
       "    <rect x=\"480\" y=\"0\" width=\"1681\" height=\"1600\"/>\n",
       "  </clipPath>\n",
       "</defs>\n",
       "<path clip-path=\"url(#clip3600)\" d=\"\n",
       "M153.898 1425.62 L2352.76 1425.62 L2352.76 47.2441 L153.898 47.2441  Z\n",
       "  \" fill=\"#ffffff\" fill-rule=\"evenodd\" fill-opacity=\"1\"/>\n",
       "<defs>\n",
       "  <clipPath id=\"clip3602\">\n",
       "    <rect x=\"153\" y=\"47\" width=\"2200\" height=\"1379\"/>\n",
       "  </clipPath>\n",
       "</defs>\n",
       "<polyline clip-path=\"url(#clip3602)\" style=\"stroke:#000000; stroke-width:2; stroke-opacity:0.1; fill:none\" points=\"\n",
       "  406.635,1425.62 406.635,47.2441 \n",
       "  \"/>\n",
       "<polyline clip-path=\"url(#clip3602)\" style=\"stroke:#000000; stroke-width:2; stroke-opacity:0.1; fill:none\" points=\"\n",
       "  829.981,1425.62 829.981,47.2441 \n",
       "  \"/>\n",
       "<polyline clip-path=\"url(#clip3602)\" style=\"stroke:#000000; stroke-width:2; stroke-opacity:0.1; fill:none\" points=\"\n",
       "  1253.33,1425.62 1253.33,47.2441 \n",
       "  \"/>\n",
       "<polyline clip-path=\"url(#clip3602)\" style=\"stroke:#000000; stroke-width:2; stroke-opacity:0.1; fill:none\" points=\"\n",
       "  1676.67,1425.62 1676.67,47.2441 \n",
       "  \"/>\n",
       "<polyline clip-path=\"url(#clip3602)\" style=\"stroke:#000000; stroke-width:2; stroke-opacity:0.1; fill:none\" points=\"\n",
       "  2100.02,1425.62 2100.02,47.2441 \n",
       "  \"/>\n",
       "<polyline clip-path=\"url(#clip3602)\" style=\"stroke:#000000; stroke-width:2; stroke-opacity:0.1; fill:none\" points=\"\n",
       "  153.898,1386.61 2352.76,1386.61 \n",
       "  \"/>\n",
       "<polyline clip-path=\"url(#clip3602)\" style=\"stroke:#000000; stroke-width:2; stroke-opacity:0.1; fill:none\" points=\"\n",
       "  153.898,1121.42 2352.76,1121.42 \n",
       "  \"/>\n",
       "<polyline clip-path=\"url(#clip3602)\" style=\"stroke:#000000; stroke-width:2; stroke-opacity:0.1; fill:none\" points=\"\n",
       "  153.898,856.239 2352.76,856.239 \n",
       "  \"/>\n",
       "<polyline clip-path=\"url(#clip3602)\" style=\"stroke:#000000; stroke-width:2; stroke-opacity:0.1; fill:none\" points=\"\n",
       "  153.898,591.055 2352.76,591.055 \n",
       "  \"/>\n",
       "<polyline clip-path=\"url(#clip3602)\" style=\"stroke:#000000; stroke-width:2; stroke-opacity:0.1; fill:none\" points=\"\n",
       "  153.898,325.871 2352.76,325.871 \n",
       "  \"/>\n",
       "<polyline clip-path=\"url(#clip3602)\" style=\"stroke:#000000; stroke-width:2; stroke-opacity:0.1; fill:none\" points=\"\n",
       "  153.898,60.6867 2352.76,60.6867 \n",
       "  \"/>\n",
       "<polyline clip-path=\"url(#clip3600)\" style=\"stroke:#000000; stroke-width:4; stroke-opacity:1; fill:none\" points=\"\n",
       "  153.898,1425.62 2352.76,1425.62 \n",
       "  \"/>\n",
       "<polyline clip-path=\"url(#clip3600)\" style=\"stroke:#000000; stroke-width:4; stroke-opacity:1; fill:none\" points=\"\n",
       "  153.898,1425.62 153.898,47.2441 \n",
       "  \"/>\n",
       "<polyline clip-path=\"url(#clip3600)\" style=\"stroke:#000000; stroke-width:4; stroke-opacity:1; fill:none\" points=\"\n",
       "  406.635,1425.62 406.635,1409.08 \n",
       "  \"/>\n",
       "<polyline clip-path=\"url(#clip3600)\" style=\"stroke:#000000; stroke-width:4; stroke-opacity:1; fill:none\" points=\"\n",
       "  829.981,1425.62 829.981,1409.08 \n",
       "  \"/>\n",
       "<polyline clip-path=\"url(#clip3600)\" style=\"stroke:#000000; stroke-width:4; stroke-opacity:1; fill:none\" points=\"\n",
       "  1253.33,1425.62 1253.33,1409.08 \n",
       "  \"/>\n",
       "<polyline clip-path=\"url(#clip3600)\" style=\"stroke:#000000; stroke-width:4; stroke-opacity:1; fill:none\" points=\"\n",
       "  1676.67,1425.62 1676.67,1409.08 \n",
       "  \"/>\n",
       "<polyline clip-path=\"url(#clip3600)\" style=\"stroke:#000000; stroke-width:4; stroke-opacity:1; fill:none\" points=\"\n",
       "  2100.02,1425.62 2100.02,1409.08 \n",
       "  \"/>\n",
       "<polyline clip-path=\"url(#clip3600)\" style=\"stroke:#000000; stroke-width:4; stroke-opacity:1; fill:none\" points=\"\n",
       "  153.898,1386.61 180.284,1386.61 \n",
       "  \"/>\n",
       "<polyline clip-path=\"url(#clip3600)\" style=\"stroke:#000000; stroke-width:4; stroke-opacity:1; fill:none\" points=\"\n",
       "  153.898,1121.42 180.284,1121.42 \n",
       "  \"/>\n",
       "<polyline clip-path=\"url(#clip3600)\" style=\"stroke:#000000; stroke-width:4; stroke-opacity:1; fill:none\" points=\"\n",
       "  153.898,856.239 180.284,856.239 \n",
       "  \"/>\n",
       "<polyline clip-path=\"url(#clip3600)\" style=\"stroke:#000000; stroke-width:4; stroke-opacity:1; fill:none\" points=\"\n",
       "  153.898,591.055 180.284,591.055 \n",
       "  \"/>\n",
       "<polyline clip-path=\"url(#clip3600)\" style=\"stroke:#000000; stroke-width:4; stroke-opacity:1; fill:none\" points=\"\n",
       "  153.898,325.871 180.284,325.871 \n",
       "  \"/>\n",
       "<polyline clip-path=\"url(#clip3600)\" style=\"stroke:#000000; stroke-width:4; stroke-opacity:1; fill:none\" points=\"\n",
       "  153.898,60.6867 180.284,60.6867 \n",
       "  \"/>\n",
       "<g clip-path=\"url(#clip3600)\">\n",
       "<text style=\"fill:#000000; fill-opacity:1; font-family:Arial,Helvetica Neue,Helvetica,sans-serif; font-size:48px; text-anchor:middle;\" transform=\"rotate(0, 406.635, 1479.62)\" x=\"406.635\" y=\"1479.62\">-20</text>\n",
       "</g>\n",
       "<g clip-path=\"url(#clip3600)\">\n",
       "<text style=\"fill:#000000; fill-opacity:1; font-family:Arial,Helvetica Neue,Helvetica,sans-serif; font-size:48px; text-anchor:middle;\" transform=\"rotate(0, 829.981, 1479.62)\" x=\"829.981\" y=\"1479.62\">-10</text>\n",
       "</g>\n",
       "<g clip-path=\"url(#clip3600)\">\n",
       "<text style=\"fill:#000000; fill-opacity:1; font-family:Arial,Helvetica Neue,Helvetica,sans-serif; font-size:48px; text-anchor:middle;\" transform=\"rotate(0, 1253.33, 1479.62)\" x=\"1253.33\" y=\"1479.62\">0</text>\n",
       "</g>\n",
       "<g clip-path=\"url(#clip3600)\">\n",
       "<text style=\"fill:#000000; fill-opacity:1; font-family:Arial,Helvetica Neue,Helvetica,sans-serif; font-size:48px; text-anchor:middle;\" transform=\"rotate(0, 1676.67, 1479.62)\" x=\"1676.67\" y=\"1479.62\">10</text>\n",
       "</g>\n",
       "<g clip-path=\"url(#clip3600)\">\n",
       "<text style=\"fill:#000000; fill-opacity:1; font-family:Arial,Helvetica Neue,Helvetica,sans-serif; font-size:48px; text-anchor:middle;\" transform=\"rotate(0, 2100.02, 1479.62)\" x=\"2100.02\" y=\"1479.62\">20</text>\n",
       "</g>\n",
       "<g clip-path=\"url(#clip3600)\">\n",
       "<text style=\"fill:#000000; fill-opacity:1; font-family:Arial,Helvetica Neue,Helvetica,sans-serif; font-size:48px; text-anchor:end;\" transform=\"rotate(0, 129.898, 1404.11)\" x=\"129.898\" y=\"1404.11\">1.0</text>\n",
       "</g>\n",
       "<g clip-path=\"url(#clip3600)\">\n",
       "<text style=\"fill:#000000; fill-opacity:1; font-family:Arial,Helvetica Neue,Helvetica,sans-serif; font-size:48px; text-anchor:end;\" transform=\"rotate(0, 129.898, 1138.92)\" x=\"129.898\" y=\"1138.92\">1.5</text>\n",
       "</g>\n",
       "<g clip-path=\"url(#clip3600)\">\n",
       "<text style=\"fill:#000000; fill-opacity:1; font-family:Arial,Helvetica Neue,Helvetica,sans-serif; font-size:48px; text-anchor:end;\" transform=\"rotate(0, 129.898, 873.739)\" x=\"129.898\" y=\"873.739\">2.0</text>\n",
       "</g>\n",
       "<g clip-path=\"url(#clip3600)\">\n",
       "<text style=\"fill:#000000; fill-opacity:1; font-family:Arial,Helvetica Neue,Helvetica,sans-serif; font-size:48px; text-anchor:end;\" transform=\"rotate(0, 129.898, 608.555)\" x=\"129.898\" y=\"608.555\">2.5</text>\n",
       "</g>\n",
       "<g clip-path=\"url(#clip3600)\">\n",
       "<text style=\"fill:#000000; fill-opacity:1; font-family:Arial,Helvetica Neue,Helvetica,sans-serif; font-size:48px; text-anchor:end;\" transform=\"rotate(0, 129.898, 343.371)\" x=\"129.898\" y=\"343.371\">3.0</text>\n",
       "</g>\n",
       "<g clip-path=\"url(#clip3600)\">\n",
       "<text style=\"fill:#000000; fill-opacity:1; font-family:Arial,Helvetica Neue,Helvetica,sans-serif; font-size:48px; text-anchor:end;\" transform=\"rotate(0, 129.898, 78.1867)\" x=\"129.898\" y=\"78.1867\">3.5</text>\n",
       "</g>\n",
       "<g clip-path=\"url(#clip3600)\">\n",
       "<text style=\"fill:#000000; fill-opacity:1; font-family:Arial,Helvetica Neue,Helvetica,sans-serif; font-size:66px; text-anchor:middle;\" transform=\"rotate(0, 1253.33, 1559.48)\" x=\"1253.33\" y=\"1559.48\">X</text>\n",
       "</g>\n",
       "<polyline clip-path=\"url(#clip3602)\" style=\"stroke:#009af9; stroke-width:8; stroke-opacity:1; fill:none\" points=\"\n",
       "  216.13,1386.61 258.464,1386.6 300.799,1386.6 343.134,1386.59 385.468,1386.58 427.803,1386.57 470.137,1386.56 512.472,1386.54 554.806,1386.51 597.141,1386.47 \n",
       "  639.476,1386.42 681.81,1386.34 724.145,1386.23 766.479,1386.06 808.814,1385.82 851.148,1385.46 893.483,1384.89 935.818,1383.98 978.152,1382.46 1020.49,1379.74 \n",
       "  1062.82,1374.45 1105.16,1363.02 1147.49,1337.25 1189.83,1289.14 1232.16,1228.82 1274.49,1175.68 1316.83,1137.36 1359.16,1112.12 1401.5,1096.08 1443.83,1086 \n",
       "  1486.17,1079.67 1528.5,1075.67 1570.84,1073.14 1613.17,1071.53 1655.51,1070.52 1697.84,1069.89 1740.17,1069.51 1782.51,1069.26 1824.84,1069.03 1867.18,1068.61 \n",
       "  1909.51,1068.57 1951.85,1068.72 1994.18,1068.75 2036.52,1068.75 2078.85,1068.73 2121.19,1068.7 2163.52,1068.67 2205.85,1068.62 2248.19,1068.53 2290.52,1068.39 \n",
       "  \n",
       "  \"/>\n",
       "<polyline clip-path=\"url(#clip3602)\" style=\"stroke:#e26f46; stroke-width:8; stroke-opacity:1; fill:none\" points=\"\n",
       "  216.13,617.844 258.464,617.857 300.799,617.869 343.134,617.884 385.468,617.904 427.803,617.93 470.137,617.965 512.472,618.013 554.806,618.079 597.141,618.172 \n",
       "  639.476,618.302 681.81,618.486 724.145,618.75 766.479,619.135 808.814,619.703 851.148,620.56 893.483,621.883 935.818,623.991 978.152,627.498 1020.49,633.673 \n",
       "  1062.82,645.445 1105.16,669.983 1147.49,722.053 1189.83,809.901 1232.16,906.149 1274.49,980.258 1316.83,1028.35 1359.16,1057.83 1401.5,1075.71 1443.83,1086.61 \n",
       "  1486.17,1093.32 1528.5,1097.48 1570.84,1100.07 1613.17,1101.68 1655.51,1102.64 1697.84,1103.18 1740.17,1103.43 1782.51,1103.53 1824.84,1103.61 1867.18,1103.95 \n",
       "  1909.51,1105.79 1951.85,1105.81 1994.18,1105.85 2036.52,1105.86 2078.85,1105.85 2121.19,1105.82 2163.52,1105.79 2205.85,1105.79 2248.19,1105.86 2290.52,1105.02 \n",
       "  \n",
       "  \"/>\n",
       "<polyline clip-path=\"url(#clip3602)\" style=\"stroke:#3da44d; stroke-width:8; stroke-opacity:1; fill:none\" points=\"\n",
       "  216.13,1386.61 258.464,1386.53 300.799,1386.48 343.134,1386.42 385.468,1386.34 427.803,1386.23 470.137,1386.08 512.472,1385.88 554.806,1385.6 597.141,1385.21 \n",
       "  639.476,1384.66 681.81,1383.89 724.145,1382.79 766.479,1381.19 808.814,1378.83 851.148,1375.29 893.483,1369.86 935.818,1361.26 978.152,1347.13 1020.49,1322.63 \n",
       "  1062.82,1277.08 1105.16,1186 1147.49,1005.71 1189.83,733.303 1232.16,476.698 1274.49,309.432 1316.83,215.827 1359.16,164.678 1401.5,136.158 1443.83,119.822 \n",
       "  1486.17,110.283 1528.5,104.697 1570.84,101.525 1613.17,99.9225 1655.51,99.4305 1697.84,99.7978 1740.17,100.861 1782.51,102.427 1824.84,104.15 1867.18,105.406 \n",
       "  1909.51,98.3616 1951.85,97.1761 1994.18,95.8841 2036.52,94.4801 2078.85,92.9598 2121.19,91.3523 2163.52,89.7035 2205.85,88.0244 2248.19,86.2547 2290.52,93.8347 \n",
       "  \n",
       "  \"/>\n",
       "<path clip-path=\"url(#clip3600)\" d=\"\n",
       "M1765.24 372.684 L2280.76 372.684 L2280.76 130.764 L1765.24 130.764  Z\n",
       "  \" fill=\"#ffffff\" fill-rule=\"evenodd\" fill-opacity=\"1\"/>\n",
       "<polyline clip-path=\"url(#clip3600)\" style=\"stroke:#000000; stroke-width:4; stroke-opacity:1; fill:none\" points=\"\n",
       "  1765.24,372.684 2280.76,372.684 2280.76,130.764 1765.24,130.764 1765.24,372.684 \n",
       "  \"/>\n",
       "<polyline clip-path=\"url(#clip3600)\" style=\"stroke:#009af9; stroke-width:8; stroke-opacity:1; fill:none\" points=\"\n",
       "  1789.24,191.244 1933.24,191.244 \n",
       "  \"/>\n",
       "<g clip-path=\"url(#clip3600)\">\n",
       "<text style=\"fill:#000000; fill-opacity:1; font-family:Arial,Helvetica Neue,Helvetica,sans-serif; font-size:48px; text-anchor:start;\" transform=\"rotate(0, 1957.24, 208.744)\" x=\"1957.24\" y=\"208.744\">Density</text>\n",
       "</g>\n",
       "<polyline clip-path=\"url(#clip3600)\" style=\"stroke:#e26f46; stroke-width:8; stroke-opacity:1; fill:none\" points=\"\n",
       "  1789.24,251.724 1933.24,251.724 \n",
       "  \"/>\n",
       "<g clip-path=\"url(#clip3600)\">\n",
       "<text style=\"fill:#000000; fill-opacity:1; font-family:Arial,Helvetica Neue,Helvetica,sans-serif; font-size:48px; text-anchor:start;\" transform=\"rotate(0, 1957.24, 269.224)\" x=\"1957.24\" y=\"269.224\">Velocity</text>\n",
       "</g>\n",
       "<polyline clip-path=\"url(#clip3600)\" style=\"stroke:#3da44d; stroke-width:8; stroke-opacity:1; fill:none\" points=\"\n",
       "  1789.24,312.204 1933.24,312.204 \n",
       "  \"/>\n",
       "<g clip-path=\"url(#clip3600)\">\n",
       "<text style=\"fill:#000000; fill-opacity:1; font-family:Arial,Helvetica Neue,Helvetica,sans-serif; font-size:48px; text-anchor:start;\" transform=\"rotate(0, 1957.24, 329.704)\" x=\"1957.24\" y=\"329.704\">Temperature</text>\n",
       "</g>\n",
       "</svg>\n"
      ]
     },
     "metadata": {},
     "output_type": "display_data"
    }
   ],
   "source": [
    "plot_line(ks, ctr)"
   ]
  },
  {
   "cell_type": "code",
   "execution_count": 39,
   "metadata": {
    "scrolled": false
   },
   "outputs": [
    {
     "data": {
      "image/svg+xml": [
       "<?xml version=\"1.0\" encoding=\"utf-8\"?>\n",
       "<svg xmlns=\"http://www.w3.org/2000/svg\" xmlns:xlink=\"http://www.w3.org/1999/xlink\" width=\"600\" height=\"400\" viewBox=\"0 0 2400 1600\">\n",
       "<defs>\n",
       "  <clipPath id=\"clip7800\">\n",
       "    <rect x=\"0\" y=\"0\" width=\"2400\" height=\"1600\"/>\n",
       "  </clipPath>\n",
       "</defs>\n",
       "<path clip-path=\"url(#clip7800)\" d=\"\n",
       "M0 1600 L2400 1600 L2400 0 L0 0  Z\n",
       "  \" fill=\"#ffffff\" fill-rule=\"evenodd\" fill-opacity=\"1\"/>\n",
       "<defs>\n",
       "  <clipPath id=\"clip7801\">\n",
       "    <rect x=\"480\" y=\"0\" width=\"1681\" height=\"1600\"/>\n",
       "  </clipPath>\n",
       "</defs>\n",
       "<path clip-path=\"url(#clip7800)\" d=\"\n",
       "M153.898 1487.47 L2352.76 1487.47 L2352.76 47.2441 L153.898 47.2441  Z\n",
       "  \" fill=\"#ffffff\" fill-rule=\"evenodd\" fill-opacity=\"1\"/>\n",
       "<defs>\n",
       "  <clipPath id=\"clip7802\">\n",
       "    <rect x=\"153\" y=\"47\" width=\"2200\" height=\"1441\"/>\n",
       "  </clipPath>\n",
       "</defs>\n",
       "<polyline clip-path=\"url(#clip7802)\" style=\"stroke:#000000; stroke-width:2; stroke-opacity:0.1; fill:none\" points=\"\n",
       "  186.496,1487.47 186.496,47.2441 \n",
       "  \"/>\n",
       "<polyline clip-path=\"url(#clip7802)\" style=\"stroke:#000000; stroke-width:2; stroke-opacity:0.1; fill:none\" points=\"\n",
       "  719.911,1487.47 719.911,47.2441 \n",
       "  \"/>\n",
       "<polyline clip-path=\"url(#clip7802)\" style=\"stroke:#000000; stroke-width:2; stroke-opacity:0.1; fill:none\" points=\"\n",
       "  1253.33,1487.47 1253.33,47.2441 \n",
       "  \"/>\n",
       "<polyline clip-path=\"url(#clip7802)\" style=\"stroke:#000000; stroke-width:2; stroke-opacity:0.1; fill:none\" points=\"\n",
       "  1786.74,1487.47 1786.74,47.2441 \n",
       "  \"/>\n",
       "<polyline clip-path=\"url(#clip7802)\" style=\"stroke:#000000; stroke-width:2; stroke-opacity:0.1; fill:none\" points=\"\n",
       "  2320.16,1487.47 2320.16,47.2441 \n",
       "  \"/>\n",
       "<polyline clip-path=\"url(#clip7802)\" style=\"stroke:#000000; stroke-width:2; stroke-opacity:0.1; fill:none\" points=\"\n",
       "  153.898,1446.62 2352.76,1446.62 \n",
       "  \"/>\n",
       "<polyline clip-path=\"url(#clip7802)\" style=\"stroke:#000000; stroke-width:2; stroke-opacity:0.1; fill:none\" points=\"\n",
       "  153.898,1141 2352.76,1141 \n",
       "  \"/>\n",
       "<polyline clip-path=\"url(#clip7802)\" style=\"stroke:#000000; stroke-width:2; stroke-opacity:0.1; fill:none\" points=\"\n",
       "  153.898,835.387 2352.76,835.387 \n",
       "  \"/>\n",
       "<polyline clip-path=\"url(#clip7802)\" style=\"stroke:#000000; stroke-width:2; stroke-opacity:0.1; fill:none\" points=\"\n",
       "  153.898,529.773 2352.76,529.773 \n",
       "  \"/>\n",
       "<polyline clip-path=\"url(#clip7802)\" style=\"stroke:#000000; stroke-width:2; stroke-opacity:0.1; fill:none\" points=\"\n",
       "  153.898,224.159 2352.76,224.159 \n",
       "  \"/>\n",
       "<polyline clip-path=\"url(#clip7800)\" style=\"stroke:#000000; stroke-width:4; stroke-opacity:1; fill:none\" points=\"\n",
       "  153.898,1487.47 2352.76,1487.47 \n",
       "  \"/>\n",
       "<polyline clip-path=\"url(#clip7800)\" style=\"stroke:#000000; stroke-width:4; stroke-opacity:1; fill:none\" points=\"\n",
       "  153.898,1487.47 153.898,47.2441 \n",
       "  \"/>\n",
       "<polyline clip-path=\"url(#clip7800)\" style=\"stroke:#000000; stroke-width:4; stroke-opacity:1; fill:none\" points=\"\n",
       "  186.496,1487.47 186.496,1470.19 \n",
       "  \"/>\n",
       "<polyline clip-path=\"url(#clip7800)\" style=\"stroke:#000000; stroke-width:4; stroke-opacity:1; fill:none\" points=\"\n",
       "  719.911,1487.47 719.911,1470.19 \n",
       "  \"/>\n",
       "<polyline clip-path=\"url(#clip7800)\" style=\"stroke:#000000; stroke-width:4; stroke-opacity:1; fill:none\" points=\"\n",
       "  1253.33,1487.47 1253.33,1470.19 \n",
       "  \"/>\n",
       "<polyline clip-path=\"url(#clip7800)\" style=\"stroke:#000000; stroke-width:4; stroke-opacity:1; fill:none\" points=\"\n",
       "  1786.74,1487.47 1786.74,1470.19 \n",
       "  \"/>\n",
       "<polyline clip-path=\"url(#clip7800)\" style=\"stroke:#000000; stroke-width:4; stroke-opacity:1; fill:none\" points=\"\n",
       "  2320.16,1487.47 2320.16,1470.19 \n",
       "  \"/>\n",
       "<polyline clip-path=\"url(#clip7800)\" style=\"stroke:#000000; stroke-width:4; stroke-opacity:1; fill:none\" points=\"\n",
       "  153.898,1446.62 180.284,1446.62 \n",
       "  \"/>\n",
       "<polyline clip-path=\"url(#clip7800)\" style=\"stroke:#000000; stroke-width:4; stroke-opacity:1; fill:none\" points=\"\n",
       "  153.898,1141 180.284,1141 \n",
       "  \"/>\n",
       "<polyline clip-path=\"url(#clip7800)\" style=\"stroke:#000000; stroke-width:4; stroke-opacity:1; fill:none\" points=\"\n",
       "  153.898,835.387 180.284,835.387 \n",
       "  \"/>\n",
       "<polyline clip-path=\"url(#clip7800)\" style=\"stroke:#000000; stroke-width:4; stroke-opacity:1; fill:none\" points=\"\n",
       "  153.898,529.773 180.284,529.773 \n",
       "  \"/>\n",
       "<polyline clip-path=\"url(#clip7800)\" style=\"stroke:#000000; stroke-width:4; stroke-opacity:1; fill:none\" points=\"\n",
       "  153.898,224.159 180.284,224.159 \n",
       "  \"/>\n",
       "<g clip-path=\"url(#clip7800)\">\n",
       "<text style=\"fill:#000000; fill-opacity:1; font-family:Arial,Helvetica Neue,Helvetica,sans-serif; font-size:48px; text-anchor:middle;\" transform=\"rotate(0, 186.496, 1541.47)\" x=\"186.496\" y=\"1541.47\">-10</text>\n",
       "</g>\n",
       "<g clip-path=\"url(#clip7800)\">\n",
       "<text style=\"fill:#000000; fill-opacity:1; font-family:Arial,Helvetica Neue,Helvetica,sans-serif; font-size:48px; text-anchor:middle;\" transform=\"rotate(0, 719.911, 1541.47)\" x=\"719.911\" y=\"1541.47\">-5</text>\n",
       "</g>\n",
       "<g clip-path=\"url(#clip7800)\">\n",
       "<text style=\"fill:#000000; fill-opacity:1; font-family:Arial,Helvetica Neue,Helvetica,sans-serif; font-size:48px; text-anchor:middle;\" transform=\"rotate(0, 1253.33, 1541.47)\" x=\"1253.33\" y=\"1541.47\">0</text>\n",
       "</g>\n",
       "<g clip-path=\"url(#clip7800)\">\n",
       "<text style=\"fill:#000000; fill-opacity:1; font-family:Arial,Helvetica Neue,Helvetica,sans-serif; font-size:48px; text-anchor:middle;\" transform=\"rotate(0, 1786.74, 1541.47)\" x=\"1786.74\" y=\"1541.47\">5</text>\n",
       "</g>\n",
       "<g clip-path=\"url(#clip7800)\">\n",
       "<text style=\"fill:#000000; fill-opacity:1; font-family:Arial,Helvetica Neue,Helvetica,sans-serif; font-size:48px; text-anchor:middle;\" transform=\"rotate(0, 2320.16, 1541.47)\" x=\"2320.16\" y=\"1541.47\">10</text>\n",
       "</g>\n",
       "<g clip-path=\"url(#clip7800)\">\n",
       "<text style=\"fill:#000000; fill-opacity:1; font-family:Arial,Helvetica Neue,Helvetica,sans-serif; font-size:48px; text-anchor:end;\" transform=\"rotate(0, 129.898, 1464.12)\" x=\"129.898\" y=\"1464.12\">0.0</text>\n",
       "</g>\n",
       "<g clip-path=\"url(#clip7800)\">\n",
       "<text style=\"fill:#000000; fill-opacity:1; font-family:Arial,Helvetica Neue,Helvetica,sans-serif; font-size:48px; text-anchor:end;\" transform=\"rotate(0, 129.898, 1158.5)\" x=\"129.898\" y=\"1158.5\">0.1</text>\n",
       "</g>\n",
       "<g clip-path=\"url(#clip7800)\">\n",
       "<text style=\"fill:#000000; fill-opacity:1; font-family:Arial,Helvetica Neue,Helvetica,sans-serif; font-size:48px; text-anchor:end;\" transform=\"rotate(0, 129.898, 852.887)\" x=\"129.898\" y=\"852.887\">0.2</text>\n",
       "</g>\n",
       "<g clip-path=\"url(#clip7800)\">\n",
       "<text style=\"fill:#000000; fill-opacity:1; font-family:Arial,Helvetica Neue,Helvetica,sans-serif; font-size:48px; text-anchor:end;\" transform=\"rotate(0, 129.898, 547.273)\" x=\"129.898\" y=\"547.273\">0.3</text>\n",
       "</g>\n",
       "<g clip-path=\"url(#clip7800)\">\n",
       "<text style=\"fill:#000000; fill-opacity:1; font-family:Arial,Helvetica Neue,Helvetica,sans-serif; font-size:48px; text-anchor:end;\" transform=\"rotate(0, 129.898, 241.659)\" x=\"129.898\" y=\"241.659\">0.4</text>\n",
       "</g>\n",
       "<polyline clip-path=\"url(#clip7802)\" style=\"stroke:#009af9; stroke-width:4; stroke-opacity:1; fill:none\" points=\"\n",
       "  216.13,1446.62 275.398,1446.62 334.667,1446.62 393.935,1446.62 453.203,1446.62 512.472,1446.62 571.74,1446.62 631.009,1446.62 690.277,1446.61 749.545,1446.61 \n",
       "  808.814,1446.58 868.082,1446.43 927.351,1445.71 986.619,1442.83 1045.89,1433.15 1105.16,1405.44 1164.42,1338.09 1223.69,1200.07 1282.96,970.307 1342.23,663.535 \n",
       "  1401.5,333.806 1460.77,89.1356 1520.03,111.95 1579.3,489.289 1638.57,975.148 1697.84,1284.57 1757.11,1404.57 1816.38,1437.68 1875.65,1445.02 1934.91,1446.38 \n",
       "  1994.18,1446.59 2053.45,1446.61 2112.72,1446.62 2171.99,1446.62 2231.26,1446.62 2290.52,1446.62 \n",
       "  \"/>\n",
       "<polyline clip-path=\"url(#clip7802)\" style=\"stroke:#e26f46; stroke-width:4; stroke-opacity:1; fill:none\" points=\"\n",
       "  216.13,1446.64 275.398,1446.62 334.667,1446.62 393.935,1446.6 453.203,1446.62 512.472,1446.61 571.74,1446.61 631.009,1446.61 690.277,1446.61 749.545,1446.61 \n",
       "  808.814,1446.58 868.082,1446.44 927.351,1445.74 986.619,1442.95 1045.89,1433.5 1105.16,1406.18 1164.42,1339.21 1223.69,1200.85 1282.96,969.126 1342.23,659.094 \n",
       "  1401.5,328.153 1460.77,88.8517 1520.03,118.657 1579.3,494.968 1638.57,975.335 1697.84,1282.48 1757.11,1403.21 1816.38,1437.2 1875.65,1444.88 1934.91,1446.34 \n",
       "  1994.18,1446.58 2053.45,1446.61 2112.72,1446.61 2171.99,1446.62 2231.26,1446.61 2290.52,1446.62 \n",
       "  \"/>\n",
       "<polyline clip-path=\"url(#clip7802)\" style=\"stroke:#3da44d; stroke-width:4; stroke-opacity:1; fill:none\" points=\"\n",
       "  216.13,1446.67 275.398,1446.62 334.667,1446.63 393.935,1446.58 453.203,1446.62 512.472,1446.61 571.74,1446.61 631.009,1446.61 690.277,1446.6 749.545,1446.6 \n",
       "  808.814,1446.58 868.082,1446.45 927.351,1445.78 986.619,1443.08 1045.89,1433.86 1105.16,1406.93 1164.42,1340.34 1223.69,1201.64 1282.96,967.929 1342.23,654.606 \n",
       "  1401.5,322.451 1460.77,88.5687 1520.03,125.413 1579.3,500.7 1638.57,975.55 1697.84,1280.39 1757.11,1401.84 1816.38,1436.72 1875.65,1444.74 1934.91,1446.3 \n",
       "  1994.18,1446.58 2053.45,1446.61 2112.72,1446.61 2171.99,1446.62 2231.26,1446.6 2290.52,1446.62 \n",
       "  \"/>\n",
       "<polyline clip-path=\"url(#clip7802)\" style=\"stroke:#c271d2; stroke-width:4; stroke-opacity:1; fill:none\" points=\"\n",
       "  216.13,1446.69 275.398,1446.62 334.667,1446.63 393.935,1446.56 453.203,1446.63 512.472,1446.62 571.74,1446.6 631.009,1446.61 690.277,1446.59 749.545,1446.6 \n",
       "  808.814,1446.58 868.082,1446.47 927.351,1445.82 986.619,1443.21 1045.89,1434.22 1105.16,1407.69 1164.42,1341.48 1223.69,1202.43 1282.96,966.714 1342.23,650.074 \n",
       "  1401.5,316.705 1460.77,88.2864 1520.03,132.213 1579.3,506.484 1638.57,975.793 1697.84,1278.28 1757.11,1400.45 1816.38,1436.22 1875.65,1444.6 1934.91,1446.26 \n",
       "  1994.18,1446.57 2053.45,1446.61 2112.72,1446.61 2171.99,1446.62 2231.26,1446.6 2290.52,1446.62 \n",
       "  \"/>\n",
       "<polyline clip-path=\"url(#clip7802)\" style=\"stroke:#ac8d18; stroke-width:4; stroke-opacity:1; fill:none\" points=\"\n",
       "  216.13,1446.71 275.398,1446.63 334.667,1446.64 393.935,1446.55 453.203,1446.63 512.472,1446.62 571.74,1446.6 631.009,1446.61 690.277,1446.59 749.545,1446.6 \n",
       "  808.814,1446.58 868.082,1446.48 927.351,1445.86 986.619,1443.34 1045.89,1434.59 1105.16,1408.46 1164.42,1342.63 1223.69,1203.23 1282.96,965.482 1342.23,645.497 \n",
       "  1401.5,310.917 1460.77,88.0053 1520.03,139.055 1579.3,512.318 1638.57,976.067 1697.84,1276.16 1757.11,1399.04 1816.38,1435.72 1875.65,1444.45 1934.91,1446.22 \n",
       "  1994.18,1446.56 2053.45,1446.6 2112.72,1446.6 2171.99,1446.63 2231.26,1446.59 2290.52,1446.62 \n",
       "  \"/>\n",
       "<path clip-path=\"url(#clip7800)\" d=\"\n",
       "M1989.93 493.644 L2280.76 493.644 L2280.76 130.764 L1989.93 130.764  Z\n",
       "  \" fill=\"#ffffff\" fill-rule=\"evenodd\" fill-opacity=\"1\"/>\n",
       "<polyline clip-path=\"url(#clip7800)\" style=\"stroke:#000000; stroke-width:4; stroke-opacity:1; fill:none\" points=\"\n",
       "  1989.93,493.644 2280.76,493.644 2280.76,130.764 1989.93,130.764 1989.93,493.644 \n",
       "  \"/>\n",
       "<polyline clip-path=\"url(#clip7800)\" style=\"stroke:#009af9; stroke-width:4; stroke-opacity:1; fill:none\" points=\"\n",
       "  2013.93,191.244 2157.93,191.244 \n",
       "  \"/>\n",
       "<g clip-path=\"url(#clip7800)\">\n",
       "<text style=\"fill:#000000; fill-opacity:1; font-family:Arial,Helvetica Neue,Helvetica,sans-serif; font-size:48px; text-anchor:start;\" transform=\"rotate(0, 2181.93, 208.744)\" x=\"2181.93\" y=\"208.744\">y1</text>\n",
       "</g>\n",
       "<polyline clip-path=\"url(#clip7800)\" style=\"stroke:#e26f46; stroke-width:4; stroke-opacity:1; fill:none\" points=\"\n",
       "  2013.93,251.724 2157.93,251.724 \n",
       "  \"/>\n",
       "<g clip-path=\"url(#clip7800)\">\n",
       "<text style=\"fill:#000000; fill-opacity:1; font-family:Arial,Helvetica Neue,Helvetica,sans-serif; font-size:48px; text-anchor:start;\" transform=\"rotate(0, 2181.93, 269.224)\" x=\"2181.93\" y=\"269.224\">y2</text>\n",
       "</g>\n",
       "<polyline clip-path=\"url(#clip7800)\" style=\"stroke:#3da44d; stroke-width:4; stroke-opacity:1; fill:none\" points=\"\n",
       "  2013.93,312.204 2157.93,312.204 \n",
       "  \"/>\n",
       "<g clip-path=\"url(#clip7800)\">\n",
       "<text style=\"fill:#000000; fill-opacity:1; font-family:Arial,Helvetica Neue,Helvetica,sans-serif; font-size:48px; text-anchor:start;\" transform=\"rotate(0, 2181.93, 329.704)\" x=\"2181.93\" y=\"329.704\">y3</text>\n",
       "</g>\n",
       "<polyline clip-path=\"url(#clip7800)\" style=\"stroke:#c271d2; stroke-width:4; stroke-opacity:1; fill:none\" points=\"\n",
       "  2013.93,372.684 2157.93,372.684 \n",
       "  \"/>\n",
       "<g clip-path=\"url(#clip7800)\">\n",
       "<text style=\"fill:#000000; fill-opacity:1; font-family:Arial,Helvetica Neue,Helvetica,sans-serif; font-size:48px; text-anchor:start;\" transform=\"rotate(0, 2181.93, 390.184)\" x=\"2181.93\" y=\"390.184\">y4</text>\n",
       "</g>\n",
       "<polyline clip-path=\"url(#clip7800)\" style=\"stroke:#ac8d18; stroke-width:4; stroke-opacity:1; fill:none\" points=\"\n",
       "  2013.93,433.164 2157.93,433.164 \n",
       "  \"/>\n",
       "<g clip-path=\"url(#clip7800)\">\n",
       "<text style=\"fill:#000000; fill-opacity:1; font-family:Arial,Helvetica Neue,Helvetica,sans-serif; font-size:48px; text-anchor:start;\" transform=\"rotate(0, 2181.93, 450.664)\" x=\"2181.93\" y=\"450.664\">y5</text>\n",
       "</g>\n",
       "</svg>\n"
      ]
     },
     "execution_count": 39,
     "metadata": {},
     "output_type": "execute_result"
    }
   ],
   "source": [
    "plot(vSpace.u, node(ctr[25].f[1:end], res.minimizer).u)"
   ]
  },
  {
   "cell_type": "code",
   "execution_count": 42,
   "metadata": {},
   "outputs": [
    {
     "data": {
      "image/svg+xml": [
       "<?xml version=\"1.0\" encoding=\"utf-8\"?>\n",
       "<svg xmlns=\"http://www.w3.org/2000/svg\" xmlns:xlink=\"http://www.w3.org/1999/xlink\" width=\"600\" height=\"400\" viewBox=\"0 0 2400 1600\">\n",
       "<defs>\n",
       "  <clipPath id=\"clip8200\">\n",
       "    <rect x=\"0\" y=\"0\" width=\"2400\" height=\"1600\"/>\n",
       "  </clipPath>\n",
       "</defs>\n",
       "<path clip-path=\"url(#clip8200)\" d=\"\n",
       "M0 1600 L2400 1600 L2400 0 L0 0  Z\n",
       "  \" fill=\"#ffffff\" fill-rule=\"evenodd\" fill-opacity=\"1\"/>\n",
       "<defs>\n",
       "  <clipPath id=\"clip8201\">\n",
       "    <rect x=\"480\" y=\"0\" width=\"1681\" height=\"1600\"/>\n",
       "  </clipPath>\n",
       "</defs>\n",
       "<path clip-path=\"url(#clip8200)\" d=\"\n",
       "M153.898 1487.47 L2352.76 1487.47 L2352.76 47.2441 L153.898 47.2441  Z\n",
       "  \" fill=\"#ffffff\" fill-rule=\"evenodd\" fill-opacity=\"1\"/>\n",
       "<defs>\n",
       "  <clipPath id=\"clip8202\">\n",
       "    <rect x=\"153\" y=\"47\" width=\"2200\" height=\"1441\"/>\n",
       "  </clipPath>\n",
       "</defs>\n",
       "<polyline clip-path=\"url(#clip8202)\" style=\"stroke:#000000; stroke-width:2; stroke-opacity:0.1; fill:none\" points=\"\n",
       "  186.496,1487.47 186.496,47.2441 \n",
       "  \"/>\n",
       "<polyline clip-path=\"url(#clip8202)\" style=\"stroke:#000000; stroke-width:2; stroke-opacity:0.1; fill:none\" points=\"\n",
       "  719.911,1487.47 719.911,47.2441 \n",
       "  \"/>\n",
       "<polyline clip-path=\"url(#clip8202)\" style=\"stroke:#000000; stroke-width:2; stroke-opacity:0.1; fill:none\" points=\"\n",
       "  1253.33,1487.47 1253.33,47.2441 \n",
       "  \"/>\n",
       "<polyline clip-path=\"url(#clip8202)\" style=\"stroke:#000000; stroke-width:2; stroke-opacity:0.1; fill:none\" points=\"\n",
       "  1786.74,1487.47 1786.74,47.2441 \n",
       "  \"/>\n",
       "<polyline clip-path=\"url(#clip8202)\" style=\"stroke:#000000; stroke-width:2; stroke-opacity:0.1; fill:none\" points=\"\n",
       "  2320.16,1487.47 2320.16,47.2441 \n",
       "  \"/>\n",
       "<polyline clip-path=\"url(#clip8202)\" style=\"stroke:#000000; stroke-width:2; stroke-opacity:0.1; fill:none\" points=\"\n",
       "  153.898,1446.71 2352.76,1446.71 \n",
       "  \"/>\n",
       "<polyline clip-path=\"url(#clip8202)\" style=\"stroke:#000000; stroke-width:2; stroke-opacity:0.1; fill:none\" points=\"\n",
       "  153.898,1140.89 2352.76,1140.89 \n",
       "  \"/>\n",
       "<polyline clip-path=\"url(#clip8202)\" style=\"stroke:#000000; stroke-width:2; stroke-opacity:0.1; fill:none\" points=\"\n",
       "  153.898,835.059 2352.76,835.059 \n",
       "  \"/>\n",
       "<polyline clip-path=\"url(#clip8202)\" style=\"stroke:#000000; stroke-width:2; stroke-opacity:0.1; fill:none\" points=\"\n",
       "  153.898,529.231 2352.76,529.231 \n",
       "  \"/>\n",
       "<polyline clip-path=\"url(#clip8202)\" style=\"stroke:#000000; stroke-width:2; stroke-opacity:0.1; fill:none\" points=\"\n",
       "  153.898,223.404 2352.76,223.404 \n",
       "  \"/>\n",
       "<polyline clip-path=\"url(#clip8200)\" style=\"stroke:#000000; stroke-width:4; stroke-opacity:1; fill:none\" points=\"\n",
       "  153.898,1487.47 2352.76,1487.47 \n",
       "  \"/>\n",
       "<polyline clip-path=\"url(#clip8200)\" style=\"stroke:#000000; stroke-width:4; stroke-opacity:1; fill:none\" points=\"\n",
       "  153.898,1487.47 153.898,47.2441 \n",
       "  \"/>\n",
       "<polyline clip-path=\"url(#clip8200)\" style=\"stroke:#000000; stroke-width:4; stroke-opacity:1; fill:none\" points=\"\n",
       "  186.496,1487.47 186.496,1470.19 \n",
       "  \"/>\n",
       "<polyline clip-path=\"url(#clip8200)\" style=\"stroke:#000000; stroke-width:4; stroke-opacity:1; fill:none\" points=\"\n",
       "  719.911,1487.47 719.911,1470.19 \n",
       "  \"/>\n",
       "<polyline clip-path=\"url(#clip8200)\" style=\"stroke:#000000; stroke-width:4; stroke-opacity:1; fill:none\" points=\"\n",
       "  1253.33,1487.47 1253.33,1470.19 \n",
       "  \"/>\n",
       "<polyline clip-path=\"url(#clip8200)\" style=\"stroke:#000000; stroke-width:4; stroke-opacity:1; fill:none\" points=\"\n",
       "  1786.74,1487.47 1786.74,1470.19 \n",
       "  \"/>\n",
       "<polyline clip-path=\"url(#clip8200)\" style=\"stroke:#000000; stroke-width:4; stroke-opacity:1; fill:none\" points=\"\n",
       "  2320.16,1487.47 2320.16,1470.19 \n",
       "  \"/>\n",
       "<polyline clip-path=\"url(#clip8200)\" style=\"stroke:#000000; stroke-width:4; stroke-opacity:1; fill:none\" points=\"\n",
       "  153.898,1446.71 180.284,1446.71 \n",
       "  \"/>\n",
       "<polyline clip-path=\"url(#clip8200)\" style=\"stroke:#000000; stroke-width:4; stroke-opacity:1; fill:none\" points=\"\n",
       "  153.898,1140.89 180.284,1140.89 \n",
       "  \"/>\n",
       "<polyline clip-path=\"url(#clip8200)\" style=\"stroke:#000000; stroke-width:4; stroke-opacity:1; fill:none\" points=\"\n",
       "  153.898,835.059 180.284,835.059 \n",
       "  \"/>\n",
       "<polyline clip-path=\"url(#clip8200)\" style=\"stroke:#000000; stroke-width:4; stroke-opacity:1; fill:none\" points=\"\n",
       "  153.898,529.231 180.284,529.231 \n",
       "  \"/>\n",
       "<polyline clip-path=\"url(#clip8200)\" style=\"stroke:#000000; stroke-width:4; stroke-opacity:1; fill:none\" points=\"\n",
       "  153.898,223.404 180.284,223.404 \n",
       "  \"/>\n",
       "<g clip-path=\"url(#clip8200)\">\n",
       "<text style=\"fill:#000000; fill-opacity:1; font-family:Arial,Helvetica Neue,Helvetica,sans-serif; font-size:48px; text-anchor:middle;\" transform=\"rotate(0, 186.496, 1541.47)\" x=\"186.496\" y=\"1541.47\">-10</text>\n",
       "</g>\n",
       "<g clip-path=\"url(#clip8200)\">\n",
       "<text style=\"fill:#000000; fill-opacity:1; font-family:Arial,Helvetica Neue,Helvetica,sans-serif; font-size:48px; text-anchor:middle;\" transform=\"rotate(0, 719.911, 1541.47)\" x=\"719.911\" y=\"1541.47\">-5</text>\n",
       "</g>\n",
       "<g clip-path=\"url(#clip8200)\">\n",
       "<text style=\"fill:#000000; fill-opacity:1; font-family:Arial,Helvetica Neue,Helvetica,sans-serif; font-size:48px; text-anchor:middle;\" transform=\"rotate(0, 1253.33, 1541.47)\" x=\"1253.33\" y=\"1541.47\">0</text>\n",
       "</g>\n",
       "<g clip-path=\"url(#clip8200)\">\n",
       "<text style=\"fill:#000000; fill-opacity:1; font-family:Arial,Helvetica Neue,Helvetica,sans-serif; font-size:48px; text-anchor:middle;\" transform=\"rotate(0, 1786.74, 1541.47)\" x=\"1786.74\" y=\"1541.47\">5</text>\n",
       "</g>\n",
       "<g clip-path=\"url(#clip8200)\">\n",
       "<text style=\"fill:#000000; fill-opacity:1; font-family:Arial,Helvetica Neue,Helvetica,sans-serif; font-size:48px; text-anchor:middle;\" transform=\"rotate(0, 2320.16, 1541.47)\" x=\"2320.16\" y=\"1541.47\">10</text>\n",
       "</g>\n",
       "<g clip-path=\"url(#clip8200)\">\n",
       "<text style=\"fill:#000000; fill-opacity:1; font-family:Arial,Helvetica Neue,Helvetica,sans-serif; font-size:48px; text-anchor:end;\" transform=\"rotate(0, 129.898, 1464.21)\" x=\"129.898\" y=\"1464.21\">0.0</text>\n",
       "</g>\n",
       "<g clip-path=\"url(#clip8200)\">\n",
       "<text style=\"fill:#000000; fill-opacity:1; font-family:Arial,Helvetica Neue,Helvetica,sans-serif; font-size:48px; text-anchor:end;\" transform=\"rotate(0, 129.898, 1158.39)\" x=\"129.898\" y=\"1158.39\">0.1</text>\n",
       "</g>\n",
       "<g clip-path=\"url(#clip8200)\">\n",
       "<text style=\"fill:#000000; fill-opacity:1; font-family:Arial,Helvetica Neue,Helvetica,sans-serif; font-size:48px; text-anchor:end;\" transform=\"rotate(0, 129.898, 852.559)\" x=\"129.898\" y=\"852.559\">0.2</text>\n",
       "</g>\n",
       "<g clip-path=\"url(#clip8200)\">\n",
       "<text style=\"fill:#000000; fill-opacity:1; font-family:Arial,Helvetica Neue,Helvetica,sans-serif; font-size:48px; text-anchor:end;\" transform=\"rotate(0, 129.898, 546.731)\" x=\"129.898\" y=\"546.731\">0.3</text>\n",
       "</g>\n",
       "<g clip-path=\"url(#clip8200)\">\n",
       "<text style=\"fill:#000000; fill-opacity:1; font-family:Arial,Helvetica Neue,Helvetica,sans-serif; font-size:48px; text-anchor:end;\" transform=\"rotate(0, 129.898, 240.904)\" x=\"129.898\" y=\"240.904\">0.4</text>\n",
       "</g>\n",
       "<polyline clip-path=\"url(#clip8202)\" style=\"stroke:#009af9; stroke-width:4; stroke-opacity:1; fill:none\" points=\"\n",
       "  216.13,1446.71 275.398,1446.71 334.667,1446.71 393.935,1446.71 453.203,1446.71 512.472,1446.71 571.74,1446.71 631.009,1446.71 690.277,1446.71 749.545,1446.71 \n",
       "  808.814,1446.68 868.082,1446.53 927.351,1445.8 986.619,1442.92 1045.89,1433.23 1105.16,1405.51 1164.42,1338.11 1223.69,1200 1282.96,970.072 1342.23,663.086 \n",
       "  1401.5,333.127 1460.77,88.2857 1520.03,111.116 1579.3,488.719 1638.57,974.917 1697.84,1284.55 1757.11,1404.63 1816.38,1437.77 1875.65,1445.11 1934.91,1446.47 \n",
       "  1994.18,1446.68 2053.45,1446.71 2112.72,1446.71 2171.99,1446.71 2231.26,1446.71 2290.52,1446.71 \n",
       "  \"/>\n",
       "<polyline clip-path=\"url(#clip8202)\" style=\"stroke:#e26f46; stroke-width:4; stroke-opacity:1; fill:none\" points=\"\n",
       "  216.13,1446.71 275.398,1446.71 334.667,1446.71 393.935,1446.71 453.203,1446.71 512.472,1446.71 571.74,1446.71 631.009,1446.71 690.277,1446.71 749.545,1446.71 \n",
       "  808.814,1446.68 868.082,1446.54 927.351,1445.84 986.619,1443.06 1045.89,1433.64 1105.16,1406.38 1164.42,1339.39 1223.69,1200.83 1282.96,968.591 1342.23,657.993 \n",
       "  1401.5,327.262 1460.77,88.21 1520.03,118.156 1579.3,494.834 1638.57,975.223 1697.84,1282.33 1757.11,1403.09 1816.38,1437.2 1875.65,1444.96 1934.91,1446.45 \n",
       "  1994.18,1446.68 2053.45,1446.71 2112.72,1446.71 2171.99,1446.71 2231.26,1446.71 2290.52,1446.71 \n",
       "  \"/>\n",
       "<polyline clip-path=\"url(#clip8202)\" style=\"stroke:#3da44d; stroke-width:4; stroke-opacity:1; fill:none\" points=\"\n",
       "  216.13,1446.71 275.398,1446.71 334.667,1446.71 393.935,1446.71 453.203,1446.71 512.472,1446.71 571.74,1446.71 631.009,1446.71 690.277,1446.71 749.545,1446.71 \n",
       "  808.814,1446.68 868.082,1446.54 927.351,1445.88 986.619,1443.2 1045.89,1434.02 1105.16,1407.21 1164.42,1340.6 1223.69,1201.62 1282.96,967.184 1342.23,653.158 \n",
       "  1401.5,321.693 1460.77,88.1382 1520.03,124.841 1579.3,500.64 1638.57,975.513 1697.84,1280.22 1757.11,1401.63 1816.38,1436.65 1875.65,1444.82 1934.91,1446.42 \n",
       "  1994.18,1446.68 2053.45,1446.71 2112.72,1446.71 2171.99,1446.71 2231.26,1446.71 2290.52,1446.71 \n",
       "  \"/>\n",
       "<polyline clip-path=\"url(#clip8202)\" style=\"stroke:#c271d2; stroke-width:4; stroke-opacity:1; fill:none\" points=\"\n",
       "  216.13,1446.71 275.398,1446.71 334.667,1446.71 393.935,1446.71 453.203,1446.71 512.472,1446.71 571.74,1446.71 631.009,1446.71 690.277,1446.71 749.545,1446.71 \n",
       "  808.814,1446.69 868.082,1446.55 927.351,1445.91 986.619,1443.33 1045.89,1434.38 1105.16,1407.99 1164.42,1341.75 1223.69,1202.37 1282.96,965.849 1342.23,648.567 \n",
       "  1401.5,316.405 1460.77,88.0701 1520.03,131.187 1579.3,506.153 1638.57,975.789 1697.84,1278.22 1757.11,1400.24 1816.38,1436.13 1875.65,1444.69 1934.91,1446.39 \n",
       "  1994.18,1446.67 2053.45,1446.71 2112.72,1446.71 2171.99,1446.71 2231.26,1446.71 2290.52,1446.71 \n",
       "  \"/>\n",
       "<polyline clip-path=\"url(#clip8202)\" style=\"stroke:#ac8d18; stroke-width:4; stroke-opacity:1; fill:none\" points=\"\n",
       "  216.13,1446.71 275.398,1446.71 334.667,1446.71 393.935,1446.71 453.203,1446.71 512.472,1446.71 571.74,1446.71 631.009,1446.71 690.277,1446.71 749.545,1446.71 \n",
       "  808.814,1446.69 868.082,1446.56 927.351,1445.95 986.619,1443.45 1045.89,1434.73 1105.16,1408.74 1164.42,1342.85 1223.69,1203.08 1282.96,964.581 1342.23,644.208 \n",
       "  1401.5,311.384 1460.77,88.0053 1520.03,137.214 1579.3,511.387 1638.57,976.05 1697.84,1276.31 1757.11,1398.92 1816.38,1435.64 1875.65,1444.56 1934.91,1446.37 \n",
       "  1994.18,1446.67 2053.45,1446.71 2112.72,1446.71 2171.99,1446.71 2231.26,1446.71 2290.52,1446.71 \n",
       "  \"/>\n",
       "<path clip-path=\"url(#clip8200)\" d=\"\n",
       "M1989.93 493.644 L2280.76 493.644 L2280.76 130.764 L1989.93 130.764  Z\n",
       "  \" fill=\"#ffffff\" fill-rule=\"evenodd\" fill-opacity=\"1\"/>\n",
       "<polyline clip-path=\"url(#clip8200)\" style=\"stroke:#000000; stroke-width:4; stroke-opacity:1; fill:none\" points=\"\n",
       "  1989.93,493.644 2280.76,493.644 2280.76,130.764 1989.93,130.764 1989.93,493.644 \n",
       "  \"/>\n",
       "<polyline clip-path=\"url(#clip8200)\" style=\"stroke:#009af9; stroke-width:4; stroke-opacity:1; fill:none\" points=\"\n",
       "  2013.93,191.244 2157.93,191.244 \n",
       "  \"/>\n",
       "<g clip-path=\"url(#clip8200)\">\n",
       "<text style=\"fill:#000000; fill-opacity:1; font-family:Arial,Helvetica Neue,Helvetica,sans-serif; font-size:48px; text-anchor:start;\" transform=\"rotate(0, 2181.93, 208.744)\" x=\"2181.93\" y=\"208.744\">y1</text>\n",
       "</g>\n",
       "<polyline clip-path=\"url(#clip8200)\" style=\"stroke:#e26f46; stroke-width:4; stroke-opacity:1; fill:none\" points=\"\n",
       "  2013.93,251.724 2157.93,251.724 \n",
       "  \"/>\n",
       "<g clip-path=\"url(#clip8200)\">\n",
       "<text style=\"fill:#000000; fill-opacity:1; font-family:Arial,Helvetica Neue,Helvetica,sans-serif; font-size:48px; text-anchor:start;\" transform=\"rotate(0, 2181.93, 269.224)\" x=\"2181.93\" y=\"269.224\">y2</text>\n",
       "</g>\n",
       "<polyline clip-path=\"url(#clip8200)\" style=\"stroke:#3da44d; stroke-width:4; stroke-opacity:1; fill:none\" points=\"\n",
       "  2013.93,312.204 2157.93,312.204 \n",
       "  \"/>\n",
       "<g clip-path=\"url(#clip8200)\">\n",
       "<text style=\"fill:#000000; fill-opacity:1; font-family:Arial,Helvetica Neue,Helvetica,sans-serif; font-size:48px; text-anchor:start;\" transform=\"rotate(0, 2181.93, 329.704)\" x=\"2181.93\" y=\"329.704\">y3</text>\n",
       "</g>\n",
       "<polyline clip-path=\"url(#clip8200)\" style=\"stroke:#c271d2; stroke-width:4; stroke-opacity:1; fill:none\" points=\"\n",
       "  2013.93,372.684 2157.93,372.684 \n",
       "  \"/>\n",
       "<g clip-path=\"url(#clip8200)\">\n",
       "<text style=\"fill:#000000; fill-opacity:1; font-family:Arial,Helvetica Neue,Helvetica,sans-serif; font-size:48px; text-anchor:start;\" transform=\"rotate(0, 2181.93, 390.184)\" x=\"2181.93\" y=\"390.184\">y4</text>\n",
       "</g>\n",
       "<polyline clip-path=\"url(#clip8200)\" style=\"stroke:#ac8d18; stroke-width:4; stroke-opacity:1; fill:none\" points=\"\n",
       "  2013.93,433.164 2157.93,433.164 \n",
       "  \"/>\n",
       "<g clip-path=\"url(#clip8200)\">\n",
       "<text style=\"fill:#000000; fill-opacity:1; font-family:Arial,Helvetica Neue,Helvetica,sans-serif; font-size:48px; text-anchor:start;\" transform=\"rotate(0, 2181.93, 450.664)\" x=\"2181.93\" y=\"450.664\">y5</text>\n",
       "</g>\n",
       "</svg>\n"
      ]
     },
     "execution_count": 42,
     "metadata": {},
     "output_type": "execute_result"
    }
   ],
   "source": [
    "plot(vSpace.u, Y[:,25,:])"
   ]
  },
  {
   "cell_type": "code",
   "execution_count": null,
   "metadata": {},
   "outputs": [],
   "source": []
  }
 ],
 "metadata": {
  "kernelspec": {
   "display_name": "Julia 1.4.1",
   "language": "julia",
   "name": "julia-1.4"
  },
  "language_info": {
   "file_extension": ".jl",
   "mimetype": "application/julia",
   "name": "julia",
   "version": "1.4.1"
  }
 },
 "nbformat": 4,
 "nbformat_minor": 4
}
