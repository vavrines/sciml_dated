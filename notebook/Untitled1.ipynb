{
 "cells": [
  {
   "cell_type": "code",
   "execution_count": 1,
   "metadata": {},
   "outputs": [],
   "source": [
    "using Revise\n",
    "using DifferentialEquations\n",
    "using Flux\n",
    "using DiffEqFlux\n",
    "using Optim\n",
    "using Plots\n",
    "using FileIO\n",
    "using JLD2\n",
    "using OffsetArrays\n",
    "using Kinetic"
   ]
  },
  {
   "cell_type": "code",
   "execution_count": 23,
   "metadata": {},
   "outputs": [
    {
     "data": {
      "text/plain": [
       "bgk! (generic function with 1 method)"
      ]
     },
     "execution_count": 23,
     "metadata": {},
     "output_type": "execute_result"
    }
   ],
   "source": [
    "function bgk!(df, f, p, t)\n",
    "    g, tau = p\n",
    "    df .= (g .- f) ./ tau\n",
    "end"
   ]
  },
  {
   "cell_type": "code",
   "execution_count": 3,
   "metadata": {},
   "outputs": [
    {
     "name": "stdout",
     "output_type": "stream",
     "text": [
      "case = shock\n",
      "space = 1d1f1v\n",
      "nSpecies = 1\n",
      "interpOrder = 1\n",
      "limiter = vanleer\n",
      "cfl = 0.95\n",
      "maxTime = 250.0\n",
      "x0 = -25.0\n",
      "x1 = 25.0\n",
      "nx = 50\n",
      "pMeshType = uniform\n",
      "nxg = 0\n",
      "umin = -10.0\n",
      "umax = 10.0\n",
      "nu = 36\n",
      "nug = 0\n",
      "vMeshType = rectangle\n",
      "knudsen = 1.0\n",
      "mach = 2.0\n",
      "prandtl = 1.0\n",
      "inK = 0.0\n",
      "omega = 0.5\n",
      "alphaRef = 1.0\n",
      "omegaRef = 0.5\n",
      "tLen = 5\n",
      "nh = 12\n",
      "\n"
     ]
    }
   ],
   "source": [
    "D = read_dict(\"../code/shock/shock1D.txt\")\n",
    "for key in keys(D)\n",
    "    s = Symbol(key)\n",
    "    @eval $s = $(D[key])\n",
    "end"
   ]
  },
  {
   "cell_type": "code",
   "execution_count": 4,
   "metadata": {},
   "outputs": [],
   "source": [
    "γ = 3.\n",
    "set = Setup(case, space, nSpecies, interpOrder, limiter, cfl, maxTime)\n",
    "pSpace = PSpace1D(x0, x1, nx, pMeshType, nxg)\n",
    "μᵣ = ref_vhs_vis(knudsen, alphaRef, omegaRef)\n",
    "gas = GasProperty(knudsen, mach, prandtl, inK, γ, omega, alphaRef, omegaRef, μᵣ)\n",
    "vSpace = VSpace1D(umin, umax, nu, vMeshType, nug)\n",
    "wL, primL, fL, bcL, wR, primR, fR, bcR = ib_rh(mach, γ, vSpace.u)\n",
    "ib = IB1D1F(wL, primL, fL, bcL, wR, primR, fR, bcR)\n",
    "\n",
    "ks = SolverSet(set, pSpace, vSpace, gas, ib, pwd());"
   ]
  },
  {
   "cell_type": "code",
   "execution_count": 78,
   "metadata": {},
   "outputs": [],
   "source": [
    "ctr = OffsetArray{ControlVolume1D1F}(undef, eachindex(ks.pSpace.x))\n",
    "face = Array{Interface1D1F}(undef, ks.pSpace.nx+1)\n",
    "for i in eachindex(ctr)\n",
    "    if i <= ks.pSpace.nx÷2\n",
    "        ctr[i] = ControlVolume1D1F(ks.pSpace.x[i], ks.pSpace.dx[i], Float32.(ks.ib.wL), Float32.(ks.ib.primL), Float32.(ks.ib.fL))\n",
    "    else\n",
    "        ctr[i] = ControlVolume1D1F(ks.pSpace.x[i], ks.pSpace.dx[i], Float32.(ks.ib.wR), Float32.(ks.ib.primR), Float32.(ks.ib.fR))\n",
    "    end\n",
    "end\n",
    "for i=1:ks.pSpace.nx+1\n",
    "    face[i] = Interface1D1F(ks.ib.fL)\n",
    "end"
   ]
  },
  {
   "cell_type": "code",
   "execution_count": 79,
   "metadata": {},
   "outputs": [
    {
     "data": {
      "text/plain": [
       "0.0f0:0.01935499f0:0.07741996f0"
      ]
     },
     "execution_count": 79,
     "metadata": {},
     "output_type": "execute_result"
    }
   ],
   "source": [
    "sos = sound_speed(ks.ib.primR, γ)\n",
    "vmax = ks.vSpace.u1 + sos\n",
    "tmax = vmax / ks.pSpace.dx[1]\n",
    "dt = Float32(ks.set.cfl / tmax)\n",
    "tSpan = (0.f0, dt)\n",
    "tRan = range(tSpan[1], tSpan[2], length=tLen)"
   ]
  },
  {
   "cell_type": "code",
   "execution_count": 82,
   "metadata": {},
   "outputs": [],
   "source": [
    "residual = Array{Float32}(undef, 3)\n",
    "for iter=1:1000\n",
    "    Kinetic.evolve!(ks, ctr, face, dt)\n",
    "    Kinetic.update!(ks, ctr, face, dt, residual)\n",
    "end"
   ]
  },
  {
   "cell_type": "code",
   "execution_count": 32,
   "metadata": {},
   "outputs": [],
   "source": [
    "X = Array{Float32}(undef, nu, nx);\n",
    "for i in 1:nx\n",
    "    X[:,i] .= ctr[i].f\n",
    "end"
   ]
  },
  {
   "cell_type": "code",
   "execution_count": 28,
   "metadata": {},
   "outputs": [],
   "source": [
    "M = Array{Float32}(undef, nu, nx)\n",
    "τ = Array{Float32}(undef, nx)\n",
    "for i=1:nx\n",
    "    M[:,i] .= maxwellian(ks.vSpace.u, ctr[i].prim)\n",
    "    τ = vhs_collision_time(ctr[i].prim, ks.gas.μᵣ, ks.gas.ω)\n",
    "end\n",
    "\n",
    "data_para = [M, τ];"
   ]
  },
  {
   "cell_type": "code",
   "execution_count": 35,
   "metadata": {},
   "outputs": [],
   "source": [
    "prob = ODEProblem(bgk!, X, tSpan, data_para)\n",
    "Y = solve(prob, Tsit5(), saveat=tRan) |> Array;"
   ]
  },
  {
   "cell_type": "code",
   "execution_count": null,
   "metadata": {},
   "outputs": [],
   "source": []
  },
  {
   "cell_type": "code",
   "execution_count": null,
   "metadata": {},
   "outputs": [],
   "source": []
  },
  {
   "cell_type": "code",
   "execution_count": 31,
   "metadata": {},
   "outputs": [
    {
     "data": {
      "text/plain": [
       "(::NeuralODE{FastChain{Tuple{var\"#7#8\",FastDense{typeof(tanh),DiffEqFlux.var\"#initial_params#76\"{typeof(Flux.glorot_uniform),typeof(Flux.zeros),Int64,Int64}},FastDense{typeof(identity),DiffEqFlux.var\"#initial_params#76\"{typeof(Flux.glorot_uniform),typeof(Flux.zeros),Int64,Int64}}}},Array{Float32,1},Nothing,Tuple{Float32,Float32},Tsit5,Tuple{},Base.Iterators.Pairs{Symbol,StepRangeLen{Float32,Float64,Float64},Tuple{Symbol},NamedTuple{(:saveat,),Tuple{StepRangeLen{Float32,Float64,Float64}}}}}) (generic function with 4 methods)"
      ]
     },
     "execution_count": 31,
     "metadata": {},
     "output_type": "execute_result"
    }
   ],
   "source": [
    "dudt = FastChain( (x, p) -> x.^3,\n",
    "                   FastDense(vSpace.nu, vSpace.nu*16, tanh),\n",
    "                   #FastDense(vSpace.nu*16, vSpace.nu*16, tanh),\n",
    "                   FastDense(vSpace.nu*16, vSpace.nu) )\n",
    "#node = NeuralODE(dudt, tSpan, Tsit5(), saveat=tRan)\n",
    "node = NeuralODE(dudt, tSpan, Tsit5(), saveat=tRan)"
   ]
  },
  {
   "cell_type": "code",
   "execution_count": null,
   "metadata": {},
   "outputs": [],
   "source": []
  },
  {
   "cell_type": "code",
   "execution_count": 36,
   "metadata": {},
   "outputs": [
    {
     "data": {
      "text/plain": [
       "loss_node (generic function with 1 method)"
      ]
     },
     "execution_count": 36,
     "metadata": {},
     "output_type": "execute_result"
    }
   ],
   "source": [
    "function loss_node(p) # without dataset\n",
    "    diff = Array(node(X, p)) .- Y\n",
    "    loss = sum(abs2, diff)\n",
    "    return loss\n",
    "end"
   ]
  },
  {
   "cell_type": "code",
   "execution_count": 37,
   "metadata": {},
   "outputs": [
    {
     "data": {
      "text/plain": [
       "#9 (generic function with 1 method)"
      ]
     },
     "execution_count": 37,
     "metadata": {},
     "output_type": "execute_result"
    }
   ],
   "source": [
    "cb = function (p, l)\n",
    "    display(l)\n",
    "    return false\n",
    "end"
   ]
  },
  {
   "cell_type": "code",
   "execution_count": 38,
   "metadata": {
    "scrolled": true
   },
   "outputs": [
    {
     "data": {
      "text/plain": [
       "0.007033267f0"
      ]
     },
     "metadata": {},
     "output_type": "display_data"
    },
    {
     "name": "stderr",
     "output_type": "stream",
     "text": [
      "\u001b[32mloss: 0.0027:   0%|▏                                        |  ETA: 8:16:12\u001b[39m9m"
     ]
    },
    {
     "data": {
      "text/plain": [
       "0.0023652627f0"
      ]
     },
     "metadata": {},
     "output_type": "display_data"
    },
    {
     "name": "stderr",
     "output_type": "stream",
     "text": [
      "\u001b[32mloss: 0.0028:   1%|▎                                        |  ETA: 2:48:46\u001b[39mm"
     ]
    },
    {
     "data": {
      "text/plain": [
       "0.0021913862f0"
      ]
     },
     "metadata": {},
     "output_type": "display_data"
    },
    {
     "name": "stderr",
     "output_type": "stream",
     "text": [
      "\u001b[32mloss: 0.00199:   1%|▍                                        |  ETA: 1:43:30\u001b[39m"
     ]
    },
    {
     "data": {
      "text/plain": [
       "0.002195115f0"
      ]
     },
     "metadata": {},
     "output_type": "display_data"
    },
    {
     "name": "stderr",
     "output_type": "stream",
     "text": [
      "\u001b[32mloss: 0.00195:   1%|▋                                        |  ETA: 1:15:25\u001b[39m"
     ]
    },
    {
     "data": {
      "text/plain": [
       "0.0017368281f0"
      ]
     },
     "metadata": {},
     "output_type": "display_data"
    },
    {
     "name": "stderr",
     "output_type": "stream",
     "text": [
      "\u001b[32mloss: 0.00161:   2%|▊                                        |  ETA: 0:59:51\u001b[39m"
     ]
    },
    {
     "data": {
      "text/plain": [
       "0.0016872857f0"
      ]
     },
     "metadata": {},
     "output_type": "display_data"
    },
    {
     "name": "stderr",
     "output_type": "stream",
     "text": [
      "\u001b[32mloss: 0.0016:   2%|▉                                        |  ETA: 0:49:56\u001b[39mm"
     ]
    },
    {
     "data": {
      "text/plain": [
       "0.0015002575f0"
      ]
     },
     "metadata": {},
     "output_type": "display_data"
    },
    {
     "name": "stderr",
     "output_type": "stream",
     "text": [
      "\u001b[32mloss: 0.00143:   3%|█▏                                       |  ETA: 0:43:05\u001b[39m"
     ]
    },
    {
     "data": {
      "text/plain": [
       "0.001448647f0"
      ]
     },
     "metadata": {},
     "output_type": "display_data"
    },
    {
     "name": "stderr",
     "output_type": "stream",
     "text": [
      "\u001b[32mloss: 0.00139:   3%|█▎                                       |  ETA: 0:38:08\u001b[39m"
     ]
    },
    {
     "data": {
      "text/plain": [
       "0.001333887f0"
      ]
     },
     "metadata": {},
     "output_type": "display_data"
    },
    {
     "name": "stderr",
     "output_type": "stream",
     "text": [
      "\u001b[32mloss: 0.00125:   3%|█▍                                       |  ETA: 0:34:24\u001b[39m"
     ]
    },
    {
     "data": {
      "text/plain": [
       "0.0012545224f0"
      ]
     },
     "metadata": {},
     "output_type": "display_data"
    },
    {
     "name": "stderr",
     "output_type": "stream",
     "text": [
      "\u001b[32mloss: 0.00121:   4%|█▌                                       |  ETA: 0:31:23\u001b[39m"
     ]
    },
    {
     "data": {
      "text/plain": [
       "0.0011786661f0"
      ]
     },
     "metadata": {},
     "output_type": "display_data"
    },
    {
     "name": "stderr",
     "output_type": "stream",
     "text": [
      "\u001b[32mloss: 0.00111:   4%|█▊                                       |  ETA: 0:29:00\u001b[39m"
     ]
    },
    {
     "data": {
      "text/plain": [
       "0.0011021354f0"
      ]
     },
     "metadata": {},
     "output_type": "display_data"
    },
    {
     "name": "stderr",
     "output_type": "stream",
     "text": [
      "\u001b[32mloss: 0.00105:   5%|█▉                                       |  ETA: 0:27:00\u001b[39m"
     ]
    },
    {
     "data": {
      "text/plain": [
       "0.0010231682f0"
      ]
     },
     "metadata": {},
     "output_type": "display_data"
    },
    {
     "name": "stderr",
     "output_type": "stream",
     "text": [
      "\u001b[32mloss: 0.000967:   5%|██                                       |  ETA: 0:25:17\u001b[39m"
     ]
    },
    {
     "data": {
      "text/plain": [
       "0.00095331355f0"
      ]
     },
     "metadata": {},
     "output_type": "display_data"
    },
    {
     "name": "stderr",
     "output_type": "stream",
     "text": [
      "\u001b[32mloss: 0.000918:   5%|██▏                                      |  ETA: 0:24:13\u001b[39m"
     ]
    },
    {
     "data": {
      "text/plain": [
       "0.0008971514f0"
      ]
     },
     "metadata": {},
     "output_type": "display_data"
    },
    {
     "name": "stderr",
     "output_type": "stream",
     "text": [
      "\u001b[32mloss: 0.000839:   6%|██▍                                      |  ETA: 0:22:56\u001b[39m"
     ]
    },
    {
     "data": {
      "text/plain": [
       "0.0008228309f0"
      ]
     },
     "metadata": {},
     "output_type": "display_data"
    },
    {
     "name": "stderr",
     "output_type": "stream",
     "text": [
      "\u001b[32mloss: 0.000769:   6%|██▌                                      |  ETA: 0:21:47\u001b[39m"
     ]
    },
    {
     "data": {
      "text/plain": [
       "0.0007495944f0"
      ]
     },
     "metadata": {},
     "output_type": "display_data"
    },
    {
     "name": "stderr",
     "output_type": "stream",
     "text": [
      "\u001b[32mloss: 0.000697:   6%|██▋                                      |  ETA: 0:20:48\u001b[39m"
     ]
    },
    {
     "data": {
      "text/plain": [
       "0.0006804962f0"
      ]
     },
     "metadata": {},
     "output_type": "display_data"
    },
    {
     "name": "stderr",
     "output_type": "stream",
     "text": [
      "\u001b[32mloss: 0.000645:   7%|██▊                                      |  ETA: 0:20:10\u001b[39m"
     ]
    },
    {
     "data": {
      "text/plain": [
       "0.0006270728f0"
      ]
     },
     "metadata": {},
     "output_type": "display_data"
    },
    {
     "name": "stderr",
     "output_type": "stream",
     "text": [
      "\u001b[32mloss: 0.000577:   7%|███                                      |  ETA: 0:19:22\u001b[39m"
     ]
    },
    {
     "data": {
      "text/plain": [
       "0.00056062324f0"
      ]
     },
     "metadata": {},
     "output_type": "display_data"
    },
    {
     "name": "stderr",
     "output_type": "stream",
     "text": [
      "\u001b[32mloss: 0.000528:   8%|███▏                                     |  ETA: 0:18:49\u001b[39m"
     ]
    },
    {
     "data": {
      "text/plain": [
       "0.0005113963f0"
      ]
     },
     "metadata": {},
     "output_type": "display_data"
    },
    {
     "name": "stderr",
     "output_type": "stream",
     "text": [
      "\u001b[32mloss: 0.000465:   8%|███▎                                     |  ETA: 0:18:10\u001b[39m"
     ]
    },
    {
     "data": {
      "text/plain": [
       "0.00045053533f0"
      ]
     },
     "metadata": {},
     "output_type": "display_data"
    },
    {
     "name": "stderr",
     "output_type": "stream",
     "text": [
      "\u001b[32mloss: 0.000407:   8%|███▍                                     |  ETA: 0:17:32\u001b[39m"
     ]
    },
    {
     "data": {
      "text/plain": [
       "0.0003929626f0"
      ]
     },
     "metadata": {},
     "output_type": "display_data"
    },
    {
     "name": "stderr",
     "output_type": "stream",
     "text": [
      "\u001b[32mloss: 0.000367:   9%|███▌                                     |  ETA: 0:17:08\u001b[39m"
     ]
    },
    {
     "data": {
      "text/plain": [
       "0.00035359192f0"
      ]
     },
     "metadata": {},
     "output_type": "display_data"
    },
    {
     "name": "stderr",
     "output_type": "stream",
     "text": [
      "\u001b[32mloss: 0.000317:   9%|███▊                                     |  ETA: 0:16:37\u001b[39m"
     ]
    },
    {
     "data": {
      "text/plain": [
       "0.0003053186f0"
      ]
     },
     "metadata": {},
     "output_type": "display_data"
    },
    {
     "name": "stderr",
     "output_type": "stream",
     "text": [
      "\u001b[32mloss: 0.000273:   9%|███▉                                     |  ETA: 0:16:08\u001b[39m"
     ]
    },
    {
     "data": {
      "text/plain": [
       "0.00026282354f0"
      ]
     },
     "metadata": {},
     "output_type": "display_data"
    },
    {
     "name": "stderr",
     "output_type": "stream",
     "text": [
      "\u001b[32mloss: 0.000235:  10%|████                                     |  ETA: 0:15:41\u001b[39m"
     ]
    },
    {
     "data": {
      "text/plain": [
       "0.00022631088f0"
      ]
     },
     "metadata": {},
     "output_type": "display_data"
    },
    {
     "name": "stderr",
     "output_type": "stream",
     "text": [
      "\u001b[32mloss: 0.000203:  10%|████▏                                    |  ETA: 0:15:17\u001b[39m"
     ]
    },
    {
     "data": {
      "text/plain": [
       "0.00019545367f0"
      ]
     },
     "metadata": {},
     "output_type": "display_data"
    },
    {
     "name": "stderr",
     "output_type": "stream",
     "text": [
      "\u001b[32mloss: 0.000176:  11%|████▍                                    |  ETA: 0:14:54\u001b[39m"
     ]
    },
    {
     "data": {
      "text/plain": [
       "0.00017015173f0"
      ]
     },
     "metadata": {},
     "output_type": "display_data"
    },
    {
     "name": "stderr",
     "output_type": "stream",
     "text": [
      "\u001b[32mloss: 0.000155:  11%|████▌                                    |  ETA: 0:14:33\u001b[39m"
     ]
    },
    {
     "data": {
      "text/plain": [
       "0.00014993569f0"
      ]
     },
     "metadata": {},
     "output_type": "display_data"
    },
    {
     "name": "stderr",
     "output_type": "stream",
     "text": [
      "\u001b[32mloss: 0.000142:  11%|████▋                                    |  ETA: 0:14:19\u001b[39m"
     ]
    },
    {
     "data": {
      "text/plain": [
       "0.00013769409f0"
      ]
     },
     "metadata": {},
     "output_type": "display_data"
    },
    {
     "name": "stderr",
     "output_type": "stream",
     "text": [
      "\u001b[32mloss: 0.000128:  12%|████▊                                    |  ETA: 0:13:59\u001b[39m"
     ]
    },
    {
     "data": {
      "text/plain": [
       "0.00012480776f0"
      ]
     },
     "metadata": {},
     "output_type": "display_data"
    },
    {
     "name": "stderr",
     "output_type": "stream",
     "text": [
      "\u001b[32mloss: 0.000117:  12%|█████                                    |  ETA: 0:13:42\u001b[39m"
     ]
    },
    {
     "data": {
      "text/plain": [
       "0.00011517411f0"
      ]
     },
     "metadata": {},
     "output_type": "display_data"
    },
    {
     "name": "stderr",
     "output_type": "stream",
     "text": [
      "\u001b[32mloss: 0.00011:  12%|█████▏                                   |  ETA: 0:13:25\u001b[39mm"
     ]
    },
    {
     "data": {
      "text/plain": [
       "0.00010810862f0"
      ]
     },
     "metadata": {},
     "output_type": "display_data"
    },
    {
     "name": "stderr",
     "output_type": "stream",
     "text": [
      "\u001b[32mloss: 0.000104:  13%|█████▎                                   |  ETA: 0:13:09\u001b[39m"
     ]
    },
    {
     "data": {
      "text/plain": [
       "0.00010301203f0"
      ]
     },
     "metadata": {},
     "output_type": "display_data"
    },
    {
     "name": "stderr",
     "output_type": "stream",
     "text": [
      "\u001b[32mloss: 0.0001:  13%|█████▌                                   |  ETA: 0:12:53\u001b[39m9m"
     ]
    },
    {
     "data": {
      "text/plain": [
       "9.9365716f-5"
      ]
     },
     "metadata": {},
     "output_type": "display_data"
    },
    {
     "name": "stderr",
     "output_type": "stream",
     "text": [
      "\u001b[32mloss: 9.73e-05:  14%|█████▋                                   |  ETA: 0:12:39\u001b[39m"
     ]
    },
    {
     "data": {
      "text/plain": [
       "9.674905f-5"
      ]
     },
     "metadata": {},
     "output_type": "display_data"
    },
    {
     "name": "stderr",
     "output_type": "stream",
     "text": [
      "\u001b[32mloss: 9.53e-05:  14%|█████▊                                   |  ETA: 0:12:25\u001b[39m"
     ]
    },
    {
     "data": {
      "text/plain": [
       "9.484506f-5"
      ]
     },
     "metadata": {},
     "output_type": "display_data"
    },
    {
     "name": "stderr",
     "output_type": "stream",
     "text": [
      "\u001b[32mloss: 9.37e-05:  14%|██████                                   |  ETA: 0:12:11\u001b[39m"
     ]
    },
    {
     "data": {
      "text/plain": [
       "9.342622f-5"
      ]
     },
     "metadata": {},
     "output_type": "display_data"
    },
    {
     "name": "stderr",
     "output_type": "stream",
     "text": [
      "\u001b[32mloss: 9.26e-05:  15%|██████▏                                  |  ETA: 0:11:58\u001b[39m"
     ]
    },
    {
     "data": {
      "text/plain": [
       "9.2333714f-5"
      ]
     },
     "metadata": {},
     "output_type": "display_data"
    },
    {
     "name": "stderr",
     "output_type": "stream",
     "text": [
      "\u001b[32mloss: 9.17e-05:  15%|██████▎                                  |  ETA: 0:11:46\u001b[39m"
     ]
    },
    {
     "data": {
      "text/plain": [
       "9.146174f-5"
      ]
     },
     "metadata": {},
     "output_type": "display_data"
    },
    {
     "name": "stderr",
     "output_type": "stream",
     "text": [
      "\u001b[32mloss: 9.09e-05:  16%|██████▍                                  |  ETA: 0:11:33\u001b[39m"
     ]
    },
    {
     "data": {
      "text/plain": [
       "9.074061f-5"
      ]
     },
     "metadata": {},
     "output_type": "display_data"
    },
    {
     "name": "stderr",
     "output_type": "stream",
     "text": [
      "\u001b[32mloss: 9.03e-05:  16%|██████▋                                  |  ETA: 0:11:22\u001b[39m"
     ]
    },
    {
     "data": {
      "text/plain": [
       "9.012543f-5"
      ]
     },
     "metadata": {},
     "output_type": "display_data"
    },
    {
     "name": "stderr",
     "output_type": "stream",
     "text": [
      "\u001b[32mloss: 8.97e-05:  16%|██████▊                                  |  ETA: 0:11:11\u001b[39m"
     ]
    },
    {
     "data": {
      "text/plain": [
       "8.95856f-5"
      ]
     },
     "metadata": {},
     "output_type": "display_data"
    },
    {
     "name": "stderr",
     "output_type": "stream",
     "text": [
      "\u001b[32mloss: 8.92e-05:  17%|██████▉                                  |  ETA: 0:11:01\u001b[39m"
     ]
    },
    {
     "data": {
      "text/plain": [
       "8.90997f-5"
      ]
     },
     "metadata": {},
     "output_type": "display_data"
    },
    {
     "name": "stderr",
     "output_type": "stream",
     "text": [
      "\u001b[32mloss: 8.88e-05:  17%|███████▏                                 |  ETA: 0:10:51\u001b[39m"
     ]
    },
    {
     "data": {
      "text/plain": [
       "8.865244f-5"
      ]
     },
     "metadata": {},
     "output_type": "display_data"
    },
    {
     "name": "stderr",
     "output_type": "stream",
     "text": [
      "\u001b[32mloss: 8.83e-05:  18%|███████▎                                 |  ETA: 0:10:41\u001b[39m"
     ]
    },
    {
     "data": {
      "text/plain": [
       "8.823234f-5"
      ]
     },
     "metadata": {},
     "output_type": "display_data"
    },
    {
     "name": "stderr",
     "output_type": "stream",
     "text": [
      "\u001b[32mloss: 8.79e-05:  18%|███████▍                                 |  ETA: 0:10:31\u001b[39m"
     ]
    },
    {
     "data": {
      "text/plain": [
       "8.782951f-5"
      ]
     },
     "metadata": {},
     "output_type": "display_data"
    },
    {
     "name": "stderr",
     "output_type": "stream",
     "text": [
      "\u001b[32mloss: 8.75e-05:  18%|███████▋                                 |  ETA: 0:10:22\u001b[39m"
     ]
    },
    {
     "data": {
      "text/plain": [
       "8.743754f-5"
      ]
     },
     "metadata": {},
     "output_type": "display_data"
    },
    {
     "name": "stderr",
     "output_type": "stream",
     "text": [
      "\u001b[32mloss: 8.71e-05:  19%|███████▊                                 |  ETA: 0:10:14\u001b[39m"
     ]
    },
    {
     "data": {
      "text/plain": [
       "8.7051805f-5"
      ]
     },
     "metadata": {},
     "output_type": "display_data"
    },
    {
     "name": "stderr",
     "output_type": "stream",
     "text": [
      "\u001b[32mloss: 8.68e-05:  19%|███████▉                                 |  ETA: 0:10:05\u001b[39m"
     ]
    },
    {
     "data": {
      "text/plain": [
       "8.6668166f-5"
      ]
     },
     "metadata": {},
     "output_type": "display_data"
    },
    {
     "name": "stderr",
     "output_type": "stream",
     "text": [
      "\u001b[32mloss: 8.64e-05:  20%|████████▏                                |  ETA: 0:09:57\u001b[39m"
     ]
    },
    {
     "data": {
      "text/plain": [
       "8.6284694f-5"
      ]
     },
     "metadata": {},
     "output_type": "display_data"
    },
    {
     "name": "stderr",
     "output_type": "stream",
     "text": [
      "\u001b[32mloss: 8.6e-05:  20%|████████▎                                |  ETA: 0:09:50\u001b[39mm"
     ]
    },
    {
     "data": {
      "text/plain": [
       "8.5899774f-5"
      ]
     },
     "metadata": {},
     "output_type": "display_data"
    },
    {
     "name": "stderr",
     "output_type": "stream",
     "text": [
      "\u001b[32mloss: 8.56e-05:  20%|████████▍                                |  ETA: 0:09:42\u001b[39m"
     ]
    },
    {
     "data": {
      "text/plain": [
       "8.551312f-5"
      ]
     },
     "metadata": {},
     "output_type": "display_data"
    },
    {
     "name": "stderr",
     "output_type": "stream",
     "text": [
      "\u001b[32mloss: 8.52e-05:  21%|████████▋                                |  ETA: 0:09:35\u001b[39m"
     ]
    },
    {
     "data": {
      "text/plain": [
       "8.5123946f-5"
      ]
     },
     "metadata": {},
     "output_type": "display_data"
    },
    {
     "name": "stderr",
     "output_type": "stream",
     "text": [
      "\u001b[32mloss: 8.48e-05:  21%|████████▊                                |  ETA: 0:09:29\u001b[39m"
     ]
    },
    {
     "data": {
      "text/plain": [
       "8.4732805f-5"
      ]
     },
     "metadata": {},
     "output_type": "display_data"
    },
    {
     "name": "stderr",
     "output_type": "stream",
     "text": [
      "\u001b[32mloss: 8.44e-05:  22%|████████▉                                |  ETA: 0:09:22\u001b[39m"
     ]
    },
    {
     "data": {
      "text/plain": [
       "8.433881f-5"
      ]
     },
     "metadata": {},
     "output_type": "display_data"
    },
    {
     "name": "stderr",
     "output_type": "stream",
     "text": [
      "\u001b[32mloss: 8.4e-05:  22%|█████████                                |  ETA: 0:09:16\u001b[39mm"
     ]
    },
    {
     "data": {
      "text/plain": [
       "8.394255f-5"
      ]
     },
     "metadata": {},
     "output_type": "display_data"
    },
    {
     "name": "stderr",
     "output_type": "stream",
     "text": [
      "\u001b[32mloss: 8.37e-05:  22%|█████████▏                               |  ETA: 0:09:11\u001b[39m"
     ]
    },
    {
     "data": {
      "text/plain": [
       "8.364286f-5"
      ]
     },
     "metadata": {},
     "output_type": "display_data"
    },
    {
     "name": "stderr",
     "output_type": "stream",
     "text": [
      "\u001b[32mloss: 8.33e-05:  23%|█████████▍                               |  ETA: 0:09:05\u001b[39m"
     ]
    },
    {
     "data": {
      "text/plain": [
       "8.324322f-5"
      ]
     },
     "metadata": {},
     "output_type": "display_data"
    },
    {
     "name": "stderr",
     "output_type": "stream",
     "text": [
      "\u001b[32mloss: 8.29e-05:  23%|█████████▌                               |  ETA: 0:08:59\u001b[39m"
     ]
    },
    {
     "data": {
      "text/plain": [
       "8.2840685f-5"
      ]
     },
     "metadata": {},
     "output_type": "display_data"
    },
    {
     "name": "stderr",
     "output_type": "stream",
     "text": [
      "\u001b[32mloss: 8.26e-05:  24%|█████████▋                               |  ETA: 0:08:55\u001b[39m"
     ]
    },
    {
     "data": {
      "text/plain": [
       "8.253658f-5"
      ]
     },
     "metadata": {},
     "output_type": "display_data"
    },
    {
     "name": "stderr",
     "output_type": "stream",
     "text": [
      "\u001b[32mloss: 8.23e-05:  24%|█████████▊                               |  ETA: 0:08:51\u001b[39m"
     ]
    },
    {
     "data": {
      "text/plain": [
       "8.2232174f-5"
      ]
     },
     "metadata": {},
     "output_type": "display_data"
    },
    {
     "name": "stderr",
     "output_type": "stream",
     "text": [
      "\u001b[32mloss: 8.19e-05:  24%|█████████▉                               |  ETA: 0:08:45\u001b[39m"
     ]
    },
    {
     "data": {
      "text/plain": [
       "8.18244f-5"
      ]
     },
     "metadata": {},
     "output_type": "display_data"
    },
    {
     "name": "stderr",
     "output_type": "stream",
     "text": [
      "\u001b[32mloss: 8.15e-05:  25%|██████████▏                              |  ETA: 0:08:40\u001b[39m"
     ]
    },
    {
     "data": {
      "text/plain": [
       "8.1425984f-5"
      ]
     },
     "metadata": {},
     "output_type": "display_data"
    },
    {
     "name": "stderr",
     "output_type": "stream",
     "text": [
      "\u001b[32mloss: 8.12e-05:  25%|██████████▎                              |  ETA: 0:08:35\u001b[39m"
     ]
    },
    {
     "data": {
      "text/plain": [
       "8.1230275f-5"
      ]
     },
     "metadata": {},
     "output_type": "display_data"
    },
    {
     "name": "stderr",
     "output_type": "stream",
     "text": [
      "\u001b[32mloss: 8.1e-05:  25%|██████████▍                              |  ETA: 0:08:29\u001b[39mm"
     ]
    },
    {
     "data": {
      "text/plain": [
       "8.116879f-5"
      ]
     },
     "metadata": {},
     "output_type": "display_data"
    },
    {
     "name": "stderr",
     "output_type": "stream",
     "text": [
      "\u001b[32mloss: 8.31e-05:  26%|██████████▌                              |  ETA: 0:08:25\u001b[39m"
     ]
    },
    {
     "data": {
      "text/plain": [
       "8.548419f-5"
      ]
     },
     "metadata": {},
     "output_type": "display_data"
    },
    {
     "name": "stderr",
     "output_type": "stream",
     "text": [
      "\u001b[32mloss: 9e-05:  26%|██████████▊                              |  ETA: 0:08:20\u001b[39m39m"
     ]
    },
    {
     "data": {
      "text/plain": [
       "8.4290084f-5"
      ]
     },
     "metadata": {},
     "output_type": "display_data"
    },
    {
     "name": "stderr",
     "output_type": "stream",
     "text": [
      "\u001b[32mloss: 8.48e-05:  26%|██████████▉                              |  ETA: 0:08:15\u001b[39m"
     ]
    },
    {
     "data": {
      "text/plain": [
       "8.523325f-5"
      ]
     },
     "metadata": {},
     "output_type": "display_data"
    },
    {
     "name": "stderr",
     "output_type": "stream",
     "text": [
      "\u001b[32mloss: 8.06e-05:  27%|███████████                              |  ETA: 0:08:10\u001b[39m"
     ]
    },
    {
     "data": {
      "text/plain": [
       "8.2632825f-5"
      ]
     },
     "metadata": {},
     "output_type": "display_data"
    },
    {
     "name": "stderr",
     "output_type": "stream",
     "text": [
      "\u001b[32mloss: 7.9e-05:  27%|███████████▎                             |  ETA: 0:08:05\u001b[39mm"
     ]
    },
    {
     "data": {
      "text/plain": [
       "8.024966f-5"
      ]
     },
     "metadata": {},
     "output_type": "display_data"
    },
    {
     "name": "stderr",
     "output_type": "stream",
     "text": [
      "\u001b[32mloss: 7.85e-05:  28%|███████████▍                             |  ETA: 0:07:59\u001b[39m"
     ]
    },
    {
     "data": {
      "text/plain": [
       "7.870378f-5"
      ]
     },
     "metadata": {},
     "output_type": "display_data"
    },
    {
     "name": "stderr",
     "output_type": "stream",
     "text": [
      "\u001b[32mloss: 7.84e-05:  28%|███████████▌                             |  ETA: 0:07:54\u001b[39m"
     ]
    },
    {
     "data": {
      "text/plain": [
       "7.792053f-5"
      ]
     },
     "metadata": {},
     "output_type": "display_data"
    },
    {
     "name": "stderr",
     "output_type": "stream",
     "text": [
      "\u001b[32mloss: 7.83e-05:  28%|███████████▋                             |  ETA: 0:07:50\u001b[39m"
     ]
    },
    {
     "data": {
      "text/plain": [
       "7.765199f-5"
      ]
     },
     "metadata": {},
     "output_type": "display_data"
    },
    {
     "name": "stderr",
     "output_type": "stream",
     "text": [
      "\u001b[32mloss: 7.78e-05:  29%|███████████▉                             |  ETA: 0:07:45\u001b[39m"
     ]
    },
    {
     "data": {
      "text/plain": [
       "7.750273f-5"
      ]
     },
     "metadata": {},
     "output_type": "display_data"
    },
    {
     "name": "stderr",
     "output_type": "stream",
     "text": [
      "\u001b[32mloss: 7.7e-05:  29%|████████████                             |  ETA: 0:07:42\u001b[39mm"
     ]
    },
    {
     "data": {
      "text/plain": [
       "7.706019f-5"
      ]
     },
     "metadata": {},
     "output_type": "display_data"
    },
    {
     "name": "stderr",
     "output_type": "stream",
     "text": [
      "\u001b[32mloss: 7.66e-05:  30%|████████████▏                            |  ETA: 0:07:37\u001b[39m"
     ]
    },
    {
     "data": {
      "text/plain": [
       "7.642366f-5"
      ]
     },
     "metadata": {},
     "output_type": "display_data"
    },
    {
     "name": "stderr",
     "output_type": "stream",
     "text": [
      "\u001b[32mloss: 7.63e-05:  30%|████████████▎                            |  ETA: 0:07:33\u001b[39m"
     ]
    },
    {
     "data": {
      "text/plain": [
       "7.61041f-5"
      ]
     },
     "metadata": {},
     "output_type": "display_data"
    },
    {
     "name": "stderr",
     "output_type": "stream",
     "text": [
      "\u001b[32mloss: 7.58e-05:  30%|████████████▌                            |  ETA: 0:07:28\u001b[39m"
     ]
    },
    {
     "data": {
      "text/plain": [
       "7.5746495f-5"
      ]
     },
     "metadata": {},
     "output_type": "display_data"
    },
    {
     "name": "stderr",
     "output_type": "stream",
     "text": [
      "\u001b[32mloss: 7.55e-05:  31%|████████████▋                            |  ETA: 0:07:25\u001b[39m"
     ]
    },
    {
     "data": {
      "text/plain": [
       "7.531191f-5"
      ]
     },
     "metadata": {},
     "output_type": "display_data"
    },
    {
     "name": "stderr",
     "output_type": "stream",
     "text": [
      "\u001b[32mloss: 7.51e-05:  31%|████████████▊                            |  ETA: 0:07:21\u001b[39m"
     ]
    },
    {
     "data": {
      "text/plain": [
       "7.497339f-5"
      ]
     },
     "metadata": {},
     "output_type": "display_data"
    },
    {
     "name": "stderr",
     "output_type": "stream",
     "text": [
      "\u001b[32mloss: 7.47e-05:  31%|████████████▉                            |  ETA: 0:07:18\u001b[39m"
     ]
    },
    {
     "data": {
      "text/plain": [
       "7.459319f-5"
      ]
     },
     "metadata": {},
     "output_type": "display_data"
    },
    {
     "name": "stderr",
     "output_type": "stream",
     "text": [
      "\u001b[32mloss: 7.43e-05:  32%|█████████████                            |  ETA: 0:07:14\u001b[39m"
     ]
    },
    {
     "data": {
      "text/plain": [
       "7.422541f-5"
      ]
     },
     "metadata": {},
     "output_type": "display_data"
    },
    {
     "name": "stderr",
     "output_type": "stream",
     "text": [
      "\u001b[32mloss: 7.39e-05:  32%|█████████████▎                           |  ETA: 0:07:10\u001b[39m"
     ]
    },
    {
     "data": {
      "text/plain": [
       "7.377075f-5"
      ]
     },
     "metadata": {},
     "output_type": "display_data"
    },
    {
     "name": "stderr",
     "output_type": "stream",
     "text": [
      "\u001b[32mloss: 7.36e-05:  32%|█████████████▍                           |  ETA: 0:07:07\u001b[39m"
     ]
    },
    {
     "data": {
      "text/plain": [
       "7.347604f-5"
      ]
     },
     "metadata": {},
     "output_type": "display_data"
    },
    {
     "name": "stderr",
     "output_type": "stream",
     "text": [
      "\u001b[32mloss: 7.32e-05:  33%|█████████████▌                           |  ETA: 0:07:03\u001b[39m"
     ]
    },
    {
     "data": {
      "text/plain": [
       "7.306432f-5"
      ]
     },
     "metadata": {},
     "output_type": "display_data"
    },
    {
     "name": "stderr",
     "output_type": "stream",
     "text": [
      "\u001b[32mloss: 7.27e-05:  33%|█████████████▋                           |  ETA: 0:06:59\u001b[39m"
     ]
    },
    {
     "data": {
      "text/plain": [
       "7.263185f-5"
      ]
     },
     "metadata": {},
     "output_type": "display_data"
    },
    {
     "name": "stderr",
     "output_type": "stream",
     "text": [
      "\u001b[32mloss: 7.23e-05:  34%|█████████████▉                           |  ETA: 0:06:55\u001b[39m"
     ]
    },
    {
     "data": {
      "text/plain": [
       "7.22122f-5"
      ]
     },
     "metadata": {},
     "output_type": "display_data"
    },
    {
     "name": "stderr",
     "output_type": "stream",
     "text": [
      "\u001b[32mloss: 7.19e-05:  34%|██████████████                           |  ETA: 0:06:51\u001b[39m"
     ]
    },
    {
     "data": {
      "text/plain": [
       "7.179826f-5"
      ]
     },
     "metadata": {},
     "output_type": "display_data"
    },
    {
     "name": "stderr",
     "output_type": "stream",
     "text": [
      "\u001b[32mloss: 7.15e-05:  34%|██████████████▏                          |  ETA: 0:06:47\u001b[39m"
     ]
    },
    {
     "data": {
      "text/plain": [
       "7.140639f-5"
      ]
     },
     "metadata": {},
     "output_type": "display_data"
    },
    {
     "name": "stderr",
     "output_type": "stream",
     "text": [
      "\u001b[32mloss: 7.12e-05:  35%|██████████████▎                          |  ETA: 0:06:43\u001b[39m"
     ]
    },
    {
     "data": {
      "text/plain": [
       "7.1217015f-5"
      ]
     },
     "metadata": {},
     "output_type": "display_data"
    },
    {
     "name": "stderr",
     "output_type": "stream",
     "text": [
      "\u001b[32mloss: 7.22e-05:  35%|██████████████▌                          |  ETA: 0:06:39\u001b[39m"
     ]
    },
    {
     "data": {
      "text/plain": [
       "7.348529f-5"
      ]
     },
     "metadata": {},
     "output_type": "display_data"
    },
    {
     "name": "stderr",
     "output_type": "stream",
     "text": [
      "\u001b[32mloss: 8.59e-05:  36%|██████████████▋                          |  ETA: 0:06:35\u001b[39m"
     ]
    },
    {
     "data": {
      "text/plain": [
       "9.179835f-5"
      ]
     },
     "metadata": {},
     "output_type": "display_data"
    },
    {
     "name": "stderr",
     "output_type": "stream",
     "text": [
      "\u001b[32mloss: 7.4e-05:  36%|██████████████▊                          |  ETA: 0:06:32\u001b[39mm"
     ]
    },
    {
     "data": {
      "text/plain": [
       "6.9783186f-5"
      ]
     },
     "metadata": {},
     "output_type": "display_data"
    },
    {
     "name": "stderr",
     "output_type": "stream",
     "text": [
      "\u001b[32mloss: 7.95e-05:  36%|███████████████                          |  ETA: 0:06:28\u001b[39m"
     ]
    },
    {
     "data": {
      "text/plain": [
       "7.287688f-5"
      ]
     },
     "metadata": {},
     "output_type": "display_data"
    },
    {
     "name": "stderr",
     "output_type": "stream",
     "text": [
      "\u001b[32mloss: 7.57e-05:  37%|███████████████▏                         |  ETA: 0:06:24\u001b[39m"
     ]
    },
    {
     "data": {
      "text/plain": [
       "7.449989f-5"
      ]
     },
     "metadata": {},
     "output_type": "display_data"
    },
    {
     "name": "stderr",
     "output_type": "stream",
     "text": [
      "\u001b[32mloss: 7.11e-05:  37%|███████████████▎                         |  ETA: 0:06:21\u001b[39m"
     ]
    },
    {
     "data": {
      "text/plain": [
       "7.280453f-5"
      ]
     },
     "metadata": {},
     "output_type": "display_data"
    },
    {
     "name": "stderr",
     "output_type": "stream",
     "text": [
      "\u001b[32mloss: 6.86e-05:  38%|███████████████▌                         |  ETA: 0:06:17\u001b[39m"
     ]
    },
    {
     "data": {
      "text/plain": [
       "7.0141265f-5"
      ]
     },
     "metadata": {},
     "output_type": "display_data"
    },
    {
     "name": "stderr",
     "output_type": "stream",
     "text": [
      "\u001b[32mloss: 6.8e-05:  38%|███████████████▋                         |  ETA: 0:06:13\u001b[39mm"
     ]
    },
    {
     "data": {
      "text/plain": [
       "6.8138615f-5"
      ]
     },
     "metadata": {},
     "output_type": "display_data"
    },
    {
     "name": "stderr",
     "output_type": "stream",
     "text": [
      "\u001b[32mloss: 6.82e-05:  38%|███████████████▊                         |  ETA: 0:06:10\u001b[39m"
     ]
    },
    {
     "data": {
      "text/plain": [
       "6.741987f-5"
      ]
     },
     "metadata": {},
     "output_type": "display_data"
    },
    {
     "name": "stderr",
     "output_type": "stream",
     "text": [
      "\u001b[32mloss: 6.81e-05:  39%|████████████████                         |  ETA: 0:06:06\u001b[39m"
     ]
    },
    {
     "data": {
      "text/plain": [
       "6.7479596f-5"
      ]
     },
     "metadata": {},
     "output_type": "display_data"
    },
    {
     "name": "stderr",
     "output_type": "stream",
     "text": [
      "\u001b[32mloss: 6.72e-05:  39%|████████████████▏                        |  ETA: 0:06:03\u001b[39m"
     ]
    },
    {
     "data": {
      "text/plain": [
       "6.721771f-5"
      ]
     },
     "metadata": {},
     "output_type": "display_data"
    },
    {
     "name": "stderr",
     "output_type": "stream",
     "text": [
      "\u001b[32mloss: 6.63e-05:  40%|████████████████▎                        |  ETA: 0:05:59\u001b[39m"
     ]
    },
    {
     "data": {
      "text/plain": [
       "6.637123f-5"
      ]
     },
     "metadata": {},
     "output_type": "display_data"
    },
    {
     "name": "stderr",
     "output_type": "stream",
     "text": [
      "\u001b[32mloss: 6.61e-05:  40%|████████████████▌                        |  ETA: 0:05:56\u001b[39m"
     ]
    },
    {
     "data": {
      "text/plain": [
       "6.581317f-5"
      ]
     },
     "metadata": {},
     "output_type": "display_data"
    },
    {
     "name": "stderr",
     "output_type": "stream",
     "text": [
      "\u001b[32mloss: 6.57e-05:  40%|████████████████▋                        |  ETA: 0:05:53\u001b[39m"
     ]
    },
    {
     "data": {
      "text/plain": [
       "6.5589964f-5"
      ]
     },
     "metadata": {},
     "output_type": "display_data"
    },
    {
     "name": "stderr",
     "output_type": "stream",
     "text": [
      "\u001b[32mloss: 6.51e-05:  41%|████████████████▊                        |  ETA: 0:05:49\u001b[39m"
     ]
    },
    {
     "data": {
      "text/plain": [
       "6.502794f-5"
      ]
     },
     "metadata": {},
     "output_type": "display_data"
    },
    {
     "name": "stderr",
     "output_type": "stream",
     "text": [
      "\u001b[32mloss: 6.48e-05:  41%|████████████████▉                        |  ETA: 0:05:46\u001b[39m"
     ]
    },
    {
     "data": {
      "text/plain": [
       "6.4635635f-5"
      ]
     },
     "metadata": {},
     "output_type": "display_data"
    },
    {
     "name": "stderr",
     "output_type": "stream",
     "text": [
      "\u001b[32mloss: 6.43e-05:  42%|█████████████████▏                       |  ETA: 0:05:43\u001b[39m"
     ]
    },
    {
     "data": {
      "text/plain": [
       "6.421682f-5"
      ]
     },
     "metadata": {},
     "output_type": "display_data"
    },
    {
     "name": "stderr",
     "output_type": "stream",
     "text": [
      "\u001b[32mloss: 6.39e-05:  42%|█████████████████▎                       |  ETA: 0:05:40\u001b[39m"
     ]
    },
    {
     "data": {
      "text/plain": [
       "6.380071f-5"
      ]
     },
     "metadata": {},
     "output_type": "display_data"
    },
    {
     "name": "stderr",
     "output_type": "stream",
     "text": [
      "\u001b[32mloss: 6.35e-05:  42%|█████████████████▍                       |  ETA: 0:05:37\u001b[39m"
     ]
    },
    {
     "data": {
      "text/plain": [
       "6.336739f-5"
      ]
     },
     "metadata": {},
     "output_type": "display_data"
    },
    {
     "name": "stderr",
     "output_type": "stream",
     "text": [
      "\u001b[32mloss: 6.31e-05:  43%|█████████████████▋                       |  ETA: 0:05:34\u001b[39m"
     ]
    },
    {
     "data": {
      "text/plain": [
       "6.2989835f-5"
      ]
     },
     "metadata": {},
     "output_type": "display_data"
    },
    {
     "name": "stderr",
     "output_type": "stream",
     "text": [
      "\u001b[32mloss: 6.27e-05:  43%|█████████████████▊                       |  ETA: 0:05:30\u001b[39m"
     ]
    },
    {
     "data": {
      "text/plain": [
       "6.257591f-5"
      ]
     },
     "metadata": {},
     "output_type": "display_data"
    },
    {
     "name": "stderr",
     "output_type": "stream",
     "text": [
      "\u001b[32mloss: 6.23e-05:  44%|█████████████████▉                       |  ETA: 0:05:27\u001b[39m"
     ]
    },
    {
     "data": {
      "text/plain": [
       "6.222767f-5"
      ]
     },
     "metadata": {},
     "output_type": "display_data"
    },
    {
     "name": "stderr",
     "output_type": "stream",
     "text": [
      "\u001b[32mloss: 6.21e-05:  44%|██████████████████▏                      |  ETA: 0:05:24\u001b[39m"
     ]
    },
    {
     "data": {
      "text/plain": [
       "6.195507f-5"
      ]
     },
     "metadata": {},
     "output_type": "display_data"
    },
    {
     "name": "stderr",
     "output_type": "stream",
     "text": [
      "\u001b[32mloss: 6.14e-05:  44%|██████████████████▎                      |  ETA: 0:05:21\u001b[39m"
     ]
    },
    {
     "data": {
      "text/plain": [
       "6.132755f-5"
      ]
     },
     "metadata": {},
     "output_type": "display_data"
    },
    {
     "name": "stderr",
     "output_type": "stream",
     "text": [
      "\u001b[32mloss: 6.11e-05:  45%|██████████████████▍                      |  ETA: 0:05:18\u001b[39m"
     ]
    },
    {
     "data": {
      "text/plain": [
       "6.0957274f-5"
      ]
     },
     "metadata": {},
     "output_type": "display_data"
    },
    {
     "name": "stderr",
     "output_type": "stream",
     "text": [
      "\u001b[32mloss: 6.08e-05:  45%|██████████████████▋                      |  ETA: 0:05:15\u001b[39m"
     ]
    },
    {
     "data": {
      "text/plain": [
       "6.0801893f-5"
      ]
     },
     "metadata": {},
     "output_type": "display_data"
    },
    {
     "name": "stderr",
     "output_type": "stream",
     "text": [
      "\u001b[32mloss: 6.22e-05:  46%|██████████████████▊                      |  ETA: 0:05:12\u001b[39m"
     ]
    },
    {
     "data": {
      "text/plain": [
       "6.432328f-5"
      ]
     },
     "metadata": {},
     "output_type": "display_data"
    },
    {
     "name": "stderr",
     "output_type": "stream",
     "text": [
      "\u001b[32mloss: 9.16e-05:  46%|██████████████████▉                      |  ETA: 0:05:09\u001b[39m"
     ]
    },
    {
     "data": {
      "text/plain": [
       "0.00010963529f0"
      ]
     },
     "metadata": {},
     "output_type": "display_data"
    },
    {
     "name": "stderr",
     "output_type": "stream",
     "text": [
      "\u001b[32mloss: 6.86e-05:  46%|███████████████████▏                     |  ETA: 0:05:06\u001b[39m"
     ]
    },
    {
     "data": {
      "text/plain": [
       "6.0603546f-5"
      ]
     },
     "metadata": {},
     "output_type": "display_data"
    },
    {
     "name": "stderr",
     "output_type": "stream",
     "text": [
      "\u001b[32mloss: 7.48e-05:  47%|███████████████████▎                     |  ETA: 0:05:03\u001b[39m"
     ]
    },
    {
     "data": {
      "text/plain": [
       "5.9453676f-5"
      ]
     },
     "metadata": {},
     "output_type": "display_data"
    },
    {
     "name": "stderr",
     "output_type": "stream",
     "text": [
      "\u001b[32mloss: 7.09e-05:  47%|███████████████████▍                     |  ETA: 0:05:00\u001b[39m"
     ]
    },
    {
     "data": {
      "text/plain": [
       "5.941987f-5"
      ]
     },
     "metadata": {},
     "output_type": "display_data"
    },
    {
     "name": "stderr",
     "output_type": "stream",
     "text": [
      "\u001b[32mloss: 6.64e-05:  48%|███████████████████▌                     |  ETA: 0:04:57\u001b[39m"
     ]
    },
    {
     "data": {
      "text/plain": [
       "5.8778216f-5"
      ]
     },
     "metadata": {},
     "output_type": "display_data"
    },
    {
     "name": "stderr",
     "output_type": "stream",
     "text": [
      "\u001b[32mloss: 6.31e-05:  48%|███████████████████▊                     |  ETA: 0:04:54\u001b[39m"
     ]
    },
    {
     "data": {
      "text/plain": [
       "5.8188925f-5"
      ]
     },
     "metadata": {},
     "output_type": "display_data"
    },
    {
     "name": "stderr",
     "output_type": "stream",
     "text": [
      "\u001b[32mloss: 6.09e-05:  48%|███████████████████▉                     |  ETA: 0:04:51\u001b[39m"
     ]
    },
    {
     "data": {
      "text/plain": [
       "5.774133f-5"
      ]
     },
     "metadata": {},
     "output_type": "display_data"
    },
    {
     "name": "stderr",
     "output_type": "stream",
     "text": [
      "\u001b[32mloss: 5.95e-05:  49%|████████████████████                     |  ETA: 0:04:49\u001b[39m"
     ]
    },
    {
     "data": {
      "text/plain": [
       "5.7363337f-5"
      ]
     },
     "metadata": {},
     "output_type": "display_data"
    },
    {
     "name": "stderr",
     "output_type": "stream",
     "text": [
      "\u001b[32mloss: 5.85e-05:  49%|████████████████████▎                    |  ETA: 0:04:46\u001b[39m"
     ]
    },
    {
     "data": {
      "text/plain": [
       "5.7021283f-5"
      ]
     },
     "metadata": {},
     "output_type": "display_data"
    },
    {
     "name": "stderr",
     "output_type": "stream",
     "text": [
      "\u001b[32mloss: 5.78e-05:  50%|████████████████████▍                    |  ETA: 0:04:43\u001b[39m"
     ]
    },
    {
     "data": {
      "text/plain": [
       "5.6714234f-5"
      ]
     },
     "metadata": {},
     "output_type": "display_data"
    },
    {
     "name": "stderr",
     "output_type": "stream",
     "text": [
      "\u001b[32mloss: 5.72e-05:  50%|████████████████████▌                    |  ETA: 0:04:40\u001b[39m"
     ]
    },
    {
     "data": {
      "text/plain": [
       "5.6439792f-5"
      ]
     },
     "metadata": {},
     "output_type": "display_data"
    },
    {
     "name": "stderr",
     "output_type": "stream",
     "text": [
      "\u001b[32mloss: 5.66e-05:  50%|████████████████████▊                    |  ETA: 0:04:38\u001b[39m"
     ]
    },
    {
     "data": {
      "text/plain": [
       "5.616949f-5"
      ]
     },
     "metadata": {},
     "output_type": "display_data"
    },
    {
     "name": "stderr",
     "output_type": "stream",
     "text": [
      "\u001b[32mloss: 5.6e-05:  51%|████████████████████▉                    |  ETA: 0:04:35\u001b[39mm"
     ]
    },
    {
     "data": {
      "text/plain": [
       "5.5848326f-5"
      ]
     },
     "metadata": {},
     "output_type": "display_data"
    },
    {
     "name": "stderr",
     "output_type": "stream",
     "text": [
      "\u001b[32mloss: 5.54e-05:  51%|█████████████████████                    |  ETA: 0:04:32\u001b[39m"
     ]
    },
    {
     "data": {
      "text/plain": [
       "5.5425684f-5"
      ]
     },
     "metadata": {},
     "output_type": "display_data"
    },
    {
     "name": "stderr",
     "output_type": "stream",
     "text": [
      "\u001b[32mloss: 5.49e-05:  52%|█████████████████████▎                   |  ETA: 0:04:29\u001b[39m"
     ]
    },
    {
     "data": {
      "text/plain": [
       "5.491376f-5"
      ]
     },
     "metadata": {},
     "output_type": "display_data"
    },
    {
     "name": "stderr",
     "output_type": "stream",
     "text": [
      "\u001b[32mloss: 5.45e-05:  52%|█████████████████████▍                   |  ETA: 0:04:27\u001b[39m"
     ]
    },
    {
     "data": {
      "text/plain": [
       "5.442002f-5"
      ]
     },
     "metadata": {},
     "output_type": "display_data"
    },
    {
     "name": "stderr",
     "output_type": "stream",
     "text": [
      "\u001b[32mloss: 5.42e-05:  52%|█████████████████████▌                   |  ETA: 0:04:24\u001b[39m"
     ]
    },
    {
     "data": {
      "text/plain": [
       "5.4043754f-5"
      ]
     },
     "metadata": {},
     "output_type": "display_data"
    },
    {
     "name": "stderr",
     "output_type": "stream",
     "text": [
      "\u001b[32mloss: 5.38e-05:  53%|█████████████████████▊                   |  ETA: 0:04:22\u001b[39m"
     ]
    },
    {
     "data": {
      "text/plain": [
       "5.3720854f-5"
      ]
     },
     "metadata": {},
     "output_type": "display_data"
    },
    {
     "name": "stderr",
     "output_type": "stream",
     "text": [
      "\u001b[32mloss: 5.34e-05:  53%|█████████████████████▉                   |  ETA: 0:04:19\u001b[39m"
     ]
    },
    {
     "data": {
      "text/plain": [
       "5.332489f-5"
      ]
     },
     "metadata": {},
     "output_type": "display_data"
    },
    {
     "name": "stderr",
     "output_type": "stream",
     "text": [
      "\u001b[32mloss: 5.3e-05:  54%|██████████████████████                   |  ETA: 0:04:16\u001b[39mm"
     ]
    },
    {
     "data": {
      "text/plain": [
       "5.2926167f-5"
      ]
     },
     "metadata": {},
     "output_type": "display_data"
    },
    {
     "name": "stderr",
     "output_type": "stream",
     "text": [
      "\u001b[32mloss: 5.27e-05:  54%|██████████████████████▏                  |  ETA: 0:04:14\u001b[39m"
     ]
    },
    {
     "data": {
      "text/plain": [
       "5.2577823f-5"
      ]
     },
     "metadata": {},
     "output_type": "display_data"
    },
    {
     "name": "stderr",
     "output_type": "stream",
     "text": [
      "\u001b[32mloss: 5.23e-05:  54%|██████████████████████▍                  |  ETA: 0:04:11\u001b[39m"
     ]
    },
    {
     "data": {
      "text/plain": [
       "5.218877f-5"
      ]
     },
     "metadata": {},
     "output_type": "display_data"
    },
    {
     "name": "stderr",
     "output_type": "stream",
     "text": [
      "\u001b[32mloss: 5.19e-05:  55%|██████████████████████▌                  |  ETA: 0:04:08\u001b[39m"
     ]
    },
    {
     "data": {
      "text/plain": [
       "5.1826937f-5"
      ]
     },
     "metadata": {},
     "output_type": "display_data"
    },
    {
     "name": "stderr",
     "output_type": "stream",
     "text": [
      "\u001b[32mloss: 5.15e-05:  55%|██████████████████████▋                  |  ETA: 0:04:06\u001b[39m"
     ]
    },
    {
     "data": {
      "text/plain": [
       "5.144799f-5"
      ]
     },
     "metadata": {},
     "output_type": "display_data"
    },
    {
     "name": "stderr",
     "output_type": "stream",
     "text": [
      "\u001b[32mloss: 5.12e-05:  56%|██████████████████████▉                  |  ETA: 0:04:03\u001b[39m"
     ]
    },
    {
     "data": {
      "text/plain": [
       "5.1084833f-5"
      ]
     },
     "metadata": {},
     "output_type": "display_data"
    },
    {
     "name": "stderr",
     "output_type": "stream",
     "text": [
      "\u001b[32mloss: 5.08e-05:  56%|███████████████████████                  |  ETA: 0:04:00\u001b[39m"
     ]
    },
    {
     "data": {
      "text/plain": [
       "5.0710638f-5"
      ]
     },
     "metadata": {},
     "output_type": "display_data"
    },
    {
     "name": "stderr",
     "output_type": "stream",
     "text": [
      "\u001b[32mloss: 5.04e-05:  56%|███████████████████████▏                 |  ETA: 0:03:58\u001b[39m"
     ]
    },
    {
     "data": {
      "text/plain": [
       "5.033886f-5"
      ]
     },
     "metadata": {},
     "output_type": "display_data"
    },
    {
     "name": "stderr",
     "output_type": "stream",
     "text": [
      "\u001b[32mloss: 5.01e-05:  57%|███████████████████████▍                 |  ETA: 0:03:55\u001b[39m"
     ]
    },
    {
     "data": {
      "text/plain": [
       "4.99707f-5"
      ]
     },
     "metadata": {},
     "output_type": "display_data"
    },
    {
     "name": "stderr",
     "output_type": "stream",
     "text": [
      "\u001b[32mloss: 4.97e-05:  57%|███████████████████████▌                 |  ETA: 0:03:53\u001b[39m"
     ]
    },
    {
     "data": {
      "text/plain": [
       "4.9605605f-5"
      ]
     },
     "metadata": {},
     "output_type": "display_data"
    },
    {
     "name": "stderr",
     "output_type": "stream",
     "text": [
      "\u001b[32mloss: 4.93e-05:  58%|███████████████████████▋                 |  ETA: 0:03:50\u001b[39m"
     ]
    },
    {
     "data": {
      "text/plain": [
       "4.9261784f-5"
      ]
     },
     "metadata": {},
     "output_type": "display_data"
    },
    {
     "name": "stderr",
     "output_type": "stream",
     "text": [
      "\u001b[32mloss: 4.91e-05:  58%|███████████████████████▉                 |  ETA: 0:03:48\u001b[39m"
     ]
    },
    {
     "data": {
      "text/plain": [
       "4.9143564f-5"
      ]
     },
     "metadata": {},
     "output_type": "display_data"
    },
    {
     "name": "stderr",
     "output_type": "stream",
     "text": [
      "\u001b[32mloss: 5.06e-05:  58%|████████████████████████                 |  ETA: 0:03:45\u001b[39m"
     ]
    },
    {
     "data": {
      "text/plain": [
       "5.241267f-5"
      ]
     },
     "metadata": {},
     "output_type": "display_data"
    },
    {
     "name": "stderr",
     "output_type": "stream",
     "text": [
      "\u001b[32mloss: 7.83e-05:  59%|████████████████████████▏                |  ETA: 0:03:43\u001b[39m"
     ]
    },
    {
     "data": {
      "text/plain": [
       "0.00010070009f0"
      ]
     },
     "metadata": {},
     "output_type": "display_data"
    },
    {
     "name": "stderr",
     "output_type": "stream",
     "text": [
      "\u001b[32mloss: 9.43e-05:  59%|████████████████████████▍                |  ETA: 0:03:40\u001b[39m"
     ]
    },
    {
     "data": {
      "text/plain": [
       "5.474258f-5"
      ]
     },
     "metadata": {},
     "output_type": "display_data"
    },
    {
     "name": "stderr",
     "output_type": "stream",
     "text": [
      "\u001b[32mloss: 8.84e-05:  60%|████████████████████████▌                |  ETA: 0:03:38\u001b[39m"
     ]
    },
    {
     "data": {
      "text/plain": [
       "6.484706f-5"
      ]
     },
     "metadata": {},
     "output_type": "display_data"
    },
    {
     "name": "stderr",
     "output_type": "stream",
     "text": [
      "\u001b[32mloss: 7.33e-05:  60%|████████████████████████▋                |  ETA: 0:03:35\u001b[39m"
     ]
    },
    {
     "data": {
      "text/plain": [
       "6.166933f-5"
      ]
     },
     "metadata": {},
     "output_type": "display_data"
    },
    {
     "name": "stderr",
     "output_type": "stream",
     "text": [
      "\u001b[32mloss: 6.39e-05:  60%|████████████████████████▊                |  ETA: 0:03:33\u001b[39m"
     ]
    },
    {
     "data": {
      "text/plain": [
       "5.6720983f-5"
      ]
     },
     "metadata": {},
     "output_type": "display_data"
    },
    {
     "name": "stderr",
     "output_type": "stream",
     "text": [
      "\u001b[32mloss: 5.8e-05:  61%|█████████████████████████                |  ETA: 0:03:30\u001b[39mm"
     ]
    },
    {
     "data": {
      "text/plain": [
       "5.2905725f-5"
      ]
     },
     "metadata": {},
     "output_type": "display_data"
    },
    {
     "name": "stderr",
     "output_type": "stream",
     "text": [
      "\u001b[32mloss: 5.41e-05:  61%|█████████████████████████▏               |  ETA: 0:03:28\u001b[39m"
     ]
    },
    {
     "data": {
      "text/plain": [
       "5.0422394f-5"
      ]
     },
     "metadata": {},
     "output_type": "display_data"
    },
    {
     "name": "stderr",
     "output_type": "stream",
     "text": [
      "\u001b[32mloss: 5.13e-05:  62%|█████████████████████████▎               |  ETA: 0:03:26\u001b[39m"
     ]
    },
    {
     "data": {
      "text/plain": [
       "4.886203f-5"
      ]
     },
     "metadata": {},
     "output_type": "display_data"
    },
    {
     "name": "stderr",
     "output_type": "stream",
     "text": [
      "\u001b[32mloss: 4.94e-05:  62%|█████████████████████████▌               |  ETA: 0:03:23\u001b[39m"
     ]
    },
    {
     "data": {
      "text/plain": [
       "4.7858397f-5"
      ]
     },
     "metadata": {},
     "output_type": "display_data"
    },
    {
     "name": "stderr",
     "output_type": "stream",
     "text": [
      "\u001b[32mloss: 4.79e-05:  62%|█████████████████████████▋               |  ETA: 0:03:21\u001b[39m"
     ]
    },
    {
     "data": {
      "text/plain": [
       "4.713776f-5"
      ]
     },
     "metadata": {},
     "output_type": "display_data"
    },
    {
     "name": "stderr",
     "output_type": "stream",
     "text": [
      "\u001b[32mloss: 4.6e-05:  63%|█████████████████████████▊               |  ETA: 0:03:19\u001b[39mm"
     ]
    },
    {
     "data": {
      "text/plain": [
       "4.6789693f-5"
      ]
     },
     "metadata": {},
     "output_type": "display_data"
    },
    {
     "name": "stderr",
     "output_type": "stream",
     "text": [
      "\u001b[32mloss: 4.54e-05:  63%|█████████████████████████▉               |  ETA: 0:03:17\u001b[39m"
     ]
    },
    {
     "data": {
      "text/plain": [
       "4.5879453f-5"
      ]
     },
     "metadata": {},
     "output_type": "display_data"
    },
    {
     "name": "stderr",
     "output_type": "stream",
     "text": [
      "\u001b[32mloss: 4.51e-05:  64%|██████████████████████████▏              |  ETA: 0:03:15\u001b[39m"
     ]
    },
    {
     "data": {
      "text/plain": [
       "4.51628f-5"
      ]
     },
     "metadata": {},
     "output_type": "display_data"
    },
    {
     "name": "stderr",
     "output_type": "stream",
     "text": [
      "\u001b[32mloss: 4.51e-05:  64%|██████████████████████████▎              |  ETA: 0:03:13\u001b[39m"
     ]
    },
    {
     "data": {
      "text/plain": [
       "4.480482f-5"
      ]
     },
     "metadata": {},
     "output_type": "display_data"
    },
    {
     "name": "stderr",
     "output_type": "stream",
     "text": [
      "\u001b[32mloss: 4.48e-05:  64%|██████████████████████████▍              |  ETA: 0:03:11\u001b[39m"
     ]
    },
    {
     "data": {
      "text/plain": [
       "4.4580684f-5"
      ]
     },
     "metadata": {},
     "output_type": "display_data"
    },
    {
     "name": "stderr",
     "output_type": "stream",
     "text": [
      "\u001b[32mloss: 4.43e-05:  65%|██████████████████████████▌              |  ETA: 0:03:08\u001b[39m"
     ]
    },
    {
     "data": {
      "text/plain": [
       "4.426147f-5"
      ]
     },
     "metadata": {},
     "output_type": "display_data"
    },
    {
     "name": "stderr",
     "output_type": "stream",
     "text": [
      "\u001b[32mloss: 4.38e-05:  65%|██████████████████████████▊              |  ETA: 0:03:06\u001b[39m"
     ]
    },
    {
     "data": {
      "text/plain": [
       "4.383387f-5"
      ]
     },
     "metadata": {},
     "output_type": "display_data"
    },
    {
     "name": "stderr",
     "output_type": "stream",
     "text": [
      "\u001b[32mloss: 4.35e-05:  66%|██████████████████████████▉              |  ETA: 0:03:04\u001b[39m"
     ]
    },
    {
     "data": {
      "text/plain": [
       "4.3429434f-5"
      ]
     },
     "metadata": {},
     "output_type": "display_data"
    },
    {
     "name": "stderr",
     "output_type": "stream",
     "text": [
      "\u001b[32mloss: 4.32e-05:  66%|███████████████████████████              |  ETA: 0:03:01\u001b[39m"
     ]
    },
    {
     "data": {
      "text/plain": [
       "4.313742f-5"
      ]
     },
     "metadata": {},
     "output_type": "display_data"
    },
    {
     "name": "stderr",
     "output_type": "stream",
     "text": [
      "\u001b[32mloss: 4.29e-05:  66%|███████████████████████████▏             |  ETA: 0:02:59\u001b[39m"
     ]
    },
    {
     "data": {
      "text/plain": [
       "4.284278f-5"
      ]
     },
     "metadata": {},
     "output_type": "display_data"
    },
    {
     "name": "stderr",
     "output_type": "stream",
     "text": [
      "\u001b[32mloss: 4.26e-05:  67%|███████████████████████████▍             |  ETA: 0:02:57\u001b[39m"
     ]
    },
    {
     "data": {
      "text/plain": [
       "4.2491236f-5"
      ]
     },
     "metadata": {},
     "output_type": "display_data"
    },
    {
     "name": "stderr",
     "output_type": "stream",
     "text": [
      "\u001b[32mloss: 4.23e-05:  67%|███████████████████████████▌             |  ETA: 0:02:54\u001b[39m"
     ]
    },
    {
     "data": {
      "text/plain": [
       "4.2192056f-5"
      ]
     },
     "metadata": {},
     "output_type": "display_data"
    },
    {
     "name": "stderr",
     "output_type": "stream",
     "text": [
      "\u001b[32mloss: 4.2e-05:  67%|███████████████████████████▋             |  ETA: 0:02:53\u001b[39mm"
     ]
    },
    {
     "data": {
      "text/plain": [
       "4.1950785f-5"
      ]
     },
     "metadata": {},
     "output_type": "display_data"
    },
    {
     "name": "stderr",
     "output_type": "stream",
     "text": [
      "\u001b[32mloss: 4.17e-05:  68%|███████████████████████████▊             |  ETA: 0:02:50\u001b[39m"
     ]
    },
    {
     "data": {
      "text/plain": [
       "4.1650033f-5"
      ]
     },
     "metadata": {},
     "output_type": "display_data"
    },
    {
     "name": "stderr",
     "output_type": "stream",
     "text": [
      "\u001b[32mloss: 4.14e-05:  68%|████████████████████████████             |  ETA: 0:02:48\u001b[39m"
     ]
    },
    {
     "data": {
      "text/plain": [
       "4.133561f-5"
      ]
     },
     "metadata": {},
     "output_type": "display_data"
    },
    {
     "name": "stderr",
     "output_type": "stream",
     "text": [
      "\u001b[32mloss: 4.11e-05:  69%|████████████████████████████▏            |  ETA: 0:02:46\u001b[39m"
     ]
    },
    {
     "data": {
      "text/plain": [
       "4.103521f-5"
      ]
     },
     "metadata": {},
     "output_type": "display_data"
    },
    {
     "name": "stderr",
     "output_type": "stream",
     "text": [
      "\u001b[32mloss: 4.08e-05:  69%|████████████████████████████▎            |  ETA: 0:02:44\u001b[39m"
     ]
    },
    {
     "data": {
      "text/plain": [
       "4.072361f-5"
      ]
     },
     "metadata": {},
     "output_type": "display_data"
    },
    {
     "name": "stderr",
     "output_type": "stream",
     "text": [
      "\u001b[32mloss: 4.05e-05:  69%|████████████████████████████▌            |  ETA: 0:02:41\u001b[39m"
     ]
    },
    {
     "data": {
      "text/plain": [
       "4.041969f-5"
      ]
     },
     "metadata": {},
     "output_type": "display_data"
    },
    {
     "name": "stderr",
     "output_type": "stream",
     "text": [
      "\u001b[32mloss: 4.03e-05:  70%|████████████████████████████▋            |  ETA: 0:02:40\u001b[39m"
     ]
    },
    {
     "data": {
      "text/plain": [
       "4.0194576f-5"
      ]
     },
     "metadata": {},
     "output_type": "display_data"
    },
    {
     "name": "stderr",
     "output_type": "stream",
     "text": [
      "\u001b[32mloss: 4e-05:  70%|████████████████████████████▊            |  ETA: 0:02:38\u001b[39m39m"
     ]
    },
    {
     "data": {
      "text/plain": [
       "3.9896844f-5"
      ]
     },
     "metadata": {},
     "output_type": "display_data"
    },
    {
     "name": "stderr",
     "output_type": "stream",
     "text": [
      "\u001b[32mloss: 3.97e-05:  70%|████████████████████████████▉            |  ETA: 0:02:35\u001b[39m"
     ]
    },
    {
     "data": {
      "text/plain": [
       "3.9614562f-5"
      ]
     },
     "metadata": {},
     "output_type": "display_data"
    },
    {
     "name": "stderr",
     "output_type": "stream",
     "text": [
      "\u001b[32mloss: 3.95e-05:  71%|█████████████████████████████            |  ETA: 0:02:34\u001b[39m"
     ]
    },
    {
     "data": {
      "text/plain": [
       "3.9460574f-5"
      ]
     },
     "metadata": {},
     "output_type": "display_data"
    },
    {
     "name": "stderr",
     "output_type": "stream",
     "text": [
      "\u001b[32mloss: 3.95e-05:  71%|█████████████████████████████▏           |  ETA: 0:02:32\u001b[39m"
     ]
    },
    {
     "data": {
      "text/plain": [
       "3.961237f-5"
      ]
     },
     "metadata": {},
     "output_type": "display_data"
    },
    {
     "name": "stderr",
     "output_type": "stream",
     "text": [
      "\u001b[32mloss: 4.18e-05:  72%|█████████████████████████████▍           |  ETA: 0:02:30\u001b[39m"
     ]
    },
    {
     "data": {
      "text/plain": [
       "4.43154f-5"
      ]
     },
     "metadata": {},
     "output_type": "display_data"
    },
    {
     "name": "stderr",
     "output_type": "stream",
     "text": [
      "\u001b[32mloss: 5.85e-05:  72%|█████████████████████████████▌           |  ETA: 0:02:28\u001b[39m"
     ]
    },
    {
     "data": {
      "text/plain": [
       "7.480677f-5"
      ]
     },
     "metadata": {},
     "output_type": "display_data"
    },
    {
     "name": "stderr",
     "output_type": "stream",
     "text": [
      "\u001b[32mloss: 0.000131:  72%|█████████████████████████████▋           |  ETA: 0:02:26\u001b[39m"
     ]
    },
    {
     "data": {
      "text/plain": [
       "9.891292f-5"
      ]
     },
     "metadata": {},
     "output_type": "display_data"
    },
    {
     "name": "stderr",
     "output_type": "stream",
     "text": [
      "\u001b[32mloss: 6.48e-05:  73%|█████████████████████████████▊           |  ETA: 0:02:24\u001b[39m"
     ]
    },
    {
     "data": {
      "text/plain": [
       "8.470699f-5"
      ]
     },
     "metadata": {},
     "output_type": "display_data"
    },
    {
     "name": "stderr",
     "output_type": "stream",
     "text": [
      "\u001b[32mloss: 4.21e-05:  73%|█████████████████████████████▉           |  ETA: 0:02:22\u001b[39m"
     ]
    },
    {
     "data": {
      "text/plain": [
       "4.3041236f-5"
      ]
     },
     "metadata": {},
     "output_type": "display_data"
    },
    {
     "name": "stderr",
     "output_type": "stream",
     "text": [
      "\u001b[32mloss: 4.5e-05:  73%|██████████████████████████████           |  ETA: 0:02:20\u001b[39m"
     ]
    },
    {
     "data": {
      "text/plain": [
       "3.882247f-5"
      ]
     },
     "metadata": {},
     "output_type": "display_data"
    },
    {
     "name": "stderr",
     "output_type": "stream",
     "text": [
      "\u001b[32mloss: 4.45e-05:  74%|██████████████████████████████▎          |  ETA: 0:02:18\u001b[39m"
     ]
    },
    {
     "data": {
      "text/plain": [
       "3.794395f-5"
      ]
     },
     "metadata": {},
     "output_type": "display_data"
    },
    {
     "name": "stderr",
     "output_type": "stream",
     "text": [
      "\u001b[32mloss: 4.92e-05:  74%|██████████████████████████████▍          |  ETA: 0:02:16\u001b[39m"
     ]
    },
    {
     "data": {
      "text/plain": [
       "4.3088166f-5"
      ]
     },
     "metadata": {},
     "output_type": "display_data"
    },
    {
     "name": "stderr",
     "output_type": "stream",
     "text": [
      "\u001b[32mloss: 4.5e-05:  74%|██████████████████████████████▌          |  ETA: 0:02:14\u001b[39mm"
     ]
    },
    {
     "data": {
      "text/plain": [
       "4.1801064f-5"
      ]
     },
     "metadata": {},
     "output_type": "display_data"
    },
    {
     "name": "stderr",
     "output_type": "stream",
     "text": [
      "\u001b[32mloss: 4.21e-05:  75%|██████████████████████████████▋          |  ETA: 0:02:12\u001b[39m"
     ]
    },
    {
     "data": {
      "text/plain": [
       "4.0740862f-5"
      ]
     },
     "metadata": {},
     "output_type": "display_data"
    },
    {
     "name": "stderr",
     "output_type": "stream",
     "text": [
      "\u001b[32mloss: 3.99e-05:  75%|██████████████████████████████▉          |  ETA: 0:02:10\u001b[39m"
     ]
    },
    {
     "data": {
      "text/plain": [
       "3.9777082f-5"
      ]
     },
     "metadata": {},
     "output_type": "display_data"
    },
    {
     "name": "stderr",
     "output_type": "stream",
     "text": [
      "\u001b[32mloss: 3.69e-05:  76%|███████████████████████████████          |  ETA: 0:02:08\u001b[39m"
     ]
    },
    {
     "data": {
      "text/plain": [
       "3.8218262f-5"
      ]
     },
     "metadata": {},
     "output_type": "display_data"
    },
    {
     "name": "stderr",
     "output_type": "stream",
     "text": [
      "\u001b[32mloss: 3.66e-05:  76%|███████████████████████████████▏         |  ETA: 0:02:06\u001b[39m"
     ]
    },
    {
     "data": {
      "text/plain": [
       "3.7039285f-5"
      ]
     },
     "metadata": {},
     "output_type": "display_data"
    },
    {
     "name": "stderr",
     "output_type": "stream",
     "text": [
      "\u001b[32mloss: 3.75e-05:  76%|███████████████████████████████▎         |  ETA: 0:02:05\u001b[39m"
     ]
    },
    {
     "data": {
      "text/plain": [
       "3.6587793f-5"
      ]
     },
     "metadata": {},
     "output_type": "display_data"
    },
    {
     "name": "stderr",
     "output_type": "stream",
     "text": [
      "\u001b[32mloss: 3.7e-05:  77%|███████████████████████████████▍         |  ETA: 0:02:02\u001b[39mm"
     ]
    },
    {
     "data": {
      "text/plain": [
       "3.6590383f-5"
      ]
     },
     "metadata": {},
     "output_type": "display_data"
    },
    {
     "name": "stderr",
     "output_type": "stream",
     "text": [
      "\u001b[32mloss: 3.64e-05:  77%|███████████████████████████████▋         |  ETA: 0:02:00\u001b[39m"
     ]
    },
    {
     "data": {
      "text/plain": [
       "3.6382622f-5"
      ]
     },
     "metadata": {},
     "output_type": "display_data"
    },
    {
     "name": "stderr",
     "output_type": "stream",
     "text": [
      "\u001b[32mloss: 3.58e-05:  77%|███████████████████████████████▊         |  ETA: 0:01:58\u001b[39m"
     ]
    },
    {
     "data": {
      "text/plain": [
       "3.5912562f-5"
      ]
     },
     "metadata": {},
     "output_type": "display_data"
    },
    {
     "name": "stderr",
     "output_type": "stream",
     "text": [
      "\u001b[32mloss: 3.56e-05:  78%|███████████████████████████████▉         |  ETA: 0:01:57\u001b[39m"
     ]
    },
    {
     "data": {
      "text/plain": [
       "3.5436628f-5"
      ]
     },
     "metadata": {},
     "output_type": "display_data"
    },
    {
     "name": "stderr",
     "output_type": "stream",
     "text": [
      "\u001b[32mloss: 3.54e-05:  78%|████████████████████████████████         |  ETA: 0:01:54\u001b[39m"
     ]
    },
    {
     "data": {
      "text/plain": [
       "3.5299385f-5"
      ]
     },
     "metadata": {},
     "output_type": "display_data"
    },
    {
     "name": "stderr",
     "output_type": "stream",
     "text": [
      "\u001b[32mloss: 3.51e-05:  78%|████████████████████████████████▏        |  ETA: 0:01:53\u001b[39m"
     ]
    },
    {
     "data": {
      "text/plain": [
       "3.5070116f-5"
      ]
     },
     "metadata": {},
     "output_type": "display_data"
    },
    {
     "name": "stderr",
     "output_type": "stream",
     "text": [
      "\u001b[32mloss: 3.5e-05:  79%|████████████████████████████████▎        |  ETA: 0:01:51\u001b[39mm"
     ]
    },
    {
     "data": {
      "text/plain": [
       "3.4853005f-5"
      ]
     },
     "metadata": {},
     "output_type": "display_data"
    },
    {
     "name": "stderr",
     "output_type": "stream",
     "text": [
      "\u001b[32mloss: 3.47e-05:  79%|████████████████████████████████▍        |  ETA: 0:01:50\u001b[39m"
     ]
    },
    {
     "data": {
      "text/plain": [
       "3.467891f-5"
      ]
     },
     "metadata": {},
     "output_type": "display_data"
    },
    {
     "name": "stderr",
     "output_type": "stream",
     "text": [
      "\u001b[32mloss: 3.45e-05:  79%|████████████████████████████████▌        |  ETA: 0:01:47\u001b[39m"
     ]
    },
    {
     "data": {
      "text/plain": [
       "3.4383367f-5"
      ]
     },
     "metadata": {},
     "output_type": "display_data"
    },
    {
     "name": "stderr",
     "output_type": "stream",
     "text": [
      "\u001b[32mloss: 3.42e-05:  80%|████████████████████████████████▊        |  ETA: 0:01:45\u001b[39m"
     ]
    },
    {
     "data": {
      "text/plain": [
       "3.4175042f-5"
      ]
     },
     "metadata": {},
     "output_type": "display_data"
    },
    {
     "name": "stderr",
     "output_type": "stream",
     "text": [
      "\u001b[32mloss: 3.4e-05:  80%|████████████████████████████████▉        |  ETA: 0:01:43\u001b[39mm"
     ]
    },
    {
     "data": {
      "text/plain": [
       "3.3898075f-5"
      ]
     },
     "metadata": {},
     "output_type": "display_data"
    },
    {
     "name": "stderr",
     "output_type": "stream",
     "text": [
      "\u001b[32mloss: 3.37e-05:  81%|█████████████████████████████████        |  ETA: 0:01:41\u001b[39m"
     ]
    },
    {
     "data": {
      "text/plain": [
       "3.3666263f-5"
      ]
     },
     "metadata": {},
     "output_type": "display_data"
    },
    {
     "name": "stderr",
     "output_type": "stream",
     "text": [
      "\u001b[32mloss: 3.35e-05:  81%|█████████████████████████████████▎       |  ETA: 0:01:39\u001b[39m"
     ]
    },
    {
     "data": {
      "text/plain": [
       "3.3412594f-5"
      ]
     },
     "metadata": {},
     "output_type": "display_data"
    },
    {
     "name": "stderr",
     "output_type": "stream",
     "text": [
      "\u001b[32mloss: 3.32e-05:  81%|█████████████████████████████████▍       |  ETA: 0:01:37\u001b[39m"
     ]
    },
    {
     "data": {
      "text/plain": [
       "3.3180655f-5"
      ]
     },
     "metadata": {},
     "output_type": "display_data"
    },
    {
     "name": "stderr",
     "output_type": "stream",
     "text": [
      "\u001b[32mloss: 3.3e-05:  82%|█████████████████████████████████▌       |  ETA: 0:01:34\u001b[39mm"
     ]
    },
    {
     "data": {
      "text/plain": [
       "3.2931744f-5"
      ]
     },
     "metadata": {},
     "output_type": "display_data"
    },
    {
     "name": "stderr",
     "output_type": "stream",
     "text": [
      "\u001b[32mloss: 3.28e-05:  82%|█████████████████████████████████▋       |  ETA: 0:01:33\u001b[39m"
     ]
    },
    {
     "data": {
      "text/plain": [
       "3.27547f-5"
      ]
     },
     "metadata": {},
     "output_type": "display_data"
    },
    {
     "name": "stderr",
     "output_type": "stream",
     "text": [
      "\u001b[32mloss: 3.26e-05:  82%|█████████████████████████████████▉       |  ETA: 0:01:31\u001b[39m"
     ]
    },
    {
     "data": {
      "text/plain": [
       "3.252335f-5"
      ]
     },
     "metadata": {},
     "output_type": "display_data"
    },
    {
     "name": "stderr",
     "output_type": "stream",
     "text": [
      "\u001b[32mloss: 3.23e-05:  83%|██████████████████████████████████       |  ETA: 0:01:29\u001b[39m"
     ]
    },
    {
     "data": {
      "text/plain": [
       "3.2289787f-5"
      ]
     },
     "metadata": {},
     "output_type": "display_data"
    },
    {
     "name": "stderr",
     "output_type": "stream",
     "text": [
      "\u001b[32mloss: 3.21e-05:  83%|██████████████████████████████████▏      |  ETA: 0:01:26\u001b[39m"
     ]
    },
    {
     "data": {
      "text/plain": [
       "3.2062337f-5"
      ]
     },
     "metadata": {},
     "output_type": "display_data"
    },
    {
     "name": "stderr",
     "output_type": "stream",
     "text": [
      "\u001b[32mloss: 3.19e-05:  84%|██████████████████████████████████▍      |  ETA: 0:01:24\u001b[39m"
     ]
    },
    {
     "data": {
      "text/plain": [
       "3.186629f-5"
      ]
     },
     "metadata": {},
     "output_type": "display_data"
    },
    {
     "name": "stderr",
     "output_type": "stream",
     "text": [
      "\u001b[32mloss: 3.18e-05:  84%|██████████████████████████████████▌      |  ETA: 0:01:22\u001b[39m"
     ]
    },
    {
     "data": {
      "text/plain": [
       "3.1900414f-5"
      ]
     },
     "metadata": {},
     "output_type": "display_data"
    },
    {
     "name": "stderr",
     "output_type": "stream",
     "text": [
      "\u001b[32mloss: 3.31e-05:  84%|██████████████████████████████████▋      |  ETA: 0:01:20\u001b[39m"
     ]
    },
    {
     "data": {
      "text/plain": [
       "3.436928f-5"
      ]
     },
     "metadata": {},
     "output_type": "display_data"
    },
    {
     "name": "stderr",
     "output_type": "stream",
     "text": [
      "\u001b[32mloss: 4.16e-05:  85%|██████████████████████████████████▊      |  ETA: 0:01:18\u001b[39m"
     ]
    },
    {
     "data": {
      "text/plain": [
       "5.0358474f-5"
      ]
     },
     "metadata": {},
     "output_type": "display_data"
    },
    {
     "name": "stderr",
     "output_type": "stream",
     "text": [
      "\u001b[32mloss: 0.000122:  85%|██████████████████████████████████▉      |  ETA: 0:01:16\u001b[39m"
     ]
    },
    {
     "data": {
      "text/plain": [
       "0.0001418487f0"
      ]
     },
     "metadata": {},
     "output_type": "display_data"
    },
    {
     "name": "stderr",
     "output_type": "stream",
     "text": [
      "\u001b[32mloss: 3.33e-05:  86%|███████████████████████████████████▏     |  ETA: 0:01:14\u001b[39m"
     ]
    },
    {
     "data": {
      "text/plain": [
       "4.3154712f-5"
      ]
     },
     "metadata": {},
     "output_type": "display_data"
    },
    {
     "name": "stderr",
     "output_type": "stream",
     "text": [
      "\u001b[32mloss: 5.11e-05:  86%|███████████████████████████████████▎     |  ETA: 0:01:12\u001b[39m"
     ]
    },
    {
     "data": {
      "text/plain": [
       "3.1058316f-5"
      ]
     },
     "metadata": {},
     "output_type": "display_data"
    },
    {
     "name": "stderr",
     "output_type": "stream",
     "text": [
      "\u001b[32mloss: 5.2e-05:  86%|███████████████████████████████████▍     |  ETA: 0:01:10\u001b[39mm"
     ]
    },
    {
     "data": {
      "text/plain": [
       "3.296392f-5"
      ]
     },
     "metadata": {},
     "output_type": "display_data"
    },
    {
     "name": "stderr",
     "output_type": "stream",
     "text": [
      "\u001b[32mloss: 4.7e-05:  87%|███████████████████████████████████▋     |  ETA: 0:01:08\u001b[39mm"
     ]
    },
    {
     "data": {
      "text/plain": [
       "3.383782f-5"
      ]
     },
     "metadata": {},
     "output_type": "display_data"
    },
    {
     "name": "stderr",
     "output_type": "stream",
     "text": [
      "\u001b[32mloss: 4.21e-05:  87%|███████████████████████████████████▊     |  ETA: 0:01:06\u001b[39m"
     ]
    },
    {
     "data": {
      "text/plain": [
       "3.3731154f-5"
      ]
     },
     "metadata": {},
     "output_type": "display_data"
    },
    {
     "name": "stderr",
     "output_type": "stream",
     "text": [
      "\u001b[32mloss: 3.84e-05:  88%|███████████████████████████████████▉     |  ETA: 0:01:04\u001b[39m"
     ]
    },
    {
     "data": {
      "text/plain": [
       "3.33429f-5"
      ]
     },
     "metadata": {},
     "output_type": "display_data"
    },
    {
     "name": "stderr",
     "output_type": "stream",
     "text": [
      "\u001b[32mloss: 3.56e-05:  88%|████████████████████████████████████▏    |  ETA: 0:01:02\u001b[39m"
     ]
    },
    {
     "data": {
      "text/plain": [
       "3.290326f-5"
      ]
     },
     "metadata": {},
     "output_type": "display_data"
    },
    {
     "name": "stderr",
     "output_type": "stream",
     "text": [
      "\u001b[32mloss: 3.34e-05:  88%|████████████████████████████████████▎    |  ETA: 0:00:59\u001b[39m"
     ]
    },
    {
     "data": {
      "text/plain": [
       "3.2401305f-5"
      ]
     },
     "metadata": {},
     "output_type": "display_data"
    },
    {
     "name": "stderr",
     "output_type": "stream",
     "text": [
      "\u001b[32mloss: 3.17e-05:  89%|████████████████████████████████████▍    |  ETA: 0:00:57\u001b[39m"
     ]
    },
    {
     "data": {
      "text/plain": [
       "3.1770327f-5"
      ]
     },
     "metadata": {},
     "output_type": "display_data"
    },
    {
     "name": "stderr",
     "output_type": "stream",
     "text": [
      "\u001b[32mloss: 3.05e-05:  89%|████████████████████████████████████▋    |  ETA: 0:00:55\u001b[39m"
     ]
    },
    {
     "data": {
      "text/plain": [
       "3.0993087f-5"
      ]
     },
     "metadata": {},
     "output_type": "display_data"
    },
    {
     "name": "stderr",
     "output_type": "stream",
     "text": [
      "\u001b[32mloss: 2.97e-05:  90%|████████████████████████████████████▊    |  ETA: 0:00:53\u001b[39m"
     ]
    },
    {
     "data": {
      "text/plain": [
       "3.0164145f-5"
      ]
     },
     "metadata": {},
     "output_type": "display_data"
    },
    {
     "name": "stderr",
     "output_type": "stream",
     "text": [
      "\u001b[32mloss: 2.93e-05:  90%|████████████████████████████████████▉    |  ETA: 0:00:51\u001b[39m"
     ]
    },
    {
     "data": {
      "text/plain": [
       "2.947401f-5"
      ]
     },
     "metadata": {},
     "output_type": "display_data"
    },
    {
     "name": "stderr",
     "output_type": "stream",
     "text": [
      "\u001b[32mloss: 2.96e-05:  90%|█████████████████████████████████████    |  ETA: 0:00:50\u001b[39m"
     ]
    },
    {
     "data": {
      "text/plain": [
       "2.9250243f-5"
      ]
     },
     "metadata": {},
     "output_type": "display_data"
    },
    {
     "name": "stderr",
     "output_type": "stream",
     "text": [
      "\u001b[32mloss: 2.92e-05:  91%|█████████████████████████████████████▏   |  ETA: 0:00:48\u001b[39m"
     ]
    },
    {
     "data": {
      "text/plain": [
       "2.931909f-5"
      ]
     },
     "metadata": {},
     "output_type": "display_data"
    },
    {
     "name": "stderr",
     "output_type": "stream",
     "text": [
      "\u001b[32mloss: 2.89e-05:  91%|█████████████████████████████████████▎   |  ETA: 0:00:46\u001b[39m"
     ]
    },
    {
     "data": {
      "text/plain": [
       "2.8891163f-5"
      ]
     },
     "metadata": {},
     "output_type": "display_data"
    },
    {
     "name": "stderr",
     "output_type": "stream",
     "text": [
      "\u001b[32mloss: 2.89e-05:  91%|█████████████████████████████████████▍   |  ETA: 0:00:44\u001b[39m"
     ]
    },
    {
     "data": {
      "text/plain": [
       "2.8724631f-5"
      ]
     },
     "metadata": {},
     "output_type": "display_data"
    },
    {
     "name": "stderr",
     "output_type": "stream",
     "text": [
      "\u001b[32mloss: 2.86e-05:  92%|█████████████████████████████████████▋   |  ETA: 0:00:42\u001b[39m"
     ]
    },
    {
     "data": {
      "text/plain": [
       "2.8586448f-5"
      ]
     },
     "metadata": {},
     "output_type": "display_data"
    },
    {
     "name": "stderr",
     "output_type": "stream",
     "text": [
      "\u001b[32mloss: 2.84e-05:  92%|█████████████████████████████████████▊   |  ETA: 0:00:41\u001b[39m"
     ]
    },
    {
     "data": {
      "text/plain": [
       "2.8330389f-5"
      ]
     },
     "metadata": {},
     "output_type": "display_data"
    },
    {
     "name": "stderr",
     "output_type": "stream",
     "text": [
      "\u001b[32mloss: 2.83e-05:  92%|█████████████████████████████████████▉   |  ETA: 0:00:39\u001b[39m"
     ]
    },
    {
     "data": {
      "text/plain": [
       "2.8240778f-5"
      ]
     },
     "metadata": {},
     "output_type": "display_data"
    },
    {
     "name": "stderr",
     "output_type": "stream",
     "text": [
      "\u001b[32mloss: 2.81e-05:  93%|██████████████████████████████████████   |  ETA: 0:00:38\u001b[39m"
     ]
    },
    {
     "data": {
      "text/plain": [
       "2.8047189f-5"
      ]
     },
     "metadata": {},
     "output_type": "display_data"
    },
    {
     "name": "stderr",
     "output_type": "stream",
     "text": [
      "\u001b[32mloss: 2.8e-05:  93%|██████████████████████████████████████▏  |  ETA: 0:00:36\u001b[39m"
     ]
    },
    {
     "data": {
      "text/plain": [
       "2.7940174f-5"
      ]
     },
     "metadata": {},
     "output_type": "display_data"
    },
    {
     "name": "stderr",
     "output_type": "stream",
     "text": [
      "\u001b[32mloss: 2.78e-05:  93%|██████████████████████████████████████▎  |  ETA: 0:00:35\u001b[39m"
     ]
    },
    {
     "data": {
      "text/plain": [
       "2.7768434f-5"
      ]
     },
     "metadata": {},
     "output_type": "display_data"
    },
    {
     "name": "stderr",
     "output_type": "stream",
     "text": [
      "\u001b[32mloss: 2.77e-05:  94%|██████████████████████████████████████▍  |  ETA: 0:00:33\u001b[39m"
     ]
    },
    {
     "data": {
      "text/plain": [
       "2.7650622f-5"
      ]
     },
     "metadata": {},
     "output_type": "display_data"
    },
    {
     "name": "stderr",
     "output_type": "stream",
     "text": [
      "\u001b[32mloss: 2.75e-05:  94%|██████████████████████████████████████▌  |  ETA: 0:00:32\u001b[39m"
     ]
    },
    {
     "data": {
      "text/plain": [
       "2.7493123f-5"
      ]
     },
     "metadata": {},
     "output_type": "display_data"
    },
    {
     "name": "stderr",
     "output_type": "stream",
     "text": [
      "\u001b[32mloss: 2.74e-05:  94%|██████████████████████████████████████▋  |  ETA: 0:00:30\u001b[39m"
     ]
    },
    {
     "data": {
      "text/plain": [
       "2.7368515f-5"
      ]
     },
     "metadata": {},
     "output_type": "display_data"
    },
    {
     "name": "stderr",
     "output_type": "stream",
     "text": [
      "\u001b[32mloss: 2.73e-05:  94%|██████████████████████████████████████▊  |  ETA: 0:00:29\u001b[39m"
     ]
    },
    {
     "data": {
      "text/plain": [
       "2.7228283f-5"
      ]
     },
     "metadata": {},
     "output_type": "display_data"
    },
    {
     "name": "stderr",
     "output_type": "stream",
     "text": [
      "\u001b[32mloss: 2.71e-05:  95%|██████████████████████████████████████▉  |  ETA: 0:00:27\u001b[39m"
     ]
    },
    {
     "data": {
      "text/plain": [
       "2.7089438f-5"
      ]
     },
     "metadata": {},
     "output_type": "display_data"
    },
    {
     "name": "stderr",
     "output_type": "stream",
     "text": [
      "\u001b[32mloss: 2.7e-05:  95%|███████████████████████████████████████  |  ETA: 0:00:26\u001b[39mm"
     ]
    },
    {
     "data": {
      "text/plain": [
       "2.6961628f-5"
      ]
     },
     "metadata": {},
     "output_type": "display_data"
    },
    {
     "name": "stderr",
     "output_type": "stream",
     "text": [
      "\u001b[32mloss: 2.69e-05:  95%|███████████████████████████████████████▏ |  ETA: 0:00:24\u001b[39m"
     ]
    },
    {
     "data": {
      "text/plain": [
       "2.6825872f-5"
      ]
     },
     "metadata": {},
     "output_type": "display_data"
    },
    {
     "name": "stderr",
     "output_type": "stream",
     "text": [
      "\u001b[32mloss: 2.67e-05:  96%|███████████████████████████████████████▎ |  ETA: 0:00:22\u001b[39m"
     ]
    },
    {
     "data": {
      "text/plain": [
       "2.6647884f-5"
      ]
     },
     "metadata": {},
     "output_type": "display_data"
    },
    {
     "name": "stderr",
     "output_type": "stream",
     "text": [
      "\u001b[32mloss: 2.66e-05:  96%|███████████████████████████████████████▍ |  ETA: 0:00:21\u001b[39m"
     ]
    },
    {
     "data": {
      "text/plain": [
       "2.6519461f-5"
      ]
     },
     "metadata": {},
     "output_type": "display_data"
    },
    {
     "name": "stderr",
     "output_type": "stream",
     "text": [
      "\u001b[32mloss: 2.64e-05:  96%|███████████████████████████████████████▌ |  ETA: 0:00:19\u001b[39m"
     ]
    },
    {
     "data": {
      "text/plain": [
       "2.6390215f-5"
      ]
     },
     "metadata": {},
     "output_type": "display_data"
    },
    {
     "name": "stderr",
     "output_type": "stream",
     "text": [
      "\u001b[32mloss: 2.63e-05:  97%|███████████████████████████████████████▋ |  ETA: 0:00:18\u001b[39m"
     ]
    },
    {
     "data": {
      "text/plain": [
       "2.6260534f-5"
      ]
     },
     "metadata": {},
     "output_type": "display_data"
    },
    {
     "name": "stderr",
     "output_type": "stream",
     "text": [
      "\u001b[32mloss: 2.62e-05:  97%|███████████████████████████████████████▊ |  ETA: 0:00:16\u001b[39m"
     ]
    },
    {
     "data": {
      "text/plain": [
       "2.6131498f-5"
      ]
     },
     "metadata": {},
     "output_type": "display_data"
    },
    {
     "name": "stderr",
     "output_type": "stream",
     "text": [
      "\u001b[32mloss: 2.6e-05:  97%|███████████████████████████████████████▉ |  ETA: 0:00:14\u001b[39mm"
     ]
    },
    {
     "data": {
      "text/plain": [
       "2.6003789f-5"
      ]
     },
     "metadata": {},
     "output_type": "display_data"
    },
    {
     "name": "stderr",
     "output_type": "stream",
     "text": [
      "\u001b[32mloss: 2.59e-05:  98%|████████████████████████████████████████ |  ETA: 0:00:13\u001b[39m"
     ]
    },
    {
     "data": {
      "text/plain": [
       "2.5878035f-5"
      ]
     },
     "metadata": {},
     "output_type": "display_data"
    },
    {
     "name": "stderr",
     "output_type": "stream",
     "text": [
      "\u001b[32mloss: 2.58e-05:  98%|████████████████████████████████████████▏|  ETA: 0:00:11\u001b[39m"
     ]
    },
    {
     "data": {
      "text/plain": [
       "2.5755944f-5"
      ]
     },
     "metadata": {},
     "output_type": "display_data"
    },
    {
     "name": "stderr",
     "output_type": "stream",
     "text": [
      "\u001b[32mloss: 2.57e-05:  98%|████████████████████████████████████████▎|  ETA: 0:00:10\u001b[39m"
     ]
    },
    {
     "data": {
      "text/plain": [
       "2.5646927f-5"
      ]
     },
     "metadata": {},
     "output_type": "display_data"
    },
    {
     "name": "stderr",
     "output_type": "stream",
     "text": [
      "\u001b[32mloss: 2.56e-05:  98%|████████████████████████████████████████▍|  ETA: 0:00:08\u001b[39m"
     ]
    },
    {
     "data": {
      "text/plain": [
       "2.5605405f-5"
      ]
     },
     "metadata": {},
     "output_type": "display_data"
    },
    {
     "name": "stderr",
     "output_type": "stream",
     "text": [
      "\u001b[32mloss: 2.57e-05:  99%|████████████████████████████████████████▌|  ETA: 0:00:07\u001b[39m"
     ]
    },
    {
     "data": {
      "text/plain": [
       "2.5979532f-5"
      ]
     },
     "metadata": {},
     "output_type": "display_data"
    },
    {
     "name": "stderr",
     "output_type": "stream",
     "text": [
      "\u001b[32mloss: 2.74e-05:  99%|████████████████████████████████████████▋|  ETA: 0:00:05\u001b[39m"
     ]
    },
    {
     "data": {
      "text/plain": [
       "2.9321247f-5"
      ]
     },
     "metadata": {},
     "output_type": "display_data"
    },
    {
     "name": "stderr",
     "output_type": "stream",
     "text": [
      "\u001b[32mloss: 5.49e-05:  99%|████████████████████████████████████████▊|  ETA: 0:00:03\u001b[39m"
     ]
    },
    {
     "data": {
      "text/plain": [
       "8.0588456f-5"
      ]
     },
     "metadata": {},
     "output_type": "display_data"
    },
    {
     "name": "stderr",
     "output_type": "stream",
     "text": [
      "\u001b[32mloss: 0.000166: 100%|████████████████████████████████████████▉|  ETA: 0:00:02\u001b[39m"
     ]
    },
    {
     "data": {
      "text/plain": [
       "0.00018258273f0"
      ]
     },
     "metadata": {},
     "output_type": "display_data"
    },
    {
     "name": "stderr",
     "output_type": "stream",
     "text": [
      "\u001b[32mloss: 5.15e-05: 100%|█████████████████████████████████████████| Time: 0:08:38\u001b[39m\n"
     ]
    },
    {
     "data": {
      "text/plain": [
       "2.5602874f-5"
      ]
     },
     "metadata": {},
     "output_type": "display_data"
    },
    {
     "data": {
      "text/plain": [
       " * Status: failure (reached maximum number of iterations)\n",
       "\n",
       " * Candidate solution\n",
       "    Minimizer: [9.89e-02, 6.73e-02, 9.42e-03,  ...]\n",
       "    Minimum:   5.153166e-05\n",
       "\n",
       " * Found with\n",
       "    Algorithm:     ADAM\n",
       "    Initial Point: [9.89e-02, 6.73e-02, 9.42e-03,  ...]\n",
       "\n",
       " * Convergence measures\n",
       "    |x - x'|               = NaN ≰ 0.0e+00\n",
       "    |x - x'|/|x'|          = NaN ≰ 0.0e+00\n",
       "    |f(x) - f(x')|         = NaN ≰ 0.0e+00\n",
       "    |f(x) - f(x')|/|f(x')| = NaN ≰ 0.0e+00\n",
       "    |g(x)|                 = NaN ≰ 0.0e+00\n",
       "\n",
       " * Work counters\n",
       "    Seconds run:   520  (vs limit Inf)\n",
       "    Iterations:    1000\n",
       "    f(x) calls:    1000\n",
       "    ∇f(x) calls:   1000\n"
      ]
     },
     "execution_count": 38,
     "metadata": {},
     "output_type": "execute_result"
    }
   ],
   "source": [
    "#res = DiffEqFlux.sciml_train(loss_node, node.p, ADAM(), dataset, cb=cb, maxiters=100)\n",
    "res = DiffEqFlux.sciml_train(loss_node, node.p, ADAM(), cb=Flux.throttle(cb, 1), maxiters=1000)"
   ]
  },
  {
   "cell_type": "code",
   "execution_count": null,
   "metadata": {
    "scrolled": true
   },
   "outputs": [],
   "source": [
    "#res = DiffEqFlux.sciml_train(loss_node, res.minimizer, ADAM(), dataset, cb=Flux.throttle(cb, 1), maxiters=1000)\n",
    "res = DiffEqFlux.sciml_train(loss_node, res.minimizer, ADAM(), cb=Flux.throttle(cb, 1), maxiters=1000)"
   ]
  },
  {
   "cell_type": "code",
   "execution_count": 77,
   "metadata": {},
   "outputs": [
    {
     "data": {
      "text/plain": [
       "2.7505059f-5"
      ]
     },
     "metadata": {},
     "output_type": "display_data"
    },
    {
     "data": {
      "text/plain": [
       "2.5261848f-5"
      ]
     },
     "metadata": {},
     "output_type": "display_data"
    },
    {
     "data": {
      "text/plain": [
       "2.5125444f-5"
      ]
     },
     "metadata": {},
     "output_type": "display_data"
    },
    {
     "data": {
      "text/plain": [
       "2.5108217f-5"
      ]
     },
     "metadata": {},
     "output_type": "display_data"
    },
    {
     "data": {
      "text/plain": [
       "2.5107085f-5"
      ]
     },
     "metadata": {},
     "output_type": "display_data"
    },
    {
     "data": {
      "text/plain": [
       "2.5106376f-5"
      ]
     },
     "metadata": {},
     "output_type": "display_data"
    },
    {
     "data": {
      "text/plain": [
       "2.5091309f-5"
      ]
     },
     "metadata": {},
     "output_type": "display_data"
    },
    {
     "data": {
      "text/plain": [
       "2.5021587f-5"
      ]
     },
     "metadata": {},
     "output_type": "display_data"
    },
    {
     "data": {
      "text/plain": [
       "2.5010315f-5"
      ]
     },
     "metadata": {},
     "output_type": "display_data"
    },
    {
     "data": {
      "text/plain": [
       "2.4998393f-5"
      ]
     },
     "metadata": {},
     "output_type": "display_data"
    },
    {
     "data": {
      "text/plain": [
       "2.491719f-5"
      ]
     },
     "metadata": {},
     "output_type": "display_data"
    },
    {
     "data": {
      "text/plain": [
       "2.4896297f-5"
      ]
     },
     "metadata": {},
     "output_type": "display_data"
    },
    {
     "data": {
      "text/plain": [
       "2.489218f-5"
      ]
     },
     "metadata": {},
     "output_type": "display_data"
    },
    {
     "data": {
      "text/plain": [
       "2.4881672f-5"
      ]
     },
     "metadata": {},
     "output_type": "display_data"
    },
    {
     "data": {
      "text/plain": [
       "2.4724848f-5"
      ]
     },
     "metadata": {},
     "output_type": "display_data"
    },
    {
     "data": {
      "text/plain": [
       "2.4657655f-5"
      ]
     },
     "metadata": {},
     "output_type": "display_data"
    },
    {
     "data": {
      "text/plain": [
       "2.4639392f-5"
      ]
     },
     "metadata": {},
     "output_type": "display_data"
    },
    {
     "data": {
      "text/plain": [
       "2.4636383f-5"
      ]
     },
     "metadata": {},
     "output_type": "display_data"
    },
    {
     "data": {
      "text/plain": [
       "2.461237f-5"
      ]
     },
     "metadata": {},
     "output_type": "display_data"
    },
    {
     "data": {
      "text/plain": [
       "2.4563975f-5"
      ]
     },
     "metadata": {},
     "output_type": "display_data"
    },
    {
     "data": {
      "text/plain": [
       "2.4561123f-5"
      ]
     },
     "metadata": {},
     "output_type": "display_data"
    },
    {
     "data": {
      "text/plain": [
       "2.4558585f-5"
      ]
     },
     "metadata": {},
     "output_type": "display_data"
    },
    {
     "data": {
      "text/plain": [
       "2.4509052f-5"
      ]
     },
     "metadata": {},
     "output_type": "display_data"
    },
    {
     "data": {
      "text/plain": [
       "2.4332632f-5"
      ]
     },
     "metadata": {},
     "output_type": "display_data"
    },
    {
     "data": {
      "text/plain": [
       "2.4314202f-5"
      ]
     },
     "metadata": {},
     "output_type": "display_data"
    },
    {
     "data": {
      "text/plain": [
       "2.42915f-5"
      ]
     },
     "metadata": {},
     "output_type": "display_data"
    },
    {
     "data": {
      "text/plain": [
       "2.425595f-5"
      ]
     },
     "metadata": {},
     "output_type": "display_data"
    },
    {
     "data": {
      "text/plain": [
       "2.4144743f-5"
      ]
     },
     "metadata": {},
     "output_type": "display_data"
    },
    {
     "data": {
      "text/plain": [
       "2.3966497f-5"
      ]
     },
     "metadata": {},
     "output_type": "display_data"
    },
    {
     "data": {
      "text/plain": [
       "2.3925153f-5"
      ]
     },
     "metadata": {},
     "output_type": "display_data"
    },
    {
     "data": {
      "text/plain": [
       "2.3813187f-5"
      ]
     },
     "metadata": {},
     "output_type": "display_data"
    },
    {
     "data": {
      "text/plain": [
       "2.2128948f-5"
      ]
     },
     "metadata": {},
     "output_type": "display_data"
    },
    {
     "data": {
      "text/plain": [
       "2.1430416f-5"
      ]
     },
     "metadata": {},
     "output_type": "display_data"
    },
    {
     "data": {
      "text/plain": [
       "2.1388232f-5"
      ]
     },
     "metadata": {},
     "output_type": "display_data"
    },
    {
     "data": {
      "text/plain": [
       "2.1138963f-5"
      ]
     },
     "metadata": {},
     "output_type": "display_data"
    },
    {
     "data": {
      "text/plain": [
       "2.0930196f-5"
      ]
     },
     "metadata": {},
     "output_type": "display_data"
    },
    {
     "data": {
      "text/plain": [
       "2.0671374f-5"
      ]
     },
     "metadata": {},
     "output_type": "display_data"
    },
    {
     "data": {
      "text/plain": [
       "2.0591733f-5"
      ]
     },
     "metadata": {},
     "output_type": "display_data"
    },
    {
     "data": {
      "text/plain": [
       "2.0550551f-5"
      ]
     },
     "metadata": {},
     "output_type": "display_data"
    },
    {
     "data": {
      "text/plain": [
       "2.0500378f-5"
      ]
     },
     "metadata": {},
     "output_type": "display_data"
    },
    {
     "data": {
      "text/plain": [
       "2.0433092f-5"
      ]
     },
     "metadata": {},
     "output_type": "display_data"
    },
    {
     "data": {
      "text/plain": [
       "2.0280453f-5"
      ]
     },
     "metadata": {},
     "output_type": "display_data"
    },
    {
     "data": {
      "text/plain": [
       "2.0115891f-5"
      ]
     },
     "metadata": {},
     "output_type": "display_data"
    },
    {
     "data": {
      "text/plain": [
       "2.0073025f-5"
      ]
     },
     "metadata": {},
     "output_type": "display_data"
    },
    {
     "data": {
      "text/plain": [
       "2.0045398f-5"
      ]
     },
     "metadata": {},
     "output_type": "display_data"
    },
    {
     "data": {
      "text/plain": [
       "1.998879f-5"
      ]
     },
     "metadata": {},
     "output_type": "display_data"
    },
    {
     "data": {
      "text/plain": [
       "1.997186f-5"
      ]
     },
     "metadata": {},
     "output_type": "display_data"
    },
    {
     "data": {
      "text/plain": [
       "1.9953559f-5"
      ]
     },
     "metadata": {},
     "output_type": "display_data"
    },
    {
     "data": {
      "text/plain": [
       "1.9855552f-5"
      ]
     },
     "metadata": {},
     "output_type": "display_data"
    },
    {
     "data": {
      "text/plain": [
       "1.9732226f-5"
      ]
     },
     "metadata": {},
     "output_type": "display_data"
    },
    {
     "data": {
      "text/plain": [
       "1.971037f-5"
      ]
     },
     "metadata": {},
     "output_type": "display_data"
    },
    {
     "data": {
      "text/plain": [
       "1.967701f-5"
      ]
     },
     "metadata": {},
     "output_type": "display_data"
    },
    {
     "data": {
      "text/plain": [
       "1.9482068f-5"
      ]
     },
     "metadata": {},
     "output_type": "display_data"
    },
    {
     "data": {
      "text/plain": [
       "1.9224313f-5"
      ]
     },
     "metadata": {},
     "output_type": "display_data"
    },
    {
     "data": {
      "text/plain": [
       "1.9085639f-5"
      ]
     },
     "metadata": {},
     "output_type": "display_data"
    },
    {
     "data": {
      "text/plain": [
       "1.8779005f-5"
      ]
     },
     "metadata": {},
     "output_type": "display_data"
    },
    {
     "data": {
      "text/plain": [
       "1.852987f-5"
      ]
     },
     "metadata": {},
     "output_type": "display_data"
    },
    {
     "data": {
      "text/plain": [
       "1.8510584f-5"
      ]
     },
     "metadata": {},
     "output_type": "display_data"
    },
    {
     "data": {
      "text/plain": [
       "1.8503404f-5"
      ]
     },
     "metadata": {},
     "output_type": "display_data"
    },
    {
     "data": {
      "text/plain": [
       "1.846265f-5"
      ]
     },
     "metadata": {},
     "output_type": "display_data"
    },
    {
     "data": {
      "text/plain": [
       "1.8337316f-5"
      ]
     },
     "metadata": {},
     "output_type": "display_data"
    },
    {
     "data": {
      "text/plain": [
       "1.8300965f-5"
      ]
     },
     "metadata": {},
     "output_type": "display_data"
    },
    {
     "data": {
      "text/plain": [
       "1.828151f-5"
      ]
     },
     "metadata": {},
     "output_type": "display_data"
    },
    {
     "data": {
      "text/plain": [
       "1.8214461f-5"
      ]
     },
     "metadata": {},
     "output_type": "display_data"
    },
    {
     "data": {
      "text/plain": [
       "1.8102613f-5"
      ]
     },
     "metadata": {},
     "output_type": "display_data"
    },
    {
     "data": {
      "text/plain": [
       "1.8065164f-5"
      ]
     },
     "metadata": {},
     "output_type": "display_data"
    },
    {
     "data": {
      "text/plain": [
       "1.7993858f-5"
      ]
     },
     "metadata": {},
     "output_type": "display_data"
    },
    {
     "data": {
      "text/plain": [
       " * Status: failure\n",
       "\n",
       " * Candidate solution\n",
       "    Minimizer: [9.89e-02, 6.73e-02, 9.42e-03,  ...]\n",
       "    Minimum:   1.799386e-05\n",
       "\n",
       " * Found with\n",
       "    Algorithm:     L-BFGS\n",
       "    Initial Point: [9.89e-02, 6.73e-02, 9.42e-03,  ...]\n",
       "\n",
       " * Convergence measures\n",
       "    |x - x'|               = 1.01e-03 ≰ 0.0e+00\n",
       "    |x - x'|/|x'|          = 2.44e-03 ≰ 0.0e+00\n",
       "    |f(x) - f(x')|         = 7.13e-08 ≰ 0.0e+00\n",
       "    |f(x) - f(x')|/|f(x')| = 3.96e-03 ≰ 0.0e+00\n",
       "    |g(x)|                 = 1.03e-04 ≰ 1.0e-08\n",
       "\n",
       " * Work counters\n",
       "    Seconds run:   84  (vs limit Inf)\n",
       "    Iterations:    66\n",
       "    f(x) calls:    202\n",
       "    ∇f(x) calls:   202\n"
      ]
     },
     "execution_count": 77,
     "metadata": {},
     "output_type": "execute_result"
    }
   ],
   "source": [
    "res = DiffEqFlux.sciml_train(loss_node, res.minimizer, LBFGS(), cb=cb, maxiters=200)"
   ]
  },
  {
   "cell_type": "code",
   "execution_count": 46,
   "metadata": {},
   "outputs": [
    {
     "data": {
      "text/plain": [
       "step_node! (generic function with 1 method)"
      ]
     },
     "execution_count": 46,
     "metadata": {},
     "output_type": "execute_result"
    }
   ],
   "source": [
    "function step_train!( fwL, ffL, w, prim, f, fwR, ffR,\n",
    "\t\t\t           γ, μ, ω, u, n_ode, p, dx, tRan, RES, AVG, datainit, dataset )\n",
    "    #--- record W^{n} ---#\n",
    "    w_old = deepcopy(w)\n",
    "    M = maxwellian(u, prim)\n",
    "\tτ = vhs_collision_time(prim, μ, ω)\n",
    "    \n",
    "    #--- update W^{n+1} ---#\n",
    "\t@. w += (fwL - fwR) / dx\n",
    "\tprim .= conserve_prim(w, γ)\n",
    "\n",
    "\t#--- record residuals ---#\n",
    "\t@. RES += (w - w_old)^2\n",
    "\t@. AVG += abs(w)\n",
    "\n",
    "    data = solve(ODEProblem(bgk!, f[1:end], tSpan, [M, τ]), Tsit5(), saveat=tRan) |> Array;\n",
    "    pred = n_ode(f[1:end], p) |> Array\n",
    "    loss = sum(abs2, pred .- data)\n",
    "\n",
    "    if loss <= 1.e-6\n",
    "        ftemp = n_ode(f[1:end], p).u[end]\n",
    "    \tfor i in eachindex(u)\n",
    "    \t\tf[i] = ftemp[i] + (ffL[i] - ffR[i]) / dx\n",
    "    \tend\n",
    "    else\n",
    "        for i in eachindex(u)\n",
    "    \t\tf[i] += (ffL[i] - ffR[i]) / dx + (M[i] - f[i]) / τ * tRan[end]\n",
    "    \tend\n",
    "        \n",
    "        #push!(datainit, f[1:end])\n",
    "        #push!(dataset, data)\n",
    "    end\n",
    "end\n",
    "\n",
    "function step_bgk!( fwL, ffL, w, prim, f, fwR, ffR,\n",
    "\t\t\t           γ, μ, ω, u, n_ode, p, dx, tRan, RES, AVG, datainit, dataset )\n",
    "    \n",
    "    #--- record W^{n} ---#\n",
    "    w_old = deepcopy(w)\n",
    "    prim_old = deepcopy(prim)\n",
    "    \n",
    "    #--- update W^{n+1} ---#\n",
    "\t@. w = w_old + (fwL - fwR) / dx\n",
    "\tprim .= conserve_prim(w, γ)\n",
    "\n",
    "\t#--- record residuals ---#\n",
    "\t@. RES += (w - w_old)^2\n",
    "\t@. AVG += abs(w)\n",
    "    \n",
    "    M = maxwellian(u, prim_old)\n",
    "\tτ = vhs_collision_time(prim_old, μ, ω)\n",
    "    \n",
    "    #ftemp = f .+ (M .- f) / τ * tRan[end]\n",
    "    prob = ODEProblem(bgk!, f[1:end], (0, tRan[end]), (M, τ))\n",
    "    ftemp = (solve(prob, Tsit5(), saveat=tRan) |> Array)[:,end]\n",
    "    \n",
    "    for i in eachindex(u)\n",
    "        f[i] = ftemp[i] + (ffL[i] - ffR[i]) / dx\n",
    "    end\n",
    "    \n",
    "end\n",
    "\n",
    "function step_node!( fwL, ffL, w, prim, f, fwR, ffR,\n",
    "\t\t\t           γ, μ, ω, u, n_ode, p, dx, tRan, RES, AVG, datainit, dataset )\n",
    "    \n",
    "    #--- record W^{n} ---#\n",
    "    w_old = deepcopy(w)\n",
    "    M = maxwellian(u, prim)\n",
    "\tτ = vhs_collision_time(prim, μ, ω)\n",
    "    \n",
    "    #--- update W^{n+1} ---#\n",
    "\t@. w += (fwL - fwR) / dx\n",
    "\tprim .= conserve_prim(w, γ)\n",
    "\n",
    "\t#--- record residuals ---#\n",
    "\t@. RES += (w - w_old)^2\n",
    "\t@. AVG += abs(w)\n",
    "\n",
    "    ftemp = n_ode(f[1:end], p).u[end]\n",
    "    for i in eachindex(u)\n",
    "        f[i] = ftemp[i] + (ffL[i] - ffR[i]) / dx\n",
    "    end\n",
    "\n",
    "end"
   ]
  },
  {
   "cell_type": "code",
   "execution_count": 104,
   "metadata": {},
   "outputs": [],
   "source": [
    "sumRes = zeros(Float32, axes(ib.wL))\n",
    "sumAvg = zeros(Float32, axes(ib.wL))\n",
    "for iter = 1:100\n",
    "\n",
    "    Kinetic.evolve!(ks, ctr, face, dt)\n",
    "#=\n",
    "    for i in 2:10\n",
    "        #step_train!( face[i].fw, face[i].ff, ctr[i].w, ctr[i].prim, ctr[i].f,\n",
    "        #             face[i+1].fw, face[i+1].ff, ks.gas.γ, ks.gas.μᵣ, ks.gas.ω, vSpace.u, n_ode, res.minimizer,\n",
    "        #             ctr[i].dx, tRan, sumRes, sumAvg, data_init, data_boltz )\n",
    "        step_node!( face[i].fw, face[i].ff, ctr[i].w, ctr[i].prim, ctr[i].f,\n",
    "                     face[i+1].fw, face[i+1].ff, ks.gas.γ, ks.gas.μᵣ, ks.gas.ω, vSpace.u, n_ode, res.minimizer,\n",
    "                     ctr[i].dx, tRan, sumRes, sumAvg, data_init, data_boltz )\n",
    "    end\n",
    "\n",
    "    for i in 2:35\n",
    "        #step_train!( face[i].fw, face[i].ff, ctr[i].w, ctr[i].prim, ctr[i].f,\n",
    "        #             face[i+1].fw, face[i+1].ff, ks.gas.γ, ks.gas.μᵣ, ks.gas.ω, vSpace.u, n_ode, res.minimizer,\n",
    "        #             ctr[i].dx, tRan, sumRes, sumAvg, data_init, data_boltz )\n",
    "        step_node!( face[i].fw, face[i].ff, ctr[i].w, ctr[i].prim, ctr[i].f,\n",
    "                     face[i+1].fw, face[i+1].ff, ks.gas.γ, ks.gas.μᵣ, ks.gas.ω, vSpace.u, node, res.minimizer,\n",
    "                     ctr[i].dx, tRan, sumRes, sumAvg, data_init, data_boltz )\n",
    "    end\n",
    "    =#\n",
    "    for i in 2:49\n",
    "        #step_train!( face[i].fw, face[i].ff, ctr[i].w, ctr[i].prim, ctr[i].f,\n",
    "        #             face[i+1].fw, face[i+1].ff, ks.gas.γ, ks.gas.μᵣ, ks.gas.ω, vSpace.u, n_ode, res.minimizer,\n",
    "        #             ctr[i].dx, tRan, sumRes, sumAvg, data_init, data_boltz )\n",
    "        step_bgk!( face[i].fw, face[i].ff, ctr[i].w, ctr[i].prim, ctr[i].f,\n",
    "                     face[i+1].fw, face[i+1].ff, ks.gas.γ, ks.gas.μᵣ, ks.gas.ω, vSpace.u, node, res.minimizer,\n",
    "                     ctr[i].dx, tRan, sumRes, sumAvg, data_init, data_boltz )\n",
    "    end\n",
    "\n",
    "end\n",
    "\n",
    "for iter = 1:010\n",
    "\n",
    "    Kinetic.evolve!(ks, ctr, face, dt)\n",
    "#=\n",
    "    for i in 2:10\n",
    "        #step_train!( face[i].fw, face[i].ff, ctr[i].w, ctr[i].prim, ctr[i].f,\n",
    "        #             face[i+1].fw, face[i+1].ff, ks.gas.γ, ks.gas.μᵣ, ks.gas.ω, vSpace.u, n_ode, res.minimizer,\n",
    "        #             ctr[i].dx, tRan, sumRes, sumAvg, data_init, data_boltz )\n",
    "        step_node!( face[i].fw, face[i].ff, ctr[i].w, ctr[i].prim, ctr[i].f,\n",
    "                     face[i+1].fw, face[i+1].ff, ks.gas.γ, ks.gas.μᵣ, ks.gas.ω, vSpace.u, n_ode, res.minimizer,\n",
    "                     ctr[i].dx, tRan, sumRes, sumAvg, data_init, data_boltz )\n",
    "    end\n",
    "\n",
    "    for i in 2:35\n",
    "        #step_train!( face[i].fw, face[i].ff, ctr[i].w, ctr[i].prim, ctr[i].f,\n",
    "        #             face[i+1].fw, face[i+1].ff, ks.gas.γ, ks.gas.μᵣ, ks.gas.ω, vSpace.u, n_ode, res.minimizer,\n",
    "        #             ctr[i].dx, tRan, sumRes, sumAvg, data_init, data_boltz )\n",
    "        step_node!( face[i].fw, face[i].ff, ctr[i].w, ctr[i].prim, ctr[i].f,\n",
    "                     face[i+1].fw, face[i+1].ff, ks.gas.γ, ks.gas.μᵣ, ks.gas.ω, vSpace.u, node, res.minimizer,\n",
    "                     ctr[i].dx, tRan, sumRes, sumAvg, data_init, data_boltz )\n",
    "    end\n",
    "    =#\n",
    "    for i in 2:49\n",
    "        #step_train!( face[i].fw, face[i].ff, ctr[i].w, ctr[i].prim, ctr[i].f,\n",
    "        #             face[i+1].fw, face[i+1].ff, ks.gas.γ, ks.gas.μᵣ, ks.gas.ω, vSpace.u, n_ode, res.minimizer,\n",
    "        #             ctr[i].dx, tRan, sumRes, sumAvg, data_init, data_boltz )\n",
    "        step_node!( face[i].fw, face[i].ff, ctr[i].w, ctr[i].prim, ctr[i].f,\n",
    "                     face[i+1].fw, face[i+1].ff, ks.gas.γ, ks.gas.μᵣ, ks.gas.ω, vSpace.u, node, res.minimizer,\n",
    "                     ctr[i].dx, tRan, sumRes, sumAvg, data_init, data_boltz )\n",
    "    end\n",
    "\n",
    "end"
   ]
  },
  {
   "cell_type": "code",
   "execution_count": 105,
   "metadata": {
    "scrolled": false
   },
   "outputs": [
    {
     "data": {
      "image/svg+xml": [
       "<?xml version=\"1.0\" encoding=\"utf-8\"?>\n",
       "<svg xmlns=\"http://www.w3.org/2000/svg\" xmlns:xlink=\"http://www.w3.org/1999/xlink\" width=\"600\" height=\"400\" viewBox=\"0 0 2400 1600\">\n",
       "<defs>\n",
       "  <clipPath id=\"clip9400\">\n",
       "    <rect x=\"0\" y=\"0\" width=\"2400\" height=\"1600\"/>\n",
       "  </clipPath>\n",
       "</defs>\n",
       "<path clip-path=\"url(#clip9400)\" d=\"\n",
       "M0 1600 L2400 1600 L2400 0 L0 0  Z\n",
       "  \" fill=\"#ffffff\" fill-rule=\"evenodd\" fill-opacity=\"1\"/>\n",
       "<defs>\n",
       "  <clipPath id=\"clip9401\">\n",
       "    <rect x=\"480\" y=\"0\" width=\"1681\" height=\"1600\"/>\n",
       "  </clipPath>\n",
       "</defs>\n",
       "<path clip-path=\"url(#clip9400)\" d=\"\n",
       "M153.898 1425.62 L2352.76 1425.62 L2352.76 47.2441 L153.898 47.2441  Z\n",
       "  \" fill=\"#ffffff\" fill-rule=\"evenodd\" fill-opacity=\"1\"/>\n",
       "<defs>\n",
       "  <clipPath id=\"clip9402\">\n",
       "    <rect x=\"153\" y=\"47\" width=\"2200\" height=\"1379\"/>\n",
       "  </clipPath>\n",
       "</defs>\n",
       "<polyline clip-path=\"url(#clip9402)\" style=\"stroke:#000000; stroke-width:2; stroke-opacity:0.1; fill:none\" points=\"\n",
       "  406.635,1425.62 406.635,47.2441 \n",
       "  \"/>\n",
       "<polyline clip-path=\"url(#clip9402)\" style=\"stroke:#000000; stroke-width:2; stroke-opacity:0.1; fill:none\" points=\"\n",
       "  829.981,1425.62 829.981,47.2441 \n",
       "  \"/>\n",
       "<polyline clip-path=\"url(#clip9402)\" style=\"stroke:#000000; stroke-width:2; stroke-opacity:0.1; fill:none\" points=\"\n",
       "  1253.33,1425.62 1253.33,47.2441 \n",
       "  \"/>\n",
       "<polyline clip-path=\"url(#clip9402)\" style=\"stroke:#000000; stroke-width:2; stroke-opacity:0.1; fill:none\" points=\"\n",
       "  1676.67,1425.62 1676.67,47.2441 \n",
       "  \"/>\n",
       "<polyline clip-path=\"url(#clip9402)\" style=\"stroke:#000000; stroke-width:2; stroke-opacity:0.1; fill:none\" points=\"\n",
       "  2100.02,1425.62 2100.02,47.2441 \n",
       "  \"/>\n",
       "<polyline clip-path=\"url(#clip9402)\" style=\"stroke:#000000; stroke-width:2; stroke-opacity:0.1; fill:none\" points=\"\n",
       "  153.898,1386.11 2352.76,1386.11 \n",
       "  \"/>\n",
       "<polyline clip-path=\"url(#clip9402)\" style=\"stroke:#000000; stroke-width:2; stroke-opacity:0.1; fill:none\" points=\"\n",
       "  153.898,1120.53 2352.76,1120.53 \n",
       "  \"/>\n",
       "<polyline clip-path=\"url(#clip9402)\" style=\"stroke:#000000; stroke-width:2; stroke-opacity:0.1; fill:none\" points=\"\n",
       "  153.898,854.951 2352.76,854.951 \n",
       "  \"/>\n",
       "<polyline clip-path=\"url(#clip9402)\" style=\"stroke:#000000; stroke-width:2; stroke-opacity:0.1; fill:none\" points=\"\n",
       "  153.898,589.373 2352.76,589.373 \n",
       "  \"/>\n",
       "<polyline clip-path=\"url(#clip9402)\" style=\"stroke:#000000; stroke-width:2; stroke-opacity:0.1; fill:none\" points=\"\n",
       "  153.898,323.796 2352.76,323.796 \n",
       "  \"/>\n",
       "<polyline clip-path=\"url(#clip9402)\" style=\"stroke:#000000; stroke-width:2; stroke-opacity:0.1; fill:none\" points=\"\n",
       "  153.898,58.2186 2352.76,58.2186 \n",
       "  \"/>\n",
       "<polyline clip-path=\"url(#clip9400)\" style=\"stroke:#000000; stroke-width:4; stroke-opacity:1; fill:none\" points=\"\n",
       "  153.898,1425.62 2352.76,1425.62 \n",
       "  \"/>\n",
       "<polyline clip-path=\"url(#clip9400)\" style=\"stroke:#000000; stroke-width:4; stroke-opacity:1; fill:none\" points=\"\n",
       "  153.898,1425.62 153.898,47.2441 \n",
       "  \"/>\n",
       "<polyline clip-path=\"url(#clip9400)\" style=\"stroke:#000000; stroke-width:4; stroke-opacity:1; fill:none\" points=\"\n",
       "  406.635,1425.62 406.635,1409.08 \n",
       "  \"/>\n",
       "<polyline clip-path=\"url(#clip9400)\" style=\"stroke:#000000; stroke-width:4; stroke-opacity:1; fill:none\" points=\"\n",
       "  829.981,1425.62 829.981,1409.08 \n",
       "  \"/>\n",
       "<polyline clip-path=\"url(#clip9400)\" style=\"stroke:#000000; stroke-width:4; stroke-opacity:1; fill:none\" points=\"\n",
       "  1253.33,1425.62 1253.33,1409.08 \n",
       "  \"/>\n",
       "<polyline clip-path=\"url(#clip9400)\" style=\"stroke:#000000; stroke-width:4; stroke-opacity:1; fill:none\" points=\"\n",
       "  1676.67,1425.62 1676.67,1409.08 \n",
       "  \"/>\n",
       "<polyline clip-path=\"url(#clip9400)\" style=\"stroke:#000000; stroke-width:4; stroke-opacity:1; fill:none\" points=\"\n",
       "  2100.02,1425.62 2100.02,1409.08 \n",
       "  \"/>\n",
       "<polyline clip-path=\"url(#clip9400)\" style=\"stroke:#000000; stroke-width:4; stroke-opacity:1; fill:none\" points=\"\n",
       "  153.898,1386.11 180.284,1386.11 \n",
       "  \"/>\n",
       "<polyline clip-path=\"url(#clip9400)\" style=\"stroke:#000000; stroke-width:4; stroke-opacity:1; fill:none\" points=\"\n",
       "  153.898,1120.53 180.284,1120.53 \n",
       "  \"/>\n",
       "<polyline clip-path=\"url(#clip9400)\" style=\"stroke:#000000; stroke-width:4; stroke-opacity:1; fill:none\" points=\"\n",
       "  153.898,854.951 180.284,854.951 \n",
       "  \"/>\n",
       "<polyline clip-path=\"url(#clip9400)\" style=\"stroke:#000000; stroke-width:4; stroke-opacity:1; fill:none\" points=\"\n",
       "  153.898,589.373 180.284,589.373 \n",
       "  \"/>\n",
       "<polyline clip-path=\"url(#clip9400)\" style=\"stroke:#000000; stroke-width:4; stroke-opacity:1; fill:none\" points=\"\n",
       "  153.898,323.796 180.284,323.796 \n",
       "  \"/>\n",
       "<polyline clip-path=\"url(#clip9400)\" style=\"stroke:#000000; stroke-width:4; stroke-opacity:1; fill:none\" points=\"\n",
       "  153.898,58.2186 180.284,58.2186 \n",
       "  \"/>\n",
       "<g clip-path=\"url(#clip9400)\">\n",
       "<text style=\"fill:#000000; fill-opacity:1; font-family:Arial,Helvetica Neue,Helvetica,sans-serif; font-size:48px; text-anchor:middle;\" transform=\"rotate(0, 406.635, 1479.62)\" x=\"406.635\" y=\"1479.62\">-20</text>\n",
       "</g>\n",
       "<g clip-path=\"url(#clip9400)\">\n",
       "<text style=\"fill:#000000; fill-opacity:1; font-family:Arial,Helvetica Neue,Helvetica,sans-serif; font-size:48px; text-anchor:middle;\" transform=\"rotate(0, 829.981, 1479.62)\" x=\"829.981\" y=\"1479.62\">-10</text>\n",
       "</g>\n",
       "<g clip-path=\"url(#clip9400)\">\n",
       "<text style=\"fill:#000000; fill-opacity:1; font-family:Arial,Helvetica Neue,Helvetica,sans-serif; font-size:48px; text-anchor:middle;\" transform=\"rotate(0, 1253.33, 1479.62)\" x=\"1253.33\" y=\"1479.62\">0</text>\n",
       "</g>\n",
       "<g clip-path=\"url(#clip9400)\">\n",
       "<text style=\"fill:#000000; fill-opacity:1; font-family:Arial,Helvetica Neue,Helvetica,sans-serif; font-size:48px; text-anchor:middle;\" transform=\"rotate(0, 1676.67, 1479.62)\" x=\"1676.67\" y=\"1479.62\">10</text>\n",
       "</g>\n",
       "<g clip-path=\"url(#clip9400)\">\n",
       "<text style=\"fill:#000000; fill-opacity:1; font-family:Arial,Helvetica Neue,Helvetica,sans-serif; font-size:48px; text-anchor:middle;\" transform=\"rotate(0, 2100.02, 1479.62)\" x=\"2100.02\" y=\"1479.62\">20</text>\n",
       "</g>\n",
       "<g clip-path=\"url(#clip9400)\">\n",
       "<text style=\"fill:#000000; fill-opacity:1; font-family:Arial,Helvetica Neue,Helvetica,sans-serif; font-size:48px; text-anchor:end;\" transform=\"rotate(0, 129.898, 1403.61)\" x=\"129.898\" y=\"1403.61\">1.0</text>\n",
       "</g>\n",
       "<g clip-path=\"url(#clip9400)\">\n",
       "<text style=\"fill:#000000; fill-opacity:1; font-family:Arial,Helvetica Neue,Helvetica,sans-serif; font-size:48px; text-anchor:end;\" transform=\"rotate(0, 129.898, 1138.03)\" x=\"129.898\" y=\"1138.03\">1.5</text>\n",
       "</g>\n",
       "<g clip-path=\"url(#clip9400)\">\n",
       "<text style=\"fill:#000000; fill-opacity:1; font-family:Arial,Helvetica Neue,Helvetica,sans-serif; font-size:48px; text-anchor:end;\" transform=\"rotate(0, 129.898, 872.451)\" x=\"129.898\" y=\"872.451\">2.0</text>\n",
       "</g>\n",
       "<g clip-path=\"url(#clip9400)\">\n",
       "<text style=\"fill:#000000; fill-opacity:1; font-family:Arial,Helvetica Neue,Helvetica,sans-serif; font-size:48px; text-anchor:end;\" transform=\"rotate(0, 129.898, 606.873)\" x=\"129.898\" y=\"606.873\">2.5</text>\n",
       "</g>\n",
       "<g clip-path=\"url(#clip9400)\">\n",
       "<text style=\"fill:#000000; fill-opacity:1; font-family:Arial,Helvetica Neue,Helvetica,sans-serif; font-size:48px; text-anchor:end;\" transform=\"rotate(0, 129.898, 341.296)\" x=\"129.898\" y=\"341.296\">3.0</text>\n",
       "</g>\n",
       "<g clip-path=\"url(#clip9400)\">\n",
       "<text style=\"fill:#000000; fill-opacity:1; font-family:Arial,Helvetica Neue,Helvetica,sans-serif; font-size:48px; text-anchor:end;\" transform=\"rotate(0, 129.898, 75.7186)\" x=\"129.898\" y=\"75.7186\">3.5</text>\n",
       "</g>\n",
       "<g clip-path=\"url(#clip9400)\">\n",
       "<text style=\"fill:#000000; fill-opacity:1; font-family:Arial,Helvetica Neue,Helvetica,sans-serif; font-size:66px; text-anchor:middle;\" transform=\"rotate(0, 1253.33, 1559.48)\" x=\"1253.33\" y=\"1559.48\">X</text>\n",
       "</g>\n",
       "<polyline clip-path=\"url(#clip9402)\" style=\"stroke:#009af9; stroke-width:8; stroke-opacity:1; fill:none\" points=\"\n",
       "  216.13,1386.11 258.464,1385.93 300.799,1386.04 343.134,1386.06 385.468,1386.07 427.803,1386.08 470.137,1386.07 512.472,1386.05 554.806,1386.03 597.141,1385.99 \n",
       "  639.476,1385.95 681.81,1385.88 724.145,1385.79 766.479,1385.65 808.814,1385.44 851.148,1385.14 893.483,1384.68 935.818,1383.95 978.152,1382.72 1020.49,1380.41 \n",
       "  1062.82,1375.62 1105.16,1364.72 1147.49,1339.63 1189.83,1291.83 1232.16,1229.79 1274.49,1173.9 1316.83,1133.81 1359.16,1108.13 1401.5,1092.44 1443.83,1082.94 \n",
       "  1486.17,1077.16 1528.5,1073.59 1570.84,1071.36 1613.17,1069.94 1655.51,1069.04 1697.84,1068.47 1740.17,1068.1 1782.51,1067.86 1824.84,1067.71 1867.18,1067.6 \n",
       "  1909.51,1067.54 1951.85,1067.49 1994.18,1067.46 2036.52,1067.44 2078.85,1067.42 2121.19,1067.4 2163.52,1067.39 2205.85,1067.38 2248.19,1067.38 2290.52,1067.41 \n",
       "  \n",
       "  \"/>\n",
       "<polyline clip-path=\"url(#clip9402)\" style=\"stroke:#e26f46; stroke-width:8; stroke-opacity:1; fill:none\" points=\"\n",
       "  216.13,616.202 258.464,616.323 300.799,616.172 343.134,616.215 385.468,616.283 427.803,616.329 470.137,616.36 512.472,616.395 554.806,616.453 597.141,616.549 \n",
       "  639.476,616.694 681.81,616.908 724.145,617.225 766.479,617.685 808.814,618.333 851.148,619.198 893.483,620.332 935.818,621.905 978.152,624.418 1020.49,629.177 \n",
       "  1062.82,639.512 1105.16,663.518 1147.49,716.219 1189.83,805.062 1232.16,902.942 1274.49,978.606 1316.83,1027.78 1359.16,1058.03 1401.5,1076.4 1443.83,1087.5 \n",
       "  1486.17,1094.15 1528.5,1098.1 1570.84,1100.43 1613.17,1101.83 1655.51,1102.67 1697.84,1103.18 1740.17,1103.51 1782.51,1103.71 1824.84,1103.85 1867.18,1103.93 \n",
       "  1909.51,1103.99 1951.85,1104.04 1994.18,1104.08 2036.52,1104.13 2078.85,1104.18 2121.19,1104.22 2163.52,1104.27 2205.85,1104.32 2248.19,1104.35 2290.52,1104.1 \n",
       "  \n",
       "  \"/>\n",
       "<polyline clip-path=\"url(#clip9402)\" style=\"stroke:#3da44d; stroke-width:8; stroke-opacity:1; fill:none\" points=\"\n",
       "  216.13,1386.11 258.464,1385.76 300.799,1386.42 343.134,1386.61 385.468,1386.44 427.803,1386 470.137,1385.36 512.472,1384.61 554.806,1383.7 597.141,1382.52 \n",
       "  639.476,1380.85 681.81,1378.38 724.145,1374.65 766.479,1369.23 808.814,1362.02 851.148,1353.87 893.483,1346.52 935.818,1341.67 978.152,1339.31 1020.49,1335.25 \n",
       "  1062.82,1315.63 1105.16,1245.34 1147.49,1065.48 1189.83,768.831 1232.16,481.036 1274.49,294.607 1316.83,196.095 1359.16,148.778 1401.5,126.63 1443.83,115.43 \n",
       "  1486.17,108.644 1528.5,103.779 1570.84,100.075 1613.17,97.323 1655.51,95.3748 1697.84,94.0473 1740.17,93.1592 1782.51,92.5713 1824.84,92.1851 1867.18,91.9202 \n",
       "  1909.51,91.6977 1951.85,91.4135 1994.18,90.9843 2036.52,90.3787 2078.85,89.6269 2121.19,88.7963 2163.52,87.9401 2205.85,87.0858 2248.19,86.2547 2290.52,91.4157 \n",
       "  \n",
       "  \"/>\n",
       "<path clip-path=\"url(#clip9400)\" d=\"\n",
       "M1765.24 372.684 L2280.76 372.684 L2280.76 130.764 L1765.24 130.764  Z\n",
       "  \" fill=\"#ffffff\" fill-rule=\"evenodd\" fill-opacity=\"1\"/>\n",
       "<polyline clip-path=\"url(#clip9400)\" style=\"stroke:#000000; stroke-width:4; stroke-opacity:1; fill:none\" points=\"\n",
       "  1765.24,372.684 2280.76,372.684 2280.76,130.764 1765.24,130.764 1765.24,372.684 \n",
       "  \"/>\n",
       "<polyline clip-path=\"url(#clip9400)\" style=\"stroke:#009af9; stroke-width:8; stroke-opacity:1; fill:none\" points=\"\n",
       "  1789.24,191.244 1933.24,191.244 \n",
       "  \"/>\n",
       "<g clip-path=\"url(#clip9400)\">\n",
       "<text style=\"fill:#000000; fill-opacity:1; font-family:Arial,Helvetica Neue,Helvetica,sans-serif; font-size:48px; text-anchor:start;\" transform=\"rotate(0, 1957.24, 208.744)\" x=\"1957.24\" y=\"208.744\">Density</text>\n",
       "</g>\n",
       "<polyline clip-path=\"url(#clip9400)\" style=\"stroke:#e26f46; stroke-width:8; stroke-opacity:1; fill:none\" points=\"\n",
       "  1789.24,251.724 1933.24,251.724 \n",
       "  \"/>\n",
       "<g clip-path=\"url(#clip9400)\">\n",
       "<text style=\"fill:#000000; fill-opacity:1; font-family:Arial,Helvetica Neue,Helvetica,sans-serif; font-size:48px; text-anchor:start;\" transform=\"rotate(0, 1957.24, 269.224)\" x=\"1957.24\" y=\"269.224\">Velocity</text>\n",
       "</g>\n",
       "<polyline clip-path=\"url(#clip9400)\" style=\"stroke:#3da44d; stroke-width:8; stroke-opacity:1; fill:none\" points=\"\n",
       "  1789.24,312.204 1933.24,312.204 \n",
       "  \"/>\n",
       "<g clip-path=\"url(#clip9400)\">\n",
       "<text style=\"fill:#000000; fill-opacity:1; font-family:Arial,Helvetica Neue,Helvetica,sans-serif; font-size:48px; text-anchor:start;\" transform=\"rotate(0, 1957.24, 329.704)\" x=\"1957.24\" y=\"329.704\">Temperature</text>\n",
       "</g>\n",
       "</svg>\n"
      ]
     },
     "metadata": {},
     "output_type": "display_data"
    }
   ],
   "source": [
    "plot_line(ks, ctr)"
   ]
  },
  {
   "cell_type": "code",
   "execution_count": 39,
   "metadata": {
    "scrolled": false
   },
   "outputs": [
    {
     "data": {
      "image/svg+xml": [
       "<?xml version=\"1.0\" encoding=\"utf-8\"?>\n",
       "<svg xmlns=\"http://www.w3.org/2000/svg\" xmlns:xlink=\"http://www.w3.org/1999/xlink\" width=\"600\" height=\"400\" viewBox=\"0 0 2400 1600\">\n",
       "<defs>\n",
       "  <clipPath id=\"clip7800\">\n",
       "    <rect x=\"0\" y=\"0\" width=\"2400\" height=\"1600\"/>\n",
       "  </clipPath>\n",
       "</defs>\n",
       "<path clip-path=\"url(#clip7800)\" d=\"\n",
       "M0 1600 L2400 1600 L2400 0 L0 0  Z\n",
       "  \" fill=\"#ffffff\" fill-rule=\"evenodd\" fill-opacity=\"1\"/>\n",
       "<defs>\n",
       "  <clipPath id=\"clip7801\">\n",
       "    <rect x=\"480\" y=\"0\" width=\"1681\" height=\"1600\"/>\n",
       "  </clipPath>\n",
       "</defs>\n",
       "<path clip-path=\"url(#clip7800)\" d=\"\n",
       "M153.898 1487.47 L2352.76 1487.47 L2352.76 47.2441 L153.898 47.2441  Z\n",
       "  \" fill=\"#ffffff\" fill-rule=\"evenodd\" fill-opacity=\"1\"/>\n",
       "<defs>\n",
       "  <clipPath id=\"clip7802\">\n",
       "    <rect x=\"153\" y=\"47\" width=\"2200\" height=\"1441\"/>\n",
       "  </clipPath>\n",
       "</defs>\n",
       "<polyline clip-path=\"url(#clip7802)\" style=\"stroke:#000000; stroke-width:2; stroke-opacity:0.1; fill:none\" points=\"\n",
       "  186.496,1487.47 186.496,47.2441 \n",
       "  \"/>\n",
       "<polyline clip-path=\"url(#clip7802)\" style=\"stroke:#000000; stroke-width:2; stroke-opacity:0.1; fill:none\" points=\"\n",
       "  719.911,1487.47 719.911,47.2441 \n",
       "  \"/>\n",
       "<polyline clip-path=\"url(#clip7802)\" style=\"stroke:#000000; stroke-width:2; stroke-opacity:0.1; fill:none\" points=\"\n",
       "  1253.33,1487.47 1253.33,47.2441 \n",
       "  \"/>\n",
       "<polyline clip-path=\"url(#clip7802)\" style=\"stroke:#000000; stroke-width:2; stroke-opacity:0.1; fill:none\" points=\"\n",
       "  1786.74,1487.47 1786.74,47.2441 \n",
       "  \"/>\n",
       "<polyline clip-path=\"url(#clip7802)\" style=\"stroke:#000000; stroke-width:2; stroke-opacity:0.1; fill:none\" points=\"\n",
       "  2320.16,1487.47 2320.16,47.2441 \n",
       "  \"/>\n",
       "<polyline clip-path=\"url(#clip7802)\" style=\"stroke:#000000; stroke-width:2; stroke-opacity:0.1; fill:none\" points=\"\n",
       "  153.898,1446.62 2352.76,1446.62 \n",
       "  \"/>\n",
       "<polyline clip-path=\"url(#clip7802)\" style=\"stroke:#000000; stroke-width:2; stroke-opacity:0.1; fill:none\" points=\"\n",
       "  153.898,1141 2352.76,1141 \n",
       "  \"/>\n",
       "<polyline clip-path=\"url(#clip7802)\" style=\"stroke:#000000; stroke-width:2; stroke-opacity:0.1; fill:none\" points=\"\n",
       "  153.898,835.387 2352.76,835.387 \n",
       "  \"/>\n",
       "<polyline clip-path=\"url(#clip7802)\" style=\"stroke:#000000; stroke-width:2; stroke-opacity:0.1; fill:none\" points=\"\n",
       "  153.898,529.773 2352.76,529.773 \n",
       "  \"/>\n",
       "<polyline clip-path=\"url(#clip7802)\" style=\"stroke:#000000; stroke-width:2; stroke-opacity:0.1; fill:none\" points=\"\n",
       "  153.898,224.159 2352.76,224.159 \n",
       "  \"/>\n",
       "<polyline clip-path=\"url(#clip7800)\" style=\"stroke:#000000; stroke-width:4; stroke-opacity:1; fill:none\" points=\"\n",
       "  153.898,1487.47 2352.76,1487.47 \n",
       "  \"/>\n",
       "<polyline clip-path=\"url(#clip7800)\" style=\"stroke:#000000; stroke-width:4; stroke-opacity:1; fill:none\" points=\"\n",
       "  153.898,1487.47 153.898,47.2441 \n",
       "  \"/>\n",
       "<polyline clip-path=\"url(#clip7800)\" style=\"stroke:#000000; stroke-width:4; stroke-opacity:1; fill:none\" points=\"\n",
       "  186.496,1487.47 186.496,1470.19 \n",
       "  \"/>\n",
       "<polyline clip-path=\"url(#clip7800)\" style=\"stroke:#000000; stroke-width:4; stroke-opacity:1; fill:none\" points=\"\n",
       "  719.911,1487.47 719.911,1470.19 \n",
       "  \"/>\n",
       "<polyline clip-path=\"url(#clip7800)\" style=\"stroke:#000000; stroke-width:4; stroke-opacity:1; fill:none\" points=\"\n",
       "  1253.33,1487.47 1253.33,1470.19 \n",
       "  \"/>\n",
       "<polyline clip-path=\"url(#clip7800)\" style=\"stroke:#000000; stroke-width:4; stroke-opacity:1; fill:none\" points=\"\n",
       "  1786.74,1487.47 1786.74,1470.19 \n",
       "  \"/>\n",
       "<polyline clip-path=\"url(#clip7800)\" style=\"stroke:#000000; stroke-width:4; stroke-opacity:1; fill:none\" points=\"\n",
       "  2320.16,1487.47 2320.16,1470.19 \n",
       "  \"/>\n",
       "<polyline clip-path=\"url(#clip7800)\" style=\"stroke:#000000; stroke-width:4; stroke-opacity:1; fill:none\" points=\"\n",
       "  153.898,1446.62 180.284,1446.62 \n",
       "  \"/>\n",
       "<polyline clip-path=\"url(#clip7800)\" style=\"stroke:#000000; stroke-width:4; stroke-opacity:1; fill:none\" points=\"\n",
       "  153.898,1141 180.284,1141 \n",
       "  \"/>\n",
       "<polyline clip-path=\"url(#clip7800)\" style=\"stroke:#000000; stroke-width:4; stroke-opacity:1; fill:none\" points=\"\n",
       "  153.898,835.387 180.284,835.387 \n",
       "  \"/>\n",
       "<polyline clip-path=\"url(#clip7800)\" style=\"stroke:#000000; stroke-width:4; stroke-opacity:1; fill:none\" points=\"\n",
       "  153.898,529.773 180.284,529.773 \n",
       "  \"/>\n",
       "<polyline clip-path=\"url(#clip7800)\" style=\"stroke:#000000; stroke-width:4; stroke-opacity:1; fill:none\" points=\"\n",
       "  153.898,224.159 180.284,224.159 \n",
       "  \"/>\n",
       "<g clip-path=\"url(#clip7800)\">\n",
       "<text style=\"fill:#000000; fill-opacity:1; font-family:Arial,Helvetica Neue,Helvetica,sans-serif; font-size:48px; text-anchor:middle;\" transform=\"rotate(0, 186.496, 1541.47)\" x=\"186.496\" y=\"1541.47\">-10</text>\n",
       "</g>\n",
       "<g clip-path=\"url(#clip7800)\">\n",
       "<text style=\"fill:#000000; fill-opacity:1; font-family:Arial,Helvetica Neue,Helvetica,sans-serif; font-size:48px; text-anchor:middle;\" transform=\"rotate(0, 719.911, 1541.47)\" x=\"719.911\" y=\"1541.47\">-5</text>\n",
       "</g>\n",
       "<g clip-path=\"url(#clip7800)\">\n",
       "<text style=\"fill:#000000; fill-opacity:1; font-family:Arial,Helvetica Neue,Helvetica,sans-serif; font-size:48px; text-anchor:middle;\" transform=\"rotate(0, 1253.33, 1541.47)\" x=\"1253.33\" y=\"1541.47\">0</text>\n",
       "</g>\n",
       "<g clip-path=\"url(#clip7800)\">\n",
       "<text style=\"fill:#000000; fill-opacity:1; font-family:Arial,Helvetica Neue,Helvetica,sans-serif; font-size:48px; text-anchor:middle;\" transform=\"rotate(0, 1786.74, 1541.47)\" x=\"1786.74\" y=\"1541.47\">5</text>\n",
       "</g>\n",
       "<g clip-path=\"url(#clip7800)\">\n",
       "<text style=\"fill:#000000; fill-opacity:1; font-family:Arial,Helvetica Neue,Helvetica,sans-serif; font-size:48px; text-anchor:middle;\" transform=\"rotate(0, 2320.16, 1541.47)\" x=\"2320.16\" y=\"1541.47\">10</text>\n",
       "</g>\n",
       "<g clip-path=\"url(#clip7800)\">\n",
       "<text style=\"fill:#000000; fill-opacity:1; font-family:Arial,Helvetica Neue,Helvetica,sans-serif; font-size:48px; text-anchor:end;\" transform=\"rotate(0, 129.898, 1464.12)\" x=\"129.898\" y=\"1464.12\">0.0</text>\n",
       "</g>\n",
       "<g clip-path=\"url(#clip7800)\">\n",
       "<text style=\"fill:#000000; fill-opacity:1; font-family:Arial,Helvetica Neue,Helvetica,sans-serif; font-size:48px; text-anchor:end;\" transform=\"rotate(0, 129.898, 1158.5)\" x=\"129.898\" y=\"1158.5\">0.1</text>\n",
       "</g>\n",
       "<g clip-path=\"url(#clip7800)\">\n",
       "<text style=\"fill:#000000; fill-opacity:1; font-family:Arial,Helvetica Neue,Helvetica,sans-serif; font-size:48px; text-anchor:end;\" transform=\"rotate(0, 129.898, 852.887)\" x=\"129.898\" y=\"852.887\">0.2</text>\n",
       "</g>\n",
       "<g clip-path=\"url(#clip7800)\">\n",
       "<text style=\"fill:#000000; fill-opacity:1; font-family:Arial,Helvetica Neue,Helvetica,sans-serif; font-size:48px; text-anchor:end;\" transform=\"rotate(0, 129.898, 547.273)\" x=\"129.898\" y=\"547.273\">0.3</text>\n",
       "</g>\n",
       "<g clip-path=\"url(#clip7800)\">\n",
       "<text style=\"fill:#000000; fill-opacity:1; font-family:Arial,Helvetica Neue,Helvetica,sans-serif; font-size:48px; text-anchor:end;\" transform=\"rotate(0, 129.898, 241.659)\" x=\"129.898\" y=\"241.659\">0.4</text>\n",
       "</g>\n",
       "<polyline clip-path=\"url(#clip7802)\" style=\"stroke:#009af9; stroke-width:4; stroke-opacity:1; fill:none\" points=\"\n",
       "  216.13,1446.62 275.398,1446.62 334.667,1446.62 393.935,1446.62 453.203,1446.62 512.472,1446.62 571.74,1446.62 631.009,1446.62 690.277,1446.61 749.545,1446.61 \n",
       "  808.814,1446.58 868.082,1446.43 927.351,1445.71 986.619,1442.83 1045.89,1433.15 1105.16,1405.44 1164.42,1338.09 1223.69,1200.07 1282.96,970.307 1342.23,663.535 \n",
       "  1401.5,333.806 1460.77,89.1356 1520.03,111.95 1579.3,489.289 1638.57,975.148 1697.84,1284.57 1757.11,1404.57 1816.38,1437.68 1875.65,1445.02 1934.91,1446.38 \n",
       "  1994.18,1446.59 2053.45,1446.61 2112.72,1446.62 2171.99,1446.62 2231.26,1446.62 2290.52,1446.62 \n",
       "  \"/>\n",
       "<polyline clip-path=\"url(#clip7802)\" style=\"stroke:#e26f46; stroke-width:4; stroke-opacity:1; fill:none\" points=\"\n",
       "  216.13,1446.64 275.398,1446.62 334.667,1446.62 393.935,1446.6 453.203,1446.62 512.472,1446.61 571.74,1446.61 631.009,1446.61 690.277,1446.61 749.545,1446.61 \n",
       "  808.814,1446.58 868.082,1446.44 927.351,1445.74 986.619,1442.95 1045.89,1433.5 1105.16,1406.18 1164.42,1339.21 1223.69,1200.85 1282.96,969.126 1342.23,659.094 \n",
       "  1401.5,328.153 1460.77,88.8517 1520.03,118.657 1579.3,494.968 1638.57,975.335 1697.84,1282.48 1757.11,1403.21 1816.38,1437.2 1875.65,1444.88 1934.91,1446.34 \n",
       "  1994.18,1446.58 2053.45,1446.61 2112.72,1446.61 2171.99,1446.62 2231.26,1446.61 2290.52,1446.62 \n",
       "  \"/>\n",
       "<polyline clip-path=\"url(#clip7802)\" style=\"stroke:#3da44d; stroke-width:4; stroke-opacity:1; fill:none\" points=\"\n",
       "  216.13,1446.67 275.398,1446.62 334.667,1446.63 393.935,1446.58 453.203,1446.62 512.472,1446.61 571.74,1446.61 631.009,1446.61 690.277,1446.6 749.545,1446.6 \n",
       "  808.814,1446.58 868.082,1446.45 927.351,1445.78 986.619,1443.08 1045.89,1433.86 1105.16,1406.93 1164.42,1340.34 1223.69,1201.64 1282.96,967.929 1342.23,654.606 \n",
       "  1401.5,322.451 1460.77,88.5687 1520.03,125.413 1579.3,500.7 1638.57,975.55 1697.84,1280.39 1757.11,1401.84 1816.38,1436.72 1875.65,1444.74 1934.91,1446.3 \n",
       "  1994.18,1446.58 2053.45,1446.61 2112.72,1446.61 2171.99,1446.62 2231.26,1446.6 2290.52,1446.62 \n",
       "  \"/>\n",
       "<polyline clip-path=\"url(#clip7802)\" style=\"stroke:#c271d2; stroke-width:4; stroke-opacity:1; fill:none\" points=\"\n",
       "  216.13,1446.69 275.398,1446.62 334.667,1446.63 393.935,1446.56 453.203,1446.63 512.472,1446.62 571.74,1446.6 631.009,1446.61 690.277,1446.59 749.545,1446.6 \n",
       "  808.814,1446.58 868.082,1446.47 927.351,1445.82 986.619,1443.21 1045.89,1434.22 1105.16,1407.69 1164.42,1341.48 1223.69,1202.43 1282.96,966.714 1342.23,650.074 \n",
       "  1401.5,316.705 1460.77,88.2864 1520.03,132.213 1579.3,506.484 1638.57,975.793 1697.84,1278.28 1757.11,1400.45 1816.38,1436.22 1875.65,1444.6 1934.91,1446.26 \n",
       "  1994.18,1446.57 2053.45,1446.61 2112.72,1446.61 2171.99,1446.62 2231.26,1446.6 2290.52,1446.62 \n",
       "  \"/>\n",
       "<polyline clip-path=\"url(#clip7802)\" style=\"stroke:#ac8d18; stroke-width:4; stroke-opacity:1; fill:none\" points=\"\n",
       "  216.13,1446.71 275.398,1446.63 334.667,1446.64 393.935,1446.55 453.203,1446.63 512.472,1446.62 571.74,1446.6 631.009,1446.61 690.277,1446.59 749.545,1446.6 \n",
       "  808.814,1446.58 868.082,1446.48 927.351,1445.86 986.619,1443.34 1045.89,1434.59 1105.16,1408.46 1164.42,1342.63 1223.69,1203.23 1282.96,965.482 1342.23,645.497 \n",
       "  1401.5,310.917 1460.77,88.0053 1520.03,139.055 1579.3,512.318 1638.57,976.067 1697.84,1276.16 1757.11,1399.04 1816.38,1435.72 1875.65,1444.45 1934.91,1446.22 \n",
       "  1994.18,1446.56 2053.45,1446.6 2112.72,1446.6 2171.99,1446.63 2231.26,1446.59 2290.52,1446.62 \n",
       "  \"/>\n",
       "<path clip-path=\"url(#clip7800)\" d=\"\n",
       "M1989.93 493.644 L2280.76 493.644 L2280.76 130.764 L1989.93 130.764  Z\n",
       "  \" fill=\"#ffffff\" fill-rule=\"evenodd\" fill-opacity=\"1\"/>\n",
       "<polyline clip-path=\"url(#clip7800)\" style=\"stroke:#000000; stroke-width:4; stroke-opacity:1; fill:none\" points=\"\n",
       "  1989.93,493.644 2280.76,493.644 2280.76,130.764 1989.93,130.764 1989.93,493.644 \n",
       "  \"/>\n",
       "<polyline clip-path=\"url(#clip7800)\" style=\"stroke:#009af9; stroke-width:4; stroke-opacity:1; fill:none\" points=\"\n",
       "  2013.93,191.244 2157.93,191.244 \n",
       "  \"/>\n",
       "<g clip-path=\"url(#clip7800)\">\n",
       "<text style=\"fill:#000000; fill-opacity:1; font-family:Arial,Helvetica Neue,Helvetica,sans-serif; font-size:48px; text-anchor:start;\" transform=\"rotate(0, 2181.93, 208.744)\" x=\"2181.93\" y=\"208.744\">y1</text>\n",
       "</g>\n",
       "<polyline clip-path=\"url(#clip7800)\" style=\"stroke:#e26f46; stroke-width:4; stroke-opacity:1; fill:none\" points=\"\n",
       "  2013.93,251.724 2157.93,251.724 \n",
       "  \"/>\n",
       "<g clip-path=\"url(#clip7800)\">\n",
       "<text style=\"fill:#000000; fill-opacity:1; font-family:Arial,Helvetica Neue,Helvetica,sans-serif; font-size:48px; text-anchor:start;\" transform=\"rotate(0, 2181.93, 269.224)\" x=\"2181.93\" y=\"269.224\">y2</text>\n",
       "</g>\n",
       "<polyline clip-path=\"url(#clip7800)\" style=\"stroke:#3da44d; stroke-width:4; stroke-opacity:1; fill:none\" points=\"\n",
       "  2013.93,312.204 2157.93,312.204 \n",
       "  \"/>\n",
       "<g clip-path=\"url(#clip7800)\">\n",
       "<text style=\"fill:#000000; fill-opacity:1; font-family:Arial,Helvetica Neue,Helvetica,sans-serif; font-size:48px; text-anchor:start;\" transform=\"rotate(0, 2181.93, 329.704)\" x=\"2181.93\" y=\"329.704\">y3</text>\n",
       "</g>\n",
       "<polyline clip-path=\"url(#clip7800)\" style=\"stroke:#c271d2; stroke-width:4; stroke-opacity:1; fill:none\" points=\"\n",
       "  2013.93,372.684 2157.93,372.684 \n",
       "  \"/>\n",
       "<g clip-path=\"url(#clip7800)\">\n",
       "<text style=\"fill:#000000; fill-opacity:1; font-family:Arial,Helvetica Neue,Helvetica,sans-serif; font-size:48px; text-anchor:start;\" transform=\"rotate(0, 2181.93, 390.184)\" x=\"2181.93\" y=\"390.184\">y4</text>\n",
       "</g>\n",
       "<polyline clip-path=\"url(#clip7800)\" style=\"stroke:#ac8d18; stroke-width:4; stroke-opacity:1; fill:none\" points=\"\n",
       "  2013.93,433.164 2157.93,433.164 \n",
       "  \"/>\n",
       "<g clip-path=\"url(#clip7800)\">\n",
       "<text style=\"fill:#000000; fill-opacity:1; font-family:Arial,Helvetica Neue,Helvetica,sans-serif; font-size:48px; text-anchor:start;\" transform=\"rotate(0, 2181.93, 450.664)\" x=\"2181.93\" y=\"450.664\">y5</text>\n",
       "</g>\n",
       "</svg>\n"
      ]
     },
     "execution_count": 39,
     "metadata": {},
     "output_type": "execute_result"
    }
   ],
   "source": [
    "plot(vSpace.u, node(ctr[25].f[1:end], res.minimizer).u)"
   ]
  },
  {
   "cell_type": "code",
   "execution_count": 42,
   "metadata": {},
   "outputs": [
    {
     "data": {
      "image/svg+xml": [
       "<?xml version=\"1.0\" encoding=\"utf-8\"?>\n",
       "<svg xmlns=\"http://www.w3.org/2000/svg\" xmlns:xlink=\"http://www.w3.org/1999/xlink\" width=\"600\" height=\"400\" viewBox=\"0 0 2400 1600\">\n",
       "<defs>\n",
       "  <clipPath id=\"clip8200\">\n",
       "    <rect x=\"0\" y=\"0\" width=\"2400\" height=\"1600\"/>\n",
       "  </clipPath>\n",
       "</defs>\n",
       "<path clip-path=\"url(#clip8200)\" d=\"\n",
       "M0 1600 L2400 1600 L2400 0 L0 0  Z\n",
       "  \" fill=\"#ffffff\" fill-rule=\"evenodd\" fill-opacity=\"1\"/>\n",
       "<defs>\n",
       "  <clipPath id=\"clip8201\">\n",
       "    <rect x=\"480\" y=\"0\" width=\"1681\" height=\"1600\"/>\n",
       "  </clipPath>\n",
       "</defs>\n",
       "<path clip-path=\"url(#clip8200)\" d=\"\n",
       "M153.898 1487.47 L2352.76 1487.47 L2352.76 47.2441 L153.898 47.2441  Z\n",
       "  \" fill=\"#ffffff\" fill-rule=\"evenodd\" fill-opacity=\"1\"/>\n",
       "<defs>\n",
       "  <clipPath id=\"clip8202\">\n",
       "    <rect x=\"153\" y=\"47\" width=\"2200\" height=\"1441\"/>\n",
       "  </clipPath>\n",
       "</defs>\n",
       "<polyline clip-path=\"url(#clip8202)\" style=\"stroke:#000000; stroke-width:2; stroke-opacity:0.1; fill:none\" points=\"\n",
       "  186.496,1487.47 186.496,47.2441 \n",
       "  \"/>\n",
       "<polyline clip-path=\"url(#clip8202)\" style=\"stroke:#000000; stroke-width:2; stroke-opacity:0.1; fill:none\" points=\"\n",
       "  719.911,1487.47 719.911,47.2441 \n",
       "  \"/>\n",
       "<polyline clip-path=\"url(#clip8202)\" style=\"stroke:#000000; stroke-width:2; stroke-opacity:0.1; fill:none\" points=\"\n",
       "  1253.33,1487.47 1253.33,47.2441 \n",
       "  \"/>\n",
       "<polyline clip-path=\"url(#clip8202)\" style=\"stroke:#000000; stroke-width:2; stroke-opacity:0.1; fill:none\" points=\"\n",
       "  1786.74,1487.47 1786.74,47.2441 \n",
       "  \"/>\n",
       "<polyline clip-path=\"url(#clip8202)\" style=\"stroke:#000000; stroke-width:2; stroke-opacity:0.1; fill:none\" points=\"\n",
       "  2320.16,1487.47 2320.16,47.2441 \n",
       "  \"/>\n",
       "<polyline clip-path=\"url(#clip8202)\" style=\"stroke:#000000; stroke-width:2; stroke-opacity:0.1; fill:none\" points=\"\n",
       "  153.898,1446.71 2352.76,1446.71 \n",
       "  \"/>\n",
       "<polyline clip-path=\"url(#clip8202)\" style=\"stroke:#000000; stroke-width:2; stroke-opacity:0.1; fill:none\" points=\"\n",
       "  153.898,1140.89 2352.76,1140.89 \n",
       "  \"/>\n",
       "<polyline clip-path=\"url(#clip8202)\" style=\"stroke:#000000; stroke-width:2; stroke-opacity:0.1; fill:none\" points=\"\n",
       "  153.898,835.059 2352.76,835.059 \n",
       "  \"/>\n",
       "<polyline clip-path=\"url(#clip8202)\" style=\"stroke:#000000; stroke-width:2; stroke-opacity:0.1; fill:none\" points=\"\n",
       "  153.898,529.231 2352.76,529.231 \n",
       "  \"/>\n",
       "<polyline clip-path=\"url(#clip8202)\" style=\"stroke:#000000; stroke-width:2; stroke-opacity:0.1; fill:none\" points=\"\n",
       "  153.898,223.404 2352.76,223.404 \n",
       "  \"/>\n",
       "<polyline clip-path=\"url(#clip8200)\" style=\"stroke:#000000; stroke-width:4; stroke-opacity:1; fill:none\" points=\"\n",
       "  153.898,1487.47 2352.76,1487.47 \n",
       "  \"/>\n",
       "<polyline clip-path=\"url(#clip8200)\" style=\"stroke:#000000; stroke-width:4; stroke-opacity:1; fill:none\" points=\"\n",
       "  153.898,1487.47 153.898,47.2441 \n",
       "  \"/>\n",
       "<polyline clip-path=\"url(#clip8200)\" style=\"stroke:#000000; stroke-width:4; stroke-opacity:1; fill:none\" points=\"\n",
       "  186.496,1487.47 186.496,1470.19 \n",
       "  \"/>\n",
       "<polyline clip-path=\"url(#clip8200)\" style=\"stroke:#000000; stroke-width:4; stroke-opacity:1; fill:none\" points=\"\n",
       "  719.911,1487.47 719.911,1470.19 \n",
       "  \"/>\n",
       "<polyline clip-path=\"url(#clip8200)\" style=\"stroke:#000000; stroke-width:4; stroke-opacity:1; fill:none\" points=\"\n",
       "  1253.33,1487.47 1253.33,1470.19 \n",
       "  \"/>\n",
       "<polyline clip-path=\"url(#clip8200)\" style=\"stroke:#000000; stroke-width:4; stroke-opacity:1; fill:none\" points=\"\n",
       "  1786.74,1487.47 1786.74,1470.19 \n",
       "  \"/>\n",
       "<polyline clip-path=\"url(#clip8200)\" style=\"stroke:#000000; stroke-width:4; stroke-opacity:1; fill:none\" points=\"\n",
       "  2320.16,1487.47 2320.16,1470.19 \n",
       "  \"/>\n",
       "<polyline clip-path=\"url(#clip8200)\" style=\"stroke:#000000; stroke-width:4; stroke-opacity:1; fill:none\" points=\"\n",
       "  153.898,1446.71 180.284,1446.71 \n",
       "  \"/>\n",
       "<polyline clip-path=\"url(#clip8200)\" style=\"stroke:#000000; stroke-width:4; stroke-opacity:1; fill:none\" points=\"\n",
       "  153.898,1140.89 180.284,1140.89 \n",
       "  \"/>\n",
       "<polyline clip-path=\"url(#clip8200)\" style=\"stroke:#000000; stroke-width:4; stroke-opacity:1; fill:none\" points=\"\n",
       "  153.898,835.059 180.284,835.059 \n",
       "  \"/>\n",
       "<polyline clip-path=\"url(#clip8200)\" style=\"stroke:#000000; stroke-width:4; stroke-opacity:1; fill:none\" points=\"\n",
       "  153.898,529.231 180.284,529.231 \n",
       "  \"/>\n",
       "<polyline clip-path=\"url(#clip8200)\" style=\"stroke:#000000; stroke-width:4; stroke-opacity:1; fill:none\" points=\"\n",
       "  153.898,223.404 180.284,223.404 \n",
       "  \"/>\n",
       "<g clip-path=\"url(#clip8200)\">\n",
       "<text style=\"fill:#000000; fill-opacity:1; font-family:Arial,Helvetica Neue,Helvetica,sans-serif; font-size:48px; text-anchor:middle;\" transform=\"rotate(0, 186.496, 1541.47)\" x=\"186.496\" y=\"1541.47\">-10</text>\n",
       "</g>\n",
       "<g clip-path=\"url(#clip8200)\">\n",
       "<text style=\"fill:#000000; fill-opacity:1; font-family:Arial,Helvetica Neue,Helvetica,sans-serif; font-size:48px; text-anchor:middle;\" transform=\"rotate(0, 719.911, 1541.47)\" x=\"719.911\" y=\"1541.47\">-5</text>\n",
       "</g>\n",
       "<g clip-path=\"url(#clip8200)\">\n",
       "<text style=\"fill:#000000; fill-opacity:1; font-family:Arial,Helvetica Neue,Helvetica,sans-serif; font-size:48px; text-anchor:middle;\" transform=\"rotate(0, 1253.33, 1541.47)\" x=\"1253.33\" y=\"1541.47\">0</text>\n",
       "</g>\n",
       "<g clip-path=\"url(#clip8200)\">\n",
       "<text style=\"fill:#000000; fill-opacity:1; font-family:Arial,Helvetica Neue,Helvetica,sans-serif; font-size:48px; text-anchor:middle;\" transform=\"rotate(0, 1786.74, 1541.47)\" x=\"1786.74\" y=\"1541.47\">5</text>\n",
       "</g>\n",
       "<g clip-path=\"url(#clip8200)\">\n",
       "<text style=\"fill:#000000; fill-opacity:1; font-family:Arial,Helvetica Neue,Helvetica,sans-serif; font-size:48px; text-anchor:middle;\" transform=\"rotate(0, 2320.16, 1541.47)\" x=\"2320.16\" y=\"1541.47\">10</text>\n",
       "</g>\n",
       "<g clip-path=\"url(#clip8200)\">\n",
       "<text style=\"fill:#000000; fill-opacity:1; font-family:Arial,Helvetica Neue,Helvetica,sans-serif; font-size:48px; text-anchor:end;\" transform=\"rotate(0, 129.898, 1464.21)\" x=\"129.898\" y=\"1464.21\">0.0</text>\n",
       "</g>\n",
       "<g clip-path=\"url(#clip8200)\">\n",
       "<text style=\"fill:#000000; fill-opacity:1; font-family:Arial,Helvetica Neue,Helvetica,sans-serif; font-size:48px; text-anchor:end;\" transform=\"rotate(0, 129.898, 1158.39)\" x=\"129.898\" y=\"1158.39\">0.1</text>\n",
       "</g>\n",
       "<g clip-path=\"url(#clip8200)\">\n",
       "<text style=\"fill:#000000; fill-opacity:1; font-family:Arial,Helvetica Neue,Helvetica,sans-serif; font-size:48px; text-anchor:end;\" transform=\"rotate(0, 129.898, 852.559)\" x=\"129.898\" y=\"852.559\">0.2</text>\n",
       "</g>\n",
       "<g clip-path=\"url(#clip8200)\">\n",
       "<text style=\"fill:#000000; fill-opacity:1; font-family:Arial,Helvetica Neue,Helvetica,sans-serif; font-size:48px; text-anchor:end;\" transform=\"rotate(0, 129.898, 546.731)\" x=\"129.898\" y=\"546.731\">0.3</text>\n",
       "</g>\n",
       "<g clip-path=\"url(#clip8200)\">\n",
       "<text style=\"fill:#000000; fill-opacity:1; font-family:Arial,Helvetica Neue,Helvetica,sans-serif; font-size:48px; text-anchor:end;\" transform=\"rotate(0, 129.898, 240.904)\" x=\"129.898\" y=\"240.904\">0.4</text>\n",
       "</g>\n",
       "<polyline clip-path=\"url(#clip8202)\" style=\"stroke:#009af9; stroke-width:4; stroke-opacity:1; fill:none\" points=\"\n",
       "  216.13,1446.71 275.398,1446.71 334.667,1446.71 393.935,1446.71 453.203,1446.71 512.472,1446.71 571.74,1446.71 631.009,1446.71 690.277,1446.71 749.545,1446.71 \n",
       "  808.814,1446.68 868.082,1446.53 927.351,1445.8 986.619,1442.92 1045.89,1433.23 1105.16,1405.51 1164.42,1338.11 1223.69,1200 1282.96,970.072 1342.23,663.086 \n",
       "  1401.5,333.127 1460.77,88.2857 1520.03,111.116 1579.3,488.719 1638.57,974.917 1697.84,1284.55 1757.11,1404.63 1816.38,1437.77 1875.65,1445.11 1934.91,1446.47 \n",
       "  1994.18,1446.68 2053.45,1446.71 2112.72,1446.71 2171.99,1446.71 2231.26,1446.71 2290.52,1446.71 \n",
       "  \"/>\n",
       "<polyline clip-path=\"url(#clip8202)\" style=\"stroke:#e26f46; stroke-width:4; stroke-opacity:1; fill:none\" points=\"\n",
       "  216.13,1446.71 275.398,1446.71 334.667,1446.71 393.935,1446.71 453.203,1446.71 512.472,1446.71 571.74,1446.71 631.009,1446.71 690.277,1446.71 749.545,1446.71 \n",
       "  808.814,1446.68 868.082,1446.54 927.351,1445.84 986.619,1443.06 1045.89,1433.64 1105.16,1406.38 1164.42,1339.39 1223.69,1200.83 1282.96,968.591 1342.23,657.993 \n",
       "  1401.5,327.262 1460.77,88.21 1520.03,118.156 1579.3,494.834 1638.57,975.223 1697.84,1282.33 1757.11,1403.09 1816.38,1437.2 1875.65,1444.96 1934.91,1446.45 \n",
       "  1994.18,1446.68 2053.45,1446.71 2112.72,1446.71 2171.99,1446.71 2231.26,1446.71 2290.52,1446.71 \n",
       "  \"/>\n",
       "<polyline clip-path=\"url(#clip8202)\" style=\"stroke:#3da44d; stroke-width:4; stroke-opacity:1; fill:none\" points=\"\n",
       "  216.13,1446.71 275.398,1446.71 334.667,1446.71 393.935,1446.71 453.203,1446.71 512.472,1446.71 571.74,1446.71 631.009,1446.71 690.277,1446.71 749.545,1446.71 \n",
       "  808.814,1446.68 868.082,1446.54 927.351,1445.88 986.619,1443.2 1045.89,1434.02 1105.16,1407.21 1164.42,1340.6 1223.69,1201.62 1282.96,967.184 1342.23,653.158 \n",
       "  1401.5,321.693 1460.77,88.1382 1520.03,124.841 1579.3,500.64 1638.57,975.513 1697.84,1280.22 1757.11,1401.63 1816.38,1436.65 1875.65,1444.82 1934.91,1446.42 \n",
       "  1994.18,1446.68 2053.45,1446.71 2112.72,1446.71 2171.99,1446.71 2231.26,1446.71 2290.52,1446.71 \n",
       "  \"/>\n",
       "<polyline clip-path=\"url(#clip8202)\" style=\"stroke:#c271d2; stroke-width:4; stroke-opacity:1; fill:none\" points=\"\n",
       "  216.13,1446.71 275.398,1446.71 334.667,1446.71 393.935,1446.71 453.203,1446.71 512.472,1446.71 571.74,1446.71 631.009,1446.71 690.277,1446.71 749.545,1446.71 \n",
       "  808.814,1446.69 868.082,1446.55 927.351,1445.91 986.619,1443.33 1045.89,1434.38 1105.16,1407.99 1164.42,1341.75 1223.69,1202.37 1282.96,965.849 1342.23,648.567 \n",
       "  1401.5,316.405 1460.77,88.0701 1520.03,131.187 1579.3,506.153 1638.57,975.789 1697.84,1278.22 1757.11,1400.24 1816.38,1436.13 1875.65,1444.69 1934.91,1446.39 \n",
       "  1994.18,1446.67 2053.45,1446.71 2112.72,1446.71 2171.99,1446.71 2231.26,1446.71 2290.52,1446.71 \n",
       "  \"/>\n",
       "<polyline clip-path=\"url(#clip8202)\" style=\"stroke:#ac8d18; stroke-width:4; stroke-opacity:1; fill:none\" points=\"\n",
       "  216.13,1446.71 275.398,1446.71 334.667,1446.71 393.935,1446.71 453.203,1446.71 512.472,1446.71 571.74,1446.71 631.009,1446.71 690.277,1446.71 749.545,1446.71 \n",
       "  808.814,1446.69 868.082,1446.56 927.351,1445.95 986.619,1443.45 1045.89,1434.73 1105.16,1408.74 1164.42,1342.85 1223.69,1203.08 1282.96,964.581 1342.23,644.208 \n",
       "  1401.5,311.384 1460.77,88.0053 1520.03,137.214 1579.3,511.387 1638.57,976.05 1697.84,1276.31 1757.11,1398.92 1816.38,1435.64 1875.65,1444.56 1934.91,1446.37 \n",
       "  1994.18,1446.67 2053.45,1446.71 2112.72,1446.71 2171.99,1446.71 2231.26,1446.71 2290.52,1446.71 \n",
       "  \"/>\n",
       "<path clip-path=\"url(#clip8200)\" d=\"\n",
       "M1989.93 493.644 L2280.76 493.644 L2280.76 130.764 L1989.93 130.764  Z\n",
       "  \" fill=\"#ffffff\" fill-rule=\"evenodd\" fill-opacity=\"1\"/>\n",
       "<polyline clip-path=\"url(#clip8200)\" style=\"stroke:#000000; stroke-width:4; stroke-opacity:1; fill:none\" points=\"\n",
       "  1989.93,493.644 2280.76,493.644 2280.76,130.764 1989.93,130.764 1989.93,493.644 \n",
       "  \"/>\n",
       "<polyline clip-path=\"url(#clip8200)\" style=\"stroke:#009af9; stroke-width:4; stroke-opacity:1; fill:none\" points=\"\n",
       "  2013.93,191.244 2157.93,191.244 \n",
       "  \"/>\n",
       "<g clip-path=\"url(#clip8200)\">\n",
       "<text style=\"fill:#000000; fill-opacity:1; font-family:Arial,Helvetica Neue,Helvetica,sans-serif; font-size:48px; text-anchor:start;\" transform=\"rotate(0, 2181.93, 208.744)\" x=\"2181.93\" y=\"208.744\">y1</text>\n",
       "</g>\n",
       "<polyline clip-path=\"url(#clip8200)\" style=\"stroke:#e26f46; stroke-width:4; stroke-opacity:1; fill:none\" points=\"\n",
       "  2013.93,251.724 2157.93,251.724 \n",
       "  \"/>\n",
       "<g clip-path=\"url(#clip8200)\">\n",
       "<text style=\"fill:#000000; fill-opacity:1; font-family:Arial,Helvetica Neue,Helvetica,sans-serif; font-size:48px; text-anchor:start;\" transform=\"rotate(0, 2181.93, 269.224)\" x=\"2181.93\" y=\"269.224\">y2</text>\n",
       "</g>\n",
       "<polyline clip-path=\"url(#clip8200)\" style=\"stroke:#3da44d; stroke-width:4; stroke-opacity:1; fill:none\" points=\"\n",
       "  2013.93,312.204 2157.93,312.204 \n",
       "  \"/>\n",
       "<g clip-path=\"url(#clip8200)\">\n",
       "<text style=\"fill:#000000; fill-opacity:1; font-family:Arial,Helvetica Neue,Helvetica,sans-serif; font-size:48px; text-anchor:start;\" transform=\"rotate(0, 2181.93, 329.704)\" x=\"2181.93\" y=\"329.704\">y3</text>\n",
       "</g>\n",
       "<polyline clip-path=\"url(#clip8200)\" style=\"stroke:#c271d2; stroke-width:4; stroke-opacity:1; fill:none\" points=\"\n",
       "  2013.93,372.684 2157.93,372.684 \n",
       "  \"/>\n",
       "<g clip-path=\"url(#clip8200)\">\n",
       "<text style=\"fill:#000000; fill-opacity:1; font-family:Arial,Helvetica Neue,Helvetica,sans-serif; font-size:48px; text-anchor:start;\" transform=\"rotate(0, 2181.93, 390.184)\" x=\"2181.93\" y=\"390.184\">y4</text>\n",
       "</g>\n",
       "<polyline clip-path=\"url(#clip8200)\" style=\"stroke:#ac8d18; stroke-width:4; stroke-opacity:1; fill:none\" points=\"\n",
       "  2013.93,433.164 2157.93,433.164 \n",
       "  \"/>\n",
       "<g clip-path=\"url(#clip8200)\">\n",
       "<text style=\"fill:#000000; fill-opacity:1; font-family:Arial,Helvetica Neue,Helvetica,sans-serif; font-size:48px; text-anchor:start;\" transform=\"rotate(0, 2181.93, 450.664)\" x=\"2181.93\" y=\"450.664\">y5</text>\n",
       "</g>\n",
       "</svg>\n"
      ]
     },
     "execution_count": 42,
     "metadata": {},
     "output_type": "execute_result"
    }
   ],
   "source": [
    "plot(vSpace.u, Y[:,25,:])"
   ]
  },
  {
   "cell_type": "code",
   "execution_count": null,
   "metadata": {},
   "outputs": [],
   "source": []
  }
 ],
 "metadata": {
  "kernelspec": {
   "display_name": "Julia 1.3.1",
   "language": "julia",
   "name": "julia-1.3"
  },
  "language_info": {
   "file_extension": ".jl",
   "mimetype": "application/julia",
   "name": "julia",
   "version": "1.3.1"
  }
 },
 "nbformat": 4,
 "nbformat_minor": 4
}
