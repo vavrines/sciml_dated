{
 "cells": [
  {
   "cell_type": "code",
   "execution_count": 1,
   "metadata": {},
   "outputs": [],
   "source": [
    "using Revise\n",
    "using DifferentialEquations\n",
    "using Flux\n",
    "using DiffEqFlux\n",
    "using Optim\n",
    "using Plots\n",
    "using FileIO\n",
    "using JLD2\n",
    "using OffsetArrays\n",
    "using Kinetic"
   ]
  },
  {
   "cell_type": "code",
   "execution_count": 2,
   "metadata": {},
   "outputs": [
    {
     "data": {
      "text/plain": [
       "bgk! (generic function with 1 method)"
      ]
     },
     "execution_count": 2,
     "metadata": {},
     "output_type": "execute_result"
    }
   ],
   "source": [
    "function bgk!(df, f, p, t)\n",
    "    g, tau = p\n",
    "    df .= (g .- f) ./ tau\n",
    "end"
   ]
  },
  {
   "cell_type": "code",
   "execution_count": 3,
   "metadata": {},
   "outputs": [
    {
     "name": "stdout",
     "output_type": "stream",
     "text": [
      "case = shock\n",
      "space = 1d1f1v\n",
      "nSpecies = 1\n",
      "interpOrder = 1\n",
      "limiter = vanleer\n",
      "cfl = 0.95\n",
      "maxTime = 250.0\n",
      "x0 = -25.0\n",
      "x1 = 25.0\n",
      "nx = 50\n",
      "pMeshType = uniform\n",
      "nxg = 0\n",
      "umin = -10.0\n",
      "umax = 10.0\n",
      "nu = 36\n",
      "nug = 0\n",
      "vMeshType = rectangle\n",
      "knudsen = 1.0\n",
      "mach = 2.0\n",
      "prandtl = 1.0\n",
      "inK = 0.0\n",
      "omega = 0.5\n",
      "alphaRef = 1.0\n",
      "omegaRef = 0.5\n",
      "tLen = 3\n",
      "nh = 12\n",
      "\n"
     ]
    }
   ],
   "source": [
    "D = read_dict(\"../code/shock/shock1D.txt\")\n",
    "for key in keys(D)\n",
    "    s = Symbol(key)\n",
    "    @eval $s = $(D[key])\n",
    "end"
   ]
  },
  {
   "cell_type": "code",
   "execution_count": 4,
   "metadata": {},
   "outputs": [],
   "source": [
    "γ = 3.\n",
    "set = Setup(case, space, nSpecies, interpOrder, limiter, cfl, maxTime)\n",
    "pSpace = PSpace1D(x0, x1, nx, pMeshType, nxg)\n",
    "μᵣ = ref_vhs_vis(knudsen, alphaRef, omegaRef)\n",
    "gas = GasProperty(knudsen, mach, prandtl, inK, γ, omega, alphaRef, omegaRef, μᵣ)\n",
    "vSpace = VSpace1D(umin, umax, nu, vMeshType, nug)\n",
    "wL, primL, fL, bcL, wR, primR, fR, bcR = ib_rh(mach, γ, vSpace.u)\n",
    "ib = IB1D1F(wL, primL, fL, bcL, wR, primR, fR, bcR)\n",
    "\n",
    "ks = SolverSet(set, pSpace, vSpace, gas, ib, pwd());"
   ]
  },
  {
   "cell_type": "code",
   "execution_count": 34,
   "metadata": {},
   "outputs": [],
   "source": [
    "ctr = OffsetArray{ControlVolume1D1F}(undef, eachindex(ks.pSpace.x))\n",
    "face = Array{Interface1D1F}(undef, ks.pSpace.nx+1)\n",
    "for i in eachindex(ctr)\n",
    "    if i <= ks.pSpace.nx÷2\n",
    "        ctr[i] = ControlVolume1D1F(ks.pSpace.x[i], ks.pSpace.dx[i], Float32.(ks.ib.wL), Float32.(ks.ib.primL), Float32.(ks.ib.fL))\n",
    "    else\n",
    "        ctr[i] = ControlVolume1D1F(ks.pSpace.x[i], ks.pSpace.dx[i], Float32.(ks.ib.wR), Float32.(ks.ib.primR), Float32.(ks.ib.fR))\n",
    "    end\n",
    "end\n",
    "for i=1:ks.pSpace.nx+1\n",
    "    face[i] = Interface1D1F(ks.ib.wL, ks.ib.fL)\n",
    "end"
   ]
  },
  {
   "cell_type": "code",
   "execution_count": 6,
   "metadata": {},
   "outputs": [
    {
     "data": {
      "text/plain": [
       "0.0f0:0.03870998f0:0.07741996f0"
      ]
     },
     "execution_count": 6,
     "metadata": {},
     "output_type": "execute_result"
    }
   ],
   "source": [
    "sos = sound_speed(ks.ib.primR, γ)\n",
    "vmax = ks.vSpace.u1 + sos\n",
    "tmax = vmax / ks.pSpace.dx[1]\n",
    "dt = Float32(ks.set.cfl / tmax)\n",
    "tSpan = (0.f0, dt)\n",
    "tRan = range(tSpan[1], tSpan[2], length=tLen)"
   ]
  },
  {
   "cell_type": "code",
   "execution_count": 36,
   "metadata": {},
   "outputs": [],
   "source": [
    "residual = Array{Float32}(undef, 3)\n",
    "for iter=1:1000\n",
    "    Kinetic.evolve!(ks, ctr, face, dt)\n",
    "    Kinetic.update!(ks, ctr, face, dt, residual)\n",
    "end"
   ]
  },
  {
   "cell_type": "code",
   "execution_count": 8,
   "metadata": {},
   "outputs": [],
   "source": [
    "X = Array{Float32}(undef, nu, nx);\n",
    "for i in 1:nx\n",
    "    X[:,i] .= ctr[i].f\n",
    "end"
   ]
  },
  {
   "cell_type": "code",
   "execution_count": 9,
   "metadata": {},
   "outputs": [],
   "source": [
    "M = Array{Float32}(undef, nu, nx)\n",
    "τ = Array{Float32}(undef, 1, nx)\n",
    "for i=1:nx\n",
    "    M[:,i] .= maxwellian(ks.vSpace.u, ctr[i].prim)\n",
    "    τ[1,i] = vhs_collision_time(ctr[i].prim, ks.gas.μᵣ, ks.gas.ω)\n",
    "end\n",
    "\n",
    "data_para = [M, τ];"
   ]
  },
  {
   "cell_type": "code",
   "execution_count": 10,
   "metadata": {},
   "outputs": [],
   "source": [
    "prob = ODEProblem(bgk!, X, tSpan, data_para)\n",
    "Y = solve(prob, Tsit5(), saveat=tRan) |> Array;"
   ]
  },
  {
   "cell_type": "code",
   "execution_count": null,
   "metadata": {},
   "outputs": [],
   "source": []
  },
  {
   "cell_type": "code",
   "execution_count": 11,
   "metadata": {
    "scrolled": true
   },
   "outputs": [],
   "source": [
    "dudt = FastChain( (x, p) -> x.^2,\n",
    "                   FastDense(vSpace.nu, vSpace.nu*16, tanh),\n",
    "                   #FastDense(vSpace.nu*16, vSpace.nu*16, tanh),\n",
    "                   FastDense(vSpace.nu*16, vSpace.nu) )\n",
    "node = NeuralODE(dudt, tSpan, Tsit5(), saveat=tRan);"
   ]
  },
  {
   "cell_type": "code",
   "execution_count": 12,
   "metadata": {},
   "outputs": [
    {
     "data": {
      "text/plain": [
       "loss_node (generic function with 1 method)"
      ]
     },
     "execution_count": 12,
     "metadata": {},
     "output_type": "execute_result"
    }
   ],
   "source": [
    "function loss_node(p) # without dataset\n",
    "    diff = Array(node(X, p)) .- Y\n",
    "    loss = sum(abs2, diff)\n",
    "    return loss\n",
    "end"
   ]
  },
  {
   "cell_type": "code",
   "execution_count": 13,
   "metadata": {},
   "outputs": [
    {
     "data": {
      "text/plain": [
       "#5 (generic function with 1 method)"
      ]
     },
     "execution_count": 13,
     "metadata": {},
     "output_type": "execute_result"
    }
   ],
   "source": [
    "cb = function (p, l)\n",
    "    display(l)\n",
    "    return false\n",
    "end"
   ]
  },
  {
   "cell_type": "code",
   "execution_count": 14,
   "metadata": {
    "scrolled": true
   },
   "outputs": [
    {
     "data": {
      "text/plain": [
       "0.0122402795f0"
      ]
     },
     "metadata": {},
     "output_type": "display_data"
    },
    {
     "name": "stderr",
     "output_type": "stream",
     "text": [
      "\r",
      "\u001b[32mloss: 0.0122:   0%|▎                                        |  ETA: 1:45:31\u001b[39m"
     ]
    },
    {
     "data": {
      "text/plain": [
       "0.0033408897f0"
      ]
     },
     "metadata": {},
     "output_type": "display_data"
    },
    {
     "name": "stderr",
     "output_type": "stream",
     "text": [
      "\r",
      "\u001b[32mloss: 0.00334:   1%|▍                                        |  ETA: 0:54:38\u001b[39m"
     ]
    },
    {
     "data": {
      "text/plain": [
       "0.0018682581f0"
      ]
     },
     "metadata": {},
     "output_type": "display_data"
    },
    {
     "name": "stderr",
     "output_type": "stream",
     "text": [
      "\r",
      "\u001b[32mloss: 0.00187:   2%|▋                                        |  ETA: 0:36:45\u001b[39m"
     ]
    },
    {
     "data": {
      "text/plain": [
       "0.0030265476f0"
      ]
     },
     "metadata": {},
     "output_type": "display_data"
    },
    {
     "name": "stderr",
     "output_type": "stream",
     "text": [
      "\r",
      "\u001b[32mloss: 0.00303:   2%|▉                                        |  ETA: 0:27:43\u001b[39m"
     ]
    },
    {
     "data": {
      "text/plain": [
       "0.0036801053f0"
      ]
     },
     "metadata": {},
     "output_type": "display_data"
    },
    {
     "name": "stderr",
     "output_type": "stream",
     "text": [
      "\r",
      "\u001b[32mloss: 0.00368:   2%|█                                        |  ETA: 0:22:17\u001b[39m"
     ]
    },
    {
     "data": {
      "text/plain": [
       "0.00325077f0"
      ]
     },
     "metadata": {},
     "output_type": "display_data"
    },
    {
     "name": "stderr",
     "output_type": "stream",
     "text": [
      "\r",
      "\u001b[32mloss: 0.00325:   3%|█▎                                       |  ETA: 0:18:40\u001b[39m"
     ]
    },
    {
     "data": {
      "text/plain": [
       "0.0023321684f0"
      ]
     },
     "metadata": {},
     "output_type": "display_data"
    },
    {
     "name": "stderr",
     "output_type": "stream",
     "text": [
      "\r",
      "\u001b[32mloss: 0.00233:   4%|█▍                                       |  ETA: 0:16:05\u001b[39m"
     ]
    },
    {
     "data": {
      "text/plain": [
       "0.0015230246f0"
      ]
     },
     "metadata": {},
     "output_type": "display_data"
    },
    {
     "name": "stderr",
     "output_type": "stream",
     "text": [
      "\r",
      "\u001b[32mloss: 0.00152:   4%|█▋                                       |  ETA: 0:14:09\u001b[39m"
     ]
    },
    {
     "data": {
      "text/plain": [
       "0.0011098892f0"
      ]
     },
     "metadata": {},
     "output_type": "display_data"
    },
    {
     "name": "stderr",
     "output_type": "stream",
     "text": [
      "\r",
      "\u001b[32mloss: 0.00111:   4%|█▉                                       |  ETA: 0:12:36\u001b[39m"
     ]
    },
    {
     "data": {
      "text/plain": [
       "0.0010965185f0"
      ]
     },
     "metadata": {},
     "output_type": "display_data"
    },
    {
     "name": "stderr",
     "output_type": "stream",
     "text": [
      "\r",
      "\u001b[32mloss: 0.0011:   5%|██                                       |  ETA: 0:11:23\u001b[39m"
     ]
    },
    {
     "data": {
      "text/plain": [
       "0.0013103236f0"
      ]
     },
     "metadata": {},
     "output_type": "display_data"
    },
    {
     "name": "stderr",
     "output_type": "stream",
     "text": [
      "\r",
      "\u001b[32mloss: 0.00131:   6%|██▎                                      |  ETA: 0:10:25\u001b[39m"
     ]
    },
    {
     "data": {
      "text/plain": [
       "0.0015368708f0"
      ]
     },
     "metadata": {},
     "output_type": "display_data"
    },
    {
     "name": "stderr",
     "output_type": "stream",
     "text": [
      "\r",
      "\u001b[32mloss: 0.00154:   6%|██▌                                      |  ETA: 0:09:37\u001b[39m"
     ]
    },
    {
     "data": {
      "text/plain": [
       "0.0016305924f0"
      ]
     },
     "metadata": {},
     "output_type": "display_data"
    },
    {
     "name": "stderr",
     "output_type": "stream",
     "text": [
      "\r",
      "\u001b[32mloss: 0.00163:   6%|██▋                                      |  ETA: 0:08:56\u001b[39m"
     ]
    },
    {
     "data": {
      "text/plain": [
       "0.0015501436f0"
      ]
     },
     "metadata": {},
     "output_type": "display_data"
    },
    {
     "name": "stderr",
     "output_type": "stream",
     "text": [
      "\r",
      "\u001b[32mloss: 0.00155:   7%|██▉                                      |  ETA: 0:08:20\u001b[39m"
     ]
    },
    {
     "data": {
      "text/plain": [
       "0.0013298689f0"
      ]
     },
     "metadata": {},
     "output_type": "display_data"
    },
    {
     "name": "stderr",
     "output_type": "stream",
     "text": [
      "\r",
      "\u001b[32mloss: 0.00133:   8%|███▏                                     |  ETA: 0:07:50\u001b[39m"
     ]
    },
    {
     "data": {
      "text/plain": [
       "0.0010432681f0"
      ]
     },
     "metadata": {},
     "output_type": "display_data"
    },
    {
     "name": "stderr",
     "output_type": "stream",
     "text": [
      "\r",
      "\u001b[32mloss: 0.00104:   8%|███▎                                     |  ETA: 0:07:24\u001b[39m"
     ]
    },
    {
     "data": {
      "text/plain": [
       "0.00077948044f0"
      ]
     },
     "metadata": {},
     "output_type": "display_data"
    },
    {
     "name": "stderr",
     "output_type": "stream",
     "text": [
      "\r",
      "\u001b[32mloss: 0.000779:   8%|███▌                                     |  ETA: 0:06:58\u001b[39m"
     ]
    },
    {
     "data": {
      "text/plain": [
       "0.0006159849f0"
      ]
     },
     "metadata": {},
     "output_type": "display_data"
    },
    {
     "name": "stderr",
     "output_type": "stream",
     "text": [
      "\r",
      "\u001b[32mloss: 0.000616:   9%|███▊                                     |  ETA: 0:06:35\u001b[39m"
     ]
    },
    {
     "data": {
      "text/plain": [
       "0.0005886305f0"
      ]
     },
     "metadata": {},
     "output_type": "display_data"
    },
    {
     "name": "stderr",
     "output_type": "stream",
     "text": [
      "\r",
      "\u001b[32mloss: 0.000589:  10%|███▉                                     |  ETA: 0:06:16\u001b[39m"
     ]
    },
    {
     "data": {
      "text/plain": [
       "0.0006742668f0"
      ]
     },
     "metadata": {},
     "output_type": "display_data"
    },
    {
     "name": "stderr",
     "output_type": "stream",
     "text": [
      "\r",
      "\u001b[32mloss: 0.000674:  10%|████▏                                    |  ETA: 0:05:57\u001b[39m"
     ]
    },
    {
     "data": {
      "text/plain": [
       "0.00080015144f0"
      ]
     },
     "metadata": {},
     "output_type": "display_data"
    },
    {
     "name": "stderr",
     "output_type": "stream",
     "text": [
      "\r",
      "\u001b[32mloss: 0.0008:  10%|████▎                                    |  ETA: 0:05:41\u001b[39m"
     ]
    },
    {
     "data": {
      "text/plain": [
       "0.00088182965f0"
      ]
     },
     "metadata": {},
     "output_type": "display_data"
    },
    {
     "name": "stderr",
     "output_type": "stream",
     "text": [
      "\r",
      "\u001b[32mloss: 0.000882:  11%|████▌                                    |  ETA: 0:05:28\u001b[39m"
     ]
    },
    {
     "data": {
      "text/plain": [
       "0.0008688987f0"
      ]
     },
     "metadata": {},
     "output_type": "display_data"
    },
    {
     "name": "stderr",
     "output_type": "stream",
     "text": [
      "\r",
      "\u001b[32mloss: 0.000869:  12%|████▊                                    |  ETA: 0:05:16\u001b[39m"
     ]
    },
    {
     "data": {
      "text/plain": [
       "0.0007675173f0"
      ]
     },
     "metadata": {},
     "output_type": "display_data"
    },
    {
     "name": "stderr",
     "output_type": "stream",
     "text": [
      "\r",
      "\u001b[32mloss: 0.000768:  12%|████▉                                    |  ETA: 0:05:03\u001b[39m"
     ]
    },
    {
     "data": {
      "text/plain": [
       "0.00062761f0"
      ]
     },
     "metadata": {},
     "output_type": "display_data"
    },
    {
     "name": "stderr",
     "output_type": "stream",
     "text": [
      "\r",
      "\u001b[32mloss: 0.000628:  12%|█████▏                                   |  ETA: 0:04:51\u001b[39m"
     ]
    },
    {
     "data": {
      "text/plain": [
       "0.00051038014f0"
      ]
     },
     "metadata": {},
     "output_type": "display_data"
    },
    {
     "name": "stderr",
     "output_type": "stream",
     "text": [
      "\r",
      "\u001b[32mloss: 0.00051:  13%|█████▍                                   |  ETA: 0:04:40\u001b[39m"
     ]
    },
    {
     "data": {
      "text/plain": [
       "0.0004572658f0"
      ]
     },
     "metadata": {},
     "output_type": "display_data"
    },
    {
     "name": "stderr",
     "output_type": "stream",
     "text": [
      "\r",
      "\u001b[32mloss: 0.000457:  14%|█████▌                                   |  ETA: 0:04:30\u001b[39m"
     ]
    },
    {
     "data": {
      "text/plain": [
       "0.00047243925f0"
      ]
     },
     "metadata": {},
     "output_type": "display_data"
    },
    {
     "name": "stderr",
     "output_type": "stream",
     "text": [
      "\r",
      "\u001b[32mloss: 0.000472:  14%|█████▊                                   |  ETA: 0:04:20\u001b[39m"
     ]
    },
    {
     "data": {
      "text/plain": [
       "0.0005255674f0"
      ]
     },
     "metadata": {},
     "output_type": "display_data"
    },
    {
     "name": "stderr",
     "output_type": "stream",
     "text": [
      "\r",
      "\u001b[32mloss: 0.000526:  14%|██████                                   |  ETA: 0:04:11\u001b[39m"
     ]
    },
    {
     "data": {
      "text/plain": [
       "0.0005730018f0"
      ]
     },
     "metadata": {},
     "output_type": "display_data"
    },
    {
     "name": "stderr",
     "output_type": "stream",
     "text": [
      "\r",
      "\u001b[32mloss: 0.000573:  15%|██████▏                                  |  ETA: 0:04:03\u001b[39m"
     ]
    },
    {
     "data": {
      "text/plain": [
       "0.00058305176f0"
      ]
     },
     "metadata": {},
     "output_type": "display_data"
    },
    {
     "name": "stderr",
     "output_type": "stream",
     "text": [
      "\r",
      "\u001b[32mloss: 0.000583:  16%|██████▍                                  |  ETA: 0:03:55\u001b[39m"
     ]
    },
    {
     "data": {
      "text/plain": [
       "0.00054967194f0"
      ]
     },
     "metadata": {},
     "output_type": "display_data"
    },
    {
     "name": "stderr",
     "output_type": "stream",
     "text": [
      "\r",
      "\u001b[32mloss: 0.00055:  16%|██████▌                                  |  ETA: 0:03:48\u001b[39m"
     ]
    },
    {
     "data": {
      "text/plain": [
       "0.0004900624f0"
      ]
     },
     "metadata": {},
     "output_type": "display_data"
    },
    {
     "name": "stderr",
     "output_type": "stream",
     "text": [
      "\r",
      "\u001b[32mloss: 0.00049:  16%|██████▊                                  |  ETA: 0:03:41\u001b[39m"
     ]
    },
    {
     "data": {
      "text/plain": [
       "0.0004315977f0"
      ]
     },
     "metadata": {},
     "output_type": "display_data"
    },
    {
     "name": "stderr",
     "output_type": "stream",
     "text": [
      "\r",
      "\u001b[32mloss: 0.000432:  17%|███████                                  |  ETA: 0:03:34\u001b[39m"
     ]
    },
    {
     "data": {
      "text/plain": [
       "0.0003967548f0"
      ]
     },
     "metadata": {},
     "output_type": "display_data"
    },
    {
     "name": "stderr",
     "output_type": "stream",
     "text": [
      "\r",
      "\u001b[32mloss: 0.000397:  18%|███████▏                                 |  ETA: 0:03:28\u001b[39m"
     ]
    },
    {
     "data": {
      "text/plain": [
       "0.00039297016f0"
      ]
     },
     "metadata": {},
     "output_type": "display_data"
    },
    {
     "name": "stderr",
     "output_type": "stream",
     "text": [
      "\r",
      "\u001b[32mloss: 0.000393:  18%|███████▍                                 |  ETA: 0:03:22\u001b[39m"
     ]
    },
    {
     "data": {
      "text/plain": [
       "0.00041099967f0"
      ]
     },
     "metadata": {},
     "output_type": "display_data"
    },
    {
     "name": "stderr",
     "output_type": "stream",
     "text": [
      "\r",
      "\u001b[32mloss: 0.000411:  18%|███████▋                                 |  ETA: 0:03:17\u001b[39m"
     ]
    },
    {
     "data": {
      "text/plain": [
       "0.00043229765f0"
      ]
     },
     "metadata": {},
     "output_type": "display_data"
    },
    {
     "name": "stderr",
     "output_type": "stream",
     "text": [
      "\r",
      "\u001b[32mloss: 0.000432:  19%|███████▊                                 |  ETA: 0:03:12\u001b[39m"
     ]
    },
    {
     "data": {
      "text/plain": [
       "0.00044058845f0"
      ]
     },
     "metadata": {},
     "output_type": "display_data"
    },
    {
     "name": "stderr",
     "output_type": "stream",
     "text": [
      "\r",
      "\u001b[32mloss: 0.000441:  20%|████████                                 |  ETA: 0:03:07\u001b[39m"
     ]
    },
    {
     "data": {
      "text/plain": [
       "0.00042979053f0"
      ]
     },
     "metadata": {},
     "output_type": "display_data"
    },
    {
     "name": "stderr",
     "output_type": "stream",
     "text": [
      "\r",
      "\u001b[32mloss: 0.00043:  20%|████████▎                                |  ETA: 0:03:02\u001b[39m"
     ]
    },
    {
     "data": {
      "text/plain": [
       "0.00040483839f0"
      ]
     },
     "metadata": {},
     "output_type": "display_data"
    },
    {
     "name": "stderr",
     "output_type": "stream",
     "text": [
      "\r",
      "\u001b[32mloss: 0.000405:  20%|████████▍                                |  ETA: 0:02:58\u001b[39m"
     ]
    },
    {
     "data": {
      "text/plain": [
       "0.00037678913f0"
      ]
     },
     "metadata": {},
     "output_type": "display_data"
    },
    {
     "name": "stderr",
     "output_type": "stream",
     "text": [
      "\r",
      "\u001b[32mloss: 0.000377:  21%|████████▋                                |  ETA: 0:02:53\u001b[39m"
     ]
    },
    {
     "data": {
      "text/plain": [
       "0.00035596098f0"
      ]
     },
     "metadata": {},
     "output_type": "display_data"
    },
    {
     "name": "stderr",
     "output_type": "stream",
     "text": [
      "\r",
      "\u001b[32mloss: 0.000356:  22%|████████▉                                |  ETA: 0:02:49\u001b[39m"
     ]
    },
    {
     "data": {
      "text/plain": [
       "0.00034696818f0"
      ]
     },
     "metadata": {},
     "output_type": "display_data"
    },
    {
     "name": "stderr",
     "output_type": "stream",
     "text": [
      "\r",
      "\u001b[32mloss: 0.000347:  22%|█████████                                |  ETA: 0:02:45\u001b[39m"
     ]
    },
    {
     "data": {
      "text/plain": [
       "0.0003477727f0"
      ]
     },
     "metadata": {},
     "output_type": "display_data"
    },
    {
     "name": "stderr",
     "output_type": "stream",
     "text": [
      "\r",
      "\u001b[32mloss: 0.000348:  22%|█████████▎                               |  ETA: 0:02:42\u001b[39m"
     ]
    },
    {
     "data": {
      "text/plain": [
       "0.0003524421f0"
      ]
     },
     "metadata": {},
     "output_type": "display_data"
    },
    {
     "name": "stderr",
     "output_type": "stream",
     "text": [
      "\r",
      "\u001b[32mloss: 0.000352:  23%|█████████▍                               |  ETA: 0:02:38\u001b[39m"
     ]
    },
    {
     "data": {
      "text/plain": [
       "0.00035501024f0"
      ]
     },
     "metadata": {},
     "output_type": "display_data"
    },
    {
     "name": "stderr",
     "output_type": "stream",
     "text": [
      "\r",
      "\u001b[32mloss: 0.000355:  24%|█████████▋                               |  ETA: 0:02:34\u001b[39m"
     ]
    },
    {
     "data": {
      "text/plain": [
       "0.00035188557f0"
      ]
     },
     "metadata": {},
     "output_type": "display_data"
    },
    {
     "name": "stderr",
     "output_type": "stream",
     "text": [
      "\r",
      "\u001b[32mloss: 0.000352:  24%|█████████▉                               |  ETA: 0:02:31\u001b[39m"
     ]
    },
    {
     "data": {
      "text/plain": [
       "0.0003427591f0"
      ]
     },
     "metadata": {},
     "output_type": "display_data"
    },
    {
     "name": "stderr",
     "output_type": "stream",
     "text": [
      "\r",
      "\u001b[32mloss: 0.000343:  24%|██████████                               |  ETA: 0:02:28\u001b[39m"
     ]
    },
    {
     "data": {
      "text/plain": [
       "0.00033030746f0"
      ]
     },
     "metadata": {},
     "output_type": "display_data"
    },
    {
     "name": "stderr",
     "output_type": "stream",
     "text": [
      "\r",
      "\u001b[32mloss: 0.00033:  25%|██████████▎                              |  ETA: 0:02:25\u001b[39m"
     ]
    },
    {
     "data": {
      "text/plain": [
       "0.00031852862f0"
      ]
     },
     "metadata": {},
     "output_type": "display_data"
    },
    {
     "name": "stderr",
     "output_type": "stream",
     "text": [
      "\r",
      "\u001b[32mloss: 0.000319:  26%|██████████▌                              |  ETA: 0:02:22\u001b[39m"
     ]
    },
    {
     "data": {
      "text/plain": [
       "0.00031060306f0"
      ]
     },
     "metadata": {},
     "output_type": "display_data"
    },
    {
     "name": "stderr",
     "output_type": "stream",
     "text": [
      "\r",
      "\u001b[32mloss: 0.000311:  26%|██████████▋                              |  ETA: 0:02:19\u001b[39m"
     ]
    },
    {
     "data": {
      "text/plain": [
       "0.00030743593f0"
      ]
     },
     "metadata": {},
     "output_type": "display_data"
    },
    {
     "name": "stderr",
     "output_type": "stream",
     "text": [
      "\r",
      "\u001b[32mloss: 0.000307:  26%|██████████▉                              |  ETA: 0:02:16\u001b[39m"
     ]
    },
    {
     "data": {
      "text/plain": [
       "0.00030737283f0"
      ]
     },
     "metadata": {},
     "output_type": "display_data"
    },
    {
     "name": "stderr",
     "output_type": "stream",
     "text": [
      "\r",
      "\u001b[32mloss: 0.000307:  27%|███████████▏                             |  ETA: 0:02:14\u001b[39m"
     ]
    },
    {
     "data": {
      "text/plain": [
       "0.0003071401f0"
      ]
     },
     "metadata": {},
     "output_type": "display_data"
    },
    {
     "name": "stderr",
     "output_type": "stream",
     "text": [
      "\r",
      "\u001b[32mloss: 0.000307:  28%|███████████▎                             |  ETA: 0:02:11\u001b[39m"
     ]
    },
    {
     "data": {
      "text/plain": [
       "0.00030372466f0"
      ]
     },
     "metadata": {},
     "output_type": "display_data"
    },
    {
     "name": "stderr",
     "output_type": "stream",
     "text": [
      "\r",
      "\u001b[32mloss: 0.000304:  28%|███████████▌                             |  ETA: 0:02:08\u001b[39m"
     ]
    },
    {
     "data": {
      "text/plain": [
       "0.00029636547f0"
      ]
     },
     "metadata": {},
     "output_type": "display_data"
    },
    {
     "name": "stderr",
     "output_type": "stream",
     "text": [
      "\r",
      "\u001b[32mloss: 0.000296:  28%|███████████▋                             |  ETA: 0:02:06\u001b[39m"
     ]
    },
    {
     "data": {
      "text/plain": [
       "0.00028708085f0"
      ]
     },
     "metadata": {},
     "output_type": "display_data"
    },
    {
     "name": "stderr",
     "output_type": "stream",
     "text": [
      "\r",
      "\u001b[32mloss: 0.000287:  29%|███████████▉                             |  ETA: 0:02:04\u001b[39m"
     ]
    },
    {
     "data": {
      "text/plain": [
       "0.0002791072f0"
      ]
     },
     "metadata": {},
     "output_type": "display_data"
    },
    {
     "name": "stderr",
     "output_type": "stream",
     "text": [
      "\r",
      "\u001b[32mloss: 0.000279:  30%|████████████▏                            |  ETA: 0:02:01\u001b[39m"
     ]
    },
    {
     "data": {
      "text/plain": [
       "0.0002745092f0"
      ]
     },
     "metadata": {},
     "output_type": "display_data"
    },
    {
     "name": "stderr",
     "output_type": "stream",
     "text": [
      "\r",
      "\u001b[32mloss: 0.000275:  30%|████████████▎                            |  ETA: 0:01:59\u001b[39m"
     ]
    },
    {
     "data": {
      "text/plain": [
       "0.00027285804f0"
      ]
     },
     "metadata": {},
     "output_type": "display_data"
    },
    {
     "name": "stderr",
     "output_type": "stream",
     "text": [
      "\r",
      "\u001b[32mloss: 0.000273:  30%|████████████▌                            |  ETA: 0:01:57\u001b[39m"
     ]
    },
    {
     "data": {
      "text/plain": [
       "0.00027192396f0"
      ]
     },
     "metadata": {},
     "output_type": "display_data"
    },
    {
     "name": "stderr",
     "output_type": "stream",
     "text": [
      "\r",
      "\u001b[32mloss: 0.000272:  31%|████████████▊                            |  ETA: 0:01:55\u001b[39m"
     ]
    },
    {
     "data": {
      "text/plain": [
       "0.00026946107f0"
      ]
     },
     "metadata": {},
     "output_type": "display_data"
    },
    {
     "name": "stderr",
     "output_type": "stream",
     "text": [
      "\r",
      "\u001b[32mloss: 0.000269:  32%|████████████▉                            |  ETA: 0:01:53\u001b[39m"
     ]
    },
    {
     "data": {
      "text/plain": [
       "0.00026463612f0"
      ]
     },
     "metadata": {},
     "output_type": "display_data"
    },
    {
     "name": "stderr",
     "output_type": "stream",
     "text": [
      "\r",
      "\u001b[32mloss: 0.000265:  32%|█████████████▏                           |  ETA: 0:01:51\u001b[39m"
     ]
    },
    {
     "data": {
      "text/plain": [
       "0.00025830264f0"
      ]
     },
     "metadata": {},
     "output_type": "display_data"
    },
    {
     "name": "stderr",
     "output_type": "stream",
     "text": [
      "\r",
      "\u001b[32mloss: 0.000258:  32%|█████████████▍                           |  ETA: 0:01:49\u001b[39m"
     ]
    },
    {
     "data": {
      "text/plain": [
       "0.00025212442f0"
      ]
     },
     "metadata": {},
     "output_type": "display_data"
    },
    {
     "name": "stderr",
     "output_type": "stream",
     "text": [
      "\r",
      "\u001b[32mloss: 0.000252:  33%|█████████████▌                           |  ETA: 0:01:47\u001b[39m"
     ]
    },
    {
     "data": {
      "text/plain": [
       "0.00024735596f0"
      ]
     },
     "metadata": {},
     "output_type": "display_data"
    },
    {
     "name": "stderr",
     "output_type": "stream",
     "text": [
      "\r",
      "\u001b[32mloss: 0.000247:  34%|█████████████▊                           |  ETA: 0:01:45\u001b[39m"
     ]
    },
    {
     "data": {
      "text/plain": [
       "0.00024414077f0"
      ]
     },
     "metadata": {},
     "output_type": "display_data"
    },
    {
     "name": "stderr",
     "output_type": "stream",
     "text": [
      "\r",
      "\u001b[32mloss: 0.000244:  34%|██████████████                           |  ETA: 0:01:43\u001b[39m"
     ]
    },
    {
     "data": {
      "text/plain": [
       "0.00024161325f0"
      ]
     },
     "metadata": {},
     "output_type": "display_data"
    },
    {
     "name": "stderr",
     "output_type": "stream",
     "text": [
      "\r",
      "\u001b[32mloss: 0.000242:  34%|██████████████▏                          |  ETA: 0:01:42\u001b[39m"
     ]
    },
    {
     "data": {
      "text/plain": [
       "0.00023866424f0"
      ]
     },
     "metadata": {},
     "output_type": "display_data"
    },
    {
     "name": "stderr",
     "output_type": "stream",
     "text": [
      "\r",
      "\u001b[32mloss: 0.000239:  35%|██████████████▍                          |  ETA: 0:01:40\u001b[39m"
     ]
    },
    {
     "data": {
      "text/plain": [
       "0.00023478463f0"
      ]
     },
     "metadata": {},
     "output_type": "display_data"
    },
    {
     "name": "stderr",
     "output_type": "stream",
     "text": [
      "\r",
      "\u001b[32mloss: 0.000235:  36%|██████████████▌                          |  ETA: 0:01:38\u001b[39m"
     ]
    },
    {
     "data": {
      "text/plain": [
       "0.0002302568f0"
      ]
     },
     "metadata": {},
     "output_type": "display_data"
    },
    {
     "name": "stderr",
     "output_type": "stream",
     "text": [
      "\r",
      "\u001b[32mloss: 0.00023:  36%|██████████████▊                          |  ETA: 0:01:37\u001b[39m"
     ]
    },
    {
     "data": {
      "text/plain": [
       "0.00022566342f0"
      ]
     },
     "metadata": {},
     "output_type": "display_data"
    },
    {
     "name": "stderr",
     "output_type": "stream",
     "text": [
      "\r",
      "\u001b[32mloss: 0.000226:  36%|███████████████                          |  ETA: 0:01:35\u001b[39m"
     ]
    },
    {
     "data": {
      "text/plain": [
       "0.00022143382f0"
      ]
     },
     "metadata": {},
     "output_type": "display_data"
    },
    {
     "name": "stderr",
     "output_type": "stream",
     "text": [
      "\r",
      "\u001b[32mloss: 0.000221:  37%|███████████████▏                         |  ETA: 0:01:33\u001b[39m"
     ]
    },
    {
     "data": {
      "text/plain": [
       "0.00021774994f0"
      ]
     },
     "metadata": {},
     "output_type": "display_data"
    },
    {
     "name": "stderr",
     "output_type": "stream",
     "text": [
      "\r",
      "\u001b[32mloss: 0.000218:  38%|███████████████▍                         |  ETA: 0:01:32\u001b[39m"
     ]
    },
    {
     "data": {
      "text/plain": [
       "0.00021452356f0"
      ]
     },
     "metadata": {},
     "output_type": "display_data"
    },
    {
     "name": "stderr",
     "output_type": "stream",
     "text": [
      "\r",
      "\u001b[32mloss: 0.000215:  38%|███████████████▋                         |  ETA: 0:01:30\u001b[39m"
     ]
    },
    {
     "data": {
      "text/plain": [
       "0.00021142495f0"
      ]
     },
     "metadata": {},
     "output_type": "display_data"
    },
    {
     "name": "stderr",
     "output_type": "stream",
     "text": [
      "\r",
      "\u001b[32mloss: 0.000211:  38%|███████████████▊                         |  ETA: 0:01:29\u001b[39m"
     ]
    },
    {
     "data": {
      "text/plain": [
       "0.00020806042f0"
      ]
     },
     "metadata": {},
     "output_type": "display_data"
    },
    {
     "name": "stderr",
     "output_type": "stream",
     "text": [
      "\r",
      "\u001b[32mloss: 0.000208:  39%|████████████████                         |  ETA: 0:01:28\u001b[39m"
     ]
    },
    {
     "data": {
      "text/plain": [
       "0.00020427536f0"
      ]
     },
     "metadata": {},
     "output_type": "display_data"
    },
    {
     "name": "stderr",
     "output_type": "stream",
     "text": [
      "\r",
      "\u001b[32mloss: 0.000204:  40%|████████████████▎                        |  ETA: 0:01:26\u001b[39m"
     ]
    },
    {
     "data": {
      "text/plain": [
       "0.00020026145f0"
      ]
     },
     "metadata": {},
     "output_type": "display_data"
    },
    {
     "name": "stderr",
     "output_type": "stream",
     "text": [
      "\r",
      "\u001b[32mloss: 0.0002:  40%|████████████████▍                        |  ETA: 0:01:25\u001b[39m"
     ]
    },
    {
     "data": {
      "text/plain": [
       "0.0001963561f0"
      ]
     },
     "metadata": {},
     "output_type": "display_data"
    },
    {
     "name": "stderr",
     "output_type": "stream",
     "text": [
      "\r",
      "\u001b[32mloss: 0.000196:  40%|████████████████▋                        |  ETA: 0:01:23\u001b[39m"
     ]
    },
    {
     "data": {
      "text/plain": [
       "0.00019278804f0"
      ]
     },
     "metadata": {},
     "output_type": "display_data"
    },
    {
     "name": "stderr",
     "output_type": "stream",
     "text": [
      "\r",
      "\u001b[32mloss: 0.000193:  41%|████████████████▊                        |  ETA: 0:01:22\u001b[39m"
     ]
    },
    {
     "data": {
      "text/plain": [
       "0.00018956422f0"
      ]
     },
     "metadata": {},
     "output_type": "display_data"
    },
    {
     "name": "stderr",
     "output_type": "stream",
     "text": [
      "\r",
      "\u001b[32mloss: 0.00019:  42%|█████████████████                        |  ETA: 0:01:21\u001b[39m"
     ]
    },
    {
     "data": {
      "text/plain": [
       "0.00018647988f0"
      ]
     },
     "metadata": {},
     "output_type": "display_data"
    },
    {
     "name": "stderr",
     "output_type": "stream",
     "text": [
      "\r",
      "\u001b[32mloss: 0.000186:  42%|█████████████████▎                       |  ETA: 0:01:20\u001b[39m"
     ]
    },
    {
     "data": {
      "text/plain": [
       "0.00018325576f0"
      ]
     },
     "metadata": {},
     "output_type": "display_data"
    },
    {
     "name": "stderr",
     "output_type": "stream",
     "text": [
      "\r",
      "\u001b[32mloss: 0.000183:  42%|█████████████████▍                       |  ETA: 0:01:18\u001b[39m"
     ]
    },
    {
     "data": {
      "text/plain": [
       "0.00017976243f0"
      ]
     },
     "metadata": {},
     "output_type": "display_data"
    },
    {
     "name": "stderr",
     "output_type": "stream",
     "text": [
      "\r",
      "\u001b[32mloss: 0.00018:  43%|█████████████████▋                       |  ETA: 0:01:17\u001b[39m"
     ]
    },
    {
     "data": {
      "text/plain": [
       "0.00017613228f0"
      ]
     },
     "metadata": {},
     "output_type": "display_data"
    },
    {
     "name": "stderr",
     "output_type": "stream",
     "text": [
      "\r",
      "\u001b[32mloss: 0.000176:  44%|█████████████████▉                       |  ETA: 0:01:16\u001b[39m"
     ]
    },
    {
     "data": {
      "text/plain": [
       "0.00017262418f0"
      ]
     },
     "metadata": {},
     "output_type": "display_data"
    },
    {
     "name": "stderr",
     "output_type": "stream",
     "text": [
      "\r",
      "\u001b[32mloss: 0.000173:  44%|██████████████████                       |  ETA: 0:01:15\u001b[39m"
     ]
    },
    {
     "data": {
      "text/plain": [
       "0.0001693807f0"
      ]
     },
     "metadata": {},
     "output_type": "display_data"
    },
    {
     "name": "stderr",
     "output_type": "stream",
     "text": [
      "\r",
      "\u001b[32mloss: 0.000169:  44%|██████████████████▎                      |  ETA: 0:01:14\u001b[39m"
     ]
    },
    {
     "data": {
      "text/plain": [
       "0.00016632478f0"
      ]
     },
     "metadata": {},
     "output_type": "display_data"
    },
    {
     "name": "stderr",
     "output_type": "stream",
     "text": [
      "\r",
      "\u001b[32mloss: 0.000166:  45%|██████████████████▌                      |  ETA: 0:01:13\u001b[39m"
     ]
    },
    {
     "data": {
      "text/plain": [
       "0.00016328102f0"
      ]
     },
     "metadata": {},
     "output_type": "display_data"
    },
    {
     "name": "stderr",
     "output_type": "stream",
     "text": [
      "\r",
      "\u001b[32mloss: 0.000163:  46%|██████████████████▋                      |  ETA: 0:01:11\u001b[39m"
     ]
    },
    {
     "data": {
      "text/plain": [
       "0.00016013246f0"
      ]
     },
     "metadata": {},
     "output_type": "display_data"
    },
    {
     "name": "stderr",
     "output_type": "stream",
     "text": [
      "\r",
      "\u001b[32mloss: 0.00016:  46%|██████████████████▉                      |  ETA: 0:01:10\u001b[39m"
     ]
    },
    {
     "data": {
      "text/plain": [
       "0.00015689433f0"
      ]
     },
     "metadata": {},
     "output_type": "display_data"
    },
    {
     "name": "stderr",
     "output_type": "stream",
     "text": [
      "\r",
      "\u001b[32mloss: 0.000157:  46%|███████████████████▏                     |  ETA: 0:01:09\u001b[39m"
     ]
    },
    {
     "data": {
      "text/plain": [
       "0.00015367006f0"
      ]
     },
     "metadata": {},
     "output_type": "display_data"
    },
    {
     "name": "stderr",
     "output_type": "stream",
     "text": [
      "\r",
      "\u001b[32mloss: 0.000154:  47%|███████████████████▎                     |  ETA: 0:01:08\u001b[39m"
     ]
    },
    {
     "data": {
      "text/plain": [
       "0.00015055199f0"
      ]
     },
     "metadata": {},
     "output_type": "display_data"
    },
    {
     "name": "stderr",
     "output_type": "stream",
     "text": [
      "\r",
      "\u001b[32mloss: 0.000151:  48%|███████████████████▌                     |  ETA: 0:01:07\u001b[39m"
     ]
    },
    {
     "data": {
      "text/plain": [
       "0.00014755384f0"
      ]
     },
     "metadata": {},
     "output_type": "display_data"
    },
    {
     "name": "stderr",
     "output_type": "stream",
     "text": [
      "\r",
      "\u001b[32mloss: 0.000148:  48%|███████████████████▋                     |  ETA: 0:01:06\u001b[39m"
     ]
    },
    {
     "data": {
      "text/plain": [
       "0.0001446261f0"
      ]
     },
     "metadata": {},
     "output_type": "display_data"
    },
    {
     "name": "stderr",
     "output_type": "stream",
     "text": [
      "\r",
      "\u001b[32mloss: 0.000145:  48%|███████████████████▉                     |  ETA: 0:01:05\u001b[39m"
     ]
    },
    {
     "data": {
      "text/plain": [
       "0.00014171029f0"
      ]
     },
     "metadata": {},
     "output_type": "display_data"
    },
    {
     "name": "stderr",
     "output_type": "stream",
     "text": [
      "\r",
      "\u001b[32mloss: 0.000142:  49%|████████████████████▏                    |  ETA: 0:01:04\u001b[39m"
     ]
    },
    {
     "data": {
      "text/plain": [
       "0.00013878061f0"
      ]
     },
     "metadata": {},
     "output_type": "display_data"
    },
    {
     "name": "stderr",
     "output_type": "stream",
     "text": [
      "\r",
      "\u001b[32mloss: 0.000139:  50%|████████████████████▎                    |  ETA: 0:01:03\u001b[39m"
     ]
    },
    {
     "data": {
      "text/plain": [
       "0.0001358483f0"
      ]
     },
     "metadata": {},
     "output_type": "display_data"
    },
    {
     "name": "stderr",
     "output_type": "stream",
     "text": [
      "\r",
      "\u001b[32mloss: 0.000136:  50%|████████████████████▌                    |  ETA: 0:01:02\u001b[39m"
     ]
    },
    {
     "data": {
      "text/plain": [
       "0.00013294545f0"
      ]
     },
     "metadata": {},
     "output_type": "display_data"
    },
    {
     "name": "stderr",
     "output_type": "stream",
     "text": [
      "\r",
      "\u001b[32mloss: 0.000133:  50%|████████████████████▊                    |  ETA: 0:01:01\u001b[39m"
     ]
    },
    {
     "data": {
      "text/plain": [
       "0.00013010544f0"
      ]
     },
     "metadata": {},
     "output_type": "display_data"
    },
    {
     "name": "stderr",
     "output_type": "stream",
     "text": [
      "\r",
      "\u001b[32mloss: 0.00013:  51%|████████████████████▉                    |  ETA: 0:01:00\u001b[39m"
     ]
    },
    {
     "data": {
      "text/plain": [
       "0.00012734218f0"
      ]
     },
     "metadata": {},
     "output_type": "display_data"
    },
    {
     "name": "stderr",
     "output_type": "stream",
     "text": [
      "\r",
      "\u001b[32mloss: 0.000127:  52%|█████████████████████▏                   |  ETA: 0:00:59\u001b[39m"
     ]
    },
    {
     "data": {
      "text/plain": [
       "0.00012464274f0"
      ]
     },
     "metadata": {},
     "output_type": "display_data"
    },
    {
     "name": "stderr",
     "output_type": "stream",
     "text": [
      "\r",
      "\u001b[32mloss: 0.000125:  52%|█████████████████████▍                   |  ETA: 0:00:58\u001b[39m"
     ]
    },
    {
     "data": {
      "text/plain": [
       "0.00012197177f0"
      ]
     },
     "metadata": {},
     "output_type": "display_data"
    },
    {
     "name": "stderr",
     "output_type": "stream",
     "text": [
      "\r",
      "\u001b[32mloss: 0.000122:  52%|█████████████████████▌                   |  ETA: 0:00:57\u001b[39m"
     ]
    },
    {
     "data": {
      "text/plain": [
       "0.00011930174f0"
      ]
     },
     "metadata": {},
     "output_type": "display_data"
    },
    {
     "name": "stderr",
     "output_type": "stream",
     "text": [
      "\r",
      "\u001b[32mloss: 0.000119:  53%|█████████████████████▊                   |  ETA: 0:00:57\u001b[39m"
     ]
    },
    {
     "data": {
      "text/plain": [
       "0.00011664023f0"
      ]
     },
     "metadata": {},
     "output_type": "display_data"
    },
    {
     "name": "stderr",
     "output_type": "stream",
     "text": [
      "\r",
      "\u001b[32mloss: 0.000117:  54%|█████████████████████▉                   |  ETA: 0:00:56\u001b[39m"
     ]
    },
    {
     "data": {
      "text/plain": [
       "0.000114021765f0"
      ]
     },
     "metadata": {},
     "output_type": "display_data"
    },
    {
     "name": "stderr",
     "output_type": "stream",
     "text": [
      "\r",
      "\u001b[32mloss: 0.000114:  54%|██████████████████████▏                  |  ETA: 0:00:55\u001b[39m"
     ]
    },
    {
     "data": {
      "text/plain": [
       "0.00011147271f0"
      ]
     },
     "metadata": {},
     "output_type": "display_data"
    },
    {
     "name": "stderr",
     "output_type": "stream",
     "text": [
      "\r",
      "\u001b[32mloss: 0.000111:  54%|██████████████████████▍                  |  ETA: 0:00:54\u001b[39m"
     ]
    },
    {
     "data": {
      "text/plain": [
       "0.00010898795f0"
      ]
     },
     "metadata": {},
     "output_type": "display_data"
    },
    {
     "name": "stderr",
     "output_type": "stream",
     "text": [
      "\r",
      "\u001b[32mloss: 0.000109:  55%|██████████████████████▌                  |  ETA: 0:00:53\u001b[39m"
     ]
    },
    {
     "data": {
      "text/plain": [
       "0.00010654309f0"
      ]
     },
     "metadata": {},
     "output_type": "display_data"
    },
    {
     "name": "stderr",
     "output_type": "stream",
     "text": [
      "\r",
      "\u001b[32mloss: 0.000107:  56%|██████████████████████▊                  |  ETA: 0:00:52\u001b[39m"
     ]
    },
    {
     "data": {
      "text/plain": [
       "0.000104116676f0"
      ]
     },
     "metadata": {},
     "output_type": "display_data"
    },
    {
     "name": "stderr",
     "output_type": "stream",
     "text": [
      "\r",
      "\u001b[32mloss: 0.000104:  56%|███████████████████████                  |  ETA: 0:00:51\u001b[39m"
     ]
    },
    {
     "data": {
      "text/plain": [
       "0.000101710844f0"
      ]
     },
     "metadata": {},
     "output_type": "display_data"
    },
    {
     "name": "stderr",
     "output_type": "stream",
     "text": [
      "\r",
      "\u001b[32mloss: 0.000102:  56%|███████████████████████▏                 |  ETA: 0:00:51\u001b[39m"
     ]
    },
    {
     "data": {
      "text/plain": [
       "9.9344164f-5"
      ]
     },
     "metadata": {},
     "output_type": "display_data"
    },
    {
     "name": "stderr",
     "output_type": "stream",
     "text": [
      "\r",
      "\u001b[32mloss: 9.93e-05:  57%|███████████████████████▍                 |  ETA: 0:00:50\u001b[39m"
     ]
    },
    {
     "data": {
      "text/plain": [
       "9.703247f-5"
      ]
     },
     "metadata": {},
     "output_type": "display_data"
    },
    {
     "name": "stderr",
     "output_type": "stream",
     "text": [
      "\r",
      "\u001b[32mloss: 9.7e-05:  58%|███████████████████████▋                 |  ETA: 0:00:49\u001b[39m"
     ]
    },
    {
     "data": {
      "text/plain": [
       "9.4774674f-5"
      ]
     },
     "metadata": {},
     "output_type": "display_data"
    },
    {
     "name": "stderr",
     "output_type": "stream",
     "text": [
      "\r",
      "\u001b[32mloss: 9.48e-05:  58%|███████████████████████▊                 |  ETA: 0:00:48\u001b[39m"
     ]
    },
    {
     "data": {
      "text/plain": [
       "9.255933f-5"
      ]
     },
     "metadata": {},
     "output_type": "display_data"
    },
    {
     "name": "stderr",
     "output_type": "stream",
     "text": [
      "\r",
      "\u001b[32mloss: 9.26e-05:  58%|████████████████████████                 |  ETA: 0:00:47\u001b[39m"
     ]
    },
    {
     "data": {
      "text/plain": [
       "9.037725f-5"
      ]
     },
     "metadata": {},
     "output_type": "display_data"
    },
    {
     "name": "stderr",
     "output_type": "stream",
     "text": [
      "\r",
      "\u001b[32mloss: 9.04e-05:  59%|████████████████████████▎                |  ETA: 0:00:47\u001b[39m"
     ]
    },
    {
     "data": {
      "text/plain": [
       "8.82272f-5"
      ]
     },
     "metadata": {},
     "output_type": "display_data"
    },
    {
     "name": "stderr",
     "output_type": "stream",
     "text": [
      "\r",
      "\u001b[32mloss: 8.82e-05:  60%|████████████████████████▍                |  ETA: 0:00:46\u001b[39m"
     ]
    },
    {
     "data": {
      "text/plain": [
       "8.6115055f-5"
      ]
     },
     "metadata": {},
     "output_type": "display_data"
    },
    {
     "name": "stderr",
     "output_type": "stream",
     "text": [
      "\r",
      "\u001b[32mloss: 8.61e-05:  60%|████████████████████████▋                |  ETA: 0:00:45\u001b[39m"
     ]
    },
    {
     "data": {
      "text/plain": [
       "8.404616f-5"
      ]
     },
     "metadata": {},
     "output_type": "display_data"
    },
    {
     "name": "stderr",
     "output_type": "stream",
     "text": [
      "\r",
      "\u001b[32mloss: 8.4e-05:  60%|████████████████████████▊                |  ETA: 0:00:44\u001b[39m"
     ]
    },
    {
     "data": {
      "text/plain": [
       "8.202341f-5"
      ]
     },
     "metadata": {},
     "output_type": "display_data"
    },
    {
     "name": "stderr",
     "output_type": "stream",
     "text": [
      "\r",
      "\u001b[32mloss: 8.2e-05:  61%|█████████████████████████                |  ETA: 0:00:44\u001b[39m"
     ]
    },
    {
     "data": {
      "text/plain": [
       "8.004599f-5"
      ]
     },
     "metadata": {},
     "output_type": "display_data"
    },
    {
     "name": "stderr",
     "output_type": "stream",
     "text": [
      "\r",
      "\u001b[32mloss: 8e-05:  62%|█████████████████████████▎               |  ETA: 0:00:43\u001b[39m"
     ]
    },
    {
     "data": {
      "text/plain": [
       "7.810865f-5"
      ]
     },
     "metadata": {},
     "output_type": "display_data"
    },
    {
     "name": "stderr",
     "output_type": "stream",
     "text": [
      "\r",
      "\u001b[32mloss: 7.81e-05:  62%|█████████████████████████▍               |  ETA: 0:00:42\u001b[39m"
     ]
    },
    {
     "data": {
      "text/plain": [
       "7.620759f-5"
      ]
     },
     "metadata": {},
     "output_type": "display_data"
    },
    {
     "name": "stderr",
     "output_type": "stream",
     "text": [
      "\r",
      "\u001b[32mloss: 7.62e-05:  62%|█████████████████████████▋               |  ETA: 0:00:41\u001b[39m"
     ]
    },
    {
     "data": {
      "text/plain": [
       "7.434283f-5"
      ]
     },
     "metadata": {},
     "output_type": "display_data"
    },
    {
     "name": "stderr",
     "output_type": "stream",
     "text": [
      "\r",
      "\u001b[32mloss: 7.43e-05:  63%|█████████████████████████▉               |  ETA: 0:00:41\u001b[39m"
     ]
    },
    {
     "data": {
      "text/plain": [
       "7.251834f-5"
      ]
     },
     "metadata": {},
     "output_type": "display_data"
    },
    {
     "name": "stderr",
     "output_type": "stream",
     "text": [
      "\r",
      "\u001b[32mloss: 7.25e-05:  64%|██████████████████████████               |  ETA: 0:00:40\u001b[39m"
     ]
    },
    {
     "data": {
      "text/plain": [
       "7.073692f-5"
      ]
     },
     "metadata": {},
     "output_type": "display_data"
    },
    {
     "name": "stderr",
     "output_type": "stream",
     "text": [
      "\r",
      "\u001b[32mloss: 7.07e-05:  64%|██████████████████████████▎              |  ETA: 0:00:39\u001b[39m"
     ]
    },
    {
     "data": {
      "text/plain": [
       "6.899904f-5"
      ]
     },
     "metadata": {},
     "output_type": "display_data"
    },
    {
     "name": "stderr",
     "output_type": "stream",
     "text": [
      "\r",
      "\u001b[32mloss: 6.9e-05:  64%|██████████████████████████▌              |  ETA: 0:00:39\u001b[39m"
     ]
    },
    {
     "data": {
      "text/plain": [
       "6.730126f-5"
      ]
     },
     "metadata": {},
     "output_type": "display_data"
    },
    {
     "name": "stderr",
     "output_type": "stream",
     "text": [
      "\r",
      "\u001b[32mloss: 6.73e-05:  65%|██████████████████████████▋              |  ETA: 0:00:38\u001b[39m"
     ]
    },
    {
     "data": {
      "text/plain": [
       "6.5640015f-5"
      ]
     },
     "metadata": {},
     "output_type": "display_data"
    },
    {
     "name": "stderr",
     "output_type": "stream",
     "text": [
      "\r",
      "\u001b[32mloss: 6.56e-05:  66%|██████████████████████████▉              |  ETA: 0:00:37\u001b[39m"
     ]
    },
    {
     "data": {
      "text/plain": [
       "6.4014734f-5"
      ]
     },
     "metadata": {},
     "output_type": "display_data"
    },
    {
     "name": "stderr",
     "output_type": "stream",
     "text": [
      "\r",
      "\u001b[32mloss: 6.4e-05:  66%|███████████████████████████              |  ETA: 0:00:37\u001b[39m"
     ]
    },
    {
     "data": {
      "text/plain": [
       "6.242875f-5"
      ]
     },
     "metadata": {},
     "output_type": "display_data"
    },
    {
     "name": "stderr",
     "output_type": "stream",
     "text": [
      "\r",
      "\u001b[32mloss: 6.24e-05:  66%|███████████████████████████▎             |  ETA: 0:00:36\u001b[39m"
     ]
    },
    {
     "data": {
      "text/plain": [
       "6.0882932f-5"
      ]
     },
     "metadata": {},
     "output_type": "display_data"
    },
    {
     "name": "stderr",
     "output_type": "stream",
     "text": [
      "\r",
      "\u001b[32mloss: 6.09e-05:  67%|███████████████████████████▌             |  ETA: 0:00:35\u001b[39m"
     ]
    },
    {
     "data": {
      "text/plain": [
       "5.9378f-5"
      ]
     },
     "metadata": {},
     "output_type": "display_data"
    },
    {
     "name": "stderr",
     "output_type": "stream",
     "text": [
      "\r",
      "\u001b[32mloss: 5.94e-05:  68%|███████████████████████████▋             |  ETA: 0:00:35\u001b[39m"
     ]
    },
    {
     "data": {
      "text/plain": [
       "5.791036f-5"
      ]
     },
     "metadata": {},
     "output_type": "display_data"
    },
    {
     "name": "stderr",
     "output_type": "stream",
     "text": [
      "\r",
      "\u001b[32mloss: 5.79e-05:  68%|███████████████████████████▉             |  ETA: 0:00:34\u001b[39m"
     ]
    },
    {
     "data": {
      "text/plain": [
       "5.6478984f-5"
      ]
     },
     "metadata": {},
     "output_type": "display_data"
    },
    {
     "name": "stderr",
     "output_type": "stream",
     "text": [
      "\r",
      "\u001b[32mloss: 5.65e-05:  68%|████████████████████████████▏            |  ETA: 0:00:33\u001b[39m"
     ]
    },
    {
     "data": {
      "text/plain": [
       "5.5082586f-5"
      ]
     },
     "metadata": {},
     "output_type": "display_data"
    },
    {
     "name": "stderr",
     "output_type": "stream",
     "text": [
      "\r",
      "\u001b[32mloss: 5.51e-05:  69%|████████████████████████████▎            |  ETA: 0:00:33\u001b[39m"
     ]
    },
    {
     "data": {
      "text/plain": [
       "5.3723445f-5"
      ]
     },
     "metadata": {},
     "output_type": "display_data"
    },
    {
     "name": "stderr",
     "output_type": "stream",
     "text": [
      "\r",
      "\u001b[32mloss: 5.37e-05:  70%|████████████████████████████▌            |  ETA: 0:00:32\u001b[39m"
     ]
    },
    {
     "data": {
      "text/plain": [
       "5.2401097f-5"
      ]
     },
     "metadata": {},
     "output_type": "display_data"
    },
    {
     "name": "stderr",
     "output_type": "stream",
     "text": [
      "\r",
      "\u001b[32mloss: 5.24e-05:  70%|████████████████████████████▊            |  ETA: 0:00:31\u001b[39m"
     ]
    },
    {
     "data": {
      "text/plain": [
       "5.1115854f-5"
      ]
     },
     "metadata": {},
     "output_type": "display_data"
    },
    {
     "name": "stderr",
     "output_type": "stream",
     "text": [
      "\r",
      "\u001b[32mloss: 5.11e-05:  70%|████████████████████████████▉            |  ETA: 0:00:31\u001b[39m"
     ]
    },
    {
     "data": {
      "text/plain": [
       "4.986597f-5"
      ]
     },
     "metadata": {},
     "output_type": "display_data"
    },
    {
     "name": "stderr",
     "output_type": "stream",
     "text": [
      "\r",
      "\u001b[32mloss: 4.99e-05:  71%|█████████████████████████████▏           |  ETA: 0:00:30\u001b[39m"
     ]
    },
    {
     "data": {
      "text/plain": [
       "4.865018f-5"
      ]
     },
     "metadata": {},
     "output_type": "display_data"
    },
    {
     "name": "stderr",
     "output_type": "stream",
     "text": [
      "\r",
      "\u001b[32mloss: 4.87e-05:  72%|█████████████████████████████▍           |  ETA: 0:00:30\u001b[39m"
     ]
    },
    {
     "data": {
      "text/plain": [
       "4.7467307f-5"
      ]
     },
     "metadata": {},
     "output_type": "display_data"
    },
    {
     "name": "stderr",
     "output_type": "stream",
     "text": [
      "\r",
      "\u001b[32mloss: 4.75e-05:  72%|█████████████████████████████▌           |  ETA: 0:00:29\u001b[39m"
     ]
    },
    {
     "data": {
      "text/plain": [
       "4.63186f-5"
      ]
     },
     "metadata": {},
     "output_type": "display_data"
    },
    {
     "name": "stderr",
     "output_type": "stream",
     "text": [
      "\r",
      "\u001b[32mloss: 4.63e-05:  72%|█████████████████████████████▊           |  ETA: 0:00:28\u001b[39m"
     ]
    },
    {
     "data": {
      "text/plain": [
       "4.520324f-5"
      ]
     },
     "metadata": {},
     "output_type": "display_data"
    },
    {
     "name": "stderr",
     "output_type": "stream",
     "text": [
      "\r",
      "\u001b[32mloss: 4.52e-05:  73%|█████████████████████████████▉           |  ETA: 0:00:28\u001b[39m"
     ]
    },
    {
     "data": {
      "text/plain": [
       "4.4120945f-5"
      ]
     },
     "metadata": {},
     "output_type": "display_data"
    },
    {
     "name": "stderr",
     "output_type": "stream",
     "text": [
      "\r",
      "\u001b[32mloss: 4.41e-05:  74%|██████████████████████████████▏          |  ETA: 0:00:27\u001b[39m"
     ]
    },
    {
     "data": {
      "text/plain": [
       "4.307148f-5"
      ]
     },
     "metadata": {},
     "output_type": "display_data"
    },
    {
     "name": "stderr",
     "output_type": "stream",
     "text": [
      "\r",
      "\u001b[32mloss: 4.31e-05:  74%|██████████████████████████████▍          |  ETA: 0:00:27\u001b[39m"
     ]
    },
    {
     "data": {
      "text/plain": [
       "4.2052932f-5"
      ]
     },
     "metadata": {},
     "output_type": "display_data"
    },
    {
     "name": "stderr",
     "output_type": "stream",
     "text": [
      "\r",
      "\u001b[32mloss: 4.21e-05:  74%|██████████████████████████████▌          |  ETA: 0:00:26\u001b[39m"
     ]
    },
    {
     "data": {
      "text/plain": [
       "4.1064868f-5"
      ]
     },
     "metadata": {},
     "output_type": "display_data"
    },
    {
     "name": "stderr",
     "output_type": "stream",
     "text": [
      "\r",
      "\u001b[32mloss: 4.11e-05:  75%|██████████████████████████████▊          |  ETA: 0:00:25\u001b[39m"
     ]
    },
    {
     "data": {
      "text/plain": [
       "4.010684f-5"
      ]
     },
     "metadata": {},
     "output_type": "display_data"
    },
    {
     "name": "stderr",
     "output_type": "stream",
     "text": [
      "\r",
      "\u001b[32mloss: 4.01e-05:  76%|███████████████████████████████          |  ETA: 0:00:25\u001b[39m"
     ]
    },
    {
     "data": {
      "text/plain": [
       "3.9179085f-5"
      ]
     },
     "metadata": {},
     "output_type": "display_data"
    },
    {
     "name": "stderr",
     "output_type": "stream",
     "text": [
      "\r",
      "\u001b[32mloss: 3.92e-05:  76%|███████████████████████████████▏         |  ETA: 0:00:24\u001b[39m"
     ]
    },
    {
     "data": {
      "text/plain": [
       "3.8281098f-5"
      ]
     },
     "metadata": {},
     "output_type": "display_data"
    },
    {
     "name": "stderr",
     "output_type": "stream",
     "text": [
      "\r",
      "\u001b[32mloss: 3.83e-05:  76%|███████████████████████████████▍         |  ETA: 0:00:24\u001b[39m"
     ]
    },
    {
     "data": {
      "text/plain": [
       "3.741116f-5"
      ]
     },
     "metadata": {},
     "output_type": "display_data"
    },
    {
     "name": "stderr",
     "output_type": "stream",
     "text": [
      "\r",
      "\u001b[32mloss: 3.74e-05:  77%|███████████████████████████████▋         |  ETA: 0:00:23\u001b[39m"
     ]
    },
    {
     "data": {
      "text/plain": [
       "3.6569516f-5"
      ]
     },
     "metadata": {},
     "output_type": "display_data"
    },
    {
     "name": "stderr",
     "output_type": "stream",
     "text": [
      "\r",
      "\u001b[32mloss: 3.66e-05:  78%|███████████████████████████████▊         |  ETA: 0:00:23\u001b[39m"
     ]
    },
    {
     "data": {
      "text/plain": [
       "3.5754656f-5"
      ]
     },
     "metadata": {},
     "output_type": "display_data"
    },
    {
     "name": "stderr",
     "output_type": "stream",
     "text": [
      "\r",
      "\u001b[32mloss: 3.58e-05:  78%|████████████████████████████████         |  ETA: 0:00:22\u001b[39m"
     ]
    },
    {
     "data": {
      "text/plain": [
       "3.4966295f-5"
      ]
     },
     "metadata": {},
     "output_type": "display_data"
    },
    {
     "name": "stderr",
     "output_type": "stream",
     "text": [
      "\r",
      "\u001b[32mloss: 3.5e-05:  78%|████████████████████████████████▏        |  ETA: 0:00:21\u001b[39m"
     ]
    },
    {
     "data": {
      "text/plain": [
       "3.420465f-5"
      ]
     },
     "metadata": {},
     "output_type": "display_data"
    },
    {
     "name": "stderr",
     "output_type": "stream",
     "text": [
      "\r",
      "\u001b[32mloss: 3.42e-05:  79%|████████████████████████████████▍        |  ETA: 0:00:21\u001b[39m"
     ]
    },
    {
     "data": {
      "text/plain": [
       "3.346841f-5"
      ]
     },
     "metadata": {},
     "output_type": "display_data"
    },
    {
     "name": "stderr",
     "output_type": "stream",
     "text": [
      "\r",
      "\u001b[32mloss: 3.35e-05:  80%|████████████████████████████████▋        |  ETA: 0:00:20\u001b[39m"
     ]
    },
    {
     "data": {
      "text/plain": [
       "3.2757027f-5"
      ]
     },
     "metadata": {},
     "output_type": "display_data"
    },
    {
     "name": "stderr",
     "output_type": "stream",
     "text": [
      "\r",
      "\u001b[32mloss: 3.28e-05:  80%|████████████████████████████████▊        |  ETA: 0:00:20\u001b[39m"
     ]
    },
    {
     "data": {
      "text/plain": [
       "3.2069864f-5"
      ]
     },
     "metadata": {},
     "output_type": "display_data"
    },
    {
     "name": "stderr",
     "output_type": "stream",
     "text": [
      "\r",
      "\u001b[32mloss: 3.21e-05:  80%|█████████████████████████████████        |  ETA: 0:00:19\u001b[39m"
     ]
    },
    {
     "data": {
      "text/plain": [
       "3.140609f-5"
      ]
     },
     "metadata": {},
     "output_type": "display_data"
    },
    {
     "name": "stderr",
     "output_type": "stream",
     "text": [
      "\r",
      "\u001b[32mloss: 3.14e-05:  81%|█████████████████████████████████▎       |  ETA: 0:00:19\u001b[39m"
     ]
    },
    {
     "data": {
      "text/plain": [
       "3.0765532f-5"
      ]
     },
     "metadata": {},
     "output_type": "display_data"
    },
    {
     "name": "stderr",
     "output_type": "stream",
     "text": [
      "\r",
      "\u001b[32mloss: 3.08e-05:  82%|█████████████████████████████████▍       |  ETA: 0:00:18\u001b[39m"
     ]
    },
    {
     "data": {
      "text/plain": [
       "3.014739f-5"
      ]
     },
     "metadata": {},
     "output_type": "display_data"
    },
    {
     "name": "stderr",
     "output_type": "stream",
     "text": [
      "\r",
      "\u001b[32mloss: 3.01e-05:  82%|█████████████████████████████████▋       |  ETA: 0:00:18\u001b[39m"
     ]
    },
    {
     "data": {
      "text/plain": [
       "2.9551195f-5"
      ]
     },
     "metadata": {},
     "output_type": "display_data"
    },
    {
     "name": "stderr",
     "output_type": "stream",
     "text": [
      "\r",
      "\u001b[32mloss: 2.96e-05:  82%|█████████████████████████████████▉       |  ETA: 0:00:17\u001b[39m"
     ]
    },
    {
     "data": {
      "text/plain": [
       "2.8976021f-5"
      ]
     },
     "metadata": {},
     "output_type": "display_data"
    },
    {
     "name": "stderr",
     "output_type": "stream",
     "text": [
      "\r",
      "\u001b[32mloss: 2.9e-05:  83%|██████████████████████████████████       |  ETA: 0:00:17\u001b[39m"
     ]
    },
    {
     "data": {
      "text/plain": [
       "2.8421242f-5"
      ]
     },
     "metadata": {},
     "output_type": "display_data"
    },
    {
     "name": "stderr",
     "output_type": "stream",
     "text": [
      "\r",
      "\u001b[32mloss: 2.84e-05:  84%|██████████████████████████████████▎      |  ETA: 0:00:16\u001b[39m"
     ]
    },
    {
     "data": {
      "text/plain": [
       "2.7886766f-5"
      ]
     },
     "metadata": {},
     "output_type": "display_data"
    },
    {
     "name": "stderr",
     "output_type": "stream",
     "text": [
      "\r",
      "\u001b[32mloss: 2.79e-05:  84%|██████████████████████████████████▌      |  ETA: 0:00:15\u001b[39m"
     ]
    },
    {
     "data": {
      "text/plain": [
       "2.737159f-5"
      ]
     },
     "metadata": {},
     "output_type": "display_data"
    },
    {
     "name": "stderr",
     "output_type": "stream",
     "text": [
      "\r",
      "\u001b[32mloss: 2.74e-05:  84%|██████████████████████████████████▋      |  ETA: 0:00:15\u001b[39m"
     ]
    },
    {
     "data": {
      "text/plain": [
       "2.6875226f-5"
      ]
     },
     "metadata": {},
     "output_type": "display_data"
    },
    {
     "name": "stderr",
     "output_type": "stream",
     "text": [
      "\r",
      "\u001b[32mloss: 2.69e-05:  85%|██████████████████████████████████▉      |  ETA: 0:00:14\u001b[39m"
     ]
    },
    {
     "data": {
      "text/plain": [
       "2.6397376f-5"
      ]
     },
     "metadata": {},
     "output_type": "display_data"
    },
    {
     "name": "stderr",
     "output_type": "stream",
     "text": [
      "\r",
      "\u001b[32mloss: 2.64e-05:  86%|███████████████████████████████████      |  ETA: 0:00:14\u001b[39m"
     ]
    },
    {
     "data": {
      "text/plain": [
       "2.5937154f-5"
      ]
     },
     "metadata": {},
     "output_type": "display_data"
    },
    {
     "name": "stderr",
     "output_type": "stream",
     "text": [
      "\r",
      "\u001b[32mloss: 2.59e-05:  86%|███████████████████████████████████▎     |  ETA: 0:00:13\u001b[39m"
     ]
    },
    {
     "data": {
      "text/plain": [
       "2.5493893f-5"
      ]
     },
     "metadata": {},
     "output_type": "display_data"
    },
    {
     "name": "stderr",
     "output_type": "stream",
     "text": [
      "\r",
      "\u001b[32mloss: 2.55e-05:  86%|███████████████████████████████████▌     |  ETA: 0:00:13\u001b[39m"
     ]
    },
    {
     "data": {
      "text/plain": [
       "2.506744f-5"
      ]
     },
     "metadata": {},
     "output_type": "display_data"
    },
    {
     "name": "stderr",
     "output_type": "stream",
     "text": [
      "\r",
      "\u001b[32mloss: 2.51e-05:  87%|███████████████████████████████████▋     |  ETA: 0:00:12\u001b[39m"
     ]
    },
    {
     "data": {
      "text/plain": [
       "2.4656983f-5"
      ]
     },
     "metadata": {},
     "output_type": "display_data"
    },
    {
     "name": "stderr",
     "output_type": "stream",
     "text": [
      "\r",
      "\u001b[32mloss: 2.47e-05:  88%|███████████████████████████████████▉     |  ETA: 0:00:12\u001b[39m"
     ]
    },
    {
     "data": {
      "text/plain": [
       "2.4262108f-5"
      ]
     },
     "metadata": {},
     "output_type": "display_data"
    },
    {
     "name": "stderr",
     "output_type": "stream",
     "text": [
      "\r",
      "\u001b[32mloss: 2.43e-05:  88%|████████████████████████████████████▏    |  ETA: 0:00:11\u001b[39m"
     ]
    },
    {
     "data": {
      "text/plain": [
       "2.3882185f-5"
      ]
     },
     "metadata": {},
     "output_type": "display_data"
    },
    {
     "name": "stderr",
     "output_type": "stream",
     "text": [
      "\r",
      "\u001b[32mloss: 2.39e-05:  88%|████████████████████████████████████▎    |  ETA: 0:00:11\u001b[39m"
     ]
    },
    {
     "data": {
      "text/plain": [
       "2.3516872f-5"
      ]
     },
     "metadata": {},
     "output_type": "display_data"
    },
    {
     "name": "stderr",
     "output_type": "stream",
     "text": [
      "\r",
      "\u001b[32mloss: 2.35e-05:  89%|████████████████████████████████████▌    |  ETA: 0:00:10\u001b[39m"
     ]
    },
    {
     "data": {
      "text/plain": [
       "2.3165772f-5"
      ]
     },
     "metadata": {},
     "output_type": "display_data"
    },
    {
     "name": "stderr",
     "output_type": "stream",
     "text": [
      "\r",
      "\u001b[32mloss: 2.32e-05:  90%|████████████████████████████████████▊    |  ETA: 0:00:10\u001b[39m"
     ]
    },
    {
     "data": {
      "text/plain": [
       "2.2828093f-5"
      ]
     },
     "metadata": {},
     "output_type": "display_data"
    },
    {
     "name": "stderr",
     "output_type": "stream",
     "text": [
      "\r",
      "\u001b[32mloss: 2.28e-05:  90%|████████████████████████████████████▉    |  ETA: 0:00:09\u001b[39m"
     ]
    },
    {
     "data": {
      "text/plain": [
       "2.250382f-5"
      ]
     },
     "metadata": {},
     "output_type": "display_data"
    },
    {
     "name": "stderr",
     "output_type": "stream",
     "text": [
      "\r",
      "\u001b[32mloss: 2.25e-05:  90%|█████████████████████████████████████▏   |  ETA: 0:00:09\u001b[39m"
     ]
    },
    {
     "data": {
      "text/plain": [
       "2.2191643f-5"
      ]
     },
     "metadata": {},
     "output_type": "display_data"
    },
    {
     "name": "stderr",
     "output_type": "stream",
     "text": [
      "\r",
      "\u001b[32mloss: 2.22e-05:  91%|█████████████████████████████████████▎   |  ETA: 0:00:08\u001b[39m"
     ]
    },
    {
     "data": {
      "text/plain": [
       "2.189204f-5"
      ]
     },
     "metadata": {},
     "output_type": "display_data"
    },
    {
     "name": "stderr",
     "output_type": "stream",
     "text": [
      "\r",
      "\u001b[32mloss: 2.19e-05:  92%|█████████████████████████████████████▌   |  ETA: 0:00:08\u001b[39m"
     ]
    },
    {
     "data": {
      "text/plain": [
       "2.1604112f-5"
      ]
     },
     "metadata": {},
     "output_type": "display_data"
    },
    {
     "name": "stderr",
     "output_type": "stream",
     "text": [
      "\r",
      "\u001b[32mloss: 2.16e-05:  92%|█████████████████████████████████████▊   |  ETA: 0:00:07\u001b[39m"
     ]
    },
    {
     "data": {
      "text/plain": [
       "2.132753f-5"
      ]
     },
     "metadata": {},
     "output_type": "display_data"
    },
    {
     "name": "stderr",
     "output_type": "stream",
     "text": [
      "\r",
      "\u001b[32mloss: 2.13e-05:  92%|█████████████████████████████████████▉   |  ETA: 0:00:07\u001b[39m"
     ]
    },
    {
     "data": {
      "text/plain": [
       "2.106177f-5"
      ]
     },
     "metadata": {},
     "output_type": "display_data"
    },
    {
     "name": "stderr",
     "output_type": "stream",
     "text": [
      "\r",
      "\u001b[32mloss: 2.11e-05:  93%|██████████████████████████████████████▏  |  ETA: 0:00:07\u001b[39m"
     ]
    },
    {
     "data": {
      "text/plain": [
       "2.0806692f-5"
      ]
     },
     "metadata": {},
     "output_type": "display_data"
    },
    {
     "name": "stderr",
     "output_type": "stream",
     "text": [
      "\r",
      "\u001b[32mloss: 2.08e-05:  94%|██████████████████████████████████████▍  |  ETA: 0:00:06\u001b[39m"
     ]
    },
    {
     "data": {
      "text/plain": [
       "2.0561612f-5"
      ]
     },
     "metadata": {},
     "output_type": "display_data"
    },
    {
     "name": "stderr",
     "output_type": "stream",
     "text": [
      "\r",
      "\u001b[32mloss: 2.06e-05:  94%|██████████████████████████████████████▌  |  ETA: 0:00:06\u001b[39m"
     ]
    },
    {
     "data": {
      "text/plain": [
       "2.0326237f-5"
      ]
     },
     "metadata": {},
     "output_type": "display_data"
    },
    {
     "name": "stderr",
     "output_type": "stream",
     "text": [
      "\r",
      "\u001b[32mloss: 2.03e-05:  94%|██████████████████████████████████████▊  |  ETA: 0:00:05\u001b[39m"
     ]
    },
    {
     "data": {
      "text/plain": [
       "2.010028f-5"
      ]
     },
     "metadata": {},
     "output_type": "display_data"
    },
    {
     "name": "stderr",
     "output_type": "stream",
     "text": [
      "\r",
      "\u001b[32mloss: 2.01e-05:  95%|███████████████████████████████████████  |  ETA: 0:00:05\u001b[39m"
     ]
    },
    {
     "data": {
      "text/plain": [
       "1.9883395f-5"
      ]
     },
     "metadata": {},
     "output_type": "display_data"
    },
    {
     "name": "stderr",
     "output_type": "stream",
     "text": [
      "\r",
      "\u001b[32mloss: 1.99e-05:  96%|███████████████████████████████████████▏ |  ETA: 0:00:04\u001b[39m"
     ]
    },
    {
     "data": {
      "text/plain": [
       "1.9675279f-5"
      ]
     },
     "metadata": {},
     "output_type": "display_data"
    },
    {
     "name": "stderr",
     "output_type": "stream",
     "text": [
      "\r",
      "\u001b[32mloss: 1.97e-05:  96%|███████████████████████████████████████▍ |  ETA: 0:00:04\u001b[39m"
     ]
    },
    {
     "data": {
      "text/plain": [
       "1.947528f-5"
      ]
     },
     "metadata": {},
     "output_type": "display_data"
    },
    {
     "name": "stderr",
     "output_type": "stream",
     "text": [
      "\r",
      "\u001b[32mloss: 1.95e-05:  96%|███████████████████████████████████████▋ |  ETA: 0:00:03\u001b[39m"
     ]
    },
    {
     "data": {
      "text/plain": [
       "1.9283412f-5"
      ]
     },
     "metadata": {},
     "output_type": "display_data"
    },
    {
     "name": "stderr",
     "output_type": "stream",
     "text": [
      "\r",
      "\u001b[32mloss: 1.93e-05:  97%|███████████████████████████████████████▊ |  ETA: 0:00:03\u001b[39m"
     ]
    },
    {
     "data": {
      "text/plain": [
       "1.9099254f-5"
      ]
     },
     "metadata": {},
     "output_type": "display_data"
    },
    {
     "name": "stderr",
     "output_type": "stream",
     "text": [
      "\r",
      "\u001b[32mloss: 1.91e-05:  98%|████████████████████████████████████████ |  ETA: 0:00:02\u001b[39m"
     ]
    },
    {
     "data": {
      "text/plain": [
       "1.8922494f-5"
      ]
     },
     "metadata": {},
     "output_type": "display_data"
    },
    {
     "name": "stderr",
     "output_type": "stream",
     "text": [
      "\r",
      "\u001b[32mloss: 1.89e-05:  98%|████████████████████████████████████████▏|  ETA: 0:00:02\u001b[39m"
     ]
    },
    {
     "data": {
      "text/plain": [
       "1.8752839f-5"
      ]
     },
     "metadata": {},
     "output_type": "display_data"
    },
    {
     "name": "stderr",
     "output_type": "stream",
     "text": [
      "\r",
      "\u001b[32mloss: 1.88e-05:  98%|████████████████████████████████████████▍|  ETA: 0:00:01\u001b[39m"
     ]
    },
    {
     "data": {
      "text/plain": [
       "1.8589999f-5"
      ]
     },
     "metadata": {},
     "output_type": "display_data"
    },
    {
     "name": "stderr",
     "output_type": "stream",
     "text": [
      "\r",
      "\u001b[32mloss: 1.86e-05:  99%|████████████████████████████████████████▋|  ETA: 0:00:01\u001b[39m"
     ]
    },
    {
     "data": {
      "text/plain": [
       "1.843366f-5"
      ]
     },
     "metadata": {},
     "output_type": "display_data"
    },
    {
     "name": "stderr",
     "output_type": "stream",
     "text": [
      "\r",
      "\u001b[32mloss: 1.84e-05: 100%|████████████████████████████████████████▊|  ETA: 0:00:00\u001b[39m"
     ]
    },
    {
     "data": {
      "text/plain": [
       "1.8283805f-5"
      ]
     },
     "metadata": {},
     "output_type": "display_data"
    },
    {
     "name": "stderr",
     "output_type": "stream",
     "text": [
      "\r",
      "\u001b[32mloss: 1.83e-05: 100%|█████████████████████████████████████████| Time: 0:01:30\u001b[39m\n"
     ]
    },
    {
     "data": {
      "text/plain": [
       "1.8283805f-5"
      ]
     },
     "metadata": {},
     "output_type": "display_data"
    },
    {
     "data": {
      "text/plain": [
       " * Status: failure (reached maximum number of iterations)\n",
       "\n",
       " * Candidate solution\n",
       "    Minimizer: [-2.78e-02, -4.66e-02, 3.97e-02,  ...]\n",
       "    Minimum:   1.828380e-05\n",
       "\n",
       " * Found with\n",
       "    Algorithm:     ADAM\n",
       "    Initial Point: [-2.81e-02, -4.79e-02, 3.89e-02,  ...]\n",
       "\n",
       " * Convergence measures\n",
       "    |x - x'|               = NaN ≰ 0.0e+00\n",
       "    |x - x'|/|x'|          = NaN ≰ 0.0e+00\n",
       "    |f(x) - f(x')|         = NaN ≰ 0.0e+00\n",
       "    |f(x) - f(x')|/|f(x')| = NaN ≰ 0.0e+00\n",
       "    |g(x)|                 = NaN ≰ 0.0e+00\n",
       "\n",
       " * Work counters\n",
       "    Seconds run:   91  (vs limit Inf)\n",
       "    Iterations:    200\n",
       "    f(x) calls:    200\n",
       "    ∇f(x) calls:   200\n"
      ]
     },
     "execution_count": 14,
     "metadata": {},
     "output_type": "execute_result"
    }
   ],
   "source": [
    "#res = DiffEqFlux.sciml_train(loss_node, node.p, ADAM(), dataset, cb=cb, maxiters=100)\n",
    "res = DiffEqFlux.sciml_train(loss_node, node.p, ADAM(), cb=cb, maxiters=200)"
   ]
  },
  {
   "cell_type": "code",
   "execution_count": 158,
   "metadata": {
    "scrolled": true
   },
   "outputs": [
    {
     "data": {
      "text/plain": [
       "6.947397f0"
      ]
     },
     "metadata": {},
     "output_type": "display_data"
    },
    {
     "name": "stderr",
     "output_type": "stream",
     "text": [
      "\u001b[32mloss: 5.1:   0%|▎                                        |  ETA: 0:34:23\u001b[39mm"
     ]
    },
    {
     "data": {
      "text/plain": [
       "3.8722093f0"
      ]
     },
     "metadata": {},
     "output_type": "display_data"
    },
    {
     "name": "stderr",
     "output_type": "stream",
     "text": [
      "\u001b[32mloss: 3.22:   1%|▍                                        |  ETA: 0:21:15\u001b[39m"
     ]
    },
    {
     "data": {
      "text/plain": [
       "3.170754f0"
      ]
     },
     "metadata": {},
     "output_type": "display_data"
    },
    {
     "name": "stderr",
     "output_type": "stream",
     "text": [
      "\u001b[32mloss: 3.26:   2%|▋                                        |  ETA: 0:17:11\u001b[39m"
     ]
    },
    {
     "data": {
      "text/plain": [
       "3.048909f0"
      ]
     },
     "metadata": {},
     "output_type": "display_data"
    },
    {
     "name": "stderr",
     "output_type": "stream",
     "text": [
      "\u001b[32mloss: 2.6:   2%|▉                                        |  ETA: 0:15:11\u001b[39mm"
     ]
    },
    {
     "data": {
      "text/plain": [
       "2.3492167f0"
      ]
     },
     "metadata": {},
     "output_type": "display_data"
    },
    {
     "name": "stderr",
     "output_type": "stream",
     "text": [
      "\u001b[32mloss: 2.09:   2%|█                                        |  ETA: 0:13:54\u001b[39m"
     ]
    },
    {
     "data": {
      "text/plain": [
       "1.7699149f0"
      ]
     },
     "metadata": {},
     "output_type": "display_data"
    },
    {
     "name": "stderr",
     "output_type": "stream",
     "text": [
      "\u001b[32mloss: 1.63:   3%|█▎                                       |  ETA: 0:13:09\u001b[39m"
     ]
    },
    {
     "data": {
      "text/plain": [
       "1.5426803f0"
      ]
     },
     "metadata": {},
     "output_type": "display_data"
    },
    {
     "name": "stderr",
     "output_type": "stream",
     "text": [
      "\u001b[32mloss: 1.45:   4%|█▍                                       |  ETA: 0:12:29\u001b[39m"
     ]
    },
    {
     "data": {
      "text/plain": [
       "1.3658637f0"
      ]
     },
     "metadata": {},
     "output_type": "display_data"
    },
    {
     "name": "stderr",
     "output_type": "stream",
     "text": [
      "\u001b[32mloss: 1.31:   4%|█▋                                       |  ETA: 0:11:58\u001b[39m"
     ]
    },
    {
     "data": {
      "text/plain": [
       "1.1367986f0"
      ]
     },
     "metadata": {},
     "output_type": "display_data"
    },
    {
     "name": "stderr",
     "output_type": "stream",
     "text": [
      "\u001b[32mloss: 0.851:   4%|█▉                                       |  ETA: 0:11:35\u001b[39m"
     ]
    },
    {
     "data": {
      "text/plain": [
       "0.8276946f0"
      ]
     },
     "metadata": {},
     "output_type": "display_data"
    },
    {
     "name": "stderr",
     "output_type": "stream",
     "text": [
      "\u001b[32mloss: 0.945:   5%|██                                       |  ETA: 0:11:08\u001b[39m"
     ]
    },
    {
     "data": {
      "text/plain": [
       "0.9953926f0"
      ]
     },
     "metadata": {},
     "output_type": "display_data"
    },
    {
     "name": "stderr",
     "output_type": "stream",
     "text": [
      "\u001b[32mloss: 1.04:   6%|██▎                                      |  ETA: 0:10:52\u001b[39mm"
     ]
    },
    {
     "data": {
      "text/plain": [
       "1.0111159f0"
      ]
     },
     "metadata": {},
     "output_type": "display_data"
    },
    {
     "name": "stderr",
     "output_type": "stream",
     "text": [
      "\u001b[32mloss: 0.909:   6%|██▌                                      |  ETA: 0:10:34\u001b[39m"
     ]
    },
    {
     "data": {
      "text/plain": [
       "0.8483271f0"
      ]
     },
     "metadata": {},
     "output_type": "display_data"
    },
    {
     "name": "stderr",
     "output_type": "stream",
     "text": [
      "\u001b[32mloss: 0.813:   6%|██▋                                      |  ETA: 0:10:26\u001b[39m"
     ]
    },
    {
     "data": {
      "text/plain": [
       "0.7374777f0"
      ]
     },
     "metadata": {},
     "output_type": "display_data"
    },
    {
     "name": "stderr",
     "output_type": "stream",
     "text": [
      "\u001b[32mloss: 0.651:   7%|██▉                                      |  ETA: 0:10:09\u001b[39m"
     ]
    },
    {
     "data": {
      "text/plain": [
       "0.5765276f0"
      ]
     },
     "metadata": {},
     "output_type": "display_data"
    },
    {
     "name": "stderr",
     "output_type": "stream",
     "text": [
      "\u001b[32mloss: 0.615:   8%|███▏                                     |  ETA: 0:09:58\u001b[39m"
     ]
    },
    {
     "data": {
      "text/plain": [
       "0.5536214f0"
      ]
     },
     "metadata": {},
     "output_type": "display_data"
    },
    {
     "name": "stderr",
     "output_type": "stream",
     "text": [
      "\u001b[32mloss: 0.543:   8%|███▎                                     |  ETA: 0:09:49\u001b[39m"
     ]
    },
    {
     "data": {
      "text/plain": [
       "0.6087866f0"
      ]
     },
     "metadata": {},
     "output_type": "display_data"
    },
    {
     "name": "stderr",
     "output_type": "stream",
     "text": [
      "\u001b[32mloss: 0.607:   8%|███▌                                     |  ETA: 0:09:41\u001b[39m"
     ]
    },
    {
     "data": {
      "text/plain": [
       "0.54719275f0"
      ]
     },
     "metadata": {},
     "output_type": "display_data"
    },
    {
     "name": "stderr",
     "output_type": "stream",
     "text": [
      "\u001b[32mloss: 0.497:   9%|███▊                                     |  ETA: 0:09:32\u001b[39m"
     ]
    },
    {
     "data": {
      "text/plain": [
       "0.49648258f0"
      ]
     },
     "metadata": {},
     "output_type": "display_data"
    },
    {
     "name": "stderr",
     "output_type": "stream",
     "text": [
      "\u001b[32mloss: 0.459:  10%|███▉                                     |  ETA: 0:09:30\u001b[39m"
     ]
    },
    {
     "data": {
      "text/plain": [
       "0.40943378f0"
      ]
     },
     "metadata": {},
     "output_type": "display_data"
    },
    {
     "name": "stderr",
     "output_type": "stream",
     "text": [
      "\u001b[32mloss: 0.417:  10%|████▏                                    |  ETA: 0:09:24\u001b[39m"
     ]
    },
    {
     "data": {
      "text/plain": [
       "0.4409938f0"
      ]
     },
     "metadata": {},
     "output_type": "display_data"
    },
    {
     "name": "stderr",
     "output_type": "stream",
     "text": [
      "\u001b[32mloss: 0.455:  10%|████▎                                    |  ETA: 0:09:16\u001b[39m"
     ]
    },
    {
     "data": {
      "text/plain": [
       "0.40113837f0"
      ]
     },
     "metadata": {},
     "output_type": "display_data"
    },
    {
     "name": "stderr",
     "output_type": "stream",
     "text": [
      "\u001b[32mloss: 0.386:  11%|████▌                                    |  ETA: 0:09:07\u001b[39m"
     ]
    },
    {
     "data": {
      "text/plain": [
       "0.38787982f0"
      ]
     },
     "metadata": {},
     "output_type": "display_data"
    },
    {
     "name": "stderr",
     "output_type": "stream",
     "text": [
      "\u001b[32mloss: 0.384:  12%|████▊                                    |  ETA: 0:08:59\u001b[39m"
     ]
    },
    {
     "data": {
      "text/plain": [
       "0.4333429f0"
      ]
     },
     "metadata": {},
     "output_type": "display_data"
    },
    {
     "name": "stderr",
     "output_type": "stream",
     "text": [
      "\u001b[32mloss: 0.403:  12%|████▉                                    |  ETA: 0:08:51\u001b[39m"
     ]
    },
    {
     "data": {
      "text/plain": [
       "0.33057463f0"
      ]
     },
     "metadata": {},
     "output_type": "display_data"
    },
    {
     "name": "stderr",
     "output_type": "stream",
     "text": [
      "\u001b[32mloss: 0.386:  12%|█████▏                                   |  ETA: 0:08:43\u001b[39m"
     ]
    },
    {
     "data": {
      "text/plain": [
       "0.41279897f0"
      ]
     },
     "metadata": {},
     "output_type": "display_data"
    },
    {
     "name": "stderr",
     "output_type": "stream",
     "text": [
      "\u001b[32mloss: 0.328:  13%|█████▍                                   |  ETA: 0:08:35\u001b[39m"
     ]
    },
    {
     "data": {
      "text/plain": [
       "0.33391726f0"
      ]
     },
     "metadata": {},
     "output_type": "display_data"
    },
    {
     "name": "stderr",
     "output_type": "stream",
     "text": [
      "\u001b[32mloss: 0.321:  14%|█████▊                                   |  ETA: 0:08:22\u001b[39m"
     ]
    },
    {
     "data": {
      "text/plain": [
       "0.33224878f0"
      ]
     },
     "metadata": {},
     "output_type": "display_data"
    },
    {
     "name": "stderr",
     "output_type": "stream",
     "text": [
      "\u001b[32mloss: 0.332:  14%|██████                                   |  ETA: 0:08:15\u001b[39m"
     ]
    },
    {
     "data": {
      "text/plain": [
       "0.31760967f0"
      ]
     },
     "metadata": {},
     "output_type": "display_data"
    },
    {
     "name": "stderr",
     "output_type": "stream",
     "text": [
      "\u001b[32mloss: 0.353:  15%|██████▏                                  |  ETA: 0:08:09\u001b[39m"
     ]
    },
    {
     "data": {
      "text/plain": [
       "0.35767063f0"
      ]
     },
     "metadata": {},
     "output_type": "display_data"
    },
    {
     "name": "stderr",
     "output_type": "stream",
     "text": [
      "\u001b[32mloss: 0.342:  16%|██████▍                                  |  ETA: 0:08:05\u001b[39m"
     ]
    },
    {
     "data": {
      "text/plain": [
       "0.3023101f0"
      ]
     },
     "metadata": {},
     "output_type": "display_data"
    },
    {
     "name": "stderr",
     "output_type": "stream",
     "text": [
      "\u001b[32mloss: 0.311:  16%|██████▌                                  |  ETA: 0:08:00\u001b[39m"
     ]
    },
    {
     "data": {
      "text/plain": [
       "0.35905308f0"
      ]
     },
     "metadata": {},
     "output_type": "display_data"
    },
    {
     "name": "stderr",
     "output_type": "stream",
     "text": [
      "\u001b[32mloss: 0.338:  16%|██████▊                                  |  ETA: 0:07:55\u001b[39m"
     ]
    },
    {
     "data": {
      "text/plain": [
       "0.3134349f0"
      ]
     },
     "metadata": {},
     "output_type": "display_data"
    },
    {
     "name": "stderr",
     "output_type": "stream",
     "text": [
      "\u001b[32mloss: 0.31:  17%|███████                                  |  ETA: 0:07:51\u001b[39mm"
     ]
    },
    {
     "data": {
      "text/plain": [
       "0.30736643f0"
      ]
     },
     "metadata": {},
     "output_type": "display_data"
    },
    {
     "name": "stderr",
     "output_type": "stream",
     "text": [
      "\u001b[32mloss: 0.36:  18%|███████▏                                 |  ETA: 0:07:48\u001b[39mm"
     ]
    },
    {
     "data": {
      "text/plain": [
       "0.28677034f0"
      ]
     },
     "metadata": {},
     "output_type": "display_data"
    },
    {
     "name": "stderr",
     "output_type": "stream",
     "text": [
      "\u001b[32mloss: 0.372:  18%|███████▍                                 |  ETA: 0:07:44\u001b[39m"
     ]
    },
    {
     "data": {
      "text/plain": [
       "0.34990832f0"
      ]
     },
     "metadata": {},
     "output_type": "display_data"
    },
    {
     "name": "stderr",
     "output_type": "stream",
     "text": [
      "\u001b[32mloss: 0.316:  18%|███████▋                                 |  ETA: 0:07:40\u001b[39m"
     ]
    },
    {
     "data": {
      "text/plain": [
       "0.33498567f0"
      ]
     },
     "metadata": {},
     "output_type": "display_data"
    },
    {
     "name": "stderr",
     "output_type": "stream",
     "text": [
      "\u001b[32mloss: 0.286:  19%|███████▊                                 |  ETA: 0:07:38\u001b[39m"
     ]
    },
    {
     "data": {
      "text/plain": [
       "0.31928322f0"
      ]
     },
     "metadata": {},
     "output_type": "display_data"
    },
    {
     "name": "stderr",
     "output_type": "stream",
     "text": [
      "\u001b[32mloss: 0.323:  20%|████████                                 |  ETA: 0:07:34\u001b[39m"
     ]
    },
    {
     "data": {
      "text/plain": [
       "0.30050802f0"
      ]
     },
     "metadata": {},
     "output_type": "display_data"
    },
    {
     "name": "stderr",
     "output_type": "stream",
     "text": [
      "\u001b[32mloss: 0.359:  20%|████████▎                                |  ETA: 0:07:30\u001b[39m"
     ]
    },
    {
     "data": {
      "text/plain": [
       "0.3086906f0"
      ]
     },
     "metadata": {},
     "output_type": "display_data"
    },
    {
     "name": "stderr",
     "output_type": "stream",
     "text": [
      "\u001b[32mloss: 0.343:  20%|████████▍                                |  ETA: 0:07:27\u001b[39m"
     ]
    },
    {
     "data": {
      "text/plain": [
       "0.33978072f0"
      ]
     },
     "metadata": {},
     "output_type": "display_data"
    },
    {
     "name": "stderr",
     "output_type": "stream",
     "text": [
      "\u001b[32mloss: 0.291:  21%|████████▋                                |  ETA: 0:07:22\u001b[39m"
     ]
    },
    {
     "data": {
      "text/plain": [
       "0.33343688f0"
      ]
     },
     "metadata": {},
     "output_type": "display_data"
    },
    {
     "name": "stderr",
     "output_type": "stream",
     "text": [
      "\u001b[32mloss: 0.309:  22%|████████▉                                |  ETA: 0:07:19\u001b[39m"
     ]
    },
    {
     "data": {
      "text/plain": [
       "0.3108423f0"
      ]
     },
     "metadata": {},
     "output_type": "display_data"
    },
    {
     "name": "stderr",
     "output_type": "stream",
     "text": [
      "\u001b[32mloss: 0.293:  22%|█████████                                |  ETA: 0:07:16\u001b[39m"
     ]
    },
    {
     "data": {
      "text/plain": [
       "0.3123893f0"
      ]
     },
     "metadata": {},
     "output_type": "display_data"
    },
    {
     "name": "stderr",
     "output_type": "stream",
     "text": [
      "\u001b[32mloss: 0.309:  22%|█████████▎                               |  ETA: 0:07:13\u001b[39m"
     ]
    },
    {
     "data": {
      "text/plain": [
       "0.29737148f0"
      ]
     },
     "metadata": {},
     "output_type": "display_data"
    },
    {
     "name": "stderr",
     "output_type": "stream",
     "text": [
      "\u001b[32mloss: 0.277:  23%|█████████▍                               |  ETA: 0:07:09\u001b[39m"
     ]
    },
    {
     "data": {
      "text/plain": [
       "0.29024988f0"
      ]
     },
     "metadata": {},
     "output_type": "display_data"
    },
    {
     "name": "stderr",
     "output_type": "stream",
     "text": [
      "\u001b[32mloss: 0.307:  24%|█████████▋                               |  ETA: 0:07:06\u001b[39m"
     ]
    },
    {
     "data": {
      "text/plain": [
       "0.27406108f0"
      ]
     },
     "metadata": {},
     "output_type": "display_data"
    },
    {
     "name": "stderr",
     "output_type": "stream",
     "text": [
      "\u001b[32mloss: 0.325:  24%|█████████▉                               |  ETA: 0:07:02\u001b[39m"
     ]
    },
    {
     "data": {
      "text/plain": [
       "0.33548537f0"
      ]
     },
     "metadata": {},
     "output_type": "display_data"
    },
    {
     "name": "stderr",
     "output_type": "stream",
     "text": [
      "\u001b[32mloss: 0.343:  24%|██████████                               |  ETA: 0:06:59\u001b[39m"
     ]
    },
    {
     "data": {
      "text/plain": [
       "0.29179993f0"
      ]
     },
     "metadata": {},
     "output_type": "display_data"
    },
    {
     "name": "stderr",
     "output_type": "stream",
     "text": [
      "\u001b[32mloss: 0.338:  25%|██████████▎                              |  ETA: 0:06:54\u001b[39m"
     ]
    },
    {
     "data": {
      "text/plain": [
       "0.29929352f0"
      ]
     },
     "metadata": {},
     "output_type": "display_data"
    },
    {
     "name": "stderr",
     "output_type": "stream",
     "text": [
      "\u001b[32mloss: 0.329:  26%|██████████▌                              |  ETA: 0:06:50\u001b[39m"
     ]
    },
    {
     "data": {
      "text/plain": [
       "0.29738244f0"
      ]
     },
     "metadata": {},
     "output_type": "display_data"
    },
    {
     "name": "stderr",
     "output_type": "stream",
     "text": [
      "\u001b[32mloss: 0.294:  26%|██████████▋                              |  ETA: 0:06:49\u001b[39m"
     ]
    },
    {
     "data": {
      "text/plain": [
       "0.31047866f0"
      ]
     },
     "metadata": {},
     "output_type": "display_data"
    },
    {
     "name": "stderr",
     "output_type": "stream",
     "text": [
      "\u001b[32mloss: 0.288:  26%|██████████▉                              |  ETA: 0:06:46\u001b[39m"
     ]
    },
    {
     "data": {
      "text/plain": [
       "0.28201693f0"
      ]
     },
     "metadata": {},
     "output_type": "display_data"
    },
    {
     "name": "stderr",
     "output_type": "stream",
     "text": [
      "\u001b[32mloss: 0.257:  27%|███████████▏                             |  ETA: 0:06:42\u001b[39m"
     ]
    },
    {
     "data": {
      "text/plain": [
       "0.27893877f0"
      ]
     },
     "metadata": {},
     "output_type": "display_data"
    },
    {
     "name": "stderr",
     "output_type": "stream",
     "text": [
      "\u001b[32mloss: 0.287:  28%|███████████▎                             |  ETA: 0:06:39\u001b[39m"
     ]
    },
    {
     "data": {
      "text/plain": [
       "0.2616891f0"
      ]
     },
     "metadata": {},
     "output_type": "display_data"
    },
    {
     "name": "stderr",
     "output_type": "stream",
     "text": [
      "\u001b[32mloss: 0.289:  28%|███████████▌                             |  ETA: 0:06:36\u001b[39m"
     ]
    },
    {
     "data": {
      "text/plain": [
       "0.31003982f0"
      ]
     },
     "metadata": {},
     "output_type": "display_data"
    },
    {
     "name": "stderr",
     "output_type": "stream",
     "text": [
      "\u001b[32mloss: 0.269:  28%|███████████▋                             |  ETA: 0:06:33\u001b[39m"
     ]
    },
    {
     "data": {
      "text/plain": [
       "0.281905f0"
      ]
     },
     "metadata": {},
     "output_type": "display_data"
    },
    {
     "name": "stderr",
     "output_type": "stream",
     "text": [
      "\u001b[32mloss: 0.282:  29%|███████████▉                             |  ETA: 0:06:30\u001b[39m"
     ]
    },
    {
     "data": {
      "text/plain": [
       "0.26078522f0"
      ]
     },
     "metadata": {},
     "output_type": "display_data"
    },
    {
     "name": "stderr",
     "output_type": "stream",
     "text": [
      "\u001b[32mloss: 0.265:  30%|████████████▏                            |  ETA: 0:06:26\u001b[39m"
     ]
    },
    {
     "data": {
      "text/plain": [
       "0.24991211f0"
      ]
     },
     "metadata": {},
     "output_type": "display_data"
    },
    {
     "name": "stderr",
     "output_type": "stream",
     "text": [
      "\u001b[32mloss: 0.28:  30%|████████████▎                            |  ETA: 0:06:23\u001b[39m"
     ]
    },
    {
     "data": {
      "text/plain": [
       "0.2915981f0"
      ]
     },
     "metadata": {},
     "output_type": "display_data"
    },
    {
     "name": "stderr",
     "output_type": "stream",
     "text": [
      "\u001b[32mloss: 0.27:  30%|████████████▌                            |  ETA: 0:06:20\u001b[39mm"
     ]
    },
    {
     "data": {
      "text/plain": [
       "0.25010115f0"
      ]
     },
     "metadata": {},
     "output_type": "display_data"
    },
    {
     "name": "stderr",
     "output_type": "stream",
     "text": [
      "\u001b[32mloss: 0.268:  31%|████████████▊                            |  ETA: 0:06:16\u001b[39m"
     ]
    },
    {
     "data": {
      "text/plain": [
       "0.25171822f0"
      ]
     },
     "metadata": {},
     "output_type": "display_data"
    },
    {
     "name": "stderr",
     "output_type": "stream",
     "text": [
      "\u001b[32mloss: 0.259:  32%|████████████▉                            |  ETA: 0:06:13\u001b[39m"
     ]
    },
    {
     "data": {
      "text/plain": [
       "0.2972566f0"
      ]
     },
     "metadata": {},
     "output_type": "display_data"
    },
    {
     "name": "stderr",
     "output_type": "stream",
     "text": [
      "\u001b[32mloss: 0.297:  32%|█████████████▏                           |  ETA: 0:06:09\u001b[39m"
     ]
    },
    {
     "data": {
      "text/plain": [
       "0.27719265f0"
      ]
     },
     "metadata": {},
     "output_type": "display_data"
    },
    {
     "name": "stderr",
     "output_type": "stream",
     "text": [
      "\u001b[32mloss: 0.271:  32%|█████████████▍                           |  ETA: 0:06:06\u001b[39m"
     ]
    },
    {
     "data": {
      "text/plain": [
       "0.29343468f0"
      ]
     },
     "metadata": {},
     "output_type": "display_data"
    },
    {
     "name": "stderr",
     "output_type": "stream",
     "text": [
      "\u001b[32mloss: 0.325:  33%|█████████████▌                           |  ETA: 0:06:03\u001b[39m"
     ]
    },
    {
     "data": {
      "text/plain": [
       "0.31980065f0"
      ]
     },
     "metadata": {},
     "output_type": "display_data"
    },
    {
     "name": "stderr",
     "output_type": "stream",
     "text": [
      "\u001b[32mloss: 0.354:  34%|█████████████▊                           |  ETA: 0:06:01\u001b[39m"
     ]
    },
    {
     "data": {
      "text/plain": [
       "0.31085175f0"
      ]
     },
     "metadata": {},
     "output_type": "display_data"
    },
    {
     "name": "stderr",
     "output_type": "stream",
     "text": [
      "\u001b[32mloss: 0.279:  34%|██████████████                           |  ETA: 0:05:58\u001b[39m"
     ]
    },
    {
     "data": {
      "text/plain": [
       "0.31872326f0"
      ]
     },
     "metadata": {},
     "output_type": "display_data"
    },
    {
     "name": "stderr",
     "output_type": "stream",
     "text": [
      "\u001b[32mloss: 0.321:  34%|██████████████▏                          |  ETA: 0:05:56\u001b[39m"
     ]
    },
    {
     "data": {
      "text/plain": [
       "0.27454597f0"
      ]
     },
     "metadata": {},
     "output_type": "display_data"
    },
    {
     "name": "stderr",
     "output_type": "stream",
     "text": [
      "\u001b[32mloss: 0.295:  35%|██████████████▍                          |  ETA: 0:05:53\u001b[39m"
     ]
    },
    {
     "data": {
      "text/plain": [
       "0.3132395f0"
      ]
     },
     "metadata": {},
     "output_type": "display_data"
    },
    {
     "name": "stderr",
     "output_type": "stream",
     "text": [
      "\u001b[32mloss: 0.295:  36%|██████████████▋                          |  ETA: 0:05:49\u001b[39m"
     ]
    },
    {
     "data": {
      "text/plain": [
       "0.2708866f0"
      ]
     },
     "metadata": {},
     "output_type": "display_data"
    },
    {
     "name": "stderr",
     "output_type": "stream",
     "text": [
      "\u001b[32mloss: 0.311:  36%|██████████████▉                          |  ETA: 0:05:45\u001b[39m"
     ]
    },
    {
     "data": {
      "text/plain": [
       "0.3094378f0"
      ]
     },
     "metadata": {},
     "output_type": "display_data"
    },
    {
     "name": "stderr",
     "output_type": "stream",
     "text": [
      "\u001b[32mloss: 0.275:  37%|███████████████                          |  ETA: 0:05:42\u001b[39m"
     ]
    },
    {
     "data": {
      "text/plain": [
       "0.3068648f0"
      ]
     },
     "metadata": {},
     "output_type": "display_data"
    },
    {
     "name": "stderr",
     "output_type": "stream",
     "text": [
      "\u001b[32mloss: 0.294:  37%|███████████████▎                         |  ETA: 0:05:39\u001b[39m"
     ]
    },
    {
     "data": {
      "text/plain": [
       "0.2952526f0"
      ]
     },
     "metadata": {},
     "output_type": "display_data"
    },
    {
     "name": "stderr",
     "output_type": "stream",
     "text": [
      "\u001b[32mloss: 0.313:  38%|███████████████▋                         |  ETA: 0:05:33\u001b[39m"
     ]
    },
    {
     "data": {
      "text/plain": [
       "0.29303414f0"
      ]
     },
     "metadata": {},
     "output_type": "display_data"
    },
    {
     "name": "stderr",
     "output_type": "stream",
     "text": [
      "\u001b[32mloss: 0.288:  38%|███████████████▊                         |  ETA: 0:05:30\u001b[39m"
     ]
    },
    {
     "data": {
      "text/plain": [
       "0.30700964f0"
      ]
     },
     "metadata": {},
     "output_type": "display_data"
    },
    {
     "name": "stderr",
     "output_type": "stream",
     "text": [
      "\u001b[32mloss: 0.297:  39%|████████████████                         |  ETA: 0:05:27\u001b[39m"
     ]
    },
    {
     "data": {
      "text/plain": [
       "0.31200668f0"
      ]
     },
     "metadata": {},
     "output_type": "display_data"
    },
    {
     "name": "stderr",
     "output_type": "stream",
     "text": [
      "\u001b[32mloss: 0.296:  40%|████████████████▎                        |  ETA: 0:05:25\u001b[39m"
     ]
    },
    {
     "data": {
      "text/plain": [
       "0.30292368f0"
      ]
     },
     "metadata": {},
     "output_type": "display_data"
    },
    {
     "name": "stderr",
     "output_type": "stream",
     "text": [
      "\u001b[32mloss: 0.32:  40%|████████████████▍                        |  ETA: 0:05:22\u001b[39mm"
     ]
    },
    {
     "data": {
      "text/plain": [
       "0.27410737f0"
      ]
     },
     "metadata": {},
     "output_type": "display_data"
    },
    {
     "name": "stderr",
     "output_type": "stream",
     "text": [
      "\u001b[32mloss: 0.264:  40%|████████████████▋                        |  ETA: 0:05:20\u001b[39m"
     ]
    },
    {
     "data": {
      "text/plain": [
       "0.2933251f0"
      ]
     },
     "metadata": {},
     "output_type": "display_data"
    },
    {
     "name": "stderr",
     "output_type": "stream",
     "text": [
      "\u001b[32mloss: 0.27:  41%|████████████████▊                        |  ETA: 0:05:16\u001b[39mm"
     ]
    },
    {
     "data": {
      "text/plain": [
       "0.27382785f0"
      ]
     },
     "metadata": {},
     "output_type": "display_data"
    },
    {
     "name": "stderr",
     "output_type": "stream",
     "text": [
      "\u001b[32mloss: 0.279:  42%|█████████████████                        |  ETA: 0:05:14\u001b[39m"
     ]
    },
    {
     "data": {
      "text/plain": [
       "0.2843734f0"
      ]
     },
     "metadata": {},
     "output_type": "display_data"
    },
    {
     "name": "stderr",
     "output_type": "stream",
     "text": [
      "\u001b[32mloss: 0.327:  42%|█████████████████▎                       |  ETA: 0:05:12\u001b[39m"
     ]
    },
    {
     "data": {
      "text/plain": [
       "0.31272578f0"
      ]
     },
     "metadata": {},
     "output_type": "display_data"
    },
    {
     "name": "stderr",
     "output_type": "stream",
     "text": [
      "\u001b[32mloss: 0.288:  42%|█████████████████▍                       |  ETA: 0:05:09\u001b[39m"
     ]
    },
    {
     "data": {
      "text/plain": [
       "0.29552317f0"
      ]
     },
     "metadata": {},
     "output_type": "display_data"
    },
    {
     "name": "stderr",
     "output_type": "stream",
     "text": [
      "\u001b[32mloss: 0.297:  43%|█████████████████▋                       |  ETA: 0:05:06\u001b[39m"
     ]
    },
    {
     "data": {
      "text/plain": [
       "0.32867938f0"
      ]
     },
     "metadata": {},
     "output_type": "display_data"
    },
    {
     "name": "stderr",
     "output_type": "stream",
     "text": [
      "\u001b[32mloss: 0.308:  44%|█████████████████▉                       |  ETA: 0:05:03\u001b[39m"
     ]
    },
    {
     "data": {
      "text/plain": [
       "0.3398861f0"
      ]
     },
     "metadata": {},
     "output_type": "display_data"
    },
    {
     "name": "stderr",
     "output_type": "stream",
     "text": [
      "\u001b[32mloss: 0.295:  44%|██████████████████                       |  ETA: 0:05:00\u001b[39m"
     ]
    },
    {
     "data": {
      "text/plain": [
       "0.35336655f0"
      ]
     },
     "metadata": {},
     "output_type": "display_data"
    },
    {
     "name": "stderr",
     "output_type": "stream",
     "text": [
      "\u001b[32mloss: 0.309:  44%|██████████████████▎                      |  ETA: 0:04:59\u001b[39m"
     ]
    },
    {
     "data": {
      "text/plain": [
       "0.37073112f0"
      ]
     },
     "metadata": {},
     "output_type": "display_data"
    },
    {
     "name": "stderr",
     "output_type": "stream",
     "text": [
      "\u001b[32mloss: 0.369:  45%|██████████████████▌                      |  ETA: 0:04:56\u001b[39m"
     ]
    },
    {
     "data": {
      "text/plain": [
       "0.32636693f0"
      ]
     },
     "metadata": {},
     "output_type": "display_data"
    },
    {
     "name": "stderr",
     "output_type": "stream",
     "text": [
      "\u001b[32mloss: 0.328:  46%|██████████████████▋                      |  ETA: 0:04:54\u001b[39m"
     ]
    },
    {
     "data": {
      "text/plain": [
       "0.34526762f0"
      ]
     },
     "metadata": {},
     "output_type": "display_data"
    },
    {
     "name": "stderr",
     "output_type": "stream",
     "text": [
      "\u001b[32mloss: 0.353:  46%|██████████████████▉                      |  ETA: 0:04:51\u001b[39m"
     ]
    },
    {
     "data": {
      "text/plain": [
       "0.28513923f0"
      ]
     },
     "metadata": {},
     "output_type": "display_data"
    },
    {
     "name": "stderr",
     "output_type": "stream",
     "text": [
      "\u001b[32mloss: 0.339:  46%|███████████████████▏                     |  ETA: 0:04:48\u001b[39m"
     ]
    },
    {
     "data": {
      "text/plain": [
       "0.31449482f0"
      ]
     },
     "metadata": {},
     "output_type": "display_data"
    },
    {
     "name": "stderr",
     "output_type": "stream",
     "text": [
      "\u001b[32mloss: 0.32:  47%|███████████████████▎                     |  ETA: 0:04:45\u001b[39mm"
     ]
    },
    {
     "data": {
      "text/plain": [
       "0.29050288f0"
      ]
     },
     "metadata": {},
     "output_type": "display_data"
    },
    {
     "name": "stderr",
     "output_type": "stream",
     "text": [
      "\u001b[32mloss: 0.325:  48%|███████████████████▌                     |  ETA: 0:04:42\u001b[39m"
     ]
    },
    {
     "data": {
      "text/plain": [
       "0.29658f0"
      ]
     },
     "metadata": {},
     "output_type": "display_data"
    },
    {
     "name": "stderr",
     "output_type": "stream",
     "text": [
      "\u001b[32mloss: 0.296:  48%|███████████████████▋                     |  ETA: 0:04:39\u001b[39m"
     ]
    },
    {
     "data": {
      "text/plain": [
       "0.2656078f0"
      ]
     },
     "metadata": {},
     "output_type": "display_data"
    },
    {
     "name": "stderr",
     "output_type": "stream",
     "text": [
      "\u001b[32mloss: 0.322:  48%|███████████████████▉                     |  ETA: 0:04:36\u001b[39m"
     ]
    },
    {
     "data": {
      "text/plain": [
       "0.32288608f0"
      ]
     },
     "metadata": {},
     "output_type": "display_data"
    },
    {
     "name": "stderr",
     "output_type": "stream",
     "text": [
      "\u001b[32mloss: 0.289:  49%|████████████████████▏                    |  ETA: 0:04:33\u001b[39m"
     ]
    },
    {
     "data": {
      "text/plain": [
       "0.33361515f0"
      ]
     },
     "metadata": {},
     "output_type": "display_data"
    },
    {
     "name": "stderr",
     "output_type": "stream",
     "text": [
      "\u001b[32mloss: 0.307:  50%|████████████████████▎                    |  ETA: 0:04:31\u001b[39m"
     ]
    },
    {
     "data": {
      "text/plain": [
       "0.24859208f0"
      ]
     },
     "metadata": {},
     "output_type": "display_data"
    },
    {
     "name": "stderr",
     "output_type": "stream",
     "text": [
      "\u001b[32mloss: 0.295:  50%|████████████████████▌                    |  ETA: 0:04:27\u001b[39m"
     ]
    },
    {
     "data": {
      "text/plain": [
       "0.30426547f0"
      ]
     },
     "metadata": {},
     "output_type": "display_data"
    },
    {
     "name": "stderr",
     "output_type": "stream",
     "text": [
      "\u001b[32mloss: 0.294:  50%|████████████████████▊                    |  ETA: 0:04:25\u001b[39m"
     ]
    },
    {
     "data": {
      "text/plain": [
       "0.303321f0"
      ]
     },
     "metadata": {},
     "output_type": "display_data"
    },
    {
     "name": "stderr",
     "output_type": "stream",
     "text": [
      "\u001b[32mloss: 0.305:  51%|████████████████████▉                    |  ETA: 0:04:22\u001b[39m"
     ]
    },
    {
     "data": {
      "text/plain": [
       "0.3089534f0"
      ]
     },
     "metadata": {},
     "output_type": "display_data"
    },
    {
     "name": "stderr",
     "output_type": "stream",
     "text": [
      "\u001b[32mloss: 0.3:  52%|█████████████████████▏                   |  ETA: 0:04:19\u001b[39m9m"
     ]
    },
    {
     "data": {
      "text/plain": [
       "0.33775955f0"
      ]
     },
     "metadata": {},
     "output_type": "display_data"
    },
    {
     "name": "stderr",
     "output_type": "stream",
     "text": [
      "\u001b[32mloss: 0.3:  52%|█████████████████████▍                   |  ETA: 0:04:17\u001b[39m9m"
     ]
    },
    {
     "data": {
      "text/plain": [
       "0.31304985f0"
      ]
     },
     "metadata": {},
     "output_type": "display_data"
    },
    {
     "name": "stderr",
     "output_type": "stream",
     "text": [
      "\u001b[32mloss: 0.338:  52%|█████████████████████▌                   |  ETA: 0:04:14\u001b[39m"
     ]
    },
    {
     "data": {
      "text/plain": [
       "0.30868703f0"
      ]
     },
     "metadata": {},
     "output_type": "display_data"
    },
    {
     "name": "stderr",
     "output_type": "stream",
     "text": [
      "\u001b[32mloss: 0.337:  53%|█████████████████████▊                   |  ETA: 0:04:11\u001b[39m"
     ]
    },
    {
     "data": {
      "text/plain": [
       "0.32247674f0"
      ]
     },
     "metadata": {},
     "output_type": "display_data"
    },
    {
     "name": "stderr",
     "output_type": "stream",
     "text": [
      "\u001b[32mloss: 0.33:  54%|█████████████████████▉                   |  ETA: 0:04:09\u001b[39mm"
     ]
    },
    {
     "data": {
      "text/plain": [
       "0.28567508f0"
      ]
     },
     "metadata": {},
     "output_type": "display_data"
    },
    {
     "name": "stderr",
     "output_type": "stream",
     "text": [
      "\u001b[32mloss: 0.302:  54%|██████████████████████▏                  |  ETA: 0:04:06\u001b[39m"
     ]
    },
    {
     "data": {
      "text/plain": [
       "0.30142036f0"
      ]
     },
     "metadata": {},
     "output_type": "display_data"
    },
    {
     "name": "stderr",
     "output_type": "stream",
     "text": [
      "\u001b[32mloss: 0.279:  54%|██████████████████████▍                  |  ETA: 0:04:03\u001b[39m"
     ]
    },
    {
     "data": {
      "text/plain": [
       "0.24619249f0"
      ]
     },
     "metadata": {},
     "output_type": "display_data"
    },
    {
     "name": "stderr",
     "output_type": "stream",
     "text": [
      "\u001b[32mloss: 0.267:  55%|██████████████████████▌                  |  ETA: 0:04:00\u001b[39m"
     ]
    },
    {
     "data": {
      "text/plain": [
       "0.3069125f0"
      ]
     },
     "metadata": {},
     "output_type": "display_data"
    },
    {
     "name": "stderr",
     "output_type": "stream",
     "text": [
      "\u001b[32mloss: 0.259:  56%|██████████████████████▉                  |  ETA: 0:03:56\u001b[39m"
     ]
    },
    {
     "data": {
      "text/plain": [
       "0.25506407f0"
      ]
     },
     "metadata": {},
     "output_type": "display_data"
    },
    {
     "name": "stderr",
     "output_type": "stream",
     "text": [
      "\u001b[32mloss: 0.306:  56%|███████████████████████▏                 |  ETA: 0:03:52\u001b[39m"
     ]
    },
    {
     "data": {
      "text/plain": [
       "0.26626006f0"
      ]
     },
     "metadata": {},
     "output_type": "display_data"
    },
    {
     "name": "stderr",
     "output_type": "stream",
     "text": [
      "\u001b[32mloss: 0.276:  57%|███████████████████████▍                 |  ETA: 0:03:49\u001b[39m"
     ]
    },
    {
     "data": {
      "text/plain": [
       "0.29753542f0"
      ]
     },
     "metadata": {},
     "output_type": "display_data"
    },
    {
     "name": "stderr",
     "output_type": "stream",
     "text": [
      "\u001b[32mloss: 0.283:  58%|███████████████████████▋                 |  ETA: 0:03:46\u001b[39m"
     ]
    },
    {
     "data": {
      "text/plain": [
       "0.25775355f0"
      ]
     },
     "metadata": {},
     "output_type": "display_data"
    },
    {
     "name": "stderr",
     "output_type": "stream",
     "text": [
      "\u001b[32mloss: 0.268:  58%|███████████████████████▊                 |  ETA: 0:03:43\u001b[39m"
     ]
    },
    {
     "data": {
      "text/plain": [
       "0.277458f0"
      ]
     },
     "metadata": {},
     "output_type": "display_data"
    },
    {
     "name": "stderr",
     "output_type": "stream",
     "text": [
      "\u001b[32mloss: 0.289:  58%|████████████████████████                 |  ETA: 0:03:40\u001b[39m"
     ]
    },
    {
     "data": {
      "text/plain": [
       "0.27617228f0"
      ]
     },
     "metadata": {},
     "output_type": "display_data"
    },
    {
     "name": "stderr",
     "output_type": "stream",
     "text": [
      "\u001b[32mloss: 0.274:  59%|████████████████████████▎                |  ETA: 0:03:36\u001b[39m"
     ]
    },
    {
     "data": {
      "text/plain": [
       "0.30293787f0"
      ]
     },
     "metadata": {},
     "output_type": "display_data"
    },
    {
     "name": "stderr",
     "output_type": "stream",
     "text": [
      "\u001b[32mloss: 0.246:  60%|████████████████████████▋                |  ETA: 0:03:32\u001b[39m"
     ]
    },
    {
     "data": {
      "text/plain": [
       "0.28544733f0"
      ]
     },
     "metadata": {},
     "output_type": "display_data"
    },
    {
     "name": "stderr",
     "output_type": "stream",
     "text": [
      "\u001b[32mloss: 0.249:  61%|████████████████████████▉                |  ETA: 0:03:28\u001b[39m"
     ]
    },
    {
     "data": {
      "text/plain": [
       "0.26599014f0"
      ]
     },
     "metadata": {},
     "output_type": "display_data"
    },
    {
     "name": "stderr",
     "output_type": "stream",
     "text": [
      "\u001b[32mloss: 0.289:  61%|█████████████████████████▏               |  ETA: 0:03:25\u001b[39m"
     ]
    },
    {
     "data": {
      "text/plain": [
       "0.30366975f0"
      ]
     },
     "metadata": {},
     "output_type": "display_data"
    },
    {
     "name": "stderr",
     "output_type": "stream",
     "text": [
      "\u001b[32mloss: 0.262:  62%|█████████████████████████▍               |  ETA: 0:03:20\u001b[39m"
     ]
    },
    {
     "data": {
      "text/plain": [
       "0.2697288f0"
      ]
     },
     "metadata": {},
     "output_type": "display_data"
    },
    {
     "name": "stderr",
     "output_type": "stream",
     "text": [
      "\u001b[32mloss: 0.274:  62%|█████████████████████████▋               |  ETA: 0:03:18\u001b[39m"
     ]
    },
    {
     "data": {
      "text/plain": [
       "0.27152586f0"
      ]
     },
     "metadata": {},
     "output_type": "display_data"
    },
    {
     "name": "stderr",
     "output_type": "stream",
     "text": [
      "\u001b[32mloss: 0.284:  63%|█████████████████████████▉               |  ETA: 0:03:15\u001b[39m"
     ]
    },
    {
     "data": {
      "text/plain": [
       "0.2661202f0"
      ]
     },
     "metadata": {},
     "output_type": "display_data"
    },
    {
     "name": "stderr",
     "output_type": "stream",
     "text": [
      "\u001b[32mloss: 0.306:  64%|██████████████████████████               |  ETA: 0:03:12\u001b[39m"
     ]
    },
    {
     "data": {
      "text/plain": [
       "0.30635244f0"
      ]
     },
     "metadata": {},
     "output_type": "display_data"
    },
    {
     "name": "stderr",
     "output_type": "stream",
     "text": [
      "\u001b[32mloss: 0.287:  64%|██████████████████████████▎              |  ETA: 0:03:09\u001b[39m"
     ]
    },
    {
     "data": {
      "text/plain": [
       "0.2722914f0"
      ]
     },
     "metadata": {},
     "output_type": "display_data"
    },
    {
     "name": "stderr",
     "output_type": "stream",
     "text": [
      "\u001b[32mloss: 0.271:  64%|██████████████████████████▌              |  ETA: 0:03:07\u001b[39m"
     ]
    },
    {
     "data": {
      "text/plain": [
       "0.27848503f0"
      ]
     },
     "metadata": {},
     "output_type": "display_data"
    },
    {
     "name": "stderr",
     "output_type": "stream",
     "text": [
      "\u001b[32mloss: 0.303:  65%|██████████████████████████▋              |  ETA: 0:03:04\u001b[39m"
     ]
    },
    {
     "data": {
      "text/plain": [
       "0.2858426f0"
      ]
     },
     "metadata": {},
     "output_type": "display_data"
    },
    {
     "name": "stderr",
     "output_type": "stream",
     "text": [
      "\u001b[32mloss: 0.311:  66%|██████████████████████████▉              |  ETA: 0:03:01\u001b[39m"
     ]
    },
    {
     "data": {
      "text/plain": [
       "0.3156957f0"
      ]
     },
     "metadata": {},
     "output_type": "display_data"
    },
    {
     "name": "stderr",
     "output_type": "stream",
     "text": [
      "\u001b[32mloss: 0.291:  66%|███████████████████████████              |  ETA: 0:02:59\u001b[39m"
     ]
    },
    {
     "data": {
      "text/plain": [
       "0.3021489f0"
      ]
     },
     "metadata": {},
     "output_type": "display_data"
    },
    {
     "name": "stderr",
     "output_type": "stream",
     "text": [
      "\u001b[32mloss: 0.324:  66%|███████████████████████████▎             |  ETA: 0:02:56\u001b[39m"
     ]
    },
    {
     "data": {
      "text/plain": [
       "0.32523698f0"
      ]
     },
     "metadata": {},
     "output_type": "display_data"
    },
    {
     "name": "stderr",
     "output_type": "stream",
     "text": [
      "\u001b[32mloss: 0.309:  67%|███████████████████████████▌             |  ETA: 0:02:53\u001b[39m"
     ]
    },
    {
     "data": {
      "text/plain": [
       "0.26714683f0"
      ]
     },
     "metadata": {},
     "output_type": "display_data"
    },
    {
     "name": "stderr",
     "output_type": "stream",
     "text": [
      "\u001b[32mloss: 0.279:  68%|███████████████████████████▋             |  ETA: 0:02:51\u001b[39m"
     ]
    },
    {
     "data": {
      "text/plain": [
       "0.30085322f0"
      ]
     },
     "metadata": {},
     "output_type": "display_data"
    },
    {
     "name": "stderr",
     "output_type": "stream",
     "text": [
      "\u001b[32mloss: 0.271:  68%|███████████████████████████▉             |  ETA: 0:02:48\u001b[39m"
     ]
    },
    {
     "data": {
      "text/plain": [
       "0.28677717f0"
      ]
     },
     "metadata": {},
     "output_type": "display_data"
    },
    {
     "name": "stderr",
     "output_type": "stream",
     "text": [
      "\u001b[32mloss: 0.285:  68%|████████████████████████████▏            |  ETA: 0:02:45\u001b[39m"
     ]
    },
    {
     "data": {
      "text/plain": [
       "0.27582383f0"
      ]
     },
     "metadata": {},
     "output_type": "display_data"
    },
    {
     "name": "stderr",
     "output_type": "stream",
     "text": [
      "\u001b[32mloss: 0.325:  69%|████████████████████████████▎            |  ETA: 0:02:42\u001b[39m"
     ]
    },
    {
     "data": {
      "text/plain": [
       "0.3048806f0"
      ]
     },
     "metadata": {},
     "output_type": "display_data"
    },
    {
     "name": "stderr",
     "output_type": "stream",
     "text": [
      "\u001b[32mloss: 0.311:  70%|████████████████████████████▌            |  ETA: 0:02:40\u001b[39m"
     ]
    },
    {
     "data": {
      "text/plain": [
       "0.29378855f0"
      ]
     },
     "metadata": {},
     "output_type": "display_data"
    },
    {
     "name": "stderr",
     "output_type": "stream",
     "text": [
      "\u001b[32mloss: 0.309:  70%|████████████████████████████▊            |  ETA: 0:02:37\u001b[39m"
     ]
    },
    {
     "data": {
      "text/plain": [
       "0.29082638f0"
      ]
     },
     "metadata": {},
     "output_type": "display_data"
    },
    {
     "name": "stderr",
     "output_type": "stream",
     "text": [
      "\u001b[32mloss: 0.275:  70%|████████████████████████████▉            |  ETA: 0:02:35\u001b[39m"
     ]
    },
    {
     "data": {
      "text/plain": [
       "0.30446917f0"
      ]
     },
     "metadata": {},
     "output_type": "display_data"
    },
    {
     "name": "stderr",
     "output_type": "stream",
     "text": [
      "\u001b[32mloss: 0.305:  71%|█████████████████████████████▏           |  ETA: 0:02:32\u001b[39m"
     ]
    },
    {
     "data": {
      "text/plain": [
       "0.28955346f0"
      ]
     },
     "metadata": {},
     "output_type": "display_data"
    },
    {
     "name": "stderr",
     "output_type": "stream",
     "text": [
      "\u001b[32mloss: 0.298:  72%|█████████████████████████████▍           |  ETA: 0:02:29\u001b[39m"
     ]
    },
    {
     "data": {
      "text/plain": [
       "0.30696028f0"
      ]
     },
     "metadata": {},
     "output_type": "display_data"
    },
    {
     "name": "stderr",
     "output_type": "stream",
     "text": [
      "\u001b[32mloss: 0.312:  72%|█████████████████████████████▌           |  ETA: 0:02:27\u001b[39m"
     ]
    },
    {
     "data": {
      "text/plain": [
       "0.25950164f0"
      ]
     },
     "metadata": {},
     "output_type": "display_data"
    },
    {
     "name": "stderr",
     "output_type": "stream",
     "text": [
      "\u001b[32mloss: 0.261:  72%|█████████████████████████████▊           |  ETA: 0:02:24\u001b[39m"
     ]
    },
    {
     "data": {
      "text/plain": [
       "0.29475158f0"
      ]
     },
     "metadata": {},
     "output_type": "display_data"
    },
    {
     "name": "stderr",
     "output_type": "stream",
     "text": [
      "\u001b[32mloss: 0.289:  73%|█████████████████████████████▉           |  ETA: 0:02:21\u001b[39m"
     ]
    },
    {
     "data": {
      "text/plain": [
       "0.27277488f0"
      ]
     },
     "metadata": {},
     "output_type": "display_data"
    },
    {
     "name": "stderr",
     "output_type": "stream",
     "text": [
      "\u001b[32mloss: 0.278:  74%|██████████████████████████████▏          |  ETA: 0:02:19\u001b[39m"
     ]
    },
    {
     "data": {
      "text/plain": [
       "0.26108533f0"
      ]
     },
     "metadata": {},
     "output_type": "display_data"
    },
    {
     "name": "stderr",
     "output_type": "stream",
     "text": [
      "\u001b[32mloss: 0.276:  74%|██████████████████████████████▍          |  ETA: 0:02:16\u001b[39m"
     ]
    },
    {
     "data": {
      "text/plain": [
       "0.2917074f0"
      ]
     },
     "metadata": {},
     "output_type": "display_data"
    },
    {
     "name": "stderr",
     "output_type": "stream",
     "text": [
      "\u001b[32mloss: 0.272:  74%|██████████████████████████████▌          |  ETA: 0:02:14\u001b[39m"
     ]
    },
    {
     "data": {
      "text/plain": [
       "0.31367993f0"
      ]
     },
     "metadata": {},
     "output_type": "display_data"
    },
    {
     "name": "stderr",
     "output_type": "stream",
     "text": [
      "\u001b[32mloss: 0.333:  75%|██████████████████████████████▊          |  ETA: 0:02:11\u001b[39m"
     ]
    },
    {
     "data": {
      "text/plain": [
       "0.2849202f0"
      ]
     },
     "metadata": {},
     "output_type": "display_data"
    },
    {
     "name": "stderr",
     "output_type": "stream",
     "text": [
      "\u001b[32mloss: 0.324:  76%|███████████████████████████████          |  ETA: 0:02:08\u001b[39m"
     ]
    },
    {
     "data": {
      "text/plain": [
       "0.30202985f0"
      ]
     },
     "metadata": {},
     "output_type": "display_data"
    },
    {
     "name": "stderr",
     "output_type": "stream",
     "text": [
      "\u001b[32mloss: 0.291:  76%|███████████████████████████████▏         |  ETA: 0:02:06\u001b[39m"
     ]
    },
    {
     "data": {
      "text/plain": [
       "0.2880144f0"
      ]
     },
     "metadata": {},
     "output_type": "display_data"
    },
    {
     "name": "stderr",
     "output_type": "stream",
     "text": [
      "\u001b[32mloss: 0.312:  76%|███████████████████████████████▍         |  ETA: 0:02:03\u001b[39m"
     ]
    },
    {
     "data": {
      "text/plain": [
       "0.27826202f0"
      ]
     },
     "metadata": {},
     "output_type": "display_data"
    },
    {
     "name": "stderr",
     "output_type": "stream",
     "text": [
      "\u001b[32mloss: 0.3:  77%|███████████████████████████████▋         |  ETA: 0:02:00\u001b[39m9m"
     ]
    },
    {
     "data": {
      "text/plain": [
       "0.3243587f0"
      ]
     },
     "metadata": {},
     "output_type": "display_data"
    },
    {
     "name": "stderr",
     "output_type": "stream",
     "text": [
      "\u001b[32mloss: 0.29:  78%|███████████████████████████████▊         |  ETA: 0:01:58\u001b[39mm"
     ]
    },
    {
     "data": {
      "text/plain": [
       "0.26837593f0"
      ]
     },
     "metadata": {},
     "output_type": "display_data"
    },
    {
     "name": "stderr",
     "output_type": "stream",
     "text": [
      "\u001b[32mloss: 0.277:  78%|████████████████████████████████         |  ETA: 0:01:54\u001b[39m"
     ]
    },
    {
     "data": {
      "text/plain": [
       "0.26901212f0"
      ]
     },
     "metadata": {},
     "output_type": "display_data"
    },
    {
     "name": "stderr",
     "output_type": "stream",
     "text": [
      "\u001b[32mloss: 0.29:  79%|████████████████████████████████▎        |  ETA: 0:01:51\u001b[39mm"
     ]
    },
    {
     "data": {
      "text/plain": [
       "0.26985052f0"
      ]
     },
     "metadata": {},
     "output_type": "display_data"
    },
    {
     "name": "stderr",
     "output_type": "stream",
     "text": [
      "\u001b[32mloss: 0.268:  79%|████████████████████████████████▌        |  ETA: 0:01:49\u001b[39m"
     ]
    },
    {
     "data": {
      "text/plain": [
       "0.29397413f0"
      ]
     },
     "metadata": {},
     "output_type": "display_data"
    },
    {
     "name": "stderr",
     "output_type": "stream",
     "text": [
      "\u001b[32mloss: 0.273:  80%|████████████████████████████████▋        |  ETA: 0:01:46\u001b[39m"
     ]
    },
    {
     "data": {
      "text/plain": [
       "0.22160473f0"
      ]
     },
     "metadata": {},
     "output_type": "display_data"
    },
    {
     "name": "stderr",
     "output_type": "stream",
     "text": [
      "\u001b[32mloss: 0.24:  80%|████████████████████████████████▉        |  ETA: 0:01:43\u001b[39mm"
     ]
    },
    {
     "data": {
      "text/plain": [
       "0.27437788f0"
      ]
     },
     "metadata": {},
     "output_type": "display_data"
    },
    {
     "name": "stderr",
     "output_type": "stream",
     "text": [
      "\u001b[32mloss: 0.26:  81%|█████████████████████████████████▏       |  ETA: 0:01:41\u001b[39mm"
     ]
    },
    {
     "data": {
      "text/plain": [
       "0.26027548f0"
      ]
     },
     "metadata": {},
     "output_type": "display_data"
    },
    {
     "name": "stderr",
     "output_type": "stream",
     "text": [
      "\u001b[32mloss: 0.293:  81%|█████████████████████████████████▎       |  ETA: 0:01:38\u001b[39m"
     ]
    },
    {
     "data": {
      "text/plain": [
       "0.26247302f0"
      ]
     },
     "metadata": {},
     "output_type": "display_data"
    },
    {
     "name": "stderr",
     "output_type": "stream",
     "text": [
      "\u001b[32mloss: 0.283:  82%|█████████████████████████████████▌       |  ETA: 0:01:36\u001b[39m"
     ]
    },
    {
     "data": {
      "text/plain": [
       "0.30625656f0"
      ]
     },
     "metadata": {},
     "output_type": "display_data"
    },
    {
     "name": "stderr",
     "output_type": "stream",
     "text": [
      "\u001b[32mloss: 0.333:  82%|█████████████████████████████████▊       |  ETA: 0:01:33\u001b[39m"
     ]
    },
    {
     "data": {
      "text/plain": [
       "0.30293712f0"
      ]
     },
     "metadata": {},
     "output_type": "display_data"
    },
    {
     "name": "stderr",
     "output_type": "stream",
     "text": [
      "\u001b[32mloss: 0.319:  83%|█████████████████████████████████▉       |  ETA: 0:01:30\u001b[39m"
     ]
    },
    {
     "data": {
      "text/plain": [
       "0.3029621f0"
      ]
     },
     "metadata": {},
     "output_type": "display_data"
    },
    {
     "name": "stderr",
     "output_type": "stream",
     "text": [
      "\u001b[32mloss: 0.32:  83%|██████████████████████████████████▏      |  ETA: 0:01:28\u001b[39mm"
     ]
    },
    {
     "data": {
      "text/plain": [
       "0.2867033f0"
      ]
     },
     "metadata": {},
     "output_type": "display_data"
    },
    {
     "name": "stderr",
     "output_type": "stream",
     "text": [
      "\u001b[32mloss: 0.282:  84%|██████████████████████████████████▍      |  ETA: 0:01:25\u001b[39m"
     ]
    },
    {
     "data": {
      "text/plain": [
       "0.30121896f0"
      ]
     },
     "metadata": {},
     "output_type": "display_data"
    },
    {
     "name": "stderr",
     "output_type": "stream",
     "text": [
      "\u001b[32mloss: 0.305:  84%|██████████████████████████████████▌      |  ETA: 0:01:23\u001b[39m"
     ]
    },
    {
     "data": {
      "text/plain": [
       "0.26933023f0"
      ]
     },
     "metadata": {},
     "output_type": "display_data"
    },
    {
     "name": "stderr",
     "output_type": "stream",
     "text": [
      "\u001b[32mloss: 0.263:  85%|██████████████████████████████████▊      |  ETA: 0:01:20\u001b[39m"
     ]
    },
    {
     "data": {
      "text/plain": [
       "0.26836425f0"
      ]
     },
     "metadata": {},
     "output_type": "display_data"
    },
    {
     "name": "stderr",
     "output_type": "stream",
     "text": [
      "\u001b[32mloss: 0.288:  85%|██████████████████████████████████▉      |  ETA: 0:01:17\u001b[39m"
     ]
    },
    {
     "data": {
      "text/plain": [
       "0.2825969f0"
      ]
     },
     "metadata": {},
     "output_type": "display_data"
    },
    {
     "name": "stderr",
     "output_type": "stream",
     "text": [
      "\u001b[32mloss: 0.317:  86%|███████████████████████████████████▏     |  ETA: 0:01:15\u001b[39m"
     ]
    },
    {
     "data": {
      "text/plain": [
       "0.29206413f0"
      ]
     },
     "metadata": {},
     "output_type": "display_data"
    },
    {
     "name": "stderr",
     "output_type": "stream",
     "text": [
      "\u001b[32mloss: 0.331:  86%|███████████████████████████████████▍     |  ETA: 0:01:12\u001b[39m"
     ]
    },
    {
     "data": {
      "text/plain": [
       "0.28383747f0"
      ]
     },
     "metadata": {},
     "output_type": "display_data"
    },
    {
     "name": "stderr",
     "output_type": "stream",
     "text": [
      "\u001b[32mloss: 0.313:  87%|███████████████████████████████████▌     |  ETA: 0:01:10\u001b[39m"
     ]
    },
    {
     "data": {
      "text/plain": [
       "0.2800381f0"
      ]
     },
     "metadata": {},
     "output_type": "display_data"
    },
    {
     "name": "stderr",
     "output_type": "stream",
     "text": [
      "\u001b[32mloss: 0.263:  87%|███████████████████████████████████▊     |  ETA: 0:01:07\u001b[39m"
     ]
    },
    {
     "data": {
      "text/plain": [
       "0.26926905f0"
      ]
     },
     "metadata": {},
     "output_type": "display_data"
    },
    {
     "name": "stderr",
     "output_type": "stream",
     "text": [
      "\u001b[32mloss: 0.278:  88%|████████████████████████████████████     |  ETA: 0:01:04\u001b[39m"
     ]
    },
    {
     "data": {
      "text/plain": [
       "0.2662758f0"
      ]
     },
     "metadata": {},
     "output_type": "display_data"
    },
    {
     "name": "stderr",
     "output_type": "stream",
     "text": [
      "\u001b[32mloss: 0.265:  88%|████████████████████████████████████▏    |  ETA: 0:01:02\u001b[39m"
     ]
    },
    {
     "data": {
      "text/plain": [
       "0.25527835f0"
      ]
     },
     "metadata": {},
     "output_type": "display_data"
    },
    {
     "name": "stderr",
     "output_type": "stream",
     "text": [
      "\u001b[32mloss: 0.28:  89%|████████████████████████████████████▍    |  ETA: 0:00:59\u001b[39mm"
     ]
    },
    {
     "data": {
      "text/plain": [
       "0.23195311f0"
      ]
     },
     "metadata": {},
     "output_type": "display_data"
    },
    {
     "name": "stderr",
     "output_type": "stream",
     "text": [
      "\u001b[32mloss: 0.24:  89%|████████████████████████████████████▋    |  ETA: 0:00:57\u001b[39mm"
     ]
    },
    {
     "data": {
      "text/plain": [
       "0.273049f0"
      ]
     },
     "metadata": {},
     "output_type": "display_data"
    },
    {
     "name": "stderr",
     "output_type": "stream",
     "text": [
      "\u001b[32mloss: 0.223:  90%|████████████████████████████████████▊    |  ETA: 0:00:54\u001b[39m"
     ]
    },
    {
     "data": {
      "text/plain": [
       "0.2111211f0"
      ]
     },
     "metadata": {},
     "output_type": "display_data"
    },
    {
     "name": "stderr",
     "output_type": "stream",
     "text": [
      "\u001b[32mloss: 0.256:  90%|█████████████████████████████████████    |  ETA: 0:00:51\u001b[39m"
     ]
    },
    {
     "data": {
      "text/plain": [
       "0.23323846f0"
      ]
     },
     "metadata": {},
     "output_type": "display_data"
    },
    {
     "name": "stderr",
     "output_type": "stream",
     "text": [
      "\u001b[32mloss: 0.22:  91%|█████████████████████████████████████▏   |  ETA: 0:00:49\u001b[39mm"
     ]
    },
    {
     "data": {
      "text/plain": [
       "0.22832876f0"
      ]
     },
     "metadata": {},
     "output_type": "display_data"
    },
    {
     "name": "stderr",
     "output_type": "stream",
     "text": [
      "\u001b[32mloss: 0.267:  91%|█████████████████████████████████████▍   |  ETA: 0:00:46\u001b[39m"
     ]
    },
    {
     "data": {
      "text/plain": [
       "0.23251835f0"
      ]
     },
     "metadata": {},
     "output_type": "display_data"
    },
    {
     "name": "stderr",
     "output_type": "stream",
     "text": [
      "\u001b[32mloss: 0.252:  92%|█████████████████████████████████████▊   |  ETA: 0:00:42\u001b[39m"
     ]
    },
    {
     "data": {
      "text/plain": [
       "0.27661693f0"
      ]
     },
     "metadata": {},
     "output_type": "display_data"
    },
    {
     "name": "stderr",
     "output_type": "stream",
     "text": [
      "\u001b[32mloss: 0.252:  92%|█████████████████████████████████████▉   |  ETA: 0:00:39\u001b[39m"
     ]
    },
    {
     "data": {
      "text/plain": [
       "0.24302034f0"
      ]
     },
     "metadata": {},
     "output_type": "display_data"
    },
    {
     "name": "stderr",
     "output_type": "stream",
     "text": [
      "\u001b[32mloss: 0.275:  93%|██████████████████████████████████████▏  |  ETA: 0:00:36\u001b[39m"
     ]
    },
    {
     "data": {
      "text/plain": [
       "0.28300062f0"
      ]
     },
     "metadata": {},
     "output_type": "display_data"
    },
    {
     "name": "stderr",
     "output_type": "stream",
     "text": [
      "\u001b[32mloss: 0.254:  94%|██████████████████████████████████████▍  |  ETA: 0:00:34\u001b[39m"
     ]
    },
    {
     "data": {
      "text/plain": [
       "0.2478278f0"
      ]
     },
     "metadata": {},
     "output_type": "display_data"
    },
    {
     "name": "stderr",
     "output_type": "stream",
     "text": [
      "\u001b[32mloss: 0.226:  94%|██████████████████████████████████████▌  |  ETA: 0:00:31\u001b[39m"
     ]
    },
    {
     "data": {
      "text/plain": [
       "0.24883929f0"
      ]
     },
     "metadata": {},
     "output_type": "display_data"
    },
    {
     "name": "stderr",
     "output_type": "stream",
     "text": [
      "\u001b[32mloss: 0.254:  94%|██████████████████████████████████████▊  |  ETA: 0:00:29\u001b[39m"
     ]
    },
    {
     "data": {
      "text/plain": [
       "0.23691732f0"
      ]
     },
     "metadata": {},
     "output_type": "display_data"
    },
    {
     "name": "stderr",
     "output_type": "stream",
     "text": [
      "\u001b[32mloss: 0.248:  95%|███████████████████████████████████████  |  ETA: 0:00:26\u001b[39m"
     ]
    },
    {
     "data": {
      "text/plain": [
       "0.26006064f0"
      ]
     },
     "metadata": {},
     "output_type": "display_data"
    },
    {
     "name": "stderr",
     "output_type": "stream",
     "text": [
      "\u001b[32mloss: 0.256:  96%|███████████████████████████████████████▏ |  ETA: 0:00:23\u001b[39m"
     ]
    },
    {
     "data": {
      "text/plain": [
       "0.25978523f0"
      ]
     },
     "metadata": {},
     "output_type": "display_data"
    },
    {
     "name": "stderr",
     "output_type": "stream",
     "text": [
      "\u001b[32mloss: 0.32:  96%|███████████████████████████████████████▌ |  ETA: 0:00:20\u001b[39mm"
     ]
    },
    {
     "data": {
      "text/plain": [
       "0.27111977f0"
      ]
     },
     "metadata": {},
     "output_type": "display_data"
    },
    {
     "name": "stderr",
     "output_type": "stream",
     "text": [
      "\u001b[32mloss: 0.265:  97%|███████████████████████████████████████▊ |  ETA: 0:00:16\u001b[39m"
     ]
    },
    {
     "data": {
      "text/plain": [
       "0.28277308f0"
      ]
     },
     "metadata": {},
     "output_type": "display_data"
    },
    {
     "name": "stderr",
     "output_type": "stream",
     "text": [
      "\u001b[32mloss: 0.268:  98%|████████████████████████████████████████ |  ETA: 0:00:13\u001b[39m"
     ]
    },
    {
     "data": {
      "text/plain": [
       "0.24653605f0"
      ]
     },
     "metadata": {},
     "output_type": "display_data"
    },
    {
     "name": "stderr",
     "output_type": "stream",
     "text": [
      "\u001b[32mloss: 0.286:  98%|████████████████████████████████████████▎|  ETA: 0:00:09\u001b[39m"
     ]
    },
    {
     "data": {
      "text/plain": [
       "0.27994475f0"
      ]
     },
     "metadata": {},
     "output_type": "display_data"
    },
    {
     "name": "stderr",
     "output_type": "stream",
     "text": [
      "\u001b[32mloss: 0.252:  99%|████████████████████████████████████████▌|  ETA: 0:00:07\u001b[39m"
     ]
    },
    {
     "data": {
      "text/plain": [
       "0.2723713f0"
      ]
     },
     "metadata": {},
     "output_type": "display_data"
    },
    {
     "name": "stderr",
     "output_type": "stream",
     "text": [
      "\u001b[32mloss: 0.269:  99%|████████████████████████████████████████▋|  ETA: 0:00:04\u001b[39m"
     ]
    },
    {
     "data": {
      "text/plain": [
       "0.26261923f0"
      ]
     },
     "metadata": {},
     "output_type": "display_data"
    },
    {
     "name": "stderr",
     "output_type": "stream",
     "text": [
      "\u001b[32mloss: 0.275: 100%|████████████████████████████████████████▉|  ETA: 0:00:02\u001b[39m"
     ]
    },
    {
     "data": {
      "text/plain": [
       "0.31243846f0"
      ]
     },
     "metadata": {},
     "output_type": "display_data"
    },
    {
     "name": "stderr",
     "output_type": "stream",
     "text": [
      "\r",
      "\u001b[32mloss: 0.312: 100%|█████████████████████████████████████████| Time: 0:08:41\u001b[39m\n"
     ]
    },
    {
     "data": {
      "text/plain": [
       " * Status: failure (reached maximum number of iterations)\n",
       "\n",
       " * Candidate solution\n",
       "    Minimizer: [-6.09e-02, 9.54e-02, -9.65e-03,  ...]\n",
       "    Minimum:   3.124385e-01\n",
       "\n",
       " * Found with\n",
       "    Algorithm:     ADAM\n",
       "    Initial Point: [-4.69e-02, 7.89e-02, -2.35e-02,  ...]\n",
       "\n",
       " * Convergence measures\n",
       "    |x - x'|               = NaN ≰ 0.0e+00\n",
       "    |x - x'|/|x'|          = NaN ≰ 0.0e+00\n",
       "    |f(x) - f(x')|         = NaN ≰ 0.0e+00\n",
       "    |f(x) - f(x')|/|f(x')| = NaN ≰ 0.0e+00\n",
       "    |g(x)|                 = NaN ≰ 0.0e+00\n",
       "\n",
       " * Work counters\n",
       "    Seconds run:   522  (vs limit Inf)\n",
       "    Iterations:    400\n",
       "    f(x) calls:    400\n",
       "    ∇f(x) calls:   400\n"
      ]
     },
     "execution_count": 158,
     "metadata": {},
     "output_type": "execute_result"
    }
   ],
   "source": [
    "#res = DiffEqFlux.sciml_train(loss_node, res.minimizer, ADAM(), dataset, cb=Flux.throttle(cb, 1), maxiters=1000)\n",
    "res = DiffEqFlux.sciml_train(loss_node, res.minimizer, ADAM(), cb=Flux.throttle(cb, 1), maxiters=400)"
   ]
  },
  {
   "cell_type": "code",
   "execution_count": 17,
   "metadata": {
    "scrolled": true
   },
   "outputs": [
    {
     "data": {
      "text/plain": [
       "1.3207211f-5"
      ]
     },
     "metadata": {},
     "output_type": "display_data"
    },
    {
     "data": {
      "text/plain": [
       "1.3162783f-5"
      ]
     },
     "metadata": {},
     "output_type": "display_data"
    },
    {
     "data": {
      "text/plain": [
       "1.313933f-5"
      ]
     },
     "metadata": {},
     "output_type": "display_data"
    },
    {
     "data": {
      "text/plain": [
       "1.3088811f-5"
      ]
     },
     "metadata": {},
     "output_type": "display_data"
    },
    {
     "data": {
      "text/plain": [
       "1.301874f-5"
      ]
     },
     "metadata": {},
     "output_type": "display_data"
    },
    {
     "data": {
      "text/plain": [
       "1.3011358f-5"
      ]
     },
     "metadata": {},
     "output_type": "display_data"
    },
    {
     "data": {
      "text/plain": [
       "1.3006225f-5"
      ]
     },
     "metadata": {},
     "output_type": "display_data"
    },
    {
     "data": {
      "text/plain": [
       "1.2951696f-5"
      ]
     },
     "metadata": {},
     "output_type": "display_data"
    },
    {
     "data": {
      "text/plain": [
       "1.2921901f-5"
      ]
     },
     "metadata": {},
     "output_type": "display_data"
    },
    {
     "data": {
      "text/plain": [
       "1.2909172f-5"
      ]
     },
     "metadata": {},
     "output_type": "display_data"
    },
    {
     "data": {
      "text/plain": [
       "1.2664747f-5"
      ]
     },
     "metadata": {},
     "output_type": "display_data"
    },
    {
     "data": {
      "text/plain": [
       "1.2542227f-5"
      ]
     },
     "metadata": {},
     "output_type": "display_data"
    },
    {
     "data": {
      "text/plain": [
       "1.2470489f-5"
      ]
     },
     "metadata": {},
     "output_type": "display_data"
    },
    {
     "data": {
      "text/plain": [
       "1.1927175f-5"
      ]
     },
     "metadata": {},
     "output_type": "display_data"
    },
    {
     "data": {
      "text/plain": [
       "1.1642773f-5"
      ]
     },
     "metadata": {},
     "output_type": "display_data"
    },
    {
     "data": {
      "text/plain": [
       "1.1634623f-5"
      ]
     },
     "metadata": {},
     "output_type": "display_data"
    },
    {
     "data": {
      "text/plain": [
       "1.1631764f-5"
      ]
     },
     "metadata": {},
     "output_type": "display_data"
    },
    {
     "data": {
      "text/plain": [
       "1.1616154f-5"
      ]
     },
     "metadata": {},
     "output_type": "display_data"
    },
    {
     "data": {
      "text/plain": [
       "1.1611977f-5"
      ]
     },
     "metadata": {},
     "output_type": "display_data"
    },
    {
     "data": {
      "text/plain": [
       "1.1611f-5"
      ]
     },
     "metadata": {},
     "output_type": "display_data"
    },
    {
     "data": {
      "text/plain": [
       "1.1610422f-5"
      ]
     },
     "metadata": {},
     "output_type": "display_data"
    },
    {
     "data": {
      "text/plain": [
       "1.15993025f-5"
      ]
     },
     "metadata": {},
     "output_type": "display_data"
    },
    {
     "data": {
      "text/plain": [
       "1.1593158f-5"
      ]
     },
     "metadata": {},
     "output_type": "display_data"
    },
    {
     "data": {
      "text/plain": [
       "1.15910325f-5"
      ]
     },
     "metadata": {},
     "output_type": "display_data"
    },
    {
     "data": {
      "text/plain": [
       "1.1538402f-5"
      ]
     },
     "metadata": {},
     "output_type": "display_data"
    },
    {
     "data": {
      "text/plain": [
       "1.1289575f-5"
      ]
     },
     "metadata": {},
     "output_type": "display_data"
    },
    {
     "data": {
      "text/plain": [
       "1.126679f-5"
      ]
     },
     "metadata": {},
     "output_type": "display_data"
    },
    {
     "data": {
      "text/plain": [
       "1.1251149f-5"
      ]
     },
     "metadata": {},
     "output_type": "display_data"
    },
    {
     "data": {
      "text/plain": [
       "1.1199305f-5"
      ]
     },
     "metadata": {},
     "output_type": "display_data"
    },
    {
     "data": {
      "text/plain": [
       "1.1194721f-5"
      ]
     },
     "metadata": {},
     "output_type": "display_data"
    },
    {
     "data": {
      "text/plain": [
       "1.1193894f-5"
      ]
     },
     "metadata": {},
     "output_type": "display_data"
    },
    {
     "data": {
      "text/plain": [
       "1.1192406f-5"
      ]
     },
     "metadata": {},
     "output_type": "display_data"
    },
    {
     "data": {
      "text/plain": [
       "1.118635f-5"
      ]
     },
     "metadata": {},
     "output_type": "display_data"
    },
    {
     "data": {
      "text/plain": [
       "1.1185105f-5"
      ]
     },
     "metadata": {},
     "output_type": "display_data"
    },
    {
     "data": {
      "text/plain": [
       "1.1184296f-5"
      ]
     },
     "metadata": {},
     "output_type": "display_data"
    },
    {
     "data": {
      "text/plain": [
       "1.1175851f-5"
      ]
     },
     "metadata": {},
     "output_type": "display_data"
    },
    {
     "data": {
      "text/plain": [
       "1.1163715f-5"
      ]
     },
     "metadata": {},
     "output_type": "display_data"
    },
    {
     "data": {
      "text/plain": [
       "1.1160015f-5"
      ]
     },
     "metadata": {},
     "output_type": "display_data"
    },
    {
     "data": {
      "text/plain": [
       "1.113504f-5"
      ]
     },
     "metadata": {},
     "output_type": "display_data"
    },
    {
     "data": {
      "text/plain": [
       "1.11132185f-5"
      ]
     },
     "metadata": {},
     "output_type": "display_data"
    },
    {
     "data": {
      "text/plain": [
       "1.0946858f-5"
      ]
     },
     "metadata": {},
     "output_type": "display_data"
    },
    {
     "data": {
      "text/plain": [
       "1.0486636f-5"
      ]
     },
     "metadata": {},
     "output_type": "display_data"
    },
    {
     "data": {
      "text/plain": [
       "1.0344167f-5"
      ]
     },
     "metadata": {},
     "output_type": "display_data"
    },
    {
     "data": {
      "text/plain": [
       "1.0259867f-5"
      ]
     },
     "metadata": {},
     "output_type": "display_data"
    },
    {
     "data": {
      "text/plain": [
       "9.747035f-6"
      ]
     },
     "metadata": {},
     "output_type": "display_data"
    },
    {
     "data": {
      "text/plain": [
       "8.142082f-6"
      ]
     },
     "metadata": {},
     "output_type": "display_data"
    },
    {
     "data": {
      "text/plain": [
       "7.878415f-6"
      ]
     },
     "metadata": {},
     "output_type": "display_data"
    },
    {
     "data": {
      "text/plain": [
       "7.794866f-6"
      ]
     },
     "metadata": {},
     "output_type": "display_data"
    },
    {
     "data": {
      "text/plain": [
       "7.514024f-6"
      ]
     },
     "metadata": {},
     "output_type": "display_data"
    },
    {
     "data": {
      "text/plain": [
       "7.4101185f-6"
      ]
     },
     "metadata": {},
     "output_type": "display_data"
    },
    {
     "data": {
      "text/plain": [
       "7.3938227f-6"
      ]
     },
     "metadata": {},
     "output_type": "display_data"
    },
    {
     "data": {
      "text/plain": [
       "7.361988f-6"
      ]
     },
     "metadata": {},
     "output_type": "display_data"
    },
    {
     "data": {
      "text/plain": [
       "7.3392684f-6"
      ]
     },
     "metadata": {},
     "output_type": "display_data"
    },
    {
     "data": {
      "text/plain": [
       "7.3307647f-6"
      ]
     },
     "metadata": {},
     "output_type": "display_data"
    },
    {
     "data": {
      "text/plain": [
       "7.3141205f-6"
      ]
     },
     "metadata": {},
     "output_type": "display_data"
    },
    {
     "data": {
      "text/plain": [
       "7.282902f-6"
      ]
     },
     "metadata": {},
     "output_type": "display_data"
    },
    {
     "data": {
      "text/plain": [
       "7.2752255f-6"
      ]
     },
     "metadata": {},
     "output_type": "display_data"
    },
    {
     "data": {
      "text/plain": [
       "7.2633f-6"
      ]
     },
     "metadata": {},
     "output_type": "display_data"
    },
    {
     "data": {
      "text/plain": [
       "7.2328166f-6"
      ]
     },
     "metadata": {},
     "output_type": "display_data"
    },
    {
     "data": {
      "text/plain": [
       "7.2108883f-6"
      ]
     },
     "metadata": {},
     "output_type": "display_data"
    },
    {
     "data": {
      "text/plain": [
       "7.163193f-6"
      ]
     },
     "metadata": {},
     "output_type": "display_data"
    },
    {
     "data": {
      "text/plain": [
       "7.101204f-6"
      ]
     },
     "metadata": {},
     "output_type": "display_data"
    },
    {
     "data": {
      "text/plain": [
       "7.040992f-6"
      ]
     },
     "metadata": {},
     "output_type": "display_data"
    },
    {
     "data": {
      "text/plain": [
       "6.9245893f-6"
      ]
     },
     "metadata": {},
     "output_type": "display_data"
    },
    {
     "data": {
      "text/plain": [
       "6.8788104f-6"
      ]
     },
     "metadata": {},
     "output_type": "display_data"
    },
    {
     "data": {
      "text/plain": [
       "6.792423f-6"
      ]
     },
     "metadata": {},
     "output_type": "display_data"
    },
    {
     "data": {
      "text/plain": [
       "6.6357325f-6"
      ]
     },
     "metadata": {},
     "output_type": "display_data"
    },
    {
     "data": {
      "text/plain": [
       " * Status: failure\n",
       "\n",
       " * Candidate solution\n",
       "    Minimizer: [-2.78e-02, -4.66e-02, 3.97e-02,  ...]\n",
       "    Minimum:   6.635732e-06\n",
       "\n",
       " * Found with\n",
       "    Algorithm:     L-BFGS\n",
       "    Initial Point: [-2.78e-02, -4.66e-02, 3.97e-02,  ...]\n",
       "\n",
       " * Convergence measures\n",
       "    |x - x'|               = 2.13e-03 ≰ 0.0e+00\n",
       "    |x - x'|/|x'|          = 9.32e-03 ≰ 0.0e+00\n",
       "    |f(x) - f(x')|         = 1.57e-07 ≰ 0.0e+00\n",
       "    |f(x) - f(x')|/|f(x')| = 2.36e-02 ≰ 0.0e+00\n",
       "    |g(x)|                 = 8.29e-05 ≰ 1.0e-08\n",
       "\n",
       " * Work counters\n",
       "    Seconds run:   60  (vs limit Inf)\n",
       "    Iterations:    66\n",
       "    f(x) calls:    202\n",
       "    ∇f(x) calls:   202\n"
      ]
     },
     "execution_count": 17,
     "metadata": {},
     "output_type": "execute_result"
    }
   ],
   "source": [
    "res = DiffEqFlux.sciml_train(loss_node, res.minimizer, LBFGS(), cb=cb, maxiters=200)"
   ]
  },
  {
   "cell_type": "code",
   "execution_count": 18,
   "metadata": {},
   "outputs": [
    {
     "data": {
      "text/plain": [
       "step_node! (generic function with 1 method)"
      ]
     },
     "execution_count": 18,
     "metadata": {},
     "output_type": "execute_result"
    }
   ],
   "source": [
    "function step_train!( fwL, ffL, w, prim, f, fwR, ffR,\n",
    "\t\t\t           γ, μ, ω, u, n_ode, p, dx, tRan, RES, AVG )\n",
    "    #--- record W^{n} ---#\n",
    "    w_old = deepcopy(w)\n",
    "    M = maxwellian(u, prim)\n",
    "\tτ = vhs_collision_time(prim, μ, ω)\n",
    "    \n",
    "    #--- update W^{n+1} ---#\n",
    "\t@. w += (fwL - fwR) / dx\n",
    "\tprim .= conserve_prim(w, γ)\n",
    "\n",
    "\t#--- record residuals ---#\n",
    "\t@. RES += (w - w_old)^2\n",
    "\t@. AVG += abs(w)\n",
    "\n",
    "    data = solve(ODEProblem(bgk!, f[1:end], tSpan, [M, τ]), Tsit5(), saveat=tRan) |> Array;\n",
    "    pred = n_ode(f[1:end], p) |> Array\n",
    "    loss = sum(abs2, pred .- data)\n",
    "\n",
    "    if loss <= 1.e-6\n",
    "        ftemp = n_ode(f[1:end], p).u[end]\n",
    "    \tfor i in eachindex(u)\n",
    "    \t\tf[i] = ftemp[i] + (ffL[i] - ffR[i]) / dx\n",
    "    \tend\n",
    "    else\n",
    "        for i in eachindex(u)\n",
    "    \t\tf[i] += (ffL[i] - ffR[i]) / dx + (M[i] - f[i]) / τ * tRan[end]\n",
    "    \tend\n",
    "        \n",
    "        #push!(datainit, f[1:end])\n",
    "        #push!(dataset, data)\n",
    "    end\n",
    "end\n",
    "\n",
    "function step_bgk!( fwL, ffL, w, prim, f, fwR, ffR,\n",
    "\t\t\t           γ, μ, ω, u, weights, n_ode, p, dx, tRan, RES, AVG )\n",
    "    \n",
    "    #--- record W^{n} ---#\n",
    "    w_old = deepcopy(w)\n",
    "    prim_old = deepcopy(prim)\n",
    "    \n",
    "    #--- update W^{n+1} ---#\n",
    "\t@. w = w_old + (fwL - fwR) / dx\n",
    "\tprim .= conserve_prim(w, γ)\n",
    "\n",
    "\t#--- record residuals ---#\n",
    "\t@. RES += (w - w_old)^2\n",
    "\t@. AVG += abs(w)\n",
    "    \n",
    "    M = maxwellian(u, prim_old)\n",
    "\tτ = vhs_collision_time(prim_old, μ, ω)\n",
    "    \n",
    "    #ftemp = f .+ (M .- f) / τ * tRan[end]\n",
    "    prob = ODEProblem(bgk!, f[1:end], (0, tRan[end]), (M, τ))\n",
    "    ftemp = (solve(prob, Tsit5(), saveat=tRan) |> Array)[:,end]\n",
    "    \n",
    "    for i in eachindex(u)\n",
    "        f[i] = ftemp[i] + (ffL[i] - ffR[i]) / dx\n",
    "    end\n",
    "    \n",
    "end\n",
    "\n",
    "function step_node!( fwL, ffL, w, prim, f, fwR, ffR,\n",
    "\t\t\t           γ, μ, ω, u, weights, n_ode, p, dx, tRan, RES, AVG )\n",
    "    \n",
    "    #--- record W^{n} ---#\n",
    "    w_old = deepcopy(w)\n",
    "    M = maxwellian(u, prim)\n",
    "\tτ = vhs_collision_time(prim, μ, ω)\n",
    "    \n",
    "    #--- update W^{n+1} ---#\n",
    "\t@. w += (fwL - fwR) / dx\n",
    "\tprim .= conserve_prim(w, γ)\n",
    "\n",
    "\t#--- record residuals ---#\n",
    "\t@. RES += (w - w_old)^2\n",
    "\t@. AVG += abs(w)\n",
    "\n",
    "    ftemp = n_ode(f[1:end], p).u[end]\n",
    "    for i in eachindex(u)\n",
    "        f[i] = ftemp[i] + (ffL[i] - ffR[i]) / dx\n",
    "    end\n",
    "    \n",
    "    #w .= moments_conserve( f, u, weights )\n",
    "    #prim .= conserve_prim(w, γ)\n",
    "\n",
    "end"
   ]
  },
  {
   "cell_type": "code",
   "execution_count": 52,
   "metadata": {},
   "outputs": [],
   "source": [
    "sumRes = zeros(Float32, axes(ib.wL))\n",
    "sumAvg = zeros(Float32, axes(ib.wL))\n",
    "\n",
    "for iter = 1:1\n",
    "    Kinetic.evolve!(ks, ctr, face, dt)\n",
    "\n",
    "    for i in 2:49\n",
    "        step_node!( face[i].fw, face[i].ff, ctr[i].w, ctr[i].prim, ctr[i].f,\n",
    "                     face[i+1].fw, face[i+1].ff, ks.gas.γ, ks.gas.μᵣ, ks.gas.ω, vSpace.u, vSpace.weights, node, res.minimizer,\n",
    "                     ctr[i].dx, tRan, sumRes, sumAvg )\n",
    "    end\n",
    "end\n",
    "\n",
    "\n",
    "for iter = 1:1\n",
    "    Kinetic.evolve!(ks, ctr, face, dt)\n",
    "\n",
    "    for i in 2:49\n",
    "        step_node!( face[i].fw, face[i].ff, ctr[i].w, ctr[i].prim, ctr[i].f,\n",
    "                     face[i+1].fw, face[i+1].ff, ks.gas.γ, ks.gas.μᵣ, ks.gas.ω, vSpace.u, vSpace.weights, node, res.minimizer,\n",
    "                     ctr[i].dx, tRan, sumRes, sumAvg )\n",
    "    end\n",
    "end"
   ]
  },
  {
   "cell_type": "code",
   "execution_count": 53,
   "metadata": {
    "scrolled": false
   },
   "outputs": [
    {
     "data": {
      "image/svg+xml": [
       "<?xml version=\"1.0\" encoding=\"utf-8\"?>\n",
       "<svg xmlns=\"http://www.w3.org/2000/svg\" xmlns:xlink=\"http://www.w3.org/1999/xlink\" width=\"600\" height=\"400\" viewBox=\"0 0 2400 1600\">\n",
       "<defs>\n",
       "  <clipPath id=\"clip1900\">\n",
       "    <rect x=\"0\" y=\"0\" width=\"2400\" height=\"1600\"/>\n",
       "  </clipPath>\n",
       "</defs>\n",
       "<path clip-path=\"url(#clip1900)\" d=\"\n",
       "M0 1600 L2400 1600 L2400 0 L0 0  Z\n",
       "  \" fill=\"#ffffff\" fill-rule=\"evenodd\" fill-opacity=\"1\"/>\n",
       "<defs>\n",
       "  <clipPath id=\"clip1901\">\n",
       "    <rect x=\"480\" y=\"0\" width=\"1681\" height=\"1600\"/>\n",
       "  </clipPath>\n",
       "</defs>\n",
       "<path clip-path=\"url(#clip1900)\" d=\"\n",
       "M146.714 1423.18 L2352.76 1423.18 L2352.76 47.2441 L146.714 47.2441  Z\n",
       "  \" fill=\"#ffffff\" fill-rule=\"evenodd\" fill-opacity=\"1\"/>\n",
       "<defs>\n",
       "  <clipPath id=\"clip1902\">\n",
       "    <rect x=\"146\" y=\"47\" width=\"2207\" height=\"1377\"/>\n",
       "  </clipPath>\n",
       "</defs>\n",
       "<polyline clip-path=\"url(#clip1902)\" style=\"stroke:#000000; stroke-width:2; stroke-opacity:0.1; fill:none\" points=\"\n",
       "  400.277,1423.18 400.277,47.2441 \n",
       "  \"/>\n",
       "<polyline clip-path=\"url(#clip1902)\" style=\"stroke:#000000; stroke-width:2; stroke-opacity:0.1; fill:none\" points=\"\n",
       "  825.006,1423.18 825.006,47.2441 \n",
       "  \"/>\n",
       "<polyline clip-path=\"url(#clip1902)\" style=\"stroke:#000000; stroke-width:2; stroke-opacity:0.1; fill:none\" points=\"\n",
       "  1249.73,1423.18 1249.73,47.2441 \n",
       "  \"/>\n",
       "<polyline clip-path=\"url(#clip1902)\" style=\"stroke:#000000; stroke-width:2; stroke-opacity:0.1; fill:none\" points=\"\n",
       "  1674.46,1423.18 1674.46,47.2441 \n",
       "  \"/>\n",
       "<polyline clip-path=\"url(#clip1902)\" style=\"stroke:#000000; stroke-width:2; stroke-opacity:0.1; fill:none\" points=\"\n",
       "  2099.19,1423.18 2099.19,47.2441 \n",
       "  \"/>\n",
       "<polyline clip-path=\"url(#clip1902)\" style=\"stroke:#000000; stroke-width:2; stroke-opacity:0.1; fill:none\" points=\"\n",
       "  146.714,1362.18 2352.76,1362.18 \n",
       "  \"/>\n",
       "<polyline clip-path=\"url(#clip1902)\" style=\"stroke:#000000; stroke-width:2; stroke-opacity:0.1; fill:none\" points=\"\n",
       "  146.714,1101.86 2352.76,1101.86 \n",
       "  \"/>\n",
       "<polyline clip-path=\"url(#clip1902)\" style=\"stroke:#000000; stroke-width:2; stroke-opacity:0.1; fill:none\" points=\"\n",
       "  146.714,841.534 2352.76,841.534 \n",
       "  \"/>\n",
       "<polyline clip-path=\"url(#clip1902)\" style=\"stroke:#000000; stroke-width:2; stroke-opacity:0.1; fill:none\" points=\"\n",
       "  146.714,581.209 2352.76,581.209 \n",
       "  \"/>\n",
       "<polyline clip-path=\"url(#clip1902)\" style=\"stroke:#000000; stroke-width:2; stroke-opacity:0.1; fill:none\" points=\"\n",
       "  146.714,320.884 2352.76,320.884 \n",
       "  \"/>\n",
       "<polyline clip-path=\"url(#clip1902)\" style=\"stroke:#000000; stroke-width:2; stroke-opacity:0.1; fill:none\" points=\"\n",
       "  146.714,60.5589 2352.76,60.5589 \n",
       "  \"/>\n",
       "<polyline clip-path=\"url(#clip1900)\" style=\"stroke:#000000; stroke-width:4; stroke-opacity:1; fill:none\" points=\"\n",
       "  146.714,1423.18 2352.76,1423.18 \n",
       "  \"/>\n",
       "<polyline clip-path=\"url(#clip1900)\" style=\"stroke:#000000; stroke-width:4; stroke-opacity:1; fill:none\" points=\"\n",
       "  146.714,1423.18 146.714,47.2441 \n",
       "  \"/>\n",
       "<polyline clip-path=\"url(#clip1900)\" style=\"stroke:#000000; stroke-width:4; stroke-opacity:1; fill:none\" points=\"\n",
       "  400.277,1423.18 400.277,1406.67 \n",
       "  \"/>\n",
       "<polyline clip-path=\"url(#clip1900)\" style=\"stroke:#000000; stroke-width:4; stroke-opacity:1; fill:none\" points=\"\n",
       "  825.006,1423.18 825.006,1406.67 \n",
       "  \"/>\n",
       "<polyline clip-path=\"url(#clip1900)\" style=\"stroke:#000000; stroke-width:4; stroke-opacity:1; fill:none\" points=\"\n",
       "  1249.73,1423.18 1249.73,1406.67 \n",
       "  \"/>\n",
       "<polyline clip-path=\"url(#clip1900)\" style=\"stroke:#000000; stroke-width:4; stroke-opacity:1; fill:none\" points=\"\n",
       "  1674.46,1423.18 1674.46,1406.67 \n",
       "  \"/>\n",
       "<polyline clip-path=\"url(#clip1900)\" style=\"stroke:#000000; stroke-width:4; stroke-opacity:1; fill:none\" points=\"\n",
       "  2099.19,1423.18 2099.19,1406.67 \n",
       "  \"/>\n",
       "<polyline clip-path=\"url(#clip1900)\" style=\"stroke:#000000; stroke-width:4; stroke-opacity:1; fill:none\" points=\"\n",
       "  146.714,1362.18 173.187,1362.18 \n",
       "  \"/>\n",
       "<polyline clip-path=\"url(#clip1900)\" style=\"stroke:#000000; stroke-width:4; stroke-opacity:1; fill:none\" points=\"\n",
       "  146.714,1101.86 173.187,1101.86 \n",
       "  \"/>\n",
       "<polyline clip-path=\"url(#clip1900)\" style=\"stroke:#000000; stroke-width:4; stroke-opacity:1; fill:none\" points=\"\n",
       "  146.714,841.534 173.187,841.534 \n",
       "  \"/>\n",
       "<polyline clip-path=\"url(#clip1900)\" style=\"stroke:#000000; stroke-width:4; stroke-opacity:1; fill:none\" points=\"\n",
       "  146.714,581.209 173.187,581.209 \n",
       "  \"/>\n",
       "<polyline clip-path=\"url(#clip1900)\" style=\"stroke:#000000; stroke-width:4; stroke-opacity:1; fill:none\" points=\"\n",
       "  146.714,320.884 173.187,320.884 \n",
       "  \"/>\n",
       "<polyline clip-path=\"url(#clip1900)\" style=\"stroke:#000000; stroke-width:4; stroke-opacity:1; fill:none\" points=\"\n",
       "  146.714,60.5589 173.187,60.5589 \n",
       "  \"/>\n",
       "<path clip-path=\"url(#clip1900)\" d=\"M 0 0 M367.824 1461.77 L380.3 1461.77 L380.3 1465.56 L367.824 1465.56 L367.824 1461.77 Z\" fill=\"#000000\" fill-rule=\"evenodd\" fill-opacity=\"1\" /><path clip-path=\"url(#clip1900)\" d=\"M 0 0 M389.398 1472.72 L405.717 1472.72 L405.717 1476.65 L383.773 1476.65 L383.773 1472.72 Q386.435 1469.96 391.018 1465.33 Q395.624 1460.68 396.805 1459.34 Q399.05 1456.81 399.93 1455.08 Q400.833 1453.32 400.833 1451.63 Q400.833 1448.87 398.888 1447.14 Q396.967 1445.4 393.865 1445.4 Q391.666 1445.4 389.212 1446.17 Q386.782 1446.93 384.004 1448.48 L384.004 1443.76 Q386.828 1442.62 389.282 1442.05 Q391.736 1441.47 393.773 1441.47 Q399.143 1441.47 402.337 1444.15 Q405.532 1446.84 405.532 1451.33 Q405.532 1453.46 404.722 1455.38 Q403.935 1457.28 401.828 1459.87 Q401.249 1460.54 398.148 1463.76 Q395.046 1466.95 389.398 1472.72 Z\" fill=\"#000000\" fill-rule=\"evenodd\" fill-opacity=\"1\" /><path clip-path=\"url(#clip1900)\" d=\"M 0 0 M420.786 1445.17 Q417.175 1445.17 415.347 1448.74 Q413.541 1452.28 413.541 1459.41 Q413.541 1466.51 415.347 1470.08 Q417.175 1473.62 420.786 1473.62 Q424.421 1473.62 426.226 1470.08 Q428.055 1466.51 428.055 1459.41 Q428.055 1452.28 426.226 1448.74 Q424.421 1445.17 420.786 1445.17 M420.786 1441.47 Q426.596 1441.47 429.652 1446.07 Q432.731 1450.66 432.731 1459.41 Q432.731 1468.13 429.652 1472.74 Q426.596 1477.32 420.786 1477.32 Q414.976 1477.32 411.897 1472.74 Q408.842 1468.13 408.842 1459.41 Q408.842 1450.66 411.897 1446.07 Q414.976 1441.47 420.786 1441.47 Z\" fill=\"#000000\" fill-rule=\"evenodd\" fill-opacity=\"1\" /><path clip-path=\"url(#clip1900)\" d=\"M 0 0 M792.367 1461.77 L804.844 1461.77 L804.844 1465.56 L792.367 1465.56 L792.367 1461.77 Z\" fill=\"#000000\" fill-rule=\"evenodd\" fill-opacity=\"1\" /><path clip-path=\"url(#clip1900)\" d=\"M 0 0 M810.724 1472.72 L818.363 1472.72 L818.363 1446.35 L810.052 1448.02 L810.052 1443.76 L818.316 1442.09 L822.992 1442.09 L822.992 1472.72 L830.631 1472.72 L830.631 1476.65 L810.724 1476.65 L810.724 1472.72 Z\" fill=\"#000000\" fill-rule=\"evenodd\" fill-opacity=\"1\" /><path clip-path=\"url(#clip1900)\" d=\"M 0 0 M845.7 1445.17 Q842.089 1445.17 840.261 1448.74 Q838.455 1452.28 838.455 1459.41 Q838.455 1466.51 840.261 1470.08 Q842.089 1473.62 845.7 1473.62 Q849.335 1473.62 851.14 1470.08 Q852.969 1466.51 852.969 1459.41 Q852.969 1452.28 851.14 1448.74 Q849.335 1445.17 845.7 1445.17 M845.7 1441.47 Q851.511 1441.47 854.566 1446.07 Q857.645 1450.66 857.645 1459.41 Q857.645 1468.13 854.566 1472.74 Q851.511 1477.32 845.7 1477.32 Q839.89 1477.32 836.812 1472.74 Q833.756 1468.13 833.756 1459.41 Q833.756 1450.66 836.812 1446.07 Q839.89 1441.47 845.7 1441.47 Z\" fill=\"#000000\" fill-rule=\"evenodd\" fill-opacity=\"1\" /><path clip-path=\"url(#clip1900)\" d=\"M 0 0 M1249.73 1445.17 Q1246.12 1445.17 1244.3 1448.74 Q1242.49 1452.28 1242.49 1459.41 Q1242.49 1466.51 1244.3 1470.08 Q1246.12 1473.62 1249.73 1473.62 Q1253.37 1473.62 1255.17 1470.08 Q1257 1466.51 1257 1459.41 Q1257 1452.28 1255.17 1448.74 Q1253.37 1445.17 1249.73 1445.17 M1249.73 1441.47 Q1255.55 1441.47 1258.6 1446.07 Q1261.68 1450.66 1261.68 1459.41 Q1261.68 1468.13 1258.6 1472.74 Q1255.55 1477.32 1249.73 1477.32 Q1243.92 1477.32 1240.85 1472.74 Q1237.79 1468.13 1237.79 1459.41 Q1237.79 1450.66 1240.85 1446.07 Q1243.92 1441.47 1249.73 1441.47 Z\" fill=\"#000000\" fill-rule=\"evenodd\" fill-opacity=\"1\" /><path clip-path=\"url(#clip1900)\" d=\"M 0 0 M1651.34 1472.72 L1658.98 1472.72 L1658.98 1446.35 L1650.67 1448.02 L1650.67 1443.76 L1658.93 1442.09 L1663.61 1442.09 L1663.61 1472.72 L1671.25 1472.72 L1671.25 1476.65 L1651.34 1476.65 L1651.34 1472.72 Z\" fill=\"#000000\" fill-rule=\"evenodd\" fill-opacity=\"1\" /><path clip-path=\"url(#clip1900)\" d=\"M 0 0 M1686.32 1445.17 Q1682.7 1445.17 1680.88 1448.74 Q1679.07 1452.28 1679.07 1459.41 Q1679.07 1466.51 1680.88 1470.08 Q1682.7 1473.62 1686.32 1473.62 Q1689.95 1473.62 1691.76 1470.08 Q1693.58 1466.51 1693.58 1459.41 Q1693.58 1452.28 1691.76 1448.74 Q1689.95 1445.17 1686.32 1445.17 M1686.32 1441.47 Q1692.13 1441.47 1695.18 1446.07 Q1698.26 1450.66 1698.26 1459.41 Q1698.26 1468.13 1695.18 1472.74 Q1692.13 1477.32 1686.32 1477.32 Q1680.51 1477.32 1677.43 1472.74 Q1674.37 1468.13 1674.37 1459.41 Q1674.37 1450.66 1677.43 1446.07 Q1680.51 1441.47 1686.32 1441.47 Z\" fill=\"#000000\" fill-rule=\"evenodd\" fill-opacity=\"1\" /><path clip-path=\"url(#clip1900)\" d=\"M 0 0 M2080.34 1472.72 L2096.66 1472.72 L2096.66 1476.65 L2074.71 1476.65 L2074.71 1472.72 Q2077.38 1469.96 2081.96 1465.33 Q2086.57 1460.68 2087.75 1459.34 Q2089.99 1456.81 2090.87 1455.08 Q2091.77 1453.32 2091.77 1451.63 Q2091.77 1448.87 2089.83 1447.14 Q2087.91 1445.4 2084.81 1445.4 Q2082.61 1445.4 2080.15 1446.17 Q2077.72 1446.93 2074.95 1448.48 L2074.95 1443.76 Q2077.77 1442.62 2080.22 1442.05 Q2082.68 1441.47 2084.71 1441.47 Q2090.08 1441.47 2093.28 1444.15 Q2096.47 1446.84 2096.47 1451.33 Q2096.47 1453.46 2095.66 1455.38 Q2094.88 1457.28 2092.77 1459.87 Q2092.19 1460.54 2089.09 1463.76 Q2085.99 1466.95 2080.34 1472.72 Z\" fill=\"#000000\" fill-rule=\"evenodd\" fill-opacity=\"1\" /><path clip-path=\"url(#clip1900)\" d=\"M 0 0 M2111.73 1445.17 Q2108.12 1445.17 2106.29 1448.74 Q2104.48 1452.28 2104.48 1459.41 Q2104.48 1466.51 2106.29 1470.08 Q2108.12 1473.62 2111.73 1473.62 Q2115.36 1473.62 2117.17 1470.08 Q2119 1466.51 2119 1459.41 Q2119 1452.28 2117.17 1448.74 Q2115.36 1445.17 2111.73 1445.17 M2111.73 1441.47 Q2117.54 1441.47 2120.59 1446.07 Q2123.67 1450.66 2123.67 1459.41 Q2123.67 1468.13 2120.59 1472.74 Q2117.54 1477.32 2111.73 1477.32 Q2105.92 1477.32 2102.84 1472.74 Q2099.78 1468.13 2099.78 1459.41 Q2099.78 1450.66 2102.84 1446.07 Q2105.92 1441.47 2111.73 1441.47 Z\" fill=\"#000000\" fill-rule=\"evenodd\" fill-opacity=\"1\" /><path clip-path=\"url(#clip1900)\" d=\"M 0 0 M65.8393 1375.53 L73.4782 1375.53 L73.4782 1349.16 L65.168 1350.83 L65.168 1346.57 L73.4319 1344.9 L78.1078 1344.9 L78.1078 1375.53 L85.7466 1375.53 L85.7466 1379.46 L65.8393 1379.46 L65.8393 1375.53 Z\" fill=\"#000000\" fill-rule=\"evenodd\" fill-opacity=\"1\" /><path clip-path=\"url(#clip1900)\" d=\"M 0 0 M90.8161 1373.58 L95.7003 1373.58 L95.7003 1379.46 L90.8161 1379.46 L90.8161 1373.58 Z\" fill=\"#000000\" fill-rule=\"evenodd\" fill-opacity=\"1\" /><path clip-path=\"url(#clip1900)\" d=\"M 0 0 M110.77 1347.98 Q107.159 1347.98 105.33 1351.55 Q103.524 1355.09 103.524 1362.22 Q103.524 1369.32 105.33 1372.89 Q107.159 1376.43 110.77 1376.43 Q114.404 1376.43 116.209 1372.89 Q118.038 1369.32 118.038 1362.22 Q118.038 1355.09 116.209 1351.55 Q114.404 1347.98 110.77 1347.98 M110.77 1344.28 Q116.58 1344.28 119.635 1348.88 Q122.714 1353.47 122.714 1362.22 Q122.714 1370.95 119.635 1375.55 Q116.58 1380.13 110.77 1380.13 Q104.959 1380.13 101.881 1375.55 Q98.8253 1370.95 98.8253 1362.22 Q98.8253 1353.47 101.881 1348.88 Q104.959 1344.28 110.77 1344.28 Z\" fill=\"#000000\" fill-rule=\"evenodd\" fill-opacity=\"1\" /><path clip-path=\"url(#clip1900)\" d=\"M 0 0 M66.8347 1115.2 L74.4735 1115.2 L74.4735 1088.84 L66.1634 1090.5 L66.1634 1086.25 L74.4272 1084.58 L79.1032 1084.58 L79.1032 1115.2 L86.742 1115.2 L86.742 1119.14 L66.8347 1119.14 L66.8347 1115.2 Z\" fill=\"#000000\" fill-rule=\"evenodd\" fill-opacity=\"1\" /><path clip-path=\"url(#clip1900)\" d=\"M 0 0 M91.8114 1113.26 L96.6956 1113.26 L96.6956 1119.14 L91.8114 1119.14 L91.8114 1113.26 Z\" fill=\"#000000\" fill-rule=\"evenodd\" fill-opacity=\"1\" /><path clip-path=\"url(#clip1900)\" d=\"M 0 0 M101.811 1084.58 L120.168 1084.58 L120.168 1088.51 L106.094 1088.51 L106.094 1096.99 Q107.112 1096.64 108.131 1096.48 Q109.149 1096.29 110.168 1096.29 Q115.955 1096.29 119.334 1099.46 Q122.714 1102.63 122.714 1108.05 Q122.714 1113.63 119.242 1116.73 Q115.77 1119.81 109.45 1119.81 Q107.274 1119.81 105.006 1119.44 Q102.76 1119.07 100.353 1118.33 L100.353 1113.63 Q102.436 1114.76 104.659 1115.32 Q106.881 1115.87 109.358 1115.87 Q113.362 1115.87 115.7 1113.77 Q118.038 1111.66 118.038 1108.05 Q118.038 1104.44 115.7 1102.33 Q113.362 1100.23 109.358 1100.23 Q107.483 1100.23 105.608 1100.64 Q103.756 1101.06 101.811 1101.94 L101.811 1084.58 Z\" fill=\"#000000\" fill-rule=\"evenodd\" fill-opacity=\"1\" /><path clip-path=\"url(#clip1900)\" d=\"M 0 0 M69.4273 854.879 L85.7466 854.879 L85.7466 858.814 L63.8023 858.814 L63.8023 854.879 Q66.4643 852.124 71.0476 847.494 Q75.6541 842.842 76.8346 841.499 Q79.08 838.976 79.9596 837.24 Q80.8624 835.48 80.8624 833.791 Q80.8624 831.036 78.918 829.3 Q76.9967 827.564 73.8948 827.564 Q71.6958 827.564 69.2421 828.328 Q66.8115 829.092 64.0338 830.643 L64.0338 825.92 Q66.8578 824.786 69.3115 824.207 Q71.7652 823.629 73.8023 823.629 Q79.1726 823.629 82.367 826.314 Q85.5614 828.999 85.5614 833.49 Q85.5614 835.619 84.7513 837.541 Q83.9642 839.439 81.8578 842.031 Q81.2791 842.703 78.1772 845.92 Q75.0754 849.115 69.4273 854.879 Z\" fill=\"#000000\" fill-rule=\"evenodd\" fill-opacity=\"1\" /><path clip-path=\"url(#clip1900)\" d=\"M 0 0 M90.8161 852.934 L95.7003 852.934 L95.7003 858.814 L90.8161 858.814 L90.8161 852.934 Z\" fill=\"#000000\" fill-rule=\"evenodd\" fill-opacity=\"1\" /><path clip-path=\"url(#clip1900)\" d=\"M 0 0 M110.77 827.332 Q107.159 827.332 105.33 830.897 Q103.524 834.439 103.524 841.568 Q103.524 848.675 105.33 852.24 Q107.159 855.781 110.77 855.781 Q114.404 855.781 116.209 852.24 Q118.038 848.675 118.038 841.568 Q118.038 834.439 116.209 830.897 Q114.404 827.332 110.77 827.332 M110.77 823.629 Q116.58 823.629 119.635 828.235 Q122.714 832.818 122.714 841.568 Q122.714 850.295 119.635 854.902 Q116.58 859.485 110.77 859.485 Q104.959 859.485 101.881 854.902 Q98.8253 850.295 98.8253 841.568 Q98.8253 832.818 101.881 828.235 Q104.959 823.629 110.77 823.629 Z\" fill=\"#000000\" fill-rule=\"evenodd\" fill-opacity=\"1\" /><path clip-path=\"url(#clip1900)\" d=\"M 0 0 M70.4226 594.554 L86.742 594.554 L86.742 598.489 L64.7977 598.489 L64.7977 594.554 Q67.4597 591.799 72.043 587.169 Q76.6495 582.517 77.83 581.174 Q80.0754 578.651 80.955 576.915 Q81.8578 575.156 81.8578 573.466 Q81.8578 570.711 79.9133 568.975 Q77.992 567.239 74.8902 567.239 Q72.6911 567.239 70.2375 568.003 Q67.8069 568.767 65.0292 570.318 L65.0292 565.595 Q67.8532 564.461 70.3069 563.882 Q72.7606 563.304 74.7976 563.304 Q80.168 563.304 83.3624 565.989 Q86.5568 568.674 86.5568 573.165 Q86.5568 575.294 85.7466 577.216 Q84.9596 579.114 82.8531 581.706 Q82.2744 582.378 79.1726 585.595 Q76.0708 588.79 70.4226 594.554 Z\" fill=\"#000000\" fill-rule=\"evenodd\" fill-opacity=\"1\" /><path clip-path=\"url(#clip1900)\" d=\"M 0 0 M91.8114 592.609 L96.6956 592.609 L96.6956 598.489 L91.8114 598.489 L91.8114 592.609 Z\" fill=\"#000000\" fill-rule=\"evenodd\" fill-opacity=\"1\" /><path clip-path=\"url(#clip1900)\" d=\"M 0 0 M101.811 563.929 L120.168 563.929 L120.168 567.864 L106.094 567.864 L106.094 576.336 Q107.112 575.989 108.131 575.827 Q109.149 575.642 110.168 575.642 Q115.955 575.642 119.334 578.813 Q122.714 581.984 122.714 587.401 Q122.714 592.98 119.242 596.081 Q115.77 599.16 109.45 599.16 Q107.274 599.16 105.006 598.79 Q102.76 598.419 100.353 597.679 L100.353 592.98 Q102.436 594.114 104.659 594.669 Q106.881 595.225 109.358 595.225 Q113.362 595.225 115.7 593.118 Q118.038 591.012 118.038 587.401 Q118.038 583.79 115.7 581.683 Q113.362 579.577 109.358 579.577 Q107.483 579.577 105.608 579.993 Q103.756 580.41 101.811 581.29 L101.811 563.929 Z\" fill=\"#000000\" fill-rule=\"evenodd\" fill-opacity=\"1\" /><path clip-path=\"url(#clip1900)\" d=\"M 0 0 M78.617 319.53 Q81.9735 320.247 83.8485 322.516 Q85.7466 324.784 85.7466 328.118 Q85.7466 333.233 82.2281 336.034 Q78.7096 338.835 72.2282 338.835 Q70.0523 338.835 67.7375 338.395 Q65.4458 337.979 62.9921 337.122 L62.9921 332.608 Q64.9366 333.743 67.2514 334.321 Q69.5662 334.9 72.0893 334.9 Q76.4874 334.9 78.7791 333.164 Q81.0939 331.428 81.0939 328.118 Q81.0939 325.062 78.9411 323.349 Q76.8115 321.613 72.9921 321.613 L68.9643 321.613 L68.9643 317.77 L73.1773 317.77 Q76.6263 317.77 78.455 316.405 Q80.2837 315.016 80.2837 312.423 Q80.2837 309.761 78.3856 308.349 Q76.5106 306.914 72.9921 306.914 Q71.0708 306.914 68.8717 307.331 Q66.6727 307.747 64.0338 308.627 L64.0338 304.46 Q66.6958 303.72 69.0106 303.349 Q71.3486 302.979 73.4087 302.979 Q78.7328 302.979 81.8346 305.409 Q84.9365 307.817 84.9365 311.937 Q84.9365 314.807 83.2929 316.798 Q81.6494 318.766 78.617 319.53 Z\" fill=\"#000000\" fill-rule=\"evenodd\" fill-opacity=\"1\" /><path clip-path=\"url(#clip1900)\" d=\"M 0 0 M90.8161 332.284 L95.7003 332.284 L95.7003 338.164 L90.8161 338.164 L90.8161 332.284 Z\" fill=\"#000000\" fill-rule=\"evenodd\" fill-opacity=\"1\" /><path clip-path=\"url(#clip1900)\" d=\"M 0 0 M110.77 306.683 Q107.159 306.683 105.33 310.247 Q103.524 313.789 103.524 320.919 Q103.524 328.025 105.33 331.59 Q107.159 335.131 110.77 335.131 Q114.404 335.131 116.209 331.59 Q118.038 328.025 118.038 320.919 Q118.038 313.789 116.209 310.247 Q114.404 306.683 110.77 306.683 M110.77 302.979 Q116.58 302.979 119.635 307.585 Q122.714 312.169 122.714 320.919 Q122.714 329.645 119.635 334.252 Q116.58 338.835 110.77 338.835 Q104.959 338.835 101.881 334.252 Q98.8253 329.645 98.8253 320.919 Q98.8253 312.169 101.881 307.585 Q104.959 302.979 110.77 302.979 Z\" fill=\"#000000\" fill-rule=\"evenodd\" fill-opacity=\"1\" /><path clip-path=\"url(#clip1900)\" d=\"M 0 0 M79.6124 59.2047 Q82.9689 59.9223 84.8439 62.1908 Q86.742 64.4593 86.742 67.7927 Q86.742 72.9084 83.2235 75.7093 Q79.705 78.5102 73.2236 78.5102 Q71.0476 78.5102 68.7328 78.0704 Q66.4412 77.6537 63.9875 76.7972 L63.9875 72.2834 Q65.9319 73.4176 68.2467 73.9963 Q70.5615 74.575 73.0847 74.575 Q77.4828 74.575 79.7744 72.8389 Q82.0892 71.1028 82.0892 67.7927 Q82.0892 64.7371 79.9365 63.0242 Q77.8069 61.2881 73.9874 61.2881 L69.9597 61.2881 L69.9597 57.4455 L74.1726 57.4455 Q77.6217 57.4455 79.4504 56.0798 Q81.2791 54.6909 81.2791 52.0983 Q81.2791 49.4363 79.3809 48.0242 Q77.5059 46.5891 73.9874 46.5891 Q72.0662 46.5891 69.8671 47.0057 Q67.668 47.4224 65.0292 48.302 L65.0292 44.1354 Q67.6912 43.3946 70.006 43.0243 Q72.3439 42.6539 74.4041 42.6539 Q79.7281 42.6539 82.83 45.0844 Q85.9318 47.4918 85.9318 51.6122 Q85.9318 54.4825 84.2883 56.4733 Q82.6448 58.4409 79.6124 59.2047 Z\" fill=\"#000000\" fill-rule=\"evenodd\" fill-opacity=\"1\" /><path clip-path=\"url(#clip1900)\" d=\"M 0 0 M91.8114 71.9593 L96.6956 71.9593 L96.6956 77.8389 L91.8114 77.8389 L91.8114 71.9593 Z\" fill=\"#000000\" fill-rule=\"evenodd\" fill-opacity=\"1\" /><path clip-path=\"url(#clip1900)\" d=\"M 0 0 M101.811 43.2789 L120.168 43.2789 L120.168 47.2141 L106.094 47.2141 L106.094 55.6862 Q107.112 55.339 108.131 55.177 Q109.149 54.9918 110.168 54.9918 Q115.955 54.9918 119.334 58.1631 Q122.714 61.3344 122.714 66.751 Q122.714 72.3297 119.242 75.4315 Q115.77 78.5102 109.45 78.5102 Q107.274 78.5102 105.006 78.1398 Q102.76 77.7695 100.353 77.0287 L100.353 72.3297 Q102.436 73.4639 104.659 74.0195 Q106.881 74.575 109.358 74.575 Q113.362 74.575 115.7 72.4686 Q118.038 70.3621 118.038 66.751 Q118.038 63.1399 115.7 61.0334 Q113.362 58.927 109.358 58.927 Q107.483 58.927 105.608 59.3436 Q103.756 59.7603 101.811 60.6399 L101.811 43.2789 Z\" fill=\"#000000\" fill-rule=\"evenodd\" fill-opacity=\"1\" /><path clip-path=\"url(#clip1900)\" d=\"M 0 0 M1231.56 1508.52 L1238.47 1508.52 L1250.28 1526.19 L1262.15 1508.52 L1269.05 1508.52 L1253.78 1531.34 L1270.07 1556.04 L1263.17 1556.04 L1249.8 1535.83 L1236.34 1556.04 L1229.4 1556.04 L1246.36 1530.68 L1231.56 1508.52 Z\" fill=\"#000000\" fill-rule=\"evenodd\" fill-opacity=\"1\" /><polyline clip-path=\"url(#clip1902)\" style=\"stroke:#009af9; stroke-width:8; stroke-opacity:1; fill:none\" points=\"\n",
       "  209.149,1362.18 251.622,1362.04 294.095,1362.1 336.568,1362.09 379.041,1362.09 421.514,1362.1 463.987,1362.12 506.459,1362.14 548.932,1362.14 591.405,1362.13 \n",
       "  633.878,1362.09 676.351,1362.04 718.824,1361.95 761.297,1361.82 803.77,1361.62 846.243,1361.3 888.715,1360.82 931.188,1360.03 973.661,1358.71 1016.13,1356.28 \n",
       "  1058.61,1351.39 1101.08,1340.6 1143.55,1316.2 1186.03,1270.12 1228.5,1210.47 1270.97,1155.98 1313.44,1116.03 1355.92,1090.09 1398.39,1074.28 1440.86,1064.85 \n",
       "  1483.34,1059.19 1525.81,1055.71 1568.28,1053.52 1610.75,1052.13 1653.23,1051.25 1695.7,1050.69 1738.17,1050.33 1780.65,1050.12 1823.12,1049.99 1865.59,1049.92 \n",
       "  1908.06,1049.87 1950.54,1049.84 1993.01,1049.82 2035.48,1049.8 2077.96,1049.77 2120.43,1049.74 2162.9,1049.68 2205.37,1049.6 2247.85,1049.48 2290.32,1049.79 \n",
       "  \n",
       "  \"/>\n",
       "<polyline clip-path=\"url(#clip1902)\" style=\"stroke:#e26f46; stroke-width:8; stroke-opacity:1; fill:none\" points=\"\n",
       "  209.149,607.507 251.622,607.31 294.095,607.172 336.568,607.207 379.041,607.315 421.514,607.434 463.987,607.527 506.459,607.575 548.932,607.575 591.405,607.535 \n",
       "  633.878,607.477 676.351,607.444 718.824,607.504 761.297,607.748 803.77,608.264 846.243,609.144 888.715,610.521 931.188,612.655 973.661,616.1 1016.13,622.111 \n",
       "  1058.61,633.634 1101.08,657.463 1143.55,706.623 1186.03,789.684 1228.5,884.373 1270.97,960.528 1313.44,1010.94 1355.92,1041.56 1398.39,1059.53 1440.86,1069.95 \n",
       "  1483.34,1075.97 1525.81,1079.48 1568.28,1081.57 1610.75,1082.85 1653.23,1083.65 1695.7,1084.18 1738.17,1084.54 1780.65,1084.81 1823.12,1085.03 1865.59,1085.2 \n",
       "  1908.06,1085.34 1950.54,1085.46 1993.01,1085.55 2035.48,1085.64 2077.96,1085.74 2120.43,1085.87 2162.9,1086.04 2205.37,1086.28 2247.85,1086.59 2290.32,1085.75 \n",
       "  \n",
       "  \"/>\n",
       "<polyline clip-path=\"url(#clip1902)\" style=\"stroke:#3da44d; stroke-width:8; stroke-opacity:1; fill:none\" points=\"\n",
       "  209.149,1362.18 251.622,1362.58 294.095,1363.95 336.568,1365.13 379.041,1366.28 421.514,1367.43 463.987,1368.65 506.459,1370.01 548.932,1371.65 591.405,1373.76 \n",
       "  633.878,1376.47 676.351,1379.63 718.824,1382.58 761.297,1384.24 803.77,1383.59 846.243,1380.04 888.715,1373.36 931.188,1363.03 973.661,1347.29 1016.13,1321.14 \n",
       "  1058.61,1271.86 1101.08,1170.15 1143.55,965.494 1186.03,666.88 1228.5,428.251 1270.97,302.086 1313.44,233.268 1355.92,187.24 1398.39,153.471 1440.86,128.797 \n",
       "  1483.34,111.635 1525.81,100.508 1568.28,93.76 1610.75,89.8133 1653.23,87.5381 1695.7,86.3712 1738.17,86.1857 1780.65,86.9361 1823.12,88.3746 1865.59,90.0624 \n",
       "  1908.06,91.5721 1950.54,92.6639 1993.01,93.2846 2035.48,93.467 2077.96,93.2102 2120.43,92.4584 2162.9,91.1446 2205.37,89.255 2247.85,86.8458 2290.32,93.0995 \n",
       "  \n",
       "  \"/>\n",
       "<path clip-path=\"url(#clip1900)\" d=\"\n",
       "M1764.11 372.684 L2280.76 372.684 L2280.76 130.764 L1764.11 130.764  Z\n",
       "  \" fill=\"#ffffff\" fill-rule=\"evenodd\" fill-opacity=\"1\"/>\n",
       "<polyline clip-path=\"url(#clip1900)\" style=\"stroke:#000000; stroke-width:4; stroke-opacity:1; fill:none\" points=\"\n",
       "  1764.11,372.684 2280.76,372.684 2280.76,130.764 1764.11,130.764 1764.11,372.684 \n",
       "  \"/>\n",
       "<polyline clip-path=\"url(#clip1900)\" style=\"stroke:#009af9; stroke-width:8; stroke-opacity:1; fill:none\" points=\"\n",
       "  1788.11,191.244 1932.11,191.244 \n",
       "  \"/>\n",
       "<path clip-path=\"url(#clip1900)\" d=\"M 0 0 M1960.79 177.807 L1960.79 204.682 L1966.44 204.682 Q1973.59 204.682 1976.9 201.441 Q1980.23 198.2 1980.23 191.209 Q1980.23 184.265 1976.9 181.047 Q1973.59 177.807 1966.44 177.807 L1960.79 177.807 M1956.11 173.964 L1965.72 173.964 Q1975.77 173.964 1980.47 178.154 Q1985.16 182.321 1985.16 191.209 Q1985.16 200.145 1980.44 204.334 Q1975.72 208.524 1965.72 208.524 L1956.11 208.524 L1956.11 173.964 Z\" fill=\"#000000\" fill-rule=\"evenodd\" fill-opacity=\"1\" /><path clip-path=\"url(#clip1900)\" d=\"M 0 0 M2011.81 194.496 L2011.81 196.58 L1992.22 196.58 Q1992.5 200.978 1994.86 203.293 Q1997.25 205.584 2001.48 205.584 Q2003.94 205.584 2006.23 204.982 Q2008.54 204.381 2010.81 203.177 L2010.81 207.205 Q2008.52 208.177 2006.11 208.686 Q2003.71 209.195 2001.23 209.195 Q1995.03 209.195 1991.39 205.584 Q1987.78 201.973 1987.78 195.816 Q1987.78 189.45 1991.21 185.723 Q1994.66 181.973 2000.49 181.973 Q2005.72 181.973 2008.75 185.353 Q2011.81 188.709 2011.81 194.496 M2007.55 193.246 Q2007.5 189.751 2005.58 187.668 Q2003.68 185.584 2000.53 185.584 Q1996.97 185.584 1994.82 187.598 Q1992.69 189.612 1992.36 193.27 L2007.55 193.246 Z\" fill=\"#000000\" fill-rule=\"evenodd\" fill-opacity=\"1\" /><path clip-path=\"url(#clip1900)\" d=\"M 0 0 M2037.83 192.876 L2037.83 208.524 L2033.57 208.524 L2033.57 193.015 Q2033.57 189.334 2032.13 187.506 Q2030.7 185.677 2027.83 185.677 Q2024.38 185.677 2022.39 187.876 Q2020.4 190.075 2020.4 193.871 L2020.4 208.524 L2016.11 208.524 L2016.11 182.598 L2020.4 182.598 L2020.4 186.626 Q2021.92 184.288 2023.98 183.131 Q2026.07 181.973 2028.78 181.973 Q2033.24 181.973 2035.53 184.751 Q2037.83 187.506 2037.83 192.876 Z\" fill=\"#000000\" fill-rule=\"evenodd\" fill-opacity=\"1\" /><path clip-path=\"url(#clip1900)\" d=\"M 0 0 M2058.82 183.362 L2058.82 187.39 Q2057.02 186.464 2055.07 186.001 Q2053.13 185.538 2051.04 185.538 Q2047.87 185.538 2046.28 186.51 Q2044.7 187.483 2044.7 189.427 Q2044.7 190.908 2045.84 191.765 Q2046.97 192.598 2050.4 193.362 L2051.85 193.686 Q2056.39 194.658 2058.29 196.441 Q2060.21 198.2 2060.21 201.371 Q2060.21 204.982 2057.34 207.089 Q2054.49 209.195 2049.49 209.195 Q2047.41 209.195 2045.14 208.779 Q2042.9 208.385 2040.4 207.575 L2040.4 203.177 Q2042.76 204.404 2045.05 205.029 Q2047.34 205.631 2049.59 205.631 Q2052.59 205.631 2054.22 204.612 Q2055.84 203.57 2055.84 201.695 Q2055.84 199.959 2054.66 199.033 Q2053.5 198.107 2049.54 197.251 L2048.06 196.904 Q2044.1 196.07 2042.34 194.358 Q2040.58 192.621 2040.58 189.612 Q2040.58 185.955 2043.17 183.964 Q2045.77 181.973 2050.53 181.973 Q2052.9 181.973 2054.98 182.321 Q2057.06 182.668 2058.82 183.362 Z\" fill=\"#000000\" fill-rule=\"evenodd\" fill-opacity=\"1\" /><path clip-path=\"url(#clip1900)\" d=\"M 0 0 M2064.68 182.598 L2068.94 182.598 L2068.94 208.524 L2064.68 208.524 L2064.68 182.598 M2064.68 172.506 L2068.94 172.506 L2068.94 177.899 L2064.68 177.899 L2064.68 172.506 Z\" fill=\"#000000\" fill-rule=\"evenodd\" fill-opacity=\"1\" /><path clip-path=\"url(#clip1900)\" d=\"M 0 0 M2077.62 175.237 L2077.62 182.598 L2086.39 182.598 L2086.39 185.908 L2077.62 185.908 L2077.62 199.982 Q2077.62 203.154 2078.47 204.057 Q2079.35 204.959 2082.02 204.959 L2086.39 204.959 L2086.39 208.524 L2082.02 208.524 Q2077.09 208.524 2075.21 206.695 Q2073.34 204.844 2073.34 199.982 L2073.34 185.908 L2070.21 185.908 L2070.21 182.598 L2073.34 182.598 L2073.34 175.237 L2077.62 175.237 Z\" fill=\"#000000\" fill-rule=\"evenodd\" fill-opacity=\"1\" /><path clip-path=\"url(#clip1900)\" d=\"M 0 0 M2101.65 210.931 Q2099.84 215.561 2098.13 216.973 Q2096.41 218.385 2093.54 218.385 L2090.14 218.385 L2090.14 214.82 L2092.64 214.82 Q2094.4 214.82 2095.37 213.987 Q2096.34 213.154 2097.53 210.052 L2098.29 208.107 L2087.8 182.598 L2092.32 182.598 L2100.42 202.876 L2108.52 182.598 L2113.03 182.598 L2101.65 210.931 Z\" fill=\"#000000\" fill-rule=\"evenodd\" fill-opacity=\"1\" /><polyline clip-path=\"url(#clip1900)\" style=\"stroke:#e26f46; stroke-width:8; stroke-opacity:1; fill:none\" points=\"\n",
       "  1788.11,251.724 1932.11,251.724 \n",
       "  \"/>\n",
       "<path clip-path=\"url(#clip1900)\" d=\"M 0 0 M1969.31 269.004 L1956.11 234.444 L1961 234.444 L1971.95 263.541 L1982.92 234.444 L1987.78 234.444 L1974.61 269.004 L1969.31 269.004 Z\" fill=\"#000000\" fill-rule=\"evenodd\" fill-opacity=\"1\" /><path clip-path=\"url(#clip1900)\" d=\"M 0 0 M2010.74 254.976 L2010.74 257.06 L1991.16 257.06 Q1991.44 261.458 1993.8 263.773 Q1996.18 266.064 2000.42 266.064 Q2002.87 266.064 2005.16 265.462 Q2007.48 264.861 2009.75 263.657 L2009.75 267.685 Q2007.46 268.657 2005.05 269.166 Q2002.64 269.675 2000.16 269.675 Q1993.96 269.675 1990.33 266.064 Q1986.72 262.453 1986.72 256.296 Q1986.72 249.93 1990.14 246.203 Q1993.59 242.453 1999.42 242.453 Q2004.66 242.453 2007.69 245.833 Q2010.74 249.189 2010.74 254.976 M2006.48 253.726 Q2006.44 250.231 2004.52 248.148 Q2002.62 246.064 1999.47 246.064 Q1995.91 246.064 1993.75 248.078 Q1991.62 250.092 1991.3 253.75 L2006.48 253.726 Z\" fill=\"#000000\" fill-rule=\"evenodd\" fill-opacity=\"1\" /><path clip-path=\"url(#clip1900)\" d=\"M 0 0 M2015.21 232.986 L2019.47 232.986 L2019.47 269.004 L2015.21 269.004 L2015.21 232.986 Z\" fill=\"#000000\" fill-rule=\"evenodd\" fill-opacity=\"1\" /><path clip-path=\"url(#clip1900)\" d=\"M 0 0 M2033.98 246.064 Q2030.56 246.064 2028.57 248.75 Q2026.58 251.412 2026.58 256.064 Q2026.58 260.717 2028.54 263.402 Q2030.53 266.064 2033.98 266.064 Q2037.39 266.064 2039.38 263.379 Q2041.37 260.694 2041.37 256.064 Q2041.37 251.458 2039.38 248.773 Q2037.39 246.064 2033.98 246.064 M2033.98 242.453 Q2039.54 242.453 2042.71 246.064 Q2045.88 249.675 2045.88 256.064 Q2045.88 262.43 2042.71 266.064 Q2039.54 269.675 2033.98 269.675 Q2028.41 269.675 2025.23 266.064 Q2022.09 262.43 2022.09 256.064 Q2022.09 249.675 2025.23 246.064 Q2028.41 242.453 2033.98 242.453 Z\" fill=\"#000000\" fill-rule=\"evenodd\" fill-opacity=\"1\" /><path clip-path=\"url(#clip1900)\" d=\"M 0 0 M2069.01 244.074 L2069.01 248.055 Q2067.2 247.06 2065.37 246.574 Q2063.57 246.064 2061.72 246.064 Q2057.57 246.064 2055.28 248.703 Q2052.99 251.319 2052.99 256.064 Q2052.99 260.81 2055.28 263.449 Q2057.57 266.064 2061.72 266.064 Q2063.57 266.064 2065.37 265.578 Q2067.2 265.069 2069.01 264.074 L2069.01 268.009 Q2067.22 268.842 2065.3 269.259 Q2063.4 269.675 2061.25 269.675 Q2055.4 269.675 2051.95 265.995 Q2048.5 262.314 2048.5 256.064 Q2048.5 249.722 2051.97 246.088 Q2055.47 242.453 2061.53 242.453 Q2063.5 242.453 2065.37 242.87 Q2067.25 243.263 2069.01 244.074 Z\" fill=\"#000000\" fill-rule=\"evenodd\" fill-opacity=\"1\" /><path clip-path=\"url(#clip1900)\" d=\"M 0 0 M2073.47 243.078 L2077.73 243.078 L2077.73 269.004 L2073.47 269.004 L2073.47 243.078 M2073.47 232.986 L2077.73 232.986 L2077.73 238.379 L2073.47 238.379 L2073.47 232.986 Z\" fill=\"#000000\" fill-rule=\"evenodd\" fill-opacity=\"1\" /><path clip-path=\"url(#clip1900)\" d=\"M 0 0 M2086.41 235.717 L2086.41 243.078 L2095.19 243.078 L2095.19 246.388 L2086.41 246.388 L2086.41 260.462 Q2086.41 263.634 2087.27 264.537 Q2088.15 265.439 2090.81 265.439 L2095.19 265.439 L2095.19 269.004 L2090.81 269.004 Q2085.88 269.004 2084.01 267.175 Q2082.13 265.324 2082.13 260.462 L2082.13 246.388 L2079.01 246.388 L2079.01 243.078 L2082.13 243.078 L2082.13 235.717 L2086.41 235.717 Z\" fill=\"#000000\" fill-rule=\"evenodd\" fill-opacity=\"1\" /><path clip-path=\"url(#clip1900)\" d=\"M 0 0 M2110.44 271.411 Q2108.64 276.041 2106.92 277.453 Q2105.21 278.865 2102.34 278.865 L2098.94 278.865 L2098.94 275.3 L2101.44 275.3 Q2103.2 275.3 2104.17 274.467 Q2105.14 273.634 2106.32 270.532 L2107.09 268.587 L2096.6 243.078 L2101.11 243.078 L2109.21 263.356 L2117.32 243.078 L2121.83 243.078 L2110.44 271.411 Z\" fill=\"#000000\" fill-rule=\"evenodd\" fill-opacity=\"1\" /><polyline clip-path=\"url(#clip1900)\" style=\"stroke:#3da44d; stroke-width:8; stroke-opacity:1; fill:none\" points=\"\n",
       "  1788.11,312.204 1932.11,312.204 \n",
       "  \"/>\n",
       "<path clip-path=\"url(#clip1900)\" d=\"M 0 0 M1956.11 294.924 L1985.35 294.924 L1985.35 298.859 L1973.08 298.859 L1973.08 329.484 L1968.38 329.484 L1968.38 298.859 L1956.11 298.859 L1956.11 294.924 Z\" fill=\"#000000\" fill-rule=\"evenodd\" fill-opacity=\"1\" /><path clip-path=\"url(#clip1900)\" d=\"M 0 0 M2003.94 315.456 L2003.94 317.54 L1984.35 317.54 Q1984.63 321.938 1986.99 324.253 Q1989.38 326.544 1993.61 326.544 Q1996.07 326.544 1998.36 325.942 Q2000.67 325.341 2002.94 324.137 L2002.94 328.165 Q2000.65 329.137 1998.24 329.646 Q1995.84 330.155 1993.36 330.155 Q1987.16 330.155 1983.52 326.544 Q1979.91 322.933 1979.91 316.776 Q1979.91 310.41 1983.34 306.683 Q1986.79 302.933 1992.62 302.933 Q1997.85 302.933 2000.88 306.313 Q2003.94 309.669 2003.94 315.456 M1999.68 314.206 Q1999.63 310.711 1997.71 308.628 Q1995.81 306.544 1992.66 306.544 Q1989.1 306.544 1986.95 308.558 Q1984.82 310.572 1984.49 314.23 L1999.68 314.206 Z\" fill=\"#000000\" fill-rule=\"evenodd\" fill-opacity=\"1\" /><path clip-path=\"url(#clip1900)\" d=\"M 0 0 M2028.59 308.535 Q2030.19 305.665 2032.41 304.299 Q2034.63 302.933 2037.64 302.933 Q2041.69 302.933 2043.89 305.781 Q2046.09 308.605 2046.09 313.836 L2046.09 329.484 L2041.81 329.484 L2041.81 313.975 Q2041.81 310.248 2040.49 308.443 Q2039.17 306.637 2036.46 306.637 Q2033.15 306.637 2031.23 308.836 Q2029.31 311.035 2029.31 314.831 L2029.31 329.484 L2025.03 329.484 L2025.03 313.975 Q2025.03 310.225 2023.71 308.443 Q2022.39 306.637 2019.63 306.637 Q2016.37 306.637 2014.45 308.859 Q2012.53 311.058 2012.53 314.831 L2012.53 329.484 L2008.24 329.484 L2008.24 303.558 L2012.53 303.558 L2012.53 307.586 Q2013.98 305.202 2016.02 304.068 Q2018.06 302.933 2020.86 302.933 Q2023.68 302.933 2025.65 304.368 Q2027.64 305.804 2028.59 308.535 Z\" fill=\"#000000\" fill-rule=\"evenodd\" fill-opacity=\"1\" /><path clip-path=\"url(#clip1900)\" d=\"M 0 0 M2054.68 325.595 L2054.68 339.345 L2050.4 339.345 L2050.4 303.558 L2054.68 303.558 L2054.68 307.493 Q2056.02 305.179 2058.06 304.068 Q2060.12 302.933 2062.97 302.933 Q2067.69 302.933 2070.63 306.683 Q2073.59 310.433 2073.59 316.544 Q2073.59 322.655 2070.63 326.405 Q2067.69 330.155 2062.97 330.155 Q2060.12 330.155 2058.06 329.044 Q2056.02 327.91 2054.68 325.595 M2069.17 316.544 Q2069.17 311.845 2067.22 309.183 Q2065.3 306.498 2061.92 306.498 Q2058.54 306.498 2056.6 309.183 Q2054.68 311.845 2054.68 316.544 Q2054.68 321.243 2056.6 323.929 Q2058.54 326.591 2061.92 326.591 Q2065.3 326.591 2067.22 323.929 Q2069.17 321.243 2069.17 316.544 Z\" fill=\"#000000\" fill-rule=\"evenodd\" fill-opacity=\"1\" /><path clip-path=\"url(#clip1900)\" d=\"M 0 0 M2100.23 315.456 L2100.23 317.54 L2080.65 317.54 Q2080.93 321.938 2083.29 324.253 Q2085.67 326.544 2089.91 326.544 Q2092.36 326.544 2094.65 325.942 Q2096.97 325.341 2099.24 324.137 L2099.24 328.165 Q2096.95 329.137 2094.54 329.646 Q2092.13 330.155 2089.65 330.155 Q2083.45 330.155 2079.82 326.544 Q2076.21 322.933 2076.21 316.776 Q2076.21 310.41 2079.63 306.683 Q2083.08 302.933 2088.91 302.933 Q2094.15 302.933 2097.18 306.313 Q2100.23 309.669 2100.23 315.456 M2095.97 314.206 Q2095.93 310.711 2094.01 308.628 Q2092.11 306.544 2088.96 306.544 Q2085.4 306.544 2083.24 308.558 Q2081.11 310.572 2080.79 314.23 L2095.97 314.206 Z\" fill=\"#000000\" fill-rule=\"evenodd\" fill-opacity=\"1\" /><path clip-path=\"url(#clip1900)\" d=\"M 0 0 M2119.72 307.54 Q2119.01 307.123 2118.15 306.938 Q2117.32 306.73 2116.3 306.73 Q2112.69 306.73 2110.74 309.091 Q2108.82 311.429 2108.82 315.827 L2108.82 329.484 L2104.54 329.484 L2104.54 303.558 L2108.82 303.558 L2108.82 307.586 Q2110.16 305.225 2112.32 304.091 Q2114.47 302.933 2117.55 302.933 Q2117.99 302.933 2118.52 303.003 Q2119.05 303.049 2119.7 303.165 L2119.72 307.54 Z\" fill=\"#000000\" fill-rule=\"evenodd\" fill-opacity=\"1\" /><path clip-path=\"url(#clip1900)\" d=\"M 0 0 M2135.97 316.452 Q2130.81 316.452 2128.82 317.632 Q2126.83 318.813 2126.83 321.66 Q2126.83 323.929 2128.31 325.271 Q2129.82 326.591 2132.39 326.591 Q2135.93 326.591 2138.06 324.091 Q2140.21 321.567 2140.21 317.401 L2140.21 316.452 L2135.97 316.452 M2144.47 314.693 L2144.47 329.484 L2140.21 329.484 L2140.21 325.549 Q2138.75 327.91 2136.58 329.044 Q2134.4 330.155 2131.25 330.155 Q2127.27 330.155 2124.91 327.933 Q2122.57 325.688 2122.57 321.938 Q2122.57 317.563 2125.49 315.341 Q2128.43 313.118 2134.24 313.118 L2140.21 313.118 L2140.21 312.702 Q2140.21 309.762 2138.27 308.165 Q2136.34 306.544 2132.85 306.544 Q2130.63 306.544 2128.52 307.077 Q2126.41 307.609 2124.47 308.674 L2124.47 304.739 Q2126.81 303.836 2129.01 303.396 Q2131.21 302.933 2133.29 302.933 Q2138.91 302.933 2141.69 305.85 Q2144.47 308.767 2144.47 314.693 Z\" fill=\"#000000\" fill-rule=\"evenodd\" fill-opacity=\"1\" /><path clip-path=\"url(#clip1900)\" d=\"M 0 0 M2153.15 296.197 L2153.15 303.558 L2161.92 303.558 L2161.92 306.868 L2153.15 306.868 L2153.15 320.942 Q2153.15 324.114 2154.01 325.017 Q2154.89 325.919 2157.55 325.919 L2161.92 325.919 L2161.92 329.484 L2157.55 329.484 Q2152.62 329.484 2150.74 327.655 Q2148.87 325.804 2148.87 320.942 L2148.87 306.868 L2145.74 306.868 L2145.74 303.558 L2148.87 303.558 L2148.87 296.197 L2153.15 296.197 Z\" fill=\"#000000\" fill-rule=\"evenodd\" fill-opacity=\"1\" /><path clip-path=\"url(#clip1900)\" d=\"M 0 0 M2165.95 319.253 L2165.95 303.558 L2170.21 303.558 L2170.21 319.091 Q2170.21 322.771 2171.65 324.623 Q2173.08 326.452 2175.95 326.452 Q2179.4 326.452 2181.39 324.253 Q2183.4 322.054 2183.4 318.257 L2183.4 303.558 L2187.66 303.558 L2187.66 329.484 L2183.4 329.484 L2183.4 325.503 Q2181.85 327.864 2179.79 329.021 Q2177.76 330.155 2175.05 330.155 Q2170.58 330.155 2168.27 327.378 Q2165.95 324.6 2165.95 319.253 M2176.67 302.933 L2176.67 302.933 Z\" fill=\"#000000\" fill-rule=\"evenodd\" fill-opacity=\"1\" /><path clip-path=\"url(#clip1900)\" d=\"M 0 0 M2207.15 307.54 Q2206.44 307.123 2205.58 306.938 Q2204.75 306.73 2203.73 306.73 Q2200.12 306.73 2198.17 309.091 Q2196.25 311.429 2196.25 315.827 L2196.25 329.484 L2191.97 329.484 L2191.97 303.558 L2196.25 303.558 L2196.25 307.586 Q2197.59 305.225 2199.75 304.091 Q2201.9 302.933 2204.98 302.933 Q2205.42 302.933 2205.95 303.003 Q2206.48 303.049 2207.13 303.165 L2207.15 307.54 Z\" fill=\"#000000\" fill-rule=\"evenodd\" fill-opacity=\"1\" /><path clip-path=\"url(#clip1900)\" d=\"M 0 0 M2232.76 315.456 L2232.76 317.54 L2213.17 317.54 Q2213.45 321.938 2215.81 324.253 Q2218.2 326.544 2222.43 326.544 Q2224.89 326.544 2227.18 325.942 Q2229.49 325.341 2231.76 324.137 L2231.76 328.165 Q2229.47 329.137 2227.06 329.646 Q2224.65 330.155 2222.18 330.155 Q2215.97 330.155 2212.34 326.544 Q2208.73 322.933 2208.73 316.776 Q2208.73 310.41 2212.15 306.683 Q2215.6 302.933 2221.44 302.933 Q2226.67 302.933 2229.7 306.313 Q2232.76 309.669 2232.76 315.456 M2228.5 314.206 Q2228.45 310.711 2226.53 308.628 Q2224.63 306.544 2221.48 306.544 Q2217.92 306.544 2215.77 308.558 Q2213.64 310.572 2213.31 314.23 L2228.5 314.206 Z\" fill=\"#000000\" fill-rule=\"evenodd\" fill-opacity=\"1\" /></svg>\n"
      ]
     },
     "metadata": {},
     "output_type": "display_data"
    }
   ],
   "source": [
    "plot_line(ks, ctr)"
   ]
  },
  {
   "cell_type": "code",
   "execution_count": 20,
   "metadata": {
    "scrolled": false
   },
   "outputs": [
    {
     "data": {
      "image/svg+xml": [
       "<?xml version=\"1.0\" encoding=\"utf-8\"?>\n",
       "<svg xmlns=\"http://www.w3.org/2000/svg\" xmlns:xlink=\"http://www.w3.org/1999/xlink\" width=\"600\" height=\"400\" viewBox=\"0 0 2400 1600\">\n",
       "<defs>\n",
       "  <clipPath id=\"clip5500\">\n",
       "    <rect x=\"0\" y=\"0\" width=\"2400\" height=\"1600\"/>\n",
       "  </clipPath>\n",
       "</defs>\n",
       "<path clip-path=\"url(#clip5500)\" d=\"\n",
       "M0 1600 L2400 1600 L2400 0 L0 0  Z\n",
       "  \" fill=\"#ffffff\" fill-rule=\"evenodd\" fill-opacity=\"1\"/>\n",
       "<defs>\n",
       "  <clipPath id=\"clip5501\">\n",
       "    <rect x=\"480\" y=\"0\" width=\"1681\" height=\"1600\"/>\n",
       "  </clipPath>\n",
       "</defs>\n",
       "<path clip-path=\"url(#clip5500)\" d=\"\n",
       "M148.334 1486.45 L2352.76 1486.45 L2352.76 47.2441 L148.334 47.2441  Z\n",
       "  \" fill=\"#ffffff\" fill-rule=\"evenodd\" fill-opacity=\"1\"/>\n",
       "<defs>\n",
       "  <clipPath id=\"clip5502\">\n",
       "    <rect x=\"148\" y=\"47\" width=\"2205\" height=\"1440\"/>\n",
       "  </clipPath>\n",
       "</defs>\n",
       "<polyline clip-path=\"url(#clip5502)\" style=\"stroke:#000000; stroke-width:2; stroke-opacity:0.1; fill:none\" points=\"\n",
       "  181.014,1486.45 181.014,47.2441 \n",
       "  \"/>\n",
       "<polyline clip-path=\"url(#clip5502)\" style=\"stroke:#000000; stroke-width:2; stroke-opacity:0.1; fill:none\" points=\"\n",
       "  715.78,1486.45 715.78,47.2441 \n",
       "  \"/>\n",
       "<polyline clip-path=\"url(#clip5502)\" style=\"stroke:#000000; stroke-width:2; stroke-opacity:0.1; fill:none\" points=\"\n",
       "  1250.55,1486.45 1250.55,47.2441 \n",
       "  \"/>\n",
       "<polyline clip-path=\"url(#clip5502)\" style=\"stroke:#000000; stroke-width:2; stroke-opacity:0.1; fill:none\" points=\"\n",
       "  1785.31,1486.45 1785.31,47.2441 \n",
       "  \"/>\n",
       "<polyline clip-path=\"url(#clip5502)\" style=\"stroke:#000000; stroke-width:2; stroke-opacity:0.1; fill:none\" points=\"\n",
       "  2320.08,1486.45 2320.08,47.2441 \n",
       "  \"/>\n",
       "<polyline clip-path=\"url(#clip5502)\" style=\"stroke:#000000; stroke-width:2; stroke-opacity:0.1; fill:none\" points=\"\n",
       "  148.334,1445.35 2352.76,1445.35 \n",
       "  \"/>\n",
       "<polyline clip-path=\"url(#clip5502)\" style=\"stroke:#000000; stroke-width:2; stroke-opacity:0.1; fill:none\" points=\"\n",
       "  148.334,1140.02 2352.76,1140.02 \n",
       "  \"/>\n",
       "<polyline clip-path=\"url(#clip5502)\" style=\"stroke:#000000; stroke-width:2; stroke-opacity:0.1; fill:none\" points=\"\n",
       "  148.334,834.686 2352.76,834.686 \n",
       "  \"/>\n",
       "<polyline clip-path=\"url(#clip5502)\" style=\"stroke:#000000; stroke-width:2; stroke-opacity:0.1; fill:none\" points=\"\n",
       "  148.334,529.355 2352.76,529.355 \n",
       "  \"/>\n",
       "<polyline clip-path=\"url(#clip5502)\" style=\"stroke:#000000; stroke-width:2; stroke-opacity:0.1; fill:none\" points=\"\n",
       "  148.334,224.025 2352.76,224.025 \n",
       "  \"/>\n",
       "<polyline clip-path=\"url(#clip5500)\" style=\"stroke:#000000; stroke-width:4; stroke-opacity:1; fill:none\" points=\"\n",
       "  148.334,1486.45 2352.76,1486.45 \n",
       "  \"/>\n",
       "<polyline clip-path=\"url(#clip5500)\" style=\"stroke:#000000; stroke-width:4; stroke-opacity:1; fill:none\" points=\"\n",
       "  148.334,1486.45 148.334,47.2441 \n",
       "  \"/>\n",
       "<polyline clip-path=\"url(#clip5500)\" style=\"stroke:#000000; stroke-width:4; stroke-opacity:1; fill:none\" points=\"\n",
       "  181.014,1486.45 181.014,1469.18 \n",
       "  \"/>\n",
       "<polyline clip-path=\"url(#clip5500)\" style=\"stroke:#000000; stroke-width:4; stroke-opacity:1; fill:none\" points=\"\n",
       "  715.78,1486.45 715.78,1469.18 \n",
       "  \"/>\n",
       "<polyline clip-path=\"url(#clip5500)\" style=\"stroke:#000000; stroke-width:4; stroke-opacity:1; fill:none\" points=\"\n",
       "  1250.55,1486.45 1250.55,1469.18 \n",
       "  \"/>\n",
       "<polyline clip-path=\"url(#clip5500)\" style=\"stroke:#000000; stroke-width:4; stroke-opacity:1; fill:none\" points=\"\n",
       "  1785.31,1486.45 1785.31,1469.18 \n",
       "  \"/>\n",
       "<polyline clip-path=\"url(#clip5500)\" style=\"stroke:#000000; stroke-width:4; stroke-opacity:1; fill:none\" points=\"\n",
       "  2320.08,1486.45 2320.08,1469.18 \n",
       "  \"/>\n",
       "<polyline clip-path=\"url(#clip5500)\" style=\"stroke:#000000; stroke-width:4; stroke-opacity:1; fill:none\" points=\"\n",
       "  148.334,1445.35 174.787,1445.35 \n",
       "  \"/>\n",
       "<polyline clip-path=\"url(#clip5500)\" style=\"stroke:#000000; stroke-width:4; stroke-opacity:1; fill:none\" points=\"\n",
       "  148.334,1140.02 174.787,1140.02 \n",
       "  \"/>\n",
       "<polyline clip-path=\"url(#clip5500)\" style=\"stroke:#000000; stroke-width:4; stroke-opacity:1; fill:none\" points=\"\n",
       "  148.334,834.686 174.787,834.686 \n",
       "  \"/>\n",
       "<polyline clip-path=\"url(#clip5500)\" style=\"stroke:#000000; stroke-width:4; stroke-opacity:1; fill:none\" points=\"\n",
       "  148.334,529.355 174.787,529.355 \n",
       "  \"/>\n",
       "<polyline clip-path=\"url(#clip5500)\" style=\"stroke:#000000; stroke-width:4; stroke-opacity:1; fill:none\" points=\"\n",
       "  148.334,224.025 174.787,224.025 \n",
       "  \"/>\n",
       "<path clip-path=\"url(#clip5500)\" d=\"M 0 0 M148.376 1525.04 L160.853 1525.04 L160.853 1528.83 L148.376 1528.83 L148.376 1525.04 Z\" fill=\"#000000\" fill-rule=\"evenodd\" fill-opacity=\"1\" /><path clip-path=\"url(#clip5500)\" d=\"M 0 0 M166.732 1535.98 L174.371 1535.98 L174.371 1509.62 L166.061 1511.29 L166.061 1507.03 L174.325 1505.36 L179.001 1505.36 L179.001 1535.98 L186.639 1535.98 L186.639 1539.92 L166.732 1539.92 L166.732 1535.98 Z\" fill=\"#000000\" fill-rule=\"evenodd\" fill-opacity=\"1\" /><path clip-path=\"url(#clip5500)\" d=\"M 0 0 M201.709 1508.44 Q198.098 1508.44 196.269 1512 Q194.463 1515.55 194.463 1522.67 Q194.463 1529.78 196.269 1533.35 Q198.098 1536.89 201.709 1536.89 Q205.343 1536.89 207.149 1533.35 Q208.977 1529.78 208.977 1522.67 Q208.977 1515.55 207.149 1512 Q205.343 1508.44 201.709 1508.44 M201.709 1504.73 Q207.519 1504.73 210.575 1509.34 Q213.653 1513.92 213.653 1522.67 Q213.653 1531.4 210.575 1536.01 Q207.519 1540.59 201.709 1540.59 Q195.899 1540.59 192.82 1536.01 Q189.764 1531.4 189.764 1522.67 Q189.764 1513.92 192.82 1509.34 Q195.899 1504.73 201.709 1504.73 Z\" fill=\"#000000\" fill-rule=\"evenodd\" fill-opacity=\"1\" /><path clip-path=\"url(#clip5500)\" d=\"M 0 0 M696.532 1525.04 L709.009 1525.04 L709.009 1528.83 L696.532 1528.83 L696.532 1525.04 Z\" fill=\"#000000\" fill-rule=\"evenodd\" fill-opacity=\"1\" /><path clip-path=\"url(#clip5500)\" d=\"M 0 0 M714.125 1505.36 L732.481 1505.36 L732.481 1509.3 L718.407 1509.3 L718.407 1517.77 Q719.426 1517.42 720.444 1517.26 Q721.463 1517.07 722.481 1517.07 Q728.268 1517.07 731.648 1520.24 Q735.027 1523.42 735.027 1528.83 Q735.027 1534.41 731.555 1537.51 Q728.083 1540.59 721.764 1540.59 Q719.588 1540.59 717.319 1540.22 Q715.074 1539.85 712.666 1539.11 L712.666 1534.41 Q714.75 1535.54 716.972 1536.1 Q719.194 1536.66 721.671 1536.66 Q725.676 1536.66 728.014 1534.55 Q730.352 1532.44 730.352 1528.83 Q730.352 1525.22 728.014 1523.11 Q725.676 1521.01 721.671 1521.01 Q719.796 1521.01 717.921 1521.42 Q716.069 1521.84 714.125 1522.72 L714.125 1505.36 Z\" fill=\"#000000\" fill-rule=\"evenodd\" fill-opacity=\"1\" /><path clip-path=\"url(#clip5500)\" d=\"M 0 0 M1250.55 1508.44 Q1246.93 1508.44 1245.11 1512 Q1243.3 1515.55 1243.3 1522.67 Q1243.3 1529.78 1245.11 1533.35 Q1246.93 1536.89 1250.55 1536.89 Q1254.18 1536.89 1255.98 1533.35 Q1257.81 1529.78 1257.81 1522.67 Q1257.81 1515.55 1255.98 1512 Q1254.18 1508.44 1250.55 1508.44 M1250.55 1504.73 Q1256.36 1504.73 1259.41 1509.34 Q1262.49 1513.92 1262.49 1522.67 Q1262.49 1531.4 1259.41 1536.01 Q1256.36 1540.59 1250.55 1540.59 Q1244.73 1540.59 1241.66 1536.01 Q1238.6 1531.4 1238.6 1522.67 Q1238.6 1513.92 1241.66 1509.34 Q1244.73 1504.73 1250.55 1504.73 Z\" fill=\"#000000\" fill-rule=\"evenodd\" fill-opacity=\"1\" /><path clip-path=\"url(#clip5500)\" d=\"M 0 0 M1775.59 1505.36 L1793.94 1505.36 L1793.94 1509.3 L1779.87 1509.3 L1779.87 1517.77 Q1780.89 1517.42 1781.91 1517.26 Q1782.93 1517.07 1783.94 1517.07 Q1789.73 1517.07 1793.11 1520.24 Q1796.49 1523.42 1796.49 1528.83 Q1796.49 1534.41 1793.02 1537.51 Q1789.55 1540.59 1783.23 1540.59 Q1781.05 1540.59 1778.78 1540.22 Q1776.54 1539.85 1774.13 1539.11 L1774.13 1534.41 Q1776.21 1535.54 1778.44 1536.1 Q1780.66 1536.66 1783.13 1536.66 Q1787.14 1536.66 1789.48 1534.55 Q1791.82 1532.44 1791.82 1528.83 Q1791.82 1525.22 1789.48 1523.11 Q1787.14 1521.01 1783.13 1521.01 Q1781.26 1521.01 1779.38 1521.42 Q1777.53 1521.84 1775.59 1522.72 L1775.59 1505.36 Z\" fill=\"#000000\" fill-rule=\"evenodd\" fill-opacity=\"1\" /><path clip-path=\"url(#clip5500)\" d=\"M 0 0 M2296.95 1535.98 L2304.59 1535.98 L2304.59 1509.62 L2296.28 1511.29 L2296.28 1507.03 L2304.54 1505.36 L2309.22 1505.36 L2309.22 1535.98 L2316.86 1535.98 L2316.86 1539.92 L2296.95 1539.92 L2296.95 1535.98 Z\" fill=\"#000000\" fill-rule=\"evenodd\" fill-opacity=\"1\" /><path clip-path=\"url(#clip5500)\" d=\"M 0 0 M2331.93 1508.44 Q2328.32 1508.44 2326.49 1512 Q2324.68 1515.55 2324.68 1522.67 Q2324.68 1529.78 2326.49 1533.35 Q2328.32 1536.89 2331.93 1536.89 Q2335.56 1536.89 2337.37 1533.35 Q2339.2 1529.78 2339.2 1522.67 Q2339.2 1515.55 2337.37 1512 Q2335.56 1508.44 2331.93 1508.44 M2331.93 1504.73 Q2337.74 1504.73 2340.79 1509.34 Q2343.87 1513.92 2343.87 1522.67 Q2343.87 1531.4 2340.79 1536.01 Q2337.74 1540.59 2331.93 1540.59 Q2326.12 1540.59 2323.04 1536.01 Q2319.98 1531.4 2319.98 1522.67 Q2319.98 1513.92 2323.04 1509.34 Q2326.12 1504.73 2331.93 1504.73 Z\" fill=\"#000000\" fill-rule=\"evenodd\" fill-opacity=\"1\" /><path clip-path=\"url(#clip5500)\" d=\"M 0 0 M75.4226 1431.15 Q71.8115 1431.15 69.9828 1434.71 Q68.1773 1438.25 68.1773 1445.38 Q68.1773 1452.49 69.9828 1456.05 Q71.8115 1459.59 75.4226 1459.59 Q79.0569 1459.59 80.8624 1456.05 Q82.6911 1452.49 82.6911 1445.38 Q82.6911 1438.25 80.8624 1434.71 Q79.0569 1431.15 75.4226 1431.15 M75.4226 1427.44 Q81.2328 1427.44 84.2883 1432.05 Q87.367 1436.63 87.367 1445.38 Q87.367 1454.11 84.2883 1458.71 Q81.2328 1463.3 75.4226 1463.3 Q69.6125 1463.3 66.5338 1458.71 Q63.4782 1454.11 63.4782 1445.38 Q63.4782 1436.63 66.5338 1432.05 Q69.6125 1427.44 75.4226 1427.44 Z\" fill=\"#000000\" fill-rule=\"evenodd\" fill-opacity=\"1\" /><path clip-path=\"url(#clip5500)\" d=\"M 0 0 M92.4364 1456.75 L97.3206 1456.75 L97.3206 1462.63 L92.4364 1462.63 L92.4364 1456.75 Z\" fill=\"#000000\" fill-rule=\"evenodd\" fill-opacity=\"1\" /><path clip-path=\"url(#clip5500)\" d=\"M 0 0 M112.39 1431.15 Q108.779 1431.15 106.95 1434.71 Q105.145 1438.25 105.145 1445.38 Q105.145 1452.49 106.95 1456.05 Q108.779 1459.59 112.39 1459.59 Q116.024 1459.59 117.83 1456.05 Q119.658 1452.49 119.658 1445.38 Q119.658 1438.25 117.83 1434.71 Q116.024 1431.15 112.39 1431.15 M112.39 1427.44 Q118.2 1427.44 121.256 1432.05 Q124.334 1436.63 124.334 1445.38 Q124.334 1454.11 121.256 1458.71 Q118.2 1463.3 112.39 1463.3 Q106.58 1463.3 103.501 1458.71 Q100.446 1454.11 100.446 1445.38 Q100.446 1436.63 103.501 1432.05 Q106.58 1427.44 112.39 1427.44 Z\" fill=\"#000000\" fill-rule=\"evenodd\" fill-opacity=\"1\" /><path clip-path=\"url(#clip5500)\" d=\"M 0 0 M76.6495 1125.81 Q73.0384 1125.81 71.2097 1129.38 Q69.4041 1132.92 69.4041 1140.05 Q69.4041 1147.16 71.2097 1150.72 Q73.0384 1154.26 76.6495 1154.26 Q80.2837 1154.26 82.0892 1150.72 Q83.9179 1147.16 83.9179 1140.05 Q83.9179 1132.92 82.0892 1129.38 Q80.2837 1125.81 76.6495 1125.81 M76.6495 1122.11 Q82.4596 1122.11 85.5152 1126.72 Q88.5938 1131.3 88.5938 1140.05 Q88.5938 1148.78 85.5152 1153.38 Q82.4596 1157.97 76.6495 1157.97 Q70.8393 1157.97 67.7606 1153.38 Q64.7051 1148.78 64.7051 1140.05 Q64.7051 1131.3 67.7606 1126.72 Q70.8393 1122.11 76.6495 1122.11 Z\" fill=\"#000000\" fill-rule=\"evenodd\" fill-opacity=\"1\" /><path clip-path=\"url(#clip5500)\" d=\"M 0 0 M93.6633 1151.42 L98.5475 1151.42 L98.5475 1157.3 L93.6633 1157.3 L93.6633 1151.42 Z\" fill=\"#000000\" fill-rule=\"evenodd\" fill-opacity=\"1\" /><path clip-path=\"url(#clip5500)\" d=\"M 0 0 M104.427 1153.36 L112.066 1153.36 L112.066 1127 L103.756 1128.66 L103.756 1124.4 L112.02 1122.74 L116.696 1122.74 L116.696 1153.36 L124.334 1153.36 L124.334 1157.3 L104.427 1157.3 L104.427 1153.36 Z\" fill=\"#000000\" fill-rule=\"evenodd\" fill-opacity=\"1\" /><path clip-path=\"url(#clip5500)\" d=\"M 0 0 M77.0198 820.484 Q73.4087 820.484 71.58 824.049 Q69.7745 827.591 69.7745 834.72 Q69.7745 841.827 71.58 845.392 Q73.4087 848.933 77.0198 848.933 Q80.6541 848.933 82.4596 845.392 Q84.2883 841.827 84.2883 834.72 Q84.2883 827.591 82.4596 824.049 Q80.6541 820.484 77.0198 820.484 M77.0198 816.781 Q82.83 816.781 85.8855 821.387 Q88.9642 825.97 88.9642 834.72 Q88.9642 843.447 85.8855 848.054 Q82.83 852.637 77.0198 852.637 Q71.2097 852.637 68.131 848.054 Q65.0754 843.447 65.0754 834.72 Q65.0754 825.97 68.131 821.387 Q71.2097 816.781 77.0198 816.781 Z\" fill=\"#000000\" fill-rule=\"evenodd\" fill-opacity=\"1\" /><path clip-path=\"url(#clip5500)\" d=\"M 0 0 M94.0336 846.086 L98.9179 846.086 L98.9179 851.966 L94.0336 851.966 L94.0336 846.086 Z\" fill=\"#000000\" fill-rule=\"evenodd\" fill-opacity=\"1\" /><path clip-path=\"url(#clip5500)\" d=\"M 0 0 M108.015 848.031 L124.334 848.031 L124.334 851.966 L102.39 851.966 L102.39 848.031 Q105.052 845.276 109.635 840.646 Q114.242 835.994 115.422 834.651 Q117.668 832.128 118.547 830.392 Q119.45 828.632 119.45 826.943 Q119.45 824.188 117.506 822.452 Q115.584 820.716 112.483 820.716 Q110.284 820.716 107.83 821.48 Q105.399 822.244 102.622 823.795 L102.622 819.072 Q105.446 817.938 107.899 817.359 Q110.353 816.781 112.39 816.781 Q117.76 816.781 120.955 819.466 Q124.149 822.151 124.149 826.642 Q124.149 828.771 123.339 830.693 Q122.552 832.591 120.446 835.183 Q119.867 835.855 116.765 839.072 Q113.663 842.267 108.015 848.031 Z\" fill=\"#000000\" fill-rule=\"evenodd\" fill-opacity=\"1\" /><path clip-path=\"url(#clip5500)\" d=\"M 0 0 M76.0708 515.154 Q72.4597 515.154 70.631 518.719 Q68.8254 522.26 68.8254 529.39 Q68.8254 536.496 70.631 540.061 Q72.4597 543.603 76.0708 543.603 Q79.705 543.603 81.5105 540.061 Q83.3392 536.496 83.3392 529.39 Q83.3392 522.26 81.5105 518.719 Q79.705 515.154 76.0708 515.154 M76.0708 511.45 Q81.8809 511.45 84.9365 516.057 Q88.0151 520.64 88.0151 529.39 Q88.0151 538.117 84.9365 542.723 Q81.8809 547.307 76.0708 547.307 Q70.2606 547.307 67.1819 542.723 Q64.1264 538.117 64.1264 529.39 Q64.1264 520.64 67.1819 516.057 Q70.2606 511.45 76.0708 511.45 Z\" fill=\"#000000\" fill-rule=\"evenodd\" fill-opacity=\"1\" /><path clip-path=\"url(#clip5500)\" d=\"M 0 0 M93.0846 540.756 L97.9688 540.756 L97.9688 546.635 L93.0846 546.635 L93.0846 540.756 Z\" fill=\"#000000\" fill-rule=\"evenodd\" fill-opacity=\"1\" /><path clip-path=\"url(#clip5500)\" d=\"M 0 0 M117.205 528.001 Q120.561 528.719 122.436 530.987 Q124.334 533.256 124.334 536.589 Q124.334 541.705 120.816 544.506 Q117.297 547.307 110.816 547.307 Q108.64 547.307 106.325 546.867 Q104.034 546.45 101.58 545.594 L101.58 541.08 Q103.524 542.214 105.839 542.793 Q108.154 543.371 110.677 543.371 Q115.075 543.371 117.367 541.635 Q119.682 539.899 119.682 536.589 Q119.682 533.534 117.529 531.821 Q115.399 530.084 111.58 530.084 L107.552 530.084 L107.552 526.242 L111.765 526.242 Q115.214 526.242 117.043 524.876 Q118.871 523.487 118.871 520.895 Q118.871 518.233 116.973 516.821 Q115.098 515.385 111.58 515.385 Q109.659 515.385 107.459 515.802 Q105.26 516.219 102.622 517.098 L102.622 512.932 Q105.284 512.191 107.598 511.821 Q109.936 511.45 111.996 511.45 Q117.321 511.45 120.422 513.881 Q123.524 516.288 123.524 520.409 Q123.524 523.279 121.881 525.27 Q120.237 527.237 117.205 528.001 Z\" fill=\"#000000\" fill-rule=\"evenodd\" fill-opacity=\"1\" /><path clip-path=\"url(#clip5500)\" d=\"M 0 0 M74.9365 209.824 Q71.3254 209.824 69.4967 213.388 Q67.6912 216.93 67.6912 224.06 Q67.6912 231.166 69.4967 234.731 Q71.3254 238.273 74.9365 238.273 Q78.5707 238.273 80.3763 234.731 Q82.205 231.166 82.205 224.06 Q82.205 216.93 80.3763 213.388 Q78.5707 209.824 74.9365 209.824 M74.9365 206.12 Q80.7467 206.12 83.8022 210.726 Q86.8809 215.31 86.8809 224.06 Q86.8809 232.787 83.8022 237.393 Q80.7467 241.976 74.9365 241.976 Q69.1264 241.976 66.0477 237.393 Q62.9921 232.787 62.9921 224.06 Q62.9921 215.31 66.0477 210.726 Q69.1264 206.12 74.9365 206.12 Z\" fill=\"#000000\" fill-rule=\"evenodd\" fill-opacity=\"1\" /><path clip-path=\"url(#clip5500)\" d=\"M 0 0 M91.9503 235.425 L96.8345 235.425 L96.8345 241.305 L91.9503 241.305 L91.9503 235.425 Z\" fill=\"#000000\" fill-rule=\"evenodd\" fill-opacity=\"1\" /><path clip-path=\"url(#clip5500)\" d=\"M 0 0 M114.751 210.819 L102.946 229.268 L114.751 229.268 L114.751 210.819 M113.524 206.745 L119.404 206.745 L119.404 229.268 L124.334 229.268 L124.334 233.157 L119.404 233.157 L119.404 241.305 L114.751 241.305 L114.751 233.157 L99.1493 233.157 L99.1493 228.643 L113.524 206.745 Z\" fill=\"#000000\" fill-rule=\"evenodd\" fill-opacity=\"1\" /><polyline clip-path=\"url(#clip5502)\" style=\"stroke:#009af9; stroke-width:4; stroke-opacity:1; fill:none\" points=\"\n",
       "  210.724,1445.35 270.142,1445.35 329.56,1445.35 388.979,1445.35 448.397,1445.35 507.816,1445.35 567.234,1445.35 626.652,1445.35 686.071,1445.35 745.489,1445.34 \n",
       "  804.907,1445.31 864.326,1445.16 923.744,1444.44 983.162,1441.56 1042.58,1431.89 1102,1404.21 1161.42,1336.92 1220.84,1199.03 1280.25,969.48 1339.67,662.992 \n",
       "  1399.09,333.57 1458.51,89.1265 1517.93,111.92 1577.35,488.909 1636.76,974.317 1696.18,1283.45 1755.6,1403.34 1815.02,1436.42 1874.44,1443.75 1933.86,1445.11 \n",
       "  1993.27,1445.32 2052.69,1445.34 2112.11,1445.35 2171.53,1445.35 2230.95,1445.35 2290.37,1445.35 \n",
       "  \"/>\n",
       "<polyline clip-path=\"url(#clip5502)\" style=\"stroke:#e26f46; stroke-width:4; stroke-opacity:1; fill:none\" points=\"\n",
       "  210.724,1445.32 270.142,1445.53 329.56,1445.4 388.979,1445.31 448.397,1445.08 507.816,1445.41 567.234,1445.43 626.652,1445.28 686.071,1445.38 745.489,1445.44 \n",
       "  804.907,1445.08 864.326,1445.17 923.744,1444.45 983.162,1441.78 1042.58,1432.48 1102,1405.15 1161.42,1338.3 1220.84,1200.06 1280.25,967.684 1339.67,656.897 \n",
       "  1399.09,325.947 1458.51,88.5607 1517.93,121.163 1577.35,496.906 1636.76,974.675 1696.18,1280.82 1755.6,1401.5 1815.02,1435.55 1874.44,1443.47 1933.86,1445.03 \n",
       "  1993.27,1445.29 2052.69,1445.27 2112.11,1445.4 2171.53,1445.41 2230.95,1445.35 2290.37,1445.39 \n",
       "  \"/>\n",
       "<polyline clip-path=\"url(#clip5502)\" style=\"stroke:#3da44d; stroke-width:4; stroke-opacity:1; fill:none\" points=\"\n",
       "  210.724,1445.29 270.142,1445.72 329.56,1445.45 388.979,1445.27 448.397,1444.8 507.816,1445.49 567.234,1445.52 626.652,1445.21 686.071,1445.41 745.489,1445.53 \n",
       "  804.907,1444.85 864.326,1445.18 923.744,1444.47 983.162,1442.01 1042.58,1433.09 1102,1406.12 1161.42,1339.7 1220.84,1201.12 1280.25,965.832 1339.67,650.629 \n",
       "  1399.09,318.114 1458.51,87.9763 1517.93,130.677 1577.35,505.113 1636.76,975.038 1696.18,1278.12 1755.6,1399.61 1815.02,1434.67 1874.44,1443.2 1933.86,1444.95 \n",
       "  1993.27,1445.27 2052.69,1445.19 2112.11,1445.46 2171.53,1445.49 2230.95,1445.34 2290.37,1445.43 \n",
       "  \"/>\n",
       "<path clip-path=\"url(#clip5500)\" d=\"\n",
       "M1983.79 372.684 L2280.76 372.684 L2280.76 130.764 L1983.79 130.764  Z\n",
       "  \" fill=\"#ffffff\" fill-rule=\"evenodd\" fill-opacity=\"1\"/>\n",
       "<polyline clip-path=\"url(#clip5500)\" style=\"stroke:#000000; stroke-width:4; stroke-opacity:1; fill:none\" points=\"\n",
       "  1983.79,372.684 2280.76,372.684 2280.76,130.764 1983.79,130.764 1983.79,372.684 \n",
       "  \"/>\n",
       "<polyline clip-path=\"url(#clip5500)\" style=\"stroke:#009af9; stroke-width:4; stroke-opacity:1; fill:none\" points=\"\n",
       "  2007.79,191.244 2151.79,191.244 \n",
       "  \"/>\n",
       "<path clip-path=\"url(#clip5500)\" d=\"M 0 0 M2175.79 173.964 L2182.08 173.964 L2197.41 202.876 L2197.41 173.964 L2201.95 173.964 L2201.95 208.524 L2195.65 208.524 L2180.33 179.612 L2180.33 208.524 L2175.79 208.524 L2175.79 173.964 Z\" fill=\"#000000\" fill-rule=\"evenodd\" fill-opacity=\"1\" /><path clip-path=\"url(#clip5500)\" d=\"M 0 0 M2206.6 173.964 L2212.89 173.964 L2228.22 202.876 L2228.22 173.964 L2232.76 173.964 L2232.76 208.524 L2226.46 208.524 L2211.14 179.612 L2211.14 208.524 L2206.6 208.524 L2206.6 173.964 Z\" fill=\"#000000\" fill-rule=\"evenodd\" fill-opacity=\"1\" /><polyline clip-path=\"url(#clip5500)\" style=\"stroke:#e26f46; stroke-width:4; stroke-opacity:1; fill:none\" points=\"\n",
       "  2007.79,251.724 2151.79,251.724 \n",
       "  \"/>\n",
       "<path clip-path=\"url(#clip5500)\" d=\"M 0 0 M2175.79 234.444 L2182.08 234.444 L2197.41 263.356 L2197.41 234.444 L2201.95 234.444 L2201.95 269.004 L2195.65 269.004 L2180.33 240.092 L2180.33 269.004 L2175.79 269.004 L2175.79 234.444 Z\" fill=\"#000000\" fill-rule=\"evenodd\" fill-opacity=\"1\" /><path clip-path=\"url(#clip5500)\" d=\"M 0 0 M2206.6 234.444 L2212.89 234.444 L2228.22 263.356 L2228.22 234.444 L2232.76 234.444 L2232.76 269.004 L2226.46 269.004 L2211.14 240.092 L2211.14 269.004 L2206.6 269.004 L2206.6 234.444 Z\" fill=\"#000000\" fill-rule=\"evenodd\" fill-opacity=\"1\" /><polyline clip-path=\"url(#clip5500)\" style=\"stroke:#3da44d; stroke-width:4; stroke-opacity:1; fill:none\" points=\"\n",
       "  2007.79,312.204 2151.79,312.204 \n",
       "  \"/>\n",
       "<path clip-path=\"url(#clip5500)\" d=\"M 0 0 M2175.79 294.924 L2182.08 294.924 L2197.41 323.836 L2197.41 294.924 L2201.95 294.924 L2201.95 329.484 L2195.65 329.484 L2180.33 300.572 L2180.33 329.484 L2175.79 329.484 L2175.79 294.924 Z\" fill=\"#000000\" fill-rule=\"evenodd\" fill-opacity=\"1\" /><path clip-path=\"url(#clip5500)\" d=\"M 0 0 M2206.6 294.924 L2212.89 294.924 L2228.22 323.836 L2228.22 294.924 L2232.76 294.924 L2232.76 329.484 L2226.46 329.484 L2211.14 300.572 L2211.14 329.484 L2206.6 329.484 L2206.6 294.924 Z\" fill=\"#000000\" fill-rule=\"evenodd\" fill-opacity=\"1\" /></svg>\n"
      ]
     },
     "execution_count": 20,
     "metadata": {},
     "output_type": "execute_result"
    }
   ],
   "source": [
    "plot(vSpace.u, node(ctr[25].f[1:end], res.minimizer).u, label=\"NN\")"
   ]
  },
  {
   "cell_type": "code",
   "execution_count": 21,
   "metadata": {
    "scrolled": false
   },
   "outputs": [
    {
     "data": {
      "image/svg+xml": [
       "<?xml version=\"1.0\" encoding=\"utf-8\"?>\n",
       "<svg xmlns=\"http://www.w3.org/2000/svg\" xmlns:xlink=\"http://www.w3.org/1999/xlink\" width=\"600\" height=\"400\" viewBox=\"0 0 2400 1600\">\n",
       "<defs>\n",
       "  <clipPath id=\"clip5900\">\n",
       "    <rect x=\"0\" y=\"0\" width=\"2400\" height=\"1600\"/>\n",
       "  </clipPath>\n",
       "</defs>\n",
       "<path clip-path=\"url(#clip5900)\" d=\"\n",
       "M0 1600 L2400 1600 L2400 0 L0 0  Z\n",
       "  \" fill=\"#ffffff\" fill-rule=\"evenodd\" fill-opacity=\"1\"/>\n",
       "<defs>\n",
       "  <clipPath id=\"clip5901\">\n",
       "    <rect x=\"480\" y=\"0\" width=\"1681\" height=\"1600\"/>\n",
       "  </clipPath>\n",
       "</defs>\n",
       "<path clip-path=\"url(#clip5900)\" d=\"\n",
       "M148.334 1486.45 L2352.76 1486.45 L2352.76 47.2441 L148.334 47.2441  Z\n",
       "  \" fill=\"#ffffff\" fill-rule=\"evenodd\" fill-opacity=\"1\"/>\n",
       "<defs>\n",
       "  <clipPath id=\"clip5902\">\n",
       "    <rect x=\"148\" y=\"47\" width=\"2205\" height=\"1440\"/>\n",
       "  </clipPath>\n",
       "</defs>\n",
       "<polyline clip-path=\"url(#clip5902)\" style=\"stroke:#000000; stroke-width:2; stroke-opacity:0.1; fill:none\" points=\"\n",
       "  181.014,1486.45 181.014,47.2441 \n",
       "  \"/>\n",
       "<polyline clip-path=\"url(#clip5902)\" style=\"stroke:#000000; stroke-width:2; stroke-opacity:0.1; fill:none\" points=\"\n",
       "  715.78,1486.45 715.78,47.2441 \n",
       "  \"/>\n",
       "<polyline clip-path=\"url(#clip5902)\" style=\"stroke:#000000; stroke-width:2; stroke-opacity:0.1; fill:none\" points=\"\n",
       "  1250.55,1486.45 1250.55,47.2441 \n",
       "  \"/>\n",
       "<polyline clip-path=\"url(#clip5902)\" style=\"stroke:#000000; stroke-width:2; stroke-opacity:0.1; fill:none\" points=\"\n",
       "  1785.31,1486.45 1785.31,47.2441 \n",
       "  \"/>\n",
       "<polyline clip-path=\"url(#clip5902)\" style=\"stroke:#000000; stroke-width:2; stroke-opacity:0.1; fill:none\" points=\"\n",
       "  2320.08,1486.45 2320.08,47.2441 \n",
       "  \"/>\n",
       "<polyline clip-path=\"url(#clip5902)\" style=\"stroke:#000000; stroke-width:2; stroke-opacity:0.1; fill:none\" points=\"\n",
       "  148.334,1445.72 2352.76,1445.72 \n",
       "  \"/>\n",
       "<polyline clip-path=\"url(#clip5902)\" style=\"stroke:#000000; stroke-width:2; stroke-opacity:0.1; fill:none\" points=\"\n",
       "  148.334,1140.09 2352.76,1140.09 \n",
       "  \"/>\n",
       "<polyline clip-path=\"url(#clip5902)\" style=\"stroke:#000000; stroke-width:2; stroke-opacity:0.1; fill:none\" points=\"\n",
       "  148.334,834.464 2352.76,834.464 \n",
       "  \"/>\n",
       "<polyline clip-path=\"url(#clip5902)\" style=\"stroke:#000000; stroke-width:2; stroke-opacity:0.1; fill:none\" points=\"\n",
       "  148.334,528.838 2352.76,528.838 \n",
       "  \"/>\n",
       "<polyline clip-path=\"url(#clip5902)\" style=\"stroke:#000000; stroke-width:2; stroke-opacity:0.1; fill:none\" points=\"\n",
       "  148.334,223.212 2352.76,223.212 \n",
       "  \"/>\n",
       "<polyline clip-path=\"url(#clip5900)\" style=\"stroke:#000000; stroke-width:4; stroke-opacity:1; fill:none\" points=\"\n",
       "  148.334,1486.45 2352.76,1486.45 \n",
       "  \"/>\n",
       "<polyline clip-path=\"url(#clip5900)\" style=\"stroke:#000000; stroke-width:4; stroke-opacity:1; fill:none\" points=\"\n",
       "  148.334,1486.45 148.334,47.2441 \n",
       "  \"/>\n",
       "<polyline clip-path=\"url(#clip5900)\" style=\"stroke:#000000; stroke-width:4; stroke-opacity:1; fill:none\" points=\"\n",
       "  181.014,1486.45 181.014,1469.18 \n",
       "  \"/>\n",
       "<polyline clip-path=\"url(#clip5900)\" style=\"stroke:#000000; stroke-width:4; stroke-opacity:1; fill:none\" points=\"\n",
       "  715.78,1486.45 715.78,1469.18 \n",
       "  \"/>\n",
       "<polyline clip-path=\"url(#clip5900)\" style=\"stroke:#000000; stroke-width:4; stroke-opacity:1; fill:none\" points=\"\n",
       "  1250.55,1486.45 1250.55,1469.18 \n",
       "  \"/>\n",
       "<polyline clip-path=\"url(#clip5900)\" style=\"stroke:#000000; stroke-width:4; stroke-opacity:1; fill:none\" points=\"\n",
       "  1785.31,1486.45 1785.31,1469.18 \n",
       "  \"/>\n",
       "<polyline clip-path=\"url(#clip5900)\" style=\"stroke:#000000; stroke-width:4; stroke-opacity:1; fill:none\" points=\"\n",
       "  2320.08,1486.45 2320.08,1469.18 \n",
       "  \"/>\n",
       "<polyline clip-path=\"url(#clip5900)\" style=\"stroke:#000000; stroke-width:4; stroke-opacity:1; fill:none\" points=\"\n",
       "  148.334,1445.72 174.787,1445.72 \n",
       "  \"/>\n",
       "<polyline clip-path=\"url(#clip5900)\" style=\"stroke:#000000; stroke-width:4; stroke-opacity:1; fill:none\" points=\"\n",
       "  148.334,1140.09 174.787,1140.09 \n",
       "  \"/>\n",
       "<polyline clip-path=\"url(#clip5900)\" style=\"stroke:#000000; stroke-width:4; stroke-opacity:1; fill:none\" points=\"\n",
       "  148.334,834.464 174.787,834.464 \n",
       "  \"/>\n",
       "<polyline clip-path=\"url(#clip5900)\" style=\"stroke:#000000; stroke-width:4; stroke-opacity:1; fill:none\" points=\"\n",
       "  148.334,528.838 174.787,528.838 \n",
       "  \"/>\n",
       "<polyline clip-path=\"url(#clip5900)\" style=\"stroke:#000000; stroke-width:4; stroke-opacity:1; fill:none\" points=\"\n",
       "  148.334,223.212 174.787,223.212 \n",
       "  \"/>\n",
       "<path clip-path=\"url(#clip5900)\" d=\"M 0 0 M148.376 1525.04 L160.853 1525.04 L160.853 1528.83 L148.376 1528.83 L148.376 1525.04 Z\" fill=\"#000000\" fill-rule=\"evenodd\" fill-opacity=\"1\" /><path clip-path=\"url(#clip5900)\" d=\"M 0 0 M166.732 1535.98 L174.371 1535.98 L174.371 1509.62 L166.061 1511.29 L166.061 1507.03 L174.325 1505.36 L179.001 1505.36 L179.001 1535.98 L186.639 1535.98 L186.639 1539.92 L166.732 1539.92 L166.732 1535.98 Z\" fill=\"#000000\" fill-rule=\"evenodd\" fill-opacity=\"1\" /><path clip-path=\"url(#clip5900)\" d=\"M 0 0 M201.709 1508.44 Q198.098 1508.44 196.269 1512 Q194.463 1515.55 194.463 1522.67 Q194.463 1529.78 196.269 1533.35 Q198.098 1536.89 201.709 1536.89 Q205.343 1536.89 207.149 1533.35 Q208.977 1529.78 208.977 1522.67 Q208.977 1515.55 207.149 1512 Q205.343 1508.44 201.709 1508.44 M201.709 1504.73 Q207.519 1504.73 210.575 1509.34 Q213.653 1513.92 213.653 1522.67 Q213.653 1531.4 210.575 1536.01 Q207.519 1540.59 201.709 1540.59 Q195.899 1540.59 192.82 1536.01 Q189.764 1531.4 189.764 1522.67 Q189.764 1513.92 192.82 1509.34 Q195.899 1504.73 201.709 1504.73 Z\" fill=\"#000000\" fill-rule=\"evenodd\" fill-opacity=\"1\" /><path clip-path=\"url(#clip5900)\" d=\"M 0 0 M696.532 1525.04 L709.009 1525.04 L709.009 1528.83 L696.532 1528.83 L696.532 1525.04 Z\" fill=\"#000000\" fill-rule=\"evenodd\" fill-opacity=\"1\" /><path clip-path=\"url(#clip5900)\" d=\"M 0 0 M714.125 1505.36 L732.481 1505.36 L732.481 1509.3 L718.407 1509.3 L718.407 1517.77 Q719.426 1517.42 720.444 1517.26 Q721.463 1517.07 722.481 1517.07 Q728.268 1517.07 731.648 1520.24 Q735.027 1523.42 735.027 1528.83 Q735.027 1534.41 731.555 1537.51 Q728.083 1540.59 721.764 1540.59 Q719.588 1540.59 717.319 1540.22 Q715.074 1539.85 712.666 1539.11 L712.666 1534.41 Q714.75 1535.54 716.972 1536.1 Q719.194 1536.66 721.671 1536.66 Q725.676 1536.66 728.014 1534.55 Q730.352 1532.44 730.352 1528.83 Q730.352 1525.22 728.014 1523.11 Q725.676 1521.01 721.671 1521.01 Q719.796 1521.01 717.921 1521.42 Q716.069 1521.84 714.125 1522.72 L714.125 1505.36 Z\" fill=\"#000000\" fill-rule=\"evenodd\" fill-opacity=\"1\" /><path clip-path=\"url(#clip5900)\" d=\"M 0 0 M1250.55 1508.44 Q1246.93 1508.44 1245.11 1512 Q1243.3 1515.55 1243.3 1522.67 Q1243.3 1529.78 1245.11 1533.35 Q1246.93 1536.89 1250.55 1536.89 Q1254.18 1536.89 1255.98 1533.35 Q1257.81 1529.78 1257.81 1522.67 Q1257.81 1515.55 1255.98 1512 Q1254.18 1508.44 1250.55 1508.44 M1250.55 1504.73 Q1256.36 1504.73 1259.41 1509.34 Q1262.49 1513.92 1262.49 1522.67 Q1262.49 1531.4 1259.41 1536.01 Q1256.36 1540.59 1250.55 1540.59 Q1244.73 1540.59 1241.66 1536.01 Q1238.6 1531.4 1238.6 1522.67 Q1238.6 1513.92 1241.66 1509.34 Q1244.73 1504.73 1250.55 1504.73 Z\" fill=\"#000000\" fill-rule=\"evenodd\" fill-opacity=\"1\" /><path clip-path=\"url(#clip5900)\" d=\"M 0 0 M1775.59 1505.36 L1793.94 1505.36 L1793.94 1509.3 L1779.87 1509.3 L1779.87 1517.77 Q1780.89 1517.42 1781.91 1517.26 Q1782.93 1517.07 1783.94 1517.07 Q1789.73 1517.07 1793.11 1520.24 Q1796.49 1523.42 1796.49 1528.83 Q1796.49 1534.41 1793.02 1537.51 Q1789.55 1540.59 1783.23 1540.59 Q1781.05 1540.59 1778.78 1540.22 Q1776.54 1539.85 1774.13 1539.11 L1774.13 1534.41 Q1776.21 1535.54 1778.44 1536.1 Q1780.66 1536.66 1783.13 1536.66 Q1787.14 1536.66 1789.48 1534.55 Q1791.82 1532.44 1791.82 1528.83 Q1791.82 1525.22 1789.48 1523.11 Q1787.14 1521.01 1783.13 1521.01 Q1781.26 1521.01 1779.38 1521.42 Q1777.53 1521.84 1775.59 1522.72 L1775.59 1505.36 Z\" fill=\"#000000\" fill-rule=\"evenodd\" fill-opacity=\"1\" /><path clip-path=\"url(#clip5900)\" d=\"M 0 0 M2296.95 1535.98 L2304.59 1535.98 L2304.59 1509.62 L2296.28 1511.29 L2296.28 1507.03 L2304.54 1505.36 L2309.22 1505.36 L2309.22 1535.98 L2316.86 1535.98 L2316.86 1539.92 L2296.95 1539.92 L2296.95 1535.98 Z\" fill=\"#000000\" fill-rule=\"evenodd\" fill-opacity=\"1\" /><path clip-path=\"url(#clip5900)\" d=\"M 0 0 M2331.93 1508.44 Q2328.32 1508.44 2326.49 1512 Q2324.68 1515.55 2324.68 1522.67 Q2324.68 1529.78 2326.49 1533.35 Q2328.32 1536.89 2331.93 1536.89 Q2335.56 1536.89 2337.37 1533.35 Q2339.2 1529.78 2339.2 1522.67 Q2339.2 1515.55 2337.37 1512 Q2335.56 1508.44 2331.93 1508.44 M2331.93 1504.73 Q2337.74 1504.73 2340.79 1509.34 Q2343.87 1513.92 2343.87 1522.67 Q2343.87 1531.4 2340.79 1536.01 Q2337.74 1540.59 2331.93 1540.59 Q2326.12 1540.59 2323.04 1536.01 Q2319.98 1531.4 2319.98 1522.67 Q2319.98 1513.92 2323.04 1509.34 Q2326.12 1504.73 2331.93 1504.73 Z\" fill=\"#000000\" fill-rule=\"evenodd\" fill-opacity=\"1\" /><path clip-path=\"url(#clip5900)\" d=\"M 0 0 M75.4226 1431.51 Q71.8115 1431.51 69.9828 1435.08 Q68.1773 1438.62 68.1773 1445.75 Q68.1773 1452.86 69.9828 1456.42 Q71.8115 1459.96 75.4226 1459.96 Q79.0569 1459.96 80.8624 1456.42 Q82.6911 1452.86 82.6911 1445.75 Q82.6911 1438.62 80.8624 1435.08 Q79.0569 1431.51 75.4226 1431.51 M75.4226 1427.81 Q81.2328 1427.81 84.2883 1432.42 Q87.367 1437 87.367 1445.75 Q87.367 1454.48 84.2883 1459.08 Q81.2328 1463.67 75.4226 1463.67 Q69.6125 1463.67 66.5338 1459.08 Q63.4782 1454.48 63.4782 1445.75 Q63.4782 1437 66.5338 1432.42 Q69.6125 1427.81 75.4226 1427.81 Z\" fill=\"#000000\" fill-rule=\"evenodd\" fill-opacity=\"1\" /><path clip-path=\"url(#clip5900)\" d=\"M 0 0 M92.4364 1457.12 L97.3206 1457.12 L97.3206 1463 L92.4364 1463 L92.4364 1457.12 Z\" fill=\"#000000\" fill-rule=\"evenodd\" fill-opacity=\"1\" /><path clip-path=\"url(#clip5900)\" d=\"M 0 0 M112.39 1431.51 Q108.779 1431.51 106.95 1435.08 Q105.145 1438.62 105.145 1445.75 Q105.145 1452.86 106.95 1456.42 Q108.779 1459.96 112.39 1459.96 Q116.024 1459.96 117.83 1456.42 Q119.658 1452.86 119.658 1445.75 Q119.658 1438.62 117.83 1435.08 Q116.024 1431.51 112.39 1431.51 M112.39 1427.81 Q118.2 1427.81 121.256 1432.42 Q124.334 1437 124.334 1445.75 Q124.334 1454.48 121.256 1459.08 Q118.2 1463.67 112.39 1463.67 Q106.58 1463.67 103.501 1459.08 Q100.446 1454.48 100.446 1445.75 Q100.446 1437 103.501 1432.42 Q106.58 1427.81 112.39 1427.81 Z\" fill=\"#000000\" fill-rule=\"evenodd\" fill-opacity=\"1\" /><path clip-path=\"url(#clip5900)\" d=\"M 0 0 M76.6495 1125.89 Q73.0384 1125.89 71.2097 1129.45 Q69.4041 1132.99 69.4041 1140.12 Q69.4041 1147.23 71.2097 1150.8 Q73.0384 1154.34 76.6495 1154.34 Q80.2837 1154.34 82.0892 1150.8 Q83.9179 1147.23 83.9179 1140.12 Q83.9179 1132.99 82.0892 1129.45 Q80.2837 1125.89 76.6495 1125.89 M76.6495 1122.18 Q82.4596 1122.18 85.5152 1126.79 Q88.5938 1131.37 88.5938 1140.12 Q88.5938 1148.85 85.5152 1153.46 Q82.4596 1158.04 76.6495 1158.04 Q70.8393 1158.04 67.7606 1153.46 Q64.7051 1148.85 64.7051 1140.12 Q64.7051 1131.37 67.7606 1126.79 Q70.8393 1122.18 76.6495 1122.18 Z\" fill=\"#000000\" fill-rule=\"evenodd\" fill-opacity=\"1\" /><path clip-path=\"url(#clip5900)\" d=\"M 0 0 M93.6633 1151.49 L98.5475 1151.49 L98.5475 1157.37 L93.6633 1157.37 L93.6633 1151.49 Z\" fill=\"#000000\" fill-rule=\"evenodd\" fill-opacity=\"1\" /><path clip-path=\"url(#clip5900)\" d=\"M 0 0 M104.427 1153.43 L112.066 1153.43 L112.066 1127.07 L103.756 1128.74 L103.756 1124.48 L112.02 1122.81 L116.696 1122.81 L116.696 1153.43 L124.334 1153.43 L124.334 1157.37 L104.427 1157.37 L104.427 1153.43 Z\" fill=\"#000000\" fill-rule=\"evenodd\" fill-opacity=\"1\" /><path clip-path=\"url(#clip5900)\" d=\"M 0 0 M77.0198 820.263 Q73.4087 820.263 71.58 823.827 Q69.7745 827.369 69.7745 834.499 Q69.7745 841.605 71.58 845.17 Q73.4087 848.711 77.0198 848.711 Q80.6541 848.711 82.4596 845.17 Q84.2883 841.605 84.2883 834.499 Q84.2883 827.369 82.4596 823.827 Q80.6541 820.263 77.0198 820.263 M77.0198 816.559 Q82.83 816.559 85.8855 821.165 Q88.9642 825.749 88.9642 834.499 Q88.9642 843.225 85.8855 847.832 Q82.83 852.415 77.0198 852.415 Q71.2097 852.415 68.131 847.832 Q65.0754 843.225 65.0754 834.499 Q65.0754 825.749 68.131 821.165 Q71.2097 816.559 77.0198 816.559 Z\" fill=\"#000000\" fill-rule=\"evenodd\" fill-opacity=\"1\" /><path clip-path=\"url(#clip5900)\" d=\"M 0 0 M94.0336 845.864 L98.9179 845.864 L98.9179 851.744 L94.0336 851.744 L94.0336 845.864 Z\" fill=\"#000000\" fill-rule=\"evenodd\" fill-opacity=\"1\" /><path clip-path=\"url(#clip5900)\" d=\"M 0 0 M108.015 847.809 L124.334 847.809 L124.334 851.744 L102.39 851.744 L102.39 847.809 Q105.052 845.054 109.635 840.424 Q114.242 835.772 115.422 834.429 Q117.668 831.906 118.547 830.17 Q119.45 828.411 119.45 826.721 Q119.45 823.966 117.506 822.23 Q115.584 820.494 112.483 820.494 Q110.284 820.494 107.83 821.258 Q105.399 822.022 102.622 823.573 L102.622 818.85 Q105.446 817.716 107.899 817.138 Q110.353 816.559 112.39 816.559 Q117.76 816.559 120.955 819.244 Q124.149 821.929 124.149 826.42 Q124.149 828.55 123.339 830.471 Q122.552 832.369 120.446 834.962 Q119.867 835.633 116.765 838.85 Q113.663 842.045 108.015 847.809 Z\" fill=\"#000000\" fill-rule=\"evenodd\" fill-opacity=\"1\" /><path clip-path=\"url(#clip5900)\" d=\"M 0 0 M76.0708 514.637 Q72.4597 514.637 70.631 518.201 Q68.8254 521.743 68.8254 528.873 Q68.8254 535.979 70.631 539.544 Q72.4597 543.086 76.0708 543.086 Q79.705 543.086 81.5105 539.544 Q83.3392 535.979 83.3392 528.873 Q83.3392 521.743 81.5105 518.201 Q79.705 514.637 76.0708 514.637 M76.0708 510.933 Q81.8809 510.933 84.9365 515.539 Q88.0151 520.123 88.0151 528.873 Q88.0151 537.599 84.9365 542.206 Q81.8809 546.789 76.0708 546.789 Q70.2606 546.789 67.1819 542.206 Q64.1264 537.599 64.1264 528.873 Q64.1264 520.123 67.1819 515.539 Q70.2606 510.933 76.0708 510.933 Z\" fill=\"#000000\" fill-rule=\"evenodd\" fill-opacity=\"1\" /><path clip-path=\"url(#clip5900)\" d=\"M 0 0 M93.0846 540.238 L97.9688 540.238 L97.9688 546.118 L93.0846 546.118 L93.0846 540.238 Z\" fill=\"#000000\" fill-rule=\"evenodd\" fill-opacity=\"1\" /><path clip-path=\"url(#clip5900)\" d=\"M 0 0 M117.205 527.484 Q120.561 528.201 122.436 530.47 Q124.334 532.738 124.334 536.072 Q124.334 541.187 120.816 543.988 Q117.297 546.789 110.816 546.789 Q108.64 546.789 106.325 546.349 Q104.034 545.933 101.58 545.076 L101.58 540.562 Q103.524 541.697 105.839 542.275 Q108.154 542.854 110.677 542.854 Q115.075 542.854 117.367 541.118 Q119.682 539.382 119.682 536.072 Q119.682 533.016 117.529 531.303 Q115.399 529.567 111.58 529.567 L107.552 529.567 L107.552 525.724 L111.765 525.724 Q115.214 525.724 117.043 524.359 Q118.871 522.97 118.871 520.377 Q118.871 517.715 116.973 516.303 Q115.098 514.868 111.58 514.868 Q109.659 514.868 107.459 515.285 Q105.26 515.701 102.622 516.581 L102.622 512.414 Q105.284 511.674 107.598 511.303 Q109.936 510.933 111.996 510.933 Q117.321 510.933 120.422 513.363 Q123.524 515.771 123.524 519.891 Q123.524 522.762 121.881 524.752 Q120.237 526.72 117.205 527.484 Z\" fill=\"#000000\" fill-rule=\"evenodd\" fill-opacity=\"1\" /><path clip-path=\"url(#clip5900)\" d=\"M 0 0 M74.9365 209.011 Q71.3254 209.011 69.4967 212.575 Q67.6912 216.117 67.6912 223.247 Q67.6912 230.353 69.4967 233.918 Q71.3254 237.46 74.9365 237.46 Q78.5707 237.46 80.3763 233.918 Q82.205 230.353 82.205 223.247 Q82.205 216.117 80.3763 212.575 Q78.5707 209.011 74.9365 209.011 M74.9365 205.307 Q80.7467 205.307 83.8022 209.913 Q86.8809 214.497 86.8809 223.247 Q86.8809 231.974 83.8022 236.58 Q80.7467 241.163 74.9365 241.163 Q69.1264 241.163 66.0477 236.58 Q62.9921 231.974 62.9921 223.247 Q62.9921 214.497 66.0477 209.913 Q69.1264 205.307 74.9365 205.307 Z\" fill=\"#000000\" fill-rule=\"evenodd\" fill-opacity=\"1\" /><path clip-path=\"url(#clip5900)\" d=\"M 0 0 M91.9503 234.612 L96.8345 234.612 L96.8345 240.492 L91.9503 240.492 L91.9503 234.612 Z\" fill=\"#000000\" fill-rule=\"evenodd\" fill-opacity=\"1\" /><path clip-path=\"url(#clip5900)\" d=\"M 0 0 M114.751 210.006 L102.946 228.455 L114.751 228.455 L114.751 210.006 M113.524 205.932 L119.404 205.932 L119.404 228.455 L124.334 228.455 L124.334 232.344 L119.404 232.344 L119.404 240.492 L114.751 240.492 L114.751 232.344 L99.1493 232.344 L99.1493 227.83 L113.524 205.932 Z\" fill=\"#000000\" fill-rule=\"evenodd\" fill-opacity=\"1\" /><polyline clip-path=\"url(#clip5902)\" style=\"stroke:#009af9; stroke-width:4; stroke-opacity:1; fill:none\" points=\"\n",
       "  210.724,1445.72 270.142,1445.72 329.56,1445.72 388.979,1445.72 448.397,1445.72 507.816,1445.72 567.234,1445.72 626.652,1445.72 686.071,1445.72 745.489,1445.71 \n",
       "  804.907,1445.68 864.326,1445.53 923.744,1444.81 983.162,1441.93 1042.58,1432.25 1102,1404.54 1161.42,1337.19 1220.84,1199.16 1280.25,969.389 1339.67,662.604 \n",
       "  1399.09,332.863 1458.51,88.1829 1517.93,110.998 1577.35,488.352 1636.76,974.23 1696.18,1283.66 1755.6,1403.66 1815.02,1436.78 1874.44,1444.12 1933.86,1445.48 \n",
       "  1993.27,1445.69 2052.69,1445.71 2112.11,1445.72 2171.53,1445.72 2230.95,1445.72 2290.37,1445.72 \n",
       "  \"/>\n",
       "<polyline clip-path=\"url(#clip5902)\" style=\"stroke:#e26f46; stroke-width:4; stroke-opacity:1; fill:none\" points=\"\n",
       "  210.724,1445.72 270.142,1445.72 329.56,1445.72 388.979,1445.72 448.397,1445.72 507.816,1445.72 567.234,1445.72 626.652,1445.72 686.071,1445.72 745.489,1445.71 \n",
       "  804.907,1445.69 864.326,1445.54 923.744,1444.86 983.162,1442.13 1042.58,1432.82 1102,1405.77 1161.42,1339 1220.84,1200.34 1280.25,967.29 1339.67,655.39 \n",
       "  1399.09,324.554 1458.51,88.0757 1517.93,120.972 1577.35,497.015 1636.76,974.663 1696.18,1280.51 1755.6,1401.48 1815.02,1435.96 1874.44,1443.91 1933.86,1445.44 \n",
       "  1993.27,1445.68 2052.69,1445.71 2112.11,1445.72 2171.53,1445.72 2230.95,1445.72 2290.37,1445.72 \n",
       "  \"/>\n",
       "<polyline clip-path=\"url(#clip5902)\" style=\"stroke:#3da44d; stroke-width:4; stroke-opacity:1; fill:none\" points=\"\n",
       "  210.724,1445.72 270.142,1445.72 329.56,1445.72 388.979,1445.72 448.397,1445.72 507.816,1445.72 567.234,1445.72 626.652,1445.72 686.071,1445.72 745.489,1445.71 \n",
       "  804.907,1445.69 864.326,1445.55 923.744,1444.91 983.162,1442.31 1042.58,1433.35 1102,1406.92 1161.42,1340.68 1220.84,1201.44 1280.25,965.342 1339.67,648.692 \n",
       "  1399.09,316.839 1458.51,87.9763 1517.93,130.231 1577.35,505.058 1636.76,975.065 1696.18,1277.59 1755.6,1399.46 1815.02,1435.21 1874.44,1443.71 1933.86,1445.4 \n",
       "  1993.27,1445.67 2052.69,1445.71 2112.11,1445.72 2171.53,1445.72 2230.95,1445.72 2290.37,1445.72 \n",
       "  \"/>\n",
       "<path clip-path=\"url(#clip5900)\" d=\"\n",
       "M1926.66 372.684 L2280.76 372.684 L2280.76 130.764 L1926.66 130.764  Z\n",
       "  \" fill=\"#ffffff\" fill-rule=\"evenodd\" fill-opacity=\"1\"/>\n",
       "<polyline clip-path=\"url(#clip5900)\" style=\"stroke:#000000; stroke-width:4; stroke-opacity:1; fill:none\" points=\"\n",
       "  1926.66,372.684 2280.76,372.684 2280.76,130.764 1926.66,130.764 1926.66,372.684 \n",
       "  \"/>\n",
       "<polyline clip-path=\"url(#clip5900)\" style=\"stroke:#009af9; stroke-width:4; stroke-opacity:1; fill:none\" points=\"\n",
       "  1950.66,191.244 2094.66,191.244 \n",
       "  \"/>\n",
       "<path clip-path=\"url(#clip5900)\" d=\"M 0 0 M2118.66 173.964 L2140.51 173.964 L2140.51 177.899 L2123.34 177.899 L2123.34 188.131 L2139.79 188.131 L2139.79 192.066 L2123.34 192.066 L2123.34 204.589 L2140.93 204.589 L2140.93 208.524 L2118.66 208.524 L2118.66 173.964 Z\" fill=\"#000000\" fill-rule=\"evenodd\" fill-opacity=\"1\" /><path clip-path=\"url(#clip5900)\" d=\"M 0 0 M2166.95 182.598 L2157.57 195.214 L2167.43 208.524 L2162.41 208.524 L2154.86 198.339 L2147.32 208.524 L2142.29 208.524 L2152.36 194.959 L2143.15 182.598 L2148.17 182.598 L2155.05 191.834 L2161.92 182.598 L2166.95 182.598 Z\" fill=\"#000000\" fill-rule=\"evenodd\" fill-opacity=\"1\" /><path clip-path=\"url(#clip5900)\" d=\"M 0 0 M2183.68 195.492 Q2178.52 195.492 2176.53 196.672 Q2174.54 197.853 2174.54 200.7 Q2174.54 202.969 2176.02 204.311 Q2177.52 205.631 2180.09 205.631 Q2183.64 205.631 2185.77 203.131 Q2187.92 200.607 2187.92 196.441 L2187.92 195.492 L2183.68 195.492 M2192.18 193.733 L2192.18 208.524 L2187.92 208.524 L2187.92 204.589 Q2186.46 206.95 2184.28 208.084 Q2182.11 209.195 2178.96 209.195 Q2174.98 209.195 2172.62 206.973 Q2170.28 204.728 2170.28 200.978 Q2170.28 196.603 2173.2 194.381 Q2176.14 192.158 2181.95 192.158 L2187.92 192.158 L2187.92 191.742 Q2187.92 188.802 2185.97 187.205 Q2184.05 185.584 2180.56 185.584 Q2178.33 185.584 2176.23 186.117 Q2174.12 186.649 2172.18 187.714 L2172.18 183.779 Q2174.52 182.876 2176.71 182.436 Q2178.91 181.973 2181 181.973 Q2186.62 181.973 2189.4 184.89 Q2192.18 187.807 2192.18 193.733 Z\" fill=\"#000000\" fill-rule=\"evenodd\" fill-opacity=\"1\" /><path clip-path=\"url(#clip5900)\" d=\"M 0 0 M2215.3 183.594 L2215.3 187.575 Q2213.5 186.58 2211.67 186.094 Q2209.86 185.584 2208.01 185.584 Q2203.87 185.584 2201.58 188.223 Q2199.28 190.839 2199.28 195.584 Q2199.28 200.33 2201.58 202.969 Q2203.87 205.584 2208.01 205.584 Q2209.86 205.584 2211.67 205.098 Q2213.5 204.589 2215.3 203.594 L2215.3 207.529 Q2213.52 208.362 2211.6 208.779 Q2209.7 209.195 2207.55 209.195 Q2201.69 209.195 2198.24 205.515 Q2194.79 201.834 2194.79 195.584 Q2194.79 189.242 2198.27 185.608 Q2201.76 181.973 2207.83 181.973 Q2209.79 181.973 2211.67 182.39 Q2213.54 182.783 2215.3 183.594 Z\" fill=\"#000000\" fill-rule=\"evenodd\" fill-opacity=\"1\" /><path clip-path=\"url(#clip5900)\" d=\"M 0 0 M2223.98 175.237 L2223.98 182.598 L2232.76 182.598 L2232.76 185.908 L2223.98 185.908 L2223.98 199.982 Q2223.98 203.154 2224.84 204.057 Q2225.72 204.959 2228.38 204.959 L2232.76 204.959 L2232.76 208.524 L2228.38 208.524 Q2223.45 208.524 2221.58 206.695 Q2219.7 204.844 2219.7 199.982 L2219.7 185.908 L2216.58 185.908 L2216.58 182.598 L2219.7 182.598 L2219.7 175.237 L2223.98 175.237 Z\" fill=\"#000000\" fill-rule=\"evenodd\" fill-opacity=\"1\" /><polyline clip-path=\"url(#clip5900)\" style=\"stroke:#e26f46; stroke-width:4; stroke-opacity:1; fill:none\" points=\"\n",
       "  1950.66,251.724 2094.66,251.724 \n",
       "  \"/>\n",
       "<path clip-path=\"url(#clip5900)\" d=\"M 0 0 M2118.66 234.444 L2140.51 234.444 L2140.51 238.379 L2123.34 238.379 L2123.34 248.611 L2139.79 248.611 L2139.79 252.546 L2123.34 252.546 L2123.34 265.069 L2140.93 265.069 L2140.93 269.004 L2118.66 269.004 L2118.66 234.444 Z\" fill=\"#000000\" fill-rule=\"evenodd\" fill-opacity=\"1\" /><path clip-path=\"url(#clip5900)\" d=\"M 0 0 M2166.95 243.078 L2157.57 255.694 L2167.43 269.004 L2162.41 269.004 L2154.86 258.819 L2147.32 269.004 L2142.29 269.004 L2152.36 255.439 L2143.15 243.078 L2148.17 243.078 L2155.05 252.314 L2161.92 243.078 L2166.95 243.078 Z\" fill=\"#000000\" fill-rule=\"evenodd\" fill-opacity=\"1\" /><path clip-path=\"url(#clip5900)\" d=\"M 0 0 M2183.68 255.972 Q2178.52 255.972 2176.53 257.152 Q2174.54 258.333 2174.54 261.18 Q2174.54 263.449 2176.02 264.791 Q2177.52 266.111 2180.09 266.111 Q2183.64 266.111 2185.77 263.611 Q2187.92 261.087 2187.92 256.921 L2187.92 255.972 L2183.68 255.972 M2192.18 254.213 L2192.18 269.004 L2187.92 269.004 L2187.92 265.069 Q2186.46 267.43 2184.28 268.564 Q2182.11 269.675 2178.96 269.675 Q2174.98 269.675 2172.62 267.453 Q2170.28 265.208 2170.28 261.458 Q2170.28 257.083 2173.2 254.861 Q2176.14 252.638 2181.95 252.638 L2187.92 252.638 L2187.92 252.222 Q2187.92 249.282 2185.97 247.685 Q2184.05 246.064 2180.56 246.064 Q2178.33 246.064 2176.23 246.597 Q2174.12 247.129 2172.18 248.194 L2172.18 244.259 Q2174.52 243.356 2176.71 242.916 Q2178.91 242.453 2181 242.453 Q2186.62 242.453 2189.4 245.37 Q2192.18 248.287 2192.18 254.213 Z\" fill=\"#000000\" fill-rule=\"evenodd\" fill-opacity=\"1\" /><path clip-path=\"url(#clip5900)\" d=\"M 0 0 M2215.3 244.074 L2215.3 248.055 Q2213.5 247.06 2211.67 246.574 Q2209.86 246.064 2208.01 246.064 Q2203.87 246.064 2201.58 248.703 Q2199.28 251.319 2199.28 256.064 Q2199.28 260.81 2201.58 263.449 Q2203.87 266.064 2208.01 266.064 Q2209.86 266.064 2211.67 265.578 Q2213.5 265.069 2215.3 264.074 L2215.3 268.009 Q2213.52 268.842 2211.6 269.259 Q2209.7 269.675 2207.55 269.675 Q2201.69 269.675 2198.24 265.995 Q2194.79 262.314 2194.79 256.064 Q2194.79 249.722 2198.27 246.088 Q2201.76 242.453 2207.83 242.453 Q2209.79 242.453 2211.67 242.87 Q2213.54 243.263 2215.3 244.074 Z\" fill=\"#000000\" fill-rule=\"evenodd\" fill-opacity=\"1\" /><path clip-path=\"url(#clip5900)\" d=\"M 0 0 M2223.98 235.717 L2223.98 243.078 L2232.76 243.078 L2232.76 246.388 L2223.98 246.388 L2223.98 260.462 Q2223.98 263.634 2224.84 264.537 Q2225.72 265.439 2228.38 265.439 L2232.76 265.439 L2232.76 269.004 L2228.38 269.004 Q2223.45 269.004 2221.58 267.175 Q2219.7 265.324 2219.7 260.462 L2219.7 246.388 L2216.58 246.388 L2216.58 243.078 L2219.7 243.078 L2219.7 235.717 L2223.98 235.717 Z\" fill=\"#000000\" fill-rule=\"evenodd\" fill-opacity=\"1\" /><polyline clip-path=\"url(#clip5900)\" style=\"stroke:#3da44d; stroke-width:4; stroke-opacity:1; fill:none\" points=\"\n",
       "  1950.66,312.204 2094.66,312.204 \n",
       "  \"/>\n",
       "<path clip-path=\"url(#clip5900)\" d=\"M 0 0 M2118.66 294.924 L2140.51 294.924 L2140.51 298.859 L2123.34 298.859 L2123.34 309.091 L2139.79 309.091 L2139.79 313.026 L2123.34 313.026 L2123.34 325.549 L2140.93 325.549 L2140.93 329.484 L2118.66 329.484 L2118.66 294.924 Z\" fill=\"#000000\" fill-rule=\"evenodd\" fill-opacity=\"1\" /><path clip-path=\"url(#clip5900)\" d=\"M 0 0 M2166.95 303.558 L2157.57 316.174 L2167.43 329.484 L2162.41 329.484 L2154.86 319.299 L2147.32 329.484 L2142.29 329.484 L2152.36 315.919 L2143.15 303.558 L2148.17 303.558 L2155.05 312.794 L2161.92 303.558 L2166.95 303.558 Z\" fill=\"#000000\" fill-rule=\"evenodd\" fill-opacity=\"1\" /><path clip-path=\"url(#clip5900)\" d=\"M 0 0 M2183.68 316.452 Q2178.52 316.452 2176.53 317.632 Q2174.54 318.813 2174.54 321.66 Q2174.54 323.929 2176.02 325.271 Q2177.52 326.591 2180.09 326.591 Q2183.64 326.591 2185.77 324.091 Q2187.92 321.567 2187.92 317.401 L2187.92 316.452 L2183.68 316.452 M2192.18 314.693 L2192.18 329.484 L2187.92 329.484 L2187.92 325.549 Q2186.46 327.91 2184.28 329.044 Q2182.11 330.155 2178.96 330.155 Q2174.98 330.155 2172.62 327.933 Q2170.28 325.688 2170.28 321.938 Q2170.28 317.563 2173.2 315.341 Q2176.14 313.118 2181.95 313.118 L2187.92 313.118 L2187.92 312.702 Q2187.92 309.762 2185.97 308.165 Q2184.05 306.544 2180.56 306.544 Q2178.33 306.544 2176.23 307.077 Q2174.12 307.609 2172.18 308.674 L2172.18 304.739 Q2174.52 303.836 2176.71 303.396 Q2178.91 302.933 2181 302.933 Q2186.62 302.933 2189.4 305.85 Q2192.18 308.767 2192.18 314.693 Z\" fill=\"#000000\" fill-rule=\"evenodd\" fill-opacity=\"1\" /><path clip-path=\"url(#clip5900)\" d=\"M 0 0 M2215.3 304.554 L2215.3 308.535 Q2213.5 307.54 2211.67 307.054 Q2209.86 306.544 2208.01 306.544 Q2203.87 306.544 2201.58 309.183 Q2199.28 311.799 2199.28 316.544 Q2199.28 321.29 2201.58 323.929 Q2203.87 326.544 2208.01 326.544 Q2209.86 326.544 2211.67 326.058 Q2213.5 325.549 2215.3 324.554 L2215.3 328.489 Q2213.52 329.322 2211.6 329.739 Q2209.7 330.155 2207.55 330.155 Q2201.69 330.155 2198.24 326.475 Q2194.79 322.794 2194.79 316.544 Q2194.79 310.202 2198.27 306.568 Q2201.76 302.933 2207.83 302.933 Q2209.79 302.933 2211.67 303.35 Q2213.54 303.743 2215.3 304.554 Z\" fill=\"#000000\" fill-rule=\"evenodd\" fill-opacity=\"1\" /><path clip-path=\"url(#clip5900)\" d=\"M 0 0 M2223.98 296.197 L2223.98 303.558 L2232.76 303.558 L2232.76 306.868 L2223.98 306.868 L2223.98 320.942 Q2223.98 324.114 2224.84 325.017 Q2225.72 325.919 2228.38 325.919 L2232.76 325.919 L2232.76 329.484 L2228.38 329.484 Q2223.45 329.484 2221.58 327.655 Q2219.7 325.804 2219.7 320.942 L2219.7 306.868 L2216.58 306.868 L2216.58 303.558 L2219.7 303.558 L2219.7 296.197 L2223.98 296.197 Z\" fill=\"#000000\" fill-rule=\"evenodd\" fill-opacity=\"1\" /></svg>\n"
      ]
     },
     "execution_count": 21,
     "metadata": {},
     "output_type": "execute_result"
    }
   ],
   "source": [
    "plot(vSpace.u, Y[:,25,:], label=\"Exact\")"
   ]
  },
  {
   "cell_type": "code",
   "execution_count": 199,
   "metadata": {},
   "outputs": [
    {
     "data": {
      "text/plain": [
       "36×50 Array{Float32,2}:\n",
       " 0.0          1.7299e-18   1.89053e-18  …  4.88097e-17  4.88119e-17\n",
       " 0.0          5.21038e-17  5.72352e-17     1.69515e-15  1.69522e-15\n",
       " 0.0          1.29123e-15  1.4266e-15      4.91952e-14  4.91972e-14\n",
       " 0.0          2.62526e-14  2.91947e-14     1.19303e-12  1.19307e-12\n",
       " 5.74532e-44  4.363e-13    4.88817e-13     2.41763e-11  2.41771e-11\n",
       " 2.671e-39    5.899e-12    6.66586e-12  …  4.09393e-10  4.09406e-10\n",
       " 6.69376e-35  6.44811e-11  7.35925e-11     5.79301e-9   5.79318e-9 \n",
       " 9.04864e-31  5.65036e-10  6.52481e-10     6.84983e-8   6.85002e-8 \n",
       " 6.59802e-27  3.92314e-9   4.5942e-9       6.76811e-7   6.76829e-7 \n",
       " 2.59514e-23  2.12259e-8   2.52838e-8      5.58815e-6   5.58828e-6 \n",
       " 5.50585e-20  8.73134e-8   1.06231e-7   …  3.8555e-5    3.85558e-5 \n",
       " 6.30094e-17  2.62868e-7   3.28585e-7      0.000222282  0.000222286\n",
       " 3.88959e-14  5.44241e-7   7.05038e-7      0.00107088   0.0010709  \n",
       " ⋮                                      ⋱                          \n",
       " 0.146354     0.146356     0.146358        0.138272     0.138271   \n",
       " 0.029568     0.0295694    0.0295713    …  0.0645251    0.0645246  \n",
       " 0.00322224   0.00322251   0.00322291      0.0251612    0.0251612  \n",
       " 0.000189413  0.000189438  0.000189473     0.00819847   0.00819882 \n",
       " 6.00594e-6   6.007e-6     6.00856e-6      0.00223215   0.00223245 \n",
       " 1.02723e-7   1.02746e-7   1.02781e-7      0.000507792  0.000507956\n",
       " 9.477e-10    9.47967e-10  9.48367e-10  …  9.65162e-5   9.65787e-5 \n",
       " 4.71619e-12  4.71778e-12  4.72018e-12     1.53265e-5   1.53444e-5 \n",
       " 1.26599e-14  1.26649e-14  1.26724e-14     2.03326e-6   2.03718e-6 \n",
       " 1.83309e-17  1.83392e-17  1.83518e-17     2.25333e-7   2.26007e-7 \n",
       " 1.43171e-20  1.43244e-20  1.43357e-20     2.08604e-8   2.0952e-8  \n",
       " 6.03176e-24  6.03521e-24  6.04052e-24  …  1.61312e-9   1.62309e-9 "
      ]
     },
     "execution_count": 199,
     "metadata": {},
     "output_type": "execute_result"
    }
   ],
   "source": [
    "X"
   ]
  },
  {
   "cell_type": "code",
   "execution_count": null,
   "metadata": {},
   "outputs": [],
   "source": []
  }
 ],
 "metadata": {
  "kernelspec": {
   "display_name": "Julia 1.3.1",
   "language": "julia",
   "name": "julia-1.3"
  },
  "language_info": {
   "file_extension": ".jl",
   "mimetype": "application/julia",
   "name": "julia",
   "version": "1.3.1"
  }
 },
 "nbformat": 4,
 "nbformat_minor": 4
}
