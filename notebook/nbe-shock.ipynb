{
 "cells": [
  {
   "cell_type": "code",
   "execution_count": 1,
   "metadata": {},
   "outputs": [
    {
     "name": "stderr",
     "output_type": "stream",
     "text": [
      "┌ Info: Precompiling Revise [295af30f-e4ad-537b-8983-00126c2a3abe]\n",
      "└ @ Base loading.jl:1273\n",
      "┌ Info: Precompiling DifferentialEquations [0c46a032-eb83-5123-abaf-570d42b7fbaa]\n",
      "└ @ Base loading.jl:1273\n",
      "┌ Info: Precompiling Flux [587475ba-b771-5e3f-ad9e-33799f191a9c]\n",
      "└ @ Base loading.jl:1273\n",
      "┌ Info: Precompiling DiffEqFlux [aae7a2af-3d4f-5e19-a356-7da93b79d9d0]\n",
      "└ @ Base loading.jl:1273\n",
      "┌ Info: Precompiling Plots [91a5bcdd-55d7-5caf-9e0b-520d859cae80]\n",
      "└ @ Base loading.jl:1273\n",
      "┌ Info: Precompiling JLD2 [033835bb-8acc-5ee8-8aae-3f567f8a3819]\n",
      "└ @ Base loading.jl:1273\n",
      "┌ Info: Precompiling Kinetic [82403725-3cee-4f7c-b214-1ce71af4a797]\n",
      "└ @ Base loading.jl:1273\n"
     ]
    }
   ],
   "source": [
    "using Revise\n",
    "using DifferentialEquations\n",
    "using Flux\n",
    "using DiffEqFlux\n",
    "using Optim\n",
    "using Plots\n",
    "using FileIO\n",
    "using JLD2\n",
    "using OffsetArrays\n",
    "using Kinetic"
   ]
  },
  {
   "cell_type": "code",
   "execution_count": 2,
   "metadata": {},
   "outputs": [
    {
     "data": {
      "text/plain": [
       "bgk! (generic function with 1 method)"
      ]
     },
     "execution_count": 2,
     "metadata": {},
     "output_type": "execute_result"
    }
   ],
   "source": [
    "function bgk!(df, f, p, t)\n",
    "    g, tau = p\n",
    "    df .= (g .- f) ./ tau\n",
    "end"
   ]
  },
  {
   "cell_type": "code",
   "execution_count": 21,
   "metadata": {},
   "outputs": [
    {
     "name": "stdout",
     "output_type": "stream",
     "text": [
      "case = shock\n",
      "space = 1d1f1v\n",
      "nSpecies = 1\n",
      "interpOrder = 1\n",
      "limiter = vanleer\n",
      "cfl = 0.95\n",
      "maxTime = 250.0\n",
      "x0 = -25.0\n",
      "x1 = 25.0\n",
      "nx = 50\n",
      "pMeshType = uniform\n",
      "nxg = 0\n",
      "umin = -10.0\n",
      "umax = 10.0\n",
      "nu = 36\n",
      "nug = 0\n",
      "vMeshType = rectangle\n",
      "knudsen = 1.0\n",
      "mach = 2.0\n",
      "prandtl = 1.0\n",
      "inK = 0.0\n",
      "omega = 0.5\n",
      "alphaRef = 1.0\n",
      "omegaRef = 0.5\n",
      "tLen = 3\n",
      "nh = 12\n",
      "\n"
     ]
    }
   ],
   "source": [
    "D = read_dict(\"../code/shock/shock1D.txt\")\n",
    "for key in keys(D)\n",
    "    s = Symbol(key)\n",
    "    @eval $s = $(D[key])\n",
    "end"
   ]
  },
  {
   "cell_type": "code",
   "execution_count": 22,
   "metadata": {},
   "outputs": [],
   "source": [
    "γ = 3.\n",
    "set = Setup(case, space, nSpecies, interpOrder, limiter, cfl, maxTime)\n",
    "pSpace = PSpace1D(x0, x1, nx, pMeshType, nxg)\n",
    "μᵣ = ref_vhs_vis(knudsen, alphaRef, omegaRef)\n",
    "gas = GasProperty(knudsen, mach, prandtl, inK, γ, omega, alphaRef, omegaRef, μᵣ)\n",
    "vSpace = VSpace1D(umin, umax, nu, vMeshType, nug)\n",
    "wL, primL, fL, bcL, wR, primR, fR, bcR = ib_rh(mach, γ, vSpace.u)\n",
    "ib = IB1D1F(wL, primL, fL, bcL, wR, primR, fR, bcR)\n",
    "\n",
    "ks = SolverSet(set, pSpace, vSpace, gas, ib, pwd());"
   ]
  },
  {
   "cell_type": "code",
   "execution_count": 208,
   "metadata": {},
   "outputs": [],
   "source": [
    "ctr = OffsetArray{ControlVolume1D1F}(undef, eachindex(ks.pSpace.x))\n",
    "face = Array{Interface1D1F}(undef, ks.pSpace.nx+1)\n",
    "for i in eachindex(ctr)\n",
    "    if i <= ks.pSpace.nx÷2\n",
    "        ctr[i] = ControlVolume1D1F(ks.pSpace.x[i], ks.pSpace.dx[i], Float32.(ks.ib.wL), Float32.(ks.ib.primL), Float32.(ks.ib.fL))\n",
    "    else\n",
    "        ctr[i] = ControlVolume1D1F(ks.pSpace.x[i], ks.pSpace.dx[i], Float32.(ks.ib.wR), Float32.(ks.ib.primR), Float32.(ks.ib.fR))\n",
    "    end\n",
    "end\n",
    "for i=1:ks.pSpace.nx+1\n",
    "    face[i] = Interface1D1F(ks.ib.wL, ks.ib.fL)\n",
    "end"
   ]
  },
  {
   "cell_type": "code",
   "execution_count": 209,
   "metadata": {},
   "outputs": [
    {
     "data": {
      "text/plain": [
       "0.0f0:0.03870998f0:0.07741996f0"
      ]
     },
     "execution_count": 209,
     "metadata": {},
     "output_type": "execute_result"
    }
   ],
   "source": [
    "sos = sound_speed(ks.ib.primR, γ)\n",
    "vmax = ks.vSpace.u1 + sos\n",
    "tmax = vmax / ks.pSpace.dx[1]\n",
    "dt = Float32(ks.set.cfl / tmax)\n",
    "tSpan = (0.f0, dt)\n",
    "tRan = range(tSpan[1], tSpan[2], length=tLen)"
   ]
  },
  {
   "cell_type": "code",
   "execution_count": 211,
   "metadata": {},
   "outputs": [],
   "source": [
    "residual = Array{Float32}(undef, 3)\n",
    "for iter=1:1000\n",
    "    Kinetic.evolve!(ks, ctr, face, dt)\n",
    "    Kinetic.update!(ks, ctr, face, dt, residual)\n",
    "end"
   ]
  },
  {
   "cell_type": "code",
   "execution_count": 212,
   "metadata": {},
   "outputs": [],
   "source": [
    "X = Array{Float32}(undef, nu, nx);\n",
    "for i in 1:nx\n",
    "    X[:,i] .= ctr[i].f\n",
    "end"
   ]
  },
  {
   "cell_type": "code",
   "execution_count": 213,
   "metadata": {},
   "outputs": [],
   "source": [
    "M = Array{Float32}(undef, nu, nx)\n",
    "τ = Array{Float32}(undef, 1, nx)\n",
    "for i=1:nx\n",
    "    M[:,i] .= maxwellian(ks.vSpace.u, ctr[i].prim)\n",
    "    τ[1,i] = vhs_collision_time(ctr[i].prim, ks.gas.μᵣ, ks.gas.ω)\n",
    "end\n",
    "\n",
    "data_para = [M, τ];"
   ]
  },
  {
   "cell_type": "code",
   "execution_count": 214,
   "metadata": {},
   "outputs": [],
   "source": [
    "prob = ODEProblem(bgk!, X, tSpan, data_para)\n",
    "Y = solve(prob, Tsit5(), saveat=tRan) |> Array;"
   ]
  },
  {
   "cell_type": "code",
   "execution_count": null,
   "metadata": {},
   "outputs": [],
   "source": []
  },
  {
   "cell_type": "code",
   "execution_count": 215,
   "metadata": {
    "scrolled": true
   },
   "outputs": [],
   "source": [
    "dudt = FastChain( (x, p) -> x.^2,\n",
    "                   FastDense(vSpace.nu, vSpace.nu*16, tanh),\n",
    "                   #FastDense(vSpace.nu*16, vSpace.nu*16, tanh),\n",
    "                   FastDense(vSpace.nu*16, vSpace.nu) )\n",
    "node = NeuralODE(dudt, tSpan, Tsit5(), saveat=tRan);"
   ]
  },
  {
   "cell_type": "code",
   "execution_count": 216,
   "metadata": {},
   "outputs": [
    {
     "data": {
      "text/plain": [
       "loss_node (generic function with 1 method)"
      ]
     },
     "execution_count": 216,
     "metadata": {},
     "output_type": "execute_result"
    }
   ],
   "source": [
    "function loss_node(p) # without dataset\n",
    "    diff = Array(node(X, p)) .- Y\n",
    "    loss = sum(abs2, diff)\n",
    "    return loss\n",
    "end"
   ]
  },
  {
   "cell_type": "code",
   "execution_count": 217,
   "metadata": {},
   "outputs": [
    {
     "data": {
      "text/plain": [
       "#19 (generic function with 1 method)"
      ]
     },
     "execution_count": 217,
     "metadata": {},
     "output_type": "execute_result"
    }
   ],
   "source": [
    "cb = function (p, l)\n",
    "    display(l)\n",
    "    return false\n",
    "end"
   ]
  },
  {
   "cell_type": "code",
   "execution_count": 33,
   "metadata": {
    "scrolled": true
   },
   "outputs": [
    {
     "data": {
      "text/plain": [
       "2.2899375f0"
      ]
     },
     "metadata": {},
     "output_type": "display_data"
    },
    {
     "name": "stderr",
     "output_type": "stream",
     "text": [
      "\r",
      "\u001b[32mloss: 2.29:   0%|▎                                        |  ETA: 0:26:02\u001b[39m"
     ]
    },
    {
     "data": {
      "text/plain": [
       "1.5200129f0"
      ]
     },
     "metadata": {},
     "output_type": "display_data"
    },
    {
     "name": "stderr",
     "output_type": "stream",
     "text": [
      "\r",
      "\u001b[32mloss: 1.52:   1%|▍                                        |  ETA: 0:14:49\u001b[39m"
     ]
    },
    {
     "data": {
      "text/plain": [
       "1.4683578f0"
      ]
     },
     "metadata": {},
     "output_type": "display_data"
    },
    {
     "name": "stderr",
     "output_type": "stream",
     "text": [
      "\r",
      "\u001b[32mloss: 1.47:   2%|▋                                        |  ETA: 0:11:14\u001b[39m"
     ]
    },
    {
     "data": {
      "text/plain": [
       "1.4390385f0"
      ]
     },
     "metadata": {},
     "output_type": "display_data"
    },
    {
     "name": "stderr",
     "output_type": "stream",
     "text": [
      "\r",
      "\u001b[32mloss: 1.44:   2%|▉                                        |  ETA: 0:09:16\u001b[39m"
     ]
    },
    {
     "data": {
      "text/plain": [
       "1.3969768f0"
      ]
     },
     "metadata": {},
     "output_type": "display_data"
    },
    {
     "name": "stderr",
     "output_type": "stream",
     "text": [
      "\r",
      "\u001b[32mloss: 1.4:   2%|█                                        |  ETA: 0:08:07\u001b[39m"
     ]
    },
    {
     "data": {
      "text/plain": [
       "1.1843077f0"
      ]
     },
     "metadata": {},
     "output_type": "display_data"
    },
    {
     "name": "stderr",
     "output_type": "stream",
     "text": [
      "\r",
      "\u001b[32mloss: 1.18:   3%|█▎                                       |  ETA: 0:07:28\u001b[39m"
     ]
    },
    {
     "data": {
      "text/plain": [
       "1.0778198f0"
      ]
     },
     "metadata": {},
     "output_type": "display_data"
    },
    {
     "name": "stderr",
     "output_type": "stream",
     "text": [
      "\r",
      "\u001b[32mloss: 1.08:   4%|█▍                                       |  ETA: 0:06:46\u001b[39m"
     ]
    },
    {
     "data": {
      "text/plain": [
       "1.0661348f0"
      ]
     },
     "metadata": {},
     "output_type": "display_data"
    },
    {
     "name": "stderr",
     "output_type": "stream",
     "text": [
      "\r",
      "\u001b[32mloss: 1.07:   4%|█▋                                       |  ETA: 0:06:22\u001b[39m"
     ]
    },
    {
     "data": {
      "text/plain": [
       "1.0304452f0"
      ]
     },
     "metadata": {},
     "output_type": "display_data"
    },
    {
     "name": "stderr",
     "output_type": "stream",
     "text": [
      "\r",
      "\u001b[32mloss: 1.03:   4%|█▉                                       |  ETA: 0:06:07\u001b[39m"
     ]
    },
    {
     "data": {
      "text/plain": [
       "1.0063422f0"
      ]
     },
     "metadata": {},
     "output_type": "display_data"
    },
    {
     "name": "stderr",
     "output_type": "stream",
     "text": [
      "\r",
      "\u001b[32mloss: 1.01:   5%|██                                       |  ETA: 0:05:52\u001b[39m"
     ]
    },
    {
     "data": {
      "text/plain": [
       "0.9620857f0"
      ]
     },
     "metadata": {},
     "output_type": "display_data"
    },
    {
     "name": "stderr",
     "output_type": "stream",
     "text": [
      "\r",
      "\u001b[32mloss: 0.962:   6%|██▎                                      |  ETA: 0:05:44\u001b[39m"
     ]
    },
    {
     "data": {
      "text/plain": [
       "0.9039452f0"
      ]
     },
     "metadata": {},
     "output_type": "display_data"
    },
    {
     "name": "stderr",
     "output_type": "stream",
     "text": [
      "\r",
      "\u001b[32mloss: 0.904:   6%|██▌                                      |  ETA: 0:05:33\u001b[39m"
     ]
    },
    {
     "data": {
      "text/plain": [
       "0.8622341f0"
      ]
     },
     "metadata": {},
     "output_type": "display_data"
    },
    {
     "name": "stderr",
     "output_type": "stream",
     "text": [
      "\r",
      "\u001b[32mloss: 0.862:   6%|██▋                                      |  ETA: 0:05:24\u001b[39m"
     ]
    },
    {
     "data": {
      "text/plain": [
       "0.84640914f0"
      ]
     },
     "metadata": {},
     "output_type": "display_data"
    },
    {
     "name": "stderr",
     "output_type": "stream",
     "text": [
      "\r",
      "\u001b[32mloss: 0.846:   7%|██▉                                      |  ETA: 0:05:15\u001b[39m"
     ]
    },
    {
     "data": {
      "text/plain": [
       "0.8196398f0"
      ]
     },
     "metadata": {},
     "output_type": "display_data"
    },
    {
     "name": "stderr",
     "output_type": "stream",
     "text": [
      "\r",
      "\u001b[32mloss: 0.82:   8%|███▏                                     |  ETA: 0:05:04\u001b[39m"
     ]
    },
    {
     "data": {
      "text/plain": [
       "0.86399436f0"
      ]
     },
     "metadata": {},
     "output_type": "display_data"
    },
    {
     "name": "stderr",
     "output_type": "stream",
     "text": [
      "\r",
      "\u001b[32mloss: 0.864:   8%|███▎                                     |  ETA: 0:04:54\u001b[39m"
     ]
    },
    {
     "data": {
      "text/plain": [
       "0.8731111f0"
      ]
     },
     "metadata": {},
     "output_type": "display_data"
    },
    {
     "name": "stderr",
     "output_type": "stream",
     "text": [
      "\r",
      "\u001b[32mloss: 0.873:   8%|███▌                                     |  ETA: 0:04:47\u001b[39m"
     ]
    },
    {
     "data": {
      "text/plain": [
       "0.81295586f0"
      ]
     },
     "metadata": {},
     "output_type": "display_data"
    },
    {
     "name": "stderr",
     "output_type": "stream",
     "text": [
      "\r",
      "\u001b[32mloss: 0.813:   9%|███▊                                     |  ETA: 0:04:44\u001b[39m"
     ]
    },
    {
     "data": {
      "text/plain": [
       "0.74908453f0"
      ]
     },
     "metadata": {},
     "output_type": "display_data"
    },
    {
     "name": "stderr",
     "output_type": "stream",
     "text": [
      "\r",
      "\u001b[32mloss: 0.749:  10%|███▉                                     |  ETA: 0:04:37\u001b[39m"
     ]
    },
    {
     "data": {
      "text/plain": [
       "0.7216586f0"
      ]
     },
     "metadata": {},
     "output_type": "display_data"
    },
    {
     "name": "stderr",
     "output_type": "stream",
     "text": [
      "\r",
      "\u001b[32mloss: 0.722:  10%|████▏                                    |  ETA: 0:04:31\u001b[39m"
     ]
    },
    {
     "data": {
      "text/plain": [
       "0.7248695f0"
      ]
     },
     "metadata": {},
     "output_type": "display_data"
    },
    {
     "name": "stderr",
     "output_type": "stream",
     "text": [
      "\r",
      "\u001b[32mloss: 0.725:  10%|████▎                                    |  ETA: 0:04:24\u001b[39m"
     ]
    },
    {
     "data": {
      "text/plain": [
       "0.7321785f0"
      ]
     },
     "metadata": {},
     "output_type": "display_data"
    },
    {
     "name": "stderr",
     "output_type": "stream",
     "text": [
      "\r",
      "\u001b[32mloss: 0.732:  11%|████▌                                    |  ETA: 0:04:19\u001b[39m"
     ]
    },
    {
     "data": {
      "text/plain": [
       "0.71817493f0"
      ]
     },
     "metadata": {},
     "output_type": "display_data"
    },
    {
     "name": "stderr",
     "output_type": "stream",
     "text": [
      "\r",
      "\u001b[32mloss: 0.718:  12%|████▊                                    |  ETA: 0:04:14\u001b[39m"
     ]
    },
    {
     "data": {
      "text/plain": [
       "0.6642418f0"
      ]
     },
     "metadata": {},
     "output_type": "display_data"
    },
    {
     "name": "stderr",
     "output_type": "stream",
     "text": [
      "\r",
      "\u001b[32mloss: 0.664:  12%|████▉                                    |  ETA: 0:04:10\u001b[39m"
     ]
    },
    {
     "data": {
      "text/plain": [
       "0.64420533f0"
      ]
     },
     "metadata": {},
     "output_type": "display_data"
    },
    {
     "name": "stderr",
     "output_type": "stream",
     "text": [
      "\r",
      "\u001b[32mloss: 0.644:  12%|█████▏                                   |  ETA: 0:04:05\u001b[39m"
     ]
    },
    {
     "data": {
      "text/plain": [
       "0.6619997f0"
      ]
     },
     "metadata": {},
     "output_type": "display_data"
    },
    {
     "name": "stderr",
     "output_type": "stream",
     "text": [
      "\r",
      "\u001b[32mloss: 0.662:  13%|█████▍                                   |  ETA: 0:04:01\u001b[39m"
     ]
    },
    {
     "data": {
      "text/plain": [
       "0.6564271f0"
      ]
     },
     "metadata": {},
     "output_type": "display_data"
    },
    {
     "name": "stderr",
     "output_type": "stream",
     "text": [
      "\r",
      "\u001b[32mloss: 0.656:  14%|█████▌                                   |  ETA: 0:03:59\u001b[39m"
     ]
    },
    {
     "data": {
      "text/plain": [
       "0.6100143f0"
      ]
     },
     "metadata": {},
     "output_type": "display_data"
    },
    {
     "name": "stderr",
     "output_type": "stream",
     "text": [
      "\r",
      "\u001b[32mloss: 0.61:  14%|█████▊                                   |  ETA: 0:03:55\u001b[39m"
     ]
    },
    {
     "data": {
      "text/plain": [
       "0.5886382f0"
      ]
     },
     "metadata": {},
     "output_type": "display_data"
    },
    {
     "name": "stderr",
     "output_type": "stream",
     "text": [
      "\r",
      "\u001b[32mloss: 0.589:  14%|██████                                   |  ETA: 0:03:52\u001b[39m"
     ]
    },
    {
     "data": {
      "text/plain": [
       "0.6120976f0"
      ]
     },
     "metadata": {},
     "output_type": "display_data"
    },
    {
     "name": "stderr",
     "output_type": "stream",
     "text": [
      "\r",
      "\u001b[32mloss: 0.612:  15%|██████▏                                  |  ETA: 0:03:50\u001b[39m"
     ]
    },
    {
     "data": {
      "text/plain": [
       "0.59976727f0"
      ]
     },
     "metadata": {},
     "output_type": "display_data"
    },
    {
     "name": "stderr",
     "output_type": "stream",
     "text": [
      "\r",
      "\u001b[32mloss: 0.6:  16%|██████▍                                  |  ETA: 0:03:46\u001b[39m"
     ]
    },
    {
     "data": {
      "text/plain": [
       "0.59014475f0"
      ]
     },
     "metadata": {},
     "output_type": "display_data"
    },
    {
     "name": "stderr",
     "output_type": "stream",
     "text": [
      "\r",
      "\u001b[32mloss: 0.59:  16%|██████▌                                  |  ETA: 0:03:43\u001b[39m"
     ]
    },
    {
     "data": {
      "text/plain": [
       "0.6094946f0"
      ]
     },
     "metadata": {},
     "output_type": "display_data"
    },
    {
     "name": "stderr",
     "output_type": "stream",
     "text": [
      "\r",
      "\u001b[32mloss: 0.609:  16%|██████▊                                  |  ETA: 0:03:40\u001b[39m"
     ]
    },
    {
     "data": {
      "text/plain": [
       "0.60477257f0"
      ]
     },
     "metadata": {},
     "output_type": "display_data"
    },
    {
     "name": "stderr",
     "output_type": "stream",
     "text": [
      "\r",
      "\u001b[32mloss: 0.605:  17%|███████                                  |  ETA: 0:03:37\u001b[39m"
     ]
    },
    {
     "data": {
      "text/plain": [
       "0.5601058f0"
      ]
     },
     "metadata": {},
     "output_type": "display_data"
    },
    {
     "name": "stderr",
     "output_type": "stream",
     "text": [
      "\r",
      "\u001b[32mloss: 0.56:  18%|███████▏                                 |  ETA: 0:03:34\u001b[39m"
     ]
    },
    {
     "data": {
      "text/plain": [
       "0.5965012f0"
      ]
     },
     "metadata": {},
     "output_type": "display_data"
    },
    {
     "name": "stderr",
     "output_type": "stream",
     "text": [
      "\r",
      "\u001b[32mloss: 0.597:  18%|███████▍                                 |  ETA: 0:03:33\u001b[39m"
     ]
    },
    {
     "data": {
      "text/plain": [
       "0.59579974f0"
      ]
     },
     "metadata": {},
     "output_type": "display_data"
    },
    {
     "name": "stderr",
     "output_type": "stream",
     "text": [
      "\r",
      "\u001b[32mloss: 0.596:  18%|███████▋                                 |  ETA: 0:03:31\u001b[39m"
     ]
    },
    {
     "data": {
      "text/plain": [
       "0.5785385f0"
      ]
     },
     "metadata": {},
     "output_type": "display_data"
    },
    {
     "name": "stderr",
     "output_type": "stream",
     "text": [
      "\r",
      "\u001b[32mloss: 0.579:  19%|███████▊                                 |  ETA: 0:03:29\u001b[39m"
     ]
    },
    {
     "data": {
      "text/plain": [
       "0.5842124f0"
      ]
     },
     "metadata": {},
     "output_type": "display_data"
    },
    {
     "name": "stderr",
     "output_type": "stream",
     "text": [
      "\r",
      "\u001b[32mloss: 0.584:  20%|████████                                 |  ETA: 0:03:27\u001b[39m"
     ]
    },
    {
     "data": {
      "text/plain": [
       "0.59396946f0"
      ]
     },
     "metadata": {},
     "output_type": "display_data"
    },
    {
     "name": "stderr",
     "output_type": "stream",
     "text": [
      "\r",
      "\u001b[32mloss: 0.594:  20%|████████▎                                |  ETA: 0:03:26\u001b[39m"
     ]
    },
    {
     "data": {
      "text/plain": [
       "0.59360963f0"
      ]
     },
     "metadata": {},
     "output_type": "display_data"
    },
    {
     "name": "stderr",
     "output_type": "stream",
     "text": [
      "\r",
      "\u001b[32mloss: 0.594:  20%|████████▍                                |  ETA: 0:03:24\u001b[39m"
     ]
    },
    {
     "data": {
      "text/plain": [
       "0.574221f0"
      ]
     },
     "metadata": {},
     "output_type": "display_data"
    },
    {
     "name": "stderr",
     "output_type": "stream",
     "text": [
      "\r",
      "\u001b[32mloss: 0.574:  21%|████████▋                                |  ETA: 0:03:21\u001b[39m"
     ]
    },
    {
     "data": {
      "text/plain": [
       "0.57344705f0"
      ]
     },
     "metadata": {},
     "output_type": "display_data"
    },
    {
     "name": "stderr",
     "output_type": "stream",
     "text": [
      "\r",
      "\u001b[32mloss: 0.573:  22%|████████▉                                |  ETA: 0:03:20\u001b[39m"
     ]
    },
    {
     "data": {
      "text/plain": [
       "0.5598001f0"
      ]
     },
     "metadata": {},
     "output_type": "display_data"
    },
    {
     "name": "stderr",
     "output_type": "stream",
     "text": [
      "\r",
      "\u001b[32mloss: 0.56:  22%|█████████                                |  ETA: 0:03:18\u001b[39m"
     ]
    },
    {
     "data": {
      "text/plain": [
       "0.5697917f0"
      ]
     },
     "metadata": {},
     "output_type": "display_data"
    },
    {
     "name": "stderr",
     "output_type": "stream",
     "text": [
      "\r",
      "\u001b[32mloss: 0.57:  22%|█████████▎                               |  ETA: 0:03:17\u001b[39m"
     ]
    },
    {
     "data": {
      "text/plain": [
       "0.5710176f0"
      ]
     },
     "metadata": {},
     "output_type": "display_data"
    },
    {
     "name": "stderr",
     "output_type": "stream",
     "text": [
      "\r",
      "\u001b[32mloss: 0.571:  23%|█████████▍                               |  ETA: 0:03:15\u001b[39m"
     ]
    },
    {
     "data": {
      "text/plain": [
       "0.58242685f0"
      ]
     },
     "metadata": {},
     "output_type": "display_data"
    },
    {
     "name": "stderr",
     "output_type": "stream",
     "text": [
      "\r",
      "\u001b[32mloss: 0.582:  24%|█████████▋                               |  ETA: 0:03:14\u001b[39m"
     ]
    },
    {
     "data": {
      "text/plain": [
       "0.5705024f0"
      ]
     },
     "metadata": {},
     "output_type": "display_data"
    },
    {
     "name": "stderr",
     "output_type": "stream",
     "text": [
      "\r",
      "\u001b[32mloss: 0.571:  24%|█████████▉                               |  ETA: 0:03:12\u001b[39m"
     ]
    },
    {
     "data": {
      "text/plain": [
       "0.57480437f0"
      ]
     },
     "metadata": {},
     "output_type": "display_data"
    },
    {
     "name": "stderr",
     "output_type": "stream",
     "text": [
      "\r",
      "\u001b[32mloss: 0.575:  24%|██████████                               |  ETA: 0:03:11\u001b[39m"
     ]
    },
    {
     "data": {
      "text/plain": [
       "0.5783436f0"
      ]
     },
     "metadata": {},
     "output_type": "display_data"
    },
    {
     "name": "stderr",
     "output_type": "stream",
     "text": [
      "\r",
      "\u001b[32mloss: 0.578:  25%|██████████▎                              |  ETA: 0:03:09\u001b[39m"
     ]
    },
    {
     "data": {
      "text/plain": [
       "0.5753569f0"
      ]
     },
     "metadata": {},
     "output_type": "display_data"
    },
    {
     "name": "stderr",
     "output_type": "stream",
     "text": [
      "\r",
      "\u001b[32mloss: 0.575:  26%|██████████▌                              |  ETA: 0:03:07\u001b[39m"
     ]
    },
    {
     "data": {
      "text/plain": [
       "0.5471668f0"
      ]
     },
     "metadata": {},
     "output_type": "display_data"
    },
    {
     "name": "stderr",
     "output_type": "stream",
     "text": [
      "\r",
      "\u001b[32mloss: 0.547:  26%|██████████▋                              |  ETA: 0:03:07\u001b[39m"
     ]
    },
    {
     "data": {
      "text/plain": [
       "0.5444172f0"
      ]
     },
     "metadata": {},
     "output_type": "display_data"
    },
    {
     "name": "stderr",
     "output_type": "stream",
     "text": [
      "\r",
      "\u001b[32mloss: 0.544:  26%|██████████▉                              |  ETA: 0:03:06\u001b[39m"
     ]
    },
    {
     "data": {
      "text/plain": [
       "0.5784887f0"
      ]
     },
     "metadata": {},
     "output_type": "display_data"
    },
    {
     "name": "stderr",
     "output_type": "stream",
     "text": [
      "\r",
      "\u001b[32mloss: 0.578:  27%|███████████▏                             |  ETA: 0:03:05\u001b[39m"
     ]
    },
    {
     "data": {
      "text/plain": [
       "0.5426737f0"
      ]
     },
     "metadata": {},
     "output_type": "display_data"
    },
    {
     "name": "stderr",
     "output_type": "stream",
     "text": [
      "\r",
      "\u001b[32mloss: 0.543:  28%|███████████▎                             |  ETA: 0:03:04\u001b[39m"
     ]
    },
    {
     "data": {
      "text/plain": [
       "0.5300423f0"
      ]
     },
     "metadata": {},
     "output_type": "display_data"
    },
    {
     "name": "stderr",
     "output_type": "stream",
     "text": [
      "\r",
      "\u001b[32mloss: 0.53:  28%|███████████▌                             |  ETA: 0:03:03\u001b[39m"
     ]
    },
    {
     "data": {
      "text/plain": [
       "0.5447294f0"
      ]
     },
     "metadata": {},
     "output_type": "display_data"
    },
    {
     "name": "stderr",
     "output_type": "stream",
     "text": [
      "\r",
      "\u001b[32mloss: 0.545:  28%|███████████▋                             |  ETA: 0:03:01\u001b[39m"
     ]
    },
    {
     "data": {
      "text/plain": [
       "0.56988174f0"
      ]
     },
     "metadata": {},
     "output_type": "display_data"
    },
    {
     "name": "stderr",
     "output_type": "stream",
     "text": [
      "\r",
      "\u001b[32mloss: 0.57:  29%|███████████▉                             |  ETA: 0:03:00\u001b[39m"
     ]
    },
    {
     "data": {
      "text/plain": [
       "0.52796626f0"
      ]
     },
     "metadata": {},
     "output_type": "display_data"
    },
    {
     "name": "stderr",
     "output_type": "stream",
     "text": [
      "\r",
      "\u001b[32mloss: 0.528:  30%|████████████▏                            |  ETA: 0:02:58\u001b[39m"
     ]
    },
    {
     "data": {
      "text/plain": [
       "0.53013134f0"
      ]
     },
     "metadata": {},
     "output_type": "display_data"
    },
    {
     "name": "stderr",
     "output_type": "stream",
     "text": [
      "\r",
      "\u001b[32mloss: 0.53:  30%|████████████▎                            |  ETA: 0:02:56\u001b[39m"
     ]
    },
    {
     "data": {
      "text/plain": [
       "0.5322738f0"
      ]
     },
     "metadata": {},
     "output_type": "display_data"
    },
    {
     "name": "stderr",
     "output_type": "stream",
     "text": [
      "\r",
      "\u001b[32mloss: 0.532:  30%|████████████▌                            |  ETA: 0:02:55\u001b[39m"
     ]
    },
    {
     "data": {
      "text/plain": [
       "0.5486023f0"
      ]
     },
     "metadata": {},
     "output_type": "display_data"
    },
    {
     "name": "stderr",
     "output_type": "stream",
     "text": [
      "\r",
      "\u001b[32mloss: 0.549:  31%|████████████▊                            |  ETA: 0:02:53\u001b[39m"
     ]
    },
    {
     "data": {
      "text/plain": [
       "0.56375617f0"
      ]
     },
     "metadata": {},
     "output_type": "display_data"
    },
    {
     "name": "stderr",
     "output_type": "stream",
     "text": [
      "\r",
      "\u001b[32mloss: 0.564:  32%|████████████▉                            |  ETA: 0:02:51\u001b[39m"
     ]
    },
    {
     "data": {
      "text/plain": [
       "0.5498135f0"
      ]
     },
     "metadata": {},
     "output_type": "display_data"
    },
    {
     "name": "stderr",
     "output_type": "stream",
     "text": [
      "\r",
      "\u001b[32mloss: 0.55:  32%|█████████████▏                           |  ETA: 0:02:50\u001b[39m"
     ]
    },
    {
     "data": {
      "text/plain": [
       "0.52906734f0"
      ]
     },
     "metadata": {},
     "output_type": "display_data"
    },
    {
     "name": "stderr",
     "output_type": "stream",
     "text": [
      "\r",
      "\u001b[32mloss: 0.529:  32%|█████████████▍                           |  ETA: 0:02:48\u001b[39m"
     ]
    },
    {
     "data": {
      "text/plain": [
       "0.5351287f0"
      ]
     },
     "metadata": {},
     "output_type": "display_data"
    },
    {
     "name": "stderr",
     "output_type": "stream",
     "text": [
      "\r",
      "\u001b[32mloss: 0.535:  33%|█████████████▌                           |  ETA: 0:02:47\u001b[39m"
     ]
    },
    {
     "data": {
      "text/plain": [
       "0.55332273f0"
      ]
     },
     "metadata": {},
     "output_type": "display_data"
    },
    {
     "name": "stderr",
     "output_type": "stream",
     "text": [
      "\r",
      "\u001b[32mloss: 0.553:  34%|█████████████▊                           |  ETA: 0:02:46\u001b[39m"
     ]
    },
    {
     "data": {
      "text/plain": [
       "0.5135184f0"
      ]
     },
     "metadata": {},
     "output_type": "display_data"
    },
    {
     "name": "stderr",
     "output_type": "stream",
     "text": [
      "\r",
      "\u001b[32mloss: 0.514:  34%|██████████████                           |  ETA: 0:02:44\u001b[39m"
     ]
    },
    {
     "data": {
      "text/plain": [
       "0.51502526f0"
      ]
     },
     "metadata": {},
     "output_type": "display_data"
    },
    {
     "name": "stderr",
     "output_type": "stream",
     "text": [
      "\r",
      "\u001b[32mloss: 0.515:  34%|██████████████▏                          |  ETA: 0:02:43\u001b[39m"
     ]
    },
    {
     "data": {
      "text/plain": [
       "0.52163434f0"
      ]
     },
     "metadata": {},
     "output_type": "display_data"
    },
    {
     "name": "stderr",
     "output_type": "stream",
     "text": [
      "\r",
      "\u001b[32mloss: 0.522:  35%|██████████████▍                          |  ETA: 0:02:42\u001b[39m"
     ]
    },
    {
     "data": {
      "text/plain": [
       "0.5308182f0"
      ]
     },
     "metadata": {},
     "output_type": "display_data"
    },
    {
     "name": "stderr",
     "output_type": "stream",
     "text": [
      "\r",
      "\u001b[32mloss: 0.531:  36%|██████████████▌                          |  ETA: 0:02:41\u001b[39m"
     ]
    },
    {
     "data": {
      "text/plain": [
       "0.515435f0"
      ]
     },
     "metadata": {},
     "output_type": "display_data"
    },
    {
     "name": "stderr",
     "output_type": "stream",
     "text": [
      "\r",
      "\u001b[32mloss: 0.515:  36%|██████████████▊                          |  ETA: 0:02:39\u001b[39m"
     ]
    },
    {
     "data": {
      "text/plain": [
       "0.485996f0"
      ]
     },
     "metadata": {},
     "output_type": "display_data"
    },
    {
     "name": "stderr",
     "output_type": "stream",
     "text": [
      "\r",
      "\u001b[32mloss: 0.486:  36%|███████████████                          |  ETA: 0:02:38\u001b[39m"
     ]
    },
    {
     "data": {
      "text/plain": [
       "0.4991287f0"
      ]
     },
     "metadata": {},
     "output_type": "display_data"
    },
    {
     "name": "stderr",
     "output_type": "stream",
     "text": [
      "\r",
      "\u001b[32mloss: 0.499:  37%|███████████████▏                         |  ETA: 0:02:36\u001b[39m"
     ]
    },
    {
     "data": {
      "text/plain": [
       "0.51265395f0"
      ]
     },
     "metadata": {},
     "output_type": "display_data"
    },
    {
     "name": "stderr",
     "output_type": "stream",
     "text": [
      "\r",
      "\u001b[32mloss: 0.513:  38%|███████████████▍                         |  ETA: 0:02:35\u001b[39m"
     ]
    },
    {
     "data": {
      "text/plain": [
       "0.5233039f0"
      ]
     },
     "metadata": {},
     "output_type": "display_data"
    },
    {
     "name": "stderr",
     "output_type": "stream",
     "text": [
      "\r",
      "\u001b[32mloss: 0.523:  38%|███████████████▋                         |  ETA: 0:02:34\u001b[39m"
     ]
    },
    {
     "data": {
      "text/plain": [
       "0.52028745f0"
      ]
     },
     "metadata": {},
     "output_type": "display_data"
    },
    {
     "name": "stderr",
     "output_type": "stream",
     "text": [
      "\r",
      "\u001b[32mloss: 0.52:  38%|███████████████▊                         |  ETA: 0:02:33\u001b[39m"
     ]
    },
    {
     "data": {
      "text/plain": [
       "0.477175f0"
      ]
     },
     "metadata": {},
     "output_type": "display_data"
    },
    {
     "name": "stderr",
     "output_type": "stream",
     "text": [
      "\r",
      "\u001b[32mloss: 0.477:  39%|████████████████                         |  ETA: 0:02:32\u001b[39m"
     ]
    },
    {
     "data": {
      "text/plain": [
       "0.4994513f0"
      ]
     },
     "metadata": {},
     "output_type": "display_data"
    },
    {
     "name": "stderr",
     "output_type": "stream",
     "text": [
      "\r",
      "\u001b[32mloss: 0.499:  40%|████████████████▎                        |  ETA: 0:02:31\u001b[39m"
     ]
    },
    {
     "data": {
      "text/plain": [
       "0.5160988f0"
      ]
     },
     "metadata": {},
     "output_type": "display_data"
    },
    {
     "name": "stderr",
     "output_type": "stream",
     "text": [
      "\r",
      "\u001b[32mloss: 0.516:  40%|████████████████▍                        |  ETA: 0:02:30\u001b[39m"
     ]
    },
    {
     "data": {
      "text/plain": [
       "0.50411904f0"
      ]
     },
     "metadata": {},
     "output_type": "display_data"
    },
    {
     "name": "stderr",
     "output_type": "stream",
     "text": [
      "\r",
      "\u001b[32mloss: 0.504:  40%|████████████████▋                        |  ETA: 0:02:28\u001b[39m"
     ]
    },
    {
     "data": {
      "text/plain": [
       "0.4773127f0"
      ]
     },
     "metadata": {},
     "output_type": "display_data"
    },
    {
     "name": "stderr",
     "output_type": "stream",
     "text": [
      "\r",
      "\u001b[32mloss: 0.477:  41%|████████████████▊                        |  ETA: 0:02:27\u001b[39m"
     ]
    },
    {
     "data": {
      "text/plain": [
       "0.49895456f0"
      ]
     },
     "metadata": {},
     "output_type": "display_data"
    },
    {
     "name": "stderr",
     "output_type": "stream",
     "text": [
      "\r",
      "\u001b[32mloss: 0.499:  42%|█████████████████                        |  ETA: 0:02:26\u001b[39m"
     ]
    },
    {
     "data": {
      "text/plain": [
       "0.5251322f0"
      ]
     },
     "metadata": {},
     "output_type": "display_data"
    },
    {
     "name": "stderr",
     "output_type": "stream",
     "text": [
      "\r",
      "\u001b[32mloss: 0.525:  42%|█████████████████▎                       |  ETA: 0:02:25\u001b[39m"
     ]
    },
    {
     "data": {
      "text/plain": [
       "0.5005872f0"
      ]
     },
     "metadata": {},
     "output_type": "display_data"
    },
    {
     "name": "stderr",
     "output_type": "stream",
     "text": [
      "\r",
      "\u001b[32mloss: 0.501:  42%|█████████████████▍                       |  ETA: 0:02:24\u001b[39m"
     ]
    },
    {
     "data": {
      "text/plain": [
       "0.48042688f0"
      ]
     },
     "metadata": {},
     "output_type": "display_data"
    },
    {
     "name": "stderr",
     "output_type": "stream",
     "text": [
      "\r",
      "\u001b[32mloss: 0.48:  43%|█████████████████▋                       |  ETA: 0:02:22\u001b[39m"
     ]
    },
    {
     "data": {
      "text/plain": [
       "0.49811664f0"
      ]
     },
     "metadata": {},
     "output_type": "display_data"
    },
    {
     "name": "stderr",
     "output_type": "stream",
     "text": [
      "\r",
      "\u001b[32mloss: 0.498:  44%|█████████████████▉                       |  ETA: 0:02:21\u001b[39m"
     ]
    },
    {
     "data": {
      "text/plain": [
       "0.48945507f0"
      ]
     },
     "metadata": {},
     "output_type": "display_data"
    },
    {
     "name": "stderr",
     "output_type": "stream",
     "text": [
      "\r",
      "\u001b[32mloss: 0.489:  44%|██████████████████                       |  ETA: 0:02:20\u001b[39m"
     ]
    },
    {
     "data": {
      "text/plain": [
       "0.49727118f0"
      ]
     },
     "metadata": {},
     "output_type": "display_data"
    },
    {
     "name": "stderr",
     "output_type": "stream",
     "text": [
      "\r",
      "\u001b[32mloss: 0.497:  44%|██████████████████▎                      |  ETA: 0:02:19\u001b[39m"
     ]
    },
    {
     "data": {
      "text/plain": [
       "0.48648202f0"
      ]
     },
     "metadata": {},
     "output_type": "display_data"
    },
    {
     "name": "stderr",
     "output_type": "stream",
     "text": [
      "\r",
      "\u001b[32mloss: 0.486:  45%|██████████████████▌                      |  ETA: 0:02:17\u001b[39m"
     ]
    },
    {
     "data": {
      "text/plain": [
       "0.4929165f0"
      ]
     },
     "metadata": {},
     "output_type": "display_data"
    },
    {
     "name": "stderr",
     "output_type": "stream",
     "text": [
      "\r",
      "\u001b[32mloss: 0.493:  46%|██████████████████▋                      |  ETA: 0:02:16\u001b[39m"
     ]
    },
    {
     "data": {
      "text/plain": [
       "0.473395f0"
      ]
     },
     "metadata": {},
     "output_type": "display_data"
    },
    {
     "name": "stderr",
     "output_type": "stream",
     "text": [
      "\r",
      "\u001b[32mloss: 0.473:  46%|██████████████████▉                      |  ETA: 0:02:15\u001b[39m"
     ]
    },
    {
     "data": {
      "text/plain": [
       "0.45713142f0"
      ]
     },
     "metadata": {},
     "output_type": "display_data"
    },
    {
     "name": "stderr",
     "output_type": "stream",
     "text": [
      "\r",
      "\u001b[32mloss: 0.457:  46%|███████████████████▏                     |  ETA: 0:02:13\u001b[39m"
     ]
    },
    {
     "data": {
      "text/plain": [
       "0.48802516f0"
      ]
     },
     "metadata": {},
     "output_type": "display_data"
    },
    {
     "name": "stderr",
     "output_type": "stream",
     "text": [
      "\r",
      "\u001b[32mloss: 0.488:  47%|███████████████████▎                     |  ETA: 0:02:12\u001b[39m"
     ]
    },
    {
     "data": {
      "text/plain": [
       "0.45692268f0"
      ]
     },
     "metadata": {},
     "output_type": "display_data"
    },
    {
     "name": "stderr",
     "output_type": "stream",
     "text": [
      "\r",
      "\u001b[32mloss: 0.457:  48%|███████████████████▌                     |  ETA: 0:02:11\u001b[39m"
     ]
    },
    {
     "data": {
      "text/plain": [
       "0.48794737f0"
      ]
     },
     "metadata": {},
     "output_type": "display_data"
    },
    {
     "name": "stderr",
     "output_type": "stream",
     "text": [
      "\r",
      "\u001b[32mloss: 0.488:  48%|███████████████████▋                     |  ETA: 0:02:10\u001b[39m"
     ]
    },
    {
     "data": {
      "text/plain": [
       "0.48701584f0"
      ]
     },
     "metadata": {},
     "output_type": "display_data"
    },
    {
     "name": "stderr",
     "output_type": "stream",
     "text": [
      "\r",
      "\u001b[32mloss: 0.487:  48%|███████████████████▉                     |  ETA: 0:02:09\u001b[39m"
     ]
    },
    {
     "data": {
      "text/plain": [
       "0.48373872f0"
      ]
     },
     "metadata": {},
     "output_type": "display_data"
    },
    {
     "name": "stderr",
     "output_type": "stream",
     "text": [
      "\r",
      "\u001b[32mloss: 0.484:  49%|████████████████████▏                    |  ETA: 0:02:07\u001b[39m"
     ]
    },
    {
     "data": {
      "text/plain": [
       "0.47993594f0"
      ]
     },
     "metadata": {},
     "output_type": "display_data"
    },
    {
     "name": "stderr",
     "output_type": "stream",
     "text": [
      "\r",
      "\u001b[32mloss: 0.48:  50%|████████████████████▎                    |  ETA: 0:02:06\u001b[39m"
     ]
    },
    {
     "data": {
      "text/plain": [
       "0.49054605f0"
      ]
     },
     "metadata": {},
     "output_type": "display_data"
    },
    {
     "name": "stderr",
     "output_type": "stream",
     "text": [
      "\r",
      "\u001b[32mloss: 0.491:  50%|████████████████████▌                    |  ETA: 0:02:04\u001b[39m"
     ]
    },
    {
     "data": {
      "text/plain": [
       "0.46669304f0"
      ]
     },
     "metadata": {},
     "output_type": "display_data"
    },
    {
     "name": "stderr",
     "output_type": "stream",
     "text": [
      "\r",
      "\u001b[32mloss: 0.467:  50%|████████████████████▊                    |  ETA: 0:02:03\u001b[39m"
     ]
    },
    {
     "data": {
      "text/plain": [
       "0.47111174f0"
      ]
     },
     "metadata": {},
     "output_type": "display_data"
    },
    {
     "name": "stderr",
     "output_type": "stream",
     "text": [
      "\r",
      "\u001b[32mloss: 0.471:  51%|████████████████████▉                    |  ETA: 0:02:02\u001b[39m"
     ]
    },
    {
     "data": {
      "text/plain": [
       "0.49438134f0"
      ]
     },
     "metadata": {},
     "output_type": "display_data"
    },
    {
     "name": "stderr",
     "output_type": "stream",
     "text": [
      "\r",
      "\u001b[32mloss: 0.494:  52%|█████████████████████▏                   |  ETA: 0:02:01\u001b[39m"
     ]
    },
    {
     "data": {
      "text/plain": [
       "0.4630954f0"
      ]
     },
     "metadata": {},
     "output_type": "display_data"
    },
    {
     "name": "stderr",
     "output_type": "stream",
     "text": [
      "\r",
      "\u001b[32mloss: 0.463:  52%|█████████████████████▍                   |  ETA: 0:01:59\u001b[39m"
     ]
    },
    {
     "data": {
      "text/plain": [
       "0.48568416f0"
      ]
     },
     "metadata": {},
     "output_type": "display_data"
    },
    {
     "name": "stderr",
     "output_type": "stream",
     "text": [
      "\r",
      "\u001b[32mloss: 0.486:  52%|█████████████████████▌                   |  ETA: 0:01:58\u001b[39m"
     ]
    },
    {
     "data": {
      "text/plain": [
       "0.5083933f0"
      ]
     },
     "metadata": {},
     "output_type": "display_data"
    },
    {
     "name": "stderr",
     "output_type": "stream",
     "text": [
      "\r",
      "\u001b[32mloss: 0.508:  53%|█████████████████████▊                   |  ETA: 0:01:57\u001b[39m"
     ]
    },
    {
     "data": {
      "text/plain": [
       "0.4994286f0"
      ]
     },
     "metadata": {},
     "output_type": "display_data"
    },
    {
     "name": "stderr",
     "output_type": "stream",
     "text": [
      "\r",
      "\u001b[32mloss: 0.499:  54%|█████████████████████▉                   |  ETA: 0:01:56\u001b[39m"
     ]
    },
    {
     "data": {
      "text/plain": [
       "0.4734326f0"
      ]
     },
     "metadata": {},
     "output_type": "display_data"
    },
    {
     "name": "stderr",
     "output_type": "stream",
     "text": [
      "\r",
      "\u001b[32mloss: 0.473:  54%|██████████████████████▏                  |  ETA: 0:01:55\u001b[39m"
     ]
    },
    {
     "data": {
      "text/plain": [
       "0.47638464f0"
      ]
     },
     "metadata": {},
     "output_type": "display_data"
    },
    {
     "name": "stderr",
     "output_type": "stream",
     "text": [
      "\r",
      "\u001b[32mloss: 0.476:  54%|██████████████████████▍                  |  ETA: 0:01:53\u001b[39m"
     ]
    },
    {
     "data": {
      "text/plain": [
       "0.4747966f0"
      ]
     },
     "metadata": {},
     "output_type": "display_data"
    },
    {
     "name": "stderr",
     "output_type": "stream",
     "text": [
      "\r",
      "\u001b[32mloss: 0.475:  55%|██████████████████████▌                  |  ETA: 0:01:53\u001b[39m"
     ]
    },
    {
     "data": {
      "text/plain": [
       "0.47307646f0"
      ]
     },
     "metadata": {},
     "output_type": "display_data"
    },
    {
     "name": "stderr",
     "output_type": "stream",
     "text": [
      "\r",
      "\u001b[32mloss: 0.473:  56%|██████████████████████▊                  |  ETA: 0:01:51\u001b[39m"
     ]
    },
    {
     "data": {
      "text/plain": [
       "0.4793697f0"
      ]
     },
     "metadata": {},
     "output_type": "display_data"
    },
    {
     "name": "stderr",
     "output_type": "stream",
     "text": [
      "\r",
      "\u001b[32mloss: 0.479:  56%|███████████████████████                  |  ETA: 0:01:50\u001b[39m"
     ]
    },
    {
     "data": {
      "text/plain": [
       "0.48096845f0"
      ]
     },
     "metadata": {},
     "output_type": "display_data"
    },
    {
     "name": "stderr",
     "output_type": "stream",
     "text": [
      "\r",
      "\u001b[32mloss: 0.481:  56%|███████████████████████▏                 |  ETA: 0:01:49\u001b[39m"
     ]
    },
    {
     "data": {
      "text/plain": [
       "0.47730052f0"
      ]
     },
     "metadata": {},
     "output_type": "display_data"
    },
    {
     "name": "stderr",
     "output_type": "stream",
     "text": [
      "\r",
      "\u001b[32mloss: 0.477:  57%|███████████████████████▍                 |  ETA: 0:01:47\u001b[39m"
     ]
    },
    {
     "data": {
      "text/plain": [
       "0.4578033f0"
      ]
     },
     "metadata": {},
     "output_type": "display_data"
    },
    {
     "name": "stderr",
     "output_type": "stream",
     "text": [
      "\r",
      "\u001b[32mloss: 0.458:  58%|███████████████████████▋                 |  ETA: 0:01:46\u001b[39m"
     ]
    },
    {
     "data": {
      "text/plain": [
       "0.47608668f0"
      ]
     },
     "metadata": {},
     "output_type": "display_data"
    },
    {
     "name": "stderr",
     "output_type": "stream",
     "text": [
      "\r",
      "\u001b[32mloss: 0.476:  58%|███████████████████████▊                 |  ETA: 0:01:45\u001b[39m"
     ]
    },
    {
     "data": {
      "text/plain": [
       "0.45769355f0"
      ]
     },
     "metadata": {},
     "output_type": "display_data"
    },
    {
     "name": "stderr",
     "output_type": "stream",
     "text": [
      "\r",
      "\u001b[32mloss: 0.458:  58%|████████████████████████                 |  ETA: 0:01:44\u001b[39m"
     ]
    },
    {
     "data": {
      "text/plain": [
       "0.4466381f0"
      ]
     },
     "metadata": {},
     "output_type": "display_data"
    },
    {
     "name": "stderr",
     "output_type": "stream",
     "text": [
      "\r",
      "\u001b[32mloss: 0.447:  59%|████████████████████████▎                |  ETA: 0:01:42\u001b[39m"
     ]
    },
    {
     "data": {
      "text/plain": [
       "0.43849367f0"
      ]
     },
     "metadata": {},
     "output_type": "display_data"
    },
    {
     "name": "stderr",
     "output_type": "stream",
     "text": [
      "\r",
      "\u001b[32mloss: 0.438:  60%|████████████████████████▍                |  ETA: 0:01:41\u001b[39m"
     ]
    },
    {
     "data": {
      "text/plain": [
       "0.45885664f0"
      ]
     },
     "metadata": {},
     "output_type": "display_data"
    },
    {
     "name": "stderr",
     "output_type": "stream",
     "text": [
      "\r",
      "\u001b[32mloss: 0.459:  60%|████████████████████████▋                |  ETA: 0:01:40\u001b[39m"
     ]
    },
    {
     "data": {
      "text/plain": [
       "0.43548667f0"
      ]
     },
     "metadata": {},
     "output_type": "display_data"
    },
    {
     "name": "stderr",
     "output_type": "stream",
     "text": [
      "\r",
      "\u001b[32mloss: 0.435:  60%|████████████████████████▊                |  ETA: 0:01:39\u001b[39m"
     ]
    },
    {
     "data": {
      "text/plain": [
       "0.44929233f0"
      ]
     },
     "metadata": {},
     "output_type": "display_data"
    },
    {
     "name": "stderr",
     "output_type": "stream",
     "text": [
      "\r",
      "\u001b[32mloss: 0.449:  61%|█████████████████████████                |  ETA: 0:01:38\u001b[39m"
     ]
    },
    {
     "data": {
      "text/plain": [
       "0.46814182f0"
      ]
     },
     "metadata": {},
     "output_type": "display_data"
    },
    {
     "name": "stderr",
     "output_type": "stream",
     "text": [
      "\r",
      "\u001b[32mloss: 0.468:  62%|█████████████████████████▎               |  ETA: 0:01:36\u001b[39m"
     ]
    },
    {
     "data": {
      "text/plain": [
       "0.46933708f0"
      ]
     },
     "metadata": {},
     "output_type": "display_data"
    },
    {
     "name": "stderr",
     "output_type": "stream",
     "text": [
      "\r",
      "\u001b[32mloss: 0.469:  62%|█████████████████████████▍               |  ETA: 0:01:35\u001b[39m"
     ]
    },
    {
     "data": {
      "text/plain": [
       "0.4418359f0"
      ]
     },
     "metadata": {},
     "output_type": "display_data"
    },
    {
     "name": "stderr",
     "output_type": "stream",
     "text": [
      "\r",
      "\u001b[32mloss: 0.442:  62%|█████████████████████████▋               |  ETA: 0:01:34\u001b[39m"
     ]
    },
    {
     "data": {
      "text/plain": [
       "0.4490617f0"
      ]
     },
     "metadata": {},
     "output_type": "display_data"
    },
    {
     "name": "stderr",
     "output_type": "stream",
     "text": [
      "\r",
      "\u001b[32mloss: 0.449:  63%|█████████████████████████▉               |  ETA: 0:01:32\u001b[39m"
     ]
    },
    {
     "data": {
      "text/plain": [
       "0.44527957f0"
      ]
     },
     "metadata": {},
     "output_type": "display_data"
    },
    {
     "name": "stderr",
     "output_type": "stream",
     "text": [
      "\r",
      "\u001b[32mloss: 0.445:  64%|██████████████████████████               |  ETA: 0:01:31\u001b[39m"
     ]
    },
    {
     "data": {
      "text/plain": [
       "0.4359082f0"
      ]
     },
     "metadata": {},
     "output_type": "display_data"
    },
    {
     "name": "stderr",
     "output_type": "stream",
     "text": [
      "\r",
      "\u001b[32mloss: 0.436:  64%|██████████████████████████▎              |  ETA: 0:01:30\u001b[39m"
     ]
    },
    {
     "data": {
      "text/plain": [
       "0.4718647f0"
      ]
     },
     "metadata": {},
     "output_type": "display_data"
    },
    {
     "name": "stderr",
     "output_type": "stream",
     "text": [
      "\r",
      "\u001b[32mloss: 0.472:  64%|██████████████████████████▌              |  ETA: 0:01:29\u001b[39m"
     ]
    },
    {
     "data": {
      "text/plain": [
       "0.46762002f0"
      ]
     },
     "metadata": {},
     "output_type": "display_data"
    },
    {
     "name": "stderr",
     "output_type": "stream",
     "text": [
      "\r",
      "\u001b[32mloss: 0.468:  65%|██████████████████████████▋              |  ETA: 0:01:27\u001b[39m"
     ]
    },
    {
     "data": {
      "text/plain": [
       "0.4550748f0"
      ]
     },
     "metadata": {},
     "output_type": "display_data"
    },
    {
     "name": "stderr",
     "output_type": "stream",
     "text": [
      "\r",
      "\u001b[32mloss: 0.455:  66%|██████████████████████████▉              |  ETA: 0:01:26\u001b[39m"
     ]
    },
    {
     "data": {
      "text/plain": [
       "0.46320435f0"
      ]
     },
     "metadata": {},
     "output_type": "display_data"
    },
    {
     "name": "stderr",
     "output_type": "stream",
     "text": [
      "\r",
      "\u001b[32mloss: 0.463:  66%|███████████████████████████              |  ETA: 0:01:25\u001b[39m"
     ]
    },
    {
     "data": {
      "text/plain": [
       "0.47344694f0"
      ]
     },
     "metadata": {},
     "output_type": "display_data"
    },
    {
     "name": "stderr",
     "output_type": "stream",
     "text": [
      "\r",
      "\u001b[32mloss: 0.473:  66%|███████████████████████████▎             |  ETA: 0:01:24\u001b[39m"
     ]
    },
    {
     "data": {
      "text/plain": [
       "0.4722941f0"
      ]
     },
     "metadata": {},
     "output_type": "display_data"
    },
    {
     "name": "stderr",
     "output_type": "stream",
     "text": [
      "\r",
      "\u001b[32mloss: 0.472:  67%|███████████████████████████▌             |  ETA: 0:01:22\u001b[39m"
     ]
    },
    {
     "data": {
      "text/plain": [
       "0.46756315f0"
      ]
     },
     "metadata": {},
     "output_type": "display_data"
    },
    {
     "name": "stderr",
     "output_type": "stream",
     "text": [
      "\r",
      "\u001b[32mloss: 0.468:  68%|███████████████████████████▋             |  ETA: 0:01:21\u001b[39m"
     ]
    },
    {
     "data": {
      "text/plain": [
       "0.48159638f0"
      ]
     },
     "metadata": {},
     "output_type": "display_data"
    },
    {
     "name": "stderr",
     "output_type": "stream",
     "text": [
      "\r",
      "\u001b[32mloss: 0.482:  68%|███████████████████████████▉             |  ETA: 0:01:20\u001b[39m"
     ]
    },
    {
     "data": {
      "text/plain": [
       "0.45367068f0"
      ]
     },
     "metadata": {},
     "output_type": "display_data"
    },
    {
     "name": "stderr",
     "output_type": "stream",
     "text": [
      "\r",
      "\u001b[32mloss: 0.454:  68%|████████████████████████████▏            |  ETA: 0:01:19\u001b[39m"
     ]
    },
    {
     "data": {
      "text/plain": [
       "0.46154058f0"
      ]
     },
     "metadata": {},
     "output_type": "display_data"
    },
    {
     "name": "stderr",
     "output_type": "stream",
     "text": [
      "\r",
      "\u001b[32mloss: 0.462:  69%|████████████████████████████▎            |  ETA: 0:01:17\u001b[39m"
     ]
    },
    {
     "data": {
      "text/plain": [
       "0.47786078f0"
      ]
     },
     "metadata": {},
     "output_type": "display_data"
    },
    {
     "name": "stderr",
     "output_type": "stream",
     "text": [
      "\r",
      "\u001b[32mloss: 0.478:  70%|████████████████████████████▌            |  ETA: 0:01:16\u001b[39m"
     ]
    },
    {
     "data": {
      "text/plain": [
       "0.4570156f0"
      ]
     },
     "metadata": {},
     "output_type": "display_data"
    },
    {
     "name": "stderr",
     "output_type": "stream",
     "text": [
      "\r",
      "\u001b[32mloss: 0.457:  70%|████████████████████████████▊            |  ETA: 0:01:15\u001b[39m"
     ]
    },
    {
     "data": {
      "text/plain": [
       "0.45876437f0"
      ]
     },
     "metadata": {},
     "output_type": "display_data"
    },
    {
     "name": "stderr",
     "output_type": "stream",
     "text": [
      "\r",
      "\u001b[32mloss: 0.459:  70%|████████████████████████████▉            |  ETA: 0:01:13\u001b[39m"
     ]
    },
    {
     "data": {
      "text/plain": [
       "0.4574905f0"
      ]
     },
     "metadata": {},
     "output_type": "display_data"
    },
    {
     "name": "stderr",
     "output_type": "stream",
     "text": [
      "\r",
      "\u001b[32mloss: 0.457:  71%|█████████████████████████████▏           |  ETA: 0:01:12\u001b[39m"
     ]
    },
    {
     "data": {
      "text/plain": [
       "0.4757354f0"
      ]
     },
     "metadata": {},
     "output_type": "display_data"
    },
    {
     "name": "stderr",
     "output_type": "stream",
     "text": [
      "\r",
      "\u001b[32mloss: 0.476:  72%|█████████████████████████████▍           |  ETA: 0:01:11\u001b[39m"
     ]
    },
    {
     "data": {
      "text/plain": [
       "0.4544651f0"
      ]
     },
     "metadata": {},
     "output_type": "display_data"
    },
    {
     "name": "stderr",
     "output_type": "stream",
     "text": [
      "\r",
      "\u001b[32mloss: 0.454:  72%|█████████████████████████████▌           |  ETA: 0:01:10\u001b[39m"
     ]
    },
    {
     "data": {
      "text/plain": [
       "0.45192564f0"
      ]
     },
     "metadata": {},
     "output_type": "display_data"
    },
    {
     "name": "stderr",
     "output_type": "stream",
     "text": [
      "\r",
      "\u001b[32mloss: 0.452:  72%|█████████████████████████████▊           |  ETA: 0:01:09\u001b[39m"
     ]
    },
    {
     "data": {
      "text/plain": [
       "0.4385221f0"
      ]
     },
     "metadata": {},
     "output_type": "display_data"
    },
    {
     "name": "stderr",
     "output_type": "stream",
     "text": [
      "\r",
      "\u001b[32mloss: 0.439:  73%|█████████████████████████████▉           |  ETA: 0:01:07\u001b[39m"
     ]
    },
    {
     "data": {
      "text/plain": [
       "0.42985272f0"
      ]
     },
     "metadata": {},
     "output_type": "display_data"
    },
    {
     "name": "stderr",
     "output_type": "stream",
     "text": [
      "\r",
      "\u001b[32mloss: 0.43:  74%|██████████████████████████████▏          |  ETA: 0:01:06\u001b[39m"
     ]
    },
    {
     "data": {
      "text/plain": [
       "0.45573166f0"
      ]
     },
     "metadata": {},
     "output_type": "display_data"
    },
    {
     "name": "stderr",
     "output_type": "stream",
     "text": [
      "\r",
      "\u001b[32mloss: 0.456:  74%|██████████████████████████████▍          |  ETA: 0:01:05\u001b[39m"
     ]
    },
    {
     "data": {
      "text/plain": [
       "0.4644472f0"
      ]
     },
     "metadata": {},
     "output_type": "display_data"
    },
    {
     "name": "stderr",
     "output_type": "stream",
     "text": [
      "\r",
      "\u001b[32mloss: 0.464:  74%|██████████████████████████████▌          |  ETA: 0:01:04\u001b[39m"
     ]
    },
    {
     "data": {
      "text/plain": [
       "0.4733383f0"
      ]
     },
     "metadata": {},
     "output_type": "display_data"
    },
    {
     "name": "stderr",
     "output_type": "stream",
     "text": [
      "\r",
      "\u001b[32mloss: 0.473:  75%|██████████████████████████████▊          |  ETA: 0:01:03\u001b[39m"
     ]
    },
    {
     "data": {
      "text/plain": [
       "0.44153747f0"
      ]
     },
     "metadata": {},
     "output_type": "display_data"
    },
    {
     "name": "stderr",
     "output_type": "stream",
     "text": [
      "\r",
      "\u001b[32mloss: 0.442:  76%|███████████████████████████████          |  ETA: 0:01:01\u001b[39m"
     ]
    },
    {
     "data": {
      "text/plain": [
       "0.47246906f0"
      ]
     },
     "metadata": {},
     "output_type": "display_data"
    },
    {
     "name": "stderr",
     "output_type": "stream",
     "text": [
      "\r",
      "\u001b[32mloss: 0.472:  76%|███████████████████████████████▏         |  ETA: 0:01:00\u001b[39m"
     ]
    },
    {
     "data": {
      "text/plain": [
       "0.44719127f0"
      ]
     },
     "metadata": {},
     "output_type": "display_data"
    },
    {
     "name": "stderr",
     "output_type": "stream",
     "text": [
      "\r",
      "\u001b[32mloss: 0.447:  76%|███████████████████████████████▍         |  ETA: 0:00:59\u001b[39m"
     ]
    },
    {
     "data": {
      "text/plain": [
       "0.4365623f0"
      ]
     },
     "metadata": {},
     "output_type": "display_data"
    },
    {
     "name": "stderr",
     "output_type": "stream",
     "text": [
      "\r",
      "\u001b[32mloss: 0.437:  77%|███████████████████████████████▋         |  ETA: 0:00:57\u001b[39m"
     ]
    },
    {
     "data": {
      "text/plain": [
       "0.44899052f0"
      ]
     },
     "metadata": {},
     "output_type": "display_data"
    },
    {
     "name": "stderr",
     "output_type": "stream",
     "text": [
      "\r",
      "\u001b[32mloss: 0.449:  78%|███████████████████████████████▊         |  ETA: 0:00:56\u001b[39m"
     ]
    },
    {
     "data": {
      "text/plain": [
       "0.43043026f0"
      ]
     },
     "metadata": {},
     "output_type": "display_data"
    },
    {
     "name": "stderr",
     "output_type": "stream",
     "text": [
      "\r",
      "\u001b[32mloss: 0.43:  78%|████████████████████████████████         |  ETA: 0:00:55\u001b[39m"
     ]
    },
    {
     "data": {
      "text/plain": [
       "0.43088046f0"
      ]
     },
     "metadata": {},
     "output_type": "display_data"
    },
    {
     "name": "stderr",
     "output_type": "stream",
     "text": [
      "\r",
      "\u001b[32mloss: 0.431:  78%|████████████████████████████████▏        |  ETA: 0:00:54\u001b[39m"
     ]
    },
    {
     "data": {
      "text/plain": [
       "0.42754328f0"
      ]
     },
     "metadata": {},
     "output_type": "display_data"
    },
    {
     "name": "stderr",
     "output_type": "stream",
     "text": [
      "\r",
      "\u001b[32mloss: 0.428:  79%|████████████████████████████████▍        |  ETA: 0:00:53\u001b[39m"
     ]
    },
    {
     "data": {
      "text/plain": [
       "0.42170113f0"
      ]
     },
     "metadata": {},
     "output_type": "display_data"
    },
    {
     "name": "stderr",
     "output_type": "stream",
     "text": [
      "\r",
      "\u001b[32mloss: 0.422:  80%|████████████████████████████████▋        |  ETA: 0:00:51\u001b[39m"
     ]
    },
    {
     "data": {
      "text/plain": [
       "0.40521225f0"
      ]
     },
     "metadata": {},
     "output_type": "display_data"
    },
    {
     "name": "stderr",
     "output_type": "stream",
     "text": [
      "\r",
      "\u001b[32mloss: 0.405:  80%|████████████████████████████████▊        |  ETA: 0:00:50\u001b[39m"
     ]
    },
    {
     "data": {
      "text/plain": [
       "0.4241571f0"
      ]
     },
     "metadata": {},
     "output_type": "display_data"
    },
    {
     "name": "stderr",
     "output_type": "stream",
     "text": [
      "\r",
      "\u001b[32mloss: 0.424:  80%|█████████████████████████████████        |  ETA: 0:00:49\u001b[39m"
     ]
    },
    {
     "data": {
      "text/plain": [
       "0.44436094f0"
      ]
     },
     "metadata": {},
     "output_type": "display_data"
    },
    {
     "name": "stderr",
     "output_type": "stream",
     "text": [
      "\r",
      "\u001b[32mloss: 0.444:  81%|█████████████████████████████████▎       |  ETA: 0:00:48\u001b[39m"
     ]
    },
    {
     "data": {
      "text/plain": [
       "0.43915266f0"
      ]
     },
     "metadata": {},
     "output_type": "display_data"
    },
    {
     "name": "stderr",
     "output_type": "stream",
     "text": [
      "\r",
      "\u001b[32mloss: 0.439:  82%|█████████████████████████████████▍       |  ETA: 0:00:46\u001b[39m"
     ]
    },
    {
     "data": {
      "text/plain": [
       "0.4110247f0"
      ]
     },
     "metadata": {},
     "output_type": "display_data"
    },
    {
     "name": "stderr",
     "output_type": "stream",
     "text": [
      "\r",
      "\u001b[32mloss: 0.411:  82%|█████████████████████████████████▋       |  ETA: 0:00:45\u001b[39m"
     ]
    },
    {
     "data": {
      "text/plain": [
       "0.42071956f0"
      ]
     },
     "metadata": {},
     "output_type": "display_data"
    },
    {
     "name": "stderr",
     "output_type": "stream",
     "text": [
      "\r",
      "\u001b[32mloss: 0.421:  82%|█████████████████████████████████▉       |  ETA: 0:00:44\u001b[39m"
     ]
    },
    {
     "data": {
      "text/plain": [
       "0.4287842f0"
      ]
     },
     "metadata": {},
     "output_type": "display_data"
    },
    {
     "name": "stderr",
     "output_type": "stream",
     "text": [
      "\r",
      "\u001b[32mloss: 0.429:  83%|██████████████████████████████████       |  ETA: 0:00:43\u001b[39m"
     ]
    },
    {
     "data": {
      "text/plain": [
       "0.41372758f0"
      ]
     },
     "metadata": {},
     "output_type": "display_data"
    },
    {
     "name": "stderr",
     "output_type": "stream",
     "text": [
      "\r",
      "\u001b[32mloss: 0.414:  84%|██████████████████████████████████▎      |  ETA: 0:00:41\u001b[39m"
     ]
    },
    {
     "data": {
      "text/plain": [
       "0.41207942f0"
      ]
     },
     "metadata": {},
     "output_type": "display_data"
    },
    {
     "name": "stderr",
     "output_type": "stream",
     "text": [
      "\r",
      "\u001b[32mloss: 0.412:  84%|██████████████████████████████████▌      |  ETA: 0:00:40\u001b[39m"
     ]
    },
    {
     "data": {
      "text/plain": [
       "0.4092026f0"
      ]
     },
     "metadata": {},
     "output_type": "display_data"
    },
    {
     "name": "stderr",
     "output_type": "stream",
     "text": [
      "\r",
      "\u001b[32mloss: 0.409:  84%|██████████████████████████████████▋      |  ETA: 0:00:39\u001b[39m"
     ]
    },
    {
     "data": {
      "text/plain": [
       "0.42513838f0"
      ]
     },
     "metadata": {},
     "output_type": "display_data"
    },
    {
     "name": "stderr",
     "output_type": "stream",
     "text": [
      "\r",
      "\u001b[32mloss: 0.425:  85%|██████████████████████████████████▉      |  ETA: 0:00:38\u001b[39m"
     ]
    },
    {
     "data": {
      "text/plain": [
       "0.4353638f0"
      ]
     },
     "metadata": {},
     "output_type": "display_data"
    },
    {
     "name": "stderr",
     "output_type": "stream",
     "text": [
      "\r",
      "\u001b[32mloss: 0.435:  86%|███████████████████████████████████      |  ETA: 0:00:36\u001b[39m"
     ]
    },
    {
     "data": {
      "text/plain": [
       "0.42673486f0"
      ]
     },
     "metadata": {},
     "output_type": "display_data"
    },
    {
     "name": "stderr",
     "output_type": "stream",
     "text": [
      "\r",
      "\u001b[32mloss: 0.427:  86%|███████████████████████████████████▎     |  ETA: 0:00:35\u001b[39m"
     ]
    },
    {
     "data": {
      "text/plain": [
       "0.39329514f0"
      ]
     },
     "metadata": {},
     "output_type": "display_data"
    },
    {
     "name": "stderr",
     "output_type": "stream",
     "text": [
      "\r",
      "\u001b[32mloss: 0.393:  86%|███████████████████████████████████▌     |  ETA: 0:00:34\u001b[39m"
     ]
    },
    {
     "data": {
      "text/plain": [
       "0.4267088f0"
      ]
     },
     "metadata": {},
     "output_type": "display_data"
    },
    {
     "name": "stderr",
     "output_type": "stream",
     "text": [
      "\r",
      "\u001b[32mloss: 0.427:  87%|███████████████████████████████████▋     |  ETA: 0:00:33\u001b[39m"
     ]
    },
    {
     "data": {
      "text/plain": [
       "0.41147235f0"
      ]
     },
     "metadata": {},
     "output_type": "display_data"
    },
    {
     "name": "stderr",
     "output_type": "stream",
     "text": [
      "\r",
      "\u001b[32mloss: 0.411:  88%|███████████████████████████████████▉     |  ETA: 0:00:31\u001b[39m"
     ]
    },
    {
     "data": {
      "text/plain": [
       "0.39352578f0"
      ]
     },
     "metadata": {},
     "output_type": "display_data"
    },
    {
     "name": "stderr",
     "output_type": "stream",
     "text": [
      "\r",
      "\u001b[32mloss: 0.394:  88%|████████████████████████████████████▏    |  ETA: 0:00:30\u001b[39m"
     ]
    },
    {
     "data": {
      "text/plain": [
       "0.4191176f0"
      ]
     },
     "metadata": {},
     "output_type": "display_data"
    },
    {
     "name": "stderr",
     "output_type": "stream",
     "text": [
      "\r",
      "\u001b[32mloss: 0.419:  88%|████████████████████████████████████▎    |  ETA: 0:00:29\u001b[39m"
     ]
    },
    {
     "data": {
      "text/plain": [
       "0.43057418f0"
      ]
     },
     "metadata": {},
     "output_type": "display_data"
    },
    {
     "name": "stderr",
     "output_type": "stream",
     "text": [
      "\r",
      "\u001b[32mloss: 0.431:  89%|████████████████████████████████████▌    |  ETA: 0:00:28\u001b[39m"
     ]
    },
    {
     "data": {
      "text/plain": [
       "0.40772343f0"
      ]
     },
     "metadata": {},
     "output_type": "display_data"
    },
    {
     "name": "stderr",
     "output_type": "stream",
     "text": [
      "\r",
      "\u001b[32mloss: 0.408:  90%|████████████████████████████████████▊    |  ETA: 0:00:26\u001b[39m"
     ]
    },
    {
     "data": {
      "text/plain": [
       "0.3821067f0"
      ]
     },
     "metadata": {},
     "output_type": "display_data"
    },
    {
     "name": "stderr",
     "output_type": "stream",
     "text": [
      "\r",
      "\u001b[32mloss: 0.382:  90%|████████████████████████████████████▉    |  ETA: 0:00:25\u001b[39m"
     ]
    },
    {
     "data": {
      "text/plain": [
       "0.41864264f0"
      ]
     },
     "metadata": {},
     "output_type": "display_data"
    },
    {
     "name": "stderr",
     "output_type": "stream",
     "text": [
      "\r",
      "\u001b[32mloss: 0.419:  90%|█████████████████████████████████████▏   |  ETA: 0:00:24\u001b[39m"
     ]
    },
    {
     "data": {
      "text/plain": [
       "0.4107924f0"
      ]
     },
     "metadata": {},
     "output_type": "display_data"
    },
    {
     "name": "stderr",
     "output_type": "stream",
     "text": [
      "\r",
      "\u001b[32mloss: 0.411:  91%|█████████████████████████████████████▎   |  ETA: 0:00:23\u001b[39m"
     ]
    },
    {
     "data": {
      "text/plain": [
       "0.3834707f0"
      ]
     },
     "metadata": {},
     "output_type": "display_data"
    },
    {
     "name": "stderr",
     "output_type": "stream",
     "text": [
      "\r",
      "\u001b[32mloss: 0.383:  92%|█████████████████████████████████████▌   |  ETA: 0:00:21\u001b[39m"
     ]
    },
    {
     "data": {
      "text/plain": [
       "0.4203574f0"
      ]
     },
     "metadata": {},
     "output_type": "display_data"
    },
    {
     "name": "stderr",
     "output_type": "stream",
     "text": [
      "\r",
      "\u001b[32mloss: 0.42:  92%|█████████████████████████████████████▊   |  ETA: 0:00:20\u001b[39m"
     ]
    },
    {
     "data": {
      "text/plain": [
       "0.42975122f0"
      ]
     },
     "metadata": {},
     "output_type": "display_data"
    },
    {
     "name": "stderr",
     "output_type": "stream",
     "text": [
      "\r",
      "\u001b[32mloss: 0.43:  92%|█████████████████████████████████████▉   |  ETA: 0:00:19\u001b[39m"
     ]
    },
    {
     "data": {
      "text/plain": [
       "0.4350369f0"
      ]
     },
     "metadata": {},
     "output_type": "display_data"
    },
    {
     "name": "stderr",
     "output_type": "stream",
     "text": [
      "\r",
      "\u001b[32mloss: 0.435:  93%|██████████████████████████████████████▏  |  ETA: 0:00:18\u001b[39m"
     ]
    },
    {
     "data": {
      "text/plain": [
       "0.4165342f0"
      ]
     },
     "metadata": {},
     "output_type": "display_data"
    },
    {
     "name": "stderr",
     "output_type": "stream",
     "text": [
      "\r",
      "\u001b[32mloss: 0.417:  94%|██████████████████████████████████████▍  |  ETA: 0:00:16\u001b[39m"
     ]
    },
    {
     "data": {
      "text/plain": [
       "0.4201778f0"
      ]
     },
     "metadata": {},
     "output_type": "display_data"
    },
    {
     "name": "stderr",
     "output_type": "stream",
     "text": [
      "\r",
      "\u001b[32mloss: 0.42:  94%|██████████████████████████████████████▌  |  ETA: 0:00:15\u001b[39m"
     ]
    },
    {
     "data": {
      "text/plain": [
       "0.41678327f0"
      ]
     },
     "metadata": {},
     "output_type": "display_data"
    },
    {
     "name": "stderr",
     "output_type": "stream",
     "text": [
      "\r",
      "\u001b[32mloss: 0.417:  94%|██████████████████████████████████████▊  |  ETA: 0:00:14\u001b[39m"
     ]
    },
    {
     "data": {
      "text/plain": [
       "0.40678102f0"
      ]
     },
     "metadata": {},
     "output_type": "display_data"
    },
    {
     "name": "stderr",
     "output_type": "stream",
     "text": [
      "\r",
      "\u001b[32mloss: 0.407:  95%|███████████████████████████████████████  |  ETA: 0:00:13\u001b[39m"
     ]
    },
    {
     "data": {
      "text/plain": [
       "0.42619315f0"
      ]
     },
     "metadata": {},
     "output_type": "display_data"
    },
    {
     "name": "stderr",
     "output_type": "stream",
     "text": [
      "\r",
      "\u001b[32mloss: 0.426:  96%|███████████████████████████████████████▏ |  ETA: 0:00:11\u001b[39m"
     ]
    },
    {
     "data": {
      "text/plain": [
       "0.4476899f0"
      ]
     },
     "metadata": {},
     "output_type": "display_data"
    },
    {
     "name": "stderr",
     "output_type": "stream",
     "text": [
      "\r",
      "\u001b[32mloss: 0.448:  96%|███████████████████████████████████████▍ |  ETA: 0:00:10\u001b[39m"
     ]
    },
    {
     "data": {
      "text/plain": [
       "0.45957032f0"
      ]
     },
     "metadata": {},
     "output_type": "display_data"
    },
    {
     "name": "stderr",
     "output_type": "stream",
     "text": [
      "\r",
      "\u001b[32mloss: 0.46:  96%|███████████████████████████████████████▋ |  ETA: 0:00:09\u001b[39m"
     ]
    },
    {
     "data": {
      "text/plain": [
       "0.41688108f0"
      ]
     },
     "metadata": {},
     "output_type": "display_data"
    },
    {
     "name": "stderr",
     "output_type": "stream",
     "text": [
      "\r",
      "\u001b[32mloss: 0.417:  97%|███████████████████████████████████████▊ |  ETA: 0:00:08\u001b[39m"
     ]
    },
    {
     "data": {
      "text/plain": [
       "0.40917018f0"
      ]
     },
     "metadata": {},
     "output_type": "display_data"
    },
    {
     "name": "stderr",
     "output_type": "stream",
     "text": [
      "\r",
      "\u001b[32mloss: 0.409:  98%|████████████████████████████████████████ |  ETA: 0:00:06\u001b[39m"
     ]
    },
    {
     "data": {
      "text/plain": [
       "0.4384711f0"
      ]
     },
     "metadata": {},
     "output_type": "display_data"
    },
    {
     "name": "stderr",
     "output_type": "stream",
     "text": [
      "\r",
      "\u001b[32mloss: 0.438:  98%|████████████████████████████████████████▏|  ETA: 0:00:05\u001b[39m"
     ]
    },
    {
     "data": {
      "text/plain": [
       "0.4302708f0"
      ]
     },
     "metadata": {},
     "output_type": "display_data"
    },
    {
     "name": "stderr",
     "output_type": "stream",
     "text": [
      "\r",
      "\u001b[32mloss: 0.43:  98%|████████████████████████████████████████▍|  ETA: 0:00:04\u001b[39m"
     ]
    },
    {
     "data": {
      "text/plain": [
       "0.40266702f0"
      ]
     },
     "metadata": {},
     "output_type": "display_data"
    },
    {
     "name": "stderr",
     "output_type": "stream",
     "text": [
      "\r",
      "\u001b[32mloss: 0.403:  99%|████████████████████████████████████████▋|  ETA: 0:00:03\u001b[39m"
     ]
    },
    {
     "data": {
      "text/plain": [
       "0.43421742f0"
      ]
     },
     "metadata": {},
     "output_type": "display_data"
    },
    {
     "name": "stderr",
     "output_type": "stream",
     "text": [
      "\r",
      "\u001b[32mloss: 0.434: 100%|████████████████████████████████████████▊|  ETA: 0:00:01\u001b[39m"
     ]
    },
    {
     "data": {
      "text/plain": [
       "0.45816734f0"
      ]
     },
     "metadata": {},
     "output_type": "display_data"
    },
    {
     "name": "stderr",
     "output_type": "stream",
     "text": [
      "\r",
      "\u001b[32mloss: 0.458: 100%|█████████████████████████████████████████| Time: 0:04:10\u001b[39m\n"
     ]
    },
    {
     "data": {
      "text/plain": [
       "0.3821067f0"
      ]
     },
     "metadata": {},
     "output_type": "display_data"
    },
    {
     "data": {
      "text/plain": [
       " * Status: failure (reached maximum number of iterations)\n",
       "\n",
       " * Candidate solution\n",
       "    Minimizer: [-4.69e-02, 7.89e-02, -2.35e-02,  ...]\n",
       "    Minimum:   4.581673e-01\n",
       "\n",
       " * Found with\n",
       "    Algorithm:     ADAM\n",
       "    Initial Point: [-4.68e-02, 7.89e-02, -2.35e-02,  ...]\n",
       "\n",
       " * Convergence measures\n",
       "    |x - x'|               = NaN ≰ 0.0e+00\n",
       "    |x - x'|/|x'|          = NaN ≰ 0.0e+00\n",
       "    |f(x) - f(x')|         = NaN ≰ 0.0e+00\n",
       "    |f(x) - f(x')|/|f(x')| = NaN ≰ 0.0e+00\n",
       "    |g(x)|                 = NaN ≰ 0.0e+00\n",
       "\n",
       " * Work counters\n",
       "    Seconds run:   251  (vs limit Inf)\n",
       "    Iterations:    200\n",
       "    f(x) calls:    200\n",
       "    ∇f(x) calls:   200\n"
      ]
     },
     "execution_count": 33,
     "metadata": {},
     "output_type": "execute_result"
    }
   ],
   "source": [
    "#res = DiffEqFlux.sciml_train(loss_node, node.p, ADAM(), dataset, cb=cb, maxiters=100)\n",
    "res = DiffEqFlux.sciml_train(loss_node, node.p, ADAM(), cb=cb, maxiters=200)"
   ]
  },
  {
   "cell_type": "code",
   "execution_count": 158,
   "metadata": {
    "scrolled": true
   },
   "outputs": [
    {
     "data": {
      "text/plain": [
       "6.947397f0"
      ]
     },
     "metadata": {},
     "output_type": "display_data"
    },
    {
     "name": "stderr",
     "output_type": "stream",
     "text": [
      "\u001b[32mloss: 5.1:   0%|▎                                        |  ETA: 0:34:23\u001b[39mm"
     ]
    },
    {
     "data": {
      "text/plain": [
       "3.8722093f0"
      ]
     },
     "metadata": {},
     "output_type": "display_data"
    },
    {
     "name": "stderr",
     "output_type": "stream",
     "text": [
      "\u001b[32mloss: 3.22:   1%|▍                                        |  ETA: 0:21:15\u001b[39m"
     ]
    },
    {
     "data": {
      "text/plain": [
       "3.170754f0"
      ]
     },
     "metadata": {},
     "output_type": "display_data"
    },
    {
     "name": "stderr",
     "output_type": "stream",
     "text": [
      "\u001b[32mloss: 3.26:   2%|▋                                        |  ETA: 0:17:11\u001b[39m"
     ]
    },
    {
     "data": {
      "text/plain": [
       "3.048909f0"
      ]
     },
     "metadata": {},
     "output_type": "display_data"
    },
    {
     "name": "stderr",
     "output_type": "stream",
     "text": [
      "\u001b[32mloss: 2.6:   2%|▉                                        |  ETA: 0:15:11\u001b[39mm"
     ]
    },
    {
     "data": {
      "text/plain": [
       "2.3492167f0"
      ]
     },
     "metadata": {},
     "output_type": "display_data"
    },
    {
     "name": "stderr",
     "output_type": "stream",
     "text": [
      "\u001b[32mloss: 2.09:   2%|█                                        |  ETA: 0:13:54\u001b[39m"
     ]
    },
    {
     "data": {
      "text/plain": [
       "1.7699149f0"
      ]
     },
     "metadata": {},
     "output_type": "display_data"
    },
    {
     "name": "stderr",
     "output_type": "stream",
     "text": [
      "\u001b[32mloss: 1.63:   3%|█▎                                       |  ETA: 0:13:09\u001b[39m"
     ]
    },
    {
     "data": {
      "text/plain": [
       "1.5426803f0"
      ]
     },
     "metadata": {},
     "output_type": "display_data"
    },
    {
     "name": "stderr",
     "output_type": "stream",
     "text": [
      "\u001b[32mloss: 1.45:   4%|█▍                                       |  ETA: 0:12:29\u001b[39m"
     ]
    },
    {
     "data": {
      "text/plain": [
       "1.3658637f0"
      ]
     },
     "metadata": {},
     "output_type": "display_data"
    },
    {
     "name": "stderr",
     "output_type": "stream",
     "text": [
      "\u001b[32mloss: 1.31:   4%|█▋                                       |  ETA: 0:11:58\u001b[39m"
     ]
    },
    {
     "data": {
      "text/plain": [
       "1.1367986f0"
      ]
     },
     "metadata": {},
     "output_type": "display_data"
    },
    {
     "name": "stderr",
     "output_type": "stream",
     "text": [
      "\u001b[32mloss: 0.851:   4%|█▉                                       |  ETA: 0:11:35\u001b[39m"
     ]
    },
    {
     "data": {
      "text/plain": [
       "0.8276946f0"
      ]
     },
     "metadata": {},
     "output_type": "display_data"
    },
    {
     "name": "stderr",
     "output_type": "stream",
     "text": [
      "\u001b[32mloss: 0.945:   5%|██                                       |  ETA: 0:11:08\u001b[39m"
     ]
    },
    {
     "data": {
      "text/plain": [
       "0.9953926f0"
      ]
     },
     "metadata": {},
     "output_type": "display_data"
    },
    {
     "name": "stderr",
     "output_type": "stream",
     "text": [
      "\u001b[32mloss: 1.04:   6%|██▎                                      |  ETA: 0:10:52\u001b[39mm"
     ]
    },
    {
     "data": {
      "text/plain": [
       "1.0111159f0"
      ]
     },
     "metadata": {},
     "output_type": "display_data"
    },
    {
     "name": "stderr",
     "output_type": "stream",
     "text": [
      "\u001b[32mloss: 0.909:   6%|██▌                                      |  ETA: 0:10:34\u001b[39m"
     ]
    },
    {
     "data": {
      "text/plain": [
       "0.8483271f0"
      ]
     },
     "metadata": {},
     "output_type": "display_data"
    },
    {
     "name": "stderr",
     "output_type": "stream",
     "text": [
      "\u001b[32mloss: 0.813:   6%|██▋                                      |  ETA: 0:10:26\u001b[39m"
     ]
    },
    {
     "data": {
      "text/plain": [
       "0.7374777f0"
      ]
     },
     "metadata": {},
     "output_type": "display_data"
    },
    {
     "name": "stderr",
     "output_type": "stream",
     "text": [
      "\u001b[32mloss: 0.651:   7%|██▉                                      |  ETA: 0:10:09\u001b[39m"
     ]
    },
    {
     "data": {
      "text/plain": [
       "0.5765276f0"
      ]
     },
     "metadata": {},
     "output_type": "display_data"
    },
    {
     "name": "stderr",
     "output_type": "stream",
     "text": [
      "\u001b[32mloss: 0.615:   8%|███▏                                     |  ETA: 0:09:58\u001b[39m"
     ]
    },
    {
     "data": {
      "text/plain": [
       "0.5536214f0"
      ]
     },
     "metadata": {},
     "output_type": "display_data"
    },
    {
     "name": "stderr",
     "output_type": "stream",
     "text": [
      "\u001b[32mloss: 0.543:   8%|███▎                                     |  ETA: 0:09:49\u001b[39m"
     ]
    },
    {
     "data": {
      "text/plain": [
       "0.6087866f0"
      ]
     },
     "metadata": {},
     "output_type": "display_data"
    },
    {
     "name": "stderr",
     "output_type": "stream",
     "text": [
      "\u001b[32mloss: 0.607:   8%|███▌                                     |  ETA: 0:09:41\u001b[39m"
     ]
    },
    {
     "data": {
      "text/plain": [
       "0.54719275f0"
      ]
     },
     "metadata": {},
     "output_type": "display_data"
    },
    {
     "name": "stderr",
     "output_type": "stream",
     "text": [
      "\u001b[32mloss: 0.497:   9%|███▊                                     |  ETA: 0:09:32\u001b[39m"
     ]
    },
    {
     "data": {
      "text/plain": [
       "0.49648258f0"
      ]
     },
     "metadata": {},
     "output_type": "display_data"
    },
    {
     "name": "stderr",
     "output_type": "stream",
     "text": [
      "\u001b[32mloss: 0.459:  10%|███▉                                     |  ETA: 0:09:30\u001b[39m"
     ]
    },
    {
     "data": {
      "text/plain": [
       "0.40943378f0"
      ]
     },
     "metadata": {},
     "output_type": "display_data"
    },
    {
     "name": "stderr",
     "output_type": "stream",
     "text": [
      "\u001b[32mloss: 0.417:  10%|████▏                                    |  ETA: 0:09:24\u001b[39m"
     ]
    },
    {
     "data": {
      "text/plain": [
       "0.4409938f0"
      ]
     },
     "metadata": {},
     "output_type": "display_data"
    },
    {
     "name": "stderr",
     "output_type": "stream",
     "text": [
      "\u001b[32mloss: 0.455:  10%|████▎                                    |  ETA: 0:09:16\u001b[39m"
     ]
    },
    {
     "data": {
      "text/plain": [
       "0.40113837f0"
      ]
     },
     "metadata": {},
     "output_type": "display_data"
    },
    {
     "name": "stderr",
     "output_type": "stream",
     "text": [
      "\u001b[32mloss: 0.386:  11%|████▌                                    |  ETA: 0:09:07\u001b[39m"
     ]
    },
    {
     "data": {
      "text/plain": [
       "0.38787982f0"
      ]
     },
     "metadata": {},
     "output_type": "display_data"
    },
    {
     "name": "stderr",
     "output_type": "stream",
     "text": [
      "\u001b[32mloss: 0.384:  12%|████▊                                    |  ETA: 0:08:59\u001b[39m"
     ]
    },
    {
     "data": {
      "text/plain": [
       "0.4333429f0"
      ]
     },
     "metadata": {},
     "output_type": "display_data"
    },
    {
     "name": "stderr",
     "output_type": "stream",
     "text": [
      "\u001b[32mloss: 0.403:  12%|████▉                                    |  ETA: 0:08:51\u001b[39m"
     ]
    },
    {
     "data": {
      "text/plain": [
       "0.33057463f0"
      ]
     },
     "metadata": {},
     "output_type": "display_data"
    },
    {
     "name": "stderr",
     "output_type": "stream",
     "text": [
      "\u001b[32mloss: 0.386:  12%|█████▏                                   |  ETA: 0:08:43\u001b[39m"
     ]
    },
    {
     "data": {
      "text/plain": [
       "0.41279897f0"
      ]
     },
     "metadata": {},
     "output_type": "display_data"
    },
    {
     "name": "stderr",
     "output_type": "stream",
     "text": [
      "\u001b[32mloss: 0.328:  13%|█████▍                                   |  ETA: 0:08:35\u001b[39m"
     ]
    },
    {
     "data": {
      "text/plain": [
       "0.33391726f0"
      ]
     },
     "metadata": {},
     "output_type": "display_data"
    },
    {
     "name": "stderr",
     "output_type": "stream",
     "text": [
      "\u001b[32mloss: 0.321:  14%|█████▊                                   |  ETA: 0:08:22\u001b[39m"
     ]
    },
    {
     "data": {
      "text/plain": [
       "0.33224878f0"
      ]
     },
     "metadata": {},
     "output_type": "display_data"
    },
    {
     "name": "stderr",
     "output_type": "stream",
     "text": [
      "\u001b[32mloss: 0.332:  14%|██████                                   |  ETA: 0:08:15\u001b[39m"
     ]
    },
    {
     "data": {
      "text/plain": [
       "0.31760967f0"
      ]
     },
     "metadata": {},
     "output_type": "display_data"
    },
    {
     "name": "stderr",
     "output_type": "stream",
     "text": [
      "\u001b[32mloss: 0.353:  15%|██████▏                                  |  ETA: 0:08:09\u001b[39m"
     ]
    },
    {
     "data": {
      "text/plain": [
       "0.35767063f0"
      ]
     },
     "metadata": {},
     "output_type": "display_data"
    },
    {
     "name": "stderr",
     "output_type": "stream",
     "text": [
      "\u001b[32mloss: 0.342:  16%|██████▍                                  |  ETA: 0:08:05\u001b[39m"
     ]
    },
    {
     "data": {
      "text/plain": [
       "0.3023101f0"
      ]
     },
     "metadata": {},
     "output_type": "display_data"
    },
    {
     "name": "stderr",
     "output_type": "stream",
     "text": [
      "\u001b[32mloss: 0.311:  16%|██████▌                                  |  ETA: 0:08:00\u001b[39m"
     ]
    },
    {
     "data": {
      "text/plain": [
       "0.35905308f0"
      ]
     },
     "metadata": {},
     "output_type": "display_data"
    },
    {
     "name": "stderr",
     "output_type": "stream",
     "text": [
      "\u001b[32mloss: 0.338:  16%|██████▊                                  |  ETA: 0:07:55\u001b[39m"
     ]
    },
    {
     "data": {
      "text/plain": [
       "0.3134349f0"
      ]
     },
     "metadata": {},
     "output_type": "display_data"
    },
    {
     "name": "stderr",
     "output_type": "stream",
     "text": [
      "\u001b[32mloss: 0.31:  17%|███████                                  |  ETA: 0:07:51\u001b[39mm"
     ]
    },
    {
     "data": {
      "text/plain": [
       "0.30736643f0"
      ]
     },
     "metadata": {},
     "output_type": "display_data"
    },
    {
     "name": "stderr",
     "output_type": "stream",
     "text": [
      "\u001b[32mloss: 0.36:  18%|███████▏                                 |  ETA: 0:07:48\u001b[39mm"
     ]
    },
    {
     "data": {
      "text/plain": [
       "0.28677034f0"
      ]
     },
     "metadata": {},
     "output_type": "display_data"
    },
    {
     "name": "stderr",
     "output_type": "stream",
     "text": [
      "\u001b[32mloss: 0.372:  18%|███████▍                                 |  ETA: 0:07:44\u001b[39m"
     ]
    },
    {
     "data": {
      "text/plain": [
       "0.34990832f0"
      ]
     },
     "metadata": {},
     "output_type": "display_data"
    },
    {
     "name": "stderr",
     "output_type": "stream",
     "text": [
      "\u001b[32mloss: 0.316:  18%|███████▋                                 |  ETA: 0:07:40\u001b[39m"
     ]
    },
    {
     "data": {
      "text/plain": [
       "0.33498567f0"
      ]
     },
     "metadata": {},
     "output_type": "display_data"
    },
    {
     "name": "stderr",
     "output_type": "stream",
     "text": [
      "\u001b[32mloss: 0.286:  19%|███████▊                                 |  ETA: 0:07:38\u001b[39m"
     ]
    },
    {
     "data": {
      "text/plain": [
       "0.31928322f0"
      ]
     },
     "metadata": {},
     "output_type": "display_data"
    },
    {
     "name": "stderr",
     "output_type": "stream",
     "text": [
      "\u001b[32mloss: 0.323:  20%|████████                                 |  ETA: 0:07:34\u001b[39m"
     ]
    },
    {
     "data": {
      "text/plain": [
       "0.30050802f0"
      ]
     },
     "metadata": {},
     "output_type": "display_data"
    },
    {
     "name": "stderr",
     "output_type": "stream",
     "text": [
      "\u001b[32mloss: 0.359:  20%|████████▎                                |  ETA: 0:07:30\u001b[39m"
     ]
    },
    {
     "data": {
      "text/plain": [
       "0.3086906f0"
      ]
     },
     "metadata": {},
     "output_type": "display_data"
    },
    {
     "name": "stderr",
     "output_type": "stream",
     "text": [
      "\u001b[32mloss: 0.343:  20%|████████▍                                |  ETA: 0:07:27\u001b[39m"
     ]
    },
    {
     "data": {
      "text/plain": [
       "0.33978072f0"
      ]
     },
     "metadata": {},
     "output_type": "display_data"
    },
    {
     "name": "stderr",
     "output_type": "stream",
     "text": [
      "\u001b[32mloss: 0.291:  21%|████████▋                                |  ETA: 0:07:22\u001b[39m"
     ]
    },
    {
     "data": {
      "text/plain": [
       "0.33343688f0"
      ]
     },
     "metadata": {},
     "output_type": "display_data"
    },
    {
     "name": "stderr",
     "output_type": "stream",
     "text": [
      "\u001b[32mloss: 0.309:  22%|████████▉                                |  ETA: 0:07:19\u001b[39m"
     ]
    },
    {
     "data": {
      "text/plain": [
       "0.3108423f0"
      ]
     },
     "metadata": {},
     "output_type": "display_data"
    },
    {
     "name": "stderr",
     "output_type": "stream",
     "text": [
      "\u001b[32mloss: 0.293:  22%|█████████                                |  ETA: 0:07:16\u001b[39m"
     ]
    },
    {
     "data": {
      "text/plain": [
       "0.3123893f0"
      ]
     },
     "metadata": {},
     "output_type": "display_data"
    },
    {
     "name": "stderr",
     "output_type": "stream",
     "text": [
      "\u001b[32mloss: 0.309:  22%|█████████▎                               |  ETA: 0:07:13\u001b[39m"
     ]
    },
    {
     "data": {
      "text/plain": [
       "0.29737148f0"
      ]
     },
     "metadata": {},
     "output_type": "display_data"
    },
    {
     "name": "stderr",
     "output_type": "stream",
     "text": [
      "\u001b[32mloss: 0.277:  23%|█████████▍                               |  ETA: 0:07:09\u001b[39m"
     ]
    },
    {
     "data": {
      "text/plain": [
       "0.29024988f0"
      ]
     },
     "metadata": {},
     "output_type": "display_data"
    },
    {
     "name": "stderr",
     "output_type": "stream",
     "text": [
      "\u001b[32mloss: 0.307:  24%|█████████▋                               |  ETA: 0:07:06\u001b[39m"
     ]
    },
    {
     "data": {
      "text/plain": [
       "0.27406108f0"
      ]
     },
     "metadata": {},
     "output_type": "display_data"
    },
    {
     "name": "stderr",
     "output_type": "stream",
     "text": [
      "\u001b[32mloss: 0.325:  24%|█████████▉                               |  ETA: 0:07:02\u001b[39m"
     ]
    },
    {
     "data": {
      "text/plain": [
       "0.33548537f0"
      ]
     },
     "metadata": {},
     "output_type": "display_data"
    },
    {
     "name": "stderr",
     "output_type": "stream",
     "text": [
      "\u001b[32mloss: 0.343:  24%|██████████                               |  ETA: 0:06:59\u001b[39m"
     ]
    },
    {
     "data": {
      "text/plain": [
       "0.29179993f0"
      ]
     },
     "metadata": {},
     "output_type": "display_data"
    },
    {
     "name": "stderr",
     "output_type": "stream",
     "text": [
      "\u001b[32mloss: 0.338:  25%|██████████▎                              |  ETA: 0:06:54\u001b[39m"
     ]
    },
    {
     "data": {
      "text/plain": [
       "0.29929352f0"
      ]
     },
     "metadata": {},
     "output_type": "display_data"
    },
    {
     "name": "stderr",
     "output_type": "stream",
     "text": [
      "\u001b[32mloss: 0.329:  26%|██████████▌                              |  ETA: 0:06:50\u001b[39m"
     ]
    },
    {
     "data": {
      "text/plain": [
       "0.29738244f0"
      ]
     },
     "metadata": {},
     "output_type": "display_data"
    },
    {
     "name": "stderr",
     "output_type": "stream",
     "text": [
      "\u001b[32mloss: 0.294:  26%|██████████▋                              |  ETA: 0:06:49\u001b[39m"
     ]
    },
    {
     "data": {
      "text/plain": [
       "0.31047866f0"
      ]
     },
     "metadata": {},
     "output_type": "display_data"
    },
    {
     "name": "stderr",
     "output_type": "stream",
     "text": [
      "\u001b[32mloss: 0.288:  26%|██████████▉                              |  ETA: 0:06:46\u001b[39m"
     ]
    },
    {
     "data": {
      "text/plain": [
       "0.28201693f0"
      ]
     },
     "metadata": {},
     "output_type": "display_data"
    },
    {
     "name": "stderr",
     "output_type": "stream",
     "text": [
      "\u001b[32mloss: 0.257:  27%|███████████▏                             |  ETA: 0:06:42\u001b[39m"
     ]
    },
    {
     "data": {
      "text/plain": [
       "0.27893877f0"
      ]
     },
     "metadata": {},
     "output_type": "display_data"
    },
    {
     "name": "stderr",
     "output_type": "stream",
     "text": [
      "\u001b[32mloss: 0.287:  28%|███████████▎                             |  ETA: 0:06:39\u001b[39m"
     ]
    },
    {
     "data": {
      "text/plain": [
       "0.2616891f0"
      ]
     },
     "metadata": {},
     "output_type": "display_data"
    },
    {
     "name": "stderr",
     "output_type": "stream",
     "text": [
      "\u001b[32mloss: 0.289:  28%|███████████▌                             |  ETA: 0:06:36\u001b[39m"
     ]
    },
    {
     "data": {
      "text/plain": [
       "0.31003982f0"
      ]
     },
     "metadata": {},
     "output_type": "display_data"
    },
    {
     "name": "stderr",
     "output_type": "stream",
     "text": [
      "\u001b[32mloss: 0.269:  28%|███████████▋                             |  ETA: 0:06:33\u001b[39m"
     ]
    },
    {
     "data": {
      "text/plain": [
       "0.281905f0"
      ]
     },
     "metadata": {},
     "output_type": "display_data"
    },
    {
     "name": "stderr",
     "output_type": "stream",
     "text": [
      "\u001b[32mloss: 0.282:  29%|███████████▉                             |  ETA: 0:06:30\u001b[39m"
     ]
    },
    {
     "data": {
      "text/plain": [
       "0.26078522f0"
      ]
     },
     "metadata": {},
     "output_type": "display_data"
    },
    {
     "name": "stderr",
     "output_type": "stream",
     "text": [
      "\u001b[32mloss: 0.265:  30%|████████████▏                            |  ETA: 0:06:26\u001b[39m"
     ]
    },
    {
     "data": {
      "text/plain": [
       "0.24991211f0"
      ]
     },
     "metadata": {},
     "output_type": "display_data"
    },
    {
     "name": "stderr",
     "output_type": "stream",
     "text": [
      "\u001b[32mloss: 0.28:  30%|████████████▎                            |  ETA: 0:06:23\u001b[39m"
     ]
    },
    {
     "data": {
      "text/plain": [
       "0.2915981f0"
      ]
     },
     "metadata": {},
     "output_type": "display_data"
    },
    {
     "name": "stderr",
     "output_type": "stream",
     "text": [
      "\u001b[32mloss: 0.27:  30%|████████████▌                            |  ETA: 0:06:20\u001b[39mm"
     ]
    },
    {
     "data": {
      "text/plain": [
       "0.25010115f0"
      ]
     },
     "metadata": {},
     "output_type": "display_data"
    },
    {
     "name": "stderr",
     "output_type": "stream",
     "text": [
      "\u001b[32mloss: 0.268:  31%|████████████▊                            |  ETA: 0:06:16\u001b[39m"
     ]
    },
    {
     "data": {
      "text/plain": [
       "0.25171822f0"
      ]
     },
     "metadata": {},
     "output_type": "display_data"
    },
    {
     "name": "stderr",
     "output_type": "stream",
     "text": [
      "\u001b[32mloss: 0.259:  32%|████████████▉                            |  ETA: 0:06:13\u001b[39m"
     ]
    },
    {
     "data": {
      "text/plain": [
       "0.2972566f0"
      ]
     },
     "metadata": {},
     "output_type": "display_data"
    },
    {
     "name": "stderr",
     "output_type": "stream",
     "text": [
      "\u001b[32mloss: 0.297:  32%|█████████████▏                           |  ETA: 0:06:09\u001b[39m"
     ]
    },
    {
     "data": {
      "text/plain": [
       "0.27719265f0"
      ]
     },
     "metadata": {},
     "output_type": "display_data"
    },
    {
     "name": "stderr",
     "output_type": "stream",
     "text": [
      "\u001b[32mloss: 0.271:  32%|█████████████▍                           |  ETA: 0:06:06\u001b[39m"
     ]
    },
    {
     "data": {
      "text/plain": [
       "0.29343468f0"
      ]
     },
     "metadata": {},
     "output_type": "display_data"
    },
    {
     "name": "stderr",
     "output_type": "stream",
     "text": [
      "\u001b[32mloss: 0.325:  33%|█████████████▌                           |  ETA: 0:06:03\u001b[39m"
     ]
    },
    {
     "data": {
      "text/plain": [
       "0.31980065f0"
      ]
     },
     "metadata": {},
     "output_type": "display_data"
    },
    {
     "name": "stderr",
     "output_type": "stream",
     "text": [
      "\u001b[32mloss: 0.354:  34%|█████████████▊                           |  ETA: 0:06:01\u001b[39m"
     ]
    },
    {
     "data": {
      "text/plain": [
       "0.31085175f0"
      ]
     },
     "metadata": {},
     "output_type": "display_data"
    },
    {
     "name": "stderr",
     "output_type": "stream",
     "text": [
      "\u001b[32mloss: 0.279:  34%|██████████████                           |  ETA: 0:05:58\u001b[39m"
     ]
    },
    {
     "data": {
      "text/plain": [
       "0.31872326f0"
      ]
     },
     "metadata": {},
     "output_type": "display_data"
    },
    {
     "name": "stderr",
     "output_type": "stream",
     "text": [
      "\u001b[32mloss: 0.321:  34%|██████████████▏                          |  ETA: 0:05:56\u001b[39m"
     ]
    },
    {
     "data": {
      "text/plain": [
       "0.27454597f0"
      ]
     },
     "metadata": {},
     "output_type": "display_data"
    },
    {
     "name": "stderr",
     "output_type": "stream",
     "text": [
      "\u001b[32mloss: 0.295:  35%|██████████████▍                          |  ETA: 0:05:53\u001b[39m"
     ]
    },
    {
     "data": {
      "text/plain": [
       "0.3132395f0"
      ]
     },
     "metadata": {},
     "output_type": "display_data"
    },
    {
     "name": "stderr",
     "output_type": "stream",
     "text": [
      "\u001b[32mloss: 0.295:  36%|██████████████▋                          |  ETA: 0:05:49\u001b[39m"
     ]
    },
    {
     "data": {
      "text/plain": [
       "0.2708866f0"
      ]
     },
     "metadata": {},
     "output_type": "display_data"
    },
    {
     "name": "stderr",
     "output_type": "stream",
     "text": [
      "\u001b[32mloss: 0.311:  36%|██████████████▉                          |  ETA: 0:05:45\u001b[39m"
     ]
    },
    {
     "data": {
      "text/plain": [
       "0.3094378f0"
      ]
     },
     "metadata": {},
     "output_type": "display_data"
    },
    {
     "name": "stderr",
     "output_type": "stream",
     "text": [
      "\u001b[32mloss: 0.275:  37%|███████████████                          |  ETA: 0:05:42\u001b[39m"
     ]
    },
    {
     "data": {
      "text/plain": [
       "0.3068648f0"
      ]
     },
     "metadata": {},
     "output_type": "display_data"
    },
    {
     "name": "stderr",
     "output_type": "stream",
     "text": [
      "\u001b[32mloss: 0.294:  37%|███████████████▎                         |  ETA: 0:05:39\u001b[39m"
     ]
    },
    {
     "data": {
      "text/plain": [
       "0.2952526f0"
      ]
     },
     "metadata": {},
     "output_type": "display_data"
    },
    {
     "name": "stderr",
     "output_type": "stream",
     "text": [
      "\u001b[32mloss: 0.313:  38%|███████████████▋                         |  ETA: 0:05:33\u001b[39m"
     ]
    },
    {
     "data": {
      "text/plain": [
       "0.29303414f0"
      ]
     },
     "metadata": {},
     "output_type": "display_data"
    },
    {
     "name": "stderr",
     "output_type": "stream",
     "text": [
      "\u001b[32mloss: 0.288:  38%|███████████████▊                         |  ETA: 0:05:30\u001b[39m"
     ]
    },
    {
     "data": {
      "text/plain": [
       "0.30700964f0"
      ]
     },
     "metadata": {},
     "output_type": "display_data"
    },
    {
     "name": "stderr",
     "output_type": "stream",
     "text": [
      "\u001b[32mloss: 0.297:  39%|████████████████                         |  ETA: 0:05:27\u001b[39m"
     ]
    },
    {
     "data": {
      "text/plain": [
       "0.31200668f0"
      ]
     },
     "metadata": {},
     "output_type": "display_data"
    },
    {
     "name": "stderr",
     "output_type": "stream",
     "text": [
      "\u001b[32mloss: 0.296:  40%|████████████████▎                        |  ETA: 0:05:25\u001b[39m"
     ]
    },
    {
     "data": {
      "text/plain": [
       "0.30292368f0"
      ]
     },
     "metadata": {},
     "output_type": "display_data"
    },
    {
     "name": "stderr",
     "output_type": "stream",
     "text": [
      "\u001b[32mloss: 0.32:  40%|████████████████▍                        |  ETA: 0:05:22\u001b[39mm"
     ]
    },
    {
     "data": {
      "text/plain": [
       "0.27410737f0"
      ]
     },
     "metadata": {},
     "output_type": "display_data"
    },
    {
     "name": "stderr",
     "output_type": "stream",
     "text": [
      "\u001b[32mloss: 0.264:  40%|████████████████▋                        |  ETA: 0:05:20\u001b[39m"
     ]
    },
    {
     "data": {
      "text/plain": [
       "0.2933251f0"
      ]
     },
     "metadata": {},
     "output_type": "display_data"
    },
    {
     "name": "stderr",
     "output_type": "stream",
     "text": [
      "\u001b[32mloss: 0.27:  41%|████████████████▊                        |  ETA: 0:05:16\u001b[39mm"
     ]
    },
    {
     "data": {
      "text/plain": [
       "0.27382785f0"
      ]
     },
     "metadata": {},
     "output_type": "display_data"
    },
    {
     "name": "stderr",
     "output_type": "stream",
     "text": [
      "\u001b[32mloss: 0.279:  42%|█████████████████                        |  ETA: 0:05:14\u001b[39m"
     ]
    },
    {
     "data": {
      "text/plain": [
       "0.2843734f0"
      ]
     },
     "metadata": {},
     "output_type": "display_data"
    },
    {
     "name": "stderr",
     "output_type": "stream",
     "text": [
      "\u001b[32mloss: 0.327:  42%|█████████████████▎                       |  ETA: 0:05:12\u001b[39m"
     ]
    },
    {
     "data": {
      "text/plain": [
       "0.31272578f0"
      ]
     },
     "metadata": {},
     "output_type": "display_data"
    },
    {
     "name": "stderr",
     "output_type": "stream",
     "text": [
      "\u001b[32mloss: 0.288:  42%|█████████████████▍                       |  ETA: 0:05:09\u001b[39m"
     ]
    },
    {
     "data": {
      "text/plain": [
       "0.29552317f0"
      ]
     },
     "metadata": {},
     "output_type": "display_data"
    },
    {
     "name": "stderr",
     "output_type": "stream",
     "text": [
      "\u001b[32mloss: 0.297:  43%|█████████████████▋                       |  ETA: 0:05:06\u001b[39m"
     ]
    },
    {
     "data": {
      "text/plain": [
       "0.32867938f0"
      ]
     },
     "metadata": {},
     "output_type": "display_data"
    },
    {
     "name": "stderr",
     "output_type": "stream",
     "text": [
      "\u001b[32mloss: 0.308:  44%|█████████████████▉                       |  ETA: 0:05:03\u001b[39m"
     ]
    },
    {
     "data": {
      "text/plain": [
       "0.3398861f0"
      ]
     },
     "metadata": {},
     "output_type": "display_data"
    },
    {
     "name": "stderr",
     "output_type": "stream",
     "text": [
      "\u001b[32mloss: 0.295:  44%|██████████████████                       |  ETA: 0:05:00\u001b[39m"
     ]
    },
    {
     "data": {
      "text/plain": [
       "0.35336655f0"
      ]
     },
     "metadata": {},
     "output_type": "display_data"
    },
    {
     "name": "stderr",
     "output_type": "stream",
     "text": [
      "\u001b[32mloss: 0.309:  44%|██████████████████▎                      |  ETA: 0:04:59\u001b[39m"
     ]
    },
    {
     "data": {
      "text/plain": [
       "0.37073112f0"
      ]
     },
     "metadata": {},
     "output_type": "display_data"
    },
    {
     "name": "stderr",
     "output_type": "stream",
     "text": [
      "\u001b[32mloss: 0.369:  45%|██████████████████▌                      |  ETA: 0:04:56\u001b[39m"
     ]
    },
    {
     "data": {
      "text/plain": [
       "0.32636693f0"
      ]
     },
     "metadata": {},
     "output_type": "display_data"
    },
    {
     "name": "stderr",
     "output_type": "stream",
     "text": [
      "\u001b[32mloss: 0.328:  46%|██████████████████▋                      |  ETA: 0:04:54\u001b[39m"
     ]
    },
    {
     "data": {
      "text/plain": [
       "0.34526762f0"
      ]
     },
     "metadata": {},
     "output_type": "display_data"
    },
    {
     "name": "stderr",
     "output_type": "stream",
     "text": [
      "\u001b[32mloss: 0.353:  46%|██████████████████▉                      |  ETA: 0:04:51\u001b[39m"
     ]
    },
    {
     "data": {
      "text/plain": [
       "0.28513923f0"
      ]
     },
     "metadata": {},
     "output_type": "display_data"
    },
    {
     "name": "stderr",
     "output_type": "stream",
     "text": [
      "\u001b[32mloss: 0.339:  46%|███████████████████▏                     |  ETA: 0:04:48\u001b[39m"
     ]
    },
    {
     "data": {
      "text/plain": [
       "0.31449482f0"
      ]
     },
     "metadata": {},
     "output_type": "display_data"
    },
    {
     "name": "stderr",
     "output_type": "stream",
     "text": [
      "\u001b[32mloss: 0.32:  47%|███████████████████▎                     |  ETA: 0:04:45\u001b[39mm"
     ]
    },
    {
     "data": {
      "text/plain": [
       "0.29050288f0"
      ]
     },
     "metadata": {},
     "output_type": "display_data"
    },
    {
     "name": "stderr",
     "output_type": "stream",
     "text": [
      "\u001b[32mloss: 0.325:  48%|███████████████████▌                     |  ETA: 0:04:42\u001b[39m"
     ]
    },
    {
     "data": {
      "text/plain": [
       "0.29658f0"
      ]
     },
     "metadata": {},
     "output_type": "display_data"
    },
    {
     "name": "stderr",
     "output_type": "stream",
     "text": [
      "\u001b[32mloss: 0.296:  48%|███████████████████▋                     |  ETA: 0:04:39\u001b[39m"
     ]
    },
    {
     "data": {
      "text/plain": [
       "0.2656078f0"
      ]
     },
     "metadata": {},
     "output_type": "display_data"
    },
    {
     "name": "stderr",
     "output_type": "stream",
     "text": [
      "\u001b[32mloss: 0.322:  48%|███████████████████▉                     |  ETA: 0:04:36\u001b[39m"
     ]
    },
    {
     "data": {
      "text/plain": [
       "0.32288608f0"
      ]
     },
     "metadata": {},
     "output_type": "display_data"
    },
    {
     "name": "stderr",
     "output_type": "stream",
     "text": [
      "\u001b[32mloss: 0.289:  49%|████████████████████▏                    |  ETA: 0:04:33\u001b[39m"
     ]
    },
    {
     "data": {
      "text/plain": [
       "0.33361515f0"
      ]
     },
     "metadata": {},
     "output_type": "display_data"
    },
    {
     "name": "stderr",
     "output_type": "stream",
     "text": [
      "\u001b[32mloss: 0.307:  50%|████████████████████▎                    |  ETA: 0:04:31\u001b[39m"
     ]
    },
    {
     "data": {
      "text/plain": [
       "0.24859208f0"
      ]
     },
     "metadata": {},
     "output_type": "display_data"
    },
    {
     "name": "stderr",
     "output_type": "stream",
     "text": [
      "\u001b[32mloss: 0.295:  50%|████████████████████▌                    |  ETA: 0:04:27\u001b[39m"
     ]
    },
    {
     "data": {
      "text/plain": [
       "0.30426547f0"
      ]
     },
     "metadata": {},
     "output_type": "display_data"
    },
    {
     "name": "stderr",
     "output_type": "stream",
     "text": [
      "\u001b[32mloss: 0.294:  50%|████████████████████▊                    |  ETA: 0:04:25\u001b[39m"
     ]
    },
    {
     "data": {
      "text/plain": [
       "0.303321f0"
      ]
     },
     "metadata": {},
     "output_type": "display_data"
    },
    {
     "name": "stderr",
     "output_type": "stream",
     "text": [
      "\u001b[32mloss: 0.305:  51%|████████████████████▉                    |  ETA: 0:04:22\u001b[39m"
     ]
    },
    {
     "data": {
      "text/plain": [
       "0.3089534f0"
      ]
     },
     "metadata": {},
     "output_type": "display_data"
    },
    {
     "name": "stderr",
     "output_type": "stream",
     "text": [
      "\u001b[32mloss: 0.3:  52%|█████████████████████▏                   |  ETA: 0:04:19\u001b[39m9m"
     ]
    },
    {
     "data": {
      "text/plain": [
       "0.33775955f0"
      ]
     },
     "metadata": {},
     "output_type": "display_data"
    },
    {
     "name": "stderr",
     "output_type": "stream",
     "text": [
      "\u001b[32mloss: 0.3:  52%|█████████████████████▍                   |  ETA: 0:04:17\u001b[39m9m"
     ]
    },
    {
     "data": {
      "text/plain": [
       "0.31304985f0"
      ]
     },
     "metadata": {},
     "output_type": "display_data"
    },
    {
     "name": "stderr",
     "output_type": "stream",
     "text": [
      "\u001b[32mloss: 0.338:  52%|█████████████████████▌                   |  ETA: 0:04:14\u001b[39m"
     ]
    },
    {
     "data": {
      "text/plain": [
       "0.30868703f0"
      ]
     },
     "metadata": {},
     "output_type": "display_data"
    },
    {
     "name": "stderr",
     "output_type": "stream",
     "text": [
      "\u001b[32mloss: 0.337:  53%|█████████████████████▊                   |  ETA: 0:04:11\u001b[39m"
     ]
    },
    {
     "data": {
      "text/plain": [
       "0.32247674f0"
      ]
     },
     "metadata": {},
     "output_type": "display_data"
    },
    {
     "name": "stderr",
     "output_type": "stream",
     "text": [
      "\u001b[32mloss: 0.33:  54%|█████████████████████▉                   |  ETA: 0:04:09\u001b[39mm"
     ]
    },
    {
     "data": {
      "text/plain": [
       "0.28567508f0"
      ]
     },
     "metadata": {},
     "output_type": "display_data"
    },
    {
     "name": "stderr",
     "output_type": "stream",
     "text": [
      "\u001b[32mloss: 0.302:  54%|██████████████████████▏                  |  ETA: 0:04:06\u001b[39m"
     ]
    },
    {
     "data": {
      "text/plain": [
       "0.30142036f0"
      ]
     },
     "metadata": {},
     "output_type": "display_data"
    },
    {
     "name": "stderr",
     "output_type": "stream",
     "text": [
      "\u001b[32mloss: 0.279:  54%|██████████████████████▍                  |  ETA: 0:04:03\u001b[39m"
     ]
    },
    {
     "data": {
      "text/plain": [
       "0.24619249f0"
      ]
     },
     "metadata": {},
     "output_type": "display_data"
    },
    {
     "name": "stderr",
     "output_type": "stream",
     "text": [
      "\u001b[32mloss: 0.267:  55%|██████████████████████▌                  |  ETA: 0:04:00\u001b[39m"
     ]
    },
    {
     "data": {
      "text/plain": [
       "0.3069125f0"
      ]
     },
     "metadata": {},
     "output_type": "display_data"
    },
    {
     "name": "stderr",
     "output_type": "stream",
     "text": [
      "\u001b[32mloss: 0.259:  56%|██████████████████████▉                  |  ETA: 0:03:56\u001b[39m"
     ]
    },
    {
     "data": {
      "text/plain": [
       "0.25506407f0"
      ]
     },
     "metadata": {},
     "output_type": "display_data"
    },
    {
     "name": "stderr",
     "output_type": "stream",
     "text": [
      "\u001b[32mloss: 0.306:  56%|███████████████████████▏                 |  ETA: 0:03:52\u001b[39m"
     ]
    },
    {
     "data": {
      "text/plain": [
       "0.26626006f0"
      ]
     },
     "metadata": {},
     "output_type": "display_data"
    },
    {
     "name": "stderr",
     "output_type": "stream",
     "text": [
      "\u001b[32mloss: 0.276:  57%|███████████████████████▍                 |  ETA: 0:03:49\u001b[39m"
     ]
    },
    {
     "data": {
      "text/plain": [
       "0.29753542f0"
      ]
     },
     "metadata": {},
     "output_type": "display_data"
    },
    {
     "name": "stderr",
     "output_type": "stream",
     "text": [
      "\u001b[32mloss: 0.283:  58%|███████████████████████▋                 |  ETA: 0:03:46\u001b[39m"
     ]
    },
    {
     "data": {
      "text/plain": [
       "0.25775355f0"
      ]
     },
     "metadata": {},
     "output_type": "display_data"
    },
    {
     "name": "stderr",
     "output_type": "stream",
     "text": [
      "\u001b[32mloss: 0.268:  58%|███████████████████████▊                 |  ETA: 0:03:43\u001b[39m"
     ]
    },
    {
     "data": {
      "text/plain": [
       "0.277458f0"
      ]
     },
     "metadata": {},
     "output_type": "display_data"
    },
    {
     "name": "stderr",
     "output_type": "stream",
     "text": [
      "\u001b[32mloss: 0.289:  58%|████████████████████████                 |  ETA: 0:03:40\u001b[39m"
     ]
    },
    {
     "data": {
      "text/plain": [
       "0.27617228f0"
      ]
     },
     "metadata": {},
     "output_type": "display_data"
    },
    {
     "name": "stderr",
     "output_type": "stream",
     "text": [
      "\u001b[32mloss: 0.274:  59%|████████████████████████▎                |  ETA: 0:03:36\u001b[39m"
     ]
    },
    {
     "data": {
      "text/plain": [
       "0.30293787f0"
      ]
     },
     "metadata": {},
     "output_type": "display_data"
    },
    {
     "name": "stderr",
     "output_type": "stream",
     "text": [
      "\u001b[32mloss: 0.246:  60%|████████████████████████▋                |  ETA: 0:03:32\u001b[39m"
     ]
    },
    {
     "data": {
      "text/plain": [
       "0.28544733f0"
      ]
     },
     "metadata": {},
     "output_type": "display_data"
    },
    {
     "name": "stderr",
     "output_type": "stream",
     "text": [
      "\u001b[32mloss: 0.249:  61%|████████████████████████▉                |  ETA: 0:03:28\u001b[39m"
     ]
    },
    {
     "data": {
      "text/plain": [
       "0.26599014f0"
      ]
     },
     "metadata": {},
     "output_type": "display_data"
    },
    {
     "name": "stderr",
     "output_type": "stream",
     "text": [
      "\u001b[32mloss: 0.289:  61%|█████████████████████████▏               |  ETA: 0:03:25\u001b[39m"
     ]
    },
    {
     "data": {
      "text/plain": [
       "0.30366975f0"
      ]
     },
     "metadata": {},
     "output_type": "display_data"
    },
    {
     "name": "stderr",
     "output_type": "stream",
     "text": [
      "\u001b[32mloss: 0.262:  62%|█████████████████████████▍               |  ETA: 0:03:20\u001b[39m"
     ]
    },
    {
     "data": {
      "text/plain": [
       "0.2697288f0"
      ]
     },
     "metadata": {},
     "output_type": "display_data"
    },
    {
     "name": "stderr",
     "output_type": "stream",
     "text": [
      "\u001b[32mloss: 0.274:  62%|█████████████████████████▋               |  ETA: 0:03:18\u001b[39m"
     ]
    },
    {
     "data": {
      "text/plain": [
       "0.27152586f0"
      ]
     },
     "metadata": {},
     "output_type": "display_data"
    },
    {
     "name": "stderr",
     "output_type": "stream",
     "text": [
      "\u001b[32mloss: 0.284:  63%|█████████████████████████▉               |  ETA: 0:03:15\u001b[39m"
     ]
    },
    {
     "data": {
      "text/plain": [
       "0.2661202f0"
      ]
     },
     "metadata": {},
     "output_type": "display_data"
    },
    {
     "name": "stderr",
     "output_type": "stream",
     "text": [
      "\u001b[32mloss: 0.306:  64%|██████████████████████████               |  ETA: 0:03:12\u001b[39m"
     ]
    },
    {
     "data": {
      "text/plain": [
       "0.30635244f0"
      ]
     },
     "metadata": {},
     "output_type": "display_data"
    },
    {
     "name": "stderr",
     "output_type": "stream",
     "text": [
      "\u001b[32mloss: 0.287:  64%|██████████████████████████▎              |  ETA: 0:03:09\u001b[39m"
     ]
    },
    {
     "data": {
      "text/plain": [
       "0.2722914f0"
      ]
     },
     "metadata": {},
     "output_type": "display_data"
    },
    {
     "name": "stderr",
     "output_type": "stream",
     "text": [
      "\u001b[32mloss: 0.271:  64%|██████████████████████████▌              |  ETA: 0:03:07\u001b[39m"
     ]
    },
    {
     "data": {
      "text/plain": [
       "0.27848503f0"
      ]
     },
     "metadata": {},
     "output_type": "display_data"
    },
    {
     "name": "stderr",
     "output_type": "stream",
     "text": [
      "\u001b[32mloss: 0.303:  65%|██████████████████████████▋              |  ETA: 0:03:04\u001b[39m"
     ]
    },
    {
     "data": {
      "text/plain": [
       "0.2858426f0"
      ]
     },
     "metadata": {},
     "output_type": "display_data"
    },
    {
     "name": "stderr",
     "output_type": "stream",
     "text": [
      "\u001b[32mloss: 0.311:  66%|██████████████████████████▉              |  ETA: 0:03:01\u001b[39m"
     ]
    },
    {
     "data": {
      "text/plain": [
       "0.3156957f0"
      ]
     },
     "metadata": {},
     "output_type": "display_data"
    },
    {
     "name": "stderr",
     "output_type": "stream",
     "text": [
      "\u001b[32mloss: 0.291:  66%|███████████████████████████              |  ETA: 0:02:59\u001b[39m"
     ]
    },
    {
     "data": {
      "text/plain": [
       "0.3021489f0"
      ]
     },
     "metadata": {},
     "output_type": "display_data"
    },
    {
     "name": "stderr",
     "output_type": "stream",
     "text": [
      "\u001b[32mloss: 0.324:  66%|███████████████████████████▎             |  ETA: 0:02:56\u001b[39m"
     ]
    },
    {
     "data": {
      "text/plain": [
       "0.32523698f0"
      ]
     },
     "metadata": {},
     "output_type": "display_data"
    },
    {
     "name": "stderr",
     "output_type": "stream",
     "text": [
      "\u001b[32mloss: 0.309:  67%|███████████████████████████▌             |  ETA: 0:02:53\u001b[39m"
     ]
    },
    {
     "data": {
      "text/plain": [
       "0.26714683f0"
      ]
     },
     "metadata": {},
     "output_type": "display_data"
    },
    {
     "name": "stderr",
     "output_type": "stream",
     "text": [
      "\u001b[32mloss: 0.279:  68%|███████████████████████████▋             |  ETA: 0:02:51\u001b[39m"
     ]
    },
    {
     "data": {
      "text/plain": [
       "0.30085322f0"
      ]
     },
     "metadata": {},
     "output_type": "display_data"
    },
    {
     "name": "stderr",
     "output_type": "stream",
     "text": [
      "\u001b[32mloss: 0.271:  68%|███████████████████████████▉             |  ETA: 0:02:48\u001b[39m"
     ]
    },
    {
     "data": {
      "text/plain": [
       "0.28677717f0"
      ]
     },
     "metadata": {},
     "output_type": "display_data"
    },
    {
     "name": "stderr",
     "output_type": "stream",
     "text": [
      "\u001b[32mloss: 0.285:  68%|████████████████████████████▏            |  ETA: 0:02:45\u001b[39m"
     ]
    },
    {
     "data": {
      "text/plain": [
       "0.27582383f0"
      ]
     },
     "metadata": {},
     "output_type": "display_data"
    },
    {
     "name": "stderr",
     "output_type": "stream",
     "text": [
      "\u001b[32mloss: 0.325:  69%|████████████████████████████▎            |  ETA: 0:02:42\u001b[39m"
     ]
    },
    {
     "data": {
      "text/plain": [
       "0.3048806f0"
      ]
     },
     "metadata": {},
     "output_type": "display_data"
    },
    {
     "name": "stderr",
     "output_type": "stream",
     "text": [
      "\u001b[32mloss: 0.311:  70%|████████████████████████████▌            |  ETA: 0:02:40\u001b[39m"
     ]
    },
    {
     "data": {
      "text/plain": [
       "0.29378855f0"
      ]
     },
     "metadata": {},
     "output_type": "display_data"
    },
    {
     "name": "stderr",
     "output_type": "stream",
     "text": [
      "\u001b[32mloss: 0.309:  70%|████████████████████████████▊            |  ETA: 0:02:37\u001b[39m"
     ]
    },
    {
     "data": {
      "text/plain": [
       "0.29082638f0"
      ]
     },
     "metadata": {},
     "output_type": "display_data"
    },
    {
     "name": "stderr",
     "output_type": "stream",
     "text": [
      "\u001b[32mloss: 0.275:  70%|████████████████████████████▉            |  ETA: 0:02:35\u001b[39m"
     ]
    },
    {
     "data": {
      "text/plain": [
       "0.30446917f0"
      ]
     },
     "metadata": {},
     "output_type": "display_data"
    },
    {
     "name": "stderr",
     "output_type": "stream",
     "text": [
      "\u001b[32mloss: 0.305:  71%|█████████████████████████████▏           |  ETA: 0:02:32\u001b[39m"
     ]
    },
    {
     "data": {
      "text/plain": [
       "0.28955346f0"
      ]
     },
     "metadata": {},
     "output_type": "display_data"
    },
    {
     "name": "stderr",
     "output_type": "stream",
     "text": [
      "\u001b[32mloss: 0.298:  72%|█████████████████████████████▍           |  ETA: 0:02:29\u001b[39m"
     ]
    },
    {
     "data": {
      "text/plain": [
       "0.30696028f0"
      ]
     },
     "metadata": {},
     "output_type": "display_data"
    },
    {
     "name": "stderr",
     "output_type": "stream",
     "text": [
      "\u001b[32mloss: 0.312:  72%|█████████████████████████████▌           |  ETA: 0:02:27\u001b[39m"
     ]
    },
    {
     "data": {
      "text/plain": [
       "0.25950164f0"
      ]
     },
     "metadata": {},
     "output_type": "display_data"
    },
    {
     "name": "stderr",
     "output_type": "stream",
     "text": [
      "\u001b[32mloss: 0.261:  72%|█████████████████████████████▊           |  ETA: 0:02:24\u001b[39m"
     ]
    },
    {
     "data": {
      "text/plain": [
       "0.29475158f0"
      ]
     },
     "metadata": {},
     "output_type": "display_data"
    },
    {
     "name": "stderr",
     "output_type": "stream",
     "text": [
      "\u001b[32mloss: 0.289:  73%|█████████████████████████████▉           |  ETA: 0:02:21\u001b[39m"
     ]
    },
    {
     "data": {
      "text/plain": [
       "0.27277488f0"
      ]
     },
     "metadata": {},
     "output_type": "display_data"
    },
    {
     "name": "stderr",
     "output_type": "stream",
     "text": [
      "\u001b[32mloss: 0.278:  74%|██████████████████████████████▏          |  ETA: 0:02:19\u001b[39m"
     ]
    },
    {
     "data": {
      "text/plain": [
       "0.26108533f0"
      ]
     },
     "metadata": {},
     "output_type": "display_data"
    },
    {
     "name": "stderr",
     "output_type": "stream",
     "text": [
      "\u001b[32mloss: 0.276:  74%|██████████████████████████████▍          |  ETA: 0:02:16\u001b[39m"
     ]
    },
    {
     "data": {
      "text/plain": [
       "0.2917074f0"
      ]
     },
     "metadata": {},
     "output_type": "display_data"
    },
    {
     "name": "stderr",
     "output_type": "stream",
     "text": [
      "\u001b[32mloss: 0.272:  74%|██████████████████████████████▌          |  ETA: 0:02:14\u001b[39m"
     ]
    },
    {
     "data": {
      "text/plain": [
       "0.31367993f0"
      ]
     },
     "metadata": {},
     "output_type": "display_data"
    },
    {
     "name": "stderr",
     "output_type": "stream",
     "text": [
      "\u001b[32mloss: 0.333:  75%|██████████████████████████████▊          |  ETA: 0:02:11\u001b[39m"
     ]
    },
    {
     "data": {
      "text/plain": [
       "0.2849202f0"
      ]
     },
     "metadata": {},
     "output_type": "display_data"
    },
    {
     "name": "stderr",
     "output_type": "stream",
     "text": [
      "\u001b[32mloss: 0.324:  76%|███████████████████████████████          |  ETA: 0:02:08\u001b[39m"
     ]
    },
    {
     "data": {
      "text/plain": [
       "0.30202985f0"
      ]
     },
     "metadata": {},
     "output_type": "display_data"
    },
    {
     "name": "stderr",
     "output_type": "stream",
     "text": [
      "\u001b[32mloss: 0.291:  76%|███████████████████████████████▏         |  ETA: 0:02:06\u001b[39m"
     ]
    },
    {
     "data": {
      "text/plain": [
       "0.2880144f0"
      ]
     },
     "metadata": {},
     "output_type": "display_data"
    },
    {
     "name": "stderr",
     "output_type": "stream",
     "text": [
      "\u001b[32mloss: 0.312:  76%|███████████████████████████████▍         |  ETA: 0:02:03\u001b[39m"
     ]
    },
    {
     "data": {
      "text/plain": [
       "0.27826202f0"
      ]
     },
     "metadata": {},
     "output_type": "display_data"
    },
    {
     "name": "stderr",
     "output_type": "stream",
     "text": [
      "\u001b[32mloss: 0.3:  77%|███████████████████████████████▋         |  ETA: 0:02:00\u001b[39m9m"
     ]
    },
    {
     "data": {
      "text/plain": [
       "0.3243587f0"
      ]
     },
     "metadata": {},
     "output_type": "display_data"
    },
    {
     "name": "stderr",
     "output_type": "stream",
     "text": [
      "\u001b[32mloss: 0.29:  78%|███████████████████████████████▊         |  ETA: 0:01:58\u001b[39mm"
     ]
    },
    {
     "data": {
      "text/plain": [
       "0.26837593f0"
      ]
     },
     "metadata": {},
     "output_type": "display_data"
    },
    {
     "name": "stderr",
     "output_type": "stream",
     "text": [
      "\u001b[32mloss: 0.277:  78%|████████████████████████████████         |  ETA: 0:01:54\u001b[39m"
     ]
    },
    {
     "data": {
      "text/plain": [
       "0.26901212f0"
      ]
     },
     "metadata": {},
     "output_type": "display_data"
    },
    {
     "name": "stderr",
     "output_type": "stream",
     "text": [
      "\u001b[32mloss: 0.29:  79%|████████████████████████████████▎        |  ETA: 0:01:51\u001b[39mm"
     ]
    },
    {
     "data": {
      "text/plain": [
       "0.26985052f0"
      ]
     },
     "metadata": {},
     "output_type": "display_data"
    },
    {
     "name": "stderr",
     "output_type": "stream",
     "text": [
      "\u001b[32mloss: 0.268:  79%|████████████████████████████████▌        |  ETA: 0:01:49\u001b[39m"
     ]
    },
    {
     "data": {
      "text/plain": [
       "0.29397413f0"
      ]
     },
     "metadata": {},
     "output_type": "display_data"
    },
    {
     "name": "stderr",
     "output_type": "stream",
     "text": [
      "\u001b[32mloss: 0.273:  80%|████████████████████████████████▋        |  ETA: 0:01:46\u001b[39m"
     ]
    },
    {
     "data": {
      "text/plain": [
       "0.22160473f0"
      ]
     },
     "metadata": {},
     "output_type": "display_data"
    },
    {
     "name": "stderr",
     "output_type": "stream",
     "text": [
      "\u001b[32mloss: 0.24:  80%|████████████████████████████████▉        |  ETA: 0:01:43\u001b[39mm"
     ]
    },
    {
     "data": {
      "text/plain": [
       "0.27437788f0"
      ]
     },
     "metadata": {},
     "output_type": "display_data"
    },
    {
     "name": "stderr",
     "output_type": "stream",
     "text": [
      "\u001b[32mloss: 0.26:  81%|█████████████████████████████████▏       |  ETA: 0:01:41\u001b[39mm"
     ]
    },
    {
     "data": {
      "text/plain": [
       "0.26027548f0"
      ]
     },
     "metadata": {},
     "output_type": "display_data"
    },
    {
     "name": "stderr",
     "output_type": "stream",
     "text": [
      "\u001b[32mloss: 0.293:  81%|█████████████████████████████████▎       |  ETA: 0:01:38\u001b[39m"
     ]
    },
    {
     "data": {
      "text/plain": [
       "0.26247302f0"
      ]
     },
     "metadata": {},
     "output_type": "display_data"
    },
    {
     "name": "stderr",
     "output_type": "stream",
     "text": [
      "\u001b[32mloss: 0.283:  82%|█████████████████████████████████▌       |  ETA: 0:01:36\u001b[39m"
     ]
    },
    {
     "data": {
      "text/plain": [
       "0.30625656f0"
      ]
     },
     "metadata": {},
     "output_type": "display_data"
    },
    {
     "name": "stderr",
     "output_type": "stream",
     "text": [
      "\u001b[32mloss: 0.333:  82%|█████████████████████████████████▊       |  ETA: 0:01:33\u001b[39m"
     ]
    },
    {
     "data": {
      "text/plain": [
       "0.30293712f0"
      ]
     },
     "metadata": {},
     "output_type": "display_data"
    },
    {
     "name": "stderr",
     "output_type": "stream",
     "text": [
      "\u001b[32mloss: 0.319:  83%|█████████████████████████████████▉       |  ETA: 0:01:30\u001b[39m"
     ]
    },
    {
     "data": {
      "text/plain": [
       "0.3029621f0"
      ]
     },
     "metadata": {},
     "output_type": "display_data"
    },
    {
     "name": "stderr",
     "output_type": "stream",
     "text": [
      "\u001b[32mloss: 0.32:  83%|██████████████████████████████████▏      |  ETA: 0:01:28\u001b[39mm"
     ]
    },
    {
     "data": {
      "text/plain": [
       "0.2867033f0"
      ]
     },
     "metadata": {},
     "output_type": "display_data"
    },
    {
     "name": "stderr",
     "output_type": "stream",
     "text": [
      "\u001b[32mloss: 0.282:  84%|██████████████████████████████████▍      |  ETA: 0:01:25\u001b[39m"
     ]
    },
    {
     "data": {
      "text/plain": [
       "0.30121896f0"
      ]
     },
     "metadata": {},
     "output_type": "display_data"
    },
    {
     "name": "stderr",
     "output_type": "stream",
     "text": [
      "\u001b[32mloss: 0.305:  84%|██████████████████████████████████▌      |  ETA: 0:01:23\u001b[39m"
     ]
    },
    {
     "data": {
      "text/plain": [
       "0.26933023f0"
      ]
     },
     "metadata": {},
     "output_type": "display_data"
    },
    {
     "name": "stderr",
     "output_type": "stream",
     "text": [
      "\u001b[32mloss: 0.263:  85%|██████████████████████████████████▊      |  ETA: 0:01:20\u001b[39m"
     ]
    },
    {
     "data": {
      "text/plain": [
       "0.26836425f0"
      ]
     },
     "metadata": {},
     "output_type": "display_data"
    },
    {
     "name": "stderr",
     "output_type": "stream",
     "text": [
      "\u001b[32mloss: 0.288:  85%|██████████████████████████████████▉      |  ETA: 0:01:17\u001b[39m"
     ]
    },
    {
     "data": {
      "text/plain": [
       "0.2825969f0"
      ]
     },
     "metadata": {},
     "output_type": "display_data"
    },
    {
     "name": "stderr",
     "output_type": "stream",
     "text": [
      "\u001b[32mloss: 0.317:  86%|███████████████████████████████████▏     |  ETA: 0:01:15\u001b[39m"
     ]
    },
    {
     "data": {
      "text/plain": [
       "0.29206413f0"
      ]
     },
     "metadata": {},
     "output_type": "display_data"
    },
    {
     "name": "stderr",
     "output_type": "stream",
     "text": [
      "\u001b[32mloss: 0.331:  86%|███████████████████████████████████▍     |  ETA: 0:01:12\u001b[39m"
     ]
    },
    {
     "data": {
      "text/plain": [
       "0.28383747f0"
      ]
     },
     "metadata": {},
     "output_type": "display_data"
    },
    {
     "name": "stderr",
     "output_type": "stream",
     "text": [
      "\u001b[32mloss: 0.313:  87%|███████████████████████████████████▌     |  ETA: 0:01:10\u001b[39m"
     ]
    },
    {
     "data": {
      "text/plain": [
       "0.2800381f0"
      ]
     },
     "metadata": {},
     "output_type": "display_data"
    },
    {
     "name": "stderr",
     "output_type": "stream",
     "text": [
      "\u001b[32mloss: 0.263:  87%|███████████████████████████████████▊     |  ETA: 0:01:07\u001b[39m"
     ]
    },
    {
     "data": {
      "text/plain": [
       "0.26926905f0"
      ]
     },
     "metadata": {},
     "output_type": "display_data"
    },
    {
     "name": "stderr",
     "output_type": "stream",
     "text": [
      "\u001b[32mloss: 0.278:  88%|████████████████████████████████████     |  ETA: 0:01:04\u001b[39m"
     ]
    },
    {
     "data": {
      "text/plain": [
       "0.2662758f0"
      ]
     },
     "metadata": {},
     "output_type": "display_data"
    },
    {
     "name": "stderr",
     "output_type": "stream",
     "text": [
      "\u001b[32mloss: 0.265:  88%|████████████████████████████████████▏    |  ETA: 0:01:02\u001b[39m"
     ]
    },
    {
     "data": {
      "text/plain": [
       "0.25527835f0"
      ]
     },
     "metadata": {},
     "output_type": "display_data"
    },
    {
     "name": "stderr",
     "output_type": "stream",
     "text": [
      "\u001b[32mloss: 0.28:  89%|████████████████████████████████████▍    |  ETA: 0:00:59\u001b[39mm"
     ]
    },
    {
     "data": {
      "text/plain": [
       "0.23195311f0"
      ]
     },
     "metadata": {},
     "output_type": "display_data"
    },
    {
     "name": "stderr",
     "output_type": "stream",
     "text": [
      "\u001b[32mloss: 0.24:  89%|████████████████████████████████████▋    |  ETA: 0:00:57\u001b[39mm"
     ]
    },
    {
     "data": {
      "text/plain": [
       "0.273049f0"
      ]
     },
     "metadata": {},
     "output_type": "display_data"
    },
    {
     "name": "stderr",
     "output_type": "stream",
     "text": [
      "\u001b[32mloss: 0.223:  90%|████████████████████████████████████▊    |  ETA: 0:00:54\u001b[39m"
     ]
    },
    {
     "data": {
      "text/plain": [
       "0.2111211f0"
      ]
     },
     "metadata": {},
     "output_type": "display_data"
    },
    {
     "name": "stderr",
     "output_type": "stream",
     "text": [
      "\u001b[32mloss: 0.256:  90%|█████████████████████████████████████    |  ETA: 0:00:51\u001b[39m"
     ]
    },
    {
     "data": {
      "text/plain": [
       "0.23323846f0"
      ]
     },
     "metadata": {},
     "output_type": "display_data"
    },
    {
     "name": "stderr",
     "output_type": "stream",
     "text": [
      "\u001b[32mloss: 0.22:  91%|█████████████████████████████████████▏   |  ETA: 0:00:49\u001b[39mm"
     ]
    },
    {
     "data": {
      "text/plain": [
       "0.22832876f0"
      ]
     },
     "metadata": {},
     "output_type": "display_data"
    },
    {
     "name": "stderr",
     "output_type": "stream",
     "text": [
      "\u001b[32mloss: 0.267:  91%|█████████████████████████████████████▍   |  ETA: 0:00:46\u001b[39m"
     ]
    },
    {
     "data": {
      "text/plain": [
       "0.23251835f0"
      ]
     },
     "metadata": {},
     "output_type": "display_data"
    },
    {
     "name": "stderr",
     "output_type": "stream",
     "text": [
      "\u001b[32mloss: 0.252:  92%|█████████████████████████████████████▊   |  ETA: 0:00:42\u001b[39m"
     ]
    },
    {
     "data": {
      "text/plain": [
       "0.27661693f0"
      ]
     },
     "metadata": {},
     "output_type": "display_data"
    },
    {
     "name": "stderr",
     "output_type": "stream",
     "text": [
      "\u001b[32mloss: 0.252:  92%|█████████████████████████████████████▉   |  ETA: 0:00:39\u001b[39m"
     ]
    },
    {
     "data": {
      "text/plain": [
       "0.24302034f0"
      ]
     },
     "metadata": {},
     "output_type": "display_data"
    },
    {
     "name": "stderr",
     "output_type": "stream",
     "text": [
      "\u001b[32mloss: 0.275:  93%|██████████████████████████████████████▏  |  ETA: 0:00:36\u001b[39m"
     ]
    },
    {
     "data": {
      "text/plain": [
       "0.28300062f0"
      ]
     },
     "metadata": {},
     "output_type": "display_data"
    },
    {
     "name": "stderr",
     "output_type": "stream",
     "text": [
      "\u001b[32mloss: 0.254:  94%|██████████████████████████████████████▍  |  ETA: 0:00:34\u001b[39m"
     ]
    },
    {
     "data": {
      "text/plain": [
       "0.2478278f0"
      ]
     },
     "metadata": {},
     "output_type": "display_data"
    },
    {
     "name": "stderr",
     "output_type": "stream",
     "text": [
      "\u001b[32mloss: 0.226:  94%|██████████████████████████████████████▌  |  ETA: 0:00:31\u001b[39m"
     ]
    },
    {
     "data": {
      "text/plain": [
       "0.24883929f0"
      ]
     },
     "metadata": {},
     "output_type": "display_data"
    },
    {
     "name": "stderr",
     "output_type": "stream",
     "text": [
      "\u001b[32mloss: 0.254:  94%|██████████████████████████████████████▊  |  ETA: 0:00:29\u001b[39m"
     ]
    },
    {
     "data": {
      "text/plain": [
       "0.23691732f0"
      ]
     },
     "metadata": {},
     "output_type": "display_data"
    },
    {
     "name": "stderr",
     "output_type": "stream",
     "text": [
      "\u001b[32mloss: 0.248:  95%|███████████████████████████████████████  |  ETA: 0:00:26\u001b[39m"
     ]
    },
    {
     "data": {
      "text/plain": [
       "0.26006064f0"
      ]
     },
     "metadata": {},
     "output_type": "display_data"
    },
    {
     "name": "stderr",
     "output_type": "stream",
     "text": [
      "\u001b[32mloss: 0.256:  96%|███████████████████████████████████████▏ |  ETA: 0:00:23\u001b[39m"
     ]
    },
    {
     "data": {
      "text/plain": [
       "0.25978523f0"
      ]
     },
     "metadata": {},
     "output_type": "display_data"
    },
    {
     "name": "stderr",
     "output_type": "stream",
     "text": [
      "\u001b[32mloss: 0.32:  96%|███████████████████████████████████████▌ |  ETA: 0:00:20\u001b[39mm"
     ]
    },
    {
     "data": {
      "text/plain": [
       "0.27111977f0"
      ]
     },
     "metadata": {},
     "output_type": "display_data"
    },
    {
     "name": "stderr",
     "output_type": "stream",
     "text": [
      "\u001b[32mloss: 0.265:  97%|███████████████████████████████████████▊ |  ETA: 0:00:16\u001b[39m"
     ]
    },
    {
     "data": {
      "text/plain": [
       "0.28277308f0"
      ]
     },
     "metadata": {},
     "output_type": "display_data"
    },
    {
     "name": "stderr",
     "output_type": "stream",
     "text": [
      "\u001b[32mloss: 0.268:  98%|████████████████████████████████████████ |  ETA: 0:00:13\u001b[39m"
     ]
    },
    {
     "data": {
      "text/plain": [
       "0.24653605f0"
      ]
     },
     "metadata": {},
     "output_type": "display_data"
    },
    {
     "name": "stderr",
     "output_type": "stream",
     "text": [
      "\u001b[32mloss: 0.286:  98%|████████████████████████████████████████▎|  ETA: 0:00:09\u001b[39m"
     ]
    },
    {
     "data": {
      "text/plain": [
       "0.27994475f0"
      ]
     },
     "metadata": {},
     "output_type": "display_data"
    },
    {
     "name": "stderr",
     "output_type": "stream",
     "text": [
      "\u001b[32mloss: 0.252:  99%|████████████████████████████████████████▌|  ETA: 0:00:07\u001b[39m"
     ]
    },
    {
     "data": {
      "text/plain": [
       "0.2723713f0"
      ]
     },
     "metadata": {},
     "output_type": "display_data"
    },
    {
     "name": "stderr",
     "output_type": "stream",
     "text": [
      "\u001b[32mloss: 0.269:  99%|████████████████████████████████████████▋|  ETA: 0:00:04\u001b[39m"
     ]
    },
    {
     "data": {
      "text/plain": [
       "0.26261923f0"
      ]
     },
     "metadata": {},
     "output_type": "display_data"
    },
    {
     "name": "stderr",
     "output_type": "stream",
     "text": [
      "\u001b[32mloss: 0.275: 100%|████████████████████████████████████████▉|  ETA: 0:00:02\u001b[39m"
     ]
    },
    {
     "data": {
      "text/plain": [
       "0.31243846f0"
      ]
     },
     "metadata": {},
     "output_type": "display_data"
    },
    {
     "name": "stderr",
     "output_type": "stream",
     "text": [
      "\r",
      "\u001b[32mloss: 0.312: 100%|█████████████████████████████████████████| Time: 0:08:41\u001b[39m\n"
     ]
    },
    {
     "data": {
      "text/plain": [
       " * Status: failure (reached maximum number of iterations)\n",
       "\n",
       " * Candidate solution\n",
       "    Minimizer: [-6.09e-02, 9.54e-02, -9.65e-03,  ...]\n",
       "    Minimum:   3.124385e-01\n",
       "\n",
       " * Found with\n",
       "    Algorithm:     ADAM\n",
       "    Initial Point: [-4.69e-02, 7.89e-02, -2.35e-02,  ...]\n",
       "\n",
       " * Convergence measures\n",
       "    |x - x'|               = NaN ≰ 0.0e+00\n",
       "    |x - x'|/|x'|          = NaN ≰ 0.0e+00\n",
       "    |f(x) - f(x')|         = NaN ≰ 0.0e+00\n",
       "    |f(x) - f(x')|/|f(x')| = NaN ≰ 0.0e+00\n",
       "    |g(x)|                 = NaN ≰ 0.0e+00\n",
       "\n",
       " * Work counters\n",
       "    Seconds run:   522  (vs limit Inf)\n",
       "    Iterations:    400\n",
       "    f(x) calls:    400\n",
       "    ∇f(x) calls:   400\n"
      ]
     },
     "execution_count": 158,
     "metadata": {},
     "output_type": "execute_result"
    }
   ],
   "source": [
    "#res = DiffEqFlux.sciml_train(loss_node, res.minimizer, ADAM(), dataset, cb=Flux.throttle(cb, 1), maxiters=1000)\n",
    "res = DiffEqFlux.sciml_train(loss_node, res.minimizer, ADAM(), cb=Flux.throttle(cb, 1), maxiters=400)"
   ]
  },
  {
   "cell_type": "code",
   "execution_count": 219,
   "metadata": {
    "scrolled": true
   },
   "outputs": [
    {
     "data": {
      "text/plain": [
       "7.5800954f-6"
      ]
     },
     "metadata": {},
     "output_type": "display_data"
    },
    {
     "data": {
      "text/plain": [
       "7.5686403f-6"
      ]
     },
     "metadata": {},
     "output_type": "display_data"
    },
    {
     "data": {
      "text/plain": [
       "7.5604994f-6"
      ]
     },
     "metadata": {},
     "output_type": "display_data"
    },
    {
     "data": {
      "text/plain": [
       "7.4932314f-6"
      ]
     },
     "metadata": {},
     "output_type": "display_data"
    },
    {
     "data": {
      "text/plain": [
       "7.412964f-6"
      ]
     },
     "metadata": {},
     "output_type": "display_data"
    },
    {
     "data": {
      "text/plain": [
       "7.3937154f-6"
      ]
     },
     "metadata": {},
     "output_type": "display_data"
    },
    {
     "data": {
      "text/plain": [
       "7.3908086f-6"
      ]
     },
     "metadata": {},
     "output_type": "display_data"
    },
    {
     "data": {
      "text/plain": [
       "7.3825595f-6"
      ]
     },
     "metadata": {},
     "output_type": "display_data"
    },
    {
     "data": {
      "text/plain": [
       "7.3787337f-6"
      ]
     },
     "metadata": {},
     "output_type": "display_data"
    },
    {
     "data": {
      "text/plain": [
       "7.351012f-6"
      ]
     },
     "metadata": {},
     "output_type": "display_data"
    },
    {
     "data": {
      "text/plain": [
       "7.3280116f-6"
      ]
     },
     "metadata": {},
     "output_type": "display_data"
    },
    {
     "data": {
      "text/plain": [
       "7.3223273f-6"
      ]
     },
     "metadata": {},
     "output_type": "display_data"
    },
    {
     "data": {
      "text/plain": [
       "7.211362f-6"
      ]
     },
     "metadata": {},
     "output_type": "display_data"
    },
    {
     "data": {
      "text/plain": [
       "7.0039387f-6"
      ]
     },
     "metadata": {},
     "output_type": "display_data"
    },
    {
     "data": {
      "text/plain": [
       "6.9686616f-6"
      ]
     },
     "metadata": {},
     "output_type": "display_data"
    },
    {
     "data": {
      "text/plain": [
       "6.9503603f-6"
      ]
     },
     "metadata": {},
     "output_type": "display_data"
    },
    {
     "data": {
      "text/plain": [
       "6.927652f-6"
      ]
     },
     "metadata": {},
     "output_type": "display_data"
    },
    {
     "data": {
      "text/plain": [
       "6.8706277f-6"
      ]
     },
     "metadata": {},
     "output_type": "display_data"
    },
    {
     "data": {
      "text/plain": [
       "6.820292f-6"
      ]
     },
     "metadata": {},
     "output_type": "display_data"
    },
    {
     "data": {
      "text/plain": [
       "6.815494f-6"
      ]
     },
     "metadata": {},
     "output_type": "display_data"
    },
    {
     "data": {
      "text/plain": [
       "6.8136032f-6"
      ]
     },
     "metadata": {},
     "output_type": "display_data"
    },
    {
     "data": {
      "text/plain": [
       "6.812651f-6"
      ]
     },
     "metadata": {},
     "output_type": "display_data"
    },
    {
     "data": {
      "text/plain": [
       "6.810013f-6"
      ]
     },
     "metadata": {},
     "output_type": "display_data"
    },
    {
     "data": {
      "text/plain": [
       "6.799743f-6"
      ]
     },
     "metadata": {},
     "output_type": "display_data"
    },
    {
     "data": {
      "text/plain": [
       "6.7987253f-6"
      ]
     },
     "metadata": {},
     "output_type": "display_data"
    },
    {
     "data": {
      "text/plain": [
       "6.7975334f-6"
      ]
     },
     "metadata": {},
     "output_type": "display_data"
    },
    {
     "data": {
      "text/plain": [
       "6.7924097f-6"
      ]
     },
     "metadata": {},
     "output_type": "display_data"
    },
    {
     "data": {
      "text/plain": [
       "6.759332f-6"
      ]
     },
     "metadata": {},
     "output_type": "display_data"
    },
    {
     "data": {
      "text/plain": [
       "6.754608f-6"
      ]
     },
     "metadata": {},
     "output_type": "display_data"
    },
    {
     "data": {
      "text/plain": [
       "6.752685f-6"
      ]
     },
     "metadata": {},
     "output_type": "display_data"
    },
    {
     "data": {
      "text/plain": [
       "6.743576f-6"
      ]
     },
     "metadata": {},
     "output_type": "display_data"
    },
    {
     "data": {
      "text/plain": [
       "6.73588f-6"
      ]
     },
     "metadata": {},
     "output_type": "display_data"
    },
    {
     "data": {
      "text/plain": [
       "6.7348155f-6"
      ]
     },
     "metadata": {},
     "output_type": "display_data"
    },
    {
     "data": {
      "text/plain": [
       "6.7338437f-6"
      ]
     },
     "metadata": {},
     "output_type": "display_data"
    },
    {
     "data": {
      "text/plain": [
       "6.7331425f-6"
      ]
     },
     "metadata": {},
     "output_type": "display_data"
    },
    {
     "data": {
      "text/plain": [
       "6.7317064f-6"
      ]
     },
     "metadata": {},
     "output_type": "display_data"
    },
    {
     "data": {
      "text/plain": [
       "6.728963f-6"
      ]
     },
     "metadata": {},
     "output_type": "display_data"
    },
    {
     "data": {
      "text/plain": [
       "6.7289507f-6"
      ]
     },
     "metadata": {},
     "output_type": "display_data"
    },
    {
     "data": {
      "text/plain": [
       "6.72885f-6"
      ]
     },
     "metadata": {},
     "output_type": "display_data"
    },
    {
     "data": {
      "text/plain": [
       "6.728531f-6"
      ]
     },
     "metadata": {},
     "output_type": "display_data"
    },
    {
     "data": {
      "text/plain": [
       "6.7273822f-6"
      ]
     },
     "metadata": {},
     "output_type": "display_data"
    },
    {
     "data": {
      "text/plain": [
       "6.7227784f-6"
      ]
     },
     "metadata": {},
     "output_type": "display_data"
    },
    {
     "data": {
      "text/plain": [
       "6.718793f-6"
      ]
     },
     "metadata": {},
     "output_type": "display_data"
    },
    {
     "data": {
      "text/plain": [
       "6.7173796f-6"
      ]
     },
     "metadata": {},
     "output_type": "display_data"
    },
    {
     "data": {
      "text/plain": [
       "6.711439f-6"
      ]
     },
     "metadata": {},
     "output_type": "display_data"
    },
    {
     "data": {
      "text/plain": [
       "6.706433f-6"
      ]
     },
     "metadata": {},
     "output_type": "display_data"
    },
    {
     "data": {
      "text/plain": [
       "6.7031206f-6"
      ]
     },
     "metadata": {},
     "output_type": "display_data"
    },
    {
     "data": {
      "text/plain": [
       "6.7013525f-6"
      ]
     },
     "metadata": {},
     "output_type": "display_data"
    },
    {
     "data": {
      "text/plain": [
       "6.6997763f-6"
      ]
     },
     "metadata": {},
     "output_type": "display_data"
    },
    {
     "data": {
      "text/plain": [
       "6.6980156f-6"
      ]
     },
     "metadata": {},
     "output_type": "display_data"
    },
    {
     "data": {
      "text/plain": [
       "6.6978946f-6"
      ]
     },
     "metadata": {},
     "output_type": "display_data"
    },
    {
     "data": {
      "text/plain": [
       "6.6975317f-6"
      ]
     },
     "metadata": {},
     "output_type": "display_data"
    },
    {
     "data": {
      "text/plain": [
       "6.6963557f-6"
      ]
     },
     "metadata": {},
     "output_type": "display_data"
    },
    {
     "data": {
      "text/plain": [
       "6.6927937f-6"
      ]
     },
     "metadata": {},
     "output_type": "display_data"
    },
    {
     "data": {
      "text/plain": [
       "6.6903167f-6"
      ]
     },
     "metadata": {},
     "output_type": "display_data"
    },
    {
     "data": {
      "text/plain": [
       "6.68981f-6"
      ]
     },
     "metadata": {},
     "output_type": "display_data"
    },
    {
     "data": {
      "text/plain": [
       "6.6861076f-6"
      ]
     },
     "metadata": {},
     "output_type": "display_data"
    },
    {
     "data": {
      "text/plain": [
       "6.67892f-6"
      ]
     },
     "metadata": {},
     "output_type": "display_data"
    },
    {
     "data": {
      "text/plain": [
       "6.6762923f-6"
      ]
     },
     "metadata": {},
     "output_type": "display_data"
    },
    {
     "data": {
      "text/plain": [
       "6.6731154f-6"
      ]
     },
     "metadata": {},
     "output_type": "display_data"
    },
    {
     "data": {
      "text/plain": [
       "6.670669f-6"
      ]
     },
     "metadata": {},
     "output_type": "display_data"
    },
    {
     "data": {
      "text/plain": [
       "6.666655f-6"
      ]
     },
     "metadata": {},
     "output_type": "display_data"
    },
    {
     "data": {
      "text/plain": [
       "6.666165f-6"
      ]
     },
     "metadata": {},
     "output_type": "display_data"
    },
    {
     "data": {
      "text/plain": [
       "6.664791f-6"
      ]
     },
     "metadata": {},
     "output_type": "display_data"
    },
    {
     "data": {
      "text/plain": [
       "6.6632692f-6"
      ]
     },
     "metadata": {},
     "output_type": "display_data"
    },
    {
     "data": {
      "text/plain": [
       "6.6590583f-6"
      ]
     },
     "metadata": {},
     "output_type": "display_data"
    },
    {
     "data": {
      "text/plain": [
       "6.657967f-6"
      ]
     },
     "metadata": {},
     "output_type": "display_data"
    },
    {
     "data": {
      "text/plain": [
       "6.6577304f-6"
      ]
     },
     "metadata": {},
     "output_type": "display_data"
    },
    {
     "data": {
      "text/plain": [
       "6.657345f-6"
      ]
     },
     "metadata": {},
     "output_type": "display_data"
    },
    {
     "data": {
      "text/plain": [
       "6.6545317f-6"
      ]
     },
     "metadata": {},
     "output_type": "display_data"
    },
    {
     "data": {
      "text/plain": [
       "6.6539537f-6"
      ]
     },
     "metadata": {},
     "output_type": "display_data"
    },
    {
     "data": {
      "text/plain": [
       "6.65396f-6"
      ]
     },
     "metadata": {},
     "output_type": "display_data"
    },
    {
     "data": {
      "text/plain": [
       " * Status: failure (objective increased between iterations)\n",
       "\n",
       " * Candidate solution\n",
       "    Minimizer: [-6.09e-02, 9.54e-02, -9.65e-03,  ...]\n",
       "    Minimum:   6.653954e-06\n",
       "\n",
       " * Found with\n",
       "    Algorithm:     L-BFGS\n",
       "    Initial Point: [-6.09e-02, 9.54e-02, -9.65e-03,  ...]\n",
       "\n",
       " * Convergence measures\n",
       "    |x - x'|               = 3.73e-09 ≰ 0.0e+00\n",
       "    |x - x'|/|x'|          = 8.17e-09 ≰ 0.0e+00\n",
       "    |f(x) - f(x')|         = 6.37e-12 ≰ 0.0e+00\n",
       "    |f(x) - f(x')|/|f(x')| = 9.57e-07 ≰ 0.0e+00\n",
       "    |g(x)|                 = 2.04e-06 ≰ 1.0e-08\n",
       "\n",
       " * Work counters\n",
       "    Seconds run:   82  (vs limit Inf)\n",
       "    Iterations:    71\n",
       "    f(x) calls:    269\n",
       "    ∇f(x) calls:   269\n"
      ]
     },
     "execution_count": 219,
     "metadata": {},
     "output_type": "execute_result"
    }
   ],
   "source": [
    "res = DiffEqFlux.sciml_train(loss_node, res.minimizer, LBFGS(), cb=cb, maxiters=00)"
   ]
  },
  {
   "cell_type": "code",
   "execution_count": 220,
   "metadata": {},
   "outputs": [
    {
     "data": {
      "text/plain": [
       "step_node! (generic function with 1 method)"
      ]
     },
     "execution_count": 220,
     "metadata": {},
     "output_type": "execute_result"
    }
   ],
   "source": [
    "function step_train!( fwL, ffL, w, prim, f, fwR, ffR,\n",
    "\t\t\t           γ, μ, ω, u, n_ode, p, dx, tRan, RES, AVG )\n",
    "    #--- record W^{n} ---#\n",
    "    w_old = deepcopy(w)\n",
    "    M = maxwellian(u, prim)\n",
    "\tτ = vhs_collision_time(prim, μ, ω)\n",
    "    \n",
    "    #--- update W^{n+1} ---#\n",
    "\t@. w += (fwL - fwR) / dx\n",
    "\tprim .= conserve_prim(w, γ)\n",
    "\n",
    "\t#--- record residuals ---#\n",
    "\t@. RES += (w - w_old)^2\n",
    "\t@. AVG += abs(w)\n",
    "\n",
    "    data = solve(ODEProblem(bgk!, f[1:end], tSpan, [M, τ]), Tsit5(), saveat=tRan) |> Array;\n",
    "    pred = n_ode(f[1:end], p) |> Array\n",
    "    loss = sum(abs2, pred .- data)\n",
    "\n",
    "    if loss <= 1.e-6\n",
    "        ftemp = n_ode(f[1:end], p).u[end]\n",
    "    \tfor i in eachindex(u)\n",
    "    \t\tf[i] = ftemp[i] + (ffL[i] - ffR[i]) / dx\n",
    "    \tend\n",
    "    else\n",
    "        for i in eachindex(u)\n",
    "    \t\tf[i] += (ffL[i] - ffR[i]) / dx + (M[i] - f[i]) / τ * tRan[end]\n",
    "    \tend\n",
    "        \n",
    "        #push!(datainit, f[1:end])\n",
    "        #push!(dataset, data)\n",
    "    end\n",
    "end\n",
    "\n",
    "function step_bgk!( fwL, ffL, w, prim, f, fwR, ffR,\n",
    "\t\t\t           γ, μ, ω, u, weights, n_ode, p, dx, tRan, RES, AVG )\n",
    "    \n",
    "    #--- record W^{n} ---#\n",
    "    w_old = deepcopy(w)\n",
    "    prim_old = deepcopy(prim)\n",
    "    \n",
    "    #--- update W^{n+1} ---#\n",
    "\t@. w = w_old + (fwL - fwR) / dx\n",
    "\tprim .= conserve_prim(w, γ)\n",
    "\n",
    "\t#--- record residuals ---#\n",
    "\t@. RES += (w - w_old)^2\n",
    "\t@. AVG += abs(w)\n",
    "    \n",
    "    M = maxwellian(u, prim_old)\n",
    "\tτ = vhs_collision_time(prim_old, μ, ω)\n",
    "    \n",
    "    #ftemp = f .+ (M .- f) / τ * tRan[end]\n",
    "    prob = ODEProblem(bgk!, f[1:end], (0, tRan[end]), (M, τ))\n",
    "    ftemp = (solve(prob, Tsit5(), saveat=tRan) |> Array)[:,end]\n",
    "    \n",
    "    for i in eachindex(u)\n",
    "        f[i] = ftemp[i] + (ffL[i] - ffR[i]) / dx\n",
    "    end\n",
    "    \n",
    "end\n",
    "\n",
    "function step_node!( fwL, ffL, w, prim, f, fwR, ffR,\n",
    "\t\t\t           γ, μ, ω, u, weights, n_ode, p, dx, tRan, RES, AVG )\n",
    "    \n",
    "    #--- record W^{n} ---#\n",
    "    w_old = deepcopy(w)\n",
    "    M = maxwellian(u, prim)\n",
    "\tτ = vhs_collision_time(prim, μ, ω)\n",
    "    \n",
    "    #--- update W^{n+1} ---#\n",
    "\t@. w += (fwL - fwR) / dx\n",
    "\tprim .= conserve_prim(w, γ)\n",
    "\n",
    "\t#--- record residuals ---#\n",
    "\t@. RES += (w - w_old)^2\n",
    "\t@. AVG += abs(w)\n",
    "\n",
    "    ftemp = n_ode(f[1:end], p).u[end]\n",
    "    for i in eachindex(u)\n",
    "        f[i] = ftemp[i] + (ffL[i] - ffR[i]) / dx\n",
    "    end\n",
    "    \n",
    "    #w .= moments_conserve( f, u, weights )\n",
    "    #prim .= conserve_prim(w, γ)\n",
    "\n",
    "end"
   ]
  },
  {
   "cell_type": "code",
   "execution_count": 242,
   "metadata": {},
   "outputs": [
    {
     "ename": "DomainError",
     "evalue": "DomainError with -20.357418060302734:\nExponentiation yielding a complex result requires a complex argument.\nReplace x^y with (x+0im)^y, Complex(x)^y, or similar.",
     "output_type": "error",
     "traceback": [
      "DomainError with -20.357418060302734:\nExponentiation yielding a complex result requires a complex argument.\nReplace x^y with (x+0im)^y, Complex(x)^y, or similar.",
      "",
      "Stacktrace:",
      " [1] throw_exp_domainerror(::Float64) at ./math.jl:36",
      " [2] ^ at ./math.jl:849 [inlined]",
      " [3] ^ at ./promotion.jl:343 [inlined]",
      " [4] _broadcast_getindex_evalf at ./broadcast.jl:630 [inlined]",
      " [5] _broadcast_getindex at ./broadcast.jl:603 [inlined]",
      " [6] _getindex at ./broadcast.jl:626 [inlined] (repeats 2 times)",
      " [7] _broadcast_getindex at ./broadcast.jl:602 [inlined]",
      " [8] getindex at ./broadcast.jl:563 [inlined]",
      " [9] macro expansion at ./broadcast.jl:909 [inlined]",
      " [10] macro expansion at ./simdloop.jl:77 [inlined]",
      " [11] copyto! at ./broadcast.jl:908 [inlined]",
      " [12] copyto! at ./broadcast.jl:863 [inlined]",
      " [13] copy at ./broadcast.jl:839 [inlined]",
      " [14] materialize at ./broadcast.jl:819 [inlined]",
      " [15] maxwellian(::OffsetArray{Float64,1,Array{Float64,1}}, ::Float32, ::Float32, ::Float32) at /home/tianbai/.julia/packages/Kinetic/yjcD9/src/theory.jl:571",
      " [16] step_node!(::Array{Float64,1}, ::OffsetArray{Float64,1,Array{Float64,1}}, ::Array{Float32,1}, ::Array{Float32,1}, ::OffsetArray{Float32,1,Array{Float32,1}}, ::Array{Float64,1}, ::OffsetArray{Float64,1,Array{Float64,1}}, ::Float64, ::Float64, ::Float64, ::OffsetArray{Float64,1,Array{Float64,1}}, ::OffsetArray{Float64,1,Array{Float64,1}}, ::NeuralODE{FastChain{Tuple{var\"#17#18\",FastDense{typeof(tanh),DiffEqFlux.var\"#initial_params#75\"{typeof(Flux.glorot_uniform),typeof(Flux.zeros),Int64,Int64}},FastDense{typeof(identity),DiffEqFlux.var\"#initial_params#75\"{typeof(Flux.glorot_uniform),typeof(Flux.zeros),Int64,Int64}}}},Array{Float32,1},Nothing,Tuple{Float32,Float32},Tsit5,Tuple{},Base.Iterators.Pairs{Symbol,StepRangeLen{Float32,Float64,Float64},Tuple{Symbol},NamedTuple{(:saveat,),Tuple{StepRangeLen{Float32,Float64,Float64}}}}}, ::Array{Float32,1}, ::Float64, ::StepRangeLen{Float32,Float64,Float64}, ::Array{Float32,1}, ::Array{Float32,1}) at /home/tianbai/.julia/packages/Kinetic/yjcD9/src/theory.jl:574",
      " [17] top-level scope at ./In[242]:8"
     ]
    }
   ],
   "source": [
    "sumRes = zeros(Float32, axes(ib.wL))\n",
    "sumAvg = zeros(Float32, axes(ib.wL))\n",
    "\n",
    "for iter = 1:1\n",
    "    Kinetic.evolve!(ks, ctr, face, dt)\n",
    "\n",
    "    for i in 2:49\n",
    "        step_node!( face[i].fw, face[i].ff, ctr[i].w, ctr[i].prim, ctr[i].f,\n",
    "                     face[i+1].fw, face[i+1].ff, ks.gas.γ, ks.gas.μᵣ, ks.gas.ω, vSpace.u, vSpace.weights, node, res.minimizer,\n",
    "                     ctr[i].dx, tRan, sumRes, sumAvg )\n",
    "    end\n",
    "end\n",
    "\n",
    "\n",
    "for iter = 1:2\n",
    "    Kinetic.evolve!(ks, ctr, face, dt)\n",
    "\n",
    "    for i in 2:49\n",
    "        step_node!( face[i].fw, face[i].ff, ctr[i].w, ctr[i].prim, ctr[i].f,\n",
    "                     face[i+1].fw, face[i+1].ff, ks.gas.γ, ks.gas.μᵣ, ks.gas.ω, vSpace.u, vSpace.weights, node, res.minimizer,\n",
    "                     ctr[i].dx, tRan, sumRes, sumAvg )\n",
    "    end\n",
    "end"
   ]
  },
  {
   "cell_type": "code",
   "execution_count": 244,
   "metadata": {
    "scrolled": false
   },
   "outputs": [
    {
     "data": {
      "image/svg+xml": [
       "<?xml version=\"1.0\" encoding=\"utf-8\"?>\n",
       "<svg xmlns=\"http://www.w3.org/2000/svg\" xmlns:xlink=\"http://www.w3.org/1999/xlink\" width=\"600\" height=\"400\" viewBox=\"0 0 2400 1600\">\n",
       "<defs>\n",
       "  <clipPath id=\"clip4500\">\n",
       "    <rect x=\"0\" y=\"0\" width=\"2400\" height=\"1600\"/>\n",
       "  </clipPath>\n",
       "</defs>\n",
       "<path clip-path=\"url(#clip4500)\" d=\"\n",
       "M0 1600 L2400 1600 L2400 0 L0 0  Z\n",
       "  \" fill=\"#ffffff\" fill-rule=\"evenodd\" fill-opacity=\"1\"/>\n",
       "<defs>\n",
       "  <clipPath id=\"clip4501\">\n",
       "    <rect x=\"480\" y=\"0\" width=\"1681\" height=\"1600\"/>\n",
       "  </clipPath>\n",
       "</defs>\n",
       "<path clip-path=\"url(#clip4500)\" d=\"\n",
       "M112.177 1423.18 L2352.76 1423.18 L2352.76 47.2441 L112.177 47.2441  Z\n",
       "  \" fill=\"#ffffff\" fill-rule=\"evenodd\" fill-opacity=\"1\"/>\n",
       "<defs>\n",
       "  <clipPath id=\"clip4502\">\n",
       "    <rect x=\"112\" y=\"47\" width=\"2242\" height=\"1377\"/>\n",
       "  </clipPath>\n",
       "</defs>\n",
       "<polyline clip-path=\"url(#clip4502)\" style=\"stroke:#000000; stroke-width:2; stroke-opacity:0.1; fill:none\" points=\"\n",
       "  369.71,1423.18 369.71,47.2441 \n",
       "  \"/>\n",
       "<polyline clip-path=\"url(#clip4502)\" style=\"stroke:#000000; stroke-width:2; stroke-opacity:0.1; fill:none\" points=\"\n",
       "  801.088,1423.18 801.088,47.2441 \n",
       "  \"/>\n",
       "<polyline clip-path=\"url(#clip4502)\" style=\"stroke:#000000; stroke-width:2; stroke-opacity:0.1; fill:none\" points=\"\n",
       "  1232.47,1423.18 1232.47,47.2441 \n",
       "  \"/>\n",
       "<polyline clip-path=\"url(#clip4502)\" style=\"stroke:#000000; stroke-width:2; stroke-opacity:0.1; fill:none\" points=\"\n",
       "  1663.84,1423.18 1663.84,47.2441 \n",
       "  \"/>\n",
       "<polyline clip-path=\"url(#clip4502)\" style=\"stroke:#000000; stroke-width:2; stroke-opacity:0.1; fill:none\" points=\"\n",
       "  2095.22,1423.18 2095.22,47.2441 \n",
       "  \"/>\n",
       "<polyline clip-path=\"url(#clip4502)\" style=\"stroke:#000000; stroke-width:2; stroke-opacity:0.1; fill:none\" points=\"\n",
       "  112.177,1379.24 2352.76,1379.24 \n",
       "  \"/>\n",
       "<polyline clip-path=\"url(#clip4502)\" style=\"stroke:#000000; stroke-width:2; stroke-opacity:0.1; fill:none\" points=\"\n",
       "  112.177,1059.87 2352.76,1059.87 \n",
       "  \"/>\n",
       "<polyline clip-path=\"url(#clip4502)\" style=\"stroke:#000000; stroke-width:2; stroke-opacity:0.1; fill:none\" points=\"\n",
       "  112.177,740.493 2352.76,740.493 \n",
       "  \"/>\n",
       "<polyline clip-path=\"url(#clip4502)\" style=\"stroke:#000000; stroke-width:2; stroke-opacity:0.1; fill:none\" points=\"\n",
       "  112.177,421.117 2352.76,421.117 \n",
       "  \"/>\n",
       "<polyline clip-path=\"url(#clip4502)\" style=\"stroke:#000000; stroke-width:2; stroke-opacity:0.1; fill:none\" points=\"\n",
       "  112.177,101.741 2352.76,101.741 \n",
       "  \"/>\n",
       "<polyline clip-path=\"url(#clip4500)\" style=\"stroke:#000000; stroke-width:4; stroke-opacity:1; fill:none\" points=\"\n",
       "  112.177,1423.18 2352.76,1423.18 \n",
       "  \"/>\n",
       "<polyline clip-path=\"url(#clip4500)\" style=\"stroke:#000000; stroke-width:4; stroke-opacity:1; fill:none\" points=\"\n",
       "  112.177,1423.18 112.177,47.2441 \n",
       "  \"/>\n",
       "<polyline clip-path=\"url(#clip4500)\" style=\"stroke:#000000; stroke-width:4; stroke-opacity:1; fill:none\" points=\"\n",
       "  369.71,1423.18 369.71,1406.67 \n",
       "  \"/>\n",
       "<polyline clip-path=\"url(#clip4500)\" style=\"stroke:#000000; stroke-width:4; stroke-opacity:1; fill:none\" points=\"\n",
       "  801.088,1423.18 801.088,1406.67 \n",
       "  \"/>\n",
       "<polyline clip-path=\"url(#clip4500)\" style=\"stroke:#000000; stroke-width:4; stroke-opacity:1; fill:none\" points=\"\n",
       "  1232.47,1423.18 1232.47,1406.67 \n",
       "  \"/>\n",
       "<polyline clip-path=\"url(#clip4500)\" style=\"stroke:#000000; stroke-width:4; stroke-opacity:1; fill:none\" points=\"\n",
       "  1663.84,1423.18 1663.84,1406.67 \n",
       "  \"/>\n",
       "<polyline clip-path=\"url(#clip4500)\" style=\"stroke:#000000; stroke-width:4; stroke-opacity:1; fill:none\" points=\"\n",
       "  2095.22,1423.18 2095.22,1406.67 \n",
       "  \"/>\n",
       "<polyline clip-path=\"url(#clip4500)\" style=\"stroke:#000000; stroke-width:4; stroke-opacity:1; fill:none\" points=\"\n",
       "  112.177,1379.24 139.064,1379.24 \n",
       "  \"/>\n",
       "<polyline clip-path=\"url(#clip4500)\" style=\"stroke:#000000; stroke-width:4; stroke-opacity:1; fill:none\" points=\"\n",
       "  112.177,1059.87 139.064,1059.87 \n",
       "  \"/>\n",
       "<polyline clip-path=\"url(#clip4500)\" style=\"stroke:#000000; stroke-width:4; stroke-opacity:1; fill:none\" points=\"\n",
       "  112.177,740.493 139.064,740.493 \n",
       "  \"/>\n",
       "<polyline clip-path=\"url(#clip4500)\" style=\"stroke:#000000; stroke-width:4; stroke-opacity:1; fill:none\" points=\"\n",
       "  112.177,421.117 139.064,421.117 \n",
       "  \"/>\n",
       "<polyline clip-path=\"url(#clip4500)\" style=\"stroke:#000000; stroke-width:4; stroke-opacity:1; fill:none\" points=\"\n",
       "  112.177,101.741 139.064,101.741 \n",
       "  \"/>\n",
       "<path clip-path=\"url(#clip4500)\" d=\"M 0 0 M337.256 1461.77 L349.733 1461.77 L349.733 1465.56 L337.256 1465.56 L337.256 1461.77 Z\" fill=\"#000000\" fill-rule=\"evenodd\" fill-opacity=\"1\" /><path clip-path=\"url(#clip4500)\" d=\"M 0 0 M358.83 1472.72 L375.15 1472.72 L375.15 1476.65 L353.205 1476.65 L353.205 1472.72 Q355.867 1469.96 360.451 1465.33 Q365.057 1460.68 366.238 1459.34 Q368.483 1456.81 369.363 1455.08 Q370.266 1453.32 370.266 1451.63 Q370.266 1448.87 368.321 1447.14 Q366.4 1445.4 363.298 1445.4 Q361.099 1445.4 358.645 1446.17 Q356.215 1446.93 353.437 1448.48 L353.437 1443.76 Q356.261 1442.62 358.715 1442.05 Q361.168 1441.47 363.205 1441.47 Q368.576 1441.47 371.77 1444.15 Q374.965 1446.84 374.965 1451.33 Q374.965 1453.46 374.154 1455.38 Q373.367 1457.28 371.261 1459.87 Q370.682 1460.54 367.58 1463.76 Q364.479 1466.95 358.83 1472.72 Z\" fill=\"#000000\" fill-rule=\"evenodd\" fill-opacity=\"1\" /><path clip-path=\"url(#clip4500)\" d=\"M 0 0 M390.219 1445.17 Q386.608 1445.17 384.779 1448.74 Q382.974 1452.28 382.974 1459.41 Q382.974 1466.51 384.779 1470.08 Q386.608 1473.62 390.219 1473.62 Q393.853 1473.62 395.659 1470.08 Q397.488 1466.51 397.488 1459.41 Q397.488 1452.28 395.659 1448.74 Q393.853 1445.17 390.219 1445.17 M390.219 1441.47 Q396.029 1441.47 399.085 1446.07 Q402.164 1450.66 402.164 1459.41 Q402.164 1468.13 399.085 1472.74 Q396.029 1477.32 390.219 1477.32 Q384.409 1477.32 381.33 1472.74 Q378.275 1468.13 378.275 1459.41 Q378.275 1450.66 381.33 1446.07 Q384.409 1441.47 390.219 1441.47 Z\" fill=\"#000000\" fill-rule=\"evenodd\" fill-opacity=\"1\" /><path clip-path=\"url(#clip4500)\" d=\"M 0 0 M768.45 1461.77 L780.926 1461.77 L780.926 1465.56 L768.45 1465.56 L768.45 1461.77 Z\" fill=\"#000000\" fill-rule=\"evenodd\" fill-opacity=\"1\" /><path clip-path=\"url(#clip4500)\" d=\"M 0 0 M786.806 1472.72 L794.445 1472.72 L794.445 1446.35 L786.135 1448.02 L786.135 1443.76 L794.398 1442.09 L799.074 1442.09 L799.074 1472.72 L806.713 1472.72 L806.713 1476.65 L786.806 1476.65 L786.806 1472.72 Z\" fill=\"#000000\" fill-rule=\"evenodd\" fill-opacity=\"1\" /><path clip-path=\"url(#clip4500)\" d=\"M 0 0 M821.783 1445.17 Q818.172 1445.17 816.343 1448.74 Q814.537 1452.28 814.537 1459.41 Q814.537 1466.51 816.343 1470.08 Q818.172 1473.62 821.783 1473.62 Q825.417 1473.62 827.222 1470.08 Q829.051 1466.51 829.051 1459.41 Q829.051 1452.28 827.222 1448.74 Q825.417 1445.17 821.783 1445.17 M821.783 1441.47 Q827.593 1441.47 830.648 1446.07 Q833.727 1450.66 833.727 1459.41 Q833.727 1468.13 830.648 1472.74 Q827.593 1477.32 821.783 1477.32 Q815.972 1477.32 812.894 1472.74 Q809.838 1468.13 809.838 1459.41 Q809.838 1450.66 812.894 1446.07 Q815.972 1441.47 821.783 1441.47 Z\" fill=\"#000000\" fill-rule=\"evenodd\" fill-opacity=\"1\" /><path clip-path=\"url(#clip4500)\" d=\"M 0 0 M1232.47 1445.17 Q1228.86 1445.17 1227.03 1448.74 Q1225.22 1452.28 1225.22 1459.41 Q1225.22 1466.51 1227.03 1470.08 Q1228.86 1473.62 1232.47 1473.62 Q1236.1 1473.62 1237.91 1470.08 Q1239.74 1466.51 1239.74 1459.41 Q1239.74 1452.28 1237.91 1448.74 Q1236.1 1445.17 1232.47 1445.17 M1232.47 1441.47 Q1238.28 1441.47 1241.33 1446.07 Q1244.41 1450.66 1244.41 1459.41 Q1244.41 1468.13 1241.33 1472.74 Q1238.28 1477.32 1232.47 1477.32 Q1226.66 1477.32 1223.58 1472.74 Q1220.52 1468.13 1220.52 1459.41 Q1220.52 1450.66 1223.58 1446.07 Q1226.66 1441.47 1232.47 1441.47 Z\" fill=\"#000000\" fill-rule=\"evenodd\" fill-opacity=\"1\" /><path clip-path=\"url(#clip4500)\" d=\"M 0 0 M1640.72 1472.72 L1648.36 1472.72 L1648.36 1446.35 L1640.05 1448.02 L1640.05 1443.76 L1648.31 1442.09 L1652.99 1442.09 L1652.99 1472.72 L1660.63 1472.72 L1660.63 1476.65 L1640.72 1476.65 L1640.72 1472.72 Z\" fill=\"#000000\" fill-rule=\"evenodd\" fill-opacity=\"1\" /><path clip-path=\"url(#clip4500)\" d=\"M 0 0 M1675.7 1445.17 Q1672.09 1445.17 1670.26 1448.74 Q1668.45 1452.28 1668.45 1459.41 Q1668.45 1466.51 1670.26 1470.08 Q1672.09 1473.62 1675.7 1473.62 Q1679.33 1473.62 1681.14 1470.08 Q1682.97 1466.51 1682.97 1459.41 Q1682.97 1452.28 1681.14 1448.74 Q1679.33 1445.17 1675.7 1445.17 M1675.7 1441.47 Q1681.51 1441.47 1684.56 1446.07 Q1687.64 1450.66 1687.64 1459.41 Q1687.64 1468.13 1684.56 1472.74 Q1681.51 1477.32 1675.7 1477.32 Q1669.89 1477.32 1666.81 1472.74 Q1663.75 1468.13 1663.75 1459.41 Q1663.75 1450.66 1666.81 1446.07 Q1669.89 1441.47 1675.7 1441.47 Z\" fill=\"#000000\" fill-rule=\"evenodd\" fill-opacity=\"1\" /><path clip-path=\"url(#clip4500)\" d=\"M 0 0 M2076.37 1472.72 L2092.69 1472.72 L2092.69 1476.65 L2070.74 1476.65 L2070.74 1472.72 Q2073.41 1469.96 2077.99 1465.33 Q2082.6 1460.68 2083.78 1459.34 Q2086.02 1456.81 2086.9 1455.08 Q2087.8 1453.32 2087.8 1451.63 Q2087.8 1448.87 2085.86 1447.14 Q2083.94 1445.4 2080.84 1445.4 Q2078.64 1445.4 2076.18 1446.17 Q2073.75 1446.93 2070.98 1448.48 L2070.98 1443.76 Q2073.8 1442.62 2076.25 1442.05 Q2078.71 1441.47 2080.74 1441.47 Q2086.11 1441.47 2089.31 1444.15 Q2092.5 1446.84 2092.5 1451.33 Q2092.5 1453.46 2091.69 1455.38 Q2090.91 1457.28 2088.8 1459.87 Q2088.22 1460.54 2085.12 1463.76 Q2082.02 1466.95 2076.37 1472.72 Z\" fill=\"#000000\" fill-rule=\"evenodd\" fill-opacity=\"1\" /><path clip-path=\"url(#clip4500)\" d=\"M 0 0 M2107.76 1445.17 Q2104.15 1445.17 2102.32 1448.74 Q2100.51 1452.28 2100.51 1459.41 Q2100.51 1466.51 2102.32 1470.08 Q2104.15 1473.62 2107.76 1473.62 Q2111.39 1473.62 2113.2 1470.08 Q2115.03 1466.51 2115.03 1459.41 Q2115.03 1452.28 2113.2 1448.74 Q2111.39 1445.17 2107.76 1445.17 M2107.76 1441.47 Q2113.57 1441.47 2116.62 1446.07 Q2119.7 1450.66 2119.7 1459.41 Q2119.7 1468.13 2116.62 1472.74 Q2113.57 1477.32 2107.76 1477.32 Q2101.95 1477.32 2098.87 1472.74 Q2095.81 1468.13 2095.81 1459.41 Q2095.81 1450.66 2098.87 1446.07 Q2101.95 1441.47 2107.76 1441.47 Z\" fill=\"#000000\" fill-rule=\"evenodd\" fill-opacity=\"1\" /><path clip-path=\"url(#clip4500)\" d=\"M 0 0 M76.2328 1365.04 Q72.6217 1365.04 70.793 1368.61 Q68.9875 1372.15 68.9875 1379.28 Q68.9875 1386.39 70.793 1389.95 Q72.6217 1393.49 76.2328 1393.49 Q79.867 1393.49 81.6726 1389.95 Q83.5013 1386.39 83.5013 1379.28 Q83.5013 1372.15 81.6726 1368.61 Q79.867 1365.04 76.2328 1365.04 M76.2328 1361.34 Q82.0429 1361.34 85.0985 1365.95 Q88.1772 1370.53 88.1772 1379.28 Q88.1772 1388.01 85.0985 1392.61 Q82.0429 1397.2 76.2328 1397.2 Q70.4226 1397.2 67.344 1392.61 Q64.2884 1388.01 64.2884 1379.28 Q64.2884 1370.53 67.344 1365.95 Q70.4226 1361.34 76.2328 1361.34 Z\" fill=\"#000000\" fill-rule=\"evenodd\" fill-opacity=\"1\" /><path clip-path=\"url(#clip4500)\" d=\"M 0 0 M68.2699 1073.21 L75.9087 1073.21 L75.9087 1046.85 L67.5986 1048.51 L67.5986 1044.26 L75.8624 1042.59 L80.5383 1042.59 L80.5383 1073.21 L88.1772 1073.21 L88.1772 1077.15 L68.2699 1077.15 L68.2699 1073.21 Z\" fill=\"#000000\" fill-rule=\"evenodd\" fill-opacity=\"1\" /><path clip-path=\"url(#clip4500)\" d=\"M 0 0 M71.8578 753.838 L88.1772 753.838 L88.1772 757.773 L66.2328 757.773 L66.2328 753.838 Q68.8949 751.083 73.4782 746.453 Q78.0846 741.801 79.2652 740.458 Q81.5105 737.935 82.3902 736.199 Q83.2929 734.44 83.2929 732.75 Q83.2929 729.995 81.3485 728.259 Q79.4272 726.523 76.3254 726.523 Q74.1263 726.523 71.6726 727.287 Q69.2421 728.051 66.4643 729.602 L66.4643 724.879 Q69.2884 723.745 71.7421 723.166 Q74.1958 722.588 76.2328 722.588 Q81.6031 722.588 84.7976 725.273 Q87.992 727.958 87.992 732.449 Q87.992 734.578 87.1818 736.5 Q86.3948 738.398 84.2883 740.99 Q83.7096 741.662 80.6078 744.879 Q77.5059 748.074 71.8578 753.838 Z\" fill=\"#000000\" fill-rule=\"evenodd\" fill-opacity=\"1\" /><path clip-path=\"url(#clip4500)\" d=\"M 0 0 M81.0476 419.763 Q84.404 420.48 86.279 422.749 Q88.1772 425.017 88.1772 428.351 Q88.1772 433.466 84.6587 436.267 Q81.1402 439.068 74.6587 439.068 Q72.4828 439.068 70.168 438.628 Q67.8764 438.212 65.4227 437.355 L65.4227 432.841 Q67.3671 433.976 69.6819 434.554 Q71.9967 435.133 74.5198 435.133 Q78.918 435.133 81.2096 433.397 Q83.5244 431.661 83.5244 428.351 Q83.5244 425.295 81.3717 423.582 Q79.242 421.846 75.4226 421.846 L71.3949 421.846 L71.3949 418.003 L75.6078 418.003 Q79.0569 418.003 80.8855 416.638 Q82.7142 415.249 82.7142 412.656 Q82.7142 409.994 80.8161 408.582 Q78.9411 407.147 75.4226 407.147 Q73.5013 407.147 71.3023 407.564 Q69.1032 407.98 66.4643 408.86 L66.4643 404.693 Q69.1264 403.953 71.4412 403.582 Q73.7791 403.212 75.8393 403.212 Q81.1633 403.212 84.2652 405.642 Q87.367 408.05 87.367 412.17 Q87.367 415.041 85.7235 417.031 Q84.08 418.999 81.0476 419.763 Z\" fill=\"#000000\" fill-rule=\"evenodd\" fill-opacity=\"1\" /><path clip-path=\"url(#clip4500)\" d=\"M 0 0 M78.5939 88.5351 L66.7884 106.984 L78.5939 106.984 L78.5939 88.5351 M77.367 84.461 L83.2466 84.461 L83.2466 106.984 L88.1772 106.984 L88.1772 110.873 L83.2466 110.873 L83.2466 119.021 L78.5939 119.021 L78.5939 110.873 L62.9921 110.873 L62.9921 106.359 L77.367 84.461 Z\" fill=\"#000000\" fill-rule=\"evenodd\" fill-opacity=\"1\" /><path clip-path=\"url(#clip4500)\" d=\"M 0 0 M1214.29 1508.52 L1221.2 1508.52 L1233.01 1526.19 L1244.88 1508.52 L1251.79 1508.52 L1236.51 1531.34 L1252.8 1556.04 L1245.9 1556.04 L1232.53 1535.83 L1219.07 1556.04 L1212.13 1556.04 L1229.09 1530.68 L1214.29 1508.52 Z\" fill=\"#000000\" fill-rule=\"evenodd\" fill-opacity=\"1\" /><polyline clip-path=\"url(#clip4502)\" style=\"stroke:#009af9; stroke-width:8; stroke-opacity:1; fill:none\" points=\"\n",
       "  175.59,1059.87 218.728,1059.65 261.865,1059.81 305.003,1059.82 348.141,1059.78 391.279,1059.72 434.417,1059.66 477.555,1059.59 520.692,1059.54 563.83,1059.52 \n",
       "  606.968,1059.53 650.106,1059.56 693.244,1059.63 736.382,1059.72 779.519,1059.85 822.657,1060.02 865.795,1060.19 908.933,1060.24 952.071,1059.81 995.208,1058.07 \n",
       "  1038.35,1053.36 1081.48,1042.88 1124.62,1022.95 1167.76,993.206 1210.9,960.423 1254.04,933.451 1297.17,914.969 1340.31,902.418 1383.45,892.582 1426.59,883.873 \n",
       "  1469.72,876.374 1512.86,870.838 1556,867.66 1599.14,866.506 1642.28,866.598 1685.41,867.178 1728.55,867.768 1771.69,868.178 1814.83,868.396 1857.97,868.48 \n",
       "  1901.1,868.491 1944.24,868.473 1987.38,868.449 2030.52,868.428 2073.65,868.413 2116.79,868.401 2159.93,868.386 2203.07,868.346 2246.21,868.216 2289.34,868.243 \n",
       "  \n",
       "  \"/>\n",
       "<polyline clip-path=\"url(#clip4502)\" style=\"stroke:#e26f46; stroke-width:8; stroke-opacity:1; fill:none\" points=\"\n",
       "  175.59,596.937 218.728,598.328 261.865,598.219 305.003,598.436 348.141,598.783 391.279,599.134 434.417,599.457 477.555,599.76 520.692,600.039 563.83,600.26 \n",
       "  606.968,600.367 650.106,600.29 693.244,599.941 736.382,599.218 779.519,598 822.657,596.168 865.795,593.685 908.933,590.788 952.071,588.44 995.208,589.203 \n",
       "  1038.35,599.304 1081.48,624.205 1124.62,672.654 1167.76,738.614 1210.9,799.456 1254.04,839.817 1297.17,860.914 1340.31,869.267 1383.45,870.796 1426.59,870.07 \n",
       "  1469.72,870.118 1512.86,872.171 1556,875.91 1599.14,880.256 1642.28,884.173 1685.41,887.101 1728.55,888.961 1771.69,889.964 1814.83,890.403 1857.97,890.526 \n",
       "  1901.1,890.501 1944.24,890.418 1987.38,890.32 2030.52,890.22 2073.65,890.12 2116.79,890.021 2159.93,889.931 2203.07,889.886 2246.21,889.983 2289.34,890.302 \n",
       "  \n",
       "  \"/>\n",
       "<polyline clip-path=\"url(#clip4502)\" style=\"stroke:#3da44d; stroke-width:8; stroke-opacity:1; fill:none\" points=\"\n",
       "  175.59,1059.87 218.728,1025.79 261.865,1021.64 305.003,1015.31 348.141,1007.38 391.279,998.636 434.417,989.903 477.555,981.88 520.692,975.126 563.83,970.194 \n",
       "  606.968,967.867 650.106,969.288 693.244,976.111 736.382,990.579 779.519,1015.56 822.657,1054.46 865.795,1110.64 908.933,1185.82 952.071,1276.33 995.208,1365.79 \n",
       "  1038.35,1384.24 1081.48,1347.77 1124.62,1188.78 1167.76,944.097 1210.9,674.817 1254.04,436.04 1297.17,263.515 1340.31,156.397 1383.45,101.154 1426.59,86.1857 \n",
       "  1469.72,101.646 1512.86,136.366 1556,178.202 1599.14,217.118 1642.28,247.527 1685.41,268.223 1728.55,280.738 1771.69,287.561 1814.83,290.958 1857.97,292.56 \n",
       "  1901.1,293.351 1944.24,293.838 1987.38,294.252 2030.52,294.677 2073.65,295.135 2116.79,295.629 2159.93,296.125 2203.07,296.508 2246.21,296.367 2289.34,281.39 \n",
       "  \n",
       "  \"/>\n",
       "<path clip-path=\"url(#clip4500)\" d=\"\n",
       "M1764.11 372.684 L2280.76 372.684 L2280.76 130.764 L1764.11 130.764  Z\n",
       "  \" fill=\"#ffffff\" fill-rule=\"evenodd\" fill-opacity=\"1\"/>\n",
       "<polyline clip-path=\"url(#clip4500)\" style=\"stroke:#000000; stroke-width:4; stroke-opacity:1; fill:none\" points=\"\n",
       "  1764.11,372.684 2280.76,372.684 2280.76,130.764 1764.11,130.764 1764.11,372.684 \n",
       "  \"/>\n",
       "<polyline clip-path=\"url(#clip4500)\" style=\"stroke:#009af9; stroke-width:8; stroke-opacity:1; fill:none\" points=\"\n",
       "  1788.11,191.244 1932.11,191.244 \n",
       "  \"/>\n",
       "<path clip-path=\"url(#clip4500)\" d=\"M 0 0 M1960.79 177.807 L1960.79 204.682 L1966.44 204.682 Q1973.59 204.682 1976.9 201.441 Q1980.23 198.2 1980.23 191.209 Q1980.23 184.265 1976.9 181.047 Q1973.59 177.807 1966.44 177.807 L1960.79 177.807 M1956.11 173.964 L1965.72 173.964 Q1975.77 173.964 1980.47 178.154 Q1985.16 182.321 1985.16 191.209 Q1985.16 200.145 1980.44 204.334 Q1975.72 208.524 1965.72 208.524 L1956.11 208.524 L1956.11 173.964 Z\" fill=\"#000000\" fill-rule=\"evenodd\" fill-opacity=\"1\" /><path clip-path=\"url(#clip4500)\" d=\"M 0 0 M2011.81 194.496 L2011.81 196.58 L1992.22 196.58 Q1992.5 200.978 1994.86 203.293 Q1997.25 205.584 2001.48 205.584 Q2003.94 205.584 2006.23 204.982 Q2008.54 204.381 2010.81 203.177 L2010.81 207.205 Q2008.52 208.177 2006.11 208.686 Q2003.71 209.195 2001.23 209.195 Q1995.03 209.195 1991.39 205.584 Q1987.78 201.973 1987.78 195.816 Q1987.78 189.45 1991.21 185.723 Q1994.66 181.973 2000.49 181.973 Q2005.72 181.973 2008.75 185.353 Q2011.81 188.709 2011.81 194.496 M2007.55 193.246 Q2007.5 189.751 2005.58 187.668 Q2003.68 185.584 2000.53 185.584 Q1996.97 185.584 1994.82 187.598 Q1992.69 189.612 1992.36 193.27 L2007.55 193.246 Z\" fill=\"#000000\" fill-rule=\"evenodd\" fill-opacity=\"1\" /><path clip-path=\"url(#clip4500)\" d=\"M 0 0 M2037.83 192.876 L2037.83 208.524 L2033.57 208.524 L2033.57 193.015 Q2033.57 189.334 2032.13 187.506 Q2030.7 185.677 2027.83 185.677 Q2024.38 185.677 2022.39 187.876 Q2020.4 190.075 2020.4 193.871 L2020.4 208.524 L2016.11 208.524 L2016.11 182.598 L2020.4 182.598 L2020.4 186.626 Q2021.92 184.288 2023.98 183.131 Q2026.07 181.973 2028.78 181.973 Q2033.24 181.973 2035.53 184.751 Q2037.83 187.506 2037.83 192.876 Z\" fill=\"#000000\" fill-rule=\"evenodd\" fill-opacity=\"1\" /><path clip-path=\"url(#clip4500)\" d=\"M 0 0 M2058.82 183.362 L2058.82 187.39 Q2057.02 186.464 2055.07 186.001 Q2053.13 185.538 2051.04 185.538 Q2047.87 185.538 2046.28 186.51 Q2044.7 187.483 2044.7 189.427 Q2044.7 190.908 2045.84 191.765 Q2046.97 192.598 2050.4 193.362 L2051.85 193.686 Q2056.39 194.658 2058.29 196.441 Q2060.21 198.2 2060.21 201.371 Q2060.21 204.982 2057.34 207.089 Q2054.49 209.195 2049.49 209.195 Q2047.41 209.195 2045.14 208.779 Q2042.9 208.385 2040.4 207.575 L2040.4 203.177 Q2042.76 204.404 2045.05 205.029 Q2047.34 205.631 2049.59 205.631 Q2052.59 205.631 2054.22 204.612 Q2055.84 203.57 2055.84 201.695 Q2055.84 199.959 2054.66 199.033 Q2053.5 198.107 2049.54 197.251 L2048.06 196.904 Q2044.1 196.07 2042.34 194.358 Q2040.58 192.621 2040.58 189.612 Q2040.58 185.955 2043.17 183.964 Q2045.77 181.973 2050.53 181.973 Q2052.9 181.973 2054.98 182.321 Q2057.06 182.668 2058.82 183.362 Z\" fill=\"#000000\" fill-rule=\"evenodd\" fill-opacity=\"1\" /><path clip-path=\"url(#clip4500)\" d=\"M 0 0 M2064.68 182.598 L2068.94 182.598 L2068.94 208.524 L2064.68 208.524 L2064.68 182.598 M2064.68 172.506 L2068.94 172.506 L2068.94 177.899 L2064.68 177.899 L2064.68 172.506 Z\" fill=\"#000000\" fill-rule=\"evenodd\" fill-opacity=\"1\" /><path clip-path=\"url(#clip4500)\" d=\"M 0 0 M2077.62 175.237 L2077.62 182.598 L2086.39 182.598 L2086.39 185.908 L2077.62 185.908 L2077.62 199.982 Q2077.62 203.154 2078.47 204.057 Q2079.35 204.959 2082.02 204.959 L2086.39 204.959 L2086.39 208.524 L2082.02 208.524 Q2077.09 208.524 2075.21 206.695 Q2073.34 204.844 2073.34 199.982 L2073.34 185.908 L2070.21 185.908 L2070.21 182.598 L2073.34 182.598 L2073.34 175.237 L2077.62 175.237 Z\" fill=\"#000000\" fill-rule=\"evenodd\" fill-opacity=\"1\" /><path clip-path=\"url(#clip4500)\" d=\"M 0 0 M2101.65 210.931 Q2099.84 215.561 2098.13 216.973 Q2096.41 218.385 2093.54 218.385 L2090.14 218.385 L2090.14 214.82 L2092.64 214.82 Q2094.4 214.82 2095.37 213.987 Q2096.34 213.154 2097.53 210.052 L2098.29 208.107 L2087.8 182.598 L2092.32 182.598 L2100.42 202.876 L2108.52 182.598 L2113.03 182.598 L2101.65 210.931 Z\" fill=\"#000000\" fill-rule=\"evenodd\" fill-opacity=\"1\" /><polyline clip-path=\"url(#clip4500)\" style=\"stroke:#e26f46; stroke-width:8; stroke-opacity:1; fill:none\" points=\"\n",
       "  1788.11,251.724 1932.11,251.724 \n",
       "  \"/>\n",
       "<path clip-path=\"url(#clip4500)\" d=\"M 0 0 M1969.31 269.004 L1956.11 234.444 L1961 234.444 L1971.95 263.541 L1982.92 234.444 L1987.78 234.444 L1974.61 269.004 L1969.31 269.004 Z\" fill=\"#000000\" fill-rule=\"evenodd\" fill-opacity=\"1\" /><path clip-path=\"url(#clip4500)\" d=\"M 0 0 M2010.74 254.976 L2010.74 257.06 L1991.16 257.06 Q1991.44 261.458 1993.8 263.773 Q1996.18 266.064 2000.42 266.064 Q2002.87 266.064 2005.16 265.462 Q2007.48 264.861 2009.75 263.657 L2009.75 267.685 Q2007.46 268.657 2005.05 269.166 Q2002.64 269.675 2000.16 269.675 Q1993.96 269.675 1990.33 266.064 Q1986.72 262.453 1986.72 256.296 Q1986.72 249.93 1990.14 246.203 Q1993.59 242.453 1999.42 242.453 Q2004.66 242.453 2007.69 245.833 Q2010.74 249.189 2010.74 254.976 M2006.48 253.726 Q2006.44 250.231 2004.52 248.148 Q2002.62 246.064 1999.47 246.064 Q1995.91 246.064 1993.75 248.078 Q1991.62 250.092 1991.3 253.75 L2006.48 253.726 Z\" fill=\"#000000\" fill-rule=\"evenodd\" fill-opacity=\"1\" /><path clip-path=\"url(#clip4500)\" d=\"M 0 0 M2015.21 232.986 L2019.47 232.986 L2019.47 269.004 L2015.21 269.004 L2015.21 232.986 Z\" fill=\"#000000\" fill-rule=\"evenodd\" fill-opacity=\"1\" /><path clip-path=\"url(#clip4500)\" d=\"M 0 0 M2033.98 246.064 Q2030.56 246.064 2028.57 248.75 Q2026.58 251.412 2026.58 256.064 Q2026.58 260.717 2028.54 263.402 Q2030.53 266.064 2033.98 266.064 Q2037.39 266.064 2039.38 263.379 Q2041.37 260.694 2041.37 256.064 Q2041.37 251.458 2039.38 248.773 Q2037.39 246.064 2033.98 246.064 M2033.98 242.453 Q2039.54 242.453 2042.71 246.064 Q2045.88 249.675 2045.88 256.064 Q2045.88 262.43 2042.71 266.064 Q2039.54 269.675 2033.98 269.675 Q2028.41 269.675 2025.23 266.064 Q2022.09 262.43 2022.09 256.064 Q2022.09 249.675 2025.23 246.064 Q2028.41 242.453 2033.98 242.453 Z\" fill=\"#000000\" fill-rule=\"evenodd\" fill-opacity=\"1\" /><path clip-path=\"url(#clip4500)\" d=\"M 0 0 M2069.01 244.074 L2069.01 248.055 Q2067.2 247.06 2065.37 246.574 Q2063.57 246.064 2061.72 246.064 Q2057.57 246.064 2055.28 248.703 Q2052.99 251.319 2052.99 256.064 Q2052.99 260.81 2055.28 263.449 Q2057.57 266.064 2061.72 266.064 Q2063.57 266.064 2065.37 265.578 Q2067.2 265.069 2069.01 264.074 L2069.01 268.009 Q2067.22 268.842 2065.3 269.259 Q2063.4 269.675 2061.25 269.675 Q2055.4 269.675 2051.95 265.995 Q2048.5 262.314 2048.5 256.064 Q2048.5 249.722 2051.97 246.088 Q2055.47 242.453 2061.53 242.453 Q2063.5 242.453 2065.37 242.87 Q2067.25 243.263 2069.01 244.074 Z\" fill=\"#000000\" fill-rule=\"evenodd\" fill-opacity=\"1\" /><path clip-path=\"url(#clip4500)\" d=\"M 0 0 M2073.47 243.078 L2077.73 243.078 L2077.73 269.004 L2073.47 269.004 L2073.47 243.078 M2073.47 232.986 L2077.73 232.986 L2077.73 238.379 L2073.47 238.379 L2073.47 232.986 Z\" fill=\"#000000\" fill-rule=\"evenodd\" fill-opacity=\"1\" /><path clip-path=\"url(#clip4500)\" d=\"M 0 0 M2086.41 235.717 L2086.41 243.078 L2095.19 243.078 L2095.19 246.388 L2086.41 246.388 L2086.41 260.462 Q2086.41 263.634 2087.27 264.537 Q2088.15 265.439 2090.81 265.439 L2095.19 265.439 L2095.19 269.004 L2090.81 269.004 Q2085.88 269.004 2084.01 267.175 Q2082.13 265.324 2082.13 260.462 L2082.13 246.388 L2079.01 246.388 L2079.01 243.078 L2082.13 243.078 L2082.13 235.717 L2086.41 235.717 Z\" fill=\"#000000\" fill-rule=\"evenodd\" fill-opacity=\"1\" /><path clip-path=\"url(#clip4500)\" d=\"M 0 0 M2110.44 271.411 Q2108.64 276.041 2106.92 277.453 Q2105.21 278.865 2102.34 278.865 L2098.94 278.865 L2098.94 275.3 L2101.44 275.3 Q2103.2 275.3 2104.17 274.467 Q2105.14 273.634 2106.32 270.532 L2107.09 268.587 L2096.6 243.078 L2101.11 243.078 L2109.21 263.356 L2117.32 243.078 L2121.83 243.078 L2110.44 271.411 Z\" fill=\"#000000\" fill-rule=\"evenodd\" fill-opacity=\"1\" /><polyline clip-path=\"url(#clip4500)\" style=\"stroke:#3da44d; stroke-width:8; stroke-opacity:1; fill:none\" points=\"\n",
       "  1788.11,312.204 1932.11,312.204 \n",
       "  \"/>\n",
       "<path clip-path=\"url(#clip4500)\" d=\"M 0 0 M1956.11 294.924 L1985.35 294.924 L1985.35 298.859 L1973.08 298.859 L1973.08 329.484 L1968.38 329.484 L1968.38 298.859 L1956.11 298.859 L1956.11 294.924 Z\" fill=\"#000000\" fill-rule=\"evenodd\" fill-opacity=\"1\" /><path clip-path=\"url(#clip4500)\" d=\"M 0 0 M2003.94 315.456 L2003.94 317.54 L1984.35 317.54 Q1984.63 321.938 1986.99 324.253 Q1989.38 326.544 1993.61 326.544 Q1996.07 326.544 1998.36 325.942 Q2000.67 325.341 2002.94 324.137 L2002.94 328.165 Q2000.65 329.137 1998.24 329.646 Q1995.84 330.155 1993.36 330.155 Q1987.16 330.155 1983.52 326.544 Q1979.91 322.933 1979.91 316.776 Q1979.91 310.41 1983.34 306.683 Q1986.79 302.933 1992.62 302.933 Q1997.85 302.933 2000.88 306.313 Q2003.94 309.669 2003.94 315.456 M1999.68 314.206 Q1999.63 310.711 1997.71 308.628 Q1995.81 306.544 1992.66 306.544 Q1989.1 306.544 1986.95 308.558 Q1984.82 310.572 1984.49 314.23 L1999.68 314.206 Z\" fill=\"#000000\" fill-rule=\"evenodd\" fill-opacity=\"1\" /><path clip-path=\"url(#clip4500)\" d=\"M 0 0 M2028.59 308.535 Q2030.19 305.665 2032.41 304.299 Q2034.63 302.933 2037.64 302.933 Q2041.69 302.933 2043.89 305.781 Q2046.09 308.605 2046.09 313.836 L2046.09 329.484 L2041.81 329.484 L2041.81 313.975 Q2041.81 310.248 2040.49 308.443 Q2039.17 306.637 2036.46 306.637 Q2033.15 306.637 2031.23 308.836 Q2029.31 311.035 2029.31 314.831 L2029.31 329.484 L2025.03 329.484 L2025.03 313.975 Q2025.03 310.225 2023.71 308.443 Q2022.39 306.637 2019.63 306.637 Q2016.37 306.637 2014.45 308.859 Q2012.53 311.058 2012.53 314.831 L2012.53 329.484 L2008.24 329.484 L2008.24 303.558 L2012.53 303.558 L2012.53 307.586 Q2013.98 305.202 2016.02 304.068 Q2018.06 302.933 2020.86 302.933 Q2023.68 302.933 2025.65 304.368 Q2027.64 305.804 2028.59 308.535 Z\" fill=\"#000000\" fill-rule=\"evenodd\" fill-opacity=\"1\" /><path clip-path=\"url(#clip4500)\" d=\"M 0 0 M2054.68 325.595 L2054.68 339.345 L2050.4 339.345 L2050.4 303.558 L2054.68 303.558 L2054.68 307.493 Q2056.02 305.179 2058.06 304.068 Q2060.12 302.933 2062.97 302.933 Q2067.69 302.933 2070.63 306.683 Q2073.59 310.433 2073.59 316.544 Q2073.59 322.655 2070.63 326.405 Q2067.69 330.155 2062.97 330.155 Q2060.12 330.155 2058.06 329.044 Q2056.02 327.91 2054.68 325.595 M2069.17 316.544 Q2069.17 311.845 2067.22 309.183 Q2065.3 306.498 2061.92 306.498 Q2058.54 306.498 2056.6 309.183 Q2054.68 311.845 2054.68 316.544 Q2054.68 321.243 2056.6 323.929 Q2058.54 326.591 2061.92 326.591 Q2065.3 326.591 2067.22 323.929 Q2069.17 321.243 2069.17 316.544 Z\" fill=\"#000000\" fill-rule=\"evenodd\" fill-opacity=\"1\" /><path clip-path=\"url(#clip4500)\" d=\"M 0 0 M2100.23 315.456 L2100.23 317.54 L2080.65 317.54 Q2080.93 321.938 2083.29 324.253 Q2085.67 326.544 2089.91 326.544 Q2092.36 326.544 2094.65 325.942 Q2096.97 325.341 2099.24 324.137 L2099.24 328.165 Q2096.95 329.137 2094.54 329.646 Q2092.13 330.155 2089.65 330.155 Q2083.45 330.155 2079.82 326.544 Q2076.21 322.933 2076.21 316.776 Q2076.21 310.41 2079.63 306.683 Q2083.08 302.933 2088.91 302.933 Q2094.15 302.933 2097.18 306.313 Q2100.23 309.669 2100.23 315.456 M2095.97 314.206 Q2095.93 310.711 2094.01 308.628 Q2092.11 306.544 2088.96 306.544 Q2085.4 306.544 2083.24 308.558 Q2081.11 310.572 2080.79 314.23 L2095.97 314.206 Z\" fill=\"#000000\" fill-rule=\"evenodd\" fill-opacity=\"1\" /><path clip-path=\"url(#clip4500)\" d=\"M 0 0 M2119.72 307.54 Q2119.01 307.123 2118.15 306.938 Q2117.32 306.73 2116.3 306.73 Q2112.69 306.73 2110.74 309.091 Q2108.82 311.429 2108.82 315.827 L2108.82 329.484 L2104.54 329.484 L2104.54 303.558 L2108.82 303.558 L2108.82 307.586 Q2110.16 305.225 2112.32 304.091 Q2114.47 302.933 2117.55 302.933 Q2117.99 302.933 2118.52 303.003 Q2119.05 303.049 2119.7 303.165 L2119.72 307.54 Z\" fill=\"#000000\" fill-rule=\"evenodd\" fill-opacity=\"1\" /><path clip-path=\"url(#clip4500)\" d=\"M 0 0 M2135.97 316.452 Q2130.81 316.452 2128.82 317.632 Q2126.83 318.813 2126.83 321.66 Q2126.83 323.929 2128.31 325.271 Q2129.82 326.591 2132.39 326.591 Q2135.93 326.591 2138.06 324.091 Q2140.21 321.567 2140.21 317.401 L2140.21 316.452 L2135.97 316.452 M2144.47 314.693 L2144.47 329.484 L2140.21 329.484 L2140.21 325.549 Q2138.75 327.91 2136.58 329.044 Q2134.4 330.155 2131.25 330.155 Q2127.27 330.155 2124.91 327.933 Q2122.57 325.688 2122.57 321.938 Q2122.57 317.563 2125.49 315.341 Q2128.43 313.118 2134.24 313.118 L2140.21 313.118 L2140.21 312.702 Q2140.21 309.762 2138.27 308.165 Q2136.34 306.544 2132.85 306.544 Q2130.63 306.544 2128.52 307.077 Q2126.41 307.609 2124.47 308.674 L2124.47 304.739 Q2126.81 303.836 2129.01 303.396 Q2131.21 302.933 2133.29 302.933 Q2138.91 302.933 2141.69 305.85 Q2144.47 308.767 2144.47 314.693 Z\" fill=\"#000000\" fill-rule=\"evenodd\" fill-opacity=\"1\" /><path clip-path=\"url(#clip4500)\" d=\"M 0 0 M2153.15 296.197 L2153.15 303.558 L2161.92 303.558 L2161.92 306.868 L2153.15 306.868 L2153.15 320.942 Q2153.15 324.114 2154.01 325.017 Q2154.89 325.919 2157.55 325.919 L2161.92 325.919 L2161.92 329.484 L2157.55 329.484 Q2152.62 329.484 2150.74 327.655 Q2148.87 325.804 2148.87 320.942 L2148.87 306.868 L2145.74 306.868 L2145.74 303.558 L2148.87 303.558 L2148.87 296.197 L2153.15 296.197 Z\" fill=\"#000000\" fill-rule=\"evenodd\" fill-opacity=\"1\" /><path clip-path=\"url(#clip4500)\" d=\"M 0 0 M2165.95 319.253 L2165.95 303.558 L2170.21 303.558 L2170.21 319.091 Q2170.21 322.771 2171.65 324.623 Q2173.08 326.452 2175.95 326.452 Q2179.4 326.452 2181.39 324.253 Q2183.4 322.054 2183.4 318.257 L2183.4 303.558 L2187.66 303.558 L2187.66 329.484 L2183.4 329.484 L2183.4 325.503 Q2181.85 327.864 2179.79 329.021 Q2177.76 330.155 2175.05 330.155 Q2170.58 330.155 2168.27 327.378 Q2165.95 324.6 2165.95 319.253 M2176.67 302.933 L2176.67 302.933 Z\" fill=\"#000000\" fill-rule=\"evenodd\" fill-opacity=\"1\" /><path clip-path=\"url(#clip4500)\" d=\"M 0 0 M2207.15 307.54 Q2206.44 307.123 2205.58 306.938 Q2204.75 306.73 2203.73 306.73 Q2200.12 306.73 2198.17 309.091 Q2196.25 311.429 2196.25 315.827 L2196.25 329.484 L2191.97 329.484 L2191.97 303.558 L2196.25 303.558 L2196.25 307.586 Q2197.59 305.225 2199.75 304.091 Q2201.9 302.933 2204.98 302.933 Q2205.42 302.933 2205.95 303.003 Q2206.48 303.049 2207.13 303.165 L2207.15 307.54 Z\" fill=\"#000000\" fill-rule=\"evenodd\" fill-opacity=\"1\" /><path clip-path=\"url(#clip4500)\" d=\"M 0 0 M2232.76 315.456 L2232.76 317.54 L2213.17 317.54 Q2213.45 321.938 2215.81 324.253 Q2218.2 326.544 2222.43 326.544 Q2224.89 326.544 2227.18 325.942 Q2229.49 325.341 2231.76 324.137 L2231.76 328.165 Q2229.47 329.137 2227.06 329.646 Q2224.65 330.155 2222.18 330.155 Q2215.97 330.155 2212.34 326.544 Q2208.73 322.933 2208.73 316.776 Q2208.73 310.41 2212.15 306.683 Q2215.6 302.933 2221.44 302.933 Q2226.67 302.933 2229.7 306.313 Q2232.76 309.669 2232.76 315.456 M2228.5 314.206 Q2228.45 310.711 2226.53 308.628 Q2224.63 306.544 2221.48 306.544 Q2217.92 306.544 2215.77 308.558 Q2213.64 310.572 2213.31 314.23 L2228.5 314.206 Z\" fill=\"#000000\" fill-rule=\"evenodd\" fill-opacity=\"1\" /></svg>\n"
      ]
     },
     "metadata": {},
     "output_type": "display_data"
    }
   ],
   "source": [
    "plot_line(ks, ctr)"
   ]
  },
  {
   "cell_type": "code",
   "execution_count": 201,
   "metadata": {
    "scrolled": false
   },
   "outputs": [
    {
     "data": {
      "image/svg+xml": [
       "<?xml version=\"1.0\" encoding=\"utf-8\"?>\n",
       "<svg xmlns=\"http://www.w3.org/2000/svg\" xmlns:xlink=\"http://www.w3.org/1999/xlink\" width=\"600\" height=\"400\" viewBox=\"0 0 2400 1600\">\n",
       "<defs>\n",
       "  <clipPath id=\"clip8100\">\n",
       "    <rect x=\"0\" y=\"0\" width=\"2400\" height=\"1600\"/>\n",
       "  </clipPath>\n",
       "</defs>\n",
       "<path clip-path=\"url(#clip8100)\" d=\"\n",
       "M0 1600 L2400 1600 L2400 0 L0 0  Z\n",
       "  \" fill=\"#ffffff\" fill-rule=\"evenodd\" fill-opacity=\"1\"/>\n",
       "<defs>\n",
       "  <clipPath id=\"clip8101\">\n",
       "    <rect x=\"480\" y=\"0\" width=\"1681\" height=\"1600\"/>\n",
       "  </clipPath>\n",
       "</defs>\n",
       "<path clip-path=\"url(#clip8100)\" d=\"\n",
       "M148.334 1486.45 L2352.76 1486.45 L2352.76 47.2441 L148.334 47.2441  Z\n",
       "  \" fill=\"#ffffff\" fill-rule=\"evenodd\" fill-opacity=\"1\"/>\n",
       "<defs>\n",
       "  <clipPath id=\"clip8102\">\n",
       "    <rect x=\"148\" y=\"47\" width=\"2205\" height=\"1440\"/>\n",
       "  </clipPath>\n",
       "</defs>\n",
       "<polyline clip-path=\"url(#clip8102)\" style=\"stroke:#000000; stroke-width:2; stroke-opacity:0.1; fill:none\" points=\"\n",
       "  181.014,1486.45 181.014,47.2441 \n",
       "  \"/>\n",
       "<polyline clip-path=\"url(#clip8102)\" style=\"stroke:#000000; stroke-width:2; stroke-opacity:0.1; fill:none\" points=\"\n",
       "  715.78,1486.45 715.78,47.2441 \n",
       "  \"/>\n",
       "<polyline clip-path=\"url(#clip8102)\" style=\"stroke:#000000; stroke-width:2; stroke-opacity:0.1; fill:none\" points=\"\n",
       "  1250.55,1486.45 1250.55,47.2441 \n",
       "  \"/>\n",
       "<polyline clip-path=\"url(#clip8102)\" style=\"stroke:#000000; stroke-width:2; stroke-opacity:0.1; fill:none\" points=\"\n",
       "  1785.31,1486.45 1785.31,47.2441 \n",
       "  \"/>\n",
       "<polyline clip-path=\"url(#clip8102)\" style=\"stroke:#000000; stroke-width:2; stroke-opacity:0.1; fill:none\" points=\"\n",
       "  2320.08,1486.45 2320.08,47.2441 \n",
       "  \"/>\n",
       "<polyline clip-path=\"url(#clip8102)\" style=\"stroke:#000000; stroke-width:2; stroke-opacity:0.1; fill:none\" points=\"\n",
       "  148.334,1445.65 2352.76,1445.65 \n",
       "  \"/>\n",
       "<polyline clip-path=\"url(#clip8102)\" style=\"stroke:#000000; stroke-width:2; stroke-opacity:0.1; fill:none\" points=\"\n",
       "  148.334,1140.28 2352.76,1140.28 \n",
       "  \"/>\n",
       "<polyline clip-path=\"url(#clip8102)\" style=\"stroke:#000000; stroke-width:2; stroke-opacity:0.1; fill:none\" points=\"\n",
       "  148.334,834.91 2352.76,834.91 \n",
       "  \"/>\n",
       "<polyline clip-path=\"url(#clip8102)\" style=\"stroke:#000000; stroke-width:2; stroke-opacity:0.1; fill:none\" points=\"\n",
       "  148.334,529.539 2352.76,529.539 \n",
       "  \"/>\n",
       "<polyline clip-path=\"url(#clip8102)\" style=\"stroke:#000000; stroke-width:2; stroke-opacity:0.1; fill:none\" points=\"\n",
       "  148.334,224.169 2352.76,224.169 \n",
       "  \"/>\n",
       "<polyline clip-path=\"url(#clip8100)\" style=\"stroke:#000000; stroke-width:4; stroke-opacity:1; fill:none\" points=\"\n",
       "  148.334,1486.45 2352.76,1486.45 \n",
       "  \"/>\n",
       "<polyline clip-path=\"url(#clip8100)\" style=\"stroke:#000000; stroke-width:4; stroke-opacity:1; fill:none\" points=\"\n",
       "  148.334,1486.45 148.334,47.2441 \n",
       "  \"/>\n",
       "<polyline clip-path=\"url(#clip8100)\" style=\"stroke:#000000; stroke-width:4; stroke-opacity:1; fill:none\" points=\"\n",
       "  181.014,1486.45 181.014,1469.18 \n",
       "  \"/>\n",
       "<polyline clip-path=\"url(#clip8100)\" style=\"stroke:#000000; stroke-width:4; stroke-opacity:1; fill:none\" points=\"\n",
       "  715.78,1486.45 715.78,1469.18 \n",
       "  \"/>\n",
       "<polyline clip-path=\"url(#clip8100)\" style=\"stroke:#000000; stroke-width:4; stroke-opacity:1; fill:none\" points=\"\n",
       "  1250.55,1486.45 1250.55,1469.18 \n",
       "  \"/>\n",
       "<polyline clip-path=\"url(#clip8100)\" style=\"stroke:#000000; stroke-width:4; stroke-opacity:1; fill:none\" points=\"\n",
       "  1785.31,1486.45 1785.31,1469.18 \n",
       "  \"/>\n",
       "<polyline clip-path=\"url(#clip8100)\" style=\"stroke:#000000; stroke-width:4; stroke-opacity:1; fill:none\" points=\"\n",
       "  2320.08,1486.45 2320.08,1469.18 \n",
       "  \"/>\n",
       "<polyline clip-path=\"url(#clip8100)\" style=\"stroke:#000000; stroke-width:4; stroke-opacity:1; fill:none\" points=\"\n",
       "  148.334,1445.65 174.787,1445.65 \n",
       "  \"/>\n",
       "<polyline clip-path=\"url(#clip8100)\" style=\"stroke:#000000; stroke-width:4; stroke-opacity:1; fill:none\" points=\"\n",
       "  148.334,1140.28 174.787,1140.28 \n",
       "  \"/>\n",
       "<polyline clip-path=\"url(#clip8100)\" style=\"stroke:#000000; stroke-width:4; stroke-opacity:1; fill:none\" points=\"\n",
       "  148.334,834.91 174.787,834.91 \n",
       "  \"/>\n",
       "<polyline clip-path=\"url(#clip8100)\" style=\"stroke:#000000; stroke-width:4; stroke-opacity:1; fill:none\" points=\"\n",
       "  148.334,529.539 174.787,529.539 \n",
       "  \"/>\n",
       "<polyline clip-path=\"url(#clip8100)\" style=\"stroke:#000000; stroke-width:4; stroke-opacity:1; fill:none\" points=\"\n",
       "  148.334,224.169 174.787,224.169 \n",
       "  \"/>\n",
       "<path clip-path=\"url(#clip8100)\" d=\"M 0 0 M148.376 1525.04 L160.853 1525.04 L160.853 1528.83 L148.376 1528.83 L148.376 1525.04 Z\" fill=\"#000000\" fill-rule=\"evenodd\" fill-opacity=\"1\" /><path clip-path=\"url(#clip8100)\" d=\"M 0 0 M166.732 1535.98 L174.371 1535.98 L174.371 1509.62 L166.061 1511.29 L166.061 1507.03 L174.325 1505.36 L179.001 1505.36 L179.001 1535.98 L186.639 1535.98 L186.639 1539.92 L166.732 1539.92 L166.732 1535.98 Z\" fill=\"#000000\" fill-rule=\"evenodd\" fill-opacity=\"1\" /><path clip-path=\"url(#clip8100)\" d=\"M 0 0 M201.709 1508.44 Q198.098 1508.44 196.269 1512 Q194.463 1515.55 194.463 1522.67 Q194.463 1529.78 196.269 1533.35 Q198.098 1536.89 201.709 1536.89 Q205.343 1536.89 207.149 1533.35 Q208.977 1529.78 208.977 1522.67 Q208.977 1515.55 207.149 1512 Q205.343 1508.44 201.709 1508.44 M201.709 1504.73 Q207.519 1504.73 210.575 1509.34 Q213.653 1513.92 213.653 1522.67 Q213.653 1531.4 210.575 1536.01 Q207.519 1540.59 201.709 1540.59 Q195.899 1540.59 192.82 1536.01 Q189.764 1531.4 189.764 1522.67 Q189.764 1513.92 192.82 1509.34 Q195.899 1504.73 201.709 1504.73 Z\" fill=\"#000000\" fill-rule=\"evenodd\" fill-opacity=\"1\" /><path clip-path=\"url(#clip8100)\" d=\"M 0 0 M696.532 1525.04 L709.009 1525.04 L709.009 1528.83 L696.532 1528.83 L696.532 1525.04 Z\" fill=\"#000000\" fill-rule=\"evenodd\" fill-opacity=\"1\" /><path clip-path=\"url(#clip8100)\" d=\"M 0 0 M714.125 1505.36 L732.481 1505.36 L732.481 1509.3 L718.407 1509.3 L718.407 1517.77 Q719.426 1517.42 720.444 1517.26 Q721.463 1517.07 722.481 1517.07 Q728.268 1517.07 731.648 1520.24 Q735.027 1523.42 735.027 1528.83 Q735.027 1534.41 731.555 1537.51 Q728.083 1540.59 721.764 1540.59 Q719.588 1540.59 717.319 1540.22 Q715.074 1539.85 712.666 1539.11 L712.666 1534.41 Q714.75 1535.54 716.972 1536.1 Q719.194 1536.66 721.671 1536.66 Q725.676 1536.66 728.014 1534.55 Q730.352 1532.44 730.352 1528.83 Q730.352 1525.22 728.014 1523.11 Q725.676 1521.01 721.671 1521.01 Q719.796 1521.01 717.921 1521.42 Q716.069 1521.84 714.125 1522.72 L714.125 1505.36 Z\" fill=\"#000000\" fill-rule=\"evenodd\" fill-opacity=\"1\" /><path clip-path=\"url(#clip8100)\" d=\"M 0 0 M1250.55 1508.44 Q1246.93 1508.44 1245.11 1512 Q1243.3 1515.55 1243.3 1522.67 Q1243.3 1529.78 1245.11 1533.35 Q1246.93 1536.89 1250.55 1536.89 Q1254.18 1536.89 1255.98 1533.35 Q1257.81 1529.78 1257.81 1522.67 Q1257.81 1515.55 1255.98 1512 Q1254.18 1508.44 1250.55 1508.44 M1250.55 1504.73 Q1256.36 1504.73 1259.41 1509.34 Q1262.49 1513.92 1262.49 1522.67 Q1262.49 1531.4 1259.41 1536.01 Q1256.36 1540.59 1250.55 1540.59 Q1244.73 1540.59 1241.66 1536.01 Q1238.6 1531.4 1238.6 1522.67 Q1238.6 1513.92 1241.66 1509.34 Q1244.73 1504.73 1250.55 1504.73 Z\" fill=\"#000000\" fill-rule=\"evenodd\" fill-opacity=\"1\" /><path clip-path=\"url(#clip8100)\" d=\"M 0 0 M1775.59 1505.36 L1793.94 1505.36 L1793.94 1509.3 L1779.87 1509.3 L1779.87 1517.77 Q1780.89 1517.42 1781.91 1517.26 Q1782.93 1517.07 1783.94 1517.07 Q1789.73 1517.07 1793.11 1520.24 Q1796.49 1523.42 1796.49 1528.83 Q1796.49 1534.41 1793.02 1537.51 Q1789.55 1540.59 1783.23 1540.59 Q1781.05 1540.59 1778.78 1540.22 Q1776.54 1539.85 1774.13 1539.11 L1774.13 1534.41 Q1776.21 1535.54 1778.44 1536.1 Q1780.66 1536.66 1783.13 1536.66 Q1787.14 1536.66 1789.48 1534.55 Q1791.82 1532.44 1791.82 1528.83 Q1791.82 1525.22 1789.48 1523.11 Q1787.14 1521.01 1783.13 1521.01 Q1781.26 1521.01 1779.38 1521.42 Q1777.53 1521.84 1775.59 1522.72 L1775.59 1505.36 Z\" fill=\"#000000\" fill-rule=\"evenodd\" fill-opacity=\"1\" /><path clip-path=\"url(#clip8100)\" d=\"M 0 0 M2296.95 1535.98 L2304.59 1535.98 L2304.59 1509.62 L2296.28 1511.29 L2296.28 1507.03 L2304.54 1505.36 L2309.22 1505.36 L2309.22 1535.98 L2316.86 1535.98 L2316.86 1539.92 L2296.95 1539.92 L2296.95 1535.98 Z\" fill=\"#000000\" fill-rule=\"evenodd\" fill-opacity=\"1\" /><path clip-path=\"url(#clip8100)\" d=\"M 0 0 M2331.93 1508.44 Q2328.32 1508.44 2326.49 1512 Q2324.68 1515.55 2324.68 1522.67 Q2324.68 1529.78 2326.49 1533.35 Q2328.32 1536.89 2331.93 1536.89 Q2335.56 1536.89 2337.37 1533.35 Q2339.2 1529.78 2339.2 1522.67 Q2339.2 1515.55 2337.37 1512 Q2335.56 1508.44 2331.93 1508.44 M2331.93 1504.73 Q2337.74 1504.73 2340.79 1509.34 Q2343.87 1513.92 2343.87 1522.67 Q2343.87 1531.4 2340.79 1536.01 Q2337.74 1540.59 2331.93 1540.59 Q2326.12 1540.59 2323.04 1536.01 Q2319.98 1531.4 2319.98 1522.67 Q2319.98 1513.92 2323.04 1509.34 Q2326.12 1504.73 2331.93 1504.73 Z\" fill=\"#000000\" fill-rule=\"evenodd\" fill-opacity=\"1\" /><path clip-path=\"url(#clip8100)\" d=\"M 0 0 M75.4226 1431.45 Q71.8115 1431.45 69.9828 1435.02 Q68.1773 1438.56 68.1773 1445.69 Q68.1773 1452.79 69.9828 1456.36 Q71.8115 1459.9 75.4226 1459.9 Q79.0569 1459.9 80.8624 1456.36 Q82.6911 1452.79 82.6911 1445.69 Q82.6911 1438.56 80.8624 1435.02 Q79.0569 1431.45 75.4226 1431.45 M75.4226 1427.75 Q81.2328 1427.75 84.2883 1432.35 Q87.367 1436.94 87.367 1445.69 Q87.367 1454.41 84.2883 1459.02 Q81.2328 1463.6 75.4226 1463.6 Q69.6125 1463.6 66.5338 1459.02 Q63.4782 1454.41 63.4782 1445.69 Q63.4782 1436.94 66.5338 1432.35 Q69.6125 1427.75 75.4226 1427.75 Z\" fill=\"#000000\" fill-rule=\"evenodd\" fill-opacity=\"1\" /><path clip-path=\"url(#clip8100)\" d=\"M 0 0 M92.4364 1457.05 L97.3206 1457.05 L97.3206 1462.93 L92.4364 1462.93 L92.4364 1457.05 Z\" fill=\"#000000\" fill-rule=\"evenodd\" fill-opacity=\"1\" /><path clip-path=\"url(#clip8100)\" d=\"M 0 0 M112.39 1431.45 Q108.779 1431.45 106.95 1435.02 Q105.145 1438.56 105.145 1445.69 Q105.145 1452.79 106.95 1456.36 Q108.779 1459.9 112.39 1459.9 Q116.024 1459.9 117.83 1456.36 Q119.658 1452.79 119.658 1445.69 Q119.658 1438.56 117.83 1435.02 Q116.024 1431.45 112.39 1431.45 M112.39 1427.75 Q118.2 1427.75 121.256 1432.35 Q124.334 1436.94 124.334 1445.69 Q124.334 1454.41 121.256 1459.02 Q118.2 1463.6 112.39 1463.6 Q106.58 1463.6 103.501 1459.02 Q100.446 1454.41 100.446 1445.69 Q100.446 1436.94 103.501 1432.35 Q106.58 1427.75 112.39 1427.75 Z\" fill=\"#000000\" fill-rule=\"evenodd\" fill-opacity=\"1\" /><path clip-path=\"url(#clip8100)\" d=\"M 0 0 M76.6495 1126.08 Q73.0384 1126.08 71.2097 1129.64 Q69.4041 1133.19 69.4041 1140.32 Q69.4041 1147.42 71.2097 1150.99 Q73.0384 1154.53 76.6495 1154.53 Q80.2837 1154.53 82.0892 1150.99 Q83.9179 1147.42 83.9179 1140.32 Q83.9179 1133.19 82.0892 1129.64 Q80.2837 1126.08 76.6495 1126.08 M76.6495 1122.38 Q82.4596 1122.38 85.5152 1126.98 Q88.5938 1131.57 88.5938 1140.32 Q88.5938 1149.04 85.5152 1153.65 Q82.4596 1158.23 76.6495 1158.23 Q70.8393 1158.23 67.7606 1153.65 Q64.7051 1149.04 64.7051 1140.32 Q64.7051 1131.57 67.7606 1126.98 Q70.8393 1122.38 76.6495 1122.38 Z\" fill=\"#000000\" fill-rule=\"evenodd\" fill-opacity=\"1\" /><path clip-path=\"url(#clip8100)\" d=\"M 0 0 M93.6633 1151.68 L98.5475 1151.68 L98.5475 1157.56 L93.6633 1157.56 L93.6633 1151.68 Z\" fill=\"#000000\" fill-rule=\"evenodd\" fill-opacity=\"1\" /><path clip-path=\"url(#clip8100)\" d=\"M 0 0 M104.427 1153.63 L112.066 1153.63 L112.066 1127.26 L103.756 1128.93 L103.756 1124.67 L112.02 1123 L116.696 1123 L116.696 1153.63 L124.334 1153.63 L124.334 1157.56 L104.427 1157.56 L104.427 1153.63 Z\" fill=\"#000000\" fill-rule=\"evenodd\" fill-opacity=\"1\" /><path clip-path=\"url(#clip8100)\" d=\"M 0 0 M77.0198 820.709 Q73.4087 820.709 71.58 824.274 Q69.7745 827.815 69.7745 834.945 Q69.7745 842.051 71.58 845.616 Q73.4087 849.158 77.0198 849.158 Q80.6541 849.158 82.4596 845.616 Q84.2883 842.051 84.2883 834.945 Q84.2883 827.815 82.4596 824.274 Q80.6541 820.709 77.0198 820.709 M77.0198 817.005 Q82.83 817.005 85.8855 821.612 Q88.9642 826.195 88.9642 834.945 Q88.9642 843.672 85.8855 848.278 Q82.83 852.862 77.0198 852.862 Q71.2097 852.862 68.131 848.278 Q65.0754 843.672 65.0754 834.945 Q65.0754 826.195 68.131 821.612 Q71.2097 817.005 77.0198 817.005 Z\" fill=\"#000000\" fill-rule=\"evenodd\" fill-opacity=\"1\" /><path clip-path=\"url(#clip8100)\" d=\"M 0 0 M94.0336 846.311 L98.9179 846.311 L98.9179 852.19 L94.0336 852.19 L94.0336 846.311 Z\" fill=\"#000000\" fill-rule=\"evenodd\" fill-opacity=\"1\" /><path clip-path=\"url(#clip8100)\" d=\"M 0 0 M108.015 848.255 L124.334 848.255 L124.334 852.19 L102.39 852.19 L102.39 848.255 Q105.052 845.501 109.635 840.871 Q114.242 836.218 115.422 834.876 Q117.668 832.352 118.547 830.616 Q119.45 828.857 119.45 827.167 Q119.45 824.413 117.506 822.677 Q115.584 820.94 112.483 820.94 Q110.284 820.94 107.83 821.704 Q105.399 822.468 102.622 824.019 L102.622 819.297 Q105.446 818.163 107.899 817.584 Q110.353 817.005 112.39 817.005 Q117.76 817.005 120.955 819.69 Q124.149 822.376 124.149 826.866 Q124.149 828.996 123.339 830.917 Q122.552 832.815 120.446 835.408 Q119.867 836.079 116.765 839.297 Q113.663 842.491 108.015 848.255 Z\" fill=\"#000000\" fill-rule=\"evenodd\" fill-opacity=\"1\" /><path clip-path=\"url(#clip8100)\" d=\"M 0 0 M76.0708 515.338 Q72.4597 515.338 70.631 518.903 Q68.8254 522.445 68.8254 529.574 Q68.8254 536.681 70.631 540.245 Q72.4597 543.787 76.0708 543.787 Q79.705 543.787 81.5105 540.245 Q83.3392 536.681 83.3392 529.574 Q83.3392 522.445 81.5105 518.903 Q79.705 515.338 76.0708 515.338 M76.0708 511.634 Q81.8809 511.634 84.9365 516.241 Q88.0151 520.824 88.0151 529.574 Q88.0151 538.301 84.9365 542.907 Q81.8809 547.491 76.0708 547.491 Q70.2606 547.491 67.1819 542.907 Q64.1264 538.301 64.1264 529.574 Q64.1264 520.824 67.1819 516.241 Q70.2606 511.634 76.0708 511.634 Z\" fill=\"#000000\" fill-rule=\"evenodd\" fill-opacity=\"1\" /><path clip-path=\"url(#clip8100)\" d=\"M 0 0 M93.0846 540.94 L97.9688 540.94 L97.9688 546.819 L93.0846 546.819 L93.0846 540.94 Z\" fill=\"#000000\" fill-rule=\"evenodd\" fill-opacity=\"1\" /><path clip-path=\"url(#clip8100)\" d=\"M 0 0 M117.205 528.185 Q120.561 528.903 122.436 531.171 Q124.334 533.44 124.334 536.773 Q124.334 541.889 120.816 544.69 Q117.297 547.491 110.816 547.491 Q108.64 547.491 106.325 547.051 Q104.034 546.634 101.58 545.778 L101.58 541.264 Q103.524 542.398 105.839 542.977 Q108.154 543.556 110.677 543.556 Q115.075 543.556 117.367 541.819 Q119.682 540.083 119.682 536.773 Q119.682 533.718 117.529 532.005 Q115.399 530.269 111.58 530.269 L107.552 530.269 L107.552 526.426 L111.765 526.426 Q115.214 526.426 117.043 525.06 Q118.871 523.671 118.871 521.079 Q118.871 518.417 116.973 517.005 Q115.098 515.57 111.58 515.57 Q109.659 515.57 107.459 515.986 Q105.26 516.403 102.622 517.283 L102.622 513.116 Q105.284 512.375 107.598 512.005 Q109.936 511.634 111.996 511.634 Q117.321 511.634 120.422 514.065 Q123.524 516.472 123.524 520.593 Q123.524 523.463 121.881 525.454 Q120.237 527.421 117.205 528.185 Z\" fill=\"#000000\" fill-rule=\"evenodd\" fill-opacity=\"1\" /><path clip-path=\"url(#clip8100)\" d=\"M 0 0 M74.9365 209.967 Q71.3254 209.967 69.4967 213.532 Q67.6912 217.074 67.6912 224.203 Q67.6912 231.31 69.4967 234.875 Q71.3254 238.416 74.9365 238.416 Q78.5707 238.416 80.3763 234.875 Q82.205 231.31 82.205 224.203 Q82.205 217.074 80.3763 213.532 Q78.5707 209.967 74.9365 209.967 M74.9365 206.264 Q80.7467 206.264 83.8022 210.87 Q86.8809 215.453 86.8809 224.203 Q86.8809 232.93 83.8022 237.537 Q80.7467 242.12 74.9365 242.12 Q69.1264 242.12 66.0477 237.537 Q62.9921 232.93 62.9921 224.203 Q62.9921 215.453 66.0477 210.87 Q69.1264 206.264 74.9365 206.264 Z\" fill=\"#000000\" fill-rule=\"evenodd\" fill-opacity=\"1\" /><path clip-path=\"url(#clip8100)\" d=\"M 0 0 M91.9503 235.569 L96.8345 235.569 L96.8345 241.449 L91.9503 241.449 L91.9503 235.569 Z\" fill=\"#000000\" fill-rule=\"evenodd\" fill-opacity=\"1\" /><path clip-path=\"url(#clip8100)\" d=\"M 0 0 M114.751 210.963 L102.946 229.412 L114.751 229.412 L114.751 210.963 M113.524 206.889 L119.404 206.889 L119.404 229.412 L124.334 229.412 L124.334 233.3 L119.404 233.3 L119.404 241.449 L114.751 241.449 L114.751 233.3 L99.1493 233.3 L99.1493 228.787 L113.524 206.889 Z\" fill=\"#000000\" fill-rule=\"evenodd\" fill-opacity=\"1\" /><polyline clip-path=\"url(#clip8102)\" style=\"stroke:#009af9; stroke-width:4; stroke-opacity:1; fill:none\" points=\"\n",
       "  210.724,1445.65 270.142,1445.65 329.56,1445.65 388.979,1445.65 448.397,1445.65 507.816,1445.65 567.234,1445.65 626.652,1445.65 686.071,1445.65 745.489,1445.65 \n",
       "  804.907,1445.62 864.326,1445.47 923.744,1444.74 983.162,1441.87 1042.58,1432.19 1102,1404.52 1161.42,1337.27 1220.84,1199.45 1280.25,970.005 1339.67,663.566 \n",
       "  1399.09,334.046 1458.51,89.355 1517.93,111.958 1577.35,488.989 1636.76,974.541 1696.18,1283.75 1755.6,1403.65 1815.02,1436.73 1874.44,1444.05 1933.86,1445.41 \n",
       "  1993.27,1445.62 2052.69,1445.65 2112.11,1445.65 2171.53,1445.65 2230.95,1445.65 2290.37,1445.65 \n",
       "  \"/>\n",
       "<polyline clip-path=\"url(#clip8102)\" style=\"stroke:#e26f46; stroke-width:4; stroke-opacity:1; fill:none\" points=\"\n",
       "  210.724,1445.61 270.142,1445.67 329.56,1445.66 388.979,1445.61 448.397,1445.64 507.816,1445.67 567.234,1445.68 626.652,1445.66 686.071,1445.66 745.489,1445.62 \n",
       "  804.907,1445.62 864.326,1445.51 923.744,1444.83 983.162,1442.19 1042.58,1432.91 1102,1406.05 1161.42,1339.49 1220.84,1200.9 1280.25,967.577 1339.67,654.922 \n",
       "  1399.09,323.209 1458.51,88.6692 1517.93,124.876 1577.35,500.097 1636.76,974.982 1696.18,1279.68 1755.6,1400.96 1815.02,1435.66 1874.44,1443.75 1933.86,1445.38 \n",
       "  1993.27,1445.63 2052.69,1445.64 2112.11,1445.66 2171.53,1445.67 2230.95,1445.62 2290.37,1445.61 \n",
       "  \"/>\n",
       "<polyline clip-path=\"url(#clip8102)\" style=\"stroke:#3da44d; stroke-width:4; stroke-opacity:1; fill:none\" points=\"\n",
       "  210.724,1445.56 270.142,1445.7 329.56,1445.66 388.979,1445.57 448.397,1445.64 507.816,1445.67 567.234,1445.72 626.652,1445.65 686.071,1445.67 745.489,1445.59 \n",
       "  804.907,1445.62 864.326,1445.56 923.744,1444.92 983.162,1442.52 1042.58,1433.66 1102,1407.65 1161.42,1341.8 1220.84,1202.41 1280.25,965.041 1339.67,645.923 \n",
       "  1399.09,311.945 1458.51,87.9763 1517.93,138.31 1577.35,511.652 1636.76,975.443 1696.18,1275.46 1755.6,1398.16 1815.02,1434.53 1874.44,1443.43 1933.86,1445.34 \n",
       "  1993.27,1445.63 2052.69,1445.63 2112.11,1445.65 2171.53,1445.68 2230.95,1445.58 2290.37,1445.58 \n",
       "  \"/>\n",
       "<path clip-path=\"url(#clip8100)\" d=\"\n",
       "M1983.79 372.684 L2280.76 372.684 L2280.76 130.764 L1983.79 130.764  Z\n",
       "  \" fill=\"#ffffff\" fill-rule=\"evenodd\" fill-opacity=\"1\"/>\n",
       "<polyline clip-path=\"url(#clip8100)\" style=\"stroke:#000000; stroke-width:4; stroke-opacity:1; fill:none\" points=\"\n",
       "  1983.79,372.684 2280.76,372.684 2280.76,130.764 1983.79,130.764 1983.79,372.684 \n",
       "  \"/>\n",
       "<polyline clip-path=\"url(#clip8100)\" style=\"stroke:#009af9; stroke-width:4; stroke-opacity:1; fill:none\" points=\"\n",
       "  2007.79,191.244 2151.79,191.244 \n",
       "  \"/>\n",
       "<path clip-path=\"url(#clip8100)\" d=\"M 0 0 M2175.79 173.964 L2182.08 173.964 L2197.41 202.876 L2197.41 173.964 L2201.95 173.964 L2201.95 208.524 L2195.65 208.524 L2180.33 179.612 L2180.33 208.524 L2175.79 208.524 L2175.79 173.964 Z\" fill=\"#000000\" fill-rule=\"evenodd\" fill-opacity=\"1\" /><path clip-path=\"url(#clip8100)\" d=\"M 0 0 M2206.6 173.964 L2212.89 173.964 L2228.22 202.876 L2228.22 173.964 L2232.76 173.964 L2232.76 208.524 L2226.46 208.524 L2211.14 179.612 L2211.14 208.524 L2206.6 208.524 L2206.6 173.964 Z\" fill=\"#000000\" fill-rule=\"evenodd\" fill-opacity=\"1\" /><polyline clip-path=\"url(#clip8100)\" style=\"stroke:#e26f46; stroke-width:4; stroke-opacity:1; fill:none\" points=\"\n",
       "  2007.79,251.724 2151.79,251.724 \n",
       "  \"/>\n",
       "<path clip-path=\"url(#clip8100)\" d=\"M 0 0 M2175.79 234.444 L2182.08 234.444 L2197.41 263.356 L2197.41 234.444 L2201.95 234.444 L2201.95 269.004 L2195.65 269.004 L2180.33 240.092 L2180.33 269.004 L2175.79 269.004 L2175.79 234.444 Z\" fill=\"#000000\" fill-rule=\"evenodd\" fill-opacity=\"1\" /><path clip-path=\"url(#clip8100)\" d=\"M 0 0 M2206.6 234.444 L2212.89 234.444 L2228.22 263.356 L2228.22 234.444 L2232.76 234.444 L2232.76 269.004 L2226.46 269.004 L2211.14 240.092 L2211.14 269.004 L2206.6 269.004 L2206.6 234.444 Z\" fill=\"#000000\" fill-rule=\"evenodd\" fill-opacity=\"1\" /><polyline clip-path=\"url(#clip8100)\" style=\"stroke:#3da44d; stroke-width:4; stroke-opacity:1; fill:none\" points=\"\n",
       "  2007.79,312.204 2151.79,312.204 \n",
       "  \"/>\n",
       "<path clip-path=\"url(#clip8100)\" d=\"M 0 0 M2175.79 294.924 L2182.08 294.924 L2197.41 323.836 L2197.41 294.924 L2201.95 294.924 L2201.95 329.484 L2195.65 329.484 L2180.33 300.572 L2180.33 329.484 L2175.79 329.484 L2175.79 294.924 Z\" fill=\"#000000\" fill-rule=\"evenodd\" fill-opacity=\"1\" /><path clip-path=\"url(#clip8100)\" d=\"M 0 0 M2206.6 294.924 L2212.89 294.924 L2228.22 323.836 L2228.22 294.924 L2232.76 294.924 L2232.76 329.484 L2226.46 329.484 L2211.14 300.572 L2211.14 329.484 L2206.6 329.484 L2206.6 294.924 Z\" fill=\"#000000\" fill-rule=\"evenodd\" fill-opacity=\"1\" /></svg>\n"
      ]
     },
     "execution_count": 201,
     "metadata": {},
     "output_type": "execute_result"
    }
   ],
   "source": [
    "plot(vSpace.u, node(ctr[25].f[1:end], res.minimizer).u, label=\"NN\")"
   ]
  },
  {
   "cell_type": "code",
   "execution_count": 198,
   "metadata": {
    "scrolled": false
   },
   "outputs": [
    {
     "data": {
      "image/svg+xml": [
       "<?xml version=\"1.0\" encoding=\"utf-8\"?>\n",
       "<svg xmlns=\"http://www.w3.org/2000/svg\" xmlns:xlink=\"http://www.w3.org/1999/xlink\" width=\"600\" height=\"400\" viewBox=\"0 0 2400 1600\">\n",
       "<defs>\n",
       "  <clipPath id=\"clip7700\">\n",
       "    <rect x=\"0\" y=\"0\" width=\"2400\" height=\"1600\"/>\n",
       "  </clipPath>\n",
       "</defs>\n",
       "<path clip-path=\"url(#clip7700)\" d=\"\n",
       "M0 1600 L2400 1600 L2400 0 L0 0  Z\n",
       "  \" fill=\"#ffffff\" fill-rule=\"evenodd\" fill-opacity=\"1\"/>\n",
       "<defs>\n",
       "  <clipPath id=\"clip7701\">\n",
       "    <rect x=\"480\" y=\"0\" width=\"1681\" height=\"1600\"/>\n",
       "  </clipPath>\n",
       "</defs>\n",
       "<path clip-path=\"url(#clip7700)\" d=\"\n",
       "M148.334 1486.45 L2352.76 1486.45 L2352.76 47.2441 L148.334 47.2441  Z\n",
       "  \" fill=\"#ffffff\" fill-rule=\"evenodd\" fill-opacity=\"1\"/>\n",
       "<defs>\n",
       "  <clipPath id=\"clip7702\">\n",
       "    <rect x=\"148\" y=\"47\" width=\"2205\" height=\"1440\"/>\n",
       "  </clipPath>\n",
       "</defs>\n",
       "<polyline clip-path=\"url(#clip7702)\" style=\"stroke:#000000; stroke-width:2; stroke-opacity:0.1; fill:none\" points=\"\n",
       "  181.014,1486.45 181.014,47.2441 \n",
       "  \"/>\n",
       "<polyline clip-path=\"url(#clip7702)\" style=\"stroke:#000000; stroke-width:2; stroke-opacity:0.1; fill:none\" points=\"\n",
       "  715.78,1486.45 715.78,47.2441 \n",
       "  \"/>\n",
       "<polyline clip-path=\"url(#clip7702)\" style=\"stroke:#000000; stroke-width:2; stroke-opacity:0.1; fill:none\" points=\"\n",
       "  1250.55,1486.45 1250.55,47.2441 \n",
       "  \"/>\n",
       "<polyline clip-path=\"url(#clip7702)\" style=\"stroke:#000000; stroke-width:2; stroke-opacity:0.1; fill:none\" points=\"\n",
       "  1785.31,1486.45 1785.31,47.2441 \n",
       "  \"/>\n",
       "<polyline clip-path=\"url(#clip7702)\" style=\"stroke:#000000; stroke-width:2; stroke-opacity:0.1; fill:none\" points=\"\n",
       "  2320.08,1486.45 2320.08,47.2441 \n",
       "  \"/>\n",
       "<polyline clip-path=\"url(#clip7702)\" style=\"stroke:#000000; stroke-width:2; stroke-opacity:0.1; fill:none\" points=\"\n",
       "  148.334,1445.72 2352.76,1445.72 \n",
       "  \"/>\n",
       "<polyline clip-path=\"url(#clip7702)\" style=\"stroke:#000000; stroke-width:2; stroke-opacity:0.1; fill:none\" points=\"\n",
       "  148.334,1140.08 2352.76,1140.08 \n",
       "  \"/>\n",
       "<polyline clip-path=\"url(#clip7702)\" style=\"stroke:#000000; stroke-width:2; stroke-opacity:0.1; fill:none\" points=\"\n",
       "  148.334,834.448 2352.76,834.448 \n",
       "  \"/>\n",
       "<polyline clip-path=\"url(#clip7702)\" style=\"stroke:#000000; stroke-width:2; stroke-opacity:0.1; fill:none\" points=\"\n",
       "  148.334,528.814 2352.76,528.814 \n",
       "  \"/>\n",
       "<polyline clip-path=\"url(#clip7702)\" style=\"stroke:#000000; stroke-width:2; stroke-opacity:0.1; fill:none\" points=\"\n",
       "  148.334,223.18 2352.76,223.18 \n",
       "  \"/>\n",
       "<polyline clip-path=\"url(#clip7700)\" style=\"stroke:#000000; stroke-width:4; stroke-opacity:1; fill:none\" points=\"\n",
       "  148.334,1486.45 2352.76,1486.45 \n",
       "  \"/>\n",
       "<polyline clip-path=\"url(#clip7700)\" style=\"stroke:#000000; stroke-width:4; stroke-opacity:1; fill:none\" points=\"\n",
       "  148.334,1486.45 148.334,47.2441 \n",
       "  \"/>\n",
       "<polyline clip-path=\"url(#clip7700)\" style=\"stroke:#000000; stroke-width:4; stroke-opacity:1; fill:none\" points=\"\n",
       "  181.014,1486.45 181.014,1469.18 \n",
       "  \"/>\n",
       "<polyline clip-path=\"url(#clip7700)\" style=\"stroke:#000000; stroke-width:4; stroke-opacity:1; fill:none\" points=\"\n",
       "  715.78,1486.45 715.78,1469.18 \n",
       "  \"/>\n",
       "<polyline clip-path=\"url(#clip7700)\" style=\"stroke:#000000; stroke-width:4; stroke-opacity:1; fill:none\" points=\"\n",
       "  1250.55,1486.45 1250.55,1469.18 \n",
       "  \"/>\n",
       "<polyline clip-path=\"url(#clip7700)\" style=\"stroke:#000000; stroke-width:4; stroke-opacity:1; fill:none\" points=\"\n",
       "  1785.31,1486.45 1785.31,1469.18 \n",
       "  \"/>\n",
       "<polyline clip-path=\"url(#clip7700)\" style=\"stroke:#000000; stroke-width:4; stroke-opacity:1; fill:none\" points=\"\n",
       "  2320.08,1486.45 2320.08,1469.18 \n",
       "  \"/>\n",
       "<polyline clip-path=\"url(#clip7700)\" style=\"stroke:#000000; stroke-width:4; stroke-opacity:1; fill:none\" points=\"\n",
       "  148.334,1445.72 174.787,1445.72 \n",
       "  \"/>\n",
       "<polyline clip-path=\"url(#clip7700)\" style=\"stroke:#000000; stroke-width:4; stroke-opacity:1; fill:none\" points=\"\n",
       "  148.334,1140.08 174.787,1140.08 \n",
       "  \"/>\n",
       "<polyline clip-path=\"url(#clip7700)\" style=\"stroke:#000000; stroke-width:4; stroke-opacity:1; fill:none\" points=\"\n",
       "  148.334,834.448 174.787,834.448 \n",
       "  \"/>\n",
       "<polyline clip-path=\"url(#clip7700)\" style=\"stroke:#000000; stroke-width:4; stroke-opacity:1; fill:none\" points=\"\n",
       "  148.334,528.814 174.787,528.814 \n",
       "  \"/>\n",
       "<polyline clip-path=\"url(#clip7700)\" style=\"stroke:#000000; stroke-width:4; stroke-opacity:1; fill:none\" points=\"\n",
       "  148.334,223.18 174.787,223.18 \n",
       "  \"/>\n",
       "<path clip-path=\"url(#clip7700)\" d=\"M 0 0 M148.376 1525.04 L160.853 1525.04 L160.853 1528.83 L148.376 1528.83 L148.376 1525.04 Z\" fill=\"#000000\" fill-rule=\"evenodd\" fill-opacity=\"1\" /><path clip-path=\"url(#clip7700)\" d=\"M 0 0 M166.732 1535.98 L174.371 1535.98 L174.371 1509.62 L166.061 1511.29 L166.061 1507.03 L174.325 1505.36 L179.001 1505.36 L179.001 1535.98 L186.639 1535.98 L186.639 1539.92 L166.732 1539.92 L166.732 1535.98 Z\" fill=\"#000000\" fill-rule=\"evenodd\" fill-opacity=\"1\" /><path clip-path=\"url(#clip7700)\" d=\"M 0 0 M201.709 1508.44 Q198.098 1508.44 196.269 1512 Q194.463 1515.55 194.463 1522.67 Q194.463 1529.78 196.269 1533.35 Q198.098 1536.89 201.709 1536.89 Q205.343 1536.89 207.149 1533.35 Q208.977 1529.78 208.977 1522.67 Q208.977 1515.55 207.149 1512 Q205.343 1508.44 201.709 1508.44 M201.709 1504.73 Q207.519 1504.73 210.575 1509.34 Q213.653 1513.92 213.653 1522.67 Q213.653 1531.4 210.575 1536.01 Q207.519 1540.59 201.709 1540.59 Q195.899 1540.59 192.82 1536.01 Q189.764 1531.4 189.764 1522.67 Q189.764 1513.92 192.82 1509.34 Q195.899 1504.73 201.709 1504.73 Z\" fill=\"#000000\" fill-rule=\"evenodd\" fill-opacity=\"1\" /><path clip-path=\"url(#clip7700)\" d=\"M 0 0 M696.532 1525.04 L709.009 1525.04 L709.009 1528.83 L696.532 1528.83 L696.532 1525.04 Z\" fill=\"#000000\" fill-rule=\"evenodd\" fill-opacity=\"1\" /><path clip-path=\"url(#clip7700)\" d=\"M 0 0 M714.125 1505.36 L732.481 1505.36 L732.481 1509.3 L718.407 1509.3 L718.407 1517.77 Q719.426 1517.42 720.444 1517.26 Q721.463 1517.07 722.481 1517.07 Q728.268 1517.07 731.648 1520.24 Q735.027 1523.42 735.027 1528.83 Q735.027 1534.41 731.555 1537.51 Q728.083 1540.59 721.764 1540.59 Q719.588 1540.59 717.319 1540.22 Q715.074 1539.85 712.666 1539.11 L712.666 1534.41 Q714.75 1535.54 716.972 1536.1 Q719.194 1536.66 721.671 1536.66 Q725.676 1536.66 728.014 1534.55 Q730.352 1532.44 730.352 1528.83 Q730.352 1525.22 728.014 1523.11 Q725.676 1521.01 721.671 1521.01 Q719.796 1521.01 717.921 1521.42 Q716.069 1521.84 714.125 1522.72 L714.125 1505.36 Z\" fill=\"#000000\" fill-rule=\"evenodd\" fill-opacity=\"1\" /><path clip-path=\"url(#clip7700)\" d=\"M 0 0 M1250.55 1508.44 Q1246.93 1508.44 1245.11 1512 Q1243.3 1515.55 1243.3 1522.67 Q1243.3 1529.78 1245.11 1533.35 Q1246.93 1536.89 1250.55 1536.89 Q1254.18 1536.89 1255.98 1533.35 Q1257.81 1529.78 1257.81 1522.67 Q1257.81 1515.55 1255.98 1512 Q1254.18 1508.44 1250.55 1508.44 M1250.55 1504.73 Q1256.36 1504.73 1259.41 1509.34 Q1262.49 1513.92 1262.49 1522.67 Q1262.49 1531.4 1259.41 1536.01 Q1256.36 1540.59 1250.55 1540.59 Q1244.73 1540.59 1241.66 1536.01 Q1238.6 1531.4 1238.6 1522.67 Q1238.6 1513.92 1241.66 1509.34 Q1244.73 1504.73 1250.55 1504.73 Z\" fill=\"#000000\" fill-rule=\"evenodd\" fill-opacity=\"1\" /><path clip-path=\"url(#clip7700)\" d=\"M 0 0 M1775.59 1505.36 L1793.94 1505.36 L1793.94 1509.3 L1779.87 1509.3 L1779.87 1517.77 Q1780.89 1517.42 1781.91 1517.26 Q1782.93 1517.07 1783.94 1517.07 Q1789.73 1517.07 1793.11 1520.24 Q1796.49 1523.42 1796.49 1528.83 Q1796.49 1534.41 1793.02 1537.51 Q1789.55 1540.59 1783.23 1540.59 Q1781.05 1540.59 1778.78 1540.22 Q1776.54 1539.85 1774.13 1539.11 L1774.13 1534.41 Q1776.21 1535.54 1778.44 1536.1 Q1780.66 1536.66 1783.13 1536.66 Q1787.14 1536.66 1789.48 1534.55 Q1791.82 1532.44 1791.82 1528.83 Q1791.82 1525.22 1789.48 1523.11 Q1787.14 1521.01 1783.13 1521.01 Q1781.26 1521.01 1779.38 1521.42 Q1777.53 1521.84 1775.59 1522.72 L1775.59 1505.36 Z\" fill=\"#000000\" fill-rule=\"evenodd\" fill-opacity=\"1\" /><path clip-path=\"url(#clip7700)\" d=\"M 0 0 M2296.95 1535.98 L2304.59 1535.98 L2304.59 1509.62 L2296.28 1511.29 L2296.28 1507.03 L2304.54 1505.36 L2309.22 1505.36 L2309.22 1535.98 L2316.86 1535.98 L2316.86 1539.92 L2296.95 1539.92 L2296.95 1535.98 Z\" fill=\"#000000\" fill-rule=\"evenodd\" fill-opacity=\"1\" /><path clip-path=\"url(#clip7700)\" d=\"M 0 0 M2331.93 1508.44 Q2328.32 1508.44 2326.49 1512 Q2324.68 1515.55 2324.68 1522.67 Q2324.68 1529.78 2326.49 1533.35 Q2328.32 1536.89 2331.93 1536.89 Q2335.56 1536.89 2337.37 1533.35 Q2339.2 1529.78 2339.2 1522.67 Q2339.2 1515.55 2337.37 1512 Q2335.56 1508.44 2331.93 1508.44 M2331.93 1504.73 Q2337.74 1504.73 2340.79 1509.34 Q2343.87 1513.92 2343.87 1522.67 Q2343.87 1531.4 2340.79 1536.01 Q2337.74 1540.59 2331.93 1540.59 Q2326.12 1540.59 2323.04 1536.01 Q2319.98 1531.4 2319.98 1522.67 Q2319.98 1513.92 2323.04 1509.34 Q2326.12 1504.73 2331.93 1504.73 Z\" fill=\"#000000\" fill-rule=\"evenodd\" fill-opacity=\"1\" /><path clip-path=\"url(#clip7700)\" d=\"M 0 0 M75.4226 1431.51 Q71.8115 1431.51 69.9828 1435.08 Q68.1773 1438.62 68.1773 1445.75 Q68.1773 1452.86 69.9828 1456.42 Q71.8115 1459.96 75.4226 1459.96 Q79.0569 1459.96 80.8624 1456.42 Q82.6911 1452.86 82.6911 1445.75 Q82.6911 1438.62 80.8624 1435.08 Q79.0569 1431.51 75.4226 1431.51 M75.4226 1427.81 Q81.2328 1427.81 84.2883 1432.42 Q87.367 1437 87.367 1445.75 Q87.367 1454.48 84.2883 1459.08 Q81.2328 1463.67 75.4226 1463.67 Q69.6125 1463.67 66.5338 1459.08 Q63.4782 1454.48 63.4782 1445.75 Q63.4782 1437 66.5338 1432.42 Q69.6125 1427.81 75.4226 1427.81 Z\" fill=\"#000000\" fill-rule=\"evenodd\" fill-opacity=\"1\" /><path clip-path=\"url(#clip7700)\" d=\"M 0 0 M92.4364 1457.12 L97.3206 1457.12 L97.3206 1463 L92.4364 1463 L92.4364 1457.12 Z\" fill=\"#000000\" fill-rule=\"evenodd\" fill-opacity=\"1\" /><path clip-path=\"url(#clip7700)\" d=\"M 0 0 M112.39 1431.51 Q108.779 1431.51 106.95 1435.08 Q105.145 1438.62 105.145 1445.75 Q105.145 1452.86 106.95 1456.42 Q108.779 1459.96 112.39 1459.96 Q116.024 1459.96 117.83 1456.42 Q119.658 1452.86 119.658 1445.75 Q119.658 1438.62 117.83 1435.08 Q116.024 1431.51 112.39 1431.51 M112.39 1427.81 Q118.2 1427.81 121.256 1432.42 Q124.334 1437 124.334 1445.75 Q124.334 1454.48 121.256 1459.08 Q118.2 1463.67 112.39 1463.67 Q106.58 1463.67 103.501 1459.08 Q100.446 1454.48 100.446 1445.75 Q100.446 1437 103.501 1432.42 Q106.58 1427.81 112.39 1427.81 Z\" fill=\"#000000\" fill-rule=\"evenodd\" fill-opacity=\"1\" /><path clip-path=\"url(#clip7700)\" d=\"M 0 0 M76.6495 1125.88 Q73.0384 1125.88 71.2097 1129.45 Q69.4041 1132.99 69.4041 1140.12 Q69.4041 1147.22 71.2097 1150.79 Q73.0384 1154.33 76.6495 1154.33 Q80.2837 1154.33 82.0892 1150.79 Q83.9179 1147.22 83.9179 1140.12 Q83.9179 1132.99 82.0892 1129.45 Q80.2837 1125.88 76.6495 1125.88 M76.6495 1122.18 Q82.4596 1122.18 85.5152 1126.78 Q88.5938 1131.37 88.5938 1140.12 Q88.5938 1148.84 85.5152 1153.45 Q82.4596 1158.03 76.6495 1158.03 Q70.8393 1158.03 67.7606 1153.45 Q64.7051 1148.84 64.7051 1140.12 Q64.7051 1131.37 67.7606 1126.78 Q70.8393 1122.18 76.6495 1122.18 Z\" fill=\"#000000\" fill-rule=\"evenodd\" fill-opacity=\"1\" /><path clip-path=\"url(#clip7700)\" d=\"M 0 0 M93.6633 1151.48 L98.5475 1151.48 L98.5475 1157.36 L93.6633 1157.36 L93.6633 1151.48 Z\" fill=\"#000000\" fill-rule=\"evenodd\" fill-opacity=\"1\" /><path clip-path=\"url(#clip7700)\" d=\"M 0 0 M104.427 1153.43 L112.066 1153.43 L112.066 1127.06 L103.756 1128.73 L103.756 1124.47 L112.02 1122.8 L116.696 1122.8 L116.696 1153.43 L124.334 1153.43 L124.334 1157.36 L104.427 1157.36 L104.427 1153.43 Z\" fill=\"#000000\" fill-rule=\"evenodd\" fill-opacity=\"1\" /><path clip-path=\"url(#clip7700)\" d=\"M 0 0 M77.0198 820.246 Q73.4087 820.246 71.58 823.811 Q69.7745 827.353 69.7745 834.482 Q69.7745 841.589 71.58 845.154 Q73.4087 848.695 77.0198 848.695 Q80.6541 848.695 82.4596 845.154 Q84.2883 841.589 84.2883 834.482 Q84.2883 827.353 82.4596 823.811 Q80.6541 820.246 77.0198 820.246 M77.0198 816.543 Q82.83 816.543 85.8855 821.149 Q88.9642 825.732 88.9642 834.482 Q88.9642 843.209 85.8855 847.816 Q82.83 852.399 77.0198 852.399 Q71.2097 852.399 68.131 847.816 Q65.0754 843.209 65.0754 834.482 Q65.0754 825.732 68.131 821.149 Q71.2097 816.543 77.0198 816.543 Z\" fill=\"#000000\" fill-rule=\"evenodd\" fill-opacity=\"1\" /><path clip-path=\"url(#clip7700)\" d=\"M 0 0 M94.0336 845.848 L98.9179 845.848 L98.9179 851.728 L94.0336 851.728 L94.0336 845.848 Z\" fill=\"#000000\" fill-rule=\"evenodd\" fill-opacity=\"1\" /><path clip-path=\"url(#clip7700)\" d=\"M 0 0 M108.015 847.793 L124.334 847.793 L124.334 851.728 L102.39 851.728 L102.39 847.793 Q105.052 845.038 109.635 840.408 Q114.242 835.756 115.422 834.413 Q117.668 831.89 118.547 830.154 Q119.45 828.394 119.45 826.705 Q119.45 823.95 117.506 822.214 Q115.584 820.478 112.483 820.478 Q110.284 820.478 107.83 821.242 Q105.399 822.006 102.622 823.557 L102.622 818.834 Q105.446 817.7 107.899 817.121 Q110.353 816.543 112.39 816.543 Q117.76 816.543 120.955 819.228 Q124.149 821.913 124.149 826.404 Q124.149 828.533 123.339 830.455 Q122.552 832.353 120.446 834.945 Q119.867 835.617 116.765 838.834 Q113.663 842.029 108.015 847.793 Z\" fill=\"#000000\" fill-rule=\"evenodd\" fill-opacity=\"1\" /><path clip-path=\"url(#clip7700)\" d=\"M 0 0 M76.0708 514.612 Q72.4597 514.612 70.631 518.177 Q68.8254 521.719 68.8254 528.848 Q68.8254 535.955 70.631 539.52 Q72.4597 543.061 76.0708 543.061 Q79.705 543.061 81.5105 539.52 Q83.3392 535.955 83.3392 528.848 Q83.3392 521.719 81.5105 518.177 Q79.705 514.612 76.0708 514.612 M76.0708 510.909 Q81.8809 510.909 84.9365 515.515 Q88.0151 520.098 88.0151 528.848 Q88.0151 537.575 84.9365 542.182 Q81.8809 546.765 76.0708 546.765 Q70.2606 546.765 67.1819 542.182 Q64.1264 537.575 64.1264 528.848 Q64.1264 520.098 67.1819 515.515 Q70.2606 510.909 76.0708 510.909 Z\" fill=\"#000000\" fill-rule=\"evenodd\" fill-opacity=\"1\" /><path clip-path=\"url(#clip7700)\" d=\"M 0 0 M93.0846 540.214 L97.9688 540.214 L97.9688 546.094 L93.0846 546.094 L93.0846 540.214 Z\" fill=\"#000000\" fill-rule=\"evenodd\" fill-opacity=\"1\" /><path clip-path=\"url(#clip7700)\" d=\"M 0 0 M117.205 527.46 Q120.561 528.177 122.436 530.446 Q124.334 532.714 124.334 536.047 Q124.334 541.163 120.816 543.964 Q117.297 546.765 110.816 546.765 Q108.64 546.765 106.325 546.325 Q104.034 545.908 101.58 545.052 L101.58 540.538 Q103.524 541.672 105.839 542.251 Q108.154 542.83 110.677 542.83 Q115.075 542.83 117.367 541.094 Q119.682 539.358 119.682 536.047 Q119.682 532.992 117.529 531.279 Q115.399 529.543 111.58 529.543 L107.552 529.543 L107.552 525.7 L111.765 525.7 Q115.214 525.7 117.043 524.335 Q118.871 522.946 118.871 520.353 Q118.871 517.691 116.973 516.279 Q115.098 514.844 111.58 514.844 Q109.659 514.844 107.459 515.261 Q105.26 515.677 102.622 516.557 L102.622 512.39 Q105.284 511.649 107.598 511.279 Q109.936 510.909 111.996 510.909 Q117.321 510.909 120.422 513.339 Q123.524 515.747 123.524 519.867 Q123.524 522.737 121.881 524.728 Q120.237 526.696 117.205 527.46 Z\" fill=\"#000000\" fill-rule=\"evenodd\" fill-opacity=\"1\" /><path clip-path=\"url(#clip7700)\" d=\"M 0 0 M74.9365 208.978 Q71.3254 208.978 69.4967 212.543 Q67.6912 216.085 67.6912 223.214 Q67.6912 230.321 69.4967 233.886 Q71.3254 237.427 74.9365 237.427 Q78.5707 237.427 80.3763 233.886 Q82.205 230.321 82.205 223.214 Q82.205 216.085 80.3763 212.543 Q78.5707 208.978 74.9365 208.978 M74.9365 205.275 Q80.7467 205.275 83.8022 209.881 Q86.8809 214.464 86.8809 223.214 Q86.8809 231.941 83.8022 236.548 Q80.7467 241.131 74.9365 241.131 Q69.1264 241.131 66.0477 236.548 Q62.9921 231.941 62.9921 223.214 Q62.9921 214.464 66.0477 209.881 Q69.1264 205.275 74.9365 205.275 Z\" fill=\"#000000\" fill-rule=\"evenodd\" fill-opacity=\"1\" /><path clip-path=\"url(#clip7700)\" d=\"M 0 0 M91.9503 234.58 L96.8345 234.58 L96.8345 240.46 L91.9503 240.46 L91.9503 234.58 Z\" fill=\"#000000\" fill-rule=\"evenodd\" fill-opacity=\"1\" /><path clip-path=\"url(#clip7700)\" d=\"M 0 0 M114.751 209.974 L102.946 228.423 L114.751 228.423 L114.751 209.974 M113.524 205.9 L119.404 205.9 L119.404 228.423 L124.334 228.423 L124.334 232.312 L119.404 232.312 L119.404 240.46 L114.751 240.46 L114.751 232.312 L99.1493 232.312 L99.1493 227.798 L113.524 205.9 Z\" fill=\"#000000\" fill-rule=\"evenodd\" fill-opacity=\"1\" /><polyline clip-path=\"url(#clip7702)\" style=\"stroke:#009af9; stroke-width:4; stroke-opacity:1; fill:none\" points=\"\n",
       "  210.724,1445.72 270.142,1445.72 329.56,1445.72 388.979,1445.72 448.397,1445.72 507.816,1445.72 567.234,1445.72 626.652,1445.72 686.071,1445.72 745.489,1445.71 \n",
       "  804.907,1445.68 864.326,1445.53 923.744,1444.8 983.162,1441.93 1042.58,1432.24 1102,1404.55 1161.42,1337.24 1220.84,1199.3 1280.25,969.659 1339.67,662.955 \n",
       "  1399.09,333.152 1458.51,88.2499 1517.93,110.872 1577.35,488.229 1636.76,974.199 1696.18,1283.67 1755.6,1403.68 1815.02,1436.78 1874.44,1444.12 1933.86,1445.48 \n",
       "  1993.27,1445.69 2052.69,1445.71 2112.11,1445.72 2171.53,1445.72 2230.95,1445.72 2290.37,1445.72 \n",
       "  \"/>\n",
       "<polyline clip-path=\"url(#clip7702)\" style=\"stroke:#e26f46; stroke-width:4; stroke-opacity:1; fill:none\" points=\"\n",
       "  210.724,1445.72 270.142,1445.72 329.56,1445.72 388.979,1445.72 448.397,1445.72 507.816,1445.72 567.234,1445.72 626.652,1445.72 686.071,1445.72 745.489,1445.71 \n",
       "  804.907,1445.69 864.326,1445.55 923.744,1444.88 983.162,1442.2 1042.58,1433.03 1102,1406.25 1161.42,1339.73 1220.84,1200.92 1280.25,966.769 1339.67,653.026 \n",
       "  1399.09,321.718 1458.51,88.106 1517.93,124.599 1577.35,500.149 1636.76,974.793 1696.18,1279.34 1755.6,1400.67 1815.02,1435.66 1874.44,1443.83 1933.86,1445.42 \n",
       "  1993.27,1445.68 2052.69,1445.71 2112.11,1445.72 2171.53,1445.72 2230.95,1445.72 2290.37,1445.72 \n",
       "  \"/>\n",
       "<polyline clip-path=\"url(#clip7702)\" style=\"stroke:#3da44d; stroke-width:4; stroke-opacity:1; fill:none\" points=\"\n",
       "  210.724,1445.72 270.142,1445.72 329.56,1445.72 388.979,1445.72 448.397,1445.72 507.816,1445.72 567.234,1445.72 626.652,1445.72 686.071,1445.72 745.489,1445.71 \n",
       "  804.907,1445.69 864.326,1445.56 923.744,1444.95 983.162,1442.45 1042.58,1433.74 1102,1407.78 1161.42,1341.97 1220.84,1202.39 1280.25,964.164 1339.67,644.075 \n",
       "  1399.09,311.411 1458.51,87.9763 1517.93,136.975 1577.35,510.895 1636.76,975.329 1696.18,1275.43 1755.6,1397.96 1815.02,1434.65 1874.44,1443.57 1933.86,1445.37 \n",
       "  1993.27,1445.67 2052.69,1445.71 2112.11,1445.72 2171.53,1445.72 2230.95,1445.72 2290.37,1445.72 \n",
       "  \"/>\n",
       "<path clip-path=\"url(#clip7700)\" d=\"\n",
       "M1926.66 372.684 L2280.76 372.684 L2280.76 130.764 L1926.66 130.764  Z\n",
       "  \" fill=\"#ffffff\" fill-rule=\"evenodd\" fill-opacity=\"1\"/>\n",
       "<polyline clip-path=\"url(#clip7700)\" style=\"stroke:#000000; stroke-width:4; stroke-opacity:1; fill:none\" points=\"\n",
       "  1926.66,372.684 2280.76,372.684 2280.76,130.764 1926.66,130.764 1926.66,372.684 \n",
       "  \"/>\n",
       "<polyline clip-path=\"url(#clip7700)\" style=\"stroke:#009af9; stroke-width:4; stroke-opacity:1; fill:none\" points=\"\n",
       "  1950.66,191.244 2094.66,191.244 \n",
       "  \"/>\n",
       "<path clip-path=\"url(#clip7700)\" d=\"M 0 0 M2118.66 173.964 L2140.51 173.964 L2140.51 177.899 L2123.34 177.899 L2123.34 188.131 L2139.79 188.131 L2139.79 192.066 L2123.34 192.066 L2123.34 204.589 L2140.93 204.589 L2140.93 208.524 L2118.66 208.524 L2118.66 173.964 Z\" fill=\"#000000\" fill-rule=\"evenodd\" fill-opacity=\"1\" /><path clip-path=\"url(#clip7700)\" d=\"M 0 0 M2166.95 182.598 L2157.57 195.214 L2167.43 208.524 L2162.41 208.524 L2154.86 198.339 L2147.32 208.524 L2142.29 208.524 L2152.36 194.959 L2143.15 182.598 L2148.17 182.598 L2155.05 191.834 L2161.92 182.598 L2166.95 182.598 Z\" fill=\"#000000\" fill-rule=\"evenodd\" fill-opacity=\"1\" /><path clip-path=\"url(#clip7700)\" d=\"M 0 0 M2183.68 195.492 Q2178.52 195.492 2176.53 196.672 Q2174.54 197.853 2174.54 200.7 Q2174.54 202.969 2176.02 204.311 Q2177.52 205.631 2180.09 205.631 Q2183.64 205.631 2185.77 203.131 Q2187.92 200.607 2187.92 196.441 L2187.92 195.492 L2183.68 195.492 M2192.18 193.733 L2192.18 208.524 L2187.92 208.524 L2187.92 204.589 Q2186.46 206.95 2184.28 208.084 Q2182.11 209.195 2178.96 209.195 Q2174.98 209.195 2172.62 206.973 Q2170.28 204.728 2170.28 200.978 Q2170.28 196.603 2173.2 194.381 Q2176.14 192.158 2181.95 192.158 L2187.92 192.158 L2187.92 191.742 Q2187.92 188.802 2185.97 187.205 Q2184.05 185.584 2180.56 185.584 Q2178.33 185.584 2176.23 186.117 Q2174.12 186.649 2172.18 187.714 L2172.18 183.779 Q2174.52 182.876 2176.71 182.436 Q2178.91 181.973 2181 181.973 Q2186.62 181.973 2189.4 184.89 Q2192.18 187.807 2192.18 193.733 Z\" fill=\"#000000\" fill-rule=\"evenodd\" fill-opacity=\"1\" /><path clip-path=\"url(#clip7700)\" d=\"M 0 0 M2215.3 183.594 L2215.3 187.575 Q2213.5 186.58 2211.67 186.094 Q2209.86 185.584 2208.01 185.584 Q2203.87 185.584 2201.58 188.223 Q2199.28 190.839 2199.28 195.584 Q2199.28 200.33 2201.58 202.969 Q2203.87 205.584 2208.01 205.584 Q2209.86 205.584 2211.67 205.098 Q2213.5 204.589 2215.3 203.594 L2215.3 207.529 Q2213.52 208.362 2211.6 208.779 Q2209.7 209.195 2207.55 209.195 Q2201.69 209.195 2198.24 205.515 Q2194.79 201.834 2194.79 195.584 Q2194.79 189.242 2198.27 185.608 Q2201.76 181.973 2207.83 181.973 Q2209.79 181.973 2211.67 182.39 Q2213.54 182.783 2215.3 183.594 Z\" fill=\"#000000\" fill-rule=\"evenodd\" fill-opacity=\"1\" /><path clip-path=\"url(#clip7700)\" d=\"M 0 0 M2223.98 175.237 L2223.98 182.598 L2232.76 182.598 L2232.76 185.908 L2223.98 185.908 L2223.98 199.982 Q2223.98 203.154 2224.84 204.057 Q2225.72 204.959 2228.38 204.959 L2232.76 204.959 L2232.76 208.524 L2228.38 208.524 Q2223.45 208.524 2221.58 206.695 Q2219.7 204.844 2219.7 199.982 L2219.7 185.908 L2216.58 185.908 L2216.58 182.598 L2219.7 182.598 L2219.7 175.237 L2223.98 175.237 Z\" fill=\"#000000\" fill-rule=\"evenodd\" fill-opacity=\"1\" /><polyline clip-path=\"url(#clip7700)\" style=\"stroke:#e26f46; stroke-width:4; stroke-opacity:1; fill:none\" points=\"\n",
       "  1950.66,251.724 2094.66,251.724 \n",
       "  \"/>\n",
       "<path clip-path=\"url(#clip7700)\" d=\"M 0 0 M2118.66 234.444 L2140.51 234.444 L2140.51 238.379 L2123.34 238.379 L2123.34 248.611 L2139.79 248.611 L2139.79 252.546 L2123.34 252.546 L2123.34 265.069 L2140.93 265.069 L2140.93 269.004 L2118.66 269.004 L2118.66 234.444 Z\" fill=\"#000000\" fill-rule=\"evenodd\" fill-opacity=\"1\" /><path clip-path=\"url(#clip7700)\" d=\"M 0 0 M2166.95 243.078 L2157.57 255.694 L2167.43 269.004 L2162.41 269.004 L2154.86 258.819 L2147.32 269.004 L2142.29 269.004 L2152.36 255.439 L2143.15 243.078 L2148.17 243.078 L2155.05 252.314 L2161.92 243.078 L2166.95 243.078 Z\" fill=\"#000000\" fill-rule=\"evenodd\" fill-opacity=\"1\" /><path clip-path=\"url(#clip7700)\" d=\"M 0 0 M2183.68 255.972 Q2178.52 255.972 2176.53 257.152 Q2174.54 258.333 2174.54 261.18 Q2174.54 263.449 2176.02 264.791 Q2177.52 266.111 2180.09 266.111 Q2183.64 266.111 2185.77 263.611 Q2187.92 261.087 2187.92 256.921 L2187.92 255.972 L2183.68 255.972 M2192.18 254.213 L2192.18 269.004 L2187.92 269.004 L2187.92 265.069 Q2186.46 267.43 2184.28 268.564 Q2182.11 269.675 2178.96 269.675 Q2174.98 269.675 2172.62 267.453 Q2170.28 265.208 2170.28 261.458 Q2170.28 257.083 2173.2 254.861 Q2176.14 252.638 2181.95 252.638 L2187.92 252.638 L2187.92 252.222 Q2187.92 249.282 2185.97 247.685 Q2184.05 246.064 2180.56 246.064 Q2178.33 246.064 2176.23 246.597 Q2174.12 247.129 2172.18 248.194 L2172.18 244.259 Q2174.52 243.356 2176.71 242.916 Q2178.91 242.453 2181 242.453 Q2186.62 242.453 2189.4 245.37 Q2192.18 248.287 2192.18 254.213 Z\" fill=\"#000000\" fill-rule=\"evenodd\" fill-opacity=\"1\" /><path clip-path=\"url(#clip7700)\" d=\"M 0 0 M2215.3 244.074 L2215.3 248.055 Q2213.5 247.06 2211.67 246.574 Q2209.86 246.064 2208.01 246.064 Q2203.87 246.064 2201.58 248.703 Q2199.28 251.319 2199.28 256.064 Q2199.28 260.81 2201.58 263.449 Q2203.87 266.064 2208.01 266.064 Q2209.86 266.064 2211.67 265.578 Q2213.5 265.069 2215.3 264.074 L2215.3 268.009 Q2213.52 268.842 2211.6 269.259 Q2209.7 269.675 2207.55 269.675 Q2201.69 269.675 2198.24 265.995 Q2194.79 262.314 2194.79 256.064 Q2194.79 249.722 2198.27 246.088 Q2201.76 242.453 2207.83 242.453 Q2209.79 242.453 2211.67 242.87 Q2213.54 243.263 2215.3 244.074 Z\" fill=\"#000000\" fill-rule=\"evenodd\" fill-opacity=\"1\" /><path clip-path=\"url(#clip7700)\" d=\"M 0 0 M2223.98 235.717 L2223.98 243.078 L2232.76 243.078 L2232.76 246.388 L2223.98 246.388 L2223.98 260.462 Q2223.98 263.634 2224.84 264.537 Q2225.72 265.439 2228.38 265.439 L2232.76 265.439 L2232.76 269.004 L2228.38 269.004 Q2223.45 269.004 2221.58 267.175 Q2219.7 265.324 2219.7 260.462 L2219.7 246.388 L2216.58 246.388 L2216.58 243.078 L2219.7 243.078 L2219.7 235.717 L2223.98 235.717 Z\" fill=\"#000000\" fill-rule=\"evenodd\" fill-opacity=\"1\" /><polyline clip-path=\"url(#clip7700)\" style=\"stroke:#3da44d; stroke-width:4; stroke-opacity:1; fill:none\" points=\"\n",
       "  1950.66,312.204 2094.66,312.204 \n",
       "  \"/>\n",
       "<path clip-path=\"url(#clip7700)\" d=\"M 0 0 M2118.66 294.924 L2140.51 294.924 L2140.51 298.859 L2123.34 298.859 L2123.34 309.091 L2139.79 309.091 L2139.79 313.026 L2123.34 313.026 L2123.34 325.549 L2140.93 325.549 L2140.93 329.484 L2118.66 329.484 L2118.66 294.924 Z\" fill=\"#000000\" fill-rule=\"evenodd\" fill-opacity=\"1\" /><path clip-path=\"url(#clip7700)\" d=\"M 0 0 M2166.95 303.558 L2157.57 316.174 L2167.43 329.484 L2162.41 329.484 L2154.86 319.299 L2147.32 329.484 L2142.29 329.484 L2152.36 315.919 L2143.15 303.558 L2148.17 303.558 L2155.05 312.794 L2161.92 303.558 L2166.95 303.558 Z\" fill=\"#000000\" fill-rule=\"evenodd\" fill-opacity=\"1\" /><path clip-path=\"url(#clip7700)\" d=\"M 0 0 M2183.68 316.452 Q2178.52 316.452 2176.53 317.632 Q2174.54 318.813 2174.54 321.66 Q2174.54 323.929 2176.02 325.271 Q2177.52 326.591 2180.09 326.591 Q2183.64 326.591 2185.77 324.091 Q2187.92 321.567 2187.92 317.401 L2187.92 316.452 L2183.68 316.452 M2192.18 314.693 L2192.18 329.484 L2187.92 329.484 L2187.92 325.549 Q2186.46 327.91 2184.28 329.044 Q2182.11 330.155 2178.96 330.155 Q2174.98 330.155 2172.62 327.933 Q2170.28 325.688 2170.28 321.938 Q2170.28 317.563 2173.2 315.341 Q2176.14 313.118 2181.95 313.118 L2187.92 313.118 L2187.92 312.702 Q2187.92 309.762 2185.97 308.165 Q2184.05 306.544 2180.56 306.544 Q2178.33 306.544 2176.23 307.077 Q2174.12 307.609 2172.18 308.674 L2172.18 304.739 Q2174.52 303.836 2176.71 303.396 Q2178.91 302.933 2181 302.933 Q2186.62 302.933 2189.4 305.85 Q2192.18 308.767 2192.18 314.693 Z\" fill=\"#000000\" fill-rule=\"evenodd\" fill-opacity=\"1\" /><path clip-path=\"url(#clip7700)\" d=\"M 0 0 M2215.3 304.554 L2215.3 308.535 Q2213.5 307.54 2211.67 307.054 Q2209.86 306.544 2208.01 306.544 Q2203.87 306.544 2201.58 309.183 Q2199.28 311.799 2199.28 316.544 Q2199.28 321.29 2201.58 323.929 Q2203.87 326.544 2208.01 326.544 Q2209.86 326.544 2211.67 326.058 Q2213.5 325.549 2215.3 324.554 L2215.3 328.489 Q2213.52 329.322 2211.6 329.739 Q2209.7 330.155 2207.55 330.155 Q2201.69 330.155 2198.24 326.475 Q2194.79 322.794 2194.79 316.544 Q2194.79 310.202 2198.27 306.568 Q2201.76 302.933 2207.83 302.933 Q2209.79 302.933 2211.67 303.35 Q2213.54 303.743 2215.3 304.554 Z\" fill=\"#000000\" fill-rule=\"evenodd\" fill-opacity=\"1\" /><path clip-path=\"url(#clip7700)\" d=\"M 0 0 M2223.98 296.197 L2223.98 303.558 L2232.76 303.558 L2232.76 306.868 L2223.98 306.868 L2223.98 320.942 Q2223.98 324.114 2224.84 325.017 Q2225.72 325.919 2228.38 325.919 L2232.76 325.919 L2232.76 329.484 L2228.38 329.484 Q2223.45 329.484 2221.58 327.655 Q2219.7 325.804 2219.7 320.942 L2219.7 306.868 L2216.58 306.868 L2216.58 303.558 L2219.7 303.558 L2219.7 296.197 L2223.98 296.197 Z\" fill=\"#000000\" fill-rule=\"evenodd\" fill-opacity=\"1\" /></svg>\n"
      ]
     },
     "execution_count": 198,
     "metadata": {},
     "output_type": "execute_result"
    }
   ],
   "source": [
    "plot(vSpace.u, Y[:,25,:], label=\"Exact\")"
   ]
  },
  {
   "cell_type": "code",
   "execution_count": 199,
   "metadata": {},
   "outputs": [
    {
     "data": {
      "text/plain": [
       "36×50 Array{Float32,2}:\n",
       " 0.0          1.7299e-18   1.89053e-18  …  4.88097e-17  4.88119e-17\n",
       " 0.0          5.21038e-17  5.72352e-17     1.69515e-15  1.69522e-15\n",
       " 0.0          1.29123e-15  1.4266e-15      4.91952e-14  4.91972e-14\n",
       " 0.0          2.62526e-14  2.91947e-14     1.19303e-12  1.19307e-12\n",
       " 5.74532e-44  4.363e-13    4.88817e-13     2.41763e-11  2.41771e-11\n",
       " 2.671e-39    5.899e-12    6.66586e-12  …  4.09393e-10  4.09406e-10\n",
       " 6.69376e-35  6.44811e-11  7.35925e-11     5.79301e-9   5.79318e-9 \n",
       " 9.04864e-31  5.65036e-10  6.52481e-10     6.84983e-8   6.85002e-8 \n",
       " 6.59802e-27  3.92314e-9   4.5942e-9       6.76811e-7   6.76829e-7 \n",
       " 2.59514e-23  2.12259e-8   2.52838e-8      5.58815e-6   5.58828e-6 \n",
       " 5.50585e-20  8.73134e-8   1.06231e-7   …  3.8555e-5    3.85558e-5 \n",
       " 6.30094e-17  2.62868e-7   3.28585e-7      0.000222282  0.000222286\n",
       " 3.88959e-14  5.44241e-7   7.05038e-7      0.00107088   0.0010709  \n",
       " ⋮                                      ⋱                          \n",
       " 0.146354     0.146356     0.146358        0.138272     0.138271   \n",
       " 0.029568     0.0295694    0.0295713    …  0.0645251    0.0645246  \n",
       " 0.00322224   0.00322251   0.00322291      0.0251612    0.0251612  \n",
       " 0.000189413  0.000189438  0.000189473     0.00819847   0.00819882 \n",
       " 6.00594e-6   6.007e-6     6.00856e-6      0.00223215   0.00223245 \n",
       " 1.02723e-7   1.02746e-7   1.02781e-7      0.000507792  0.000507956\n",
       " 9.477e-10    9.47967e-10  9.48367e-10  …  9.65162e-5   9.65787e-5 \n",
       " 4.71619e-12  4.71778e-12  4.72018e-12     1.53265e-5   1.53444e-5 \n",
       " 1.26599e-14  1.26649e-14  1.26724e-14     2.03326e-6   2.03718e-6 \n",
       " 1.83309e-17  1.83392e-17  1.83518e-17     2.25333e-7   2.26007e-7 \n",
       " 1.43171e-20  1.43244e-20  1.43357e-20     2.08604e-8   2.0952e-8  \n",
       " 6.03176e-24  6.03521e-24  6.04052e-24  …  1.61312e-9   1.62309e-9 "
      ]
     },
     "execution_count": 199,
     "metadata": {},
     "output_type": "execute_result"
    }
   ],
   "source": [
    "X"
   ]
  },
  {
   "cell_type": "code",
   "execution_count": null,
   "metadata": {},
   "outputs": [],
   "source": []
  }
 ],
 "metadata": {
  "kernelspec": {
   "display_name": "Julia 1.3.1",
   "language": "julia",
   "name": "julia-1.3"
  },
  "language_info": {
   "file_extension": ".jl",
   "mimetype": "application/julia",
   "name": "julia",
   "version": "1.3.1"
  }
 },
 "nbformat": 4,
 "nbformat_minor": 4
}
