{
 "cells": [
  {
   "cell_type": "code",
   "execution_count": 5,
   "metadata": {},
   "outputs": [],
   "source": [
    "using Revise, OrdinaryDiffEq, Kinetic, BenchmarkTools\n",
    "using KitBase.JLD2, KitBase.ProgressMeter, KitBase.OffsetArrays\n",
    "using KitML.Flux, KitML.DiffEqFlux, KitML.Optim"
   ]
  },
  {
   "cell_type": "code",
   "execution_count": 157,
   "metadata": {},
   "outputs": [
    {
     "data": {
      "text/plain": [
       "12"
      ]
     },
     "execution_count": 157,
     "metadata": {},
     "output_type": "execute_result"
    }
   ],
   "source": [
    "matter = \"gas\"\n",
    "case = \"shock\"\n",
    "space = \"1d2f1v\"\n",
    "nSpecies = 1\n",
    "interpOrder = 1\n",
    "flux = \"kfvs\"\n",
    "collision = \"bgk\"\n",
    "limiter = \"vanleer\"\n",
    "boundary = \"fix\"\n",
    "cfl = 0.7\n",
    "maxTime = 250.0\n",
    "x0 = -25.0\n",
    "x1 = 25.0\n",
    "nx = 80\n",
    "pMeshType = \"uniform\"\n",
    "nxg = 1\n",
    "umin = -10.0\n",
    "umax = 10.0\n",
    "nu = 72\n",
    "nug = 0\n",
    "vmin = -10.0\n",
    "vmax = 10.0\n",
    "nv = 36\n",
    "nvg = 0\n",
    "wmin = -10.0\n",
    "wmax = 10.0\n",
    "nw = 36\n",
    "nwg = 0\n",
    "vMeshType = \"rectangle\"\n",
    "knudsen = 1.0\n",
    "mach = 3.0\n",
    "prandtl = 0.6666667\n",
    "inK = 2\n",
    "omega = 0.5\n",
    "alphaRef = 1.0\n",
    "omegaRef = 0.5\n",
    "nm = 5\n",
    "tLen = 3\n",
    "nh = 12"
   ]
  },
  {
   "cell_type": "code",
   "execution_count": 158,
   "metadata": {},
   "outputs": [
    {
     "data": {
      "text/plain": [
       "0.0f0:0.018620167f0:0.037240334f0"
      ]
     },
     "execution_count": 158,
     "metadata": {},
     "output_type": "execute_result"
    }
   ],
   "source": [
    "γ = heat_capacity_ratio(inK, 1)\n",
    "set = Setup(matter, case, space, flux, collision, nSpecies, interpOrder, limiter, boundary, cfl, maxTime)\n",
    "pSpace = PSpace1D(x0, x1, nx, nxg)\n",
    "μᵣ = ref_vhs_vis(knudsen, alphaRef, omegaRef)\n",
    "gas = Gas(knudsen, mach, prandtl, inK, γ, omega, alphaRef, omegaRef, μᵣ)\n",
    "vSpace = VSpace1D(umin, umax, nu, vMeshType)\n",
    "vSpace2D = VSpace2D(vmin, vmax, nv, wmin, wmax, nw, vMeshType)\n",
    "vSpace3D = VSpace3D(umin, umax, nu, vmin, vmax, nv, wmin, wmax, nw, vMeshType)\n",
    "wL, primL, hL, bL, bcL, wR, primR, hR, bR, bcR = ib_rh(mach, γ, inK, vSpace.u)\n",
    "ib = IB2F(wL, primL, hL, bL, bcL, wR, primR, hR, bR, bcR)\n",
    "ks = SolverSet(set, pSpace, vSpace, gas, ib, pwd())\n",
    "\n",
    "kn_bzm = hs_boltz_kn(ks.gas.μᵣ, 1.0)\n",
    "sos = sound_speed(ks.ib.primR, γ)\n",
    "tmax = (ks.vSpace.u1 + sos) / ks.pSpace.dx[1]\n",
    "dt = Float32(ks.set.cfl / tmax)\n",
    "tspan = (0.f0, dt)\n",
    "tran = range(tspan[1], tspan[2], length = tLen)"
   ]
  },
  {
   "cell_type": "code",
   "execution_count": 159,
   "metadata": {
    "scrolled": true
   },
   "outputs": [],
   "source": [
    "phi, psi, phipsi = kernel_mode(\n",
    "    nm,\n",
    "    vSpace3D.u1,\n",
    "    vSpace3D.v1,\n",
    "    vSpace3D.w1,\n",
    "    vSpace3D.du[1, 1, 1],\n",
    "    vSpace3D.dv[1, 1, 1],\n",
    "    vSpace3D.dw[1, 1, 1],\n",
    "    vSpace3D.nu,\n",
    "    vSpace3D.nv,\n",
    "    vSpace3D.nw,\n",
    "    alphaRef,\n",
    ");"
   ]
  },
  {
   "cell_type": "code",
   "execution_count": 160,
   "metadata": {},
   "outputs": [],
   "source": [
    "ctr = OffsetArray{ControlVolume1D2F}(undef, eachindex(ks.pSpace.x))\n",
    "face = Array{Interface1D2F}(undef, ks.pSpace.nx + 1)\n",
    "for i in eachindex(ctr)\n",
    "    if i <= ks.pSpace.nx ÷ 2\n",
    "        ctr[i] = ControlVolume1D2F(\n",
    "            ks.pSpace.x[i],\n",
    "            ks.pSpace.dx[i],\n",
    "            Float32.(ks.ib.wL),\n",
    "            Float32.(ks.ib.primL),\n",
    "            Float32.(ks.ib.hL),\n",
    "            Float32.(ks.ib.bL),\n",
    "        )\n",
    "    else\n",
    "        ctr[i] = ControlVolume1D2F(\n",
    "            ks.pSpace.x[i],\n",
    "            ks.pSpace.dx[i],\n",
    "            Float32.(ks.ib.wR),\n",
    "            Float32.(ks.ib.primR),\n",
    "            Float32.(ks.ib.hR),\n",
    "            Float32.(ks.ib.bR),\n",
    "        )\n",
    "    end\n",
    "end\n",
    "for i = 1:ks.pSpace.nx+1\n",
    "    face[i] = Interface1D2F(ks.ib.wL, ks.ib.hL)\n",
    "end"
   ]
  },
  {
   "cell_type": "code",
   "execution_count": 162,
   "metadata": {},
   "outputs": [
    {
     "name": "stderr",
     "output_type": "stream",
     "text": [
      "\u001b[32mProgress: 100%|█████████████████████████████████████████| Time: 0:00:02\u001b[39m\n"
     ]
    }
   ],
   "source": [
    "sumRes = zeros(3)\n",
    "sumAvg = zeros(3)\n",
    "\n",
    "@showprogress for iter = 1:2000\n",
    "    Kinetic.evolve!(ks, ctr, face, dt)\n",
    "    Kinetic.update!(ks, ctr, face, dt, sumRes)\n",
    "end"
   ]
  },
  {
   "cell_type": "code",
   "execution_count": 163,
   "metadata": {},
   "outputs": [],
   "source": [
    "X = Array{Float32}(undef, ks.vSpace.nu * 2, ks.pSpace.nx)\n",
    "for i = 1:ks.pSpace.nx\n",
    "    X[1:nu, i] .= ctr[i].h\n",
    "    X[nu+1:end, i] .= ctr[i].b\n",
    "end"
   ]
  },
  {
   "cell_type": "code",
   "execution_count": 164,
   "metadata": {},
   "outputs": [],
   "source": [
    "function shakhov!(df, f, p, t)\n",
    "    H, B, tau = p\n",
    "    df[1:end÷2, :] .= (H .- f[1:end÷2, :]) ./ tau\n",
    "    df[end÷2+1:end, :] .= (B .- f[end÷2+1:end, :]) ./ tau\n",
    "end\n",
    "\n",
    "H = Array{Float32}(undef, nu, size(X, 2))\n",
    "B = Array{Float32}(undef, nu, size(X, 2))\n",
    "SH = Array{Float32}(undef, nu, size(X, 2))\n",
    "SB = Array{Float32}(undef, nu, size(X, 2))\n",
    "τ = Array{Float32}(undef, 1, size(X, 2))\n",
    "for i in axes(X, 2)\n",
    "    H[:, i] .= maxwellian(ks.vSpace.u, ctr[i].prim)\n",
    "    B[:, i] .= H[:, i] .* ks.gas.K ./ (2.0 .* ctr[i].prim[end])\n",
    "    \n",
    "    q = heat_flux(ctr[i].h, ctr[i].b, ctr[i].prim, ks.vSpace.u, ks.vSpace.weights)\n",
    "    H1, B1 = shakhov(ks.vSpace.u, H[:,i], B[:,i], q, ctr[i].prim, ks.gas.Pr, ks.gas.K)\n",
    "    SH[:,i] .= H[:,i] .+ H1\n",
    "    SB[:,i] .= B[:,i] .+ B1\n",
    "    \n",
    "    τ[1, i] = vhs_collision_time(ctr[i].prim, ks.gas.μᵣ, ks.gas.ω)\n",
    "end\n",
    "P = [SH, SB, τ]\n",
    "M = vcat(H, B)\n",
    "\n",
    "prob = ODEProblem(shakhov!, X, tspan, P)\n",
    "Y = solve(prob, Euler(), dt=dt) |> Array;"
   ]
  },
  {
   "cell_type": "code",
   "execution_count": 165,
   "metadata": {
    "scrolled": true
   },
   "outputs": [
    {
     "data": {
      "text/plain": [
       "0.0030288259f0"
      ]
     },
     "metadata": {},
     "output_type": "display_data"
    },
    {
     "data": {
      "text/plain": [
       "5.1577226f-5"
      ]
     },
     "metadata": {},
     "output_type": "display_data"
    },
    {
     "data": {
      "text/plain": [
       "1.3563861f-5"
      ]
     },
     "metadata": {},
     "output_type": "display_data"
    },
    {
     "data": {
      "text/plain": [
       "9.211794f-6"
      ]
     },
     "metadata": {},
     "output_type": "display_data"
    },
    {
     "data": {
      "text/plain": [
       "7.931367f-6"
      ]
     },
     "metadata": {},
     "output_type": "display_data"
    },
    {
     "data": {
      "text/plain": [
       "6.8329036f-6"
      ]
     },
     "metadata": {},
     "output_type": "display_data"
    },
    {
     "data": {
      "text/plain": [
       "5.829224f-6"
      ]
     },
     "metadata": {},
     "output_type": "display_data"
    },
    {
     "data": {
      "text/plain": [
       "u: 499536-element Vector{Float32}:\n",
       " -0.033344563\n",
       "  0.04711396\n",
       " -0.06453871\n",
       " -0.07521937\n",
       "  0.026386881\n",
       " -0.01088655\n",
       " -0.011478854\n",
       "  0.023843408\n",
       " -0.044298142\n",
       " -0.03802728\n",
       " -0.008793371\n",
       " -0.044114206\n",
       " -0.021723539\n",
       "  ⋮\n",
       "  0.00036814067\n",
       "  0.00017772302\n",
       " -2.1439204f-5\n",
       "  0.0009703685\n",
       " -2.3407436f-5\n",
       " -0.0002911765\n",
       " -0.00018774779\n",
       "  2.3935832f-5\n",
       "  0.0003100039\n",
       " -0.0009955408\n",
       "  0.0003907911\n",
       " -0.00050813286"
      ]
     },
     "execution_count": 165,
     "metadata": {},
     "output_type": "execute_result"
    }
   ],
   "source": [
    "#--- universal differential equation ---#\n",
    "model_univ = FastChain(\n",
    "    #(x, p) -> zeros(eltype(x), axes(x)),\n",
    "    FastDense(nu * 2, nu * 2 * nh, tanh),\n",
    "    #FastDense(nu * 2 * nh, nu * 2 * nh, tanh),\n",
    "    FastDense(nu * 2 * nh, nu * 2),\n",
    "    #(x, p) -> sum(x[1:nu] .* ks.vSpace.weights),\n",
    ")\n",
    "\n",
    "p_model = initial_params(model_univ)\n",
    "#p_model .= 0.f0\n",
    "\n",
    "function dfdt(f, p, t)\n",
    "    h = f[1:nu, :]\n",
    "    b = f[nu+1:end, :]\n",
    "\n",
    "    dh = (H .- h) ./ τ .+ model_univ(f .- M, p)[1:nu, :]\n",
    "    db = (B .- b) ./ τ .+ model_univ(f .- M, p)[nu+1:end, :]\n",
    "\n",
    "    df = vcat(dh, db)\n",
    "end\n",
    "\n",
    "prob_ube = ODEProblem(dfdt, X, tspan, p_model)\n",
    "\n",
    "function loss(p)\n",
    "    #sol_ube = solve(prob_ube, Midpoint(), u0=X, p=p, saveat=tran)\n",
    "    sol_ube = solve(prob_ube, Euler(), u0=X, p=p, dt=dt)\n",
    "    loss = sum(abs2, Array(sol_ube) .- Y)\n",
    "    return loss\n",
    "end\n",
    "\n",
    "cb = function (p, l)\n",
    "    display(l)\n",
    "    return false\n",
    "end\n",
    "\n",
    "res = sci_train(loss, p_model, ADAM(), cb=Flux.throttle(cb, 1), maxiters=200)"
   ]
  },
  {
   "cell_type": "code",
   "execution_count": null,
   "metadata": {},
   "outputs": [],
   "source": []
  },
  {
   "cell_type": "code",
   "execution_count": 168,
   "metadata": {},
   "outputs": [
    {
     "data": {
      "text/plain": [
       "BenchmarkTools.Trial: \n",
       "  memory estimate:  4.78 MiB\n",
       "  allocs estimate:  25\n",
       "  --------------\n",
       "  minimum time:     412.694 μs (0.00% GC)\n",
       "  median time:      502.258 μs (0.00% GC)\n",
       "  mean time:        619.987 μs (17.92% GC)\n",
       "  maximum time:     5.845 ms (89.06% GC)\n",
       "  --------------\n",
       "  samples:          8008\n",
       "  evals/sample:     1"
      ]
     },
     "execution_count": 168,
     "metadata": {},
     "output_type": "execute_result"
    }
   ],
   "source": [
    "@benchmark model_univ([ctr[1].h;ctr[1].b], res.u)"
   ]
  },
  {
   "cell_type": "code",
   "execution_count": null,
   "metadata": {},
   "outputs": [],
   "source": []
  },
  {
   "cell_type": "code",
   "execution_count": 184,
   "metadata": {},
   "outputs": [
    {
     "data": {
      "text/plain": [
       "bench_ube (generic function with 1 method)"
      ]
     },
     "execution_count": 184,
     "metadata": {},
     "output_type": "execute_result"
    }
   ],
   "source": [
    "function bench_ube(df, f, p, t)\n",
    "    H = p[1:nu]\n",
    "    B = p[nu+1:2*nu]\n",
    "    τ = p[2*nu+1]\n",
    "    p_nn = p[2*nu+2:end]\n",
    "\n",
    "    #H,B,τ,p_nn = p\n",
    "    \n",
    "    h = f[1:nu]\n",
    "    b = f[nu+1:end]\n",
    "\n",
    "    dh = (H .- h) ./ τ .+ model_univ(f, p_nn)[1:nu]\n",
    "    db = (B .- b) ./ τ .+ model_univ(f, p_nn)[nu+1:end]\n",
    "\n",
    "    df[1:nu] .= dh\n",
    "    df[nu+1:end] .= db \n",
    "end"
   ]
  },
  {
   "cell_type": "code",
   "execution_count": 185,
   "metadata": {},
   "outputs": [
    {
     "data": {
      "text/plain": [
       "\u001b[36mODEProblem\u001b[0m with uType \u001b[36mVector{Float32}\u001b[0m and tType \u001b[36mFloat32\u001b[0m. In-place: \u001b[36mtrue\u001b[0m\n",
       "timespan: (0.0f0, 0.037240334f0)\n",
       "u0: Float32[5.191017f-16, 2.4065318f-15, 1.0656098f-14, 4.5053408f-14, 1.8181008f-13, 6.9998147f-13, 2.569968f-12, 8.993069f-12, 2.9975133f-11, 9.5100705f-11  …  3.4674946f-10, 2.5110719f-11, 1.5603014f-12, 8.318861f-14, 3.80562f-15, 1.4938012f-16, 5.031142f-18, 1.4539391f-19, 3.6052223f-21, 7.670505f-23]"
      ]
     },
     "execution_count": 185,
     "metadata": {},
     "output_type": "execute_result"
    }
   ],
   "source": [
    "prob_ube = ODEProblem(bench_ube, [ctr[1].h[:]; ctr[1].b[:]], tspan, [H[:, 1]; B[:, 1]; τ[1, 1]; res.u])"
   ]
  },
  {
   "cell_type": "code",
   "execution_count": 187,
   "metadata": {
    "scrolled": true
   },
   "outputs": [
    {
     "name": "stdout",
     "output_type": "stream",
     "text": [
      "  17.529 ms (1283 allocations: 171.96 MiB)\n"
     ]
    }
   ],
   "source": [
    "#@btime solve(prob_ube, Euler(), dt=tspan[2]/(tLen-1))\n",
    "@btime solve(prob_ube, BS3());"
   ]
  },
  {
   "cell_type": "code",
   "execution_count": null,
   "metadata": {},
   "outputs": [],
   "source": []
  },
  {
   "cell_type": "code",
   "execution_count": 80,
   "metadata": {},
   "outputs": [
    {
     "data": {
      "text/plain": [
       "(::FastChain{Tuple{FastDense{typeof(identity), DiffEqFlux.var\"#initial_params#73\"{Vector{Float32}}}, FastDense{typeof(identity), DiffEqFlux.var\"#initial_params#73\"{Vector{Float32}}}}}) (generic function with 1 method)"
      ]
     },
     "execution_count": 80,
     "metadata": {},
     "output_type": "execute_result"
    }
   ],
   "source": [
    "model_reduce = FastChain(FastDense(nu, nu * nh),\n",
    "    FastDense(nu * nh, nu))"
   ]
  },
  {
   "cell_type": "code",
   "execution_count": 81,
   "metadata": {},
   "outputs": [
    {
     "data": {
      "text/plain": [
       "bench_reduce (generic function with 1 method)"
      ]
     },
     "execution_count": 81,
     "metadata": {},
     "output_type": "execute_result"
    }
   ],
   "source": [
    "function bench_reduce(df, f, p, t)\n",
    "    H = p[1:nu]\n",
    "    τ = p[nu+1]\n",
    "    p_nn = p[nu+2:end]\n",
    "\n",
    "    df .= (H .- f) ./ τ .+ model_reduce(f, p_nn)[1:nu]\n",
    "end"
   ]
  },
  {
   "cell_type": "code",
   "execution_count": 82,
   "metadata": {},
   "outputs": [
    {
     "data": {
      "text/plain": [
       "\u001b[36mODEProblem\u001b[0m with uType \u001b[36mOffsetVector{Float32, Vector{Float32}}\u001b[0m and tType \u001b[36mFloat32\u001b[0m. In-place: \u001b[36mtrue\u001b[0m\n",
       "timespan: (0.0f0, 0.037240334f0)\n",
       "u0: Float32[5.191017f-16, 2.4065318f-15, 1.0656098f-14, 4.5053408f-14, 1.8181008f-13, 6.9998147f-13, 2.569968f-12, 8.993069f-12, 2.9975133f-11, 9.5100705f-11  …  3.440243f-10, 2.4913365f-11, 1.5480382f-12, 8.2534796f-14, 3.77571f-15, 1.4820608f-16, 4.991599f-18, 1.4425116f-19, 3.5768857f-21, 7.610217f-23]"
      ]
     },
     "execution_count": 82,
     "metadata": {},
     "output_type": "execute_result"
    }
   ],
   "source": [
    "prob_reduce = ODEProblem(bench_reduce, ctr[1].h[:], tspan, [H[:, 1]; τ[1, 1]; res.u])"
   ]
  },
  {
   "cell_type": "code",
   "execution_count": 83,
   "metadata": {},
   "outputs": [
    {
     "data": {
      "text/plain": [
       "BenchmarkTools.Trial: \n",
       "  memory estimate:  184.91 MiB\n",
       "  allocs estimate:  1319\n",
       "  --------------\n",
       "  minimum time:     16.054 ms (0.00% GC)\n",
       "  median time:      20.894 ms (22.68% GC)\n",
       "  mean time:        20.481 ms (20.81% GC)\n",
       "  maximum time:     22.438 ms (0.00% GC)\n",
       "  --------------\n",
       "  samples:          244\n",
       "  evals/sample:     1"
      ]
     },
     "execution_count": 83,
     "metadata": {},
     "output_type": "execute_result"
    }
   ],
   "source": [
    "@benchmark solve(prob_reduce, Midpoint())"
   ]
  },
  {
   "cell_type": "code",
   "execution_count": null,
   "metadata": {},
   "outputs": [],
   "source": []
  },
  {
   "cell_type": "code",
   "execution_count": 169,
   "metadata": {},
   "outputs": [
    {
     "data": {
      "text/plain": [
       "BenchmarkTools.Trial: \n",
       "  memory estimate:  214.42 MiB\n",
       "  allocs estimate:  1839\n",
       "  --------------\n",
       "  minimum time:     66.137 ms (0.00% GC)\n",
       "  median time:      71.821 ms (7.21% GC)\n",
       "  mean time:        71.547 ms (6.83% GC)\n",
       "  maximum time:     72.999 ms (7.07% GC)\n",
       "  --------------\n",
       "  samples:          70\n",
       "  evals/sample:     1"
      ]
     },
     "execution_count": 169,
     "metadata": {},
     "output_type": "execute_result"
    }
   ],
   "source": [
    "@benchmark begin\n",
    "    f_full = full_distribution(ctr[1].h, ctr[1].b, ks.vSpace.u, ks.vSpace.weights, vSpace3D.v, vSpace3D.w, ctr[1].prim, ks.gas.γ)\n",
    "    boltzmann_fft(f_full, kn_bzm, nm, phi, psi, phipsi)\n",
    "end"
   ]
  },
  {
   "cell_type": "code",
   "execution_count": null,
   "metadata": {},
   "outputs": [],
   "source": []
  },
  {
   "cell_type": "code",
   "execution_count": 177,
   "metadata": {},
   "outputs": [
    {
     "data": {
      "text/plain": [
       "bench_fsm (generic function with 1 method)"
      ]
     },
     "execution_count": 177,
     "metadata": {},
     "output_type": "execute_result"
    }
   ],
   "source": [
    "function bench_fsm(df, f, p, t)\n",
    "    h = f[1:nu]\n",
    "    b = f[nu+1:end]\n",
    "    \n",
    "    f_full = full_distribution(h, b, ks.vSpace.u, ks.vSpace.weights, vSpace3D.v, vSpace3D.w, ctr[1].prim, ks.gas.γ)\n",
    "\n",
    "    _df = boltzmann_fft(f_full, kn_bzm, nm, phi, psi, phipsi)\n",
    "    \n",
    "    dh, db = reduce_distribution(_df, vSpace3D.v, vSpace3D.w, vSpace2D.weights)\n",
    "    df[1:nu] .= dh\n",
    "    df[nu+1:end] .= db \n",
    "end"
   ]
  },
  {
   "cell_type": "code",
   "execution_count": 178,
   "metadata": {},
   "outputs": [
    {
     "data": {
      "text/plain": [
       "\u001b[36mODEProblem\u001b[0m with uType \u001b[36mVector{Float32}\u001b[0m and tType \u001b[36mFloat32\u001b[0m. In-place: \u001b[36mtrue\u001b[0m\n",
       "timespan: (0.0f0, 0.037240334f0)\n",
       "u0: Float32[5.191017f-16, 2.4065318f-15, 1.0656098f-14, 4.5053408f-14, 1.8181008f-13, 6.9998147f-13, 2.569968f-12, 8.993069f-12, 2.9975133f-11, 9.5100705f-11  …  3.4674946f-10, 2.5110719f-11, 1.5603014f-12, 8.318861f-14, 3.80562f-15, 1.4938012f-16, 5.031142f-18, 1.4539391f-19, 3.6052223f-21, 7.670505f-23]"
      ]
     },
     "execution_count": 178,
     "metadata": {},
     "output_type": "execute_result"
    }
   ],
   "source": [
    "prob_fsm = ODEProblem(bench_fsm, [ctr[1].h[:]; ctr[1].b[:]], tspan)"
   ]
  },
  {
   "cell_type": "code",
   "execution_count": 183,
   "metadata": {},
   "outputs": [
    {
     "name": "stdout",
     "output_type": "stream",
     "text": [
      "  669.710 ms (20699 allocations: 1.92 GiB)\n"
     ]
    }
   ],
   "source": [
    "@btime solve(prob_fsm, Tsit5())\n",
    "#@btime solve(prob_fsm, Euler(), dt=tspan[2]/(tLen-1));"
   ]
  },
  {
   "cell_type": "code",
   "execution_count": null,
   "metadata": {},
   "outputs": [],
   "source": []
  },
  {
   "cell_type": "code",
   "execution_count": null,
   "metadata": {},
   "outputs": [],
   "source": []
  }
 ],
 "metadata": {
  "kernelspec": {
   "display_name": "Julia 1.6.0",
   "language": "julia",
   "name": "julia-1.6"
  },
  "language_info": {
   "file_extension": ".jl",
   "mimetype": "application/julia",
   "name": "julia",
   "version": "1.6.0"
  }
 },
 "nbformat": 4,
 "nbformat_minor": 4
}
