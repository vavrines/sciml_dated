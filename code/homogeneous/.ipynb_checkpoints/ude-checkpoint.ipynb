{
 "cells": [
  {
   "cell_type": "code",
   "execution_count": 1,
   "metadata": {},
   "outputs": [],
   "source": [
    "using Revise\n",
    "using Kinetic\n",
    "using DifferentialEquations, Flux\n",
    "using DiffEqFlux, Optim\n",
    "using Plots, Dates\n",
    "using FileIO, JLD2\n",
    "using Printf"
   ]
  },
  {
   "cell_type": "code",
   "execution_count": 2,
   "metadata": {},
   "outputs": [
    {
     "name": "stdout",
     "output_type": "stream",
     "text": [
      "case = homogeneous\n",
      "maxTime = 1\n",
      "tlen = 5\n",
      "u0 = -5\n",
      "u1 = 5\n",
      "nu = 28\n",
      "nug = 0\n",
      "v0 = -5\n",
      "v1 = 5\n",
      "nv = 28\n",
      "nvg = 0\n",
      "w0 = -5\n",
      "w1 = 5\n",
      "nw = 28\n",
      "nwg = 0\n",
      "vMeshType = rectangle\n",
      "nm = 5\n",
      "knudsen = 1\n",
      "inK = 0\n",
      "alpha = 1.0\n",
      "omega = 0.5\n",
      "nh = 8\n",
      "\n"
     ]
    }
   ],
   "source": [
    "# generate parameters\n",
    "config = \"ude_config.txt\"\n",
    "D = read_dict(config)\n",
    "for key in keys(D)\n",
    "    s = Symbol(key)\n",
    "    @eval $s = $(D[key])\n",
    "end"
   ]
  },
  {
   "cell_type": "code",
   "execution_count": 3,
   "metadata": {},
   "outputs": [],
   "source": [
    "tspan = (0.0, maxTime)\n",
    "tran = range(tspan[1], tspan[2], length = tlen)\n",
    "\n",
    "γ = heat_capacity_ratio(inK, 3)\n",
    "vSpace = VSpace3D(u0, u1, nu, v0, v1, nv, w0, w1, nw, vMeshType)\n",
    "\n",
    "f0 =\n",
    "    Float32.(\n",
    "        0.5 * (1 / π)^1.5 .*\n",
    "        (exp.(-(vSpace.u .- 0.99) .^ 2) .+ exp.(-(vSpace.u .+ 0.99) .^ 2)) .*\n",
    "        exp.(-vSpace.v .^ 2) .* exp.(-vSpace.w .^ 2),\n",
    "    ) |> Array\n",
    "prim0 = conserve_prim(\n",
    "    moments_conserve(f0, vSpace.u, vSpace.v, vSpace.w, vSpace.weights),\n",
    "    γ,\n",
    ")\n",
    "M0 = Float32.(maxwellian(vSpace.u, vSpace.v, vSpace.w, prim0)) |> Array\n",
    "\n",
    "mu_ref = ref_vhs_vis(knudsen, alpha, omega)\n",
    "kn_bzm = hs_boltz_kn(mu_ref, 1.0)\n",
    "τ = Float32(vhs_collision_time(prim0, mu_ref, 0.5))\n",
    "\n",
    "phi, psi, phipsi = kernel_mode(\n",
    "    nm,\n",
    "    vSpace.u1,\n",
    "    vSpace.v1,\n",
    "    vSpace.w1,\n",
    "    vSpace.du[1, 1, 1],\n",
    "    vSpace.dv[1, 1, 1],\n",
    "    vSpace.dw[1, 1, 1],\n",
    "    vSpace.nu,\n",
    "    vSpace.nv,\n",
    "    vSpace.nw,\n",
    "    alpha,\n",
    ");"
   ]
  },
  {
   "cell_type": "code",
   "execution_count": 4,
   "metadata": {},
   "outputs": [],
   "source": [
    "function boltzmann!(df, f::Array{<:Real,3}, p, t)\n",
    "    Kn, M, phi, psi, phipsi = p\n",
    "    df .= boltzmann_fft(f, Kn, M, phi, psi, phipsi) # https://github.com/vavrines/Kinetic.jl\n",
    "end\n",
    "\n",
    "function bgk!(df, f::Array{<:Real,3}, p, t)\n",
    "    g, tau = p\n",
    "    df .= (g .- f) ./ tau\n",
    "end\n",
    "\n",
    "# Boltzmann\n",
    "prob = ODEProblem(boltzmann!, f0, tspan, [kn_bzm, nm, phi, psi, phipsi])\n",
    "data_boltz = solve(prob, Tsit5(), saveat = tran) |> Array\n",
    "\n",
    "# BGK\n",
    "prob1 = ODEProblem(bgk!, f0, tspan, [M0, τ])\n",
    "data_bgk = solve(prob1, Tsit5(), saveat = tran) |> Array\n",
    "\n",
    "data_boltz_1D = zeros(Float32, axes(data_boltz, 1), axes(data_boltz, 4))\n",
    "data_bgk_1D = zeros(Float32, axes(data_bgk, 1), axes(data_bgk, 4))\n",
    "for j in axes(data_boltz_1D, 2), i in axes(data_boltz_1D, 1)\n",
    "    data_boltz_1D[\n",
    "        i,\n",
    "        j,\n",
    "    ] = sum(@. vSpace.weights[i, :, :] * data_boltz[i, :, :, j])\n",
    "    data_bgk_1D[i, j] = sum(@. vSpace.weights[i, :, :] * data_bgk[i, :, :, j])\n",
    "end\n",
    "\n",
    "f0_1D = zeros(Float32, axes(f0, 1))\n",
    "for i in axes(data_boltz_1D, 1)\n",
    "    f0_1D[i] = sum(@. vSpace.weights[i, :, :] * f0[i, :, :])\n",
    "end\n",
    "\n",
    "M0_1D = zeros(Float32, axes(M0, 1))\n",
    "for i in axes(M0, 1)\n",
    "    M0_1D[i] = sum(@. vSpace.weights[i, :, :] * M0[i, :, :])\n",
    "end"
   ]
  },
  {
   "cell_type": "code",
   "execution_count": 7,
   "metadata": {},
   "outputs": [
    {
     "data": {
      "text/plain": [
       "#9 (generic function with 1 method)"
      ]
     },
     "execution_count": 7,
     "metadata": {},
     "output_type": "execute_result"
    }
   ],
   "source": [
    "#--- universal differential equation ---#\n",
    "model_univ = FastChain(\n",
    "    (x, p) -> x .^ 2, # initial guess\n",
    "    FastDense(vSpace.nu, vSpace.nu * nh, tanh),\n",
    "    FastDense(vSpace.nu * nh, vSpace.nu * nh, tanh),\n",
    "    FastDense(vSpace.nu * nh, vSpace.nu),\n",
    ")\n",
    "\n",
    "p_model = initial_params(model_univ)\n",
    "\n",
    "p_all = [f0_1D; M0_1D; τ; p_model]\n",
    "\n",
    "function dudt_univ!(df, f, p, t)\n",
    "    M = p[nu+1:2*nu]\n",
    "    τ = p[2*nu+1]\n",
    "    p_nn = p[2*nu+2:end]\n",
    "    df .= (M .- f) ./ τ .+ model_univ(f, p_nn)\n",
    "end\n",
    "\n",
    "prob_univ = ODEProblem(dudt_univ!, f0_1D, tspan, p_all)\n",
    "\n",
    "function loss_ude(p)\n",
    "    sol_univ = concrete_solve(prob_univ, Tsit5(), p[1:nu], p, saveat = tran)\n",
    "\n",
    "    loss = sum(abs2, Array(sol_univ) .- data_boltz_1D)\n",
    "\n",
    "    return loss\n",
    "end\n",
    "\n",
    "cb = function (p, l)\n",
    "    display(l)\n",
    "    return false\n",
    "end"
   ]
  },
  {
   "cell_type": "code",
   "execution_count": 8,
   "metadata": {
    "scrolled": true
   },
   "outputs": [
    {
     "data": {
      "text/plain": [
       "0.0012249792f0"
      ]
     },
     "metadata": {},
     "output_type": "display_data"
    },
    {
     "name": "stderr",
     "output_type": "stream",
     "text": [
      "\r",
      "\u001b[32mloss: 0.00122:   0%|▎                                        |  ETA: 1:19:12\u001b[39m"
     ]
    },
    {
     "data": {
      "text/plain": [
       "0.00072727626f0"
      ]
     },
     "metadata": {},
     "output_type": "display_data"
    },
    {
     "name": "stderr",
     "output_type": "stream",
     "text": [
      "\r",
      "\u001b[32mloss: 0.000727:   1%|▍                                        |  ETA: 0:41:13\u001b[39m"
     ]
    },
    {
     "data": {
      "text/plain": [
       "0.0006605834f0"
      ]
     },
     "metadata": {},
     "output_type": "display_data"
    },
    {
     "name": "stderr",
     "output_type": "stream",
     "text": [
      "\r",
      "\u001b[32mloss: 0.000661:   2%|▋                                        |  ETA: 0:27:33\u001b[39m"
     ]
    },
    {
     "data": {
      "text/plain": [
       "0.00056291034f0"
      ]
     },
     "metadata": {},
     "output_type": "display_data"
    },
    {
     "name": "stderr",
     "output_type": "stream",
     "text": [
      "\r",
      "\u001b[32mloss: 0.000563:   2%|▉                                        |  ETA: 0:20:38\u001b[39m"
     ]
    },
    {
     "data": {
      "text/plain": [
       "0.00032111883f0"
      ]
     },
     "metadata": {},
     "output_type": "display_data"
    },
    {
     "name": "stderr",
     "output_type": "stream",
     "text": [
      "\r",
      "\u001b[32mloss: 0.000321:   2%|█                                        |  ETA: 0:16:32\u001b[39m"
     ]
    },
    {
     "data": {
      "text/plain": [
       "0.00016908043f0"
      ]
     },
     "metadata": {},
     "output_type": "display_data"
    },
    {
     "name": "stderr",
     "output_type": "stream",
     "text": [
      "\r",
      "\u001b[32mloss: 0.000169:   3%|█▎                                       |  ETA: 0:13:49\u001b[39m"
     ]
    },
    {
     "data": {
      "text/plain": [
       "0.00020751657f0"
      ]
     },
     "metadata": {},
     "output_type": "display_data"
    },
    {
     "data": {
      "text/plain": [
       "0.0002903142f0"
      ]
     },
     "metadata": {},
     "output_type": "display_data"
    },
    {
     "name": "stderr",
     "output_type": "stream",
     "text": [
      "\r",
      "\u001b[32mloss: 0.00029:   4%|█▋                                       |  ETA: 0:10:19\u001b[39m"
     ]
    },
    {
     "data": {
      "text/plain": [
       "0.00029458522f0"
      ]
     },
     "metadata": {},
     "output_type": "display_data"
    },
    {
     "data": {
      "text/plain": [
       "0.00022277272f0"
      ]
     },
     "metadata": {},
     "output_type": "display_data"
    },
    {
     "name": "stderr",
     "output_type": "stream",
     "text": [
      "\r",
      "\u001b[32mloss: 0.000223:   5%|██                                       |  ETA: 0:08:13\u001b[39m"
     ]
    },
    {
     "data": {
      "text/plain": [
       "0.00012965704f0"
      ]
     },
     "metadata": {},
     "output_type": "display_data"
    },
    {
     "data": {
      "text/plain": [
       "6.79854f-5"
      ]
     },
     "metadata": {},
     "output_type": "display_data"
    },
    {
     "name": "stderr",
     "output_type": "stream",
     "text": [
      "\r",
      "\u001b[32mloss: 6.8e-05:   6%|██▌                                      |  ETA: 0:06:49\u001b[39m"
     ]
    },
    {
     "data": {
      "text/plain": [
       "6.5190485f-5"
      ]
     },
     "metadata": {},
     "output_type": "display_data"
    },
    {
     "data": {
      "text/plain": [
       "0.00010930256f0"
      ]
     },
     "metadata": {},
     "output_type": "display_data"
    },
    {
     "name": "stderr",
     "output_type": "stream",
     "text": [
      "\r",
      "\u001b[32mloss: 0.000109:   7%|██▉                                      |  ETA: 0:05:49\u001b[39m"
     ]
    },
    {
     "data": {
      "text/plain": [
       "0.00015237299f0"
      ]
     },
     "metadata": {},
     "output_type": "display_data"
    },
    {
     "data": {
      "text/plain": [
       "0.00014895014f0"
      ]
     },
     "metadata": {},
     "output_type": "display_data"
    },
    {
     "name": "stderr",
     "output_type": "stream",
     "text": [
      "\r",
      "\u001b[32mloss: 0.000149:   8%|███▎                                     |  ETA: 0:05:04\u001b[39m"
     ]
    },
    {
     "data": {
      "text/plain": [
       "9.8867866f-5"
      ]
     },
     "metadata": {},
     "output_type": "display_data"
    },
    {
     "data": {
      "text/plain": [
       "4.1839838f-5"
      ]
     },
     "metadata": {},
     "output_type": "display_data"
    },
    {
     "name": "stderr",
     "output_type": "stream",
     "text": [
      "\r",
      "\u001b[32mloss: 4.18e-05:   9%|███▊                                     |  ETA: 0:04:29\u001b[39m"
     ]
    },
    {
     "data": {
      "text/plain": [
       "1.734352f-5"
      ]
     },
     "metadata": {},
     "output_type": "display_data"
    },
    {
     "data": {
      "text/plain": [
       "3.349453f-5"
      ]
     },
     "metadata": {},
     "output_type": "display_data"
    },
    {
     "name": "stderr",
     "output_type": "stream",
     "text": [
      "\r",
      "\u001b[32mloss: 3.35e-05:  10%|████▏                                    |  ETA: 0:04:01\u001b[39m"
     ]
    },
    {
     "data": {
      "text/plain": [
       "6.652378f-5"
      ]
     },
     "metadata": {},
     "output_type": "display_data"
    },
    {
     "data": {
      "text/plain": [
       "8.478939f-5"
      ]
     },
     "metadata": {},
     "output_type": "display_data"
    },
    {
     "name": "stderr",
     "output_type": "stream",
     "text": [
      "\r",
      "\u001b[32mloss: 8.48e-05:  11%|████▌                                    |  ETA: 0:03:38\u001b[39m"
     ]
    },
    {
     "data": {
      "text/plain": [
       "7.50541f-5"
      ]
     },
     "metadata": {},
     "output_type": "display_data"
    },
    {
     "data": {
      "text/plain": [
       "4.8544138f-5"
      ]
     },
     "metadata": {},
     "output_type": "display_data"
    },
    {
     "name": "stderr",
     "output_type": "stream",
     "text": [
      "\r",
      "\u001b[32mloss: 4.85e-05:  12%|████▉                                    |  ETA: 0:03:19\u001b[39m"
     ]
    },
    {
     "data": {
      "text/plain": [
       "2.5623282f-5"
      ]
     },
     "metadata": {},
     "output_type": "display_data"
    },
    {
     "name": "stderr",
     "output_type": "stream",
     "text": [
      "\r",
      "\u001b[32mloss: 2.56e-05:  12%|█████▏                                   |  ETA: 0:03:11\u001b[39m"
     ]
    },
    {
     "data": {
      "text/plain": [
       "1.7906434f-5"
      ]
     },
     "metadata": {},
     "output_type": "display_data"
    },
    {
     "data": {
      "text/plain": [
       "2.3200935f-5"
      ]
     },
     "metadata": {},
     "output_type": "display_data"
    },
    {
     "name": "stderr",
     "output_type": "stream",
     "text": [
      "\r",
      "\u001b[32mloss: 2.32e-05:  14%|█████▌                                   |  ETA: 0:02:56\u001b[39m"
     ]
    },
    {
     "data": {
      "text/plain": [
       "3.264779f-5"
      ]
     },
     "metadata": {},
     "output_type": "display_data"
    },
    {
     "data": {
      "text/plain": [
       "3.8753566f-5"
      ]
     },
     "metadata": {},
     "output_type": "display_data"
    },
    {
     "name": "stderr",
     "output_type": "stream",
     "text": [
      "\r",
      "\u001b[32mloss: 3.88e-05:  14%|██████                                   |  ETA: 0:02:43\u001b[39m"
     ]
    },
    {
     "data": {
      "text/plain": [
       "3.8177917f-5"
      ]
     },
     "metadata": {},
     "output_type": "display_data"
    },
    {
     "data": {
      "text/plain": [
       "3.1445208f-5"
      ]
     },
     "metadata": {},
     "output_type": "display_data"
    },
    {
     "name": "stderr",
     "output_type": "stream",
     "text": [
      "\r",
      "\u001b[32mloss: 3.14e-05:  16%|██████▍                                  |  ETA: 0:02:32\u001b[39m"
     ]
    },
    {
     "data": {
      "text/plain": [
       "2.2274793f-5"
      ]
     },
     "metadata": {},
     "output_type": "display_data"
    },
    {
     "data": {
      "text/plain": [
       "1.5622472f-5"
      ]
     },
     "metadata": {},
     "output_type": "display_data"
    },
    {
     "name": "stderr",
     "output_type": "stream",
     "text": [
      "\r",
      "\u001b[32mloss: 1.56e-05:  16%|██████▊                                  |  ETA: 0:02:22\u001b[39m"
     ]
    },
    {
     "data": {
      "text/plain": [
       "1.4254918f-5"
      ]
     },
     "metadata": {},
     "output_type": "display_data"
    },
    {
     "data": {
      "text/plain": [
       "1.7264714f-5"
      ]
     },
     "metadata": {},
     "output_type": "display_data"
    },
    {
     "name": "stderr",
     "output_type": "stream",
     "text": [
      "\r",
      "\u001b[32mloss: 1.73e-05:  18%|███████▏                                 |  ETA: 0:02:13\u001b[39m"
     ]
    },
    {
     "data": {
      "text/plain": [
       "2.150021f-5"
      ]
     },
     "metadata": {},
     "output_type": "display_data"
    },
    {
     "name": "stderr",
     "output_type": "stream",
     "text": [
      "\r",
      "\u001b[32mloss: 2.15e-05:  18%|███████▍                                 |  ETA: 0:02:09\u001b[39m"
     ]
    },
    {
     "data": {
      "text/plain": [
       "2.3568697f-5"
      ]
     },
     "metadata": {},
     "output_type": "display_data"
    },
    {
     "name": "stderr",
     "output_type": "stream",
     "text": [
      "\r",
      "\u001b[32mloss: 2.36e-05:  18%|███████▋                                 |  ETA: 0:02:05\u001b[39m"
     ]
    },
    {
     "data": {
      "text/plain": [
       "2.1634989f-5"
      ]
     },
     "metadata": {},
     "output_type": "display_data"
    },
    {
     "data": {
      "text/plain": [
       "1.6719461f-5"
      ]
     },
     "metadata": {},
     "output_type": "display_data"
    },
    {
     "name": "stderr",
     "output_type": "stream",
     "text": [
      "\r",
      "\u001b[32mloss: 1.67e-05:  20%|████████                                 |  ETA: 0:01:58\u001b[39m"
     ]
    },
    {
     "data": {
      "text/plain": [
       "1.1900374f-5"
      ]
     },
     "metadata": {},
     "output_type": "display_data"
    },
    {
     "name": "stderr",
     "output_type": "stream",
     "text": [
      "\r",
      "\u001b[32mloss: 1.19e-05:  20%|████████▎                                |  ETA: 0:01:55\u001b[39m"
     ]
    },
    {
     "data": {
      "text/plain": [
       "9.917231f-6"
      ]
     },
     "metadata": {},
     "output_type": "display_data"
    },
    {
     "data": {
      "text/plain": [
       "1.150049f-5"
      ]
     },
     "metadata": {},
     "output_type": "display_data"
    },
    {
     "name": "stderr",
     "output_type": "stream",
     "text": [
      "\r",
      "\u001b[32mloss: 1.15e-05:  21%|████████▋                                |  ETA: 0:01:49\u001b[39m"
     ]
    },
    {
     "data": {
      "text/plain": [
       "1.47947585f-5"
      ]
     },
     "metadata": {},
     "output_type": "display_data"
    },
    {
     "data": {
      "text/plain": [
       "1.6474776f-5"
      ]
     },
     "metadata": {},
     "output_type": "display_data"
    },
    {
     "name": "stderr",
     "output_type": "stream",
     "text": [
      "\r",
      "\u001b[32mloss: 1.65e-05:  22%|█████████                                |  ETA: 0:01:43\u001b[39m"
     ]
    },
    {
     "data": {
      "text/plain": [
       "1.479121f-5"
      ]
     },
     "metadata": {},
     "output_type": "display_data"
    },
    {
     "data": {
      "text/plain": [
       "1.127631f-5"
      ]
     },
     "metadata": {},
     "output_type": "display_data"
    },
    {
     "name": "stderr",
     "output_type": "stream",
     "text": [
      "\r",
      "\u001b[32mloss: 1.13e-05:  23%|█████████▍                               |  ETA: 0:01:38\u001b[39m"
     ]
    },
    {
     "data": {
      "text/plain": [
       "8.883134f-6"
      ]
     },
     "metadata": {},
     "output_type": "display_data"
    },
    {
     "name": "stderr",
     "output_type": "stream",
     "text": [
      "\r",
      "\u001b[32mloss: 8.88e-06:  24%|█████████▋                               |  ETA: 0:01:36\u001b[39m"
     ]
    },
    {
     "data": {
      "text/plain": [
       "8.927651f-6"
      ]
     },
     "metadata": {},
     "output_type": "display_data"
    },
    {
     "name": "stderr",
     "output_type": "stream",
     "text": [
      "\r",
      "\u001b[32mloss: 8.93e-06:  24%|█████████▉                               |  ETA: 0:01:34\u001b[39m"
     ]
    },
    {
     "data": {
      "text/plain": [
       "1.0307862f-5"
      ]
     },
     "metadata": {},
     "output_type": "display_data"
    },
    {
     "data": {
      "text/plain": [
       "1.1296413f-5"
      ]
     },
     "metadata": {},
     "output_type": "display_data"
    },
    {
     "name": "stderr",
     "output_type": "stream",
     "text": [
      "\r",
      "\u001b[32mloss: 1.13e-05:  25%|██████████▎                              |  ETA: 0:01:29\u001b[39m"
     ]
    },
    {
     "data": {
      "text/plain": [
       "1.1151266f-5"
      ]
     },
     "metadata": {},
     "output_type": "display_data"
    },
    {
     "name": "stderr",
     "output_type": "stream",
     "text": [
      "\r",
      "\u001b[32mloss: 1.12e-05:  26%|██████████▌                              |  ETA: 0:01:27\u001b[39m"
     ]
    },
    {
     "data": {
      "text/plain": [
       "1.0121817f-5"
      ]
     },
     "metadata": {},
     "output_type": "display_data"
    },
    {
     "data": {
      "text/plain": [
       "8.921258f-6"
      ]
     },
     "metadata": {},
     "output_type": "display_data"
    },
    {
     "name": "stderr",
     "output_type": "stream",
     "text": [
      "\r",
      "\u001b[32mloss: 8.92e-06:  26%|██████████▉                              |  ETA: 0:01:24\u001b[39m"
     ]
    },
    {
     "data": {
      "text/plain": [
       "8.1569415f-6"
      ]
     },
     "metadata": {},
     "output_type": "display_data"
    },
    {
     "name": "stderr",
     "output_type": "stream",
     "text": [
      "\r",
      "\u001b[32mloss: 8.16e-06:  27%|███████████▏                             |  ETA: 0:01:22\u001b[39m"
     ]
    },
    {
     "data": {
      "text/plain": [
       "8.008127f-6"
      ]
     },
     "metadata": {},
     "output_type": "display_data"
    },
    {
     "name": "stderr",
     "output_type": "stream",
     "text": [
      "\r",
      "\u001b[32mloss: 8.01e-06:  28%|███████████▎                             |  ETA: 0:01:20\u001b[39m"
     ]
    },
    {
     "data": {
      "text/plain": [
       "8.334906f-6"
      ]
     },
     "metadata": {},
     "output_type": "display_data"
    },
    {
     "name": "stderr",
     "output_type": "stream",
     "text": [
      "\r",
      "\u001b[32mloss: 8.33e-06:  28%|███████████▌                             |  ETA: 0:01:19\u001b[39m"
     ]
    },
    {
     "data": {
      "text/plain": [
       "8.727553f-6"
      ]
     },
     "metadata": {},
     "output_type": "display_data"
    },
    {
     "name": "stderr",
     "output_type": "stream",
     "text": [
      "\r",
      "\u001b[32mloss: 8.73e-06:  28%|███████████▋                             |  ETA: 0:01:17\u001b[39m"
     ]
    },
    {
     "data": {
      "text/plain": [
       "8.719068f-6"
      ]
     },
     "metadata": {},
     "output_type": "display_data"
    },
    {
     "data": {
      "text/plain": [
       "8.1742755f-6"
      ]
     },
     "metadata": {},
     "output_type": "display_data"
    },
    {
     "name": "stderr",
     "output_type": "stream",
     "text": [
      "\r",
      "\u001b[32mloss: 8.17e-06:  30%|████████████▏                            |  ETA: 0:01:14\u001b[39m"
     ]
    },
    {
     "data": {
      "text/plain": [
       "7.4018362f-6"
      ]
     },
     "metadata": {},
     "output_type": "display_data"
    },
    {
     "name": "stderr",
     "output_type": "stream",
     "text": [
      "\r",
      "\u001b[32mloss: 7.4e-06:  30%|████████████▎                            |  ETA: 0:01:12\u001b[39m"
     ]
    },
    {
     "data": {
      "text/plain": [
       "6.917285f-6"
      ]
     },
     "metadata": {},
     "output_type": "display_data"
    },
    {
     "name": "stderr",
     "output_type": "stream",
     "text": [
      "\r",
      "\u001b[32mloss: 6.92e-06:  30%|████████████▌                            |  ETA: 0:01:11\u001b[39m"
     ]
    },
    {
     "data": {
      "text/plain": [
       "6.959851f-6"
      ]
     },
     "metadata": {},
     "output_type": "display_data"
    },
    {
     "name": "stderr",
     "output_type": "stream",
     "text": [
      "\r",
      "\u001b[32mloss: 6.96e-06:  31%|████████████▊                            |  ETA: 0:01:09\u001b[39m"
     ]
    },
    {
     "data": {
      "text/plain": [
       "7.2805415f-6"
      ]
     },
     "metadata": {},
     "output_type": "display_data"
    },
    {
     "data": {
      "text/plain": [
       "7.4321515f-6"
      ]
     },
     "metadata": {},
     "output_type": "display_data"
    },
    {
     "name": "stderr",
     "output_type": "stream",
     "text": [
      "\r",
      "\u001b[32mloss: 7.43e-06:  32%|█████████████▏                           |  ETA: 0:01:07\u001b[39m"
     ]
    },
    {
     "data": {
      "text/plain": [
       "7.15809f-6"
      ]
     },
     "metadata": {},
     "output_type": "display_data"
    },
    {
     "name": "stderr",
     "output_type": "stream",
     "text": [
      "\r",
      "\u001b[32mloss: 7.16e-06:  32%|█████████████▍                           |  ETA: 0:01:05\u001b[39m"
     ]
    },
    {
     "data": {
      "text/plain": [
       "6.6160123f-6"
      ]
     },
     "metadata": {},
     "output_type": "display_data"
    },
    {
     "data": {
      "text/plain": [
       "6.2121353f-6"
      ]
     },
     "metadata": {},
     "output_type": "display_data"
    },
    {
     "name": "stderr",
     "output_type": "stream",
     "text": [
      "\r",
      "\u001b[32mloss: 6.21e-06:  34%|█████████████▊                           |  ETA: 0:01:03\u001b[39m"
     ]
    },
    {
     "data": {
      "text/plain": [
       "6.1843334f-6"
      ]
     },
     "metadata": {},
     "output_type": "display_data"
    },
    {
     "name": "stderr",
     "output_type": "stream",
     "text": [
      "\r",
      "\u001b[32mloss: 6.18e-06:  34%|██████████████                           |  ETA: 0:01:02\u001b[39m"
     ]
    },
    {
     "data": {
      "text/plain": [
       "6.370786f-6"
      ]
     },
     "metadata": {},
     "output_type": "display_data"
    },
    {
     "name": "stderr",
     "output_type": "stream",
     "text": [
      "\r",
      "\u001b[32mloss: 6.37e-06:  34%|██████████████▏                          |  ETA: 0:01:01\u001b[39m"
     ]
    },
    {
     "data": {
      "text/plain": [
       "6.4227834f-6"
      ]
     },
     "metadata": {},
     "output_type": "display_data"
    },
    {
     "name": "stderr",
     "output_type": "stream",
     "text": [
      "\r",
      "\u001b[32mloss: 6.42e-06:  35%|██████████████▍                          |  ETA: 0:01:00\u001b[39m"
     ]
    },
    {
     "data": {
      "text/plain": [
       "6.2039326f-6"
      ]
     },
     "metadata": {},
     "output_type": "display_data"
    },
    {
     "name": "stderr",
     "output_type": "stream",
     "text": [
      "\r",
      "\u001b[32mloss: 6.2e-06:  36%|██████████████▌                          |  ETA: 0:00:58\u001b[39m"
     ]
    },
    {
     "data": {
      "text/plain": [
       "5.8885353f-6"
      ]
     },
     "metadata": {},
     "output_type": "display_data"
    },
    {
     "name": "stderr",
     "output_type": "stream",
     "text": [
      "\r",
      "\u001b[32mloss: 5.89e-06:  36%|██████████████▊                          |  ETA: 0:00:57\u001b[39m"
     ]
    },
    {
     "data": {
      "text/plain": [
       "5.6907656f-6"
      ]
     },
     "metadata": {},
     "output_type": "display_data"
    },
    {
     "name": "stderr",
     "output_type": "stream",
     "text": [
      "\r",
      "\u001b[32mloss: 5.69e-06:  36%|███████████████                          |  ETA: 0:00:56\u001b[39m"
     ]
    },
    {
     "data": {
      "text/plain": [
       "5.62701f-6"
      ]
     },
     "metadata": {},
     "output_type": "display_data"
    },
    {
     "data": {
      "text/plain": [
       "5.6108415f-6"
      ]
     },
     "metadata": {},
     "output_type": "display_data"
    },
    {
     "name": "stderr",
     "output_type": "stream",
     "text": [
      "\r",
      "\u001b[32mloss: 5.61e-06:  38%|███████████████▍                         |  ETA: 0:00:54\u001b[39m"
     ]
    },
    {
     "data": {
      "text/plain": [
       "5.58488f-6"
      ]
     },
     "metadata": {},
     "output_type": "display_data"
    },
    {
     "data": {
      "text/plain": [
       "5.497372f-6"
      ]
     },
     "metadata": {},
     "output_type": "display_data"
    },
    {
     "name": "stderr",
     "output_type": "stream",
     "text": [
      "\r",
      "\u001b[32mloss: 5.5e-06:  38%|███████████████▊                         |  ETA: 0:00:52\u001b[39m"
     ]
    },
    {
     "data": {
      "text/plain": [
       "5.329891f-6"
      ]
     },
     "metadata": {},
     "output_type": "display_data"
    },
    {
     "data": {
      "text/plain": [
       "5.14587f-6"
      ]
     },
     "metadata": {},
     "output_type": "display_data"
    },
    {
     "name": "stderr",
     "output_type": "stream",
     "text": [
      "\r",
      "\u001b[32mloss: 5.15e-06:  40%|████████████████▎                        |  ETA: 0:00:50\u001b[39m"
     ]
    },
    {
     "data": {
      "text/plain": [
       "5.0394538f-6"
      ]
     },
     "metadata": {},
     "output_type": "display_data"
    },
    {
     "data": {
      "text/plain": [
       "5.019749f-6"
      ]
     },
     "metadata": {},
     "output_type": "display_data"
    },
    {
     "name": "stderr",
     "output_type": "stream",
     "text": [
      "\r",
      "\u001b[32mloss: 5.02e-06:  40%|████████████████▋                        |  ETA: 0:00:49\u001b[39m"
     ]
    },
    {
     "data": {
      "text/plain": [
       "4.998457f-6"
      ]
     },
     "metadata": {},
     "output_type": "display_data"
    },
    {
     "name": "stderr",
     "output_type": "stream",
     "text": [
      "\r",
      "\u001b[32mloss: 5e-06:  41%|████████████████▊                        |  ETA: 0:00:48\u001b[39m"
     ]
    },
    {
     "data": {
      "text/plain": [
       "4.905731f-6"
      ]
     },
     "metadata": {},
     "output_type": "display_data"
    },
    {
     "name": "stderr",
     "output_type": "stream",
     "text": [
      "\r",
      "\u001b[32mloss: 4.91e-06:  42%|█████████████████                        |  ETA: 0:00:47\u001b[39m"
     ]
    },
    {
     "data": {
      "text/plain": [
       "4.759759f-6"
      ]
     },
     "metadata": {},
     "output_type": "display_data"
    },
    {
     "data": {
      "text/plain": [
       "4.6266755f-6"
      ]
     },
     "metadata": {},
     "output_type": "display_data"
    },
    {
     "name": "stderr",
     "output_type": "stream",
     "text": [
      "\r",
      "\u001b[32mloss: 4.63e-06:  42%|█████████████████▍                       |  ETA: 0:00:45\u001b[39m"
     ]
    },
    {
     "data": {
      "text/plain": [
       "4.5524516f-6"
      ]
     },
     "metadata": {},
     "output_type": "display_data"
    },
    {
     "name": "stderr",
     "output_type": "stream",
     "text": [
      "\r",
      "\u001b[32mloss: 4.55e-06:  43%|█████████████████▋                       |  ETA: 0:00:45\u001b[39m"
     ]
    },
    {
     "data": {
      "text/plain": [
       "4.522536f-6"
      ]
     },
     "metadata": {},
     "output_type": "display_data"
    },
    {
     "data": {
      "text/plain": [
       "4.4737844f-6"
      ]
     },
     "metadata": {},
     "output_type": "display_data"
    },
    {
     "name": "stderr",
     "output_type": "stream",
     "text": [
      "\r",
      "\u001b[32mloss: 4.47e-06:  44%|██████████████████                       |  ETA: 0:00:43\u001b[39m"
     ]
    },
    {
     "data": {
      "text/plain": [
       "4.3725977f-6"
      ]
     },
     "metadata": {},
     "output_type": "display_data"
    },
    {
     "data": {
      "text/plain": [
       "4.2553966f-6"
      ]
     },
     "metadata": {},
     "output_type": "display_data"
    },
    {
     "name": "stderr",
     "output_type": "stream",
     "text": [
      "\r",
      "\u001b[32mloss: 4.26e-06:  45%|██████████████████▌                      |  ETA: 0:00:42\u001b[39m"
     ]
    },
    {
     "data": {
      "text/plain": [
       "4.169163f-6"
      ]
     },
     "metadata": {},
     "output_type": "display_data"
    },
    {
     "data": {
      "text/plain": [
       "4.1141843f-6"
      ]
     },
     "metadata": {},
     "output_type": "display_data"
    },
    {
     "name": "stderr",
     "output_type": "stream",
     "text": [
      "\r",
      "\u001b[32mloss: 4.11e-06:  46%|██████████████████▉                      |  ETA: 0:00:40\u001b[39m"
     ]
    },
    {
     "data": {
      "text/plain": [
       "4.0603677f-6"
      ]
     },
     "metadata": {},
     "output_type": "display_data"
    },
    {
     "data": {
      "text/plain": [
       "3.9880524f-6"
      ]
     },
     "metadata": {},
     "output_type": "display_data"
    },
    {
     "name": "stderr",
     "output_type": "stream",
     "text": [
      "\r",
      "\u001b[32mloss: 3.99e-06:  47%|███████████████████▎                     |  ETA: 0:00:39\u001b[39m"
     ]
    },
    {
     "data": {
      "text/plain": [
       "3.9030674f-6"
      ]
     },
     "metadata": {},
     "output_type": "display_data"
    },
    {
     "name": "stderr",
     "output_type": "stream",
     "text": [
      "\r",
      "\u001b[32mloss: 3.9e-06:  48%|███████████████████▌                     |  ETA: 0:00:38\u001b[39m"
     ]
    },
    {
     "data": {
      "text/plain": [
       "3.8211488f-6"
      ]
     },
     "metadata": {},
     "output_type": "display_data"
    },
    {
     "name": "stderr",
     "output_type": "stream",
     "text": [
      "\r",
      "\u001b[32mloss: 3.82e-06:  48%|███████████████████▋                     |  ETA: 0:00:38\u001b[39m"
     ]
    },
    {
     "data": {
      "text/plain": [
       "3.7490588f-6"
      ]
     },
     "metadata": {},
     "output_type": "display_data"
    },
    {
     "data": {
      "text/plain": [
       "3.6872295f-6"
      ]
     },
     "metadata": {},
     "output_type": "display_data"
    },
    {
     "name": "stderr",
     "output_type": "stream",
     "text": [
      "\r",
      "\u001b[32mloss: 3.69e-06:  49%|████████████████████▏                    |  ETA: 0:00:36\u001b[39m"
     ]
    },
    {
     "data": {
      "text/plain": [
       "3.6302074f-6"
      ]
     },
     "metadata": {},
     "output_type": "display_data"
    },
    {
     "name": "stderr",
     "output_type": "stream",
     "text": [
      "\r",
      "\u001b[32mloss: 3.63e-06:  50%|████████████████████▎                    |  ETA: 0:00:36\u001b[39m"
     ]
    },
    {
     "data": {
      "text/plain": [
       "3.5645141f-6"
      ]
     },
     "metadata": {},
     "output_type": "display_data"
    },
    {
     "data": {
      "text/plain": [
       "3.4875854f-6"
      ]
     },
     "metadata": {},
     "output_type": "display_data"
    },
    {
     "name": "stderr",
     "output_type": "stream",
     "text": [
      "\r",
      "\u001b[32mloss: 3.49e-06:  50%|████████████████████▊                    |  ETA: 0:00:34\u001b[39m"
     ]
    },
    {
     "data": {
      "text/plain": [
       "3.4137365f-6"
      ]
     },
     "metadata": {},
     "output_type": "display_data"
    },
    {
     "data": {
      "text/plain": [
       "3.3529996f-6"
      ]
     },
     "metadata": {},
     "output_type": "display_data"
    },
    {
     "name": "stderr",
     "output_type": "stream",
     "text": [
      "\r",
      "\u001b[32mloss: 3.35e-06:  52%|█████████████████████▏                   |  ETA: 0:00:33\u001b[39m"
     ]
    },
    {
     "data": {
      "text/plain": [
       "3.2993207f-6"
      ]
     },
     "metadata": {},
     "output_type": "display_data"
    },
    {
     "data": {
      "text/plain": [
       "3.2397145f-6"
      ]
     },
     "metadata": {},
     "output_type": "display_data"
    },
    {
     "name": "stderr",
     "output_type": "stream",
     "text": [
      "\r",
      "\u001b[32mloss: 3.24e-06:  52%|█████████████████████▌                   |  ETA: 0:00:32\u001b[39m"
     ]
    },
    {
     "data": {
      "text/plain": [
       "3.1713755f-6"
      ]
     },
     "metadata": {},
     "output_type": "display_data"
    },
    {
     "name": "stderr",
     "output_type": "stream",
     "text": [
      "\r",
      "\u001b[32mloss: 3.17e-06:  53%|█████████████████████▊                   |  ETA: 0:00:32\u001b[39m"
     ]
    },
    {
     "data": {
      "text/plain": [
       "3.1041202f-6"
      ]
     },
     "metadata": {},
     "output_type": "display_data"
    },
    {
     "data": {
      "text/plain": [
       "3.045373f-6"
      ]
     },
     "metadata": {},
     "output_type": "display_data"
    },
    {
     "name": "stderr",
     "output_type": "stream",
     "text": [
      "\r",
      "\u001b[32mloss: 3.05e-06:  54%|██████████████████████▏                  |  ETA: 0:00:31\u001b[39m"
     ]
    },
    {
     "data": {
      "text/plain": [
       "2.9917485f-6"
      ]
     },
     "metadata": {},
     "output_type": "display_data"
    },
    {
     "data": {
      "text/plain": [
       "2.9357955f-6"
      ]
     },
     "metadata": {},
     "output_type": "display_data"
    },
    {
     "name": "stderr",
     "output_type": "stream",
     "text": [
      "\r",
      "\u001b[32mloss: 2.94e-06:  55%|██████████████████████▌                  |  ETA: 0:00:29\u001b[39m"
     ]
    },
    {
     "data": {
      "text/plain": [
       "2.874836f-6"
      ]
     },
     "metadata": {},
     "output_type": "display_data"
    },
    {
     "data": {
      "text/plain": [
       "2.8142779f-6"
      ]
     },
     "metadata": {},
     "output_type": "display_data"
    },
    {
     "name": "stderr",
     "output_type": "stream",
     "text": [
      "\r",
      "\u001b[32mloss: 2.81e-06:  56%|███████████████████████                  |  ETA: 0:00:28\u001b[39m"
     ]
    },
    {
     "data": {
      "text/plain": [
       "2.7586323f-6"
      ]
     },
     "metadata": {},
     "output_type": "display_data"
    },
    {
     "name": "stderr",
     "output_type": "stream",
     "text": [
      "\r",
      "\u001b[32mloss: 2.76e-06:  56%|███████████████████████▏                 |  ETA: 0:00:28\u001b[39m"
     ]
    },
    {
     "data": {
      "text/plain": [
       "2.706147f-6"
      ]
     },
     "metadata": {},
     "output_type": "display_data"
    },
    {
     "data": {
      "text/plain": [
       "2.653074f-6"
      ]
     },
     "metadata": {},
     "output_type": "display_data"
    },
    {
     "name": "stderr",
     "output_type": "stream",
     "text": [
      "\r",
      "\u001b[32mloss: 2.65e-06:  58%|███████████████████████▋                 |  ETA: 0:00:27\u001b[39m"
     ]
    },
    {
     "data": {
      "text/plain": [
       "2.598239f-6"
      ]
     },
     "metadata": {},
     "output_type": "display_data"
    },
    {
     "data": {
      "text/plain": [
       "2.5433728f-6"
      ]
     },
     "metadata": {},
     "output_type": "display_data"
    },
    {
     "name": "stderr",
     "output_type": "stream",
     "text": [
      "\r",
      "\u001b[32mloss: 2.54e-06:  58%|████████████████████████                 |  ETA: 0:00:26\u001b[39m"
     ]
    },
    {
     "data": {
      "text/plain": [
       "2.490653f-6"
      ]
     },
     "metadata": {},
     "output_type": "display_data"
    },
    {
     "data": {
      "text/plain": [
       "2.4403673f-6"
      ]
     },
     "metadata": {},
     "output_type": "display_data"
    },
    {
     "name": "stderr",
     "output_type": "stream",
     "text": [
      "\r",
      "\u001b[32mloss: 2.44e-06:  60%|████████████████████████▍                |  ETA: 0:00:25\u001b[39m"
     ]
    },
    {
     "data": {
      "text/plain": [
       "2.391104f-6"
      ]
     },
     "metadata": {},
     "output_type": "display_data"
    },
    {
     "name": "stderr",
     "output_type": "stream",
     "text": [
      "\r",
      "\u001b[32mloss: 2.39e-06:  60%|████████████████████████▋                |  ETA: 0:00:25\u001b[39m"
     ]
    },
    {
     "data": {
      "text/plain": [
       "2.340986f-6"
      ]
     },
     "metadata": {},
     "output_type": "display_data"
    },
    {
     "data": {
      "text/plain": [
       "2.2901124f-6"
      ]
     },
     "metadata": {},
     "output_type": "display_data"
    },
    {
     "name": "stderr",
     "output_type": "stream",
     "text": [
      "\r",
      "\u001b[32mloss: 2.29e-06:  61%|█████████████████████████                |  ETA: 0:00:24\u001b[39m"
     ]
    },
    {
     "data": {
      "text/plain": [
       "2.2408872f-6"
      ]
     },
     "metadata": {},
     "output_type": "display_data"
    },
    {
     "data": {
      "text/plain": [
       "2.1943083f-6"
      ]
     },
     "metadata": {},
     "output_type": "display_data"
    },
    {
     "name": "stderr",
     "output_type": "stream",
     "text": [
      "\r",
      "\u001b[32mloss: 2.19e-06:  62%|█████████████████████████▍               |  ETA: 0:00:23\u001b[39m"
     ]
    },
    {
     "data": {
      "text/plain": [
       "2.1482697f-6"
      ]
     },
     "metadata": {},
     "output_type": "display_data"
    },
    {
     "data": {
      "text/plain": [
       "2.1013623f-6"
      ]
     },
     "metadata": {},
     "output_type": "display_data"
    },
    {
     "name": "stderr",
     "output_type": "stream",
     "text": [
      "\r",
      "\u001b[32mloss: 2.1e-06:  63%|█████████████████████████▉               |  ETA: 0:00:22\u001b[39m"
     ]
    },
    {
     "data": {
      "text/plain": [
       "2.0546147f-6"
      ]
     },
     "metadata": {},
     "output_type": "display_data"
    },
    {
     "data": {
      "text/plain": [
       "2.009677f-6"
      ]
     },
     "metadata": {},
     "output_type": "display_data"
    },
    {
     "name": "stderr",
     "output_type": "stream",
     "text": [
      "\r",
      "\u001b[32mloss: 2.01e-06:  64%|██████████████████████████▎              |  ETA: 0:00:21\u001b[39m"
     ]
    },
    {
     "data": {
      "text/plain": [
       "1.9661943f-6"
      ]
     },
     "metadata": {},
     "output_type": "display_data"
    },
    {
     "data": {
      "text/plain": [
       "1.9229283f-6"
      ]
     },
     "metadata": {},
     "output_type": "display_data"
    },
    {
     "name": "stderr",
     "output_type": "stream",
     "text": [
      "\r",
      "\u001b[32mloss: 1.92e-06:  65%|██████████████████████████▋              |  ETA: 0:00:20\u001b[39m"
     ]
    },
    {
     "data": {
      "text/plain": [
       "1.8796575f-6"
      ]
     },
     "metadata": {},
     "output_type": "display_data"
    },
    {
     "data": {
      "text/plain": [
       "1.8369683f-6"
      ]
     },
     "metadata": {},
     "output_type": "display_data"
    },
    {
     "name": "stderr",
     "output_type": "stream",
     "text": [
      "\r",
      "\u001b[32mloss: 1.84e-06:  66%|███████████████████████████              |  ETA: 0:00:20\u001b[39m"
     ]
    },
    {
     "data": {
      "text/plain": [
       "1.7955293f-6"
      ]
     },
     "metadata": {},
     "output_type": "display_data"
    },
    {
     "data": {
      "text/plain": [
       "1.7550684f-6"
      ]
     },
     "metadata": {},
     "output_type": "display_data"
    },
    {
     "name": "stderr",
     "output_type": "stream",
     "text": [
      "\r",
      "\u001b[32mloss: 1.76e-06:  67%|███████████████████████████▌             |  ETA: 0:00:19\u001b[39m"
     ]
    },
    {
     "data": {
      "text/plain": [
       "1.7149447f-6"
      ]
     },
     "metadata": {},
     "output_type": "display_data"
    },
    {
     "data": {
      "text/plain": [
       "1.6752017f-6"
      ]
     },
     "metadata": {},
     "output_type": "display_data"
    },
    {
     "name": "stderr",
     "output_type": "stream",
     "text": [
      "\r",
      "\u001b[32mloss: 1.68e-06:  68%|███████████████████████████▉             |  ETA: 0:00:18\u001b[39m"
     ]
    },
    {
     "data": {
      "text/plain": [
       "1.6361206f-6"
      ]
     },
     "metadata": {},
     "output_type": "display_data"
    },
    {
     "data": {
      "text/plain": [
       "1.597932f-6"
      ]
     },
     "metadata": {},
     "output_type": "display_data"
    },
    {
     "name": "stderr",
     "output_type": "stream",
     "text": [
      "\r",
      "\u001b[32mloss: 1.6e-06:  69%|████████████████████████████▎            |  ETA: 0:00:17\u001b[39m"
     ]
    },
    {
     "data": {
      "text/plain": [
       "1.5605393f-6"
      ]
     },
     "metadata": {},
     "output_type": "display_data"
    },
    {
     "data": {
      "text/plain": [
       "1.5236652f-6"
      ]
     },
     "metadata": {},
     "output_type": "display_data"
    },
    {
     "name": "stderr",
     "output_type": "stream",
     "text": [
      "\r",
      "\u001b[32mloss: 1.52e-06:  70%|████████████████████████████▊            |  ETA: 0:00:17\u001b[39m"
     ]
    },
    {
     "data": {
      "text/plain": [
       "1.4871998f-6"
      ]
     },
     "metadata": {},
     "output_type": "display_data"
    },
    {
     "name": "stderr",
     "output_type": "stream",
     "text": [
      "\r",
      "\u001b[32mloss: 1.49e-06:  70%|████████████████████████████▉            |  ETA: 0:00:16\u001b[39m"
     ]
    },
    {
     "data": {
      "text/plain": [
       "1.4513423f-6"
      ]
     },
     "metadata": {},
     "output_type": "display_data"
    },
    {
     "data": {
      "text/plain": [
       "1.4163647f-6"
      ]
     },
     "metadata": {},
     "output_type": "display_data"
    },
    {
     "name": "stderr",
     "output_type": "stream",
     "text": [
      "\r",
      "\u001b[32mloss: 1.42e-06:  72%|█████████████████████████████▍           |  ETA: 0:00:16\u001b[39m"
     ]
    },
    {
     "data": {
      "text/plain": [
       "1.3821204f-6"
      ]
     },
     "metadata": {},
     "output_type": "display_data"
    },
    {
     "data": {
      "text/plain": [
       "1.34824f-6"
      ]
     },
     "metadata": {},
     "output_type": "display_data"
    },
    {
     "name": "stderr",
     "output_type": "stream",
     "text": [
      "\r",
      "\u001b[32mloss: 1.35e-06:  72%|█████████████████████████████▊           |  ETA: 0:00:15\u001b[39m"
     ]
    },
    {
     "data": {
      "text/plain": [
       "1.3148365f-6"
      ]
     },
     "metadata": {},
     "output_type": "display_data"
    },
    {
     "name": "stderr",
     "output_type": "stream",
     "text": [
      "\r",
      "\u001b[32mloss: 1.31e-06:  73%|█████████████████████████████▉           |  ETA: 0:00:15\u001b[39m"
     ]
    },
    {
     "data": {
      "text/plain": [
       "1.2822301f-6"
      ]
     },
     "metadata": {},
     "output_type": "display_data"
    },
    {
     "name": "stderr",
     "output_type": "stream",
     "text": [
      "\r",
      "\u001b[32mloss: 1.28e-06:  74%|██████████████████████████████▏          |  ETA: 0:00:14\u001b[39m"
     ]
    },
    {
     "data": {
      "text/plain": [
       "1.250333f-6"
      ]
     },
     "metadata": {},
     "output_type": "display_data"
    },
    {
     "name": "stderr",
     "output_type": "stream",
     "text": [
      "\r",
      "\u001b[32mloss: 1.25e-06:  74%|██████████████████████████████▍          |  ETA: 0:00:14\u001b[39m"
     ]
    },
    {
     "data": {
      "text/plain": [
       "1.2189577f-6"
      ]
     },
     "metadata": {},
     "output_type": "display_data"
    },
    {
     "name": "stderr",
     "output_type": "stream",
     "text": [
      "\r",
      "\u001b[32mloss: 1.22e-06:  74%|██████████████████████████████▌          |  ETA: 0:00:14\u001b[39m"
     ]
    },
    {
     "data": {
      "text/plain": [
       "1.1880069f-6"
      ]
     },
     "metadata": {},
     "output_type": "display_data"
    },
    {
     "data": {
      "text/plain": [
       "1.1576964f-6"
      ]
     },
     "metadata": {},
     "output_type": "display_data"
    },
    {
     "name": "stderr",
     "output_type": "stream",
     "text": [
      "\r",
      "\u001b[32mloss: 1.16e-06:  76%|███████████████████████████████          |  ETA: 0:00:13\u001b[39m"
     ]
    },
    {
     "data": {
      "text/plain": [
       "1.1280503f-6"
      ]
     },
     "metadata": {},
     "output_type": "display_data"
    },
    {
     "name": "stderr",
     "output_type": "stream",
     "text": [
      "\r",
      "\u001b[32mloss: 1.13e-06:  76%|███████████████████████████████▏         |  ETA: 0:00:13\u001b[39m"
     ]
    },
    {
     "data": {
      "text/plain": [
       "1.098994f-6"
      ]
     },
     "metadata": {},
     "output_type": "display_data"
    },
    {
     "name": "stderr",
     "output_type": "stream",
     "text": [
      "\r",
      "\u001b[32mloss: 1.1e-06:  76%|███████████████████████████████▍         |  ETA: 0:00:12\u001b[39m"
     ]
    },
    {
     "data": {
      "text/plain": [
       "1.0703977f-6"
      ]
     },
     "metadata": {},
     "output_type": "display_data"
    },
    {
     "data": {
      "text/plain": [
       "1.0423508f-6"
      ]
     },
     "metadata": {},
     "output_type": "display_data"
    },
    {
     "name": "stderr",
     "output_type": "stream",
     "text": [
      "\r",
      "\u001b[32mloss: 1.04e-06:  78%|███████████████████████████████▊         |  ETA: 0:00:12\u001b[39m"
     ]
    },
    {
     "data": {
      "text/plain": [
       "1.0149113f-6"
      ]
     },
     "metadata": {},
     "output_type": "display_data"
    },
    {
     "data": {
      "text/plain": [
       "9.88039f-7"
      ]
     },
     "metadata": {},
     "output_type": "display_data"
    },
    {
     "name": "stderr",
     "output_type": "stream",
     "text": [
      "\r",
      "\u001b[32mloss: 9.88e-07:  78%|████████████████████████████████▏        |  ETA: 0:00:11\u001b[39m"
     ]
    },
    {
     "data": {
      "text/plain": [
       "9.616895f-7"
      ]
     },
     "metadata": {},
     "output_type": "display_data"
    },
    {
     "data": {
      "text/plain": [
       "9.358563f-7"
      ]
     },
     "metadata": {},
     "output_type": "display_data"
    },
    {
     "name": "stderr",
     "output_type": "stream",
     "text": [
      "\r",
      "\u001b[32mloss: 9.36e-07:  80%|████████████████████████████████▋        |  ETA: 0:00:11\u001b[39m"
     ]
    },
    {
     "data": {
      "text/plain": [
       "9.105379f-7"
      ]
     },
     "metadata": {},
     "output_type": "display_data"
    },
    {
     "data": {
      "text/plain": [
       "8.8577275f-7"
      ]
     },
     "metadata": {},
     "output_type": "display_data"
    },
    {
     "name": "stderr",
     "output_type": "stream",
     "text": [
      "\r",
      "\u001b[32mloss: 8.86e-07:  80%|█████████████████████████████████        |  ETA: 0:00:10\u001b[39m"
     ]
    },
    {
     "data": {
      "text/plain": [
       "8.61548f-7"
      ]
     },
     "metadata": {},
     "output_type": "display_data"
    },
    {
     "data": {
      "text/plain": [
       "8.3778383f-7"
      ]
     },
     "metadata": {},
     "output_type": "display_data"
    },
    {
     "name": "stderr",
     "output_type": "stream",
     "text": [
      "\r",
      "\u001b[32mloss: 8.38e-07:  82%|█████████████████████████████████▍       |  ETA: 0:00:09\u001b[39m"
     ]
    },
    {
     "data": {
      "text/plain": [
       "8.145192f-7"
      ]
     },
     "metadata": {},
     "output_type": "display_data"
    },
    {
     "data": {
      "text/plain": [
       "7.9176f-7"
      ]
     },
     "metadata": {},
     "output_type": "display_data"
    },
    {
     "name": "stderr",
     "output_type": "stream",
     "text": [
      "\r",
      "\u001b[32mloss: 7.92e-07:  82%|█████████████████████████████████▉       |  ETA: 0:00:09\u001b[39m"
     ]
    },
    {
     "data": {
      "text/plain": [
       "7.6953313f-7"
      ]
     },
     "metadata": {},
     "output_type": "display_data"
    },
    {
     "data": {
      "text/plain": [
       "7.4775915f-7"
      ]
     },
     "metadata": {},
     "output_type": "display_data"
    },
    {
     "name": "stderr",
     "output_type": "stream",
     "text": [
      "\r",
      "\u001b[32mloss: 7.48e-07:  84%|██████████████████████████████████▎      |  ETA: 0:00:08\u001b[39m"
     ]
    },
    {
     "data": {
      "text/plain": [
       "7.2644156f-7"
      ]
     },
     "metadata": {},
     "output_type": "display_data"
    },
    {
     "data": {
      "text/plain": [
       "7.0564136f-7"
      ]
     },
     "metadata": {},
     "output_type": "display_data"
    },
    {
     "name": "stderr",
     "output_type": "stream",
     "text": [
      "\r",
      "\u001b[32mloss: 7.06e-07:  84%|██████████████████████████████████▋      |  ETA: 0:00:08\u001b[39m"
     ]
    },
    {
     "data": {
      "text/plain": [
       "6.852942f-7"
      ]
     },
     "metadata": {},
     "output_type": "display_data"
    },
    {
     "data": {
      "text/plain": [
       "6.654133f-7"
      ]
     },
     "metadata": {},
     "output_type": "display_data"
    },
    {
     "name": "stderr",
     "output_type": "stream",
     "text": [
      "\r",
      "\u001b[32mloss: 6.65e-07:  86%|███████████████████████████████████      |  ETA: 0:00:07\u001b[39m"
     ]
    },
    {
     "data": {
      "text/plain": [
       "6.4597043f-7"
      ]
     },
     "metadata": {},
     "output_type": "display_data"
    },
    {
     "data": {
      "text/plain": [
       "6.2697495f-7"
      ]
     },
     "metadata": {},
     "output_type": "display_data"
    },
    {
     "name": "stderr",
     "output_type": "stream",
     "text": [
      "\r",
      "\u001b[32mloss: 6.27e-07:  86%|███████████████████████████████████▌     |  ETA: 0:00:07\u001b[39m"
     ]
    },
    {
     "data": {
      "text/plain": [
       "6.084403f-7"
      ]
     },
     "metadata": {},
     "output_type": "display_data"
    },
    {
     "data": {
      "text/plain": [
       "5.9032584f-7"
      ]
     },
     "metadata": {},
     "output_type": "display_data"
    },
    {
     "name": "stderr",
     "output_type": "stream",
     "text": [
      "\r",
      "\u001b[32mloss: 5.9e-07:  88%|███████████████████████████████████▉     |  ETA: 0:00:06\u001b[39m"
     ]
    },
    {
     "data": {
      "text/plain": [
       "5.726328f-7"
      ]
     },
     "metadata": {},
     "output_type": "display_data"
    },
    {
     "data": {
      "text/plain": [
       "5.5536503f-7"
      ]
     },
     "metadata": {},
     "output_type": "display_data"
    },
    {
     "name": "stderr",
     "output_type": "stream",
     "text": [
      "\r",
      "\u001b[32mloss: 5.55e-07:  88%|████████████████████████████████████▎    |  ETA: 0:00:05\u001b[39m"
     ]
    },
    {
     "data": {
      "text/plain": [
       "5.3851943f-7"
      ]
     },
     "metadata": {},
     "output_type": "display_data"
    },
    {
     "data": {
      "text/plain": [
       "5.220962f-7"
      ]
     },
     "metadata": {},
     "output_type": "display_data"
    },
    {
     "name": "stderr",
     "output_type": "stream",
     "text": [
      "\r",
      "\u001b[32mloss: 5.22e-07:  90%|████████████████████████████████████▊    |  ETA: 0:00:05\u001b[39m"
     ]
    },
    {
     "data": {
      "text/plain": [
       "5.060496f-7"
      ]
     },
     "metadata": {},
     "output_type": "display_data"
    },
    {
     "data": {
      "text/plain": [
       "4.9041756f-7"
      ]
     },
     "metadata": {},
     "output_type": "display_data"
    },
    {
     "name": "stderr",
     "output_type": "stream",
     "text": [
      "\r",
      "\u001b[32mloss: 4.9e-07:  90%|█████████████████████████████████████▏   |  ETA: 0:00:04\u001b[39m"
     ]
    },
    {
     "data": {
      "text/plain": [
       "4.751596f-7"
      ]
     },
     "metadata": {},
     "output_type": "display_data"
    },
    {
     "data": {
      "text/plain": [
       "4.6030874f-7"
      ]
     },
     "metadata": {},
     "output_type": "display_data"
    },
    {
     "name": "stderr",
     "output_type": "stream",
     "text": [
      "\r",
      "\u001b[32mloss: 4.6e-07:  92%|█████████████████████████████████████▌   |  ETA: 0:00:04\u001b[39m"
     ]
    },
    {
     "data": {
      "text/plain": [
       "4.4582703f-7"
      ]
     },
     "metadata": {},
     "output_type": "display_data"
    },
    {
     "data": {
      "text/plain": [
       "4.3170084f-7"
      ]
     },
     "metadata": {},
     "output_type": "display_data"
    },
    {
     "name": "stderr",
     "output_type": "stream",
     "text": [
      "\r",
      "\u001b[32mloss: 4.32e-07:  92%|█████████████████████████████████████▉   |  ETA: 0:00:03\u001b[39m"
     ]
    },
    {
     "data": {
      "text/plain": [
       "4.1795414f-7"
      ]
     },
     "metadata": {},
     "output_type": "display_data"
    },
    {
     "data": {
      "text/plain": [
       "4.045597f-7"
      ]
     },
     "metadata": {},
     "output_type": "display_data"
    },
    {
     "name": "stderr",
     "output_type": "stream",
     "text": [
      "\r",
      "\u001b[32mloss: 4.05e-07:  94%|██████████████████████████████████████▍  |  ETA: 0:00:03\u001b[39m"
     ]
    },
    {
     "data": {
      "text/plain": [
       "3.9151064f-7"
      ]
     },
     "metadata": {},
     "output_type": "display_data"
    },
    {
     "data": {
      "text/plain": [
       "3.7880952f-7"
      ]
     },
     "metadata": {},
     "output_type": "display_data"
    },
    {
     "name": "stderr",
     "output_type": "stream",
     "text": [
      "\r",
      "\u001b[32mloss: 3.79e-07:  94%|██████████████████████████████████████▊  |  ETA: 0:00:03\u001b[39m"
     ]
    },
    {
     "data": {
      "text/plain": [
       "3.6645207f-7"
      ]
     },
     "metadata": {},
     "output_type": "display_data"
    },
    {
     "data": {
      "text/plain": [
       "3.5442886f-7"
      ]
     },
     "metadata": {},
     "output_type": "display_data"
    },
    {
     "name": "stderr",
     "output_type": "stream",
     "text": [
      "\r",
      "\u001b[32mloss: 3.54e-07:  96%|███████████████████████████████████████▏ |  ETA: 0:00:02\u001b[39m"
     ]
    },
    {
     "data": {
      "text/plain": [
       "3.4273316f-7"
      ]
     },
     "metadata": {},
     "output_type": "display_data"
    },
    {
     "data": {
      "text/plain": [
       "3.313497f-7"
      ]
     },
     "metadata": {},
     "output_type": "display_data"
    },
    {
     "name": "stderr",
     "output_type": "stream",
     "text": [
      "\r",
      "\u001b[32mloss: 3.31e-07:  96%|███████████████████████████████████████▋ |  ETA: 0:00:02\u001b[39m"
     ]
    },
    {
     "data": {
      "text/plain": [
       "3.2029607f-7"
      ]
     },
     "metadata": {},
     "output_type": "display_data"
    },
    {
     "data": {
      "text/plain": [
       "3.0952597f-7"
      ]
     },
     "metadata": {},
     "output_type": "display_data"
    },
    {
     "name": "stderr",
     "output_type": "stream",
     "text": [
      "\r",
      "\u001b[32mloss: 3.1e-07:  98%|████████████████████████████████████████ |  ETA: 0:00:01\u001b[39m"
     ]
    },
    {
     "data": {
      "text/plain": [
       "2.9907497f-7"
      ]
     },
     "metadata": {},
     "output_type": "display_data"
    },
    {
     "data": {
      "text/plain": [
       "2.8890992f-7"
      ]
     },
     "metadata": {},
     "output_type": "display_data"
    },
    {
     "name": "stderr",
     "output_type": "stream",
     "text": [
      "\r",
      "\u001b[32mloss: 2.89e-07:  98%|████████████████████████████████████████▍|  ETA: 0:00:01\u001b[39m"
     ]
    },
    {
     "data": {
      "text/plain": [
       "2.7903954f-7"
      ]
     },
     "metadata": {},
     "output_type": "display_data"
    },
    {
     "data": {
      "text/plain": [
       "2.6946637f-7"
      ]
     },
     "metadata": {},
     "output_type": "display_data"
    },
    {
     "name": "stderr",
     "output_type": "stream",
     "text": [
      "\r",
      "\u001b[32mloss: 2.69e-07: 100%|████████████████████████████████████████▊|  ETA: 0:00:00\u001b[39m"
     ]
    },
    {
     "data": {
      "text/plain": [
       "2.6014342f-7"
      ]
     },
     "metadata": {},
     "output_type": "display_data"
    },
    {
     "name": "stderr",
     "output_type": "stream",
     "text": [
      "\r",
      "\u001b[32mloss: 2.6e-07: 100%|█████████████████████████████████████████| Time: 0:00:43\u001b[39m\n"
     ]
    },
    {
     "data": {
      "text/plain": [
       "2.6014342f-7"
      ]
     },
     "metadata": {},
     "output_type": "display_data"
    },
    {
     "data": {
      "text/plain": [
       " * Status: failure (reached maximum number of iterations)\n",
       "\n",
       " * Candidate solution\n",
       "    Minimizer: [-1.54e-05, -5.08e-06, 4.64e-05,  ...]\n",
       "    Minimum:   2.601434e-07\n",
       "\n",
       " * Found with\n",
       "    Algorithm:     ADAM\n",
       "    Initial Point: [4.24e-08, 5.77e-07, 6.07e-06,  ...]\n",
       "\n",
       " * Convergence measures\n",
       "    |x - x'|               = NaN ≰ 0.0e+00\n",
       "    |x - x'|/|x'|          = NaN ≰ 0.0e+00\n",
       "    |f(x) - f(x')|         = NaN ≰ 0.0e+00\n",
       "    |f(x) - f(x')|/|f(x')| = NaN ≰ 0.0e+00\n",
       "    |g(x)|                 = NaN ≰ 0.0e+00\n",
       "\n",
       " * Work counters\n",
       "    Seconds run:   44  (vs limit Inf)\n",
       "    Iterations:    200\n",
       "    f(x) calls:    200\n",
       "    ∇f(x) calls:   200\n"
      ]
     },
     "execution_count": 8,
     "metadata": {},
     "output_type": "execute_result"
    }
   ],
   "source": [
    "res = DiffEqFlux.sciml_train(\n",
    "    loss_ude,\n",
    "    p_all,\n",
    "    ADAM(),\n",
    "    cb = cb,\n",
    "    maxiters = 200,\n",
    ")"
   ]
  },
  {
   "cell_type": "code",
   "execution_count": 9,
   "metadata": {},
   "outputs": [
    {
     "data": {
      "text/plain": [
       "t: 5-element Array{Float64,1}:\n",
       " 0.0 \n",
       " 0.25\n",
       " 0.5 \n",
       " 0.75\n",
       " 1.0 \n",
       "u: 5-element Array{Array{Float32,1},1}:\n",
       " [4.244841e-8, 5.7678704e-7, 6.072677e-6, 4.9539947e-5, 0.0003131424, 0.0015336996, 0.005820435, 0.017116167, 0.03900967, 0.06895671  …  0.06895671, 0.03900967, 0.017116167, 0.005820435, 0.0015336996, 0.0003131424, 4.9539947e-5, 6.072677e-6, 5.7678704e-7, 4.244841e-8]             \n",
       " [2.5320282e-5, 8.204009e-6, -6.408472e-5, 0.00010798267, 0.00030600792, 0.0014109233, 0.0051609827, 0.015134305, 0.034330636, 0.06180061  …  0.061801653, 0.034363527, 0.015110042, 0.005316581, 0.0013971381, 0.00030701087, 3.41416e-5, 3.6860034e-5, -6.7806584e-5, 1.8328283e-5]    \n",
       " [2.7657243e-5, 1.36508825e-5, -5.472436e-5, 0.00010677915, 0.00029287624, 0.0013075465, 0.004656458, 0.013488662, 0.030618263, 0.056121193  …  0.056129538, 0.030639717, 0.013465445, 0.0048121847, 0.0012988177, 0.00028887918, 3.2535165e-5, 3.137977e-5, -6.4199456e-5, 1.8238203e-5]\n",
       " [1.3043213e-5, 9.204529e-6, -1.3585104e-5, 6.904043e-5, 0.00027200536, 0.0012141713, 0.00427091, 0.012128479, 0.027656902, 0.051604927  …  0.051610645, 0.027660267, 0.012119503, 0.004331838, 0.001213384, 0.00026886468, 4.0053645e-5, 1.4277759e-5, -2.2027636e-5, 8.32872e-6]       \n",
       " [-1.3039158e-5, -6.595927e-6, 3.4691107e-5, 1.0644101e-5, 0.0002441774, 0.0011268865, 0.0039765304, 0.011008274, 0.025284242, 0.048006948  …  0.04799537, 0.025279012, 0.011019443, 0.0038893681, 0.0011300547, 0.00025137104, 5.3069554e-5, -2.3937046e-6, 3.854944e-5, -6.222901e-6]  "
      ]
     },
     "execution_count": 9,
     "metadata": {},
     "output_type": "execute_result"
    }
   ],
   "source": [
    "sol_univ =\n",
    "    concrete_solve(prob_univ, Tsit5(), f0_1D, res.minimizer, saveat = tran)"
   ]
  },
  {
   "cell_type": "code",
   "execution_count": 10,
   "metadata": {},
   "outputs": [
    {
     "data": {
      "image/svg+xml": [
       "<?xml version=\"1.0\" encoding=\"utf-8\"?>\n",
       "<svg xmlns=\"http://www.w3.org/2000/svg\" xmlns:xlink=\"http://www.w3.org/1999/xlink\" width=\"600\" height=\"400\" viewBox=\"0 0 2400 1600\">\n",
       "<defs>\n",
       "  <clipPath id=\"clip5100\">\n",
       "    <rect x=\"0\" y=\"0\" width=\"2400\" height=\"1600\"/>\n",
       "  </clipPath>\n",
       "</defs>\n",
       "<path clip-path=\"url(#clip5100)\" d=\"\n",
       "M0 1600 L2400 1600 L2400 0 L0 0  Z\n",
       "  \" fill=\"#ffffff\" fill-rule=\"evenodd\" fill-opacity=\"1\"/>\n",
       "<defs>\n",
       "  <clipPath id=\"clip5101\">\n",
       "    <rect x=\"480\" y=\"0\" width=\"1681\" height=\"1600\"/>\n",
       "  </clipPath>\n",
       "</defs>\n",
       "<path clip-path=\"url(#clip5100)\" d=\"\n",
       "M175.348 1486.45 L2352.76 1486.45 L2352.76 47.2441 L175.348 47.2441  Z\n",
       "  \" fill=\"#ffffff\" fill-rule=\"evenodd\" fill-opacity=\"1\"/>\n",
       "<defs>\n",
       "  <clipPath id=\"clip5102\">\n",
       "    <rect x=\"175\" y=\"47\" width=\"2178\" height=\"1440\"/>\n",
       "  </clipPath>\n",
       "</defs>\n",
       "<polyline clip-path=\"url(#clip5102)\" style=\"stroke:#000000; stroke-width:2; stroke-opacity:0.1; fill:none\" points=\"\n",
       "  411.957,1486.45 411.957,47.2441 \n",
       "  \"/>\n",
       "<polyline clip-path=\"url(#clip5102)\" style=\"stroke:#000000; stroke-width:2; stroke-opacity:0.1; fill:none\" points=\"\n",
       "  838.004,1486.45 838.004,47.2441 \n",
       "  \"/>\n",
       "<polyline clip-path=\"url(#clip5102)\" style=\"stroke:#000000; stroke-width:2; stroke-opacity:0.1; fill:none\" points=\"\n",
       "  1264.05,1486.45 1264.05,47.2441 \n",
       "  \"/>\n",
       "<polyline clip-path=\"url(#clip5102)\" style=\"stroke:#000000; stroke-width:2; stroke-opacity:0.1; fill:none\" points=\"\n",
       "  1690.1,1486.45 1690.1,47.2441 \n",
       "  \"/>\n",
       "<polyline clip-path=\"url(#clip5102)\" style=\"stroke:#000000; stroke-width:2; stroke-opacity:0.1; fill:none\" points=\"\n",
       "  2116.15,1486.45 2116.15,47.2441 \n",
       "  \"/>\n",
       "<polyline clip-path=\"url(#clip5102)\" style=\"stroke:#000000; stroke-width:2; stroke-opacity:0.1; fill:none\" points=\"\n",
       "  175.348,1445.01 2352.76,1445.01 \n",
       "  \"/>\n",
       "<polyline clip-path=\"url(#clip5102)\" style=\"stroke:#000000; stroke-width:2; stroke-opacity:0.1; fill:none\" points=\"\n",
       "  175.348,1236.16 2352.76,1236.16 \n",
       "  \"/>\n",
       "<polyline clip-path=\"url(#clip5102)\" style=\"stroke:#000000; stroke-width:2; stroke-opacity:0.1; fill:none\" points=\"\n",
       "  175.348,1027.31 2352.76,1027.31 \n",
       "  \"/>\n",
       "<polyline clip-path=\"url(#clip5102)\" style=\"stroke:#000000; stroke-width:2; stroke-opacity:0.1; fill:none\" points=\"\n",
       "  175.348,818.456 2352.76,818.456 \n",
       "  \"/>\n",
       "<polyline clip-path=\"url(#clip5102)\" style=\"stroke:#000000; stroke-width:2; stroke-opacity:0.1; fill:none\" points=\"\n",
       "  175.348,609.606 2352.76,609.606 \n",
       "  \"/>\n",
       "<polyline clip-path=\"url(#clip5102)\" style=\"stroke:#000000; stroke-width:2; stroke-opacity:0.1; fill:none\" points=\"\n",
       "  175.348,400.755 2352.76,400.755 \n",
       "  \"/>\n",
       "<polyline clip-path=\"url(#clip5102)\" style=\"stroke:#000000; stroke-width:2; stroke-opacity:0.1; fill:none\" points=\"\n",
       "  175.348,400.755 2352.76,400.755 \n",
       "  \"/>\n",
       "<polyline clip-path=\"url(#clip5100)\" style=\"stroke:#000000; stroke-width:4; stroke-opacity:1; fill:none\" points=\"\n",
       "  175.348,1486.45 2352.76,1486.45 \n",
       "  \"/>\n",
       "<polyline clip-path=\"url(#clip5100)\" style=\"stroke:#000000; stroke-width:4; stroke-opacity:1; fill:none\" points=\"\n",
       "  175.348,1486.45 175.348,47.2441 \n",
       "  \"/>\n",
       "<polyline clip-path=\"url(#clip5100)\" style=\"stroke:#000000; stroke-width:4; stroke-opacity:1; fill:none\" points=\"\n",
       "  411.957,1486.45 411.957,1469.18 \n",
       "  \"/>\n",
       "<polyline clip-path=\"url(#clip5100)\" style=\"stroke:#000000; stroke-width:4; stroke-opacity:1; fill:none\" points=\"\n",
       "  838.004,1486.45 838.004,1469.18 \n",
       "  \"/>\n",
       "<polyline clip-path=\"url(#clip5100)\" style=\"stroke:#000000; stroke-width:4; stroke-opacity:1; fill:none\" points=\"\n",
       "  1264.05,1486.45 1264.05,1469.18 \n",
       "  \"/>\n",
       "<polyline clip-path=\"url(#clip5100)\" style=\"stroke:#000000; stroke-width:4; stroke-opacity:1; fill:none\" points=\"\n",
       "  1690.1,1486.45 1690.1,1469.18 \n",
       "  \"/>\n",
       "<polyline clip-path=\"url(#clip5100)\" style=\"stroke:#000000; stroke-width:4; stroke-opacity:1; fill:none\" points=\"\n",
       "  2116.15,1486.45 2116.15,1469.18 \n",
       "  \"/>\n",
       "<polyline clip-path=\"url(#clip5100)\" style=\"stroke:#000000; stroke-width:4; stroke-opacity:1; fill:none\" points=\"\n",
       "  175.348,1445.01 201.477,1445.01 \n",
       "  \"/>\n",
       "<polyline clip-path=\"url(#clip5100)\" style=\"stroke:#000000; stroke-width:4; stroke-opacity:1; fill:none\" points=\"\n",
       "  175.348,1236.16 201.477,1236.16 \n",
       "  \"/>\n",
       "<polyline clip-path=\"url(#clip5100)\" style=\"stroke:#000000; stroke-width:4; stroke-opacity:1; fill:none\" points=\"\n",
       "  175.348,1027.31 201.477,1027.31 \n",
       "  \"/>\n",
       "<polyline clip-path=\"url(#clip5100)\" style=\"stroke:#000000; stroke-width:4; stroke-opacity:1; fill:none\" points=\"\n",
       "  175.348,818.456 201.477,818.456 \n",
       "  \"/>\n",
       "<polyline clip-path=\"url(#clip5100)\" style=\"stroke:#000000; stroke-width:4; stroke-opacity:1; fill:none\" points=\"\n",
       "  175.348,609.606 201.477,609.606 \n",
       "  \"/>\n",
       "<polyline clip-path=\"url(#clip5100)\" style=\"stroke:#000000; stroke-width:4; stroke-opacity:1; fill:none\" points=\"\n",
       "  175.348,400.755 201.477,400.755 \n",
       "  \"/>\n",
       "<polyline clip-path=\"url(#clip5100)\" style=\"stroke:#000000; stroke-width:4; stroke-opacity:1; fill:none\" points=\"\n",
       "  175.348,400.755 201.477,400.755 \n",
       "  \"/>\n",
       "<path clip-path=\"url(#clip5100)\" d=\"M 0 0 M391.968 1525.04 L404.445 1525.04 L404.445 1528.83 L391.968 1528.83 L391.968 1525.04 Z\" fill=\"#000000\" fill-rule=\"evenodd\" fill-opacity=\"1\" /><path clip-path=\"url(#clip5100)\" d=\"M 0 0 M422.362 1509.43 L410.556 1527.88 L422.362 1527.88 L422.362 1509.43 M421.135 1505.36 L427.015 1505.36 L427.015 1527.88 L431.945 1527.88 L431.945 1531.77 L427.015 1531.77 L427.015 1539.92 L422.362 1539.92 L422.362 1531.77 L406.76 1531.77 L406.76 1527.26 L421.135 1505.36 Z\" fill=\"#000000\" fill-rule=\"evenodd\" fill-opacity=\"1\" /><path clip-path=\"url(#clip5100)\" d=\"M 0 0 M819.058 1525.04 L831.535 1525.04 L831.535 1528.83 L819.058 1528.83 L819.058 1525.04 Z\" fill=\"#000000\" fill-rule=\"evenodd\" fill-opacity=\"1\" /><path clip-path=\"url(#clip5100)\" d=\"M 0 0 M840.632 1535.98 L856.951 1535.98 L856.951 1539.92 L835.007 1539.92 L835.007 1535.98 Q837.669 1533.23 842.252 1528.6 Q846.858 1523.95 848.039 1522.61 Q850.284 1520.08 851.164 1518.35 Q852.067 1516.59 852.067 1514.9 Q852.067 1512.14 850.122 1510.41 Q848.201 1508.67 845.099 1508.67 Q842.9 1508.67 840.446 1509.43 Q838.016 1510.2 835.238 1511.75 L835.238 1507.03 Q838.062 1505.89 840.516 1505.31 Q842.97 1504.73 845.007 1504.73 Q850.377 1504.73 853.571 1507.42 Q856.766 1510.11 856.766 1514.6 Q856.766 1516.73 855.956 1518.65 Q855.169 1520.54 853.062 1523.14 Q852.483 1523.81 849.382 1527.03 Q846.28 1530.22 840.632 1535.98 Z\" fill=\"#000000\" fill-rule=\"evenodd\" fill-opacity=\"1\" /><path clip-path=\"url(#clip5100)\" d=\"M 0 0 M1264.05 1508.44 Q1260.44 1508.44 1258.61 1512 Q1256.81 1515.55 1256.81 1522.67 Q1256.81 1529.78 1258.61 1533.35 Q1260.44 1536.89 1264.05 1536.89 Q1267.69 1536.89 1269.49 1533.35 Q1271.32 1529.78 1271.32 1522.67 Q1271.32 1515.55 1269.49 1512 Q1267.69 1508.44 1264.05 1508.44 M1264.05 1504.73 Q1269.86 1504.73 1272.92 1509.34 Q1276 1513.92 1276 1522.67 Q1276 1531.4 1272.92 1536.01 Q1269.86 1540.59 1264.05 1540.59 Q1258.24 1540.59 1255.16 1536.01 Q1252.11 1531.4 1252.11 1522.67 Q1252.11 1513.92 1255.16 1509.34 Q1258.24 1504.73 1264.05 1504.73 Z\" fill=\"#000000\" fill-rule=\"evenodd\" fill-opacity=\"1\" /><path clip-path=\"url(#clip5100)\" d=\"M 0 0 M1684.75 1535.98 L1701.07 1535.98 L1701.07 1539.92 L1679.13 1539.92 L1679.13 1535.98 Q1681.79 1533.23 1686.37 1528.6 Q1690.98 1523.95 1692.16 1522.61 Q1694.41 1520.08 1695.28 1518.35 Q1696.19 1516.59 1696.19 1514.9 Q1696.19 1512.14 1694.24 1510.41 Q1692.32 1508.67 1689.22 1508.67 Q1687.02 1508.67 1684.57 1509.43 Q1682.14 1510.2 1679.36 1511.75 L1679.36 1507.03 Q1682.18 1505.89 1684.64 1505.31 Q1687.09 1504.73 1689.13 1504.73 Q1694.5 1504.73 1697.69 1507.42 Q1700.89 1510.11 1700.89 1514.6 Q1700.89 1516.73 1700.08 1518.65 Q1699.29 1520.54 1697.18 1523.14 Q1696.6 1523.81 1693.5 1527.03 Q1690.4 1530.22 1684.75 1535.98 Z\" fill=\"#000000\" fill-rule=\"evenodd\" fill-opacity=\"1\" /><path clip-path=\"url(#clip5100)\" d=\"M 0 0 M2119.16 1509.43 L2107.35 1527.88 L2119.16 1527.88 L2119.16 1509.43 M2117.93 1505.36 L2123.81 1505.36 L2123.81 1527.88 L2128.74 1527.88 L2128.74 1531.77 L2123.81 1531.77 L2123.81 1539.92 L2119.16 1539.92 L2119.16 1531.77 L2103.55 1531.77 L2103.55 1527.26 L2117.93 1505.36 Z\" fill=\"#000000\" fill-rule=\"evenodd\" fill-opacity=\"1\" /><path clip-path=\"url(#clip5100)\" d=\"M 0 0 M75.4226 1430.81 Q71.8115 1430.81 69.9828 1434.37 Q68.1773 1437.91 68.1773 1445.04 Q68.1773 1452.15 69.9828 1455.71 Q71.8115 1459.26 75.4226 1459.26 Q79.0569 1459.26 80.8624 1455.71 Q82.6911 1452.15 82.6911 1445.04 Q82.6911 1437.91 80.8624 1434.37 Q79.0569 1430.81 75.4226 1430.81 M75.4226 1427.1 Q81.2328 1427.1 84.2883 1431.71 Q87.367 1436.29 87.367 1445.04 Q87.367 1453.77 84.2883 1458.38 Q81.2328 1462.96 75.4226 1462.96 Q69.6125 1462.96 66.5338 1458.38 Q63.4782 1453.77 63.4782 1445.04 Q63.4782 1436.29 66.5338 1431.71 Q69.6125 1427.1 75.4226 1427.1 Z\" fill=\"#000000\" fill-rule=\"evenodd\" fill-opacity=\"1\" /><path clip-path=\"url(#clip5100)\" d=\"M 0 0 M92.4364 1456.41 L97.3206 1456.41 L97.3206 1462.29 L92.4364 1462.29 L92.4364 1456.41 Z\" fill=\"#000000\" fill-rule=\"evenodd\" fill-opacity=\"1\" /><path clip-path=\"url(#clip5100)\" d=\"M 0 0 M112.39 1430.81 Q108.779 1430.81 106.95 1434.37 Q105.145 1437.91 105.145 1445.04 Q105.145 1452.15 106.95 1455.71 Q108.779 1459.26 112.39 1459.26 Q116.024 1459.26 117.83 1455.71 Q119.658 1452.15 119.658 1445.04 Q119.658 1437.91 117.83 1434.37 Q116.024 1430.81 112.39 1430.81 M112.39 1427.1 Q118.2 1427.1 121.256 1431.71 Q124.334 1436.29 124.334 1445.04 Q124.334 1453.77 121.256 1458.38 Q118.2 1462.96 112.39 1462.96 Q106.58 1462.96 103.501 1458.38 Q100.446 1453.77 100.446 1445.04 Q100.446 1436.29 103.501 1431.71 Q106.58 1427.1 112.39 1427.1 Z\" fill=\"#000000\" fill-rule=\"evenodd\" fill-opacity=\"1\" /><path clip-path=\"url(#clip5100)\" d=\"M 0 0 M139.404 1430.81 Q135.793 1430.81 133.964 1434.37 Q132.158 1437.91 132.158 1445.04 Q132.158 1452.15 133.964 1455.71 Q135.793 1459.26 139.404 1459.26 Q143.038 1459.26 144.844 1455.71 Q146.672 1452.15 146.672 1445.04 Q146.672 1437.91 144.844 1434.37 Q143.038 1430.81 139.404 1430.81 M139.404 1427.1 Q145.214 1427.1 148.269 1431.71 Q151.348 1436.29 151.348 1445.04 Q151.348 1453.77 148.269 1458.38 Q145.214 1462.96 139.404 1462.96 Q133.594 1462.96 130.515 1458.38 Q127.459 1453.77 127.459 1445.04 Q127.459 1436.29 130.515 1431.71 Q133.594 1427.1 139.404 1427.1 Z\" fill=\"#000000\" fill-rule=\"evenodd\" fill-opacity=\"1\" /><path clip-path=\"url(#clip5100)\" d=\"M 0 0 M77.0198 1221.96 Q73.4087 1221.96 71.58 1225.52 Q69.7745 1229.06 69.7745 1236.19 Q69.7745 1243.3 71.58 1246.86 Q73.4087 1250.4 77.0198 1250.4 Q80.6541 1250.4 82.4596 1246.86 Q84.2883 1243.3 84.2883 1236.19 Q84.2883 1229.06 82.4596 1225.52 Q80.6541 1221.96 77.0198 1221.96 M77.0198 1218.25 Q82.83 1218.25 85.8855 1222.86 Q88.9642 1227.44 88.9642 1236.19 Q88.9642 1244.92 85.8855 1249.53 Q82.83 1254.11 77.0198 1254.11 Q71.2097 1254.11 68.131 1249.53 Q65.0754 1244.92 65.0754 1236.19 Q65.0754 1227.44 68.131 1222.86 Q71.2097 1218.25 77.0198 1218.25 Z\" fill=\"#000000\" fill-rule=\"evenodd\" fill-opacity=\"1\" /><path clip-path=\"url(#clip5100)\" d=\"M 0 0 M94.0336 1247.56 L98.9179 1247.56 L98.9179 1253.44 L94.0336 1253.44 L94.0336 1247.56 Z\" fill=\"#000000\" fill-rule=\"evenodd\" fill-opacity=\"1\" /><path clip-path=\"url(#clip5100)\" d=\"M 0 0 M113.987 1221.96 Q110.376 1221.96 108.547 1225.52 Q106.742 1229.06 106.742 1236.19 Q106.742 1243.3 108.547 1246.86 Q110.376 1250.4 113.987 1250.4 Q117.621 1250.4 119.427 1246.86 Q121.256 1243.3 121.256 1236.19 Q121.256 1229.06 119.427 1225.52 Q117.621 1221.96 113.987 1221.96 M113.987 1218.25 Q119.797 1218.25 122.853 1222.86 Q125.932 1227.44 125.932 1236.19 Q125.932 1244.92 122.853 1249.53 Q119.797 1254.11 113.987 1254.11 Q108.177 1254.11 105.098 1249.53 Q102.043 1244.92 102.043 1236.19 Q102.043 1227.44 105.098 1222.86 Q108.177 1218.25 113.987 1218.25 Z\" fill=\"#000000\" fill-rule=\"evenodd\" fill-opacity=\"1\" /><path clip-path=\"url(#clip5100)\" d=\"M 0 0 M135.029 1249.5 L151.348 1249.5 L151.348 1253.44 L129.404 1253.44 L129.404 1249.5 Q132.066 1246.75 136.649 1242.12 Q141.256 1237.47 142.436 1236.12 Q144.682 1233.6 145.561 1231.86 Q146.464 1230.1 146.464 1228.41 Q146.464 1225.66 144.519 1223.92 Q142.598 1222.19 139.496 1222.19 Q137.297 1222.19 134.844 1222.95 Q132.413 1223.72 129.635 1225.27 L129.635 1220.54 Q132.459 1219.41 134.913 1218.83 Q137.367 1218.25 139.404 1218.25 Q144.774 1218.25 147.969 1220.94 Q151.163 1223.62 151.163 1228.11 Q151.163 1230.24 150.353 1232.16 Q149.566 1234.06 147.459 1236.65 Q146.881 1237.33 143.779 1240.54 Q140.677 1243.74 135.029 1249.5 Z\" fill=\"#000000\" fill-rule=\"evenodd\" fill-opacity=\"1\" /><path clip-path=\"url(#clip5100)\" d=\"M 0 0 M74.9365 1013.11 Q71.3254 1013.11 69.4967 1016.67 Q67.6912 1020.21 67.6912 1027.34 Q67.6912 1034.45 69.4967 1038.01 Q71.3254 1041.55 74.9365 1041.55 Q78.5707 1041.55 80.3763 1038.01 Q82.205 1034.45 82.205 1027.34 Q82.205 1020.21 80.3763 1016.67 Q78.5707 1013.11 74.9365 1013.11 M74.9365 1009.4 Q80.7467 1009.4 83.8022 1014.01 Q86.8809 1018.59 86.8809 1027.34 Q86.8809 1036.07 83.8022 1040.67 Q80.7467 1045.26 74.9365 1045.26 Q69.1264 1045.26 66.0477 1040.67 Q62.9921 1036.07 62.9921 1027.34 Q62.9921 1018.59 66.0477 1014.01 Q69.1264 1009.4 74.9365 1009.4 Z\" fill=\"#000000\" fill-rule=\"evenodd\" fill-opacity=\"1\" /><path clip-path=\"url(#clip5100)\" d=\"M 0 0 M91.9503 1038.71 L96.8345 1038.71 L96.8345 1044.59 L91.9503 1044.59 L91.9503 1038.71 Z\" fill=\"#000000\" fill-rule=\"evenodd\" fill-opacity=\"1\" /><path clip-path=\"url(#clip5100)\" d=\"M 0 0 M111.904 1013.11 Q108.293 1013.11 106.464 1016.67 Q104.659 1020.21 104.659 1027.34 Q104.659 1034.45 106.464 1038.01 Q108.293 1041.55 111.904 1041.55 Q115.538 1041.55 117.344 1038.01 Q119.172 1034.45 119.172 1027.34 Q119.172 1020.21 117.344 1016.67 Q115.538 1013.11 111.904 1013.11 M111.904 1009.4 Q117.714 1009.4 120.77 1014.01 Q123.848 1018.59 123.848 1027.34 Q123.848 1036.07 120.77 1040.67 Q117.714 1045.26 111.904 1045.26 Q106.094 1045.26 103.015 1040.67 Q99.9595 1036.07 99.9595 1027.34 Q99.9595 1018.59 103.015 1014.01 Q106.094 1009.4 111.904 1009.4 Z\" fill=\"#000000\" fill-rule=\"evenodd\" fill-opacity=\"1\" /><path clip-path=\"url(#clip5100)\" d=\"M 0 0 M141.765 1014.1 L129.959 1032.55 L141.765 1032.55 L141.765 1014.1 M140.538 1010.03 L146.418 1010.03 L146.418 1032.55 L151.348 1032.55 L151.348 1036.44 L146.418 1036.44 L146.418 1044.59 L141.765 1044.59 L141.765 1036.44 L126.163 1036.44 L126.163 1031.92 L140.538 1010.03 Z\" fill=\"#000000\" fill-rule=\"evenodd\" fill-opacity=\"1\" /><path clip-path=\"url(#clip5100)\" d=\"M 0 0 M75.2606 804.255 Q71.6495 804.255 69.8208 807.82 Q68.0152 811.361 68.0152 818.491 Q68.0152 825.597 69.8208 829.162 Q71.6495 832.704 75.2606 832.704 Q78.8948 832.704 80.7004 829.162 Q82.5291 825.597 82.5291 818.491 Q82.5291 811.361 80.7004 807.82 Q78.8948 804.255 75.2606 804.255 M75.2606 800.551 Q81.0707 800.551 84.1263 805.158 Q87.205 809.741 87.205 818.491 Q87.205 827.218 84.1263 831.824 Q81.0707 836.407 75.2606 836.407 Q69.4504 836.407 66.3717 831.824 Q63.3162 827.218 63.3162 818.491 Q63.3162 809.741 66.3717 805.158 Q69.4504 800.551 75.2606 800.551 Z\" fill=\"#000000\" fill-rule=\"evenodd\" fill-opacity=\"1\" /><path clip-path=\"url(#clip5100)\" d=\"M 0 0 M92.2744 829.857 L97.1586 829.857 L97.1586 835.736 L92.2744 835.736 L92.2744 829.857 Z\" fill=\"#000000\" fill-rule=\"evenodd\" fill-opacity=\"1\" /><path clip-path=\"url(#clip5100)\" d=\"M 0 0 M112.228 804.255 Q108.617 804.255 106.788 807.82 Q104.983 811.361 104.983 818.491 Q104.983 825.597 106.788 829.162 Q108.617 832.704 112.228 832.704 Q115.862 832.704 117.668 829.162 Q119.496 825.597 119.496 818.491 Q119.496 811.361 117.668 807.82 Q115.862 804.255 112.228 804.255 M112.228 800.551 Q118.038 800.551 121.094 805.158 Q124.172 809.741 124.172 818.491 Q124.172 827.218 121.094 831.824 Q118.038 836.407 112.228 836.407 Q106.418 836.407 103.339 831.824 Q100.284 827.218 100.284 818.491 Q100.284 809.741 103.339 805.158 Q106.418 800.551 112.228 800.551 Z\" fill=\"#000000\" fill-rule=\"evenodd\" fill-opacity=\"1\" /><path clip-path=\"url(#clip5100)\" d=\"M 0 0 M139.82 816.593 Q136.672 816.593 134.82 818.746 Q132.992 820.898 132.992 824.648 Q132.992 828.375 134.82 830.551 Q136.672 832.704 139.82 832.704 Q142.969 832.704 144.797 830.551 Q146.649 828.375 146.649 824.648 Q146.649 820.898 144.797 818.746 Q142.969 816.593 139.82 816.593 M149.103 801.94 L149.103 806.199 Q147.344 805.366 145.538 804.926 Q143.756 804.486 141.996 804.486 Q137.367 804.486 134.913 807.611 Q132.482 810.736 132.135 817.056 Q133.501 815.042 135.561 813.977 Q137.621 812.889 140.098 812.889 Q145.306 812.889 148.316 816.06 Q151.348 819.209 151.348 824.648 Q151.348 829.972 148.2 833.19 Q145.052 836.407 139.82 836.407 Q133.825 836.407 130.654 831.824 Q127.483 827.218 127.483 818.491 Q127.483 810.297 131.371 805.435 Q135.26 800.551 141.811 800.551 Q143.57 800.551 145.353 800.898 Q147.158 801.246 149.103 801.94 Z\" fill=\"#000000\" fill-rule=\"evenodd\" fill-opacity=\"1\" /><path clip-path=\"url(#clip5100)\" d=\"M 0 0 M75.5152 595.404 Q71.9041 595.404 70.0754 598.969 Q68.2699 602.511 68.2699 609.64 Q68.2699 616.747 70.0754 620.312 Q71.9041 623.853 75.5152 623.853 Q79.1494 623.853 80.955 620.312 Q82.7837 616.747 82.7837 609.64 Q82.7837 602.511 80.955 598.969 Q79.1494 595.404 75.5152 595.404 M75.5152 591.701 Q81.3254 591.701 84.3809 596.307 Q87.4596 600.89 87.4596 609.64 Q87.4596 618.367 84.3809 622.974 Q81.3254 627.557 75.5152 627.557 Q69.7051 627.557 66.6264 622.974 Q63.5708 618.367 63.5708 609.64 Q63.5708 600.89 66.6264 596.307 Q69.7051 591.701 75.5152 591.701 Z\" fill=\"#000000\" fill-rule=\"evenodd\" fill-opacity=\"1\" /><path clip-path=\"url(#clip5100)\" d=\"M 0 0 M92.529 621.006 L97.4132 621.006 L97.4132 626.886 L92.529 626.886 L92.529 621.006 Z\" fill=\"#000000\" fill-rule=\"evenodd\" fill-opacity=\"1\" /><path clip-path=\"url(#clip5100)\" d=\"M 0 0 M112.483 595.404 Q108.872 595.404 107.043 598.969 Q105.237 602.511 105.237 609.64 Q105.237 616.747 107.043 620.312 Q108.872 623.853 112.483 623.853 Q116.117 623.853 117.922 620.312 Q119.751 616.747 119.751 609.64 Q119.751 602.511 117.922 598.969 Q116.117 595.404 112.483 595.404 M112.483 591.701 Q118.293 591.701 121.348 596.307 Q124.427 600.89 124.427 609.64 Q124.427 618.367 121.348 622.974 Q118.293 627.557 112.483 627.557 Q106.672 627.557 103.594 622.974 Q100.538 618.367 100.538 609.64 Q100.538 600.89 103.594 596.307 Q106.672 591.701 112.483 591.701 Z\" fill=\"#000000\" fill-rule=\"evenodd\" fill-opacity=\"1\" /><path clip-path=\"url(#clip5100)\" d=\"M 0 0 M139.496 610.474 Q136.163 610.474 134.242 612.256 Q132.344 614.039 132.344 617.164 Q132.344 620.289 134.242 622.071 Q136.163 623.853 139.496 623.853 Q142.83 623.853 144.751 622.071 Q146.672 620.265 146.672 617.164 Q146.672 614.039 144.751 612.256 Q142.853 610.474 139.496 610.474 M134.82 608.483 Q131.811 607.742 130.121 605.682 Q128.455 603.622 128.455 600.659 Q128.455 596.516 131.395 594.108 Q134.357 591.701 139.496 591.701 Q144.658 591.701 147.598 594.108 Q150.538 596.516 150.538 600.659 Q150.538 603.622 148.848 605.682 Q147.181 607.742 144.195 608.483 Q147.575 609.27 149.45 611.562 Q151.348 613.853 151.348 617.164 Q151.348 622.187 148.269 624.872 Q145.214 627.557 139.496 627.557 Q133.779 627.557 130.7 624.872 Q127.645 622.187 127.645 617.164 Q127.645 613.853 129.543 611.562 Q131.441 609.27 134.82 608.483 M133.107 601.099 Q133.107 603.784 134.774 605.289 Q136.464 606.793 139.496 606.793 Q142.506 606.793 144.195 605.289 Q145.908 603.784 145.908 601.099 Q145.908 598.414 144.195 596.909 Q142.506 595.404 139.496 595.404 Q136.464 595.404 134.774 596.909 Q133.107 598.414 133.107 601.099 Z\" fill=\"#000000\" fill-rule=\"evenodd\" fill-opacity=\"1\" /><path clip-path=\"url(#clip5100)\" d=\"M 0 0 M76.6495 386.554 Q73.0384 386.554 71.2097 390.119 Q69.4041 393.66 69.4041 400.79 Q69.4041 407.896 71.2097 411.461 Q73.0384 415.003 76.6495 415.003 Q80.2837 415.003 82.0892 411.461 Q83.9179 407.896 83.9179 400.79 Q83.9179 393.66 82.0892 390.119 Q80.2837 386.554 76.6495 386.554 M76.6495 382.85 Q82.4596 382.85 85.5152 387.457 Q88.5938 392.04 88.5938 400.79 Q88.5938 409.517 85.5152 414.123 Q82.4596 418.707 76.6495 418.707 Q70.8393 418.707 67.7606 414.123 Q64.7051 409.517 64.7051 400.79 Q64.7051 392.04 67.7606 387.457 Q70.8393 382.85 76.6495 382.85 Z\" fill=\"#000000\" fill-rule=\"evenodd\" fill-opacity=\"1\" /><path clip-path=\"url(#clip5100)\" d=\"M 0 0 M93.6633 412.156 L98.5475 412.156 L98.5475 418.035 L93.6633 418.035 L93.6633 412.156 Z\" fill=\"#000000\" fill-rule=\"evenodd\" fill-opacity=\"1\" /><path clip-path=\"url(#clip5100)\" d=\"M 0 0 M104.427 414.1 L112.066 414.1 L112.066 387.734 L103.756 389.401 L103.756 385.142 L112.02 383.475 L116.696 383.475 L116.696 414.1 L124.334 414.1 L124.334 418.035 L104.427 418.035 L104.427 414.1 Z\" fill=\"#000000\" fill-rule=\"evenodd\" fill-opacity=\"1\" /><path clip-path=\"url(#clip5100)\" d=\"M 0 0 M139.404 386.554 Q135.793 386.554 133.964 390.119 Q132.158 393.66 132.158 400.79 Q132.158 407.896 133.964 411.461 Q135.793 415.003 139.404 415.003 Q143.038 415.003 144.844 411.461 Q146.672 407.896 146.672 400.79 Q146.672 393.66 144.844 390.119 Q143.038 386.554 139.404 386.554 M139.404 382.85 Q145.214 382.85 148.269 387.457 Q151.348 392.04 151.348 400.79 Q151.348 409.517 148.269 414.123 Q145.214 418.707 139.404 418.707 Q133.594 418.707 130.515 414.123 Q127.459 409.517 127.459 400.79 Q127.459 392.04 130.515 387.457 Q133.594 382.85 139.404 382.85 Z\" fill=\"#000000\" fill-rule=\"evenodd\" fill-opacity=\"1\" /><path clip-path=\"url(#clip5100)\" d=\"M 0 0 M76.6495 386.554 Q73.0384 386.554 71.2097 390.119 Q69.4041 393.66 69.4041 400.79 Q69.4041 407.896 71.2097 411.461 Q73.0384 415.003 76.6495 415.003 Q80.2837 415.003 82.0892 411.461 Q83.9179 407.896 83.9179 400.79 Q83.9179 393.66 82.0892 390.119 Q80.2837 386.554 76.6495 386.554 M76.6495 382.85 Q82.4596 382.85 85.5152 387.457 Q88.5938 392.04 88.5938 400.79 Q88.5938 409.517 85.5152 414.123 Q82.4596 418.707 76.6495 418.707 Q70.8393 418.707 67.7606 414.123 Q64.7051 409.517 64.7051 400.79 Q64.7051 392.04 67.7606 387.457 Q70.8393 382.85 76.6495 382.85 Z\" fill=\"#000000\" fill-rule=\"evenodd\" fill-opacity=\"1\" /><path clip-path=\"url(#clip5100)\" d=\"M 0 0 M93.6633 412.156 L98.5475 412.156 L98.5475 418.035 L93.6633 418.035 L93.6633 412.156 Z\" fill=\"#000000\" fill-rule=\"evenodd\" fill-opacity=\"1\" /><path clip-path=\"url(#clip5100)\" d=\"M 0 0 M104.427 414.1 L112.066 414.1 L112.066 387.734 L103.756 389.401 L103.756 385.142 L112.02 383.475 L116.696 383.475 L116.696 414.1 L124.334 414.1 L124.334 418.035 L104.427 418.035 L104.427 414.1 Z\" fill=\"#000000\" fill-rule=\"evenodd\" fill-opacity=\"1\" /><path clip-path=\"url(#clip5100)\" d=\"M 0 0 M139.404 386.554 Q135.793 386.554 133.964 390.119 Q132.158 393.66 132.158 400.79 Q132.158 407.896 133.964 411.461 Q135.793 415.003 139.404 415.003 Q143.038 415.003 144.844 411.461 Q146.672 407.896 146.672 400.79 Q146.672 393.66 144.844 390.119 Q143.038 386.554 139.404 386.554 M139.404 382.85 Q145.214 382.85 148.269 387.457 Q151.348 392.04 151.348 400.79 Q151.348 409.517 148.269 414.123 Q145.214 418.707 139.404 418.707 Q133.594 418.707 130.515 414.123 Q127.459 409.517 127.459 400.79 Q127.459 392.04 130.515 387.457 Q133.594 382.85 139.404 382.85 Z\" fill=\"#000000\" fill-rule=\"evenodd\" fill-opacity=\"1\" /><polyline clip-path=\"url(#clip5102)\" style=\"stroke:#a52a2a; stroke-width:8; stroke-opacity:1; fill:none\" points=\"\n",
       "  236.973,1445.01 313.053,1445 389.133,1444.94 465.213,1444.49 541.293,1441.74 617.373,1428.99 693.452,1384.23 769.532,1266.27 845.612,1037.65 921.692,724.926 \n",
       "  997.772,454.747 1073.85,372.457 1149.93,486.537 1226.01,631.858 1302.09,631.858 1378.17,486.537 1454.25,372.457 1530.33,454.747 1606.41,724.926 1682.49,1037.65 \n",
       "  1758.57,1266.27 1834.65,1384.23 1910.73,1428.99 1986.81,1441.74 2062.89,1444.49 2138.97,1444.94 2215.05,1445 2291.13,1445.01 \n",
       "  \"/>\n",
       "<polyline clip-path=\"url(#clip5102)\" style=\"stroke:#a52a2a; stroke-width:8; stroke-opacity:1; fill:none\" points=\"\n",
       "  236.973,1445 313.053,1444.99 389.133,1444.94 465.213,1444.5 541.293,1441.89 617.373,1430.16 693.452,1390.19 769.532,1286.96 845.612,1086.12 921.692,799.682 \n",
       "  997.772,521.719 1073.85,379.223 1149.93,405.607 1226.01,487.857 1302.09,487.857 1378.17,405.607 1454.25,379.223 1530.33,521.719 1606.41,799.682 1682.49,1086.12 \n",
       "  1758.57,1286.96 1834.65,1390.19 1910.73,1430.16 1986.81,1441.89 2062.89,1444.5 2138.97,1444.94 2215.05,1444.99 2291.13,1445 \n",
       "  \"/>\n",
       "<polyline clip-path=\"url(#clip5102)\" style=\"stroke:#a52a2a; stroke-width:8; stroke-opacity:1; fill:none\" points=\"\n",
       "  236.973,1444.99 313.053,1444.99 389.133,1444.94 465.213,1444.52 541.293,1442.06 617.373,1431.28 693.452,1395.47 769.532,1304.16 845.612,1124.95 921.692,858.899 \n",
       "  997.772,575.502 1073.85,385.88 1149.93,340.884 1226.01,370.325 1302.09,370.325 1378.17,340.884 1454.25,385.88 1530.33,575.503 1606.41,858.899 1682.49,1124.95 \n",
       "  1758.57,1304.16 1834.65,1395.47 1910.73,1431.28 1986.81,1442.06 2062.89,1444.52 2138.97,1444.94 2215.05,1444.99 2291.13,1444.99 \n",
       "  \"/>\n",
       "<polyline clip-path=\"url(#clip5102)\" style=\"stroke:#a52a2a; stroke-width:8; stroke-opacity:1; fill:none\" points=\"\n",
       "  236.973,1444.98 313.053,1444.98 389.133,1444.94 465.213,1444.53 541.293,1442.22 617.373,1432.31 693.452,1400.05 769.532,1318.36 845.612,1156.07 921.692,906.026 \n",
       "  997.772,618.904 1073.85,392.199 1149.93,288.983 1226.01,274.282 1302.09,274.281 1378.17,288.983 1454.25,392.2 1530.33,618.903 1606.41,906.026 1682.49,1156.07 \n",
       "  1758.57,1318.36 1834.65,1400.05 1910.73,1432.31 1986.81,1442.22 2062.89,1444.53 2138.97,1444.94 2215.05,1444.98 2291.13,1444.98 \n",
       "  \"/>\n",
       "<polyline clip-path=\"url(#clip5102)\" style=\"stroke:#a52a2a; stroke-width:8; stroke-opacity:1; fill:none\" points=\"\n",
       "  236.973,1444.98 313.053,1444.98 389.133,1444.93 465.213,1444.55 541.293,1442.36 617.373,1433.24 693.452,1403.97 769.532,1330.02 845.612,1181.05 921.692,943.68 \n",
       "  997.772,654.057 1073.85,398.04 1149.93,247.266 1226.01,195.728 1302.09,195.728 1378.17,247.266 1454.25,398.04 1530.33,654.057 1606.41,943.68 1682.49,1181.05 \n",
       "  1758.57,1330.02 1834.65,1403.97 1910.73,1433.24 1986.81,1442.36 2062.89,1444.55 2138.97,1444.93 2215.05,1444.98 2291.13,1444.98 \n",
       "  \"/>\n",
       "<polyline clip-path=\"url(#clip5102)\" style=\"stroke:#525252; stroke-width:8; stroke-opacity:1; fill:none\" stroke-dasharray=\"32, 20\" points=\"\n",
       "  236.973,1445.01 313.053,1445 389.133,1444.94 465.213,1444.49 541.293,1441.74 617.373,1428.99 693.452,1384.23 769.532,1266.27 845.612,1037.65 921.692,724.926 \n",
       "  997.772,454.747 1073.85,372.457 1149.93,486.537 1226.01,631.858 1302.09,631.858 1378.17,486.537 1454.25,372.457 1530.33,454.747 1606.41,724.926 1682.49,1037.65 \n",
       "  1758.57,1266.27 1834.65,1384.23 1910.73,1428.99 1986.81,1441.74 2062.89,1444.49 2138.97,1444.94 2215.05,1445 2291.13,1445.01 \n",
       "  \"/>\n",
       "<polyline clip-path=\"url(#clip5102)\" style=\"stroke:#525252; stroke-width:8; stroke-opacity:1; fill:none\" stroke-dasharray=\"32, 20\" points=\"\n",
       "  236.973,1445.01 313.053,1445 389.133,1444.94 465.213,1444.54 541.293,1442.17 617.373,1431.46 693.452,1394.16 769.532,1295.46 845.612,1100.3 921.692,819.875 \n",
       "  997.772,543.973 1073.85,388.115 1149.93,381.466 1226.01,432.38 1302.09,432.38 1378.17,381.466 1454.25,388.115 1530.33,543.973 1606.41,819.875 1682.49,1100.3 \n",
       "  1758.57,1295.46 1834.65,1394.16 1910.73,1431.46 1986.81,1442.17 2062.89,1444.54 2138.97,1444.94 2215.05,1445 2291.13,1445.01 \n",
       "  \"/>\n",
       "<polyline clip-path=\"url(#clip5102)\" style=\"stroke:#525252; stroke-width:8; stroke-opacity:1; fill:none\" stroke-dasharray=\"32, 20\" points=\"\n",
       "  236.973,1445.01 313.053,1445 389.133,1444.95 465.213,1444.57 541.293,1442.5 617.373,1433.31 693.452,1401.59 769.532,1317.29 845.612,1147.16 921.692,890.909 \n",
       "  997.772,610.726 1073.85,399.83 1149.93,302.859 1226.01,283.145 1302.09,283.145 1378.17,302.859 1454.25,399.83 1530.33,610.726 1606.41,890.909 1682.49,1147.16 \n",
       "  1758.57,1317.29 1834.65,1401.59 1910.73,1433.31 1986.81,1442.5 2062.89,1444.57 2138.97,1444.95 2215.05,1445 2291.13,1445.01 \n",
       "  \"/>\n",
       "<polyline clip-path=\"url(#clip5102)\" style=\"stroke:#525252; stroke-width:8; stroke-opacity:1; fill:none\" stroke-dasharray=\"32, 20\" points=\"\n",
       "  236.973,1445.01 313.053,1445 389.133,1444.95 465.213,1444.6 541.293,1442.74 617.373,1434.69 693.452,1407.15 769.532,1333.63 845.612,1182.23 921.692,944.05 \n",
       "  997.772,660.664 1073.85,408.593 1149.93,244.053 1226.01,171.502 1302.09,171.502 1378.17,244.053 1454.25,408.593 1530.33,660.664 1606.41,944.05 1682.49,1182.23 \n",
       "  1758.57,1333.63 1834.65,1407.15 1910.73,1434.69 1986.81,1442.74 2062.89,1444.6 2138.97,1444.95 2215.05,1445 2291.13,1445.01 \n",
       "  \"/>\n",
       "<polyline clip-path=\"url(#clip5102)\" style=\"stroke:#525252; stroke-width:8; stroke-opacity:1; fill:none\" stroke-dasharray=\"32, 20\" points=\"\n",
       "  236.973,1445.01 313.053,1445 389.133,1444.95 465.213,1444.62 541.293,1442.92 617.373,1435.72 693.452,1411.31 769.532,1345.85 845.612,1208.46 921.692,983.807 \n",
       "  997.772,698.025 1073.85,415.149 1149.93,200.057 1226.01,87.9763 1302.09,87.9763 1378.17,200.057 1454.25,415.149 1530.33,698.025 1606.41,983.807 1682.49,1208.46 \n",
       "  1758.57,1345.85 1834.65,1411.31 1910.73,1435.72 1986.81,1442.92 2062.89,1444.62 2138.97,1444.95 2215.05,1445 2291.13,1445.01 \n",
       "  \"/>\n",
       "<polyline clip-path=\"url(#clip5102)\" style=\"stroke:#00a8cb; stroke-width:8; stroke-opacity:1; fill:none\" stroke-dasharray=\"32, 20\" points=\"\n",
       "  236.973,1445.01 313.053,1445 389.133,1444.94 465.213,1444.49 541.293,1441.74 617.373,1428.99 693.452,1384.23 769.532,1266.27 845.612,1037.65 921.692,724.926 \n",
       "  997.772,454.747 1073.85,372.457 1149.93,486.537 1226.01,631.858 1302.09,631.858 1378.17,486.537 1454.25,372.457 1530.33,454.747 1606.41,724.926 1682.49,1037.65 \n",
       "  1758.57,1266.27 1834.65,1384.23 1910.73,1428.99 1986.81,1441.74 2062.89,1444.49 2138.97,1444.94 2215.05,1445 2291.13,1445.01 \n",
       "  \"/>\n",
       "<polyline clip-path=\"url(#clip5102)\" style=\"stroke:#9b7fe8; stroke-width:8; stroke-opacity:1; fill:none\" stroke-dasharray=\"32, 20\" points=\"\n",
       "  236.973,1444.74 313.053,1444.92 389.133,1445.68 465.213,1443.88 541.293,1441.81 617.373,1430.27 693.452,1391.11 769.532,1286.97 845.612,1086.51 921.692,799.653 \n",
       "  997.772,522.775 1073.85,379.228 1149.93,405.274 1226.01,485.768 1302.09,484.921 1378.17,405.15 1454.25,379.29 1530.33,521.857 1606.41,799.642 1682.49,1086.17 \n",
       "  1758.57,1287.22 1834.65,1389.49 1910.73,1430.42 1986.81,1441.8 2062.89,1444.65 2138.97,1444.62 2215.05,1445.72 2291.13,1444.82 \n",
       "  \"/>\n",
       "<polyline clip-path=\"url(#clip5102)\" style=\"stroke:#608cf6; stroke-width:8; stroke-opacity:1; fill:none\" stroke-dasharray=\"32, 20\" points=\"\n",
       "  236.973,1444.72 313.053,1444.87 389.133,1445.58 465.213,1443.89 541.293,1441.95 617.373,1431.35 693.452,1396.38 769.532,1304.15 845.612,1125.28 921.692,858.961 \n",
       "  997.772,576.69 1073.85,385.851 1149.93,340.487 1226.01,368.181 1302.09,367.419 1378.17,340.378 1454.25,385.957 1530.33,575.71 1606.41,858.874 1682.49,1125.05 \n",
       "  1758.57,1304.39 1834.65,1394.76 1910.73,1431.44 1986.81,1441.99 2062.89,1444.67 2138.97,1444.68 2215.05,1445.68 2291.13,1444.82 \n",
       "  \"/>\n",
       "<polyline clip-path=\"url(#clip5102)\" style=\"stroke:#f05f73; stroke-width:8; stroke-opacity:1; fill:none\" stroke-dasharray=\"32, 20\" points=\"\n",
       "  236.973,1444.87 313.053,1444.91 389.133,1445.15 465.213,1444.29 541.293,1442.17 617.373,1432.33 693.452,1400.41 769.532,1318.36 845.612,1156.2 921.692,906.122 \n",
       "  997.772,619.476 1073.85,392.194 1149.93,288.756 1226.01,273.313 1302.09,273.052 1378.17,288.728 1454.25,392.266 1530.33,619.065 1606.41,906.062 1682.49,1156.16 \n",
       "  1758.57,1318.45 1834.65,1399.77 1910.73,1432.34 1986.81,1442.2 2062.89,1444.59 2138.97,1444.86 2215.05,1445.24 2291.13,1444.92 \n",
       "  \"/>\n",
       "<polyline clip-path=\"url(#clip5102)\" style=\"stroke:#dd64b5; stroke-width:8; stroke-opacity:1; fill:none\" stroke-dasharray=\"32, 20\" points=\"\n",
       "  236.973,1445.14 313.053,1445.08 389.133,1444.65 465.213,1444.9 541.293,1442.46 617.373,1433.24 693.452,1403.48 769.532,1330.05 845.612,1180.98 921.692,943.694 \n",
       "  997.772,653.476 1073.85,398.151 1149.93,247.392 1226.01,196.626 1302.09,197.007 1378.17,247.47 1454.25,398.098 1530.33,654.057 1606.41,943.815 1682.49,1181.03 \n",
       "  1758.57,1329.94 1834.65,1404.39 1910.73,1433.21 1986.81,1442.38 2062.89,1444.45 2138.97,1445.03 2215.05,1444.61 2291.13,1445.07 \n",
       "  \"/>\n",
       "<path clip-path=\"url(#clip5100)\" d=\"\n",
       "M1821.87 1098.44 L2280.76 1098.44 L2280.76 130.764 L1821.87 130.764  Z\n",
       "  \" fill=\"#ffffff\" fill-rule=\"evenodd\" fill-opacity=\"1\"/>\n",
       "<polyline clip-path=\"url(#clip5100)\" style=\"stroke:#000000; stroke-width:4; stroke-opacity:1; fill:none\" points=\"\n",
       "  1821.87,1098.44 2280.76,1098.44 2280.76,130.764 1821.87,130.764 1821.87,1098.44 \n",
       "  \"/>\n",
       "<polyline clip-path=\"url(#clip5100)\" style=\"stroke:#a52a2a; stroke-width:8; stroke-opacity:1; fill:none\" points=\"\n",
       "  1845.87,191.244 1989.87,191.244 \n",
       "  \"/>\n",
       "<path clip-path=\"url(#clip5100)\" d=\"M 0 0 M2018.54 192.02 L2018.54 204.682 L2026.04 204.682 Q2029.82 204.682 2031.62 203.131 Q2033.45 201.557 2033.45 198.339 Q2033.45 195.098 2031.62 193.57 Q2029.82 192.02 2026.04 192.02 L2018.54 192.02 M2018.54 177.807 L2018.54 188.223 L2025.47 188.223 Q2028.89 188.223 2030.56 186.95 Q2032.25 185.654 2032.25 183.015 Q2032.25 180.399 2030.56 179.103 Q2028.89 177.807 2025.47 177.807 L2018.54 177.807 M2013.87 173.964 L2025.81 173.964 Q2031.16 173.964 2034.05 176.186 Q2036.95 178.409 2036.95 182.506 Q2036.95 185.677 2035.47 187.552 Q2033.98 189.427 2031.11 189.89 Q2034.56 190.631 2036.46 192.992 Q2038.38 195.33 2038.38 198.848 Q2038.38 203.478 2035.23 206.001 Q2032.09 208.524 2026.28 208.524 L2013.87 208.524 L2013.87 173.964 Z\" fill=\"#000000\" fill-rule=\"evenodd\" fill-opacity=\"1\" /><path clip-path=\"url(#clip5100)\" d=\"M 0 0 M2052.9 185.584 Q2049.47 185.584 2047.48 188.27 Q2045.49 190.932 2045.49 195.584 Q2045.49 200.237 2047.46 202.922 Q2049.45 205.584 2052.9 205.584 Q2056.3 205.584 2058.29 202.899 Q2060.28 200.214 2060.28 195.584 Q2060.28 190.978 2058.29 188.293 Q2056.3 185.584 2052.9 185.584 M2052.9 181.973 Q2058.45 181.973 2061.62 185.584 Q2064.79 189.195 2064.79 195.584 Q2064.79 201.95 2061.62 205.584 Q2058.45 209.195 2052.9 209.195 Q2047.32 209.195 2044.15 205.584 Q2041 201.95 2041 195.584 Q2041 189.195 2044.15 185.584 Q2047.32 181.973 2052.9 181.973 Z\" fill=\"#000000\" fill-rule=\"evenodd\" fill-opacity=\"1\" /><path clip-path=\"url(#clip5100)\" d=\"M 0 0 M2069.26 172.506 L2073.52 172.506 L2073.52 208.524 L2069.26 208.524 L2069.26 172.506 Z\" fill=\"#000000\" fill-rule=\"evenodd\" fill-opacity=\"1\" /><path clip-path=\"url(#clip5100)\" d=\"M 0 0 M2082.2 175.237 L2082.2 182.598 L2090.97 182.598 L2090.97 185.908 L2082.2 185.908 L2082.2 199.982 Q2082.2 203.154 2083.06 204.057 Q2083.94 204.959 2086.6 204.959 L2090.97 204.959 L2090.97 208.524 L2086.6 208.524 Q2081.67 208.524 2079.79 206.695 Q2077.92 204.844 2077.92 199.982 L2077.92 185.908 L2074.79 185.908 L2074.79 182.598 L2077.92 182.598 L2077.92 175.237 L2082.2 175.237 Z\" fill=\"#000000\" fill-rule=\"evenodd\" fill-opacity=\"1\" /><path clip-path=\"url(#clip5100)\" d=\"M 0 0 M2093.59 182.598 L2113.82 182.598 L2113.82 186.487 L2097.8 205.121 L2113.82 205.121 L2113.82 208.524 L2093.01 208.524 L2093.01 204.635 L2109.03 186.001 L2093.59 186.001 L2093.59 182.598 Z\" fill=\"#000000\" fill-rule=\"evenodd\" fill-opacity=\"1\" /><path clip-path=\"url(#clip5100)\" d=\"M 0 0 M2138.47 187.575 Q2140.07 184.705 2142.29 183.339 Q2144.52 181.973 2147.52 181.973 Q2151.58 181.973 2153.77 184.821 Q2155.97 187.645 2155.97 192.876 L2155.97 208.524 L2151.69 208.524 L2151.69 193.015 Q2151.69 189.288 2150.37 187.483 Q2149.05 185.677 2146.34 185.677 Q2143.03 185.677 2141.11 187.876 Q2139.19 190.075 2139.19 193.871 L2139.19 208.524 L2134.91 208.524 L2134.91 193.015 Q2134.91 189.265 2133.59 187.483 Q2132.27 185.677 2129.52 185.677 Q2126.25 185.677 2124.33 187.899 Q2122.41 190.098 2122.41 193.871 L2122.41 208.524 L2118.13 208.524 L2118.13 182.598 L2122.41 182.598 L2122.41 186.626 Q2123.87 184.242 2125.9 183.108 Q2127.94 181.973 2130.74 181.973 Q2133.57 181.973 2135.53 183.408 Q2137.52 184.844 2138.47 187.575 Z\" fill=\"#000000\" fill-rule=\"evenodd\" fill-opacity=\"1\" /><path clip-path=\"url(#clip5100)\" d=\"M 0 0 M2172.22 195.492 Q2167.06 195.492 2165.07 196.672 Q2163.08 197.853 2163.08 200.7 Q2163.08 202.969 2164.56 204.311 Q2166.07 205.631 2168.64 205.631 Q2172.18 205.631 2174.31 203.131 Q2176.46 200.607 2176.46 196.441 L2176.46 195.492 L2172.22 195.492 M2180.72 193.733 L2180.72 208.524 L2176.46 208.524 L2176.46 204.589 Q2175 206.95 2172.83 208.084 Q2170.65 209.195 2167.5 209.195 Q2163.52 209.195 2161.16 206.973 Q2158.82 204.728 2158.82 200.978 Q2158.82 196.603 2161.74 194.381 Q2164.68 192.158 2170.49 192.158 L2176.46 192.158 L2176.46 191.742 Q2176.46 188.802 2174.52 187.205 Q2172.59 185.584 2169.1 185.584 Q2166.88 185.584 2164.77 186.117 Q2162.66 186.649 2160.72 187.714 L2160.72 183.779 Q2163.06 182.876 2165.26 182.436 Q2167.46 181.973 2169.54 181.973 Q2175.16 181.973 2177.94 184.89 Q2180.72 187.807 2180.72 193.733 Z\" fill=\"#000000\" fill-rule=\"evenodd\" fill-opacity=\"1\" /><path clip-path=\"url(#clip5100)\" d=\"M 0 0 M2206.74 192.876 L2206.74 208.524 L2202.48 208.524 L2202.48 193.015 Q2202.48 189.334 2201.04 187.506 Q2199.61 185.677 2196.74 185.677 Q2193.29 185.677 2191.3 187.876 Q2189.31 190.075 2189.31 193.871 L2189.31 208.524 L2185.02 208.524 L2185.02 182.598 L2189.31 182.598 L2189.31 186.626 Q2190.83 184.288 2192.9 183.131 Q2194.98 181.973 2197.69 181.973 Q2202.15 181.973 2204.45 184.751 Q2206.74 187.506 2206.74 192.876 Z\" fill=\"#000000\" fill-rule=\"evenodd\" fill-opacity=\"1\" /><path clip-path=\"url(#clip5100)\" d=\"M 0 0 M2232.76 192.876 L2232.76 208.524 L2228.5 208.524 L2228.5 193.015 Q2228.5 189.334 2227.06 187.506 Q2225.63 185.677 2222.76 185.677 Q2219.31 185.677 2217.32 187.876 Q2215.33 190.075 2215.33 193.871 L2215.33 208.524 L2211.04 208.524 L2211.04 182.598 L2215.33 182.598 L2215.33 186.626 Q2216.85 184.288 2218.91 183.131 Q2221 181.973 2223.71 181.973 Q2228.17 181.973 2230.46 184.751 Q2232.76 187.506 2232.76 192.876 Z\" fill=\"#000000\" fill-rule=\"evenodd\" fill-opacity=\"1\" /><polyline clip-path=\"url(#clip5100)\" style=\"stroke:#a52a2a; stroke-width:8; stroke-opacity:1; fill:none\" points=\"\n",
       "  1845.87,251.724 1989.87,251.724 \n",
       "  \"/>\n",
       "<path clip-path=\"url(#clip5100)\" d=\"M 0 0 M2018.54 252.5 L2018.54 265.162 L2026.04 265.162 Q2029.82 265.162 2031.62 263.611 Q2033.45 262.037 2033.45 258.819 Q2033.45 255.578 2031.62 254.05 Q2029.82 252.5 2026.04 252.5 L2018.54 252.5 M2018.54 238.287 L2018.54 248.703 L2025.47 248.703 Q2028.89 248.703 2030.56 247.43 Q2032.25 246.134 2032.25 243.495 Q2032.25 240.879 2030.56 239.583 Q2028.89 238.287 2025.47 238.287 L2018.54 238.287 M2013.87 234.444 L2025.81 234.444 Q2031.16 234.444 2034.05 236.666 Q2036.95 238.889 2036.95 242.986 Q2036.95 246.157 2035.47 248.032 Q2033.98 249.907 2031.11 250.37 Q2034.56 251.111 2036.46 253.472 Q2038.38 255.81 2038.38 259.328 Q2038.38 263.958 2035.23 266.481 Q2032.09 269.004 2026.28 269.004 L2013.87 269.004 L2013.87 234.444 Z\" fill=\"#000000\" fill-rule=\"evenodd\" fill-opacity=\"1\" /><path clip-path=\"url(#clip5100)\" d=\"M 0 0 M2052.9 246.064 Q2049.47 246.064 2047.48 248.75 Q2045.49 251.412 2045.49 256.064 Q2045.49 260.717 2047.46 263.402 Q2049.45 266.064 2052.9 266.064 Q2056.3 266.064 2058.29 263.379 Q2060.28 260.694 2060.28 256.064 Q2060.28 251.458 2058.29 248.773 Q2056.3 246.064 2052.9 246.064 M2052.9 242.453 Q2058.45 242.453 2061.62 246.064 Q2064.79 249.675 2064.79 256.064 Q2064.79 262.43 2061.62 266.064 Q2058.45 269.675 2052.9 269.675 Q2047.32 269.675 2044.15 266.064 Q2041 262.43 2041 256.064 Q2041 249.675 2044.15 246.064 Q2047.32 242.453 2052.9 242.453 Z\" fill=\"#000000\" fill-rule=\"evenodd\" fill-opacity=\"1\" /><path clip-path=\"url(#clip5100)\" d=\"M 0 0 M2069.26 232.986 L2073.52 232.986 L2073.52 269.004 L2069.26 269.004 L2069.26 232.986 Z\" fill=\"#000000\" fill-rule=\"evenodd\" fill-opacity=\"1\" /><path clip-path=\"url(#clip5100)\" d=\"M 0 0 M2082.2 235.717 L2082.2 243.078 L2090.97 243.078 L2090.97 246.388 L2082.2 246.388 L2082.2 260.462 Q2082.2 263.634 2083.06 264.537 Q2083.94 265.439 2086.6 265.439 L2090.97 265.439 L2090.97 269.004 L2086.6 269.004 Q2081.67 269.004 2079.79 267.175 Q2077.92 265.324 2077.92 260.462 L2077.92 246.388 L2074.79 246.388 L2074.79 243.078 L2077.92 243.078 L2077.92 235.717 L2082.2 235.717 Z\" fill=\"#000000\" fill-rule=\"evenodd\" fill-opacity=\"1\" /><path clip-path=\"url(#clip5100)\" d=\"M 0 0 M2093.59 243.078 L2113.82 243.078 L2113.82 246.967 L2097.8 265.601 L2113.82 265.601 L2113.82 269.004 L2093.01 269.004 L2093.01 265.115 L2109.03 246.481 L2093.59 246.481 L2093.59 243.078 Z\" fill=\"#000000\" fill-rule=\"evenodd\" fill-opacity=\"1\" /><path clip-path=\"url(#clip5100)\" d=\"M 0 0 M2138.47 248.055 Q2140.07 245.185 2142.29 243.819 Q2144.52 242.453 2147.52 242.453 Q2151.58 242.453 2153.77 245.301 Q2155.97 248.125 2155.97 253.356 L2155.97 269.004 L2151.69 269.004 L2151.69 253.495 Q2151.69 249.768 2150.37 247.963 Q2149.05 246.157 2146.34 246.157 Q2143.03 246.157 2141.11 248.356 Q2139.19 250.555 2139.19 254.351 L2139.19 269.004 L2134.91 269.004 L2134.91 253.495 Q2134.91 249.745 2133.59 247.963 Q2132.27 246.157 2129.52 246.157 Q2126.25 246.157 2124.33 248.379 Q2122.41 250.578 2122.41 254.351 L2122.41 269.004 L2118.13 269.004 L2118.13 243.078 L2122.41 243.078 L2122.41 247.106 Q2123.87 244.722 2125.9 243.588 Q2127.94 242.453 2130.74 242.453 Q2133.57 242.453 2135.53 243.888 Q2137.52 245.324 2138.47 248.055 Z\" fill=\"#000000\" fill-rule=\"evenodd\" fill-opacity=\"1\" /><path clip-path=\"url(#clip5100)\" d=\"M 0 0 M2172.22 255.972 Q2167.06 255.972 2165.07 257.152 Q2163.08 258.333 2163.08 261.18 Q2163.08 263.449 2164.56 264.791 Q2166.07 266.111 2168.64 266.111 Q2172.18 266.111 2174.31 263.611 Q2176.46 261.087 2176.46 256.921 L2176.46 255.972 L2172.22 255.972 M2180.72 254.213 L2180.72 269.004 L2176.46 269.004 L2176.46 265.069 Q2175 267.43 2172.83 268.564 Q2170.65 269.675 2167.5 269.675 Q2163.52 269.675 2161.16 267.453 Q2158.82 265.208 2158.82 261.458 Q2158.82 257.083 2161.74 254.861 Q2164.68 252.638 2170.49 252.638 L2176.46 252.638 L2176.46 252.222 Q2176.46 249.282 2174.52 247.685 Q2172.59 246.064 2169.1 246.064 Q2166.88 246.064 2164.77 246.597 Q2162.66 247.129 2160.72 248.194 L2160.72 244.259 Q2163.06 243.356 2165.26 242.916 Q2167.46 242.453 2169.54 242.453 Q2175.16 242.453 2177.94 245.37 Q2180.72 248.287 2180.72 254.213 Z\" fill=\"#000000\" fill-rule=\"evenodd\" fill-opacity=\"1\" /><path clip-path=\"url(#clip5100)\" d=\"M 0 0 M2206.74 253.356 L2206.74 269.004 L2202.48 269.004 L2202.48 253.495 Q2202.48 249.814 2201.04 247.986 Q2199.61 246.157 2196.74 246.157 Q2193.29 246.157 2191.3 248.356 Q2189.31 250.555 2189.31 254.351 L2189.31 269.004 L2185.02 269.004 L2185.02 243.078 L2189.31 243.078 L2189.31 247.106 Q2190.83 244.768 2192.9 243.611 Q2194.98 242.453 2197.69 242.453 Q2202.15 242.453 2204.45 245.231 Q2206.74 247.986 2206.74 253.356 Z\" fill=\"#000000\" fill-rule=\"evenodd\" fill-opacity=\"1\" /><path clip-path=\"url(#clip5100)\" d=\"M 0 0 M2232.76 253.356 L2232.76 269.004 L2228.5 269.004 L2228.5 253.495 Q2228.5 249.814 2227.06 247.986 Q2225.63 246.157 2222.76 246.157 Q2219.31 246.157 2217.32 248.356 Q2215.33 250.555 2215.33 254.351 L2215.33 269.004 L2211.04 269.004 L2211.04 243.078 L2215.33 243.078 L2215.33 247.106 Q2216.85 244.768 2218.91 243.611 Q2221 242.453 2223.71 242.453 Q2228.17 242.453 2230.46 245.231 Q2232.76 247.986 2232.76 253.356 Z\" fill=\"#000000\" fill-rule=\"evenodd\" fill-opacity=\"1\" /><polyline clip-path=\"url(#clip5100)\" style=\"stroke:#a52a2a; stroke-width:8; stroke-opacity:1; fill:none\" points=\"\n",
       "  1845.87,312.204 1989.87,312.204 \n",
       "  \"/>\n",
       "<path clip-path=\"url(#clip5100)\" d=\"M 0 0 M2018.54 312.98 L2018.54 325.642 L2026.04 325.642 Q2029.82 325.642 2031.62 324.091 Q2033.45 322.517 2033.45 319.299 Q2033.45 316.058 2031.62 314.53 Q2029.82 312.98 2026.04 312.98 L2018.54 312.98 M2018.54 298.767 L2018.54 309.183 L2025.47 309.183 Q2028.89 309.183 2030.56 307.91 Q2032.25 306.614 2032.25 303.975 Q2032.25 301.359 2030.56 300.063 Q2028.89 298.767 2025.47 298.767 L2018.54 298.767 M2013.87 294.924 L2025.81 294.924 Q2031.16 294.924 2034.05 297.146 Q2036.95 299.369 2036.95 303.466 Q2036.95 306.637 2035.47 308.512 Q2033.98 310.387 2031.11 310.85 Q2034.56 311.591 2036.46 313.952 Q2038.38 316.29 2038.38 319.808 Q2038.38 324.438 2035.23 326.961 Q2032.09 329.484 2026.28 329.484 L2013.87 329.484 L2013.87 294.924 Z\" fill=\"#000000\" fill-rule=\"evenodd\" fill-opacity=\"1\" /><path clip-path=\"url(#clip5100)\" d=\"M 0 0 M2052.9 306.544 Q2049.47 306.544 2047.48 309.23 Q2045.49 311.892 2045.49 316.544 Q2045.49 321.197 2047.46 323.882 Q2049.45 326.544 2052.9 326.544 Q2056.3 326.544 2058.29 323.859 Q2060.28 321.174 2060.28 316.544 Q2060.28 311.938 2058.29 309.253 Q2056.3 306.544 2052.9 306.544 M2052.9 302.933 Q2058.45 302.933 2061.62 306.544 Q2064.79 310.155 2064.79 316.544 Q2064.79 322.91 2061.62 326.544 Q2058.45 330.155 2052.9 330.155 Q2047.32 330.155 2044.15 326.544 Q2041 322.91 2041 316.544 Q2041 310.155 2044.15 306.544 Q2047.32 302.933 2052.9 302.933 Z\" fill=\"#000000\" fill-rule=\"evenodd\" fill-opacity=\"1\" /><path clip-path=\"url(#clip5100)\" d=\"M 0 0 M2069.26 293.466 L2073.52 293.466 L2073.52 329.484 L2069.26 329.484 L2069.26 293.466 Z\" fill=\"#000000\" fill-rule=\"evenodd\" fill-opacity=\"1\" /><path clip-path=\"url(#clip5100)\" d=\"M 0 0 M2082.2 296.197 L2082.2 303.558 L2090.97 303.558 L2090.97 306.868 L2082.2 306.868 L2082.2 320.942 Q2082.2 324.114 2083.06 325.017 Q2083.94 325.919 2086.6 325.919 L2090.97 325.919 L2090.97 329.484 L2086.6 329.484 Q2081.67 329.484 2079.79 327.655 Q2077.92 325.804 2077.92 320.942 L2077.92 306.868 L2074.79 306.868 L2074.79 303.558 L2077.92 303.558 L2077.92 296.197 L2082.2 296.197 Z\" fill=\"#000000\" fill-rule=\"evenodd\" fill-opacity=\"1\" /><path clip-path=\"url(#clip5100)\" d=\"M 0 0 M2093.59 303.558 L2113.82 303.558 L2113.82 307.447 L2097.8 326.081 L2113.82 326.081 L2113.82 329.484 L2093.01 329.484 L2093.01 325.595 L2109.03 306.961 L2093.59 306.961 L2093.59 303.558 Z\" fill=\"#000000\" fill-rule=\"evenodd\" fill-opacity=\"1\" /><path clip-path=\"url(#clip5100)\" d=\"M 0 0 M2138.47 308.535 Q2140.07 305.665 2142.29 304.299 Q2144.52 302.933 2147.52 302.933 Q2151.58 302.933 2153.77 305.781 Q2155.97 308.605 2155.97 313.836 L2155.97 329.484 L2151.69 329.484 L2151.69 313.975 Q2151.69 310.248 2150.37 308.443 Q2149.05 306.637 2146.34 306.637 Q2143.03 306.637 2141.11 308.836 Q2139.19 311.035 2139.19 314.831 L2139.19 329.484 L2134.91 329.484 L2134.91 313.975 Q2134.91 310.225 2133.59 308.443 Q2132.27 306.637 2129.52 306.637 Q2126.25 306.637 2124.33 308.859 Q2122.41 311.058 2122.41 314.831 L2122.41 329.484 L2118.13 329.484 L2118.13 303.558 L2122.41 303.558 L2122.41 307.586 Q2123.87 305.202 2125.9 304.068 Q2127.94 302.933 2130.74 302.933 Q2133.57 302.933 2135.53 304.368 Q2137.52 305.804 2138.47 308.535 Z\" fill=\"#000000\" fill-rule=\"evenodd\" fill-opacity=\"1\" /><path clip-path=\"url(#clip5100)\" d=\"M 0 0 M2172.22 316.452 Q2167.06 316.452 2165.07 317.632 Q2163.08 318.813 2163.08 321.66 Q2163.08 323.929 2164.56 325.271 Q2166.07 326.591 2168.64 326.591 Q2172.18 326.591 2174.31 324.091 Q2176.46 321.567 2176.46 317.401 L2176.46 316.452 L2172.22 316.452 M2180.72 314.693 L2180.72 329.484 L2176.46 329.484 L2176.46 325.549 Q2175 327.91 2172.83 329.044 Q2170.65 330.155 2167.5 330.155 Q2163.52 330.155 2161.16 327.933 Q2158.82 325.688 2158.82 321.938 Q2158.82 317.563 2161.74 315.341 Q2164.68 313.118 2170.49 313.118 L2176.46 313.118 L2176.46 312.702 Q2176.46 309.762 2174.52 308.165 Q2172.59 306.544 2169.1 306.544 Q2166.88 306.544 2164.77 307.077 Q2162.66 307.609 2160.72 308.674 L2160.72 304.739 Q2163.06 303.836 2165.26 303.396 Q2167.46 302.933 2169.54 302.933 Q2175.16 302.933 2177.94 305.85 Q2180.72 308.767 2180.72 314.693 Z\" fill=\"#000000\" fill-rule=\"evenodd\" fill-opacity=\"1\" /><path clip-path=\"url(#clip5100)\" d=\"M 0 0 M2206.74 313.836 L2206.74 329.484 L2202.48 329.484 L2202.48 313.975 Q2202.48 310.294 2201.04 308.466 Q2199.61 306.637 2196.74 306.637 Q2193.29 306.637 2191.3 308.836 Q2189.31 311.035 2189.31 314.831 L2189.31 329.484 L2185.02 329.484 L2185.02 303.558 L2189.31 303.558 L2189.31 307.586 Q2190.83 305.248 2192.9 304.091 Q2194.98 302.933 2197.69 302.933 Q2202.15 302.933 2204.45 305.711 Q2206.74 308.466 2206.74 313.836 Z\" fill=\"#000000\" fill-rule=\"evenodd\" fill-opacity=\"1\" /><path clip-path=\"url(#clip5100)\" d=\"M 0 0 M2232.76 313.836 L2232.76 329.484 L2228.5 329.484 L2228.5 313.975 Q2228.5 310.294 2227.06 308.466 Q2225.63 306.637 2222.76 306.637 Q2219.31 306.637 2217.32 308.836 Q2215.33 311.035 2215.33 314.831 L2215.33 329.484 L2211.04 329.484 L2211.04 303.558 L2215.33 303.558 L2215.33 307.586 Q2216.85 305.248 2218.91 304.091 Q2221 302.933 2223.71 302.933 Q2228.17 302.933 2230.46 305.711 Q2232.76 308.466 2232.76 313.836 Z\" fill=\"#000000\" fill-rule=\"evenodd\" fill-opacity=\"1\" /><polyline clip-path=\"url(#clip5100)\" style=\"stroke:#a52a2a; stroke-width:8; stroke-opacity:1; fill:none\" points=\"\n",
       "  1845.87,372.684 1989.87,372.684 \n",
       "  \"/>\n",
       "<path clip-path=\"url(#clip5100)\" d=\"M 0 0 M2018.54 373.46 L2018.54 386.122 L2026.04 386.122 Q2029.82 386.122 2031.62 384.571 Q2033.45 382.997 2033.45 379.779 Q2033.45 376.538 2031.62 375.01 Q2029.82 373.46 2026.04 373.46 L2018.54 373.46 M2018.54 359.247 L2018.54 369.663 L2025.47 369.663 Q2028.89 369.663 2030.56 368.39 Q2032.25 367.094 2032.25 364.455 Q2032.25 361.839 2030.56 360.543 Q2028.89 359.247 2025.47 359.247 L2018.54 359.247 M2013.87 355.404 L2025.81 355.404 Q2031.16 355.404 2034.05 357.626 Q2036.95 359.849 2036.95 363.946 Q2036.95 367.117 2035.47 368.992 Q2033.98 370.867 2031.11 371.33 Q2034.56 372.071 2036.46 374.432 Q2038.38 376.77 2038.38 380.288 Q2038.38 384.918 2035.23 387.441 Q2032.09 389.964 2026.28 389.964 L2013.87 389.964 L2013.87 355.404 Z\" fill=\"#000000\" fill-rule=\"evenodd\" fill-opacity=\"1\" /><path clip-path=\"url(#clip5100)\" d=\"M 0 0 M2052.9 367.024 Q2049.47 367.024 2047.48 369.71 Q2045.49 372.372 2045.49 377.024 Q2045.49 381.677 2047.46 384.362 Q2049.45 387.024 2052.9 387.024 Q2056.3 387.024 2058.29 384.339 Q2060.28 381.654 2060.28 377.024 Q2060.28 372.418 2058.29 369.733 Q2056.3 367.024 2052.9 367.024 M2052.9 363.413 Q2058.45 363.413 2061.62 367.024 Q2064.79 370.635 2064.79 377.024 Q2064.79 383.39 2061.62 387.024 Q2058.45 390.635 2052.9 390.635 Q2047.32 390.635 2044.15 387.024 Q2041 383.39 2041 377.024 Q2041 370.635 2044.15 367.024 Q2047.32 363.413 2052.9 363.413 Z\" fill=\"#000000\" fill-rule=\"evenodd\" fill-opacity=\"1\" /><path clip-path=\"url(#clip5100)\" d=\"M 0 0 M2069.26 353.946 L2073.52 353.946 L2073.52 389.964 L2069.26 389.964 L2069.26 353.946 Z\" fill=\"#000000\" fill-rule=\"evenodd\" fill-opacity=\"1\" /><path clip-path=\"url(#clip5100)\" d=\"M 0 0 M2082.2 356.677 L2082.2 364.038 L2090.97 364.038 L2090.97 367.348 L2082.2 367.348 L2082.2 381.422 Q2082.2 384.594 2083.06 385.497 Q2083.94 386.399 2086.6 386.399 L2090.97 386.399 L2090.97 389.964 L2086.6 389.964 Q2081.67 389.964 2079.79 388.135 Q2077.92 386.284 2077.92 381.422 L2077.92 367.348 L2074.79 367.348 L2074.79 364.038 L2077.92 364.038 L2077.92 356.677 L2082.2 356.677 Z\" fill=\"#000000\" fill-rule=\"evenodd\" fill-opacity=\"1\" /><path clip-path=\"url(#clip5100)\" d=\"M 0 0 M2093.59 364.038 L2113.82 364.038 L2113.82 367.927 L2097.8 386.561 L2113.82 386.561 L2113.82 389.964 L2093.01 389.964 L2093.01 386.075 L2109.03 367.441 L2093.59 367.441 L2093.59 364.038 Z\" fill=\"#000000\" fill-rule=\"evenodd\" fill-opacity=\"1\" /><path clip-path=\"url(#clip5100)\" d=\"M 0 0 M2138.47 369.015 Q2140.07 366.145 2142.29 364.779 Q2144.52 363.413 2147.52 363.413 Q2151.58 363.413 2153.77 366.261 Q2155.97 369.085 2155.97 374.316 L2155.97 389.964 L2151.69 389.964 L2151.69 374.455 Q2151.69 370.728 2150.37 368.923 Q2149.05 367.117 2146.34 367.117 Q2143.03 367.117 2141.11 369.316 Q2139.19 371.515 2139.19 375.311 L2139.19 389.964 L2134.91 389.964 L2134.91 374.455 Q2134.91 370.705 2133.59 368.923 Q2132.27 367.117 2129.52 367.117 Q2126.25 367.117 2124.33 369.339 Q2122.41 371.538 2122.41 375.311 L2122.41 389.964 L2118.13 389.964 L2118.13 364.038 L2122.41 364.038 L2122.41 368.066 Q2123.87 365.682 2125.9 364.548 Q2127.94 363.413 2130.74 363.413 Q2133.57 363.413 2135.53 364.848 Q2137.52 366.284 2138.47 369.015 Z\" fill=\"#000000\" fill-rule=\"evenodd\" fill-opacity=\"1\" /><path clip-path=\"url(#clip5100)\" d=\"M 0 0 M2172.22 376.932 Q2167.06 376.932 2165.07 378.112 Q2163.08 379.293 2163.08 382.14 Q2163.08 384.409 2164.56 385.751 Q2166.07 387.071 2168.64 387.071 Q2172.18 387.071 2174.31 384.571 Q2176.46 382.047 2176.46 377.881 L2176.46 376.932 L2172.22 376.932 M2180.72 375.173 L2180.72 389.964 L2176.46 389.964 L2176.46 386.029 Q2175 388.39 2172.83 389.524 Q2170.65 390.635 2167.5 390.635 Q2163.52 390.635 2161.16 388.413 Q2158.82 386.168 2158.82 382.418 Q2158.82 378.043 2161.74 375.821 Q2164.68 373.598 2170.49 373.598 L2176.46 373.598 L2176.46 373.182 Q2176.46 370.242 2174.52 368.645 Q2172.59 367.024 2169.1 367.024 Q2166.88 367.024 2164.77 367.557 Q2162.66 368.089 2160.72 369.154 L2160.72 365.219 Q2163.06 364.316 2165.26 363.876 Q2167.46 363.413 2169.54 363.413 Q2175.16 363.413 2177.94 366.33 Q2180.72 369.247 2180.72 375.173 Z\" fill=\"#000000\" fill-rule=\"evenodd\" fill-opacity=\"1\" /><path clip-path=\"url(#clip5100)\" d=\"M 0 0 M2206.74 374.316 L2206.74 389.964 L2202.48 389.964 L2202.48 374.455 Q2202.48 370.774 2201.04 368.946 Q2199.61 367.117 2196.74 367.117 Q2193.29 367.117 2191.3 369.316 Q2189.31 371.515 2189.31 375.311 L2189.31 389.964 L2185.02 389.964 L2185.02 364.038 L2189.31 364.038 L2189.31 368.066 Q2190.83 365.728 2192.9 364.571 Q2194.98 363.413 2197.69 363.413 Q2202.15 363.413 2204.45 366.191 Q2206.74 368.946 2206.74 374.316 Z\" fill=\"#000000\" fill-rule=\"evenodd\" fill-opacity=\"1\" /><path clip-path=\"url(#clip5100)\" d=\"M 0 0 M2232.76 374.316 L2232.76 389.964 L2228.5 389.964 L2228.5 374.455 Q2228.5 370.774 2227.06 368.946 Q2225.63 367.117 2222.76 367.117 Q2219.31 367.117 2217.32 369.316 Q2215.33 371.515 2215.33 375.311 L2215.33 389.964 L2211.04 389.964 L2211.04 364.038 L2215.33 364.038 L2215.33 368.066 Q2216.85 365.728 2218.91 364.571 Q2221 363.413 2223.71 363.413 Q2228.17 363.413 2230.46 366.191 Q2232.76 368.946 2232.76 374.316 Z\" fill=\"#000000\" fill-rule=\"evenodd\" fill-opacity=\"1\" /><polyline clip-path=\"url(#clip5100)\" style=\"stroke:#a52a2a; stroke-width:8; stroke-opacity:1; fill:none\" points=\"\n",
       "  1845.87,433.164 1989.87,433.164 \n",
       "  \"/>\n",
       "<path clip-path=\"url(#clip5100)\" d=\"M 0 0 M2018.54 433.94 L2018.54 446.602 L2026.04 446.602 Q2029.82 446.602 2031.62 445.051 Q2033.45 443.477 2033.45 440.259 Q2033.45 437.018 2031.62 435.49 Q2029.82 433.94 2026.04 433.94 L2018.54 433.94 M2018.54 419.727 L2018.54 430.143 L2025.47 430.143 Q2028.89 430.143 2030.56 428.87 Q2032.25 427.574 2032.25 424.935 Q2032.25 422.319 2030.56 421.023 Q2028.89 419.727 2025.47 419.727 L2018.54 419.727 M2013.87 415.884 L2025.81 415.884 Q2031.16 415.884 2034.05 418.106 Q2036.95 420.329 2036.95 424.426 Q2036.95 427.597 2035.47 429.472 Q2033.98 431.347 2031.11 431.81 Q2034.56 432.551 2036.46 434.912 Q2038.38 437.25 2038.38 440.768 Q2038.38 445.398 2035.23 447.921 Q2032.09 450.444 2026.28 450.444 L2013.87 450.444 L2013.87 415.884 Z\" fill=\"#000000\" fill-rule=\"evenodd\" fill-opacity=\"1\" /><path clip-path=\"url(#clip5100)\" d=\"M 0 0 M2052.9 427.504 Q2049.47 427.504 2047.48 430.19 Q2045.49 432.852 2045.49 437.504 Q2045.49 442.157 2047.46 444.842 Q2049.45 447.504 2052.9 447.504 Q2056.3 447.504 2058.29 444.819 Q2060.28 442.134 2060.28 437.504 Q2060.28 432.898 2058.29 430.213 Q2056.3 427.504 2052.9 427.504 M2052.9 423.893 Q2058.45 423.893 2061.62 427.504 Q2064.79 431.115 2064.79 437.504 Q2064.79 443.87 2061.62 447.504 Q2058.45 451.115 2052.9 451.115 Q2047.32 451.115 2044.15 447.504 Q2041 443.87 2041 437.504 Q2041 431.115 2044.15 427.504 Q2047.32 423.893 2052.9 423.893 Z\" fill=\"#000000\" fill-rule=\"evenodd\" fill-opacity=\"1\" /><path clip-path=\"url(#clip5100)\" d=\"M 0 0 M2069.26 414.426 L2073.52 414.426 L2073.52 450.444 L2069.26 450.444 L2069.26 414.426 Z\" fill=\"#000000\" fill-rule=\"evenodd\" fill-opacity=\"1\" /><path clip-path=\"url(#clip5100)\" d=\"M 0 0 M2082.2 417.157 L2082.2 424.518 L2090.97 424.518 L2090.97 427.828 L2082.2 427.828 L2082.2 441.902 Q2082.2 445.074 2083.06 445.977 Q2083.94 446.879 2086.6 446.879 L2090.97 446.879 L2090.97 450.444 L2086.6 450.444 Q2081.67 450.444 2079.79 448.615 Q2077.92 446.764 2077.92 441.902 L2077.92 427.828 L2074.79 427.828 L2074.79 424.518 L2077.92 424.518 L2077.92 417.157 L2082.2 417.157 Z\" fill=\"#000000\" fill-rule=\"evenodd\" fill-opacity=\"1\" /><path clip-path=\"url(#clip5100)\" d=\"M 0 0 M2093.59 424.518 L2113.82 424.518 L2113.82 428.407 L2097.8 447.041 L2113.82 447.041 L2113.82 450.444 L2093.01 450.444 L2093.01 446.555 L2109.03 427.921 L2093.59 427.921 L2093.59 424.518 Z\" fill=\"#000000\" fill-rule=\"evenodd\" fill-opacity=\"1\" /><path clip-path=\"url(#clip5100)\" d=\"M 0 0 M2138.47 429.495 Q2140.07 426.625 2142.29 425.259 Q2144.52 423.893 2147.52 423.893 Q2151.58 423.893 2153.77 426.741 Q2155.97 429.565 2155.97 434.796 L2155.97 450.444 L2151.69 450.444 L2151.69 434.935 Q2151.69 431.208 2150.37 429.403 Q2149.05 427.597 2146.34 427.597 Q2143.03 427.597 2141.11 429.796 Q2139.19 431.995 2139.19 435.791 L2139.19 450.444 L2134.91 450.444 L2134.91 434.935 Q2134.91 431.185 2133.59 429.403 Q2132.27 427.597 2129.52 427.597 Q2126.25 427.597 2124.33 429.819 Q2122.41 432.018 2122.41 435.791 L2122.41 450.444 L2118.13 450.444 L2118.13 424.518 L2122.41 424.518 L2122.41 428.546 Q2123.87 426.162 2125.9 425.028 Q2127.94 423.893 2130.74 423.893 Q2133.57 423.893 2135.53 425.328 Q2137.52 426.764 2138.47 429.495 Z\" fill=\"#000000\" fill-rule=\"evenodd\" fill-opacity=\"1\" /><path clip-path=\"url(#clip5100)\" d=\"M 0 0 M2172.22 437.412 Q2167.06 437.412 2165.07 438.592 Q2163.08 439.773 2163.08 442.62 Q2163.08 444.889 2164.56 446.231 Q2166.07 447.551 2168.64 447.551 Q2172.18 447.551 2174.31 445.051 Q2176.46 442.527 2176.46 438.361 L2176.46 437.412 L2172.22 437.412 M2180.72 435.653 L2180.72 450.444 L2176.46 450.444 L2176.46 446.509 Q2175 448.87 2172.83 450.004 Q2170.65 451.115 2167.5 451.115 Q2163.52 451.115 2161.16 448.893 Q2158.82 446.648 2158.82 442.898 Q2158.82 438.523 2161.74 436.301 Q2164.68 434.078 2170.49 434.078 L2176.46 434.078 L2176.46 433.662 Q2176.46 430.722 2174.52 429.125 Q2172.59 427.504 2169.1 427.504 Q2166.88 427.504 2164.77 428.037 Q2162.66 428.569 2160.72 429.634 L2160.72 425.699 Q2163.06 424.796 2165.26 424.356 Q2167.46 423.893 2169.54 423.893 Q2175.16 423.893 2177.94 426.81 Q2180.72 429.727 2180.72 435.653 Z\" fill=\"#000000\" fill-rule=\"evenodd\" fill-opacity=\"1\" /><path clip-path=\"url(#clip5100)\" d=\"M 0 0 M2206.74 434.796 L2206.74 450.444 L2202.48 450.444 L2202.48 434.935 Q2202.48 431.254 2201.04 429.426 Q2199.61 427.597 2196.74 427.597 Q2193.29 427.597 2191.3 429.796 Q2189.31 431.995 2189.31 435.791 L2189.31 450.444 L2185.02 450.444 L2185.02 424.518 L2189.31 424.518 L2189.31 428.546 Q2190.83 426.208 2192.9 425.051 Q2194.98 423.893 2197.69 423.893 Q2202.15 423.893 2204.45 426.671 Q2206.74 429.426 2206.74 434.796 Z\" fill=\"#000000\" fill-rule=\"evenodd\" fill-opacity=\"1\" /><path clip-path=\"url(#clip5100)\" d=\"M 0 0 M2232.76 434.796 L2232.76 450.444 L2228.5 450.444 L2228.5 434.935 Q2228.5 431.254 2227.06 429.426 Q2225.63 427.597 2222.76 427.597 Q2219.31 427.597 2217.32 429.796 Q2215.33 431.995 2215.33 435.791 L2215.33 450.444 L2211.04 450.444 L2211.04 424.518 L2215.33 424.518 L2215.33 428.546 Q2216.85 426.208 2218.91 425.051 Q2221 423.893 2223.71 423.893 Q2228.17 423.893 2230.46 426.671 Q2232.76 429.426 2232.76 434.796 Z\" fill=\"#000000\" fill-rule=\"evenodd\" fill-opacity=\"1\" /><polyline clip-path=\"url(#clip5100)\" style=\"stroke:#525252; stroke-width:8; stroke-opacity:1; fill:none\" stroke-dasharray=\"32, 20\" points=\"\n",
       "  1845.87,493.644 1989.87,493.644 \n",
       "  \"/>\n",
       "<path clip-path=\"url(#clip5100)\" d=\"M 0 0 M2018.54 494.42 L2018.54 507.082 L2026.04 507.082 Q2029.82 507.082 2031.62 505.531 Q2033.45 503.957 2033.45 500.739 Q2033.45 497.498 2031.62 495.97 Q2029.82 494.42 2026.04 494.42 L2018.54 494.42 M2018.54 480.207 L2018.54 490.623 L2025.47 490.623 Q2028.89 490.623 2030.56 489.35 Q2032.25 488.054 2032.25 485.415 Q2032.25 482.799 2030.56 481.503 Q2028.89 480.207 2025.47 480.207 L2018.54 480.207 M2013.87 476.364 L2025.81 476.364 Q2031.16 476.364 2034.05 478.586 Q2036.95 480.809 2036.95 484.906 Q2036.95 488.077 2035.47 489.952 Q2033.98 491.827 2031.11 492.29 Q2034.56 493.031 2036.46 495.392 Q2038.38 497.73 2038.38 501.248 Q2038.38 505.878 2035.23 508.401 Q2032.09 510.924 2026.28 510.924 L2013.87 510.924 L2013.87 476.364 Z\" fill=\"#000000\" fill-rule=\"evenodd\" fill-opacity=\"1\" /><path clip-path=\"url(#clip5100)\" d=\"M 0 0 M2065.77 505.994 L2065.77 496.711 L2058.13 496.711 L2058.13 492.869 L2070.4 492.869 L2070.4 507.707 Q2067.69 509.628 2064.42 510.623 Q2061.16 511.595 2057.46 511.595 Q2049.35 511.595 2044.77 506.873 Q2040.21 502.128 2040.21 493.679 Q2040.21 485.207 2044.77 480.484 Q2049.35 475.739 2057.46 475.739 Q2060.84 475.739 2063.87 476.572 Q2066.92 477.406 2069.49 479.026 L2069.49 484.003 Q2066.9 481.804 2063.98 480.693 Q2061.07 479.582 2057.85 479.582 Q2051.51 479.582 2048.31 483.123 Q2045.14 486.665 2045.14 493.679 Q2045.14 500.67 2048.31 504.211 Q2051.51 507.753 2057.85 507.753 Q2060.33 507.753 2062.27 507.336 Q2064.22 506.896 2065.77 505.994 Z\" fill=\"#000000\" fill-rule=\"evenodd\" fill-opacity=\"1\" /><path clip-path=\"url(#clip5100)\" d=\"M 0 0 M2075.05 476.364 L2079.72 476.364 L2079.72 490.97 L2095.23 476.364 L2101.25 476.364 L2084.1 492.475 L2102.48 510.924 L2096.32 510.924 L2079.72 494.281 L2079.72 510.924 L2075.05 510.924 L2075.05 476.364 Z\" fill=\"#000000\" fill-rule=\"evenodd\" fill-opacity=\"1\" /><polyline clip-path=\"url(#clip5100)\" style=\"stroke:#525252; stroke-width:8; stroke-opacity:1; fill:none\" stroke-dasharray=\"32, 20\" points=\"\n",
       "  1845.87,554.124 1989.87,554.124 \n",
       "  \"/>\n",
       "<path clip-path=\"url(#clip5100)\" d=\"M 0 0 M2018.54 554.9 L2018.54 567.562 L2026.04 567.562 Q2029.82 567.562 2031.62 566.011 Q2033.45 564.437 2033.45 561.219 Q2033.45 557.978 2031.62 556.45 Q2029.82 554.9 2026.04 554.9 L2018.54 554.9 M2018.54 540.687 L2018.54 551.103 L2025.47 551.103 Q2028.89 551.103 2030.56 549.83 Q2032.25 548.534 2032.25 545.895 Q2032.25 543.279 2030.56 541.983 Q2028.89 540.687 2025.47 540.687 L2018.54 540.687 M2013.87 536.844 L2025.81 536.844 Q2031.16 536.844 2034.05 539.066 Q2036.95 541.289 2036.95 545.386 Q2036.95 548.557 2035.47 550.432 Q2033.98 552.307 2031.11 552.77 Q2034.56 553.511 2036.46 555.872 Q2038.38 558.21 2038.38 561.728 Q2038.38 566.358 2035.23 568.881 Q2032.09 571.404 2026.28 571.404 L2013.87 571.404 L2013.87 536.844 Z\" fill=\"#000000\" fill-rule=\"evenodd\" fill-opacity=\"1\" /><path clip-path=\"url(#clip5100)\" d=\"M 0 0 M2065.77 566.474 L2065.77 557.191 L2058.13 557.191 L2058.13 553.349 L2070.4 553.349 L2070.4 568.187 Q2067.69 570.108 2064.42 571.103 Q2061.16 572.075 2057.46 572.075 Q2049.35 572.075 2044.77 567.353 Q2040.21 562.608 2040.21 554.159 Q2040.21 545.687 2044.77 540.964 Q2049.35 536.219 2057.46 536.219 Q2060.84 536.219 2063.87 537.052 Q2066.92 537.886 2069.49 539.506 L2069.49 544.483 Q2066.9 542.284 2063.98 541.173 Q2061.07 540.062 2057.85 540.062 Q2051.51 540.062 2048.31 543.603 Q2045.14 547.145 2045.14 554.159 Q2045.14 561.15 2048.31 564.691 Q2051.51 568.233 2057.85 568.233 Q2060.33 568.233 2062.27 567.816 Q2064.22 567.376 2065.77 566.474 Z\" fill=\"#000000\" fill-rule=\"evenodd\" fill-opacity=\"1\" /><path clip-path=\"url(#clip5100)\" d=\"M 0 0 M2075.05 536.844 L2079.72 536.844 L2079.72 551.45 L2095.23 536.844 L2101.25 536.844 L2084.1 552.955 L2102.48 571.404 L2096.32 571.404 L2079.72 554.761 L2079.72 571.404 L2075.05 571.404 L2075.05 536.844 Z\" fill=\"#000000\" fill-rule=\"evenodd\" fill-opacity=\"1\" /><polyline clip-path=\"url(#clip5100)\" style=\"stroke:#525252; stroke-width:8; stroke-opacity:1; fill:none\" stroke-dasharray=\"32, 20\" points=\"\n",
       "  1845.87,614.604 1989.87,614.604 \n",
       "  \"/>\n",
       "<path clip-path=\"url(#clip5100)\" d=\"M 0 0 M2018.54 615.38 L2018.54 628.042 L2026.04 628.042 Q2029.82 628.042 2031.62 626.491 Q2033.45 624.917 2033.45 621.699 Q2033.45 618.458 2031.62 616.93 Q2029.82 615.38 2026.04 615.38 L2018.54 615.38 M2018.54 601.167 L2018.54 611.583 L2025.47 611.583 Q2028.89 611.583 2030.56 610.31 Q2032.25 609.014 2032.25 606.375 Q2032.25 603.759 2030.56 602.463 Q2028.89 601.167 2025.47 601.167 L2018.54 601.167 M2013.87 597.324 L2025.81 597.324 Q2031.16 597.324 2034.05 599.546 Q2036.95 601.769 2036.95 605.866 Q2036.95 609.037 2035.47 610.912 Q2033.98 612.787 2031.11 613.25 Q2034.56 613.991 2036.46 616.352 Q2038.38 618.69 2038.38 622.208 Q2038.38 626.838 2035.23 629.361 Q2032.09 631.884 2026.28 631.884 L2013.87 631.884 L2013.87 597.324 Z\" fill=\"#000000\" fill-rule=\"evenodd\" fill-opacity=\"1\" /><path clip-path=\"url(#clip5100)\" d=\"M 0 0 M2065.77 626.954 L2065.77 617.671 L2058.13 617.671 L2058.13 613.829 L2070.4 613.829 L2070.4 628.667 Q2067.69 630.588 2064.42 631.583 Q2061.16 632.555 2057.46 632.555 Q2049.35 632.555 2044.77 627.833 Q2040.21 623.088 2040.21 614.639 Q2040.21 606.167 2044.77 601.444 Q2049.35 596.699 2057.46 596.699 Q2060.84 596.699 2063.87 597.532 Q2066.92 598.366 2069.49 599.986 L2069.49 604.963 Q2066.9 602.764 2063.98 601.653 Q2061.07 600.542 2057.85 600.542 Q2051.51 600.542 2048.31 604.083 Q2045.14 607.625 2045.14 614.639 Q2045.14 621.63 2048.31 625.171 Q2051.51 628.713 2057.85 628.713 Q2060.33 628.713 2062.27 628.296 Q2064.22 627.856 2065.77 626.954 Z\" fill=\"#000000\" fill-rule=\"evenodd\" fill-opacity=\"1\" /><path clip-path=\"url(#clip5100)\" d=\"M 0 0 M2075.05 597.324 L2079.72 597.324 L2079.72 611.93 L2095.23 597.324 L2101.25 597.324 L2084.1 613.435 L2102.48 631.884 L2096.32 631.884 L2079.72 615.241 L2079.72 631.884 L2075.05 631.884 L2075.05 597.324 Z\" fill=\"#000000\" fill-rule=\"evenodd\" fill-opacity=\"1\" /><polyline clip-path=\"url(#clip5100)\" style=\"stroke:#525252; stroke-width:8; stroke-opacity:1; fill:none\" stroke-dasharray=\"32, 20\" points=\"\n",
       "  1845.87,675.084 1989.87,675.084 \n",
       "  \"/>\n",
       "<path clip-path=\"url(#clip5100)\" d=\"M 0 0 M2018.54 675.86 L2018.54 688.522 L2026.04 688.522 Q2029.82 688.522 2031.62 686.971 Q2033.45 685.397 2033.45 682.179 Q2033.45 678.938 2031.62 677.41 Q2029.82 675.86 2026.04 675.86 L2018.54 675.86 M2018.54 661.647 L2018.54 672.063 L2025.47 672.063 Q2028.89 672.063 2030.56 670.79 Q2032.25 669.494 2032.25 666.855 Q2032.25 664.239 2030.56 662.943 Q2028.89 661.647 2025.47 661.647 L2018.54 661.647 M2013.87 657.804 L2025.81 657.804 Q2031.16 657.804 2034.05 660.026 Q2036.95 662.249 2036.95 666.346 Q2036.95 669.517 2035.47 671.392 Q2033.98 673.267 2031.11 673.73 Q2034.56 674.471 2036.46 676.832 Q2038.38 679.17 2038.38 682.688 Q2038.38 687.318 2035.23 689.841 Q2032.09 692.364 2026.28 692.364 L2013.87 692.364 L2013.87 657.804 Z\" fill=\"#000000\" fill-rule=\"evenodd\" fill-opacity=\"1\" /><path clip-path=\"url(#clip5100)\" d=\"M 0 0 M2065.77 687.434 L2065.77 678.151 L2058.13 678.151 L2058.13 674.309 L2070.4 674.309 L2070.4 689.147 Q2067.69 691.068 2064.42 692.063 Q2061.16 693.035 2057.46 693.035 Q2049.35 693.035 2044.77 688.313 Q2040.21 683.568 2040.21 675.119 Q2040.21 666.647 2044.77 661.924 Q2049.35 657.179 2057.46 657.179 Q2060.84 657.179 2063.87 658.012 Q2066.92 658.846 2069.49 660.466 L2069.49 665.443 Q2066.9 663.244 2063.98 662.133 Q2061.07 661.022 2057.85 661.022 Q2051.51 661.022 2048.31 664.563 Q2045.14 668.105 2045.14 675.119 Q2045.14 682.11 2048.31 685.651 Q2051.51 689.193 2057.85 689.193 Q2060.33 689.193 2062.27 688.776 Q2064.22 688.336 2065.77 687.434 Z\" fill=\"#000000\" fill-rule=\"evenodd\" fill-opacity=\"1\" /><path clip-path=\"url(#clip5100)\" d=\"M 0 0 M2075.05 657.804 L2079.72 657.804 L2079.72 672.41 L2095.23 657.804 L2101.25 657.804 L2084.1 673.915 L2102.48 692.364 L2096.32 692.364 L2079.72 675.721 L2079.72 692.364 L2075.05 692.364 L2075.05 657.804 Z\" fill=\"#000000\" fill-rule=\"evenodd\" fill-opacity=\"1\" /><polyline clip-path=\"url(#clip5100)\" style=\"stroke:#525252; stroke-width:8; stroke-opacity:1; fill:none\" stroke-dasharray=\"32, 20\" points=\"\n",
       "  1845.87,735.564 1989.87,735.564 \n",
       "  \"/>\n",
       "<path clip-path=\"url(#clip5100)\" d=\"M 0 0 M2018.54 736.34 L2018.54 749.002 L2026.04 749.002 Q2029.82 749.002 2031.62 747.451 Q2033.45 745.877 2033.45 742.659 Q2033.45 739.418 2031.62 737.89 Q2029.82 736.34 2026.04 736.34 L2018.54 736.34 M2018.54 722.127 L2018.54 732.543 L2025.47 732.543 Q2028.89 732.543 2030.56 731.27 Q2032.25 729.974 2032.25 727.335 Q2032.25 724.719 2030.56 723.423 Q2028.89 722.127 2025.47 722.127 L2018.54 722.127 M2013.87 718.284 L2025.81 718.284 Q2031.16 718.284 2034.05 720.506 Q2036.95 722.729 2036.95 726.826 Q2036.95 729.997 2035.47 731.872 Q2033.98 733.747 2031.11 734.21 Q2034.56 734.951 2036.46 737.312 Q2038.38 739.65 2038.38 743.168 Q2038.38 747.798 2035.23 750.321 Q2032.09 752.844 2026.28 752.844 L2013.87 752.844 L2013.87 718.284 Z\" fill=\"#000000\" fill-rule=\"evenodd\" fill-opacity=\"1\" /><path clip-path=\"url(#clip5100)\" d=\"M 0 0 M2065.77 747.914 L2065.77 738.631 L2058.13 738.631 L2058.13 734.789 L2070.4 734.789 L2070.4 749.627 Q2067.69 751.548 2064.42 752.543 Q2061.16 753.515 2057.46 753.515 Q2049.35 753.515 2044.77 748.793 Q2040.21 744.048 2040.21 735.599 Q2040.21 727.127 2044.77 722.404 Q2049.35 717.659 2057.46 717.659 Q2060.84 717.659 2063.87 718.492 Q2066.92 719.326 2069.49 720.946 L2069.49 725.923 Q2066.9 723.724 2063.98 722.613 Q2061.07 721.502 2057.85 721.502 Q2051.51 721.502 2048.31 725.043 Q2045.14 728.585 2045.14 735.599 Q2045.14 742.59 2048.31 746.131 Q2051.51 749.673 2057.85 749.673 Q2060.33 749.673 2062.27 749.256 Q2064.22 748.816 2065.77 747.914 Z\" fill=\"#000000\" fill-rule=\"evenodd\" fill-opacity=\"1\" /><path clip-path=\"url(#clip5100)\" d=\"M 0 0 M2075.05 718.284 L2079.72 718.284 L2079.72 732.89 L2095.23 718.284 L2101.25 718.284 L2084.1 734.395 L2102.48 752.844 L2096.32 752.844 L2079.72 736.201 L2079.72 752.844 L2075.05 752.844 L2075.05 718.284 Z\" fill=\"#000000\" fill-rule=\"evenodd\" fill-opacity=\"1\" /><polyline clip-path=\"url(#clip5100)\" style=\"stroke:#00a8cb; stroke-width:8; stroke-opacity:1; fill:none\" stroke-dasharray=\"32, 20\" points=\"\n",
       "  1845.87,796.044 1989.87,796.044 \n",
       "  \"/>\n",
       "<path clip-path=\"url(#clip5100)\" d=\"M 0 0 M2013.87 778.764 L2018.57 778.764 L2018.57 799.759 Q2018.57 805.315 2020.58 807.769 Q2022.59 810.199 2027.11 810.199 Q2031.6 810.199 2033.61 807.769 Q2035.63 805.315 2035.63 799.759 L2035.63 778.764 L2040.33 778.764 L2040.33 800.338 Q2040.33 807.097 2036.97 810.546 Q2033.64 813.995 2027.11 813.995 Q2020.56 813.995 2017.2 810.546 Q2013.87 807.097 2013.87 800.338 L2013.87 778.764 Z\" fill=\"#000000\" fill-rule=\"evenodd\" fill-opacity=\"1\" /><path clip-path=\"url(#clip5100)\" d=\"M 0 0 M2049.66 782.607 L2049.66 809.482 L2055.3 809.482 Q2062.46 809.482 2065.77 806.241 Q2069.1 803 2069.1 796.009 Q2069.1 789.065 2065.77 785.847 Q2062.46 782.607 2055.3 782.607 L2049.66 782.607 M2044.98 778.764 L2054.59 778.764 Q2064.63 778.764 2069.33 782.954 Q2074.03 787.121 2074.03 796.009 Q2074.03 804.945 2069.31 809.134 Q2064.59 813.324 2054.59 813.324 L2044.98 813.324 L2044.98 778.764 Z\" fill=\"#000000\" fill-rule=\"evenodd\" fill-opacity=\"1\" /><path clip-path=\"url(#clip5100)\" d=\"M 0 0 M2078.68 778.764 L2100.53 778.764 L2100.53 782.699 L2083.36 782.699 L2083.36 792.931 L2099.82 792.931 L2099.82 796.866 L2083.36 796.866 L2083.36 809.389 L2100.95 809.389 L2100.95 813.324 L2078.68 813.324 L2078.68 778.764 Z\" fill=\"#000000\" fill-rule=\"evenodd\" fill-opacity=\"1\" /><polyline clip-path=\"url(#clip5100)\" style=\"stroke:#9b7fe8; stroke-width:8; stroke-opacity:1; fill:none\" stroke-dasharray=\"32, 20\" points=\"\n",
       "  1845.87,856.524 1989.87,856.524 \n",
       "  \"/>\n",
       "<path clip-path=\"url(#clip5100)\" d=\"M 0 0 M2013.87 839.244 L2018.57 839.244 L2018.57 860.239 Q2018.57 865.795 2020.58 868.249 Q2022.59 870.679 2027.11 870.679 Q2031.6 870.679 2033.61 868.249 Q2035.63 865.795 2035.63 860.239 L2035.63 839.244 L2040.33 839.244 L2040.33 860.818 Q2040.33 867.577 2036.97 871.026 Q2033.64 874.475 2027.11 874.475 Q2020.56 874.475 2017.2 871.026 Q2013.87 867.577 2013.87 860.818 L2013.87 839.244 Z\" fill=\"#000000\" fill-rule=\"evenodd\" fill-opacity=\"1\" /><path clip-path=\"url(#clip5100)\" d=\"M 0 0 M2049.66 843.087 L2049.66 869.962 L2055.3 869.962 Q2062.46 869.962 2065.77 866.721 Q2069.1 863.48 2069.1 856.489 Q2069.1 849.545 2065.77 846.327 Q2062.46 843.087 2055.3 843.087 L2049.66 843.087 M2044.98 839.244 L2054.59 839.244 Q2064.63 839.244 2069.33 843.434 Q2074.03 847.601 2074.03 856.489 Q2074.03 865.425 2069.31 869.614 Q2064.59 873.804 2054.59 873.804 L2044.98 873.804 L2044.98 839.244 Z\" fill=\"#000000\" fill-rule=\"evenodd\" fill-opacity=\"1\" /><path clip-path=\"url(#clip5100)\" d=\"M 0 0 M2078.68 839.244 L2100.53 839.244 L2100.53 843.179 L2083.36 843.179 L2083.36 853.411 L2099.82 853.411 L2099.82 857.346 L2083.36 857.346 L2083.36 869.869 L2100.95 869.869 L2100.95 873.804 L2078.68 873.804 L2078.68 839.244 Z\" fill=\"#000000\" fill-rule=\"evenodd\" fill-opacity=\"1\" /><polyline clip-path=\"url(#clip5100)\" style=\"stroke:#608cf6; stroke-width:8; stroke-opacity:1; fill:none\" stroke-dasharray=\"32, 20\" points=\"\n",
       "  1845.87,917.004 1989.87,917.004 \n",
       "  \"/>\n",
       "<path clip-path=\"url(#clip5100)\" d=\"M 0 0 M2013.87 899.724 L2018.57 899.724 L2018.57 920.719 Q2018.57 926.275 2020.58 928.729 Q2022.59 931.159 2027.11 931.159 Q2031.6 931.159 2033.61 928.729 Q2035.63 926.275 2035.63 920.719 L2035.63 899.724 L2040.33 899.724 L2040.33 921.298 Q2040.33 928.057 2036.97 931.506 Q2033.64 934.955 2027.11 934.955 Q2020.56 934.955 2017.2 931.506 Q2013.87 928.057 2013.87 921.298 L2013.87 899.724 Z\" fill=\"#000000\" fill-rule=\"evenodd\" fill-opacity=\"1\" /><path clip-path=\"url(#clip5100)\" d=\"M 0 0 M2049.66 903.567 L2049.66 930.442 L2055.3 930.442 Q2062.46 930.442 2065.77 927.201 Q2069.1 923.96 2069.1 916.969 Q2069.1 910.025 2065.77 906.807 Q2062.46 903.567 2055.3 903.567 L2049.66 903.567 M2044.98 899.724 L2054.59 899.724 Q2064.63 899.724 2069.33 903.914 Q2074.03 908.081 2074.03 916.969 Q2074.03 925.905 2069.31 930.094 Q2064.59 934.284 2054.59 934.284 L2044.98 934.284 L2044.98 899.724 Z\" fill=\"#000000\" fill-rule=\"evenodd\" fill-opacity=\"1\" /><path clip-path=\"url(#clip5100)\" d=\"M 0 0 M2078.68 899.724 L2100.53 899.724 L2100.53 903.659 L2083.36 903.659 L2083.36 913.891 L2099.82 913.891 L2099.82 917.826 L2083.36 917.826 L2083.36 930.349 L2100.95 930.349 L2100.95 934.284 L2078.68 934.284 L2078.68 899.724 Z\" fill=\"#000000\" fill-rule=\"evenodd\" fill-opacity=\"1\" /><polyline clip-path=\"url(#clip5100)\" style=\"stroke:#f05f73; stroke-width:8; stroke-opacity:1; fill:none\" stroke-dasharray=\"32, 20\" points=\"\n",
       "  1845.87,977.484 1989.87,977.484 \n",
       "  \"/>\n",
       "<path clip-path=\"url(#clip5100)\" d=\"M 0 0 M2013.87 960.204 L2018.57 960.204 L2018.57 981.199 Q2018.57 986.755 2020.58 989.209 Q2022.59 991.639 2027.11 991.639 Q2031.6 991.639 2033.61 989.209 Q2035.63 986.755 2035.63 981.199 L2035.63 960.204 L2040.33 960.204 L2040.33 981.778 Q2040.33 988.537 2036.97 991.986 Q2033.64 995.435 2027.11 995.435 Q2020.56 995.435 2017.2 991.986 Q2013.87 988.537 2013.87 981.778 L2013.87 960.204 Z\" fill=\"#000000\" fill-rule=\"evenodd\" fill-opacity=\"1\" /><path clip-path=\"url(#clip5100)\" d=\"M 0 0 M2049.66 964.047 L2049.66 990.922 L2055.3 990.922 Q2062.46 990.922 2065.77 987.681 Q2069.1 984.44 2069.1 977.449 Q2069.1 970.505 2065.77 967.287 Q2062.46 964.047 2055.3 964.047 L2049.66 964.047 M2044.98 960.204 L2054.59 960.204 Q2064.63 960.204 2069.33 964.394 Q2074.03 968.561 2074.03 977.449 Q2074.03 986.385 2069.31 990.574 Q2064.59 994.764 2054.59 994.764 L2044.98 994.764 L2044.98 960.204 Z\" fill=\"#000000\" fill-rule=\"evenodd\" fill-opacity=\"1\" /><path clip-path=\"url(#clip5100)\" d=\"M 0 0 M2078.68 960.204 L2100.53 960.204 L2100.53 964.139 L2083.36 964.139 L2083.36 974.371 L2099.82 974.371 L2099.82 978.306 L2083.36 978.306 L2083.36 990.829 L2100.95 990.829 L2100.95 994.764 L2078.68 994.764 L2078.68 960.204 Z\" fill=\"#000000\" fill-rule=\"evenodd\" fill-opacity=\"1\" /><polyline clip-path=\"url(#clip5100)\" style=\"stroke:#dd64b5; stroke-width:8; stroke-opacity:1; fill:none\" stroke-dasharray=\"32, 20\" points=\"\n",
       "  1845.87,1037.96 1989.87,1037.96 \n",
       "  \"/>\n",
       "<path clip-path=\"url(#clip5100)\" d=\"M 0 0 M2013.87 1020.68 L2018.57 1020.68 L2018.57 1041.68 Q2018.57 1047.23 2020.58 1049.69 Q2022.59 1052.12 2027.11 1052.12 Q2031.6 1052.12 2033.61 1049.69 Q2035.63 1047.23 2035.63 1041.68 L2035.63 1020.68 L2040.33 1020.68 L2040.33 1042.26 Q2040.33 1049.02 2036.97 1052.47 Q2033.64 1055.92 2027.11 1055.92 Q2020.56 1055.92 2017.2 1052.47 Q2013.87 1049.02 2013.87 1042.26 L2013.87 1020.68 Z\" fill=\"#000000\" fill-rule=\"evenodd\" fill-opacity=\"1\" /><path clip-path=\"url(#clip5100)\" d=\"M 0 0 M2049.66 1024.53 L2049.66 1051.4 L2055.3 1051.4 Q2062.46 1051.4 2065.77 1048.16 Q2069.1 1044.92 2069.1 1037.93 Q2069.1 1030.98 2065.77 1027.77 Q2062.46 1024.53 2055.3 1024.53 L2049.66 1024.53 M2044.98 1020.68 L2054.59 1020.68 Q2064.63 1020.68 2069.33 1024.87 Q2074.03 1029.04 2074.03 1037.93 Q2074.03 1046.86 2069.31 1051.05 Q2064.59 1055.24 2054.59 1055.24 L2044.98 1055.24 L2044.98 1020.68 Z\" fill=\"#000000\" fill-rule=\"evenodd\" fill-opacity=\"1\" /><path clip-path=\"url(#clip5100)\" d=\"M 0 0 M2078.68 1020.68 L2100.53 1020.68 L2100.53 1024.62 L2083.36 1024.62 L2083.36 1034.85 L2099.82 1034.85 L2099.82 1038.79 L2083.36 1038.79 L2083.36 1051.31 L2100.95 1051.31 L2100.95 1055.24 L2078.68 1055.24 L2078.68 1020.68 Z\" fill=\"#000000\" fill-rule=\"evenodd\" fill-opacity=\"1\" /></svg>\n"
      ]
     },
     "execution_count": 10,
     "metadata": {},
     "output_type": "execute_result"
    }
   ],
   "source": [
    "plot(\n",
    "    vSpace.u[:, vSpace.nv÷2, vSpace.nw÷2],\n",
    "    data_boltz_1D[:, :],\n",
    "    lw = 2,\n",
    "    label = \"Boltzmann\",\n",
    "    color = :brown,\n",
    ")\n",
    "plot!(\n",
    "    vSpace.u[:, vSpace.nv÷2, vSpace.nw÷2],\n",
    "    data_bgk_1D[:, :],\n",
    "    lw = 2,\n",
    "    label = \"BGK\",\n",
    "    line = :dash,\n",
    "    color = :gray32,\n",
    ")\n",
    "plot!(\n",
    "    vSpace.u[:, vSpace.nv÷2, vSpace.nw÷2],\n",
    "    Array(sol_univ),\n",
    "    lw = 2,\n",
    "    label = \"UDE\",\n",
    "    line = :dash,\n",
    ")"
   ]
  },
  {
   "cell_type": "code",
   "execution_count": null,
   "metadata": {},
   "outputs": [],
   "source": []
  }
 ],
 "metadata": {
  "kernelspec": {
   "display_name": "Julia 1.3.1",
   "language": "julia",
   "name": "julia-1.3"
  },
  "language_info": {
   "file_extension": ".jl",
   "mimetype": "application/julia",
   "name": "julia",
   "version": "1.3.1"
  }
 },
 "nbformat": 4,
 "nbformat_minor": 4
}
