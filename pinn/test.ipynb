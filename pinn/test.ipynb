{
 "cells": [
  {
   "cell_type": "code",
   "execution_count": null,
   "metadata": {},
   "outputs": [],
   "source": []
  },
  {
   "cell_type": "code",
   "execution_count": 1,
   "metadata": {},
   "outputs": [
    {
     "name": "stderr",
     "output_type": "stream",
     "text": [
      "┌ Info: Precompiling Kinetic [82403725-3cee-4f7c-b214-1ce71af4a797]\n",
      "└ @ Base loading.jl:1278\n"
     ]
    }
   ],
   "source": [
    "using Flux, DiffEqFlux, Optim, Kinetic"
   ]
  },
  {
   "cell_type": "code",
   "execution_count": 2,
   "metadata": {},
   "outputs": [],
   "source": [
    "t0 = 0.f0; t1 = 3.f0\n",
    "u0 = -4.f0; u1 = 4.f0\n",
    "nt = 100; nu = 40\n",
    "\n",
    "tVec = Vector(range(t0, stop=t1, length=nt))\n",
    "tMesh = repeat(reshape(tVec, 1, :), nu, 1)\n",
    "\n",
    "uVec = Vector(range(u0, stop=u1, length=nu))\n",
    "uMesh = repeat(uVec, 1, nt)\n",
    "\n",
    "tMesh1D = reshape(tMesh, (1, :))\n",
    "uMesh1D = reshape(uMesh, (1, :))\n",
    "mesh = cat(tMesh1D, uMesh1D; dims=1)\n",
    "\n",
    "X = deepcopy(mesh)\n",
    "Y = zeros(Float32, 1, nt * nu);"
   ]
  },
  {
   "cell_type": "code",
   "execution_count": 4,
   "metadata": {},
   "outputs": [],
   "source": [
    "f0 = zeros(Float32, nu);\n",
    "f0 = uVec.^2 .* exp.(-uVec.^2);\n",
    "\n",
    "weight = ones(Float32, nu) .* (uVec[nu] - uVec[nu-1]);\n",
    "\n",
    "inK = 2.\n",
    "gamma = (inK+3.) / (inK+1.);\n",
    "\n",
    "w0 = moments_conserve(f0, uVec, weight)\n",
    "prim0 = conserve_prim(w0, gamma);\n",
    "\n",
    "g0 = maxwellian(uVec, prim0);"
   ]
  },
  {
   "cell_type": "code",
   "execution_count": 65,
   "metadata": {},
   "outputs": [
    {
     "data": {
      "text/plain": [
       "mat_y (generic function with 1 method)"
      ]
     },
     "execution_count": 65,
     "metadata": {},
     "output_type": "execute_result"
    }
   ],
   "source": [
    "ann = Chain(Dense(2, 20, tanh), Dense(20, 20, tanh), Dense(20, 1))\n",
    "p, re = Flux.destructure(ann)\n",
    "\n",
    "θ = [vcat(X...); p];\n",
    "\n",
    "mat_x(x) = [1.f0 0.f0] * x\n",
    "mat_y(x) = [0.f0 1.f0] * x"
   ]
  },
  {
   "cell_type": "code",
   "execution_count": 72,
   "metadata": {},
   "outputs": [
    {
     "data": {
      "text/plain": [
       "loss (generic function with 1 method)"
      ]
     },
     "execution_count": 72,
     "metadata": {},
     "output_type": "execute_result"
    }
   ],
   "source": [
    "function loss(θ)\n",
    "    u0 =reshape(θ[1:nt*nu*2],2,nt*nu)\n",
    "    p = θ[nt*nu*2+1:end]\n",
    "    \n",
    "    u(x) = mat_x(x) .* ann(x) #.+ mat_y(x).^2 .* exp.(-mat_y(x).^2)\n",
    "    ux(x) = mat_x(Flux.Zygote.pullback(u, x)[2](ones(Int32,size(x)))[1])\n",
    "    \n",
    "    #ux(x) = central_diff(permutedims(u(x)),x[2,:]) |> permutedims\n",
    "    \n",
    "    pred = ux(u0) #.+ ux(u0)\n",
    "    loss = sum(abs2, pred)\n",
    "    \n",
    "    return loss, pred\n",
    "end"
   ]
  },
  {
   "cell_type": "code",
   "execution_count": 73,
   "metadata": {},
   "outputs": [
    {
     "data": {
      "text/plain": [
       "#39 (generic function with 1 method)"
      ]
     },
     "execution_count": 73,
     "metadata": {},
     "output_type": "execute_result"
    }
   ],
   "source": [
    "#cb = (args...)->false\n",
    "\n",
    "cb = function (θ, l, pred)\n",
    "    display(l)\n",
    "    return false\n",
    "end"
   ]
  },
  {
   "cell_type": "code",
   "execution_count": 74,
   "metadata": {},
   "outputs": [
    {
     "data": {
      "text/plain": [
       "TrackedReal<Dfa>(851.26886, 0.0, Df8, ---)"
      ]
     },
     "metadata": {},
     "output_type": "display_data"
    },
    {
     "data": {
      "text/plain": [
       "TrackedReal<1KF>(340.87372, 0.0, FNc, ---)"
      ]
     },
     "metadata": {},
     "output_type": "display_data"
    },
    {
     "data": {
      "text/plain": [
       "TrackedReal<G5s>(237.03435, 0.0, J4a, ---)"
      ]
     },
     "metadata": {},
     "output_type": "display_data"
    },
    {
     "data": {
      "text/plain": [
       "TrackedReal<6Ox>(147.14243, 0.0, 949, ---)"
      ]
     },
     "metadata": {},
     "output_type": "display_data"
    },
    {
     "data": {
      "text/plain": [
       "TrackedReal<GuQ>(115.848145, 0.0, 4YH, ---)"
      ]
     },
     "metadata": {},
     "output_type": "display_data"
    },
    {
     "data": {
      "text/plain": [
       "TrackedReal<2lW>(96.6562, 0.0, Kof, ---)"
      ]
     },
     "metadata": {},
     "output_type": "display_data"
    },
    {
     "data": {
      "text/plain": [
       "TrackedReal<Evl>(80.913086, 0.0, GEy, ---)"
      ]
     },
     "metadata": {},
     "output_type": "display_data"
    },
    {
     "data": {
      "text/plain": [
       "TrackedReal<4YC>(66.7458, 0.0, 9YX, ---)"
      ]
     },
     "metadata": {},
     "output_type": "display_data"
    },
    {
     "data": {
      "text/plain": [
       " * Status: failure\n",
       "\n",
       " * Candidate solution\n",
       "    Final objective value:     6.674580e+01\n",
       "\n",
       " * Found with\n",
       "    Algorithm:     L-BFGS\n",
       "\n",
       " * Convergence measures\n",
       "    |x - x'|               = 1.33e+00 ≰ 0.0e+00\n",
       "    |x - x'|/|x'|          = 2.76e-01 ≰ 0.0e+00\n",
       "    |f(x) - f(x')|         = 1.42e+01 ≰ 0.0e+00\n",
       "    |f(x) - f(x')|/|f(x')| = 2.12e-01 ≰ 0.0e+00\n",
       "    |g(x)|                 = 2.02e-01 ≰ 1.0e-08\n",
       "\n",
       " * Work counters\n",
       "    Seconds run:   43  (vs limit Inf)\n",
       "    Iterations:    7\n",
       "    f(x) calls:    21\n",
       "    ∇f(x) calls:   21\n"
      ]
     },
     "execution_count": 74,
     "metadata": {},
     "output_type": "execute_result"
    }
   ],
   "source": [
    "res = DiffEqFlux.sciml_train(loss, θ, LBFGS(); cb=cb, maxiters=20, diffmode=DiffEqFlux.ReverseDiffMode())"
   ]
  },
  {
   "cell_type": "code",
   "execution_count": null,
   "metadata": {},
   "outputs": [],
   "source": []
  },
  {
   "cell_type": "code",
   "execution_count": null,
   "metadata": {},
   "outputs": [],
   "source": []
  },
  {
   "cell_type": "code",
   "execution_count": 159,
   "metadata": {},
   "outputs": [
    {
     "data": {
      "text/plain": [
       "Chain(Dense(2, 20, tanh), Dense(20, 20, tanh), Dense(20, 1))"
      ]
     },
     "execution_count": 159,
     "metadata": {},
     "output_type": "execute_result"
    }
   ],
   "source": [
    "x0 = 0.f0; x1 = 2.f0\n",
    "y0 = 0.f0; y1 = 1.f0\n",
    "nxTrain = 23; nyTrain = 11\n",
    "\n",
    "xVec = Vector(range(x0, stop=x1, length=nxTrain))\n",
    "xMesh = repeat(reshape(xVec, 1, :), nyTrain, 1)\n",
    "yVec = Vector(range(y0, stop=y1, length=nyTrain))\n",
    "yMesh = repeat(yVec, 1, nxTrain)\n",
    "\n",
    "xMesh1D = reshape(xMesh, (1, :))\n",
    "yMesh1D = reshape(yMesh, (1, :))\n",
    "mesh = cat(xMesh1D, yMesh1D; dims=1)\n",
    "X = deepcopy(mesh)\n",
    "\n",
    "Y = zeros(Float32, 1, nxTrain * nyTrain)\n",
    "\n",
    "m = Chain(Dense(2, 20, tanh), Dense(20, 20, tanh), Dense(20, 1))\n",
    "\n"
   ]
  },
  {
   "cell_type": "code",
   "execution_count": 160,
   "metadata": {},
   "outputs": [
    {
     "data": {
      "text/plain": [
       "uyy (generic function with 1 method)"
      ]
     },
     "execution_count": 160,
     "metadata": {},
     "output_type": "execute_result"
    }
   ],
   "source": [
    "p, re = Flux.destructure(m)\n",
    "\n",
    "u(x) = sin.(π .* mat_x(x) ./ 2.) .* mat_y(x) .+ \n",
    "    mat_x(x) .* (2. .- mat_x(x)) .* mat_y(x) .* (1. .- mat_y(x)) .* re(p)(x)\n",
    "    \n",
    "ux(x) = mat_x(Flux.Zygote.pullback(u, x)[2](ones(size(x)))[1])\n",
    "uy(x) = mat_y(Flux.Zygote.pullback(u, x)[2](ones(size(x)))[1])\n",
    "uxx(x) =  mat_x(Flux.Zygote.pullback(ux, x)[2](ones(size(x)))[1])\n",
    "uyy(x) = mat_y(Flux.Zygote.pullback(uy, x)[2](ones(size(x)))[1])"
   ]
  },
  {
   "cell_type": "code",
   "execution_count": 166,
   "metadata": {},
   "outputs": [
    {
     "data": {
      "text/plain": [
       "ux (generic function with 1 method)"
      ]
     },
     "execution_count": 166,
     "metadata": {},
     "output_type": "execute_result"
    }
   ],
   "source": [
    "ux(x) = central_diff(u(x)[:],x[1,:]) |> permutedims"
   ]
  },
  {
   "cell_type": "code",
   "execution_count": 169,
   "metadata": {},
   "outputs": [
    {
     "data": {
      "text/plain": [
       "2×253 Array{Float32,2}:\n",
       " 0.0  0.0  0.0  0.0  0.0  0.0  0.0  0.0  …  2.0  2.0  2.0  2.0  2.0  2.0  2.0\n",
       " 0.0  0.1  0.2  0.3  0.4  0.5  0.6  0.7     0.4  0.5  0.6  0.7  0.8  0.9  1.0"
      ]
     },
     "execution_count": 169,
     "metadata": {},
     "output_type": "execute_result"
    }
   ],
   "source": [
    "X"
   ]
  },
  {
   "cell_type": "code",
   "execution_count": 87,
   "metadata": {},
   "outputs": [
    {
     "data": {
      "text/plain": [
       "loss (generic function with 1 method)"
      ]
     },
     "execution_count": 87,
     "metadata": {},
     "output_type": "execute_result"
    }
   ],
   "source": [
    "function loss(θ)\n",
    "    u0 =reshape(θ[1:nxTrain*nyTrain*2],2,nxTrain*nyTrain)\n",
    "    p = θ[nxTrain*nyTrain*2+1:end]\n",
    "    \n",
    "    u(x) = #sin.(π .* mat_x(x) ./ 2.) .* mat_y(x) .+ \n",
    "    mat_x(x) .* (2. .- mat_x(x)) .* mat_y(x) .* (1. .- mat_y(x)) .* re(p)(x)\n",
    "    \n",
    "    #ux(x) = mat_x(Flux.Zygote.pullback(u, x)[2](ones(size(x)))[1])\n",
    "    #uy(x) = mat_y(Flux.Zygote.pullback(u, x)[2](ones(size(x)))[1])\n",
    "    #uxx(x) =  mat_x(Flux.Zygote.pullback(ux, x)[2](ones(size(x)))[1])\n",
    "    #uyy(x) = mat_y(Flux.Zygote.pullback(uy, x)[2](ones(size(x)))[1])\n",
    "    \n",
    "    ux(x) = central_diff(u(x)[:],x[:]) |> permutedims\n",
    "    \n",
    "    \n",
    "    pred = uxx(u0) .+ uyy(u0)\n",
    "    loss = sum(abs2, pred)\n",
    "    \n",
    "    return loss, pred\n",
    "end"
   ]
  },
  {
   "cell_type": "code",
   "execution_count": 88,
   "metadata": {},
   "outputs": [],
   "source": [
    "p, re = Flux.destructure(ann)\n",
    "\n",
    "θ = [vcat(X...); p];"
   ]
  },
  {
   "cell_type": "code",
   "execution_count": 89,
   "metadata": {},
   "outputs": [
    {
     "ename": "LoadError",
     "evalue": "MethodError: no method matching flatten(::Array{Float64,2})\nClosest candidates are:\n  flatten(!Matched::Base.Broadcast.Broadcasted{Style,Axes,F,Args} where Args<:Tuple where F where Axes) where Style at broadcast.jl:300",
     "output_type": "error",
     "traceback": [
      "MethodError: no method matching flatten(::Array{Float64,2})\nClosest candidates are:\n  flatten(!Matched::Base.Broadcast.Broadcasted{Style,Axes,F,Args} where Args<:Tuple where F where Axes) where Style at broadcast.jl:300",
      "",
      "Stacktrace:",
      " [1] macro expansion at /home/vavrines/.julia/packages/Zygote/rqvFi/src/compiler/interface2.jl:0 [inlined]",
      " [2] _pullback(::Zygote.Context, ::typeof(Base.Broadcast.flatten), ::Array{Float64,2}) at /home/vavrines/.julia/packages/Zygote/rqvFi/src/compiler/interface2.jl:12",
      " [3] copy at /home/vavrines/.julia/packages/ReverseDiff/Thhqg/src/derivatives/broadcast.jl:90 [inlined]",
      " [4] _pullback(::Zygote.Context, ::typeof(copy), ::Base.Broadcast.Broadcasted{ReverseDiff.TrackedStyle,Tuple{Base.OneTo{Int64},Base.OneTo{Int64}},typeof(Zygote.accum),Tuple{ReverseDiff.TrackedArray{Float64,Float64,2,Array{Float64,2},Array{Float64,2}},ReverseDiff.TrackedArray{Float64,Float64,2,Array{Float64,2},Array{Float64,2}}}}) at /home/vavrines/.julia/packages/Zygote/rqvFi/src/compiler/interface2.jl:0",
      " [5] materialize at ./broadcast.jl:837 [inlined]",
      " [6] _pullback(::Zygote.Context, ::typeof(Base.Broadcast.materialize), ::Base.Broadcast.Broadcasted{ReverseDiff.TrackedStyle,Nothing,typeof(Zygote.accum),Tuple{ReverseDiff.TrackedArray{Float64,Float64,2,Array{Float64,2},Array{Float64,2}},ReverseDiff.TrackedArray{Float64,Float64,2,Array{Float64,2},Array{Float64,2}}}}) at /home/vavrines/.julia/packages/Zygote/rqvFi/src/compiler/interface2.jl:0",
      " [7] accum at /home/vavrines/.julia/packages/Zygote/rqvFi/src/lib/lib.jl:16 [inlined]",
      " [8] _pullback(::Zygote.Context, ::typeof(Zygote.accum), ::ReverseDiff.TrackedArray{Float64,Float64,2,Array{Float64,2},Array{Float64,2}}, ::ReverseDiff.TrackedArray{Float64,Float64,2,Array{Float64,2},Array{Float64,2}}) at /home/vavrines/.julia/packages/Zygote/rqvFi/src/compiler/interface2.jl:0",
      " [9] accum at /home/vavrines/.julia/packages/Zygote/rqvFi/src/lib/lib.jl:13 [inlined]",
      " [10] _pullback(::Zygote.Context, ::typeof(Zygote.accum), ::ReverseDiff.TrackedArray{Float64,Float64,2,Array{Float64,2},Array{Float64,2}}, ::ReverseDiff.TrackedArray{Float64,Float64,2,Array{Float64,2},Array{Float64,2}}, ::ReverseDiff.TrackedArray{Float64,Float64,2,Array{Float64,2},Array{Float64,2}}, ::ReverseDiff.TrackedArray{Float64,Float64,2,Array{Float64,2},Array{Float64,2}}, ::ReverseDiff.TrackedArray{Float64,Float64,2,Array{Float64,2},Array{Float64,2}}) at /home/vavrines/.julia/packages/Zygote/rqvFi/src/compiler/interface2.jl:0",
      " [11] u at ./In[87]:5 [inlined]",
      " [12] _pullback(::Zygote.Context, ::typeof(∂(λ)), ::Array{Float64,2}) at /home/vavrines/.julia/packages/Zygote/rqvFi/src/compiler/interface2.jl:0",
      " [13] #41 at /home/vavrines/.julia/packages/Zygote/rqvFi/src/compiler/interface.jl:45 [inlined]",
      " [14] _pullback(::Zygote.Context, ::Zygote.var\"#41#42\"{typeof(∂(λ))}, ::Array{Float64,2}) at /home/vavrines/.julia/packages/Zygote/rqvFi/src/compiler/interface2.jl:0",
      " [15] ux at ./In[87]:8 [inlined]",
      " [16] _pullback(::Zygote.Context, ::var\"#ux#57\"{var\"#u#56\"{ReverseDiff.TrackedArray{Float64,Float64,1,Array{Float64,1},Array{Float64,1}}}}, ::ReverseDiff.TrackedArray{Float64,Float64,2,Array{Float64,2},Array{Float64,2}}) at /home/vavrines/.julia/packages/Zygote/rqvFi/src/compiler/interface2.jl:0",
      " [17] _pullback at /home/vavrines/.julia/packages/Zygote/rqvFi/src/compiler/interface.jl:38 [inlined]",
      " [18] pullback at /home/vavrines/.julia/packages/Zygote/rqvFi/src/compiler/interface.jl:44 [inlined]",
      " [19] (::var\"#uxx#59\"{var\"#ux#57\"{var\"#u#56\"{ReverseDiff.TrackedArray{Float64,Float64,1,Array{Float64,1},Array{Float64,1}}}}})(::ReverseDiff.TrackedArray{Float64,Float64,2,Array{Float64,2},Array{Float64,2}}) at ./In[87]:10",
      " [20] loss(::ReverseDiff.TrackedArray{Float64,Float64,1,Array{Float64,1},Array{Float64,1}}) at ./In[87]:13",
      " [21] (::DiffEqFlux.var\"#69#82\"{typeof(loss)})(::ReverseDiff.TrackedArray{Float64,Float64,1,Array{Float64,1},Array{Float64,1}}) at /home/vavrines/.julia/packages/DiffEqFlux/1xTu3/src/train.jl:197",
      " [22] ReverseDiff.GradientTape(::DiffEqFlux.var\"#69#82\"{typeof(loss)}, ::Array{Float64,1}, ::ReverseDiff.GradientConfig{ReverseDiff.TrackedArray{Float64,Float64,1,Array{Float64,1},Array{Float64,1}}}) at /home/vavrines/.julia/packages/ReverseDiff/Thhqg/src/api/tape.jl:199",
      " [23] gradient!(::DiffResults.MutableDiffResult{1,Float64,Tuple{Array{Float64,1}}}, ::Function, ::Array{Float64,1}, ::ReverseDiff.GradientConfig{ReverseDiff.TrackedArray{Float64,Float64,1,Array{Float64,1},Array{Float64,1}}}) at /home/vavrines/.julia/packages/ReverseDiff/Thhqg/src/api/gradients.jl:41 (repeats 2 times)",
      " [24] (::DiffEqFlux.var\"#78#91\"{DiffEqFlux.var\"#69#82\"{typeof(loss)},DiffResults.MutableDiffResult{1,Float64,Tuple{Array{Float64,1}}}})(::Float64, ::Array{Float64,1}, ::Array{Float64,1}) at /home/vavrines/.julia/packages/DiffEqFlux/1xTu3/src/train.jl:276",
      " [25] (::NLSolversBase.var\"#69#70\"{NLSolversBase.InplaceObjective{Nothing,DiffEqFlux.var\"#78#91\"{DiffEqFlux.var\"#69#82\"{typeof(loss)},DiffResults.MutableDiffResult{1,Float64,Tuple{Array{Float64,1}}}},Nothing,Nothing,Nothing},Float64})(::Array{Float64,1}, ::Array{Float64,1}) at /home/vavrines/.julia/packages/NLSolversBase/5oIMo/src/objective_types/incomplete.jl:54",
      " [26] value_gradient!!(::OnceDifferentiable{Float64,Array{Float64,1},Array{Float64,1}}, ::Array{Float64,1}) at /home/vavrines/.julia/packages/NLSolversBase/5oIMo/src/interface.jl:82",
      " [27] initial_state(::LBFGS{Nothing,LineSearches.InitialStatic{Float64},LineSearches.HagerZhang{Float64,Base.RefValue{Bool}},Optim.var\"#15#17\"}, ::Optim.Options{Float64,DiffEqFlux.var\"#_cb#81\"{var\"#39#40\",Base.Iterators.Cycle{Tuple{DiffEqFlux.NullData}}}}, ::OnceDifferentiable{Float64,Array{Float64,1},Array{Float64,1}}, ::Array{Float64,1}) at /home/vavrines/.julia/packages/Optim/TNmSw/src/multivariate/solvers/first_order/l_bfgs.jl:158",
      " [28] optimize(::OnceDifferentiable{Float64,Array{Float64,1},Array{Float64,1}}, ::Array{Float64,1}, ::LBFGS{Nothing,LineSearches.InitialStatic{Float64},LineSearches.HagerZhang{Float64,Base.RefValue{Bool}},Optim.var\"#15#17\"}, ::Optim.Options{Float64,DiffEqFlux.var\"#_cb#81\"{var\"#39#40\",Base.Iterators.Cycle{Tuple{DiffEqFlux.NullData}}}}) at /home/vavrines/.julia/packages/Optim/TNmSw/src/multivariate/optimize/optimize.jl:33",
      " [29] #optimize#89 at /home/vavrines/.julia/packages/Optim/TNmSw/src/multivariate/optimize/interface.jl:116 [inlined]",
      " [30] optimize(::NLSolversBase.InplaceObjective{Nothing,DiffEqFlux.var\"#78#91\"{DiffEqFlux.var\"#69#82\"{typeof(loss)},DiffResults.MutableDiffResult{1,Float64,Tuple{Array{Float64,1}}}},Nothing,Nothing,Nothing}, ::Array{Float64,1}, ::LBFGS{Nothing,LineSearches.InitialStatic{Float64},LineSearches.HagerZhang{Float64,Base.RefValue{Bool}},Optim.var\"#15#17\"}, ::Optim.Options{Float64,DiffEqFlux.var\"#_cb#81\"{var\"#39#40\",Base.Iterators.Cycle{Tuple{DiffEqFlux.NullData}}}}) at /home/vavrines/.julia/packages/Optim/TNmSw/src/multivariate/optimize/interface.jl:115",
      " [31] sciml_train(::Function, ::Array{Float64,1}, ::LBFGS{Nothing,LineSearches.InitialStatic{Float64},LineSearches.HagerZhang{Float64,Base.RefValue{Bool}},Optim.var\"#15#17\"}, ::Base.Iterators.Cycle{Tuple{DiffEqFlux.NullData}}; cb::Function, maxiters::Int64, diffmode::DiffEqFlux.ReverseDiffMode, kwargs::Base.Iterators.Pairs{Union{},Union{},Tuple{},NamedTuple{(),Tuple{}}}) at /home/vavrines/.julia/packages/DiffEqFlux/1xTu3/src/train.jl:290",
      " [32] top-level scope at In[89]:1",
      " [33] include_string(::Function, ::Module, ::String, ::String) at ./loading.jl:1091"
     ]
    }
   ],
   "source": [
    "res = DiffEqFlux.sciml_train(loss, θ, LBFGS(); cb=cb, maxiters=20, diffmode=DiffEqFlux.ReverseDiffMode())"
   ]
  },
  {
   "cell_type": "code",
   "execution_count": 100,
   "metadata": {},
   "outputs": [
    {
     "data": {
      "text/plain": [
       "uyy (generic function with 1 method)"
      ]
     },
     "execution_count": 100,
     "metadata": {},
     "output_type": "execute_result"
    }
   ],
   "source": [
    "u(x) = #sin.(π .* mat_x(x) ./ 2.) .* mat_y(x) .+ \n",
    "    mat_x(x) .* (2.f0 .- mat_x(x)) .* mat_y(x) .* (1.f0 .- mat_y(x)) .* re(p)(x)\n",
    "    \n",
    "ux(x) = mat_x(Flux.Zygote.pullback(u, x)[2](ones(Int32,size(x)))[1])\n",
    "uy(x) = mat_y(Flux.Zygote.pullback(u, x)[2](ones(Int32,size(x)))[1])\n",
    "uxx(x) =  mat_x(Flux.Zygote.pullback(ux, x)[2](ones(Int32,size(x)))[1])\n",
    "uyy(x) = mat_y(Flux.Zygote.pullback(uy, x)[2](ones(Int32,size(x)))[1])"
   ]
  },
  {
   "cell_type": "code",
   "execution_count": 127,
   "metadata": {},
   "outputs": [
    {
     "ename": "LoadError",
     "evalue": "Can't differentiate foreigncall expression",
     "output_type": "error",
     "traceback": [
      "Can't differentiate foreigncall expression",
      "",
      "Stacktrace:",
      " [1] error(::String) at ./error.jl:33",
      " [2] get at ./iddict.jl:87 [inlined]",
      " [3] (::typeof(∂(get)))(::Nothing) at /home/vavrines/.julia/packages/Zygote/rqvFi/src/compiler/interface2.jl:0",
      " [4] accum_global at /home/vavrines/.julia/packages/Zygote/rqvFi/src/lib/lib.jl:59 [inlined]",
      " [5] (::typeof(∂(accum_global)))(::Nothing) at /home/vavrines/.julia/packages/Zygote/rqvFi/src/compiler/interface2.jl:0",
      " [6] #121 at /home/vavrines/.julia/packages/Zygote/rqvFi/src/lib/lib.jl:70 [inlined]",
      " [7] (::typeof(∂(λ)))(::Nothing) at /home/vavrines/.julia/packages/Zygote/rqvFi/src/compiler/interface2.jl:0",
      " [8] #1598#back at /home/vavrines/.julia/packages/ZygoteRules/6nssF/src/adjoint.jl:49 [inlined]",
      " [9] (::typeof(∂(λ)))(::Nothing) at /home/vavrines/.julia/packages/Zygote/rqvFi/src/compiler/interface2.jl:0",
      " [10] u at ./In[100]:1 [inlined]",
      " [11] (::typeof(∂(λ)))(::Tuple{Nothing,Array{Float64,2}}) at /home/vavrines/.julia/packages/Zygote/rqvFi/src/compiler/interface2.jl:0",
      " [12] #41 at /home/vavrines/.julia/packages/Zygote/rqvFi/src/compiler/interface.jl:45 [inlined]",
      " [13] (::typeof(∂(λ)))(::Tuple{Array{Float64,2}}) at /home/vavrines/.julia/packages/Zygote/rqvFi/src/compiler/interface2.jl:0",
      " [14] ux at ./In[100]:4 [inlined]",
      " [15] (::typeof(∂(ux)))(::Array{Float64,2}) at /home/vavrines/.julia/packages/Zygote/rqvFi/src/compiler/interface2.jl:0",
      " [16] (::Zygote.var\"#41#42\"{typeof(∂(ux))})(::Array{Float64,2}) at /home/vavrines/.julia/packages/Zygote/rqvFi/src/compiler/interface.jl:45",
      " [17] top-level scope at In[127]:1",
      " [18] include_string(::Function, ::Module, ::String, ::String) at ./loading.jl:1091"
     ]
    }
   ],
   "source": [
    "Flux.Zygote.pullback(ux, X)[2](ones(1,253))"
   ]
  },
  {
   "cell_type": "code",
   "execution_count": 119,
   "metadata": {},
   "outputs": [
    {
     "data": {
      "text/plain": [
       "1×253 Array{Float32,2}:\n",
       " 0.0  -0.0  -0.0  -0.0  -0.0  -0.0  …  0.0  0.0  0.0  0.0  0.0  0.0  0.0"
      ]
     },
     "execution_count": 119,
     "metadata": {},
     "output_type": "execute_result"
    }
   ],
   "source": [
    "u(X)"
   ]
  },
  {
   "cell_type": "code",
   "execution_count": 121,
   "metadata": {},
   "outputs": [
    {
     "data": {
      "text/plain": [
       "0.0f0"
      ]
     },
     "execution_count": 121,
     "metadata": {},
     "output_type": "execute_result"
    }
   ],
   "source": [
    "ux(X)"
   ]
  },
  {
   "cell_type": "code",
   "execution_count": null,
   "metadata": {},
   "outputs": [],
   "source": []
  },
  {
   "cell_type": "code",
   "execution_count": 128,
   "metadata": {},
   "outputs": [],
   "source": [
    "nx = 100\n",
    "ω = 1.;\n",
    "\n",
    "X = Vector(range(0, 1, length=nx))\n",
    "X = hcat(X...)\n",
    "Y = zeros(axes(X));"
   ]
  },
  {
   "cell_type": "code",
   "execution_count": 130,
   "metadata": {},
   "outputs": [],
   "source": [
    "ann = Chain(Dense(1, 20, tanh), Dense(20, 1)) #|> track\n",
    "p, re = Flux.destructure(ann)\n",
    "θ = [vcat(X...); p];"
   ]
  },
  {
   "cell_type": "code",
   "execution_count": 137,
   "metadata": {},
   "outputs": [],
   "source": [
    "function Kinetic.central_diff(\n",
    "    y,\n",
    "    x,\n",
    ")\n",
    "\n",
    "    dy = zeros(eltype(y), axes(y))\n",
    "\n",
    "    idx = eachindex(y) |> collect\n",
    "    i0 = idx[1]\n",
    "    i1 = idx[end]\n",
    "\n",
    "    dy[i0] = (y[i0+1] - y[i0]) / (x[i0+1] - x[i0])\n",
    "    dy[i1] = (y[i1] - y[i1-1]) / (x[i1] - x[i1-1])\n",
    "    for i = i0+1:i1-1\n",
    "        dy[i] = (y[i+1] - y[i-1]) / (x[i+1] - x[i-1])\n",
    "    end\n",
    "\n",
    "    return dy\n",
    "\n",
    "end"
   ]
  },
  {
   "cell_type": "code",
   "execution_count": 138,
   "metadata": {},
   "outputs": [
    {
     "data": {
      "text/plain": [
       "loss (generic function with 1 method)"
      ]
     },
     "execution_count": 138,
     "metadata": {},
     "output_type": "execute_result"
    }
   ],
   "source": [
    "function loss(θ)\n",
    "    u0 = hcat(θ[1:nx]...)\n",
    "    p = θ[nx+1:end]\n",
    "    \n",
    "    u(x) = 1 .+ re(p)(x) .* x\n",
    "    ux(x) = Flux.Zygote.pullback(u, x)[2](ones(size(x)))[1]\n",
    "    \n",
    "    ux(x) = central_diff(u(x)[:],x[:]) |> permutedims\n",
    "    \n",
    "    pred = ω .* u(u0) .+ ux(u0)\n",
    "    loss = sum(abs2, pred)\n",
    "    \n",
    "    return loss, pred\n",
    "end"
   ]
  },
  {
   "cell_type": "code",
   "execution_count": 139,
   "metadata": {},
   "outputs": [
    {
     "data": {
      "text/plain": [
       "#73 (generic function with 1 method)"
      ]
     },
     "execution_count": 139,
     "metadata": {},
     "output_type": "execute_result"
    }
   ],
   "source": [
    "cb = function (θ, l, pred; isplot=false)\n",
    "    display(l)\n",
    "    return false\n",
    "end"
   ]
  },
  {
   "cell_type": "code",
   "execution_count": 140,
   "metadata": {},
   "outputs": [
    {
     "data": {
      "text/plain": [
       "TrackedReal<JRi>(177.07068207442094, 0.0, 9vX, ---)"
      ]
     },
     "metadata": {},
     "output_type": "display_data"
    },
    {
     "data": {
      "text/plain": [
       "TrackedReal<B2C>(9.75966095164258, 0.0, 7Gv, ---)"
      ]
     },
     "metadata": {},
     "output_type": "display_data"
    },
    {
     "data": {
      "text/plain": [
       "TrackedReal<5RE>(5.358658551400215, 0.0, BOg, ---)"
      ]
     },
     "metadata": {},
     "output_type": "display_data"
    },
    {
     "data": {
      "text/plain": [
       "TrackedReal<HRw>(0.0732333542655287, 0.0, Xcz, ---)"
      ]
     },
     "metadata": {},
     "output_type": "display_data"
    },
    {
     "data": {
      "text/plain": [
       "TrackedReal<BML>(0.07078255699112025, 0.0, 2qb, ---)"
      ]
     },
     "metadata": {},
     "output_type": "display_data"
    },
    {
     "data": {
      "text/plain": [
       "TrackedReal<Ci2>(0.06966298129269748, 0.0, L53, ---)"
      ]
     },
     "metadata": {},
     "output_type": "display_data"
    },
    {
     "data": {
      "text/plain": [
       "TrackedReal<HTZ>(0.029650000223924375, 0.0, Car, ---)"
      ]
     },
     "metadata": {},
     "output_type": "display_data"
    },
    {
     "data": {
      "text/plain": [
       " * Status: failure\n",
       "\n",
       " * Candidate solution\n",
       "    Final objective value:     2.965000e-02\n",
       "\n",
       " * Found with\n",
       "    Algorithm:     L-BFGS\n",
       "\n",
       " * Convergence measures\n",
       "    |x - x'|               = 6.17e-02 ≰ 0.0e+00\n",
       "    |x - x'|/|x'|          = 6.32e-02 ≰ 0.0e+00\n",
       "    |f(x) - f(x')|         = 4.00e-02 ≰ 0.0e+00\n",
       "    |f(x) - f(x')|/|f(x')| = 1.35e+00 ≰ 0.0e+00\n",
       "    |g(x)|                 = 2.37e+00 ≰ 1.0e-08\n",
       "\n",
       " * Work counters\n",
       "    Seconds run:   0  (vs limit Inf)\n",
       "    Iterations:    6\n",
       "    f(x) calls:    24\n",
       "    ∇f(x) calls:   24\n"
      ]
     },
     "execution_count": 140,
     "metadata": {},
     "output_type": "execute_result"
    }
   ],
   "source": [
    "res = DiffEqFlux.sciml_train(loss, θ, LBFGS(); cb=cb, maxiters=20, diffmode=DiffEqFlux.ReverseDiffMode())"
   ]
  },
  {
   "cell_type": "code",
   "execution_count": 141,
   "metadata": {},
   "outputs": [
    {
     "data": {
      "text/plain": [
       "1×33 Array{Float64,2}:\n",
       " 1.0  0.970592  0.94178  0.913572  0.885978  …  0.386362  0.374737  0.363561"
      ]
     },
     "execution_count": 141,
     "metadata": {},
     "output_type": "execute_result"
    }
   ],
   "source": [
    "xTest = Vector(range(0., 1., length=33))\n",
    "xTest = hcat(xTest...)\n",
    "yTest = exp.(-xTest)\n",
    "yPred = 1 .+ re(res.minimizer[nx+1:end])(xTest) .* xTest"
   ]
  },
  {
   "cell_type": "code",
   "execution_count": 143,
   "metadata": {},
   "outputs": [
    {
     "data": {
      "image/svg+xml": [
       "<?xml version=\"1.0\" encoding=\"utf-8\"?>\n",
       "<svg xmlns=\"http://www.w3.org/2000/svg\" xmlns:xlink=\"http://www.w3.org/1999/xlink\" width=\"600\" height=\"400\" viewBox=\"0 0 2400 1600\">\n",
       "<defs>\n",
       "  <clipPath id=\"clip540\">\n",
       "    <rect x=\"0\" y=\"0\" width=\"2400\" height=\"1600\"/>\n",
       "  </clipPath>\n",
       "</defs>\n",
       "<path clip-path=\"url(#clip540)\" d=\"\n",
       "M0 1600 L2400 1600 L2400 0 L0 0  Z\n",
       "  \" fill=\"#ffffff\" fill-rule=\"evenodd\" fill-opacity=\"1\"/>\n",
       "<defs>\n",
       "  <clipPath id=\"clip541\">\n",
       "    <rect x=\"480\" y=\"0\" width=\"1681\" height=\"1600\"/>\n",
       "  </clipPath>\n",
       "</defs>\n",
       "<path clip-path=\"url(#clip540)\" d=\"\n",
       "M148.334 1486.45 L2352.76 1486.45 L2352.76 47.2441 L148.334 47.2441  Z\n",
       "  \" fill=\"#ffffff\" fill-rule=\"evenodd\" fill-opacity=\"1\"/>\n",
       "<defs>\n",
       "  <clipPath id=\"clip542\">\n",
       "    <rect x=\"148\" y=\"47\" width=\"2205\" height=\"1440\"/>\n",
       "  </clipPath>\n",
       "</defs>\n",
       "<polyline clip-path=\"url(#clip542)\" style=\"stroke:#000000; stroke-width:2; stroke-opacity:0.1; fill:none\" points=\"\n",
       "  210.724,1486.45 210.724,47.2441 \n",
       "  \"/>\n",
       "<polyline clip-path=\"url(#clip542)\" style=\"stroke:#000000; stroke-width:2; stroke-opacity:0.1; fill:none\" points=\"\n",
       "  730.634,1486.45 730.634,47.2441 \n",
       "  \"/>\n",
       "<polyline clip-path=\"url(#clip542)\" style=\"stroke:#000000; stroke-width:2; stroke-opacity:0.1; fill:none\" points=\"\n",
       "  1250.55,1486.45 1250.55,47.2441 \n",
       "  \"/>\n",
       "<polyline clip-path=\"url(#clip542)\" style=\"stroke:#000000; stroke-width:2; stroke-opacity:0.1; fill:none\" points=\"\n",
       "  1770.46,1486.45 1770.46,47.2441 \n",
       "  \"/>\n",
       "<polyline clip-path=\"url(#clip542)\" style=\"stroke:#000000; stroke-width:2; stroke-opacity:0.1; fill:none\" points=\"\n",
       "  2290.37,1486.45 2290.37,47.2441 \n",
       "  \"/>\n",
       "<polyline clip-path=\"url(#clip542)\" style=\"stroke:#000000; stroke-width:2; stroke-opacity:0.1; fill:none\" points=\"\n",
       "  148.334,1367.98 2352.76,1367.98 \n",
       "  \"/>\n",
       "<polyline clip-path=\"url(#clip542)\" style=\"stroke:#000000; stroke-width:2; stroke-opacity:0.1; fill:none\" points=\"\n",
       "  148.334,1154.64 2352.76,1154.64 \n",
       "  \"/>\n",
       "<polyline clip-path=\"url(#clip542)\" style=\"stroke:#000000; stroke-width:2; stroke-opacity:0.1; fill:none\" points=\"\n",
       "  148.334,941.311 2352.76,941.311 \n",
       "  \"/>\n",
       "<polyline clip-path=\"url(#clip542)\" style=\"stroke:#000000; stroke-width:2; stroke-opacity:0.1; fill:none\" points=\"\n",
       "  148.334,727.977 2352.76,727.977 \n",
       "  \"/>\n",
       "<polyline clip-path=\"url(#clip542)\" style=\"stroke:#000000; stroke-width:2; stroke-opacity:0.1; fill:none\" points=\"\n",
       "  148.334,514.644 2352.76,514.644 \n",
       "  \"/>\n",
       "<polyline clip-path=\"url(#clip542)\" style=\"stroke:#000000; stroke-width:2; stroke-opacity:0.1; fill:none\" points=\"\n",
       "  148.334,301.31 2352.76,301.31 \n",
       "  \"/>\n",
       "<polyline clip-path=\"url(#clip542)\" style=\"stroke:#000000; stroke-width:2; stroke-opacity:0.1; fill:none\" points=\"\n",
       "  148.334,87.9763 2352.76,87.9763 \n",
       "  \"/>\n",
       "<polyline clip-path=\"url(#clip540)\" style=\"stroke:#000000; stroke-width:4; stroke-opacity:1; fill:none\" points=\"\n",
       "  148.334,1486.45 2352.76,1486.45 \n",
       "  \"/>\n",
       "<polyline clip-path=\"url(#clip540)\" style=\"stroke:#000000; stroke-width:4; stroke-opacity:1; fill:none\" points=\"\n",
       "  148.334,1486.45 148.334,47.2441 \n",
       "  \"/>\n",
       "<polyline clip-path=\"url(#clip540)\" style=\"stroke:#000000; stroke-width:4; stroke-opacity:1; fill:none\" points=\"\n",
       "  210.724,1486.45 210.724,1469.18 \n",
       "  \"/>\n",
       "<polyline clip-path=\"url(#clip540)\" style=\"stroke:#000000; stroke-width:4; stroke-opacity:1; fill:none\" points=\"\n",
       "  730.634,1486.45 730.634,1469.18 \n",
       "  \"/>\n",
       "<polyline clip-path=\"url(#clip540)\" style=\"stroke:#000000; stroke-width:4; stroke-opacity:1; fill:none\" points=\"\n",
       "  1250.55,1486.45 1250.55,1469.18 \n",
       "  \"/>\n",
       "<polyline clip-path=\"url(#clip540)\" style=\"stroke:#000000; stroke-width:4; stroke-opacity:1; fill:none\" points=\"\n",
       "  1770.46,1486.45 1770.46,1469.18 \n",
       "  \"/>\n",
       "<polyline clip-path=\"url(#clip540)\" style=\"stroke:#000000; stroke-width:4; stroke-opacity:1; fill:none\" points=\"\n",
       "  2290.37,1486.45 2290.37,1469.18 \n",
       "  \"/>\n",
       "<polyline clip-path=\"url(#clip540)\" style=\"stroke:#000000; stroke-width:4; stroke-opacity:1; fill:none\" points=\"\n",
       "  148.334,1367.98 174.787,1367.98 \n",
       "  \"/>\n",
       "<polyline clip-path=\"url(#clip540)\" style=\"stroke:#000000; stroke-width:4; stroke-opacity:1; fill:none\" points=\"\n",
       "  148.334,1154.64 174.787,1154.64 \n",
       "  \"/>\n",
       "<polyline clip-path=\"url(#clip540)\" style=\"stroke:#000000; stroke-width:4; stroke-opacity:1; fill:none\" points=\"\n",
       "  148.334,941.311 174.787,941.311 \n",
       "  \"/>\n",
       "<polyline clip-path=\"url(#clip540)\" style=\"stroke:#000000; stroke-width:4; stroke-opacity:1; fill:none\" points=\"\n",
       "  148.334,727.977 174.787,727.977 \n",
       "  \"/>\n",
       "<polyline clip-path=\"url(#clip540)\" style=\"stroke:#000000; stroke-width:4; stroke-opacity:1; fill:none\" points=\"\n",
       "  148.334,514.644 174.787,514.644 \n",
       "  \"/>\n",
       "<polyline clip-path=\"url(#clip540)\" style=\"stroke:#000000; stroke-width:4; stroke-opacity:1; fill:none\" points=\"\n",
       "  148.334,301.31 174.787,301.31 \n",
       "  \"/>\n",
       "<polyline clip-path=\"url(#clip540)\" style=\"stroke:#000000; stroke-width:4; stroke-opacity:1; fill:none\" points=\"\n",
       "  148.334,87.9763 174.787,87.9763 \n",
       "  \"/>\n",
       "<path clip-path=\"url(#clip540)\" d=\"M 0 0 M178.733 1508.44 Q175.122 1508.44 173.293 1512 Q171.488 1515.55 171.488 1522.67 Q171.488 1529.78 173.293 1533.35 Q175.122 1536.89 178.733 1536.89 Q182.367 1536.89 184.173 1533.35 Q186.002 1529.78 186.002 1522.67 Q186.002 1515.55 184.173 1512 Q182.367 1508.44 178.733 1508.44 M178.733 1504.73 Q184.543 1504.73 187.599 1509.34 Q190.677 1513.92 190.677 1522.67 Q190.677 1531.4 187.599 1536.01 Q184.543 1540.59 178.733 1540.59 Q172.923 1540.59 169.844 1536.01 Q166.789 1531.4 166.789 1522.67 Q166.789 1513.92 169.844 1509.34 Q172.923 1504.73 178.733 1504.73 Z\" fill=\"#000000\" fill-rule=\"evenodd\" fill-opacity=\"1\" /><path clip-path=\"url(#clip540)\" d=\"M 0 0 M195.747 1534.04 L200.631 1534.04 L200.631 1539.92 L195.747 1539.92 L195.747 1534.04 Z\" fill=\"#000000\" fill-rule=\"evenodd\" fill-opacity=\"1\" /><path clip-path=\"url(#clip540)\" d=\"M 0 0 M215.701 1508.44 Q212.089 1508.44 210.261 1512 Q208.455 1515.55 208.455 1522.67 Q208.455 1529.78 210.261 1533.35 Q212.089 1536.89 215.701 1536.89 Q219.335 1536.89 221.14 1533.35 Q222.969 1529.78 222.969 1522.67 Q222.969 1515.55 221.14 1512 Q219.335 1508.44 215.701 1508.44 M215.701 1504.73 Q221.511 1504.73 224.566 1509.34 Q227.645 1513.92 227.645 1522.67 Q227.645 1531.4 224.566 1536.01 Q221.511 1540.59 215.701 1540.59 Q209.89 1540.59 206.812 1536.01 Q203.756 1531.4 203.756 1522.67 Q203.756 1513.92 206.812 1509.34 Q209.89 1504.73 215.701 1504.73 Z\" fill=\"#000000\" fill-rule=\"evenodd\" fill-opacity=\"1\" /><path clip-path=\"url(#clip540)\" d=\"M 0 0 M242.714 1508.44 Q239.103 1508.44 237.274 1512 Q235.469 1515.55 235.469 1522.67 Q235.469 1529.78 237.274 1533.35 Q239.103 1536.89 242.714 1536.89 Q246.348 1536.89 248.154 1533.35 Q249.983 1529.78 249.983 1522.67 Q249.983 1515.55 248.154 1512 Q246.348 1508.44 242.714 1508.44 M242.714 1504.73 Q248.524 1504.73 251.58 1509.34 Q254.659 1513.92 254.659 1522.67 Q254.659 1531.4 251.58 1536.01 Q248.524 1540.59 242.714 1540.59 Q236.904 1540.59 233.825 1536.01 Q230.77 1531.4 230.77 1522.67 Q230.77 1513.92 233.825 1509.34 Q236.904 1504.73 242.714 1504.73 Z\" fill=\"#000000\" fill-rule=\"evenodd\" fill-opacity=\"1\" /><path clip-path=\"url(#clip540)\" d=\"M 0 0 M699.94 1508.44 Q696.329 1508.44 694.5 1512 Q692.695 1515.55 692.695 1522.67 Q692.695 1529.78 694.5 1533.35 Q696.329 1536.89 699.94 1536.89 Q703.574 1536.89 705.38 1533.35 Q707.209 1529.78 707.209 1522.67 Q707.209 1515.55 705.38 1512 Q703.574 1508.44 699.94 1508.44 M699.94 1504.73 Q705.75 1504.73 708.806 1509.34 Q711.885 1513.92 711.885 1522.67 Q711.885 1531.4 708.806 1536.01 Q705.75 1540.59 699.94 1540.59 Q694.13 1540.59 691.051 1536.01 Q687.996 1531.4 687.996 1522.67 Q687.996 1513.92 691.051 1509.34 Q694.13 1504.73 699.94 1504.73 Z\" fill=\"#000000\" fill-rule=\"evenodd\" fill-opacity=\"1\" /><path clip-path=\"url(#clip540)\" d=\"M 0 0 M716.954 1534.04 L721.838 1534.04 L721.838 1539.92 L716.954 1539.92 L716.954 1534.04 Z\" fill=\"#000000\" fill-rule=\"evenodd\" fill-opacity=\"1\" /><path clip-path=\"url(#clip540)\" d=\"M 0 0 M730.935 1535.98 L747.255 1535.98 L747.255 1539.92 L725.31 1539.92 L725.31 1535.98 Q727.972 1533.23 732.556 1528.6 Q737.162 1523.95 738.343 1522.61 Q740.588 1520.08 741.468 1518.35 Q742.37 1516.59 742.37 1514.9 Q742.37 1512.14 740.426 1510.41 Q738.505 1508.67 735.403 1508.67 Q733.204 1508.67 730.75 1509.43 Q728.32 1510.2 725.542 1511.75 L725.542 1507.03 Q728.366 1505.89 730.82 1505.31 Q733.273 1504.73 735.31 1504.73 Q740.681 1504.73 743.875 1507.42 Q747.07 1510.11 747.07 1514.6 Q747.07 1516.73 746.259 1518.65 Q745.472 1520.54 743.366 1523.14 Q742.787 1523.81 739.685 1527.03 Q736.583 1530.22 730.935 1535.98 Z\" fill=\"#000000\" fill-rule=\"evenodd\" fill-opacity=\"1\" /><path clip-path=\"url(#clip540)\" d=\"M 0 0 M752.37 1505.36 L770.727 1505.36 L770.727 1509.3 L756.653 1509.3 L756.653 1517.77 Q757.671 1517.42 758.69 1517.26 Q759.708 1517.07 760.727 1517.07 Q766.514 1517.07 769.893 1520.24 Q773.273 1523.42 773.273 1528.83 Q773.273 1534.41 769.801 1537.51 Q766.329 1540.59 760.009 1540.59 Q757.833 1540.59 755.565 1540.22 Q753.319 1539.85 750.912 1539.11 L750.912 1534.41 Q752.995 1535.54 755.218 1536.1 Q757.44 1536.66 759.917 1536.66 Q763.921 1536.66 766.259 1534.55 Q768.597 1532.44 768.597 1528.83 Q768.597 1525.22 766.259 1523.11 Q763.921 1521.01 759.917 1521.01 Q758.042 1521.01 756.167 1521.42 Q754.315 1521.84 752.37 1522.72 L752.37 1505.36 Z\" fill=\"#000000\" fill-rule=\"evenodd\" fill-opacity=\"1\" /><path clip-path=\"url(#clip540)\" d=\"M 0 0 M1219.05 1508.44 Q1215.44 1508.44 1213.61 1512 Q1211.81 1515.55 1211.81 1522.67 Q1211.81 1529.78 1213.61 1533.35 Q1215.44 1536.89 1219.05 1536.89 Q1222.69 1536.89 1224.49 1533.35 Q1226.32 1529.78 1226.32 1522.67 Q1226.32 1515.55 1224.49 1512 Q1222.69 1508.44 1219.05 1508.44 M1219.05 1504.73 Q1224.86 1504.73 1227.92 1509.34 Q1231 1513.92 1231 1522.67 Q1231 1531.4 1227.92 1536.01 Q1224.86 1540.59 1219.05 1540.59 Q1213.24 1540.59 1210.16 1536.01 Q1207.11 1531.4 1207.11 1522.67 Q1207.11 1513.92 1210.16 1509.34 Q1213.24 1504.73 1219.05 1504.73 Z\" fill=\"#000000\" fill-rule=\"evenodd\" fill-opacity=\"1\" /><path clip-path=\"url(#clip540)\" d=\"M 0 0 M1236.07 1534.04 L1240.95 1534.04 L1240.95 1539.92 L1236.07 1539.92 L1236.07 1534.04 Z\" fill=\"#000000\" fill-rule=\"evenodd\" fill-opacity=\"1\" /><path clip-path=\"url(#clip540)\" d=\"M 0 0 M1246.07 1505.36 L1264.42 1505.36 L1264.42 1509.3 L1250.35 1509.3 L1250.35 1517.77 Q1251.37 1517.42 1252.39 1517.26 Q1253.4 1517.07 1254.42 1517.07 Q1260.21 1517.07 1263.59 1520.24 Q1266.97 1523.42 1266.97 1528.83 Q1266.97 1534.41 1263.5 1537.51 Q1260.02 1540.59 1253.7 1540.59 Q1251.53 1540.59 1249.26 1540.22 Q1247.02 1539.85 1244.61 1539.11 L1244.61 1534.41 Q1246.69 1535.54 1248.91 1536.1 Q1251.14 1536.66 1253.61 1536.66 Q1257.62 1536.66 1259.95 1534.55 Q1262.29 1532.44 1262.29 1528.83 Q1262.29 1525.22 1259.95 1523.11 Q1257.62 1521.01 1253.61 1521.01 Q1251.74 1521.01 1249.86 1521.42 Q1248.01 1521.84 1246.07 1522.72 L1246.07 1505.36 Z\" fill=\"#000000\" fill-rule=\"evenodd\" fill-opacity=\"1\" /><path clip-path=\"url(#clip540)\" d=\"M 0 0 M1282.04 1508.44 Q1278.43 1508.44 1276.6 1512 Q1274.79 1515.55 1274.79 1522.67 Q1274.79 1529.78 1276.6 1533.35 Q1278.43 1536.89 1282.04 1536.89 Q1285.67 1536.89 1287.48 1533.35 Q1289.31 1529.78 1289.31 1522.67 Q1289.31 1515.55 1287.48 1512 Q1285.67 1508.44 1282.04 1508.44 M1282.04 1504.73 Q1287.85 1504.73 1290.9 1509.34 Q1293.98 1513.92 1293.98 1522.67 Q1293.98 1531.4 1290.9 1536.01 Q1287.85 1540.59 1282.04 1540.59 Q1276.23 1540.59 1273.15 1536.01 Q1270.09 1531.4 1270.09 1522.67 Q1270.09 1513.92 1273.15 1509.34 Q1276.23 1504.73 1282.04 1504.73 Z\" fill=\"#000000\" fill-rule=\"evenodd\" fill-opacity=\"1\" /><path clip-path=\"url(#clip540)\" d=\"M 0 0 M1739.41 1508.44 Q1735.8 1508.44 1733.97 1512 Q1732.17 1515.55 1732.17 1522.67 Q1732.17 1529.78 1733.97 1533.35 Q1735.8 1536.89 1739.41 1536.89 Q1743.05 1536.89 1744.85 1533.35 Q1746.68 1529.78 1746.68 1522.67 Q1746.68 1515.55 1744.85 1512 Q1743.05 1508.44 1739.41 1508.44 M1739.41 1504.73 Q1745.22 1504.73 1748.28 1509.34 Q1751.36 1513.92 1751.36 1522.67 Q1751.36 1531.4 1748.28 1536.01 Q1745.22 1540.59 1739.41 1540.59 Q1733.6 1540.59 1730.53 1536.01 Q1727.47 1531.4 1727.47 1522.67 Q1727.47 1513.92 1730.53 1509.34 Q1733.6 1504.73 1739.41 1504.73 Z\" fill=\"#000000\" fill-rule=\"evenodd\" fill-opacity=\"1\" /><path clip-path=\"url(#clip540)\" d=\"M 0 0 M1756.43 1534.04 L1761.31 1534.04 L1761.31 1539.92 L1756.43 1539.92 L1756.43 1534.04 Z\" fill=\"#000000\" fill-rule=\"evenodd\" fill-opacity=\"1\" /><path clip-path=\"url(#clip540)\" d=\"M 0 0 M1765.2 1505.36 L1787.42 1505.36 L1787.42 1507.35 L1774.88 1539.92 L1769.99 1539.92 L1781.8 1509.3 L1765.2 1509.3 L1765.2 1505.36 Z\" fill=\"#000000\" fill-rule=\"evenodd\" fill-opacity=\"1\" /><path clip-path=\"url(#clip540)\" d=\"M 0 0 M1792.54 1505.36 L1810.9 1505.36 L1810.9 1509.3 L1796.82 1509.3 L1796.82 1517.77 Q1797.84 1517.42 1798.86 1517.26 Q1799.88 1517.07 1800.9 1517.07 Q1806.68 1517.07 1810.06 1520.24 Q1813.44 1523.42 1813.44 1528.83 Q1813.44 1534.41 1809.97 1537.51 Q1806.5 1540.59 1800.18 1540.59 Q1798 1540.59 1795.73 1540.22 Q1793.49 1539.85 1791.08 1539.11 L1791.08 1534.41 Q1793.16 1535.54 1795.39 1536.1 Q1797.61 1536.66 1800.09 1536.66 Q1804.09 1536.66 1806.43 1534.55 Q1808.77 1532.44 1808.77 1528.83 Q1808.77 1525.22 1806.43 1523.11 Q1804.09 1521.01 1800.09 1521.01 Q1798.21 1521.01 1796.34 1521.42 Q1794.48 1521.84 1792.54 1522.72 L1792.54 1505.36 Z\" fill=\"#000000\" fill-rule=\"evenodd\" fill-opacity=\"1\" /><path clip-path=\"url(#clip540)\" d=\"M 0 0 M2248.76 1535.98 L2256.4 1535.98 L2256.4 1509.62 L2248.09 1511.29 L2248.09 1507.03 L2256.35 1505.36 L2261.03 1505.36 L2261.03 1535.98 L2268.67 1535.98 L2268.67 1539.92 L2248.76 1539.92 L2248.76 1535.98 Z\" fill=\"#000000\" fill-rule=\"evenodd\" fill-opacity=\"1\" /><path clip-path=\"url(#clip540)\" d=\"M 0 0 M2273.73 1534.04 L2278.62 1534.04 L2278.62 1539.92 L2273.73 1539.92 L2273.73 1534.04 Z\" fill=\"#000000\" fill-rule=\"evenodd\" fill-opacity=\"1\" /><path clip-path=\"url(#clip540)\" d=\"M 0 0 M2293.69 1508.44 Q2290.08 1508.44 2288.25 1512 Q2286.44 1515.55 2286.44 1522.67 Q2286.44 1529.78 2288.25 1533.35 Q2290.08 1536.89 2293.69 1536.89 Q2297.32 1536.89 2299.13 1533.35 Q2300.96 1529.78 2300.96 1522.67 Q2300.96 1515.55 2299.13 1512 Q2297.32 1508.44 2293.69 1508.44 M2293.69 1504.73 Q2299.5 1504.73 2302.55 1509.34 Q2305.63 1513.92 2305.63 1522.67 Q2305.63 1531.4 2302.55 1536.01 Q2299.5 1540.59 2293.69 1540.59 Q2287.88 1540.59 2284.8 1536.01 Q2281.74 1531.4 2281.74 1522.67 Q2281.74 1513.92 2284.8 1509.34 Q2287.88 1504.73 2293.69 1504.73 Z\" fill=\"#000000\" fill-rule=\"evenodd\" fill-opacity=\"1\" /><path clip-path=\"url(#clip540)\" d=\"M 0 0 M2320.7 1508.44 Q2317.09 1508.44 2315.26 1512 Q2313.46 1515.55 2313.46 1522.67 Q2313.46 1529.78 2315.26 1533.35 Q2317.09 1536.89 2320.7 1536.89 Q2324.34 1536.89 2326.14 1533.35 Q2327.97 1529.78 2327.97 1522.67 Q2327.97 1515.55 2326.14 1512 Q2324.34 1508.44 2320.7 1508.44 M2320.7 1504.73 Q2326.51 1504.73 2329.57 1509.34 Q2332.65 1513.92 2332.65 1522.67 Q2332.65 1531.4 2329.57 1536.01 Q2326.51 1540.59 2320.7 1540.59 Q2314.89 1540.59 2311.81 1536.01 Q2308.76 1531.4 2308.76 1522.67 Q2308.76 1513.92 2311.81 1509.34 Q2314.89 1504.73 2320.7 1504.73 Z\" fill=\"#000000\" fill-rule=\"evenodd\" fill-opacity=\"1\" /><path clip-path=\"url(#clip540)\" d=\"M 0 0 M74.9365 1353.78 Q71.3254 1353.78 69.4967 1357.34 Q67.6912 1360.88 67.6912 1368.01 Q67.6912 1375.12 69.4967 1378.68 Q71.3254 1382.23 74.9365 1382.23 Q78.5707 1382.23 80.3763 1378.68 Q82.205 1375.12 82.205 1368.01 Q82.205 1360.88 80.3763 1357.34 Q78.5707 1353.78 74.9365 1353.78 M74.9365 1350.07 Q80.7467 1350.07 83.8022 1354.68 Q86.8809 1359.26 86.8809 1368.01 Q86.8809 1376.74 83.8022 1381.35 Q80.7467 1385.93 74.9365 1385.93 Q69.1264 1385.93 66.0477 1381.35 Q62.9921 1376.74 62.9921 1368.01 Q62.9921 1359.26 66.0477 1354.68 Q69.1264 1350.07 74.9365 1350.07 Z\" fill=\"#000000\" fill-rule=\"evenodd\" fill-opacity=\"1\" /><path clip-path=\"url(#clip540)\" d=\"M 0 0 M91.9503 1379.38 L96.8345 1379.38 L96.8345 1385.26 L91.9503 1385.26 L91.9503 1379.38 Z\" fill=\"#000000\" fill-rule=\"evenodd\" fill-opacity=\"1\" /><path clip-path=\"url(#clip540)\" d=\"M 0 0 M114.751 1354.77 L102.946 1373.22 L114.751 1373.22 L114.751 1354.77 M113.524 1350.7 L119.404 1350.7 L119.404 1373.22 L124.334 1373.22 L124.334 1377.11 L119.404 1377.11 L119.404 1385.26 L114.751 1385.26 L114.751 1377.11 L99.1493 1377.11 L99.1493 1372.6 L113.524 1350.7 Z\" fill=\"#000000\" fill-rule=\"evenodd\" fill-opacity=\"1\" /><path clip-path=\"url(#clip540)\" d=\"M 0 0 M76.418 1140.44 Q72.8069 1140.44 70.9782 1144.01 Q69.1726 1147.55 69.1726 1154.68 Q69.1726 1161.79 70.9782 1165.35 Q72.8069 1168.89 76.418 1168.89 Q80.0522 1168.89 81.8578 1165.35 Q83.6865 1161.79 83.6865 1154.68 Q83.6865 1147.55 81.8578 1144.01 Q80.0522 1140.44 76.418 1140.44 M76.418 1136.74 Q82.2281 1136.74 85.2837 1141.35 Q88.3624 1145.93 88.3624 1154.68 Q88.3624 1163.41 85.2837 1168.01 Q82.2281 1172.6 76.418 1172.6 Q70.6078 1172.6 67.5291 1168.01 Q64.4736 1163.41 64.4736 1154.68 Q64.4736 1145.93 67.5291 1141.35 Q70.6078 1136.74 76.418 1136.74 Z\" fill=\"#000000\" fill-rule=\"evenodd\" fill-opacity=\"1\" /><path clip-path=\"url(#clip540)\" d=\"M 0 0 M93.4318 1166.04 L98.316 1166.04 L98.316 1171.92 L93.4318 1171.92 L93.4318 1166.04 Z\" fill=\"#000000\" fill-rule=\"evenodd\" fill-opacity=\"1\" /><path clip-path=\"url(#clip540)\" d=\"M 0 0 M103.432 1137.36 L121.788 1137.36 L121.788 1141.3 L107.714 1141.3 L107.714 1149.77 Q108.733 1149.42 109.751 1149.26 Q110.77 1149.08 111.788 1149.08 Q117.575 1149.08 120.955 1152.25 Q124.334 1155.42 124.334 1160.84 Q124.334 1166.42 120.862 1169.52 Q117.39 1172.6 111.071 1172.6 Q108.895 1172.6 106.626 1172.23 Q104.381 1171.86 101.973 1171.11 L101.973 1166.42 Q104.057 1167.55 106.279 1168.11 Q108.501 1168.66 110.978 1168.66 Q114.983 1168.66 117.321 1166.55 Q119.658 1164.45 119.658 1160.84 Q119.658 1157.23 117.321 1155.12 Q114.983 1153.01 110.978 1153.01 Q109.103 1153.01 107.228 1153.43 Q105.376 1153.85 103.432 1154.73 L103.432 1137.36 Z\" fill=\"#000000\" fill-rule=\"evenodd\" fill-opacity=\"1\" /><path clip-path=\"url(#clip540)\" d=\"M 0 0 M75.2606 927.11 Q71.6495 927.11 69.8208 930.674 Q68.0152 934.216 68.0152 941.346 Q68.0152 948.452 69.8208 952.017 Q71.6495 955.558 75.2606 955.558 Q78.8948 955.558 80.7004 952.017 Q82.5291 948.452 82.5291 941.346 Q82.5291 934.216 80.7004 930.674 Q78.8948 927.11 75.2606 927.11 M75.2606 923.406 Q81.0707 923.406 84.1263 928.012 Q87.205 932.596 87.205 941.346 Q87.205 950.072 84.1263 954.679 Q81.0707 959.262 75.2606 959.262 Q69.4504 959.262 66.3717 954.679 Q63.3162 950.072 63.3162 941.346 Q63.3162 932.596 66.3717 928.012 Q69.4504 923.406 75.2606 923.406 Z\" fill=\"#000000\" fill-rule=\"evenodd\" fill-opacity=\"1\" /><path clip-path=\"url(#clip540)\" d=\"M 0 0 M92.2744 952.711 L97.1586 952.711 L97.1586 958.591 L92.2744 958.591 L92.2744 952.711 Z\" fill=\"#000000\" fill-rule=\"evenodd\" fill-opacity=\"1\" /><path clip-path=\"url(#clip540)\" d=\"M 0 0 M112.807 939.447 Q109.659 939.447 107.807 941.6 Q105.978 943.753 105.978 947.503 Q105.978 951.23 107.807 953.406 Q109.659 955.558 112.807 955.558 Q115.955 955.558 117.783 953.406 Q119.635 951.23 119.635 947.503 Q119.635 943.753 117.783 941.6 Q115.955 939.447 112.807 939.447 M122.089 924.795 L122.089 929.054 Q120.33 928.221 118.524 927.781 Q116.742 927.341 114.983 927.341 Q110.353 927.341 107.899 930.466 Q105.469 933.591 105.122 939.91 Q106.487 937.896 108.547 936.832 Q110.608 935.744 113.084 935.744 Q118.293 935.744 121.302 938.915 Q124.334 942.063 124.334 947.503 Q124.334 952.827 121.186 956.045 Q118.038 959.262 112.807 959.262 Q106.811 959.262 103.64 954.679 Q100.469 950.072 100.469 941.346 Q100.469 933.151 104.358 928.29 Q108.247 923.406 114.797 923.406 Q116.557 923.406 118.339 923.753 Q120.145 924.1 122.089 924.795 Z\" fill=\"#000000\" fill-rule=\"evenodd\" fill-opacity=\"1\" /><path clip-path=\"url(#clip540)\" d=\"M 0 0 M76.3254 713.776 Q72.7143 713.776 70.8856 717.341 Q69.0801 720.882 69.0801 728.012 Q69.0801 735.118 70.8856 738.683 Q72.7143 742.225 76.3254 742.225 Q79.9596 742.225 81.7652 738.683 Q83.5939 735.118 83.5939 728.012 Q83.5939 720.882 81.7652 717.341 Q79.9596 713.776 76.3254 713.776 M76.3254 710.072 Q82.1355 710.072 85.1911 714.679 Q88.2698 719.262 88.2698 728.012 Q88.2698 736.739 85.1911 741.345 Q82.1355 745.928 76.3254 745.928 Q70.5152 745.928 67.4365 741.345 Q64.381 736.739 64.381 728.012 Q64.381 719.262 67.4365 714.679 Q70.5152 710.072 76.3254 710.072 Z\" fill=\"#000000\" fill-rule=\"evenodd\" fill-opacity=\"1\" /><path clip-path=\"url(#clip540)\" d=\"M 0 0 M93.3392 739.378 L98.2234 739.378 L98.2234 745.257 L93.3392 745.257 L93.3392 739.378 Z\" fill=\"#000000\" fill-rule=\"evenodd\" fill-opacity=\"1\" /><path clip-path=\"url(#clip540)\" d=\"M 0 0 M102.112 710.697 L124.334 710.697 L124.334 712.688 L111.788 745.257 L106.904 745.257 L118.709 714.632 L102.112 714.632 L102.112 710.697 Z\" fill=\"#000000\" fill-rule=\"evenodd\" fill-opacity=\"1\" /><path clip-path=\"url(#clip540)\" d=\"M 0 0 M75.5152 500.442 Q71.9041 500.442 70.0754 504.007 Q68.2699 507.549 68.2699 514.678 Q68.2699 521.785 70.0754 525.35 Q71.9041 528.891 75.5152 528.891 Q79.1494 528.891 80.955 525.35 Q82.7837 521.785 82.7837 514.678 Q82.7837 507.549 80.955 504.007 Q79.1494 500.442 75.5152 500.442 M75.5152 496.739 Q81.3254 496.739 84.3809 501.345 Q87.4596 505.928 87.4596 514.678 Q87.4596 523.405 84.3809 528.012 Q81.3254 532.595 75.5152 532.595 Q69.7051 532.595 66.6264 528.012 Q63.5708 523.405 63.5708 514.678 Q63.5708 505.928 66.6264 501.345 Q69.7051 496.739 75.5152 496.739 Z\" fill=\"#000000\" fill-rule=\"evenodd\" fill-opacity=\"1\" /><path clip-path=\"url(#clip540)\" d=\"M 0 0 M92.529 526.044 L97.4132 526.044 L97.4132 531.924 L92.529 531.924 L92.529 526.044 Z\" fill=\"#000000\" fill-rule=\"evenodd\" fill-opacity=\"1\" /><path clip-path=\"url(#clip540)\" d=\"M 0 0 M112.483 515.512 Q109.149 515.512 107.228 517.294 Q105.33 519.076 105.33 522.201 Q105.33 525.326 107.228 527.109 Q109.149 528.891 112.483 528.891 Q115.816 528.891 117.737 527.109 Q119.658 525.303 119.658 522.201 Q119.658 519.076 117.737 517.294 Q115.839 515.512 112.483 515.512 M107.807 513.521 Q104.797 512.78 103.108 510.72 Q101.441 508.66 101.441 505.697 Q101.441 501.553 104.381 499.146 Q107.344 496.739 112.483 496.739 Q117.645 496.739 120.584 499.146 Q123.524 501.553 123.524 505.697 Q123.524 508.66 121.834 510.72 Q120.168 512.78 117.182 513.521 Q120.561 514.308 122.436 516.6 Q124.334 518.891 124.334 522.201 Q124.334 527.224 121.256 529.91 Q118.2 532.595 112.483 532.595 Q106.765 532.595 103.686 529.91 Q100.631 527.224 100.631 522.201 Q100.631 518.891 102.529 516.6 Q104.427 514.308 107.807 513.521 M106.094 506.137 Q106.094 508.822 107.76 510.326 Q109.45 511.831 112.483 511.831 Q115.492 511.831 117.182 510.326 Q118.895 508.822 118.895 506.137 Q118.895 503.451 117.182 501.947 Q115.492 500.442 112.483 500.442 Q109.45 500.442 107.76 501.947 Q106.094 503.451 106.094 506.137 Z\" fill=\"#000000\" fill-rule=\"evenodd\" fill-opacity=\"1\" /><path clip-path=\"url(#clip540)\" d=\"M 0 0 M75.6078 287.109 Q71.9967 287.109 70.168 290.673 Q68.3625 294.215 68.3625 301.345 Q68.3625 308.451 70.168 312.016 Q71.9967 315.558 75.6078 315.558 Q79.242 315.558 81.0476 312.016 Q82.8763 308.451 82.8763 301.345 Q82.8763 294.215 81.0476 290.673 Q79.242 287.109 75.6078 287.109 M75.6078 283.405 Q81.418 283.405 84.4735 288.011 Q87.5522 292.595 87.5522 301.345 Q87.5522 310.071 84.4735 314.678 Q81.418 319.261 75.6078 319.261 Q69.7976 319.261 66.719 314.678 Q63.6634 310.071 63.6634 301.345 Q63.6634 292.595 66.719 288.011 Q69.7976 283.405 75.6078 283.405 Z\" fill=\"#000000\" fill-rule=\"evenodd\" fill-opacity=\"1\" /><path clip-path=\"url(#clip540)\" d=\"M 0 0 M92.6216 312.71 L97.5058 312.71 L97.5058 318.59 L92.6216 318.59 L92.6216 312.71 Z\" fill=\"#000000\" fill-rule=\"evenodd\" fill-opacity=\"1\" /><path clip-path=\"url(#clip540)\" d=\"M 0 0 M102.714 317.872 L102.714 313.613 Q104.473 314.446 106.279 314.886 Q108.084 315.326 109.821 315.326 Q114.45 315.326 116.881 312.224 Q119.334 309.099 119.682 302.757 Q118.339 304.747 116.279 305.812 Q114.219 306.877 111.719 306.877 Q106.534 306.877 103.501 303.752 Q100.492 300.604 100.492 295.164 Q100.492 289.84 103.64 286.622 Q106.788 283.405 112.02 283.405 Q118.015 283.405 121.163 288.011 Q124.334 292.595 124.334 301.345 Q124.334 309.516 120.446 314.4 Q116.58 319.261 110.029 319.261 Q108.27 319.261 106.464 318.914 Q104.659 318.567 102.714 317.872 M112.02 303.22 Q115.168 303.22 116.996 301.067 Q118.848 298.914 118.848 295.164 Q118.848 291.437 116.996 289.285 Q115.168 287.109 112.02 287.109 Q108.872 287.109 107.02 289.285 Q105.191 291.437 105.191 295.164 Q105.191 298.914 107.02 301.067 Q108.872 303.22 112.02 303.22 Z\" fill=\"#000000\" fill-rule=\"evenodd\" fill-opacity=\"1\" /><path clip-path=\"url(#clip540)\" d=\"M 0 0 M67.4597 101.321 L75.0985 101.321 L75.0985 74.9555 L66.7884 76.6222 L66.7884 72.3629 L75.0522 70.6963 L79.7281 70.6963 L79.7281 101.321 L87.367 101.321 L87.367 105.256 L67.4597 105.256 L67.4597 101.321 Z\" fill=\"#000000\" fill-rule=\"evenodd\" fill-opacity=\"1\" /><path clip-path=\"url(#clip540)\" d=\"M 0 0 M92.4364 99.3767 L97.3206 99.3767 L97.3206 105.256 L92.4364 105.256 L92.4364 99.3767 Z\" fill=\"#000000\" fill-rule=\"evenodd\" fill-opacity=\"1\" /><path clip-path=\"url(#clip540)\" d=\"M 0 0 M112.39 73.775 Q108.779 73.775 106.95 77.3398 Q105.145 80.8814 105.145 88.011 Q105.145 95.1174 106.95 98.6822 Q108.779 102.224 112.39 102.224 Q116.024 102.224 117.83 98.6822 Q119.658 95.1174 119.658 88.011 Q119.658 80.8814 117.83 77.3398 Q116.024 73.775 112.39 73.775 M112.39 70.0713 Q118.2 70.0713 121.256 74.6777 Q124.334 79.261 124.334 88.011 Q124.334 96.7378 121.256 101.344 Q118.2 105.928 112.39 105.928 Q106.58 105.928 103.501 101.344 Q100.446 96.7378 100.446 88.011 Q100.446 79.261 103.501 74.6777 Q106.58 70.0713 112.39 70.0713 Z\" fill=\"#000000\" fill-rule=\"evenodd\" fill-opacity=\"1\" /><polyline clip-path=\"url(#clip542)\" style=\"stroke:#009af9; stroke-width:4; stroke-opacity:1; fill:none\" points=\"\n",
       "  210.724,87.9763 275.713,153.612 340.701,217.229 405.69,278.888 470.679,338.65 535.668,396.573 600.657,452.715 665.646,507.129 730.634,559.869 795.623,610.986 \n",
       "  860.612,660.53 925.601,708.551 990.59,755.093 1055.58,800.204 1120.57,843.927 1185.56,886.305 1250.55,927.379 1315.53,967.189 1380.52,1005.77 1445.51,1043.17 \n",
       "  1510.5,1079.42 1575.49,1114.55 1640.48,1148.6 1705.47,1181.61 1770.46,1213.6 1835.44,1244.6 1900.43,1274.65 1965.42,1303.78 2030.41,1332.01 2095.4,1359.37 \n",
       "  2160.39,1385.89 2225.38,1411.59 2290.37,1436.5 \n",
       "  \"/>\n",
       "<circle clip-path=\"url(#clip542)\" cx=\"210.724\" cy=\"87.9763\" r=\"14\" fill=\"#e26f46\" fill-rule=\"evenodd\" fill-opacity=\"1\" stroke=\"#000000\" stroke-opacity=\"1\" stroke-width=\"3.2\"/>\n",
       "<circle clip-path=\"url(#clip542)\" cx=\"275.713\" cy=\"150.713\" r=\"14\" fill=\"#e26f46\" fill-rule=\"evenodd\" fill-opacity=\"1\" stroke=\"#000000\" stroke-opacity=\"1\" stroke-width=\"3.2\"/>\n",
       "<circle clip-path=\"url(#clip542)\" cx=\"340.701\" cy=\"212.179\" r=\"14\" fill=\"#e26f46\" fill-rule=\"evenodd\" fill-opacity=\"1\" stroke=\"#000000\" stroke-opacity=\"1\" stroke-width=\"3.2\"/>\n",
       "<circle clip-path=\"url(#clip542)\" cx=\"405.69\" cy=\"272.356\" r=\"14\" fill=\"#e26f46\" fill-rule=\"evenodd\" fill-opacity=\"1\" stroke=\"#000000\" stroke-opacity=\"1\" stroke-width=\"3.2\"/>\n",
       "<circle clip-path=\"url(#clip542)\" cx=\"470.679\" cy=\"331.223\" r=\"14\" fill=\"#e26f46\" fill-rule=\"evenodd\" fill-opacity=\"1\" stroke=\"#000000\" stroke-opacity=\"1\" stroke-width=\"3.2\"/>\n",
       "<circle clip-path=\"url(#clip542)\" cx=\"535.668\" cy=\"388.766\" r=\"14\" fill=\"#e26f46\" fill-rule=\"evenodd\" fill-opacity=\"1\" stroke=\"#000000\" stroke-opacity=\"1\" stroke-width=\"3.2\"/>\n",
       "<circle clip-path=\"url(#clip542)\" cx=\"600.657\" cy=\"444.972\" r=\"14\" fill=\"#e26f46\" fill-rule=\"evenodd\" fill-opacity=\"1\" stroke=\"#000000\" stroke-opacity=\"1\" stroke-width=\"3.2\"/>\n",
       "<circle clip-path=\"url(#clip542)\" cx=\"665.646\" cy=\"499.829\" r=\"14\" fill=\"#e26f46\" fill-rule=\"evenodd\" fill-opacity=\"1\" stroke=\"#000000\" stroke-opacity=\"1\" stroke-width=\"3.2\"/>\n",
       "<circle clip-path=\"url(#clip542)\" cx=\"730.634\" cy=\"553.328\" r=\"14\" fill=\"#e26f46\" fill-rule=\"evenodd\" fill-opacity=\"1\" stroke=\"#000000\" stroke-opacity=\"1\" stroke-width=\"3.2\"/>\n",
       "<circle clip-path=\"url(#clip542)\" cx=\"795.623\" cy=\"605.463\" r=\"14\" fill=\"#e26f46\" fill-rule=\"evenodd\" fill-opacity=\"1\" stroke=\"#000000\" stroke-opacity=\"1\" stroke-width=\"3.2\"/>\n",
       "<circle clip-path=\"url(#clip542)\" cx=\"860.612\" cy=\"656.23\" r=\"14\" fill=\"#e26f46\" fill-rule=\"evenodd\" fill-opacity=\"1\" stroke=\"#000000\" stroke-opacity=\"1\" stroke-width=\"3.2\"/>\n",
       "<circle clip-path=\"url(#clip542)\" cx=\"925.601\" cy=\"705.626\" r=\"14\" fill=\"#e26f46\" fill-rule=\"evenodd\" fill-opacity=\"1\" stroke=\"#000000\" stroke-opacity=\"1\" stroke-width=\"3.2\"/>\n",
       "<circle clip-path=\"url(#clip542)\" cx=\"990.59\" cy=\"753.653\" r=\"14\" fill=\"#e26f46\" fill-rule=\"evenodd\" fill-opacity=\"1\" stroke=\"#000000\" stroke-opacity=\"1\" stroke-width=\"3.2\"/>\n",
       "<circle clip-path=\"url(#clip542)\" cx=\"1055.58\" cy=\"800.312\" r=\"14\" fill=\"#e26f46\" fill-rule=\"evenodd\" fill-opacity=\"1\" stroke=\"#000000\" stroke-opacity=\"1\" stroke-width=\"3.2\"/>\n",
       "<circle clip-path=\"url(#clip542)\" cx=\"1120.57\" cy=\"845.61\" r=\"14\" fill=\"#e26f46\" fill-rule=\"evenodd\" fill-opacity=\"1\" stroke=\"#000000\" stroke-opacity=\"1\" stroke-width=\"3.2\"/>\n",
       "<circle clip-path=\"url(#clip542)\" cx=\"1185.56\" cy=\"889.553\" r=\"14\" fill=\"#e26f46\" fill-rule=\"evenodd\" fill-opacity=\"1\" stroke=\"#000000\" stroke-opacity=\"1\" stroke-width=\"3.2\"/>\n",
       "<circle clip-path=\"url(#clip542)\" cx=\"1250.55\" cy=\"932.15\" r=\"14\" fill=\"#e26f46\" fill-rule=\"evenodd\" fill-opacity=\"1\" stroke=\"#000000\" stroke-opacity=\"1\" stroke-width=\"3.2\"/>\n",
       "<circle clip-path=\"url(#clip542)\" cx=\"1315.53\" cy=\"973.413\" r=\"14\" fill=\"#e26f46\" fill-rule=\"evenodd\" fill-opacity=\"1\" stroke=\"#000000\" stroke-opacity=\"1\" stroke-width=\"3.2\"/>\n",
       "<circle clip-path=\"url(#clip542)\" cx=\"1380.52\" cy=\"1013.36\" r=\"14\" fill=\"#e26f46\" fill-rule=\"evenodd\" fill-opacity=\"1\" stroke=\"#000000\" stroke-opacity=\"1\" stroke-width=\"3.2\"/>\n",
       "<circle clip-path=\"url(#clip542)\" cx=\"1445.51\" cy=\"1051.99\" r=\"14\" fill=\"#e26f46\" fill-rule=\"evenodd\" fill-opacity=\"1\" stroke=\"#000000\" stroke-opacity=\"1\" stroke-width=\"3.2\"/>\n",
       "<circle clip-path=\"url(#clip542)\" cx=\"1510.5\" cy=\"1089.34\" r=\"14\" fill=\"#e26f46\" fill-rule=\"evenodd\" fill-opacity=\"1\" stroke=\"#000000\" stroke-opacity=\"1\" stroke-width=\"3.2\"/>\n",
       "<circle clip-path=\"url(#clip542)\" cx=\"1575.49\" cy=\"1125.43\" r=\"14\" fill=\"#e26f46\" fill-rule=\"evenodd\" fill-opacity=\"1\" stroke=\"#000000\" stroke-opacity=\"1\" stroke-width=\"3.2\"/>\n",
       "<circle clip-path=\"url(#clip542)\" cx=\"1640.48\" cy=\"1160.26\" r=\"14\" fill=\"#e26f46\" fill-rule=\"evenodd\" fill-opacity=\"1\" stroke=\"#000000\" stroke-opacity=\"1\" stroke-width=\"3.2\"/>\n",
       "<circle clip-path=\"url(#clip542)\" cx=\"1705.47\" cy=\"1193.87\" r=\"14\" fill=\"#e26f46\" fill-rule=\"evenodd\" fill-opacity=\"1\" stroke=\"#000000\" stroke-opacity=\"1\" stroke-width=\"3.2\"/>\n",
       "<circle clip-path=\"url(#clip542)\" cx=\"1770.46\" cy=\"1226.28\" r=\"14\" fill=\"#e26f46\" fill-rule=\"evenodd\" fill-opacity=\"1\" stroke=\"#000000\" stroke-opacity=\"1\" stroke-width=\"3.2\"/>\n",
       "<circle clip-path=\"url(#clip542)\" cx=\"1835.44\" cy=\"1257.52\" r=\"14\" fill=\"#e26f46\" fill-rule=\"evenodd\" fill-opacity=\"1\" stroke=\"#000000\" stroke-opacity=\"1\" stroke-width=\"3.2\"/>\n",
       "<circle clip-path=\"url(#clip542)\" cx=\"1900.43\" cy=\"1287.6\" r=\"14\" fill=\"#e26f46\" fill-rule=\"evenodd\" fill-opacity=\"1\" stroke=\"#000000\" stroke-opacity=\"1\" stroke-width=\"3.2\"/>\n",
       "<circle clip-path=\"url(#clip542)\" cx=\"1965.42\" cy=\"1316.57\" r=\"14\" fill=\"#e26f46\" fill-rule=\"evenodd\" fill-opacity=\"1\" stroke=\"#000000\" stroke-opacity=\"1\" stroke-width=\"3.2\"/>\n",
       "<circle clip-path=\"url(#clip542)\" cx=\"2030.41\" cy=\"1344.45\" r=\"14\" fill=\"#e26f46\" fill-rule=\"evenodd\" fill-opacity=\"1\" stroke=\"#000000\" stroke-opacity=\"1\" stroke-width=\"3.2\"/>\n",
       "<circle clip-path=\"url(#clip542)\" cx=\"2095.4\" cy=\"1371.28\" r=\"14\" fill=\"#e26f46\" fill-rule=\"evenodd\" fill-opacity=\"1\" stroke=\"#000000\" stroke-opacity=\"1\" stroke-width=\"3.2\"/>\n",
       "<circle clip-path=\"url(#clip542)\" cx=\"2160.39\" cy=\"1397.07\" r=\"14\" fill=\"#e26f46\" fill-rule=\"evenodd\" fill-opacity=\"1\" stroke=\"#000000\" stroke-opacity=\"1\" stroke-width=\"3.2\"/>\n",
       "<circle clip-path=\"url(#clip542)\" cx=\"2225.38\" cy=\"1421.87\" r=\"14\" fill=\"#e26f46\" fill-rule=\"evenodd\" fill-opacity=\"1\" stroke=\"#000000\" stroke-opacity=\"1\" stroke-width=\"3.2\"/>\n",
       "<circle clip-path=\"url(#clip542)\" cx=\"2290.37\" cy=\"1445.72\" r=\"14\" fill=\"#e26f46\" fill-rule=\"evenodd\" fill-opacity=\"1\" stroke=\"#000000\" stroke-opacity=\"1\" stroke-width=\"3.2\"/>\n",
       "<path clip-path=\"url(#clip540)\" d=\"\n",
       "M1920.24 276.658 L2279.28 276.658 L2279.28 95.2176 L1920.24 95.2176  Z\n",
       "  \" fill=\"#ffffff\" fill-rule=\"evenodd\" fill-opacity=\"1\"/>\n",
       "<polyline clip-path=\"url(#clip540)\" style=\"stroke:#000000; stroke-width:4; stroke-opacity:1; fill:none\" points=\"\n",
       "  1920.24,276.658 2279.28,276.658 2279.28,95.2176 1920.24,95.2176 1920.24,276.658 \n",
       "  \"/>\n",
       "<polyline clip-path=\"url(#clip540)\" style=\"stroke:#009af9; stroke-width:4; stroke-opacity:1; fill:none\" points=\"\n",
       "  1944.74,155.698 2091.7,155.698 \n",
       "  \"/>\n",
       "<path clip-path=\"url(#clip540)\" d=\"M 0 0 M2116.19 138.418 L2138.04 138.418 L2138.04 142.353 L2120.87 142.353 L2120.87 152.584 L2137.33 152.584 L2137.33 156.519 L2120.87 156.519 L2120.87 169.042 L2138.46 169.042 L2138.46 172.978 L2116.19 172.978 L2116.19 138.418 Z\" fill=\"#000000\" fill-rule=\"evenodd\" fill-opacity=\"1\" /><path clip-path=\"url(#clip540)\" d=\"M 0 0 M2164.48 147.052 L2155.1 159.667 L2164.96 172.978 L2159.94 172.978 L2152.39 162.792 L2144.85 172.978 L2139.83 172.978 L2149.89 159.413 L2140.68 147.052 L2145.71 147.052 L2152.58 156.288 L2159.46 147.052 L2164.48 147.052 Z\" fill=\"#000000\" fill-rule=\"evenodd\" fill-opacity=\"1\" /><path clip-path=\"url(#clip540)\" d=\"M 0 0 M2181.21 159.945 Q2176.05 159.945 2174.06 161.126 Q2172.07 162.306 2172.07 165.154 Q2172.07 167.422 2173.55 168.765 Q2175.06 170.084 2177.63 170.084 Q2181.17 170.084 2183.3 167.584 Q2185.45 165.061 2185.45 160.894 L2185.45 159.945 L2181.21 159.945 M2189.71 158.186 L2189.71 172.978 L2185.45 172.978 L2185.45 169.042 Q2183.99 171.403 2181.82 172.538 Q2179.64 173.649 2176.49 173.649 Q2172.51 173.649 2170.15 171.427 Q2167.81 169.181 2167.81 165.431 Q2167.81 161.056 2170.73 158.834 Q2173.67 156.612 2179.48 156.612 L2185.45 156.612 L2185.45 156.195 Q2185.45 153.255 2183.51 151.658 Q2181.58 150.038 2178.09 150.038 Q2175.87 150.038 2173.76 150.57 Q2171.65 151.103 2169.71 152.167 L2169.71 148.232 Q2172.05 147.33 2174.25 146.89 Q2176.45 146.427 2178.53 146.427 Q2184.15 146.427 2186.93 149.343 Q2189.71 152.26 2189.71 158.186 Z\" fill=\"#000000\" fill-rule=\"evenodd\" fill-opacity=\"1\" /><path clip-path=\"url(#clip540)\" d=\"M 0 0 M2212.83 148.047 L2212.83 152.029 Q2211.03 151.033 2209.2 150.547 Q2207.39 150.038 2205.54 150.038 Q2201.4 150.038 2199.11 152.677 Q2196.82 155.292 2196.82 160.038 Q2196.82 164.783 2199.11 167.422 Q2201.4 170.038 2205.54 170.038 Q2207.39 170.038 2209.2 169.552 Q2211.03 169.042 2212.83 168.047 L2212.83 171.982 Q2211.05 172.816 2209.13 173.232 Q2207.23 173.649 2205.08 173.649 Q2199.22 173.649 2195.77 169.968 Q2192.33 166.288 2192.33 160.038 Q2192.33 153.695 2195.8 150.061 Q2199.29 146.427 2205.36 146.427 Q2207.33 146.427 2209.2 146.843 Q2211.08 147.237 2212.83 148.047 Z\" fill=\"#000000\" fill-rule=\"evenodd\" fill-opacity=\"1\" /><path clip-path=\"url(#clip540)\" d=\"M 0 0 M2221.51 139.691 L2221.51 147.052 L2230.29 147.052 L2230.29 150.362 L2221.51 150.362 L2221.51 164.436 Q2221.51 167.607 2222.37 168.51 Q2223.25 169.413 2225.91 169.413 L2230.29 169.413 L2230.29 172.978 L2225.91 172.978 Q2220.98 172.978 2219.11 171.149 Q2217.23 169.297 2217.23 164.436 L2217.23 150.362 L2214.11 150.362 L2214.11 147.052 L2217.23 147.052 L2217.23 139.691 L2221.51 139.691 Z\" fill=\"#000000\" fill-rule=\"evenodd\" fill-opacity=\"1\" /><circle clip-path=\"url(#clip540)\" cx=\"2018.22\" cy=\"216.178\" r=\"23\" fill=\"#e26f46\" fill-rule=\"evenodd\" fill-opacity=\"1\" stroke=\"#000000\" stroke-opacity=\"1\" stroke-width=\"5.12\"/>\n",
       "<circle clip-path=\"url(#clip540)\" cx=\"2018.22\" cy=\"216.178\" r=\"23\" fill=\"#e26f46\" fill-rule=\"evenodd\" fill-opacity=\"1\" stroke=\"#000000\" stroke-opacity=\"1\" stroke-width=\"5.12\"/>\n",
       "<circle clip-path=\"url(#clip540)\" cx=\"2018.22\" cy=\"216.178\" r=\"23\" fill=\"#e26f46\" fill-rule=\"evenodd\" fill-opacity=\"1\" stroke=\"#000000\" stroke-opacity=\"1\" stroke-width=\"5.12\"/>\n",
       "<circle clip-path=\"url(#clip540)\" cx=\"2018.22\" cy=\"216.178\" r=\"23\" fill=\"#e26f46\" fill-rule=\"evenodd\" fill-opacity=\"1\" stroke=\"#000000\" stroke-opacity=\"1\" stroke-width=\"5.12\"/>\n",
       "<circle clip-path=\"url(#clip540)\" cx=\"2018.22\" cy=\"216.178\" r=\"23\" fill=\"#e26f46\" fill-rule=\"evenodd\" fill-opacity=\"1\" stroke=\"#000000\" stroke-opacity=\"1\" stroke-width=\"5.12\"/>\n",
       "<circle clip-path=\"url(#clip540)\" cx=\"2018.22\" cy=\"216.178\" r=\"23\" fill=\"#e26f46\" fill-rule=\"evenodd\" fill-opacity=\"1\" stroke=\"#000000\" stroke-opacity=\"1\" stroke-width=\"5.12\"/>\n",
       "<circle clip-path=\"url(#clip540)\" cx=\"2018.22\" cy=\"216.178\" r=\"23\" fill=\"#e26f46\" fill-rule=\"evenodd\" fill-opacity=\"1\" stroke=\"#000000\" stroke-opacity=\"1\" stroke-width=\"5.12\"/>\n",
       "<circle clip-path=\"url(#clip540)\" cx=\"2018.22\" cy=\"216.178\" r=\"23\" fill=\"#e26f46\" fill-rule=\"evenodd\" fill-opacity=\"1\" stroke=\"#000000\" stroke-opacity=\"1\" stroke-width=\"5.12\"/>\n",
       "<circle clip-path=\"url(#clip540)\" cx=\"2018.22\" cy=\"216.178\" r=\"23\" fill=\"#e26f46\" fill-rule=\"evenodd\" fill-opacity=\"1\" stroke=\"#000000\" stroke-opacity=\"1\" stroke-width=\"5.12\"/>\n",
       "<circle clip-path=\"url(#clip540)\" cx=\"2018.22\" cy=\"216.178\" r=\"23\" fill=\"#e26f46\" fill-rule=\"evenodd\" fill-opacity=\"1\" stroke=\"#000000\" stroke-opacity=\"1\" stroke-width=\"5.12\"/>\n",
       "<circle clip-path=\"url(#clip540)\" cx=\"2018.22\" cy=\"216.178\" r=\"23\" fill=\"#e26f46\" fill-rule=\"evenodd\" fill-opacity=\"1\" stroke=\"#000000\" stroke-opacity=\"1\" stroke-width=\"5.12\"/>\n",
       "<circle clip-path=\"url(#clip540)\" cx=\"2018.22\" cy=\"216.178\" r=\"23\" fill=\"#e26f46\" fill-rule=\"evenodd\" fill-opacity=\"1\" stroke=\"#000000\" stroke-opacity=\"1\" stroke-width=\"5.12\"/>\n",
       "<circle clip-path=\"url(#clip540)\" cx=\"2018.22\" cy=\"216.178\" r=\"23\" fill=\"#e26f46\" fill-rule=\"evenodd\" fill-opacity=\"1\" stroke=\"#000000\" stroke-opacity=\"1\" stroke-width=\"5.12\"/>\n",
       "<circle clip-path=\"url(#clip540)\" cx=\"2018.22\" cy=\"216.178\" r=\"23\" fill=\"#e26f46\" fill-rule=\"evenodd\" fill-opacity=\"1\" stroke=\"#000000\" stroke-opacity=\"1\" stroke-width=\"5.12\"/>\n",
       "<circle clip-path=\"url(#clip540)\" cx=\"2018.22\" cy=\"216.178\" r=\"23\" fill=\"#e26f46\" fill-rule=\"evenodd\" fill-opacity=\"1\" stroke=\"#000000\" stroke-opacity=\"1\" stroke-width=\"5.12\"/>\n",
       "<circle clip-path=\"url(#clip540)\" cx=\"2018.22\" cy=\"216.178\" r=\"23\" fill=\"#e26f46\" fill-rule=\"evenodd\" fill-opacity=\"1\" stroke=\"#000000\" stroke-opacity=\"1\" stroke-width=\"5.12\"/>\n",
       "<circle clip-path=\"url(#clip540)\" cx=\"2018.22\" cy=\"216.178\" r=\"23\" fill=\"#e26f46\" fill-rule=\"evenodd\" fill-opacity=\"1\" stroke=\"#000000\" stroke-opacity=\"1\" stroke-width=\"5.12\"/>\n",
       "<circle clip-path=\"url(#clip540)\" cx=\"2018.22\" cy=\"216.178\" r=\"23\" fill=\"#e26f46\" fill-rule=\"evenodd\" fill-opacity=\"1\" stroke=\"#000000\" stroke-opacity=\"1\" stroke-width=\"5.12\"/>\n",
       "<circle clip-path=\"url(#clip540)\" cx=\"2018.22\" cy=\"216.178\" r=\"23\" fill=\"#e26f46\" fill-rule=\"evenodd\" fill-opacity=\"1\" stroke=\"#000000\" stroke-opacity=\"1\" stroke-width=\"5.12\"/>\n",
       "<circle clip-path=\"url(#clip540)\" cx=\"2018.22\" cy=\"216.178\" r=\"23\" fill=\"#e26f46\" fill-rule=\"evenodd\" fill-opacity=\"1\" stroke=\"#000000\" stroke-opacity=\"1\" stroke-width=\"5.12\"/>\n",
       "<circle clip-path=\"url(#clip540)\" cx=\"2018.22\" cy=\"216.178\" r=\"23\" fill=\"#e26f46\" fill-rule=\"evenodd\" fill-opacity=\"1\" stroke=\"#000000\" stroke-opacity=\"1\" stroke-width=\"5.12\"/>\n",
       "<circle clip-path=\"url(#clip540)\" cx=\"2018.22\" cy=\"216.178\" r=\"23\" fill=\"#e26f46\" fill-rule=\"evenodd\" fill-opacity=\"1\" stroke=\"#000000\" stroke-opacity=\"1\" stroke-width=\"5.12\"/>\n",
       "<circle clip-path=\"url(#clip540)\" cx=\"2018.22\" cy=\"216.178\" r=\"23\" fill=\"#e26f46\" fill-rule=\"evenodd\" fill-opacity=\"1\" stroke=\"#000000\" stroke-opacity=\"1\" stroke-width=\"5.12\"/>\n",
       "<circle clip-path=\"url(#clip540)\" cx=\"2018.22\" cy=\"216.178\" r=\"23\" fill=\"#e26f46\" fill-rule=\"evenodd\" fill-opacity=\"1\" stroke=\"#000000\" stroke-opacity=\"1\" stroke-width=\"5.12\"/>\n",
       "<circle clip-path=\"url(#clip540)\" cx=\"2018.22\" cy=\"216.178\" r=\"23\" fill=\"#e26f46\" fill-rule=\"evenodd\" fill-opacity=\"1\" stroke=\"#000000\" stroke-opacity=\"1\" stroke-width=\"5.12\"/>\n",
       "<circle clip-path=\"url(#clip540)\" cx=\"2018.22\" cy=\"216.178\" r=\"23\" fill=\"#e26f46\" fill-rule=\"evenodd\" fill-opacity=\"1\" stroke=\"#000000\" stroke-opacity=\"1\" stroke-width=\"5.12\"/>\n",
       "<circle clip-path=\"url(#clip540)\" cx=\"2018.22\" cy=\"216.178\" r=\"23\" fill=\"#e26f46\" fill-rule=\"evenodd\" fill-opacity=\"1\" stroke=\"#000000\" stroke-opacity=\"1\" stroke-width=\"5.12\"/>\n",
       "<circle clip-path=\"url(#clip540)\" cx=\"2018.22\" cy=\"216.178\" r=\"23\" fill=\"#e26f46\" fill-rule=\"evenodd\" fill-opacity=\"1\" stroke=\"#000000\" stroke-opacity=\"1\" stroke-width=\"5.12\"/>\n",
       "<circle clip-path=\"url(#clip540)\" cx=\"2018.22\" cy=\"216.178\" r=\"23\" fill=\"#e26f46\" fill-rule=\"evenodd\" fill-opacity=\"1\" stroke=\"#000000\" stroke-opacity=\"1\" stroke-width=\"5.12\"/>\n",
       "<circle clip-path=\"url(#clip540)\" cx=\"2018.22\" cy=\"216.178\" r=\"23\" fill=\"#e26f46\" fill-rule=\"evenodd\" fill-opacity=\"1\" stroke=\"#000000\" stroke-opacity=\"1\" stroke-width=\"5.12\"/>\n",
       "<circle clip-path=\"url(#clip540)\" cx=\"2018.22\" cy=\"216.178\" r=\"23\" fill=\"#e26f46\" fill-rule=\"evenodd\" fill-opacity=\"1\" stroke=\"#000000\" stroke-opacity=\"1\" stroke-width=\"5.12\"/>\n",
       "<circle clip-path=\"url(#clip540)\" cx=\"2018.22\" cy=\"216.178\" r=\"23\" fill=\"#e26f46\" fill-rule=\"evenodd\" fill-opacity=\"1\" stroke=\"#000000\" stroke-opacity=\"1\" stroke-width=\"5.12\"/>\n",
       "<circle clip-path=\"url(#clip540)\" cx=\"2018.22\" cy=\"216.178\" r=\"23\" fill=\"#e26f46\" fill-rule=\"evenodd\" fill-opacity=\"1\" stroke=\"#000000\" stroke-opacity=\"1\" stroke-width=\"5.12\"/>\n",
       "<path clip-path=\"url(#clip540)\" d=\"M 0 0 M2116.19 198.898 L2122.49 198.898 L2137.81 227.809 L2137.81 198.898 L2142.35 198.898 L2142.35 233.458 L2136.05 233.458 L2120.73 204.546 L2120.73 233.458 L2116.19 233.458 L2116.19 198.898 Z\" fill=\"#000000\" fill-rule=\"evenodd\" fill-opacity=\"1\" /><path clip-path=\"url(#clip540)\" d=\"M 0 0 M2147 198.898 L2153.3 198.898 L2168.62 227.809 L2168.62 198.898 L2173.16 198.898 L2173.16 233.458 L2166.86 233.458 L2151.54 204.546 L2151.54 233.458 L2147 233.458 L2147 198.898 Z\" fill=\"#000000\" fill-rule=\"evenodd\" fill-opacity=\"1\" /></svg>\n"
      ]
     },
     "execution_count": 143,
     "metadata": {},
     "output_type": "execute_result"
    }
   ],
   "source": [
    "using Plots\n",
    "plot(xTest', yTest', label=\"Exact\")\n",
    "scatter!(xTest', yPred', label=\"NN\")"
   ]
  },
  {
   "cell_type": "code",
   "execution_count": null,
   "metadata": {},
   "outputs": [],
   "source": []
  }
 ],
 "metadata": {
  "kernelspec": {
   "display_name": "Julia 1.5.0",
   "language": "julia",
   "name": "julia-1.5"
  },
  "language_info": {
   "file_extension": ".jl",
   "mimetype": "application/julia",
   "name": "julia",
   "version": "1.5.0"
  }
 },
 "nbformat": 4,
 "nbformat_minor": 4
}
