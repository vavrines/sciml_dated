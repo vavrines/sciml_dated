{
 "cells": [
  {
   "cell_type": "code",
   "execution_count": 1,
   "metadata": {},
   "outputs": [],
   "source": [
    "using NeuralPDE, Flux, ModelingToolkit, GalacticOptim, Optim, DiffEqFlux, Test"
   ]
  },
  {
   "cell_type": "code",
   "execution_count": null,
   "metadata": {},
   "outputs": [],
   "source": []
  },
  {
   "cell_type": "code",
   "execution_count": null,
   "metadata": {},
   "outputs": [],
   "source": []
  },
  {
   "cell_type": "code",
   "execution_count": null,
   "metadata": {},
   "outputs": [],
   "source": []
  },
  {
   "cell_type": "code",
   "execution_count": null,
   "metadata": {},
   "outputs": [],
   "source": []
  },
  {
   "cell_type": "code",
   "execution_count": 12,
   "metadata": {
    "scrolled": true
   },
   "outputs": [
    {
     "name": "stdout",
     "output_type": "stream",
     "text": [
      "Current loss is: 0.7280750233335221\n",
      "Current loss is: 1.361297447657123\n"
     ]
    },
    {
     "name": "stderr",
     "output_type": "stream",
     "text": [
      "\u001b[32mloss: 0.77:   1%|▎                                      |  ETA: 0:00:18\u001b[39m"
     ]
    },
    {
     "name": "stdout",
     "output_type": "stream",
     "text": [
      "Current loss is: 0.7702980586035466\n",
      "Current loss is: 0.11427249371633802\n",
      "Current loss is: 0.26749119854887293\n"
     ]
    },
    {
     "name": "stderr",
     "output_type": "stream",
     "text": [
      "\u001b[32mloss: 0.534:   1%|▌                                     |  ETA: 0:00:20\u001b[39m"
     ]
    },
    {
     "name": "stdout",
     "output_type": "stream",
     "text": [
      "Current loss is: 0.5335214080796437\n",
      "Current loss is: 0.4432362833245211\n",
      "Current loss is: 0.21604798943287332\n"
     ]
    },
    {
     "name": "stderr",
     "output_type": "stream",
     "text": [
      "\u001b[32mloss: 0.0944:   2%|▋                                    |  ETA: 0:00:19\u001b[39m"
     ]
    },
    {
     "name": "stdout",
     "output_type": "stream",
     "text": [
      "Current loss is: 0.0943768664480899\n",
      "Current loss is: 0.1151918922831384\n"
     ]
    },
    {
     "name": "stderr",
     "output_type": "stream",
     "text": [
      "\u001b[32mloss: 0.195:   2%|▉                                     |  ETA: 0:00:20\u001b[39m"
     ]
    },
    {
     "name": "stdout",
     "output_type": "stream",
     "text": [
      "Current loss is: 0.1947660504820746\n",
      "Current loss is: 0.24635675653210026\n",
      "Current loss is: 0.23697063439475916\n"
     ]
    },
    {
     "name": "stderr",
     "output_type": "stream",
     "text": [
      "\u001b[32mloss: 0.183:   3%|█▏                                    |  ETA: 0:00:19\u001b[39m"
     ]
    },
    {
     "name": "stdout",
     "output_type": "stream",
     "text": [
      "Current loss is: 0.18345358656887256\n",
      "Current loss is: 0.12241382289086297\n",
      "Current loss is: 0.08343689785934418\n"
     ]
    },
    {
     "name": "stderr",
     "output_type": "stream",
     "text": [
      "\u001b[32mloss: 0.0766:   3%|█▎                                   |  ETA: 0:00:19\u001b[39m"
     ]
    },
    {
     "name": "stdout",
     "output_type": "stream",
     "text": [
      "Current loss is: 0.07658297086675896\n",
      "Current loss is: 0.09331549067201922\n",
      "Current loss is: 0.11567979355742136\n"
     ]
    },
    {
     "name": "stderr",
     "output_type": "stream",
     "text": [
      "\u001b[32mloss: 0.128:   4%|█▌                                    |  ETA: 0:00:19\u001b[39m"
     ]
    },
    {
     "name": "stdout",
     "output_type": "stream",
     "text": [
      "Current loss is: 0.1275305053669267\n",
      "Current loss is: 0.12209618362923418\n",
      "Current loss is: 0.10289417900747083\n"
     ]
    },
    {
     "name": "stderr",
     "output_type": "stream",
     "text": [
      "\u001b[32mloss: 0.0793:   5%|█▊                                   |  ETA: 0:00:19\u001b[39m"
     ]
    },
    {
     "name": "stdout",
     "output_type": "stream",
     "text": [
      "Current loss is: 0.079274979318077\n",
      "Current loss is: 0.060465129315034165\n",
      "Current loss is: 0.05142850741915408\n"
     ]
    },
    {
     "name": "stderr",
     "output_type": "stream",
     "text": [
      "\u001b[32mloss: 0.0518:   5%|█▉                                   |  ETA: 0:00:19\u001b[39m"
     ]
    },
    {
     "name": "stdout",
     "output_type": "stream",
     "text": [
      "Current loss is: 0.05177133247899884\n",
      "Current loss is: 0.05718989730501029\n",
      "Current loss is: 0.06218898292740263\n"
     ]
    },
    {
     "name": "stderr",
     "output_type": "stream",
     "text": [
      "\u001b[32mloss: 0.0627:   6%|██▏                                  |  ETA: 0:00:19\u001b[39m"
     ]
    },
    {
     "name": "stdout",
     "output_type": "stream",
     "text": [
      "Current loss is: 0.06271266468807729\n",
      "Current loss is: 0.05764946592114911\n",
      "Current loss is: 0.048790710421299885\n"
     ]
    },
    {
     "name": "stderr",
     "output_type": "stream",
     "text": [
      "\u001b[32mloss: 0.0395:   6%|██▍                                  |  ETA: 0:00:19\u001b[39m"
     ]
    },
    {
     "name": "stdout",
     "output_type": "stream",
     "text": [
      "Current loss is: 0.03953244925332605\n",
      "Current loss is: 0.03309360278397114\n",
      "Current loss is: 0.03108787206680541\n"
     ]
    },
    {
     "name": "stderr",
     "output_type": "stream",
     "text": [
      "\u001b[32mloss: 0.033:   7%|██▋                                   |  ETA: 0:00:19\u001b[39m"
     ]
    },
    {
     "name": "stdout",
     "output_type": "stream",
     "text": [
      "Current loss is: 0.033003084063664895\n",
      "Current loss is: 0.03669789457150197\n"
     ]
    },
    {
     "name": "stderr",
     "output_type": "stream",
     "text": [
      "\u001b[32mloss: 0.0399:   8%|██▊                                  |  ETA: 0:00:19\u001b[39m"
     ]
    },
    {
     "name": "stdout",
     "output_type": "stream",
     "text": [
      "Current loss is: 0.039586239332491516\n",
      "Current loss is: 0.039888564889160816\n",
      "Current loss is: 0.03733471680060066\n"
     ]
    },
    {
     "name": "stderr",
     "output_type": "stream",
     "text": [
      "\u001b[32mloss: 0.0287:   8%|███                                  |  ETA: 0:00:19\u001b[39m"
     ]
    },
    {
     "name": "stdout",
     "output_type": "stream",
     "text": [
      "Current loss is: 0.03303961377648497\n",
      "Current loss is: 0.028741371624523174\n",
      "Current loss is: 0.02588983320258313\n"
     ]
    },
    {
     "name": "stderr",
     "output_type": "stream",
     "text": [
      "\u001b[32mloss: 0.0258:   9%|███▎                                 |  ETA: 0:00:19\u001b[39m"
     ]
    },
    {
     "name": "stdout",
     "output_type": "stream",
     "text": [
      "Current loss is: 0.02505169164882416\n",
      "Current loss is: 0.025841878686201566\n",
      "Current loss is: 0.027295432622105553\n"
     ]
    },
    {
     "name": "stderr",
     "output_type": "stream",
     "text": [
      "\u001b[32mloss: 0.0286:   9%|███▌                                 |  ETA: 0:00:19\u001b[39m"
     ]
    },
    {
     "name": "stdout",
     "output_type": "stream",
     "text": [
      "Current loss is: 0.02841215558245847\n",
      "Current loss is: 0.02858942657079625\n",
      "Current loss is: 0.02777407658482304\n"
     ]
    },
    {
     "name": "stderr",
     "output_type": "stream",
     "text": [
      "\u001b[32mloss: 0.0263:  10%|███▋                                 |  ETA: 0:00:19\u001b[39m"
     ]
    },
    {
     "name": "stdout",
     "output_type": "stream",
     "text": [
      "Current loss is: 0.02633234983271461\n",
      "Current loss is: 0.02476907872026958\n",
      "Current loss is: 0.023466426311558115\n"
     ]
    },
    {
     "name": "stderr",
     "output_type": "stream",
     "text": [
      "\u001b[32mloss: 0.0226:  10%|███▉                                 |  ETA: 0:00:18\u001b[39m"
     ]
    },
    {
     "name": "stdout",
     "output_type": "stream",
     "text": [
      "Current loss is: 0.02255859360447766\n",
      "Current loss is: 0.021960448414524318\n"
     ]
    },
    {
     "name": "stderr",
     "output_type": "stream",
     "text": [
      "\u001b[32mloss: 0.0215:  11%|████                                 |  ETA: 0:00:18\u001b[39m"
     ]
    },
    {
     "name": "stdout",
     "output_type": "stream",
     "text": [
      "Current loss is: 0.021486826369401746\n",
      "Current loss is: 0.020973628635211065\n",
      "Current loss is: 0.020341426750537458\n"
     ]
    },
    {
     "name": "stderr",
     "output_type": "stream",
     "text": [
      "\u001b[32mloss: 0.0196:  11%|████▎                                |  ETA: 0:00:18\u001b[39m"
     ]
    },
    {
     "name": "stdout",
     "output_type": "stream",
     "text": [
      "Current loss is: 0.01959478309778269\n",
      "Current loss is: 0.01878581370001742\n",
      "Current loss is: 0.01797311984197463\n"
     ]
    },
    {
     "name": "stderr",
     "output_type": "stream",
     "text": [
      "\u001b[32mloss: 0.0172:  12%|████▌                                |  ETA: 0:00:18\u001b[39m"
     ]
    },
    {
     "name": "stdout",
     "output_type": "stream",
     "text": [
      "Current loss is: 0.017193288892566997\n",
      "Current loss is: 0.016450858006228673\n",
      "Current loss is: 0.01572530611415575\n"
     ]
    },
    {
     "name": "stderr",
     "output_type": "stream",
     "text": [
      "\u001b[32mloss: 0.015:  13%|████▊                                 |  ETA: 0:00:18\u001b[39m"
     ]
    },
    {
     "name": "stdout",
     "output_type": "stream",
     "text": [
      "Current loss is: 0.014986480069412365\n",
      "Current loss is: 0.01420749424631522\n",
      "Current loss is: 0.013370874181110182\n"
     ]
    },
    {
     "name": "stderr",
     "output_type": "stream",
     "text": [
      "\u001b[32mloss: 0.0125:  13%|████▉                                |  ETA: 0:00:18\u001b[39m"
     ]
    },
    {
     "name": "stdout",
     "output_type": "stream",
     "text": [
      "Current loss is: 0.012472847495918739\n",
      "Current loss is: 0.011530953917025827\n",
      "Current loss is: 0.010591036927806443\n"
     ]
    },
    {
     "name": "stderr",
     "output_type": "stream",
     "text": [
      "\u001b[32mloss: 0.00972:  14%|█████                               |  ETA: 0:00:18\u001b[39m"
     ]
    },
    {
     "name": "stdout",
     "output_type": "stream",
     "text": [
      "Current loss is: 0.009722571241630559\n",
      "Current loss is: 0.008994850151207299\n"
     ]
    },
    {
     "name": "stderr",
     "output_type": "stream",
     "text": [
      "\u001b[32mloss: 0.00844:  14%|█████▏                              |  ETA: 0:00:18\u001b[39m"
     ]
    },
    {
     "name": "stdout",
     "output_type": "stream",
     "text": [
      "Current loss is: 0.00844025450384826\n",
      "Current loss is: 0.0080281801725748\n",
      "Current loss is: 0.007677525711062636\n"
     ]
    },
    {
     "name": "stderr",
     "output_type": "stream",
     "text": [
      "\u001b[32mloss: 0.00731:  15%|█████▍                              |  ETA: 0:00:18\u001b[39m"
     ]
    },
    {
     "name": "stdout",
     "output_type": "stream",
     "text": [
      "Current loss is: 0.007308692223010786\n",
      "Current loss is: 0.0068956580388201015\n",
      "Current loss is: 0.006475049054771821\n"
     ]
    },
    {
     "name": "stderr",
     "output_type": "stream",
     "text": [
      "\u001b[32mloss: 0.00611:  15%|█████▌                              |  ETA: 0:00:18\u001b[39m"
     ]
    },
    {
     "name": "stdout",
     "output_type": "stream",
     "text": [
      "Current loss is: 0.006109061234606211\n",
      "Current loss is: 0.005835426548896361\n",
      "Current loss is: 0.005641208751945216\n"
     ]
    },
    {
     "name": "stderr",
     "output_type": "stream",
     "text": [
      "\u001b[32mloss: 0.00548:  16%|█████▊                              |  ETA: 0:00:18\u001b[39m"
     ]
    },
    {
     "name": "stdout",
     "output_type": "stream",
     "text": [
      "Current loss is: 0.005475760947283368\n",
      "Current loss is: 0.005289449621659727\n",
      "Current loss is: 0.005067118020087626\n"
     ]
    },
    {
     "name": "stderr",
     "output_type": "stream",
     "text": [
      "\u001b[32mloss: 0.00483:  17%|██████                              |  ETA: 0:00:17\u001b[39m"
     ]
    },
    {
     "name": "stdout",
     "output_type": "stream",
     "text": [
      "Current loss is: 0.004832564745451965\n",
      "Current loss is: 0.004625220271566418\n",
      "Current loss is: 0.0044696359660904425\n"
     ]
    },
    {
     "name": "stderr",
     "output_type": "stream",
     "text": [
      "\u001b[32mloss: 0.00436:  17%|██████▎                             |  ETA: 0:00:17\u001b[39m"
     ]
    },
    {
     "name": "stdout",
     "output_type": "stream",
     "text": [
      "Current loss is: 0.0043594530759061565\n",
      "Current loss is: 0.004264244105627642\n",
      "Current loss is: 0.004151386279868158\n"
     ]
    },
    {
     "name": "stderr",
     "output_type": "stream",
     "text": [
      "\u001b[32mloss: 0.00401:  18%|██████▍                             |  ETA: 0:00:17\u001b[39m"
     ]
    },
    {
     "name": "stdout",
     "output_type": "stream",
     "text": [
      "Current loss is: 0.004006640436520493\n",
      "Current loss is: 0.00384067970644923\n",
      "Current loss is: 0.003679740949669522\n"
     ]
    },
    {
     "name": "stderr",
     "output_type": "stream",
     "text": [
      "\u001b[32mloss: 0.00355:  18%|██████▋                             |  ETA: 0:00:17\u001b[39m"
     ]
    },
    {
     "name": "stdout",
     "output_type": "stream",
     "text": [
      "Current loss is: 0.003548440584584813\n",
      "Current loss is: 0.0034561810170753533\n",
      "Current loss is: 0.0033947506481844503\n"
     ]
    },
    {
     "name": "stderr",
     "output_type": "stream",
     "text": [
      "\u001b[32mloss: 0.00335:  19%|██████▉                             |  ETA: 0:00:17\u001b[39m"
     ]
    },
    {
     "name": "stdout",
     "output_type": "stream",
     "text": [
      "Current loss is: 0.0033466607441318633\n",
      "Current loss is: 0.003296969718801098\n"
     ]
    },
    {
     "name": "stderr",
     "output_type": "stream",
     "text": [
      "\u001b[32mloss: 0.00324:  19%|███████                             |  ETA: 0:00:17\u001b[39m"
     ]
    },
    {
     "name": "stdout",
     "output_type": "stream",
     "text": [
      "Current loss is: 0.0032404385373780123\n",
      "Current loss is: 0.003180702171214299\n",
      "Current loss is: 0.003124121985747637\n"
     ]
    },
    {
     "name": "stderr",
     "output_type": "stream",
     "text": [
      "\u001b[32mloss: 0.00307:  20%|███████▎                            |  ETA: 0:00:17\u001b[39m"
     ]
    },
    {
     "name": "stdout",
     "output_type": "stream",
     "text": [
      "Current loss is: 0.00307376665491126\n",
      "Current loss is: 0.003027583709321082\n",
      "Current loss is: 0.002981125592793021\n"
     ]
    },
    {
     "name": "stderr",
     "output_type": "stream",
     "text": [
      "\u001b[32mloss: 0.00293:  21%|███████▍                            |  ETA: 0:00:17\u001b[39m"
     ]
    },
    {
     "name": "stdout",
     "output_type": "stream",
     "text": [
      "Current loss is: 0.0029319319257561883\n",
      "Current loss is: 0.0028818945251399023\n"
     ]
    },
    {
     "name": "stderr",
     "output_type": "stream",
     "text": [
      "\u001b[32mloss: 0.00284:  21%|███████▌                            |  ETA: 0:00:17\u001b[39m"
     ]
    },
    {
     "name": "stdout",
     "output_type": "stream",
     "text": [
      "Current loss is: 0.0028358868130554725\n",
      "Current loss is: 0.0027979978434858033\n",
      "Current loss is: 0.002768548231342527\n"
     ]
    },
    {
     "name": "stderr",
     "output_type": "stream",
     "text": [
      "\u001b[32mloss: 0.00274:  22%|███████▊                            |  ETA: 0:00:16\u001b[39m"
     ]
    },
    {
     "name": "stdout",
     "output_type": "stream",
     "text": [
      "Current loss is: 0.0027442805346930225\n",
      "Current loss is: 0.002721396635975206\n"
     ]
    },
    {
     "name": "stderr",
     "output_type": "stream",
     "text": [
      "\u001b[32mloss: 0.0027:  22%|████████▏                            |  ETA: 0:00:16\u001b[39m"
     ]
    },
    {
     "name": "stdout",
     "output_type": "stream",
     "text": [
      "Current loss is: 0.0026987446287136826\n",
      "Current loss is: 0.002678470171514755\n",
      "Current loss is: 0.00266373073450971\n"
     ]
    },
    {
     "name": "stderr",
     "output_type": "stream",
     "text": [
      "\u001b[32mloss: 0.00266:  23%|████████▏                           |  ETA: 0:00:16\u001b[39m"
     ]
    },
    {
     "name": "stdout",
     "output_type": "stream",
     "text": [
      "Current loss is: 0.0026555605514400242\n",
      "Current loss is: 0.002651559072267516\n",
      "Current loss is: 0.002647398464326614\n"
     ]
    },
    {
     "name": "stderr",
     "output_type": "stream",
     "text": [
      "\u001b[32mloss: 0.00264:  23%|████████▍                           |  ETA: 0:00:16\u001b[39m"
     ]
    },
    {
     "name": "stdout",
     "output_type": "stream",
     "text": [
      "Current loss is: 0.002639771260870035\n",
      "Current loss is: 0.0026283533339466108\n"
     ]
    },
    {
     "name": "stderr",
     "output_type": "stream",
     "text": [
      "\u001b[32mloss: 0.0026:  24%|████████▊                            |  ETA: 0:00:16\u001b[39m"
     ]
    },
    {
     "name": "stdout",
     "output_type": "stream",
     "text": [
      "Current loss is: 0.0026153847816952976\n",
      "Current loss is: 0.0026035188507230606\n",
      "Current loss is: 0.002593841084955569\n"
     ]
    },
    {
     "name": "stderr",
     "output_type": "stream",
     "text": [
      "\u001b[32mloss: 0.00258:  24%|████████▊                           |  ETA: 0:00:16\u001b[39m"
     ]
    },
    {
     "name": "stdout",
     "output_type": "stream",
     "text": [
      "Current loss is: 0.002585517253228957\n",
      "Current loss is: 0.0025769771518594866\n"
     ]
    },
    {
     "name": "stderr",
     "output_type": "stream",
     "text": [
      "\u001b[32mloss: 0.00255:  25%|█████████                           |  ETA: 0:00:16\u001b[39m"
     ]
    },
    {
     "name": "stdout",
     "output_type": "stream",
     "text": [
      "Current loss is: 0.002567352462716063\n",
      "Current loss is: 0.0025569715141885974\n",
      "Current loss is: 0.0025467592366510776\n"
     ]
    },
    {
     "name": "stderr",
     "output_type": "stream",
     "text": [
      "\u001b[32mloss: 0.00252:  26%|█████████▎                          |  ETA: 0:00:16\u001b[39m"
     ]
    },
    {
     "name": "stdout",
     "output_type": "stream",
     "text": [
      "Current loss is: 0.0025373176362726334\n",
      "Current loss is: 0.002528522530028447\n",
      "Current loss is: 0.0025198224722706784\n"
     ]
    },
    {
     "name": "stderr",
     "output_type": "stream",
     "text": [
      "\u001b[32mloss: 0.00249:  26%|█████████▍                          |  ETA: 0:00:16\u001b[39m"
     ]
    },
    {
     "name": "stdout",
     "output_type": "stream",
     "text": [
      "Current loss is: 0.002510786438243727\n",
      "Current loss is: 0.002501360435610866\n",
      "Current loss is: 0.002491704503141642\n"
     ]
    },
    {
     "name": "stderr",
     "output_type": "stream",
     "text": [
      "\u001b[32mloss: 0.00246:  27%|█████████▋                          |  ETA: 0:00:15\u001b[39m"
     ]
    },
    {
     "name": "stdout",
     "output_type": "stream",
     "text": [
      "Current loss is: 0.002481904246444502\n",
      "Current loss is: 0.0024718954446783467\n",
      "Current loss is: 0.002461639721979064\n"
     ]
    },
    {
     "name": "stderr",
     "output_type": "stream",
     "text": [
      "\u001b[32mloss: 0.00243:  27%|█████████▉                          |  ETA: 0:00:15\u001b[39m"
     ]
    },
    {
     "name": "stdout",
     "output_type": "stream",
     "text": [
      "Current loss is: 0.0024513021500673898\n",
      "Current loss is: 0.0024412000274101685\n",
      "Current loss is: 0.0024315582914302618\n"
     ]
    },
    {
     "name": "stderr",
     "output_type": "stream",
     "text": [
      "\u001b[32mloss: 0.0024:  28%|██████████▍                          |  ETA: 0:00:15\u001b[39m"
     ]
    },
    {
     "name": "stdout",
     "output_type": "stream",
     "text": [
      "Current loss is: 0.002422322033882471\n",
      "Current loss is: 0.0024132175362117808\n",
      "Current loss is: 0.0024040007892527976\n"
     ]
    },
    {
     "name": "stderr",
     "output_type": "stream",
     "text": [
      "\u001b[32mloss: 0.00238:  29%|██████████▎                         |  ETA: 0:00:15\u001b[39m"
     ]
    },
    {
     "name": "stdout",
     "output_type": "stream",
     "text": [
      "Current loss is: 0.002394653370813477\n",
      "Current loss is: 0.002385352063090168\n",
      "Current loss is: 0.002376264863147151\n"
     ]
    },
    {
     "name": "stderr",
     "output_type": "stream",
     "text": [
      "\u001b[32mloss: 0.00235:  29%|██████████▌                         |  ETA: 0:00:15\u001b[39m"
     ]
    },
    {
     "name": "stdout",
     "output_type": "stream",
     "text": [
      "Current loss is: 0.002367381296802432\n",
      "Current loss is: 0.002358527988049355\n",
      "Current loss is: 0.002349532600546128\n"
     ]
    },
    {
     "name": "stderr",
     "output_type": "stream",
     "text": [
      "\u001b[32mloss: 0.00232:  30%|██████████▊                         |  ETA: 0:00:15\u001b[39m"
     ]
    },
    {
     "name": "stdout",
     "output_type": "stream",
     "text": [
      "Current loss is: 0.0023403680727073547\n",
      "Current loss is: 0.0023311529047891576\n",
      "Current loss is: 0.0023220321305475453\n"
     ]
    },
    {
     "name": "stderr",
     "output_type": "stream",
     "text": [
      "\u001b[32mloss: 0.0023:  30%|███████████▎                         |  ETA: 0:00:15\u001b[39m"
     ]
    },
    {
     "name": "stdout",
     "output_type": "stream",
     "text": [
      "Current loss is: 0.0023130651382100996\n",
      "Current loss is: 0.0023042131950319128\n",
      "Current loss is: 0.0022954096603898535\n"
     ]
    },
    {
     "name": "stderr",
     "output_type": "stream",
     "text": [
      "\u001b[32mloss: 0.00227:  31%|███████████▏                        |  ETA: 0:00:15\u001b[39m"
     ]
    },
    {
     "name": "stdout",
     "output_type": "stream",
     "text": [
      "Current loss is: 0.002286626902789263\n",
      "Current loss is: 0.00227788022917153\n",
      "Current loss is: 0.0022691875446397016\n"
     ]
    },
    {
     "name": "stderr",
     "output_type": "stream",
     "text": [
      "\u001b[32mloss: 0.00224:  32%|███████████▍                        |  ETA: 0:00:14\u001b[39m"
     ]
    },
    {
     "name": "stdout",
     "output_type": "stream",
     "text": [
      "Current loss is: 0.0022605398937649928\n",
      "Current loss is: 0.0022519120653981136\n",
      "Current loss is: 0.0022432905134843195\n"
     ]
    },
    {
     "name": "stderr",
     "output_type": "stream",
     "text": [
      "\u001b[32mloss: 0.00222:  32%|███████████▋                        |  ETA: 0:00:14\u001b[39m"
     ]
    },
    {
     "name": "stdout",
     "output_type": "stream",
     "text": [
      "Current loss is: 0.002234681421213558\n",
      "Current loss is: 0.002226092520238572\n",
      "Current loss is: 0.002217514949495592\n"
     ]
    },
    {
     "name": "stderr",
     "output_type": "stream",
     "text": [
      "\u001b[32mloss: 0.00219:  33%|███████████▊                        |  ETA: 0:00:14\u001b[39m"
     ]
    },
    {
     "name": "stdout",
     "output_type": "stream",
     "text": [
      "Current loss is: 0.002208929500396753\n",
      "Current loss is: 0.002200329050245025\n",
      "Current loss is: 0.0021917298715003067\n"
     ]
    },
    {
     "name": "stderr",
     "output_type": "stream",
     "text": [
      "\u001b[32mloss: 0.00217:  33%|████████████                        |  ETA: 0:00:14\u001b[39m"
     ]
    },
    {
     "name": "stdout",
     "output_type": "stream",
     "text": [
      "Current loss is: 0.0021831568118050623\n",
      "Current loss is: 0.002174618267483953\n",
      "Current loss is: 0.002166098012218317\n"
     ]
    },
    {
     "name": "stderr",
     "output_type": "stream",
     "text": [
      "\u001b[32mloss: 0.00214:  34%|████████████▎                       |  ETA: 0:00:14\u001b[39m"
     ]
    },
    {
     "name": "stdout",
     "output_type": "stream",
     "text": [
      "Current loss is: 0.0021575713310877428\n",
      "Current loss is: 0.0021490279683002555\n",
      "Current loss is: 0.0021404778369147593\n"
     ]
    },
    {
     "name": "stderr",
     "output_type": "stream",
     "text": [
      "\u001b[32mloss: 0.00211:  35%|████████████▌                       |  ETA: 0:00:14\u001b[39m"
     ]
    },
    {
     "name": "stdout",
     "output_type": "stream",
     "text": [
      "Current loss is: 0.0021319370717806803\n",
      "Current loss is: 0.002123411277518901\n",
      "Current loss is: 0.002114892877450176\n"
     ]
    },
    {
     "name": "stderr",
     "output_type": "stream",
     "text": [
      "\u001b[32mloss: 0.00209:  35%|████████████▋                       |  ETA: 0:00:14\u001b[39m"
     ]
    },
    {
     "name": "stdout",
     "output_type": "stream",
     "text": [
      "Current loss is: 0.0021063726183277714\n",
      "Current loss is: 0.002097850150358511\n",
      "Current loss is: 0.002089333440138791\n",
      "Current loss is: 0.0020808303795417844\n",
      "Current loss is: 0.0020723425279999368\n"
     ]
    },
    {
     "name": "stderr",
     "output_type": "stream",
     "text": [
      "\u001b[32mloss: 0.00206:  36%|████████████▉                       |  ETA: 0:00:14\u001b[39m"
     ]
    },
    {
     "name": "stdout",
     "output_type": "stream",
     "text": [
      "Current loss is: 0.002063866994484621\n",
      "Current loss is: 0.0020554017553487025\n",
      "Current loss is: 0.002046947264692473\n"
     ]
    },
    {
     "name": "stderr",
     "output_type": "stream",
     "text": [
      "\u001b[32mloss: 0.00204:  36%|█████████████▏                      |  ETA: 0:00:13\u001b[39m"
     ]
    },
    {
     "name": "stdout",
     "output_type": "stream",
     "text": [
      "Current loss is: 0.002038504073419298\n",
      "Current loss is: 0.0020300707553610013\n",
      "Current loss is: 0.0020216451666393376\n"
     ]
    },
    {
     "name": "stderr",
     "output_type": "stream",
     "text": [
      "\u001b[32mloss: 0.00201:  37%|█████████████▍                      |  ETA: 0:00:13\u001b[39m"
     ]
    },
    {
     "name": "stdout",
     "output_type": "stream",
     "text": [
      "Current loss is: 0.002013227248439476\n",
      "Current loss is: 0.002004819062096233\n",
      "Current loss is: 0.00199642235686352\n"
     ]
    },
    {
     "name": "stderr",
     "output_type": "stream",
     "text": [
      "\u001b[32mloss: 0.00199:  38%|█████████████▌                      |  ETA: 0:00:13\u001b[39m"
     ]
    },
    {
     "name": "stdout",
     "output_type": "stream",
     "text": [
      "Current loss is: 0.001988036545058185\n",
      "Current loss is: 0.0019796598250648705\n",
      "Current loss is: 0.0019712917074737597\n"
     ]
    },
    {
     "name": "stderr",
     "output_type": "stream",
     "text": [
      "\u001b[32mloss: 0.00196:  38%|█████████████▊                      |  ETA: 0:00:13\u001b[39m"
     ]
    },
    {
     "name": "stdout",
     "output_type": "stream",
     "text": [
      "Current loss is: 0.0019629339831819656\n",
      "Current loss is: 0.0019545887591382203\n",
      "Current loss is: 0.0019462564728419634\n"
     ]
    },
    {
     "name": "stderr",
     "output_type": "stream",
     "text": [
      "\u001b[32mloss: 0.00194:  39%|██████████████                      |  ETA: 0:00:13\u001b[39m"
     ]
    },
    {
     "name": "stdout",
     "output_type": "stream",
     "text": [
      "Current loss is: 0.001937935680560595\n",
      "Current loss is: 0.0019296249793941168\n",
      "Current loss is: 0.0019213243577825385\n"
     ]
    },
    {
     "name": "stderr",
     "output_type": "stream",
     "text": [
      "\u001b[32mloss: 0.00191:  39%|██████████████▏                     |  ETA: 0:00:13\u001b[39m"
     ]
    },
    {
     "name": "stdout",
     "output_type": "stream",
     "text": [
      "Current loss is: 0.0019130346167514545\n",
      "Current loss is: 0.0019047562556659945\n",
      "Current loss is: 0.0018964889092093614\n"
     ]
    },
    {
     "name": "stderr",
     "output_type": "stream",
     "text": [
      "\u001b[32mloss: 0.00189:  40%|██████████████▍                     |  ETA: 0:00:13\u001b[39m"
     ]
    },
    {
     "name": "stdout",
     "output_type": "stream",
     "text": [
      "Current loss is: 0.001888232149426441\n",
      "Current loss is: 0.001879986001466343\n",
      "Current loss is: 0.001871750942833429\n"
     ]
    },
    {
     "name": "stderr",
     "output_type": "stream",
     "text": [
      "\u001b[32mloss: 0.00186:  41%|██████████████▋                     |  ETA: 0:00:12\u001b[39m"
     ]
    },
    {
     "name": "stdout",
     "output_type": "stream",
     "text": [
      "Current loss is: 0.0018635271027526207\n",
      "Current loss is: 0.0018553142433459643\n",
      "Current loss is: 0.0018471122933764689\n"
     ]
    },
    {
     "name": "stderr",
     "output_type": "stream",
     "text": [
      "\u001b[32mloss: 0.00184:  41%|██████████████▉                     |  ETA: 0:00:12\u001b[39m"
     ]
    },
    {
     "name": "stdout",
     "output_type": "stream",
     "text": [
      "Current loss is: 0.0018389213342575195\n",
      "Current loss is: 0.0018307416227757614\n",
      "Current loss is: 0.0018225730073869754\n"
     ]
    },
    {
     "name": "stderr",
     "output_type": "stream",
     "text": [
      "\u001b[32mloss: 0.00181:  42%|███████████████                     |  ETA: 0:00:12\u001b[39m"
     ]
    },
    {
     "name": "stdout",
     "output_type": "stream",
     "text": [
      "Current loss is: 0.0018144150503261469\n",
      "Current loss is: 0.0018062674926921042\n",
      "Current loss is: 0.0017981305066410945\n"
     ]
    },
    {
     "name": "stderr",
     "output_type": "stream",
     "text": [
      "\u001b[32mloss: 0.00179:  42%|███████████████▎                    |  ETA: 0:00:12\u001b[39m"
     ]
    },
    {
     "name": "stdout",
     "output_type": "stream",
     "text": [
      "Current loss is: 0.0017900043757970354\n",
      "Current loss is: 0.0017818891280361416\n",
      "Current loss is: 0.0017737845386259516\n"
     ]
    },
    {
     "name": "stderr",
     "output_type": "stream",
     "text": [
      "\u001b[32mloss: 0.00177:  43%|███████████████▌                    |  ETA: 0:00:12\u001b[39m"
     ]
    },
    {
     "name": "stdout",
     "output_type": "stream",
     "text": [
      "Current loss is: 0.0017656904201603916\n",
      "Current loss is: 0.0017576067136403247\n",
      "Current loss is: 0.001749533505259708\n"
     ]
    },
    {
     "name": "stderr",
     "output_type": "stream",
     "text": [
      "\u001b[32mloss: 0.00174:  44%|███████████████▊                    |  ETA: 0:00:12\u001b[39m"
     ]
    },
    {
     "name": "stdout",
     "output_type": "stream",
     "text": [
      "Current loss is: 0.0017414707003413712\n",
      "Current loss is: 0.0017334180962196766\n",
      "Current loss is: 0.001725375443938073\n"
     ]
    },
    {
     "name": "stderr",
     "output_type": "stream",
     "text": [
      "\u001b[32mloss: 0.00172:  44%|███████████████▉                    |  ETA: 0:00:12\u001b[39m"
     ]
    },
    {
     "name": "stdout",
     "output_type": "stream",
     "text": [
      "Current loss is: 0.0017173426095341978\n",
      "Current loss is: 0.0017093194818273393\n",
      "Current loss is: 0.0017013058657982902\n"
     ]
    },
    {
     "name": "stderr",
     "output_type": "stream",
     "text": [
      "\u001b[32mloss: 0.00169:  45%|████████████████▏                   |  ETA: 0:00:12\u001b[39m"
     ]
    },
    {
     "name": "stdout",
     "output_type": "stream",
     "text": [
      "Current loss is: 0.00169330161047197\n",
      "Current loss is: 0.0016853066053778495\n",
      "Current loss is: 0.0016773206753169813\n"
     ]
    },
    {
     "name": "stderr",
     "output_type": "stream",
     "text": [
      "\u001b[32mloss: 0.00167:  45%|████████████████▍                   |  ETA: 0:00:11\u001b[39m"
     ]
    },
    {
     "name": "stdout",
     "output_type": "stream",
     "text": [
      "Current loss is: 0.0016693437135293825\n",
      "Current loss is: 0.001661375479026326\n",
      "Current loss is: 0.0016534157971188454\n"
     ]
    },
    {
     "name": "stderr",
     "output_type": "stream",
     "text": [
      "\u001b[32mloss: 0.00165:  46%|████████████████▌                   |  ETA: 0:00:11\u001b[39m"
     ]
    },
    {
     "name": "stdout",
     "output_type": "stream",
     "text": [
      "Current loss is: 0.0016454644943899796\n",
      "Current loss is: 0.001637521419411726\n",
      "Current loss is: 0.001629586391869694\n"
     ]
    },
    {
     "name": "stderr",
     "output_type": "stream",
     "text": [
      "\u001b[32mloss: 0.00162:  47%|████████████████▊                   |  ETA: 0:00:11\u001b[39m"
     ]
    },
    {
     "name": "stdout",
     "output_type": "stream",
     "text": [
      "Current loss is: 0.001621659186776906\n",
      "Current loss is: 0.0016137396238757199\n",
      "Current loss is: 0.0016058275016548277\n"
     ]
    },
    {
     "name": "stderr",
     "output_type": "stream",
     "text": [
      "\u001b[32mloss: 0.0016:  47%|█████████████████▌                   |  ETA: 0:00:11\u001b[39m"
     ]
    },
    {
     "name": "stdout",
     "output_type": "stream",
     "text": [
      "Current loss is: 0.0015979226097880264\n",
      "Current loss is: 0.0015900247926581665\n",
      "Current loss is: 0.0015821338166031788\n"
     ]
    },
    {
     "name": "stderr",
     "output_type": "stream",
     "text": [
      "\u001b[32mloss: 0.00157:  48%|█████████████████▎                  |  ETA: 0:00:11\u001b[39m"
     ]
    },
    {
     "name": "stdout",
     "output_type": "stream",
     "text": [
      "Current loss is: 0.0015742495038902483\n",
      "Current loss is: 0.0015663716476074577\n",
      "Current loss is: 0.0015585000912260677\n"
     ]
    },
    {
     "name": "stderr",
     "output_type": "stream",
     "text": [
      "\u001b[32mloss: 0.00155:  48%|█████████████████▍                  |  ETA: 0:00:11\u001b[39m"
     ]
    },
    {
     "name": "stdout",
     "output_type": "stream",
     "text": [
      "Current loss is: 0.0015506346347950383\n",
      "Current loss is: 0.0015427750387236713\n",
      "Current loss is: 0.001534921171687827\n"
     ]
    },
    {
     "name": "stderr",
     "output_type": "stream",
     "text": [
      "\u001b[32mloss: 0.00153:  49%|█████████████████▋                  |  ETA: 0:00:11\u001b[39m"
     ]
    },
    {
     "name": "stdout",
     "output_type": "stream",
     "text": [
      "Current loss is: 0.0015270728225552114\n",
      "Current loss is: 0.001519229843749579\n",
      "Current loss is: 0.001511391997878092\n"
     ]
    },
    {
     "name": "stderr",
     "output_type": "stream",
     "text": [
      "\u001b[32mloss: 0.0015:  50%|██████████████████▍                  |  ETA: 0:00:11\u001b[39m"
     ]
    },
    {
     "name": "stdout",
     "output_type": "stream",
     "text": [
      "Current loss is: 0.0015035591803986739\n",
      "Current loss is: 0.0014957311912485612\n",
      "Current loss is: 0.001487907880857235\n"
     ]
    },
    {
     "name": "stderr",
     "output_type": "stream",
     "text": [
      "\u001b[32mloss: 0.00148:  50%|██████████████████▏                 |  ETA: 0:00:10\u001b[39m"
     ]
    },
    {
     "name": "stdout",
     "output_type": "stream",
     "text": [
      "Current loss is: 0.001480089087689636\n",
      "Current loss is: 0.0014722746788205204\n",
      "Current loss is: 0.0014644644953363541\n"
     ]
    },
    {
     "name": "stderr",
     "output_type": "stream",
     "text": [
      "\u001b[32mloss: 0.00146:  51%|██████████████████▎                 |  ETA: 0:00:10\u001b[39m"
     ]
    },
    {
     "name": "stdout",
     "output_type": "stream",
     "text": [
      "Current loss is: 0.0014566584266341683\n",
      "Current loss is: 0.0014488563658900994\n",
      "Current loss is: 0.0014410581533349977\n"
     ]
    },
    {
     "name": "stderr",
     "output_type": "stream",
     "text": [
      "\u001b[32mloss: 0.00143:  51%|██████████████████▌                 |  ETA: 0:00:10\u001b[39m"
     ]
    },
    {
     "name": "stdout",
     "output_type": "stream",
     "text": [
      "Current loss is: 0.0014332636958940973\n",
      "Current loss is: 0.001425472945505677\n",
      "Current loss is: 0.00141768577160974\n"
     ]
    },
    {
     "name": "stderr",
     "output_type": "stream",
     "text": [
      "\u001b[32mloss: 0.00141:  52%|██████████████████▊                 |  ETA: 0:00:10\u001b[39m"
     ]
    },
    {
     "name": "stdout",
     "output_type": "stream",
     "text": [
      "Current loss is: 0.0014099021518612725\n",
      "Current loss is: 0.0014021219681869014\n",
      "Current loss is: 0.001394345231873186\n"
     ]
    },
    {
     "name": "stderr",
     "output_type": "stream",
     "text": [
      "\u001b[32mloss: 0.00139:  53%|██████████████████▉                 |  ETA: 0:00:10\u001b[39m"
     ]
    },
    {
     "name": "stdout",
     "output_type": "stream",
     "text": [
      "Current loss is: 0.0013865718480853158\n",
      "Current loss is: 0.0013788017772477892\n",
      "Current loss is: 0.0013710350653970771\n"
     ]
    },
    {
     "name": "stderr",
     "output_type": "stream",
     "text": [
      "\u001b[32mloss: 0.00136:  53%|███████████████████▏                |  ETA: 0:00:10\u001b[39m"
     ]
    },
    {
     "name": "stdout",
     "output_type": "stream",
     "text": [
      "Current loss is: 0.0013632716921337116\n",
      "Current loss is: 0.00135551165517885\n",
      "Current loss is: 0.0013477550168939198\n"
     ]
    },
    {
     "name": "stderr",
     "output_type": "stream",
     "text": [
      "\u001b[32mloss: 0.00134:  54%|███████████████████▍                |  ETA: 0:00:10\u001b[39m"
     ]
    },
    {
     "name": "stdout",
     "output_type": "stream",
     "text": [
      "Current loss is: 0.0013400018199580112\n",
      "Current loss is: 0.0013322521017092423\n",
      "Current loss is: 0.0013245059805619998\n"
     ]
    },
    {
     "name": "stderr",
     "output_type": "stream",
     "text": [
      "\u001b[32mloss: 0.00132:  54%|███████████████████▋                |  ETA: 0:00:10\u001b[39m"
     ]
    },
    {
     "name": "stdout",
     "output_type": "stream",
     "text": [
      "Current loss is: 0.0013167635297157202\n",
      "Current loss is: 0.0013090248235686393\n",
      "Current loss is: 0.0013012900394239878\n"
     ]
    },
    {
     "name": "stderr",
     "output_type": "stream",
     "text": [
      "\u001b[32mloss: 0.00129:  55%|███████████████████▊                |  ETA: 0:00:09\u001b[39m"
     ]
    },
    {
     "name": "stdout",
     "output_type": "stream",
     "text": [
      "Current loss is: 0.001293559333359408\n",
      "Current loss is: 0.0012858328412051609\n",
      "Current loss is: 0.0012781107709741453\n"
     ]
    },
    {
     "name": "stderr",
     "output_type": "stream",
     "text": [
      "\u001b[32mloss: 0.00127:  56%|████████████████████                |  ETA: 0:00:09\u001b[39m"
     ]
    },
    {
     "name": "stdout",
     "output_type": "stream",
     "text": [
      "Current loss is: 0.0012703932953102453\n",
      "Current loss is: 0.0012626806335388474\n",
      "Current loss is: 0.0012549730272968253\n"
     ]
    },
    {
     "name": "stderr",
     "output_type": "stream",
     "text": [
      "\u001b[32mloss: 0.00125:  56%|████████████████████▎               |  ETA: 0:00:09\u001b[39m"
     ]
    },
    {
     "name": "stdout",
     "output_type": "stream",
     "text": [
      "Current loss is: 0.0012472707471134538\n",
      "Current loss is: 0.001239574050397756\n",
      "Current loss is: 0.001231883277403566\n"
     ]
    },
    {
     "name": "stderr",
     "output_type": "stream",
     "text": [
      "\u001b[32mloss: 0.00122:  57%|████████████████████▌               |  ETA: 0:00:09\u001b[39m"
     ]
    },
    {
     "name": "stdout",
     "output_type": "stream",
     "text": [
      "Current loss is: 0.0012241987171714166\n",
      "Current loss is: 0.0012165206715781742\n",
      "Current loss is: 0.0012088495476166093\n"
     ]
    },
    {
     "name": "stderr",
     "output_type": "stream",
     "text": [
      "\u001b[32mloss: 0.0012:  57%|█████████████████████▎               |  ETA: 0:00:09\u001b[39m"
     ]
    },
    {
     "name": "stdout",
     "output_type": "stream",
     "text": [
      "Current loss is: 0.001201185709100162\n",
      "Current loss is: 0.001193529548418707\n",
      "Current loss is: 0.0011858814677089126\n"
     ]
    },
    {
     "name": "stderr",
     "output_type": "stream",
     "text": [
      "\u001b[32mloss: 0.00118:  58%|████████████████████▉               |  ETA: 0:00:09\u001b[39m"
     ]
    },
    {
     "name": "stdout",
     "output_type": "stream",
     "text": [
      "Current loss is: 0.0011782419449905617\n",
      "Current loss is: 0.001170611409957504\n",
      "Current loss is: 0.001162990297482304\n"
     ]
    },
    {
     "name": "stderr",
     "output_type": "stream",
     "text": [
      "\u001b[32mloss: 0.00116:  59%|█████████████████████▏              |  ETA: 0:00:09\u001b[39m"
     ]
    },
    {
     "name": "stdout",
     "output_type": "stream",
     "text": [
      "Current loss is: 0.0011553791185566497\n",
      "Current loss is: 0.0011477784589238407\n"
     ]
    },
    {
     "name": "stderr",
     "output_type": "stream",
     "text": [
      "\u001b[32mloss: 0.00114:  59%|█████████████████████▎              |  ETA: 0:00:09\u001b[39m"
     ]
    },
    {
     "name": "stdout",
     "output_type": "stream",
     "text": [
      "Current loss is: 0.001140188778316011\n",
      "Current loss is: 0.0011326106305145564\n",
      "Current loss is: 0.001125044584865203\n"
     ]
    },
    {
     "name": "stderr",
     "output_type": "stream",
     "text": [
      "\u001b[32mloss: 0.00112:  60%|█████████████████████▌              |  ETA: 0:00:08\u001b[39m"
     ]
    },
    {
     "name": "stdout",
     "output_type": "stream",
     "text": [
      "Current loss is: 0.0011174912735071908\n",
      "Current loss is: 0.001109951272291278\n",
      "Current loss is: 0.0011024251915799606\n"
     ]
    },
    {
     "name": "stderr",
     "output_type": "stream",
     "text": [
      "\u001b[32mloss: 0.00109:  60%|█████████████████████▋              |  ETA: 0:00:08\u001b[39m"
     ]
    },
    {
     "name": "stdout",
     "output_type": "stream",
     "text": [
      "Current loss is: 0.0010949137264142962\n",
      "Current loss is: 0.0010874175074856113\n",
      "Current loss is: 0.0010799371913186074\n"
     ]
    },
    {
     "name": "stderr",
     "output_type": "stream",
     "text": [
      "\u001b[32mloss: 0.00107:  61%|█████████████████████▉              |  ETA: 0:00:08\u001b[39m"
     ]
    },
    {
     "name": "stdout",
     "output_type": "stream",
     "text": [
      "Current loss is: 0.0010724734648295436\n",
      "Current loss is: 0.0010650270541151124\n",
      "Current loss is: 0.0010575986628049538\n"
     ]
    },
    {
     "name": "stderr",
     "output_type": "stream",
     "text": [
      "\u001b[32mloss: 0.00105:  61%|██████████████████████▏             |  ETA: 0:00:08\u001b[39m"
     ]
    },
    {
     "name": "stdout",
     "output_type": "stream",
     "text": [
      "Current loss is: 0.0010501890378050364\n",
      "Current loss is: 0.0010427989638521658\n",
      "Current loss is: 0.0010354291773037449\n"
     ]
    },
    {
     "name": "stderr",
     "output_type": "stream",
     "text": [
      "\u001b[32mloss: 0.00103:  62%|██████████████████████▍             |  ETA: 0:00:08\u001b[39m"
     ]
    },
    {
     "name": "stdout",
     "output_type": "stream",
     "text": [
      "Current loss is: 0.0010280804028383063\n",
      "Current loss is: 0.0010207534990029192\n",
      "Current loss is: 0.0010134492043668414\n"
     ]
    },
    {
     "name": "stderr",
     "output_type": "stream",
     "text": [
      "\u001b[32mloss: 0.00101:  63%|██████████████████████▌             |  ETA: 0:00:08\u001b[39m"
     ]
    },
    {
     "name": "stdout",
     "output_type": "stream",
     "text": [
      "Current loss is: 0.0010061683265796585\n",
      "Current loss is: 0.0009989117060451292\n",
      "Current loss is: 0.000991680130362671\n"
     ]
    },
    {
     "name": "stderr",
     "output_type": "stream",
     "text": [
      "\u001b[32mloss: 0.000984:  63%|██████████████████████▏            |  ETA: 0:00:08\u001b[39m"
     ]
    },
    {
     "name": "stdout",
     "output_type": "stream",
     "text": [
      "Current loss is: 0.0009844744672650773\n",
      "Current loss is: 0.0009772955434693992\n",
      "Current loss is: 0.0009701441687774786\n"
     ]
    },
    {
     "name": "stderr",
     "output_type": "stream",
     "text": [
      "\u001b[32mloss: 0.000963:  64%|██████████████████████▍            |  ETA: 0:00:08\u001b[39m"
     ]
    },
    {
     "name": "stdout",
     "output_type": "stream",
     "text": [
      "Current loss is: 0.0009630212266515199\n",
      "Current loss is: 0.0009559275246568332\n"
     ]
    },
    {
     "name": "stderr",
     "output_type": "stream",
     "text": [
      "\u001b[32mloss: 0.000949:  64%|██████████████████████▌            |  ETA: 0:00:07\u001b[39m"
     ]
    },
    {
     "name": "stdout",
     "output_type": "stream",
     "text": [
      "Current loss is: 0.0009488639097854317\n",
      "Current loss is: 0.0009418312699023838\n",
      "Current loss is: 0.0009348304127897683\n"
     ]
    },
    {
     "name": "stderr",
     "output_type": "stream",
     "text": [
      "\u001b[32mloss: 0.000928:  65%|██████████████████████▋            |  ETA: 0:00:07\u001b[39m"
     ]
    },
    {
     "name": "stdout",
     "output_type": "stream",
     "text": [
      "Current loss is: 0.0009278622099139433\n",
      "Current loss is: 0.0009209274923358123\n",
      "Current loss is: 0.000914027140139953\n"
     ]
    },
    {
     "name": "stderr",
     "output_type": "stream",
     "text": [
      "\u001b[32mloss: 0.000907:  65%|██████████████████████▉            |  ETA: 0:00:07\u001b[39m"
     ]
    },
    {
     "name": "stdout",
     "output_type": "stream",
     "text": [
      "Current loss is: 0.0009071619646353614\n",
      "Current loss is: 0.0009003328335217118\n",
      "Current loss is: 0.0008935405253077687\n"
     ]
    },
    {
     "name": "stderr",
     "output_type": "stream",
     "text": [
      "\u001b[32mloss: 0.000887:  66%|███████████████████████▏           |  ETA: 0:00:07\u001b[39m"
     ]
    },
    {
     "name": "stdout",
     "output_type": "stream",
     "text": [
      "Current loss is: 0.0008867858716508048\n",
      "Current loss is: 0.0008800697388357158\n",
      "Current loss is: 0.0008733928809680846\n"
     ]
    },
    {
     "name": "stderr",
     "output_type": "stream",
     "text": [
      "\u001b[32mloss: 0.000867:  67%|███████████████████████▎           |  ETA: 0:00:07\u001b[39m"
     ]
    },
    {
     "name": "stdout",
     "output_type": "stream",
     "text": [
      "Current loss is: 0.00086675609397808\n",
      "Current loss is: 0.0008601602004877847\n",
      "Current loss is: 0.0008536059304411978\n"
     ]
    },
    {
     "name": "stderr",
     "output_type": "stream",
     "text": [
      "\u001b[32mloss: 0.000847:  67%|███████████████████████▌           |  ETA: 0:00:07\u001b[39m"
     ]
    },
    {
     "name": "stdout",
     "output_type": "stream",
     "text": [
      "Current loss is: 0.0008470940483809323\n",
      "Current loss is: 0.0008406253235506569\n",
      "Current loss is: 0.0008342004393301446\n"
     ]
    },
    {
     "name": "stderr",
     "output_type": "stream",
     "text": [
      "\u001b[32mloss: 0.000828:  68%|███████████████████████▊           |  ETA: 0:00:07\u001b[39m"
     ]
    },
    {
     "name": "stdout",
     "output_type": "stream",
     "text": [
      "Current loss is: 0.0008278201718027206\n",
      "Current loss is: 0.0008214851851099038\n",
      "Current loss is: 0.000815196161170898\n"
     ]
    },
    {
     "name": "stderr",
     "output_type": "stream",
     "text": [
      "\u001b[32mloss: 0.000809:  68%|████████████████████████           |  ETA: 0:00:07\u001b[39m"
     ]
    },
    {
     "name": "stdout",
     "output_type": "stream",
     "text": [
      "Current loss is: 0.0008089537677151274\n",
      "Current loss is: 0.0008027586443260683\n",
      "Current loss is: 0.0007966114153956787\n"
     ]
    },
    {
     "name": "stderr",
     "output_type": "stream",
     "text": [
      "\u001b[32mloss: 0.000791:  69%|████████████████████████▏          |  ETA: 0:00:06\u001b[39m"
     ]
    },
    {
     "name": "stdout",
     "output_type": "stream",
     "text": [
      "Current loss is: 0.0007905126861964152\n",
      "Current loss is: 0.0007844629934411685\n",
      "Current loss is: 0.0007784629826557006\n"
     ]
    },
    {
     "name": "stderr",
     "output_type": "stream",
     "text": [
      "\u001b[32mloss: 0.000773:  70%|████████████████████████▍          |  ETA: 0:00:06\u001b[39m"
     ]
    },
    {
     "name": "stdout",
     "output_type": "stream",
     "text": [
      "Current loss is: 0.0007725131366807491\n",
      "Current loss is: 0.0007666139823900184\n",
      "Current loss is: 0.0007607660125548234\n"
     ]
    },
    {
     "name": "stderr",
     "output_type": "stream",
     "text": [
      "\u001b[32mloss: 0.000755:  70%|████████████████████████▋          |  ETA: 0:00:06\u001b[39m"
     ]
    },
    {
     "name": "stdout",
     "output_type": "stream",
     "text": [
      "Current loss is: 0.0007549696989000241\n",
      "Current loss is: 0.0007492254948929963\n",
      "Current loss is: 0.0007435338147307708\n"
     ]
    },
    {
     "name": "stderr",
     "output_type": "stream",
     "text": [
      "\u001b[32mloss: 0.000738:  71%|████████████████████████▊          |  ETA: 0:00:06\u001b[39m"
     ]
    },
    {
     "name": "stdout",
     "output_type": "stream",
     "text": [
      "Current loss is: 0.0007378950507055344\n",
      "Current loss is: 0.0007323095779606955\n",
      "Current loss is: 0.0007267777400036367\n"
     ]
    },
    {
     "name": "stderr",
     "output_type": "stream",
     "text": [
      "\u001b[32mloss: 0.000721:  71%|█████████████████████████          |  ETA: 0:00:06\u001b[39m"
     ]
    },
    {
     "name": "stdout",
     "output_type": "stream",
     "text": [
      "Current loss is: 0.0007212998238034697\n",
      "Current loss is: 0.000715876152317868\n",
      "Current loss is: 0.0007105070135217192\n"
     ]
    },
    {
     "name": "stderr",
     "output_type": "stream",
     "text": [
      "\u001b[32mloss: 0.000705:  72%|█████████████████████████▎         |  ETA: 0:00:06\u001b[39m"
     ]
    },
    {
     "name": "stdout",
     "output_type": "stream",
     "text": [
      "Current loss is: 0.000705192605418596\n",
      "Current loss is: 0.0006999331745743771\n",
      "Current loss is: 0.0006947288912916477\n"
     ]
    },
    {
     "name": "stderr",
     "output_type": "stream",
     "text": [
      "\u001b[32mloss: 0.00069:  73%|██████████████████████████▏         |  ETA: 0:00:06\u001b[39m"
     ]
    },
    {
     "name": "stdout",
     "output_type": "stream",
     "text": [
      "Current loss is: 0.0006895799298530864\n",
      "Current loss is: 0.0006844864480372659\n",
      "Current loss is: 0.0006794485402849689\n"
     ]
    },
    {
     "name": "stderr",
     "output_type": "stream",
     "text": [
      "\u001b[32mloss: 0.000674:  73%|█████████████████████████▋         |  ETA: 0:00:06\u001b[39m"
     ]
    },
    {
     "name": "stdout",
     "output_type": "stream",
     "text": [
      "Current loss is: 0.0006744663118951557\n",
      "Current loss is: 0.0006695398193929708\n",
      "Current loss is: 0.0006646691401972798\n"
     ]
    },
    {
     "name": "stderr",
     "output_type": "stream",
     "text": [
      "\u001b[32mloss: 0.00066:  74%|██████████████████████████▋         |  ETA: 0:00:05\u001b[39m"
     ]
    },
    {
     "name": "stdout",
     "output_type": "stream",
     "text": [
      "Current loss is: 0.0006598542579030741\n",
      "Current loss is: 0.0006550951561194637\n",
      "Current loss is: 0.0006503918038512897\n"
     ]
    },
    {
     "name": "stderr",
     "output_type": "stream",
     "text": [
      "\u001b[32mloss: 0.000646:  74%|██████████████████████████         |  ETA: 0:00:05\u001b[39m"
     ]
    },
    {
     "name": "stdout",
     "output_type": "stream",
     "text": [
      "Current loss is: 0.0006457441453568935\n",
      "Current loss is: 0.0006411521196083663\n",
      "Current loss is: 0.0006366156438705846\n"
     ]
    },
    {
     "name": "stderr",
     "output_type": "stream",
     "text": [
      "\u001b[32mloss: 0.000632:  75%|██████████████████████████▎        |  ETA: 0:00:05\u001b[39m"
     ]
    },
    {
     "name": "stdout",
     "output_type": "stream",
     "text": [
      "Current loss is: 0.0006321345742741219\n",
      "Current loss is: 0.000627708766215784\n",
      "Current loss is: 0.0006233380702627077\n"
     ]
    },
    {
     "name": "stderr",
     "output_type": "stream",
     "text": [
      "\u001b[32mloss: 0.000619:  76%|██████████████████████████▌        |  ETA: 0:00:05\u001b[39m"
     ]
    },
    {
     "name": "stdout",
     "output_type": "stream",
     "text": [
      "Current loss is: 0.0006190222918940071\n",
      "Current loss is: 0.0006147612511350385\n",
      "Current loss is: 0.0006105547189429195\n"
     ]
    },
    {
     "name": "stderr",
     "output_type": "stream",
     "text": [
      "\u001b[32mloss: 0.000606:  76%|██████████████████████████▋        |  ETA: 0:00:05\u001b[39m"
     ]
    },
    {
     "name": "stdout",
     "output_type": "stream",
     "text": [
      "Current loss is: 0.0006064024206069533\n",
      "Current loss is: 0.0006023041676943364\n",
      "Current loss is: 0.0005982596440223667\n"
     ]
    },
    {
     "name": "stderr",
     "output_type": "stream",
     "text": [
      "\u001b[32mloss: 0.000594:  77%|██████████████████████████▉        |  ETA: 0:00:05\u001b[39m"
     ]
    },
    {
     "name": "stdout",
     "output_type": "stream",
     "text": [
      "Current loss is: 0.0005942685588952206\n",
      "Current loss is: 0.0005903306140050996\n",
      "Current loss is: 0.000586445489067702\n"
     ]
    },
    {
     "name": "stderr",
     "output_type": "stream",
     "text": [
      "\u001b[32mloss: 0.000583:  77%|███████████████████████████▏       |  ETA: 0:00:05\u001b[39m"
     ]
    },
    {
     "name": "stdout",
     "output_type": "stream",
     "text": [
      "Current loss is: 0.0005826128612016946\n",
      "Current loss is: 0.0005788323401882361\n",
      "Current loss is: 0.0005751035961590188\n"
     ]
    },
    {
     "name": "stderr",
     "output_type": "stream",
     "text": [
      "\u001b[32mloss: 0.000571:  78%|███████████████████████████▎       |  ETA: 0:00:05\u001b[39m"
     ]
    },
    {
     "name": "stdout",
     "output_type": "stream",
     "text": [
      "Current loss is: 0.0005714262631574112\n",
      "Current loss is: 0.0005677999005093665\n",
      "Current loss is: 0.0005642241697211379\n"
     ]
    },
    {
     "name": "stderr",
     "output_type": "stream",
     "text": [
      "\u001b[32mloss: 0.000561:  79%|███████████████████████████▌       |  ETA: 0:00:04\u001b[39m"
     ]
    },
    {
     "name": "stdout",
     "output_type": "stream",
     "text": [
      "Current loss is: 0.0005606986131336964\n",
      "Current loss is: 0.0005572228124792244\n",
      "Current loss is: 0.0005537963682838917\n"
     ]
    },
    {
     "name": "stderr",
     "output_type": "stream",
     "text": [
      "\u001b[32mloss: 0.00055:  79%|████████████████████████████▌       |  ETA: 0:00:04\u001b[39m"
     ]
    },
    {
     "name": "stdout",
     "output_type": "stream",
     "text": [
      "Current loss is: 0.0005504188103968566\n",
      "Current loss is: 0.0005470896951861228\n",
      "Current loss is: 0.0005438085855746602\n"
     ]
    },
    {
     "name": "stderr",
     "output_type": "stream",
     "text": [
      "\u001b[32mloss: 0.000541:  80%|███████████████████████████▉       |  ETA: 0:00:04\u001b[39m"
     ]
    },
    {
     "name": "stdout",
     "output_type": "stream",
     "text": [
      "Current loss is: 0.0005405750204789585\n",
      "Current loss is: 0.0005373885011766312\n",
      "Current loss is: 0.0005342485521547451\n"
     ]
    },
    {
     "name": "stderr",
     "output_type": "stream",
     "text": [
      "\u001b[32mloss: 0.000531:  80%|████████████████████████████▏      |  ETA: 0:00:04\u001b[39m"
     ]
    },
    {
     "name": "stdout",
     "output_type": "stream",
     "text": [
      "Current loss is: 0.0005311547004601752\n",
      "Current loss is: 0.0005281064319069772\n",
      "Current loss is: 0.0005251032755826448\n"
     ]
    },
    {
     "name": "stderr",
     "output_type": "stream",
     "text": [
      "\u001b[32mloss: 0.000522:  81%|████████████████████████████▍      |  ETA: 0:00:04\u001b[39m"
     ]
    },
    {
     "name": "stdout",
     "output_type": "stream",
     "text": [
      "Current loss is: 0.0005221447298607674\n",
      "Current loss is: 0.0005192302901011451\n",
      "Current loss is: 0.0005163594383896236\n"
     ]
    },
    {
     "name": "stderr",
     "output_type": "stream",
     "text": [
      "\u001b[32mloss: 0.000514:  82%|████████████████████████████▌      |  ETA: 0:00:04\u001b[39m"
     ]
    },
    {
     "name": "stdout",
     "output_type": "stream",
     "text": [
      "Current loss is: 0.00051353166895103\n",
      "Current loss is: 0.0005107464620742273\n",
      "Current loss is: 0.0005080033180790014\n"
     ]
    },
    {
     "name": "stderr",
     "output_type": "stream",
     "text": [
      "\u001b[32mloss: 0.000505:  82%|████████████████████████████▊      |  ETA: 0:00:04\u001b[39m"
     ]
    },
    {
     "name": "stdout",
     "output_type": "stream",
     "text": [
      "Current loss is: 0.0005053017143917076\n",
      "Current loss is: 0.0005026411222783806\n",
      "Current loss is: 0.0005000210217217144\n"
     ]
    },
    {
     "name": "stderr",
     "output_type": "stream",
     "text": [
      "\u001b[32mloss: 0.000497:  83%|█████████████████████████████      |  ETA: 0:00:04\u001b[39m"
     ]
    },
    {
     "name": "stdout",
     "output_type": "stream",
     "text": [
      "Current loss is: 0.0004974409146499981\n",
      "Current loss is: 0.0004949002586895875\n",
      "Current loss is: 0.0004923985148251062\n"
     ]
    },
    {
     "name": "stderr",
     "output_type": "stream",
     "text": [
      "\u001b[32mloss: 0.00049:  83%|██████████████████████████████      |  ETA: 0:00:03\u001b[39m"
     ]
    },
    {
     "name": "stdout",
     "output_type": "stream",
     "text": [
      "Current loss is: 0.0004899351846577857\n",
      "Current loss is: 0.0004875097371723502\n",
      "Current loss is: 0.000485121663770733\n"
     ]
    },
    {
     "name": "stderr",
     "output_type": "stream",
     "text": [
      "\u001b[32mloss: 0.000483:  84%|█████████████████████████████▍     |  ETA: 0:00:03\u001b[39m"
     ]
    },
    {
     "name": "stdout",
     "output_type": "stream",
     "text": [
      "Current loss is: 0.0004827704329843093\n",
      "Current loss is: 0.0004804555092839456\n",
      "Current loss is: 0.0004781763915360474\n"
     ]
    },
    {
     "name": "stderr",
     "output_type": "stream",
     "text": [
      "\u001b[32mloss: 0.000476:  85%|█████████████████████████████▋     |  ETA: 0:00:03\u001b[39m"
     ]
    },
    {
     "name": "stdout",
     "output_type": "stream",
     "text": [
      "Current loss is: 0.0004759325420947405\n",
      "Current loss is: 0.0004737234537958482\n",
      "Current loss is: 0.00047154863995077696\n"
     ]
    },
    {
     "name": "stderr",
     "output_type": "stream",
     "text": [
      "\u001b[32mloss: 0.000469:  85%|█████████████████████████████▉     |  ETA: 0:00:03\u001b[39m"
     ]
    },
    {
     "name": "stdout",
     "output_type": "stream",
     "text": [
      "Current loss is: 0.00046940755694702954\n",
      "Current loss is: 0.00046729969410690207\n",
      "Current loss is: 0.0004652245560957301\n"
     ]
    },
    {
     "name": "stderr",
     "output_type": "stream",
     "text": [
      "\u001b[32mloss: 0.000463:  86%|██████████████████████████████     |  ETA: 0:00:03\u001b[39m"
     ]
    },
    {
     "name": "stdout",
     "output_type": "stream",
     "text": [
      "Current loss is: 0.0004631816181209622\n",
      "Current loss is: 0.00046117039821505593\n",
      "Current loss is: 0.00045919039801628193\n"
     ]
    },
    {
     "name": "stderr",
     "output_type": "stream",
     "text": [
      "\u001b[32mloss: 0.000457:  86%|██████████████████████████████▎    |  ETA: 0:00:03\u001b[39m"
     ]
    },
    {
     "name": "stdout",
     "output_type": "stream",
     "text": [
      "Current loss is: 0.00045724111567983566\n",
      "Current loss is: 0.00045532204685966846\n",
      "Current loss is: 0.0004534327149811452\n"
     ]
    },
    {
     "name": "stderr",
     "output_type": "stream",
     "text": [
      "\u001b[32mloss: 0.000452:  87%|██████████████████████████████▌    |  ETA: 0:00:03\u001b[39m"
     ]
    },
    {
     "name": "stdout",
     "output_type": "stream",
     "text": [
      "Current loss is: 0.00045157263301122896\n",
      "Current loss is: 0.0004497413148748925\n",
      "Current loss is: 0.0004479382906010089\n"
     ]
    },
    {
     "name": "stderr",
     "output_type": "stream",
     "text": [
      "\u001b[32mloss: 0.000446:  88%|██████████████████████████████▋    |  ETA: 0:00:03\u001b[39m"
     ]
    },
    {
     "name": "stdout",
     "output_type": "stream",
     "text": [
      "Current loss is: 0.00044616307616339803\n",
      "Current loss is: 0.00044441522432493686\n",
      "Current loss is: 0.00044269422812628066\n"
     ]
    },
    {
     "name": "stderr",
     "output_type": "stream",
     "text": [
      "\u001b[32mloss: 0.000441:  88%|██████████████████████████████▉    |  ETA: 0:00:02\u001b[39m"
     ]
    },
    {
     "name": "stdout",
     "output_type": "stream",
     "text": [
      "Current loss is: 0.0004409996414278135\n",
      "Current loss is: 0.0004393310132281464\n",
      "Current loss is: 0.000437687876757909\n"
     ]
    },
    {
     "name": "stderr",
     "output_type": "stream",
     "text": [
      "\u001b[32mloss: 0.000436:  89%|███████████████████████████████▏   |  ETA: 0:00:02\u001b[39m"
     ]
    },
    {
     "name": "stdout",
     "output_type": "stream",
     "text": [
      "Current loss is: 0.0004360697843660372\n",
      "Current loss is: 0.00043447630383693396\n",
      "Current loss is: 0.00043290697749333285\n"
     ]
    },
    {
     "name": "stderr",
     "output_type": "stream",
     "text": [
      "\u001b[32mloss: 0.000431:  89%|███████████████████████████████▎   |  ETA: 0:00:02\u001b[39m"
     ]
    },
    {
     "name": "stdout",
     "output_type": "stream",
     "text": [
      "Current loss is: 0.0004313613708895539\n",
      "Current loss is: 0.0004298390462002459\n",
      "Current loss is: 0.0004283396022306791\n"
     ]
    },
    {
     "name": "stderr",
     "output_type": "stream",
     "text": [
      "\u001b[32mloss: 0.000427:  90%|███████████████████████████████▌   |  ETA: 0:00:02\u001b[39m"
     ]
    },
    {
     "name": "stdout",
     "output_type": "stream",
     "text": [
      "Current loss is: 0.00042686259603193926\n",
      "Current loss is: 0.00042540761968541576\n",
      "Current loss is: 0.00042397426134429666\n"
     ]
    },
    {
     "name": "stderr",
     "output_type": "stream",
     "text": [
      "\u001b[32mloss: 0.000423:  91%|███████████████████████████████▊   |  ETA: 0:00:02\u001b[39m"
     ]
    },
    {
     "name": "stdout",
     "output_type": "stream",
     "text": [
      "Current loss is: 0.0004225620988172311\n",
      "Current loss is: 0.00042117074171459\n",
      "Current loss is: 0.00041979979709286865\n"
     ]
    },
    {
     "name": "stderr",
     "output_type": "stream",
     "text": [
      "\u001b[32mloss: 0.000418:  91%|███████████████████████████████▉   |  ETA: 0:00:02\u001b[39m"
     ]
    },
    {
     "name": "stdout",
     "output_type": "stream",
     "text": [
      "Current loss is: 0.00041844885211753737\n",
      "Current loss is: 0.00041711753736732723\n",
      "Current loss is: 0.00041580545484677623\n"
     ]
    },
    {
     "name": "stderr",
     "output_type": "stream",
     "text": [
      "\u001b[32mloss: 0.000415:  92%|████████████████████████████████▏  |  ETA: 0:00:02\u001b[39m"
     ]
    },
    {
     "name": "stdout",
     "output_type": "stream",
     "text": [
      "Current loss is: 0.000414512244981243\n",
      "Current loss is: 0.0004132375242665294\n",
      "Current loss is: 0.00041198093329939875\n"
     ]
    },
    {
     "name": "stderr",
     "output_type": "stream",
     "text": [
      "\u001b[32mloss: 0.000411:  92%|████████████████████████████████▍  |  ETA: 0:00:02\u001b[39m"
     ]
    },
    {
     "name": "stdout",
     "output_type": "stream",
     "text": [
      "Current loss is: 0.0004107421015190354\n",
      "Current loss is: 0.0004095206997000687\n",
      "Current loss is: 0.0004083163469463269\n"
     ]
    },
    {
     "name": "stderr",
     "output_type": "stream",
     "text": [
      "\u001b[32mloss: 0.000407:  93%|████████████████████████████████▌  |  ETA: 0:00:01\u001b[39m"
     ]
    },
    {
     "name": "stdout",
     "output_type": "stream",
     "text": [
      "Current loss is: 0.0004071286953744264\n",
      "Current loss is: 0.00040595741100031324\n",
      "Current loss is: 0.00040480215660514563\n"
     ]
    },
    {
     "name": "stderr",
     "output_type": "stream",
     "text": [
      "\u001b[32mloss: 0.000404:  94%|████████████████████████████████▊  |  ETA: 0:00:01\u001b[39m"
     ]
    },
    {
     "name": "stdout",
     "output_type": "stream",
     "text": [
      "Current loss is: 0.0004036626130251011\n",
      "Current loss is: 0.0004025384445300612\n",
      "Current loss is: 0.0004014293470811825\n"
     ]
    },
    {
     "name": "stderr",
     "output_type": "stream",
     "text": [
      "\u001b[32mloss: 0.0004:  94%|██████████████████████████████████▉  |  ETA: 0:00:01\u001b[39m"
     ]
    },
    {
     "name": "stdout",
     "output_type": "stream",
     "text": [
      "Current loss is: 0.0004003349787376691\n",
      "Current loss is: 0.0003992550465859863\n",
      "Current loss is: 0.0003981892432374472\n"
     ]
    },
    {
     "name": "stderr",
     "output_type": "stream",
     "text": [
      "\u001b[32mloss: 0.000397:  95%|█████████████████████████████████▏ |  ETA: 0:00:01\u001b[39m"
     ]
    },
    {
     "name": "stdout",
     "output_type": "stream",
     "text": [
      "Current loss is: 0.0003971372719417621\n",
      "Current loss is: 0.0003960988357531049\n",
      "Current loss is: 0.0003950736318032849\n"
     ]
    },
    {
     "name": "stderr",
     "output_type": "stream",
     "text": [
      "\u001b[32mloss: 0.000394:  95%|█████████████████████████████████▍ |  ETA: 0:00:01\u001b[39m"
     ]
    },
    {
     "name": "stdout",
     "output_type": "stream",
     "text": [
      "Current loss is: 0.0003940614085351375\n",
      "Current loss is: 0.00039306186199966533\n"
     ]
    },
    {
     "name": "stderr",
     "output_type": "stream",
     "text": [
      "\u001b[32mloss: 0.000392:  96%|█████████████████████████████████▌ |  ETA: 0:00:01\u001b[39m"
     ]
    },
    {
     "name": "stdout",
     "output_type": "stream",
     "text": [
      "Current loss is: 0.0003920747284481387\n",
      "Current loss is: 0.00039109972841704825\n",
      "Current loss is: 0.0003901366096570505\n"
     ]
    },
    {
     "name": "stderr",
     "output_type": "stream",
     "text": [
      "\u001b[32mloss: 0.000389:  96%|█████████████████████████████████▊ |  ETA: 0:00:01\u001b[39m"
     ]
    },
    {
     "name": "stdout",
     "output_type": "stream",
     "text": [
      "Current loss is: 0.00038918512069949267\n",
      "Current loss is: 0.0003882449953323396\n"
     ]
    },
    {
     "name": "stderr",
     "output_type": "stream",
     "text": [
      "\u001b[32mloss: 0.000387:  97%|█████████████████████████████████▉ |  ETA: 0:00:01\u001b[39m"
     ]
    },
    {
     "name": "stdout",
     "output_type": "stream",
     "text": [
      "Current loss is: 0.00038731598971004016\n",
      "Current loss is: 0.00038639785946418783\n",
      "Current loss is: 0.00038549035614939063\n"
     ]
    },
    {
     "name": "stderr",
     "output_type": "stream",
     "text": [
      "\u001b[32mloss: 0.000385:  97%|██████████████████████████████████▏|  ETA: 0:00:01\u001b[39m"
     ]
    },
    {
     "name": "stdout",
     "output_type": "stream",
     "text": [
      "Current loss is: 0.00038459325421112824\n",
      "Current loss is: 0.00038370632763944285\n",
      "Current loss is: 0.000382829353942402\n"
     ]
    },
    {
     "name": "stderr",
     "output_type": "stream",
     "text": [
      "\u001b[32mloss: 0.000382:  98%|██████████████████████████████████▎|  ETA: 0:00:00\u001b[39m"
     ]
    },
    {
     "name": "stdout",
     "output_type": "stream",
     "text": [
      "Current loss is: 0.00038196209176557963\n",
      "Current loss is: 0.00038110434595644156\n",
      "Current loss is: 0.00038025589563141536\n"
     ]
    },
    {
     "name": "stderr",
     "output_type": "stream",
     "text": [
      "\u001b[32mloss: 0.000379:  99%|██████████████████████████████████▌|  ETA: 0:00:00\u001b[39m"
     ]
    },
    {
     "name": "stdout",
     "output_type": "stream",
     "text": [
      "Current loss is: 0.0003794165408422774\n",
      "Current loss is: 0.0003785860798540742\n",
      "Current loss is: 0.00037776430888766647\n"
     ]
    },
    {
     "name": "stderr",
     "output_type": "stream",
     "text": [
      "\u001b[32mloss: 0.000377:  99%|██████████████████████████████████▊|  ETA: 0:00:00\u001b[39m"
     ]
    },
    {
     "name": "stdout",
     "output_type": "stream",
     "text": [
      "Current loss is: 0.0003769510348598746\n",
      "Current loss is: 0.00037614607245937503\n",
      "Current loss is: 0.0003753492332368002\n"
     ]
    },
    {
     "name": "stderr",
     "output_type": "stream",
     "text": [
      "\u001b[32mloss: 0.000374: 100%|███████████████████████████████████| Time: 0:00:20\u001b[39m\n"
     ]
    },
    {
     "name": "stdout",
     "output_type": "stream",
     "text": [
      "Current loss is: 0.00037456034207910324\n",
      "Current loss is: 0.00037377921239367256\n",
      "Current loss is: 0.00037377921239367256\n"
     ]
    },
    {
     "data": {
      "text/plain": [
       "#197 (generic function with 1 method)"
      ]
     },
     "execution_count": 12,
     "metadata": {},
     "output_type": "execute_result"
    }
   ],
   "source": [
    "@parameters x y z\n",
    "@variables u(..)\n",
    "@derivatives Dxx''~x\n",
    "@derivatives Dyy''~y\n",
    "\n",
    "# 2D PDE\n",
    "eq  = Dxx(u(x,y)) + Dyy(u(x,y)) ~ -x*sin(pi*x)*sin(pi*y)\n",
    "\n",
    "# Boundary conditions\n",
    "bcs = [u(0,y) ~ 0.f0, u(1,y) ~ -sin(pi*1)*sin(pi*y),\n",
    "       u(x,0) ~ 0.f0, u(x,1) ~ -sin(pi*x)*sin(pi*1)]\n",
    "# Space and time domains\n",
    "domains = [x ∈ IntervalDomain(0.0,1.0),\n",
    "           y ∈ IntervalDomain(0.0,1.0)]\n",
    "# Discretization\n",
    "dx = 0.1\n",
    "\n",
    "# Neural network\n",
    "dim = 2 # number of dimensions\n",
    "chain = FastChain(FastDense(dim,16,Flux.σ),FastDense(16,16,Flux.σ),FastDense(16,1))\n",
    "\n",
    "discretization = PhysicsInformedNN(chain, strategy = GridTraining(dx=dx))\n",
    "\n",
    "pde_system = PDESystem(eq,bcs,domains,[x,y],[u])\n",
    "prob = discretize(pde_system,discretization)\n",
    "\n",
    "cb = function (p,l)\n",
    "    println(\"Current loss is: $l\")\n",
    "    return false\n",
    "end\n",
    "\n",
    "pde_system = PDESystem(eq,bcs,domains,[x,y],[u])\n",
    "prob = NeuralPDE.discretize(pde_system,discretization)\n",
    "\n",
    "res = GalacticOptim.solve(prob, ADAM(0.1); cb = cb, maxiters=500)\n",
    "phi = discretization.phi"
   ]
  },
  {
   "cell_type": "code",
   "execution_count": null,
   "metadata": {},
   "outputs": [],
   "source": []
  },
  {
   "cell_type": "code",
   "execution_count": null,
   "metadata": {},
   "outputs": [],
   "source": []
  },
  {
   "cell_type": "code",
   "execution_count": null,
   "metadata": {},
   "outputs": [],
   "source": []
  },
  {
   "cell_type": "code",
   "execution_count": null,
   "metadata": {},
   "outputs": [],
   "source": []
  },
  {
   "cell_type": "code",
   "execution_count": 13,
   "metadata": {},
   "outputs": [
    {
     "data": {
      "text/plain": [
       "101×101 Array{Float64,2}:\n",
       " 0.00476947   0.00465444   0.00453479  …  0.00551706  0.00526519  0.00500657\n",
       " 0.00434955   0.00427714   0.00419999     0.00552675  0.0053096   0.00508582\n",
       " 0.00393627   0.00390645   0.00387177     0.00553504  0.0053523   0.00516301\n",
       " 0.00352973   0.00354244   0.00355015     0.00554186  0.00539314  0.00523798\n",
       " 0.00313003   0.00318516   0.00323516     0.00554708  0.00543197  0.00531052\n",
       " 0.00273727   0.00283467   0.00292681  …  0.00555058  0.00546864  0.00538045\n",
       " 0.00235154   0.00249103   0.00262511     0.00555226  0.00550298  0.00544755\n",
       " 0.00197293   0.00215429   0.00233008     0.00555197  0.00553483  0.00551163\n",
       " 0.00160151   0.00182447   0.00204171     0.00554958  0.005564    0.00557246\n",
       " 0.00123736   0.00150162   0.00176001     0.00554493  0.00559031  0.00562983\n",
       " 0.000880558  0.00118578   0.00148497  …  0.00553788  0.00561359  0.00568352\n",
       " 0.000531173  0.000876976  0.00121657     0.00552826  0.00563363  0.00573331\n",
       " 0.00018927   0.000575231  0.00095482     0.00551592  0.00565024  0.00577896\n",
       " ⋮                                     ⋱                          ⋮\n",
       " 0.00218085   0.00260536   0.0030216      0.00957333  0.00978409  0.0100048\n",
       " 0.0026352    0.00301913   0.00339483  …  0.00986177  0.0101067   0.0103617\n",
       " 0.00309902   0.00344181   0.00377643     0.0101486   0.0104282   0.0107178\n",
       " 0.00357203   0.00387319   0.00416622     0.0104338   0.0107485   0.0110731\n",
       " 0.00405395   0.00431301   0.00456398     0.0107173   0.0110674   0.0114275\n",
       " 0.00454448   0.00476102   0.0049695      0.0109991   0.0113849   0.0117808\n",
       " 0.00504332   0.00521695   0.00538256  …  0.0112791   0.011701    0.012133\n",
       " 0.00555016   0.00568053   0.00580292     0.0115573   0.0120156   0.0124839\n",
       " 0.00606469   0.0061515    0.00623036     0.0118336   0.0123286   0.0128335\n",
       " 0.00658658   0.00662956   0.00666463     0.0121082   0.01264     0.0131816\n",
       " 0.0071155    0.00711444   0.00710549     0.012381    0.0129497   0.0135283\n",
       " 0.00765112   0.00760584   0.00755269  …  0.012652    0.0132578   0.0138735"
      ]
     },
     "execution_count": 13,
     "metadata": {},
     "output_type": "execute_result"
    }
   ],
   "source": [
    "xs,ys = [domain.domain.lower:dx/10:domain.domain.upper for domain in domains]\n",
    "analytic_sol_func(x,y) = (sin(pi*x)*sin(pi*y))/(2pi^2)\n",
    "\n",
    "u_predict = reshape([first(phi([x,y],res.minimizer)) for x in xs for y in ys],(length(xs),length(ys)))\n",
    "u_real = reshape([analytic_sol_func(x,y) for x in xs for y in ys], (length(xs),length(ys)))\n",
    "diff_u = abs.(u_predict .- u_real)"
   ]
  },
  {
   "cell_type": "code",
   "execution_count": 14,
   "metadata": {},
   "outputs": [
    {
     "data": {
      "image/svg+xml": [
       "<?xml version=\"1.0\" encoding=\"utf-8\"?>\n",
       "<svg xmlns=\"http://www.w3.org/2000/svg\" xmlns:xlink=\"http://www.w3.org/1999/xlink\" width=\"600\" height=\"400\" viewBox=\"0 0 2400 1600\">\n",
       "<defs>\n",
       "  <clipPath id=\"clip8100\">\n",
       "    <rect x=\"0\" y=\"0\" width=\"2400\" height=\"1600\"/>\n",
       "  </clipPath>\n",
       "</defs>\n",
       "<path clip-path=\"url(#clip8100)\" d=\"\n",
       "M0 1600 L2400 1600 L2400 0 L0 0  Z\n",
       "  \" fill=\"#ffffff\" fill-rule=\"evenodd\" fill-opacity=\"1\"/>\n",
       "<defs>\n",
       "  <clipPath id=\"clip8101\">\n",
       "    <rect x=\"480\" y=\"0\" width=\"1681\" height=\"1600\"/>\n",
       "  </clipPath>\n",
       "</defs>\n",
       "<path clip-path=\"url(#clip8100)\" d=\"\n",
       "M148.334 686.448 L912.756 686.448 L912.756 123.472 L148.334 123.472  Z\n",
       "  \" fill=\"#ffffff\" fill-rule=\"evenodd\" fill-opacity=\"1\"/>\n",
       "<defs>\n",
       "  <clipPath id=\"clip8102\">\n",
       "    <rect x=\"148\" y=\"123\" width=\"765\" height=\"564\"/>\n",
       "  </clipPath>\n",
       "</defs>\n",
       "<polyline clip-path=\"url(#clip8102)\" style=\"stroke:#000000; stroke-width:2; stroke-opacity:0.1; fill:none\" points=\"\n",
       "  148.334,686.448 148.334,123.472 \n",
       "  \"/>\n",
       "<polyline clip-path=\"url(#clip8102)\" style=\"stroke:#000000; stroke-width:2; stroke-opacity:0.1; fill:none\" points=\"\n",
       "  301.219,686.448 301.219,123.472 \n",
       "  \"/>\n",
       "<polyline clip-path=\"url(#clip8102)\" style=\"stroke:#000000; stroke-width:2; stroke-opacity:0.1; fill:none\" points=\"\n",
       "  454.103,686.448 454.103,123.472 \n",
       "  \"/>\n",
       "<polyline clip-path=\"url(#clip8102)\" style=\"stroke:#000000; stroke-width:2; stroke-opacity:0.1; fill:none\" points=\"\n",
       "  606.987,686.448 606.987,123.472 \n",
       "  \"/>\n",
       "<polyline clip-path=\"url(#clip8102)\" style=\"stroke:#000000; stroke-width:2; stroke-opacity:0.1; fill:none\" points=\"\n",
       "  759.872,686.448 759.872,123.472 \n",
       "  \"/>\n",
       "<polyline clip-path=\"url(#clip8102)\" style=\"stroke:#000000; stroke-width:2; stroke-opacity:0.1; fill:none\" points=\"\n",
       "  912.756,686.448 912.756,123.472 \n",
       "  \"/>\n",
       "<polyline clip-path=\"url(#clip8102)\" style=\"stroke:#000000; stroke-width:2; stroke-opacity:0.1; fill:none\" points=\"\n",
       "  148.334,686.448 912.756,686.448 \n",
       "  \"/>\n",
       "<polyline clip-path=\"url(#clip8102)\" style=\"stroke:#000000; stroke-width:2; stroke-opacity:0.1; fill:none\" points=\"\n",
       "  148.334,573.853 912.756,573.853 \n",
       "  \"/>\n",
       "<polyline clip-path=\"url(#clip8102)\" style=\"stroke:#000000; stroke-width:2; stroke-opacity:0.1; fill:none\" points=\"\n",
       "  148.334,461.258 912.756,461.258 \n",
       "  \"/>\n",
       "<polyline clip-path=\"url(#clip8102)\" style=\"stroke:#000000; stroke-width:2; stroke-opacity:0.1; fill:none\" points=\"\n",
       "  148.334,348.662 912.756,348.662 \n",
       "  \"/>\n",
       "<polyline clip-path=\"url(#clip8102)\" style=\"stroke:#000000; stroke-width:2; stroke-opacity:0.1; fill:none\" points=\"\n",
       "  148.334,236.067 912.756,236.067 \n",
       "  \"/>\n",
       "<polyline clip-path=\"url(#clip8102)\" style=\"stroke:#000000; stroke-width:2; stroke-opacity:0.1; fill:none\" points=\"\n",
       "  148.334,123.472 912.756,123.472 \n",
       "  \"/>\n",
       "<polyline clip-path=\"url(#clip8100)\" style=\"stroke:#000000; stroke-width:4; stroke-opacity:1; fill:none\" points=\"\n",
       "  148.334,686.448 912.756,686.448 \n",
       "  \"/>\n",
       "<polyline clip-path=\"url(#clip8100)\" style=\"stroke:#000000; stroke-width:4; stroke-opacity:1; fill:none\" points=\"\n",
       "  148.334,686.448 148.334,123.472 \n",
       "  \"/>\n",
       "<polyline clip-path=\"url(#clip8100)\" style=\"stroke:#000000; stroke-width:4; stroke-opacity:1; fill:none\" points=\"\n",
       "  148.334,686.448 148.334,679.692 \n",
       "  \"/>\n",
       "<polyline clip-path=\"url(#clip8100)\" style=\"stroke:#000000; stroke-width:4; stroke-opacity:1; fill:none\" points=\"\n",
       "  301.219,686.448 301.219,679.692 \n",
       "  \"/>\n",
       "<polyline clip-path=\"url(#clip8100)\" style=\"stroke:#000000; stroke-width:4; stroke-opacity:1; fill:none\" points=\"\n",
       "  454.103,686.448 454.103,679.692 \n",
       "  \"/>\n",
       "<polyline clip-path=\"url(#clip8100)\" style=\"stroke:#000000; stroke-width:4; stroke-opacity:1; fill:none\" points=\"\n",
       "  606.987,686.448 606.987,679.692 \n",
       "  \"/>\n",
       "<polyline clip-path=\"url(#clip8100)\" style=\"stroke:#000000; stroke-width:4; stroke-opacity:1; fill:none\" points=\"\n",
       "  759.872,686.448 759.872,679.692 \n",
       "  \"/>\n",
       "<polyline clip-path=\"url(#clip8100)\" style=\"stroke:#000000; stroke-width:4; stroke-opacity:1; fill:none\" points=\"\n",
       "  912.756,686.448 912.756,679.692 \n",
       "  \"/>\n",
       "<polyline clip-path=\"url(#clip8100)\" style=\"stroke:#000000; stroke-width:4; stroke-opacity:1; fill:none\" points=\"\n",
       "  148.334,686.448 157.507,686.448 \n",
       "  \"/>\n",
       "<polyline clip-path=\"url(#clip8100)\" style=\"stroke:#000000; stroke-width:4; stroke-opacity:1; fill:none\" points=\"\n",
       "  148.334,573.853 157.507,573.853 \n",
       "  \"/>\n",
       "<polyline clip-path=\"url(#clip8100)\" style=\"stroke:#000000; stroke-width:4; stroke-opacity:1; fill:none\" points=\"\n",
       "  148.334,461.258 157.507,461.258 \n",
       "  \"/>\n",
       "<polyline clip-path=\"url(#clip8100)\" style=\"stroke:#000000; stroke-width:4; stroke-opacity:1; fill:none\" points=\"\n",
       "  148.334,348.662 157.507,348.662 \n",
       "  \"/>\n",
       "<polyline clip-path=\"url(#clip8100)\" style=\"stroke:#000000; stroke-width:4; stroke-opacity:1; fill:none\" points=\"\n",
       "  148.334,236.067 157.507,236.067 \n",
       "  \"/>\n",
       "<polyline clip-path=\"url(#clip8100)\" style=\"stroke:#000000; stroke-width:4; stroke-opacity:1; fill:none\" points=\"\n",
       "  148.334,123.472 157.507,123.472 \n",
       "  \"/>\n",
       "<path clip-path=\"url(#clip8100)\" d=\"M 0 0 M129.851 708.439 Q126.24 708.439 124.411 712.003 Q122.605 715.545 122.605 722.675 Q122.605 729.781 124.411 733.346 Q126.24 736.887 129.851 736.887 Q133.485 736.887 135.29 733.346 Q137.119 729.781 137.119 722.675 Q137.119 715.545 135.29 712.003 Q133.485 708.439 129.851 708.439 M129.851 704.735 Q135.661 704.735 138.716 709.341 Q141.795 713.925 141.795 722.675 Q141.795 731.401 138.716 736.008 Q135.661 740.591 129.851 740.591 Q124.041 740.591 120.962 736.008 Q117.906 731.401 117.906 722.675 Q117.906 713.925 120.962 709.341 Q124.041 704.735 129.851 704.735 Z\" fill=\"#000000\" fill-rule=\"evenodd\" fill-opacity=\"1\" /><path clip-path=\"url(#clip8100)\" d=\"M 0 0 M146.864 734.04 L151.749 734.04 L151.749 739.92 L146.864 739.92 L146.864 734.04 Z\" fill=\"#000000\" fill-rule=\"evenodd\" fill-opacity=\"1\" /><path clip-path=\"url(#clip8100)\" d=\"M 0 0 M166.818 708.439 Q163.207 708.439 161.378 712.003 Q159.573 715.545 159.573 722.675 Q159.573 729.781 161.378 733.346 Q163.207 736.887 166.818 736.887 Q170.452 736.887 172.258 733.346 Q174.087 729.781 174.087 722.675 Q174.087 715.545 172.258 712.003 Q170.452 708.439 166.818 708.439 M166.818 704.735 Q172.628 704.735 175.684 709.341 Q178.762 713.925 178.762 722.675 Q178.762 731.401 175.684 736.008 Q172.628 740.591 166.818 740.591 Q161.008 740.591 157.929 736.008 Q154.874 731.401 154.874 722.675 Q154.874 713.925 157.929 709.341 Q161.008 704.735 166.818 704.735 Z\" fill=\"#000000\" fill-rule=\"evenodd\" fill-opacity=\"1\" /><path clip-path=\"url(#clip8100)\" d=\"M 0 0 M283.534 708.439 Q279.923 708.439 278.094 712.003 Q276.288 715.545 276.288 722.675 Q276.288 729.781 278.094 733.346 Q279.923 736.887 283.534 736.887 Q287.168 736.887 288.973 733.346 Q290.802 729.781 290.802 722.675 Q290.802 715.545 288.973 712.003 Q287.168 708.439 283.534 708.439 M283.534 704.735 Q289.344 704.735 292.399 709.341 Q295.478 713.925 295.478 722.675 Q295.478 731.401 292.399 736.008 Q289.344 740.591 283.534 740.591 Q277.723 740.591 274.645 736.008 Q271.589 731.401 271.589 722.675 Q271.589 713.925 274.645 709.341 Q277.723 704.735 283.534 704.735 Z\" fill=\"#000000\" fill-rule=\"evenodd\" fill-opacity=\"1\" /><path clip-path=\"url(#clip8100)\" d=\"M 0 0 M300.547 734.04 L305.432 734.04 L305.432 739.92 L300.547 739.92 L300.547 734.04 Z\" fill=\"#000000\" fill-rule=\"evenodd\" fill-opacity=\"1\" /><path clip-path=\"url(#clip8100)\" d=\"M 0 0 M314.529 735.985 L330.848 735.985 L330.848 739.92 L308.904 739.92 L308.904 735.985 Q311.566 733.23 316.149 728.6 Q320.756 723.948 321.936 722.605 Q324.182 720.082 325.061 718.346 Q325.964 716.587 325.964 714.897 Q325.964 712.142 324.019 710.406 Q322.098 708.67 318.996 708.67 Q316.797 708.67 314.344 709.434 Q311.913 710.198 309.135 711.749 L309.135 707.027 Q311.959 705.892 314.413 705.314 Q316.867 704.735 318.904 704.735 Q324.274 704.735 327.469 707.42 Q330.663 710.105 330.663 714.596 Q330.663 716.726 329.853 718.647 Q329.066 720.545 326.959 723.138 Q326.381 723.809 323.279 727.026 Q320.177 730.221 314.529 735.985 Z\" fill=\"#000000\" fill-rule=\"evenodd\" fill-opacity=\"1\" /><path clip-path=\"url(#clip8100)\" d=\"M 0 0 M435.376 708.439 Q431.765 708.439 429.936 712.003 Q428.131 715.545 428.131 722.675 Q428.131 729.781 429.936 733.346 Q431.765 736.887 435.376 736.887 Q439.01 736.887 440.816 733.346 Q442.645 729.781 442.645 722.675 Q442.645 715.545 440.816 712.003 Q439.01 708.439 435.376 708.439 M435.376 704.735 Q441.186 704.735 444.242 709.341 Q447.321 713.925 447.321 722.675 Q447.321 731.401 444.242 736.008 Q441.186 740.591 435.376 740.591 Q429.566 740.591 426.487 736.008 Q423.432 731.401 423.432 722.675 Q423.432 713.925 426.487 709.341 Q429.566 704.735 435.376 704.735 Z\" fill=\"#000000\" fill-rule=\"evenodd\" fill-opacity=\"1\" /><path clip-path=\"url(#clip8100)\" d=\"M 0 0 M452.39 734.04 L457.274 734.04 L457.274 739.92 L452.39 739.92 L452.39 734.04 Z\" fill=\"#000000\" fill-rule=\"evenodd\" fill-opacity=\"1\" /><path clip-path=\"url(#clip8100)\" d=\"M 0 0 M475.191 709.434 L463.385 727.883 L475.191 727.883 L475.191 709.434 M473.964 705.36 L479.844 705.36 L479.844 727.883 L484.774 727.883 L484.774 731.772 L479.844 731.772 L479.844 739.92 L475.191 739.92 L475.191 731.772 L459.589 731.772 L459.589 727.258 L473.964 705.36 Z\" fill=\"#000000\" fill-rule=\"evenodd\" fill-opacity=\"1\" /><path clip-path=\"url(#clip8100)\" d=\"M 0 0 M588.423 708.439 Q584.811 708.439 582.983 712.003 Q581.177 715.545 581.177 722.675 Q581.177 729.781 582.983 733.346 Q584.811 736.887 588.423 736.887 Q592.057 736.887 593.862 733.346 Q595.691 729.781 595.691 722.675 Q595.691 715.545 593.862 712.003 Q592.057 708.439 588.423 708.439 M588.423 704.735 Q594.233 704.735 597.288 709.341 Q600.367 713.925 600.367 722.675 Q600.367 731.401 597.288 736.008 Q594.233 740.591 588.423 740.591 Q582.612 740.591 579.534 736.008 Q576.478 731.401 576.478 722.675 Q576.478 713.925 579.534 709.341 Q582.612 704.735 588.423 704.735 Z\" fill=\"#000000\" fill-rule=\"evenodd\" fill-opacity=\"1\" /><path clip-path=\"url(#clip8100)\" d=\"M 0 0 M605.436 734.04 L610.321 734.04 L610.321 739.92 L605.436 739.92 L605.436 734.04 Z\" fill=\"#000000\" fill-rule=\"evenodd\" fill-opacity=\"1\" /><path clip-path=\"url(#clip8100)\" d=\"M 0 0 M625.969 720.776 Q622.821 720.776 620.969 722.929 Q619.14 725.082 619.14 728.832 Q619.14 732.559 620.969 734.735 Q622.821 736.887 625.969 736.887 Q629.117 736.887 630.946 734.735 Q632.797 732.559 632.797 728.832 Q632.797 725.082 630.946 722.929 Q629.117 720.776 625.969 720.776 M635.251 706.124 L635.251 710.383 Q633.492 709.55 631.686 709.11 Q629.904 708.67 628.145 708.67 Q623.515 708.67 621.061 711.795 Q618.631 714.92 618.284 721.239 Q619.649 719.226 621.709 718.161 Q623.77 717.073 626.246 717.073 Q631.455 717.073 634.464 720.244 Q637.496 723.392 637.496 728.832 Q637.496 734.156 634.348 737.374 Q631.2 740.591 625.969 740.591 Q619.973 740.591 616.802 736.008 Q613.631 731.401 613.631 722.675 Q613.631 714.48 617.52 709.619 Q621.409 704.735 627.959 704.735 Q629.719 704.735 631.501 705.082 Q633.307 705.429 635.251 706.124 Z\" fill=\"#000000\" fill-rule=\"evenodd\" fill-opacity=\"1\" /><path clip-path=\"url(#clip8100)\" d=\"M 0 0 M741.434 708.439 Q737.823 708.439 735.994 712.003 Q734.189 715.545 734.189 722.675 Q734.189 729.781 735.994 733.346 Q737.823 736.887 741.434 736.887 Q745.068 736.887 746.874 733.346 Q748.703 729.781 748.703 722.675 Q748.703 715.545 746.874 712.003 Q745.068 708.439 741.434 708.439 M741.434 704.735 Q747.244 704.735 750.3 709.341 Q753.379 713.925 753.379 722.675 Q753.379 731.401 750.3 736.008 Q747.244 740.591 741.434 740.591 Q735.624 740.591 732.545 736.008 Q729.49 731.401 729.49 722.675 Q729.49 713.925 732.545 709.341 Q735.624 704.735 741.434 704.735 Z\" fill=\"#000000\" fill-rule=\"evenodd\" fill-opacity=\"1\" /><path clip-path=\"url(#clip8100)\" d=\"M 0 0 M758.448 734.04 L763.332 734.04 L763.332 739.92 L758.448 739.92 L758.448 734.04 Z\" fill=\"#000000\" fill-rule=\"evenodd\" fill-opacity=\"1\" /><path clip-path=\"url(#clip8100)\" d=\"M 0 0 M778.402 723.508 Q775.068 723.508 773.147 725.29 Q771.249 727.073 771.249 730.198 Q771.249 733.323 773.147 735.105 Q775.068 736.887 778.402 736.887 Q781.735 736.887 783.656 735.105 Q785.577 733.3 785.577 730.198 Q785.577 727.073 783.656 725.29 Q781.758 723.508 778.402 723.508 M773.726 721.517 Q770.716 720.776 769.027 718.716 Q767.36 716.656 767.36 713.693 Q767.36 709.55 770.3 707.142 Q773.263 704.735 778.402 704.735 Q783.564 704.735 786.503 707.142 Q789.443 709.55 789.443 713.693 Q789.443 716.656 787.753 718.716 Q786.087 720.776 783.101 721.517 Q786.48 722.304 788.355 724.596 Q790.253 726.888 790.253 730.198 Q790.253 735.221 787.175 737.906 Q784.119 740.591 778.402 740.591 Q772.684 740.591 769.605 737.906 Q766.55 735.221 766.55 730.198 Q766.55 726.888 768.448 724.596 Q770.346 722.304 773.726 721.517 M772.013 714.133 Q772.013 716.818 773.679 718.323 Q775.369 719.827 778.402 719.827 Q781.411 719.827 783.101 718.323 Q784.814 716.818 784.814 714.133 Q784.814 711.448 783.101 709.943 Q781.411 708.439 778.402 708.439 Q775.369 708.439 773.679 709.943 Q772.013 711.448 772.013 714.133 Z\" fill=\"#000000\" fill-rule=\"evenodd\" fill-opacity=\"1\" /><path clip-path=\"url(#clip8100)\" d=\"M 0 0 M884.654 735.985 L892.293 735.985 L892.293 709.619 L883.983 711.286 L883.983 707.027 L892.247 705.36 L896.923 705.36 L896.923 735.985 L904.562 735.985 L904.562 739.92 L884.654 739.92 L884.654 735.985 Z\" fill=\"#000000\" fill-rule=\"evenodd\" fill-opacity=\"1\" /><path clip-path=\"url(#clip8100)\" d=\"M 0 0 M909.631 734.04 L914.515 734.04 L914.515 739.92 L909.631 739.92 L909.631 734.04 Z\" fill=\"#000000\" fill-rule=\"evenodd\" fill-opacity=\"1\" /><path clip-path=\"url(#clip8100)\" d=\"M 0 0 M929.585 708.439 Q925.973 708.439 924.145 712.003 Q922.339 715.545 922.339 722.675 Q922.339 729.781 924.145 733.346 Q925.973 736.887 929.585 736.887 Q933.219 736.887 935.024 733.346 Q936.853 729.781 936.853 722.675 Q936.853 715.545 935.024 712.003 Q933.219 708.439 929.585 708.439 M929.585 704.735 Q935.395 704.735 938.45 709.341 Q941.529 713.925 941.529 722.675 Q941.529 731.401 938.45 736.008 Q935.395 740.591 929.585 740.591 Q923.774 740.591 920.696 736.008 Q917.64 731.401 917.64 722.675 Q917.64 713.925 920.696 709.341 Q923.774 704.735 929.585 704.735 Z\" fill=\"#000000\" fill-rule=\"evenodd\" fill-opacity=\"1\" /><path clip-path=\"url(#clip8100)\" d=\"M 0 0 M75.4226 672.247 Q71.8115 672.247 69.9828 675.811 Q68.1773 679.353 68.1773 686.483 Q68.1773 693.589 69.9828 697.154 Q71.8115 700.695 75.4226 700.695 Q79.0569 700.695 80.8624 697.154 Q82.6911 693.589 82.6911 686.483 Q82.6911 679.353 80.8624 675.811 Q79.0569 672.247 75.4226 672.247 M75.4226 668.543 Q81.2328 668.543 84.2883 673.149 Q87.367 677.733 87.367 686.483 Q87.367 695.209 84.2883 699.816 Q81.2328 704.399 75.4226 704.399 Q69.6125 704.399 66.5338 699.816 Q63.4782 695.209 63.4782 686.483 Q63.4782 677.733 66.5338 673.149 Q69.6125 668.543 75.4226 668.543 Z\" fill=\"#000000\" fill-rule=\"evenodd\" fill-opacity=\"1\" /><path clip-path=\"url(#clip8100)\" d=\"M 0 0 M92.4364 697.848 L97.3206 697.848 L97.3206 703.728 L92.4364 703.728 L92.4364 697.848 Z\" fill=\"#000000\" fill-rule=\"evenodd\" fill-opacity=\"1\" /><path clip-path=\"url(#clip8100)\" d=\"M 0 0 M112.39 672.247 Q108.779 672.247 106.95 675.811 Q105.145 679.353 105.145 686.483 Q105.145 693.589 106.95 697.154 Q108.779 700.695 112.39 700.695 Q116.024 700.695 117.83 697.154 Q119.658 693.589 119.658 686.483 Q119.658 679.353 117.83 675.811 Q116.024 672.247 112.39 672.247 M112.39 668.543 Q118.2 668.543 121.256 673.149 Q124.334 677.733 124.334 686.483 Q124.334 695.209 121.256 699.816 Q118.2 704.399 112.39 704.399 Q106.58 704.399 103.501 699.816 Q100.446 695.209 100.446 686.483 Q100.446 677.733 103.501 673.149 Q106.58 668.543 112.39 668.543 Z\" fill=\"#000000\" fill-rule=\"evenodd\" fill-opacity=\"1\" /><path clip-path=\"url(#clip8100)\" d=\"M 0 0 M77.0198 559.651 Q73.4087 559.651 71.58 563.216 Q69.7745 566.758 69.7745 573.887 Q69.7745 580.994 71.58 584.559 Q73.4087 588.1 77.0198 588.1 Q80.6541 588.1 82.4596 584.559 Q84.2883 580.994 84.2883 573.887 Q84.2883 566.758 82.4596 563.216 Q80.6541 559.651 77.0198 559.651 M77.0198 555.948 Q82.83 555.948 85.8855 560.554 Q88.9642 565.137 88.9642 573.887 Q88.9642 582.614 85.8855 587.221 Q82.83 591.804 77.0198 591.804 Q71.2097 591.804 68.131 587.221 Q65.0754 582.614 65.0754 573.887 Q65.0754 565.137 68.131 560.554 Q71.2097 555.948 77.0198 555.948 Z\" fill=\"#000000\" fill-rule=\"evenodd\" fill-opacity=\"1\" /><path clip-path=\"url(#clip8100)\" d=\"M 0 0 M94.0336 585.253 L98.9179 585.253 L98.9179 591.133 L94.0336 591.133 L94.0336 585.253 Z\" fill=\"#000000\" fill-rule=\"evenodd\" fill-opacity=\"1\" /><path clip-path=\"url(#clip8100)\" d=\"M 0 0 M108.015 587.198 L124.334 587.198 L124.334 591.133 L102.39 591.133 L102.39 587.198 Q105.052 584.443 109.635 579.813 Q114.242 575.161 115.422 573.818 Q117.668 571.295 118.547 569.559 Q119.45 567.8 119.45 566.11 Q119.45 563.355 117.506 561.619 Q115.584 559.883 112.483 559.883 Q110.284 559.883 107.83 560.647 Q105.399 561.411 102.622 562.962 L102.622 558.239 Q105.446 557.105 107.899 556.526 Q110.353 555.948 112.39 555.948 Q117.76 555.948 120.955 558.633 Q124.149 561.318 124.149 565.809 Q124.149 567.938 123.339 569.86 Q122.552 571.758 120.446 574.35 Q119.867 575.022 116.765 578.239 Q113.663 581.434 108.015 587.198 Z\" fill=\"#000000\" fill-rule=\"evenodd\" fill-opacity=\"1\" /><path clip-path=\"url(#clip8100)\" d=\"M 0 0 M74.9365 447.056 Q71.3254 447.056 69.4967 450.621 Q67.6912 454.163 67.6912 461.292 Q67.6912 468.399 69.4967 471.964 Q71.3254 475.505 74.9365 475.505 Q78.5707 475.505 80.3763 471.964 Q82.205 468.399 82.205 461.292 Q82.205 454.163 80.3763 450.621 Q78.5707 447.056 74.9365 447.056 M74.9365 443.353 Q80.7467 443.353 83.8022 447.959 Q86.8809 452.542 86.8809 461.292 Q86.8809 470.019 83.8022 474.626 Q80.7467 479.209 74.9365 479.209 Q69.1264 479.209 66.0477 474.626 Q62.9921 470.019 62.9921 461.292 Q62.9921 452.542 66.0477 447.959 Q69.1264 443.353 74.9365 443.353 Z\" fill=\"#000000\" fill-rule=\"evenodd\" fill-opacity=\"1\" /><path clip-path=\"url(#clip8100)\" d=\"M 0 0 M91.9503 472.658 L96.8345 472.658 L96.8345 478.538 L91.9503 478.538 L91.9503 472.658 Z\" fill=\"#000000\" fill-rule=\"evenodd\" fill-opacity=\"1\" /><path clip-path=\"url(#clip8100)\" d=\"M 0 0 M114.751 448.052 L102.946 466.501 L114.751 466.501 L114.751 448.052 M113.524 443.978 L119.404 443.978 L119.404 466.501 L124.334 466.501 L124.334 470.389 L119.404 470.389 L119.404 478.538 L114.751 478.538 L114.751 470.389 L99.1493 470.389 L99.1493 465.876 L113.524 443.978 Z\" fill=\"#000000\" fill-rule=\"evenodd\" fill-opacity=\"1\" /><path clip-path=\"url(#clip8100)\" d=\"M 0 0 M75.2606 334.461 Q71.6495 334.461 69.8208 338.026 Q68.0152 341.568 68.0152 348.697 Q68.0152 355.804 69.8208 359.368 Q71.6495 362.91 75.2606 362.91 Q78.8948 362.91 80.7004 359.368 Q82.5291 355.804 82.5291 348.697 Q82.5291 341.568 80.7004 338.026 Q78.8948 334.461 75.2606 334.461 M75.2606 330.757 Q81.0707 330.757 84.1263 335.364 Q87.205 339.947 87.205 348.697 Q87.205 357.424 84.1263 362.03 Q81.0707 366.614 75.2606 366.614 Q69.4504 366.614 66.3717 362.03 Q63.3162 357.424 63.3162 348.697 Q63.3162 339.947 66.3717 335.364 Q69.4504 330.757 75.2606 330.757 Z\" fill=\"#000000\" fill-rule=\"evenodd\" fill-opacity=\"1\" /><path clip-path=\"url(#clip8100)\" d=\"M 0 0 M92.2744 360.063 L97.1586 360.063 L97.1586 365.942 L92.2744 365.942 L92.2744 360.063 Z\" fill=\"#000000\" fill-rule=\"evenodd\" fill-opacity=\"1\" /><path clip-path=\"url(#clip8100)\" d=\"M 0 0 M112.807 346.799 Q109.659 346.799 107.807 348.952 Q105.978 351.105 105.978 354.855 Q105.978 358.581 107.807 360.757 Q109.659 362.91 112.807 362.91 Q115.955 362.91 117.783 360.757 Q119.635 358.581 119.635 354.855 Q119.635 351.105 117.783 348.952 Q115.955 346.799 112.807 346.799 M122.089 332.146 L122.089 336.406 Q120.33 335.572 118.524 335.132 Q116.742 334.693 114.983 334.693 Q110.353 334.693 107.899 337.818 Q105.469 340.943 105.122 347.262 Q106.487 345.248 108.547 344.183 Q110.608 343.095 113.084 343.095 Q118.293 343.095 121.302 346.267 Q124.334 349.415 124.334 354.855 Q124.334 360.179 121.186 363.396 Q118.038 366.614 112.807 366.614 Q106.811 366.614 103.64 362.03 Q100.469 357.424 100.469 348.697 Q100.469 340.503 104.358 335.642 Q108.247 330.757 114.797 330.757 Q116.557 330.757 118.339 331.105 Q120.145 331.452 122.089 332.146 Z\" fill=\"#000000\" fill-rule=\"evenodd\" fill-opacity=\"1\" /><path clip-path=\"url(#clip8100)\" d=\"M 0 0 M75.5152 221.866 Q71.9041 221.866 70.0754 225.431 Q68.2699 228.972 68.2699 236.102 Q68.2699 243.208 70.0754 246.773 Q71.9041 250.315 75.5152 250.315 Q79.1494 250.315 80.955 246.773 Q82.7837 243.208 82.7837 236.102 Q82.7837 228.972 80.955 225.431 Q79.1494 221.866 75.5152 221.866 M75.5152 218.162 Q81.3254 218.162 84.3809 222.769 Q87.4596 227.352 87.4596 236.102 Q87.4596 244.829 84.3809 249.435 Q81.3254 254.019 75.5152 254.019 Q69.7051 254.019 66.6264 249.435 Q63.5708 244.829 63.5708 236.102 Q63.5708 227.352 66.6264 222.769 Q69.7051 218.162 75.5152 218.162 Z\" fill=\"#000000\" fill-rule=\"evenodd\" fill-opacity=\"1\" /><path clip-path=\"url(#clip8100)\" d=\"M 0 0 M92.529 247.468 L97.4132 247.468 L97.4132 253.347 L92.529 253.347 L92.529 247.468 Z\" fill=\"#000000\" fill-rule=\"evenodd\" fill-opacity=\"1\" /><path clip-path=\"url(#clip8100)\" d=\"M 0 0 M112.483 236.935 Q109.149 236.935 107.228 238.718 Q105.33 240.5 105.33 243.625 Q105.33 246.75 107.228 248.532 Q109.149 250.315 112.483 250.315 Q115.816 250.315 117.737 248.532 Q119.658 246.727 119.658 243.625 Q119.658 240.5 117.737 238.718 Q115.839 236.935 112.483 236.935 M107.807 234.945 Q104.797 234.204 103.108 232.144 Q101.441 230.084 101.441 227.121 Q101.441 222.977 104.381 220.57 Q107.344 218.162 112.483 218.162 Q117.645 218.162 120.584 220.57 Q123.524 222.977 123.524 227.121 Q123.524 230.084 121.834 232.144 Q120.168 234.204 117.182 234.945 Q120.561 235.732 122.436 238.023 Q124.334 240.315 124.334 243.625 Q124.334 248.648 121.256 251.333 Q118.2 254.019 112.483 254.019 Q106.765 254.019 103.686 251.333 Q100.631 248.648 100.631 243.625 Q100.631 240.315 102.529 238.023 Q104.427 235.732 107.807 234.945 M106.094 227.56 Q106.094 230.246 107.76 231.75 Q109.45 233.255 112.483 233.255 Q115.492 233.255 117.182 231.75 Q118.895 230.246 118.895 227.56 Q118.895 224.875 117.182 223.371 Q115.492 221.866 112.483 221.866 Q109.45 221.866 107.76 223.371 Q106.094 224.875 106.094 227.56 Z\" fill=\"#000000\" fill-rule=\"evenodd\" fill-opacity=\"1\" /><path clip-path=\"url(#clip8100)\" d=\"M 0 0 M67.4597 136.817 L75.0985 136.817 L75.0985 110.451 L66.7884 112.118 L66.7884 107.859 L75.0522 106.192 L79.7281 106.192 L79.7281 136.817 L87.367 136.817 L87.367 140.752 L67.4597 140.752 L67.4597 136.817 Z\" fill=\"#000000\" fill-rule=\"evenodd\" fill-opacity=\"1\" /><path clip-path=\"url(#clip8100)\" d=\"M 0 0 M92.4364 134.873 L97.3206 134.873 L97.3206 140.752 L92.4364 140.752 L92.4364 134.873 Z\" fill=\"#000000\" fill-rule=\"evenodd\" fill-opacity=\"1\" /><path clip-path=\"url(#clip8100)\" d=\"M 0 0 M112.39 109.271 Q108.779 109.271 106.95 112.836 Q105.145 116.377 105.145 123.507 Q105.145 130.613 106.95 134.178 Q108.779 137.72 112.39 137.72 Q116.024 137.72 117.83 134.178 Q119.658 130.613 119.658 123.507 Q119.658 116.377 117.83 112.836 Q116.024 109.271 112.39 109.271 M112.39 105.567 Q118.2 105.567 121.256 110.174 Q124.334 114.757 124.334 123.507 Q124.334 132.234 121.256 136.84 Q118.2 141.423 112.39 141.423 Q106.58 141.423 103.501 136.84 Q100.446 132.234 100.446 123.507 Q100.446 114.757 103.501 110.174 Q106.58 105.567 112.39 105.567 Z\" fill=\"#000000\" fill-rule=\"evenodd\" fill-opacity=\"1\" /><path clip-path=\"url(#clip8100)\" d=\"M 0 0 M416.33 49.7694 Q407.296 49.7694 403.813 51.8354 Q400.329 53.9013 400.329 58.8839 Q400.329 62.8538 402.921 65.2034 Q405.554 67.5124 410.051 67.5124 Q416.249 67.5124 419.976 63.1374 Q423.743 58.7219 423.743 51.4303 L423.743 49.7694 L416.33 49.7694 M431.197 46.6907 L431.197 72.576 L423.743 72.576 L423.743 65.6895 Q421.191 69.8214 417.383 71.8063 Q413.575 73.7508 408.066 73.7508 Q401.099 73.7508 396.967 69.8619 Q392.875 65.9325 392.875 59.3701 Q392.875 51.7138 397.979 47.825 Q403.124 43.9361 413.292 43.9361 L423.743 43.9361 L423.743 43.2069 Q423.743 38.0623 420.34 35.2672 Q416.978 32.4315 410.861 32.4315 Q406.972 32.4315 403.286 33.3632 Q399.6 34.295 396.197 36.1584 L396.197 29.2718 Q400.288 27.692 404.137 26.9223 Q407.985 26.1121 411.631 26.1121 Q421.475 26.1121 426.336 31.2163 Q431.197 36.3204 431.197 46.6907 Z\" fill=\"#000000\" fill-rule=\"evenodd\" fill-opacity=\"1\" /><path clip-path=\"url(#clip8100)\" d=\"M 0 0 M476.729 45.1919 L476.729 72.576 L469.275 72.576 L469.275 45.4349 Q469.275 38.994 466.764 35.7938 Q464.252 32.5936 459.229 32.5936 Q453.193 32.5936 449.709 36.4419 Q446.226 40.2903 446.226 46.9338 L446.226 72.576 L438.731 72.576 L438.731 27.2059 L446.226 27.2059 L446.226 34.2544 Q448.899 30.163 452.504 28.1376 Q456.15 26.1121 460.89 26.1121 Q468.708 26.1121 472.718 30.9732 Q476.729 35.7938 476.729 45.1919 Z\" fill=\"#000000\" fill-rule=\"evenodd\" fill-opacity=\"1\" /><path clip-path=\"url(#clip8100)\" d=\"M 0 0 M505.166 49.7694 Q496.133 49.7694 492.649 51.8354 Q489.165 53.9013 489.165 58.8839 Q489.165 62.8538 491.758 65.2034 Q494.391 67.5124 498.887 67.5124 Q505.085 67.5124 508.812 63.1374 Q512.579 58.7219 512.579 51.4303 L512.579 49.7694 L505.166 49.7694 M520.033 46.6907 L520.033 72.576 L512.579 72.576 L512.579 65.6895 Q510.027 69.8214 506.219 71.8063 Q502.412 73.7508 496.902 73.7508 Q489.935 73.7508 485.803 69.8619 Q481.711 65.9325 481.711 59.3701 Q481.711 51.7138 486.816 47.825 Q491.96 43.9361 502.128 43.9361 L512.579 43.9361 L512.579 43.2069 Q512.579 38.0623 509.177 35.2672 Q505.814 32.4315 499.698 32.4315 Q495.809 32.4315 492.122 33.3632 Q488.436 34.295 485.033 36.1584 L485.033 29.2718 Q489.125 27.692 492.973 26.9223 Q496.821 26.1121 500.467 26.1121 Q510.311 26.1121 515.172 31.2163 Q520.033 36.3204 520.033 46.6907 Z\" fill=\"#000000\" fill-rule=\"evenodd\" fill-opacity=\"1\" /><path clip-path=\"url(#clip8100)\" d=\"M 0 0 M527.851 9.54393 L535.305 9.54393 L535.305 72.576 L527.851 72.576 L527.851 9.54393 Z\" fill=\"#000000\" fill-rule=\"evenodd\" fill-opacity=\"1\" /><path clip-path=\"url(#clip8100)\" d=\"M 0 0 M562 76.7889 Q558.841 84.8907 555.843 87.3618 Q552.845 89.8329 547.822 89.8329 L541.867 89.8329 L541.867 83.5945 L546.242 83.5945 Q549.321 83.5945 551.022 82.1361 Q552.724 80.6778 554.79 75.2496 L556.127 71.8468 L537.776 27.2059 L545.675 27.2059 L559.853 62.6918 L574.032 27.2059 L581.931 27.2059 L562 76.7889 Z\" fill=\"#000000\" fill-rule=\"evenodd\" fill-opacity=\"1\" /><path clip-path=\"url(#clip8100)\" d=\"M 0 0 M597.122 14.324 L597.122 27.2059 L612.475 27.2059 L612.475 32.9987 L597.122 32.9987 L597.122 57.6282 Q597.122 63.1779 598.621 64.7578 Q600.16 66.3376 604.818 66.3376 L612.475 66.3376 L612.475 72.576 L604.818 72.576 Q596.19 72.576 592.909 69.3758 Q589.628 66.1351 589.628 57.6282 L589.628 32.9987 L584.159 32.9987 L584.159 27.2059 L589.628 27.2059 L589.628 14.324 L597.122 14.324 Z\" fill=\"#000000\" fill-rule=\"evenodd\" fill-opacity=\"1\" /><path clip-path=\"url(#clip8100)\" d=\"M 0 0 M620.293 27.2059 L627.747 27.2059 L627.747 72.576 L620.293 72.576 L620.293 27.2059 M620.293 9.54393 L627.747 9.54393 L627.747 18.9825 L620.293 18.9825 L620.293 9.54393 Z\" fill=\"#000000\" fill-rule=\"evenodd\" fill-opacity=\"1\" /><path clip-path=\"url(#clip8100)\" d=\"M 0 0 M668.215 28.9478 L668.215 35.9153 Q665.055 34.1734 661.855 33.3227 Q658.696 32.4315 655.455 32.4315 Q648.204 32.4315 644.193 37.0496 Q640.183 41.6271 640.183 49.9314 Q640.183 58.2358 644.193 62.8538 Q648.204 67.4314 655.455 67.4314 Q658.696 67.4314 661.855 66.5807 Q665.055 65.6895 668.215 63.9476 L668.215 70.8341 Q665.096 72.2924 661.734 73.0216 Q658.412 73.7508 654.645 73.7508 Q644.396 73.7508 638.36 67.3098 Q632.324 60.8689 632.324 49.9314 Q632.324 38.832 638.4 32.472 Q644.517 26.1121 655.131 26.1121 Q658.574 26.1121 661.855 26.8413 Q665.136 27.5299 668.215 28.9478 Z\" fill=\"#000000\" fill-rule=\"evenodd\" fill-opacity=\"1\" /><path clip-path=\"url(#clip8102)\" d=\"\n",
       "M148.334 686.448 L148.334 686.448 L155.979 686.448 L163.623 686.448 L171.267 686.448 L178.911 686.448 L186.555 686.448 L194.2 686.448 L201.844 686.448 L209.488 686.448 \n",
       "  L217.132 686.448 L224.777 686.448 L232.421 686.448 L240.065 686.448 L247.709 686.448 L255.353 686.448 L262.998 686.448 L270.642 686.448 L278.286 686.448 L285.93 686.448 \n",
       "  L293.574 686.448 L301.219 686.448 L308.863 686.448 L316.507 686.448 L324.151 686.448 L331.796 686.448 L339.44 686.448 L347.084 686.448 L354.728 686.448 L362.372 686.448 \n",
       "  L370.017 686.448 L377.661 686.448 L385.305 686.448 L392.949 686.448 L400.593 686.448 L408.238 686.448 L415.882 686.448 L423.526 686.448 L431.17 686.448 L438.815 686.448 \n",
       "  L446.459 686.448 L454.103 686.448 L461.747 686.448 L469.391 686.448 L477.036 686.448 L484.68 686.448 L492.324 686.448 L499.968 686.448 L507.613 686.448 L515.257 686.448 \n",
       "  L522.901 686.448 L530.545 686.448 L538.189 686.448 L545.834 686.448 L553.478 686.448 L561.122 686.448 L568.766 686.448 L576.41 686.448 L584.055 686.448 L591.699 686.448 \n",
       "  L599.343 686.448 L606.987 686.448 L614.632 686.448 L622.276 686.448 L629.92 686.448 L637.564 686.448 L645.208 686.448 L652.853 686.448 L660.497 686.448 L668.141 686.448 \n",
       "  L675.785 686.448 L683.429 686.448 L691.074 686.448 L698.718 686.448 L706.362 686.448 L714.006 686.448 L721.651 686.448 L729.295 686.448 L736.939 686.448 L744.583 686.448 \n",
       "  L752.227 686.448 L759.872 686.448 L767.516 686.448 L775.16 686.448 L782.804 686.448 L790.448 686.448 L798.093 686.448 L805.737 686.448 L813.381 686.448 L821.025 686.448 \n",
       "  L828.67 686.448 L836.314 686.448 L843.958 686.448 L851.602 686.448 L859.246 686.448 L866.891 686.448 L874.535 686.448 L882.179 686.448 L889.823 686.448 L897.467 686.448 \n",
       "  L905.112 686.448 L912.756 686.448 L912.756 686.448 L912.756 686.448 L912.756 686.448 L912.756 680.818 L912.756 675.188 L912.756 669.559 L912.756 663.929 L912.756 658.299 \n",
       "  L912.756 652.669 L912.756 647.04 L912.756 641.41 L912.756 635.78 L912.756 630.15 L912.756 624.521 L912.756 618.891 L912.756 613.261 L912.756 607.631 L912.756 602.002 \n",
       "  L912.756 596.372 L912.756 590.742 L912.756 585.112 L912.756 579.482 L912.756 573.853 L912.756 568.223 L912.756 562.593 L912.756 556.963 L912.756 551.334 L912.756 545.704 \n",
       "  L912.756 540.074 L912.756 534.444 L912.756 528.815 L912.756 523.185 L912.756 517.555 L912.756 511.925 L912.756 506.296 L912.756 500.666 L912.756 495.036 L912.756 489.406 \n",
       "  L912.756 483.777 L912.756 478.147 L912.756 472.517 L912.756 466.887 L912.756 461.258 L912.756 455.628 L912.756 449.998 L912.756 444.368 L912.756 438.739 L912.756 433.109 \n",
       "  L912.756 427.479 L912.756 421.849 L912.756 416.22 L912.756 410.59 L912.756 404.96 L912.756 399.33 L912.756 393.7 L912.756 388.071 L912.756 382.441 L912.756 376.811 \n",
       "  L912.756 371.181 L912.756 365.552 L912.756 359.922 L912.756 354.292 L912.756 348.662 L912.756 343.033 L912.756 337.403 L912.756 331.773 L912.756 326.143 L912.756 320.514 \n",
       "  L912.756 314.884 L912.756 309.254 L912.756 303.624 L912.756 297.995 L912.756 292.365 L912.756 286.735 L912.756 281.105 L912.756 275.476 L912.756 269.846 L912.756 264.216 \n",
       "  L912.756 258.586 L912.756 252.957 L912.756 247.327 L912.756 241.697 L912.756 236.067 L912.756 230.438 L912.756 224.808 L912.756 219.178 L912.756 213.548 L912.756 207.918 \n",
       "  L912.756 202.289 L912.756 196.659 L912.756 191.029 L912.756 185.399 L912.756 179.77 L912.756 174.14 L912.756 168.51 L912.756 162.88 L912.756 157.251 L912.756 151.621 \n",
       "  L912.756 145.991 L912.756 140.361 L912.756 134.732 L912.756 129.102 L912.756 123.472 L912.756 123.472 L912.756 123.472 L912.756 123.472 L905.112 123.472 L897.467 123.472 \n",
       "  L889.823 123.472 L882.179 123.472 L874.535 123.472 L866.891 123.472 L859.246 123.472 L851.602 123.472 L843.958 123.472 L836.314 123.472 L828.67 123.472 L821.025 123.472 \n",
       "  L813.381 123.472 L805.737 123.472 L798.093 123.472 L790.448 123.472 L782.804 123.472 L775.16 123.472 L767.516 123.472 L759.872 123.472 L752.227 123.472 L744.583 123.472 \n",
       "  L736.939 123.472 L729.295 123.472 L721.651 123.472 L714.006 123.472 L706.362 123.472 L698.718 123.472 L691.074 123.472 L683.429 123.472 L675.785 123.472 L668.141 123.472 \n",
       "  L660.497 123.472 L652.853 123.472 L645.208 123.472 L637.564 123.472 L629.92 123.472 L622.276 123.472 L614.632 123.472 L606.987 123.472 L599.343 123.472 L591.699 123.472 \n",
       "  L584.055 123.472 L576.41 123.472 L568.766 123.472 L561.122 123.472 L553.478 123.472 L545.834 123.472 L538.189 123.472 L530.545 123.472 L522.901 123.472 L515.257 123.472 \n",
       "  L507.613 123.472 L499.968 123.472 L492.324 123.472 L484.68 123.472 L477.036 123.472 L469.391 123.472 L461.747 123.472 L454.103 123.472 L446.459 123.472 L438.815 123.472 \n",
       "  L431.17 123.472 L423.526 123.472 L415.882 123.472 L408.238 123.472 L400.593 123.472 L392.949 123.472 L385.305 123.472 L377.661 123.472 L370.017 123.472 L362.372 123.472 \n",
       "  L354.728 123.472 L347.084 123.472 L339.44 123.472 L331.796 123.472 L324.151 123.472 L316.507 123.472 L308.863 123.472 L301.219 123.472 L293.574 123.472 L285.93 123.472 \n",
       "  L278.286 123.472 L270.642 123.472 L262.998 123.472 L255.353 123.472 L247.709 123.472 L240.065 123.472 L232.421 123.472 L224.777 123.472 L217.132 123.472 L209.488 123.472 \n",
       "  L201.844 123.472 L194.2 123.472 L186.555 123.472 L178.911 123.472 L171.267 123.472 L163.623 123.472 L155.979 123.472 L148.334 123.472 L148.334 123.472 L148.334 123.472 \n",
       "  L148.334 123.472 L148.334 129.102 L148.334 134.732 L148.334 140.361 L148.334 145.991 L148.334 151.621 L148.334 157.251 L148.334 162.88 L148.334 168.51 L148.334 174.14 \n",
       "  L148.334 179.77 L148.334 185.399 L148.334 191.029 L148.334 196.659 L148.334 202.289 L148.334 207.918 L148.334 213.548 L148.334 219.178 L148.334 224.808 L148.334 230.438 \n",
       "  L148.334 236.067 L148.334 241.697 L148.334 247.327 L148.334 252.957 L148.334 258.586 L148.334 264.216 L148.334 269.846 L148.334 275.476 L148.334 281.105 L148.334 286.735 \n",
       "  L148.334 292.365 L148.334 297.995 L148.334 303.624 L148.334 309.254 L148.334 314.884 L148.334 320.514 L148.334 326.143 L148.334 331.773 L148.334 337.403 L148.334 343.033 \n",
       "  L148.334 348.662 L148.334 354.292 L148.334 359.922 L148.334 365.552 L148.334 371.181 L148.334 376.811 L148.334 382.441 L148.334 388.071 L148.334 393.7 L148.334 399.33 \n",
       "  L148.334 404.96 L148.334 410.59 L148.334 416.22 L148.334 421.849 L148.334 427.479 L148.334 433.109 L148.334 438.739 L148.334 444.368 L148.334 449.998 L148.334 455.628 \n",
       "  L148.334 461.258 L148.334 466.887 L148.334 472.517 L148.334 478.147 L148.334 483.777 L148.334 489.406 L148.334 495.036 L148.334 500.666 L148.334 506.296 L148.334 511.925 \n",
       "  L148.334 517.555 L148.334 523.185 L148.334 528.815 L148.334 534.444 L148.334 540.074 L148.334 545.704 L148.334 551.334 L148.334 556.963 L148.334 562.593 L148.334 568.223 \n",
       "  L148.334 573.853 L148.334 579.482 L148.334 585.112 L148.334 590.742 L148.334 596.372 L148.334 602.002 L148.334 607.631 L148.334 613.261 L148.334 618.891 L148.334 624.521 \n",
       "  L148.334 630.15 L148.334 635.78 L148.334 641.41 L148.334 647.04 L148.334 652.669 L148.334 658.299 L148.334 663.929 L148.334 669.559 L148.334 675.188 L148.334 680.818 \n",
       "  L148.334 686.448 L148.334 686.448 L148.334 686.448  Z\n",
       "  \" fill=\"#000003\" fill-rule=\"evenodd\" fill-opacity=\"1\"/>\n",
       "<path clip-path=\"url(#clip8102)\" d=\"\n",
       "M507.613 675.19 L515.257 675.218 L522.901 675.235 L530.545 675.24 L538.189 675.235 L545.834 675.218 L553.478 675.19 L553.896 675.188 L561.122 675.151 L568.766 675.101 \n",
       "  L576.41 675.038 L584.055 674.963 L591.699 674.876 L599.343 674.776 L606.987 674.662 L614.632 674.535 L622.276 674.392 L629.92 674.234 L637.564 674.059 L645.208 673.866 \n",
       "  L652.853 673.655 L660.497 673.423 L668.141 673.169 L675.785 672.892 L683.429 672.588 L691.074 672.257 L698.718 671.894 L706.362 671.498 L714.006 671.063 L721.651 670.587 \n",
       "  L729.295 670.063 L736.012 669.559 L736.939 669.486 L744.583 668.848 L752.227 668.141 L759.872 667.355 L767.516 666.478 L775.16 665.496 L782.804 664.389 L785.709 663.929 \n",
       "  L790.448 663.132 L798.093 661.696 L805.737 660.045 L812.746 658.299 L813.381 658.129 L821.025 655.871 L828.67 653.192 L830.005 652.669 L836.314 649.947 L842.044 647.04 \n",
       "  L843.958 645.956 L850.939 641.41 L851.602 640.922 L857.775 635.78 L859.246 634.37 L863.195 630.15 L866.891 625.504 L867.6 624.521 L871.238 618.891 L874.303 613.261 \n",
       "  L874.535 612.793 L876.905 607.631 L879.147 602.002 L881.097 596.372 L882.179 592.882 L882.804 590.742 L884.307 585.112 L885.641 579.482 L886.831 573.853 L887.898 568.223 \n",
       "  L888.858 562.593 L889.725 556.963 L889.823 556.281 L890.508 551.334 L891.219 545.704 L891.866 540.074 L892.456 534.444 L892.995 528.815 L893.487 523.185 L893.937 517.555 \n",
       "  L894.349 511.925 L894.726 506.296 L895.07 500.666 L895.385 495.036 L895.672 489.406 L895.934 483.777 L896.171 478.147 L896.386 472.517 L896.58 466.887 L896.753 461.258 \n",
       "  L896.908 455.628 L897.044 449.998 L897.162 444.368 L897.263 438.739 L897.348 433.109 L897.417 427.479 L897.467 422.158 L897.47 421.849 L897.508 416.22 L897.531 410.59 \n",
       "  L897.538 404.96 L897.531 399.33 L897.508 393.7 L897.47 388.071 L897.467 387.762 L897.417 382.441 L897.348 376.811 L897.263 371.181 L897.162 365.552 L897.044 359.922 \n",
       "  L896.908 354.292 L896.753 348.662 L896.58 343.033 L896.386 337.403 L896.171 331.773 L895.934 326.143 L895.672 320.514 L895.385 314.884 L895.07 309.254 L894.726 303.624 \n",
       "  L894.349 297.995 L893.937 292.365 L893.487 286.735 L892.995 281.105 L892.456 275.476 L891.866 269.846 L891.219 264.216 L890.508 258.586 L889.823 253.639 L889.725 252.957 \n",
       "  L888.858 247.327 L887.898 241.697 L886.831 236.067 L885.641 230.438 L884.307 224.808 L882.804 219.178 L882.179 217.038 L881.097 213.548 L879.147 207.918 L876.905 202.289 \n",
       "  L874.535 197.127 L874.303 196.659 L871.238 191.029 L867.6 185.399 L866.891 184.416 L863.195 179.77 L859.246 175.55 L857.775 174.14 L851.602 168.998 L850.939 168.51 \n",
       "  L843.958 163.964 L842.044 162.88 L836.314 159.973 L830.005 157.251 L828.67 156.728 L821.025 154.049 L813.381 151.791 L812.746 151.621 L805.737 149.875 L798.093 148.224 \n",
       "  L790.448 146.788 L785.709 145.991 L782.804 145.531 L775.16 144.424 L767.516 143.442 L759.872 142.565 L752.227 141.779 L744.583 141.072 L736.939 140.434 L736.012 140.361 \n",
       "  L729.295 139.857 L721.651 139.333 L714.006 138.857 L706.362 138.422 L698.718 138.026 L691.074 137.663 L683.429 137.332 L675.785 137.028 L668.141 136.751 L660.497 136.497 \n",
       "  L652.853 136.265 L645.208 136.054 L637.564 135.861 L629.92 135.686 L622.276 135.528 L614.632 135.385 L606.987 135.258 L599.343 135.144 L591.699 135.044 L584.055 134.957 \n",
       "  L576.41 134.882 L568.766 134.819 L561.122 134.769 L553.896 134.732 L553.478 134.73 L545.834 134.702 L538.189 134.685 L530.545 134.68 L522.901 134.685 L515.257 134.702 \n",
       "  L507.613 134.73 L507.194 134.732 L499.968 134.769 L492.324 134.819 L484.68 134.882 L477.036 134.957 L469.391 135.044 L461.747 135.144 L454.103 135.258 L446.459 135.385 \n",
       "  L438.815 135.528 L431.17 135.686 L423.526 135.861 L415.882 136.054 L408.238 136.265 L400.593 136.497 L392.949 136.751 L385.305 137.028 L377.661 137.332 L370.017 137.663 \n",
       "  L362.372 138.026 L354.728 138.422 L347.084 138.857 L339.44 139.333 L331.796 139.857 L325.078 140.361 L324.151 140.434 L316.507 141.072 L308.863 141.779 L301.219 142.565 \n",
       "  L293.574 143.442 L285.93 144.424 L278.286 145.531 L275.381 145.991 L270.642 146.788 L262.998 148.224 L255.353 149.875 L248.345 151.621 L247.709 151.791 L240.065 154.049 \n",
       "  L232.421 156.728 L231.085 157.251 L224.777 159.973 L219.046 162.88 L217.132 163.964 L210.151 168.51 L209.488 168.998 L203.315 174.14 L201.844 175.55 L197.896 179.77 \n",
       "  L194.2 184.416 L193.49 185.399 L189.852 191.029 L186.787 196.659 L186.555 197.127 L184.185 202.289 L181.943 207.918 L179.993 213.548 L178.911 217.038 L178.286 219.178 \n",
       "  L176.784 224.808 L175.45 230.438 L174.259 236.067 L173.192 241.697 L172.232 247.327 L171.365 252.957 L171.267 253.639 L170.582 258.586 L169.871 264.216 L169.224 269.846 \n",
       "  L168.634 275.476 L168.096 281.105 L167.603 286.735 L167.153 292.365 L166.741 297.995 L166.365 303.624 L166.02 309.254 L165.705 314.884 L165.418 320.514 L165.157 326.143 \n",
       "  L164.919 331.773 L164.704 337.403 L164.51 343.033 L164.337 348.662 L164.183 354.292 L164.047 359.922 L163.928 365.552 L163.827 371.181 L163.742 376.811 L163.673 382.441 \n",
       "  L163.623 387.762 L163.62 388.071 L163.582 393.7 L163.56 399.33 L163.552 404.96 L163.56 410.59 L163.582 416.22 L163.62 421.849 L163.623 422.158 L163.673 427.479 \n",
       "  L163.742 433.109 L163.827 438.739 L163.928 444.368 L164.047 449.998 L164.183 455.628 L164.337 461.258 L164.51 466.887 L164.704 472.517 L164.919 478.147 L165.157 483.777 \n",
       "  L165.418 489.406 L165.705 495.036 L166.02 500.666 L166.365 506.296 L166.741 511.925 L167.153 517.555 L167.603 523.185 L168.096 528.815 L168.634 534.444 L169.224 540.074 \n",
       "  L169.871 545.704 L170.582 551.334 L171.267 556.281 L171.365 556.963 L172.232 562.593 L173.192 568.223 L174.259 573.853 L175.45 579.482 L176.784 585.112 L178.286 590.742 \n",
       "  L178.911 592.882 L179.993 596.372 L181.943 602.002 L184.185 607.631 L186.555 612.793 L186.787 613.261 L189.852 618.891 L193.49 624.521 L194.2 625.504 L197.896 630.15 \n",
       "  L201.844 634.37 L203.315 635.78 L209.488 640.922 L210.151 641.41 L217.132 645.956 L219.046 647.04 L224.777 649.947 L231.085 652.669 L232.421 653.192 L240.065 655.871 \n",
       "  L247.709 658.129 L248.345 658.299 L255.353 660.045 L262.998 661.696 L270.642 663.132 L275.381 663.929 L278.286 664.389 L285.93 665.496 L293.574 666.478 L301.219 667.355 \n",
       "  L308.863 668.141 L316.507 668.848 L324.151 669.486 L325.078 669.559 L331.796 670.063 L339.44 670.587 L347.084 671.063 L354.728 671.498 L362.372 671.894 L370.017 672.257 \n",
       "  L377.661 672.588 L385.305 672.892 L392.949 673.169 L400.593 673.423 L408.238 673.655 L415.882 673.866 L423.526 674.059 L431.17 674.234 L438.815 674.392 L446.459 674.535 \n",
       "  L454.103 674.662 L461.747 674.776 L469.391 674.876 L477.036 674.963 L484.68 675.038 L492.324 675.101 L499.968 675.151 L507.194 675.188 L507.613 675.19  Z\n",
       "  \" fill=\"#0c0727\" fill-rule=\"evenodd\" fill-opacity=\"1\"/>\n",
       "<path clip-path=\"url(#clip8102)\" d=\"\n",
       "M515.257 663.944 L522.901 663.978 L530.545 663.989 L538.189 663.978 L545.834 663.944 L547.96 663.929 L553.478 663.888 L561.122 663.809 L568.766 663.707 L576.41 663.581 \n",
       "  L584.055 663.431 L591.699 663.255 L599.343 663.054 L606.987 662.825 L614.632 662.567 L622.276 662.28 L629.92 661.961 L637.564 661.609 L645.208 661.221 L652.853 660.795 \n",
       "  L660.497 660.328 L668.141 659.817 L675.785 659.259 L683.429 658.648 L687.466 658.299 L691.074 657.978 L698.718 657.245 L706.362 656.442 L714.006 655.563 L721.651 654.598 \n",
       "  L729.295 653.539 L735.038 652.669 L736.939 652.37 L744.583 651.073 L752.227 649.638 L759.872 648.043 L764.264 647.04 L767.516 646.257 L775.16 644.249 L782.804 641.987 \n",
       "  L784.599 641.41 L790.448 639.407 L798.093 636.459 L799.704 635.78 L805.737 633.045 L811.416 630.15 L813.381 629.065 L820.79 624.521 L821.025 624.363 L828.456 618.891 \n",
       "  L828.67 618.718 L834.841 613.261 L836.314 611.814 L840.244 607.631 L843.958 603.188 L844.88 602.002 L848.883 596.372 L851.602 592.064 L852.386 590.742 L855.457 585.112 \n",
       "  L858.184 579.482 L859.246 577.087 L860.608 573.853 L862.774 568.223 L864.724 562.593 L866.484 556.963 L866.891 555.564 L868.071 551.334 L869.51 545.704 L870.82 540.074 \n",
       "  L872.013 534.444 L873.103 528.815 L874.1 523.185 L874.535 520.528 L875.008 517.555 L875.838 511.925 L876.596 506.296 L877.29 500.666 L877.924 495.036 L878.503 489.406 \n",
       "  L879.029 483.777 L879.508 478.147 L879.941 472.517 L880.33 466.887 L880.68 461.258 L880.991 455.628 L881.264 449.998 L881.503 444.368 L881.707 438.739 L881.878 433.109 \n",
       "  L882.017 427.479 L882.124 421.849 L882.179 417.785 L882.2 416.22 L882.246 410.59 L882.261 404.96 L882.246 399.33 L882.2 393.7 L882.179 392.135 L882.124 388.071 \n",
       "  L882.017 382.441 L881.878 376.811 L881.707 371.181 L881.503 365.552 L881.264 359.922 L880.991 354.292 L880.68 348.662 L880.33 343.033 L879.941 337.403 L879.508 331.773 \n",
       "  L879.029 326.143 L878.503 320.514 L877.924 314.884 L877.29 309.254 L876.596 303.624 L875.838 297.995 L875.008 292.365 L874.535 289.392 L874.1 286.735 L873.103 281.105 \n",
       "  L872.013 275.476 L870.82 269.846 L869.51 264.216 L868.071 258.586 L866.891 254.356 L866.484 252.957 L864.724 247.327 L862.774 241.697 L860.608 236.067 L859.246 232.833 \n",
       "  L858.184 230.438 L855.457 224.808 L852.386 219.178 L851.602 217.856 L848.883 213.548 L844.88 207.918 L843.958 206.732 L840.244 202.289 L836.314 198.106 L834.841 196.659 \n",
       "  L828.67 191.202 L828.456 191.029 L821.025 185.557 L820.79 185.399 L813.381 180.855 L811.416 179.77 L805.737 176.875 L799.704 174.14 L798.093 173.461 L790.448 170.513 \n",
       "  L784.599 168.51 L782.804 167.933 L775.16 165.671 L767.516 163.663 L764.264 162.88 L759.872 161.877 L752.227 160.282 L744.583 158.847 L736.939 157.55 L735.038 157.251 \n",
       "  L729.295 156.381 L721.651 155.322 L714.006 154.357 L706.362 153.478 L698.718 152.675 L691.074 151.942 L687.466 151.621 L683.429 151.272 L675.785 150.661 L668.141 150.103 \n",
       "  L660.497 149.592 L652.853 149.125 L645.208 148.699 L637.564 148.311 L629.92 147.959 L622.276 147.64 L614.632 147.353 L606.987 147.095 L599.343 146.866 L591.699 146.665 \n",
       "  L584.055 146.489 L576.41 146.339 L568.766 146.213 L561.122 146.111 L553.478 146.032 L547.96 145.991 L545.834 145.976 L538.189 145.942 L530.545 145.931 L522.901 145.942 \n",
       "  L515.257 145.976 L513.131 145.991 L507.613 146.032 L499.968 146.111 L492.324 146.213 L484.68 146.339 L477.036 146.489 L469.391 146.665 L461.747 146.866 L454.103 147.095 \n",
       "  L446.459 147.353 L438.815 147.64 L431.17 147.959 L423.526 148.311 L415.882 148.699 L408.238 149.125 L400.593 149.592 L392.949 150.103 L385.305 150.661 L377.661 151.272 \n",
       "  L373.624 151.621 L370.017 151.942 L362.372 152.675 L354.728 153.478 L347.084 154.357 L339.44 155.322 L331.796 156.381 L326.052 157.251 L324.151 157.55 L316.507 158.847 \n",
       "  L308.863 160.282 L301.219 161.877 L296.827 162.88 L293.574 163.663 L285.93 165.671 L278.286 167.933 L276.491 168.51 L270.642 170.513 L262.998 173.461 L261.386 174.14 \n",
       "  L255.353 176.875 L249.674 179.77 L247.709 180.855 L240.3 185.399 L240.065 185.557 L232.634 191.029 L232.421 191.202 L226.25 196.659 L224.777 198.106 L220.846 202.289 \n",
       "  L217.132 206.732 L216.21 207.918 L212.207 213.548 L209.488 217.856 L208.705 219.178 L205.633 224.808 L202.906 230.438 L201.844 232.833 L200.482 236.067 L198.316 241.697 \n",
       "  L196.367 247.327 L194.606 252.957 L194.2 254.356 L193.019 258.586 L191.58 264.216 L190.271 269.846 L189.077 275.476 L187.987 281.105 L186.991 286.735 L186.555 289.392 \n",
       "  L186.082 292.365 L185.253 297.995 L184.494 303.624 L183.8 309.254 L183.166 314.884 L182.588 320.514 L182.061 326.143 L181.583 331.773 L181.15 337.403 L180.76 343.033 \n",
       "  L180.41 348.662 L180.1 354.292 L179.826 359.922 L179.588 365.552 L179.383 371.181 L179.212 376.811 L179.074 382.441 L178.966 388.071 L178.911 392.135 L178.89 393.7 \n",
       "  L178.845 399.33 L178.83 404.96 L178.845 410.59 L178.89 416.22 L178.911 417.785 L178.966 421.849 L179.074 427.479 L179.212 433.109 L179.383 438.739 L179.588 444.368 \n",
       "  L179.826 449.998 L180.1 455.628 L180.41 461.258 L180.76 466.887 L181.15 472.517 L181.583 478.147 L182.061 483.777 L182.588 489.406 L183.166 495.036 L183.8 500.666 \n",
       "  L184.494 506.296 L185.253 511.925 L186.082 517.555 L186.555 520.528 L186.991 523.185 L187.987 528.815 L189.077 534.444 L190.271 540.074 L191.58 545.704 L193.019 551.334 \n",
       "  L194.2 555.564 L194.606 556.963 L196.367 562.593 L198.316 568.223 L200.482 573.853 L201.844 577.087 L202.906 579.482 L205.633 585.112 L208.705 590.742 L209.488 592.064 \n",
       "  L212.207 596.372 L216.21 602.002 L217.132 603.188 L220.846 607.631 L224.777 611.814 L226.25 613.261 L232.421 618.718 L232.634 618.891 L240.065 624.363 L240.3 624.521 \n",
       "  L247.709 629.065 L249.674 630.15 L255.353 633.045 L261.386 635.78 L262.998 636.459 L270.642 639.407 L276.491 641.41 L278.286 641.987 L285.93 644.249 L293.574 646.257 \n",
       "  L296.827 647.04 L301.219 648.043 L308.863 649.638 L316.507 651.073 L324.151 652.37 L326.052 652.669 L331.796 653.539 L339.44 654.598 L347.084 655.563 L354.728 656.442 \n",
       "  L362.372 657.245 L370.017 657.978 L373.624 658.299 L377.661 658.648 L385.305 659.259 L392.949 659.817 L400.593 660.328 L408.238 660.795 L415.882 661.221 L423.526 661.609 \n",
       "  L431.17 661.961 L438.815 662.28 L446.459 662.567 L454.103 662.825 L461.747 663.054 L469.391 663.255 L477.036 663.431 L484.68 663.581 L492.324 663.707 L499.968 663.809 \n",
       "  L507.613 663.888 L513.131 663.929 L515.257 663.944  Z\n",
       "  \" fill=\"#240b4e\" fill-rule=\"evenodd\" fill-opacity=\"1\"/>\n",
       "<path clip-path=\"url(#clip8102)\" d=\"\n",
       "M400.593 647.096 L408.238 647.804 L415.882 648.45 L423.526 649.038 L431.17 649.572 L438.815 650.056 L446.459 650.491 L454.103 650.882 L461.747 651.229 L469.391 651.535 \n",
       "  L477.036 651.801 L484.68 652.029 L492.324 652.22 L499.968 652.375 L507.613 652.495 L515.257 652.58 L522.901 652.631 L530.545 652.648 L538.189 652.631 L545.834 652.58 \n",
       "  L553.478 652.495 L561.122 652.375 L568.766 652.22 L576.41 652.029 L584.055 651.801 L591.699 651.535 L599.343 651.229 L606.987 650.882 L614.632 650.491 L622.276 650.056 \n",
       "  L629.92 649.572 L637.564 649.038 L645.208 648.45 L652.853 647.804 L660.497 647.096 L661.063 647.04 L668.141 646.316 L675.785 645.462 L683.429 644.529 L691.074 643.51 \n",
       "  L698.718 642.395 L704.923 641.41 L706.362 641.173 L714.006 639.826 L721.651 638.349 L729.295 636.725 L733.401 635.78 L736.939 634.93 L744.583 632.937 L752.227 630.731 \n",
       "  L754.097 630.15 L759.872 628.26 L767.516 625.497 L770.007 624.521 L775.16 622.377 L782.719 618.891 L782.804 618.849 L790.448 614.802 L793.102 613.261 L798.093 610.143 \n",
       "  L801.784 607.631 L805.737 604.72 L809.148 602.002 L813.381 598.326 L815.474 596.372 L820.969 590.742 L821.025 590.68 L825.759 585.112 L828.67 581.317 L829.996 579.482 \n",
       "  L833.748 573.853 L836.314 569.6 L837.102 568.223 L840.098 562.593 L842.803 556.963 L843.958 554.358 L845.241 551.334 L847.446 545.704 L849.452 540.074 L851.281 534.444 \n",
       "  L851.602 533.385 L852.94 528.815 L854.454 523.185 L855.838 517.555 L857.105 511.925 L858.264 506.296 L859.246 501.083 L859.323 500.666 L860.284 495.036 L861.162 489.406 \n",
       "  L861.96 483.777 L862.686 478.147 L863.342 472.517 L863.934 466.887 L864.463 461.258 L864.935 455.628 L865.35 449.998 L865.711 444.368 L866.021 438.739 L866.28 433.109 \n",
       "  L866.491 427.479 L866.653 421.849 L866.769 416.22 L866.838 410.59 L866.861 404.96 L866.838 399.33 L866.769 393.7 L866.653 388.071 L866.491 382.441 L866.28 376.811 \n",
       "  L866.021 371.181 L865.711 365.552 L865.35 359.922 L864.935 354.292 L864.463 348.662 L863.934 343.033 L863.342 337.403 L862.686 331.773 L861.96 326.143 L861.162 320.514 \n",
       "  L860.284 314.884 L859.323 309.254 L859.246 308.837 L858.264 303.624 L857.105 297.995 L855.838 292.365 L854.454 286.735 L852.94 281.105 L851.602 276.535 L851.281 275.476 \n",
       "  L849.452 269.846 L847.446 264.216 L845.241 258.586 L843.958 255.562 L842.803 252.957 L840.098 247.327 L837.102 241.697 L836.314 240.32 L833.748 236.067 L829.996 230.438 \n",
       "  L828.67 228.603 L825.759 224.808 L821.025 219.24 L820.969 219.178 L815.474 213.548 L813.381 211.594 L809.148 207.918 L805.737 205.2 L801.784 202.289 L798.093 199.777 \n",
       "  L793.102 196.659 L790.448 195.118 L782.804 191.071 L782.719 191.029 L775.16 187.543 L770.007 185.399 L767.516 184.423 L759.872 181.66 L754.097 179.77 L752.227 179.189 \n",
       "  L744.583 176.983 L736.939 174.99 L733.401 174.14 L729.295 173.195 L721.651 171.571 L714.006 170.094 L706.362 168.747 L704.923 168.51 L698.718 167.525 L691.074 166.41 \n",
       "  L683.429 165.391 L675.785 164.458 L668.141 163.604 L661.063 162.88 L660.497 162.824 L652.853 162.116 L645.208 161.47 L637.564 160.882 L629.92 160.348 L622.276 159.864 \n",
       "  L614.632 159.429 L606.987 159.038 L599.343 158.691 L591.699 158.385 L584.055 158.119 L576.41 157.891 L568.766 157.7 L561.122 157.545 L553.478 157.425 L545.834 157.34 \n",
       "  L538.189 157.289 L530.545 157.272 L522.901 157.289 L515.257 157.34 L507.613 157.425 L499.968 157.545 L492.324 157.7 L484.68 157.891 L477.036 158.119 L469.391 158.385 \n",
       "  L461.747 158.691 L454.103 159.038 L446.459 159.429 L438.815 159.864 L431.17 160.348 L423.526 160.882 L415.882 161.47 L408.238 162.116 L400.593 162.824 L400.028 162.88 \n",
       "  L392.949 163.604 L385.305 164.458 L377.661 165.391 L370.017 166.41 L362.372 167.525 L356.167 168.51 L354.728 168.747 L347.084 170.094 L339.44 171.571 L331.796 173.195 \n",
       "  L327.689 174.14 L324.151 174.99 L316.507 176.983 L308.863 179.189 L306.993 179.77 L301.219 181.66 L293.574 184.423 L291.083 185.399 L285.93 187.543 L278.371 191.029 \n",
       "  L278.286 191.071 L270.642 195.118 L267.988 196.659 L262.998 199.777 L259.307 202.289 L255.353 205.2 L251.943 207.918 L247.709 211.594 L245.617 213.548 L240.122 219.178 \n",
       "  L240.065 219.24 L235.331 224.808 L232.421 228.603 L231.094 230.438 L227.343 236.067 L224.777 240.32 L223.988 241.697 L220.992 247.327 L218.287 252.957 L217.132 255.562 \n",
       "  L215.849 258.586 L213.644 264.216 L211.638 269.846 L209.809 275.476 L209.488 276.535 L208.15 281.105 L206.637 286.735 L205.252 292.365 L203.985 297.995 L202.827 303.624 \n",
       "  L201.844 308.837 L201.767 309.254 L200.806 314.884 L199.929 320.514 L199.13 326.143 L198.405 331.773 L197.748 337.403 L197.157 343.033 L196.627 348.662 L196.156 354.292 \n",
       "  L195.74 359.922 L195.379 365.552 L195.069 371.181 L194.81 376.811 L194.599 382.441 L194.437 388.071 L194.321 393.7 L194.252 399.33 L194.229 404.96 L194.252 410.59 \n",
       "  L194.321 416.22 L194.437 421.849 L194.599 427.479 L194.81 433.109 L195.069 438.739 L195.379 444.368 L195.74 449.998 L196.156 455.628 L196.627 461.258 L197.157 466.887 \n",
       "  L197.748 472.517 L198.405 478.147 L199.13 483.777 L199.929 489.406 L200.806 495.036 L201.767 500.666 L201.844 501.083 L202.827 506.296 L203.985 511.925 L205.252 517.555 \n",
       "  L206.637 523.185 L208.15 528.815 L209.488 533.385 L209.809 534.444 L211.638 540.074 L213.644 545.704 L215.849 551.334 L217.132 554.358 L218.287 556.963 L220.992 562.593 \n",
       "  L223.988 568.223 L224.777 569.6 L227.343 573.853 L231.094 579.482 L232.421 581.317 L235.331 585.112 L240.065 590.68 L240.122 590.742 L245.617 596.372 L247.709 598.326 \n",
       "  L251.943 602.002 L255.353 604.72 L259.307 607.631 L262.998 610.143 L267.988 613.261 L270.642 614.802 L278.286 618.849 L278.371 618.891 L285.93 622.377 L291.083 624.521 \n",
       "  L293.574 625.497 L301.219 628.26 L306.993 630.15 L308.863 630.731 L316.507 632.937 L324.151 634.93 L327.689 635.78 L331.796 636.725 L339.44 638.349 L347.084 639.826 \n",
       "  L354.728 641.173 L356.167 641.41 L362.372 642.395 L370.017 643.51 L377.661 644.529 L385.305 645.462 L392.949 646.316 L400.028 647.04 L400.593 647.096  Z\n",
       "  \" fill=\"#420a67\" fill-rule=\"evenodd\" fill-opacity=\"1\"/>\n",
       "<path clip-path=\"url(#clip8102)\" d=\"\n",
       "M423.526 636.281 L431.17 637.004 L438.815 637.658 L446.459 638.248 L454.103 638.776 L461.747 639.246 L469.391 639.66 L477.036 640.02 L484.68 640.329 L492.324 640.587 \n",
       "  L499.968 640.797 L507.613 640.959 L515.257 641.075 L522.901 641.143 L530.545 641.166 L538.189 641.143 L545.834 641.075 L553.478 640.959 L561.122 640.797 L568.766 640.587 \n",
       "  L576.41 640.329 L584.055 640.02 L591.699 639.66 L599.343 639.246 L606.987 638.776 L614.632 638.248 L622.276 637.658 L629.92 637.004 L637.564 636.281 L642.399 635.78 \n",
       "  L645.208 635.482 L652.853 634.599 L660.497 633.632 L668.141 632.573 L675.785 631.416 L683.429 630.15 L683.429 630.15 L691.074 628.753 L698.718 627.225 L706.362 625.554 \n",
       "  L710.729 624.521 L714.006 623.714 L721.651 621.682 L729.295 619.45 L731.081 618.891 L736.939 616.968 L744.583 614.22 L747.057 613.261 L752.227 611.148 L759.872 607.721 \n",
       "  L760.058 607.631 L767.516 603.841 L770.838 602.002 L775.16 599.451 L779.98 596.372 L782.804 594.44 L787.825 590.742 L790.448 588.662 L794.629 585.112 L798.093 581.929 \n",
       "  L800.59 579.482 L805.737 573.99 L805.858 573.853 L810.513 568.223 L813.381 564.415 L814.683 562.593 L818.415 556.963 L821.025 552.649 L821.785 551.334 L824.816 545.704 \n",
       "  L827.574 540.074 L828.67 537.66 L830.072 534.444 L832.342 528.815 L834.416 523.185 L836.314 517.555 L836.314 517.555 L838.032 511.925 L839.604 506.296 L841.041 500.666 \n",
       "  L842.355 495.036 L843.553 489.406 L843.958 487.337 L844.638 483.777 L845.62 478.147 L846.508 472.517 L847.309 466.887 L848.026 461.258 L848.664 455.628 L849.226 449.998 \n",
       "  L849.715 444.368 L850.134 438.739 L850.486 433.109 L850.77 427.479 L850.991 421.849 L851.147 416.22 L851.241 410.59 L851.272 404.96 L851.241 399.33 L851.147 393.7 \n",
       "  L850.991 388.071 L850.77 382.441 L850.486 376.811 L850.134 371.181 L849.715 365.552 L849.226 359.922 L848.664 354.292 L848.026 348.662 L847.309 343.033 L846.508 337.403 \n",
       "  L845.62 331.773 L844.638 326.143 L843.958 322.583 L843.553 320.514 L842.355 314.884 L841.041 309.254 L839.604 303.624 L838.032 297.995 L836.314 292.365 L836.314 292.365 \n",
       "  L834.416 286.735 L832.342 281.105 L830.072 275.476 L828.67 272.26 L827.574 269.846 L824.816 264.216 L821.785 258.586 L821.025 257.271 L818.415 252.957 L814.683 247.327 \n",
       "  L813.381 245.505 L810.513 241.697 L805.858 236.067 L805.737 235.93 L800.59 230.438 L798.093 227.991 L794.629 224.808 L790.448 221.258 L787.825 219.178 L782.804 215.48 \n",
       "  L779.98 213.548 L775.16 210.469 L770.838 207.918 L767.516 206.079 L760.058 202.289 L759.872 202.199 L752.227 198.772 L747.057 196.659 L744.583 195.7 L736.939 192.952 \n",
       "  L731.081 191.029 L729.295 190.47 L721.651 188.238 L714.006 186.206 L710.729 185.399 L706.362 184.366 L698.718 182.695 L691.074 181.167 L683.429 179.77 L683.429 179.77 \n",
       "  L675.785 178.504 L668.141 177.347 L660.497 176.288 L652.853 175.321 L645.208 174.438 L642.399 174.14 L637.564 173.639 L629.92 172.916 L622.276 172.262 L614.632 171.672 \n",
       "  L606.987 171.144 L599.343 170.674 L591.699 170.26 L584.055 169.9 L576.41 169.591 L568.766 169.333 L561.122 169.123 L553.478 168.961 L545.834 168.845 L538.189 168.777 \n",
       "  L530.545 168.754 L522.901 168.777 L515.257 168.845 L507.613 168.961 L499.968 169.123 L492.324 169.333 L484.68 169.591 L477.036 169.9 L469.391 170.26 L461.747 170.674 \n",
       "  L454.103 171.144 L446.459 171.672 L438.815 172.262 L431.17 172.916 L423.526 173.639 L418.691 174.14 L415.882 174.438 L408.238 175.321 L400.593 176.288 L392.949 177.347 \n",
       "  L385.305 178.504 L377.661 179.77 L377.661 179.77 L370.017 181.167 L362.372 182.695 L354.728 184.366 L350.362 185.399 L347.084 186.206 L339.44 188.238 L331.796 190.47 \n",
       "  L330.009 191.029 L324.151 192.952 L316.507 195.7 L314.033 196.659 L308.863 198.772 L301.219 202.199 L301.032 202.289 L293.574 206.079 L290.252 207.918 L285.93 210.469 \n",
       "  L281.11 213.548 L278.286 215.48 L273.265 219.178 L270.642 221.258 L266.461 224.808 L262.998 227.991 L260.5 230.438 L255.353 235.93 L255.232 236.067 L250.578 241.697 \n",
       "  L247.709 245.505 L246.407 247.327 L242.676 252.957 L240.065 257.271 L239.306 258.586 L236.275 264.216 L233.517 269.846 L232.421 272.26 L231.018 275.476 L228.748 281.105 \n",
       "  L226.674 286.735 L224.777 292.365 L224.777 292.365 L223.058 297.995 L221.486 303.624 L220.049 309.254 L218.736 314.884 L217.537 320.514 L217.132 322.583 L216.452 326.143 \n",
       "  L215.471 331.773 L214.582 337.403 L213.781 343.033 L213.064 348.662 L212.426 354.292 L211.864 359.922 L211.375 365.552 L210.956 371.181 L210.605 376.811 L210.32 382.441 \n",
       "  L210.1 388.071 L209.943 393.7 L209.85 399.33 L209.819 404.96 L209.85 410.59 L209.943 416.22 L210.1 421.849 L210.32 427.479 L210.605 433.109 L210.956 438.739 \n",
       "  L211.375 444.368 L211.864 449.998 L212.426 455.628 L213.064 461.258 L213.781 466.887 L214.582 472.517 L215.471 478.147 L216.452 483.777 L217.132 487.337 L217.537 489.406 \n",
       "  L218.736 495.036 L220.049 500.666 L221.486 506.296 L223.058 511.925 L224.777 517.555 L224.777 517.555 L226.674 523.185 L228.748 528.815 L231.018 534.444 L232.421 537.66 \n",
       "  L233.517 540.074 L236.275 545.704 L239.306 551.334 L240.065 552.649 L242.676 556.963 L246.407 562.593 L247.709 564.415 L250.578 568.223 L255.232 573.853 L255.353 573.99 \n",
       "  L260.5 579.482 L262.998 581.929 L266.461 585.112 L270.642 588.662 L273.265 590.742 L278.286 594.44 L281.11 596.372 L285.93 599.451 L290.252 602.002 L293.574 603.841 \n",
       "  L301.032 607.631 L301.219 607.721 L308.863 611.148 L314.033 613.261 L316.507 614.22 L324.151 616.968 L330.009 618.891 L331.796 619.45 L339.44 621.682 L347.084 623.714 \n",
       "  L350.362 624.521 L354.728 625.554 L362.372 627.225 L370.017 628.753 L377.661 630.15 L377.661 630.15 L385.305 631.416 L392.949 632.573 L400.593 633.632 L408.238 634.599 \n",
       "  L415.882 635.482 L418.691 635.78 L423.526 636.281  Z\n",
       "  \" fill=\"#5d126d\" fill-rule=\"evenodd\" fill-opacity=\"1\"/>\n",
       "<path clip-path=\"url(#clip8102)\" d=\"\n",
       "M438.815 625.02 L446.459 625.771 L454.103 626.444 L461.747 627.043 L469.391 627.571 L477.036 628.03 L484.68 628.423 L492.324 628.753 L499.968 629.02 L507.613 629.227 \n",
       "  L515.257 629.374 L522.901 629.461 L530.545 629.491 L538.189 629.461 L545.834 629.374 L553.478 629.227 L561.122 629.02 L568.766 628.753 L576.41 628.423 L584.055 628.03 \n",
       "  L591.699 627.571 L599.343 627.043 L606.987 626.444 L614.632 625.771 L622.276 625.02 L626.876 624.521 L629.92 624.182 L637.564 623.25 L645.208 622.224 L652.853 621.097 \n",
       "  L660.497 619.861 L666.013 618.891 L668.141 618.504 L675.785 617.007 L683.429 615.371 L691.074 613.582 L692.356 613.261 L698.718 611.604 L706.362 609.435 L712.206 607.631 \n",
       "  L714.006 607.051 L721.651 604.406 L728.009 602.002 L729.295 601.491 L736.939 598.239 L740.984 596.372 L744.583 594.618 L751.918 590.742 L752.227 590.569 L759.872 585.989 \n",
       "  L761.232 585.112 L767.516 580.794 L769.296 579.482 L775.16 574.855 L776.35 573.853 L782.569 568.223 L782.804 567.995 L788.067 562.593 L790.448 559.942 L792.984 556.963 \n",
       "  L797.4 551.334 L798.093 550.387 L801.357 545.704 L804.949 540.074 L805.737 538.748 L808.186 534.444 L811.131 528.815 L813.381 524.129 L813.817 523.185 L816.246 517.555 \n",
       "  L818.468 511.925 L820.501 506.296 L821.025 504.728 L822.343 500.666 L824.02 495.036 L825.551 489.406 L826.944 483.777 L828.21 478.147 L828.67 475.905 L829.347 472.517 \n",
       "  L830.368 466.887 L831.282 461.258 L832.095 455.628 L832.811 449.998 L833.434 444.368 L833.969 438.739 L834.416 433.109 L834.779 427.479 L835.06 421.849 L835.259 416.22 \n",
       "  L835.378 410.59 L835.418 404.96 L835.378 399.33 L835.259 393.7 L835.06 388.071 L834.779 382.441 L834.416 376.811 L833.969 371.181 L833.434 365.552 L832.811 359.922 \n",
       "  L832.095 354.292 L831.282 348.662 L830.368 343.033 L829.347 337.403 L828.67 334.015 L828.21 331.773 L826.944 326.143 L825.551 320.514 L824.02 314.884 L822.343 309.254 \n",
       "  L821.025 305.192 L820.501 303.624 L818.468 297.995 L816.246 292.365 L813.817 286.735 L813.381 285.791 L811.131 281.105 L808.186 275.476 L805.737 271.172 L804.949 269.846 \n",
       "  L801.357 264.216 L798.093 259.533 L797.4 258.586 L792.984 252.957 L790.448 249.978 L788.067 247.327 L782.804 241.925 L782.569 241.697 L776.35 236.067 L775.16 235.065 \n",
       "  L769.296 230.438 L767.516 229.126 L761.232 224.808 L759.872 223.931 L752.227 219.351 L751.918 219.178 L744.583 215.302 L740.984 213.548 L736.939 211.681 L729.295 208.429 \n",
       "  L728.009 207.918 L721.651 205.514 L714.006 202.869 L712.206 202.289 L706.362 200.485 L698.718 198.316 L692.356 196.659 L691.074 196.338 L683.429 194.549 L675.785 192.913 \n",
       "  L668.141 191.416 L666.013 191.029 L660.497 190.059 L652.853 188.823 L645.208 187.696 L637.564 186.67 L629.92 185.738 L626.876 185.399 L622.276 184.9 L614.632 184.149 \n",
       "  L606.987 183.476 L599.343 182.877 L591.699 182.349 L584.055 181.89 L576.41 181.497 L568.766 181.167 L561.122 180.9 L553.478 180.693 L545.834 180.546 L538.189 180.459 \n",
       "  L530.545 180.429 L522.901 180.459 L515.257 180.546 L507.613 180.693 L499.968 180.9 L492.324 181.167 L484.68 181.497 L477.036 181.89 L469.391 182.349 L461.747 182.877 \n",
       "  L454.103 183.476 L446.459 184.149 L438.815 184.9 L434.215 185.399 L431.17 185.738 L423.526 186.67 L415.882 187.696 L408.238 188.823 L400.593 190.059 L395.077 191.029 \n",
       "  L392.949 191.416 L385.305 192.913 L377.661 194.549 L370.017 196.338 L368.734 196.659 L362.372 198.316 L354.728 200.485 L348.884 202.289 L347.084 202.869 L339.44 205.514 \n",
       "  L333.081 207.918 L331.796 208.429 L324.151 211.681 L320.106 213.548 L316.507 215.302 L309.172 219.178 L308.863 219.351 L301.219 223.931 L299.858 224.808 L293.574 229.126 \n",
       "  L291.794 230.438 L285.93 235.065 L284.74 236.067 L278.521 241.697 L278.286 241.925 L273.023 247.327 L270.642 249.978 L268.107 252.957 L263.69 258.586 L262.998 259.533 \n",
       "  L259.733 264.216 L256.142 269.846 L255.353 271.172 L252.904 275.476 L249.959 281.105 L247.709 285.791 L247.273 286.735 L244.844 292.365 L242.623 297.995 L240.59 303.624 \n",
       "  L240.065 305.192 L238.747 309.254 L237.07 314.884 L235.539 320.514 L234.146 326.143 L232.88 331.773 L232.421 334.015 L231.743 337.403 L230.723 343.033 L229.809 348.662 \n",
       "  L228.996 354.292 L228.279 359.922 L227.656 365.552 L227.122 371.181 L226.674 376.811 L226.311 382.441 L226.031 388.071 L225.831 393.7 L225.712 399.33 L225.672 404.96 \n",
       "  L225.712 410.59 L225.831 416.22 L226.031 421.849 L226.311 427.479 L226.674 433.109 L227.122 438.739 L227.656 444.368 L228.279 449.998 L228.996 455.628 L229.809 461.258 \n",
       "  L230.723 466.887 L231.743 472.517 L232.421 475.905 L232.88 478.147 L234.146 483.777 L235.539 489.406 L237.07 495.036 L238.747 500.666 L240.065 504.728 L240.59 506.296 \n",
       "  L242.623 511.925 L244.844 517.555 L247.273 523.185 L247.709 524.129 L249.959 528.815 L252.904 534.444 L255.353 538.748 L256.142 540.074 L259.733 545.704 L262.998 550.387 \n",
       "  L263.69 551.334 L268.107 556.963 L270.642 559.942 L273.023 562.593 L278.286 567.995 L278.521 568.223 L284.74 573.853 L285.93 574.855 L291.794 579.482 L293.574 580.794 \n",
       "  L299.858 585.112 L301.219 585.989 L308.863 590.569 L309.172 590.742 L316.507 594.618 L320.106 596.372 L324.151 598.239 L331.796 601.491 L333.081 602.002 L339.44 604.406 \n",
       "  L347.084 607.051 L348.884 607.631 L354.728 609.435 L362.372 611.604 L368.734 613.261 L370.017 613.582 L377.661 615.371 L385.305 617.007 L392.949 618.504 L395.077 618.891 \n",
       "  L400.593 619.861 L408.238 621.097 L415.882 622.224 L423.526 623.25 L431.17 624.182 L434.215 624.521 L438.815 625.02  Z\n",
       "  \" fill=\"#781c6d\" fill-rule=\"evenodd\" fill-opacity=\"1\"/>\n",
       "<path clip-path=\"url(#clip8102)\" d=\"\n",
       "M454.103 613.814 L461.747 614.549 L469.391 615.198 L477.036 615.762 L484.68 616.245 L492.324 616.65 L499.968 616.979 L507.613 617.233 L515.257 617.413 L522.901 617.521 \n",
       "  L530.545 617.557 L538.189 617.521 L545.834 617.413 L553.478 617.233 L561.122 616.979 L568.766 616.65 L576.41 616.245 L584.055 615.762 L591.699 615.198 L599.343 614.549 \n",
       "  L606.987 613.814 L612.114 613.261 L614.632 612.983 L622.276 612.047 L629.92 611.008 L637.564 609.86 L645.208 608.596 L650.548 607.631 L652.853 607.202 L660.497 605.657 \n",
       "  L668.141 603.967 L675.785 602.119 L676.239 602.002 L683.429 600.068 L691.074 597.824 L695.646 596.372 L698.718 595.354 L706.362 592.623 L711.219 590.742 L714.006 589.61 \n",
       "  L721.651 586.268 L724.108 585.112 L729.295 582.543 L735.015 579.482 L736.939 578.394 L744.403 573.853 L744.583 573.736 L752.227 568.462 L752.553 568.223 L759.713 562.593 \n",
       "  L759.872 562.46 L766.037 556.963 L767.516 555.546 L771.672 551.334 L775.16 547.514 L776.729 545.704 L781.268 540.074 L782.804 538.021 L785.358 534.444 L789.066 528.815 \n",
       "  L790.448 526.552 L792.421 523.185 L795.467 517.555 L798.093 512.26 L798.252 511.925 L800.762 506.296 L803.057 500.666 L805.153 495.036 L805.737 493.339 L807.047 489.406 \n",
       "  L808.763 483.777 L810.322 478.147 L811.733 472.517 L813.003 466.887 L813.381 465.033 L814.132 461.258 L815.131 455.628 L816.011 449.998 L816.777 444.368 L817.433 438.739 \n",
       "  L817.983 433.109 L818.429 427.479 L818.774 421.849 L819.019 416.22 L819.166 410.59 L819.214 404.96 L819.166 399.33 L819.019 393.7 L818.774 388.071 L818.429 382.441 \n",
       "  L817.983 376.811 L817.433 371.181 L816.777 365.552 L816.011 359.922 L815.131 354.292 L814.132 348.662 L813.381 344.887 L813.003 343.033 L811.733 337.403 L810.322 331.773 \n",
       "  L808.763 326.143 L807.047 320.514 L805.737 316.581 L805.153 314.884 L803.057 309.254 L800.762 303.624 L798.252 297.995 L798.093 297.66 L795.467 292.365 L792.421 286.735 \n",
       "  L790.448 283.368 L789.066 281.105 L785.358 275.476 L782.804 271.899 L781.268 269.846 L776.729 264.216 L775.16 262.406 L771.672 258.586 L767.516 254.374 L766.037 252.957 \n",
       "  L759.872 247.46 L759.713 247.327 L752.553 241.697 L752.227 241.458 L744.583 236.184 L744.403 236.067 L736.939 231.526 L735.015 230.438 L729.295 227.377 L724.108 224.808 \n",
       "  L721.651 223.652 L714.006 220.31 L711.219 219.178 L706.362 217.297 L698.718 214.566 L695.646 213.548 L691.074 212.096 L683.429 209.852 L676.239 207.918 L675.785 207.801 \n",
       "  L668.141 205.953 L660.497 204.263 L652.853 202.718 L650.548 202.289 L645.208 201.324 L637.564 200.06 L629.92 198.912 L622.276 197.873 L614.632 196.937 L612.114 196.659 \n",
       "  L606.987 196.106 L599.343 195.371 L591.699 194.722 L584.055 194.158 L576.41 193.675 L568.766 193.27 L561.122 192.941 L553.478 192.687 L545.834 192.507 L538.189 192.399 \n",
       "  L530.545 192.363 L522.901 192.399 L515.257 192.507 L507.613 192.687 L499.968 192.941 L492.324 193.27 L484.68 193.675 L477.036 194.158 L469.391 194.722 L461.747 195.371 \n",
       "  L454.103 196.106 L448.977 196.659 L446.459 196.937 L438.815 197.873 L431.17 198.912 L423.526 200.06 L415.882 201.324 L410.542 202.289 L408.238 202.718 L400.593 204.263 \n",
       "  L392.949 205.953 L385.305 207.801 L384.851 207.918 L377.661 209.852 L370.017 212.096 L365.444 213.548 L362.372 214.566 L354.728 217.297 L349.872 219.178 L347.084 220.31 \n",
       "  L339.44 223.652 L336.982 224.808 L331.796 227.377 L326.076 230.438 L324.151 231.526 L316.688 236.067 L316.507 236.184 L308.863 241.458 L308.538 241.697 L301.377 247.327 \n",
       "  L301.219 247.46 L295.053 252.957 L293.574 254.374 L289.418 258.586 L285.93 262.406 L284.362 264.216 L279.823 269.846 L278.286 271.899 L275.733 275.476 L272.024 281.105 \n",
       "  L270.642 283.368 L268.67 286.735 L265.623 292.365 L262.998 297.66 L262.838 297.995 L260.329 303.624 L258.034 309.254 L255.937 314.884 L255.353 316.581 L254.043 320.514 \n",
       "  L252.327 326.143 L250.768 331.773 L249.358 337.403 L248.087 343.033 L247.709 344.887 L246.959 348.662 L245.96 354.292 L245.079 359.922 L244.313 365.552 L243.657 371.181 \n",
       "  L243.107 376.811 L242.661 382.441 L242.316 388.071 L242.071 393.7 L241.925 399.33 L241.876 404.96 L241.925 410.59 L242.071 416.22 L242.316 421.849 L242.661 427.479 \n",
       "  L243.107 433.109 L243.657 438.739 L244.313 444.368 L245.079 449.998 L245.96 455.628 L246.959 461.258 L247.709 465.033 L248.087 466.887 L249.358 472.517 L250.768 478.147 \n",
       "  L252.327 483.777 L254.043 489.406 L255.353 493.339 L255.937 495.036 L258.034 500.666 L260.329 506.296 L262.838 511.925 L262.998 512.26 L265.623 517.555 L268.67 523.185 \n",
       "  L270.642 526.552 L272.024 528.815 L275.733 534.444 L278.286 538.021 L279.823 540.074 L284.362 545.704 L285.93 547.514 L289.418 551.334 L293.574 555.546 L295.053 556.963 \n",
       "  L301.219 562.46 L301.377 562.593 L308.538 568.223 L308.863 568.462 L316.507 573.736 L316.688 573.853 L324.151 578.394 L326.076 579.482 L331.796 582.543 L336.982 585.112 \n",
       "  L339.44 586.268 L347.084 589.61 L349.872 590.742 L354.728 592.623 L362.372 595.354 L365.444 596.372 L370.017 597.824 L377.661 600.068 L384.851 602.002 L385.305 602.119 \n",
       "  L392.949 603.967 L400.593 605.657 L408.238 607.202 L410.542 607.631 L415.882 608.596 L423.526 609.86 L431.17 611.008 L438.815 612.047 L446.459 612.983 L448.977 613.261 \n",
       "  L454.103 613.814  Z\n",
       "  \" fill=\"#942666\" fill-rule=\"evenodd\" fill-opacity=\"1\"/>\n",
       "<path clip-path=\"url(#clip8102)\" d=\"\n",
       "M469.391 602.46 L477.036 603.138 L484.68 603.718 L492.324 604.204 L499.968 604.598 L507.613 604.903 L515.257 605.12 L522.901 605.249 L530.545 605.292 L538.189 605.249 \n",
       "  L545.834 605.12 L553.478 604.903 L561.122 604.598 L568.766 604.204 L576.41 603.718 L584.055 603.138 L591.699 602.46 L596.224 602.002 L599.343 601.677 L606.987 600.78 \n",
       "  L614.632 599.771 L622.276 598.645 L629.92 597.395 L635.605 596.372 L637.564 596.008 L645.208 594.46 L652.853 592.761 L660.497 590.899 L661.095 590.742 L668.141 588.825 \n",
       "  L675.785 586.554 L680.265 585.112 L683.429 584.05 L691.074 581.282 L695.666 579.482 L698.718 578.23 L706.362 574.847 L708.456 573.853 L714.006 571.079 L719.306 568.223 \n",
       "  L721.651 566.889 L728.682 562.593 L729.295 562.196 L736.856 556.963 L736.939 556.902 L744.044 551.334 L744.583 550.882 L750.415 545.704 L752.227 543.977 L756.105 540.074 \n",
       "  L759.872 535.987 L761.221 534.444 L765.815 528.815 L767.516 526.567 L769.96 523.185 L773.718 517.555 L775.16 515.224 L777.117 511.925 L780.201 506.296 L782.804 501.106 \n",
       "  L783.017 500.666 L785.546 495.036 L787.853 489.406 L789.954 483.777 L790.448 482.334 L791.838 478.147 L793.535 472.517 L795.064 466.887 L796.434 461.258 L797.652 455.628 \n",
       "  L798.093 453.33 L798.716 449.998 L799.636 444.368 L800.423 438.739 L801.083 433.109 L801.619 427.479 L802.033 421.849 L802.327 416.22 L802.502 410.59 L802.561 404.96 \n",
       "  L802.502 399.33 L802.327 393.7 L802.033 388.071 L801.619 382.441 L801.083 376.811 L800.423 371.181 L799.636 365.552 L798.716 359.922 L798.093 356.59 L797.652 354.292 \n",
       "  L796.434 348.662 L795.064 343.033 L793.535 337.403 L791.838 331.773 L790.448 327.586 L789.954 326.143 L787.853 320.514 L785.546 314.884 L783.017 309.254 L782.804 308.814 \n",
       "  L780.201 303.624 L777.117 297.995 L775.16 294.696 L773.718 292.365 L769.96 286.735 L767.516 283.353 L765.815 281.105 L761.221 275.476 L759.872 273.933 L756.105 269.846 \n",
       "  L752.227 265.943 L750.415 264.216 L744.583 259.038 L744.044 258.586 L736.939 253.018 L736.856 252.957 L729.295 247.724 L728.682 247.327 L721.651 243.031 L719.306 241.697 \n",
       "  L714.006 238.841 L708.456 236.067 L706.362 235.073 L698.718 231.69 L695.666 230.438 L691.074 228.638 L683.429 225.87 L680.265 224.808 L675.785 223.366 L668.141 221.095 \n",
       "  L661.095 219.178 L660.497 219.021 L652.853 217.159 L645.208 215.46 L637.564 213.912 L635.605 213.548 L629.92 212.525 L622.276 211.275 L614.632 210.149 L606.987 209.14 \n",
       "  L599.343 208.243 L596.224 207.918 L591.699 207.46 L584.055 206.782 L576.41 206.202 L568.766 205.716 L561.122 205.322 L553.478 205.017 L545.834 204.8 L538.189 204.671 \n",
       "  L530.545 204.628 L522.901 204.671 L515.257 204.8 L507.613 205.017 L499.968 205.322 L492.324 205.716 L484.68 206.202 L477.036 206.782 L469.391 207.46 L464.867 207.918 \n",
       "  L461.747 208.243 L454.103 209.14 L446.459 210.149 L438.815 211.275 L431.17 212.525 L425.485 213.548 L423.526 213.912 L415.882 215.46 L408.238 217.159 L400.593 219.021 \n",
       "  L399.996 219.178 L392.949 221.095 L385.305 223.366 L380.825 224.808 L377.661 225.87 L370.017 228.638 L365.424 230.438 L362.372 231.69 L354.728 235.073 L352.634 236.067 \n",
       "  L347.084 238.841 L341.784 241.697 L339.44 243.031 L332.409 247.327 L331.796 247.724 L324.234 252.957 L324.151 253.018 L317.046 258.586 L316.507 259.038 L310.675 264.216 \n",
       "  L308.863 265.943 L304.985 269.846 L301.219 273.933 L299.869 275.476 L295.276 281.105 L293.574 283.353 L291.131 286.735 L287.372 292.365 L285.93 294.696 L283.973 297.995 \n",
       "  L280.889 303.624 L278.286 308.814 L278.073 309.254 L275.544 314.884 L273.237 320.514 L271.136 326.143 L270.642 327.586 L269.252 331.773 L267.555 337.403 L266.026 343.033 \n",
       "  L264.656 348.662 L263.438 354.292 L262.998 356.59 L262.374 359.922 L261.455 365.552 L260.667 371.181 L260.007 376.811 L259.471 382.441 L259.058 388.071 L258.764 393.7 \n",
       "  L258.588 399.33 L258.529 404.96 L258.588 410.59 L258.764 416.22 L259.058 421.849 L259.471 427.479 L260.007 433.109 L260.667 438.739 L261.455 444.368 L262.374 449.998 \n",
       "  L262.998 453.33 L263.438 455.628 L264.656 461.258 L266.026 466.887 L267.555 472.517 L269.252 478.147 L270.642 482.334 L271.136 483.777 L273.237 489.406 L275.544 495.036 \n",
       "  L278.073 500.666 L278.286 501.106 L280.889 506.296 L283.973 511.925 L285.93 515.224 L287.372 517.555 L291.131 523.185 L293.574 526.567 L295.276 528.815 L299.869 534.444 \n",
       "  L301.219 535.987 L304.985 540.074 L308.863 543.977 L310.675 545.704 L316.507 550.882 L317.046 551.334 L324.151 556.902 L324.234 556.963 L331.796 562.196 L332.409 562.593 \n",
       "  L339.44 566.889 L341.784 568.223 L347.084 571.079 L352.634 573.853 L354.728 574.847 L362.372 578.23 L365.424 579.482 L370.017 581.282 L377.661 584.05 L380.825 585.112 \n",
       "  L385.305 586.554 L392.949 588.825 L399.996 590.742 L400.593 590.899 L408.238 592.761 L415.882 594.46 L423.526 596.008 L425.485 596.372 L431.17 597.395 L438.815 598.645 \n",
       "  L446.459 599.771 L454.103 600.78 L461.747 601.677 L464.867 602.002 L469.391 602.46  Z\n",
       "  \" fill=\"#ad305b\" fill-rule=\"evenodd\" fill-opacity=\"1\"/>\n",
       "<path clip-path=\"url(#clip8102)\" d=\"\n",
       "M484.68 590.747 L492.324 591.321 L499.968 591.787 L507.613 592.147 L515.257 592.403 L522.901 592.556 L530.545 592.607 L538.189 592.556 L545.834 592.403 L553.478 592.147 \n",
       "  L561.122 591.787 L568.766 591.321 L576.41 590.747 L576.469 590.742 L584.055 590.049 L591.699 589.234 L599.343 588.297 L606.987 587.234 L614.632 586.039 L619.962 585.112 \n",
       "  L622.276 584.697 L629.92 583.187 L637.564 581.518 L645.208 579.68 L645.967 579.482 L652.853 577.622 L660.497 575.362 L665.196 573.853 L668.141 572.866 L675.785 570.099 \n",
       "  L680.566 568.223 L683.429 567.046 L691.074 563.658 L693.311 562.593 L698.718 559.884 L704.128 556.963 L706.362 555.69 L713.485 551.334 L714.006 550.996 L721.651 545.704 \n",
       "  L721.651 545.704 L728.836 540.074 L729.295 539.69 L735.21 534.444 L736.939 532.799 L740.905 528.815 L744.583 524.832 L746.029 523.185 L750.629 517.555 L752.227 515.446 \n",
       "  L754.775 511.925 L758.532 506.296 L759.872 504.127 L761.921 500.666 L764.99 495.036 L767.516 489.965 L767.784 489.406 L770.279 483.777 L772.545 478.147 L774.596 472.517 \n",
       "  L775.16 470.813 L776.419 466.887 L778.041 461.258 L779.484 455.628 L780.756 449.998 L781.863 444.368 L782.804 438.782 L782.811 438.739 L783.591 433.109 L784.224 427.479 \n",
       "  L784.713 421.849 L785.06 416.22 L785.268 410.59 L785.337 404.96 L785.268 399.33 L785.06 393.7 L784.713 388.071 L784.224 382.441 L783.591 376.811 L782.811 371.181 \n",
       "  L782.804 371.138 L781.863 365.552 L780.756 359.922 L779.484 354.292 L778.041 348.662 L776.419 343.033 L775.16 339.107 L774.596 337.403 L772.545 331.773 L770.279 326.143 \n",
       "  L767.784 320.514 L767.516 319.955 L764.99 314.884 L761.921 309.254 L759.872 305.793 L758.532 303.624 L754.775 297.995 L752.227 294.474 L750.629 292.365 L746.029 286.735 \n",
       "  L744.583 285.088 L740.905 281.105 L736.939 277.121 L735.21 275.476 L729.295 270.23 L728.836 269.846 L721.651 264.216 L721.651 264.216 L714.006 258.924 L713.485 258.586 \n",
       "  L706.362 254.23 L704.128 252.957 L698.718 250.036 L693.311 247.327 L691.074 246.262 L683.429 242.874 L680.566 241.697 L675.785 239.821 L668.141 237.054 L665.196 236.067 \n",
       "  L660.497 234.558 L652.853 232.298 L645.967 230.438 L645.208 230.24 L637.564 228.402 L629.92 226.733 L622.276 225.223 L619.962 224.808 L614.632 223.881 L606.987 222.686 \n",
       "  L599.343 221.623 L591.699 220.686 L584.055 219.871 L576.469 219.178 L576.41 219.173 L568.766 218.599 L561.122 218.133 L553.478 217.773 L545.834 217.517 L538.189 217.364 \n",
       "  L530.545 217.313 L522.901 217.364 L515.257 217.517 L507.613 217.773 L499.968 218.133 L492.324 218.599 L484.68 219.173 L484.621 219.178 L477.036 219.871 L469.391 220.686 \n",
       "  L461.747 221.623 L454.103 222.686 L446.459 223.881 L441.128 224.808 L438.815 225.223 L431.17 226.733 L423.526 228.402 L415.882 230.24 L415.123 230.438 L408.238 232.298 \n",
       "  L400.593 234.558 L395.894 236.067 L392.949 237.054 L385.305 239.821 L380.525 241.697 L377.661 242.874 L370.017 246.262 L367.78 247.327 L362.372 250.036 L356.962 252.957 \n",
       "  L354.728 254.23 L347.605 258.586 L347.084 258.924 L339.44 264.216 L339.44 264.216 L332.254 269.846 L331.796 270.23 L325.881 275.476 L324.151 277.121 L320.185 281.105 \n",
       "  L316.507 285.088 L315.061 286.735 L310.461 292.365 L308.863 294.474 L306.316 297.995 L302.558 303.624 L301.219 305.793 L299.169 309.254 L296.1 314.884 L293.574 319.955 \n",
       "  L293.307 320.514 L290.811 326.143 L288.545 331.773 L286.494 337.403 L285.93 339.107 L284.672 343.033 L283.049 348.662 L281.606 354.292 L280.334 359.922 L279.227 365.552 \n",
       "  L278.286 371.138 L278.279 371.181 L277.499 376.811 L276.866 382.441 L276.378 388.071 L276.03 393.7 L275.822 399.33 L275.753 404.96 L275.822 410.59 L276.03 416.22 \n",
       "  L276.378 421.849 L276.866 427.479 L277.499 433.109 L278.279 438.739 L278.286 438.782 L279.227 444.368 L280.334 449.998 L281.606 455.628 L283.049 461.258 L284.672 466.887 \n",
       "  L285.93 470.813 L286.494 472.517 L288.545 478.147 L290.811 483.777 L293.307 489.406 L293.574 489.965 L296.1 495.036 L299.169 500.666 L301.219 504.127 L302.558 506.296 \n",
       "  L306.316 511.925 L308.863 515.446 L310.461 517.555 L315.061 523.185 L316.507 524.832 L320.185 528.815 L324.151 532.799 L325.881 534.444 L331.796 539.69 L332.254 540.074 \n",
       "  L339.44 545.704 L339.44 545.704 L347.084 550.996 L347.605 551.334 L354.728 555.69 L356.962 556.963 L362.372 559.884 L367.78 562.593 L370.017 563.658 L377.661 567.046 \n",
       "  L380.525 568.223 L385.305 570.099 L392.949 572.866 L395.894 573.853 L400.593 575.362 L408.238 577.622 L415.123 579.482 L415.882 579.68 L423.526 581.518 L431.17 583.187 \n",
       "  L438.815 584.697 L441.128 585.112 L446.459 586.039 L454.103 587.234 L461.747 588.297 L469.391 589.234 L477.036 590.049 L484.621 590.742 L484.68 590.747  Z\n",
       "  \" fill=\"#c73e4c\" fill-rule=\"evenodd\" fill-opacity=\"1\"/>\n",
       "<path clip-path=\"url(#clip8102)\" d=\"\n",
       "M461.747 574.297 L469.391 575.395 L477.036 576.351 L484.68 577.169 L492.324 577.855 L499.968 578.412 L507.613 578.842 L515.257 579.148 L522.901 579.33 L530.545 579.391 \n",
       "  L538.189 579.33 L545.834 579.148 L553.478 578.842 L561.122 578.412 L568.766 577.855 L576.41 577.169 L584.055 576.351 L591.699 575.395 L599.343 574.297 L602.084 573.853 \n",
       "  L606.987 573.032 L614.632 571.599 L622.276 569.998 L629.918 568.223 L629.92 568.223 L637.564 566.212 L645.208 563.997 L649.654 562.593 L652.853 561.539 L660.497 558.803 \n",
       "  L665.228 556.963 L668.141 555.777 L675.785 552.41 L678.057 551.334 L683.429 548.653 L688.909 545.704 L691.074 544.473 L698.28 540.074 L698.718 539.791 L706.362 534.504 \n",
       "  L706.442 534.444 L713.622 528.815 L714.006 528.492 L719.98 523.185 L721.651 521.591 L725.655 517.555 L729.295 513.599 L730.757 511.925 L735.327 506.296 L736.939 504.151 \n",
       "  L739.437 500.666 L743.151 495.036 L744.583 492.68 L746.49 489.406 L749.496 483.777 L752.227 478.147 L752.227 478.146 L754.638 472.517 L756.811 466.887 L758.757 461.258 \n",
       "  L759.872 457.646 L760.474 455.628 L761.965 449.998 L763.263 444.368 L764.375 438.739 L765.307 433.109 L766.062 427.479 L766.646 421.849 L767.061 416.22 L767.309 410.59 \n",
       "  L767.392 404.96 L767.309 399.33 L767.061 393.7 L766.646 388.071 L766.062 382.441 L765.307 376.811 L764.375 371.181 L763.263 365.552 L761.965 359.922 L760.474 354.292 \n",
       "  L759.872 352.274 L758.757 348.662 L756.811 343.033 L754.638 337.403 L752.227 331.774 L752.227 331.773 L749.496 326.143 L746.49 320.514 L744.583 317.24 L743.151 314.884 \n",
       "  L739.437 309.254 L736.939 305.769 L735.327 303.624 L730.757 297.995 L729.295 296.321 L725.655 292.365 L721.651 288.329 L719.98 286.735 L714.006 281.428 L713.622 281.105 \n",
       "  L706.442 275.476 L706.362 275.416 L698.718 270.129 L698.28 269.846 L691.074 265.447 L688.909 264.216 L683.429 261.267 L678.057 258.586 L675.785 257.51 L668.141 254.143 \n",
       "  L665.228 252.957 L660.497 251.117 L652.853 248.381 L649.654 247.327 L645.208 245.923 L637.564 243.708 L629.92 241.697 L629.918 241.697 L622.276 239.922 L614.632 238.321 \n",
       "  L606.987 236.888 L602.084 236.067 L599.343 235.623 L591.699 234.525 L584.055 233.569 L576.41 232.751 L568.766 232.065 L561.122 231.508 L553.478 231.078 L545.834 230.772 \n",
       "  L538.189 230.59 L530.545 230.529 L522.901 230.59 L515.257 230.772 L507.613 231.078 L499.968 231.508 L492.324 232.065 L484.68 232.751 L477.036 233.569 L469.391 234.525 \n",
       "  L461.747 235.623 L459.007 236.067 L454.103 236.888 L446.459 238.321 L438.815 239.922 L431.172 241.697 L431.17 241.697 L423.526 243.708 L415.882 245.923 L411.437 247.327 \n",
       "  L408.238 248.381 L400.593 251.117 L395.862 252.957 L392.949 254.143 L385.305 257.51 L383.033 258.586 L377.661 261.267 L372.181 264.216 L370.017 265.447 L362.81 269.846 \n",
       "  L362.372 270.129 L354.728 275.416 L354.648 275.476 L347.469 281.105 L347.084 281.428 L341.111 286.735 L339.44 288.329 L335.435 292.365 L331.796 296.321 L330.333 297.995 \n",
       "  L325.763 303.624 L324.151 305.769 L321.653 309.254 L317.939 314.884 L316.507 317.24 L314.6 320.514 L311.594 326.143 L308.863 331.773 L308.863 331.774 L306.452 337.403 \n",
       "  L304.279 343.033 L302.333 348.662 L301.219 352.274 L300.616 354.292 L299.125 359.922 L297.827 365.552 L296.715 371.181 L295.784 376.811 L295.028 382.441 L294.444 388.071 \n",
       "  L294.029 393.7 L293.781 399.33 L293.698 404.96 L293.781 410.59 L294.029 416.22 L294.444 421.849 L295.028 427.479 L295.784 433.109 L296.715 438.739 L297.827 444.368 \n",
       "  L299.125 449.998 L300.616 455.628 L301.219 457.646 L302.333 461.258 L304.279 466.887 L306.452 472.517 L308.863 478.146 L308.863 478.147 L311.594 483.777 L314.6 489.406 \n",
       "  L316.507 492.68 L317.939 495.036 L321.653 500.666 L324.151 504.151 L325.763 506.296 L330.333 511.925 L331.796 513.599 L335.435 517.555 L339.44 521.591 L341.111 523.185 \n",
       "  L347.084 528.492 L347.469 528.815 L354.648 534.444 L354.728 534.504 L362.372 539.791 L362.81 540.074 L370.017 544.473 L372.181 545.704 L377.661 548.653 L383.033 551.334 \n",
       "  L385.305 552.41 L392.949 555.777 L395.862 556.963 L400.593 558.803 L408.238 561.539 L411.437 562.593 L415.882 563.997 L423.526 566.212 L431.17 568.223 L431.172 568.223 \n",
       "  L438.815 569.998 L446.459 571.599 L454.103 573.032 L459.007 573.853 L461.747 574.297  Z\n",
       "  \" fill=\"#db503a\" fill-rule=\"evenodd\" fill-opacity=\"1\"/>\n",
       "<path clip-path=\"url(#clip8102)\" d=\"\n",
       "M484.68 562.858 L492.324 563.657 L499.968 564.305 L507.613 564.806 L515.257 565.162 L522.901 565.375 L530.545 565.446 L538.189 565.375 L545.834 565.162 L553.478 564.806 \n",
       "  L561.122 564.305 L568.766 563.657 L576.41 562.858 L578.544 562.593 L584.055 561.886 L591.699 560.744 L599.343 559.431 L606.987 557.941 L611.469 556.963 L614.632 556.246 \n",
       "  L622.276 554.324 L629.92 552.191 L632.724 551.334 L637.564 549.788 L645.208 547.115 L648.913 545.704 L652.853 544.13 L660.497 540.808 L662.065 540.074 L668.141 537.075 \n",
       "  L673.069 534.444 L675.785 532.91 L682.528 528.815 L683.429 528.233 L690.738 523.185 L691.074 522.937 L697.928 517.555 L698.718 516.891 L704.279 511.925 L706.362 509.925 \n",
       "  L709.933 506.296 L714.006 501.82 L715.003 500.666 L719.513 495.036 L721.651 492.134 L723.566 489.406 L727.196 483.777 L729.295 480.212 L730.458 478.147 L733.355 472.517 \n",
       "  L735.965 466.887 L736.939 464.558 L738.266 461.258 L740.289 455.628 L742.072 449.998 L743.623 444.368 L744.583 440.31 L744.943 438.739 L746.028 433.109 L746.908 427.479 \n",
       "  L747.588 421.849 L748.072 416.22 L748.361 410.59 L748.457 404.96 L748.361 399.33 L748.072 393.7 L747.588 388.071 L746.908 382.441 L746.028 376.811 L744.943 371.181 \n",
       "  L744.583 369.61 L743.623 365.552 L742.072 359.922 L740.289 354.292 L738.266 348.662 L736.939 345.362 L735.965 343.033 L733.355 337.403 L730.458 331.773 L729.295 329.708 \n",
       "  L727.196 326.143 L723.566 320.514 L721.651 317.786 L719.513 314.884 L715.003 309.254 L714.006 308.1 L709.933 303.624 L706.362 299.995 L704.279 297.995 L698.718 293.029 \n",
       "  L697.928 292.365 L691.074 286.983 L690.738 286.735 L683.429 281.687 L682.528 281.105 L675.785 277.01 L673.069 275.476 L668.141 272.845 L662.065 269.846 L660.497 269.112 \n",
       "  L652.853 265.79 L648.913 264.216 L645.208 262.805 L637.564 260.132 L632.724 258.586 L629.92 257.729 L622.276 255.596 L614.632 253.674 L611.469 252.957 L606.987 251.979 \n",
       "  L599.343 250.489 L591.699 249.176 L584.055 248.034 L578.544 247.327 L576.41 247.062 L568.766 246.263 L561.122 245.615 L553.478 245.114 L545.834 244.758 L538.189 244.545 \n",
       "  L530.545 244.474 L522.901 244.545 L515.257 244.758 L507.613 245.114 L499.968 245.615 L492.324 246.263 L484.68 247.062 L482.546 247.327 L477.036 248.034 L469.391 249.176 \n",
       "  L461.747 250.489 L454.103 251.979 L449.622 252.957 L446.459 253.674 L438.815 255.596 L431.17 257.729 L428.366 258.586 L423.526 260.132 L415.882 262.805 L412.178 264.216 \n",
       "  L408.238 265.79 L400.593 269.112 L399.026 269.846 L392.949 272.845 L388.022 275.476 L385.305 277.01 L378.563 281.105 L377.661 281.687 L370.353 286.735 L370.017 286.983 \n",
       "  L363.162 292.365 L362.372 293.029 L356.811 297.995 L354.728 299.995 L351.157 303.624 L347.084 308.1 L346.087 309.254 L341.578 314.884 L339.44 317.786 L337.524 320.514 \n",
       "  L333.894 326.143 L331.796 329.708 L330.632 331.773 L327.735 337.403 L325.125 343.033 L324.151 345.362 L322.824 348.662 L320.801 354.292 L319.019 359.922 L317.467 365.552 \n",
       "  L316.507 369.61 L316.147 371.181 L315.062 376.811 L314.182 382.441 L313.502 388.071 L313.019 393.7 L312.73 399.33 L312.633 404.96 L312.73 410.59 L313.019 416.22 \n",
       "  L313.502 421.849 L314.182 427.479 L315.062 433.109 L316.147 438.739 L316.507 440.31 L317.467 444.368 L319.019 449.998 L320.801 455.628 L322.824 461.258 L324.151 464.558 \n",
       "  L325.125 466.887 L327.735 472.517 L330.632 478.147 L331.796 480.212 L333.894 483.777 L337.524 489.406 L339.44 492.134 L341.578 495.036 L346.087 500.666 L347.084 501.82 \n",
       "  L351.157 506.296 L354.728 509.925 L356.811 511.925 L362.372 516.891 L363.162 517.555 L370.017 522.937 L370.353 523.185 L377.661 528.233 L378.563 528.815 L385.305 532.91 \n",
       "  L388.022 534.444 L392.949 537.075 L399.026 540.074 L400.593 540.808 L408.238 544.13 L412.178 545.704 L415.882 547.115 L423.526 549.788 L428.366 551.334 L431.17 552.191 \n",
       "  L438.815 554.324 L446.459 556.246 L449.622 556.963 L454.103 557.941 L461.747 559.431 L469.391 560.744 L477.036 561.886 L482.546 562.593 L484.68 562.858  Z\n",
       "  \" fill=\"#ec6925\" fill-rule=\"evenodd\" fill-opacity=\"1\"/>\n",
       "<path clip-path=\"url(#clip8102)\" d=\"\n",
       "M477.036 546.363 L484.68 547.503 L492.324 548.458 L499.968 549.233 L507.613 549.832 L515.257 550.258 L522.901 550.512 L530.545 550.597 L538.189 550.512 L545.834 550.258 \n",
       "  L553.478 549.832 L561.122 549.233 L568.766 548.458 L576.41 547.503 L584.055 546.363 L587.854 545.704 L591.699 545.01 L599.343 543.433 L606.987 541.642 L612.954 540.074 \n",
       "  L614.632 539.614 L622.276 537.29 L629.92 534.711 L630.644 534.444 L637.564 531.767 L644.514 528.815 L645.208 528.503 L652.853 524.794 L655.909 523.185 L660.497 520.626 \n",
       "  L665.594 517.555 L668.141 515.922 L673.943 511.925 L675.785 510.569 L681.212 506.296 L683.429 504.42 L687.599 500.666 L691.074 497.287 L693.258 495.036 L698.295 489.406 \n",
       "  L698.718 488.895 L702.727 483.777 L706.362 478.68 L706.724 478.147 L710.226 472.517 L713.381 466.887 L714.006 465.652 L716.135 461.258 L718.567 455.628 L720.709 449.998 \n",
       "  L721.651 447.166 L722.545 444.368 L724.093 438.739 L725.39 433.109 L726.443 427.479 L727.256 421.849 L727.834 416.22 L728.179 410.59 L728.294 404.96 L728.179 399.33 \n",
       "  L727.834 393.7 L727.256 388.071 L726.443 382.441 L725.39 376.811 L724.093 371.181 L722.545 365.552 L721.651 362.754 L720.709 359.922 L718.567 354.292 L716.135 348.662 \n",
       "  L714.006 344.268 L713.381 343.033 L710.226 337.403 L706.724 331.773 L706.362 331.24 L702.727 326.143 L698.718 321.025 L698.295 320.514 L693.258 314.884 L691.074 312.633 \n",
       "  L687.599 309.254 L683.429 305.5 L681.212 303.624 L675.785 299.351 L673.943 297.995 L668.141 293.998 L665.594 292.365 L660.497 289.294 L655.909 286.735 L652.853 285.126 \n",
       "  L645.208 281.417 L644.514 281.105 L637.564 278.153 L630.644 275.476 L629.92 275.209 L622.276 272.63 L614.632 270.306 L612.954 269.846 L606.987 268.278 L599.343 266.487 \n",
       "  L591.699 264.91 L587.854 264.216 L584.055 263.557 L576.41 262.417 L568.766 261.462 L561.122 260.687 L553.478 260.088 L545.834 259.662 L538.189 259.408 L530.545 259.323 \n",
       "  L522.901 259.408 L515.257 259.662 L507.613 260.088 L499.968 260.687 L492.324 261.462 L484.68 262.417 L477.036 263.557 L473.236 264.216 L469.391 264.91 L461.747 266.487 \n",
       "  L454.103 268.278 L448.136 269.846 L446.459 270.306 L438.815 272.63 L431.17 275.209 L430.447 275.476 L423.526 278.153 L416.577 281.105 L415.882 281.417 L408.238 285.126 \n",
       "  L405.181 286.735 L400.593 289.294 L395.496 292.365 L392.949 293.998 L387.147 297.995 L385.305 299.351 L379.878 303.624 L377.661 305.5 L373.492 309.254 L370.017 312.633 \n",
       "  L367.832 314.884 L362.795 320.514 L362.372 321.025 L358.364 326.143 L354.728 331.24 L354.367 331.773 L350.865 337.403 L347.709 343.033 L347.084 344.268 L344.955 348.662 \n",
       "  L342.524 354.292 L340.381 359.922 L339.44 362.754 L338.545 365.552 L336.997 371.181 L335.7 376.811 L334.648 382.441 L333.835 388.071 L333.257 393.7 L332.911 399.33 \n",
       "  L332.796 404.96 L332.911 410.59 L333.257 416.22 L333.835 421.849 L334.648 427.479 L335.7 433.109 L336.997 438.739 L338.545 444.368 L339.44 447.166 L340.381 449.998 \n",
       "  L342.524 455.628 L344.955 461.258 L347.084 465.652 L347.709 466.887 L350.865 472.517 L354.367 478.147 L354.728 478.68 L358.364 483.777 L362.372 488.895 L362.795 489.406 \n",
       "  L367.832 495.036 L370.017 497.287 L373.492 500.666 L377.661 504.42 L379.878 506.296 L385.305 510.569 L387.147 511.925 L392.949 515.922 L395.496 517.555 L400.593 520.626 \n",
       "  L405.181 523.185 L408.238 524.794 L415.882 528.503 L416.577 528.815 L423.526 531.767 L430.447 534.444 L431.17 534.711 L438.815 537.29 L446.459 539.614 L448.136 540.074 \n",
       "  L454.103 541.642 L461.747 543.433 L469.391 545.01 L473.236 545.704 L477.036 546.363  Z\n",
       "  \" fill=\"#f7850e\" fill-rule=\"evenodd\" fill-opacity=\"1\"/>\n",
       "<path clip-path=\"url(#clip8102)\" d=\"\n",
       "M530.545 534.474 L532.839 534.444 L538.189 534.373 L545.834 534.066 L553.478 533.553 L561.122 532.83 L568.766 531.895 L576.41 530.743 L584.055 529.368 L586.702 528.815 \n",
       "  L591.699 527.722 L599.343 525.806 L606.987 523.632 L608.396 523.185 L614.632 521.104 L622.276 518.263 L624.009 517.555 L629.92 515.001 L636.395 511.925 L637.564 511.336 \n",
       "  L645.208 507.139 L646.626 506.296 L652.853 502.339 L655.291 500.666 L660.497 496.832 L662.768 495.036 L668.141 490.45 L669.286 489.406 L674.984 483.777 L675.785 482.916 \n",
       "  L679.961 478.147 L683.429 473.793 L684.391 472.517 L688.249 466.887 L691.074 462.295 L691.68 461.258 L694.632 455.628 L697.234 449.998 L698.718 446.318 L699.469 444.368 \n",
       "  L701.337 438.739 L702.901 433.109 L704.17 427.479 L705.151 421.849 L705.848 416.22 L706.265 410.59 L706.362 406.649 L706.402 404.96 L706.362 403.271 L706.265 399.33 \n",
       "  L705.848 393.7 L705.151 388.071 L704.17 382.441 L702.901 376.811 L701.337 371.181 L699.469 365.552 L698.718 363.602 L697.234 359.922 L694.632 354.292 L691.68 348.662 \n",
       "  L691.074 347.625 L688.249 343.033 L684.391 337.403 L683.429 336.127 L679.961 331.773 L675.785 327.004 L674.984 326.143 L669.286 320.514 L668.141 319.47 L662.768 314.884 \n",
       "  L660.497 313.088 L655.291 309.254 L652.853 307.581 L646.626 303.624 L645.208 302.781 L637.564 298.584 L636.395 297.995 L629.92 294.919 L624.009 292.365 L622.276 291.657 \n",
       "  L614.632 288.816 L608.396 286.735 L606.987 286.288 L599.343 284.114 L591.699 282.198 L586.702 281.105 L584.055 280.552 L576.41 279.177 L568.766 278.025 L561.122 277.09 \n",
       "  L553.478 276.367 L545.834 275.854 L538.189 275.547 L532.839 275.476 L530.545 275.446 L528.251 275.476 L522.901 275.547 L515.257 275.854 L507.613 276.367 L499.968 277.09 \n",
       "  L492.324 278.025 L484.68 279.177 L477.036 280.552 L474.388 281.105 L469.391 282.198 L461.747 284.114 L454.103 286.288 L452.694 286.735 L446.459 288.816 L438.815 291.657 \n",
       "  L437.082 292.365 L431.17 294.919 L424.695 297.995 L423.526 298.584 L415.882 302.781 L414.464 303.624 L408.238 307.581 L405.799 309.254 L400.593 313.088 L398.322 314.884 \n",
       "  L392.949 319.47 L391.804 320.514 L386.106 326.143 L385.305 327.004 L381.129 331.773 L377.661 336.127 L376.7 337.403 L372.842 343.033 L370.017 347.625 L369.41 348.662 \n",
       "  L366.458 354.292 L363.857 359.922 L362.372 363.602 L361.621 365.552 L359.754 371.181 L358.189 376.811 L356.92 382.441 L355.939 388.071 L355.242 393.7 L354.825 399.33 \n",
       "  L354.728 403.271 L354.688 404.96 L354.728 406.649 L354.825 410.59 L355.242 416.22 L355.939 421.849 L356.92 427.479 L358.189 433.109 L359.754 438.739 L361.621 444.368 \n",
       "  L362.372 446.318 L363.857 449.998 L366.458 455.628 L369.41 461.258 L370.017 462.295 L372.842 466.887 L376.7 472.517 L377.661 473.793 L381.129 478.147 L385.305 482.916 \n",
       "  L386.106 483.777 L391.804 489.406 L392.949 490.45 L398.322 495.036 L400.593 496.832 L405.799 500.666 L408.238 502.339 L414.464 506.296 L415.882 507.139 L423.526 511.336 \n",
       "  L424.695 511.925 L431.17 515.001 L437.082 517.555 L438.815 518.263 L446.459 521.104 L452.694 523.185 L454.103 523.632 L461.747 525.806 L469.391 527.722 L474.388 528.815 \n",
       "  L477.036 529.368 L484.68 530.743 L492.324 531.895 L499.968 532.83 L507.613 533.553 L515.257 534.066 L522.901 534.373 L528.251 534.444 L530.545 534.474  Z\n",
       "  \" fill=\"#fba40a\" fill-rule=\"evenodd\" fill-opacity=\"1\"/>\n",
       "<path clip-path=\"url(#clip8102)\" d=\"\n",
       "M492.324 513.313 L499.968 514.457 L507.613 515.341 L515.257 515.969 L522.901 516.345 L530.545 516.47 L538.189 516.345 L545.834 515.969 L553.478 515.341 L561.122 514.457 \n",
       "  L568.766 513.313 L576.292 511.925 L576.41 511.902 L584.055 510.14 L591.699 508.082 L597.489 506.296 L599.343 505.689 L606.987 502.871 L612.324 500.666 L614.632 499.649 \n",
       "  L622.276 495.919 L623.922 495.036 L629.92 491.587 L633.388 489.406 L637.564 486.573 L641.361 483.777 L645.208 480.701 L648.169 478.147 L652.853 473.73 L654.051 472.517 \n",
       "  L659.116 466.887 L660.497 465.188 L663.491 461.258 L667.318 455.628 L668.141 454.263 L670.567 449.998 L673.361 444.368 L675.754 438.739 L675.785 438.651 L677.67 433.109 \n",
       "  L679.223 427.479 L680.423 421.849 L681.276 416.22 L681.786 410.59 L681.955 404.96 L681.786 399.33 L681.276 393.7 L680.423 388.071 L679.223 382.441 L677.67 376.811 \n",
       "  L675.785 371.269 L675.754 371.181 L673.361 365.552 L670.567 359.922 L668.141 355.657 L667.318 354.292 L663.491 348.662 L660.497 344.732 L659.116 343.033 L654.051 337.403 \n",
       "  L652.853 336.19 L648.169 331.773 L645.208 329.219 L641.361 326.143 L637.564 323.347 L633.388 320.514 L629.92 318.333 L623.922 314.884 L622.276 314.001 L614.632 310.271 \n",
       "  L612.324 309.254 L606.987 307.049 L599.343 304.231 L597.489 303.624 L591.699 301.838 L584.055 299.78 L576.41 298.018 L576.292 297.995 L568.766 296.607 L561.122 295.463 \n",
       "  L553.478 294.579 L545.834 293.951 L538.189 293.575 L530.545 293.45 L522.901 293.575 L515.257 293.951 L507.613 294.579 L499.968 295.463 L492.324 296.607 L484.798 297.995 \n",
       "  L484.68 298.018 L477.036 299.78 L469.391 301.838 L463.601 303.624 L461.747 304.231 L454.103 307.049 L448.767 309.254 L446.459 310.271 L438.815 314.001 L437.168 314.884 \n",
       "  L431.17 318.333 L427.703 320.514 L423.526 323.347 L419.729 326.143 L415.882 329.219 L412.921 331.773 L408.238 336.19 L407.039 337.403 L401.974 343.033 L400.593 344.732 \n",
       "  L397.599 348.662 L393.772 354.292 L392.949 355.657 L390.523 359.922 L387.729 365.552 L385.336 371.181 L385.305 371.269 L383.421 376.811 L381.868 382.441 L380.668 388.071 \n",
       "  L379.815 393.7 L379.305 399.33 L379.135 404.96 L379.305 410.59 L379.815 416.22 L380.668 421.849 L381.868 427.479 L383.421 433.109 L385.305 438.651 L385.336 438.739 \n",
       "  L387.729 444.368 L390.523 449.998 L392.949 454.263 L393.772 455.628 L397.599 461.258 L400.593 465.188 L401.974 466.887 L407.039 472.517 L408.238 473.73 L412.921 478.147 \n",
       "  L415.882 480.701 L419.729 483.777 L423.526 486.573 L427.703 489.406 L431.17 491.587 L437.168 495.036 L438.815 495.919 L446.459 499.649 L448.767 500.666 L454.103 502.871 \n",
       "  L461.747 505.689 L463.601 506.296 L469.391 508.082 L477.036 510.14 L484.68 511.902 L484.798 511.925 L492.324 513.313  Z\n",
       "  \" fill=\"#f9c52d\" fill-rule=\"evenodd\" fill-opacity=\"1\"/>\n",
       "<path clip-path=\"url(#clip8102)\" d=\"\n",
       "M522.901 495.353 L530.545 495.509 L538.189 495.353 L543.343 495.036 L545.834 494.874 L553.478 494.043 L561.122 492.873 L568.766 491.359 L576.41 489.494 L576.713 489.406 \n",
       "  L584.055 487.131 L591.699 484.365 L593.126 483.777 L599.343 481.01 L605.036 478.147 L606.987 477.082 L614.477 472.517 L614.632 472.414 L622.136 466.887 L622.276 466.774 \n",
       "  L628.473 461.258 L629.92 459.821 L633.808 455.628 L637.564 451.049 L638.364 449.998 L642.119 444.368 L645.208 438.961 L645.327 438.739 L647.86 433.109 L649.916 427.479 \n",
       "  L651.504 421.849 L652.632 416.22 L652.853 414.385 L653.282 410.59 L653.494 404.96 L653.282 399.33 L652.853 395.535 L652.632 393.7 L651.504 388.071 L649.916 382.441 \n",
       "  L647.86 376.811 L645.327 371.181 L645.208 370.959 L642.119 365.552 L638.364 359.922 L637.564 358.871 L633.808 354.292 L629.92 350.099 L628.473 348.662 L622.276 343.146 \n",
       "  L622.136 343.033 L614.632 337.506 L614.477 337.403 L606.987 332.838 L605.036 331.773 L599.343 328.91 L593.126 326.143 L591.699 325.555 L584.055 322.789 L576.713 320.514 \n",
       "  L576.41 320.426 L568.766 318.561 L561.122 317.047 L553.478 315.877 L545.834 315.046 L543.343 314.884 L538.189 314.567 L530.545 314.411 L522.901 314.567 L517.747 314.884 \n",
       "  L515.257 315.046 L507.613 315.877 L499.968 317.047 L492.324 318.561 L484.68 320.426 L484.378 320.514 L477.036 322.789 L469.391 325.555 L467.964 326.143 L461.747 328.91 \n",
       "  L456.054 331.773 L454.103 332.838 L446.613 337.403 L446.459 337.506 L438.954 343.033 L438.815 343.146 L432.617 348.662 L431.17 350.099 L427.282 354.292 L423.526 358.871 \n",
       "  L422.727 359.922 L418.972 365.552 L415.882 370.959 L415.763 371.181 L413.23 376.811 L411.175 382.441 L409.587 388.071 L408.458 393.7 L408.238 395.535 L407.808 399.33 \n",
       "  L407.596 404.96 L407.808 410.59 L408.238 414.385 L408.458 416.22 L409.587 421.849 L411.175 427.479 L413.23 433.109 L415.763 438.739 L415.882 438.961 L418.972 444.368 \n",
       "  L422.727 449.998 L423.526 451.049 L427.282 455.628 L431.17 459.821 L432.617 461.258 L438.815 466.774 L438.954 466.887 L446.459 472.414 L446.613 472.517 L454.103 477.082 \n",
       "  L456.054 478.147 L461.747 481.01 L467.964 483.777 L469.391 484.365 L477.036 487.131 L484.378 489.406 L484.68 489.494 L492.324 491.359 L499.968 492.873 L507.613 494.043 \n",
       "  L515.257 494.874 L517.747 495.036 L522.901 495.353  Z\n",
       "  \" fill=\"#f2e55f\" fill-rule=\"evenodd\" fill-opacity=\"1\"/>\n",
       "<path clip-path=\"url(#clip8102)\" d=\"\n",
       "M515.257 467.662 L522.901 468.367 L530.545 468.601 L538.189 468.367 L545.834 467.662 L550.858 466.887 L553.478 466.446 L561.122 464.635 L568.766 462.292 L571.515 461.258 \n",
       "  L576.41 459.217 L583.638 455.628 L584.055 455.396 L591.699 450.456 L592.321 449.998 L599.028 444.368 L599.343 444.062 L604.216 438.739 L606.987 435.134 L608.392 433.109 \n",
       "  L611.574 427.479 L614.032 421.849 L614.632 419.92 L615.683 416.22 L616.64 410.59 L616.959 404.96 L616.64 399.33 L615.683 393.7 L614.632 390 L614.032 388.071 \n",
       "  L611.574 382.441 L608.392 376.811 L606.987 374.786 L604.216 371.181 L599.343 365.858 L599.028 365.552 L592.321 359.922 L591.699 359.464 L584.055 354.524 L583.638 354.292 \n",
       "  L576.41 350.703 L571.515 348.662 L568.766 347.628 L561.122 345.285 L553.478 343.474 L550.858 343.033 L545.834 342.258 L538.189 341.553 L530.545 341.319 L522.901 341.553 \n",
       "  L515.257 342.258 L510.233 343.033 L507.613 343.474 L499.968 345.285 L492.324 347.628 L489.575 348.662 L484.68 350.703 L477.452 354.292 L477.036 354.524 L469.391 359.464 \n",
       "  L468.769 359.922 L462.062 365.552 L461.747 365.858 L456.874 371.181 L454.103 374.786 L452.698 376.811 L449.517 382.441 L447.059 388.071 L446.459 390 L445.407 393.7 \n",
       "  L444.45 399.33 L444.131 404.96 L444.45 410.59 L445.407 416.22 L446.459 419.92 L447.059 421.849 L449.517 427.479 L452.698 433.109 L454.103 435.134 L456.874 438.739 \n",
       "  L461.747 444.062 L462.062 444.368 L468.769 449.998 L469.391 450.456 L477.036 455.396 L477.452 455.628 L484.68 459.217 L489.575 461.258 L492.324 462.292 L499.968 464.635 \n",
       "  L507.613 466.446 L510.233 466.887 L515.257 467.662  Z\n",
       "  \" fill=\"#fcfea4\" fill-rule=\"evenodd\" fill-opacity=\"1\"/>\n",
       "<polyline clip-path=\"url(#clip8102)\" style=\"stroke:#000000; stroke-width:4; stroke-opacity:1; fill:none\" points=\"\n",
       "  148.334,686.448 148.334,686.448 155.979,686.448 163.623,686.448 171.267,686.448 178.911,686.448 186.555,686.448 194.2,686.448 201.844,686.448 209.488,686.448 \n",
       "  217.132,686.448 224.777,686.448 232.421,686.448 240.065,686.448 247.709,686.448 255.353,686.448 262.998,686.448 270.642,686.448 278.286,686.448 285.93,686.448 \n",
       "  293.574,686.448 301.219,686.448 308.863,686.448 316.507,686.448 324.151,686.448 331.796,686.448 339.44,686.448 347.084,686.448 354.728,686.448 362.372,686.448 \n",
       "  370.017,686.448 377.661,686.448 385.305,686.448 392.949,686.448 400.593,686.448 408.238,686.448 415.882,686.448 423.526,686.448 431.17,686.448 438.815,686.448 \n",
       "  446.459,686.448 454.103,686.448 461.747,686.448 469.391,686.448 477.036,686.448 484.68,686.448 492.324,686.448 499.968,686.448 507.613,686.448 515.257,686.448 \n",
       "  522.901,686.448 530.545,686.448 538.189,686.448 545.834,686.448 553.478,686.448 561.122,686.448 568.766,686.448 576.41,686.448 584.055,686.448 591.699,686.448 \n",
       "  599.343,686.448 606.987,686.448 614.632,686.448 622.276,686.448 629.92,686.448 637.564,686.448 645.208,686.448 652.853,686.448 660.497,686.448 668.141,686.448 \n",
       "  675.785,686.448 683.429,686.448 691.074,686.448 698.718,686.448 706.362,686.448 714.006,686.448 721.651,686.448 729.295,686.448 736.939,686.448 744.583,686.448 \n",
       "  752.227,686.448 759.872,686.448 767.516,686.448 775.16,686.448 782.804,686.448 790.448,686.448 798.093,686.448 805.737,686.448 813.381,686.448 821.025,686.448 \n",
       "  828.67,686.448 836.314,686.448 843.958,686.448 851.602,686.448 859.246,686.448 866.891,686.448 874.535,686.448 882.179,686.448 889.823,686.448 897.467,686.448 \n",
       "  905.112,686.448 912.756,686.448 912.756,680.818 912.756,675.188 912.756,669.559 912.756,663.929 912.756,658.299 \n",
       "  912.756,652.669 912.756,647.04 912.756,641.41 912.756,635.78 912.756,630.15 912.756,624.521 912.756,618.891 912.756,613.261 912.756,607.631 912.756,602.002 \n",
       "  912.756,596.372 912.756,590.742 912.756,585.112 912.756,579.482 912.756,573.853 912.756,568.223 912.756,562.593 912.756,556.963 912.756,551.334 912.756,545.704 \n",
       "  912.756,540.074 912.756,534.444 912.756,528.815 912.756,523.185 912.756,517.555 912.756,511.925 912.756,506.296 912.756,500.666 912.756,495.036 912.756,489.406 \n",
       "  912.756,483.777 912.756,478.147 912.756,472.517 912.756,466.887 912.756,461.258 912.756,455.628 912.756,449.998 912.756,444.368 912.756,438.739 912.756,433.109 \n",
       "  912.756,427.479 912.756,421.849 912.756,416.22 912.756,410.59 912.756,404.96 912.756,399.33 912.756,393.7 912.756,388.071 912.756,382.441 912.756,376.811 \n",
       "  912.756,371.181 912.756,365.552 912.756,359.922 912.756,354.292 912.756,348.662 912.756,343.033 912.756,337.403 912.756,331.773 912.756,326.143 912.756,320.514 \n",
       "  912.756,314.884 912.756,309.254 912.756,303.624 912.756,297.995 912.756,292.365 912.756,286.735 912.756,281.105 912.756,275.476 912.756,269.846 912.756,264.216 \n",
       "  912.756,258.586 912.756,252.957 912.756,247.327 912.756,241.697 912.756,236.067 912.756,230.438 912.756,224.808 912.756,219.178 912.756,213.548 912.756,207.918 \n",
       "  912.756,202.289 912.756,196.659 912.756,191.029 912.756,185.399 912.756,179.77 912.756,174.14 912.756,168.51 912.756,162.88 912.756,157.251 912.756,151.621 \n",
       "  912.756,145.991 912.756,140.361 912.756,134.732 912.756,129.102 912.756,123.472 905.112,123.472 897.467,123.472 \n",
       "  889.823,123.472 882.179,123.472 874.535,123.472 866.891,123.472 859.246,123.472 851.602,123.472 843.958,123.472 836.314,123.472 828.67,123.472 821.025,123.472 \n",
       "  813.381,123.472 805.737,123.472 798.093,123.472 790.448,123.472 782.804,123.472 775.16,123.472 767.516,123.472 759.872,123.472 752.227,123.472 744.583,123.472 \n",
       "  736.939,123.472 729.295,123.472 721.651,123.472 714.006,123.472 706.362,123.472 698.718,123.472 691.074,123.472 683.429,123.472 675.785,123.472 668.141,123.472 \n",
       "  660.497,123.472 652.853,123.472 645.208,123.472 637.564,123.472 629.92,123.472 622.276,123.472 614.632,123.472 606.987,123.472 599.343,123.472 591.699,123.472 \n",
       "  584.055,123.472 576.41,123.472 568.766,123.472 561.122,123.472 553.478,123.472 545.834,123.472 538.189,123.472 530.545,123.472 522.901,123.472 515.257,123.472 \n",
       "  507.613,123.472 499.968,123.472 492.324,123.472 484.68,123.472 477.036,123.472 469.391,123.472 461.747,123.472 454.103,123.472 446.459,123.472 438.815,123.472 \n",
       "  431.17,123.472 423.526,123.472 415.882,123.472 408.238,123.472 400.593,123.472 392.949,123.472 385.305,123.472 377.661,123.472 370.017,123.472 362.372,123.472 \n",
       "  354.728,123.472 347.084,123.472 339.44,123.472 331.796,123.472 324.151,123.472 316.507,123.472 308.863,123.472 301.219,123.472 293.574,123.472 285.93,123.472 \n",
       "  278.286,123.472 270.642,123.472 262.998,123.472 255.353,123.472 247.709,123.472 240.065,123.472 232.421,123.472 224.777,123.472 217.132,123.472 209.488,123.472 \n",
       "  201.844,123.472 194.2,123.472 186.555,123.472 178.911,123.472 171.267,123.472 163.623,123.472 155.979,123.472 148.334,123.472 \n",
       "  148.334,129.102 148.334,134.732 148.334,140.361 148.334,145.991 148.334,151.621 148.334,157.251 148.334,162.88 148.334,168.51 148.334,174.14 \n",
       "  148.334,179.77 148.334,185.399 148.334,191.029 148.334,196.659 148.334,202.289 148.334,207.918 148.334,213.548 148.334,219.178 148.334,224.808 148.334,230.438 \n",
       "  148.334,236.067 148.334,241.697 148.334,247.327 148.334,252.957 148.334,258.586 148.334,264.216 148.334,269.846 148.334,275.476 148.334,281.105 148.334,286.735 \n",
       "  148.334,292.365 148.334,297.995 148.334,303.624 148.334,309.254 148.334,314.884 148.334,320.514 148.334,326.143 148.334,331.773 148.334,337.403 148.334,343.033 \n",
       "  148.334,348.662 148.334,354.292 148.334,359.922 148.334,365.552 148.334,371.181 148.334,376.811 148.334,382.441 148.334,388.071 148.334,393.7 148.334,399.33 \n",
       "  148.334,404.96 148.334,410.59 148.334,416.22 148.334,421.849 148.334,427.479 148.334,433.109 148.334,438.739 148.334,444.368 148.334,449.998 148.334,455.628 \n",
       "  148.334,461.258 148.334,466.887 148.334,472.517 148.334,478.147 148.334,483.777 148.334,489.406 148.334,495.036 148.334,500.666 148.334,506.296 148.334,511.925 \n",
       "  148.334,517.555 148.334,523.185 148.334,528.815 148.334,534.444 148.334,540.074 148.334,545.704 148.334,551.334 148.334,556.963 148.334,562.593 148.334,568.223 \n",
       "  148.334,573.853 148.334,579.482 148.334,585.112 148.334,590.742 148.334,596.372 148.334,602.002 148.334,607.631 148.334,613.261 148.334,618.891 148.334,624.521 \n",
       "  148.334,630.15 148.334,635.78 148.334,641.41 148.334,647.04 148.334,652.669 148.334,658.299 148.334,663.929 148.334,669.559 148.334,675.188 148.334,680.818 \n",
       "  148.334,686.448 \n",
       "  \"/>\n",
       "<polyline clip-path=\"url(#clip8102)\" style=\"stroke:#000000; stroke-width:4; stroke-opacity:1; fill:none\" points=\"\n",
       "  507.613,675.19 515.257,675.218 522.901,675.235 530.545,675.24 538.189,675.235 545.834,675.218 553.478,675.19 553.896,675.188 561.122,675.151 568.766,675.101 \n",
       "  576.41,675.038 584.055,674.963 591.699,674.876 599.343,674.776 606.987,674.662 614.632,674.535 622.276,674.392 629.92,674.234 637.564,674.059 645.208,673.866 \n",
       "  652.853,673.655 660.497,673.423 668.141,673.169 675.785,672.892 683.429,672.588 691.074,672.257 698.718,671.894 706.362,671.498 714.006,671.063 721.651,670.587 \n",
       "  729.295,670.063 736.012,669.559 736.939,669.486 744.583,668.848 752.227,668.141 759.872,667.355 767.516,666.478 775.16,665.496 782.804,664.389 785.709,663.929 \n",
       "  790.448,663.132 798.093,661.696 805.737,660.045 812.746,658.299 813.381,658.129 821.025,655.871 828.67,653.192 830.005,652.669 836.314,649.947 842.044,647.04 \n",
       "  843.958,645.956 850.939,641.41 851.602,640.922 857.775,635.78 859.246,634.37 863.195,630.15 866.891,625.504 867.6,624.521 871.238,618.891 874.303,613.261 \n",
       "  874.535,612.793 876.905,607.631 879.147,602.002 881.097,596.372 882.179,592.882 882.804,590.742 884.307,585.112 885.641,579.482 886.831,573.853 887.898,568.223 \n",
       "  888.858,562.593 889.725,556.963 889.823,556.281 890.508,551.334 891.219,545.704 891.866,540.074 892.456,534.444 892.995,528.815 893.487,523.185 893.937,517.555 \n",
       "  894.349,511.925 894.726,506.296 895.07,500.666 895.385,495.036 895.672,489.406 895.934,483.777 896.171,478.147 896.386,472.517 896.58,466.887 896.753,461.258 \n",
       "  896.908,455.628 897.044,449.998 897.162,444.368 897.263,438.739 897.348,433.109 897.417,427.479 897.467,422.158 897.47,421.849 897.508,416.22 897.531,410.59 \n",
       "  897.538,404.96 897.531,399.33 897.508,393.7 897.47,388.071 897.467,387.762 897.417,382.441 897.348,376.811 897.263,371.181 897.162,365.552 897.044,359.922 \n",
       "  896.908,354.292 896.753,348.662 896.58,343.033 896.386,337.403 896.171,331.773 895.934,326.143 895.672,320.514 895.385,314.884 895.07,309.254 894.726,303.624 \n",
       "  894.349,297.995 893.937,292.365 893.487,286.735 892.995,281.105 892.456,275.476 891.866,269.846 891.219,264.216 890.508,258.586 889.823,253.639 889.725,252.957 \n",
       "  888.858,247.327 887.898,241.697 886.831,236.067 885.641,230.438 884.307,224.808 882.804,219.178 882.179,217.038 881.097,213.548 879.147,207.918 876.905,202.289 \n",
       "  874.535,197.127 874.303,196.659 871.238,191.029 867.6,185.399 866.891,184.416 863.195,179.77 859.246,175.55 857.775,174.14 851.602,168.998 850.939,168.51 \n",
       "  843.958,163.964 842.044,162.88 836.314,159.973 830.005,157.251 828.67,156.728 821.025,154.049 813.381,151.791 812.746,151.621 805.737,149.875 798.093,148.224 \n",
       "  790.448,146.788 785.709,145.991 782.804,145.531 775.16,144.424 767.516,143.442 759.872,142.565 752.227,141.779 744.583,141.072 736.939,140.434 736.012,140.361 \n",
       "  729.295,139.857 721.651,139.333 714.006,138.857 706.362,138.422 698.718,138.026 691.074,137.663 683.429,137.332 675.785,137.028 668.141,136.751 660.497,136.497 \n",
       "  652.853,136.265 645.208,136.054 637.564,135.861 629.92,135.686 622.276,135.528 614.632,135.385 606.987,135.258 599.343,135.144 591.699,135.044 584.055,134.957 \n",
       "  576.41,134.882 568.766,134.819 561.122,134.769 553.896,134.732 553.478,134.73 545.834,134.702 538.189,134.685 530.545,134.68 522.901,134.685 515.257,134.702 \n",
       "  507.613,134.73 507.194,134.732 499.968,134.769 492.324,134.819 484.68,134.882 477.036,134.957 469.391,135.044 461.747,135.144 454.103,135.258 446.459,135.385 \n",
       "  438.815,135.528 431.17,135.686 423.526,135.861 415.882,136.054 408.238,136.265 400.593,136.497 392.949,136.751 385.305,137.028 377.661,137.332 370.017,137.663 \n",
       "  362.372,138.026 354.728,138.422 347.084,138.857 339.44,139.333 331.796,139.857 325.078,140.361 324.151,140.434 316.507,141.072 308.863,141.779 301.219,142.565 \n",
       "  293.574,143.442 285.93,144.424 278.286,145.531 275.381,145.991 270.642,146.788 262.998,148.224 255.353,149.875 248.345,151.621 247.709,151.791 240.065,154.049 \n",
       "  232.421,156.728 231.085,157.251 224.777,159.973 219.046,162.88 217.132,163.964 210.151,168.51 209.488,168.998 203.315,174.14 201.844,175.55 197.896,179.77 \n",
       "  194.2,184.416 193.49,185.399 189.852,191.029 186.787,196.659 186.555,197.127 184.185,202.289 181.943,207.918 179.993,213.548 178.911,217.038 178.286,219.178 \n",
       "  176.784,224.808 175.45,230.438 174.259,236.067 173.192,241.697 172.232,247.327 171.365,252.957 171.267,253.639 170.582,258.586 169.871,264.216 169.224,269.846 \n",
       "  168.634,275.476 168.096,281.105 167.603,286.735 167.153,292.365 166.741,297.995 166.365,303.624 166.02,309.254 165.705,314.884 165.418,320.514 165.157,326.143 \n",
       "  164.919,331.773 164.704,337.403 164.51,343.033 164.337,348.662 164.183,354.292 164.047,359.922 163.928,365.552 163.827,371.181 163.742,376.811 163.673,382.441 \n",
       "  163.623,387.762 163.62,388.071 163.582,393.7 163.56,399.33 163.552,404.96 163.56,410.59 163.582,416.22 163.62,421.849 163.623,422.158 163.673,427.479 \n",
       "  163.742,433.109 163.827,438.739 163.928,444.368 164.047,449.998 164.183,455.628 164.337,461.258 164.51,466.887 164.704,472.517 164.919,478.147 165.157,483.777 \n",
       "  165.418,489.406 165.705,495.036 166.02,500.666 166.365,506.296 166.741,511.925 167.153,517.555 167.603,523.185 168.096,528.815 168.634,534.444 169.224,540.074 \n",
       "  169.871,545.704 170.582,551.334 171.267,556.281 171.365,556.963 172.232,562.593 173.192,568.223 174.259,573.853 175.45,579.482 176.784,585.112 178.286,590.742 \n",
       "  178.911,592.882 179.993,596.372 181.943,602.002 184.185,607.631 186.555,612.793 186.787,613.261 189.852,618.891 193.49,624.521 194.2,625.504 197.896,630.15 \n",
       "  201.844,634.37 203.315,635.78 209.488,640.922 210.151,641.41 217.132,645.956 219.046,647.04 224.777,649.947 231.085,652.669 232.421,653.192 240.065,655.871 \n",
       "  247.709,658.129 248.345,658.299 255.353,660.045 262.998,661.696 270.642,663.132 275.381,663.929 278.286,664.389 285.93,665.496 293.574,666.478 301.219,667.355 \n",
       "  308.863,668.141 316.507,668.848 324.151,669.486 325.078,669.559 331.796,670.063 339.44,670.587 347.084,671.063 354.728,671.498 362.372,671.894 370.017,672.257 \n",
       "  377.661,672.588 385.305,672.892 392.949,673.169 400.593,673.423 408.238,673.655 415.882,673.866 423.526,674.059 431.17,674.234 438.815,674.392 446.459,674.535 \n",
       "  454.103,674.662 461.747,674.776 469.391,674.876 477.036,674.963 484.68,675.038 492.324,675.101 499.968,675.151 507.194,675.188 507.613,675.19 \n",
       "  \"/>\n",
       "<polyline clip-path=\"url(#clip8102)\" style=\"stroke:#000000; stroke-width:4; stroke-opacity:1; fill:none\" points=\"\n",
       "  515.257,663.944 522.901,663.978 530.545,663.989 538.189,663.978 545.834,663.944 547.96,663.929 553.478,663.888 561.122,663.809 568.766,663.707 576.41,663.581 \n",
       "  584.055,663.431 591.699,663.255 599.343,663.054 606.987,662.825 614.632,662.567 622.276,662.28 629.92,661.961 637.564,661.609 645.208,661.221 652.853,660.795 \n",
       "  660.497,660.328 668.141,659.817 675.785,659.259 683.429,658.648 687.466,658.299 691.074,657.978 698.718,657.245 706.362,656.442 714.006,655.563 721.651,654.598 \n",
       "  729.295,653.539 735.038,652.669 736.939,652.37 744.583,651.073 752.227,649.638 759.872,648.043 764.264,647.04 767.516,646.257 775.16,644.249 782.804,641.987 \n",
       "  784.599,641.41 790.448,639.407 798.093,636.459 799.704,635.78 805.737,633.045 811.416,630.15 813.381,629.065 820.79,624.521 821.025,624.363 828.456,618.891 \n",
       "  828.67,618.718 834.841,613.261 836.314,611.814 840.244,607.631 843.958,603.188 844.88,602.002 848.883,596.372 851.602,592.064 852.386,590.742 855.457,585.112 \n",
       "  858.184,579.482 859.246,577.087 860.608,573.853 862.774,568.223 864.724,562.593 866.484,556.963 866.891,555.564 868.071,551.334 869.51,545.704 870.82,540.074 \n",
       "  872.013,534.444 873.103,528.815 874.1,523.185 874.535,520.528 875.008,517.555 875.838,511.925 876.596,506.296 877.29,500.666 877.924,495.036 878.503,489.406 \n",
       "  879.029,483.777 879.508,478.147 879.941,472.517 880.33,466.887 880.68,461.258 880.991,455.628 881.264,449.998 881.503,444.368 881.707,438.739 881.878,433.109 \n",
       "  882.017,427.479 882.124,421.849 882.179,417.785 882.2,416.22 882.246,410.59 882.261,404.96 882.246,399.33 882.2,393.7 882.179,392.135 882.124,388.071 \n",
       "  882.017,382.441 881.878,376.811 881.707,371.181 881.503,365.552 881.264,359.922 880.991,354.292 880.68,348.662 880.33,343.033 879.941,337.403 879.508,331.773 \n",
       "  879.029,326.143 878.503,320.514 877.924,314.884 877.29,309.254 876.596,303.624 875.838,297.995 875.008,292.365 874.535,289.392 874.1,286.735 873.103,281.105 \n",
       "  872.013,275.476 870.82,269.846 869.51,264.216 868.071,258.586 866.891,254.356 866.484,252.957 864.724,247.327 862.774,241.697 860.608,236.067 859.246,232.833 \n",
       "  858.184,230.438 855.457,224.808 852.386,219.178 851.602,217.856 848.883,213.548 844.88,207.918 843.958,206.732 840.244,202.289 836.314,198.106 834.841,196.659 \n",
       "  828.67,191.202 828.456,191.029 821.025,185.557 820.79,185.399 813.381,180.855 811.416,179.77 805.737,176.875 799.704,174.14 798.093,173.461 790.448,170.513 \n",
       "  784.599,168.51 782.804,167.933 775.16,165.671 767.516,163.663 764.264,162.88 759.872,161.877 752.227,160.282 744.583,158.847 736.939,157.55 735.038,157.251 \n",
       "  729.295,156.381 721.651,155.322 714.006,154.357 706.362,153.478 698.718,152.675 691.074,151.942 687.466,151.621 683.429,151.272 675.785,150.661 668.141,150.103 \n",
       "  660.497,149.592 652.853,149.125 645.208,148.699 637.564,148.311 629.92,147.959 622.276,147.64 614.632,147.353 606.987,147.095 599.343,146.866 591.699,146.665 \n",
       "  584.055,146.489 576.41,146.339 568.766,146.213 561.122,146.111 553.478,146.032 547.96,145.991 545.834,145.976 538.189,145.942 530.545,145.931 522.901,145.942 \n",
       "  515.257,145.976 513.131,145.991 507.613,146.032 499.968,146.111 492.324,146.213 484.68,146.339 477.036,146.489 469.391,146.665 461.747,146.866 454.103,147.095 \n",
       "  446.459,147.353 438.815,147.64 431.17,147.959 423.526,148.311 415.882,148.699 408.238,149.125 400.593,149.592 392.949,150.103 385.305,150.661 377.661,151.272 \n",
       "  373.624,151.621 370.017,151.942 362.372,152.675 354.728,153.478 347.084,154.357 339.44,155.322 331.796,156.381 326.052,157.251 324.151,157.55 316.507,158.847 \n",
       "  308.863,160.282 301.219,161.877 296.827,162.88 293.574,163.663 285.93,165.671 278.286,167.933 276.491,168.51 270.642,170.513 262.998,173.461 261.386,174.14 \n",
       "  255.353,176.875 249.674,179.77 247.709,180.855 240.3,185.399 240.065,185.557 232.634,191.029 232.421,191.202 226.25,196.659 224.777,198.106 220.846,202.289 \n",
       "  217.132,206.732 216.21,207.918 212.207,213.548 209.488,217.856 208.705,219.178 205.633,224.808 202.906,230.438 201.844,232.833 200.482,236.067 198.316,241.697 \n",
       "  196.367,247.327 194.606,252.957 194.2,254.356 193.019,258.586 191.58,264.216 190.271,269.846 189.077,275.476 187.987,281.105 186.991,286.735 186.555,289.392 \n",
       "  186.082,292.365 185.253,297.995 184.494,303.624 183.8,309.254 183.166,314.884 182.588,320.514 182.061,326.143 181.583,331.773 181.15,337.403 180.76,343.033 \n",
       "  180.41,348.662 180.1,354.292 179.826,359.922 179.588,365.552 179.383,371.181 179.212,376.811 179.074,382.441 178.966,388.071 178.911,392.135 178.89,393.7 \n",
       "  178.845,399.33 178.83,404.96 178.845,410.59 178.89,416.22 178.911,417.785 178.966,421.849 179.074,427.479 179.212,433.109 179.383,438.739 179.588,444.368 \n",
       "  179.826,449.998 180.1,455.628 180.41,461.258 180.76,466.887 181.15,472.517 181.583,478.147 182.061,483.777 182.588,489.406 183.166,495.036 183.8,500.666 \n",
       "  184.494,506.296 185.253,511.925 186.082,517.555 186.555,520.528 186.991,523.185 187.987,528.815 189.077,534.444 190.271,540.074 191.58,545.704 193.019,551.334 \n",
       "  194.2,555.564 194.606,556.963 196.367,562.593 198.316,568.223 200.482,573.853 201.844,577.087 202.906,579.482 205.633,585.112 208.705,590.742 209.488,592.064 \n",
       "  212.207,596.372 216.21,602.002 217.132,603.188 220.846,607.631 224.777,611.814 226.25,613.261 232.421,618.718 232.634,618.891 240.065,624.363 240.3,624.521 \n",
       "  247.709,629.065 249.674,630.15 255.353,633.045 261.386,635.78 262.998,636.459 270.642,639.407 276.491,641.41 278.286,641.987 285.93,644.249 293.574,646.257 \n",
       "  296.827,647.04 301.219,648.043 308.863,649.638 316.507,651.073 324.151,652.37 326.052,652.669 331.796,653.539 339.44,654.598 347.084,655.563 354.728,656.442 \n",
       "  362.372,657.245 370.017,657.978 373.624,658.299 377.661,658.648 385.305,659.259 392.949,659.817 400.593,660.328 408.238,660.795 415.882,661.221 423.526,661.609 \n",
       "  431.17,661.961 438.815,662.28 446.459,662.567 454.103,662.825 461.747,663.054 469.391,663.255 477.036,663.431 484.68,663.581 492.324,663.707 499.968,663.809 \n",
       "  507.613,663.888 513.131,663.929 515.257,663.944 \n",
       "  \"/>\n",
       "<polyline clip-path=\"url(#clip8102)\" style=\"stroke:#000000; stroke-width:4; stroke-opacity:1; fill:none\" points=\"\n",
       "  400.593,647.096 408.238,647.804 415.882,648.45 423.526,649.038 431.17,649.572 438.815,650.056 446.459,650.491 454.103,650.882 461.747,651.229 469.391,651.535 \n",
       "  477.036,651.801 484.68,652.029 492.324,652.22 499.968,652.375 507.613,652.495 515.257,652.58 522.901,652.631 530.545,652.648 538.189,652.631 545.834,652.58 \n",
       "  553.478,652.495 561.122,652.375 568.766,652.22 576.41,652.029 584.055,651.801 591.699,651.535 599.343,651.229 606.987,650.882 614.632,650.491 622.276,650.056 \n",
       "  629.92,649.572 637.564,649.038 645.208,648.45 652.853,647.804 660.497,647.096 661.063,647.04 668.141,646.316 675.785,645.462 683.429,644.529 691.074,643.51 \n",
       "  698.718,642.395 704.923,641.41 706.362,641.173 714.006,639.826 721.651,638.349 729.295,636.725 733.401,635.78 736.939,634.93 744.583,632.937 752.227,630.731 \n",
       "  754.097,630.15 759.872,628.26 767.516,625.497 770.007,624.521 775.16,622.377 782.719,618.891 782.804,618.849 790.448,614.802 793.102,613.261 798.093,610.143 \n",
       "  801.784,607.631 805.737,604.72 809.148,602.002 813.381,598.326 815.474,596.372 820.969,590.742 821.025,590.68 825.759,585.112 828.67,581.317 829.996,579.482 \n",
       "  833.748,573.853 836.314,569.6 837.102,568.223 840.098,562.593 842.803,556.963 843.958,554.358 845.241,551.334 847.446,545.704 849.452,540.074 851.281,534.444 \n",
       "  851.602,533.385 852.94,528.815 854.454,523.185 855.838,517.555 857.105,511.925 858.264,506.296 859.246,501.083 859.323,500.666 860.284,495.036 861.162,489.406 \n",
       "  861.96,483.777 862.686,478.147 863.342,472.517 863.934,466.887 864.463,461.258 864.935,455.628 865.35,449.998 865.711,444.368 866.021,438.739 866.28,433.109 \n",
       "  866.491,427.479 866.653,421.849 866.769,416.22 866.838,410.59 866.861,404.96 866.838,399.33 866.769,393.7 866.653,388.071 866.491,382.441 866.28,376.811 \n",
       "  866.021,371.181 865.711,365.552 865.35,359.922 864.935,354.292 864.463,348.662 863.934,343.033 863.342,337.403 862.686,331.773 861.96,326.143 861.162,320.514 \n",
       "  860.284,314.884 859.323,309.254 859.246,308.837 858.264,303.624 857.105,297.995 855.838,292.365 854.454,286.735 852.94,281.105 851.602,276.535 851.281,275.476 \n",
       "  849.452,269.846 847.446,264.216 845.241,258.586 843.958,255.562 842.803,252.957 840.098,247.327 837.102,241.697 836.314,240.32 833.748,236.067 829.996,230.438 \n",
       "  828.67,228.603 825.759,224.808 821.025,219.24 820.969,219.178 815.474,213.548 813.381,211.594 809.148,207.918 805.737,205.2 801.784,202.289 798.093,199.777 \n",
       "  793.102,196.659 790.448,195.118 782.804,191.071 782.719,191.029 775.16,187.543 770.007,185.399 767.516,184.423 759.872,181.66 754.097,179.77 752.227,179.189 \n",
       "  744.583,176.983 736.939,174.99 733.401,174.14 729.295,173.195 721.651,171.571 714.006,170.094 706.362,168.747 704.923,168.51 698.718,167.525 691.074,166.41 \n",
       "  683.429,165.391 675.785,164.458 668.141,163.604 661.063,162.88 660.497,162.824 652.853,162.116 645.208,161.47 637.564,160.882 629.92,160.348 622.276,159.864 \n",
       "  614.632,159.429 606.987,159.038 599.343,158.691 591.699,158.385 584.055,158.119 576.41,157.891 568.766,157.7 561.122,157.545 553.478,157.425 545.834,157.34 \n",
       "  538.189,157.289 530.545,157.272 522.901,157.289 515.257,157.34 507.613,157.425 499.968,157.545 492.324,157.7 484.68,157.891 477.036,158.119 469.391,158.385 \n",
       "  461.747,158.691 454.103,159.038 446.459,159.429 438.815,159.864 431.17,160.348 423.526,160.882 415.882,161.47 408.238,162.116 400.593,162.824 400.028,162.88 \n",
       "  392.949,163.604 385.305,164.458 377.661,165.391 370.017,166.41 362.372,167.525 356.167,168.51 354.728,168.747 347.084,170.094 339.44,171.571 331.796,173.195 \n",
       "  327.689,174.14 324.151,174.99 316.507,176.983 308.863,179.189 306.993,179.77 301.219,181.66 293.574,184.423 291.083,185.399 285.93,187.543 278.371,191.029 \n",
       "  278.286,191.071 270.642,195.118 267.988,196.659 262.998,199.777 259.307,202.289 255.353,205.2 251.943,207.918 247.709,211.594 245.617,213.548 240.122,219.178 \n",
       "  240.065,219.24 235.331,224.808 232.421,228.603 231.094,230.438 227.343,236.067 224.777,240.32 223.988,241.697 220.992,247.327 218.287,252.957 217.132,255.562 \n",
       "  215.849,258.586 213.644,264.216 211.638,269.846 209.809,275.476 209.488,276.535 208.15,281.105 206.637,286.735 205.252,292.365 203.985,297.995 202.827,303.624 \n",
       "  201.844,308.837 201.767,309.254 200.806,314.884 199.929,320.514 199.13,326.143 198.405,331.773 197.748,337.403 197.157,343.033 196.627,348.662 196.156,354.292 \n",
       "  195.74,359.922 195.379,365.552 195.069,371.181 194.81,376.811 194.599,382.441 194.437,388.071 194.321,393.7 194.252,399.33 194.229,404.96 194.252,410.59 \n",
       "  194.321,416.22 194.437,421.849 194.599,427.479 194.81,433.109 195.069,438.739 195.379,444.368 195.74,449.998 196.156,455.628 196.627,461.258 197.157,466.887 \n",
       "  197.748,472.517 198.405,478.147 199.13,483.777 199.929,489.406 200.806,495.036 201.767,500.666 201.844,501.083 202.827,506.296 203.985,511.925 205.252,517.555 \n",
       "  206.637,523.185 208.15,528.815 209.488,533.385 209.809,534.444 211.638,540.074 213.644,545.704 215.849,551.334 217.132,554.358 218.287,556.963 220.992,562.593 \n",
       "  223.988,568.223 224.777,569.6 227.343,573.853 231.094,579.482 232.421,581.317 235.331,585.112 240.065,590.68 240.122,590.742 245.617,596.372 247.709,598.326 \n",
       "  251.943,602.002 255.353,604.72 259.307,607.631 262.998,610.143 267.988,613.261 270.642,614.802 278.286,618.849 278.371,618.891 285.93,622.377 291.083,624.521 \n",
       "  293.574,625.497 301.219,628.26 306.993,630.15 308.863,630.731 316.507,632.937 324.151,634.93 327.689,635.78 331.796,636.725 339.44,638.349 347.084,639.826 \n",
       "  354.728,641.173 356.167,641.41 362.372,642.395 370.017,643.51 377.661,644.529 385.305,645.462 392.949,646.316 400.028,647.04 400.593,647.096 \n",
       "  \"/>\n",
       "<polyline clip-path=\"url(#clip8102)\" style=\"stroke:#000000; stroke-width:4; stroke-opacity:1; fill:none\" points=\"\n",
       "  423.526,636.281 431.17,637.004 438.815,637.658 446.459,638.248 454.103,638.776 461.747,639.246 469.391,639.66 477.036,640.02 484.68,640.329 492.324,640.587 \n",
       "  499.968,640.797 507.613,640.959 515.257,641.075 522.901,641.143 530.545,641.166 538.189,641.143 545.834,641.075 553.478,640.959 561.122,640.797 568.766,640.587 \n",
       "  576.41,640.329 584.055,640.02 591.699,639.66 599.343,639.246 606.987,638.776 614.632,638.248 622.276,637.658 629.92,637.004 637.564,636.281 642.399,635.78 \n",
       "  645.208,635.482 652.853,634.599 660.497,633.632 668.141,632.573 675.785,631.416 683.429,630.15 683.429,630.15 691.074,628.753 698.718,627.225 706.362,625.554 \n",
       "  710.729,624.521 714.006,623.714 721.651,621.682 729.295,619.45 731.081,618.891 736.939,616.968 744.583,614.22 747.057,613.261 752.227,611.148 759.872,607.721 \n",
       "  760.058,607.631 767.516,603.841 770.838,602.002 775.16,599.451 779.98,596.372 782.804,594.44 787.825,590.742 790.448,588.662 794.629,585.112 798.093,581.929 \n",
       "  800.59,579.482 805.737,573.99 805.858,573.853 810.513,568.223 813.381,564.415 814.683,562.593 818.415,556.963 821.025,552.649 821.785,551.334 824.816,545.704 \n",
       "  827.574,540.074 828.67,537.66 830.072,534.444 832.342,528.815 834.416,523.185 836.314,517.555 836.314,517.555 838.032,511.925 839.604,506.296 841.041,500.666 \n",
       "  842.355,495.036 843.553,489.406 843.958,487.337 844.638,483.777 845.62,478.147 846.508,472.517 847.309,466.887 848.026,461.258 848.664,455.628 849.226,449.998 \n",
       "  849.715,444.368 850.134,438.739 850.486,433.109 850.77,427.479 850.991,421.849 851.147,416.22 851.241,410.59 851.272,404.96 851.241,399.33 851.147,393.7 \n",
       "  850.991,388.071 850.77,382.441 850.486,376.811 850.134,371.181 849.715,365.552 849.226,359.922 848.664,354.292 848.026,348.662 847.309,343.033 846.508,337.403 \n",
       "  845.62,331.773 844.638,326.143 843.958,322.583 843.553,320.514 842.355,314.884 841.041,309.254 839.604,303.624 838.032,297.995 836.314,292.365 \n",
       "  834.416,286.735 832.342,281.105 830.072,275.476 828.67,272.26 827.574,269.846 824.816,264.216 821.785,258.586 821.025,257.271 818.415,252.957 814.683,247.327 \n",
       "  813.381,245.505 810.513,241.697 805.858,236.067 805.737,235.93 800.59,230.438 798.093,227.991 794.629,224.808 790.448,221.258 787.825,219.178 782.804,215.48 \n",
       "  779.98,213.548 775.16,210.469 770.838,207.918 767.516,206.079 760.058,202.289 759.872,202.199 752.227,198.772 747.057,196.659 744.583,195.7 736.939,192.952 \n",
       "  731.081,191.029 729.295,190.47 721.651,188.238 714.006,186.206 710.729,185.399 706.362,184.366 698.718,182.695 691.074,181.167 683.429,179.77 \n",
       "  675.785,178.504 668.141,177.347 660.497,176.288 652.853,175.321 645.208,174.438 642.399,174.14 637.564,173.639 629.92,172.916 622.276,172.262 614.632,171.672 \n",
       "  606.987,171.144 599.343,170.674 591.699,170.26 584.055,169.9 576.41,169.591 568.766,169.333 561.122,169.123 553.478,168.961 545.834,168.845 538.189,168.777 \n",
       "  530.545,168.754 522.901,168.777 515.257,168.845 507.613,168.961 499.968,169.123 492.324,169.333 484.68,169.591 477.036,169.9 469.391,170.26 461.747,170.674 \n",
       "  454.103,171.144 446.459,171.672 438.815,172.262 431.17,172.916 423.526,173.639 418.691,174.14 415.882,174.438 408.238,175.321 400.593,176.288 392.949,177.347 \n",
       "  385.305,178.504 377.661,179.77 377.661,179.77 370.017,181.167 362.372,182.695 354.728,184.366 350.362,185.399 347.084,186.206 339.44,188.238 331.796,190.47 \n",
       "  330.009,191.029 324.151,192.952 316.507,195.7 314.033,196.659 308.863,198.772 301.219,202.199 301.032,202.289 293.574,206.079 290.252,207.918 285.93,210.469 \n",
       "  281.11,213.548 278.286,215.48 273.265,219.178 270.642,221.258 266.461,224.808 262.998,227.991 260.5,230.438 255.353,235.93 255.232,236.067 250.578,241.697 \n",
       "  247.709,245.505 246.407,247.327 242.676,252.957 240.065,257.271 239.306,258.586 236.275,264.216 233.517,269.846 232.421,272.26 231.018,275.476 228.748,281.105 \n",
       "  226.674,286.735 224.777,292.365 224.777,292.365 223.058,297.995 221.486,303.624 220.049,309.254 218.736,314.884 217.537,320.514 217.132,322.583 216.452,326.143 \n",
       "  215.471,331.773 214.582,337.403 213.781,343.033 213.064,348.662 212.426,354.292 211.864,359.922 211.375,365.552 210.956,371.181 210.605,376.811 210.32,382.441 \n",
       "  210.1,388.071 209.943,393.7 209.85,399.33 209.819,404.96 209.85,410.59 209.943,416.22 210.1,421.849 210.32,427.479 210.605,433.109 210.956,438.739 \n",
       "  211.375,444.368 211.864,449.998 212.426,455.628 213.064,461.258 213.781,466.887 214.582,472.517 215.471,478.147 216.452,483.777 217.132,487.337 217.537,489.406 \n",
       "  218.736,495.036 220.049,500.666 221.486,506.296 223.058,511.925 224.777,517.555 224.777,517.555 226.674,523.185 228.748,528.815 231.018,534.444 232.421,537.66 \n",
       "  233.517,540.074 236.275,545.704 239.306,551.334 240.065,552.649 242.676,556.963 246.407,562.593 247.709,564.415 250.578,568.223 255.232,573.853 255.353,573.99 \n",
       "  260.5,579.482 262.998,581.929 266.461,585.112 270.642,588.662 273.265,590.742 278.286,594.44 281.11,596.372 285.93,599.451 290.252,602.002 293.574,603.841 \n",
       "  301.032,607.631 301.219,607.721 308.863,611.148 314.033,613.261 316.507,614.22 324.151,616.968 330.009,618.891 331.796,619.45 339.44,621.682 347.084,623.714 \n",
       "  350.362,624.521 354.728,625.554 362.372,627.225 370.017,628.753 377.661,630.15 377.661,630.15 385.305,631.416 392.949,632.573 400.593,633.632 408.238,634.599 \n",
       "  415.882,635.482 418.691,635.78 423.526,636.281 \n",
       "  \"/>\n",
       "<polyline clip-path=\"url(#clip8102)\" style=\"stroke:#000000; stroke-width:4; stroke-opacity:1; fill:none\" points=\"\n",
       "  438.815,625.02 446.459,625.771 454.103,626.444 461.747,627.043 469.391,627.571 477.036,628.03 484.68,628.423 492.324,628.753 499.968,629.02 507.613,629.227 \n",
       "  515.257,629.374 522.901,629.461 530.545,629.491 538.189,629.461 545.834,629.374 553.478,629.227 561.122,629.02 568.766,628.753 576.41,628.423 584.055,628.03 \n",
       "  591.699,627.571 599.343,627.043 606.987,626.444 614.632,625.771 622.276,625.02 626.876,624.521 629.92,624.182 637.564,623.25 645.208,622.224 652.853,621.097 \n",
       "  660.497,619.861 666.013,618.891 668.141,618.504 675.785,617.007 683.429,615.371 691.074,613.582 692.356,613.261 698.718,611.604 706.362,609.435 712.206,607.631 \n",
       "  714.006,607.051 721.651,604.406 728.009,602.002 729.295,601.491 736.939,598.239 740.984,596.372 744.583,594.618 751.918,590.742 752.227,590.569 759.872,585.989 \n",
       "  761.232,585.112 767.516,580.794 769.296,579.482 775.16,574.855 776.35,573.853 782.569,568.223 782.804,567.995 788.067,562.593 790.448,559.942 792.984,556.963 \n",
       "  797.4,551.334 798.093,550.387 801.357,545.704 804.949,540.074 805.737,538.748 808.186,534.444 811.131,528.815 813.381,524.129 813.817,523.185 816.246,517.555 \n",
       "  818.468,511.925 820.501,506.296 821.025,504.728 822.343,500.666 824.02,495.036 825.551,489.406 826.944,483.777 828.21,478.147 828.67,475.905 829.347,472.517 \n",
       "  830.368,466.887 831.282,461.258 832.095,455.628 832.811,449.998 833.434,444.368 833.969,438.739 834.416,433.109 834.779,427.479 835.06,421.849 835.259,416.22 \n",
       "  835.378,410.59 835.418,404.96 835.378,399.33 835.259,393.7 835.06,388.071 834.779,382.441 834.416,376.811 833.969,371.181 833.434,365.552 832.811,359.922 \n",
       "  832.095,354.292 831.282,348.662 830.368,343.033 829.347,337.403 828.67,334.015 828.21,331.773 826.944,326.143 825.551,320.514 824.02,314.884 822.343,309.254 \n",
       "  821.025,305.192 820.501,303.624 818.468,297.995 816.246,292.365 813.817,286.735 813.381,285.791 811.131,281.105 808.186,275.476 805.737,271.172 804.949,269.846 \n",
       "  801.357,264.216 798.093,259.533 797.4,258.586 792.984,252.957 790.448,249.978 788.067,247.327 782.804,241.925 782.569,241.697 776.35,236.067 775.16,235.065 \n",
       "  769.296,230.438 767.516,229.126 761.232,224.808 759.872,223.931 752.227,219.351 751.918,219.178 744.583,215.302 740.984,213.548 736.939,211.681 729.295,208.429 \n",
       "  728.009,207.918 721.651,205.514 714.006,202.869 712.206,202.289 706.362,200.485 698.718,198.316 692.356,196.659 691.074,196.338 683.429,194.549 675.785,192.913 \n",
       "  668.141,191.416 666.013,191.029 660.497,190.059 652.853,188.823 645.208,187.696 637.564,186.67 629.92,185.738 626.876,185.399 622.276,184.9 614.632,184.149 \n",
       "  606.987,183.476 599.343,182.877 591.699,182.349 584.055,181.89 576.41,181.497 568.766,181.167 561.122,180.9 553.478,180.693 545.834,180.546 538.189,180.459 \n",
       "  530.545,180.429 522.901,180.459 515.257,180.546 507.613,180.693 499.968,180.9 492.324,181.167 484.68,181.497 477.036,181.89 469.391,182.349 461.747,182.877 \n",
       "  454.103,183.476 446.459,184.149 438.815,184.9 434.215,185.399 431.17,185.738 423.526,186.67 415.882,187.696 408.238,188.823 400.593,190.059 395.077,191.029 \n",
       "  392.949,191.416 385.305,192.913 377.661,194.549 370.017,196.338 368.734,196.659 362.372,198.316 354.728,200.485 348.884,202.289 347.084,202.869 339.44,205.514 \n",
       "  333.081,207.918 331.796,208.429 324.151,211.681 320.106,213.548 316.507,215.302 309.172,219.178 308.863,219.351 301.219,223.931 299.858,224.808 293.574,229.126 \n",
       "  291.794,230.438 285.93,235.065 284.74,236.067 278.521,241.697 278.286,241.925 273.023,247.327 270.642,249.978 268.107,252.957 263.69,258.586 262.998,259.533 \n",
       "  259.733,264.216 256.142,269.846 255.353,271.172 252.904,275.476 249.959,281.105 247.709,285.791 247.273,286.735 244.844,292.365 242.623,297.995 240.59,303.624 \n",
       "  240.065,305.192 238.747,309.254 237.07,314.884 235.539,320.514 234.146,326.143 232.88,331.773 232.421,334.015 231.743,337.403 230.723,343.033 229.809,348.662 \n",
       "  228.996,354.292 228.279,359.922 227.656,365.552 227.122,371.181 226.674,376.811 226.311,382.441 226.031,388.071 225.831,393.7 225.712,399.33 225.672,404.96 \n",
       "  225.712,410.59 225.831,416.22 226.031,421.849 226.311,427.479 226.674,433.109 227.122,438.739 227.656,444.368 228.279,449.998 228.996,455.628 229.809,461.258 \n",
       "  230.723,466.887 231.743,472.517 232.421,475.905 232.88,478.147 234.146,483.777 235.539,489.406 237.07,495.036 238.747,500.666 240.065,504.728 240.59,506.296 \n",
       "  242.623,511.925 244.844,517.555 247.273,523.185 247.709,524.129 249.959,528.815 252.904,534.444 255.353,538.748 256.142,540.074 259.733,545.704 262.998,550.387 \n",
       "  263.69,551.334 268.107,556.963 270.642,559.942 273.023,562.593 278.286,567.995 278.521,568.223 284.74,573.853 285.93,574.855 291.794,579.482 293.574,580.794 \n",
       "  299.858,585.112 301.219,585.989 308.863,590.569 309.172,590.742 316.507,594.618 320.106,596.372 324.151,598.239 331.796,601.491 333.081,602.002 339.44,604.406 \n",
       "  347.084,607.051 348.884,607.631 354.728,609.435 362.372,611.604 368.734,613.261 370.017,613.582 377.661,615.371 385.305,617.007 392.949,618.504 395.077,618.891 \n",
       "  400.593,619.861 408.238,621.097 415.882,622.224 423.526,623.25 431.17,624.182 434.215,624.521 438.815,625.02 \n",
       "  \"/>\n",
       "<polyline clip-path=\"url(#clip8102)\" style=\"stroke:#000000; stroke-width:4; stroke-opacity:1; fill:none\" points=\"\n",
       "  454.103,613.814 461.747,614.549 469.391,615.198 477.036,615.762 484.68,616.245 492.324,616.65 499.968,616.979 507.613,617.233 515.257,617.413 522.901,617.521 \n",
       "  530.545,617.557 538.189,617.521 545.834,617.413 553.478,617.233 561.122,616.979 568.766,616.65 576.41,616.245 584.055,615.762 591.699,615.198 599.343,614.549 \n",
       "  606.987,613.814 612.114,613.261 614.632,612.983 622.276,612.047 629.92,611.008 637.564,609.86 645.208,608.596 650.548,607.631 652.853,607.202 660.497,605.657 \n",
       "  668.141,603.967 675.785,602.119 676.239,602.002 683.429,600.068 691.074,597.824 695.646,596.372 698.718,595.354 706.362,592.623 711.219,590.742 714.006,589.61 \n",
       "  721.651,586.268 724.108,585.112 729.295,582.543 735.015,579.482 736.939,578.394 744.403,573.853 744.583,573.736 752.227,568.462 752.553,568.223 759.713,562.593 \n",
       "  759.872,562.46 766.037,556.963 767.516,555.546 771.672,551.334 775.16,547.514 776.729,545.704 781.268,540.074 782.804,538.021 785.358,534.444 789.066,528.815 \n",
       "  790.448,526.552 792.421,523.185 795.467,517.555 798.093,512.26 798.252,511.925 800.762,506.296 803.057,500.666 805.153,495.036 805.737,493.339 807.047,489.406 \n",
       "  808.763,483.777 810.322,478.147 811.733,472.517 813.003,466.887 813.381,465.033 814.132,461.258 815.131,455.628 816.011,449.998 816.777,444.368 817.433,438.739 \n",
       "  817.983,433.109 818.429,427.479 818.774,421.849 819.019,416.22 819.166,410.59 819.214,404.96 819.166,399.33 819.019,393.7 818.774,388.071 818.429,382.441 \n",
       "  817.983,376.811 817.433,371.181 816.777,365.552 816.011,359.922 815.131,354.292 814.132,348.662 813.381,344.887 813.003,343.033 811.733,337.403 810.322,331.773 \n",
       "  808.763,326.143 807.047,320.514 805.737,316.581 805.153,314.884 803.057,309.254 800.762,303.624 798.252,297.995 798.093,297.66 795.467,292.365 792.421,286.735 \n",
       "  790.448,283.368 789.066,281.105 785.358,275.476 782.804,271.899 781.268,269.846 776.729,264.216 775.16,262.406 771.672,258.586 767.516,254.374 766.037,252.957 \n",
       "  759.872,247.46 759.713,247.327 752.553,241.697 752.227,241.458 744.583,236.184 744.403,236.067 736.939,231.526 735.015,230.438 729.295,227.377 724.108,224.808 \n",
       "  721.651,223.652 714.006,220.31 711.219,219.178 706.362,217.297 698.718,214.566 695.646,213.548 691.074,212.096 683.429,209.852 676.239,207.918 675.785,207.801 \n",
       "  668.141,205.953 660.497,204.263 652.853,202.718 650.548,202.289 645.208,201.324 637.564,200.06 629.92,198.912 622.276,197.873 614.632,196.937 612.114,196.659 \n",
       "  606.987,196.106 599.343,195.371 591.699,194.722 584.055,194.158 576.41,193.675 568.766,193.27 561.122,192.941 553.478,192.687 545.834,192.507 538.189,192.399 \n",
       "  530.545,192.363 522.901,192.399 515.257,192.507 507.613,192.687 499.968,192.941 492.324,193.27 484.68,193.675 477.036,194.158 469.391,194.722 461.747,195.371 \n",
       "  454.103,196.106 448.977,196.659 446.459,196.937 438.815,197.873 431.17,198.912 423.526,200.06 415.882,201.324 410.542,202.289 408.238,202.718 400.593,204.263 \n",
       "  392.949,205.953 385.305,207.801 384.851,207.918 377.661,209.852 370.017,212.096 365.444,213.548 362.372,214.566 354.728,217.297 349.872,219.178 347.084,220.31 \n",
       "  339.44,223.652 336.982,224.808 331.796,227.377 326.076,230.438 324.151,231.526 316.688,236.067 316.507,236.184 308.863,241.458 308.538,241.697 301.377,247.327 \n",
       "  301.219,247.46 295.053,252.957 293.574,254.374 289.418,258.586 285.93,262.406 284.362,264.216 279.823,269.846 278.286,271.899 275.733,275.476 272.024,281.105 \n",
       "  270.642,283.368 268.67,286.735 265.623,292.365 262.998,297.66 262.838,297.995 260.329,303.624 258.034,309.254 255.937,314.884 255.353,316.581 254.043,320.514 \n",
       "  252.327,326.143 250.768,331.773 249.358,337.403 248.087,343.033 247.709,344.887 246.959,348.662 245.96,354.292 245.079,359.922 244.313,365.552 243.657,371.181 \n",
       "  243.107,376.811 242.661,382.441 242.316,388.071 242.071,393.7 241.925,399.33 241.876,404.96 241.925,410.59 242.071,416.22 242.316,421.849 242.661,427.479 \n",
       "  243.107,433.109 243.657,438.739 244.313,444.368 245.079,449.998 245.96,455.628 246.959,461.258 247.709,465.033 248.087,466.887 249.358,472.517 250.768,478.147 \n",
       "  252.327,483.777 254.043,489.406 255.353,493.339 255.937,495.036 258.034,500.666 260.329,506.296 262.838,511.925 262.998,512.26 265.623,517.555 268.67,523.185 \n",
       "  270.642,526.552 272.024,528.815 275.733,534.444 278.286,538.021 279.823,540.074 284.362,545.704 285.93,547.514 289.418,551.334 293.574,555.546 295.053,556.963 \n",
       "  301.219,562.46 301.377,562.593 308.538,568.223 308.863,568.462 316.507,573.736 316.688,573.853 324.151,578.394 326.076,579.482 331.796,582.543 336.982,585.112 \n",
       "  339.44,586.268 347.084,589.61 349.872,590.742 354.728,592.623 362.372,595.354 365.444,596.372 370.017,597.824 377.661,600.068 384.851,602.002 385.305,602.119 \n",
       "  392.949,603.967 400.593,605.657 408.238,607.202 410.542,607.631 415.882,608.596 423.526,609.86 431.17,611.008 438.815,612.047 446.459,612.983 448.977,613.261 \n",
       "  454.103,613.814 \n",
       "  \"/>\n",
       "<polyline clip-path=\"url(#clip8102)\" style=\"stroke:#000000; stroke-width:4; stroke-opacity:1; fill:none\" points=\"\n",
       "  469.391,602.46 477.036,603.138 484.68,603.718 492.324,604.204 499.968,604.598 507.613,604.903 515.257,605.12 522.901,605.249 530.545,605.292 538.189,605.249 \n",
       "  545.834,605.12 553.478,604.903 561.122,604.598 568.766,604.204 576.41,603.718 584.055,603.138 591.699,602.46 596.224,602.002 599.343,601.677 606.987,600.78 \n",
       "  614.632,599.771 622.276,598.645 629.92,597.395 635.605,596.372 637.564,596.008 645.208,594.46 652.853,592.761 660.497,590.899 661.095,590.742 668.141,588.825 \n",
       "  675.785,586.554 680.265,585.112 683.429,584.05 691.074,581.282 695.666,579.482 698.718,578.23 706.362,574.847 708.456,573.853 714.006,571.079 719.306,568.223 \n",
       "  721.651,566.889 728.682,562.593 729.295,562.196 736.856,556.963 736.939,556.902 744.044,551.334 744.583,550.882 750.415,545.704 752.227,543.977 756.105,540.074 \n",
       "  759.872,535.987 761.221,534.444 765.815,528.815 767.516,526.567 769.96,523.185 773.718,517.555 775.16,515.224 777.117,511.925 780.201,506.296 782.804,501.106 \n",
       "  783.017,500.666 785.546,495.036 787.853,489.406 789.954,483.777 790.448,482.334 791.838,478.147 793.535,472.517 795.064,466.887 796.434,461.258 797.652,455.628 \n",
       "  798.093,453.33 798.716,449.998 799.636,444.368 800.423,438.739 801.083,433.109 801.619,427.479 802.033,421.849 802.327,416.22 802.502,410.59 802.561,404.96 \n",
       "  802.502,399.33 802.327,393.7 802.033,388.071 801.619,382.441 801.083,376.811 800.423,371.181 799.636,365.552 798.716,359.922 798.093,356.59 797.652,354.292 \n",
       "  796.434,348.662 795.064,343.033 793.535,337.403 791.838,331.773 790.448,327.586 789.954,326.143 787.853,320.514 785.546,314.884 783.017,309.254 782.804,308.814 \n",
       "  780.201,303.624 777.117,297.995 775.16,294.696 773.718,292.365 769.96,286.735 767.516,283.353 765.815,281.105 761.221,275.476 759.872,273.933 756.105,269.846 \n",
       "  752.227,265.943 750.415,264.216 744.583,259.038 744.044,258.586 736.939,253.018 736.856,252.957 729.295,247.724 728.682,247.327 721.651,243.031 719.306,241.697 \n",
       "  714.006,238.841 708.456,236.067 706.362,235.073 698.718,231.69 695.666,230.438 691.074,228.638 683.429,225.87 680.265,224.808 675.785,223.366 668.141,221.095 \n",
       "  661.095,219.178 660.497,219.021 652.853,217.159 645.208,215.46 637.564,213.912 635.605,213.548 629.92,212.525 622.276,211.275 614.632,210.149 606.987,209.14 \n",
       "  599.343,208.243 596.224,207.918 591.699,207.46 584.055,206.782 576.41,206.202 568.766,205.716 561.122,205.322 553.478,205.017 545.834,204.8 538.189,204.671 \n",
       "  530.545,204.628 522.901,204.671 515.257,204.8 507.613,205.017 499.968,205.322 492.324,205.716 484.68,206.202 477.036,206.782 469.391,207.46 464.867,207.918 \n",
       "  461.747,208.243 454.103,209.14 446.459,210.149 438.815,211.275 431.17,212.525 425.485,213.548 423.526,213.912 415.882,215.46 408.238,217.159 400.593,219.021 \n",
       "  399.996,219.178 392.949,221.095 385.305,223.366 380.825,224.808 377.661,225.87 370.017,228.638 365.424,230.438 362.372,231.69 354.728,235.073 352.634,236.067 \n",
       "  347.084,238.841 341.784,241.697 339.44,243.031 332.409,247.327 331.796,247.724 324.234,252.957 324.151,253.018 317.046,258.586 316.507,259.038 310.675,264.216 \n",
       "  308.863,265.943 304.985,269.846 301.219,273.933 299.869,275.476 295.276,281.105 293.574,283.353 291.131,286.735 287.372,292.365 285.93,294.696 283.973,297.995 \n",
       "  280.889,303.624 278.286,308.814 278.073,309.254 275.544,314.884 273.237,320.514 271.136,326.143 270.642,327.586 269.252,331.773 267.555,337.403 266.026,343.033 \n",
       "  264.656,348.662 263.438,354.292 262.998,356.59 262.374,359.922 261.455,365.552 260.667,371.181 260.007,376.811 259.471,382.441 259.058,388.071 258.764,393.7 \n",
       "  258.588,399.33 258.529,404.96 258.588,410.59 258.764,416.22 259.058,421.849 259.471,427.479 260.007,433.109 260.667,438.739 261.455,444.368 262.374,449.998 \n",
       "  262.998,453.33 263.438,455.628 264.656,461.258 266.026,466.887 267.555,472.517 269.252,478.147 270.642,482.334 271.136,483.777 273.237,489.406 275.544,495.036 \n",
       "  278.073,500.666 278.286,501.106 280.889,506.296 283.973,511.925 285.93,515.224 287.372,517.555 291.131,523.185 293.574,526.567 295.276,528.815 299.869,534.444 \n",
       "  301.219,535.987 304.985,540.074 308.863,543.977 310.675,545.704 316.507,550.882 317.046,551.334 324.151,556.902 324.234,556.963 331.796,562.196 332.409,562.593 \n",
       "  339.44,566.889 341.784,568.223 347.084,571.079 352.634,573.853 354.728,574.847 362.372,578.23 365.424,579.482 370.017,581.282 377.661,584.05 380.825,585.112 \n",
       "  385.305,586.554 392.949,588.825 399.996,590.742 400.593,590.899 408.238,592.761 415.882,594.46 423.526,596.008 425.485,596.372 431.17,597.395 438.815,598.645 \n",
       "  446.459,599.771 454.103,600.78 461.747,601.677 464.867,602.002 469.391,602.46 \n",
       "  \"/>\n",
       "<polyline clip-path=\"url(#clip8102)\" style=\"stroke:#000000; stroke-width:4; stroke-opacity:1; fill:none\" points=\"\n",
       "  484.68,590.747 492.324,591.321 499.968,591.787 507.613,592.147 515.257,592.403 522.901,592.556 530.545,592.607 538.189,592.556 545.834,592.403 553.478,592.147 \n",
       "  561.122,591.787 568.766,591.321 576.41,590.747 576.469,590.742 584.055,590.049 591.699,589.234 599.343,588.297 606.987,587.234 614.632,586.039 619.962,585.112 \n",
       "  622.276,584.697 629.92,583.187 637.564,581.518 645.208,579.68 645.967,579.482 652.853,577.622 660.497,575.362 665.196,573.853 668.141,572.866 675.785,570.099 \n",
       "  680.566,568.223 683.429,567.046 691.074,563.658 693.311,562.593 698.718,559.884 704.128,556.963 706.362,555.69 713.485,551.334 714.006,550.996 721.651,545.704 \n",
       "  728.836,540.074 729.295,539.69 735.21,534.444 736.939,532.799 740.905,528.815 744.583,524.832 746.029,523.185 750.629,517.555 752.227,515.446 \n",
       "  754.775,511.925 758.532,506.296 759.872,504.127 761.921,500.666 764.99,495.036 767.516,489.965 767.784,489.406 770.279,483.777 772.545,478.147 774.596,472.517 \n",
       "  775.16,470.813 776.419,466.887 778.041,461.258 779.484,455.628 780.756,449.998 781.863,444.368 782.804,438.782 782.811,438.739 783.591,433.109 784.224,427.479 \n",
       "  784.713,421.849 785.06,416.22 785.268,410.59 785.337,404.96 785.268,399.33 785.06,393.7 784.713,388.071 784.224,382.441 783.591,376.811 782.811,371.181 \n",
       "  782.804,371.138 781.863,365.552 780.756,359.922 779.484,354.292 778.041,348.662 776.419,343.033 775.16,339.107 774.596,337.403 772.545,331.773 770.279,326.143 \n",
       "  767.784,320.514 767.516,319.955 764.99,314.884 761.921,309.254 759.872,305.793 758.532,303.624 754.775,297.995 752.227,294.474 750.629,292.365 746.029,286.735 \n",
       "  744.583,285.088 740.905,281.105 736.939,277.121 735.21,275.476 729.295,270.23 728.836,269.846 721.651,264.216 714.006,258.924 713.485,258.586 \n",
       "  706.362,254.23 704.128,252.957 698.718,250.036 693.311,247.327 691.074,246.262 683.429,242.874 680.566,241.697 675.785,239.821 668.141,237.054 665.196,236.067 \n",
       "  660.497,234.558 652.853,232.298 645.967,230.438 645.208,230.24 637.564,228.402 629.92,226.733 622.276,225.223 619.962,224.808 614.632,223.881 606.987,222.686 \n",
       "  599.343,221.623 591.699,220.686 584.055,219.871 576.469,219.178 576.41,219.173 568.766,218.599 561.122,218.133 553.478,217.773 545.834,217.517 538.189,217.364 \n",
       "  530.545,217.313 522.901,217.364 515.257,217.517 507.613,217.773 499.968,218.133 492.324,218.599 484.68,219.173 484.621,219.178 477.036,219.871 469.391,220.686 \n",
       "  461.747,221.623 454.103,222.686 446.459,223.881 441.128,224.808 438.815,225.223 431.17,226.733 423.526,228.402 415.882,230.24 415.123,230.438 408.238,232.298 \n",
       "  400.593,234.558 395.894,236.067 392.949,237.054 385.305,239.821 380.525,241.697 377.661,242.874 370.017,246.262 367.78,247.327 362.372,250.036 356.962,252.957 \n",
       "  354.728,254.23 347.605,258.586 347.084,258.924 339.44,264.216 332.254,269.846 331.796,270.23 325.881,275.476 324.151,277.121 320.185,281.105 \n",
       "  316.507,285.088 315.061,286.735 310.461,292.365 308.863,294.474 306.316,297.995 302.558,303.624 301.219,305.793 299.169,309.254 296.1,314.884 293.574,319.955 \n",
       "  293.307,320.514 290.811,326.143 288.545,331.773 286.494,337.403 285.93,339.107 284.672,343.033 283.049,348.662 281.606,354.292 280.334,359.922 279.227,365.552 \n",
       "  278.286,371.138 278.279,371.181 277.499,376.811 276.866,382.441 276.378,388.071 276.03,393.7 275.822,399.33 275.753,404.96 275.822,410.59 276.03,416.22 \n",
       "  276.378,421.849 276.866,427.479 277.499,433.109 278.279,438.739 278.286,438.782 279.227,444.368 280.334,449.998 281.606,455.628 283.049,461.258 284.672,466.887 \n",
       "  285.93,470.813 286.494,472.517 288.545,478.147 290.811,483.777 293.307,489.406 293.574,489.965 296.1,495.036 299.169,500.666 301.219,504.127 302.558,506.296 \n",
       "  306.316,511.925 308.863,515.446 310.461,517.555 315.061,523.185 316.507,524.832 320.185,528.815 324.151,532.799 325.881,534.444 331.796,539.69 332.254,540.074 \n",
       "  339.44,545.704 339.44,545.704 347.084,550.996 347.605,551.334 354.728,555.69 356.962,556.963 362.372,559.884 367.78,562.593 370.017,563.658 377.661,567.046 \n",
       "  380.525,568.223 385.305,570.099 392.949,572.866 395.894,573.853 400.593,575.362 408.238,577.622 415.123,579.482 415.882,579.68 423.526,581.518 431.17,583.187 \n",
       "  438.815,584.697 441.128,585.112 446.459,586.039 454.103,587.234 461.747,588.297 469.391,589.234 477.036,590.049 484.621,590.742 484.68,590.747 \n",
       "  \"/>\n",
       "<polyline clip-path=\"url(#clip8102)\" style=\"stroke:#000000; stroke-width:4; stroke-opacity:1; fill:none\" points=\"\n",
       "  461.747,574.297 469.391,575.395 477.036,576.351 484.68,577.169 492.324,577.855 499.968,578.412 507.613,578.842 515.257,579.148 522.901,579.33 530.545,579.391 \n",
       "  538.189,579.33 545.834,579.148 553.478,578.842 561.122,578.412 568.766,577.855 576.41,577.169 584.055,576.351 591.699,575.395 599.343,574.297 602.084,573.853 \n",
       "  606.987,573.032 614.632,571.599 622.276,569.998 629.918,568.223 629.92,568.223 637.564,566.212 645.208,563.997 649.654,562.593 652.853,561.539 660.497,558.803 \n",
       "  665.228,556.963 668.141,555.777 675.785,552.41 678.057,551.334 683.429,548.653 688.909,545.704 691.074,544.473 698.28,540.074 698.718,539.791 706.362,534.504 \n",
       "  706.442,534.444 713.622,528.815 714.006,528.492 719.98,523.185 721.651,521.591 725.655,517.555 729.295,513.599 730.757,511.925 735.327,506.296 736.939,504.151 \n",
       "  739.437,500.666 743.151,495.036 744.583,492.68 746.49,489.406 749.496,483.777 752.227,478.147 752.227,478.146 754.638,472.517 756.811,466.887 758.757,461.258 \n",
       "  759.872,457.646 760.474,455.628 761.965,449.998 763.263,444.368 764.375,438.739 765.307,433.109 766.062,427.479 766.646,421.849 767.061,416.22 767.309,410.59 \n",
       "  767.392,404.96 767.309,399.33 767.061,393.7 766.646,388.071 766.062,382.441 765.307,376.811 764.375,371.181 763.263,365.552 761.965,359.922 760.474,354.292 \n",
       "  759.872,352.274 758.757,348.662 756.811,343.033 754.638,337.403 752.227,331.774 752.227,331.773 749.496,326.143 746.49,320.514 744.583,317.24 743.151,314.884 \n",
       "  739.437,309.254 736.939,305.769 735.327,303.624 730.757,297.995 729.295,296.321 725.655,292.365 721.651,288.329 719.98,286.735 714.006,281.428 713.622,281.105 \n",
       "  706.442,275.476 706.362,275.416 698.718,270.129 698.28,269.846 691.074,265.447 688.909,264.216 683.429,261.267 678.057,258.586 675.785,257.51 668.141,254.143 \n",
       "  665.228,252.957 660.497,251.117 652.853,248.381 649.654,247.327 645.208,245.923 637.564,243.708 629.92,241.697 629.918,241.697 622.276,239.922 614.632,238.321 \n",
       "  606.987,236.888 602.084,236.067 599.343,235.623 591.699,234.525 584.055,233.569 576.41,232.751 568.766,232.065 561.122,231.508 553.478,231.078 545.834,230.772 \n",
       "  538.189,230.59 530.545,230.529 522.901,230.59 515.257,230.772 507.613,231.078 499.968,231.508 492.324,232.065 484.68,232.751 477.036,233.569 469.391,234.525 \n",
       "  461.747,235.623 459.007,236.067 454.103,236.888 446.459,238.321 438.815,239.922 431.172,241.697 431.17,241.697 423.526,243.708 415.882,245.923 411.437,247.327 \n",
       "  408.238,248.381 400.593,251.117 395.862,252.957 392.949,254.143 385.305,257.51 383.033,258.586 377.661,261.267 372.181,264.216 370.017,265.447 362.81,269.846 \n",
       "  362.372,270.129 354.728,275.416 354.648,275.476 347.469,281.105 347.084,281.428 341.111,286.735 339.44,288.329 335.435,292.365 331.796,296.321 330.333,297.995 \n",
       "  325.763,303.624 324.151,305.769 321.653,309.254 317.939,314.884 316.507,317.24 314.6,320.514 311.594,326.143 308.863,331.773 308.863,331.774 306.452,337.403 \n",
       "  304.279,343.033 302.333,348.662 301.219,352.274 300.616,354.292 299.125,359.922 297.827,365.552 296.715,371.181 295.784,376.811 295.028,382.441 294.444,388.071 \n",
       "  294.029,393.7 293.781,399.33 293.698,404.96 293.781,410.59 294.029,416.22 294.444,421.849 295.028,427.479 295.784,433.109 296.715,438.739 297.827,444.368 \n",
       "  299.125,449.998 300.616,455.628 301.219,457.646 302.333,461.258 304.279,466.887 306.452,472.517 308.863,478.146 308.863,478.147 311.594,483.777 314.6,489.406 \n",
       "  316.507,492.68 317.939,495.036 321.653,500.666 324.151,504.151 325.763,506.296 330.333,511.925 331.796,513.599 335.435,517.555 339.44,521.591 341.111,523.185 \n",
       "  347.084,528.492 347.469,528.815 354.648,534.444 354.728,534.504 362.372,539.791 362.81,540.074 370.017,544.473 372.181,545.704 377.661,548.653 383.033,551.334 \n",
       "  385.305,552.41 392.949,555.777 395.862,556.963 400.593,558.803 408.238,561.539 411.437,562.593 415.882,563.997 423.526,566.212 431.17,568.223 431.172,568.223 \n",
       "  438.815,569.998 446.459,571.599 454.103,573.032 459.007,573.853 461.747,574.297 \n",
       "  \"/>\n",
       "<polyline clip-path=\"url(#clip8102)\" style=\"stroke:#000000; stroke-width:4; stroke-opacity:1; fill:none\" points=\"\n",
       "  484.68,562.858 492.324,563.657 499.968,564.305 507.613,564.806 515.257,565.162 522.901,565.375 530.545,565.446 538.189,565.375 545.834,565.162 553.478,564.806 \n",
       "  561.122,564.305 568.766,563.657 576.41,562.858 578.544,562.593 584.055,561.886 591.699,560.744 599.343,559.431 606.987,557.941 611.469,556.963 614.632,556.246 \n",
       "  622.276,554.324 629.92,552.191 632.724,551.334 637.564,549.788 645.208,547.115 648.913,545.704 652.853,544.13 660.497,540.808 662.065,540.074 668.141,537.075 \n",
       "  673.069,534.444 675.785,532.91 682.528,528.815 683.429,528.233 690.738,523.185 691.074,522.937 697.928,517.555 698.718,516.891 704.279,511.925 706.362,509.925 \n",
       "  709.933,506.296 714.006,501.82 715.003,500.666 719.513,495.036 721.651,492.134 723.566,489.406 727.196,483.777 729.295,480.212 730.458,478.147 733.355,472.517 \n",
       "  735.965,466.887 736.939,464.558 738.266,461.258 740.289,455.628 742.072,449.998 743.623,444.368 744.583,440.31 744.943,438.739 746.028,433.109 746.908,427.479 \n",
       "  747.588,421.849 748.072,416.22 748.361,410.59 748.457,404.96 748.361,399.33 748.072,393.7 747.588,388.071 746.908,382.441 746.028,376.811 744.943,371.181 \n",
       "  744.583,369.61 743.623,365.552 742.072,359.922 740.289,354.292 738.266,348.662 736.939,345.362 735.965,343.033 733.355,337.403 730.458,331.773 729.295,329.708 \n",
       "  727.196,326.143 723.566,320.514 721.651,317.786 719.513,314.884 715.003,309.254 714.006,308.1 709.933,303.624 706.362,299.995 704.279,297.995 698.718,293.029 \n",
       "  697.928,292.365 691.074,286.983 690.738,286.735 683.429,281.687 682.528,281.105 675.785,277.01 673.069,275.476 668.141,272.845 662.065,269.846 660.497,269.112 \n",
       "  652.853,265.79 648.913,264.216 645.208,262.805 637.564,260.132 632.724,258.586 629.92,257.729 622.276,255.596 614.632,253.674 611.469,252.957 606.987,251.979 \n",
       "  599.343,250.489 591.699,249.176 584.055,248.034 578.544,247.327 576.41,247.062 568.766,246.263 561.122,245.615 553.478,245.114 545.834,244.758 538.189,244.545 \n",
       "  530.545,244.474 522.901,244.545 515.257,244.758 507.613,245.114 499.968,245.615 492.324,246.263 484.68,247.062 482.546,247.327 477.036,248.034 469.391,249.176 \n",
       "  461.747,250.489 454.103,251.979 449.622,252.957 446.459,253.674 438.815,255.596 431.17,257.729 428.366,258.586 423.526,260.132 415.882,262.805 412.178,264.216 \n",
       "  408.238,265.79 400.593,269.112 399.026,269.846 392.949,272.845 388.022,275.476 385.305,277.01 378.563,281.105 377.661,281.687 370.353,286.735 370.017,286.983 \n",
       "  363.162,292.365 362.372,293.029 356.811,297.995 354.728,299.995 351.157,303.624 347.084,308.1 346.087,309.254 341.578,314.884 339.44,317.786 337.524,320.514 \n",
       "  333.894,326.143 331.796,329.708 330.632,331.773 327.735,337.403 325.125,343.033 324.151,345.362 322.824,348.662 320.801,354.292 319.019,359.922 317.467,365.552 \n",
       "  316.507,369.61 316.147,371.181 315.062,376.811 314.182,382.441 313.502,388.071 313.019,393.7 312.73,399.33 312.633,404.96 312.73,410.59 313.019,416.22 \n",
       "  313.502,421.849 314.182,427.479 315.062,433.109 316.147,438.739 316.507,440.31 317.467,444.368 319.019,449.998 320.801,455.628 322.824,461.258 324.151,464.558 \n",
       "  325.125,466.887 327.735,472.517 330.632,478.147 331.796,480.212 333.894,483.777 337.524,489.406 339.44,492.134 341.578,495.036 346.087,500.666 347.084,501.82 \n",
       "  351.157,506.296 354.728,509.925 356.811,511.925 362.372,516.891 363.162,517.555 370.017,522.937 370.353,523.185 377.661,528.233 378.563,528.815 385.305,532.91 \n",
       "  388.022,534.444 392.949,537.075 399.026,540.074 400.593,540.808 408.238,544.13 412.178,545.704 415.882,547.115 423.526,549.788 428.366,551.334 431.17,552.191 \n",
       "  438.815,554.324 446.459,556.246 449.622,556.963 454.103,557.941 461.747,559.431 469.391,560.744 477.036,561.886 482.546,562.593 484.68,562.858 \n",
       "  \"/>\n",
       "<polyline clip-path=\"url(#clip8102)\" style=\"stroke:#000000; stroke-width:4; stroke-opacity:1; fill:none\" points=\"\n",
       "  477.036,546.363 484.68,547.503 492.324,548.458 499.968,549.233 507.613,549.832 515.257,550.258 522.901,550.512 530.545,550.597 538.189,550.512 545.834,550.258 \n",
       "  553.478,549.832 561.122,549.233 568.766,548.458 576.41,547.503 584.055,546.363 587.854,545.704 591.699,545.01 599.343,543.433 606.987,541.642 612.954,540.074 \n",
       "  614.632,539.614 622.276,537.29 629.92,534.711 630.644,534.444 637.564,531.767 644.514,528.815 645.208,528.503 652.853,524.794 655.909,523.185 660.497,520.626 \n",
       "  665.594,517.555 668.141,515.922 673.943,511.925 675.785,510.569 681.212,506.296 683.429,504.42 687.599,500.666 691.074,497.287 693.258,495.036 698.295,489.406 \n",
       "  698.718,488.895 702.727,483.777 706.362,478.68 706.724,478.147 710.226,472.517 713.381,466.887 714.006,465.652 716.135,461.258 718.567,455.628 720.709,449.998 \n",
       "  721.651,447.166 722.545,444.368 724.093,438.739 725.39,433.109 726.443,427.479 727.256,421.849 727.834,416.22 728.179,410.59 728.294,404.96 728.179,399.33 \n",
       "  727.834,393.7 727.256,388.071 726.443,382.441 725.39,376.811 724.093,371.181 722.545,365.552 721.651,362.754 720.709,359.922 718.567,354.292 716.135,348.662 \n",
       "  714.006,344.268 713.381,343.033 710.226,337.403 706.724,331.773 706.362,331.24 702.727,326.143 698.718,321.025 698.295,320.514 693.258,314.884 691.074,312.633 \n",
       "  687.599,309.254 683.429,305.5 681.212,303.624 675.785,299.351 673.943,297.995 668.141,293.998 665.594,292.365 660.497,289.294 655.909,286.735 652.853,285.126 \n",
       "  645.208,281.417 644.514,281.105 637.564,278.153 630.644,275.476 629.92,275.209 622.276,272.63 614.632,270.306 612.954,269.846 606.987,268.278 599.343,266.487 \n",
       "  591.699,264.91 587.854,264.216 584.055,263.557 576.41,262.417 568.766,261.462 561.122,260.687 553.478,260.088 545.834,259.662 538.189,259.408 530.545,259.323 \n",
       "  522.901,259.408 515.257,259.662 507.613,260.088 499.968,260.687 492.324,261.462 484.68,262.417 477.036,263.557 473.236,264.216 469.391,264.91 461.747,266.487 \n",
       "  454.103,268.278 448.136,269.846 446.459,270.306 438.815,272.63 431.17,275.209 430.447,275.476 423.526,278.153 416.577,281.105 415.882,281.417 408.238,285.126 \n",
       "  405.181,286.735 400.593,289.294 395.496,292.365 392.949,293.998 387.147,297.995 385.305,299.351 379.878,303.624 377.661,305.5 373.492,309.254 370.017,312.633 \n",
       "  367.832,314.884 362.795,320.514 362.372,321.025 358.364,326.143 354.728,331.24 354.367,331.773 350.865,337.403 347.709,343.033 347.084,344.268 344.955,348.662 \n",
       "  342.524,354.292 340.381,359.922 339.44,362.754 338.545,365.552 336.997,371.181 335.7,376.811 334.648,382.441 333.835,388.071 333.257,393.7 332.911,399.33 \n",
       "  332.796,404.96 332.911,410.59 333.257,416.22 333.835,421.849 334.648,427.479 335.7,433.109 336.997,438.739 338.545,444.368 339.44,447.166 340.381,449.998 \n",
       "  342.524,455.628 344.955,461.258 347.084,465.652 347.709,466.887 350.865,472.517 354.367,478.147 354.728,478.68 358.364,483.777 362.372,488.895 362.795,489.406 \n",
       "  367.832,495.036 370.017,497.287 373.492,500.666 377.661,504.42 379.878,506.296 385.305,510.569 387.147,511.925 392.949,515.922 395.496,517.555 400.593,520.626 \n",
       "  405.181,523.185 408.238,524.794 415.882,528.503 416.577,528.815 423.526,531.767 430.447,534.444 431.17,534.711 438.815,537.29 446.459,539.614 448.136,540.074 \n",
       "  454.103,541.642 461.747,543.433 469.391,545.01 473.236,545.704 477.036,546.363 \n",
       "  \"/>\n",
       "<polyline clip-path=\"url(#clip8102)\" style=\"stroke:#000000; stroke-width:4; stroke-opacity:1; fill:none\" points=\"\n",
       "  530.545,534.474 532.839,534.444 538.189,534.373 545.834,534.066 553.478,533.553 561.122,532.83 568.766,531.895 576.41,530.743 584.055,529.368 586.702,528.815 \n",
       "  591.699,527.722 599.343,525.806 606.987,523.632 608.396,523.185 614.632,521.104 622.276,518.263 624.009,517.555 629.92,515.001 636.395,511.925 637.564,511.336 \n",
       "  645.208,507.139 646.626,506.296 652.853,502.339 655.291,500.666 660.497,496.832 662.768,495.036 668.141,490.45 669.286,489.406 674.984,483.777 675.785,482.916 \n",
       "  679.961,478.147 683.429,473.793 684.391,472.517 688.249,466.887 691.074,462.295 691.68,461.258 694.632,455.628 697.234,449.998 698.718,446.318 699.469,444.368 \n",
       "  701.337,438.739 702.901,433.109 704.17,427.479 705.151,421.849 705.848,416.22 706.265,410.59 706.362,406.649 706.402,404.96 706.362,403.271 706.265,399.33 \n",
       "  705.848,393.7 705.151,388.071 704.17,382.441 702.901,376.811 701.337,371.181 699.469,365.552 698.718,363.602 697.234,359.922 694.632,354.292 691.68,348.662 \n",
       "  691.074,347.625 688.249,343.033 684.391,337.403 683.429,336.127 679.961,331.773 675.785,327.004 674.984,326.143 669.286,320.514 668.141,319.47 662.768,314.884 \n",
       "  660.497,313.088 655.291,309.254 652.853,307.581 646.626,303.624 645.208,302.781 637.564,298.584 636.395,297.995 629.92,294.919 624.009,292.365 622.276,291.657 \n",
       "  614.632,288.816 608.396,286.735 606.987,286.288 599.343,284.114 591.699,282.198 586.702,281.105 584.055,280.552 576.41,279.177 568.766,278.025 561.122,277.09 \n",
       "  553.478,276.367 545.834,275.854 538.189,275.547 532.839,275.476 530.545,275.446 528.251,275.476 522.901,275.547 515.257,275.854 507.613,276.367 499.968,277.09 \n",
       "  492.324,278.025 484.68,279.177 477.036,280.552 474.388,281.105 469.391,282.198 461.747,284.114 454.103,286.288 452.694,286.735 446.459,288.816 438.815,291.657 \n",
       "  437.082,292.365 431.17,294.919 424.695,297.995 423.526,298.584 415.882,302.781 414.464,303.624 408.238,307.581 405.799,309.254 400.593,313.088 398.322,314.884 \n",
       "  392.949,319.47 391.804,320.514 386.106,326.143 385.305,327.004 381.129,331.773 377.661,336.127 376.7,337.403 372.842,343.033 370.017,347.625 369.41,348.662 \n",
       "  366.458,354.292 363.857,359.922 362.372,363.602 361.621,365.552 359.754,371.181 358.189,376.811 356.92,382.441 355.939,388.071 355.242,393.7 354.825,399.33 \n",
       "  354.728,403.271 354.688,404.96 354.728,406.649 354.825,410.59 355.242,416.22 355.939,421.849 356.92,427.479 358.189,433.109 359.754,438.739 361.621,444.368 \n",
       "  362.372,446.318 363.857,449.998 366.458,455.628 369.41,461.258 370.017,462.295 372.842,466.887 376.7,472.517 377.661,473.793 381.129,478.147 385.305,482.916 \n",
       "  386.106,483.777 391.804,489.406 392.949,490.45 398.322,495.036 400.593,496.832 405.799,500.666 408.238,502.339 414.464,506.296 415.882,507.139 423.526,511.336 \n",
       "  424.695,511.925 431.17,515.001 437.082,517.555 438.815,518.263 446.459,521.104 452.694,523.185 454.103,523.632 461.747,525.806 469.391,527.722 474.388,528.815 \n",
       "  477.036,529.368 484.68,530.743 492.324,531.895 499.968,532.83 507.613,533.553 515.257,534.066 522.901,534.373 528.251,534.444 530.545,534.474 \n",
       "  \"/>\n",
       "<polyline clip-path=\"url(#clip8102)\" style=\"stroke:#000000; stroke-width:4; stroke-opacity:1; fill:none\" points=\"\n",
       "  492.324,513.313 499.968,514.457 507.613,515.341 515.257,515.969 522.901,516.345 530.545,516.47 538.189,516.345 545.834,515.969 553.478,515.341 561.122,514.457 \n",
       "  568.766,513.313 576.292,511.925 576.41,511.902 584.055,510.14 591.699,508.082 597.489,506.296 599.343,505.689 606.987,502.871 612.324,500.666 614.632,499.649 \n",
       "  622.276,495.919 623.922,495.036 629.92,491.587 633.388,489.406 637.564,486.573 641.361,483.777 645.208,480.701 648.169,478.147 652.853,473.73 654.051,472.517 \n",
       "  659.116,466.887 660.497,465.188 663.491,461.258 667.318,455.628 668.141,454.263 670.567,449.998 673.361,444.368 675.754,438.739 675.785,438.651 677.67,433.109 \n",
       "  679.223,427.479 680.423,421.849 681.276,416.22 681.786,410.59 681.955,404.96 681.786,399.33 681.276,393.7 680.423,388.071 679.223,382.441 677.67,376.811 \n",
       "  675.785,371.269 675.754,371.181 673.361,365.552 670.567,359.922 668.141,355.657 667.318,354.292 663.491,348.662 660.497,344.732 659.116,343.033 654.051,337.403 \n",
       "  652.853,336.19 648.169,331.773 645.208,329.219 641.361,326.143 637.564,323.347 633.388,320.514 629.92,318.333 623.922,314.884 622.276,314.001 614.632,310.271 \n",
       "  612.324,309.254 606.987,307.049 599.343,304.231 597.489,303.624 591.699,301.838 584.055,299.78 576.41,298.018 576.292,297.995 568.766,296.607 561.122,295.463 \n",
       "  553.478,294.579 545.834,293.951 538.189,293.575 530.545,293.45 522.901,293.575 515.257,293.951 507.613,294.579 499.968,295.463 492.324,296.607 484.798,297.995 \n",
       "  484.68,298.018 477.036,299.78 469.391,301.838 463.601,303.624 461.747,304.231 454.103,307.049 448.767,309.254 446.459,310.271 438.815,314.001 437.168,314.884 \n",
       "  431.17,318.333 427.703,320.514 423.526,323.347 419.729,326.143 415.882,329.219 412.921,331.773 408.238,336.19 407.039,337.403 401.974,343.033 400.593,344.732 \n",
       "  397.599,348.662 393.772,354.292 392.949,355.657 390.523,359.922 387.729,365.552 385.336,371.181 385.305,371.269 383.421,376.811 381.868,382.441 380.668,388.071 \n",
       "  379.815,393.7 379.305,399.33 379.135,404.96 379.305,410.59 379.815,416.22 380.668,421.849 381.868,427.479 383.421,433.109 385.305,438.651 385.336,438.739 \n",
       "  387.729,444.368 390.523,449.998 392.949,454.263 393.772,455.628 397.599,461.258 400.593,465.188 401.974,466.887 407.039,472.517 408.238,473.73 412.921,478.147 \n",
       "  415.882,480.701 419.729,483.777 423.526,486.573 427.703,489.406 431.17,491.587 437.168,495.036 438.815,495.919 446.459,499.649 448.767,500.666 454.103,502.871 \n",
       "  461.747,505.689 463.601,506.296 469.391,508.082 477.036,510.14 484.68,511.902 484.798,511.925 492.324,513.313 \n",
       "  \"/>\n",
       "<polyline clip-path=\"url(#clip8102)\" style=\"stroke:#000000; stroke-width:4; stroke-opacity:1; fill:none\" points=\"\n",
       "  522.901,495.353 530.545,495.509 538.189,495.353 543.343,495.036 545.834,494.874 553.478,494.043 561.122,492.873 568.766,491.359 576.41,489.494 576.713,489.406 \n",
       "  584.055,487.131 591.699,484.365 593.126,483.777 599.343,481.01 605.036,478.147 606.987,477.082 614.477,472.517 614.632,472.414 622.136,466.887 622.276,466.774 \n",
       "  628.473,461.258 629.92,459.821 633.808,455.628 637.564,451.049 638.364,449.998 642.119,444.368 645.208,438.961 645.327,438.739 647.86,433.109 649.916,427.479 \n",
       "  651.504,421.849 652.632,416.22 652.853,414.385 653.282,410.59 653.494,404.96 653.282,399.33 652.853,395.535 652.632,393.7 651.504,388.071 649.916,382.441 \n",
       "  647.86,376.811 645.327,371.181 645.208,370.959 642.119,365.552 638.364,359.922 637.564,358.871 633.808,354.292 629.92,350.099 628.473,348.662 622.276,343.146 \n",
       "  622.136,343.033 614.632,337.506 614.477,337.403 606.987,332.838 605.036,331.773 599.343,328.91 593.126,326.143 591.699,325.555 584.055,322.789 576.713,320.514 \n",
       "  576.41,320.426 568.766,318.561 561.122,317.047 553.478,315.877 545.834,315.046 543.343,314.884 538.189,314.567 530.545,314.411 522.901,314.567 517.747,314.884 \n",
       "  515.257,315.046 507.613,315.877 499.968,317.047 492.324,318.561 484.68,320.426 484.378,320.514 477.036,322.789 469.391,325.555 467.964,326.143 461.747,328.91 \n",
       "  456.054,331.773 454.103,332.838 446.613,337.403 446.459,337.506 438.954,343.033 438.815,343.146 432.617,348.662 431.17,350.099 427.282,354.292 423.526,358.871 \n",
       "  422.727,359.922 418.972,365.552 415.882,370.959 415.763,371.181 413.23,376.811 411.175,382.441 409.587,388.071 408.458,393.7 408.238,395.535 407.808,399.33 \n",
       "  407.596,404.96 407.808,410.59 408.238,414.385 408.458,416.22 409.587,421.849 411.175,427.479 413.23,433.109 415.763,438.739 415.882,438.961 418.972,444.368 \n",
       "  422.727,449.998 423.526,451.049 427.282,455.628 431.17,459.821 432.617,461.258 438.815,466.774 438.954,466.887 446.459,472.414 446.613,472.517 454.103,477.082 \n",
       "  456.054,478.147 461.747,481.01 467.964,483.777 469.391,484.365 477.036,487.131 484.378,489.406 484.68,489.494 492.324,491.359 499.968,492.873 507.613,494.043 \n",
       "  515.257,494.874 517.747,495.036 522.901,495.353 \n",
       "  \"/>\n",
       "<polyline clip-path=\"url(#clip8102)\" style=\"stroke:#000000; stroke-width:4; stroke-opacity:1; fill:none\" points=\"\n",
       "  515.257,467.662 522.901,468.367 530.545,468.601 538.189,468.367 545.834,467.662 550.858,466.887 553.478,466.446 561.122,464.635 568.766,462.292 571.515,461.258 \n",
       "  576.41,459.217 583.638,455.628 584.055,455.396 591.699,450.456 592.321,449.998 599.028,444.368 599.343,444.062 604.216,438.739 606.987,435.134 608.392,433.109 \n",
       "  611.574,427.479 614.032,421.849 614.632,419.92 615.683,416.22 616.64,410.59 616.959,404.96 616.64,399.33 615.683,393.7 614.632,390 614.032,388.071 \n",
       "  611.574,382.441 608.392,376.811 606.987,374.786 604.216,371.181 599.343,365.858 599.028,365.552 592.321,359.922 591.699,359.464 584.055,354.524 583.638,354.292 \n",
       "  576.41,350.703 571.515,348.662 568.766,347.628 561.122,345.285 553.478,343.474 550.858,343.033 545.834,342.258 538.189,341.553 530.545,341.319 522.901,341.553 \n",
       "  515.257,342.258 510.233,343.033 507.613,343.474 499.968,345.285 492.324,347.628 489.575,348.662 484.68,350.703 477.452,354.292 477.036,354.524 469.391,359.464 \n",
       "  468.769,359.922 462.062,365.552 461.747,365.858 456.874,371.181 454.103,374.786 452.698,376.811 449.517,382.441 447.059,388.071 446.459,390 445.407,393.7 \n",
       "  444.45,399.33 444.131,404.96 444.45,410.59 445.407,416.22 446.459,419.92 447.059,421.849 449.517,427.479 452.698,433.109 454.103,435.134 456.874,438.739 \n",
       "  461.747,444.062 462.062,444.368 468.769,449.998 469.391,450.456 477.036,455.396 477.452,455.628 484.68,459.217 489.575,461.258 492.324,462.292 499.968,464.635 \n",
       "  507.613,466.446 510.233,466.887 515.257,467.662 \n",
       "  \"/>\n",
       "<defs>\n",
       "  <clipPath id=\"clip8103\">\n",
       "    <rect x=\"960\" y=\"123\" width=\"73\" height=\"564\"/>\n",
       "  </clipPath>\n",
       "</defs>\n",
       "<path clip-path=\"url(#clip8103)\" d=\"\n",
       "M960.756 686.448 L1032.76 686.448 L1032.76 651.262 L960.756 651.262  Z\n",
       "  \" fill=\"#000003\" fill-rule=\"evenodd\" fill-opacity=\"1\"/>\n",
       "<path clip-path=\"url(#clip8103)\" d=\"\n",
       "M960.756 651.262 L1032.76 651.262 L1032.76 616.076 L960.756 616.076  Z\n",
       "  \" fill=\"#0c0727\" fill-rule=\"evenodd\" fill-opacity=\"1\"/>\n",
       "<path clip-path=\"url(#clip8103)\" d=\"\n",
       "M960.756 616.076 L1032.76 616.076 L1032.76 580.89 L960.756 580.89  Z\n",
       "  \" fill=\"#240b4e\" fill-rule=\"evenodd\" fill-opacity=\"1\"/>\n",
       "<path clip-path=\"url(#clip8103)\" d=\"\n",
       "M960.756 580.89 L1032.76 580.89 L1032.76 545.704 L960.756 545.704  Z\n",
       "  \" fill=\"#420a67\" fill-rule=\"evenodd\" fill-opacity=\"1\"/>\n",
       "<path clip-path=\"url(#clip8103)\" d=\"\n",
       "M960.756 545.704 L1032.76 545.704 L1032.76 510.518 L960.756 510.518  Z\n",
       "  \" fill=\"#5d126d\" fill-rule=\"evenodd\" fill-opacity=\"1\"/>\n",
       "<path clip-path=\"url(#clip8103)\" d=\"\n",
       "M960.756 510.518 L1032.76 510.518 L1032.76 475.332 L960.756 475.332  Z\n",
       "  \" fill=\"#781c6d\" fill-rule=\"evenodd\" fill-opacity=\"1\"/>\n",
       "<path clip-path=\"url(#clip8103)\" d=\"\n",
       "M960.756 475.332 L1032.76 475.332 L1032.76 440.146 L960.756 440.146  Z\n",
       "  \" fill=\"#942666\" fill-rule=\"evenodd\" fill-opacity=\"1\"/>\n",
       "<path clip-path=\"url(#clip8103)\" d=\"\n",
       "M960.756 440.146 L1032.76 440.146 L1032.76 404.96 L960.756 404.96  Z\n",
       "  \" fill=\"#ad305b\" fill-rule=\"evenodd\" fill-opacity=\"1\"/>\n",
       "<path clip-path=\"url(#clip8103)\" d=\"\n",
       "M960.756 404.96 L1032.76 404.96 L1032.76 369.774 L960.756 369.774  Z\n",
       "  \" fill=\"#c73e4c\" fill-rule=\"evenodd\" fill-opacity=\"1\"/>\n",
       "<path clip-path=\"url(#clip8103)\" d=\"\n",
       "M960.756 369.774 L1032.76 369.774 L1032.76 334.588 L960.756 334.588  Z\n",
       "  \" fill=\"#db503a\" fill-rule=\"evenodd\" fill-opacity=\"1\"/>\n",
       "<path clip-path=\"url(#clip8103)\" d=\"\n",
       "M960.756 334.588 L1032.76 334.588 L1032.76 299.402 L960.756 299.402  Z\n",
       "  \" fill=\"#ec6925\" fill-rule=\"evenodd\" fill-opacity=\"1\"/>\n",
       "<path clip-path=\"url(#clip8103)\" d=\"\n",
       "M960.756 299.402 L1032.76 299.402 L1032.76 264.216 L960.756 264.216  Z\n",
       "  \" fill=\"#f7850e\" fill-rule=\"evenodd\" fill-opacity=\"1\"/>\n",
       "<path clip-path=\"url(#clip8103)\" d=\"\n",
       "M960.756 264.216 L1032.76 264.216 L1032.76 229.03 L960.756 229.03  Z\n",
       "  \" fill=\"#fba40a\" fill-rule=\"evenodd\" fill-opacity=\"1\"/>\n",
       "<path clip-path=\"url(#clip8103)\" d=\"\n",
       "M960.756 229.03 L1032.76 229.03 L1032.76 193.844 L960.756 193.844  Z\n",
       "  \" fill=\"#f9c52d\" fill-rule=\"evenodd\" fill-opacity=\"1\"/>\n",
       "<path clip-path=\"url(#clip8103)\" d=\"\n",
       "M960.756 193.844 L1032.76 193.844 L1032.76 158.658 L960.756 158.658  Z\n",
       "  \" fill=\"#f2e55f\" fill-rule=\"evenodd\" fill-opacity=\"1\"/>\n",
       "<path clip-path=\"url(#clip8103)\" d=\"\n",
       "M960.756 158.658 L1032.76 158.658 L1032.76 123.472 L960.756 123.472  Z\n",
       "  \" fill=\"#fcfea4\" fill-rule=\"evenodd\" fill-opacity=\"1\"/>\n",
       "<path clip-path=\"url(#clip8100)\" d=\"M 0 0 M1080.7 668.618 Q1077.09 668.618 1075.26 672.183 Q1073.45 675.724 1073.45 682.854 Q1073.45 689.96 1075.26 693.525 Q1077.09 697.067 1080.7 697.067 Q1084.33 697.067 1086.14 693.525 Q1087.97 689.96 1087.97 682.854 Q1087.97 675.724 1086.14 672.183 Q1084.33 668.618 1080.7 668.618 M1080.7 664.914 Q1086.51 664.914 1089.57 669.521 Q1092.64 674.104 1092.64 682.854 Q1092.64 691.581 1089.57 696.187 Q1086.51 700.77 1080.7 700.77 Q1074.89 700.77 1071.81 696.187 Q1068.76 691.581 1068.76 682.854 Q1068.76 674.104 1071.81 669.521 Q1074.89 664.914 1080.7 664.914 Z\" fill=\"#000000\" fill-rule=\"evenodd\" fill-opacity=\"1\" /><path clip-path=\"url(#clip8100)\" d=\"M 0 0 M1080.7 557.491 Q1077.09 557.491 1075.26 561.056 Q1073.45 564.597 1073.45 571.727 Q1073.45 578.833 1075.26 582.398 Q1077.09 585.94 1080.7 585.94 Q1084.33 585.94 1086.14 582.398 Q1087.97 578.833 1087.97 571.727 Q1087.97 564.597 1086.14 561.056 Q1084.33 557.491 1080.7 557.491 M1080.7 553.787 Q1086.51 553.787 1089.57 558.394 Q1092.64 562.977 1092.64 571.727 Q1092.64 580.454 1089.57 585.06 Q1086.51 589.643 1080.7 589.643 Q1074.89 589.643 1071.81 585.06 Q1068.76 580.454 1068.76 571.727 Q1068.76 562.977 1071.81 558.394 Q1074.89 553.787 1080.7 553.787 Z\" fill=\"#000000\" fill-rule=\"evenodd\" fill-opacity=\"1\" /><path clip-path=\"url(#clip8100)\" d=\"M 0 0 M1097.71 583.093 L1102.6 583.093 L1102.6 588.972 L1097.71 588.972 L1097.71 583.093 Z\" fill=\"#000000\" fill-rule=\"evenodd\" fill-opacity=\"1\" /><path clip-path=\"url(#clip8100)\" d=\"M 0 0 M1117.67 557.491 Q1114.06 557.491 1112.23 561.056 Q1110.42 564.597 1110.42 571.727 Q1110.42 578.833 1112.23 582.398 Q1114.06 585.94 1117.67 585.94 Q1121.3 585.94 1123.11 582.398 Q1124.94 578.833 1124.94 571.727 Q1124.94 564.597 1123.11 561.056 Q1121.3 557.491 1117.67 557.491 M1117.67 553.787 Q1123.48 553.787 1126.53 558.394 Q1129.61 562.977 1129.61 571.727 Q1129.61 580.454 1126.53 585.06 Q1123.48 589.643 1117.67 589.643 Q1111.86 589.643 1108.78 585.06 Q1105.72 580.454 1105.72 571.727 Q1105.72 562.977 1108.78 558.394 Q1111.86 553.787 1117.67 553.787 Z\" fill=\"#000000\" fill-rule=\"evenodd\" fill-opacity=\"1\" /><path clip-path=\"url(#clip8100)\" d=\"M 0 0 M1135.49 585.037 L1143.13 585.037 L1143.13 558.671 L1134.82 560.338 L1134.82 556.079 L1143.08 554.412 L1147.76 554.412 L1147.76 585.037 L1155.4 585.037 L1155.4 588.972 L1135.49 588.972 L1135.49 585.037 Z\" fill=\"#000000\" fill-rule=\"evenodd\" fill-opacity=\"1\" /><path clip-path=\"url(#clip8100)\" d=\"M 0 0 M1080.7 446.364 Q1077.09 446.364 1075.26 449.929 Q1073.45 453.47 1073.45 460.6 Q1073.45 467.706 1075.26 471.271 Q1077.09 474.813 1080.7 474.813 Q1084.33 474.813 1086.14 471.271 Q1087.97 467.706 1087.97 460.6 Q1087.97 453.47 1086.14 449.929 Q1084.33 446.364 1080.7 446.364 M1080.7 442.66 Q1086.51 442.66 1089.57 447.267 Q1092.64 451.85 1092.64 460.6 Q1092.64 469.327 1089.57 473.933 Q1086.51 478.516 1080.7 478.516 Q1074.89 478.516 1071.81 473.933 Q1068.76 469.327 1068.76 460.6 Q1068.76 451.85 1071.81 447.267 Q1074.89 442.66 1080.7 442.66 Z\" fill=\"#000000\" fill-rule=\"evenodd\" fill-opacity=\"1\" /><path clip-path=\"url(#clip8100)\" d=\"M 0 0 M1097.71 471.966 L1102.6 471.966 L1102.6 477.845 L1097.71 477.845 L1097.71 471.966 Z\" fill=\"#000000\" fill-rule=\"evenodd\" fill-opacity=\"1\" /><path clip-path=\"url(#clip8100)\" d=\"M 0 0 M1117.67 446.364 Q1114.06 446.364 1112.23 449.929 Q1110.42 453.47 1110.42 460.6 Q1110.42 467.706 1112.23 471.271 Q1114.06 474.813 1117.67 474.813 Q1121.3 474.813 1123.11 471.271 Q1124.94 467.706 1124.94 460.6 Q1124.94 453.47 1123.11 449.929 Q1121.3 446.364 1117.67 446.364 M1117.67 442.66 Q1123.48 442.66 1126.53 447.267 Q1129.61 451.85 1129.61 460.6 Q1129.61 469.327 1126.53 473.933 Q1123.48 478.516 1117.67 478.516 Q1111.86 478.516 1108.78 473.933 Q1105.72 469.327 1105.72 460.6 Q1105.72 451.85 1108.78 447.267 Q1111.86 442.66 1117.67 442.66 Z\" fill=\"#000000\" fill-rule=\"evenodd\" fill-opacity=\"1\" /><path clip-path=\"url(#clip8100)\" d=\"M 0 0 M1138.71 473.91 L1155.03 473.91 L1155.03 477.845 L1133.08 477.845 L1133.08 473.91 Q1135.75 471.155 1140.33 466.526 Q1144.94 461.873 1146.12 460.53 Q1148.36 458.007 1149.24 456.271 Q1150.14 454.512 1150.14 452.822 Q1150.14 450.068 1148.2 448.331 Q1146.28 446.595 1143.18 446.595 Q1140.98 446.595 1138.52 447.359 Q1136.09 448.123 1133.32 449.674 L1133.32 444.952 Q1136.14 443.818 1138.59 443.239 Q1141.05 442.66 1143.08 442.66 Q1148.45 442.66 1151.65 445.345 Q1154.84 448.031 1154.84 452.521 Q1154.84 454.651 1154.03 456.572 Q1153.25 458.47 1151.14 461.063 Q1150.56 461.734 1147.46 464.952 Q1144.36 468.146 1138.71 473.91 Z\" fill=\"#000000\" fill-rule=\"evenodd\" fill-opacity=\"1\" /><path clip-path=\"url(#clip8100)\" d=\"M 0 0 M1080.7 335.237 Q1077.09 335.237 1075.26 338.802 Q1073.45 342.343 1073.45 349.473 Q1073.45 356.579 1075.26 360.144 Q1077.09 363.686 1080.7 363.686 Q1084.33 363.686 1086.14 360.144 Q1087.97 356.579 1087.97 349.473 Q1087.97 342.343 1086.14 338.802 Q1084.33 335.237 1080.7 335.237 M1080.7 331.533 Q1086.51 331.533 1089.57 336.14 Q1092.64 340.723 1092.64 349.473 Q1092.64 358.2 1089.57 362.806 Q1086.51 367.389 1080.7 367.389 Q1074.89 367.389 1071.81 362.806 Q1068.76 358.2 1068.76 349.473 Q1068.76 340.723 1071.81 336.14 Q1074.89 331.533 1080.7 331.533 Z\" fill=\"#000000\" fill-rule=\"evenodd\" fill-opacity=\"1\" /><path clip-path=\"url(#clip8100)\" d=\"M 0 0 M1097.71 360.839 L1102.6 360.839 L1102.6 366.718 L1097.71 366.718 L1097.71 360.839 Z\" fill=\"#000000\" fill-rule=\"evenodd\" fill-opacity=\"1\" /><path clip-path=\"url(#clip8100)\" d=\"M 0 0 M1117.67 335.237 Q1114.06 335.237 1112.23 338.802 Q1110.42 342.343 1110.42 349.473 Q1110.42 356.579 1112.23 360.144 Q1114.06 363.686 1117.67 363.686 Q1121.3 363.686 1123.11 360.144 Q1124.94 356.579 1124.94 349.473 Q1124.94 342.343 1123.11 338.802 Q1121.3 335.237 1117.67 335.237 M1117.67 331.533 Q1123.48 331.533 1126.53 336.14 Q1129.61 340.723 1129.61 349.473 Q1129.61 358.2 1126.53 362.806 Q1123.48 367.389 1117.67 367.389 Q1111.86 367.389 1108.78 362.806 Q1105.72 358.2 1105.72 349.473 Q1105.72 340.723 1108.78 336.14 Q1111.86 331.533 1117.67 331.533 Z\" fill=\"#000000\" fill-rule=\"evenodd\" fill-opacity=\"1\" /><path clip-path=\"url(#clip8100)\" d=\"M 0 0 M1148.85 348.084 Q1152.2 348.802 1154.08 351.07 Q1155.98 353.339 1155.98 356.672 Q1155.98 361.788 1152.46 364.589 Q1148.94 367.389 1142.46 367.389 Q1140.28 367.389 1137.97 366.95 Q1135.68 366.533 1133.22 365.677 L1133.22 361.163 Q1135.17 362.297 1137.48 362.876 Q1139.8 363.454 1142.32 363.454 Q1146.72 363.454 1149.01 361.718 Q1151.32 359.982 1151.32 356.672 Q1151.32 353.616 1149.17 351.903 Q1147.04 350.167 1143.22 350.167 L1139.2 350.167 L1139.2 346.325 L1143.41 346.325 Q1146.86 346.325 1148.69 344.959 Q1150.51 343.57 1150.51 340.978 Q1150.51 338.316 1148.62 336.904 Q1146.74 335.468 1143.22 335.468 Q1141.3 335.468 1139.1 335.885 Q1136.9 336.302 1134.26 337.181 L1134.26 333.015 Q1136.93 332.274 1139.24 331.904 Q1141.58 331.533 1143.64 331.533 Q1148.96 331.533 1152.07 333.964 Q1155.17 336.371 1155.17 340.491 Q1155.17 343.362 1153.52 345.353 Q1151.88 347.32 1148.85 348.084 Z\" fill=\"#000000\" fill-rule=\"evenodd\" fill-opacity=\"1\" /><path clip-path=\"url(#clip8100)\" d=\"M 0 0 M1080.7 224.11 Q1077.09 224.11 1075.26 227.675 Q1073.45 231.216 1073.45 238.346 Q1073.45 245.452 1075.26 249.017 Q1077.09 252.559 1080.7 252.559 Q1084.33 252.559 1086.14 249.017 Q1087.97 245.452 1087.97 238.346 Q1087.97 231.216 1086.14 227.675 Q1084.33 224.11 1080.7 224.11 M1080.7 220.406 Q1086.51 220.406 1089.57 225.013 Q1092.64 229.596 1092.64 238.346 Q1092.64 247.073 1089.57 251.679 Q1086.51 256.263 1080.7 256.263 Q1074.89 256.263 1071.81 251.679 Q1068.76 247.073 1068.76 238.346 Q1068.76 229.596 1071.81 225.013 Q1074.89 220.406 1080.7 220.406 Z\" fill=\"#000000\" fill-rule=\"evenodd\" fill-opacity=\"1\" /><path clip-path=\"url(#clip8100)\" d=\"M 0 0 M1097.71 249.712 L1102.6 249.712 L1102.6 255.591 L1097.71 255.591 L1097.71 249.712 Z\" fill=\"#000000\" fill-rule=\"evenodd\" fill-opacity=\"1\" /><path clip-path=\"url(#clip8100)\" d=\"M 0 0 M1117.67 224.11 Q1114.06 224.11 1112.23 227.675 Q1110.42 231.216 1110.42 238.346 Q1110.42 245.452 1112.23 249.017 Q1114.06 252.559 1117.67 252.559 Q1121.3 252.559 1123.11 249.017 Q1124.94 245.452 1124.94 238.346 Q1124.94 231.216 1123.11 227.675 Q1121.3 224.11 1117.67 224.11 M1117.67 220.406 Q1123.48 220.406 1126.53 225.013 Q1129.61 229.596 1129.61 238.346 Q1129.61 247.073 1126.53 251.679 Q1123.48 256.263 1117.67 256.263 Q1111.86 256.263 1108.78 251.679 Q1105.72 247.073 1105.72 238.346 Q1105.72 229.596 1108.78 225.013 Q1111.86 220.406 1117.67 220.406 Z\" fill=\"#000000\" fill-rule=\"evenodd\" fill-opacity=\"1\" /><path clip-path=\"url(#clip8100)\" d=\"M 0 0 M1147.53 225.105 L1135.72 243.554 L1147.53 243.554 L1147.53 225.105 M1146.3 221.031 L1152.18 221.031 L1152.18 243.554 L1157.11 243.554 L1157.11 247.443 L1152.18 247.443 L1152.18 255.591 L1147.53 255.591 L1147.53 247.443 L1131.93 247.443 L1131.93 242.929 L1146.3 221.031 Z\" fill=\"#000000\" fill-rule=\"evenodd\" fill-opacity=\"1\" /><path clip-path=\"url(#clip8100)\" d=\"M 0 0 M1080.7 112.983 Q1077.09 112.983 1075.26 116.548 Q1073.45 120.089 1073.45 127.219 Q1073.45 134.325 1075.26 137.89 Q1077.09 141.432 1080.7 141.432 Q1084.33 141.432 1086.14 137.89 Q1087.97 134.325 1087.97 127.219 Q1087.97 120.089 1086.14 116.548 Q1084.33 112.983 1080.7 112.983 M1080.7 109.279 Q1086.51 109.279 1089.57 113.886 Q1092.64 118.469 1092.64 127.219 Q1092.64 135.946 1089.57 140.552 Q1086.51 145.136 1080.7 145.136 Q1074.89 145.136 1071.81 140.552 Q1068.76 135.946 1068.76 127.219 Q1068.76 118.469 1071.81 113.886 Q1074.89 109.279 1080.7 109.279 Z\" fill=\"#000000\" fill-rule=\"evenodd\" fill-opacity=\"1\" /><path clip-path=\"url(#clip8100)\" d=\"M 0 0 M1097.71 138.585 L1102.6 138.585 L1102.6 144.464 L1097.71 144.464 L1097.71 138.585 Z\" fill=\"#000000\" fill-rule=\"evenodd\" fill-opacity=\"1\" /><path clip-path=\"url(#clip8100)\" d=\"M 0 0 M1117.67 112.983 Q1114.06 112.983 1112.23 116.548 Q1110.42 120.089 1110.42 127.219 Q1110.42 134.325 1112.23 137.89 Q1114.06 141.432 1117.67 141.432 Q1121.3 141.432 1123.11 137.89 Q1124.94 134.325 1124.94 127.219 Q1124.94 120.089 1123.11 116.548 Q1121.3 112.983 1117.67 112.983 M1117.67 109.279 Q1123.48 109.279 1126.53 113.886 Q1129.61 118.469 1129.61 127.219 Q1129.61 135.946 1126.53 140.552 Q1123.48 145.136 1117.67 145.136 Q1111.86 145.136 1108.78 140.552 Q1105.72 135.946 1105.72 127.219 Q1105.72 118.469 1108.78 113.886 Q1111.86 109.279 1117.67 109.279 Z\" fill=\"#000000\" fill-rule=\"evenodd\" fill-opacity=\"1\" /><path clip-path=\"url(#clip8100)\" d=\"M 0 0 M1134.73 109.904 L1153.08 109.904 L1153.08 113.839 L1139.01 113.839 L1139.01 122.312 Q1140.03 121.964 1141.05 121.802 Q1142.07 121.617 1143.08 121.617 Q1148.87 121.617 1152.25 124.788 Q1155.63 127.96 1155.63 133.376 Q1155.63 138.955 1152.16 142.057 Q1148.69 145.136 1142.37 145.136 Q1140.19 145.136 1137.92 144.765 Q1135.68 144.395 1133.27 143.654 L1133.27 138.955 Q1135.35 140.089 1137.57 140.645 Q1139.8 141.2 1142.27 141.2 Q1146.28 141.2 1148.62 139.094 Q1150.95 136.987 1150.95 133.376 Q1150.95 129.765 1148.62 127.659 Q1146.28 125.552 1142.27 125.552 Q1140.4 125.552 1138.52 125.969 Q1136.67 126.386 1134.73 127.265 L1134.73 109.904 Z\" fill=\"#000000\" fill-rule=\"evenodd\" fill-opacity=\"1\" /><polyline clip-path=\"url(#clip8100)\" style=\"stroke:#000000; stroke-width:4; stroke-opacity:1; fill:none\" points=\"\n",
       "  1032.76,686.448 1032.76,686.448 1056.76,686.448 1032.76,686.448 1032.76,575.321 1056.76,575.321 1032.76,575.321 1032.76,464.194 1056.76,464.194 1032.76,464.194 \n",
       "  1032.76,353.067 1056.76,353.067 1032.76,353.067 1032.76,241.94 1056.76,241.94 1032.76,241.94 1032.76,130.813 1056.76,130.813 1032.76,130.813 1032.76,123.472 \n",
       "  \n",
       "  \"/>\n",
       "<path clip-path=\"url(#clip8100)\" d=\"\n",
       "M1348.33 686.448 L2112.76 686.448 L2112.76 123.472 L1348.33 123.472  Z\n",
       "  \" fill=\"#ffffff\" fill-rule=\"evenodd\" fill-opacity=\"1\"/>\n",
       "<defs>\n",
       "  <clipPath id=\"clip8104\">\n",
       "    <rect x=\"1348\" y=\"123\" width=\"765\" height=\"564\"/>\n",
       "  </clipPath>\n",
       "</defs>\n",
       "<polyline clip-path=\"url(#clip8104)\" style=\"stroke:#000000; stroke-width:2; stroke-opacity:0.1; fill:none\" points=\"\n",
       "  1348.33,686.448 1348.33,123.472 \n",
       "  \"/>\n",
       "<polyline clip-path=\"url(#clip8104)\" style=\"stroke:#000000; stroke-width:2; stroke-opacity:0.1; fill:none\" points=\"\n",
       "  1501.22,686.448 1501.22,123.472 \n",
       "  \"/>\n",
       "<polyline clip-path=\"url(#clip8104)\" style=\"stroke:#000000; stroke-width:2; stroke-opacity:0.1; fill:none\" points=\"\n",
       "  1654.1,686.448 1654.1,123.472 \n",
       "  \"/>\n",
       "<polyline clip-path=\"url(#clip8104)\" style=\"stroke:#000000; stroke-width:2; stroke-opacity:0.1; fill:none\" points=\"\n",
       "  1806.99,686.448 1806.99,123.472 \n",
       "  \"/>\n",
       "<polyline clip-path=\"url(#clip8104)\" style=\"stroke:#000000; stroke-width:2; stroke-opacity:0.1; fill:none\" points=\"\n",
       "  1959.87,686.448 1959.87,123.472 \n",
       "  \"/>\n",
       "<polyline clip-path=\"url(#clip8104)\" style=\"stroke:#000000; stroke-width:2; stroke-opacity:0.1; fill:none\" points=\"\n",
       "  2112.76,686.448 2112.76,123.472 \n",
       "  \"/>\n",
       "<polyline clip-path=\"url(#clip8104)\" style=\"stroke:#000000; stroke-width:2; stroke-opacity:0.1; fill:none\" points=\"\n",
       "  1348.33,686.448 2112.76,686.448 \n",
       "  \"/>\n",
       "<polyline clip-path=\"url(#clip8104)\" style=\"stroke:#000000; stroke-width:2; stroke-opacity:0.1; fill:none\" points=\"\n",
       "  1348.33,573.853 2112.76,573.853 \n",
       "  \"/>\n",
       "<polyline clip-path=\"url(#clip8104)\" style=\"stroke:#000000; stroke-width:2; stroke-opacity:0.1; fill:none\" points=\"\n",
       "  1348.33,461.258 2112.76,461.258 \n",
       "  \"/>\n",
       "<polyline clip-path=\"url(#clip8104)\" style=\"stroke:#000000; stroke-width:2; stroke-opacity:0.1; fill:none\" points=\"\n",
       "  1348.33,348.662 2112.76,348.662 \n",
       "  \"/>\n",
       "<polyline clip-path=\"url(#clip8104)\" style=\"stroke:#000000; stroke-width:2; stroke-opacity:0.1; fill:none\" points=\"\n",
       "  1348.33,236.067 2112.76,236.067 \n",
       "  \"/>\n",
       "<polyline clip-path=\"url(#clip8104)\" style=\"stroke:#000000; stroke-width:2; stroke-opacity:0.1; fill:none\" points=\"\n",
       "  1348.33,123.472 2112.76,123.472 \n",
       "  \"/>\n",
       "<polyline clip-path=\"url(#clip8100)\" style=\"stroke:#000000; stroke-width:4; stroke-opacity:1; fill:none\" points=\"\n",
       "  1348.33,686.448 2112.76,686.448 \n",
       "  \"/>\n",
       "<polyline clip-path=\"url(#clip8100)\" style=\"stroke:#000000; stroke-width:4; stroke-opacity:1; fill:none\" points=\"\n",
       "  1348.33,686.448 1348.33,123.472 \n",
       "  \"/>\n",
       "<polyline clip-path=\"url(#clip8100)\" style=\"stroke:#000000; stroke-width:4; stroke-opacity:1; fill:none\" points=\"\n",
       "  1348.33,686.448 1348.33,679.692 \n",
       "  \"/>\n",
       "<polyline clip-path=\"url(#clip8100)\" style=\"stroke:#000000; stroke-width:4; stroke-opacity:1; fill:none\" points=\"\n",
       "  1501.22,686.448 1501.22,679.692 \n",
       "  \"/>\n",
       "<polyline clip-path=\"url(#clip8100)\" style=\"stroke:#000000; stroke-width:4; stroke-opacity:1; fill:none\" points=\"\n",
       "  1654.1,686.448 1654.1,679.692 \n",
       "  \"/>\n",
       "<polyline clip-path=\"url(#clip8100)\" style=\"stroke:#000000; stroke-width:4; stroke-opacity:1; fill:none\" points=\"\n",
       "  1806.99,686.448 1806.99,679.692 \n",
       "  \"/>\n",
       "<polyline clip-path=\"url(#clip8100)\" style=\"stroke:#000000; stroke-width:4; stroke-opacity:1; fill:none\" points=\"\n",
       "  1959.87,686.448 1959.87,679.692 \n",
       "  \"/>\n",
       "<polyline clip-path=\"url(#clip8100)\" style=\"stroke:#000000; stroke-width:4; stroke-opacity:1; fill:none\" points=\"\n",
       "  2112.76,686.448 2112.76,679.692 \n",
       "  \"/>\n",
       "<polyline clip-path=\"url(#clip8100)\" style=\"stroke:#000000; stroke-width:4; stroke-opacity:1; fill:none\" points=\"\n",
       "  1348.33,686.448 1357.51,686.448 \n",
       "  \"/>\n",
       "<polyline clip-path=\"url(#clip8100)\" style=\"stroke:#000000; stroke-width:4; stroke-opacity:1; fill:none\" points=\"\n",
       "  1348.33,573.853 1357.51,573.853 \n",
       "  \"/>\n",
       "<polyline clip-path=\"url(#clip8100)\" style=\"stroke:#000000; stroke-width:4; stroke-opacity:1; fill:none\" points=\"\n",
       "  1348.33,461.258 1357.51,461.258 \n",
       "  \"/>\n",
       "<polyline clip-path=\"url(#clip8100)\" style=\"stroke:#000000; stroke-width:4; stroke-opacity:1; fill:none\" points=\"\n",
       "  1348.33,348.662 1357.51,348.662 \n",
       "  \"/>\n",
       "<polyline clip-path=\"url(#clip8100)\" style=\"stroke:#000000; stroke-width:4; stroke-opacity:1; fill:none\" points=\"\n",
       "  1348.33,236.067 1357.51,236.067 \n",
       "  \"/>\n",
       "<polyline clip-path=\"url(#clip8100)\" style=\"stroke:#000000; stroke-width:4; stroke-opacity:1; fill:none\" points=\"\n",
       "  1348.33,123.472 1357.51,123.472 \n",
       "  \"/>\n",
       "<path clip-path=\"url(#clip8100)\" d=\"M 0 0 M1329.85 708.439 Q1326.24 708.439 1324.41 712.003 Q1322.61 715.545 1322.61 722.675 Q1322.61 729.781 1324.41 733.346 Q1326.24 736.887 1329.85 736.887 Q1333.48 736.887 1335.29 733.346 Q1337.12 729.781 1337.12 722.675 Q1337.12 715.545 1335.29 712.003 Q1333.48 708.439 1329.85 708.439 M1329.85 704.735 Q1335.66 704.735 1338.72 709.341 Q1341.8 713.925 1341.8 722.675 Q1341.8 731.401 1338.72 736.008 Q1335.66 740.591 1329.85 740.591 Q1324.04 740.591 1320.96 736.008 Q1317.91 731.401 1317.91 722.675 Q1317.91 713.925 1320.96 709.341 Q1324.04 704.735 1329.85 704.735 Z\" fill=\"#000000\" fill-rule=\"evenodd\" fill-opacity=\"1\" /><path clip-path=\"url(#clip8100)\" d=\"M 0 0 M1346.86 734.04 L1351.75 734.04 L1351.75 739.92 L1346.86 739.92 L1346.86 734.04 Z\" fill=\"#000000\" fill-rule=\"evenodd\" fill-opacity=\"1\" /><path clip-path=\"url(#clip8100)\" d=\"M 0 0 M1366.82 708.439 Q1363.21 708.439 1361.38 712.003 Q1359.57 715.545 1359.57 722.675 Q1359.57 729.781 1361.38 733.346 Q1363.21 736.887 1366.82 736.887 Q1370.45 736.887 1372.26 733.346 Q1374.09 729.781 1374.09 722.675 Q1374.09 715.545 1372.26 712.003 Q1370.45 708.439 1366.82 708.439 M1366.82 704.735 Q1372.63 704.735 1375.68 709.341 Q1378.76 713.925 1378.76 722.675 Q1378.76 731.401 1375.68 736.008 Q1372.63 740.591 1366.82 740.591 Q1361.01 740.591 1357.93 736.008 Q1354.87 731.401 1354.87 722.675 Q1354.87 713.925 1357.93 709.341 Q1361.01 704.735 1366.82 704.735 Z\" fill=\"#000000\" fill-rule=\"evenodd\" fill-opacity=\"1\" /><path clip-path=\"url(#clip8100)\" d=\"M 0 0 M1483.53 708.439 Q1479.92 708.439 1478.09 712.003 Q1476.29 715.545 1476.29 722.675 Q1476.29 729.781 1478.09 733.346 Q1479.92 736.887 1483.53 736.887 Q1487.17 736.887 1488.97 733.346 Q1490.8 729.781 1490.8 722.675 Q1490.8 715.545 1488.97 712.003 Q1487.17 708.439 1483.53 708.439 M1483.53 704.735 Q1489.34 704.735 1492.4 709.341 Q1495.48 713.925 1495.48 722.675 Q1495.48 731.401 1492.4 736.008 Q1489.34 740.591 1483.53 740.591 Q1477.72 740.591 1474.64 736.008 Q1471.59 731.401 1471.59 722.675 Q1471.59 713.925 1474.64 709.341 Q1477.72 704.735 1483.53 704.735 Z\" fill=\"#000000\" fill-rule=\"evenodd\" fill-opacity=\"1\" /><path clip-path=\"url(#clip8100)\" d=\"M 0 0 M1500.55 734.04 L1505.43 734.04 L1505.43 739.92 L1500.55 739.92 L1500.55 734.04 Z\" fill=\"#000000\" fill-rule=\"evenodd\" fill-opacity=\"1\" /><path clip-path=\"url(#clip8100)\" d=\"M 0 0 M1514.53 735.985 L1530.85 735.985 L1530.85 739.92 L1508.9 739.92 L1508.9 735.985 Q1511.57 733.23 1516.15 728.6 Q1520.76 723.948 1521.94 722.605 Q1524.18 720.082 1525.06 718.346 Q1525.96 716.587 1525.96 714.897 Q1525.96 712.142 1524.02 710.406 Q1522.1 708.67 1519 708.67 Q1516.8 708.67 1514.34 709.434 Q1511.91 710.198 1509.14 711.749 L1509.14 707.027 Q1511.96 705.892 1514.41 705.314 Q1516.87 704.735 1518.9 704.735 Q1524.27 704.735 1527.47 707.42 Q1530.66 710.105 1530.66 714.596 Q1530.66 716.726 1529.85 718.647 Q1529.07 720.545 1526.96 723.138 Q1526.38 723.809 1523.28 727.026 Q1520.18 730.221 1514.53 735.985 Z\" fill=\"#000000\" fill-rule=\"evenodd\" fill-opacity=\"1\" /><path clip-path=\"url(#clip8100)\" d=\"M 0 0 M1635.38 708.439 Q1631.77 708.439 1629.94 712.003 Q1628.13 715.545 1628.13 722.675 Q1628.13 729.781 1629.94 733.346 Q1631.77 736.887 1635.38 736.887 Q1639.01 736.887 1640.82 733.346 Q1642.64 729.781 1642.64 722.675 Q1642.64 715.545 1640.82 712.003 Q1639.01 708.439 1635.38 708.439 M1635.38 704.735 Q1641.19 704.735 1644.24 709.341 Q1647.32 713.925 1647.32 722.675 Q1647.32 731.401 1644.24 736.008 Q1641.19 740.591 1635.38 740.591 Q1629.57 740.591 1626.49 736.008 Q1623.43 731.401 1623.43 722.675 Q1623.43 713.925 1626.49 709.341 Q1629.57 704.735 1635.38 704.735 Z\" fill=\"#000000\" fill-rule=\"evenodd\" fill-opacity=\"1\" /><path clip-path=\"url(#clip8100)\" d=\"M 0 0 M1652.39 734.04 L1657.27 734.04 L1657.27 739.92 L1652.39 739.92 L1652.39 734.04 Z\" fill=\"#000000\" fill-rule=\"evenodd\" fill-opacity=\"1\" /><path clip-path=\"url(#clip8100)\" d=\"M 0 0 M1675.19 709.434 L1663.39 727.883 L1675.19 727.883 L1675.19 709.434 M1673.96 705.36 L1679.84 705.36 L1679.84 727.883 L1684.77 727.883 L1684.77 731.772 L1679.84 731.772 L1679.84 739.92 L1675.19 739.92 L1675.19 731.772 L1659.59 731.772 L1659.59 727.258 L1673.96 705.36 Z\" fill=\"#000000\" fill-rule=\"evenodd\" fill-opacity=\"1\" /><path clip-path=\"url(#clip8100)\" d=\"M 0 0 M1788.42 708.439 Q1784.81 708.439 1782.98 712.003 Q1781.18 715.545 1781.18 722.675 Q1781.18 729.781 1782.98 733.346 Q1784.81 736.887 1788.42 736.887 Q1792.06 736.887 1793.86 733.346 Q1795.69 729.781 1795.69 722.675 Q1795.69 715.545 1793.86 712.003 Q1792.06 708.439 1788.42 708.439 M1788.42 704.735 Q1794.23 704.735 1797.29 709.341 Q1800.37 713.925 1800.37 722.675 Q1800.37 731.401 1797.29 736.008 Q1794.23 740.591 1788.42 740.591 Q1782.61 740.591 1779.53 736.008 Q1776.48 731.401 1776.48 722.675 Q1776.48 713.925 1779.53 709.341 Q1782.61 704.735 1788.42 704.735 Z\" fill=\"#000000\" fill-rule=\"evenodd\" fill-opacity=\"1\" /><path clip-path=\"url(#clip8100)\" d=\"M 0 0 M1805.44 734.04 L1810.32 734.04 L1810.32 739.92 L1805.44 739.92 L1805.44 734.04 Z\" fill=\"#000000\" fill-rule=\"evenodd\" fill-opacity=\"1\" /><path clip-path=\"url(#clip8100)\" d=\"M 0 0 M1825.97 720.776 Q1822.82 720.776 1820.97 722.929 Q1819.14 725.082 1819.14 728.832 Q1819.14 732.559 1820.97 734.735 Q1822.82 736.887 1825.97 736.887 Q1829.12 736.887 1830.95 734.735 Q1832.8 732.559 1832.8 728.832 Q1832.8 725.082 1830.95 722.929 Q1829.12 720.776 1825.97 720.776 M1835.25 706.124 L1835.25 710.383 Q1833.49 709.55 1831.69 709.11 Q1829.9 708.67 1828.14 708.67 Q1823.51 708.67 1821.06 711.795 Q1818.63 714.92 1818.28 721.239 Q1819.65 719.226 1821.71 718.161 Q1823.77 717.073 1826.25 717.073 Q1831.45 717.073 1834.46 720.244 Q1837.5 723.392 1837.5 728.832 Q1837.5 734.156 1834.35 737.374 Q1831.2 740.591 1825.97 740.591 Q1819.97 740.591 1816.8 736.008 Q1813.63 731.401 1813.63 722.675 Q1813.63 714.48 1817.52 709.619 Q1821.41 704.735 1827.96 704.735 Q1829.72 704.735 1831.5 705.082 Q1833.31 705.429 1835.25 706.124 Z\" fill=\"#000000\" fill-rule=\"evenodd\" fill-opacity=\"1\" /><path clip-path=\"url(#clip8100)\" d=\"M 0 0 M1941.43 708.439 Q1937.82 708.439 1935.99 712.003 Q1934.19 715.545 1934.19 722.675 Q1934.19 729.781 1935.99 733.346 Q1937.82 736.887 1941.43 736.887 Q1945.07 736.887 1946.87 733.346 Q1948.7 729.781 1948.7 722.675 Q1948.7 715.545 1946.87 712.003 Q1945.07 708.439 1941.43 708.439 M1941.43 704.735 Q1947.24 704.735 1950.3 709.341 Q1953.38 713.925 1953.38 722.675 Q1953.38 731.401 1950.3 736.008 Q1947.24 740.591 1941.43 740.591 Q1935.62 740.591 1932.55 736.008 Q1929.49 731.401 1929.49 722.675 Q1929.49 713.925 1932.55 709.341 Q1935.62 704.735 1941.43 704.735 Z\" fill=\"#000000\" fill-rule=\"evenodd\" fill-opacity=\"1\" /><path clip-path=\"url(#clip8100)\" d=\"M 0 0 M1958.45 734.04 L1963.33 734.04 L1963.33 739.92 L1958.45 739.92 L1958.45 734.04 Z\" fill=\"#000000\" fill-rule=\"evenodd\" fill-opacity=\"1\" /><path clip-path=\"url(#clip8100)\" d=\"M 0 0 M1978.4 723.508 Q1975.07 723.508 1973.15 725.29 Q1971.25 727.073 1971.25 730.198 Q1971.25 733.323 1973.15 735.105 Q1975.07 736.887 1978.4 736.887 Q1981.73 736.887 1983.66 735.105 Q1985.58 733.3 1985.58 730.198 Q1985.58 727.073 1983.66 725.29 Q1981.76 723.508 1978.4 723.508 M1973.73 721.517 Q1970.72 720.776 1969.03 718.716 Q1967.36 716.656 1967.36 713.693 Q1967.36 709.55 1970.3 707.142 Q1973.26 704.735 1978.4 704.735 Q1983.56 704.735 1986.5 707.142 Q1989.44 709.55 1989.44 713.693 Q1989.44 716.656 1987.75 718.716 Q1986.09 720.776 1983.1 721.517 Q1986.48 722.304 1988.36 724.596 Q1990.25 726.888 1990.25 730.198 Q1990.25 735.221 1987.17 737.906 Q1984.12 740.591 1978.4 740.591 Q1972.68 740.591 1969.61 737.906 Q1966.55 735.221 1966.55 730.198 Q1966.55 726.888 1968.45 724.596 Q1970.35 722.304 1973.73 721.517 M1972.01 714.133 Q1972.01 716.818 1973.68 718.323 Q1975.37 719.827 1978.4 719.827 Q1981.41 719.827 1983.1 718.323 Q1984.81 716.818 1984.81 714.133 Q1984.81 711.448 1983.1 709.943 Q1981.41 708.439 1978.4 708.439 Q1975.37 708.439 1973.68 709.943 Q1972.01 711.448 1972.01 714.133 Z\" fill=\"#000000\" fill-rule=\"evenodd\" fill-opacity=\"1\" /><path clip-path=\"url(#clip8100)\" d=\"M 0 0 M2084.65 735.985 L2092.29 735.985 L2092.29 709.619 L2083.98 711.286 L2083.98 707.027 L2092.25 705.36 L2096.92 705.36 L2096.92 735.985 L2104.56 735.985 L2104.56 739.92 L2084.65 739.92 L2084.65 735.985 Z\" fill=\"#000000\" fill-rule=\"evenodd\" fill-opacity=\"1\" /><path clip-path=\"url(#clip8100)\" d=\"M 0 0 M2109.63 734.04 L2114.52 734.04 L2114.52 739.92 L2109.63 739.92 L2109.63 734.04 Z\" fill=\"#000000\" fill-rule=\"evenodd\" fill-opacity=\"1\" /><path clip-path=\"url(#clip8100)\" d=\"M 0 0 M2129.58 708.439 Q2125.97 708.439 2124.14 712.003 Q2122.34 715.545 2122.34 722.675 Q2122.34 729.781 2124.14 733.346 Q2125.97 736.887 2129.58 736.887 Q2133.22 736.887 2135.02 733.346 Q2136.85 729.781 2136.85 722.675 Q2136.85 715.545 2135.02 712.003 Q2133.22 708.439 2129.58 708.439 M2129.58 704.735 Q2135.39 704.735 2138.45 709.341 Q2141.53 713.925 2141.53 722.675 Q2141.53 731.401 2138.45 736.008 Q2135.39 740.591 2129.58 740.591 Q2123.77 740.591 2120.7 736.008 Q2117.64 731.401 2117.64 722.675 Q2117.64 713.925 2120.7 709.341 Q2123.77 704.735 2129.58 704.735 Z\" fill=\"#000000\" fill-rule=\"evenodd\" fill-opacity=\"1\" /><path clip-path=\"url(#clip8100)\" d=\"M 0 0 M1275.42 672.247 Q1271.81 672.247 1269.98 675.811 Q1268.18 679.353 1268.18 686.483 Q1268.18 693.589 1269.98 697.154 Q1271.81 700.695 1275.42 700.695 Q1279.06 700.695 1280.86 697.154 Q1282.69 693.589 1282.69 686.483 Q1282.69 679.353 1280.86 675.811 Q1279.06 672.247 1275.42 672.247 M1275.42 668.543 Q1281.23 668.543 1284.29 673.149 Q1287.37 677.733 1287.37 686.483 Q1287.37 695.209 1284.29 699.816 Q1281.23 704.399 1275.42 704.399 Q1269.61 704.399 1266.53 699.816 Q1263.48 695.209 1263.48 686.483 Q1263.48 677.733 1266.53 673.149 Q1269.61 668.543 1275.42 668.543 Z\" fill=\"#000000\" fill-rule=\"evenodd\" fill-opacity=\"1\" /><path clip-path=\"url(#clip8100)\" d=\"M 0 0 M1292.44 697.848 L1297.32 697.848 L1297.32 703.728 L1292.44 703.728 L1292.44 697.848 Z\" fill=\"#000000\" fill-rule=\"evenodd\" fill-opacity=\"1\" /><path clip-path=\"url(#clip8100)\" d=\"M 0 0 M1312.39 672.247 Q1308.78 672.247 1306.95 675.811 Q1305.14 679.353 1305.14 686.483 Q1305.14 693.589 1306.95 697.154 Q1308.78 700.695 1312.39 700.695 Q1316.02 700.695 1317.83 697.154 Q1319.66 693.589 1319.66 686.483 Q1319.66 679.353 1317.83 675.811 Q1316.02 672.247 1312.39 672.247 M1312.39 668.543 Q1318.2 668.543 1321.26 673.149 Q1324.33 677.733 1324.33 686.483 Q1324.33 695.209 1321.26 699.816 Q1318.2 704.399 1312.39 704.399 Q1306.58 704.399 1303.5 699.816 Q1300.45 695.209 1300.45 686.483 Q1300.45 677.733 1303.5 673.149 Q1306.58 668.543 1312.39 668.543 Z\" fill=\"#000000\" fill-rule=\"evenodd\" fill-opacity=\"1\" /><path clip-path=\"url(#clip8100)\" d=\"M 0 0 M1277.02 559.651 Q1273.41 559.651 1271.58 563.216 Q1269.77 566.758 1269.77 573.887 Q1269.77 580.994 1271.58 584.559 Q1273.41 588.1 1277.02 588.1 Q1280.65 588.1 1282.46 584.559 Q1284.29 580.994 1284.29 573.887 Q1284.29 566.758 1282.46 563.216 Q1280.65 559.651 1277.02 559.651 M1277.02 555.948 Q1282.83 555.948 1285.89 560.554 Q1288.96 565.137 1288.96 573.887 Q1288.96 582.614 1285.89 587.221 Q1282.83 591.804 1277.02 591.804 Q1271.21 591.804 1268.13 587.221 Q1265.08 582.614 1265.08 573.887 Q1265.08 565.137 1268.13 560.554 Q1271.21 555.948 1277.02 555.948 Z\" fill=\"#000000\" fill-rule=\"evenodd\" fill-opacity=\"1\" /><path clip-path=\"url(#clip8100)\" d=\"M 0 0 M1294.03 585.253 L1298.92 585.253 L1298.92 591.133 L1294.03 591.133 L1294.03 585.253 Z\" fill=\"#000000\" fill-rule=\"evenodd\" fill-opacity=\"1\" /><path clip-path=\"url(#clip8100)\" d=\"M 0 0 M1308.02 587.198 L1324.33 587.198 L1324.33 591.133 L1302.39 591.133 L1302.39 587.198 Q1305.05 584.443 1309.64 579.813 Q1314.24 575.161 1315.42 573.818 Q1317.67 571.295 1318.55 569.559 Q1319.45 567.8 1319.45 566.11 Q1319.45 563.355 1317.51 561.619 Q1315.58 559.883 1312.48 559.883 Q1310.28 559.883 1307.83 560.647 Q1305.4 561.411 1302.62 562.962 L1302.62 558.239 Q1305.45 557.105 1307.9 556.526 Q1310.35 555.948 1312.39 555.948 Q1317.76 555.948 1320.95 558.633 Q1324.15 561.318 1324.15 565.809 Q1324.15 567.938 1323.34 569.86 Q1322.55 571.758 1320.45 574.35 Q1319.87 575.022 1316.76 578.239 Q1313.66 581.434 1308.02 587.198 Z\" fill=\"#000000\" fill-rule=\"evenodd\" fill-opacity=\"1\" /><path clip-path=\"url(#clip8100)\" d=\"M 0 0 M1274.94 447.056 Q1271.33 447.056 1269.5 450.621 Q1267.69 454.163 1267.69 461.292 Q1267.69 468.399 1269.5 471.964 Q1271.33 475.505 1274.94 475.505 Q1278.57 475.505 1280.38 471.964 Q1282.2 468.399 1282.2 461.292 Q1282.2 454.163 1280.38 450.621 Q1278.57 447.056 1274.94 447.056 M1274.94 443.353 Q1280.75 443.353 1283.8 447.959 Q1286.88 452.542 1286.88 461.292 Q1286.88 470.019 1283.8 474.626 Q1280.75 479.209 1274.94 479.209 Q1269.13 479.209 1266.05 474.626 Q1262.99 470.019 1262.99 461.292 Q1262.99 452.542 1266.05 447.959 Q1269.13 443.353 1274.94 443.353 Z\" fill=\"#000000\" fill-rule=\"evenodd\" fill-opacity=\"1\" /><path clip-path=\"url(#clip8100)\" d=\"M 0 0 M1291.95 472.658 L1296.83 472.658 L1296.83 478.538 L1291.95 478.538 L1291.95 472.658 Z\" fill=\"#000000\" fill-rule=\"evenodd\" fill-opacity=\"1\" /><path clip-path=\"url(#clip8100)\" d=\"M 0 0 M1314.75 448.052 L1302.95 466.501 L1314.75 466.501 L1314.75 448.052 M1313.52 443.978 L1319.4 443.978 L1319.4 466.501 L1324.33 466.501 L1324.33 470.389 L1319.4 470.389 L1319.4 478.538 L1314.75 478.538 L1314.75 470.389 L1299.15 470.389 L1299.15 465.876 L1313.52 443.978 Z\" fill=\"#000000\" fill-rule=\"evenodd\" fill-opacity=\"1\" /><path clip-path=\"url(#clip8100)\" d=\"M 0 0 M1275.26 334.461 Q1271.65 334.461 1269.82 338.026 Q1268.02 341.568 1268.02 348.697 Q1268.02 355.804 1269.82 359.368 Q1271.65 362.91 1275.26 362.91 Q1278.89 362.91 1280.7 359.368 Q1282.53 355.804 1282.53 348.697 Q1282.53 341.568 1280.7 338.026 Q1278.89 334.461 1275.26 334.461 M1275.26 330.757 Q1281.07 330.757 1284.13 335.364 Q1287.2 339.947 1287.2 348.697 Q1287.2 357.424 1284.13 362.03 Q1281.07 366.614 1275.26 366.614 Q1269.45 366.614 1266.37 362.03 Q1263.32 357.424 1263.32 348.697 Q1263.32 339.947 1266.37 335.364 Q1269.45 330.757 1275.26 330.757 Z\" fill=\"#000000\" fill-rule=\"evenodd\" fill-opacity=\"1\" /><path clip-path=\"url(#clip8100)\" d=\"M 0 0 M1292.27 360.063 L1297.16 360.063 L1297.16 365.942 L1292.27 365.942 L1292.27 360.063 Z\" fill=\"#000000\" fill-rule=\"evenodd\" fill-opacity=\"1\" /><path clip-path=\"url(#clip8100)\" d=\"M 0 0 M1312.81 346.799 Q1309.66 346.799 1307.81 348.952 Q1305.98 351.105 1305.98 354.855 Q1305.98 358.581 1307.81 360.757 Q1309.66 362.91 1312.81 362.91 Q1315.95 362.91 1317.78 360.757 Q1319.64 358.581 1319.64 354.855 Q1319.64 351.105 1317.78 348.952 Q1315.95 346.799 1312.81 346.799 M1322.09 332.146 L1322.09 336.406 Q1320.33 335.572 1318.52 335.132 Q1316.74 334.693 1314.98 334.693 Q1310.35 334.693 1307.9 337.818 Q1305.47 340.943 1305.12 347.262 Q1306.49 345.248 1308.55 344.183 Q1310.61 343.095 1313.08 343.095 Q1318.29 343.095 1321.3 346.267 Q1324.33 349.415 1324.33 354.855 Q1324.33 360.179 1321.19 363.396 Q1318.04 366.614 1312.81 366.614 Q1306.81 366.614 1303.64 362.03 Q1300.47 357.424 1300.47 348.697 Q1300.47 340.503 1304.36 335.642 Q1308.25 330.757 1314.8 330.757 Q1316.56 330.757 1318.34 331.105 Q1320.14 331.452 1322.09 332.146 Z\" fill=\"#000000\" fill-rule=\"evenodd\" fill-opacity=\"1\" /><path clip-path=\"url(#clip8100)\" d=\"M 0 0 M1275.52 221.866 Q1271.9 221.866 1270.08 225.431 Q1268.27 228.972 1268.27 236.102 Q1268.27 243.208 1270.08 246.773 Q1271.9 250.315 1275.52 250.315 Q1279.15 250.315 1280.95 246.773 Q1282.78 243.208 1282.78 236.102 Q1282.78 228.972 1280.95 225.431 Q1279.15 221.866 1275.52 221.866 M1275.52 218.162 Q1281.33 218.162 1284.38 222.769 Q1287.46 227.352 1287.46 236.102 Q1287.46 244.829 1284.38 249.435 Q1281.33 254.019 1275.52 254.019 Q1269.71 254.019 1266.63 249.435 Q1263.57 244.829 1263.57 236.102 Q1263.57 227.352 1266.63 222.769 Q1269.71 218.162 1275.52 218.162 Z\" fill=\"#000000\" fill-rule=\"evenodd\" fill-opacity=\"1\" /><path clip-path=\"url(#clip8100)\" d=\"M 0 0 M1292.53 247.468 L1297.41 247.468 L1297.41 253.347 L1292.53 253.347 L1292.53 247.468 Z\" fill=\"#000000\" fill-rule=\"evenodd\" fill-opacity=\"1\" /><path clip-path=\"url(#clip8100)\" d=\"M 0 0 M1312.48 236.935 Q1309.15 236.935 1307.23 238.718 Q1305.33 240.5 1305.33 243.625 Q1305.33 246.75 1307.23 248.532 Q1309.15 250.315 1312.48 250.315 Q1315.82 250.315 1317.74 248.532 Q1319.66 246.727 1319.66 243.625 Q1319.66 240.5 1317.74 238.718 Q1315.84 236.935 1312.48 236.935 M1307.81 234.945 Q1304.8 234.204 1303.11 232.144 Q1301.44 230.084 1301.44 227.121 Q1301.44 222.977 1304.38 220.57 Q1307.34 218.162 1312.48 218.162 Q1317.64 218.162 1320.58 220.57 Q1323.52 222.977 1323.52 227.121 Q1323.52 230.084 1321.83 232.144 Q1320.17 234.204 1317.18 234.945 Q1320.56 235.732 1322.44 238.023 Q1324.33 240.315 1324.33 243.625 Q1324.33 248.648 1321.26 251.333 Q1318.2 254.019 1312.48 254.019 Q1306.77 254.019 1303.69 251.333 Q1300.63 248.648 1300.63 243.625 Q1300.63 240.315 1302.53 238.023 Q1304.43 235.732 1307.81 234.945 M1306.09 227.56 Q1306.09 230.246 1307.76 231.75 Q1309.45 233.255 1312.48 233.255 Q1315.49 233.255 1317.18 231.75 Q1318.89 230.246 1318.89 227.56 Q1318.89 224.875 1317.18 223.371 Q1315.49 221.866 1312.48 221.866 Q1309.45 221.866 1307.76 223.371 Q1306.09 224.875 1306.09 227.56 Z\" fill=\"#000000\" fill-rule=\"evenodd\" fill-opacity=\"1\" /><path clip-path=\"url(#clip8100)\" d=\"M 0 0 M1267.46 136.817 L1275.1 136.817 L1275.1 110.451 L1266.79 112.118 L1266.79 107.859 L1275.05 106.192 L1279.73 106.192 L1279.73 136.817 L1287.37 136.817 L1287.37 140.752 L1267.46 140.752 L1267.46 136.817 Z\" fill=\"#000000\" fill-rule=\"evenodd\" fill-opacity=\"1\" /><path clip-path=\"url(#clip8100)\" d=\"M 0 0 M1292.44 134.873 L1297.32 134.873 L1297.32 140.752 L1292.44 140.752 L1292.44 134.873 Z\" fill=\"#000000\" fill-rule=\"evenodd\" fill-opacity=\"1\" /><path clip-path=\"url(#clip8100)\" d=\"M 0 0 M1312.39 109.271 Q1308.78 109.271 1306.95 112.836 Q1305.14 116.377 1305.14 123.507 Q1305.14 130.613 1306.95 134.178 Q1308.78 137.72 1312.39 137.72 Q1316.02 137.72 1317.83 134.178 Q1319.66 130.613 1319.66 123.507 Q1319.66 116.377 1317.83 112.836 Q1316.02 109.271 1312.39 109.271 M1312.39 105.567 Q1318.2 105.567 1321.26 110.174 Q1324.33 114.757 1324.33 123.507 Q1324.33 132.234 1321.26 136.84 Q1318.2 141.423 1312.39 141.423 Q1306.58 141.423 1303.5 136.84 Q1300.45 132.234 1300.45 123.507 Q1300.45 114.757 1303.5 110.174 Q1306.58 105.567 1312.39 105.567 Z\" fill=\"#000000\" fill-rule=\"evenodd\" fill-opacity=\"1\" /><path clip-path=\"url(#clip8100)\" d=\"M 0 0 M1612.58 65.7705 L1612.58 89.8329 L1605.09 89.8329 L1605.09 27.2059 L1612.58 27.2059 L1612.58 34.0924 Q1614.93 30.0415 1618.5 28.0971 Q1622.1 26.1121 1627.09 26.1121 Q1635.35 26.1121 1640.49 32.6746 Q1645.68 39.2371 1645.68 49.9314 Q1645.68 60.6258 1640.49 67.1883 Q1635.35 73.7508 1627.09 73.7508 Q1622.1 73.7508 1618.5 71.8063 Q1614.93 69.8214 1612.58 65.7705 M1637.94 49.9314 Q1637.94 41.7081 1634.54 37.0496 Q1631.18 32.3505 1625.26 32.3505 Q1619.35 32.3505 1615.95 37.0496 Q1612.58 41.7081 1612.58 49.9314 Q1612.58 58.1548 1615.95 62.8538 Q1619.35 67.5124 1625.26 67.5124 Q1631.18 67.5124 1634.54 62.8538 Q1637.94 58.1548 1637.94 49.9314 Z\" fill=\"#000000\" fill-rule=\"evenodd\" fill-opacity=\"1\" /><path clip-path=\"url(#clip8100)\" d=\"M 0 0 M1679.79 34.1734 Q1678.53 33.4443 1677.03 33.1202 Q1675.57 32.7556 1673.79 32.7556 Q1667.47 32.7556 1664.07 36.8875 Q1660.71 40.9789 1660.71 48.6757 L1660.71 72.576 L1653.21 72.576 L1653.21 27.2059 L1660.71 27.2059 L1660.71 34.2544 Q1663.06 30.1225 1666.82 28.1376 Q1670.59 26.1121 1675.98 26.1121 Q1676.75 26.1121 1677.68 26.2337 Q1678.61 26.3147 1679.75 26.5172 L1679.79 34.1734 Z\" fill=\"#000000\" fill-rule=\"evenodd\" fill-opacity=\"1\" /><path clip-path=\"url(#clip8100)\" d=\"M 0 0 M1724.59 48.0275 L1724.59 51.6733 L1690.32 51.6733 Q1690.81 59.3701 1694.94 63.421 Q1699.11 67.4314 1706.52 67.4314 Q1710.82 67.4314 1714.83 66.3781 Q1718.88 65.3249 1722.85 63.2184 L1722.85 70.267 Q1718.84 71.9684 1714.63 72.8596 Q1710.41 73.7508 1706.08 73.7508 Q1695.22 73.7508 1688.86 67.4314 Q1682.54 61.1119 1682.54 50.3365 Q1682.54 39.1965 1688.54 32.6746 Q1694.57 26.1121 1704.78 26.1121 Q1713.94 26.1121 1719.24 32.0264 Q1724.59 37.9003 1724.59 48.0275 M1717.14 45.84 Q1717.06 39.7232 1713.69 36.0774 Q1710.37 32.4315 1704.86 32.4315 Q1698.62 32.4315 1694.86 35.9558 Q1691.13 39.4801 1690.56 45.8805 L1717.14 45.84 Z\" fill=\"#000000\" fill-rule=\"evenodd\" fill-opacity=\"1\" /><path clip-path=\"url(#clip8100)\" d=\"M 0 0 M1762.26 34.0924 L1762.26 9.54393 L1769.72 9.54393 L1769.72 72.576 L1762.26 72.576 L1762.26 65.7705 Q1759.91 69.8214 1756.31 71.8063 Q1752.74 73.7508 1747.72 73.7508 Q1739.5 73.7508 1734.31 67.1883 Q1729.17 60.6258 1729.17 49.9314 Q1729.17 39.2371 1734.31 32.6746 Q1739.5 26.1121 1747.72 26.1121 Q1752.74 26.1121 1756.31 28.0971 Q1759.91 30.0415 1762.26 34.0924 M1736.86 49.9314 Q1736.86 58.1548 1740.23 62.8538 Q1743.63 67.5124 1749.54 67.5124 Q1755.46 67.5124 1758.86 62.8538 Q1762.26 58.1548 1762.26 49.9314 Q1762.26 41.7081 1758.86 37.0496 Q1755.46 32.3505 1749.54 32.3505 Q1743.63 32.3505 1740.23 37.0496 Q1736.86 41.7081 1736.86 49.9314 Z\" fill=\"#000000\" fill-rule=\"evenodd\" fill-opacity=\"1\" /><path clip-path=\"url(#clip8100)\" d=\"M 0 0 M1777.54 27.2059 L1784.99 27.2059 L1784.99 72.576 L1777.54 72.576 L1777.54 27.2059 M1777.54 9.54393 L1784.99 9.54393 L1784.99 18.9825 L1777.54 18.9825 L1777.54 9.54393 Z\" fill=\"#000000\" fill-rule=\"evenodd\" fill-opacity=\"1\" /><path clip-path=\"url(#clip8100)\" d=\"M 0 0 M1825.46 28.9478 L1825.46 35.9153 Q1822.3 34.1734 1819.1 33.3227 Q1815.94 32.4315 1812.7 32.4315 Q1805.45 32.4315 1801.44 37.0496 Q1797.43 41.6271 1797.43 49.9314 Q1797.43 58.2358 1801.44 62.8538 Q1805.45 67.4314 1812.7 67.4314 Q1815.94 67.4314 1819.1 66.5807 Q1822.3 65.6895 1825.46 63.9476 L1825.46 70.8341 Q1822.34 72.2924 1818.98 73.0216 Q1815.65 73.7508 1811.89 73.7508 Q1801.64 73.7508 1795.6 67.3098 Q1789.57 60.8689 1789.57 49.9314 Q1789.57 38.832 1795.64 32.472 Q1801.76 26.1121 1812.37 26.1121 Q1815.82 26.1121 1819.1 26.8413 Q1822.38 27.5299 1825.46 28.9478 Z\" fill=\"#000000\" fill-rule=\"evenodd\" fill-opacity=\"1\" /><path clip-path=\"url(#clip8100)\" d=\"M 0 0 M1840.65 14.324 L1840.65 27.2059 L1856 27.2059 L1856 32.9987 L1840.65 32.9987 L1840.65 57.6282 Q1840.65 63.1779 1842.15 64.7578 Q1843.69 66.3376 1848.35 66.3376 L1856 66.3376 L1856 72.576 L1848.35 72.576 Q1839.72 72.576 1836.44 69.3758 Q1833.15 66.1351 1833.15 57.6282 L1833.15 32.9987 L1827.69 32.9987 L1827.69 27.2059 L1833.15 27.2059 L1833.15 14.324 L1840.65 14.324 Z\" fill=\"#000000\" fill-rule=\"evenodd\" fill-opacity=\"1\" /><path clip-path=\"url(#clip8104)\" d=\"\n",
       "M1348.33 686.448 L1348.33 686.448 L1355.98 686.448 L1363.62 686.448 L1371.27 686.448 L1378.91 686.448 L1386.56 686.448 L1394.2 686.448 L1401.84 686.448 L1409.49 686.448 \n",
       "  L1417.13 686.448 L1424.78 686.448 L1432.42 686.448 L1440.06 686.448 L1447.71 686.448 L1455.35 686.448 L1463 686.448 L1470.64 686.448 L1478.29 686.448 L1485.93 686.448 \n",
       "  L1493.57 686.448 L1501.22 686.448 L1508.86 686.448 L1516.51 686.448 L1524.15 686.448 L1531.8 686.448 L1539.44 686.448 L1547.08 686.448 L1554.73 686.448 L1562.37 686.448 \n",
       "  L1570.02 686.448 L1577.66 686.448 L1585.31 686.448 L1592.95 686.448 L1600.59 686.448 L1608.24 686.448 L1615.88 686.448 L1623.53 686.448 L1631.17 686.448 L1638.81 686.448 \n",
       "  L1646.46 686.448 L1654.1 686.448 L1661.75 686.448 L1669.39 686.448 L1677.04 686.448 L1684.68 686.448 L1692.32 686.448 L1699.97 686.448 L1707.61 686.448 L1715.26 686.448 \n",
       "  L1722.9 686.448 L1730.55 686.448 L1738.19 686.448 L1745.83 686.448 L1753.48 686.448 L1761.12 686.448 L1768.77 686.448 L1776.41 686.448 L1784.05 686.448 L1791.7 686.448 \n",
       "  L1799.34 686.448 L1806.99 686.448 L1814.63 686.448 L1822.28 686.448 L1829.92 686.448 L1837.56 686.448 L1845.21 686.448 L1852.85 686.448 L1860.5 686.448 L1868.14 686.448 \n",
       "  L1875.79 686.448 L1883.43 686.448 L1891.07 686.448 L1898.72 686.448 L1906.36 686.448 L1914.01 686.448 L1921.65 686.448 L1929.29 686.448 L1936.94 686.448 L1944.58 686.448 \n",
       "  L1952.23 686.448 L1959.87 686.448 L1967.52 686.448 L1975.16 686.448 L1982.8 686.448 L1990.45 686.448 L1998.09 686.448 L2005.74 686.448 L2013.38 686.448 L2021.03 686.448 \n",
       "  L2028.67 686.448 L2036.31 686.448 L2043.96 686.448 L2051.6 686.448 L2059.25 686.448 L2066.89 686.448 L2074.53 686.448 L2082.18 686.448 L2089.82 686.448 L2097.47 686.448 \n",
       "  L2105.11 686.448 L2112.76 686.448 L2112.76 686.448 L2112.76 686.448 L2112.76 686.448 L2112.76 680.818 L2112.76 675.188 L2112.76 669.559 L2112.76 663.929 L2112.76 658.299 \n",
       "  L2112.76 652.669 L2112.76 647.04 L2112.76 641.41 L2112.76 635.78 L2112.76 630.15 L2112.76 624.521 L2112.76 618.891 L2112.76 613.261 L2112.76 607.631 L2112.76 602.002 \n",
       "  L2112.76 596.372 L2112.76 590.742 L2112.76 585.112 L2112.76 579.482 L2112.76 573.853 L2112.76 568.223 L2112.76 562.593 L2112.76 556.963 L2112.76 551.334 L2112.76 545.704 \n",
       "  L2112.76 540.074 L2112.76 534.444 L2112.76 528.815 L2112.76 523.185 L2112.76 517.555 L2112.76 511.925 L2112.76 506.296 L2112.76 500.666 L2112.76 495.036 L2112.76 489.406 \n",
       "  L2112.76 483.777 L2112.76 478.147 L2112.76 472.517 L2112.76 466.887 L2112.76 461.258 L2112.76 455.628 L2112.76 449.998 L2112.76 444.368 L2112.76 438.739 L2112.76 433.109 \n",
       "  L2112.76 427.479 L2112.76 421.849 L2112.76 416.22 L2112.76 410.59 L2112.76 404.96 L2112.76 399.33 L2112.76 393.7 L2112.76 388.071 L2112.76 382.441 L2112.76 376.811 \n",
       "  L2112.76 371.181 L2112.76 365.552 L2112.76 359.922 L2112.76 354.292 L2112.76 348.662 L2112.76 343.033 L2112.76 337.403 L2112.76 331.773 L2112.76 326.143 L2112.76 320.514 \n",
       "  L2112.76 314.884 L2112.76 309.254 L2112.76 303.624 L2112.76 297.995 L2112.76 292.365 L2112.76 286.735 L2112.76 281.105 L2112.76 275.476 L2112.76 269.846 L2112.76 264.216 \n",
       "  L2112.76 258.586 L2112.76 252.957 L2112.76 247.327 L2112.76 241.697 L2112.76 236.067 L2112.76 230.438 L2112.76 224.808 L2112.76 219.178 L2112.76 213.548 L2112.76 207.918 \n",
       "  L2112.76 202.289 L2112.76 196.659 L2112.76 191.029 L2112.76 185.399 L2112.76 179.77 L2112.76 174.14 L2112.76 168.51 L2112.76 162.88 L2112.76 157.251 L2112.76 151.621 \n",
       "  L2112.76 145.991 L2112.76 140.361 L2112.76 134.732 L2112.76 129.102 L2112.76 123.472 L2112.76 123.472 L2112.76 123.472 L2112.76 123.472 L2105.11 123.472 L2097.47 123.472 \n",
       "  L2089.82 123.472 L2082.18 123.472 L2074.53 123.472 L2066.89 123.472 L2059.25 123.472 L2051.6 123.472 L2043.96 123.472 L2036.31 123.472 L2028.67 123.472 L2021.03 123.472 \n",
       "  L2013.38 123.472 L2005.74 123.472 L1998.09 123.472 L1990.45 123.472 L1982.8 123.472 L1975.16 123.472 L1967.52 123.472 L1959.87 123.472 L1952.23 123.472 L1944.58 123.472 \n",
       "  L1936.94 123.472 L1929.29 123.472 L1921.65 123.472 L1914.01 123.472 L1906.36 123.472 L1898.72 123.472 L1891.07 123.472 L1883.43 123.472 L1875.79 123.472 L1868.14 123.472 \n",
       "  L1860.5 123.472 L1852.85 123.472 L1845.21 123.472 L1837.56 123.472 L1829.92 123.472 L1822.28 123.472 L1814.63 123.472 L1806.99 123.472 L1799.34 123.472 L1791.7 123.472 \n",
       "  L1784.05 123.472 L1776.41 123.472 L1768.77 123.472 L1761.12 123.472 L1753.48 123.472 L1745.83 123.472 L1738.19 123.472 L1730.55 123.472 L1722.9 123.472 L1715.26 123.472 \n",
       "  L1707.61 123.472 L1699.97 123.472 L1692.32 123.472 L1684.68 123.472 L1677.04 123.472 L1669.39 123.472 L1661.75 123.472 L1654.1 123.472 L1646.46 123.472 L1638.81 123.472 \n",
       "  L1631.17 123.472 L1623.53 123.472 L1615.88 123.472 L1608.24 123.472 L1600.59 123.472 L1592.95 123.472 L1585.31 123.472 L1577.66 123.472 L1570.02 123.472 L1562.37 123.472 \n",
       "  L1554.73 123.472 L1547.08 123.472 L1539.44 123.472 L1531.8 123.472 L1524.15 123.472 L1516.51 123.472 L1508.86 123.472 L1501.22 123.472 L1493.57 123.472 L1485.93 123.472 \n",
       "  L1478.29 123.472 L1470.64 123.472 L1463 123.472 L1455.35 123.472 L1447.71 123.472 L1440.06 123.472 L1432.42 123.472 L1424.78 123.472 L1417.13 123.472 L1409.49 123.472 \n",
       "  L1401.84 123.472 L1394.2 123.472 L1386.56 123.472 L1378.91 123.472 L1371.27 123.472 L1363.62 123.472 L1355.98 123.472 L1348.33 123.472 L1348.33 123.472 L1348.33 123.472 \n",
       "  L1348.33 123.472 L1348.33 129.102 L1348.33 134.732 L1348.33 140.361 L1348.33 145.991 L1348.33 151.621 L1348.33 157.251 L1348.33 162.88 L1348.33 168.51 L1348.33 174.14 \n",
       "  L1348.33 179.77 L1348.33 185.399 L1348.33 191.029 L1348.33 196.659 L1348.33 202.289 L1348.33 207.918 L1348.33 213.548 L1348.33 219.178 L1348.33 224.808 L1348.33 230.438 \n",
       "  L1348.33 236.067 L1348.33 241.697 L1348.33 247.327 L1348.33 252.957 L1348.33 258.586 L1348.33 264.216 L1348.33 269.846 L1348.33 275.476 L1348.33 281.105 L1348.33 286.735 \n",
       "  L1348.33 292.365 L1348.33 297.995 L1348.33 303.624 L1348.33 309.254 L1348.33 314.884 L1348.33 320.514 L1348.33 326.143 L1348.33 331.773 L1348.33 337.403 L1348.33 343.033 \n",
       "  L1348.33 348.662 L1348.33 354.292 L1348.33 359.922 L1348.33 365.552 L1348.33 371.181 L1348.33 376.811 L1348.33 382.441 L1348.33 388.071 L1348.33 393.7 L1348.33 399.33 \n",
       "  L1348.33 404.96 L1348.33 410.59 L1348.33 416.22 L1348.33 421.849 L1348.33 427.479 L1348.33 433.109 L1348.33 438.739 L1348.33 444.368 L1348.33 449.998 L1348.33 455.628 \n",
       "  L1348.33 461.258 L1348.33 466.887 L1348.33 472.517 L1348.33 478.147 L1348.33 483.777 L1348.33 489.406 L1348.33 495.036 L1348.33 500.666 L1348.33 506.296 L1348.33 511.925 \n",
       "  L1348.33 517.555 L1348.33 523.185 L1348.33 528.815 L1348.33 534.444 L1348.33 540.074 L1348.33 545.704 L1348.33 551.334 L1348.33 556.963 L1348.33 562.593 L1348.33 568.223 \n",
       "  L1348.33 573.853 L1348.33 579.482 L1348.33 585.112 L1348.33 590.742 L1348.33 596.372 L1348.33 602.002 L1348.33 607.631 L1348.33 613.261 L1348.33 618.891 L1348.33 624.521 \n",
       "  L1348.33 630.15 L1348.33 635.78 L1348.33 641.41 L1348.33 647.04 L1348.33 652.669 L1348.33 658.299 L1348.33 663.929 L1348.33 669.559 L1348.33 675.188 L1348.33 680.818 \n",
       "  L1348.33 686.448 L1348.33 686.448 L1348.33 686.448  Z\n",
       "  \" fill=\"#000003\" fill-rule=\"evenodd\" fill-opacity=\"1\"/>\n",
       "<path clip-path=\"url(#clip8104)\" d=\"\n",
       "M1348.33 686.448 L1348.33 686.448 L1355.98 686.448 L1363.62 686.448 L1371.27 686.448 L1378.91 686.448 L1386.56 686.448 L1394.2 686.448 L1401.84 686.448 L1409.49 686.448 \n",
       "  L1417.13 686.448 L1424.78 686.448 L1432.42 686.448 L1440.06 686.448 L1447.71 686.448 L1455.35 686.448 L1463 686.448 L1470.64 686.448 L1478.29 686.448 L1485.93 686.448 \n",
       "  L1493.57 686.448 L1501.22 686.448 L1508.86 686.448 L1516.51 686.448 L1524.15 686.448 L1531.8 686.448 L1539.44 686.448 L1547.08 686.448 L1554.73 686.448 L1562.37 686.448 \n",
       "  L1570.02 686.448 L1577.66 686.448 L1585.31 686.448 L1592.95 686.448 L1600.59 686.448 L1608.24 686.448 L1615.88 686.448 L1623.53 686.448 L1631.17 686.448 L1638.81 686.448 \n",
       "  L1646.46 686.448 L1654.1 686.448 L1661.75 686.448 L1669.39 686.448 L1677.04 686.448 L1684.68 686.448 L1692.32 686.448 L1699.97 686.448 L1707.61 686.448 L1715.26 686.448 \n",
       "  L1722.9 686.448 L1730.55 686.448 L1738.19 686.448 L1745.83 686.448 L1753.48 686.448 L1761.12 686.448 L1768.77 686.448 L1776.41 686.448 L1784.05 686.448 L1791.7 686.448 \n",
       "  L1799.34 686.448 L1806.99 686.448 L1814.63 686.448 L1822.28 686.448 L1829.92 686.448 L1837.56 686.448 L1845.21 686.448 L1852.85 686.448 L1860.5 686.448 L1868.14 686.448 \n",
       "  L1875.79 686.448 L1883.43 686.448 L1891.07 686.448 L1898.72 686.448 L1906.36 686.448 L1914.01 686.448 L1921.65 686.448 L1929.29 686.448 L1936.94 686.448 L1944.58 686.448 \n",
       "  L1952.23 686.448 L1959.87 686.448 L1967.52 686.448 L1975.16 686.448 L1982.8 686.448 L1990.45 686.448 L1998.09 686.448 L2005.74 686.448 L2013.38 686.448 L2021.03 686.448 \n",
       "  L2028.67 686.448 L2036.31 686.448 L2043.96 686.448 L2051.6 686.448 L2059.25 686.448 L2066.89 686.448 L2074.53 686.448 L2082.18 686.448 L2089.82 686.448 L2097.47 686.448 \n",
       "  L2105.11 686.448 L2112.76 686.448 L2112.76 686.448 L2112.76 686.448 L2112.76 686.448 L2112.76 680.818 L2112.76 675.188 L2112.76 669.559 L2112.76 663.929 L2112.76 658.299 \n",
       "  L2112.76 652.669 L2112.76 647.04 L2112.76 641.41 L2112.76 635.78 L2112.76 630.15 L2112.76 624.521 L2112.76 618.891 L2112.76 613.261 L2112.76 607.631 L2112.76 602.002 \n",
       "  L2112.76 596.372 L2112.76 590.742 L2112.76 585.112 L2112.76 579.482 L2112.76 573.853 L2112.76 568.223 L2112.76 562.593 L2112.76 556.963 L2112.76 551.334 L2112.76 545.704 \n",
       "  L2112.76 540.074 L2112.76 534.444 L2112.76 528.815 L2112.76 523.185 L2112.76 517.555 L2112.76 511.925 L2112.76 506.296 L2112.76 500.666 L2112.76 495.036 L2112.76 489.406 \n",
       "  L2112.76 483.777 L2112.76 478.147 L2112.76 472.517 L2112.76 466.887 L2112.76 461.258 L2112.76 455.628 L2112.76 449.998 L2112.76 444.368 L2112.76 438.739 L2112.76 433.109 \n",
       "  L2112.76 427.479 L2112.76 421.849 L2112.76 416.22 L2112.76 410.59 L2112.76 404.96 L2112.76 399.33 L2112.76 393.7 L2112.76 388.071 L2112.76 382.441 L2112.76 376.811 \n",
       "  L2112.76 371.181 L2112.76 365.552 L2112.76 359.922 L2112.76 354.292 L2112.76 348.662 L2112.76 343.033 L2112.76 337.403 L2112.76 331.773 L2112.76 326.143 L2112.76 320.514 \n",
       "  L2112.76 314.884 L2112.76 309.254 L2112.76 303.624 L2112.76 297.995 L2112.76 292.365 L2112.76 286.735 L2112.76 281.105 L2112.76 275.476 L2112.76 269.846 L2112.76 264.216 \n",
       "  L2112.76 258.586 L2112.76 252.957 L2112.76 247.327 L2112.76 241.697 L2112.76 236.067 L2112.76 230.438 L2112.76 224.808 L2112.76 219.178 L2112.76 213.548 L2112.76 207.918 \n",
       "  L2112.76 202.289 L2112.76 196.659 L2112.76 191.029 L2112.76 185.399 L2112.76 179.77 L2112.76 174.14 L2112.76 168.51 L2112.76 168.51 L2112.76 166.143 L2110.54 162.88 \n",
       "  L2106.6 157.251 L2105.11 155.164 L2102.49 151.621 L2098.21 145.991 L2097.47 145.039 L2093.71 140.361 L2089.82 135.678 L2089.01 134.732 L2084.07 129.102 L2082.18 127.004 \n",
       "  L2078.87 123.472 L2074.53 123.472 L2074.53 123.472 L2066.89 123.472 L2059.25 123.472 L2051.6 123.472 L2043.96 123.472 L2036.31 123.472 L2028.67 123.472 L2021.03 123.472 \n",
       "  L2013.38 123.472 L2005.74 123.472 L1998.09 123.472 L1990.45 123.472 L1982.8 123.472 L1975.16 123.472 L1967.52 123.472 L1959.87 123.472 L1952.23 123.472 L1944.58 123.472 \n",
       "  L1936.94 123.472 L1929.29 123.472 L1921.65 123.472 L1914.01 123.472 L1906.36 123.472 L1898.72 123.472 L1891.07 123.472 L1883.43 123.472 L1875.79 123.472 L1868.14 123.472 \n",
       "  L1860.5 123.472 L1852.85 123.472 L1845.21 123.472 L1837.56 123.472 L1829.92 123.472 L1822.28 123.472 L1814.63 123.472 L1806.99 123.472 L1799.34 123.472 L1791.7 123.472 \n",
       "  L1784.05 123.472 L1776.41 123.472 L1768.77 123.472 L1761.12 123.472 L1753.48 123.472 L1745.83 123.472 L1738.19 123.472 L1730.55 123.472 L1722.9 123.472 L1715.26 123.472 \n",
       "  L1707.61 123.472 L1699.97 123.472 L1692.32 123.472 L1684.68 123.472 L1677.04 123.472 L1669.39 123.472 L1661.75 123.472 L1654.1 123.472 L1646.46 123.472 L1638.81 123.472 \n",
       "  L1631.17 123.472 L1623.53 123.472 L1615.88 123.472 L1608.24 123.472 L1600.59 123.472 L1592.95 123.472 L1585.31 123.472 L1577.66 123.472 L1570.02 123.472 L1562.37 123.472 \n",
       "  L1554.73 123.472 L1547.08 123.472 L1539.44 123.472 L1531.8 123.472 L1524.15 123.472 L1516.51 123.472 L1508.86 123.472 L1501.22 123.472 L1493.57 123.472 L1485.93 123.472 \n",
       "  L1478.29 123.472 L1470.64 123.472 L1463 123.472 L1455.35 123.472 L1447.71 123.472 L1440.06 123.472 L1432.42 123.472 L1424.78 123.472 L1417.13 123.472 L1409.49 123.472 \n",
       "  L1401.84 123.472 L1394.2 123.472 L1386.56 123.472 L1378.91 123.472 L1371.27 123.472 L1363.62 123.472 L1355.98 123.472 L1348.33 123.472 L1348.33 123.472 L1348.33 123.472 \n",
       "  L1348.33 123.472 L1348.33 129.102 L1348.33 134.732 L1348.33 140.361 L1348.33 145.991 L1348.33 151.621 L1348.33 157.251 L1348.33 162.88 L1348.33 168.51 L1348.33 174.14 \n",
       "  L1348.33 179.77 L1348.33 185.399 L1348.33 191.029 L1348.33 196.659 L1348.33 202.289 L1348.33 207.918 L1348.33 213.548 L1348.33 219.178 L1348.33 224.808 L1348.33 230.438 \n",
       "  L1348.33 236.067 L1348.33 241.697 L1348.33 247.327 L1348.33 252.957 L1348.33 258.586 L1348.33 264.216 L1348.33 269.846 L1348.33 275.476 L1348.33 281.105 L1348.33 286.735 \n",
       "  L1348.33 292.365 L1348.33 297.995 L1348.33 303.624 L1348.33 309.254 L1348.33 314.884 L1348.33 320.514 L1348.33 326.143 L1348.33 331.773 L1348.33 337.403 L1348.33 343.033 \n",
       "  L1348.33 348.662 L1348.33 354.292 L1348.33 359.922 L1348.33 365.552 L1348.33 371.181 L1348.33 376.811 L1348.33 382.441 L1348.33 388.071 L1348.33 393.7 L1348.33 399.33 \n",
       "  L1348.33 404.96 L1348.33 410.59 L1348.33 416.22 L1348.33 421.849 L1348.33 427.479 L1348.33 433.109 L1348.33 438.739 L1348.33 444.368 L1348.33 449.998 L1348.33 455.628 \n",
       "  L1348.33 461.258 L1348.33 466.887 L1348.33 472.517 L1348.33 478.147 L1348.33 483.777 L1348.33 489.406 L1348.33 495.036 L1348.33 500.666 L1348.33 506.296 L1348.33 511.925 \n",
       "  L1348.33 517.555 L1348.33 523.185 L1348.33 528.815 L1348.33 534.444 L1348.33 540.074 L1348.33 545.704 L1348.33 551.334 L1348.33 556.963 L1348.33 562.593 L1348.33 568.223 \n",
       "  L1348.33 573.853 L1348.33 579.482 L1348.33 585.112 L1348.33 590.742 L1348.33 596.372 L1348.33 602.002 L1348.33 607.631 L1348.33 613.261 L1348.33 618.891 L1348.33 624.521 \n",
       "  L1348.33 630.15 L1348.33 635.78 L1348.33 641.41 L1348.33 647.04 L1348.33 652.669 L1348.33 658.299 L1348.33 663.929 L1348.33 669.559 L1348.33 675.188 L1348.33 680.818 \n",
       "  L1348.33 686.448 L1348.33 686.448 L1348.33 686.448  Z\n",
       "  \" fill=\"#0c0727\" fill-rule=\"evenodd\" fill-opacity=\"1\"/>\n",
       "<path clip-path=\"url(#clip8104)\" d=\"\n",
       "M1348.33 686.448 L1348.33 686.448 L1355.98 686.448 L1363.62 686.448 L1371.27 686.448 L1378.91 686.448 L1386.56 686.448 L1394.2 686.448 L1401.84 686.448 L1409.49 686.448 \n",
       "  L1417.13 686.448 L1424.78 686.448 L1432.42 686.448 L1440.06 686.448 L1447.71 686.448 L1455.35 686.448 L1463 686.448 L1470.64 686.448 L1478.29 686.448 L1485.93 686.448 \n",
       "  L1493.57 686.448 L1501.22 686.448 L1508.86 686.448 L1516.51 686.448 L1524.15 686.448 L1531.8 686.448 L1539.44 686.448 L1547.08 686.448 L1554.73 686.448 L1562.37 686.448 \n",
       "  L1570.02 686.448 L1577.66 686.448 L1585.31 686.448 L1592.95 686.448 L1600.59 686.448 L1608.24 686.448 L1615.88 686.448 L1623.53 686.448 L1631.17 686.448 L1638.81 686.448 \n",
       "  L1646.46 686.448 L1654.1 686.448 L1661.75 686.448 L1669.39 686.448 L1677.04 686.448 L1684.68 686.448 L1692.32 686.448 L1699.97 686.448 L1707.61 686.448 L1715.26 686.448 \n",
       "  L1722.9 686.448 L1730.55 686.448 L1738.19 686.448 L1745.83 686.448 L1753.48 686.448 L1761.12 686.448 L1768.77 686.448 L1776.41 686.448 L1784.05 686.448 L1791.7 686.448 \n",
       "  L1799.34 686.448 L1806.99 686.448 L1814.63 686.448 L1822.28 686.448 L1829.92 686.448 L1837.56 686.448 L1845.21 686.448 L1852.85 686.448 L1860.5 686.448 L1868.14 686.448 \n",
       "  L1875.79 686.448 L1883.43 686.448 L1891.07 686.448 L1898.72 686.448 L1906.36 686.448 L1914.01 686.448 L1921.65 686.448 L1929.29 686.448 L1936.94 686.448 L1944.58 686.448 \n",
       "  L1952.23 686.448 L1959.87 686.448 L1967.52 686.448 L1975.16 686.448 L1982.8 686.448 L1990.45 686.448 L1998.09 686.448 L2005.74 686.448 L2013.38 686.448 L2021.03 686.448 \n",
       "  L2028.67 686.448 L2036.31 686.448 L2043.96 686.448 L2051.6 686.448 L2059.25 686.448 L2066.89 686.448 L2074.53 686.448 L2082.18 686.448 L2089.82 686.448 L2097.47 686.448 \n",
       "  L2105.11 686.448 L2112.76 686.448 L2112.76 686.448 L2112.76 686.448 L2112.76 686.448 L2112.76 680.818 L2112.76 675.188 L2112.76 669.559 L2112.76 663.929 L2112.76 658.299 \n",
       "  L2112.76 652.669 L2112.76 647.04 L2112.76 641.41 L2112.76 635.78 L2112.76 630.15 L2112.76 624.521 L2112.76 618.891 L2112.76 613.261 L2112.76 607.631 L2112.76 602.002 \n",
       "  L2112.76 596.372 L2112.76 590.742 L2112.76 585.112 L2112.76 579.482 L2112.76 573.853 L2112.76 568.223 L2112.76 562.593 L2112.76 556.963 L2112.76 551.334 L2112.76 545.704 \n",
       "  L2112.76 540.074 L2112.76 534.444 L2112.76 528.815 L2112.76 523.185 L2112.76 517.555 L2112.76 511.925 L2112.76 506.296 L2112.76 500.666 L2112.76 495.036 L2112.76 489.406 \n",
       "  L2112.76 483.777 L2112.76 478.147 L2112.76 472.517 L2112.76 466.887 L2112.76 461.258 L2112.76 455.628 L2112.76 449.998 L2112.76 444.368 L2112.76 438.739 L2112.76 433.109 \n",
       "  L2112.76 427.479 L2112.76 421.849 L2112.76 416.22 L2112.76 410.59 L2112.76 404.96 L2112.76 399.33 L2112.76 393.7 L2112.76 388.071 L2112.76 382.441 L2112.76 376.811 \n",
       "  L2112.76 371.181 L2112.76 365.552 L2112.76 359.922 L2112.76 354.292 L2112.76 348.662 L2112.76 343.033 L2112.76 337.403 L2112.76 331.773 L2112.76 326.143 L2112.76 320.514 \n",
       "  L2112.76 314.884 L2112.76 309.254 L2112.76 303.624 L2112.76 297.995 L2112.76 292.365 L2112.76 286.735 L2112.76 281.105 L2112.76 275.476 L2112.76 269.846 L2112.76 264.216 \n",
       "  L2112.76 258.586 L2112.76 252.957 L2112.76 247.327 L2112.76 241.697 L2112.76 236.067 L2112.76 230.438 L2112.76 224.808 L2112.76 219.178 L2112.76 213.548 L2112.76 213.548 \n",
       "  L2112.76 207.948 L2112.74 207.918 L2109.31 202.289 L2105.76 196.659 L2105.11 195.64 L2102.07 191.029 L2098.23 185.399 L2097.47 184.297 L2094.22 179.77 L2090.06 174.14 \n",
       "  L2089.82 173.826 L2085.68 168.51 L2082.18 164.141 L2081.13 162.88 L2076.35 157.251 L2074.53 155.167 L2071.33 151.621 L2066.89 146.836 L2066.07 145.991 L2060.53 140.361 \n",
       "  L2059.25 139.087 L2054.68 134.732 L2051.6 131.868 L2048.5 129.102 L2043.96 125.134 L2041.97 123.472 L2036.31 123.472 L2036.31 123.472 L2028.67 123.472 L2021.03 123.472 \n",
       "  L2013.38 123.472 L2005.74 123.472 L1998.09 123.472 L1990.45 123.472 L1982.8 123.472 L1975.16 123.472 L1967.52 123.472 L1959.87 123.472 L1952.23 123.472 L1944.58 123.472 \n",
       "  L1936.94 123.472 L1929.29 123.472 L1921.65 123.472 L1914.01 123.472 L1906.36 123.472 L1898.72 123.472 L1891.07 123.472 L1883.43 123.472 L1875.79 123.472 L1868.14 123.472 \n",
       "  L1860.5 123.472 L1852.85 123.472 L1845.21 123.472 L1837.56 123.472 L1829.92 123.472 L1822.28 123.472 L1814.63 123.472 L1806.99 123.472 L1799.34 123.472 L1791.7 123.472 \n",
       "  L1784.05 123.472 L1776.41 123.472 L1768.77 123.472 L1761.12 123.472 L1753.48 123.472 L1745.83 123.472 L1738.19 123.472 L1730.55 123.472 L1722.9 123.472 L1715.26 123.472 \n",
       "  L1707.61 123.472 L1699.97 123.472 L1692.32 123.472 L1684.68 123.472 L1677.04 123.472 L1669.39 123.472 L1661.75 123.472 L1654.1 123.472 L1646.46 123.472 L1638.81 123.472 \n",
       "  L1631.17 123.472 L1623.53 123.472 L1615.88 123.472 L1608.24 123.472 L1600.59 123.472 L1592.95 123.472 L1585.31 123.472 L1577.66 123.472 L1570.02 123.472 L1562.37 123.472 \n",
       "  L1554.73 123.472 L1547.08 123.472 L1539.44 123.472 L1531.8 123.472 L1524.15 123.472 L1516.51 123.472 L1508.86 123.472 L1501.22 123.472 L1493.57 123.472 L1485.93 123.472 \n",
       "  L1478.29 123.472 L1470.64 123.472 L1463 123.472 L1455.35 123.472 L1447.71 123.472 L1440.06 123.472 L1432.42 123.472 L1424.78 123.472 L1417.13 123.472 L1409.49 123.472 \n",
       "  L1401.84 123.472 L1394.2 123.472 L1386.56 123.472 L1378.91 123.472 L1371.27 123.472 L1363.62 123.472 L1355.98 123.472 L1348.33 123.472 L1348.33 123.472 L1348.33 123.472 \n",
       "  L1348.33 123.472 L1348.33 129.102 L1348.33 134.732 L1348.33 140.361 L1348.33 145.991 L1348.33 151.621 L1348.33 157.251 L1348.33 162.88 L1348.33 168.51 L1348.33 174.14 \n",
       "  L1348.33 179.77 L1348.33 185.399 L1348.33 191.029 L1348.33 196.659 L1348.33 202.289 L1348.33 207.918 L1348.33 213.548 L1348.33 219.178 L1348.33 224.808 L1348.33 230.438 \n",
       "  L1348.33 236.067 L1348.33 241.697 L1348.33 247.327 L1348.33 252.957 L1348.33 258.586 L1348.33 264.216 L1348.33 269.846 L1348.33 275.476 L1348.33 281.105 L1348.33 286.735 \n",
       "  L1348.33 292.365 L1348.33 297.995 L1348.33 303.624 L1348.33 309.254 L1348.33 314.884 L1348.33 320.514 L1348.33 326.143 L1348.33 331.773 L1348.33 337.403 L1348.33 343.033 \n",
       "  L1348.33 348.662 L1348.33 354.292 L1348.33 359.922 L1348.33 365.552 L1348.33 371.181 L1348.33 376.811 L1348.33 382.441 L1348.33 388.071 L1348.33 393.7 L1348.33 399.33 \n",
       "  L1348.33 404.96 L1348.33 410.59 L1348.33 416.22 L1348.33 421.849 L1348.33 427.479 L1348.33 433.109 L1348.33 438.739 L1348.33 444.368 L1348.33 449.998 L1348.33 455.628 \n",
       "  L1348.33 461.258 L1348.33 466.887 L1348.33 472.517 L1348.33 478.147 L1348.33 483.777 L1348.33 489.406 L1348.33 495.036 L1348.33 500.666 L1348.33 506.296 L1348.33 511.925 \n",
       "  L1348.33 517.555 L1348.33 523.185 L1348.33 528.815 L1348.33 534.444 L1348.33 540.074 L1348.33 545.704 L1348.33 551.334 L1348.33 556.963 L1348.33 562.593 L1348.33 568.223 \n",
       "  L1348.33 573.853 L1348.33 579.482 L1348.33 585.112 L1348.33 590.742 L1348.33 596.372 L1348.33 602.002 L1348.33 607.631 L1348.33 613.261 L1348.33 618.891 L1348.33 624.521 \n",
       "  L1348.33 630.15 L1348.33 635.78 L1348.33 641.41 L1348.33 647.04 L1348.33 652.669 L1348.33 658.299 L1348.33 663.929 L1348.33 669.559 L1348.33 675.188 L1348.33 680.818 \n",
       "  L1348.33 686.448 L1348.33 686.448 L1348.33 686.448  Z\n",
       "  \" fill=\"#240b4e\" fill-rule=\"evenodd\" fill-opacity=\"1\"/>\n",
       "<path clip-path=\"url(#clip8104)\" d=\"\n",
       "M1348.33 686.448 L1348.33 686.448 L1355.98 686.448 L1363.62 686.448 L1371.27 686.448 L1378.91 686.448 L1386.56 686.448 L1394.2 686.448 L1401.84 686.448 L1409.49 686.448 \n",
       "  L1417.13 686.448 L1424.78 686.448 L1432.42 686.448 L1440.06 686.448 L1447.71 686.448 L1455.35 686.448 L1463 686.448 L1470.64 686.448 L1478.29 686.448 L1485.93 686.448 \n",
       "  L1493.57 686.448 L1501.22 686.448 L1508.86 686.448 L1516.51 686.448 L1524.15 686.448 L1531.8 686.448 L1539.44 686.448 L1547.08 686.448 L1554.73 686.448 L1562.37 686.448 \n",
       "  L1570.02 686.448 L1577.66 686.448 L1585.31 686.448 L1592.95 686.448 L1600.59 686.448 L1608.24 686.448 L1615.88 686.448 L1623.53 686.448 L1631.17 686.448 L1638.81 686.448 \n",
       "  L1646.46 686.448 L1654.1 686.448 L1661.75 686.448 L1669.39 686.448 L1677.04 686.448 L1684.68 686.448 L1692.32 686.448 L1699.97 686.448 L1707.61 686.448 L1715.26 686.448 \n",
       "  L1722.9 686.448 L1730.55 686.448 L1738.19 686.448 L1745.83 686.448 L1753.48 686.448 L1761.12 686.448 L1768.77 686.448 L1776.41 686.448 L1784.05 686.448 L1791.7 686.448 \n",
       "  L1799.34 686.448 L1806.99 686.448 L1814.63 686.448 L1822.28 686.448 L1829.92 686.448 L1837.56 686.448 L1845.21 686.448 L1852.85 686.448 L1860.5 686.448 L1868.14 686.448 \n",
       "  L1875.79 686.448 L1883.43 686.448 L1891.07 686.448 L1898.72 686.448 L1906.36 686.448 L1914.01 686.448 L1921.65 686.448 L1929.29 686.448 L1936.94 686.448 L1944.58 686.448 \n",
       "  L1952.23 686.448 L1959.87 686.448 L1967.52 686.448 L1975.16 686.448 L1982.8 686.448 L1990.45 686.448 L1998.09 686.448 L2005.74 686.448 L2013.38 686.448 L2021.03 686.448 \n",
       "  L2028.67 686.448 L2036.31 686.448 L2043.96 686.448 L2051.6 686.448 L2059.25 686.448 L2066.89 686.448 L2074.53 686.448 L2082.18 686.448 L2089.82 686.448 L2097.47 686.448 \n",
       "  L2105.11 686.448 L2112.76 686.448 L2112.76 686.448 L2112.76 686.448 L2112.76 686.448 L2112.76 680.818 L2112.76 675.188 L2112.76 669.559 L2112.76 663.929 L2112.76 658.299 \n",
       "  L2112.76 652.669 L2112.76 647.04 L2112.76 641.41 L2112.76 635.78 L2112.76 630.15 L2112.76 624.521 L2112.76 618.891 L2112.76 613.261 L2112.76 607.631 L2112.76 602.002 \n",
       "  L2112.76 596.372 L2112.76 590.742 L2112.76 585.112 L2112.76 579.482 L2112.76 573.853 L2112.76 568.223 L2112.76 562.593 L2112.76 556.963 L2112.76 551.334 L2112.76 545.704 \n",
       "  L2112.76 540.074 L2112.76 534.444 L2112.76 528.815 L2112.76 523.185 L2112.76 517.555 L2112.76 511.925 L2112.76 506.296 L2112.76 500.666 L2112.76 495.036 L2112.76 489.406 \n",
       "  L2112.76 483.777 L2112.76 478.147 L2112.76 472.517 L2112.76 466.887 L2112.76 461.258 L2112.76 455.628 L2112.76 449.998 L2112.76 444.368 L2112.76 438.739 L2112.76 433.109 \n",
       "  L2112.76 427.479 L2112.76 421.849 L2112.76 416.22 L2112.76 410.59 L2112.76 404.96 L2112.76 399.33 L2112.76 393.7 L2112.76 388.071 L2112.76 382.441 L2112.76 376.811 \n",
       "  L2112.76 371.181 L2112.76 365.552 L2112.76 359.922 L2112.76 354.292 L2112.76 348.662 L2112.76 343.033 L2112.76 337.403 L2112.76 331.773 L2112.76 326.143 L2112.76 320.514 \n",
       "  L2112.76 314.884 L2112.76 309.254 L2112.76 303.624 L2112.76 297.995 L2112.76 292.365 L2112.76 286.735 L2112.76 281.105 L2112.76 275.476 L2112.76 269.846 L2112.76 264.216 \n",
       "  L2112.76 258.586 L2112.76 252.957 L2112.76 252.957 L2112.76 249.732 L2111.46 247.327 L2108.37 241.697 L2105.19 236.067 L2105.11 235.927 L2101.88 230.438 L2098.46 224.808 \n",
       "  L2097.47 223.214 L2094.89 219.178 L2091.2 213.548 L2089.82 211.494 L2087.35 207.918 L2083.35 202.289 L2082.18 200.675 L2079.17 196.659 L2074.82 191.029 L2074.53 190.671 \n",
       "  L2070.24 185.399 L2066.89 181.405 L2065.47 179.77 L2060.46 174.14 L2059.25 172.805 L2055.19 168.51 L2051.6 164.809 L2049.66 162.88 L2043.96 157.366 L2043.83 157.251 \n",
       "  L2037.66 151.621 L2036.31 150.421 L2031.13 145.991 L2028.67 143.937 L2024.2 140.361 L2021.03 137.877 L2016.82 134.732 L2013.38 132.207 L2008.94 129.102 L2005.74 126.9 \n",
       "  L2000.49 123.472 L1998.09 123.472 L1998.09 123.472 L1990.45 123.472 L1982.8 123.472 L1975.16 123.472 L1967.52 123.472 L1959.87 123.472 L1952.23 123.472 L1944.58 123.472 \n",
       "  L1936.94 123.472 L1929.29 123.472 L1921.65 123.472 L1914.01 123.472 L1906.36 123.472 L1898.72 123.472 L1891.07 123.472 L1883.43 123.472 L1875.79 123.472 L1868.14 123.472 \n",
       "  L1860.5 123.472 L1852.85 123.472 L1845.21 123.472 L1837.56 123.472 L1829.92 123.472 L1822.28 123.472 L1814.63 123.472 L1806.99 123.472 L1799.34 123.472 L1791.7 123.472 \n",
       "  L1784.05 123.472 L1776.41 123.472 L1768.77 123.472 L1761.12 123.472 L1753.48 123.472 L1745.83 123.472 L1738.19 123.472 L1730.55 123.472 L1722.9 123.472 L1715.26 123.472 \n",
       "  L1707.61 123.472 L1699.97 123.472 L1692.32 123.472 L1684.68 123.472 L1677.04 123.472 L1669.39 123.472 L1661.75 123.472 L1654.1 123.472 L1646.46 123.472 L1638.81 123.472 \n",
       "  L1631.17 123.472 L1623.53 123.472 L1615.88 123.472 L1608.24 123.472 L1600.59 123.472 L1592.95 123.472 L1585.31 123.472 L1577.66 123.472 L1570.02 123.472 L1562.37 123.472 \n",
       "  L1554.73 123.472 L1547.08 123.472 L1539.44 123.472 L1531.8 123.472 L1524.15 123.472 L1516.51 123.472 L1508.86 123.472 L1501.22 123.472 L1493.57 123.472 L1485.93 123.472 \n",
       "  L1478.29 123.472 L1470.64 123.472 L1472.31 123.472 L1470.64 123.812 L1463 125.319 L1455.35 126.784 L1447.71 128.205 L1442.7 129.102 L1440.06 129.583 L1432.42 130.919 \n",
       "  L1424.78 132.204 L1417.13 133.436 L1409.49 134.612 L1408.66 134.732 L1401.84 135.742 L1394.2 136.814 L1386.56 137.825 L1378.91 138.775 L1371.27 139.661 L1364.74 140.361 \n",
       "  L1363.62 140.484 L1355.98 141.251 L1348.33 141.95 L1348.33 145.991 L1348.33 145.991 L1348.33 151.621 L1348.33 157.251 L1348.33 162.88 L1348.33 168.51 L1348.33 174.14 \n",
       "  L1348.33 179.77 L1348.33 185.399 L1348.33 191.029 L1348.33 196.659 L1348.33 202.289 L1348.33 207.918 L1348.33 213.548 L1348.33 219.178 L1348.33 224.808 L1348.33 230.438 \n",
       "  L1348.33 236.067 L1348.33 241.697 L1348.33 247.327 L1348.33 252.957 L1348.33 258.586 L1348.33 264.216 L1348.33 269.846 L1348.33 275.476 L1348.33 281.105 L1348.33 286.735 \n",
       "  L1348.33 292.365 L1348.33 297.995 L1348.33 303.624 L1348.33 309.254 L1348.33 314.884 L1348.33 320.514 L1348.33 326.143 L1348.33 331.773 L1348.33 337.403 L1348.33 343.033 \n",
       "  L1348.33 348.662 L1348.33 354.292 L1348.33 359.922 L1348.33 365.552 L1348.33 371.181 L1348.33 376.811 L1348.33 382.441 L1348.33 388.071 L1348.33 393.7 L1348.33 399.33 \n",
       "  L1348.33 404.96 L1348.33 410.59 L1348.33 416.22 L1348.33 421.849 L1348.33 427.479 L1348.33 433.109 L1348.33 438.739 L1348.33 444.368 L1348.33 449.998 L1348.33 455.628 \n",
       "  L1348.33 461.258 L1348.33 466.887 L1348.33 472.517 L1348.33 478.147 L1348.33 483.777 L1348.33 489.406 L1348.33 495.036 L1348.33 500.666 L1348.33 506.296 L1348.33 511.925 \n",
       "  L1348.33 517.555 L1348.33 523.185 L1348.33 528.815 L1348.33 534.444 L1348.33 540.074 L1348.33 545.704 L1348.33 551.334 L1348.33 556.963 L1348.33 562.593 L1348.33 568.223 \n",
       "  L1348.33 573.853 L1348.33 579.482 L1348.33 585.112 L1348.33 590.742 L1348.33 596.372 L1348.33 602.002 L1348.33 607.631 L1348.33 613.261 L1348.33 618.891 L1348.33 624.521 \n",
       "  L1348.33 630.15 L1348.33 635.78 L1348.33 641.41 L1348.33 647.04 L1348.33 652.669 L1348.33 658.299 L1348.33 663.929 L1348.33 669.559 L1348.33 675.188 L1348.33 680.818 \n",
       "  L1348.33 686.448 L1348.33 686.448 L1348.33 686.448  Z\n",
       "  \" fill=\"#420a67\" fill-rule=\"evenodd\" fill-opacity=\"1\"/>\n",
       "<path clip-path=\"url(#clip8104)\" d=\"\n",
       "M1432.42 686.448 L1440.06 686.448 L1447.71 686.448 L1455.35 686.448 L1463 686.448 L1470.64 686.448 L1478.29 686.448 L1485.93 686.448 L1493.57 686.448 L1501.22 686.448 \n",
       "  L1508.86 686.448 L1516.51 686.448 L1524.15 686.448 L1531.8 686.448 L1539.44 686.448 L1547.08 686.448 L1554.73 686.448 L1562.37 686.448 L1570.02 686.448 L1577.66 686.448 \n",
       "  L1585.31 686.448 L1592.95 686.448 L1600.59 686.448 L1608.24 686.448 L1615.88 686.448 L1623.53 686.448 L1631.17 686.448 L1638.81 686.448 L1646.46 686.448 L1654.1 686.448 \n",
       "  L1661.75 686.448 L1669.39 686.448 L1677.04 686.448 L1684.68 686.448 L1692.32 686.448 L1699.97 686.448 L1707.61 686.448 L1715.26 686.448 L1722.9 686.448 L1730.55 686.448 \n",
       "  L1738.19 686.448 L1745.83 686.448 L1753.48 686.448 L1761.12 686.448 L1768.77 686.448 L1776.41 686.448 L1784.05 686.448 L1791.7 686.448 L1799.34 686.448 L1806.99 686.448 \n",
       "  L1814.63 686.448 L1822.28 686.448 L1829.92 686.448 L1837.56 686.448 L1845.21 686.448 L1852.85 686.448 L1860.5 686.448 L1868.14 686.448 L1875.79 686.448 L1883.43 686.448 \n",
       "  L1891.07 686.448 L1898.72 686.448 L1906.36 686.448 L1914.01 686.448 L1921.65 686.448 L1929.29 686.448 L1936.94 686.448 L1944.58 686.448 L1952.23 686.448 L1959.87 686.448 \n",
       "  L1967.52 686.448 L1975.16 686.448 L1982.8 686.448 L1990.45 686.448 L1998.09 686.448 L2005.74 686.448 L2013.38 686.448 L2021.03 686.448 L2028.67 686.448 L2036.31 686.448 \n",
       "  L2043.96 686.448 L2051.6 686.448 L2059.25 686.448 L2066.89 686.448 L2074.53 686.448 L2082.18 686.448 L2089.82 686.448 L2097.47 686.448 L2105.11 686.448 L2112.76 686.448 \n",
       "  L2112.76 686.448 L2112.76 686.448 L2112.76 686.448 L2112.76 680.818 L2112.76 675.188 L2112.76 669.559 L2112.76 663.929 L2112.76 658.299 L2112.76 652.669 L2112.76 647.04 \n",
       "  L2112.76 641.41 L2112.76 635.78 L2112.76 630.15 L2112.76 624.521 L2112.76 618.891 L2112.76 613.261 L2112.76 607.631 L2112.76 602.002 L2112.76 596.372 L2112.76 590.742 \n",
       "  L2112.76 585.112 L2112.76 579.482 L2112.76 573.853 L2112.76 568.223 L2112.76 562.593 L2112.76 556.963 L2112.76 551.334 L2112.76 545.704 L2112.76 540.074 L2112.76 534.444 \n",
       "  L2112.76 528.815 L2112.76 523.185 L2112.76 517.555 L2112.76 511.925 L2112.76 506.296 L2112.76 500.666 L2112.76 495.036 L2112.76 489.406 L2112.76 483.777 L2112.76 478.147 \n",
       "  L2112.76 472.517 L2112.76 466.887 L2112.76 461.258 L2112.76 455.628 L2112.76 449.998 L2112.76 444.368 L2112.76 438.739 L2112.76 433.109 L2112.76 427.479 L2112.76 421.849 \n",
       "  L2112.76 416.22 L2112.76 410.59 L2112.76 404.96 L2112.76 399.33 L2112.76 393.7 L2112.76 388.071 L2112.76 382.441 L2112.76 376.811 L2112.76 371.181 L2112.76 365.552 \n",
       "  L2112.76 359.922 L2112.76 354.292 L2112.76 348.662 L2112.76 343.033 L2112.76 337.403 L2112.76 331.773 L2112.76 326.143 L2112.76 320.514 L2112.76 314.884 L2112.76 309.254 \n",
       "  L2112.76 303.624 L2112.76 297.995 L2112.76 297.995 L2112.76 292.663 L2112.62 292.365 L2109.92 286.735 L2107.15 281.105 L2105.11 277.064 L2104.29 275.476 L2101.34 269.846 \n",
       "  L2098.3 264.216 L2097.47 262.704 L2095.14 258.586 L2091.88 252.957 L2089.82 249.495 L2088.5 247.327 L2084.98 241.697 L2082.18 237.334 L2081.34 236.067 L2077.54 230.438 \n",
       "  L2074.53 226.124 L2073.59 224.808 L2069.46 219.178 L2066.89 215.773 L2065.16 213.548 L2060.66 207.918 L2059.25 206.194 L2055.94 202.289 L2051.6 197.314 L2051.01 196.659 \n",
       "  L2045.81 191.029 L2043.96 189.067 L2040.35 185.399 L2036.31 181.395 L2034.61 179.77 L2028.67 174.246 L2028.55 174.14 L2022.12 168.51 L2021.03 167.576 L2015.29 162.88 \n",
       "  L2013.38 161.345 L2008.04 157.251 L2005.74 155.52 L2000.3 151.621 L1998.09 150.07 L1992 145.991 L1990.45 144.97 L1983.07 140.361 L1982.8 140.196 L1975.16 135.724 \n",
       "  L1973.37 134.732 L1967.52 131.538 L1962.78 129.102 L1959.87 127.623 L1952.23 123.965 L1951.14 123.472 L1944.58 123.472 L1944.58 123.472 L1936.94 123.472 L1929.29 123.472 \n",
       "  L1921.65 123.472 L1914.01 123.472 L1906.36 123.472 L1898.72 123.472 L1891.07 123.472 L1883.43 123.472 L1875.79 123.472 L1868.14 123.472 L1860.5 123.472 L1852.85 123.472 \n",
       "  L1845.21 123.472 L1837.56 123.472 L1829.92 123.472 L1822.28 123.472 L1814.63 123.472 L1806.99 123.472 L1799.34 123.472 L1791.7 123.472 L1784.05 123.472 L1776.41 123.472 \n",
       "  L1768.77 123.472 L1761.12 123.472 L1753.48 123.472 L1745.83 123.472 L1738.19 123.472 L1730.55 123.472 L1722.9 123.472 L1715.26 123.472 L1707.61 123.472 L1699.97 123.472 \n",
       "  L1692.32 123.472 L1684.68 123.472 L1677.04 123.472 L1669.39 123.472 L1661.75 123.472 L1654.1 123.472 L1646.46 123.472 L1638.81 123.472 L1631.17 123.472 L1623.53 123.472 \n",
       "  L1615.88 123.472 L1608.24 123.472 L1600.59 123.472 L1592.95 123.472 L1585.31 123.472 L1577.66 123.472 L1570.02 123.472 L1570.82 123.472 L1570.02 123.669 L1562.37 125.545 \n",
       "  L1554.73 127.432 L1547.98 129.102 L1547.08 129.325 L1539.44 131.228 L1531.8 133.13 L1525.33 134.732 L1524.15 135.028 L1516.51 136.927 L1508.86 138.815 L1502.54 140.361 \n",
       "  L1501.22 140.691 L1493.57 142.559 L1485.93 144.407 L1479.28 145.991 L1478.29 146.232 L1470.64 148.044 L1463 149.827 L1455.35 151.576 L1455.15 151.621 L1447.71 153.309 \n",
       "  L1440.06 155.005 L1432.42 156.661 L1429.61 157.251 L1424.78 158.288 L1417.13 159.878 L1409.49 161.422 L1402.03 162.88 L1401.84 162.918 L1394.2 164.386 L1386.56 165.803 \n",
       "  L1378.91 167.166 L1371.27 168.474 L1371.05 168.51 L1363.62 169.749 L1355.98 170.967 L1348.33 172.127 L1348.33 174.14 L1348.33 174.14 L1348.33 179.77 L1348.33 185.399 \n",
       "  L1348.33 191.029 L1348.33 196.659 L1348.33 202.289 L1348.33 207.918 L1348.33 213.548 L1348.33 219.178 L1348.33 224.808 L1348.33 230.438 L1348.33 236.067 L1348.33 241.697 \n",
       "  L1348.33 247.327 L1348.33 252.957 L1348.33 258.586 L1348.33 264.216 L1348.33 269.846 L1348.33 275.476 L1348.33 281.105 L1348.33 286.735 L1348.33 292.365 L1348.33 297.995 \n",
       "  L1348.33 303.624 L1348.33 309.254 L1348.33 314.884 L1348.33 320.514 L1348.33 326.143 L1348.33 331.773 L1348.33 337.403 L1348.33 343.033 L1348.33 348.662 L1348.33 354.292 \n",
       "  L1348.33 359.922 L1348.33 365.552 L1348.33 371.181 L1348.33 376.811 L1348.33 382.441 L1348.33 388.071 L1348.33 393.7 L1348.33 399.33 L1348.33 404.96 L1348.33 410.59 \n",
       "  L1348.33 416.22 L1348.33 421.849 L1348.33 427.479 L1348.33 433.109 L1348.33 438.739 L1348.33 444.368 L1348.33 449.998 L1348.33 455.628 L1348.33 461.258 L1348.33 466.887 \n",
       "  L1348.33 472.517 L1348.33 478.147 L1348.33 483.777 L1348.33 489.406 L1348.33 495.036 L1348.33 500.666 L1348.33 506.296 L1348.33 511.925 L1348.33 517.555 L1348.33 523.185 \n",
       "  L1348.33 528.815 L1348.33 534.444 L1348.33 540.074 L1348.33 545.704 L1348.33 551.334 L1348.33 556.963 L1348.33 562.593 L1348.33 568.223 L1348.33 573.853 L1348.33 579.482 \n",
       "  L1348.33 585.112 L1348.33 590.742 L1348.33 596.372 L1348.33 602.002 L1348.33 607.631 L1348.33 613.261 L1348.33 618.891 L1348.33 624.521 L1348.33 630.15 L1348.33 635.78 \n",
       "  L1348.33 641.41 L1348.33 647.04 L1348.33 652.669 L1348.33 658.299 L1348.33 663.929 L1348.33 669.559 L1348.33 665.874 L1355.98 667.836 L1362.69 669.559 L1363.62 669.791 \n",
       "  L1371.27 671.715 L1378.91 673.638 L1385.05 675.188 L1386.56 675.555 L1394.2 677.45 L1401.84 679.345 L1407.75 680.818 L1409.49 681.237 L1417.13 683.112 L1424.78 684.991 \n",
       "  L1430.67 686.448 L1424.78 686.448 L1432.42 686.448  Z\n",
       "  \" fill=\"#5d126d\" fill-rule=\"evenodd\" fill-opacity=\"1\"/>\n",
       "<path clip-path=\"url(#clip8104)\" d=\"\n",
       "M1531.8 686.448 L1539.44 686.448 L1547.08 686.448 L1554.73 686.448 L1562.37 686.448 L1570.02 686.448 L1577.66 686.448 L1585.31 686.448 L1592.95 686.448 L1600.59 686.448 \n",
       "  L1608.24 686.448 L1615.88 686.448 L1623.53 686.448 L1631.17 686.448 L1638.81 686.448 L1646.46 686.448 L1654.1 686.448 L1661.75 686.448 L1669.39 686.448 L1677.04 686.448 \n",
       "  L1684.68 686.448 L1692.32 686.448 L1699.97 686.448 L1707.61 686.448 L1715.26 686.448 L1722.9 686.448 L1730.55 686.448 L1738.19 686.448 L1745.83 686.448 L1753.48 686.448 \n",
       "  L1761.12 686.448 L1768.77 686.448 L1776.41 686.448 L1784.05 686.448 L1791.7 686.448 L1799.34 686.448 L1806.99 686.448 L1814.63 686.448 L1822.28 686.448 L1829.92 686.448 \n",
       "  L1837.56 686.448 L1845.21 686.448 L1852.85 686.448 L1860.5 686.448 L1868.14 686.448 L1875.79 686.448 L1883.43 686.448 L1891.07 686.448 L1898.72 686.448 L1906.36 686.448 \n",
       "  L1914.01 686.448 L1921.65 686.448 L1929.29 686.448 L1936.94 686.448 L1944.58 686.448 L1952.23 686.448 L1959.87 686.448 L1967.52 686.448 L1975.16 686.448 L1982.8 686.448 \n",
       "  L1990.45 686.448 L1998.09 686.448 L2005.74 686.448 L2013.38 686.448 L2021.03 686.448 L2028.67 686.448 L2036.31 686.448 L2043.96 686.448 L2051.6 686.448 L2059.25 686.448 \n",
       "  L2066.89 686.448 L2074.53 686.448 L2082.18 686.448 L2089.82 686.448 L2097.47 686.448 L2105.11 686.448 L2112.76 686.448 L2112.76 686.448 L2112.76 686.448 L2112.76 686.448 \n",
       "  L2112.76 680.818 L2112.76 675.188 L2112.76 669.559 L2112.76 663.929 L2112.76 658.299 L2112.76 652.669 L2112.76 647.04 L2112.76 641.41 L2112.76 635.78 L2112.76 630.15 \n",
       "  L2112.76 624.521 L2112.76 618.891 L2112.76 613.261 L2112.76 607.631 L2112.76 602.002 L2112.76 596.372 L2112.76 590.742 L2112.76 585.112 L2112.76 579.482 L2112.76 573.853 \n",
       "  L2112.76 568.223 L2112.76 562.593 L2112.76 556.963 L2112.76 551.334 L2112.76 545.704 L2112.76 540.074 L2112.76 534.444 L2112.76 528.815 L2112.76 523.185 L2112.76 517.555 \n",
       "  L2112.76 511.925 L2112.76 506.296 L2112.76 500.666 L2112.76 495.036 L2112.76 489.406 L2112.76 483.777 L2112.76 478.147 L2112.76 472.517 L2112.76 466.887 L2112.76 461.258 \n",
       "  L2112.76 455.628 L2112.76 449.998 L2112.76 444.368 L2112.76 438.739 L2112.76 433.109 L2112.76 427.479 L2112.76 421.849 L2112.76 416.22 L2112.76 410.59 L2112.76 404.96 \n",
       "  L2112.76 399.33 L2112.76 393.7 L2112.76 388.071 L2112.76 382.441 L2112.76 376.811 L2112.76 371.181 L2112.76 365.552 L2112.76 359.922 L2112.76 354.292 L2112.76 348.662 \n",
       "  L2112.76 343.033 L2112.76 343.033 L2112.76 338.698 L2112.23 337.403 L2109.89 331.773 L2107.5 326.143 L2105.11 320.668 L2105.04 320.514 L2102.5 314.884 L2099.9 309.254 \n",
       "  L2097.47 304.135 L2097.22 303.624 L2094.44 297.995 L2091.58 292.365 L2089.82 288.995 L2088.62 286.735 L2085.55 281.105 L2082.39 275.476 L2082.18 275.115 L2079.08 269.846 \n",
       "  L2075.67 264.216 L2074.53 262.392 L2072.11 258.586 L2068.41 252.957 L2066.89 250.696 L2064.56 247.327 L2060.54 241.697 L2059.25 239.924 L2056.34 236.067 L2051.97 230.438 \n",
       "  L2051.6 229.979 L2047.36 224.808 L2043.96 220.783 L2042.55 219.178 L2037.5 213.548 L2036.31 212.257 L2032.18 207.918 L2028.67 204.338 L2026.58 202.289 L2021.03 196.97 \n",
       "  L2020.69 196.659 L2014.43 191.029 L2013.38 190.105 L2007.8 185.399 L2005.74 183.701 L2000.75 179.77 L1998.09 177.721 L1993.23 174.14 L1990.45 172.132 L1985.18 168.51 \n",
       "  L1982.8 166.905 L1976.53 162.88 L1975.16 162.017 L1967.52 157.446 L1967.17 157.251 L1959.87 153.168 L1956.94 151.621 L1952.23 149.169 L1945.73 145.991 L1944.58 145.436 \n",
       "  L1936.94 141.949 L1933.22 140.361 L1929.29 138.7 L1921.65 135.678 L1919.09 134.732 L1914.01 132.869 L1906.36 130.268 L1902.67 129.102 L1898.72 127.865 L1891.07 125.651 \n",
       "  L1883.43 123.624 L1882.81 123.472 L1875.79 123.472 L1875.79 123.472 L1868.14 123.472 L1860.5 123.472 L1852.85 123.472 L1845.21 123.472 L1837.56 123.472 L1829.92 123.472 \n",
       "  L1822.28 123.472 L1814.63 123.472 L1806.99 123.472 L1799.34 123.472 L1791.7 123.472 L1784.05 123.472 L1776.41 123.472 L1768.77 123.472 L1761.12 123.472 L1753.48 123.472 \n",
       "  L1745.83 123.472 L1738.19 123.472 L1730.55 123.472 L1722.9 123.472 L1715.26 123.472 L1707.61 123.472 L1699.97 123.472 L1692.32 123.472 L1684.68 123.472 L1677.04 123.472 \n",
       "  L1669.39 123.472 L1661.75 123.472 L1664.71 123.472 L1661.75 124.029 L1654.1 125.529 L1646.46 127.094 L1638.81 128.72 L1637.07 129.102 L1631.17 130.404 L1623.53 132.142 \n",
       "  L1615.88 133.929 L1612.53 134.732 L1608.24 135.765 L1600.59 137.646 L1592.95 139.566 L1589.83 140.361 L1585.31 141.524 L1577.66 143.518 L1570.02 145.539 L1568.32 145.991 \n",
       "  L1562.37 147.592 L1554.73 149.668 L1547.59 151.621 L1547.08 151.762 L1539.44 153.883 L1531.8 156.014 L1527.35 157.251 L1524.15 158.158 L1516.51 160.317 L1508.86 162.475 \n",
       "  L1507.41 162.88 L1501.22 164.647 L1493.57 166.817 L1487.57 168.51 L1485.93 168.983 L1478.29 171.157 L1470.64 173.315 L1467.68 174.14 L1463 175.474 L1455.35 177.624 \n",
       "  L1447.71 179.751 L1447.64 179.77 L1440.06 181.885 L1432.42 183.992 L1427.22 185.399 L1424.78 186.081 L1417.13 188.164 L1409.49 190.213 L1406.37 191.029 L1401.84 192.252 \n",
       "  L1394.2 194.269 L1386.56 196.249 L1384.92 196.659 L1378.91 198.224 L1371.27 200.167 L1363.62 202.068 L1362.7 202.289 L1355.98 203.968 L1348.33 205.83 L1348.33 207.918 \n",
       "  L1348.33 207.918 L1348.33 213.548 L1348.33 219.178 L1348.33 224.808 L1348.33 230.438 L1348.33 236.067 L1348.33 241.697 L1348.33 247.327 L1348.33 252.957 L1348.33 258.586 \n",
       "  L1348.33 264.216 L1348.33 269.846 L1348.33 275.476 L1348.33 281.105 L1348.33 286.735 L1348.33 292.365 L1348.33 297.995 L1348.33 303.624 L1348.33 309.254 L1348.33 314.884 \n",
       "  L1348.33 320.514 L1348.33 326.143 L1348.33 331.773 L1348.33 337.403 L1348.33 343.033 L1348.33 348.662 L1348.33 354.292 L1348.33 359.922 L1348.33 365.552 L1348.33 371.181 \n",
       "  L1348.33 376.811 L1348.33 382.441 L1348.33 388.071 L1348.33 393.7 L1348.33 399.33 L1348.33 404.96 L1348.33 410.59 L1348.33 416.22 L1348.33 421.849 L1348.33 427.479 \n",
       "  L1348.33 433.109 L1348.33 438.739 L1348.33 444.368 L1348.33 449.998 L1348.33 455.628 L1348.33 461.258 L1348.33 466.887 L1348.33 472.517 L1348.33 478.147 L1348.33 483.777 \n",
       "  L1348.33 489.406 L1348.33 495.036 L1348.33 500.666 L1348.33 506.296 L1348.33 511.925 L1348.33 517.555 L1348.33 523.185 L1348.33 528.815 L1348.33 534.444 L1348.33 540.074 \n",
       "  L1348.33 545.704 L1348.33 551.334 L1348.33 556.963 L1348.33 562.593 L1348.33 568.223 L1348.33 573.853 L1348.33 579.482 L1348.33 585.112 L1348.33 590.742 L1348.33 596.372 \n",
       "  L1348.33 602.002 L1348.33 607.631 L1348.33 613.261 L1348.33 618.891 L1348.33 624.521 L1348.33 630.15 L1348.33 625.901 L1355.98 628.93 L1359.05 630.15 L1363.62 631.895 \n",
       "  L1371.27 634.81 L1373.8 635.78 L1378.91 637.663 L1386.56 640.473 L1389.1 641.41 L1394.2 643.225 L1401.84 645.937 L1404.94 647.04 L1409.49 648.601 L1417.13 651.225 \n",
       "  L1421.34 652.669 L1424.78 653.811 L1432.42 656.355 L1438.28 658.299 L1440.06 658.873 L1447.71 661.346 L1455.35 663.804 L1455.74 663.929 L1463 666.215 L1470.64 668.612 \n",
       "  L1473.65 669.559 L1478.29 670.979 L1485.93 673.324 L1492.02 675.188 L1493.57 675.653 L1501.22 677.954 L1508.86 680.247 L1510.76 680.818 L1516.51 682.516 L1524.15 684.775 \n",
       "  L1529.81 686.448 L1524.15 686.448 L1531.8 686.448  Z\n",
       "  \" fill=\"#781c6d\" fill-rule=\"evenodd\" fill-opacity=\"1\"/>\n",
       "<path clip-path=\"url(#clip8104)\" d=\"\n",
       "M1608.24 686.448 L1615.88 686.448 L1623.53 686.448 L1631.17 686.448 L1638.81 686.448 L1646.46 686.448 L1654.1 686.448 L1661.75 686.448 L1669.39 686.448 L1677.04 686.448 \n",
       "  L1684.68 686.448 L1692.32 686.448 L1699.97 686.448 L1707.61 686.448 L1715.26 686.448 L1722.9 686.448 L1730.55 686.448 L1738.19 686.448 L1745.83 686.448 L1753.48 686.448 \n",
       "  L1761.12 686.448 L1768.77 686.448 L1776.41 686.448 L1784.05 686.448 L1791.7 686.448 L1799.34 686.448 L1806.99 686.448 L1814.63 686.448 L1822.28 686.448 L1829.92 686.448 \n",
       "  L1837.56 686.448 L1845.21 686.448 L1852.85 686.448 L1860.5 686.448 L1868.14 686.448 L1875.79 686.448 L1883.43 686.448 L1891.07 686.448 L1898.72 686.448 L1906.36 686.448 \n",
       "  L1914.01 686.448 L1921.65 686.448 L1929.29 686.448 L1936.94 686.448 L1944.58 686.448 L1952.23 686.448 L1959.87 686.448 L1967.52 686.448 L1975.16 686.448 L1982.8 686.448 \n",
       "  L1990.45 686.448 L1998.09 686.448 L2005.74 686.448 L2013.38 686.448 L2021.03 686.448 L2028.67 686.448 L2036.31 686.448 L2043.96 686.448 L2051.6 686.448 L2059.25 686.448 \n",
       "  L2066.89 686.448 L2074.53 686.448 L2082.18 686.448 L2089.82 686.448 L2097.47 686.448 L2105.11 686.448 L2112.76 686.448 L2112.76 686.448 L2112.76 686.448 L2112.76 686.448 \n",
       "  L2112.76 680.818 L2112.76 675.188 L2112.76 669.559 L2112.76 663.929 L2112.76 658.299 L2112.76 652.669 L2112.76 647.04 L2112.76 641.41 L2112.76 635.78 L2112.76 630.15 \n",
       "  L2112.76 624.521 L2112.76 618.891 L2112.76 613.261 L2112.76 607.631 L2112.76 602.002 L2112.76 596.372 L2112.76 590.742 L2112.76 585.112 L2112.76 579.482 L2112.76 573.853 \n",
       "  L2112.76 568.223 L2112.76 562.593 L2112.76 556.963 L2112.76 551.334 L2112.76 545.704 L2112.76 540.074 L2112.76 534.444 L2112.76 528.815 L2112.76 523.185 L2112.76 517.555 \n",
       "  L2112.76 511.925 L2112.76 506.296 L2112.76 500.666 L2112.76 495.036 L2112.76 489.406 L2112.76 483.777 L2112.76 478.147 L2112.76 472.517 L2112.76 466.887 L2112.76 461.258 \n",
       "  L2112.76 455.628 L2112.76 449.998 L2112.76 444.368 L2112.76 438.739 L2112.76 433.109 L2112.76 427.479 L2112.76 421.849 L2112.76 416.22 L2112.76 410.59 L2112.76 404.96 \n",
       "  L2112.76 399.33 L2112.76 393.7 L2112.76 393.7 L2112.76 391.97 L2111.45 388.071 L2109.53 382.441 L2107.57 376.811 L2105.55 371.181 L2105.11 369.98 L2103.48 365.552 \n",
       "  L2101.34 359.922 L2099.16 354.292 L2097.47 350.053 L2096.91 348.662 L2094.58 343.033 L2092.18 337.403 L2089.82 332.001 L2089.72 331.773 L2087.16 326.143 L2084.52 320.514 \n",
       "  L2082.18 315.656 L2081.8 314.884 L2078.96 309.254 L2076.04 303.624 L2074.53 300.814 L2073 297.995 L2069.83 292.365 L2066.89 287.287 L2066.56 286.735 L2063.14 281.105 \n",
       "  L2059.59 275.476 L2059.25 274.935 L2055.88 269.846 L2052.02 264.216 L2051.6 263.617 L2047.97 258.586 L2043.96 253.213 L2043.76 252.957 L2039.32 247.327 L2036.31 243.628 \n",
       "  L2034.69 241.697 L2029.82 236.067 L2028.67 234.766 L2024.69 230.438 L2021.03 226.558 L2019.31 224.808 L2013.63 219.178 L2013.38 218.938 L2007.6 213.548 L2005.74 211.857 \n",
       "  L2001.22 207.918 L1998.09 205.262 L1994.44 202.289 L1990.45 199.114 L1987.22 196.659 L1982.8 193.378 L1979.49 191.029 L1975.16 188.022 L1971.19 185.399 L1967.52 183.019 \n",
       "  L1962.23 179.77 L1959.87 178.346 L1952.51 174.14 L1952.23 173.981 L1944.58 169.905 L1941.8 168.51 L1936.94 166.103 L1929.99 162.88 L1929.29 162.56 L1921.65 159.259 \n",
       "  L1916.66 157.251 L1914.01 156.194 L1906.36 153.35 L1901.35 151.621 L1898.72 150.72 L1891.07 148.292 L1883.43 146.064 L1883.16 145.991 L1875.79 144.02 L1868.14 142.161 \n",
       "  L1860.5 140.48 L1859.9 140.361 L1852.85 138.965 L1845.21 137.617 L1837.56 136.429 L1829.92 135.398 L1824.13 134.732 L1822.28 134.518 L1814.63 133.783 L1806.99 133.192 \n",
       "  L1799.34 132.74 L1791.7 132.424 L1784.05 132.241 L1776.41 132.186 L1768.77 132.256 L1761.12 132.449 L1753.48 132.761 L1745.83 133.189 L1738.19 133.729 L1730.55 134.379 \n",
       "  L1726.98 134.732 L1722.9 135.135 L1715.26 135.994 L1707.61 136.953 L1699.97 138.009 L1692.32 139.16 L1684.92 140.361 L1684.68 140.401 L1677.04 141.73 L1669.39 143.144 \n",
       "  L1661.75 144.639 L1655.17 145.991 L1654.1 146.212 L1646.46 147.863 L1638.81 149.585 L1631.17 151.374 L1630.15 151.621 L1623.53 153.234 L1615.88 155.155 L1608.24 157.134 \n",
       "  L1607.8 157.251 L1600.59 159.177 L1592.95 161.27 L1587.19 162.88 L1585.31 163.414 L1577.66 165.613 L1570.02 167.852 L1567.79 168.51 L1562.37 170.14 L1554.73 172.468 \n",
       "  L1549.29 174.14 L1547.08 174.832 L1539.44 177.24 L1531.8 179.672 L1531.49 179.77 L1524.15 182.151 L1516.51 184.648 L1514.2 185.399 L1508.86 187.184 L1501.22 189.741 \n",
       "  L1497.36 191.029 L1493.57 192.325 L1485.93 194.936 L1480.87 196.659 L1478.29 197.564 L1470.64 200.224 L1464.69 202.289 L1463 202.893 L1455.35 205.597 L1448.77 207.918 \n",
       "  L1447.71 208.305 L1440.06 211.053 L1433.09 213.548 L1432.42 213.798 L1424.78 216.59 L1417.65 219.178 L1417.13 219.375 L1409.49 222.212 L1402.45 224.808 L1401.84 225.041 \n",
       "  L1394.2 227.927 L1387.5 230.438 L1386.56 230.809 L1378.91 233.75 L1372.83 236.067 L1371.27 236.695 L1363.62 239.701 L1358.49 241.697 L1355.98 242.726 L1348.33 245.809 \n",
       "  L1348.33 247.327 L1348.33 247.327 L1348.33 252.957 L1348.33 258.586 L1348.33 264.216 L1348.33 269.846 L1348.33 275.476 L1348.33 281.105 L1348.33 286.735 L1348.33 292.365 \n",
       "  L1348.33 297.995 L1348.33 303.624 L1348.33 309.254 L1348.33 314.884 L1348.33 320.514 L1348.33 326.143 L1348.33 331.773 L1348.33 337.403 L1348.33 343.033 L1348.33 348.662 \n",
       "  L1348.33 354.292 L1348.33 359.922 L1348.33 365.552 L1348.33 371.181 L1348.33 376.811 L1348.33 382.441 L1348.33 388.071 L1348.33 393.7 L1348.33 399.33 L1348.33 404.96 \n",
       "  L1348.33 410.59 L1348.33 416.22 L1348.33 421.849 L1348.33 427.479 L1348.33 433.109 L1348.33 438.739 L1348.33 444.368 L1348.33 449.998 L1348.33 455.628 L1348.33 461.258 \n",
       "  L1348.33 466.887 L1348.33 472.517 L1348.33 478.147 L1348.33 483.777 L1348.33 489.406 L1348.33 495.036 L1348.33 500.666 L1348.33 506.296 L1348.33 511.925 L1348.33 517.555 \n",
       "  L1348.33 523.185 L1348.33 528.815 L1348.33 534.444 L1348.33 540.074 L1348.33 545.704 L1348.33 551.334 L1348.33 556.963 L1348.33 562.593 L1348.33 568.223 L1348.33 573.853 \n",
       "  L1348.33 579.482 L1348.33 578.576 L1349.76 579.482 L1355.98 583.267 L1359 585.112 L1363.62 587.805 L1368.65 590.742 L1371.27 592.202 L1378.73 596.372 L1378.91 596.469 \n",
       "  L1386.56 600.58 L1389.2 602.002 L1394.2 604.576 L1400.15 607.631 L1401.84 608.467 L1409.49 612.239 L1411.56 613.261 L1417.13 615.903 L1423.47 618.891 L1424.78 619.484 \n",
       "  L1432.42 622.957 L1435.87 624.521 L1440.06 626.348 L1447.71 629.664 L1448.83 630.15 L1455.35 632.886 L1462.32 635.78 L1463 636.053 L1470.64 639.131 L1476.35 641.41 \n",
       "  L1478.29 642.159 L1485.93 645.113 L1490.95 647.04 L1493.57 648.018 L1501.22 650.86 L1506.11 652.669 L1508.86 653.657 L1516.51 656.399 L1521.84 658.299 L1524.15 659.101 \n",
       "  L1531.8 661.752 L1538.12 663.929 L1539.44 664.372 L1547.08 666.943 L1554.73 669.49 L1554.93 669.559 L1562.37 671.992 L1570.02 674.471 L1572.23 675.188 L1577.66 676.917 \n",
       "  L1585.31 679.338 L1590 680.818 L1592.95 681.735 L1600.59 684.107 L1608.19 686.448 L1600.59 686.448 L1608.24 686.448  Z\n",
       "  \" fill=\"#942666\" fill-rule=\"evenodd\" fill-opacity=\"1\"/>\n",
       "<path clip-path=\"url(#clip8104)\" d=\"\n",
       "M1684.68 686.448 L1692.32 686.448 L1699.97 686.448 L1707.61 686.448 L1715.26 686.448 L1722.9 686.448 L1730.55 686.448 L1738.19 686.448 L1745.83 686.448 L1753.48 686.448 \n",
       "  L1761.12 686.448 L1768.77 686.448 L1776.41 686.448 L1784.05 686.448 L1791.7 686.448 L1799.34 686.448 L1806.99 686.448 L1814.63 686.448 L1822.28 686.448 L1829.92 686.448 \n",
       "  L1837.56 686.448 L1845.21 686.448 L1852.85 686.448 L1860.5 686.448 L1868.14 686.448 L1875.79 686.448 L1883.43 686.448 L1891.07 686.448 L1898.72 686.448 L1906.36 686.448 \n",
       "  L1914.01 686.448 L1921.65 686.448 L1929.29 686.448 L1936.94 686.448 L1944.58 686.448 L1952.23 686.448 L1959.87 686.448 L1967.52 686.448 L1975.16 686.448 L1982.8 686.448 \n",
       "  L1990.45 686.448 L1998.09 686.448 L2005.74 686.448 L2013.38 686.448 L2021.03 686.448 L2028.67 686.448 L2036.31 686.448 L2043.96 686.448 L2051.6 686.448 L2059.25 686.448 \n",
       "  L2066.89 686.448 L2074.53 686.448 L2082.18 686.448 L2089.82 686.448 L2097.47 686.448 L2105.11 686.448 L2112.76 686.448 L2112.76 686.448 L2112.76 686.448 L2112.76 686.448 \n",
       "  L2112.76 680.818 L2112.76 675.188 L2112.76 669.559 L2112.76 663.929 L2112.76 658.299 L2112.76 652.669 L2112.76 647.04 L2112.76 641.41 L2112.76 635.78 L2112.76 630.15 \n",
       "  L2112.76 624.521 L2112.76 618.891 L2112.76 613.261 L2112.76 607.631 L2112.76 602.002 L2112.76 596.372 L2112.76 590.742 L2112.76 585.112 L2112.76 579.482 L2112.76 573.853 \n",
       "  L2112.76 568.223 L2112.76 562.593 L2112.76 556.963 L2112.76 551.334 L2112.76 545.704 L2112.76 540.074 L2112.76 534.444 L2112.76 528.815 L2112.76 523.185 L2112.76 517.555 \n",
       "  L2112.76 511.925 L2112.76 506.296 L2112.76 500.666 L2112.76 495.036 L2112.76 489.406 L2112.76 483.777 L2112.76 478.147 L2112.76 472.517 L2112.76 472.517 L2112.76 467.091 \n",
       "  L2112.71 466.887 L2111.49 461.258 L2110.22 455.628 L2108.91 449.998 L2107.57 444.368 L2106.18 438.739 L2105.11 434.527 L2104.75 433.109 L2103.27 427.479 L2101.74 421.849 \n",
       "  L2100.17 416.22 L2098.54 410.59 L2097.47 406.979 L2096.86 404.96 L2095.13 399.33 L2093.33 393.7 L2091.48 388.071 L2089.82 383.179 L2089.57 382.441 L2087.58 376.811 \n",
       "  L2085.53 371.181 L2083.41 365.552 L2082.18 362.374 L2081.22 359.922 L2078.93 354.292 L2076.57 348.662 L2074.53 343.962 L2074.13 343.033 L2071.57 337.403 L2068.93 331.773 \n",
       "  L2066.89 327.56 L2066.19 326.143 L2063.33 320.514 L2060.36 314.884 L2059.25 312.833 L2057.26 309.254 L2054.03 303.624 L2051.6 299.523 L2050.67 297.995 L2047.15 292.365 \n",
       "  L2043.96 287.432 L2043.49 286.735 L2039.64 281.105 L2036.31 276.403 L2035.64 275.476 L2031.42 269.846 L2028.67 266.3 L2027 264.216 L2022.36 258.586 L2021.03 257.005 \n",
       "  L2017.47 252.957 L2013.38 248.432 L2012.34 247.327 L2006.92 241.697 L2005.74 240.506 L2001.17 236.067 L1998.09 233.161 L1995.09 230.438 L1990.45 226.34 L1988.64 224.808 \n",
       "  L1982.8 219.997 L1981.76 219.178 L1975.16 214.093 L1974.42 213.548 L1967.52 208.594 L1966.53 207.918 L1959.87 203.467 L1958.01 202.289 L1952.23 198.688 L1948.78 196.659 \n",
       "  L1944.58 194.231 L1938.71 191.029 L1936.94 190.077 L1929.29 186.209 L1927.59 185.399 L1921.65 182.61 L1915.17 179.77 L1914.01 179.266 L1906.36 176.165 L1900.99 174.14 \n",
       "  L1898.72 173.294 L1891.07 170.645 L1884.39 168.51 L1883.43 168.207 L1875.79 165.971 L1868.14 163.932 L1863.81 162.88 L1860.5 162.081 L1852.85 160.411 L1845.21 158.919 \n",
       "  L1837.56 157.598 L1835.28 157.251 L1829.92 156.442 L1822.28 155.446 L1814.63 154.608 L1806.99 153.923 L1799.34 153.386 L1791.7 152.994 L1784.05 152.743 L1776.41 152.63 \n",
       "  L1768.77 152.651 L1761.12 152.804 L1753.48 153.085 L1745.83 153.49 L1738.19 154.018 L1730.55 154.665 L1722.9 155.428 L1715.26 156.304 L1707.92 157.251 L1707.61 157.29 \n",
       "  L1699.97 158.385 L1692.32 159.585 L1684.68 160.886 L1677.04 162.285 L1673.98 162.88 L1669.39 163.783 L1661.75 165.376 L1654.1 167.058 L1647.82 168.51 L1646.46 168.827 \n",
       "  L1638.81 170.688 L1631.17 172.629 L1625.44 174.14 L1623.53 174.651 L1615.88 176.757 L1608.24 178.933 L1605.38 179.77 L1600.59 181.19 L1592.95 183.518 L1586.92 185.399 \n",
       "  L1585.31 185.913 L1577.66 188.385 L1570.02 190.913 L1569.67 191.029 L1562.37 193.523 L1554.73 196.183 L1553.37 196.659 L1547.08 198.92 L1539.44 201.707 L1537.85 202.289 \n",
       "  L1531.8 204.57 L1524.15 207.481 L1523 207.918 L1516.51 210.47 L1508.86 213.501 L1508.74 213.548 L1501.22 216.62 L1495 219.178 L1493.57 219.783 L1485.93 223.027 \n",
       "  L1481.74 224.808 L1478.29 226.331 L1470.64 229.7 L1468.96 230.438 L1463 233.159 L1456.63 236.067 L1455.35 236.675 L1447.71 240.292 L1444.73 241.697 L1440.06 243.995 \n",
       "  L1433.29 247.327 L1432.42 247.776 L1424.78 251.683 L1422.27 252.957 L1417.13 255.703 L1411.71 258.586 L1409.49 259.835 L1401.84 264.099 L1401.63 264.216 L1394.2 268.554 \n",
       "  L1391.97 269.846 L1386.56 273.18 L1382.8 275.476 L1378.91 278.006 L1374.11 281.105 L1371.27 283.069 L1365.91 286.735 L1363.62 288.414 L1358.19 292.365 L1355.98 294.099 \n",
       "  L1350.96 297.995 L1348.33 300.198 L1348.33 303.624 L1348.33 303.624 L1348.33 309.254 L1348.33 314.884 L1348.33 320.514 L1348.33 326.143 L1348.33 331.773 L1348.33 337.403 \n",
       "  L1348.33 343.033 L1348.33 348.662 L1348.33 354.292 L1348.33 359.922 L1348.33 365.552 L1348.33 371.181 L1348.33 376.811 L1348.33 382.441 L1348.33 388.071 L1348.33 393.7 \n",
       "  L1348.33 399.33 L1348.33 404.96 L1348.33 410.59 L1348.33 416.22 L1348.33 421.849 L1348.33 427.479 L1348.33 433.109 L1348.33 438.739 L1348.33 444.368 L1348.33 449.998 \n",
       "  L1348.33 455.628 L1348.33 461.258 L1348.33 466.887 L1348.33 472.517 L1348.33 478.147 L1348.33 483.777 L1348.33 489.406 L1348.33 495.036 L1348.33 500.666 L1348.33 506.296 \n",
       "  L1348.33 511.925 L1348.33 517.555 L1348.33 515.547 L1350.09 517.555 L1355.34 523.185 L1355.98 523.833 L1360.82 528.815 L1363.62 531.532 L1366.59 534.444 L1371.27 538.779 \n",
       "  L1372.65 540.074 L1378.91 545.62 L1379.01 545.704 L1385.64 551.334 L1386.56 552.068 L1392.6 556.963 L1394.2 558.193 L1399.89 562.593 L1401.84 564.027 L1407.53 568.223 \n",
       "  L1409.49 569.596 L1415.54 573.853 L1417.13 574.923 L1423.92 579.482 L1424.78 580.029 L1432.42 584.928 L1432.71 585.112 L1440.06 589.623 L1441.89 590.742 L1447.71 594.145 \n",
       "  L1451.53 596.372 L1455.35 598.51 L1461.63 602.002 L1463 602.73 L1470.64 606.798 L1472.21 607.631 L1478.29 610.727 L1483.3 613.261 L1485.93 614.542 L1493.57 618.241 \n",
       "  L1494.92 618.891 L1501.22 621.818 L1507.1 624.521 L1508.86 625.306 L1516.51 628.687 L1519.85 630.15 L1524.15 631.979 L1531.8 635.192 L1533.2 635.78 L1539.44 638.312 \n",
       "  L1547.08 641.371 L1547.18 641.41 L1554.73 644.339 L1561.79 647.04 L1562.37 647.256 L1570.02 650.093 L1577.06 652.669 L1577.66 652.883 L1585.31 655.603 L1592.95 658.281 \n",
       "  L1593 658.299 L1600.59 660.895 L1608.24 663.468 L1609.62 663.929 L1615.88 665.99 L1623.53 668.471 L1626.92 669.559 L1631.17 670.909 L1638.81 673.307 L1644.9 675.188 \n",
       "  L1646.46 675.669 L1654.1 677.992 L1661.75 680.283 L1663.55 680.818 L1669.39 682.541 L1677.04 684.768 L1682.88 686.448 L1677.04 686.448 L1684.68 686.448  Z\n",
       "  \" fill=\"#ad305b\" fill-rule=\"evenodd\" fill-opacity=\"1\"/>\n",
       "<path clip-path=\"url(#clip8104)\" d=\"\n",
       "M1776.41 686.448 L1784.05 686.448 L1791.7 686.448 L1799.34 686.448 L1806.99 686.448 L1814.63 686.448 L1822.28 686.448 L1829.92 686.448 L1837.56 686.448 L1845.21 686.448 \n",
       "  L1852.85 686.448 L1860.5 686.448 L1868.14 686.448 L1875.79 686.448 L1883.43 686.448 L1891.07 686.448 L1898.72 686.448 L1906.36 686.448 L1914.01 686.448 L1921.65 686.448 \n",
       "  L1929.29 686.448 L1936.94 686.448 L1944.58 686.448 L1952.23 686.448 L1959.87 686.448 L1967.52 686.448 L1975.16 686.448 L1982.8 686.448 L1990.45 686.448 L1998.09 686.448 \n",
       "  L2005.74 686.448 L2013.38 686.448 L2021.03 686.448 L2028.67 686.448 L2028.67 686.448 L2033.23 686.448 L2036.31 684.67 L2042.22 680.818 L2043.96 679.608 L2049.63 675.188 \n",
       "  L2051.6 673.537 L2055.89 669.559 L2059.25 666.172 L2061.27 663.929 L2065.95 658.299 L2066.89 657.07 L2070.01 652.669 L2073.61 647.04 L2074.53 645.475 L2076.77 641.41 \n",
       "  L2079.58 635.78 L2082.08 630.15 L2082.18 629.906 L2084.27 624.521 L2086.23 618.891 L2087.96 613.261 L2089.5 607.631 L2089.82 606.325 L2090.84 602.002 L2092.01 596.372 \n",
       "  L2093.03 590.742 L2093.9 585.112 L2094.65 579.482 L2095.27 573.853 L2095.77 568.223 L2096.17 562.593 L2096.46 556.963 L2096.66 551.334 L2096.76 545.704 L2096.78 540.074 \n",
       "  L2096.71 534.444 L2096.56 528.815 L2096.34 523.185 L2096.04 517.555 L2095.67 511.925 L2095.23 506.296 L2094.73 500.666 L2094.15 495.036 L2093.52 489.406 L2092.82 483.777 \n",
       "  L2092.05 478.147 L2091.23 472.517 L2090.34 466.887 L2089.82 463.838 L2089.39 461.258 L2088.37 455.628 L2087.29 449.998 L2086.15 444.368 L2084.94 438.739 L2083.68 433.109 \n",
       "  L2082.34 427.479 L2082.18 426.818 L2080.94 421.849 L2079.46 416.22 L2077.92 410.59 L2076.3 404.96 L2074.62 399.33 L2074.53 399.06 L2072.84 393.7 L2070.99 388.071 \n",
       "  L2069.07 382.441 L2067.06 376.811 L2066.89 376.36 L2064.94 371.181 L2062.74 365.552 L2060.45 359.922 L2059.25 357.067 L2058.05 354.292 L2055.54 348.662 L2052.93 343.033 \n",
       "  L2051.6 340.261 L2050.2 337.403 L2047.34 331.773 L2044.36 326.143 L2043.96 325.403 L2041.22 320.514 L2037.96 314.884 L2036.31 312.147 L2034.53 309.254 L2030.94 303.624 \n",
       "  L2028.67 300.194 L2027.17 297.995 L2023.22 292.365 L2021.03 289.351 L2019.06 286.735 L2014.7 281.105 L2013.38 279.458 L2010.09 275.476 L2005.74 270.392 L2005.25 269.846 \n",
       "  L2000.12 264.216 L1998.09 262.066 L1994.69 258.586 L1990.45 254.379 L1988.95 252.957 L1982.87 247.327 L1982.8 247.268 L1976.36 241.697 L1975.16 240.69 L1969.41 236.067 \n",
       "  L1967.52 234.584 L1961.96 230.438 L1959.87 228.911 L1953.95 224.808 L1952.23 223.637 L1945.29 219.178 L1944.58 218.733 L1936.94 214.174 L1935.83 213.548 L1929.29 209.936 \n",
       "  L1925.41 207.918 L1921.65 205.998 L1914.01 202.341 L1913.89 202.289 L1906.36 198.955 L1900.78 196.659 L1898.72 195.821 L1891.07 192.93 L1885.64 191.029 L1883.43 190.267 \n",
       "  L1875.79 187.827 L1868.14 185.597 L1867.4 185.399 L1860.5 183.572 L1852.85 181.743 L1845.21 180.104 L1843.47 179.77 L1837.56 178.648 L1829.92 177.371 L1822.28 176.266 \n",
       "  L1814.63 175.328 L1806.99 174.555 L1801.83 174.14 L1799.34 173.94 L1791.7 173.482 L1784.05 173.175 L1776.41 173.017 L1768.77 173.003 L1761.12 173.131 L1753.48 173.398 \n",
       "  L1745.83 173.8 L1740.98 174.14 L1738.19 174.336 L1730.55 175.002 L1722.9 175.796 L1715.26 176.715 L1707.61 177.756 L1699.97 178.916 L1694.85 179.77 L1692.32 180.194 \n",
       "  L1684.68 181.591 L1677.04 183.099 L1669.39 184.716 L1666.35 185.399 L1661.75 186.445 L1654.1 188.283 L1646.46 190.221 L1643.41 191.029 L1638.81 192.268 L1631.17 194.418 \n",
       "  L1623.53 196.659 L1623.53 196.66 L1615.88 199.017 L1608.24 201.461 L1605.72 202.289 L1600.59 204.01 L1592.95 206.653 L1589.38 207.918 L1585.31 209.395 L1577.66 212.234 \n",
       "  L1574.19 213.548 L1570.02 215.173 L1562.37 218.206 L1559.96 219.178 L1554.73 221.348 L1547.08 224.576 L1546.54 224.808 L1539.44 227.932 L1533.83 230.438 L1531.8 231.377 \n",
       "  L1524.15 234.941 L1521.76 236.067 L1516.51 238.627 L1510.27 241.697 L1508.86 242.42 L1501.22 246.354 L1499.34 247.327 L1493.57 250.433 L1488.92 252.957 L1485.93 254.65 \n",
       "  L1479.01 258.586 L1478.29 259.02 L1470.64 263.58 L1469.58 264.216 L1463 268.344 L1460.6 269.846 L1455.35 273.323 L1452.1 275.476 L1447.71 278.548 L1444.04 281.105 \n",
       "  L1440.06 284.056 L1436.43 286.735 L1432.42 289.895 L1429.26 292.365 L1424.78 296.123 L1422.53 297.995 L1417.13 302.815 L1416.22 303.624 L1410.32 309.254 L1409.49 310.111 \n",
       "  L1404.81 314.884 L1401.84 318.185 L1399.73 320.514 L1395.04 326.143 L1394.2 327.243 L1390.71 331.773 L1386.79 337.403 L1386.56 337.771 L1383.19 343.033 L1379.98 348.662 \n",
       "  L1378.91 350.771 L1377.1 354.292 L1374.55 359.922 L1372.35 365.552 L1371.27 368.798 L1370.46 371.181 L1368.85 376.811 L1367.56 382.441 L1366.56 388.071 L1365.85 393.7 \n",
       "  L1365.41 399.33 L1365.24 404.96 L1365.33 410.59 L1365.68 416.22 L1366.27 421.849 L1367.11 427.479 L1368.2 433.109 L1369.53 438.739 L1371.11 444.368 L1371.27 444.867 \n",
       "  L1372.89 449.998 L1374.9 455.628 L1377.17 461.258 L1378.91 465.157 L1379.67 466.887 L1382.37 472.517 L1385.34 478.147 L1386.56 480.272 L1388.52 483.777 L1391.95 489.406 \n",
       "  L1394.2 492.832 L1395.62 495.036 L1399.53 500.666 L1401.84 503.766 L1403.7 506.296 L1408.13 511.925 L1409.49 513.548 L1412.81 517.555 L1417.13 522.446 L1417.78 523.185 \n",
       "  L1423.01 528.815 L1424.78 530.605 L1428.53 534.444 L1432.42 538.185 L1434.37 540.074 L1440.06 545.279 L1440.53 545.704 L1447 551.334 L1447.71 551.919 L1453.81 556.963 \n",
       "  L1455.35 558.174 L1460.98 562.593 L1463 564.096 L1468.54 568.223 L1470.64 569.717 L1476.49 573.853 L1478.29 575.068 L1484.86 579.482 L1485.93 580.173 L1493.57 585.053 \n",
       "  L1493.67 585.112 L1501.22 589.709 L1502.93 590.742 L1508.86 594.177 L1512.69 596.372 L1516.51 598.475 L1522.98 602.002 L1524.15 602.616 L1531.8 606.592 L1533.82 607.631 \n",
       "  L1539.44 610.424 L1545.24 613.261 L1547.08 614.135 L1554.73 617.712 L1557.28 618.891 L1562.37 621.17 L1569.99 624.521 L1570.02 624.532 L1577.66 627.77 L1583.39 630.15 \n",
       "  L1585.31 630.924 L1592.95 633.976 L1597.55 635.78 L1600.59 636.946 L1608.24 639.83 L1612.51 641.41 L1615.88 642.636 L1623.53 645.364 L1628.31 647.04 L1631.17 648.023 \n",
       "  L1638.81 650.609 L1645.04 652.669 L1646.46 653.134 L1654.1 655.589 L1661.75 657.989 L1662.75 658.299 L1669.39 660.325 L1677.04 662.607 L1681.56 663.929 L1684.68 664.834 \n",
       "  L1692.32 667.006 L1699.97 669.127 L1701.56 669.559 L1707.61 671.196 L1715.26 673.216 L1722.9 675.186 L1722.91 675.188 L1730.55 677.108 L1738.19 678.982 L1745.83 680.807 \n",
       "  L1745.88 680.818 L1753.48 682.588 L1761.12 684.319 L1768.77 686.001 L1770.88 686.448 L1768.77 686.448 L1776.41 686.448  Z\n",
       "  \" fill=\"#c73e4c\" fill-rule=\"evenodd\" fill-opacity=\"1\"/>\n",
       "<path clip-path=\"url(#clip8104)\" d=\"\n",
       "M1883.43 675.277 L1891.07 675.244 L1893.5 675.188 L1898.72 675.067 L1906.36 674.737 L1914.01 674.242 L1921.65 673.567 L1929.29 672.698 L1936.94 671.615 L1944.58 670.299 \n",
       "  L1948.24 669.559 L1952.23 668.729 L1959.87 666.877 L1967.52 664.707 L1969.94 663.929 L1975.16 662.186 L1982.8 659.262 L1985.05 658.299 L1990.45 655.881 L1996.78 652.669 \n",
       "  L1998.09 651.971 L2005.74 647.44 L2006.35 647.04 L2013.38 642.17 L2014.38 641.41 L2021.03 636.001 L2021.27 635.78 L2027.24 630.15 L2028.67 628.698 L2032.48 624.521 \n",
       "  L2036.31 619.931 L2037.12 618.891 L2041.22 613.261 L2043.96 609.143 L2044.9 607.631 L2048.16 602.002 L2051.1 596.372 L2051.6 595.339 L2053.71 590.742 L2056.05 585.112 \n",
       "  L2058.15 579.482 L2059.25 576.225 L2060.01 573.853 L2061.65 568.223 L2063.11 562.593 L2064.39 556.963 L2065.51 551.334 L2066.48 545.704 L2066.89 542.883 L2067.29 540.074 \n",
       "  L2067.96 534.444 L2068.5 528.815 L2068.93 523.185 L2069.23 517.555 L2069.42 511.925 L2069.51 506.296 L2069.49 500.666 L2069.37 495.036 L2069.15 489.406 L2068.84 483.777 \n",
       "  L2068.44 478.147 L2067.94 472.517 L2067.36 466.887 L2066.89 462.947 L2066.69 461.258 L2065.92 455.628 L2065.07 449.998 L2064.13 444.368 L2063.11 438.739 L2062 433.109 \n",
       "  L2060.8 427.479 L2059.52 421.849 L2059.25 420.73 L2058.14 416.22 L2056.66 410.59 L2055.09 404.96 L2053.43 399.33 L2051.68 393.7 L2051.6 393.461 L2049.81 388.071 \n",
       "  L2047.84 382.441 L2045.76 376.811 L2043.96 372.138 L2043.58 371.181 L2041.26 365.552 L2038.84 359.922 L2036.31 354.329 L2036.3 354.292 L2033.59 348.662 L2030.77 343.033 \n",
       "  L2028.67 339.025 L2027.8 337.403 L2024.66 331.773 L2021.38 326.143 L2021.03 325.551 L2017.9 320.514 L2014.26 314.884 L2013.38 313.568 L2010.4 309.254 L2006.36 303.624 \n",
       "  L2005.74 302.781 L2002.07 297.995 L1998.09 293.009 L1997.56 292.365 L1992.76 286.735 L1990.45 284.112 L1987.69 281.105 L1982.8 275.951 L1982.33 275.476 L1976.61 269.846 \n",
       "  L1975.16 268.465 L1970.51 264.216 L1967.52 261.566 L1964 258.586 L1959.87 255.192 L1957.02 252.957 L1952.23 249.297 L1949.51 247.327 L1944.58 243.84 L1941.39 241.697 \n",
       "  L1936.94 238.783 L1932.55 236.067 L1929.29 234.096 L1922.88 230.438 L1921.65 229.751 L1914.01 225.731 L1912.13 224.808 L1906.36 222.014 L1900.08 219.178 L1898.72 218.575 \n",
       "  L1891.07 215.411 L1886.21 213.548 L1883.43 212.498 L1875.79 209.83 L1869.81 207.918 L1868.14 207.391 L1860.5 205.179 L1852.85 203.177 L1849.09 202.289 L1845.21 201.383 \n",
       "  L1837.56 199.79 L1829.92 198.388 L1822.28 197.171 L1818.5 196.659 L1814.63 196.137 L1806.99 195.282 L1799.34 194.598 L1791.7 194.082 L1784.05 193.73 L1776.41 193.538 \n",
       "  L1768.77 193.504 L1761.12 193.625 L1753.48 193.896 L1745.83 194.316 L1738.19 194.882 L1730.55 195.591 L1722.9 196.44 L1721.2 196.659 L1715.26 197.432 L1707.61 198.562 \n",
       "  L1699.97 199.826 L1692.32 201.221 L1686.96 202.289 L1684.68 202.749 L1677.04 204.414 L1669.39 206.204 L1662.53 207.918 L1661.75 208.118 L1654.1 210.173 L1646.46 212.346 \n",
       "  L1642.43 213.548 L1638.81 214.649 L1631.17 217.083 L1624.87 219.178 L1623.53 219.636 L1615.88 222.332 L1609.13 224.808 L1608.24 225.143 L1600.59 228.103 L1594.76 230.438 \n",
       "  L1592.95 231.183 L1585.31 234.413 L1581.49 236.067 L1577.66 237.78 L1570.02 241.286 L1569.13 241.697 L1562.37 244.964 L1557.58 247.327 L1554.73 248.789 L1547.08 252.776 \n",
       "  L1546.74 252.957 L1539.44 256.968 L1536.54 258.586 L1531.8 261.346 L1526.92 264.216 L1524.15 265.927 L1517.87 269.846 L1516.51 270.735 L1509.33 275.476 L1508.86 275.799 \n",
       "  L1501.28 281.105 L1501.22 281.152 L1493.7 286.735 L1493.57 286.837 L1486.58 292.365 L1485.93 292.908 L1479.88 297.995 L1478.29 299.43 L1473.61 303.624 L1470.64 306.486 \n",
       "  L1467.76 309.254 L1463 314.18 L1462.31 314.884 L1457.24 320.514 L1455.35 322.779 L1452.54 326.143 L1448.22 331.773 L1447.71 332.506 L1444.24 337.403 L1440.63 343.033 \n",
       "  L1440.06 343.997 L1437.32 348.662 L1434.36 354.292 L1432.42 358.462 L1431.73 359.922 L1429.39 365.552 L1427.36 371.181 L1425.63 376.811 L1424.78 380.178 L1424.19 382.441 \n",
       "  L1423.02 388.071 L1422.12 393.7 L1421.49 399.33 L1421.13 404.96 L1421.03 410.59 L1421.18 416.22 L1421.58 421.849 L1422.23 427.479 L1423.12 433.109 L1424.26 438.739 \n",
       "  L1424.78 440.858 L1425.62 444.368 L1427.22 449.998 L1429.06 455.628 L1431.15 461.258 L1432.42 464.322 L1433.47 466.887 L1436.02 472.517 L1438.83 478.147 L1440.06 480.409 \n",
       "  L1441.88 483.777 L1445.17 489.406 L1447.71 493.403 L1448.73 495.036 L1452.54 500.666 L1455.35 504.529 L1456.63 506.296 L1460.98 511.925 L1463 514.365 L1465.62 517.555 \n",
       "  L1470.56 523.185 L1470.64 523.268 L1475.79 528.815 L1478.29 531.344 L1481.34 534.444 L1485.93 538.83 L1487.23 540.074 L1493.47 545.704 L1493.57 545.794 L1500.06 551.334 \n",
       "  L1501.22 552.274 L1507.03 556.963 L1508.86 558.367 L1514.41 562.593 L1516.51 564.112 L1522.22 568.223 L1524.15 569.548 L1530.48 573.853 L1531.8 574.705 L1539.23 579.482 \n",
       "  L1539.44 579.61 L1547.08 584.267 L1548.49 585.112 L1554.73 588.712 L1558.3 590.742 L1562.37 592.967 L1568.71 596.372 L1570.02 597.048 L1577.66 600.949 L1579.76 602.002 \n",
       "  L1585.31 604.69 L1591.5 607.631 L1592.95 608.296 L1600.59 611.752 L1604.01 613.261 L1608.24 615.081 L1615.88 618.292 L1617.34 618.891 L1623.53 621.376 L1631.17 624.362 \n",
       "  L1631.58 624.521 L1638.81 627.228 L1646.46 630.007 L1646.86 630.15 L1654.1 632.677 L1661.75 635.264 L1663.31 635.78 L1669.39 637.755 L1677.04 640.164 L1681.11 641.41 \n",
       "  L1684.68 642.488 L1692.32 644.73 L1699.97 646.897 L1700.49 647.04 L1707.61 648.981 L1715.26 650.992 L1721.88 652.669 L1722.9 652.929 L1730.55 654.789 L1738.19 656.578 \n",
       "  L1745.83 658.294 L1745.86 658.299 L1753.48 659.936 L1761.12 661.506 L1768.77 663.002 L1773.77 663.929 L1776.41 664.423 L1784.05 665.77 L1791.7 667.039 L1799.34 668.23 \n",
       "  L1806.99 669.339 L1808.64 669.559 L1814.63 670.367 L1822.28 671.31 L1829.92 672.164 L1837.56 672.924 L1845.21 673.588 L1852.85 674.151 L1860.5 674.607 L1868.14 674.951 \n",
       "  L1875.79 675.177 L1876.7 675.188 L1883.43 675.277  Z\n",
       "  \" fill=\"#db503a\" fill-rule=\"evenodd\" fill-opacity=\"1\"/>\n",
       "<path clip-path=\"url(#clip8104)\" d=\"\n",
       "M1829.92 647.223 L1837.56 647.596 L1845.21 647.839 L1852.85 647.947 L1860.5 647.912 L1868.14 647.727 L1875.79 647.383 L1880.93 647.04 L1883.43 646.869 L1891.07 646.175 \n",
       "  L1898.72 645.287 L1906.36 644.19 L1914.01 642.867 L1921.12 641.41 L1921.65 641.298 L1929.29 639.459 L1936.94 637.325 L1941.8 635.78 L1944.58 634.863 L1952.23 632.033 \n",
       "  L1956.74 630.15 L1959.87 628.791 L1967.52 625.079 L1968.56 624.521 L1975.16 620.821 L1978.28 618.891 L1982.8 615.93 L1986.53 613.261 L1990.45 610.282 L1993.65 607.631 \n",
       "  L1998.09 603.712 L1999.89 602.002 L2005.38 596.372 L2005.74 595.986 L2010.22 590.742 L2013.38 586.719 L2014.56 585.112 L2018.42 579.482 L2021.03 575.326 L2021.9 573.853 \n",
       "  L2024.98 568.223 L2027.77 562.593 L2028.67 560.617 L2030.25 556.963 L2032.46 551.334 L2034.43 545.704 L2036.19 540.074 L2036.31 539.632 L2037.71 534.444 L2039.05 528.815 \n",
       "  L2040.2 523.185 L2041.19 517.555 L2042.01 511.925 L2042.68 506.296 L2043.2 500.666 L2043.58 495.036 L2043.82 489.406 L2043.93 483.777 L2043.91 478.147 L2043.77 472.517 \n",
       "  L2043.5 466.887 L2043.12 461.258 L2042.62 455.628 L2042 449.998 L2041.27 444.368 L2040.43 438.739 L2039.48 433.109 L2038.41 427.479 L2037.24 421.849 L2036.31 417.806 \n",
       "  L2035.95 416.22 L2034.52 410.59 L2032.99 404.96 L2031.33 399.33 L2029.57 393.7 L2028.67 391.029 L2027.66 388.071 L2025.62 382.441 L2023.45 376.811 L2021.15 371.181 \n",
       "  L2021.03 370.887 L2018.68 365.552 L2016.07 359.922 L2013.38 354.405 L2013.32 354.292 L2010.37 348.662 L2007.27 343.033 L2005.74 340.364 L2003.98 337.403 L2000.49 331.773 \n",
       "  L1998.09 328.067 L1996.81 326.143 L1992.89 320.514 L1990.45 317.156 L1988.74 314.884 L1984.34 309.254 L1982.8 307.364 L1979.65 303.624 L1975.16 298.503 L1974.7 297.995 \n",
       "  L1969.38 292.365 L1967.52 290.46 L1963.71 286.735 L1959.87 283.103 L1957.66 281.105 L1952.23 276.352 L1951.18 275.476 L1944.58 270.149 L1944.19 269.846 L1936.94 264.44 \n",
       "  L1936.62 264.216 L1929.29 259.18 L1928.38 258.586 L1921.65 254.33 L1919.34 252.957 L1914.01 249.855 L1909.37 247.327 L1906.36 245.725 L1898.72 241.918 L1898.24 241.697 \n",
       "  L1891.07 238.428 L1885.48 236.067 L1883.43 235.217 L1875.79 232.284 L1870.54 230.438 L1868.14 229.605 L1860.5 227.179 L1852.85 224.982 L1852.18 224.808 L1845.21 223.021 \n",
       "  L1837.56 221.276 L1829.92 219.738 L1826.72 219.178 L1822.28 218.408 L1814.63 217.279 L1806.99 216.341 L1799.34 215.59 L1791.7 215.022 L1784.05 214.634 L1776.41 214.422 \n",
       "  L1768.77 214.384 L1761.12 214.515 L1753.48 214.813 L1745.83 215.277 L1738.19 215.902 L1730.55 216.687 L1722.9 217.629 L1715.26 218.726 L1712.48 219.178 L1707.61 219.985 \n",
       "  L1699.97 221.401 L1692.32 222.968 L1684.68 224.682 L1684.16 224.808 L1677.04 226.566 L1669.39 228.598 L1662.92 230.438 L1661.75 230.779 L1654.1 233.132 L1646.46 235.628 \n",
       "  L1645.18 236.067 L1638.81 238.303 L1631.17 241.126 L1629.69 241.697 L1623.53 244.136 L1615.88 247.297 L1615.81 247.327 L1608.24 250.667 L1603.23 252.957 L1600.59 254.207 \n",
       "  L1592.95 257.944 L1591.67 258.586 L1585.31 261.906 L1580.99 264.216 L1577.66 266.079 L1571.08 269.846 L1570.02 270.483 L1562.37 275.154 L1561.86 275.476 L1554.73 280.125 \n",
       "  L1553.25 281.105 L1547.08 285.412 L1545.22 286.735 L1539.44 291.057 L1537.71 292.365 L1531.8 297.112 L1530.71 297.995 L1524.17 303.624 L1524.15 303.645 L1518.08 309.254 \n",
       "  L1516.51 310.81 L1512.41 314.884 L1508.86 318.683 L1507.16 320.514 L1502.3 326.143 L1501.22 327.493 L1497.8 331.773 L1493.69 337.403 L1493.57 337.578 L1489.91 343.033 \n",
       "  L1486.49 348.662 L1485.93 349.681 L1483.38 354.292 L1480.61 359.922 L1478.29 365.245 L1478.15 365.552 L1475.98 371.181 L1474.11 376.811 L1472.53 382.441 L1471.25 388.071 \n",
       "  L1470.64 391.427 L1470.23 393.7 L1469.47 399.33 L1468.99 404.96 L1468.76 410.59 L1468.79 416.22 L1469.08 421.849 L1469.62 427.479 L1470.42 433.109 L1470.64 434.317 \n",
       "  L1471.45 438.739 L1472.72 444.368 L1474.25 449.998 L1476.03 455.628 L1478.06 461.258 L1478.29 461.803 L1480.33 466.887 L1482.86 472.517 L1485.65 478.147 L1485.93 478.654 \n",
       "  L1488.69 483.777 L1492.01 489.406 L1493.57 491.851 L1495.6 495.036 L1499.47 500.666 L1501.22 503.025 L1503.63 506.296 L1508.1 511.925 L1508.86 512.824 L1512.87 517.555 \n",
       "  L1516.51 521.568 L1517.98 523.185 L1523.42 528.815 L1524.15 529.53 L1529.21 534.444 L1531.8 536.81 L1535.39 540.074 L1539.44 543.559 L1541.96 545.704 L1547.08 549.842 \n",
       "  L1548.95 551.334 L1554.73 555.714 L1556.4 556.963 L1562.37 561.225 L1564.32 562.593 L1570.02 566.413 L1572.76 568.223 L1577.66 571.313 L1581.77 573.853 L1585.31 575.954 \n",
       "  L1591.38 579.482 L1592.95 580.362 L1600.59 584.546 L1601.65 585.112 L1608.24 588.515 L1612.67 590.742 L1615.88 592.306 L1623.53 595.926 L1624.49 596.372 L1631.17 599.364 \n",
       "  L1637.25 602.002 L1638.81 602.663 L1646.46 605.802 L1651.07 607.631 L1654.1 608.809 L1661.75 611.679 L1666.11 613.261 L1669.39 614.425 L1677.04 617.045 L1682.64 618.891 \n",
       "  L1684.68 619.554 L1692.32 621.94 L1699.97 624.226 L1701 624.521 L1707.61 626.395 L1715.26 628.463 L1721.8 630.15 L1722.9 630.431 L1730.55 632.29 L1738.19 634.053 \n",
       "  L1745.83 635.719 L1746.13 635.78 L1753.48 637.279 L1761.12 638.742 L1768.77 640.107 L1776.41 641.371 L1776.67 641.41 L1784.05 642.53 L1791.7 643.586 L1799.34 644.537 \n",
       "  L1806.99 645.38 L1814.63 646.111 L1822.28 646.726 L1827.12 647.04 L1829.92 647.223  Z\n",
       "  \" fill=\"#ec6925\" fill-rule=\"evenodd\" fill-opacity=\"1\"/>\n",
       "<path clip-path=\"url(#clip8104)\" d=\"\n",
       "M1784.05 619.079 L1791.7 619.965 L1799.34 620.718 L1806.99 621.332 L1814.63 621.805 L1822.28 622.132 L1829.92 622.307 L1837.56 622.324 L1845.21 622.175 L1852.85 621.854 \n",
       "  L1860.5 621.351 L1868.14 620.655 L1875.79 619.754 L1881.71 618.891 L1883.43 618.634 L1891.07 617.275 L1898.72 615.662 L1906.36 613.776 L1908.2 613.261 L1914.01 611.58 \n",
       "  L1921.65 609.054 L1925.48 607.631 L1929.29 606.154 L1936.94 602.838 L1938.68 602.002 L1944.58 599.042 L1949.38 596.372 L1952.23 594.704 L1958.38 590.742 L1959.87 589.729 \n",
       "  L1966.09 585.112 L1967.52 583.988 L1972.78 579.482 L1975.16 577.309 L1978.67 573.853 L1982.8 569.455 L1983.89 568.223 L1988.5 562.593 L1990.45 560.017 L1992.62 556.963 \n",
       "  L1996.3 551.334 L1998.09 548.333 L1999.58 545.704 L2002.5 540.074 L2005.12 534.444 L2005.74 532.999 L2007.43 528.815 L2009.47 523.185 L2011.26 517.555 L2012.84 511.925 \n",
       "  L2013.38 509.711 L2014.18 506.296 L2015.31 500.666 L2016.25 495.036 L2017.01 489.406 L2017.6 483.777 L2018.01 478.147 L2018.26 472.517 L2018.36 466.887 L2018.3 461.258 \n",
       "  L2018.08 455.628 L2017.72 449.998 L2017.21 444.368 L2016.56 438.739 L2015.77 433.109 L2014.84 427.479 L2013.77 421.849 L2013.38 420.063 L2012.54 416.22 L2011.16 410.59 \n",
       "  L2009.63 404.96 L2007.97 399.33 L2006.16 393.7 L2005.74 392.487 L2004.17 388.071 L2002.02 382.441 L1999.71 376.811 L1998.09 373.1 L1997.23 371.181 L1994.55 365.552 \n",
       "  L1991.71 359.922 L1990.45 357.566 L1988.65 354.292 L1985.38 348.662 L1982.8 344.457 L1981.9 343.033 L1978.16 337.403 L1975.16 333.093 L1974.21 331.773 L1969.95 326.143 \n",
       "  L1967.52 323.069 L1965.41 320.514 L1960.57 314.884 L1959.87 314.098 L1955.35 309.254 L1952.23 306.039 L1949.77 303.624 L1944.58 298.715 L1943.78 297.995 L1937.31 292.365 \n",
       "  L1936.94 292.055 L1930.27 286.735 L1929.29 285.982 L1922.62 281.105 L1921.65 280.42 L1914.24 275.476 L1914.01 275.321 L1906.36 270.656 L1904.94 269.846 L1898.72 266.382 \n",
       "  L1894.54 264.216 L1891.07 262.461 L1883.43 258.872 L1882.77 258.586 L1875.79 255.613 L1868.98 252.957 L1868.14 252.635 L1860.5 249.954 L1852.85 247.524 L1852.16 247.327 \n",
       "  L1845.21 245.366 L1837.56 243.444 L1829.92 241.752 L1829.63 241.697 L1822.28 240.301 L1814.63 239.066 L1806.99 238.042 L1799.34 237.225 L1791.7 236.611 L1784.05 236.196 \n",
       "  L1779.55 236.067 L1776.41 235.979 L1768.77 235.954 L1763.44 236.067 L1761.12 236.118 L1753.48 236.471 L1745.83 237.009 L1738.19 237.731 L1730.55 238.635 L1722.9 239.717 \n",
       "  L1715.26 240.976 L1711.4 241.697 L1707.61 242.423 L1699.97 244.058 L1692.32 245.868 L1686.69 247.327 L1684.68 247.861 L1677.04 250.057 L1669.39 252.426 L1667.79 252.957 \n",
       "  L1661.75 255.011 L1654.1 257.782 L1652 258.586 L1646.46 260.777 L1638.81 263.967 L1638.24 264.216 L1631.17 267.414 L1626.03 269.846 L1623.53 271.081 L1615.88 275.002 \n",
       "  L1614.99 275.476 L1608.24 279.217 L1604.95 281.105 L1600.59 283.722 L1595.73 286.735 L1592.95 288.548 L1587.25 292.365 L1585.31 293.74 L1579.43 297.995 L1577.66 299.349 \n",
       "  L1572.2 303.624 L1570.02 305.44 L1565.52 309.254 L1562.37 312.096 L1559.34 314.884 L1554.73 319.422 L1553.63 320.514 L1548.37 326.143 L1547.08 327.635 L1543.54 331.773 \n",
       "  L1539.44 336.973 L1539.1 337.403 L1535.05 343.033 L1531.8 348.003 L1531.37 348.662 L1528.03 354.292 L1525.04 359.922 L1524.15 361.804 L1522.38 365.552 L1520.03 371.181 \n",
       "  L1518 376.811 L1516.51 381.689 L1516.28 382.441 L1514.83 388.071 L1513.68 393.7 L1512.81 399.33 L1512.22 404.96 L1511.9 410.59 L1511.85 416.22 L1512.06 421.849 \n",
       "  L1512.54 427.479 L1513.28 433.109 L1514.28 438.739 L1515.55 444.368 L1516.51 447.897 L1517.07 449.998 L1518.86 455.628 L1520.91 461.258 L1523.24 466.887 L1524.15 468.871 \n",
       "  L1525.83 472.517 L1528.7 478.147 L1531.8 483.638 L1531.87 483.777 L1535.32 489.406 L1539.09 495.036 L1539.44 495.522 L1543.16 500.666 L1547.08 505.684 L1547.57 506.296 \n",
       "  L1552.31 511.925 L1554.73 514.611 L1557.41 517.555 L1562.37 522.662 L1562.89 523.185 L1568.76 528.815 L1570.02 529.947 L1575.07 534.444 L1577.66 536.628 L1581.82 540.074 \n",
       "  L1585.31 542.806 L1589.07 545.704 L1592.95 548.543 L1596.85 551.334 L1600.59 553.894 L1605.2 556.963 L1608.24 558.902 L1614.18 562.593 L1615.88 563.605 L1623.53 568.031 \n",
       "  L1623.87 568.223 L1631.17 572.179 L1634.37 573.853 L1638.81 576.102 L1645.74 579.482 L1646.46 579.82 L1654.1 583.312 L1658.2 585.112 L1661.75 586.625 L1669.39 589.758 \n",
       "  L1671.89 590.742 L1677.04 592.713 L1684.68 595.515 L1687.13 596.372 L1692.32 598.151 L1699.97 600.643 L1704.36 602.002 L1707.61 602.99 L1715.26 605.19 L1722.9 607.265 \n",
       "  L1724.34 607.631 L1730.55 609.193 L1738.19 610.993 L1745.83 612.667 L1748.77 613.261 L1753.48 614.207 L1761.12 615.616 L1768.77 616.9 L1776.41 618.055 L1782.65 618.891 \n",
       "  L1784.05 619.079  Z\n",
       "  \" fill=\"#f7850e\" fill-rule=\"evenodd\" fill-opacity=\"1\"/>\n",
       "<path clip-path=\"url(#clip8104)\" d=\"\n",
       "M1806.99 596.637 L1814.63 596.874 L1822.28 596.928 L1829.92 596.792 L1837.56 596.459 L1838.81 596.372 L1845.21 595.914 L1852.85 595.148 L1860.5 594.152 L1868.14 592.909 \n",
       "  L1875.79 591.406 L1878.67 590.742 L1883.43 589.608 L1891.07 587.496 L1898.54 585.112 L1898.72 585.053 L1906.36 582.21 L1912.82 579.482 L1914.01 578.958 L1921.65 575.209 \n",
       "  L1924.15 573.853 L1929.29 570.904 L1933.54 568.223 L1936.94 565.951 L1941.53 562.593 L1944.58 560.213 L1948.42 556.963 L1952.23 553.509 L1954.45 551.334 L1959.76 545.704 \n",
       "  L1959.87 545.583 L1964.4 540.074 L1967.52 535.921 L1968.55 534.444 L1972.2 528.815 L1975.16 523.755 L1975.47 523.185 L1978.32 517.555 L1980.85 511.925 L1982.8 507.027 \n",
       "  L1983.08 506.296 L1984.98 500.666 L1986.63 495.036 L1988.03 489.406 L1989.2 483.777 L1990.14 478.147 L1990.45 475.763 L1990.85 472.517 L1991.35 466.887 L1991.66 461.258 \n",
       "  L1991.77 455.628 L1991.69 449.998 L1991.43 444.368 L1990.99 438.739 L1990.45 433.838 L1990.37 433.109 L1989.55 427.479 L1988.55 421.849 L1987.38 416.22 L1986.03 410.59 \n",
       "  L1984.51 404.96 L1982.8 399.334 L1982.8 399.33 L1980.87 393.7 L1978.75 388.071 L1976.45 382.441 L1975.16 379.521 L1973.92 376.811 L1971.17 371.181 L1968.21 365.552 \n",
       "  L1967.52 364.31 L1964.97 359.922 L1961.5 354.292 L1959.87 351.792 L1957.75 348.662 L1953.71 343.033 L1952.23 341.071 L1949.34 337.403 L1944.66 331.773 L1944.58 331.68 \n",
       "  L1939.55 326.143 L1936.94 323.406 L1934.04 320.514 L1929.29 315.975 L1928.09 314.884 L1921.65 309.28 L1921.62 309.254 L1914.5 303.624 L1914.01 303.246 L1906.69 297.995 \n",
       "  L1906.36 297.769 L1898.72 292.799 L1898 292.365 L1891.07 288.291 L1888.23 286.735 L1883.43 284.191 L1877.13 281.105 L1875.79 280.463 L1868.14 277.106 L1864.08 275.476 \n",
       "  L1860.5 274.073 L1852.85 271.356 L1848.14 269.846 L1845.21 268.93 L1837.56 266.797 L1829.92 264.92 L1826.61 264.216 L1822.28 263.311 L1814.63 261.957 L1806.99 260.839 \n",
       "  L1799.34 259.955 L1791.7 259.299 L1784.05 258.869 L1776.41 258.662 L1768.77 258.675 L1761.12 258.905 L1753.48 259.351 L1745.83 260.01 L1738.19 260.881 L1730.55 261.961 \n",
       "  L1722.9 263.25 L1717.95 264.216 L1715.26 264.757 L1707.61 266.497 L1699.97 268.447 L1695 269.846 L1692.32 270.624 L1684.68 273.05 L1677.65 275.476 L1677.04 275.694 \n",
       "  L1669.39 278.625 L1663.36 281.105 L1661.75 281.795 L1654.1 285.265 L1651.04 286.735 L1646.46 289.035 L1640.16 292.365 L1638.81 293.114 L1631.17 297.557 L1630.45 297.995 \n",
       "  L1623.53 302.413 L1621.7 303.624 L1615.88 307.71 L1613.76 309.254 L1608.24 313.517 L1606.52 314.884 L1600.59 319.922 L1599.92 320.514 L1593.89 326.143 L1592.95 327.091 \n",
       "  L1588.4 331.773 L1585.31 335.217 L1583.38 337.403 L1578.82 343.033 L1577.66 344.598 L1574.69 348.662 L1570.97 354.292 L1570.02 355.88 L1567.63 359.922 L1564.66 365.552 \n",
       "  L1562.37 370.459 L1562.04 371.181 L1559.76 376.811 L1557.82 382.441 L1556.19 388.071 L1554.88 393.7 L1554.73 394.524 L1553.87 399.33 L1553.15 404.96 L1552.74 410.59 \n",
       "  L1552.61 416.22 L1552.77 421.849 L1553.21 427.479 L1553.93 433.109 L1554.73 437.535 L1554.94 438.739 L1556.24 444.368 L1557.82 449.998 L1559.68 455.628 L1561.85 461.258 \n",
       "  L1562.37 462.466 L1564.31 466.887 L1567.07 472.517 L1570.02 477.895 L1570.16 478.147 L1573.56 483.777 L1577.31 489.406 L1577.66 489.899 L1581.4 495.036 L1585.31 499.969 \n",
       "  L1585.86 500.666 L1590.72 506.296 L1592.95 508.706 L1595.98 511.925 L1600.59 516.5 L1601.68 517.555 L1607.85 523.185 L1608.24 523.521 L1614.53 528.815 L1615.88 529.887 \n",
       "  L1621.77 534.444 L1623.53 535.731 L1629.62 540.074 L1631.17 541.122 L1638.15 545.704 L1638.81 546.118 L1646.46 550.745 L1647.47 551.334 L1654.1 555.043 L1657.68 556.963 \n",
       "  L1661.75 559.058 L1668.91 562.593 L1669.39 562.821 L1677.04 566.305 L1681.46 568.223 L1684.68 569.573 L1692.32 572.62 L1695.59 573.853 L1699.97 575.457 L1707.61 578.1 \n",
       "  L1711.87 579.482 L1715.26 580.554 L1722.9 582.819 L1730.55 584.923 L1731.29 585.112 L1738.19 586.835 L1745.83 588.585 L1753.48 590.177 L1756.5 590.742 L1761.12 591.596 \n",
       "  L1768.77 592.847 L1776.41 593.938 L1784.05 594.867 L1791.7 595.629 L1799.34 596.222 L1802.1 596.372 L1806.99 596.637  Z\n",
       "  \" fill=\"#fba40a\" fill-rule=\"evenodd\" fill-opacity=\"1\"/>\n",
       "<path clip-path=\"url(#clip8104)\" d=\"\n",
       "M1776.41 568.243 L1784.05 569.111 L1791.7 569.771 L1799.34 570.218 L1806.99 570.447 L1814.63 570.452 L1822.28 570.224 L1829.92 569.755 L1837.56 569.034 L1843.87 568.223 \n",
       "  L1845.21 568.045 L1852.85 566.755 L1860.5 565.165 L1868.14 563.256 L1870.42 562.593 L1875.79 560.967 L1883.43 558.286 L1886.75 556.963 L1891.07 555.149 L1898.72 551.521 \n",
       "  L1899.07 551.334 L1906.36 547.272 L1908.89 545.704 L1914.01 542.334 L1917.12 540.074 L1921.65 536.55 L1924.13 534.444 L1929.29 529.706 L1930.19 528.815 L1935.43 523.185 \n",
       "  L1936.94 521.408 L1939.99 517.555 L1944.02 511.925 L1944.58 511.067 L1947.5 506.296 L1950.56 500.666 L1952.23 497.203 L1953.21 495.036 L1955.47 489.406 L1957.41 483.777 \n",
       "  L1959.04 478.147 L1959.87 474.692 L1960.37 472.517 L1961.39 466.887 L1962.16 461.258 L1962.67 455.628 L1962.94 449.998 L1962.96 444.368 L1962.75 438.739 L1962.32 433.109 \n",
       "  L1961.65 427.479 L1960.76 421.849 L1959.87 417.334 L1959.64 416.22 L1958.27 410.59 L1956.66 404.96 L1954.83 399.33 L1952.78 393.7 L1952.23 392.34 L1950.43 388.071 \n",
       "  L1947.83 382.441 L1944.99 376.811 L1944.58 376.074 L1941.8 371.181 L1938.34 365.552 L1936.94 363.425 L1934.53 359.922 L1930.39 354.292 L1929.29 352.896 L1925.82 348.662 \n",
       "  L1921.65 343.879 L1920.87 343.033 L1915.41 337.403 L1914.01 336.027 L1909.4 331.773 L1906.36 329.097 L1902.79 326.143 L1898.72 322.927 L1895.45 320.514 L1891.07 317.415 \n",
       "  L1887.23 314.884 L1883.43 312.477 L1877.93 309.254 L1875.79 308.045 L1868.14 304.074 L1867.2 303.624 L1860.5 300.548 L1854.36 297.995 L1852.85 297.385 L1845.21 294.609 \n",
       "  L1838.26 292.365 L1837.56 292.147 L1829.92 290.04 L1822.28 288.221 L1814.88 286.735 L1814.63 286.687 L1806.99 285.463 L1799.34 284.508 L1791.7 283.818 L1784.05 283.389 \n",
       "  L1776.41 283.219 L1768.77 283.306 L1761.12 283.648 L1753.48 284.243 L1745.83 285.09 L1738.19 286.187 L1735.07 286.735 L1730.55 287.558 L1722.9 289.202 L1715.26 291.102 \n",
       "  L1710.77 292.365 L1707.61 293.288 L1699.97 295.782 L1693.83 297.995 L1692.32 298.561 L1684.68 301.696 L1680.34 303.624 L1677.04 305.169 L1669.39 309.009 L1668.93 309.254 \n",
       "  L1661.75 313.311 L1659.12 314.884 L1654.1 318.076 L1650.47 320.514 L1646.46 323.383 L1642.78 326.143 L1638.81 329.333 L1635.91 331.773 L1631.17 336.059 L1629.74 337.403 \n",
       "  L1624.21 343.033 L1623.53 343.789 L1619.27 348.662 L1615.88 352.921 L1614.82 354.292 L1610.88 359.922 L1608.24 364.137 L1607.37 365.552 L1604.31 371.181 L1601.63 376.811 \n",
       "  L1600.59 379.335 L1599.34 382.441 L1597.43 388.071 L1595.87 393.7 L1594.66 399.33 L1593.78 404.96 L1593.23 410.59 L1593.01 416.22 L1593.11 421.849 L1593.54 427.479 \n",
       "  L1594.28 433.109 L1595.35 438.739 L1596.73 444.368 L1598.44 449.998 L1600.47 455.628 L1600.59 455.925 L1602.86 461.258 L1605.58 466.887 L1608.24 471.753 L1608.66 472.517 \n",
       "  L1612.13 478.147 L1615.88 483.644 L1615.97 483.777 L1620.26 489.406 L1623.53 493.354 L1624.96 495.036 L1630.13 500.666 L1631.17 501.719 L1635.83 506.296 L1638.81 509.038 \n",
       "  L1642.07 511.925 L1646.46 515.581 L1648.92 517.555 L1654.1 521.473 L1656.46 523.185 L1661.75 526.815 L1664.79 528.815 L1669.39 531.685 L1674.03 534.444 L1677.04 536.148 \n",
       "  L1684.33 540.074 L1684.68 540.255 L1692.32 543.988 L1696.06 545.704 L1699.97 547.431 L1707.61 550.597 L1709.52 551.334 L1715.26 553.477 L1722.9 556.122 L1725.54 556.963 \n",
       "  L1730.55 558.512 L1738.19 560.674 L1745.68 562.593 L1745.83 562.63 L1753.48 564.338 L1761.12 565.844 L1768.77 567.147 L1776.27 568.223 L1776.41 568.243  Z\n",
       "  \" fill=\"#f9c52d\" fill-rule=\"evenodd\" fill-opacity=\"1\"/>\n",
       "<path clip-path=\"url(#clip8104)\" d=\"\n",
       "M1784.05 540.36 L1791.7 540.956 L1799.34 541.273 L1806.99 541.303 L1814.63 541.037 L1822.28 540.465 L1825.64 540.074 L1829.92 539.555 L1837.56 538.285 L1845.21 536.652 \n",
       "  L1852.85 534.635 L1853.46 534.444 L1860.5 532.12 L1868.14 529.142 L1868.88 528.815 L1875.79 525.536 L1880.13 523.185 L1883.43 521.268 L1889.11 517.555 L1891.07 516.171 \n",
       "  L1896.48 511.925 L1898.72 510.009 L1902.65 506.296 L1906.36 502.436 L1907.92 500.666 L1912.39 495.036 L1914.01 492.749 L1916.19 489.406 L1919.43 483.777 L1921.65 479.32 \n",
       "  L1922.19 478.147 L1924.44 472.517 L1926.29 466.887 L1927.77 461.258 L1928.9 455.628 L1929.29 452.75 L1929.65 449.998 L1930.07 444.368 L1930.18 438.739 L1929.97 433.109 \n",
       "  L1929.47 427.479 L1929.29 426.221 L1928.65 421.849 L1927.51 416.22 L1926.07 410.59 L1924.33 404.96 L1922.29 399.33 L1921.65 397.789 L1919.87 393.7 L1917.11 388.071 \n",
       "  L1914.04 382.441 L1914.01 382.389 L1910.47 376.811 L1906.57 371.181 L1906.36 370.9 L1902.11 365.552 L1898.72 361.597 L1897.19 359.922 L1891.68 354.292 L1891.07 353.716 \n",
       "  L1885.42 348.662 L1883.43 346.987 L1878.36 343.033 L1875.79 341.129 L1870.31 337.403 L1868.14 336.004 L1860.98 331.773 L1860.5 331.502 L1852.85 327.598 L1849.68 326.143 \n",
       "  L1845.21 324.18 L1837.56 321.203 L1835.54 320.514 L1829.92 318.676 L1822.28 316.529 L1815.27 314.884 L1814.63 314.738 L1806.99 313.343 L1799.34 312.277 L1791.7 311.538 \n",
       "  L1784.05 311.124 L1776.41 311.033 L1768.77 311.263 L1761.12 311.814 L1753.48 312.686 L1745.83 313.877 L1740.73 314.884 L1738.19 315.41 L1730.55 317.322 L1722.9 319.571 \n",
       "  L1720.1 320.514 L1715.26 322.236 L1707.61 325.304 L1705.72 326.143 L1699.97 328.868 L1694.39 331.773 L1692.32 332.921 L1684.92 337.403 L1684.68 337.563 L1677.04 342.931 \n",
       "  L1676.9 343.033 L1669.98 348.662 L1669.39 349.187 L1663.97 354.292 L1661.75 356.606 L1658.72 359.922 L1654.1 365.545 L1654.1 365.552 L1650.15 371.181 L1646.69 376.811 \n",
       "  L1646.46 377.246 L1643.79 382.441 L1641.35 388.071 L1639.34 393.7 L1638.81 395.54 L1637.78 399.33 L1636.63 404.96 L1635.89 410.59 L1635.53 416.22 L1635.56 421.849 \n",
       "  L1635.97 427.479 L1636.76 433.109 L1637.93 438.739 L1638.81 441.94 L1639.5 444.368 L1641.48 449.998 L1643.86 455.628 L1646.46 460.904 L1646.64 461.258 L1649.91 466.887 \n",
       "  L1653.6 472.517 L1654.1 473.208 L1657.84 478.147 L1661.75 482.829 L1662.57 483.777 L1667.92 489.406 L1669.39 490.827 L1673.94 495.036 L1677.04 497.688 L1680.69 500.666 \n",
       "  L1684.68 503.693 L1688.3 506.296 L1692.32 509 L1696.95 511.925 L1699.97 513.726 L1706.84 517.555 L1707.61 517.963 L1715.26 521.716 L1718.5 523.185 L1722.9 525.08 \n",
       "  L1730.55 528.094 L1732.56 528.815 L1738.19 530.74 L1745.83 533.081 L1750.88 534.444 L1753.48 535.12 L1761.12 536.841 L1768.77 538.292 L1776.41 539.469 L1781.55 540.074 \n",
       "  L1784.05 540.36  Z\n",
       "  \" fill=\"#f2e55f\" fill-rule=\"evenodd\" fill-opacity=\"1\"/>\n",
       "<path clip-path=\"url(#clip8104)\" d=\"\n",
       "M1768.77 502.465 L1776.41 503.915 L1784.05 504.948 L1791.7 505.556 L1799.34 505.727 L1806.99 505.447 L1814.63 504.699 L1822.28 503.463 L1829.92 501.715 L1833.46 500.666 \n",
       "  L1837.56 499.343 L1845.21 496.283 L1847.8 495.036 L1852.85 492.372 L1857.63 489.406 L1860.5 487.43 L1865.1 483.777 L1868.14 481.044 L1870.99 478.147 L1875.79 472.537 \n",
       "  L1875.8 472.517 L1879.51 466.887 L1882.58 461.258 L1883.43 459.323 L1884.91 455.628 L1886.62 449.998 L1887.82 444.368 L1888.51 438.739 L1888.71 433.109 L1888.43 427.479 \n",
       "  L1887.68 421.849 L1886.47 416.22 L1884.82 410.59 L1883.43 406.867 L1882.66 404.96 L1879.93 399.33 L1876.73 393.7 L1875.79 392.258 L1872.83 388.071 L1868.35 382.441 \n",
       "  L1868.14 382.203 L1862.93 376.811 L1860.5 374.517 L1856.59 371.181 L1852.85 368.25 L1849.01 365.552 L1845.21 363.078 L1839.72 359.922 L1837.56 358.766 L1829.92 355.204 \n",
       "  L1827.62 354.292 L1822.28 352.308 L1814.63 349.963 L1809.26 348.662 L1806.99 348.143 L1799.34 346.863 L1791.7 346.044 L1784.05 345.685 L1776.41 345.788 L1768.77 346.353 \n",
       "  L1761.12 347.384 L1754.6 348.662 L1753.48 348.899 L1745.83 351.011 L1738.19 353.633 L1736.57 354.292 L1730.55 356.971 L1724.83 359.922 L1722.9 361.018 L1715.88 365.552 \n",
       "  L1715.26 366 L1708.8 371.181 L1707.61 372.259 L1703.05 376.811 L1699.97 380.343 L1698.28 382.441 L1694.42 388.071 L1692.32 391.747 L1691.29 393.7 L1688.88 399.33 \n",
       "  L1687.07 404.96 L1685.82 410.59 L1685.14 416.22 L1685.01 421.849 L1685.43 427.479 L1686.38 433.109 L1687.88 438.739 L1689.9 444.368 L1692.32 449.698 L1692.47 449.998 \n",
       "  L1695.75 455.628 L1699.59 461.258 L1699.97 461.734 L1704.28 466.887 L1707.61 470.412 L1709.75 472.517 L1715.26 477.374 L1716.21 478.147 L1722.9 483.086 L1723.93 483.777 \n",
       "  L1730.55 487.859 L1733.33 489.406 L1738.19 491.901 L1745.07 495.036 L1745.83 495.362 L1753.48 498.194 L1761.12 500.603 L1761.37 500.666 L1768.77 502.465  Z\n",
       "  \" fill=\"#fcfea4\" fill-rule=\"evenodd\" fill-opacity=\"1\"/>\n",
       "<polyline clip-path=\"url(#clip8104)\" style=\"stroke:#000000; stroke-width:4; stroke-opacity:1; fill:none\" points=\"\n",
       "  1348.33,686.448 1348.33,686.448 1355.98,686.448 1363.62,686.448 1371.27,686.448 1378.91,686.448 1386.56,686.448 1394.2,686.448 1401.84,686.448 1409.49,686.448 \n",
       "  1417.13,686.448 1424.78,686.448 1432.42,686.448 1440.06,686.448 1447.71,686.448 1455.35,686.448 1463,686.448 1470.64,686.448 1478.29,686.448 1485.93,686.448 \n",
       "  1493.57,686.448 1501.22,686.448 1508.86,686.448 1516.51,686.448 1524.15,686.448 1531.8,686.448 1539.44,686.448 1547.08,686.448 1554.73,686.448 1562.37,686.448 \n",
       "  1570.02,686.448 1577.66,686.448 1585.31,686.448 1592.95,686.448 1600.59,686.448 1608.24,686.448 1615.88,686.448 1623.53,686.448 1631.17,686.448 1638.81,686.448 \n",
       "  1646.46,686.448 1654.1,686.448 1661.75,686.448 1669.39,686.448 1677.04,686.448 1684.68,686.448 1692.32,686.448 1699.97,686.448 1707.61,686.448 1715.26,686.448 \n",
       "  1722.9,686.448 1730.55,686.448 1738.19,686.448 1745.83,686.448 1753.48,686.448 1761.12,686.448 1768.77,686.448 1776.41,686.448 1784.05,686.448 1791.7,686.448 \n",
       "  1799.34,686.448 1806.99,686.448 1814.63,686.448 1822.28,686.448 1829.92,686.448 1837.56,686.448 1845.21,686.448 1852.85,686.448 1860.5,686.448 1868.14,686.448 \n",
       "  1875.79,686.448 1883.43,686.448 1891.07,686.448 1898.72,686.448 1906.36,686.448 1914.01,686.448 1921.65,686.448 1929.29,686.448 1936.94,686.448 1944.58,686.448 \n",
       "  1952.23,686.448 1959.87,686.448 1967.52,686.448 1975.16,686.448 1982.8,686.448 1990.45,686.448 1998.09,686.448 2005.74,686.448 2013.38,686.448 2021.03,686.448 \n",
       "  2028.67,686.448 2036.31,686.448 2043.96,686.448 2051.6,686.448 2059.25,686.448 2066.89,686.448 2074.53,686.448 2082.18,686.448 2089.82,686.448 2097.47,686.448 \n",
       "  2105.11,686.448 2112.76,686.448 2112.76,680.818 2112.76,675.188 2112.76,669.559 2112.76,663.929 2112.76,658.299 \n",
       "  2112.76,652.669 2112.76,647.04 2112.76,641.41 2112.76,635.78 2112.76,630.15 2112.76,624.521 2112.76,618.891 2112.76,613.261 2112.76,607.631 2112.76,602.002 \n",
       "  2112.76,596.372 2112.76,590.742 2112.76,585.112 2112.76,579.482 2112.76,573.853 2112.76,568.223 2112.76,562.593 2112.76,556.963 2112.76,551.334 2112.76,545.704 \n",
       "  2112.76,540.074 2112.76,534.444 2112.76,528.815 2112.76,523.185 2112.76,517.555 2112.76,511.925 2112.76,506.296 2112.76,500.666 2112.76,495.036 2112.76,489.406 \n",
       "  2112.76,483.777 2112.76,478.147 2112.76,472.517 2112.76,466.887 2112.76,461.258 2112.76,455.628 2112.76,449.998 2112.76,444.368 2112.76,438.739 2112.76,433.109 \n",
       "  2112.76,427.479 2112.76,421.849 2112.76,416.22 2112.76,410.59 2112.76,404.96 2112.76,399.33 2112.76,393.7 2112.76,388.071 2112.76,382.441 2112.76,376.811 \n",
       "  2112.76,371.181 2112.76,365.552 2112.76,359.922 2112.76,354.292 2112.76,348.662 2112.76,343.033 2112.76,337.403 2112.76,331.773 2112.76,326.143 2112.76,320.514 \n",
       "  2112.76,314.884 2112.76,309.254 2112.76,303.624 2112.76,297.995 2112.76,292.365 2112.76,286.735 2112.76,281.105 2112.76,275.476 2112.76,269.846 2112.76,264.216 \n",
       "  2112.76,258.586 2112.76,252.957 2112.76,247.327 2112.76,241.697 2112.76,236.067 2112.76,230.438 2112.76,224.808 2112.76,219.178 2112.76,213.548 2112.76,207.918 \n",
       "  2112.76,202.289 2112.76,196.659 2112.76,191.029 2112.76,185.399 2112.76,179.77 2112.76,174.14 2112.76,168.51 2112.76,162.88 2112.76,157.251 2112.76,151.621 \n",
       "  2112.76,145.991 2112.76,140.361 2112.76,134.732 2112.76,129.102 2112.76,123.472 2105.11,123.472 2097.47,123.472 \n",
       "  2089.82,123.472 2082.18,123.472 2074.53,123.472 2066.89,123.472 2059.25,123.472 2051.6,123.472 2043.96,123.472 2036.31,123.472 2028.67,123.472 2021.03,123.472 \n",
       "  2013.38,123.472 2005.74,123.472 1998.09,123.472 1990.45,123.472 1982.8,123.472 1975.16,123.472 1967.52,123.472 1959.87,123.472 1952.23,123.472 1944.58,123.472 \n",
       "  1936.94,123.472 1929.29,123.472 1921.65,123.472 1914.01,123.472 1906.36,123.472 1898.72,123.472 1891.07,123.472 1883.43,123.472 1875.79,123.472 1868.14,123.472 \n",
       "  1860.5,123.472 1852.85,123.472 1845.21,123.472 1837.56,123.472 1829.92,123.472 1822.28,123.472 1814.63,123.472 1806.99,123.472 1799.34,123.472 1791.7,123.472 \n",
       "  1784.05,123.472 1776.41,123.472 1768.77,123.472 1761.12,123.472 1753.48,123.472 1745.83,123.472 1738.19,123.472 1730.55,123.472 1722.9,123.472 1715.26,123.472 \n",
       "  1707.61,123.472 1699.97,123.472 1692.32,123.472 1684.68,123.472 1677.04,123.472 1669.39,123.472 1661.75,123.472 1654.1,123.472 1646.46,123.472 1638.81,123.472 \n",
       "  1631.17,123.472 1623.53,123.472 1615.88,123.472 1608.24,123.472 1600.59,123.472 1592.95,123.472 1585.31,123.472 1577.66,123.472 1570.02,123.472 1562.37,123.472 \n",
       "  1554.73,123.472 1547.08,123.472 1539.44,123.472 1531.8,123.472 1524.15,123.472 1516.51,123.472 1508.86,123.472 1501.22,123.472 1493.57,123.472 1485.93,123.472 \n",
       "  1478.29,123.472 1470.64,123.472 1463,123.472 1455.35,123.472 1447.71,123.472 1440.06,123.472 1432.42,123.472 1424.78,123.472 1417.13,123.472 1409.49,123.472 \n",
       "  1401.84,123.472 1394.2,123.472 1386.56,123.472 1378.91,123.472 1371.27,123.472 1363.62,123.472 1355.98,123.472 1348.33,123.472 \n",
       "  1348.33,129.102 1348.33,134.732 1348.33,140.361 1348.33,145.991 1348.33,151.621 1348.33,157.251 1348.33,162.88 1348.33,168.51 1348.33,174.14 \n",
       "  1348.33,179.77 1348.33,185.399 1348.33,191.029 1348.33,196.659 1348.33,202.289 1348.33,207.918 1348.33,213.548 1348.33,219.178 1348.33,224.808 1348.33,230.438 \n",
       "  1348.33,236.067 1348.33,241.697 1348.33,247.327 1348.33,252.957 1348.33,258.586 1348.33,264.216 1348.33,269.846 1348.33,275.476 1348.33,281.105 1348.33,286.735 \n",
       "  1348.33,292.365 1348.33,297.995 1348.33,303.624 1348.33,309.254 1348.33,314.884 1348.33,320.514 1348.33,326.143 1348.33,331.773 1348.33,337.403 1348.33,343.033 \n",
       "  1348.33,348.662 1348.33,354.292 1348.33,359.922 1348.33,365.552 1348.33,371.181 1348.33,376.811 1348.33,382.441 1348.33,388.071 1348.33,393.7 1348.33,399.33 \n",
       "  1348.33,404.96 1348.33,410.59 1348.33,416.22 1348.33,421.849 1348.33,427.479 1348.33,433.109 1348.33,438.739 1348.33,444.368 1348.33,449.998 1348.33,455.628 \n",
       "  1348.33,461.258 1348.33,466.887 1348.33,472.517 1348.33,478.147 1348.33,483.777 1348.33,489.406 1348.33,495.036 1348.33,500.666 1348.33,506.296 1348.33,511.925 \n",
       "  1348.33,517.555 1348.33,523.185 1348.33,528.815 1348.33,534.444 1348.33,540.074 1348.33,545.704 1348.33,551.334 1348.33,556.963 1348.33,562.593 1348.33,568.223 \n",
       "  1348.33,573.853 1348.33,579.482 1348.33,585.112 1348.33,590.742 1348.33,596.372 1348.33,602.002 1348.33,607.631 1348.33,613.261 1348.33,618.891 1348.33,624.521 \n",
       "  1348.33,630.15 1348.33,635.78 1348.33,641.41 1348.33,647.04 1348.33,652.669 1348.33,658.299 1348.33,663.929 1348.33,669.559 1348.33,675.188 1348.33,680.818 \n",
       "  1348.33,686.448 \n",
       "  \"/>\n",
       "<polyline clip-path=\"url(#clip8104)\" style=\"stroke:#000000; stroke-width:4; stroke-opacity:1; fill:none\" points=\"\n",
       "  1348.33,686.448 1348.33,686.448 1355.98,686.448 1363.62,686.448 1371.27,686.448 1378.91,686.448 1386.56,686.448 1394.2,686.448 1401.84,686.448 1409.49,686.448 \n",
       "  1417.13,686.448 1424.78,686.448 1432.42,686.448 1440.06,686.448 1447.71,686.448 1455.35,686.448 1463,686.448 1470.64,686.448 1478.29,686.448 1485.93,686.448 \n",
       "  1493.57,686.448 1501.22,686.448 1508.86,686.448 1516.51,686.448 1524.15,686.448 1531.8,686.448 1539.44,686.448 1547.08,686.448 1554.73,686.448 1562.37,686.448 \n",
       "  1570.02,686.448 1577.66,686.448 1585.31,686.448 1592.95,686.448 1600.59,686.448 1608.24,686.448 1615.88,686.448 1623.53,686.448 1631.17,686.448 1638.81,686.448 \n",
       "  1646.46,686.448 1654.1,686.448 1661.75,686.448 1669.39,686.448 1677.04,686.448 1684.68,686.448 1692.32,686.448 1699.97,686.448 1707.61,686.448 1715.26,686.448 \n",
       "  1722.9,686.448 1730.55,686.448 1738.19,686.448 1745.83,686.448 1753.48,686.448 1761.12,686.448 1768.77,686.448 1776.41,686.448 1784.05,686.448 1791.7,686.448 \n",
       "  1799.34,686.448 1806.99,686.448 1814.63,686.448 1822.28,686.448 1829.92,686.448 1837.56,686.448 1845.21,686.448 1852.85,686.448 1860.5,686.448 1868.14,686.448 \n",
       "  1875.79,686.448 1883.43,686.448 1891.07,686.448 1898.72,686.448 1906.36,686.448 1914.01,686.448 1921.65,686.448 1929.29,686.448 1936.94,686.448 1944.58,686.448 \n",
       "  1952.23,686.448 1959.87,686.448 1967.52,686.448 1975.16,686.448 1982.8,686.448 1990.45,686.448 1998.09,686.448 2005.74,686.448 2013.38,686.448 2021.03,686.448 \n",
       "  2028.67,686.448 2036.31,686.448 2043.96,686.448 2051.6,686.448 2059.25,686.448 2066.89,686.448 2074.53,686.448 2082.18,686.448 2089.82,686.448 2097.47,686.448 \n",
       "  2105.11,686.448 2112.76,686.448 2112.76,680.818 2112.76,675.188 2112.76,669.559 2112.76,663.929 2112.76,658.299 \n",
       "  2112.76,652.669 2112.76,647.04 2112.76,641.41 2112.76,635.78 2112.76,630.15 2112.76,624.521 2112.76,618.891 2112.76,613.261 2112.76,607.631 2112.76,602.002 \n",
       "  2112.76,596.372 2112.76,590.742 2112.76,585.112 2112.76,579.482 2112.76,573.853 2112.76,568.223 2112.76,562.593 2112.76,556.963 2112.76,551.334 2112.76,545.704 \n",
       "  2112.76,540.074 2112.76,534.444 2112.76,528.815 2112.76,523.185 2112.76,517.555 2112.76,511.925 2112.76,506.296 2112.76,500.666 2112.76,495.036 2112.76,489.406 \n",
       "  2112.76,483.777 2112.76,478.147 2112.76,472.517 2112.76,466.887 2112.76,461.258 2112.76,455.628 2112.76,449.998 2112.76,444.368 2112.76,438.739 2112.76,433.109 \n",
       "  2112.76,427.479 2112.76,421.849 2112.76,416.22 2112.76,410.59 2112.76,404.96 2112.76,399.33 2112.76,393.7 2112.76,388.071 2112.76,382.441 2112.76,376.811 \n",
       "  2112.76,371.181 2112.76,365.552 2112.76,359.922 2112.76,354.292 2112.76,348.662 2112.76,343.033 2112.76,337.403 2112.76,331.773 2112.76,326.143 2112.76,320.514 \n",
       "  2112.76,314.884 2112.76,309.254 2112.76,303.624 2112.76,297.995 2112.76,292.365 2112.76,286.735 2112.76,281.105 2112.76,275.476 2112.76,269.846 2112.76,264.216 \n",
       "  2112.76,258.586 2112.76,252.957 2112.76,247.327 2112.76,241.697 2112.76,236.067 2112.76,230.438 2112.76,224.808 2112.76,219.178 2112.76,213.548 2112.76,207.918 \n",
       "  2112.76,202.289 2112.76,196.659 2112.76,191.029 2112.76,185.399 2112.76,179.77 2112.76,174.14 2112.76,168.51 2112.76,166.143 2110.54,162.88 \n",
       "  2106.6,157.251 2105.11,155.164 2102.49,151.621 2098.21,145.991 2097.47,145.039 2093.71,140.361 2089.82,135.678 2089.01,134.732 2084.07,129.102 2082.18,127.004 \n",
       "  2078.87,123.472 2074.53,123.472 2066.89,123.472 2059.25,123.472 2051.6,123.472 2043.96,123.472 2036.31,123.472 2028.67,123.472 2021.03,123.472 \n",
       "  2013.38,123.472 2005.74,123.472 1998.09,123.472 1990.45,123.472 1982.8,123.472 1975.16,123.472 1967.52,123.472 1959.87,123.472 1952.23,123.472 1944.58,123.472 \n",
       "  1936.94,123.472 1929.29,123.472 1921.65,123.472 1914.01,123.472 1906.36,123.472 1898.72,123.472 1891.07,123.472 1883.43,123.472 1875.79,123.472 1868.14,123.472 \n",
       "  1860.5,123.472 1852.85,123.472 1845.21,123.472 1837.56,123.472 1829.92,123.472 1822.28,123.472 1814.63,123.472 1806.99,123.472 1799.34,123.472 1791.7,123.472 \n",
       "  1784.05,123.472 1776.41,123.472 1768.77,123.472 1761.12,123.472 1753.48,123.472 1745.83,123.472 1738.19,123.472 1730.55,123.472 1722.9,123.472 1715.26,123.472 \n",
       "  1707.61,123.472 1699.97,123.472 1692.32,123.472 1684.68,123.472 1677.04,123.472 1669.39,123.472 1661.75,123.472 1654.1,123.472 1646.46,123.472 1638.81,123.472 \n",
       "  1631.17,123.472 1623.53,123.472 1615.88,123.472 1608.24,123.472 1600.59,123.472 1592.95,123.472 1585.31,123.472 1577.66,123.472 1570.02,123.472 1562.37,123.472 \n",
       "  1554.73,123.472 1547.08,123.472 1539.44,123.472 1531.8,123.472 1524.15,123.472 1516.51,123.472 1508.86,123.472 1501.22,123.472 1493.57,123.472 1485.93,123.472 \n",
       "  1478.29,123.472 1470.64,123.472 1463,123.472 1455.35,123.472 1447.71,123.472 1440.06,123.472 1432.42,123.472 1424.78,123.472 1417.13,123.472 1409.49,123.472 \n",
       "  1401.84,123.472 1394.2,123.472 1386.56,123.472 1378.91,123.472 1371.27,123.472 1363.62,123.472 1355.98,123.472 1348.33,123.472 \n",
       "  1348.33,129.102 1348.33,134.732 1348.33,140.361 1348.33,145.991 1348.33,151.621 1348.33,157.251 1348.33,162.88 1348.33,168.51 1348.33,174.14 \n",
       "  1348.33,179.77 1348.33,185.399 1348.33,191.029 1348.33,196.659 1348.33,202.289 1348.33,207.918 1348.33,213.548 1348.33,219.178 1348.33,224.808 1348.33,230.438 \n",
       "  1348.33,236.067 1348.33,241.697 1348.33,247.327 1348.33,252.957 1348.33,258.586 1348.33,264.216 1348.33,269.846 1348.33,275.476 1348.33,281.105 1348.33,286.735 \n",
       "  1348.33,292.365 1348.33,297.995 1348.33,303.624 1348.33,309.254 1348.33,314.884 1348.33,320.514 1348.33,326.143 1348.33,331.773 1348.33,337.403 1348.33,343.033 \n",
       "  1348.33,348.662 1348.33,354.292 1348.33,359.922 1348.33,365.552 1348.33,371.181 1348.33,376.811 1348.33,382.441 1348.33,388.071 1348.33,393.7 1348.33,399.33 \n",
       "  1348.33,404.96 1348.33,410.59 1348.33,416.22 1348.33,421.849 1348.33,427.479 1348.33,433.109 1348.33,438.739 1348.33,444.368 1348.33,449.998 1348.33,455.628 \n",
       "  1348.33,461.258 1348.33,466.887 1348.33,472.517 1348.33,478.147 1348.33,483.777 1348.33,489.406 1348.33,495.036 1348.33,500.666 1348.33,506.296 1348.33,511.925 \n",
       "  1348.33,517.555 1348.33,523.185 1348.33,528.815 1348.33,534.444 1348.33,540.074 1348.33,545.704 1348.33,551.334 1348.33,556.963 1348.33,562.593 1348.33,568.223 \n",
       "  1348.33,573.853 1348.33,579.482 1348.33,585.112 1348.33,590.742 1348.33,596.372 1348.33,602.002 1348.33,607.631 1348.33,613.261 1348.33,618.891 1348.33,624.521 \n",
       "  1348.33,630.15 1348.33,635.78 1348.33,641.41 1348.33,647.04 1348.33,652.669 1348.33,658.299 1348.33,663.929 1348.33,669.559 1348.33,675.188 1348.33,680.818 \n",
       "  1348.33,686.448 \n",
       "  \"/>\n",
       "<polyline clip-path=\"url(#clip8104)\" style=\"stroke:#000000; stroke-width:4; stroke-opacity:1; fill:none\" points=\"\n",
       "  1348.33,686.448 1348.33,686.448 1355.98,686.448 1363.62,686.448 1371.27,686.448 1378.91,686.448 1386.56,686.448 1394.2,686.448 1401.84,686.448 1409.49,686.448 \n",
       "  1417.13,686.448 1424.78,686.448 1432.42,686.448 1440.06,686.448 1447.71,686.448 1455.35,686.448 1463,686.448 1470.64,686.448 1478.29,686.448 1485.93,686.448 \n",
       "  1493.57,686.448 1501.22,686.448 1508.86,686.448 1516.51,686.448 1524.15,686.448 1531.8,686.448 1539.44,686.448 1547.08,686.448 1554.73,686.448 1562.37,686.448 \n",
       "  1570.02,686.448 1577.66,686.448 1585.31,686.448 1592.95,686.448 1600.59,686.448 1608.24,686.448 1615.88,686.448 1623.53,686.448 1631.17,686.448 1638.81,686.448 \n",
       "  1646.46,686.448 1654.1,686.448 1661.75,686.448 1669.39,686.448 1677.04,686.448 1684.68,686.448 1692.32,686.448 1699.97,686.448 1707.61,686.448 1715.26,686.448 \n",
       "  1722.9,686.448 1730.55,686.448 1738.19,686.448 1745.83,686.448 1753.48,686.448 1761.12,686.448 1768.77,686.448 1776.41,686.448 1784.05,686.448 1791.7,686.448 \n",
       "  1799.34,686.448 1806.99,686.448 1814.63,686.448 1822.28,686.448 1829.92,686.448 1837.56,686.448 1845.21,686.448 1852.85,686.448 1860.5,686.448 1868.14,686.448 \n",
       "  1875.79,686.448 1883.43,686.448 1891.07,686.448 1898.72,686.448 1906.36,686.448 1914.01,686.448 1921.65,686.448 1929.29,686.448 1936.94,686.448 1944.58,686.448 \n",
       "  1952.23,686.448 1959.87,686.448 1967.52,686.448 1975.16,686.448 1982.8,686.448 1990.45,686.448 1998.09,686.448 2005.74,686.448 2013.38,686.448 2021.03,686.448 \n",
       "  2028.67,686.448 2036.31,686.448 2043.96,686.448 2051.6,686.448 2059.25,686.448 2066.89,686.448 2074.53,686.448 2082.18,686.448 2089.82,686.448 2097.47,686.448 \n",
       "  2105.11,686.448 2112.76,686.448 2112.76,680.818 2112.76,675.188 2112.76,669.559 2112.76,663.929 2112.76,658.299 \n",
       "  2112.76,652.669 2112.76,647.04 2112.76,641.41 2112.76,635.78 2112.76,630.15 2112.76,624.521 2112.76,618.891 2112.76,613.261 2112.76,607.631 2112.76,602.002 \n",
       "  2112.76,596.372 2112.76,590.742 2112.76,585.112 2112.76,579.482 2112.76,573.853 2112.76,568.223 2112.76,562.593 2112.76,556.963 2112.76,551.334 2112.76,545.704 \n",
       "  2112.76,540.074 2112.76,534.444 2112.76,528.815 2112.76,523.185 2112.76,517.555 2112.76,511.925 2112.76,506.296 2112.76,500.666 2112.76,495.036 2112.76,489.406 \n",
       "  2112.76,483.777 2112.76,478.147 2112.76,472.517 2112.76,466.887 2112.76,461.258 2112.76,455.628 2112.76,449.998 2112.76,444.368 2112.76,438.739 2112.76,433.109 \n",
       "  2112.76,427.479 2112.76,421.849 2112.76,416.22 2112.76,410.59 2112.76,404.96 2112.76,399.33 2112.76,393.7 2112.76,388.071 2112.76,382.441 2112.76,376.811 \n",
       "  2112.76,371.181 2112.76,365.552 2112.76,359.922 2112.76,354.292 2112.76,348.662 2112.76,343.033 2112.76,337.403 2112.76,331.773 2112.76,326.143 2112.76,320.514 \n",
       "  2112.76,314.884 2112.76,309.254 2112.76,303.624 2112.76,297.995 2112.76,292.365 2112.76,286.735 2112.76,281.105 2112.76,275.476 2112.76,269.846 2112.76,264.216 \n",
       "  2112.76,258.586 2112.76,252.957 2112.76,247.327 2112.76,241.697 2112.76,236.067 2112.76,230.438 2112.76,224.808 2112.76,219.178 2112.76,213.548 \n",
       "  2112.76,207.948 2112.74,207.918 2109.31,202.289 2105.76,196.659 2105.11,195.64 2102.07,191.029 2098.23,185.399 2097.47,184.297 2094.22,179.77 2090.06,174.14 \n",
       "  2089.82,173.826 2085.68,168.51 2082.18,164.141 2081.13,162.88 2076.35,157.251 2074.53,155.167 2071.33,151.621 2066.89,146.836 2066.07,145.991 2060.53,140.361 \n",
       "  2059.25,139.087 2054.68,134.732 2051.6,131.868 2048.5,129.102 2043.96,125.134 2041.97,123.472 2036.31,123.472 2028.67,123.472 2021.03,123.472 \n",
       "  2013.38,123.472 2005.74,123.472 1998.09,123.472 1990.45,123.472 1982.8,123.472 1975.16,123.472 1967.52,123.472 1959.87,123.472 1952.23,123.472 1944.58,123.472 \n",
       "  1936.94,123.472 1929.29,123.472 1921.65,123.472 1914.01,123.472 1906.36,123.472 1898.72,123.472 1891.07,123.472 1883.43,123.472 1875.79,123.472 1868.14,123.472 \n",
       "  1860.5,123.472 1852.85,123.472 1845.21,123.472 1837.56,123.472 1829.92,123.472 1822.28,123.472 1814.63,123.472 1806.99,123.472 1799.34,123.472 1791.7,123.472 \n",
       "  1784.05,123.472 1776.41,123.472 1768.77,123.472 1761.12,123.472 1753.48,123.472 1745.83,123.472 1738.19,123.472 1730.55,123.472 1722.9,123.472 1715.26,123.472 \n",
       "  1707.61,123.472 1699.97,123.472 1692.32,123.472 1684.68,123.472 1677.04,123.472 1669.39,123.472 1661.75,123.472 1654.1,123.472 1646.46,123.472 1638.81,123.472 \n",
       "  1631.17,123.472 1623.53,123.472 1615.88,123.472 1608.24,123.472 1600.59,123.472 1592.95,123.472 1585.31,123.472 1577.66,123.472 1570.02,123.472 1562.37,123.472 \n",
       "  1554.73,123.472 1547.08,123.472 1539.44,123.472 1531.8,123.472 1524.15,123.472 1516.51,123.472 1508.86,123.472 1501.22,123.472 1493.57,123.472 1485.93,123.472 \n",
       "  1478.29,123.472 1470.64,123.472 1463,123.472 1455.35,123.472 1447.71,123.472 1440.06,123.472 1432.42,123.472 1424.78,123.472 1417.13,123.472 1409.49,123.472 \n",
       "  1401.84,123.472 1394.2,123.472 1386.56,123.472 1378.91,123.472 1371.27,123.472 1363.62,123.472 1355.98,123.472 1348.33,123.472 \n",
       "  1348.33,129.102 1348.33,134.732 1348.33,140.361 1348.33,145.991 1348.33,151.621 1348.33,157.251 1348.33,162.88 1348.33,168.51 1348.33,174.14 \n",
       "  1348.33,179.77 1348.33,185.399 1348.33,191.029 1348.33,196.659 1348.33,202.289 1348.33,207.918 1348.33,213.548 1348.33,219.178 1348.33,224.808 1348.33,230.438 \n",
       "  1348.33,236.067 1348.33,241.697 1348.33,247.327 1348.33,252.957 1348.33,258.586 1348.33,264.216 1348.33,269.846 1348.33,275.476 1348.33,281.105 1348.33,286.735 \n",
       "  1348.33,292.365 1348.33,297.995 1348.33,303.624 1348.33,309.254 1348.33,314.884 1348.33,320.514 1348.33,326.143 1348.33,331.773 1348.33,337.403 1348.33,343.033 \n",
       "  1348.33,348.662 1348.33,354.292 1348.33,359.922 1348.33,365.552 1348.33,371.181 1348.33,376.811 1348.33,382.441 1348.33,388.071 1348.33,393.7 1348.33,399.33 \n",
       "  1348.33,404.96 1348.33,410.59 1348.33,416.22 1348.33,421.849 1348.33,427.479 1348.33,433.109 1348.33,438.739 1348.33,444.368 1348.33,449.998 1348.33,455.628 \n",
       "  1348.33,461.258 1348.33,466.887 1348.33,472.517 1348.33,478.147 1348.33,483.777 1348.33,489.406 1348.33,495.036 1348.33,500.666 1348.33,506.296 1348.33,511.925 \n",
       "  1348.33,517.555 1348.33,523.185 1348.33,528.815 1348.33,534.444 1348.33,540.074 1348.33,545.704 1348.33,551.334 1348.33,556.963 1348.33,562.593 1348.33,568.223 \n",
       "  1348.33,573.853 1348.33,579.482 1348.33,585.112 1348.33,590.742 1348.33,596.372 1348.33,602.002 1348.33,607.631 1348.33,613.261 1348.33,618.891 1348.33,624.521 \n",
       "  1348.33,630.15 1348.33,635.78 1348.33,641.41 1348.33,647.04 1348.33,652.669 1348.33,658.299 1348.33,663.929 1348.33,669.559 1348.33,675.188 1348.33,680.818 \n",
       "  1348.33,686.448 \n",
       "  \"/>\n",
       "<polyline clip-path=\"url(#clip8104)\" style=\"stroke:#000000; stroke-width:4; stroke-opacity:1; fill:none\" points=\"\n",
       "  1348.33,686.448 1348.33,686.448 1355.98,686.448 1363.62,686.448 1371.27,686.448 1378.91,686.448 1386.56,686.448 1394.2,686.448 1401.84,686.448 1409.49,686.448 \n",
       "  1417.13,686.448 1424.78,686.448 1432.42,686.448 1440.06,686.448 1447.71,686.448 1455.35,686.448 1463,686.448 1470.64,686.448 1478.29,686.448 1485.93,686.448 \n",
       "  1493.57,686.448 1501.22,686.448 1508.86,686.448 1516.51,686.448 1524.15,686.448 1531.8,686.448 1539.44,686.448 1547.08,686.448 1554.73,686.448 1562.37,686.448 \n",
       "  1570.02,686.448 1577.66,686.448 1585.31,686.448 1592.95,686.448 1600.59,686.448 1608.24,686.448 1615.88,686.448 1623.53,686.448 1631.17,686.448 1638.81,686.448 \n",
       "  1646.46,686.448 1654.1,686.448 1661.75,686.448 1669.39,686.448 1677.04,686.448 1684.68,686.448 1692.32,686.448 1699.97,686.448 1707.61,686.448 1715.26,686.448 \n",
       "  1722.9,686.448 1730.55,686.448 1738.19,686.448 1745.83,686.448 1753.48,686.448 1761.12,686.448 1768.77,686.448 1776.41,686.448 1784.05,686.448 1791.7,686.448 \n",
       "  1799.34,686.448 1806.99,686.448 1814.63,686.448 1822.28,686.448 1829.92,686.448 1837.56,686.448 1845.21,686.448 1852.85,686.448 1860.5,686.448 1868.14,686.448 \n",
       "  1875.79,686.448 1883.43,686.448 1891.07,686.448 1898.72,686.448 1906.36,686.448 1914.01,686.448 1921.65,686.448 1929.29,686.448 1936.94,686.448 1944.58,686.448 \n",
       "  1952.23,686.448 1959.87,686.448 1967.52,686.448 1975.16,686.448 1982.8,686.448 1990.45,686.448 1998.09,686.448 2005.74,686.448 2013.38,686.448 2021.03,686.448 \n",
       "  2028.67,686.448 2036.31,686.448 2043.96,686.448 2051.6,686.448 2059.25,686.448 2066.89,686.448 2074.53,686.448 2082.18,686.448 2089.82,686.448 2097.47,686.448 \n",
       "  2105.11,686.448 2112.76,686.448 2112.76,680.818 2112.76,675.188 2112.76,669.559 2112.76,663.929 2112.76,658.299 \n",
       "  2112.76,652.669 2112.76,647.04 2112.76,641.41 2112.76,635.78 2112.76,630.15 2112.76,624.521 2112.76,618.891 2112.76,613.261 2112.76,607.631 2112.76,602.002 \n",
       "  2112.76,596.372 2112.76,590.742 2112.76,585.112 2112.76,579.482 2112.76,573.853 2112.76,568.223 2112.76,562.593 2112.76,556.963 2112.76,551.334 2112.76,545.704 \n",
       "  2112.76,540.074 2112.76,534.444 2112.76,528.815 2112.76,523.185 2112.76,517.555 2112.76,511.925 2112.76,506.296 2112.76,500.666 2112.76,495.036 2112.76,489.406 \n",
       "  2112.76,483.777 2112.76,478.147 2112.76,472.517 2112.76,466.887 2112.76,461.258 2112.76,455.628 2112.76,449.998 2112.76,444.368 2112.76,438.739 2112.76,433.109 \n",
       "  2112.76,427.479 2112.76,421.849 2112.76,416.22 2112.76,410.59 2112.76,404.96 2112.76,399.33 2112.76,393.7 2112.76,388.071 2112.76,382.441 2112.76,376.811 \n",
       "  2112.76,371.181 2112.76,365.552 2112.76,359.922 2112.76,354.292 2112.76,348.662 2112.76,343.033 2112.76,337.403 2112.76,331.773 2112.76,326.143 2112.76,320.514 \n",
       "  2112.76,314.884 2112.76,309.254 2112.76,303.624 2112.76,297.995 2112.76,292.365 2112.76,286.735 2112.76,281.105 2112.76,275.476 2112.76,269.846 2112.76,264.216 \n",
       "  2112.76,258.586 2112.76,252.957 2112.76,249.732 2111.46,247.327 2108.37,241.697 2105.19,236.067 2105.11,235.927 2101.88,230.438 2098.46,224.808 \n",
       "  2097.47,223.214 2094.89,219.178 2091.2,213.548 2089.82,211.494 2087.35,207.918 2083.35,202.289 2082.18,200.675 2079.17,196.659 2074.82,191.029 2074.53,190.671 \n",
       "  2070.24,185.399 2066.89,181.405 2065.47,179.77 2060.46,174.14 2059.25,172.805 2055.19,168.51 2051.6,164.809 2049.66,162.88 2043.96,157.366 2043.83,157.251 \n",
       "  2037.66,151.621 2036.31,150.421 2031.13,145.991 2028.67,143.937 2024.2,140.361 2021.03,137.877 2016.82,134.732 2013.38,132.207 2008.94,129.102 2005.74,126.9 \n",
       "  2000.49,123.472 1998.09,123.472 1990.45,123.472 1982.8,123.472 1975.16,123.472 1967.52,123.472 1959.87,123.472 1952.23,123.472 1944.58,123.472 \n",
       "  1936.94,123.472 1929.29,123.472 1921.65,123.472 1914.01,123.472 1906.36,123.472 1898.72,123.472 1891.07,123.472 1883.43,123.472 1875.79,123.472 1868.14,123.472 \n",
       "  1860.5,123.472 1852.85,123.472 1845.21,123.472 1837.56,123.472 1829.92,123.472 1822.28,123.472 1814.63,123.472 1806.99,123.472 1799.34,123.472 1791.7,123.472 \n",
       "  1784.05,123.472 1776.41,123.472 1768.77,123.472 1761.12,123.472 1753.48,123.472 1745.83,123.472 1738.19,123.472 1730.55,123.472 1722.9,123.472 1715.26,123.472 \n",
       "  1707.61,123.472 1699.97,123.472 1692.32,123.472 1684.68,123.472 1677.04,123.472 1669.39,123.472 1661.75,123.472 1654.1,123.472 1646.46,123.472 1638.81,123.472 \n",
       "  1631.17,123.472 1623.53,123.472 1615.88,123.472 1608.24,123.472 1600.59,123.472 1592.95,123.472 1585.31,123.472 1577.66,123.472 1570.02,123.472 1562.37,123.472 \n",
       "  1554.73,123.472 1547.08,123.472 1539.44,123.472 1531.8,123.472 1524.15,123.472 1516.51,123.472 1508.86,123.472 1501.22,123.472 1493.57,123.472 1485.93,123.472 \n",
       "  1478.29,123.472 1470.64,123.472 1472.31,123.472 1470.64,123.812 1463,125.319 1455.35,126.784 1447.71,128.205 1442.7,129.102 1440.06,129.583 1432.42,130.919 \n",
       "  1424.78,132.204 1417.13,133.436 1409.49,134.612 1408.66,134.732 1401.84,135.742 1394.2,136.814 1386.56,137.825 1378.91,138.775 1371.27,139.661 1364.74,140.361 \n",
       "  1363.62,140.484 1355.98,141.251 1348.33,141.95 1348.33,145.991 1348.33,151.621 1348.33,157.251 1348.33,162.88 1348.33,168.51 1348.33,174.14 \n",
       "  1348.33,179.77 1348.33,185.399 1348.33,191.029 1348.33,196.659 1348.33,202.289 1348.33,207.918 1348.33,213.548 1348.33,219.178 1348.33,224.808 1348.33,230.438 \n",
       "  1348.33,236.067 1348.33,241.697 1348.33,247.327 1348.33,252.957 1348.33,258.586 1348.33,264.216 1348.33,269.846 1348.33,275.476 1348.33,281.105 1348.33,286.735 \n",
       "  1348.33,292.365 1348.33,297.995 1348.33,303.624 1348.33,309.254 1348.33,314.884 1348.33,320.514 1348.33,326.143 1348.33,331.773 1348.33,337.403 1348.33,343.033 \n",
       "  1348.33,348.662 1348.33,354.292 1348.33,359.922 1348.33,365.552 1348.33,371.181 1348.33,376.811 1348.33,382.441 1348.33,388.071 1348.33,393.7 1348.33,399.33 \n",
       "  1348.33,404.96 1348.33,410.59 1348.33,416.22 1348.33,421.849 1348.33,427.479 1348.33,433.109 1348.33,438.739 1348.33,444.368 1348.33,449.998 1348.33,455.628 \n",
       "  1348.33,461.258 1348.33,466.887 1348.33,472.517 1348.33,478.147 1348.33,483.777 1348.33,489.406 1348.33,495.036 1348.33,500.666 1348.33,506.296 1348.33,511.925 \n",
       "  1348.33,517.555 1348.33,523.185 1348.33,528.815 1348.33,534.444 1348.33,540.074 1348.33,545.704 1348.33,551.334 1348.33,556.963 1348.33,562.593 1348.33,568.223 \n",
       "  1348.33,573.853 1348.33,579.482 1348.33,585.112 1348.33,590.742 1348.33,596.372 1348.33,602.002 1348.33,607.631 1348.33,613.261 1348.33,618.891 1348.33,624.521 \n",
       "  1348.33,630.15 1348.33,635.78 1348.33,641.41 1348.33,647.04 1348.33,652.669 1348.33,658.299 1348.33,663.929 1348.33,669.559 1348.33,675.188 1348.33,680.818 \n",
       "  1348.33,686.448 \n",
       "  \"/>\n",
       "<polyline clip-path=\"url(#clip8104)\" style=\"stroke:#000000; stroke-width:4; stroke-opacity:1; fill:none\" points=\"\n",
       "  1432.42,686.448 1440.06,686.448 1447.71,686.448 1455.35,686.448 1463,686.448 1470.64,686.448 1478.29,686.448 1485.93,686.448 1493.57,686.448 1501.22,686.448 \n",
       "  1508.86,686.448 1516.51,686.448 1524.15,686.448 1531.8,686.448 1539.44,686.448 1547.08,686.448 1554.73,686.448 1562.37,686.448 1570.02,686.448 1577.66,686.448 \n",
       "  1585.31,686.448 1592.95,686.448 1600.59,686.448 1608.24,686.448 1615.88,686.448 1623.53,686.448 1631.17,686.448 1638.81,686.448 1646.46,686.448 1654.1,686.448 \n",
       "  1661.75,686.448 1669.39,686.448 1677.04,686.448 1684.68,686.448 1692.32,686.448 1699.97,686.448 1707.61,686.448 1715.26,686.448 1722.9,686.448 1730.55,686.448 \n",
       "  1738.19,686.448 1745.83,686.448 1753.48,686.448 1761.12,686.448 1768.77,686.448 1776.41,686.448 1784.05,686.448 1791.7,686.448 1799.34,686.448 1806.99,686.448 \n",
       "  1814.63,686.448 1822.28,686.448 1829.92,686.448 1837.56,686.448 1845.21,686.448 1852.85,686.448 1860.5,686.448 1868.14,686.448 1875.79,686.448 1883.43,686.448 \n",
       "  1891.07,686.448 1898.72,686.448 1906.36,686.448 1914.01,686.448 1921.65,686.448 1929.29,686.448 1936.94,686.448 1944.58,686.448 1952.23,686.448 1959.87,686.448 \n",
       "  1967.52,686.448 1975.16,686.448 1982.8,686.448 1990.45,686.448 1998.09,686.448 2005.74,686.448 2013.38,686.448 2021.03,686.448 2028.67,686.448 2036.31,686.448 \n",
       "  2043.96,686.448 2051.6,686.448 2059.25,686.448 2066.89,686.448 2074.53,686.448 2082.18,686.448 2089.82,686.448 2097.47,686.448 2105.11,686.448 2112.76,686.448 \n",
       "  2112.76,680.818 2112.76,675.188 2112.76,669.559 2112.76,663.929 2112.76,658.299 2112.76,652.669 2112.76,647.04 \n",
       "  2112.76,641.41 2112.76,635.78 2112.76,630.15 2112.76,624.521 2112.76,618.891 2112.76,613.261 2112.76,607.631 2112.76,602.002 2112.76,596.372 2112.76,590.742 \n",
       "  2112.76,585.112 2112.76,579.482 2112.76,573.853 2112.76,568.223 2112.76,562.593 2112.76,556.963 2112.76,551.334 2112.76,545.704 2112.76,540.074 2112.76,534.444 \n",
       "  2112.76,528.815 2112.76,523.185 2112.76,517.555 2112.76,511.925 2112.76,506.296 2112.76,500.666 2112.76,495.036 2112.76,489.406 2112.76,483.777 2112.76,478.147 \n",
       "  2112.76,472.517 2112.76,466.887 2112.76,461.258 2112.76,455.628 2112.76,449.998 2112.76,444.368 2112.76,438.739 2112.76,433.109 2112.76,427.479 2112.76,421.849 \n",
       "  2112.76,416.22 2112.76,410.59 2112.76,404.96 2112.76,399.33 2112.76,393.7 2112.76,388.071 2112.76,382.441 2112.76,376.811 2112.76,371.181 2112.76,365.552 \n",
       "  2112.76,359.922 2112.76,354.292 2112.76,348.662 2112.76,343.033 2112.76,337.403 2112.76,331.773 2112.76,326.143 2112.76,320.514 2112.76,314.884 2112.76,309.254 \n",
       "  2112.76,303.624 2112.76,297.995 2112.76,292.663 2112.62,292.365 2109.92,286.735 2107.15,281.105 2105.11,277.064 2104.29,275.476 2101.34,269.846 \n",
       "  2098.3,264.216 2097.47,262.704 2095.14,258.586 2091.88,252.957 2089.82,249.495 2088.5,247.327 2084.98,241.697 2082.18,237.334 2081.34,236.067 2077.54,230.438 \n",
       "  2074.53,226.124 2073.59,224.808 2069.46,219.178 2066.89,215.773 2065.16,213.548 2060.66,207.918 2059.25,206.194 2055.94,202.289 2051.6,197.314 2051.01,196.659 \n",
       "  2045.81,191.029 2043.96,189.067 2040.35,185.399 2036.31,181.395 2034.61,179.77 2028.67,174.246 2028.55,174.14 2022.12,168.51 2021.03,167.576 2015.29,162.88 \n",
       "  2013.38,161.345 2008.04,157.251 2005.74,155.52 2000.3,151.621 1998.09,150.07 1992,145.991 1990.45,144.97 1983.07,140.361 1982.8,140.196 1975.16,135.724 \n",
       "  1973.37,134.732 1967.52,131.538 1962.78,129.102 1959.87,127.623 1952.23,123.965 1951.14,123.472 1944.58,123.472 1936.94,123.472 1929.29,123.472 \n",
       "  1921.65,123.472 1914.01,123.472 1906.36,123.472 1898.72,123.472 1891.07,123.472 1883.43,123.472 1875.79,123.472 1868.14,123.472 1860.5,123.472 1852.85,123.472 \n",
       "  1845.21,123.472 1837.56,123.472 1829.92,123.472 1822.28,123.472 1814.63,123.472 1806.99,123.472 1799.34,123.472 1791.7,123.472 1784.05,123.472 1776.41,123.472 \n",
       "  1768.77,123.472 1761.12,123.472 1753.48,123.472 1745.83,123.472 1738.19,123.472 1730.55,123.472 1722.9,123.472 1715.26,123.472 1707.61,123.472 1699.97,123.472 \n",
       "  1692.32,123.472 1684.68,123.472 1677.04,123.472 1669.39,123.472 1661.75,123.472 1654.1,123.472 1646.46,123.472 1638.81,123.472 1631.17,123.472 1623.53,123.472 \n",
       "  1615.88,123.472 1608.24,123.472 1600.59,123.472 1592.95,123.472 1585.31,123.472 1577.66,123.472 1570.02,123.472 1570.82,123.472 1570.02,123.669 1562.37,125.545 \n",
       "  1554.73,127.432 1547.98,129.102 1547.08,129.325 1539.44,131.228 1531.8,133.13 1525.33,134.732 1524.15,135.028 1516.51,136.927 1508.86,138.815 1502.54,140.361 \n",
       "  1501.22,140.691 1493.57,142.559 1485.93,144.407 1479.28,145.991 1478.29,146.232 1470.64,148.044 1463,149.827 1455.35,151.576 1455.15,151.621 1447.71,153.309 \n",
       "  1440.06,155.005 1432.42,156.661 1429.61,157.251 1424.78,158.288 1417.13,159.878 1409.49,161.422 1402.03,162.88 1401.84,162.918 1394.2,164.386 1386.56,165.803 \n",
       "  1378.91,167.166 1371.27,168.474 1371.05,168.51 1363.62,169.749 1355.98,170.967 1348.33,172.127 1348.33,174.14 1348.33,179.77 1348.33,185.399 \n",
       "  1348.33,191.029 1348.33,196.659 1348.33,202.289 1348.33,207.918 1348.33,213.548 1348.33,219.178 1348.33,224.808 1348.33,230.438 1348.33,236.067 1348.33,241.697 \n",
       "  1348.33,247.327 1348.33,252.957 1348.33,258.586 1348.33,264.216 1348.33,269.846 1348.33,275.476 1348.33,281.105 1348.33,286.735 1348.33,292.365 1348.33,297.995 \n",
       "  1348.33,303.624 1348.33,309.254 1348.33,314.884 1348.33,320.514 1348.33,326.143 1348.33,331.773 1348.33,337.403 1348.33,343.033 1348.33,348.662 1348.33,354.292 \n",
       "  1348.33,359.922 1348.33,365.552 1348.33,371.181 1348.33,376.811 1348.33,382.441 1348.33,388.071 1348.33,393.7 1348.33,399.33 1348.33,404.96 1348.33,410.59 \n",
       "  1348.33,416.22 1348.33,421.849 1348.33,427.479 1348.33,433.109 1348.33,438.739 1348.33,444.368 1348.33,449.998 1348.33,455.628 1348.33,461.258 1348.33,466.887 \n",
       "  1348.33,472.517 1348.33,478.147 1348.33,483.777 1348.33,489.406 1348.33,495.036 1348.33,500.666 1348.33,506.296 1348.33,511.925 1348.33,517.555 1348.33,523.185 \n",
       "  1348.33,528.815 1348.33,534.444 1348.33,540.074 1348.33,545.704 1348.33,551.334 1348.33,556.963 1348.33,562.593 1348.33,568.223 1348.33,573.853 1348.33,579.482 \n",
       "  1348.33,585.112 1348.33,590.742 1348.33,596.372 1348.33,602.002 1348.33,607.631 1348.33,613.261 1348.33,618.891 1348.33,624.521 1348.33,630.15 1348.33,635.78 \n",
       "  1348.33,641.41 1348.33,647.04 1348.33,652.669 1348.33,658.299 1348.33,663.929 1348.33,669.559 1348.33,665.874 1355.98,667.836 1362.69,669.559 1363.62,669.791 \n",
       "  1371.27,671.715 1378.91,673.638 1385.05,675.188 1386.56,675.555 1394.2,677.45 1401.84,679.345 1407.75,680.818 1409.49,681.237 1417.13,683.112 1424.78,684.991 \n",
       "  1430.67,686.448 1424.78,686.448 1432.42,686.448 \n",
       "  \"/>\n",
       "<polyline clip-path=\"url(#clip8104)\" style=\"stroke:#000000; stroke-width:4; stroke-opacity:1; fill:none\" points=\"\n",
       "  1531.8,686.448 1539.44,686.448 1547.08,686.448 1554.73,686.448 1562.37,686.448 1570.02,686.448 1577.66,686.448 1585.31,686.448 1592.95,686.448 1600.59,686.448 \n",
       "  1608.24,686.448 1615.88,686.448 1623.53,686.448 1631.17,686.448 1638.81,686.448 1646.46,686.448 1654.1,686.448 1661.75,686.448 1669.39,686.448 1677.04,686.448 \n",
       "  1684.68,686.448 1692.32,686.448 1699.97,686.448 1707.61,686.448 1715.26,686.448 1722.9,686.448 1730.55,686.448 1738.19,686.448 1745.83,686.448 1753.48,686.448 \n",
       "  1761.12,686.448 1768.77,686.448 1776.41,686.448 1784.05,686.448 1791.7,686.448 1799.34,686.448 1806.99,686.448 1814.63,686.448 1822.28,686.448 1829.92,686.448 \n",
       "  1837.56,686.448 1845.21,686.448 1852.85,686.448 1860.5,686.448 1868.14,686.448 1875.79,686.448 1883.43,686.448 1891.07,686.448 1898.72,686.448 1906.36,686.448 \n",
       "  1914.01,686.448 1921.65,686.448 1929.29,686.448 1936.94,686.448 1944.58,686.448 1952.23,686.448 1959.87,686.448 1967.52,686.448 1975.16,686.448 1982.8,686.448 \n",
       "  1990.45,686.448 1998.09,686.448 2005.74,686.448 2013.38,686.448 2021.03,686.448 2028.67,686.448 2036.31,686.448 2043.96,686.448 2051.6,686.448 2059.25,686.448 \n",
       "  2066.89,686.448 2074.53,686.448 2082.18,686.448 2089.82,686.448 2097.47,686.448 2105.11,686.448 2112.76,686.448 \n",
       "  2112.76,680.818 2112.76,675.188 2112.76,669.559 2112.76,663.929 2112.76,658.299 2112.76,652.669 2112.76,647.04 2112.76,641.41 2112.76,635.78 2112.76,630.15 \n",
       "  2112.76,624.521 2112.76,618.891 2112.76,613.261 2112.76,607.631 2112.76,602.002 2112.76,596.372 2112.76,590.742 2112.76,585.112 2112.76,579.482 2112.76,573.853 \n",
       "  2112.76,568.223 2112.76,562.593 2112.76,556.963 2112.76,551.334 2112.76,545.704 2112.76,540.074 2112.76,534.444 2112.76,528.815 2112.76,523.185 2112.76,517.555 \n",
       "  2112.76,511.925 2112.76,506.296 2112.76,500.666 2112.76,495.036 2112.76,489.406 2112.76,483.777 2112.76,478.147 2112.76,472.517 2112.76,466.887 2112.76,461.258 \n",
       "  2112.76,455.628 2112.76,449.998 2112.76,444.368 2112.76,438.739 2112.76,433.109 2112.76,427.479 2112.76,421.849 2112.76,416.22 2112.76,410.59 2112.76,404.96 \n",
       "  2112.76,399.33 2112.76,393.7 2112.76,388.071 2112.76,382.441 2112.76,376.811 2112.76,371.181 2112.76,365.552 2112.76,359.922 2112.76,354.292 2112.76,348.662 \n",
       "  2112.76,343.033 2112.76,338.698 2112.23,337.403 2109.89,331.773 2107.5,326.143 2105.11,320.668 2105.04,320.514 2102.5,314.884 2099.9,309.254 \n",
       "  2097.47,304.135 2097.22,303.624 2094.44,297.995 2091.58,292.365 2089.82,288.995 2088.62,286.735 2085.55,281.105 2082.39,275.476 2082.18,275.115 2079.08,269.846 \n",
       "  2075.67,264.216 2074.53,262.392 2072.11,258.586 2068.41,252.957 2066.89,250.696 2064.56,247.327 2060.54,241.697 2059.25,239.924 2056.34,236.067 2051.97,230.438 \n",
       "  2051.6,229.979 2047.36,224.808 2043.96,220.783 2042.55,219.178 2037.5,213.548 2036.31,212.257 2032.18,207.918 2028.67,204.338 2026.58,202.289 2021.03,196.97 \n",
       "  2020.69,196.659 2014.43,191.029 2013.38,190.105 2007.8,185.399 2005.74,183.701 2000.75,179.77 1998.09,177.721 1993.23,174.14 1990.45,172.132 1985.18,168.51 \n",
       "  1982.8,166.905 1976.53,162.88 1975.16,162.017 1967.52,157.446 1967.17,157.251 1959.87,153.168 1956.94,151.621 1952.23,149.169 1945.73,145.991 1944.58,145.436 \n",
       "  1936.94,141.949 1933.22,140.361 1929.29,138.7 1921.65,135.678 1919.09,134.732 1914.01,132.869 1906.36,130.268 1902.67,129.102 1898.72,127.865 1891.07,125.651 \n",
       "  1883.43,123.624 1882.81,123.472 1875.79,123.472 1868.14,123.472 1860.5,123.472 1852.85,123.472 1845.21,123.472 1837.56,123.472 1829.92,123.472 \n",
       "  1822.28,123.472 1814.63,123.472 1806.99,123.472 1799.34,123.472 1791.7,123.472 1784.05,123.472 1776.41,123.472 1768.77,123.472 1761.12,123.472 1753.48,123.472 \n",
       "  1745.83,123.472 1738.19,123.472 1730.55,123.472 1722.9,123.472 1715.26,123.472 1707.61,123.472 1699.97,123.472 1692.32,123.472 1684.68,123.472 1677.04,123.472 \n",
       "  1669.39,123.472 1661.75,123.472 1664.71,123.472 1661.75,124.029 1654.1,125.529 1646.46,127.094 1638.81,128.72 1637.07,129.102 1631.17,130.404 1623.53,132.142 \n",
       "  1615.88,133.929 1612.53,134.732 1608.24,135.765 1600.59,137.646 1592.95,139.566 1589.83,140.361 1585.31,141.524 1577.66,143.518 1570.02,145.539 1568.32,145.991 \n",
       "  1562.37,147.592 1554.73,149.668 1547.59,151.621 1547.08,151.762 1539.44,153.883 1531.8,156.014 1527.35,157.251 1524.15,158.158 1516.51,160.317 1508.86,162.475 \n",
       "  1507.41,162.88 1501.22,164.647 1493.57,166.817 1487.57,168.51 1485.93,168.983 1478.29,171.157 1470.64,173.315 1467.68,174.14 1463,175.474 1455.35,177.624 \n",
       "  1447.71,179.751 1447.64,179.77 1440.06,181.885 1432.42,183.992 1427.22,185.399 1424.78,186.081 1417.13,188.164 1409.49,190.213 1406.37,191.029 1401.84,192.252 \n",
       "  1394.2,194.269 1386.56,196.249 1384.92,196.659 1378.91,198.224 1371.27,200.167 1363.62,202.068 1362.7,202.289 1355.98,203.968 1348.33,205.83 1348.33,207.918 \n",
       "  1348.33,213.548 1348.33,219.178 1348.33,224.808 1348.33,230.438 1348.33,236.067 1348.33,241.697 1348.33,247.327 1348.33,252.957 1348.33,258.586 \n",
       "  1348.33,264.216 1348.33,269.846 1348.33,275.476 1348.33,281.105 1348.33,286.735 1348.33,292.365 1348.33,297.995 1348.33,303.624 1348.33,309.254 1348.33,314.884 \n",
       "  1348.33,320.514 1348.33,326.143 1348.33,331.773 1348.33,337.403 1348.33,343.033 1348.33,348.662 1348.33,354.292 1348.33,359.922 1348.33,365.552 1348.33,371.181 \n",
       "  1348.33,376.811 1348.33,382.441 1348.33,388.071 1348.33,393.7 1348.33,399.33 1348.33,404.96 1348.33,410.59 1348.33,416.22 1348.33,421.849 1348.33,427.479 \n",
       "  1348.33,433.109 1348.33,438.739 1348.33,444.368 1348.33,449.998 1348.33,455.628 1348.33,461.258 1348.33,466.887 1348.33,472.517 1348.33,478.147 1348.33,483.777 \n",
       "  1348.33,489.406 1348.33,495.036 1348.33,500.666 1348.33,506.296 1348.33,511.925 1348.33,517.555 1348.33,523.185 1348.33,528.815 1348.33,534.444 1348.33,540.074 \n",
       "  1348.33,545.704 1348.33,551.334 1348.33,556.963 1348.33,562.593 1348.33,568.223 1348.33,573.853 1348.33,579.482 1348.33,585.112 1348.33,590.742 1348.33,596.372 \n",
       "  1348.33,602.002 1348.33,607.631 1348.33,613.261 1348.33,618.891 1348.33,624.521 1348.33,630.15 1348.33,625.901 1355.98,628.93 1359.05,630.15 1363.62,631.895 \n",
       "  1371.27,634.81 1373.8,635.78 1378.91,637.663 1386.56,640.473 1389.1,641.41 1394.2,643.225 1401.84,645.937 1404.94,647.04 1409.49,648.601 1417.13,651.225 \n",
       "  1421.34,652.669 1424.78,653.811 1432.42,656.355 1438.28,658.299 1440.06,658.873 1447.71,661.346 1455.35,663.804 1455.74,663.929 1463,666.215 1470.64,668.612 \n",
       "  1473.65,669.559 1478.29,670.979 1485.93,673.324 1492.02,675.188 1493.57,675.653 1501.22,677.954 1508.86,680.247 1510.76,680.818 1516.51,682.516 1524.15,684.775 \n",
       "  1529.81,686.448 1524.15,686.448 1531.8,686.448 \n",
       "  \"/>\n",
       "<polyline clip-path=\"url(#clip8104)\" style=\"stroke:#000000; stroke-width:4; stroke-opacity:1; fill:none\" points=\"\n",
       "  1608.24,686.448 1615.88,686.448 1623.53,686.448 1631.17,686.448 1638.81,686.448 1646.46,686.448 1654.1,686.448 1661.75,686.448 1669.39,686.448 1677.04,686.448 \n",
       "  1684.68,686.448 1692.32,686.448 1699.97,686.448 1707.61,686.448 1715.26,686.448 1722.9,686.448 1730.55,686.448 1738.19,686.448 1745.83,686.448 1753.48,686.448 \n",
       "  1761.12,686.448 1768.77,686.448 1776.41,686.448 1784.05,686.448 1791.7,686.448 1799.34,686.448 1806.99,686.448 1814.63,686.448 1822.28,686.448 1829.92,686.448 \n",
       "  1837.56,686.448 1845.21,686.448 1852.85,686.448 1860.5,686.448 1868.14,686.448 1875.79,686.448 1883.43,686.448 1891.07,686.448 1898.72,686.448 1906.36,686.448 \n",
       "  1914.01,686.448 1921.65,686.448 1929.29,686.448 1936.94,686.448 1944.58,686.448 1952.23,686.448 1959.87,686.448 1967.52,686.448 1975.16,686.448 1982.8,686.448 \n",
       "  1990.45,686.448 1998.09,686.448 2005.74,686.448 2013.38,686.448 2021.03,686.448 2028.67,686.448 2036.31,686.448 2043.96,686.448 2051.6,686.448 2059.25,686.448 \n",
       "  2066.89,686.448 2074.53,686.448 2082.18,686.448 2089.82,686.448 2097.47,686.448 2105.11,686.448 2112.76,686.448 \n",
       "  2112.76,680.818 2112.76,675.188 2112.76,669.559 2112.76,663.929 2112.76,658.299 2112.76,652.669 2112.76,647.04 2112.76,641.41 2112.76,635.78 2112.76,630.15 \n",
       "  2112.76,624.521 2112.76,618.891 2112.76,613.261 2112.76,607.631 2112.76,602.002 2112.76,596.372 2112.76,590.742 2112.76,585.112 2112.76,579.482 2112.76,573.853 \n",
       "  2112.76,568.223 2112.76,562.593 2112.76,556.963 2112.76,551.334 2112.76,545.704 2112.76,540.074 2112.76,534.444 2112.76,528.815 2112.76,523.185 2112.76,517.555 \n",
       "  2112.76,511.925 2112.76,506.296 2112.76,500.666 2112.76,495.036 2112.76,489.406 2112.76,483.777 2112.76,478.147 2112.76,472.517 2112.76,466.887 2112.76,461.258 \n",
       "  2112.76,455.628 2112.76,449.998 2112.76,444.368 2112.76,438.739 2112.76,433.109 2112.76,427.479 2112.76,421.849 2112.76,416.22 2112.76,410.59 2112.76,404.96 \n",
       "  2112.76,399.33 2112.76,393.7 2112.76,391.97 2111.45,388.071 2109.53,382.441 2107.57,376.811 2105.55,371.181 2105.11,369.98 2103.48,365.552 \n",
       "  2101.34,359.922 2099.16,354.292 2097.47,350.053 2096.91,348.662 2094.58,343.033 2092.18,337.403 2089.82,332.001 2089.72,331.773 2087.16,326.143 2084.52,320.514 \n",
       "  2082.18,315.656 2081.8,314.884 2078.96,309.254 2076.04,303.624 2074.53,300.814 2073,297.995 2069.83,292.365 2066.89,287.287 2066.56,286.735 2063.14,281.105 \n",
       "  2059.59,275.476 2059.25,274.935 2055.88,269.846 2052.02,264.216 2051.6,263.617 2047.97,258.586 2043.96,253.213 2043.76,252.957 2039.32,247.327 2036.31,243.628 \n",
       "  2034.69,241.697 2029.82,236.067 2028.67,234.766 2024.69,230.438 2021.03,226.558 2019.31,224.808 2013.63,219.178 2013.38,218.938 2007.6,213.548 2005.74,211.857 \n",
       "  2001.22,207.918 1998.09,205.262 1994.44,202.289 1990.45,199.114 1987.22,196.659 1982.8,193.378 1979.49,191.029 1975.16,188.022 1971.19,185.399 1967.52,183.019 \n",
       "  1962.23,179.77 1959.87,178.346 1952.51,174.14 1952.23,173.981 1944.58,169.905 1941.8,168.51 1936.94,166.103 1929.99,162.88 1929.29,162.56 1921.65,159.259 \n",
       "  1916.66,157.251 1914.01,156.194 1906.36,153.35 1901.35,151.621 1898.72,150.72 1891.07,148.292 1883.43,146.064 1883.16,145.991 1875.79,144.02 1868.14,142.161 \n",
       "  1860.5,140.48 1859.9,140.361 1852.85,138.965 1845.21,137.617 1837.56,136.429 1829.92,135.398 1824.13,134.732 1822.28,134.518 1814.63,133.783 1806.99,133.192 \n",
       "  1799.34,132.74 1791.7,132.424 1784.05,132.241 1776.41,132.186 1768.77,132.256 1761.12,132.449 1753.48,132.761 1745.83,133.189 1738.19,133.729 1730.55,134.379 \n",
       "  1726.98,134.732 1722.9,135.135 1715.26,135.994 1707.61,136.953 1699.97,138.009 1692.32,139.16 1684.92,140.361 1684.68,140.401 1677.04,141.73 1669.39,143.144 \n",
       "  1661.75,144.639 1655.17,145.991 1654.1,146.212 1646.46,147.863 1638.81,149.585 1631.17,151.374 1630.15,151.621 1623.53,153.234 1615.88,155.155 1608.24,157.134 \n",
       "  1607.8,157.251 1600.59,159.177 1592.95,161.27 1587.19,162.88 1585.31,163.414 1577.66,165.613 1570.02,167.852 1567.79,168.51 1562.37,170.14 1554.73,172.468 \n",
       "  1549.29,174.14 1547.08,174.832 1539.44,177.24 1531.8,179.672 1531.49,179.77 1524.15,182.151 1516.51,184.648 1514.2,185.399 1508.86,187.184 1501.22,189.741 \n",
       "  1497.36,191.029 1493.57,192.325 1485.93,194.936 1480.87,196.659 1478.29,197.564 1470.64,200.224 1464.69,202.289 1463,202.893 1455.35,205.597 1448.77,207.918 \n",
       "  1447.71,208.305 1440.06,211.053 1433.09,213.548 1432.42,213.798 1424.78,216.59 1417.65,219.178 1417.13,219.375 1409.49,222.212 1402.45,224.808 1401.84,225.041 \n",
       "  1394.2,227.927 1387.5,230.438 1386.56,230.809 1378.91,233.75 1372.83,236.067 1371.27,236.695 1363.62,239.701 1358.49,241.697 1355.98,242.726 1348.33,245.809 \n",
       "  1348.33,247.327 1348.33,252.957 1348.33,258.586 1348.33,264.216 1348.33,269.846 1348.33,275.476 1348.33,281.105 1348.33,286.735 1348.33,292.365 \n",
       "  1348.33,297.995 1348.33,303.624 1348.33,309.254 1348.33,314.884 1348.33,320.514 1348.33,326.143 1348.33,331.773 1348.33,337.403 1348.33,343.033 1348.33,348.662 \n",
       "  1348.33,354.292 1348.33,359.922 1348.33,365.552 1348.33,371.181 1348.33,376.811 1348.33,382.441 1348.33,388.071 1348.33,393.7 1348.33,399.33 1348.33,404.96 \n",
       "  1348.33,410.59 1348.33,416.22 1348.33,421.849 1348.33,427.479 1348.33,433.109 1348.33,438.739 1348.33,444.368 1348.33,449.998 1348.33,455.628 1348.33,461.258 \n",
       "  1348.33,466.887 1348.33,472.517 1348.33,478.147 1348.33,483.777 1348.33,489.406 1348.33,495.036 1348.33,500.666 1348.33,506.296 1348.33,511.925 1348.33,517.555 \n",
       "  1348.33,523.185 1348.33,528.815 1348.33,534.444 1348.33,540.074 1348.33,545.704 1348.33,551.334 1348.33,556.963 1348.33,562.593 1348.33,568.223 1348.33,573.853 \n",
       "  1348.33,579.482 1348.33,578.576 1349.76,579.482 1355.98,583.267 1359,585.112 1363.62,587.805 1368.65,590.742 1371.27,592.202 1378.73,596.372 1378.91,596.469 \n",
       "  1386.56,600.58 1389.2,602.002 1394.2,604.576 1400.15,607.631 1401.84,608.467 1409.49,612.239 1411.56,613.261 1417.13,615.903 1423.47,618.891 1424.78,619.484 \n",
       "  1432.42,622.957 1435.87,624.521 1440.06,626.348 1447.71,629.664 1448.83,630.15 1455.35,632.886 1462.32,635.78 1463,636.053 1470.64,639.131 1476.35,641.41 \n",
       "  1478.29,642.159 1485.93,645.113 1490.95,647.04 1493.57,648.018 1501.22,650.86 1506.11,652.669 1508.86,653.657 1516.51,656.399 1521.84,658.299 1524.15,659.101 \n",
       "  1531.8,661.752 1538.12,663.929 1539.44,664.372 1547.08,666.943 1554.73,669.49 1554.93,669.559 1562.37,671.992 1570.02,674.471 1572.23,675.188 1577.66,676.917 \n",
       "  1585.31,679.338 1590,680.818 1592.95,681.735 1600.59,684.107 1608.19,686.448 1600.59,686.448 1608.24,686.448 \n",
       "  \"/>\n",
       "<polyline clip-path=\"url(#clip8104)\" style=\"stroke:#000000; stroke-width:4; stroke-opacity:1; fill:none\" points=\"\n",
       "  1684.68,686.448 1692.32,686.448 1699.97,686.448 1707.61,686.448 1715.26,686.448 1722.9,686.448 1730.55,686.448 1738.19,686.448 1745.83,686.448 1753.48,686.448 \n",
       "  1761.12,686.448 1768.77,686.448 1776.41,686.448 1784.05,686.448 1791.7,686.448 1799.34,686.448 1806.99,686.448 1814.63,686.448 1822.28,686.448 1829.92,686.448 \n",
       "  1837.56,686.448 1845.21,686.448 1852.85,686.448 1860.5,686.448 1868.14,686.448 1875.79,686.448 1883.43,686.448 1891.07,686.448 1898.72,686.448 1906.36,686.448 \n",
       "  1914.01,686.448 1921.65,686.448 1929.29,686.448 1936.94,686.448 1944.58,686.448 1952.23,686.448 1959.87,686.448 1967.52,686.448 1975.16,686.448 1982.8,686.448 \n",
       "  1990.45,686.448 1998.09,686.448 2005.74,686.448 2013.38,686.448 2021.03,686.448 2028.67,686.448 2036.31,686.448 2043.96,686.448 2051.6,686.448 2059.25,686.448 \n",
       "  2066.89,686.448 2074.53,686.448 2082.18,686.448 2089.82,686.448 2097.47,686.448 2105.11,686.448 2112.76,686.448 \n",
       "  2112.76,680.818 2112.76,675.188 2112.76,669.559 2112.76,663.929 2112.76,658.299 2112.76,652.669 2112.76,647.04 2112.76,641.41 2112.76,635.78 2112.76,630.15 \n",
       "  2112.76,624.521 2112.76,618.891 2112.76,613.261 2112.76,607.631 2112.76,602.002 2112.76,596.372 2112.76,590.742 2112.76,585.112 2112.76,579.482 2112.76,573.853 \n",
       "  2112.76,568.223 2112.76,562.593 2112.76,556.963 2112.76,551.334 2112.76,545.704 2112.76,540.074 2112.76,534.444 2112.76,528.815 2112.76,523.185 2112.76,517.555 \n",
       "  2112.76,511.925 2112.76,506.296 2112.76,500.666 2112.76,495.036 2112.76,489.406 2112.76,483.777 2112.76,478.147 2112.76,472.517 2112.76,467.091 \n",
       "  2112.71,466.887 2111.49,461.258 2110.22,455.628 2108.91,449.998 2107.57,444.368 2106.18,438.739 2105.11,434.527 2104.75,433.109 2103.27,427.479 2101.74,421.849 \n",
       "  2100.17,416.22 2098.54,410.59 2097.47,406.979 2096.86,404.96 2095.13,399.33 2093.33,393.7 2091.48,388.071 2089.82,383.179 2089.57,382.441 2087.58,376.811 \n",
       "  2085.53,371.181 2083.41,365.552 2082.18,362.374 2081.22,359.922 2078.93,354.292 2076.57,348.662 2074.53,343.962 2074.13,343.033 2071.57,337.403 2068.93,331.773 \n",
       "  2066.89,327.56 2066.19,326.143 2063.33,320.514 2060.36,314.884 2059.25,312.833 2057.26,309.254 2054.03,303.624 2051.6,299.523 2050.67,297.995 2047.15,292.365 \n",
       "  2043.96,287.432 2043.49,286.735 2039.64,281.105 2036.31,276.403 2035.64,275.476 2031.42,269.846 2028.67,266.3 2027,264.216 2022.36,258.586 2021.03,257.005 \n",
       "  2017.47,252.957 2013.38,248.432 2012.34,247.327 2006.92,241.697 2005.74,240.506 2001.17,236.067 1998.09,233.161 1995.09,230.438 1990.45,226.34 1988.64,224.808 \n",
       "  1982.8,219.997 1981.76,219.178 1975.16,214.093 1974.42,213.548 1967.52,208.594 1966.53,207.918 1959.87,203.467 1958.01,202.289 1952.23,198.688 1948.78,196.659 \n",
       "  1944.58,194.231 1938.71,191.029 1936.94,190.077 1929.29,186.209 1927.59,185.399 1921.65,182.61 1915.17,179.77 1914.01,179.266 1906.36,176.165 1900.99,174.14 \n",
       "  1898.72,173.294 1891.07,170.645 1884.39,168.51 1883.43,168.207 1875.79,165.971 1868.14,163.932 1863.81,162.88 1860.5,162.081 1852.85,160.411 1845.21,158.919 \n",
       "  1837.56,157.598 1835.28,157.251 1829.92,156.442 1822.28,155.446 1814.63,154.608 1806.99,153.923 1799.34,153.386 1791.7,152.994 1784.05,152.743 1776.41,152.63 \n",
       "  1768.77,152.651 1761.12,152.804 1753.48,153.085 1745.83,153.49 1738.19,154.018 1730.55,154.665 1722.9,155.428 1715.26,156.304 1707.92,157.251 1707.61,157.29 \n",
       "  1699.97,158.385 1692.32,159.585 1684.68,160.886 1677.04,162.285 1673.98,162.88 1669.39,163.783 1661.75,165.376 1654.1,167.058 1647.82,168.51 1646.46,168.827 \n",
       "  1638.81,170.688 1631.17,172.629 1625.44,174.14 1623.53,174.651 1615.88,176.757 1608.24,178.933 1605.38,179.77 1600.59,181.19 1592.95,183.518 1586.92,185.399 \n",
       "  1585.31,185.913 1577.66,188.385 1570.02,190.913 1569.67,191.029 1562.37,193.523 1554.73,196.183 1553.37,196.659 1547.08,198.92 1539.44,201.707 1537.85,202.289 \n",
       "  1531.8,204.57 1524.15,207.481 1523,207.918 1516.51,210.47 1508.86,213.501 1508.74,213.548 1501.22,216.62 1495,219.178 1493.57,219.783 1485.93,223.027 \n",
       "  1481.74,224.808 1478.29,226.331 1470.64,229.7 1468.96,230.438 1463,233.159 1456.63,236.067 1455.35,236.675 1447.71,240.292 1444.73,241.697 1440.06,243.995 \n",
       "  1433.29,247.327 1432.42,247.776 1424.78,251.683 1422.27,252.957 1417.13,255.703 1411.71,258.586 1409.49,259.835 1401.84,264.099 1401.63,264.216 1394.2,268.554 \n",
       "  1391.97,269.846 1386.56,273.18 1382.8,275.476 1378.91,278.006 1374.11,281.105 1371.27,283.069 1365.91,286.735 1363.62,288.414 1358.19,292.365 1355.98,294.099 \n",
       "  1350.96,297.995 1348.33,300.198 1348.33,303.624 1348.33,309.254 1348.33,314.884 1348.33,320.514 1348.33,326.143 1348.33,331.773 1348.33,337.403 \n",
       "  1348.33,343.033 1348.33,348.662 1348.33,354.292 1348.33,359.922 1348.33,365.552 1348.33,371.181 1348.33,376.811 1348.33,382.441 1348.33,388.071 1348.33,393.7 \n",
       "  1348.33,399.33 1348.33,404.96 1348.33,410.59 1348.33,416.22 1348.33,421.849 1348.33,427.479 1348.33,433.109 1348.33,438.739 1348.33,444.368 1348.33,449.998 \n",
       "  1348.33,455.628 1348.33,461.258 1348.33,466.887 1348.33,472.517 1348.33,478.147 1348.33,483.777 1348.33,489.406 1348.33,495.036 1348.33,500.666 1348.33,506.296 \n",
       "  1348.33,511.925 1348.33,517.555 1348.33,515.547 1350.09,517.555 1355.34,523.185 1355.98,523.833 1360.82,528.815 1363.62,531.532 1366.59,534.444 1371.27,538.779 \n",
       "  1372.65,540.074 1378.91,545.62 1379.01,545.704 1385.64,551.334 1386.56,552.068 1392.6,556.963 1394.2,558.193 1399.89,562.593 1401.84,564.027 1407.53,568.223 \n",
       "  1409.49,569.596 1415.54,573.853 1417.13,574.923 1423.92,579.482 1424.78,580.029 1432.42,584.928 1432.71,585.112 1440.06,589.623 1441.89,590.742 1447.71,594.145 \n",
       "  1451.53,596.372 1455.35,598.51 1461.63,602.002 1463,602.73 1470.64,606.798 1472.21,607.631 1478.29,610.727 1483.3,613.261 1485.93,614.542 1493.57,618.241 \n",
       "  1494.92,618.891 1501.22,621.818 1507.1,624.521 1508.86,625.306 1516.51,628.687 1519.85,630.15 1524.15,631.979 1531.8,635.192 1533.2,635.78 1539.44,638.312 \n",
       "  1547.08,641.371 1547.18,641.41 1554.73,644.339 1561.79,647.04 1562.37,647.256 1570.02,650.093 1577.06,652.669 1577.66,652.883 1585.31,655.603 1592.95,658.281 \n",
       "  1593,658.299 1600.59,660.895 1608.24,663.468 1609.62,663.929 1615.88,665.99 1623.53,668.471 1626.92,669.559 1631.17,670.909 1638.81,673.307 1644.9,675.188 \n",
       "  1646.46,675.669 1654.1,677.992 1661.75,680.283 1663.55,680.818 1669.39,682.541 1677.04,684.768 1682.88,686.448 1677.04,686.448 1684.68,686.448 \n",
       "  \"/>\n",
       "<polyline clip-path=\"url(#clip8104)\" style=\"stroke:#000000; stroke-width:4; stroke-opacity:1; fill:none\" points=\"\n",
       "  1776.41,686.448 1784.05,686.448 1791.7,686.448 1799.34,686.448 1806.99,686.448 1814.63,686.448 1822.28,686.448 1829.92,686.448 1837.56,686.448 1845.21,686.448 \n",
       "  1852.85,686.448 1860.5,686.448 1868.14,686.448 1875.79,686.448 1883.43,686.448 1891.07,686.448 1898.72,686.448 1906.36,686.448 1914.01,686.448 1921.65,686.448 \n",
       "  1929.29,686.448 1936.94,686.448 1944.58,686.448 1952.23,686.448 1959.87,686.448 1967.52,686.448 1975.16,686.448 1982.8,686.448 1990.45,686.448 1998.09,686.448 \n",
       "  2005.74,686.448 2013.38,686.448 2021.03,686.448 2028.67,686.448 2033.23,686.448 2036.31,684.67 2042.22,680.818 2043.96,679.608 2049.63,675.188 \n",
       "  2051.6,673.537 2055.89,669.559 2059.25,666.172 2061.27,663.929 2065.95,658.299 2066.89,657.07 2070.01,652.669 2073.61,647.04 2074.53,645.475 2076.77,641.41 \n",
       "  2079.58,635.78 2082.08,630.15 2082.18,629.906 2084.27,624.521 2086.23,618.891 2087.96,613.261 2089.5,607.631 2089.82,606.325 2090.84,602.002 2092.01,596.372 \n",
       "  2093.03,590.742 2093.9,585.112 2094.65,579.482 2095.27,573.853 2095.77,568.223 2096.17,562.593 2096.46,556.963 2096.66,551.334 2096.76,545.704 2096.78,540.074 \n",
       "  2096.71,534.444 2096.56,528.815 2096.34,523.185 2096.04,517.555 2095.67,511.925 2095.23,506.296 2094.73,500.666 2094.15,495.036 2093.52,489.406 2092.82,483.777 \n",
       "  2092.05,478.147 2091.23,472.517 2090.34,466.887 2089.82,463.838 2089.39,461.258 2088.37,455.628 2087.29,449.998 2086.15,444.368 2084.94,438.739 2083.68,433.109 \n",
       "  2082.34,427.479 2082.18,426.818 2080.94,421.849 2079.46,416.22 2077.92,410.59 2076.3,404.96 2074.62,399.33 2074.53,399.06 2072.84,393.7 2070.99,388.071 \n",
       "  2069.07,382.441 2067.06,376.811 2066.89,376.36 2064.94,371.181 2062.74,365.552 2060.45,359.922 2059.25,357.067 2058.05,354.292 2055.54,348.662 2052.93,343.033 \n",
       "  2051.6,340.261 2050.2,337.403 2047.34,331.773 2044.36,326.143 2043.96,325.403 2041.22,320.514 2037.96,314.884 2036.31,312.147 2034.53,309.254 2030.94,303.624 \n",
       "  2028.67,300.194 2027.17,297.995 2023.22,292.365 2021.03,289.351 2019.06,286.735 2014.7,281.105 2013.38,279.458 2010.09,275.476 2005.74,270.392 2005.25,269.846 \n",
       "  2000.12,264.216 1998.09,262.066 1994.69,258.586 1990.45,254.379 1988.95,252.957 1982.87,247.327 1982.8,247.268 1976.36,241.697 1975.16,240.69 1969.41,236.067 \n",
       "  1967.52,234.584 1961.96,230.438 1959.87,228.911 1953.95,224.808 1952.23,223.637 1945.29,219.178 1944.58,218.733 1936.94,214.174 1935.83,213.548 1929.29,209.936 \n",
       "  1925.41,207.918 1921.65,205.998 1914.01,202.341 1913.89,202.289 1906.36,198.955 1900.78,196.659 1898.72,195.821 1891.07,192.93 1885.64,191.029 1883.43,190.267 \n",
       "  1875.79,187.827 1868.14,185.597 1867.4,185.399 1860.5,183.572 1852.85,181.743 1845.21,180.104 1843.47,179.77 1837.56,178.648 1829.92,177.371 1822.28,176.266 \n",
       "  1814.63,175.328 1806.99,174.555 1801.83,174.14 1799.34,173.94 1791.7,173.482 1784.05,173.175 1776.41,173.017 1768.77,173.003 1761.12,173.131 1753.48,173.398 \n",
       "  1745.83,173.8 1740.98,174.14 1738.19,174.336 1730.55,175.002 1722.9,175.796 1715.26,176.715 1707.61,177.756 1699.97,178.916 1694.85,179.77 1692.32,180.194 \n",
       "  1684.68,181.591 1677.04,183.099 1669.39,184.716 1666.35,185.399 1661.75,186.445 1654.1,188.283 1646.46,190.221 1643.41,191.029 1638.81,192.268 1631.17,194.418 \n",
       "  1623.53,196.659 1623.53,196.66 1615.88,199.017 1608.24,201.461 1605.72,202.289 1600.59,204.01 1592.95,206.653 1589.38,207.918 1585.31,209.395 1577.66,212.234 \n",
       "  1574.19,213.548 1570.02,215.173 1562.37,218.206 1559.96,219.178 1554.73,221.348 1547.08,224.576 1546.54,224.808 1539.44,227.932 1533.83,230.438 1531.8,231.377 \n",
       "  1524.15,234.941 1521.76,236.067 1516.51,238.627 1510.27,241.697 1508.86,242.42 1501.22,246.354 1499.34,247.327 1493.57,250.433 1488.92,252.957 1485.93,254.65 \n",
       "  1479.01,258.586 1478.29,259.02 1470.64,263.58 1469.58,264.216 1463,268.344 1460.6,269.846 1455.35,273.323 1452.1,275.476 1447.71,278.548 1444.04,281.105 \n",
       "  1440.06,284.056 1436.43,286.735 1432.42,289.895 1429.26,292.365 1424.78,296.123 1422.53,297.995 1417.13,302.815 1416.22,303.624 1410.32,309.254 1409.49,310.111 \n",
       "  1404.81,314.884 1401.84,318.185 1399.73,320.514 1395.04,326.143 1394.2,327.243 1390.71,331.773 1386.79,337.403 1386.56,337.771 1383.19,343.033 1379.98,348.662 \n",
       "  1378.91,350.771 1377.1,354.292 1374.55,359.922 1372.35,365.552 1371.27,368.798 1370.46,371.181 1368.85,376.811 1367.56,382.441 1366.56,388.071 1365.85,393.7 \n",
       "  1365.41,399.33 1365.24,404.96 1365.33,410.59 1365.68,416.22 1366.27,421.849 1367.11,427.479 1368.2,433.109 1369.53,438.739 1371.11,444.368 1371.27,444.867 \n",
       "  1372.89,449.998 1374.9,455.628 1377.17,461.258 1378.91,465.157 1379.67,466.887 1382.37,472.517 1385.34,478.147 1386.56,480.272 1388.52,483.777 1391.95,489.406 \n",
       "  1394.2,492.832 1395.62,495.036 1399.53,500.666 1401.84,503.766 1403.7,506.296 1408.13,511.925 1409.49,513.548 1412.81,517.555 1417.13,522.446 1417.78,523.185 \n",
       "  1423.01,528.815 1424.78,530.605 1428.53,534.444 1432.42,538.185 1434.37,540.074 1440.06,545.279 1440.53,545.704 1447,551.334 1447.71,551.919 1453.81,556.963 \n",
       "  1455.35,558.174 1460.98,562.593 1463,564.096 1468.54,568.223 1470.64,569.717 1476.49,573.853 1478.29,575.068 1484.86,579.482 1485.93,580.173 1493.57,585.053 \n",
       "  1493.67,585.112 1501.22,589.709 1502.93,590.742 1508.86,594.177 1512.69,596.372 1516.51,598.475 1522.98,602.002 1524.15,602.616 1531.8,606.592 1533.82,607.631 \n",
       "  1539.44,610.424 1545.24,613.261 1547.08,614.135 1554.73,617.712 1557.28,618.891 1562.37,621.17 1569.99,624.521 1570.02,624.532 1577.66,627.77 1583.39,630.15 \n",
       "  1585.31,630.924 1592.95,633.976 1597.55,635.78 1600.59,636.946 1608.24,639.83 1612.51,641.41 1615.88,642.636 1623.53,645.364 1628.31,647.04 1631.17,648.023 \n",
       "  1638.81,650.609 1645.04,652.669 1646.46,653.134 1654.1,655.589 1661.75,657.989 1662.75,658.299 1669.39,660.325 1677.04,662.607 1681.56,663.929 1684.68,664.834 \n",
       "  1692.32,667.006 1699.97,669.127 1701.56,669.559 1707.61,671.196 1715.26,673.216 1722.9,675.186 1722.91,675.188 1730.55,677.108 1738.19,678.982 1745.83,680.807 \n",
       "  1745.88,680.818 1753.48,682.588 1761.12,684.319 1768.77,686.001 1770.88,686.448 1768.77,686.448 1776.41,686.448 \n",
       "  \"/>\n",
       "<polyline clip-path=\"url(#clip8104)\" style=\"stroke:#000000; stroke-width:4; stroke-opacity:1; fill:none\" points=\"\n",
       "  1883.43,675.277 1891.07,675.244 1893.5,675.188 1898.72,675.067 1906.36,674.737 1914.01,674.242 1921.65,673.567 1929.29,672.698 1936.94,671.615 1944.58,670.299 \n",
       "  1948.24,669.559 1952.23,668.729 1959.87,666.877 1967.52,664.707 1969.94,663.929 1975.16,662.186 1982.8,659.262 1985.05,658.299 1990.45,655.881 1996.78,652.669 \n",
       "  1998.09,651.971 2005.74,647.44 2006.35,647.04 2013.38,642.17 2014.38,641.41 2021.03,636.001 2021.27,635.78 2027.24,630.15 2028.67,628.698 2032.48,624.521 \n",
       "  2036.31,619.931 2037.12,618.891 2041.22,613.261 2043.96,609.143 2044.9,607.631 2048.16,602.002 2051.1,596.372 2051.6,595.339 2053.71,590.742 2056.05,585.112 \n",
       "  2058.15,579.482 2059.25,576.225 2060.01,573.853 2061.65,568.223 2063.11,562.593 2064.39,556.963 2065.51,551.334 2066.48,545.704 2066.89,542.883 2067.29,540.074 \n",
       "  2067.96,534.444 2068.5,528.815 2068.93,523.185 2069.23,517.555 2069.42,511.925 2069.51,506.296 2069.49,500.666 2069.37,495.036 2069.15,489.406 2068.84,483.777 \n",
       "  2068.44,478.147 2067.94,472.517 2067.36,466.887 2066.89,462.947 2066.69,461.258 2065.92,455.628 2065.07,449.998 2064.13,444.368 2063.11,438.739 2062,433.109 \n",
       "  2060.8,427.479 2059.52,421.849 2059.25,420.73 2058.14,416.22 2056.66,410.59 2055.09,404.96 2053.43,399.33 2051.68,393.7 2051.6,393.461 2049.81,388.071 \n",
       "  2047.84,382.441 2045.76,376.811 2043.96,372.138 2043.58,371.181 2041.26,365.552 2038.84,359.922 2036.31,354.329 2036.3,354.292 2033.59,348.662 2030.77,343.033 \n",
       "  2028.67,339.025 2027.8,337.403 2024.66,331.773 2021.38,326.143 2021.03,325.551 2017.9,320.514 2014.26,314.884 2013.38,313.568 2010.4,309.254 2006.36,303.624 \n",
       "  2005.74,302.781 2002.07,297.995 1998.09,293.009 1997.56,292.365 1992.76,286.735 1990.45,284.112 1987.69,281.105 1982.8,275.951 1982.33,275.476 1976.61,269.846 \n",
       "  1975.16,268.465 1970.51,264.216 1967.52,261.566 1964,258.586 1959.87,255.192 1957.02,252.957 1952.23,249.297 1949.51,247.327 1944.58,243.84 1941.39,241.697 \n",
       "  1936.94,238.783 1932.55,236.067 1929.29,234.096 1922.88,230.438 1921.65,229.751 1914.01,225.731 1912.13,224.808 1906.36,222.014 1900.08,219.178 1898.72,218.575 \n",
       "  1891.07,215.411 1886.21,213.548 1883.43,212.498 1875.79,209.83 1869.81,207.918 1868.14,207.391 1860.5,205.179 1852.85,203.177 1849.09,202.289 1845.21,201.383 \n",
       "  1837.56,199.79 1829.92,198.388 1822.28,197.171 1818.5,196.659 1814.63,196.137 1806.99,195.282 1799.34,194.598 1791.7,194.082 1784.05,193.73 1776.41,193.538 \n",
       "  1768.77,193.504 1761.12,193.625 1753.48,193.896 1745.83,194.316 1738.19,194.882 1730.55,195.591 1722.9,196.44 1721.2,196.659 1715.26,197.432 1707.61,198.562 \n",
       "  1699.97,199.826 1692.32,201.221 1686.96,202.289 1684.68,202.749 1677.04,204.414 1669.39,206.204 1662.53,207.918 1661.75,208.118 1654.1,210.173 1646.46,212.346 \n",
       "  1642.43,213.548 1638.81,214.649 1631.17,217.083 1624.87,219.178 1623.53,219.636 1615.88,222.332 1609.13,224.808 1608.24,225.143 1600.59,228.103 1594.76,230.438 \n",
       "  1592.95,231.183 1585.31,234.413 1581.49,236.067 1577.66,237.78 1570.02,241.286 1569.13,241.697 1562.37,244.964 1557.58,247.327 1554.73,248.789 1547.08,252.776 \n",
       "  1546.74,252.957 1539.44,256.968 1536.54,258.586 1531.8,261.346 1526.92,264.216 1524.15,265.927 1517.87,269.846 1516.51,270.735 1509.33,275.476 1508.86,275.799 \n",
       "  1501.28,281.105 1501.22,281.152 1493.7,286.735 1493.57,286.837 1486.58,292.365 1485.93,292.908 1479.88,297.995 1478.29,299.43 1473.61,303.624 1470.64,306.486 \n",
       "  1467.76,309.254 1463,314.18 1462.31,314.884 1457.24,320.514 1455.35,322.779 1452.54,326.143 1448.22,331.773 1447.71,332.506 1444.24,337.403 1440.63,343.033 \n",
       "  1440.06,343.997 1437.32,348.662 1434.36,354.292 1432.42,358.462 1431.73,359.922 1429.39,365.552 1427.36,371.181 1425.63,376.811 1424.78,380.178 1424.19,382.441 \n",
       "  1423.02,388.071 1422.12,393.7 1421.49,399.33 1421.13,404.96 1421.03,410.59 1421.18,416.22 1421.58,421.849 1422.23,427.479 1423.12,433.109 1424.26,438.739 \n",
       "  1424.78,440.858 1425.62,444.368 1427.22,449.998 1429.06,455.628 1431.15,461.258 1432.42,464.322 1433.47,466.887 1436.02,472.517 1438.83,478.147 1440.06,480.409 \n",
       "  1441.88,483.777 1445.17,489.406 1447.71,493.403 1448.73,495.036 1452.54,500.666 1455.35,504.529 1456.63,506.296 1460.98,511.925 1463,514.365 1465.62,517.555 \n",
       "  1470.56,523.185 1470.64,523.268 1475.79,528.815 1478.29,531.344 1481.34,534.444 1485.93,538.83 1487.23,540.074 1493.47,545.704 1493.57,545.794 1500.06,551.334 \n",
       "  1501.22,552.274 1507.03,556.963 1508.86,558.367 1514.41,562.593 1516.51,564.112 1522.22,568.223 1524.15,569.548 1530.48,573.853 1531.8,574.705 1539.23,579.482 \n",
       "  1539.44,579.61 1547.08,584.267 1548.49,585.112 1554.73,588.712 1558.3,590.742 1562.37,592.967 1568.71,596.372 1570.02,597.048 1577.66,600.949 1579.76,602.002 \n",
       "  1585.31,604.69 1591.5,607.631 1592.95,608.296 1600.59,611.752 1604.01,613.261 1608.24,615.081 1615.88,618.292 1617.34,618.891 1623.53,621.376 1631.17,624.362 \n",
       "  1631.58,624.521 1638.81,627.228 1646.46,630.007 1646.86,630.15 1654.1,632.677 1661.75,635.264 1663.31,635.78 1669.39,637.755 1677.04,640.164 1681.11,641.41 \n",
       "  1684.68,642.488 1692.32,644.73 1699.97,646.897 1700.49,647.04 1707.61,648.981 1715.26,650.992 1721.88,652.669 1722.9,652.929 1730.55,654.789 1738.19,656.578 \n",
       "  1745.83,658.294 1745.86,658.299 1753.48,659.936 1761.12,661.506 1768.77,663.002 1773.77,663.929 1776.41,664.423 1784.05,665.77 1791.7,667.039 1799.34,668.23 \n",
       "  1806.99,669.339 1808.64,669.559 1814.63,670.367 1822.28,671.31 1829.92,672.164 1837.56,672.924 1845.21,673.588 1852.85,674.151 1860.5,674.607 1868.14,674.951 \n",
       "  1875.79,675.177 1876.7,675.188 1883.43,675.277 \n",
       "  \"/>\n",
       "<polyline clip-path=\"url(#clip8104)\" style=\"stroke:#000000; stroke-width:4; stroke-opacity:1; fill:none\" points=\"\n",
       "  1829.92,647.223 1837.56,647.596 1845.21,647.839 1852.85,647.947 1860.5,647.912 1868.14,647.727 1875.79,647.383 1880.93,647.04 1883.43,646.869 1891.07,646.175 \n",
       "  1898.72,645.287 1906.36,644.19 1914.01,642.867 1921.12,641.41 1921.65,641.298 1929.29,639.459 1936.94,637.325 1941.8,635.78 1944.58,634.863 1952.23,632.033 \n",
       "  1956.74,630.15 1959.87,628.791 1967.52,625.079 1968.56,624.521 1975.16,620.821 1978.28,618.891 1982.8,615.93 1986.53,613.261 1990.45,610.282 1993.65,607.631 \n",
       "  1998.09,603.712 1999.89,602.002 2005.38,596.372 2005.74,595.986 2010.22,590.742 2013.38,586.719 2014.56,585.112 2018.42,579.482 2021.03,575.326 2021.9,573.853 \n",
       "  2024.98,568.223 2027.77,562.593 2028.67,560.617 2030.25,556.963 2032.46,551.334 2034.43,545.704 2036.19,540.074 2036.31,539.632 2037.71,534.444 2039.05,528.815 \n",
       "  2040.2,523.185 2041.19,517.555 2042.01,511.925 2042.68,506.296 2043.2,500.666 2043.58,495.036 2043.82,489.406 2043.93,483.777 2043.91,478.147 2043.77,472.517 \n",
       "  2043.5,466.887 2043.12,461.258 2042.62,455.628 2042,449.998 2041.27,444.368 2040.43,438.739 2039.48,433.109 2038.41,427.479 2037.24,421.849 2036.31,417.806 \n",
       "  2035.95,416.22 2034.52,410.59 2032.99,404.96 2031.33,399.33 2029.57,393.7 2028.67,391.029 2027.66,388.071 2025.62,382.441 2023.45,376.811 2021.15,371.181 \n",
       "  2021.03,370.887 2018.68,365.552 2016.07,359.922 2013.38,354.405 2013.32,354.292 2010.37,348.662 2007.27,343.033 2005.74,340.364 2003.98,337.403 2000.49,331.773 \n",
       "  1998.09,328.067 1996.81,326.143 1992.89,320.514 1990.45,317.156 1988.74,314.884 1984.34,309.254 1982.8,307.364 1979.65,303.624 1975.16,298.503 1974.7,297.995 \n",
       "  1969.38,292.365 1967.52,290.46 1963.71,286.735 1959.87,283.103 1957.66,281.105 1952.23,276.352 1951.18,275.476 1944.58,270.149 1944.19,269.846 1936.94,264.44 \n",
       "  1936.62,264.216 1929.29,259.18 1928.38,258.586 1921.65,254.33 1919.34,252.957 1914.01,249.855 1909.37,247.327 1906.36,245.725 1898.72,241.918 1898.24,241.697 \n",
       "  1891.07,238.428 1885.48,236.067 1883.43,235.217 1875.79,232.284 1870.54,230.438 1868.14,229.605 1860.5,227.179 1852.85,224.982 1852.18,224.808 1845.21,223.021 \n",
       "  1837.56,221.276 1829.92,219.738 1826.72,219.178 1822.28,218.408 1814.63,217.279 1806.99,216.341 1799.34,215.59 1791.7,215.022 1784.05,214.634 1776.41,214.422 \n",
       "  1768.77,214.384 1761.12,214.515 1753.48,214.813 1745.83,215.277 1738.19,215.902 1730.55,216.687 1722.9,217.629 1715.26,218.726 1712.48,219.178 1707.61,219.985 \n",
       "  1699.97,221.401 1692.32,222.968 1684.68,224.682 1684.16,224.808 1677.04,226.566 1669.39,228.598 1662.92,230.438 1661.75,230.779 1654.1,233.132 1646.46,235.628 \n",
       "  1645.18,236.067 1638.81,238.303 1631.17,241.126 1629.69,241.697 1623.53,244.136 1615.88,247.297 1615.81,247.327 1608.24,250.667 1603.23,252.957 1600.59,254.207 \n",
       "  1592.95,257.944 1591.67,258.586 1585.31,261.906 1580.99,264.216 1577.66,266.079 1571.08,269.846 1570.02,270.483 1562.37,275.154 1561.86,275.476 1554.73,280.125 \n",
       "  1553.25,281.105 1547.08,285.412 1545.22,286.735 1539.44,291.057 1537.71,292.365 1531.8,297.112 1530.71,297.995 1524.17,303.624 1524.15,303.645 1518.08,309.254 \n",
       "  1516.51,310.81 1512.41,314.884 1508.86,318.683 1507.16,320.514 1502.3,326.143 1501.22,327.493 1497.8,331.773 1493.69,337.403 1493.57,337.578 1489.91,343.033 \n",
       "  1486.49,348.662 1485.93,349.681 1483.38,354.292 1480.61,359.922 1478.29,365.245 1478.15,365.552 1475.98,371.181 1474.11,376.811 1472.53,382.441 1471.25,388.071 \n",
       "  1470.64,391.427 1470.23,393.7 1469.47,399.33 1468.99,404.96 1468.76,410.59 1468.79,416.22 1469.08,421.849 1469.62,427.479 1470.42,433.109 1470.64,434.317 \n",
       "  1471.45,438.739 1472.72,444.368 1474.25,449.998 1476.03,455.628 1478.06,461.258 1478.29,461.803 1480.33,466.887 1482.86,472.517 1485.65,478.147 1485.93,478.654 \n",
       "  1488.69,483.777 1492.01,489.406 1493.57,491.851 1495.6,495.036 1499.47,500.666 1501.22,503.025 1503.63,506.296 1508.1,511.925 1508.86,512.824 1512.87,517.555 \n",
       "  1516.51,521.568 1517.98,523.185 1523.42,528.815 1524.15,529.53 1529.21,534.444 1531.8,536.81 1535.39,540.074 1539.44,543.559 1541.96,545.704 1547.08,549.842 \n",
       "  1548.95,551.334 1554.73,555.714 1556.4,556.963 1562.37,561.225 1564.32,562.593 1570.02,566.413 1572.76,568.223 1577.66,571.313 1581.77,573.853 1585.31,575.954 \n",
       "  1591.38,579.482 1592.95,580.362 1600.59,584.546 1601.65,585.112 1608.24,588.515 1612.67,590.742 1615.88,592.306 1623.53,595.926 1624.49,596.372 1631.17,599.364 \n",
       "  1637.25,602.002 1638.81,602.663 1646.46,605.802 1651.07,607.631 1654.1,608.809 1661.75,611.679 1666.11,613.261 1669.39,614.425 1677.04,617.045 1682.64,618.891 \n",
       "  1684.68,619.554 1692.32,621.94 1699.97,624.226 1701,624.521 1707.61,626.395 1715.26,628.463 1721.8,630.15 1722.9,630.431 1730.55,632.29 1738.19,634.053 \n",
       "  1745.83,635.719 1746.13,635.78 1753.48,637.279 1761.12,638.742 1768.77,640.107 1776.41,641.371 1776.67,641.41 1784.05,642.53 1791.7,643.586 1799.34,644.537 \n",
       "  1806.99,645.38 1814.63,646.111 1822.28,646.726 1827.12,647.04 1829.92,647.223 \n",
       "  \"/>\n",
       "<polyline clip-path=\"url(#clip8104)\" style=\"stroke:#000000; stroke-width:4; stroke-opacity:1; fill:none\" points=\"\n",
       "  1784.05,619.079 1791.7,619.965 1799.34,620.718 1806.99,621.332 1814.63,621.805 1822.28,622.132 1829.92,622.307 1837.56,622.324 1845.21,622.175 1852.85,621.854 \n",
       "  1860.5,621.351 1868.14,620.655 1875.79,619.754 1881.71,618.891 1883.43,618.634 1891.07,617.275 1898.72,615.662 1906.36,613.776 1908.2,613.261 1914.01,611.58 \n",
       "  1921.65,609.054 1925.48,607.631 1929.29,606.154 1936.94,602.838 1938.68,602.002 1944.58,599.042 1949.38,596.372 1952.23,594.704 1958.38,590.742 1959.87,589.729 \n",
       "  1966.09,585.112 1967.52,583.988 1972.78,579.482 1975.16,577.309 1978.67,573.853 1982.8,569.455 1983.89,568.223 1988.5,562.593 1990.45,560.017 1992.62,556.963 \n",
       "  1996.3,551.334 1998.09,548.333 1999.58,545.704 2002.5,540.074 2005.12,534.444 2005.74,532.999 2007.43,528.815 2009.47,523.185 2011.26,517.555 2012.84,511.925 \n",
       "  2013.38,509.711 2014.18,506.296 2015.31,500.666 2016.25,495.036 2017.01,489.406 2017.6,483.777 2018.01,478.147 2018.26,472.517 2018.36,466.887 2018.3,461.258 \n",
       "  2018.08,455.628 2017.72,449.998 2017.21,444.368 2016.56,438.739 2015.77,433.109 2014.84,427.479 2013.77,421.849 2013.38,420.063 2012.54,416.22 2011.16,410.59 \n",
       "  2009.63,404.96 2007.97,399.33 2006.16,393.7 2005.74,392.487 2004.17,388.071 2002.02,382.441 1999.71,376.811 1998.09,373.1 1997.23,371.181 1994.55,365.552 \n",
       "  1991.71,359.922 1990.45,357.566 1988.65,354.292 1985.38,348.662 1982.8,344.457 1981.9,343.033 1978.16,337.403 1975.16,333.093 1974.21,331.773 1969.95,326.143 \n",
       "  1967.52,323.069 1965.41,320.514 1960.57,314.884 1959.87,314.098 1955.35,309.254 1952.23,306.039 1949.77,303.624 1944.58,298.715 1943.78,297.995 1937.31,292.365 \n",
       "  1936.94,292.055 1930.27,286.735 1929.29,285.982 1922.62,281.105 1921.65,280.42 1914.24,275.476 1914.01,275.321 1906.36,270.656 1904.94,269.846 1898.72,266.382 \n",
       "  1894.54,264.216 1891.07,262.461 1883.43,258.872 1882.77,258.586 1875.79,255.613 1868.98,252.957 1868.14,252.635 1860.5,249.954 1852.85,247.524 1852.16,247.327 \n",
       "  1845.21,245.366 1837.56,243.444 1829.92,241.752 1829.63,241.697 1822.28,240.301 1814.63,239.066 1806.99,238.042 1799.34,237.225 1791.7,236.611 1784.05,236.196 \n",
       "  1779.55,236.067 1776.41,235.979 1768.77,235.954 1763.44,236.067 1761.12,236.118 1753.48,236.471 1745.83,237.009 1738.19,237.731 1730.55,238.635 1722.9,239.717 \n",
       "  1715.26,240.976 1711.4,241.697 1707.61,242.423 1699.97,244.058 1692.32,245.868 1686.69,247.327 1684.68,247.861 1677.04,250.057 1669.39,252.426 1667.79,252.957 \n",
       "  1661.75,255.011 1654.1,257.782 1652,258.586 1646.46,260.777 1638.81,263.967 1638.24,264.216 1631.17,267.414 1626.03,269.846 1623.53,271.081 1615.88,275.002 \n",
       "  1614.99,275.476 1608.24,279.217 1604.95,281.105 1600.59,283.722 1595.73,286.735 1592.95,288.548 1587.25,292.365 1585.31,293.74 1579.43,297.995 1577.66,299.349 \n",
       "  1572.2,303.624 1570.02,305.44 1565.52,309.254 1562.37,312.096 1559.34,314.884 1554.73,319.422 1553.63,320.514 1548.37,326.143 1547.08,327.635 1543.54,331.773 \n",
       "  1539.44,336.973 1539.1,337.403 1535.05,343.033 1531.8,348.003 1531.37,348.662 1528.03,354.292 1525.04,359.922 1524.15,361.804 1522.38,365.552 1520.03,371.181 \n",
       "  1518,376.811 1516.51,381.689 1516.28,382.441 1514.83,388.071 1513.68,393.7 1512.81,399.33 1512.22,404.96 1511.9,410.59 1511.85,416.22 1512.06,421.849 \n",
       "  1512.54,427.479 1513.28,433.109 1514.28,438.739 1515.55,444.368 1516.51,447.897 1517.07,449.998 1518.86,455.628 1520.91,461.258 1523.24,466.887 1524.15,468.871 \n",
       "  1525.83,472.517 1528.7,478.147 1531.8,483.638 1531.87,483.777 1535.32,489.406 1539.09,495.036 1539.44,495.522 1543.16,500.666 1547.08,505.684 1547.57,506.296 \n",
       "  1552.31,511.925 1554.73,514.611 1557.41,517.555 1562.37,522.662 1562.89,523.185 1568.76,528.815 1570.02,529.947 1575.07,534.444 1577.66,536.628 1581.82,540.074 \n",
       "  1585.31,542.806 1589.07,545.704 1592.95,548.543 1596.85,551.334 1600.59,553.894 1605.2,556.963 1608.24,558.902 1614.18,562.593 1615.88,563.605 1623.53,568.031 \n",
       "  1623.87,568.223 1631.17,572.179 1634.37,573.853 1638.81,576.102 1645.74,579.482 1646.46,579.82 1654.1,583.312 1658.2,585.112 1661.75,586.625 1669.39,589.758 \n",
       "  1671.89,590.742 1677.04,592.713 1684.68,595.515 1687.13,596.372 1692.32,598.151 1699.97,600.643 1704.36,602.002 1707.61,602.99 1715.26,605.19 1722.9,607.265 \n",
       "  1724.34,607.631 1730.55,609.193 1738.19,610.993 1745.83,612.667 1748.77,613.261 1753.48,614.207 1761.12,615.616 1768.77,616.9 1776.41,618.055 1782.65,618.891 \n",
       "  1784.05,619.079 \n",
       "  \"/>\n",
       "<polyline clip-path=\"url(#clip8104)\" style=\"stroke:#000000; stroke-width:4; stroke-opacity:1; fill:none\" points=\"\n",
       "  1806.99,596.637 1814.63,596.874 1822.28,596.928 1829.92,596.792 1837.56,596.459 1838.81,596.372 1845.21,595.914 1852.85,595.148 1860.5,594.152 1868.14,592.909 \n",
       "  1875.79,591.406 1878.67,590.742 1883.43,589.608 1891.07,587.496 1898.54,585.112 1898.72,585.053 1906.36,582.21 1912.82,579.482 1914.01,578.958 1921.65,575.209 \n",
       "  1924.15,573.853 1929.29,570.904 1933.54,568.223 1936.94,565.951 1941.53,562.593 1944.58,560.213 1948.42,556.963 1952.23,553.509 1954.45,551.334 1959.76,545.704 \n",
       "  1959.87,545.583 1964.4,540.074 1967.52,535.921 1968.55,534.444 1972.2,528.815 1975.16,523.755 1975.47,523.185 1978.32,517.555 1980.85,511.925 1982.8,507.027 \n",
       "  1983.08,506.296 1984.98,500.666 1986.63,495.036 1988.03,489.406 1989.2,483.777 1990.14,478.147 1990.45,475.763 1990.85,472.517 1991.35,466.887 1991.66,461.258 \n",
       "  1991.77,455.628 1991.69,449.998 1991.43,444.368 1990.99,438.739 1990.45,433.838 1990.37,433.109 1989.55,427.479 1988.55,421.849 1987.38,416.22 1986.03,410.59 \n",
       "  1984.51,404.96 1982.8,399.334 1982.8,399.33 1980.87,393.7 1978.75,388.071 1976.45,382.441 1975.16,379.521 1973.92,376.811 1971.17,371.181 1968.21,365.552 \n",
       "  1967.52,364.31 1964.97,359.922 1961.5,354.292 1959.87,351.792 1957.75,348.662 1953.71,343.033 1952.23,341.071 1949.34,337.403 1944.66,331.773 1944.58,331.68 \n",
       "  1939.55,326.143 1936.94,323.406 1934.04,320.514 1929.29,315.975 1928.09,314.884 1921.65,309.28 1921.62,309.254 1914.5,303.624 1914.01,303.246 1906.69,297.995 \n",
       "  1906.36,297.769 1898.72,292.799 1898,292.365 1891.07,288.291 1888.23,286.735 1883.43,284.191 1877.13,281.105 1875.79,280.463 1868.14,277.106 1864.08,275.476 \n",
       "  1860.5,274.073 1852.85,271.356 1848.14,269.846 1845.21,268.93 1837.56,266.797 1829.92,264.92 1826.61,264.216 1822.28,263.311 1814.63,261.957 1806.99,260.839 \n",
       "  1799.34,259.955 1791.7,259.299 1784.05,258.869 1776.41,258.662 1768.77,258.675 1761.12,258.905 1753.48,259.351 1745.83,260.01 1738.19,260.881 1730.55,261.961 \n",
       "  1722.9,263.25 1717.95,264.216 1715.26,264.757 1707.61,266.497 1699.97,268.447 1695,269.846 1692.32,270.624 1684.68,273.05 1677.65,275.476 1677.04,275.694 \n",
       "  1669.39,278.625 1663.36,281.105 1661.75,281.795 1654.1,285.265 1651.04,286.735 1646.46,289.035 1640.16,292.365 1638.81,293.114 1631.17,297.557 1630.45,297.995 \n",
       "  1623.53,302.413 1621.7,303.624 1615.88,307.71 1613.76,309.254 1608.24,313.517 1606.52,314.884 1600.59,319.922 1599.92,320.514 1593.89,326.143 1592.95,327.091 \n",
       "  1588.4,331.773 1585.31,335.217 1583.38,337.403 1578.82,343.033 1577.66,344.598 1574.69,348.662 1570.97,354.292 1570.02,355.88 1567.63,359.922 1564.66,365.552 \n",
       "  1562.37,370.459 1562.04,371.181 1559.76,376.811 1557.82,382.441 1556.19,388.071 1554.88,393.7 1554.73,394.524 1553.87,399.33 1553.15,404.96 1552.74,410.59 \n",
       "  1552.61,416.22 1552.77,421.849 1553.21,427.479 1553.93,433.109 1554.73,437.535 1554.94,438.739 1556.24,444.368 1557.82,449.998 1559.68,455.628 1561.85,461.258 \n",
       "  1562.37,462.466 1564.31,466.887 1567.07,472.517 1570.02,477.895 1570.16,478.147 1573.56,483.777 1577.31,489.406 1577.66,489.899 1581.4,495.036 1585.31,499.969 \n",
       "  1585.86,500.666 1590.72,506.296 1592.95,508.706 1595.98,511.925 1600.59,516.5 1601.68,517.555 1607.85,523.185 1608.24,523.521 1614.53,528.815 1615.88,529.887 \n",
       "  1621.77,534.444 1623.53,535.731 1629.62,540.074 1631.17,541.122 1638.15,545.704 1638.81,546.118 1646.46,550.745 1647.47,551.334 1654.1,555.043 1657.68,556.963 \n",
       "  1661.75,559.058 1668.91,562.593 1669.39,562.821 1677.04,566.305 1681.46,568.223 1684.68,569.573 1692.32,572.62 1695.59,573.853 1699.97,575.457 1707.61,578.1 \n",
       "  1711.87,579.482 1715.26,580.554 1722.9,582.819 1730.55,584.923 1731.29,585.112 1738.19,586.835 1745.83,588.585 1753.48,590.177 1756.5,590.742 1761.12,591.596 \n",
       "  1768.77,592.847 1776.41,593.938 1784.05,594.867 1791.7,595.629 1799.34,596.222 1802.1,596.372 1806.99,596.637 \n",
       "  \"/>\n",
       "<polyline clip-path=\"url(#clip8104)\" style=\"stroke:#000000; stroke-width:4; stroke-opacity:1; fill:none\" points=\"\n",
       "  1776.41,568.243 1784.05,569.111 1791.7,569.771 1799.34,570.218 1806.99,570.447 1814.63,570.452 1822.28,570.224 1829.92,569.755 1837.56,569.034 1843.87,568.223 \n",
       "  1845.21,568.045 1852.85,566.755 1860.5,565.165 1868.14,563.256 1870.42,562.593 1875.79,560.967 1883.43,558.286 1886.75,556.963 1891.07,555.149 1898.72,551.521 \n",
       "  1899.07,551.334 1906.36,547.272 1908.89,545.704 1914.01,542.334 1917.12,540.074 1921.65,536.55 1924.13,534.444 1929.29,529.706 1930.19,528.815 1935.43,523.185 \n",
       "  1936.94,521.408 1939.99,517.555 1944.02,511.925 1944.58,511.067 1947.5,506.296 1950.56,500.666 1952.23,497.203 1953.21,495.036 1955.47,489.406 1957.41,483.777 \n",
       "  1959.04,478.147 1959.87,474.692 1960.37,472.517 1961.39,466.887 1962.16,461.258 1962.67,455.628 1962.94,449.998 1962.96,444.368 1962.75,438.739 1962.32,433.109 \n",
       "  1961.65,427.479 1960.76,421.849 1959.87,417.334 1959.64,416.22 1958.27,410.59 1956.66,404.96 1954.83,399.33 1952.78,393.7 1952.23,392.34 1950.43,388.071 \n",
       "  1947.83,382.441 1944.99,376.811 1944.58,376.074 1941.8,371.181 1938.34,365.552 1936.94,363.425 1934.53,359.922 1930.39,354.292 1929.29,352.896 1925.82,348.662 \n",
       "  1921.65,343.879 1920.87,343.033 1915.41,337.403 1914.01,336.027 1909.4,331.773 1906.36,329.097 1902.79,326.143 1898.72,322.927 1895.45,320.514 1891.07,317.415 \n",
       "  1887.23,314.884 1883.43,312.477 1877.93,309.254 1875.79,308.045 1868.14,304.074 1867.2,303.624 1860.5,300.548 1854.36,297.995 1852.85,297.385 1845.21,294.609 \n",
       "  1838.26,292.365 1837.56,292.147 1829.92,290.04 1822.28,288.221 1814.88,286.735 1814.63,286.687 1806.99,285.463 1799.34,284.508 1791.7,283.818 1784.05,283.389 \n",
       "  1776.41,283.219 1768.77,283.306 1761.12,283.648 1753.48,284.243 1745.83,285.09 1738.19,286.187 1735.07,286.735 1730.55,287.558 1722.9,289.202 1715.26,291.102 \n",
       "  1710.77,292.365 1707.61,293.288 1699.97,295.782 1693.83,297.995 1692.32,298.561 1684.68,301.696 1680.34,303.624 1677.04,305.169 1669.39,309.009 1668.93,309.254 \n",
       "  1661.75,313.311 1659.12,314.884 1654.1,318.076 1650.47,320.514 1646.46,323.383 1642.78,326.143 1638.81,329.333 1635.91,331.773 1631.17,336.059 1629.74,337.403 \n",
       "  1624.21,343.033 1623.53,343.789 1619.27,348.662 1615.88,352.921 1614.82,354.292 1610.88,359.922 1608.24,364.137 1607.37,365.552 1604.31,371.181 1601.63,376.811 \n",
       "  1600.59,379.335 1599.34,382.441 1597.43,388.071 1595.87,393.7 1594.66,399.33 1593.78,404.96 1593.23,410.59 1593.01,416.22 1593.11,421.849 1593.54,427.479 \n",
       "  1594.28,433.109 1595.35,438.739 1596.73,444.368 1598.44,449.998 1600.47,455.628 1600.59,455.925 1602.86,461.258 1605.58,466.887 1608.24,471.753 1608.66,472.517 \n",
       "  1612.13,478.147 1615.88,483.644 1615.97,483.777 1620.26,489.406 1623.53,493.354 1624.96,495.036 1630.13,500.666 1631.17,501.719 1635.83,506.296 1638.81,509.038 \n",
       "  1642.07,511.925 1646.46,515.581 1648.92,517.555 1654.1,521.473 1656.46,523.185 1661.75,526.815 1664.79,528.815 1669.39,531.685 1674.03,534.444 1677.04,536.148 \n",
       "  1684.33,540.074 1684.68,540.255 1692.32,543.988 1696.06,545.704 1699.97,547.431 1707.61,550.597 1709.52,551.334 1715.26,553.477 1722.9,556.122 1725.54,556.963 \n",
       "  1730.55,558.512 1738.19,560.674 1745.68,562.593 1745.83,562.63 1753.48,564.338 1761.12,565.844 1768.77,567.147 1776.27,568.223 1776.41,568.243 \n",
       "  \"/>\n",
       "<polyline clip-path=\"url(#clip8104)\" style=\"stroke:#000000; stroke-width:4; stroke-opacity:1; fill:none\" points=\"\n",
       "  1784.05,540.36 1791.7,540.956 1799.34,541.273 1806.99,541.303 1814.63,541.037 1822.28,540.465 1825.64,540.074 1829.92,539.555 1837.56,538.285 1845.21,536.652 \n",
       "  1852.85,534.635 1853.46,534.444 1860.5,532.12 1868.14,529.142 1868.88,528.815 1875.79,525.536 1880.13,523.185 1883.43,521.268 1889.11,517.555 1891.07,516.171 \n",
       "  1896.48,511.925 1898.72,510.009 1902.65,506.296 1906.36,502.436 1907.92,500.666 1912.39,495.036 1914.01,492.749 1916.19,489.406 1919.43,483.777 1921.65,479.32 \n",
       "  1922.19,478.147 1924.44,472.517 1926.29,466.887 1927.77,461.258 1928.9,455.628 1929.29,452.75 1929.65,449.998 1930.07,444.368 1930.18,438.739 1929.97,433.109 \n",
       "  1929.47,427.479 1929.29,426.221 1928.65,421.849 1927.51,416.22 1926.07,410.59 1924.33,404.96 1922.29,399.33 1921.65,397.789 1919.87,393.7 1917.11,388.071 \n",
       "  1914.04,382.441 1914.01,382.389 1910.47,376.811 1906.57,371.181 1906.36,370.9 1902.11,365.552 1898.72,361.597 1897.19,359.922 1891.68,354.292 1891.07,353.716 \n",
       "  1885.42,348.662 1883.43,346.987 1878.36,343.033 1875.79,341.129 1870.31,337.403 1868.14,336.004 1860.98,331.773 1860.5,331.502 1852.85,327.598 1849.68,326.143 \n",
       "  1845.21,324.18 1837.56,321.203 1835.54,320.514 1829.92,318.676 1822.28,316.529 1815.27,314.884 1814.63,314.738 1806.99,313.343 1799.34,312.277 1791.7,311.538 \n",
       "  1784.05,311.124 1776.41,311.033 1768.77,311.263 1761.12,311.814 1753.48,312.686 1745.83,313.877 1740.73,314.884 1738.19,315.41 1730.55,317.322 1722.9,319.571 \n",
       "  1720.1,320.514 1715.26,322.236 1707.61,325.304 1705.72,326.143 1699.97,328.868 1694.39,331.773 1692.32,332.921 1684.92,337.403 1684.68,337.563 1677.04,342.931 \n",
       "  1676.9,343.033 1669.98,348.662 1669.39,349.187 1663.97,354.292 1661.75,356.606 1658.72,359.922 1654.1,365.545 1654.1,365.552 1650.15,371.181 1646.69,376.811 \n",
       "  1646.46,377.246 1643.79,382.441 1641.35,388.071 1639.34,393.7 1638.81,395.54 1637.78,399.33 1636.63,404.96 1635.89,410.59 1635.53,416.22 1635.56,421.849 \n",
       "  1635.97,427.479 1636.76,433.109 1637.93,438.739 1638.81,441.94 1639.5,444.368 1641.48,449.998 1643.86,455.628 1646.46,460.904 1646.64,461.258 1649.91,466.887 \n",
       "  1653.6,472.517 1654.1,473.208 1657.84,478.147 1661.75,482.829 1662.57,483.777 1667.92,489.406 1669.39,490.827 1673.94,495.036 1677.04,497.688 1680.69,500.666 \n",
       "  1684.68,503.693 1688.3,506.296 1692.32,509 1696.95,511.925 1699.97,513.726 1706.84,517.555 1707.61,517.963 1715.26,521.716 1718.5,523.185 1722.9,525.08 \n",
       "  1730.55,528.094 1732.56,528.815 1738.19,530.74 1745.83,533.081 1750.88,534.444 1753.48,535.12 1761.12,536.841 1768.77,538.292 1776.41,539.469 1781.55,540.074 \n",
       "  1784.05,540.36 \n",
       "  \"/>\n",
       "<polyline clip-path=\"url(#clip8104)\" style=\"stroke:#000000; stroke-width:4; stroke-opacity:1; fill:none\" points=\"\n",
       "  1768.77,502.465 1776.41,503.915 1784.05,504.948 1791.7,505.556 1799.34,505.727 1806.99,505.447 1814.63,504.699 1822.28,503.463 1829.92,501.715 1833.46,500.666 \n",
       "  1837.56,499.343 1845.21,496.283 1847.8,495.036 1852.85,492.372 1857.63,489.406 1860.5,487.43 1865.1,483.777 1868.14,481.044 1870.99,478.147 1875.79,472.537 \n",
       "  1875.8,472.517 1879.51,466.887 1882.58,461.258 1883.43,459.323 1884.91,455.628 1886.62,449.998 1887.82,444.368 1888.51,438.739 1888.71,433.109 1888.43,427.479 \n",
       "  1887.68,421.849 1886.47,416.22 1884.82,410.59 1883.43,406.867 1882.66,404.96 1879.93,399.33 1876.73,393.7 1875.79,392.258 1872.83,388.071 1868.35,382.441 \n",
       "  1868.14,382.203 1862.93,376.811 1860.5,374.517 1856.59,371.181 1852.85,368.25 1849.01,365.552 1845.21,363.078 1839.72,359.922 1837.56,358.766 1829.92,355.204 \n",
       "  1827.62,354.292 1822.28,352.308 1814.63,349.963 1809.26,348.662 1806.99,348.143 1799.34,346.863 1791.7,346.044 1784.05,345.685 1776.41,345.788 1768.77,346.353 \n",
       "  1761.12,347.384 1754.6,348.662 1753.48,348.899 1745.83,351.011 1738.19,353.633 1736.57,354.292 1730.55,356.971 1724.83,359.922 1722.9,361.018 1715.88,365.552 \n",
       "  1715.26,366 1708.8,371.181 1707.61,372.259 1703.05,376.811 1699.97,380.343 1698.28,382.441 1694.42,388.071 1692.32,391.747 1691.29,393.7 1688.88,399.33 \n",
       "  1687.07,404.96 1685.82,410.59 1685.14,416.22 1685.01,421.849 1685.43,427.479 1686.38,433.109 1687.88,438.739 1689.9,444.368 1692.32,449.698 1692.47,449.998 \n",
       "  1695.75,455.628 1699.59,461.258 1699.97,461.734 1704.28,466.887 1707.61,470.412 1709.75,472.517 1715.26,477.374 1716.21,478.147 1722.9,483.086 1723.93,483.777 \n",
       "  1730.55,487.859 1733.33,489.406 1738.19,491.901 1745.07,495.036 1745.83,495.362 1753.48,498.194 1761.12,500.603 1761.37,500.666 1768.77,502.465 \n",
       "  \"/>\n",
       "<defs>\n",
       "  <clipPath id=\"clip8105\">\n",
       "    <rect x=\"2160\" y=\"123\" width=\"73\" height=\"564\"/>\n",
       "  </clipPath>\n",
       "</defs>\n",
       "<path clip-path=\"url(#clip8105)\" d=\"\n",
       "M2160.76 686.448 L2232.76 686.448 L2232.76 651.262 L2160.76 651.262  Z\n",
       "  \" fill=\"#000003\" fill-rule=\"evenodd\" fill-opacity=\"1\"/>\n",
       "<path clip-path=\"url(#clip8105)\" d=\"\n",
       "M2160.76 651.262 L2232.76 651.262 L2232.76 616.076 L2160.76 616.076  Z\n",
       "  \" fill=\"#0c0727\" fill-rule=\"evenodd\" fill-opacity=\"1\"/>\n",
       "<path clip-path=\"url(#clip8105)\" d=\"\n",
       "M2160.76 616.076 L2232.76 616.076 L2232.76 580.89 L2160.76 580.89  Z\n",
       "  \" fill=\"#240b4e\" fill-rule=\"evenodd\" fill-opacity=\"1\"/>\n",
       "<path clip-path=\"url(#clip8105)\" d=\"\n",
       "M2160.76 580.89 L2232.76 580.89 L2232.76 545.704 L2160.76 545.704  Z\n",
       "  \" fill=\"#420a67\" fill-rule=\"evenodd\" fill-opacity=\"1\"/>\n",
       "<path clip-path=\"url(#clip8105)\" d=\"\n",
       "M2160.76 545.704 L2232.76 545.704 L2232.76 510.518 L2160.76 510.518  Z\n",
       "  \" fill=\"#5d126d\" fill-rule=\"evenodd\" fill-opacity=\"1\"/>\n",
       "<path clip-path=\"url(#clip8105)\" d=\"\n",
       "M2160.76 510.518 L2232.76 510.518 L2232.76 475.332 L2160.76 475.332  Z\n",
       "  \" fill=\"#781c6d\" fill-rule=\"evenodd\" fill-opacity=\"1\"/>\n",
       "<path clip-path=\"url(#clip8105)\" d=\"\n",
       "M2160.76 475.332 L2232.76 475.332 L2232.76 440.146 L2160.76 440.146  Z\n",
       "  \" fill=\"#942666\" fill-rule=\"evenodd\" fill-opacity=\"1\"/>\n",
       "<path clip-path=\"url(#clip8105)\" d=\"\n",
       "M2160.76 440.146 L2232.76 440.146 L2232.76 404.96 L2160.76 404.96  Z\n",
       "  \" fill=\"#ad305b\" fill-rule=\"evenodd\" fill-opacity=\"1\"/>\n",
       "<path clip-path=\"url(#clip8105)\" d=\"\n",
       "M2160.76 404.96 L2232.76 404.96 L2232.76 369.774 L2160.76 369.774  Z\n",
       "  \" fill=\"#c73e4c\" fill-rule=\"evenodd\" fill-opacity=\"1\"/>\n",
       "<path clip-path=\"url(#clip8105)\" d=\"\n",
       "M2160.76 369.774 L2232.76 369.774 L2232.76 334.588 L2160.76 334.588  Z\n",
       "  \" fill=\"#db503a\" fill-rule=\"evenodd\" fill-opacity=\"1\"/>\n",
       "<path clip-path=\"url(#clip8105)\" d=\"\n",
       "M2160.76 334.588 L2232.76 334.588 L2232.76 299.402 L2160.76 299.402  Z\n",
       "  \" fill=\"#ec6925\" fill-rule=\"evenodd\" fill-opacity=\"1\"/>\n",
       "<path clip-path=\"url(#clip8105)\" d=\"\n",
       "M2160.76 299.402 L2232.76 299.402 L2232.76 264.216 L2160.76 264.216  Z\n",
       "  \" fill=\"#f7850e\" fill-rule=\"evenodd\" fill-opacity=\"1\"/>\n",
       "<path clip-path=\"url(#clip8105)\" d=\"\n",
       "M2160.76 264.216 L2232.76 264.216 L2232.76 229.03 L2160.76 229.03  Z\n",
       "  \" fill=\"#fba40a\" fill-rule=\"evenodd\" fill-opacity=\"1\"/>\n",
       "<path clip-path=\"url(#clip8105)\" d=\"\n",
       "M2160.76 229.03 L2232.76 229.03 L2232.76 193.844 L2160.76 193.844  Z\n",
       "  \" fill=\"#f9c52d\" fill-rule=\"evenodd\" fill-opacity=\"1\"/>\n",
       "<path clip-path=\"url(#clip8105)\" d=\"\n",
       "M2160.76 193.844 L2232.76 193.844 L2232.76 158.658 L2160.76 158.658  Z\n",
       "  \" fill=\"#f2e55f\" fill-rule=\"evenodd\" fill-opacity=\"1\"/>\n",
       "<path clip-path=\"url(#clip8105)\" d=\"\n",
       "M2160.76 158.658 L2232.76 158.658 L2232.76 123.472 L2160.76 123.472  Z\n",
       "  \" fill=\"#fcfea4\" fill-rule=\"evenodd\" fill-opacity=\"1\"/>\n",
       "<path clip-path=\"url(#clip8100)\" d=\"M 0 0 M2268.76 631.865 L2298.43 631.865 L2298.43 635.8 L2268.76 635.8 L2268.76 631.865 Z\" fill=\"#000000\" fill-rule=\"evenodd\" fill-opacity=\"1\" /><path clip-path=\"url(#clip8100)\" d=\"M 0 0 M2313.5 617.213 Q2309.89 617.213 2308.06 620.777 Q2306.26 624.319 2306.26 631.449 Q2306.26 638.555 2308.06 642.12 Q2309.89 645.662 2313.5 645.662 Q2317.14 645.662 2318.94 642.12 Q2320.77 638.555 2320.77 631.449 Q2320.77 624.319 2318.94 620.777 Q2317.14 617.213 2313.5 617.213 M2313.5 613.509 Q2319.31 613.509 2322.37 618.115 Q2325.45 622.699 2325.45 631.449 Q2325.45 640.175 2322.37 644.782 Q2319.31 649.365 2313.5 649.365 Q2307.69 649.365 2304.61 644.782 Q2301.56 640.175 2301.56 631.449 Q2301.56 622.699 2304.61 618.115 Q2307.69 613.509 2313.5 613.509 Z\" fill=\"#000000\" fill-rule=\"evenodd\" fill-opacity=\"1\" /><path clip-path=\"url(#clip8100)\" d=\"M 0 0 M2330.51 642.814 L2335.4 642.814 L2335.4 648.694 L2330.51 648.694 L2330.51 642.814 Z\" fill=\"#000000\" fill-rule=\"evenodd\" fill-opacity=\"1\" /><path clip-path=\"url(#clip8100)\" d=\"M 0 0 M2350.47 617.213 Q2346.86 617.213 2345.03 620.777 Q2343.22 624.319 2343.22 631.449 Q2343.22 638.555 2345.03 642.12 Q2346.86 645.662 2350.47 645.662 Q2354.1 645.662 2355.91 642.12 Q2357.74 638.555 2357.74 631.449 Q2357.74 624.319 2355.91 620.777 Q2354.1 617.213 2350.47 617.213 M2350.47 613.509 Q2356.28 613.509 2359.33 618.115 Q2362.41 622.699 2362.41 631.449 Q2362.41 640.175 2359.33 644.782 Q2356.28 649.365 2350.47 649.365 Q2344.66 649.365 2341.58 644.782 Q2338.52 640.175 2338.52 631.449 Q2338.52 622.699 2341.58 618.115 Q2344.66 613.509 2350.47 613.509 Z\" fill=\"#000000\" fill-rule=\"evenodd\" fill-opacity=\"1\" /><path clip-path=\"url(#clip8100)\" d=\"M 0 0 M2368.29 644.759 L2375.93 644.759 L2375.93 618.393 L2367.62 620.06 L2367.62 615.801 L2375.88 614.134 L2380.56 614.134 L2380.56 644.759 L2388.2 644.759 L2388.2 648.694 L2368.29 648.694 L2368.29 644.759 Z\" fill=\"#000000\" fill-rule=\"evenodd\" fill-opacity=\"1\" /><path clip-path=\"url(#clip8100)\" d=\"M 0 0 M2403.27 617.213 Q2399.66 617.213 2397.83 620.777 Q2396.02 624.319 2396.02 631.449 Q2396.02 638.555 2397.83 642.12 Q2399.66 645.662 2403.27 645.662 Q2406.9 645.662 2408.71 642.12 Q2410.54 638.555 2410.54 631.449 Q2410.54 624.319 2408.71 620.777 Q2406.9 617.213 2403.27 617.213 M2403.27 613.509 Q2409.08 613.509 2412.13 618.115 Q2415.21 622.699 2415.21 631.449 Q2415.21 640.175 2412.13 644.782 Q2409.08 649.365 2403.27 649.365 Q2397.46 649.365 2394.38 644.782 Q2391.32 640.175 2391.32 631.449 Q2391.32 622.699 2394.38 618.115 Q2397.46 613.509 2403.27 613.509 Z\" fill=\"#000000\" fill-rule=\"evenodd\" fill-opacity=\"1\" /><path clip-path=\"url(#clip8100)\" d=\"M 0 0 M2268.76 565.51 L2298.43 565.51 L2298.43 569.445 L2268.76 569.445 L2268.76 565.51 Z\" fill=\"#000000\" fill-rule=\"evenodd\" fill-opacity=\"1\" /><path clip-path=\"url(#clip8100)\" d=\"M 0 0 M2313.5 550.857 Q2309.89 550.857 2308.06 554.422 Q2306.26 557.964 2306.26 565.093 Q2306.26 572.2 2308.06 575.764 Q2309.89 579.306 2313.5 579.306 Q2317.14 579.306 2318.94 575.764 Q2320.77 572.2 2320.77 565.093 Q2320.77 557.964 2318.94 554.422 Q2317.14 550.857 2313.5 550.857 M2313.5 547.154 Q2319.31 547.154 2322.37 551.76 Q2325.45 556.343 2325.45 565.093 Q2325.45 573.82 2322.37 578.427 Q2319.31 583.01 2313.5 583.01 Q2307.69 583.01 2304.61 578.427 Q2301.56 573.82 2301.56 565.093 Q2301.56 556.343 2304.61 551.76 Q2307.69 547.154 2313.5 547.154 Z\" fill=\"#000000\" fill-rule=\"evenodd\" fill-opacity=\"1\" /><path clip-path=\"url(#clip8100)\" d=\"M 0 0 M2330.51 576.459 L2335.4 576.459 L2335.4 582.339 L2330.51 582.339 L2330.51 576.459 Z\" fill=\"#000000\" fill-rule=\"evenodd\" fill-opacity=\"1\" /><path clip-path=\"url(#clip8100)\" d=\"M 0 0 M2350.47 550.857 Q2346.86 550.857 2345.03 554.422 Q2343.22 557.964 2343.22 565.093 Q2343.22 572.2 2345.03 575.764 Q2346.86 579.306 2350.47 579.306 Q2354.1 579.306 2355.91 575.764 Q2357.74 572.2 2357.74 565.093 Q2357.74 557.964 2355.91 554.422 Q2354.1 550.857 2350.47 550.857 M2350.47 547.154 Q2356.28 547.154 2359.33 551.76 Q2362.41 556.343 2362.41 565.093 Q2362.41 573.82 2359.33 578.427 Q2356.28 583.01 2350.47 583.01 Q2344.66 583.01 2341.58 578.427 Q2338.52 573.82 2338.52 565.093 Q2338.52 556.343 2341.58 551.76 Q2344.66 547.154 2350.47 547.154 Z\" fill=\"#000000\" fill-rule=\"evenodd\" fill-opacity=\"1\" /><path clip-path=\"url(#clip8100)\" d=\"M 0 0 M2377.48 550.857 Q2373.87 550.857 2372.04 554.422 Q2370.24 557.964 2370.24 565.093 Q2370.24 572.2 2372.04 575.764 Q2373.87 579.306 2377.48 579.306 Q2381.12 579.306 2382.92 575.764 Q2384.75 572.2 2384.75 565.093 Q2384.75 557.964 2382.92 554.422 Q2381.12 550.857 2377.48 550.857 M2377.48 547.154 Q2383.29 547.154 2386.35 551.76 Q2389.43 556.343 2389.43 565.093 Q2389.43 573.82 2386.35 578.427 Q2383.29 583.01 2377.48 583.01 Q2371.67 583.01 2368.59 578.427 Q2365.54 573.82 2365.54 565.093 Q2365.54 556.343 2368.59 551.76 Q2371.67 547.154 2377.48 547.154 Z\" fill=\"#000000\" fill-rule=\"evenodd\" fill-opacity=\"1\" /><path clip-path=\"url(#clip8100)\" d=\"M 0 0 M2394.54 547.779 L2412.9 547.779 L2412.9 551.714 L2398.82 551.714 L2398.82 560.186 Q2399.84 559.839 2400.86 559.677 Q2401.88 559.491 2402.9 559.491 Q2408.69 559.491 2412.07 562.663 Q2415.44 565.834 2415.44 571.251 Q2415.44 576.829 2411.97 579.931 Q2408.5 583.01 2402.18 583.01 Q2400.01 583.01 2397.74 582.639 Q2395.49 582.269 2393.08 581.528 L2393.08 576.829 Q2395.17 577.964 2397.39 578.519 Q2399.61 579.075 2402.09 579.075 Q2406.09 579.075 2408.43 576.968 Q2410.77 574.862 2410.77 571.251 Q2410.77 567.64 2408.43 565.533 Q2406.09 563.427 2402.09 563.427 Q2400.21 563.427 2398.34 563.843 Q2396.49 564.26 2394.54 565.14 L2394.54 547.779 Z\" fill=\"#000000\" fill-rule=\"evenodd\" fill-opacity=\"1\" /><path clip-path=\"url(#clip8100)\" d=\"M 0 0 M2280.7 484.502 Q2277.09 484.502 2275.26 488.067 Q2273.45 491.608 2273.45 498.738 Q2273.45 505.844 2275.26 509.409 Q2277.09 512.951 2280.7 512.951 Q2284.33 512.951 2286.14 509.409 Q2287.97 505.844 2287.97 498.738 Q2287.97 491.608 2286.14 488.067 Q2284.33 484.502 2280.7 484.502 M2280.7 480.798 Q2286.51 480.798 2289.57 485.405 Q2292.64 489.988 2292.64 498.738 Q2292.64 507.465 2289.57 512.071 Q2286.51 516.654 2280.7 516.654 Q2274.89 516.654 2271.81 512.071 Q2268.76 507.465 2268.76 498.738 Q2268.76 489.988 2271.81 485.405 Q2274.89 480.798 2280.7 480.798 Z\" fill=\"#000000\" fill-rule=\"evenodd\" fill-opacity=\"1\" /><path clip-path=\"url(#clip8100)\" d=\"M 0 0 M2280.7 418.146 Q2277.09 418.146 2275.26 421.711 Q2273.45 425.253 2273.45 432.382 Q2273.45 439.489 2275.26 443.054 Q2277.09 446.595 2280.7 446.595 Q2284.33 446.595 2286.14 443.054 Q2287.97 439.489 2287.97 432.382 Q2287.97 425.253 2286.14 421.711 Q2284.33 418.146 2280.7 418.146 M2280.7 414.443 Q2286.51 414.443 2289.57 419.049 Q2292.64 423.632 2292.64 432.382 Q2292.64 441.109 2289.57 445.716 Q2286.51 450.299 2280.7 450.299 Q2274.89 450.299 2271.81 445.716 Q2268.76 441.109 2268.76 432.382 Q2268.76 423.632 2271.81 419.049 Q2274.89 414.443 2280.7 414.443 Z\" fill=\"#000000\" fill-rule=\"evenodd\" fill-opacity=\"1\" /><path clip-path=\"url(#clip8100)\" d=\"M 0 0 M2297.71 443.748 L2302.6 443.748 L2302.6 449.628 L2297.71 449.628 L2297.71 443.748 Z\" fill=\"#000000\" fill-rule=\"evenodd\" fill-opacity=\"1\" /><path clip-path=\"url(#clip8100)\" d=\"M 0 0 M2317.67 418.146 Q2314.06 418.146 2312.23 421.711 Q2310.42 425.253 2310.42 432.382 Q2310.42 439.489 2312.23 443.054 Q2314.06 446.595 2317.67 446.595 Q2321.3 446.595 2323.11 443.054 Q2324.94 439.489 2324.94 432.382 Q2324.94 425.253 2323.11 421.711 Q2321.3 418.146 2317.67 418.146 M2317.67 414.443 Q2323.48 414.443 2326.53 419.049 Q2329.61 423.632 2329.61 432.382 Q2329.61 441.109 2326.53 445.716 Q2323.48 450.299 2317.67 450.299 Q2311.86 450.299 2308.78 445.716 Q2305.72 441.109 2305.72 432.382 Q2305.72 423.632 2308.78 419.049 Q2311.86 414.443 2317.67 414.443 Z\" fill=\"#000000\" fill-rule=\"evenodd\" fill-opacity=\"1\" /><path clip-path=\"url(#clip8100)\" d=\"M 0 0 M2344.68 418.146 Q2341.07 418.146 2339.24 421.711 Q2337.44 425.253 2337.44 432.382 Q2337.44 439.489 2339.24 443.054 Q2341.07 446.595 2344.68 446.595 Q2348.32 446.595 2350.12 443.054 Q2351.95 439.489 2351.95 432.382 Q2351.95 425.253 2350.12 421.711 Q2348.32 418.146 2344.68 418.146 M2344.68 414.443 Q2350.49 414.443 2353.55 419.049 Q2356.63 423.632 2356.63 432.382 Q2356.63 441.109 2353.55 445.716 Q2350.49 450.299 2344.68 450.299 Q2338.87 450.299 2335.79 445.716 Q2332.74 441.109 2332.74 432.382 Q2332.74 423.632 2335.79 419.049 Q2338.87 414.443 2344.68 414.443 Z\" fill=\"#000000\" fill-rule=\"evenodd\" fill-opacity=\"1\" /><path clip-path=\"url(#clip8100)\" d=\"M 0 0 M2361.74 415.068 L2380.1 415.068 L2380.1 419.003 L2366.02 419.003 L2366.02 427.475 Q2367.04 427.128 2368.06 426.966 Q2369.08 426.781 2370.1 426.781 Q2375.88 426.781 2379.26 429.952 Q2382.64 433.123 2382.64 438.54 Q2382.64 444.118 2379.17 447.22 Q2375.7 450.299 2369.38 450.299 Q2367.2 450.299 2364.94 449.929 Q2362.69 449.558 2360.28 448.817 L2360.28 444.118 Q2362.37 445.253 2364.59 445.808 Q2366.81 446.364 2369.29 446.364 Q2373.29 446.364 2375.63 444.257 Q2377.97 442.151 2377.97 438.54 Q2377.97 434.929 2375.63 432.822 Q2373.29 430.716 2369.29 430.716 Q2367.41 430.716 2365.54 431.132 Q2363.69 431.549 2361.74 432.429 L2361.74 415.068 Z\" fill=\"#000000\" fill-rule=\"evenodd\" fill-opacity=\"1\" /><path clip-path=\"url(#clip8100)\" d=\"M 0 0 M2280.7 351.791 Q2277.09 351.791 2275.26 355.356 Q2273.45 358.897 2273.45 366.027 Q2273.45 373.133 2275.26 376.698 Q2277.09 380.24 2280.7 380.24 Q2284.33 380.24 2286.14 376.698 Q2287.97 373.133 2287.97 366.027 Q2287.97 358.897 2286.14 355.356 Q2284.33 351.791 2280.7 351.791 M2280.7 348.087 Q2286.51 348.087 2289.57 352.694 Q2292.64 357.277 2292.64 366.027 Q2292.64 374.754 2289.57 379.36 Q2286.51 383.944 2280.7 383.944 Q2274.89 383.944 2271.81 379.36 Q2268.76 374.754 2268.76 366.027 Q2268.76 357.277 2271.81 352.694 Q2274.89 348.087 2280.7 348.087 Z\" fill=\"#000000\" fill-rule=\"evenodd\" fill-opacity=\"1\" /><path clip-path=\"url(#clip8100)\" d=\"M 0 0 M2297.71 377.393 L2302.6 377.393 L2302.6 383.272 L2297.71 383.272 L2297.71 377.393 Z\" fill=\"#000000\" fill-rule=\"evenodd\" fill-opacity=\"1\" /><path clip-path=\"url(#clip8100)\" d=\"M 0 0 M2317.67 351.791 Q2314.06 351.791 2312.23 355.356 Q2310.42 358.897 2310.42 366.027 Q2310.42 373.133 2312.23 376.698 Q2314.06 380.24 2317.67 380.24 Q2321.3 380.24 2323.11 376.698 Q2324.94 373.133 2324.94 366.027 Q2324.94 358.897 2323.11 355.356 Q2321.3 351.791 2317.67 351.791 M2317.67 348.087 Q2323.48 348.087 2326.53 352.694 Q2329.61 357.277 2329.61 366.027 Q2329.61 374.754 2326.53 379.36 Q2323.48 383.944 2317.67 383.944 Q2311.86 383.944 2308.78 379.36 Q2305.72 374.754 2305.72 366.027 Q2305.72 357.277 2308.78 352.694 Q2311.86 348.087 2317.67 348.087 Z\" fill=\"#000000\" fill-rule=\"evenodd\" fill-opacity=\"1\" /><path clip-path=\"url(#clip8100)\" d=\"M 0 0 M2335.49 379.337 L2343.13 379.337 L2343.13 352.971 L2334.82 354.638 L2334.82 350.379 L2343.08 348.712 L2347.76 348.712 L2347.76 379.337 L2355.4 379.337 L2355.4 383.272 L2335.49 383.272 L2335.49 379.337 Z\" fill=\"#000000\" fill-rule=\"evenodd\" fill-opacity=\"1\" /><path clip-path=\"url(#clip8100)\" d=\"M 0 0 M2370.47 351.791 Q2366.86 351.791 2365.03 355.356 Q2363.22 358.897 2363.22 366.027 Q2363.22 373.133 2365.03 376.698 Q2366.86 380.24 2370.47 380.24 Q2374.1 380.24 2375.91 376.698 Q2377.74 373.133 2377.74 366.027 Q2377.74 358.897 2375.91 355.356 Q2374.1 351.791 2370.47 351.791 M2370.47 348.087 Q2376.28 348.087 2379.33 352.694 Q2382.41 357.277 2382.41 366.027 Q2382.41 374.754 2379.33 379.36 Q2376.28 383.944 2370.47 383.944 Q2364.66 383.944 2361.58 379.36 Q2358.52 374.754 2358.52 366.027 Q2358.52 357.277 2361.58 352.694 Q2364.66 348.087 2370.47 348.087 Z\" fill=\"#000000\" fill-rule=\"evenodd\" fill-opacity=\"1\" /><path clip-path=\"url(#clip8100)\" d=\"M 0 0 M2280.7 285.436 Q2277.09 285.436 2275.26 289 Q2273.45 292.542 2273.45 299.672 Q2273.45 306.778 2275.26 310.343 Q2277.09 313.884 2280.7 313.884 Q2284.33 313.884 2286.14 310.343 Q2287.97 306.778 2287.97 299.672 Q2287.97 292.542 2286.14 289 Q2284.33 285.436 2280.7 285.436 M2280.7 281.732 Q2286.51 281.732 2289.57 286.338 Q2292.64 290.922 2292.64 299.672 Q2292.64 308.398 2289.57 313.005 Q2286.51 317.588 2280.7 317.588 Q2274.89 317.588 2271.81 313.005 Q2268.76 308.398 2268.76 299.672 Q2268.76 290.922 2271.81 286.338 Q2274.89 281.732 2280.7 281.732 Z\" fill=\"#000000\" fill-rule=\"evenodd\" fill-opacity=\"1\" /><path clip-path=\"url(#clip8100)\" d=\"M 0 0 M2297.71 311.037 L2302.6 311.037 L2302.6 316.917 L2297.71 316.917 L2297.71 311.037 Z\" fill=\"#000000\" fill-rule=\"evenodd\" fill-opacity=\"1\" /><path clip-path=\"url(#clip8100)\" d=\"M 0 0 M2317.67 285.436 Q2314.06 285.436 2312.23 289 Q2310.42 292.542 2310.42 299.672 Q2310.42 306.778 2312.23 310.343 Q2314.06 313.884 2317.67 313.884 Q2321.3 313.884 2323.11 310.343 Q2324.94 306.778 2324.94 299.672 Q2324.94 292.542 2323.11 289 Q2321.3 285.436 2317.67 285.436 M2317.67 281.732 Q2323.48 281.732 2326.53 286.338 Q2329.61 290.922 2329.61 299.672 Q2329.61 308.398 2326.53 313.005 Q2323.48 317.588 2317.67 317.588 Q2311.86 317.588 2308.78 313.005 Q2305.72 308.398 2305.72 299.672 Q2305.72 290.922 2308.78 286.338 Q2311.86 281.732 2317.67 281.732 Z\" fill=\"#000000\" fill-rule=\"evenodd\" fill-opacity=\"1\" /><path clip-path=\"url(#clip8100)\" d=\"M 0 0 M2335.49 312.982 L2343.13 312.982 L2343.13 286.616 L2334.82 288.283 L2334.82 284.023 L2343.08 282.357 L2347.76 282.357 L2347.76 312.982 L2355.4 312.982 L2355.4 316.917 L2335.49 316.917 L2335.49 312.982 Z\" fill=\"#000000\" fill-rule=\"evenodd\" fill-opacity=\"1\" /><path clip-path=\"url(#clip8100)\" d=\"M 0 0 M2360.51 282.357 L2378.87 282.357 L2378.87 286.292 L2364.8 286.292 L2364.8 294.764 Q2365.82 294.417 2366.83 294.255 Q2367.85 294.07 2368.87 294.07 Q2374.66 294.07 2378.04 297.241 Q2381.42 300.412 2381.42 305.829 Q2381.42 311.408 2377.95 314.509 Q2374.47 317.588 2368.15 317.588 Q2365.98 317.588 2363.71 317.218 Q2361.46 316.847 2359.06 316.107 L2359.06 311.408 Q2361.14 312.542 2363.36 313.097 Q2365.58 313.653 2368.06 313.653 Q2372.07 313.653 2374.4 311.546 Q2376.74 309.44 2376.74 305.829 Q2376.74 302.218 2374.4 300.111 Q2372.07 298.005 2368.06 298.005 Q2366.19 298.005 2364.31 298.422 Q2362.46 298.838 2360.51 299.718 L2360.51 282.357 Z\" fill=\"#000000\" fill-rule=\"evenodd\" fill-opacity=\"1\" /><path clip-path=\"url(#clip8100)\" d=\"M 0 0 M2280.7 219.08 Q2277.09 219.08 2275.26 222.645 Q2273.45 226.187 2273.45 233.316 Q2273.45 240.423 2275.26 243.987 Q2277.09 247.529 2280.7 247.529 Q2284.33 247.529 2286.14 243.987 Q2287.97 240.423 2287.97 233.316 Q2287.97 226.187 2286.14 222.645 Q2284.33 219.08 2280.7 219.08 M2280.7 215.376 Q2286.51 215.376 2289.57 219.983 Q2292.64 224.566 2292.64 233.316 Q2292.64 242.043 2289.57 246.649 Q2286.51 251.233 2280.7 251.233 Q2274.89 251.233 2271.81 246.649 Q2268.76 242.043 2268.76 233.316 Q2268.76 224.566 2271.81 219.983 Q2274.89 215.376 2280.7 215.376 Z\" fill=\"#000000\" fill-rule=\"evenodd\" fill-opacity=\"1\" /><path clip-path=\"url(#clip8100)\" d=\"M 0 0 M2297.71 244.682 L2302.6 244.682 L2302.6 250.561 L2297.71 250.561 L2297.71 244.682 Z\" fill=\"#000000\" fill-rule=\"evenodd\" fill-opacity=\"1\" /><path clip-path=\"url(#clip8100)\" d=\"M 0 0 M2317.67 219.08 Q2314.06 219.08 2312.23 222.645 Q2310.42 226.187 2310.42 233.316 Q2310.42 240.423 2312.23 243.987 Q2314.06 247.529 2317.67 247.529 Q2321.3 247.529 2323.11 243.987 Q2324.94 240.423 2324.94 233.316 Q2324.94 226.187 2323.11 222.645 Q2321.3 219.08 2317.67 219.08 M2317.67 215.376 Q2323.48 215.376 2326.53 219.983 Q2329.61 224.566 2329.61 233.316 Q2329.61 242.043 2326.53 246.649 Q2323.48 251.233 2317.67 251.233 Q2311.86 251.233 2308.78 246.649 Q2305.72 242.043 2305.72 233.316 Q2305.72 224.566 2308.78 219.983 Q2311.86 215.376 2317.67 215.376 Z\" fill=\"#000000\" fill-rule=\"evenodd\" fill-opacity=\"1\" /><path clip-path=\"url(#clip8100)\" d=\"M 0 0 M2338.71 246.626 L2355.03 246.626 L2355.03 250.561 L2333.08 250.561 L2333.08 246.626 Q2335.75 243.872 2340.33 239.242 Q2344.94 234.589 2346.12 233.247 Q2348.36 230.724 2349.24 228.987 Q2350.14 227.228 2350.14 225.538 Q2350.14 222.784 2348.2 221.048 Q2346.28 219.312 2343.18 219.312 Q2340.98 219.312 2338.52 220.075 Q2336.09 220.839 2333.32 222.39 L2333.32 217.668 Q2336.14 216.534 2338.59 215.955 Q2341.05 215.376 2343.08 215.376 Q2348.45 215.376 2351.65 218.062 Q2354.84 220.747 2354.84 225.237 Q2354.84 227.367 2354.03 229.288 Q2353.25 231.187 2351.14 233.779 Q2350.56 234.45 2347.46 237.668 Q2344.36 240.862 2338.71 246.626 Z\" fill=\"#000000\" fill-rule=\"evenodd\" fill-opacity=\"1\" /><path clip-path=\"url(#clip8100)\" d=\"M 0 0 M2370.1 219.08 Q2366.49 219.08 2364.66 222.645 Q2362.85 226.187 2362.85 233.316 Q2362.85 240.423 2364.66 243.987 Q2366.49 247.529 2370.1 247.529 Q2373.73 247.529 2375.54 243.987 Q2377.37 240.423 2377.37 233.316 Q2377.37 226.187 2375.54 222.645 Q2373.73 219.08 2370.1 219.08 M2370.1 215.376 Q2375.91 215.376 2378.96 219.983 Q2382.04 224.566 2382.04 233.316 Q2382.04 242.043 2378.96 246.649 Q2375.91 251.233 2370.1 251.233 Q2364.29 251.233 2361.21 246.649 Q2358.15 242.043 2358.15 233.316 Q2358.15 224.566 2361.21 219.983 Q2364.29 215.376 2370.1 215.376 Z\" fill=\"#000000\" fill-rule=\"evenodd\" fill-opacity=\"1\" /><path clip-path=\"url(#clip8100)\" d=\"M 0 0 M2280.7 152.725 Q2277.09 152.725 2275.26 156.289 Q2273.45 159.831 2273.45 166.961 Q2273.45 174.067 2275.26 177.632 Q2277.09 181.174 2280.7 181.174 Q2284.33 181.174 2286.14 177.632 Q2287.97 174.067 2287.97 166.961 Q2287.97 159.831 2286.14 156.289 Q2284.33 152.725 2280.7 152.725 M2280.7 149.021 Q2286.51 149.021 2289.57 153.627 Q2292.64 158.211 2292.64 166.961 Q2292.64 175.688 2289.57 180.294 Q2286.51 184.877 2280.7 184.877 Q2274.89 184.877 2271.81 180.294 Q2268.76 175.688 2268.76 166.961 Q2268.76 158.211 2271.81 153.627 Q2274.89 149.021 2280.7 149.021 Z\" fill=\"#000000\" fill-rule=\"evenodd\" fill-opacity=\"1\" /><path clip-path=\"url(#clip8100)\" d=\"M 0 0 M2297.71 178.326 L2302.6 178.326 L2302.6 184.206 L2297.71 184.206 L2297.71 178.326 Z\" fill=\"#000000\" fill-rule=\"evenodd\" fill-opacity=\"1\" /><path clip-path=\"url(#clip8100)\" d=\"M 0 0 M2317.67 152.725 Q2314.06 152.725 2312.23 156.289 Q2310.42 159.831 2310.42 166.961 Q2310.42 174.067 2312.23 177.632 Q2314.06 181.174 2317.67 181.174 Q2321.3 181.174 2323.11 177.632 Q2324.94 174.067 2324.94 166.961 Q2324.94 159.831 2323.11 156.289 Q2321.3 152.725 2317.67 152.725 M2317.67 149.021 Q2323.48 149.021 2326.53 153.627 Q2329.61 158.211 2329.61 166.961 Q2329.61 175.688 2326.53 180.294 Q2323.48 184.877 2317.67 184.877 Q2311.86 184.877 2308.78 180.294 Q2305.72 175.688 2305.72 166.961 Q2305.72 158.211 2308.78 153.627 Q2311.86 149.021 2317.67 149.021 Z\" fill=\"#000000\" fill-rule=\"evenodd\" fill-opacity=\"1\" /><path clip-path=\"url(#clip8100)\" d=\"M 0 0 M2338.71 180.271 L2355.03 180.271 L2355.03 184.206 L2333.08 184.206 L2333.08 180.271 Q2335.75 177.516 2340.33 172.887 Q2344.94 168.234 2346.12 166.891 Q2348.36 164.368 2349.24 162.632 Q2350.14 160.873 2350.14 159.183 Q2350.14 156.428 2348.2 154.692 Q2346.28 152.956 2343.18 152.956 Q2340.98 152.956 2338.52 153.72 Q2336.09 154.484 2333.32 156.035 L2333.32 151.313 Q2336.14 150.178 2338.59 149.6 Q2341.05 149.021 2343.08 149.021 Q2348.45 149.021 2351.65 151.706 Q2354.84 154.391 2354.84 158.882 Q2354.84 161.012 2354.03 162.933 Q2353.25 164.831 2351.14 167.424 Q2350.56 168.095 2347.46 171.313 Q2344.36 174.507 2338.71 180.271 Z\" fill=\"#000000\" fill-rule=\"evenodd\" fill-opacity=\"1\" /><path clip-path=\"url(#clip8100)\" d=\"M 0 0 M2360.14 149.646 L2378.5 149.646 L2378.5 153.581 L2364.43 153.581 L2364.43 162.053 Q2365.45 161.706 2366.46 161.544 Q2367.48 161.359 2368.5 161.359 Q2374.29 161.359 2377.67 164.53 Q2381.05 167.701 2381.05 173.118 Q2381.05 178.697 2377.57 181.799 Q2374.1 184.877 2367.78 184.877 Q2365.61 184.877 2363.34 184.507 Q2361.09 184.137 2358.69 183.396 L2358.69 178.697 Q2360.77 179.831 2362.99 180.387 Q2365.21 180.942 2367.69 180.942 Q2371.7 180.942 2374.03 178.836 Q2376.37 176.729 2376.37 173.118 Q2376.37 169.507 2374.03 167.401 Q2371.7 165.294 2367.69 165.294 Q2365.82 165.294 2363.94 165.711 Q2362.09 166.127 2360.14 167.007 L2360.14 149.646 Z\" fill=\"#000000\" fill-rule=\"evenodd\" fill-opacity=\"1\" /><polyline clip-path=\"url(#clip8100)\" style=\"stroke:#000000; stroke-width:4; stroke-opacity:1; fill:none\" points=\"\n",
       "  2232.76,686.448 2232.76,635.043 2256.76,635.043 2232.76,635.043 2232.76,568.687 2256.76,568.687 2232.76,568.687 2232.76,502.332 2256.76,502.332 2232.76,502.332 \n",
       "  2232.76,435.976 2256.76,435.976 2232.76,435.976 2232.76,369.621 2256.76,369.621 2232.76,369.621 2232.76,303.266 2256.76,303.266 2232.76,303.266 2232.76,236.91 \n",
       "  2256.76,236.91 2232.76,236.91 2232.76,170.555 2256.76,170.555 2232.76,170.555 2232.76,123.472 \n",
       "  \"/>\n",
       "<path clip-path=\"url(#clip8100)\" d=\"\n",
       "M148.334 1486.45 L912.756 1486.45 L912.756 923.472 L148.334 923.472  Z\n",
       "  \" fill=\"#ffffff\" fill-rule=\"evenodd\" fill-opacity=\"1\"/>\n",
       "<defs>\n",
       "  <clipPath id=\"clip8106\">\n",
       "    <rect x=\"148\" y=\"923\" width=\"765\" height=\"564\"/>\n",
       "  </clipPath>\n",
       "</defs>\n",
       "<polyline clip-path=\"url(#clip8106)\" style=\"stroke:#000000; stroke-width:2; stroke-opacity:0.1; fill:none\" points=\"\n",
       "  148.334,1486.45 148.334,923.472 \n",
       "  \"/>\n",
       "<polyline clip-path=\"url(#clip8106)\" style=\"stroke:#000000; stroke-width:2; stroke-opacity:0.1; fill:none\" points=\"\n",
       "  301.219,1486.45 301.219,923.472 \n",
       "  \"/>\n",
       "<polyline clip-path=\"url(#clip8106)\" style=\"stroke:#000000; stroke-width:2; stroke-opacity:0.1; fill:none\" points=\"\n",
       "  454.103,1486.45 454.103,923.472 \n",
       "  \"/>\n",
       "<polyline clip-path=\"url(#clip8106)\" style=\"stroke:#000000; stroke-width:2; stroke-opacity:0.1; fill:none\" points=\"\n",
       "  606.987,1486.45 606.987,923.472 \n",
       "  \"/>\n",
       "<polyline clip-path=\"url(#clip8106)\" style=\"stroke:#000000; stroke-width:2; stroke-opacity:0.1; fill:none\" points=\"\n",
       "  759.872,1486.45 759.872,923.472 \n",
       "  \"/>\n",
       "<polyline clip-path=\"url(#clip8106)\" style=\"stroke:#000000; stroke-width:2; stroke-opacity:0.1; fill:none\" points=\"\n",
       "  912.756,1486.45 912.756,923.472 \n",
       "  \"/>\n",
       "<polyline clip-path=\"url(#clip8106)\" style=\"stroke:#000000; stroke-width:2; stroke-opacity:0.1; fill:none\" points=\"\n",
       "  148.334,1486.45 912.756,1486.45 \n",
       "  \"/>\n",
       "<polyline clip-path=\"url(#clip8106)\" style=\"stroke:#000000; stroke-width:2; stroke-opacity:0.1; fill:none\" points=\"\n",
       "  148.334,1373.85 912.756,1373.85 \n",
       "  \"/>\n",
       "<polyline clip-path=\"url(#clip8106)\" style=\"stroke:#000000; stroke-width:2; stroke-opacity:0.1; fill:none\" points=\"\n",
       "  148.334,1261.26 912.756,1261.26 \n",
       "  \"/>\n",
       "<polyline clip-path=\"url(#clip8106)\" style=\"stroke:#000000; stroke-width:2; stroke-opacity:0.1; fill:none\" points=\"\n",
       "  148.334,1148.66 912.756,1148.66 \n",
       "  \"/>\n",
       "<polyline clip-path=\"url(#clip8106)\" style=\"stroke:#000000; stroke-width:2; stroke-opacity:0.1; fill:none\" points=\"\n",
       "  148.334,1036.07 912.756,1036.07 \n",
       "  \"/>\n",
       "<polyline clip-path=\"url(#clip8106)\" style=\"stroke:#000000; stroke-width:2; stroke-opacity:0.1; fill:none\" points=\"\n",
       "  148.334,923.472 912.756,923.472 \n",
       "  \"/>\n",
       "<polyline clip-path=\"url(#clip8100)\" style=\"stroke:#000000; stroke-width:4; stroke-opacity:1; fill:none\" points=\"\n",
       "  148.334,1486.45 912.756,1486.45 \n",
       "  \"/>\n",
       "<polyline clip-path=\"url(#clip8100)\" style=\"stroke:#000000; stroke-width:4; stroke-opacity:1; fill:none\" points=\"\n",
       "  148.334,1486.45 148.334,923.472 \n",
       "  \"/>\n",
       "<polyline clip-path=\"url(#clip8100)\" style=\"stroke:#000000; stroke-width:4; stroke-opacity:1; fill:none\" points=\"\n",
       "  148.334,1486.45 148.334,1479.69 \n",
       "  \"/>\n",
       "<polyline clip-path=\"url(#clip8100)\" style=\"stroke:#000000; stroke-width:4; stroke-opacity:1; fill:none\" points=\"\n",
       "  301.219,1486.45 301.219,1479.69 \n",
       "  \"/>\n",
       "<polyline clip-path=\"url(#clip8100)\" style=\"stroke:#000000; stroke-width:4; stroke-opacity:1; fill:none\" points=\"\n",
       "  454.103,1486.45 454.103,1479.69 \n",
       "  \"/>\n",
       "<polyline clip-path=\"url(#clip8100)\" style=\"stroke:#000000; stroke-width:4; stroke-opacity:1; fill:none\" points=\"\n",
       "  606.987,1486.45 606.987,1479.69 \n",
       "  \"/>\n",
       "<polyline clip-path=\"url(#clip8100)\" style=\"stroke:#000000; stroke-width:4; stroke-opacity:1; fill:none\" points=\"\n",
       "  759.872,1486.45 759.872,1479.69 \n",
       "  \"/>\n",
       "<polyline clip-path=\"url(#clip8100)\" style=\"stroke:#000000; stroke-width:4; stroke-opacity:1; fill:none\" points=\"\n",
       "  912.756,1486.45 912.756,1479.69 \n",
       "  \"/>\n",
       "<polyline clip-path=\"url(#clip8100)\" style=\"stroke:#000000; stroke-width:4; stroke-opacity:1; fill:none\" points=\"\n",
       "  148.334,1486.45 157.507,1486.45 \n",
       "  \"/>\n",
       "<polyline clip-path=\"url(#clip8100)\" style=\"stroke:#000000; stroke-width:4; stroke-opacity:1; fill:none\" points=\"\n",
       "  148.334,1373.85 157.507,1373.85 \n",
       "  \"/>\n",
       "<polyline clip-path=\"url(#clip8100)\" style=\"stroke:#000000; stroke-width:4; stroke-opacity:1; fill:none\" points=\"\n",
       "  148.334,1261.26 157.507,1261.26 \n",
       "  \"/>\n",
       "<polyline clip-path=\"url(#clip8100)\" style=\"stroke:#000000; stroke-width:4; stroke-opacity:1; fill:none\" points=\"\n",
       "  148.334,1148.66 157.507,1148.66 \n",
       "  \"/>\n",
       "<polyline clip-path=\"url(#clip8100)\" style=\"stroke:#000000; stroke-width:4; stroke-opacity:1; fill:none\" points=\"\n",
       "  148.334,1036.07 157.507,1036.07 \n",
       "  \"/>\n",
       "<polyline clip-path=\"url(#clip8100)\" style=\"stroke:#000000; stroke-width:4; stroke-opacity:1; fill:none\" points=\"\n",
       "  148.334,923.472 157.507,923.472 \n",
       "  \"/>\n",
       "<path clip-path=\"url(#clip8100)\" d=\"M 0 0 M129.851 1508.44 Q126.24 1508.44 124.411 1512 Q122.605 1515.55 122.605 1522.67 Q122.605 1529.78 124.411 1533.35 Q126.24 1536.89 129.851 1536.89 Q133.485 1536.89 135.29 1533.35 Q137.119 1529.78 137.119 1522.67 Q137.119 1515.55 135.29 1512 Q133.485 1508.44 129.851 1508.44 M129.851 1504.73 Q135.661 1504.73 138.716 1509.34 Q141.795 1513.92 141.795 1522.67 Q141.795 1531.4 138.716 1536.01 Q135.661 1540.59 129.851 1540.59 Q124.041 1540.59 120.962 1536.01 Q117.906 1531.4 117.906 1522.67 Q117.906 1513.92 120.962 1509.34 Q124.041 1504.73 129.851 1504.73 Z\" fill=\"#000000\" fill-rule=\"evenodd\" fill-opacity=\"1\" /><path clip-path=\"url(#clip8100)\" d=\"M 0 0 M146.864 1534.04 L151.749 1534.04 L151.749 1539.92 L146.864 1539.92 L146.864 1534.04 Z\" fill=\"#000000\" fill-rule=\"evenodd\" fill-opacity=\"1\" /><path clip-path=\"url(#clip8100)\" d=\"M 0 0 M166.818 1508.44 Q163.207 1508.44 161.378 1512 Q159.573 1515.55 159.573 1522.67 Q159.573 1529.78 161.378 1533.35 Q163.207 1536.89 166.818 1536.89 Q170.452 1536.89 172.258 1533.35 Q174.087 1529.78 174.087 1522.67 Q174.087 1515.55 172.258 1512 Q170.452 1508.44 166.818 1508.44 M166.818 1504.73 Q172.628 1504.73 175.684 1509.34 Q178.762 1513.92 178.762 1522.67 Q178.762 1531.4 175.684 1536.01 Q172.628 1540.59 166.818 1540.59 Q161.008 1540.59 157.929 1536.01 Q154.874 1531.4 154.874 1522.67 Q154.874 1513.92 157.929 1509.34 Q161.008 1504.73 166.818 1504.73 Z\" fill=\"#000000\" fill-rule=\"evenodd\" fill-opacity=\"1\" /><path clip-path=\"url(#clip8100)\" d=\"M 0 0 M283.534 1508.44 Q279.923 1508.44 278.094 1512 Q276.288 1515.55 276.288 1522.67 Q276.288 1529.78 278.094 1533.35 Q279.923 1536.89 283.534 1536.89 Q287.168 1536.89 288.973 1533.35 Q290.802 1529.78 290.802 1522.67 Q290.802 1515.55 288.973 1512 Q287.168 1508.44 283.534 1508.44 M283.534 1504.73 Q289.344 1504.73 292.399 1509.34 Q295.478 1513.92 295.478 1522.67 Q295.478 1531.4 292.399 1536.01 Q289.344 1540.59 283.534 1540.59 Q277.723 1540.59 274.645 1536.01 Q271.589 1531.4 271.589 1522.67 Q271.589 1513.92 274.645 1509.34 Q277.723 1504.73 283.534 1504.73 Z\" fill=\"#000000\" fill-rule=\"evenodd\" fill-opacity=\"1\" /><path clip-path=\"url(#clip8100)\" d=\"M 0 0 M300.547 1534.04 L305.432 1534.04 L305.432 1539.92 L300.547 1539.92 L300.547 1534.04 Z\" fill=\"#000000\" fill-rule=\"evenodd\" fill-opacity=\"1\" /><path clip-path=\"url(#clip8100)\" d=\"M 0 0 M314.529 1535.98 L330.848 1535.98 L330.848 1539.92 L308.904 1539.92 L308.904 1535.98 Q311.566 1533.23 316.149 1528.6 Q320.756 1523.95 321.936 1522.61 Q324.182 1520.08 325.061 1518.35 Q325.964 1516.59 325.964 1514.9 Q325.964 1512.14 324.019 1510.41 Q322.098 1508.67 318.996 1508.67 Q316.797 1508.67 314.344 1509.43 Q311.913 1510.2 309.135 1511.75 L309.135 1507.03 Q311.959 1505.89 314.413 1505.31 Q316.867 1504.73 318.904 1504.73 Q324.274 1504.73 327.469 1507.42 Q330.663 1510.11 330.663 1514.6 Q330.663 1516.73 329.853 1518.65 Q329.066 1520.54 326.959 1523.14 Q326.381 1523.81 323.279 1527.03 Q320.177 1530.22 314.529 1535.98 Z\" fill=\"#000000\" fill-rule=\"evenodd\" fill-opacity=\"1\" /><path clip-path=\"url(#clip8100)\" d=\"M 0 0 M435.376 1508.44 Q431.765 1508.44 429.936 1512 Q428.131 1515.55 428.131 1522.67 Q428.131 1529.78 429.936 1533.35 Q431.765 1536.89 435.376 1536.89 Q439.01 1536.89 440.816 1533.35 Q442.645 1529.78 442.645 1522.67 Q442.645 1515.55 440.816 1512 Q439.01 1508.44 435.376 1508.44 M435.376 1504.73 Q441.186 1504.73 444.242 1509.34 Q447.321 1513.92 447.321 1522.67 Q447.321 1531.4 444.242 1536.01 Q441.186 1540.59 435.376 1540.59 Q429.566 1540.59 426.487 1536.01 Q423.432 1531.4 423.432 1522.67 Q423.432 1513.92 426.487 1509.34 Q429.566 1504.73 435.376 1504.73 Z\" fill=\"#000000\" fill-rule=\"evenodd\" fill-opacity=\"1\" /><path clip-path=\"url(#clip8100)\" d=\"M 0 0 M452.39 1534.04 L457.274 1534.04 L457.274 1539.92 L452.39 1539.92 L452.39 1534.04 Z\" fill=\"#000000\" fill-rule=\"evenodd\" fill-opacity=\"1\" /><path clip-path=\"url(#clip8100)\" d=\"M 0 0 M475.191 1509.43 L463.385 1527.88 L475.191 1527.88 L475.191 1509.43 M473.964 1505.36 L479.844 1505.36 L479.844 1527.88 L484.774 1527.88 L484.774 1531.77 L479.844 1531.77 L479.844 1539.92 L475.191 1539.92 L475.191 1531.77 L459.589 1531.77 L459.589 1527.26 L473.964 1505.36 Z\" fill=\"#000000\" fill-rule=\"evenodd\" fill-opacity=\"1\" /><path clip-path=\"url(#clip8100)\" d=\"M 0 0 M588.423 1508.44 Q584.811 1508.44 582.983 1512 Q581.177 1515.55 581.177 1522.67 Q581.177 1529.78 582.983 1533.35 Q584.811 1536.89 588.423 1536.89 Q592.057 1536.89 593.862 1533.35 Q595.691 1529.78 595.691 1522.67 Q595.691 1515.55 593.862 1512 Q592.057 1508.44 588.423 1508.44 M588.423 1504.73 Q594.233 1504.73 597.288 1509.34 Q600.367 1513.92 600.367 1522.67 Q600.367 1531.4 597.288 1536.01 Q594.233 1540.59 588.423 1540.59 Q582.612 1540.59 579.534 1536.01 Q576.478 1531.4 576.478 1522.67 Q576.478 1513.92 579.534 1509.34 Q582.612 1504.73 588.423 1504.73 Z\" fill=\"#000000\" fill-rule=\"evenodd\" fill-opacity=\"1\" /><path clip-path=\"url(#clip8100)\" d=\"M 0 0 M605.436 1534.04 L610.321 1534.04 L610.321 1539.92 L605.436 1539.92 L605.436 1534.04 Z\" fill=\"#000000\" fill-rule=\"evenodd\" fill-opacity=\"1\" /><path clip-path=\"url(#clip8100)\" d=\"M 0 0 M625.969 1520.78 Q622.821 1520.78 620.969 1522.93 Q619.14 1525.08 619.14 1528.83 Q619.14 1532.56 620.969 1534.73 Q622.821 1536.89 625.969 1536.89 Q629.117 1536.89 630.946 1534.73 Q632.797 1532.56 632.797 1528.83 Q632.797 1525.08 630.946 1522.93 Q629.117 1520.78 625.969 1520.78 M635.251 1506.12 L635.251 1510.38 Q633.492 1509.55 631.686 1509.11 Q629.904 1508.67 628.145 1508.67 Q623.515 1508.67 621.061 1511.8 Q618.631 1514.92 618.284 1521.24 Q619.649 1519.23 621.709 1518.16 Q623.77 1517.07 626.246 1517.07 Q631.455 1517.07 634.464 1520.24 Q637.496 1523.39 637.496 1528.83 Q637.496 1534.16 634.348 1537.37 Q631.2 1540.59 625.969 1540.59 Q619.973 1540.59 616.802 1536.01 Q613.631 1531.4 613.631 1522.67 Q613.631 1514.48 617.52 1509.62 Q621.409 1504.73 627.959 1504.73 Q629.719 1504.73 631.501 1505.08 Q633.307 1505.43 635.251 1506.12 Z\" fill=\"#000000\" fill-rule=\"evenodd\" fill-opacity=\"1\" /><path clip-path=\"url(#clip8100)\" d=\"M 0 0 M741.434 1508.44 Q737.823 1508.44 735.994 1512 Q734.189 1515.55 734.189 1522.67 Q734.189 1529.78 735.994 1533.35 Q737.823 1536.89 741.434 1536.89 Q745.068 1536.89 746.874 1533.35 Q748.703 1529.78 748.703 1522.67 Q748.703 1515.55 746.874 1512 Q745.068 1508.44 741.434 1508.44 M741.434 1504.73 Q747.244 1504.73 750.3 1509.34 Q753.379 1513.92 753.379 1522.67 Q753.379 1531.4 750.3 1536.01 Q747.244 1540.59 741.434 1540.59 Q735.624 1540.59 732.545 1536.01 Q729.49 1531.4 729.49 1522.67 Q729.49 1513.92 732.545 1509.34 Q735.624 1504.73 741.434 1504.73 Z\" fill=\"#000000\" fill-rule=\"evenodd\" fill-opacity=\"1\" /><path clip-path=\"url(#clip8100)\" d=\"M 0 0 M758.448 1534.04 L763.332 1534.04 L763.332 1539.92 L758.448 1539.92 L758.448 1534.04 Z\" fill=\"#000000\" fill-rule=\"evenodd\" fill-opacity=\"1\" /><path clip-path=\"url(#clip8100)\" d=\"M 0 0 M778.402 1523.51 Q775.068 1523.51 773.147 1525.29 Q771.249 1527.07 771.249 1530.2 Q771.249 1533.32 773.147 1535.11 Q775.068 1536.89 778.402 1536.89 Q781.735 1536.89 783.656 1535.11 Q785.577 1533.3 785.577 1530.2 Q785.577 1527.07 783.656 1525.29 Q781.758 1523.51 778.402 1523.51 M773.726 1521.52 Q770.716 1520.78 769.027 1518.72 Q767.36 1516.66 767.36 1513.69 Q767.36 1509.55 770.3 1507.14 Q773.263 1504.73 778.402 1504.73 Q783.564 1504.73 786.503 1507.14 Q789.443 1509.55 789.443 1513.69 Q789.443 1516.66 787.753 1518.72 Q786.087 1520.78 783.101 1521.52 Q786.48 1522.3 788.355 1524.6 Q790.253 1526.89 790.253 1530.2 Q790.253 1535.22 787.175 1537.91 Q784.119 1540.59 778.402 1540.59 Q772.684 1540.59 769.605 1537.91 Q766.55 1535.22 766.55 1530.2 Q766.55 1526.89 768.448 1524.6 Q770.346 1522.3 773.726 1521.52 M772.013 1514.13 Q772.013 1516.82 773.679 1518.32 Q775.369 1519.83 778.402 1519.83 Q781.411 1519.83 783.101 1518.32 Q784.814 1516.82 784.814 1514.13 Q784.814 1511.45 783.101 1509.94 Q781.411 1508.44 778.402 1508.44 Q775.369 1508.44 773.679 1509.94 Q772.013 1511.45 772.013 1514.13 Z\" fill=\"#000000\" fill-rule=\"evenodd\" fill-opacity=\"1\" /><path clip-path=\"url(#clip8100)\" d=\"M 0 0 M884.654 1535.98 L892.293 1535.98 L892.293 1509.62 L883.983 1511.29 L883.983 1507.03 L892.247 1505.36 L896.923 1505.36 L896.923 1535.98 L904.562 1535.98 L904.562 1539.92 L884.654 1539.92 L884.654 1535.98 Z\" fill=\"#000000\" fill-rule=\"evenodd\" fill-opacity=\"1\" /><path clip-path=\"url(#clip8100)\" d=\"M 0 0 M909.631 1534.04 L914.515 1534.04 L914.515 1539.92 L909.631 1539.92 L909.631 1534.04 Z\" fill=\"#000000\" fill-rule=\"evenodd\" fill-opacity=\"1\" /><path clip-path=\"url(#clip8100)\" d=\"M 0 0 M929.585 1508.44 Q925.973 1508.44 924.145 1512 Q922.339 1515.55 922.339 1522.67 Q922.339 1529.78 924.145 1533.35 Q925.973 1536.89 929.585 1536.89 Q933.219 1536.89 935.024 1533.35 Q936.853 1529.78 936.853 1522.67 Q936.853 1515.55 935.024 1512 Q933.219 1508.44 929.585 1508.44 M929.585 1504.73 Q935.395 1504.73 938.45 1509.34 Q941.529 1513.92 941.529 1522.67 Q941.529 1531.4 938.45 1536.01 Q935.395 1540.59 929.585 1540.59 Q923.774 1540.59 920.696 1536.01 Q917.64 1531.4 917.64 1522.67 Q917.64 1513.92 920.696 1509.34 Q923.774 1504.73 929.585 1504.73 Z\" fill=\"#000000\" fill-rule=\"evenodd\" fill-opacity=\"1\" /><path clip-path=\"url(#clip8100)\" d=\"M 0 0 M75.4226 1472.25 Q71.8115 1472.25 69.9828 1475.81 Q68.1773 1479.35 68.1773 1486.48 Q68.1773 1493.59 69.9828 1497.15 Q71.8115 1500.7 75.4226 1500.7 Q79.0569 1500.7 80.8624 1497.15 Q82.6911 1493.59 82.6911 1486.48 Q82.6911 1479.35 80.8624 1475.81 Q79.0569 1472.25 75.4226 1472.25 M75.4226 1468.54 Q81.2328 1468.54 84.2883 1473.15 Q87.367 1477.73 87.367 1486.48 Q87.367 1495.21 84.2883 1499.82 Q81.2328 1504.4 75.4226 1504.4 Q69.6125 1504.4 66.5338 1499.82 Q63.4782 1495.21 63.4782 1486.48 Q63.4782 1477.73 66.5338 1473.15 Q69.6125 1468.54 75.4226 1468.54 Z\" fill=\"#000000\" fill-rule=\"evenodd\" fill-opacity=\"1\" /><path clip-path=\"url(#clip8100)\" d=\"M 0 0 M92.4364 1497.85 L97.3206 1497.85 L97.3206 1503.73 L92.4364 1503.73 L92.4364 1497.85 Z\" fill=\"#000000\" fill-rule=\"evenodd\" fill-opacity=\"1\" /><path clip-path=\"url(#clip8100)\" d=\"M 0 0 M112.39 1472.25 Q108.779 1472.25 106.95 1475.81 Q105.145 1479.35 105.145 1486.48 Q105.145 1493.59 106.95 1497.15 Q108.779 1500.7 112.39 1500.7 Q116.024 1500.7 117.83 1497.15 Q119.658 1493.59 119.658 1486.48 Q119.658 1479.35 117.83 1475.81 Q116.024 1472.25 112.39 1472.25 M112.39 1468.54 Q118.2 1468.54 121.256 1473.15 Q124.334 1477.73 124.334 1486.48 Q124.334 1495.21 121.256 1499.82 Q118.2 1504.4 112.39 1504.4 Q106.58 1504.4 103.501 1499.82 Q100.446 1495.21 100.446 1486.48 Q100.446 1477.73 103.501 1473.15 Q106.58 1468.54 112.39 1468.54 Z\" fill=\"#000000\" fill-rule=\"evenodd\" fill-opacity=\"1\" /><path clip-path=\"url(#clip8100)\" d=\"M 0 0 M77.0198 1359.65 Q73.4087 1359.65 71.58 1363.22 Q69.7745 1366.76 69.7745 1373.89 Q69.7745 1380.99 71.58 1384.56 Q73.4087 1388.1 77.0198 1388.1 Q80.6541 1388.1 82.4596 1384.56 Q84.2883 1380.99 84.2883 1373.89 Q84.2883 1366.76 82.4596 1363.22 Q80.6541 1359.65 77.0198 1359.65 M77.0198 1355.95 Q82.83 1355.95 85.8855 1360.55 Q88.9642 1365.14 88.9642 1373.89 Q88.9642 1382.61 85.8855 1387.22 Q82.83 1391.8 77.0198 1391.8 Q71.2097 1391.8 68.131 1387.22 Q65.0754 1382.61 65.0754 1373.89 Q65.0754 1365.14 68.131 1360.55 Q71.2097 1355.95 77.0198 1355.95 Z\" fill=\"#000000\" fill-rule=\"evenodd\" fill-opacity=\"1\" /><path clip-path=\"url(#clip8100)\" d=\"M 0 0 M94.0336 1385.25 L98.9179 1385.25 L98.9179 1391.13 L94.0336 1391.13 L94.0336 1385.25 Z\" fill=\"#000000\" fill-rule=\"evenodd\" fill-opacity=\"1\" /><path clip-path=\"url(#clip8100)\" d=\"M 0 0 M108.015 1387.2 L124.334 1387.2 L124.334 1391.13 L102.39 1391.13 L102.39 1387.2 Q105.052 1384.44 109.635 1379.81 Q114.242 1375.16 115.422 1373.82 Q117.668 1371.29 118.547 1369.56 Q119.45 1367.8 119.45 1366.11 Q119.45 1363.36 117.506 1361.62 Q115.584 1359.88 112.483 1359.88 Q110.284 1359.88 107.83 1360.65 Q105.399 1361.41 102.622 1362.96 L102.622 1358.24 Q105.446 1357.11 107.899 1356.53 Q110.353 1355.95 112.39 1355.95 Q117.76 1355.95 120.955 1358.63 Q124.149 1361.32 124.149 1365.81 Q124.149 1367.94 123.339 1369.86 Q122.552 1371.76 120.446 1374.35 Q119.867 1375.02 116.765 1378.24 Q113.663 1381.43 108.015 1387.2 Z\" fill=\"#000000\" fill-rule=\"evenodd\" fill-opacity=\"1\" /><path clip-path=\"url(#clip8100)\" d=\"M 0 0 M74.9365 1247.06 Q71.3254 1247.06 69.4967 1250.62 Q67.6912 1254.16 67.6912 1261.29 Q67.6912 1268.4 69.4967 1271.96 Q71.3254 1275.51 74.9365 1275.51 Q78.5707 1275.51 80.3763 1271.96 Q82.205 1268.4 82.205 1261.29 Q82.205 1254.16 80.3763 1250.62 Q78.5707 1247.06 74.9365 1247.06 M74.9365 1243.35 Q80.7467 1243.35 83.8022 1247.96 Q86.8809 1252.54 86.8809 1261.29 Q86.8809 1270.02 83.8022 1274.63 Q80.7467 1279.21 74.9365 1279.21 Q69.1264 1279.21 66.0477 1274.63 Q62.9921 1270.02 62.9921 1261.29 Q62.9921 1252.54 66.0477 1247.96 Q69.1264 1243.35 74.9365 1243.35 Z\" fill=\"#000000\" fill-rule=\"evenodd\" fill-opacity=\"1\" /><path clip-path=\"url(#clip8100)\" d=\"M 0 0 M91.9503 1272.66 L96.8345 1272.66 L96.8345 1278.54 L91.9503 1278.54 L91.9503 1272.66 Z\" fill=\"#000000\" fill-rule=\"evenodd\" fill-opacity=\"1\" /><path clip-path=\"url(#clip8100)\" d=\"M 0 0 M114.751 1248.05 L102.946 1266.5 L114.751 1266.5 L114.751 1248.05 M113.524 1243.98 L119.404 1243.98 L119.404 1266.5 L124.334 1266.5 L124.334 1270.39 L119.404 1270.39 L119.404 1278.54 L114.751 1278.54 L114.751 1270.39 L99.1493 1270.39 L99.1493 1265.88 L113.524 1243.98 Z\" fill=\"#000000\" fill-rule=\"evenodd\" fill-opacity=\"1\" /><path clip-path=\"url(#clip8100)\" d=\"M 0 0 M75.2606 1134.46 Q71.6495 1134.46 69.8208 1138.03 Q68.0152 1141.57 68.0152 1148.7 Q68.0152 1155.8 69.8208 1159.37 Q71.6495 1162.91 75.2606 1162.91 Q78.8948 1162.91 80.7004 1159.37 Q82.5291 1155.8 82.5291 1148.7 Q82.5291 1141.57 80.7004 1138.03 Q78.8948 1134.46 75.2606 1134.46 M75.2606 1130.76 Q81.0707 1130.76 84.1263 1135.36 Q87.205 1139.95 87.205 1148.7 Q87.205 1157.42 84.1263 1162.03 Q81.0707 1166.61 75.2606 1166.61 Q69.4504 1166.61 66.3717 1162.03 Q63.3162 1157.42 63.3162 1148.7 Q63.3162 1139.95 66.3717 1135.36 Q69.4504 1130.76 75.2606 1130.76 Z\" fill=\"#000000\" fill-rule=\"evenodd\" fill-opacity=\"1\" /><path clip-path=\"url(#clip8100)\" d=\"M 0 0 M92.2744 1160.06 L97.1586 1160.06 L97.1586 1165.94 L92.2744 1165.94 L92.2744 1160.06 Z\" fill=\"#000000\" fill-rule=\"evenodd\" fill-opacity=\"1\" /><path clip-path=\"url(#clip8100)\" d=\"M 0 0 M112.807 1146.8 Q109.659 1146.8 107.807 1148.95 Q105.978 1151.1 105.978 1154.85 Q105.978 1158.58 107.807 1160.76 Q109.659 1162.91 112.807 1162.91 Q115.955 1162.91 117.783 1160.76 Q119.635 1158.58 119.635 1154.85 Q119.635 1151.1 117.783 1148.95 Q115.955 1146.8 112.807 1146.8 M122.089 1132.15 L122.089 1136.41 Q120.33 1135.57 118.524 1135.13 Q116.742 1134.69 114.983 1134.69 Q110.353 1134.69 107.899 1137.82 Q105.469 1140.94 105.122 1147.26 Q106.487 1145.25 108.547 1144.18 Q110.608 1143.1 113.084 1143.1 Q118.293 1143.1 121.302 1146.27 Q124.334 1149.41 124.334 1154.85 Q124.334 1160.18 121.186 1163.4 Q118.038 1166.61 112.807 1166.61 Q106.811 1166.61 103.64 1162.03 Q100.469 1157.42 100.469 1148.7 Q100.469 1140.5 104.358 1135.64 Q108.247 1130.76 114.797 1130.76 Q116.557 1130.76 118.339 1131.1 Q120.145 1131.45 122.089 1132.15 Z\" fill=\"#000000\" fill-rule=\"evenodd\" fill-opacity=\"1\" /><path clip-path=\"url(#clip8100)\" d=\"M 0 0 M75.5152 1021.87 Q71.9041 1021.87 70.0754 1025.43 Q68.2699 1028.97 68.2699 1036.1 Q68.2699 1043.21 70.0754 1046.77 Q71.9041 1050.31 75.5152 1050.31 Q79.1494 1050.31 80.955 1046.77 Q82.7837 1043.21 82.7837 1036.1 Q82.7837 1028.97 80.955 1025.43 Q79.1494 1021.87 75.5152 1021.87 M75.5152 1018.16 Q81.3254 1018.16 84.3809 1022.77 Q87.4596 1027.35 87.4596 1036.1 Q87.4596 1044.83 84.3809 1049.44 Q81.3254 1054.02 75.5152 1054.02 Q69.7051 1054.02 66.6264 1049.44 Q63.5708 1044.83 63.5708 1036.1 Q63.5708 1027.35 66.6264 1022.77 Q69.7051 1018.16 75.5152 1018.16 Z\" fill=\"#000000\" fill-rule=\"evenodd\" fill-opacity=\"1\" /><path clip-path=\"url(#clip8100)\" d=\"M 0 0 M92.529 1047.47 L97.4132 1047.47 L97.4132 1053.35 L92.529 1053.35 L92.529 1047.47 Z\" fill=\"#000000\" fill-rule=\"evenodd\" fill-opacity=\"1\" /><path clip-path=\"url(#clip8100)\" d=\"M 0 0 M112.483 1036.94 Q109.149 1036.94 107.228 1038.72 Q105.33 1040.5 105.33 1043.63 Q105.33 1046.75 107.228 1048.53 Q109.149 1050.31 112.483 1050.31 Q115.816 1050.31 117.737 1048.53 Q119.658 1046.73 119.658 1043.63 Q119.658 1040.5 117.737 1038.72 Q115.839 1036.94 112.483 1036.94 M107.807 1034.94 Q104.797 1034.2 103.108 1032.14 Q101.441 1030.08 101.441 1027.12 Q101.441 1022.98 104.381 1020.57 Q107.344 1018.16 112.483 1018.16 Q117.645 1018.16 120.584 1020.57 Q123.524 1022.98 123.524 1027.12 Q123.524 1030.08 121.834 1032.14 Q120.168 1034.2 117.182 1034.94 Q120.561 1035.73 122.436 1038.02 Q124.334 1040.31 124.334 1043.63 Q124.334 1048.65 121.256 1051.33 Q118.2 1054.02 112.483 1054.02 Q106.765 1054.02 103.686 1051.33 Q100.631 1048.65 100.631 1043.63 Q100.631 1040.31 102.529 1038.02 Q104.427 1035.73 107.807 1034.94 M106.094 1027.56 Q106.094 1030.25 107.76 1031.75 Q109.45 1033.25 112.483 1033.25 Q115.492 1033.25 117.182 1031.75 Q118.895 1030.25 118.895 1027.56 Q118.895 1024.88 117.182 1023.37 Q115.492 1021.87 112.483 1021.87 Q109.45 1021.87 107.76 1023.37 Q106.094 1024.88 106.094 1027.56 Z\" fill=\"#000000\" fill-rule=\"evenodd\" fill-opacity=\"1\" /><path clip-path=\"url(#clip8100)\" d=\"M 0 0 M67.4597 936.817 L75.0985 936.817 L75.0985 910.451 L66.7884 912.118 L66.7884 907.859 L75.0522 906.192 L79.7281 906.192 L79.7281 936.817 L87.367 936.817 L87.367 940.752 L67.4597 940.752 L67.4597 936.817 Z\" fill=\"#000000\" fill-rule=\"evenodd\" fill-opacity=\"1\" /><path clip-path=\"url(#clip8100)\" d=\"M 0 0 M92.4364 934.873 L97.3206 934.873 L97.3206 940.752 L92.4364 940.752 L92.4364 934.873 Z\" fill=\"#000000\" fill-rule=\"evenodd\" fill-opacity=\"1\" /><path clip-path=\"url(#clip8100)\" d=\"M 0 0 M112.39 909.271 Q108.779 909.271 106.95 912.836 Q105.145 916.377 105.145 923.507 Q105.145 930.613 106.95 934.178 Q108.779 937.72 112.39 937.72 Q116.024 937.72 117.83 934.178 Q119.658 930.613 119.658 923.507 Q119.658 916.377 117.83 912.836 Q116.024 909.271 112.39 909.271 M112.39 905.567 Q118.2 905.567 121.256 910.174 Q124.334 914.757 124.334 923.507 Q124.334 932.234 121.256 936.84 Q118.2 941.423 112.39 941.423 Q106.58 941.423 103.501 936.84 Q100.446 932.234 100.446 923.507 Q100.446 914.757 103.501 910.174 Q106.58 905.567 112.39 905.567 Z\" fill=\"#000000\" fill-rule=\"evenodd\" fill-opacity=\"1\" /><path clip-path=\"url(#clip8100)\" d=\"M 0 0 M478.937 848.028 L478.937 851.673 L444.666 851.673 Q445.152 859.37 449.284 863.421 Q453.456 867.431 460.87 867.431 Q465.164 867.431 469.174 866.378 Q473.225 865.325 477.195 863.218 L477.195 870.267 Q473.184 871.968 468.971 872.86 Q464.758 873.751 460.424 873.751 Q449.568 873.751 443.208 867.431 Q436.888 861.112 436.888 850.337 Q436.888 839.197 442.884 832.675 Q448.919 826.112 459.128 826.112 Q468.283 826.112 473.589 832.026 Q478.937 837.9 478.937 848.028 M471.483 845.84 Q471.402 839.723 468.04 836.077 Q464.718 832.432 459.209 832.432 Q452.97 832.432 449.203 835.956 Q445.476 839.48 444.909 845.881 L471.483 845.84 Z\" fill=\"#000000\" fill-rule=\"evenodd\" fill-opacity=\"1\" /><path clip-path=\"url(#clip8100)\" d=\"M 0 0 M513.045 834.173 Q511.789 833.444 510.291 833.12 Q508.832 832.756 507.05 832.756 Q500.73 832.756 497.328 836.888 Q493.965 840.979 493.965 848.676 L493.965 872.576 L486.471 872.576 L486.471 827.206 L493.965 827.206 L493.965 834.254 Q496.315 830.123 500.082 828.138 Q503.85 826.112 509.237 826.112 Q510.007 826.112 510.939 826.234 Q511.87 826.315 513.005 826.517 L513.045 834.173 Z\" fill=\"#000000\" fill-rule=\"evenodd\" fill-opacity=\"1\" /><path clip-path=\"url(#clip8100)\" d=\"M 0 0 M545.696 834.173 Q544.44 833.444 542.941 833.12 Q541.483 832.756 539.7 832.756 Q533.381 832.756 529.978 836.888 Q526.616 840.979 526.616 848.676 L526.616 872.576 L519.122 872.576 L519.122 827.206 L526.616 827.206 L526.616 834.254 Q528.965 830.123 532.733 828.138 Q536.5 826.112 541.888 826.112 Q542.657 826.112 543.589 826.234 Q544.521 826.315 545.655 826.517 L545.696 834.173 Z\" fill=\"#000000\" fill-rule=\"evenodd\" fill-opacity=\"1\" /><path clip-path=\"url(#clip8100)\" d=\"M 0 0 M569.272 832.432 Q563.276 832.432 559.793 837.131 Q556.309 841.789 556.309 849.931 Q556.309 858.074 559.752 862.773 Q563.236 867.431 569.272 867.431 Q575.227 867.431 578.71 862.732 Q582.194 858.033 582.194 849.931 Q582.194 841.87 578.71 837.171 Q575.227 832.432 569.272 832.432 M569.272 826.112 Q578.994 826.112 584.544 832.432 Q590.093 838.751 590.093 849.931 Q590.093 861.071 584.544 867.431 Q578.994 873.751 569.272 873.751 Q559.509 873.751 553.959 867.431 Q548.45 861.071 548.45 849.931 Q548.45 838.751 553.959 832.432 Q559.509 826.112 569.272 826.112 Z\" fill=\"#000000\" fill-rule=\"evenodd\" fill-opacity=\"1\" /><path clip-path=\"url(#clip8100)\" d=\"M 0 0 M624.202 834.173 Q622.946 833.444 621.447 833.12 Q619.989 832.756 618.207 832.756 Q611.887 832.756 608.485 836.888 Q605.122 840.979 605.122 848.676 L605.122 872.576 L597.628 872.576 L597.628 827.206 L605.122 827.206 L605.122 834.254 Q607.472 830.123 611.239 828.138 Q615.007 826.112 620.394 826.112 Q621.164 826.112 622.096 826.234 Q623.027 826.315 624.162 826.517 L624.202 834.173 Z\" fill=\"#000000\" fill-rule=\"evenodd\" fill-opacity=\"1\" /><path clip-path=\"url(#clip8106)\" d=\"\n",
       "M148.334 1486.45 L148.334 1486.45 L155.979 1486.45 L163.623 1486.45 L171.267 1486.45 L178.911 1486.45 L186.555 1486.45 L194.2 1486.45 L201.844 1486.45 L209.488 1486.45 \n",
       "  L217.132 1486.45 L224.777 1486.45 L232.421 1486.45 L240.065 1486.45 L247.709 1486.45 L255.353 1486.45 L262.998 1486.45 L270.642 1486.45 L278.286 1486.45 L285.93 1486.45 \n",
       "  L293.574 1486.45 L301.219 1486.45 L308.863 1486.45 L316.507 1486.45 L324.151 1486.45 L331.796 1486.45 L339.44 1486.45 L347.084 1486.45 L354.728 1486.45 L362.372 1486.45 \n",
       "  L370.017 1486.45 L377.661 1486.45 L385.305 1486.45 L392.949 1486.45 L400.593 1486.45 L408.238 1486.45 L415.882 1486.45 L423.526 1486.45 L431.17 1486.45 L438.815 1486.45 \n",
       "  L446.459 1486.45 L454.103 1486.45 L461.747 1486.45 L469.391 1486.45 L477.036 1486.45 L484.68 1486.45 L492.324 1486.45 L499.968 1486.45 L507.613 1486.45 L515.257 1486.45 \n",
       "  L522.901 1486.45 L530.545 1486.45 L538.189 1486.45 L545.834 1486.45 L553.478 1486.45 L561.122 1486.45 L568.766 1486.45 L576.41 1486.45 L584.055 1486.45 L591.699 1486.45 \n",
       "  L599.343 1486.45 L606.987 1486.45 L614.632 1486.45 L622.276 1486.45 L629.92 1486.45 L637.564 1486.45 L645.208 1486.45 L652.853 1486.45 L660.497 1486.45 L668.141 1486.45 \n",
       "  L675.785 1486.45 L683.429 1486.45 L691.074 1486.45 L698.718 1486.45 L706.362 1486.45 L714.006 1486.45 L721.651 1486.45 L729.295 1486.45 L736.939 1486.45 L744.583 1486.45 \n",
       "  L752.227 1486.45 L759.872 1486.45 L767.516 1486.45 L775.16 1486.45 L782.804 1486.45 L790.448 1486.45 L798.093 1486.45 L805.737 1486.45 L813.381 1486.45 L821.025 1486.45 \n",
       "  L828.67 1486.45 L836.314 1486.45 L843.958 1486.45 L851.602 1486.45 L859.246 1486.45 L866.891 1486.45 L874.535 1486.45 L882.179 1486.45 L889.823 1486.45 L897.467 1486.45 \n",
       "  L905.112 1486.45 L912.756 1486.45 L912.756 1486.45 L912.756 1486.45 L912.756 1486.45 L912.756 1480.82 L912.756 1475.19 L912.756 1469.56 L912.756 1463.93 L912.756 1458.3 \n",
       "  L912.756 1452.67 L912.756 1447.04 L912.756 1441.41 L912.756 1435.78 L912.756 1430.15 L912.756 1424.52 L912.756 1418.89 L912.756 1413.26 L912.756 1407.63 L912.756 1402 \n",
       "  L912.756 1396.37 L912.756 1390.74 L912.756 1385.11 L912.756 1379.48 L912.756 1373.85 L912.756 1368.22 L912.756 1362.59 L912.756 1356.96 L912.756 1351.33 L912.756 1345.7 \n",
       "  L912.756 1340.07 L912.756 1334.44 L912.756 1328.81 L912.756 1323.18 L912.756 1317.56 L912.756 1311.93 L912.756 1306.3 L912.756 1300.67 L912.756 1295.04 L912.756 1289.41 \n",
       "  L912.756 1283.78 L912.756 1278.15 L912.756 1272.52 L912.756 1266.89 L912.756 1261.26 L912.756 1255.63 L912.756 1250 L912.756 1244.37 L912.756 1238.74 L912.756 1233.11 \n",
       "  L912.756 1227.48 L912.756 1221.85 L912.756 1216.22 L912.756 1210.59 L912.756 1204.96 L912.756 1199.33 L912.756 1193.7 L912.756 1188.07 L912.756 1182.44 L912.756 1176.81 \n",
       "  L912.756 1171.18 L912.756 1165.55 L912.756 1159.92 L912.756 1154.29 L912.756 1148.66 L912.756 1143.03 L912.756 1137.4 L912.756 1131.77 L912.756 1126.14 L912.756 1120.51 \n",
       "  L912.756 1114.88 L912.756 1109.25 L912.756 1103.62 L912.756 1097.99 L912.756 1092.36 L912.756 1086.74 L912.756 1081.11 L912.756 1075.48 L912.756 1069.85 L912.756 1064.22 \n",
       "  L912.756 1058.59 L912.756 1052.96 L912.756 1047.33 L912.756 1041.7 L912.756 1036.07 L912.756 1030.44 L912.756 1024.81 L912.756 1019.18 L912.756 1013.55 L912.756 1007.92 \n",
       "  L912.756 1002.29 L912.756 996.659 L912.756 991.029 L912.756 985.399 L912.756 979.77 L912.756 974.14 L912.756 968.51 L912.756 962.88 L912.756 957.251 L912.756 951.621 \n",
       "  L912.756 945.991 L912.756 940.361 L912.756 934.732 L912.756 929.102 L912.756 923.472 L912.756 923.472 L912.756 923.472 L912.756 923.472 L905.112 923.472 L897.467 923.472 \n",
       "  L889.823 923.472 L882.179 923.472 L874.535 923.472 L866.891 923.472 L859.246 923.472 L851.602 923.472 L843.958 923.472 L836.314 923.472 L828.67 923.472 L821.025 923.472 \n",
       "  L813.381 923.472 L805.737 923.472 L798.093 923.472 L790.448 923.472 L782.804 923.472 L775.16 923.472 L767.516 923.472 L759.872 923.472 L752.227 923.472 L744.583 923.472 \n",
       "  L736.939 923.472 L729.295 923.472 L721.651 923.472 L714.006 923.472 L706.362 923.472 L698.718 923.472 L691.074 923.472 L683.429 923.472 L675.785 923.472 L668.141 923.472 \n",
       "  L660.497 923.472 L652.853 923.472 L645.208 923.472 L637.564 923.472 L629.92 923.472 L622.276 923.472 L614.632 923.472 L606.987 923.472 L599.343 923.472 L591.699 923.472 \n",
       "  L584.055 923.472 L576.41 923.472 L568.766 923.472 L561.122 923.472 L553.478 923.472 L545.834 923.472 L538.189 923.472 L530.545 923.472 L522.901 923.472 L515.257 923.472 \n",
       "  L507.613 923.472 L499.968 923.472 L492.324 923.472 L484.68 923.472 L477.036 923.472 L469.391 923.472 L461.747 923.472 L454.103 923.472 L446.459 923.472 L438.815 923.472 \n",
       "  L431.17 923.472 L423.526 923.472 L415.882 923.472 L408.238 923.472 L400.593 923.472 L392.949 923.472 L385.305 923.472 L377.661 923.472 L370.017 923.472 L362.372 923.472 \n",
       "  L354.728 923.472 L347.084 923.472 L339.44 923.472 L331.796 923.472 L324.151 923.472 L316.507 923.472 L308.863 923.472 L301.219 923.472 L293.574 923.472 L285.93 923.472 \n",
       "  L278.286 923.472 L270.642 923.472 L262.998 923.472 L255.353 923.472 L247.709 923.472 L240.065 923.472 L232.421 923.472 L224.777 923.472 L217.132 923.472 L209.488 923.472 \n",
       "  L201.844 923.472 L194.2 923.472 L186.555 923.472 L178.911 923.472 L171.267 923.472 L163.623 923.472 L155.979 923.472 L148.334 923.472 L148.334 923.472 L148.334 923.472 \n",
       "  L148.334 923.472 L148.334 929.102 L148.334 934.732 L148.334 940.361 L148.334 945.991 L148.334 951.621 L148.334 957.251 L148.334 962.88 L148.334 968.51 L148.334 974.14 \n",
       "  L148.334 979.77 L148.334 985.399 L148.334 991.029 L148.334 996.659 L148.334 1002.29 L148.334 1007.92 L148.334 1013.55 L148.334 1019.18 L148.334 1024.81 L148.334 1030.44 \n",
       "  L148.334 1036.07 L148.334 1041.7 L148.334 1047.33 L148.334 1052.96 L148.334 1058.59 L148.334 1064.22 L148.334 1069.85 L148.334 1075.48 L148.334 1081.11 L148.334 1086.74 \n",
       "  L148.334 1092.36 L148.334 1097.99 L148.334 1103.62 L148.334 1109.25 L148.334 1114.88 L148.334 1120.51 L148.334 1126.14 L148.334 1131.77 L148.334 1137.4 L148.334 1143.03 \n",
       "  L148.334 1148.66 L148.334 1154.29 L148.334 1159.92 L148.334 1165.55 L148.334 1171.18 L148.334 1176.81 L148.334 1182.44 L148.334 1188.07 L148.334 1193.7 L148.334 1199.33 \n",
       "  L148.334 1204.96 L148.334 1210.59 L148.334 1216.22 L148.334 1221.85 L148.334 1227.48 L148.334 1233.11 L148.334 1238.74 L148.334 1244.37 L148.334 1250 L148.334 1255.63 \n",
       "  L148.334 1261.26 L148.334 1266.89 L148.334 1272.52 L148.334 1278.15 L148.334 1283.78 L148.334 1289.41 L148.334 1295.04 L148.334 1300.67 L148.334 1306.3 L148.334 1311.93 \n",
       "  L148.334 1317.56 L148.334 1323.18 L148.334 1328.81 L148.334 1334.44 L148.334 1340.07 L148.334 1345.7 L148.334 1351.33 L148.334 1356.96 L148.334 1362.59 L148.334 1368.22 \n",
       "  L148.334 1373.85 L148.334 1379.48 L148.334 1385.11 L148.334 1390.74 L148.334 1396.37 L148.334 1402 L148.334 1407.63 L148.334 1413.26 L148.334 1418.89 L148.334 1424.52 \n",
       "  L148.334 1430.15 L148.334 1435.78 L148.334 1441.41 L148.334 1447.04 L148.334 1452.67 L148.334 1458.3 L148.334 1463.93 L148.334 1469.56 L148.334 1475.19 L148.334 1480.82 \n",
       "  L148.334 1486.45 L148.334 1486.45 L148.334 1486.45  Z\n",
       "  \" fill=\"#000003\" fill-rule=\"evenodd\" fill-opacity=\"1\"/>\n",
       "<path clip-path=\"url(#clip8106)\" d=\"\n",
       "M148.334 1486.45 L148.334 1486.45 L155.979 1486.45 L163.623 1486.45 L171.267 1486.45 L178.911 1486.45 L186.555 1486.45 L194.2 1486.45 L201.844 1486.45 L209.488 1486.45 \n",
       "  L217.132 1486.45 L224.777 1486.45 L232.421 1486.45 L240.065 1486.45 L247.709 1486.45 L255.353 1486.45 L262.998 1486.45 L270.642 1486.45 L278.286 1486.45 L285.93 1486.45 \n",
       "  L293.574 1486.45 L293.574 1486.45 L300.122 1486.45 L301.219 1485.97 L308.863 1482.84 L314.435 1480.82 L316.507 1480.13 L324.151 1477.72 L331.796 1475.55 L333.098 1475.19 \n",
       "  L339.44 1473.55 L347.084 1471.7 L354.728 1469.96 L356.528 1469.56 L362.372 1468.31 L370.017 1466.74 L377.661 1465.22 L384.335 1463.93 L385.305 1463.75 L392.949 1462.32 \n",
       "  L400.593 1460.92 L408.238 1459.54 L415.247 1458.3 L415.882 1458.19 L423.526 1456.85 L431.17 1455.52 L438.815 1454.2 L446.459 1452.89 L447.76 1452.67 L454.103 1451.58 \n",
       "  L461.747 1450.28 L469.391 1448.97 L477.036 1447.66 L480.667 1447.04 L484.68 1446.35 L492.324 1445.03 L499.968 1443.71 L507.613 1442.38 L513.15 1441.41 L515.257 1441.04 \n",
       "  L522.901 1439.68 L530.545 1438.32 L538.189 1436.94 L544.615 1435.78 L545.834 1435.56 L553.478 1434.14 L561.122 1432.71 L568.766 1431.27 L574.595 1430.15 L576.41 1429.8 \n",
       "  L584.055 1428.29 L591.699 1426.76 L599.343 1425.21 L602.679 1424.52 L606.987 1423.61 L614.632 1421.97 L622.276 1420.29 L628.514 1418.89 L629.92 1418.57 L637.564 1416.77 \n",
       "  L645.208 1414.92 L651.868 1413.26 L652.853 1413.01 L660.497 1410.99 L668.141 1408.91 L672.666 1407.63 L675.785 1406.72 L683.429 1404.4 L690.987 1402 L691.074 1401.97 \n",
       "  L698.718 1399.37 L706.362 1396.62 L707.023 1396.37 L714.006 1393.64 L721.025 1390.74 L721.651 1390.47 L729.295 1387.01 L733.259 1385.11 L736.939 1383.25 L743.982 1379.48 \n",
       "  L744.583 1379.14 L752.227 1374.6 L753.418 1373.85 L759.872 1369.55 L761.767 1368.22 L767.516 1363.91 L769.197 1362.59 L775.16 1357.57 L775.848 1356.96 L781.836 1351.33 \n",
       "  L782.804 1350.36 L787.26 1345.7 L790.448 1342.12 L792.206 1340.07 L796.74 1334.44 L798.093 1332.66 L800.919 1328.81 L804.797 1323.18 L805.737 1321.75 L808.412 1317.56 \n",
       "  L811.803 1311.93 L813.381 1309.18 L815 1306.3 L818.03 1300.67 L820.92 1295.04 L821.025 1294.83 L823.685 1289.41 L826.349 1283.78 L828.67 1278.72 L828.929 1278.15 \n",
       "  L831.434 1272.52 L833.884 1266.89 L836.288 1261.26 L836.314 1261.2 L838.657 1255.63 L841.004 1250 L843.337 1244.37 L843.958 1242.87 L845.667 1238.74 L848.002 1233.11 \n",
       "  L850.35 1227.48 L851.602 1224.5 L852.723 1221.85 L855.129 1216.22 L857.574 1210.59 L859.246 1206.81 L860.071 1204.96 L862.632 1199.33 L865.261 1193.7 L866.891 1190.3 \n",
       "  L867.975 1188.07 L870.79 1182.44 L873.711 1176.81 L874.535 1175.27 L876.768 1171.18 L879.971 1165.55 L882.179 1161.83 L883.344 1159.92 L886.924 1154.29 L889.823 1149.96 \n",
       "  L890.726 1148.66 L894.813 1143.03 L897.467 1139.58 L899.216 1137.4 L904.006 1131.77 L905.112 1130.54 L909.279 1126.14 L912.756 1122.71 L912.756 1126.14 L912.756 1120.51 \n",
       "  L912.756 1114.88 L912.756 1109.25 L912.756 1103.62 L912.756 1097.99 L912.756 1092.36 L912.756 1086.74 L912.756 1081.11 L912.756 1075.48 L912.756 1069.85 L912.756 1064.22 \n",
       "  L912.756 1058.59 L912.756 1052.96 L912.756 1047.33 L912.756 1041.7 L912.756 1036.07 L912.756 1030.44 L912.756 1024.81 L912.756 1019.18 L912.756 1013.55 L912.756 1007.92 \n",
       "  L912.756 1002.29 L912.756 996.659 L912.756 991.029 L912.756 985.399 L912.756 979.77 L912.756 974.14 L912.756 968.51 L912.756 962.88 L912.756 957.251 L912.756 951.621 \n",
       "  L912.756 945.991 L912.756 940.361 L912.756 934.732 L912.756 929.102 L912.756 923.472 L912.756 923.472 L912.756 923.472 L912.756 923.472 L905.112 923.472 L897.467 923.472 \n",
       "  L889.823 923.472 L882.179 923.472 L874.535 923.472 L866.891 923.472 L859.246 923.472 L851.602 923.472 L843.958 923.472 L836.314 923.472 L828.67 923.472 L821.025 923.472 \n",
       "  L813.381 923.472 L805.737 923.472 L798.093 923.472 L790.448 923.472 L782.804 923.472 L775.16 923.472 L767.516 923.472 L759.872 923.472 L752.227 923.472 L744.583 923.472 \n",
       "  L736.939 923.472 L729.295 923.472 L721.651 923.472 L714.006 923.472 L706.362 923.472 L709.579 923.472 L706.362 924.681 L698.718 927.225 L692.217 929.102 L691.074 929.421 \n",
       "  L683.429 931.328 L675.785 932.97 L668.141 934.38 L665.954 934.732 L660.497 935.591 L652.853 936.622 L645.208 937.486 L637.564 938.201 L629.92 938.779 L622.276 939.233 \n",
       "  L614.632 939.572 L606.987 939.804 L599.343 939.937 L591.699 939.977 L584.055 939.928 L576.41 939.796 L568.766 939.584 L561.122 939.296 L553.478 938.934 L545.834 938.5 \n",
       "  L538.189 937.996 L530.545 937.423 L522.901 936.783 L515.257 936.076 L507.613 935.301 L502.429 934.732 L499.968 934.461 L492.324 933.554 L484.68 932.578 L477.036 931.531 \n",
       "  L469.391 930.409 L461.747 929.211 L461.088 929.102 L454.103 927.933 L446.459 926.569 L438.815 925.113 L431.17 923.556 L430.775 923.472 L423.526 923.472 L423.526 923.472 \n",
       "  L415.882 923.472 L408.238 923.472 L400.593 923.472 L392.949 923.472 L385.305 923.472 L377.661 923.472 L370.017 923.472 L362.372 923.472 L354.728 923.472 L347.084 923.472 \n",
       "  L339.44 923.472 L331.796 923.472 L324.151 923.472 L316.507 923.472 L308.863 923.472 L301.219 923.472 L293.574 923.472 L285.93 923.472 L278.286 923.472 L270.642 923.472 \n",
       "  L262.998 923.472 L255.353 923.472 L247.709 923.472 L240.065 923.472 L232.421 923.472 L224.777 923.472 L217.132 923.472 L209.488 923.472 L201.844 923.472 L194.2 923.472 \n",
       "  L186.555 923.472 L178.911 923.472 L171.267 923.472 L163.623 923.472 L155.979 923.472 L148.334 923.472 L148.334 923.472 L148.334 923.472 L148.334 923.472 L148.334 929.102 \n",
       "  L148.334 934.732 L148.334 940.361 L148.334 945.991 L148.334 951.621 L148.334 957.251 L148.334 962.88 L148.334 968.51 L148.334 974.14 L148.334 979.77 L148.334 985.399 \n",
       "  L148.334 991.029 L148.334 996.659 L148.334 993.991 L151.459 996.659 L155.979 1001.01 L157.234 1002.29 L162.172 1007.92 L163.623 1009.78 L166.426 1013.55 L170.1 1019.18 \n",
       "  L171.267 1021.17 L173.312 1024.81 L176.124 1030.44 L178.585 1036.07 L178.911 1036.89 L180.779 1041.7 L182.719 1047.33 L184.439 1052.96 L185.968 1058.59 L186.555 1060.97 \n",
       "  L187.342 1064.22 L188.579 1069.85 L189.685 1075.48 L190.676 1081.11 L191.566 1086.74 L192.365 1092.36 L193.083 1097.99 L193.729 1103.62 L194.2 1108.17 L194.312 1109.25 \n",
       "  L194.842 1114.88 L195.319 1120.51 L195.746 1126.14 L196.13 1131.77 L196.473 1137.4 L196.78 1143.03 L197.053 1148.66 L197.296 1154.29 L197.511 1159.92 L197.7 1165.55 \n",
       "  L197.866 1171.18 L198.01 1176.81 L198.134 1182.44 L198.239 1188.07 L198.328 1193.7 L198.4 1199.33 L198.458 1204.96 L198.501 1210.59 L198.531 1216.22 L198.549 1221.85 \n",
       "  L198.554 1227.48 L198.548 1233.11 L198.53 1238.74 L198.501 1244.37 L198.461 1250 L198.409 1255.63 L198.345 1261.26 L198.27 1266.89 L198.181 1272.52 L198.079 1278.15 \n",
       "  L197.962 1283.78 L197.829 1289.41 L197.678 1295.04 L197.509 1300.67 L197.317 1306.3 L197.102 1311.93 L196.859 1317.56 L196.584 1323.18 L196.275 1328.81 L195.925 1334.44 \n",
       "  L195.528 1340.07 L195.076 1345.7 L194.561 1351.33 L194.2 1354.84 L193.976 1356.96 L193.311 1362.59 L192.545 1368.22 L191.656 1373.85 L190.62 1379.48 L189.405 1385.11 \n",
       "  L187.969 1390.74 L186.555 1395.45 L186.263 1396.37 L184.245 1402 L181.789 1407.63 L178.911 1413 L178.762 1413.26 L175.043 1418.89 L171.267 1423.46 L170.308 1424.52 \n",
       "  L164.214 1430.15 L163.623 1430.61 L156.155 1435.78 L155.979 1435.88 L148.334 1439.96 L148.334 1441.41 L148.334 1441.41 L148.334 1447.04 L148.334 1452.67 L148.334 1458.3 \n",
       "  L148.334 1463.93 L148.334 1469.56 L148.334 1475.19 L148.334 1480.82 L148.334 1486.45 L148.334 1486.45 L148.334 1486.45 M400.593 1486.45 L408.238 1486.45 \n",
       "  L415.882 1486.45 L423.526 1486.45 L431.17 1486.45 L438.815 1486.45 L446.459 1486.45 L454.103 1486.45 L461.747 1486.45 L469.391 1486.45 L477.036 1486.45 L484.68 1486.45 \n",
       "  L492.324 1486.45 L499.968 1486.45 L507.613 1486.45 L515.257 1486.45 L522.901 1486.45 L530.545 1486.45 L538.189 1486.45 L545.834 1486.45 L553.478 1486.45 L561.122 1486.45 \n",
       "  L568.766 1486.45 L576.41 1486.45 L584.055 1486.45 L591.699 1486.45 L599.343 1486.45 L606.987 1486.45 L614.632 1486.45 L622.276 1486.45 L629.92 1486.45 L637.564 1486.45 \n",
       "  L645.208 1486.45 L652.853 1486.45 L660.497 1486.45 L668.141 1486.45 L675.785 1486.45 L683.429 1486.45 L691.074 1486.45 L698.718 1486.45 L706.362 1486.45 L714.006 1486.45 \n",
       "  L721.651 1486.45 L729.295 1486.45 L736.939 1486.45 L744.583 1486.45 L752.227 1486.45 L759.872 1486.45 L767.516 1486.45 L775.16 1486.45 L782.804 1486.45 L790.448 1486.45 \n",
       "  L798.093 1486.45 L805.737 1486.45 L813.381 1486.45 L821.025 1486.45 L828.67 1486.45 L836.314 1486.45 L843.958 1486.45 L851.602 1486.45 L859.246 1486.45 L866.891 1486.45 \n",
       "  L874.535 1486.45 L882.179 1486.45 L889.823 1486.45 L897.467 1486.45 L905.112 1486.45 L912.756 1486.45 L912.756 1486.45 L912.756 1486.45 L912.756 1486.45 L912.756 1480.82 \n",
       "  L912.756 1475.19 L912.756 1469.56 L912.756 1463.93 L912.756 1458.3 L912.756 1452.67 L912.756 1447.04 L912.756 1441.41 L912.756 1435.78 L912.756 1430.15 L912.756 1424.52 \n",
       "  L912.756 1418.89 L912.756 1413.26 L912.756 1407.63 L912.756 1402 L912.756 1396.37 L912.756 1390.74 L912.756 1385.11 L912.756 1379.48 L912.756 1373.85 L912.756 1368.22 \n",
       "  L912.756 1362.59 L912.756 1356.96 L912.756 1351.33 L912.756 1345.7 L912.756 1340.07 L912.756 1334.44 L912.756 1328.81 L912.756 1323.18 L912.756 1317.56 L912.756 1311.93 \n",
       "  L912.756 1306.3 L912.756 1300.67 L912.756 1295.04 L912.756 1289.41 L912.756 1283.78 L912.756 1278.15 L912.756 1272.52 L912.756 1266.89 L912.756 1261.26 L912.756 1255.63 \n",
       "  L912.756 1250 L912.756 1244.37 L912.756 1238.74 L912.756 1233.11 L912.756 1227.48 L912.756 1221.85 L912.756 1216.22 L912.756 1210.59 L912.756 1204.96 L912.756 1199.33 \n",
       "  L912.756 1193.7 L912.756 1188.07 L912.756 1182.44 L912.756 1182.44 L912.756 1180.43 L911.451 1182.44 L907.952 1188.07 L905.112 1192.88 L904.638 1193.7 L901.512 1199.33 \n",
       "  L898.527 1204.96 L897.467 1207.04 L895.684 1210.59 L892.961 1216.22 L890.339 1221.85 L889.823 1222.99 L887.819 1227.48 L885.38 1233.11 L883.009 1238.74 L882.179 1240.76 \n",
       "  L880.704 1244.37 L878.454 1250 L876.244 1255.63 L874.535 1260.05 L874.069 1261.26 L871.923 1266.89 L869.791 1272.52 L867.663 1278.15 L866.891 1280.2 L865.534 1283.78 \n",
       "  L863.391 1289.41 L861.22 1295.04 L859.246 1300.07 L859.009 1300.67 L856.747 1306.3 L854.416 1311.93 L851.996 1317.56 L851.602 1318.45 L849.471 1323.18 L846.815 1328.81 \n",
       "  L844.001 1334.44 L843.958 1334.53 L840.999 1340.07 L837.77 1345.7 L836.314 1348.1 L834.269 1351.33 L830.442 1356.96 L828.67 1359.39 L826.222 1362.59 L821.528 1368.22 \n",
       "  L821.025 1368.79 L816.262 1373.85 L813.381 1376.65 L810.293 1379.48 L805.737 1383.31 L803.463 1385.11 L798.093 1389.02 L795.57 1390.74 L790.448 1393.97 L786.36 1396.37 \n",
       "  L782.804 1398.31 L775.505 1402 L775.16 1402.16 L767.516 1405.59 L762.623 1407.63 L759.872 1408.7 L752.227 1411.53 L747.243 1413.26 L744.583 1414.13 L736.939 1416.53 \n",
       "  L729.295 1418.77 L728.876 1418.89 L721.651 1420.85 L714.006 1422.83 L707.138 1424.52 L706.362 1424.7 L698.718 1426.47 L691.074 1428.18 L683.429 1429.82 L681.886 1430.15 \n",
       "  L675.785 1431.4 L668.141 1432.93 L660.497 1434.42 L653.416 1435.78 L652.853 1435.88 L645.208 1437.3 L637.564 1438.7 L629.92 1440.08 L622.529 1441.41 L622.276 1441.45 \n",
       "  L614.632 1442.8 L606.987 1444.13 L599.343 1445.46 L591.699 1446.79 L590.29 1447.04 L584.055 1448.11 L576.41 1449.43 L568.766 1450.75 L561.122 1452.08 L557.72 1452.67 \n",
       "  L553.478 1453.4 L545.834 1454.73 L538.189 1456.07 L530.545 1457.43 L525.668 1458.3 L522.901 1458.79 L515.257 1460.16 L507.613 1461.55 L499.968 1462.96 L494.807 1463.93 \n",
       "  L492.324 1464.39 L484.68 1465.84 L477.036 1467.32 L469.391 1468.82 L465.701 1469.56 L461.747 1470.36 L454.103 1471.93 L446.459 1473.54 L438.851 1475.19 L438.815 1475.2 \n",
       "  L431.17 1476.91 L423.526 1478.68 L415.882 1480.51 L414.639 1480.82 L408.238 1482.43 L400.593 1484.44 L393.32 1486.45 L392.949 1486.45 L400.593 1486.45 M148.334 1390.74 L148.334 1388.81 L150.742 1385.11 L153.983 1379.48 L155.979 1375.56 L156.813 1373.85 L159.311 1368.22 L161.51 1362.59 L163.456 1356.96 L163.623 1356.44 \n",
       "  L165.204 1351.33 L166.764 1345.7 L168.161 1340.07 L169.414 1334.44 L170.541 1328.81 L171.267 1324.83 L171.562 1323.18 L172.491 1317.56 L173.332 1311.93 L174.092 1306.3 \n",
       "  L174.781 1300.67 L175.404 1295.04 L175.968 1289.41 L176.478 1283.78 L176.937 1278.15 L177.35 1272.52 L177.719 1266.89 L178.048 1261.26 L178.338 1255.63 L178.591 1250 \n",
       "  L178.81 1244.37 L178.911 1241.27 L178.995 1238.74 L179.148 1233.11 L179.268 1227.48 L179.355 1221.85 L179.41 1216.22 L179.433 1210.59 L179.422 1204.96 L179.378 1199.33 \n",
       "  L179.3 1193.7 L179.187 1188.07 L179.036 1182.44 L178.911 1178.69 L178.849 1176.81 L178.623 1171.18 L178.356 1165.55 L178.045 1159.92 L177.687 1154.29 L177.279 1148.66 \n",
       "  L176.818 1143.03 L176.299 1137.4 L175.719 1131.77 L175.071 1126.14 L174.351 1120.51 L173.552 1114.88 L172.667 1109.25 L171.687 1103.62 L171.267 1101.42 L170.61 1097.99 \n",
       "  L169.426 1092.36 L168.116 1086.74 L166.667 1081.11 L165.061 1075.48 L163.623 1070.9 L163.286 1069.85 L161.332 1064.22 L159.16 1058.59 L156.738 1052.96 L155.979 1051.33 \n",
       "  L154.053 1047.33 L151.053 1041.7 L148.334 1037.12 L148.334 1041.7 L148.334 1041.7 L148.334 1047.33 L148.334 1052.96 L148.334 1058.59 L148.334 1064.22 L148.334 1069.85 \n",
       "  L148.334 1075.48 L148.334 1081.11 L148.334 1086.74 L148.334 1092.36 L148.334 1097.99 L148.334 1103.62 L148.334 1109.25 L148.334 1114.88 L148.334 1120.51 L148.334 1126.14 \n",
       "  L148.334 1131.77 L148.334 1137.4 L148.334 1143.03 L148.334 1148.66 L148.334 1154.29 L148.334 1159.92 L148.334 1165.55 L148.334 1171.18 L148.334 1176.81 L148.334 1182.44 \n",
       "  L148.334 1188.07 L148.334 1193.7 L148.334 1199.33 L148.334 1204.96 L148.334 1210.59 L148.334 1216.22 L148.334 1221.85 L148.334 1227.48 L148.334 1233.11 L148.334 1238.74 \n",
       "  L148.334 1244.37 L148.334 1250 L148.334 1255.63 L148.334 1261.26 L148.334 1266.89 L148.334 1272.52 L148.334 1278.15 L148.334 1283.78 L148.334 1289.41 L148.334 1295.04 \n",
       "  L148.334 1300.67 L148.334 1306.3 L148.334 1311.93 L148.334 1317.56 L148.334 1323.18 L148.334 1328.81 L148.334 1334.44 L148.334 1340.07 L148.334 1345.7 L148.334 1351.33 \n",
       "  L148.334 1356.96 L148.334 1362.59 L148.334 1368.22 L148.334 1373.85 L148.334 1379.48 L148.334 1385.11 L148.334 1390.74  Z\n",
       "  \" fill=\"#0c0727\" fill-rule=\"evenodd\" fill-opacity=\"1\"/>\n",
       "<path clip-path=\"url(#clip8106)\" d=\"\n",
       "M148.334 1486.45 L148.334 1486.45 L155.979 1486.45 L163.623 1486.45 L171.267 1486.45 L178.911 1486.45 L186.555 1486.45 L194.2 1486.45 L201.844 1486.45 L209.488 1486.45 \n",
       "  L217.132 1486.45 L224.777 1486.45 L232.421 1486.45 L240.065 1486.45 L240.065 1486.45 L241.947 1486.45 L246.548 1480.82 L247.709 1479.81 L254.612 1475.19 L255.353 1474.82 \n",
       "  L262.998 1471.63 L269.524 1469.56 L270.642 1469.26 L278.286 1467.39 L285.93 1465.78 L293.574 1464.37 L295.995 1463.93 L301.219 1463.08 L308.863 1461.87 L316.507 1460.73 \n",
       "  L324.151 1459.63 L331.796 1458.55 L333.538 1458.3 L339.44 1457.5 L347.084 1456.45 L354.728 1455.41 L362.372 1454.38 L370.017 1453.34 L374.872 1452.67 L377.661 1452.3 \n",
       "  L385.305 1451.25 L392.949 1450.19 L400.593 1449.12 L408.238 1448.04 L415.249 1447.04 L415.882 1446.95 L423.526 1445.84 L431.17 1444.72 L438.815 1443.58 L446.459 1442.43 \n",
       "  L453.174 1441.41 L454.103 1441.27 L461.747 1440.08 L469.391 1438.87 L477.036 1437.65 L484.68 1436.41 L488.53 1435.78 L492.324 1435.15 L499.968 1433.87 L507.613 1432.56 \n",
       "  L515.257 1431.24 L521.435 1430.15 L522.901 1429.89 L530.545 1428.51 L538.189 1427.1 L545.834 1425.67 L551.903 1424.52 L553.478 1424.22 L561.122 1422.71 L568.766 1421.18 \n",
       "  L576.41 1419.62 L579.93 1418.89 L584.055 1418.01 L591.699 1416.36 L599.343 1414.66 L605.48 1413.26 L606.987 1412.91 L614.632 1411.09 L622.276 1409.21 L628.532 1407.63 \n",
       "  L629.92 1407.27 L637.564 1405.23 L645.208 1403.12 L649.14 1402 L652.853 1400.9 L660.497 1398.58 L667.437 1396.37 L668.141 1396.14 L675.785 1393.54 L683.429 1390.81 \n",
       "  L683.606 1390.74 L691.074 1387.87 L697.868 1385.11 L698.718 1384.75 L706.362 1381.38 L710.455 1379.48 L714.006 1377.75 L721.595 1373.85 L721.651 1373.82 L729.295 1369.51 \n",
       "  L731.474 1368.22 L736.939 1364.79 L740.281 1362.59 L744.583 1359.58 L748.167 1356.96 L752.227 1353.8 L755.262 1351.33 L759.872 1347.33 L761.679 1345.7 L767.514 1340.07 \n",
       "  L767.516 1340.07 L772.837 1334.44 L775.16 1331.82 L777.729 1328.81 L782.246 1323.18 L782.804 1322.45 L786.428 1317.56 L790.334 1311.93 L790.448 1311.75 L793.983 1306.3 \n",
       "  L797.423 1300.67 L798.093 1299.52 L800.671 1295.04 L803.758 1289.41 L805.737 1285.65 L806.705 1283.78 L809.526 1278.15 L812.246 1272.52 L813.381 1270.1 L814.875 1266.89 \n",
       "  L817.428 1261.26 L819.92 1255.63 L821.025 1253.08 L822.359 1250 L824.757 1244.37 L827.125 1238.74 L828.67 1235.04 L829.472 1233.11 L831.806 1227.48 L834.136 1221.85 \n",
       "  L836.314 1216.6 L836.471 1216.22 L838.819 1210.59 L841.188 1204.96 L843.586 1199.33 L843.958 1198.46 L846.025 1193.7 L848.511 1188.07 L851.052 1182.44 L851.602 1181.24 \n",
       "  L853.668 1176.81 L856.363 1171.18 L859.15 1165.55 L859.246 1165.36 L862.058 1159.92 L865.089 1154.29 L866.891 1151.07 L868.274 1148.66 L871.641 1143.03 L874.535 1138.43 \n",
       "  L875.209 1137.4 L879.038 1131.77 L882.179 1127.43 L883.153 1126.14 L887.637 1120.51 L889.823 1117.93 L892.56 1114.88 L897.467 1109.79 L898.015 1109.25 L904.182 1103.62 \n",
       "  L905.112 1102.83 L911.263 1097.99 L912.756 1096.9 L912.756 1097.99 L912.756 1092.36 L912.756 1086.74 L912.756 1081.11 L912.756 1075.48 L912.756 1069.85 L912.756 1064.22 \n",
       "  L912.756 1058.59 L912.756 1052.96 L912.756 1047.33 L912.756 1041.7 L912.756 1036.07 L912.756 1030.44 L912.756 1024.81 L912.756 1019.18 L912.756 1013.55 L912.756 1007.92 \n",
       "  L912.756 1002.29 L912.756 996.659 L912.756 991.029 L912.756 985.399 L912.756 979.77 L912.756 974.14 L912.756 968.51 L912.756 962.88 L912.756 957.251 L912.756 951.621 \n",
       "  L912.756 945.991 L912.756 940.361 L912.756 934.732 L912.756 929.102 L912.756 923.472 L912.756 923.472 L912.756 923.472 L912.756 923.472 L905.112 923.472 L897.467 923.472 \n",
       "  L889.823 923.472 L882.179 923.472 L874.535 923.472 L866.891 923.472 L859.246 923.472 L851.602 923.472 L843.958 923.472 L836.314 923.472 L828.67 923.472 L821.025 923.472 \n",
       "  L813.381 923.472 L805.737 923.472 L798.093 923.472 L790.448 923.472 L782.804 923.472 L775.16 923.472 L767.516 923.472 L759.872 923.472 L752.227 923.472 L744.583 923.472 \n",
       "  L745.736 923.472 L744.583 924.203 L736.939 928.497 L735.722 929.102 L729.295 932.132 L722.894 934.732 L721.651 935.214 L714.006 937.853 L706.362 940.1 L705.36 940.361 \n",
       "  L698.718 942.036 L691.074 943.689 L683.429 945.097 L677.756 945.991 L675.785 946.295 L668.141 947.314 L660.497 948.165 L652.853 948.867 L645.208 949.436 L637.564 949.883 \n",
       "  L629.92 950.22 L622.276 950.457 L614.632 950.601 L606.987 950.658 L599.343 950.635 L591.699 950.537 L584.055 950.367 L576.41 950.13 L568.766 949.829 L561.122 949.466 \n",
       "  L553.478 949.044 L545.834 948.565 L538.189 948.031 L530.545 947.441 L522.901 946.799 L515.257 946.104 L514.095 945.991 L507.613 945.362 L499.968 944.568 L492.324 943.722 \n",
       "  L484.68 942.824 L477.036 941.871 L469.391 940.864 L465.757 940.361 L461.747 939.802 L454.103 938.683 L446.459 937.501 L438.815 936.253 L431.17 934.934 L430.041 934.732 \n",
       "  L423.526 933.54 L415.882 932.062 L408.238 930.49 L401.874 929.102 L400.593 928.814 L392.949 927.019 L385.305 925.089 L379.33 923.472 L377.661 923.472 L377.661 923.472 \n",
       "  L370.017 923.472 L362.372 923.472 L354.728 923.472 L347.084 923.472 L339.44 923.472 L331.796 923.472 L324.151 923.472 L316.507 923.472 L308.863 923.472 L301.219 923.472 \n",
       "  L293.574 923.472 L285.93 923.472 L278.286 923.472 L270.642 923.472 L262.998 923.472 L255.353 923.472 L247.709 923.472 L240.065 923.472 L232.421 923.472 L224.777 923.472 \n",
       "  L217.132 923.472 L209.488 923.472 L201.844 923.472 L194.2 923.472 L186.555 923.472 L178.911 923.472 L171.267 923.472 L163.623 923.472 L155.979 923.472 L148.334 923.472 \n",
       "  L148.334 923.472 L148.334 923.472 L148.334 923.472 L148.334 929.102 L148.334 934.732 L148.334 940.361 L148.334 945.991 L148.334 951.621 L148.334 957.251 L148.334 962.88 \n",
       "  L148.334 968.51 L148.334 974.14 L148.334 979.77 L148.334 975.171 L155.878 979.77 L155.979 979.839 L163.484 985.399 L163.623 985.516 L169.727 991.029 L171.267 992.63 \n",
       "  L174.902 996.659 L178.911 1001.87 L179.214 1002.29 L182.892 1007.92 L186 1013.55 L186.555 1014.67 L188.693 1019.18 L191.013 1024.81 L193.018 1030.44 L194.2 1034.19 \n",
       "  L194.773 1036.07 L196.324 1041.7 L197.684 1047.33 L198.881 1052.96 L199.937 1058.59 L200.871 1064.22 L201.7 1069.85 L201.844 1070.92 L202.448 1075.48 L203.115 1081.11 \n",
       "  L203.71 1086.74 L204.24 1092.36 L204.713 1097.99 L205.135 1103.62 L205.512 1109.25 L205.849 1114.88 L206.15 1120.51 L206.418 1126.14 L206.658 1131.77 L206.873 1137.4 \n",
       "  L207.065 1143.03 L207.236 1148.66 L207.389 1154.29 L207.527 1159.92 L207.65 1165.55 L207.761 1171.18 L207.861 1176.81 L207.951 1182.44 L208.033 1188.07 L208.109 1193.7 \n",
       "  L208.179 1199.33 L208.243 1204.96 L208.305 1210.59 L208.363 1216.22 L208.419 1221.85 L208.474 1227.48 L208.528 1233.11 L208.582 1238.74 L208.636 1244.37 L208.691 1250 \n",
       "  L208.748 1255.63 L208.806 1261.26 L208.866 1266.89 L208.929 1272.52 L208.994 1278.15 L209.061 1283.78 L209.132 1289.41 L209.204 1295.04 L209.28 1300.67 L209.357 1306.3 \n",
       "  L209.437 1311.93 L209.488 1315.51 L209.519 1317.56 L209.602 1323.18 L209.686 1328.81 L209.77 1334.44 L209.851 1340.07 L209.929 1345.7 L210.001 1351.33 L210.066 1356.96 \n",
       "  L210.12 1362.59 L210.16 1368.22 L210.182 1373.85 L210.178 1379.48 L210.142 1385.11 L210.063 1390.74 L209.929 1396.37 L209.72 1402 L209.488 1406.33 L209.414 1407.63 \n",
       "  L208.983 1413.26 L208.368 1418.89 L207.489 1424.52 L206.215 1430.15 L204.315 1435.78 L201.844 1440.62 L201.369 1441.41 L196.643 1447.04 L194.2 1448.99 L188.187 1452.67 \n",
       "  L186.555 1453.41 L178.911 1456.24 L171.337 1458.3 L171.267 1458.31 L163.623 1459.89 L155.979 1461.18 L148.334 1462.27 L148.334 1463.93 L148.334 1463.93 L148.334 1469.56 \n",
       "  L148.334 1475.19 L148.334 1480.82 L148.334 1486.45 L148.334 1486.45 L148.334 1486.45 M438.815 1486.45 L446.459 1486.45 L454.103 1486.45 L461.747 1486.45 \n",
       "  L469.391 1486.45 L477.036 1486.45 L484.68 1486.45 L492.324 1486.45 L499.968 1486.45 L507.613 1486.45 L515.257 1486.45 L522.901 1486.45 L530.545 1486.45 L538.189 1486.45 \n",
       "  L545.834 1486.45 L553.478 1486.45 L561.122 1486.45 L568.766 1486.45 L576.41 1486.45 L584.055 1486.45 L591.699 1486.45 L599.343 1486.45 L606.987 1486.45 L614.632 1486.45 \n",
       "  L622.276 1486.45 L629.92 1486.45 L637.564 1486.45 L645.208 1486.45 L652.853 1486.45 L660.497 1486.45 L668.141 1486.45 L675.785 1486.45 L683.429 1486.45 L691.074 1486.45 \n",
       "  L698.718 1486.45 L706.362 1486.45 L714.006 1486.45 L721.651 1486.45 L729.295 1486.45 L736.939 1486.45 L744.583 1486.45 L752.227 1486.45 L759.872 1486.45 L767.516 1486.45 \n",
       "  L775.16 1486.45 L782.804 1486.45 L790.448 1486.45 L798.093 1486.45 L805.737 1486.45 L813.381 1486.45 L821.025 1486.45 L828.67 1486.45 L836.314 1486.45 L843.958 1486.45 \n",
       "  L851.602 1486.45 L859.246 1486.45 L866.891 1486.45 L874.535 1486.45 L882.179 1486.45 L889.823 1486.45 L897.467 1486.45 L905.112 1486.45 L912.756 1486.45 L912.756 1486.45 \n",
       "  L912.756 1486.45 L912.756 1486.45 L912.756 1480.82 L912.756 1475.19 L912.756 1469.56 L912.756 1463.93 L912.756 1458.3 L912.756 1452.67 L912.756 1447.04 L912.756 1441.41 \n",
       "  L912.756 1435.78 L912.756 1430.15 L912.756 1424.52 L912.756 1418.89 L912.756 1413.26 L912.756 1407.63 L912.756 1402 L912.756 1396.37 L912.756 1390.74 L912.756 1385.11 \n",
       "  L912.756 1379.48 L912.756 1373.85 L912.756 1368.22 L912.756 1362.59 L912.756 1356.96 L912.756 1351.33 L912.756 1345.7 L912.756 1340.07 L912.756 1334.44 L912.756 1328.81 \n",
       "  L912.756 1323.18 L912.756 1317.56 L912.756 1311.93 L912.756 1306.3 L912.756 1300.67 L912.756 1295.04 L912.756 1289.41 L912.756 1283.78 L912.756 1278.15 L912.756 1272.52 \n",
       "  L912.756 1266.89 L912.756 1261.26 L912.756 1255.63 L912.756 1250 L912.756 1244.37 L912.756 1238.74 L912.756 1233.11 L912.756 1227.48 L912.756 1221.85 L912.756 1216.22 \n",
       "  L912.756 1216.22 L912.756 1215.44 L912.356 1216.22 L909.591 1221.85 L906.947 1227.48 L905.112 1231.55 L904.419 1233.11 L902.006 1238.74 L899.681 1244.37 L897.467 1249.92 \n",
       "  L897.436 1250 L895.276 1255.63 L893.179 1261.26 L891.134 1266.89 L889.823 1270.59 L889.139 1272.52 L887.189 1278.15 L885.268 1283.78 L883.365 1289.41 L882.179 1292.96 \n",
       "  L881.477 1295.04 L879.596 1300.67 L877.705 1306.3 L875.792 1311.93 L874.535 1315.59 L873.848 1317.56 L871.861 1323.18 L869.808 1328.81 L867.671 1334.44 L866.891 1336.44 \n",
       "  L865.432 1340.07 L863.064 1345.7 L860.531 1351.33 L859.246 1354.03 L857.799 1356.96 L854.823 1362.59 L851.602 1368.12 L851.537 1368.22 L847.884 1373.85 L843.958 1379.22 \n",
       "  L843.751 1379.48 L839.039 1385.11 L836.314 1388.01 L833.574 1390.74 L828.67 1395.11 L827.15 1396.37 L821.025 1400.94 L819.49 1402 L813.381 1405.82 L810.215 1407.63 \n",
       "  L805.737 1409.97 L798.801 1413.26 L798.093 1413.57 L790.448 1416.71 L784.603 1418.89 L782.804 1419.51 L775.16 1422.02 L767.516 1424.31 L766.789 1424.52 L759.872 1426.39 \n",
       "  L752.227 1428.33 L744.583 1430.14 L744.559 1430.15 L736.939 1431.83 L729.295 1433.43 L721.651 1434.97 L717.488 1435.78 L714.006 1436.43 L706.362 1437.83 L698.718 1439.2 \n",
       "  L691.074 1440.53 L685.931 1441.41 L683.429 1441.82 L675.785 1443.09 L668.141 1444.33 L660.497 1445.57 L652.853 1446.8 L651.352 1447.04 L645.208 1448.01 L637.564 1449.21 \n",
       "  L629.92 1450.41 L622.276 1451.62 L615.671 1452.67 L614.632 1452.83 L606.987 1454.04 L599.343 1455.25 L591.699 1456.48 L584.055 1457.72 L580.502 1458.3 L576.41 1458.96 \n",
       "  L568.766 1460.22 L561.122 1461.49 L553.478 1462.78 L546.813 1463.93 L545.834 1464.1 L538.189 1465.42 L530.545 1466.77 L522.901 1468.14 L515.257 1469.55 L515.194 1469.56 \n",
       "  L507.613 1470.97 L499.968 1472.43 L492.324 1473.92 L485.981 1475.19 L484.68 1475.45 L477.036 1477.02 L469.391 1478.63 L461.747 1480.29 L459.382 1480.82 L454.103 1482.01 \n",
       "  L446.459 1483.79 L438.815 1485.63 L435.539 1486.45 L431.17 1486.45 L438.815 1486.45 M148.334 1362.59 L148.334 1357.99 L148.787 1356.96 L151.073 1351.33 \n",
       "  L153.117 1345.7 L154.952 1340.07 L155.979 1336.62 L156.609 1334.44 L158.113 1328.81 L159.472 1323.18 L160.702 1317.56 L161.817 1311.93 L162.828 1306.3 L163.623 1301.44 \n",
       "  L163.747 1300.67 L164.589 1295.04 L165.351 1289.41 L166.042 1283.78 L166.666 1278.15 L167.228 1272.52 L167.732 1266.89 L168.182 1261.26 L168.581 1255.63 L168.931 1250 \n",
       "  L169.235 1244.37 L169.493 1238.74 L169.708 1233.11 L169.88 1227.48 L170.01 1221.85 L170.099 1216.22 L170.146 1210.59 L170.151 1204.96 L170.113 1199.33 L170.033 1193.7 \n",
       "  L169.909 1188.07 L169.739 1182.44 L169.522 1176.81 L169.256 1171.18 L168.938 1165.55 L168.567 1159.92 L168.138 1154.29 L167.649 1148.66 L167.095 1143.03 L166.472 1137.4 \n",
       "  L165.775 1131.77 L164.998 1126.14 L164.135 1120.51 L163.623 1117.48 L163.182 1114.88 L162.133 1109.25 L160.974 1103.62 L159.694 1097.99 L158.281 1092.36 L156.72 1086.74 \n",
       "  L155.979 1084.28 L155.006 1081.11 L153.118 1075.48 L151.03 1069.85 L148.716 1064.22 L148.334 1063.36 L148.334 1064.22 L148.334 1064.22 L148.334 1069.85 L148.334 1075.48 \n",
       "  L148.334 1081.11 L148.334 1086.74 L148.334 1092.36 L148.334 1097.99 L148.334 1103.62 L148.334 1109.25 L148.334 1114.88 L148.334 1120.51 L148.334 1126.14 L148.334 1131.77 \n",
       "  L148.334 1137.4 L148.334 1143.03 L148.334 1148.66 L148.334 1154.29 L148.334 1159.92 L148.334 1165.55 L148.334 1171.18 L148.334 1176.81 L148.334 1182.44 L148.334 1188.07 \n",
       "  L148.334 1193.7 L148.334 1199.33 L148.334 1204.96 L148.334 1210.59 L148.334 1216.22 L148.334 1221.85 L148.334 1227.48 L148.334 1233.11 L148.334 1238.74 L148.334 1244.37 \n",
       "  L148.334 1250 L148.334 1255.63 L148.334 1261.26 L148.334 1266.89 L148.334 1272.52 L148.334 1278.15 L148.334 1283.78 L148.334 1289.41 L148.334 1295.04 L148.334 1300.67 \n",
       "  L148.334 1306.3 L148.334 1311.93 L148.334 1317.56 L148.334 1323.18 L148.334 1328.81 L148.334 1334.44 L148.334 1340.07 L148.334 1345.7 L148.334 1351.33 L148.334 1356.96 \n",
       "  L148.334 1362.59  Z\n",
       "  \" fill=\"#240b4e\" fill-rule=\"evenodd\" fill-opacity=\"1\"/>\n",
       "<path clip-path=\"url(#clip8106)\" d=\"\n",
       "M148.334 1486.45 L148.334 1486.45 L155.979 1486.45 L163.623 1486.45 L163.623 1486.45 L164.5 1486.45 L163.623 1486.21 L155.979 1484.45 L148.334 1483.11 L148.334 1486.45 \n",
       "  L148.334 1486.45 L148.334 1486.45 L148.334 1486.45 M484.68 1486.45 L492.324 1486.45 L499.968 1486.45 L507.613 1486.45 L515.257 1486.45 L522.901 1486.45 \n",
       "  L530.545 1486.45 L538.189 1486.45 L545.834 1486.45 L553.478 1486.45 L561.122 1486.45 L568.766 1486.45 L576.41 1486.45 L584.055 1486.45 L591.699 1486.45 L599.343 1486.45 \n",
       "  L606.987 1486.45 L614.632 1486.45 L622.276 1486.45 L629.92 1486.45 L637.564 1486.45 L645.208 1486.45 L652.853 1486.45 L660.497 1486.45 L668.141 1486.45 L675.785 1486.45 \n",
       "  L683.429 1486.45 L691.074 1486.45 L698.718 1486.45 L706.362 1486.45 L714.006 1486.45 L721.651 1486.45 L729.295 1486.45 L736.939 1486.45 L744.583 1486.45 L752.227 1486.45 \n",
       "  L759.872 1486.45 L767.516 1486.45 L775.16 1486.45 L782.804 1486.45 L790.448 1486.45 L798.093 1486.45 L805.737 1486.45 L813.381 1486.45 L821.025 1486.45 L828.67 1486.45 \n",
       "  L836.314 1486.45 L843.958 1486.45 L851.602 1486.45 L859.246 1486.45 L866.891 1486.45 L874.535 1486.45 L882.179 1486.45 L889.823 1486.45 L897.467 1486.45 L905.112 1486.45 \n",
       "  L912.756 1486.45 L912.756 1486.45 L912.756 1486.45 L912.756 1486.45 L912.756 1480.82 L912.756 1475.19 L912.756 1469.56 L912.756 1463.93 L912.756 1458.3 L912.756 1452.67 \n",
       "  L912.756 1447.04 L912.756 1441.41 L912.756 1435.78 L912.756 1430.15 L912.756 1424.52 L912.756 1418.89 L912.756 1413.26 L912.756 1407.63 L912.756 1402 L912.756 1396.37 \n",
       "  L912.756 1390.74 L912.756 1385.11 L912.756 1379.48 L912.756 1373.85 L912.756 1368.22 L912.756 1362.59 L912.756 1356.96 L912.756 1351.33 L912.756 1345.7 L912.756 1340.07 \n",
       "  L912.756 1334.44 L912.756 1328.81 L912.756 1323.18 L912.756 1317.56 L912.756 1311.93 L912.756 1306.3 L912.756 1300.67 L912.756 1295.04 L912.756 1289.41 L912.756 1283.78 \n",
       "  L912.756 1278.15 L912.756 1272.52 L912.756 1266.89 L912.756 1261.26 L912.756 1261.26 L912.756 1260.84 L912.604 1261.26 L910.661 1266.89 L908.797 1272.52 L907.004 1278.15 \n",
       "  L905.276 1283.78 L905.112 1284.34 L903.619 1289.41 L902.015 1295.04 L900.455 1300.67 L898.933 1306.3 L897.467 1311.83 L897.442 1311.93 L895.986 1317.56 L894.544 1323.18 \n",
       "  L893.108 1328.81 L891.667 1334.44 L890.211 1340.07 L889.823 1341.58 L888.733 1345.7 L887.214 1351.33 L885.632 1356.96 L883.963 1362.59 L882.179 1368.22 L882.176 1368.22 \n",
       "  L880.256 1373.85 L878.136 1379.48 L875.752 1385.11 L874.535 1387.73 L873.033 1390.74 L869.862 1396.37 L866.891 1400.84 L866.053 1402 L861.389 1407.63 L859.246 1409.82 \n",
       "  L855.478 1413.26 L851.602 1416.26 L847.731 1418.89 L843.958 1421.1 L837.196 1424.52 L836.314 1424.91 L828.67 1427.99 L822.421 1430.15 L821.025 1430.58 L813.381 1432.79 \n",
       "  L805.737 1434.73 L801.248 1435.78 L798.093 1436.46 L790.448 1438.02 L782.804 1439.45 L775.16 1440.79 L771.471 1441.41 L767.516 1442.04 L759.872 1443.22 L752.227 1444.35 \n",
       "  L744.583 1445.44 L736.939 1446.5 L733.063 1447.04 L729.295 1447.54 L721.651 1448.54 L714.006 1449.54 L706.362 1450.53 L698.718 1451.51 L691.074 1452.5 L689.766 1452.67 \n",
       "  L683.429 1453.47 L675.785 1454.45 L668.141 1455.44 L660.497 1456.44 L652.853 1457.44 L646.456 1458.3 L645.208 1458.46 L637.564 1459.49 L629.92 1460.53 L622.276 1461.59 \n",
       "  L614.632 1462.66 L606.987 1463.76 L605.856 1463.93 L599.343 1464.87 L591.699 1466.01 L584.055 1467.17 L576.41 1468.35 L568.768 1469.56 L568.766 1469.56 L561.122 1470.79 \n",
       "  L553.478 1472.05 L545.834 1473.34 L538.189 1474.67 L535.253 1475.19 L530.545 1476.02 L522.901 1477.41 L515.257 1478.84 L507.613 1480.32 L505.073 1480.82 L499.968 1481.83 \n",
       "  L492.324 1483.39 L484.68 1485.01 L478.081 1486.45 L477.036 1486.45 L484.68 1486.45 M316.507 1441.63 L324.151 1441.73 L331.796 1441.67 L339.44 1441.5 \n",
       "  L341.894 1441.41 L347.084 1441.22 L354.728 1440.86 L362.372 1440.41 L370.017 1439.89 L377.661 1439.3 L385.305 1438.66 L392.949 1437.96 L400.593 1437.22 L408.238 1436.43 \n",
       "  L414.118 1435.78 L415.882 1435.59 L423.526 1434.71 L431.17 1433.78 L438.815 1432.82 L446.459 1431.83 L454.103 1430.79 L458.699 1430.15 L461.747 1429.72 L469.391 1428.61 \n",
       "  L477.036 1427.47 L484.68 1426.29 L492.324 1425.08 L495.789 1424.52 L499.968 1423.84 L507.613 1422.55 L515.257 1421.22 L522.901 1419.87 L528.272 1418.89 L530.545 1418.47 \n",
       "  L538.189 1417.03 L545.834 1415.54 L553.478 1414.02 L557.21 1413.26 L561.122 1412.45 L568.766 1410.82 L576.41 1409.14 L583.129 1407.63 L584.055 1407.42 L591.699 1405.61 \n",
       "  L599.343 1403.75 L606.309 1402 L606.987 1401.83 L614.632 1399.8 L622.276 1397.7 L626.98 1396.37 L629.92 1395.51 L637.564 1393.2 L645.208 1390.8 L645.38 1390.74 \n",
       "  L652.853 1388.23 L660.497 1385.55 L661.706 1385.11 L668.141 1382.68 L675.785 1379.65 L676.201 1379.48 L683.429 1376.39 L689.071 1373.85 L691.074 1372.91 L698.718 1369.15 \n",
       "  L700.531 1368.22 L706.362 1365.08 L710.759 1362.59 L714.006 1360.65 L719.927 1356.96 L721.651 1355.83 L728.173 1351.33 L729.295 1350.51 L735.621 1345.7 L736.939 1344.64 \n",
       "  L742.376 1340.07 L744.583 1338.1 L748.533 1334.44 L752.227 1330.8 L754.17 1328.81 L759.356 1323.18 L759.872 1322.59 L764.136 1317.56 L767.516 1313.3 L768.577 1311.93 \n",
       "  L772.708 1306.3 L775.16 1302.76 L776.577 1300.67 L780.207 1295.04 L782.804 1290.79 L783.637 1289.41 L786.879 1283.78 L789.969 1278.15 L790.448 1277.24 L792.914 1272.52 \n",
       "  L795.74 1266.89 L798.093 1262.03 L798.462 1261.26 L801.086 1255.63 L803.635 1250 L805.737 1245.24 L806.117 1244.37 L808.537 1238.74 L810.913 1233.11 L813.251 1227.48 \n",
       "  L813.381 1227.16 L815.556 1221.85 L817.84 1216.22 L820.11 1210.59 L821.025 1208.31 L822.373 1204.96 L824.637 1199.33 L826.908 1193.7 L828.67 1189.35 L829.194 1188.07 \n",
       "  L831.505 1182.44 L833.845 1176.81 L836.225 1171.18 L836.314 1170.97 L838.658 1165.55 L841.15 1159.92 L843.712 1154.29 L843.958 1153.76 L846.367 1148.66 L849.121 1143.03 \n",
       "  L851.602 1138.15 L851.994 1137.4 L855.022 1131.77 L858.213 1126.14 L859.246 1124.38 L861.621 1120.51 L865.275 1114.88 L866.891 1112.51 L869.24 1109.25 L873.578 1103.62 \n",
       "  L874.535 1102.45 L878.409 1097.99 L882.179 1093.99 L883.84 1092.36 L889.823 1086.94 L890.074 1086.74 L897.424 1081.11 L897.467 1081.07 L905.112 1076.2 L906.391 1075.48 \n",
       "  L912.756 1072.15 L912.756 1075.48 L912.756 1069.85 L912.756 1064.22 L912.756 1058.59 L912.756 1052.96 L912.756 1047.33 L912.756 1041.7 L912.756 1036.07 L912.756 1030.44 \n",
       "  L912.756 1024.81 L912.756 1019.18 L912.756 1013.55 L912.756 1007.92 L912.756 1002.29 L912.756 996.659 L912.756 991.029 L912.756 985.399 L912.756 979.77 L912.756 974.14 \n",
       "  L912.756 968.51 L912.756 962.88 L912.756 957.251 L912.756 951.621 L912.756 945.991 L912.756 940.361 L912.756 934.732 L912.756 929.102 L912.756 923.472 L912.756 923.472 \n",
       "  L912.756 923.472 L912.756 923.472 L905.112 923.472 L897.467 923.472 L889.823 923.472 L882.179 923.472 L874.535 923.472 L866.891 923.472 L859.246 923.472 L851.602 923.472 \n",
       "  L843.958 923.472 L836.314 923.472 L828.67 923.472 L821.025 923.472 L813.381 923.472 L805.737 923.472 L798.093 923.472 L790.448 923.472 L782.804 923.472 L775.16 923.472 \n",
       "  L775.805 923.472 L775.16 924.143 L769.804 929.102 L767.516 931.038 L762.555 934.732 L759.872 936.579 L753.541 940.361 L752.227 941.094 L744.583 944.82 L741.787 945.991 \n",
       "  L736.939 947.917 L729.295 950.499 L725.421 951.621 L721.651 952.668 L714.006 954.496 L706.362 956.026 L699.059 957.251 L698.718 957.306 L691.074 958.389 L683.429 959.285 \n",
       "  L675.785 960.019 L668.141 960.611 L660.497 961.078 L652.853 961.433 L645.208 961.688 L637.564 961.851 L629.92 961.933 L622.276 961.938 L614.632 961.873 L606.987 961.744 \n",
       "  L599.343 961.554 L591.699 961.307 L584.055 961.006 L576.41 960.655 L568.766 960.256 L561.122 959.81 L553.478 959.321 L545.834 958.789 L538.189 958.216 L530.545 957.603 \n",
       "  L526.411 957.251 L522.901 956.955 L515.257 956.272 L507.613 955.553 L499.968 954.798 L492.324 954.006 L484.68 953.178 L477.036 952.314 L471.13 951.621 L469.391 951.416 \n",
       "  L461.747 950.486 L454.103 949.517 L446.459 948.51 L438.815 947.461 L431.17 946.369 L428.59 945.991 L423.526 945.235 L415.882 944.053 L408.238 942.816 L400.593 941.519 \n",
       "  L394.072 940.361 L392.949 940.156 L385.305 938.719 L377.661 937.194 L370.017 935.567 L366.27 934.732 L362.372 933.82 L354.728 931.928 L347.084 929.86 L344.438 929.102 \n",
       "  L339.44 927.57 L331.796 925.002 L327.642 923.472 L324.151 923.472 L324.151 923.472 L316.507 923.472 L308.863 923.472 L301.219 923.472 L293.574 923.472 L285.93 923.472 \n",
       "  L278.286 923.472 L270.642 923.472 L262.998 923.472 L255.353 923.472 L247.709 923.472 L240.065 923.472 L232.421 923.472 L224.777 923.472 L217.132 923.472 L209.488 923.472 \n",
       "  L201.844 923.472 L194.2 923.472 L186.555 923.472 L178.911 923.472 L171.267 923.472 L163.623 923.472 L155.979 923.472 L148.334 923.472 L148.334 923.472 L148.334 923.472 \n",
       "  L148.334 923.472 L148.334 929.102 L148.334 934.732 L148.334 940.361 L148.334 945.991 L148.334 951.621 L148.334 957.251 L148.334 962.88 L148.334 957.526 L155.979 960.273 \n",
       "  L162.299 962.88 L163.623 963.495 L171.267 967.404 L173.208 968.51 L178.911 972.277 L181.441 974.14 L186.555 978.601 L187.775 979.77 L192.764 985.399 L194.2 987.332 \n",
       "  L196.758 991.029 L199.987 996.659 L201.844 1000.54 L202.633 1002.29 L204.852 1007.92 L206.698 1013.55 L208.247 1019.18 L209.488 1024.49 L209.56 1024.81 L210.703 1030.44 \n",
       "  L211.68 1036.07 L212.519 1041.7 L213.243 1047.33 L213.868 1052.96 L214.41 1058.59 L214.88 1064.22 L215.289 1069.85 L215.644 1075.48 L215.953 1081.11 L216.222 1086.74 \n",
       "  L216.456 1092.36 L216.659 1097.99 L216.836 1103.62 L216.991 1109.25 L217.125 1114.88 L217.132 1115.23 L217.245 1120.51 L217.35 1126.14 L217.442 1131.77 L217.524 1137.4 \n",
       "  L217.598 1143.03 L217.664 1148.66 L217.726 1154.29 L217.784 1159.92 L217.839 1165.55 L217.894 1171.18 L217.95 1176.81 L218.007 1182.44 L218.066 1188.07 L218.13 1193.7 \n",
       "  L218.198 1199.33 L218.273 1204.96 L218.354 1210.59 L218.444 1216.22 L218.543 1221.85 L218.651 1227.48 L218.771 1233.11 L218.902 1238.74 L219.047 1244.37 L219.205 1250 \n",
       "  L219.379 1255.63 L219.569 1261.26 L219.776 1266.89 L220.001 1272.52 L220.247 1278.15 L220.513 1283.78 L220.803 1289.41 L221.117 1295.04 L221.457 1300.67 L221.825 1306.3 \n",
       "  L222.224 1311.93 L222.655 1317.56 L223.123 1323.18 L223.63 1328.81 L224.179 1334.44 L224.776 1340.07 L224.777 1340.08 L225.443 1345.7 L226.17 1351.33 L226.966 1356.96 \n",
       "  L227.841 1362.59 L228.806 1368.22 L229.876 1373.85 L231.071 1379.48 L232.414 1385.11 L232.421 1385.14 L233.987 1390.74 L235.795 1396.37 L237.9 1402 L240.065 1406.95 \n",
       "  L240.404 1407.63 L243.544 1413.26 L247.455 1418.89 L247.709 1419.22 L252.766 1424.52 L255.353 1426.76 L260.361 1430.15 L262.998 1431.67 L270.642 1435.01 L272.981 1435.78 \n",
       "  L278.286 1437.33 L285.93 1438.96 L293.574 1440.1 L301.219 1440.87 L308.863 1441.36 L310.211 1441.41 L316.507 1441.63 M148.334 1323.18 L148.334 1320.35 \n",
       "  L149.087 1317.56 L150.481 1311.93 L151.747 1306.3 L152.897 1300.67 L153.941 1295.04 L154.89 1289.41 L155.749 1283.78 L155.979 1282.14 L156.532 1278.15 L157.24 1272.52 \n",
       "  L157.877 1266.89 L158.446 1261.26 L158.951 1255.63 L159.396 1250 L159.783 1244.37 L160.114 1238.74 L160.391 1233.11 L160.616 1227.48 L160.789 1221.85 L160.911 1216.22 \n",
       "  L160.981 1210.59 L161.001 1204.96 L160.97 1199.33 L160.886 1193.7 L160.75 1188.07 L160.559 1182.44 L160.311 1176.81 L160.005 1171.18 L159.638 1165.55 L159.208 1159.92 \n",
       "  L158.71 1154.29 L158.14 1148.66 L157.496 1143.03 L156.771 1137.4 L155.979 1131.91 L155.959 1131.77 L155.063 1126.14 L154.068 1120.51 L152.965 1114.88 L151.746 1109.25 \n",
       "  L150.4 1103.62 L148.916 1097.99 L148.334 1095.97 L148.334 1097.99 L148.334 1097.99 L148.334 1103.62 L148.334 1109.25 L148.334 1114.88 L148.334 1120.51 L148.334 1126.14 \n",
       "  L148.334 1131.77 L148.334 1137.4 L148.334 1143.03 L148.334 1148.66 L148.334 1154.29 L148.334 1159.92 L148.334 1165.55 L148.334 1171.18 L148.334 1176.81 L148.334 1182.44 \n",
       "  L148.334 1188.07 L148.334 1193.7 L148.334 1199.33 L148.334 1204.96 L148.334 1210.59 L148.334 1216.22 L148.334 1221.85 L148.334 1227.48 L148.334 1233.11 L148.334 1238.74 \n",
       "  L148.334 1244.37 L148.334 1250 L148.334 1255.63 L148.334 1261.26 L148.334 1266.89 L148.334 1272.52 L148.334 1278.15 L148.334 1283.78 L148.334 1289.41 L148.334 1295.04 \n",
       "  L148.334 1300.67 L148.334 1306.3 L148.334 1311.93 L148.334 1317.56 L148.334 1323.18  Z\n",
       "  \" fill=\"#420a67\" fill-rule=\"evenodd\" fill-opacity=\"1\"/>\n",
       "<path clip-path=\"url(#clip8106)\" d=\"\n",
       "M530.545 1486.45 L538.189 1486.45 L545.834 1486.45 L553.478 1486.45 L561.122 1486.45 L568.766 1486.45 L576.41 1486.45 L584.055 1486.45 L591.699 1486.45 L599.343 1486.45 \n",
       "  L606.987 1486.45 L614.632 1486.45 L622.276 1486.45 L629.92 1486.45 L637.564 1486.45 L645.208 1486.45 L652.853 1486.45 L660.497 1486.45 L668.141 1486.45 L675.785 1486.45 \n",
       "  L683.429 1486.45 L691.074 1486.45 L698.718 1486.45 L706.362 1486.45 L714.006 1486.45 L721.651 1486.45 L729.295 1486.45 L736.939 1486.45 L744.583 1486.45 L752.227 1486.45 \n",
       "  L759.872 1486.45 L767.516 1486.45 L775.16 1486.45 L782.804 1486.45 L790.448 1486.45 L798.093 1486.45 L805.737 1486.45 L813.381 1486.45 L821.025 1486.45 L828.67 1486.45 \n",
       "  L836.314 1486.45 L843.958 1486.45 L851.602 1486.45 L859.246 1486.45 L866.891 1486.45 L874.535 1486.45 L874.535 1486.45 L881.275 1486.45 L878.807 1480.82 L875.278 1475.19 \n",
       "  L874.535 1474.25 L869.621 1469.56 L866.891 1467.63 L859.246 1463.97 L859.126 1463.93 L851.602 1461.73 L843.958 1460.29 L836.314 1459.35 L828.67 1458.74 L821.025 1458.37 \n",
       "  L818.241 1458.3 L813.381 1458.18 L805.737 1458.11 L798.093 1458.15 L790.448 1458.27 L789.541 1458.3 L782.804 1458.47 L775.16 1458.72 L767.516 1459.03 L759.872 1459.38 \n",
       "  L752.227 1459.77 L744.583 1460.2 L736.939 1460.67 L729.295 1461.17 L721.651 1461.71 L714.006 1462.28 L706.362 1462.88 L698.718 1463.5 L693.846 1463.93 L691.074 1464.16 \n",
       "  L683.429 1464.84 L675.785 1465.56 L668.141 1466.3 L660.497 1467.07 L652.853 1467.88 L645.208 1468.71 L637.732 1469.56 L637.564 1469.58 L629.92 1470.47 L622.276 1471.39 \n",
       "  L614.632 1472.35 L606.987 1473.33 L599.343 1474.36 L593.346 1475.19 L591.699 1475.41 L584.055 1476.5 L576.41 1477.63 L568.766 1478.79 L561.122 1479.99 L556.03 1480.82 \n",
       "  L553.478 1481.23 L545.834 1482.51 L538.189 1483.84 L530.545 1485.21 L523.856 1486.45 L522.901 1486.45 L530.545 1486.45 M331.796 1424.72 L339.44 1425.4 \n",
       "  L347.084 1425.88 L354.728 1426.16 L362.372 1426.29 L370.017 1426.29 L377.661 1426.15 L385.305 1425.91 L392.949 1425.58 L400.593 1425.15 L408.238 1424.64 L409.752 1424.52 \n",
       "  L415.882 1424.05 L423.526 1423.39 L431.17 1422.66 L438.815 1421.87 L446.459 1421.02 L454.103 1420.12 L461.747 1419.16 L463.789 1418.89 L469.391 1418.14 L477.036 1417.07 \n",
       "  L484.68 1415.95 L492.324 1414.78 L499.968 1413.57 L501.808 1413.26 L507.613 1412.29 L515.257 1410.96 L522.901 1409.58 L530.545 1408.16 L533.266 1407.63 L538.189 1406.67 \n",
       "  L545.834 1405.12 L553.478 1403.51 L560.458 1402 L561.122 1401.85 L568.766 1400.11 L576.41 1398.31 L584.055 1396.44 L584.318 1396.37 L591.699 1394.47 L599.343 1392.42 \n",
       "  L605.393 1390.74 L606.987 1390.29 L614.632 1388.03 L622.276 1385.68 L624.081 1385.11 L629.92 1383.19 L637.564 1380.58 L640.672 1379.48 L645.208 1377.81 L652.853 1374.88 \n",
       "  L655.431 1373.85 L660.497 1371.75 L668.141 1368.42 L668.59 1368.22 L675.785 1364.83 L680.333 1362.59 L683.429 1360.99 L690.872 1356.96 L691.074 1356.85 L698.718 1352.33 \n",
       "  L700.335 1351.33 L706.362 1347.41 L708.879 1345.7 L714.006 1342.02 L716.62 1340.07 L721.651 1336.09 L723.662 1334.44 L729.295 1329.54 L730.094 1328.81 L735.985 1323.18 \n",
       "  L736.939 1322.22 L741.403 1317.56 L744.583 1314.02 L746.415 1311.93 L751.062 1306.3 L752.227 1304.81 L755.384 1300.67 L759.431 1295.04 L759.872 1294.39 L763.216 1289.41 \n",
       "  L766.788 1283.78 L767.516 1282.58 L770.155 1278.15 L773.352 1272.52 L775.16 1269.19 L776.394 1266.89 L779.295 1261.26 L782.079 1255.63 L782.804 1254.11 L784.75 1250 \n",
       "  L787.326 1244.37 L789.823 1238.74 L790.448 1237.29 L792.24 1233.11 L794.594 1227.48 L796.894 1221.85 L798.093 1218.85 L799.145 1216.22 L801.353 1210.59 L803.529 1204.96 \n",
       "  L805.679 1199.33 L805.737 1199.18 L807.804 1193.7 L809.915 1188.07 L812.017 1182.44 L813.381 1178.77 L814.116 1176.81 L816.216 1171.18 L818.326 1165.55 L820.45 1159.92 \n",
       "  L821.025 1158.39 L822.598 1154.29 L824.777 1148.66 L826.995 1143.03 L828.67 1138.84 L829.262 1137.4 L831.595 1131.77 L834.002 1126.14 L836.314 1120.91 L836.498 1120.51 \n",
       "  L839.119 1114.88 L841.874 1109.25 L843.958 1105.18 L844.8 1103.62 L847.951 1097.99 L851.357 1092.36 L851.602 1091.97 L855.13 1086.74 L859.246 1081.2 L859.326 1081.11 \n",
       "  L864.152 1075.48 L866.891 1072.59 L869.789 1069.85 L874.535 1065.78 L876.61 1064.22 L882.179 1060.4 L885.276 1058.59 L889.823 1056.16 L897.064 1052.96 L897.467 1052.79 \n",
       "  L905.112 1050.13 L912.756 1048.02 L912.756 1052.96 L912.756 1047.33 L912.756 1041.7 L912.756 1036.07 L912.756 1030.44 L912.756 1024.81 L912.756 1019.18 L912.756 1013.55 \n",
       "  L912.756 1007.92 L912.756 1002.29 L912.756 996.659 L912.756 991.029 L912.756 985.399 L912.756 979.77 L912.756 974.14 L912.756 968.51 L912.756 962.88 L912.756 957.251 \n",
       "  L912.756 951.621 L912.756 945.991 L912.756 940.361 L912.756 934.732 L912.756 929.102 L912.756 923.472 L912.756 923.472 L912.756 923.472 L912.756 923.472 L905.112 923.472 \n",
       "  L897.467 923.472 L889.823 923.472 L882.179 923.472 L874.535 923.472 L866.891 923.472 L859.246 923.472 L851.602 923.472 L843.958 923.472 L836.314 923.472 L828.67 923.472 \n",
       "  L821.025 923.472 L813.381 923.472 L805.737 923.472 L798.093 923.472 L802.289 923.472 L799.075 929.102 L798.093 930.688 L795.282 934.732 L790.809 940.361 L790.448 940.781 \n",
       "  L785.31 945.991 L782.804 948.25 L778.437 951.621 L775.16 953.911 L769.449 957.251 L767.516 958.289 L759.872 961.737 L756.808 962.88 L752.227 964.484 L744.583 966.686 \n",
       "  L736.939 968.447 L736.619 968.51 L729.295 969.893 L721.651 971.054 L714.006 971.983 L706.362 972.72 L698.718 973.296 L691.074 973.735 L683.429 974.056 L680.554 974.14 \n",
       "  L675.785 974.277 L668.141 974.409 L660.497 974.46 L652.853 974.438 L645.208 974.351 L637.564 974.205 L635.129 974.14 L629.92 974.007 L622.276 973.761 L614.632 973.47 \n",
       "  L606.987 973.137 L599.343 972.764 L591.699 972.355 L584.055 971.91 L576.41 971.432 L568.766 970.923 L561.122 970.384 L553.478 969.817 L545.834 969.223 L538.189 968.603 \n",
       "  L537.09 968.51 L530.545 967.966 L522.901 967.306 L515.257 966.624 L507.613 965.921 L499.968 965.197 L492.324 964.453 L484.68 963.691 L477.036 962.911 L476.744 962.88 \n",
       "  L469.391 962.12 L461.747 961.314 L454.103 960.49 L446.459 959.651 L438.815 958.797 L431.17 957.927 L425.3 957.251 L423.526 957.043 L415.882 956.149 L408.238 955.239 \n",
       "  L400.593 954.311 L392.949 953.366 L385.305 952.402 L379.196 951.621 L377.661 951.418 L370.017 950.412 L362.372 949.378 L354.728 948.311 L347.084 947.204 L339.44 946.048 \n",
       "  L339.058 945.991 L331.796 944.83 L324.151 943.532 L316.507 942.129 L308.863 940.583 L307.795 940.361 L301.219 938.83 L293.574 936.782 L287.144 934.732 L285.93 934.277 \n",
       "  L278.286 930.987 L274.777 929.102 L270.642 926.233 L267.412 923.472 L262.998 923.472 L262.998 923.472 L255.353 923.472 L247.709 923.472 L240.065 923.472 L232.421 923.472 \n",
       "  L224.777 923.472 L217.132 923.472 L209.488 923.472 L201.844 923.472 L194.2 923.472 L186.555 923.472 L178.911 923.472 L171.267 923.472 L163.623 923.472 L155.979 923.472 \n",
       "  L148.334 923.472 L148.334 923.472 L148.334 923.472 L148.334 923.472 L148.334 929.102 L148.334 934.732 L148.334 940.361 L148.334 945.991 L148.334 940.774 L155.979 941.85 \n",
       "  L163.623 943.04 L171.267 944.379 L178.911 945.918 L179.262 945.991 L186.555 947.774 L194.2 950.062 L198.566 951.621 L201.844 953.07 L209.323 957.251 L209.488 957.371 \n",
       "  L215.789 962.88 L217.132 964.548 L219.886 968.51 L222.61 974.14 L224.485 979.77 L224.777 980.878 L225.869 985.399 L226.886 991.029 L227.638 996.659 L228.2 1002.29 \n",
       "  L228.621 1007.92 L228.935 1013.55 L229.165 1019.18 L229.33 1024.81 L229.443 1030.44 L229.515 1036.07 L229.553 1041.7 L229.563 1047.33 L229.551 1052.96 L229.522 1058.59 \n",
       "  L229.477 1064.22 L229.421 1069.85 L229.356 1075.48 L229.284 1081.11 L229.207 1086.74 L229.126 1092.36 L229.044 1097.99 L228.961 1103.62 L228.879 1109.25 L228.799 1114.88 \n",
       "  L228.722 1120.51 L228.649 1126.14 L228.582 1131.77 L228.52 1137.4 L228.465 1143.03 L228.419 1148.66 L228.381 1154.29 L228.353 1159.92 L228.336 1165.55 L228.33 1171.18 \n",
       "  L228.337 1176.81 L228.357 1182.44 L228.392 1188.07 L228.442 1193.7 L228.508 1199.33 L228.592 1204.96 L228.694 1210.59 L228.816 1216.22 L228.958 1221.85 L229.122 1227.48 \n",
       "  L229.31 1233.11 L229.523 1238.74 L229.761 1244.37 L230.028 1250 L230.324 1255.63 L230.651 1261.26 L231.012 1266.89 L231.408 1272.52 L231.843 1278.15 L232.319 1283.78 \n",
       "  L232.421 1284.9 L232.849 1289.41 L233.43 1295.04 L234.065 1300.67 L234.757 1306.3 L235.511 1311.93 L236.334 1317.56 L237.232 1323.18 L238.214 1328.81 L239.289 1334.44 \n",
       "  L240.065 1338.19 L240.48 1340.07 L241.816 1345.7 L243.29 1351.33 L244.923 1356.96 L246.74 1362.59 L247.709 1365.35 L248.81 1368.22 L251.179 1373.85 L253.869 1379.48 \n",
       "  L255.353 1382.29 L257.014 1385.11 L260.729 1390.74 L262.998 1393.78 L265.193 1396.37 L270.642 1401.98 L270.664 1402 L277.73 1407.63 L278.286 1408.02 L285.93 1412.59 \n",
       "  L287.296 1413.26 L293.574 1416.08 L301.219 1418.79 L301.553 1418.89 L308.863 1420.89 L316.507 1422.52 L324.151 1423.77 L330.112 1424.52 L331.796 1424.72 M148.334 1266.89 L148.334 1265.23 L148.816 1261.26 L149.426 1255.63 L149.964 1250 L150.433 1244.37 L150.836 1238.74 L151.175 1233.11 L151.451 1227.48 L151.666 1221.85 \n",
       "  L151.82 1216.22 L151.914 1210.59 L151.949 1204.96 L151.923 1199.33 L151.836 1193.7 L151.688 1188.07 L151.475 1182.44 L151.198 1176.81 L150.852 1171.18 L150.437 1165.55 \n",
       "  L149.947 1159.92 L149.381 1154.29 L148.733 1148.66 L148.334 1145.59 L148.334 1148.66 L148.334 1148.66 L148.334 1154.29 L148.334 1159.92 L148.334 1165.55 L148.334 1171.18 \n",
       "  L148.334 1176.81 L148.334 1182.44 L148.334 1188.07 L148.334 1193.7 L148.334 1199.33 L148.334 1204.96 L148.334 1210.59 L148.334 1216.22 L148.334 1221.85 L148.334 1227.48 \n",
       "  L148.334 1233.11 L148.334 1238.74 L148.334 1244.37 L148.334 1250 L148.334 1255.63 L148.334 1261.26 L148.334 1266.89  Z\n",
       "  \" fill=\"#5d126d\" fill-rule=\"evenodd\" fill-opacity=\"1\"/>\n",
       "<path clip-path=\"url(#clip8106)\" d=\"\n",
       "M584.055 1486.45 L591.699 1486.45 L599.343 1486.45 L606.987 1486.45 L614.632 1486.45 L622.276 1486.45 L629.92 1486.45 L637.564 1486.45 L645.208 1486.45 L652.853 1486.45 \n",
       "  L660.497 1486.45 L668.141 1486.45 L675.785 1486.45 L683.429 1486.45 L691.074 1486.45 L698.718 1486.45 L706.362 1486.45 L714.006 1486.45 L721.651 1486.45 L729.295 1486.45 \n",
       "  L736.939 1486.45 L744.583 1486.45 L752.227 1486.45 L759.872 1486.45 L767.516 1486.45 L775.16 1486.45 L782.804 1486.45 L790.448 1486.45 L798.093 1486.45 L805.737 1486.45 \n",
       "  L813.381 1486.45 L821.025 1486.45 L821.025 1486.45 L824.769 1486.45 L821.025 1484.97 L813.381 1482.51 L806.819 1480.82 L805.737 1480.56 L798.093 1479.01 L790.448 1477.78 \n",
       "  L782.804 1476.82 L775.16 1476.06 L767.516 1475.48 L762.398 1475.19 L759.872 1475.05 L752.227 1474.75 L744.583 1474.56 L736.939 1474.47 L729.295 1474.48 L721.651 1474.56 \n",
       "  L714.006 1474.72 L706.362 1474.95 L700.107 1475.19 L698.718 1475.24 L691.074 1475.59 L683.429 1476 L675.785 1476.46 L668.141 1476.97 L660.497 1477.53 L652.853 1478.14 \n",
       "  L645.208 1478.81 L637.564 1479.51 L629.92 1480.27 L624.69 1480.82 L622.276 1481.07 L614.632 1481.91 L606.987 1482.8 L599.343 1483.73 L591.699 1484.72 L584.055 1485.75 \n",
       "  L579.093 1486.45 L576.41 1486.45 L584.055 1486.45 M339.44 1409.03 L347.084 1410.26 L354.728 1411.21 L362.372 1411.93 L370.017 1412.44 L377.661 1412.76 \n",
       "  L385.305 1412.93 L392.949 1412.95 L400.593 1412.84 L408.238 1412.61 L415.882 1412.27 L423.526 1411.83 L431.17 1411.3 L438.815 1410.68 L446.459 1409.97 L454.103 1409.19 \n",
       "  L461.747 1408.34 L467.624 1407.63 L469.391 1407.42 L477.036 1406.41 L484.68 1405.34 L492.324 1404.2 L499.968 1403 L506.033 1402 L507.613 1401.74 L515.257 1400.39 \n",
       "  L522.901 1398.98 L530.545 1397.51 L536.205 1396.37 L538.189 1395.97 L545.834 1394.33 L553.478 1392.63 L561.122 1390.87 L561.645 1390.74 L568.766 1388.99 L576.41 1387.04 \n",
       "  L583.647 1385.11 L584.055 1385 L591.699 1382.83 L599.343 1380.58 L602.921 1379.48 L606.987 1378.19 L614.632 1375.68 L619.963 1373.85 L622.276 1373.03 L629.92 1370.21 \n",
       "  L635.087 1368.22 L637.564 1367.23 L645.208 1364.05 L648.566 1362.59 L652.853 1360.65 L660.497 1357.03 L660.635 1356.96 L668.141 1353.11 L671.448 1351.33 L675.785 1348.89 \n",
       "  L681.201 1345.7 L683.429 1344.32 L690.023 1340.07 L691.074 1339.36 L698.026 1334.44 L698.718 1333.93 L705.313 1328.81 L706.362 1327.95 L711.972 1323.18 L714.006 1321.35 \n",
       "  L718.082 1317.56 L721.651 1314.03 L723.712 1311.93 L728.917 1306.3 L729.295 1305.86 L733.73 1300.67 L736.939 1296.67 L738.217 1295.04 L742.399 1289.41 L744.583 1286.3 \n",
       "  L746.319 1283.78 L749.998 1278.15 L752.227 1274.55 L753.468 1272.52 L756.742 1266.89 L759.855 1261.26 L759.872 1261.23 L762.802 1255.63 L765.619 1250 L767.516 1246.05 \n",
       "  L768.313 1244.37 L770.889 1238.74 L773.37 1233.11 L775.16 1228.9 L775.761 1227.48 L778.064 1221.85 L780.296 1216.22 L782.464 1210.59 L782.804 1209.68 L784.566 1204.96 \n",
       "  L786.614 1199.33 L788.615 1193.7 L790.448 1188.42 L790.572 1188.07 L792.483 1182.44 L794.36 1176.81 L796.205 1171.18 L798.021 1165.55 L798.093 1165.32 L799.809 1159.92 \n",
       "  L801.575 1154.29 L803.323 1148.66 L805.054 1143.03 L805.737 1140.76 L806.772 1137.4 L808.482 1131.77 L810.187 1126.14 L811.891 1120.51 L813.381 1115.58 L813.6 1114.88 \n",
       "  L815.324 1109.25 L817.067 1103.62 L818.837 1097.99 L820.645 1092.36 L821.025 1091.16 L822.516 1086.74 L824.465 1081.11 L826.512 1075.48 L828.67 1069.9 L828.693 1069.85 \n",
       "  L831.094 1064.22 L833.759 1058.59 L836.314 1053.78 L836.812 1052.96 L840.512 1047.33 L843.958 1042.97 L845.179 1041.7 L851.602 1036.1 L851.648 1036.07 L859.246 1031.67 \n",
       "  L862.269 1030.44 L866.891 1028.81 L874.535 1026.93 L882.179 1025.7 L889.823 1024.92 L891.623 1024.81 L897.467 1024.47 L905.112 1024.26 L912.756 1024.24 L912.756 1024.81 \n",
       "  L912.756 1019.18 L912.756 1013.55 L912.756 1007.92 L912.756 1002.29 L912.756 996.659 L912.756 991.029 L912.756 985.399 L912.756 979.77 L912.756 974.14 L912.756 968.51 \n",
       "  L912.756 962.88 L912.756 957.251 L912.756 951.621 L912.756 945.991 L912.756 940.361 L912.756 934.732 L912.756 929.102 L912.756 923.472 L912.756 923.472 L912.756 923.472 \n",
       "  L912.756 923.472 L905.112 923.472 L897.467 923.472 L889.823 923.472 L882.179 923.472 L874.535 923.472 L866.891 923.472 L859.246 923.472 L851.602 923.472 L843.958 923.472 \n",
       "  L836.314 923.472 L828.67 923.472 L821.025 923.472 L826.404 923.472 L825.268 929.102 L823.997 934.732 L822.566 940.361 L821.025 945.71 L820.934 945.991 L818.989 951.621 \n",
       "  L816.695 957.251 L813.924 962.88 L813.381 963.88 L810.334 968.51 L805.737 973.991 L805.58 974.14 L798.499 979.77 L798.093 980.038 L790.448 983.869 L785.972 985.399 \n",
       "  L782.804 986.361 L775.16 988.053 L767.516 989.19 L759.872 989.951 L752.227 990.446 L744.583 990.745 L736.939 990.897 L729.295 990.934 L721.651 990.878 L714.006 990.748 \n",
       "  L706.362 990.555 L698.718 990.31 L691.074 990.021 L683.429 989.691 L675.785 989.327 L668.141 988.932 L660.497 988.509 L652.853 988.06 L645.208 987.588 L637.564 987.093 \n",
       "  L629.92 986.577 L622.276 986.042 L614.632 985.489 L613.449 985.399 L606.987 984.928 L599.343 984.352 L591.699 983.761 L584.055 983.155 L576.41 982.534 L568.766 981.901 \n",
       "  L561.122 981.255 L553.478 980.598 L545.834 979.93 L544.025 979.77 L538.189 979.262 L530.545 978.586 L522.901 977.904 L515.257 977.215 L507.613 976.52 L499.968 975.822 \n",
       "  L492.324 975.12 L484.68 974.418 L481.635 974.14 L477.036 973.722 L469.391 973.031 L461.747 972.344 L454.103 971.662 L446.459 970.988 L438.815 970.325 L431.17 969.674 \n",
       "  L423.526 969.039 L416.94 968.51 L415.882 968.424 L408.238 967.836 L400.593 967.275 L392.949 966.745 L385.305 966.252 L377.661 965.802 L370.017 965.404 L362.372 965.067 \n",
       "  L354.728 964.803 L347.084 964.628 L339.44 964.562 L331.796 964.63 L324.151 964.867 L316.507 965.321 L308.863 966.061 L301.219 967.188 L295.028 968.51 L293.574 968.86 \n",
       "  L285.93 971.328 L279.909 974.14 L278.286 975.029 L271.776 979.77 L270.642 980.769 L266.442 985.399 L262.998 990.199 L262.502 991.029 L259.533 996.659 L257.109 1002.29 \n",
       "  L255.353 1007.1 L255.093 1007.92 L253.432 1013.55 L251.99 1019.18 L250.722 1024.81 L249.594 1030.44 L248.582 1036.07 L247.709 1041.43 L247.669 1041.7 L246.863 1047.33 \n",
       "  L246.125 1052.96 L245.446 1058.59 L244.82 1064.22 L244.24 1069.85 L243.702 1075.48 L243.202 1081.11 L242.738 1086.74 L242.306 1092.36 L241.905 1097.99 L241.532 1103.62 \n",
       "  L241.188 1109.25 L240.87 1114.88 L240.577 1120.51 L240.309 1126.14 L240.067 1131.77 L240.065 1131.81 L239.853 1137.4 L239.664 1143.03 L239.498 1148.66 L239.356 1154.29 \n",
       "  L239.237 1159.92 L239.143 1165.55 L239.074 1171.18 L239.03 1176.81 L239.012 1182.44 L239.02 1188.07 L239.056 1193.7 L239.121 1199.33 L239.214 1204.96 L239.339 1210.59 \n",
       "  L239.495 1216.22 L239.684 1221.85 L239.908 1227.48 L240.065 1230.89 L240.171 1233.11 L240.477 1238.74 L240.824 1244.37 L241.215 1250 L241.652 1255.63 L242.138 1261.26 \n",
       "  L242.676 1266.89 L243.27 1272.52 L243.923 1278.15 L244.64 1283.78 L245.425 1289.41 L246.285 1295.04 L247.226 1300.67 L247.709 1303.34 L248.271 1306.3 L249.43 1311.93 \n",
       "  L250.698 1317.56 L252.089 1323.18 L253.615 1328.81 L255.292 1334.44 L255.353 1334.64 L257.201 1340.07 L259.315 1345.7 L261.661 1351.33 L262.998 1354.27 L264.325 1356.96 \n",
       "  L267.368 1362.59 L270.642 1367.98 L270.807 1368.22 L274.877 1373.85 L278.286 1378.03 L279.609 1379.48 L285.297 1385.11 L285.93 1385.68 L292.334 1390.74 L293.574 1391.63 \n",
       "  L301.219 1396.33 L301.293 1396.37 L308.863 1400.08 L313.609 1402 L316.507 1403.09 L324.151 1405.52 L331.796 1407.47 L332.524 1407.63 L339.44 1409.03 M148.334 929.102 L148.334 924.709 L155.979 924.301 L163.623 923.714 L166.027 923.472 L163.623 923.472 L163.623 923.472 L155.979 923.472 L148.334 923.472 L148.334 923.472 \n",
       "  L148.334 923.472 L148.334 923.472 L148.334 929.102  Z\n",
       "  \" fill=\"#781c6d\" fill-rule=\"evenodd\" fill-opacity=\"1\"/>\n",
       "<path clip-path=\"url(#clip8106)\" d=\"\n",
       "M362.372 1397.18 L370.017 1398.22 L377.661 1399.02 L385.305 1399.6 L392.949 1399.98 L400.593 1400.2 L408.238 1400.26 L415.882 1400.18 L423.526 1399.96 L431.17 1399.62 \n",
       "  L438.815 1399.17 L446.459 1398.62 L454.103 1397.96 L461.747 1397.21 L469.374 1396.37 L469.391 1396.37 L477.036 1395.43 L484.68 1394.4 L492.324 1393.29 L499.968 1392.1 \n",
       "  L507.613 1390.83 L508.099 1390.74 L515.257 1389.46 L522.901 1388 L530.545 1386.47 L536.989 1385.11 L538.189 1384.85 L545.834 1383.12 L553.478 1381.31 L560.847 1379.48 \n",
       "  L561.122 1379.41 L568.766 1377.38 L576.41 1375.25 L581.23 1373.85 L584.055 1373.01 L591.699 1370.62 L599.04 1368.22 L599.343 1368.12 L606.987 1365.44 L614.632 1362.63 \n",
       "  L614.719 1362.59 L622.276 1359.6 L628.628 1356.96 L629.92 1356.4 L637.564 1352.97 L641.049 1351.33 L645.208 1349.29 L652.211 1345.7 L652.853 1345.36 L660.497 1341.09 \n",
       "  L662.252 1340.07 L668.141 1336.48 L671.337 1334.44 L675.785 1331.46 L679.59 1328.81 L683.429 1325.99 L687.11 1323.18 L691.074 1319.99 L693.988 1317.56 L698.718 1313.37 \n",
       "  L700.302 1311.93 L706.117 1306.3 L706.362 1306.04 L711.473 1300.67 L714.006 1297.83 L716.443 1295.04 L721.066 1289.41 L721.651 1288.66 L725.362 1283.78 L729.295 1278.29 \n",
       "  L729.392 1278.15 L733.15 1272.52 L736.698 1266.89 L736.939 1266.49 L740.024 1261.26 L743.174 1255.63 L744.583 1252.98 L746.152 1250 L748.973 1244.37 L751.663 1238.74 \n",
       "  L752.227 1237.5 L754.215 1233.11 L756.651 1227.48 L758.984 1221.85 L759.872 1219.61 L761.211 1216.22 L763.342 1210.59 L765.39 1204.96 L767.359 1199.33 L767.516 1198.86 \n",
       "  L769.242 1193.7 L771.053 1188.07 L772.795 1182.44 L774.47 1176.81 L775.16 1174.38 L776.076 1171.18 L777.614 1165.55 L779.088 1159.92 L780.498 1154.29 L781.842 1148.66 \n",
       "  L782.804 1144.4 L783.119 1143.03 L784.323 1137.4 L785.456 1131.77 L786.512 1126.14 L787.487 1120.51 L788.373 1114.88 L789.162 1109.25 L789.844 1103.62 L790.406 1097.99 \n",
       "  L790.448 1097.41 L790.833 1092.36 L791.102 1086.74 L791.189 1081.11 L791.056 1075.48 L790.657 1069.85 L790.448 1068.15 L789.932 1064.22 L788.796 1058.59 L787.122 1052.96 \n",
       "  L784.729 1047.33 L782.804 1043.98 L781.355 1041.7 L776.598 1036.07 L775.16 1034.75 L769.819 1030.44 L767.516 1028.96 L759.961 1024.81 L759.872 1024.77 L752.227 1021.57 \n",
       "  L745.462 1019.18 L744.583 1018.91 L736.939 1016.71 L729.295 1014.78 L723.973 1013.55 L721.651 1013.07 L714.006 1011.55 L706.362 1010.15 L698.718 1008.85 L692.953 1007.92 \n",
       "  L691.074 1007.64 L683.429 1006.52 L675.785 1005.44 L668.141 1004.42 L660.497 1003.42 L652.853 1002.46 L651.48 1002.29 L645.208 1001.54 L637.564 1000.65 L629.92 999.779 \n",
       "  L622.276 998.921 L614.632 998.075 L606.987 997.24 L601.629 996.659 L599.343 996.421 L591.699 995.623 L584.055 994.833 L576.41 994.05 L568.766 993.274 L561.122 992.504 \n",
       "  L553.478 991.742 L546.267 991.029 L545.834 990.987 L538.189 990.254 L530.545 989.53 L522.901 988.814 L515.257 988.109 L507.613 987.416 L499.968 986.736 L492.324 986.071 \n",
       "  L484.68 985.424 L484.375 985.399 L477.036 984.807 L469.391 984.211 L461.747 983.641 L454.103 983.099 L446.459 982.589 L438.815 982.117 L431.17 981.686 L423.526 981.302 \n",
       "  L415.882 980.973 L408.238 980.706 L400.593 980.51 L392.949 980.395 L385.305 980.375 L377.661 980.464 L370.017 980.681 L362.372 981.05 L354.728 981.598 L347.084 982.363 \n",
       "  L339.44 983.39 L331.796 984.743 L328.814 985.399 L324.151 986.513 L316.507 988.812 L310.705 991.029 L308.863 991.804 L301.219 995.739 L299.74 996.659 L293.574 1000.98 \n",
       "  L292.018 1002.29 L286.128 1007.92 L285.93 1008.13 L281.517 1013.55 L278.286 1018.18 L277.673 1019.18 L274.507 1024.81 L271.759 1030.44 L270.642 1032.97 L269.401 1036.07 \n",
       "  L267.35 1041.7 L265.521 1047.33 L263.878 1052.96 L262.998 1056.24 L262.416 1058.59 L261.116 1064.22 L259.933 1069.85 L258.852 1075.48 L257.863 1081.11 L256.957 1086.74 \n",
       "  L256.125 1092.36 L255.361 1097.99 L255.353 1098.05 L254.681 1103.62 L254.057 1109.25 L253.486 1114.88 L252.965 1120.51 L252.492 1126.14 L252.064 1131.77 L251.68 1137.4 \n",
       "  L251.338 1143.03 L251.037 1148.66 L250.777 1154.29 L250.558 1159.92 L250.378 1165.55 L250.238 1171.18 L250.137 1176.81 L250.077 1182.44 L250.058 1188.07 L250.08 1193.7 \n",
       "  L250.145 1199.33 L250.253 1204.96 L250.405 1210.59 L250.604 1216.22 L250.85 1221.85 L251.145 1227.48 L251.493 1233.11 L251.894 1238.74 L252.352 1244.37 L252.87 1250 \n",
       "  L253.45 1255.63 L254.098 1261.26 L254.816 1266.89 L255.353 1270.71 L255.619 1272.52 L256.521 1278.15 L257.514 1283.78 L258.604 1289.41 L259.8 1295.04 L261.111 1300.67 \n",
       "  L262.547 1306.3 L262.998 1307.94 L264.16 1311.93 L265.948 1317.56 L267.912 1323.18 L270.074 1328.81 L270.642 1330.19 L272.528 1334.44 L275.268 1340.07 L278.286 1345.66 \n",
       "  L278.31 1345.7 L281.847 1351.33 L285.812 1356.96 L285.93 1357.12 L290.493 1362.59 L293.574 1365.93 L295.94 1368.22 L301.219 1372.89 L302.452 1373.85 L308.863 1378.46 \n",
       "  L310.487 1379.48 L316.507 1382.98 L320.788 1385.11 L324.151 1386.67 L331.796 1389.7 L334.894 1390.74 L339.44 1392.18 L347.084 1394.21 L354.728 1395.86 L357.592 1396.37 \n",
       "  L362.372 1397.18 M905.112 998.315 L912.756 1000.58 L912.756 1002.29 L912.756 996.659 L912.756 991.029 L912.756 985.399 L912.756 979.77 L912.756 974.14 \n",
       "  L912.756 968.51 L912.756 962.88 L912.756 957.251 L912.756 951.621 L912.756 945.991 L912.756 940.361 L912.756 934.732 L912.756 929.102 L912.756 923.472 L912.756 923.472 \n",
       "  L912.756 923.472 L912.756 923.472 L905.112 923.472 L897.467 923.472 L889.823 923.472 L882.179 923.472 L874.535 923.472 L866.891 923.472 L859.246 923.472 L851.602 923.472 \n",
       "  L843.958 923.472 L848.77 923.472 L849.334 929.102 L850.031 934.732 L850.899 940.361 L851.602 944.105 L851.979 945.991 L853.321 951.621 L855.036 957.251 L857.26 962.88 \n",
       "  L859.246 966.84 L860.164 968.51 L863.974 974.14 L866.891 977.473 L869.142 979.77 L874.535 984.17 L876.244 985.399 L882.179 988.968 L886.132 991.029 L889.823 992.689 \n",
       "  L897.467 995.731 L900.021 996.659 L905.112 998.315  Z\n",
       "  \" fill=\"#942666\" fill-rule=\"evenodd\" fill-opacity=\"1\"/>\n",
       "<path clip-path=\"url(#clip8106)\" d=\"\n",
       "M385.305 1385.82 L392.949 1386.59 L400.593 1387.15 L408.238 1387.5 L415.882 1387.68 L423.526 1387.7 L431.17 1387.56 L438.815 1387.29 L446.459 1386.88 L454.103 1386.35 \n",
       "  L461.747 1385.7 L467.595 1385.11 L469.391 1384.93 L477.036 1384.05 L484.68 1383.06 L492.324 1381.97 L499.968 1380.78 L507.613 1379.49 L507.647 1379.48 L515.257 1378.08 \n",
       "  L522.901 1376.57 L530.545 1374.96 L535.522 1373.85 L538.189 1373.24 L545.834 1371.4 L553.478 1369.45 L558.074 1368.22 L561.122 1367.38 L568.766 1365.17 L576.41 1362.84 \n",
       "  L577.195 1362.59 L584.055 1360.34 L591.699 1357.7 L593.746 1356.96 L599.343 1354.87 L606.987 1351.88 L608.317 1351.33 L614.632 1348.65 L621.251 1345.7 L622.276 1345.23 \n",
       "  L629.92 1341.53 L632.802 1340.07 L637.564 1337.55 L643.199 1334.44 L645.208 1333.28 L652.6 1328.81 L652.853 1328.65 L660.497 1323.61 L661.114 1323.18 L668.141 1318.1 \n",
       "  L668.87 1317.56 L675.785 1312.07 L675.962 1311.93 L682.457 1306.3 L683.429 1305.4 L688.429 1300.67 L691.074 1298.01 L693.945 1295.04 L698.718 1289.79 L699.057 1289.41 \n",
       "  L703.781 1283.78 L706.362 1280.51 L708.185 1278.15 L712.289 1272.52 L714.006 1270.02 L716.121 1266.89 L719.711 1261.26 L721.651 1258.04 L723.08 1255.63 L726.24 1250 \n",
       "  L729.228 1244.37 L729.295 1244.24 L732.027 1238.74 L734.677 1233.11 L736.939 1228.04 L737.187 1227.48 L739.546 1221.85 L741.784 1216.22 L743.906 1210.59 L744.583 1208.69 \n",
       "  L745.906 1204.96 L747.795 1199.33 L749.581 1193.7 L751.266 1188.07 L752.227 1184.65 L752.848 1182.44 L754.324 1176.81 L755.702 1171.18 L756.98 1165.55 L758.155 1159.92 \n",
       "  L759.224 1154.29 L759.872 1150.46 L760.18 1148.66 L761.017 1143.03 L761.73 1137.4 L762.31 1131.77 L762.746 1126.14 L763.025 1120.51 L763.129 1114.88 L763.039 1109.25 \n",
       "  L762.729 1103.62 L762.169 1097.99 L761.32 1092.36 L760.137 1086.74 L759.872 1085.75 L758.556 1081.11 L756.504 1075.48 L753.881 1069.85 L752.227 1066.95 L750.557 1064.22 \n",
       "  L746.363 1058.59 L744.583 1056.6 L741.069 1052.96 L736.939 1049.38 L734.366 1047.33 L729.295 1043.86 L725.831 1041.7 L721.651 1039.41 L714.885 1036.07 L714.006 1035.68 \n",
       "  L706.362 1032.53 L700.758 1030.44 L698.718 1029.75 L691.074 1027.31 L683.429 1025.08 L682.435 1024.81 L675.785 1023.1 L668.141 1021.27 L660.497 1019.56 L658.732 1019.18 \n",
       "  L652.853 1017.99 L645.208 1016.52 L637.564 1015.13 L629.92 1013.8 L628.443 1013.55 L622.276 1012.56 L614.632 1011.37 L606.987 1010.23 L599.343 1009.13 L591.699 1008.07 \n",
       "  L590.601 1007.92 L584.055 1007.06 L576.41 1006.09 L568.766 1005.15 L561.122 1004.23 L553.478 1003.34 L545.834 1002.48 L544.04 1002.29 L538.189 1001.67 L530.545 1000.88 \n",
       "  L522.901 1000.12 L515.257 999.387 L507.613 998.686 L499.968 998.018 L492.324 997.384 L484.68 996.787 L482.904 996.659 L477.036 996.239 L469.391 995.737 L461.747 995.282 \n",
       "  L454.103 994.88 L446.459 994.536 L438.815 994.256 L431.17 994.049 L423.526 993.922 L415.882 993.885 L408.238 993.952 L400.593 994.135 L392.949 994.451 L385.305 994.919 \n",
       "  L377.661 995.564 L370.017 996.415 L368.25 996.659 L362.372 997.519 L354.728 998.917 L347.084 1000.66 L341.265 1002.29 L339.44 1002.84 L331.796 1005.56 L326.338 1007.92 \n",
       "  L324.151 1008.95 L316.507 1013.21 L315.984 1013.55 L308.863 1018.63 L308.205 1019.18 L302.036 1024.81 L301.219 1025.63 L297.008 1030.44 L293.574 1034.86 L292.736 1036.07 \n",
       "  L289.141 1041.7 L285.967 1047.33 L285.93 1047.4 L283.262 1052.96 L280.841 1058.59 L278.664 1064.22 L278.286 1065.27 L276.757 1069.85 L275.041 1075.48 L273.48 1081.11 \n",
       "  L272.058 1086.74 L270.761 1092.36 L270.642 1092.92 L269.612 1097.99 L268.567 1103.62 L267.613 1109.25 L266.744 1114.88 L265.954 1120.51 L265.237 1126.14 L264.591 1131.77 \n",
       "  L264.012 1137.4 L263.497 1143.03 L263.043 1148.66 L262.998 1149.31 L262.66 1154.29 L262.336 1159.92 L262.067 1165.55 L261.854 1171.18 L261.695 1176.81 L261.592 1182.44 \n",
       "  L261.543 1188.07 L261.55 1193.7 L261.614 1199.33 L261.734 1204.96 L261.914 1210.59 L262.154 1216.22 L262.457 1221.85 L262.823 1227.48 L262.998 1229.75 L263.266 1233.11 \n",
       "  L263.786 1238.74 L264.382 1244.37 L265.057 1250 L265.817 1255.63 L266.665 1261.26 L267.609 1266.89 L268.653 1272.52 L269.806 1278.15 L270.642 1281.87 L271.092 1283.78 \n",
       "  L272.538 1289.41 L274.127 1295.04 L275.871 1300.67 L277.787 1306.3 L278.286 1307.66 L279.954 1311.93 L282.359 1317.56 L285.007 1323.18 L285.93 1325 L288.017 1328.81 \n",
       "  L291.394 1334.44 L293.574 1337.77 L295.218 1340.07 L299.6 1345.7 L301.219 1347.62 L304.687 1351.33 L308.863 1355.42 L310.623 1356.96 L316.507 1361.72 L317.73 1362.59 \n",
       "  L324.151 1366.86 L326.502 1368.22 L331.796 1371.09 L337.725 1373.85 L339.44 1374.6 L347.084 1377.5 L353.305 1379.48 L354.728 1379.91 L362.372 1381.88 L370.017 1383.5 \n",
       "  L377.661 1384.8 L379.92 1385.11 L385.305 1385.82 M912.756 976.85 L912.756 979.77 L912.756 974.14 L912.756 968.51 L912.756 962.88 L912.756 957.251 \n",
       "  L912.756 951.621 L912.756 945.991 L912.756 940.361 L912.756 934.732 L912.756 929.102 L912.756 923.472 L912.756 923.472 L912.756 923.472 L912.756 923.472 L905.112 923.472 \n",
       "  L897.467 923.472 L889.823 923.472 L882.179 923.472 L874.535 923.472 L866.891 923.472 L869.8 923.472 L871.786 929.102 L874.106 934.732 L874.535 935.675 L876.787 940.361 \n",
       "  L879.958 945.991 L882.179 949.397 L883.723 951.621 L888.219 957.251 L889.823 959.008 L893.626 962.88 L897.467 966.275 L900.202 968.51 L905.112 972.063 L908.231 974.14 \n",
       "  L912.756 976.85  Z\n",
       "  \" fill=\"#ad305b\" fill-rule=\"evenodd\" fill-opacity=\"1\"/>\n",
       "<path clip-path=\"url(#clip8106)\" d=\"\n",
       "M408.238 1374.24 L415.882 1374.69 L423.526 1374.95 L431.17 1375.02 L438.815 1374.92 L446.459 1374.67 L454.103 1374.26 L459.763 1373.85 L461.747 1373.71 L469.391 1373.01 \n",
       "  L477.036 1372.18 L484.68 1371.22 L492.324 1370.15 L499.968 1368.95 L504.179 1368.22 L507.613 1367.62 L515.257 1366.16 L522.901 1364.58 L530.545 1362.88 L531.753 1362.59 \n",
       "  L538.189 1361.03 L545.834 1359.05 L553.404 1356.96 L553.478 1356.94 L561.122 1354.65 L568.766 1352.23 L571.463 1351.33 L576.41 1349.63 L584.055 1346.85 L587.061 1345.7 \n",
       "  L591.699 1343.87 L599.343 1340.68 L600.748 1340.07 L606.987 1337.24 L612.874 1334.44 L614.632 1333.57 L622.276 1329.6 L623.722 1328.81 L629.92 1325.29 L633.474 1323.18 \n",
       "  L637.564 1320.63 L642.304 1317.56 L645.208 1315.57 L650.328 1311.93 L652.853 1310.03 L657.645 1306.3 L660.497 1303.94 L664.342 1300.67 L668.141 1297.23 L670.495 1295.04 \n",
       "  L675.785 1289.8 L676.168 1289.41 L681.387 1283.78 L683.429 1281.44 L686.223 1278.15 L690.721 1272.52 L691.074 1272.05 L694.88 1266.89 L698.718 1261.34 L698.775 1261.26 \n",
       "  L702.382 1255.63 L705.77 1250 L706.362 1248.96 L708.921 1244.37 L711.877 1238.74 L714.006 1234.42 L714.647 1233.11 L717.227 1227.48 L719.65 1221.85 L721.651 1216.89 \n",
       "  L721.92 1216.22 L724.026 1210.59 L725.994 1204.96 L727.827 1199.33 L729.295 1194.47 L729.526 1193.7 L731.081 1188.07 L732.506 1182.44 L733.8 1176.81 L734.961 1171.18 \n",
       "  L735.985 1165.55 L736.867 1159.92 L736.939 1159.36 L737.594 1154.29 L738.166 1148.66 L738.572 1143.03 L738.8 1137.4 L738.836 1131.77 L738.661 1126.14 L738.255 1120.51 \n",
       "  L737.591 1114.88 L736.939 1110.99 L736.636 1109.25 L735.35 1103.62 L733.69 1097.99 L731.601 1092.36 L729.295 1087.32 L729.012 1086.74 L725.823 1081.11 L721.941 1075.48 \n",
       "  L721.651 1075.11 L717.204 1069.85 L714.006 1066.63 L711.447 1064.22 L706.362 1060.06 L704.431 1058.59 L698.718 1054.75 L695.849 1052.96 L691.074 1050.29 L685.31 1047.33 \n",
       "  L683.429 1046.45 L675.785 1043.12 L672.292 1041.7 L668.141 1040.15 L660.497 1037.49 L656.131 1036.07 L652.853 1035.08 L645.208 1032.89 L637.564 1030.84 L635.973 1030.44 \n",
       "  L629.92 1028.98 L622.276 1027.25 L614.632 1025.61 L610.722 1024.81 L606.987 1024.08 L599.343 1022.66 L591.699 1021.3 L584.055 1020.01 L578.9 1019.18 L576.41 1018.79 \n",
       "  L568.766 1017.65 L561.122 1016.57 L553.478 1015.53 L545.834 1014.54 L538.189 1013.6 L537.708 1013.55 L530.545 1012.74 L522.901 1011.92 L515.257 1011.15 L507.613 1010.43 \n",
       "  L499.968 1009.76 L492.324 1009.15 L484.68 1008.6 L477.036 1008.11 L473.446 1007.92 L469.391 1007.7 L461.747 1007.36 L454.103 1007.1 L446.459 1006.92 L438.815 1006.84 \n",
       "  L431.17 1006.86 L423.526 1007 L415.882 1007.27 L408.238 1007.68 L405.058 1007.92 L400.593 1008.27 L392.949 1009.04 L385.305 1010.04 L377.661 1011.28 L370.017 1012.82 \n",
       "  L366.962 1013.55 L362.372 1014.71 L354.728 1017.03 L348.813 1019.18 L347.084 1019.85 L339.44 1023.31 L336.596 1024.81 L331.796 1027.55 L327.424 1030.44 L324.151 1032.79 \n",
       "  L320.158 1036.07 L316.507 1039.36 L314.194 1041.7 L309.16 1047.33 L308.863 1047.69 L304.931 1052.96 L301.219 1058.54 L301.189 1058.59 L297.996 1064.22 L295.128 1069.85 \n",
       "  L293.574 1073.18 L292.585 1075.48 L290.343 1081.11 L288.308 1086.74 L286.459 1092.36 L285.93 1094.11 L284.821 1097.99 L283.349 1103.62 L282.009 1109.25 L280.792 1114.88 \n",
       "  L279.687 1120.51 L278.688 1126.14 L278.286 1128.64 L277.806 1131.77 L277.029 1137.4 L276.337 1143.03 L275.729 1148.66 L275.2 1154.29 L274.748 1159.92 L274.373 1165.55 \n",
       "  L274.071 1171.18 L273.843 1176.81 L273.688 1182.44 L273.606 1188.07 L273.597 1193.7 L273.663 1199.33 L273.803 1204.96 L274.02 1210.59 L274.316 1216.22 L274.692 1221.85 \n",
       "  L275.152 1227.48 L275.698 1233.11 L276.335 1238.74 L277.066 1244.37 L277.897 1250 L278.286 1252.36 L278.852 1255.63 L279.938 1261.26 L281.146 1266.89 L282.486 1272.52 \n",
       "  L283.967 1278.15 L285.6 1283.78 L285.93 1284.83 L287.458 1289.41 L289.517 1295.04 L291.781 1300.67 L293.574 1304.75 L294.302 1306.3 L297.166 1311.93 L300.324 1317.56 \n",
       "  L301.219 1319.04 L303.938 1323.18 L307.988 1328.81 L308.863 1329.94 L312.684 1334.44 L316.507 1338.56 L318.064 1340.07 L324.151 1345.53 L324.368 1345.7 L331.796 1351.23 \n",
       "  L331.951 1351.33 L339.44 1355.93 L341.355 1356.96 L347.084 1359.84 L353.439 1362.59 L354.728 1363.12 L362.372 1365.82 L370.017 1368.09 L370.56 1368.22 L377.661 1369.92 \n",
       "  L385.305 1371.43 L392.949 1372.63 L400.593 1373.56 L403.838 1373.85 L408.238 1374.24 M912.756 952.901 L912.756 957.251 L912.756 951.621 L912.756 945.991 \n",
       "  L912.756 940.361 L912.756 934.732 L912.756 929.102 L912.756 923.472 L912.756 923.472 L912.756 923.472 L912.756 923.472 L905.112 923.472 L897.467 923.472 L889.823 923.472 \n",
       "  L882.179 923.472 L889.779 923.472 L889.823 923.553 L892.977 929.102 L896.656 934.732 L897.467 935.867 L900.853 940.361 L905.112 945.321 L905.72 945.991 L911.338 951.621 \n",
       "  L912.756 952.901  Z\n",
       "  \" fill=\"#c73e4c\" fill-rule=\"evenodd\" fill-opacity=\"1\"/>\n",
       "<path clip-path=\"url(#clip8106)\" d=\"\n",
       "M392.949 1357.9 L400.593 1359.23 L408.238 1360.27 L415.882 1361.04 L423.526 1361.56 L431.17 1361.86 L438.815 1361.96 L446.459 1361.85 L454.103 1361.57 L461.747 1361.11 \n",
       "  L469.391 1360.49 L477.036 1359.72 L484.68 1358.79 L492.324 1357.71 L497.047 1356.96 L499.968 1356.49 L507.613 1355.1 L515.257 1353.57 L522.901 1351.9 L525.313 1351.33 \n",
       "  L530.545 1350.06 L538.189 1348.06 L545.834 1345.92 L546.567 1345.7 L553.478 1343.57 L561.122 1341.07 L563.978 1340.07 L568.766 1338.35 L576.41 1335.43 L578.878 1334.44 \n",
       "  L584.055 1332.28 L591.699 1328.91 L591.901 1328.81 L599.343 1325.22 L603.368 1323.18 L606.987 1321.26 L613.65 1317.56 L614.632 1316.98 L622.276 1312.31 L622.887 1311.93 \n",
       "  L629.92 1307.21 L631.233 1306.3 L637.564 1301.63 L638.824 1300.67 L645.208 1295.5 L645.755 1295.04 L652.093 1289.41 L652.853 1288.69 L657.903 1283.78 L660.497 1281.09 \n",
       "  L663.26 1278.15 L668.141 1272.61 L668.217 1272.52 L672.768 1266.89 L675.785 1262.9 L677.002 1261.26 L680.914 1255.63 L683.429 1251.76 L684.553 1250 L687.919 1244.37 \n",
       "  L691.063 1238.74 L691.074 1238.72 L693.955 1233.11 L696.651 1227.48 L698.718 1222.84 L699.154 1221.85 L701.45 1216.22 L703.574 1210.59 L705.53 1204.96 L706.362 1202.34 \n",
       "  L707.308 1199.33 L708.914 1193.7 L710.358 1188.07 L711.639 1182.44 L712.754 1176.81 L713.7 1171.18 L714.006 1168.92 L714.464 1165.55 L715.043 1159.92 L715.431 1154.29 \n",
       "  L715.616 1148.66 L715.585 1143.03 L715.321 1137.4 L714.802 1131.77 L714.006 1126.15 L714.006 1126.14 L712.891 1120.51 L711.433 1114.88 L709.591 1109.25 L707.314 1103.62 \n",
       "  L706.362 1101.64 L704.526 1097.99 L701.158 1092.36 L698.718 1088.9 L697.117 1086.74 L692.279 1081.11 L691.074 1079.88 L686.491 1075.48 L683.429 1072.9 L679.574 1069.85 \n",
       "  L675.785 1067.18 L671.284 1064.22 L668.141 1062.35 L661.32 1058.59 L660.497 1058.17 L652.853 1054.55 L649.257 1052.96 L645.208 1051.31 L637.564 1048.4 L634.587 1047.33 \n",
       "  L629.92 1045.77 L622.276 1043.37 L616.583 1041.7 L614.632 1041.16 L606.987 1039.15 L599.343 1037.27 L594.194 1036.07 L591.699 1035.52 L584.055 1033.91 L576.41 1032.4 \n",
       "  L568.766 1030.98 L565.683 1030.44 L561.122 1029.67 L553.478 1028.45 L545.834 1027.31 L538.189 1026.24 L530.545 1025.25 L526.899 1024.81 L522.901 1024.34 L515.257 1023.52 \n",
       "  L507.613 1022.77 L499.968 1022.09 L492.324 1021.5 L484.68 1020.99 L477.036 1020.57 L469.391 1020.24 L461.747 1020.01 L454.103 1019.89 L446.459 1019.89 L438.815 1020.01 \n",
       "  L431.17 1020.28 L423.526 1020.71 L415.882 1021.3 L408.238 1022.1 L400.593 1023.11 L392.949 1024.37 L390.752 1024.81 L385.305 1025.94 L377.661 1027.86 L370.017 1030.15 \n",
       "  L369.195 1030.44 L362.372 1032.96 L355.248 1036.07 L354.728 1036.31 L347.084 1040.4 L344.966 1041.7 L339.44 1045.36 L336.834 1047.33 L331.796 1051.46 L330.161 1052.96 \n",
       "  L324.551 1058.59 L324.151 1059.02 L319.824 1064.22 L316.507 1068.62 L315.667 1069.85 L312.087 1075.48 L308.863 1081.1 L308.861 1081.11 L306.083 1086.74 L303.566 1092.36 \n",
       "  L301.283 1097.99 L301.219 1098.17 L299.298 1103.62 L297.498 1109.25 L295.866 1114.88 L294.389 1120.51 L293.574 1123.93 L293.076 1126.14 L291.924 1131.77 L290.893 1137.4 \n",
       "  L289.976 1143.03 L289.17 1148.66 L288.468 1154.29 L287.869 1159.92 L287.368 1165.55 L286.964 1171.18 L286.656 1176.81 L286.442 1182.44 L286.321 1188.07 L286.295 1193.7 \n",
       "  L286.364 1199.33 L286.529 1204.96 L286.791 1210.59 L287.154 1216.22 L287.618 1221.85 L288.189 1227.48 L288.87 1233.11 L289.664 1238.74 L290.579 1244.37 L291.62 1250 \n",
       "  L292.793 1255.63 L293.574 1258.99 L294.13 1261.26 L295.657 1266.89 L297.353 1272.52 L299.229 1278.15 L301.219 1283.56 L301.304 1283.78 L303.694 1289.41 L306.328 1295.04 \n",
       "  L308.863 1299.97 L309.248 1300.67 L312.61 1306.3 L316.319 1311.93 L316.507 1312.19 L320.637 1317.56 L324.151 1321.72 L325.513 1323.18 L331.174 1328.81 L331.796 1329.39 \n",
       "  L337.881 1334.44 L339.44 1335.64 L345.912 1340.07 L347.084 1340.82 L354.728 1345.12 L355.902 1345.7 L362.372 1348.7 L369.018 1351.33 L370.017 1351.71 L377.661 1354.18 \n",
       "  L385.305 1356.24 L388.539 1356.96 L392.949 1357.9 M912.756 928.597 L912.756 929.102 L912.756 923.472 L912.756 923.472 L912.756 923.472 L912.756 923.472 \n",
       "  L905.112 923.472 L908.856 923.472 L912.756 928.597  Z\n",
       "  \" fill=\"#db503a\" fill-rule=\"evenodd\" fill-opacity=\"1\"/>\n",
       "<path clip-path=\"url(#clip8106)\" d=\"\n",
       "M415.882 1346.53 L423.526 1347.35 L431.17 1347.89 L438.815 1348.19 L446.459 1348.27 L454.103 1348.12 L461.747 1347.77 L469.391 1347.23 L477.036 1346.51 L483.826 1345.7 \n",
       "  L484.68 1345.6 L492.324 1344.49 L499.968 1343.22 L507.613 1341.77 L515.257 1340.16 L515.633 1340.07 L522.901 1338.34 L530.545 1336.34 L537.246 1334.44 L538.189 1334.17 \n",
       "  L545.834 1331.76 L553.478 1329.17 L554.479 1328.81 L561.122 1326.33 L568.766 1323.28 L568.991 1323.18 L576.41 1319.92 L581.498 1317.56 L584.055 1316.31 L591.699 1312.38 \n",
       "  L592.549 1311.93 L599.343 1308.08 L602.349 1306.3 L606.987 1303.39 L611.158 1300.67 L614.632 1298.27 L619.113 1295.04 L622.276 1292.62 L626.331 1289.41 L629.92 1286.38 \n",
       "  L632.907 1283.78 L637.564 1279.45 L638.925 1278.15 L644.435 1272.52 L645.208 1271.68 L649.477 1266.89 L652.853 1262.84 L654.136 1261.26 L658.412 1255.63 L660.497 1252.69 \n",
       "  L662.357 1250 L665.99 1244.37 L668.141 1240.78 L669.343 1238.74 L672.416 1233.11 L675.26 1227.48 L675.785 1226.35 L677.845 1221.85 L680.211 1216.22 L682.371 1210.59 \n",
       "  L683.429 1207.54 L684.315 1204.96 L686.046 1199.33 L687.581 1193.7 L688.919 1188.07 L690.057 1182.44 L690.992 1176.81 L691.074 1176.17 L691.706 1171.18 L692.205 1165.55 \n",
       "  L692.478 1159.92 L692.513 1154.29 L692.295 1148.66 L691.806 1143.03 L691.074 1137.76 L691.023 1137.4 L689.906 1131.77 L688.436 1126.14 L686.577 1120.51 L684.286 1114.88 \n",
       "  L683.429 1113.11 L681.483 1109.25 L678.118 1103.62 L675.785 1100.28 L674.105 1097.99 L669.338 1092.36 L668.141 1091.12 L663.679 1086.74 L660.497 1083.98 L656.982 1081.11 \n",
       "  L652.853 1078.09 L649.036 1075.48 L645.208 1073.11 L639.581 1069.85 L637.564 1068.78 L629.92 1064.99 L628.261 1064.22 L622.276 1061.64 L614.632 1058.59 L614.616 1058.59 \n",
       "  L606.987 1055.9 L599.343 1053.4 L597.908 1052.96 L591.699 1051.16 L584.055 1049.08 L577.095 1047.33 L576.41 1047.16 L568.766 1045.44 L561.122 1043.83 L553.478 1042.34 \n",
       "  L549.945 1041.7 L545.834 1040.98 L538.189 1039.75 L530.545 1038.63 L522.901 1037.6 L515.257 1036.67 L509.605 1036.07 L507.613 1035.86 L499.968 1035.17 L492.324 1034.58 \n",
       "  L484.68 1034.1 L477.036 1033.74 L469.391 1033.5 L461.747 1033.39 L454.103 1033.42 L446.459 1033.6 L438.815 1033.95 L431.17 1034.48 L423.526 1035.21 L416.589 1036.07 \n",
       "  L415.882 1036.16 L408.238 1037.39 L400.593 1038.9 L392.949 1040.73 L389.506 1041.7 L385.305 1042.95 L377.661 1045.63 L373.512 1047.33 L370.017 1048.85 L362.372 1052.7 \n",
       "  L361.928 1052.96 L354.728 1057.38 L352.991 1058.59 L347.084 1063.04 L345.688 1064.22 L339.56 1069.85 L339.44 1069.97 L334.419 1075.48 L331.796 1078.64 L329.927 1081.11 \n",
       "  L326.017 1086.74 L324.151 1089.67 L322.576 1092.36 L319.552 1097.99 L316.814 1103.62 L316.507 1104.31 L314.441 1109.25 L312.306 1114.88 L310.377 1120.51 L308.863 1125.4 \n",
       "  L308.647 1126.14 L307.155 1131.77 L305.821 1137.4 L304.637 1143.03 L303.594 1148.66 L302.688 1154.29 L301.912 1159.92 L301.263 1165.55 L301.219 1166.03 L300.758 1171.18 \n",
       "  L300.372 1176.81 L300.1 1182.44 L299.943 1188.07 L299.9 1193.7 L299.971 1199.33 L300.159 1204.96 L300.464 1210.59 L300.889 1216.22 L301.219 1219.61 L301.447 1221.85 \n",
       "  L302.153 1227.48 L302.997 1233.11 L303.984 1238.74 L305.122 1244.37 L306.418 1250 L307.881 1255.63 L308.863 1259.02 L309.554 1261.26 L311.474 1266.89 L313.607 1272.52 \n",
       "  L315.971 1278.15 L316.507 1279.32 L318.695 1283.78 L321.736 1289.41 L324.151 1293.49 L325.146 1295.04 L329.068 1300.67 L331.796 1304.25 L333.503 1306.3 L338.606 1311.93 \n",
       "  L339.44 1312.78 L344.607 1317.56 L347.084 1319.67 L351.684 1323.18 L354.728 1325.34 L360.256 1328.81 L362.372 1330.05 L370.017 1333.98 L371.059 1334.44 L377.661 1337.22 \n",
       "  L385.305 1339.95 L385.728 1340.07 L392.949 1342.15 L400.593 1343.97 L408.238 1345.42 L410.099 1345.7 L415.882 1346.53  Z\n",
       "  \" fill=\"#ec6925\" fill-rule=\"evenodd\" fill-opacity=\"1\"/>\n",
       "<path clip-path=\"url(#clip8106)\" d=\"\n",
       "M408.238 1329.34 L415.882 1330.86 L423.526 1332.03 L431.17 1332.88 L438.815 1333.43 L446.459 1333.7 L454.103 1333.71 L461.747 1333.47 L469.391 1332.99 L477.036 1332.3 \n",
       "  L484.68 1331.39 L492.324 1330.27 L499.968 1328.95 L500.638 1328.81 L507.613 1327.38 L515.257 1325.61 L522.901 1323.65 L524.544 1323.18 L530.545 1321.42 L538.189 1318.98 \n",
       "  L542.312 1317.56 L545.834 1316.29 L553.478 1313.32 L556.849 1311.93 L561.122 1310.07 L568.766 1306.54 L569.256 1306.3 L576.41 1302.62 L579.994 1300.67 L584.055 1298.34 \n",
       "  L589.521 1295.04 L591.699 1293.65 L598.025 1289.41 L599.343 1288.47 L605.661 1283.78 L606.987 1282.73 L612.557 1278.15 L614.632 1276.33 L618.815 1272.52 L622.276 1269.15 \n",
       "  L624.521 1266.89 L629.741 1261.26 L629.92 1261.05 L634.47 1255.63 L637.564 1251.66 L638.824 1250 L642.788 1244.37 L645.208 1240.65 L646.424 1238.74 L649.724 1233.11 \n",
       "  L652.755 1227.48 L652.853 1227.28 L655.467 1221.85 L657.929 1216.22 L660.147 1210.59 L660.497 1209.59 L662.093 1204.96 L663.797 1199.33 L665.266 1193.7 L666.499 1188.07 \n",
       "  L667.492 1182.44 L668.141 1177.53 L668.235 1176.81 L668.715 1171.18 L668.934 1165.55 L668.878 1159.92 L668.533 1154.29 L668.141 1150.9 L667.873 1148.66 L666.868 1143.03 \n",
       "  L665.498 1137.4 L663.731 1131.77 L661.532 1126.14 L660.497 1123.93 L658.822 1120.51 L655.554 1114.88 L652.853 1110.92 L651.663 1109.25 L647.031 1103.62 L645.208 1101.68 \n",
       "  L641.55 1097.99 L637.564 1094.44 L635.086 1092.36 L629.92 1088.49 L627.436 1086.74 L622.276 1083.44 L618.353 1081.11 L614.632 1079.08 L607.528 1075.48 L606.987 1075.22 \n",
       "  L599.343 1071.86 L594.408 1069.85 L591.699 1068.82 L584.055 1066.11 L578.308 1064.22 L576.41 1063.63 L568.766 1061.43 L561.122 1059.4 L557.815 1058.59 L553.478 1057.58 \n",
       "  L545.834 1055.94 L538.189 1054.45 L530.545 1053.1 L529.654 1052.96 L522.901 1051.93 L515.257 1050.9 L507.613 1050 L499.968 1049.25 L492.324 1048.63 L484.68 1048.16 \n",
       "  L477.036 1047.84 L469.391 1047.69 L461.747 1047.7 L454.103 1047.9 L446.459 1048.29 L438.815 1048.89 L431.17 1049.73 L423.526 1050.82 L415.882 1052.18 L412.329 1052.96 \n",
       "  L408.238 1053.89 L400.593 1055.99 L392.949 1058.49 L392.686 1058.59 L385.305 1061.54 L379.571 1064.22 L377.661 1065.17 L370.017 1069.54 L369.536 1069.85 L362.372 1074.83 \n",
       "  L361.541 1075.48 L354.891 1081.11 L354.728 1081.25 L349.332 1086.74 L347.084 1089.23 L344.519 1092.36 L340.309 1097.99 L339.44 1099.26 L336.681 1103.62 L333.45 1109.25 \n",
       "  L331.796 1112.42 L330.602 1114.88 L328.113 1120.51 L325.873 1126.14 L324.151 1130.96 L323.878 1131.77 L322.175 1137.4 L320.663 1143.03 L319.334 1148.66 L318.179 1154.29 \n",
       "  L317.19 1159.92 L316.507 1164.56 L316.369 1165.55 L315.73 1171.18 L315.237 1176.81 L314.889 1182.44 L314.683 1188.07 L314.62 1193.7 L314.701 1199.33 L314.925 1204.96 \n",
       "  L315.296 1210.59 L315.817 1216.22 L316.49 1221.85 L316.507 1221.96 L317.364 1227.48 L318.411 1233.11 L319.638 1238.74 L321.054 1244.37 L322.668 1250 L324.151 1254.59 \n",
       "  L324.511 1255.63 L326.674 1261.26 L329.089 1266.89 L331.777 1272.52 L331.796 1272.55 L334.94 1278.15 L338.445 1283.78 L339.44 1285.24 L342.516 1289.41 L347.084 1295.02 \n",
       "  L347.097 1295.04 L352.54 1300.67 L354.728 1302.74 L358.89 1306.3 L362.372 1309.04 L366.489 1311.93 L370.017 1314.22 L375.856 1317.56 L377.661 1318.52 L385.305 1322.06 \n",
       "  L388.128 1323.18 L392.949 1324.99 L400.593 1327.39 L406.09 1328.81 L408.238 1329.34  Z\n",
       "  \" fill=\"#f7850e\" fill-rule=\"evenodd\" fill-opacity=\"1\"/>\n",
       "<path clip-path=\"url(#clip8106)\" d=\"\n",
       "M446.459 1317.76 L454.103 1317.94 L461.747 1317.84 L467.384 1317.56 L469.391 1317.45 L477.036 1316.78 L484.68 1315.85 L492.324 1314.67 L499.968 1313.25 L506.027 1311.93 \n",
       "  L507.613 1311.57 L515.257 1309.59 L522.901 1307.37 L526.257 1306.3 L530.545 1304.86 L538.189 1302.05 L541.66 1300.67 L545.834 1298.92 L553.478 1295.47 L554.368 1295.04 \n",
       "  L561.122 1291.6 L565.15 1289.41 L568.766 1287.33 L574.591 1283.78 L576.41 1282.6 L582.928 1278.15 L584.055 1277.33 L590.347 1272.52 L591.699 1271.41 L596.995 1266.89 \n",
       "  L599.343 1264.74 L602.988 1261.26 L606.987 1257.16 L608.419 1255.63 L613.322 1250 L614.632 1248.37 L617.749 1244.37 L621.785 1238.74 L622.276 1237.99 L625.39 1233.11 \n",
       "  L628.664 1227.48 L629.92 1225.1 L631.585 1221.85 L634.178 1216.22 L636.482 1210.59 L637.564 1207.57 L638.477 1204.96 L640.166 1199.33 L641.575 1193.7 L642.7 1188.07 \n",
       "  L643.535 1182.44 L644.073 1176.81 L644.301 1171.18 L644.207 1165.55 L643.774 1159.92 L642.981 1154.29 L641.806 1148.66 L640.22 1143.03 L638.191 1137.4 L637.564 1135.97 \n",
       "  L635.631 1131.77 L632.516 1126.14 L629.92 1122.17 L628.778 1120.51 L624.297 1114.88 L622.276 1112.67 L618.977 1109.25 L614.632 1105.29 L612.685 1103.62 L606.987 1099.27 \n",
       "  L605.211 1097.99 L599.343 1094.2 L596.291 1092.36 L591.699 1089.84 L585.584 1086.74 L584.055 1086.02 L576.41 1082.69 L572.46 1081.11 L568.766 1079.73 L561.122 1077.1 \n",
       "  L555.953 1075.48 L553.478 1074.75 L545.834 1072.68 L538.189 1070.82 L533.716 1069.85 L530.545 1069.19 L522.901 1067.78 L515.257 1066.56 L507.613 1065.52 L499.968 1064.66 \n",
       "  L494.946 1064.22 L492.324 1063.99 L484.68 1063.53 L477.036 1063.27 L469.391 1063.2 L461.747 1063.34 L454.103 1063.71 L447.762 1064.22 L446.459 1064.33 L438.815 1065.23 \n",
       "  L431.17 1066.43 L423.526 1067.95 L415.882 1069.82 L415.8 1069.85 L408.238 1072.18 L400.593 1074.98 L399.43 1075.48 L392.949 1078.41 L387.821 1081.11 L385.305 1082.52 \n",
       "  L378.753 1086.74 L377.661 1087.49 L371.429 1092.36 L370.017 1093.56 L365.334 1097.99 L362.372 1101.06 L360.125 1103.62 L355.624 1109.25 L354.728 1110.48 L351.779 1114.88 \n",
       "  L348.371 1120.51 L347.084 1122.86 L345.418 1126.14 L342.844 1131.77 L340.549 1137.4 L339.44 1140.46 L338.568 1143.03 L336.883 1148.66 L335.419 1154.29 L334.167 1159.92 \n",
       "  L333.118 1165.55 L332.268 1171.18 L331.796 1175.23 L331.622 1176.81 L331.181 1182.44 L330.919 1188.07 L330.835 1193.7 L330.929 1199.33 L331.203 1204.96 L331.659 1210.59 \n",
       "  L331.796 1211.79 L332.331 1216.22 L333.213 1221.85 L334.304 1227.48 L335.612 1233.11 L337.146 1238.74 L338.917 1244.37 L339.44 1245.84 L341.034 1250 L343.468 1255.63 \n",
       "  L346.204 1261.26 L347.084 1262.9 L349.417 1266.89 L353.068 1272.52 L354.728 1274.85 L357.312 1278.15 L362.169 1283.78 L362.372 1283.99 L368.001 1289.41 L370.017 1291.18 \n",
       "  L374.925 1295.04 L377.661 1297.02 L383.394 1300.67 L385.305 1301.79 L392.949 1305.71 L394.278 1306.3 L400.593 1308.89 L408.238 1311.51 L409.711 1311.93 L415.882 1313.57 \n",
       "  L423.526 1315.18 L431.17 1316.4 L438.815 1317.25 L443.291 1317.56 L446.459 1317.76  Z\n",
       "  \" fill=\"#fba40a\" fill-rule=\"evenodd\" fill-opacity=\"1\"/>\n",
       "<path clip-path=\"url(#clip8106)\" d=\"\n",
       "M423.526 1296.03 L431.17 1297.73 L438.815 1298.98 L446.459 1299.8 L454.103 1300.23 L461.747 1300.29 L469.391 1299.99 L477.036 1299.35 L484.68 1298.39 L492.324 1297.12 \n",
       "  L499.968 1295.55 L502.082 1295.04 L507.613 1293.62 L515.257 1291.37 L521.148 1289.41 L522.901 1288.79 L530.545 1285.81 L535.267 1283.78 L538.189 1282.45 L545.834 1278.66 \n",
       "  L546.802 1278.15 L553.478 1274.36 L556.497 1272.52 L561.122 1269.51 L564.914 1266.89 L568.766 1264.03 L572.298 1261.26 L576.41 1257.79 L578.834 1255.63 L584.055 1250.61 \n",
       "  L584.663 1250 L589.816 1244.37 L591.699 1242.13 L594.424 1238.74 L598.556 1233.11 L599.343 1231.92 L602.187 1227.48 L605.422 1221.85 L606.987 1218.78 L608.25 1216.22 \n",
       "  L610.679 1210.59 L612.765 1204.96 L614.507 1199.33 L614.632 1198.83 L615.86 1193.7 L616.868 1188.07 L617.525 1182.44 L617.822 1176.81 L617.745 1171.18 L617.275 1165.55 \n",
       "  L616.393 1159.92 L615.074 1154.29 L614.632 1152.88 L613.241 1148.66 L610.876 1143.03 L607.955 1137.4 L606.987 1135.83 L604.333 1131.77 L599.993 1126.14 L599.343 1125.41 \n",
       "  L594.724 1120.51 L591.699 1117.71 L588.437 1114.88 L584.055 1111.51 L580.887 1109.25 L576.41 1106.38 L571.746 1103.62 L568.766 1102.02 L561.122 1098.26 L560.54 1097.99 \n",
       "  L553.478 1095.06 L546.262 1092.36 L545.834 1092.22 L538.189 1089.81 L530.545 1087.69 L526.639 1086.74 L522.901 1085.88 L515.257 1084.36 L507.613 1083.1 L499.968 1082.07 \n",
       "  L492.324 1081.3 L489.423 1081.11 L484.68 1080.8 L477.036 1080.55 L469.391 1080.57 L461.747 1080.86 L458.469 1081.11 L454.103 1081.45 L446.459 1082.38 L438.815 1083.65 \n",
       "  L431.17 1085.3 L425.801 1086.74 L423.526 1087.38 L415.882 1090.01 L410.11 1092.36 L408.238 1093.19 L400.593 1097.09 L399.051 1097.99 L392.949 1101.87 L390.515 1103.62 \n",
       "  L385.305 1107.72 L383.565 1109.25 L377.742 1114.88 L377.661 1114.97 L372.937 1120.51 L370.017 1124.31 L368.739 1126.14 L365.184 1131.77 L362.372 1136.77 L362.043 1137.4 \n",
       "  L359.438 1143.03 L357.152 1148.66 L355.167 1154.29 L354.728 1155.74 L353.553 1159.92 L352.227 1165.55 L351.153 1171.18 L350.323 1176.81 L349.735 1182.44 L349.385 1188.07 \n",
       "  L349.272 1193.7 L349.398 1199.33 L349.763 1204.96 L350.372 1210.59 L351.23 1216.22 L352.344 1221.85 L353.722 1227.48 L354.728 1230.92 L355.421 1233.11 L357.503 1238.74 \n",
       "  L359.91 1244.37 L362.372 1249.41 L362.685 1250 L366.055 1255.63 L369.851 1261.26 L370.017 1261.48 L374.474 1266.89 L377.661 1270.37 L379.859 1272.52 L385.305 1277.35 \n",
       "  L386.329 1278.15 L392.949 1282.88 L394.395 1283.78 L400.593 1287.32 L404.899 1289.41 L408.238 1290.91 L415.882 1293.78 L420.025 1295.04 L423.526 1296.03  Z\n",
       "  \" fill=\"#f9c52d\" fill-rule=\"evenodd\" fill-opacity=\"1\"/>\n",
       "<path clip-path=\"url(#clip8106)\" d=\"\n",
       "M446.459 1278.63 L454.103 1279.38 L461.747 1279.66 L469.391 1279.5 L477.036 1278.91 L482.851 1278.15 L484.68 1277.9 L492.324 1276.43 L499.968 1274.56 L506.905 1272.52 \n",
       "  L507.613 1272.3 L515.257 1269.5 L521.536 1266.89 L522.901 1266.28 L530.545 1262.47 L532.759 1261.26 L538.189 1258.05 L541.954 1255.63 L545.834 1252.93 L549.732 1250 \n",
       "  L553.478 1246.94 L556.413 1244.37 L561.122 1239.86 L562.224 1238.74 L567.24 1233.11 L568.766 1231.21 L571.593 1227.48 L575.395 1221.85 L576.41 1220.13 L578.617 1216.22 \n",
       "  L581.35 1210.59 L583.647 1204.96 L584.055 1203.72 L585.434 1199.33 L586.775 1193.7 L587.681 1188.07 L588.139 1182.44 L588.135 1176.81 L587.648 1171.18 L586.657 1165.55 \n",
       "  L585.134 1159.92 L584.055 1156.99 L582.995 1154.29 L580.168 1148.66 L576.665 1143.03 L576.41 1142.69 L572.207 1137.4 L568.766 1133.72 L566.786 1131.77 L561.122 1126.93 \n",
       "  L560.121 1126.14 L553.478 1121.55 L551.812 1120.51 L545.834 1117.17 L541.27 1114.88 L538.189 1113.49 L530.545 1110.41 L527.228 1109.25 L522.901 1107.86 L515.257 1105.76 \n",
       "  L507.613 1104.02 L505.405 1103.62 L499.968 1102.71 L492.324 1101.75 L484.68 1101.14 L477.036 1100.88 L469.391 1100.98 L461.747 1101.46 L454.103 1102.33 L446.459 1103.62 \n",
       "  L446.456 1103.62 L438.815 1105.47 L431.17 1107.83 L427.412 1109.25 L423.526 1110.84 L415.882 1114.59 L415.372 1114.88 L408.238 1119.34 L406.609 1120.51 L400.593 1125.28 \n",
       "  L399.634 1126.14 L393.977 1131.77 L392.949 1132.91 L389.334 1137.4 L385.32 1143.03 L385.305 1143.06 L382.11 1148.66 L379.328 1154.29 L377.661 1158.24 L377.012 1159.92 \n",
       "  L375.191 1165.55 L373.718 1171.18 L372.584 1176.81 L371.783 1182.44 L371.311 1188.07 L371.167 1193.7 L371.352 1199.33 L371.87 1204.96 L372.726 1210.59 L373.928 1216.22 \n",
       "  L375.486 1221.85 L377.414 1227.48 L377.661 1228.09 L379.921 1233.11 L382.895 1238.74 L385.305 1242.69 L386.448 1244.37 L390.81 1250 L392.949 1252.45 L396.105 1255.63 \n",
       "  L400.593 1259.67 L402.626 1261.26 L408.238 1265.21 L411.05 1266.89 L415.882 1269.51 L422.603 1272.52 L423.526 1272.9 L431.17 1275.42 L438.815 1277.33 L443.495 1278.15 \n",
       "  L446.459 1278.63  Z\n",
       "  \" fill=\"#f2e55f\" fill-rule=\"evenodd\" fill-opacity=\"1\"/>\n",
       "<path clip-path=\"url(#clip8106)\" d=\"\n",
       "M446.459 1250.8 L454.103 1252.27 L461.747 1253.01 L469.391 1253.07 L477.036 1252.49 L484.68 1251.29 L490.237 1250 L492.324 1249.47 L499.968 1246.92 L506.19 1244.37 \n",
       "  L507.613 1243.73 L515.257 1239.67 L516.789 1238.74 L522.901 1234.62 L524.898 1233.11 L530.545 1228.33 L531.453 1227.48 L536.754 1221.85 L538.189 1220.09 L541.08 1216.22 \n",
       "  L544.64 1210.59 L545.834 1208.27 L547.415 1204.96 L549.488 1199.33 L550.941 1193.7 L551.758 1188.07 L551.916 1182.44 L551.389 1176.81 L550.146 1171.18 L548.15 1165.55 \n",
       "  L545.834 1160.86 L545.316 1159.92 L541.344 1154.29 L538.189 1150.68 L536.195 1148.66 L530.545 1143.87 L529.408 1143.03 L522.901 1138.9 L520.114 1137.4 L515.257 1135.1 \n",
       "  L507.613 1132.13 L506.45 1131.77 L499.968 1129.99 L492.324 1128.45 L484.68 1127.48 L477.036 1127.08 L469.391 1127.26 L461.747 1128.05 L454.103 1129.47 L446.459 1131.54 \n",
       "  L445.805 1131.77 L438.815 1134.55 L433.126 1137.4 L431.17 1138.5 L424.514 1143.03 L423.526 1143.79 L418.183 1148.66 L415.882 1151.07 L413.227 1154.29 L409.259 1159.92 \n",
       "  L408.238 1161.65 L406.22 1165.55 L403.867 1171.18 L402.066 1176.81 L400.808 1182.44 L400.593 1184.12 L400.142 1188.07 L399.979 1193.7 L400.3 1199.33 L400.593 1201.38 \n",
       "  L401.173 1204.96 L402.645 1210.59 L404.696 1216.22 L407.349 1221.85 L408.238 1223.39 L410.975 1227.48 L415.493 1233.11 L415.882 1233.53 L421.662 1238.74 L423.526 1240.2 \n",
       "  L430.038 1244.37 L431.17 1245.01 L438.815 1248.4 L443.724 1250 L446.459 1250.8  Z\n",
       "  \" fill=\"#fcfea4\" fill-rule=\"evenodd\" fill-opacity=\"1\"/>\n",
       "<polyline clip-path=\"url(#clip8106)\" style=\"stroke:#000000; stroke-width:4; stroke-opacity:1; fill:none\" points=\"\n",
       "  148.334,1486.45 148.334,1486.45 155.979,1486.45 163.623,1486.45 171.267,1486.45 178.911,1486.45 186.555,1486.45 194.2,1486.45 201.844,1486.45 209.488,1486.45 \n",
       "  217.132,1486.45 224.777,1486.45 232.421,1486.45 240.065,1486.45 247.709,1486.45 255.353,1486.45 262.998,1486.45 270.642,1486.45 278.286,1486.45 285.93,1486.45 \n",
       "  293.574,1486.45 301.219,1486.45 308.863,1486.45 316.507,1486.45 324.151,1486.45 331.796,1486.45 339.44,1486.45 347.084,1486.45 354.728,1486.45 362.372,1486.45 \n",
       "  370.017,1486.45 377.661,1486.45 385.305,1486.45 392.949,1486.45 400.593,1486.45 408.238,1486.45 415.882,1486.45 423.526,1486.45 431.17,1486.45 438.815,1486.45 \n",
       "  446.459,1486.45 454.103,1486.45 461.747,1486.45 469.391,1486.45 477.036,1486.45 484.68,1486.45 492.324,1486.45 499.968,1486.45 507.613,1486.45 515.257,1486.45 \n",
       "  522.901,1486.45 530.545,1486.45 538.189,1486.45 545.834,1486.45 553.478,1486.45 561.122,1486.45 568.766,1486.45 576.41,1486.45 584.055,1486.45 591.699,1486.45 \n",
       "  599.343,1486.45 606.987,1486.45 614.632,1486.45 622.276,1486.45 629.92,1486.45 637.564,1486.45 645.208,1486.45 652.853,1486.45 660.497,1486.45 668.141,1486.45 \n",
       "  675.785,1486.45 683.429,1486.45 691.074,1486.45 698.718,1486.45 706.362,1486.45 714.006,1486.45 721.651,1486.45 729.295,1486.45 736.939,1486.45 744.583,1486.45 \n",
       "  752.227,1486.45 759.872,1486.45 767.516,1486.45 775.16,1486.45 782.804,1486.45 790.448,1486.45 798.093,1486.45 805.737,1486.45 813.381,1486.45 821.025,1486.45 \n",
       "  828.67,1486.45 836.314,1486.45 843.958,1486.45 851.602,1486.45 859.246,1486.45 866.891,1486.45 874.535,1486.45 882.179,1486.45 889.823,1486.45 897.467,1486.45 \n",
       "  905.112,1486.45 912.756,1486.45 912.756,1480.82 912.756,1475.19 912.756,1469.56 912.756,1463.93 912.756,1458.3 \n",
       "  912.756,1452.67 912.756,1447.04 912.756,1441.41 912.756,1435.78 912.756,1430.15 912.756,1424.52 912.756,1418.89 912.756,1413.26 912.756,1407.63 912.756,1402 \n",
       "  912.756,1396.37 912.756,1390.74 912.756,1385.11 912.756,1379.48 912.756,1373.85 912.756,1368.22 912.756,1362.59 912.756,1356.96 912.756,1351.33 912.756,1345.7 \n",
       "  912.756,1340.07 912.756,1334.44 912.756,1328.81 912.756,1323.18 912.756,1317.56 912.756,1311.93 912.756,1306.3 912.756,1300.67 912.756,1295.04 912.756,1289.41 \n",
       "  912.756,1283.78 912.756,1278.15 912.756,1272.52 912.756,1266.89 912.756,1261.26 912.756,1255.63 912.756,1250 912.756,1244.37 912.756,1238.74 912.756,1233.11 \n",
       "  912.756,1227.48 912.756,1221.85 912.756,1216.22 912.756,1210.59 912.756,1204.96 912.756,1199.33 912.756,1193.7 912.756,1188.07 912.756,1182.44 912.756,1176.81 \n",
       "  912.756,1171.18 912.756,1165.55 912.756,1159.92 912.756,1154.29 912.756,1148.66 912.756,1143.03 912.756,1137.4 912.756,1131.77 912.756,1126.14 912.756,1120.51 \n",
       "  912.756,1114.88 912.756,1109.25 912.756,1103.62 912.756,1097.99 912.756,1092.36 912.756,1086.74 912.756,1081.11 912.756,1075.48 912.756,1069.85 912.756,1064.22 \n",
       "  912.756,1058.59 912.756,1052.96 912.756,1047.33 912.756,1041.7 912.756,1036.07 912.756,1030.44 912.756,1024.81 912.756,1019.18 912.756,1013.55 912.756,1007.92 \n",
       "  912.756,1002.29 912.756,996.659 912.756,991.029 912.756,985.399 912.756,979.77 912.756,974.14 912.756,968.51 912.756,962.88 912.756,957.251 912.756,951.621 \n",
       "  912.756,945.991 912.756,940.361 912.756,934.732 912.756,929.102 912.756,923.472 905.112,923.472 897.467,923.472 \n",
       "  889.823,923.472 882.179,923.472 874.535,923.472 866.891,923.472 859.246,923.472 851.602,923.472 843.958,923.472 836.314,923.472 828.67,923.472 821.025,923.472 \n",
       "  813.381,923.472 805.737,923.472 798.093,923.472 790.448,923.472 782.804,923.472 775.16,923.472 767.516,923.472 759.872,923.472 752.227,923.472 744.583,923.472 \n",
       "  736.939,923.472 729.295,923.472 721.651,923.472 714.006,923.472 706.362,923.472 698.718,923.472 691.074,923.472 683.429,923.472 675.785,923.472 668.141,923.472 \n",
       "  660.497,923.472 652.853,923.472 645.208,923.472 637.564,923.472 629.92,923.472 622.276,923.472 614.632,923.472 606.987,923.472 599.343,923.472 591.699,923.472 \n",
       "  584.055,923.472 576.41,923.472 568.766,923.472 561.122,923.472 553.478,923.472 545.834,923.472 538.189,923.472 530.545,923.472 522.901,923.472 515.257,923.472 \n",
       "  507.613,923.472 499.968,923.472 492.324,923.472 484.68,923.472 477.036,923.472 469.391,923.472 461.747,923.472 454.103,923.472 446.459,923.472 438.815,923.472 \n",
       "  431.17,923.472 423.526,923.472 415.882,923.472 408.238,923.472 400.593,923.472 392.949,923.472 385.305,923.472 377.661,923.472 370.017,923.472 362.372,923.472 \n",
       "  354.728,923.472 347.084,923.472 339.44,923.472 331.796,923.472 324.151,923.472 316.507,923.472 308.863,923.472 301.219,923.472 293.574,923.472 285.93,923.472 \n",
       "  278.286,923.472 270.642,923.472 262.998,923.472 255.353,923.472 247.709,923.472 240.065,923.472 232.421,923.472 224.777,923.472 217.132,923.472 209.488,923.472 \n",
       "  201.844,923.472 194.2,923.472 186.555,923.472 178.911,923.472 171.267,923.472 163.623,923.472 155.979,923.472 148.334,923.472 \n",
       "  148.334,929.102 148.334,934.732 148.334,940.361 148.334,945.991 148.334,951.621 148.334,957.251 148.334,962.88 148.334,968.51 148.334,974.14 \n",
       "  148.334,979.77 148.334,985.399 148.334,991.029 148.334,996.659 148.334,1002.29 148.334,1007.92 148.334,1013.55 148.334,1019.18 148.334,1024.81 148.334,1030.44 \n",
       "  148.334,1036.07 148.334,1041.7 148.334,1047.33 148.334,1052.96 148.334,1058.59 148.334,1064.22 148.334,1069.85 148.334,1075.48 148.334,1081.11 148.334,1086.74 \n",
       "  148.334,1092.36 148.334,1097.99 148.334,1103.62 148.334,1109.25 148.334,1114.88 148.334,1120.51 148.334,1126.14 148.334,1131.77 148.334,1137.4 148.334,1143.03 \n",
       "  148.334,1148.66 148.334,1154.29 148.334,1159.92 148.334,1165.55 148.334,1171.18 148.334,1176.81 148.334,1182.44 148.334,1188.07 148.334,1193.7 148.334,1199.33 \n",
       "  148.334,1204.96 148.334,1210.59 148.334,1216.22 148.334,1221.85 148.334,1227.48 148.334,1233.11 148.334,1238.74 148.334,1244.37 148.334,1250 148.334,1255.63 \n",
       "  148.334,1261.26 148.334,1266.89 148.334,1272.52 148.334,1278.15 148.334,1283.78 148.334,1289.41 148.334,1295.04 148.334,1300.67 148.334,1306.3 148.334,1311.93 \n",
       "  148.334,1317.56 148.334,1323.18 148.334,1328.81 148.334,1334.44 148.334,1340.07 148.334,1345.7 148.334,1351.33 148.334,1356.96 148.334,1362.59 148.334,1368.22 \n",
       "  148.334,1373.85 148.334,1379.48 148.334,1385.11 148.334,1390.74 148.334,1396.37 148.334,1402 148.334,1407.63 148.334,1413.26 148.334,1418.89 148.334,1424.52 \n",
       "  148.334,1430.15 148.334,1435.78 148.334,1441.41 148.334,1447.04 148.334,1452.67 148.334,1458.3 148.334,1463.93 148.334,1469.56 148.334,1475.19 148.334,1480.82 \n",
       "  148.334,1486.45 \n",
       "  \"/>\n",
       "<polyline clip-path=\"url(#clip8106)\" style=\"stroke:#000000; stroke-width:4; stroke-opacity:1; fill:none\" points=\"\n",
       "  148.334,1486.45 148.334,1486.45 155.979,1486.45 163.623,1486.45 171.267,1486.45 178.911,1486.45 186.555,1486.45 194.2,1486.45 201.844,1486.45 209.488,1486.45 \n",
       "  217.132,1486.45 224.777,1486.45 232.421,1486.45 240.065,1486.45 247.709,1486.45 255.353,1486.45 262.998,1486.45 270.642,1486.45 278.286,1486.45 285.93,1486.45 \n",
       "  293.574,1486.45 300.122,1486.45 301.219,1485.97 308.863,1482.84 314.435,1480.82 316.507,1480.13 324.151,1477.72 331.796,1475.55 333.098,1475.19 \n",
       "  339.44,1473.55 347.084,1471.7 354.728,1469.96 356.528,1469.56 362.372,1468.31 370.017,1466.74 377.661,1465.22 384.335,1463.93 385.305,1463.75 392.949,1462.32 \n",
       "  400.593,1460.92 408.238,1459.54 415.247,1458.3 415.882,1458.19 423.526,1456.85 431.17,1455.52 438.815,1454.2 446.459,1452.89 447.76,1452.67 454.103,1451.58 \n",
       "  461.747,1450.28 469.391,1448.97 477.036,1447.66 480.667,1447.04 484.68,1446.35 492.324,1445.03 499.968,1443.71 507.613,1442.38 513.15,1441.41 515.257,1441.04 \n",
       "  522.901,1439.68 530.545,1438.32 538.189,1436.94 544.615,1435.78 545.834,1435.56 553.478,1434.14 561.122,1432.71 568.766,1431.27 574.595,1430.15 576.41,1429.8 \n",
       "  584.055,1428.29 591.699,1426.76 599.343,1425.21 602.679,1424.52 606.987,1423.61 614.632,1421.97 622.276,1420.29 628.514,1418.89 629.92,1418.57 637.564,1416.77 \n",
       "  645.208,1414.92 651.868,1413.26 652.853,1413.01 660.497,1410.99 668.141,1408.91 672.666,1407.63 675.785,1406.72 683.429,1404.4 690.987,1402 691.074,1401.97 \n",
       "  698.718,1399.37 706.362,1396.62 707.023,1396.37 714.006,1393.64 721.025,1390.74 721.651,1390.47 729.295,1387.01 733.259,1385.11 736.939,1383.25 743.982,1379.48 \n",
       "  744.583,1379.14 752.227,1374.6 753.418,1373.85 759.872,1369.55 761.767,1368.22 767.516,1363.91 769.197,1362.59 775.16,1357.57 775.848,1356.96 781.836,1351.33 \n",
       "  782.804,1350.36 787.26,1345.7 790.448,1342.12 792.206,1340.07 796.74,1334.44 798.093,1332.66 800.919,1328.81 804.797,1323.18 805.737,1321.75 808.412,1317.56 \n",
       "  811.803,1311.93 813.381,1309.18 815,1306.3 818.03,1300.67 820.92,1295.04 821.025,1294.83 823.685,1289.41 826.349,1283.78 828.67,1278.72 828.929,1278.15 \n",
       "  831.434,1272.52 833.884,1266.89 836.288,1261.26 836.314,1261.2 838.657,1255.63 841.004,1250 843.337,1244.37 843.958,1242.87 845.667,1238.74 848.002,1233.11 \n",
       "  850.35,1227.48 851.602,1224.5 852.723,1221.85 855.129,1216.22 857.574,1210.59 859.246,1206.81 860.071,1204.96 862.632,1199.33 865.261,1193.7 866.891,1190.3 \n",
       "  867.975,1188.07 870.79,1182.44 873.711,1176.81 874.535,1175.27 876.768,1171.18 879.971,1165.55 882.179,1161.83 883.344,1159.92 886.924,1154.29 889.823,1149.96 \n",
       "  890.726,1148.66 894.813,1143.03 897.467,1139.58 899.216,1137.4 904.006,1131.77 905.112,1130.54 909.279,1126.14 912.756,1122.71 912.756,1126.14 912.756,1120.51 \n",
       "  912.756,1114.88 912.756,1109.25 912.756,1103.62 912.756,1097.99 912.756,1092.36 912.756,1086.74 912.756,1081.11 912.756,1075.48 912.756,1069.85 912.756,1064.22 \n",
       "  912.756,1058.59 912.756,1052.96 912.756,1047.33 912.756,1041.7 912.756,1036.07 912.756,1030.44 912.756,1024.81 912.756,1019.18 912.756,1013.55 912.756,1007.92 \n",
       "  912.756,1002.29 912.756,996.659 912.756,991.029 912.756,985.399 912.756,979.77 912.756,974.14 912.756,968.51 912.756,962.88 912.756,957.251 912.756,951.621 \n",
       "  912.756,945.991 912.756,940.361 912.756,934.732 912.756,929.102 912.756,923.472 905.112,923.472 897.467,923.472 \n",
       "  889.823,923.472 882.179,923.472 874.535,923.472 866.891,923.472 859.246,923.472 851.602,923.472 843.958,923.472 836.314,923.472 828.67,923.472 821.025,923.472 \n",
       "  813.381,923.472 805.737,923.472 798.093,923.472 790.448,923.472 782.804,923.472 775.16,923.472 767.516,923.472 759.872,923.472 752.227,923.472 744.583,923.472 \n",
       "  736.939,923.472 729.295,923.472 721.651,923.472 714.006,923.472 706.362,923.472 709.579,923.472 706.362,924.681 698.718,927.225 692.217,929.102 691.074,929.421 \n",
       "  683.429,931.328 675.785,932.97 668.141,934.38 665.954,934.732 660.497,935.591 652.853,936.622 645.208,937.486 637.564,938.201 629.92,938.779 622.276,939.233 \n",
       "  614.632,939.572 606.987,939.804 599.343,939.937 591.699,939.977 584.055,939.928 576.41,939.796 568.766,939.584 561.122,939.296 553.478,938.934 545.834,938.5 \n",
       "  538.189,937.996 530.545,937.423 522.901,936.783 515.257,936.076 507.613,935.301 502.429,934.732 499.968,934.461 492.324,933.554 484.68,932.578 477.036,931.531 \n",
       "  469.391,930.409 461.747,929.211 461.088,929.102 454.103,927.933 446.459,926.569 438.815,925.113 431.17,923.556 430.775,923.472 423.526,923.472 \n",
       "  415.882,923.472 408.238,923.472 400.593,923.472 392.949,923.472 385.305,923.472 377.661,923.472 370.017,923.472 362.372,923.472 354.728,923.472 347.084,923.472 \n",
       "  339.44,923.472 331.796,923.472 324.151,923.472 316.507,923.472 308.863,923.472 301.219,923.472 293.574,923.472 285.93,923.472 278.286,923.472 270.642,923.472 \n",
       "  262.998,923.472 255.353,923.472 247.709,923.472 240.065,923.472 232.421,923.472 224.777,923.472 217.132,923.472 209.488,923.472 201.844,923.472 194.2,923.472 \n",
       "  186.555,923.472 178.911,923.472 171.267,923.472 163.623,923.472 155.979,923.472 148.334,923.472 148.334,929.102 \n",
       "  148.334,934.732 148.334,940.361 148.334,945.991 148.334,951.621 148.334,957.251 148.334,962.88 148.334,968.51 148.334,974.14 148.334,979.77 148.334,985.399 \n",
       "  148.334,991.029 148.334,996.659 148.334,993.991 151.459,996.659 155.979,1001.01 157.234,1002.29 162.172,1007.92 163.623,1009.78 166.426,1013.55 170.1,1019.18 \n",
       "  171.267,1021.17 173.312,1024.81 176.124,1030.44 178.585,1036.07 178.911,1036.89 180.779,1041.7 182.719,1047.33 184.439,1052.96 185.968,1058.59 186.555,1060.97 \n",
       "  187.342,1064.22 188.579,1069.85 189.685,1075.48 190.676,1081.11 191.566,1086.74 192.365,1092.36 193.083,1097.99 193.729,1103.62 194.2,1108.17 194.312,1109.25 \n",
       "  194.842,1114.88 195.319,1120.51 195.746,1126.14 196.13,1131.77 196.473,1137.4 196.78,1143.03 197.053,1148.66 197.296,1154.29 197.511,1159.92 197.7,1165.55 \n",
       "  197.866,1171.18 198.01,1176.81 198.134,1182.44 198.239,1188.07 198.328,1193.7 198.4,1199.33 198.458,1204.96 198.501,1210.59 198.531,1216.22 198.549,1221.85 \n",
       "  198.554,1227.48 198.548,1233.11 198.53,1238.74 198.501,1244.37 198.461,1250 198.409,1255.63 198.345,1261.26 198.27,1266.89 198.181,1272.52 198.079,1278.15 \n",
       "  197.962,1283.78 197.829,1289.41 197.678,1295.04 197.509,1300.67 197.317,1306.3 197.102,1311.93 196.859,1317.56 196.584,1323.18 196.275,1328.81 195.925,1334.44 \n",
       "  195.528,1340.07 195.076,1345.7 194.561,1351.33 194.2,1354.84 193.976,1356.96 193.311,1362.59 192.545,1368.22 191.656,1373.85 190.62,1379.48 189.405,1385.11 \n",
       "  187.969,1390.74 186.555,1395.45 186.263,1396.37 184.245,1402 181.789,1407.63 178.911,1413 178.762,1413.26 175.043,1418.89 171.267,1423.46 170.308,1424.52 \n",
       "  164.214,1430.15 163.623,1430.61 156.155,1435.78 155.979,1435.88 148.334,1439.96 148.334,1441.41 148.334,1447.04 148.334,1452.67 148.334,1458.3 \n",
       "  148.334,1463.93 148.334,1469.56 148.334,1475.19 148.334,1480.82 148.334,1486.45 \n",
       "  \"/>\n",
       "<polyline clip-path=\"url(#clip8106)\" style=\"stroke:#000000; stroke-width:4; stroke-opacity:1; fill:none\" points=\"\n",
       "  400.593,1486.45 408.238,1486.45 415.882,1486.45 423.526,1486.45 431.17,1486.45 438.815,1486.45 446.459,1486.45 454.103,1486.45 461.747,1486.45 469.391,1486.45 \n",
       "  477.036,1486.45 484.68,1486.45 492.324,1486.45 499.968,1486.45 507.613,1486.45 515.257,1486.45 522.901,1486.45 530.545,1486.45 538.189,1486.45 545.834,1486.45 \n",
       "  553.478,1486.45 561.122,1486.45 568.766,1486.45 576.41,1486.45 584.055,1486.45 591.699,1486.45 599.343,1486.45 606.987,1486.45 614.632,1486.45 622.276,1486.45 \n",
       "  629.92,1486.45 637.564,1486.45 645.208,1486.45 652.853,1486.45 660.497,1486.45 668.141,1486.45 675.785,1486.45 683.429,1486.45 691.074,1486.45 698.718,1486.45 \n",
       "  706.362,1486.45 714.006,1486.45 721.651,1486.45 729.295,1486.45 736.939,1486.45 744.583,1486.45 752.227,1486.45 759.872,1486.45 767.516,1486.45 775.16,1486.45 \n",
       "  782.804,1486.45 790.448,1486.45 798.093,1486.45 805.737,1486.45 813.381,1486.45 821.025,1486.45 828.67,1486.45 836.314,1486.45 843.958,1486.45 851.602,1486.45 \n",
       "  859.246,1486.45 866.891,1486.45 874.535,1486.45 882.179,1486.45 889.823,1486.45 897.467,1486.45 905.112,1486.45 912.756,1486.45 \n",
       "  912.756,1480.82 912.756,1475.19 912.756,1469.56 912.756,1463.93 912.756,1458.3 912.756,1452.67 912.756,1447.04 912.756,1441.41 912.756,1435.78 \n",
       "  912.756,1430.15 912.756,1424.52 912.756,1418.89 912.756,1413.26 912.756,1407.63 912.756,1402 912.756,1396.37 912.756,1390.74 912.756,1385.11 912.756,1379.48 \n",
       "  912.756,1373.85 912.756,1368.22 912.756,1362.59 912.756,1356.96 912.756,1351.33 912.756,1345.7 912.756,1340.07 912.756,1334.44 912.756,1328.81 912.756,1323.18 \n",
       "  912.756,1317.56 912.756,1311.93 912.756,1306.3 912.756,1300.67 912.756,1295.04 912.756,1289.41 912.756,1283.78 912.756,1278.15 912.756,1272.52 912.756,1266.89 \n",
       "  912.756,1261.26 912.756,1255.63 912.756,1250 912.756,1244.37 912.756,1238.74 912.756,1233.11 912.756,1227.48 912.756,1221.85 912.756,1216.22 912.756,1210.59 \n",
       "  912.756,1204.96 912.756,1199.33 912.756,1193.7 912.756,1188.07 912.756,1182.44 912.756,1180.43 911.451,1182.44 907.952,1188.07 905.112,1192.88 \n",
       "  904.638,1193.7 901.512,1199.33 898.527,1204.96 897.467,1207.04 895.684,1210.59 892.961,1216.22 890.339,1221.85 889.823,1222.99 887.819,1227.48 885.38,1233.11 \n",
       "  883.009,1238.74 882.179,1240.76 880.704,1244.37 878.454,1250 876.244,1255.63 874.535,1260.05 874.069,1261.26 871.923,1266.89 869.791,1272.52 867.663,1278.15 \n",
       "  866.891,1280.2 865.534,1283.78 863.391,1289.41 861.22,1295.04 859.246,1300.07 859.009,1300.67 856.747,1306.3 854.416,1311.93 851.996,1317.56 851.602,1318.45 \n",
       "  849.471,1323.18 846.815,1328.81 844.001,1334.44 843.958,1334.53 840.999,1340.07 837.77,1345.7 836.314,1348.1 834.269,1351.33 830.442,1356.96 828.67,1359.39 \n",
       "  826.222,1362.59 821.528,1368.22 821.025,1368.79 816.262,1373.85 813.381,1376.65 810.293,1379.48 805.737,1383.31 803.463,1385.11 798.093,1389.02 795.57,1390.74 \n",
       "  790.448,1393.97 786.36,1396.37 782.804,1398.31 775.505,1402 775.16,1402.16 767.516,1405.59 762.623,1407.63 759.872,1408.7 752.227,1411.53 747.243,1413.26 \n",
       "  744.583,1414.13 736.939,1416.53 729.295,1418.77 728.876,1418.89 721.651,1420.85 714.006,1422.83 707.138,1424.52 706.362,1424.7 698.718,1426.47 691.074,1428.18 \n",
       "  683.429,1429.82 681.886,1430.15 675.785,1431.4 668.141,1432.93 660.497,1434.42 653.416,1435.78 652.853,1435.88 645.208,1437.3 637.564,1438.7 629.92,1440.08 \n",
       "  622.529,1441.41 622.276,1441.45 614.632,1442.8 606.987,1444.13 599.343,1445.46 591.699,1446.79 590.29,1447.04 584.055,1448.11 576.41,1449.43 568.766,1450.75 \n",
       "  561.122,1452.08 557.72,1452.67 553.478,1453.4 545.834,1454.73 538.189,1456.07 530.545,1457.43 525.668,1458.3 522.901,1458.79 515.257,1460.16 507.613,1461.55 \n",
       "  499.968,1462.96 494.807,1463.93 492.324,1464.39 484.68,1465.84 477.036,1467.32 469.391,1468.82 465.701,1469.56 461.747,1470.36 454.103,1471.93 446.459,1473.54 \n",
       "  438.851,1475.19 438.815,1475.2 431.17,1476.91 423.526,1478.68 415.882,1480.51 414.639,1480.82 408.238,1482.43 400.593,1484.44 393.32,1486.45 392.949,1486.45 \n",
       "  400.593,1486.45 \n",
       "  \"/>\n",
       "<polyline clip-path=\"url(#clip8106)\" style=\"stroke:#000000; stroke-width:4; stroke-opacity:1; fill:none\" points=\"\n",
       "  148.334,1390.74 148.334,1388.81 150.742,1385.11 153.983,1379.48 155.979,1375.56 156.813,1373.85 159.311,1368.22 161.51,1362.59 163.456,1356.96 163.623,1356.44 \n",
       "  165.204,1351.33 166.764,1345.7 168.161,1340.07 169.414,1334.44 170.541,1328.81 171.267,1324.83 171.562,1323.18 172.491,1317.56 173.332,1311.93 174.092,1306.3 \n",
       "  174.781,1300.67 175.404,1295.04 175.968,1289.41 176.478,1283.78 176.937,1278.15 177.35,1272.52 177.719,1266.89 178.048,1261.26 178.338,1255.63 178.591,1250 \n",
       "  178.81,1244.37 178.911,1241.27 178.995,1238.74 179.148,1233.11 179.268,1227.48 179.355,1221.85 179.41,1216.22 179.433,1210.59 179.422,1204.96 179.378,1199.33 \n",
       "  179.3,1193.7 179.187,1188.07 179.036,1182.44 178.911,1178.69 178.849,1176.81 178.623,1171.18 178.356,1165.55 178.045,1159.92 177.687,1154.29 177.279,1148.66 \n",
       "  176.818,1143.03 176.299,1137.4 175.719,1131.77 175.071,1126.14 174.351,1120.51 173.552,1114.88 172.667,1109.25 171.687,1103.62 171.267,1101.42 170.61,1097.99 \n",
       "  169.426,1092.36 168.116,1086.74 166.667,1081.11 165.061,1075.48 163.623,1070.9 163.286,1069.85 161.332,1064.22 159.16,1058.59 156.738,1052.96 155.979,1051.33 \n",
       "  154.053,1047.33 151.053,1041.7 148.334,1037.12 148.334,1041.7 148.334,1047.33 148.334,1052.96 148.334,1058.59 148.334,1064.22 148.334,1069.85 \n",
       "  148.334,1075.48 148.334,1081.11 148.334,1086.74 148.334,1092.36 148.334,1097.99 148.334,1103.62 148.334,1109.25 148.334,1114.88 148.334,1120.51 148.334,1126.14 \n",
       "  148.334,1131.77 148.334,1137.4 148.334,1143.03 148.334,1148.66 148.334,1154.29 148.334,1159.92 148.334,1165.55 148.334,1171.18 148.334,1176.81 148.334,1182.44 \n",
       "  148.334,1188.07 148.334,1193.7 148.334,1199.33 148.334,1204.96 148.334,1210.59 148.334,1216.22 148.334,1221.85 148.334,1227.48 148.334,1233.11 148.334,1238.74 \n",
       "  148.334,1244.37 148.334,1250 148.334,1255.63 148.334,1261.26 148.334,1266.89 148.334,1272.52 148.334,1278.15 148.334,1283.78 148.334,1289.41 148.334,1295.04 \n",
       "  148.334,1300.67 148.334,1306.3 148.334,1311.93 148.334,1317.56 148.334,1323.18 148.334,1328.81 148.334,1334.44 148.334,1340.07 148.334,1345.7 148.334,1351.33 \n",
       "  148.334,1356.96 148.334,1362.59 148.334,1368.22 148.334,1373.85 148.334,1379.48 148.334,1385.11 148.334,1390.74 \n",
       "  \"/>\n",
       "<polyline clip-path=\"url(#clip8106)\" style=\"stroke:#000000; stroke-width:4; stroke-opacity:1; fill:none\" points=\"\n",
       "  148.334,1486.45 148.334,1486.45 155.979,1486.45 163.623,1486.45 171.267,1486.45 178.911,1486.45 186.555,1486.45 194.2,1486.45 201.844,1486.45 209.488,1486.45 \n",
       "  217.132,1486.45 224.777,1486.45 232.421,1486.45 240.065,1486.45 241.947,1486.45 246.548,1480.82 247.709,1479.81 254.612,1475.19 255.353,1474.82 \n",
       "  262.998,1471.63 269.524,1469.56 270.642,1469.26 278.286,1467.39 285.93,1465.78 293.574,1464.37 295.995,1463.93 301.219,1463.08 308.863,1461.87 316.507,1460.73 \n",
       "  324.151,1459.63 331.796,1458.55 333.538,1458.3 339.44,1457.5 347.084,1456.45 354.728,1455.41 362.372,1454.38 370.017,1453.34 374.872,1452.67 377.661,1452.3 \n",
       "  385.305,1451.25 392.949,1450.19 400.593,1449.12 408.238,1448.04 415.249,1447.04 415.882,1446.95 423.526,1445.84 431.17,1444.72 438.815,1443.58 446.459,1442.43 \n",
       "  453.174,1441.41 454.103,1441.27 461.747,1440.08 469.391,1438.87 477.036,1437.65 484.68,1436.41 488.53,1435.78 492.324,1435.15 499.968,1433.87 507.613,1432.56 \n",
       "  515.257,1431.24 521.435,1430.15 522.901,1429.89 530.545,1428.51 538.189,1427.1 545.834,1425.67 551.903,1424.52 553.478,1424.22 561.122,1422.71 568.766,1421.18 \n",
       "  576.41,1419.62 579.93,1418.89 584.055,1418.01 591.699,1416.36 599.343,1414.66 605.48,1413.26 606.987,1412.91 614.632,1411.09 622.276,1409.21 628.532,1407.63 \n",
       "  629.92,1407.27 637.564,1405.23 645.208,1403.12 649.14,1402 652.853,1400.9 660.497,1398.58 667.437,1396.37 668.141,1396.14 675.785,1393.54 683.429,1390.81 \n",
       "  683.606,1390.74 691.074,1387.87 697.868,1385.11 698.718,1384.75 706.362,1381.38 710.455,1379.48 714.006,1377.75 721.595,1373.85 721.651,1373.82 729.295,1369.51 \n",
       "  731.474,1368.22 736.939,1364.79 740.281,1362.59 744.583,1359.58 748.167,1356.96 752.227,1353.8 755.262,1351.33 759.872,1347.33 761.679,1345.7 767.514,1340.07 \n",
       "  767.516,1340.07 772.837,1334.44 775.16,1331.82 777.729,1328.81 782.246,1323.18 782.804,1322.45 786.428,1317.56 790.334,1311.93 790.448,1311.75 793.983,1306.3 \n",
       "  797.423,1300.67 798.093,1299.52 800.671,1295.04 803.758,1289.41 805.737,1285.65 806.705,1283.78 809.526,1278.15 812.246,1272.52 813.381,1270.1 814.875,1266.89 \n",
       "  817.428,1261.26 819.92,1255.63 821.025,1253.08 822.359,1250 824.757,1244.37 827.125,1238.74 828.67,1235.04 829.472,1233.11 831.806,1227.48 834.136,1221.85 \n",
       "  836.314,1216.6 836.471,1216.22 838.819,1210.59 841.188,1204.96 843.586,1199.33 843.958,1198.46 846.025,1193.7 848.511,1188.07 851.052,1182.44 851.602,1181.24 \n",
       "  853.668,1176.81 856.363,1171.18 859.15,1165.55 859.246,1165.36 862.058,1159.92 865.089,1154.29 866.891,1151.07 868.274,1148.66 871.641,1143.03 874.535,1138.43 \n",
       "  875.209,1137.4 879.038,1131.77 882.179,1127.43 883.153,1126.14 887.637,1120.51 889.823,1117.93 892.56,1114.88 897.467,1109.79 898.015,1109.25 904.182,1103.62 \n",
       "  905.112,1102.83 911.263,1097.99 912.756,1096.9 912.756,1097.99 912.756,1092.36 912.756,1086.74 912.756,1081.11 912.756,1075.48 912.756,1069.85 912.756,1064.22 \n",
       "  912.756,1058.59 912.756,1052.96 912.756,1047.33 912.756,1041.7 912.756,1036.07 912.756,1030.44 912.756,1024.81 912.756,1019.18 912.756,1013.55 912.756,1007.92 \n",
       "  912.756,1002.29 912.756,996.659 912.756,991.029 912.756,985.399 912.756,979.77 912.756,974.14 912.756,968.51 912.756,962.88 912.756,957.251 912.756,951.621 \n",
       "  912.756,945.991 912.756,940.361 912.756,934.732 912.756,929.102 912.756,923.472 905.112,923.472 897.467,923.472 \n",
       "  889.823,923.472 882.179,923.472 874.535,923.472 866.891,923.472 859.246,923.472 851.602,923.472 843.958,923.472 836.314,923.472 828.67,923.472 821.025,923.472 \n",
       "  813.381,923.472 805.737,923.472 798.093,923.472 790.448,923.472 782.804,923.472 775.16,923.472 767.516,923.472 759.872,923.472 752.227,923.472 744.583,923.472 \n",
       "  745.736,923.472 744.583,924.203 736.939,928.497 735.722,929.102 729.295,932.132 722.894,934.732 721.651,935.214 714.006,937.853 706.362,940.1 705.36,940.361 \n",
       "  698.718,942.036 691.074,943.689 683.429,945.097 677.756,945.991 675.785,946.295 668.141,947.314 660.497,948.165 652.853,948.867 645.208,949.436 637.564,949.883 \n",
       "  629.92,950.22 622.276,950.457 614.632,950.601 606.987,950.658 599.343,950.635 591.699,950.537 584.055,950.367 576.41,950.13 568.766,949.829 561.122,949.466 \n",
       "  553.478,949.044 545.834,948.565 538.189,948.031 530.545,947.441 522.901,946.799 515.257,946.104 514.095,945.991 507.613,945.362 499.968,944.568 492.324,943.722 \n",
       "  484.68,942.824 477.036,941.871 469.391,940.864 465.757,940.361 461.747,939.802 454.103,938.683 446.459,937.501 438.815,936.253 431.17,934.934 430.041,934.732 \n",
       "  423.526,933.54 415.882,932.062 408.238,930.49 401.874,929.102 400.593,928.814 392.949,927.019 385.305,925.089 379.33,923.472 377.661,923.472 \n",
       "  370.017,923.472 362.372,923.472 354.728,923.472 347.084,923.472 339.44,923.472 331.796,923.472 324.151,923.472 316.507,923.472 308.863,923.472 301.219,923.472 \n",
       "  293.574,923.472 285.93,923.472 278.286,923.472 270.642,923.472 262.998,923.472 255.353,923.472 247.709,923.472 240.065,923.472 232.421,923.472 224.777,923.472 \n",
       "  217.132,923.472 209.488,923.472 201.844,923.472 194.2,923.472 186.555,923.472 178.911,923.472 171.267,923.472 163.623,923.472 155.979,923.472 148.334,923.472 \n",
       "  148.334,929.102 148.334,934.732 148.334,940.361 148.334,945.991 148.334,951.621 148.334,957.251 148.334,962.88 \n",
       "  148.334,968.51 148.334,974.14 148.334,979.77 148.334,975.171 155.878,979.77 155.979,979.839 163.484,985.399 163.623,985.516 169.727,991.029 171.267,992.63 \n",
       "  174.902,996.659 178.911,1001.87 179.214,1002.29 182.892,1007.92 186,1013.55 186.555,1014.67 188.693,1019.18 191.013,1024.81 193.018,1030.44 194.2,1034.19 \n",
       "  194.773,1036.07 196.324,1041.7 197.684,1047.33 198.881,1052.96 199.937,1058.59 200.871,1064.22 201.7,1069.85 201.844,1070.92 202.448,1075.48 203.115,1081.11 \n",
       "  203.71,1086.74 204.24,1092.36 204.713,1097.99 205.135,1103.62 205.512,1109.25 205.849,1114.88 206.15,1120.51 206.418,1126.14 206.658,1131.77 206.873,1137.4 \n",
       "  207.065,1143.03 207.236,1148.66 207.389,1154.29 207.527,1159.92 207.65,1165.55 207.761,1171.18 207.861,1176.81 207.951,1182.44 208.033,1188.07 208.109,1193.7 \n",
       "  208.179,1199.33 208.243,1204.96 208.305,1210.59 208.363,1216.22 208.419,1221.85 208.474,1227.48 208.528,1233.11 208.582,1238.74 208.636,1244.37 208.691,1250 \n",
       "  208.748,1255.63 208.806,1261.26 208.866,1266.89 208.929,1272.52 208.994,1278.15 209.061,1283.78 209.132,1289.41 209.204,1295.04 209.28,1300.67 209.357,1306.3 \n",
       "  209.437,1311.93 209.488,1315.51 209.519,1317.56 209.602,1323.18 209.686,1328.81 209.77,1334.44 209.851,1340.07 209.929,1345.7 210.001,1351.33 210.066,1356.96 \n",
       "  210.12,1362.59 210.16,1368.22 210.182,1373.85 210.178,1379.48 210.142,1385.11 210.063,1390.74 209.929,1396.37 209.72,1402 209.488,1406.33 209.414,1407.63 \n",
       "  208.983,1413.26 208.368,1418.89 207.489,1424.52 206.215,1430.15 204.315,1435.78 201.844,1440.62 201.369,1441.41 196.643,1447.04 194.2,1448.99 188.187,1452.67 \n",
       "  186.555,1453.41 178.911,1456.24 171.337,1458.3 171.267,1458.31 163.623,1459.89 155.979,1461.18 148.334,1462.27 148.334,1463.93 148.334,1469.56 \n",
       "  148.334,1475.19 148.334,1480.82 148.334,1486.45 \n",
       "  \"/>\n",
       "<polyline clip-path=\"url(#clip8106)\" style=\"stroke:#000000; stroke-width:4; stroke-opacity:1; fill:none\" points=\"\n",
       "  438.815,1486.45 446.459,1486.45 454.103,1486.45 461.747,1486.45 469.391,1486.45 477.036,1486.45 484.68,1486.45 492.324,1486.45 499.968,1486.45 507.613,1486.45 \n",
       "  515.257,1486.45 522.901,1486.45 530.545,1486.45 538.189,1486.45 545.834,1486.45 553.478,1486.45 561.122,1486.45 568.766,1486.45 576.41,1486.45 584.055,1486.45 \n",
       "  591.699,1486.45 599.343,1486.45 606.987,1486.45 614.632,1486.45 622.276,1486.45 629.92,1486.45 637.564,1486.45 645.208,1486.45 652.853,1486.45 660.497,1486.45 \n",
       "  668.141,1486.45 675.785,1486.45 683.429,1486.45 691.074,1486.45 698.718,1486.45 706.362,1486.45 714.006,1486.45 721.651,1486.45 729.295,1486.45 736.939,1486.45 \n",
       "  744.583,1486.45 752.227,1486.45 759.872,1486.45 767.516,1486.45 775.16,1486.45 782.804,1486.45 790.448,1486.45 798.093,1486.45 805.737,1486.45 813.381,1486.45 \n",
       "  821.025,1486.45 828.67,1486.45 836.314,1486.45 843.958,1486.45 851.602,1486.45 859.246,1486.45 866.891,1486.45 874.535,1486.45 882.179,1486.45 889.823,1486.45 \n",
       "  897.467,1486.45 905.112,1486.45 912.756,1486.45 912.756,1480.82 912.756,1475.19 912.756,1469.56 912.756,1463.93 \n",
       "  912.756,1458.3 912.756,1452.67 912.756,1447.04 912.756,1441.41 912.756,1435.78 912.756,1430.15 912.756,1424.52 912.756,1418.89 912.756,1413.26 912.756,1407.63 \n",
       "  912.756,1402 912.756,1396.37 912.756,1390.74 912.756,1385.11 912.756,1379.48 912.756,1373.85 912.756,1368.22 912.756,1362.59 912.756,1356.96 912.756,1351.33 \n",
       "  912.756,1345.7 912.756,1340.07 912.756,1334.44 912.756,1328.81 912.756,1323.18 912.756,1317.56 912.756,1311.93 912.756,1306.3 912.756,1300.67 912.756,1295.04 \n",
       "  912.756,1289.41 912.756,1283.78 912.756,1278.15 912.756,1272.52 912.756,1266.89 912.756,1261.26 912.756,1255.63 912.756,1250 912.756,1244.37 912.756,1238.74 \n",
       "  912.756,1233.11 912.756,1227.48 912.756,1221.85 912.756,1216.22 912.756,1215.44 912.356,1216.22 909.591,1221.85 906.947,1227.48 905.112,1231.55 \n",
       "  904.419,1233.11 902.006,1238.74 899.681,1244.37 897.467,1249.92 897.436,1250 895.276,1255.63 893.179,1261.26 891.134,1266.89 889.823,1270.59 889.139,1272.52 \n",
       "  887.189,1278.15 885.268,1283.78 883.365,1289.41 882.179,1292.96 881.477,1295.04 879.596,1300.67 877.705,1306.3 875.792,1311.93 874.535,1315.59 873.848,1317.56 \n",
       "  871.861,1323.18 869.808,1328.81 867.671,1334.44 866.891,1336.44 865.432,1340.07 863.064,1345.7 860.531,1351.33 859.246,1354.03 857.799,1356.96 854.823,1362.59 \n",
       "  851.602,1368.12 851.537,1368.22 847.884,1373.85 843.958,1379.22 843.751,1379.48 839.039,1385.11 836.314,1388.01 833.574,1390.74 828.67,1395.11 827.15,1396.37 \n",
       "  821.025,1400.94 819.49,1402 813.381,1405.82 810.215,1407.63 805.737,1409.97 798.801,1413.26 798.093,1413.57 790.448,1416.71 784.603,1418.89 782.804,1419.51 \n",
       "  775.16,1422.02 767.516,1424.31 766.789,1424.52 759.872,1426.39 752.227,1428.33 744.583,1430.14 744.559,1430.15 736.939,1431.83 729.295,1433.43 721.651,1434.97 \n",
       "  717.488,1435.78 714.006,1436.43 706.362,1437.83 698.718,1439.2 691.074,1440.53 685.931,1441.41 683.429,1441.82 675.785,1443.09 668.141,1444.33 660.497,1445.57 \n",
       "  652.853,1446.8 651.352,1447.04 645.208,1448.01 637.564,1449.21 629.92,1450.41 622.276,1451.62 615.671,1452.67 614.632,1452.83 606.987,1454.04 599.343,1455.25 \n",
       "  591.699,1456.48 584.055,1457.72 580.502,1458.3 576.41,1458.96 568.766,1460.22 561.122,1461.49 553.478,1462.78 546.813,1463.93 545.834,1464.1 538.189,1465.42 \n",
       "  530.545,1466.77 522.901,1468.14 515.257,1469.55 515.194,1469.56 507.613,1470.97 499.968,1472.43 492.324,1473.92 485.981,1475.19 484.68,1475.45 477.036,1477.02 \n",
       "  469.391,1478.63 461.747,1480.29 459.382,1480.82 454.103,1482.01 446.459,1483.79 438.815,1485.63 435.539,1486.45 431.17,1486.45 438.815,1486.45 \n",
       "  \"/>\n",
       "<polyline clip-path=\"url(#clip8106)\" style=\"stroke:#000000; stroke-width:4; stroke-opacity:1; fill:none\" points=\"\n",
       "  148.334,1362.59 148.334,1357.99 148.787,1356.96 151.073,1351.33 153.117,1345.7 154.952,1340.07 155.979,1336.62 156.609,1334.44 158.113,1328.81 159.472,1323.18 \n",
       "  160.702,1317.56 161.817,1311.93 162.828,1306.3 163.623,1301.44 163.747,1300.67 164.589,1295.04 165.351,1289.41 166.042,1283.78 166.666,1278.15 167.228,1272.52 \n",
       "  167.732,1266.89 168.182,1261.26 168.581,1255.63 168.931,1250 169.235,1244.37 169.493,1238.74 169.708,1233.11 169.88,1227.48 170.01,1221.85 170.099,1216.22 \n",
       "  170.146,1210.59 170.151,1204.96 170.113,1199.33 170.033,1193.7 169.909,1188.07 169.739,1182.44 169.522,1176.81 169.256,1171.18 168.938,1165.55 168.567,1159.92 \n",
       "  168.138,1154.29 167.649,1148.66 167.095,1143.03 166.472,1137.4 165.775,1131.77 164.998,1126.14 164.135,1120.51 163.623,1117.48 163.182,1114.88 162.133,1109.25 \n",
       "  160.974,1103.62 159.694,1097.99 158.281,1092.36 156.72,1086.74 155.979,1084.28 155.006,1081.11 153.118,1075.48 151.03,1069.85 148.716,1064.22 148.334,1063.36 \n",
       "  148.334,1064.22 148.334,1069.85 148.334,1075.48 148.334,1081.11 148.334,1086.74 148.334,1092.36 148.334,1097.99 148.334,1103.62 148.334,1109.25 \n",
       "  148.334,1114.88 148.334,1120.51 148.334,1126.14 148.334,1131.77 148.334,1137.4 148.334,1143.03 148.334,1148.66 148.334,1154.29 148.334,1159.92 148.334,1165.55 \n",
       "  148.334,1171.18 148.334,1176.81 148.334,1182.44 148.334,1188.07 148.334,1193.7 148.334,1199.33 148.334,1204.96 148.334,1210.59 148.334,1216.22 148.334,1221.85 \n",
       "  148.334,1227.48 148.334,1233.11 148.334,1238.74 148.334,1244.37 148.334,1250 148.334,1255.63 148.334,1261.26 148.334,1266.89 148.334,1272.52 148.334,1278.15 \n",
       "  148.334,1283.78 148.334,1289.41 148.334,1295.04 148.334,1300.67 148.334,1306.3 148.334,1311.93 148.334,1317.56 148.334,1323.18 148.334,1328.81 148.334,1334.44 \n",
       "  148.334,1340.07 148.334,1345.7 148.334,1351.33 148.334,1356.96 148.334,1362.59 \n",
       "  \"/>\n",
       "<polyline clip-path=\"url(#clip8106)\" style=\"stroke:#000000; stroke-width:4; stroke-opacity:1; fill:none\" points=\"\n",
       "  148.334,1486.45 148.334,1486.45 155.979,1486.45 163.623,1486.45 164.5,1486.45 163.623,1486.21 155.979,1484.45 148.334,1483.11 148.334,1486.45 \n",
       "  \n",
       "  \"/>\n",
       "<polyline clip-path=\"url(#clip8106)\" style=\"stroke:#000000; stroke-width:4; stroke-opacity:1; fill:none\" points=\"\n",
       "  484.68,1486.45 492.324,1486.45 499.968,1486.45 507.613,1486.45 515.257,1486.45 522.901,1486.45 530.545,1486.45 538.189,1486.45 545.834,1486.45 553.478,1486.45 \n",
       "  561.122,1486.45 568.766,1486.45 576.41,1486.45 584.055,1486.45 591.699,1486.45 599.343,1486.45 606.987,1486.45 614.632,1486.45 622.276,1486.45 629.92,1486.45 \n",
       "  637.564,1486.45 645.208,1486.45 652.853,1486.45 660.497,1486.45 668.141,1486.45 675.785,1486.45 683.429,1486.45 691.074,1486.45 698.718,1486.45 706.362,1486.45 \n",
       "  714.006,1486.45 721.651,1486.45 729.295,1486.45 736.939,1486.45 744.583,1486.45 752.227,1486.45 759.872,1486.45 767.516,1486.45 775.16,1486.45 782.804,1486.45 \n",
       "  790.448,1486.45 798.093,1486.45 805.737,1486.45 813.381,1486.45 821.025,1486.45 828.67,1486.45 836.314,1486.45 843.958,1486.45 851.602,1486.45 859.246,1486.45 \n",
       "  866.891,1486.45 874.535,1486.45 882.179,1486.45 889.823,1486.45 897.467,1486.45 905.112,1486.45 912.756,1486.45 \n",
       "  912.756,1480.82 912.756,1475.19 912.756,1469.56 912.756,1463.93 912.756,1458.3 912.756,1452.67 912.756,1447.04 912.756,1441.41 912.756,1435.78 912.756,1430.15 \n",
       "  912.756,1424.52 912.756,1418.89 912.756,1413.26 912.756,1407.63 912.756,1402 912.756,1396.37 912.756,1390.74 912.756,1385.11 912.756,1379.48 912.756,1373.85 \n",
       "  912.756,1368.22 912.756,1362.59 912.756,1356.96 912.756,1351.33 912.756,1345.7 912.756,1340.07 912.756,1334.44 912.756,1328.81 912.756,1323.18 912.756,1317.56 \n",
       "  912.756,1311.93 912.756,1306.3 912.756,1300.67 912.756,1295.04 912.756,1289.41 912.756,1283.78 912.756,1278.15 912.756,1272.52 912.756,1266.89 912.756,1261.26 \n",
       "  912.756,1260.84 912.604,1261.26 910.661,1266.89 908.797,1272.52 907.004,1278.15 905.276,1283.78 905.112,1284.34 903.619,1289.41 902.015,1295.04 \n",
       "  900.455,1300.67 898.933,1306.3 897.467,1311.83 897.442,1311.93 895.986,1317.56 894.544,1323.18 893.108,1328.81 891.667,1334.44 890.211,1340.07 889.823,1341.58 \n",
       "  888.733,1345.7 887.214,1351.33 885.632,1356.96 883.963,1362.59 882.179,1368.22 882.176,1368.22 880.256,1373.85 878.136,1379.48 875.752,1385.11 874.535,1387.73 \n",
       "  873.033,1390.74 869.862,1396.37 866.891,1400.84 866.053,1402 861.389,1407.63 859.246,1409.82 855.478,1413.26 851.602,1416.26 847.731,1418.89 843.958,1421.1 \n",
       "  837.196,1424.52 836.314,1424.91 828.67,1427.99 822.421,1430.15 821.025,1430.58 813.381,1432.79 805.737,1434.73 801.248,1435.78 798.093,1436.46 790.448,1438.02 \n",
       "  782.804,1439.45 775.16,1440.79 771.471,1441.41 767.516,1442.04 759.872,1443.22 752.227,1444.35 744.583,1445.44 736.939,1446.5 733.063,1447.04 729.295,1447.54 \n",
       "  721.651,1448.54 714.006,1449.54 706.362,1450.53 698.718,1451.51 691.074,1452.5 689.766,1452.67 683.429,1453.47 675.785,1454.45 668.141,1455.44 660.497,1456.44 \n",
       "  652.853,1457.44 646.456,1458.3 645.208,1458.46 637.564,1459.49 629.92,1460.53 622.276,1461.59 614.632,1462.66 606.987,1463.76 605.856,1463.93 599.343,1464.87 \n",
       "  591.699,1466.01 584.055,1467.17 576.41,1468.35 568.768,1469.56 568.766,1469.56 561.122,1470.79 553.478,1472.05 545.834,1473.34 538.189,1474.67 535.253,1475.19 \n",
       "  530.545,1476.02 522.901,1477.41 515.257,1478.84 507.613,1480.32 505.073,1480.82 499.968,1481.83 492.324,1483.39 484.68,1485.01 478.081,1486.45 477.036,1486.45 \n",
       "  484.68,1486.45 \n",
       "  \"/>\n",
       "<polyline clip-path=\"url(#clip8106)\" style=\"stroke:#000000; stroke-width:4; stroke-opacity:1; fill:none\" points=\"\n",
       "  316.507,1441.63 324.151,1441.73 331.796,1441.67 339.44,1441.5 341.894,1441.41 347.084,1441.22 354.728,1440.86 362.372,1440.41 370.017,1439.89 377.661,1439.3 \n",
       "  385.305,1438.66 392.949,1437.96 400.593,1437.22 408.238,1436.43 414.118,1435.78 415.882,1435.59 423.526,1434.71 431.17,1433.78 438.815,1432.82 446.459,1431.83 \n",
       "  454.103,1430.79 458.699,1430.15 461.747,1429.72 469.391,1428.61 477.036,1427.47 484.68,1426.29 492.324,1425.08 495.789,1424.52 499.968,1423.84 507.613,1422.55 \n",
       "  515.257,1421.22 522.901,1419.87 528.272,1418.89 530.545,1418.47 538.189,1417.03 545.834,1415.54 553.478,1414.02 557.21,1413.26 561.122,1412.45 568.766,1410.82 \n",
       "  576.41,1409.14 583.129,1407.63 584.055,1407.42 591.699,1405.61 599.343,1403.75 606.309,1402 606.987,1401.83 614.632,1399.8 622.276,1397.7 626.98,1396.37 \n",
       "  629.92,1395.51 637.564,1393.2 645.208,1390.8 645.38,1390.74 652.853,1388.23 660.497,1385.55 661.706,1385.11 668.141,1382.68 675.785,1379.65 676.201,1379.48 \n",
       "  683.429,1376.39 689.071,1373.85 691.074,1372.91 698.718,1369.15 700.531,1368.22 706.362,1365.08 710.759,1362.59 714.006,1360.65 719.927,1356.96 721.651,1355.83 \n",
       "  728.173,1351.33 729.295,1350.51 735.621,1345.7 736.939,1344.64 742.376,1340.07 744.583,1338.1 748.533,1334.44 752.227,1330.8 754.17,1328.81 759.356,1323.18 \n",
       "  759.872,1322.59 764.136,1317.56 767.516,1313.3 768.577,1311.93 772.708,1306.3 775.16,1302.76 776.577,1300.67 780.207,1295.04 782.804,1290.79 783.637,1289.41 \n",
       "  786.879,1283.78 789.969,1278.15 790.448,1277.24 792.914,1272.52 795.74,1266.89 798.093,1262.03 798.462,1261.26 801.086,1255.63 803.635,1250 805.737,1245.24 \n",
       "  806.117,1244.37 808.537,1238.74 810.913,1233.11 813.251,1227.48 813.381,1227.16 815.556,1221.85 817.84,1216.22 820.11,1210.59 821.025,1208.31 822.373,1204.96 \n",
       "  824.637,1199.33 826.908,1193.7 828.67,1189.35 829.194,1188.07 831.505,1182.44 833.845,1176.81 836.225,1171.18 836.314,1170.97 838.658,1165.55 841.15,1159.92 \n",
       "  843.712,1154.29 843.958,1153.76 846.367,1148.66 849.121,1143.03 851.602,1138.15 851.994,1137.4 855.022,1131.77 858.213,1126.14 859.246,1124.38 861.621,1120.51 \n",
       "  865.275,1114.88 866.891,1112.51 869.24,1109.25 873.578,1103.62 874.535,1102.45 878.409,1097.99 882.179,1093.99 883.84,1092.36 889.823,1086.94 890.074,1086.74 \n",
       "  897.424,1081.11 897.467,1081.07 905.112,1076.2 906.391,1075.48 912.756,1072.15 912.756,1075.48 912.756,1069.85 912.756,1064.22 912.756,1058.59 912.756,1052.96 \n",
       "  912.756,1047.33 912.756,1041.7 912.756,1036.07 912.756,1030.44 912.756,1024.81 912.756,1019.18 912.756,1013.55 912.756,1007.92 912.756,1002.29 912.756,996.659 \n",
       "  912.756,991.029 912.756,985.399 912.756,979.77 912.756,974.14 912.756,968.51 912.756,962.88 912.756,957.251 912.756,951.621 912.756,945.991 912.756,940.361 \n",
       "  912.756,934.732 912.756,929.102 912.756,923.472 905.112,923.472 897.467,923.472 889.823,923.472 882.179,923.472 \n",
       "  874.535,923.472 866.891,923.472 859.246,923.472 851.602,923.472 843.958,923.472 836.314,923.472 828.67,923.472 821.025,923.472 813.381,923.472 805.737,923.472 \n",
       "  798.093,923.472 790.448,923.472 782.804,923.472 775.16,923.472 775.805,923.472 775.16,924.143 769.804,929.102 767.516,931.038 762.555,934.732 759.872,936.579 \n",
       "  753.541,940.361 752.227,941.094 744.583,944.82 741.787,945.991 736.939,947.917 729.295,950.499 725.421,951.621 721.651,952.668 714.006,954.496 706.362,956.026 \n",
       "  699.059,957.251 698.718,957.306 691.074,958.389 683.429,959.285 675.785,960.019 668.141,960.611 660.497,961.078 652.853,961.433 645.208,961.688 637.564,961.851 \n",
       "  629.92,961.933 622.276,961.938 614.632,961.873 606.987,961.744 599.343,961.554 591.699,961.307 584.055,961.006 576.41,960.655 568.766,960.256 561.122,959.81 \n",
       "  553.478,959.321 545.834,958.789 538.189,958.216 530.545,957.603 526.411,957.251 522.901,956.955 515.257,956.272 507.613,955.553 499.968,954.798 492.324,954.006 \n",
       "  484.68,953.178 477.036,952.314 471.13,951.621 469.391,951.416 461.747,950.486 454.103,949.517 446.459,948.51 438.815,947.461 431.17,946.369 428.59,945.991 \n",
       "  423.526,945.235 415.882,944.053 408.238,942.816 400.593,941.519 394.072,940.361 392.949,940.156 385.305,938.719 377.661,937.194 370.017,935.567 366.27,934.732 \n",
       "  362.372,933.82 354.728,931.928 347.084,929.86 344.438,929.102 339.44,927.57 331.796,925.002 327.642,923.472 324.151,923.472 316.507,923.472 \n",
       "  308.863,923.472 301.219,923.472 293.574,923.472 285.93,923.472 278.286,923.472 270.642,923.472 262.998,923.472 255.353,923.472 247.709,923.472 240.065,923.472 \n",
       "  232.421,923.472 224.777,923.472 217.132,923.472 209.488,923.472 201.844,923.472 194.2,923.472 186.555,923.472 178.911,923.472 171.267,923.472 163.623,923.472 \n",
       "  155.979,923.472 148.334,923.472 148.334,929.102 148.334,934.732 148.334,940.361 148.334,945.991 148.334,951.621 \n",
       "  148.334,957.251 148.334,962.88 148.334,957.526 155.979,960.273 162.299,962.88 163.623,963.495 171.267,967.404 173.208,968.51 178.911,972.277 181.441,974.14 \n",
       "  186.555,978.601 187.775,979.77 192.764,985.399 194.2,987.332 196.758,991.029 199.987,996.659 201.844,1000.54 202.633,1002.29 204.852,1007.92 206.698,1013.55 \n",
       "  208.247,1019.18 209.488,1024.49 209.56,1024.81 210.703,1030.44 211.68,1036.07 212.519,1041.7 213.243,1047.33 213.868,1052.96 214.41,1058.59 214.88,1064.22 \n",
       "  215.289,1069.85 215.644,1075.48 215.953,1081.11 216.222,1086.74 216.456,1092.36 216.659,1097.99 216.836,1103.62 216.991,1109.25 217.125,1114.88 217.132,1115.23 \n",
       "  217.245,1120.51 217.35,1126.14 217.442,1131.77 217.524,1137.4 217.598,1143.03 217.664,1148.66 217.726,1154.29 217.784,1159.92 217.839,1165.55 217.894,1171.18 \n",
       "  217.95,1176.81 218.007,1182.44 218.066,1188.07 218.13,1193.7 218.198,1199.33 218.273,1204.96 218.354,1210.59 218.444,1216.22 218.543,1221.85 218.651,1227.48 \n",
       "  218.771,1233.11 218.902,1238.74 219.047,1244.37 219.205,1250 219.379,1255.63 219.569,1261.26 219.776,1266.89 220.001,1272.52 220.247,1278.15 220.513,1283.78 \n",
       "  220.803,1289.41 221.117,1295.04 221.457,1300.67 221.825,1306.3 222.224,1311.93 222.655,1317.56 223.123,1323.18 223.63,1328.81 224.179,1334.44 224.776,1340.07 \n",
       "  224.777,1340.08 225.443,1345.7 226.17,1351.33 226.966,1356.96 227.841,1362.59 228.806,1368.22 229.876,1373.85 231.071,1379.48 232.414,1385.11 232.421,1385.14 \n",
       "  233.987,1390.74 235.795,1396.37 237.9,1402 240.065,1406.95 240.404,1407.63 243.544,1413.26 247.455,1418.89 247.709,1419.22 252.766,1424.52 255.353,1426.76 \n",
       "  260.361,1430.15 262.998,1431.67 270.642,1435.01 272.981,1435.78 278.286,1437.33 285.93,1438.96 293.574,1440.1 301.219,1440.87 308.863,1441.36 310.211,1441.41 \n",
       "  316.507,1441.63 \n",
       "  \"/>\n",
       "<polyline clip-path=\"url(#clip8106)\" style=\"stroke:#000000; stroke-width:4; stroke-opacity:1; fill:none\" points=\"\n",
       "  148.334,1323.18 148.334,1320.35 149.087,1317.56 150.481,1311.93 151.747,1306.3 152.897,1300.67 153.941,1295.04 154.89,1289.41 155.749,1283.78 155.979,1282.14 \n",
       "  156.532,1278.15 157.24,1272.52 157.877,1266.89 158.446,1261.26 158.951,1255.63 159.396,1250 159.783,1244.37 160.114,1238.74 160.391,1233.11 160.616,1227.48 \n",
       "  160.789,1221.85 160.911,1216.22 160.981,1210.59 161.001,1204.96 160.97,1199.33 160.886,1193.7 160.75,1188.07 160.559,1182.44 160.311,1176.81 160.005,1171.18 \n",
       "  159.638,1165.55 159.208,1159.92 158.71,1154.29 158.14,1148.66 157.496,1143.03 156.771,1137.4 155.979,1131.91 155.959,1131.77 155.063,1126.14 154.068,1120.51 \n",
       "  152.965,1114.88 151.746,1109.25 150.4,1103.62 148.916,1097.99 148.334,1095.97 148.334,1097.99 148.334,1103.62 148.334,1109.25 148.334,1114.88 \n",
       "  148.334,1120.51 148.334,1126.14 148.334,1131.77 148.334,1137.4 148.334,1143.03 148.334,1148.66 148.334,1154.29 148.334,1159.92 148.334,1165.55 148.334,1171.18 \n",
       "  148.334,1176.81 148.334,1182.44 148.334,1188.07 148.334,1193.7 148.334,1199.33 148.334,1204.96 148.334,1210.59 148.334,1216.22 148.334,1221.85 148.334,1227.48 \n",
       "  148.334,1233.11 148.334,1238.74 148.334,1244.37 148.334,1250 148.334,1255.63 148.334,1261.26 148.334,1266.89 148.334,1272.52 148.334,1278.15 148.334,1283.78 \n",
       "  148.334,1289.41 148.334,1295.04 148.334,1300.67 148.334,1306.3 148.334,1311.93 148.334,1317.56 148.334,1323.18 \n",
       "  \"/>\n",
       "<polyline clip-path=\"url(#clip8106)\" style=\"stroke:#000000; stroke-width:4; stroke-opacity:1; fill:none\" points=\"\n",
       "  530.545,1486.45 538.189,1486.45 545.834,1486.45 553.478,1486.45 561.122,1486.45 568.766,1486.45 576.41,1486.45 584.055,1486.45 591.699,1486.45 599.343,1486.45 \n",
       "  606.987,1486.45 614.632,1486.45 622.276,1486.45 629.92,1486.45 637.564,1486.45 645.208,1486.45 652.853,1486.45 660.497,1486.45 668.141,1486.45 675.785,1486.45 \n",
       "  683.429,1486.45 691.074,1486.45 698.718,1486.45 706.362,1486.45 714.006,1486.45 721.651,1486.45 729.295,1486.45 736.939,1486.45 744.583,1486.45 752.227,1486.45 \n",
       "  759.872,1486.45 767.516,1486.45 775.16,1486.45 782.804,1486.45 790.448,1486.45 798.093,1486.45 805.737,1486.45 813.381,1486.45 821.025,1486.45 828.67,1486.45 \n",
       "  836.314,1486.45 843.958,1486.45 851.602,1486.45 859.246,1486.45 866.891,1486.45 874.535,1486.45 881.275,1486.45 878.807,1480.82 875.278,1475.19 \n",
       "  874.535,1474.25 869.621,1469.56 866.891,1467.63 859.246,1463.97 859.126,1463.93 851.602,1461.73 843.958,1460.29 836.314,1459.35 828.67,1458.74 821.025,1458.37 \n",
       "  818.241,1458.3 813.381,1458.18 805.737,1458.11 798.093,1458.15 790.448,1458.27 789.541,1458.3 782.804,1458.47 775.16,1458.72 767.516,1459.03 759.872,1459.38 \n",
       "  752.227,1459.77 744.583,1460.2 736.939,1460.67 729.295,1461.17 721.651,1461.71 714.006,1462.28 706.362,1462.88 698.718,1463.5 693.846,1463.93 691.074,1464.16 \n",
       "  683.429,1464.84 675.785,1465.56 668.141,1466.3 660.497,1467.07 652.853,1467.88 645.208,1468.71 637.732,1469.56 637.564,1469.58 629.92,1470.47 622.276,1471.39 \n",
       "  614.632,1472.35 606.987,1473.33 599.343,1474.36 593.346,1475.19 591.699,1475.41 584.055,1476.5 576.41,1477.63 568.766,1478.79 561.122,1479.99 556.03,1480.82 \n",
       "  553.478,1481.23 545.834,1482.51 538.189,1483.84 530.545,1485.21 523.856,1486.45 522.901,1486.45 530.545,1486.45 \n",
       "  \"/>\n",
       "<polyline clip-path=\"url(#clip8106)\" style=\"stroke:#000000; stroke-width:4; stroke-opacity:1; fill:none\" points=\"\n",
       "  331.796,1424.72 339.44,1425.4 347.084,1425.88 354.728,1426.16 362.372,1426.29 370.017,1426.29 377.661,1426.15 385.305,1425.91 392.949,1425.58 400.593,1425.15 \n",
       "  408.238,1424.64 409.752,1424.52 415.882,1424.05 423.526,1423.39 431.17,1422.66 438.815,1421.87 446.459,1421.02 454.103,1420.12 461.747,1419.16 463.789,1418.89 \n",
       "  469.391,1418.14 477.036,1417.07 484.68,1415.95 492.324,1414.78 499.968,1413.57 501.808,1413.26 507.613,1412.29 515.257,1410.96 522.901,1409.58 530.545,1408.16 \n",
       "  533.266,1407.63 538.189,1406.67 545.834,1405.12 553.478,1403.51 560.458,1402 561.122,1401.85 568.766,1400.11 576.41,1398.31 584.055,1396.44 584.318,1396.37 \n",
       "  591.699,1394.47 599.343,1392.42 605.393,1390.74 606.987,1390.29 614.632,1388.03 622.276,1385.68 624.081,1385.11 629.92,1383.19 637.564,1380.58 640.672,1379.48 \n",
       "  645.208,1377.81 652.853,1374.88 655.431,1373.85 660.497,1371.75 668.141,1368.42 668.59,1368.22 675.785,1364.83 680.333,1362.59 683.429,1360.99 690.872,1356.96 \n",
       "  691.074,1356.85 698.718,1352.33 700.335,1351.33 706.362,1347.41 708.879,1345.7 714.006,1342.02 716.62,1340.07 721.651,1336.09 723.662,1334.44 729.295,1329.54 \n",
       "  730.094,1328.81 735.985,1323.18 736.939,1322.22 741.403,1317.56 744.583,1314.02 746.415,1311.93 751.062,1306.3 752.227,1304.81 755.384,1300.67 759.431,1295.04 \n",
       "  759.872,1294.39 763.216,1289.41 766.788,1283.78 767.516,1282.58 770.155,1278.15 773.352,1272.52 775.16,1269.19 776.394,1266.89 779.295,1261.26 782.079,1255.63 \n",
       "  782.804,1254.11 784.75,1250 787.326,1244.37 789.823,1238.74 790.448,1237.29 792.24,1233.11 794.594,1227.48 796.894,1221.85 798.093,1218.85 799.145,1216.22 \n",
       "  801.353,1210.59 803.529,1204.96 805.679,1199.33 805.737,1199.18 807.804,1193.7 809.915,1188.07 812.017,1182.44 813.381,1178.77 814.116,1176.81 816.216,1171.18 \n",
       "  818.326,1165.55 820.45,1159.92 821.025,1158.39 822.598,1154.29 824.777,1148.66 826.995,1143.03 828.67,1138.84 829.262,1137.4 831.595,1131.77 834.002,1126.14 \n",
       "  836.314,1120.91 836.498,1120.51 839.119,1114.88 841.874,1109.25 843.958,1105.18 844.8,1103.62 847.951,1097.99 851.357,1092.36 851.602,1091.97 855.13,1086.74 \n",
       "  859.246,1081.2 859.326,1081.11 864.152,1075.48 866.891,1072.59 869.789,1069.85 874.535,1065.78 876.61,1064.22 882.179,1060.4 885.276,1058.59 889.823,1056.16 \n",
       "  897.064,1052.96 897.467,1052.79 905.112,1050.13 912.756,1048.02 912.756,1052.96 912.756,1047.33 912.756,1041.7 912.756,1036.07 912.756,1030.44 912.756,1024.81 \n",
       "  912.756,1019.18 912.756,1013.55 912.756,1007.92 912.756,1002.29 912.756,996.659 912.756,991.029 912.756,985.399 912.756,979.77 912.756,974.14 912.756,968.51 \n",
       "  912.756,962.88 912.756,957.251 912.756,951.621 912.756,945.991 912.756,940.361 912.756,934.732 912.756,929.102 912.756,923.472 \n",
       "  905.112,923.472 897.467,923.472 889.823,923.472 882.179,923.472 874.535,923.472 866.891,923.472 859.246,923.472 851.602,923.472 843.958,923.472 \n",
       "  836.314,923.472 828.67,923.472 821.025,923.472 813.381,923.472 805.737,923.472 798.093,923.472 802.289,923.472 799.075,929.102 798.093,930.688 795.282,934.732 \n",
       "  790.809,940.361 790.448,940.781 785.31,945.991 782.804,948.25 778.437,951.621 775.16,953.911 769.449,957.251 767.516,958.289 759.872,961.737 756.808,962.88 \n",
       "  752.227,964.484 744.583,966.686 736.939,968.447 736.619,968.51 729.295,969.893 721.651,971.054 714.006,971.983 706.362,972.72 698.718,973.296 691.074,973.735 \n",
       "  683.429,974.056 680.554,974.14 675.785,974.277 668.141,974.409 660.497,974.46 652.853,974.438 645.208,974.351 637.564,974.205 635.129,974.14 629.92,974.007 \n",
       "  622.276,973.761 614.632,973.47 606.987,973.137 599.343,972.764 591.699,972.355 584.055,971.91 576.41,971.432 568.766,970.923 561.122,970.384 553.478,969.817 \n",
       "  545.834,969.223 538.189,968.603 537.09,968.51 530.545,967.966 522.901,967.306 515.257,966.624 507.613,965.921 499.968,965.197 492.324,964.453 484.68,963.691 \n",
       "  477.036,962.911 476.744,962.88 469.391,962.12 461.747,961.314 454.103,960.49 446.459,959.651 438.815,958.797 431.17,957.927 425.3,957.251 423.526,957.043 \n",
       "  415.882,956.149 408.238,955.239 400.593,954.311 392.949,953.366 385.305,952.402 379.196,951.621 377.661,951.418 370.017,950.412 362.372,949.378 354.728,948.311 \n",
       "  347.084,947.204 339.44,946.048 339.058,945.991 331.796,944.83 324.151,943.532 316.507,942.129 308.863,940.583 307.795,940.361 301.219,938.83 293.574,936.782 \n",
       "  287.144,934.732 285.93,934.277 278.286,930.987 274.777,929.102 270.642,926.233 267.412,923.472 262.998,923.472 255.353,923.472 247.709,923.472 \n",
       "  240.065,923.472 232.421,923.472 224.777,923.472 217.132,923.472 209.488,923.472 201.844,923.472 194.2,923.472 186.555,923.472 178.911,923.472 171.267,923.472 \n",
       "  163.623,923.472 155.979,923.472 148.334,923.472 148.334,929.102 148.334,934.732 148.334,940.361 148.334,945.991 \n",
       "  148.334,940.774 155.979,941.85 163.623,943.04 171.267,944.379 178.911,945.918 179.262,945.991 186.555,947.774 194.2,950.062 198.566,951.621 201.844,953.07 \n",
       "  209.323,957.251 209.488,957.371 215.789,962.88 217.132,964.548 219.886,968.51 222.61,974.14 224.485,979.77 224.777,980.878 225.869,985.399 226.886,991.029 \n",
       "  227.638,996.659 228.2,1002.29 228.621,1007.92 228.935,1013.55 229.165,1019.18 229.33,1024.81 229.443,1030.44 229.515,1036.07 229.553,1041.7 229.563,1047.33 \n",
       "  229.551,1052.96 229.522,1058.59 229.477,1064.22 229.421,1069.85 229.356,1075.48 229.284,1081.11 229.207,1086.74 229.126,1092.36 229.044,1097.99 228.961,1103.62 \n",
       "  228.879,1109.25 228.799,1114.88 228.722,1120.51 228.649,1126.14 228.582,1131.77 228.52,1137.4 228.465,1143.03 228.419,1148.66 228.381,1154.29 228.353,1159.92 \n",
       "  228.336,1165.55 228.33,1171.18 228.337,1176.81 228.357,1182.44 228.392,1188.07 228.442,1193.7 228.508,1199.33 228.592,1204.96 228.694,1210.59 228.816,1216.22 \n",
       "  228.958,1221.85 229.122,1227.48 229.31,1233.11 229.523,1238.74 229.761,1244.37 230.028,1250 230.324,1255.63 230.651,1261.26 231.012,1266.89 231.408,1272.52 \n",
       "  231.843,1278.15 232.319,1283.78 232.421,1284.9 232.849,1289.41 233.43,1295.04 234.065,1300.67 234.757,1306.3 235.511,1311.93 236.334,1317.56 237.232,1323.18 \n",
       "  238.214,1328.81 239.289,1334.44 240.065,1338.19 240.48,1340.07 241.816,1345.7 243.29,1351.33 244.923,1356.96 246.74,1362.59 247.709,1365.35 248.81,1368.22 \n",
       "  251.179,1373.85 253.869,1379.48 255.353,1382.29 257.014,1385.11 260.729,1390.74 262.998,1393.78 265.193,1396.37 270.642,1401.98 270.664,1402 277.73,1407.63 \n",
       "  278.286,1408.02 285.93,1412.59 287.296,1413.26 293.574,1416.08 301.219,1418.79 301.553,1418.89 308.863,1420.89 316.507,1422.52 324.151,1423.77 330.112,1424.52 \n",
       "  331.796,1424.72 \n",
       "  \"/>\n",
       "<polyline clip-path=\"url(#clip8106)\" style=\"stroke:#000000; stroke-width:4; stroke-opacity:1; fill:none\" points=\"\n",
       "  148.334,1266.89 148.334,1265.23 148.816,1261.26 149.426,1255.63 149.964,1250 150.433,1244.37 150.836,1238.74 151.175,1233.11 151.451,1227.48 151.666,1221.85 \n",
       "  151.82,1216.22 151.914,1210.59 151.949,1204.96 151.923,1199.33 151.836,1193.7 151.688,1188.07 151.475,1182.44 151.198,1176.81 150.852,1171.18 150.437,1165.55 \n",
       "  149.947,1159.92 149.381,1154.29 148.733,1148.66 148.334,1145.59 148.334,1148.66 148.334,1154.29 148.334,1159.92 148.334,1165.55 148.334,1171.18 \n",
       "  148.334,1176.81 148.334,1182.44 148.334,1188.07 148.334,1193.7 148.334,1199.33 148.334,1204.96 148.334,1210.59 148.334,1216.22 148.334,1221.85 148.334,1227.48 \n",
       "  148.334,1233.11 148.334,1238.74 148.334,1244.37 148.334,1250 148.334,1255.63 148.334,1261.26 148.334,1266.89 \n",
       "  \"/>\n",
       "<polyline clip-path=\"url(#clip8106)\" style=\"stroke:#000000; stroke-width:4; stroke-opacity:1; fill:none\" points=\"\n",
       "  584.055,1486.45 591.699,1486.45 599.343,1486.45 606.987,1486.45 614.632,1486.45 622.276,1486.45 629.92,1486.45 637.564,1486.45 645.208,1486.45 652.853,1486.45 \n",
       "  660.497,1486.45 668.141,1486.45 675.785,1486.45 683.429,1486.45 691.074,1486.45 698.718,1486.45 706.362,1486.45 714.006,1486.45 721.651,1486.45 729.295,1486.45 \n",
       "  736.939,1486.45 744.583,1486.45 752.227,1486.45 759.872,1486.45 767.516,1486.45 775.16,1486.45 782.804,1486.45 790.448,1486.45 798.093,1486.45 805.737,1486.45 \n",
       "  813.381,1486.45 821.025,1486.45 824.769,1486.45 821.025,1484.97 813.381,1482.51 806.819,1480.82 805.737,1480.56 798.093,1479.01 790.448,1477.78 \n",
       "  782.804,1476.82 775.16,1476.06 767.516,1475.48 762.398,1475.19 759.872,1475.05 752.227,1474.75 744.583,1474.56 736.939,1474.47 729.295,1474.48 721.651,1474.56 \n",
       "  714.006,1474.72 706.362,1474.95 700.107,1475.19 698.718,1475.24 691.074,1475.59 683.429,1476 675.785,1476.46 668.141,1476.97 660.497,1477.53 652.853,1478.14 \n",
       "  645.208,1478.81 637.564,1479.51 629.92,1480.27 624.69,1480.82 622.276,1481.07 614.632,1481.91 606.987,1482.8 599.343,1483.73 591.699,1484.72 584.055,1485.75 \n",
       "  579.093,1486.45 576.41,1486.45 584.055,1486.45 \n",
       "  \"/>\n",
       "<polyline clip-path=\"url(#clip8106)\" style=\"stroke:#000000; stroke-width:4; stroke-opacity:1; fill:none\" points=\"\n",
       "  339.44,1409.03 347.084,1410.26 354.728,1411.21 362.372,1411.93 370.017,1412.44 377.661,1412.76 385.305,1412.93 392.949,1412.95 400.593,1412.84 408.238,1412.61 \n",
       "  415.882,1412.27 423.526,1411.83 431.17,1411.3 438.815,1410.68 446.459,1409.97 454.103,1409.19 461.747,1408.34 467.624,1407.63 469.391,1407.42 477.036,1406.41 \n",
       "  484.68,1405.34 492.324,1404.2 499.968,1403 506.033,1402 507.613,1401.74 515.257,1400.39 522.901,1398.98 530.545,1397.51 536.205,1396.37 538.189,1395.97 \n",
       "  545.834,1394.33 553.478,1392.63 561.122,1390.87 561.645,1390.74 568.766,1388.99 576.41,1387.04 583.647,1385.11 584.055,1385 591.699,1382.83 599.343,1380.58 \n",
       "  602.921,1379.48 606.987,1378.19 614.632,1375.68 619.963,1373.85 622.276,1373.03 629.92,1370.21 635.087,1368.22 637.564,1367.23 645.208,1364.05 648.566,1362.59 \n",
       "  652.853,1360.65 660.497,1357.03 660.635,1356.96 668.141,1353.11 671.448,1351.33 675.785,1348.89 681.201,1345.7 683.429,1344.32 690.023,1340.07 691.074,1339.36 \n",
       "  698.026,1334.44 698.718,1333.93 705.313,1328.81 706.362,1327.95 711.972,1323.18 714.006,1321.35 718.082,1317.56 721.651,1314.03 723.712,1311.93 728.917,1306.3 \n",
       "  729.295,1305.86 733.73,1300.67 736.939,1296.67 738.217,1295.04 742.399,1289.41 744.583,1286.3 746.319,1283.78 749.998,1278.15 752.227,1274.55 753.468,1272.52 \n",
       "  756.742,1266.89 759.855,1261.26 759.872,1261.23 762.802,1255.63 765.619,1250 767.516,1246.05 768.313,1244.37 770.889,1238.74 773.37,1233.11 775.16,1228.9 \n",
       "  775.761,1227.48 778.064,1221.85 780.296,1216.22 782.464,1210.59 782.804,1209.68 784.566,1204.96 786.614,1199.33 788.615,1193.7 790.448,1188.42 790.572,1188.07 \n",
       "  792.483,1182.44 794.36,1176.81 796.205,1171.18 798.021,1165.55 798.093,1165.32 799.809,1159.92 801.575,1154.29 803.323,1148.66 805.054,1143.03 805.737,1140.76 \n",
       "  806.772,1137.4 808.482,1131.77 810.187,1126.14 811.891,1120.51 813.381,1115.58 813.6,1114.88 815.324,1109.25 817.067,1103.62 818.837,1097.99 820.645,1092.36 \n",
       "  821.025,1091.16 822.516,1086.74 824.465,1081.11 826.512,1075.48 828.67,1069.9 828.693,1069.85 831.094,1064.22 833.759,1058.59 836.314,1053.78 836.812,1052.96 \n",
       "  840.512,1047.33 843.958,1042.97 845.179,1041.7 851.602,1036.1 851.648,1036.07 859.246,1031.67 862.269,1030.44 866.891,1028.81 874.535,1026.93 882.179,1025.7 \n",
       "  889.823,1024.92 891.623,1024.81 897.467,1024.47 905.112,1024.26 912.756,1024.24 912.756,1024.81 912.756,1019.18 912.756,1013.55 912.756,1007.92 912.756,1002.29 \n",
       "  912.756,996.659 912.756,991.029 912.756,985.399 912.756,979.77 912.756,974.14 912.756,968.51 912.756,962.88 912.756,957.251 912.756,951.621 912.756,945.991 \n",
       "  912.756,940.361 912.756,934.732 912.756,929.102 912.756,923.472 905.112,923.472 897.467,923.472 889.823,923.472 \n",
       "  882.179,923.472 874.535,923.472 866.891,923.472 859.246,923.472 851.602,923.472 843.958,923.472 836.314,923.472 828.67,923.472 821.025,923.472 826.404,923.472 \n",
       "  825.268,929.102 823.997,934.732 822.566,940.361 821.025,945.71 820.934,945.991 818.989,951.621 816.695,957.251 813.924,962.88 813.381,963.88 810.334,968.51 \n",
       "  805.737,973.991 805.58,974.14 798.499,979.77 798.093,980.038 790.448,983.869 785.972,985.399 782.804,986.361 775.16,988.053 767.516,989.19 759.872,989.951 \n",
       "  752.227,990.446 744.583,990.745 736.939,990.897 729.295,990.934 721.651,990.878 714.006,990.748 706.362,990.555 698.718,990.31 691.074,990.021 683.429,989.691 \n",
       "  675.785,989.327 668.141,988.932 660.497,988.509 652.853,988.06 645.208,987.588 637.564,987.093 629.92,986.577 622.276,986.042 614.632,985.489 613.449,985.399 \n",
       "  606.987,984.928 599.343,984.352 591.699,983.761 584.055,983.155 576.41,982.534 568.766,981.901 561.122,981.255 553.478,980.598 545.834,979.93 544.025,979.77 \n",
       "  538.189,979.262 530.545,978.586 522.901,977.904 515.257,977.215 507.613,976.52 499.968,975.822 492.324,975.12 484.68,974.418 481.635,974.14 477.036,973.722 \n",
       "  469.391,973.031 461.747,972.344 454.103,971.662 446.459,970.988 438.815,970.325 431.17,969.674 423.526,969.039 416.94,968.51 415.882,968.424 408.238,967.836 \n",
       "  400.593,967.275 392.949,966.745 385.305,966.252 377.661,965.802 370.017,965.404 362.372,965.067 354.728,964.803 347.084,964.628 339.44,964.562 331.796,964.63 \n",
       "  324.151,964.867 316.507,965.321 308.863,966.061 301.219,967.188 295.028,968.51 293.574,968.86 285.93,971.328 279.909,974.14 278.286,975.029 271.776,979.77 \n",
       "  270.642,980.769 266.442,985.399 262.998,990.199 262.502,991.029 259.533,996.659 257.109,1002.29 255.353,1007.1 255.093,1007.92 253.432,1013.55 251.99,1019.18 \n",
       "  250.722,1024.81 249.594,1030.44 248.582,1036.07 247.709,1041.43 247.669,1041.7 246.863,1047.33 246.125,1052.96 245.446,1058.59 244.82,1064.22 244.24,1069.85 \n",
       "  243.702,1075.48 243.202,1081.11 242.738,1086.74 242.306,1092.36 241.905,1097.99 241.532,1103.62 241.188,1109.25 240.87,1114.88 240.577,1120.51 240.309,1126.14 \n",
       "  240.067,1131.77 240.065,1131.81 239.853,1137.4 239.664,1143.03 239.498,1148.66 239.356,1154.29 239.237,1159.92 239.143,1165.55 239.074,1171.18 239.03,1176.81 \n",
       "  239.012,1182.44 239.02,1188.07 239.056,1193.7 239.121,1199.33 239.214,1204.96 239.339,1210.59 239.495,1216.22 239.684,1221.85 239.908,1227.48 240.065,1230.89 \n",
       "  240.171,1233.11 240.477,1238.74 240.824,1244.37 241.215,1250 241.652,1255.63 242.138,1261.26 242.676,1266.89 243.27,1272.52 243.923,1278.15 244.64,1283.78 \n",
       "  245.425,1289.41 246.285,1295.04 247.226,1300.67 247.709,1303.34 248.271,1306.3 249.43,1311.93 250.698,1317.56 252.089,1323.18 253.615,1328.81 255.292,1334.44 \n",
       "  255.353,1334.64 257.201,1340.07 259.315,1345.7 261.661,1351.33 262.998,1354.27 264.325,1356.96 267.368,1362.59 270.642,1367.98 270.807,1368.22 274.877,1373.85 \n",
       "  278.286,1378.03 279.609,1379.48 285.297,1385.11 285.93,1385.68 292.334,1390.74 293.574,1391.63 301.219,1396.33 301.293,1396.37 308.863,1400.08 313.609,1402 \n",
       "  316.507,1403.09 324.151,1405.52 331.796,1407.47 332.524,1407.63 339.44,1409.03 \n",
       "  \"/>\n",
       "<polyline clip-path=\"url(#clip8106)\" style=\"stroke:#000000; stroke-width:4; stroke-opacity:1; fill:none\" points=\"\n",
       "  148.334,929.102 148.334,924.709 155.979,924.301 163.623,923.714 166.027,923.472 163.623,923.472 155.979,923.472 148.334,923.472 \n",
       "  148.334,929.102 \n",
       "  \"/>\n",
       "<polyline clip-path=\"url(#clip8106)\" style=\"stroke:#000000; stroke-width:4; stroke-opacity:1; fill:none\" points=\"\n",
       "  362.372,1397.18 370.017,1398.22 377.661,1399.02 385.305,1399.6 392.949,1399.98 400.593,1400.2 408.238,1400.26 415.882,1400.18 423.526,1399.96 431.17,1399.62 \n",
       "  438.815,1399.17 446.459,1398.62 454.103,1397.96 461.747,1397.21 469.374,1396.37 469.391,1396.37 477.036,1395.43 484.68,1394.4 492.324,1393.29 499.968,1392.1 \n",
       "  507.613,1390.83 508.099,1390.74 515.257,1389.46 522.901,1388 530.545,1386.47 536.989,1385.11 538.189,1384.85 545.834,1383.12 553.478,1381.31 560.847,1379.48 \n",
       "  561.122,1379.41 568.766,1377.38 576.41,1375.25 581.23,1373.85 584.055,1373.01 591.699,1370.62 599.04,1368.22 599.343,1368.12 606.987,1365.44 614.632,1362.63 \n",
       "  614.719,1362.59 622.276,1359.6 628.628,1356.96 629.92,1356.4 637.564,1352.97 641.049,1351.33 645.208,1349.29 652.211,1345.7 652.853,1345.36 660.497,1341.09 \n",
       "  662.252,1340.07 668.141,1336.48 671.337,1334.44 675.785,1331.46 679.59,1328.81 683.429,1325.99 687.11,1323.18 691.074,1319.99 693.988,1317.56 698.718,1313.37 \n",
       "  700.302,1311.93 706.117,1306.3 706.362,1306.04 711.473,1300.67 714.006,1297.83 716.443,1295.04 721.066,1289.41 721.651,1288.66 725.362,1283.78 729.295,1278.29 \n",
       "  729.392,1278.15 733.15,1272.52 736.698,1266.89 736.939,1266.49 740.024,1261.26 743.174,1255.63 744.583,1252.98 746.152,1250 748.973,1244.37 751.663,1238.74 \n",
       "  752.227,1237.5 754.215,1233.11 756.651,1227.48 758.984,1221.85 759.872,1219.61 761.211,1216.22 763.342,1210.59 765.39,1204.96 767.359,1199.33 767.516,1198.86 \n",
       "  769.242,1193.7 771.053,1188.07 772.795,1182.44 774.47,1176.81 775.16,1174.38 776.076,1171.18 777.614,1165.55 779.088,1159.92 780.498,1154.29 781.842,1148.66 \n",
       "  782.804,1144.4 783.119,1143.03 784.323,1137.4 785.456,1131.77 786.512,1126.14 787.487,1120.51 788.373,1114.88 789.162,1109.25 789.844,1103.62 790.406,1097.99 \n",
       "  790.448,1097.41 790.833,1092.36 791.102,1086.74 791.189,1081.11 791.056,1075.48 790.657,1069.85 790.448,1068.15 789.932,1064.22 788.796,1058.59 787.122,1052.96 \n",
       "  784.729,1047.33 782.804,1043.98 781.355,1041.7 776.598,1036.07 775.16,1034.75 769.819,1030.44 767.516,1028.96 759.961,1024.81 759.872,1024.77 752.227,1021.57 \n",
       "  745.462,1019.18 744.583,1018.91 736.939,1016.71 729.295,1014.78 723.973,1013.55 721.651,1013.07 714.006,1011.55 706.362,1010.15 698.718,1008.85 692.953,1007.92 \n",
       "  691.074,1007.64 683.429,1006.52 675.785,1005.44 668.141,1004.42 660.497,1003.42 652.853,1002.46 651.48,1002.29 645.208,1001.54 637.564,1000.65 629.92,999.779 \n",
       "  622.276,998.921 614.632,998.075 606.987,997.24 601.629,996.659 599.343,996.421 591.699,995.623 584.055,994.833 576.41,994.05 568.766,993.274 561.122,992.504 \n",
       "  553.478,991.742 546.267,991.029 545.834,990.987 538.189,990.254 530.545,989.53 522.901,988.814 515.257,988.109 507.613,987.416 499.968,986.736 492.324,986.071 \n",
       "  484.68,985.424 484.375,985.399 477.036,984.807 469.391,984.211 461.747,983.641 454.103,983.099 446.459,982.589 438.815,982.117 431.17,981.686 423.526,981.302 \n",
       "  415.882,980.973 408.238,980.706 400.593,980.51 392.949,980.395 385.305,980.375 377.661,980.464 370.017,980.681 362.372,981.05 354.728,981.598 347.084,982.363 \n",
       "  339.44,983.39 331.796,984.743 328.814,985.399 324.151,986.513 316.507,988.812 310.705,991.029 308.863,991.804 301.219,995.739 299.74,996.659 293.574,1000.98 \n",
       "  292.018,1002.29 286.128,1007.92 285.93,1008.13 281.517,1013.55 278.286,1018.18 277.673,1019.18 274.507,1024.81 271.759,1030.44 270.642,1032.97 269.401,1036.07 \n",
       "  267.35,1041.7 265.521,1047.33 263.878,1052.96 262.998,1056.24 262.416,1058.59 261.116,1064.22 259.933,1069.85 258.852,1075.48 257.863,1081.11 256.957,1086.74 \n",
       "  256.125,1092.36 255.361,1097.99 255.353,1098.05 254.681,1103.62 254.057,1109.25 253.486,1114.88 252.965,1120.51 252.492,1126.14 252.064,1131.77 251.68,1137.4 \n",
       "  251.338,1143.03 251.037,1148.66 250.777,1154.29 250.558,1159.92 250.378,1165.55 250.238,1171.18 250.137,1176.81 250.077,1182.44 250.058,1188.07 250.08,1193.7 \n",
       "  250.145,1199.33 250.253,1204.96 250.405,1210.59 250.604,1216.22 250.85,1221.85 251.145,1227.48 251.493,1233.11 251.894,1238.74 252.352,1244.37 252.87,1250 \n",
       "  253.45,1255.63 254.098,1261.26 254.816,1266.89 255.353,1270.71 255.619,1272.52 256.521,1278.15 257.514,1283.78 258.604,1289.41 259.8,1295.04 261.111,1300.67 \n",
       "  262.547,1306.3 262.998,1307.94 264.16,1311.93 265.948,1317.56 267.912,1323.18 270.074,1328.81 270.642,1330.19 272.528,1334.44 275.268,1340.07 278.286,1345.66 \n",
       "  278.31,1345.7 281.847,1351.33 285.812,1356.96 285.93,1357.12 290.493,1362.59 293.574,1365.93 295.94,1368.22 301.219,1372.89 302.452,1373.85 308.863,1378.46 \n",
       "  310.487,1379.48 316.507,1382.98 320.788,1385.11 324.151,1386.67 331.796,1389.7 334.894,1390.74 339.44,1392.18 347.084,1394.21 354.728,1395.86 357.592,1396.37 \n",
       "  362.372,1397.18 \n",
       "  \"/>\n",
       "<polyline clip-path=\"url(#clip8106)\" style=\"stroke:#000000; stroke-width:4; stroke-opacity:1; fill:none\" points=\"\n",
       "  905.112,998.315 912.756,1000.58 912.756,1002.29 912.756,996.659 912.756,991.029 912.756,985.399 912.756,979.77 912.756,974.14 912.756,968.51 912.756,962.88 \n",
       "  912.756,957.251 912.756,951.621 912.756,945.991 912.756,940.361 912.756,934.732 912.756,929.102 912.756,923.472 \n",
       "  905.112,923.472 897.467,923.472 889.823,923.472 882.179,923.472 874.535,923.472 866.891,923.472 859.246,923.472 851.602,923.472 843.958,923.472 848.77,923.472 \n",
       "  849.334,929.102 850.031,934.732 850.899,940.361 851.602,944.105 851.979,945.991 853.321,951.621 855.036,957.251 857.26,962.88 859.246,966.84 860.164,968.51 \n",
       "  863.974,974.14 866.891,977.473 869.142,979.77 874.535,984.17 876.244,985.399 882.179,988.968 886.132,991.029 889.823,992.689 897.467,995.731 900.021,996.659 \n",
       "  905.112,998.315 \n",
       "  \"/>\n",
       "<polyline clip-path=\"url(#clip8106)\" style=\"stroke:#000000; stroke-width:4; stroke-opacity:1; fill:none\" points=\"\n",
       "  385.305,1385.82 392.949,1386.59 400.593,1387.15 408.238,1387.5 415.882,1387.68 423.526,1387.7 431.17,1387.56 438.815,1387.29 446.459,1386.88 454.103,1386.35 \n",
       "  461.747,1385.7 467.595,1385.11 469.391,1384.93 477.036,1384.05 484.68,1383.06 492.324,1381.97 499.968,1380.78 507.613,1379.49 507.647,1379.48 515.257,1378.08 \n",
       "  522.901,1376.57 530.545,1374.96 535.522,1373.85 538.189,1373.24 545.834,1371.4 553.478,1369.45 558.074,1368.22 561.122,1367.38 568.766,1365.17 576.41,1362.84 \n",
       "  577.195,1362.59 584.055,1360.34 591.699,1357.7 593.746,1356.96 599.343,1354.87 606.987,1351.88 608.317,1351.33 614.632,1348.65 621.251,1345.7 622.276,1345.23 \n",
       "  629.92,1341.53 632.802,1340.07 637.564,1337.55 643.199,1334.44 645.208,1333.28 652.6,1328.81 652.853,1328.65 660.497,1323.61 661.114,1323.18 668.141,1318.1 \n",
       "  668.87,1317.56 675.785,1312.07 675.962,1311.93 682.457,1306.3 683.429,1305.4 688.429,1300.67 691.074,1298.01 693.945,1295.04 698.718,1289.79 699.057,1289.41 \n",
       "  703.781,1283.78 706.362,1280.51 708.185,1278.15 712.289,1272.52 714.006,1270.02 716.121,1266.89 719.711,1261.26 721.651,1258.04 723.08,1255.63 726.24,1250 \n",
       "  729.228,1244.37 729.295,1244.24 732.027,1238.74 734.677,1233.11 736.939,1228.04 737.187,1227.48 739.546,1221.85 741.784,1216.22 743.906,1210.59 744.583,1208.69 \n",
       "  745.906,1204.96 747.795,1199.33 749.581,1193.7 751.266,1188.07 752.227,1184.65 752.848,1182.44 754.324,1176.81 755.702,1171.18 756.98,1165.55 758.155,1159.92 \n",
       "  759.224,1154.29 759.872,1150.46 760.18,1148.66 761.017,1143.03 761.73,1137.4 762.31,1131.77 762.746,1126.14 763.025,1120.51 763.129,1114.88 763.039,1109.25 \n",
       "  762.729,1103.62 762.169,1097.99 761.32,1092.36 760.137,1086.74 759.872,1085.75 758.556,1081.11 756.504,1075.48 753.881,1069.85 752.227,1066.95 750.557,1064.22 \n",
       "  746.363,1058.59 744.583,1056.6 741.069,1052.96 736.939,1049.38 734.366,1047.33 729.295,1043.86 725.831,1041.7 721.651,1039.41 714.885,1036.07 714.006,1035.68 \n",
       "  706.362,1032.53 700.758,1030.44 698.718,1029.75 691.074,1027.31 683.429,1025.08 682.435,1024.81 675.785,1023.1 668.141,1021.27 660.497,1019.56 658.732,1019.18 \n",
       "  652.853,1017.99 645.208,1016.52 637.564,1015.13 629.92,1013.8 628.443,1013.55 622.276,1012.56 614.632,1011.37 606.987,1010.23 599.343,1009.13 591.699,1008.07 \n",
       "  590.601,1007.92 584.055,1007.06 576.41,1006.09 568.766,1005.15 561.122,1004.23 553.478,1003.34 545.834,1002.48 544.04,1002.29 538.189,1001.67 530.545,1000.88 \n",
       "  522.901,1000.12 515.257,999.387 507.613,998.686 499.968,998.018 492.324,997.384 484.68,996.787 482.904,996.659 477.036,996.239 469.391,995.737 461.747,995.282 \n",
       "  454.103,994.88 446.459,994.536 438.815,994.256 431.17,994.049 423.526,993.922 415.882,993.885 408.238,993.952 400.593,994.135 392.949,994.451 385.305,994.919 \n",
       "  377.661,995.564 370.017,996.415 368.25,996.659 362.372,997.519 354.728,998.917 347.084,1000.66 341.265,1002.29 339.44,1002.84 331.796,1005.56 326.338,1007.92 \n",
       "  324.151,1008.95 316.507,1013.21 315.984,1013.55 308.863,1018.63 308.205,1019.18 302.036,1024.81 301.219,1025.63 297.008,1030.44 293.574,1034.86 292.736,1036.07 \n",
       "  289.141,1041.7 285.967,1047.33 285.93,1047.4 283.262,1052.96 280.841,1058.59 278.664,1064.22 278.286,1065.27 276.757,1069.85 275.041,1075.48 273.48,1081.11 \n",
       "  272.058,1086.74 270.761,1092.36 270.642,1092.92 269.612,1097.99 268.567,1103.62 267.613,1109.25 266.744,1114.88 265.954,1120.51 265.237,1126.14 264.591,1131.77 \n",
       "  264.012,1137.4 263.497,1143.03 263.043,1148.66 262.998,1149.31 262.66,1154.29 262.336,1159.92 262.067,1165.55 261.854,1171.18 261.695,1176.81 261.592,1182.44 \n",
       "  261.543,1188.07 261.55,1193.7 261.614,1199.33 261.734,1204.96 261.914,1210.59 262.154,1216.22 262.457,1221.85 262.823,1227.48 262.998,1229.75 263.266,1233.11 \n",
       "  263.786,1238.74 264.382,1244.37 265.057,1250 265.817,1255.63 266.665,1261.26 267.609,1266.89 268.653,1272.52 269.806,1278.15 270.642,1281.87 271.092,1283.78 \n",
       "  272.538,1289.41 274.127,1295.04 275.871,1300.67 277.787,1306.3 278.286,1307.66 279.954,1311.93 282.359,1317.56 285.007,1323.18 285.93,1325 288.017,1328.81 \n",
       "  291.394,1334.44 293.574,1337.77 295.218,1340.07 299.6,1345.7 301.219,1347.62 304.687,1351.33 308.863,1355.42 310.623,1356.96 316.507,1361.72 317.73,1362.59 \n",
       "  324.151,1366.86 326.502,1368.22 331.796,1371.09 337.725,1373.85 339.44,1374.6 347.084,1377.5 353.305,1379.48 354.728,1379.91 362.372,1381.88 370.017,1383.5 \n",
       "  377.661,1384.8 379.92,1385.11 385.305,1385.82 \n",
       "  \"/>\n",
       "<polyline clip-path=\"url(#clip8106)\" style=\"stroke:#000000; stroke-width:4; stroke-opacity:1; fill:none\" points=\"\n",
       "  912.756,976.85 912.756,979.77 912.756,974.14 912.756,968.51 912.756,962.88 912.756,957.251 912.756,951.621 912.756,945.991 912.756,940.361 912.756,934.732 \n",
       "  912.756,929.102 912.756,923.472 905.112,923.472 897.467,923.472 889.823,923.472 882.179,923.472 874.535,923.472 \n",
       "  866.891,923.472 869.8,923.472 871.786,929.102 874.106,934.732 874.535,935.675 876.787,940.361 879.958,945.991 882.179,949.397 883.723,951.621 888.219,957.251 \n",
       "  889.823,959.008 893.626,962.88 897.467,966.275 900.202,968.51 905.112,972.063 908.231,974.14 912.756,976.85 \n",
       "  \"/>\n",
       "<polyline clip-path=\"url(#clip8106)\" style=\"stroke:#000000; stroke-width:4; stroke-opacity:1; fill:none\" points=\"\n",
       "  408.238,1374.24 415.882,1374.69 423.526,1374.95 431.17,1375.02 438.815,1374.92 446.459,1374.67 454.103,1374.26 459.763,1373.85 461.747,1373.71 469.391,1373.01 \n",
       "  477.036,1372.18 484.68,1371.22 492.324,1370.15 499.968,1368.95 504.179,1368.22 507.613,1367.62 515.257,1366.16 522.901,1364.58 530.545,1362.88 531.753,1362.59 \n",
       "  538.189,1361.03 545.834,1359.05 553.404,1356.96 553.478,1356.94 561.122,1354.65 568.766,1352.23 571.463,1351.33 576.41,1349.63 584.055,1346.85 587.061,1345.7 \n",
       "  591.699,1343.87 599.343,1340.68 600.748,1340.07 606.987,1337.24 612.874,1334.44 614.632,1333.57 622.276,1329.6 623.722,1328.81 629.92,1325.29 633.474,1323.18 \n",
       "  637.564,1320.63 642.304,1317.56 645.208,1315.57 650.328,1311.93 652.853,1310.03 657.645,1306.3 660.497,1303.94 664.342,1300.67 668.141,1297.23 670.495,1295.04 \n",
       "  675.785,1289.8 676.168,1289.41 681.387,1283.78 683.429,1281.44 686.223,1278.15 690.721,1272.52 691.074,1272.05 694.88,1266.89 698.718,1261.34 698.775,1261.26 \n",
       "  702.382,1255.63 705.77,1250 706.362,1248.96 708.921,1244.37 711.877,1238.74 714.006,1234.42 714.647,1233.11 717.227,1227.48 719.65,1221.85 721.651,1216.89 \n",
       "  721.92,1216.22 724.026,1210.59 725.994,1204.96 727.827,1199.33 729.295,1194.47 729.526,1193.7 731.081,1188.07 732.506,1182.44 733.8,1176.81 734.961,1171.18 \n",
       "  735.985,1165.55 736.867,1159.92 736.939,1159.36 737.594,1154.29 738.166,1148.66 738.572,1143.03 738.8,1137.4 738.836,1131.77 738.661,1126.14 738.255,1120.51 \n",
       "  737.591,1114.88 736.939,1110.99 736.636,1109.25 735.35,1103.62 733.69,1097.99 731.601,1092.36 729.295,1087.32 729.012,1086.74 725.823,1081.11 721.941,1075.48 \n",
       "  721.651,1075.11 717.204,1069.85 714.006,1066.63 711.447,1064.22 706.362,1060.06 704.431,1058.59 698.718,1054.75 695.849,1052.96 691.074,1050.29 685.31,1047.33 \n",
       "  683.429,1046.45 675.785,1043.12 672.292,1041.7 668.141,1040.15 660.497,1037.49 656.131,1036.07 652.853,1035.08 645.208,1032.89 637.564,1030.84 635.973,1030.44 \n",
       "  629.92,1028.98 622.276,1027.25 614.632,1025.61 610.722,1024.81 606.987,1024.08 599.343,1022.66 591.699,1021.3 584.055,1020.01 578.9,1019.18 576.41,1018.79 \n",
       "  568.766,1017.65 561.122,1016.57 553.478,1015.53 545.834,1014.54 538.189,1013.6 537.708,1013.55 530.545,1012.74 522.901,1011.92 515.257,1011.15 507.613,1010.43 \n",
       "  499.968,1009.76 492.324,1009.15 484.68,1008.6 477.036,1008.11 473.446,1007.92 469.391,1007.7 461.747,1007.36 454.103,1007.1 446.459,1006.92 438.815,1006.84 \n",
       "  431.17,1006.86 423.526,1007 415.882,1007.27 408.238,1007.68 405.058,1007.92 400.593,1008.27 392.949,1009.04 385.305,1010.04 377.661,1011.28 370.017,1012.82 \n",
       "  366.962,1013.55 362.372,1014.71 354.728,1017.03 348.813,1019.18 347.084,1019.85 339.44,1023.31 336.596,1024.81 331.796,1027.55 327.424,1030.44 324.151,1032.79 \n",
       "  320.158,1036.07 316.507,1039.36 314.194,1041.7 309.16,1047.33 308.863,1047.69 304.931,1052.96 301.219,1058.54 301.189,1058.59 297.996,1064.22 295.128,1069.85 \n",
       "  293.574,1073.18 292.585,1075.48 290.343,1081.11 288.308,1086.74 286.459,1092.36 285.93,1094.11 284.821,1097.99 283.349,1103.62 282.009,1109.25 280.792,1114.88 \n",
       "  279.687,1120.51 278.688,1126.14 278.286,1128.64 277.806,1131.77 277.029,1137.4 276.337,1143.03 275.729,1148.66 275.2,1154.29 274.748,1159.92 274.373,1165.55 \n",
       "  274.071,1171.18 273.843,1176.81 273.688,1182.44 273.606,1188.07 273.597,1193.7 273.663,1199.33 273.803,1204.96 274.02,1210.59 274.316,1216.22 274.692,1221.85 \n",
       "  275.152,1227.48 275.698,1233.11 276.335,1238.74 277.066,1244.37 277.897,1250 278.286,1252.36 278.852,1255.63 279.938,1261.26 281.146,1266.89 282.486,1272.52 \n",
       "  283.967,1278.15 285.6,1283.78 285.93,1284.83 287.458,1289.41 289.517,1295.04 291.781,1300.67 293.574,1304.75 294.302,1306.3 297.166,1311.93 300.324,1317.56 \n",
       "  301.219,1319.04 303.938,1323.18 307.988,1328.81 308.863,1329.94 312.684,1334.44 316.507,1338.56 318.064,1340.07 324.151,1345.53 324.368,1345.7 331.796,1351.23 \n",
       "  331.951,1351.33 339.44,1355.93 341.355,1356.96 347.084,1359.84 353.439,1362.59 354.728,1363.12 362.372,1365.82 370.017,1368.09 370.56,1368.22 377.661,1369.92 \n",
       "  385.305,1371.43 392.949,1372.63 400.593,1373.56 403.838,1373.85 408.238,1374.24 \n",
       "  \"/>\n",
       "<polyline clip-path=\"url(#clip8106)\" style=\"stroke:#000000; stroke-width:4; stroke-opacity:1; fill:none\" points=\"\n",
       "  912.756,952.901 912.756,957.251 912.756,951.621 912.756,945.991 912.756,940.361 912.756,934.732 912.756,929.102 912.756,923.472 \n",
       "  905.112,923.472 897.467,923.472 889.823,923.472 882.179,923.472 889.779,923.472 889.823,923.553 892.977,929.102 896.656,934.732 897.467,935.867 \n",
       "  900.853,940.361 905.112,945.321 905.72,945.991 911.338,951.621 912.756,952.901 \n",
       "  \"/>\n",
       "<polyline clip-path=\"url(#clip8106)\" style=\"stroke:#000000; stroke-width:4; stroke-opacity:1; fill:none\" points=\"\n",
       "  392.949,1357.9 400.593,1359.23 408.238,1360.27 415.882,1361.04 423.526,1361.56 431.17,1361.86 438.815,1361.96 446.459,1361.85 454.103,1361.57 461.747,1361.11 \n",
       "  469.391,1360.49 477.036,1359.72 484.68,1358.79 492.324,1357.71 497.047,1356.96 499.968,1356.49 507.613,1355.1 515.257,1353.57 522.901,1351.9 525.313,1351.33 \n",
       "  530.545,1350.06 538.189,1348.06 545.834,1345.92 546.567,1345.7 553.478,1343.57 561.122,1341.07 563.978,1340.07 568.766,1338.35 576.41,1335.43 578.878,1334.44 \n",
       "  584.055,1332.28 591.699,1328.91 591.901,1328.81 599.343,1325.22 603.368,1323.18 606.987,1321.26 613.65,1317.56 614.632,1316.98 622.276,1312.31 622.887,1311.93 \n",
       "  629.92,1307.21 631.233,1306.3 637.564,1301.63 638.824,1300.67 645.208,1295.5 645.755,1295.04 652.093,1289.41 652.853,1288.69 657.903,1283.78 660.497,1281.09 \n",
       "  663.26,1278.15 668.141,1272.61 668.217,1272.52 672.768,1266.89 675.785,1262.9 677.002,1261.26 680.914,1255.63 683.429,1251.76 684.553,1250 687.919,1244.37 \n",
       "  691.063,1238.74 691.074,1238.72 693.955,1233.11 696.651,1227.48 698.718,1222.84 699.154,1221.85 701.45,1216.22 703.574,1210.59 705.53,1204.96 706.362,1202.34 \n",
       "  707.308,1199.33 708.914,1193.7 710.358,1188.07 711.639,1182.44 712.754,1176.81 713.7,1171.18 714.006,1168.92 714.464,1165.55 715.043,1159.92 715.431,1154.29 \n",
       "  715.616,1148.66 715.585,1143.03 715.321,1137.4 714.802,1131.77 714.006,1126.15 714.006,1126.14 712.891,1120.51 711.433,1114.88 709.591,1109.25 707.314,1103.62 \n",
       "  706.362,1101.64 704.526,1097.99 701.158,1092.36 698.718,1088.9 697.117,1086.74 692.279,1081.11 691.074,1079.88 686.491,1075.48 683.429,1072.9 679.574,1069.85 \n",
       "  675.785,1067.18 671.284,1064.22 668.141,1062.35 661.32,1058.59 660.497,1058.17 652.853,1054.55 649.257,1052.96 645.208,1051.31 637.564,1048.4 634.587,1047.33 \n",
       "  629.92,1045.77 622.276,1043.37 616.583,1041.7 614.632,1041.16 606.987,1039.15 599.343,1037.27 594.194,1036.07 591.699,1035.52 584.055,1033.91 576.41,1032.4 \n",
       "  568.766,1030.98 565.683,1030.44 561.122,1029.67 553.478,1028.45 545.834,1027.31 538.189,1026.24 530.545,1025.25 526.899,1024.81 522.901,1024.34 515.257,1023.52 \n",
       "  507.613,1022.77 499.968,1022.09 492.324,1021.5 484.68,1020.99 477.036,1020.57 469.391,1020.24 461.747,1020.01 454.103,1019.89 446.459,1019.89 438.815,1020.01 \n",
       "  431.17,1020.28 423.526,1020.71 415.882,1021.3 408.238,1022.1 400.593,1023.11 392.949,1024.37 390.752,1024.81 385.305,1025.94 377.661,1027.86 370.017,1030.15 \n",
       "  369.195,1030.44 362.372,1032.96 355.248,1036.07 354.728,1036.31 347.084,1040.4 344.966,1041.7 339.44,1045.36 336.834,1047.33 331.796,1051.46 330.161,1052.96 \n",
       "  324.551,1058.59 324.151,1059.02 319.824,1064.22 316.507,1068.62 315.667,1069.85 312.087,1075.48 308.863,1081.1 308.861,1081.11 306.083,1086.74 303.566,1092.36 \n",
       "  301.283,1097.99 301.219,1098.17 299.298,1103.62 297.498,1109.25 295.866,1114.88 294.389,1120.51 293.574,1123.93 293.076,1126.14 291.924,1131.77 290.893,1137.4 \n",
       "  289.976,1143.03 289.17,1148.66 288.468,1154.29 287.869,1159.92 287.368,1165.55 286.964,1171.18 286.656,1176.81 286.442,1182.44 286.321,1188.07 286.295,1193.7 \n",
       "  286.364,1199.33 286.529,1204.96 286.791,1210.59 287.154,1216.22 287.618,1221.85 288.189,1227.48 288.87,1233.11 289.664,1238.74 290.579,1244.37 291.62,1250 \n",
       "  292.793,1255.63 293.574,1258.99 294.13,1261.26 295.657,1266.89 297.353,1272.52 299.229,1278.15 301.219,1283.56 301.304,1283.78 303.694,1289.41 306.328,1295.04 \n",
       "  308.863,1299.97 309.248,1300.67 312.61,1306.3 316.319,1311.93 316.507,1312.19 320.637,1317.56 324.151,1321.72 325.513,1323.18 331.174,1328.81 331.796,1329.39 \n",
       "  337.881,1334.44 339.44,1335.64 345.912,1340.07 347.084,1340.82 354.728,1345.12 355.902,1345.7 362.372,1348.7 369.018,1351.33 370.017,1351.71 377.661,1354.18 \n",
       "  385.305,1356.24 388.539,1356.96 392.949,1357.9 \n",
       "  \"/>\n",
       "<polyline clip-path=\"url(#clip8106)\" style=\"stroke:#000000; stroke-width:4; stroke-opacity:1; fill:none\" points=\"\n",
       "  912.756,928.597 912.756,929.102 912.756,923.472 905.112,923.472 908.856,923.472 912.756,928.597 \n",
       "  \"/>\n",
       "<polyline clip-path=\"url(#clip8106)\" style=\"stroke:#000000; stroke-width:4; stroke-opacity:1; fill:none\" points=\"\n",
       "  415.882,1346.53 423.526,1347.35 431.17,1347.89 438.815,1348.19 446.459,1348.27 454.103,1348.12 461.747,1347.77 469.391,1347.23 477.036,1346.51 483.826,1345.7 \n",
       "  484.68,1345.6 492.324,1344.49 499.968,1343.22 507.613,1341.77 515.257,1340.16 515.633,1340.07 522.901,1338.34 530.545,1336.34 537.246,1334.44 538.189,1334.17 \n",
       "  545.834,1331.76 553.478,1329.17 554.479,1328.81 561.122,1326.33 568.766,1323.28 568.991,1323.18 576.41,1319.92 581.498,1317.56 584.055,1316.31 591.699,1312.38 \n",
       "  592.549,1311.93 599.343,1308.08 602.349,1306.3 606.987,1303.39 611.158,1300.67 614.632,1298.27 619.113,1295.04 622.276,1292.62 626.331,1289.41 629.92,1286.38 \n",
       "  632.907,1283.78 637.564,1279.45 638.925,1278.15 644.435,1272.52 645.208,1271.68 649.477,1266.89 652.853,1262.84 654.136,1261.26 658.412,1255.63 660.497,1252.69 \n",
       "  662.357,1250 665.99,1244.37 668.141,1240.78 669.343,1238.74 672.416,1233.11 675.26,1227.48 675.785,1226.35 677.845,1221.85 680.211,1216.22 682.371,1210.59 \n",
       "  683.429,1207.54 684.315,1204.96 686.046,1199.33 687.581,1193.7 688.919,1188.07 690.057,1182.44 690.992,1176.81 691.074,1176.17 691.706,1171.18 692.205,1165.55 \n",
       "  692.478,1159.92 692.513,1154.29 692.295,1148.66 691.806,1143.03 691.074,1137.76 691.023,1137.4 689.906,1131.77 688.436,1126.14 686.577,1120.51 684.286,1114.88 \n",
       "  683.429,1113.11 681.483,1109.25 678.118,1103.62 675.785,1100.28 674.105,1097.99 669.338,1092.36 668.141,1091.12 663.679,1086.74 660.497,1083.98 656.982,1081.11 \n",
       "  652.853,1078.09 649.036,1075.48 645.208,1073.11 639.581,1069.85 637.564,1068.78 629.92,1064.99 628.261,1064.22 622.276,1061.64 614.632,1058.59 614.616,1058.59 \n",
       "  606.987,1055.9 599.343,1053.4 597.908,1052.96 591.699,1051.16 584.055,1049.08 577.095,1047.33 576.41,1047.16 568.766,1045.44 561.122,1043.83 553.478,1042.34 \n",
       "  549.945,1041.7 545.834,1040.98 538.189,1039.75 530.545,1038.63 522.901,1037.6 515.257,1036.67 509.605,1036.07 507.613,1035.86 499.968,1035.17 492.324,1034.58 \n",
       "  484.68,1034.1 477.036,1033.74 469.391,1033.5 461.747,1033.39 454.103,1033.42 446.459,1033.6 438.815,1033.95 431.17,1034.48 423.526,1035.21 416.589,1036.07 \n",
       "  415.882,1036.16 408.238,1037.39 400.593,1038.9 392.949,1040.73 389.506,1041.7 385.305,1042.95 377.661,1045.63 373.512,1047.33 370.017,1048.85 362.372,1052.7 \n",
       "  361.928,1052.96 354.728,1057.38 352.991,1058.59 347.084,1063.04 345.688,1064.22 339.56,1069.85 339.44,1069.97 334.419,1075.48 331.796,1078.64 329.927,1081.11 \n",
       "  326.017,1086.74 324.151,1089.67 322.576,1092.36 319.552,1097.99 316.814,1103.62 316.507,1104.31 314.441,1109.25 312.306,1114.88 310.377,1120.51 308.863,1125.4 \n",
       "  308.647,1126.14 307.155,1131.77 305.821,1137.4 304.637,1143.03 303.594,1148.66 302.688,1154.29 301.912,1159.92 301.263,1165.55 301.219,1166.03 300.758,1171.18 \n",
       "  300.372,1176.81 300.1,1182.44 299.943,1188.07 299.9,1193.7 299.971,1199.33 300.159,1204.96 300.464,1210.59 300.889,1216.22 301.219,1219.61 301.447,1221.85 \n",
       "  302.153,1227.48 302.997,1233.11 303.984,1238.74 305.122,1244.37 306.418,1250 307.881,1255.63 308.863,1259.02 309.554,1261.26 311.474,1266.89 313.607,1272.52 \n",
       "  315.971,1278.15 316.507,1279.32 318.695,1283.78 321.736,1289.41 324.151,1293.49 325.146,1295.04 329.068,1300.67 331.796,1304.25 333.503,1306.3 338.606,1311.93 \n",
       "  339.44,1312.78 344.607,1317.56 347.084,1319.67 351.684,1323.18 354.728,1325.34 360.256,1328.81 362.372,1330.05 370.017,1333.98 371.059,1334.44 377.661,1337.22 \n",
       "  385.305,1339.95 385.728,1340.07 392.949,1342.15 400.593,1343.97 408.238,1345.42 410.099,1345.7 415.882,1346.53 \n",
       "  \"/>\n",
       "<polyline clip-path=\"url(#clip8106)\" style=\"stroke:#000000; stroke-width:4; stroke-opacity:1; fill:none\" points=\"\n",
       "  408.238,1329.34 415.882,1330.86 423.526,1332.03 431.17,1332.88 438.815,1333.43 446.459,1333.7 454.103,1333.71 461.747,1333.47 469.391,1332.99 477.036,1332.3 \n",
       "  484.68,1331.39 492.324,1330.27 499.968,1328.95 500.638,1328.81 507.613,1327.38 515.257,1325.61 522.901,1323.65 524.544,1323.18 530.545,1321.42 538.189,1318.98 \n",
       "  542.312,1317.56 545.834,1316.29 553.478,1313.32 556.849,1311.93 561.122,1310.07 568.766,1306.54 569.256,1306.3 576.41,1302.62 579.994,1300.67 584.055,1298.34 \n",
       "  589.521,1295.04 591.699,1293.65 598.025,1289.41 599.343,1288.47 605.661,1283.78 606.987,1282.73 612.557,1278.15 614.632,1276.33 618.815,1272.52 622.276,1269.15 \n",
       "  624.521,1266.89 629.741,1261.26 629.92,1261.05 634.47,1255.63 637.564,1251.66 638.824,1250 642.788,1244.37 645.208,1240.65 646.424,1238.74 649.724,1233.11 \n",
       "  652.755,1227.48 652.853,1227.28 655.467,1221.85 657.929,1216.22 660.147,1210.59 660.497,1209.59 662.093,1204.96 663.797,1199.33 665.266,1193.7 666.499,1188.07 \n",
       "  667.492,1182.44 668.141,1177.53 668.235,1176.81 668.715,1171.18 668.934,1165.55 668.878,1159.92 668.533,1154.29 668.141,1150.9 667.873,1148.66 666.868,1143.03 \n",
       "  665.498,1137.4 663.731,1131.77 661.532,1126.14 660.497,1123.93 658.822,1120.51 655.554,1114.88 652.853,1110.92 651.663,1109.25 647.031,1103.62 645.208,1101.68 \n",
       "  641.55,1097.99 637.564,1094.44 635.086,1092.36 629.92,1088.49 627.436,1086.74 622.276,1083.44 618.353,1081.11 614.632,1079.08 607.528,1075.48 606.987,1075.22 \n",
       "  599.343,1071.86 594.408,1069.85 591.699,1068.82 584.055,1066.11 578.308,1064.22 576.41,1063.63 568.766,1061.43 561.122,1059.4 557.815,1058.59 553.478,1057.58 \n",
       "  545.834,1055.94 538.189,1054.45 530.545,1053.1 529.654,1052.96 522.901,1051.93 515.257,1050.9 507.613,1050 499.968,1049.25 492.324,1048.63 484.68,1048.16 \n",
       "  477.036,1047.84 469.391,1047.69 461.747,1047.7 454.103,1047.9 446.459,1048.29 438.815,1048.89 431.17,1049.73 423.526,1050.82 415.882,1052.18 412.329,1052.96 \n",
       "  408.238,1053.89 400.593,1055.99 392.949,1058.49 392.686,1058.59 385.305,1061.54 379.571,1064.22 377.661,1065.17 370.017,1069.54 369.536,1069.85 362.372,1074.83 \n",
       "  361.541,1075.48 354.891,1081.11 354.728,1081.25 349.332,1086.74 347.084,1089.23 344.519,1092.36 340.309,1097.99 339.44,1099.26 336.681,1103.62 333.45,1109.25 \n",
       "  331.796,1112.42 330.602,1114.88 328.113,1120.51 325.873,1126.14 324.151,1130.96 323.878,1131.77 322.175,1137.4 320.663,1143.03 319.334,1148.66 318.179,1154.29 \n",
       "  317.19,1159.92 316.507,1164.56 316.369,1165.55 315.73,1171.18 315.237,1176.81 314.889,1182.44 314.683,1188.07 314.62,1193.7 314.701,1199.33 314.925,1204.96 \n",
       "  315.296,1210.59 315.817,1216.22 316.49,1221.85 316.507,1221.96 317.364,1227.48 318.411,1233.11 319.638,1238.74 321.054,1244.37 322.668,1250 324.151,1254.59 \n",
       "  324.511,1255.63 326.674,1261.26 329.089,1266.89 331.777,1272.52 331.796,1272.55 334.94,1278.15 338.445,1283.78 339.44,1285.24 342.516,1289.41 347.084,1295.02 \n",
       "  347.097,1295.04 352.54,1300.67 354.728,1302.74 358.89,1306.3 362.372,1309.04 366.489,1311.93 370.017,1314.22 375.856,1317.56 377.661,1318.52 385.305,1322.06 \n",
       "  388.128,1323.18 392.949,1324.99 400.593,1327.39 406.09,1328.81 408.238,1329.34 \n",
       "  \"/>\n",
       "<polyline clip-path=\"url(#clip8106)\" style=\"stroke:#000000; stroke-width:4; stroke-opacity:1; fill:none\" points=\"\n",
       "  446.459,1317.76 454.103,1317.94 461.747,1317.84 467.384,1317.56 469.391,1317.45 477.036,1316.78 484.68,1315.85 492.324,1314.67 499.968,1313.25 506.027,1311.93 \n",
       "  507.613,1311.57 515.257,1309.59 522.901,1307.37 526.257,1306.3 530.545,1304.86 538.189,1302.05 541.66,1300.67 545.834,1298.92 553.478,1295.47 554.368,1295.04 \n",
       "  561.122,1291.6 565.15,1289.41 568.766,1287.33 574.591,1283.78 576.41,1282.6 582.928,1278.15 584.055,1277.33 590.347,1272.52 591.699,1271.41 596.995,1266.89 \n",
       "  599.343,1264.74 602.988,1261.26 606.987,1257.16 608.419,1255.63 613.322,1250 614.632,1248.37 617.749,1244.37 621.785,1238.74 622.276,1237.99 625.39,1233.11 \n",
       "  628.664,1227.48 629.92,1225.1 631.585,1221.85 634.178,1216.22 636.482,1210.59 637.564,1207.57 638.477,1204.96 640.166,1199.33 641.575,1193.7 642.7,1188.07 \n",
       "  643.535,1182.44 644.073,1176.81 644.301,1171.18 644.207,1165.55 643.774,1159.92 642.981,1154.29 641.806,1148.66 640.22,1143.03 638.191,1137.4 637.564,1135.97 \n",
       "  635.631,1131.77 632.516,1126.14 629.92,1122.17 628.778,1120.51 624.297,1114.88 622.276,1112.67 618.977,1109.25 614.632,1105.29 612.685,1103.62 606.987,1099.27 \n",
       "  605.211,1097.99 599.343,1094.2 596.291,1092.36 591.699,1089.84 585.584,1086.74 584.055,1086.02 576.41,1082.69 572.46,1081.11 568.766,1079.73 561.122,1077.1 \n",
       "  555.953,1075.48 553.478,1074.75 545.834,1072.68 538.189,1070.82 533.716,1069.85 530.545,1069.19 522.901,1067.78 515.257,1066.56 507.613,1065.52 499.968,1064.66 \n",
       "  494.946,1064.22 492.324,1063.99 484.68,1063.53 477.036,1063.27 469.391,1063.2 461.747,1063.34 454.103,1063.71 447.762,1064.22 446.459,1064.33 438.815,1065.23 \n",
       "  431.17,1066.43 423.526,1067.95 415.882,1069.82 415.8,1069.85 408.238,1072.18 400.593,1074.98 399.43,1075.48 392.949,1078.41 387.821,1081.11 385.305,1082.52 \n",
       "  378.753,1086.74 377.661,1087.49 371.429,1092.36 370.017,1093.56 365.334,1097.99 362.372,1101.06 360.125,1103.62 355.624,1109.25 354.728,1110.48 351.779,1114.88 \n",
       "  348.371,1120.51 347.084,1122.86 345.418,1126.14 342.844,1131.77 340.549,1137.4 339.44,1140.46 338.568,1143.03 336.883,1148.66 335.419,1154.29 334.167,1159.92 \n",
       "  333.118,1165.55 332.268,1171.18 331.796,1175.23 331.622,1176.81 331.181,1182.44 330.919,1188.07 330.835,1193.7 330.929,1199.33 331.203,1204.96 331.659,1210.59 \n",
       "  331.796,1211.79 332.331,1216.22 333.213,1221.85 334.304,1227.48 335.612,1233.11 337.146,1238.74 338.917,1244.37 339.44,1245.84 341.034,1250 343.468,1255.63 \n",
       "  346.204,1261.26 347.084,1262.9 349.417,1266.89 353.068,1272.52 354.728,1274.85 357.312,1278.15 362.169,1283.78 362.372,1283.99 368.001,1289.41 370.017,1291.18 \n",
       "  374.925,1295.04 377.661,1297.02 383.394,1300.67 385.305,1301.79 392.949,1305.71 394.278,1306.3 400.593,1308.89 408.238,1311.51 409.711,1311.93 415.882,1313.57 \n",
       "  423.526,1315.18 431.17,1316.4 438.815,1317.25 443.291,1317.56 446.459,1317.76 \n",
       "  \"/>\n",
       "<polyline clip-path=\"url(#clip8106)\" style=\"stroke:#000000; stroke-width:4; stroke-opacity:1; fill:none\" points=\"\n",
       "  423.526,1296.03 431.17,1297.73 438.815,1298.98 446.459,1299.8 454.103,1300.23 461.747,1300.29 469.391,1299.99 477.036,1299.35 484.68,1298.39 492.324,1297.12 \n",
       "  499.968,1295.55 502.082,1295.04 507.613,1293.62 515.257,1291.37 521.148,1289.41 522.901,1288.79 530.545,1285.81 535.267,1283.78 538.189,1282.45 545.834,1278.66 \n",
       "  546.802,1278.15 553.478,1274.36 556.497,1272.52 561.122,1269.51 564.914,1266.89 568.766,1264.03 572.298,1261.26 576.41,1257.79 578.834,1255.63 584.055,1250.61 \n",
       "  584.663,1250 589.816,1244.37 591.699,1242.13 594.424,1238.74 598.556,1233.11 599.343,1231.92 602.187,1227.48 605.422,1221.85 606.987,1218.78 608.25,1216.22 \n",
       "  610.679,1210.59 612.765,1204.96 614.507,1199.33 614.632,1198.83 615.86,1193.7 616.868,1188.07 617.525,1182.44 617.822,1176.81 617.745,1171.18 617.275,1165.55 \n",
       "  616.393,1159.92 615.074,1154.29 614.632,1152.88 613.241,1148.66 610.876,1143.03 607.955,1137.4 606.987,1135.83 604.333,1131.77 599.993,1126.14 599.343,1125.41 \n",
       "  594.724,1120.51 591.699,1117.71 588.437,1114.88 584.055,1111.51 580.887,1109.25 576.41,1106.38 571.746,1103.62 568.766,1102.02 561.122,1098.26 560.54,1097.99 \n",
       "  553.478,1095.06 546.262,1092.36 545.834,1092.22 538.189,1089.81 530.545,1087.69 526.639,1086.74 522.901,1085.88 515.257,1084.36 507.613,1083.1 499.968,1082.07 \n",
       "  492.324,1081.3 489.423,1081.11 484.68,1080.8 477.036,1080.55 469.391,1080.57 461.747,1080.86 458.469,1081.11 454.103,1081.45 446.459,1082.38 438.815,1083.65 \n",
       "  431.17,1085.3 425.801,1086.74 423.526,1087.38 415.882,1090.01 410.11,1092.36 408.238,1093.19 400.593,1097.09 399.051,1097.99 392.949,1101.87 390.515,1103.62 \n",
       "  385.305,1107.72 383.565,1109.25 377.742,1114.88 377.661,1114.97 372.937,1120.51 370.017,1124.31 368.739,1126.14 365.184,1131.77 362.372,1136.77 362.043,1137.4 \n",
       "  359.438,1143.03 357.152,1148.66 355.167,1154.29 354.728,1155.74 353.553,1159.92 352.227,1165.55 351.153,1171.18 350.323,1176.81 349.735,1182.44 349.385,1188.07 \n",
       "  349.272,1193.7 349.398,1199.33 349.763,1204.96 350.372,1210.59 351.23,1216.22 352.344,1221.85 353.722,1227.48 354.728,1230.92 355.421,1233.11 357.503,1238.74 \n",
       "  359.91,1244.37 362.372,1249.41 362.685,1250 366.055,1255.63 369.851,1261.26 370.017,1261.48 374.474,1266.89 377.661,1270.37 379.859,1272.52 385.305,1277.35 \n",
       "  386.329,1278.15 392.949,1282.88 394.395,1283.78 400.593,1287.32 404.899,1289.41 408.238,1290.91 415.882,1293.78 420.025,1295.04 423.526,1296.03 \n",
       "  \"/>\n",
       "<polyline clip-path=\"url(#clip8106)\" style=\"stroke:#000000; stroke-width:4; stroke-opacity:1; fill:none\" points=\"\n",
       "  446.459,1278.63 454.103,1279.38 461.747,1279.66 469.391,1279.5 477.036,1278.91 482.851,1278.15 484.68,1277.9 492.324,1276.43 499.968,1274.56 506.905,1272.52 \n",
       "  507.613,1272.3 515.257,1269.5 521.536,1266.89 522.901,1266.28 530.545,1262.47 532.759,1261.26 538.189,1258.05 541.954,1255.63 545.834,1252.93 549.732,1250 \n",
       "  553.478,1246.94 556.413,1244.37 561.122,1239.86 562.224,1238.74 567.24,1233.11 568.766,1231.21 571.593,1227.48 575.395,1221.85 576.41,1220.13 578.617,1216.22 \n",
       "  581.35,1210.59 583.647,1204.96 584.055,1203.72 585.434,1199.33 586.775,1193.7 587.681,1188.07 588.139,1182.44 588.135,1176.81 587.648,1171.18 586.657,1165.55 \n",
       "  585.134,1159.92 584.055,1156.99 582.995,1154.29 580.168,1148.66 576.665,1143.03 576.41,1142.69 572.207,1137.4 568.766,1133.72 566.786,1131.77 561.122,1126.93 \n",
       "  560.121,1126.14 553.478,1121.55 551.812,1120.51 545.834,1117.17 541.27,1114.88 538.189,1113.49 530.545,1110.41 527.228,1109.25 522.901,1107.86 515.257,1105.76 \n",
       "  507.613,1104.02 505.405,1103.62 499.968,1102.71 492.324,1101.75 484.68,1101.14 477.036,1100.88 469.391,1100.98 461.747,1101.46 454.103,1102.33 446.459,1103.62 \n",
       "  446.456,1103.62 438.815,1105.47 431.17,1107.83 427.412,1109.25 423.526,1110.84 415.882,1114.59 415.372,1114.88 408.238,1119.34 406.609,1120.51 400.593,1125.28 \n",
       "  399.634,1126.14 393.977,1131.77 392.949,1132.91 389.334,1137.4 385.32,1143.03 385.305,1143.06 382.11,1148.66 379.328,1154.29 377.661,1158.24 377.012,1159.92 \n",
       "  375.191,1165.55 373.718,1171.18 372.584,1176.81 371.783,1182.44 371.311,1188.07 371.167,1193.7 371.352,1199.33 371.87,1204.96 372.726,1210.59 373.928,1216.22 \n",
       "  375.486,1221.85 377.414,1227.48 377.661,1228.09 379.921,1233.11 382.895,1238.74 385.305,1242.69 386.448,1244.37 390.81,1250 392.949,1252.45 396.105,1255.63 \n",
       "  400.593,1259.67 402.626,1261.26 408.238,1265.21 411.05,1266.89 415.882,1269.51 422.603,1272.52 423.526,1272.9 431.17,1275.42 438.815,1277.33 443.495,1278.15 \n",
       "  446.459,1278.63 \n",
       "  \"/>\n",
       "<polyline clip-path=\"url(#clip8106)\" style=\"stroke:#000000; stroke-width:4; stroke-opacity:1; fill:none\" points=\"\n",
       "  446.459,1250.8 454.103,1252.27 461.747,1253.01 469.391,1253.07 477.036,1252.49 484.68,1251.29 490.237,1250 492.324,1249.47 499.968,1246.92 506.19,1244.37 \n",
       "  507.613,1243.73 515.257,1239.67 516.789,1238.74 522.901,1234.62 524.898,1233.11 530.545,1228.33 531.453,1227.48 536.754,1221.85 538.189,1220.09 541.08,1216.22 \n",
       "  544.64,1210.59 545.834,1208.27 547.415,1204.96 549.488,1199.33 550.941,1193.7 551.758,1188.07 551.916,1182.44 551.389,1176.81 550.146,1171.18 548.15,1165.55 \n",
       "  545.834,1160.86 545.316,1159.92 541.344,1154.29 538.189,1150.68 536.195,1148.66 530.545,1143.87 529.408,1143.03 522.901,1138.9 520.114,1137.4 515.257,1135.1 \n",
       "  507.613,1132.13 506.45,1131.77 499.968,1129.99 492.324,1128.45 484.68,1127.48 477.036,1127.08 469.391,1127.26 461.747,1128.05 454.103,1129.47 446.459,1131.54 \n",
       "  445.805,1131.77 438.815,1134.55 433.126,1137.4 431.17,1138.5 424.514,1143.03 423.526,1143.79 418.183,1148.66 415.882,1151.07 413.227,1154.29 409.259,1159.92 \n",
       "  408.238,1161.65 406.22,1165.55 403.867,1171.18 402.066,1176.81 400.808,1182.44 400.593,1184.12 400.142,1188.07 399.979,1193.7 400.3,1199.33 400.593,1201.38 \n",
       "  401.173,1204.96 402.645,1210.59 404.696,1216.22 407.349,1221.85 408.238,1223.39 410.975,1227.48 415.493,1233.11 415.882,1233.53 421.662,1238.74 423.526,1240.2 \n",
       "  430.038,1244.37 431.17,1245.01 438.815,1248.4 443.724,1250 446.459,1250.8 \n",
       "  \"/>\n",
       "<defs>\n",
       "  <clipPath id=\"clip8107\">\n",
       "    <rect x=\"960\" y=\"923\" width=\"73\" height=\"564\"/>\n",
       "  </clipPath>\n",
       "</defs>\n",
       "<path clip-path=\"url(#clip8107)\" d=\"\n",
       "M960.756 1486.45 L1032.76 1486.45 L1032.76 1451.26 L960.756 1451.26  Z\n",
       "  \" fill=\"#000003\" fill-rule=\"evenodd\" fill-opacity=\"1\"/>\n",
       "<path clip-path=\"url(#clip8107)\" d=\"\n",
       "M960.756 1451.26 L1032.76 1451.26 L1032.76 1416.08 L960.756 1416.08  Z\n",
       "  \" fill=\"#0c0727\" fill-rule=\"evenodd\" fill-opacity=\"1\"/>\n",
       "<path clip-path=\"url(#clip8107)\" d=\"\n",
       "M960.756 1416.08 L1032.76 1416.08 L1032.76 1380.89 L960.756 1380.89  Z\n",
       "  \" fill=\"#240b4e\" fill-rule=\"evenodd\" fill-opacity=\"1\"/>\n",
       "<path clip-path=\"url(#clip8107)\" d=\"\n",
       "M960.756 1380.89 L1032.76 1380.89 L1032.76 1345.7 L960.756 1345.7  Z\n",
       "  \" fill=\"#420a67\" fill-rule=\"evenodd\" fill-opacity=\"1\"/>\n",
       "<path clip-path=\"url(#clip8107)\" d=\"\n",
       "M960.756 1345.7 L1032.76 1345.7 L1032.76 1310.52 L960.756 1310.52  Z\n",
       "  \" fill=\"#5d126d\" fill-rule=\"evenodd\" fill-opacity=\"1\"/>\n",
       "<path clip-path=\"url(#clip8107)\" d=\"\n",
       "M960.756 1310.52 L1032.76 1310.52 L1032.76 1275.33 L960.756 1275.33  Z\n",
       "  \" fill=\"#781c6d\" fill-rule=\"evenodd\" fill-opacity=\"1\"/>\n",
       "<path clip-path=\"url(#clip8107)\" d=\"\n",
       "M960.756 1275.33 L1032.76 1275.33 L1032.76 1240.15 L960.756 1240.15  Z\n",
       "  \" fill=\"#942666\" fill-rule=\"evenodd\" fill-opacity=\"1\"/>\n",
       "<path clip-path=\"url(#clip8107)\" d=\"\n",
       "M960.756 1240.15 L1032.76 1240.15 L1032.76 1204.96 L960.756 1204.96  Z\n",
       "  \" fill=\"#ad305b\" fill-rule=\"evenodd\" fill-opacity=\"1\"/>\n",
       "<path clip-path=\"url(#clip8107)\" d=\"\n",
       "M960.756 1204.96 L1032.76 1204.96 L1032.76 1169.77 L960.756 1169.77  Z\n",
       "  \" fill=\"#c73e4c\" fill-rule=\"evenodd\" fill-opacity=\"1\"/>\n",
       "<path clip-path=\"url(#clip8107)\" d=\"\n",
       "M960.756 1169.77 L1032.76 1169.77 L1032.76 1134.59 L960.756 1134.59  Z\n",
       "  \" fill=\"#db503a\" fill-rule=\"evenodd\" fill-opacity=\"1\"/>\n",
       "<path clip-path=\"url(#clip8107)\" d=\"\n",
       "M960.756 1134.59 L1032.76 1134.59 L1032.76 1099.4 L960.756 1099.4  Z\n",
       "  \" fill=\"#ec6925\" fill-rule=\"evenodd\" fill-opacity=\"1\"/>\n",
       "<path clip-path=\"url(#clip8107)\" d=\"\n",
       "M960.756 1099.4 L1032.76 1099.4 L1032.76 1064.22 L960.756 1064.22  Z\n",
       "  \" fill=\"#f7850e\" fill-rule=\"evenodd\" fill-opacity=\"1\"/>\n",
       "<path clip-path=\"url(#clip8107)\" d=\"\n",
       "M960.756 1064.22 L1032.76 1064.22 L1032.76 1029.03 L960.756 1029.03  Z\n",
       "  \" fill=\"#fba40a\" fill-rule=\"evenodd\" fill-opacity=\"1\"/>\n",
       "<path clip-path=\"url(#clip8107)\" d=\"\n",
       "M960.756 1029.03 L1032.76 1029.03 L1032.76 993.844 L960.756 993.844  Z\n",
       "  \" fill=\"#f9c52d\" fill-rule=\"evenodd\" fill-opacity=\"1\"/>\n",
       "<path clip-path=\"url(#clip8107)\" d=\"\n",
       "M960.756 993.844 L1032.76 993.844 L1032.76 958.658 L960.756 958.658  Z\n",
       "  \" fill=\"#f2e55f\" fill-rule=\"evenodd\" fill-opacity=\"1\"/>\n",
       "<path clip-path=\"url(#clip8107)\" d=\"\n",
       "M960.756 958.658 L1032.76 958.658 L1032.76 923.472 L960.756 923.472  Z\n",
       "  \" fill=\"#fcfea4\" fill-rule=\"evenodd\" fill-opacity=\"1\"/>\n",
       "<path clip-path=\"url(#clip8100)\" d=\"M 0 0 M1080.7 1410.25 Q1077.09 1410.25 1075.26 1413.82 Q1073.45 1417.36 1073.45 1424.49 Q1073.45 1431.59 1075.26 1435.16 Q1077.09 1438.7 1080.7 1438.7 Q1084.33 1438.7 1086.14 1435.16 Q1087.97 1431.59 1087.97 1424.49 Q1087.97 1417.36 1086.14 1413.82 Q1084.33 1410.25 1080.7 1410.25 M1080.7 1406.55 Q1086.51 1406.55 1089.57 1411.16 Q1092.64 1415.74 1092.64 1424.49 Q1092.64 1433.22 1089.57 1437.82 Q1086.51 1442.41 1080.7 1442.41 Q1074.89 1442.41 1071.81 1437.82 Q1068.76 1433.22 1068.76 1424.49 Q1068.76 1415.74 1071.81 1411.16 Q1074.89 1406.55 1080.7 1406.55 Z\" fill=\"#000000\" fill-rule=\"evenodd\" fill-opacity=\"1\" /><path clip-path=\"url(#clip8100)\" d=\"M 0 0 M1097.71 1435.85 L1102.6 1435.85 L1102.6 1441.73 L1097.71 1441.73 L1097.71 1435.85 Z\" fill=\"#000000\" fill-rule=\"evenodd\" fill-opacity=\"1\" /><path clip-path=\"url(#clip8100)\" d=\"M 0 0 M1117.67 1410.25 Q1114.06 1410.25 1112.23 1413.82 Q1110.42 1417.36 1110.42 1424.49 Q1110.42 1431.59 1112.23 1435.16 Q1114.06 1438.7 1117.67 1438.7 Q1121.3 1438.7 1123.11 1435.16 Q1124.94 1431.59 1124.94 1424.49 Q1124.94 1417.36 1123.11 1413.82 Q1121.3 1410.25 1117.67 1410.25 M1117.67 1406.55 Q1123.48 1406.55 1126.53 1411.16 Q1129.61 1415.74 1129.61 1424.49 Q1129.61 1433.22 1126.53 1437.82 Q1123.48 1442.41 1117.67 1442.41 Q1111.86 1442.41 1108.78 1437.82 Q1105.72 1433.22 1105.72 1424.49 Q1105.72 1415.74 1108.78 1411.16 Q1111.86 1406.55 1117.67 1406.55 Z\" fill=\"#000000\" fill-rule=\"evenodd\" fill-opacity=\"1\" /><path clip-path=\"url(#clip8100)\" d=\"M 0 0 M1144.68 1410.25 Q1141.07 1410.25 1139.24 1413.82 Q1137.44 1417.36 1137.44 1424.49 Q1137.44 1431.59 1139.24 1435.16 Q1141.07 1438.7 1144.68 1438.7 Q1148.32 1438.7 1150.12 1435.16 Q1151.95 1431.59 1151.95 1424.49 Q1151.95 1417.36 1150.12 1413.82 Q1148.32 1410.25 1144.68 1410.25 M1144.68 1406.55 Q1150.49 1406.55 1153.55 1411.16 Q1156.63 1415.74 1156.63 1424.49 Q1156.63 1433.22 1153.55 1437.82 Q1150.49 1442.41 1144.68 1442.41 Q1138.87 1442.41 1135.79 1437.82 Q1132.74 1433.22 1132.74 1424.49 Q1132.74 1415.74 1135.79 1411.16 Q1138.87 1406.55 1144.68 1406.55 Z\" fill=\"#000000\" fill-rule=\"evenodd\" fill-opacity=\"1\" /><path clip-path=\"url(#clip8100)\" d=\"M 0 0 M1165.72 1437.8 L1182.04 1437.8 L1182.04 1441.73 L1160.1 1441.73 L1160.1 1437.8 Q1162.76 1435.04 1167.34 1430.41 Q1171.95 1425.76 1173.13 1424.42 Q1175.38 1421.9 1176.26 1420.16 Q1177.16 1418.4 1177.16 1416.71 Q1177.16 1413.96 1175.21 1412.22 Q1173.29 1410.48 1170.19 1410.48 Q1167.99 1410.48 1165.54 1411.25 Q1163.11 1412.01 1160.33 1413.56 L1160.33 1408.84 Q1163.15 1407.71 1165.61 1407.13 Q1168.06 1406.55 1170.1 1406.55 Q1175.47 1406.55 1178.66 1409.23 Q1181.86 1411.92 1181.86 1416.41 Q1181.86 1418.54 1181.05 1420.46 Q1180.26 1422.36 1178.15 1424.95 Q1177.57 1425.62 1174.47 1428.84 Q1171.37 1432.03 1165.72 1437.8 Z\" fill=\"#000000\" fill-rule=\"evenodd\" fill-opacity=\"1\" /><path clip-path=\"url(#clip8100)\" d=\"M 0 0 M1187.16 1407.17 L1205.51 1407.17 L1205.51 1411.11 L1191.44 1411.11 L1191.44 1419.58 Q1192.46 1419.23 1193.48 1419.07 Q1194.5 1418.89 1195.51 1418.89 Q1201.3 1418.89 1204.68 1422.06 Q1208.06 1425.23 1208.06 1430.65 Q1208.06 1436.22 1204.59 1439.33 Q1201.12 1442.41 1194.8 1442.41 Q1192.62 1442.41 1190.35 1442.03 Q1188.11 1441.66 1185.7 1440.92 L1185.7 1436.22 Q1187.78 1437.36 1190.01 1437.91 Q1192.23 1438.47 1194.7 1438.47 Q1198.71 1438.47 1201.05 1436.36 Q1203.38 1434.26 1203.38 1430.65 Q1203.38 1427.03 1201.05 1424.93 Q1198.71 1422.82 1194.7 1422.82 Q1192.83 1422.82 1190.95 1423.24 Q1189.1 1423.66 1187.16 1424.53 L1187.16 1407.17 Z\" fill=\"#000000\" fill-rule=\"evenodd\" fill-opacity=\"1\" /><path clip-path=\"url(#clip8100)\" d=\"M 0 0 M1080.7 1351.86 Q1077.09 1351.86 1075.26 1355.43 Q1073.45 1358.97 1073.45 1366.1 Q1073.45 1373.2 1075.26 1376.77 Q1077.09 1380.31 1080.7 1380.31 Q1084.33 1380.31 1086.14 1376.77 Q1087.97 1373.2 1087.97 1366.1 Q1087.97 1358.97 1086.14 1355.43 Q1084.33 1351.86 1080.7 1351.86 M1080.7 1348.16 Q1086.51 1348.16 1089.57 1352.76 Q1092.64 1357.35 1092.64 1366.1 Q1092.64 1374.82 1089.57 1379.43 Q1086.51 1384.01 1080.7 1384.01 Q1074.89 1384.01 1071.81 1379.43 Q1068.76 1374.82 1068.76 1366.1 Q1068.76 1357.35 1071.81 1352.76 Q1074.89 1348.16 1080.7 1348.16 Z\" fill=\"#000000\" fill-rule=\"evenodd\" fill-opacity=\"1\" /><path clip-path=\"url(#clip8100)\" d=\"M 0 0 M1097.71 1377.46 L1102.6 1377.46 L1102.6 1383.34 L1097.71 1383.34 L1097.71 1377.46 Z\" fill=\"#000000\" fill-rule=\"evenodd\" fill-opacity=\"1\" /><path clip-path=\"url(#clip8100)\" d=\"M 0 0 M1117.67 1351.86 Q1114.06 1351.86 1112.23 1355.43 Q1110.42 1358.97 1110.42 1366.1 Q1110.42 1373.2 1112.23 1376.77 Q1114.06 1380.31 1117.67 1380.31 Q1121.3 1380.31 1123.11 1376.77 Q1124.94 1373.2 1124.94 1366.1 Q1124.94 1358.97 1123.11 1355.43 Q1121.3 1351.86 1117.67 1351.86 M1117.67 1348.16 Q1123.48 1348.16 1126.53 1352.76 Q1129.61 1357.35 1129.61 1366.1 Q1129.61 1374.82 1126.53 1379.43 Q1123.48 1384.01 1117.67 1384.01 Q1111.86 1384.01 1108.78 1379.43 Q1105.72 1374.82 1105.72 1366.1 Q1105.72 1357.35 1108.78 1352.76 Q1111.86 1348.16 1117.67 1348.16 Z\" fill=\"#000000\" fill-rule=\"evenodd\" fill-opacity=\"1\" /><path clip-path=\"url(#clip8100)\" d=\"M 0 0 M1144.68 1351.86 Q1141.07 1351.86 1139.24 1355.43 Q1137.44 1358.97 1137.44 1366.1 Q1137.44 1373.2 1139.24 1376.77 Q1141.07 1380.31 1144.68 1380.31 Q1148.32 1380.31 1150.12 1376.77 Q1151.95 1373.2 1151.95 1366.1 Q1151.95 1358.97 1150.12 1355.43 Q1148.32 1351.86 1144.68 1351.86 M1144.68 1348.16 Q1150.49 1348.16 1153.55 1352.76 Q1156.63 1357.35 1156.63 1366.1 Q1156.63 1374.82 1153.55 1379.43 Q1150.49 1384.01 1144.68 1384.01 Q1138.87 1384.01 1135.79 1379.43 Q1132.74 1374.82 1132.74 1366.1 Q1132.74 1357.35 1135.79 1352.76 Q1138.87 1348.16 1144.68 1348.16 Z\" fill=\"#000000\" fill-rule=\"evenodd\" fill-opacity=\"1\" /><path clip-path=\"url(#clip8100)\" d=\"M 0 0 M1161.74 1348.78 L1180.1 1348.78 L1180.1 1352.72 L1166.02 1352.72 L1166.02 1361.19 Q1167.04 1360.84 1168.06 1360.68 Q1169.08 1360.5 1170.1 1360.5 Q1175.88 1360.5 1179.26 1363.67 Q1182.64 1366.84 1182.64 1372.25 Q1182.64 1377.83 1179.17 1380.93 Q1175.7 1384.01 1169.38 1384.01 Q1167.2 1384.01 1164.94 1383.64 Q1162.69 1383.27 1160.28 1382.53 L1160.28 1377.83 Q1162.37 1378.97 1164.59 1379.52 Q1166.81 1380.08 1169.29 1380.08 Q1173.29 1380.08 1175.63 1377.97 Q1177.97 1375.87 1177.97 1372.25 Q1177.97 1368.64 1175.63 1366.54 Q1173.29 1364.43 1169.29 1364.43 Q1167.41 1364.43 1165.54 1364.85 Q1163.69 1365.26 1161.74 1366.14 L1161.74 1348.78 Z\" fill=\"#000000\" fill-rule=\"evenodd\" fill-opacity=\"1\" /><path clip-path=\"url(#clip8100)\" d=\"M 0 0 M1197.71 1351.86 Q1194.1 1351.86 1192.27 1355.43 Q1190.47 1358.97 1190.47 1366.1 Q1190.47 1373.2 1192.27 1376.77 Q1194.1 1380.31 1197.71 1380.31 Q1201.35 1380.31 1203.15 1376.77 Q1204.98 1373.2 1204.98 1366.1 Q1204.98 1358.97 1203.15 1355.43 Q1201.35 1351.86 1197.71 1351.86 M1197.71 1348.16 Q1203.52 1348.16 1206.58 1352.76 Q1209.66 1357.35 1209.66 1366.1 Q1209.66 1374.82 1206.58 1379.43 Q1203.52 1384.01 1197.71 1384.01 Q1191.9 1384.01 1188.82 1379.43 Q1185.77 1374.82 1185.77 1366.1 Q1185.77 1357.35 1188.82 1352.76 Q1191.9 1348.16 1197.71 1348.16 Z\" fill=\"#000000\" fill-rule=\"evenodd\" fill-opacity=\"1\" /><path clip-path=\"url(#clip8100)\" d=\"M 0 0 M1080.7 1293.47 Q1077.09 1293.47 1075.26 1297.03 Q1073.45 1300.58 1073.45 1307.71 Q1073.45 1314.81 1075.26 1318.38 Q1077.09 1321.92 1080.7 1321.92 Q1084.33 1321.92 1086.14 1318.38 Q1087.97 1314.81 1087.97 1307.71 Q1087.97 1300.58 1086.14 1297.03 Q1084.33 1293.47 1080.7 1293.47 M1080.7 1289.77 Q1086.51 1289.77 1089.57 1294.37 Q1092.64 1298.96 1092.64 1307.71 Q1092.64 1316.43 1089.57 1321.04 Q1086.51 1325.62 1080.7 1325.62 Q1074.89 1325.62 1071.81 1321.04 Q1068.76 1316.43 1068.76 1307.71 Q1068.76 1298.96 1071.81 1294.37 Q1074.89 1289.77 1080.7 1289.77 Z\" fill=\"#000000\" fill-rule=\"evenodd\" fill-opacity=\"1\" /><path clip-path=\"url(#clip8100)\" d=\"M 0 0 M1097.71 1319.07 L1102.6 1319.07 L1102.6 1324.95 L1097.71 1324.95 L1097.71 1319.07 Z\" fill=\"#000000\" fill-rule=\"evenodd\" fill-opacity=\"1\" /><path clip-path=\"url(#clip8100)\" d=\"M 0 0 M1117.67 1293.47 Q1114.06 1293.47 1112.23 1297.03 Q1110.42 1300.58 1110.42 1307.71 Q1110.42 1314.81 1112.23 1318.38 Q1114.06 1321.92 1117.67 1321.92 Q1121.3 1321.92 1123.11 1318.38 Q1124.94 1314.81 1124.94 1307.71 Q1124.94 1300.58 1123.11 1297.03 Q1121.3 1293.47 1117.67 1293.47 M1117.67 1289.77 Q1123.48 1289.77 1126.53 1294.37 Q1129.61 1298.96 1129.61 1307.71 Q1129.61 1316.43 1126.53 1321.04 Q1123.48 1325.62 1117.67 1325.62 Q1111.86 1325.62 1108.78 1321.04 Q1105.72 1316.43 1105.72 1307.71 Q1105.72 1298.96 1108.78 1294.37 Q1111.86 1289.77 1117.67 1289.77 Z\" fill=\"#000000\" fill-rule=\"evenodd\" fill-opacity=\"1\" /><path clip-path=\"url(#clip8100)\" d=\"M 0 0 M1144.68 1293.47 Q1141.07 1293.47 1139.24 1297.03 Q1137.44 1300.58 1137.44 1307.71 Q1137.44 1314.81 1139.24 1318.38 Q1141.07 1321.92 1144.68 1321.92 Q1148.32 1321.92 1150.12 1318.38 Q1151.95 1314.81 1151.95 1307.71 Q1151.95 1300.58 1150.12 1297.03 Q1148.32 1293.47 1144.68 1293.47 M1144.68 1289.77 Q1150.49 1289.77 1153.55 1294.37 Q1156.63 1298.96 1156.63 1307.71 Q1156.63 1316.43 1153.55 1321.04 Q1150.49 1325.62 1144.68 1325.62 Q1138.87 1325.62 1135.79 1321.04 Q1132.74 1316.43 1132.74 1307.71 Q1132.74 1298.96 1135.79 1294.37 Q1138.87 1289.77 1144.68 1289.77 Z\" fill=\"#000000\" fill-rule=\"evenodd\" fill-opacity=\"1\" /><path clip-path=\"url(#clip8100)\" d=\"M 0 0 M1160.51 1290.39 L1182.74 1290.39 L1182.74 1292.38 L1170.19 1324.95 L1165.31 1324.95 L1177.11 1294.33 L1160.51 1294.33 L1160.51 1290.39 Z\" fill=\"#000000\" fill-rule=\"evenodd\" fill-opacity=\"1\" /><path clip-path=\"url(#clip8100)\" d=\"M 0 0 M1187.85 1290.39 L1206.21 1290.39 L1206.21 1294.33 L1192.13 1294.33 L1192.13 1302.8 Q1193.15 1302.45 1194.17 1302.29 Q1195.19 1302.1 1196.21 1302.1 Q1202 1302.1 1205.38 1305.27 Q1208.76 1308.45 1208.76 1313.86 Q1208.76 1319.44 1205.28 1322.54 Q1201.81 1325.62 1195.49 1325.62 Q1193.32 1325.62 1191.05 1325.25 Q1188.8 1324.88 1186.39 1324.14 L1186.39 1319.44 Q1188.48 1320.58 1190.7 1321.13 Q1192.92 1321.69 1195.4 1321.69 Q1199.4 1321.69 1201.74 1319.58 Q1204.08 1317.47 1204.08 1313.86 Q1204.08 1310.25 1201.74 1308.15 Q1199.4 1306.04 1195.4 1306.04 Q1193.52 1306.04 1191.65 1306.46 Q1189.8 1306.87 1187.85 1307.75 L1187.85 1290.39 Z\" fill=\"#000000\" fill-rule=\"evenodd\" fill-opacity=\"1\" /><path clip-path=\"url(#clip8100)\" d=\"M 0 0 M1080.7 1235.08 Q1077.09 1235.08 1075.26 1238.64 Q1073.45 1242.18 1073.45 1249.31 Q1073.45 1256.42 1075.26 1259.98 Q1077.09 1263.53 1080.7 1263.53 Q1084.33 1263.53 1086.14 1259.98 Q1087.97 1256.42 1087.97 1249.31 Q1087.97 1242.18 1086.14 1238.64 Q1084.33 1235.08 1080.7 1235.08 M1080.7 1231.37 Q1086.51 1231.37 1089.57 1235.98 Q1092.64 1240.56 1092.64 1249.31 Q1092.64 1258.04 1089.57 1262.65 Q1086.51 1267.23 1080.7 1267.23 Q1074.89 1267.23 1071.81 1262.65 Q1068.76 1258.04 1068.76 1249.31 Q1068.76 1240.56 1071.81 1235.98 Q1074.89 1231.37 1080.7 1231.37 Z\" fill=\"#000000\" fill-rule=\"evenodd\" fill-opacity=\"1\" /><path clip-path=\"url(#clip8100)\" d=\"M 0 0 M1097.71 1260.68 L1102.6 1260.68 L1102.6 1266.56 L1097.71 1266.56 L1097.71 1260.68 Z\" fill=\"#000000\" fill-rule=\"evenodd\" fill-opacity=\"1\" /><path clip-path=\"url(#clip8100)\" d=\"M 0 0 M1117.67 1235.08 Q1114.06 1235.08 1112.23 1238.64 Q1110.42 1242.18 1110.42 1249.31 Q1110.42 1256.42 1112.23 1259.98 Q1114.06 1263.53 1117.67 1263.53 Q1121.3 1263.53 1123.11 1259.98 Q1124.94 1256.42 1124.94 1249.31 Q1124.94 1242.18 1123.11 1238.64 Q1121.3 1235.08 1117.67 1235.08 M1117.67 1231.37 Q1123.48 1231.37 1126.53 1235.98 Q1129.61 1240.56 1129.61 1249.31 Q1129.61 1258.04 1126.53 1262.65 Q1123.48 1267.23 1117.67 1267.23 Q1111.86 1267.23 1108.78 1262.65 Q1105.72 1258.04 1105.72 1249.31 Q1105.72 1240.56 1108.78 1235.98 Q1111.86 1231.37 1117.67 1231.37 Z\" fill=\"#000000\" fill-rule=\"evenodd\" fill-opacity=\"1\" /><path clip-path=\"url(#clip8100)\" d=\"M 0 0 M1135.49 1262.62 L1143.13 1262.62 L1143.13 1236.26 L1134.82 1237.92 L1134.82 1233.67 L1143.08 1232 L1147.76 1232 L1147.76 1262.62 L1155.4 1262.62 L1155.4 1266.56 L1135.49 1266.56 L1135.49 1262.62 Z\" fill=\"#000000\" fill-rule=\"evenodd\" fill-opacity=\"1\" /><path clip-path=\"url(#clip8100)\" d=\"M 0 0 M1170.47 1235.08 Q1166.86 1235.08 1165.03 1238.64 Q1163.22 1242.18 1163.22 1249.31 Q1163.22 1256.42 1165.03 1259.98 Q1166.86 1263.53 1170.47 1263.53 Q1174.1 1263.53 1175.91 1259.98 Q1177.74 1256.42 1177.74 1249.31 Q1177.74 1242.18 1175.91 1238.64 Q1174.1 1235.08 1170.47 1235.08 M1170.47 1231.37 Q1176.28 1231.37 1179.33 1235.98 Q1182.41 1240.56 1182.41 1249.31 Q1182.41 1258.04 1179.33 1262.65 Q1176.28 1267.23 1170.47 1267.23 Q1164.66 1267.23 1161.58 1262.65 Q1158.52 1258.04 1158.52 1249.31 Q1158.52 1240.56 1161.58 1235.98 Q1164.66 1231.37 1170.47 1231.37 Z\" fill=\"#000000\" fill-rule=\"evenodd\" fill-opacity=\"1\" /><path clip-path=\"url(#clip8100)\" d=\"M 0 0 M1197.48 1235.08 Q1193.87 1235.08 1192.04 1238.64 Q1190.24 1242.18 1190.24 1249.31 Q1190.24 1256.42 1192.04 1259.98 Q1193.87 1263.53 1197.48 1263.53 Q1201.12 1263.53 1202.92 1259.98 Q1204.75 1256.42 1204.75 1249.31 Q1204.75 1242.18 1202.92 1238.64 Q1201.12 1235.08 1197.48 1235.08 M1197.48 1231.37 Q1203.29 1231.37 1206.35 1235.98 Q1209.43 1240.56 1209.43 1249.31 Q1209.43 1258.04 1206.35 1262.65 Q1203.29 1267.23 1197.48 1267.23 Q1191.67 1267.23 1188.59 1262.65 Q1185.54 1258.04 1185.54 1249.31 Q1185.54 1240.56 1188.59 1235.98 Q1191.67 1231.37 1197.48 1231.37 Z\" fill=\"#000000\" fill-rule=\"evenodd\" fill-opacity=\"1\" /><path clip-path=\"url(#clip8100)\" d=\"M 0 0 M1080.7 1176.69 Q1077.09 1176.69 1075.26 1180.25 Q1073.45 1183.79 1073.45 1190.92 Q1073.45 1198.03 1075.26 1201.59 Q1077.09 1205.14 1080.7 1205.14 Q1084.33 1205.14 1086.14 1201.59 Q1087.97 1198.03 1087.97 1190.92 Q1087.97 1183.79 1086.14 1180.25 Q1084.33 1176.69 1080.7 1176.69 M1080.7 1172.98 Q1086.51 1172.98 1089.57 1177.59 Q1092.64 1182.17 1092.64 1190.92 Q1092.64 1199.65 1089.57 1204.26 Q1086.51 1208.84 1080.7 1208.84 Q1074.89 1208.84 1071.81 1204.26 Q1068.76 1199.65 1068.76 1190.92 Q1068.76 1182.17 1071.81 1177.59 Q1074.89 1172.98 1080.7 1172.98 Z\" fill=\"#000000\" fill-rule=\"evenodd\" fill-opacity=\"1\" /><path clip-path=\"url(#clip8100)\" d=\"M 0 0 M1097.71 1202.29 L1102.6 1202.29 L1102.6 1208.17 L1097.71 1208.17 L1097.71 1202.29 Z\" fill=\"#000000\" fill-rule=\"evenodd\" fill-opacity=\"1\" /><path clip-path=\"url(#clip8100)\" d=\"M 0 0 M1117.67 1176.69 Q1114.06 1176.69 1112.23 1180.25 Q1110.42 1183.79 1110.42 1190.92 Q1110.42 1198.03 1112.23 1201.59 Q1114.06 1205.14 1117.67 1205.14 Q1121.3 1205.14 1123.11 1201.59 Q1124.94 1198.03 1124.94 1190.92 Q1124.94 1183.79 1123.11 1180.25 Q1121.3 1176.69 1117.67 1176.69 M1117.67 1172.98 Q1123.48 1172.98 1126.53 1177.59 Q1129.61 1182.17 1129.61 1190.92 Q1129.61 1199.65 1126.53 1204.26 Q1123.48 1208.84 1117.67 1208.84 Q1111.86 1208.84 1108.78 1204.26 Q1105.72 1199.65 1105.72 1190.92 Q1105.72 1182.17 1108.78 1177.59 Q1111.86 1172.98 1117.67 1172.98 Z\" fill=\"#000000\" fill-rule=\"evenodd\" fill-opacity=\"1\" /><path clip-path=\"url(#clip8100)\" d=\"M 0 0 M1135.49 1204.23 L1143.13 1204.23 L1143.13 1177.87 L1134.82 1179.53 L1134.82 1175.27 L1143.08 1173.61 L1147.76 1173.61 L1147.76 1204.23 L1155.4 1204.23 L1155.4 1208.17 L1135.49 1208.17 L1135.49 1204.23 Z\" fill=\"#000000\" fill-rule=\"evenodd\" fill-opacity=\"1\" /><path clip-path=\"url(#clip8100)\" d=\"M 0 0 M1164.5 1204.23 L1180.82 1204.23 L1180.82 1208.17 L1158.87 1208.17 L1158.87 1204.23 Q1161.53 1201.48 1166.12 1196.85 Q1170.72 1192.2 1171.9 1190.85 Q1174.15 1188.33 1175.03 1186.59 Q1175.93 1184.83 1175.93 1183.14 Q1175.93 1180.39 1173.99 1178.65 Q1172.07 1176.92 1168.96 1176.92 Q1166.76 1176.92 1164.31 1177.68 Q1161.88 1178.45 1159.1 1180 L1159.1 1175.27 Q1161.93 1174.14 1164.38 1173.56 Q1166.83 1172.98 1168.87 1172.98 Q1174.24 1172.98 1177.44 1175.67 Q1180.63 1178.35 1180.63 1182.84 Q1180.63 1184.97 1179.82 1186.89 Q1179.03 1188.79 1176.93 1191.39 Q1176.35 1192.06 1173.25 1195.27 Q1170.14 1198.47 1164.5 1204.23 Z\" fill=\"#000000\" fill-rule=\"evenodd\" fill-opacity=\"1\" /><path clip-path=\"url(#clip8100)\" d=\"M 0 0 M1185.93 1173.61 L1204.29 1173.61 L1204.29 1177.54 L1190.21 1177.54 L1190.21 1186.01 Q1191.23 1185.67 1192.25 1185.51 Q1193.27 1185.32 1194.29 1185.32 Q1200.07 1185.32 1203.45 1188.49 Q1206.83 1191.66 1206.83 1197.08 Q1206.83 1202.66 1203.36 1205.76 Q1199.89 1208.84 1193.57 1208.84 Q1191.39 1208.84 1189.13 1208.47 Q1186.88 1208.1 1184.47 1207.36 L1184.47 1202.66 Q1186.56 1203.79 1188.78 1204.35 Q1191 1204.9 1193.48 1204.9 Q1197.48 1204.9 1199.82 1202.8 Q1202.16 1200.69 1202.16 1197.08 Q1202.16 1193.47 1199.82 1191.36 Q1197.48 1189.26 1193.48 1189.26 Q1191.6 1189.26 1189.73 1189.67 Q1187.88 1190.09 1185.93 1190.97 L1185.93 1173.61 Z\" fill=\"#000000\" fill-rule=\"evenodd\" fill-opacity=\"1\" /><path clip-path=\"url(#clip8100)\" d=\"M 0 0 M1080.7 1118.29 Q1077.09 1118.29 1075.26 1121.86 Q1073.45 1125.4 1073.45 1132.53 Q1073.45 1139.64 1075.26 1143.2 Q1077.09 1146.74 1080.7 1146.74 Q1084.33 1146.74 1086.14 1143.2 Q1087.97 1139.64 1087.97 1132.53 Q1087.97 1125.4 1086.14 1121.86 Q1084.33 1118.29 1080.7 1118.29 M1080.7 1114.59 Q1086.51 1114.59 1089.57 1119.2 Q1092.64 1123.78 1092.64 1132.53 Q1092.64 1141.26 1089.57 1145.86 Q1086.51 1150.45 1080.7 1150.45 Q1074.89 1150.45 1071.81 1145.86 Q1068.76 1141.26 1068.76 1132.53 Q1068.76 1123.78 1071.81 1119.2 Q1074.89 1114.59 1080.7 1114.59 Z\" fill=\"#000000\" fill-rule=\"evenodd\" fill-opacity=\"1\" /><path clip-path=\"url(#clip8100)\" d=\"M 0 0 M1097.71 1143.9 L1102.6 1143.9 L1102.6 1149.78 L1097.71 1149.78 L1097.71 1143.9 Z\" fill=\"#000000\" fill-rule=\"evenodd\" fill-opacity=\"1\" /><path clip-path=\"url(#clip8100)\" d=\"M 0 0 M1117.67 1118.29 Q1114.06 1118.29 1112.23 1121.86 Q1110.42 1125.4 1110.42 1132.53 Q1110.42 1139.64 1112.23 1143.2 Q1114.06 1146.74 1117.67 1146.74 Q1121.3 1146.74 1123.11 1143.2 Q1124.94 1139.64 1124.94 1132.53 Q1124.94 1125.4 1123.11 1121.86 Q1121.3 1118.29 1117.67 1118.29 M1117.67 1114.59 Q1123.48 1114.59 1126.53 1119.2 Q1129.61 1123.78 1129.61 1132.53 Q1129.61 1141.26 1126.53 1145.86 Q1123.48 1150.45 1117.67 1150.45 Q1111.86 1150.45 1108.78 1145.86 Q1105.72 1141.26 1105.72 1132.53 Q1105.72 1123.78 1108.78 1119.2 Q1111.86 1114.59 1117.67 1114.59 Z\" fill=\"#000000\" fill-rule=\"evenodd\" fill-opacity=\"1\" /><path clip-path=\"url(#clip8100)\" d=\"M 0 0 M1135.49 1145.84 L1143.13 1145.84 L1143.13 1119.48 L1134.82 1121.14 L1134.82 1116.88 L1143.08 1115.22 L1147.76 1115.22 L1147.76 1145.84 L1155.4 1145.84 L1155.4 1149.78 L1135.49 1149.78 L1135.49 1145.84 Z\" fill=\"#000000\" fill-rule=\"evenodd\" fill-opacity=\"1\" /><path clip-path=\"url(#clip8100)\" d=\"M 0 0 M1160.51 1115.22 L1178.87 1115.22 L1178.87 1119.15 L1164.8 1119.15 L1164.8 1127.62 Q1165.82 1127.28 1166.83 1127.11 Q1167.85 1126.93 1168.87 1126.93 Q1174.66 1126.93 1178.04 1130.1 Q1181.42 1133.27 1181.42 1138.69 Q1181.42 1144.27 1177.95 1147.37 Q1174.47 1150.45 1168.15 1150.45 Q1165.98 1150.45 1163.71 1150.08 Q1161.46 1149.71 1159.06 1148.97 L1159.06 1144.27 Q1161.14 1145.4 1163.36 1145.96 Q1165.58 1146.51 1168.06 1146.51 Q1172.07 1146.51 1174.4 1144.41 Q1176.74 1142.3 1176.74 1138.69 Q1176.74 1135.08 1174.4 1132.97 Q1172.07 1130.86 1168.06 1130.86 Q1166.19 1130.86 1164.31 1131.28 Q1162.46 1131.7 1160.51 1132.58 L1160.51 1115.22 Z\" fill=\"#000000\" fill-rule=\"evenodd\" fill-opacity=\"1\" /><path clip-path=\"url(#clip8100)\" d=\"M 0 0 M1196.49 1118.29 Q1192.88 1118.29 1191.05 1121.86 Q1189.24 1125.4 1189.24 1132.53 Q1189.24 1139.64 1191.05 1143.2 Q1192.88 1146.74 1196.49 1146.74 Q1200.12 1146.74 1201.93 1143.2 Q1203.76 1139.64 1203.76 1132.53 Q1203.76 1125.4 1201.93 1121.86 Q1200.12 1118.29 1196.49 1118.29 M1196.49 1114.59 Q1202.3 1114.59 1205.35 1119.2 Q1208.43 1123.78 1208.43 1132.53 Q1208.43 1141.26 1205.35 1145.86 Q1202.3 1150.45 1196.49 1150.45 Q1190.68 1150.45 1187.6 1145.86 Q1184.54 1141.26 1184.54 1132.53 Q1184.54 1123.78 1187.6 1119.2 Q1190.68 1114.59 1196.49 1114.59 Z\" fill=\"#000000\" fill-rule=\"evenodd\" fill-opacity=\"1\" /><path clip-path=\"url(#clip8100)\" d=\"M 0 0 M1080.7 1059.9 Q1077.09 1059.9 1075.26 1063.47 Q1073.45 1067.01 1073.45 1074.14 Q1073.45 1081.25 1075.26 1084.81 Q1077.09 1088.35 1080.7 1088.35 Q1084.33 1088.35 1086.14 1084.81 Q1087.97 1081.25 1087.97 1074.14 Q1087.97 1067.01 1086.14 1063.47 Q1084.33 1059.9 1080.7 1059.9 M1080.7 1056.2 Q1086.51 1056.2 1089.57 1060.81 Q1092.64 1065.39 1092.64 1074.14 Q1092.64 1082.87 1089.57 1087.47 Q1086.51 1092.06 1080.7 1092.06 Q1074.89 1092.06 1071.81 1087.47 Q1068.76 1082.87 1068.76 1074.14 Q1068.76 1065.39 1071.81 1060.81 Q1074.89 1056.2 1080.7 1056.2 Z\" fill=\"#000000\" fill-rule=\"evenodd\" fill-opacity=\"1\" /><path clip-path=\"url(#clip8100)\" d=\"M 0 0 M1097.71 1085.5 L1102.6 1085.5 L1102.6 1091.38 L1097.71 1091.38 L1097.71 1085.5 Z\" fill=\"#000000\" fill-rule=\"evenodd\" fill-opacity=\"1\" /><path clip-path=\"url(#clip8100)\" d=\"M 0 0 M1117.67 1059.9 Q1114.06 1059.9 1112.23 1063.47 Q1110.42 1067.01 1110.42 1074.14 Q1110.42 1081.25 1112.23 1084.81 Q1114.06 1088.35 1117.67 1088.35 Q1121.3 1088.35 1123.11 1084.81 Q1124.94 1081.25 1124.94 1074.14 Q1124.94 1067.01 1123.11 1063.47 Q1121.3 1059.9 1117.67 1059.9 M1117.67 1056.2 Q1123.48 1056.2 1126.53 1060.81 Q1129.61 1065.39 1129.61 1074.14 Q1129.61 1082.87 1126.53 1087.47 Q1123.48 1092.06 1117.67 1092.06 Q1111.86 1092.06 1108.78 1087.47 Q1105.72 1082.87 1105.72 1074.14 Q1105.72 1065.39 1108.78 1060.81 Q1111.86 1056.2 1117.67 1056.2 Z\" fill=\"#000000\" fill-rule=\"evenodd\" fill-opacity=\"1\" /><path clip-path=\"url(#clip8100)\" d=\"M 0 0 M1135.49 1087.45 L1143.13 1087.45 L1143.13 1061.08 L1134.82 1062.75 L1134.82 1058.49 L1143.08 1056.82 L1147.76 1056.82 L1147.76 1087.45 L1155.4 1087.45 L1155.4 1091.38 L1135.49 1091.38 L1135.49 1087.45 Z\" fill=\"#000000\" fill-rule=\"evenodd\" fill-opacity=\"1\" /><path clip-path=\"url(#clip8100)\" d=\"M 0 0 M1159.29 1056.82 L1181.51 1056.82 L1181.51 1058.81 L1168.96 1091.38 L1164.08 1091.38 L1175.88 1060.76 L1159.29 1060.76 L1159.29 1056.82 Z\" fill=\"#000000\" fill-rule=\"evenodd\" fill-opacity=\"1\" /><path clip-path=\"url(#clip8100)\" d=\"M 0 0 M1186.63 1056.82 L1204.98 1056.82 L1204.98 1060.76 L1190.91 1060.76 L1190.91 1069.23 Q1191.93 1068.88 1192.95 1068.72 Q1193.96 1068.54 1194.98 1068.54 Q1200.77 1068.54 1204.15 1071.71 Q1207.53 1074.88 1207.53 1080.3 Q1207.53 1085.87 1204.06 1088.98 Q1200.58 1092.06 1194.26 1092.06 Q1192.09 1092.06 1189.82 1091.69 Q1187.57 1091.31 1185.17 1090.57 L1185.17 1085.87 Q1187.25 1087.01 1189.47 1087.56 Q1191.7 1088.12 1194.17 1088.12 Q1198.18 1088.12 1200.51 1086.01 Q1202.85 1083.91 1202.85 1080.3 Q1202.85 1076.69 1200.51 1074.58 Q1198.18 1072.47 1194.17 1072.47 Q1192.3 1072.47 1190.42 1072.89 Q1188.57 1073.31 1186.63 1074.19 L1186.63 1056.82 Z\" fill=\"#000000\" fill-rule=\"evenodd\" fill-opacity=\"1\" /><path clip-path=\"url(#clip8100)\" d=\"M 0 0 M1080.7 1001.51 Q1077.09 1001.51 1075.26 1005.08 Q1073.45 1008.62 1073.45 1015.75 Q1073.45 1022.85 1075.26 1026.42 Q1077.09 1029.96 1080.7 1029.96 Q1084.33 1029.96 1086.14 1026.42 Q1087.97 1022.85 1087.97 1015.75 Q1087.97 1008.62 1086.14 1005.08 Q1084.33 1001.51 1080.7 1001.51 M1080.7 997.808 Q1086.51 997.808 1089.57 1002.41 Q1092.64 1007 1092.64 1015.75 Q1092.64 1024.47 1089.57 1029.08 Q1086.51 1033.66 1080.7 1033.66 Q1074.89 1033.66 1071.81 1029.08 Q1068.76 1024.47 1068.76 1015.75 Q1068.76 1007 1071.81 1002.41 Q1074.89 997.808 1080.7 997.808 Z\" fill=\"#000000\" fill-rule=\"evenodd\" fill-opacity=\"1\" /><path clip-path=\"url(#clip8100)\" d=\"M 0 0 M1097.71 1027.11 L1102.6 1027.11 L1102.6 1032.99 L1097.71 1032.99 L1097.71 1027.11 Z\" fill=\"#000000\" fill-rule=\"evenodd\" fill-opacity=\"1\" /><path clip-path=\"url(#clip8100)\" d=\"M 0 0 M1117.67 1001.51 Q1114.06 1001.51 1112.23 1005.08 Q1110.42 1008.62 1110.42 1015.75 Q1110.42 1022.85 1112.23 1026.42 Q1114.06 1029.96 1117.67 1029.96 Q1121.3 1029.96 1123.11 1026.42 Q1124.94 1022.85 1124.94 1015.75 Q1124.94 1008.62 1123.11 1005.08 Q1121.3 1001.51 1117.67 1001.51 M1117.67 997.808 Q1123.48 997.808 1126.53 1002.41 Q1129.61 1007 1129.61 1015.75 Q1129.61 1024.47 1126.53 1029.08 Q1123.48 1033.66 1117.67 1033.66 Q1111.86 1033.66 1108.78 1029.08 Q1105.72 1024.47 1105.72 1015.75 Q1105.72 1007 1108.78 1002.41 Q1111.86 997.808 1117.67 997.808 Z\" fill=\"#000000\" fill-rule=\"evenodd\" fill-opacity=\"1\" /><path clip-path=\"url(#clip8100)\" d=\"M 0 0 M1138.71 1029.06 L1155.03 1029.06 L1155.03 1032.99 L1133.08 1032.99 L1133.08 1029.06 Q1135.75 1026.3 1140.33 1021.67 Q1144.94 1017.02 1146.12 1015.68 Q1148.36 1013.15 1149.24 1011.42 Q1150.14 1009.66 1150.14 1007.97 Q1150.14 1005.21 1148.2 1003.48 Q1146.28 1001.74 1143.18 1001.74 Q1140.98 1001.74 1138.52 1002.51 Q1136.09 1003.27 1133.32 1004.82 L1133.32 1000.1 Q1136.14 998.965 1138.59 998.386 Q1141.05 997.808 1143.08 997.808 Q1148.45 997.808 1151.65 1000.49 Q1154.84 1003.18 1154.84 1007.67 Q1154.84 1009.8 1154.03 1011.72 Q1153.25 1013.62 1151.14 1016.21 Q1150.56 1016.88 1147.46 1020.1 Q1144.36 1023.29 1138.71 1029.06 Z\" fill=\"#000000\" fill-rule=\"evenodd\" fill-opacity=\"1\" /><path clip-path=\"url(#clip8100)\" d=\"M 0 0 M1170.1 1001.51 Q1166.49 1001.51 1164.66 1005.08 Q1162.85 1008.62 1162.85 1015.75 Q1162.85 1022.85 1164.66 1026.42 Q1166.49 1029.96 1170.1 1029.96 Q1173.73 1029.96 1175.54 1026.42 Q1177.37 1022.85 1177.37 1015.75 Q1177.37 1008.62 1175.54 1005.08 Q1173.73 1001.51 1170.1 1001.51 M1170.1 997.808 Q1175.91 997.808 1178.96 1002.41 Q1182.04 1007 1182.04 1015.75 Q1182.04 1024.47 1178.96 1029.08 Q1175.91 1033.66 1170.1 1033.66 Q1164.29 1033.66 1161.21 1029.08 Q1158.15 1024.47 1158.15 1015.75 Q1158.15 1007 1161.21 1002.41 Q1164.29 997.808 1170.1 997.808 Z\" fill=\"#000000\" fill-rule=\"evenodd\" fill-opacity=\"1\" /><path clip-path=\"url(#clip8100)\" d=\"M 0 0 M1197.11 1001.51 Q1193.5 1001.51 1191.67 1005.08 Q1189.87 1008.62 1189.87 1015.75 Q1189.87 1022.85 1191.67 1026.42 Q1193.5 1029.96 1197.11 1029.96 Q1200.75 1029.96 1202.55 1026.42 Q1204.38 1022.85 1204.38 1015.75 Q1204.38 1008.62 1202.55 1005.08 Q1200.75 1001.51 1197.11 1001.51 M1197.11 997.808 Q1202.92 997.808 1205.98 1002.41 Q1209.06 1007 1209.06 1015.75 Q1209.06 1024.47 1205.98 1029.08 Q1202.92 1033.66 1197.11 1033.66 Q1191.3 1033.66 1188.22 1029.08 Q1185.17 1024.47 1185.17 1015.75 Q1185.17 1007 1188.22 1002.41 Q1191.3 997.808 1197.11 997.808 Z\" fill=\"#000000\" fill-rule=\"evenodd\" fill-opacity=\"1\" /><path clip-path=\"url(#clip8100)\" d=\"M 0 0 M1080.7 943.12 Q1077.09 943.12 1075.26 946.684 Q1073.45 950.226 1073.45 957.356 Q1073.45 964.462 1075.26 968.027 Q1077.09 971.569 1080.7 971.569 Q1084.33 971.569 1086.14 968.027 Q1087.97 964.462 1087.97 957.356 Q1087.97 950.226 1086.14 946.684 Q1084.33 943.12 1080.7 943.12 M1080.7 939.416 Q1086.51 939.416 1089.57 944.022 Q1092.64 948.606 1092.64 957.356 Q1092.64 966.082 1089.57 970.689 Q1086.51 975.272 1080.7 975.272 Q1074.89 975.272 1071.81 970.689 Q1068.76 966.082 1068.76 957.356 Q1068.76 948.606 1071.81 944.022 Q1074.89 939.416 1080.7 939.416 Z\" fill=\"#000000\" fill-rule=\"evenodd\" fill-opacity=\"1\" /><path clip-path=\"url(#clip8100)\" d=\"M 0 0 M1097.71 968.721 L1102.6 968.721 L1102.6 974.601 L1097.71 974.601 L1097.71 968.721 Z\" fill=\"#000000\" fill-rule=\"evenodd\" fill-opacity=\"1\" /><path clip-path=\"url(#clip8100)\" d=\"M 0 0 M1117.67 943.12 Q1114.06 943.12 1112.23 946.684 Q1110.42 950.226 1110.42 957.356 Q1110.42 964.462 1112.23 968.027 Q1114.06 971.569 1117.67 971.569 Q1121.3 971.569 1123.11 968.027 Q1124.94 964.462 1124.94 957.356 Q1124.94 950.226 1123.11 946.684 Q1121.3 943.12 1117.67 943.12 M1117.67 939.416 Q1123.48 939.416 1126.53 944.022 Q1129.61 948.606 1129.61 957.356 Q1129.61 966.082 1126.53 970.689 Q1123.48 975.272 1117.67 975.272 Q1111.86 975.272 1108.78 970.689 Q1105.72 966.082 1105.72 957.356 Q1105.72 948.606 1108.78 944.022 Q1111.86 939.416 1117.67 939.416 Z\" fill=\"#000000\" fill-rule=\"evenodd\" fill-opacity=\"1\" /><path clip-path=\"url(#clip8100)\" d=\"M 0 0 M1138.71 970.666 L1155.03 970.666 L1155.03 974.601 L1133.08 974.601 L1133.08 970.666 Q1135.75 967.911 1140.33 963.282 Q1144.94 958.629 1146.12 957.286 Q1148.36 954.763 1149.24 953.027 Q1150.14 951.268 1150.14 949.578 Q1150.14 946.823 1148.2 945.087 Q1146.28 943.351 1143.18 943.351 Q1140.98 943.351 1138.52 944.115 Q1136.09 944.879 1133.32 946.43 L1133.32 941.708 Q1136.14 940.573 1138.59 939.995 Q1141.05 939.416 1143.08 939.416 Q1148.45 939.416 1151.65 942.101 Q1154.84 944.786 1154.84 949.277 Q1154.84 951.407 1154.03 953.328 Q1153.25 955.226 1151.14 957.819 Q1150.56 958.49 1147.46 961.708 Q1144.36 964.902 1138.71 970.666 Z\" fill=\"#000000\" fill-rule=\"evenodd\" fill-opacity=\"1\" /><path clip-path=\"url(#clip8100)\" d=\"M 0 0 M1164.13 970.666 L1180.45 970.666 L1180.45 974.601 L1158.5 974.601 L1158.5 970.666 Q1161.16 967.911 1165.75 963.282 Q1170.35 958.629 1171.53 957.286 Q1173.78 954.763 1174.66 953.027 Q1175.56 951.268 1175.56 949.578 Q1175.56 946.823 1173.62 945.087 Q1171.7 943.351 1168.59 943.351 Q1166.39 943.351 1163.94 944.115 Q1161.51 944.879 1158.73 946.43 L1158.73 941.708 Q1161.56 940.573 1164.01 939.995 Q1166.46 939.416 1168.5 939.416 Q1173.87 939.416 1177.07 942.101 Q1180.26 944.786 1180.26 949.277 Q1180.26 951.407 1179.45 953.328 Q1178.66 955.226 1176.56 957.819 Q1175.98 958.49 1172.88 961.708 Q1169.77 964.902 1164.13 970.666 Z\" fill=\"#000000\" fill-rule=\"evenodd\" fill-opacity=\"1\" /><path clip-path=\"url(#clip8100)\" d=\"M 0 0 M1185.56 940.041 L1203.92 940.041 L1203.92 943.976 L1189.84 943.976 L1189.84 952.448 Q1190.86 952.101 1191.88 951.939 Q1192.9 951.754 1193.92 951.754 Q1199.7 951.754 1203.08 954.925 Q1206.46 958.096 1206.46 963.513 Q1206.46 969.092 1202.99 972.194 Q1199.52 975.272 1193.2 975.272 Q1191.02 975.272 1188.76 974.902 Q1186.51 974.532 1184.1 973.791 L1184.1 969.092 Q1186.19 970.226 1188.41 970.782 Q1190.63 971.337 1193.11 971.337 Q1197.11 971.337 1199.45 969.231 Q1201.79 967.124 1201.79 963.513 Q1201.79 959.902 1199.45 957.796 Q1197.11 955.689 1193.11 955.689 Q1191.23 955.689 1189.36 956.106 Q1187.51 956.522 1185.56 957.402 L1185.56 940.041 Z\" fill=\"#000000\" fill-rule=\"evenodd\" fill-opacity=\"1\" /><polyline clip-path=\"url(#clip8100)\" style=\"stroke:#000000; stroke-width:4; stroke-opacity:1; fill:none\" points=\"\n",
       "  1032.76,1486.45 1032.76,1428.08 1056.76,1428.08 1032.76,1428.08 1032.76,1369.69 1056.76,1369.69 1032.76,1369.69 1032.76,1311.3 1056.76,1311.3 1032.76,1311.3 \n",
       "  1032.76,1252.91 1056.76,1252.91 1032.76,1252.91 1032.76,1194.52 1056.76,1194.52 1032.76,1194.52 1032.76,1136.12 1056.76,1136.12 1032.76,1136.12 1032.76,1077.73 \n",
       "  1056.76,1077.73 1032.76,1077.73 1032.76,1019.34 1056.76,1019.34 1032.76,1019.34 1032.76,960.95 1056.76,960.95 1032.76,960.95 1032.76,923.472 \n",
       "  \"/>\n",
       "</svg>\n"
      ]
     },
     "execution_count": 14,
     "metadata": {},
     "output_type": "execute_result"
    }
   ],
   "source": [
    "using Plots\n",
    "p1 = plot(xs, ys, u_real, linetype=:contourf,title = \"analytic\");\n",
    "p2 = plot(xs, ys, u_predict, linetype=:contourf,title = \"predict\");\n",
    "p3 = plot(xs, ys, diff_u,linetype=:contourf,title = \"error\");\n",
    "plot(p1,p2,p3)"
   ]
  },
  {
   "cell_type": "code",
   "execution_count": 19,
   "metadata": {},
   "outputs": [
    {
     "data": {
      "text/plain": [
       "\u001b[36mOptimizationProblem\u001b[0m. In-place: \u001b[36mtrue\u001b[0m\n",
       "u0: Float32[-0.20697483, -0.16684061, -0.40624672, -0.23700382, -0.084489375, -0.48490274, 0.06475311, 0.164296, -0.110073335, -0.28627685  …  -0.53031254, 0.046283424, 0.5655867, -0.54857427, -0.20236881, -0.00927456, 0.49797854, -0.4755905, -0.33784658, 0.0]"
      ]
     },
     "execution_count": 19,
     "metadata": {},
     "output_type": "execute_result"
    }
   ],
   "source": [
    "prob"
   ]
  },
  {
   "cell_type": "code",
   "execution_count": 20,
   "metadata": {},
   "outputs": [
    {
     "data": {
      "text/plain": [
       "337-element Array{Float32,1}:\n",
       " -0.20697483\n",
       " -0.16684061\n",
       " -0.40624672\n",
       " -0.23700382\n",
       " -0.084489375\n",
       " -0.48490274\n",
       "  0.06475311\n",
       "  0.164296\n",
       " -0.110073335\n",
       " -0.28627685\n",
       "  0.34844238\n",
       "  0.23928306\n",
       " -0.0719184\n",
       "  ⋮\n",
       "  0.39512977\n",
       "  0.20383084\n",
       " -0.53031254\n",
       "  0.046283424\n",
       "  0.5655867\n",
       " -0.54857427\n",
       " -0.20236881\n",
       " -0.00927456\n",
       "  0.49797854\n",
       " -0.4755905\n",
       " -0.33784658\n",
       "  0.0"
      ]
     },
     "execution_count": 20,
     "metadata": {},
     "output_type": "execute_result"
    }
   ],
   "source": [
    "prob.u0"
   ]
  },
  {
   "cell_type": "code",
   "execution_count": 22,
   "metadata": {},
   "outputs": [
    {
     "data": {
      "text/plain": [
       "#197 (generic function with 1 method)"
      ]
     },
     "execution_count": 22,
     "metadata": {},
     "output_type": "execute_result"
    }
   ],
   "source": [
    "discretization.phi"
   ]
  },
  {
   "cell_type": "code",
   "execution_count": 23,
   "metadata": {
    "scrolled": true
   },
   "outputs": [
    {
     "name": "stdout",
     "output_type": "stream",
     "text": [
      "Current loss is: 0.7280750233335221\n"
     ]
    },
    {
     "name": "stderr",
     "output_type": "stream",
     "text": [
      "\u001b[32mloss: 1.36:   0%|▏                                      |  ETA: 0:00:26\u001b[39m"
     ]
    },
    {
     "name": "stdout",
     "output_type": "stream",
     "text": [
      "Current loss is: 1.361297447657123\n",
      "Current loss is: 0.7702980586035466\n",
      "Current loss is: 0.11427249371633802\n"
     ]
    },
    {
     "name": "stderr",
     "output_type": "stream",
     "text": [
      "\u001b[32mloss: 0.267:   1%|▍                                     |  ETA: 0:00:21\u001b[39m"
     ]
    },
    {
     "name": "stdout",
     "output_type": "stream",
     "text": [
      "Current loss is: 0.26749119854887293\n",
      "Current loss is: 0.5335214080796437\n"
     ]
    },
    {
     "name": "stderr",
     "output_type": "stream",
     "text": [
      "\u001b[32mloss: 0.443:   1%|▌                                     |  ETA: 0:00:22\u001b[39m"
     ]
    },
    {
     "name": "stdout",
     "output_type": "stream",
     "text": [
      "Current loss is: 0.4432362833245211\n",
      "Current loss is: 0.21604798943287332\n",
      "Current loss is: 0.0943768664480899\n"
     ]
    },
    {
     "name": "stderr",
     "output_type": "stream",
     "text": [
      "\u001b[32mloss: 0.115:   2%|▊                                     |  ETA: 0:00:21\u001b[39m"
     ]
    },
    {
     "name": "stdout",
     "output_type": "stream",
     "text": [
      "Current loss is: 0.1151918922831384\n",
      "Current loss is: 0.1947660504820746\n"
     ]
    },
    {
     "name": "stderr",
     "output_type": "stream",
     "text": [
      "\u001b[32mloss: 0.246:   2%|▉                                     |  ETA: 0:00:21\u001b[39m"
     ]
    },
    {
     "name": "stdout",
     "output_type": "stream",
     "text": [
      "Current loss is: 0.24635675653210026\n",
      "Current loss is: 0.23697063439475916\n",
      "Current loss is: 0.18345358656887256\n"
     ]
    },
    {
     "name": "stderr",
     "output_type": "stream",
     "text": [
      "\u001b[32mloss: 0.122:   3%|█▏                                    |  ETA: 0:00:21\u001b[39m"
     ]
    },
    {
     "name": "stdout",
     "output_type": "stream",
     "text": [
      "Current loss is: 0.12241382289086297\n",
      "Current loss is: 0.08343689785934418\n",
      "Current loss is: 0.07658297086675896\n"
     ]
    },
    {
     "name": "stderr",
     "output_type": "stream",
     "text": [
      "\u001b[32mloss: 0.0933:   4%|█▍                                   |  ETA: 0:00:20\u001b[39m"
     ]
    },
    {
     "name": "stdout",
     "output_type": "stream",
     "text": [
      "Current loss is: 0.09331549067201922\n",
      "Current loss is: 0.11567979355742136\n",
      "Current loss is: 0.1275305053669267\n"
     ]
    },
    {
     "name": "stderr",
     "output_type": "stream",
     "text": [
      "\u001b[32mloss: 0.122:   4%|█▋                                    |  ETA: 0:00:20\u001b[39m"
     ]
    },
    {
     "name": "stdout",
     "output_type": "stream",
     "text": [
      "Current loss is: 0.12209618362923418\n",
      "Current loss is: 0.10289417900747083\n",
      "Current loss is: 0.079274979318077\n"
     ]
    },
    {
     "name": "stderr",
     "output_type": "stream",
     "text": [
      "\u001b[32mloss: 0.0605:   5%|█▊                                   |  ETA: 0:00:21\u001b[39m"
     ]
    },
    {
     "name": "stdout",
     "output_type": "stream",
     "text": [
      "Current loss is: 0.060465129315034165\n",
      "Current loss is: 0.05142850741915408\n",
      "Current loss is: 0.05177133247899884\n"
     ]
    },
    {
     "name": "stderr",
     "output_type": "stream",
     "text": [
      "\u001b[32mloss: 0.0572:   5%|██                                   |  ETA: 0:00:20\u001b[39m"
     ]
    },
    {
     "name": "stdout",
     "output_type": "stream",
     "text": [
      "Current loss is: 0.05718989730501029\n",
      "Current loss is: 0.06218898292740263\n",
      "Current loss is: 0.06271266468807729\n"
     ]
    },
    {
     "name": "stderr",
     "output_type": "stream",
     "text": [
      "\u001b[32mloss: 0.0576:   6%|██▎                                  |  ETA: 0:00:20\u001b[39m"
     ]
    },
    {
     "name": "stdout",
     "output_type": "stream",
     "text": [
      "Current loss is: 0.05764946592114911\n",
      "Current loss is: 0.048790710421299885\n",
      "Current loss is: 0.03953244925332605\n"
     ]
    },
    {
     "name": "stderr",
     "output_type": "stream",
     "text": [
      "\u001b[32mloss: 0.0331:   7%|██▌                                  |  ETA: 0:00:20\u001b[39m"
     ]
    },
    {
     "name": "stdout",
     "output_type": "stream",
     "text": [
      "Current loss is: 0.03309360278397114\n",
      "Current loss is: 0.03108787206680541\n",
      "Current loss is: 0.033003084063664895\n"
     ]
    },
    {
     "name": "stderr",
     "output_type": "stream",
     "text": [
      "\u001b[32mloss: 0.0367:   7%|██▋                                  |  ETA: 0:00:19\u001b[39m"
     ]
    },
    {
     "name": "stdout",
     "output_type": "stream",
     "text": [
      "Current loss is: 0.03669789457150197\n",
      "Current loss is: 0.039586239332491516\n",
      "Current loss is: 0.039888564889160816\n"
     ]
    },
    {
     "name": "stderr",
     "output_type": "stream",
     "text": [
      "\u001b[32mloss: 0.0373:   8%|██▉                                  |  ETA: 0:00:19\u001b[39m"
     ]
    },
    {
     "name": "stdout",
     "output_type": "stream",
     "text": [
      "Current loss is: 0.03733471680060066\n",
      "Current loss is: 0.03303961377648497\n",
      "Current loss is: 0.028741371624523174\n"
     ]
    },
    {
     "name": "stderr",
     "output_type": "stream",
     "text": [
      "\u001b[32mloss: 0.0259:   8%|███▏                                 |  ETA: 0:00:19\u001b[39m"
     ]
    },
    {
     "name": "stdout",
     "output_type": "stream",
     "text": [
      "Current loss is: 0.02588983320258313\n",
      "Current loss is: 0.02505169164882416\n",
      "Current loss is: 0.025841878686201566\n"
     ]
    },
    {
     "name": "stderr",
     "output_type": "stream",
     "text": [
      "\u001b[32mloss: 0.0273:   9%|███▍                                 |  ETA: 0:00:19\u001b[39m"
     ]
    },
    {
     "name": "stdout",
     "output_type": "stream",
     "text": [
      "Current loss is: 0.027295432622105553\n",
      "Current loss is: 0.02841215558245847\n",
      "Current loss is: 0.02858942657079625\n"
     ]
    },
    {
     "name": "stderr",
     "output_type": "stream",
     "text": [
      "\u001b[32mloss: 0.0278:  10%|███▌                                 |  ETA: 0:00:19\u001b[39m"
     ]
    },
    {
     "name": "stdout",
     "output_type": "stream",
     "text": [
      "Current loss is: 0.02777407658482304\n",
      "Current loss is: 0.02633234983271461\n",
      "Current loss is: 0.02476907872026958\n"
     ]
    },
    {
     "name": "stderr",
     "output_type": "stream",
     "text": [
      "\u001b[32mloss: 0.0235:  10%|███▊                                 |  ETA: 0:00:19\u001b[39m"
     ]
    },
    {
     "name": "stdout",
     "output_type": "stream",
     "text": [
      "Current loss is: 0.023466426311558115\n",
      "Current loss is: 0.02255859360447766\n",
      "Current loss is: 0.021960448414524318\n"
     ]
    },
    {
     "name": "stderr",
     "output_type": "stream",
     "text": [
      "\u001b[32mloss: 0.0215:  11%|████                                 |  ETA: 0:00:19\u001b[39m"
     ]
    },
    {
     "name": "stdout",
     "output_type": "stream",
     "text": [
      "Current loss is: 0.021486826369401746\n",
      "Current loss is: 0.020973628635211065\n",
      "Current loss is: 0.020341426750537458\n"
     ]
    },
    {
     "name": "stderr",
     "output_type": "stream",
     "text": [
      "\u001b[32mloss: 0.0196:  11%|████▎                                |  ETA: 0:00:18\u001b[39m"
     ]
    },
    {
     "name": "stdout",
     "output_type": "stream",
     "text": [
      "Current loss is: 0.01959478309778269\n",
      "Current loss is: 0.01878581370001742\n",
      "Current loss is: 0.01797311984197463\n"
     ]
    },
    {
     "name": "stderr",
     "output_type": "stream",
     "text": [
      "\u001b[32mloss: 0.0172:  12%|████▌                                |  ETA: 0:00:18\u001b[39m"
     ]
    },
    {
     "name": "stdout",
     "output_type": "stream",
     "text": [
      "Current loss is: 0.017193288892566997\n",
      "Current loss is: 0.016450858006228673\n",
      "Current loss is: 0.01572530611415575\n"
     ]
    },
    {
     "name": "stderr",
     "output_type": "stream",
     "text": [
      "\u001b[32mloss: 0.015:  13%|████▊                                 |  ETA: 0:00:18\u001b[39m"
     ]
    },
    {
     "name": "stdout",
     "output_type": "stream",
     "text": [
      "Current loss is: 0.014986480069412365\n",
      "Current loss is: 0.01420749424631522\n",
      "Current loss is: 0.013370874181110182\n"
     ]
    },
    {
     "name": "stderr",
     "output_type": "stream",
     "text": [
      "\u001b[32mloss: 0.0125:  13%|████▉                                |  ETA: 0:00:18\u001b[39m"
     ]
    },
    {
     "name": "stdout",
     "output_type": "stream",
     "text": [
      "Current loss is: 0.012472847495918739\n",
      "Current loss is: 0.011530953917025827\n",
      "Current loss is: 0.010591036927806443\n"
     ]
    },
    {
     "name": "stderr",
     "output_type": "stream",
     "text": [
      "\u001b[32mloss: 0.00972:  14%|█████                               |  ETA: 0:00:18\u001b[39m"
     ]
    },
    {
     "name": "stdout",
     "output_type": "stream",
     "text": [
      "Current loss is: 0.009722571241630559\n",
      "Current loss is: 0.008994850151207299\n",
      "Current loss is: 0.00844025450384826\n"
     ]
    },
    {
     "name": "stderr",
     "output_type": "stream",
     "text": [
      "\u001b[32mloss: 0.00803:  14%|█████▏                              |  ETA: 0:00:18\u001b[39m"
     ]
    },
    {
     "name": "stdout",
     "output_type": "stream",
     "text": [
      "Current loss is: 0.0080281801725748\n",
      "Current loss is: 0.007677525711062636\n",
      "Current loss is: 0.007308692223010786\n"
     ]
    },
    {
     "name": "stderr",
     "output_type": "stream",
     "text": [
      "\u001b[32mloss: 0.0069:  15%|█████▌                               |  ETA: 0:00:18\u001b[39m"
     ]
    },
    {
     "name": "stdout",
     "output_type": "stream",
     "text": [
      "Current loss is: 0.0068956580388201015\n",
      "Current loss is: 0.006475049054771821\n",
      "Current loss is: 0.006109061234606211\n"
     ]
    },
    {
     "name": "stderr",
     "output_type": "stream",
     "text": [
      "\u001b[32mloss: 0.00584:  16%|█████▋                              |  ETA: 0:00:17\u001b[39m"
     ]
    },
    {
     "name": "stdout",
     "output_type": "stream",
     "text": [
      "Current loss is: 0.005835426548896361\n",
      "Current loss is: 0.005641208751945216\n"
     ]
    },
    {
     "name": "stderr",
     "output_type": "stream",
     "text": [
      "\u001b[32mloss: 0.00548:  16%|█████▊                              |  ETA: 0:00:18\u001b[39m"
     ]
    },
    {
     "name": "stdout",
     "output_type": "stream",
     "text": [
      "Current loss is: 0.005475760947283368\n",
      "Current loss is: 0.005289449621659727\n",
      "Current loss is: 0.005067118020087626\n"
     ]
    },
    {
     "name": "stderr",
     "output_type": "stream",
     "text": [
      "\u001b[32mloss: 0.00483:  17%|██████                              |  ETA: 0:00:17\u001b[39m"
     ]
    },
    {
     "name": "stdout",
     "output_type": "stream",
     "text": [
      "Current loss is: 0.004832564745451965\n",
      "Current loss is: 0.004625220271566418\n",
      "Current loss is: 0.0044696359660904425\n"
     ]
    },
    {
     "name": "stderr",
     "output_type": "stream",
     "text": [
      "\u001b[32mloss: 0.00436:  17%|██████▎                             |  ETA: 0:00:17\u001b[39m"
     ]
    },
    {
     "name": "stdout",
     "output_type": "stream",
     "text": [
      "Current loss is: 0.0043594530759061565\n",
      "Current loss is: 0.004264244105627642\n",
      "Current loss is: 0.004151386279868158\n"
     ]
    },
    {
     "name": "stderr",
     "output_type": "stream",
     "text": [
      "\u001b[32mloss: 0.00401:  18%|██████▍                             |  ETA: 0:00:17\u001b[39m"
     ]
    },
    {
     "name": "stdout",
     "output_type": "stream",
     "text": [
      "Current loss is: 0.004006640436520493\n",
      "Current loss is: 0.00384067970644923\n",
      "Current loss is: 0.003679740949669522\n"
     ]
    },
    {
     "name": "stderr",
     "output_type": "stream",
     "text": [
      "\u001b[32mloss: 0.00355:  18%|██████▋                             |  ETA: 0:00:17\u001b[39m"
     ]
    },
    {
     "name": "stdout",
     "output_type": "stream",
     "text": [
      "Current loss is: 0.003548440584584813\n",
      "Current loss is: 0.0034561810170753533\n",
      "Current loss is: 0.0033947506481844503\n"
     ]
    },
    {
     "name": "stderr",
     "output_type": "stream",
     "text": [
      "\u001b[32mloss: 0.00335:  19%|██████▉                             |  ETA: 0:00:17\u001b[39m"
     ]
    },
    {
     "name": "stdout",
     "output_type": "stream",
     "text": [
      "Current loss is: 0.0033466607441318633\n",
      "Current loss is: 0.003296969718801098\n",
      "Current loss is: 0.0032404385373780123\n"
     ]
    },
    {
     "name": "stderr",
     "output_type": "stream",
     "text": [
      "\u001b[32mloss: 0.00318:  20%|███████                             |  ETA: 0:00:17\u001b[39m"
     ]
    },
    {
     "name": "stdout",
     "output_type": "stream",
     "text": [
      "Current loss is: 0.003180702171214299\n",
      "Current loss is: 0.003124121985747637\n",
      "Current loss is: 0.00307376665491126\n"
     ]
    },
    {
     "name": "stderr",
     "output_type": "stream",
     "text": [
      "\u001b[32mloss: 0.00303:  20%|███████▎                            |  ETA: 0:00:17\u001b[39m"
     ]
    },
    {
     "name": "stdout",
     "output_type": "stream",
     "text": [
      "Current loss is: 0.003027583709321082\n",
      "Current loss is: 0.002981125592793021\n",
      "Current loss is: 0.0029319319257561883\n"
     ]
    },
    {
     "name": "stderr",
     "output_type": "stream",
     "text": [
      "\u001b[32mloss: 0.00288:  21%|███████▌                            |  ETA: 0:00:16\u001b[39m"
     ]
    },
    {
     "name": "stdout",
     "output_type": "stream",
     "text": [
      "Current loss is: 0.0028818945251399023\n",
      "Current loss is: 0.0028358868130554725\n",
      "Current loss is: 0.0027979978434858033\n"
     ]
    },
    {
     "name": "stderr",
     "output_type": "stream",
     "text": [
      "\u001b[32mloss: 0.00277:  21%|███████▊                            |  ETA: 0:00:16\u001b[39m"
     ]
    },
    {
     "name": "stdout",
     "output_type": "stream",
     "text": [
      "Current loss is: 0.002768548231342527\n",
      "Current loss is: 0.0027442805346930225\n",
      "Current loss is: 0.002721396635975206\n"
     ]
    },
    {
     "name": "stderr",
     "output_type": "stream",
     "text": [
      "\u001b[32mloss: 0.0027:  22%|████████▏                            |  ETA: 0:00:16\u001b[39m"
     ]
    },
    {
     "name": "stdout",
     "output_type": "stream",
     "text": [
      "Current loss is: 0.0026987446287136826\n",
      "Current loss is: 0.002678470171514755\n"
     ]
    },
    {
     "name": "stderr",
     "output_type": "stream",
     "text": [
      "\u001b[32mloss: 0.00266:  22%|████████▏                           |  ETA: 0:00:16\u001b[39m"
     ]
    },
    {
     "name": "stdout",
     "output_type": "stream",
     "text": [
      "Current loss is: 0.00266373073450971\n",
      "Current loss is: 0.0026555605514400242\n",
      "Current loss is: 0.002651559072267516\n"
     ]
    },
    {
     "name": "stderr",
     "output_type": "stream",
     "text": [
      "\u001b[32mloss: 0.00265:  23%|████████▎                           |  ETA: 0:00:16\u001b[39m"
     ]
    },
    {
     "name": "stdout",
     "output_type": "stream",
     "text": [
      "Current loss is: 0.002647398464326614\n",
      "Current loss is: 0.002639771260870035\n",
      "Current loss is: 0.0026283533339466108\n"
     ]
    },
    {
     "name": "stderr",
     "output_type": "stream",
     "text": [
      "\u001b[32mloss: 0.00262:  24%|████████▌                           |  ETA: 0:00:16\u001b[39m"
     ]
    },
    {
     "name": "stdout",
     "output_type": "stream",
     "text": [
      "Current loss is: 0.0026153847816952976\n",
      "Current loss is: 0.0026035188507230606\n",
      "Current loss is: 0.002593841084955569\n"
     ]
    },
    {
     "name": "stderr",
     "output_type": "stream",
     "text": [
      "\u001b[32mloss: 0.00259:  24%|████████▊                           |  ETA: 0:00:16\u001b[39m"
     ]
    },
    {
     "name": "stdout",
     "output_type": "stream",
     "text": [
      "Current loss is: 0.002585517253228957\n",
      "Current loss is: 0.0025769771518594866\n",
      "Current loss is: 0.002567352462716063\n"
     ]
    },
    {
     "name": "stderr",
     "output_type": "stream",
     "text": [
      "\u001b[32mloss: 0.00256:  25%|████████▉                           |  ETA: 0:00:16\u001b[39m"
     ]
    },
    {
     "name": "stdout",
     "output_type": "stream",
     "text": [
      "Current loss is: 0.0025569715141885974\n",
      "Current loss is: 0.0025467592366510776\n",
      "Current loss is: 0.0025373176362726334\n"
     ]
    },
    {
     "name": "stderr",
     "output_type": "stream",
     "text": [
      "\u001b[32mloss: 0.00253:  25%|█████████▏                          |  ETA: 0:00:16\u001b[39m"
     ]
    },
    {
     "name": "stdout",
     "output_type": "stream",
     "text": [
      "Current loss is: 0.002528522530028447\n",
      "Current loss is: 0.0025198224722706784\n"
     ]
    },
    {
     "name": "stderr",
     "output_type": "stream",
     "text": [
      "\u001b[32mloss: 0.0025:  26%|█████████▋                           |  ETA: 0:00:15\u001b[39m"
     ]
    },
    {
     "name": "stdout",
     "output_type": "stream",
     "text": [
      "Current loss is: 0.002510786438243727\n",
      "Current loss is: 0.002501360435610866\n",
      "Current loss is: 0.002491704503141642\n"
     ]
    },
    {
     "name": "stderr",
     "output_type": "stream",
     "text": [
      "\u001b[32mloss: 0.00247:  27%|█████████▋                          |  ETA: 0:00:15\u001b[39m"
     ]
    },
    {
     "name": "stdout",
     "output_type": "stream",
     "text": [
      "Current loss is: 0.002481904246444502\n",
      "Current loss is: 0.0024718954446783467\n",
      "Current loss is: 0.002461639721979064\n"
     ]
    },
    {
     "name": "stderr",
     "output_type": "stream",
     "text": [
      "\u001b[32mloss: 0.00244:  27%|█████████▊                          |  ETA: 0:00:15\u001b[39m"
     ]
    },
    {
     "name": "stdout",
     "output_type": "stream",
     "text": [
      "Current loss is: 0.0024513021500673898\n",
      "Current loss is: 0.0024412000274101685\n",
      "Current loss is: 0.0024315582914302618\n"
     ]
    },
    {
     "name": "stderr",
     "output_type": "stream",
     "text": [
      "\u001b[32mloss: 0.00242:  28%|█████████▉                          |  ETA: 0:00:15\u001b[39m"
     ]
    },
    {
     "name": "stdout",
     "output_type": "stream",
     "text": [
      "Current loss is: 0.002422322033882471\n",
      "Current loss is: 0.0024132175362117808\n",
      "Current loss is: 0.0024040007892527976\n"
     ]
    },
    {
     "name": "stderr",
     "output_type": "stream",
     "text": [
      "\u001b[32mloss: 0.00239:  28%|██████████▏                         |  ETA: 0:00:15\u001b[39m"
     ]
    },
    {
     "name": "stdout",
     "output_type": "stream",
     "text": [
      "Current loss is: 0.002394653370813477\n",
      "Current loss is: 0.002385352063090168\n",
      "Current loss is: 0.002376264863147151\n"
     ]
    },
    {
     "name": "stderr",
     "output_type": "stream",
     "text": [
      "\u001b[32mloss: 0.00237:  29%|██████████▍                         |  ETA: 0:00:15\u001b[39m"
     ]
    },
    {
     "name": "stdout",
     "output_type": "stream",
     "text": [
      "Current loss is: 0.002367381296802432\n",
      "Current loss is: 0.002358527988049355\n",
      "Current loss is: 0.002349532600546128\n"
     ]
    },
    {
     "name": "stderr",
     "output_type": "stream",
     "text": [
      "\u001b[32mloss: 0.00234:  29%|██████████▋                         |  ETA: 0:00:15\u001b[39m"
     ]
    },
    {
     "name": "stdout",
     "output_type": "stream",
     "text": [
      "Current loss is: 0.0023403680727073547\n",
      "Current loss is: 0.0023311529047891576\n",
      "Current loss is: 0.0023220321305475453\n"
     ]
    },
    {
     "name": "stderr",
     "output_type": "stream",
     "text": [
      "\u001b[32mloss: 0.00231:  30%|██████████▊                         |  ETA: 0:00:15\u001b[39m"
     ]
    },
    {
     "name": "stdout",
     "output_type": "stream",
     "text": [
      "Current loss is: 0.0023130651382100996\n",
      "Current loss is: 0.0023042131950319128\n",
      "Current loss is: 0.0022954096603898535\n"
     ]
    },
    {
     "name": "stderr",
     "output_type": "stream",
     "text": [
      "\u001b[32mloss: 0.00229:  31%|███████████                         |  ETA: 0:00:15\u001b[39m"
     ]
    },
    {
     "name": "stdout",
     "output_type": "stream",
     "text": [
      "Current loss is: 0.002286626902789263\n",
      "Current loss is: 0.00227788022917153\n",
      "Current loss is: 0.0022691875446397016\n"
     ]
    },
    {
     "name": "stderr",
     "output_type": "stream",
     "text": [
      "\u001b[32mloss: 0.00226:  31%|███████████▎                        |  ETA: 0:00:14\u001b[39m"
     ]
    },
    {
     "name": "stdout",
     "output_type": "stream",
     "text": [
      "Current loss is: 0.0022605398937649928\n",
      "Current loss is: 0.0022519120653981136\n",
      "Current loss is: 0.0022432905134843195\n"
     ]
    },
    {
     "name": "stderr",
     "output_type": "stream",
     "text": [
      "\u001b[32mloss: 0.00223:  32%|███████████▌                        |  ETA: 0:00:14\u001b[39m"
     ]
    },
    {
     "name": "stdout",
     "output_type": "stream",
     "text": [
      "Current loss is: 0.002234681421213558\n",
      "Current loss is: 0.002226092520238572\n",
      "Current loss is: 0.002217514949495592\n"
     ]
    },
    {
     "name": "stderr",
     "output_type": "stream",
     "text": [
      "\u001b[32mloss: 0.00221:  32%|███████████▋                        |  ETA: 0:00:14\u001b[39m"
     ]
    },
    {
     "name": "stdout",
     "output_type": "stream",
     "text": [
      "Current loss is: 0.002208929500396753\n",
      "Current loss is: 0.002200329050245025\n",
      "Current loss is: 0.0021917298715003067\n"
     ]
    },
    {
     "name": "stderr",
     "output_type": "stream",
     "text": [
      "\u001b[32mloss: 0.00218:  33%|███████████▉                        |  ETA: 0:00:14\u001b[39m"
     ]
    },
    {
     "name": "stdout",
     "output_type": "stream",
     "text": [
      "Current loss is: 0.0021831568118050623\n",
      "Current loss is: 0.002174618267483953\n",
      "Current loss is: 0.002166098012218317\n"
     ]
    },
    {
     "name": "stderr",
     "output_type": "stream",
     "text": [
      "\u001b[32mloss: 0.00216:  34%|████████████▏                       |  ETA: 0:00:14\u001b[39m"
     ]
    },
    {
     "name": "stdout",
     "output_type": "stream",
     "text": [
      "Current loss is: 0.0021575713310877428\n",
      "Current loss is: 0.0021490279683002555\n",
      "Current loss is: 0.0021404778369147593\n"
     ]
    },
    {
     "name": "stderr",
     "output_type": "stream",
     "text": [
      "\u001b[32mloss: 0.00213:  34%|████████████▎                       |  ETA: 0:00:14\u001b[39m"
     ]
    },
    {
     "name": "stdout",
     "output_type": "stream",
     "text": [
      "Current loss is: 0.0021319370717806803\n",
      "Current loss is: 0.002123411277518901\n",
      "Current loss is: 0.002114892877450176\n"
     ]
    },
    {
     "name": "stderr",
     "output_type": "stream",
     "text": [
      "\u001b[32mloss: 0.00211:  35%|████████████▌                       |  ETA: 0:00:14\u001b[39m"
     ]
    },
    {
     "name": "stdout",
     "output_type": "stream",
     "text": [
      "Current loss is: 0.0021063726183277714\n",
      "Current loss is: 0.002097850150358511\n",
      "Current loss is: 0.002089333440138791\n"
     ]
    },
    {
     "name": "stderr",
     "output_type": "stream",
     "text": [
      "\u001b[32mloss: 0.00208:  35%|████████████▊                       |  ETA: 0:00:14\u001b[39m"
     ]
    },
    {
     "name": "stdout",
     "output_type": "stream",
     "text": [
      "Current loss is: 0.0020808303795417844\n",
      "Current loss is: 0.0020723425279999368\n",
      "Current loss is: 0.002063866994484621\n"
     ]
    },
    {
     "name": "stderr",
     "output_type": "stream",
     "text": [
      "\u001b[32mloss: 0.00206:  36%|█████████████                       |  ETA: 0:00:13\u001b[39m"
     ]
    },
    {
     "name": "stdout",
     "output_type": "stream",
     "text": [
      "Current loss is: 0.0020554017553487025\n",
      "Current loss is: 0.002046947264692473\n",
      "Current loss is: 0.002038504073419298\n"
     ]
    },
    {
     "name": "stderr",
     "output_type": "stream",
     "text": [
      "\u001b[32mloss: 0.00203:  37%|█████████████▏                      |  ETA: 0:00:13\u001b[39m"
     ]
    },
    {
     "name": "stdout",
     "output_type": "stream",
     "text": [
      "Current loss is: 0.0020300707553610013\n",
      "Current loss is: 0.0020216451666393376\n"
     ]
    },
    {
     "name": "stderr",
     "output_type": "stream",
     "text": [
      "\u001b[32mloss: 0.00201:  37%|█████████████▍                      |  ETA: 0:00:13\u001b[39m"
     ]
    },
    {
     "name": "stdout",
     "output_type": "stream",
     "text": [
      "Current loss is: 0.002013227248439476\n",
      "Current loss is: 0.002004819062096233\n",
      "Current loss is: 0.00199642235686352\n"
     ]
    },
    {
     "name": "stderr",
     "output_type": "stream",
     "text": [
      "\u001b[32mloss: 0.00199:  38%|█████████████▌                      |  ETA: 0:00:13\u001b[39m"
     ]
    },
    {
     "name": "stdout",
     "output_type": "stream",
     "text": [
      "Current loss is: 0.001988036545058185\n",
      "Current loss is: 0.0019796598250648705\n",
      "Current loss is: 0.0019712917074737597\n"
     ]
    },
    {
     "name": "stderr",
     "output_type": "stream",
     "text": [
      "\u001b[32mloss: 0.00196:  38%|█████████████▊                      |  ETA: 0:00:13\u001b[39m"
     ]
    },
    {
     "name": "stdout",
     "output_type": "stream",
     "text": [
      "Current loss is: 0.0019629339831819656\n",
      "Current loss is: 0.0019545887591382203\n",
      "Current loss is: 0.0019462564728419634\n"
     ]
    },
    {
     "name": "stderr",
     "output_type": "stream",
     "text": [
      "\u001b[32mloss: 0.00194:  39%|██████████████                      |  ETA: 0:00:13\u001b[39m"
     ]
    },
    {
     "name": "stdout",
     "output_type": "stream",
     "text": [
      "Current loss is: 0.001937935680560595\n",
      "Current loss is: 0.0019296249793941168\n",
      "Current loss is: 0.0019213243577825385\n"
     ]
    },
    {
     "name": "stderr",
     "output_type": "stream",
     "text": [
      "\u001b[32mloss: 0.00191:  39%|██████████████▏                     |  ETA: 0:00:13\u001b[39m"
     ]
    },
    {
     "name": "stdout",
     "output_type": "stream",
     "text": [
      "Current loss is: 0.0019130346167514545\n",
      "Current loss is: 0.0019047562556659945\n",
      "Current loss is: 0.0018964889092093614\n"
     ]
    },
    {
     "name": "stderr",
     "output_type": "stream",
     "text": [
      "\u001b[32mloss: 0.00189:  40%|██████████████▍                     |  ETA: 0:00:13\u001b[39m"
     ]
    },
    {
     "name": "stdout",
     "output_type": "stream",
     "text": [
      "Current loss is: 0.001888232149426441\n",
      "Current loss is: 0.001879986001466343\n",
      "Current loss is: 0.001871750942833429\n"
     ]
    },
    {
     "name": "stderr",
     "output_type": "stream",
     "text": [
      "\u001b[32mloss: 0.00186:  41%|██████████████▋                     |  ETA: 0:00:12\u001b[39m"
     ]
    },
    {
     "name": "stdout",
     "output_type": "stream",
     "text": [
      "Current loss is: 0.0018635271027526207\n",
      "Current loss is: 0.0018553142433459643\n",
      "Current loss is: 0.0018471122933764689\n"
     ]
    },
    {
     "name": "stderr",
     "output_type": "stream",
     "text": [
      "\u001b[32mloss: 0.00184:  41%|██████████████▉                     |  ETA: 0:00:12\u001b[39m"
     ]
    },
    {
     "name": "stdout",
     "output_type": "stream",
     "text": [
      "Current loss is: 0.0018389213342575195\n",
      "Current loss is: 0.0018307416227757614\n",
      "Current loss is: 0.0018225730073869754\n"
     ]
    },
    {
     "name": "stderr",
     "output_type": "stream",
     "text": [
      "\u001b[32mloss: 0.00181:  42%|███████████████                     |  ETA: 0:00:12\u001b[39m"
     ]
    },
    {
     "name": "stdout",
     "output_type": "stream",
     "text": [
      "Current loss is: 0.0018144150503261469\n",
      "Current loss is: 0.0018062674926921042\n",
      "Current loss is: 0.0017981305066410945\n"
     ]
    },
    {
     "name": "stderr",
     "output_type": "stream",
     "text": [
      "\u001b[32mloss: 0.00179:  42%|███████████████▎                    |  ETA: 0:00:12\u001b[39m"
     ]
    },
    {
     "name": "stdout",
     "output_type": "stream",
     "text": [
      "Current loss is: 0.0017900043757970354\n",
      "Current loss is: 0.0017818891280361416\n",
      "Current loss is: 0.0017737845386259516\n"
     ]
    },
    {
     "name": "stderr",
     "output_type": "stream",
     "text": [
      "\u001b[32mloss: 0.00177:  43%|███████████████▌                    |  ETA: 0:00:12\u001b[39m"
     ]
    },
    {
     "name": "stdout",
     "output_type": "stream",
     "text": [
      "Current loss is: 0.0017656904201603916\n",
      "Current loss is: 0.0017576067136403247\n",
      "Current loss is: 0.001749533505259708\n"
     ]
    },
    {
     "name": "stderr",
     "output_type": "stream",
     "text": [
      "\u001b[32mloss: 0.00174:  44%|███████████████▊                    |  ETA: 0:00:12\u001b[39m"
     ]
    },
    {
     "name": "stdout",
     "output_type": "stream",
     "text": [
      "Current loss is: 0.0017414707003413712\n",
      "Current loss is: 0.0017334180962196766\n"
     ]
    },
    {
     "name": "stderr",
     "output_type": "stream",
     "text": [
      "\u001b[32mloss: 0.00173:  44%|███████████████▉                    |  ETA: 0:00:12\u001b[39m"
     ]
    },
    {
     "name": "stdout",
     "output_type": "stream",
     "text": [
      "Current loss is: 0.001725375443938073\n",
      "Current loss is: 0.0017173426095341978\n",
      "Current loss is: 0.0017093194818273393\n"
     ]
    },
    {
     "name": "stderr",
     "output_type": "stream",
     "text": [
      "\u001b[32mloss: 0.0017:  45%|████████████████▌                    |  ETA: 0:00:12\u001b[39m"
     ]
    },
    {
     "name": "stdout",
     "output_type": "stream",
     "text": [
      "Current loss is: 0.0017013058657982902\n",
      "Current loss is: 0.00169330161047197\n",
      "Current loss is: 0.0016853066053778495\n"
     ]
    },
    {
     "name": "stderr",
     "output_type": "stream",
     "text": [
      "\u001b[32mloss: 0.00168:  45%|████████████████▎                   |  ETA: 0:00:11\u001b[39m"
     ]
    },
    {
     "name": "stdout",
     "output_type": "stream",
     "text": [
      "Current loss is: 0.0016773206753169813\n",
      "Current loss is: 0.0016693437135293825\n",
      "Current loss is: 0.001661375479026326\n"
     ]
    },
    {
     "name": "stderr",
     "output_type": "stream",
     "text": [
      "\u001b[32mloss: 0.00165:  46%|████████████████▌                   |  ETA: 0:00:11\u001b[39m"
     ]
    },
    {
     "name": "stdout",
     "output_type": "stream",
     "text": [
      "Current loss is: 0.0016534157971188454\n",
      "Current loss is: 0.0016454644943899796\n",
      "Current loss is: 0.001637521419411726\n"
     ]
    },
    {
     "name": "stderr",
     "output_type": "stream",
     "text": [
      "\u001b[32mloss: 0.00163:  46%|████████████████▊                   |  ETA: 0:00:11\u001b[39m"
     ]
    },
    {
     "name": "stdout",
     "output_type": "stream",
     "text": [
      "Current loss is: 0.001629586391869694\n",
      "Current loss is: 0.001621659186776906\n",
      "Current loss is: 0.0016137396238757199\n"
     ]
    },
    {
     "name": "stderr",
     "output_type": "stream",
     "text": [
      "\u001b[32mloss: 0.00161:  47%|████████████████▉                   |  ETA: 0:00:11\u001b[39m"
     ]
    },
    {
     "name": "stdout",
     "output_type": "stream",
     "text": [
      "Current loss is: 0.0016058275016548277\n",
      "Current loss is: 0.0015979226097880264\n",
      "Current loss is: 0.0015900247926581665\n"
     ]
    },
    {
     "name": "stderr",
     "output_type": "stream",
     "text": [
      "\u001b[32mloss: 0.00158:  48%|█████████████████▏                  |  ETA: 0:00:11\u001b[39m"
     ]
    },
    {
     "name": "stdout",
     "output_type": "stream",
     "text": [
      "Current loss is: 0.0015821338166031788\n",
      "Current loss is: 0.0015742495038902483\n",
      "Current loss is: 0.0015663716476074577\n"
     ]
    },
    {
     "name": "stderr",
     "output_type": "stream",
     "text": [
      "\u001b[32mloss: 0.00156:  48%|█████████████████▍                  |  ETA: 0:00:11\u001b[39m"
     ]
    },
    {
     "name": "stdout",
     "output_type": "stream",
     "text": [
      "Current loss is: 0.0015585000912260677\n",
      "Current loss is: 0.0015506346347950383\n",
      "Current loss is: 0.0015427750387236713\n"
     ]
    },
    {
     "name": "stderr",
     "output_type": "stream",
     "text": [
      "\u001b[32mloss: 0.00153:  49%|█████████████████▋                  |  ETA: 0:00:11\u001b[39m"
     ]
    },
    {
     "name": "stdout",
     "output_type": "stream",
     "text": [
      "Current loss is: 0.001534921171687827\n",
      "Current loss is: 0.0015270728225552114\n",
      "Current loss is: 0.001519229843749579\n"
     ]
    },
    {
     "name": "stderr",
     "output_type": "stream",
     "text": [
      "\u001b[32mloss: 0.00151:  49%|█████████████████▊                  |  ETA: 0:00:11\u001b[39m"
     ]
    },
    {
     "name": "stdout",
     "output_type": "stream",
     "text": [
      "Current loss is: 0.001511391997878092\n",
      "Current loss is: 0.0015035591803986739\n",
      "Current loss is: 0.0014957311912485612\n"
     ]
    },
    {
     "name": "stderr",
     "output_type": "stream",
     "text": [
      "\u001b[32mloss: 0.00149:  50%|██████████████████                  |  ETA: 0:00:10\u001b[39m"
     ]
    },
    {
     "name": "stdout",
     "output_type": "stream",
     "text": [
      "Current loss is: 0.001487907880857235\n",
      "Current loss is: 0.001480089087689636\n",
      "Current loss is: 0.0014722746788205204\n"
     ]
    },
    {
     "name": "stderr",
     "output_type": "stream",
     "text": [
      "\u001b[32mloss: 0.00146:  51%|██████████████████▎                 |  ETA: 0:00:10\u001b[39m"
     ]
    },
    {
     "name": "stdout",
     "output_type": "stream",
     "text": [
      "Current loss is: 0.0014644644953363541\n",
      "Current loss is: 0.0014566584266341683\n",
      "Current loss is: 0.0014488563658900994\n"
     ]
    },
    {
     "name": "stderr",
     "output_type": "stream",
     "text": [
      "\u001b[32mloss: 0.00144:  51%|██████████████████▍                 |  ETA: 0:00:10\u001b[39m"
     ]
    },
    {
     "name": "stdout",
     "output_type": "stream",
     "text": [
      "Current loss is: 0.0014410581533349977\n",
      "Current loss is: 0.0014332636958940973\n",
      "Current loss is: 0.001425472945505677\n"
     ]
    },
    {
     "name": "stderr",
     "output_type": "stream",
     "text": [
      "\u001b[32mloss: 0.00142:  52%|██████████████████▋                 |  ETA: 0:00:10\u001b[39m"
     ]
    },
    {
     "name": "stdout",
     "output_type": "stream",
     "text": [
      "Current loss is: 0.00141768577160974\n",
      "Current loss is: 0.0014099021518612725\n",
      "Current loss is: 0.0014021219681869014\n"
     ]
    },
    {
     "name": "stderr",
     "output_type": "stream",
     "text": [
      "\u001b[32mloss: 0.00139:  52%|██████████████████▉                 |  ETA: 0:00:10\u001b[39m"
     ]
    },
    {
     "name": "stdout",
     "output_type": "stream",
     "text": [
      "Current loss is: 0.001394345231873186\n",
      "Current loss is: 0.0013865718480853158\n",
      "Current loss is: 0.0013788017772477892\n"
     ]
    },
    {
     "name": "stderr",
     "output_type": "stream",
     "text": [
      "\u001b[32mloss: 0.00137:  53%|███████████████████▏                |  ETA: 0:00:10\u001b[39m"
     ]
    },
    {
     "name": "stdout",
     "output_type": "stream",
     "text": [
      "Current loss is: 0.0013710350653970771\n",
      "Current loss is: 0.0013632716921337116\n",
      "Current loss is: 0.00135551165517885\n"
     ]
    },
    {
     "name": "stderr",
     "output_type": "stream",
     "text": [
      "\u001b[32mloss: 0.00135:  54%|███████████████████▎                |  ETA: 0:00:10\u001b[39m"
     ]
    },
    {
     "name": "stdout",
     "output_type": "stream",
     "text": [
      "Current loss is: 0.0013477550168939198\n",
      "Current loss is: 0.0013400018199580112\n",
      "Current loss is: 0.0013322521017092423\n"
     ]
    },
    {
     "name": "stderr",
     "output_type": "stream",
     "text": [
      "\u001b[32mloss: 0.00132:  54%|███████████████████▌                |  ETA: 0:00:10\u001b[39m"
     ]
    },
    {
     "name": "stdout",
     "output_type": "stream",
     "text": [
      "Current loss is: 0.0013245059805619998\n",
      "Current loss is: 0.0013167635297157202\n",
      "Current loss is: 0.0013090248235686393\n"
     ]
    },
    {
     "name": "stderr",
     "output_type": "stream",
     "text": [
      "\u001b[32mloss: 0.0013:  55%|████████████████████▎                |  ETA: 0:00:09\u001b[39m"
     ]
    },
    {
     "name": "stdout",
     "output_type": "stream",
     "text": [
      "Current loss is: 0.0013012900394239878\n",
      "Current loss is: 0.001293559333359408\n"
     ]
    },
    {
     "name": "stderr",
     "output_type": "stream",
     "text": [
      "\u001b[32mloss: 0.00129:  55%|███████████████████▉                |  ETA: 0:00:09\u001b[39m"
     ]
    },
    {
     "name": "stdout",
     "output_type": "stream",
     "text": [
      "Current loss is: 0.0012858328412051609\n",
      "Current loss is: 0.0012781107709741453\n",
      "Current loss is: 0.0012703932953102453\n"
     ]
    },
    {
     "name": "stderr",
     "output_type": "stream",
     "text": [
      "\u001b[32mloss: 0.00126:  56%|████████████████████▏               |  ETA: 0:00:09\u001b[39m"
     ]
    },
    {
     "name": "stdout",
     "output_type": "stream",
     "text": [
      "Current loss is: 0.0012626806335388474\n",
      "Current loss is: 0.0012549730272968253\n",
      "Current loss is: 0.0012472707471134538\n"
     ]
    },
    {
     "name": "stderr",
     "output_type": "stream",
     "text": [
      "\u001b[32mloss: 0.00124:  56%|████████████████████▎               |  ETA: 0:00:09\u001b[39m"
     ]
    },
    {
     "name": "stdout",
     "output_type": "stream",
     "text": [
      "Current loss is: 0.001239574050397756\n",
      "Current loss is: 0.001231883277403566\n"
     ]
    },
    {
     "name": "stderr",
     "output_type": "stream",
     "text": [
      "\u001b[32mloss: 0.00122:  57%|████████████████████▌               |  ETA: 0:00:09\u001b[39m"
     ]
    },
    {
     "name": "stdout",
     "output_type": "stream",
     "text": [
      "Current loss is: 0.0012241987171714166\n",
      "Current loss is: 0.0012165206715781742\n",
      "Current loss is: 0.0012088495476166093\n"
     ]
    },
    {
     "name": "stderr",
     "output_type": "stream",
     "text": [
      "\u001b[32mloss: 0.0012:  57%|█████████████████████▎               |  ETA: 0:00:09\u001b[39m"
     ]
    },
    {
     "name": "stdout",
     "output_type": "stream",
     "text": [
      "Current loss is: 0.001201185709100162\n",
      "Current loss is: 0.001193529548418707\n",
      "Current loss is: 0.0011858814677089126\n"
     ]
    },
    {
     "name": "stderr",
     "output_type": "stream",
     "text": [
      "\u001b[32mloss: 0.00118:  58%|████████████████████▉               |  ETA: 0:00:09\u001b[39m"
     ]
    },
    {
     "name": "stdout",
     "output_type": "stream",
     "text": [
      "Current loss is: 0.0011782419449905617\n",
      "Current loss is: 0.001170611409957504\n",
      "Current loss is: 0.001162990297482304\n"
     ]
    },
    {
     "name": "stderr",
     "output_type": "stream",
     "text": [
      "\u001b[32mloss: 0.00116:  59%|█████████████████████▏              |  ETA: 0:00:09\u001b[39m"
     ]
    },
    {
     "name": "stdout",
     "output_type": "stream",
     "text": [
      "Current loss is: 0.0011553791185566497\n",
      "Current loss is: 0.0011477784589238407\n",
      "Current loss is: 0.001140188778316011\n"
     ]
    },
    {
     "name": "stderr",
     "output_type": "stream",
     "text": [
      "\u001b[32mloss: 0.00113:  59%|█████████████████████▎              |  ETA: 0:00:09\u001b[39m"
     ]
    },
    {
     "name": "stdout",
     "output_type": "stream",
     "text": [
      "Current loss is: 0.0011326106305145564\n",
      "Current loss is: 0.001125044584865203\n",
      "Current loss is: 0.0011174912735071908\n"
     ]
    },
    {
     "name": "stderr",
     "output_type": "stream",
     "text": [
      "\u001b[32mloss: 0.00111:  60%|█████████████████████▌              |  ETA: 0:00:08\u001b[39m"
     ]
    },
    {
     "name": "stdout",
     "output_type": "stream",
     "text": [
      "Current loss is: 0.001109951272291278\n",
      "Current loss is: 0.0011024251915799606\n",
      "Current loss is: 0.0010949137264142962\n"
     ]
    },
    {
     "name": "stderr",
     "output_type": "stream",
     "text": [
      "\u001b[32mloss: 0.00109:  60%|█████████████████████▊              |  ETA: 0:00:08\u001b[39m"
     ]
    },
    {
     "name": "stdout",
     "output_type": "stream",
     "text": [
      "Current loss is: 0.0010874175074856113\n",
      "Current loss is: 0.0010799371913186074\n",
      "Current loss is: 0.0010724734648295436\n"
     ]
    },
    {
     "name": "stderr",
     "output_type": "stream",
     "text": [
      "\u001b[32mloss: 0.00107:  61%|██████████████████████              |  ETA: 0:00:08\u001b[39m"
     ]
    },
    {
     "name": "stdout",
     "output_type": "stream",
     "text": [
      "Current loss is: 0.0010650270541151124\n",
      "Current loss is: 0.0010575986628049538\n",
      "Current loss is: 0.0010501890378050364\n"
     ]
    },
    {
     "name": "stderr",
     "output_type": "stream",
     "text": [
      "\u001b[32mloss: 0.00104:  62%|██████████████████████▏             |  ETA: 0:00:08\u001b[39m"
     ]
    },
    {
     "name": "stdout",
     "output_type": "stream",
     "text": [
      "Current loss is: 0.0010427989638521658\n",
      "Current loss is: 0.0010354291773037449\n",
      "Current loss is: 0.0010280804028383063\n"
     ]
    },
    {
     "name": "stderr",
     "output_type": "stream",
     "text": [
      "\u001b[32mloss: 0.00102:  62%|██████████████████████▍             |  ETA: 0:00:08\u001b[39m"
     ]
    },
    {
     "name": "stdout",
     "output_type": "stream",
     "text": [
      "Current loss is: 0.0010207534990029192\n",
      "Current loss is: 0.0010134492043668414\n",
      "Current loss is: 0.0010061683265796585\n"
     ]
    },
    {
     "name": "stderr",
     "output_type": "stream",
     "text": [
      "\u001b[32mloss: 0.000999:  63%|██████████████████████             |  ETA: 0:00:08\u001b[39m"
     ]
    },
    {
     "name": "stdout",
     "output_type": "stream",
     "text": [
      "Current loss is: 0.0009989117060451292\n",
      "Current loss is: 0.000991680130362671\n",
      "Current loss is: 0.0009844744672650773\n"
     ]
    },
    {
     "name": "stderr",
     "output_type": "stream",
     "text": [
      "\u001b[32mloss: 0.000977:  63%|██████████████████████▎            |  ETA: 0:00:08\u001b[39m"
     ]
    },
    {
     "name": "stdout",
     "output_type": "stream",
     "text": [
      "Current loss is: 0.0009772955434693992\n",
      "Current loss is: 0.0009701441687774786\n",
      "Current loss is: 0.0009630212266515199\n"
     ]
    },
    {
     "name": "stderr",
     "output_type": "stream",
     "text": [
      "\u001b[32mloss: 0.000956:  64%|██████████████████████▍            |  ETA: 0:00:07\u001b[39m"
     ]
    },
    {
     "name": "stdout",
     "output_type": "stream",
     "text": [
      "Current loss is: 0.0009559275246568332\n",
      "Current loss is: 0.0009488639097854317\n",
      "Current loss is: 0.0009418312699023838\n"
     ]
    },
    {
     "name": "stderr",
     "output_type": "stream",
     "text": [
      "\u001b[32mloss: 0.000935:  65%|██████████████████████▋            |  ETA: 0:00:07\u001b[39m"
     ]
    },
    {
     "name": "stdout",
     "output_type": "stream",
     "text": [
      "Current loss is: 0.0009348304127897683\n",
      "Current loss is: 0.0009278622099139433\n",
      "Current loss is: 0.0009209274923358123\n"
     ]
    },
    {
     "name": "stderr",
     "output_type": "stream",
     "text": [
      "\u001b[32mloss: 0.000914:  65%|██████████████████████▉            |  ETA: 0:00:07\u001b[39m"
     ]
    },
    {
     "name": "stdout",
     "output_type": "stream",
     "text": [
      "Current loss is: 0.000914027140139953\n",
      "Current loss is: 0.0009071619646353614\n",
      "Current loss is: 0.0009003328335217118\n"
     ]
    },
    {
     "name": "stderr",
     "output_type": "stream",
     "text": [
      "\u001b[32mloss: 0.000894:  66%|███████████████████████            |  ETA: 0:00:07\u001b[39m"
     ]
    },
    {
     "name": "stdout",
     "output_type": "stream",
     "text": [
      "Current loss is: 0.0008935405253077687\n",
      "Current loss is: 0.0008867858716508048\n",
      "Current loss is: 0.0008800697388357158\n"
     ]
    },
    {
     "name": "stderr",
     "output_type": "stream",
     "text": [
      "\u001b[32mloss: 0.000873:  66%|███████████████████████▎           |  ETA: 0:00:07\u001b[39m"
     ]
    },
    {
     "name": "stdout",
     "output_type": "stream",
     "text": [
      "Current loss is: 0.0008733928809680846\n",
      "Current loss is: 0.00086675609397808\n",
      "Current loss is: 0.0008601602004877847\n"
     ]
    },
    {
     "name": "stderr",
     "output_type": "stream",
     "text": [
      "\u001b[32mloss: 0.000854:  67%|███████████████████████▌           |  ETA: 0:00:07\u001b[39m"
     ]
    },
    {
     "name": "stdout",
     "output_type": "stream",
     "text": [
      "Current loss is: 0.0008536059304411978\n",
      "Current loss is: 0.0008470940483809323\n",
      "Current loss is: 0.0008406253235506569\n"
     ]
    },
    {
     "name": "stderr",
     "output_type": "stream",
     "text": [
      "\u001b[32mloss: 0.000834:  68%|███████████████████████▋           |  ETA: 0:00:07\u001b[39m"
     ]
    },
    {
     "name": "stdout",
     "output_type": "stream",
     "text": [
      "Current loss is: 0.0008342004393301446\n",
      "Current loss is: 0.0008278201718027206\n",
      "Current loss is: 0.0008214851851099038\n"
     ]
    },
    {
     "name": "stderr",
     "output_type": "stream",
     "text": [
      "\u001b[32mloss: 0.000815:  68%|███████████████████████▉           |  ETA: 0:00:07\u001b[39m"
     ]
    },
    {
     "name": "stdout",
     "output_type": "stream",
     "text": [
      "Current loss is: 0.000815196161170898\n",
      "Current loss is: 0.0008089537677151274\n",
      "Current loss is: 0.0008027586443260683\n"
     ]
    },
    {
     "name": "stderr",
     "output_type": "stream",
     "text": [
      "\u001b[32mloss: 0.000797:  69%|████████████████████████▏          |  ETA: 0:00:06\u001b[39m"
     ]
    },
    {
     "name": "stdout",
     "output_type": "stream",
     "text": [
      "Current loss is: 0.0007966114153956787\n",
      "Current loss is: 0.0007905126861964152\n",
      "Current loss is: 0.0007844629934411685\n"
     ]
    },
    {
     "name": "stderr",
     "output_type": "stream",
     "text": [
      "\u001b[32mloss: 0.000778:  69%|████████████████████████▎          |  ETA: 0:00:06\u001b[39m"
     ]
    },
    {
     "name": "stdout",
     "output_type": "stream",
     "text": [
      "Current loss is: 0.0007784629826557006\n",
      "Current loss is: 0.0007725131366807491\n",
      "Current loss is: 0.0007666139823900184\n"
     ]
    },
    {
     "name": "stderr",
     "output_type": "stream",
     "text": [
      "\u001b[32mloss: 0.000761:  70%|████████████████████████▌          |  ETA: 0:00:06\u001b[39m"
     ]
    },
    {
     "name": "stdout",
     "output_type": "stream",
     "text": [
      "Current loss is: 0.0007607660125548234\n",
      "Current loss is: 0.0007549696989000241\n",
      "Current loss is: 0.0007492254948929963\n"
     ]
    },
    {
     "name": "stderr",
     "output_type": "stream",
     "text": [
      "\u001b[32mloss: 0.000744:  71%|████████████████████████▊          |  ETA: 0:00:06\u001b[39m"
     ]
    },
    {
     "name": "stdout",
     "output_type": "stream",
     "text": [
      "Current loss is: 0.0007435338147307708\n",
      "Current loss is: 0.0007378950507055344\n",
      "Current loss is: 0.0007323095779606955\n"
     ]
    },
    {
     "name": "stderr",
     "output_type": "stream",
     "text": [
      "\u001b[32mloss: 0.000727:  71%|████████████████████████▉          |  ETA: 0:00:06\u001b[39m"
     ]
    },
    {
     "name": "stdout",
     "output_type": "stream",
     "text": [
      "Current loss is: 0.0007267777400036367\n",
      "Current loss is: 0.0007212998238034697\n",
      "Current loss is: 0.000715876152317868\n"
     ]
    },
    {
     "name": "stderr",
     "output_type": "stream",
     "text": [
      "\u001b[32mloss: 0.000711:  72%|█████████████████████████▏         |  ETA: 0:00:06\u001b[39m"
     ]
    },
    {
     "name": "stdout",
     "output_type": "stream",
     "text": [
      "Current loss is: 0.0007105070135217192\n",
      "Current loss is: 0.000705192605418596\n",
      "Current loss is: 0.0006999331745743771\n"
     ]
    },
    {
     "name": "stderr",
     "output_type": "stream",
     "text": [
      "\u001b[32mloss: 0.000695:  72%|█████████████████████████▍         |  ETA: 0:00:06\u001b[39m"
     ]
    },
    {
     "name": "stdout",
     "output_type": "stream",
     "text": [
      "Current loss is: 0.0006947288912916477\n",
      "Current loss is: 0.0006895799298530864\n",
      "Current loss is: 0.0006844864480372659\n"
     ]
    },
    {
     "name": "stderr",
     "output_type": "stream",
     "text": [
      "\u001b[32mloss: 0.000679:  73%|█████████████████████████▌         |  ETA: 0:00:06\u001b[39m"
     ]
    },
    {
     "name": "stdout",
     "output_type": "stream",
     "text": [
      "Current loss is: 0.0006794485402849689\n",
      "Current loss is: 0.0006744663118951557\n",
      "Current loss is: 0.0006695398193929708\n"
     ]
    },
    {
     "name": "stderr",
     "output_type": "stream",
     "text": [
      "\u001b[32mloss: 0.000665:  74%|█████████████████████████▊         |  ETA: 0:00:05\u001b[39m"
     ]
    },
    {
     "name": "stdout",
     "output_type": "stream",
     "text": [
      "Current loss is: 0.0006646691401972798\n",
      "Current loss is: 0.0006598542579030741\n",
      "Current loss is: 0.0006550951561194637\n"
     ]
    },
    {
     "name": "stderr",
     "output_type": "stream",
     "text": [
      "\u001b[32mloss: 0.00065:  74%|██████████████████████████▊         |  ETA: 0:00:05\u001b[39m"
     ]
    },
    {
     "name": "stdout",
     "output_type": "stream",
     "text": [
      "Current loss is: 0.0006503918038512897\n",
      "Current loss is: 0.0006457441453568935\n",
      "Current loss is: 0.0006411521196083663\n"
     ]
    },
    {
     "name": "stderr",
     "output_type": "stream",
     "text": [
      "\u001b[32mloss: 0.000637:  75%|██████████████████████████▏        |  ETA: 0:00:05\u001b[39m"
     ]
    },
    {
     "name": "stdout",
     "output_type": "stream",
     "text": [
      "Current loss is: 0.0006366156438705846\n",
      "Current loss is: 0.0006321345742741219\n",
      "Current loss is: 0.000627708766215784\n"
     ]
    },
    {
     "name": "stderr",
     "output_type": "stream",
     "text": [
      "\u001b[32mloss: 0.000623:  75%|██████████████████████████▍        |  ETA: 0:00:05\u001b[39m"
     ]
    },
    {
     "name": "stdout",
     "output_type": "stream",
     "text": [
      "Current loss is: 0.0006233380702627077\n",
      "Current loss is: 0.0006190222918940071\n"
     ]
    },
    {
     "name": "stderr",
     "output_type": "stream",
     "text": [
      "\u001b[32mloss: 0.000615:  76%|██████████████████████████▌        |  ETA: 0:00:05\u001b[39m"
     ]
    },
    {
     "name": "stdout",
     "output_type": "stream",
     "text": [
      "Current loss is: 0.0006147612511350385\n",
      "Current loss is: 0.0006105547189429195\n",
      "Current loss is: 0.0006064024206069533\n"
     ]
    },
    {
     "name": "stderr",
     "output_type": "stream",
     "text": [
      "\u001b[32mloss: 0.000602:  76%|██████████████████████████▊        |  ETA: 0:00:05\u001b[39m"
     ]
    },
    {
     "name": "stdout",
     "output_type": "stream",
     "text": [
      "Current loss is: 0.0006023041676943364\n",
      "Current loss is: 0.0005982596440223667\n",
      "Current loss is: 0.0005942685588952206\n"
     ]
    },
    {
     "name": "stderr",
     "output_type": "stream",
     "text": [
      "\u001b[32mloss: 0.00059:  77%|███████████████████████████▊        |  ETA: 0:00:05\u001b[39m"
     ]
    },
    {
     "name": "stdout",
     "output_type": "stream",
     "text": [
      "Current loss is: 0.0005903306140050996\n",
      "Current loss is: 0.000586445489067702\n",
      "Current loss is: 0.0005826128612016946\n"
     ]
    },
    {
     "name": "stderr",
     "output_type": "stream",
     "text": [
      "\u001b[32mloss: 0.000579:  78%|███████████████████████████▏       |  ETA: 0:00:05\u001b[39m"
     ]
    },
    {
     "name": "stdout",
     "output_type": "stream",
     "text": [
      "Current loss is: 0.0005788323401882361\n",
      "Current loss is: 0.0005751035961590188\n",
      "Current loss is: 0.0005714262631574112\n"
     ]
    },
    {
     "name": "stderr",
     "output_type": "stream",
     "text": [
      "\u001b[32mloss: 0.000568:  78%|███████████████████████████▍       |  ETA: 0:00:05\u001b[39m"
     ]
    },
    {
     "name": "stdout",
     "output_type": "stream",
     "text": [
      "Current loss is: 0.0005677999005093665\n",
      "Current loss is: 0.0005642241697211379\n",
      "Current loss is: 0.0005606986131336964\n"
     ]
    },
    {
     "name": "stderr",
     "output_type": "stream",
     "text": [
      "\u001b[32mloss: 0.000557:  79%|███████████████████████████▋       |  ETA: 0:00:04\u001b[39m"
     ]
    },
    {
     "name": "stdout",
     "output_type": "stream",
     "text": [
      "Current loss is: 0.0005572228124792244\n",
      "Current loss is: 0.0005537963682838917\n"
     ]
    },
    {
     "name": "stderr",
     "output_type": "stream",
     "text": [
      "\u001b[32mloss: 0.00055:  79%|████████████████████████████▌       |  ETA: 0:00:04\u001b[39m"
     ]
    },
    {
     "name": "stdout",
     "output_type": "stream",
     "text": [
      "Current loss is: 0.0005504188103968566\n",
      "Current loss is: 0.0005470896951861228\n",
      "Current loss is: 0.0005438085855746602\n"
     ]
    },
    {
     "name": "stderr",
     "output_type": "stream",
     "text": [
      "\u001b[32mloss: 0.000541:  80%|███████████████████████████▉       |  ETA: 0:00:04\u001b[39m"
     ]
    },
    {
     "name": "stdout",
     "output_type": "stream",
     "text": [
      "Current loss is: 0.0005405750204789585\n",
      "Current loss is: 0.0005373885011766312\n",
      "Current loss is: 0.0005342485521547451\n"
     ]
    },
    {
     "name": "stderr",
     "output_type": "stream",
     "text": [
      "\u001b[32mloss: 0.000531:  80%|████████████████████████████▏      |  ETA: 0:00:04\u001b[39m"
     ]
    },
    {
     "name": "stdout",
     "output_type": "stream",
     "text": [
      "Current loss is: 0.0005311547004601752\n",
      "Current loss is: 0.0005281064319069772\n",
      "Current loss is: 0.0005251032755826448\n"
     ]
    },
    {
     "name": "stderr",
     "output_type": "stream",
     "text": [
      "\u001b[32mloss: 0.000522:  81%|████████████████████████████▍      |  ETA: 0:00:04\u001b[39m"
     ]
    },
    {
     "name": "stdout",
     "output_type": "stream",
     "text": [
      "Current loss is: 0.0005221447298607674\n",
      "Current loss is: 0.0005192302901011451\n",
      "Current loss is: 0.0005163594383896236\n"
     ]
    },
    {
     "name": "stderr",
     "output_type": "stream",
     "text": [
      "\u001b[32mloss: 0.000514:  82%|████████████████████████████▌      |  ETA: 0:00:04\u001b[39m"
     ]
    },
    {
     "name": "stdout",
     "output_type": "stream",
     "text": [
      "Current loss is: 0.00051353166895103\n",
      "Current loss is: 0.0005107464620742273\n",
      "Current loss is: 0.0005080033180790014\n"
     ]
    },
    {
     "name": "stderr",
     "output_type": "stream",
     "text": [
      "\u001b[32mloss: 0.000505:  82%|████████████████████████████▊      |  ETA: 0:00:04\u001b[39m"
     ]
    },
    {
     "name": "stdout",
     "output_type": "stream",
     "text": [
      "Current loss is: 0.0005053017143917076\n",
      "Current loss is: 0.0005026411222783806\n",
      "Current loss is: 0.0005000210217217144\n"
     ]
    },
    {
     "name": "stderr",
     "output_type": "stream",
     "text": [
      "\u001b[32mloss: 0.000497:  83%|█████████████████████████████      |  ETA: 0:00:04\u001b[39m"
     ]
    },
    {
     "name": "stdout",
     "output_type": "stream",
     "text": [
      "Current loss is: 0.0004974409146499981\n",
      "Current loss is: 0.0004949002586895875\n",
      "Current loss is: 0.0004923985148251062\n"
     ]
    },
    {
     "name": "stderr",
     "output_type": "stream",
     "text": [
      "\u001b[32mloss: 0.00049:  83%|██████████████████████████████      |  ETA: 0:00:03\u001b[39m"
     ]
    },
    {
     "name": "stdout",
     "output_type": "stream",
     "text": [
      "Current loss is: 0.0004899351846577857\n",
      "Current loss is: 0.0004875097371723502\n",
      "Current loss is: 0.000485121663770733\n"
     ]
    },
    {
     "name": "stderr",
     "output_type": "stream",
     "text": [
      "\u001b[32mloss: 0.000483:  84%|█████████████████████████████▍     |  ETA: 0:00:03\u001b[39m"
     ]
    },
    {
     "name": "stdout",
     "output_type": "stream",
     "text": [
      "Current loss is: 0.0004827704329843093\n",
      "Current loss is: 0.0004804555092839456\n"
     ]
    },
    {
     "name": "stderr",
     "output_type": "stream",
     "text": [
      "\u001b[32mloss: 0.000478:  84%|█████████████████████████████▌     |  ETA: 0:00:03\u001b[39m"
     ]
    },
    {
     "name": "stdout",
     "output_type": "stream",
     "text": [
      "Current loss is: 0.0004781763915360474\n",
      "Current loss is: 0.0004759325420947405\n",
      "Current loss is: 0.0004737234537958482\n"
     ]
    },
    {
     "name": "stderr",
     "output_type": "stream",
     "text": [
      "\u001b[32mloss: 0.000472:  85%|█████████████████████████████▊     |  ETA: 0:00:03\u001b[39m"
     ]
    },
    {
     "name": "stdout",
     "output_type": "stream",
     "text": [
      "Current loss is: 0.00047154863995077696\n",
      "Current loss is: 0.00046940755694702954\n",
      "Current loss is: 0.00046729969410690207\n"
     ]
    },
    {
     "name": "stderr",
     "output_type": "stream",
     "text": [
      "\u001b[32mloss: 0.000465:  86%|██████████████████████████████     |  ETA: 0:00:03\u001b[39m"
     ]
    },
    {
     "name": "stdout",
     "output_type": "stream",
     "text": [
      "Current loss is: 0.0004652245560957301\n",
      "Current loss is: 0.0004631816181209622\n",
      "Current loss is: 0.00046117039821505593\n"
     ]
    },
    {
     "name": "stderr",
     "output_type": "stream",
     "text": [
      "\u001b[32mloss: 0.000459:  86%|██████████████████████████████▏    |  ETA: 0:00:03\u001b[39m"
     ]
    },
    {
     "name": "stdout",
     "output_type": "stream",
     "text": [
      "Current loss is: 0.00045919039801628193\n",
      "Current loss is: 0.00045724111567983566\n",
      "Current loss is: 0.00045532204685966846\n"
     ]
    },
    {
     "name": "stderr",
     "output_type": "stream",
     "text": [
      "\u001b[32mloss: 0.000453:  87%|██████████████████████████████▍    |  ETA: 0:00:03\u001b[39m"
     ]
    },
    {
     "name": "stdout",
     "output_type": "stream",
     "text": [
      "Current loss is: 0.0004534327149811452\n",
      "Current loss is: 0.00045157263301122896\n",
      "Current loss is: 0.0004497413148748925\n"
     ]
    },
    {
     "name": "stderr",
     "output_type": "stream",
     "text": [
      "\u001b[32mloss: 0.000448:  87%|██████████████████████████████▋    |  ETA: 0:00:03\u001b[39m"
     ]
    },
    {
     "name": "stdout",
     "output_type": "stream",
     "text": [
      "Current loss is: 0.0004479382906010089\n",
      "Current loss is: 0.00044616307616339803\n",
      "Current loss is: 0.00044441522432493686\n"
     ]
    },
    {
     "name": "stderr",
     "output_type": "stream",
     "text": [
      "\u001b[32mloss: 0.000443:  88%|██████████████████████████████▊    |  ETA: 0:00:02\u001b[39m"
     ]
    },
    {
     "name": "stdout",
     "output_type": "stream",
     "text": [
      "Current loss is: 0.00044269422812628066\n",
      "Current loss is: 0.0004409996414278135\n",
      "Current loss is: 0.0004393310132281464\n"
     ]
    },
    {
     "name": "stderr",
     "output_type": "stream",
     "text": [
      "\u001b[32mloss: 0.000438:  89%|███████████████████████████████    |  ETA: 0:00:02\u001b[39m"
     ]
    },
    {
     "name": "stdout",
     "output_type": "stream",
     "text": [
      "Current loss is: 0.000437687876757909\n",
      "Current loss is: 0.0004360697843660372\n",
      "Current loss is: 0.00043447630383693396\n"
     ]
    },
    {
     "name": "stderr",
     "output_type": "stream",
     "text": [
      "\u001b[32mloss: 0.000433:  89%|███████████████████████████████▎   |  ETA: 0:00:02\u001b[39m"
     ]
    },
    {
     "name": "stdout",
     "output_type": "stream",
     "text": [
      "Current loss is: 0.00043290697749333285\n",
      "Current loss is: 0.0004313613708895539\n",
      "Current loss is: 0.0004298390462002459\n"
     ]
    },
    {
     "name": "stderr",
     "output_type": "stream",
     "text": [
      "\u001b[32mloss: 0.000428:  90%|███████████████████████████████▍   |  ETA: 0:00:02\u001b[39m"
     ]
    },
    {
     "name": "stdout",
     "output_type": "stream",
     "text": [
      "Current loss is: 0.0004283396022306791\n",
      "Current loss is: 0.00042686259603193926\n",
      "Current loss is: 0.00042540761968541576\n"
     ]
    },
    {
     "name": "stderr",
     "output_type": "stream",
     "text": [
      "\u001b[32mloss: 0.000424:  90%|███████████████████████████████▋   |  ETA: 0:00:02\u001b[39m"
     ]
    },
    {
     "name": "stdout",
     "output_type": "stream",
     "text": [
      "Current loss is: 0.00042397426134429666\n",
      "Current loss is: 0.0004225620988172311\n",
      "Current loss is: 0.00042117074171459\n"
     ]
    },
    {
     "name": "stderr",
     "output_type": "stream",
     "text": [
      "\u001b[32mloss: 0.00042:  91%|████████████████████████████████▊   |  ETA: 0:00:02\u001b[39m"
     ]
    },
    {
     "name": "stdout",
     "output_type": "stream",
     "text": [
      "Current loss is: 0.00041979979709286865\n",
      "Current loss is: 0.00041844885211753737\n",
      "Current loss is: 0.00041711753736732723\n"
     ]
    },
    {
     "name": "stderr",
     "output_type": "stream",
     "text": [
      "\u001b[32mloss: 0.000416:  92%|████████████████████████████████   |  ETA: 0:00:02\u001b[39m"
     ]
    },
    {
     "name": "stdout",
     "output_type": "stream",
     "text": [
      "Current loss is: 0.00041580545484677623\n",
      "Current loss is: 0.000414512244981243\n",
      "Current loss is: 0.0004132375242665294\n"
     ]
    },
    {
     "name": "stderr",
     "output_type": "stream",
     "text": [
      "\u001b[32mloss: 0.000412:  92%|████████████████████████████████▎  |  ETA: 0:00:02\u001b[39m"
     ]
    },
    {
     "name": "stdout",
     "output_type": "stream",
     "text": [
      "Current loss is: 0.00041198093329939875\n",
      "Current loss is: 0.0004107421015190354\n",
      "Current loss is: 0.0004095206997000687\n"
     ]
    },
    {
     "name": "stderr",
     "output_type": "stream",
     "text": [
      "\u001b[32mloss: 0.000408:  93%|████████████████████████████████▌  |  ETA: 0:00:01\u001b[39m"
     ]
    },
    {
     "name": "stdout",
     "output_type": "stream",
     "text": [
      "Current loss is: 0.0004083163469463269\n",
      "Current loss is: 0.0004071286953744264\n",
      "Current loss is: 0.00040595741100031324\n"
     ]
    },
    {
     "name": "stderr",
     "output_type": "stream",
     "text": [
      "\u001b[32mloss: 0.000405:  93%|████████████████████████████████▊  |  ETA: 0:00:01\u001b[39m"
     ]
    },
    {
     "name": "stdout",
     "output_type": "stream",
     "text": [
      "Current loss is: 0.00040480215660514563\n",
      "Current loss is: 0.0004036626130251011\n",
      "Current loss is: 0.0004025384445300612\n"
     ]
    },
    {
     "name": "stderr",
     "output_type": "stream",
     "text": [
      "\u001b[32mloss: 0.000401:  94%|████████████████████████████████▉  |  ETA: 0:00:01\u001b[39m"
     ]
    },
    {
     "name": "stdout",
     "output_type": "stream",
     "text": [
      "Current loss is: 0.0004014293470811825\n",
      "Current loss is: 0.0004003349787376691\n",
      "Current loss is: 0.0003992550465859863\n"
     ]
    },
    {
     "name": "stderr",
     "output_type": "stream",
     "text": [
      "\u001b[32mloss: 0.000398:  95%|█████████████████████████████████▏ |  ETA: 0:00:01\u001b[39m"
     ]
    },
    {
     "name": "stdout",
     "output_type": "stream",
     "text": [
      "Current loss is: 0.0003981892432374472\n",
      "Current loss is: 0.0003971372719417621\n",
      "Current loss is: 0.0003960988357531049\n"
     ]
    },
    {
     "name": "stderr",
     "output_type": "stream",
     "text": [
      "\u001b[32mloss: 0.000395:  95%|█████████████████████████████████▍ |  ETA: 0:00:01\u001b[39m"
     ]
    },
    {
     "name": "stdout",
     "output_type": "stream",
     "text": [
      "Current loss is: 0.0003950736318032849\n",
      "Current loss is: 0.0003940614085351375\n",
      "Current loss is: 0.00039306186199966533\n"
     ]
    },
    {
     "name": "stderr",
     "output_type": "stream",
     "text": [
      "\u001b[32mloss: 0.000392:  96%|█████████████████████████████████▌ |  ETA: 0:00:01\u001b[39m"
     ]
    },
    {
     "name": "stdout",
     "output_type": "stream",
     "text": [
      "Current loss is: 0.0003920747284481387\n",
      "Current loss is: 0.00039109972841704825\n",
      "Current loss is: 0.0003901366096570505\n"
     ]
    },
    {
     "name": "stderr",
     "output_type": "stream",
     "text": [
      "\u001b[32mloss: 0.000389:  96%|█████████████████████████████████▊ |  ETA: 0:00:01\u001b[39m"
     ]
    },
    {
     "name": "stdout",
     "output_type": "stream",
     "text": [
      "Current loss is: 0.00038918512069949267\n",
      "Current loss is: 0.0003882449953323396\n",
      "Current loss is: 0.00038731598971004016\n"
     ]
    },
    {
     "name": "stderr",
     "output_type": "stream",
     "text": [
      "\u001b[32mloss: 0.000386:  97%|██████████████████████████████████ |  ETA: 0:00:01\u001b[39m"
     ]
    },
    {
     "name": "stdout",
     "output_type": "stream",
     "text": [
      "Current loss is: 0.00038639785946418783\n",
      "Current loss is: 0.00038549035614939063\n",
      "Current loss is: 0.00038459325421112824\n"
     ]
    },
    {
     "name": "stderr",
     "output_type": "stream",
     "text": [
      "\u001b[32mloss: 0.000384:  98%|██████████████████████████████████▏|  ETA: 0:00:00\u001b[39m"
     ]
    },
    {
     "name": "stdout",
     "output_type": "stream",
     "text": [
      "Current loss is: 0.00038370632763944285\n",
      "Current loss is: 0.000382829353942402\n",
      "Current loss is: 0.00038196209176557963\n"
     ]
    },
    {
     "name": "stderr",
     "output_type": "stream",
     "text": [
      "\u001b[32mloss: 0.000381:  98%|██████████████████████████████████▍|  ETA: 0:00:00\u001b[39m"
     ]
    },
    {
     "name": "stdout",
     "output_type": "stream",
     "text": [
      "Current loss is: 0.00038110434595644156\n",
      "Current loss is: 0.00038025589563141536\n",
      "Current loss is: 0.0003794165408422774\n"
     ]
    },
    {
     "name": "stderr",
     "output_type": "stream",
     "text": [
      "\u001b[32mloss: 0.000379:  99%|██████████████████████████████████▋|  ETA: 0:00:00\u001b[39m"
     ]
    },
    {
     "name": "stdout",
     "output_type": "stream",
     "text": [
      "Current loss is: 0.0003785860798540742\n",
      "Current loss is: 0.00037776430888766647\n"
     ]
    },
    {
     "name": "stderr",
     "output_type": "stream",
     "text": [
      "\u001b[32mloss: 0.000377:  99%|██████████████████████████████████▊|  ETA: 0:00:00\u001b[39m"
     ]
    },
    {
     "name": "stdout",
     "output_type": "stream",
     "text": [
      "Current loss is: 0.0003769510348598746\n",
      "Current loss is: 0.00037614607245937503\n",
      "Current loss is: 0.0003753492332368002\n"
     ]
    },
    {
     "name": "stderr",
     "output_type": "stream",
     "text": [
      "\u001b[32mloss: 0.000374: 100%|███████████████████████████████████| Time: 0:00:20\u001b[39m\n"
     ]
    },
    {
     "name": "stdout",
     "output_type": "stream",
     "text": [
      "Current loss is: 0.00037456034207910324\n",
      "Current loss is: 0.00037377921239367256\n",
      "Current loss is: 0.00037377921239367256\n"
     ]
    },
    {
     "data": {
      "text/plain": [
       " * Status: success\n",
       "\n",
       " * Candidate solution\n",
       "    Final objective value:     3.737792e-04\n",
       "\n",
       " * Found with\n",
       "    Algorithm:     ADAM\n",
       "\n",
       " * Convergence measures\n",
       "    |x - x'|               = NaN ≰ 0.0e+00\n",
       "    |x - x'|/|x'|          = NaN ≰ 0.0e+00\n",
       "    |f(x) - f(x')|         = NaN ≰ 0.0e+00\n",
       "    |f(x) - f(x')|/|f(x')| = NaN ≰ 0.0e+00\n",
       "    |g(x)|                 = NaN ≰ 0.0e+00\n",
       "\n",
       " * Work counters\n",
       "    Seconds run:   21  (vs limit Inf)\n",
       "    Iterations:    500\n",
       "    f(x) calls:    500\n",
       "    ∇f(x) calls:   500\n"
      ]
     },
     "execution_count": 23,
     "metadata": {},
     "output_type": "execute_result"
    }
   ],
   "source": [
    "GalacticOptim.solve(prob, ADAM(0.1); cb = cb, maxiters=500)"
   ]
  },
  {
   "cell_type": "code",
   "execution_count": null,
   "metadata": {},
   "outputs": [],
   "source": []
  }
 ],
 "metadata": {
  "kernelspec": {
   "display_name": "Julia 1.5.2",
   "language": "julia",
   "name": "julia-1.5"
  },
  "language_info": {
   "file_extension": ".jl",
   "mimetype": "application/julia",
   "name": "julia",
   "version": "1.5.2"
  }
 },
 "nbformat": 4,
 "nbformat_minor": 4
}
