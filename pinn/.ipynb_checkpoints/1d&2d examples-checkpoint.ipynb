{
 "cells": [
  {
   "cell_type": "code",
   "execution_count": 1,
   "metadata": {},
   "outputs": [],
   "source": [
    "using UKE, Optim, Flux.Zygote, Plots"
   ]
  },
  {
   "cell_type": "markdown",
   "metadata": {},
   "source": [
    "## 1D exponential solution"
   ]
  },
  {
   "cell_type": "code",
   "execution_count": 2,
   "metadata": {},
   "outputs": [],
   "source": [
    "nx = 100\n",
    "ω = 1.;\n",
    "\n",
    "X = collect(range(0, 1, length=nx)) |> permutedims\n",
    "Y = zeros(axes(X));"
   ]
  },
  {
   "cell_type": "code",
   "execution_count": 3,
   "metadata": {},
   "outputs": [],
   "source": [
    "ann = FastChain(FastDense(1, 20, tanh), FastDense(20, 1))\n",
    "p = initial_params(ann);\n",
    "θ = [vcat(X...); p];"
   ]
  },
  {
   "cell_type": "code",
   "execution_count": 25,
   "metadata": {},
   "outputs": [
    {
     "data": {
      "text/plain": [
       "loss (generic function with 1 method)"
      ]
     },
     "execution_count": 25,
     "metadata": {},
     "output_type": "execute_result"
    }
   ],
   "source": [
    "function loss(θ)\n",
    "    u0 = hcat(θ[1:nx]...)\n",
    "    p = θ[nx+1:end]\n",
    "    \n",
    "    u(x) = 1 .+ ann(x, p) .* x\n",
    "    #ux(x) = Flux.Zygote.pullback(u, x)[2](ones(size(x)))[1] # auto diff\n",
    "    ux(x) = central_diff(u(x)[:], x[:]) |> permutedims # finite diff\n",
    "\n",
    "    pred = ω .* u(u0) .+ ux(u0)\n",
    "    loss = sum(abs2, pred)\n",
    "    \n",
    "    return loss, pred\n",
    "end"
   ]
  },
  {
   "cell_type": "code",
   "execution_count": 26,
   "metadata": {},
   "outputs": [
    {
     "data": {
      "text/plain": [
       "#38 (generic function with 1 method)"
      ]
     },
     "execution_count": 26,
     "metadata": {},
     "output_type": "execute_result"
    }
   ],
   "source": [
    "cb = function (θ, l, pred; isplot=false)\n",
    "    display(l)\n",
    "    return false\n",
    "end"
   ]
  },
  {
   "cell_type": "code",
   "execution_count": 27,
   "metadata": {},
   "outputs": [
    {
     "data": {
      "text/plain": [
       "TrackedReal<HmR>(48.66910411895354, 0.0, 5sl, ---)"
      ]
     },
     "metadata": {},
     "output_type": "display_data"
    },
    {
     "data": {
      "text/plain": [
       "TrackedReal<LYx>(20.257422888342894, 0.0, 4h4, ---)"
      ]
     },
     "metadata": {},
     "output_type": "display_data"
    },
    {
     "data": {
      "text/plain": [
       "TrackedReal<6ta>(17.099439169579806, 0.0, JOL, ---)"
      ]
     },
     "metadata": {},
     "output_type": "display_data"
    },
    {
     "data": {
      "text/plain": [
       "TrackedReal<3b6>(0.22458786800213598, 0.0, 2zB, ---)"
      ]
     },
     "metadata": {},
     "output_type": "display_data"
    },
    {
     "data": {
      "text/plain": [
       "TrackedReal<EKB>(0.06263987088287834, 0.0, K2u, ---)"
      ]
     },
     "metadata": {},
     "output_type": "display_data"
    },
    {
     "data": {
      "text/plain": [
       "TrackedReal<DE8>(0.058557696827615954, 0.0, 2DD, ---)"
      ]
     },
     "metadata": {},
     "output_type": "display_data"
    },
    {
     "data": {
      "text/plain": [
       "TrackedReal<Aon>(0.04785214945348247, 0.0, 38y, ---)"
      ]
     },
     "metadata": {},
     "output_type": "display_data"
    },
    {
     "data": {
      "text/plain": [
       "TrackedReal<5GO>(0.016236345128924926, 0.0, 2Ye, ---)"
      ]
     },
     "metadata": {},
     "output_type": "display_data"
    },
    {
     "data": {
      "text/plain": [
       "TrackedReal<1jy>(0.010423731362862024, 0.0, Gxu, ---)"
      ]
     },
     "metadata": {},
     "output_type": "display_data"
    },
    {
     "data": {
      "text/plain": [
       "TrackedReal<Kkq>(0.00658799322352722, 0.0, 970, ---)"
      ]
     },
     "metadata": {},
     "output_type": "display_data"
    },
    {
     "data": {
      "text/plain": [
       "TrackedReal<88F>(0.0038694299855864594, 0.0, 2d5, ---)"
      ]
     },
     "metadata": {},
     "output_type": "display_data"
    },
    {
     "data": {
      "text/plain": [
       "TrackedReal<3fX>(0.0012409391567273832, 0.0, AjG, ---)"
      ]
     },
     "metadata": {},
     "output_type": "display_data"
    },
    {
     "data": {
      "text/plain": [
       "TrackedReal<7ya>(0.0010147508992567182, 0.0, LbQ, ---)"
      ]
     },
     "metadata": {},
     "output_type": "display_data"
    },
    {
     "data": {
      "text/plain": [
       "TrackedReal<Ej7>(0.0010038906071017284, 0.0, 54J, ---)"
      ]
     },
     "metadata": {},
     "output_type": "display_data"
    },
    {
     "data": {
      "text/plain": [
       "TrackedReal<4EX>(0.0010028156871692456, 0.0, Hfo, ---)"
      ]
     },
     "metadata": {},
     "output_type": "display_data"
    },
    {
     "data": {
      "text/plain": [
       "TrackedReal<BeM>(0.0009986432044293999, 0.0, J8I, ---)"
      ]
     },
     "metadata": {},
     "output_type": "display_data"
    },
    {
     "data": {
      "text/plain": [
       "TrackedReal<CI3>(0.0009652060636738133, 0.0, HLT, ---)"
      ]
     },
     "metadata": {},
     "output_type": "display_data"
    },
    {
     "data": {
      "text/plain": [
       "TrackedReal<Hy4>(0.0009424417033703908, 0.0, 29y, ---)"
      ]
     },
     "metadata": {},
     "output_type": "display_data"
    },
    {
     "data": {
      "text/plain": [
       "TrackedReal<LsF>(0.0009422757690879268, 0.0, Km3, ---)"
      ]
     },
     "metadata": {},
     "output_type": "display_data"
    },
    {
     "data": {
      "text/plain": [
       "TrackedReal<Epp>(0.0009422140346028443, 0.0, LHR, ---)"
      ]
     },
     "metadata": {},
     "output_type": "display_data"
    },
    {
     "data": {
      "text/plain": [
       "TrackedReal<3R0>(0.0009421805380918012, 0.0, 5pT, ---)"
      ]
     },
     "metadata": {},
     "output_type": "display_data"
    },
    {
     "data": {
      "text/plain": [
       "TrackedReal<3UX>(0.0009420251074770308, 0.0, 6ub, ---)"
      ]
     },
     "metadata": {},
     "output_type": "display_data"
    },
    {
     "data": {
      "text/plain": [
       "TrackedReal<K0e>(0.0009420138212399916, 0.0, HSC, ---)"
      ]
     },
     "metadata": {},
     "output_type": "display_data"
    },
    {
     "data": {
      "text/plain": [
       "TrackedReal<IBq>(0.0009411531519157902, 0.0, FSz, ---)"
      ]
     },
     "metadata": {},
     "output_type": "display_data"
    },
    {
     "data": {
      "text/plain": [
       "TrackedReal<8qo>(0.0009364602118059688, 0.0, 9vc, ---)"
      ]
     },
     "metadata": {},
     "output_type": "display_data"
    },
    {
     "data": {
      "text/plain": [
       "TrackedReal<EJw>(0.0009324937500668212, 0.0, 3Up, ---)"
      ]
     },
     "metadata": {},
     "output_type": "display_data"
    },
    {
     "data": {
      "text/plain": [
       " * Status: failure\n",
       "\n",
       " * Candidate solution\n",
       "    Final objective value:     9.324938e-04\n",
       "\n",
       " * Found with\n",
       "    Algorithm:     L-BFGS\n",
       "\n",
       " * Convergence measures\n",
       "    |x - x'|               = 4.26e-04 ≰ 0.0e+00\n",
       "    |x - x'|/|x'|          = 4.55e-04 ≰ 0.0e+00\n",
       "    |f(x) - f(x')|         = 3.97e-06 ≰ 0.0e+00\n",
       "    |f(x) - f(x')|/|f(x')| = 4.25e-03 ≰ 0.0e+00\n",
       "    |g(x)|                 = 7.14e-01 ≰ 1.0e-08\n",
       "\n",
       " * Work counters\n",
       "    Seconds run:   1  (vs limit Inf)\n",
       "    Iterations:    25\n",
       "    f(x) calls:    101\n",
       "    ∇f(x) calls:   101\n"
      ]
     },
     "execution_count": 27,
     "metadata": {},
     "output_type": "execute_result"
    }
   ],
   "source": [
    "res = DiffEqFlux.sciml_train(loss, θ, LBFGS(); cb=cb, maxiters=100, diffmode=DiffEqFlux.ReverseDiffMode())"
   ]
  },
  {
   "cell_type": "code",
   "execution_count": null,
   "metadata": {},
   "outputs": [],
   "source": [
    "xTest = Vector(range(0., 1., length=33))\n",
    "xTest = hcat(xTest...)\n",
    "yTest = exp.(-xTest)\n",
    "yPred = 1 .+ ann(xTest, res.minimizer[nx+1:end]) .* xTest;"
   ]
  },
  {
   "cell_type": "code",
   "execution_count": null,
   "metadata": {},
   "outputs": [],
   "source": [
    "using Plots\n",
    "plot(xTest', yTest', label=\"Exact\")\n",
    "scatter!(xTest', yPred', label=\"NN\")"
   ]
  },
  {
   "cell_type": "markdown",
   "metadata": {},
   "source": [
    "## 2D Laplace solution"
   ]
  },
  {
   "cell_type": "code",
   "execution_count": 22,
   "metadata": {},
   "outputs": [],
   "source": [
    "xspan = 0.f0:0.1f0:2.f0\n",
    "yspan = 0.f0:0.1f0:1.f0\n",
    "\n",
    "x = collect(xspan)\n",
    "y = collect(yspan)\n",
    "nx = length(x)\n",
    "ny = length(y)\n",
    "xMesh, yMesh = meshgrid(x, y)\n",
    "xMesh1D = reshape(xMesh, (1, :))\n",
    "yMesh1D = reshape(yMesh, (1, :))\n",
    "mesh = cat(xMesh1D, yMesh1D; dims=1)\n",
    "\n",
    "X = deepcopy(mesh)\n",
    "Y = zeros(Float32, 1, length(x)*length(y));"
   ]
  },
  {
   "cell_type": "code",
   "execution_count": 23,
   "metadata": {},
   "outputs": [],
   "source": [
    "m = FastChain(FastDense(2, 20, tanh), FastDense(20, 20, tanh), FastDense(20, 1))\n",
    "p = initial_params(m);\n",
    "θ = [vcat(X...); p];\n",
    "#θ = p;\n",
    "n = length(Y);\n",
    "\n",
    "u(x) = sin.(π .* mat_split(x)[1] ./ 2.f0) .* mat_split(x)[2] .+ \n",
    "        mat_split(x)[1] .* (2.f0 .- mat_split(x)[1]) .* mat_split(x)[2] .* (1.f0 .- mat_split(x)[2]) .* m(x, p);"
   ]
  },
  {
   "cell_type": "code",
   "execution_count": 24,
   "metadata": {},
   "outputs": [
    {
     "data": {
      "text/plain": [
       "loss (generic function with 1 method)"
      ]
     },
     "execution_count": 24,
     "metadata": {},
     "output_type": "execute_result"
    }
   ],
   "source": [
    "function loss(θ)\n",
    "    u0 =reshape(θ[1:n*2],2,n)\n",
    "    p = θ[2n+1:end]\n",
    "     \n",
    "    u(x) = sin.(π .* mat_split(x)[1] ./ 2.f0) .* mat_split(x)[2] .+ \n",
    "        mat_split(x)[1] .* (2.f0 .- mat_split(x)[1]) .* mat_split(x)[2] .* (1.f0 .- mat_split(x)[2]) .* m(x, p)\n",
    "    \n",
    "    #ux(x) = pullback(u, x)[2](ones(size(x)))[1] |> mat_x\n",
    "    #uy(x) = pullback(u, x)[2](ones(size(x)))[1] |> mat_y\n",
    "    \n",
    "    #uxx(x) = pullback(ux, x)[2](ones(size(x)))[1] |> mat_x\n",
    "    #uyy(x) = pullback(uy, x)[2](ones(size(x)))[1] |> mat_y\n",
    "    \n",
    "    function ux(x)\n",
    "        uu = reshape(u(x), (ny, :))\n",
    "        xx = reshape(u0[1,:], (ny, :))\n",
    "        dux = zeros(eltype(x), ny, nx)\n",
    "        for i in 1:ny\n",
    "            dux[i,:] .= central_diff(uu[i,:], xx[i,:])\n",
    "        end\n",
    "        \n",
    "        return reshape(dux, (1, :))\n",
    "    end\n",
    "    function uy(x)\n",
    "        uu = reshape(u(x), (ny, :))\n",
    "        yy = reshape(u0[2,:], (ny, :))\n",
    "        duy = zeros(eltype(x), ny, nx)\n",
    "        for j in 1:nx\n",
    "            duy[:,j] .= central_diff(uu[:,j], yy[:,j])\n",
    "        end\n",
    "        \n",
    "        return reshape(duy, (1, :))\n",
    "    end\n",
    "    #=\n",
    "    function uxx(x)\n",
    "        uu = reshape(ux(x), (ny, :))\n",
    "        xx = reshape(u0[1,:], (ny, :))\n",
    "        d2ux = zeros(eltype(x), ny, nx)\n",
    "        for i in 1:ny\n",
    "            d2ux[i,:] .= central_diff(uu[i,:], xx[i,:])\n",
    "        end\n",
    "        \n",
    "        return reshape(d2ux, (1, :))\n",
    "    end\n",
    "    function uyy(x)\n",
    "        uu = reshape(uy(x), (ny, :))\n",
    "        yy = reshape(u0[2,:], (ny, :))\n",
    "        d2uy = zeros(eltype(x), ny, nx)\n",
    "        for j in 1:nx\n",
    "            d2uy[:,j] .= central_diff(uu[:,j], yy[:,j])\n",
    "        end\n",
    "        \n",
    "        return reshape(d2uy, (1, :))\n",
    "    end\n",
    "    \n",
    "    #pred = uxx(u0) .+ uyy(u0)\n",
    "    =#\n",
    "    \n",
    "    #dx = unstruct_diff(u, u0, ny, 1)\n",
    "    #dy = unstruct_diff(u, u0, ny, 2)\n",
    "    d2x = unstruct_diff(ux, u0, ny, 1)\n",
    "    d2y = unstruct_diff(uy, u0, ny, 2)\n",
    "        \n",
    "    pred = d2x .+ d2y\n",
    "    loss = sum(abs2, pred)\n",
    "    \n",
    "    return loss, pred\n",
    "end"
   ]
  },
  {
   "cell_type": "code",
   "execution_count": 25,
   "metadata": {},
   "outputs": [
    {
     "data": {
      "text/plain": [
       "#10 (generic function with 1 method)"
      ]
     },
     "execution_count": 25,
     "metadata": {},
     "output_type": "execute_result"
    }
   ],
   "source": [
    "cb = function (θ, l, pred; isplot=false)\n",
    "    display(l)\n",
    "    return false\n",
    "end"
   ]
  },
  {
   "cell_type": "code",
   "execution_count": 26,
   "metadata": {
    "scrolled": true
   },
   "outputs": [
    {
     "data": {
      "text/plain": [
       "TrackedReal<IW8>(274.1217, 0.0, HlM, ---)"
      ]
     },
     "metadata": {},
     "output_type": "display_data"
    },
    {
     "data": {
      "text/plain": [
       "TrackedReal<HyF>(228.29147, 0.0, DAE, ---)"
      ]
     },
     "metadata": {},
     "output_type": "display_data"
    },
    {
     "data": {
      "text/plain": [
       "TrackedReal<8zN>(171.86864, 0.0, FX8, ---)"
      ]
     },
     "metadata": {},
     "output_type": "display_data"
    },
    {
     "data": {
      "text/plain": [
       "TrackedReal<L76>(123.942955, 0.0, COI, ---)"
      ]
     },
     "metadata": {},
     "output_type": "display_data"
    },
    {
     "data": {
      "text/plain": [
       "TrackedReal<8Xh>(98.80558, 0.0, F7u, ---)"
      ]
     },
     "metadata": {},
     "output_type": "display_data"
    },
    {
     "data": {
      "text/plain": [
       "TrackedReal<1zb>(87.066025, 0.0, 5JS, ---)"
      ]
     },
     "metadata": {},
     "output_type": "display_data"
    },
    {
     "data": {
      "text/plain": [
       "TrackedReal<45I>(78.89, 0.0, Cx8, ---)"
      ]
     },
     "metadata": {},
     "output_type": "display_data"
    },
    {
     "data": {
      "text/plain": [
       "TrackedReal<4ly>(70.094986, 0.0, FUe, ---)"
      ]
     },
     "metadata": {},
     "output_type": "display_data"
    },
    {
     "data": {
      "text/plain": [
       "TrackedReal<JuN>(63.56332, 0.0, 4so, ---)"
      ]
     },
     "metadata": {},
     "output_type": "display_data"
    },
    {
     "data": {
      "text/plain": [
       "TrackedReal<AUd>(57.704792, 0.0, 6c8, ---)"
      ]
     },
     "metadata": {},
     "output_type": "display_data"
    },
    {
     "data": {
      "text/plain": [
       "TrackedReal<HGT>(51.61241, 0.0, F3H, ---)"
      ]
     },
     "metadata": {},
     "output_type": "display_data"
    },
    {
     "data": {
      "text/plain": [
       "TrackedReal<5qd>(46.50862, 0.0, JfY, ---)"
      ]
     },
     "metadata": {},
     "output_type": "display_data"
    },
    {
     "data": {
      "text/plain": [
       "TrackedReal<L3M>(43.26755, 0.0, DgI, ---)"
      ]
     },
     "metadata": {},
     "output_type": "display_data"
    },
    {
     "data": {
      "text/plain": [
       "TrackedReal<4dg>(39.921535, 0.0, DuR, ---)"
      ]
     },
     "metadata": {},
     "output_type": "display_data"
    },
    {
     "data": {
      "text/plain": [
       "TrackedReal<EkB>(35.928585, 0.0, CQ1, ---)"
      ]
     },
     "metadata": {},
     "output_type": "display_data"
    },
    {
     "data": {
      "text/plain": [
       "TrackedReal<5ZZ>(33.4868, 0.0, 8z8, ---)"
      ]
     },
     "metadata": {},
     "output_type": "display_data"
    },
    {
     "data": {
      "text/plain": [
       "TrackedReal<B5C>(31.34276, 0.0, Bal, ---)"
      ]
     },
     "metadata": {},
     "output_type": "display_data"
    },
    {
     "data": {
      "text/plain": [
       "TrackedReal<E9p>(28.90988, 0.0, LdI, ---)"
      ]
     },
     "metadata": {},
     "output_type": "display_data"
    },
    {
     "data": {
      "text/plain": [
       "TrackedReal<F4a>(26.902487, 0.0, BY2, ---)"
      ]
     },
     "metadata": {},
     "output_type": "display_data"
    },
    {
     "data": {
      "text/plain": [
       "TrackedReal<7r6>(24.544197, 0.0, A50, ---)"
      ]
     },
     "metadata": {},
     "output_type": "display_data"
    },
    {
     "data": {
      "text/plain": [
       "TrackedReal<FCf>(20.521788, 0.0, 6c8, ---)"
      ]
     },
     "metadata": {},
     "output_type": "display_data"
    },
    {
     "data": {
      "text/plain": [
       "TrackedReal<BGc>(17.457893, 0.0, F3H, ---)"
      ]
     },
     "metadata": {},
     "output_type": "display_data"
    },
    {
     "data": {
      "text/plain": [
       "TrackedReal<91B>(15.656667, 0.0, JfY, ---)"
      ]
     },
     "metadata": {},
     "output_type": "display_data"
    },
    {
     "data": {
      "text/plain": [
       "TrackedReal<3eK>(14.6008, 0.0, JCF, ---)"
      ]
     },
     "metadata": {},
     "output_type": "display_data"
    },
    {
     "data": {
      "text/plain": [
       "TrackedReal<6aH>(12.435473, 0.0, 8Xb, ---)"
      ]
     },
     "metadata": {},
     "output_type": "display_data"
    },
    {
     "data": {
      "text/plain": [
       "TrackedReal<TRT>(10.4496355, 0.0, LQA, ---)"
      ]
     },
     "metadata": {},
     "output_type": "display_data"
    },
    {
     "data": {
      "text/plain": [
       "TrackedReal<HkI>(8.823681, 0.0, EUc, ---)"
      ]
     },
     "metadata": {},
     "output_type": "display_data"
    },
    {
     "data": {
      "text/plain": [
       "TrackedReal<LdS>(7.939759, 0.0, G9j, ---)"
      ]
     },
     "metadata": {},
     "output_type": "display_data"
    },
    {
     "data": {
      "text/plain": [
       "TrackedReal<G4c>(7.653512, 0.0, EQo, ---)"
      ]
     },
     "metadata": {},
     "output_type": "display_data"
    },
    {
     "data": {
      "text/plain": [
       "TrackedReal<Kg1>(7.3428063, 0.0, CbM, ---)"
      ]
     },
     "metadata": {},
     "output_type": "display_data"
    },
    {
     "data": {
      "text/plain": [
       "TrackedReal<LMh>(6.616721, 0.0, IyT, ---)"
      ]
     },
     "metadata": {},
     "output_type": "display_data"
    },
    {
     "data": {
      "text/plain": [
       "TrackedReal<Gqf>(6.2223206, 0.0, FOx, ---)"
      ]
     },
     "metadata": {},
     "output_type": "display_data"
    },
    {
     "data": {
      "text/plain": [
       "TrackedReal<Et3>(5.884595, 0.0, Cb1, ---)"
      ]
     },
     "metadata": {},
     "output_type": "display_data"
    },
    {
     "data": {
      "text/plain": [
       "TrackedReal<3tf>(5.679741, 0.0, EUc, ---)"
      ]
     },
     "metadata": {},
     "output_type": "display_data"
    },
    {
     "data": {
      "text/plain": [
       "TrackedReal<9PI>(5.342197, 0.0, G9j, ---)"
      ]
     },
     "metadata": {},
     "output_type": "display_data"
    },
    {
     "data": {
      "text/plain": [
       "TrackedReal<ERb>(5.058661, 0.0, KOg, ---)"
      ]
     },
     "metadata": {},
     "output_type": "display_data"
    },
    {
     "data": {
      "text/plain": [
       "TrackedReal<3bY>(4.5801086, 0.0, A72, ---)"
      ]
     },
     "metadata": {},
     "output_type": "display_data"
    },
    {
     "data": {
      "text/plain": [
       "TrackedReal<5FP>(4.142072, 0.0, 3ym, ---)"
      ]
     },
     "metadata": {},
     "output_type": "display_data"
    },
    {
     "data": {
      "text/plain": [
       "TrackedReal<6KR>(3.8850346, 0.0, EQo, ---)"
      ]
     },
     "metadata": {},
     "output_type": "display_data"
    },
    {
     "data": {
      "text/plain": [
       "TrackedReal<3C5>(3.8071246, 0.0, Bso, ---)"
      ]
     },
     "metadata": {},
     "output_type": "display_data"
    },
    {
     "data": {
      "text/plain": [
       "TrackedReal<Bov>(3.6647868, 0.0, 2Dk, ---)"
      ]
     },
     "metadata": {},
     "output_type": "display_data"
    },
    {
     "data": {
      "text/plain": [
       "TrackedReal<C46>(3.3739865, 0.0, BRx, ---)"
      ]
     },
     "metadata": {},
     "output_type": "display_data"
    },
    {
     "data": {
      "text/plain": [
       "TrackedReal<HEI>(3.085513, 0.0, 68d, ---)"
      ]
     },
     "metadata": {},
     "output_type": "display_data"
    },
    {
     "data": {
      "text/plain": [
       "TrackedReal<4ub>(2.8462381, 0.0, Bal, ---)"
      ]
     },
     "metadata": {},
     "output_type": "display_data"
    },
    {
     "data": {
      "text/plain": [
       "TrackedReal<MA3>(2.6413693, 0.0, LdI, ---)"
      ]
     },
     "metadata": {},
     "output_type": "display_data"
    },
    {
     "data": {
      "text/plain": [
       "TrackedReal<828>(2.6140623, 0.0, F3H, ---)"
      ]
     },
     "metadata": {},
     "output_type": "display_data"
    },
    {
     "data": {
      "text/plain": [
       "TrackedReal<Bdg>(2.512903, 0.0, A50, ---)"
      ]
     },
     "metadata": {},
     "output_type": "display_data"
    },
    {
     "data": {
      "text/plain": [
       "TrackedReal<K4z>(2.4093554, 0.0, 6c8, ---)"
      ]
     },
     "metadata": {},
     "output_type": "display_data"
    },
    {
     "data": {
      "text/plain": [
       "TrackedReal<G91>(2.2968082, 0.0, F3H, ---)"
      ]
     },
     "metadata": {},
     "output_type": "display_data"
    },
    {
     "data": {
      "text/plain": [
       "TrackedReal<4qg>(2.1817563, 0.0, JfY, ---)"
      ]
     },
     "metadata": {},
     "output_type": "display_data"
    },
    {
     "data": {
      "text/plain": [
       "TrackedReal<Haw>(2.1351545, 0.0, Bal, ---)"
      ]
     },
     "metadata": {},
     "output_type": "display_data"
    },
    {
     "data": {
      "text/plain": [
       "TrackedReal<Gxt>(2.0568278, 0.0, LdI, ---)"
      ]
     },
     "metadata": {},
     "output_type": "display_data"
    },
    {
     "data": {
      "text/plain": [
       "TrackedReal<363>(1.9382908, 0.0, BY2, ---)"
      ]
     },
     "metadata": {},
     "output_type": "display_data"
    },
    {
     "data": {
      "text/plain": [
       "TrackedReal<HFP>(1.7994844, 0.0, Dh3, ---)"
      ]
     },
     "metadata": {},
     "output_type": "display_data"
    },
    {
     "data": {
      "text/plain": [
       "TrackedReal<914>(1.6899136, 0.0, 6c8, ---)"
      ]
     },
     "metadata": {},
     "output_type": "display_data"
    },
    {
     "data": {
      "text/plain": [
       "TrackedReal<5Zq>(1.5952023, 0.0, F3H, ---)"
      ]
     },
     "metadata": {},
     "output_type": "display_data"
    },
    {
     "data": {
      "text/plain": [
       "TrackedReal<Ib5>(1.5156885, 0.0, JfY, ---)"
      ]
     },
     "metadata": {},
     "output_type": "display_data"
    },
    {
     "data": {
      "text/plain": [
       "TrackedReal<JfJ>(1.4702499, 0.0, EUc, ---)"
      ]
     },
     "metadata": {},
     "output_type": "display_data"
    },
    {
     "data": {
      "text/plain": [
       "TrackedReal<7rX>(1.3995737, 0.0, G9j, ---)"
      ]
     },
     "metadata": {},
     "output_type": "display_data"
    },
    {
     "data": {
      "text/plain": [
       "TrackedReal<85J>(1.3437384, 0.0, KOg, ---)"
      ]
     },
     "metadata": {},
     "output_type": "display_data"
    },
    {
     "data": {
      "text/plain": [
       "TrackedReal<6tc>(1.2807208, 0.0, 3vQ, ---)"
      ]
     },
     "metadata": {},
     "output_type": "display_data"
    },
    {
     "data": {
      "text/plain": [
       "TrackedReal<Dgs>(1.2087939, 0.0, 3ym, ---)"
      ]
     },
     "metadata": {},
     "output_type": "display_data"
    },
    {
     "data": {
      "text/plain": [
       "TrackedReal<9Cn>(1.1920035, 0.0, qKS, ---)"
      ]
     },
     "metadata": {},
     "output_type": "display_data"
    },
    {
     "data": {
      "text/plain": [
       "TrackedReal<Lgg>(1.1623771, 0.0, Bso, ---)"
      ]
     },
     "metadata": {},
     "output_type": "display_data"
    },
    {
     "data": {
      "text/plain": [
       "TrackedReal<G6O>(1.1134638, 0.0, EUc, ---)"
      ]
     },
     "metadata": {},
     "output_type": "display_data"
    },
    {
     "data": {
      "text/plain": [
       "TrackedReal<Fo5>(1.071397, 0.0, G9j, ---)"
      ]
     },
     "metadata": {},
     "output_type": "display_data"
    },
    {
     "data": {
      "text/plain": [
       "TrackedReal<ya0>(0.98799366, 0.0, KOg, ---)"
      ]
     },
     "metadata": {},
     "output_type": "display_data"
    },
    {
     "data": {
      "text/plain": [
       " * Status: failure\n",
       "\n",
       " * Candidate solution\n",
       "    Final objective value:     9.879937e-01\n",
       "\n",
       " * Found with\n",
       "    Algorithm:     L-BFGS\n",
       "\n",
       " * Convergence measures\n",
       "    |x - x'|               = 2.88e-03 ≰ 0.0e+00\n",
       "    |x - x'|/|x'|          = 1.42e-03 ≰ 0.0e+00\n",
       "    |f(x) - f(x')|         = 8.34e-02 ≰ 0.0e+00\n",
       "    |f(x) - f(x')|/|f(x')| = 8.44e-02 ≰ 0.0e+00\n",
       "    |g(x)|                 = 2.29e+01 ≰ 1.0e-08\n",
       "\n",
       " * Work counters\n",
       "    Seconds run:   7  (vs limit Inf)\n",
       "    Iterations:    66\n",
       "    f(x) calls:    202\n",
       "    ∇f(x) calls:   202\n"
      ]
     },
     "execution_count": 26,
     "metadata": {},
     "output_type": "execute_result"
    }
   ],
   "source": [
    "res = DiffEqFlux.sciml_train(loss, θ, LBFGS(); cb=cb, maxiters=200, diffmode=DiffEqFlux.ReverseDiffMode())"
   ]
  },
  {
   "cell_type": "code",
   "execution_count": 27,
   "metadata": {},
   "outputs": [],
   "source": [
    "x0 = 0.; x1 = 2.\n",
    "y0 = 0.; y1 = 1.\n",
    "nxTest = 23; nyTest = 11\n",
    "\n",
    "# meshgrid\n",
    "xVecTest = Vector(range(x0, stop=x1, length=nxTest))\n",
    "xMeshTest = repeat(reshape(xVecTest, 1, :), nyTest, 1)\n",
    "\n",
    "yVecTest = Vector(range(y0, stop=y1, length=nyTest))\n",
    "yMeshTest = repeat(yVecTest, 1, nxTest)\n",
    "\n",
    "xMeshTest1D = reshape(xMeshTest, (1, :))\n",
    "yMeshTest1D = reshape(yMeshTest, (1, :))\n",
    "meshTest = cat(xMeshTest1D, yMeshTest1D; dims=1)\n",
    "\n",
    "f_pred = u(meshTest)\n",
    "f_pred = reshape(f_pred, (nyTest, nxTest));"
   ]
  },
  {
   "cell_type": "code",
   "execution_count": 28,
   "metadata": {},
   "outputs": [
    {
     "data": {
      "image/svg+xml": [
       "<?xml version=\"1.0\" encoding=\"utf-8\"?>\n",
       "<svg xmlns=\"http://www.w3.org/2000/svg\" xmlns:xlink=\"http://www.w3.org/1999/xlink\" width=\"600\" height=\"400\" viewBox=\"0 0 2400 1600\">\n",
       "<defs>\n",
       "  <clipPath id=\"clip780\">\n",
       "    <rect x=\"0\" y=\"0\" width=\"2400\" height=\"1600\"/>\n",
       "  </clipPath>\n",
       "</defs>\n",
       "<path clip-path=\"url(#clip780)\" d=\"\n",
       "M0 1600 L2400 1600 L2400 0 L0 0  Z\n",
       "  \" fill=\"#ffffff\" fill-rule=\"evenodd\" fill-opacity=\"1\"/>\n",
       "<defs>\n",
       "  <clipPath id=\"clip781\">\n",
       "    <rect x=\"480\" y=\"0\" width=\"1681\" height=\"1600\"/>\n",
       "  </clipPath>\n",
       "</defs>\n",
       "<path clip-path=\"url(#clip780)\" d=\"\n",
       "M148.334 1486.45 L2112.76 1486.45 L2112.76 47.2441 L148.334 47.2441  Z\n",
       "  \" fill=\"#ffffff\" fill-rule=\"evenodd\" fill-opacity=\"1\"/>\n",
       "<defs>\n",
       "  <clipPath id=\"clip782\">\n",
       "    <rect x=\"148\" y=\"47\" width=\"1965\" height=\"1440\"/>\n",
       "  </clipPath>\n",
       "</defs>\n",
       "<polyline clip-path=\"url(#clip782)\" style=\"stroke:#000000; stroke-width:2; stroke-opacity:0.1; fill:none\" points=\"\n",
       "  148.334,1486.45 148.334,47.2441 \n",
       "  \"/>\n",
       "<polyline clip-path=\"url(#clip782)\" style=\"stroke:#000000; stroke-width:2; stroke-opacity:0.1; fill:none\" points=\"\n",
       "  639.44,1486.45 639.44,47.2441 \n",
       "  \"/>\n",
       "<polyline clip-path=\"url(#clip782)\" style=\"stroke:#000000; stroke-width:2; stroke-opacity:0.1; fill:none\" points=\"\n",
       "  1130.55,1486.45 1130.55,47.2441 \n",
       "  \"/>\n",
       "<polyline clip-path=\"url(#clip782)\" style=\"stroke:#000000; stroke-width:2; stroke-opacity:0.1; fill:none\" points=\"\n",
       "  1621.65,1486.45 1621.65,47.2441 \n",
       "  \"/>\n",
       "<polyline clip-path=\"url(#clip782)\" style=\"stroke:#000000; stroke-width:2; stroke-opacity:0.1; fill:none\" points=\"\n",
       "  2112.76,1486.45 2112.76,47.2441 \n",
       "  \"/>\n",
       "<polyline clip-path=\"url(#clip782)\" style=\"stroke:#000000; stroke-width:2; stroke-opacity:0.1; fill:none\" points=\"\n",
       "  148.334,1486.45 2112.76,1486.45 \n",
       "  \"/>\n",
       "<polyline clip-path=\"url(#clip782)\" style=\"stroke:#000000; stroke-width:2; stroke-opacity:0.1; fill:none\" points=\"\n",
       "  148.334,1198.61 2112.76,1198.61 \n",
       "  \"/>\n",
       "<polyline clip-path=\"url(#clip782)\" style=\"stroke:#000000; stroke-width:2; stroke-opacity:0.1; fill:none\" points=\"\n",
       "  148.334,910.766 2112.76,910.766 \n",
       "  \"/>\n",
       "<polyline clip-path=\"url(#clip782)\" style=\"stroke:#000000; stroke-width:2; stroke-opacity:0.1; fill:none\" points=\"\n",
       "  148.334,622.926 2112.76,622.926 \n",
       "  \"/>\n",
       "<polyline clip-path=\"url(#clip782)\" style=\"stroke:#000000; stroke-width:2; stroke-opacity:0.1; fill:none\" points=\"\n",
       "  148.334,335.085 2112.76,335.085 \n",
       "  \"/>\n",
       "<polyline clip-path=\"url(#clip782)\" style=\"stroke:#000000; stroke-width:2; stroke-opacity:0.1; fill:none\" points=\"\n",
       "  148.334,47.2441 2112.76,47.2441 \n",
       "  \"/>\n",
       "<polyline clip-path=\"url(#clip780)\" style=\"stroke:#000000; stroke-width:4; stroke-opacity:1; fill:none\" points=\"\n",
       "  148.334,1486.45 2112.76,1486.45 \n",
       "  \"/>\n",
       "<polyline clip-path=\"url(#clip780)\" style=\"stroke:#000000; stroke-width:4; stroke-opacity:1; fill:none\" points=\"\n",
       "  148.334,1486.45 148.334,47.2441 \n",
       "  \"/>\n",
       "<polyline clip-path=\"url(#clip780)\" style=\"stroke:#000000; stroke-width:4; stroke-opacity:1; fill:none\" points=\"\n",
       "  148.334,1486.45 148.334,1469.18 \n",
       "  \"/>\n",
       "<polyline clip-path=\"url(#clip780)\" style=\"stroke:#000000; stroke-width:4; stroke-opacity:1; fill:none\" points=\"\n",
       "  639.44,1486.45 639.44,1469.18 \n",
       "  \"/>\n",
       "<polyline clip-path=\"url(#clip780)\" style=\"stroke:#000000; stroke-width:4; stroke-opacity:1; fill:none\" points=\"\n",
       "  1130.55,1486.45 1130.55,1469.18 \n",
       "  \"/>\n",
       "<polyline clip-path=\"url(#clip780)\" style=\"stroke:#000000; stroke-width:4; stroke-opacity:1; fill:none\" points=\"\n",
       "  1621.65,1486.45 1621.65,1469.18 \n",
       "  \"/>\n",
       "<polyline clip-path=\"url(#clip780)\" style=\"stroke:#000000; stroke-width:4; stroke-opacity:1; fill:none\" points=\"\n",
       "  2112.76,1486.45 2112.76,1469.18 \n",
       "  \"/>\n",
       "<polyline clip-path=\"url(#clip780)\" style=\"stroke:#000000; stroke-width:4; stroke-opacity:1; fill:none\" points=\"\n",
       "  148.334,1486.45 171.907,1486.45 \n",
       "  \"/>\n",
       "<polyline clip-path=\"url(#clip780)\" style=\"stroke:#000000; stroke-width:4; stroke-opacity:1; fill:none\" points=\"\n",
       "  148.334,1198.61 171.907,1198.61 \n",
       "  \"/>\n",
       "<polyline clip-path=\"url(#clip780)\" style=\"stroke:#000000; stroke-width:4; stroke-opacity:1; fill:none\" points=\"\n",
       "  148.334,910.766 171.907,910.766 \n",
       "  \"/>\n",
       "<polyline clip-path=\"url(#clip780)\" style=\"stroke:#000000; stroke-width:4; stroke-opacity:1; fill:none\" points=\"\n",
       "  148.334,622.926 171.907,622.926 \n",
       "  \"/>\n",
       "<polyline clip-path=\"url(#clip780)\" style=\"stroke:#000000; stroke-width:4; stroke-opacity:1; fill:none\" points=\"\n",
       "  148.334,335.085 171.907,335.085 \n",
       "  \"/>\n",
       "<polyline clip-path=\"url(#clip780)\" style=\"stroke:#000000; stroke-width:4; stroke-opacity:1; fill:none\" points=\"\n",
       "  148.334,47.2441 171.907,47.2441 \n",
       "  \"/>\n",
       "<path clip-path=\"url(#clip780)\" d=\"M 0 0 M129.851 1508.44 Q126.24 1508.44 124.411 1512 Q122.605 1515.55 122.605 1522.67 Q122.605 1529.78 124.411 1533.35 Q126.24 1536.89 129.851 1536.89 Q133.485 1536.89 135.29 1533.35 Q137.119 1529.78 137.119 1522.67 Q137.119 1515.55 135.29 1512 Q133.485 1508.44 129.851 1508.44 M129.851 1504.73 Q135.661 1504.73 138.716 1509.34 Q141.795 1513.92 141.795 1522.67 Q141.795 1531.4 138.716 1536.01 Q135.661 1540.59 129.851 1540.59 Q124.041 1540.59 120.962 1536.01 Q117.906 1531.4 117.906 1522.67 Q117.906 1513.92 120.962 1509.34 Q124.041 1504.73 129.851 1504.73 Z\" fill=\"#000000\" fill-rule=\"evenodd\" fill-opacity=\"1\" /><path clip-path=\"url(#clip780)\" d=\"M 0 0 M146.864 1534.04 L151.749 1534.04 L151.749 1539.92 L146.864 1539.92 L146.864 1534.04 Z\" fill=\"#000000\" fill-rule=\"evenodd\" fill-opacity=\"1\" /><path clip-path=\"url(#clip780)\" d=\"M 0 0 M166.818 1508.44 Q163.207 1508.44 161.378 1512 Q159.573 1515.55 159.573 1522.67 Q159.573 1529.78 161.378 1533.35 Q163.207 1536.89 166.818 1536.89 Q170.452 1536.89 172.258 1533.35 Q174.087 1529.78 174.087 1522.67 Q174.087 1515.55 172.258 1512 Q170.452 1508.44 166.818 1508.44 M166.818 1504.73 Q172.628 1504.73 175.684 1509.34 Q178.762 1513.92 178.762 1522.67 Q178.762 1531.4 175.684 1536.01 Q172.628 1540.59 166.818 1540.59 Q161.008 1540.59 157.929 1536.01 Q154.874 1531.4 154.874 1522.67 Q154.874 1513.92 157.929 1509.34 Q161.008 1504.73 166.818 1504.73 Z\" fill=\"#000000\" fill-rule=\"evenodd\" fill-opacity=\"1\" /><path clip-path=\"url(#clip780)\" d=\"M 0 0 M621.454 1508.44 Q617.843 1508.44 616.014 1512 Q614.208 1515.55 614.208 1522.67 Q614.208 1529.78 616.014 1533.35 Q617.843 1536.89 621.454 1536.89 Q625.088 1536.89 626.894 1533.35 Q628.722 1529.78 628.722 1522.67 Q628.722 1515.55 626.894 1512 Q625.088 1508.44 621.454 1508.44 M621.454 1504.73 Q627.264 1504.73 630.319 1509.34 Q633.398 1513.92 633.398 1522.67 Q633.398 1531.4 630.319 1536.01 Q627.264 1540.59 621.454 1540.59 Q615.644 1540.59 612.565 1536.01 Q609.509 1531.4 609.509 1522.67 Q609.509 1513.92 612.565 1509.34 Q615.644 1504.73 621.454 1504.73 Z\" fill=\"#000000\" fill-rule=\"evenodd\" fill-opacity=\"1\" /><path clip-path=\"url(#clip780)\" d=\"M 0 0 M638.468 1534.04 L643.352 1534.04 L643.352 1539.92 L638.468 1539.92 L638.468 1534.04 Z\" fill=\"#000000\" fill-rule=\"evenodd\" fill-opacity=\"1\" /><path clip-path=\"url(#clip780)\" d=\"M 0 0 M648.467 1505.36 L666.824 1505.36 L666.824 1509.3 L652.75 1509.3 L652.75 1517.77 Q653.768 1517.42 654.787 1517.26 Q655.805 1517.07 656.824 1517.07 Q662.611 1517.07 665.991 1520.24 Q669.37 1523.42 669.37 1528.83 Q669.37 1534.41 665.898 1537.51 Q662.426 1540.59 656.106 1540.59 Q653.93 1540.59 651.662 1540.22 Q649.417 1539.85 647.009 1539.11 L647.009 1534.41 Q649.092 1535.54 651.315 1536.1 Q653.537 1536.66 656.014 1536.66 Q660.018 1536.66 662.356 1534.55 Q664.694 1532.44 664.694 1528.83 Q664.694 1525.22 662.356 1523.11 Q660.018 1521.01 656.014 1521.01 Q654.139 1521.01 652.264 1521.42 Q650.412 1521.84 648.467 1522.72 L648.467 1505.36 Z\" fill=\"#000000\" fill-rule=\"evenodd\" fill-opacity=\"1\" /><path clip-path=\"url(#clip780)\" d=\"M 0 0 M1102.44 1535.98 L1110.08 1535.98 L1110.08 1509.62 L1101.77 1511.29 L1101.77 1507.03 L1110.04 1505.36 L1114.71 1505.36 L1114.71 1535.98 L1122.35 1535.98 L1122.35 1539.92 L1102.44 1539.92 L1102.44 1535.98 Z\" fill=\"#000000\" fill-rule=\"evenodd\" fill-opacity=\"1\" /><path clip-path=\"url(#clip780)\" d=\"M 0 0 M1127.42 1534.04 L1132.3 1534.04 L1132.3 1539.92 L1127.42 1539.92 L1127.42 1534.04 Z\" fill=\"#000000\" fill-rule=\"evenodd\" fill-opacity=\"1\" /><path clip-path=\"url(#clip780)\" d=\"M 0 0 M1147.37 1508.44 Q1143.76 1508.44 1141.93 1512 Q1140.13 1515.55 1140.13 1522.67 Q1140.13 1529.78 1141.93 1533.35 Q1143.76 1536.89 1147.37 1536.89 Q1151.01 1536.89 1152.81 1533.35 Q1154.64 1529.78 1154.64 1522.67 Q1154.64 1515.55 1152.81 1512 Q1151.01 1508.44 1147.37 1508.44 M1147.37 1504.73 Q1153.18 1504.73 1156.24 1509.34 Q1159.32 1513.92 1159.32 1522.67 Q1159.32 1531.4 1156.24 1536.01 Q1153.18 1540.59 1147.37 1540.59 Q1141.56 1540.59 1138.48 1536.01 Q1135.43 1531.4 1135.43 1522.67 Q1135.43 1513.92 1138.48 1509.34 Q1141.56 1504.73 1147.37 1504.73 Z\" fill=\"#000000\" fill-rule=\"evenodd\" fill-opacity=\"1\" /><path clip-path=\"url(#clip780)\" d=\"M 0 0 M1594.05 1535.98 L1601.69 1535.98 L1601.69 1509.62 L1593.38 1511.29 L1593.38 1507.03 L1601.64 1505.36 L1606.31 1505.36 L1606.31 1535.98 L1613.95 1535.98 L1613.95 1539.92 L1594.05 1539.92 L1594.05 1535.98 Z\" fill=\"#000000\" fill-rule=\"evenodd\" fill-opacity=\"1\" /><path clip-path=\"url(#clip780)\" d=\"M 0 0 M1619.02 1534.04 L1623.91 1534.04 L1623.91 1539.92 L1619.02 1539.92 L1619.02 1534.04 Z\" fill=\"#000000\" fill-rule=\"evenodd\" fill-opacity=\"1\" /><path clip-path=\"url(#clip780)\" d=\"M 0 0 M1629.02 1505.36 L1647.38 1505.36 L1647.38 1509.3 L1633.31 1509.3 L1633.31 1517.77 Q1634.32 1517.42 1635.34 1517.26 Q1636.36 1517.07 1637.38 1517.07 Q1643.17 1517.07 1646.55 1520.24 Q1649.93 1523.42 1649.93 1528.83 Q1649.93 1534.41 1646.45 1537.51 Q1642.98 1540.59 1636.66 1540.59 Q1634.49 1540.59 1632.22 1540.22 Q1629.97 1539.85 1627.56 1539.11 L1627.56 1534.41 Q1629.65 1535.54 1631.87 1536.1 Q1634.09 1536.66 1636.57 1536.66 Q1640.57 1536.66 1642.91 1534.55 Q1645.25 1532.44 1645.25 1528.83 Q1645.25 1525.22 1642.91 1523.11 Q1640.57 1521.01 1636.57 1521.01 Q1634.69 1521.01 1632.82 1521.42 Q1630.97 1521.84 1629.02 1522.72 L1629.02 1505.36 Z\" fill=\"#000000\" fill-rule=\"evenodd\" fill-opacity=\"1\" /><path clip-path=\"url(#clip780)\" d=\"M 0 0 M2088.93 1535.98 L2105.24 1535.98 L2105.24 1539.92 L2083.3 1539.92 L2083.3 1535.98 Q2085.96 1533.23 2090.55 1528.6 Q2095.15 1523.95 2096.33 1522.61 Q2098.58 1520.08 2099.46 1518.35 Q2100.36 1516.59 2100.36 1514.9 Q2100.36 1512.14 2098.42 1510.41 Q2096.49 1508.67 2093.39 1508.67 Q2091.19 1508.67 2088.74 1509.43 Q2086.31 1510.2 2083.53 1511.75 L2083.53 1507.03 Q2086.36 1505.89 2088.81 1505.31 Q2091.26 1504.73 2093.3 1504.73 Q2098.67 1504.73 2101.86 1507.42 Q2105.06 1510.11 2105.06 1514.6 Q2105.06 1516.73 2104.25 1518.65 Q2103.46 1520.54 2101.36 1523.14 Q2100.78 1523.81 2097.67 1527.03 Q2094.57 1530.22 2088.93 1535.98 Z\" fill=\"#000000\" fill-rule=\"evenodd\" fill-opacity=\"1\" /><path clip-path=\"url(#clip780)\" d=\"M 0 0 M2110.31 1534.04 L2115.2 1534.04 L2115.2 1539.92 L2110.31 1539.92 L2110.31 1534.04 Z\" fill=\"#000000\" fill-rule=\"evenodd\" fill-opacity=\"1\" /><path clip-path=\"url(#clip780)\" d=\"M 0 0 M2130.27 1508.44 Q2126.66 1508.44 2124.83 1512 Q2123.02 1515.55 2123.02 1522.67 Q2123.02 1529.78 2124.83 1533.35 Q2126.66 1536.89 2130.27 1536.89 Q2133.9 1536.89 2135.71 1533.35 Q2137.54 1529.78 2137.54 1522.67 Q2137.54 1515.55 2135.71 1512 Q2133.9 1508.44 2130.27 1508.44 M2130.27 1504.73 Q2136.08 1504.73 2139.13 1509.34 Q2142.21 1513.92 2142.21 1522.67 Q2142.21 1531.4 2139.13 1536.01 Q2136.08 1540.59 2130.27 1540.59 Q2124.46 1540.59 2121.38 1536.01 Q2118.32 1531.4 2118.32 1522.67 Q2118.32 1513.92 2121.38 1509.34 Q2124.46 1504.73 2130.27 1504.73 Z\" fill=\"#000000\" fill-rule=\"evenodd\" fill-opacity=\"1\" /><path clip-path=\"url(#clip780)\" d=\"M 0 0 M75.4226 1472.25 Q71.8115 1472.25 69.9828 1475.81 Q68.1773 1479.35 68.1773 1486.48 Q68.1773 1493.59 69.9828 1497.15 Q71.8115 1500.7 75.4226 1500.7 Q79.0569 1500.7 80.8624 1497.15 Q82.6911 1493.59 82.6911 1486.48 Q82.6911 1479.35 80.8624 1475.81 Q79.0569 1472.25 75.4226 1472.25 M75.4226 1468.54 Q81.2328 1468.54 84.2883 1473.15 Q87.367 1477.73 87.367 1486.48 Q87.367 1495.21 84.2883 1499.82 Q81.2328 1504.4 75.4226 1504.4 Q69.6125 1504.4 66.5338 1499.82 Q63.4782 1495.21 63.4782 1486.48 Q63.4782 1477.73 66.5338 1473.15 Q69.6125 1468.54 75.4226 1468.54 Z\" fill=\"#000000\" fill-rule=\"evenodd\" fill-opacity=\"1\" /><path clip-path=\"url(#clip780)\" d=\"M 0 0 M92.4364 1497.85 L97.3206 1497.85 L97.3206 1503.73 L92.4364 1503.73 L92.4364 1497.85 Z\" fill=\"#000000\" fill-rule=\"evenodd\" fill-opacity=\"1\" /><path clip-path=\"url(#clip780)\" d=\"M 0 0 M112.39 1472.25 Q108.779 1472.25 106.95 1475.81 Q105.145 1479.35 105.145 1486.48 Q105.145 1493.59 106.95 1497.15 Q108.779 1500.7 112.39 1500.7 Q116.024 1500.7 117.83 1497.15 Q119.658 1493.59 119.658 1486.48 Q119.658 1479.35 117.83 1475.81 Q116.024 1472.25 112.39 1472.25 M112.39 1468.54 Q118.2 1468.54 121.256 1473.15 Q124.334 1477.73 124.334 1486.48 Q124.334 1495.21 121.256 1499.82 Q118.2 1504.4 112.39 1504.4 Q106.58 1504.4 103.501 1499.82 Q100.446 1495.21 100.446 1486.48 Q100.446 1477.73 103.501 1473.15 Q106.58 1468.54 112.39 1468.54 Z\" fill=\"#000000\" fill-rule=\"evenodd\" fill-opacity=\"1\" /><path clip-path=\"url(#clip780)\" d=\"M 0 0 M77.0198 1184.41 Q73.4087 1184.41 71.58 1187.97 Q69.7745 1191.51 69.7745 1198.64 Q69.7745 1205.75 71.58 1209.31 Q73.4087 1212.85 77.0198 1212.85 Q80.6541 1212.85 82.4596 1209.31 Q84.2883 1205.75 84.2883 1198.64 Q84.2883 1191.51 82.4596 1187.97 Q80.6541 1184.41 77.0198 1184.41 M77.0198 1180.7 Q82.83 1180.7 85.8855 1185.31 Q88.9642 1189.89 88.9642 1198.64 Q88.9642 1207.37 85.8855 1211.98 Q82.83 1216.56 77.0198 1216.56 Q71.2097 1216.56 68.131 1211.98 Q65.0754 1207.37 65.0754 1198.64 Q65.0754 1189.89 68.131 1185.31 Q71.2097 1180.7 77.0198 1180.7 Z\" fill=\"#000000\" fill-rule=\"evenodd\" fill-opacity=\"1\" /><path clip-path=\"url(#clip780)\" d=\"M 0 0 M94.0336 1210.01 L98.9179 1210.01 L98.9179 1215.89 L94.0336 1215.89 L94.0336 1210.01 Z\" fill=\"#000000\" fill-rule=\"evenodd\" fill-opacity=\"1\" /><path clip-path=\"url(#clip780)\" d=\"M 0 0 M108.015 1211.95 L124.334 1211.95 L124.334 1215.89 L102.39 1215.89 L102.39 1211.95 Q105.052 1209.2 109.635 1204.57 Q114.242 1199.91 115.422 1198.57 Q117.668 1196.05 118.547 1194.31 Q119.45 1192.55 119.45 1190.86 Q119.45 1188.11 117.506 1186.37 Q115.584 1184.64 112.483 1184.64 Q110.284 1184.64 107.83 1185.4 Q105.399 1186.17 102.622 1187.72 L102.622 1182.99 Q105.446 1181.86 107.899 1181.28 Q110.353 1180.7 112.39 1180.7 Q117.76 1180.7 120.955 1183.39 Q124.149 1186.07 124.149 1190.56 Q124.149 1192.69 123.339 1194.61 Q122.552 1196.51 120.446 1199.1 Q119.867 1199.78 116.765 1202.99 Q113.663 1206.19 108.015 1211.95 Z\" fill=\"#000000\" fill-rule=\"evenodd\" fill-opacity=\"1\" /><path clip-path=\"url(#clip780)\" d=\"M 0 0 M74.9365 896.565 Q71.3254 896.565 69.4967 900.13 Q67.6912 903.671 67.6912 910.801 Q67.6912 917.908 69.4967 921.472 Q71.3254 925.014 74.9365 925.014 Q78.5707 925.014 80.3763 921.472 Q82.205 917.908 82.205 910.801 Q82.205 903.671 80.3763 900.13 Q78.5707 896.565 74.9365 896.565 M74.9365 892.861 Q80.7467 892.861 83.8022 897.468 Q86.8809 902.051 86.8809 910.801 Q86.8809 919.528 83.8022 924.134 Q80.7467 928.718 74.9365 928.718 Q69.1264 928.718 66.0477 924.134 Q62.9921 919.528 62.9921 910.801 Q62.9921 902.051 66.0477 897.468 Q69.1264 892.861 74.9365 892.861 Z\" fill=\"#000000\" fill-rule=\"evenodd\" fill-opacity=\"1\" /><path clip-path=\"url(#clip780)\" d=\"M 0 0 M91.9503 922.167 L96.8345 922.167 L96.8345 928.046 L91.9503 928.046 L91.9503 922.167 Z\" fill=\"#000000\" fill-rule=\"evenodd\" fill-opacity=\"1\" /><path clip-path=\"url(#clip780)\" d=\"M 0 0 M114.751 897.56 L102.946 916.009 L114.751 916.009 L114.751 897.56 M113.524 893.486 L119.404 893.486 L119.404 916.009 L124.334 916.009 L124.334 919.898 L119.404 919.898 L119.404 928.046 L114.751 928.046 L114.751 919.898 L99.1493 919.898 L99.1493 915.384 L113.524 893.486 Z\" fill=\"#000000\" fill-rule=\"evenodd\" fill-opacity=\"1\" /><path clip-path=\"url(#clip780)\" d=\"M 0 0 M75.2606 608.724 Q71.6495 608.724 69.8208 612.289 Q68.0152 615.831 68.0152 622.96 Q68.0152 630.067 69.8208 633.632 Q71.6495 637.173 75.2606 637.173 Q78.8948 637.173 80.7004 633.632 Q82.5291 630.067 82.5291 622.96 Q82.5291 615.831 80.7004 612.289 Q78.8948 608.724 75.2606 608.724 M75.2606 605.021 Q81.0707 605.021 84.1263 609.627 Q87.205 614.21 87.205 622.96 Q87.205 631.687 84.1263 636.294 Q81.0707 640.877 75.2606 640.877 Q69.4504 640.877 66.3717 636.294 Q63.3162 631.687 63.3162 622.96 Q63.3162 614.21 66.3717 609.627 Q69.4504 605.021 75.2606 605.021 Z\" fill=\"#000000\" fill-rule=\"evenodd\" fill-opacity=\"1\" /><path clip-path=\"url(#clip780)\" d=\"M 0 0 M92.2744 634.326 L97.1586 634.326 L97.1586 640.206 L92.2744 640.206 L92.2744 634.326 Z\" fill=\"#000000\" fill-rule=\"evenodd\" fill-opacity=\"1\" /><path clip-path=\"url(#clip780)\" d=\"M 0 0 M112.807 621.062 Q109.659 621.062 107.807 623.215 Q105.978 625.368 105.978 629.118 Q105.978 632.845 107.807 635.02 Q109.659 637.173 112.807 637.173 Q115.955 637.173 117.783 635.02 Q119.635 632.845 119.635 629.118 Q119.635 625.368 117.783 623.215 Q115.955 621.062 112.807 621.062 M122.089 606.409 L122.089 610.669 Q120.33 609.835 118.524 609.396 Q116.742 608.956 114.983 608.956 Q110.353 608.956 107.899 612.081 Q105.469 615.206 105.122 621.525 Q106.487 619.511 108.547 618.446 Q110.608 617.359 113.084 617.359 Q118.293 617.359 121.302 620.53 Q124.334 623.678 124.334 629.118 Q124.334 634.442 121.186 637.659 Q118.038 640.877 112.807 640.877 Q106.811 640.877 103.64 636.294 Q100.469 631.687 100.469 622.96 Q100.469 614.766 104.358 609.905 Q108.247 605.021 114.797 605.021 Q116.557 605.021 118.339 605.368 Q120.145 605.715 122.089 606.409 Z\" fill=\"#000000\" fill-rule=\"evenodd\" fill-opacity=\"1\" /><path clip-path=\"url(#clip780)\" d=\"M 0 0 M75.5152 320.884 Q71.9041 320.884 70.0754 324.448 Q68.2699 327.99 68.2699 335.12 Q68.2699 342.226 70.0754 345.791 Q71.9041 349.332 75.5152 349.332 Q79.1494 349.332 80.955 345.791 Q82.7837 342.226 82.7837 335.12 Q82.7837 327.99 80.955 324.448 Q79.1494 320.884 75.5152 320.884 M75.5152 317.18 Q81.3254 317.18 84.3809 321.786 Q87.4596 326.37 87.4596 335.12 Q87.4596 343.846 84.3809 348.453 Q81.3254 353.036 75.5152 353.036 Q69.7051 353.036 66.6264 348.453 Q63.5708 343.846 63.5708 335.12 Q63.5708 326.37 66.6264 321.786 Q69.7051 317.18 75.5152 317.18 Z\" fill=\"#000000\" fill-rule=\"evenodd\" fill-opacity=\"1\" /><path clip-path=\"url(#clip780)\" d=\"M 0 0 M92.529 346.485 L97.4132 346.485 L97.4132 352.365 L92.529 352.365 L92.529 346.485 Z\" fill=\"#000000\" fill-rule=\"evenodd\" fill-opacity=\"1\" /><path clip-path=\"url(#clip780)\" d=\"M 0 0 M112.483 335.953 Q109.149 335.953 107.228 337.735 Q105.33 339.518 105.33 342.643 Q105.33 345.768 107.228 347.55 Q109.149 349.332 112.483 349.332 Q115.816 349.332 117.737 347.55 Q119.658 345.745 119.658 342.643 Q119.658 339.518 117.737 337.735 Q115.839 335.953 112.483 335.953 M107.807 333.962 Q104.797 333.221 103.108 331.161 Q101.441 329.101 101.441 326.138 Q101.441 321.995 104.381 319.587 Q107.344 317.18 112.483 317.18 Q117.645 317.18 120.584 319.587 Q123.524 321.995 123.524 326.138 Q123.524 329.101 121.834 331.161 Q120.168 333.221 117.182 333.962 Q120.561 334.749 122.436 337.041 Q124.334 339.333 124.334 342.643 Q124.334 347.666 121.256 350.351 Q118.2 353.036 112.483 353.036 Q106.765 353.036 103.686 350.351 Q100.631 347.666 100.631 342.643 Q100.631 339.333 102.529 337.041 Q104.427 334.749 107.807 333.962 M106.094 326.578 Q106.094 329.263 107.76 330.768 Q109.45 332.272 112.483 332.272 Q115.492 332.272 117.182 330.768 Q118.895 329.263 118.895 326.578 Q118.895 323.893 117.182 322.388 Q115.492 320.884 112.483 320.884 Q109.45 320.884 107.76 322.388 Q106.094 323.893 106.094 326.578 Z\" fill=\"#000000\" fill-rule=\"evenodd\" fill-opacity=\"1\" /><path clip-path=\"url(#clip780)\" d=\"M 0 0 M67.4597 60.5889 L75.0985 60.5889 L75.0985 34.2233 L66.7884 35.89 L66.7884 31.6308 L75.0522 29.9641 L79.7281 29.9641 L79.7281 60.5889 L87.367 60.5889 L87.367 64.5241 L67.4597 64.5241 L67.4597 60.5889 Z\" fill=\"#000000\" fill-rule=\"evenodd\" fill-opacity=\"1\" /><path clip-path=\"url(#clip780)\" d=\"M 0 0 M92.4364 58.6445 L97.3206 58.6445 L97.3206 64.5241 L92.4364 64.5241 L92.4364 58.6445 Z\" fill=\"#000000\" fill-rule=\"evenodd\" fill-opacity=\"1\" /><path clip-path=\"url(#clip780)\" d=\"M 0 0 M112.39 33.0428 Q108.779 33.0428 106.95 36.6076 Q105.145 40.1492 105.145 47.2788 Q105.145 54.3853 106.95 57.9501 Q108.779 61.4917 112.39 61.4917 Q116.024 61.4917 117.83 57.9501 Q119.658 54.3853 119.658 47.2788 Q119.658 40.1492 117.83 36.6076 Q116.024 33.0428 112.39 33.0428 M112.39 29.3391 Q118.2 29.3391 121.256 33.9456 Q124.334 38.5289 124.334 47.2788 Q124.334 56.0056 121.256 60.6121 Q118.2 65.1954 112.39 65.1954 Q106.58 65.1954 103.501 60.6121 Q100.446 56.0056 100.446 47.2788 Q100.446 38.5289 103.501 33.9456 Q106.58 29.3391 112.39 29.3391 Z\" fill=\"#000000\" fill-rule=\"evenodd\" fill-opacity=\"1\" /><path clip-path=\"url(#clip782)\" d=\"\n",
       "M148.334 1486.45 L148.334 1486.45 L237.626 1486.45 L326.918 1486.45 L416.21 1486.45 L505.502 1486.45 L594.794 1486.45 L684.086 1486.45 L773.378 1486.45 L862.669 1486.45 \n",
       "  L951.961 1486.45 L1041.25 1486.45 L1130.55 1486.45 L1219.84 1486.45 L1309.13 1486.45 L1398.42 1486.45 L1487.71 1486.45 L1577 1486.45 L1666.3 1486.45 L1755.59 1486.45 \n",
       "  L1844.88 1486.45 L1934.17 1486.45 L2023.46 1486.45 L2112.76 1486.45 L2112.76 1486.45 L2112.76 1486.45 L2112.76 1486.45 L2112.76 1342.53 L2112.76 1198.61 L2112.76 1054.69 \n",
       "  L2112.76 910.766 L2112.76 766.846 L2112.76 622.926 L2112.76 479.005 L2112.76 335.085 L2112.76 191.164 L2112.76 47.2441 L2112.76 47.2441 L2112.76 47.2441 L2112.76 47.2441 \n",
       "  L2023.46 47.2441 L1934.17 47.2441 L1844.88 47.2441 L1755.59 47.2441 L1666.3 47.2441 L1577 47.2441 L1487.71 47.2441 L1398.42 47.2441 L1309.13 47.2441 L1219.84 47.2441 \n",
       "  L1130.55 47.2441 L1041.25 47.2441 L951.961 47.2441 L862.669 47.2441 L773.378 47.2441 L684.086 47.2441 L594.794 47.2441 L505.502 47.2441 L416.21 47.2441 L326.918 47.2441 \n",
       "  L237.626 47.2441 L148.334 47.2441 L148.334 47.2441 L148.334 47.2441 L148.334 47.2441 L148.334 191.164 L148.334 335.085 L148.334 479.005 L148.334 622.926 L148.334 766.846 \n",
       "  L148.334 910.766 L148.334 1054.69 L148.334 1198.61 L148.334 1342.53 L148.334 1486.45 L148.334 1486.45 L148.334 1486.45  Z\n",
       "  \" fill=\"#000003\" fill-rule=\"evenodd\" fill-opacity=\"1\"/>\n",
       "<path clip-path=\"url(#clip782)\" d=\"\n",
       "M594.794 1349.29 L684.086 1367.14 L773.378 1378.85 L862.669 1386.55 L951.961 1391.36 L1041.25 1393.88 L1130.55 1394.42 L1219.84 1393.04 L1309.13 1389.6 L1398.42 1383.75 \n",
       "  L1487.71 1374.77 L1577 1361.36 L1660.86 1342.53 L1666.3 1341.18 L1755.59 1310.87 L1844.88 1258.73 L1903.63 1198.61 L1934.17 1154.16 L1977.49 1054.69 L2013.47 910.766 \n",
       "  L2023.46 851.229 L2034.51 766.846 L2048.1 622.926 L2057.53 479.005 L2064.39 335.085 L2069.55 191.164 L2073.54 47.2441 L2023.46 47.2441 L2023.46 47.2441 L1934.17 47.2441 \n",
       "  L1844.88 47.2441 L1755.59 47.2441 L1666.3 47.2441 L1577 47.2441 L1487.71 47.2441 L1398.42 47.2441 L1309.13 47.2441 L1219.84 47.2441 L1130.55 47.2441 L1041.25 47.2441 \n",
       "  L951.961 47.2441 L862.669 47.2441 L773.378 47.2441 L684.086 47.2441 L594.794 47.2441 L505.502 47.2441 L416.21 47.2441 L326.918 47.2441 L237.626 47.2441 L148.334 47.2441 \n",
       "  L187.548 47.2441 L191.107 191.164 L195.732 335.085 L201.888 479.005 L210.35 622.926 L222.522 766.846 L237.626 887.829 L241.322 910.766 L274.076 1054.69 L326.918 1177.63 \n",
       "  L341.313 1198.61 L416.21 1274.3 L505.502 1321.68 L570.277 1342.53 L594.794 1349.29  Z\n",
       "  \" fill=\"#0b0726\" fill-rule=\"evenodd\" fill-opacity=\"1\"/>\n",
       "<path clip-path=\"url(#clip782)\" d=\"\n",
       "M594.794 1216.5 L684.086 1251.04 L773.378 1273.72 L862.669 1288.62 L951.961 1297.94 L1041.25 1302.86 L1130.55 1303.94 L1219.84 1301.35 L1309.13 1294.84 L1398.42 1283.73 \n",
       "  L1487.71 1266.71 L1577 1241.35 L1666.3 1203.15 L1674.36 1198.61 L1755.59 1144.9 L1838.18 1054.69 L1844.88 1045.34 L1912.43 910.766 L1934.17 847.411 L1955.32 766.846 \n",
       "  L1982.8 622.926 L2001.93 479.005 L2015.87 335.085 L2023.46 234.609 L2026.34 191.164 L2034.33 47.2441 L2023.46 47.2441 L2023.46 47.2441 L1934.17 47.2441 L1844.88 47.2441 \n",
       "  L1755.59 47.2441 L1666.3 47.2441 L1577 47.2441 L1487.71 47.2441 L1398.42 47.2441 L1309.13 47.2441 L1219.84 47.2441 L1130.55 47.2441 L1041.25 47.2441 L951.961 47.2441 \n",
       "  L862.669 47.2441 L773.378 47.2441 L684.086 47.2441 L594.794 47.2441 L505.502 47.2441 L416.21 47.2441 L326.918 47.2441 L237.626 47.2441 L148.334 47.2441 L226.763 47.2441 \n",
       "  L233.879 191.164 L237.626 253.062 L243.273 335.085 L255.941 479.005 L273.389 622.926 L298.503 766.846 L326.918 878.834 L337.591 910.766 L406.522 1054.69 L416.21 1069.28 \n",
       "  L505.502 1162.37 L561.833 1198.61 L594.794 1216.5  Z\n",
       "  \" fill=\"#240b4e\" fill-rule=\"evenodd\" fill-opacity=\"1\"/>\n",
       "<path clip-path=\"url(#clip782)\" d=\"\n",
       "M951.961 1206.3 L1041.25 1213.75 L1130.55 1215.47 L1219.84 1211.69 L1309.13 1202.04 L1328.54 1198.61 L1398.42 1185.87 L1487.71 1161.24 L1577 1124.61 L1666.3 1069.54 \n",
       "  L1684.22 1054.69 L1755.59 984.297 L1806.49 910.766 L1844.88 839.069 L1873.82 766.846 L1916.42 622.926 L1934.17 542.438 L1945.7 479.005 L1966.56 335.085 L1982.31 191.164 \n",
       "  L1994.52 47.2441 L1934.17 47.2441 L1934.17 47.2441 L1844.88 47.2441 L1755.59 47.2441 L1666.3 47.2441 L1577 47.2441 L1487.71 47.2441 L1398.42 47.2441 L1309.13 47.2441 \n",
       "  L1219.84 47.2441 L1130.55 47.2441 L1041.25 47.2441 L951.961 47.2441 L862.669 47.2441 L773.378 47.2441 L684.086 47.2441 L594.794 47.2441 L505.502 47.2441 L416.21 47.2441 \n",
       "  L326.918 47.2441 L237.626 47.2441 L266.566 47.2441 L277.578 191.164 L291.911 335.085 L310.996 479.005 L326.918 571.347 L337.749 622.926 L377.401 766.846 L416.21 865.833 \n",
       "  L439.956 910.766 L505.502 1005.47 L556.066 1054.69 L594.794 1086.04 L684.086 1136.96 L773.378 1170.39 L862.669 1192.38 L901.968 1198.61 L951.961 1206.3  Z\n",
       "  \" fill=\"#410967\" fill-rule=\"evenodd\" fill-opacity=\"1\"/>\n",
       "<path clip-path=\"url(#clip782)\" d=\"\n",
       "M773.378 1068.53 L862.669 1097.95 L951.961 1116.42 L1041.25 1126.28 L1130.55 1128.67 L1219.84 1123.9 L1309.13 1111.56 L1398.42 1090.35 L1487.71 1057.76 L1493.97 1054.69 \n",
       "  L1577 1009.93 L1666.3 938.177 L1691.32 910.766 L1755.59 825.903 L1788.24 766.846 L1844.88 632.815 L1848.15 622.926 L1887.66 479.005 L1916.54 335.085 L1934.17 221.545 \n",
       "  L1938.22 191.164 L1954.5 47.2441 L1934.17 47.2441 L1934.17 47.2441 L1844.88 47.2441 L1755.59 47.2441 L1666.3 47.2441 L1577 47.2441 L1487.71 47.2441 L1398.42 47.2441 \n",
       "  L1309.13 47.2441 L1219.84 47.2441 L1130.55 47.2441 L1041.25 47.2441 L951.961 47.2441 L862.669 47.2441 L773.378 47.2441 L684.086 47.2441 L594.794 47.2441 L505.502 47.2441 \n",
       "  L416.21 47.2441 L326.918 47.2441 L237.626 47.2441 L306.595 47.2441 L321.367 191.164 L326.918 235.991 L341.197 335.085 L367.973 479.005 L404.803 622.926 L416.21 658.558 \n",
       "  L460.864 766.846 L505.502 848.437 L552.716 910.766 L594.794 956.349 L684.086 1024.03 L743.666 1054.69 L773.378 1068.53  Z\n",
       "  \" fill=\"#5d126e\" fill-rule=\"evenodd\" fill-opacity=\"1\"/>\n",
       "<path clip-path=\"url(#clip782)\" d=\"\n",
       "M684.086 911.507 L773.378 967.167 L862.669 1003.85 L951.961 1026.91 L1041.25 1039.27 L1130.55 1042.37 L1219.84 1036.63 L1309.13 1021.56 L1398.42 995.604 L1487.71 955.727 \n",
       "  L1557.05 910.766 L1577 896.395 L1666.3 807.459 L1695.92 766.846 L1755.59 667.11 L1775.74 622.926 L1828.12 479.005 L1844.88 420.719 L1865.17 335.085 L1892.43 191.164 \n",
       "  L1913.62 47.2441 L1844.88 47.2441 L1844.88 47.2441 L1755.59 47.2441 L1666.3 47.2441 L1577 47.2441 L1487.71 47.2441 L1398.42 47.2441 L1309.13 47.2441 L1219.84 47.2441 \n",
       "  L1130.55 47.2441 L1041.25 47.2441 L951.961 47.2441 L862.669 47.2441 L773.378 47.2441 L684.086 47.2441 L594.794 47.2441 L505.502 47.2441 L416.21 47.2441 L326.918 47.2441 \n",
       "  L347.469 47.2441 L366.892 191.164 L392.144 335.085 L416.21 441.773 L426.426 479.005 L475.977 622.926 L505.502 688.986 L551.548 766.846 L594.794 826.115 L683.188 910.766 \n",
       "  L684.086 911.507  Z\n",
       "  \" fill=\"#781c6d\" fill-rule=\"evenodd\" fill-opacity=\"1\"/>\n",
       "<path clip-path=\"url(#clip782)\" d=\"\n",
       "M951.961 937.855 L1041.25 952.845 L1130.55 956.749 L1219.84 950.07 L1309.13 932.212 L1372.12 910.766 L1398.42 901.316 L1487.71 853.795 L1577 783.09 L1592.38 766.846 \n",
       "  L1666.3 676.037 L1698.27 622.926 L1755.59 505.615 L1765.8 479.005 L1811.74 335.085 L1844.88 198.931 L1846.47 191.164 L1871.88 47.2441 L1844.88 47.2441 L1844.88 47.2441 \n",
       "  L1755.59 47.2441 L1666.3 47.2441 L1577 47.2441 L1487.71 47.2441 L1398.42 47.2441 L1309.13 47.2441 L1219.84 47.2441 L1130.55 47.2441 L1041.25 47.2441 L951.961 47.2441 \n",
       "  L862.669 47.2441 L773.378 47.2441 L684.086 47.2441 L594.794 47.2441 L505.502 47.2441 L416.21 47.2441 L326.918 47.2441 L389.215 47.2441 L412.669 191.164 L416.21 209.564 \n",
       "  L445.012 335.085 L488.396 479.005 L505.502 524.876 L552.345 622.926 L594.794 694.12 L654.092 766.846 L684.086 798.162 L773.378 865.589 L862.669 910.029 L864.907 910.766 \n",
       "  L951.961 937.855  Z\n",
       "  \" fill=\"#932567\" fill-rule=\"evenodd\" fill-opacity=\"1\"/>\n",
       "<path clip-path=\"url(#clip782)\" d=\"\n",
       "M862.669 815.663 L951.961 848.484 L1041.25 866.237 L1130.55 871.002 L1219.84 863.403 L1309.13 842.78 L1398.42 807.013 L1464.85 766.846 L1487.71 751.746 L1577 668.819 \n",
       "  L1612.89 622.926 L1666.3 542.673 L1698.59 479.005 L1755.59 339.267 L1756.96 335.085 L1797.52 191.164 L1829.13 47.2441 L1755.59 47.2441 L1755.59 47.2441 L1666.3 47.2441 \n",
       "  L1577 47.2441 L1487.71 47.2441 L1398.42 47.2441 L1309.13 47.2441 L1219.84 47.2441 L1130.55 47.2441 L1041.25 47.2441 L951.961 47.2441 L862.669 47.2441 L773.378 47.2441 \n",
       "  L684.086 47.2441 L594.794 47.2441 L505.502 47.2441 L416.21 47.2441 L431.958 47.2441 L461.391 191.164 L499.601 335.085 L505.502 353.781 L554.908 479.005 L594.794 559.133 \n",
       "  L636.836 622.926 L684.086 683.297 L773.378 763.582 L778.497 766.846 L862.669 815.663  Z\n",
       "  \" fill=\"#ae305b\" fill-rule=\"evenodd\" fill-opacity=\"1\"/>\n",
       "<path clip-path=\"url(#clip782)\" d=\"\n",
       "M1041.25 779.454 L1130.55 785.105 L1219.84 776.645 L1258.02 766.846 L1309.13 753.149 L1398.42 712.072 L1487.71 648.749 L1514.06 622.926 L1577 552.971 L1625.77 479.005 \n",
       "  L1666.3 406.154 L1697.1 335.085 L1747.79 191.164 L1755.59 164.92 L1784.57 47.2441 L1755.59 47.2441 L1755.59 47.2441 L1666.3 47.2441 L1577 47.2441 L1487.71 47.2441 \n",
       "  L1398.42 47.2441 L1309.13 47.2441 L1219.84 47.2441 L1130.55 47.2441 L1041.25 47.2441 L951.961 47.2441 L862.669 47.2441 L773.378 47.2441 L684.086 47.2441 L594.794 47.2441 \n",
       "  L505.502 47.2441 L416.21 47.2441 L476.523 47.2441 L505.502 172.117 L510.836 191.164 L559.054 335.085 L594.794 419.84 L627.031 479.005 L684.086 566.299 L735.227 622.926 \n",
       "  L773.378 659.843 L862.669 720.538 L951.961 758.852 L985.626 766.846 L1041.25 779.454  Z\n",
       "  \" fill=\"#c73e4c\" fill-rule=\"evenodd\" fill-opacity=\"1\"/>\n",
       "<path clip-path=\"url(#clip782)\" d=\"\n",
       "M862.669 624.6 L951.961 667.926 L1041.25 691.554 L1130.55 698.243 L1219.84 688.851 L1309.13 662.559 L1386.76 622.926 L1398.42 616.52 L1487.71 544.114 L1543.79 479.005 \n",
       "  L1577 434.903 L1633.3 335.085 L1666.3 265.253 L1694.04 191.164 L1738.5 47.2441 L1666.3 47.2441 L1666.3 47.2441 L1577 47.2441 L1487.71 47.2441 L1398.42 47.2441 \n",
       "  L1309.13 47.2441 L1219.84 47.2441 L1130.55 47.2441 L1041.25 47.2441 L951.961 47.2441 L862.669 47.2441 L773.378 47.2441 L684.086 47.2441 L594.794 47.2441 L505.502 47.2441 \n",
       "  L522.59 47.2441 L564.617 191.164 L594.794 274.774 L622.388 335.085 L684.086 446.447 L708.409 479.005 L773.378 554.3 L860.314 622.926 L862.669 624.6  Z\n",
       "  \" fill=\"#dc5039\" fill-rule=\"evenodd\" fill-opacity=\"1\"/>\n",
       "<path clip-path=\"url(#clip782)\" d=\"\n",
       "M862.669 526.211 L951.961 575.847 L1041.25 602.99 L1130.55 610.842 L1219.84 600.419 L1309.13 570.827 L1398.42 519.024 L1444.73 479.005 L1487.71 437.733 L1563.42 335.085 \n",
       "  L1577 313.886 L1636.87 191.164 L1666.3 118.749 L1689.64 47.2441 L1666.3 47.2441 L1666.3 47.2441 L1577 47.2441 L1487.71 47.2441 L1398.42 47.2441 L1309.13 47.2441 \n",
       "  L1219.84 47.2441 L1130.55 47.2441 L1041.25 47.2441 L951.961 47.2441 L862.669 47.2441 L773.378 47.2441 L684.086 47.2441 L594.794 47.2441 L505.502 47.2441 L571.45 47.2441 \n",
       "  L594.794 122.256 L621.559 191.164 L684.086 322.879 L691.751 335.085 L773.378 446.662 L807.262 479.005 L862.669 526.211  Z\n",
       "  \" fill=\"#ed6825\" fill-rule=\"evenodd\" fill-opacity=\"1\"/>\n",
       "<path clip-path=\"url(#clip782)\" d=\"\n",
       "M951.961 482.639 L1041.25 512.757 L1130.55 521.66 L1219.84 510.47 L1306.98 479.005 L1309.13 478.184 L1398.42 419.797 L1482.49 335.085 L1487.71 329.199 L1575.87 191.164 \n",
       "  L1577 189.111 L1637.41 47.2441 L1577 47.2441 L1577 47.2441 L1487.71 47.2441 L1398.42 47.2441 L1309.13 47.2441 L1219.84 47.2441 L1130.55 47.2441 L1041.25 47.2441 \n",
       "  L951.961 47.2441 L862.669 47.2441 L773.378 47.2441 L684.086 47.2441 L594.794 47.2441 L623.681 47.2441 L682.542 191.164 L684.086 194.416 L772.43 335.085 L773.378 336.381 \n",
       "  L862.669 426.047 L945.738 479.005 L951.961 482.639  Z\n",
       "  \" fill=\"#f7850e\" fill-rule=\"evenodd\" fill-opacity=\"1\"/>\n",
       "<path clip-path=\"url(#clip782)\" d=\"\n",
       "M951.961 386.494 L1041.25 420.719 L1130.55 431.022 L1219.84 418.721 L1309.13 382.748 L1377.11 335.085 L1398.42 318.792 L1487.71 216.908 L1504.15 191.164 L1577 59.1955 \n",
       "  L1582.09 47.2441 L1577 47.2441 L1577 47.2441 L1487.71 47.2441 L1398.42 47.2441 L1309.13 47.2441 L1219.84 47.2441 L1130.55 47.2441 L1041.25 47.2441 L951.961 47.2441 \n",
       "  L862.669 47.2441 L773.378 47.2441 L684.086 47.2441 L594.794 47.2441 L678.997 47.2441 L684.086 59.6561 L754.328 191.164 L773.378 221.536 L862.669 323.851 L877.472 335.085 \n",
       "  L951.961 386.494  Z\n",
       "  \" fill=\"#fba40a\" fill-rule=\"evenodd\" fill-opacity=\"1\"/>\n",
       "<path clip-path=\"url(#clip782)\" d=\"\n",
       "M1130.55 339.047 L1157.82 335.085 L1219.84 325.667 L1309.13 285.564 L1398.42 214.692 L1418.67 191.164 L1487.71 101.04 L1517.74 47.2441 L1487.71 47.2441 L1487.71 47.2441 \n",
       "  L1398.42 47.2441 L1309.13 47.2441 L1219.84 47.2441 L1130.55 47.2441 L1041.25 47.2441 L951.961 47.2441 L862.669 47.2441 L773.378 47.2441 L684.086 47.2441 L743.35 47.2441 \n",
       "  L773.378 102.617 L839.787 191.164 L862.669 217.997 L951.961 288.483 L1041.25 327.317 L1099.38 335.085 L1130.55 339.047  Z\n",
       "  \" fill=\"#f9c52c\" fill-rule=\"evenodd\" fill-opacity=\"1\"/>\n",
       "<path clip-path=\"url(#clip782)\" d=\"\n",
       "M1041.25 230.665 L1130.55 243.793 L1219.84 229.533 L1299.94 191.164 L1309.13 186.452 L1398.42 107.291 L1443.64 47.2441 L1398.42 47.2441 L1398.42 47.2441 L1309.13 47.2441 \n",
       "  L1219.84 47.2441 L1130.55 47.2441 L1041.25 47.2441 L951.961 47.2441 L862.669 47.2441 L773.378 47.2441 L817.445 47.2441 L862.669 108.559 L951.961 188.353 L957.482 191.164 \n",
       "  L1041.25 230.665  Z\n",
       "  \" fill=\"#f2e660\" fill-rule=\"evenodd\" fill-opacity=\"1\"/>\n",
       "<path clip-path=\"url(#clip782)\" d=\"\n",
       "M951.961 83.9739 L1041.25 131.588 L1130.55 146.612 L1219.84 131.027 L1309.13 83.4789 L1348.51 47.2441 L1309.13 47.2441 L1309.13 47.2441 L1219.84 47.2441 L1130.55 47.2441 \n",
       "  L1041.25 47.2441 L951.961 47.2441 L862.669 47.2441 L912.576 47.2441 L951.961 83.9739  Z\n",
       "  \" fill=\"#fcfea4\" fill-rule=\"evenodd\" fill-opacity=\"1\"/>\n",
       "<polyline clip-path=\"url(#clip782)\" style=\"stroke:#000000; stroke-width:4; stroke-opacity:1; fill:none\" points=\"\n",
       "  148.334,1486.45 148.334,1486.45 237.626,1486.45 326.918,1486.45 416.21,1486.45 505.502,1486.45 594.794,1486.45 684.086,1486.45 773.378,1486.45 862.669,1486.45 \n",
       "  951.961,1486.45 1041.25,1486.45 1130.55,1486.45 1219.84,1486.45 1309.13,1486.45 1398.42,1486.45 1487.71,1486.45 1577,1486.45 1666.3,1486.45 1755.59,1486.45 \n",
       "  1844.88,1486.45 1934.17,1486.45 2023.46,1486.45 2112.76,1486.45 2112.76,1342.53 2112.76,1198.61 2112.76,1054.69 \n",
       "  2112.76,910.766 2112.76,766.846 2112.76,622.926 2112.76,479.005 2112.76,335.085 2112.76,191.164 2112.76,47.2441 \n",
       "  2023.46,47.2441 1934.17,47.2441 1844.88,47.2441 1755.59,47.2441 1666.3,47.2441 1577,47.2441 1487.71,47.2441 1398.42,47.2441 1309.13,47.2441 1219.84,47.2441 \n",
       "  1130.55,47.2441 1041.25,47.2441 951.961,47.2441 862.669,47.2441 773.378,47.2441 684.086,47.2441 594.794,47.2441 505.502,47.2441 416.21,47.2441 326.918,47.2441 \n",
       "  237.626,47.2441 148.334,47.2441 148.334,191.164 148.334,335.085 148.334,479.005 148.334,622.926 148.334,766.846 \n",
       "  148.334,910.766 148.334,1054.69 148.334,1198.61 148.334,1342.53 148.334,1486.45 \n",
       "  \"/>\n",
       "<polyline clip-path=\"url(#clip782)\" style=\"stroke:#000000; stroke-width:4; stroke-opacity:1; fill:none\" points=\"\n",
       "  594.794,1349.29 684.086,1367.14 773.378,1378.85 862.669,1386.55 951.961,1391.36 1041.25,1393.88 1130.55,1394.42 1219.84,1393.04 1309.13,1389.6 1398.42,1383.75 \n",
       "  1487.71,1374.77 1577,1361.36 1660.86,1342.53 1666.3,1341.18 1755.59,1310.87 1844.88,1258.73 1903.63,1198.61 1934.17,1154.16 1977.49,1054.69 2013.47,910.766 \n",
       "  2023.46,851.229 2034.51,766.846 2048.1,622.926 2057.53,479.005 2064.39,335.085 2069.55,191.164 2073.54,47.2441 2023.46,47.2441 1934.17,47.2441 \n",
       "  1844.88,47.2441 1755.59,47.2441 1666.3,47.2441 1577,47.2441 1487.71,47.2441 1398.42,47.2441 1309.13,47.2441 1219.84,47.2441 1130.55,47.2441 1041.25,47.2441 \n",
       "  951.961,47.2441 862.669,47.2441 773.378,47.2441 684.086,47.2441 594.794,47.2441 505.502,47.2441 416.21,47.2441 326.918,47.2441 237.626,47.2441 148.334,47.2441 \n",
       "  187.548,47.2441 191.107,191.164 195.732,335.085 201.888,479.005 210.35,622.926 222.522,766.846 237.626,887.829 241.322,910.766 274.076,1054.69 326.918,1177.63 \n",
       "  341.313,1198.61 416.21,1274.3 505.502,1321.68 570.277,1342.53 594.794,1349.29 \n",
       "  \"/>\n",
       "<polyline clip-path=\"url(#clip782)\" style=\"stroke:#000000; stroke-width:4; stroke-opacity:1; fill:none\" points=\"\n",
       "  594.794,1216.5 684.086,1251.04 773.378,1273.72 862.669,1288.62 951.961,1297.94 1041.25,1302.86 1130.55,1303.94 1219.84,1301.35 1309.13,1294.84 1398.42,1283.73 \n",
       "  1487.71,1266.71 1577,1241.35 1666.3,1203.15 1674.36,1198.61 1755.59,1144.9 1838.18,1054.69 1844.88,1045.34 1912.43,910.766 1934.17,847.411 1955.32,766.846 \n",
       "  1982.8,622.926 2001.93,479.005 2015.87,335.085 2023.46,234.609 2026.34,191.164 2034.33,47.2441 2023.46,47.2441 1934.17,47.2441 1844.88,47.2441 \n",
       "  1755.59,47.2441 1666.3,47.2441 1577,47.2441 1487.71,47.2441 1398.42,47.2441 1309.13,47.2441 1219.84,47.2441 1130.55,47.2441 1041.25,47.2441 951.961,47.2441 \n",
       "  862.669,47.2441 773.378,47.2441 684.086,47.2441 594.794,47.2441 505.502,47.2441 416.21,47.2441 326.918,47.2441 237.626,47.2441 148.334,47.2441 226.763,47.2441 \n",
       "  233.879,191.164 237.626,253.062 243.273,335.085 255.941,479.005 273.389,622.926 298.503,766.846 326.918,878.834 337.591,910.766 406.522,1054.69 416.21,1069.28 \n",
       "  505.502,1162.37 561.833,1198.61 594.794,1216.5 \n",
       "  \"/>\n",
       "<polyline clip-path=\"url(#clip782)\" style=\"stroke:#000000; stroke-width:4; stroke-opacity:1; fill:none\" points=\"\n",
       "  951.961,1206.3 1041.25,1213.75 1130.55,1215.47 1219.84,1211.69 1309.13,1202.04 1328.54,1198.61 1398.42,1185.87 1487.71,1161.24 1577,1124.61 1666.3,1069.54 \n",
       "  1684.22,1054.69 1755.59,984.297 1806.49,910.766 1844.88,839.069 1873.82,766.846 1916.42,622.926 1934.17,542.438 1945.7,479.005 1966.56,335.085 1982.31,191.164 \n",
       "  1994.52,47.2441 1934.17,47.2441 1844.88,47.2441 1755.59,47.2441 1666.3,47.2441 1577,47.2441 1487.71,47.2441 1398.42,47.2441 1309.13,47.2441 \n",
       "  1219.84,47.2441 1130.55,47.2441 1041.25,47.2441 951.961,47.2441 862.669,47.2441 773.378,47.2441 684.086,47.2441 594.794,47.2441 505.502,47.2441 416.21,47.2441 \n",
       "  326.918,47.2441 237.626,47.2441 266.566,47.2441 277.578,191.164 291.911,335.085 310.996,479.005 326.918,571.347 337.749,622.926 377.401,766.846 416.21,865.833 \n",
       "  439.956,910.766 505.502,1005.47 556.066,1054.69 594.794,1086.04 684.086,1136.96 773.378,1170.39 862.669,1192.38 901.968,1198.61 951.961,1206.3 \n",
       "  \"/>\n",
       "<polyline clip-path=\"url(#clip782)\" style=\"stroke:#000000; stroke-width:4; stroke-opacity:1; fill:none\" points=\"\n",
       "  773.378,1068.53 862.669,1097.95 951.961,1116.42 1041.25,1126.28 1130.55,1128.67 1219.84,1123.9 1309.13,1111.56 1398.42,1090.35 1487.71,1057.76 1493.97,1054.69 \n",
       "  1577,1009.93 1666.3,938.177 1691.32,910.766 1755.59,825.903 1788.24,766.846 1844.88,632.815 1848.15,622.926 1887.66,479.005 1916.54,335.085 1934.17,221.545 \n",
       "  1938.22,191.164 1954.5,47.2441 1934.17,47.2441 1844.88,47.2441 1755.59,47.2441 1666.3,47.2441 1577,47.2441 1487.71,47.2441 1398.42,47.2441 \n",
       "  1309.13,47.2441 1219.84,47.2441 1130.55,47.2441 1041.25,47.2441 951.961,47.2441 862.669,47.2441 773.378,47.2441 684.086,47.2441 594.794,47.2441 505.502,47.2441 \n",
       "  416.21,47.2441 326.918,47.2441 237.626,47.2441 306.595,47.2441 321.367,191.164 326.918,235.991 341.197,335.085 367.973,479.005 404.803,622.926 416.21,658.558 \n",
       "  460.864,766.846 505.502,848.437 552.716,910.766 594.794,956.349 684.086,1024.03 743.666,1054.69 773.378,1068.53 \n",
       "  \"/>\n",
       "<polyline clip-path=\"url(#clip782)\" style=\"stroke:#000000; stroke-width:4; stroke-opacity:1; fill:none\" points=\"\n",
       "  684.086,911.507 773.378,967.167 862.669,1003.85 951.961,1026.91 1041.25,1039.27 1130.55,1042.37 1219.84,1036.63 1309.13,1021.56 1398.42,995.604 1487.71,955.727 \n",
       "  1557.05,910.766 1577,896.395 1666.3,807.459 1695.92,766.846 1755.59,667.11 1775.74,622.926 1828.12,479.005 1844.88,420.719 1865.17,335.085 1892.43,191.164 \n",
       "  1913.62,47.2441 1844.88,47.2441 1755.59,47.2441 1666.3,47.2441 1577,47.2441 1487.71,47.2441 1398.42,47.2441 1309.13,47.2441 1219.84,47.2441 \n",
       "  1130.55,47.2441 1041.25,47.2441 951.961,47.2441 862.669,47.2441 773.378,47.2441 684.086,47.2441 594.794,47.2441 505.502,47.2441 416.21,47.2441 326.918,47.2441 \n",
       "  347.469,47.2441 366.892,191.164 392.144,335.085 416.21,441.773 426.426,479.005 475.977,622.926 505.502,688.986 551.548,766.846 594.794,826.115 683.188,910.766 \n",
       "  684.086,911.507 \n",
       "  \"/>\n",
       "<polyline clip-path=\"url(#clip782)\" style=\"stroke:#000000; stroke-width:4; stroke-opacity:1; fill:none\" points=\"\n",
       "  951.961,937.855 1041.25,952.845 1130.55,956.749 1219.84,950.07 1309.13,932.212 1372.12,910.766 1398.42,901.316 1487.71,853.795 1577,783.09 1592.38,766.846 \n",
       "  1666.3,676.037 1698.27,622.926 1755.59,505.615 1765.8,479.005 1811.74,335.085 1844.88,198.931 1846.47,191.164 1871.88,47.2441 1844.88,47.2441 \n",
       "  1755.59,47.2441 1666.3,47.2441 1577,47.2441 1487.71,47.2441 1398.42,47.2441 1309.13,47.2441 1219.84,47.2441 1130.55,47.2441 1041.25,47.2441 951.961,47.2441 \n",
       "  862.669,47.2441 773.378,47.2441 684.086,47.2441 594.794,47.2441 505.502,47.2441 416.21,47.2441 326.918,47.2441 389.215,47.2441 412.669,191.164 416.21,209.564 \n",
       "  445.012,335.085 488.396,479.005 505.502,524.876 552.345,622.926 594.794,694.12 654.092,766.846 684.086,798.162 773.378,865.589 862.669,910.029 864.907,910.766 \n",
       "  951.961,937.855 \n",
       "  \"/>\n",
       "<polyline clip-path=\"url(#clip782)\" style=\"stroke:#000000; stroke-width:4; stroke-opacity:1; fill:none\" points=\"\n",
       "  862.669,815.663 951.961,848.484 1041.25,866.237 1130.55,871.002 1219.84,863.403 1309.13,842.78 1398.42,807.013 1464.85,766.846 1487.71,751.746 1577,668.819 \n",
       "  1612.89,622.926 1666.3,542.673 1698.59,479.005 1755.59,339.267 1756.96,335.085 1797.52,191.164 1829.13,47.2441 1755.59,47.2441 1666.3,47.2441 \n",
       "  1577,47.2441 1487.71,47.2441 1398.42,47.2441 1309.13,47.2441 1219.84,47.2441 1130.55,47.2441 1041.25,47.2441 951.961,47.2441 862.669,47.2441 773.378,47.2441 \n",
       "  684.086,47.2441 594.794,47.2441 505.502,47.2441 416.21,47.2441 431.958,47.2441 461.391,191.164 499.601,335.085 505.502,353.781 554.908,479.005 594.794,559.133 \n",
       "  636.836,622.926 684.086,683.297 773.378,763.582 778.497,766.846 862.669,815.663 \n",
       "  \"/>\n",
       "<polyline clip-path=\"url(#clip782)\" style=\"stroke:#000000; stroke-width:4; stroke-opacity:1; fill:none\" points=\"\n",
       "  1041.25,779.454 1130.55,785.105 1219.84,776.645 1258.02,766.846 1309.13,753.149 1398.42,712.072 1487.71,648.749 1514.06,622.926 1577,552.971 1625.77,479.005 \n",
       "  1666.3,406.154 1697.1,335.085 1747.79,191.164 1755.59,164.92 1784.57,47.2441 1755.59,47.2441 1666.3,47.2441 1577,47.2441 1487.71,47.2441 \n",
       "  1398.42,47.2441 1309.13,47.2441 1219.84,47.2441 1130.55,47.2441 1041.25,47.2441 951.961,47.2441 862.669,47.2441 773.378,47.2441 684.086,47.2441 594.794,47.2441 \n",
       "  505.502,47.2441 416.21,47.2441 476.523,47.2441 505.502,172.117 510.836,191.164 559.054,335.085 594.794,419.84 627.031,479.005 684.086,566.299 735.227,622.926 \n",
       "  773.378,659.843 862.669,720.538 951.961,758.852 985.626,766.846 1041.25,779.454 \n",
       "  \"/>\n",
       "<polyline clip-path=\"url(#clip782)\" style=\"stroke:#000000; stroke-width:4; stroke-opacity:1; fill:none\" points=\"\n",
       "  862.669,624.6 951.961,667.926 1041.25,691.554 1130.55,698.243 1219.84,688.851 1309.13,662.559 1386.76,622.926 1398.42,616.52 1487.71,544.114 1543.79,479.005 \n",
       "  1577,434.903 1633.3,335.085 1666.3,265.253 1694.04,191.164 1738.5,47.2441 1666.3,47.2441 1577,47.2441 1487.71,47.2441 1398.42,47.2441 \n",
       "  1309.13,47.2441 1219.84,47.2441 1130.55,47.2441 1041.25,47.2441 951.961,47.2441 862.669,47.2441 773.378,47.2441 684.086,47.2441 594.794,47.2441 505.502,47.2441 \n",
       "  522.59,47.2441 564.617,191.164 594.794,274.774 622.388,335.085 684.086,446.447 708.409,479.005 773.378,554.3 860.314,622.926 862.669,624.6 \n",
       "  \"/>\n",
       "<polyline clip-path=\"url(#clip782)\" style=\"stroke:#000000; stroke-width:4; stroke-opacity:1; fill:none\" points=\"\n",
       "  862.669,526.211 951.961,575.847 1041.25,602.99 1130.55,610.842 1219.84,600.419 1309.13,570.827 1398.42,519.024 1444.73,479.005 1487.71,437.733 1563.42,335.085 \n",
       "  1577,313.886 1636.87,191.164 1666.3,118.749 1689.64,47.2441 1666.3,47.2441 1577,47.2441 1487.71,47.2441 1398.42,47.2441 1309.13,47.2441 \n",
       "  1219.84,47.2441 1130.55,47.2441 1041.25,47.2441 951.961,47.2441 862.669,47.2441 773.378,47.2441 684.086,47.2441 594.794,47.2441 505.502,47.2441 571.45,47.2441 \n",
       "  594.794,122.256 621.559,191.164 684.086,322.879 691.751,335.085 773.378,446.662 807.262,479.005 862.669,526.211 \n",
       "  \"/>\n",
       "<polyline clip-path=\"url(#clip782)\" style=\"stroke:#000000; stroke-width:4; stroke-opacity:1; fill:none\" points=\"\n",
       "  951.961,482.639 1041.25,512.757 1130.55,521.66 1219.84,510.47 1306.98,479.005 1309.13,478.184 1398.42,419.797 1482.49,335.085 1487.71,329.199 1575.87,191.164 \n",
       "  1577,189.111 1637.41,47.2441 1577,47.2441 1487.71,47.2441 1398.42,47.2441 1309.13,47.2441 1219.84,47.2441 1130.55,47.2441 1041.25,47.2441 \n",
       "  951.961,47.2441 862.669,47.2441 773.378,47.2441 684.086,47.2441 594.794,47.2441 623.681,47.2441 682.542,191.164 684.086,194.416 772.43,335.085 773.378,336.381 \n",
       "  862.669,426.047 945.738,479.005 951.961,482.639 \n",
       "  \"/>\n",
       "<polyline clip-path=\"url(#clip782)\" style=\"stroke:#000000; stroke-width:4; stroke-opacity:1; fill:none\" points=\"\n",
       "  951.961,386.494 1041.25,420.719 1130.55,431.022 1219.84,418.721 1309.13,382.748 1377.11,335.085 1398.42,318.792 1487.71,216.908 1504.15,191.164 1577,59.1955 \n",
       "  1582.09,47.2441 1577,47.2441 1487.71,47.2441 1398.42,47.2441 1309.13,47.2441 1219.84,47.2441 1130.55,47.2441 1041.25,47.2441 951.961,47.2441 \n",
       "  862.669,47.2441 773.378,47.2441 684.086,47.2441 594.794,47.2441 678.997,47.2441 684.086,59.6561 754.328,191.164 773.378,221.536 862.669,323.851 877.472,335.085 \n",
       "  951.961,386.494 \n",
       "  \"/>\n",
       "<polyline clip-path=\"url(#clip782)\" style=\"stroke:#000000; stroke-width:4; stroke-opacity:1; fill:none\" points=\"\n",
       "  1130.55,339.047 1157.82,335.085 1219.84,325.667 1309.13,285.564 1398.42,214.692 1418.67,191.164 1487.71,101.04 1517.74,47.2441 1487.71,47.2441 \n",
       "  1398.42,47.2441 1309.13,47.2441 1219.84,47.2441 1130.55,47.2441 1041.25,47.2441 951.961,47.2441 862.669,47.2441 773.378,47.2441 684.086,47.2441 743.35,47.2441 \n",
       "  773.378,102.617 839.787,191.164 862.669,217.997 951.961,288.483 1041.25,327.317 1099.38,335.085 1130.55,339.047 \n",
       "  \"/>\n",
       "<polyline clip-path=\"url(#clip782)\" style=\"stroke:#000000; stroke-width:4; stroke-opacity:1; fill:none\" points=\"\n",
       "  1041.25,230.665 1130.55,243.793 1219.84,229.533 1299.94,191.164 1309.13,186.452 1398.42,107.291 1443.64,47.2441 1398.42,47.2441 1309.13,47.2441 \n",
       "  1219.84,47.2441 1130.55,47.2441 1041.25,47.2441 951.961,47.2441 862.669,47.2441 773.378,47.2441 817.445,47.2441 862.669,108.559 951.961,188.353 957.482,191.164 \n",
       "  1041.25,230.665 \n",
       "  \"/>\n",
       "<polyline clip-path=\"url(#clip782)\" style=\"stroke:#000000; stroke-width:4; stroke-opacity:1; fill:none\" points=\"\n",
       "  951.961,83.9739 1041.25,131.588 1130.55,146.612 1219.84,131.027 1309.13,83.4789 1348.51,47.2441 1309.13,47.2441 1219.84,47.2441 1130.55,47.2441 \n",
       "  1041.25,47.2441 951.961,47.2441 862.669,47.2441 912.576,47.2441 951.961,83.9739 \n",
       "  \"/>\n",
       "<defs>\n",
       "  <clipPath id=\"clip783\">\n",
       "    <rect x=\"2160\" y=\"47\" width=\"73\" height=\"1440\"/>\n",
       "  </clipPath>\n",
       "</defs>\n",
       "<path clip-path=\"url(#clip783)\" d=\"\n",
       "M2160.76 1486.45 L2232.76 1486.45 L2232.76 1396.5 L2160.76 1396.5  Z\n",
       "  \" fill=\"#000003\" fill-rule=\"evenodd\" fill-opacity=\"1\"/>\n",
       "<path clip-path=\"url(#clip783)\" d=\"\n",
       "M2160.76 1396.5 L2232.76 1396.5 L2232.76 1306.55 L2160.76 1306.55  Z\n",
       "  \" fill=\"#0b0726\" fill-rule=\"evenodd\" fill-opacity=\"1\"/>\n",
       "<path clip-path=\"url(#clip783)\" d=\"\n",
       "M2160.76 1306.55 L2232.76 1306.55 L2232.76 1216.6 L2160.76 1216.6  Z\n",
       "  \" fill=\"#240b4e\" fill-rule=\"evenodd\" fill-opacity=\"1\"/>\n",
       "<path clip-path=\"url(#clip783)\" d=\"\n",
       "M2160.76 1216.6 L2232.76 1216.6 L2232.76 1126.65 L2160.76 1126.65  Z\n",
       "  \" fill=\"#410967\" fill-rule=\"evenodd\" fill-opacity=\"1\"/>\n",
       "<path clip-path=\"url(#clip783)\" d=\"\n",
       "M2160.76 1126.65 L2232.76 1126.65 L2232.76 1036.7 L2160.76 1036.7  Z\n",
       "  \" fill=\"#5d126e\" fill-rule=\"evenodd\" fill-opacity=\"1\"/>\n",
       "<path clip-path=\"url(#clip783)\" d=\"\n",
       "M2160.76 1036.7 L2232.76 1036.7 L2232.76 946.746 L2160.76 946.746  Z\n",
       "  \" fill=\"#781c6d\" fill-rule=\"evenodd\" fill-opacity=\"1\"/>\n",
       "<path clip-path=\"url(#clip783)\" d=\"\n",
       "M2160.76 946.746 L2232.76 946.746 L2232.76 856.796 L2160.76 856.796  Z\n",
       "  \" fill=\"#932567\" fill-rule=\"evenodd\" fill-opacity=\"1\"/>\n",
       "<path clip-path=\"url(#clip783)\" d=\"\n",
       "M2160.76 856.796 L2232.76 856.796 L2232.76 766.846 L2160.76 766.846  Z\n",
       "  \" fill=\"#ae305b\" fill-rule=\"evenodd\" fill-opacity=\"1\"/>\n",
       "<path clip-path=\"url(#clip783)\" d=\"\n",
       "M2160.76 766.846 L2232.76 766.846 L2232.76 676.896 L2160.76 676.896  Z\n",
       "  \" fill=\"#c73e4c\" fill-rule=\"evenodd\" fill-opacity=\"1\"/>\n",
       "<path clip-path=\"url(#clip783)\" d=\"\n",
       "M2160.76 676.896 L2232.76 676.896 L2232.76 586.946 L2160.76 586.946  Z\n",
       "  \" fill=\"#dc5039\" fill-rule=\"evenodd\" fill-opacity=\"1\"/>\n",
       "<path clip-path=\"url(#clip783)\" d=\"\n",
       "M2160.76 586.946 L2232.76 586.946 L2232.76 496.995 L2160.76 496.995  Z\n",
       "  \" fill=\"#ed6825\" fill-rule=\"evenodd\" fill-opacity=\"1\"/>\n",
       "<path clip-path=\"url(#clip783)\" d=\"\n",
       "M2160.76 496.995 L2232.76 496.995 L2232.76 407.045 L2160.76 407.045  Z\n",
       "  \" fill=\"#f7850e\" fill-rule=\"evenodd\" fill-opacity=\"1\"/>\n",
       "<path clip-path=\"url(#clip783)\" d=\"\n",
       "M2160.76 407.045 L2232.76 407.045 L2232.76 317.095 L2160.76 317.095  Z\n",
       "  \" fill=\"#fba40a\" fill-rule=\"evenodd\" fill-opacity=\"1\"/>\n",
       "<path clip-path=\"url(#clip783)\" d=\"\n",
       "M2160.76 317.095 L2232.76 317.095 L2232.76 227.145 L2160.76 227.145  Z\n",
       "  \" fill=\"#f9c52c\" fill-rule=\"evenodd\" fill-opacity=\"1\"/>\n",
       "<path clip-path=\"url(#clip783)\" d=\"\n",
       "M2160.76 227.145 L2232.76 227.145 L2232.76 137.194 L2160.76 137.194  Z\n",
       "  \" fill=\"#f2e660\" fill-rule=\"evenodd\" fill-opacity=\"1\"/>\n",
       "<path clip-path=\"url(#clip783)\" d=\"\n",
       "M2160.76 137.194 L2232.76 137.194 L2232.76 47.2441 L2160.76 47.2441  Z\n",
       "  \" fill=\"#fcfea4\" fill-rule=\"evenodd\" fill-opacity=\"1\"/>\n",
       "<path clip-path=\"url(#clip780)\" d=\"M 0 0 M2280.7 1468.62 Q2277.09 1468.62 2275.26 1472.18 Q2273.45 1475.72 2273.45 1482.85 Q2273.45 1489.96 2275.26 1493.53 Q2277.09 1497.07 2280.7 1497.07 Q2284.33 1497.07 2286.14 1493.53 Q2287.97 1489.96 2287.97 1482.85 Q2287.97 1475.72 2286.14 1472.18 Q2284.33 1468.62 2280.7 1468.62 M2280.7 1464.91 Q2286.51 1464.91 2289.57 1469.52 Q2292.64 1474.1 2292.64 1482.85 Q2292.64 1491.58 2289.57 1496.19 Q2286.51 1500.77 2280.7 1500.77 Q2274.89 1500.77 2271.81 1496.19 Q2268.76 1491.58 2268.76 1482.85 Q2268.76 1474.1 2271.81 1469.52 Q2274.89 1464.91 2280.7 1464.91 Z\" fill=\"#000000\" fill-rule=\"evenodd\" fill-opacity=\"1\" /><path clip-path=\"url(#clip780)\" d=\"M 0 0 M2280.7 1324.7 Q2277.09 1324.7 2275.26 1328.26 Q2273.45 1331.8 2273.45 1338.93 Q2273.45 1346.04 2275.26 1349.6 Q2277.09 1353.15 2280.7 1353.15 Q2284.33 1353.15 2286.14 1349.6 Q2287.97 1346.04 2287.97 1338.93 Q2287.97 1331.8 2286.14 1328.26 Q2284.33 1324.7 2280.7 1324.7 M2280.7 1320.99 Q2286.51 1320.99 2289.57 1325.6 Q2292.64 1330.18 2292.64 1338.93 Q2292.64 1347.66 2289.57 1352.27 Q2286.51 1356.85 2280.7 1356.85 Q2274.89 1356.85 2271.81 1352.27 Q2268.76 1347.66 2268.76 1338.93 Q2268.76 1330.18 2271.81 1325.6 Q2274.89 1320.99 2280.7 1320.99 Z\" fill=\"#000000\" fill-rule=\"evenodd\" fill-opacity=\"1\" /><path clip-path=\"url(#clip780)\" d=\"M 0 0 M2297.71 1350.3 L2302.6 1350.3 L2302.6 1356.18 L2297.71 1356.18 L2297.71 1350.3 Z\" fill=\"#000000\" fill-rule=\"evenodd\" fill-opacity=\"1\" /><path clip-path=\"url(#clip780)\" d=\"M 0 0 M2308.48 1352.24 L2316.12 1352.24 L2316.12 1325.88 L2307.81 1327.54 L2307.81 1323.29 L2316.07 1321.62 L2320.75 1321.62 L2320.75 1352.24 L2328.39 1352.24 L2328.39 1356.18 L2308.48 1356.18 L2308.48 1352.24 Z\" fill=\"#000000\" fill-rule=\"evenodd\" fill-opacity=\"1\" /><path clip-path=\"url(#clip780)\" d=\"M 0 0 M2280.7 1180.78 Q2277.09 1180.78 2275.26 1184.34 Q2273.45 1187.88 2273.45 1195.01 Q2273.45 1202.12 2275.26 1205.68 Q2277.09 1209.23 2280.7 1209.23 Q2284.33 1209.23 2286.14 1205.68 Q2287.97 1202.12 2287.97 1195.01 Q2287.97 1187.88 2286.14 1184.34 Q2284.33 1180.78 2280.7 1180.78 M2280.7 1177.07 Q2286.51 1177.07 2289.57 1181.68 Q2292.64 1186.26 2292.64 1195.01 Q2292.64 1203.74 2289.57 1208.35 Q2286.51 1212.93 2280.7 1212.93 Q2274.89 1212.93 2271.81 1208.35 Q2268.76 1203.74 2268.76 1195.01 Q2268.76 1186.26 2271.81 1181.68 Q2274.89 1177.07 2280.7 1177.07 Z\" fill=\"#000000\" fill-rule=\"evenodd\" fill-opacity=\"1\" /><path clip-path=\"url(#clip780)\" d=\"M 0 0 M2297.71 1206.38 L2302.6 1206.38 L2302.6 1212.26 L2297.71 1212.26 L2297.71 1206.38 Z\" fill=\"#000000\" fill-rule=\"evenodd\" fill-opacity=\"1\" /><path clip-path=\"url(#clip780)\" d=\"M 0 0 M2311.7 1208.32 L2328.01 1208.32 L2328.01 1212.26 L2306.07 1212.26 L2306.07 1208.32 Q2308.73 1205.57 2313.32 1200.94 Q2317.92 1196.29 2319.1 1194.94 Q2321.35 1192.42 2322.23 1190.68 Q2323.13 1188.93 2323.13 1187.24 Q2323.13 1184.48 2321.19 1182.74 Q2319.26 1181.01 2316.16 1181.01 Q2313.96 1181.01 2311.51 1181.77 Q2309.08 1182.54 2306.3 1184.09 L2306.3 1179.36 Q2309.13 1178.23 2311.58 1177.65 Q2314.03 1177.07 2316.07 1177.07 Q2321.44 1177.07 2324.64 1179.76 Q2327.83 1182.44 2327.83 1186.93 Q2327.83 1189.06 2327.02 1190.99 Q2326.23 1192.88 2324.13 1195.48 Q2323.55 1196.15 2320.45 1199.36 Q2317.34 1202.56 2311.7 1208.32 Z\" fill=\"#000000\" fill-rule=\"evenodd\" fill-opacity=\"1\" /><path clip-path=\"url(#clip780)\" d=\"M 0 0 M2280.7 1036.86 Q2277.09 1036.86 2275.26 1040.42 Q2273.45 1043.96 2273.45 1051.09 Q2273.45 1058.2 2275.26 1061.76 Q2277.09 1065.31 2280.7 1065.31 Q2284.33 1065.31 2286.14 1061.76 Q2287.97 1058.2 2287.97 1051.09 Q2287.97 1043.96 2286.14 1040.42 Q2284.33 1036.86 2280.7 1036.86 M2280.7 1033.15 Q2286.51 1033.15 2289.57 1037.76 Q2292.64 1042.34 2292.64 1051.09 Q2292.64 1059.82 2289.57 1064.43 Q2286.51 1069.01 2280.7 1069.01 Q2274.89 1069.01 2271.81 1064.43 Q2268.76 1059.82 2268.76 1051.09 Q2268.76 1042.34 2271.81 1037.76 Q2274.89 1033.15 2280.7 1033.15 Z\" fill=\"#000000\" fill-rule=\"evenodd\" fill-opacity=\"1\" /><path clip-path=\"url(#clip780)\" d=\"M 0 0 M2297.71 1062.46 L2302.6 1062.46 L2302.6 1068.34 L2297.71 1068.34 L2297.71 1062.46 Z\" fill=\"#000000\" fill-rule=\"evenodd\" fill-opacity=\"1\" /><path clip-path=\"url(#clip780)\" d=\"M 0 0 M2321.83 1049.7 Q2325.19 1050.42 2327.07 1052.69 Q2328.96 1054.96 2328.96 1058.29 Q2328.96 1063.41 2325.45 1066.21 Q2321.93 1069.01 2315.45 1069.01 Q2313.27 1069.01 2310.95 1068.57 Q2308.66 1068.15 2306.21 1067.3 L2306.21 1062.78 Q2308.15 1063.92 2310.47 1064.5 Q2312.78 1065.07 2315.31 1065.07 Q2319.7 1065.07 2322 1063.34 Q2324.31 1061.6 2324.31 1058.29 Q2324.31 1055.24 2322.16 1053.52 Q2320.03 1051.79 2316.21 1051.79 L2312.18 1051.79 L2312.18 1047.94 L2316.39 1047.94 Q2319.84 1047.94 2321.67 1046.58 Q2323.5 1045.19 2323.5 1042.6 Q2323.5 1039.94 2321.6 1038.52 Q2319.73 1037.09 2316.21 1037.09 Q2314.29 1037.09 2312.09 1037.5 Q2309.89 1037.92 2307.25 1038.8 L2307.25 1034.63 Q2309.91 1033.89 2312.23 1033.52 Q2314.57 1033.15 2316.63 1033.15 Q2321.95 1033.15 2325.05 1035.58 Q2328.15 1037.99 2328.15 1042.11 Q2328.15 1044.98 2326.51 1046.97 Q2324.87 1048.94 2321.83 1049.7 Z\" fill=\"#000000\" fill-rule=\"evenodd\" fill-opacity=\"1\" /><path clip-path=\"url(#clip780)\" d=\"M 0 0 M2280.7 892.936 Q2277.09 892.936 2275.26 896.501 Q2273.45 900.043 2273.45 907.172 Q2273.45 914.279 2275.26 917.844 Q2277.09 921.385 2280.7 921.385 Q2284.33 921.385 2286.14 917.844 Q2287.97 914.279 2287.97 907.172 Q2287.97 900.043 2286.14 896.501 Q2284.33 892.936 2280.7 892.936 M2280.7 889.233 Q2286.51 889.233 2289.57 893.839 Q2292.64 898.422 2292.64 907.172 Q2292.64 915.899 2289.57 920.506 Q2286.51 925.089 2280.7 925.089 Q2274.89 925.089 2271.81 920.506 Q2268.76 915.899 2268.76 907.172 Q2268.76 898.422 2271.81 893.839 Q2274.89 889.233 2280.7 889.233 Z\" fill=\"#000000\" fill-rule=\"evenodd\" fill-opacity=\"1\" /><path clip-path=\"url(#clip780)\" d=\"M 0 0 M2297.71 918.538 L2302.6 918.538 L2302.6 924.418 L2297.71 924.418 L2297.71 918.538 Z\" fill=\"#000000\" fill-rule=\"evenodd\" fill-opacity=\"1\" /><path clip-path=\"url(#clip780)\" d=\"M 0 0 M2320.51 893.932 L2308.71 912.381 L2320.51 912.381 L2320.51 893.932 M2319.29 889.858 L2325.17 889.858 L2325.17 912.381 L2330.1 912.381 L2330.1 916.269 L2325.17 916.269 L2325.17 924.418 L2320.51 924.418 L2320.51 916.269 L2304.91 916.269 L2304.91 911.756 L2319.29 889.858 Z\" fill=\"#000000\" fill-rule=\"evenodd\" fill-opacity=\"1\" /><path clip-path=\"url(#clip780)\" d=\"M 0 0 M2280.7 749.016 Q2277.09 749.016 2275.26 752.581 Q2273.45 756.122 2273.45 763.252 Q2273.45 770.358 2275.26 773.923 Q2277.09 777.465 2280.7 777.465 Q2284.33 777.465 2286.14 773.923 Q2287.97 770.358 2287.97 763.252 Q2287.97 756.122 2286.14 752.581 Q2284.33 749.016 2280.7 749.016 M2280.7 745.312 Q2286.51 745.312 2289.57 749.919 Q2292.64 754.502 2292.64 763.252 Q2292.64 771.979 2289.57 776.585 Q2286.51 781.168 2280.7 781.168 Q2274.89 781.168 2271.81 776.585 Q2268.76 771.979 2268.76 763.252 Q2268.76 754.502 2271.81 749.919 Q2274.89 745.312 2280.7 745.312 Z\" fill=\"#000000\" fill-rule=\"evenodd\" fill-opacity=\"1\" /><path clip-path=\"url(#clip780)\" d=\"M 0 0 M2297.71 774.618 L2302.6 774.618 L2302.6 780.497 L2297.71 780.497 L2297.71 774.618 Z\" fill=\"#000000\" fill-rule=\"evenodd\" fill-opacity=\"1\" /><path clip-path=\"url(#clip780)\" d=\"M 0 0 M2307.71 745.937 L2326.07 745.937 L2326.07 749.872 L2312 749.872 L2312 758.345 Q2313.01 757.997 2314.03 757.835 Q2315.05 757.65 2316.07 757.65 Q2321.86 757.65 2325.24 760.821 Q2328.62 763.993 2328.62 769.409 Q2328.62 774.988 2325.14 778.09 Q2321.67 781.168 2315.35 781.168 Q2313.18 781.168 2310.91 780.798 Q2308.66 780.428 2306.26 779.687 L2306.26 774.988 Q2308.34 776.122 2310.56 776.678 Q2312.78 777.233 2315.26 777.233 Q2319.26 777.233 2321.6 775.127 Q2323.94 773.02 2323.94 769.409 Q2323.94 765.798 2321.6 763.692 Q2319.26 761.585 2315.26 761.585 Q2313.39 761.585 2311.51 762.002 Q2309.66 762.419 2307.71 763.298 L2307.71 745.937 Z\" fill=\"#000000\" fill-rule=\"evenodd\" fill-opacity=\"1\" /><path clip-path=\"url(#clip780)\" d=\"M 0 0 M2280.7 605.095 Q2277.09 605.095 2275.26 608.66 Q2273.45 612.202 2273.45 619.332 Q2273.45 626.438 2275.26 630.003 Q2277.09 633.544 2280.7 633.544 Q2284.33 633.544 2286.14 630.003 Q2287.97 626.438 2287.97 619.332 Q2287.97 612.202 2286.14 608.66 Q2284.33 605.095 2280.7 605.095 M2280.7 601.392 Q2286.51 601.392 2289.57 605.998 Q2292.64 610.582 2292.64 619.332 Q2292.64 628.058 2289.57 632.665 Q2286.51 637.248 2280.7 637.248 Q2274.89 637.248 2271.81 632.665 Q2268.76 628.058 2268.76 619.332 Q2268.76 610.582 2271.81 605.998 Q2274.89 601.392 2280.7 601.392 Z\" fill=\"#000000\" fill-rule=\"evenodd\" fill-opacity=\"1\" /><path clip-path=\"url(#clip780)\" d=\"M 0 0 M2297.71 630.697 L2302.6 630.697 L2302.6 636.577 L2297.71 636.577 L2297.71 630.697 Z\" fill=\"#000000\" fill-rule=\"evenodd\" fill-opacity=\"1\" /><path clip-path=\"url(#clip780)\" d=\"M 0 0 M2318.25 617.433 Q2315.1 617.433 2313.25 619.586 Q2311.42 621.739 2311.42 625.489 Q2311.42 629.216 2313.25 631.392 Q2315.1 633.544 2318.25 633.544 Q2321.39 633.544 2323.22 631.392 Q2325.08 629.216 2325.08 625.489 Q2325.08 621.739 2323.22 619.586 Q2321.39 617.433 2318.25 617.433 M2327.53 602.781 L2327.53 607.04 Q2325.77 606.207 2323.96 605.767 Q2322.18 605.327 2320.42 605.327 Q2315.79 605.327 2313.34 608.452 Q2310.91 611.577 2310.56 617.896 Q2311.93 615.882 2313.99 614.818 Q2316.05 613.73 2318.52 613.73 Q2323.73 613.73 2326.74 616.901 Q2329.77 620.049 2329.77 625.489 Q2329.77 630.813 2326.63 634.031 Q2323.48 637.248 2318.25 637.248 Q2312.25 637.248 2309.08 632.665 Q2305.91 628.058 2305.91 619.332 Q2305.91 611.137 2309.8 606.276 Q2313.69 601.392 2320.24 601.392 Q2322 601.392 2323.78 601.739 Q2325.58 602.086 2327.53 602.781 Z\" fill=\"#000000\" fill-rule=\"evenodd\" fill-opacity=\"1\" /><path clip-path=\"url(#clip780)\" d=\"M 0 0 M2280.7 461.175 Q2277.09 461.175 2275.26 464.74 Q2273.45 468.282 2273.45 475.411 Q2273.45 482.518 2275.26 486.082 Q2277.09 489.624 2280.7 489.624 Q2284.33 489.624 2286.14 486.082 Q2287.97 482.518 2287.97 475.411 Q2287.97 468.282 2286.14 464.74 Q2284.33 461.175 2280.7 461.175 M2280.7 457.471 Q2286.51 457.471 2289.57 462.078 Q2292.64 466.661 2292.64 475.411 Q2292.64 484.138 2289.57 488.744 Q2286.51 493.328 2280.7 493.328 Q2274.89 493.328 2271.81 488.744 Q2268.76 484.138 2268.76 475.411 Q2268.76 466.661 2271.81 462.078 Q2274.89 457.471 2280.7 457.471 Z\" fill=\"#000000\" fill-rule=\"evenodd\" fill-opacity=\"1\" /><path clip-path=\"url(#clip780)\" d=\"M 0 0 M2297.71 486.777 L2302.6 486.777 L2302.6 492.656 L2297.71 492.656 L2297.71 486.777 Z\" fill=\"#000000\" fill-rule=\"evenodd\" fill-opacity=\"1\" /><path clip-path=\"url(#clip780)\" d=\"M 0 0 M2306.49 458.096 L2328.71 458.096 L2328.71 460.087 L2316.16 492.656 L2311.28 492.656 L2323.08 462.032 L2306.49 462.032 L2306.49 458.096 Z\" fill=\"#000000\" fill-rule=\"evenodd\" fill-opacity=\"1\" /><path clip-path=\"url(#clip780)\" d=\"M 0 0 M2280.7 317.255 Q2277.09 317.255 2275.26 320.82 Q2273.45 324.361 2273.45 331.491 Q2273.45 338.597 2275.26 342.162 Q2277.09 345.704 2280.7 345.704 Q2284.33 345.704 2286.14 342.162 Q2287.97 338.597 2287.97 331.491 Q2287.97 324.361 2286.14 320.82 Q2284.33 317.255 2280.7 317.255 M2280.7 313.551 Q2286.51 313.551 2289.57 318.158 Q2292.64 322.741 2292.64 331.491 Q2292.64 340.218 2289.57 344.824 Q2286.51 349.407 2280.7 349.407 Q2274.89 349.407 2271.81 344.824 Q2268.76 340.218 2268.76 331.491 Q2268.76 322.741 2271.81 318.158 Q2274.89 313.551 2280.7 313.551 Z\" fill=\"#000000\" fill-rule=\"evenodd\" fill-opacity=\"1\" /><path clip-path=\"url(#clip780)\" d=\"M 0 0 M2297.71 342.856 L2302.6 342.856 L2302.6 348.736 L2297.71 348.736 L2297.71 342.856 Z\" fill=\"#000000\" fill-rule=\"evenodd\" fill-opacity=\"1\" /><path clip-path=\"url(#clip780)\" d=\"M 0 0 M2317.67 332.324 Q2314.33 332.324 2312.41 334.106 Q2310.51 335.889 2310.51 339.014 Q2310.51 342.139 2312.41 343.921 Q2314.33 345.704 2317.67 345.704 Q2321 345.704 2322.92 343.921 Q2324.84 342.116 2324.84 339.014 Q2324.84 335.889 2322.92 334.106 Q2321.02 332.324 2317.67 332.324 M2312.99 330.333 Q2309.98 329.593 2308.29 327.532 Q2306.63 325.472 2306.63 322.509 Q2306.63 318.366 2309.57 315.958 Q2312.53 313.551 2317.67 313.551 Q2322.83 313.551 2325.77 315.958 Q2328.71 318.366 2328.71 322.509 Q2328.71 325.472 2327.02 327.532 Q2325.35 329.593 2322.37 330.333 Q2325.75 331.12 2327.62 333.412 Q2329.52 335.704 2329.52 339.014 Q2329.52 344.037 2326.44 346.722 Q2323.39 349.407 2317.67 349.407 Q2311.95 349.407 2308.87 346.722 Q2305.82 344.037 2305.82 339.014 Q2305.82 335.704 2307.71 333.412 Q2309.61 331.12 2312.99 330.333 M2311.28 322.949 Q2311.28 325.634 2312.95 327.139 Q2314.64 328.644 2317.67 328.644 Q2320.68 328.644 2322.37 327.139 Q2324.08 325.634 2324.08 322.949 Q2324.08 320.264 2322.37 318.759 Q2320.68 317.255 2317.67 317.255 Q2314.64 317.255 2312.95 318.759 Q2311.28 320.264 2311.28 322.949 Z\" fill=\"#000000\" fill-rule=\"evenodd\" fill-opacity=\"1\" /><path clip-path=\"url(#clip780)\" d=\"M 0 0 M2280.7 173.334 Q2277.09 173.334 2275.26 176.899 Q2273.45 180.441 2273.45 187.57 Q2273.45 194.677 2275.26 198.242 Q2277.09 201.783 2280.7 201.783 Q2284.33 201.783 2286.14 198.242 Q2287.97 194.677 2287.97 187.57 Q2287.97 180.441 2286.14 176.899 Q2284.33 173.334 2280.7 173.334 M2280.7 169.631 Q2286.51 169.631 2289.57 174.237 Q2292.64 178.82 2292.64 187.57 Q2292.64 196.297 2289.57 200.904 Q2286.51 205.487 2280.7 205.487 Q2274.89 205.487 2271.81 200.904 Q2268.76 196.297 2268.76 187.57 Q2268.76 178.82 2271.81 174.237 Q2274.89 169.631 2280.7 169.631 Z\" fill=\"#000000\" fill-rule=\"evenodd\" fill-opacity=\"1\" /><path clip-path=\"url(#clip780)\" d=\"M 0 0 M2297.71 198.936 L2302.6 198.936 L2302.6 204.816 L2297.71 204.816 L2297.71 198.936 Z\" fill=\"#000000\" fill-rule=\"evenodd\" fill-opacity=\"1\" /><path clip-path=\"url(#clip780)\" d=\"M 0 0 M2307.81 204.098 L2307.81 199.839 Q2309.57 200.672 2311.37 201.112 Q2313.18 201.552 2314.91 201.552 Q2319.54 201.552 2321.97 198.45 Q2324.43 195.325 2324.77 188.982 Q2323.43 190.973 2321.37 192.038 Q2319.31 193.103 2316.81 193.103 Q2311.63 193.103 2308.59 189.978 Q2305.58 186.83 2305.58 181.39 Q2305.58 176.066 2308.73 172.848 Q2311.88 169.631 2317.11 169.631 Q2323.11 169.631 2326.26 174.237 Q2329.43 178.82 2329.43 187.57 Q2329.43 195.742 2325.54 200.626 Q2321.67 205.487 2315.12 205.487 Q2313.36 205.487 2311.56 205.14 Q2309.75 204.793 2307.81 204.098 M2317.11 189.445 Q2320.26 189.445 2322.09 187.293 Q2323.94 185.14 2323.94 181.39 Q2323.94 177.663 2322.09 175.51 Q2320.26 173.334 2317.11 173.334 Q2313.96 173.334 2312.11 175.51 Q2310.28 177.663 2310.28 181.39 Q2310.28 185.14 2312.11 187.293 Q2313.96 189.445 2317.11 189.445 Z\" fill=\"#000000\" fill-rule=\"evenodd\" fill-opacity=\"1\" /><path clip-path=\"url(#clip780)\" d=\"M 0 0 M2269.43 56.9601 L2277.07 56.9601 L2277.07 30.5945 L2268.76 32.2612 L2268.76 28.002 L2277.02 26.3353 L2281.7 26.3353 L2281.7 56.9601 L2289.33 56.9601 L2289.33 60.8953 L2269.43 60.8953 L2269.43 56.9601 Z\" fill=\"#000000\" fill-rule=\"evenodd\" fill-opacity=\"1\" /><path clip-path=\"url(#clip780)\" d=\"M 0 0 M2294.4 55.0157 L2299.29 55.0157 L2299.29 60.8953 L2294.4 60.8953 L2294.4 55.0157 Z\" fill=\"#000000\" fill-rule=\"evenodd\" fill-opacity=\"1\" /><path clip-path=\"url(#clip780)\" d=\"M 0 0 M2314.36 29.414 Q2310.75 29.414 2308.92 32.9788 Q2307.11 36.5204 2307.11 43.65 Q2307.11 50.7565 2308.92 54.3213 Q2310.75 57.8629 2314.36 57.8629 Q2317.99 57.8629 2319.8 54.3213 Q2321.63 50.7565 2321.63 43.65 Q2321.63 36.5204 2319.8 32.9788 Q2317.99 29.414 2314.36 29.414 M2314.36 25.7103 Q2320.17 25.7103 2323.22 30.3168 Q2326.3 34.9001 2326.3 43.65 Q2326.3 52.3768 2323.22 56.9833 Q2320.17 61.5666 2314.36 61.5666 Q2308.55 61.5666 2305.47 56.9833 Q2302.41 52.3768 2302.41 43.65 Q2302.41 34.9001 2305.47 30.3168 Q2308.55 25.7103 2314.36 25.7103 Z\" fill=\"#000000\" fill-rule=\"evenodd\" fill-opacity=\"1\" /><polyline clip-path=\"url(#clip780)\" style=\"stroke:#000000; stroke-width:4; stroke-opacity:1; fill:none\" points=\"\n",
       "  2232.76,1486.45 2232.76,1486.45 2256.76,1486.45 2232.76,1486.45 2232.76,1342.53 2256.76,1342.53 2232.76,1342.53 2232.76,1198.61 2256.76,1198.61 2232.76,1198.61 \n",
       "  2232.76,1054.69 2256.76,1054.69 2232.76,1054.69 2232.76,910.766 2256.76,910.766 2232.76,910.766 2232.76,766.846 2256.76,766.846 2232.76,766.846 2232.76,622.926 \n",
       "  2256.76,622.926 2232.76,622.926 2232.76,479.005 2256.76,479.005 2232.76,479.005 2232.76,335.085 2256.76,335.085 2232.76,335.085 2232.76,191.164 2256.76,191.164 \n",
       "  2232.76,191.164 2232.76,47.2441 2256.76,47.2441 2232.76,47.2441 \n",
       "  \"/>\n",
       "</svg>\n"
      ]
     },
     "execution_count": 28,
     "metadata": {},
     "output_type": "execute_result"
    }
   ],
   "source": [
    "contourf(xVecTest, yVecTest, f_pred)"
   ]
  },
  {
   "cell_type": "code",
   "execution_count": null,
   "metadata": {},
   "outputs": [],
   "source": []
  },
  {
   "cell_type": "code",
   "execution_count": 29,
   "metadata": {},
   "outputs": [
    {
     "data": {
      "text/plain": [
       "uxx (generic function with 1 method)"
      ]
     },
     "execution_count": 29,
     "metadata": {},
     "output_type": "execute_result"
    }
   ],
   "source": [
    "ux(x) = mat_split(pullback(u, x)[2](ones(1, 231))[1])[1]\n",
    "uxx(x) = mat_split(pullback(ux, x)[2](ones(1, 231))[1])[1]"
   ]
  },
  {
   "cell_type": "code",
   "execution_count": 30,
   "metadata": {},
   "outputs": [
    {
     "ename": "LoadError",
     "evalue": "Can't differentiate foreigncall expression",
     "output_type": "error",
     "traceback": [
      "Can't differentiate foreigncall expression",
      "",
      "Stacktrace:",
      " [1] error(::String) at ./error.jl:33",
      " [2] get at ./iddict.jl:87 [inlined]",
      " [3] (::typeof(∂(get)))(::Nothing) at /home/vavrines/.julia/packages/Zygote/rqvFi/src/compiler/interface2.jl:0",
      " [4] accum_global at /home/vavrines/.julia/packages/Zygote/rqvFi/src/lib/lib.jl:59 [inlined]",
      " [5] (::typeof(∂(accum_global)))(::Nothing) at /home/vavrines/.julia/packages/Zygote/rqvFi/src/compiler/interface2.jl:0",
      " [6] #121 at /home/vavrines/.julia/packages/Zygote/rqvFi/src/lib/lib.jl:70 [inlined]",
      " [7] (::typeof(∂(λ)))(::Nothing) at /home/vavrines/.julia/packages/Zygote/rqvFi/src/compiler/interface2.jl:0",
      " [8] #1598#back at /home/vavrines/.julia/packages/ZygoteRules/6nssF/src/adjoint.jl:49 [inlined]",
      " [9] (::typeof(∂(λ)))(::Nothing) at /home/vavrines/.julia/packages/Zygote/rqvFi/src/compiler/interface2.jl:0",
      " [10] u at ./In[23]:7 [inlined]",
      " [11] (::typeof(∂(λ)))(::Tuple{Nothing,Array{Float64,2}}) at /home/vavrines/.julia/packages/Zygote/rqvFi/src/compiler/interface2.jl:0",
      " [12] #41 at /home/vavrines/.julia/packages/Zygote/rqvFi/src/compiler/interface.jl:45 [inlined]",
      " [13] (::typeof(∂(λ)))(::Tuple{Array{Float64,2}}) at /home/vavrines/.julia/packages/Zygote/rqvFi/src/compiler/interface2.jl:0",
      " [14] ux at ./In[29]:1 [inlined]",
      " [15] (::typeof(∂(ux)))(::Array{Float64,2}) at /home/vavrines/.julia/packages/Zygote/rqvFi/src/compiler/interface2.jl:0",
      " [16] (::Zygote.var\"#41#42\"{typeof(∂(ux))})(::Array{Float64,2}) at /home/vavrines/.julia/packages/Zygote/rqvFi/src/compiler/interface.jl:45",
      " [17] uxx(::Array{Float32,2}) at ./In[29]:2",
      " [18] top-level scope at In[30]:1",
      " [19] include_string(::Function, ::Module, ::String, ::String) at ./loading.jl:1091"
     ]
    }
   ],
   "source": [
    "uxx(X)"
   ]
  },
  {
   "cell_type": "code",
   "execution_count": 18,
   "metadata": {},
   "outputs": [],
   "source": [
    "using Tracker"
   ]
  },
  {
   "cell_type": "code",
   "execution_count": 19,
   "metadata": {},
   "outputs": [
    {
     "data": {
      "text/plain": [
       "uyy (generic function with 1 method)"
      ]
     },
     "execution_count": 19,
     "metadata": {},
     "output_type": "execute_result"
    }
   ],
   "source": [
    "ux(x) = mat_split(Tracker.forward(u, x)[2](1)[1])[1]\n",
    "uxx(x) = mat_split(Tracker.forward(ux, x)[2](1)[1])[1]"
   ]
  },
  {
   "cell_type": "code",
   "execution_count": 21,
   "metadata": {},
   "outputs": [
    {
     "data": {
      "text/plain": [
       "1×231 Array{Float32,2}:\n",
       " 0.0  0.0  0.0  0.0  0.0  0.0  0.0  0.0  …  0.0  0.0  0.0  0.0  0.0  0.0  0.0"
      ]
     },
     "execution_count": 21,
     "metadata": {},
     "output_type": "execute_result"
    }
   ],
   "source": [
    "uxx(X)"
   ]
  },
  {
   "cell_type": "code",
   "execution_count": null,
   "metadata": {},
   "outputs": [],
   "source": []
  }
 ],
 "metadata": {
  "kernelspec": {
   "display_name": "Julia 1.5.0",
   "language": "julia",
   "name": "julia-1.5"
  },
  "language_info": {
   "file_extension": ".jl",
   "mimetype": "application/julia",
   "name": "julia",
   "version": "1.5.0"
  }
 },
 "nbformat": 4,
 "nbformat_minor": 4
}
